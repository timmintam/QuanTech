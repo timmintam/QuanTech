{
 "cells": [
  {
   "cell_type": "code",
   "execution_count": 1,
   "id": "fbc296ce",
   "metadata": {},
   "outputs": [],
   "source": [
    "import numpy as np\n",
    "import matplotlib.pyplot as plt\n",
    "\n",
    "from pyscf import ao2mo,gto, scf\n",
    "\n",
    "from typing import Tuple\n",
    "\n",
    "\n",
    "# qiskit\n",
    "from qiskit.algorithms import VQE\n",
    "from qiskit.algorithms.optimizers import COBYLA, SPSA, SLSQP, NELDER_MEAD\n",
    "from qiskit.algorithms import MinimumEigensolverResult\n",
    "\n",
    "from qiskit import IBMQ, BasicAer, Aer\n",
    "from qiskit.utils import QuantumInstance\n",
    "from qiskit.quantum_info.operators import Operator\n",
    "from qiskit.opflow import PauliExpectation, CircuitSampler, StateFn, CircuitStateFn\n",
    "from qiskit.opflow.primitive_ops import PauliOp, PauliSumOp\n",
    "from qiskit.quantum_info import Pauli, SparsePauliOp\n",
    "\n",
    "# qiskit nature\n",
    "from qiskit_nature.second_q.hamiltonians import ElectronicEnergy\n",
    "from qiskit_nature.second_q.mappers import ParityMapper, QubitConverter\n",
    "from qiskit_nature.second_q.problems import ElectronicStructureProblem\n",
    "from qiskit_nature.second_q.operators import FermionicOp\n",
    "from qiskit_nature.second_q.properties import ParticleNumber\n",
    "from qiskit_nature.second_q.transformers import FreezeCoreTransformer\n",
    "from qiskit_nature.second_q.circuit.library import UCCSD, HartreeFock\n",
    "from qiskit_nature.second_q.problems import ElectronicBasis\n",
    "from qiskit_nature.second_q.formats.molecule_info import MoleculeInfo\n",
    "from qiskit_nature.drivers import Molecule\n",
    "from qiskit_nature.drivers.second_quantization import (\n",
    "    ElectronicStructureMoleculeDriver, ElectronicStructureDriverType)\n",
    "\n",
    "from qiskit_nature.settings import settings\n",
    "settings.dict_aux_operators = True\n",
    "\n",
    "#from qiskit import IBMQ\n",
    "#from qiskit_nature.runtime import VQEClient\n",
    "#from qiskit.providers.ibmq import least_busy\n",
    "#from qiskit_ibm_runtime import QiskitRuntimeService, Estimator, Session\n",
    "\n",
    "# useful??\n",
    "#from qiskit_nature.algorithms import (GroundStateEigensolver,\n",
    "#                                      NumPyMinimumEigensolverFactory)\n",
    "from qiskit.circuit.library import EfficientSU2\n",
    "from qiskit.circuit.library import RealAmplitudes\n",
    "from qiskit.utils.mitigation import CompleteMeasFitter\n",
    "from qiskit.providers.aer.noise import NoiseModel\n",
    "from qiskit.providers.aer import QasmSimulator\n",
    "from qiskit import QuantumCircuit, transpile\n",
    "from qiskit.opflow import TwoQubitReduction\n",
    "\n",
    "def get_molecular_integrals(molecule):\n",
    "    '''\n",
    "    Calculates the 1-electron and 2-electron integrals.\n",
    "    \n",
    "    Args:   \n",
    "        molecule : Mole \n",
    "            Ccorresponds to the molecule.\n",
    "            \n",
    "    Returns:\n",
    "        h1_MO : ndarray\n",
    "                Tensor corresponding to the 1-electron integral in the molecular basis.\n",
    "        \n",
    "        h2_MO : ndarray\n",
    "                Tensor corresponding to the 2-electron integral in the molecular basis.\n",
    "\n",
    "        n_particles: Tuple[int, int]\n",
    "            Number of alpha and beta electrons.\n",
    "        \n",
    "        num_orb : int \n",
    "            Number of orbitals.\n",
    "\n",
    "        nuclear_repulsion_energy : float\n",
    "            Nuclear repulsion energy.\n",
    "    '''\n",
    "    \n",
    "    mf = scf.RHF(molecule).run()\n",
    "\n",
    "    # computing the 1e and 2e AO (atomic orbitals) integrals \n",
    "    h1 = molecule.intor_symmetric(\"int1e_nuc\") + molecule.intor_symmetric(\"int1e_kin\") \n",
    "    h2 = molecule.intor(\"int2e\")\n",
    "    # comment : add aosym (axis of symmetry) ???\n",
    "\n",
    "    # transformations from AO to MO (molecular orbitals)\n",
    "    h1_MO = np.einsum('pi,pq,qj->ij', mf.mo_coeff, h1, mf.mo_coeff)\n",
    "    h2_MO = ao2mo.get_mo_eri(h2, mf.mo_coeff)\n",
    "\n",
    "    #h2_MO = ao2mo.kernel(mol_h2, mf.mo_coeff, aosym=\"1\") #alternative\n",
    "\n",
    "    nuclear_repulsion_energy=molecule.energy_nuc()\n",
    "    num_particles = molecule.nelec\n",
    "    num_orb = h1.shape[0]\n",
    "\n",
    "    return h1_MO, h2_MO, num_particles, num_orb, nuclear_repulsion_energy\n",
    "\n",
    "\n",
    "def get_qubit_op(coordinates):\n",
    "    '''\n",
    "    Calculates the Hamiltonian as the sum of Pauli operators as a function\n",
    "    of the coordinates of the atoms.\n",
    "    \n",
    "    Args:\n",
    "        coordinates : ndarray\n",
    "            Array containing the positions of the atoms constituing the molecule.\n",
    "        \n",
    "    \n",
    "    Returns:\n",
    "        qubit_op : PauliSumOp\n",
    "            Sum of Pauli operators corresponding to the Hamiltonian.\n",
    "        \n",
    "        nelec : Tuple[int, int]\n",
    "            Number of alpha and beta electrons.\n",
    "        \n",
    "        norb : int \n",
    "            Number of orbitals.\n",
    "            \n",
    "        problem : ElectronicStructureProblem\n",
    "        \n",
    "        converter : QubitConverter\n",
    "    '''\n",
    "    \n",
    "    mol = gto.M(\n",
    "                atom = [['H',(coordinates[0], coordinates[1], 0.0)], \n",
    "                        ['H',(coordinates[2], coordinates[3], 0.0)],\n",
    "                        ['H',(coordinates[4], coordinates[5], 0.0)]],\n",
    "                basis = 'sto3g',\n",
    "                charge = 1,\n",
    "                spin = 0,\n",
    "                symmetry = True,\n",
    "                verbose = 2 # control the print level of PySCF globally\n",
    "    )\n",
    "\n",
    "    h1_MO,h2_MO,nelec,norb,ecore = get_molecular_integrals(mol)\n",
    "\n",
    "    # Define an ElectronicEnergy instance containing the 1e and 2e integrals\n",
    "    electronic_energy = ElectronicEnergy.from_raw_integrals(\n",
    "            h1_MO, ao2mo.restore(1, h2_MO, norb)\n",
    "        )\n",
    "    electronic_energy.nuclear_repulsion_energy = ecore\n",
    "\n",
    "    # Define an ElectronicStructureProblem\n",
    "    problem = ElectronicStructureProblem(electronic_energy)\n",
    "\n",
    "    second_q_ops = problem.second_q_ops()     # get second quantized operators\n",
    "    problem.num_spatial_orbitals = norb  # define number of orbitals\n",
    "    problem.num_particles = nelec        # define number of particles \n",
    "    \n",
    "    problem.basis = ElectronicBasis.MO \n",
    "    \n",
    "    problem.molecule=MoleculeInfo(symbols=[mol.atom_symbol(i) for i in range(mol.nbas)], \n",
    "                                  coords=mol.atom_coords())\n",
    "    FC_transformer=FreezeCoreTransformer(freeze_core=True)\n",
    "    problem = FC_transformer.transform(problem)\n",
    "    \n",
    "    # TODO we need to give info about the molecule to use FreezeCoreTransformer \n",
    "    # question : how to do it in a smart way ? at the initialization ??\n",
    "    \n",
    "    hamiltonian = second_q_ops[0]  # Set electronic part of Hamiltonian\n",
    "    hamiltonian = (hamiltonian + FermionicOp({\"\": ecore}, num_spin_orbitals=norb)) # add Nuclear Repulsion Energy\n",
    "    #print(\"Hamiltonian :\\n\", hamiltonian) # print for checking purposes\n",
    "    \n",
    "    mapper = ParityMapper()  # Set Mapper\n",
    "    \n",
    "    # Do two qubit reduction\n",
    "    converter = QubitConverter(mapper,two_qubit_reduction=True)\n",
    "    qubit_op = converter.convert(hamiltonian, nelec)\n",
    "    #print(\"q_op :\\n\", qubit_op) # print for checking purposes\n",
    "    \n",
    "\n",
    "    return qubit_op, nelec, norb, problem, converter\n",
    "\n",
    "def calc_ground_state(qubit_op,nelec,norb,problem,converter) :\n",
    "    '''\n",
    "    Calculates the ground state and the ground energy of the Hamiltonian.\n",
    "    \n",
    "    Args:\n",
    "        qubit_op : PauliSumOp\n",
    "            Sum of Pauli operators corresponding to the Hamiltonian.\n",
    "        \n",
    "        nelec : Tuple[int, int]\n",
    "            Number of alpha and beta electrons.\n",
    "        \n",
    "        norb : int \n",
    "            Number of orbitals.\n",
    "            \n",
    "        problem : ElectronicStructureProblem\n",
    "        \n",
    "        converter : QubitConverter\n",
    "        \n",
    "    \n",
    "    Returns:\n",
    "        ground_state : CircuitStateFn\n",
    "            Ground state of the Hamiltonian.\n",
    "            \n",
    "        min_eng : float\n",
    "            Ground energy of the Hamiltonian.\n",
    "    '''\n",
    "\n",
    "    backend = BasicAer.get_backend(\"statevector_simulator\")\n",
    "    quantum_instance = QuantumInstance(backend)\n",
    "    optimizer = SLSQP(maxiter=400)\n",
    "\n",
    "    init_state = HartreeFock(num_spatial_orbitals=norb, \n",
    "                                num_particles=nelec, \n",
    "                                qubit_converter=converter\n",
    "                            )\n",
    "    \n",
    "    var_form = UCCSD(qubit_converter=converter,\n",
    "                        num_particles=nelec,\n",
    "                        num_spatial_orbitals=norb, \n",
    "                        initial_state=init_state\n",
    "                        )\n",
    "\n",
    "    vqe = VQE(var_form, optimizer, quantum_instance=quantum_instance) \n",
    "    vqe_result = vqe.compute_minimum_eigenvalue(qubit_op)\n",
    "    min_eng = vqe_result.eigenvalue.real\n",
    "    final_params = vqe_result.optimal_parameters \n",
    "\n",
    "    vqe_ground = vqe.ansatz.bind_parameters(final_params) \n",
    "#     vqe_ground_state = CircuitStateFn(vqe_ground)\n",
    "    \n",
    "    return vqe_ground, min_eng"
   ]
  },
  {
   "cell_type": "code",
   "execution_count": 2,
   "id": "3f5daa79",
   "metadata": {},
   "outputs": [],
   "source": [
    "Ha = 4.36e-18\n",
    "angst = 1.0e-10\n",
    "dR = 0.01 #removed the angst, since coordinates are given in angst\n",
    "\n",
    "\n",
    "from qiskit.opflow import I, X, Y, Z\n",
    "from qiskit.opflow.primitive_ops import PauliOp\n",
    "from qiskit.quantum_info import Pauli\n",
    "#from hamiltonian import calc_ground_state, get_qubit_op\n",
    "import numpy as np\n",
    "from qiskit.utils import QuantumInstance\n",
    "from qiskit.opflow import PauliExpectation, CircuitSampler, StateFn, CircuitStateFn\n",
    "from qiskit import IBMQ, BasicAer, Aer\n",
    "\n",
    "import time #to see which part of code takes the longest\n",
    "import multiprocessing\n",
    "\n",
    "\n",
    "#calculate centre of mass (currently for equal particle masses)\n",
    "def calc_COM(coordinates):\n",
    "    #print(coordinates)\n",
    "    r_array = np.array_split(coordinates,3)\n",
    "    COM = (r_array[0] + r_array[1] + r_array[2])/3\n",
    "    \n",
    "    return COM\n",
    "\n",
    "#task to calculate expectation value\n",
    "def task1(string, q_instance, psi_0):\n",
    "\n",
    "    Obs = PauliOp(Pauli(string))\n",
    "    measurable_expression = StateFn(Obs, is_measurement=True).compose(psi_0)\n",
    "    expectation = PauliExpectation().convert(measurable_expression)  \n",
    "    sampler = CircuitSampler(q_instance).convert(expectation) \n",
    "    E = sampler.eval().real\n",
    "        \n",
    "    return E\n",
    "\n",
    "#task to calculate operator from coordinates\n",
    "def task2(coordinates):\n",
    "    \n",
    "    #get qubit operators coresponding to H+ (hamiltonian for atomic distances R + dR)\n",
    "    (qubit_op_plus, num_part_plus, num_orb_plus, problem_plus, converter_plus) = get_qubit_op(coordinates[0])\n",
    "    #get qubit operators coresponding to H- (hamiltonian for atomic distances R - dR)\n",
    "    (qubit_op_minus, num_part_minus, num_orb_minus, problem_minus, converter_minus) = get_qubit_op(coordinates[1])\n",
    "        \n",
    "    qubit_op_plus = qubit_op_plus #TODO:number of I's needs to be changed according to number of qubits\n",
    "    qubit_op_minus = qubit_op_minus\n",
    "       \n",
    "    #op =  (-(qubit_op_plus - qubit_op_minus)).reduce()\n",
    "    op =  -(qubit_op_plus - qubit_op_minus)\n",
    "\n",
    "                    \n",
    "    op_list = op.primitive.to_list() #list containing Pauli operators in support and corresponding coeffs\n",
    "    #print(op_list)    \n",
    "    #construct dict from list\n",
    "    op_dict = {}\n",
    "    for (PauliString,coeff) in op_list:\n",
    "\n",
    "        if PauliString in op_dict:\n",
    "            op_dict[PauliString] += coeff\n",
    "        else:\n",
    "            op_dict[PauliString] = coeff\n",
    "    \n",
    "    return op, op_dict\n",
    " \n",
    "def parallel_operators(coordinates,basis_set):\n",
    "    \n",
    "    \n",
    "    coordinate_list = []\n",
    "    \n",
    "    v0_normed = basis_set[0]\n",
    "    v0_orth = basis_set[1]\n",
    "    \n",
    "    v1_normed = basis_set[2]\n",
    "    v1_orth = basis_set[3]\n",
    "\n",
    "    v2_normed = basis_set[4]\n",
    "    v2_orth = basis_set[5]\n",
    "    \n",
    "    displ_coords_0_a = np.array([v0_normed[0]*dR,v0_normed[1]*dR,0,0,0,0])\n",
    "    displ_coords_0_b = np.array([v0_orth[0]*dR,v0_orth[1]*dR,0,0,0,0])\n",
    "    displ_coords_1_a = np.array([0,0,v1_normed[0]*dR,v1_normed[1]*dR,0,0])\n",
    "    displ_coords_1_b = np.array([0,0,v1_orth[0]*dR,v1_orth[1]*dR,0,0])\n",
    "    displ_coords_2_a = np.array([0,0,0,0,v2_normed[0]*dR,v2_normed[1]*dR])\n",
    "    displ_coords_2_b = np.array([0,0,0,0,v2_orth[0]*dR,v2_orth[1]*dR])\n",
    "\n",
    "    coordinate_list.append([coordinates + displ_coords_0_a,coordinates - displ_coords_0_a])\n",
    "    coordinate_list.append([coordinates + displ_coords_0_b,coordinates - displ_coords_0_b])\n",
    "    coordinate_list.append([coordinates + displ_coords_1_a,coordinates - displ_coords_1_a])\n",
    "    coordinate_list.append([coordinates + displ_coords_1_b,coordinates - displ_coords_1_b])\n",
    "    coordinate_list.append([coordinates + displ_coords_2_a,coordinates - displ_coords_2_a])\n",
    "    coordinate_list.append([coordinates + displ_coords_2_b,coordinates - displ_coords_2_b])\n",
    "    \n",
    "    #dR_list = v0_normed.tolist() + v1_normed.tolist() + v2_normed.tolist()\n",
    "    \n",
    "    dR_list = [dR,dR,dR,dR,dR,dR]\n",
    "    #print(dR_list)\n",
    "    #for i in range(len(coordinates)):\n",
    "        \n",
    "        #coordinate_list.append([coordinates[0:i]+[(coordinates[i]+dR_list[i])]+coordinates[i+1:],coordinates[0:i]+[(coordinates[i]-dR_list[i])]+coordinates[i+1:]])\n",
    "    \n",
    "    #print(coordinate_list)\n",
    "    with multiprocessing.Pool() as pool:\n",
    "         ops,op_coeffs = zip(*pool.map(task2, coordinate_list))\n",
    "    \n",
    "    #print(ops)\n",
    "    return ops, op_coeffs\n",
    "\n",
    "def sequential_operators(coordinates):\n",
    "    ops = []\n",
    "    op_coeffs = []\n",
    "    \n",
    "    for i in range(len(coordinates)):\n",
    "        \n",
    "        #get qubit operators coresponding to H+ (hamiltonian for atomic distances R + dR)\n",
    "        (qubit_op_plus, num_part_plus, num_orb_plus, problem_plus, converter_plus) = get_qubit_op(coordinates[0:i]+[(coordinates[i]+dR)]+coordinates[i+1:])\n",
    "        #get qubit operators coresponding to H- (hamiltonian for atomic distances R - dR)\n",
    "        (qubit_op_minus, num_part_minus, num_orb_minus, problem_minus, converter_minus) = get_qubit_op(coordinates[0:i]+[(coordinates[i]-dR)]+coordinates[i+1:])\n",
    "\n",
    "        rep_eng_plus = problem_plus.grouped_property_transformed.get_property(\"ElectronicEnergy\").nuclear_repulsion_energy\n",
    "        rep_eng_minus  = problem_minus.grouped_property_transformed.get_property(\"ElectronicEnergy\").nuclear_repulsion_energy\n",
    "        \n",
    "        qubit_op_plus = qubit_op_plus + rep_eng_plus*(I^I^I^I) #TODO:number of I's needs to be changed according to number of qubits\n",
    "        qubit_op_minus = qubit_op_minus + rep_eng_minus*(I^I^I^I)\n",
    "        \n",
    "       \n",
    "        op =  -(qubit_op_plus - qubit_op_minus).reduce()\n",
    "                    \n",
    "        op_list = op.primitive.to_list() #list containing Pauli operators in support and corresponding coeffs\n",
    "        \n",
    "        #construct dict from list\n",
    "        op_dict = {}\n",
    "        for (PauliString,coeff) in op_list:\n",
    "\n",
    "            if PauliString in op_dict:\n",
    "                op_dict[PauliString] += coeff\n",
    "            else:\n",
    "                op_dict[PauliString] = coeff\n",
    "                \n",
    "        ops.append(op)\n",
    "        op_coeffs.append(op_dict)\n",
    "    #print(ops)\n",
    "    return ops, op_coeffs\n",
    "\n",
    "def parallel_expectations(exp_dict, op_set, q_instance, psi_0):\n",
    "\n",
    "    triples = []\n",
    "    for op in op_set:\n",
    "        triple = (op,q_instance,psi_0)\n",
    "        triples.append(triple)\n",
    "\n",
    "    Es = 0\n",
    "    with multiprocessing.Pool() as pool:\n",
    "        Es = pool.starmap(task1, triples)\n",
    "\n",
    "    for i in range(len(Es)):\n",
    "        exp_dict[triples[i][0]]=Es[i]\n",
    "\n",
    "    return 0\n",
    "\n",
    "def sequential_expectations(exp_dict, op_set, q_instance, psi_0):\n",
    "\n",
    "    for pauli_string in op_set:\n",
    "        \n",
    "        Obs = PauliOp(Pauli(pauli_string))\n",
    "        measurable_expression = StateFn(Obs, is_measurement=True).compose(psi_0)\n",
    "        expectation = PauliExpectation().convert(measurable_expression)  \n",
    "        sampler = CircuitSampler(q_instance).convert(expectation) \n",
    "        E = sampler.eval().real\n",
    "        exp_dict[pauli_string] = E\n",
    "\n",
    "    return 0\n",
    "\n",
    "def get_psi_0(coordinates, simulator='qasm',shots=1028):\n",
    "\n",
    "    #get qubit operator corresponding to H(R)\n",
    "    (qubit_op, num_part, num_orb, problem, converter) = get_qubit_op(coordinates)\n",
    "    \n",
    "    #get the ground state of H(R)\n",
    "    psi_0,_ = calc_ground_state(qubit_op,num_part, num_orb, problem, converter)\n",
    "    \n",
    "    psi_0 = CircuitStateFn(psi_0)\n",
    "\n",
    "    return psi_0\n",
    "\n",
    "def calc_force_and_cov(coordinates, simulator = 'qasm', PauliSet = None, mode = 'full', shots = 128, basis_set_this=None):\n",
    "  \n",
    "    \n",
    "    if simulator == 'qasm':\n",
    "            backend = Aer.get_backend('qasm_simulator')\n",
    "            #backend.set_options(max_job_size=1, executor = euler_client)\n",
    "            q_instance = QuantumInstance(backend, shots=shots)\n",
    "    elif simulator == \"exact\":\n",
    "            backend = BasicAer.get_backend(\"statevector_simulator\")\n",
    "            q_instance = QuantumInstance(backend)\n",
    "    else:\n",
    "        print('Error: simulator should be qasm or exact!')\n",
    "        \n",
    "    num_coord = len(coordinates)   \n",
    "    \n",
    "    start = time.time()\n",
    "    \n",
    "\n",
    "    psi_0 = get_psi_0(coordinates, simulator = simulator, shots=shots)\n",
    "    \n",
    "    end = time.time()\n",
    "    \n",
    "    \n",
    "    time_psi_0 = end - start\n",
    "    #print(\"Took \" + str(time_psi_0) + \" s to calculate the ground state\")\n",
    "    forces = np.zeros(num_coord)\n",
    "    coordinates = coordinates.tolist()\n",
    "    \n",
    "    \n",
    "    coordinates_this = np.array(coordinates)\n",
    "    COM = calc_COM(coordinates_this)\n",
    "    coords = np.array_split(coordinates_this,3)\n",
    "    #print(coords)\n",
    "    #print(COM)\n",
    "    v0 = coords[0] - COM\n",
    "    v1 = coords[1] - COM\n",
    "    v2 = coords[2] - COM\n",
    "    \n",
    "    v0_normed = np.array(v0/np.sqrt(v0[0]**2+v0[1]**2))\n",
    "    v0_orth = np.array([v0_normed[1],-v0_normed[0]])\n",
    "    \n",
    "    v1_normed = np.array(v1/np.sqrt(v1[0]**2+v1[1]**2))\n",
    "    v1_orth = np.array([v1_normed[1],-v1_normed[0]])\n",
    "\n",
    "    v2_normed = np.array(v2/np.sqrt(v2[0]**2+v2[1]**2))\n",
    "    v2_orth = np.array([v2_normed[1],-v2_normed[0]])\n",
    "    \n",
    "    basis_set = [v0_normed,v0_orth,v1_normed,v1_orth,v2_normed,v2_orth]\n",
    "    #basis_set = basis_set_this\n",
    "\n",
    "    transform_matrix = np.array([[basis_set[0][0],basis_set[1][0],0,0,0,0],\n",
    "                                 [basis_set[0][1],basis_set[1][1],0,0,0,0],\n",
    "                                 [0,0,basis_set[2][0],basis_set[3][0],0,0],\n",
    "                                 [0,0,basis_set[2][1],basis_set[3][1],0,0],\n",
    "                                 [0,0,0,0,basis_set[4][0],basis_set[5][0]],\n",
    "                                 [0,0,0,0,basis_set[4][1],basis_set[5][1]]])\n",
    "    \n",
    "    transform_matrix_inv = np.linalg.inv(transform_matrix)\n",
    "    \n",
    "    start = time.time()\n",
    "    #get force component operators and decomposition (without the 1/(2*dR) factor, for numerical reasons)\n",
    "    #replace parallel_ with sequential_ to see effect of parallelization\n",
    "    force_ops,force_op_coeffs = parallel_operators(coordinates,basis_set)\n",
    "    \n",
    "    #for ops in force_ops:\n",
    "        #print(len(ops))\n",
    "        \n",
    "    P1 = force_ops[0]\n",
    "    \n",
    "    if PauliSet == None:\n",
    "        \n",
    "        pauli_op_set = {'IIII'} #Could not initialize empty set for some reason\n",
    "        # construct set of PauliOp products that we need to calculate\n",
    "\n",
    "        for PauliString,coeff in force_op_coeffs[0].items():\n",
    "            pauli_op_set.add(PauliString)\n",
    "\n",
    "        #to get set of necessary PauliOp products:\n",
    "        \n",
    "            P_prod = (P1@P1)\n",
    "            P_list = P_prod.primitive.to_list()\n",
    "\n",
    "            for (PauliString,coeff) in P_list:\n",
    "                pauli_op_set.add(PauliString)\n",
    "                \n",
    "    else: pauli_op_set = PauliSet\n",
    "        \n",
    "    end = time.time()\n",
    "    \n",
    "    time_pauli_ops = end - start\n",
    "        \n",
    "\n",
    "        # Now we calculate the expectation values of all the relevant PauliOps\n",
    "    \n",
    "    start = time.time()\n",
    "    exp_dict = {} # dictionary with relevant expectation values\n",
    "        \n",
    "    #switch between parallel_ and sequential_ to see the effect\n",
    "    \n",
    "    parallel_expectations(exp_dict,pauli_op_set,q_instance,psi_0)\n",
    "    \n",
    "\n",
    "    for i in range(len(coordinates)):\n",
    "        for pauli_op,coeff in force_op_coeffs[i].items():\n",
    "            forces[i] += coeff.real*exp_dict[pauli_op]\n",
    "    \n",
    "    #forces[1] = 0\n",
    "    #forces[3] = 0\n",
    "    #forces[5] = 0\n",
    "    forces_return = np.matmul(transform_matrix,np.array(forces))\n",
    "    #print(forces)\n",
    "            \n",
    "    end = time.time()   \n",
    "    time_calc_exp = end - start\n",
    "    \n",
    "    \n",
    "    start = time.time()\n",
    "    COV = np.zeros((num_coord,num_coord)) #force covariance matrix, without some multiplicative factors. \n",
    "        \n",
    "    for i in range(num_coord):\n",
    "        for j in range(i,num_coord):\n",
    "\n",
    "            Pij = force_ops[i]@force_ops[j]\n",
    "            Pij_list = Pij.primitive.to_list()\n",
    "\n",
    "            #add product expectation \n",
    "            for (pauli_string,coeff) in Pij_list:\n",
    "                COV[i,j] += coeff.real*exp_dict[pauli_string]\n",
    "                    #subtract \n",
    "            COV[i,j] -= forces[i]*forces[j]\n",
    "\n",
    "            #since COV is symmetric\n",
    "            #if (i,j) != (0,0) and (i,j) != (2,2) and (i,j) != (4,4) and (i,j) != (0,2) and (i,j) != (0,4) and (i,j) != (2,0) and (i,j) != (2,4) and (i,j) != (4,0) and (i,j) != (4,2):\n",
    "                #print(\"here\")\n",
    "                #print((i,j))\n",
    "             #   COV[i,j] = 0\n",
    "            \n",
    "            if i < j:\n",
    "                COV[j,i] = COV[i,j]\n",
    "            \n",
    "            \n",
    "                \n",
    "    #print(COV)            \n",
    "    end = time.time()\n",
    "    COV_1 = np.matmul(COV,transform_matrix)\n",
    "    COV_2 = np.matmul(transform_matrix_inv,COV_1)\n",
    "    COV_return = COV_2\n",
    "    time_cov = end - start\n",
    "\n",
    "    print(f'Time to: Calculate Ground State - {round(time_psi_0,2)}s, Get Pauli Ops - {round(time_pauli_ops,2)}s, Calculate Pauli Expectation Values - {round(time_calc_exp,2)}s, Calculate Covariance - {round(time_cov,2)}s')\n",
    "    #print(COV)\n",
    "    \n",
    "    return forces_return*Ha*(1/(2*dR*angst)),COV_return*(Ha*(1/(2*dR*angst)))**2"
   ]
  },
  {
   "cell_type": "code",
   "execution_count": 3,
   "id": "5ae5fde0",
   "metadata": {},
   "outputs": [],
   "source": [
    "#from Quantech.verlet_integrator import distance\n",
    "#from force import calc_force_and_cov\n",
    "import numpy as np\n",
    "from tqdm import tqdm #to show progress\n",
    "\n",
    "\n",
    "#implementation of the explicit Euler integrator\n",
    "femto = 1.0e-15\n",
    "angst = 1.0e-10\n",
    "\n",
    "def calc_COM(coordinates):\n",
    "    #print(coordinates)\n",
    "    r_array = np.array_split(coordinates,3)\n",
    "    COM = (r_array[0] + r_array[1] + r_array[2])/3\n",
    "    \n",
    "    return COM\n",
    "\n",
    "def distance(coordinates1,coordinates2):\n",
    "    return np.sqrt(np.power((coordinates1[0] - coordinates2[0]),2) + np.power((coordinates1[1] - coordinates2[1]),2))\n",
    "    \n",
    "\n",
    "\n",
    "def main():\n",
    "    \n",
    "    f = open(\"h3_rotated_basis_n_128000_compare_raw.txt\",\"w\")\n",
    "    \n",
    "    #mass of particle1 (H)\n",
    "    mass_0 = 1.67e-27\n",
    "    #mass of particle2 (H)\n",
    "    mass_1 = 1.67e-27\n",
    "    #mass of particle3 (H)\n",
    "    mass_2 = 1.67e-27\n",
    "    #time step of integrator\n",
    "    dt = 0.2*femto\n",
    "    #initial velocity of atoms\n",
    "    \n",
    "    v_init_0 = np.array([0,0])\n",
    "    v_init_1 = np.array([0,0])\n",
    "    v_init_2 = np.array([0,0])\n",
    "\n",
    "    v_init = np.concatenate((v_init_0,v_init_1,v_init_2),axis=None)\n",
    "\n",
    "    #distances between atoms\n",
    "    d = 0.8\n",
    "    #rotation angle of the initial triangle\n",
    "    b = 0/180*np.pi\n",
    "    \n",
    "    #initial positions of atoms, arrangement = equilateral triangle\n",
    "    x1_init = np.array([-d/2*np.cos(b)+np.sin(b)*np.sqrt(3)/6*d,-d/2*np.sin(b)-np.cos(b)*np.sqrt(3)/6*d])+np.array([0,d*np.sqrt(3)/6])\n",
    "    x2_init = np.array([d/2*np.cos(b)+np.sin(b)*np.sqrt(3)/6*d,d/2*np.sin(b)-np.cos(b)*np.sqrt(3)/6*d])+np.array([0,d*np.sqrt(3)/6])\n",
    "    x3_init = np.array([-np.sin(b)*np.sqrt(3)/3*d,np.cos(b)*np.sqrt(3)/3*d])+np.array([0,d*np.sqrt(3)/6])\n",
    "    \n",
    "    \n",
    "    init_pos0 = x1_init\n",
    "    init_pos1 = x2_init\n",
    "    init_pos2 = x3_init\n",
    "    \n",
    "    #print(distance(init_pos0,init_pos1))\n",
    "    #print(distance(init_pos0,init_pos2))\n",
    "    #print(distance(init_pos1,init_pos2))\n",
    "    \n",
    "    init_pos = np.concatenate((init_pos0,init_pos1,init_pos2),axis=None)\n",
    "\n",
    "    #integrator timesteps\n",
    "    timeB = 0\n",
    "    timeE = 60\n",
    "    times = np.arange(timeB*femto, timeE*femto, dt)\n",
    "    #print(times)\n",
    "    #coordinate array\n",
    "    coords = [init_pos]\n",
    "    force = []\n",
    "    distance01 = [d]\n",
    "    distance02 = [d]\n",
    "    distance12 = [d]\n",
    "    #temperature in ?? \n",
    "    #k_B*T in Joule\n",
    "    k_b = 1.38065e-23\n",
    "    T = 420\n",
    "    k_T = k_b*T\n",
    "        #delta factor\n",
    "    delta = 0.05*dt\n",
    "    #hold v_next\n",
    "    v_next = None\n",
    "    \n",
    "    simulator = 'qasm'\n",
    "    COM = calc_COM(init_pos)\n",
    "    coords_loc = np.array_split(init_pos,3)\n",
    "    forces_array = []\n",
    "    velocities_array = []\n",
    "    velocities_array.append(v_init.tolist())\n",
    "    coords_array = []\n",
    "    coords_array.append(init_pos.tolist())\n",
    "    \n",
    "    #print(coords)\n",
    "    #print(COM)\n",
    "    #v0 = coords_loc[0] - COM\n",
    "    #v1 = coords_loc[1] - COM\n",
    "    #v2 = coords_loc[2] - COM\n",
    "    \n",
    "    #v0_normed = np.array(v0/np.sqrt(v0[0]**2+v0[1]**2))\n",
    "    #v0_orth = np.array([v0_normed[1],-v0_normed[0]])\n",
    "    \n",
    "    #v1_normed = np.array(v1/np.sqrt(v1[0]**2+v1[1]**2))\n",
    "    #v1_orth = np.array([v1_normed[1],-v1_normed[0]])\n",
    "\n",
    "    #v2_normed = np.array(v2/np.sqrt(v2[0]**2+v2[1]**2))\n",
    "    #v2_orth = np.array([v2_normed[1],-v2_normed[0]])\n",
    "    \n",
    "    #basis_set = [v0_normed,v0_orth,v1_normed,v1_orth,v2_normed,v2_orth]\n",
    "    basis_set = [0,0,0,0,0,0]\n",
    "    \n",
    "    for time in tqdm(times, desc='Progress: '):\n",
    "        \n",
    "        r = coords[-1]\n",
    "        #print(r)\n",
    "        \n",
    "        (forces,COV) = calc_force_and_cov(r, simulator = simulator, shots = 128000, basis_set_this=basis_set)\n",
    "        \n",
    "        forces_array.append(forces.tolist())\n",
    "        \n",
    "        #print(COV)\n",
    "        \n",
    "        #COV = np.zeros((6,6))\n",
    "        \n",
    "        #angle1 = np.arctan(forces[1]/forces[0])/np.pi * 180\n",
    "        #print(angle1)\n",
    "        #print(\"f1 = \" + str([forces[2],forces[3]]))\n",
    "        #print(\"f2 = \" + str([forces[4],forces[5]]))\n",
    "        \n",
    "        f1 = distance(np.array([forces[0],forces[1]]),np.array([0,0]))\n",
    "        \n",
    "        f2 = distance(np.array([forces[2],forces[3]]),np.array([0,0]))\n",
    "        \n",
    "        f3 = distance(np.array([forces[4],forces[5]]),np.array([0,0]))    \n",
    "        \n",
    "        print(\"f0,f1,f2 = \" + str([f1,f2,f3]))\n",
    "        \n",
    "        #print(forces)\n",
    "        #print(COV)\n",
    "        \n",
    "        if time == 0:\n",
    "\n",
    "            v_next = v_init - delta/(2*k_T*np.power(mass_0*mass_1*mass_2,1/3))*np.matmul(COV,v_init)*dt + dt*forces/mass_0\n",
    "            \n",
    "            r_next = (r*angst + dt*v_next)/angst\n",
    "\n",
    "            #r_split = np.array_split(r_next,3)\n",
    "\n",
    "            coords.append(r_next)\n",
    "\n",
    "        else:\n",
    "\n",
    "            v_next += - delta/(2*k_T*np.power(mass_0*mass_1*mass_2,1/3))*np.matmul(COV,v_next)*dt + dt*forces/mass_0\n",
    "            \n",
    "            r_next = (r*angst + dt*v_next)/angst\n",
    "\n",
    "            #r_split = np.array_split(r_next,3)\n",
    "            \n",
    "            coords.append(r_next)\n",
    "        velocities_array.append(v_next.tolist())  \n",
    "        coords_array.append(coords[-1].tolist())\n",
    "        \n",
    "        r = np.array_split(coords[-1],3)\n",
    "        d01 = distance(r[0],r[1])\n",
    "        d02 = distance(r[0],r[2])\n",
    "        d12 = distance(r[1],r[2])\n",
    "        print(\"d01,d02,d12 = \" + str([d01,d02,d12]))\n",
    "        \n",
    "        dists = np.split(coords[-1],3)\n",
    "        d01 = distance(dists[0],dists[1])\n",
    "        distance01.append(d01)\n",
    "        d02 = distance(dists[0],dists[2])\n",
    "        distance02.append(d02)\n",
    "        d12 = distance(dists[1],dists[2])\n",
    "        distance12.append(d12)\n",
    "    timess = times.tolist()\n",
    "    timess.append(timeE*femto)\n",
    "    f.write('times \\n')\n",
    "    f.write(str(timess) + \"\\n\")\n",
    "    f.write(\"coordinates \\n\")\n",
    "    f.write(str(coords_array) + \"\\n\")\n",
    "    f.write(\"velocities \\n\")\n",
    "    f.write(str(velocities_array) + \"\\n\")\n",
    "    f.write(\"forces \\n\")\n",
    "    f.write(str(forces_array) + \"\\n\")\n",
    "    return (distance01,distance02,distance12,times) "
   ]
  },
  {
   "cell_type": "code",
   "execution_count": 4,
   "id": "be5bb22e",
   "metadata": {
    "scrolled": false
   },
   "outputs": [
    {
     "name": "stderr",
     "output_type": "stream",
     "text": [
      "Progress:   0%|          | 1/300 [00:12<1:04:23, 12.92s/it]"
     ]
    },
    {
     "name": "stdout",
     "output_type": "stream",
     "text": [
      "Time to: Calculate Ground State - 1.75s, Get Pauli Ops - 4.91s, Calculate Pauli Expectation Values - 4.56s, Calculate Covariance - 1.43s\n",
      "f0,f1,f2 = [1.182363298350304e-08, 1.1823632983506815e-08, 1.1823632983497579e-08]\n",
      "d01,d02,d12 = [0.8049051815706524, 0.8049051815706517, 0.804905181570653]\n"
     ]
    },
    {
     "name": "stderr",
     "output_type": "stream",
     "text": [
      "/cluster/home/mskrabulis/miniconda3/envs/quantech/lib/python3.9/site-packages/pyscf/symm/Dmatrix.py:156: RuntimeWarning: invalid value encountered in arccos\n",
      "  gamma = numpy.arccos(yp.dot(c2[1]))\n",
      "Progress:   1%|          | 2/300 [00:25<1:03:03, 12.70s/it]"
     ]
    },
    {
     "name": "stdout",
     "output_type": "stream",
     "text": [
      "Time to: Calculate Ground State - 0.77s, Get Pauli Ops - 4.2s, Calculate Pauli Expectation Values - 5.51s, Calculate Covariance - 2.06s\n",
      "f0,f1,f2 = [1.3543212986760158e-08, 1.3543212986754613e-08, 1.3543212986755451e-08]\n",
      "d01,d02,d12 = [0.8148908277417525, 0.8148908277417528, 0.8148908277417553]\n"
     ]
    },
    {
     "name": "stderr",
     "output_type": "stream",
     "text": [
      "/cluster/home/mskrabulis/miniconda3/envs/quantech/lib/python3.9/site-packages/pyscf/symm/Dmatrix.py:156: RuntimeWarning: invalid value encountered in arccos\n",
      "  gamma = numpy.arccos(yp.dot(c2[1]))\n",
      "Progress:   1%|          | 3/300 [00:39<1:05:32, 13.24s/it]"
     ]
    },
    {
     "name": "stdout",
     "output_type": "stream",
     "text": [
      "Time to: Calculate Ground State - 1.06s, Get Pauli Ops - 6.51s, Calculate Pauli Expectation Values - 4.66s, Calculate Covariance - 1.66s\n",
      "f0,f1,f2 = [1.0889793885062447e-08, 1.0889793885065524e-08, 1.0889793885068279e-08]\n",
      "d01,d02,d12 = [0.8290972332038764, 0.8290972332038787, 0.8290972332038803]\n"
     ]
    },
    {
     "name": "stderr",
     "output_type": "stream",
     "text": [
      "/cluster/home/mskrabulis/miniconda3/envs/quantech/lib/python3.9/site-packages/pyscf/symm/Dmatrix.py:156: RuntimeWarning: invalid value encountered in arccos\n",
      "  gamma = numpy.arccos(yp.dot(c2[1]))\n",
      "Progress:   1%|▏         | 4/300 [00:53<1:07:02, 13.59s/it]"
     ]
    },
    {
     "name": "stdout",
     "output_type": "stream",
     "text": [
      "Time to: Calculate Ground State - 1.37s, Get Pauli Ops - 4.44s, Calculate Pauli Expectation Values - 6.07s, Calculate Covariance - 2.24s\n",
      "f0,f1,f2 = [8.872541227713805e-09, 8.872541227711722e-09, 8.87254122771601e-09]\n",
      "d01,d02,d12 = [0.8460347868696538, 0.8460347868696564, 0.8460347868696613]\n"
     ]
    },
    {
     "name": "stderr",
     "output_type": "stream",
     "text": [
      "Progress:   2%|▏         | 5/300 [01:07<1:06:51, 13.60s/it]"
     ]
    },
    {
     "name": "stdout",
     "output_type": "stream",
     "text": [
      "Time to: Calculate Ground State - 0.77s, Get Pauli Ops - 5.1s, Calculate Pauli Expectation Values - 5.51s, Calculate Covariance - 2.23s\n",
      "f0,f1,f2 = [8.673636685722504e-09, 8.673636685706523e-09, 8.67363668571515e-09]\n",
      "d01,d02,d12 = [0.8667875294153546, 0.866787529415364, 0.866787529415359]\n"
     ]
    },
    {
     "name": "stderr",
     "output_type": "stream",
     "text": [
      "Progress:   2%|▏         | 6/300 [01:21<1:07:12, 13.72s/it]"
     ]
    },
    {
     "name": "stdout",
     "output_type": "stream",
     "text": [
      "Time to: Calculate Ground State - 1.31s, Get Pauli Ops - 5.12s, Calculate Pauli Expectation Values - 5.03s, Calculate Covariance - 2.49s\n",
      "f0,f1,f2 = [7.992291064719903e-09, 7.992291064712008e-09, 7.992291064722383e-09]\n",
      "d01,d02,d12 = [0.8923360949792826, 0.8923360949793043, 0.8923360949792719]\n"
     ]
    },
    {
     "name": "stderr",
     "output_type": "stream",
     "text": [
      "Progress:   2%|▏         | 7/300 [01:35<1:07:44, 13.87s/it]"
     ]
    },
    {
     "name": "stdout",
     "output_type": "stream",
     "text": [
      "Time to: Calculate Ground State - 1.35s, Get Pauli Ops - 5.06s, Calculate Pauli Expectation Values - 5.51s, Calculate Covariance - 2.26s\n",
      "f0,f1,f2 = [4.946164429205993e-09, 4.946164429221044e-09, 4.946164429211085e-09]\n",
      "d01,d02,d12 = [0.9175679627471698, 0.917567962747189, 0.9175679627471439]\n"
     ]
    },
    {
     "name": "stderr",
     "output_type": "stream",
     "text": [
      "Progress:   3%|▎         | 8/300 [01:48<1:06:07, 13.59s/it]"
     ]
    },
    {
     "name": "stdout",
     "output_type": "stream",
     "text": [
      "Time to: Calculate Ground State - 1.25s, Get Pauli Ops - 5.12s, Calculate Pauli Expectation Values - 4.71s, Calculate Covariance - 1.89s\n",
      "f0,f1,f2 = [4.031116676642569e-09, 4.031116676662151e-09, 4.031116676643257e-09]\n",
      "d01,d02,d12 = [0.945318018946741, 0.9453180189467519, 0.9453180189466908]\n"
     ]
    },
    {
     "name": "stderr",
     "output_type": "stream",
     "text": [
      "Progress:   3%|▎         | 9/300 [02:03<1:08:04, 14.04s/it]"
     ]
    },
    {
     "name": "stdout",
     "output_type": "stream",
     "text": [
      "Time to: Calculate Ground State - 1.0s, Get Pauli Ops - 6.12s, Calculate Pauli Expectation Values - 5.77s, Calculate Covariance - 2.12s\n",
      "f0,f1,f2 = [7.402566039275257e-10, 7.402566039327365e-10, 7.402566039403635e-10]\n",
      "d01,d02,d12 = [0.9685557522038457, 0.9685557522038714, 0.9685557522037729]\n"
     ]
    },
    {
     "name": "stderr",
     "output_type": "stream",
     "text": [
      "Progress:   3%|▎         | 10/300 [02:19<1:10:42, 14.63s/it]"
     ]
    },
    {
     "name": "stdout",
     "output_type": "stream",
     "text": [
      "Time to: Calculate Ground State - 1.1s, Get Pauli Ops - 7.12s, Calculate Pauli Expectation Values - 5.91s, Calculate Covariance - 1.82s\n",
      "f0,f1,f2 = [1.4906486426875457e-09, 1.4906486426937858e-09, 1.4906486426916068e-09]\n",
      "d01,d02,d12 = [0.9957042304326806, 0.995704230432722, 0.9957042304325782]\n"
     ]
    },
    {
     "name": "stderr",
     "output_type": "stream",
     "text": [
      "/cluster/home/mskrabulis/miniconda3/envs/quantech/lib/python3.9/site-packages/pyscf/symm/Dmatrix.py:156: RuntimeWarning: invalid value encountered in arccos\n",
      "  gamma = numpy.arccos(yp.dot(c2[1]))\n",
      "Progress:   4%|▎         | 11/300 [02:32<1:08:29, 14.22s/it]"
     ]
    },
    {
     "name": "stdout",
     "output_type": "stream",
     "text": [
      "Time to: Calculate Ground State - 1.35s, Get Pauli Ops - 4.54s, Calculate Pauli Expectation Values - 5.6s, Calculate Covariance - 1.79s\n",
      "f0,f1,f2 = [2.4916730822673993e-09, 2.491673082274249e-09, 2.4916730822759267e-09]\n",
      "d01,d02,d12 = [1.028799671863458, 1.0287996718635182, 1.0287996718633183]\n"
     ]
    },
    {
     "name": "stderr",
     "output_type": "stream",
     "text": [
      "/cluster/home/mskrabulis/miniconda3/envs/quantech/lib/python3.9/site-packages/pyscf/symm/Dmatrix.py:156: RuntimeWarning: invalid value encountered in arccos\n",
      "  gamma = numpy.arccos(yp.dot(c2[1]))\n",
      "Progress:   4%|▍         | 12/300 [02:48<1:11:30, 14.90s/it]"
     ]
    },
    {
     "name": "stdout",
     "output_type": "stream",
     "text": [
      "Time to: Calculate Ground State - 1.05s, Get Pauli Ops - 6.24s, Calculate Pauli Expectation Values - 7.11s, Calculate Covariance - 2.05s\n",
      "f0,f1,f2 = [1.835408188515288e-09, 1.8354081885035407e-09, 1.8354081885091858e-09]\n",
      "d01,d02,d12 = [1.0561856227517705, 1.0561856227518418, 1.0561856227515904]\n"
     ]
    },
    {
     "name": "stderr",
     "output_type": "stream",
     "text": [
      "/cluster/home/mskrabulis/miniconda3/envs/quantech/lib/python3.9/site-packages/pyscf/symm/Dmatrix.py:156: RuntimeWarning: invalid value encountered in arccos\n",
      "  gamma = numpy.arccos(yp.dot(c2[1]))\n",
      "Progress:   4%|▍         | 13/300 [03:02<1:09:02, 14.43s/it]"
     ]
    },
    {
     "name": "stdout",
     "output_type": "stream",
     "text": [
      "Time to: Calculate Ground State - 1.06s, Get Pauli Ops - 4.68s, Calculate Pauli Expectation Values - 5.44s, Calculate Covariance - 2.18s\n",
      "f0,f1,f2 = [1.2961026851077748e-09, 1.2961026851127292e-09, 1.2961026851190352e-09]\n",
      "d01,d02,d12 = [1.0820637864851874, 1.0820637864852631, 1.082063786484955]\n"
     ]
    },
    {
     "name": "stderr",
     "output_type": "stream",
     "text": [
      "Progress:   5%|▍         | 14/300 [03:17<1:09:44, 14.63s/it]"
     ]
    },
    {
     "name": "stdout",
     "output_type": "stream",
     "text": [
      "Time to: Calculate Ground State - 1.05s, Get Pauli Ops - 6.74s, Calculate Pauli Expectation Values - 5.31s, Calculate Covariance - 1.99s\n",
      "f0,f1,f2 = [2.7404369514333087e-09, 2.7404369514293255e-09, 2.7404369514375683e-09]\n",
      "d01,d02,d12 = [1.108083028475427, 1.1080830284755043, 1.1080830284751517]\n"
     ]
    },
    {
     "name": "stderr",
     "output_type": "stream",
     "text": [
      "Progress:   5%|▌         | 15/300 [03:29<1:06:02, 13.90s/it]"
     ]
    },
    {
     "name": "stdout",
     "output_type": "stream",
     "text": [
      "Time to: Calculate Ground State - 1.06s, Get Pauli Ops - 4.19s, Calculate Pauli Expectation Values - 5.14s, Calculate Covariance - 1.82s\n",
      "f0,f1,f2 = [4.2665561217295295e-09, 4.266556121723791e-09, 4.266556121731562e-09]\n",
      "d01,d02,d12 = [1.133979050659111, 1.1339790506591942, 1.1339790506587957]\n"
     ]
    },
    {
     "name": "stderr",
     "output_type": "stream",
     "text": [
      "/cluster/home/mskrabulis/miniconda3/envs/quantech/lib/python3.9/site-packages/pyscf/symm/Dmatrix.py:156: RuntimeWarning: invalid value encountered in arccos\n",
      "  gamma = numpy.arccos(yp.dot(c2[1]))\n",
      "Progress:   5%|▌         | 16/300 [03:44<1:07:49, 14.33s/it]"
     ]
    },
    {
     "name": "stdout",
     "output_type": "stream",
     "text": [
      "Time to: Calculate Ground State - 1.07s, Get Pauli Ops - 7.43s, Calculate Pauli Expectation Values - 4.96s, Calculate Covariance - 1.84s\n",
      "f0,f1,f2 = [4.332881579972311e-09, 4.332881579977353e-09, 4.3328815799689895e-09]\n",
      "d01,d02,d12 = [1.1629212268814064, 1.1629212268814872, 1.1629212268810336]\n"
     ]
    },
    {
     "name": "stderr",
     "output_type": "stream",
     "text": [
      "Progress:   6%|▌         | 17/300 [03:57<1:04:39, 13.71s/it]"
     ]
    },
    {
     "name": "stdout",
     "output_type": "stream",
     "text": [
      "Time to: Calculate Ground State - 1.0s, Get Pauli Ops - 4.74s, Calculate Pauli Expectation Values - 4.74s, Calculate Covariance - 1.77s\n",
      "f0,f1,f2 = [4.665363567741803e-09, 4.665363567737198e-09, 4.665363567738982e-09]\n",
      "d01,d02,d12 = [1.1857593188105104, 1.1857593188105837, 1.1857593188100817]\n"
     ]
    },
    {
     "name": "stderr",
     "output_type": "stream",
     "text": [
      "Progress:   6%|▌         | 18/300 [04:10<1:03:18, 13.47s/it]"
     ]
    },
    {
     "name": "stdout",
     "output_type": "stream",
     "text": [
      "Time to: Calculate Ground State - 0.97s, Get Pauli Ops - 5.29s, Calculate Pauli Expectation Values - 4.86s, Calculate Covariance - 1.79s\n",
      "f0,f1,f2 = [6.073274547171588e-09, 6.073274547154451e-09, 6.073274547160807e-09]\n",
      "d01,d02,d12 = [1.2072512964257316, 1.2072512964257935, 1.2072512964252526]\n"
     ]
    },
    {
     "name": "stderr",
     "output_type": "stream",
     "text": [
      "/cluster/home/mskrabulis/miniconda3/envs/quantech/lib/python3.9/site-packages/pyscf/symm/Dmatrix.py:156: RuntimeWarning: invalid value encountered in arccos\n",
      "  gamma = numpy.arccos(yp.dot(c2[1]))\n",
      "Progress:   6%|▋         | 19/300 [04:22<1:01:36, 13.16s/it]"
     ]
    },
    {
     "name": "stdout",
     "output_type": "stream",
     "text": [
      "Time to: Calculate Ground State - 1.1s, Get Pauli Ops - 4.37s, Calculate Pauli Expectation Values - 5.0s, Calculate Covariance - 1.94s\n",
      "f0,f1,f2 = [4.9272923478167666e-09, 4.9272923478176e-09, 4.927292347814625e-09]\n",
      "d01,d02,d12 = [1.2294824730329927, 1.229482473033047, 1.2294824730324665]\n"
     ]
    },
    {
     "name": "stderr",
     "output_type": "stream",
     "text": [
      "Progress:   7%|▋         | 20/300 [04:35<1:01:31, 13.19s/it]"
     ]
    },
    {
     "name": "stdout",
     "output_type": "stream",
     "text": [
      "Time to: Calculate Ground State - 1.12s, Get Pauli Ops - 4.42s, Calculate Pauli Expectation Values - 5.42s, Calculate Covariance - 2.29s\n",
      "f0,f1,f2 = [4.7436633090217756e-09, 4.7436633090225035e-09, 4.74366330901704e-09]\n",
      "d01,d02,d12 = [1.244946650275026, 1.2449466502750786, 1.2449466502744595]\n"
     ]
    },
    {
     "name": "stderr",
     "output_type": "stream",
     "text": [
      "Progress:   7%|▋         | 21/300 [04:50<1:03:49, 13.73s/it]"
     ]
    },
    {
     "name": "stdout",
     "output_type": "stream",
     "text": [
      "Time to: Calculate Ground State - 1.14s, Get Pauli Ops - 5.28s, Calculate Pauli Expectation Values - 6.45s, Calculate Covariance - 2.11s\n",
      "f0,f1,f2 = [7.471905139432016e-09, 7.471905139426658e-09, 7.471905139423599e-09]\n",
      "d01,d02,d12 = [1.2615454234833547, 1.2615454234834058, 1.2615454234827541]\n"
     ]
    },
    {
     "name": "stderr",
     "output_type": "stream",
     "text": [
      "Progress:   7%|▋         | 22/300 [05:04<1:03:00, 13.60s/it]"
     ]
    },
    {
     "name": "stdout",
     "output_type": "stream",
     "text": [
      "Time to: Calculate Ground State - 1.19s, Get Pauli Ops - 4.92s, Calculate Pauli Expectation Values - 5.18s, Calculate Covariance - 2.01s\n",
      "f0,f1,f2 = [7.387819987063211e-09, 7.387819987065421e-09, 7.387819987066406e-09]\n",
      "d01,d02,d12 = [1.2732934538538343, 1.2732934538538847, 1.273293453853195]\n"
     ]
    },
    {
     "name": "stderr",
     "output_type": "stream",
     "text": [
      "Progress:   8%|▊         | 23/300 [05:18<1:03:47, 13.82s/it]"
     ]
    },
    {
     "name": "stdout",
     "output_type": "stream",
     "text": [
      "Time to: Calculate Ground State - 1.28s, Get Pauli Ops - 5.02s, Calculate Pauli Expectation Values - 5.86s, Calculate Covariance - 2.16s\n",
      "f0,f1,f2 = [6.361040932850878e-09, 6.3610409328473476e-09, 6.361040932852434e-09]\n",
      "d01,d02,d12 = [1.2808509993290884, 1.2808509993291344, 1.2808509993284012]\n"
     ]
    },
    {
     "name": "stderr",
     "output_type": "stream",
     "text": [
      "/cluster/home/mskrabulis/miniconda3/envs/quantech/lib/python3.9/site-packages/pyscf/symm/Dmatrix.py:156: RuntimeWarning: invalid value encountered in arccos\n",
      "  gamma = numpy.arccos(yp.dot(c2[1]))\n",
      "/cluster/home/mskrabulis/miniconda3/envs/quantech/lib/python3.9/site-packages/pyscf/symm/Dmatrix.py:156: RuntimeWarning: invalid value encountered in arccos\n",
      "  gamma = numpy.arccos(yp.dot(c2[1]))\n",
      "Progress:   8%|▊         | 24/300 [05:33<1:05:37, 14.27s/it]"
     ]
    },
    {
     "name": "stdout",
     "output_type": "stream",
     "text": [
      "Time to: Calculate Ground State - 1.02s, Get Pauli Ops - 5.04s, Calculate Pauli Expectation Values - 7.09s, Calculate Covariance - 2.15s\n",
      "f0,f1,f2 = [7.309547793690425e-09, 7.3095477936971984e-09, 7.309547793693999e-09]\n",
      "d01,d02,d12 = [1.2847592465312827, 1.2847592465313222, 1.2847592465305417]\n"
     ]
    },
    {
     "name": "stderr",
     "output_type": "stream",
     "text": [
      "Progress:   8%|▊         | 25/300 [05:47<1:04:42, 14.12s/it]"
     ]
    },
    {
     "name": "stdout",
     "output_type": "stream",
     "text": [
      "Time to: Calculate Ground State - 1.31s, Get Pauli Ops - 5.19s, Calculate Pauli Expectation Values - 5.37s, Calculate Covariance - 1.89s\n",
      "f0,f1,f2 = [5.987512752199304e-09, 5.987512752196412e-09, 5.987512752184028e-09]\n",
      "d01,d02,d12 = [1.2866565744202492, 1.2866565744202867, 1.286656574419458]\n"
     ]
    },
    {
     "name": "stderr",
     "output_type": "stream",
     "text": [
      "Progress:   9%|▊         | 26/300 [06:01<1:04:59, 14.23s/it]"
     ]
    },
    {
     "name": "stdout",
     "output_type": "stream",
     "text": [
      "Time to: Calculate Ground State - 1.0s, Get Pauli Ops - 5.09s, Calculate Pauli Expectation Values - 6.23s, Calculate Covariance - 2.17s\n",
      "f0,f1,f2 = [6.933697590954804e-09, 6.93369759096007e-09, 6.933697590945474e-09]\n",
      "d01,d02,d12 = [1.285680210632953, 1.28568021063299, 1.2856802106321148]\n"
     ]
    },
    {
     "name": "stderr",
     "output_type": "stream",
     "text": [
      "/cluster/home/mskrabulis/miniconda3/envs/quantech/lib/python3.9/site-packages/pyscf/symm/Dmatrix.py:156: RuntimeWarning: invalid value encountered in arccos\n",
      "  gamma = numpy.arccos(yp.dot(c2[1]))\n",
      "Progress:   9%|▉         | 27/300 [06:16<1:04:53, 14.26s/it]"
     ]
    },
    {
     "name": "stdout",
     "output_type": "stream",
     "text": [
      "Time to: Calculate Ground State - 1.06s, Get Pauli Ops - 4.96s, Calculate Pauli Expectation Values - 6.08s, Calculate Covariance - 2.22s\n",
      "f0,f1,f2 = [5.5731005426204135e-09, 5.57310054263518e-09, 5.573100542624695e-09]\n",
      "d01,d02,d12 = [1.2825269459257063, 1.2825269459257471, 1.2825269459248212]\n"
     ]
    },
    {
     "name": "stderr",
     "output_type": "stream",
     "text": [
      "/cluster/home/mskrabulis/miniconda3/envs/quantech/lib/python3.9/site-packages/pyscf/symm/Dmatrix.py:156: RuntimeWarning: invalid value encountered in arccos\n",
      "  gamma = numpy.arccos(yp.dot(c2[1]))\n",
      "Progress:   9%|▉         | 28/300 [06:28<1:02:25, 13.77s/it]"
     ]
    },
    {
     "name": "stdout",
     "output_type": "stream",
     "text": [
      "Time to: Calculate Ground State - 1.07s, Get Pauli Ops - 5.04s, Calculate Pauli Expectation Values - 4.87s, Calculate Covariance - 1.64s\n",
      "f0,f1,f2 = [5.1983195198329974e-09, 5.19831951983759e-09, 5.198319519836625e-09]\n",
      "d01,d02,d12 = [1.277283768824265, 1.2772837688243102, 1.2772837688233327]\n"
     ]
    },
    {
     "name": "stderr",
     "output_type": "stream",
     "text": [
      "Progress:  10%|▉         | 29/300 [06:43<1:03:05, 13.97s/it]"
     ]
    },
    {
     "name": "stdout",
     "output_type": "stream",
     "text": [
      "Time to: Calculate Ground State - 1.16s, Get Pauli Ops - 6.13s, Calculate Pauli Expectation Values - 5.09s, Calculate Covariance - 2.04s\n",
      "f0,f1,f2 = [5.7693234665366804e-09, 5.769323466548501e-09, 5.7693234665481576e-09]\n",
      "d01,d02,d12 = [1.2701525139167313, 1.2701525139167822, 1.2701525139157552]\n"
     ]
    },
    {
     "name": "stderr",
     "output_type": "stream",
     "text": [
      "/cluster/home/mskrabulis/miniconda3/envs/quantech/lib/python3.9/site-packages/pyscf/symm/Dmatrix.py:156: RuntimeWarning: invalid value encountered in arccos\n",
      "  gamma = numpy.arccos(yp.dot(c2[1]))\n",
      "Progress:  10%|█         | 30/300 [06:57<1:03:23, 14.09s/it]"
     ]
    },
    {
     "name": "stdout",
     "output_type": "stream",
     "text": [
      "Time to: Calculate Ground State - 1.09s, Get Pauli Ops - 6.6s, Calculate Pauli Expectation Values - 5.05s, Calculate Covariance - 1.62s\n",
      "f0,f1,f2 = [6.8641727989744035e-09, 6.864172798963645e-09, 6.864172798970638e-09]\n",
      "d01,d02,d12 = [1.260119136944227, 1.2601191369442808, 1.2601191369432043]\n"
     ]
    },
    {
     "name": "stderr",
     "output_type": "stream",
     "text": [
      "Progress:  10%|█         | 31/300 [07:12<1:04:37, 14.41s/it]"
     ]
    },
    {
     "name": "stdout",
     "output_type": "stream",
     "text": [
      "Time to: Calculate Ground State - 1.28s, Get Pauli Ops - 6.56s, Calculate Pauli Expectation Values - 5.12s, Calculate Covariance - 2.2s\n",
      "f0,f1,f2 = [5.588075210853555e-09, 5.588075210870817e-09, 5.588075210863671e-09]\n",
      "d01,d02,d12 = [1.248418645144673, 1.24841864514473, 1.2484186451435961]\n"
     ]
    },
    {
     "name": "stderr",
     "output_type": "stream",
     "text": [
      "/cluster/home/mskrabulis/miniconda3/envs/quantech/lib/python3.9/site-packages/pyscf/symm/Dmatrix.py:156: RuntimeWarning: invalid value encountered in arccos\n",
      "  gamma = numpy.arccos(yp.dot(c2[1]))\n",
      "Progress:  11%|█         | 32/300 [07:25<1:01:39, 13.80s/it]"
     ]
    },
    {
     "name": "stdout",
     "output_type": "stream",
     "text": [
      "Time to: Calculate Ground State - 1.19s, Get Pauli Ops - 4.82s, Calculate Pauli Expectation Values - 4.62s, Calculate Covariance - 1.75s\n",
      "f0,f1,f2 = [4.891121736750923e-09, 4.89112173673652e-09, 4.891121736744881e-09]\n",
      "d01,d02,d12 = [1.2360549252327218, 1.2360549252327886, 1.2360549252315869]\n"
     ]
    },
    {
     "name": "stderr",
     "output_type": "stream",
     "text": [
      "/cluster/home/mskrabulis/miniconda3/envs/quantech/lib/python3.9/site-packages/pyscf/symm/Dmatrix.py:156: RuntimeWarning: invalid value encountered in arccos\n",
      "  gamma = numpy.arccos(yp.dot(c2[1]))\n",
      "Progress:  11%|█         | 33/300 [07:38<1:00:32, 13.60s/it]"
     ]
    },
    {
     "name": "stdout",
     "output_type": "stream",
     "text": [
      "Time to: Calculate Ground State - 1.25s, Get Pauli Ops - 5.16s, Calculate Pauli Expectation Values - 4.95s, Calculate Covariance - 1.78s\n",
      "f0,f1,f2 = [4.662863761738357e-09, 4.6628637617313415e-09, 4.662863761728636e-09]\n",
      "d01,d02,d12 = [1.2257903514752346, 1.2257903514753097, 1.2257903514740263]\n"
     ]
    },
    {
     "name": "stderr",
     "output_type": "stream",
     "text": [
      "Progress:  11%|█▏        | 34/300 [07:52<1:00:59, 13.76s/it]"
     ]
    },
    {
     "name": "stdout",
     "output_type": "stream",
     "text": [
      "Time to: Calculate Ground State - 1.35s, Get Pauli Ops - 5.41s, Calculate Pauli Expectation Values - 5.28s, Calculate Covariance - 2.07s\n",
      "f0,f1,f2 = [7.763291025283723e-09, 7.763291025276495e-09, 7.763291025283657e-09]\n",
      "d01,d02,d12 = [1.2141923865098887, 1.2141923865099709, 1.2141923865086093]\n"
     ]
    },
    {
     "name": "stderr",
     "output_type": "stream",
     "text": [
      "Progress:  12%|█▏        | 35/300 [08:05<1:00:20, 13.66s/it]"
     ]
    },
    {
     "name": "stdout",
     "output_type": "stream",
     "text": [
      "Time to: Calculate Ground State - 1.04s, Get Pauli Ops - 5.15s, Calculate Pauli Expectation Values - 5.42s, Calculate Covariance - 1.82s\n",
      "f0,f1,f2 = [4.724666232343093e-09, 4.724666232337513e-09, 4.724666232338955e-09]\n",
      "d01,d02,d12 = [1.1986033959784663, 1.1986033959785511, 1.198603395977119]\n"
     ]
    },
    {
     "name": "stderr",
     "output_type": "stream",
     "text": [
      "/cluster/home/mskrabulis/miniconda3/envs/quantech/lib/python3.9/site-packages/pyscf/symm/Dmatrix.py:156: RuntimeWarning: invalid value encountered in arccos\n",
      "  gamma = numpy.arccos(yp.dot(c2[1]))\n",
      "Progress:  12%|█▏        | 36/300 [08:23<1:05:22, 14.86s/it]"
     ]
    },
    {
     "name": "stdout",
     "output_type": "stream",
     "text": [
      "Time to: Calculate Ground State - 1.19s, Get Pauli Ops - 7.23s, Calculate Pauli Expectation Values - 7.14s, Calculate Covariance - 2.08s\n",
      "f0,f1,f2 = [6.554380938106045e-09, 6.554380938085776e-09, 6.554380938087034e-09]\n",
      "d01,d02,d12 = [1.1824802868059705, 1.1824802868060562, 1.1824802868045508]\n"
     ]
    },
    {
     "name": "stderr",
     "output_type": "stream",
     "text": [
      "/cluster/home/mskrabulis/miniconda3/envs/quantech/lib/python3.9/site-packages/pyscf/symm/Dmatrix.py:156: RuntimeWarning: invalid value encountered in arccos\n",
      "  gamma = numpy.arccos(yp.dot(c2[1]))\n",
      "Progress:  12%|█▏        | 37/300 [08:36<1:02:25, 14.24s/it]"
     ]
    },
    {
     "name": "stdout",
     "output_type": "stream",
     "text": [
      "Time to: Calculate Ground State - 1.25s, Get Pauli Ops - 4.43s, Calculate Pauli Expectation Values - 5.37s, Calculate Covariance - 1.76s\n",
      "f0,f1,f2 = [4.431474824543061e-09, 4.43147482453637e-09, 4.4314748245322505e-09]\n",
      "d01,d02,d12 = [1.1631512129635184, 1.163151212963606, 1.1631512129620176]\n"
     ]
    },
    {
     "name": "stderr",
     "output_type": "stream",
     "text": [
      "Progress:  13%|█▎        | 38/300 [08:50<1:01:36, 14.11s/it]"
     ]
    },
    {
     "name": "stdout",
     "output_type": "stream",
     "text": [
      "Time to: Calculate Ground State - 1.21s, Get Pauli Ops - 4.69s, Calculate Pauli Expectation Values - 5.92s, Calculate Covariance - 1.96s\n",
      "f0,f1,f2 = [4.059362407822712e-09, 4.059362407791782e-09, 4.0593624078034175e-09]\n",
      "d01,d02,d12 = [1.1436180863921728, 1.143618086392258, 1.1436180863906025]\n"
     ]
    },
    {
     "name": "stderr",
     "output_type": "stream",
     "text": [
      "Progress:  13%|█▎        | 39/300 [09:03<1:00:04, 13.81s/it]"
     ]
    },
    {
     "name": "stdout",
     "output_type": "stream",
     "text": [
      "Time to: Calculate Ground State - 1.35s, Get Pauli Ops - 4.63s, Calculate Pauli Expectation Values - 4.94s, Calculate Covariance - 2.19s\n",
      "f0,f1,f2 = [5.1103587348588155e-09, 5.11035873485073e-09, 5.1103587348483906e-09]\n",
      "d01,d02,d12 = [1.1205505546132786, 1.120550554613354, 1.1205505546116514]\n"
     ]
    },
    {
     "name": "stderr",
     "output_type": "stream",
     "text": [
      "Progress:  13%|█▎        | 40/300 [09:16<58:24, 13.48s/it]  "
     ]
    },
    {
     "name": "stdout",
     "output_type": "stream",
     "text": [
      "Time to: Calculate Ground State - 1.31s, Get Pauli Ops - 4.97s, Calculate Pauli Expectation Values - 4.97s, Calculate Covariance - 1.45s\n",
      "f0,f1,f2 = [2.961478327885368e-09, 2.9614783278762235e-09, 2.9614783278713406e-09]\n",
      "d01,d02,d12 = [1.098171226596639, 1.098171226596711, 1.0981712265949548]\n"
     ]
    },
    {
     "name": "stderr",
     "output_type": "stream",
     "text": [
      "/cluster/home/mskrabulis/miniconda3/envs/quantech/lib/python3.9/site-packages/pyscf/symm/Dmatrix.py:156: RuntimeWarning: invalid value encountered in arccos\n",
      "  gamma = numpy.arccos(yp.dot(c2[1]))\n",
      "Progress:  14%|█▎        | 41/300 [09:29<58:08, 13.47s/it]"
     ]
    },
    {
     "name": "stdout",
     "output_type": "stream",
     "text": [
      "Time to: Calculate Ground State - 1.22s, Get Pauli Ops - 4.99s, Calculate Pauli Expectation Values - 5.14s, Calculate Covariance - 2.09s\n",
      "f0,f1,f2 = [2.0094700142535206e-09, 2.0094700142356386e-09, 2.009470014233902e-09]\n",
      "d01,d02,d12 = [1.074619464639431, 1.074619464639487, 1.0746194646376832]\n"
     ]
    },
    {
     "name": "stderr",
     "output_type": "stream",
     "text": [
      "Progress:  14%|█▍        | 42/300 [09:44<59:21, 13.80s/it]"
     ]
    },
    {
     "name": "stdout",
     "output_type": "stream",
     "text": [
      "Time to: Calculate Ground State - 1.33s, Get Pauli Ops - 5.98s, Calculate Pauli Expectation Values - 5.09s, Calculate Covariance - 2.17s\n",
      "f0,f1,f2 = [4.0699758538488416e-09, 4.069975853837951e-09, 4.069975853838934e-09]\n",
      "d01,d02,d12 = [1.0473001106247306, 1.0473001106247626, 1.047300110622913]\n"
     ]
    },
    {
     "name": "stderr",
     "output_type": "stream",
     "text": [
      "Progress:  14%|█▍        | 43/300 [09:57<58:51, 13.74s/it]"
     ]
    },
    {
     "name": "stdout",
     "output_type": "stream",
     "text": [
      "Time to: Calculate Ground State - 1.22s, Get Pauli Ops - 4.4s, Calculate Pauli Expectation Values - 5.63s, Calculate Covariance - 2.34s\n",
      "f0,f1,f2 = [1.4187979234480668e-09, 1.4187979234256032e-09, 1.4187979234302646e-09]\n",
      "d01,d02,d12 = [1.0257896037885799, 1.0257896037885876, 1.0257896037866652]\n"
     ]
    },
    {
     "name": "stderr",
     "output_type": "stream",
     "text": [
      "Progress:  15%|█▍        | 44/300 [10:10<57:53, 13.57s/it]"
     ]
    },
    {
     "name": "stdout",
     "output_type": "stream",
     "text": [
      "Time to: Calculate Ground State - 1.2s, Get Pauli Ops - 4.35s, Calculate Pauli Expectation Values - 5.39s, Calculate Covariance - 2.23s\n",
      "f0,f1,f2 = [2.176179942328286e-09, 2.1761799423003e-09, 2.176179942294538e-09]\n",
      "d01,d02,d12 = [1.004776096380366, 1.0047760963803445, 1.004776096378369]\n"
     ]
    },
    {
     "name": "stderr",
     "output_type": "stream",
     "text": [
      "Progress:  15%|█▌        | 45/300 [10:27<1:01:06, 14.38s/it]"
     ]
    },
    {
     "name": "stdout",
     "output_type": "stream",
     "text": [
      "Time to: Calculate Ground State - 1.04s, Get Pauli Ops - 4.99s, Calculate Pauli Expectation Values - 8.39s, Calculate Covariance - 1.84s\n",
      "f0,f1,f2 = [1.5465414186227784e-09, 1.5465414185881252e-09, 1.54654141858643e-09]\n",
      "d01,d02,d12 = [0.979300240931094, 0.9793002409310545, 0.9793002409290761]\n"
     ]
    },
    {
     "name": "stderr",
     "output_type": "stream",
     "text": [
      "Progress:  15%|█▌        | 46/300 [10:40<59:42, 14.10s/it]  "
     ]
    },
    {
     "name": "stdout",
     "output_type": "stream",
     "text": [
      "Time to: Calculate Ground State - 1.04s, Get Pauli Ops - 4.36s, Calculate Pauli Expectation Values - 5.99s, Calculate Covariance - 2.06s\n",
      "f0,f1,f2 = [3.938920531003462e-10, 3.9389205313523745e-10, 3.938920531209433e-10]\n",
      "d01,d02,d12 = [0.9552698774984053, 0.9552698774983529, 0.9552698774964236]\n"
     ]
    },
    {
     "name": "stderr",
     "output_type": "stream",
     "text": [
      "Progress:  16%|█▌        | 47/300 [10:53<58:21, 13.84s/it]"
     ]
    },
    {
     "name": "stdout",
     "output_type": "stream",
     "text": [
      "Time to: Calculate Ground State - 0.96s, Get Pauli Ops - 5.38s, Calculate Pauli Expectation Values - 4.93s, Calculate Covariance - 1.95s\n",
      "f0,f1,f2 = [1.115707046659829e-09, 1.1157070467006522e-09, 1.1157070466951816e-09]\n",
      "d01,d02,d12 = [0.9298501042525138, 0.9298501042524553, 0.9298501042505724]\n"
     ]
    },
    {
     "name": "stderr",
     "output_type": "stream",
     "text": [
      "/cluster/home/mskrabulis/miniconda3/envs/quantech/lib/python3.9/site-packages/pyscf/symm/Dmatrix.py:156: RuntimeWarning: invalid value encountered in arccos\n",
      "  gamma = numpy.arccos(yp.dot(c2[1]))\n",
      "Progress:  16%|█▌        | 48/300 [11:09<1:00:48, 14.48s/it]"
     ]
    },
    {
     "name": "stdout",
     "output_type": "stream",
     "text": [
      "Time to: Calculate Ground State - 1.01s, Get Pauli Ops - 7.72s, Calculate Pauli Expectation Values - 4.92s, Calculate Covariance - 2.31s\n",
      "f0,f1,f2 = [1.708855854081209e-09, 1.7088558541457334e-09, 1.70885585414892e-09]\n",
      "d01,d02,d12 = [0.9034511973229336, 0.9034511973228785, 0.9034511973210622]\n"
     ]
    },
    {
     "name": "stderr",
     "output_type": "stream",
     "text": [
      "/cluster/home/mskrabulis/miniconda3/envs/quantech/lib/python3.9/site-packages/pyscf/symm/Dmatrix.py:156: RuntimeWarning: invalid value encountered in arccos\n",
      "  gamma = numpy.arccos(yp.dot(c2[1]))\n",
      "Progress:  16%|█▋        | 49/300 [11:22<58:25, 13.97s/it]  "
     ]
    },
    {
     "name": "stdout",
     "output_type": "stream",
     "text": [
      "Time to: Calculate Ground State - 1.19s, Get Pauli Ops - 4.41s, Calculate Pauli Expectation Values - 5.35s, Calculate Covariance - 1.81s\n",
      "f0,f1,f2 = [3.587264982179823e-09, 3.587264982209895e-09, 3.58726498221523e-09]\n",
      "d01,d02,d12 = [0.8787225093617224, 0.8787225093616693, 0.8787225093599723]\n"
     ]
    },
    {
     "name": "stderr",
     "output_type": "stream",
     "text": [
      "Progress:  17%|█▋        | 50/300 [11:35<57:19, 13.76s/it]"
     ]
    },
    {
     "name": "stdout",
     "output_type": "stream",
     "text": [
      "Time to: Calculate Ground State - 0.91s, Get Pauli Ops - 4.73s, Calculate Pauli Expectation Values - 5.82s, Calculate Covariance - 1.82s\n",
      "f0,f1,f2 = [4.826866773217918e-09, 4.826866773243117e-09, 4.826866773257586e-09]\n",
      "d01,d02,d12 = [0.8567462574643769, 0.8567462574643255, 0.8567462574627285]\n"
     ]
    },
    {
     "name": "stderr",
     "output_type": "stream",
     "text": [
      "Progress:  17%|█▋        | 51/300 [11:48<55:36, 13.40s/it]"
     ]
    },
    {
     "name": "stdout",
     "output_type": "stream",
     "text": [
      "Time to: Calculate Ground State - 0.94s, Get Pauli Ops - 4.39s, Calculate Pauli Expectation Values - 5.3s, Calculate Covariance - 1.94s\n",
      "f0,f1,f2 = [7.234483136011749e-09, 7.234483136074472e-09, 7.2344831360657205e-09]\n",
      "d01,d02,d12 = [0.8402643109673616, 0.840264310967309, 0.840264310965832]\n"
     ]
    },
    {
     "name": "stderr",
     "output_type": "stream",
     "text": [
      "/cluster/home/mskrabulis/miniconda3/envs/quantech/lib/python3.9/site-packages/pyscf/symm/Dmatrix.py:156: RuntimeWarning: invalid value encountered in arccos\n",
      "  gamma = numpy.arccos(yp.dot(c2[1]))\n",
      "/cluster/home/mskrabulis/miniconda3/envs/quantech/lib/python3.9/site-packages/pyscf/symm/Dmatrix.py:156: RuntimeWarning: invalid value encountered in arccos\n",
      "  gamma = numpy.arccos(yp.dot(c2[1]))\n",
      "Progress:  17%|█▋        | 52/300 [12:00<53:34, 12.96s/it]"
     ]
    },
    {
     "name": "stdout",
     "output_type": "stream",
     "text": [
      "Time to: Calculate Ground State - 0.98s, Get Pauli Ops - 4.22s, Calculate Pauli Expectation Values - 4.85s, Calculate Covariance - 1.89s\n",
      "f0,f1,f2 = [8.103519286270175e-09, 8.103519286324865e-09, 8.103519286333783e-09]\n",
      "d01,d02,d12 = [0.8259620857295036, 0.8259620857294431, 0.8259620857281401]\n"
     ]
    },
    {
     "name": "stderr",
     "output_type": "stream",
     "text": [
      "/cluster/home/mskrabulis/miniconda3/envs/quantech/lib/python3.9/site-packages/pyscf/symm/Dmatrix.py:156: RuntimeWarning: invalid value encountered in arccos\n",
      "  gamma = numpy.arccos(yp.dot(c2[1]))\n",
      "Progress:  18%|█▊        | 53/300 [12:12<52:31, 12.76s/it]"
     ]
    },
    {
     "name": "stdout",
     "output_type": "stream",
     "text": [
      "Time to: Calculate Ground State - 1.14s, Get Pauli Ops - 4.5s, Calculate Pauli Expectation Values - 5.06s, Calculate Covariance - 1.58s\n",
      "f0,f1,f2 = [1.115710822527805e-08, 1.1157108225329597e-08, 1.11571082253208e-08]\n",
      "d01,d02,d12 = [0.8175302716741544, 0.8175302716740804, 0.8175302716729567]\n"
     ]
    },
    {
     "name": "stderr",
     "output_type": "stream",
     "text": [
      "/cluster/home/mskrabulis/miniconda3/envs/quantech/lib/python3.9/site-packages/pyscf/symm/Dmatrix.py:156: RuntimeWarning: invalid value encountered in arccos\n",
      "  gamma = numpy.arccos(yp.dot(c2[1]))\n",
      "Progress:  18%|█▊        | 54/300 [12:25<52:01, 12.69s/it]"
     ]
    },
    {
     "name": "stdout",
     "output_type": "stream",
     "text": [
      "Time to: Calculate Ground State - 1.04s, Get Pauli Ops - 4.18s, Calculate Pauli Expectation Values - 5.0s, Calculate Covariance - 2.29s\n",
      "f0,f1,f2 = [1.0361018922778213e-08, 1.0361018922811488e-08, 1.0361018922808205e-08]\n",
      "d01,d02,d12 = [0.8129536226315051, 0.812953622631421, 0.8129536226305019]\n"
     ]
    },
    {
     "name": "stderr",
     "output_type": "stream",
     "text": [
      "/cluster/home/mskrabulis/miniconda3/envs/quantech/lib/python3.9/site-packages/pyscf/symm/Dmatrix.py:156: RuntimeWarning: invalid value encountered in arccos\n",
      "  gamma = numpy.arccos(yp.dot(c2[1]))\n",
      "Progress:  18%|█▊        | 55/300 [12:38<52:09, 12.77s/it]"
     ]
    },
    {
     "name": "stdout",
     "output_type": "stream",
     "text": [
      "Time to: Calculate Ground State - 1.12s, Get Pauli Ops - 4.07s, Calculate Pauli Expectation Values - 5.87s, Calculate Covariance - 1.91s\n",
      "f0,f1,f2 = [1.0578392131405409e-08, 1.057839213144048e-08, 1.0578392131454538e-08]\n",
      "d01,d02,d12 = [0.8122542785150851, 0.8122542785149958, 0.8122542785142938]\n"
     ]
    },
    {
     "name": "stderr",
     "output_type": "stream",
     "text": [
      "Progress:  19%|█▊        | 56/300 [12:52<53:35, 13.18s/it]"
     ]
    },
    {
     "name": "stdout",
     "output_type": "stream",
     "text": [
      "Time to: Calculate Ground State - 1.32s, Get Pauli Ops - 4.97s, Calculate Pauli Expectation Values - 5.53s, Calculate Covariance - 2.3s\n",
      "f0,f1,f2 = [1.0783872540986412e-08, 1.0783872541014409e-08, 1.0783872541009514e-08]\n",
      "d01,d02,d12 = [0.816089640629914, 0.8160896406298194, 0.8160896406293461]\n"
     ]
    },
    {
     "name": "stderr",
     "output_type": "stream",
     "text": [
      "Progress:  19%|█▉        | 57/300 [13:06<54:19, 13.41s/it]"
     ]
    },
    {
     "name": "stdout",
     "output_type": "stream",
     "text": [
      "Time to: Calculate Ground State - 1.06s, Get Pauli Ops - 5.12s, Calculate Pauli Expectation Values - 5.68s, Calculate Covariance - 2.09s\n",
      "f0,f1,f2 = [1.0057328630226524e-08, 1.0057328630236718e-08, 1.0057328630232048e-08]\n",
      "d01,d02,d12 = [0.8240597474608825, 0.8240597474607806, 0.8240597474605428]\n"
     ]
    },
    {
     "name": "stderr",
     "output_type": "stream",
     "text": [
      "Progress:  19%|█▉        | 58/300 [13:20<55:02, 13.65s/it]"
     ]
    },
    {
     "name": "stdout",
     "output_type": "stream",
     "text": [
      "Time to: Calculate Ground State - 1.02s, Get Pauli Ops - 5.15s, Calculate Pauli Expectation Values - 5.99s, Calculate Covariance - 2.02s\n",
      "f0,f1,f2 = [9.24172177244058e-09, 9.241721772449489e-09, 9.241721772458662e-09]\n",
      "d01,d02,d12 = [0.8358231648125977, 0.8358231648124904, 0.835823164812491]\n"
     ]
    },
    {
     "name": "stderr",
     "output_type": "stream",
     "text": [
      "/cluster/home/mskrabulis/miniconda3/envs/quantech/lib/python3.9/site-packages/pyscf/symm/Dmatrix.py:156: RuntimeWarning: invalid value encountered in arccos\n",
      "  gamma = numpy.arccos(yp.dot(c2[1]))\n",
      "Progress:  20%|█▉        | 59/300 [13:33<54:42, 13.62s/it]"
     ]
    },
    {
     "name": "stdout",
     "output_type": "stream",
     "text": [
      "Time to: Calculate Ground State - 1.25s, Get Pauli Ops - 4.33s, Calculate Pauli Expectation Values - 5.77s, Calculate Covariance - 2.2s\n",
      "f0,f1,f2 = [9.576310495304017e-09, 9.576310495310219e-09, 9.576310495315723e-09]\n",
      "d01,d02,d12 = [0.8519622037181995, 0.8519622037180928, 0.8519622037183283]\n"
     ]
    },
    {
     "name": "stderr",
     "output_type": "stream",
     "text": [
      "Progress:  20%|██        | 60/300 [13:48<55:34, 13.89s/it]"
     ]
    },
    {
     "name": "stdout",
     "output_type": "stream",
     "text": [
      "Time to: Calculate Ground State - 1.04s, Get Pauli Ops - 5.01s, Calculate Pauli Expectation Values - 6.33s, Calculate Covariance - 2.13s\n",
      "f0,f1,f2 = [8.005519163264073e-09, 8.005519163247166e-09, 8.005519163253601e-09]\n",
      "d01,d02,d12 = [0.8694194140928424, 0.8694194140927328, 0.8694194140932018]\n"
     ]
    },
    {
     "name": "stderr",
     "output_type": "stream",
     "text": [
      "Progress:  20%|██        | 61/300 [14:04<57:36, 14.46s/it]"
     ]
    },
    {
     "name": "stdout",
     "output_type": "stream",
     "text": [
      "Time to: Calculate Ground State - 1.06s, Get Pauli Ops - 7.54s, Calculate Pauli Expectation Values - 4.97s, Calculate Covariance - 2.21s\n",
      "f0,f1,f2 = [6.913381824824649e-09, 6.913381824811914e-09, 6.9133818248234475e-09]\n",
      "d01,d02,d12 = [0.8903161192241038, 0.8903161192239872, 0.8903161192246936]\n"
     ]
    },
    {
     "name": "stderr",
     "output_type": "stream",
     "text": [
      "/cluster/home/mskrabulis/miniconda3/envs/quantech/lib/python3.9/site-packages/pyscf/symm/Dmatrix.py:156: RuntimeWarning: invalid value encountered in arccos\n",
      "  gamma = numpy.arccos(yp.dot(c2[1]))\n",
      "Progress:  21%|██        | 62/300 [14:21<1:00:20, 15.21s/it]"
     ]
    },
    {
     "name": "stdout",
     "output_type": "stream",
     "text": [
      "Time to: Calculate Ground State - 1.51s, Get Pauli Ops - 6.29s, Calculate Pauli Expectation Values - 7.17s, Calculate Covariance - 1.98s\n",
      "f0,f1,f2 = [4.473120490034292e-09, 4.473120490012646e-09, 4.473120490009418e-09]\n",
      "d01,d02,d12 = [0.9095494182284412, 0.9095494182283197, 0.9095494182292352]\n"
     ]
    },
    {
     "name": "stderr",
     "output_type": "stream",
     "text": [
      "Progress:  21%|██        | 63/300 [14:35<58:40, 14.86s/it]  "
     ]
    },
    {
     "name": "stdout",
     "output_type": "stream",
     "text": [
      "Time to: Calculate Ground State - 1.35s, Get Pauli Ops - 4.67s, Calculate Pauli Expectation Values - 5.71s, Calculate Covariance - 2.28s\n",
      "f0,f1,f2 = [4.03304786289388e-09, 4.033047862878081e-09, 4.033047862881734e-09]\n",
      "d01,d02,d12 = [0.928699006501672, 0.9286990065015449, 0.9286990065026686]\n"
     ]
    },
    {
     "name": "stderr",
     "output_type": "stream",
     "text": [
      "/cluster/home/mskrabulis/miniconda3/envs/quantech/lib/python3.9/site-packages/pyscf/symm/Dmatrix.py:156: RuntimeWarning: invalid value encountered in arccos\n",
      "  gamma = numpy.arccos(yp.dot(c2[1]))\n",
      "Progress:  21%|██▏       | 64/300 [14:48<56:57, 14.48s/it]"
     ]
    },
    {
     "name": "stdout",
     "output_type": "stream",
     "text": [
      "Time to: Calculate Ground State - 1.35s, Get Pauli Ops - 5.21s, Calculate Pauli Expectation Values - 5.27s, Calculate Covariance - 1.77s\n",
      "f0,f1,f2 = [3.837664104118303e-09, 3.837664104080347e-09, 3.837664104090746e-09]\n",
      "d01,d02,d12 = [0.9452655541056612, 0.9452655541055239, 0.9452655541068398]\n"
     ]
    },
    {
     "name": "stderr",
     "output_type": "stream",
     "text": [
      "Progress:  22%|██▏       | 65/300 [15:03<56:42, 14.48s/it]"
     ]
    },
    {
     "name": "stdout",
     "output_type": "stream",
     "text": [
      "Time to: Calculate Ground State - 1.15s, Get Pauli Ops - 5.02s, Calculate Pauli Expectation Values - 5.83s, Calculate Covariance - 2.47s\n",
      "f0,f1,f2 = [1.9618410883345e-09, 1.9618410883134995e-09, 1.9618410883151832e-09]\n",
      "d01,d02,d12 = [0.9612826757336934, 0.9612826757335445, 0.9612826757350534]\n"
     ]
    },
    {
     "name": "stderr",
     "output_type": "stream",
     "text": [
      "Progress:  22%|██▏       | 66/300 [15:18<56:57, 14.60s/it]"
     ]
    },
    {
     "name": "stdout",
     "output_type": "stream",
     "text": [
      "Time to: Calculate Ground State - 1.27s, Get Pauli Ops - 6.89s, Calculate Pauli Expectation Values - 4.73s, Calculate Covariance - 2.0s\n",
      "f0,f1,f2 = [1.1589613986278219e-09, 1.1589613985972848e-09, 1.1589613986091148e-09]\n",
      "d01,d02,d12 = [0.9756891498340712, 0.9756891498339231, 0.9756891498355826]\n"
     ]
    },
    {
     "name": "stderr",
     "output_type": "stream",
     "text": [
      "/cluster/home/mskrabulis/miniconda3/envs/quantech/lib/python3.9/site-packages/pyscf/symm/Dmatrix.py:156: RuntimeWarning: invalid value encountered in arccos\n",
      "  gamma = numpy.arccos(yp.dot(c2[1]))\n",
      "Progress:  22%|██▏       | 67/300 [15:31<54:55, 14.14s/it]"
     ]
    },
    {
     "name": "stdout",
     "output_type": "stream",
     "text": [
      "Time to: Calculate Ground State - 1.41s, Get Pauli Ops - 4.51s, Calculate Pauli Expectation Values - 4.98s, Calculate Covariance - 2.17s\n",
      "f0,f1,f2 = [1.6772386388658645e-09, 1.6772386388334752e-09, 1.6772386388405778e-09]\n",
      "d01,d02,d12 = [0.9915210167938542, 0.9915210167937035, 0.9915210167955021]\n"
     ]
    },
    {
     "name": "stderr",
     "output_type": "stream",
     "text": [
      "Progress:  23%|██▎       | 68/300 [15:43<52:59, 13.70s/it]"
     ]
    },
    {
     "name": "stdout",
     "output_type": "stream",
     "text": [
      "Time to: Calculate Ground State - 1.2s, Get Pauli Ops - 4.53s, Calculate Pauli Expectation Values - 5.2s, Calculate Covariance - 1.73s\n",
      "f0,f1,f2 = [9.424428912636703e-10, 9.42442891291904e-10, 9.424428912896494e-10]\n",
      "d01,d02,d12 = [1.0066613359041379, 1.0066613359039915, 1.0066613359059073]\n"
     ]
    },
    {
     "name": "stderr",
     "output_type": "stream",
     "text": [
      "Progress:  23%|██▎       | 69/300 [15:56<51:20, 13.34s/it]"
     ]
    },
    {
     "name": "stdout",
     "output_type": "stream",
     "text": [
      "Time to: Calculate Ground State - 1.31s, Get Pauli Ops - 4.23s, Calculate Pauli Expectation Values - 5.07s, Calculate Covariance - 1.86s\n",
      "f0,f1,f2 = [4.375239769000082e-10, 4.3752397693052124e-10, 4.375239769277486e-10]\n",
      "d01,d02,d12 = [1.0213592043327555, 1.0213592043326272, 1.0213592043346482]\n"
     ]
    },
    {
     "name": "stderr",
     "output_type": "stream",
     "text": [
      "Progress:  23%|██▎       | 70/300 [16:11<52:54, 13.80s/it]"
     ]
    },
    {
     "name": "stdout",
     "output_type": "stream",
     "text": [
      "Time to: Calculate Ground State - 1.11s, Get Pauli Ops - 4.88s, Calculate Pauli Expectation Values - 6.95s, Calculate Covariance - 1.96s\n",
      "f0,f1,f2 = [9.76992962007696e-10, 9.769929620390074e-10, 9.769929620277728e-10]\n",
      "d01,d02,d12 = [1.0391531062919772, 1.0391531062918724, 1.039153106293988]\n"
     ]
    },
    {
     "name": "stderr",
     "output_type": "stream",
     "text": [
      "Progress:  24%|██▎       | 71/300 [16:26<54:01, 14.16s/it]"
     ]
    },
    {
     "name": "stdout",
     "output_type": "stream",
     "text": [
      "Time to: Calculate Ground State - 0.99s, Get Pauli Ops - 4.86s, Calculate Pauli Expectation Values - 7.2s, Calculate Covariance - 1.92s\n",
      "f0,f1,f2 = [2.215833693914957e-09, 2.215833693943153e-09, 2.2158336939516464e-09]\n",
      "d01,d02,d12 = [1.0566535191320008, 1.0566535191319066, 1.0566535191341373]\n"
     ]
    },
    {
     "name": "stderr",
     "output_type": "stream",
     "text": [
      "Progress:  24%|██▍       | 72/300 [16:40<53:44, 14.14s/it]"
     ]
    },
    {
     "name": "stdout",
     "output_type": "stream",
     "text": [
      "Time to: Calculate Ground State - 1.05s, Get Pauli Ops - 5.48s, Calculate Pauli Expectation Values - 5.53s, Calculate Covariance - 2.04s\n",
      "f0,f1,f2 = [2.4335225532155836e-09, 2.4335225532527853e-09, 2.4335225532478648e-09]\n",
      "d01,d02,d12 = [1.0722057902172968, 1.0722057902172217, 1.072205790219553]\n"
     ]
    },
    {
     "name": "stderr",
     "output_type": "stream",
     "text": [
      "/cluster/home/mskrabulis/miniconda3/envs/quantech/lib/python3.9/site-packages/pyscf/symm/Dmatrix.py:156: RuntimeWarning: invalid value encountered in arccos\n",
      "  gamma = numpy.arccos(yp.dot(c2[1]))\n",
      "Progress:  24%|██▍       | 73/300 [16:52<51:36, 13.64s/it]"
     ]
    },
    {
     "name": "stdout",
     "output_type": "stream",
     "text": [
      "Time to: Calculate Ground State - 1.3s, Get Pauli Ops - 4.43s, Calculate Pauli Expectation Values - 5.05s, Calculate Covariance - 1.69s\n",
      "f0,f1,f2 = [3.385996564842868e-09, 3.3859965648774317e-09, 3.3859965648692955e-09]\n",
      "d01,d02,d12 = [1.0851075406898696, 1.0851075406898156, 1.0851075406922281]\n"
     ]
    },
    {
     "name": "stderr",
     "output_type": "stream",
     "text": [
      "Progress:  25%|██▍       | 74/300 [17:05<50:09, 13.31s/it]"
     ]
    },
    {
     "name": "stdout",
     "output_type": "stream",
     "text": [
      "Time to: Calculate Ground State - 0.99s, Get Pauli Ops - 4.64s, Calculate Pauli Expectation Values - 5.14s, Calculate Covariance - 1.78s\n",
      "f0,f1,f2 = [3.251112051852956e-09, 3.2511120518859993e-09, 3.25111205188198e-09]\n",
      "d01,d02,d12 = [1.0991986778153926, 1.0991986778153604, 1.0991986778178537]\n"
     ]
    },
    {
     "name": "stderr",
     "output_type": "stream",
     "text": [
      "Progress:  25%|██▌       | 75/300 [17:19<50:38, 13.50s/it]"
     ]
    },
    {
     "name": "stdout",
     "output_type": "stream",
     "text": [
      "Time to: Calculate Ground State - 1.3s, Get Pauli Ops - 4.87s, Calculate Pauli Expectation Values - 5.32s, Calculate Covariance - 2.44s\n",
      "f0,f1,f2 = [2.3864045308690054e-09, 2.386404530875294e-09, 2.3864045308914505e-09]\n",
      "d01,d02,d12 = [1.1102420785070382, 1.1102420785070188, 1.110242078509591]\n"
     ]
    },
    {
     "name": "stderr",
     "output_type": "stream",
     "text": [
      "Progress:  25%|██▌       | 76/300 [17:34<51:59, 13.93s/it]"
     ]
    },
    {
     "name": "stdout",
     "output_type": "stream",
     "text": [
      "Time to: Calculate Ground State - 0.87s, Get Pauli Ops - 6.83s, Calculate Pauli Expectation Values - 5.1s, Calculate Covariance - 2.11s\n",
      "f0,f1,f2 = [3.074739147450647e-09, 3.074739147463654e-09, 3.0747391474695625e-09]\n",
      "d01,d02,d12 = [1.1203646016783637, 1.120364601678356, 1.1203646016809685]\n"
     ]
    },
    {
     "name": "stderr",
     "output_type": "stream",
     "text": [
      "Progress:  26%|██▌       | 77/300 [17:48<51:51, 13.95s/it]"
     ]
    },
    {
     "name": "stdout",
     "output_type": "stream",
     "text": [
      "Time to: Calculate Ground State - 1.15s, Get Pauli Ops - 5.12s, Calculate Pauli Expectation Values - 5.54s, Calculate Covariance - 2.19s\n",
      "f0,f1,f2 = [4.740594310880123e-09, 4.740594310886723e-09, 4.7405943108858315e-09]\n",
      "d01,d02,d12 = [1.1275526000856897, 1.1275526000856937, 1.1275526000883411]\n"
     ]
    },
    {
     "name": "stderr",
     "output_type": "stream",
     "text": [
      "Progress:  26%|██▌       | 78/300 [18:01<50:45, 13.72s/it]"
     ]
    },
    {
     "name": "stdout",
     "output_type": "stream",
     "text": [
      "Time to: Calculate Ground State - 0.94s, Get Pauli Ops - 4.97s, Calculate Pauli Expectation Values - 5.16s, Calculate Covariance - 2.1s\n",
      "f0,f1,f2 = [4.441161771654275e-09, 4.441161771665131e-09, 4.441161771674737e-09]\n",
      "d01,d02,d12 = [1.1330146717516971, 1.1330146717517082, 1.1330146717543985]\n"
     ]
    },
    {
     "name": "stderr",
     "output_type": "stream",
     "text": [
      "Progress:  26%|██▋       | 79/300 [18:15<51:15, 13.92s/it]"
     ]
    },
    {
     "name": "stdout",
     "output_type": "stream",
     "text": [
      "Time to: Calculate Ground State - 1.28s, Get Pauli Ops - 4.3s, Calculate Pauli Expectation Values - 6.51s, Calculate Covariance - 2.28s\n",
      "f0,f1,f2 = [4.484624059661024e-09, 4.4846240596839914e-09, 4.484624059690448e-09]\n",
      "d01,d02,d12 = [1.135944327095034, 1.1359443270950504, 1.1359443270977776]\n"
     ]
    },
    {
     "name": "stderr",
     "output_type": "stream",
     "text": [
      "/cluster/home/mskrabulis/miniconda3/envs/quantech/lib/python3.9/site-packages/pyscf/symm/Dmatrix.py:156: RuntimeWarning: invalid value encountered in arccos\n",
      "  gamma = numpy.arccos(yp.dot(c2[1]))\n",
      "Progress:  27%|██▋       | 80/300 [18:32<53:48, 14.67s/it]"
     ]
    },
    {
     "name": "stdout",
     "output_type": "stream",
     "text": [
      "Time to: Calculate Ground State - 1.24s, Get Pauli Ops - 7.21s, Calculate Pauli Expectation Values - 5.63s, Calculate Covariance - 2.35s\n",
      "f0,f1,f2 = [4.913024872587872e-09, 4.913024872608121e-09, 4.913024872620951e-09]\n",
      "d01,d02,d12 = [1.1367712625590545, 1.1367712625590722, 1.136771262561828]\n"
     ]
    },
    {
     "name": "stderr",
     "output_type": "stream",
     "text": [
      "/cluster/home/mskrabulis/miniconda3/envs/quantech/lib/python3.9/site-packages/pyscf/symm/Dmatrix.py:156: RuntimeWarning: invalid value encountered in arccos\n",
      "  gamma = numpy.arccos(yp.dot(c2[1]))\n",
      "Progress:  27%|██▋       | 81/300 [18:46<52:39, 14.43s/it]"
     ]
    },
    {
     "name": "stdout",
     "output_type": "stream",
     "text": [
      "Time to: Calculate Ground State - 1.32s, Get Pauli Ops - 5.54s, Calculate Pauli Expectation Values - 5.23s, Calculate Covariance - 1.75s\n",
      "f0,f1,f2 = [4.700946054683046e-09, 4.70094605470393e-09, 4.700946054713354e-09]\n",
      "d01,d02,d12 = [1.1355399597520792, 1.1355399597520959, 1.1355399597548728]\n"
     ]
    },
    {
     "name": "stderr",
     "output_type": "stream",
     "text": [
      "Progress:  27%|██▋       | 82/300 [18:59<51:41, 14.23s/it]"
     ]
    },
    {
     "name": "stdout",
     "output_type": "stream",
     "text": [
      "Time to: Calculate Ground State - 0.9s, Get Pauli Ops - 4.3s, Calculate Pauli Expectation Values - 6.05s, Calculate Covariance - 2.5s\n",
      "f0,f1,f2 = [4.583328019463312e-09, 4.583328019508135e-09, 4.583328019489057e-09]\n",
      "d01,d02,d12 = [1.1326696512605232, 1.1326696512605456, 1.1326696512633285]\n"
     ]
    },
    {
     "name": "stderr",
     "output_type": "stream",
     "text": [
      "Progress:  28%|██▊       | 83/300 [19:13<50:36, 14.00s/it]"
     ]
    },
    {
     "name": "stdout",
     "output_type": "stream",
     "text": [
      "Time to: Calculate Ground State - 1.34s, Get Pauli Ops - 4.5s, Calculate Pauli Expectation Values - 5.32s, Calculate Covariance - 2.29s\n",
      "f0,f1,f2 = [4.855819071664352e-09, 4.8558190716934584e-09, 4.8558190716714695e-09]\n",
      "d01,d02,d12 = [1.1278852140530835, 1.127885214053118, 1.127885214055898]\n"
     ]
    },
    {
     "name": "stderr",
     "output_type": "stream",
     "text": [
      "/cluster/home/mskrabulis/miniconda3/envs/quantech/lib/python3.9/site-packages/pyscf/symm/Dmatrix.py:156: RuntimeWarning: invalid value encountered in arccos\n",
      "  gamma = numpy.arccos(yp.dot(c2[1]))\n",
      "Progress:  28%|██▊       | 84/300 [19:26<49:42, 13.81s/it]"
     ]
    },
    {
     "name": "stdout",
     "output_type": "stream",
     "text": [
      "Time to: Calculate Ground State - 0.94s, Get Pauli Ops - 5.09s, Calculate Pauli Expectation Values - 4.99s, Calculate Covariance - 2.34s\n",
      "f0,f1,f2 = [2.719719191641639e-09, 2.719719191650656e-09, 2.7197191916390726e-09]\n",
      "d01,d02,d12 = [1.1231058698482537, 1.1231058698483019, 1.1231058698510819]\n"
     ]
    },
    {
     "name": "stderr",
     "output_type": "stream",
     "text": [
      "Progress:  28%|██▊       | 85/300 [19:41<50:31, 14.10s/it]"
     ]
    },
    {
     "name": "stdout",
     "output_type": "stream",
     "text": [
      "Time to: Calculate Ground State - 1.38s, Get Pauli Ops - 5.1s, Calculate Pauli Expectation Values - 6.02s, Calculate Covariance - 2.27s\n",
      "f0,f1,f2 = [3.421996562586046e-09, 3.4219965626137497e-09, 3.4219965626177685e-09]\n",
      "d01,d02,d12 = [1.117015748790948, 1.1170157487910062, 1.1170157487937902]\n"
     ]
    },
    {
     "name": "stderr",
     "output_type": "stream",
     "text": [
      "/cluster/home/mskrabulis/miniconda3/envs/quantech/lib/python3.9/site-packages/pyscf/symm/Dmatrix.py:156: RuntimeWarning: invalid value encountered in arccos\n",
      "  gamma = numpy.arccos(yp.dot(c2[1]))\n",
      "Progress:  29%|██▊       | 86/300 [19:56<50:55, 14.28s/it]"
     ]
    },
    {
     "name": "stdout",
     "output_type": "stream",
     "text": [
      "Time to: Calculate Ground State - 1.26s, Get Pauli Ops - 5.12s, Calculate Pauli Expectation Values - 6.14s, Calculate Covariance - 2.18s\n",
      "f0,f1,f2 = [3.3346106699860072e-09, 3.334610670002972e-09, 3.3346106700103437e-09]\n",
      "d01,d02,d12 = [1.109319304629551, 1.1093193046296173, 1.109319304632387]\n"
     ]
    },
    {
     "name": "stderr",
     "output_type": "stream",
     "text": [
      "Progress:  29%|██▉       | 87/300 [20:13<53:25, 15.05s/it]"
     ]
    },
    {
     "name": "stdout",
     "output_type": "stream",
     "text": [
      "Time to: Calculate Ground State - 1.2s, Get Pauli Ops - 8.23s, Calculate Pauli Expectation Values - 5.05s, Calculate Covariance - 2.35s\n",
      "f0,f1,f2 = [4.399544455917535e-09, 4.399544455954624e-09, 4.399544455946942e-09]\n",
      "d01,d02,d12 = [1.099250976988662, 1.0992509769887362, 1.0992509769914727]\n"
     ]
    },
    {
     "name": "stderr",
     "output_type": "stream",
     "text": [
      "Progress:  29%|██▉       | 88/300 [20:29<54:28, 15.42s/it]"
     ]
    },
    {
     "name": "stdout",
     "output_type": "stream",
     "text": [
      "Time to: Calculate Ground State - 1.04s, Get Pauli Ops - 7.28s, Calculate Pauli Expectation Values - 5.79s, Calculate Covariance - 2.17s\n",
      "f0,f1,f2 = [6.126251028115426e-09, 6.126251028138115e-09, 6.126251028131232e-09]\n",
      "d01,d02,d12 = [1.0870611119008933, 1.087061111900973, 1.0870611119036528]\n"
     ]
    },
    {
     "name": "stderr",
     "output_type": "stream",
     "text": [
      "Progress:  30%|██▉       | 89/300 [20:41<51:06, 14.53s/it]"
     ]
    },
    {
     "name": "stdout",
     "output_type": "stream",
     "text": [
      "Time to: Calculate Ground State - 1.07s, Get Pauli Ops - 4.54s, Calculate Pauli Expectation Values - 4.78s, Calculate Covariance - 2.07s\n",
      "f0,f1,f2 = [3.050908062955455e-09, 3.0509080629816645e-09, 3.0509080629796537e-09]\n",
      "d01,d02,d12 = [1.074029009506386, 1.074029009506471, 1.074029009509092]\n"
     ]
    },
    {
     "name": "stderr",
     "output_type": "stream",
     "text": [
      "/cluster/home/mskrabulis/miniconda3/envs/quantech/lib/python3.9/site-packages/pyscf/symm/Dmatrix.py:156: RuntimeWarning: invalid value encountered in arccos\n",
      "  gamma = numpy.arccos(yp.dot(c2[1]))\n",
      "Progress:  30%|███       | 90/300 [20:57<51:34, 14.74s/it]"
     ]
    },
    {
     "name": "stdout",
     "output_type": "stream",
     "text": [
      "Time to: Calculate Ground State - 1.3s, Get Pauli Ops - 4.75s, Calculate Pauli Expectation Values - 6.89s, Calculate Covariance - 2.27s\n",
      "f0,f1,f2 = [3.867228933072174e-09, 3.867228933108232e-09, 3.867228933096962e-09]\n",
      "d01,d02,d12 = [1.0571943619230866, 1.0571943619231785, 1.0571943619257147]\n"
     ]
    },
    {
     "name": "stderr",
     "output_type": "stream",
     "text": [
      "Progress:  30%|███       | 91/300 [21:10<50:08, 14.39s/it]"
     ]
    },
    {
     "name": "stdout",
     "output_type": "stream",
     "text": [
      "Time to: Calculate Ground State - 0.83s, Get Pauli Ops - 5.19s, Calculate Pauli Expectation Values - 5.24s, Calculate Covariance - 2.33s\n",
      "f0,f1,f2 = [2.51772912940244e-09, 2.517729129443291e-09, 2.5177291294452333e-09]\n",
      "d01,d02,d12 = [1.0400411406477428, 1.0400411406478351, 1.040041140650271]\n"
     ]
    },
    {
     "name": "stderr",
     "output_type": "stream",
     "text": [
      "/cluster/home/mskrabulis/miniconda3/envs/quantech/lib/python3.9/site-packages/pyscf/symm/Dmatrix.py:156: RuntimeWarning: invalid value encountered in arccos\n",
      "  gamma = numpy.arccos(yp.dot(c2[1]))\n",
      "Progress:  31%|███       | 92/300 [21:24<49:33, 14.30s/it]"
     ]
    },
    {
     "name": "stdout",
     "output_type": "stream",
     "text": [
      "Time to: Calculate Ground State - 1.12s, Get Pauli Ops - 4.95s, Calculate Pauli Expectation Values - 5.75s, Calculate Covariance - 2.24s\n",
      "f0,f1,f2 = [2.555082333964733e-09, 2.5550823339835278e-09, 2.555082333977394e-09]\n",
      "d01,d02,d12 = [1.0221602114932153, 1.022160211493312, 1.0221602114956532]\n"
     ]
    },
    {
     "name": "stderr",
     "output_type": "stream",
     "text": [
      "/cluster/home/mskrabulis/miniconda3/envs/quantech/lib/python3.9/site-packages/pyscf/symm/Dmatrix.py:156: RuntimeWarning: invalid value encountered in arccos\n",
      "  gamma = numpy.arccos(yp.dot(c2[1]))\n",
      "/cluster/home/mskrabulis/miniconda3/envs/quantech/lib/python3.9/site-packages/pyscf/symm/Dmatrix.py:156: RuntimeWarning: invalid value encountered in arccos\n",
      "  gamma = numpy.arccos(yp.dot(c2[1]))\n",
      "Progress:  31%|███       | 93/300 [21:37<48:13, 13.98s/it]"
     ]
    },
    {
     "name": "stdout",
     "output_type": "stream",
     "text": [
      "Time to: Calculate Ground State - 1.35s, Get Pauli Ops - 5.06s, Calculate Pauli Expectation Values - 5.05s, Calculate Covariance - 1.77s\n",
      "f0,f1,f2 = [1.3289183007659023e-09, 1.3289183008097783e-09, 1.3289183008138232e-09]\n",
      "d01,d02,d12 = [1.0058102947201168, 1.0058102947202205, 1.0058102947224383]\n"
     ]
    },
    {
     "name": "stderr",
     "output_type": "stream",
     "text": [
      "Progress:  31%|███▏      | 94/300 [21:53<49:25, 14.40s/it]"
     ]
    },
    {
     "name": "stdout",
     "output_type": "stream",
     "text": [
      "Time to: Calculate Ground State - 1.26s, Get Pauli Ops - 6.29s, Calculate Pauli Expectation Values - 5.65s, Calculate Covariance - 2.17s\n",
      "f0,f1,f2 = [5.906659854737516e-11, 5.906659849655617e-11, 5.906659849937938e-11]\n",
      "d01,d02,d12 = [0.9877831592489372, 0.9877831592490387, 0.9877831592511098]\n"
     ]
    },
    {
     "name": "stderr",
     "output_type": "stream",
     "text": [
      "/cluster/home/mskrabulis/miniconda3/envs/quantech/lib/python3.9/site-packages/pyscf/symm/Dmatrix.py:156: RuntimeWarning: invalid value encountered in arccos\n",
      "  gamma = numpy.arccos(yp.dot(c2[1]))\n",
      "Progress:  32%|███▏      | 95/300 [22:07<48:52, 14.31s/it]"
     ]
    },
    {
     "name": "stdout",
     "output_type": "stream",
     "text": [
      "Time to: Calculate Ground State - 1.26s, Get Pauli Ops - 4.81s, Calculate Pauli Expectation Values - 5.73s, Calculate Covariance - 2.28s\n",
      "f0,f1,f2 = [1.0638657703066697e-09, 1.0638657703313722e-09, 1.0638657703446127e-09]\n",
      "d01,d02,d12 = [0.9692811093480589, 0.9692811093481474, 0.9692811093500203]\n"
     ]
    },
    {
     "name": "stderr",
     "output_type": "stream",
     "text": [
      "Progress:  32%|███▏      | 96/300 [22:22<49:24, 14.53s/it]"
     ]
    },
    {
     "name": "stdout",
     "output_type": "stream",
     "text": [
      "Time to: Calculate Ground State - 1.26s, Get Pauli Ops - 6.09s, Calculate Pauli Expectation Values - 5.45s, Calculate Covariance - 2.26s\n",
      "f0,f1,f2 = [1.316158347706322e-09, 1.3161583476649465e-09, 1.3161583476612517e-09]\n",
      "d01,d02,d12 = [0.9504905279894926, 0.9504905279895645, 0.9504905279912088]\n"
     ]
    },
    {
     "name": "stderr",
     "output_type": "stream",
     "text": [
      "Progress:  32%|███▏      | 97/300 [22:36<48:11, 14.24s/it]"
     ]
    },
    {
     "name": "stdout",
     "output_type": "stream",
     "text": [
      "Time to: Calculate Ground State - 1.3s, Get Pauli Ops - 5.06s, Calculate Pauli Expectation Values - 5.41s, Calculate Covariance - 1.77s\n",
      "f0,f1,f2 = [1.6159788921386873e-09, 1.6159788921156725e-09, 1.6159788921117785e-09]\n",
      "d01,d02,d12 = [0.9315251695546399, 0.9315251695546846, 0.9315251695560748]\n"
     ]
    },
    {
     "name": "stderr",
     "output_type": "stream",
     "text": [
      "/cluster/home/mskrabulis/miniconda3/envs/quantech/lib/python3.9/site-packages/pyscf/symm/Dmatrix.py:156: RuntimeWarning: invalid value encountered in arccos\n",
      "  gamma = numpy.arccos(yp.dot(c2[1]))\n",
      "Progress:  33%|███▎      | 98/300 [22:49<47:34, 14.13s/it]"
     ]
    },
    {
     "name": "stdout",
     "output_type": "stream",
     "text": [
      "Time to: Calculate Ground State - 1.27s, Get Pauli Ops - 5.22s, Calculate Pauli Expectation Values - 5.19s, Calculate Covariance - 2.18s\n",
      "f0,f1,f2 = [2.4781560992449024e-09, 2.4781560992139597e-09, 2.4781560992143877e-09]\n",
      "d01,d02,d12 = [0.9117548689772341, 0.9117548689772534, 0.9117548689783507]\n"
     ]
    },
    {
     "name": "stderr",
     "output_type": "stream",
     "text": [
      "/cluster/home/mskrabulis/miniconda3/envs/quantech/lib/python3.9/site-packages/pyscf/symm/Dmatrix.py:156: RuntimeWarning: invalid value encountered in arccos\n",
      "  gamma = numpy.arccos(yp.dot(c2[1]))\n",
      "Progress:  33%|███▎      | 99/300 [23:05<49:09, 14.68s/it]"
     ]
    },
    {
     "name": "stdout",
     "output_type": "stream",
     "text": [
      "Time to: Calculate Ground State - 1.29s, Get Pauli Ops - 7.3s, Calculate Pauli Expectation Values - 5.42s, Calculate Covariance - 1.92s\n",
      "f0,f1,f2 = [3.882810525508579e-09, 3.8828105254661646e-09, 3.882810525462398e-09]\n",
      "d01,d02,d12 = [0.8922290440456523, 0.8922290440456463, 0.8922290440463989]\n"
     ]
    },
    {
     "name": "stderr",
     "output_type": "stream",
     "text": [
      "Progress:  33%|███▎      | 100/300 [23:18<46:39, 14.00s/it]"
     ]
    },
    {
     "name": "stdout",
     "output_type": "stream",
     "text": [
      "Time to: Calculate Ground State - 1.24s, Get Pauli Ops - 4.75s, Calculate Pauli Expectation Values - 5.04s, Calculate Covariance - 1.39s\n",
      "f0,f1,f2 = [4.0011260115195325e-09, 4.001126011497975e-09, 4.001126011509889e-09]\n",
      "d01,d02,d12 = [0.873329225040688, 0.8733292250406675, 0.8733292250410598]\n"
     ]
    },
    {
     "name": "stderr",
     "output_type": "stream",
     "text": [
      "/cluster/home/mskrabulis/miniconda3/envs/quantech/lib/python3.9/site-packages/pyscf/symm/Dmatrix.py:156: RuntimeWarning: invalid value encountered in arccos\n",
      "  gamma = numpy.arccos(yp.dot(c2[1]))\n",
      "/cluster/home/mskrabulis/miniconda3/envs/quantech/lib/python3.9/site-packages/pyscf/symm/Dmatrix.py:156: RuntimeWarning: invalid value encountered in arccos\n",
      "  gamma = numpy.arccos(yp.dot(c2[1]))\n",
      "Progress:  34%|███▎      | 101/300 [23:33<47:52, 14.44s/it]"
     ]
    },
    {
     "name": "stdout",
     "output_type": "stream",
     "text": [
      "Time to: Calculate Ground State - 0.95s, Get Pauli Ops - 4.78s, Calculate Pauli Expectation Values - 7.81s, Calculate Covariance - 1.91s\n",
      "f0,f1,f2 = [6.329364652286121e-09, 6.329364652279389e-09, 6.3293646522909615e-09]\n",
      "d01,d02,d12 = [0.8559413271519962, 0.8559413271519638, 0.8559413271519966]\n"
     ]
    },
    {
     "name": "stderr",
     "output_type": "stream",
     "text": [
      "Progress:  34%|███▍      | 102/300 [23:48<47:43, 14.46s/it]"
     ]
    },
    {
     "name": "stdout",
     "output_type": "stream",
     "text": [
      "Time to: Calculate Ground State - 1.38s, Get Pauli Ops - 5.5s, Calculate Pauli Expectation Values - 5.4s, Calculate Covariance - 2.25s\n",
      "f0,f1,f2 = [7.974531948771656e-09, 7.974531948779484e-09, 7.97453194877259e-09]\n",
      "d01,d02,d12 = [0.8406052880207593, 0.8406052880207103, 0.840605288020375]\n"
     ]
    },
    {
     "name": "stderr",
     "output_type": "stream",
     "text": [
      "/cluster/home/mskrabulis/miniconda3/envs/quantech/lib/python3.9/site-packages/pyscf/symm/Dmatrix.py:156: RuntimeWarning: invalid value encountered in arccos\n",
      "  gamma = numpy.arccos(yp.dot(c2[1]))\n",
      "/cluster/home/mskrabulis/miniconda3/envs/quantech/lib/python3.9/site-packages/pyscf/symm/Dmatrix.py:156: RuntimeWarning: invalid value encountered in arccos\n",
      "  gamma = numpy.arccos(yp.dot(c2[1]))\n",
      "Progress:  34%|███▍      | 103/300 [24:03<48:35, 14.80s/it]"
     ]
    },
    {
     "name": "stdout",
     "output_type": "stream",
     "text": [
      "Time to: Calculate Ground State - 1.16s, Get Pauli Ops - 5.32s, Calculate Pauli Expectation Values - 6.58s, Calculate Covariance - 2.51s\n",
      "f0,f1,f2 = [7.721481679208135e-09, 7.72148167921773e-09, 7.721481679217451e-09]\n",
      "d01,d02,d12 = [0.825217503228798, 0.8252175032287292, 0.8252175032280439]\n"
     ]
    },
    {
     "name": "stderr",
     "output_type": "stream",
     "text": [
      "Progress:  35%|███▍      | 104/300 [24:17<47:23, 14.51s/it]"
     ]
    },
    {
     "name": "stdout",
     "output_type": "stream",
     "text": [
      "Time to: Calculate Ground State - 1.36s, Get Pauli Ops - 5.01s, Calculate Pauli Expectation Values - 5.16s, Calculate Covariance - 2.29s\n",
      "f0,f1,f2 = [9.40328215004508e-09, 9.403282150069888e-09, 9.403282150075215e-09]\n",
      "d01,d02,d12 = [0.8137268420303678, 0.8137268420302873, 0.8137268420292696]\n"
     ]
    },
    {
     "name": "stderr",
     "output_type": "stream",
     "text": [
      "Progress:  35%|███▌      | 105/300 [24:30<45:33, 14.02s/it]"
     ]
    },
    {
     "name": "stdout",
     "output_type": "stream",
     "text": [
      "Time to: Calculate Ground State - 1.02s, Get Pauli Ops - 4.94s, Calculate Pauli Expectation Values - 5.0s, Calculate Covariance - 1.91s\n",
      "f0,f1,f2 = [1.1102389549150469e-08, 1.1102389549188222e-08, 1.1102389549182008e-08]\n",
      "d01,d02,d12 = [0.8079266876497988, 0.8079266876497055, 0.8079266876483601]\n"
     ]
    },
    {
     "name": "stderr",
     "output_type": "stream",
     "text": [
      "Progress:  35%|███▌      | 106/300 [24:43<44:29, 13.76s/it]"
     ]
    },
    {
     "name": "stdout",
     "output_type": "stream",
     "text": [
      "Time to: Calculate Ground State - 1.14s, Get Pauli Ops - 4.11s, Calculate Pauli Expectation Values - 5.64s, Calculate Covariance - 2.26s\n",
      "f0,f1,f2 = [1.2701852776231398e-08, 1.270185277628708e-08, 1.2701852776297419e-08]\n",
      "d01,d02,d12 = [0.8071098391572393, 0.8071098391571324, 0.8071098391554739]\n"
     ]
    },
    {
     "name": "stderr",
     "output_type": "stream",
     "text": [
      "Progress:  36%|███▌      | 107/300 [24:59<46:30, 14.46s/it]"
     ]
    },
    {
     "name": "stdout",
     "output_type": "stream",
     "text": [
      "Time to: Calculate Ground State - 1.07s, Get Pauli Ops - 7.56s, Calculate Pauli Expectation Values - 5.6s, Calculate Covariance - 1.85s\n",
      "f0,f1,f2 = [1.2695075017384024e-08, 1.2695075017444364e-08, 1.2695075017456371e-08]\n",
      "d01,d02,d12 = [0.8116412640082826, 0.8116412640081659, 0.8116412640062203]\n"
     ]
    },
    {
     "name": "stderr",
     "output_type": "stream",
     "text": [
      "Progress:  36%|███▌      | 108/300 [25:16<48:23, 15.12s/it]"
     ]
    },
    {
     "name": "stdout",
     "output_type": "stream",
     "text": [
      "Time to: Calculate Ground State - 1.33s, Get Pauli Ops - 7.3s, Calculate Pauli Expectation Values - 5.6s, Calculate Covariance - 2.42s\n",
      "f0,f1,f2 = [1.0765771804462059e-08, 1.0765771804532308e-08, 1.0765771804541731e-08]\n",
      "d01,d02,d12 = [0.8214743686584935, 0.82147436865837, 0.82147436865616]\n"
     ]
    },
    {
     "name": "stderr",
     "output_type": "stream",
     "text": [
      "Progress:  36%|███▋      | 109/300 [25:31<47:36, 14.95s/it]"
     ]
    },
    {
     "name": "stdout",
     "output_type": "stream",
     "text": [
      "Time to: Calculate Ground State - 1.37s, Get Pauli Ops - 5.89s, Calculate Pauli Expectation Values - 5.48s, Calculate Covariance - 1.82s\n",
      "f0,f1,f2 = [1.0728400623817882e-08, 1.0728400623912005e-08, 1.0728400623911016e-08]\n",
      "d01,d02,d12 = [0.8364483180093225, 0.8364483180091895, 0.8364483180067237]\n"
     ]
    },
    {
     "name": "stderr",
     "output_type": "stream",
     "text": [
      "Progress:  37%|███▋      | 110/300 [25:44<46:05, 14.56s/it]"
     ]
    },
    {
     "name": "stdout",
     "output_type": "stream",
     "text": [
      "Time to: Calculate Ground State - 1.34s, Get Pauli Ops - 4.81s, Calculate Pauli Expectation Values - 5.26s, Calculate Covariance - 2.21s\n",
      "f0,f1,f2 = [9.295897472968306e-09, 9.295897473046894e-09, 9.295897473059826e-09]\n",
      "d01,d02,d12 = [0.853388643622168, 0.8533886436220335, 0.8533886436193764]\n"
     ]
    },
    {
     "name": "stderr",
     "output_type": "stream",
     "text": [
      "Progress:  37%|███▋      | 111/300 [25:57<44:42, 14.20s/it]"
     ]
    },
    {
     "name": "stdout",
     "output_type": "stream",
     "text": [
      "Time to: Calculate Ground State - 1.35s, Get Pauli Ops - 5.19s, Calculate Pauli Expectation Values - 5.2s, Calculate Covariance - 1.6s\n",
      "f0,f1,f2 = [7.1542256846294505e-09, 7.154225684701272e-09, 7.15422568471221e-09]\n",
      "d01,d02,d12 = [0.8702883753725273, 0.8702883753723927, 0.8702883753695229]\n"
     ]
    },
    {
     "name": "stderr",
     "output_type": "stream",
     "text": [
      "/cluster/home/mskrabulis/miniconda3/envs/quantech/lib/python3.9/site-packages/pyscf/symm/Dmatrix.py:156: RuntimeWarning: invalid value encountered in arccos\n",
      "  gamma = numpy.arccos(yp.dot(c2[1]))\n",
      "Progress:  37%|███▋      | 112/300 [26:11<43:35, 13.91s/it]"
     ]
    },
    {
     "name": "stdout",
     "output_type": "stream",
     "text": [
      "Time to: Calculate Ground State - 1.3s, Get Pauli Ops - 4.65s, Calculate Pauli Expectation Values - 5.03s, Calculate Covariance - 2.27s\n",
      "f0,f1,f2 = [5.715187106757366e-09, 5.715187106824368e-09, 5.7151871068245175e-09]\n",
      "d01,d02,d12 = [0.8909864318640048, 0.8909864318638786, 0.8909864318608497]\n"
     ]
    },
    {
     "name": "stderr",
     "output_type": "stream",
     "text": [
      "/cluster/home/mskrabulis/miniconda3/envs/quantech/lib/python3.9/site-packages/pyscf/symm/Dmatrix.py:156: RuntimeWarning: invalid value encountered in arccos\n",
      "  gamma = numpy.arccos(yp.dot(c2[1]))\n",
      "Progress:  38%|███▊      | 113/300 [26:27<45:32, 14.61s/it]"
     ]
    },
    {
     "name": "stdout",
     "output_type": "stream",
     "text": [
      "Time to: Calculate Ground State - 1.36s, Get Pauli Ops - 5.22s, Calculate Pauli Expectation Values - 7.26s, Calculate Covariance - 2.4s\n",
      "f0,f1,f2 = [3.3209142020724997e-09, 3.3209142021407665e-09, 3.320914202147115e-09]\n",
      "d01,d02,d12 = [0.9114917930428965, 0.9114917930427827, 0.9114917930396369]\n"
     ]
    },
    {
     "name": "stderr",
     "output_type": "stream",
     "text": [
      "/cluster/home/mskrabulis/miniconda3/envs/quantech/lib/python3.9/site-packages/pyscf/symm/Dmatrix.py:156: RuntimeWarning: invalid value encountered in arccos\n",
      "  gamma = numpy.arccos(yp.dot(c2[1]))\n",
      "Progress:  38%|███▊      | 114/300 [26:41<44:26, 14.34s/it]"
     ]
    },
    {
     "name": "stdout",
     "output_type": "stream",
     "text": [
      "Time to: Calculate Ground State - 1.31s, Get Pauli Ops - 4.92s, Calculate Pauli Expectation Values - 5.13s, Calculate Covariance - 2.32s\n",
      "f0,f1,f2 = [3.3577458448552487e-09, 3.3577458449395566e-09, 3.3577458449448034e-09]\n",
      "d01,d02,d12 = [0.9327587046048609, 0.9327587046047655, 0.9327587046016323]\n"
     ]
    },
    {
     "name": "stderr",
     "output_type": "stream",
     "text": [
      "Progress:  38%|███▊      | 115/300 [26:54<43:42, 14.18s/it]"
     ]
    },
    {
     "name": "stdout",
     "output_type": "stream",
     "text": [
      "Time to: Calculate Ground State - 0.96s, Get Pauli Ops - 5.03s, Calculate Pauli Expectation Values - 5.5s, Calculate Covariance - 2.31s\n",
      "f0,f1,f2 = [3.0815811758110907e-09, 3.0815811758819027e-09, 3.081581175887404e-09]\n",
      "d01,d02,d12 = [0.9508374541574778, 0.9508374541574043, 0.9508374541543009]\n"
     ]
    },
    {
     "name": "stderr",
     "output_type": "stream",
     "text": [
      "Progress:  39%|███▊      | 116/300 [27:08<42:57, 14.01s/it]"
     ]
    },
    {
     "name": "stdout",
     "output_type": "stream",
     "text": [
      "Time to: Calculate Ground State - 1.35s, Get Pauli Ops - 4.51s, Calculate Pauli Expectation Values - 5.59s, Calculate Covariance - 2.15s\n",
      "f0,f1,f2 = [1.8816179787115562e-09, 1.8816179787738065e-09, 1.881617978779722e-09]\n",
      "d01,d02,d12 = [0.9659042718804653, 0.9659042718804134, 0.9659042718773633]\n"
     ]
    },
    {
     "name": "stderr",
     "output_type": "stream",
     "text": [
      "Progress:  39%|███▉      | 117/300 [27:22<42:23, 13.90s/it]"
     ]
    },
    {
     "name": "stdout",
     "output_type": "stream",
     "text": [
      "Time to: Calculate Ground State - 1.38s, Get Pauli Ops - 5.19s, Calculate Pauli Expectation Values - 5.08s, Calculate Covariance - 2.0s\n",
      "f0,f1,f2 = [1.297495230606504e-09, 1.297495230677006e-09, 1.2974952306748234e-09]\n",
      "d01,d02,d12 = [0.9832896551356303, 0.9832896551355986, 0.9832896551326421]\n"
     ]
    },
    {
     "name": "stderr",
     "output_type": "stream",
     "text": [
      "Progress:  39%|███▉      | 118/300 [27:35<41:26, 13.66s/it]"
     ]
    },
    {
     "name": "stdout",
     "output_type": "stream",
     "text": [
      "Time to: Calculate Ground State - 1.36s, Get Pauli Ops - 4.43s, Calculate Pauli Expectation Values - 5.09s, Calculate Covariance - 2.23s\n",
      "f0,f1,f2 = [1.0793387492995295e-09, 1.0793387492501038e-09, 1.079338749231881e-09]\n",
      "d01,d02,d12 = [0.9960673483509086, 0.9960673483509035, 0.9960673483480528]\n"
     ]
    },
    {
     "name": "stderr",
     "output_type": "stream",
     "text": [
      "Progress:  40%|███▉      | 119/300 [27:49<41:39, 13.81s/it]"
     ]
    },
    {
     "name": "stdout",
     "output_type": "stream",
     "text": [
      "Time to: Calculate Ground State - 1.13s, Get Pauli Ops - 5.66s, Calculate Pauli Expectation Values - 5.13s, Calculate Covariance - 2.21s\n",
      "f0,f1,f2 = [5.764162811318288e-10, 5.764162810919837e-10, 5.764162810954499e-10]\n",
      "d01,d02,d12 = [1.0089619353190007, 1.0089619353190153, 1.0089619353163]\n"
     ]
    },
    {
     "name": "stderr",
     "output_type": "stream",
     "text": [
      "Progress:  40%|████      | 120/300 [28:04<42:43, 14.24s/it]"
     ]
    },
    {
     "name": "stdout",
     "output_type": "stream",
     "text": [
      "Time to: Calculate Ground State - 0.81s, Get Pauli Ops - 7.15s, Calculate Pauli Expectation Values - 5.19s, Calculate Covariance - 2.09s\n",
      "f0,f1,f2 = [1.977241738416148e-09, 1.9772417383712024e-09, 1.9772417383665205e-09]\n",
      "d01,d02,d12 = [1.0204659938086098, 1.0204659938086404, 1.0204659938061134]\n"
     ]
    },
    {
     "name": "stderr",
     "output_type": "stream",
     "text": [
      "Progress:  40%|████      | 121/300 [28:21<44:58, 15.07s/it]"
     ]
    },
    {
     "name": "stdout",
     "output_type": "stream",
     "text": [
      "Time to: Calculate Ground State - 1.23s, Get Pauli Ops - 4.87s, Calculate Pauli Expectation Values - 9.1s, Calculate Covariance - 1.82s\n",
      "f0,f1,f2 = [6.209615078380942e-11, 6.209615082467842e-11, 6.209615083040884e-11]\n",
      "d01,d02,d12 = [1.0320576759406415, 1.0320576759406852, 1.032057675938348]\n"
     ]
    },
    {
     "name": "stderr",
     "output_type": "stream",
     "text": [
      "Progress:  41%|████      | 122/300 [28:36<44:16, 14.92s/it]"
     ]
    },
    {
     "name": "stdout",
     "output_type": "stream",
     "text": [
      "Time to: Calculate Ground State - 1.16s, Get Pauli Ops - 6.48s, Calculate Pauli Expectation Values - 5.19s, Calculate Covariance - 1.74s\n",
      "f0,f1,f2 = [7.25839167535681e-11, 7.258391680453916e-11, 7.258391679169593e-11]\n",
      "d01,d02,d12 = [1.0435119533474473, 1.0435119533475035, 1.0435119533453692]\n"
     ]
    },
    {
     "name": "stderr",
     "output_type": "stream",
     "text": [
      "Progress:  41%|████      | 123/300 [28:50<43:33, 14.77s/it]"
     ]
    },
    {
     "name": "stdout",
     "output_type": "stream",
     "text": [
      "Time to: Calculate Ground State - 1.03s, Get Pauli Ops - 4.58s, Calculate Pauli Expectation Values - 7.02s, Calculate Covariance - 1.76s\n",
      "f0,f1,f2 = [1.7308115289107912e-09, 1.7308115288943945e-09, 1.7308115289023958e-09]\n",
      "d01,d02,d12 = [1.0543748949633631, 1.0543748949634304, 1.0543748949615082]\n"
     ]
    },
    {
     "name": "stderr",
     "output_type": "stream",
     "text": [
      "Progress:  41%|████▏     | 124/300 [29:08<45:38, 15.56s/it]"
     ]
    },
    {
     "name": "stdout",
     "output_type": "stream",
     "text": [
      "Time to: Calculate Ground State - 1.34s, Get Pauli Ops - 7.81s, Calculate Pauli Expectation Values - 6.48s, Calculate Covariance - 1.78s\n",
      "f0,f1,f2 = [1.9641246797128287e-09, 1.9641246796801646e-09, 1.964124679682762e-09]\n",
      "d01,d02,d12 = [1.0660734483782337, 1.066073448378309, 1.0660734483766023]\n"
     ]
    },
    {
     "name": "stderr",
     "output_type": "stream",
     "text": [
      "Progress:  42%|████▏     | 125/300 [29:23<45:30, 15.60s/it]"
     ]
    },
    {
     "name": "stdout",
     "output_type": "stream",
     "text": [
      "Time to: Calculate Ground State - 1.36s, Get Pauli Ops - 5.97s, Calculate Pauli Expectation Values - 6.12s, Calculate Covariance - 2.25s\n",
      "f0,f1,f2 = [2.3503755915565185e-09, 2.350375591526849e-09, 2.350375591541772e-09]\n",
      "d01,d02,d12 = [1.0756468995253048, 1.075646899525386, 1.075646899523897]\n"
     ]
    },
    {
     "name": "stderr",
     "output_type": "stream",
     "text": [
      "Progress:  42%|████▏     | 126/300 [29:42<47:39, 16.43s/it]"
     ]
    },
    {
     "name": "stdout",
     "output_type": "stream",
     "text": [
      "Time to: Calculate Ground State - 1.42s, Get Pauli Ops - 7.66s, Calculate Pauli Expectation Values - 6.99s, Calculate Covariance - 2.28s\n",
      "f0,f1,f2 = [2.231699915221488e-09, 2.2316999152015473e-09, 2.231699915211075e-09]\n",
      "d01,d02,d12 = [1.0855451540871037, 1.0855451540871912, 1.085545154085917]\n"
     ]
    },
    {
     "name": "stderr",
     "output_type": "stream",
     "text": [
      "/cluster/home/mskrabulis/miniconda3/envs/quantech/lib/python3.9/site-packages/pyscf/symm/Dmatrix.py:156: RuntimeWarning: invalid value encountered in arccos\n",
      "  gamma = numpy.arccos(yp.dot(c2[1]))\n",
      "Progress:  42%|████▏     | 127/300 [29:58<47:27, 16.46s/it]"
     ]
    },
    {
     "name": "stdout",
     "output_type": "stream",
     "text": [
      "Time to: Calculate Ground State - 1.36s, Get Pauli Ops - 9.02s, Calculate Pauli Expectation Values - 4.58s, Calculate Covariance - 1.57s\n",
      "f0,f1,f2 = [3.7770747517789e-09, 3.777074751754865e-09, 3.777074751756844e-09]\n",
      "d01,d02,d12 = [1.0917891527514594, 1.0917891527515489, 1.0917891527504975]\n"
     ]
    },
    {
     "name": "stderr",
     "output_type": "stream",
     "text": [
      "Progress:  43%|████▎     | 128/300 [30:14<46:11, 16.11s/it]"
     ]
    },
    {
     "name": "stdout",
     "output_type": "stream",
     "text": [
      "Time to: Calculate Ground State - 1.34s, Get Pauli Ops - 5.31s, Calculate Pauli Expectation Values - 6.47s, Calculate Covariance - 2.17s\n",
      "f0,f1,f2 = [2.937458489050991e-09, 2.937458489046814e-09, 2.9374584890350967e-09]\n",
      "d01,d02,d12 = [1.0969754553291493, 1.096975455329244, 1.0969754553284212]\n"
     ]
    },
    {
     "name": "stderr",
     "output_type": "stream",
     "text": [
      "Progress:  43%|████▎     | 129/300 [30:27<44:00, 15.44s/it]"
     ]
    },
    {
     "name": "stdout",
     "output_type": "stream",
     "text": [
      "Time to: Calculate Ground State - 1.36s, Get Pauli Ops - 4.72s, Calculate Pauli Expectation Values - 5.59s, Calculate Covariance - 2.2s\n",
      "f0,f1,f2 = [4.530177925964713e-09, 4.530177925957735e-09, 4.530177925963296e-09]\n",
      "d01,d02,d12 = [1.1003409457464213, 1.1003409457465239, 1.1003409457459328]\n"
     ]
    },
    {
     "name": "stderr",
     "output_type": "stream",
     "text": [
      "Progress:  43%|████▎     | 130/300 [30:41<42:07, 14.87s/it]"
     ]
    },
    {
     "name": "stdout",
     "output_type": "stream",
     "text": [
      "Time to: Calculate Ground State - 1.17s, Get Pauli Ops - 4.94s, Calculate Pauli Expectation Values - 5.37s, Calculate Covariance - 2.05s\n",
      "f0,f1,f2 = [2.6569106355710997e-09, 2.656910635567403e-09, 2.6569106355466685e-09]\n",
      "d01,d02,d12 = [1.102169964738507, 1.1021699647386203, 1.1021699647382657]\n"
     ]
    },
    {
     "name": "stderr",
     "output_type": "stream",
     "text": [
      "Progress:  44%|████▎     | 131/300 [30:54<40:44, 14.47s/it]"
     ]
    },
    {
     "name": "stdout",
     "output_type": "stream",
     "text": [
      "Time to: Calculate Ground State - 1.05s, Get Pauli Ops - 4.59s, Calculate Pauli Expectation Values - 5.45s, Calculate Covariance - 2.43s\n",
      "f0,f1,f2 = [3.78631268203684e-09, 3.786312682019628e-09, 3.786312682028172e-09]\n",
      "d01,d02,d12 = [1.1025520493635428, 1.1025520493636662, 1.1025520493635501]\n"
     ]
    },
    {
     "name": "stderr",
     "output_type": "stream",
     "text": [
      "Progress:  44%|████▍     | 132/300 [31:07<38:50, 13.87s/it]"
     ]
    },
    {
     "name": "stdout",
     "output_type": "stream",
     "text": [
      "Time to: Calculate Ground State - 1.12s, Get Pauli Ops - 4.32s, Calculate Pauli Expectation Values - 5.1s, Calculate Covariance - 1.95s\n",
      "f0,f1,f2 = [3.809845172714509e-09, 3.8098451727237865e-09, 3.809845172718704e-09]\n",
      "d01,d02,d12 = [1.1013306777483152, 1.1013306777484524, 1.101330677748571]\n"
     ]
    },
    {
     "name": "stderr",
     "output_type": "stream",
     "text": [
      "Progress:  44%|████▍     | 133/300 [31:20<37:30, 13.48s/it]"
     ]
    },
    {
     "name": "stdout",
     "output_type": "stream",
     "text": [
      "Time to: Calculate Ground State - 1.09s, Get Pauli Ops - 4.93s, Calculate Pauli Expectation Values - 5.1s, Calculate Covariance - 1.43s\n",
      "f0,f1,f2 = [4.158974923523769e-09, 4.1589749235254415e-09, 4.158974923529859e-09]\n",
      "d01,d02,d12 = [1.0984855342343474, 1.0984855342344948, 1.0984855342348476]\n"
     ]
    },
    {
     "name": "stderr",
     "output_type": "stream",
     "text": [
      "Progress:  45%|████▍     | 134/300 [31:33<37:16, 13.47s/it]"
     ]
    },
    {
     "name": "stdout",
     "output_type": "stream",
     "text": [
      "Time to: Calculate Ground State - 1.0s, Get Pauli Ops - 4.93s, Calculate Pauli Expectation Values - 5.29s, Calculate Covariance - 2.23s\n",
      "f0,f1,f2 = [3.882401057256092e-09, 3.882401057274104e-09, 3.882401057270432e-09]\n",
      "d01,d02,d12 = [1.0944608372296485, 1.0944608372298084, 1.0944608372303908]\n"
     ]
    },
    {
     "name": "stderr",
     "output_type": "stream",
     "text": [
      "/cluster/home/mskrabulis/miniconda3/envs/quantech/lib/python3.9/site-packages/pyscf/symm/Dmatrix.py:156: RuntimeWarning: invalid value encountered in arccos\n",
      "  gamma = numpy.arccos(yp.dot(c2[1]))\n",
      "Progress:  45%|████▌     | 135/300 [31:48<38:06, 13.86s/it]"
     ]
    },
    {
     "name": "stdout",
     "output_type": "stream",
     "text": [
      "Time to: Calculate Ground State - 1.01s, Get Pauli Ops - 4.64s, Calculate Pauli Expectation Values - 7.26s, Calculate Covariance - 1.84s\n",
      "f0,f1,f2 = [2.321806265889534e-09, 2.321806265891818e-09, 2.3218062658905597e-09]\n",
      "d01,d02,d12 = [1.0891967059188294, 1.0891967059190006, 1.0891967059198087]\n"
     ]
    },
    {
     "name": "stderr",
     "output_type": "stream",
     "text": [
      "Progress:  45%|████▌     | 136/300 [32:01<37:15, 13.63s/it]"
     ]
    },
    {
     "name": "stdout",
     "output_type": "stream",
     "text": [
      "Time to: Calculate Ground State - 1.06s, Get Pauli Ops - 4.59s, Calculate Pauli Expectation Values - 5.27s, Calculate Covariance - 2.17s\n",
      "f0,f1,f2 = [2.2324463318935794e-09, 2.2324463318886143e-09, 2.232446331895644e-09]\n",
      "d01,d02,d12 = [1.0832097414436783, 1.0832097414438588, 1.0832097414448902]\n"
     ]
    },
    {
     "name": "stderr",
     "output_type": "stream",
     "text": [
      "/cluster/home/mskrabulis/miniconda3/envs/quantech/lib/python3.9/site-packages/pyscf/symm/Dmatrix.py:156: RuntimeWarning: invalid value encountered in arccos\n",
      "  gamma = numpy.arccos(yp.dot(c2[1]))\n",
      "Progress:  46%|████▌     | 137/300 [32:17<38:44, 14.26s/it]"
     ]
    },
    {
     "name": "stdout",
     "output_type": "stream",
     "text": [
      "Time to: Calculate Ground State - 1.46s, Get Pauli Ops - 4.68s, Calculate Pauli Expectation Values - 7.43s, Calculate Covariance - 2.16s\n",
      "f0,f1,f2 = [3.475349141760357e-09, 3.4753491417570787e-09, 3.4753491417621055e-09]\n",
      "d01,d02,d12 = [1.0764520989776625, 1.0764520989778483, 1.0764520989790978]\n"
     ]
    },
    {
     "name": "stderr",
     "output_type": "stream",
     "text": [
      "Progress:  46%|████▌     | 138/300 [32:28<36:33, 13.54s/it]"
     ]
    },
    {
     "name": "stdout",
     "output_type": "stream",
     "text": [
      "Time to: Calculate Ground State - 0.79s, Get Pauli Ops - 4.86s, Calculate Pauli Expectation Values - 4.84s, Calculate Covariance - 1.37s\n",
      "f0,f1,f2 = [3.2753265707255105e-09, 3.2753265707465718e-09, 3.2753265707442966e-09]\n",
      "d01,d02,d12 = [1.0685369674648117, 1.0685369674649967, 1.068536967466445]\n"
     ]
    },
    {
     "name": "stderr",
     "output_type": "stream",
     "text": [
      "Progress:  46%|████▋     | 139/300 [32:42<36:33, 13.62s/it]"
     ]
    },
    {
     "name": "stdout",
     "output_type": "stream",
     "text": [
      "Time to: Calculate Ground State - 1.34s, Get Pauli Ops - 5.78s, Calculate Pauli Expectation Values - 4.82s, Calculate Covariance - 1.86s\n",
      "f0,f1,f2 = [3.4981292935407124e-09, 3.4981292935746835e-09, 3.4981292935700484e-09]\n",
      "d01,d02,d12 = [1.0595592953868676, 1.0595592953870498, 1.059559295388702]\n"
     ]
    },
    {
     "name": "stderr",
     "output_type": "stream",
     "text": [
      "/cluster/home/mskrabulis/miniconda3/envs/quantech/lib/python3.9/site-packages/pyscf/symm/Dmatrix.py:156: RuntimeWarning: invalid value encountered in arccos\n",
      "  gamma = numpy.arccos(yp.dot(c2[1]))\n",
      "Progress:  47%|████▋     | 140/300 [32:57<37:34, 14.09s/it]"
     ]
    },
    {
     "name": "stdout",
     "output_type": "stream",
     "text": [
      "Time to: Calculate Ground State - 1.31s, Get Pauli Ops - 6.78s, Calculate Pauli Expectation Values - 5.08s, Calculate Covariance - 2.0s\n",
      "f0,f1,f2 = [3.0807200514941468e-09, 3.08072005152208e-09, 3.080720051522267e-09]\n",
      "d01,d02,d12 = [1.0501758347371357, 1.0501758347373156, 1.050175834739166]\n"
     ]
    },
    {
     "name": "stderr",
     "output_type": "stream",
     "text": [
      "Progress:  47%|████▋     | 141/300 [33:11<36:42, 13.85s/it]"
     ]
    },
    {
     "name": "stdout",
     "output_type": "stream",
     "text": [
      "Time to: Calculate Ground State - 1.33s, Get Pauli Ops - 4.31s, Calculate Pauli Expectation Values - 5.32s, Calculate Covariance - 2.31s\n",
      "f0,f1,f2 = [1.6287549576829688e-09, 1.628754957726667e-09, 1.6287549577274166e-09]\n",
      "d01,d02,d12 = [1.0390210103471826, 1.0390210103473583, 1.0390210103493691]\n"
     ]
    },
    {
     "name": "stderr",
     "output_type": "stream",
     "text": [
      "/cluster/home/mskrabulis/miniconda3/envs/quantech/lib/python3.9/site-packages/pyscf/symm/Dmatrix.py:156: RuntimeWarning: invalid value encountered in arccos\n",
      "  gamma = numpy.arccos(yp.dot(c2[1]))\n",
      "Progress:  47%|████▋     | 142/300 [33:24<35:59, 13.67s/it]"
     ]
    },
    {
     "name": "stdout",
     "output_type": "stream",
     "text": [
      "Time to: Calculate Ground State - 1.27s, Get Pauli Ops - 4.67s, Calculate Pauli Expectation Values - 5.06s, Calculate Covariance - 2.24s\n",
      "f0,f1,f2 = [2.163569479053113e-09, 2.163569479066834e-09, 2.1635694790821033e-09]\n",
      "d01,d02,d12 = [1.0268660782476045, 1.0268660782477679, 1.0268660782499452]\n"
     ]
    },
    {
     "name": "stderr",
     "output_type": "stream",
     "text": [
      "/cluster/home/mskrabulis/miniconda3/envs/quantech/lib/python3.9/site-packages/pyscf/symm/Dmatrix.py:156: RuntimeWarning: invalid value encountered in arccos\n",
      "  gamma = numpy.arccos(yp.dot(c2[1]))\n",
      "Progress:  48%|████▊     | 143/300 [33:36<34:42, 13.27s/it]"
     ]
    },
    {
     "name": "stdout",
     "output_type": "stream",
     "text": [
      "Time to: Calculate Ground State - 1.02s, Get Pauli Ops - 4.22s, Calculate Pauli Expectation Values - 4.91s, Calculate Covariance - 2.17s\n",
      "f0,f1,f2 = [1.68754997070604e-09, 1.6875499707312702e-09, 1.6875499707351316e-09]\n",
      "d01,d02,d12 = [1.0126839707768, 1.0126839707769473, 1.0126839707792563]\n"
     ]
    },
    {
     "name": "stderr",
     "output_type": "stream",
     "text": [
      "Progress:  48%|████▊     | 144/300 [33:49<34:08, 13.13s/it]"
     ]
    },
    {
     "name": "stdout",
     "output_type": "stream",
     "text": [
      "Time to: Calculate Ground State - 1.32s, Get Pauli Ops - 4.63s, Calculate Pauli Expectation Values - 5.06s, Calculate Covariance - 1.79s\n",
      "f0,f1,f2 = [2.4189522756316537e-10, 2.4189522753667305e-10, 2.418952275237352e-10]\n",
      "d01,d02,d12 = [0.9978113078442072, 0.9978113078443358, 0.9978113078467804]\n"
     ]
    },
    {
     "name": "stderr",
     "output_type": "stream",
     "text": [
      "Progress:  48%|████▊     | 145/300 [34:03<34:27, 13.34s/it]"
     ]
    },
    {
     "name": "stdout",
     "output_type": "stream",
     "text": [
      "Time to: Calculate Ground State - 1.36s, Get Pauli Ops - 4.77s, Calculate Pauli Expectation Values - 5.6s, Calculate Covariance - 2.09s\n",
      "f0,f1,f2 = [6.242407472000376e-10, 6.242407472131198e-10, 6.242407472300356e-10]\n",
      "d01,d02,d12 = [0.9820336240126276, 0.9820336240127402, 0.9820336240152745]\n"
     ]
    },
    {
     "name": "stderr",
     "output_type": "stream",
     "text": [
      "/cluster/home/mskrabulis/miniconda3/envs/quantech/lib/python3.9/site-packages/pyscf/symm/Dmatrix.py:156: RuntimeWarning: invalid value encountered in arccos\n",
      "  gamma = numpy.arccos(yp.dot(c2[1]))\n",
      "Progress:  49%|████▊     | 146/300 [34:18<35:16, 13.74s/it]"
     ]
    },
    {
     "name": "stdout",
     "output_type": "stream",
     "text": [
      "Time to: Calculate Ground State - 1.0s, Get Pauli Ops - 4.07s, Calculate Pauli Expectation Values - 7.65s, Calculate Covariance - 1.94s\n",
      "f0,f1,f2 = [1.287575590850703e-09, 1.2875755908037654e-09, 1.2875755908079088e-09]\n",
      "d01,d02,d12 = [0.9683773810727987, 0.9683773810728934, 0.9683773810755134]\n"
     ]
    },
    {
     "name": "stderr",
     "output_type": "stream",
     "text": [
      "Progress:  49%|████▉     | 147/300 [34:33<36:04, 14.15s/it]"
     ]
    },
    {
     "name": "stdout",
     "output_type": "stream",
     "text": [
      "Time to: Calculate Ground State - 0.95s, Get Pauli Ops - 7.59s, Calculate Pauli Expectation Values - 4.59s, Calculate Covariance - 1.96s\n",
      "f0,f1,f2 = [2.834008021697332e-10, 2.83400802114022e-10, 2.834008021085617e-10]\n",
      "d01,d02,d12 = [0.9536640059735819, 0.9536640059736592, 0.9536640059763255]\n"
     ]
    },
    {
     "name": "stderr",
     "output_type": "stream",
     "text": [
      "Progress:  49%|████▉     | 148/300 [34:48<36:43, 14.50s/it]"
     ]
    },
    {
     "name": "stdout",
     "output_type": "stream",
     "text": [
      "Time to: Calculate Ground State - 1.2s, Get Pauli Ops - 6.04s, Calculate Pauli Expectation Values - 6.35s, Calculate Covariance - 1.72s\n",
      "f0,f1,f2 = [2.890523481980603e-09, 2.8905234819348568e-09, 2.8905234819261065e-09]\n",
      "d01,d02,d12 = [0.9427852547093529, 0.9427852547094034, 0.9427852547121044]\n"
     ]
    },
    {
     "name": "stderr",
     "output_type": "stream",
     "text": [
      "Progress:  50%|████▉     | 149/300 [35:06<38:50, 15.44s/it]"
     ]
    },
    {
     "name": "stdout",
     "output_type": "stream",
     "text": [
      "Time to: Calculate Ground State - 1.17s, Get Pauli Ops - 5.28s, Calculate Pauli Expectation Values - 9.17s, Calculate Covariance - 2.0s\n",
      "f0,f1,f2 = [2.1245801354686574e-09, 2.124580135438653e-09, 2.1245801354327577e-09]\n",
      "d01,d02,d12 = [0.932212591009396, 0.9322125910094144, 0.9322125910121082]\n"
     ]
    },
    {
     "name": "stderr",
     "output_type": "stream",
     "text": [
      "/cluster/home/mskrabulis/miniconda3/envs/quantech/lib/python3.9/site-packages/pyscf/symm/Dmatrix.py:156: RuntimeWarning: invalid value encountered in arccos\n",
      "  gamma = numpy.arccos(yp.dot(c2[1]))\n",
      "/cluster/home/mskrabulis/miniconda3/envs/quantech/lib/python3.9/site-packages/pyscf/symm/Dmatrix.py:156: RuntimeWarning: invalid value encountered in arccos\n",
      "  gamma = numpy.arccos(yp.dot(c2[1]))\n",
      "Progress:  50%|█████     | 150/300 [35:20<37:54, 15.16s/it]"
     ]
    },
    {
     "name": "stdout",
     "output_type": "stream",
     "text": [
      "Time to: Calculate Ground State - 1.3s, Get Pauli Ops - 5.28s, Calculate Pauli Expectation Values - 5.87s, Calculate Covariance - 2.08s\n",
      "f0,f1,f2 = [4.768116310077635e-09, 4.7681163100239326e-09, 4.768116310029771e-09]\n",
      "d01,d02,d12 = [0.923428858149909, 0.923428858149907, 0.9234288581525614]\n"
     ]
    },
    {
     "name": "stderr",
     "output_type": "stream",
     "text": [
      "/cluster/home/mskrabulis/miniconda3/envs/quantech/lib/python3.9/site-packages/pyscf/symm/Dmatrix.py:156: RuntimeWarning: invalid value encountered in arccos\n",
      "  gamma = numpy.arccos(yp.dot(c2[1]))\n",
      "Progress:  50%|█████     | 151/300 [35:35<37:36, 15.14s/it]"
     ]
    },
    {
     "name": "stdout",
     "output_type": "stream",
     "text": [
      "Time to: Calculate Ground State - 1.09s, Get Pauli Ops - 6.73s, Calculate Pauli Expectation Values - 5.3s, Calculate Covariance - 1.95s\n",
      "f0,f1,f2 = [3.08269327593705e-09, 3.082693275879891e-09, 3.082693275878382e-09]\n",
      "d01,d02,d12 = [0.9159859243915214, 0.9159859243914982, 0.9159859243940822]\n"
     ]
    },
    {
     "name": "stderr",
     "output_type": "stream",
     "text": [
      "Progress:  51%|█████     | 152/300 [35:49<36:06, 14.64s/it]"
     ]
    },
    {
     "name": "stdout",
     "output_type": "stream",
     "text": [
      "Time to: Calculate Ground State - 1.27s, Get Pauli Ops - 4.33s, Calculate Pauli Expectation Values - 5.48s, Calculate Covariance - 2.38s\n",
      "f0,f1,f2 = [4.790307893409486e-09, 4.790307893355219e-09, 4.7903078933663e-09]\n",
      "d01,d02,d12 = [0.9095472647739298, 0.9095472647738873, 0.9095472647763676]\n"
     ]
    },
    {
     "name": "stderr",
     "output_type": "stream",
     "text": [
      "/cluster/home/mskrabulis/miniconda3/envs/quantech/lib/python3.9/site-packages/pyscf/symm/Dmatrix.py:156: RuntimeWarning: invalid value encountered in arccos\n",
      "  gamma = numpy.arccos(yp.dot(c2[1]))\n",
      "Progress:  51%|█████     | 153/300 [36:02<34:34, 14.11s/it]"
     ]
    },
    {
     "name": "stdout",
     "output_type": "stream",
     "text": [
      "Time to: Calculate Ground State - 0.99s, Get Pauli Ops - 4.83s, Calculate Pauli Expectation Values - 4.91s, Calculate Covariance - 2.15s\n",
      "f0,f1,f2 = [3.3958802588284906e-09, 3.3958802587688496e-09, 3.3958802587666915e-09]\n",
      "d01,d02,d12 = [0.9049509026658784, 0.9049509026658136, 0.9049509026681717]\n"
     ]
    },
    {
     "name": "stderr",
     "output_type": "stream",
     "text": [
      "/cluster/home/mskrabulis/miniconda3/envs/quantech/lib/python3.9/site-packages/pyscf/symm/Dmatrix.py:156: RuntimeWarning: invalid value encountered in arccos\n",
      "  gamma = numpy.arccos(yp.dot(c2[1]))\n",
      "Progress:  51%|█████▏    | 154/300 [36:15<34:05, 14.01s/it]"
     ]
    },
    {
     "name": "stdout",
     "output_type": "stream",
     "text": [
      "Time to: Calculate Ground State - 1.22s, Get Pauli Ops - 4.5s, Calculate Pauli Expectation Values - 5.64s, Calculate Covariance - 2.42s\n",
      "f0,f1,f2 = [3.621333804214686e-09, 3.621333804140947e-09, 3.6213338041490473e-09]\n",
      "d01,d02,d12 = [0.9019825270432782, 0.9019825270431914, 0.9019825270453985]\n"
     ]
    },
    {
     "name": "stderr",
     "output_type": "stream",
     "text": [
      "Progress:  52%|█████▏    | 155/300 [36:29<33:51, 14.01s/it]"
     ]
    },
    {
     "name": "stdout",
     "output_type": "stream",
     "text": [
      "Time to: Calculate Ground State - 1.13s, Get Pauli Ops - 5.81s, Calculate Pauli Expectation Values - 5.01s, Calculate Covariance - 2.04s\n",
      "f0,f1,f2 = [3.4217324580946417e-09, 3.4217324580390994e-09, 3.4217324580558056e-09]\n",
      "d01,d02,d12 = [0.9003443363838035, 0.900344336383702, 0.9003443363857351]\n"
     ]
    },
    {
     "name": "stderr",
     "output_type": "stream",
     "text": [
      "Progress:  52%|█████▏    | 156/300 [36:42<32:47, 13.66s/it]"
     ]
    },
    {
     "name": "stdout",
     "output_type": "stream",
     "text": [
      "Time to: Calculate Ground State - 1.07s, Get Pauli Ops - 4.29s, Calculate Pauli Expectation Values - 5.23s, Calculate Covariance - 2.26s\n",
      "f0,f1,f2 = [3.2351840678865834e-09, 3.23518406784472e-09, 3.2351840678555795e-09]\n",
      "d01,d02,d12 = [0.900014886949305, 0.9000148869491923, 0.9000148869510252]\n"
     ]
    },
    {
     "name": "stderr",
     "output_type": "stream",
     "text": [
      "/cluster/home/mskrabulis/miniconda3/envs/quantech/lib/python3.9/site-packages/pyscf/symm/Dmatrix.py:156: RuntimeWarning: invalid value encountered in arccos\n",
      "  gamma = numpy.arccos(yp.dot(c2[1]))\n",
      "Progress:  52%|█████▏    | 157/300 [36:55<31:52, 13.37s/it]"
     ]
    },
    {
     "name": "stdout",
     "output_type": "stream",
     "text": [
      "Time to: Calculate Ground State - 1.09s, Get Pauli Ops - 4.91s, Calculate Pauli Expectation Values - 5.21s, Calculate Covariance - 1.49s\n",
      "f0,f1,f2 = [4.671884840257986e-09, 4.671884840226501e-09, 4.671884840229939e-09]\n",
      "d01,d02,d12 = [0.9016474784778424, 0.9016474784777175, 0.9016474784793368]\n"
     ]
    },
    {
     "name": "stderr",
     "output_type": "stream",
     "text": [
      "/cluster/home/mskrabulis/miniconda3/envs/quantech/lib/python3.9/site-packages/pyscf/symm/Dmatrix.py:156: RuntimeWarning: invalid value encountered in arccos\n",
      "  gamma = numpy.arccos(yp.dot(c2[1]))\n",
      "Progress:  53%|█████▎    | 158/300 [37:10<32:57, 13.93s/it]"
     ]
    },
    {
     "name": "stdout",
     "output_type": "stream",
     "text": [
      "Time to: Calculate Ground State - 1.37s, Get Pauli Ops - 4.92s, Calculate Pauli Expectation Values - 6.77s, Calculate Covariance - 2.15s\n",
      "f0,f1,f2 = [3.822138251317241e-09, 3.8221382512780855e-09, 3.822138251282213e-09]\n",
      "d01,d02,d12 = [0.9047482916785705, 0.9047482916784317, 0.9047482916798211]\n"
     ]
    },
    {
     "name": "stderr",
     "output_type": "stream",
     "text": [
      "/cluster/home/mskrabulis/miniconda3/envs/quantech/lib/python3.9/site-packages/pyscf/symm/Dmatrix.py:156: RuntimeWarning: invalid value encountered in arccos\n",
      "  gamma = numpy.arccos(yp.dot(c2[1]))\n",
      "Progress:  53%|█████▎    | 159/300 [37:25<33:28, 14.24s/it]"
     ]
    },
    {
     "name": "stdout",
     "output_type": "stream",
     "text": [
      "Time to: Calculate Ground State - 1.07s, Get Pauli Ops - 7.1s, Calculate Pauli Expectation Values - 4.86s, Calculate Covariance - 1.93s\n",
      "f0,f1,f2 = [2.2992810740800187e-09, 2.2992810740463665e-09, 2.299281074052429e-09]\n",
      "d01,d02,d12 = [0.9090963589043142, 0.9090963589041618, 0.9090963589053034]\n"
     ]
    },
    {
     "name": "stderr",
     "output_type": "stream",
     "text": [
      "Progress:  53%|█████▎    | 160/300 [37:41<34:00, 14.57s/it]"
     ]
    },
    {
     "name": "stdout",
     "output_type": "stream",
     "text": [
      "Time to: Calculate Ground State - 1.28s, Get Pauli Ops - 6.32s, Calculate Pauli Expectation Values - 5.71s, Calculate Covariance - 2.03s\n",
      "f0,f1,f2 = [3.912459287061836e-09, 3.912459287051307e-09, 3.912459287036931e-09]\n",
      "d01,d02,d12 = [0.9142209268057544, 0.9142209268055892, 0.9142209268064705]\n"
     ]
    },
    {
     "name": "stderr",
     "output_type": "stream",
     "text": [
      "Progress:  54%|█████▎    | 161/300 [37:55<33:46, 14.58s/it]"
     ]
    },
    {
     "name": "stdout",
     "output_type": "stream",
     "text": [
      "Time to: Calculate Ground State - 1.35s, Get Pauli Ops - 5.79s, Calculate Pauli Expectation Values - 5.04s, Calculate Covariance - 2.39s\n",
      "f0,f1,f2 = [4.4321918166284565e-09, 4.432191816597397e-09, 4.432191816605117e-09]\n",
      "d01,d02,d12 = [0.9207238631357344, 0.9207238631355567, 0.9207238631361674]\n"
     ]
    },
    {
     "name": "stderr",
     "output_type": "stream",
     "text": [
      "Progress:  54%|█████▍    | 162/300 [38:10<33:52, 14.73s/it]"
     ]
    },
    {
     "name": "stdout",
     "output_type": "stream",
     "text": [
      "Time to: Calculate Ground State - 1.38s, Get Pauli Ops - 5.83s, Calculate Pauli Expectation Values - 5.72s, Calculate Covariance - 2.15s\n",
      "f0,f1,f2 = [3.880744850091272e-09, 3.880744850077168e-09, 3.880744850073547e-09]\n",
      "d01,d02,d12 = [0.928757081868473, 0.9287570818682853, 0.9287570818686183]\n"
     ]
    },
    {
     "name": "stderr",
     "output_type": "stream",
     "text": [
      "/cluster/home/mskrabulis/miniconda3/envs/quantech/lib/python3.9/site-packages/pyscf/symm/Dmatrix.py:156: RuntimeWarning: invalid value encountered in arccos\n",
      "  gamma = numpy.arccos(yp.dot(c2[1]))\n",
      "Progress:  54%|█████▍    | 163/300 [38:27<35:23, 15.50s/it]"
     ]
    },
    {
     "name": "stdout",
     "output_type": "stream",
     "text": [
      "Time to: Calculate Ground State - 1.13s, Get Pauli Ops - 6.72s, Calculate Pauli Expectation Values - 7.28s, Calculate Covariance - 2.17s\n",
      "f0,f1,f2 = [3.1222200521473845e-09, 3.122220052147935e-09, 3.122220052153775e-09]\n",
      "d01,d02,d12 = [0.9379679286202265, 0.9379679286200311, 0.9379679286200898]\n"
     ]
    },
    {
     "name": "stderr",
     "output_type": "stream",
     "text": [
      "/cluster/home/mskrabulis/miniconda3/envs/quantech/lib/python3.9/site-packages/pyscf/symm/Dmatrix.py:156: RuntimeWarning: invalid value encountered in arccos\n",
      "  gamma = numpy.arccos(yp.dot(c2[1]))\n",
      "Progress:  55%|█████▍    | 164/300 [38:43<34:52, 15.39s/it]"
     ]
    },
    {
     "name": "stdout",
     "output_type": "stream",
     "text": [
      "Time to: Calculate Ground State - 1.28s, Get Pauli Ops - 6.59s, Calculate Pauli Expectation Values - 5.15s, Calculate Covariance - 2.09s\n",
      "f0,f1,f2 = [2.231677449840733e-09, 2.2316774498415592e-09, 2.231677449842984e-09]\n",
      "d01,d02,d12 = [0.9485471894358775, 0.9485471894356793, 0.9485471894354579]\n"
     ]
    },
    {
     "name": "stderr",
     "output_type": "stream",
     "text": [
      "/cluster/home/mskrabulis/miniconda3/envs/quantech/lib/python3.9/site-packages/pyscf/symm/Dmatrix.py:156: RuntimeWarning: invalid value encountered in arccos\n",
      "  gamma = numpy.arccos(yp.dot(c2[1]))\n",
      "Progress:  55%|█████▌    | 165/300 [38:59<35:22, 15.72s/it]"
     ]
    },
    {
     "name": "stdout",
     "output_type": "stream",
     "text": [
      "Time to: Calculate Ground State - 1.38s, Get Pauli Ops - 6.78s, Calculate Pauli Expectation Values - 6.11s, Calculate Covariance - 2.23s\n",
      "f0,f1,f2 = [8.20683296296376e-10, 8.206832962936402e-10, 8.206832963010741e-10]\n",
      "d01,d02,d12 = [0.9583801048855174, 0.9583801048853167, 0.9583801048848176]\n"
     ]
    },
    {
     "name": "stderr",
     "output_type": "stream",
     "text": [
      "/cluster/home/mskrabulis/miniconda3/envs/quantech/lib/python3.9/site-packages/pyscf/symm/Dmatrix.py:156: RuntimeWarning: invalid value encountered in arccos\n",
      "  gamma = numpy.arccos(yp.dot(c2[1]))\n",
      "Progress:  55%|█████▌    | 166/300 [39:12<33:26, 14.97s/it]"
     ]
    },
    {
     "name": "stdout",
     "output_type": "stream",
     "text": [
      "Time to: Calculate Ground State - 1.28s, Get Pauli Ops - 4.12s, Calculate Pauli Expectation Values - 5.48s, Calculate Covariance - 2.34s\n",
      "f0,f1,f2 = [2.2412620501031536e-09, 2.2412620501109634e-09, 2.2412620501029774e-09]\n",
      "d01,d02,d12 = [0.968836549176572, 0.9688365491763758, 0.9688365491755958]\n"
     ]
    },
    {
     "name": "stderr",
     "output_type": "stream",
     "text": [
      "Progress:  56%|█████▌    | 167/300 [39:27<32:39, 14.73s/it]"
     ]
    },
    {
     "name": "stdout",
     "output_type": "stream",
     "text": [
      "Time to: Calculate Ground State - 1.05s, Get Pauli Ops - 5.2s, Calculate Pauli Expectation Values - 5.45s, Calculate Covariance - 2.46s\n",
      "f0,f1,f2 = [7.227418991235172e-10, 7.22741899135514e-10, 7.227418991407024e-10]\n",
      "d01,d02,d12 = [0.9781412109402682, 0.9781412109400807, 0.9781412109390437]\n"
     ]
    },
    {
     "name": "stderr",
     "output_type": "stream",
     "text": [
      "/cluster/home/mskrabulis/miniconda3/envs/quantech/lib/python3.9/site-packages/pyscf/symm/Dmatrix.py:156: RuntimeWarning: invalid value encountered in arccos\n",
      "  gamma = numpy.arccos(yp.dot(c2[1]))\n",
      "Progress:  56%|█████▌    | 168/300 [39:42<32:39, 14.84s/it]"
     ]
    },
    {
     "name": "stdout",
     "output_type": "stream",
     "text": [
      "Time to: Calculate Ground State - 1.3s, Get Pauli Ops - 6.22s, Calculate Pauli Expectation Values - 5.7s, Calculate Covariance - 1.88s\n",
      "f0,f1,f2 = [3.9407529228570265e-10, 3.940752922706137e-10, 3.940752922723242e-10]\n",
      "d01,d02,d12 = [0.988286470617507, 0.9882864706173284, 0.9882864706160333]\n"
     ]
    },
    {
     "name": "stderr",
     "output_type": "stream",
     "text": [
      "/cluster/home/mskrabulis/miniconda3/envs/quantech/lib/python3.9/site-packages/pyscf/symm/Dmatrix.py:156: RuntimeWarning: invalid value encountered in arccos\n",
      "  gamma = numpy.arccos(yp.dot(c2[1]))\n",
      "Progress:  56%|█████▋    | 169/300 [39:56<32:11, 14.74s/it]"
     ]
    },
    {
     "name": "stdout",
     "output_type": "stream",
     "text": [
      "Time to: Calculate Ground State - 1.26s, Get Pauli Ops - 5.5s, Calculate Pauli Expectation Values - 5.35s, Calculate Covariance - 2.39s\n",
      "f0,f1,f2 = [3.69025055905449e-10, 3.6902505591458125e-10, 3.6902505591277743e-10]\n",
      "d01,d02,d12 = [0.9972407043751066, 0.997240704374937, 0.9972407043733814]\n"
     ]
    },
    {
     "name": "stderr",
     "output_type": "stream",
     "text": [
      "Progress:  57%|█████▋    | 170/300 [40:11<32:04, 14.81s/it]"
     ]
    },
    {
     "name": "stdout",
     "output_type": "stream",
     "text": [
      "Time to: Calculate Ground State - 1.4s, Get Pauli Ops - 5.3s, Calculate Pauli Expectation Values - 6.08s, Calculate Covariance - 2.17s\n",
      "f0,f1,f2 = [9.875930851028197e-10, 9.875930850698745e-10, 9.875930850795807e-10]\n",
      "d01,d02,d12 = [1.007179522908612, 1.0071795229084477, 1.0071795229066345]\n"
     ]
    },
    {
     "name": "stderr",
     "output_type": "stream",
     "text": [
      "Progress:  57%|█████▋    | 171/300 [40:24<30:48, 14.33s/it]"
     ]
    },
    {
     "name": "stdout",
     "output_type": "stream",
     "text": [
      "Time to: Calculate Ground State - 1.02s, Get Pauli Ops - 4.71s, Calculate Pauli Expectation Values - 5.34s, Calculate Covariance - 2.13s\n",
      "f0,f1,f2 = [1.4357283988079619e-09, 1.4357283987873626e-09, 1.4357283987998266e-09]\n",
      "d01,d02,d12 = [1.0157805821643946, 1.0157805821642356, 1.0157805821621815]\n"
     ]
    },
    {
     "name": "stderr",
     "output_type": "stream",
     "text": [
      "Progress:  57%|█████▋    | 172/300 [40:40<31:08, 14.60s/it]"
     ]
    },
    {
     "name": "stdout",
     "output_type": "stream",
     "text": [
      "Time to: Calculate Ground State - 1.16s, Get Pauli Ops - 6.82s, Calculate Pauli Expectation Values - 4.9s, Calculate Covariance - 2.33s\n",
      "f0,f1,f2 = [1.9793986683640153e-12, 1.9793986315074842e-12, 1.9793986483675605e-12]\n",
      "d01,d02,d12 = [1.0244967569309353, 1.024496756930773, 1.024496756928488]\n"
     ]
    },
    {
     "name": "stderr",
     "output_type": "stream",
     "text": [
      "/cluster/home/mskrabulis/miniconda3/envs/quantech/lib/python3.9/site-packages/pyscf/symm/Dmatrix.py:156: RuntimeWarning: invalid value encountered in arccos\n",
      "  gamma = numpy.arccos(yp.dot(c2[1]))\n",
      "Progress:  58%|█████▊    | 173/300 [40:55<31:12, 14.75s/it]"
     ]
    },
    {
     "name": "stdout",
     "output_type": "stream",
     "text": [
      "Time to: Calculate Ground State - 1.39s, Get Pauli Ops - 6.03s, Calculate Pauli Expectation Values - 5.39s, Calculate Covariance - 2.26s\n",
      "f0,f1,f2 = [2.1256177373182046e-09, 2.1256177372929545e-09, 2.1256177373005865e-09]\n",
      "d01,d02,d12 = [1.0328976072875042, 1.0328976072873355, 1.0328976072848475]\n"
     ]
    },
    {
     "name": "stderr",
     "output_type": "stream",
     "text": [
      "/cluster/home/mskrabulis/miniconda3/envs/quantech/lib/python3.9/site-packages/pyscf/symm/Dmatrix.py:156: RuntimeWarning: invalid value encountered in arccos\n",
      "  gamma = numpy.arccos(yp.dot(c2[1]))\n",
      "Progress:  58%|█████▊    | 174/300 [41:11<31:44, 15.12s/it]"
     ]
    },
    {
     "name": "stdout",
     "output_type": "stream",
     "text": [
      "Time to: Calculate Ground State - 1.03s, Get Pauli Ops - 6.63s, Calculate Pauli Expectation Values - 6.26s, Calculate Covariance - 2.05s\n",
      "f0,f1,f2 = [1.7061365707885208e-09, 1.7061365707578717e-09, 1.7061365707586868e-09]\n",
      "d01,d02,d12 = [1.0422006503616321, 1.0422006503614605, 1.042200650358777]\n"
     ]
    },
    {
     "name": "stderr",
     "output_type": "stream",
     "text": [
      "/cluster/home/mskrabulis/miniconda3/envs/quantech/lib/python3.9/site-packages/pyscf/symm/Dmatrix.py:156: RuntimeWarning: invalid value encountered in arccos\n",
      "  gamma = numpy.arccos(yp.dot(c2[1]))\n",
      "Progress:  58%|█████▊    | 175/300 [41:24<30:40, 14.72s/it]"
     ]
    },
    {
     "name": "stdout",
     "output_type": "stream",
     "text": [
      "Time to: Calculate Ground State - 1.25s, Get Pauli Ops - 5.19s, Calculate Pauli Expectation Values - 5.23s, Calculate Covariance - 2.13s\n",
      "f0,f1,f2 = [2.122533674669374e-09, 2.1225336746417014e-09, 2.1225336746428305e-09]\n",
      "d01,d02,d12 = [1.049440662684734, 1.0494406626845592, 1.0494406626816886]\n"
     ]
    },
    {
     "name": "stderr",
     "output_type": "stream",
     "text": [
      "/cluster/home/mskrabulis/miniconda3/envs/quantech/lib/python3.9/site-packages/pyscf/symm/Dmatrix.py:156: RuntimeWarning: invalid value encountered in arccos\n",
      "  gamma = numpy.arccos(yp.dot(c2[1]))\n",
      "Progress:  59%|█████▊    | 176/300 [41:38<29:49, 14.43s/it]"
     ]
    },
    {
     "name": "stdout",
     "output_type": "stream",
     "text": [
      "Time to: Calculate Ground State - 1.35s, Get Pauli Ops - 5.15s, Calculate Pauli Expectation Values - 5.1s, Calculate Covariance - 2.13s\n",
      "f0,f1,f2 = [1.0652201518997117e-09, 1.065220151857305e-09, 1.0652201518579538e-09]\n",
      "d01,d02,d12 = [1.0552648607788384, 1.055264860778656, 1.05526486077561]\n"
     ]
    },
    {
     "name": "stderr",
     "output_type": "stream",
     "text": [
      "/cluster/home/mskrabulis/miniconda3/envs/quantech/lib/python3.9/site-packages/pyscf/symm/Dmatrix.py:156: RuntimeWarning: invalid value encountered in arccos\n",
      "  gamma = numpy.arccos(yp.dot(c2[1]))\n",
      "Progress:  59%|█████▉    | 177/300 [41:52<29:23, 14.34s/it]"
     ]
    },
    {
     "name": "stdout",
     "output_type": "stream",
     "text": [
      "Time to: Calculate Ground State - 1.33s, Get Pauli Ops - 5.37s, Calculate Pauli Expectation Values - 5.39s, Calculate Covariance - 2.05s\n",
      "f0,f1,f2 = [2.3464007133891572e-09, 2.3464007133595e-09, 2.3464007133530214e-09]\n",
      "d01,d02,d12 = [1.0599460594614114, 1.0599460594612231, 1.0599460594579995]\n"
     ]
    },
    {
     "name": "stderr",
     "output_type": "stream",
     "text": [
      "Progress:  59%|█████▉    | 178/300 [42:05<28:06, 13.82s/it]"
     ]
    },
    {
     "name": "stdout",
     "output_type": "stream",
     "text": [
      "Time to: Calculate Ground State - 0.92s, Get Pauli Ops - 4.57s, Calculate Pauli Expectation Values - 5.04s, Calculate Covariance - 2.07s\n",
      "f0,f1,f2 = [2.2488428421661785e-09, 2.248842842144772e-09, 2.248842842140139e-09]\n",
      "d01,d02,d12 = [1.0631978737299543, 1.06319787372976, 1.063197873726363]\n"
     ]
    },
    {
     "name": "stderr",
     "output_type": "stream",
     "text": [
      "/cluster/home/mskrabulis/miniconda3/envs/quantech/lib/python3.9/site-packages/pyscf/symm/Dmatrix.py:156: RuntimeWarning: invalid value encountered in arccos\n",
      "  gamma = numpy.arccos(yp.dot(c2[1]))\n",
      "Progress:  60%|█████▉    | 179/300 [42:17<26:44, 13.26s/it]"
     ]
    },
    {
     "name": "stdout",
     "output_type": "stream",
     "text": [
      "Time to: Calculate Ground State - 0.88s, Get Pauli Ops - 4.45s, Calculate Pauli Expectation Values - 4.84s, Calculate Covariance - 1.75s\n",
      "f0,f1,f2 = [3.884694395506271e-09, 3.884694395481723e-09, 3.884694395500619e-09]\n",
      "d01,d02,d12 = [1.064942254480192, 1.0649422544799885, 1.0649422544764244]\n"
     ]
    },
    {
     "name": "stderr",
     "output_type": "stream",
     "text": [
      "/cluster/home/mskrabulis/miniconda3/envs/quantech/lib/python3.9/site-packages/pyscf/symm/Dmatrix.py:156: RuntimeWarning: invalid value encountered in arccos\n",
      "  gamma = numpy.arccos(yp.dot(c2[1]))\n",
      "Progress:  60%|██████    | 180/300 [42:32<27:48, 13.91s/it]"
     ]
    },
    {
     "name": "stdout",
     "output_type": "stream",
     "text": [
      "Time to: Calculate Ground State - 1.3s, Get Pauli Ops - 5.0s, Calculate Pauli Expectation Values - 6.62s, Calculate Covariance - 2.49s\n",
      "f0,f1,f2 = [2.2691125128360074e-09, 2.2691125127956083e-09, 2.269112512790016e-09]\n",
      "d01,d02,d12 = [1.0657403949287754, 1.0657403949285646, 1.0657403949248558]\n"
     ]
    },
    {
     "name": "stderr",
     "output_type": "stream",
     "text": [
      "Progress:  60%|██████    | 181/300 [42:46<27:29, 13.86s/it]"
     ]
    },
    {
     "name": "stdout",
     "output_type": "stream",
     "text": [
      "Time to: Calculate Ground State - 1.34s, Get Pauli Ops - 5.16s, Calculate Pauli Expectation Values - 5.04s, Calculate Covariance - 2.19s\n",
      "f0,f1,f2 = [8.152440276652846e-10, 8.152440276358225e-10, 8.152440276183823e-10]\n",
      "d01,d02,d12 = [1.0661406220635459, 1.0661406220633327, 1.066140622059488]\n"
     ]
    },
    {
     "name": "stderr",
     "output_type": "stream",
     "text": [
      "Progress:  61%|██████    | 182/300 [43:00<27:30, 13.98s/it]"
     ]
    },
    {
     "name": "stdout",
     "output_type": "stream",
     "text": [
      "Time to: Calculate Ground State - 1.27s, Get Pauli Ops - 5.09s, Calculate Pauli Expectation Values - 5.47s, Calculate Covariance - 2.42s\n",
      "f0,f1,f2 = [1.9887972839796775e-09, 1.9887972839324694e-09, 1.9887972839263537e-09]\n",
      "d01,d02,d12 = [1.0657426467936628, 1.0657426467934503, 1.0657426467894877]\n"
     ]
    },
    {
     "name": "stderr",
     "output_type": "stream",
     "text": [
      "/cluster/home/mskrabulis/miniconda3/envs/quantech/lib/python3.9/site-packages/pyscf/symm/Dmatrix.py:156: RuntimeWarning: invalid value encountered in arccos\n",
      "  gamma = numpy.arccos(yp.dot(c2[1]))\n",
      "Progress:  61%|██████    | 183/300 [43:14<27:13, 13.97s/it]"
     ]
    },
    {
     "name": "stdout",
     "output_type": "stream",
     "text": [
      "Time to: Calculate Ground State - 1.36s, Get Pauli Ops - 4.08s, Calculate Pauli Expectation Values - 6.3s, Calculate Covariance - 2.18s\n",
      "f0,f1,f2 = [2.879862020428473e-09, 2.8798620203906153e-09, 2.879862020385798e-09]\n",
      "d01,d02,d12 = [1.0641771753745304, 1.0641771753743197, 1.0641771753702591]\n"
     ]
    },
    {
     "name": "stderr",
     "output_type": "stream",
     "text": [
      "Progress:  61%|██████▏   | 184/300 [43:27<26:30, 13.71s/it]"
     ]
    },
    {
     "name": "stdout",
     "output_type": "stream",
     "text": [
      "Time to: Calculate Ground State - 0.89s, Get Pauli Ops - 4.89s, Calculate Pauli Expectation Values - 5.33s, Calculate Covariance - 2.01s\n",
      "f0,f1,f2 = [2.7200616569860683e-09, 2.720061656920379e-09, 2.7200616569342095e-09]\n",
      "d01,d02,d12 = [1.0615374492998877, 1.0615374492996783, 1.0615374492955434]\n"
     ]
    },
    {
     "name": "stderr",
     "output_type": "stream",
     "text": [
      "Progress:  62%|██████▏   | 185/300 [43:41<26:02, 13.59s/it]"
     ]
    },
    {
     "name": "stdout",
     "output_type": "stream",
     "text": [
      "Time to: Calculate Ground State - 1.4s, Get Pauli Ops - 4.85s, Calculate Pauli Expectation Values - 5.36s, Calculate Covariance - 1.68s\n",
      "f0,f1,f2 = [2.1465448212819454e-09, 2.1465448212366076e-09, 2.1465448212298264e-09]\n",
      "d01,d02,d12 = [1.058057207520227, 1.058057207520021, 1.0580572075158245]\n"
     ]
    },
    {
     "name": "stderr",
     "output_type": "stream",
     "text": [
      "Progress:  62%|██████▏   | 186/300 [43:57<27:14, 14.33s/it]"
     ]
    },
    {
     "name": "stdout",
     "output_type": "stream",
     "text": [
      "Time to: Calculate Ground State - 1.04s, Get Pauli Ops - 7.11s, Calculate Pauli Expectation Values - 5.86s, Calculate Covariance - 2.05s\n",
      "f0,f1,f2 = [1.029248290530559e-09, 1.0292482904849454e-09, 1.0292482904944654e-09]\n",
      "d01,d02,d12 = [1.0534469138911502, 1.0534469138909446, 1.053446913886694]\n"
     ]
    },
    {
     "name": "stderr",
     "output_type": "stream",
     "text": [
      "Progress:  62%|██████▏   | 187/300 [44:10<26:11, 13.91s/it]"
     ]
    },
    {
     "name": "stdout",
     "output_type": "stream",
     "text": [
      "Time to: Calculate Ground State - 1.19s, Get Pauli Ops - 4.84s, Calculate Pauli Expectation Values - 4.84s, Calculate Covariance - 2.03s\n",
      "f0,f1,f2 = [2.4427767938384614e-09, 2.442776793790762e-09, 2.442776793766867e-09]\n",
      "d01,d02,d12 = [1.049009869919782, 1.0490098699195827, 1.0490098699152954]\n"
     ]
    },
    {
     "name": "stderr",
     "output_type": "stream",
     "text": [
      "Progress:  63%|██████▎   | 188/300 [44:23<25:46, 13.80s/it]"
     ]
    },
    {
     "name": "stdout",
     "output_type": "stream",
     "text": [
      "Time to: Calculate Ground State - 1.27s, Get Pauli Ops - 5.09s, Calculate Pauli Expectation Values - 5.02s, Calculate Covariance - 2.18s\n",
      "f0,f1,f2 = [3.1463519912363682e-09, 3.1463519911676237e-09, 3.146351991165566e-09]\n",
      "d01,d02,d12 = [1.042686242187119, 1.0426862421869272, 1.0426862421826348]\n"
     ]
    },
    {
     "name": "stderr",
     "output_type": "stream",
     "text": [
      "Progress:  63%|██████▎   | 189/300 [44:38<26:14, 14.19s/it]"
     ]
    },
    {
     "name": "stdout",
     "output_type": "stream",
     "text": [
      "Time to: Calculate Ground State - 1.18s, Get Pauli Ops - 6.25s, Calculate Pauli Expectation Values - 5.49s, Calculate Covariance - 2.16s\n",
      "f0,f1,f2 = [1.923510649839127e-09, 1.9235106497886623e-09, 1.9235106497978932e-09]\n",
      "d01,d02,d12 = [1.0347787474271066, 1.0347787474269219, 1.0347787474226589]\n"
     ]
    },
    {
     "name": "stderr",
     "output_type": "stream",
     "text": [
      "Progress:  63%|██████▎   | 190/300 [44:52<25:54, 14.13s/it]"
     ]
    },
    {
     "name": "stdout",
     "output_type": "stream",
     "text": [
      "Time to: Calculate Ground State - 1.07s, Get Pauli Ops - 5.99s, Calculate Pauli Expectation Values - 4.92s, Calculate Covariance - 2.02s\n",
      "f0,f1,f2 = [5.253695905131346e-10, 5.253695904524748e-10, 5.253695904395863e-10]\n",
      "d01,d02,d12 = [1.027165653306733, 1.0271656533065574, 1.0271656533023783]\n"
     ]
    },
    {
     "name": "stderr",
     "output_type": "stream",
     "text": [
      "Progress:  64%|██████▎   | 191/300 [45:06<25:28, 14.02s/it]"
     ]
    },
    {
     "name": "stdout",
     "output_type": "stream",
     "text": [
      "Time to: Calculate Ground State - 1.11s, Get Pauli Ops - 5.16s, Calculate Pauli Expectation Values - 5.41s, Calculate Covariance - 2.06s\n",
      "f0,f1,f2 = [7.598649875332206e-10, 7.598649874793377e-10, 7.598649874697865e-10]\n",
      "d01,d02,d12 = [1.020232934409228, 1.02023293440906, 1.0202329344049763]\n"
     ]
    },
    {
     "name": "stderr",
     "output_type": "stream",
     "text": [
      "/cluster/home/mskrabulis/miniconda3/envs/quantech/lib/python3.9/site-packages/pyscf/symm/Dmatrix.py:156: RuntimeWarning: invalid value encountered in arccos\n",
      "  gamma = numpy.arccos(yp.dot(c2[1]))\n",
      "Progress:  64%|██████▍   | 192/300 [45:20<25:26, 14.13s/it]"
     ]
    },
    {
     "name": "stdout",
     "output_type": "stream",
     "text": [
      "Time to: Calculate Ground State - 1.38s, Get Pauli Ops - 5.05s, Calculate Pauli Expectation Values - 5.48s, Calculate Covariance - 2.47s\n",
      "f0,f1,f2 = [1.9187556352820345e-09, 1.9187556352224448e-09, 1.91875563521315e-09]\n",
      "d01,d02,d12 = [1.0135934972856386, 1.0135934972854757, 1.0135934972814915]\n"
     ]
    },
    {
     "name": "stderr",
     "output_type": "stream",
     "text": [
      "/cluster/home/mskrabulis/miniconda3/envs/quantech/lib/python3.9/site-packages/pyscf/symm/Dmatrix.py:156: RuntimeWarning: invalid value encountered in arccos\n",
      "  gamma = numpy.arccos(yp.dot(c2[1]))\n",
      "Progress:  64%|██████▍   | 193/300 [45:36<25:45, 14.44s/it]"
     ]
    },
    {
     "name": "stdout",
     "output_type": "stream",
     "text": [
      "Time to: Calculate Ground State - 1.36s, Get Pauli Ops - 5.89s, Calculate Pauli Expectation Values - 5.56s, Calculate Covariance - 2.35s\n",
      "f0,f1,f2 = [1.463223771967646e-09, 1.4632237719079104e-09, 1.4632237718942085e-09]\n",
      "d01,d02,d12 = [1.0063521113313416, 1.0063521113311957, 1.0063521113273501]\n"
     ]
    },
    {
     "name": "stderr",
     "output_type": "stream",
     "text": [
      "/cluster/home/mskrabulis/miniconda3/envs/quantech/lib/python3.9/site-packages/pyscf/symm/Dmatrix.py:156: RuntimeWarning: invalid value encountered in arccos\n",
      "  gamma = numpy.arccos(yp.dot(c2[1]))\n",
      "Progress:  65%|██████▍   | 194/300 [45:51<26:09, 14.80s/it]"
     ]
    },
    {
     "name": "stdout",
     "output_type": "stream",
     "text": [
      "Time to: Calculate Ground State - 1.38s, Get Pauli Ops - 5.29s, Calculate Pauli Expectation Values - 7.0s, Calculate Covariance - 1.97s\n",
      "f0,f1,f2 = [7.179711992277798e-11, 7.179711997257696e-11, 7.179711997894529e-11]\n",
      "d01,d02,d12 = [1.0001684907606732, 1.000168490760544, 1.00016849075685]\n"
     ]
    },
    {
     "name": "stderr",
     "output_type": "stream",
     "text": [
      "/cluster/home/mskrabulis/miniconda3/envs/quantech/lib/python3.9/site-packages/pyscf/symm/Dmatrix.py:156: RuntimeWarning: invalid value encountered in arccos\n",
      "  gamma = numpy.arccos(yp.dot(c2[1]))\n",
      "Progress:  65%|██████▌   | 195/300 [46:08<27:07, 15.50s/it]"
     ]
    },
    {
     "name": "stdout",
     "output_type": "stream",
     "text": [
      "Time to: Calculate Ground State - 1.34s, Get Pauli Ops - 5.04s, Calculate Pauli Expectation Values - 8.27s, Calculate Covariance - 2.47s\n",
      "f0,f1,f2 = [8.913986227650138e-10, 8.913986228226012e-10, 8.913986228332774e-10]\n",
      "d01,d02,d12 = [0.9947809706551556, 0.9947809706550473, 0.9947809706515218]\n"
     ]
    },
    {
     "name": "stderr",
     "output_type": "stream",
     "text": [
      "Progress:  65%|██████▌   | 196/300 [46:26<27:57, 16.13s/it]"
     ]
    },
    {
     "name": "stdout",
     "output_type": "stream",
     "text": [
      "Time to: Calculate Ground State - 1.31s, Get Pauli Ops - 7.47s, Calculate Pauli Expectation Values - 6.34s, Calculate Covariance - 2.45s\n",
      "f0,f1,f2 = [5.765711696604093e-10, 5.765711696228933e-10, 5.765711696076317e-10]\n",
      "d01,d02,d12 = [0.9894349346291844, 0.9894349346290989, 0.9894349346257697]\n"
     ]
    },
    {
     "name": "stderr",
     "output_type": "stream",
     "text": [
      "Progress:  66%|██████▌   | 197/300 [46:39<26:02, 15.17s/it]"
     ]
    },
    {
     "name": "stdout",
     "output_type": "stream",
     "text": [
      "Time to: Calculate Ground State - 1.32s, Get Pauli Ops - 4.31s, Calculate Pauli Expectation Values - 5.39s, Calculate Covariance - 1.92s\n",
      "f0,f1,f2 = [4.188628138393916e-10, 4.1886281378373996e-10, 4.188628137769347e-10]\n",
      "d01,d02,d12 = [0.9835991177955423, 0.9835991177954853, 0.9835991177923962]\n"
     ]
    },
    {
     "name": "stderr",
     "output_type": "stream",
     "text": [
      "Progress:  66%|██████▌   | 198/300 [46:53<25:01, 14.72s/it]"
     ]
    },
    {
     "name": "stdout",
     "output_type": "stream",
     "text": [
      "Time to: Calculate Ground State - 1.03s, Get Pauli Ops - 5.11s, Calculate Pauli Expectation Values - 5.08s, Calculate Covariance - 2.45s\n",
      "f0,f1,f2 = [8.318468664347869e-10, 8.318468663945086e-10, 8.318468663889177e-10]\n",
      "d01,d02,d12 = [0.9762014379331286, 0.9762014379331013, 0.9762014379302763]\n"
     ]
    },
    {
     "name": "stderr",
     "output_type": "stream",
     "text": [
      "Progress:  66%|██████▋   | 199/300 [47:07<24:28, 14.54s/it]"
     ]
    },
    {
     "name": "stdout",
     "output_type": "stream",
     "text": [
      "Time to: Calculate Ground State - 1.18s, Get Pauli Ops - 5.2s, Calculate Pauli Expectation Values - 5.41s, Calculate Covariance - 2.33s\n",
      "f0,f1,f2 = [2.0078193734458776e-10, 2.007819372934756e-10, 2.0078193729163538e-10]\n",
      "d01,d02,d12 = [0.9684969534203431, 0.968496953420346, 0.968496953417796]\n"
     ]
    },
    {
     "name": "stderr",
     "output_type": "stream",
     "text": [
      "/cluster/home/mskrabulis/miniconda3/envs/quantech/lib/python3.9/site-packages/pyscf/symm/Dmatrix.py:156: RuntimeWarning: invalid value encountered in arccos\n",
      "  gamma = numpy.arccos(yp.dot(c2[1]))\n",
      "Progress:  67%|██████▋   | 200/300 [47:21<24:07, 14.47s/it]"
     ]
    },
    {
     "name": "stdout",
     "output_type": "stream",
     "text": [
      "Time to: Calculate Ground State - 1.35s, Get Pauli Ops - 6.2s, Calculate Pauli Expectation Values - 5.01s, Calculate Covariance - 1.73s\n",
      "f0,f1,f2 = [7.342067189165077e-10, 7.342067189607713e-10, 7.342067189679973e-10]\n",
      "d01,d02,d12 = [0.9596154467490075, 0.9596154467490442, 0.959615446746777]\n"
     ]
    },
    {
     "name": "stderr",
     "output_type": "stream",
     "text": [
      "/cluster/home/mskrabulis/miniconda3/envs/quantech/lib/python3.9/site-packages/pyscf/symm/Dmatrix.py:156: RuntimeWarning: invalid value encountered in arccos\n",
      "  gamma = numpy.arccos(yp.dot(c2[1]))\n",
      "Progress:  67%|██████▋   | 201/300 [47:33<22:47, 13.82s/it]"
     ]
    },
    {
     "name": "stdout",
     "output_type": "stream",
     "text": [
      "Time to: Calculate Ground State - 0.83s, Get Pauli Ops - 4.26s, Calculate Pauli Expectation Values - 5.01s, Calculate Covariance - 2.18s\n",
      "f0,f1,f2 = [1.6515713157759544e-10, 1.651571315514959e-10, 1.6515713155522654e-10]\n",
      "d01,d02,d12 = [0.9516008489001109, 0.9516008489001795, 0.9516008488982082]\n"
     ]
    },
    {
     "name": "stderr",
     "output_type": "stream",
     "text": [
      "/cluster/home/mskrabulis/miniconda3/envs/quantech/lib/python3.9/site-packages/pyscf/symm/Dmatrix.py:156: RuntimeWarning: invalid value encountered in arccos\n",
      "  gamma = numpy.arccos(yp.dot(c2[1]))\n",
      "Progress:  67%|██████▋   | 202/300 [47:46<22:03, 13.50s/it]"
     ]
    },
    {
     "name": "stdout",
     "output_type": "stream",
     "text": [
      "Time to: Calculate Ground State - 1.04s, Get Pauli Ops - 5.07s, Calculate Pauli Expectation Values - 5.01s, Calculate Covariance - 1.65s\n",
      "f0,f1,f2 = [2.2964626989690763e-09, 2.2964626990127097e-09, 2.2964626990068842e-09]\n",
      "d01,d02,d12 = [0.9439603383181893, 0.9439603383182911, 0.9439603383166283]\n"
     ]
    },
    {
     "name": "stderr",
     "output_type": "stream",
     "text": [
      "Progress:  68%|██████▊   | 203/300 [47:59<21:44, 13.44s/it]"
     ]
    },
    {
     "name": "stdout",
     "output_type": "stream",
     "text": [
      "Time to: Calculate Ground State - 1.12s, Get Pauli Ops - 4.94s, Calculate Pauli Expectation Values - 5.09s, Calculate Covariance - 2.14s\n",
      "f0,f1,f2 = [1.6393933823094939e-09, 1.6393933823416799e-09, 1.6393933823347396e-09]\n",
      "d01,d02,d12 = [0.9373044385097127, 0.9373044385098503, 0.9373044385085085]\n"
     ]
    },
    {
     "name": "stderr",
     "output_type": "stream",
     "text": [
      "/cluster/home/mskrabulis/miniconda3/envs/quantech/lib/python3.9/site-packages/pyscf/symm/Dmatrix.py:156: RuntimeWarning: invalid value encountered in arccos\n",
      "  gamma = numpy.arccos(yp.dot(c2[1]))\n",
      "Progress:  68%|██████▊   | 204/300 [48:13<21:34, 13.49s/it]"
     ]
    },
    {
     "name": "stdout",
     "output_type": "stream",
     "text": [
      "Time to: Calculate Ground State - 1.22s, Get Pauli Ops - 4.93s, Calculate Pauli Expectation Values - 5.14s, Calculate Covariance - 2.29s\n",
      "f0,f1,f2 = [3.445349154671439e-09, 3.445349154704248e-09, 3.445349154684992e-09]\n",
      "d01,d02,d12 = [0.9319947560919639, 0.9319947560921338, 0.9319947560911284]\n"
     ]
    },
    {
     "name": "stderr",
     "output_type": "stream",
     "text": [
      "/cluster/home/mskrabulis/miniconda3/envs/quantech/lib/python3.9/site-packages/pyscf/symm/Dmatrix.py:156: RuntimeWarning: invalid value encountered in arccos\n",
      "  gamma = numpy.arccos(yp.dot(c2[1]))\n",
      "Progress:  68%|██████▊   | 205/300 [48:26<21:09, 13.37s/it]"
     ]
    },
    {
     "name": "stdout",
     "output_type": "stream",
     "text": [
      "Time to: Calculate Ground State - 1.03s, Get Pauli Ops - 5.11s, Calculate Pauli Expectation Values - 5.14s, Calculate Covariance - 1.79s\n",
      "f0,f1,f2 = [4.326732400024746e-09, 4.326732400031596e-09, 4.32673240002518e-09]\n",
      "d01,d02,d12 = [0.9293567747848739, 0.9293567747850758, 0.9293567747844117]\n"
     ]
    },
    {
     "name": "stderr",
     "output_type": "stream",
     "text": [
      "/cluster/home/mskrabulis/miniconda3/envs/quantech/lib/python3.9/site-packages/pyscf/symm/Dmatrix.py:156: RuntimeWarning: invalid value encountered in arccos\n",
      "  gamma = numpy.arccos(yp.dot(c2[1]))\n",
      "Progress:  69%|██████▊   | 206/300 [48:39<20:55, 13.35s/it]"
     ]
    },
    {
     "name": "stdout",
     "output_type": "stream",
     "text": [
      "Time to: Calculate Ground State - 1.23s, Get Pauli Ops - 5.02s, Calculate Pauli Expectation Values - 4.94s, Calculate Covariance - 2.12s\n",
      "f0,f1,f2 = [2.123107858557615e-09, 2.123107858568384e-09, 2.1231078585571614e-09]\n",
      "d01,d02,d12 = [0.9275996918203845, 0.9275996918206154, 0.9275996918202949]\n"
     ]
    },
    {
     "name": "stderr",
     "output_type": "stream",
     "text": [
      "Progress:  69%|██████▉   | 207/300 [48:52<20:23, 13.16s/it]"
     ]
    },
    {
     "name": "stdout",
     "output_type": "stream",
     "text": [
      "Time to: Calculate Ground State - 1.22s, Get Pauli Ops - 4.21s, Calculate Pauli Expectation Values - 5.17s, Calculate Covariance - 2.1s\n",
      "f0,f1,f2 = [3.3883081790814776e-09, 3.3883081790836837e-09, 3.388308179078526e-09]\n",
      "d01,d02,d12 = [0.9273060216780322, 0.9273060216782872, 0.9273060216783139]\n"
     ]
    },
    {
     "name": "stderr",
     "output_type": "stream",
     "text": [
      "/cluster/home/mskrabulis/miniconda3/envs/quantech/lib/python3.9/site-packages/pyscf/symm/Dmatrix.py:156: RuntimeWarning: invalid value encountered in arccos\n",
      "  gamma = numpy.arccos(yp.dot(c2[1]))\n",
      "Progress:  69%|██████▉   | 208/300 [49:09<21:50, 14.24s/it]"
     ]
    },
    {
     "name": "stdout",
     "output_type": "stream",
     "text": [
      "Time to: Calculate Ground State - 0.78s, Get Pauli Ops - 6.76s, Calculate Pauli Expectation Values - 6.77s, Calculate Covariance - 2.46s\n",
      "f0,f1,f2 = [3.304628411173156e-09, 3.3046284111674605e-09, 3.304628411160514e-09]\n",
      "d01,d02,d12 = [0.9284107363765506, 0.9284107363768281, 0.9284107363771995]\n"
     ]
    },
    {
     "name": "stderr",
     "output_type": "stream",
     "text": [
      "Progress:  70%|██████▉   | 209/300 [49:23<21:42, 14.31s/it]"
     ]
    },
    {
     "name": "stdout",
     "output_type": "stream",
     "text": [
      "Time to: Calculate Ground State - 1.21s, Get Pauli Ops - 6.24s, Calculate Pauli Expectation Values - 4.97s, Calculate Covariance - 2.04s\n",
      "f0,f1,f2 = [2.416076731084114e-09, 2.4160767310751163e-09, 2.416076731064937e-09]\n",
      "d01,d02,d12 = [0.9304695980245752, 0.930469598024874, 0.9304695980255857]\n"
     ]
    },
    {
     "name": "stderr",
     "output_type": "stream",
     "text": [
      "/cluster/home/mskrabulis/miniconda3/envs/quantech/lib/python3.9/site-packages/pyscf/symm/Dmatrix.py:156: RuntimeWarning: invalid value encountered in arccos\n",
      "  gamma = numpy.arccos(yp.dot(c2[1]))\n",
      "Progress:  70%|███████   | 210/300 [49:40<22:24, 14.94s/it]"
     ]
    },
    {
     "name": "stdout",
     "output_type": "stream",
     "text": [
      "Time to: Calculate Ground State - 1.06s, Get Pauli Ops - 4.59s, Calculate Pauli Expectation Values - 8.35s, Calculate Covariance - 2.4s\n",
      "f0,f1,f2 = [2.4511996504948135e-09, 2.451199650482699e-09, 2.4511996504748785e-09]\n",
      "d01,d02,d12 = [0.9333924889488241, 0.93339248894914, 0.9333924889501876]\n"
     ]
    },
    {
     "name": "stderr",
     "output_type": "stream",
     "text": [
      "Progress:  70%|███████   | 211/300 [49:52<21:04, 14.20s/it]"
     ]
    },
    {
     "name": "stdout",
     "output_type": "stream",
     "text": [
      "Time to: Calculate Ground State - 1.35s, Get Pauli Ops - 4.45s, Calculate Pauli Expectation Values - 5.09s, Calculate Covariance - 1.59s\n",
      "f0,f1,f2 = [1.7830440493932179e-09, 1.7830440493763465e-09, 1.78304404937918e-09]\n",
      "d01,d02,d12 = [0.9366778827089102, 0.936677882709243, 0.936677882710618]\n"
     ]
    },
    {
     "name": "stderr",
     "output_type": "stream",
     "text": [
      "Progress:  71%|███████   | 212/300 [50:05<20:25, 13.93s/it]"
     ]
    },
    {
     "name": "stdout",
     "output_type": "stream",
     "text": [
      "Time to: Calculate Ground State - 1.33s, Get Pauli Ops - 4.69s, Calculate Pauli Expectation Values - 5.01s, Calculate Covariance - 2.25s\n",
      "f0,f1,f2 = [1.7421953349027912e-09, 1.742195334878331e-09, 1.7421953348586092e-09]\n",
      "d01,d02,d12 = [0.9408140147889956, 0.9408140147893393, 0.9408140147910355]\n"
     ]
    },
    {
     "name": "stderr",
     "output_type": "stream",
     "text": [
      "Progress:  71%|███████   | 213/300 [50:19<20:03, 13.83s/it]"
     ]
    },
    {
     "name": "stdout",
     "output_type": "stream",
     "text": [
      "Time to: Calculate Ground State - 1.22s, Get Pauli Ops - 5.15s, Calculate Pauli Expectation Values - 5.23s, Calculate Covariance - 2.01s\n",
      "f0,f1,f2 = [3.2881552331128333e-09, 3.2881552330863296e-09, 3.2881552330890936e-09]\n",
      "d01,d02,d12 = [0.9461684189330524, 0.9461684189334039, 0.9461684189354119]\n"
     ]
    },
    {
     "name": "stderr",
     "output_type": "stream",
     "text": [
      "/cluster/home/mskrabulis/miniconda3/envs/quantech/lib/python3.9/site-packages/pyscf/symm/Dmatrix.py:156: RuntimeWarning: invalid value encountered in arccos\n",
      "  gamma = numpy.arccos(yp.dot(c2[1]))\n",
      "Progress:  71%|███████▏  | 214/300 [50:39<22:23, 15.62s/it]"
     ]
    },
    {
     "name": "stdout",
     "output_type": "stream",
     "text": [
      "Time to: Calculate Ground State - 1.03s, Get Pauli Ops - 12.07s, Calculate Pauli Expectation Values - 4.83s, Calculate Covariance - 1.86s\n",
      "f0,f1,f2 = [3.2005643959756825e-09, 3.200564395938468e-09, 3.20056439593019e-09]\n",
      "d01,d02,d12 = [0.9527429714932263, 0.9527429714935846, 0.952742971495886]\n"
     ]
    },
    {
     "name": "stderr",
     "output_type": "stream",
     "text": [
      "Progress:  72%|███████▏  | 215/300 [50:52<20:59, 14.82s/it]"
     ]
    },
    {
     "name": "stdout",
     "output_type": "stream",
     "text": [
      "Time to: Calculate Ground State - 1.31s, Get Pauli Ops - 4.46s, Calculate Pauli Expectation Values - 5.07s, Calculate Covariance - 2.08s\n",
      "f0,f1,f2 = [1.7864942802539828e-09, 1.7864942802109417e-09, 1.7864942802112358e-09]\n",
      "d01,d02,d12 = [0.960481557335849, 0.9604815573362115, 0.9604815573387814]\n"
     ]
    },
    {
     "name": "stderr",
     "output_type": "stream",
     "text": [
      "Progress:  72%|███████▏  | 216/300 [51:04<19:40, 14.06s/it]"
     ]
    },
    {
     "name": "stdout",
     "output_type": "stream",
     "text": [
      "Time to: Calculate Ground State - 1.08s, Get Pauli Ops - 4.76s, Calculate Pauli Expectation Values - 4.86s, Calculate Covariance - 1.58s\n",
      "f0,f1,f2 = [1.325799637060069e-09, 1.325799637020669e-09, 1.3257996370246662e-09]\n",
      "d01,d02,d12 = [0.96725401008161, 0.9672540100819738, 0.9672540100847982]\n"
     ]
    },
    {
     "name": "stderr",
     "output_type": "stream",
     "text": [
      "/cluster/home/mskrabulis/miniconda3/envs/quantech/lib/python3.9/site-packages/pyscf/symm/Dmatrix.py:156: RuntimeWarning: invalid value encountered in arccos\n",
      "  gamma = numpy.arccos(yp.dot(c2[1]))\n",
      "Progress:  72%|███████▏  | 217/300 [51:17<18:47, 13.58s/it]"
     ]
    },
    {
     "name": "stdout",
     "output_type": "stream",
     "text": [
      "Time to: Calculate Ground State - 1.11s, Get Pauli Ops - 4.44s, Calculate Pauli Expectation Values - 5.09s, Calculate Covariance - 1.81s\n",
      "f0,f1,f2 = [1.8209621325935182e-09, 1.820962132532648e-09, 1.8209621325217555e-09]\n",
      "d01,d02,d12 = [0.9758482872415882, 0.9758482872419522, 0.9758482872450198]\n"
     ]
    },
    {
     "name": "stderr",
     "output_type": "stream",
     "text": [
      "/cluster/home/mskrabulis/miniconda3/envs/quantech/lib/python3.9/site-packages/pyscf/symm/Dmatrix.py:156: RuntimeWarning: invalid value encountered in arccos\n",
      "  gamma = numpy.arccos(yp.dot(c2[1]))\n",
      "/cluster/home/mskrabulis/miniconda3/envs/quantech/lib/python3.9/site-packages/pyscf/symm/Dmatrix.py:156: RuntimeWarning: invalid value encountered in arccos\n",
      "  gamma = numpy.arccos(yp.dot(c2[1]))\n",
      "Progress:  73%|███████▎  | 218/300 [51:30<18:32, 13.57s/it]"
     ]
    },
    {
     "name": "stdout",
     "output_type": "stream",
     "text": [
      "Time to: Calculate Ground State - 1.37s, Get Pauli Ops - 4.89s, Calculate Pauli Expectation Values - 5.15s, Calculate Covariance - 2.12s\n",
      "f0,f1,f2 = [1.4021196494306638e-09, 1.402119649378294e-09, 1.4021196493711343e-09]\n",
      "d01,d02,d12 = [0.9846875562541889, 0.9846875562545488, 0.9846875562578415]\n"
     ]
    },
    {
     "name": "stderr",
     "output_type": "stream",
     "text": [
      "Progress:  73%|███████▎  | 219/300 [51:44<18:36, 13.78s/it]"
     ]
    },
    {
     "name": "stdout",
     "output_type": "stream",
     "text": [
      "Time to: Calculate Ground State - 1.25s, Get Pauli Ops - 4.98s, Calculate Pauli Expectation Values - 5.79s, Calculate Covariance - 2.25s\n",
      "f0,f1,f2 = [5.048924281257846e-10, 5.048924280794272e-10, 5.048924280739128e-10]\n",
      "d01,d02,d12 = [0.992738761059053, 0.9927387610594162, 0.9927387610629145]\n"
     ]
    },
    {
     "name": "stderr",
     "output_type": "stream",
     "text": [
      "/cluster/home/mskrabulis/miniconda3/envs/quantech/lib/python3.9/site-packages/pyscf/symm/Dmatrix.py:156: RuntimeWarning: invalid value encountered in arccos\n",
      "  gamma = numpy.arccos(yp.dot(c2[1]))\n",
      "Progress:  73%|███████▎  | 220/300 [51:58<18:26, 13.83s/it]"
     ]
    },
    {
     "name": "stdout",
     "output_type": "stream",
     "text": [
      "Time to: Calculate Ground State - 0.8s, Get Pauli Ops - 4.9s, Calculate Pauli Expectation Values - 5.98s, Calculate Covariance - 2.25s\n",
      "f0,f1,f2 = [4.657603321238418e-10, 4.657603320767309e-10, 4.657603320738302e-10]\n",
      "d01,d02,d12 = [1.0011185232383633, 1.001118523238727, 1.001118523242442]\n"
     ]
    },
    {
     "name": "stderr",
     "output_type": "stream",
     "text": [
      "Progress:  74%|███████▎  | 221/300 [52:15<19:08, 14.54s/it]"
     ]
    },
    {
     "name": "stdout",
     "output_type": "stream",
     "text": [
      "Time to: Calculate Ground State - 1.33s, Get Pauli Ops - 7.8s, Calculate Pauli Expectation Values - 5.22s, Calculate Covariance - 1.84s\n",
      "f0,f1,f2 = [1.4965120096990418e-09, 1.4965120097596349e-09, 1.4965120097467714e-09]\n",
      "d01,d02,d12 = [1.0086015710846792, 1.0086015710850498, 1.0086015710889438]\n"
     ]
    },
    {
     "name": "stderr",
     "output_type": "stream",
     "text": [
      "Progress:  74%|███████▍  | 222/300 [52:28<18:25, 14.17s/it]"
     ]
    },
    {
     "name": "stdout",
     "output_type": "stream",
     "text": [
      "Time to: Calculate Ground State - 1.2s, Get Pauli Ops - 4.81s, Calculate Pauli Expectation Values - 5.37s, Calculate Covariance - 1.92s\n",
      "f0,f1,f2 = [2.529882910304778e-09, 2.5298829103910276e-09, 2.5298829103794723e-09]\n",
      "d01,d02,d12 = [1.0159615723453514, 1.01596157234573, 1.0159615723497673]\n"
     ]
    },
    {
     "name": "stderr",
     "output_type": "stream",
     "text": [
      "Progress:  74%|███████▍  | 223/300 [52:43<18:25, 14.36s/it]"
     ]
    },
    {
     "name": "stdout",
     "output_type": "stream",
     "text": [
      "Time to: Calculate Ground State - 1.11s, Get Pauli Ops - 5.91s, Calculate Pauli Expectation Values - 5.56s, Calculate Covariance - 2.21s\n",
      "f0,f1,f2 = [2.367342501235516e-09, 2.3673425012719037e-09, 2.3673425012750094e-09]\n",
      "d01,d02,d12 = [1.0226269389756757, 1.022626938976057, 1.022626938980217]\n"
     ]
    },
    {
     "name": "stderr",
     "output_type": "stream",
     "text": [
      "/cluster/home/mskrabulis/miniconda3/envs/quantech/lib/python3.9/site-packages/pyscf/symm/Dmatrix.py:156: RuntimeWarning: invalid value encountered in arccos\n",
      "  gamma = numpy.arccos(yp.dot(c2[1]))\n",
      "Progress:  75%|███████▍  | 224/300 [52:59<18:58, 14.98s/it]"
     ]
    },
    {
     "name": "stdout",
     "output_type": "stream",
     "text": [
      "Time to: Calculate Ground State - 0.95s, Get Pauli Ops - 6.16s, Calculate Pauli Expectation Values - 6.98s, Calculate Covariance - 2.34s\n",
      "f0,f1,f2 = [9.75742149535991e-10, 9.757421496124146e-10, 9.75742149620489e-10]\n",
      "d01,d02,d12 = [1.0284502939920555, 1.028450293992438, 1.0284502939966988]\n"
     ]
    },
    {
     "name": "stderr",
     "output_type": "stream",
     "text": [
      "Progress:  75%|███████▌  | 225/300 [53:14<18:36, 14.88s/it]"
     ]
    },
    {
     "name": "stdout",
     "output_type": "stream",
     "text": [
      "Time to: Calculate Ground State - 1.37s, Get Pauli Ops - 5.29s, Calculate Pauli Expectation Values - 5.51s, Calculate Covariance - 2.47s\n",
      "f0,f1,f2 = [1.0334253197766861e-09, 1.0334253198209876e-09, 1.0334253198158781e-09]\n",
      "d01,d02,d12 = [1.033709921589256, 1.0337099215896346, 1.0337099215939682]\n"
     ]
    },
    {
     "name": "stderr",
     "output_type": "stream",
     "text": [
      "Progress:  75%|███████▌  | 226/300 [53:33<20:01, 16.24s/it]"
     ]
    },
    {
     "name": "stdout",
     "output_type": "stream",
     "text": [
      "Time to: Calculate Ground State - 1.27s, Get Pauli Ops - 9.0s, Calculate Pauli Expectation Values - 6.77s, Calculate Covariance - 2.35s\n",
      "f0,f1,f2 = [1.958132974989018e-09, 1.9581329750470416e-09, 1.9581329750441155e-09]\n",
      "d01,d02,d12 = [1.0381259900478454, 1.0381259900482231, 1.0381259900525952]\n"
     ]
    },
    {
     "name": "stderr",
     "output_type": "stream",
     "text": [
      "Progress:  76%|███████▌  | 227/300 [53:51<20:13, 16.63s/it]"
     ]
    },
    {
     "name": "stdout",
     "output_type": "stream",
     "text": [
      "Time to: Calculate Ground State - 1.39s, Get Pauli Ops - 8.86s, Calculate Pauli Expectation Values - 5.19s, Calculate Covariance - 2.08s\n",
      "f0,f1,f2 = [1.847842330412991e-09, 1.847842330489719e-09, 1.8478423304915932e-09]\n",
      "d01,d02,d12 = [1.0425989391273376, 1.0425989391277146, 1.0425989391321195]\n"
     ]
    },
    {
     "name": "stderr",
     "output_type": "stream",
     "text": [
      "Progress:  76%|███████▌  | 228/300 [54:04<18:40, 15.56s/it]"
     ]
    },
    {
     "name": "stdout",
     "output_type": "stream",
     "text": [
      "Time to: Calculate Ground State - 1.06s, Get Pauli Ops - 4.86s, Calculate Pauli Expectation Values - 5.06s, Calculate Covariance - 2.09s\n",
      "f0,f1,f2 = [3.924684262457939e-09, 3.924684262507157e-09, 3.924684262505717e-09]\n",
      "d01,d02,d12 = [1.045934944161544, 1.0459349441619201, 1.045934944166352]\n"
     ]
    },
    {
     "name": "stderr",
     "output_type": "stream",
     "text": [
      "Progress:  76%|███████▋  | 229/300 [54:18<17:52, 15.11s/it]"
     ]
    },
    {
     "name": "stdout",
     "output_type": "stream",
     "text": [
      "Time to: Calculate Ground State - 1.4s, Get Pauli Ops - 5.08s, Calculate Pauli Expectation Values - 5.32s, Calculate Covariance - 2.26s\n",
      "f0,f1,f2 = [2.6376814953671053e-09, 2.63768149541491e-09, 2.6376814954086343e-09]\n",
      "d01,d02,d12 = [1.048674343067273, 1.0486743430676488, 1.0486743430720926]\n"
     ]
    },
    {
     "name": "stderr",
     "output_type": "stream",
     "text": [
      "Progress:  77%|███████▋  | 230/300 [54:33<17:46, 15.24s/it]"
     ]
    },
    {
     "name": "stdout",
     "output_type": "stream",
     "text": [
      "Time to: Calculate Ground State - 1.27s, Get Pauli Ops - 6.92s, Calculate Pauli Expectation Values - 5.03s, Calculate Covariance - 2.29s\n",
      "f0,f1,f2 = [1.922335732591999e-09, 1.922335732654827e-09, 1.922335732670473e-09]\n",
      "d01,d02,d12 = [1.0509446845714843, 1.0509446845718582, 1.0509446845762904]\n"
     ]
    },
    {
     "name": "stderr",
     "output_type": "stream",
     "text": [
      "Progress:  77%|███████▋  | 231/300 [54:46<16:31, 14.37s/it]"
     ]
    },
    {
     "name": "stdout",
     "output_type": "stream",
     "text": [
      "Time to: Calculate Ground State - 0.93s, Get Pauli Ops - 4.77s, Calculate Pauli Expectation Values - 4.93s, Calculate Covariance - 1.72s\n",
      "f0,f1,f2 = [2.36443079363869e-09, 2.3644307937006045e-09, 2.364430793707667e-09]\n",
      "d01,d02,d12 = [1.05247501963908, 1.052475019639448, 1.0524750196438482]\n"
     ]
    },
    {
     "name": "stderr",
     "output_type": "stream",
     "text": [
      "/cluster/home/mskrabulis/miniconda3/envs/quantech/lib/python3.9/site-packages/pyscf/symm/Dmatrix.py:156: RuntimeWarning: invalid value encountered in arccos\n",
      "  gamma = numpy.arccos(yp.dot(c2[1]))\n",
      "Progress:  77%|███████▋  | 232/300 [54:59<15:52, 14.01s/it]"
     ]
    },
    {
     "name": "stdout",
     "output_type": "stream",
     "text": [
      "Time to: Calculate Ground State - 1.14s, Get Pauli Ops - 4.24s, Calculate Pauli Expectation Values - 5.51s, Calculate Covariance - 2.26s\n",
      "f0,f1,f2 = [1.9719213375259943e-09, 1.971921337586248e-09, 1.971921337592977e-09]\n",
      "d01,d02,d12 = [1.0533076786383453, 1.053307678638706, 1.0533076786430495]\n"
     ]
    },
    {
     "name": "stderr",
     "output_type": "stream",
     "text": [
      "/cluster/home/mskrabulis/miniconda3/envs/quantech/lib/python3.9/site-packages/pyscf/symm/Dmatrix.py:156: RuntimeWarning: invalid value encountered in arccos\n",
      "  gamma = numpy.arccos(yp.dot(c2[1]))\n",
      "Progress:  78%|███████▊  | 233/300 [55:11<15:01, 13.45s/it]"
     ]
    },
    {
     "name": "stdout",
     "output_type": "stream",
     "text": [
      "Time to: Calculate Ground State - 1.29s, Get Pauli Ops - 4.0s, Calculate Pauli Expectation Values - 4.91s, Calculate Covariance - 1.96s\n",
      "f0,f1,f2 = [2.37970083552247e-09, 2.379700835566322e-09, 2.3797008355644346e-09]\n",
      "d01,d02,d12 = [1.0532088163977857, 1.0532088163981386, 1.0532088164024114]\n"
     ]
    },
    {
     "name": "stderr",
     "output_type": "stream",
     "text": [
      "Progress:  78%|███████▊  | 234/300 [55:27<15:33, 14.14s/it]"
     ]
    },
    {
     "name": "stdout",
     "output_type": "stream",
     "text": [
      "Time to: Calculate Ground State - 1.16s, Get Pauli Ops - 5.2s, Calculate Pauli Expectation Values - 7.17s, Calculate Covariance - 2.21s\n",
      "f0,f1,f2 = [3.3899500287740987e-09, 3.3899500288225806e-09, 3.3899500288347827e-09]\n",
      "d01,d02,d12 = [1.0517264614906185, 1.0517264614909558, 1.0517264614951354]\n"
     ]
    },
    {
     "name": "stderr",
     "output_type": "stream",
     "text": [
      "Progress:  78%|███████▊  | 235/300 [55:40<15:10, 14.01s/it]"
     ]
    },
    {
     "name": "stdout",
     "output_type": "stream",
     "text": [
      "Time to: Calculate Ground State - 1.27s, Get Pauli Ops - 4.72s, Calculate Pauli Expectation Values - 5.47s, Calculate Covariance - 2.22s\n",
      "f0,f1,f2 = [2.6146301780856212e-09, 2.6146301781421954e-09, 2.6146301781369404e-09]\n",
      "d01,d02,d12 = [1.0491085255176018, 1.0491085255179164, 1.0491085255219843]\n"
     ]
    },
    {
     "name": "stderr",
     "output_type": "stream",
     "text": [
      "Progress:  79%|███████▊  | 236/300 [55:53<14:23, 13.49s/it]"
     ]
    },
    {
     "name": "stdout",
     "output_type": "stream",
     "text": [
      "Time to: Calculate Ground State - 1.04s, Get Pauli Ops - 4.73s, Calculate Pauli Expectation Values - 4.89s, Calculate Covariance - 1.61s\n",
      "f0,f1,f2 = [1.941515767987965e-09, 1.941515768042584e-09, 1.9415157680473327e-09]\n",
      "d01,d02,d12 = [1.0458449264730252, 1.0458449264733143, 1.0458449264772498]\n"
     ]
    },
    {
     "name": "stderr",
     "output_type": "stream",
     "text": [
      "/cluster/home/mskrabulis/miniconda3/envs/quantech/lib/python3.9/site-packages/pyscf/symm/Dmatrix.py:156: RuntimeWarning: invalid value encountered in arccos\n",
      "  gamma = numpy.arccos(yp.dot(c2[1]))\n",
      "Progress:  79%|███████▉  | 237/300 [56:06<14:13, 13.55s/it]"
     ]
    },
    {
     "name": "stdout",
     "output_type": "stream",
     "text": [
      "Time to: Calculate Ground State - 1.21s, Get Pauli Ops - 4.71s, Calculate Pauli Expectation Values - 5.43s, Calculate Covariance - 2.35s\n",
      "f0,f1,f2 = [3.014782835775813e-09, 3.01478283582907e-09, 3.014782835827886e-09]\n",
      "d01,d02,d12 = [1.0414099755971087, 1.0414099755973703, 1.0414099756011568]\n"
     ]
    },
    {
     "name": "stderr",
     "output_type": "stream",
     "text": [
      "/cluster/home/mskrabulis/miniconda3/envs/quantech/lib/python3.9/site-packages/pyscf/symm/Dmatrix.py:156: RuntimeWarning: invalid value encountered in arccos\n",
      "  gamma = numpy.arccos(yp.dot(c2[1]))\n",
      "Progress:  79%|███████▉  | 238/300 [56:20<13:59, 13.53s/it]"
     ]
    },
    {
     "name": "stdout",
     "output_type": "stream",
     "text": [
      "Time to: Calculate Ground State - 0.92s, Get Pauli Ops - 4.32s, Calculate Pauli Expectation Values - 6.31s, Calculate Covariance - 1.94s\n",
      "f0,f1,f2 = [2.7308044213676405e-09, 2.73080442142814e-09, 2.7308044214245816e-09]\n",
      "d01,d02,d12 = [1.0355633470207135, 1.0355633470209493, 1.035563347024559]\n"
     ]
    },
    {
     "name": "stderr",
     "output_type": "stream",
     "text": [
      "Progress:  80%|███████▉  | 239/300 [56:35<14:12, 13.98s/it]"
     ]
    },
    {
     "name": "stdout",
     "output_type": "stream",
     "text": [
      "Time to: Calculate Ground State - 1.24s, Get Pauli Ops - 5.1s, Calculate Pauli Expectation Values - 6.46s, Calculate Covariance - 2.2s\n",
      "f0,f1,f2 = [3.481174663657063e-09, 3.481174663705051e-09, 3.4811746637155853e-09]\n",
      "d01,d02,d12 = [1.02800255306681, 1.0280025530670147, 1.0280025530704298]\n"
     ]
    },
    {
     "name": "stderr",
     "output_type": "stream",
     "text": [
      "Progress:  80%|████████  | 240/300 [56:47<13:28, 13.47s/it]"
     ]
    },
    {
     "name": "stdout",
     "output_type": "stream",
     "text": [
      "Time to: Calculate Ground State - 1.35s, Get Pauli Ops - 4.47s, Calculate Pauli Expectation Values - 4.61s, Calculate Covariance - 1.86s\n",
      "f0,f1,f2 = [1.7201246112715647e-09, 1.720124611324203e-09, 1.7201246113175568e-09]\n",
      "d01,d02,d12 = [1.0184649100088379, 1.0184649100090106, 1.0184649100121843]\n"
     ]
    },
    {
     "name": "stderr",
     "output_type": "stream",
     "text": [
      "Progress:  80%|████████  | 241/300 [57:01<13:25, 13.65s/it]"
     ]
    },
    {
     "name": "stdout",
     "output_type": "stream",
     "text": [
      "Time to: Calculate Ground State - 1.41s, Get Pauli Ops - 4.96s, Calculate Pauli Expectation Values - 5.35s, Calculate Covariance - 2.33s\n",
      "f0,f1,f2 = [1.010530298701298e-09, 1.0105302987463649e-09, 1.0105302987502634e-09]\n",
      "d01,d02,d12 = [1.008631863533722, 1.0086318635338645, 1.0086318635367553]\n"
     ]
    },
    {
     "name": "stderr",
     "output_type": "stream",
     "text": [
      "Progress:  81%|████████  | 242/300 [57:15<13:19, 13.78s/it]"
     ]
    },
    {
     "name": "stdout",
     "output_type": "stream",
     "text": [
      "Time to: Calculate Ground State - 1.37s, Get Pauli Ops - 5.08s, Calculate Pauli Expectation Values - 5.58s, Calculate Covariance - 2.06s\n",
      "f0,f1,f2 = [1.8784907683894166e-09, 1.8784907684384117e-09, 1.878490768432396e-09]\n",
      "d01,d02,d12 = [0.9982790200676724, 0.9982790200677869, 0.9982790200703668]\n"
     ]
    },
    {
     "name": "stderr",
     "output_type": "stream",
     "text": [
      "/cluster/home/mskrabulis/miniconda3/envs/quantech/lib/python3.9/site-packages/pyscf/symm/Dmatrix.py:156: RuntimeWarning: invalid value encountered in arccos\n",
      "  gamma = numpy.arccos(yp.dot(c2[1]))\n",
      "Progress:  81%|████████  | 243/300 [57:28<12:45, 13.43s/it]"
     ]
    },
    {
     "name": "stdout",
     "output_type": "stream",
     "text": [
      "Time to: Calculate Ground State - 1.33s, Get Pauli Ops - 4.39s, Calculate Pauli Expectation Values - 4.88s, Calculate Covariance - 2.0s\n",
      "f0,f1,f2 = [1.4683205168464024e-09, 1.4683205168815868e-09, 1.4683205168895407e-09]\n",
      "d01,d02,d12 = [0.9877294096748848, 0.987729409674976, 0.9877294096772321]\n"
     ]
    },
    {
     "name": "stderr",
     "output_type": "stream",
     "text": [
      "Progress:  81%|████████▏ | 244/300 [57:41<12:25, 13.31s/it]"
     ]
    },
    {
     "name": "stdout",
     "output_type": "stream",
     "text": [
      "Time to: Calculate Ground State - 1.25s, Get Pauli Ops - 5.1s, Calculate Pauli Expectation Values - 5.04s, Calculate Covariance - 1.63s\n",
      "f0,f1,f2 = [7.539377168002845e-10, 7.539377168360309e-10, 7.539377168606998e-10]\n",
      "d01,d02,d12 = [0.9769595122342809, 0.9769595122343449, 0.976959512236249]\n"
     ]
    },
    {
     "name": "stderr",
     "output_type": "stream",
     "text": [
      "Progress:  82%|████████▏ | 245/300 [57:55<12:23, 13.52s/it]"
     ]
    },
    {
     "name": "stdout",
     "output_type": "stream",
     "text": [
      "Time to: Calculate Ground State - 0.96s, Get Pauli Ops - 5.21s, Calculate Pauli Expectation Values - 5.67s, Calculate Covariance - 2.16s\n",
      "f0,f1,f2 = [1.1452425938082566e-09, 1.1452425937782118e-09, 1.1452425937808147e-09]\n",
      "d01,d02,d12 = [0.9665981548395648, 0.9665981548396066, 0.9665981548411609]\n"
     ]
    },
    {
     "name": "stderr",
     "output_type": "stream",
     "text": [
      "Progress:  82%|████████▏ | 246/300 [58:08<12:06, 13.45s/it]"
     ]
    },
    {
     "name": "stdout",
     "output_type": "stream",
     "text": [
      "Time to: Calculate Ground State - 1.36s, Get Pauli Ops - 5.08s, Calculate Pauli Expectation Values - 4.76s, Calculate Covariance - 2.09s\n",
      "f0,f1,f2 = [3.468327414707865e-11, 3.468327418431764e-11, 3.468327417443583e-11]\n",
      "d01,d02,d12 = [0.9568014859220495, 0.9568014859220676, 0.9568014859232552]\n"
     ]
    },
    {
     "name": "stderr",
     "output_type": "stream",
     "text": [
      "/cluster/home/mskrabulis/miniconda3/envs/quantech/lib/python3.9/site-packages/pyscf/symm/Dmatrix.py:156: RuntimeWarning: invalid value encountered in arccos\n",
      "  gamma = numpy.arccos(yp.dot(c2[1]))\n",
      "Progress:  82%|████████▏ | 247/300 [58:25<12:40, 14.35s/it]"
     ]
    },
    {
     "name": "stdout",
     "output_type": "stream",
     "text": [
      "Time to: Calculate Ground State - 1.25s, Get Pauli Ops - 7.07s, Calculate Pauli Expectation Values - 5.69s, Calculate Covariance - 2.41s\n",
      "f0,f1,f2 = [1.298340116800974e-09, 1.2983401167743951e-09, 1.2983401167839909e-09]\n",
      "d01,d02,d12 = [0.9460330741874516, 0.9460330741874412, 0.9460330741882602]\n"
     ]
    },
    {
     "name": "stderr",
     "output_type": "stream",
     "text": [
      "Progress:  83%|████████▎ | 248/300 [58:38<12:15, 14.15s/it]"
     ]
    },
    {
     "name": "stdout",
     "output_type": "stream",
     "text": [
      "Time to: Calculate Ground State - 1.24s, Get Pauli Ops - 5.03s, Calculate Pauli Expectation Values - 5.14s, Calculate Covariance - 2.28s\n",
      "f0,f1,f2 = [5.755471669673456e-10, 5.755471669688597e-10, 5.755471669605141e-10]\n",
      "d01,d02,d12 = [0.932596097057759, 0.9325960970577193, 0.9325960970581613]\n"
     ]
    },
    {
     "name": "stderr",
     "output_type": "stream",
     "text": [
      "Progress:  83%|████████▎ | 249/300 [58:52<11:48, 13.89s/it]"
     ]
    },
    {
     "name": "stdout",
     "output_type": "stream",
     "text": [
      "Time to: Calculate Ground State - 0.86s, Get Pauli Ops - 4.97s, Calculate Pauli Expectation Values - 5.39s, Calculate Covariance - 2.04s\n",
      "f0,f1,f2 = [2.5680245560510874e-09, 2.5680245560504823e-09, 2.5680245560342195e-09]\n",
      "d01,d02,d12 = [0.9221612412219444, 0.9221612412218729, 0.9221612412219287]\n"
     ]
    },
    {
     "name": "stderr",
     "output_type": "stream",
     "text": [
      "Progress:  83%|████████▎ | 250/300 [59:06<11:47, 14.15s/it]"
     ]
    },
    {
     "name": "stdout",
     "output_type": "stream",
     "text": [
      "Time to: Calculate Ground State - 1.06s, Get Pauli Ops - 4.56s, Calculate Pauli Expectation Values - 6.77s, Calculate Covariance - 2.37s\n",
      "f0,f1,f2 = [4.306026888766631e-09, 4.306026888763754e-09, 4.306026888767137e-09]\n",
      "d01,d02,d12 = [0.9138903693978704, 0.9138903693977686, 0.9138903693974437]\n"
     ]
    },
    {
     "name": "stderr",
     "output_type": "stream",
     "text": [
      "Progress:  84%|████████▎ | 251/300 [59:22<11:48, 14.47s/it]"
     ]
    },
    {
     "name": "stdout",
     "output_type": "stream",
     "text": [
      "Time to: Calculate Ground State - 1.36s, Get Pauli Ops - 5.12s, Calculate Pauli Expectation Values - 6.38s, Calculate Covariance - 2.33s\n",
      "f0,f1,f2 = [4.1685768799015434e-09, 4.168576879901541e-09, 4.168576879910886e-09]\n",
      "d01,d02,d12 = [0.9083655506097199, 0.908365550609592, 0.9083655506088915]\n"
     ]
    },
    {
     "name": "stderr",
     "output_type": "stream",
     "text": [
      "Progress:  84%|████████▍ | 252/300 [59:38<11:54, 14.89s/it]"
     ]
    },
    {
     "name": "stdout",
     "output_type": "stream",
     "text": [
      "Time to: Calculate Ground State - 1.44s, Get Pauli Ops - 5.06s, Calculate Pauli Expectation Values - 7.28s, Calculate Covariance - 2.08s\n",
      "f0,f1,f2 = [4.96587889668926e-09, 4.9658788967052775e-09, 4.965878896710194e-09]\n",
      "d01,d02,d12 = [0.904340982468067, 0.9043409824679173, 0.904340982466848]\n"
     ]
    },
    {
     "name": "stderr",
     "output_type": "stream",
     "text": [
      "Progress:  84%|████████▍ | 253/300 [59:52<11:28, 14.66s/it]"
     ]
    },
    {
     "name": "stdout",
     "output_type": "stream",
     "text": [
      "Time to: Calculate Ground State - 0.76s, Get Pauli Ops - 4.89s, Calculate Pauli Expectation Values - 6.19s, Calculate Covariance - 2.27s\n",
      "f0,f1,f2 = [4.650561258409812e-09, 4.65056125843972e-09, 4.650561258432909e-09]\n",
      "d01,d02,d12 = [0.90317313363373, 0.9031731336335541, 0.9031731336321275]\n"
     ]
    },
    {
     "name": "stderr",
     "output_type": "stream",
     "text": [
      "Progress:  85%|████████▍ | 254/300 [1:00:07<11:21, 14.82s/it]"
     ]
    },
    {
     "name": "stdout",
     "output_type": "stream",
     "text": [
      "Time to: Calculate Ground State - 1.37s, Get Pauli Ops - 6.7s, Calculate Pauli Expectation Values - 5.04s, Calculate Covariance - 2.07s\n",
      "f0,f1,f2 = [3.467837214470381e-09, 3.4678372145041213e-09, 3.4678372145093185e-09]\n",
      "d01,d02,d12 = [0.9036703905434538, 0.9036703905432515, 0.9036703905414775]\n"
     ]
    },
    {
     "name": "stderr",
     "output_type": "stream",
     "text": [
      "Progress:  85%|████████▌ | 255/300 [1:00:23<11:20, 15.12s/it]"
     ]
    },
    {
     "name": "stdout",
     "output_type": "stream",
     "text": [
      "Time to: Calculate Ground State - 1.41s, Get Pauli Ops - 5.17s, Calculate Pauli Expectation Values - 7.09s, Calculate Covariance - 2.13s\n",
      "f0,f1,f2 = [4.030855208932166e-09, 4.030855208988866e-09, 4.030855208985055e-09]\n",
      "d01,d02,d12 = [0.9057915751176682, 0.9057915751174382, 0.9057915751153373]\n"
     ]
    },
    {
     "name": "stderr",
     "output_type": "stream",
     "text": [
      "Progress:  85%|████████▌ | 256/300 [1:00:36<10:42, 14.60s/it]"
     ]
    },
    {
     "name": "stdout",
     "output_type": "stream",
     "text": [
      "Time to: Calculate Ground State - 1.23s, Get Pauli Ops - 5.17s, Calculate Pauli Expectation Values - 4.87s, Calculate Covariance - 2.11s\n",
      "f0,f1,f2 = [3.389318579566346e-09, 3.3893185796069063e-09, 3.389318579615801e-09]\n",
      "d01,d02,d12 = [0.9094500200459865, 0.9094500200457318, 0.9094500200433212]\n"
     ]
    },
    {
     "name": "stderr",
     "output_type": "stream",
     "text": [
      "/cluster/home/mskrabulis/miniconda3/envs/quantech/lib/python3.9/site-packages/pyscf/symm/Dmatrix.py:156: RuntimeWarning: invalid value encountered in arccos\n",
      "  gamma = numpy.arccos(yp.dot(c2[1]))\n",
      "/cluster/home/mskrabulis/miniconda3/envs/quantech/lib/python3.9/site-packages/pyscf/symm/Dmatrix.py:156: RuntimeWarning: invalid value encountered in arccos\n",
      "  gamma = numpy.arccos(yp.dot(c2[1]))\n",
      "Progress:  86%|████████▌ | 257/300 [1:00:52<10:39, 14.88s/it]"
     ]
    },
    {
     "name": "stdout",
     "output_type": "stream",
     "text": [
      "Time to: Calculate Ground State - 1.29s, Get Pauli Ops - 6.65s, Calculate Pauli Expectation Values - 5.5s, Calculate Covariance - 2.08s\n",
      "f0,f1,f2 = [2.681450045422345e-09, 2.681450045473433e-09, 2.6814500454846143e-09]\n",
      "d01,d02,d12 = [0.9139714861424304, 0.9139714861421565, 0.9139714861394534]\n"
     ]
    },
    {
     "name": "stderr",
     "output_type": "stream",
     "text": [
      "Progress:  86%|████████▌ | 258/300 [1:01:04<09:59, 14.28s/it]"
     ]
    },
    {
     "name": "stdout",
     "output_type": "stream",
     "text": [
      "Time to: Calculate Ground State - 1.05s, Get Pauli Ops - 4.59s, Calculate Pauli Expectation Values - 4.98s, Calculate Covariance - 2.27s\n",
      "f0,f1,f2 = [2.6462987303604628e-09, 2.6462987304228826e-09, 2.646298730417137e-09]\n",
      "d01,d02,d12 = [0.9197193673522748, 0.9197193673519808, 0.9197193673490056]\n"
     ]
    },
    {
     "name": "stderr",
     "output_type": "stream",
     "text": [
      "Progress:  86%|████████▋ | 259/300 [1:01:18<09:38, 14.11s/it]"
     ]
    },
    {
     "name": "stdout",
     "output_type": "stream",
     "text": [
      "Time to: Calculate Ground State - 1.38s, Get Pauli Ops - 4.48s, Calculate Pauli Expectation Values - 5.59s, Calculate Covariance - 2.26s\n",
      "f0,f1,f2 = [3.1279253510505534e-09, 3.1279253511003646e-09, 3.1279253511000664e-09]\n",
      "d01,d02,d12 = [0.9276430188643612, 0.9276430188640454, 0.9276430188608065]\n"
     ]
    },
    {
     "name": "stderr",
     "output_type": "stream",
     "text": [
      "Progress:  87%|████████▋ | 260/300 [1:01:33<09:26, 14.17s/it]"
     ]
    },
    {
     "name": "stdout",
     "output_type": "stream",
     "text": [
      "Time to: Calculate Ground State - 1.36s, Get Pauli Ops - 5.05s, Calculate Pauli Expectation Values - 5.76s, Calculate Covariance - 2.13s\n",
      "f0,f1,f2 = [3.7650353079772e-09, 3.765035308040769e-09, 3.765035308045166e-09]\n",
      "d01,d02,d12 = [0.9386317158361079, 0.9386317158357719, 0.938631715832291]\n"
     ]
    },
    {
     "name": "stderr",
     "output_type": "stream",
     "text": [
      "/cluster/home/mskrabulis/miniconda3/envs/quantech/lib/python3.9/site-packages/pyscf/symm/Dmatrix.py:156: RuntimeWarning: invalid value encountered in arccos\n",
      "  gamma = numpy.arccos(yp.dot(c2[1]))\n",
      "Progress:  87%|████████▋ | 261/300 [1:01:50<09:53, 15.22s/it]"
     ]
    },
    {
     "name": "stdout",
     "output_type": "stream",
     "text": [
      "Time to: Calculate Ground State - 1.42s, Get Pauli Ops - 7.71s, Calculate Pauli Expectation Values - 6.96s, Calculate Covariance - 1.55s\n",
      "f0,f1,f2 = [1.939877672847918e-09, 1.9398776729261538e-09, 1.9398776729209136e-09]\n",
      "d01,d02,d12 = [0.9501063274940639, 0.9501063274937043, 0.9501063274900181]\n"
     ]
    },
    {
     "name": "stderr",
     "output_type": "stream",
     "text": [
      "Progress:  87%|████████▋ | 262/300 [1:02:05<09:31, 15.05s/it]"
     ]
    },
    {
     "name": "stdout",
     "output_type": "stream",
     "text": [
      "Time to: Calculate Ground State - 1.38s, Get Pauli Ops - 6.05s, Calculate Pauli Expectation Values - 5.12s, Calculate Covariance - 2.08s\n",
      "f0,f1,f2 = [7.007331666804876e-10, 7.007331667453398e-10, 7.007331667575049e-10]\n",
      "d01,d02,d12 = [0.961671936052063, 0.9616719360516838, 0.9616719360478241]\n"
     ]
    },
    {
     "name": "stderr",
     "output_type": "stream",
     "text": [
      "Progress:  88%|████████▊ | 263/300 [1:02:19<09:02, 14.67s/it]"
     ]
    },
    {
     "name": "stdout",
     "output_type": "stream",
     "text": [
      "Time to: Calculate Ground State - 1.07s, Get Pauli Ops - 5.55s, Calculate Pauli Expectation Values - 5.19s, Calculate Covariance - 1.98s\n",
      "f0,f1,f2 = [1.7206409683939967e-09, 1.7206409684653574e-09, 1.720640968493905e-09]\n",
      "d01,d02,d12 = [0.9738875892681323, 0.9738875892677417, 0.9738875892636935]\n"
     ]
    },
    {
     "name": "stderr",
     "output_type": "stream",
     "text": [
      "Progress:  88%|████████▊ | 264/300 [1:02:32<08:36, 14.34s/it]"
     ]
    },
    {
     "name": "stdout",
     "output_type": "stream",
     "text": [
      "Time to: Calculate Ground State - 1.36s, Get Pauli Ops - 4.89s, Calculate Pauli Expectation Values - 5.22s, Calculate Covariance - 2.11s\n",
      "f0,f1,f2 = [1.1003189493741669e-10, 1.1003189501915172e-10, 1.1003189502492636e-10]\n",
      "d01,d02,d12 = [0.9867635928344336, 0.9867635928340318, 0.9867635928298313]\n"
     ]
    },
    {
     "name": "stderr",
     "output_type": "stream",
     "text": [
      "Progress:  88%|████████▊ | 265/300 [1:02:48<08:36, 14.76s/it]"
     ]
    },
    {
     "name": "stdout",
     "output_type": "stream",
     "text": [
      "Time to: Calculate Ground State - 1.3s, Get Pauli Ops - 6.03s, Calculate Pauli Expectation Values - 6.06s, Calculate Covariance - 2.33s\n",
      "f0,f1,f2 = [8.27068844062806e-10, 8.270688441412709e-10, 8.270688441519349e-10]\n",
      "d01,d02,d12 = [0.9975290243874719, 0.997529024387062, 0.9975290243826982]\n"
     ]
    },
    {
     "name": "stderr",
     "output_type": "stream",
     "text": [
      "Progress:  89%|████████▊ | 266/300 [1:03:03<08:26, 14.91s/it]"
     ]
    },
    {
     "name": "stdout",
     "output_type": "stream",
     "text": [
      "Time to: Calculate Ground State - 1.21s, Get Pauli Ops - 4.81s, Calculate Pauli Expectation Values - 6.94s, Calculate Covariance - 2.29s\n",
      "f0,f1,f2 = [9.997836652456604e-10, 9.997836651769237e-10, 9.99783665169858e-10]\n",
      "d01,d02,d12 = [1.0078996414680539, 1.0078996414676384, 1.0078996414631507]\n"
     ]
    },
    {
     "name": "stderr",
     "output_type": "stream",
     "text": [
      "Progress:  89%|████████▉ | 267/300 [1:03:18<08:12, 14.91s/it]"
     ]
    },
    {
     "name": "stdout",
     "output_type": "stream",
     "text": [
      "Time to: Calculate Ground State - 0.84s, Get Pauli Ops - 4.76s, Calculate Pauli Expectation Values - 6.84s, Calculate Covariance - 2.46s\n",
      "f0,f1,f2 = [7.784802170484903e-10, 7.784802170004753e-10, 7.784802170015357e-10]\n",
      "d01,d02,d12 = [1.017447055856402, 1.0174470558559963, 1.0174470558514437]\n"
     ]
    },
    {
     "name": "stderr",
     "output_type": "stream",
     "text": [
      "Progress:  89%|████████▉ | 268/300 [1:03:32<07:45, 14.53s/it]"
     ]
    },
    {
     "name": "stdout",
     "output_type": "stream",
     "text": [
      "Time to: Calculate Ground State - 1.24s, Get Pauli Ops - 4.71s, Calculate Pauli Expectation Values - 5.61s, Calculate Covariance - 2.09s\n",
      "f0,f1,f2 = [3.4801434274378615e-09, 3.480143427379396e-09, 3.4801434273742828e-09]\n",
      "d01,d02,d12 = [1.025501984730858, 1.0255019847304663, 1.0255019847259144]\n"
     ]
    },
    {
     "name": "stderr",
     "output_type": "stream",
     "text": [
      "Progress:  90%|████████▉ | 269/300 [1:03:47<07:35, 14.69s/it]"
     ]
    },
    {
     "name": "stdout",
     "output_type": "stream",
     "text": [
      "Time to: Calculate Ground State - 1.13s, Get Pauli Ops - 6.44s, Calculate Pauli Expectation Values - 5.48s, Calculate Covariance - 2.01s\n",
      "f0,f1,f2 = [1.5048230747143641e-09, 1.504823074652745e-09, 1.5048230746510176e-09]\n",
      "d01,d02,d12 = [1.0333506817244646, 1.033350681724085, 1.0333506817195401]\n"
     ]
    },
    {
     "name": "stderr",
     "output_type": "stream",
     "text": [
      "Progress:  90%|█████████ | 270/300 [1:04:01<07:13, 14.46s/it]"
     ]
    },
    {
     "name": "stdout",
     "output_type": "stream",
     "text": [
      "Time to: Calculate Ground State - 0.97s, Get Pauli Ops - 4.44s, Calculate Pauli Expectation Values - 7.02s, Calculate Covariance - 1.49s\n",
      "f0,f1,f2 = [1.5784094371013113e-09, 1.5784094370511004e-09, 1.5784094370426828e-09]\n",
      "d01,d02,d12 = [1.0401180173867637, 1.040118017386402, 1.04011801738189]\n"
     ]
    },
    {
     "name": "stderr",
     "output_type": "stream",
     "text": [
      "Progress:  90%|█████████ | 271/300 [1:04:14<06:52, 14.21s/it]"
     ]
    },
    {
     "name": "stdout",
     "output_type": "stream",
     "text": [
      "Time to: Calculate Ground State - 1.06s, Get Pauli Ops - 5.11s, Calculate Pauli Expectation Values - 5.38s, Calculate Covariance - 2.08s\n",
      "f0,f1,f2 = [1.9439147027270002e-09, 1.9439147026558234e-09, 1.943914702635458e-09]\n",
      "d01,d02,d12 = [1.0452249243835812, 1.0452249243832459, 1.045224924378808]\n"
     ]
    },
    {
     "name": "stderr",
     "output_type": "stream",
     "text": [
      "/cluster/home/mskrabulis/miniconda3/envs/quantech/lib/python3.9/site-packages/pyscf/symm/Dmatrix.py:156: RuntimeWarning: invalid value encountered in arccos\n",
      "  gamma = numpy.arccos(yp.dot(c2[1]))\n",
      "Progress:  91%|█████████ | 272/300 [1:04:29<06:41, 14.33s/it]"
     ]
    },
    {
     "name": "stdout",
     "output_type": "stream",
     "text": [
      "Time to: Calculate Ground State - 1.13s, Get Pauli Ops - 4.84s, Calculate Pauli Expectation Values - 7.07s, Calculate Covariance - 1.56s\n",
      "f0,f1,f2 = [1.8211742396306493e-09, 1.821174239575665e-09, 1.8211742395759257e-09]\n",
      "d01,d02,d12 = [1.0495793536311309, 1.049579353630821, 1.0495793536264615]\n"
     ]
    },
    {
     "name": "stderr",
     "output_type": "stream",
     "text": [
      "Progress:  91%|█████████ | 273/300 [1:04:42<06:19, 14.04s/it]"
     ]
    },
    {
     "name": "stdout",
     "output_type": "stream",
     "text": [
      "Time to: Calculate Ground State - 1.37s, Get Pauli Ops - 4.64s, Calculate Pauli Expectation Values - 5.33s, Calculate Covariance - 2.02s\n",
      "f0,f1,f2 = [1.1772810755306076e-09, 1.1772810754821307e-09, 1.177281075477426e-09]\n",
      "d01,d02,d12 = [1.0545625993686008, 1.0545625993683159, 1.054562599364015]\n"
     ]
    },
    {
     "name": "stderr",
     "output_type": "stream",
     "text": [
      "Progress:  91%|█████████▏| 274/300 [1:04:58<06:17, 14.52s/it]"
     ]
    },
    {
     "name": "stdout",
     "output_type": "stream",
     "text": [
      "Time to: Calculate Ground State - 1.23s, Get Pauli Ops - 5.19s, Calculate Pauli Expectation Values - 6.7s, Calculate Covariance - 2.5s\n",
      "f0,f1,f2 = [1.0912993107468012e-09, 1.0912993106997896e-09, 1.091299310690121e-09]\n",
      "d01,d02,d12 = [1.0578782626221592, 1.0578782626218985, 1.0578782626176597]\n"
     ]
    },
    {
     "name": "stderr",
     "output_type": "stream",
     "text": [
      "Progress:  92%|█████████▏| 275/300 [1:05:14<06:11, 14.86s/it]"
     ]
    },
    {
     "name": "stdout",
     "output_type": "stream",
     "text": [
      "Time to: Calculate Ground State - 1.26s, Get Pauli Ops - 6.48s, Calculate Pauli Expectation Values - 5.75s, Calculate Covariance - 2.16s\n",
      "f0,f1,f2 = [1.611549038591748e-09, 1.6115490385291678e-09, 1.6115490385349959e-09]\n",
      "d01,d02,d12 = [1.061237601145821, 1.0612376011455853, 1.0612376011414264]\n"
     ]
    },
    {
     "name": "stderr",
     "output_type": "stream",
     "text": [
      "Progress:  92%|█████████▏| 276/300 [1:05:32<06:24, 16.03s/it]"
     ]
    },
    {
     "name": "stdout",
     "output_type": "stream",
     "text": [
      "Time to: Calculate Ground State - 1.07s, Get Pauli Ops - 7.87s, Calculate Pauli Expectation Values - 7.42s, Calculate Covariance - 2.37s\n",
      "f0,f1,f2 = [3.177941251003033e-09, 3.177941250954424e-09, 3.17794125094918e-09]\n",
      "d01,d02,d12 = [1.0633364007069042, 1.0633364007066937, 1.063336400702635]\n"
     ]
    },
    {
     "name": "stderr",
     "output_type": "stream",
     "text": [
      "Progress:  92%|█████████▏| 277/300 [1:05:45<05:47, 15.11s/it]"
     ]
    },
    {
     "name": "stdout",
     "output_type": "stream",
     "text": [
      "Time to: Calculate Ground State - 1.35s, Get Pauli Ops - 4.31s, Calculate Pauli Expectation Values - 5.06s, Calculate Covariance - 2.22s\n",
      "f0,f1,f2 = [2.7843983775483196e-09, 2.7843983775038194e-09, 2.784398377488623e-09]\n",
      "d01,d02,d12 = [1.0638368095823623, 1.06383680958218, 1.0638368095782447]\n"
     ]
    },
    {
     "name": "stderr",
     "output_type": "stream",
     "text": [
      "Progress:  93%|█████████▎| 278/300 [1:06:03<05:49, 15.91s/it]"
     ]
    },
    {
     "name": "stdout",
     "output_type": "stream",
     "text": [
      "Time to: Calculate Ground State - 1.18s, Get Pauli Ops - 7.43s, Calculate Pauli Expectation Values - 6.99s, Calculate Covariance - 2.17s\n",
      "f0,f1,f2 = [2.375577726711645e-09, 2.375577726682346e-09, 2.375577726671754e-09]\n",
      "d01,d02,d12 = [1.063339053210218, 1.0633390532100686, 1.063339053206267]\n"
     ]
    },
    {
     "name": "stderr",
     "output_type": "stream",
     "text": [
      "Progress:  93%|█████████▎| 279/300 [1:06:22<05:54, 16.88s/it]"
     ]
    },
    {
     "name": "stdout",
     "output_type": "stream",
     "text": [
      "Time to: Calculate Ground State - 1.51s, Get Pauli Ops - 8.24s, Calculate Pauli Expectation Values - 7.01s, Calculate Covariance - 2.36s\n",
      "f0,f1,f2 = [2.701856511121572e-09, 2.7018565110745064e-09, 2.7018565110770483e-09]\n",
      "d01,d02,d12 = [1.06172770320391, 1.0617277032037917, 1.0617277032001475]\n"
     ]
    },
    {
     "name": "stderr",
     "output_type": "stream",
     "text": [
      "/cluster/home/mskrabulis/miniconda3/envs/quantech/lib/python3.9/site-packages/pyscf/symm/Dmatrix.py:156: RuntimeWarning: invalid value encountered in arccos\n",
      "  gamma = numpy.arccos(yp.dot(c2[1]))\n",
      "Progress:  93%|█████████▎| 280/300 [1:06:39<05:36, 16.82s/it]"
     ]
    },
    {
     "name": "stdout",
     "output_type": "stream",
     "text": [
      "Time to: Calculate Ground State - 1.37s, Get Pauli Ops - 7.68s, Calculate Pauli Expectation Values - 5.26s, Calculate Covariance - 2.38s\n",
      "f0,f1,f2 = [2.713615736851771e-09, 2.7136157368030702e-09, 2.713615736804953e-09]\n",
      "d01,d02,d12 = [1.0590873153450757, 1.059087315344988, 1.0590873153415183]\n"
     ]
    },
    {
     "name": "stderr",
     "output_type": "stream",
     "text": [
      "Progress:  94%|█████████▎| 281/300 [1:06:55<05:15, 16.60s/it]"
     ]
    },
    {
     "name": "stdout",
     "output_type": "stream",
     "text": [
      "Time to: Calculate Ground State - 1.52s, Get Pauli Ops - 4.89s, Calculate Pauli Expectation Values - 7.52s, Calculate Covariance - 2.13s\n",
      "f0,f1,f2 = [2.4668135137327756e-09, 2.4668135137133207e-09, 2.4668135137071106e-09]\n",
      "d01,d02,d12 = [1.055673885386799, 1.055673885386746, 1.0556738853834668]\n"
     ]
    },
    {
     "name": "stderr",
     "output_type": "stream",
     "text": [
      "Progress:  94%|█████████▍| 282/300 [1:07:13<05:06, 17.03s/it]"
     ]
    },
    {
     "name": "stdout",
     "output_type": "stream",
     "text": [
      "Time to: Calculate Ground State - 1.38s, Get Pauli Ops - 5.07s, Calculate Pauli Expectation Values - 9.8s, Calculate Covariance - 1.77s\n",
      "f0,f1,f2 = [3.2484922078814986e-09, 3.248492207824373e-09, 3.248492207835597e-09]\n",
      "d01,d02,d12 = [1.0514357113963502, 1.0514357113963322, 1.05143571139326]\n"
     ]
    },
    {
     "name": "stderr",
     "output_type": "stream",
     "text": [
      "Progress:  94%|█████████▍| 283/300 [1:07:29<04:46, 16.83s/it]"
     ]
    },
    {
     "name": "stdout",
     "output_type": "stream",
     "text": [
      "Time to: Calculate Ground State - 1.4s, Get Pauli Ops - 5.89s, Calculate Pauli Expectation Values - 7.24s, Calculate Covariance - 1.83s\n",
      "f0,f1,f2 = [1.9021279876125114e-09, 1.9021279875795503e-09, 1.902127987588362e-09]\n",
      "d01,d02,d12 = [1.0462565422586283, 1.0462565422586463, 1.0462565422558023]\n"
     ]
    },
    {
     "name": "stderr",
     "output_type": "stream",
     "text": [
      "/cluster/home/mskrabulis/miniconda3/envs/quantech/lib/python3.9/site-packages/pyscf/symm/Dmatrix.py:156: RuntimeWarning: invalid value encountered in arccos\n",
      "  gamma = numpy.arccos(yp.dot(c2[1]))\n",
      "/cluster/home/mskrabulis/miniconda3/envs/quantech/lib/python3.9/site-packages/pyscf/symm/Dmatrix.py:156: RuntimeWarning: invalid value encountered in arccos\n",
      "  gamma = numpy.arccos(yp.dot(c2[1]))\n",
      "Progress:  95%|█████████▍| 284/300 [1:07:43<04:11, 15.74s/it]"
     ]
    },
    {
     "name": "stdout",
     "output_type": "stream",
     "text": [
      "Time to: Calculate Ground State - 1.27s, Get Pauli Ops - 4.53s, Calculate Pauli Expectation Values - 5.15s, Calculate Covariance - 2.22s\n",
      "f0,f1,f2 = [2.033817582468813e-09, 2.0338175824271753e-09, 2.03381758244347e-09]\n",
      "d01,d02,d12 = [1.040701271930129, 1.0407012719301838, 1.0407012719275808]\n"
     ]
    },
    {
     "name": "stderr",
     "output_type": "stream",
     "text": [
      "/cluster/home/mskrabulis/miniconda3/envs/quantech/lib/python3.9/site-packages/pyscf/symm/Dmatrix.py:156: RuntimeWarning: invalid value encountered in arccos\n",
      "  gamma = numpy.arccos(yp.dot(c2[1]))\n",
      "Progress:  95%|█████████▌| 285/300 [1:07:58<03:56, 15.76s/it]"
     ]
    },
    {
     "name": "stdout",
     "output_type": "stream",
     "text": [
      "Time to: Calculate Ground State - 1.02s, Get Pauli Ops - 7.55s, Calculate Pauli Expectation Values - 5.11s, Calculate Covariance - 2.11s\n",
      "f0,f1,f2 = [3.163958012776798e-09, 3.1639580127481433e-09, 3.1639580127566012e-09]\n",
      "d01,d02,d12 = [1.033399062017342, 1.0333990620174327, 1.0333990620150817]\n"
     ]
    },
    {
     "name": "stderr",
     "output_type": "stream",
     "text": [
      "/cluster/home/mskrabulis/miniconda3/envs/quantech/lib/python3.9/site-packages/pyscf/symm/Dmatrix.py:156: RuntimeWarning: invalid value encountered in arccos\n",
      "  gamma = numpy.arccos(yp.dot(c2[1]))\n",
      "Progress:  95%|█████████▌| 286/300 [1:08:14<03:40, 15.78s/it]"
     ]
    },
    {
     "name": "stdout",
     "output_type": "stream",
     "text": [
      "Time to: Calculate Ground State - 1.26s, Get Pauli Ops - 6.34s, Calculate Pauli Expectation Values - 5.76s, Calculate Covariance - 2.46s\n",
      "f0,f1,f2 = [2.6975375809325457e-10, 2.697537580558839e-10, 2.6975375806429653e-10]\n",
      "d01,d02,d12 = [1.026859764706486, 1.0268597647066073, 1.0268597647045]\n"
     ]
    },
    {
     "name": "stderr",
     "output_type": "stream",
     "text": [
      "Progress:  96%|█████████▌| 287/300 [1:08:30<03:23, 15.64s/it]"
     ]
    },
    {
     "name": "stdout",
     "output_type": "stream",
     "text": [
      "Time to: Calculate Ground State - 1.09s, Get Pauli Ops - 7.46s, Calculate Pauli Expectation Values - 4.99s, Calculate Covariance - 1.78s\n",
      "f0,f1,f2 = [2.6271087193926887e-09, 2.6271087193629284e-09, 2.6271087193640467e-09]\n",
      "d01,d02,d12 = [1.0196443714858932, 1.0196443714860446, 1.0196443714841965]\n"
     ]
    },
    {
     "name": "stderr",
     "output_type": "stream",
     "text": [
      "Progress:  96%|█████████▌| 288/300 [1:08:43<03:00, 15.00s/it]"
     ]
    },
    {
     "name": "stdout",
     "output_type": "stream",
     "text": [
      "Time to: Calculate Ground State - 1.06s, Get Pauli Ops - 5.17s, Calculate Pauli Expectation Values - 5.17s, Calculate Covariance - 2.11s\n",
      "f0,f1,f2 = [1.6125109075233528e-09, 1.6125109075016074e-09, 1.6125109075077887e-09]\n",
      "d01,d02,d12 = [1.0124753304522196, 1.0124753304523986, 1.0124753304508185]\n"
     ]
    },
    {
     "name": "stderr",
     "output_type": "stream",
     "text": [
      "/cluster/home/mskrabulis/miniconda3/envs/quantech/lib/python3.9/site-packages/pyscf/symm/Dmatrix.py:156: RuntimeWarning: invalid value encountered in arccos\n",
      "  gamma = numpy.arccos(yp.dot(c2[1]))\n",
      "Progress:  96%|█████████▋| 289/300 [1:08:59<02:49, 15.39s/it]"
     ]
    },
    {
     "name": "stdout",
     "output_type": "stream",
     "text": [
      "Time to: Calculate Ground State - 1.36s, Get Pauli Ops - 8.06s, Calculate Pauli Expectation Values - 4.78s, Calculate Covariance - 2.09s\n",
      "f0,f1,f2 = [4.498685019215191e-10, 4.498685019062123e-10, 4.498685018961531e-10]\n",
      "d01,d02,d12 = [1.0061217179477644, 1.0061217179479731, 1.0061217179466602]\n"
     ]
    },
    {
     "name": "stderr",
     "output_type": "stream",
     "text": [
      "Progress:  97%|█████████▋| 290/300 [1:09:13<02:29, 14.91s/it]"
     ]
    },
    {
     "name": "stdout",
     "output_type": "stream",
     "text": [
      "Time to: Calculate Ground State - 0.8s, Get Pauli Ops - 6.74s, Calculate Pauli Expectation Values - 4.89s, Calculate Covariance - 1.37s\n",
      "f0,f1,f2 = [1.907279283307951e-09, 1.9072792832733437e-09, 1.907279283288974e-09]\n",
      "d01,d02,d12 = [0.9991703984922199, 0.9991703984924596, 0.9991703984914183]\n"
     ]
    },
    {
     "name": "stderr",
     "output_type": "stream",
     "text": [
      "/cluster/home/mskrabulis/miniconda3/envs/quantech/lib/python3.9/site-packages/pyscf/symm/Dmatrix.py:156: RuntimeWarning: invalid value encountered in arccos\n",
      "  gamma = numpy.arccos(yp.dot(c2[1]))\n",
      "/cluster/home/mskrabulis/miniconda3/envs/quantech/lib/python3.9/site-packages/pyscf/symm/Dmatrix.py:156: RuntimeWarning: invalid value encountered in arccos\n",
      "  gamma = numpy.arccos(yp.dot(c2[1]))\n",
      "Progress:  97%|█████████▋| 291/300 [1:09:29<02:17, 15.28s/it]"
     ]
    },
    {
     "name": "stdout",
     "output_type": "stream",
     "text": [
      "Time to: Calculate Ground State - 1.3s, Get Pauli Ops - 6.68s, Calculate Pauli Expectation Values - 5.73s, Calculate Covariance - 2.41s\n",
      "f0,f1,f2 = [1.225388364965257e-10, 1.2253883647822007e-10, 1.225388364831648e-10]\n",
      "d01,d02,d12 = [0.9932762230967225, 0.9932762230969909, 0.9932762230962304]\n"
     ]
    },
    {
     "name": "stderr",
     "output_type": "stream",
     "text": [
      "Progress:  97%|█████████▋| 292/300 [1:09:44<02:00, 15.08s/it]"
     ]
    },
    {
     "name": "stdout",
     "output_type": "stream",
     "text": [
      "Time to: Calculate Ground State - 1.26s, Get Pauli Ops - 5.01s, Calculate Pauli Expectation Values - 6.1s, Calculate Covariance - 2.24s\n",
      "f0,f1,f2 = [8.548052703663017e-10, 8.54805270373997e-10, 8.548052703641872e-10]\n",
      "d01,d02,d12 = [0.9875459486663976, 0.9875459486666974, 0.9875459486662144]\n"
     ]
    },
    {
     "name": "stderr",
     "output_type": "stream",
     "text": [
      "/cluster/home/mskrabulis/miniconda3/envs/quantech/lib/python3.9/site-packages/pyscf/symm/Dmatrix.py:156: RuntimeWarning: invalid value encountered in arccos\n",
      "  gamma = numpy.arccos(yp.dot(c2[1]))\n",
      "Progress:  98%|█████████▊| 293/300 [1:09:59<01:45, 15.07s/it]"
     ]
    },
    {
     "name": "stdout",
     "output_type": "stream",
     "text": [
      "Time to: Calculate Ground State - 1.16s, Get Pauli Ops - 7.14s, Calculate Pauli Expectation Values - 4.92s, Calculate Covariance - 1.84s\n",
      "f0,f1,f2 = [2.9597948823899684e-12, 2.9597948677220286e-12, 2.9597948815131024e-12]\n",
      "d01,d02,d12 = [0.9822826390903252, 0.982282639090652, 0.9822826390904528]\n"
     ]
    },
    {
     "name": "stderr",
     "output_type": "stream",
     "text": [
      "/cluster/home/mskrabulis/miniconda3/envs/quantech/lib/python3.9/site-packages/pyscf/symm/Dmatrix.py:156: RuntimeWarning: invalid value encountered in arccos\n",
      "  gamma = numpy.arccos(yp.dot(c2[1]))\n",
      "Progress:  98%|█████████▊| 294/300 [1:10:11<01:25, 14.21s/it]"
     ]
    },
    {
     "name": "stdout",
     "output_type": "stream",
     "text": [
      "Time to: Calculate Ground State - 1.05s, Get Pauli Ops - 4.03s, Calculate Pauli Expectation Values - 5.21s, Calculate Covariance - 1.91s\n",
      "f0,f1,f2 = [1.4452175963165872e-09, 1.4452175963156746e-09, 1.4452175963123978e-09]\n",
      "d01,d02,d12 = [0.9774341242556742, 0.9774341242560246, 0.9774341242561091]\n"
     ]
    },
    {
     "name": "stderr",
     "output_type": "stream",
     "text": [
      "Progress:  98%|█████████▊| 295/300 [1:10:28<01:15, 15.09s/it]"
     ]
    },
    {
     "name": "stdout",
     "output_type": "stream",
     "text": [
      "Time to: Calculate Ground State - 1.28s, Get Pauli Ops - 8.01s, Calculate Pauli Expectation Values - 5.43s, Calculate Covariance - 2.39s\n",
      "f0,f1,f2 = [5.699912959235313e-10, 5.699912959146994e-10, 5.699912959215189e-10]\n",
      "d01,d02,d12 = [0.9733225659051056, 0.973322565905472, 0.9733225659058422]\n"
     ]
    },
    {
     "name": "stderr",
     "output_type": "stream",
     "text": [
      "Progress:  99%|█████████▊| 296/300 [1:10:44<01:00, 15.14s/it]"
     ]
    },
    {
     "name": "stdout",
     "output_type": "stream",
     "text": [
      "Time to: Calculate Ground State - 1.36s, Get Pauli Ops - 7.01s, Calculate Pauli Expectation Values - 4.9s, Calculate Covariance - 1.99s\n",
      "f0,f1,f2 = [9.331807042102353e-10, 9.331807042076716e-10, 9.331807042122823e-10]\n",
      "d01,d02,d12 = [0.9684509720895869, 0.9684509720899672, 0.9684509720906228]\n"
     ]
    },
    {
     "name": "stderr",
     "output_type": "stream",
     "text": [
      "Progress:  99%|█████████▉| 297/300 [1:10:57<00:44, 14.74s/it]"
     ]
    },
    {
     "name": "stdout",
     "output_type": "stream",
     "text": [
      "Time to: Calculate Ground State - 1.15s, Get Pauli Ops - 4.86s, Calculate Pauli Expectation Values - 5.6s, Calculate Covariance - 2.18s\n",
      "f0,f1,f2 = [1.50803564441422e-09, 1.50803564440658e-09, 1.5080356443867486e-09]\n",
      "d01,d02,d12 = [0.9653647740386433, 0.9653647740390323, 0.9653647740399732]\n"
     ]
    },
    {
     "name": "stderr",
     "output_type": "stream",
     "text": [
      "Progress:  99%|█████████▉| 298/300 [1:11:11<00:28, 14.39s/it]"
     ]
    },
    {
     "name": "stdout",
     "output_type": "stream",
     "text": [
      "Time to: Calculate Ground State - 0.88s, Get Pauli Ops - 5.15s, Calculate Pauli Expectation Values - 5.65s, Calculate Covariance - 1.86s\n",
      "f0,f1,f2 = [2.0294019787738972e-09, 2.0294019787643363e-09, 2.029401978759272e-09]\n",
      "d01,d02,d12 = [0.9627226002980288, 0.9627226002984239, 0.9627226002996451]\n"
     ]
    },
    {
     "name": "stderr",
     "output_type": "stream",
     "text": [
      "Progress: 100%|█████████▉| 299/300 [1:11:24<00:14, 14.02s/it]"
     ]
    },
    {
     "name": "stdout",
     "output_type": "stream",
     "text": [
      "Time to: Calculate Ground State - 1.36s, Get Pauli Ops - 4.52s, Calculate Pauli Expectation Values - 5.18s, Calculate Covariance - 2.1s\n",
      "f0,f1,f2 = [9.119611687305985e-10, 9.119611687079712e-10, 9.119611686975617e-10]\n",
      "d01,d02,d12 = [0.9605792795181327, 0.9605792795185304, 0.960579279520021]\n"
     ]
    },
    {
     "name": "stderr",
     "output_type": "stream",
     "text": [
      "Progress: 100%|██████████| 300/300 [1:11:38<00:00, 14.33s/it]"
     ]
    },
    {
     "name": "stdout",
     "output_type": "stream",
     "text": [
      "Time to: Calculate Ground State - 1.03s, Get Pauli Ops - 4.81s, Calculate Pauli Expectation Values - 6.22s, Calculate Covariance - 1.86s\n",
      "f0,f1,f2 = [2.3958042988892876e-09, 2.395804298867476e-09, 2.395804298858045e-09]\n",
      "d01,d02,d12 = [0.9592257399839534, 0.9592257399843482, 0.9592257399861017]\n"
     ]
    },
    {
     "name": "stderr",
     "output_type": "stream",
     "text": [
      "\n"
     ]
    },
    {
     "data": {
      "image/png": "[encoded data removed]",
      "text/plain": [
       "<Figure size 640x480 with 1 Axes>"
      ]
     },
     "metadata": {},
     "output_type": "display_data"
    }
   ],
   "source": [
    "from matplotlib import pyplot as plt\n",
    "(distance01,distance02,distance12,times) = main()\n",
    "\n",
    "np_distance01 = np.array(distance01)\n",
    "np_distance02 = np.array(distance02)\n",
    "np_distance12 = np.array(distance12)\n",
    "\n",
    "plt.plot(times,np_distance01[:-1],label = 'd01')\n",
    "plt.plot(times,np_distance02[:-1],label = 'd02')\n",
    "plt.plot(times,np_distance12[:-1],label = 'd12')\n",
    "\n",
    "plt.title('Distances at time t')\n",
    "plt.xlabel('Time')\n",
    "plt.ylabel('Distance')\n",
    "plt.legend()\n",
    "plt.show()"
   ]
  },
  {
   "cell_type": "code",
   "execution_count": null,
   "id": "885910be",
   "metadata": {},
   "outputs": [],
   "source": []
  }
 ],
 "metadata": {
  "kernelspec": {
   "display_name": "Python 3 (ipykernel)",
   "language": "python",
   "name": "python3"
  },
  "language_info": {
   "codemirror_mode": {
    "name": "ipython",
    "version": 3
   },
   "file_extension": ".py",
   "mimetype": "text/x-python",
   "name": "python",
   "nbconvert_exporter": "python",
   "pygments_lexer": "ipython3",
   "version": "3.9.15"
  }
 },
 "nbformat": 4,
 "nbformat_minor": 5
}
