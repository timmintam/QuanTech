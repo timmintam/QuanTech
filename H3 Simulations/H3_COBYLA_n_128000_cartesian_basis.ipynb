{
 "cells": [
  {
   "cell_type": "code",
   "execution_count": 1,
   "id": "fbc296ce",
   "metadata": {},
   "outputs": [],
   "source": [
    "import numpy as np\n",
    "import matplotlib.pyplot as plt\n",
    "\n",
    "from pyscf import ao2mo,gto, scf\n",
    "\n",
    "from typing import Tuple\n",
    "\n",
    "\n",
    "# qiskit\n",
    "from qiskit.algorithms import VQE\n",
    "from qiskit.algorithms.optimizers import COBYLA, SPSA, SLSQP, NELDER_MEAD\n",
    "from qiskit.algorithms import MinimumEigensolverResult\n",
    "\n",
    "from qiskit import IBMQ, BasicAer, Aer\n",
    "from qiskit.utils import QuantumInstance\n",
    "from qiskit.quantum_info.operators import Operator\n",
    "from qiskit.opflow import PauliExpectation, CircuitSampler, StateFn, CircuitStateFn\n",
    "from qiskit.opflow.primitive_ops import PauliOp, PauliSumOp\n",
    "from qiskit.quantum_info import Pauli, SparsePauliOp\n",
    "\n",
    "# qiskit nature\n",
    "from qiskit_nature.second_q.hamiltonians import ElectronicEnergy\n",
    "from qiskit_nature.second_q.mappers import ParityMapper, QubitConverter\n",
    "from qiskit_nature.second_q.problems import ElectronicStructureProblem\n",
    "from qiskit_nature.second_q.operators import FermionicOp\n",
    "from qiskit_nature.second_q.properties import ParticleNumber\n",
    "from qiskit_nature.second_q.transformers import FreezeCoreTransformer\n",
    "from qiskit_nature.second_q.circuit.library import UCCSD, HartreeFock\n",
    "from qiskit_nature.second_q.problems import ElectronicBasis\n",
    "from qiskit_nature.second_q.formats.molecule_info import MoleculeInfo\n",
    "from qiskit_nature.drivers import Molecule\n",
    "from qiskit_nature.drivers.second_quantization import (\n",
    "    ElectronicStructureMoleculeDriver, ElectronicStructureDriverType)\n",
    "\n",
    "from qiskit_nature.settings import settings\n",
    "settings.dict_aux_operators = True\n",
    "\n",
    "#from qiskit import IBMQ\n",
    "#from qiskit_nature.runtime import VQEClient\n",
    "#from qiskit.providers.ibmq import least_busy\n",
    "#from qiskit_ibm_runtime import QiskitRuntimeService, Estimator, Session\n",
    "\n",
    "# useful??\n",
    "#from qiskit_nature.algorithms import (GroundStateEigensolver,\n",
    "#                                      NumPyMinimumEigensolverFactory)\n",
    "from qiskit.circuit.library import EfficientSU2\n",
    "from qiskit.circuit.library import RealAmplitudes\n",
    "from qiskit.utils.mitigation import CompleteMeasFitter\n",
    "from qiskit.providers.aer.noise import NoiseModel\n",
    "from qiskit.providers.aer import QasmSimulator\n",
    "from qiskit import QuantumCircuit, transpile\n",
    "from qiskit.opflow import TwoQubitReduction\n",
    "\n",
    "def get_molecular_integrals(molecule):\n",
    "    '''\n",
    "    Calculates the 1-electron and 2-electron integrals.\n",
    "    \n",
    "    Args:   \n",
    "        molecule : Mole \n",
    "            Ccorresponds to the molecule.\n",
    "            \n",
    "    Returns:\n",
    "        h1_MO : ndarray\n",
    "                Tensor corresponding to the 1-electron integral in the molecular basis.\n",
    "        \n",
    "        h2_MO : ndarray\n",
    "                Tensor corresponding to the 2-electron integral in the molecular basis.\n",
    "\n",
    "        n_particles: Tuple[int, int]\n",
    "            Number of alpha and beta electrons.\n",
    "        \n",
    "        num_orb : int \n",
    "            Number of orbitals.\n",
    "\n",
    "        nuclear_repulsion_energy : float\n",
    "            Nuclear repulsion energy.\n",
    "    '''\n",
    "    \n",
    "    mf = scf.RHF(molecule).run()\n",
    "\n",
    "    # computing the 1e and 2e AO (atomic orbitals) integrals \n",
    "    h1 = molecule.intor_symmetric(\"int1e_nuc\") + molecule.intor_symmetric(\"int1e_kin\") \n",
    "    h2 = molecule.intor(\"int2e\")\n",
    "    # comment : add aosym (axis of symmetry) ???\n",
    "\n",
    "    # transformations from AO to MO (molecular orbitals)\n",
    "    h1_MO = np.einsum('pi,pq,qj->ij', mf.mo_coeff, h1, mf.mo_coeff)\n",
    "    h2_MO = ao2mo.get_mo_eri(h2, mf.mo_coeff)\n",
    "\n",
    "    #h2_MO = ao2mo.kernel(mol_h2, mf.mo_coeff, aosym=\"1\") #alternative\n",
    "\n",
    "    nuclear_repulsion_energy=molecule.energy_nuc()\n",
    "    num_particles = molecule.nelec\n",
    "    num_orb = h1.shape[0]\n",
    "\n",
    "    return h1_MO, h2_MO, num_particles, num_orb, nuclear_repulsion_energy\n",
    "\n",
    "\n",
    "def get_qubit_op(coordinates):\n",
    "    '''\n",
    "    Calculates the Hamiltonian as the sum of Pauli operators as a function\n",
    "    of the coordinates of the atoms.\n",
    "    \n",
    "    Args:\n",
    "        coordinates : ndarray\n",
    "            Array containing the positions of the atoms constituing the molecule.\n",
    "        \n",
    "    \n",
    "    Returns:\n",
    "        qubit_op : PauliSumOp\n",
    "            Sum of Pauli operators corresponding to the Hamiltonian.\n",
    "        \n",
    "        nelec : Tuple[int, int]\n",
    "            Number of alpha and beta electrons.\n",
    "        \n",
    "        norb : int \n",
    "            Number of orbitals.\n",
    "            \n",
    "        problem : ElectronicStructureProblem\n",
    "        \n",
    "        converter : QubitConverter\n",
    "    '''\n",
    "    \n",
    "    mol = gto.M(\n",
    "                atom = [['H',(coordinates[0], coordinates[1], 0.0)], \n",
    "                        ['H',(coordinates[2], coordinates[3], 0.0)],\n",
    "                        ['H',(coordinates[4], coordinates[5], 0.0)]],\n",
    "                basis = 'sto3g',\n",
    "                charge = 1,\n",
    "                spin = 0,\n",
    "                symmetry = True,\n",
    "                verbose = 2 # control the print level of PySCF globally\n",
    "    )\n",
    "\n",
    "    h1_MO,h2_MO,nelec,norb,ecore = get_molecular_integrals(mol)\n",
    "\n",
    "    # Define an ElectronicEnergy instance containing the 1e and 2e integrals\n",
    "    electronic_energy = ElectronicEnergy.from_raw_integrals(\n",
    "            h1_MO, ao2mo.restore(1, h2_MO, norb)\n",
    "        )\n",
    "    electronic_energy.nuclear_repulsion_energy = ecore\n",
    "\n",
    "    # Define an ElectronicStructureProblem\n",
    "    problem = ElectronicStructureProblem(electronic_energy)\n",
    "\n",
    "    second_q_ops = problem.second_q_ops()     # get second quantized operators\n",
    "    problem.num_spatial_orbitals = norb  # define number of orbitals\n",
    "    problem.num_particles = nelec        # define number of particles \n",
    "    \n",
    "    problem.basis = ElectronicBasis.MO \n",
    "    \n",
    "    problem.molecule=MoleculeInfo(symbols=[mol.atom_symbol(i) for i in range(mol.nbas)], \n",
    "                                  coords=mol.atom_coords())\n",
    "    FC_transformer=FreezeCoreTransformer(freeze_core=True)\n",
    "    problem = FC_transformer.transform(problem)\n",
    "    \n",
    "    # TODO we need to give info about the molecule to use FreezeCoreTransformer \n",
    "    # question : how to do it in a smart way ? at the initialization ??\n",
    "    \n",
    "    hamiltonian = second_q_ops[0]  # Set electronic part of Hamiltonian\n",
    "    hamiltonian = (hamiltonian + FermionicOp({\"\": ecore}, num_spin_orbitals=norb)) # add Nuclear Repulsion Energy\n",
    "    #print(\"Hamiltonian :\\n\", hamiltonian) # print for checking purposes\n",
    "    \n",
    "    mapper = ParityMapper()  # Set Mapper\n",
    "    \n",
    "    # Do two qubit reduction\n",
    "    converter = QubitConverter(mapper,two_qubit_reduction=True)\n",
    "    qubit_op = converter.convert(hamiltonian, nelec)\n",
    "    #print(\"q_op :\\n\", qubit_op) # print for checking purposes\n",
    "    \n",
    "\n",
    "    return qubit_op, nelec, norb, problem, converter\n",
    "\n",
    "def calc_ground_state(qubit_op,nelec,norb,problem,converter) :\n",
    "    '''\n",
    "    Calculates the ground state and the ground energy of the Hamiltonian.\n",
    "    \n",
    "    Args:\n",
    "        qubit_op : PauliSumOp\n",
    "            Sum of Pauli operators corresponding to the Hamiltonian.\n",
    "        \n",
    "        nelec : Tuple[int, int]\n",
    "            Number of alpha and beta electrons.\n",
    "        \n",
    "        norb : int \n",
    "            Number of orbitals.\n",
    "            \n",
    "        problem : ElectronicStructureProblem\n",
    "        \n",
    "        converter : QubitConverter\n",
    "        \n",
    "    \n",
    "    Returns:\n",
    "        ground_state : CircuitStateFn\n",
    "            Ground state of the Hamiltonian.\n",
    "            \n",
    "        min_eng : float\n",
    "            Ground energy of the Hamiltonian.\n",
    "    '''\n",
    "\n",
    "    backend = BasicAer.get_backend(\"statevector_simulator\")\n",
    "    quantum_instance = QuantumInstance(backend)\n",
    "    optimizer = SLSQP(maxiter=400)\n",
    "\n",
    "    init_state = HartreeFock(num_spatial_orbitals=norb, \n",
    "                                num_particles=nelec, \n",
    "                                qubit_converter=converter\n",
    "                            )\n",
    "    \n",
    "    var_form = UCCSD(qubit_converter=converter,\n",
    "                        num_particles=nelec,\n",
    "                        num_spatial_orbitals=norb, \n",
    "                        initial_state=init_state\n",
    "                        )\n",
    "\n",
    "    vqe = VQE(var_form, optimizer, quantum_instance=quantum_instance) \n",
    "    vqe_result = vqe.compute_minimum_eigenvalue(qubit_op)\n",
    "    min_eng = vqe_result.eigenvalue.real\n",
    "    final_params = vqe_result.optimal_parameters \n",
    "\n",
    "    vqe_ground = vqe.ansatz.bind_parameters(final_params) \n",
    "#     vqe_ground_state = CircuitStateFn(vqe_ground)\n",
    "    \n",
    "    return vqe_ground, min_eng"
   ]
  },
  {
   "cell_type": "code",
   "execution_count": 2,
   "id": "3f5daa79",
   "metadata": {},
   "outputs": [],
   "source": [
    "Ha = 4.36e-18\n",
    "angst = 1.0e-10\n",
    "dR = 0.01 #removed the angst, since coordinates are given in angst\n",
    "\n",
    "\n",
    "from qiskit.opflow import I, X, Y, Z\n",
    "from qiskit.opflow.primitive_ops import PauliOp\n",
    "from qiskit.quantum_info import Pauli\n",
    "#from hamiltonian import calc_ground_state, get_qubit_op\n",
    "import numpy as np\n",
    "from qiskit.utils import QuantumInstance\n",
    "from qiskit.opflow import PauliExpectation, CircuitSampler, StateFn, CircuitStateFn\n",
    "from qiskit import IBMQ, BasicAer, Aer\n",
    "\n",
    "import time #to see which part of code takes the longest\n",
    "import multiprocessing\n",
    "\n",
    "\n",
    "#calculate centre of mass (currently for equal particle masses)\n",
    "def calc_COM(coordinates):\n",
    "    #print(coordinates)\n",
    "    r_array = np.array_split(coordinates,3)\n",
    "    COM = (r_array[0] + r_array[1] + r_array[2])/3\n",
    "    \n",
    "    return COM\n",
    "\n",
    "#task to calculate expectation value\n",
    "def task1(string, q_instance, psi_0):\n",
    "\n",
    "    Obs = PauliOp(Pauli(string))\n",
    "    measurable_expression = StateFn(Obs, is_measurement=True).compose(psi_0)\n",
    "    expectation = PauliExpectation().convert(measurable_expression)  \n",
    "    sampler = CircuitSampler(q_instance).convert(expectation) \n",
    "    E = sampler.eval().real\n",
    "        \n",
    "    return E\n",
    "\n",
    "#task to calculate operator from coordinates\n",
    "def task2(coordinates):\n",
    "    \n",
    "    #get qubit operators coresponding to H+ (hamiltonian for atomic distances R + dR)\n",
    "    (qubit_op_plus, num_part_plus, num_orb_plus, problem_plus, converter_plus) = get_qubit_op(coordinates[0])\n",
    "    #get qubit operators coresponding to H- (hamiltonian for atomic distances R - dR)\n",
    "    (qubit_op_minus, num_part_minus, num_orb_minus, problem_minus, converter_minus) = get_qubit_op(coordinates[1])\n",
    "        \n",
    "    qubit_op_plus = qubit_op_plus #TODO:number of I's needs to be changed according to number of qubits\n",
    "    qubit_op_minus = qubit_op_minus\n",
    "       \n",
    "    #op =  (-(qubit_op_plus - qubit_op_minus)).reduce()\n",
    "    op =  -(qubit_op_plus - qubit_op_minus)\n",
    "\n",
    "                    \n",
    "    op_list = op.primitive.to_list() #list containing Pauli operators in support and corresponding coeffs\n",
    "    #print(op_list)    \n",
    "    #construct dict from list\n",
    "    op_dict = {}\n",
    "    for (PauliString,coeff) in op_list:\n",
    "\n",
    "        if PauliString in op_dict:\n",
    "            op_dict[PauliString] += coeff\n",
    "        else:\n",
    "            op_dict[PauliString] = coeff\n",
    "    \n",
    "    return op, op_dict\n",
    " \n",
    "def parallel_operators(coordinates,basis_set):\n",
    "    \n",
    "    \n",
    "    coordinate_list = []\n",
    "    \n",
    "    v0_normed = basis_set[0]\n",
    "    v0_orth = basis_set[1]\n",
    "    \n",
    "    v1_normed = basis_set[2]\n",
    "    v1_orth = basis_set[3]\n",
    "\n",
    "    v2_normed = basis_set[4]\n",
    "    v2_orth = basis_set[5]\n",
    "    \n",
    "    displ_coords_0_a = np.array([v0_normed[0]*dR,v0_normed[1]*dR,0,0,0,0])\n",
    "    displ_coords_0_b = np.array([v0_orth[0]*dR,v0_orth[1]*dR,0,0,0,0])\n",
    "    displ_coords_1_a = np.array([0,0,v1_normed[0]*dR,v1_normed[1]*dR,0,0])\n",
    "    displ_coords_1_b = np.array([0,0,v1_orth[0]*dR,v1_orth[1]*dR,0,0])\n",
    "    displ_coords_2_a = np.array([0,0,0,0,v2_normed[0]*dR,v2_normed[1]*dR])\n",
    "    displ_coords_2_b = np.array([0,0,0,0,v2_orth[0]*dR,v2_orth[1]*dR])\n",
    "    #print(displ_coords_0_a)\n",
    "    #print(displ_coords_0_b)\n",
    "    #print(displ_coords_1_a)\n",
    "    #print(displ_coords_1_b)\n",
    "    #print(displ_coords_2_a)\n",
    "    #print(displ_coords_2_b)\n",
    "\n",
    "    coordinate_list.append([coordinates + displ_coords_0_a,coordinates - displ_coords_0_a])\n",
    "    coordinate_list.append([coordinates + displ_coords_0_b,coordinates - displ_coords_0_b])\n",
    "    coordinate_list.append([coordinates + displ_coords_1_a,coordinates - displ_coords_1_a])\n",
    "    coordinate_list.append([coordinates + displ_coords_1_b,coordinates - displ_coords_1_b])\n",
    "    coordinate_list.append([coordinates + displ_coords_2_a,coordinates - displ_coords_2_a])\n",
    "    coordinate_list.append([coordinates + displ_coords_2_b,coordinates - displ_coords_2_b])\n",
    "    \n",
    "    #dR_list = v0_normed.tolist() + v1_normed.tolist() + v2_normed.tolist()\n",
    "    \n",
    "    dR_list = [dR,dR,dR,dR,dR,dR]\n",
    "    #print(dR_list)\n",
    "    #for i in range(len(coordinates)):\n",
    "        \n",
    "        #coordinate_list.append([coordinates[0:i]+[(coordinates[i]+dR_list[i])]+coordinates[i+1:],coordinates[0:i]+[(coordinates[i]-dR_list[i])]+coordinates[i+1:]])\n",
    "    \n",
    "    #print(coordinate_list)\n",
    "    with multiprocessing.Pool() as pool:\n",
    "         ops,op_coeffs = zip(*pool.map(task2, coordinate_list))\n",
    "    \n",
    "    #print(ops)\n",
    "    return ops, op_coeffs\n",
    "\n",
    "def sequential_operators(coordinates):\n",
    "    ops = []\n",
    "    op_coeffs = []\n",
    "    \n",
    "    for i in range(len(coordinates)):\n",
    "        \n",
    "        #get qubit operators coresponding to H+ (hamiltonian for atomic distances R + dR)\n",
    "        (qubit_op_plus, num_part_plus, num_orb_plus, problem_plus, converter_plus) = get_qubit_op(coordinates[0:i]+[(coordinates[i]+dR)]+coordinates[i+1:])\n",
    "        #get qubit operators coresponding to H- (hamiltonian for atomic distances R - dR)\n",
    "        (qubit_op_minus, num_part_minus, num_orb_minus, problem_minus, converter_minus) = get_qubit_op(coordinates[0:i]+[(coordinates[i]-dR)]+coordinates[i+1:])\n",
    "\n",
    "        rep_eng_plus = problem_plus.grouped_property_transformed.get_property(\"ElectronicEnergy\").nuclear_repulsion_energy\n",
    "        rep_eng_minus  = problem_minus.grouped_property_transformed.get_property(\"ElectronicEnergy\").nuclear_repulsion_energy\n",
    "        \n",
    "        qubit_op_plus = qubit_op_plus + rep_eng_plus*(I^I^I^I) #TODO:number of I's needs to be changed according to number of qubits\n",
    "        qubit_op_minus = qubit_op_minus + rep_eng_minus*(I^I^I^I)\n",
    "        \n",
    "       \n",
    "        op =  -(qubit_op_plus - qubit_op_minus).reduce()\n",
    "                    \n",
    "        op_list = op.primitive.to_list() #list containing Pauli operators in support and corresponding coeffs\n",
    "        \n",
    "        #construct dict from list\n",
    "        op_dict = {}\n",
    "        for (PauliString,coeff) in op_list:\n",
    "\n",
    "            if PauliString in op_dict:\n",
    "                op_dict[PauliString] += coeff\n",
    "            else:\n",
    "                op_dict[PauliString] = coeff\n",
    "                \n",
    "        ops.append(op)\n",
    "        op_coeffs.append(op_dict)\n",
    "    #print(ops)\n",
    "    return ops, op_coeffs\n",
    "\n",
    "def parallel_expectations(exp_dict, op_set, q_instance, psi_0):\n",
    "\n",
    "    triples = []\n",
    "    for op in op_set:\n",
    "        triple = (op,q_instance,psi_0)\n",
    "        triples.append(triple)\n",
    "\n",
    "    Es = 0\n",
    "    with multiprocessing.Pool() as pool:\n",
    "        Es = pool.starmap(task1, triples)\n",
    "\n",
    "    for i in range(len(Es)):\n",
    "        exp_dict[triples[i][0]]=Es[i]\n",
    "\n",
    "    return 0\n",
    "\n",
    "def sequential_expectations(exp_dict, op_set, q_instance, psi_0):\n",
    "\n",
    "    for pauli_string in op_set:\n",
    "        \n",
    "        Obs = PauliOp(Pauli(pauli_string))\n",
    "        measurable_expression = StateFn(Obs, is_measurement=True).compose(psi_0)\n",
    "        expectation = PauliExpectation().convert(measurable_expression)  \n",
    "        sampler = CircuitSampler(q_instance).convert(expectation) \n",
    "        E = sampler.eval().real\n",
    "        exp_dict[pauli_string] = E\n",
    "\n",
    "    return 0\n",
    "\n",
    "def get_psi_0(coordinates, simulator='qasm',shots=1028):\n",
    "\n",
    "    #get qubit operator corresponding to H(R)\n",
    "    (qubit_op, num_part, num_orb, problem, converter) = get_qubit_op(coordinates)\n",
    "    \n",
    "    #get the ground state of H(R)\n",
    "    psi_0,_ = calc_ground_state(qubit_op,num_part, num_orb, problem, converter)\n",
    "    \n",
    "    psi_0 = CircuitStateFn(psi_0)\n",
    "\n",
    "    return psi_0\n",
    "\n",
    "def calc_force_and_cov(coordinates, simulator = 'qasm', PauliSet = None, mode = 'full', shots = 128, basis_set_this=None):\n",
    "  \n",
    "    \n",
    "    if simulator == 'qasm':\n",
    "            backend = Aer.get_backend('qasm_simulator')\n",
    "            #backend.set_options(max_job_size=1, executor = euler_client)\n",
    "            q_instance = QuantumInstance(backend, shots=shots)\n",
    "    elif simulator == \"exact\":\n",
    "            backend = BasicAer.get_backend(\"statevector_simulator\")\n",
    "            q_instance = QuantumInstance(backend)\n",
    "    else:\n",
    "        print('Error: simulator should be qasm or exact!')\n",
    "        \n",
    "    num_coord = len(coordinates)   \n",
    "    \n",
    "    start = time.time()\n",
    "    \n",
    "\n",
    "    psi_0 = get_psi_0(coordinates, simulator = simulator, shots=shots)\n",
    "    \n",
    "    end = time.time()\n",
    "    \n",
    "    \n",
    "    time_psi_0 = end - start\n",
    "    #print(\"Took \" + str(time_psi_0) + \" s to calculate the ground state\")\n",
    "    forces = np.zeros(num_coord)\n",
    "    coordinates = coordinates.tolist()\n",
    "    \n",
    "    \n",
    "    coordinates_this = np.array(coordinates)\n",
    "    COM = calc_COM(coordinates_this)\n",
    "    coords = np.array_split(coordinates_this,3)\n",
    "    #print(coords)\n",
    "    #print(COM)\n",
    "    v0 = coords[0] - COM\n",
    "    v1 = coords[1] - COM\n",
    "    v2 = coords[2] - COM\n",
    "    \n",
    "    v0_normed = np.array(v0/np.sqrt(v0[0]**2+v0[1]**2))\n",
    "    v0_orth = np.array([v0_normed[1],-v0_normed[0]])\n",
    "    \n",
    "    v1_normed = np.array(v1/np.sqrt(v1[0]**2+v1[1]**2))\n",
    "    v1_orth = np.array([v1_normed[1],-v1_normed[0]])\n",
    "\n",
    "    v2_normed = np.array(v2/np.sqrt(v2[0]**2+v2[1]**2))\n",
    "    v2_orth = np.array([v2_normed[1],-v2_normed[0]])\n",
    "    \n",
    "    #rotated basis\n",
    "    basis_set = [v0_normed,v0_orth,v1_normed,v1_orth,v2_normed,v2_orth]\n",
    "    \n",
    "    #cartesian basis\n",
    "    basis_set = [[1,0],[0,1],[1,0],[0,1],[1,0],[0,1]]\n",
    "    \n",
    "    #basis_set = basis_set_this\n",
    "\n",
    "    #transform_matrix = np.array([[basis_set[0][0],basis_set[1][0],0,0,0,0],\n",
    "    #                             [basis_set[0][1],basis_set[1][1],0,0,0,0],\n",
    "    #                             [0,0,basis_set[2][0],basis_set[3][0],0,0],\n",
    "    #                             [0,0,basis_set[2][1],basis_set[3][1],0,0],\n",
    "    #                             [0,0,0,0,basis_set[4][0],basis_set[5][0]],\n",
    "    #                             [0,0,0,0,basis_set[4][1],basis_set[5][1]]])\n",
    "    \n",
    "    #transform_matrix_inv = np.linalg.inv(transform_matrix)\n",
    "    \n",
    "    start = time.time()\n",
    "    #get force component operators and decomposition (without the 1/(2*dR) factor, for numerical reasons)\n",
    "    #replace parallel_ with sequential_ to see effect of parallelization\n",
    "    force_ops,force_op_coeffs = parallel_operators(coordinates,basis_set)\n",
    "    \n",
    "    #for ops in force_ops:\n",
    "        #print(len(ops))\n",
    "        \n",
    "    P1 = force_ops[0]\n",
    "    \n",
    "    if PauliSet == None:\n",
    "        \n",
    "        pauli_op_set = {'IIII'} #Could not initialize empty set for some reason\n",
    "        # construct set of PauliOp products that we need to calculate\n",
    "\n",
    "        for PauliString,coeff in force_op_coeffs[0].items():\n",
    "            pauli_op_set.add(PauliString)\n",
    "\n",
    "        #to get set of necessary PauliOp products:\n",
    "        \n",
    "            P_prod = (P1@P1)\n",
    "            P_list = P_prod.primitive.to_list()\n",
    "\n",
    "            for (PauliString,coeff) in P_list:\n",
    "                pauli_op_set.add(PauliString)\n",
    "                \n",
    "    else: pauli_op_set = PauliSet\n",
    "        \n",
    "    end = time.time()\n",
    "    \n",
    "    time_pauli_ops = end - start\n",
    "        \n",
    "\n",
    "        # Now we calculate the expectation values of all the relevant PauliOps\n",
    "    \n",
    "    start = time.time()\n",
    "    exp_dict = {} # dictionary with relevant expectation values\n",
    "        \n",
    "    #switch between parallel_ and sequential_ to see the effect\n",
    "    \n",
    "    parallel_expectations(exp_dict,pauli_op_set,q_instance,psi_0)\n",
    "    \n",
    "\n",
    "    for i in range(len(coordinates)):\n",
    "        for pauli_op,coeff in force_op_coeffs[i].items():\n",
    "            forces[i] += coeff.real*exp_dict[pauli_op]\n",
    "    \n",
    "    #forces[1] = 0\n",
    "    #forces[3] = 0\n",
    "    #forces[5] = 0\n",
    "    #forces_return = np.matmul(transform_matrix,np.array(forces))\n",
    "    forces_return = forces\n",
    "    #print(forces)\n",
    "            \n",
    "    end = time.time()   \n",
    "    time_calc_exp = end - start\n",
    "    \n",
    "    \n",
    "    start = time.time()\n",
    "    COV = np.zeros((num_coord,num_coord)) #force covariance matrix, without some multiplicative factors. \n",
    "        \n",
    "    for i in range(num_coord):\n",
    "        for j in range(i,num_coord):\n",
    "\n",
    "            Pij = force_ops[i]@force_ops[j]\n",
    "            Pij_list = Pij.primitive.to_list()\n",
    "\n",
    "            #add product expectation \n",
    "            for (pauli_string,coeff) in Pij_list:\n",
    "                COV[i,j] += coeff.real*exp_dict[pauli_string]\n",
    "                    #subtract \n",
    "            COV[i,j] -= forces[i]*forces[j]\n",
    "\n",
    "            #since COV is symmetric\n",
    "            #if (i,j) != (0,0) and (i,j) != (2,2) and (i,j) != (4,4) and (i,j) != (0,2) and (i,j) != (0,4) and (i,j) != (2,0) and (i,j) != (2,4) and (i,j) != (4,0) and (i,j) != (4,2):\n",
    "                #print(\"here\")\n",
    "                #print((i,j))\n",
    "             #   COV[i,j] = 0\n",
    "            \n",
    "            if i < j:\n",
    "                COV[j,i] = COV[i,j]\n",
    "            \n",
    "            \n",
    "                \n",
    "    #print(COV)            \n",
    "    end = time.time()\n",
    "    #COV_1 = np.matmul(COV,transform_matrix)\n",
    "    #COV_2 = np.matmul(transform_matrix_inv,COV_1)\n",
    "    #COV_return = COV_2\n",
    "    COV_return = COV\n",
    "    time_cov = end - start\n",
    "\n",
    "    print(f'Time to: Calculate Ground State - {round(time_psi_0,2)}s, Get Pauli Ops - {round(time_pauli_ops,2)}s, Calculate Pauli Expectation Values - {round(time_calc_exp,2)}s, Calculate Covariance - {round(time_cov,2)}s')\n",
    "    #print(COV)\n",
    "    \n",
    "    return forces_return*Ha*(1/(2*dR*angst)),COV_return*(Ha*(1/(2*dR*angst)))**2"
   ]
  },
  {
   "cell_type": "code",
   "execution_count": 3,
   "id": "5ae5fde0",
   "metadata": {},
   "outputs": [],
   "source": [
    "#from Quantech.verlet_integrator import distance\n",
    "#from force import calc_force_and_cov\n",
    "import numpy as np\n",
    "from tqdm import tqdm #to show progress\n",
    "\n",
    "\n",
    "#implementation of the explicit Euler integrator\n",
    "femto = 1.0e-15\n",
    "angst = 1.0e-10\n",
    "\n",
    "def calc_COM(coordinates):\n",
    "    #print(coordinates)\n",
    "    r_array = np.array_split(coordinates,3)\n",
    "    COM = (r_array[0] + r_array[1] + r_array[2])/3\n",
    "    \n",
    "    return COM\n",
    "\n",
    "def distance(coordinates1,coordinates2):\n",
    "    return np.sqrt(np.power((coordinates1[0] - coordinates2[0]),2) + np.power((coordinates1[1] - coordinates2[1]),2))\n",
    "    \n",
    "\n",
    "\n",
    "def main():\n",
    "    \n",
    "    f = open(\"h3_cartesian_basis_n_128000_compare_raw.txt\",\"w\")\n",
    "    \n",
    "    #mass of particle1 (H)\n",
    "    mass_0 = 1.67e-27\n",
    "    #mass of particle2 (H)\n",
    "    mass_1 = 1.67e-27\n",
    "    #mass of particle3 (H)\n",
    "    mass_2 = 1.67e-27\n",
    "    #time step of integrator\n",
    "    dt = 0.2*femto\n",
    "    #initial velocity of atoms\n",
    "    \n",
    "    v_init_0 = np.array([0,0])\n",
    "    v_init_1 = np.array([0,0])\n",
    "    v_init_2 = np.array([0,0])\n",
    "\n",
    "    v_init = np.concatenate((v_init_0,v_init_1,v_init_2),axis=None)\n",
    "\n",
    "    #distances between atoms\n",
    "    d = 0.8\n",
    "    #rotation angle of the initial triangle\n",
    "    b = 0/180*np.pi\n",
    "    \n",
    "    #initial positions of atoms, arrangement = equilateral triangle\n",
    "    x1_init = np.array([-d/2*np.cos(b)+np.sin(b)*np.sqrt(3)/6*d,-d/2*np.sin(b)-np.cos(b)*np.sqrt(3)/6*d])+np.array([0,d*np.sqrt(3)/6])\n",
    "    x2_init = np.array([d/2*np.cos(b)+np.sin(b)*np.sqrt(3)/6*d,d/2*np.sin(b)-np.cos(b)*np.sqrt(3)/6*d])+np.array([0,d*np.sqrt(3)/6])\n",
    "    x3_init = np.array([-np.sin(b)*np.sqrt(3)/3*d,np.cos(b)*np.sqrt(3)/3*d])+np.array([0,d*np.sqrt(3)/6])\n",
    "    \n",
    "    \n",
    "    init_pos0 = x1_init\n",
    "    init_pos1 = x2_init\n",
    "    init_pos2 = x3_init\n",
    "    \n",
    "    #print(distance(init_pos0,init_pos1))\n",
    "    #print(distance(init_pos0,init_pos2))\n",
    "    #print(distance(init_pos1,init_pos2))\n",
    "    \n",
    "    init_pos = np.concatenate((init_pos0,init_pos1,init_pos2),axis=None)\n",
    "\n",
    "    #integrator timesteps\n",
    "    timeB = 0\n",
    "    timeE = 60\n",
    "    times = np.arange(timeB*femto, timeE*femto, dt)\n",
    "    #print(times)\n",
    "    #coordinate array\n",
    "    coords = [init_pos]\n",
    "    force = []\n",
    "    distance01 = [d]\n",
    "    distance02 = [d]\n",
    "    distance12 = [d]\n",
    "    #temperature in ?? \n",
    "    #k_B*T in Joule\n",
    "    k_b = 1.38065e-23\n",
    "    T = 420\n",
    "    k_T = k_b*T\n",
    "        #delta factor\n",
    "    delta = 0.05*dt\n",
    "    #hold v_next\n",
    "    v_next = None\n",
    "    \n",
    "    simulator = 'qasm'\n",
    "    COM = calc_COM(init_pos)\n",
    "    coords_loc = np.array_split(init_pos,3)\n",
    "    forces_array = []\n",
    "    velocities_array = []\n",
    "    velocities_array.append(v_init.tolist())\n",
    "    coords_array = []\n",
    "    coords_array.append(init_pos.tolist())\n",
    "    \n",
    "    #print(coords)\n",
    "    #print(COM)\n",
    "    #v0 = coords_loc[0] - COM\n",
    "    #v1 = coords_loc[1] - COM\n",
    "    #v2 = coords_loc[2] - COM\n",
    "    \n",
    "    #v0_normed = np.array(v0/np.sqrt(v0[0]**2+v0[1]**2))\n",
    "    #v0_orth = np.array([v0_normed[1],-v0_normed[0]])\n",
    "    \n",
    "    #v1_normed = np.array(v1/np.sqrt(v1[0]**2+v1[1]**2))\n",
    "    #v1_orth = np.array([v1_normed[1],-v1_normed[0]])\n",
    "\n",
    "    #v2_normed = np.array(v2/np.sqrt(v2[0]**2+v2[1]**2))\n",
    "    #v2_orth = np.array([v2_normed[1],-v2_normed[0]])\n",
    "    \n",
    "    #basis_set = [v0_normed,v0_orth,v1_normed,v1_orth,v2_normed,v2_orth]\n",
    "    basis_set = [0,0,0,0,0,0]\n",
    "    \n",
    "    for time in tqdm(times, desc='Progress: '):\n",
    "        \n",
    "        r = coords[-1]\n",
    "        #print(r)\n",
    "        \n",
    "        (forces,COV) = calc_force_and_cov(r, simulator = simulator, shots = 128000, basis_set_this=basis_set)\n",
    "        \n",
    "        forces_array.append(forces.tolist())\n",
    "        \n",
    "        #print(COV)\n",
    "        \n",
    "        #COV = np.zeros((6,6))\n",
    "        \n",
    "        #angle1 = np.arctan(forces[1]/forces[0])/np.pi * 180\n",
    "        #print(angle1)\n",
    "        #print(\"f1 = \" + str([forces[2],forces[3]]))\n",
    "        #print(\"f2 = \" + str([forces[4],forces[5]]))\n",
    "        \n",
    "        f1 = distance(np.array([forces[0],forces[1]]),np.array([0,0]))\n",
    "        \n",
    "        f2 = distance(np.array([forces[2],forces[3]]),np.array([0,0]))\n",
    "        \n",
    "        f3 = distance(np.array([forces[4],forces[5]]),np.array([0,0]))    \n",
    "        \n",
    "        print(\"f0,f1,f2 = \" + str([f1,f2,f3]))\n",
    "        \n",
    "        #print(forces)\n",
    "        #print(COV)\n",
    "        \n",
    "        if time == 0:\n",
    "\n",
    "            v_next = v_init - delta/(2*k_T*np.power(mass_0*mass_1*mass_2,1/3))*np.matmul(COV,v_init)*dt + dt*forces/mass_0\n",
    "            \n",
    "            r_next = (r*angst + dt*v_next)/angst\n",
    "\n",
    "            #r_split = np.array_split(r_next,3)\n",
    "\n",
    "            coords.append(r_next)\n",
    "\n",
    "        else:\n",
    "\n",
    "            v_next += - delta/(2*k_T*np.power(mass_0*mass_1*mass_2,1/3))*np.matmul(COV,v_next)*dt + dt*forces/mass_0\n",
    "            \n",
    "            r_next = (r*angst + dt*v_next)/angst\n",
    "\n",
    "            #r_split = np.array_split(r_next,3)\n",
    "            \n",
    "            coords.append(r_next)\n",
    "        velocities_array.append(v_next.tolist())  \n",
    "        coords_array.append(coords[-1].tolist())\n",
    "        \n",
    "        r = np.array_split(coords[-1],3)\n",
    "        d01 = distance(r[0],r[1])\n",
    "        d02 = distance(r[0],r[2])\n",
    "        d12 = distance(r[1],r[2])\n",
    "        print(\"d01,d02,d12 = \" + str([d01,d02,d12]))\n",
    "        \n",
    "        dists = np.split(coords[-1],3)\n",
    "        d01 = distance(dists[0],dists[1])\n",
    "        distance01.append(d01)\n",
    "        d02 = distance(dists[0],dists[2])\n",
    "        distance02.append(d02)\n",
    "        d12 = distance(dists[1],dists[2])\n",
    "        distance12.append(d12)\n",
    "    timess = times.tolist()\n",
    "    timess.append(timeE*femto)\n",
    "    f.write('times \\n')\n",
    "    f.write(str(timess) + \"\\n\")\n",
    "    f.write(\"coordinates \\n\")\n",
    "    f.write(str(coords_array) + \"\\n\")\n",
    "    f.write(\"velocities \\n\")\n",
    "    f.write(str(velocities_array) + \"\\n\")\n",
    "    f.write(\"forces \\n\")\n",
    "    f.write(str(forces_array) + \"\\n\")\n",
    "    return (distance01,distance02,distance12,times) "
   ]
  },
  {
   "cell_type": "code",
   "execution_count": 4,
   "id": "be5bb22e",
   "metadata": {
    "scrolled": false
   },
   "outputs": [
    {
     "name": "stderr",
     "output_type": "stream",
     "text": [
      "Progress:   0%|          | 1/300 [00:26<2:13:27, 26.78s/it]"
     ]
    },
    {
     "name": "stdout",
     "output_type": "stream",
     "text": [
      "Time to: Calculate Ground State - 1.83s, Get Pauli Ops - 18.01s, Calculate Pauli Expectation Values - 4.74s, Calculate Covariance - 1.94s\n",
      "f0,f1,f2 = [1.2516347947052933e-08, 1.2516347947040479e-08, 1.2167322788995743e-08]\n",
      "d01,d02,d12 = [0.8051440607649549, 0.8051437542058222, 0.8051437542058174]\n"
     ]
    },
    {
     "name": "stderr",
     "output_type": "stream",
     "text": [
      "Progress:   1%|          | 2/300 [00:55<2:19:58, 28.18s/it]"
     ]
    },
    {
     "name": "stdout",
     "output_type": "stream",
     "text": [
      "Time to: Calculate Ground State - 1.07s, Get Pauli Ops - 18.52s, Calculate Pauli Expectation Values - 6.34s, Calculate Covariance - 3.22s\n",
      "f0,f1,f2 = [1.2035691776156501e-08, 1.2035691776129442e-08, 1.1535210707831312e-08]\n",
      "d01,d02,d12 = [0.8151555571283976, 0.8151543731942195, 0.8151543731942034]\n"
     ]
    },
    {
     "name": "stderr",
     "output_type": "stream",
     "text": [
      "Progress:   1%|          | 3/300 [01:24<2:20:10, 28.32s/it]"
     ]
    },
    {
     "name": "stdout",
     "output_type": "stream",
     "text": [
      "Time to: Calculate Ground State - 1.39s, Get Pauli Ops - 18.65s, Calculate Pauli Expectation Values - 5.45s, Calculate Covariance - 2.98s\n",
      "f0,f1,f2 = [1.1001722914993508e-08, 1.1001722915039491e-08, 1.07205191146324e-08]\n",
      "d01,d02,d12 = [0.8295781791986646, 0.8295757384110911, 0.8295757384110775]\n"
     ]
    },
    {
     "name": "stderr",
     "output_type": "stream",
     "text": [
      "Progress:   1%|▏         | 4/300 [01:49<2:12:53, 26.94s/it]"
     ]
    },
    {
     "name": "stdout",
     "output_type": "stream",
     "text": [
      "Time to: Calculate Ground State - 1.35s, Get Pauli Ops - 16.57s, Calculate Pauli Expectation Values - 4.91s, Calculate Covariance - 1.97s\n",
      "f0,f1,f2 = [1.05356093560324e-08, 1.053560935600035e-08, 7.876664423990667e-09]\n",
      "d01,d02,d12 = [0.8478102506437983, 0.8478047919177176, 0.8478047919177034]\n"
     ]
    },
    {
     "name": "stderr",
     "output_type": "stream",
     "text": [
      "Progress:   2%|▏         | 5/300 [02:16<2:12:52, 27.02s/it]"
     ]
    },
    {
     "name": "stdout",
     "output_type": "stream",
     "text": [
      "Time to: Calculate Ground State - 1.34s, Get Pauli Ops - 17.33s, Calculate Pauli Expectation Values - 5.17s, Calculate Covariance - 3.33s\n",
      "f0,f1,f2 = [8.19596721736409e-09, 8.195967217320924e-09, 7.675071251208375e-09]\n",
      "d01,d02,d12 = [0.8691756769334277, 0.869166430702479, 0.8691664307024495]\n"
     ]
    },
    {
     "name": "stderr",
     "output_type": "stream",
     "text": [
      "Progress:   2%|▏         | 6/300 [02:41<2:09:12, 26.37s/it]"
     ]
    },
    {
     "name": "stdout",
     "output_type": "stream",
     "text": [
      "Time to: Calculate Ground State - 1.32s, Get Pauli Ops - 16.0s, Calculate Pauli Expectation Values - 4.69s, Calculate Covariance - 3.07s\n",
      "f0,f1,f2 = [6.596017268038365e-09, 6.596017268022398e-09, 6.026403609911155e-09]\n",
      "d01,d02,d12 = [0.8929625657713822, 0.8929497777976017, 0.8929497777975485]\n"
     ]
    },
    {
     "name": "stderr",
     "output_type": "stream",
     "text": [
      "Progress:   2%|▏         | 7/300 [03:06<2:06:32, 25.91s/it]"
     ]
    },
    {
     "name": "stdout",
     "output_type": "stream",
     "text": [
      "Time to: Calculate Ground State - 1.16s, Get Pauli Ops - 16.1s, Calculate Pauli Expectation Values - 4.58s, Calculate Covariance - 3.13s\n",
      "f0,f1,f2 = [5.127008588406204e-09, 5.127008588402811e-09, 4.1620644892497525e-09]\n",
      "d01,d02,d12 = [0.9184716361919961, 0.9184548700764388, 0.9184548700763523]\n"
     ]
    },
    {
     "name": "stderr",
     "output_type": "stream",
     "text": [
      "Progress:   3%|▎         | 8/300 [03:35<2:10:38, 26.85s/it]"
     ]
    },
    {
     "name": "stdout",
     "output_type": "stream",
     "text": [
      "Time to: Calculate Ground State - 1.34s, Get Pauli Ops - 19.07s, Calculate Pauli Expectation Values - 5.16s, Calculate Covariance - 3.26s\n",
      "f0,f1,f2 = [4.032773232884545e-09, 4.032773232894102e-09, 1.9623194120155115e-09]\n",
      "d01,d02,d12 = [0.9450413014154699, 0.9450199119397716, 0.9450199119396482]\n"
     ]
    },
    {
     "name": "stderr",
     "output_type": "stream",
     "text": [
      "Progress:   3%|▎         | 9/300 [04:03<2:11:58, 27.21s/it]"
     ]
    },
    {
     "name": "stdout",
     "output_type": "stream",
     "text": [
      "Time to: Calculate Ground State - 1.08s, Get Pauli Ops - 18.79s, Calculate Pauli Expectation Values - 5.25s, Calculate Covariance - 2.88s\n",
      "f0,f1,f2 = [1.5934468518277922e-09, 1.5934468517837246e-09, 2.46247889971687e-09]\n",
      "d01,d02,d12 = [0.9721000867669787, 0.9720749948961035, 0.9720749948959588]\n"
     ]
    },
    {
     "name": "stderr",
     "output_type": "stream",
     "text": [
      "Progress:   3%|▎         | 10/300 [04:30<2:12:07, 27.34s/it]"
     ]
    },
    {
     "name": "stdout",
     "output_type": "stream",
     "text": [
      "Time to: Calculate Ground State - 1.19s, Get Pauli Ops - 18.01s, Calculate Pauli Expectation Values - 5.19s, Calculate Covariance - 3.22s\n",
      "f0,f1,f2 = [9.836197716098508e-10, 9.836197716758468e-10, 4.566108774798839e-12]\n",
      "d01,d02,d12 = [0.9991077408412024, 0.9990793822043933, 0.9990793822042427]\n"
     ]
    },
    {
     "name": "stderr",
     "output_type": "stream",
     "text": [
      "Progress:   4%|▎         | 11/300 [04:56<2:08:30, 26.68s/it]"
     ]
    },
    {
     "name": "stdout",
     "output_type": "stream",
     "text": [
      "Time to: Calculate Ground State - 1.04s, Get Pauli Ops - 16.54s, Calculate Pauli Expectation Values - 5.06s, Calculate Covariance - 2.53s\n",
      "f0,f1,f2 = [4.694991290046091e-10, 4.694991289343098e-10, 7.239299428031999e-10]\n",
      "d01,d02,d12 = [1.0256149656427365, 1.0255833930455995, 1.0255833930454885]\n"
     ]
    },
    {
     "name": "stderr",
     "output_type": "stream",
     "text": [
      "Progress:   4%|▍         | 12/300 [05:23<2:08:50, 26.84s/it]"
     ]
    },
    {
     "name": "stdout",
     "output_type": "stream",
     "text": [
      "Time to: Calculate Ground State - 1.3s, Get Pauli Ops - 17.61s, Calculate Pauli Expectation Values - 5.05s, Calculate Covariance - 3.24s\n",
      "f0,f1,f2 = [1.8305920099098657e-09, 1.8305920099599556e-09, 9.097242385955835e-10]\n",
      "d01,d02,d12 = [1.051236798299834, 1.0512026156286418, 1.0512026156285612]\n"
     ]
    },
    {
     "name": "stderr",
     "output_type": "stream",
     "text": [
      "Progress:   4%|▍         | 13/300 [05:51<2:09:42, 27.12s/it]"
     ]
    },
    {
     "name": "stdout",
     "output_type": "stream",
     "text": [
      "Time to: Calculate Ground State - 1.02s, Get Pauli Ops - 19.33s, Calculate Pauli Expectation Values - 4.85s, Calculate Covariance - 2.53s\n",
      "f0,f1,f2 = [2.033366061017089e-09, 2.0333660610038364e-09, 3.042678690658446e-09]\n",
      "d01,d02,d12 = [1.0756356845221462, 1.075598586811127, 1.0755985868110909]\n"
     ]
    },
    {
     "name": "stderr",
     "output_type": "stream",
     "text": [
      "Progress:   5%|▍         | 14/300 [06:16<2:07:08, 26.67s/it]"
     ]
    },
    {
     "name": "stdout",
     "output_type": "stream",
     "text": [
      "Time to: Calculate Ground State - 1.11s, Get Pauli Ops - 16.84s, Calculate Pauli Expectation Values - 4.92s, Calculate Covariance - 2.77s\n",
      "f0,f1,f2 = [2.8772219591275715e-09, 2.877221959138938e-09, 3.183016589011236e-09]\n",
      "d01,d02,d12 = [1.0985455454146007, 1.0985043305939313, 1.0985043305939366]\n"
     ]
    },
    {
     "name": "stderr",
     "output_type": "stream",
     "text": [
      "Progress:   5%|▌         | 15/300 [06:41<2:03:43, 26.05s/it]"
     ]
    },
    {
     "name": "stdout",
     "output_type": "stream",
     "text": [
      "Time to: Calculate Ground State - 1.03s, Get Pauli Ops - 15.73s, Calculate Pauli Expectation Values - 5.27s, Calculate Covariance - 2.55s\n",
      "f0,f1,f2 = [4.301507898072098e-09, 4.301507898066212e-09, 2.265058652621482e-09]\n",
      "d01,d02,d12 = [1.1197553345074631, 1.1197127392654833, 1.1197127392655148]\n"
     ]
    },
    {
     "name": "stderr",
     "output_type": "stream",
     "text": [
      "Progress:   5%|▌         | 16/300 [07:06<2:01:45, 25.72s/it]"
     ]
    },
    {
     "name": "stdout",
     "output_type": "stream",
     "text": [
      "Time to: Calculate Ground State - 0.97s, Get Pauli Ops - 15.89s, Calculate Pauli Expectation Values - 5.29s, Calculate Covariance - 2.81s\n",
      "f0,f1,f2 = [4.0069861825359025e-09, 4.006986182551036e-09, 4.020145385915757e-09]\n",
      "d01,d02,d12 = [1.139075236550021, 1.1390314341869674, 1.1390314341870156]\n"
     ]
    },
    {
     "name": "stderr",
     "output_type": "stream",
     "text": [
      "Progress:   6%|▌         | 17/300 [07:32<2:01:31, 25.76s/it]"
     ]
    },
    {
     "name": "stdout",
     "output_type": "stream",
     "text": [
      "Time to: Calculate Ground State - 1.16s, Get Pauli Ops - 15.85s, Calculate Pauli Expectation Values - 5.99s, Calculate Covariance - 2.85s\n",
      "f0,f1,f2 = [3.993057196049226e-09, 3.993057196068504e-09, 5.468244859653588e-09]\n",
      "d01,d02,d12 = [1.1563570910253338, 1.1563098457409724, 1.1563098457410395]\n"
     ]
    },
    {
     "name": "stderr",
     "output_type": "stream",
     "text": [
      "Progress:   6%|▌         | 18/300 [07:59<2:03:38, 26.31s/it]"
     ]
    },
    {
     "name": "stdout",
     "output_type": "stream",
     "text": [
      "Time to: Calculate Ground State - 1.31s, Get Pauli Ops - 17.81s, Calculate Pauli Expectation Values - 5.74s, Calculate Covariance - 2.7s\n",
      "f0,f1,f2 = [5.322687891780229e-09, 5.322687891769853e-09, 3.6370809090131526e-09]\n",
      "d01,d02,d12 = [1.171504918406924, 1.1714560983902773, 1.171456098390381]\n"
     ]
    },
    {
     "name": "stderr",
     "output_type": "stream",
     "text": [
      "Progress:   6%|▋         | 19/300 [08:26<2:04:15, 26.53s/it]"
     ]
    },
    {
     "name": "stdout",
     "output_type": "stream",
     "text": [
      "Time to: Calculate Ground State - 1.17s, Get Pauli Ops - 14.29s, Calculate Pauli Expectation Values - 8.39s, Calculate Covariance - 3.21s\n",
      "f0,f1,f2 = [5.136491738954339e-09, 5.136491738928964e-09, 4.664566695564628e-09]\n",
      "d01,d02,d12 = [1.1844308684930838, 1.184381278972894, 1.1843812789730377]\n"
     ]
    },
    {
     "name": "stderr",
     "output_type": "stream",
     "text": [
      "Progress:   7%|▋         | 20/300 [08:56<2:08:24, 27.52s/it]"
     ]
    },
    {
     "name": "stdout",
     "output_type": "stream",
     "text": [
      "Time to: Calculate Ground State - 0.97s, Get Pauli Ops - 20.67s, Calculate Pauli Expectation Values - 4.93s, Calculate Covariance - 3.23s\n",
      "f0,f1,f2 = [4.754508678631715e-09, 4.754508678622937e-09, 6.171696601310991e-09]\n",
      "d01,d02,d12 = [1.1950694305755558, 1.195016707091372, 1.1950167070915565]\n"
     ]
    },
    {
     "name": "stderr",
     "output_type": "stream",
     "text": [
      "Progress:   7%|▋         | 21/300 [09:25<2:09:15, 27.80s/it]"
     ]
    },
    {
     "name": "stdout",
     "output_type": "stream",
     "text": [
      "Time to: Calculate Ground State - 0.91s, Get Pauli Ops - 18.78s, Calculate Pauli Expectation Values - 5.64s, Calculate Covariance - 3.11s\n",
      "f0,f1,f2 = [4.853932270706919e-09, 4.853932270681396e-09, 6.4503774867883286e-09]\n",
      "d01,d02,d12 = [1.203379881246399, 1.2033206528143445, 1.2033206528145768]\n"
     ]
    },
    {
     "name": "stderr",
     "output_type": "stream",
     "text": [
      "Progress:   7%|▋         | 22/300 [09:52<2:07:41, 27.56s/it]"
     ]
    },
    {
     "name": "stdout",
     "output_type": "stream",
     "text": [
      "Time to: Calculate Ground State - 1.16s, Get Pauli Ops - 18.53s, Calculate Pauli Expectation Values - 5.12s, Calculate Covariance - 2.18s\n",
      "f0,f1,f2 = [5.31951525002651e-09, 5.319515250002195e-09, 5.677749566934541e-09]\n",
      "d01,d02,d12 = [1.2093431006098347, 1.2092763427234465, 1.2092763427237354]\n"
     ]
    },
    {
     "name": "stderr",
     "output_type": "stream",
     "text": [
      "Progress:   8%|▊         | 23/300 [10:20<2:07:51, 27.69s/it]"
     ]
    },
    {
     "name": "stdout",
     "output_type": "stream",
     "text": [
      "Time to: Calculate Ground State - 1.02s, Get Pauli Ops - 14.04s, Calculate Pauli Expectation Values - 10.02s, Calculate Covariance - 2.92s\n",
      "f0,f1,f2 = [5.893944070665955e-09, 5.893944070610357e-09, 4.8387345412810516e-09]\n",
      "d01,d02,d12 = [1.2129580696895896, 1.2128868462690925, 1.2128868462694415]\n"
     ]
    },
    {
     "name": "stderr",
     "output_type": "stream",
     "text": [
      "Progress:   8%|▊         | 24/300 [10:49<2:09:59, 28.26s/it]"
     ]
    },
    {
     "name": "stdout",
     "output_type": "stream",
     "text": [
      "Time to: Calculate Ground State - 1.21s, Get Pauli Ops - 19.16s, Calculate Pauli Expectation Values - 5.97s, Calculate Covariance - 3.23s\n",
      "f0,f1,f2 = [5.604917320551291e-09, 5.604917320608509e-09, 5.5212885060608065e-09]\n",
      "d01,d02,d12 = [1.2142215349485341, 1.2141478414451248, 1.2141478414455336]\n"
     ]
    },
    {
     "name": "stderr",
     "output_type": "stream",
     "text": [
      "Progress:   8%|▊         | 25/300 [11:16<2:07:19, 27.78s/it]"
     ]
    },
    {
     "name": "stdout",
     "output_type": "stream",
     "text": [
      "Time to: Calculate Ground State - 0.97s, Get Pauli Ops - 15.57s, Calculate Pauli Expectation Values - 6.78s, Calculate Covariance - 3.33s\n",
      "f0,f1,f2 = [5.560753616074183e-09, 5.56075361608787e-09, 5.6684547559563465e-09]\n",
      "d01,d02,d12 = [1.2131492638309243, 1.2130739001125543, 1.213073900113026]\n"
     ]
    },
    {
     "name": "stderr",
     "output_type": "stream",
     "text": [
      "Progress:   9%|▊         | 26/300 [11:42<2:05:16, 27.43s/it]"
     ]
    },
    {
     "name": "stdout",
     "output_type": "stream",
     "text": [
      "Time to: Calculate Ground State - 1.33s, Get Pauli Ops - 17.08s, Calculate Pauli Expectation Values - 5.27s, Calculate Covariance - 2.93s\n",
      "f0,f1,f2 = [5.099012515124875e-09, 5.099012515200081e-09, 6.6900603650500906e-09]\n",
      "d01,d02,d12 = [1.2097728305894422, 1.2096914812299688, 1.2096914812304673]\n"
     ]
    },
    {
     "name": "stderr",
     "output_type": "stream",
     "text": [
      "Progress:   9%|▉         | 27/300 [12:07<2:00:40, 26.52s/it]"
     ]
    },
    {
     "name": "stdout",
     "output_type": "stream",
     "text": [
      "Time to: Calculate Ground State - 1.08s, Get Pauli Ops - 15.36s, Calculate Pauli Expectation Values - 5.51s, Calculate Covariance - 2.44s\n",
      "f0,f1,f2 = [5.6227945459262595e-09, 5.62279454599932e-09, 5.317620508894205e-09]\n",
      "d01,d02,d12 = [1.2041443541345482, 1.2040569763512843, 1.204056976351803]\n"
     ]
    },
    {
     "name": "stderr",
     "output_type": "stream",
     "text": [
      "Progress:   9%|▉         | 28/300 [12:36<2:03:21, 27.21s/it]"
     ]
    },
    {
     "name": "stdout",
     "output_type": "stream",
     "text": [
      "Time to: Calculate Ground State - 1.03s, Get Pauli Ops - 20.1s, Calculate Pauli Expectation Values - 5.04s, Calculate Covariance - 2.63s\n",
      "f0,f1,f2 = [5.785447077296755e-09, 5.785447077267857e-09, 4.8312439173108566e-09]\n",
      "d01,d02,d12 = [1.1963191480503128, 1.1962298873281554, 1.196229887328704]\n"
     ]
    },
    {
     "name": "stderr",
     "output_type": "stream",
     "text": [
      "Progress:  10%|▉         | 29/300 [13:00<1:59:25, 26.44s/it]"
     ]
    },
    {
     "name": "stdout",
     "output_type": "stream",
     "text": [
      "Time to: Calculate Ground State - 1.19s, Get Pauli Ops - 15.6s, Calculate Pauli Expectation Values - 5.16s, Calculate Covariance - 2.68s\n",
      "f0,f1,f2 = [5.69272260294112e-09, 5.692722602889302e-09, 4.67102417836772e-09]\n",
      "d01,d02,d12 = [1.1863703471600402, 1.186281762257273, 1.1862817622578699]\n"
     ]
    },
    {
     "name": "stderr",
     "output_type": "stream",
     "text": [
      "Progress:  10%|█         | 30/300 [13:24<1:55:42, 25.71s/it]"
     ]
    },
    {
     "name": "stdout",
     "output_type": "stream",
     "text": [
      "Time to: Calculate Ground State - 1.32s, Get Pauli Ops - 14.94s, Calculate Pauli Expectation Values - 5.12s, Calculate Covariance - 2.63s\n",
      "f0,f1,f2 = [4.9635717844623235e-09, 4.9635717844267415e-09, 5.732765917135913e-09]\n",
      "d01,d02,d12 = [1.1743648786426135, 1.174276453393078, 1.1742764533937204]\n"
     ]
    },
    {
     "name": "stderr",
     "output_type": "stream",
     "text": [
      "Progress:  10%|█         | 31/300 [13:50<1:55:08, 25.68s/it]"
     ]
    },
    {
     "name": "stdout",
     "output_type": "stream",
     "text": [
      "Time to: Calculate Ground State - 0.99s, Get Pauli Ops - 15.75s, Calculate Pauli Expectation Values - 6.08s, Calculate Covariance - 2.79s\n",
      "f0,f1,f2 = [4.550209943941823e-09, 4.550209943985808e-09, 6.159670087927029e-09]\n",
      "d01,d02,d12 = [1.1604009639580748, 1.160305303120973, 1.1603053031216293]\n"
     ]
    },
    {
     "name": "stderr",
     "output_type": "stream",
     "text": [
      "Progress:  11%|█         | 32/300 [14:14<1:52:27, 25.18s/it]"
     ]
    },
    {
     "name": "stdout",
     "output_type": "stream",
     "text": [
      "Time to: Calculate Ground State - 0.94s, Get Pauli Ops - 15.28s, Calculate Pauli Expectation Values - 5.16s, Calculate Covariance - 2.61s\n",
      "f0,f1,f2 = [4.697999488923199e-09, 4.697999488927087e-09, 4.93024679116177e-09]\n",
      "d01,d02,d12 = [1.1446062257027534, 1.1445020347552552, 1.1445020347559223]\n"
     ]
    },
    {
     "name": "stderr",
     "output_type": "stream",
     "text": [
      "Progress:  11%|█         | 33/300 [14:38<1:50:47, 24.90s/it]"
     ]
    },
    {
     "name": "stdout",
     "output_type": "stream",
     "text": [
      "Time to: Calculate Ground State - 0.92s, Get Pauli Ops - 15.91s, Calculate Pauli Expectation Values - 4.89s, Calculate Covariance - 2.51s\n",
      "f0,f1,f2 = [4.403997506180709e-09, 4.4039975061964126e-09, 4.7762737287917554e-09]\n",
      "d01,d02,d12 = [1.1270953864629627, 1.1269822181255404, 1.126982218126202]\n"
     ]
    },
    {
     "name": "stderr",
     "output_type": "stream",
     "text": [
      "Progress:  11%|█▏        | 34/300 [15:03<1:50:35, 24.95s/it]"
     ]
    },
    {
     "name": "stdout",
     "output_type": "stream",
     "text": [
      "Time to: Calculate Ground State - 1.02s, Get Pauli Ops - 16.35s, Calculate Pauli Expectation Values - 5.2s, Calculate Covariance - 2.48s\n",
      "f0,f1,f2 = [4.309360285043688e-09, 4.3093602850136295e-09, 3.870302332496749e-09]\n",
      "d01,d02,d12 = [1.108050730625348, 1.1079296875162736, 1.1079296875169482]\n"
     ]
    },
    {
     "name": "stderr",
     "output_type": "stream",
     "text": [
      "Progress:  12%|█▏        | 35/300 [15:29<1:50:58, 25.13s/it]"
     ]
    },
    {
     "name": "stdout",
     "output_type": "stream",
     "text": [
      "Time to: Calculate Ground State - 1.04s, Get Pauli Ops - 15.75s, Calculate Pauli Expectation Values - 5.83s, Calculate Covariance - 2.93s\n",
      "f0,f1,f2 = [3.401353925468968e-09, 3.4013539254695893e-09, 4.657338743772186e-09]\n",
      "d01,d02,d12 = [1.0876338845741471, 1.0874945610591242, 1.0874945610597637]\n"
     ]
    },
    {
     "name": "stderr",
     "output_type": "stream",
     "text": [
      "Progress:  12%|█▏        | 36/300 [16:00<1:57:57, 26.81s/it]"
     ]
    },
    {
     "name": "stdout",
     "output_type": "stream",
     "text": [
      "Time to: Calculate Ground State - 1.14s, Get Pauli Ops - 18.69s, Calculate Pauli Expectation Values - 7.81s, Calculate Covariance - 3.08s\n",
      "f0,f1,f2 = [3.1747002805283846e-09, 3.1747002805690376e-09, 3.535327036664445e-09]\n",
      "d01,d02,d12 = [1.066056410944206, 1.0658944153152616, 1.0658944153158345]\n"
     ]
    },
    {
     "name": "stderr",
     "output_type": "stream",
     "text": [
      "Progress:  12%|█▏        | 37/300 [16:26<1:57:31, 26.81s/it]"
     ]
    },
    {
     "name": "stdout",
     "output_type": "stream",
     "text": [
      "Time to: Calculate Ground State - 0.87s, Get Pauli Ops - 18.28s, Calculate Pauli Expectation Values - 5.19s, Calculate Covariance - 2.46s\n",
      "f0,f1,f2 = [3.0892023306578248e-09, 3.0892023306227225e-09, 2.0186502176491465e-09]\n",
      "d01,d02,d12 = [1.0436051194773621, 1.0434310035842929, 1.0434310035848262]\n"
     ]
    },
    {
     "name": "stderr",
     "output_type": "stream",
     "text": [
      "Progress:  13%|█▎        | 38/300 [16:55<1:58:56, 27.24s/it]"
     ]
    },
    {
     "name": "stdout",
     "output_type": "stream",
     "text": [
      "Time to: Calculate Ground State - 1.27s, Get Pauli Ops - 18.75s, Calculate Pauli Expectation Values - 5.04s, Calculate Covariance - 3.17s\n",
      "f0,f1,f2 = [1.824222549461775e-09, 1.8242225494737499e-09, 3.543016331498466e-09]\n",
      "d01,d02,d12 = [1.020505102035361, 1.0203038935538735, 1.020303893554324]\n"
     ]
    },
    {
     "name": "stderr",
     "output_type": "stream",
     "text": [
      "Progress:  13%|█▎        | 39/300 [17:20<1:56:02, 26.67s/it]"
     ]
    },
    {
     "name": "stdout",
     "output_type": "stream",
     "text": [
      "Time to: Calculate Ground State - 1.15s, Get Pauli Ops - 15.89s, Calculate Pauli Expectation Values - 5.7s, Calculate Covariance - 2.6s\n",
      "f0,f1,f2 = [1.3030474713608462e-09, 1.303047471307834e-09, 2.6492283895398126e-09]\n",
      "d01,d02,d12 = [0.9970552420475352, 0.9968042138901971, 0.9968042138905191]\n"
     ]
    },
    {
     "name": "stderr",
     "output_type": "stream",
     "text": [
      "Progress:  13%|█▎        | 40/300 [17:47<1:55:51, 26.74s/it]"
     ]
    },
    {
     "name": "stdout",
     "output_type": "stream",
     "text": [
      "Time to: Calculate Ground State - 0.9s, Get Pauli Ops - 17.2s, Calculate Pauli Expectation Values - 5.61s, Calculate Covariance - 3.16s\n",
      "f0,f1,f2 = [9.219955807029078e-10, 9.21995580686468e-10, 1.7566605399755236e-10]\n",
      "d01,d02,d12 = [0.9736869551451324, 0.9733977790510249, 0.9733977790512292]\n"
     ]
    },
    {
     "name": "stderr",
     "output_type": "stream",
     "text": [
      "Progress:  14%|█▎        | 41/300 [18:10<1:50:37, 25.63s/it]"
     ]
    },
    {
     "name": "stdout",
     "output_type": "stream",
     "text": [
      "Time to: Calculate Ground State - 1.13s, Get Pauli Ops - 13.63s, Calculate Pauli Expectation Values - 5.65s, Calculate Covariance - 2.63s\n",
      "f0,f1,f2 = [5.899491721259824e-10, 5.899491720828122e-10, 1.2012344326403137e-09]\n",
      "d01,d02,d12 = [0.9508024601081485, 0.9504738337168772, 0.9504738337169574]\n"
     ]
    },
    {
     "name": "stderr",
     "output_type": "stream",
     "text": [
      "Progress:  14%|█▍        | 42/300 [18:37<1:51:49, 26.00s/it]"
     ]
    },
    {
     "name": "stdout",
     "output_type": "stream",
     "text": [
      "Time to: Calculate Ground State - 1.15s, Get Pauli Ops - 18.03s, Calculate Pauli Expectation Values - 5.08s, Calculate Covariance - 2.62s\n",
      "f0,f1,f2 = [1.4850068024793453e-09, 1.485006802466243e-09, 1.7615873304360789e-09]\n",
      "d01,d02,d12 = [0.9288201640834478, 0.9284541209140779, 0.9284541209140253]\n"
     ]
    },
    {
     "name": "stderr",
     "output_type": "stream",
     "text": [
      "Progress:  14%|█▍        | 43/300 [19:03<1:51:39, 26.07s/it]"
     ]
    },
    {
     "name": "stdout",
     "output_type": "stream",
     "text": [
      "Time to: Calculate Ground State - 1.08s, Get Pauli Ops - 15.28s, Calculate Pauli Expectation Values - 7.34s, Calculate Covariance - 2.51s\n",
      "f0,f1,f2 = [2.6826740474661864e-09, 2.6826740474451243e-09, 2.6533735600032687e-09]\n",
      "d01,d02,d12 = [0.908172978242475, 0.9077830004540428, 0.9077830004538554]\n"
     ]
    },
    {
     "name": "stderr",
     "output_type": "stream",
     "text": [
      "Progress:  15%|█▍        | 44/300 [19:30<1:52:04, 26.27s/it]"
     ]
    },
    {
     "name": "stdout",
     "output_type": "stream",
     "text": [
      "Time to: Calculate Ground State - 0.98s, Get Pauli Ops - 18.03s, Calculate Pauli Expectation Values - 4.87s, Calculate Covariance - 2.84s\n",
      "f0,f1,f2 = [3.897704979331663e-09, 3.897704979368357e-09, 3.743738386534094e-09]\n",
      "d01,d02,d12 = [0.8893302840797712, 0.8889072135210645, 0.8889072135207595]\n"
     ]
    },
    {
     "name": "stderr",
     "output_type": "stream",
     "text": [
      "Progress:  15%|█▌        | 45/300 [19:55<1:49:48, 25.84s/it]"
     ]
    },
    {
     "name": "stdout",
     "output_type": "stream",
     "text": [
      "Time to: Calculate Ground State - 1.0s, Get Pauli Ops - 15.88s, Calculate Pauli Expectation Values - 5.4s, Calculate Covariance - 2.53s\n",
      "f0,f1,f2 = [5.056901854869951e-09, 5.0569018548790756e-09, 4.929903498013423e-09]\n",
      "d01,d02,d12 = [0.8727575016513476, 0.8723162975506126, 0.8723162975501937]\n"
     ]
    },
    {
     "name": "stderr",
     "output_type": "stream",
     "text": [
      "Progress:  15%|█▌        | 46/300 [20:18<1:46:37, 25.19s/it]"
     ]
    },
    {
     "name": "stdout",
     "output_type": "stream",
     "text": [
      "Time to: Calculate Ground State - 0.94s, Get Pauli Ops - 14.71s, Calculate Pauli Expectation Values - 5.36s, Calculate Covariance - 2.65s\n",
      "f0,f1,f2 = [5.831026457249691e-09, 5.8310264572963935e-09, 6.959602565383928e-09]\n",
      "d01,d02,d12 = [0.8589598164468886, 0.8585191653732575, 0.8585191653727098]\n"
     ]
    },
    {
     "name": "stderr",
     "output_type": "stream",
     "text": [
      "Progress:  16%|█▌        | 47/300 [20:47<1:50:50, 26.28s/it]"
     ]
    },
    {
     "name": "stdout",
     "output_type": "stream",
     "text": [
      "Time to: Calculate Ground State - 1.0s, Get Pauli Ops - 19.48s, Calculate Pauli Expectation Values - 5.37s, Calculate Covariance - 2.98s\n",
      "f0,f1,f2 = [6.861719733909845e-09, 6.861719733929581e-09, 7.916604311175353e-09]\n",
      "d01,d02,d12 = [0.8483221486499538, 0.8479052168916573, 0.847905216890987]\n"
     ]
    },
    {
     "name": "stderr",
     "output_type": "stream",
     "text": [
      "Progress:  16%|█▌        | 48/300 [21:12<1:48:28, 25.83s/it]"
     ]
    },
    {
     "name": "stdout",
     "output_type": "stream",
     "text": [
      "Time to: Calculate Ground State - 1.06s, Get Pauli Ops - 15.29s, Calculate Pauli Expectation Values - 5.58s, Calculate Covariance - 2.83s\n",
      "f0,f1,f2 = [8.426840988869342e-09, 8.426840988869978e-09, 7.181769833349993e-09]\n",
      "d01,d02,d12 = [0.8410844380547526, 0.8406771059070226, 0.8406771059062434]\n"
     ]
    },
    {
     "name": "stderr",
     "output_type": "stream",
     "text": [
      "Progress:  16%|█▋        | 49/300 [21:37<1:46:53, 25.55s/it]"
     ]
    },
    {
     "name": "stdout",
     "output_type": "stream",
     "text": [
      "Time to: Calculate Ground State - 1.05s, Get Pauli Ops - 15.67s, Calculate Pauli Expectation Values - 5.52s, Calculate Covariance - 2.67s\n",
      "f0,f1,f2 = [8.036019085563216e-09, 8.036019085513157e-09, 9.98584190768762e-09]\n",
      "d01,d02,d12 = [0.8375617616512271, 0.8372149032600836, 0.8372149032591075]\n"
     ]
    },
    {
     "name": "stderr",
     "output_type": "stream",
     "text": [
      "Progress:  17%|█▋        | 50/300 [22:03<1:47:50, 25.88s/it]"
     ]
    },
    {
     "name": "stdout",
     "output_type": "stream",
     "text": [
      "Time to: Calculate Ground State - 1.25s, Get Pauli Ops - 17.26s, Calculate Pauli Expectation Values - 5.13s, Calculate Covariance - 2.99s\n",
      "f0,f1,f2 = [8.43604142129473e-09, 8.436041421229328e-09, 1.0017819143302185e-08]\n",
      "d01,d02,d12 = [0.837808929034679, 0.8375494984440678, 0.8375494984428455]\n"
     ]
    },
    {
     "name": "stderr",
     "output_type": "stream",
     "text": [
      "Progress:  17%|█▋        | 51/300 [22:32<1:51:14, 26.81s/it]"
     ]
    },
    {
     "name": "stdout",
     "output_type": "stream",
     "text": [
      "Time to: Calculate Ground State - 1.43s, Get Pauli Ops - 19.47s, Calculate Pauli Expectation Values - 4.98s, Calculate Covariance - 3.07s\n",
      "f0,f1,f2 = [9.496253306724989e-09, 9.496253306885351e-09, 7.651620777914621e-09]\n",
      "d01,d02,d12 = [0.8416975596236749, 0.8415182409523275, 0.84151824095092]\n"
     ]
    },
    {
     "name": "stderr",
     "output_type": "stream",
     "text": [
      "Progress:  17%|█▋        | 52/300 [22:58<1:49:10, 26.41s/it]"
     ]
    },
    {
     "name": "stdout",
     "output_type": "stream",
     "text": [
      "Time to: Calculate Ground State - 1.04s, Get Pauli Ops - 16.48s, Calculate Pauli Expectation Values - 4.81s, Calculate Covariance - 3.15s\n",
      "f0,f1,f2 = [8.422056669057675e-09, 8.42205666910138e-09, 8.746064165079176e-09]\n",
      "d01,d02,d12 = [0.8490866988779686, 0.8489904077693988, 0.8489904077678271]\n"
     ]
    },
    {
     "name": "stderr",
     "output_type": "stream",
     "text": [
      "Progress:  18%|█▊        | 53/300 [23:23<1:47:27, 26.10s/it]"
     ]
    },
    {
     "name": "stdout",
     "output_type": "stream",
     "text": [
      "Time to: Calculate Ground State - 0.81s, Get Pauli Ops - 16.32s, Calculate Pauli Expectation Values - 5.56s, Calculate Covariance - 2.68s\n",
      "f0,f1,f2 = [8.086430425188987e-09, 8.086430425259654e-09, 7.659996619445474e-09]\n",
      "d01,d02,d12 = [0.85967870460117, 0.8596637511753857, 0.8596637511736921]\n"
     ]
    },
    {
     "name": "stderr",
     "output_type": "stream",
     "text": [
      "Progress:  18%|█▊        | 54/300 [23:52<1:50:41, 27.00s/it]"
     ]
    },
    {
     "name": "stdout",
     "output_type": "stream",
     "text": [
      "Time to: Calculate Ground State - 1.29s, Get Pauli Ops - 20.15s, Calculate Pauli Expectation Values - 4.99s, Calculate Covariance - 2.64s\n",
      "f0,f1,f2 = [7.0386081733453184e-09, 7.03860817335859e-09, 7.177589523757224e-09]\n",
      "d01,d02,d12 = [0.8731013542866615, 0.8731671188314056, 0.8731671188296114]\n"
     ]
    },
    {
     "name": "stderr",
     "output_type": "stream",
     "text": [
      "Progress:  18%|█▊        | 55/300 [24:17<1:47:55, 26.43s/it]"
     ]
    },
    {
     "name": "stdout",
     "output_type": "stream",
     "text": [
      "Time to: Calculate Ground State - 1.37s, Get Pauli Ops - 15.95s, Calculate Pauli Expectation Values - 5.0s, Calculate Covariance - 2.78s\n",
      "f0,f1,f2 = [6.418910788671313e-09, 6.418910788635507e-09, 5.54093810619071e-09]\n",
      "d01,d02,d12 = [0.8888955304800154, 0.8890413567523566, 0.8890413567504923]\n"
     ]
    },
    {
     "name": "stderr",
     "output_type": "stream",
     "text": [
      "Progress:  19%|█▊        | 56/300 [24:42<1:45:27, 25.93s/it]"
     ]
    },
    {
     "name": "stdout",
     "output_type": "stream",
     "text": [
      "Time to: Calculate Ground State - 1.01s, Get Pauli Ops - 16.38s, Calculate Pauli Expectation Values - 4.95s, Calculate Covariance - 2.41s\n",
      "f0,f1,f2 = [4.888393278115623e-09, 4.8883932782071866e-09, 5.308884045163761e-09]\n",
      "d01,d02,d12 = [0.9066174025200967, 0.9068449265747278, 0.9068449265728604]\n"
     ]
    },
    {
     "name": "stderr",
     "output_type": "stream",
     "text": [
      "Progress:  19%|█▉        | 57/300 [25:08<1:44:57, 25.91s/it]"
     ]
    },
    {
     "name": "stdout",
     "output_type": "stream",
     "text": [
      "Time to: Calculate Ground State - 0.98s, Get Pauli Ops - 17.29s, Calculate Pauli Expectation Values - 4.94s, Calculate Covariance - 2.67s\n",
      "f0,f1,f2 = [4.6153153018423305e-09, 4.6153153016172166e-09, 2.718296065853084e-09]\n",
      "d01,d02,d12 = [0.9257462544444331, 0.9260504160795763, 0.926050416077682]\n"
     ]
    },
    {
     "name": "stderr",
     "output_type": "stream",
     "text": [
      "Progress:  19%|█▉        | 58/300 [25:33<1:43:17, 25.61s/it]"
     ]
    },
    {
     "name": "stdout",
     "output_type": "stream",
     "text": [
      "Time to: Calculate Ground State - 0.95s, Get Pauli Ops - 15.1s, Calculate Pauli Expectation Values - 6.17s, Calculate Covariance - 2.67s\n",
      "f0,f1,f2 = [3.0425722065616123e-09, 3.0425722065028023e-09, 2.4117198901438423e-09]\n",
      "d01,d02,d12 = [0.9458356506333547, 0.9462163184116775, 0.9462163184097963]\n"
     ]
    },
    {
     "name": "stderr",
     "output_type": "stream",
     "text": [
      "Progress:  20%|█▉        | 59/300 [25:59<1:43:08, 25.68s/it]"
     ]
    },
    {
     "name": "stdout",
     "output_type": "stream",
     "text": [
      "Time to: Calculate Ground State - 1.39s, Get Pauli Ops - 16.77s, Calculate Pauli Expectation Values - 4.68s, Calculate Covariance - 2.99s\n",
      "f0,f1,f2 = [1.6577816216941083e-09, 1.65778162175575e-09, 2.0195479408672973e-09]\n",
      "d01,d02,d12 = [0.9664581251469291, 0.966918532086437, 0.9669185320846]\n"
     ]
    },
    {
     "name": "stderr",
     "output_type": "stream",
     "text": [
      "Progress:  20%|██        | 60/300 [26:24<1:42:35, 25.65s/it]"
     ]
    },
    {
     "name": "stdout",
     "output_type": "stream",
     "text": [
      "Time to: Calculate Ground State - 1.31s, Get Pauli Ops - 15.77s, Calculate Pauli Expectation Values - 6.05s, Calculate Covariance - 2.44s\n",
      "f0,f1,f2 = [1.0136224030021763e-09, 1.0136224029381929e-09, 4.537429363319946e-10]\n",
      "d01,d02,d12 = [0.9871925762241409, 0.9877219013343982, 0.9877219013325758]\n"
     ]
    },
    {
     "name": "stderr",
     "output_type": "stream",
     "text": [
      "Progress:  20%|██        | 61/300 [26:48<1:40:18, 25.18s/it]"
     ]
    },
    {
     "name": "stdout",
     "output_type": "stream",
     "text": [
      "Time to: Calculate Ground State - 1.03s, Get Pauli Ops - 15.32s, Calculate Pauli Expectation Values - 5.22s, Calculate Covariance - 2.51s\n",
      "f0,f1,f2 = [1.195027644168947e-10, 1.1950276439706796e-10, 3.8230377764935343e-13]\n",
      "d01,d02,d12 = [1.00767888695998, 1.0082761976954338, 1.008276197693635]\n"
     ]
    },
    {
     "name": "stderr",
     "output_type": "stream",
     "text": [
      "Progress:  21%|██        | 62/300 [27:18<1:45:06, 26.50s/it]"
     ]
    },
    {
     "name": "stdout",
     "output_type": "stream",
     "text": [
      "Time to: Calculate Ground State - 1.02s, Get Pauli Ops - 17.89s, Calculate Pauli Expectation Values - 7.68s, Calculate Covariance - 2.96s\n",
      "f0,f1,f2 = [1.5661581303357818e-09, 1.5661581299942023e-09, 1.5141580085610692e-10]\n",
      "d01,d02,d12 = [1.027609363313234, 1.0282702449310723, 1.028270244929304]\n"
     ]
    },
    {
     "name": "stderr",
     "output_type": "stream",
     "text": [
      "Progress:  21%|██        | 63/300 [27:46<1:46:38, 27.00s/it]"
     ]
    },
    {
     "name": "stdout",
     "output_type": "stream",
     "text": [
      "Time to: Calculate Ground State - 1.16s, Get Pauli Ops - 18.74s, Calculate Pauli Expectation Values - 4.9s, Calculate Covariance - 3.35s\n",
      "f0,f1,f2 = [1.4247375982054406e-09, 1.4247375982853324e-09, 1.955040314594213e-09]\n",
      "d01,d02,d12 = [1.0466781858914973, 1.0474049768236866, 1.0474049768219535]\n"
     ]
    },
    {
     "name": "stderr",
     "output_type": "stream",
     "text": [
      "Progress:  21%|██▏       | 64/300 [28:14<1:47:10, 27.25s/it]"
     ]
    },
    {
     "name": "stdout",
     "output_type": "stream",
     "text": [
      "Time to: Calculate Ground State - 1.28s, Get Pauli Ops - 17.69s, Calculate Pauli Expectation Values - 5.34s, Calculate Covariance - 3.51s\n",
      "f0,f1,f2 = [2.7384276517543323e-09, 2.7384276515112777e-09, 1.1319671356925366e-09]\n",
      "d01,d02,d12 = [1.0646665366939665, 1.0654618057903689, 1.0654618057886993]\n"
     ]
    },
    {
     "name": "stderr",
     "output_type": "stream",
     "text": [
      "Progress:  22%|██▏       | 65/300 [28:43<1:49:07, 27.86s/it]"
     ]
    },
    {
     "name": "stdout",
     "output_type": "stream",
     "text": [
      "Time to: Calculate Ground State - 1.36s, Get Pauli Ops - 18.34s, Calculate Pauli Expectation Values - 6.16s, Calculate Covariance - 3.42s\n",
      "f0,f1,f2 = [2.520468257924015e-09, 2.5204682579508778e-09, 3.086313420525264e-09]\n",
      "d01,d02,d12 = [1.0813472693472503, 1.0822006972122287, 1.082200697210618]\n"
     ]
    },
    {
     "name": "stderr",
     "output_type": "stream",
     "text": [
      "Progress:  22%|██▏       | 66/300 [29:09<1:46:20, 27.27s/it]"
     ]
    },
    {
     "name": "stdout",
     "output_type": "stream",
     "text": [
      "Time to: Calculate Ground State - 1.04s, Get Pauli Ops - 16.47s, Calculate Pauli Expectation Values - 5.04s, Calculate Covariance - 3.32s\n",
      "f0,f1,f2 = [3.2458606528950486e-09, 3.2458606528279808e-09, 2.8753103403290367e-09]\n",
      "d01,d02,d12 = [1.0965602406352697, 1.0974726466096996, 1.0974726466081703]\n"
     ]
    },
    {
     "name": "stderr",
     "output_type": "stream",
     "text": [
      "Progress:  22%|██▏       | 67/300 [29:37<1:46:23, 27.40s/it]"
     ]
    },
    {
     "name": "stdout",
     "output_type": "stream",
     "text": [
      "Time to: Calculate Ground State - 1.27s, Get Pauli Ops - 17.08s, Calculate Pauli Expectation Values - 6.09s, Calculate Covariance - 3.25s\n",
      "f0,f1,f2 = [3.5422810414605842e-09, 3.5422810414459286e-09, 3.4254526554706988e-09]\n",
      "d01,d02,d12 = [1.1101614661275812, 1.1111386622857466, 1.1111386622843138]\n"
     ]
    },
    {
     "name": "stderr",
     "output_type": "stream",
     "text": [
      "Progress:  23%|██▎       | 68/300 [30:01<1:42:30, 26.51s/it]"
     ]
    },
    {
     "name": "stdout",
     "output_type": "stream",
     "text": [
      "Time to: Calculate Ground State - 1.08s, Get Pauli Ops - 15.49s, Calculate Pauli Expectation Values - 4.86s, Calculate Covariance - 3.0s\n",
      "f0,f1,f2 = [4.903072718402034e-09, 4.903072718098347e-09, 1.8116433179827878e-09]\n",
      "d01,d02,d12 = [1.122062423382244, 1.123152516287895, 1.1231525162866125]\n"
     ]
    },
    {
     "name": "stderr",
     "output_type": "stream",
     "text": [
      "Progress:  23%|██▎       | 69/300 [30:30<1:44:35, 27.17s/it]"
     ]
    },
    {
     "name": "stdout",
     "output_type": "stream",
     "text": [
      "Time to: Calculate Ground State - 1.26s, Get Pauli Ops - 18.48s, Calculate Pauli Expectation Values - 5.69s, Calculate Covariance - 3.27s\n",
      "f0,f1,f2 = [3.807541591611157e-09, 3.807541591599727e-09, 4.78897566045413e-09]\n",
      "d01,d02,d12 = [1.1321419058518072, 1.133323549469092, 1.1333235494679617]\n"
     ]
    },
    {
     "name": "stderr",
     "output_type": "stream",
     "text": [
      "Progress:  23%|██▎       | 70/300 [30:54<1:40:52, 26.32s/it]"
     ]
    },
    {
     "name": "stdout",
     "output_type": "stream",
     "text": [
      "Time to: Calculate Ground State - 1.07s, Get Pauli Ops - 15.75s, Calculate Pauli Expectation Values - 4.63s, Calculate Covariance - 2.88s\n",
      "f0,f1,f2 = [4.059534558452654e-09, 4.0595345585231815e-09, 4.879246759762906e-09]\n",
      "d01,d02,d12 = [1.1403348041497827, 1.1415969574515321, 1.1415969574505502]\n"
     ]
    },
    {
     "name": "stderr",
     "output_type": "stream",
     "text": [
      "Progress:  24%|██▎       | 71/300 [31:19<1:38:21, 25.77s/it]"
     ]
    },
    {
     "name": "stdout",
     "output_type": "stream",
     "text": [
      "Time to: Calculate Ground State - 1.04s, Get Pauli Ops - 16.3s, Calculate Pauli Expectation Values - 4.99s, Calculate Covariance - 2.16s\n",
      "f0,f1,f2 = [4.710427975626841e-09, 4.710427975549021e-09, 3.796899282080922e-09]\n",
      "d01,d02,d12 = [1.146613021227884, 1.147976025741702, 1.1479760257409026]\n"
     ]
    },
    {
     "name": "stderr",
     "output_type": "stream",
     "text": [
      "Progress:  24%|██▍       | 72/300 [31:44<1:37:19, 25.61s/it]"
     ]
    },
    {
     "name": "stdout",
     "output_type": "stream",
     "text": [
      "Time to: Calculate Ground State - 1.36s, Get Pauli Ops - 14.31s, Calculate Pauli Expectation Values - 6.33s, Calculate Covariance - 3.23s\n",
      "f0,f1,f2 = [4.511397613835199e-09, 4.511397613813899e-09, 4.600347959243333e-09]\n",
      "d01,d02,d12 = [1.1509329565906523, 1.1523741660613935, 1.1523741660607782]\n"
     ]
    },
    {
     "name": "stderr",
     "output_type": "stream",
     "text": [
      "Progress:  24%|██▍       | 73/300 [32:10<1:36:57, 25.63s/it]"
     ]
    },
    {
     "name": "stdout",
     "output_type": "stream",
     "text": [
      "Time to: Calculate Ground State - 1.08s, Get Pauli Ops - 17.0s, Calculate Pauli Expectation Values - 4.78s, Calculate Covariance - 2.8s\n",
      "f0,f1,f2 = [4.276144334089795e-09, 4.276144334147376e-09, 5.858507930328149e-09]\n",
      "d01,d02,d12 = [1.1532637162683335, 1.1547459119386856, 1.1547459119382502]\n"
     ]
    },
    {
     "name": "stderr",
     "output_type": "stream",
     "text": [
      "Progress:  25%|██▍       | 74/300 [32:37<1:38:17, 26.09s/it]"
     ]
    },
    {
     "name": "stdout",
     "output_type": "stream",
     "text": [
      "Time to: Calculate Ground State - 1.09s, Get Pauli Ops - 16.93s, Calculate Pauli Expectation Values - 6.04s, Calculate Covariance - 3.11s\n",
      "f0,f1,f2 = [4.990121749427225e-09, 4.990121749426204e-09, 3.879086286758596e-09]\n",
      "d01,d02,d12 = [1.1536472437261622, 1.1551852673481597, 1.1551852673478897]\n"
     ]
    },
    {
     "name": "stderr",
     "output_type": "stream",
     "text": [
      "Progress:  25%|██▌       | 75/300 [33:04<1:38:54, 26.38s/it]"
     ]
    },
    {
     "name": "stdout",
     "output_type": "stream",
     "text": [
      "Time to: Calculate Ground State - 1.02s, Get Pauli Ops - 14.85s, Calculate Pauli Expectation Values - 8.63s, Calculate Covariance - 2.52s\n",
      "f0,f1,f2 = [4.598494264234661e-09, 4.598494264240283e-09, 4.9488868166546775e-09]\n",
      "d01,d02,d12 = [1.1520733348910084, 1.1536565233627722, 1.1536565233626683]\n"
     ]
    },
    {
     "name": "stderr",
     "output_type": "stream",
     "text": [
      "Progress:  25%|██▌       | 76/300 [33:32<1:40:45, 26.99s/it]"
     ]
    },
    {
     "name": "stdout",
     "output_type": "stream",
     "text": [
      "Time to: Calculate Ground State - 1.36s, Get Pauli Ops - 19.65s, Calculate Pauli Expectation Values - 4.81s, Calculate Covariance - 2.58s\n",
      "f0,f1,f2 = [4.665773544508637e-09, 4.665773544522846e-09, 4.630009315645755e-09]\n",
      "d01,d02,d12 = [1.1486043416793317, 1.1502719645933424, 1.150271964593405]\n"
     ]
    },
    {
     "name": "stderr",
     "output_type": "stream",
     "text": [
      "Progress:  26%|██▌       | 77/300 [33:57<1:37:12, 26.16s/it]"
     ]
    },
    {
     "name": "stdout",
     "output_type": "stream",
     "text": [
      "Time to: Calculate Ground State - 1.33s, Get Pauli Ops - 15.57s, Calculate Pauli Expectation Values - 4.68s, Calculate Covariance - 2.62s\n",
      "f0,f1,f2 = [4.971825654072742e-09, 4.971825653994334e-09, 3.5849601968578317e-09]\n",
      "d01,d02,d12 = [1.14329151607528, 1.1450687323056497, 1.1450687323058886]\n"
     ]
    },
    {
     "name": "stderr",
     "output_type": "stream",
     "text": [
      "Progress:  26%|██▌       | 78/300 [34:22<1:36:15, 26.01s/it]"
     ]
    },
    {
     "name": "stdout",
     "output_type": "stream",
     "text": [
      "Time to: Calculate Ground State - 1.01s, Get Pauli Ops - 17.34s, Calculate Pauli Expectation Values - 4.65s, Calculate Covariance - 2.67s\n",
      "f0,f1,f2 = [4.450890564026654e-09, 4.450890564035405e-09, 4.647091171341232e-09]\n",
      "d01,d02,d12 = [1.1361731121178704, 1.1380696703043598, 1.1380696703047637]\n"
     ]
    },
    {
     "name": "stderr",
     "output_type": "stream",
     "text": [
      "Progress:  26%|██▋       | 79/300 [34:46<1:33:17, 25.33s/it]"
     ]
    },
    {
     "name": "stdout",
     "output_type": "stream",
     "text": [
      "Time to: Calculate Ground State - 0.96s, Get Pauli Ops - 14.96s, Calculate Pauli Expectation Values - 5.19s, Calculate Covariance - 2.6s\n",
      "f0,f1,f2 = [3.990636882373678e-09, 3.990636882383744e-09, 5.82323691428265e-09]\n",
      "d01,d02,d12 = [1.1272820356708633, 1.129222841145691, 1.1292228411462786]\n"
     ]
    },
    {
     "name": "stderr",
     "output_type": "stream",
     "text": [
      "Progress:  27%|██▋       | 80/300 [35:14<1:35:25, 26.02s/it]"
     ]
    },
    {
     "name": "stdout",
     "output_type": "stream",
     "text": [
      "Time to: Calculate Ground State - 1.01s, Get Pauli Ops - 18.47s, Calculate Pauli Expectation Values - 5.35s, Calculate Covariance - 2.82s\n",
      "f0,f1,f2 = [4.014791143902901e-09, 4.014791143905809e-09, 4.829205307359864e-09]\n",
      "d01,d02,d12 = [1.1166969862738219, 1.1185846291673098, 1.1185846291680912]\n"
     ]
    },
    {
     "name": "stderr",
     "output_type": "stream",
     "text": [
      "Progress:  27%|██▋       | 81/300 [35:41<1:36:26, 26.42s/it]"
     ]
    },
    {
     "name": "stdout",
     "output_type": "stream",
     "text": [
      "Time to: Calculate Ground State - 1.24s, Get Pauli Ops - 18.32s, Calculate Pauli Expectation Values - 5.67s, Calculate Covariance - 2.1s\n",
      "f0,f1,f2 = [3.980316259923615e-09, 3.980316259895862e-09, 3.960695900126171e-09]\n",
      "d01,d02,d12 = [1.1045997573295483, 1.1064788978378168, 1.1064788978387865]\n"
     ]
    },
    {
     "name": "stderr",
     "output_type": "stream",
     "text": [
      "Progress:  27%|██▋       | 82/300 [36:07<1:35:14, 26.21s/it]"
     ]
    },
    {
     "name": "stdout",
     "output_type": "stream",
     "text": [
      "Time to: Calculate Ground State - 1.09s, Get Pauli Ops - 16.75s, Calculate Pauli Expectation Values - 4.96s, Calculate Covariance - 2.92s\n",
      "f0,f1,f2 = [3.5488772382730855e-09, 3.5488772382827627e-09, 4.320578490533931e-09]\n",
      "d01,d02,d12 = [1.0910996050403128, 1.0930306082749168, 1.0930306082760513]\n"
     ]
    },
    {
     "name": "stderr",
     "output_type": "stream",
     "text": [
      "Progress:  28%|██▊       | 83/300 [36:35<1:37:00, 26.82s/it]"
     ]
    },
    {
     "name": "stdout",
     "output_type": "stream",
     "text": [
      "Time to: Calculate Ground State - 1.35s, Get Pauli Ops - 18.01s, Calculate Pauli Expectation Values - 6.12s, Calculate Covariance - 2.75s\n",
      "f0,f1,f2 = [3.3083298787918566e-09, 3.3083298787842515e-09, 3.597299458771867e-09]\n",
      "d01,d02,d12 = [1.0763356222970728, 1.0782940553067426, 1.0782940553080484]\n"
     ]
    },
    {
     "name": "stderr",
     "output_type": "stream",
     "text": [
      "Progress:  28%|██▊       | 84/300 [37:01<1:35:32, 26.54s/it]"
     ]
    },
    {
     "name": "stdout",
     "output_type": "stream",
     "text": [
      "Time to: Calculate Ground State - 1.08s, Get Pauli Ops - 15.89s, Calculate Pauli Expectation Values - 5.29s, Calculate Covariance - 3.61s\n",
      "f0,f1,f2 = [2.957135479846685e-09, 2.957135479847558e-09, 3.3118904021543062e-09]\n",
      "d01,d02,d12 = [1.0604010360058604, 1.0622345592819318, 1.062234559283486]\n"
     ]
    },
    {
     "name": "stderr",
     "output_type": "stream",
     "text": [
      "Progress:  28%|██▊       | 85/300 [37:30<1:38:09, 27.39s/it]"
     ]
    },
    {
     "name": "stdout",
     "output_type": "stream",
     "text": [
      "Time to: Calculate Ground State - 1.03s, Get Pauli Ops - 19.35s, Calculate Pauli Expectation Values - 5.57s, Calculate Covariance - 3.42s\n",
      "f0,f1,f2 = [2.4334638885336087e-09, 2.4334638885372905e-09, 3.139313500300934e-09]\n",
      "d01,d02,d12 = [1.0435536944359711, 1.0452650430707915, 1.0452650430725754]\n"
     ]
    },
    {
     "name": "stderr",
     "output_type": "stream",
     "text": [
      "Progress:  29%|██▊       | 86/300 [37:58<1:37:34, 27.36s/it]"
     ]
    },
    {
     "name": "stdout",
     "output_type": "stream",
     "text": [
      "Time to: Calculate Ground State - 1.04s, Get Pauli Ops - 18.02s, Calculate Pauli Expectation Values - 5.57s, Calculate Covariance - 2.65s\n",
      "f0,f1,f2 = [2.4140591320750656e-09, 2.4140591322012234e-09, 1.294655375805331e-09]\n",
      "d01,d02,d12 = [1.026053141590434, 1.0276202062157713, 1.027620206217774]\n"
     ]
    },
    {
     "name": "stderr",
     "output_type": "stream",
     "text": [
      "Progress:  29%|██▉       | 87/300 [38:25<1:37:14, 27.39s/it]"
     ]
    },
    {
     "name": "stdout",
     "output_type": "stream",
     "text": [
      "Time to: Calculate Ground State - 1.02s, Get Pauli Ops - 18.08s, Calculate Pauli Expectation Values - 5.33s, Calculate Covariance - 3.02s\n",
      "f0,f1,f2 = [1.5538838374526758e-09, 1.5538838374618066e-09, 1.4496380358754133e-09]\n",
      "d01,d02,d12 = [1.0081145673748204, 1.009530812951622, 1.0095308129538345]\n"
     ]
    },
    {
     "name": "stderr",
     "output_type": "stream",
     "text": [
      "Progress:  29%|██▉       | 88/300 [38:50<1:34:12, 26.66s/it]"
     ]
    },
    {
     "name": "stdout",
     "output_type": "stream",
     "text": [
      "Time to: Calculate Ground State - 1.28s, Get Pauli Ops - 15.62s, Calculate Pauli Expectation Values - 5.05s, Calculate Covariance - 3.01s\n",
      "f0,f1,f2 = [1.1551480339575365e-09, 1.15514803404774e-09, 3.829713497092066e-10]\n",
      "d01,d02,d12 = [0.9900070810040691, 0.9912187997438774, 0.9912187997463555]\n"
     ]
    },
    {
     "name": "stderr",
     "output_type": "stream",
     "text": [
      "Progress:  30%|██▉       | 89/300 [39:14<1:30:52, 25.84s/it]"
     ]
    },
    {
     "name": "stdout",
     "output_type": "stream",
     "text": [
      "Time to: Calculate Ground State - 1.35s, Get Pauli Ops - 14.42s, Calculate Pauli Expectation Values - 5.19s, Calculate Covariance - 2.96s\n",
      "f0,f1,f2 = [4.002496303754912e-10, 4.0024963059566216e-10, 7.966635054642081e-10]\n",
      "d01,d02,d12 = [0.9719615923748413, 0.9728719945481483, 0.9728719945510459]\n"
     ]
    },
    {
     "name": "stderr",
     "output_type": "stream",
     "text": [
      "Progress:  30%|███       | 90/300 [39:41<1:31:47, 26.22s/it]"
     ]
    },
    {
     "name": "stdout",
     "output_type": "stream",
     "text": [
      "Time to: Calculate Ground State - 1.39s, Get Pauli Ops - 17.66s, Calculate Pauli Expectation Values - 5.08s, Calculate Covariance - 2.98s\n",
      "f0,f1,f2 = [8.660515308304262e-10, 8.660515308899294e-10, 1.7937333224283202e-11]\n",
      "d01,d02,d12 = [0.9543020766485806, 0.9548797616813912, 0.9548797616847325]\n"
     ]
    },
    {
     "name": "stderr",
     "output_type": "stream",
     "text": [
      "Progress:  30%|███       | 91/300 [40:10<1:34:24, 27.10s/it]"
     ]
    },
    {
     "name": "stdout",
     "output_type": "stream",
     "text": [
      "Time to: Calculate Ground State - 1.36s, Get Pauli Ops - 19.43s, Calculate Pauli Expectation Values - 5.22s, Calculate Covariance - 3.14s\n",
      "f0,f1,f2 = [1.2143037586734503e-09, 1.214303758827195e-09, 2.3482519895025307e-09]\n",
      "d01,d02,d12 = [0.9374521677832183, 0.9377037725177639, 0.9377037725214188]\n"
     ]
    },
    {
     "name": "stderr",
     "output_type": "stream",
     "text": [
      "Progress:  31%|███       | 92/300 [40:39<1:35:17, 27.49s/it]"
     ]
    },
    {
     "name": "stdout",
     "output_type": "stream",
     "text": [
      "Time to: Calculate Ground State - 1.25s, Get Pauli Ops - 19.3s, Calculate Pauli Expectation Values - 5.15s, Calculate Covariance - 2.68s\n",
      "f0,f1,f2 = [2.148454202882064e-09, 2.1484542027652347e-09, 2.346385516070204e-09]\n",
      "d01,d02,d12 = [0.9217083662808649, 0.9216204407477899, 0.9216204407519412]\n"
     ]
    },
    {
     "name": "stderr",
     "output_type": "stream",
     "text": [
      "Progress:  31%|███       | 93/300 [41:03<1:32:10, 26.72s/it]"
     ]
    },
    {
     "name": "stdout",
     "output_type": "stream",
     "text": [
      "Time to: Calculate Ground State - 1.07s, Get Pauli Ops - 14.85s, Calculate Pauli Expectation Values - 5.78s, Calculate Covariance - 3.19s\n",
      "f0,f1,f2 = [3.4462090563566145e-09, 3.4462090559429498e-09, 2.368638503887611e-09]\n",
      "d01,d02,d12 = [0.9073663043496574, 0.9069376974912567, 0.9069376974957861]\n"
     ]
    },
    {
     "name": "stderr",
     "output_type": "stream",
     "text": [
      "Progress:  31%|███▏      | 94/300 [41:31<1:32:34, 26.96s/it]"
     ]
    },
    {
     "name": "stdout",
     "output_type": "stream",
     "text": [
      "Time to: Calculate Ground State - 1.13s, Get Pauli Ops - 15.2s, Calculate Pauli Expectation Values - 8.27s, Calculate Covariance - 2.93s\n",
      "f0,f1,f2 = [3.60657338790044e-09, 3.6065733879875145e-09, 4.658827753043813e-09]\n",
      "d01,d02,d12 = [0.89484278592147, 0.8941058185591351, 0.8941058185642631]\n"
     ]
    },
    {
     "name": "stderr",
     "output_type": "stream",
     "text": [
      "Progress:  32%|███▏      | 95/300 [41:55<1:28:55, 26.03s/it]"
     ]
    },
    {
     "name": "stdout",
     "output_type": "stream",
     "text": [
      "Time to: Calculate Ground State - 0.99s, Get Pauli Ops - 13.67s, Calculate Pauli Expectation Values - 5.53s, Calculate Covariance - 3.64s\n",
      "f0,f1,f2 = [5.015329591852972e-09, 5.015329591344378e-09, 4.0215296082887684e-09]\n",
      "d01,d02,d12 = [0.8843613955467129, 0.883289675892763, 0.8832896758982087]\n"
     ]
    },
    {
     "name": "stderr",
     "output_type": "stream",
     "text": [
      "Progress:  32%|███▏      | 96/300 [42:21<1:28:41, 26.09s/it]"
     ]
    },
    {
     "name": "stdout",
     "output_type": "stream",
     "text": [
      "Time to: Calculate Ground State - 1.26s, Get Pauli Ops - 16.71s, Calculate Pauli Expectation Values - 5.21s, Calculate Covariance - 3.03s\n",
      "f0,f1,f2 = [5.9947553408135925e-09, 5.9947553399005936e-09, 4.014580371826304e-09]\n",
      "d01,d02,d12 = [0.8761141583581415, 0.8746338872862384, 0.874633887291567]\n"
     ]
    },
    {
     "name": "stderr",
     "output_type": "stream",
     "text": [
      "Progress:  32%|███▏      | 97/300 [42:50<1:30:40, 26.80s/it]"
     ]
    },
    {
     "name": "stdout",
     "output_type": "stream",
     "text": [
      "Time to: Calculate Ground State - 0.76s, Get Pauli Ops - 18.81s, Calculate Pauli Expectation Values - 5.68s, Calculate Covariance - 3.21s\n",
      "f0,f1,f2 = [5.613426623641139e-09, 5.613426623714672e-09, 7.2188518405412765e-09]\n",
      "d01,d02,d12 = [0.8705272511672617, 0.8686932481416821, 0.8686932481469208]\n"
     ]
    },
    {
     "name": "stderr",
     "output_type": "stream",
     "text": [
      "Progress:  33%|███▎      | 98/300 [43:15<1:29:09, 26.48s/it]"
     ]
    },
    {
     "name": "stdout",
     "output_type": "stream",
     "text": [
      "Time to: Calculate Ground State - 1.23s, Get Pauli Ops - 15.11s, Calculate Pauli Expectation Values - 7.24s, Calculate Covariance - 2.14s\n",
      "f0,f1,f2 = [6.323152666806348e-09, 6.3231526668165434e-09, 6.476608827001445e-09]\n",
      "d01,d02,d12 = [0.8676494226634972, 0.8655352157268006, 0.8655352157319955]\n"
     ]
    },
    {
     "name": "stderr",
     "output_type": "stream",
     "text": [
      "Progress:  33%|███▎      | 99/300 [43:43<1:30:09, 26.91s/it]"
     ]
    },
    {
     "name": "stdout",
     "output_type": "stream",
     "text": [
      "Time to: Calculate Ground State - 0.86s, Get Pauli Ops - 17.37s, Calculate Pauli Expectation Values - 7.23s, Calculate Covariance - 2.46s\n",
      "f0,f1,f2 = [6.4508003506727495e-09, 6.450800350678633e-09, 7.132020659427486e-09]\n",
      "d01,d02,d12 = [0.8676026567991708, 0.8653916454237278, 0.865391645429012]\n"
     ]
    },
    {
     "name": "stderr",
     "output_type": "stream",
     "text": [
      "Progress:  33%|███▎      | 100/300 [44:12<1:31:17, 27.39s/it]"
     ]
    },
    {
     "name": "stdout",
     "output_type": "stream",
     "text": [
      "Time to: Calculate Ground State - 1.0s, Get Pauli Ops - 16.65s, Calculate Pauli Expectation Values - 7.73s, Calculate Covariance - 3.11s\n",
      "f0,f1,f2 = [6.505426008474552e-09, 6.5054260084095874e-09, 7.0825731337600756e-09]\n",
      "d01,d02,d12 = [0.8703289270264959, 0.868088341351605, 0.8680883413569812]\n"
     ]
    },
    {
     "name": "stderr",
     "output_type": "stream",
     "text": [
      "Progress:  34%|███▎      | 101/300 [44:42<1:33:34, 28.21s/it]"
     ]
    },
    {
     "name": "stdout",
     "output_type": "stream",
     "text": [
      "Time to: Calculate Ground State - 1.34s, Get Pauli Ops - 19.24s, Calculate Pauli Expectation Values - 6.19s, Calculate Covariance - 3.35s\n",
      "f0,f1,f2 = [6.603189366429121e-09, 6.603189365984223e-09, 5.668660098572795e-09]\n",
      "d01,d02,d12 = [0.8756123270876083, 0.8733062496613905, 0.873306249666668]\n"
     ]
    },
    {
     "name": "stderr",
     "output_type": "stream",
     "text": [
      "Progress:  34%|███▍      | 102/300 [45:10<1:32:41, 28.09s/it]"
     ]
    },
    {
     "name": "stdout",
     "output_type": "stream",
     "text": [
      "Time to: Calculate Ground State - 1.2s, Get Pauli Ops - 17.11s, Calculate Pauli Expectation Values - 7.2s, Calculate Covariance - 2.29s\n",
      "f0,f1,f2 = [5.929897231735958e-09, 5.929897231615942e-09, 6.425783955222996e-09]\n",
      "d01,d02,d12 = [0.8833434961916184, 0.8809927953118752, 0.8809927953169997]\n"
     ]
    },
    {
     "name": "stderr",
     "output_type": "stream",
     "text": [
      "Progress:  34%|███▍      | 103/300 [45:39<1:33:11, 28.38s/it]"
     ]
    },
    {
     "name": "stdout",
     "output_type": "stream",
     "text": [
      "Time to: Calculate Ground State - 1.1s, Get Pauli Ops - 19.79s, Calculate Pauli Expectation Values - 4.95s, Calculate Covariance - 3.22s\n",
      "f0,f1,f2 = [5.616196173649694e-09, 5.616196173393168e-09, 5.056086153726924e-09]\n",
      "d01,d02,d12 = [0.8932329422581455, 0.8908345466426397, 0.8908345466474987]\n"
     ]
    },
    {
     "name": "stderr",
     "output_type": "stream",
     "text": [
      "Progress:  35%|███▍      | 104/300 [46:11<1:36:39, 29.59s/it]"
     ]
    },
    {
     "name": "stdout",
     "output_type": "stream",
     "text": [
      "Time to: Calculate Ground State - 1.37s, Get Pauli Ops - 23.36s, Calculate Pauli Expectation Values - 4.8s, Calculate Covariance - 2.86s\n",
      "f0,f1,f2 = [5.108284402656872e-09, 5.108284402263413e-09, 3.9153855684518835e-09]\n",
      "d01,d02,d12 = [0.9049964519517595, 0.9025641356097888, 0.9025641356143239]\n"
     ]
    },
    {
     "name": "stderr",
     "output_type": "stream",
     "text": [
      "Progress:  35%|███▌      | 105/300 [46:40<1:35:29, 29.38s/it]"
     ]
    },
    {
     "name": "stdout",
     "output_type": "stream",
     "text": [
      "Time to: Calculate Ground State - 1.38s, Get Pauli Ops - 17.27s, Calculate Pauli Expectation Values - 7.24s, Calculate Covariance - 2.99s\n",
      "f0,f1,f2 = [3.973223611926587e-09, 3.973223612057597e-09, 4.575407532360915e-09]\n",
      "d01,d02,d12 = [0.9183364999254682, 0.9158919071017937, 0.9158919071059768]\n"
     ]
    },
    {
     "name": "stderr",
     "output_type": "stream",
     "text": [
      "Progress:  35%|███▌      | 106/300 [47:09<1:34:29, 29.22s/it]"
     ]
    },
    {
     "name": "stdout",
     "output_type": "stream",
     "text": [
      "Time to: Calculate Ground State - 1.35s, Get Pauli Ops - 19.08s, Calculate Pauli Expectation Values - 4.96s, Calculate Covariance - 3.45s\n",
      "f0,f1,f2 = [3.388938904182779e-09, 3.3889389039534842e-09, 3.2664776921440045e-09]\n",
      "d01,d02,d12 = [0.9329052329282868, 0.9304598266434402, 0.9304598266472124]\n"
     ]
    },
    {
     "name": "stderr",
     "output_type": "stream",
     "text": [
      "Progress:  36%|███▌      | 107/300 [47:38<1:33:46, 29.15s/it]"
     ]
    },
    {
     "name": "stdout",
     "output_type": "stream",
     "text": [
      "Time to: Calculate Ground State - 1.34s, Get Pauli Ops - 17.52s, Calculate Pauli Expectation Values - 6.71s, Calculate Covariance - 3.42s\n",
      "f0,f1,f2 = [2.55736805759091e-09, 2.5573680574661533e-09, 2.502360576834428e-09]\n",
      "d01,d02,d12 = [0.9483579413770393, 0.9459384693572226, 0.9459384693605617]\n"
     ]
    },
    {
     "name": "stderr",
     "output_type": "stream",
     "text": [
      "Progress:  36%|███▌      | 108/300 [48:06<1:32:22, 28.87s/it]"
     ]
    },
    {
     "name": "stdout",
     "output_type": "stream",
     "text": [
      "Time to: Calculate Ground State - 1.04s, Get Pauli Ops - 19.24s, Calculate Pauli Expectation Values - 5.06s, Calculate Covariance - 2.85s\n",
      "f0,f1,f2 = [1.9341358923420467e-09, 1.934135892069448e-09, 1.0421261083074694e-09]\n",
      "d01,d02,d12 = [0.9643406481024583, 0.9619364273528134, 0.9619364273556734]\n"
     ]
    },
    {
     "name": "stderr",
     "output_type": "stream",
     "text": [
      "Progress:  36%|███▋      | 109/300 [48:33<1:29:38, 28.16s/it]"
     ]
    },
    {
     "name": "stdout",
     "output_type": "stream",
     "text": [
      "Time to: Calculate Ground State - 1.08s, Get Pauli Ops - 17.4s, Calculate Pauli Expectation Values - 5.05s, Calculate Covariance - 2.98s\n",
      "f0,f1,f2 = [8.862782202732459e-10, 8.862782201672649e-10, 1.5535799659089177e-09]\n",
      "d01,d02,d12 = [0.9805641108237435, 0.9782072034420941, 0.9782072034444406]\n"
     ]
    },
    {
     "name": "stderr",
     "output_type": "stream",
     "text": [
      "Progress:  37%|███▋      | 110/300 [48:57<1:25:39, 27.05s/it]"
     ]
    },
    {
     "name": "stdout",
     "output_type": "stream",
     "text": [
      "Time to: Calculate Ground State - 0.99s, Get Pauli Ops - 15.09s, Calculate Pauli Expectation Values - 5.33s, Calculate Covariance - 3.03s\n",
      "f0,f1,f2 = [4.1541936405522203e-10, 4.154193637801692e-10, 1.0830644130725067e-09]\n",
      "d01,d02,d12 = [0.9967419289137978, 0.9944803838590919, 0.994480383860925]\n"
     ]
    },
    {
     "name": "stderr",
     "output_type": "stream",
     "text": [
      "Progress:  37%|███▋      | 111/300 [49:25<1:26:04, 27.33s/it]"
     ]
    },
    {
     "name": "stdout",
     "output_type": "stream",
     "text": [
      "Time to: Calculate Ground State - 1.23s, Get Pauli Ops - 18.15s, Calculate Pauli Expectation Values - 5.45s, Calculate Covariance - 3.14s\n",
      "f0,f1,f2 = [5.611127642850573e-10, 5.611127642260249e-10, 9.926575231891508e-11]\n",
      "d01,d02,d12 = [1.012592450490374, 1.010448942698231, 1.0104489426995475]\n"
     ]
    },
    {
     "name": "stderr",
     "output_type": "stream",
     "text": [
      "Progress:  37%|███▋      | 112/300 [49:51<1:24:50, 27.08s/it]"
     ]
    },
    {
     "name": "stdout",
     "output_type": "stream",
     "text": [
      "Time to: Calculate Ground State - 1.15s, Get Pauli Ops - 16.66s, Calculate Pauli Expectation Values - 5.83s, Calculate Covariance - 2.84s\n",
      "f0,f1,f2 = [1.111920596883041e-09, 1.1119205968591719e-09, 5.627843403177789e-10]\n",
      "d01,d02,d12 = [1.0278716725173136, 1.025874900850282, 1.0258749008510875]\n"
     ]
    },
    {
     "name": "stderr",
     "output_type": "stream",
     "text": [
      "Progress:  38%|███▊      | 113/300 [50:21<1:27:08, 27.96s/it]"
     ]
    },
    {
     "name": "stdout",
     "output_type": "stream",
     "text": [
      "Time to: Calculate Ground State - 0.86s, Get Pauli Ops - 18.36s, Calculate Pauli Expectation Values - 7.84s, Calculate Covariance - 2.96s\n",
      "f0,f1,f2 = [1.4090994938567646e-09, 1.4090994938387689e-09, 2.0756216796856957e-09]\n",
      "d01,d02,d12 = [1.0423387747817874, 1.0404791720450046, 1.0404791720452895]\n"
     ]
    },
    {
     "name": "stderr",
     "output_type": "stream",
     "text": [
      "Progress:  38%|███▊      | 114/300 [50:50<1:27:11, 28.13s/it]"
     ]
    },
    {
     "name": "stdout",
     "output_type": "stream",
     "text": [
      "Time to: Calculate Ground State - 0.76s, Get Pauli Ops - 18.46s, Calculate Pauli Expectation Values - 6.53s, Calculate Covariance - 2.77s\n",
      "f0,f1,f2 = [1.7982573809296861e-09, 1.798257380876416e-09, 3.1482817877114085e-09]\n",
      "d01,d02,d12 = [1.0558045917091814, 1.0540750926385185, 1.0540750926382583]\n"
     ]
    },
    {
     "name": "stderr",
     "output_type": "stream",
     "text": [
      "Progress:  38%|███▊      | 115/300 [51:15<1:23:36, 27.12s/it]"
     ]
    },
    {
     "name": "stdout",
     "output_type": "stream",
     "text": [
      "Time to: Calculate Ground State - 1.35s, Get Pauli Ops - 15.14s, Calculate Pauli Expectation Values - 5.15s, Calculate Covariance - 3.11s\n",
      "f0,f1,f2 = [2.402578300984967e-09, 2.4025783009990386e-09, 2.2595531729963517e-09]\n",
      "d01,d02,d12 = [1.068128375807492, 1.0665069274247811, 1.066506927423987]\n"
     ]
    },
    {
     "name": "stderr",
     "output_type": "stream",
     "text": [
      "Progress:  39%|███▊      | 116/300 [51:40<1:21:31, 26.58s/it]"
     ]
    },
    {
     "name": "stdout",
     "output_type": "stream",
     "text": [
      "Time to: Calculate Ground State - 1.03s, Get Pauli Ops - 15.81s, Calculate Pauli Expectation Values - 5.26s, Calculate Covariance - 3.23s\n",
      "f0,f1,f2 = [3.0052667379873114e-09, 3.0052667380523866e-09, 1.994249651224181e-09]\n",
      "d01,d02,d12 = [1.0791893275353432, 1.0776584362732495, 1.0776584362719268]\n"
     ]
    },
    {
     "name": "stderr",
     "output_type": "stream",
     "text": [
      "Progress:  39%|███▉      | 117/300 [52:08<1:22:22, 27.01s/it]"
     ]
    },
    {
     "name": "stdout",
     "output_type": "stream",
     "text": [
      "Time to: Calculate Ground State - 1.13s, Get Pauli Ops - 18.36s, Calculate Pauli Expectation Values - 5.64s, Calculate Covariance - 2.86s\n",
      "f0,f1,f2 = [3.648873965271479e-09, 3.6488739654540996e-09, 1.575305126537286e-09]\n",
      "d01,d02,d12 = [1.0889214430169933, 1.0875310119646293, 1.0875310119627581]\n"
     ]
    },
    {
     "name": "stderr",
     "output_type": "stream",
     "text": [
      "Progress:  39%|███▉      | 118/300 [52:35<1:21:57, 27.02s/it]"
     ]
    },
    {
     "name": "stdout",
     "output_type": "stream",
     "text": [
      "Time to: Calculate Ground State - 1.34s, Get Pauli Ops - 15.84s, Calculate Pauli Expectation Values - 6.5s, Calculate Covariance - 3.37s\n",
      "f0,f1,f2 = [3.493473833434876e-09, 3.493473833467061e-09, 2.772042318023389e-09]\n",
      "d01,d02,d12 = [1.0971957025420296, 1.0959509513301218, 1.0959509513277013]\n"
     ]
    },
    {
     "name": "stderr",
     "output_type": "stream",
     "text": [
      "Progress:  40%|███▉      | 119/300 [53:02<1:21:25, 26.99s/it]"
     ]
    },
    {
     "name": "stdout",
     "output_type": "stream",
     "text": [
      "Time to: Calculate Ground State - 1.01s, Get Pauli Ops - 17.31s, Calculate Pauli Expectation Values - 5.15s, Calculate Covariance - 3.44s\n",
      "f0,f1,f2 = [4.0172938399081375e-09, 4.017293840138506e-09, 2.2845334310646484e-09]\n",
      "d01,d02,d12 = [1.1039766011421304, 1.102928657501902, 1.102928657498873]\n"
     ]
    },
    {
     "name": "stderr",
     "output_type": "stream",
     "text": [
      "Progress:  40%|████      | 120/300 [53:30<1:21:59, 27.33s/it]"
     ]
    },
    {
     "name": "stdout",
     "output_type": "stream",
     "text": [
      "Time to: Calculate Ground State - 1.13s, Get Pauli Ops - 18.77s, Calculate Pauli Expectation Values - 5.14s, Calculate Covariance - 3.08s\n",
      "f0,f1,f2 = [3.4581576869188546e-09, 3.4581576868294e-09, 4.1873538832037734e-09]\n",
      "d01,d02,d12 = [1.1091438192955219, 1.1082373492252728, 1.1082373492217639]\n"
     ]
    },
    {
     "name": "stderr",
     "output_type": "stream",
     "text": [
      "Progress:  40%|████      | 121/300 [53:56<1:19:49, 26.76s/it]"
     ]
    },
    {
     "name": "stdout",
     "output_type": "stream",
     "text": [
      "Time to: Calculate Ground State - 1.22s, Get Pauli Ops - 15.55s, Calculate Pauli Expectation Values - 5.06s, Calculate Covariance - 3.58s\n",
      "f0,f1,f2 = [3.6772887166867416e-09, 3.6772887166495714e-09, 3.9979499259500995e-09]\n",
      "d01,d02,d12 = [1.1126865797899355, 1.1119399135646224, 1.1119399135605736]\n"
     ]
    },
    {
     "name": "stderr",
     "output_type": "stream",
     "text": [
      "Progress:  41%|████      | 122/300 [54:24<1:20:29, 27.13s/it]"
     ]
    },
    {
     "name": "stdout",
     "output_type": "stream",
     "text": [
      "Time to: Calculate Ground State - 1.39s, Get Pauli Ops - 19.01s, Calculate Pauli Expectation Values - 4.94s, Calculate Covariance - 2.67s\n",
      "f0,f1,f2 = [3.911913252984029e-09, 3.911913252956565e-09, 3.6884310843079443e-09]\n",
      "d01,d02,d12 = [1.1145955568810604, 1.1139945575866876, 1.113994557582224]\n"
     ]
    },
    {
     "name": "stderr",
     "output_type": "stream",
     "text": [
      "Progress:  41%|████      | 123/300 [54:48<1:17:42, 26.34s/it]"
     ]
    },
    {
     "name": "stdout",
     "output_type": "stream",
     "text": [
      "Time to: Calculate Ground State - 1.0s, Get Pauli Ops - 15.57s, Calculate Pauli Expectation Values - 5.34s, Calculate Covariance - 2.57s\n",
      "f0,f1,f2 = [3.5403603255787237e-09, 3.5403603253932045e-09, 4.8927488426685706e-09]\n",
      "d01,d02,d12 = [1.1148248700028065, 1.1143331190254435, 1.114333119020805]\n"
     ]
    },
    {
     "name": "stderr",
     "output_type": "stream",
     "text": [
      "Progress:  41%|████▏     | 124/300 [55:15<1:18:02, 26.61s/it]"
     ]
    },
    {
     "name": "stdout",
     "output_type": "stream",
     "text": [
      "Time to: Calculate Ground State - 1.06s, Get Pauli Ops - 18.79s, Calculate Pauli Expectation Values - 4.86s, Calculate Covariance - 2.51s\n",
      "f0,f1,f2 = [4.285023082046332e-09, 4.28502308235062e-09, 3.1292753958140554e-09]\n",
      "d01,d02,d12 = [1.1134716871981172, 1.1131323458488374, 1.1131323458436948]\n"
     ]
    },
    {
     "name": "stderr",
     "output_type": "stream",
     "text": [
      "Progress:  42%|████▏     | 125/300 [55:39<1:15:03, 25.73s/it]"
     ]
    },
    {
     "name": "stdout",
     "output_type": "stream",
     "text": [
      "Time to: Calculate Ground State - 0.92s, Get Pauli Ops - 15.34s, Calculate Pauli Expectation Values - 5.05s, Calculate Covariance - 2.38s\n",
      "f0,f1,f2 = [3.892185221969362e-09, 3.8921852218787036e-09, 3.824527637131703e-09]\n",
      "d01,d02,d12 = [1.1105260883298613, 1.1103374964059642, 1.110337496400419]\n"
     ]
    },
    {
     "name": "stderr",
     "output_type": "stream",
     "text": [
      "Progress:  42%|████▏     | 126/300 [56:03<1:13:17, 25.27s/it]"
     ]
    },
    {
     "name": "stdout",
     "output_type": "stream",
     "text": [
      "Time to: Calculate Ground State - 0.93s, Get Pauli Ops - 15.84s, Calculate Pauli Expectation Values - 5.0s, Calculate Covariance - 2.41s\n",
      "f0,f1,f2 = [4.432184018347699e-09, 4.432184018979784e-09, 2.7653129756929668e-09]\n",
      "d01,d02,d12 = [1.1060613187052366, 1.106025738854497, 1.1060257388484964]\n"
     ]
    },
    {
     "name": "stderr",
     "output_type": "stream",
     "text": [
      "Progress:  42%|████▏     | 127/300 [56:31<1:15:08, 26.06s/it]"
     ]
    },
    {
     "name": "stdout",
     "output_type": "stream",
     "text": [
      "Time to: Calculate Ground State - 0.96s, Get Pauli Ops - 18.38s, Calculate Pauli Expectation Values - 5.43s, Calculate Covariance - 3.12s\n",
      "f0,f1,f2 = [3.6930278272568053e-09, 3.693027827203765e-09, 3.746241841917071e-09]\n",
      "d01,d02,d12 = [1.1001017447262516, 1.1002261374154914, 1.1002261374085132]\n"
     ]
    },
    {
     "name": "stderr",
     "output_type": "stream",
     "text": [
      "Progress:  43%|████▎     | 128/300 [56:55<1:12:31, 25.30s/it]"
     ]
    },
    {
     "name": "stdout",
     "output_type": "stream",
     "text": [
      "Time to: Calculate Ground State - 0.96s, Get Pauli Ops - 14.41s, Calculate Pauli Expectation Values - 5.08s, Calculate Covariance - 3.06s\n",
      "f0,f1,f2 = [3.847557933608479e-09, 3.847557933250302e-09, 3.0502438628091006e-09]\n",
      "d01,d02,d12 = [1.09274088312096, 1.0930267089018513, 1.0930267088940802]\n"
     ]
    },
    {
     "name": "stderr",
     "output_type": "stream",
     "text": [
      "Progress:  43%|████▎     | 129/300 [57:27<1:18:02, 27.38s/it]"
     ]
    },
    {
     "name": "stdout",
     "output_type": "stream",
     "text": [
      "Time to: Calculate Ground State - 1.52s, Get Pauli Ops - 20.33s, Calculate Pauli Expectation Values - 7.31s, Calculate Covariance - 3.07s\n",
      "f0,f1,f2 = [3.055271889271833e-09, 3.05527188941482e-09, 4.313956469661466e-09]\n",
      "d01,d02,d12 = [1.0840226954886916, 1.0844594225416524, 1.0844594225328108]\n"
     ]
    },
    {
     "name": "stderr",
     "output_type": "stream",
     "text": [
      "Progress:  43%|████▎     | 130/300 [57:56<1:19:00, 27.88s/it]"
     ]
    },
    {
     "name": "stdout",
     "output_type": "stream",
     "text": [
      "Time to: Calculate Ground State - 1.04s, Get Pauli Ops - 20.48s, Calculate Pauli Expectation Values - 4.97s, Calculate Covariance - 2.55s\n",
      "f0,f1,f2 = [3.2797890612527864e-09, 3.2797890611412427e-09, 3.0310607329783964e-09]\n",
      "d01,d02,d12 = [1.0740746662810297, 1.0746627644148399, 1.0746627644049667]\n"
     ]
    },
    {
     "name": "stderr",
     "output_type": "stream",
     "text": [
      "Progress:  44%|████▎     | 131/300 [58:22<1:16:52, 27.29s/it]"
     ]
    },
    {
     "name": "stdout",
     "output_type": "stream",
     "text": [
      "Time to: Calculate Ground State - 1.09s, Get Pauli Ops - 17.11s, Calculate Pauli Expectation Values - 4.85s, Calculate Covariance - 2.85s\n",
      "f0,f1,f2 = [2.7126083627653156e-09, 2.712608362845975e-09, 3.6087222934107204e-09]\n",
      "d01,d02,d12 = [1.0629760440395537, 1.0636873215971485, 1.0636873215858504]\n"
     ]
    },
    {
     "name": "stderr",
     "output_type": "stream",
     "text": [
      "Progress:  44%|████▍     | 132/300 [58:48<1:15:40, 27.03s/it]"
     ]
    },
    {
     "name": "stdout",
     "output_type": "stream",
     "text": [
      "Time to: Calculate Ground State - 1.36s, Get Pauli Ops - 15.72s, Calculate Pauli Expectation Values - 5.76s, Calculate Covariance - 3.55s\n",
      "f0,f1,f2 = [2.344321398627716e-09, 2.3443213971876273e-09, 4.682060193743588e-09]\n",
      "d01,d02,d12 = [1.050815843823876, 1.05156612429667, 1.0515661242827987]\n"
     ]
    },
    {
     "name": "stderr",
     "output_type": "stream",
     "text": [
      "Progress:  44%|████▍     | 133/300 [59:14<1:13:50, 26.53s/it]"
     ]
    },
    {
     "name": "stdout",
     "output_type": "stream",
     "text": [
      "Time to: Calculate Ground State - 1.14s, Get Pauli Ops - 15.61s, Calculate Pauli Expectation Values - 5.46s, Calculate Covariance - 3.15s\n",
      "f0,f1,f2 = [2.0837744620841156e-09, 2.0837744621375403e-09, 2.890783776039833e-09]\n",
      "d01,d02,d12 = [1.03779835761038, 1.038575348007199, 1.0385753479907107]\n"
     ]
    },
    {
     "name": "stderr",
     "output_type": "stream",
     "text": [
      "Progress:  45%|████▍     | 134/300 [59:38<1:11:54, 25.99s/it]"
     ]
    },
    {
     "name": "stdout",
     "output_type": "stream",
     "text": [
      "Time to: Calculate Ground State - 1.37s, Get Pauli Ops - 15.03s, Calculate Pauli Expectation Values - 4.96s, Calculate Covariance - 3.36s\n",
      "f0,f1,f2 = [2.957248827719653e-09, 2.957248823810405e-09, 1.4238791406804228e-10]\n",
      "d01,d02,d12 = [1.0242559083200797, 1.0250873479802673, 1.0250873479622251]\n"
     ]
    },
    {
     "name": "stderr",
     "output_type": "stream",
     "text": [
      "Progress:  45%|████▌     | 135/300 [1:00:07<1:13:44, 26.82s/it]"
     ]
    },
    {
     "name": "stdout",
     "output_type": "stream",
     "text": [
      "Time to: Calculate Ground State - 1.12s, Get Pauli Ops - 20.05s, Calculate Pauli Expectation Values - 4.74s, Calculate Covariance - 2.82s\n",
      "f0,f1,f2 = [1.4564396543896714e-09, 1.4564396542810882e-09, 1.437728461889924e-09]\n",
      "d01,d02,d12 = [1.0102561755823514, 1.011112772873181, 1.0111127728533151]\n"
     ]
    },
    {
     "name": "stderr",
     "output_type": "stream",
     "text": [
      "Progress:  45%|████▌     | 136/300 [1:00:33<1:12:34, 26.55s/it]"
     ]
    },
    {
     "name": "stdout",
     "output_type": "stream",
     "text": [
      "Time to: Calculate Ground State - 1.33s, Get Pauli Ops - 15.84s, Calculate Pauli Expectation Values - 5.5s, Calculate Covariance - 3.25s\n",
      "f0,f1,f2 = [9.049675590130241e-10, 9.049675590057729e-10, 1.1025843997892645e-09]\n",
      "d01,d02,d12 = [0.9960076514258479, 0.9969293280718741, 0.9969293280512415]\n"
     ]
    },
    {
     "name": "stderr",
     "output_type": "stream",
     "text": [
      "Progress:  46%|████▌     | 137/300 [1:01:03<1:15:08, 27.66s/it]"
     ]
    },
    {
     "name": "stdout",
     "output_type": "stream",
     "text": [
      "Time to: Calculate Ground State - 1.35s, Get Pauli Ops - 20.68s, Calculate Pauli Expectation Values - 4.96s, Calculate Covariance - 3.25s\n",
      "f0,f1,f2 = [5.567714954103435e-10, 5.567714935686891e-10, 1.1870946181725812e-09]\n",
      "d01,d02,d12 = [0.9816936436927042, 0.9826748752225909, 0.9826748752015192]\n"
     ]
    },
    {
     "name": "stderr",
     "output_type": "stream",
     "text": [
      "Progress:  46%|████▌     | 138/300 [1:01:29<1:13:12, 27.12s/it]"
     ]
    },
    {
     "name": "stdout",
     "output_type": "stream",
     "text": [
      "Time to: Calculate Ground State - 1.39s, Get Pauli Ops - 16.22s, Calculate Pauli Expectation Values - 4.91s, Calculate Covariance - 3.32s\n",
      "f0,f1,f2 = [3.0232868913639964e-10, 3.023286887436762e-10, 1.4634992761657462e-10]\n",
      "d01,d02,d12 = [0.9675728764833658, 0.9686252736628592, 0.9686252736418663]\n"
     ]
    },
    {
     "name": "stderr",
     "output_type": "stream",
     "text": [
      "Progress:  46%|████▋     | 139/300 [1:01:57<1:12:56, 27.18s/it]"
     ]
    },
    {
     "name": "stdout",
     "output_type": "stream",
     "text": [
      "Time to: Calculate Ground State - 1.15s, Get Pauli Ops - 18.63s, Calculate Pauli Expectation Values - 5.19s, Calculate Covariance - 2.36s\n",
      "f0,f1,f2 = [7.246808567016351e-10, 7.246808569505217e-10, 7.828728862737044e-10]\n",
      "d01,d02,d12 = [0.9539149187696159, 0.9550359581761123, 0.9550359581554067]\n"
     ]
    },
    {
     "name": "stderr",
     "output_type": "stream",
     "text": [
      "Progress:  47%|████▋     | 140/300 [1:02:22<1:11:12, 26.70s/it]"
     ]
    },
    {
     "name": "stdout",
     "output_type": "stream",
     "text": [
      "Time to: Calculate Ground State - 0.77s, Get Pauli Ops - 17.03s, Calculate Pauli Expectation Values - 5.64s, Calculate Covariance - 2.14s\n",
      "f0,f1,f2 = [1.755492612495928e-09, 1.755492610844648e-09, 5.689651815095517e-10]\n",
      "d01,d02,d12 = [0.9409050463847403, 0.9420163073819291, 0.9420163073603361]\n"
     ]
    },
    {
     "name": "stderr",
     "output_type": "stream",
     "text": [
      "Progress:  47%|████▋     | 141/300 [1:02:47<1:09:23, 26.18s/it]"
     ]
    },
    {
     "name": "stdout",
     "output_type": "stream",
     "text": [
      "Time to: Calculate Ground State - 0.79s, Get Pauli Ops - 15.48s, Calculate Pauli Expectation Values - 6.18s, Calculate Covariance - 2.51s\n",
      "f0,f1,f2 = [2.6556881222831284e-09, 2.655688120147537e-09, 7.589271091851416e-10]\n",
      "d01,d02,d12 = [0.928787717777415, 0.9297983646117762, 0.929798364588374]\n"
     ]
    },
    {
     "name": "stderr",
     "output_type": "stream",
     "text": [
      "Progress:  47%|████▋     | 142/300 [1:03:13<1:08:59, 26.20s/it]"
     ]
    },
    {
     "name": "stdout",
     "output_type": "stream",
     "text": [
      "Time to: Calculate Ground State - 1.35s, Get Pauli Ops - 16.28s, Calculate Pauli Expectation Values - 5.72s, Calculate Covariance - 2.89s\n",
      "f0,f1,f2 = [2.650006042245891e-09, 2.650006043021018e-09, 2.6037597116005972e-09]\n",
      "d01,d02,d12 = [0.9179054390043253, 0.9188445242826649, 0.9188445242584506]\n"
     ]
    },
    {
     "name": "stderr",
     "output_type": "stream",
     "text": [
      "Progress:  48%|████▊     | 143/300 [1:03:37<1:06:28, 25.41s/it]"
     ]
    },
    {
     "name": "stdout",
     "output_type": "stream",
     "text": [
      "Time to: Calculate Ground State - 1.16s, Get Pauli Ops - 15.11s, Calculate Pauli Expectation Values - 4.91s, Calculate Covariance - 2.36s\n",
      "f0,f1,f2 = [3.76741404128311e-09, 3.7674140397775725e-09, 2.1887622306939996e-09]\n",
      "d01,d02,d12 = [0.9084286051306458, 0.9093007834934089, 0.9093007834689639]\n"
     ]
    },
    {
     "name": "stderr",
     "output_type": "stream",
     "text": [
      "Progress:  48%|████▊     | 144/300 [1:04:03<1:06:47, 25.69s/it]"
     ]
    },
    {
     "name": "stdout",
     "output_type": "stream",
     "text": [
      "Time to: Calculate Ground State - 1.29s, Get Pauli Ops - 15.32s, Calculate Pauli Expectation Values - 6.3s, Calculate Covariance - 3.41s\n",
      "f0,f1,f2 = [3.6937747956870853e-09, 3.6937747965511776e-09, 4.0579898949583035e-09]\n",
      "d01,d02,d12 = [0.9006498616546782, 0.9014262478400654, 0.9014262478151035]\n"
     ]
    },
    {
     "name": "stderr",
     "output_type": "stream",
     "text": [
      "Progress:  48%|████▊     | 145/300 [1:04:27<1:05:01, 25.17s/it]"
     ]
    },
    {
     "name": "stdout",
     "output_type": "stream",
     "text": [
      "Time to: Calculate Ground State - 1.37s, Get Pauli Ops - 14.33s, Calculate Pauli Expectation Values - 5.07s, Calculate Covariance - 3.18s\n",
      "f0,f1,f2 = [4.262635850216466e-09, 4.262635850579914e-09, 4.149100591913352e-09]\n",
      "d01,d02,d12 = [0.8947075395666887, 0.8953653076320778, 0.8953653076066977]\n"
     ]
    },
    {
     "name": "stderr",
     "output_type": "stream",
     "text": [
      "Progress:  49%|████▊     | 146/300 [1:04:56<1:07:12, 26.18s/it]"
     ]
    },
    {
     "name": "stdout",
     "output_type": "stream",
     "text": [
      "Time to: Calculate Ground State - 1.21s, Get Pauli Ops - 17.05s, Calculate Pauli Expectation Values - 6.87s, Calculate Covariance - 3.4s\n",
      "f0,f1,f2 = [4.671459041458151e-09, 4.67145904210488e-09, 4.609752741642001e-09]\n",
      "d01,d02,d12 = [0.890760880942793, 0.8912912340555583, 0.8912912340297091]\n"
     ]
    },
    {
     "name": "stderr",
     "output_type": "stream",
     "text": [
      "Progress:  49%|████▉     | 147/300 [1:05:21<1:05:46, 25.79s/it]"
     ]
    },
    {
     "name": "stdout",
     "output_type": "stream",
     "text": [
      "Time to: Calculate Ground State - 1.02s, Get Pauli Ops - 15.4s, Calculate Pauli Expectation Values - 5.48s, Calculate Covariance - 2.98s\n",
      "f0,f1,f2 = [4.8991714571842876e-09, 4.8991714580671565e-09, 4.9169511625170364e-09]\n",
      "d01,d02,d12 = [0.8888990903734753, 0.8892964591879975, 0.8892964591620377]\n"
     ]
    },
    {
     "name": "stderr",
     "output_type": "stream",
     "text": [
      "Progress:  49%|████▉     | 148/300 [1:05:47<1:05:30, 25.86s/it]"
     ]
    },
    {
     "name": "stdout",
     "output_type": "stream",
     "text": [
      "Time to: Calculate Ground State - 1.03s, Get Pauli Ops - 16.66s, Calculate Pauli Expectation Values - 5.49s, Calculate Covariance - 2.81s\n",
      "f0,f1,f2 = [5.157300391195814e-09, 5.157300391303602e-09, 4.724815368611997e-09]\n",
      "d01,d02,d12 = [0.8891201265021428, 0.8893599569094129, 0.8893599568821762]\n"
     ]
    },
    {
     "name": "stderr",
     "output_type": "stream",
     "text": [
      "Progress:  50%|████▉     | 149/300 [1:06:11<1:04:18, 25.55s/it]"
     ]
    },
    {
     "name": "stdout",
     "output_type": "stream",
     "text": [
      "Time to: Calculate Ground State - 1.07s, Get Pauli Ops - 15.78s, Calculate Pauli Expectation Values - 5.01s, Calculate Covariance - 2.97s\n",
      "f0,f1,f2 = [4.763809139108708e-09, 4.7638091406152125e-09, 5.578041845999554e-09]\n",
      "d01,d02,d12 = [0.8914672748479143, 0.8915545526893104, 0.8915545526622263]\n"
     ]
    },
    {
     "name": "stderr",
     "output_type": "stream",
     "text": [
      "Progress:  50%|█████     | 150/300 [1:06:37<1:03:36, 25.44s/it]"
     ]
    },
    {
     "name": "stdout",
     "output_type": "stream",
     "text": [
      "Time to: Calculate Ground State - 1.05s, Get Pauli Ops - 16.5s, Calculate Pauli Expectation Values - 5.01s, Calculate Covariance - 2.62s\n",
      "f0,f1,f2 = [5.399083094157184e-09, 5.399083092509719e-09, 3.9367485900861296e-09]\n",
      "d01,d02,d12 = [0.8957430482687764, 0.8956748532856497, 0.8956748532570662]\n"
     ]
    },
    {
     "name": "stderr",
     "output_type": "stream",
     "text": [
      "Progress:  50%|█████     | 151/300 [1:07:04<1:04:18, 25.90s/it]"
     ]
    },
    {
     "name": "stdout",
     "output_type": "stream",
     "text": [
      "Time to: Calculate Ground State - 1.03s, Get Pauli Ops - 18.42s, Calculate Pauli Expectation Values - 4.89s, Calculate Covariance - 2.62s\n",
      "f0,f1,f2 = [4.631211809872774e-09, 4.631211810843371e-09, 4.554632603153581e-09]\n",
      "d01,d02,d12 = [0.9018801544441313, 0.901659740526838, 0.901659740496433]\n"
     ]
    },
    {
     "name": "stderr",
     "output_type": "stream",
     "text": [
      "Progress:  51%|█████     | 152/300 [1:07:31<1:04:50, 26.28s/it]"
     ]
    },
    {
     "name": "stdout",
     "output_type": "stream",
     "text": [
      "Time to: Calculate Ground State - 0.81s, Get Pauli Ops - 18.35s, Calculate Pauli Expectation Values - 4.87s, Calculate Covariance - 3.14s\n",
      "f0,f1,f2 = [4.066883253096956e-09, 4.066883253181412e-09, 4.565671284243775e-09]\n",
      "d01,d02,d12 = [0.9097305777108959, 0.909366149342138, 0.9093661493089985]\n"
     ]
    },
    {
     "name": "stderr",
     "output_type": "stream",
     "text": [
      "Progress:  51%|█████     | 153/300 [1:07:58<1:04:46, 26.44s/it]"
     ]
    },
    {
     "name": "stdout",
     "output_type": "stream",
     "text": [
      "Time to: Calculate Ground State - 1.08s, Get Pauli Ops - 17.3s, Calculate Pauli Expectation Values - 5.62s, Calculate Covariance - 2.79s\n",
      "f0,f1,f2 = [4.707464962941978e-09, 4.707464969590184e-09, 2.1057031498106402e-09]\n",
      "d01,d02,d12 = [0.9189370631514149, 0.9184128482299545, 0.9184128481955433]\n"
     ]
    },
    {
     "name": "stderr",
     "output_type": "stream",
     "text": [
      "Progress:  51%|█████▏    | 154/300 [1:08:22<1:02:44, 25.78s/it]"
     ]
    },
    {
     "name": "stdout",
     "output_type": "stream",
     "text": [
      "Time to: Calculate Ground State - 0.76s, Get Pauli Ops - 15.82s, Calculate Pauli Expectation Values - 4.99s, Calculate Covariance - 2.67s\n",
      "f0,f1,f2 = [3.057489032614348e-09, 3.05748903255565e-09, 3.602257412845113e-09]\n",
      "d01,d02,d12 = [0.9294102772080794, 0.9287417431647451, 0.9287417431285957]\n"
     ]
    },
    {
     "name": "stderr",
     "output_type": "stream",
     "text": [
      "Progress:  52%|█████▏    | 155/300 [1:08:46<1:01:05, 25.28s/it]"
     ]
    },
    {
     "name": "stdout",
     "output_type": "stream",
     "text": [
      "Time to: Calculate Ground State - 1.11s, Get Pauli Ops - 14.91s, Calculate Pauli Expectation Values - 5.08s, Calculate Covariance - 2.98s\n",
      "f0,f1,f2 = [2.565176810691164e-09, 2.5651768109453463e-09, 2.85560164967455e-09]\n",
      "d01,d02,d12 = [0.9408824718286406, 0.9400651198450368, 0.9400651198080222]\n"
     ]
    },
    {
     "name": "stderr",
     "output_type": "stream",
     "text": [
      "Progress:  52%|█████▏    | 156/300 [1:09:10<1:00:06, 25.05s/it]"
     ]
    },
    {
     "name": "stdout",
     "output_type": "stream",
     "text": [
      "Time to: Calculate Ground State - 1.07s, Get Pauli Ops - 15.8s, Calculate Pauli Expectation Values - 5.03s, Calculate Covariance - 2.6s\n",
      "f0,f1,f2 = [1.8547280969254217e-09, 1.8547280966306058e-09, 2.719139969989481e-09]\n",
      "d01,d02,d12 = [0.953131205026281, 0.9521941255562639, 0.9521941255178001]\n"
     ]
    },
    {
     "name": "stderr",
     "output_type": "stream",
     "text": [
      "Progress:  52%|█████▏    | 157/300 [1:09:36<59:51, 25.11s/it]  "
     ]
    },
    {
     "name": "stdout",
     "output_type": "stream",
     "text": [
      "Time to: Calculate Ground State - 1.12s, Get Pauli Ops - 15.7s, Calculate Pauli Expectation Values - 5.58s, Calculate Covariance - 2.87s\n",
      "f0,f1,f2 = [1.2831522594878716e-09, 1.2831522607330965e-09, 2.344039847465128e-09]\n",
      "d01,d02,d12 = [0.9659231369489603, 0.964948406427937, 0.9649484063852874]\n"
     ]
    },
    {
     "name": "stderr",
     "output_type": "stream",
     "text": [
      "Progress:  53%|█████▎    | 158/300 [1:10:00<58:31, 24.73s/it]"
     ]
    },
    {
     "name": "stdout",
     "output_type": "stream",
     "text": [
      "Time to: Calculate Ground State - 0.95s, Get Pauli Ops - 15.28s, Calculate Pauli Expectation Values - 5.34s, Calculate Covariance - 2.25s\n",
      "f0,f1,f2 = [1.271817848456101e-09, 1.2718178534349175e-09, 1.7998514734031866e-10]\n",
      "d01,d02,d12 = [0.9789014913437885, 0.9778783368180738, 0.9778783367723646]\n"
     ]
    },
    {
     "name": "stderr",
     "output_type": "stream",
     "text": [
      "Progress:  53%|█████▎    | 159/300 [1:10:26<59:14, 25.21s/it]"
     ]
    },
    {
     "name": "stdout",
     "output_type": "stream",
     "text": [
      "Time to: Calculate Ground State - 1.38s, Get Pauli Ops - 16.73s, Calculate Pauli Expectation Values - 5.11s, Calculate Covariance - 3.12s\n",
      "f0,f1,f2 = [2.548917892916822e-10, 2.5489178928940594e-10, 4.242679225887214e-10]\n",
      "d01,d02,d12 = [0.9918760061318892, 0.9908326205203105, 0.9908326204707764]\n"
     ]
    },
    {
     "name": "stderr",
     "output_type": "stream",
     "text": [
      "Progress:  53%|█████▎    | 160/300 [1:10:52<59:36, 25.54s/it]"
     ]
    },
    {
     "name": "stdout",
     "output_type": "stream",
     "text": [
      "Time to: Calculate Ground State - 0.98s, Get Pauli Ops - 17.09s, Calculate Pauli Expectation Values - 5.72s, Calculate Covariance - 2.51s\n",
      "f0,f1,f2 = [1.321612285486729e-09, 1.321612300633305e-09, 1.9276024169069246e-09]\n",
      "d01,d02,d12 = [1.0045423844518597, 1.0034699697012202, 1.0034699696489389]\n"
     ]
    },
    {
     "name": "stderr",
     "output_type": "stream",
     "text": [
      "Progress:  54%|█████▎    | 161/300 [1:11:17<58:21, 25.19s/it]"
     ]
    },
    {
     "name": "stdout",
     "output_type": "stream",
     "text": [
      "Time to: Calculate Ground State - 1.14s, Get Pauli Ops - 15.62s, Calculate Pauli Expectation Values - 4.91s, Calculate Covariance - 2.68s\n",
      "f0,f1,f2 = [1.2948713092796582e-09, 1.2948713158988373e-09, 2.5784343751270303e-10]\n",
      "d01,d02,d12 = [1.016821698813809, 1.0157600883975948, 1.0157600883418676]\n"
     ]
    },
    {
     "name": "stderr",
     "output_type": "stream",
     "text": [
      "Progress:  54%|█████▍    | 162/300 [1:11:44<59:35, 25.91s/it]"
     ]
    },
    {
     "name": "stdout",
     "output_type": "stream",
     "text": [
      "Time to: Calculate Ground State - 1.14s, Get Pauli Ops - 16.18s, Calculate Pauli Expectation Values - 7.43s, Calculate Covariance - 2.84s\n",
      "f0,f1,f2 = [1.1742887719960298e-09, 1.1742887714414594e-09, 1.0462905979279054e-09]\n",
      "d01,d02,d12 = [1.0284886358225083, 1.0274052599860743, 1.0274052599288763]\n"
     ]
    },
    {
     "name": "stderr",
     "output_type": "stream",
     "text": [
      "Progress:  54%|█████▍    | 163/300 [1:12:13<1:00:55, 26.68s/it]"
     ]
    },
    {
     "name": "stdout",
     "output_type": "stream",
     "text": [
      "Time to: Calculate Ground State - 1.24s, Get Pauli Ops - 17.98s, Calculate Pauli Expectation Values - 6.17s, Calculate Covariance - 3.09s\n",
      "f0,f1,f2 = [2.05716842676844e-09, 2.0571684316122516e-09, 5.796468732614522e-10]\n",
      "d01,d02,d12 = [1.0394292138721044, 1.0383294704083565, 1.0383294703496821]\n"
     ]
    },
    {
     "name": "stderr",
     "output_type": "stream",
     "text": [
      "Progress:  55%|█████▍    | 164/300 [1:12:40<1:00:52, 26.86s/it]"
     ]
    },
    {
     "name": "stdout",
     "output_type": "stream",
     "text": [
      "Time to: Calculate Ground State - 1.31s, Get Pauli Ops - 18.19s, Calculate Pauli Expectation Values - 4.99s, Calculate Covariance - 2.77s\n",
      "f0,f1,f2 = [2.0163931817505557e-09, 2.016393181921565e-09, 1.6455660766779776e-09]\n",
      "d01,d02,d12 = [1.0494714231973583, 1.0483345254828917, 1.0483345254237708]\n"
     ]
    },
    {
     "name": "stderr",
     "output_type": "stream",
     "text": [
      "Progress:  55%|█████▌    | 165/300 [1:13:06<1:00:13, 26.76s/it]"
     ]
    },
    {
     "name": "stdout",
     "output_type": "stream",
     "text": [
      "Time to: Calculate Ground State - 0.92s, Get Pauli Ops - 17.01s, Calculate Pauli Expectation Values - 5.28s, Calculate Covariance - 3.34s\n",
      "f0,f1,f2 = [2.513201692135265e-09, 2.51320169300414e-09, 1.5102830055687497e-09]\n",
      "d01,d02,d12 = [1.0585386033268036, 1.0574481088452383, 1.0574481087824799]\n"
     ]
    },
    {
     "name": "stderr",
     "output_type": "stream",
     "text": [
      "Progress:  55%|█████▌    | 166/300 [1:13:35<1:00:44, 27.20s/it]"
     ]
    },
    {
     "name": "stdout",
     "output_type": "stream",
     "text": [
      "Time to: Calculate Ground State - 1.09s, Get Pauli Ops - 16.77s, Calculate Pauli Expectation Values - 6.81s, Calculate Covariance - 3.52s\n",
      "f0,f1,f2 = [2.238822164663135e-09, 2.238822163291901e-09, 3.3209266831907166e-09]\n",
      "d01,d02,d12 = [1.0664277938735873, 1.0653195502322523, 1.0653195501699344]\n"
     ]
    },
    {
     "name": "stderr",
     "output_type": "stream",
     "text": [
      "Progress:  56%|█████▌    | 167/300 [1:14:00<59:16, 26.74s/it]  "
     ]
    },
    {
     "name": "stdout",
     "output_type": "stream",
     "text": [
      "Time to: Calculate Ground State - 1.05s, Get Pauli Ops - 16.61s, Calculate Pauli Expectation Values - 5.15s, Calculate Covariance - 2.84s\n",
      "f0,f1,f2 = [2.5804973464649666e-09, 2.5804973456336663e-09, 3.0809037944440002e-09]\n",
      "d01,d02,d12 = [1.073079314195929, 1.0719034385953194, 1.0719034385363426]\n"
     ]
    },
    {
     "name": "stderr",
     "output_type": "stream",
     "text": [
      "Progress:  56%|█████▌    | 168/300 [1:14:26<58:18, 26.50s/it]"
     ]
    },
    {
     "name": "stdout",
     "output_type": "stream",
     "text": [
      "Time to: Calculate Ground State - 0.98s, Get Pauli Ops - 16.15s, Calculate Pauli Expectation Values - 5.55s, Calculate Covariance - 3.26s\n",
      "f0,f1,f2 = [3.6541479259649997e-09, 3.6541479346797e-09, 1.3382195570171702e-09]\n",
      "d01,d02,d12 = [1.0785673118942822, 1.0774655564672608, 1.077465556405693]\n"
     ]
    },
    {
     "name": "stderr",
     "output_type": "stream",
     "text": [
      "Progress:  56%|█████▋    | 169/300 [1:14:55<59:18, 27.16s/it]"
     ]
    },
    {
     "name": "stdout",
     "output_type": "stream",
     "text": [
      "Time to: Calculate Ground State - 1.38s, Get Pauli Ops - 18.38s, Calculate Pauli Expectation Values - 5.48s, Calculate Covariance - 3.45s\n",
      "f0,f1,f2 = [3.1649802733587538e-09, 3.1649802737525364e-09, 2.6707772715229795e-09]\n",
      "d01,d02,d12 = [1.0827674159394507, 1.081799000103639, 1.0817990000369313]\n"
     ]
    },
    {
     "name": "stderr",
     "output_type": "stream",
     "text": [
      "Progress:  57%|█████▋    | 170/300 [1:15:21<57:50, 26.70s/it]"
     ]
    },
    {
     "name": "stdout",
     "output_type": "stream",
     "text": [
      "Time to: Calculate Ground State - 1.37s, Get Pauli Ops - 16.0s, Calculate Pauli Expectation Values - 5.34s, Calculate Covariance - 2.89s\n",
      "f0,f1,f2 = [2.8118019357885763e-09, 2.8118019349440547e-09, 4.2712445030137e-09]\n",
      "d01,d02,d12 = [1.085563597686145, 1.0846754862826673, 1.084675486214818]\n"
     ]
    },
    {
     "name": "stderr",
     "output_type": "stream",
     "text": [
      "Progress:  57%|█████▋    | 171/300 [1:15:43<54:25, 25.32s/it]"
     ]
    },
    {
     "name": "stdout",
     "output_type": "stream",
     "text": [
      "Time to: Calculate Ground State - 0.77s, Get Pauli Ops - 13.75s, Calculate Pauli Expectation Values - 4.88s, Calculate Covariance - 2.68s\n",
      "f0,f1,f2 = [3.257535284572893e-09, 3.2575352841490635e-09, 3.1348150930046186e-09]\n",
      "d01,d02,d12 = [1.0869944519763446, 1.08616342784417, 1.0861634277764625]\n"
     ]
    },
    {
     "name": "stderr",
     "output_type": "stream",
     "text": [
      "Progress:  57%|█████▋    | 172/300 [1:16:09<54:36, 25.60s/it]"
     ]
    },
    {
     "name": "stdout",
     "output_type": "stream",
     "text": [
      "Time to: Calculate Ground State - 1.16s, Get Pauli Ops - 15.69s, Calculate Pauli Expectation Values - 5.98s, Calculate Covariance - 3.41s\n",
      "f0,f1,f2 = [3.408974718804726e-09, 3.408974719967158e-09, 2.9711150284932235e-09]\n",
      "d01,d02,d12 = [1.0870749854206085, 1.0863952031914994, 1.0863952031181663]\n"
     ]
    },
    {
     "name": "stderr",
     "output_type": "stream",
     "text": [
      "Progress:  58%|█████▊    | 173/300 [1:16:38<56:06, 26.51s/it]"
     ]
    },
    {
     "name": "stdout",
     "output_type": "stream",
     "text": [
      "Time to: Calculate Ground State - 1.39s, Get Pauli Ops - 18.7s, Calculate Pauli Expectation Values - 5.03s, Calculate Covariance - 3.51s\n",
      "f0,f1,f2 = [3.0177905635602443e-09, 3.0177905610771544e-09, 3.874251239187353e-09]\n",
      "d01,d02,d12 = [1.0857766542941323, 1.0852216809190922, 1.0852216808433066]\n"
     ]
    },
    {
     "name": "stderr",
     "output_type": "stream",
     "text": [
      "Progress:  58%|█████▊    | 174/300 [1:17:03<55:14, 26.31s/it]"
     ]
    },
    {
     "name": "stdout",
     "output_type": "stream",
     "text": [
      "Time to: Calculate Ground State - 1.51s, Get Pauli Ops - 13.95s, Calculate Pauli Expectation Values - 7.27s, Calculate Covariance - 3.08s\n",
      "f0,f1,f2 = [3.5371023858251775e-09, 3.537102388483223e-09, 2.5983960070195337e-09]\n",
      "d01,d02,d12 = [1.083180245663455, 1.0827729496553975, 1.0827729495749177]\n"
     ]
    },
    {
     "name": "stderr",
     "output_type": "stream",
     "text": [
      "Progress:  58%|█████▊    | 175/300 [1:17:28<53:44, 25.80s/it]"
     ]
    },
    {
     "name": "stdout",
     "output_type": "stream",
     "text": [
      "Time to: Calculate Ground State - 1.34s, Get Pauli Ops - 14.81s, Calculate Pauli Expectation Values - 5.22s, Calculate Covariance - 3.23s\n",
      "f0,f1,f2 = [3.253371411261874e-09, 3.253371411376822e-09, 3.0006095005814785e-09]\n",
      "d01,d02,d12 = [1.0792980389235645, 1.079017770361889, 1.0790177702807313]\n"
     ]
    },
    {
     "name": "stderr",
     "output_type": "stream",
     "text": [
      "Progress:  59%|█████▊    | 176/300 [1:17:51<51:48, 25.07s/it]"
     ]
    },
    {
     "name": "stdout",
     "output_type": "stream",
     "text": [
      "Time to: Calculate Ground State - 1.0s, Get Pauli Ops - 14.55s, Calculate Pauli Expectation Values - 4.91s, Calculate Covariance - 2.9s\n",
      "f0,f1,f2 = [2.8988208204136292e-09, 2.898820818457243e-09, 3.4620487906044464e-09]\n",
      "d01,d02,d12 = [1.0741650033026484, 1.0740142902913263, 1.0740142902093317]\n"
     ]
    },
    {
     "name": "stderr",
     "output_type": "stream",
     "text": [
      "Progress:  59%|█████▉    | 177/300 [1:18:16<51:07, 24.94s/it]"
     ]
    },
    {
     "name": "stdout",
     "output_type": "stream",
     "text": [
      "Time to: Calculate Ground State - 1.16s, Get Pauli Ops - 15.75s, Calculate Pauli Expectation Values - 5.13s, Calculate Covariance - 2.59s\n",
      "f0,f1,f2 = [2.6271033384287544e-09, 2.6271033360246127e-09, 3.784612984301458e-09]\n",
      "d01,d02,d12 = [1.0678267441472475, 1.067811517358486, 1.0678115172739868]\n"
     ]
    },
    {
     "name": "stderr",
     "output_type": "stream",
     "text": [
      "Progress:  59%|█████▉    | 178/300 [1:18:44<52:33, 25.85s/it]"
     ]
    },
    {
     "name": "stdout",
     "output_type": "stream",
     "text": [
      "Time to: Calculate Ground State - 0.96s, Get Pauli Ops - 19.47s, Calculate Pauli Expectation Values - 4.97s, Calculate Covariance - 2.57s\n",
      "f0,f1,f2 = [2.4320312795792714e-09, 2.432031278171747e-09, 3.807080554475802e-09]\n",
      "d01,d02,d12 = [1.0603566032207286, 1.060474153120837, 1.0604741530381498]\n"
     ]
    },
    {
     "name": "stderr",
     "output_type": "stream",
     "text": [
      "Progress:  60%|█████▉    | 179/300 [1:19:12<53:19, 26.44s/it]"
     ]
    },
    {
     "name": "stdout",
     "output_type": "stream",
     "text": [
      "Time to: Calculate Ground State - 1.48s, Get Pauli Ops - 17.35s, Calculate Pauli Expectation Values - 7.03s, Calculate Covariance - 1.95s\n",
      "f0,f1,f2 = [2.696072386819756e-09, 2.696072383390902e-09, 2.312950411983594e-09]\n",
      "d01,d02,d12 = [1.051911891734758, 1.0521703693678843, 1.0521703692984599]\n"
     ]
    },
    {
     "name": "stderr",
     "output_type": "stream",
     "text": [
      "Progress:  60%|██████    | 180/300 [1:19:36<51:27, 25.73s/it]"
     ]
    },
    {
     "name": "stdout",
     "output_type": "stream",
     "text": [
      "Time to: Calculate Ground State - 1.06s, Get Pauli Ops - 15.76s, Calculate Pauli Expectation Values - 5.02s, Calculate Covariance - 2.23s\n",
      "f0,f1,f2 = [2.531946452950648e-09, 2.5319464494378582e-09, 1.9078003366560312e-09]\n",
      "d01,d02,d12 = [1.0426111054763485, 1.043024036869012, 1.0430240368181996]\n"
     ]
    },
    {
     "name": "stderr",
     "output_type": "stream",
     "text": [
      "Progress:  60%|██████    | 181/300 [1:19:59<49:29, 24.96s/it]"
     ]
    },
    {
     "name": "stdout",
     "output_type": "stream",
     "text": [
      "Time to: Calculate Ground State - 1.04s, Get Pauli Ops - 15.17s, Calculate Pauli Expectation Values - 4.79s, Calculate Covariance - 2.14s\n",
      "f0,f1,f2 = [1.8109044504936614e-09, 1.8109044515747722e-09, 2.705697789109429e-09]\n",
      "d01,d02,d12 = [1.0325449370133462, 1.0331155479189265, 1.033115547887855]\n"
     ]
    },
    {
     "name": "stderr",
     "output_type": "stream",
     "text": [
      "Progress:  61%|██████    | 182/300 [1:20:25<49:42, 25.28s/it]"
     ]
    },
    {
     "name": "stdout",
     "output_type": "stream",
     "text": [
      "Time to: Calculate Ground State - 1.08s, Get Pauli Ops - 16.47s, Calculate Pauli Expectation Values - 4.98s, Calculate Covariance - 3.49s\n",
      "f0,f1,f2 = [1.4978641323919776e-09, 1.4978641330553043e-09, 2.4672926908176584e-09]\n",
      "d01,d02,d12 = [1.0218528247471887, 1.022573868334152, 1.022573868322726]\n"
     ]
    },
    {
     "name": "stderr",
     "output_type": "stream",
     "text": [
      "Progress:  61%|██████    | 183/300 [1:20:49<48:40, 24.96s/it]"
     ]
    },
    {
     "name": "stdout",
     "output_type": "stream",
     "text": [
      "Time to: Calculate Ground State - 1.02s, Get Pauli Ops - 16.06s, Calculate Pauli Expectation Values - 4.94s, Calculate Covariance - 2.19s\n",
      "f0,f1,f2 = [1.625222863650889e-09, 1.6252228620890717e-09, 8.660140961969463e-10]\n",
      "d01,d02,d12 = [1.0107285579062335, 1.011603815865, 1.0116038158735587]\n"
     ]
    },
    {
     "name": "stderr",
     "output_type": "stream",
     "text": [
      "Progress:  61%|██████▏   | 184/300 [1:21:16<49:30, 25.61s/it]"
     ]
    },
    {
     "name": "stdout",
     "output_type": "stream",
     "text": [
      "Time to: Calculate Ground State - 1.12s, Get Pauli Ops - 17.18s, Calculate Pauli Expectation Values - 5.72s, Calculate Covariance - 3.08s\n",
      "f0,f1,f2 = [1.34838757911218e-09, 1.3483875795073057e-09, 3.450545280908345e-10]\n",
      "d01,d02,d12 = [0.9993310925110535, 1.000339538053905, 1.0003395380824858]\n"
     ]
    },
    {
     "name": "stderr",
     "output_type": "stream",
     "text": [
      "Progress:  62%|██████▏   | 185/300 [1:21:44<49:59, 26.08s/it]"
     ]
    },
    {
     "name": "stdout",
     "output_type": "stream",
     "text": [
      "Time to: Calculate Ground State - 0.85s, Get Pauli Ops - 16.9s, Calculate Pauli Expectation Values - 6.08s, Calculate Covariance - 3.36s\n",
      "f0,f1,f2 = [4.911606390485144e-10, 4.911606394064843e-10, 8.698269974738502e-10]\n",
      "d01,d02,d12 = [0.9878055141320009, 0.9889384539182202, 0.988938453966954]\n"
     ]
    },
    {
     "name": "stderr",
     "output_type": "stream",
     "text": [
      "Progress:  62%|██████▏   | 186/300 [1:22:11<50:27, 26.56s/it]"
     ]
    },
    {
     "name": "stdout",
     "output_type": "stream",
     "text": [
      "Time to: Calculate Ground State - 1.34s, Get Pauli Ops - 17.91s, Calculate Pauli Expectation Values - 5.91s, Calculate Covariance - 2.5s\n",
      "f0,f1,f2 = [9.110637081607536e-10, 9.11063717595053e-10, 8.82551037452701e-10]\n",
      "d01,d02,d12 = [0.9763953031975805, 0.9776853295265249, 0.9776853295933359]\n"
     ]
    },
    {
     "name": "stderr",
     "output_type": "stream",
     "text": [
      "Progress:  62%|██████▏   | 187/300 [1:22:37<49:24, 26.24s/it]"
     ]
    },
    {
     "name": "stdout",
     "output_type": "stream",
     "text": [
      "Time to: Calculate Ground State - 0.76s, Get Pauli Ops - 16.03s, Calculate Pauli Expectation Values - 5.34s, Calculate Covariance - 3.36s\n",
      "f0,f1,f2 = [1.2287924316604422e-09, 1.2287924431170727e-09, 9.315637866697673e-10]\n",
      "d01,d02,d12 = [0.9651935132545054, 0.9664982696230007, 0.9664982697130317]\n"
     ]
    },
    {
     "name": "stderr",
     "output_type": "stream",
     "text": [
      "Progress:  63%|██████▎   | 188/300 [1:23:04<49:35, 26.56s/it]"
     ]
    },
    {
     "name": "stdout",
     "output_type": "stream",
     "text": [
      "Time to: Calculate Ground State - 1.28s, Get Pauli Ops - 16.86s, Calculate Pauli Expectation Values - 5.87s, Calculate Covariance - 3.31s\n",
      "f0,f1,f2 = [8.541114278483476e-10, 8.541114377017193e-10, 1.832492989339447e-09]\n",
      "d01,d02,d12 = [0.9545201588210803, 0.9558617437819413, 0.9558617438926469]\n"
     ]
    },
    {
     "name": "stderr",
     "output_type": "stream",
     "text": [
      "Progress:  63%|██████▎   | 189/300 [1:23:29<48:17, 26.11s/it]"
     ]
    },
    {
     "name": "stdout",
     "output_type": "stream",
     "text": [
      "Time to: Calculate Ground State - 1.08s, Get Pauli Ops - 15.66s, Calculate Pauli Expectation Values - 5.55s, Calculate Covariance - 2.74s\n",
      "f0,f1,f2 = [1.255235644564536e-09, 1.2552356425624431e-09, 1.5854116154275124e-09]\n",
      "d01,d02,d12 = [0.944524311675552, 0.9458726102386654, 0.9458726103707841]\n"
     ]
    },
    {
     "name": "stderr",
     "output_type": "stream",
     "text": [
      "Progress:  63%|██████▎   | 190/300 [1:23:56<48:21, 26.38s/it]"
     ]
    },
    {
     "name": "stdout",
     "output_type": "stream",
     "text": [
      "Time to: Calculate Ground State - 1.29s, Get Pauli Ops - 16.54s, Calculate Pauli Expectation Values - 6.25s, Calculate Covariance - 2.93s\n",
      "f0,f1,f2 = [1.8338254730491533e-09, 1.8338254688486251e-09, 1.716829944700325e-09]\n",
      "d01,d02,d12 = [0.9353911186155411, 0.9367474164567887, 0.9367474166071926]\n"
     ]
    },
    {
     "name": "stderr",
     "output_type": "stream",
     "text": [
      "Progress:  64%|██████▎   | 191/300 [1:24:23<48:08, 26.50s/it]"
     ]
    },
    {
     "name": "stdout",
     "output_type": "stream",
     "text": [
      "Time to: Calculate Ground State - 1.21s, Get Pauli Ops - 17.28s, Calculate Pauli Expectation Values - 5.27s, Calculate Covariance - 3.0s\n",
      "f0,f1,f2 = [2.0448909690974834e-09, 2.044890968194382e-09, 3.2785208516671005e-09]\n",
      "d01,d02,d12 = [0.92736618413246, 0.9287563681891311, 0.9287563683519386]\n"
     ]
    },
    {
     "name": "stderr",
     "output_type": "stream",
     "text": [
      "Progress:  64%|██████▍   | 192/300 [1:24:48<47:02, 26.14s/it]"
     ]
    },
    {
     "name": "stdout",
     "output_type": "stream",
     "text": [
      "Time to: Calculate Ground State - 1.32s, Get Pauli Ops - 16.28s, Calculate Pauli Expectation Values - 4.78s, Calculate Covariance - 2.92s\n",
      "f0,f1,f2 = [2.9335086141979147e-09, 2.933508621575581e-09, 2.1599702419574544e-09]\n",
      "d01,d02,d12 = [0.9205237867809135, 0.9218719085792131, 0.921871908759809]\n"
     ]
    },
    {
     "name": "stderr",
     "output_type": "stream",
     "text": [
      "Progress:  64%|██████▍   | 193/300 [1:25:17<47:59, 26.91s/it]"
     ]
    },
    {
     "name": "stdout",
     "output_type": "stream",
     "text": [
      "Time to: Calculate Ground State - 1.22s, Get Pauli Ops - 17.81s, Calculate Pauli Expectation Values - 7.34s, Calculate Covariance - 2.32s\n",
      "f0,f1,f2 = [3.2621296694030045e-09, 3.262129670080667e-09, 2.6113290479022423e-09]\n",
      "d01,d02,d12 = [0.9150133133570192, 0.9162829060792551, 0.916282906278801]\n"
     ]
    },
    {
     "name": "stderr",
     "output_type": "stream",
     "text": [
      "Progress:  65%|██████▍   | 194/300 [1:25:45<48:09, 27.26s/it]"
     ]
    },
    {
     "name": "stdout",
     "output_type": "stream",
     "text": [
      "Time to: Calculate Ground State - 1.21s, Get Pauli Ops - 17.47s, Calculate Pauli Expectation Values - 5.91s, Calculate Covariance - 3.48s\n",
      "f0,f1,f2 = [3.2535075391651862e-09, 3.253507538025707e-09, 3.805736907933066e-09]\n",
      "d01,d02,d12 = [0.9109928503782827, 0.9121731226996667, 0.9121731229179999]\n"
     ]
    },
    {
     "name": "stderr",
     "output_type": "stream",
     "text": [
      "Progress:  65%|██████▌   | 195/300 [1:26:10<46:28, 26.56s/it]"
     ]
    },
    {
     "name": "stdout",
     "output_type": "stream",
     "text": [
      "Time to: Calculate Ground State - 1.08s, Get Pauli Ops - 15.8s, Calculate Pauli Expectation Values - 4.78s, Calculate Covariance - 3.24s\n",
      "f0,f1,f2 = [3.491202613219759e-09, 3.491202607626758e-09, 4.006637127914016e-09]\n",
      "d01,d02,d12 = [0.9085555523785362, 0.9096907279443577, 0.9096907281712319]\n"
     ]
    },
    {
     "name": "stderr",
     "output_type": "stream",
     "text": [
      "Progress:  65%|██████▌   | 196/300 [1:26:36<45:43, 26.38s/it]"
     ]
    },
    {
     "name": "stdout",
     "output_type": "stream",
     "text": [
      "Time to: Calculate Ground State - 1.01s, Get Pauli Ops - 15.71s, Calculate Pauli Expectation Values - 5.82s, Calculate Covariance - 3.42s\n",
      "f0,f1,f2 = [3.6631071689635727e-09, 3.663107162417214e-09, 4.055319159702802e-09]\n",
      "d01,d02,d12 = [0.9077291576892008, 0.9088287506345439, 0.9088287508646995]\n"
     ]
    },
    {
     "name": "stderr",
     "output_type": "stream",
     "text": [
      "Progress:  66%|██████▌   | 197/300 [1:27:00<44:10, 25.73s/it]"
     ]
    },
    {
     "name": "stdout",
     "output_type": "stream",
     "text": [
      "Time to: Calculate Ground State - 1.2s, Get Pauli Ops - 15.84s, Calculate Pauli Expectation Values - 4.92s, Calculate Covariance - 2.26s\n",
      "f0,f1,f2 = [3.8305433125987065e-09, 3.830543304600886e-09, 3.806025988520002e-09]\n",
      "d01,d02,d12 = [0.908508258363081, 0.9095690631744158, 0.9095690634031495]\n"
     ]
    },
    {
     "name": "stderr",
     "output_type": "stream",
     "text": [
      "Progress:  66%|██████▌   | 198/300 [1:27:23<42:32, 25.02s/it]"
     ]
    },
    {
     "name": "stdout",
     "output_type": "stream",
     "text": [
      "Time to: Calculate Ground State - 0.77s, Get Pauli Ops - 13.8s, Calculate Pauli Expectation Values - 5.49s, Calculate Covariance - 3.29s\n",
      "f0,f1,f2 = [3.6669148189334384e-09, 3.6669148088642846e-09, 4.0448494128508935e-09]\n",
      "d01,d02,d12 = [0.9108595598766682, 0.9118607601731522, 0.9118607603985519]\n"
     ]
    },
    {
     "name": "stderr",
     "output_type": "stream",
     "text": [
      "Progress:  66%|██████▋   | 199/300 [1:27:50<42:38, 25.34s/it]"
     ]
    },
    {
     "name": "stdout",
     "output_type": "stream",
     "text": [
      "Time to: Calculate Ground State - 1.04s, Get Pauli Ops - 17.52s, Calculate Pauli Expectation Values - 5.27s, Calculate Covariance - 2.23s\n",
      "f0,f1,f2 = [3.5675313376808008e-09, 3.5675313291493e-09, 3.781647076308227e-09]\n",
      "d01,d02,d12 = [0.9147095172108979, 0.9156733228874065, 0.9156733231002282]\n"
     ]
    },
    {
     "name": "stderr",
     "output_type": "stream",
     "text": [
      "Progress:  67%|██████▋   | 200/300 [1:28:14<41:42, 25.02s/it]"
     ]
    },
    {
     "name": "stdout",
     "output_type": "stream",
     "text": [
      "Time to: Calculate Ground State - 0.76s, Get Pauli Ops - 14.37s, Calculate Pauli Expectation Values - 5.85s, Calculate Covariance - 3.31s\n",
      "f0,f1,f2 = [3.613463130736455e-09, 3.6134631323748808e-09, 2.958063127740774e-09]\n",
      "d01,d02,d12 = [0.9199228784140765, 0.9207990212567139, 0.9207990214631385]\n"
     ]
    },
    {
     "name": "stderr",
     "output_type": "stream",
     "text": [
      "Progress:  67%|██████▋   | 201/300 [1:28:41<42:10, 25.56s/it]"
     ]
    },
    {
     "name": "stdout",
     "output_type": "stream",
     "text": [
      "Time to: Calculate Ground State - 1.05s, Get Pauli Ops - 17.0s, Calculate Pauli Expectation Values - 5.35s, Calculate Covariance - 3.4s\n",
      "f0,f1,f2 = [3.1479736367042303e-09, 3.1479736326082494e-09, 3.0384820908178687e-09]\n",
      "d01,d02,d12 = [0.9263742096084773, 0.9271456323148697, 0.9271456325160321]\n"
     ]
    },
    {
     "name": "stderr",
     "output_type": "stream",
     "text": [
      "Progress:  67%|██████▋   | 202/300 [1:29:07<42:06, 25.78s/it]"
     ]
    },
    {
     "name": "stdout",
     "output_type": "stream",
     "text": [
      "Time to: Calculate Ground State - 1.29s, Get Pauli Ops - 17.64s, Calculate Pauli Expectation Values - 5.18s, Calculate Covariance - 2.19s\n",
      "f0,f1,f2 = [2.876960739779921e-09, 2.8769607396500194e-09, 2.5345231666789223e-09]\n",
      "d01,d02,d12 = [0.9339055405026475, 0.9345601503275661, 0.9345601505230636]\n"
     ]
    },
    {
     "name": "stderr",
     "output_type": "stream",
     "text": [
      "Progress:  68%|██████▊   | 203/300 [1:29:32<41:24, 25.61s/it]"
     ]
    },
    {
     "name": "stdout",
     "output_type": "stream",
     "text": [
      "Time to: Calculate Ground State - 1.29s, Get Pauli Ops - 15.11s, Calculate Pauli Expectation Values - 5.82s, Calculate Covariance - 2.98s\n",
      "f0,f1,f2 = [2.1416049721885228e-09, 2.1416049666339826e-09, 3.0070124048695795e-09]\n",
      "d01,d02,d12 = [0.9423661861458771, 0.9429100985955934, 0.9429100987805501]\n"
     ]
    },
    {
     "name": "stderr",
     "output_type": "stream",
     "text": [
      "Progress:  68%|██████▊   | 204/300 [1:29:59<41:32, 25.96s/it]"
     ]
    },
    {
     "name": "stdout",
     "output_type": "stream",
     "text": [
      "Time to: Calculate Ground State - 0.79s, Get Pauli Ops - 15.37s, Calculate Pauli Expectation Values - 7.3s, Calculate Covariance - 3.33s\n",
      "f0,f1,f2 = [2.1399581691345516e-09, 2.1399581694861224e-09, 1.5757469110868948e-09]\n",
      "d01,d02,d12 = [0.9515398276901752, 0.9519615888900044, 0.9519615890643255]\n"
     ]
    },
    {
     "name": "stderr",
     "output_type": "stream",
     "text": [
      "Progress:  68%|██████▊   | 205/300 [1:30:23<40:26, 25.55s/it]"
     ]
    },
    {
     "name": "stdout",
     "output_type": "stream",
     "text": [
      "Time to: Calculate Ground State - 1.23s, Get Pauli Ops - 16.01s, Calculate Pauli Expectation Values - 4.74s, Calculate Covariance - 2.59s\n",
      "f0,f1,f2 = [1.3804443292321521e-09, 1.380444324193621e-09, 1.8290184355435171e-09]\n",
      "d01,d02,d12 = [0.9612534641273502, 0.9615507556383216, 0.9615507558003829]\n"
     ]
    },
    {
     "name": "stderr",
     "output_type": "stream",
     "text": [
      "Progress:  69%|██████▊   | 206/300 [1:30:49<39:58, 25.52s/it]"
     ]
    },
    {
     "name": "stdout",
     "output_type": "stream",
     "text": [
      "Time to: Calculate Ground State - 1.02s, Get Pauli Ops - 14.93s, Calculate Pauli Expectation Values - 6.3s, Calculate Covariance - 3.2s\n",
      "f0,f1,f2 = [1.235659129138934e-09, 1.2356591311599036e-09, 6.91310715776565e-10]\n",
      "d01,d02,d12 = [0.9712896779155202, 0.9714555057126194, 0.9714555058633523]\n"
     ]
    },
    {
     "name": "stderr",
     "output_type": "stream",
     "text": [
      "Progress:  69%|██████▉   | 207/300 [1:31:17<40:36, 26.20s/it]"
     ]
    },
    {
     "name": "stdout",
     "output_type": "stream",
     "text": [
      "Time to: Calculate Ground State - 1.35s, Get Pauli Ops - 17.91s, Calculate Pauli Expectation Values - 5.56s, Calculate Covariance - 2.97s\n",
      "f0,f1,f2 = [8.58118646783876e-10, 8.581186670455092e-10, 1.6038101677909447e-09]\n",
      "d01,d02,d12 = [0.9815067420095707, 0.9815424758563318, 0.9815424759916118]\n"
     ]
    },
    {
     "name": "stderr",
     "output_type": "stream",
     "text": [
      "Progress:  69%|██████▉   | 208/300 [1:31:42<39:36, 25.83s/it]"
     ]
    },
    {
     "name": "stdout",
     "output_type": "stream",
     "text": [
      "Time to: Calculate Ground State - 1.06s, Get Pauli Ops - 15.22s, Calculate Pauli Expectation Values - 5.78s, Calculate Covariance - 2.9s\n",
      "f0,f1,f2 = [3.5463851782225927e-10, 3.546385118534771e-10, 5.878810221349029e-10]\n",
      "d01,d02,d12 = [0.9917019353502565, 0.9916079781984422, 0.9916079783226535]\n"
     ]
    },
    {
     "name": "stderr",
     "output_type": "stream",
     "text": [
      "Progress:  70%|██████▉   | 209/300 [1:32:06<38:41, 25.51s/it]"
     ]
    },
    {
     "name": "stdout",
     "output_type": "stream",
     "text": [
      "Time to: Calculate Ground State - 0.94s, Get Pauli Ops - 15.62s, Calculate Pauli Expectation Values - 5.15s, Calculate Covariance - 3.05s\n",
      "f0,f1,f2 = [1.375679854011852e-09, 1.3756798320533423e-09, 1.0509748136942083e-09]\n",
      "d01,d02,d12 = [1.0017249744268777, 1.0015046433013675, 1.0015046434155392]\n"
     ]
    },
    {
     "name": "stderr",
     "output_type": "stream",
     "text": [
      "Progress:  70%|███████   | 210/300 [1:32:32<38:12, 25.47s/it]"
     ]
    },
    {
     "name": "stdout",
     "output_type": "stream",
     "text": [
      "Time to: Calculate Ground State - 1.16s, Get Pauli Ops - 17.38s, Calculate Pauli Expectation Values - 4.94s, Calculate Covariance - 1.88s\n",
      "f0,f1,f2 = [9.750046072971618e-10, 9.750045888948505e-10, 1.7876241794322914e-09]\n",
      "d01,d02,d12 = [1.0113604413595492, 1.0109973416967224, 1.0109973417930487]\n"
     ]
    },
    {
     "name": "stderr",
     "output_type": "stream",
     "text": [
      "Progress:  70%|███████   | 211/300 [1:32:57<37:26, 25.24s/it]"
     ]
    },
    {
     "name": "stdout",
     "output_type": "stream",
     "text": [
      "Time to: Calculate Ground State - 1.29s, Get Pauli Ops - 15.78s, Calculate Pauli Expectation Values - 4.96s, Calculate Covariance - 2.66s\n",
      "f0,f1,f2 = [1.0376969874936556e-09, 1.037696988318491e-09, 8.518369930898186e-10]\n",
      "d01,d02,d12 = [1.0204920601253014, 1.0199735392402776, 1.01997353931427]\n"
     ]
    },
    {
     "name": "stderr",
     "output_type": "stream",
     "text": [
      "Progress:  71%|███████   | 212/300 [1:33:22<37:10, 25.35s/it]"
     ]
    },
    {
     "name": "stdout",
     "output_type": "stream",
     "text": [
      "Time to: Calculate Ground State - 1.22s, Get Pauli Ops - 16.15s, Calculate Pauli Expectation Values - 5.27s, Calculate Covariance - 2.97s\n",
      "f0,f1,f2 = [1.1278072039001677e-09, 1.1278072048452565e-09, 1.9167319246745558e-09]\n",
      "d01,d02,d12 = [1.0289702713881912, 1.0282881632351732, 1.028288163284562]\n"
     ]
    },
    {
     "name": "stderr",
     "output_type": "stream",
     "text": [
      "Progress:  71%|███████   | 213/300 [1:33:49<37:13, 25.67s/it]"
     ]
    },
    {
     "name": "stdout",
     "output_type": "stream",
     "text": [
      "Time to: Calculate Ground State - 1.26s, Get Pauli Ops - 17.59s, Calculate Pauli Expectation Values - 5.04s, Calculate Covariance - 2.51s\n",
      "f0,f1,f2 = [1.3728921077526563e-09, 1.3728921074151364e-09, 2.5046419727841535e-09]\n",
      "d01,d02,d12 = [1.0366763246122854, 1.0358240164789674, 1.035824016502963]\n"
     ]
    },
    {
     "name": "stderr",
     "output_type": "stream",
     "text": [
      "Progress:  71%|███████▏  | 214/300 [1:34:15<37:15, 25.99s/it]"
     ]
    },
    {
     "name": "stdout",
     "output_type": "stream",
     "text": [
      "Time to: Calculate Ground State - 1.46s, Get Pauli Ops - 15.6s, Calculate Pauli Expectation Values - 6.84s, Calculate Covariance - 2.83s\n",
      "f0,f1,f2 = [2.021548510741735e-09, 2.021548509610318e-09, 1.440533021007665e-09]\n",
      "d01,d02,d12 = [1.043547582384341, 1.0424993824831306, 1.0424993824809878]\n"
     ]
    },
    {
     "name": "stderr",
     "output_type": "stream",
     "text": [
      "Progress:  72%|███████▏  | 215/300 [1:34:43<37:25, 26.42s/it]"
     ]
    },
    {
     "name": "stdout",
     "output_type": "stream",
     "text": [
      "Time to: Calculate Ground State - 1.4s, Get Pauli Ops - 17.58s, Calculate Pauli Expectation Values - 5.52s, Calculate Covariance - 2.93s\n",
      "f0,f1,f2 = [2.3269459736533633e-09, 2.326945973673783e-09, 1.3992586165563994e-09]\n",
      "d01,d02,d12 = [1.0495259666464403, 1.048327471130118, 1.0483274711017614]\n"
     ]
    },
    {
     "name": "stderr",
     "output_type": "stream",
     "text": [
      "Progress:  72%|███████▏  | 216/300 [1:35:13<38:33, 27.54s/it]"
     ]
    },
    {
     "name": "stdout",
     "output_type": "stream",
     "text": [
      "Time to: Calculate Ground State - 1.36s, Get Pauli Ops - 19.02s, Calculate Pauli Expectation Values - 6.5s, Calculate Covariance - 3.28s\n",
      "f0,f1,f2 = [2.662116205239221e-09, 2.6621162067996504e-09, 1.2015021875297768e-09]\n",
      "d01,d02,d12 = [1.0545604153320136, 1.053260472248517, 1.0532604721934336]\n"
     ]
    },
    {
     "name": "stderr",
     "output_type": "stream",
     "text": [
      "Progress:  72%|███████▏  | 217/300 [1:35:37<36:43, 26.55s/it]"
     ]
    },
    {
     "name": "stdout",
     "output_type": "stream",
     "text": [
      "Time to: Calculate Ground State - 1.04s, Get Pauli Ops - 15.58s, Calculate Pauli Expectation Values - 5.0s, Calculate Covariance - 2.62s\n",
      "f0,f1,f2 = [3.3279168831850755e-09, 3.327916894221921e-09, 4.392965049704623e-10]\n",
      "d01,d02,d12 = [1.0586140833751758, 1.0572460414161213, 1.0572460413337526]\n"
     ]
    },
    {
     "name": "stderr",
     "output_type": "stream",
     "text": [
      "Progress:  73%|███████▎  | 218/300 [1:36:05<36:58, 27.05s/it]"
     ]
    },
    {
     "name": "stdout",
     "output_type": "stream",
     "text": [
      "Time to: Calculate Ground State - 1.33s, Get Pauli Ops - 18.62s, Calculate Pauli Expectation Values - 5.63s, Calculate Covariance - 2.62s\n",
      "f0,f1,f2 = [2.64177499210523e-09, 2.6417749930968267e-09, 2.0640293803738245e-09]\n",
      "d01,d02,d12 = [1.0616134553864363, 1.060212441068577, 1.0602124409576201]\n"
     ]
    },
    {
     "name": "stderr",
     "output_type": "stream",
     "text": [
      "Progress:  73%|███████▎  | 219/300 [1:36:32<36:28, 27.02s/it]"
     ]
    },
    {
     "name": "stdout",
     "output_type": "stream",
     "text": [
      "Time to: Calculate Ground State - 1.0s, Get Pauli Ops - 16.37s, Calculate Pauli Expectation Values - 6.02s, Calculate Covariance - 3.55s\n",
      "f0,f1,f2 = [2.308876488235982e-09, 2.308876486268214e-09, 3.5057945873598075e-09]\n",
      "d01,d02,d12 = [1.0634944565577436, 1.0620555175383235, 1.0620555173999042]\n"
     ]
    },
    {
     "name": "stderr",
     "output_type": "stream",
     "text": [
      "Progress:  73%|███████▎  | 220/300 [1:37:00<36:12, 27.16s/it]"
     ]
    },
    {
     "name": "stdout",
     "output_type": "stream",
     "text": [
      "Time to: Calculate Ground State - 1.25s, Get Pauli Ops - 17.47s, Calculate Pauli Expectation Values - 5.46s, Calculate Covariance - 3.29s\n",
      "f0,f1,f2 = [2.4166534994472533e-09, 2.416653496832112e-09, 3.3596131869919553e-09]\n",
      "d01,d02,d12 = [1.0642333560086865, 1.0627254410894575, 1.0627254409274727]\n"
     ]
    },
    {
     "name": "stderr",
     "output_type": "stream",
     "text": [
      "Progress:  74%|███████▎  | 221/300 [1:37:27<35:47, 27.18s/it]"
     ]
    },
    {
     "name": "stdout",
     "output_type": "stream",
     "text": [
      "Time to: Calculate Ground State - 1.17s, Get Pauli Ops - 18.03s, Calculate Pauli Expectation Values - 4.89s, Calculate Covariance - 3.14s\n",
      "f0,f1,f2 = [2.9435698592214677e-09, 2.9435698716341024e-09, 1.8686713547922617e-09]\n",
      "d01,d02,d12 = [1.063906171727014, 1.062392862014147, 1.0623928618238823]\n"
     ]
    },
    {
     "name": "stderr",
     "output_type": "stream",
     "text": [
      "Progress:  74%|███████▍  | 222/300 [1:37:52<34:21, 26.43s/it]"
     ]
    },
    {
     "name": "stdout",
     "output_type": "stream",
     "text": [
      "Time to: Calculate Ground State - 1.06s, Get Pauli Ops - 15.98s, Calculate Pauli Expectation Values - 4.81s, Calculate Covariance - 2.82s\n",
      "f0,f1,f2 = [2.830859677869315e-09, 2.830859679457034e-09, 2.0975619121402876e-09]\n",
      "d01,d02,d12 = [1.062515731549531, 1.0610577937601668, 1.0610577935376913]\n"
     ]
    },
    {
     "name": "stderr",
     "output_type": "stream",
     "text": [
      "Progress:  74%|███████▍  | 223/300 [1:38:18<33:49, 26.36s/it]"
     ]
    },
    {
     "name": "stdout",
     "output_type": "stream",
     "text": [
      "Time to: Calculate Ground State - 1.09s, Get Pauli Ops - 16.81s, Calculate Pauli Expectation Values - 5.04s, Calculate Covariance - 3.25s\n",
      "f0,f1,f2 = [3.0957297322611332e-09, 3.0957297510636876e-09, 1.3638784669116069e-09]\n",
      "d01,d02,d12 = [1.0601227043782049, 1.058828841574341, 1.0588288413094635]\n"
     ]
    },
    {
     "name": "stderr",
     "output_type": "stream",
     "text": [
      "Progress:  75%|███████▍  | 224/300 [1:38:44<33:21, 26.34s/it]"
     ]
    },
    {
     "name": "stdout",
     "output_type": "stream",
     "text": [
      "Time to: Calculate Ground State - 1.32s, Get Pauli Ops - 16.28s, Calculate Pauli Expectation Values - 5.48s, Calculate Covariance - 3.2s\n",
      "f0,f1,f2 = [2.314107932568936e-09, 2.3141079286733926e-09, 3.269467214484648e-09]\n",
      "d01,d02,d12 = [1.056680249863591, 1.0555308465396998, 1.0555308462380186]\n"
     ]
    },
    {
     "name": "stderr",
     "output_type": "stream",
     "text": [
      "Progress:  75%|███████▌  | 225/300 [1:39:12<33:25, 26.73s/it]"
     ]
    },
    {
     "name": "stdout",
     "output_type": "stream",
     "text": [
      "Time to: Calculate Ground State - 1.24s, Get Pauli Ops - 17.91s, Calculate Pauli Expectation Values - 5.2s, Calculate Covariance - 3.29s\n",
      "f0,f1,f2 = [3.140930666135649e-09, 3.140930703709671e-09, 9.427051954889555e-10]\n",
      "d01,d02,d12 = [1.0523131169099555, 1.0513787549212874, 1.0513787545720032]\n"
     ]
    },
    {
     "name": "stderr",
     "output_type": "stream",
     "text": [
      "Progress:  75%|███████▌  | 226/300 [1:39:36<31:59, 25.94s/it]"
     ]
    },
    {
     "name": "stdout",
     "output_type": "stream",
     "text": [
      "Time to: Calculate Ground State - 1.12s, Get Pauli Ops - 14.37s, Calculate Pauli Expectation Values - 5.06s, Calculate Covariance - 3.52s\n",
      "f0,f1,f2 = [2.742111529796424e-09, 2.742111557496716e-09, 1.396549552503719e-09]\n",
      "d01,d02,d12 = [1.0470533368326145, 1.0463678744853573, 1.0463678740813087]\n"
     ]
    },
    {
     "name": "stderr",
     "output_type": "stream",
     "text": [
      "Progress:  76%|███████▌  | 227/300 [1:40:03<32:05, 26.37s/it]"
     ]
    },
    {
     "name": "stdout",
     "output_type": "stream",
     "text": [
      "Time to: Calculate Ground State - 1.22s, Get Pauli Ops - 17.94s, Calculate Pauli Expectation Values - 4.97s, Calculate Covariance - 3.24s\n",
      "f0,f1,f2 = [1.8927839204752014e-09, 1.8927839155234816e-09, 3.0512383951131524e-09]\n",
      "d01,d02,d12 = [1.0409370954882915, 1.0404799764445045, 1.0404799760010868]\n"
     ]
    },
    {
     "name": "stderr",
     "output_type": "stream",
     "text": [
      "Progress:  76%|███████▌  | 228/300 [1:40:26<30:26, 25.37s/it]"
     ]
    },
    {
     "name": "stdout",
     "output_type": "stream",
     "text": [
      "Time to: Calculate Ground State - 1.31s, Get Pauli Ops - 13.63s, Calculate Pauli Expectation Values - 4.93s, Calculate Covariance - 3.16s\n",
      "f0,f1,f2 = [2.1466205349582735e-09, 2.1466205418801717e-09, 1.5999770549163583e-09]\n",
      "d01,d02,d12 = [1.0340743549860847, 1.0338511440001636, 1.0338511435163973]\n"
     ]
    },
    {
     "name": "stderr",
     "output_type": "stream",
     "text": [
      "Progress:  76%|███████▋  | 229/300 [1:40:52<30:03, 25.40s/it]"
     ]
    },
    {
     "name": "stdout",
     "output_type": "stream",
     "text": [
      "Time to: Calculate Ground State - 1.03s, Get Pauli Ops - 16.51s, Calculate Pauli Expectation Values - 4.94s, Calculate Covariance - 2.98s\n",
      "f0,f1,f2 = [1.891854593571458e-09, 1.8918545969227517e-09, 1.500563720967354e-09]\n",
      "d01,d02,d12 = [1.0265547520755556, 1.0265688861033015, 1.0265688855811916]\n"
     ]
    },
    {
     "name": "stderr",
     "output_type": "stream",
     "text": [
      "Progress:  77%|███████▋  | 230/300 [1:41:19<30:16, 25.95s/it]"
     ]
    },
    {
     "name": "stdout",
     "output_type": "stream",
     "text": [
      "Time to: Calculate Ground State - 1.09s, Get Pauli Ops - 17.28s, Calculate Pauli Expectation Values - 6.08s, Calculate Covariance - 2.77s\n",
      "f0,f1,f2 = [1.3237640809089513e-09, 1.3237640889283881e-09, 2.4517258247393038e-09]\n",
      "d01,d02,d12 = [1.018470150176753, 1.0187204562039498, 1.0187204556620342]\n"
     ]
    },
    {
     "name": "stderr",
     "output_type": "stream",
     "text": [
      "Progress:  77%|███████▋  | 231/300 [1:41:45<29:43, 25.85s/it]"
     ]
    },
    {
     "name": "stdout",
     "output_type": "stream",
     "text": [
      "Time to: Calculate Ground State - 1.14s, Get Pauli Ops - 15.02s, Calculate Pauli Expectation Values - 7.41s, Calculate Covariance - 2.05s\n",
      "f0,f1,f2 = [1.3325046051624267e-09, 1.332504588089587e-09, 1.030705422784921e-09]\n",
      "d01,d02,d12 = [1.009965753550897, 1.0104522336365853, 1.0104522330824566]\n"
     ]
    },
    {
     "name": "stderr",
     "output_type": "stream",
     "text": [
      "Progress:  77%|███████▋  | 232/300 [1:42:12<29:48, 26.31s/it]"
     ]
    },
    {
     "name": "stdout",
     "output_type": "stream",
     "text": [
      "Time to: Calculate Ground State - 1.01s, Get Pauli Ops - 18.27s, Calculate Pauli Expectation Values - 5.42s, Calculate Covariance - 2.68s\n",
      "f0,f1,f2 = [9.307635167229235e-10, 9.307634735138289e-10, 1.936101533471339e-09]\n",
      "d01,d02,d12 = [1.001134235580721, 1.0018361505293323, 1.0018361499451276]\n"
     ]
    },
    {
     "name": "stderr",
     "output_type": "stream",
     "text": [
      "Progress:  78%|███████▊  | 233/300 [1:42:37<28:48, 25.79s/it]"
     ]
    },
    {
     "name": "stdout",
     "output_type": "stream",
     "text": [
      "Time to: Calculate Ground State - 1.0s, Get Pauli Ops - 15.51s, Calculate Pauli Expectation Values - 5.26s, Calculate Covariance - 2.81s\n",
      "f0,f1,f2 = [6.174074478926175e-10, 6.174074119729597e-10, 1.323070232181066e-09]\n",
      "d01,d02,d12 = [0.9921152591088322, 0.9930113970191691, 0.9930113963980215]\n"
     ]
    },
    {
     "name": "stderr",
     "output_type": "stream",
     "text": [
      "Progress:  78%|███████▊  | 234/300 [1:43:03<28:39, 26.05s/it]"
     ]
    },
    {
     "name": "stdout",
     "output_type": "stream",
     "text": [
      "Time to: Calculate Ground State - 1.31s, Get Pauli Ops - 16.31s, Calculate Pauli Expectation Values - 5.65s, Calculate Covariance - 3.38s\n",
      "f0,f1,f2 = [1.0046618822519937e-09, 1.0046617648561436e-09, 1.585167885690894e-09]\n",
      "d01,d02,d12 = [0.9830336135882165, 0.9840798667371334, 0.9840798660598301]\n"
     ]
    },
    {
     "name": "stderr",
     "output_type": "stream",
     "text": [
      "Progress:  78%|███████▊  | 235/300 [1:43:31<28:39, 26.45s/it]"
     ]
    },
    {
     "name": "stdout",
     "output_type": "stream",
     "text": [
      "Time to: Calculate Ground State - 1.34s, Get Pauli Ops - 17.56s, Calculate Pauli Expectation Values - 5.24s, Calculate Covariance - 3.25s\n",
      "f0,f1,f2 = [8.093118891291321e-10, 8.093117683160371e-10, 1.0884330863594076e-09]\n",
      "d01,d02,d12 = [0.9741356984950542, 0.9753492121499423, 0.9753492114383868]\n"
     ]
    },
    {
     "name": "stderr",
     "output_type": "stream",
     "text": [
      "Progress:  79%|███████▊  | 236/300 [1:43:57<28:19, 26.55s/it]"
     ]
    },
    {
     "name": "stdout",
     "output_type": "stream",
     "text": [
      "Time to: Calculate Ground State - 1.28s, Get Pauli Ops - 16.93s, Calculate Pauli Expectation Values - 5.45s, Calculate Covariance - 3.1s\n",
      "f0,f1,f2 = [1.764303393750823e-09, 1.7643031988189329e-09, 1.4380645687818227e-09]\n",
      "d01,d02,d12 = [0.9654410426252436, 0.9667271801186169, 0.9667271793360842]\n"
     ]
    },
    {
     "name": "stderr",
     "output_type": "stream",
     "text": [
      "Progress:  79%|███████▉  | 237/300 [1:44:22<27:10, 25.89s/it]"
     ]
    },
    {
     "name": "stdout",
     "output_type": "stream",
     "text": [
      "Time to: Calculate Ground State - 1.34s, Get Pauli Ops - 15.44s, Calculate Pauli Expectation Values - 4.87s, Calculate Covariance - 2.67s\n",
      "f0,f1,f2 = [8.426597469851242e-10, 8.426596732102946e-10, 1.8108110501476056e-09]\n",
      "d01,d02,d12 = [0.957248888761461, 0.9586746503693128, 0.9586746495585563]\n"
     ]
    },
    {
     "name": "stderr",
     "output_type": "stream",
     "text": [
      "Progress:  79%|███████▉  | 238/300 [1:44:45<25:49, 25.00s/it]"
     ]
    },
    {
     "name": "stdout",
     "output_type": "stream",
     "text": [
      "Time to: Calculate Ground State - 0.76s, Get Pauli Ops - 13.99s, Calculate Pauli Expectation Values - 4.83s, Calculate Covariance - 3.33s\n",
      "f0,f1,f2 = [1.3461793213658244e-09, 1.346179332618264e-09, 8.232366615219401e-10]\n",
      "d01,d02,d12 = [0.9496268401659487, 0.9511346124884326, 0.9511346116459656]\n"
     ]
    },
    {
     "name": "stderr",
     "output_type": "stream",
     "text": [
      "Progress:  80%|███████▉  | 239/300 [1:45:11<25:41, 25.27s/it]"
     ]
    },
    {
     "name": "stdout",
     "output_type": "stream",
     "text": [
      "Time to: Calculate Ground State - 0.81s, Get Pauli Ops - 16.64s, Calculate Pauli Expectation Values - 5.33s, Calculate Covariance - 3.13s\n",
      "f0,f1,f2 = [1.8266672718963257e-09, 1.8266672455438922e-09, 9.726331257971264e-10]\n",
      "d01,d02,d12 = [0.942729768315995, 0.9443028052355855, 0.9443028043713292]\n"
     ]
    },
    {
     "name": "stderr",
     "output_type": "stream",
     "text": [
      "Progress:  80%|████████  | 240/300 [1:45:37<25:39, 25.67s/it]"
     ]
    },
    {
     "name": "stdout",
     "output_type": "stream",
     "text": [
      "Time to: Calculate Ground State - 1.05s, Get Pauli Ops - 17.39s, Calculate Pauli Expectation Values - 5.03s, Calculate Covariance - 3.11s\n",
      "f0,f1,f2 = [2.2273768023879112e-09, 2.2273767483288785e-09, 1.121053871541494e-09]\n",
      "d01,d02,d12 = [0.9366752020609277, 0.938312004833034, 0.9383120039541352]\n"
     ]
    },
    {
     "name": "stderr",
     "output_type": "stream",
     "text": [
      "Progress:  80%|████████  | 241/300 [1:46:07<26:25, 26.87s/it]"
     ]
    },
    {
     "name": "stdout",
     "output_type": "stream",
     "text": [
      "Time to: Calculate Ground State - 0.86s, Get Pauli Ops - 18.62s, Calculate Pauli Expectation Values - 7.64s, Calculate Covariance - 2.56s\n",
      "f0,f1,f2 = [1.97770801544758e-09, 1.977707943318992e-09, 3.835568222109439e-09]\n",
      "d01,d02,d12 = [0.931701411924359, 0.9334962629759305, 0.9334962621290533]\n"
     ]
    },
    {
     "name": "stderr",
     "output_type": "stream",
     "text": [
      "Progress:  81%|████████  | 242/300 [1:46:37<26:49, 27.76s/it]"
     ]
    },
    {
     "name": "stdout",
     "output_type": "stream",
     "text": [
      "Time to: Calculate Ground State - 1.09s, Get Pauli Ops - 17.41s, Calculate Pauli Expectation Values - 8.37s, Calculate Covariance - 2.95s\n",
      "f0,f1,f2 = [2.750886120952086e-09, 2.7508861129377676e-09, 1.6304473350106703e-09]\n",
      "d01,d02,d12 = [0.9277558074583261, 0.9296194251975949, 0.9296194243687819]\n"
     ]
    },
    {
     "name": "stderr",
     "output_type": "stream",
     "text": [
      "Progress:  81%|████████  | 243/300 [1:47:05<26:24, 27.79s/it]"
     ]
    },
    {
     "name": "stdout",
     "output_type": "stream",
     "text": [
      "Time to: Calculate Ground State - 1.03s, Get Pauli Ops - 15.99s, Calculate Pauli Expectation Values - 7.46s, Calculate Covariance - 3.37s\n",
      "f0,f1,f2 = [2.594200157375633e-09, 2.594200181189148e-09, 2.8861710880736435e-09]\n",
      "d01,d02,d12 = [0.9249565418226657, 0.9268333344623257, 0.9268333336461186]\n"
     ]
    },
    {
     "name": "stderr",
     "output_type": "stream",
     "text": [
      "Progress:  81%|████████▏ | 244/300 [1:47:33<26:09, 28.02s/it]"
     ]
    },
    {
     "name": "stdout",
     "output_type": "stream",
     "text": [
      "Time to: Calculate Ground State - 1.46s, Get Pauli Ops - 18.29s, Calculate Pauli Expectation Values - 6.74s, Calculate Covariance - 2.07s\n",
      "f0,f1,f2 = [2.8266431555774996e-09, 2.8266431853215595e-09, 2.7606670030837554e-09]\n",
      "d01,d02,d12 = [0.9233746588069984, 0.9252742061460202, 0.9252742053612307]\n"
     ]
    },
    {
     "name": "stderr",
     "output_type": "stream",
     "text": [
      "Progress:  82%|████████▏ | 245/300 [1:48:03<26:05, 28.46s/it]"
     ]
    },
    {
     "name": "stdout",
     "output_type": "stream",
     "text": [
      "Time to: Calculate Ground State - 1.25s, Get Pauli Ops - 17.66s, Calculate Pauli Expectation Values - 7.1s, Calculate Covariance - 3.43s\n",
      "f0,f1,f2 = [2.9424480453938507e-09, 2.942448060587164e-09, 2.747571011264257e-09]\n",
      "d01,d02,d12 = [0.923003818392156, 0.924885454446697, 0.9248854536916951]\n"
     ]
    },
    {
     "name": "stderr",
     "output_type": "stream",
     "text": [
      "Progress:  82%|████████▏ | 246/300 [1:48:32<25:50, 28.72s/it]"
     ]
    },
    {
     "name": "stdout",
     "output_type": "stream",
     "text": [
      "Time to: Calculate Ground State - 1.16s, Get Pauli Ops - 17.32s, Calculate Pauli Expectation Values - 7.63s, Calculate Covariance - 3.19s\n",
      "f0,f1,f2 = [2.7993472298546918e-09, 2.799347290425788e-09, 3.3453154363823493e-09]\n",
      "d01,d02,d12 = [0.9238777305510018, 0.9257409415484761, 0.9257409408408473]\n"
     ]
    },
    {
     "name": "stderr",
     "output_type": "stream",
     "text": [
      "Progress:  82%|████████▏ | 247/300 [1:48:57<24:23, 27.61s/it]"
     ]
    },
    {
     "name": "stdout",
     "output_type": "stream",
     "text": [
      "Time to: Calculate Ground State - 1.11s, Get Pauli Ops - 14.94s, Calculate Pauli Expectation Values - 6.63s, Calculate Covariance - 2.33s\n",
      "f0,f1,f2 = [2.7628805481462833e-09, 2.7628805830733684e-09, 3.2350025844747642e-09]\n",
      "d01,d02,d12 = [0.9259786455022053, 0.9278599368628637, 0.9278599362286019]\n"
     ]
    },
    {
     "name": "stderr",
     "output_type": "stream",
     "text": [
      "Progress:  83%|████████▎ | 248/300 [1:49:26<24:20, 28.09s/it]"
     ]
    },
    {
     "name": "stdout",
     "output_type": "stream",
     "text": [
      "Time to: Calculate Ground State - 1.24s, Get Pauli Ops - 17.37s, Calculate Pauli Expectation Values - 7.35s, Calculate Covariance - 3.25s\n",
      "f0,f1,f2 = [3.002675742686613e-09, 3.002675716216617e-09, 2.0777817004066047e-09]\n",
      "d01,d02,d12 = [0.9291985747872595, 0.9310779584327884, 0.9310779578752683]\n"
     ]
    },
    {
     "name": "stderr",
     "output_type": "stream",
     "text": [
      "Progress:  83%|████████▎ | 249/300 [1:49:51<23:02, 27.10s/it]"
     ]
    },
    {
     "name": "stdout",
     "output_type": "stream",
     "text": [
      "Time to: Calculate Ground State - 1.06s, Get Pauli Ops - 15.96s, Calculate Pauli Expectation Values - 4.94s, Calculate Covariance - 2.82s\n",
      "f0,f1,f2 = [2.6410358246267287e-09, 2.6410358146758783e-09, 2.448876805761289e-09]\n",
      "d01,d02,d12 = [0.933466882010369, 0.9353286347474851, 0.9353286342691285]\n"
     ]
    },
    {
     "name": "stderr",
     "output_type": "stream",
     "text": [
      "Progress:  83%|████████▎ | 250/300 [1:50:19<22:50, 27.40s/it]"
     ]
    },
    {
     "name": "stdout",
     "output_type": "stream",
     "text": [
      "Time to: Calculate Ground State - 1.49s, Get Pauli Ops - 17.02s, Calculate Pauli Expectation Values - 6.91s, Calculate Covariance - 2.68s\n",
      "f0,f1,f2 = [2.5822786612746544e-09, 2.5822786498802547e-09, 1.7904833956330106e-09]\n",
      "d01,d02,d12 = [0.9386582124838774, 0.9404345995680169, 0.9404345991644608]\n"
     ]
    },
    {
     "name": "stderr",
     "output_type": "stream",
     "text": [
      "Progress:  84%|████████▎ | 251/300 [1:50:45<21:53, 26.82s/it]"
     ]
    },
    {
     "name": "stdout",
     "output_type": "stream",
     "text": [
      "Time to: Calculate Ground State - 1.32s, Get Pauli Ops - 15.17s, Calculate Pauli Expectation Values - 5.44s, Calculate Covariance - 3.5s\n",
      "f0,f1,f2 = [2.075676871014298e-09, 2.07567688058904e-09, 2.133424661663459e-09]\n",
      "d01,d02,d12 = [0.9446801538301572, 0.9463745736853342, 0.9463745733632665]\n"
     ]
    },
    {
     "name": "stderr",
     "output_type": "stream",
     "text": [
      "Progress:  84%|████████▍ | 252/300 [1:51:09<20:52, 26.10s/it]"
     ]
    },
    {
     "name": "stdout",
     "output_type": "stream",
     "text": [
      "Time to: Calculate Ground State - 1.08s, Get Pauli Ops - 15.6s, Calculate Pauli Expectation Values - 4.89s, Calculate Covariance - 2.85s\n",
      "f0,f1,f2 = [1.9001511991313155e-09, 1.900151187772664e-09, 1.4892558701985162e-09]\n",
      "d01,d02,d12 = [0.9513788533757213, 0.952970575487161, 0.9529705752457939]\n"
     ]
    },
    {
     "name": "stderr",
     "output_type": "stream",
     "text": [
      "Progress:  84%|████████▍ | 253/300 [1:51:35<20:30, 26.17s/it]"
     ]
    },
    {
     "name": "stdout",
     "output_type": "stream",
     "text": [
      "Time to: Calculate Ground State - 1.0s, Get Pauli Ops - 16.04s, Calculate Pauli Expectation Values - 5.79s, Calculate Covariance - 3.51s\n",
      "f0,f1,f2 = [1.680538374588317e-09, 1.6805383612545412e-09, 9.595354111607673e-10]\n",
      "d01,d02,d12 = [0.9586053385759011, 0.9600420533445619, 0.9600420531806483]\n"
     ]
    },
    {
     "name": "stderr",
     "output_type": "stream",
     "text": [
      "Progress:  85%|████████▍ | 254/300 [1:51:57<19:01, 24.81s/it]"
     ]
    },
    {
     "name": "stdout",
     "output_type": "stream",
     "text": [
      "Time to: Calculate Ground State - 0.76s, Get Pauli Ops - 12.49s, Calculate Pauli Expectation Values - 5.2s, Calculate Covariance - 3.16s\n",
      "f0,f1,f2 = [1.5121941130946566e-09, 1.5121941000172556e-09, 3.6666392474541895e-10]\n",
      "d01,d02,d12 = [0.9662147334191331, 0.9674593046549385, 0.9674593045678889]\n"
     ]
    },
    {
     "name": "stderr",
     "output_type": "stream",
     "text": [
      "Progress:  85%|████████▌ | 255/300 [1:52:23<18:58, 25.31s/it]"
     ]
    },
    {
     "name": "stdout",
     "output_type": "stream",
     "text": [
      "Time to: Calculate Ground State - 1.05s, Get Pauli Ops - 16.98s, Calculate Pauli Expectation Values - 5.09s, Calculate Covariance - 3.36s\n",
      "f0,f1,f2 = [9.378499788666012e-10, 9.378499788044289e-10, 4.894265368752965e-10]\n",
      "d01,d02,d12 = [0.9740688126764808, 0.9750827177256588, 0.9750827177151236]\n"
     ]
    },
    {
     "name": "stderr",
     "output_type": "stream",
     "text": [
      "Progress:  85%|████████▌ | 256/300 [1:52:48<18:22, 25.05s/it]"
     ]
    },
    {
     "name": "stdout",
     "output_type": "stream",
     "text": [
      "Time to: Calculate Ground State - 1.03s, Get Pauli Ops - 13.98s, Calculate Pauli Expectation Values - 6.08s, Calculate Covariance - 3.37s\n",
      "f0,f1,f2 = [7.071670877113808e-10, 7.071670870944195e-10, 6.569515910871182e-11]\n",
      "d01,d02,d12 = [0.9820311331395275, 0.9828099434856815, 0.9828099435522442]\n"
     ]
    },
    {
     "name": "stderr",
     "output_type": "stream",
     "text": [
      "Progress:  86%|████████▌ | 257/300 [1:53:11<17:29, 24.40s/it]"
     ]
    },
    {
     "name": "stdout",
     "output_type": "stream",
     "text": [
      "Time to: Calculate Ground State - 1.18s, Get Pauli Ops - 13.69s, Calculate Pauli Expectation Values - 5.15s, Calculate Covariance - 2.83s\n",
      "f0,f1,f2 = [6.307348740412058e-10, 6.307348840039895e-10, 9.13811640693195e-10]\n",
      "d01,d02,d12 = [0.9900009126281153, 0.990567627601645, 0.9905676277427586]\n"
     ]
    },
    {
     "name": "stderr",
     "output_type": "stream",
     "text": [
      "Progress:  86%|████████▌ | 258/300 [1:53:36<17:17, 24.70s/it]"
     ]
    },
    {
     "name": "stdout",
     "output_type": "stream",
     "text": [
      "Time to: Calculate Ground State - 1.26s, Get Pauli Ops - 16.49s, Calculate Pauli Expectation Values - 4.87s, Calculate Covariance - 2.77s\n",
      "f0,f1,f2 = [1.6166722940870551e-10, 1.6166723164144112e-10, 2.687229002067398e-10]\n",
      "d01,d02,d12 = [0.9978129751105002, 0.9981859137441088, 0.9981859139535767]\n"
     ]
    },
    {
     "name": "stderr",
     "output_type": "stream",
     "text": [
      "Progress:  86%|████████▋ | 259/300 [1:54:04<17:36, 25.76s/it]"
     ]
    },
    {
     "name": "stdout",
     "output_type": "stream",
     "text": [
      "Time to: Calculate Ground State - 1.36s, Get Pauli Ops - 16.35s, Calculate Pauli Expectation Values - 7.19s, Calculate Covariance - 3.31s\n",
      "f0,f1,f2 = [1.2095607085772363e-09, 1.2095607661139829e-09, 1.9460200657553284e-09]\n",
      "d01,d02,d12 = [1.0053085876585843, 1.0054749541686752, 1.0054749544522255]\n"
     ]
    },
    {
     "name": "stderr",
     "output_type": "stream",
     "text": [
      "Progress:  87%|████████▋ | 260/300 [1:54:30<17:14, 25.87s/it]"
     ]
    },
    {
     "name": "stdout",
     "output_type": "stream",
     "text": [
      "Time to: Calculate Ground State - 1.36s, Get Pauli Ops - 16.99s, Calculate Pauli Expectation Values - 5.1s, Calculate Covariance - 2.69s\n",
      "f0,f1,f2 = [8.551458688873115e-10, 8.551458746269023e-10, 6.375137071853417e-10]\n",
      "d01,d02,d12 = [1.0124106808688107, 1.0123704618966074, 1.0123704622506338]\n"
     ]
    },
    {
     "name": "stderr",
     "output_type": "stream",
     "text": [
      "Progress:  87%|████████▋ | 261/300 [1:54:56<16:39, 25.63s/it]"
     ]
    },
    {
     "name": "stdout",
     "output_type": "stream",
     "text": [
      "Time to: Calculate Ground State - 1.35s, Get Pauli Ops - 15.95s, Calculate Pauli Expectation Values - 4.94s, Calculate Covariance - 2.81s\n",
      "f0,f1,f2 = [8.98359908090762e-10, 8.98359921563483e-10, 1.353956058336538e-09]\n",
      "d01,d02,d12 = [1.0190077431502362, 1.018759733247887, 1.0187597336639802]\n"
     ]
    },
    {
     "name": "stderr",
     "output_type": "stream",
     "text": [
      "Progress:  87%|████████▋ | 262/300 [1:55:22<16:24, 25.91s/it]"
     ]
    },
    {
     "name": "stdout",
     "output_type": "stream",
     "text": [
      "Time to: Calculate Ground State - 1.38s, Get Pauli Ops - 15.14s, Calculate Pauli Expectation Values - 7.35s, Calculate Covariance - 2.69s\n",
      "f0,f1,f2 = [1.1636571979873505e-09, 1.1636572072036372e-09, 1.482636353774891e-09]\n",
      "d01,d02,d12 = [1.025009451775532, 1.0245564114143455, 1.024556411892577]\n"
     ]
    },
    {
     "name": "stderr",
     "output_type": "stream",
     "text": [
      "Progress:  88%|████████▊ | 263/300 [1:55:47<15:44, 25.54s/it]"
     ]
    },
    {
     "name": "stdout",
     "output_type": "stream",
     "text": [
      "Time to: Calculate Ground State - 1.3s, Get Pauli Ops - 15.28s, Calculate Pauli Expectation Values - 5.24s, Calculate Covariance - 2.84s\n",
      "f0,f1,f2 = [1.2956648773078173e-09, 1.2956648961513604e-09, 1.9029258404891084e-09]\n",
      "d01,d02,d12 = [1.0303347102520495, 1.0296737343777886, 1.0296737349108633]\n"
     ]
    },
    {
     "name": "stderr",
     "output_type": "stream",
     "text": [
      "Progress:  88%|████████▊ | 264/300 [1:56:13<15:23, 25.66s/it]"
     ]
    },
    {
     "name": "stdout",
     "output_type": "stream",
     "text": [
      "Time to: Calculate Ground State - 1.05s, Get Pauli Ops - 16.47s, Calculate Pauli Expectation Values - 4.94s, Calculate Covariance - 3.47s\n",
      "f0,f1,f2 = [2.403076751550311e-09, 2.40307666390335e-09, 3.217789456792485e-10]\n",
      "d01,d02,d12 = [1.034967316096254, 1.0341266262021418, 1.0341266268021834]\n"
     ]
    },
    {
     "name": "stderr",
     "output_type": "stream",
     "text": [
      "Progress:  88%|████████▊ | 265/300 [1:56:41<15:22, 26.37s/it]"
     ]
    },
    {
     "name": "stdout",
     "output_type": "stream",
     "text": [
      "Time to: Calculate Ground State - 1.32s, Get Pauli Ops - 17.65s, Calculate Pauli Expectation Values - 5.54s, Calculate Covariance - 3.49s\n",
      "f0,f1,f2 = [1.963232668664153e-09, 1.963232656749738e-09, 1.328315385226993e-09]\n",
      "d01,d02,d12 = [1.0388298197148207, 1.0378174783579932, 1.0378174790238117]\n"
     ]
    },
    {
     "name": "stderr",
     "output_type": "stream",
     "text": [
      "Progress:  89%|████████▊ | 266/300 [1:57:11<15:32, 27.41s/it]"
     ]
    },
    {
     "name": "stdout",
     "output_type": "stream",
     "text": [
      "Time to: Calculate Ground State - 1.48s, Get Pauli Ops - 18.6s, Calculate Pauli Expectation Values - 7.36s, Calculate Covariance - 2.4s\n",
      "f0,f1,f2 = [2.4026208497620698e-09, 2.4026207658547023e-09, 9.105361752769411e-10]\n",
      "d01,d02,d12 = [1.041890067334734, 1.0407484574182326, 1.0407484581688389]\n"
     ]
    },
    {
     "name": "stderr",
     "output_type": "stream",
     "text": [
      "Progress:  89%|████████▉ | 267/300 [1:57:38<15:07, 27.51s/it]"
     ]
    },
    {
     "name": "stdout",
     "output_type": "stream",
     "text": [
      "Time to: Calculate Ground State - 1.36s, Get Pauli Ops - 17.75s, Calculate Pauli Expectation Values - 5.02s, Calculate Covariance - 3.58s\n",
      "f0,f1,f2 = [2.1831468108108255e-09, 2.183146795709844e-09, 1.472899358079986e-09]\n",
      "d01,d02,d12 = [1.0441104167181197, 1.0428553014253146, 1.0428553022624036]\n"
     ]
    },
    {
     "name": "stderr",
     "output_type": "stream",
     "text": [
      "Progress:  89%|████████▉ | 268/300 [1:58:06<14:41, 27.54s/it]"
     ]
    },
    {
     "name": "stdout",
     "output_type": "stream",
     "text": [
      "Time to: Calculate Ground State - 1.33s, Get Pauli Ops - 17.96s, Calculate Pauli Expectation Values - 5.02s, Calculate Covariance - 3.29s\n",
      "f0,f1,f2 = [1.8500038750930039e-09, 1.8500039020250794e-09, 2.6471944433308873e-09]\n",
      "d01,d02,d12 = [1.0454582672454615, 1.0441201678985494, 1.0441201688320891]\n"
     ]
    },
    {
     "name": "stderr",
     "output_type": "stream",
     "text": [
      "Progress:  90%|████████▉ | 269/300 [1:58:35<14:27, 27.98s/it]"
     ]
    },
    {
     "name": "stdout",
     "output_type": "stream",
     "text": [
      "Time to: Calculate Ground State - 1.38s, Get Pauli Ops - 19.09s, Calculate Pauli Expectation Values - 5.18s, Calculate Covariance - 3.34s\n",
      "f0,f1,f2 = [1.9341916258196272e-09, 1.9341916546245853e-09, 2.5845510648018016e-09]\n",
      "d01,d02,d12 = [1.045909425162804, 1.0444693330251633, 1.0444693340369877]\n"
     ]
    },
    {
     "name": "stderr",
     "output_type": "stream",
     "text": [
      "Progress:  90%|█████████ | 270/300 [1:59:01<13:43, 27.47s/it]"
     ]
    },
    {
     "name": "stdout",
     "output_type": "stream",
     "text": [
      "Time to: Calculate Ground State - 1.36s, Get Pauli Ops - 16.62s, Calculate Pauli Expectation Values - 5.07s, Calculate Covariance - 3.21s\n",
      "f0,f1,f2 = [2.029198490514358e-09, 2.029198505268816e-09, 2.321457460113092e-09]\n",
      "d01,d02,d12 = [1.0454587079509545, 1.0438613087403779, 1.043861309792447]\n"
     ]
    },
    {
     "name": "stderr",
     "output_type": "stream",
     "text": [
      "Progress:  90%|█████████ | 271/300 [1:59:29<13:18, 27.52s/it]"
     ]
    },
    {
     "name": "stdout",
     "output_type": "stream",
     "text": [
      "Time to: Calculate Ground State - 1.3s, Get Pauli Ops - 17.17s, Calculate Pauli Expectation Values - 5.67s, Calculate Covariance - 3.49s\n",
      "f0,f1,f2 = [2.1614098604175534e-09, 2.161409871907321e-09, 1.818496521623094e-09]\n",
      "d01,d02,d12 = [1.044163895071872, 1.0424534639297591, 1.042453465029514]\n"
     ]
    },
    {
     "name": "stderr",
     "output_type": "stream",
     "text": [
      "Progress:  91%|█████████ | 272/300 [1:59:54<12:34, 26.96s/it]"
     ]
    },
    {
     "name": "stdout",
     "output_type": "stream",
     "text": [
      "Time to: Calculate Ground State - 1.22s, Get Pauli Ops - 15.64s, Calculate Pauli Expectation Values - 5.98s, Calculate Covariance - 2.81s\n",
      "f0,f1,f2 = [2.034859489587354e-09, 2.0348595078852096e-09, 2.0449926909168972e-09]\n",
      "d01,d02,d12 = [1.0420374829230197, 1.0402362392591238, 1.0402362404068624]\n"
     ]
    },
    {
     "name": "stderr",
     "output_type": "stream",
     "text": [
      "Progress:  91%|█████████ | 273/300 [2:00:19<11:48, 26.25s/it]"
     ]
    },
    {
     "name": "stdout",
     "output_type": "stream",
     "text": [
      "Time to: Calculate Ground State - 1.35s, Get Pauli Ops - 13.9s, Calculate Pauli Expectation Values - 5.85s, Calculate Covariance - 3.49s\n",
      "f0,f1,f2 = [2.0755876793782884e-09, 2.0755876265099813e-09, 1.775282065040289e-09]\n",
      "d01,d02,d12 = [1.0391158660081172, 1.0372678129103143, 1.0372678141235583]\n"
     ]
    },
    {
     "name": "stderr",
     "output_type": "stream",
     "text": [
      "Progress:  91%|█████████▏| 274/300 [2:00:47<11:31, 26.60s/it]"
     ]
    },
    {
     "name": "stdout",
     "output_type": "stream",
     "text": [
      "Time to: Calculate Ground State - 0.94s, Get Pauli Ops - 18.99s, Calculate Pauli Expectation Values - 5.34s, Calculate Covariance - 2.14s\n",
      "f0,f1,f2 = [1.979200932290765e-09, 1.979200914573506e-09, 1.5584280729561823e-09]\n",
      "d01,d02,d12 = [1.0354445172560522, 1.0335416046758232, 1.033541605944476]\n"
     ]
    },
    {
     "name": "stderr",
     "output_type": "stream",
     "text": [
      "Progress:  92%|█████████▏| 275/300 [2:01:15<11:17, 27.11s/it]"
     ]
    },
    {
     "name": "stdout",
     "output_type": "stream",
     "text": [
      "Time to: Calculate Ground State - 1.41s, Get Pauli Ops - 17.2s, Calculate Pauli Expectation Values - 7.36s, Calculate Covariance - 2.32s\n",
      "f0,f1,f2 = [1.6034361040608453e-09, 1.6034361198724277e-09, 2.6198544361313624e-09]\n",
      "d01,d02,d12 = [1.0310391971849928, 1.0290440662081828, 1.0290440675052415]\n"
     ]
    },
    {
     "name": "stderr",
     "output_type": "stream",
     "text": [
      "Progress:  92%|█████████▏| 276/300 [2:01:42<10:50, 27.12s/it]"
     ]
    },
    {
     "name": "stdout",
     "output_type": "stream",
     "text": [
      "Time to: Calculate Ground State - 1.02s, Get Pauli Ops - 17.55s, Calculate Pauli Expectation Values - 5.03s, Calculate Covariance - 3.52s\n",
      "f0,f1,f2 = [1.7924019910635782e-09, 1.7924019782241936e-09, 9.967626322105359e-10]\n",
      "d01,d02,d12 = [1.0260202032995729, 1.023928878680639, 1.023928879986364]\n"
     ]
    },
    {
     "name": "stderr",
     "output_type": "stream",
     "text": [
      "Progress:  92%|█████████▏| 277/300 [2:02:09<10:25, 27.19s/it]"
     ]
    },
    {
     "name": "stdout",
     "output_type": "stream",
     "text": [
      "Time to: Calculate Ground State - 1.11s, Get Pauli Ops - 16.52s, Calculate Pauli Expectation Values - 6.6s, Calculate Covariance - 3.11s\n",
      "f0,f1,f2 = [1.4154066190068644e-09, 1.4154066503258407e-09, 1.5355286903671893e-09]\n",
      "d01,d02,d12 = [1.0204554870949933, 1.0182992274481022, 1.0182992287600678]\n"
     ]
    },
    {
     "name": "stderr",
     "output_type": "stream",
     "text": [
      "Progress:  93%|█████████▎| 278/300 [2:02:37<10:03, 27.43s/it]"
     ]
    },
    {
     "name": "stdout",
     "output_type": "stream",
     "text": [
      "Time to: Calculate Ground State - 1.51s, Get Pauli Ops - 16.6s, Calculate Pauli Expectation Values - 7.21s, Calculate Covariance - 2.66s\n",
      "f0,f1,f2 = [1.5828009170625802e-09, 1.5828008274273088e-09, 2.8593808875334997e-10]\n",
      "d01,d02,d12 = [1.0145068864517977, 1.0124195902122541, 1.0124195915674985]\n"
     ]
    },
    {
     "name": "stderr",
     "output_type": "stream",
     "text": [
      "Progress:  93%|█████████▎| 279/300 [2:03:03<09:25, 26.91s/it]"
     ]
    },
    {
     "name": "stdout",
     "output_type": "stream",
     "text": [
      "Time to: Calculate Ground State - 0.77s, Get Pauli Ops - 16.07s, Calculate Pauli Expectation Values - 5.37s, Calculate Covariance - 3.47s\n",
      "f0,f1,f2 = [1.3185593109070524e-09, 1.3185592205919206e-09, 2.9797319194517446e-10]\n",
      "d01,d02,d12 = [1.0081935316755424, 1.0062062576059017, 1.006206258998261]\n"
     ]
    },
    {
     "name": "stderr",
     "output_type": "stream",
     "text": [
      "Progress:  93%|█████████▎| 280/300 [2:03:28<08:47, 26.37s/it]"
     ]
    },
    {
     "name": "stdout",
     "output_type": "stream",
     "text": [
      "Time to: Calculate Ground State - 0.8s, Get Pauli Ops - 15.48s, Calculate Pauli Expectation Values - 5.49s, Calculate Covariance - 3.34s\n",
      "f0,f1,f2 = [1.470051845232432e-09, 1.4700516320124782e-09, 6.106916813278641e-10]\n",
      "d01,d02,d12 = [1.001638976358502, 0.9998061659082647, 0.9998061673377051]\n"
     ]
    },
    {
     "name": "stderr",
     "output_type": "stream",
     "text": [
      "Progress:  94%|█████████▎| 281/300 [2:03:58<08:38, 27.29s/it]"
     ]
    },
    {
     "name": "stdout",
     "output_type": "stream",
     "text": [
      "Time to: Calculate Ground State - 1.12s, Get Pauli Ops - 18.37s, Calculate Pauli Expectation Values - 7.02s, Calculate Covariance - 2.94s\n",
      "f0,f1,f2 = [5.474313723509007e-10, 5.474313181671827e-10, 1.0035475340553149e-09]\n",
      "d01,d02,d12 = [0.9948808085516131, 0.9931927749115964, 0.9931927763762164]\n"
     ]
    },
    {
     "name": "stderr",
     "output_type": "stream",
     "text": [
      "Progress:  94%|█████████▍| 282/300 [2:04:23<07:59, 26.63s/it]"
     ]
    },
    {
     "name": "stdout",
     "output_type": "stream",
     "text": [
      "Time to: Calculate Ground State - 1.23s, Get Pauli Ops - 16.97s, Calculate Pauli Expectation Values - 4.79s, Calculate Covariance - 2.09s\n",
      "f0,f1,f2 = [7.444909262362101e-10, 7.444907213532789e-10, 3.900618368545425e-10]\n",
      "d01,d02,d12 = [0.9880831477743188, 0.9866260386787338, 0.9866260402333723]\n"
     ]
    },
    {
     "name": "stderr",
     "output_type": "stream",
     "text": [
      "Progress:  94%|█████████▍| 283/300 [2:04:50<07:34, 26.74s/it]"
     ]
    },
    {
     "name": "stdout",
     "output_type": "stream",
     "text": [
      "Time to: Calculate Ground State - 1.23s, Get Pauli Ops - 17.8s, Calculate Pauli Expectation Values - 5.55s, Calculate Covariance - 2.42s\n",
      "f0,f1,f2 = [1.9059785399641935e-10, 1.9059778088360935e-10, 2.1824743193079904e-10]\n",
      "d01,d02,d12 = [0.9813405736269911, 0.9801002646401575, 0.9801002662648954]\n"
     ]
    },
    {
     "name": "stderr",
     "output_type": "stream",
     "text": [
      "Progress:  95%|█████████▍| 284/300 [2:05:15<07:03, 26.45s/it]"
     ]
    },
    {
     "name": "stdout",
     "output_type": "stream",
     "text": [
      "Time to: Calculate Ground State - 1.18s, Get Pauli Ops - 15.97s, Calculate Pauli Expectation Values - 5.37s, Calculate Covariance - 3.26s\n",
      "f0,f1,f2 = [8.032058603340788e-10, 8.03205594285528e-10, 1.3716496143745854e-09]\n",
      "d01,d02,d12 = [0.9747766398114897, 0.973781730689877, 0.9737817323876455]\n"
     ]
    },
    {
     "name": "stderr",
     "output_type": "stream",
     "text": [
      "Progress:  95%|█████████▌| 285/300 [2:05:45<06:50, 27.38s/it]"
     ]
    },
    {
     "name": "stdout",
     "output_type": "stream",
     "text": [
      "Time to: Calculate Ground State - 1.31s, Get Pauli Ops - 17.94s, Calculate Pauli Expectation Values - 7.09s, Calculate Covariance - 3.21s\n",
      "f0,f1,f2 = [6.012486122026767e-10, 6.012485407669898e-10, 2.517194870730818e-10]\n",
      "d01,d02,d12 = [0.9684742868851908, 0.9677428438535867, 0.9677428456345275]\n"
     ]
    },
    {
     "name": "stderr",
     "output_type": "stream",
     "text": [
      "Progress:  95%|█████████▌| 286/300 [2:06:14<06:28, 27.78s/it]"
     ]
    },
    {
     "name": "stdout",
     "output_type": "stream",
     "text": [
      "Time to: Calculate Ground State - 1.32s, Get Pauli Ops - 20.41s, Calculate Pauli Expectation Values - 4.92s, Calculate Covariance - 2.05s\n",
      "f0,f1,f2 = [6.896135016916167e-10, 6.896134791737786e-10, 8.835461488291396e-10]\n",
      "d01,d02,d12 = [0.9625419055554847, 0.9620811972181054, 0.9620811990710348]\n"
     ]
    },
    {
     "name": "stderr",
     "output_type": "stream",
     "text": [
      "Progress:  96%|█████████▌| 287/300 [2:06:39<05:53, 27.19s/it]"
     ]
    },
    {
     "name": "stdout",
     "output_type": "stream",
     "text": [
      "Time to: Calculate Ground State - 0.89s, Get Pauli Ops - 16.87s, Calculate Pauli Expectation Values - 4.99s, Calculate Covariance - 3.04s\n",
      "f0,f1,f2 = [8.912419373924908e-10, 8.91241882896959e-10, 1.7521326123291438e-09]\n",
      "d01,d02,d12 = [0.9570981701574246, 0.9569240290196339, 0.9569240309703054]\n"
     ]
    },
    {
     "name": "stderr",
     "output_type": "stream",
     "text": [
      "Progress:  96%|█████████▌| 288/300 [2:07:08<05:30, 27.57s/it]"
     ]
    },
    {
     "name": "stdout",
     "output_type": "stream",
     "text": [
      "Time to: Calculate Ground State - 1.43s, Get Pauli Ops - 18.67s, Calculate Pauli Expectation Values - 5.21s, Calculate Covariance - 3.14s\n",
      "f0,f1,f2 = [1.4878377483360193e-09, 1.487837415648887e-09, 2.960235241811731e-09]\n",
      "d01,d02,d12 = [0.9522417214676505, 0.9523718681340364, 0.952371870300937]\n"
     ]
    },
    {
     "name": "stderr",
     "output_type": "stream",
     "text": [
      "Progress:  96%|█████████▋| 289/300 [2:07:32<04:50, 26.38s/it]"
     ]
    },
    {
     "name": "stdout",
     "output_type": "stream",
     "text": [
      "Time to: Calculate Ground State - 1.08s, Get Pauli Ops - 14.07s, Calculate Pauli Expectation Values - 5.34s, Calculate Covariance - 3.14s\n",
      "f0,f1,f2 = [1.2786223245564029e-09, 1.278622312786943e-09, 2.201043703798182e-09]\n",
      "d01,d02,d12 = [0.9480456577267244, 0.9484807252373462, 0.948480727549937]\n"
     ]
    },
    {
     "name": "stderr",
     "output_type": "stream",
     "text": [
      "Progress:  97%|█████████▋| 290/300 [2:07:58<04:23, 26.34s/it]"
     ]
    },
    {
     "name": "stdout",
     "output_type": "stream",
     "text": [
      "Time to: Calculate Ground State - 1.23s, Get Pauli Ops - 17.21s, Calculate Pauli Expectation Values - 5.18s, Calculate Covariance - 2.6s\n",
      "f0,f1,f2 = [1.785090802304723e-09, 1.785090821360631e-09, 1.4120589376495243e-09]\n",
      "d01,d02,d12 = [0.9445812448947233, 0.9453163517526805, 0.9453163542145439]\n"
     ]
    },
    {
     "name": "stderr",
     "output_type": "stream",
     "text": [
      "Progress:  97%|█████████▋| 291/300 [2:08:26<04:02, 26.92s/it]"
     ]
    },
    {
     "name": "stdout",
     "output_type": "stream",
     "text": [
      "Time to: Calculate Ground State - 1.25s, Get Pauli Ops - 18.55s, Calculate Pauli Expectation Values - 4.97s, Calculate Covariance - 3.48s\n",
      "f0,f1,f2 = [1.9801382301277758e-09, 1.980138252782619e-09, 1.4925996658465206e-09]\n",
      "d01,d02,d12 = [0.94190902784099, 0.9429308812260795, 0.9429308838495076]\n"
     ]
    },
    {
     "name": "stderr",
     "output_type": "stream",
     "text": [
      "Progress:  97%|█████████▋| 292/300 [2:08:51<03:29, 26.23s/it]"
     ]
    },
    {
     "name": "stdout",
     "output_type": "stream",
     "text": [
      "Time to: Calculate Ground State - 1.05s, Get Pauli Ops - 15.08s, Calculate Pauli Expectation Values - 4.92s, Calculate Covariance - 3.56s\n",
      "f0,f1,f2 = [2.5534904413422924e-09, 2.553490672069919e-09, 8.241140364174594e-10]\n",
      "d01,d02,d12 = [0.9400743997850771, 0.9413405663277926, 0.9413405691673016]\n"
     ]
    },
    {
     "name": "stderr",
     "output_type": "stream",
     "text": [
      "Progress:  98%|█████████▊| 293/300 [2:09:20<03:10, 27.26s/it]"
     ]
    },
    {
     "name": "stdout",
     "output_type": "stream",
     "text": [
      "Time to: Calculate Ground State - 1.37s, Get Pauli Ops - 18.0s, Calculate Pauli Expectation Values - 7.42s, Calculate Covariance - 2.84s\n",
      "f0,f1,f2 = [2.305171290722934e-09, 2.305171318659768e-09, 1.4497734616986249e-09]\n",
      "d01,d02,d12 = [0.9391084769093359, 0.9405870151206, 0.94058701817488]\n"
     ]
    },
    {
     "name": "stderr",
     "output_type": "stream",
     "text": [
      "Progress:  98%|█████████▊| 294/300 [2:09:51<02:49, 28.24s/it]"
     ]
    },
    {
     "name": "stdout",
     "output_type": "stream",
     "text": [
      "Time to: Calculate Ground State - 1.0s, Get Pauli Ops - 21.13s, Calculate Pauli Expectation Values - 5.01s, Calculate Covariance - 3.37s\n",
      "f0,f1,f2 = [1.934175265099604e-09, 1.934175673442588e-09, 4.0104831178174614e-09]\n",
      "d01,d02,d12 = [0.939056626035168, 0.9408060676007666, 0.9408060706956741]\n"
     ]
    },
    {
     "name": "stderr",
     "output_type": "stream",
     "text": [
      "Progress:  98%|█████████▊| 295/300 [2:10:18<02:19, 28.00s/it]"
     ]
    },
    {
     "name": "stdout",
     "output_type": "stream",
     "text": [
      "Time to: Calculate Ground State - 1.36s, Get Pauli Ops - 18.49s, Calculate Pauli Expectation Values - 4.97s, Calculate Covariance - 2.61s\n",
      "f0,f1,f2 = [2.148581385392576e-09, 2.1485814139100037e-09, 1.873064007453795e-09]\n",
      "d01,d02,d12 = [0.9398721817455895, 0.9418727573852624, 0.9418727605121143]\n"
     ]
    },
    {
     "name": "stderr",
     "output_type": "stream",
     "text": [
      "Progress:  99%|█████████▊| 296/300 [2:10:46<01:51, 27.95s/it]"
     ]
    },
    {
     "name": "stdout",
     "output_type": "stream",
     "text": [
      "Time to: Calculate Ground State - 0.81s, Get Pauli Ops - 18.88s, Calculate Pauli Expectation Values - 5.19s, Calculate Covariance - 2.96s\n",
      "f0,f1,f2 = [1.8393388200007367e-09, 1.8393389070078008e-09, 3.2320529222371844e-09]\n",
      "d01,d02,d12 = [0.9415495735881656, 0.9438486456225504, 0.9438486486880714]\n"
     ]
    },
    {
     "name": "stderr",
     "output_type": "stream",
     "text": [
      "Progress:  99%|█████████▉| 297/300 [2:11:15<01:24, 28.16s/it]"
     ]
    },
    {
     "name": "stdout",
     "output_type": "stream",
     "text": [
      "Time to: Calculate Ground State - 1.21s, Get Pauli Ops - 18.23s, Calculate Pauli Expectation Values - 5.56s, Calculate Covariance - 3.63s\n",
      "f0,f1,f2 = [2.0373585724815742e-09, 2.037358661525121e-09, 1.6200602905877012e-09]\n",
      "d01,d02,d12 = [0.9440232870496812, 0.9465957494165328, 0.9465957524137246]\n"
     ]
    },
    {
     "name": "stderr",
     "output_type": "stream",
     "text": [
      "Progress:  99%|█████████▉| 298/300 [2:11:40<00:54, 27.40s/it]"
     ]
    },
    {
     "name": "stdout",
     "output_type": "stream",
     "text": [
      "Time to: Calculate Ground State - 1.03s, Get Pauli Ops - 16.71s, Calculate Pauli Expectation Values - 4.86s, Calculate Covariance - 3.02s\n",
      "f0,f1,f2 = [1.8972130284098197e-09, 1.897213077546245e-09, 1.3940213039331763e-09]\n",
      "d01,d02,d12 = [0.9472163925694188, 0.9500242267542222, 0.9500242296835508]\n"
     ]
    },
    {
     "name": "stderr",
     "output_type": "stream",
     "text": [
      "Progress: 100%|█████████▉| 299/300 [2:12:06<00:26, 26.91s/it]"
     ]
    },
    {
     "name": "stdout",
     "output_type": "stream",
     "text": [
      "Time to: Calculate Ground State - 1.24s, Get Pauli Ops - 16.2s, Calculate Pauli Expectation Values - 4.96s, Calculate Covariance - 3.36s\n",
      "f0,f1,f2 = [1.712494391810021e-09, 1.7124944324165683e-09, 1.3701085749221645e-09]\n",
      "d01,d02,d12 = [0.95104858992238, 0.9540387867367854, 0.9540387896049746]\n"
     ]
    },
    {
     "name": "stderr",
     "output_type": "stream",
     "text": [
      "Progress: 100%|██████████| 300/300 [2:12:31<00:00, 26.50s/it]"
     ]
    },
    {
     "name": "stdout",
     "output_type": "stream",
     "text": [
      "Time to: Calculate Ground State - 1.28s, Get Pauli Ops - 16.11s, Calculate Pauli Expectation Values - 4.86s, Calculate Covariance - 2.52s\n",
      "f0,f1,f2 = [1.4352771659541767e-09, 1.4352772554407635e-09, 2.743775090467522e-09]\n",
      "d01,d02,d12 = [0.9555065854355824, 0.9587466015686172, 0.9587466043065693]\n"
     ]
    },
    {
     "name": "stderr",
     "output_type": "stream",
     "text": [
      "\n"
     ]
    },
    {
     "data": {
      "image/png": "[encoded data removed]",
      "text/plain": [
       "<Figure size 640x480 with 1 Axes>"
      ]
     },
     "metadata": {},
     "output_type": "display_data"
    }
   ],
   "source": [
    "from matplotlib import pyplot as plt\n",
    "(distance01,distance02,distance12,times) = main()\n",
    "\n",
    "np_distance01 = np.array(distance01)\n",
    "np_distance02 = np.array(distance02)\n",
    "np_distance12 = np.array(distance12)\n",
    "\n",
    "plt.plot(times,np_distance01[:-1],label = 'd01')\n",
    "plt.plot(times,np_distance02[:-1],label = 'd02')\n",
    "plt.plot(times,np_distance12[:-1],label = 'd12')\n",
    "\n",
    "plt.title('Distances at time t')\n",
    "plt.xlabel('Time')\n",
    "plt.ylabel('Distance')\n",
    "plt.legend()\n",
    "plt.show()"
   ]
  },
  {
   "cell_type": "code",
   "execution_count": null,
   "id": "885910be",
   "metadata": {},
   "outputs": [],
   "source": []
  }
 ],
 "metadata": {
  "kernelspec": {
   "display_name": "Python 3 (ipykernel)",
   "language": "python",
   "name": "python3"
  },
  "language_info": {
   "codemirror_mode": {
    "name": "ipython",
    "version": 3
   },
   "file_extension": ".py",
   "mimetype": "text/x-python",
   "name": "python",
   "nbconvert_exporter": "python",
   "pygments_lexer": "ipython3",
   "version": "3.9.15"
  }
 },
 "nbformat": 4,
 "nbformat_minor": 5
}
