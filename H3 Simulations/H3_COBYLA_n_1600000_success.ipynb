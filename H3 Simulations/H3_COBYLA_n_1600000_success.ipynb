{
 "cells": [
  {
   "cell_type": "code",
   "execution_count": 1,
   "id": "fbc296ce",
   "metadata": {},
   "outputs": [],
   "source": [
    "import numpy as np\n",
    "import matplotlib.pyplot as plt\n",
    "\n",
    "from pyscf import ao2mo,gto, scf\n",
    "\n",
    "from typing import Tuple\n",
    "\n",
    "\n",
    "# qiskit\n",
    "from qiskit.algorithms import VQE\n",
    "from qiskit.algorithms.optimizers import COBYLA, SPSA, SLSQP, NELDER_MEAD\n",
    "from qiskit.algorithms import MinimumEigensolverResult\n",
    "\n",
    "from qiskit import IBMQ, BasicAer, Aer\n",
    "from qiskit.utils import QuantumInstance\n",
    "from qiskit.quantum_info.operators import Operator\n",
    "from qiskit.opflow import PauliExpectation, CircuitSampler, StateFn, CircuitStateFn\n",
    "from qiskit.opflow.primitive_ops import PauliOp, PauliSumOp\n",
    "from qiskit.quantum_info import Pauli, SparsePauliOp\n",
    "\n",
    "# qiskit nature\n",
    "from qiskit_nature.second_q.hamiltonians import ElectronicEnergy\n",
    "from qiskit_nature.second_q.mappers import ParityMapper, QubitConverter\n",
    "from qiskit_nature.second_q.problems import ElectronicStructureProblem\n",
    "from qiskit_nature.second_q.operators import FermionicOp\n",
    "from qiskit_nature.second_q.properties import ParticleNumber\n",
    "from qiskit_nature.second_q.transformers import FreezeCoreTransformer\n",
    "from qiskit_nature.second_q.circuit.library import UCCSD, HartreeFock\n",
    "from qiskit_nature.second_q.problems import ElectronicBasis\n",
    "from qiskit_nature.second_q.formats.molecule_info import MoleculeInfo\n",
    "from qiskit_nature.drivers import Molecule\n",
    "from qiskit_nature.drivers.second_quantization import (\n",
    "    ElectronicStructureMoleculeDriver, ElectronicStructureDriverType)\n",
    "\n",
    "from qiskit_nature.settings import settings\n",
    "settings.dict_aux_operators = True\n",
    "\n",
    "#from qiskit import IBMQ\n",
    "#from qiskit_nature.runtime import VQEClient\n",
    "#from qiskit.providers.ibmq import least_busy\n",
    "#from qiskit_ibm_runtime import QiskitRuntimeService, Estimator, Session\n",
    "\n",
    "# useful??\n",
    "#from qiskit_nature.algorithms import (GroundStateEigensolver,\n",
    "#                                      NumPyMinimumEigensolverFactory)\n",
    "from qiskit.circuit.library import EfficientSU2\n",
    "from qiskit.circuit.library import RealAmplitudes\n",
    "from qiskit.utils.mitigation import CompleteMeasFitter\n",
    "from qiskit.providers.aer.noise import NoiseModel\n",
    "from qiskit.providers.aer import QasmSimulator\n",
    "from qiskit import QuantumCircuit, transpile\n",
    "from qiskit.opflow import TwoQubitReduction\n",
    "\n",
    "def get_molecular_integrals(molecule):\n",
    "    '''\n",
    "    Calculates the 1-electron and 2-electron integrals.\n",
    "    \n",
    "    Args:   \n",
    "        molecule : Mole \n",
    "            Ccorresponds to the molecule.\n",
    "            \n",
    "    Returns:\n",
    "        h1_MO : ndarray\n",
    "                Tensor corresponding to the 1-electron integral in the molecular basis.\n",
    "        \n",
    "        h2_MO : ndarray\n",
    "                Tensor corresponding to the 2-electron integral in the molecular basis.\n",
    "\n",
    "        n_particles: Tuple[int, int]\n",
    "            Number of alpha and beta electrons.\n",
    "        \n",
    "        num_orb : int \n",
    "            Number of orbitals.\n",
    "\n",
    "        nuclear_repulsion_energy : float\n",
    "            Nuclear repulsion energy.\n",
    "    '''\n",
    "    \n",
    "    mf = scf.RHF(molecule).run()\n",
    "\n",
    "    # computing the 1e and 2e AO (atomic orbitals) integrals \n",
    "    h1 = molecule.intor_symmetric(\"int1e_nuc\") + molecule.intor_symmetric(\"int1e_kin\") \n",
    "    h2 = molecule.intor(\"int2e\")\n",
    "    # comment : add aosym (axis of symmetry) ???\n",
    "\n",
    "    # transformations from AO to MO (molecular orbitals)\n",
    "    h1_MO = np.einsum('pi,pq,qj->ij', mf.mo_coeff, h1, mf.mo_coeff)\n",
    "    h2_MO = ao2mo.get_mo_eri(h2, mf.mo_coeff)\n",
    "\n",
    "    #h2_MO = ao2mo.kernel(mol_h2, mf.mo_coeff, aosym=\"1\") #alternative\n",
    "\n",
    "    nuclear_repulsion_energy=molecule.energy_nuc()\n",
    "    num_particles = molecule.nelec\n",
    "    num_orb = h1.shape[0]\n",
    "\n",
    "    return h1_MO, h2_MO, num_particles, num_orb, nuclear_repulsion_energy\n",
    "\n",
    "\n",
    "def get_qubit_op(coordinates):\n",
    "    '''\n",
    "    Calculates the Hamiltonian as the sum of Pauli operators as a function\n",
    "    of the coordinates of the atoms.\n",
    "    \n",
    "    Args:\n",
    "        coordinates : ndarray\n",
    "            Array containing the positions of the atoms constituing the molecule.\n",
    "        \n",
    "    \n",
    "    Returns:\n",
    "        qubit_op : PauliSumOp\n",
    "            Sum of Pauli operators corresponding to the Hamiltonian.\n",
    "        \n",
    "        nelec : Tuple[int, int]\n",
    "            Number of alpha and beta electrons.\n",
    "        \n",
    "        norb : int \n",
    "            Number of orbitals.\n",
    "            \n",
    "        problem : ElectronicStructureProblem\n",
    "        \n",
    "        converter : QubitConverter\n",
    "    '''\n",
    "    \n",
    "    mol = gto.M(\n",
    "                atom = [['H',(coordinates[0], coordinates[1], 0.0)], \n",
    "                        ['H',(coordinates[2], coordinates[3], 0.0)],\n",
    "                        ['H',(coordinates[4], coordinates[5], 0.0)]],\n",
    "                basis = 'sto3g',\n",
    "                charge = 1,\n",
    "                spin = 0,\n",
    "                symmetry = True,\n",
    "                verbose = 2 # control the print level of PySCF globally\n",
    "    )\n",
    "\n",
    "    h1_MO,h2_MO,nelec,norb,ecore = get_molecular_integrals(mol)\n",
    "\n",
    "    # Define an ElectronicEnergy instance containing the 1e and 2e integrals\n",
    "    electronic_energy = ElectronicEnergy.from_raw_integrals(\n",
    "            h1_MO, ao2mo.restore(1, h2_MO, norb)\n",
    "        )\n",
    "    electronic_energy.nuclear_repulsion_energy = ecore\n",
    "\n",
    "    # Define an ElectronicStructureProblem\n",
    "    problem = ElectronicStructureProblem(electronic_energy)\n",
    "\n",
    "    second_q_ops = problem.second_q_ops()     # get second quantized operators\n",
    "    problem.num_spatial_orbitals = norb  # define number of orbitals\n",
    "    problem.num_particles = nelec        # define number of particles \n",
    "    \n",
    "    problem.basis = ElectronicBasis.MO \n",
    "    \n",
    "    problem.molecule=MoleculeInfo(symbols=[mol.atom_symbol(i) for i in range(mol.nbas)], \n",
    "                                  coords=mol.atom_coords())\n",
    "    FC_transformer=FreezeCoreTransformer(freeze_core=True)\n",
    "    problem = FC_transformer.transform(problem)\n",
    "    \n",
    "    # TODO we need to give info about the molecule to use FreezeCoreTransformer \n",
    "    # question : how to do it in a smart way ? at the initialization ??\n",
    "    \n",
    "    hamiltonian = second_q_ops[0]  # Set electronic part of Hamiltonian\n",
    "    hamiltonian = (hamiltonian + FermionicOp({\"\": ecore}, num_spin_orbitals=norb)) # add Nuclear Repulsion Energy\n",
    "    #print(\"Hamiltonian :\\n\", hamiltonian) # print for checking purposes\n",
    "    \n",
    "    mapper = ParityMapper()  # Set Mapper\n",
    "    \n",
    "    # Do two qubit reduction\n",
    "    converter = QubitConverter(mapper,two_qubit_reduction=True)\n",
    "    qubit_op = converter.convert(hamiltonian, nelec)\n",
    "    #print(\"q_op :\\n\", qubit_op) # print for checking purposes\n",
    "    \n",
    "\n",
    "    return qubit_op, nelec, norb, problem, converter\n",
    "\n",
    "def calc_ground_state(qubit_op,nelec,norb,problem,converter) :\n",
    "    '''\n",
    "    Calculates the ground state and the ground energy of the Hamiltonian.\n",
    "    \n",
    "    Args:\n",
    "        qubit_op : PauliSumOp\n",
    "            Sum of Pauli operators corresponding to the Hamiltonian.\n",
    "        \n",
    "        nelec : Tuple[int, int]\n",
    "            Number of alpha and beta electrons.\n",
    "        \n",
    "        norb : int \n",
    "            Number of orbitals.\n",
    "            \n",
    "        problem : ElectronicStructureProblem\n",
    "        \n",
    "        converter : QubitConverter\n",
    "        \n",
    "    \n",
    "    Returns:\n",
    "        ground_state : CircuitStateFn\n",
    "            Ground state of the Hamiltonian.\n",
    "            \n",
    "        min_eng : float\n",
    "            Ground energy of the Hamiltonian.\n",
    "    '''\n",
    "\n",
    "    backend = BasicAer.get_backend(\"statevector_simulator\")\n",
    "    quantum_instance = QuantumInstance(backend)\n",
    "    optimizer = SLSQP(maxiter=400)\n",
    "\n",
    "    init_state = HartreeFock(num_spatial_orbitals=norb, \n",
    "                                num_particles=nelec, \n",
    "                                qubit_converter=converter\n",
    "                            )\n",
    "    \n",
    "    var_form = UCCSD(qubit_converter=converter,\n",
    "                        num_particles=nelec,\n",
    "                        num_spatial_orbitals=norb, \n",
    "                        initial_state=init_state\n",
    "                        )\n",
    "\n",
    "    vqe = VQE(var_form, optimizer, quantum_instance=quantum_instance) \n",
    "    vqe_result = vqe.compute_minimum_eigenvalue(qubit_op)\n",
    "    min_eng = vqe_result.eigenvalue.real\n",
    "    final_params = vqe_result.optimal_parameters \n",
    "\n",
    "    vqe_ground = vqe.ansatz.bind_parameters(final_params) \n",
    "#     vqe_ground_state = CircuitStateFn(vqe_ground)\n",
    "    \n",
    "    return vqe_ground, min_eng"
   ]
  },
  {
   "cell_type": "code",
   "execution_count": 2,
   "id": "3f5daa79",
   "metadata": {},
   "outputs": [],
   "source": [
    "Ha = 4.36e-18\n",
    "angst = 1.0e-10\n",
    "dR = 0.01 #removed the angst, since coordinates are given in angst\n",
    "\n",
    "\n",
    "from qiskit.opflow import I, X, Y, Z\n",
    "from qiskit.opflow.primitive_ops import PauliOp\n",
    "from qiskit.quantum_info import Pauli\n",
    "#from hamiltonian import calc_ground_state, get_qubit_op\n",
    "import numpy as np\n",
    "from qiskit.utils import QuantumInstance\n",
    "from qiskit.opflow import PauliExpectation, CircuitSampler, StateFn, CircuitStateFn\n",
    "from qiskit import IBMQ, BasicAer, Aer\n",
    "\n",
    "import time #to see which part of code takes the longest\n",
    "import multiprocessing\n",
    "\n",
    "\n",
    "#calculate centre of mass (currently for equal particle masses)\n",
    "def calc_COM(coordinates):\n",
    "    #print(coordinates)\n",
    "    r_array = np.array_split(coordinates,3)\n",
    "    COM = (r_array[0] + r_array[1] + r_array[2])/3\n",
    "    \n",
    "    return COM\n",
    "\n",
    "#task to calculate expectation value\n",
    "def task1(string, q_instance, psi_0):\n",
    "\n",
    "    Obs = PauliOp(Pauli(string))\n",
    "    measurable_expression = StateFn(Obs, is_measurement=True).compose(psi_0)\n",
    "    expectation = PauliExpectation().convert(measurable_expression)  \n",
    "    sampler = CircuitSampler(q_instance).convert(expectation) \n",
    "    E = sampler.eval().real\n",
    "        \n",
    "    return E\n",
    "\n",
    "#task to calculate operator from coordinates\n",
    "def task2(coordinates):\n",
    "    \n",
    "    #get qubit operators coresponding to H+ (hamiltonian for atomic distances R + dR)\n",
    "    (qubit_op_plus, num_part_plus, num_orb_plus, problem_plus, converter_plus) = get_qubit_op(coordinates[0])\n",
    "    #get qubit operators coresponding to H- (hamiltonian for atomic distances R - dR)\n",
    "    (qubit_op_minus, num_part_minus, num_orb_minus, problem_minus, converter_minus) = get_qubit_op(coordinates[1])\n",
    "        \n",
    "    qubit_op_plus = qubit_op_plus #TODO:number of I's needs to be changed according to number of qubits\n",
    "    qubit_op_minus = qubit_op_minus\n",
    "       \n",
    "    #op =  (-(qubit_op_plus - qubit_op_minus)).reduce()\n",
    "    op =  -(qubit_op_plus - qubit_op_minus)\n",
    "\n",
    "                    \n",
    "    op_list = op.primitive.to_list() #list containing Pauli operators in support and corresponding coeffs\n",
    "    #print(op_list)    \n",
    "    #construct dict from list\n",
    "    op_dict = {}\n",
    "    for (PauliString,coeff) in op_list:\n",
    "\n",
    "        if PauliString in op_dict:\n",
    "            op_dict[PauliString] += coeff\n",
    "        else:\n",
    "            op_dict[PauliString] = coeff\n",
    "    \n",
    "    return op, op_dict\n",
    " \n",
    "def parallel_operators(coordinates,basis_set):\n",
    "    \n",
    "    \n",
    "    coordinate_list = []\n",
    "    \n",
    "    v0_normed = basis_set[0]\n",
    "    v0_orth = basis_set[1]\n",
    "    \n",
    "    v1_normed = basis_set[2]\n",
    "    v1_orth = basis_set[3]\n",
    "\n",
    "    v2_normed = basis_set[4]\n",
    "    v2_orth = basis_set[5]\n",
    "    \n",
    "    displ_coords_0_a = np.array([v0_normed[0]*dR,v0_normed[1]*dR,0,0,0,0])\n",
    "    displ_coords_0_b = np.array([v0_orth[0]*dR,v0_orth[1]*dR,0,0,0,0])\n",
    "    displ_coords_1_a = np.array([0,0,v1_normed[0]*dR,v1_normed[1]*dR,0,0])\n",
    "    displ_coords_1_b = np.array([0,0,v1_orth[0]*dR,v1_orth[1]*dR,0,0])\n",
    "    displ_coords_2_a = np.array([0,0,0,0,v2_normed[0]*dR,v2_normed[1]*dR])\n",
    "    displ_coords_2_b = np.array([0,0,0,0,v2_orth[0]*dR,v2_orth[1]*dR])\n",
    "\n",
    "    coordinate_list.append([coordinates + displ_coords_0_a,coordinates - displ_coords_0_a])\n",
    "    coordinate_list.append([coordinates + displ_coords_0_b,coordinates - displ_coords_0_b])\n",
    "    coordinate_list.append([coordinates + displ_coords_1_a,coordinates - displ_coords_1_a])\n",
    "    coordinate_list.append([coordinates + displ_coords_1_b,coordinates - displ_coords_1_b])\n",
    "    coordinate_list.append([coordinates + displ_coords_2_a,coordinates - displ_coords_2_a])\n",
    "    coordinate_list.append([coordinates + displ_coords_2_b,coordinates - displ_coords_2_b])\n",
    "    \n",
    "    #dR_list = v0_normed.tolist() + v1_normed.tolist() + v2_normed.tolist()\n",
    "    \n",
    "    dR_list = [dR,dR,dR,dR,dR,dR]\n",
    "    #print(dR_list)\n",
    "    #for i in range(len(coordinates)):\n",
    "        \n",
    "        #coordinate_list.append([coordinates[0:i]+[(coordinates[i]+dR_list[i])]+coordinates[i+1:],coordinates[0:i]+[(coordinates[i]-dR_list[i])]+coordinates[i+1:]])\n",
    "    \n",
    "    #print(coordinate_list)\n",
    "    with multiprocessing.Pool() as pool:\n",
    "         ops,op_coeffs = zip(*pool.map(task2, coordinate_list))\n",
    "    \n",
    "    #print(ops)\n",
    "    return ops, op_coeffs\n",
    "\n",
    "def sequential_operators(coordinates):\n",
    "    ops = []\n",
    "    op_coeffs = []\n",
    "    \n",
    "    for i in range(len(coordinates)):\n",
    "        \n",
    "        #get qubit operators coresponding to H+ (hamiltonian for atomic distances R + dR)\n",
    "        (qubit_op_plus, num_part_plus, num_orb_plus, problem_plus, converter_plus) = get_qubit_op(coordinates[0:i]+[(coordinates[i]+dR)]+coordinates[i+1:])\n",
    "        #get qubit operators coresponding to H- (hamiltonian for atomic distances R - dR)\n",
    "        (qubit_op_minus, num_part_minus, num_orb_minus, problem_minus, converter_minus) = get_qubit_op(coordinates[0:i]+[(coordinates[i]-dR)]+coordinates[i+1:])\n",
    "\n",
    "        rep_eng_plus = problem_plus.grouped_property_transformed.get_property(\"ElectronicEnergy\").nuclear_repulsion_energy\n",
    "        rep_eng_minus  = problem_minus.grouped_property_transformed.get_property(\"ElectronicEnergy\").nuclear_repulsion_energy\n",
    "        \n",
    "        qubit_op_plus = qubit_op_plus + rep_eng_plus*(I^I^I^I) #TODO:number of I's needs to be changed according to number of qubits\n",
    "        qubit_op_minus = qubit_op_minus + rep_eng_minus*(I^I^I^I)\n",
    "        \n",
    "       \n",
    "        op =  -(qubit_op_plus - qubit_op_minus).reduce()\n",
    "                    \n",
    "        op_list = op.primitive.to_list() #list containing Pauli operators in support and corresponding coeffs\n",
    "        \n",
    "        #construct dict from list\n",
    "        op_dict = {}\n",
    "        for (PauliString,coeff) in op_list:\n",
    "\n",
    "            if PauliString in op_dict:\n",
    "                op_dict[PauliString] += coeff\n",
    "            else:\n",
    "                op_dict[PauliString] = coeff\n",
    "                \n",
    "        ops.append(op)\n",
    "        op_coeffs.append(op_dict)\n",
    "    #print(ops)\n",
    "    return ops, op_coeffs\n",
    "\n",
    "def parallel_expectations(exp_dict, op_set, q_instance, psi_0):\n",
    "\n",
    "    triples = []\n",
    "    for op in op_set:\n",
    "        triple = (op,q_instance,psi_0)\n",
    "        triples.append(triple)\n",
    "\n",
    "    Es = 0\n",
    "    with multiprocessing.Pool() as pool:\n",
    "        Es = pool.starmap(task1, triples)\n",
    "\n",
    "    for i in range(len(Es)):\n",
    "        exp_dict[triples[i][0]]=Es[i]\n",
    "\n",
    "    return 0\n",
    "\n",
    "def sequential_expectations(exp_dict, op_set, q_instance, psi_0):\n",
    "\n",
    "    for pauli_string in op_set:\n",
    "        \n",
    "        Obs = PauliOp(Pauli(pauli_string))\n",
    "        measurable_expression = StateFn(Obs, is_measurement=True).compose(psi_0)\n",
    "        expectation = PauliExpectation().convert(measurable_expression)  \n",
    "        sampler = CircuitSampler(q_instance).convert(expectation) \n",
    "        E = sampler.eval().real\n",
    "        exp_dict[pauli_string] = E\n",
    "\n",
    "    return 0\n",
    "\n",
    "def get_psi_0(coordinates, simulator='qasm',shots=1028):\n",
    "\n",
    "    #get qubit operator corresponding to H(R)\n",
    "    (qubit_op, num_part, num_orb, problem, converter) = get_qubit_op(coordinates)\n",
    "    \n",
    "    #get the ground state of H(R)\n",
    "    psi_0,_ = calc_ground_state(qubit_op,num_part, num_orb, problem, converter)\n",
    "    \n",
    "    psi_0 = CircuitStateFn(psi_0)\n",
    "\n",
    "    return psi_0\n",
    "\n",
    "def calc_force_and_cov(coordinates, simulator = 'qasm', PauliSet = None, mode = 'full', shots = 128, basis_set_this=None):\n",
    "  \n",
    "    \n",
    "    if simulator == 'qasm':\n",
    "            backend = Aer.get_backend('qasm_simulator')\n",
    "            #backend.set_options(max_job_size=1, executor = euler_client)\n",
    "            q_instance = QuantumInstance(backend, shots=shots)\n",
    "    elif simulator == \"exact\":\n",
    "            backend = BasicAer.get_backend(\"statevector_simulator\")\n",
    "            q_instance = QuantumInstance(backend)\n",
    "    else:\n",
    "        print('Error: simulator should be qasm or exact!')\n",
    "        \n",
    "    num_coord = len(coordinates)   \n",
    "    \n",
    "    start = time.time()\n",
    "    \n",
    "\n",
    "    psi_0 = get_psi_0(coordinates, simulator = simulator, shots=shots)\n",
    "    \n",
    "    end = time.time()\n",
    "    \n",
    "    \n",
    "    time_psi_0 = end - start\n",
    "    #print(\"Took \" + str(time_psi_0) + \" s to calculate the ground state\")\n",
    "    forces = np.zeros(num_coord)\n",
    "    coordinates = coordinates.tolist()\n",
    "    \n",
    "    \n",
    "    coordinates_this = np.array(coordinates)\n",
    "    COM = calc_COM(coordinates_this)\n",
    "    coords = np.array_split(coordinates_this,3)\n",
    "    #print(coords)\n",
    "    #print(COM)\n",
    "    v0 = coords[0] - COM\n",
    "    v1 = coords[1] - COM\n",
    "    v2 = coords[2] - COM\n",
    "    \n",
    "    v0_normed = np.array(v0/np.sqrt(v0[0]**2+v0[1]**2))\n",
    "    v0_orth = np.array([v0_normed[1],-v0_normed[0]])\n",
    "    \n",
    "    v1_normed = np.array(v1/np.sqrt(v1[0]**2+v1[1]**2))\n",
    "    v1_orth = np.array([v1_normed[1],-v1_normed[0]])\n",
    "\n",
    "    v2_normed = np.array(v2/np.sqrt(v2[0]**2+v2[1]**2))\n",
    "    v2_orth = np.array([v2_normed[1],-v2_normed[0]])\n",
    "    \n",
    "    basis_set = [v0_normed,v0_orth,v1_normed,v1_orth,v2_normed,v2_orth]\n",
    "    #basis_set = basis_set_this\n",
    "\n",
    "    transform_matrix = np.array([[basis_set[0][0],basis_set[1][0],0,0,0,0],\n",
    "                                 [basis_set[0][1],basis_set[1][1],0,0,0,0],\n",
    "                                 [0,0,basis_set[2][0],basis_set[3][0],0,0],\n",
    "                                 [0,0,basis_set[2][1],basis_set[3][1],0,0],\n",
    "                                 [0,0,0,0,basis_set[4][0],basis_set[5][0]],\n",
    "                                 [0,0,0,0,basis_set[4][1],basis_set[5][1]]])\n",
    "    \n",
    "    transform_matrix_inv = np.linalg.inv(transform_matrix)\n",
    "    \n",
    "    start = time.time()\n",
    "    #get force component operators and decomposition (without the 1/(2*dR) factor, for numerical reasons)\n",
    "    #replace parallel_ with sequential_ to see effect of parallelization\n",
    "    force_ops,force_op_coeffs = parallel_operators(coordinates,basis_set)\n",
    "    \n",
    "    #for ops in force_ops:\n",
    "        #print(len(ops))\n",
    "        \n",
    "    P1 = force_ops[0]\n",
    "    \n",
    "    if PauliSet == None:\n",
    "        \n",
    "        pauli_op_set = {'IIII'} #Could not initialize empty set for some reason\n",
    "        # construct set of PauliOp products that we need to calculate\n",
    "\n",
    "        for PauliString,coeff in force_op_coeffs[0].items():\n",
    "            pauli_op_set.add(PauliString)\n",
    "\n",
    "        #to get set of necessary PauliOp products:\n",
    "        \n",
    "            P_prod = (P1@P1)\n",
    "            P_list = P_prod.primitive.to_list()\n",
    "\n",
    "            for (PauliString,coeff) in P_list:\n",
    "                pauli_op_set.add(PauliString)\n",
    "                \n",
    "    else: pauli_op_set = PauliSet\n",
    "        \n",
    "    end = time.time()\n",
    "    \n",
    "    time_pauli_ops = end - start\n",
    "        \n",
    "\n",
    "        # Now we calculate the expectation values of all the relevant PauliOps\n",
    "    \n",
    "    start = time.time()\n",
    "    exp_dict = {} # dictionary with relevant expectation values\n",
    "        \n",
    "    #switch between parallel_ and sequential_ to see the effect\n",
    "    \n",
    "    parallel_expectations(exp_dict,pauli_op_set,q_instance,psi_0)\n",
    "    \n",
    "\n",
    "    for i in range(len(coordinates)):\n",
    "        for pauli_op,coeff in force_op_coeffs[i].items():\n",
    "            forces[i] += coeff.real*exp_dict[pauli_op]\n",
    "    \n",
    "    forces[1] = 0\n",
    "    forces[3] = 0\n",
    "    forces[5] = 0\n",
    "    forces_return = np.matmul(transform_matrix,np.array(forces))\n",
    "    print(forces)\n",
    "            \n",
    "    end = time.time()   \n",
    "    time_calc_exp = end - start\n",
    "    \n",
    "    \n",
    "    start = time.time()\n",
    "    COV = np.zeros((num_coord,num_coord)) #force covariance matrix, without some multiplicative factors. \n",
    "        \n",
    "    for i in range(num_coord):\n",
    "        for j in range(i,num_coord):\n",
    "\n",
    "            Pij = force_ops[i]@force_ops[j]\n",
    "            Pij_list = Pij.primitive.to_list()\n",
    "\n",
    "            #add product expectation \n",
    "            for (pauli_string,coeff) in Pij_list:\n",
    "                COV[i,j] += coeff.real*exp_dict[pauli_string]\n",
    "                    #subtract \n",
    "            COV[i,j] -= forces[i]*forces[j]\n",
    "\n",
    "            #since COV is symmetric\n",
    "            if (i,j) != (0,0) and (i,j) != (2,2) and (i,j) != (4,4) and (i,j) != (0,2) and (i,j) != (0,4) and (i,j) != (2,0) and (i,j) != (2,4) and (i,j) != (4,0) and (i,j) != (4,2):\n",
    "                #print(\"here\")\n",
    "                #print((i,j))\n",
    "                COV[i,j] = 0\n",
    "            \n",
    "            if i < j:\n",
    "                COV[j,i] = COV[i,j]\n",
    "            \n",
    "            \n",
    "                \n",
    "    print(COV)            \n",
    "    end = time.time()\n",
    "    COV_1 = np.matmul(COV,transform_matrix)\n",
    "    COV_2 = np.matmul(transform_matrix_inv,COV_1)\n",
    "    COV_return = COV_2\n",
    "    time_cov = end - start\n",
    "\n",
    "    print(f'Time to: Calculate Ground State - {round(time_psi_0,2)}s, Get Pauli Ops - {round(time_pauli_ops,2)}s, Calculate Pauli Expectation Values - {round(time_calc_exp,2)}s, Calculate Covariance - {round(time_cov,2)}s')\n",
    "    #print(COV)\n",
    "    \n",
    "    return forces_return*Ha*(1/(2*dR*angst)),COV_return*(Ha*(1/(2*dR*angst)))**2"
   ]
  },
  {
   "cell_type": "code",
   "execution_count": 3,
   "id": "5ae5fde0",
   "metadata": {},
   "outputs": [],
   "source": [
    "#from Quantech.verlet_integrator import distance\n",
    "#from force import calc_force_and_cov\n",
    "import numpy as np\n",
    "from tqdm import tqdm #to show progress\n",
    "\n",
    "\n",
    "#implementation of the explicit Euler integrator\n",
    "femto = 1.0e-15\n",
    "angst = 1.0e-10\n",
    "\n",
    "def calc_COM(coordinates):\n",
    "    #print(coordinates)\n",
    "    r_array = np.array_split(coordinates,3)\n",
    "    COM = (r_array[0] + r_array[1] + r_array[2])/3\n",
    "    \n",
    "    return COM\n",
    "\n",
    "def distance(coordinates1,coordinates2):\n",
    "    return np.sqrt(np.power((coordinates1[0] - coordinates2[0]),2) + np.power((coordinates1[1] - coordinates2[1]),2))\n",
    "    \n",
    "\n",
    "\n",
    "def main():\n",
    "    \n",
    "    #mass of particle1 (H)\n",
    "    mass_0 = 1.67e-27\n",
    "    #mass of particle2 (H)\n",
    "    mass_1 = 1.67e-27\n",
    "    #mass of particle3 (H)\n",
    "    mass_2 = 1.67e-27\n",
    "    #time step of integrator\n",
    "    dt = 0.2*femto\n",
    "    #initial velocity of atoms\n",
    "    \n",
    "    v_init_0 = np.array([0,0])\n",
    "    v_init_1 = np.array([0,0])\n",
    "    v_init_2 = np.array([0,0])\n",
    "\n",
    "    v_init = np.concatenate((v_init_0,v_init_1,v_init_2),axis=None)\n",
    "\n",
    "    #distances between atoms\n",
    "    d = 0.8\n",
    "    #rotation angle of the initial triangle\n",
    "    b = 0/180*np.pi\n",
    "    \n",
    "    #initial positions of atoms, arrangement = equilateral triangle\n",
    "    x1_init = np.array([-d/2*np.cos(b)+np.sin(b)*np.sqrt(3)/6*d,-d/2*np.sin(b)-np.cos(b)*np.sqrt(3)/6*d])+np.array([0,d*np.sqrt(3)/6])\n",
    "    x2_init = np.array([d/2*np.cos(b)+np.sin(b)*np.sqrt(3)/6*d,d/2*np.sin(b)-np.cos(b)*np.sqrt(3)/6*d])+np.array([0,d*np.sqrt(3)/6])\n",
    "    x3_init = np.array([-np.sin(b)*np.sqrt(3)/3*d,np.cos(b)*np.sqrt(3)/3*d])+np.array([0,d*np.sqrt(3)/6])\n",
    "    \n",
    "    \n",
    "    init_pos0 = x1_init\n",
    "    init_pos1 = x2_init\n",
    "    init_pos2 = x3_init\n",
    "    \n",
    "    #print(distance(init_pos0,init_pos1))\n",
    "    #print(distance(init_pos0,init_pos2))\n",
    "    #print(distance(init_pos1,init_pos2))\n",
    "    \n",
    "    init_pos = np.concatenate((init_pos0,init_pos1,init_pos2),axis=None)\n",
    "\n",
    "    #integrator timesteps\n",
    "    times = np.arange(0*femto, 20.0*femto, dt)\n",
    "    #coordinate array\n",
    "    coords = [init_pos]\n",
    "    force = []\n",
    "    distance01 = [d]\n",
    "    distance02 = [d]\n",
    "    distance12 = [d]\n",
    "    #temperature in ?? \n",
    "    #k_B*T in Joule\n",
    "    k_b = 1.38065e-23\n",
    "    T = 420\n",
    "    k_T = k_b*T\n",
    "        #delta factor\n",
    "    delta = 0.2*dt\n",
    "    #hold v_next\n",
    "    v_next = None\n",
    "    \n",
    "    simulator = 'qasm'\n",
    "    COM = calc_COM(init_pos)\n",
    "    coords_loc = np.array_split(init_pos,3)\n",
    "    #print(coords)\n",
    "    #print(COM)\n",
    "    #v0 = coords_loc[0] - COM\n",
    "    #v1 = coords_loc[1] - COM\n",
    "    #v2 = coords_loc[2] - COM\n",
    "    \n",
    "    #v0_normed = np.array(v0/np.sqrt(v0[0]**2+v0[1]**2))\n",
    "    #v0_orth = np.array([v0_normed[1],-v0_normed[0]])\n",
    "    \n",
    "    #v1_normed = np.array(v1/np.sqrt(v1[0]**2+v1[1]**2))\n",
    "    #v1_orth = np.array([v1_normed[1],-v1_normed[0]])\n",
    "\n",
    "    #v2_normed = np.array(v2/np.sqrt(v2[0]**2+v2[1]**2))\n",
    "    #v2_orth = np.array([v2_normed[1],-v2_normed[0]])\n",
    "    \n",
    "    #basis_set = [v0_normed,v0_orth,v1_normed,v1_orth,v2_normed,v2_orth]\n",
    "    basis_set = [0,0,0,0,0,0]\n",
    "    for time in tqdm(times, desc='Progress: '):\n",
    "        \n",
    "        r = coords[-1]\n",
    "        #print(r)\n",
    "        \n",
    "        (forces,COV) = calc_force_and_cov(r, simulator = simulator, shots = 1600000,basis_set_this=basis_set)\n",
    "        \n",
    "        print(COV)\n",
    "        \n",
    "        #COV = np.zeros((6,6))\n",
    "        \n",
    "        #angle1 = np.arctan(forces[1]/forces[0])/np.pi * 180\n",
    "        #print(angle1)\n",
    "        #print(\"f1 = \" + str([forces[2],forces[3]]))\n",
    "        #print(\"f2 = \" + str([forces[4],forces[5]]))\n",
    "        \n",
    "        f1 = distance(np.array([forces[0],forces[1]]),np.array([0,0]))\n",
    "        \n",
    "        f2 = distance(np.array([forces[2],forces[3]]),np.array([0,0]))\n",
    "        \n",
    "        f3 = distance(np.array([forces[4],forces[5]]),np.array([0,0]))    \n",
    "        \n",
    "        print(\"f0,f1,f2 = \" + str([f1,f2,f3]))\n",
    "        \n",
    "        #print(forces)\n",
    "        #print(COV)\n",
    "        \n",
    "        if time == 0:\n",
    "\n",
    "            v_next = v_init - delta/(2*k_T*np.power(mass_0*mass_1*mass_2,1/3))*np.matmul(COV,v_init)*dt + dt*forces/mass_0\n",
    "            \n",
    "            r_next = (r*angst + dt*v_next)/angst\n",
    "\n",
    "            #r_split = np.array_split(r_next,3)\n",
    "\n",
    "            coords.append(r_next)\n",
    "\n",
    "        else:\n",
    "\n",
    "            v_next += - delta/(2*k_T*np.power(mass_0*mass_1*mass_2,1/3))*np.matmul(COV,v_next)*dt + dt*forces/mass_0\n",
    "            \n",
    "            r_next = (r*angst + dt*v_next)/angst\n",
    "\n",
    "            #r_split = np.array_split(r_next,3)\n",
    "            \n",
    "            coords.append(r_next)\n",
    "        \n",
    "        r = np.array_split(coords[-1],3)\n",
    "        d01 = distance(r[0],r[1])\n",
    "        d02 = distance(r[0],r[2])\n",
    "        d12 = distance(r[1],r[2])\n",
    "        print(\"d01,d02,d12 = \" + str([d01,d02,d12]))\n",
    "        \n",
    "        dists = np.split(coords[-1],3)\n",
    "        d01 = distance(dists[0],dists[1])\n",
    "        distance01.append(d01)\n",
    "        d02 = distance(dists[0],dists[2])\n",
    "        distance02.append(d02)\n",
    "        d12 = distance(dists[1],dists[2])\n",
    "        distance12.append(d12)\n",
    "        \n",
    "    return (distance01,distance02,distance12,times) "
   ]
  },
  {
   "cell_type": "code",
   "execution_count": 4,
   "id": "be5bb22e",
   "metadata": {
    "scrolled": false
   },
   "outputs": [
    {
     "name": "stderr",
     "output_type": "stream",
     "text": [
      "Progress:   0%|          | 0/100 [00:00<?, ?it/s]"
     ]
    },
    {
     "name": "stdout",
     "output_type": "stream",
     "text": [
      "[0.00565994 0.         0.00565994 0.         0.00565994 0.        ]\n"
     ]
    },
    {
     "name": "stderr",
     "output_type": "stream",
     "text": [
      "Progress:   1%|          | 1/100 [00:26<43:25, 26.32s/it]"
     ]
    },
    {
     "name": "stdout",
     "output_type": "stream",
     "text": [
      "[[2.75478044e-06 0.00000000e+00 2.75478044e-06 0.00000000e+00\n",
      "  2.75478044e-06 0.00000000e+00]\n",
      " [0.00000000e+00 0.00000000e+00 0.00000000e+00 0.00000000e+00\n",
      "  0.00000000e+00 0.00000000e+00]\n",
      " [2.75478044e-06 0.00000000e+00 2.75478044e-06 0.00000000e+00\n",
      "  2.75478044e-06 0.00000000e+00]\n",
      " [0.00000000e+00 0.00000000e+00 0.00000000e+00 0.00000000e+00\n",
      "  0.00000000e+00 0.00000000e+00]\n",
      " [2.75478044e-06 0.00000000e+00 2.75478044e-06 0.00000000e+00\n",
      "  2.75478044e-06 0.00000000e+00]\n",
      " [0.00000000e+00 0.00000000e+00 0.00000000e+00 0.00000000e+00\n",
      "  0.00000000e+00 0.00000000e+00]]\n",
      "Time to: Calculate Ground State - 1.62s, Get Pauli Ops - 5.09s, Calculate Pauli Expectation Values - 16.94s, Calculate Covariance - 2.43s\n",
      "[[ 9.81886392e-18  5.66892373e-18 -9.81886392e-18  5.66892373e-18\n",
      "   0.00000000e+00 -1.13378475e-17]\n",
      " [ 5.66892373e-18  3.27295464e-18 -5.66892373e-18  3.27295464e-18\n",
      "   0.00000000e+00 -6.54590928e-18]\n",
      " [-9.81886392e-18 -5.66892373e-18  9.81886392e-18 -5.66892373e-18\n",
      "   0.00000000e+00  1.13378475e-17]\n",
      " [ 5.66892373e-18  3.27295464e-18 -5.66892373e-18  3.27295464e-18\n",
      "   0.00000000e+00 -6.54590928e-18]\n",
      " [ 0.00000000e+00  0.00000000e+00  0.00000000e+00  0.00000000e+00\n",
      "   0.00000000e+00  0.00000000e+00]\n",
      " [-1.13378475e-17 -6.54590928e-18  1.13378475e-17 -6.54590928e-18\n",
      "   0.00000000e+00  1.30918186e-17]]\n",
      "f0,f1,f2 = [1.2338660713128078e-08, 1.2338660713131856e-08, 1.2338660713122621e-08]\n",
      "d01,d02,d12 = [0.8051188472461067, 0.8051188472461048, 0.8051188472461056]\n"
     ]
    },
    {
     "name": "stderr",
     "output_type": "stream",
     "text": [
      "/cluster/home/mskrabulis/miniconda3/envs/quantech/lib/python3.9/site-packages/pyscf/symm/Dmatrix.py:156: RuntimeWarning: invalid value encountered in arccos\n",
      "  gamma = numpy.arccos(yp.dot(c2[1]))\n"
     ]
    },
    {
     "name": "stdout",
     "output_type": "stream",
     "text": [
      "[0.00540208 0.         0.00540208 0.         0.00540208 0.        ]\n"
     ]
    },
    {
     "name": "stderr",
     "output_type": "stream",
     "text": [
      "Progress:   2%|▏         | 2/100 [00:51<42:21, 25.94s/it]"
     ]
    },
    {
     "name": "stdout",
     "output_type": "stream",
     "text": [
      "[[6.10081651e-06 0.00000000e+00 6.10081651e-06 0.00000000e+00\n",
      "  6.10081651e-06 0.00000000e+00]\n",
      " [0.00000000e+00 0.00000000e+00 0.00000000e+00 0.00000000e+00\n",
      "  0.00000000e+00 0.00000000e+00]\n",
      " [6.10081651e-06 0.00000000e+00 6.10081651e-06 0.00000000e+00\n",
      "  6.10081651e-06 0.00000000e+00]\n",
      " [0.00000000e+00 0.00000000e+00 0.00000000e+00 0.00000000e+00\n",
      "  0.00000000e+00 0.00000000e+00]\n",
      " [6.10081651e-06 0.00000000e+00 6.10081651e-06 0.00000000e+00\n",
      "  6.10081651e-06 0.00000000e+00]\n",
      " [0.00000000e+00 0.00000000e+00 0.00000000e+00 0.00000000e+00\n",
      "  0.00000000e+00 0.00000000e+00]]\n",
      "Time to: Calculate Ground State - 1.3s, Get Pauli Ops - 4.81s, Calculate Pauli Expectation Values - 17.66s, Calculate Covariance - 1.89s\n",
      "[[ 2.17451403e-17  1.25545626e-17 -2.17451403e-17  1.25545626e-17\n",
      "   1.39932706e-32 -2.51091252e-17]\n",
      " [ 1.25545626e-17  7.24838009e-18 -1.25545626e-17  7.24838009e-18\n",
      "   8.07901852e-33 -1.44967602e-17]\n",
      " [-2.17451403e-17 -1.25545626e-17  2.17451403e-17 -1.25545626e-17\n",
      "  -1.39932706e-32  2.51091252e-17]\n",
      " [ 1.25545626e-17  7.24838009e-18 -1.25545626e-17  7.24838010e-18\n",
      "   8.07901852e-33 -1.44967602e-17]\n",
      " [ 1.39932706e-32  8.07901852e-33 -1.39932706e-32  8.07901852e-33\n",
      "   9.00484515e-48 -1.61580370e-32]\n",
      " [-2.51091252e-17 -1.44967602e-17  2.51091252e-17 -1.44967602e-17\n",
      "  -1.61580370e-32  2.89935204e-17]]\n",
      "f0,f1,f2 = [1.1776523523500662e-08, 1.1776523523502705e-08, 1.1776523523492823e-08]\n",
      "d01,d02,d12 = [0.8149394222586785, 0.8149394222586724, 0.8149394222586737]\n"
     ]
    },
    {
     "name": "stderr",
     "output_type": "stream",
     "text": [
      "/cluster/home/mskrabulis/miniconda3/envs/quantech/lib/python3.9/site-packages/pyscf/symm/Dmatrix.py:156: RuntimeWarning: invalid value encountered in arccos\n",
      "  gamma = numpy.arccos(yp.dot(c2[1]))\n"
     ]
    },
    {
     "name": "stdout",
     "output_type": "stream",
     "text": [
      "[0.00507541 0.         0.00507541 0.         0.00507541 0.        ]\n"
     ]
    },
    {
     "name": "stderr",
     "output_type": "stream",
     "text": [
      "Progress:   3%|▎         | 3/100 [01:17<41:36, 25.73s/it]"
     ]
    },
    {
     "name": "stdout",
     "output_type": "stream",
     "text": [
      "[[2.13808039e-05 0.00000000e+00 2.13808039e-05 0.00000000e+00\n",
      "  2.13808039e-05 0.00000000e+00]\n",
      " [0.00000000e+00 0.00000000e+00 0.00000000e+00 0.00000000e+00\n",
      "  0.00000000e+00 0.00000000e+00]\n",
      " [2.13808039e-05 0.00000000e+00 2.13808039e-05 0.00000000e+00\n",
      "  2.13808039e-05 0.00000000e+00]\n",
      " [0.00000000e+00 0.00000000e+00 0.00000000e+00 0.00000000e+00\n",
      "  0.00000000e+00 0.00000000e+00]\n",
      " [2.13808039e-05 0.00000000e+00 2.13808039e-05 0.00000000e+00\n",
      "  2.13808039e-05 0.00000000e+00]\n",
      " [0.00000000e+00 0.00000000e+00 0.00000000e+00 0.00000000e+00\n",
      "  0.00000000e+00 0.00000000e+00]]\n",
      "Time to: Calculate Ground State - 0.98s, Get Pauli Ops - 4.88s, Calculate Pauli Expectation Values - 17.49s, Calculate Covariance - 2.13s\n",
      "[[ 7.62075992e-17  4.39984779e-17 -7.62075992e-17  4.39984779e-17\n",
      "   7.63236687e-32 -8.79969558e-17]\n",
      " [ 4.39984779e-17  2.54025331e-17 -4.39984779e-17  2.54025331e-17\n",
      "   4.40654907e-32 -5.08050661e-17]\n",
      " [-7.62075992e-17 -4.39984779e-17  7.62075992e-17 -4.39984779e-17\n",
      "  -7.63236687e-32  8.79969558e-17]\n",
      " [ 4.39984779e-17  2.54025331e-17 -4.39984779e-17  2.54025331e-17\n",
      "   4.40654907e-32 -5.08050661e-17]\n",
      " [ 7.63236687e-32  4.40654907e-32 -7.63236687e-32  4.40654907e-32\n",
      "   7.64399149e-47 -8.81309813e-32]\n",
      " [-8.79969558e-17 -5.08050661e-17  8.79969558e-17 -5.08050661e-17\n",
      "  -8.81309813e-32  1.01610132e-16]]\n",
      "f0,f1,f2 = [1.1064401165804427e-08, 1.1064401165802543e-08, 1.1064401165798419e-08]\n",
      "d01,d02,d12 = [0.8281136687424477, 0.828113668742446, 0.828113668742447]\n",
      "[0.00446992 0.         0.00446992 0.         0.00446992 0.        ]\n"
     ]
    },
    {
     "name": "stderr",
     "output_type": "stream",
     "text": [
      "Progress:   4%|▍         | 4/100 [01:42<40:44, 25.46s/it]"
     ]
    },
    {
     "name": "stdout",
     "output_type": "stream",
     "text": [
      "[[-2.76466549e-05  0.00000000e+00 -2.76466549e-05  0.00000000e+00\n",
      "  -2.76466549e-05  0.00000000e+00]\n",
      " [ 0.00000000e+00  0.00000000e+00  0.00000000e+00  0.00000000e+00\n",
      "   0.00000000e+00  0.00000000e+00]\n",
      " [-2.76466549e-05  0.00000000e+00 -2.76466549e-05  0.00000000e+00\n",
      "  -2.76466549e-05  0.00000000e+00]\n",
      " [ 0.00000000e+00  0.00000000e+00  0.00000000e+00  0.00000000e+00\n",
      "   0.00000000e+00  0.00000000e+00]\n",
      " [-2.76466549e-05  0.00000000e+00 -2.76466549e-05  0.00000000e+00\n",
      "  -2.76466549e-05  0.00000000e+00]\n",
      " [ 0.00000000e+00  0.00000000e+00  0.00000000e+00  0.00000000e+00\n",
      "   0.00000000e+00  0.00000000e+00]]\n",
      "Time to: Calculate Ground State - 1.43s, Get Pauli Ops - 4.45s, Calculate Pauli Expectation Values - 17.27s, Calculate Covariance - 1.89s\n",
      "[[-9.85409722e-17 -5.68926568e-17  9.85409722e-17 -5.68926568e-17\n",
      "  -8.44164354e-32  1.13785314e-16]\n",
      " [-5.68926568e-17 -3.28469907e-17  5.68926568e-17 -3.28469907e-17\n",
      "  -4.87378517e-32  6.56939815e-17]\n",
      " [ 9.85409722e-17  5.68926568e-17 -9.85409722e-17  5.68926568e-17\n",
      "   8.44164354e-32 -1.13785314e-16]\n",
      " [-5.68926568e-17 -3.28469907e-17  5.68926568e-17 -3.28469907e-17\n",
      "  -4.87378517e-32  6.56939815e-17]\n",
      " [-8.44164354e-32 -4.87378517e-32  8.44164354e-32 -4.87378517e-32\n",
      "  -7.23164629e-47  9.74757034e-32]\n",
      " [ 1.13785314e-16  6.56939815e-17 -1.13785314e-16  6.56939815e-17\n",
      "   9.74757034e-32 -1.31387963e-16]]\n",
      "f0,f1,f2 = [9.74443298714271e-09, 9.744432987145336e-09, 9.744432987145225e-09]\n",
      "d01,d02,d12 = [0.8474754453834918, 0.847475445383492, 0.8474754453834941]\n",
      "[0.00373076 0.         0.00373076 0.         0.00373076 0.        ]\n"
     ]
    },
    {
     "name": "stderr",
     "output_type": "stream",
     "text": [
      "Progress:   5%|▌         | 5/100 [02:10<41:27, 26.19s/it]"
     ]
    },
    {
     "name": "stdout",
     "output_type": "stream",
     "text": [
      "[[4.47838819e-05 0.00000000e+00 4.47838819e-05 0.00000000e+00\n",
      "  4.47838819e-05 0.00000000e+00]\n",
      " [0.00000000e+00 0.00000000e+00 0.00000000e+00 0.00000000e+00\n",
      "  0.00000000e+00 0.00000000e+00]\n",
      " [4.47838819e-05 0.00000000e+00 4.47838819e-05 0.00000000e+00\n",
      "  4.47838819e-05 0.00000000e+00]\n",
      " [0.00000000e+00 0.00000000e+00 0.00000000e+00 0.00000000e+00\n",
      "  0.00000000e+00 0.00000000e+00]\n",
      " [4.47838819e-05 0.00000000e+00 4.47838819e-05 0.00000000e+00\n",
      "  4.47838819e-05 0.00000000e+00]\n",
      " [0.00000000e+00 0.00000000e+00 0.00000000e+00 0.00000000e+00\n",
      "  0.00000000e+00 0.00000000e+00]]\n",
      "Time to: Calculate Ground State - 1.09s, Get Pauli Ops - 7.14s, Calculate Pauli Expectation Values - 17.49s, Calculate Covariance - 1.73s\n",
      "[[ 1.59623190e-16  9.21584918e-17 -1.59623190e-16  9.21584918e-17\n",
      "   2.46612931e-31 -1.84316984e-16]\n",
      " [ 9.21584918e-17  5.32077300e-17 -9.21584918e-17  5.32077300e-17\n",
      "   1.42382042e-31 -1.06415460e-16]\n",
      " [-1.59623190e-16 -9.21584918e-17  1.59623190e-16 -9.21584918e-17\n",
      "  -2.46612931e-31  1.84316984e-16]\n",
      " [ 9.21584918e-17  5.32077300e-17 -9.21584918e-17  5.32077300e-17\n",
      "   1.42382042e-31 -1.06415460e-16]\n",
      " [ 2.46612931e-31  1.42382042e-31 -2.46612931e-31  1.42382042e-31\n",
      "   3.81009413e-46 -2.84764085e-31]\n",
      " [-1.84316984e-16 -1.06415460e-16  1.84316984e-16 -1.06415460e-16\n",
      "  -2.84764085e-31  2.12830920e-16]]\n",
      "f0,f1,f2 = [8.133054480154657e-09, 8.133054480163431e-09, 8.133054480165575e-09]\n",
      "d01,d02,d12 = [0.8651049565453274, 0.8651049565453377, 0.86510495654533]\n",
      "[0.0030897 0.        0.0030897 0.        0.0030897 0.       ]\n"
     ]
    },
    {
     "name": "stderr",
     "output_type": "stream",
     "text": [
      "Progress:   6%|▌         | 6/100 [02:38<42:28, 27.11s/it]"
     ]
    },
    {
     "name": "stdout",
     "output_type": "stream",
     "text": [
      "[[2.30802907e-05 0.00000000e+00 2.30802907e-05 0.00000000e+00\n",
      "  2.30802907e-05 0.00000000e+00]\n",
      " [0.00000000e+00 0.00000000e+00 0.00000000e+00 0.00000000e+00\n",
      "  0.00000000e+00 0.00000000e+00]\n",
      " [2.30802907e-05 0.00000000e+00 2.30802907e-05 0.00000000e+00\n",
      "  2.30802907e-05 0.00000000e+00]\n",
      " [0.00000000e+00 0.00000000e+00 0.00000000e+00 0.00000000e+00\n",
      "  0.00000000e+00 0.00000000e+00]\n",
      " [2.30802907e-05 0.00000000e+00 2.30802907e-05 0.00000000e+00\n",
      "  2.30802907e-05 0.00000000e+00]\n",
      " [0.00000000e+00 0.00000000e+00 0.00000000e+00 0.00000000e+00\n",
      "  0.00000000e+00 0.00000000e+00]]\n",
      "Time to: Calculate Ground State - 1.03s, Get Pauli Ops - 6.06s, Calculate Pauli Expectation Values - 20.09s, Calculate Covariance - 1.7s\n",
      "[[ 8.22650801e-17  4.74957661e-17 -8.22650801e-17  4.74957661e-17\n",
      "  -4.90770210e-31 -9.49915323e-17]\n",
      " [ 4.74957661e-17  2.74216934e-17 -4.74957661e-17  2.74216934e-17\n",
      "  -2.83346313e-31 -5.48433867e-17]\n",
      " [-8.22650801e-17 -4.74957661e-17  8.22650801e-17 -4.74957661e-17\n",
      "   4.90770210e-31  9.49915323e-17]\n",
      " [ 4.74957661e-17  2.74216934e-17 -4.74957661e-17  2.74216934e-17\n",
      "  -2.83346313e-31 -5.48433867e-17]\n",
      " [-4.90770210e-31 -2.83346313e-31  4.90770210e-31 -2.83346313e-31\n",
      "   2.92779632e-45  5.66692626e-31]\n",
      " [-9.49915323e-17 -5.48433867e-17  9.49915323e-17 -5.48433867e-17\n",
      "   5.66692626e-31  1.09686773e-16]]\n",
      "f0,f1,f2 = [6.735549792467505e-09, 6.7355497924800865e-09, 6.735549792477768e-09]\n",
      "d01,d02,d12 = [0.8831325760122675, 0.8831325760122867, 0.8831325760122698]\n",
      "[0.00238213 0.         0.00238213 0.         0.00238213 0.        ]\n"
     ]
    },
    {
     "name": "stderr",
     "output_type": "stream",
     "text": [
      "Progress:   7%|▋         | 7/100 [03:06<42:09, 27.20s/it]"
     ]
    },
    {
     "name": "stdout",
     "output_type": "stream",
     "text": [
      "[[5.41032063e-06 0.00000000e+00 5.41032063e-06 0.00000000e+00\n",
      "  5.41032063e-06 0.00000000e+00]\n",
      " [0.00000000e+00 0.00000000e+00 0.00000000e+00 0.00000000e+00\n",
      "  0.00000000e+00 0.00000000e+00]\n",
      " [5.41032063e-06 0.00000000e+00 5.41032063e-06 0.00000000e+00\n",
      "  5.41032063e-06 0.00000000e+00]\n",
      " [0.00000000e+00 0.00000000e+00 0.00000000e+00 0.00000000e+00\n",
      "  0.00000000e+00 0.00000000e+00]\n",
      " [5.41032063e-06 0.00000000e+00 5.41032063e-06 0.00000000e+00\n",
      "  5.41032063e-06 0.00000000e+00]\n",
      " [0.00000000e+00 0.00000000e+00 0.00000000e+00 0.00000000e+00\n",
      "  0.00000000e+00 0.00000000e+00]]\n",
      "Time to: Calculate Ground State - 1.13s, Get Pauli Ops - 4.47s, Calculate Pauli Expectation Values - 19.89s, Calculate Covariance - 1.88s\n",
      "[[ 1.92840058e-17  1.11336260e-17 -1.92840058e-17  1.11336260e-17\n",
      "  -2.45932988e-31 -2.22672519e-17]\n",
      " [ 1.11336260e-17  6.42800194e-18 -1.11336260e-17  6.42800194e-18\n",
      "  -1.41989477e-31 -1.28560039e-17]\n",
      " [-1.92840058e-17 -1.11336260e-17  1.92840058e-17 -1.11336260e-17\n",
      "   2.45932988e-31  2.22672519e-17]\n",
      " [ 1.11336260e-17  6.42800194e-18 -1.11336260e-17  6.42800194e-18\n",
      "  -1.41989477e-31 -1.28560039e-17]\n",
      " [-2.45932988e-31 -1.41989477e-31  2.45932988e-31 -1.41989477e-31\n",
      "   3.13643519e-45  2.83978953e-31]\n",
      " [-2.22672519e-17 -1.28560039e-17  2.22672519e-17 -1.28560039e-17\n",
      "   2.83978953e-31  2.57120078e-17]]\n",
      "f0,f1,f2 = [5.193053342081872e-09, 5.193053342062836e-09, 5.1930533420746736e-09]\n",
      "d01,d02,d12 = [0.9027402092167656, 0.9027402092167968, 0.9027402092167573]\n",
      "[0.00183044 0.         0.00183044 0.         0.00183044 0.        ]\n"
     ]
    },
    {
     "name": "stderr",
     "output_type": "stream",
     "text": [
      "Progress:   8%|▊         | 8/100 [03:33<41:41, 27.19s/it]"
     ]
    },
    {
     "name": "stdout",
     "output_type": "stream",
     "text": [
      "[[1.21945937e-05 0.00000000e+00 1.21945937e-05 0.00000000e+00\n",
      "  1.21945937e-05 0.00000000e+00]\n",
      " [0.00000000e+00 0.00000000e+00 0.00000000e+00 0.00000000e+00\n",
      "  0.00000000e+00 0.00000000e+00]\n",
      " [1.21945937e-05 0.00000000e+00 1.21945937e-05 0.00000000e+00\n",
      "  1.21945937e-05 0.00000000e+00]\n",
      " [0.00000000e+00 0.00000000e+00 0.00000000e+00 0.00000000e+00\n",
      "  0.00000000e+00 0.00000000e+00]\n",
      " [1.21945937e-05 0.00000000e+00 1.21945937e-05 0.00000000e+00\n",
      "  1.21945937e-05 0.00000000e+00]\n",
      " [0.00000000e+00 0.00000000e+00 0.00000000e+00 0.00000000e+00\n",
      "  0.00000000e+00 0.00000000e+00]]\n",
      "Time to: Calculate Ground State - 1.44s, Get Pauli Ops - 6.5s, Calculate Pauli Expectation Values - 17.16s, Calculate Covariance - 2.06s\n",
      "[[ 4.34651903e-17  2.50946393e-17 -4.34651903e-17  2.50946393e-17\n",
      "  -1.26257649e-30 -5.01892786e-17]\n",
      " [ 2.50946393e-17  1.44883968e-17 -2.50946393e-17  1.44883968e-17\n",
      "  -7.28948876e-31 -2.89767935e-17]\n",
      " [-4.34651903e-17 -2.50946393e-17  4.34651903e-17 -2.50946393e-17\n",
      "   1.26257649e-30  5.01892786e-17]\n",
      " [ 2.50946393e-17  1.44883968e-17 -2.50946393e-17  1.44883968e-17\n",
      "  -7.28948876e-31 -2.89767935e-17]\n",
      " [-1.26257649e-30 -7.28948876e-31  1.26257649e-30 -7.28948876e-31\n",
      "   3.66753114e-44  1.45789775e-30]\n",
      " [-5.01892786e-17 -2.89767935e-17  5.01892786e-17 -2.89767935e-17\n",
      "   1.45789775e-30  5.79535871e-17]]\n",
      "f0,f1,f2 = [3.9903518892940265e-09, 3.9903518892930736e-09, 3.990351889288718e-09]\n",
      "d01,d02,d12 = [0.9225951770619687, 0.9225951770620006, 0.9225951770619452]\n",
      "[0.00135107 0.         0.00135107 0.         0.00135107 0.        ]\n"
     ]
    },
    {
     "name": "stderr",
     "output_type": "stream",
     "text": [
      "Progress:   9%|▉         | 9/100 [04:02<41:56, 27.65s/it]"
     ]
    },
    {
     "name": "stdout",
     "output_type": "stream",
     "text": [
      "[[2.42117486e-05 0.00000000e+00 2.42117486e-05 0.00000000e+00\n",
      "  2.42117486e-05 0.00000000e+00]\n",
      " [0.00000000e+00 0.00000000e+00 0.00000000e+00 0.00000000e+00\n",
      "  0.00000000e+00 0.00000000e+00]\n",
      " [2.42117486e-05 0.00000000e+00 2.42117486e-05 0.00000000e+00\n",
      "  2.42117486e-05 0.00000000e+00]\n",
      " [0.00000000e+00 0.00000000e+00 0.00000000e+00 0.00000000e+00\n",
      "  0.00000000e+00 0.00000000e+00]\n",
      " [2.42117486e-05 0.00000000e+00 2.42117486e-05 0.00000000e+00\n",
      "  2.42117486e-05 0.00000000e+00]\n",
      " [0.00000000e+00 0.00000000e+00 0.00000000e+00 0.00000000e+00\n",
      "  0.00000000e+00 0.00000000e+00]]\n",
      "Time to: Calculate Ground State - 1.09s, Get Pauli Ops - 7.65s, Calculate Pauli Expectation Values - 17.54s, Calculate Covariance - 2.38s\n",
      "[[ 8.62979354e-17  4.98241363e-17 -8.62979354e-17  4.98241363e-17\n",
      "  -3.45106854e-30 -9.96482725e-17]\n",
      " [ 4.98241363e-17  2.87659785e-17 -4.98241363e-17  2.87659785e-17\n",
      "  -1.99247535e-30 -5.75319570e-17]\n",
      " [-8.62979354e-17 -4.98241363e-17  8.62979354e-17 -4.98241363e-17\n",
      "   3.45106854e-30  9.96482725e-17]\n",
      " [ 4.98241363e-17  2.87659785e-17 -4.98241363e-17  2.87659785e-17\n",
      "  -1.99247535e-30 -5.75319570e-17]\n",
      " [-3.45106854e-30 -1.99247535e-30  3.45106854e-30 -1.99247535e-30\n",
      "   1.38008795e-43  3.98495070e-30]\n",
      " [-9.96482725e-17 -5.75319570e-17  9.96482725e-17 -5.75319570e-17\n",
      "   3.98495070e-30  1.15063914e-16]]\n",
      "f0,f1,f2 = [2.9453266759616438e-09, 2.9453266759679824e-09, 2.945326675968293e-09]\n",
      "d01,d02,d12 = [0.9408410481320999, 0.9408410481321482, 0.9408410481320646]\n"
     ]
    },
    {
     "name": "stderr",
     "output_type": "stream",
     "text": [
      "/cluster/home/mskrabulis/miniconda3/envs/quantech/lib/python3.9/site-packages/pyscf/symm/Dmatrix.py:156: RuntimeWarning: invalid value encountered in arccos\n",
      "  gamma = numpy.arccos(yp.dot(c2[1]))\n"
     ]
    },
    {
     "name": "stdout",
     "output_type": "stream",
     "text": [
      "[0.00082307 0.         0.00082307 0.         0.00082307 0.        ]\n"
     ]
    },
    {
     "name": "stderr",
     "output_type": "stream",
     "text": [
      "Progress:  10%|█         | 10/100 [04:30<41:38, 27.76s/it]"
     ]
    },
    {
     "name": "stdout",
     "output_type": "stream",
     "text": [
      "[[4.32733473e-05 0.00000000e+00 4.32733473e-05 0.00000000e+00\n",
      "  4.32733473e-05 0.00000000e+00]\n",
      " [0.00000000e+00 0.00000000e+00 0.00000000e+00 0.00000000e+00\n",
      "  0.00000000e+00 0.00000000e+00]\n",
      " [4.32733473e-05 0.00000000e+00 4.32733473e-05 0.00000000e+00\n",
      "  4.32733473e-05 0.00000000e+00]\n",
      " [0.00000000e+00 0.00000000e+00 0.00000000e+00 0.00000000e+00\n",
      "  0.00000000e+00 0.00000000e+00]\n",
      " [4.32733473e-05 0.00000000e+00 4.32733473e-05 0.00000000e+00\n",
      "  4.32733473e-05 0.00000000e+00]\n",
      " [0.00000000e+00 0.00000000e+00 0.00000000e+00 0.00000000e+00\n",
      "  0.00000000e+00 0.00000000e+00]]\n",
      "Time to: Calculate Ground State - 0.89s, Get Pauli Ops - 7.02s, Calculate Pauli Expectation Values - 17.86s, Calculate Covariance - 2.23s\n",
      "[[ 1.54239192e-16  8.90500389e-17 -1.54239192e-16  8.90500389e-17\n",
      "  -9.13778574e-30 -1.78100078e-16]\n",
      " [ 8.90500389e-17  5.14130639e-17 -8.90500389e-17  5.14130639e-17\n",
      "  -5.27570306e-30 -1.02826128e-16]\n",
      " [-1.54239192e-16 -8.90500389e-17  1.54239192e-16 -8.90500389e-17\n",
      "   9.13778574e-30  1.78100078e-16]\n",
      " [ 8.90500389e-17  5.14130639e-17 -8.90500389e-17  5.14130639e-17\n",
      "  -5.27570306e-30 -1.02826128e-16]\n",
      " [-9.13778574e-30 -5.27570306e-30  9.13778574e-30 -5.27570306e-30\n",
      "   5.41361293e-43  1.05514061e-29]\n",
      " [-1.78100078e-16 -1.02826128e-16  1.78100078e-16 -1.02826128e-16\n",
      "   1.05514061e-29  2.05652256e-16]]\n",
      "f0,f1,f2 = [1.7942972416856423e-09, 1.7942972417018962e-09, 1.794297241708423e-09]\n",
      "d01,d02,d12 = [0.9551815518961506, 0.9551815518962141, 0.9551815518960945]\n"
     ]
    },
    {
     "name": "stderr",
     "output_type": "stream",
     "text": [
      "/cluster/home/mskrabulis/miniconda3/envs/quantech/lib/python3.9/site-packages/pyscf/symm/Dmatrix.py:156: RuntimeWarning: invalid value encountered in arccos\n",
      "  gamma = numpy.arccos(yp.dot(c2[1]))\n"
     ]
    },
    {
     "name": "stdout",
     "output_type": "stream",
     "text": [
      "[0.00054834 0.         0.00054834 0.         0.00054834 0.        ]\n"
     ]
    },
    {
     "name": "stderr",
     "output_type": "stream",
     "text": [
      "Progress:  11%|█         | 11/100 [04:54<39:44, 26.79s/it]"
     ]
    },
    {
     "name": "stdout",
     "output_type": "stream",
     "text": [
      "[[6.45948157e-06 0.00000000e+00 6.45948157e-06 0.00000000e+00\n",
      "  6.45948157e-06 0.00000000e+00]\n",
      " [0.00000000e+00 0.00000000e+00 0.00000000e+00 0.00000000e+00\n",
      "  0.00000000e+00 0.00000000e+00]\n",
      " [6.45948157e-06 0.00000000e+00 6.45948157e-06 0.00000000e+00\n",
      "  6.45948157e-06 0.00000000e+00]\n",
      " [0.00000000e+00 0.00000000e+00 0.00000000e+00 0.00000000e+00\n",
      "  0.00000000e+00 0.00000000e+00]\n",
      " [6.45948157e-06 0.00000000e+00 6.45948157e-06 0.00000000e+00\n",
      "  6.45948157e-06 0.00000000e+00]\n",
      " [0.00000000e+00 0.00000000e+00 0.00000000e+00 0.00000000e+00\n",
      "  0.00000000e+00 0.00000000e+00]]\n",
      "Time to: Calculate Ground State - 0.85s, Get Pauli Ops - 4.22s, Calculate Pauli Expectation Values - 17.45s, Calculate Covariance - 2.06s\n",
      "[[ 2.30235302e-17  1.32926413e-17 -2.30235302e-17  1.32926413e-17\n",
      "  -1.92249569e-30 -2.65852827e-17]\n",
      " [ 1.32926413e-17  7.67451006e-18 -1.32926413e-17  7.67451006e-18\n",
      "  -1.10995340e-30 -1.53490201e-17]\n",
      " [-2.30235302e-17 -1.32926413e-17  2.30235302e-17 -1.32926413e-17\n",
      "   1.92249569e-30  2.65852827e-17]\n",
      " [ 1.32926413e-17  7.67451006e-18 -1.32926413e-17  7.67451006e-18\n",
      "  -1.10995340e-30 -1.53490201e-17]\n",
      " [-1.92249569e-30 -1.10995340e-30  1.92249569e-30 -1.10995340e-30\n",
      "   1.60530972e-43  2.21990681e-30]\n",
      " [-2.65852827e-17 -1.53490201e-17  2.65852827e-17 -1.53490201e-17\n",
      "   2.21990681e-30  3.06980402e-17]]\n",
      "f0,f1,f2 = [1.19539171831483e-09, 1.1953917183039466e-09, 1.1953917183190608e-09]\n",
      "d01,d02,d12 = [0.9694724635067545, 0.9694724635068416, 0.969472463506675]\n",
      "[0.00034146 0.         0.00034146 0.         0.00034146 0.        ]\n"
     ]
    },
    {
     "name": "stderr",
     "output_type": "stream",
     "text": [
      "Progress:  12%|█▏        | 12/100 [05:19<38:32, 26.27s/it]"
     ]
    },
    {
     "name": "stdout",
     "output_type": "stream",
     "text": [
      "[[3.75821799e-06 0.00000000e+00 3.75821799e-06 0.00000000e+00\n",
      "  3.75821799e-06 0.00000000e+00]\n",
      " [0.00000000e+00 0.00000000e+00 0.00000000e+00 0.00000000e+00\n",
      "  0.00000000e+00 0.00000000e+00]\n",
      " [3.75821799e-06 0.00000000e+00 3.75821799e-06 0.00000000e+00\n",
      "  3.75821799e-06 0.00000000e+00]\n",
      " [0.00000000e+00 0.00000000e+00 0.00000000e+00 0.00000000e+00\n",
      "  0.00000000e+00 0.00000000e+00]\n",
      " [3.75821799e-06 0.00000000e+00 3.75821799e-06 0.00000000e+00\n",
      "  3.75821799e-06 0.00000000e+00]\n",
      " [0.00000000e+00 0.00000000e+00 0.00000000e+00 0.00000000e+00\n",
      "  0.00000000e+00 0.00000000e+00]]\n",
      "Time to: Calculate Ground State - 1.09s, Get Pauli Ops - 4.76s, Calculate Pauli Expectation Values - 17.36s, Calculate Covariance - 1.87s\n",
      "[[ 1.33954164e-17  7.73384726e-18 -1.33954164e-17  7.73384726e-18\n",
      "  -1.53360317e-30 -1.54676945e-17]\n",
      " [ 7.73384726e-18  4.46513880e-18 -7.73384726e-18  4.46513880e-18\n",
      "  -8.85426202e-31 -8.93027760e-18]\n",
      " [-1.33954164e-17 -7.73384726e-18  1.33954164e-17 -7.73384726e-18\n",
      "   1.53360317e-30  1.54676945e-17]\n",
      " [ 7.73384726e-18  4.46513880e-18 -7.73384726e-18  4.46513880e-18\n",
      "  -8.85426202e-31 -8.93027760e-18]\n",
      " [-1.53360317e-30 -8.85426202e-31  1.53360317e-30 -8.85426202e-31\n",
      "   1.75577870e-43  1.77085240e-30]\n",
      " [-1.54676945e-17 -8.93027760e-18  1.54676945e-17 -8.93027760e-18\n",
      "   1.77085240e-30  1.78605552e-17]]\n",
      "f0,f1,f2 = [7.443880139384637e-10, 7.443880139446169e-10, 7.443880139334811e-10]\n",
      "d01,d02,d12 = [0.9837559028097302, 0.9837559028098402, 0.9837559028096197]\n"
     ]
    },
    {
     "name": "stderr",
     "output_type": "stream",
     "text": [
      "/cluster/home/mskrabulis/miniconda3/envs/quantech/lib/python3.9/site-packages/pyscf/symm/Dmatrix.py:156: RuntimeWarning: invalid value encountered in arccos\n",
      "  gamma = numpy.arccos(yp.dot(c2[1]))\n"
     ]
    },
    {
     "name": "stdout",
     "output_type": "stream",
     "text": [
      "[3.79794458e-05 0.00000000e+00 3.79794458e-05 0.00000000e+00\n",
      " 3.79794458e-05 0.00000000e+00]\n"
     ]
    },
    {
     "name": "stderr",
     "output_type": "stream",
     "text": [
      "Progress:  13%|█▎        | 13/100 [05:48<39:18, 27.11s/it]"
     ]
    },
    {
     "name": "stdout",
     "output_type": "stream",
     "text": [
      "[[2.69614231e-05 0.00000000e+00 2.69614231e-05 0.00000000e+00\n",
      "  2.69614231e-05 0.00000000e+00]\n",
      " [0.00000000e+00 0.00000000e+00 0.00000000e+00 0.00000000e+00\n",
      "  0.00000000e+00 0.00000000e+00]\n",
      " [2.69614231e-05 0.00000000e+00 2.69614231e-05 0.00000000e+00\n",
      "  2.69614231e-05 0.00000000e+00]\n",
      " [0.00000000e+00 0.00000000e+00 0.00000000e+00 0.00000000e+00\n",
      "  0.00000000e+00 0.00000000e+00]\n",
      " [2.69614231e-05 0.00000000e+00 2.69614231e-05 0.00000000e+00\n",
      "  2.69614231e-05 0.00000000e+00]\n",
      " [0.00000000e+00 0.00000000e+00 0.00000000e+00 0.00000000e+00\n",
      "  0.00000000e+00 0.00000000e+00]]\n",
      "Time to: Calculate Ground State - 1.19s, Get Pauli Ops - 7.95s, Calculate Pauli Expectation Values - 17.6s, Calculate Covariance - 2.28s\n",
      "[[ 9.60986002e-17  5.54825527e-17 -9.60986002e-17  5.54825527e-17\n",
      "  -1.43560176e-29 -1.10965105e-16]\n",
      " [ 5.54825527e-17  3.20328667e-17 -5.54825527e-17  3.20328667e-17\n",
      "  -8.28845063e-30 -6.40657335e-17]\n",
      " [-9.60986002e-17 -5.54825527e-17  9.60986002e-17 -5.54825527e-17\n",
      "   1.43560176e-29  1.10965105e-16]\n",
      " [ 5.54825527e-17  3.20328667e-17 -5.54825527e-17  3.20328667e-17\n",
      "  -8.28845063e-30 -6.40657335e-17]\n",
      " [-1.43560176e-29 -8.28845063e-30  1.43560176e-29 -8.28845063e-30\n",
      "   2.14462272e-42  1.65769013e-29]\n",
      " [-1.10965105e-16 -6.40657335e-17  1.10965105e-16 -6.40657335e-17\n",
      "   1.65769013e-29  1.28131467e-16]]\n",
      "f0,f1,f2 = [8.279519183268e-11, 8.279519184073155e-11, 8.2795191836502e-11]\n",
      "d01,d02,d12 = [0.9958058085986071, 0.9958058085987452, 0.9958058085984743]\n"
     ]
    },
    {
     "name": "stderr",
     "output_type": "stream",
     "text": [
      "/cluster/home/mskrabulis/miniconda3/envs/quantech/lib/python3.9/site-packages/pyscf/symm/Dmatrix.py:156: RuntimeWarning: invalid value encountered in arccos\n",
      "  gamma = numpy.arccos(yp.dot(c2[1]))\n"
     ]
    },
    {
     "name": "stdout",
     "output_type": "stream",
     "text": [
      "[-0.00023006  0.         -0.00023006  0.         -0.00023006  0.        ]\n"
     ]
    },
    {
     "name": "stderr",
     "output_type": "stream",
     "text": [
      "Progress:  14%|█▍        | 14/100 [06:17<39:25, 27.51s/it]"
     ]
    },
    {
     "name": "stdout",
     "output_type": "stream",
     "text": [
      "[[1.3331951e-05 0.0000000e+00 1.3331951e-05 0.0000000e+00 1.3331951e-05\n",
      "  0.0000000e+00]\n",
      " [0.0000000e+00 0.0000000e+00 0.0000000e+00 0.0000000e+00 0.0000000e+00\n",
      "  0.0000000e+00]\n",
      " [1.3331951e-05 0.0000000e+00 1.3331951e-05 0.0000000e+00 1.3331951e-05\n",
      "  0.0000000e+00]\n",
      " [0.0000000e+00 0.0000000e+00 0.0000000e+00 0.0000000e+00 0.0000000e+00\n",
      "  0.0000000e+00]\n",
      " [1.3331951e-05 0.0000000e+00 1.3331951e-05 0.0000000e+00 1.3331951e-05\n",
      "  0.0000000e+00]\n",
      " [0.0000000e+00 0.0000000e+00 0.0000000e+00 0.0000000e+00 0.0000000e+00\n",
      "  0.0000000e+00]]\n",
      "Time to: Calculate Ground State - 1.26s, Get Pauli Ops - 7.17s, Calculate Pauli Expectation Values - 17.73s, Calculate Covariance - 2.25s\n",
      "[[ 4.75190728e-17  2.74351495e-17 -4.75190728e-17  2.74351495e-17\n",
      "  -8.61629855e-30 -5.48702989e-17]\n",
      " [ 2.74351495e-17  1.58396909e-17 -2.74351495e-17  1.58396909e-17\n",
      "  -4.97462229e-30 -3.16793819e-17]\n",
      " [-4.75190728e-17 -2.74351495e-17  4.75190728e-17 -2.74351495e-17\n",
      "   8.61629855e-30  5.48702989e-17]\n",
      " [ 2.74351495e-17  1.58396909e-17 -2.74351495e-17  1.58396909e-17\n",
      "  -4.97462229e-30 -3.16793819e-17]\n",
      " [-8.61629855e-30 -4.97462229e-30  8.61629855e-30 -4.97462229e-30\n",
      "   1.56233269e-42  9.94924457e-30]\n",
      " [-5.48702989e-17 -3.16793819e-17  5.48702989e-17 -3.16793819e-17\n",
      "   9.94924457e-30  6.33587637e-17]]\n",
      "f0,f1,f2 = [5.015360911025928e-10, 5.015360910868845e-10, 5.015360910893647e-10]\n",
      "d01,d02,d12 = [1.006701578147273, 1.0067015781474224, 1.006701578147108]\n",
      "[-0.00046476  0.         -0.00046476  0.         -0.00046476  0.        ]\n"
     ]
    },
    {
     "name": "stderr",
     "output_type": "stream",
     "text": [
      "Progress:  15%|█▌        | 15/100 [06:48<40:41, 28.73s/it]"
     ]
    },
    {
     "name": "stdout",
     "output_type": "stream",
     "text": [
      "[[2.96752409e-05 0.00000000e+00 2.96752409e-05 0.00000000e+00\n",
      "  2.96752409e-05 0.00000000e+00]\n",
      " [0.00000000e+00 0.00000000e+00 0.00000000e+00 0.00000000e+00\n",
      "  0.00000000e+00 0.00000000e+00]\n",
      " [2.96752409e-05 0.00000000e+00 2.96752409e-05 0.00000000e+00\n",
      "  2.96752409e-05 0.00000000e+00]\n",
      " [0.00000000e+00 0.00000000e+00 0.00000000e+00 0.00000000e+00\n",
      "  0.00000000e+00 0.00000000e+00]\n",
      " [2.96752409e-05 0.00000000e+00 2.96752409e-05 0.00000000e+00\n",
      "  2.96752409e-05 0.00000000e+00]\n",
      " [0.00000000e+00 0.00000000e+00 0.00000000e+00 0.00000000e+00\n",
      "  0.00000000e+00 0.00000000e+00]]\n",
      "Time to: Calculate Ground State - 0.84s, Get Pauli Ops - 11.15s, Calculate Pauli Expectation Values - 17.46s, Calculate Covariance - 2.11s\n",
      "[[ 1.05771461e-16  6.10671816e-17 -1.05771461e-16  6.10671816e-17\n",
      "  -2.20164152e-29 -1.22134363e-16]\n",
      " [ 6.10671816e-17  3.52571537e-17 -6.10671816e-17  3.52571537e-17\n",
      "  -1.27111833e-29 -7.05143075e-17]\n",
      " [-1.05771461e-16 -6.10671816e-17  1.05771461e-16 -6.10671816e-17\n",
      "   2.20164152e-29  1.22134363e-16]\n",
      " [ 6.10671816e-17  3.52571537e-17 -6.10671816e-17  3.52571537e-17\n",
      "  -1.27111833e-29 -7.05143075e-17]\n",
      " [-2.20164152e-29 -1.27111833e-29  2.20164152e-29 -1.27111833e-29\n",
      "   4.58273465e-42  2.54223665e-29]\n",
      " [-1.22134363e-16 -7.05143075e-17  1.22134363e-16 -7.05143075e-17\n",
      "   2.54223665e-29  1.41028615e-16]]\n",
      "f0,f1,f2 = [1.0131853785386868e-09, 1.0131853785345647e-09, 1.0131853785335674e-09]\n",
      "d01,d02,d12 = [1.015272883172874, 1.0152728831730464, 1.015272883172698]\n",
      "[-0.00062431  0.         -0.00062431  0.         -0.00062431  0.        ]\n"
     ]
    },
    {
     "name": "stderr",
     "output_type": "stream",
     "text": [
      "Progress:  16%|█▌        | 16/100 [07:14<38:45, 27.69s/it]"
     ]
    },
    {
     "name": "stdout",
     "output_type": "stream",
     "text": [
      "[[1.6253173e-05 0.0000000e+00 1.6253173e-05 0.0000000e+00 1.6253173e-05\n",
      "  0.0000000e+00]\n",
      " [0.0000000e+00 0.0000000e+00 0.0000000e+00 0.0000000e+00 0.0000000e+00\n",
      "  0.0000000e+00]\n",
      " [1.6253173e-05 0.0000000e+00 1.6253173e-05 0.0000000e+00 1.6253173e-05\n",
      "  0.0000000e+00]\n",
      " [0.0000000e+00 0.0000000e+00 0.0000000e+00 0.0000000e+00 0.0000000e+00\n",
      "  0.0000000e+00]\n",
      " [1.6253173e-05 0.0000000e+00 1.6253173e-05 0.0000000e+00 1.6253173e-05\n",
      "  0.0000000e+00]\n",
      " [0.0000000e+00 0.0000000e+00 0.0000000e+00 0.0000000e+00 0.0000000e+00\n",
      "  0.0000000e+00]]\n",
      "Time to: Calculate Ground State - 0.76s, Get Pauli Ops - 5.61s, Calculate Pauli Expectation Values - 17.23s, Calculate Covariance - 1.67s\n",
      "[[ 5.79311844e-17  3.34465849e-17 -5.79311844e-17  3.34465849e-17\n",
      "  -1.32541337e-29 -6.68931699e-17]\n",
      " [ 3.34465849e-17  1.93103948e-17 -3.34465849e-17  1.93103948e-17\n",
      "  -7.65227763e-30 -3.86207896e-17]\n",
      " [-5.79311844e-17 -3.34465849e-17  5.79311844e-17 -3.34465849e-17\n",
      "   1.32541336e-29  6.68931699e-17]\n",
      " [ 3.34465849e-17  1.93103948e-17 -3.34465849e-17  1.93103948e-17\n",
      "  -7.65227763e-30 -3.86207896e-17]\n",
      " [-1.32541337e-29 -7.65227763e-30  1.32541336e-29 -7.65227763e-30\n",
      "   3.03242650e-42  1.53045553e-29]\n",
      " [-6.68931699e-17 -3.86207896e-17  6.68931699e-17 -3.86207896e-17\n",
      "   1.53045553e-29  7.72415793e-17]]\n",
      "f0,f1,f2 = [1.3609930771521821e-09, 1.3609930771419042e-09, 1.3609930771421846e-09]\n",
      "d01,d02,d12 = [1.0224591550692619, 1.0224591550694557, 1.0224591550690802]\n",
      "[-0.00054714  0.         -0.00054714  0.         -0.00054714  0.        ]\n"
     ]
    },
    {
     "name": "stderr",
     "output_type": "stream",
     "text": [
      "Progress:  17%|█▋        | 17/100 [07:41<38:16, 27.67s/it]"
     ]
    },
    {
     "name": "stdout",
     "output_type": "stream",
     "text": [
      "[[1.59045811e-05 0.00000000e+00 1.59045811e-05 0.00000000e+00\n",
      "  1.59045811e-05 0.00000000e+00]\n",
      " [0.00000000e+00 0.00000000e+00 0.00000000e+00 0.00000000e+00\n",
      "  0.00000000e+00 0.00000000e+00]\n",
      " [1.59045811e-05 0.00000000e+00 1.59045811e-05 0.00000000e+00\n",
      "  1.59045811e-05 0.00000000e+00]\n",
      " [0.00000000e+00 0.00000000e+00 0.00000000e+00 0.00000000e+00\n",
      "  0.00000000e+00 0.00000000e+00]\n",
      " [1.59045811e-05 0.00000000e+00 1.59045811e-05 0.00000000e+00\n",
      "  1.59045811e-05 0.00000000e+00]\n",
      " [0.00000000e+00 0.00000000e+00 0.00000000e+00 0.00000000e+00\n",
      "  0.00000000e+00 0.00000000e+00]]\n",
      "Time to: Calculate Ground State - 1.11s, Get Pauli Ops - 6.81s, Calculate Pauli Expectation Values - 17.67s, Calculate Covariance - 2.02s\n",
      "[[ 5.66886983e-17  3.27292352e-17 -5.66886983e-17  3.27292352e-17\n",
      "  -1.38774314e-29 -6.54584705e-17]\n",
      " [ 3.27292352e-17  1.88962328e-17 -3.27292352e-17  1.88962328e-17\n",
      "  -8.01213874e-30 -3.77924656e-17]\n",
      " [-5.66886983e-17 -3.27292352e-17  5.66886983e-17 -3.27292352e-17\n",
      "   1.38774314e-29  6.54584705e-17]\n",
      " [ 3.27292352e-17  1.88962328e-17 -3.27292352e-17  1.88962328e-17\n",
      "  -8.01213874e-30 -3.77924656e-17]\n",
      " [-1.38774314e-29 -8.01213874e-30  1.38774314e-29 -8.01213874e-30\n",
      "   3.39720451e-42  1.60242775e-29]\n",
      " [-6.54584705e-17 -3.77924656e-17  6.54584705e-17 -3.77924656e-17\n",
      "   1.60242775e-29  7.55849311e-17]]\n",
      "f0,f1,f2 = [1.1927625170780374e-09, 1.1927625170645843e-09, 1.1927625170732464e-09]\n",
      "d01,d02,d12 = [1.0284775082586224, 1.0284775082588287, 1.028477508258429]\n",
      "[-0.00063188  0.         -0.00063188  0.         -0.00063188  0.        ]\n"
     ]
    },
    {
     "name": "stderr",
     "output_type": "stream",
     "text": [
      "Progress:  18%|█▊        | 18/100 [08:07<37:03, 27.12s/it]"
     ]
    },
    {
     "name": "stdout",
     "output_type": "stream",
     "text": [
      "[[-6.0929667e-06  0.0000000e+00 -6.0929667e-06  0.0000000e+00\n",
      "  -6.0929667e-06  0.0000000e+00]\n",
      " [ 0.0000000e+00  0.0000000e+00  0.0000000e+00  0.0000000e+00\n",
      "   0.0000000e+00  0.0000000e+00]\n",
      " [-6.0929667e-06  0.0000000e+00 -6.0929667e-06  0.0000000e+00\n",
      "  -6.0929667e-06  0.0000000e+00]\n",
      " [ 0.0000000e+00  0.0000000e+00  0.0000000e+00  0.0000000e+00\n",
      "   0.0000000e+00  0.0000000e+00]\n",
      " [-6.0929667e-06  0.0000000e+00 -6.0929667e-06  0.0000000e+00\n",
      "  -6.0929667e-06  0.0000000e+00]\n",
      " [ 0.0000000e+00  0.0000000e+00  0.0000000e+00  0.0000000e+00\n",
      "   0.0000000e+00  0.0000000e+00]]\n",
      "Time to: Calculate Ground State - 1.3s, Get Pauli Ops - 4.56s, Calculate Pauli Expectation Values - 17.55s, Calculate Covariance - 2.43s\n",
      "[[-2.17171612e-17 -1.25384089e-17  2.17171612e-17 -1.25384089e-17\n",
      "   5.62566231e-30  2.50768177e-17]\n",
      " [-1.25384089e-17 -7.23905373e-18  1.25384089e-17 -7.23905373e-18\n",
      "   3.24797765e-30  1.44781075e-17]\n",
      " [ 2.17171612e-17  1.25384089e-17 -2.17171612e-17  1.25384089e-17\n",
      "  -5.62566231e-30 -2.50768177e-17]\n",
      " [-1.25384089e-17 -7.23905373e-18  1.25384089e-17 -7.23905373e-18\n",
      "   3.24797765e-30  1.44781075e-17]\n",
      " [ 5.62566231e-30  3.24797765e-30 -5.62566231e-30  3.24797765e-30\n",
      "  -1.45728423e-42 -6.49595530e-30]\n",
      " [ 2.50768177e-17  1.44781075e-17 -2.50768177e-17  1.44781075e-17\n",
      "  -6.49595530e-30 -2.89562149e-17]]\n",
      "f0,f1,f2 = [1.3775051925326504e-09, 1.3775051925456517e-09, 1.377505192535893e-09]\n",
      "d01,d02,d12 = [1.0341403353187593, 1.0341403353189862, 1.0341403353185552]\n",
      "[-0.00033446  0.         -0.00033446  0.         -0.00033446  0.        ]\n"
     ]
    },
    {
     "name": "stderr",
     "output_type": "stream",
     "text": [
      "Progress:  19%|█▉        | 19/100 [08:34<36:21, 26.93s/it]"
     ]
    },
    {
     "name": "stdout",
     "output_type": "stream",
     "text": [
      "[[3.42542257e-05 0.00000000e+00 3.42542257e-05 0.00000000e+00\n",
      "  3.42542257e-05 0.00000000e+00]\n",
      " [0.00000000e+00 0.00000000e+00 0.00000000e+00 0.00000000e+00\n",
      "  0.00000000e+00 0.00000000e+00]\n",
      " [3.42542257e-05 0.00000000e+00 3.42542257e-05 0.00000000e+00\n",
      "  3.42542257e-05 0.00000000e+00]\n",
      " [0.00000000e+00 0.00000000e+00 0.00000000e+00 0.00000000e+00\n",
      "  0.00000000e+00 0.00000000e+00]\n",
      " [3.42542257e-05 0.00000000e+00 3.42542257e-05 0.00000000e+00\n",
      "  3.42542257e-05 0.00000000e+00]\n",
      " [0.00000000e+00 0.00000000e+00 0.00000000e+00 0.00000000e+00\n",
      "  0.00000000e+00 0.00000000e+00]]\n",
      "Time to: Calculate Ground State - 1.23s, Get Pauli Ops - 4.91s, Calculate Pauli Expectation Values - 18.11s, Calculate Covariance - 2.23s\n",
      "[[ 1.22092337e-16  7.04900434e-17 -1.22092337e-16  7.04900434e-17\n",
      "  -3.39265742e-29 -1.40980087e-16]\n",
      " [ 7.04900434e-17  4.06974455e-17 -7.04900434e-17  4.06974455e-17\n",
      "  -1.95875168e-29 -8.13948911e-17]\n",
      " [-1.22092337e-16 -7.04900434e-17  1.22092337e-16 -7.04900434e-17\n",
      "   3.39265742e-29  1.40980087e-16]\n",
      " [ 7.04900434e-17  4.06974455e-17 -7.04900434e-17  4.06974455e-17\n",
      "  -1.95875168e-29 -8.13948911e-17]\n",
      " [-3.39265742e-29 -1.95875168e-29  3.39265742e-29 -1.95875168e-29\n",
      "   9.42739300e-42  3.91750335e-29]\n",
      " [-1.40980087e-16 -8.13948911e-17  1.40980087e-16 -8.13948911e-17\n",
      "   3.91750335e-29  1.62789782e-16]]\n",
      "f0,f1,f2 = [7.291270713320835e-10, 7.29127071331853e-10, 7.291270713238151e-10]\n",
      "d01,d02,d12 = [1.0383583429611802, 1.0383583429614394, 1.0383583429609773]\n",
      "[-0.00111783  0.         -0.00111783  0.         -0.00111783  0.        ]\n"
     ]
    },
    {
     "name": "stderr",
     "output_type": "stream",
     "text": [
      "Progress:  20%|██        | 20/100 [09:02<36:28, 27.36s/it]"
     ]
    },
    {
     "name": "stdout",
     "output_type": "stream",
     "text": [
      "[[-2.75187333e-05  0.00000000e+00 -2.75187333e-05  0.00000000e+00\n",
      "  -2.75187333e-05  0.00000000e+00]\n",
      " [ 0.00000000e+00  0.00000000e+00  0.00000000e+00  0.00000000e+00\n",
      "   0.00000000e+00  0.00000000e+00]\n",
      " [-2.75187333e-05  0.00000000e+00 -2.75187333e-05  0.00000000e+00\n",
      "  -2.75187333e-05  0.00000000e+00]\n",
      " [ 0.00000000e+00  0.00000000e+00  0.00000000e+00  0.00000000e+00\n",
      "   0.00000000e+00  0.00000000e+00]\n",
      " [-2.75187333e-05  0.00000000e+00 -2.75187333e-05  0.00000000e+00\n",
      "  -2.75187333e-05  0.00000000e+00]\n",
      " [ 0.00000000e+00  0.00000000e+00  0.00000000e+00  0.00000000e+00\n",
      "   0.00000000e+00  0.00000000e+00]]\n",
      "Time to: Calculate Ground State - 1.34s, Get Pauli Ops - 7.75s, Calculate Pauli Expectation Values - 17.01s, Calculate Covariance - 2.26s\n",
      "[[-9.80850213e-17 -5.66294134e-17  9.80850213e-17 -5.66294134e-17\n",
      "   2.90979155e-29  1.13258827e-16]\n",
      " [-5.66294134e-17 -3.26950071e-17  5.66294134e-17 -3.26950071e-17\n",
      "   1.67996893e-29  6.53900142e-17]\n",
      " [ 9.80850213e-17  5.66294134e-17 -9.80850213e-17  5.66294134e-17\n",
      "  -2.90979155e-29 -1.13258827e-16]\n",
      " [-5.66294134e-17 -3.26950071e-17  5.66294134e-17 -3.26950071e-17\n",
      "   1.67996893e-29  6.53900142e-17]\n",
      " [ 2.90979155e-29  1.67996893e-29 -2.90979155e-29  1.67996893e-29\n",
      "  -8.63219149e-42 -3.35993787e-29]\n",
      " [ 1.13258827e-16  6.53900142e-17 -1.13258827e-16  6.53900142e-17\n",
      "  -3.35993787e-29 -1.30780028e-16]]\n",
      "f0,f1,f2 = [2.4368620266488746e-09, 2.4368620266409675e-09, 2.4368620266444285e-09]\n",
      "d01,d02,d12 = [1.0422489543588513, 1.0422489543591444, 1.0422489543586542]\n"
     ]
    },
    {
     "name": "stderr",
     "output_type": "stream",
     "text": [
      "/cluster/home/mskrabulis/miniconda3/envs/quantech/lib/python3.9/site-packages/pyscf/symm/Dmatrix.py:156: RuntimeWarning: invalid value encountered in arccos\n",
      "  gamma = numpy.arccos(yp.dot(c2[1]))\n"
     ]
    },
    {
     "name": "stdout",
     "output_type": "stream",
     "text": [
      "[-0.00098918  0.         -0.00098918  0.         -0.00098918  0.        ]\n"
     ]
    },
    {
     "name": "stderr",
     "output_type": "stream",
     "text": [
      "Progress:  21%|██        | 21/100 [09:31<36:34, 27.77s/it]"
     ]
    },
    {
     "name": "stdout",
     "output_type": "stream",
     "text": [
      "[[2.37112019e-05 0.00000000e+00 2.37112019e-05 0.00000000e+00\n",
      "  2.37112019e-05 0.00000000e+00]\n",
      " [0.00000000e+00 0.00000000e+00 0.00000000e+00 0.00000000e+00\n",
      "  0.00000000e+00 0.00000000e+00]\n",
      " [2.37112019e-05 0.00000000e+00 2.37112019e-05 0.00000000e+00\n",
      "  2.37112019e-05 0.00000000e+00]\n",
      " [0.00000000e+00 0.00000000e+00 0.00000000e+00 0.00000000e+00\n",
      "  0.00000000e+00 0.00000000e+00]\n",
      " [2.37112019e-05 0.00000000e+00 2.37112019e-05 0.00000000e+00\n",
      "  2.37112019e-05 0.00000000e+00]\n",
      " [0.00000000e+00 0.00000000e+00 0.00000000e+00 0.00000000e+00\n",
      "  0.00000000e+00 0.00000000e+00]]\n",
      "Time to: Calculate Ground State - 1.27s, Get Pauli Ops - 8.31s, Calculate Pauli Expectation Values - 17.07s, Calculate Covariance - 2.07s\n",
      "[[ 8.45138369e-17  4.87940865e-17 -8.45138369e-17  4.87940865e-17\n",
      "  -2.64996066e-29 -9.75881730e-17]\n",
      " [ 4.87940865e-17  2.81712790e-17 -4.87940865e-17  2.81712790e-17\n",
      "  -1.52995550e-29 -5.63425579e-17]\n",
      " [-8.45138369e-17 -4.87940865e-17  8.45138369e-17 -4.87940865e-17\n",
      "   2.64996066e-29  9.75881730e-17]\n",
      " [ 4.87940865e-17  2.81712790e-17 -4.87940865e-17  2.81712790e-17\n",
      "  -1.52995550e-29 -5.63425579e-17]\n",
      " [-2.64996066e-29 -1.52995550e-29  2.64996066e-29 -1.52995550e-29\n",
      "   8.30904354e-42  3.05991100e-29]\n",
      " [-9.75881730e-17 -5.63425579e-17  9.75881730e-17 -5.63425579e-17\n",
      "   3.05991100e-29  1.12685116e-16]]\n",
      "f0,f1,f2 = [2.1564186555771597e-09, 2.1564186555651846e-09, 2.15641865557014e-09]\n",
      "d01,d02,d12 = [1.0447016778709592, 1.044701677871285, 1.0447016778707652]\n",
      "[-0.00077524  0.         -0.00077524  0.         -0.00077524  0.        ]\n"
     ]
    },
    {
     "name": "stderr",
     "output_type": "stream",
     "text": [
      "Progress:  22%|██▏       | 22/100 [09:56<35:09, 27.04s/it]"
     ]
    },
    {
     "name": "stdout",
     "output_type": "stream",
     "text": [
      "[[-1.2796957e-05  0.0000000e+00 -1.2796957e-05  0.0000000e+00\n",
      "  -1.2796957e-05  0.0000000e+00]\n",
      " [ 0.0000000e+00  0.0000000e+00  0.0000000e+00  0.0000000e+00\n",
      "   0.0000000e+00  0.0000000e+00]\n",
      " [-1.2796957e-05  0.0000000e+00 -1.2796957e-05  0.0000000e+00\n",
      "  -1.2796957e-05  0.0000000e+00]\n",
      " [ 0.0000000e+00  0.0000000e+00  0.0000000e+00  0.0000000e+00\n",
      "   0.0000000e+00  0.0000000e+00]\n",
      " [-1.2796957e-05  0.0000000e+00 -1.2796957e-05  0.0000000e+00\n",
      "  -1.2796957e-05  0.0000000e+00]\n",
      " [ 0.0000000e+00  0.0000000e+00  0.0000000e+00  0.0000000e+00\n",
      "   0.0000000e+00  0.0000000e+00]]\n",
      "Time to: Calculate Ground State - 1.22s, Get Pauli Ops - 4.66s, Calculate Pauli Expectation Values - 17.49s, Calculate Covariance - 1.94s\n",
      "[[-4.56121939e-17 -2.63342124e-17  4.56121939e-17 -2.63342124e-17\n",
      "   1.51324539e-29  5.26684249e-17]\n",
      " [-2.63342124e-17 -1.52040646e-17  2.63342124e-17 -1.52040646e-17\n",
      "   8.73672634e-30  3.04081293e-17]\n",
      " [ 4.56121939e-17  2.63342124e-17 -4.56121939e-17  2.63342124e-17\n",
      "  -1.51324539e-29 -5.26684249e-17]\n",
      " [-2.63342124e-17 -1.52040646e-17  2.63342124e-17 -1.52040646e-17\n",
      "   8.73672634e-30  3.04081293e-17]\n",
      " [ 1.51324539e-29  8.73672634e-30 -1.51324539e-29  8.73672634e-30\n",
      "  -5.02039349e-42 -1.74734527e-29]\n",
      " [ 5.26684249e-17  3.04081293e-17 -5.26684249e-17  3.04081293e-17\n",
      "  -1.74734527e-29 -6.08162586e-17]]\n",
      "f0,f1,f2 = [1.6900134665678324e-09, 1.6900134665645595e-09, 1.6900134665682512e-09]\n",
      "d01,d02,d12 = [1.046638120020184, 1.046638120020539, 1.0466381200199901]\n",
      "[-0.0007938  0.        -0.0007938  0.        -0.0007938  0.       ]\n"
     ]
    },
    {
     "name": "stderr",
     "output_type": "stream",
     "text": [
      "Progress:  23%|██▎       | 23/100 [10:24<35:06, 27.35s/it]"
     ]
    },
    {
     "name": "stdout",
     "output_type": "stream",
     "text": [
      "[[4.57589781e-05 0.00000000e+00 4.57589781e-05 0.00000000e+00\n",
      "  4.57589781e-05 0.00000000e+00]\n",
      " [0.00000000e+00 0.00000000e+00 0.00000000e+00 0.00000000e+00\n",
      "  0.00000000e+00 0.00000000e+00]\n",
      " [4.57589781e-05 0.00000000e+00 4.57589781e-05 0.00000000e+00\n",
      "  4.57589781e-05 0.00000000e+00]\n",
      " [0.00000000e+00 0.00000000e+00 0.00000000e+00 0.00000000e+00\n",
      "  0.00000000e+00 0.00000000e+00]\n",
      " [4.57589781e-05 0.00000000e+00 4.57589781e-05 0.00000000e+00\n",
      "  4.57589781e-05 0.00000000e+00]\n",
      " [0.00000000e+00 0.00000000e+00 0.00000000e+00 0.00000000e+00\n",
      "  0.00000000e+00 0.00000000e+00]]\n",
      "Time to: Calculate Ground State - 1.11s, Get Pauli Ops - 5.08s, Calculate Pauli Expectation Values - 19.65s, Calculate Covariance - 2.23s\n",
      "[[ 1.63098726e-16  9.41650932e-17 -1.63098726e-16  9.41650932e-17\n",
      "  -5.70074250e-29 -1.88330186e-16]\n",
      " [ 9.41650932e-17  5.43662419e-17 -9.41650932e-17  5.43662419e-17\n",
      "  -3.29132522e-29 -1.08732484e-16]\n",
      " [-1.63098726e-16 -9.41650932e-17  1.63098726e-16 -9.41650932e-17\n",
      "   5.70074250e-29  1.88330186e-16]\n",
      " [ 9.41650932e-17  5.43662419e-17 -9.41650932e-17  5.43662419e-17\n",
      "  -3.29132522e-29 -1.08732484e-16]\n",
      " [-5.70074250e-29 -3.29132522e-29  5.70074250e-29 -3.29132522e-29\n",
      "   1.99256401e-41  6.58265044e-29]\n",
      " [-1.88330186e-16 -1.08732484e-16  1.88330186e-16 -1.08732484e-16\n",
      "   6.58265044e-29  2.17464968e-16]]\n",
      "f0,f1,f2 = [1.730494805126726e-09, 1.7304948051336677e-09, 1.7304948051310454e-09]\n",
      "d01,d02,d12 = [1.0473348188161136, 1.0473348188164961, 1.0473348188159175]\n"
     ]
    },
    {
     "name": "stderr",
     "output_type": "stream",
     "text": [
      "/cluster/home/mskrabulis/miniconda3/envs/quantech/lib/python3.9/site-packages/pyscf/symm/Dmatrix.py:156: RuntimeWarning: invalid value encountered in arccos\n",
      "  gamma = numpy.arccos(yp.dot(c2[1]))\n"
     ]
    },
    {
     "name": "stdout",
     "output_type": "stream",
     "text": [
      "[-0.00103484  0.         -0.00103484  0.         -0.00103484  0.        ]\n"
     ]
    },
    {
     "name": "stderr",
     "output_type": "stream",
     "text": [
      "Progress:  24%|██▍       | 24/100 [10:49<33:34, 26.50s/it]"
     ]
    },
    {
     "name": "stdout",
     "output_type": "stream",
     "text": [
      "[[-9.25768452e-06  0.00000000e+00 -9.25768452e-06  0.00000000e+00\n",
      "  -9.25768452e-06  0.00000000e+00]\n",
      " [ 0.00000000e+00  0.00000000e+00  0.00000000e+00  0.00000000e+00\n",
      "   0.00000000e+00  0.00000000e+00]\n",
      " [-9.25768452e-06  0.00000000e+00 -9.25768452e-06  0.00000000e+00\n",
      "  -9.25768452e-06  0.00000000e+00]\n",
      " [ 0.00000000e+00  0.00000000e+00  0.00000000e+00  0.00000000e+00\n",
      "   0.00000000e+00  0.00000000e+00]\n",
      " [-9.25768452e-06  0.00000000e+00 -9.25768452e-06  0.00000000e+00\n",
      "  -9.25768452e-06  0.00000000e+00]\n",
      " [ 0.00000000e+00  0.00000000e+00  0.00000000e+00  0.00000000e+00\n",
      "   0.00000000e+00  0.00000000e+00]]\n",
      "Time to: Calculate Ground State - 0.87s, Get Pauli Ops - 4.36s, Calculate Pauli Expectation Values - 17.17s, Calculate Covariance - 2.11s\n",
      "[[-3.29971649e-17 -1.90509221e-17  3.29971649e-17 -1.90509221e-17\n",
      "   1.21506170e-29  3.81018441e-17]\n",
      " [-1.90509221e-17 -1.09990550e-17  1.90509221e-17 -1.09990550e-17\n",
      "   7.01516202e-30  2.19981100e-17]\n",
      " [ 3.29971649e-17  1.90509221e-17 -3.29971649e-17  1.90509221e-17\n",
      "  -1.21506170e-29 -3.81018441e-17]\n",
      " [-1.90509221e-17 -1.09990550e-17  1.90509221e-17 -1.09990550e-17\n",
      "   7.01516202e-30  2.19981099e-17]\n",
      " [ 1.21506170e-29  7.01516202e-30 -1.21506170e-29  7.01516202e-30\n",
      "  -4.47424786e-42 -1.40303240e-29]\n",
      " [ 3.81018441e-17  2.19981100e-17 -3.81018441e-17  2.19981099e-17\n",
      "  -1.40303240e-29 -4.39962199e-17]]\n",
      "f0,f1,f2 = [2.2559601020520657e-09, 2.2559601020423132e-09, 2.2559601020521836e-09]\n",
      "d01,d02,d12 = [1.0471335877009733, 1.0471335877013808, 1.0471335877007744]\n"
     ]
    },
    {
     "name": "stderr",
     "output_type": "stream",
     "text": [
      "/cluster/home/mskrabulis/miniconda3/envs/quantech/lib/python3.9/site-packages/pyscf/symm/Dmatrix.py:156: RuntimeWarning: invalid value encountered in arccos\n",
      "  gamma = numpy.arccos(yp.dot(c2[1]))\n"
     ]
    },
    {
     "name": "stdout",
     "output_type": "stream",
     "text": [
      "[-0.00110798  0.         -0.00110798  0.         -0.00110798  0.        ]\n"
     ]
    },
    {
     "name": "stderr",
     "output_type": "stream",
     "text": [
      "Progress:  25%|██▌       | 25/100 [11:17<33:39, 26.93s/it]"
     ]
    },
    {
     "name": "stdout",
     "output_type": "stream",
     "text": [
      "[[1.42231942e-05 0.00000000e+00 1.42231942e-05 0.00000000e+00\n",
      "  1.42231942e-05 0.00000000e+00]\n",
      " [0.00000000e+00 0.00000000e+00 0.00000000e+00 0.00000000e+00\n",
      "  0.00000000e+00 0.00000000e+00]\n",
      " [1.42231942e-05 0.00000000e+00 1.42231942e-05 0.00000000e+00\n",
      "  1.42231942e-05 0.00000000e+00]\n",
      " [0.00000000e+00 0.00000000e+00 0.00000000e+00 0.00000000e+00\n",
      "  0.00000000e+00 0.00000000e+00]\n",
      " [1.42231942e-05 0.00000000e+00 1.42231942e-05 0.00000000e+00\n",
      "  1.42231942e-05 0.00000000e+00]\n",
      " [0.00000000e+00 0.00000000e+00 0.00000000e+00 0.00000000e+00\n",
      "  0.00000000e+00 0.00000000e+00]]\n",
      "Time to: Calculate Ground State - 1.16s, Get Pauli Ops - 6.94s, Calculate Pauli Expectation Values - 17.65s, Calculate Covariance - 2.17s\n",
      "[[ 5.06957312e-17  2.92691940e-17 -5.06957312e-17  2.92691940e-17\n",
      "  -1.95743681e-29 -5.85383881e-17]\n",
      " [ 2.92691940e-17  1.68985771e-17 -2.92691940e-17  1.68985771e-17\n",
      "  -1.13012667e-29 -3.37971541e-17]\n",
      " [-5.06957312e-17 -2.92691940e-17  5.06957312e-17 -2.92691940e-17\n",
      "   1.95743681e-29  5.85383881e-17]\n",
      " [ 2.92691940e-17  1.68985771e-17 -2.92691940e-17  1.68985771e-17\n",
      "  -1.13012667e-29 -3.37971541e-17]\n",
      " [-1.95743681e-29 -1.13012667e-29  1.95743681e-29 -1.13012667e-29\n",
      "   7.55795172e-42  2.26025334e-29]\n",
      " [-5.85383881e-17 -3.37971541e-17  5.85383881e-17 -3.37971541e-17\n",
      "   2.26025334e-29  6.75943082e-17]]\n",
      "f0,f1,f2 = [2.4154058578281837e-09, 2.415405857831683e-09, 2.4154058578244552e-09]\n",
      "d01,d02,d12 = [1.0459471506740012, 1.045947150674435, 1.0459471506737998]\n",
      "[-0.00090243  0.         -0.00090243  0.         -0.00090243  0.        ]\n"
     ]
    },
    {
     "name": "stderr",
     "output_type": "stream",
     "text": [
      "Progress:  26%|██▌       | 26/100 [11:42<32:40, 26.49s/it]"
     ]
    },
    {
     "name": "stdout",
     "output_type": "stream",
     "text": [
      "[[8.86826981e-06 0.00000000e+00 8.86826981e-06 0.00000000e+00\n",
      "  8.86826981e-06 0.00000000e+00]\n",
      " [0.00000000e+00 0.00000000e+00 0.00000000e+00 0.00000000e+00\n",
      "  0.00000000e+00 0.00000000e+00]\n",
      " [8.86826981e-06 0.00000000e+00 8.86826981e-06 0.00000000e+00\n",
      "  8.86826981e-06 0.00000000e+00]\n",
      " [0.00000000e+00 0.00000000e+00 0.00000000e+00 0.00000000e+00\n",
      "  0.00000000e+00 0.00000000e+00]\n",
      " [8.86826981e-06 0.00000000e+00 8.86826981e-06 0.00000000e+00\n",
      "  8.86826981e-06 0.00000000e+00]\n",
      " [0.00000000e+00 0.00000000e+00 0.00000000e+00 0.00000000e+00\n",
      "  0.00000000e+00 0.00000000e+00]]\n",
      "Time to: Calculate Ground State - 1.02s, Get Pauli Ops - 5.07s, Calculate Pauli Expectation Values - 17.17s, Calculate Covariance - 2.19s\n",
      "[[ 3.16091741e-17  1.82495652e-17 -3.16091741e-17  1.82495652e-17\n",
      "  -1.27947337e-29 -3.64991304e-17]\n",
      " [ 1.82495652e-17  1.05363914e-17 -1.82495652e-17  1.05363914e-17\n",
      "  -7.38704292e-30 -2.10727827e-17]\n",
      " [-3.16091741e-17 -1.82495652e-17  3.16091741e-17 -1.82495652e-17\n",
      "   1.27947337e-29  3.64991303e-17]\n",
      " [ 1.82495652e-17  1.05363914e-17 -1.82495652e-17  1.05363914e-17\n",
      "  -7.38704292e-30 -2.10727827e-17]\n",
      " [-1.27947337e-29 -7.38704292e-30  1.27947337e-29 -7.38704292e-30\n",
      "   5.17904102e-42  1.47740858e-29]\n",
      " [-3.64991304e-17 -2.10727827e-17  3.64991303e-17 -2.10727827e-17\n",
      "   1.47740858e-29  4.21455655e-17]]\n",
      "f0,f1,f2 = [1.967293884772573e-09, 1.9672938847716613e-09, 1.9672938847756632e-09]\n",
      "d01,d02,d12 = [1.0440065196822643, 1.0440065196827257, 1.0440065196820618]\n",
      "[-0.0007891  0.        -0.0007891  0.        -0.0007891  0.       ]\n"
     ]
    },
    {
     "name": "stderr",
     "output_type": "stream",
     "text": [
      "Progress:  27%|██▋       | 27/100 [12:07<31:48, 26.14s/it]"
     ]
    },
    {
     "name": "stdout",
     "output_type": "stream",
     "text": [
      "[[9.39643054e-06 0.00000000e+00 9.39643054e-06 0.00000000e+00\n",
      "  9.39643054e-06 0.00000000e+00]\n",
      " [0.00000000e+00 0.00000000e+00 0.00000000e+00 0.00000000e+00\n",
      "  0.00000000e+00 0.00000000e+00]\n",
      " [9.39643054e-06 0.00000000e+00 9.39643054e-06 0.00000000e+00\n",
      "  9.39643054e-06 0.00000000e+00]\n",
      " [0.00000000e+00 0.00000000e+00 0.00000000e+00 0.00000000e+00\n",
      "  0.00000000e+00 0.00000000e+00]\n",
      " [9.39643054e-06 0.00000000e+00 9.39643054e-06 0.00000000e+00\n",
      "  9.39643054e-06 0.00000000e+00]\n",
      " [0.00000000e+00 0.00000000e+00 0.00000000e+00 0.00000000e+00\n",
      "  0.00000000e+00 0.00000000e+00]]\n",
      "Time to: Calculate Ground State - 1.3s, Get Pauli Ops - 4.57s, Calculate Pauli Expectation Values - 17.27s, Calculate Covariance - 2.19s\n",
      "[[ 3.34916974e-17  1.93364405e-17 -3.34916974e-17  1.93364405e-17\n",
      "  -1.42012253e-29 -3.86728810e-17]\n",
      " [ 1.93364405e-17  1.11638991e-17 -1.93364405e-17  1.11638991e-17\n",
      "  -8.19908126e-30 -2.23277983e-17]\n",
      " [-3.34916974e-17 -1.93364405e-17  3.34916974e-17 -1.93364405e-17\n",
      "   1.42012253e-29  3.86728810e-17]\n",
      " [ 1.93364405e-17  1.11638991e-17 -1.93364405e-17  1.11638991e-17\n",
      "  -8.19908126e-30 -2.23277983e-17]\n",
      " [-1.42012253e-29 -8.19908126e-30  1.42012253e-29 -8.19908126e-30\n",
      "   6.02163569e-42  1.63981625e-29]\n",
      " [-3.86728810e-17 -2.23277983e-17  3.86728810e-17 -2.23277983e-17\n",
      "   1.63981625e-29  4.46555965e-17]]\n",
      "f0,f1,f2 = [1.720242879143846e-09, 1.7202428791307722e-09, 1.7202428791252896e-09]\n",
      "d01,d02,d12 = [1.0414596112440373, 1.0414596112445267, 1.041459611243839]\n",
      "[-0.00098829  0.         -0.00098829  0.         -0.00098829  0.        ]\n"
     ]
    },
    {
     "name": "stderr",
     "output_type": "stream",
     "text": [
      "Progress:  28%|██▊       | 28/100 [12:33<31:10, 25.98s/it]"
     ]
    },
    {
     "name": "stdout",
     "output_type": "stream",
     "text": [
      "[[5.2225624e-05 0.0000000e+00 5.2225624e-05 0.0000000e+00 5.2225624e-05\n",
      "  0.0000000e+00]\n",
      " [0.0000000e+00 0.0000000e+00 0.0000000e+00 0.0000000e+00 0.0000000e+00\n",
      "  0.0000000e+00]\n",
      " [5.2225624e-05 0.0000000e+00 5.2225624e-05 0.0000000e+00 5.2225624e-05\n",
      "  0.0000000e+00]\n",
      " [0.0000000e+00 0.0000000e+00 0.0000000e+00 0.0000000e+00 0.0000000e+00\n",
      "  0.0000000e+00]\n",
      " [5.2225624e-05 0.0000000e+00 5.2225624e-05 0.0000000e+00 5.2225624e-05\n",
      "  0.0000000e+00]\n",
      " [0.0000000e+00 0.0000000e+00 0.0000000e+00 0.0000000e+00 0.0000000e+00\n",
      "  0.0000000e+00]]\n",
      "Time to: Calculate Ground State - 1.1s, Get Pauli Ops - 5.33s, Calculate Pauli Expectation Values - 17.02s, Calculate Covariance - 2.13s\n",
      "[[ 1.86147792e-16  1.07472478e-16 -1.86147792e-16  1.07472478e-16\n",
      "  -8.19483124e-29 -2.14944955e-16]\n",
      " [ 1.07472478e-16  6.20492639e-17 -1.07472478e-16  6.20492639e-17\n",
      "  -4.73128802e-29 -1.24098528e-16]\n",
      " [-1.86147792e-16 -1.07472478e-16  1.86147792e-16 -1.07472478e-16\n",
      "   8.19483124e-29  2.14944955e-16]\n",
      " [ 1.07472478e-16  6.20492639e-17 -1.07472478e-16  6.20492639e-17\n",
      "  -4.73128802e-29 -1.24098528e-16]\n",
      " [-8.19483124e-29 -4.73128802e-29  8.19483124e-29 -4.73128802e-29\n",
      "   3.60763125e-41  9.46257605e-29]\n",
      " [-2.14944955e-16 -1.24098528e-16  2.14944955e-16 -1.24098528e-16\n",
      "   9.46257605e-29  2.48197056e-16]]\n",
      "f0,f1,f2 = [2.1544631560889267e-09, 2.154463156068219e-09, 2.1544631560838255e-09]\n",
      "d01,d02,d12 = [1.0388022216441093, 1.0388022216446244, 1.0388022216439148]\n",
      "[-0.00077262  0.         -0.00077262  0.         -0.00077262  0.        ]\n"
     ]
    },
    {
     "name": "stderr",
     "output_type": "stream",
     "text": [
      "Progress:  29%|██▉       | 29/100 [12:59<30:50, 26.07s/it]"
     ]
    },
    {
     "name": "stdout",
     "output_type": "stream",
     "text": [
      "[[-9.50313565e-06  0.00000000e+00 -9.50313565e-06  0.00000000e+00\n",
      "  -9.50313565e-06  0.00000000e+00]\n",
      " [ 0.00000000e+00  0.00000000e+00  0.00000000e+00  0.00000000e+00\n",
      "   0.00000000e+00  0.00000000e+00]\n",
      " [-9.50313565e-06  0.00000000e+00 -9.50313565e-06  0.00000000e+00\n",
      "  -9.50313565e-06  0.00000000e+00]\n",
      " [ 0.00000000e+00  0.00000000e+00  0.00000000e+00  0.00000000e+00\n",
      "   0.00000000e+00  0.00000000e+00]\n",
      " [-9.50313565e-06  0.00000000e+00 -9.50313565e-06  0.00000000e+00\n",
      "  -9.50313565e-06  0.00000000e+00]\n",
      " [ 0.00000000e+00  0.00000000e+00  0.00000000e+00  0.00000000e+00\n",
      "   0.00000000e+00  0.00000000e+00]]\n",
      "Time to: Calculate Ground State - 0.84s, Get Pauli Ops - 5.61s, Calculate Pauli Expectation Values - 17.49s, Calculate Covariance - 2.33s\n",
      "[[-3.38720264e-17 -1.95560236e-17  3.38720264e-17 -1.95560236e-17\n",
      "   1.54253074e-29  3.91120471e-17]\n",
      " [-1.95560236e-17 -1.12906755e-17  1.95560236e-17 -1.12906755e-17\n",
      "   8.90580537e-30  2.25813509e-17]\n",
      " [ 3.38720264e-17  1.95560236e-17 -3.38720264e-17  1.95560236e-17\n",
      "  -1.54253074e-29 -3.91120471e-17]\n",
      " [-1.95560236e-17 -1.12906755e-17  1.95560236e-17 -1.12906755e-17\n",
      "   8.90580537e-30  2.25813509e-17]\n",
      " [ 1.54253074e-29  8.90580537e-30 -1.54253074e-29  8.90580537e-30\n",
      "  -7.02467886e-42 -1.78116107e-29]\n",
      " [ 3.91120471e-17  2.25813509e-17 -3.91120471e-17  2.25813509e-17\n",
      "  -1.78116107e-29 -4.51627018e-17]]\n",
      "f0,f1,f2 = [1.6843223129014816e-09, 1.684322312905841e-09, 1.6843223129124918e-09]\n",
      "d01,d02,d12 = [1.0352973507333738, 1.0352973507339145, 1.035297350733182]\n",
      "[-0.00090267  0.         -0.00090267  0.         -0.00090267  0.        ]\n"
     ]
    },
    {
     "name": "stderr",
     "output_type": "stream",
     "text": [
      "Progress:  30%|███       | 30/100 [13:25<30:21, 26.02s/it]"
     ]
    },
    {
     "name": "stdout",
     "output_type": "stream",
     "text": [
      "[[-8.06256319e-07  0.00000000e+00 -8.06256319e-07  0.00000000e+00\n",
      "  -8.06256319e-07  0.00000000e+00]\n",
      " [ 0.00000000e+00  0.00000000e+00  0.00000000e+00  0.00000000e+00\n",
      "   0.00000000e+00  0.00000000e+00]\n",
      " [-8.06256319e-07  0.00000000e+00 -8.06256319e-07  0.00000000e+00\n",
      "  -8.06256319e-07  0.00000000e+00]\n",
      " [ 0.00000000e+00  0.00000000e+00  0.00000000e+00  0.00000000e+00\n",
      "   0.00000000e+00  0.00000000e+00]\n",
      " [-8.06256319e-07  0.00000000e+00 -8.06256319e-07  0.00000000e+00\n",
      "  -8.06256319e-07  0.00000000e+00]\n",
      " [ 0.00000000e+00  0.00000000e+00  0.00000000e+00  0.00000000e+00\n",
      "   0.00000000e+00  0.00000000e+00]]\n",
      "Time to: Calculate Ground State - 1.09s, Get Pauli Ops - 4.7s, Calculate Pauli Expectation Values - 18.06s, Calculate Covariance - 2.03s\n",
      "[[-2.87373940e-18 -1.65915421e-18  2.87373940e-18 -1.65915422e-18\n",
      "   1.35495702e-30  3.31830843e-18]\n",
      " [-1.65915421e-18 -9.57913132e-19  1.65915422e-18 -9.57913133e-19\n",
      "   7.82284798e-31  1.91582626e-18]\n",
      " [ 2.87373940e-18  1.65915422e-18 -2.87373940e-18  1.65915421e-18\n",
      "  -1.35495702e-30 -3.31830843e-18]\n",
      " [-1.65915422e-18 -9.57913133e-19  1.65915421e-18 -9.57913133e-19\n",
      "   7.82284798e-31  1.91582627e-18]\n",
      " [ 1.35495702e-30  7.82284798e-31 -1.35495702e-30  7.82284798e-31\n",
      "  -6.38856995e-43 -1.56456960e-30]\n",
      " [ 3.31830843e-18  1.91582626e-18 -3.31830843e-18  1.91582627e-18\n",
      "  -1.56456960e-30 -3.83165253e-18]]\n",
      "f0,f1,f2 = [1.9678104939469663e-09, 1.967810493933956e-09, 1.9678104939453396e-09]\n",
      "d01,d02,d12 = [1.0309594676961988, 1.0309594676967648, 1.0309594676960108]\n",
      "[-0.00100398  0.         -0.00100398  0.         -0.00100398  0.        ]\n"
     ]
    },
    {
     "name": "stderr",
     "output_type": "stream",
     "text": [
      "Progress:  31%|███       | 31/100 [13:51<29:46, 25.89s/it]"
     ]
    },
    {
     "name": "stdout",
     "output_type": "stream",
     "text": [
      "[[8.68286331e-06 0.00000000e+00 8.68286331e-06 0.00000000e+00\n",
      "  8.68286331e-06 0.00000000e+00]\n",
      " [0.00000000e+00 0.00000000e+00 0.00000000e+00 0.00000000e+00\n",
      "  0.00000000e+00 0.00000000e+00]\n",
      " [8.68286331e-06 0.00000000e+00 8.68286331e-06 0.00000000e+00\n",
      "  8.68286332e-06 0.00000000e+00]\n",
      " [0.00000000e+00 0.00000000e+00 0.00000000e+00 0.00000000e+00\n",
      "  0.00000000e+00 0.00000000e+00]\n",
      " [8.68286331e-06 0.00000000e+00 8.68286332e-06 0.00000000e+00\n",
      "  8.68286331e-06 0.00000000e+00]\n",
      " [0.00000000e+00 0.00000000e+00 0.00000000e+00 0.00000000e+00\n",
      "  0.00000000e+00 0.00000000e+00]]\n",
      "Time to: Calculate Ground State - 1.38s, Get Pauli Ops - 5.02s, Calculate Pauli Expectation Values - 17.18s, Calculate Covariance - 2.02s\n",
      "[[ 3.09483297e-17  1.78680265e-17 -3.09483297e-17  1.78680265e-17\n",
      "  -1.50934546e-29 -3.57360530e-17]\n",
      " [ 1.78680265e-17  1.03161099e-17 -1.78680265e-17  1.03161099e-17\n",
      "  -8.71421006e-30 -2.06322198e-17]\n",
      " [-3.09483297e-17 -1.78680265e-17  3.09483297e-17 -1.78680265e-17\n",
      "   1.50934546e-29  3.57360530e-17]\n",
      " [ 1.78680265e-17  1.03161099e-17 -1.78680265e-17  1.03161099e-17\n",
      "  -8.71421006e-30 -2.06322198e-17]\n",
      " [-1.50934546e-29 -8.71421006e-30  1.50934546e-29 -8.71421006e-30\n",
      "   7.36105545e-42  1.74284201e-29]\n",
      " [-3.57360530e-17 -2.06322198e-17  3.57360530e-17 -2.06322198e-17\n",
      "   1.74284201e-29  4.12644396e-17]]\n",
      "f0,f1,f2 = [2.188671454050151e-09, 2.18867145405908e-09, 2.1886714540552344e-09]\n",
      "d01,d02,d12 = [1.0259353993424405, 1.0259353993430285, 1.0259353993422538]\n",
      "[-0.0006867  0.        -0.0006867  0.        -0.0006867  0.       ]\n"
     ]
    },
    {
     "name": "stderr",
     "output_type": "stream",
     "text": [
      "Progress:  32%|███▏      | 32/100 [14:16<29:13, 25.79s/it]"
     ]
    },
    {
     "name": "stdout",
     "output_type": "stream",
     "text": [
      "[[7.66636046e-06 0.00000000e+00 7.66636046e-06 0.00000000e+00\n",
      "  7.66636046e-06 0.00000000e+00]\n",
      " [0.00000000e+00 0.00000000e+00 0.00000000e+00 0.00000000e+00\n",
      "  0.00000000e+00 0.00000000e+00]\n",
      " [7.66636046e-06 0.00000000e+00 7.66636046e-06 0.00000000e+00\n",
      "  7.66636046e-06 0.00000000e+00]\n",
      " [0.00000000e+00 0.00000000e+00 0.00000000e+00 0.00000000e+00\n",
      "  0.00000000e+00 0.00000000e+00]\n",
      " [7.66636046e-06 0.00000000e+00 7.66636046e-06 0.00000000e+00\n",
      "  7.66636046e-06 0.00000000e+00]\n",
      " [0.00000000e+00 0.00000000e+00 0.00000000e+00 0.00000000e+00\n",
      "  0.00000000e+00 0.00000000e+00]]\n",
      "Time to: Calculate Ground State - 1.03s, Get Pauli Ops - 4.73s, Calculate Pauli Expectation Values - 17.89s, Calculate Covariance - 1.9s\n",
      "[[ 2.73252086e-17  1.57762165e-17 -2.73252086e-17  1.57762165e-17\n",
      "  -1.37545237e-29 -3.15524331e-17]\n",
      " [ 1.57762165e-17  9.10840287e-18 -1.57762165e-17  9.10840287e-18\n",
      "  -7.94117796e-30 -1.82168057e-17]\n",
      " [-2.73252086e-17 -1.57762165e-17  2.73252086e-17 -1.57762165e-17\n",
      "   1.37545237e-29  3.15524331e-17]\n",
      " [ 1.57762165e-17  9.10840287e-18 -1.57762165e-17  9.10840287e-18\n",
      "  -7.94117796e-30 -1.82168057e-17]\n",
      " [-1.37545237e-29 -7.94117796e-30  1.37545237e-29 -7.94117796e-30\n",
      "   6.92353076e-42  1.58823559e-29]\n",
      " [-3.15524331e-17 -1.82168057e-17  3.15524331e-17 -1.82168057e-17\n",
      "   1.58823559e-29  3.64336115e-17]]\n",
      "f0,f1,f2 = [1.4970045250574563e-09, 1.4970045250470967e-09, 1.497004525065386e-09]\n",
      "d01,d02,d12 = [1.0205171043320755, 1.0205171043326788, 1.020517104331887]\n",
      "[-0.00070701  0.         -0.00070701  0.         -0.00070701  0.        ]\n"
     ]
    },
    {
     "name": "stderr",
     "output_type": "stream",
     "text": [
      "Progress:  33%|███▎      | 33/100 [14:42<28:45, 25.75s/it]"
     ]
    },
    {
     "name": "stdout",
     "output_type": "stream",
     "text": [
      "[[2.57585785e-05 0.00000000e+00 2.57585785e-05 0.00000000e+00\n",
      "  2.57585785e-05 0.00000000e+00]\n",
      " [0.00000000e+00 0.00000000e+00 0.00000000e+00 0.00000000e+00\n",
      "  0.00000000e+00 0.00000000e+00]\n",
      " [2.57585785e-05 0.00000000e+00 2.57585784e-05 0.00000000e+00\n",
      "  2.57585785e-05 0.00000000e+00]\n",
      " [0.00000000e+00 0.00000000e+00 0.00000000e+00 0.00000000e+00\n",
      "  0.00000000e+00 0.00000000e+00]\n",
      " [2.57585785e-05 0.00000000e+00 2.57585785e-05 0.00000000e+00\n",
      "  2.57585785e-05 0.00000000e+00]\n",
      " [0.00000000e+00 0.00000000e+00 0.00000000e+00 0.00000000e+00\n",
      "  0.00000000e+00 0.00000000e+00]]\n",
      "Time to: Calculate Ground State - 1.31s, Get Pauli Ops - 4.63s, Calculate Pauli Expectation Values - 17.43s, Calculate Covariance - 2.26s\n",
      "[[ 9.18113012e-17  5.30072794e-17 -9.18113012e-17  5.30072794e-17\n",
      "  -4.74936352e-29 -1.06014559e-16]\n",
      " [ 5.30072794e-17  3.06037671e-17 -5.30072794e-17  3.06037671e-17\n",
      "  -2.74204630e-29 -6.12075341e-17]\n",
      " [-9.18113012e-17 -5.30072794e-17  9.18113012e-17 -5.30072794e-17\n",
      "   4.74936352e-29  1.06014559e-16]\n",
      " [ 5.30072794e-17  3.06037671e-17 -5.30072794e-17  3.06037671e-17\n",
      "  -2.74204630e-29 -6.12075341e-17]\n",
      " [-4.74936352e-29 -2.74204630e-29  4.74936352e-29 -2.74204630e-29\n",
      "   2.45682759e-41  5.48409261e-29]\n",
      " [-1.06014559e-16 -6.12075341e-17  1.06014559e-16 -6.12075341e-17\n",
      "   5.48409261e-29  1.22415068e-16]]\n",
      "f0,f1,f2 = [1.5412815721579397e-09, 1.5412815721431603e-09, 1.5412815721547975e-09]\n",
      "d01,d02,d12 = [1.0152813091884427, 1.0152813091890645, 1.0152813091882507]\n",
      "[-0.00069896  0.         -0.00069896  0.         -0.00069896  0.        ]\n"
     ]
    },
    {
     "name": "stderr",
     "output_type": "stream",
     "text": [
      "Progress:  34%|███▍      | 34/100 [15:10<28:56, 26.31s/it]"
     ]
    },
    {
     "name": "stdout",
     "output_type": "stream",
     "text": [
      "[[-2.87863481e-06  0.00000000e+00 -2.87863481e-06  0.00000000e+00\n",
      "  -2.87863481e-06  0.00000000e+00]\n",
      " [ 0.00000000e+00  0.00000000e+00  0.00000000e+00  0.00000000e+00\n",
      "   0.00000000e+00  0.00000000e+00]\n",
      " [-2.87863481e-06  0.00000000e+00 -2.87863481e-06  0.00000000e+00\n",
      "  -2.87863481e-06  0.00000000e+00]\n",
      " [ 0.00000000e+00  0.00000000e+00  0.00000000e+00  0.00000000e+00\n",
      "   0.00000000e+00  0.00000000e+00]\n",
      " [-2.87863481e-06  0.00000000e+00 -2.87863481e-06  0.00000000e+00\n",
      "  -2.87863481e-06  0.00000000e+00]\n",
      " [ 0.00000000e+00  0.00000000e+00  0.00000000e+00  0.00000000e+00\n",
      "   0.00000000e+00  0.00000000e+00]]\n",
      "Time to: Calculate Ground State - 1.36s, Get Pauli Ops - 6.88s, Calculate Pauli Expectation Values - 17.38s, Calculate Covariance - 1.99s\n",
      "[[-1.02603181e-17 -5.92379740e-18  1.02603181e-17 -5.92379739e-18\n",
      "   5.48242234e-30  1.18475948e-17]\n",
      " [-5.92379740e-18 -3.42010602e-18  5.92379739e-18 -3.42010602e-18\n",
      "   3.16527801e-30  6.84021204e-18]\n",
      " [ 1.02603181e-17  5.92379739e-18 -1.02603181e-17  5.92379740e-18\n",
      "  -5.48242234e-30 -1.18475948e-17]\n",
      " [-5.92379739e-18 -3.42010602e-18  5.92379740e-18 -3.42010602e-18\n",
      "   3.16527801e-30  6.84021204e-18]\n",
      " [ 5.48242234e-30  3.16527801e-30 -5.48242234e-30  3.16527801e-30\n",
      "  -2.92943694e-42 -6.33055603e-30]\n",
      " [ 1.18475948e-17  6.84021204e-18 -1.18475948e-17  6.84021204e-18\n",
      "  -6.33055603e-30 -1.36804241e-17]]\n",
      "f0,f1,f2 = [1.523739613041648e-09, 1.5237396130335096e-09, 1.5237396130531051e-09]\n",
      "d01,d02,d12 = [1.0093246123209956, 1.0093246123216264, 1.0093246123207886]\n",
      "[-0.00034579  0.         -0.00034579  0.         -0.00034579  0.        ]\n"
     ]
    },
    {
     "name": "stderr",
     "output_type": "stream",
     "text": [
      "Progress:  35%|███▌      | 35/100 [15:35<28:14, 26.07s/it]"
     ]
    },
    {
     "name": "stdout",
     "output_type": "stream",
     "text": [
      "[[7.96247368e-06 0.00000000e+00 7.96247368e-06 0.00000000e+00\n",
      "  7.96247368e-06 0.00000000e+00]\n",
      " [0.00000000e+00 0.00000000e+00 0.00000000e+00 0.00000000e+00\n",
      "  0.00000000e+00 0.00000000e+00]\n",
      " [7.96247368e-06 0.00000000e+00 7.96247368e-06 0.00000000e+00\n",
      "  7.96247368e-06 0.00000000e+00]\n",
      " [0.00000000e+00 0.00000000e+00 0.00000000e+00 0.00000000e+00\n",
      "  0.00000000e+00 0.00000000e+00]\n",
      " [7.96247368e-06 0.00000000e+00 7.96247368e-06 0.00000000e+00\n",
      "  7.96247368e-06 0.00000000e+00]\n",
      " [0.00000000e+00 0.00000000e+00 0.00000000e+00 0.00000000e+00\n",
      "  0.00000000e+00 0.00000000e+00]]\n",
      "Time to: Calculate Ground State - 1.0s, Get Pauli Ops - 4.98s, Calculate Pauli Expectation Values - 17.65s, Calculate Covariance - 1.89s\n",
      "[[ 2.83806449e-17  1.63855730e-17 -2.83806450e-17  1.63855730e-17\n",
      "  -1.57092096e-29 -3.27711460e-17]\n",
      " [ 1.63855730e-17  9.46021498e-18 -1.63855730e-17  9.46021498e-18\n",
      "  -9.06971639e-30 -1.89204300e-17]\n",
      " [-2.83806450e-17 -1.63855730e-17  2.83806449e-17 -1.63855730e-17\n",
      "   1.57092096e-29  3.27711460e-17]\n",
      " [ 1.63855730e-17  9.46021498e-18 -1.63855730e-17  9.46021498e-18\n",
      "  -9.06971640e-30 -1.89204300e-17]\n",
      " [-1.57092096e-29 -9.06971639e-30  1.57092096e-29 -9.06971640e-30\n",
      "   8.69533680e-42  1.81394328e-29]\n",
      " [-3.27711460e-17 -1.89204300e-17  3.27711460e-17 -1.89204300e-17\n",
      "   1.81394328e-29  3.78408599e-17]]\n",
      "f0,f1,f2 = [7.538183850199829e-10, 7.538183850007007e-10, 7.538183850072579e-10]\n",
      "d01,d02,d12 = [1.0033345021502202, 1.0033345021508542, 1.00333450215]\n"
     ]
    },
    {
     "name": "stderr",
     "output_type": "stream",
     "text": [
      "/cluster/home/mskrabulis/miniconda3/envs/quantech/lib/python3.9/site-packages/pyscf/symm/Dmatrix.py:156: RuntimeWarning: invalid value encountered in arccos\n",
      "  gamma = numpy.arccos(yp.dot(c2[1]))\n"
     ]
    },
    {
     "name": "stdout",
     "output_type": "stream",
     "text": [
      "[-0.00019498  0.         -0.00019498  0.         -0.00019498  0.        ]\n"
     ]
    },
    {
     "name": "stderr",
     "output_type": "stream",
     "text": [
      "Progress:  36%|███▌      | 36/100 [16:00<27:26, 25.73s/it]"
     ]
    },
    {
     "name": "stdout",
     "output_type": "stream",
     "text": [
      "[[-9.60927926e-06  0.00000000e+00 -9.60927926e-06  0.00000000e+00\n",
      "  -9.60927926e-06  0.00000000e+00]\n",
      " [ 0.00000000e+00  0.00000000e+00  0.00000000e+00  0.00000000e+00\n",
      "   0.00000000e+00  0.00000000e+00]\n",
      " [-9.60927926e-06  0.00000000e+00 -9.60927926e-06  0.00000000e+00\n",
      "  -9.60927926e-06  0.00000000e+00]\n",
      " [ 0.00000000e+00  0.00000000e+00  0.00000000e+00  0.00000000e+00\n",
      "   0.00000000e+00  0.00000000e+00]\n",
      " [-9.60927926e-06  0.00000000e+00 -9.60927926e-06  0.00000000e+00\n",
      "  -9.60927926e-06  0.00000000e+00]\n",
      " [ 0.00000000e+00  0.00000000e+00  0.00000000e+00  0.00000000e+00\n",
      "   0.00000000e+00  0.00000000e+00]]\n",
      "Time to: Calculate Ground State - 1.05s, Get Pauli Ops - 4.74s, Calculate Pauli Expectation Values - 17.37s, Calculate Covariance - 1.76s\n",
      "[[-3.42503541e-17 -1.97744511e-17  3.42503541e-17 -1.97744511e-17\n",
      "   1.94439685e-29  3.95489023e-17]\n",
      " [-1.97744511e-17 -1.14167847e-17  1.97744511e-17 -1.14167847e-17\n",
      "   1.12259804e-29  2.28335694e-17]\n",
      " [ 3.42503541e-17  1.97744511e-17 -3.42503541e-17  1.97744511e-17\n",
      "  -1.94439685e-29 -3.95489023e-17]\n",
      " [-1.97744511e-17 -1.14167847e-17  1.97744511e-17 -1.14167847e-17\n",
      "   1.12259804e-29  2.28335694e-17]\n",
      " [ 1.94439685e-29  1.12259804e-29 -1.94439685e-29  1.12259804e-29\n",
      "  -1.10383650e-41 -2.24519609e-29]\n",
      " [ 3.95489023e-17  2.28335694e-17 -3.95489023e-17  2.28335694e-17\n",
      "  -2.24519609e-29 -4.56671388e-17]]\n",
      "f0,f1,f2 = [4.25063938504879e-10, 4.250639384813955e-10, 4.2506393850373734e-10]\n",
      "d01,d02,d12 = [0.9968290716956105, 0.9968290716962405, 0.9968290716953752]\n"
     ]
    },
    {
     "name": "stderr",
     "output_type": "stream",
     "text": [
      "/cluster/home/mskrabulis/miniconda3/envs/quantech/lib/python3.9/site-packages/pyscf/symm/Dmatrix.py:156: RuntimeWarning: invalid value encountered in arccos\n",
      "  gamma = numpy.arccos(yp.dot(c2[1]))\n"
     ]
    },
    {
     "name": "stdout",
     "output_type": "stream",
     "text": [
      "[-0.00029834  0.         -0.00029834  0.         -0.00029834  0.        ]\n"
     ]
    },
    {
     "name": "stderr",
     "output_type": "stream",
     "text": [
      "Progress:  37%|███▋      | 37/100 [16:26<26:57, 25.67s/it]"
     ]
    },
    {
     "name": "stdout",
     "output_type": "stream",
     "text": [
      "[[-1.06436846e-05  0.00000000e+00 -1.06436846e-05  0.00000000e+00\n",
      "  -1.06436846e-05  0.00000000e+00]\n",
      " [ 0.00000000e+00  0.00000000e+00  0.00000000e+00  0.00000000e+00\n",
      "   0.00000000e+00  0.00000000e+00]\n",
      " [-1.06436846e-05  0.00000000e+00 -1.06436846e-05  0.00000000e+00\n",
      "  -1.06436846e-05  0.00000000e+00]\n",
      " [ 0.00000000e+00  0.00000000e+00  0.00000000e+00  0.00000000e+00\n",
      "   0.00000000e+00  0.00000000e+00]\n",
      " [-1.06436846e-05  0.00000000e+00 -1.06436846e-05  0.00000000e+00\n",
      "  -1.06436846e-05  0.00000000e+00]\n",
      " [ 0.00000000e+00  0.00000000e+00  0.00000000e+00  0.00000000e+00\n",
      "   0.00000000e+00  0.00000000e+00]]\n",
      "Time to: Calculate Ground State - 1.31s, Get Pauli Ops - 5.28s, Calculate Pauli Expectation Values - 17.02s, Calculate Covariance - 1.92s\n",
      "[[-3.79372851e-17 -2.19031017e-17  3.79372851e-17 -2.19031017e-17\n",
      "   2.19545738e-29  4.38062035e-17]\n",
      " [-2.19031017e-17 -1.26457617e-17  2.19031017e-17 -1.26457617e-17\n",
      "   1.26754791e-29  2.52915234e-17]\n",
      " [ 3.79372851e-17  2.19031017e-17 -3.79372851e-17  2.19031017e-17\n",
      "  -2.19545738e-29 -4.38062035e-17]\n",
      " [-2.19031017e-17 -1.26457617e-17  2.19031017e-17 -1.26457617e-17\n",
      "   1.26754791e-29  2.52915234e-17]\n",
      " [ 2.19545738e-29  1.26754791e-29 -2.19545738e-29  1.26754791e-29\n",
      "  -1.27052664e-41 -2.53509582e-29]\n",
      " [ 4.38062035e-17  2.52915234e-17 -4.38062035e-17  2.52915234e-17\n",
      "  -2.53509582e-29 -5.05830467e-17]]\n",
      "f0,f1,f2 = [6.503704830447587e-10, 6.503704830448985e-10, 6.503704830366625e-10]\n",
      "d01,d02,d12 = [0.9896460591535639, 0.9896460591541956, 0.9896460591533116]\n",
      "[1.34107704e-05 0.00000000e+00 1.34107704e-05 0.00000000e+00\n",
      " 1.34107704e-05 0.00000000e+00]\n"
     ]
    },
    {
     "name": "stderr",
     "output_type": "stream",
     "text": [
      "Progress:  38%|███▊      | 38/100 [16:50<26:11, 25.34s/it]"
     ]
    },
    {
     "name": "stdout",
     "output_type": "stream",
     "text": [
      "[[1.63125372e-05 0.00000000e+00 1.63125372e-05 0.00000000e+00\n",
      "  1.63125372e-05 0.00000000e+00]\n",
      " [0.00000000e+00 0.00000000e+00 0.00000000e+00 0.00000000e+00\n",
      "  0.00000000e+00 0.00000000e+00]\n",
      " [1.63125372e-05 0.00000000e+00 1.63125372e-05 0.00000000e+00\n",
      "  1.63125372e-05 0.00000000e+00]\n",
      " [0.00000000e+00 0.00000000e+00 0.00000000e+00 0.00000000e+00\n",
      "  0.00000000e+00 0.00000000e+00]\n",
      " [1.63125372e-05 0.00000000e+00 1.63125372e-05 0.00000000e+00\n",
      "  1.63125372e-05 0.00000000e+00]\n",
      " [0.00000000e+00 0.00000000e+00 0.00000000e+00 0.00000000e+00\n",
      "  0.00000000e+00 0.00000000e+00]]\n",
      "Time to: Calculate Ground State - 1.37s, Get Pauli Ops - 4.39s, Calculate Pauli Expectation Values - 17.46s, Calculate Covariance - 1.35s\n",
      "[[ 5.81427764e-17  3.35687476e-17 -5.81427764e-17  3.35687476e-17\n",
      "  -3.46193345e-29 -6.71374952e-17]\n",
      " [ 3.35687476e-17  1.93809255e-17 -3.35687476e-17  1.93809255e-17\n",
      "  -1.99874821e-29 -3.87618509e-17]\n",
      " [-5.81427764e-17 -3.35687476e-17  5.81427764e-17 -3.35687476e-17\n",
      "   3.46193345e-29  6.71374952e-17]\n",
      " [ 3.35687476e-17  1.93809255e-17 -3.35687476e-17  1.93809255e-17\n",
      "  -1.99874821e-29 -3.87618509e-17]\n",
      " [-3.46193345e-29 -1.99874821e-29  3.46193345e-29 -1.99874821e-29\n",
      "   2.06130219e-41  3.99749642e-29]\n",
      " [-6.71374952e-17 -3.87618509e-17  6.71374952e-17 -3.87618509e-17\n",
      "   3.99749642e-29  7.75237018e-17]]\n",
      "f0,f1,f2 = [2.9235479495138594e-11, 2.923547950707041e-11, 2.9235479504633134e-11]\n",
      "d01,d02,d12 = [0.9831652133254135, 0.9831652133260476, 0.9831652133251434]\n",
      "[0.00016981 0.         0.00016981 0.         0.00016981 0.        ]\n"
     ]
    },
    {
     "name": "stderr",
     "output_type": "stream",
     "text": [
      "Progress:  39%|███▉      | 39/100 [17:15<25:46, 25.36s/it]"
     ]
    },
    {
     "name": "stdout",
     "output_type": "stream",
     "text": [
      "[[-1.48249696e-06  0.00000000e+00 -1.48249696e-06  0.00000000e+00\n",
      "  -1.48249696e-06  0.00000000e+00]\n",
      " [ 0.00000000e+00  0.00000000e+00  0.00000000e+00  0.00000000e+00\n",
      "   0.00000000e+00  0.00000000e+00]\n",
      " [-1.48249696e-06  0.00000000e+00 -1.48249696e-06  0.00000000e+00\n",
      "  -1.48249696e-06  0.00000000e+00]\n",
      " [ 0.00000000e+00  0.00000000e+00  0.00000000e+00  0.00000000e+00\n",
      "   0.00000000e+00  0.00000000e+00]\n",
      " [-1.48249696e-06  0.00000000e+00 -1.48249696e-06  0.00000000e+00\n",
      "  -1.48249696e-06  0.00000000e+00]\n",
      " [ 0.00000000e+00  0.00000000e+00  0.00000000e+00  0.00000000e+00\n",
      "   0.00000000e+00  0.00000000e+00]]\n",
      "Time to: Calculate Ground State - 0.81s, Get Pauli Ops - 4.42s, Calculate Pauli Expectation Values - 18.01s, Calculate Covariance - 2.14s\n",
      "[[-5.28406391e-18 -3.05075572e-18  5.28406391e-18 -3.05075572e-18\n",
      "   3.23959585e-30  6.10151144e-18]\n",
      " [-3.05075572e-18 -1.76135464e-18  3.05075572e-18 -1.76135464e-18\n",
      "   1.87038154e-30  3.52270927e-18]\n",
      " [ 5.28406391e-18  3.05075572e-18 -5.28406391e-18  3.05075572e-18\n",
      "  -3.23959585e-30 -6.10151144e-18]\n",
      " [-3.05075572e-18 -1.76135464e-18  3.05075572e-18 -1.76135464e-18\n",
      "   1.87038154e-30  3.52270927e-18]\n",
      " [ 3.23959585e-30  1.87038154e-30 -3.23959585e-30  1.87038154e-30\n",
      "  -1.98615714e-42 -3.74076307e-30]\n",
      " [ 6.10151144e-18  3.52270927e-18 -6.10151144e-18  3.52270927e-18\n",
      "  -3.74076307e-30 -7.04541855e-18]]\n",
      "f0,f1,f2 = [3.7017758478179146e-10, 3.7017758479935726e-10, 3.701775847818545e-10]\n",
      "d01,d02,d12 = [0.976781359315652, 0.9767813593162895, 0.9767813593153675]\n",
      "[0.00011278 0.         0.00011278 0.         0.00011278 0.        ]\n"
     ]
    },
    {
     "name": "stderr",
     "output_type": "stream",
     "text": [
      "Progress:  40%|████      | 40/100 [17:41<25:16, 25.28s/it]"
     ]
    },
    {
     "name": "stdout",
     "output_type": "stream",
     "text": [
      "[[-1.65401111e-05  0.00000000e+00 -1.65401111e-05  0.00000000e+00\n",
      "  -1.65401111e-05  0.00000000e+00]\n",
      " [ 0.00000000e+00  0.00000000e+00  0.00000000e+00  0.00000000e+00\n",
      "   0.00000000e+00  0.00000000e+00]\n",
      " [-1.65401111e-05  0.00000000e+00 -1.65401111e-05  0.00000000e+00\n",
      "  -1.65401111e-05  0.00000000e+00]\n",
      " [ 0.00000000e+00  0.00000000e+00  0.00000000e+00  0.00000000e+00\n",
      "   0.00000000e+00  0.00000000e+00]\n",
      " [-1.65401111e-05  0.00000000e+00 -1.65401111e-05  0.00000000e+00\n",
      "  -1.65401111e-05  0.00000000e+00]\n",
      " [ 0.00000000e+00  0.00000000e+00  0.00000000e+00  0.00000000e+00\n",
      "   0.00000000e+00  0.00000000e+00]]\n",
      "Time to: Calculate Ground State - 0.79s, Get Pauli Ops - 4.32s, Calculate Pauli Expectation Values - 17.58s, Calculate Covariance - 2.39s\n",
      "[[-5.89539181e-17 -3.40370605e-17  5.89539181e-17 -3.40370605e-17\n",
      "   3.70953454e-29  6.80741209e-17]\n",
      " [-3.40370605e-17 -1.96513060e-17  3.40370605e-17 -1.96513060e-17\n",
      "   2.14170077e-29  3.93026121e-17]\n",
      " [ 5.89539181e-17  3.40370605e-17 -5.89539181e-17  3.40370605e-17\n",
      "  -3.70953454e-29 -6.80741209e-17]\n",
      " [-3.40370605e-17 -1.96513060e-17  3.40370605e-17 -1.96513060e-17\n",
      "   2.14170077e-29  3.93026121e-17]\n",
      " [ 3.70953454e-29  2.14170077e-29 -3.70953454e-29  2.14170077e-29\n",
      "  -2.33413605e-41 -4.28340154e-29]\n",
      " [ 6.80741209e-17  3.93026121e-17 -6.80741209e-17  3.93026121e-17\n",
      "  -4.28340154e-29 -7.86052241e-17]]\n",
      "f0,f1,f2 = [2.4585842159277955e-10, 2.4585842159913426e-10, 2.458584215890958e-10]\n",
      "d01,d02,d12 = [0.9698776805072484, 0.9698776805078831, 0.9698776805069453]\n",
      "[0.00020733 0.         0.00020733 0.         0.00020733 0.        ]\n"
     ]
    },
    {
     "name": "stderr",
     "output_type": "stream",
     "text": [
      "Progress:  41%|████      | 41/100 [18:09<25:39, 26.09s/it]"
     ]
    },
    {
     "name": "stdout",
     "output_type": "stream",
     "text": [
      "[[5.1642358e-05 0.0000000e+00 5.1642358e-05 0.0000000e+00 5.1642358e-05\n",
      "  0.0000000e+00]\n",
      " [0.0000000e+00 0.0000000e+00 0.0000000e+00 0.0000000e+00 0.0000000e+00\n",
      "  0.0000000e+00]\n",
      " [5.1642358e-05 0.0000000e+00 5.1642358e-05 0.0000000e+00 5.1642358e-05\n",
      "  0.0000000e+00]\n",
      " [0.0000000e+00 0.0000000e+00 0.0000000e+00 0.0000000e+00 0.0000000e+00\n",
      "  0.0000000e+00]\n",
      " [5.1642358e-05 0.0000000e+00 5.1642358e-05 0.0000000e+00 5.1642358e-05\n",
      "  0.0000000e+00]\n",
      " [0.0000000e+00 0.0000000e+00 0.0000000e+00 0.0000000e+00 0.0000000e+00\n",
      "  0.0000000e+00]]\n",
      "Time to: Calculate Ground State - 1.42s, Get Pauli Ops - 6.75s, Calculate Pauli Expectation Values - 17.61s, Calculate Covariance - 2.2s\n",
      "[[ 1.84068857e-16  1.06272204e-16 -1.84068857e-16  1.06272204e-16\n",
      "  -1.18663226e-28 -2.12544408e-16]\n",
      " [ 1.06272204e-16  6.13562855e-17 -1.06272204e-16  6.13562855e-17\n",
      "  -6.85102456e-29 -1.22712571e-16]\n",
      " [-1.84068857e-16 -1.06272204e-16  1.84068857e-16 -1.06272204e-16\n",
      "   1.18663226e-28  2.12544408e-16]\n",
      " [ 1.06272204e-16  6.13562855e-17 -1.06272204e-16  6.13562855e-17\n",
      "  -6.85102456e-29 -1.22712571e-16]\n",
      " [-1.18663226e-28 -6.85102456e-29  1.18663226e-28 -6.85102456e-29\n",
      "   7.64983360e-41  1.37020491e-28]\n",
      " [-2.12544408e-16 -1.22712571e-16  2.12544408e-16 -1.22712571e-16\n",
      "   1.37020491e-28  2.45425142e-16]]\n",
      "f0,f1,f2 = [4.5198558572514115e-10, 4.519855857471969e-10, 4.519855857297245e-10]\n",
      "d01,d02,d12 = [0.9652610891511225, 0.9652610891517498, 0.9652610891508079]\n"
     ]
    },
    {
     "name": "stderr",
     "output_type": "stream",
     "text": [
      "/cluster/home/mskrabulis/miniconda3/envs/quantech/lib/python3.9/site-packages/pyscf/symm/Dmatrix.py:156: RuntimeWarning: invalid value encountered in arccos\n",
      "  gamma = numpy.arccos(yp.dot(c2[1]))\n"
     ]
    },
    {
     "name": "stdout",
     "output_type": "stream",
     "text": [
      "[0.00038624 0.         0.00038624 0.         0.00038624 0.        ]\n"
     ]
    },
    {
     "name": "stderr",
     "output_type": "stream",
     "text": [
      "Progress:  42%|████▏     | 42/100 [18:36<25:40, 26.56s/it]"
     ]
    },
    {
     "name": "stdout",
     "output_type": "stream",
     "text": [
      "[[3.3341796e-05 0.0000000e+00 3.3341796e-05 0.0000000e+00 3.3341796e-05\n",
      "  0.0000000e+00]\n",
      " [0.0000000e+00 0.0000000e+00 0.0000000e+00 0.0000000e+00 0.0000000e+00\n",
      "  0.0000000e+00]\n",
      " [3.3341796e-05 0.0000000e+00 3.3341796e-05 0.0000000e+00 3.3341796e-05\n",
      "  0.0000000e+00]\n",
      " [0.0000000e+00 0.0000000e+00 0.0000000e+00 0.0000000e+00 0.0000000e+00\n",
      "  0.0000000e+00]\n",
      " [3.3341796e-05 0.0000000e+00 3.3341796e-05 0.0000000e+00 3.3341796e-05\n",
      "  0.0000000e+00]\n",
      " [0.0000000e+00 0.0000000e+00 0.0000000e+00 0.0000000e+00 0.0000000e+00\n",
      "  0.0000000e+00]]\n",
      "Time to: Calculate Ground State - 1.24s, Get Pauli Ops - 7.45s, Calculate Pauli Expectation Values - 17.06s, Calculate Covariance - 1.9s\n",
      "[[ 1.18840164e-16  6.86124005e-17 -1.18840164e-16  6.86124005e-17\n",
      "  -7.73108050e-29 -1.37224801e-16]\n",
      " [ 6.86124005e-17  3.96133879e-17 -6.86124005e-17  3.96133879e-17\n",
      "  -4.46354141e-29 -7.92267757e-17]\n",
      " [-1.18840164e-16 -6.86124005e-17  1.18840164e-16 -6.86124005e-17\n",
      "   7.73108050e-29  1.37224801e-16]\n",
      " [ 6.86124005e-17  3.96133879e-17 -6.86124005e-17  3.96133879e-17\n",
      "  -4.46354141e-29 -7.92267757e-17]\n",
      " [-7.73108050e-29 -4.46354141e-29  7.73108050e-29 -4.46354141e-29\n",
      "   5.02941126e-41  8.92708281e-29]\n",
      " [-1.37224801e-16 -7.92267757e-17  1.37224801e-16 -7.92267757e-17\n",
      "   8.92708281e-29  1.58453551e-16]]\n",
      "f0,f1,f2 = [8.420126931668458e-10, 8.420126931810206e-10, 8.420126931559509e-10]\n",
      "d01,d02,d12 = [0.9619002911492955, 0.9619002911499123, 0.961900291148967]\n",
      "[0.00045625 0.         0.00045625 0.         0.00045625 0.        ]\n"
     ]
    },
    {
     "name": "stderr",
     "output_type": "stream",
     "text": [
      "Progress:  43%|████▎     | 43/100 [19:05<25:55, 27.29s/it]"
     ]
    },
    {
     "name": "stdout",
     "output_type": "stream",
     "text": [
      "[[-8.24814893e-06  0.00000000e+00 -8.24814893e-06  0.00000000e+00\n",
      "  -8.24814893e-06  0.00000000e+00]\n",
      " [ 0.00000000e+00  0.00000000e+00  0.00000000e+00  0.00000000e+00\n",
      "   0.00000000e+00  0.00000000e+00]\n",
      " [-8.24814893e-06  0.00000000e+00 -8.24814893e-06  0.00000000e+00\n",
      "  -8.24814893e-06  0.00000000e+00]\n",
      " [ 0.00000000e+00  0.00000000e+00  0.00000000e+00  0.00000000e+00\n",
      "   0.00000000e+00  0.00000000e+00]\n",
      " [-8.24814893e-06  0.00000000e+00 -8.24814893e-06  0.00000000e+00\n",
      "  -8.24814893e-06  0.00000000e+00]\n",
      " [ 0.00000000e+00  0.00000000e+00  0.00000000e+00  0.00000000e+00\n",
      "   0.00000000e+00  0.00000000e+00]]\n",
      "Time to: Calculate Ground State - 0.8s, Get Pauli Ops - 7.92s, Calculate Pauli Expectation Values - 18.04s, Calculate Covariance - 2.23s\n",
      "[[-2.93988772e-17 -1.69734497e-17  2.93988772e-17 -1.69734497e-17\n",
      "   1.92572254e-29  3.39468994e-17]\n",
      " [-1.69734497e-17 -9.79962574e-18  1.69734497e-17 -9.79962574e-18\n",
      "   1.11181643e-29  1.95992515e-17]\n",
      " [ 2.93988772e-17  1.69734497e-17 -2.93988772e-17  1.69734497e-17\n",
      "  -1.92572254e-29 -3.39468994e-17]\n",
      " [-1.69734497e-17 -9.79962574e-18  1.69734497e-17 -9.79962574e-18\n",
      "   1.11181643e-29  1.95992515e-17]\n",
      " [ 1.92572254e-29  1.11181643e-29 -1.92572254e-29  1.11181643e-29\n",
      "  -1.26141120e-41 -2.22363286e-29]\n",
      " [ 3.39468994e-17  1.95992515e-17 -3.39468994e-17  1.95992515e-17\n",
      "  -2.22363286e-29 -3.91985030e-17]]\n",
      "f0,f1,f2 = [9.946195418514004e-10, 9.946195418517969e-10, 9.946195418659785e-10]\n",
      "d01,d02,d12 = [0.9587888770037937, 0.9587888770044051, 0.958788877003455]\n",
      "[0.00057369 0.         0.00057369 0.         0.00057369 0.        ]\n"
     ]
    },
    {
     "name": "stderr",
     "output_type": "stream",
     "text": [
      "Progress:  44%|████▍     | 44/100 [19:33<25:41, 27.52s/it]"
     ]
    },
    {
     "name": "stdout",
     "output_type": "stream",
     "text": [
      "[[-4.90518827e-06  0.00000000e+00 -4.90518827e-06  0.00000000e+00\n",
      "  -4.90518827e-06  0.00000000e+00]\n",
      " [ 0.00000000e+00  0.00000000e+00  0.00000000e+00  0.00000000e+00\n",
      "   0.00000000e+00  0.00000000e+00]\n",
      " [-4.90518827e-06  0.00000000e+00 -4.90518827e-06  0.00000000e+00\n",
      "  -4.90518827e-06  0.00000000e+00]\n",
      " [ 0.00000000e+00  0.00000000e+00  0.00000000e+00  0.00000000e+00\n",
      "   0.00000000e+00  0.00000000e+00]\n",
      " [-4.90518827e-06  0.00000000e+00 -4.90518827e-06  0.00000000e+00\n",
      "  -4.90518827e-06  0.00000000e+00]\n",
      " [ 0.00000000e+00  0.00000000e+00  0.00000000e+00  0.00000000e+00\n",
      "   0.00000000e+00  0.00000000e+00]]\n",
      "Time to: Calculate Ground State - 0.96s, Get Pauli Ops - 8.22s, Calculate Pauli Expectation Values - 17.2s, Calculate Covariance - 1.67s\n",
      "[[-1.74835626e-17 -1.00941395e-17  1.74835626e-17 -1.00941395e-17\n",
      "   1.15492079e-29  2.01882791e-17]\n",
      " [-1.00941395e-17 -5.82785419e-18  1.00941395e-17 -5.82785418e-18\n",
      "   6.66793826e-30  1.16557084e-17]\n",
      " [ 1.74835626e-17  1.00941395e-17 -1.74835625e-17  1.00941395e-17\n",
      "  -1.15492079e-29 -2.01882791e-17]\n",
      " [-1.00941395e-17 -5.82785418e-18  1.00941395e-17 -5.82785418e-18\n",
      "   6.66793826e-30  1.16557084e-17]\n",
      " [ 1.15492079e-29  6.66793826e-30 -1.15492079e-29  6.66793826e-30\n",
      "  -7.62912030e-42 -1.33358765e-29]\n",
      " [ 2.01882791e-17  1.16557084e-17 -2.01882791e-17  1.16557084e-17\n",
      "  -1.33358765e-29 -2.33114167e-17]]\n",
      "f0,f1,f2 = [1.2506340020754134e-09, 1.2506340020892058e-09, 1.2506340020826157e-09]\n",
      "d01,d02,d12 = [0.9561064249379285, 0.9561064249385288, 0.9561064249375831]\n",
      "[0.00051938 0.         0.00051938 0.         0.00051938 0.        ]\n"
     ]
    },
    {
     "name": "stderr",
     "output_type": "stream",
     "text": [
      "Progress:  45%|████▌     | 45/100 [19:58<24:29, 26.71s/it]"
     ]
    },
    {
     "name": "stdout",
     "output_type": "stream",
     "text": [
      "[[4.67840859e-05 0.00000000e+00 4.67840859e-05 0.00000000e+00\n",
      "  4.67840859e-05 0.00000000e+00]\n",
      " [0.00000000e+00 0.00000000e+00 0.00000000e+00 0.00000000e+00\n",
      "  0.00000000e+00 0.00000000e+00]\n",
      " [4.67840859e-05 0.00000000e+00 4.67840859e-05 0.00000000e+00\n",
      "  4.67840859e-05 0.00000000e+00]\n",
      " [0.00000000e+00 0.00000000e+00 0.00000000e+00 0.00000000e+00\n",
      "  0.00000000e+00 0.00000000e+00]\n",
      " [4.67840859e-05 0.00000000e+00 4.67840859e-05 0.00000000e+00\n",
      "  4.67840859e-05 0.00000000e+00]\n",
      " [0.00000000e+00 0.00000000e+00 0.00000000e+00 0.00000000e+00\n",
      "  0.00000000e+00 0.00000000e+00]]\n",
      "Time to: Calculate Ground State - 1.04s, Get Pauli Ops - 4.43s, Calculate Pauli Expectation Values - 17.02s, Calculate Covariance - 2.32s\n",
      "[[ 1.66752517e-16  9.62746107e-17 -1.66752517e-16  9.62746107e-17\n",
      "  -1.09942870e-28 -1.92549221e-16]\n",
      " [ 9.62746107e-17  5.55841724e-17 -9.62746107e-17  5.55841724e-17\n",
      "  -6.34755456e-29 -1.11168345e-16]\n",
      " [-1.66752517e-16 -9.62746107e-17  1.66752517e-16 -9.62746107e-17\n",
      "   1.09942870e-28  1.92549221e-16]\n",
      " [ 9.62746107e-17  5.55841724e-17 -9.62746107e-17  5.55841724e-17\n",
      "  -6.34755456e-29 -1.11168345e-16]\n",
      " [-1.09942870e-28 -6.34755456e-29  1.09942870e-28 -6.34755456e-29\n",
      "   7.24872696e-41  1.26951091e-28]\n",
      " [-1.92549221e-16 -1.11168345e-16  1.92549221e-16 -1.11168345e-16\n",
      "   1.26951091e-28  2.22336690e-16]]\n",
      "f0,f1,f2 = [1.1322509006072647e-09, 1.132250900629875e-09, 1.1322509006188144e-09]\n",
      "d01,d02,d12 = [0.9546327532691621, 0.9546327532697471, 0.9546327532688118]\n",
      "[0.00034472 0.         0.00034472 0.         0.00034472 0.        ]\n"
     ]
    },
    {
     "name": "stderr",
     "output_type": "stream",
     "text": [
      "Progress:  46%|████▌     | 46/100 [20:25<23:59, 26.66s/it]"
     ]
    },
    {
     "name": "stdout",
     "output_type": "stream",
     "text": [
      "[[2.08251644e-05 0.00000000e+00 2.08251644e-05 0.00000000e+00\n",
      "  2.08251644e-05 0.00000000e+00]\n",
      " [0.00000000e+00 0.00000000e+00 0.00000000e+00 0.00000000e+00\n",
      "  0.00000000e+00 0.00000000e+00]\n",
      " [2.08251644e-05 0.00000000e+00 2.08251644e-05 0.00000000e+00\n",
      "  2.08251644e-05 0.00000000e+00]\n",
      " [0.00000000e+00 0.00000000e+00 0.00000000e+00 0.00000000e+00\n",
      "  0.00000000e+00 0.00000000e+00]\n",
      " [2.08251644e-05 0.00000000e+00 2.08251644e-05 0.00000000e+00\n",
      "  2.08251644e-05 0.00000000e+00]\n",
      " [0.00000000e+00 0.00000000e+00 0.00000000e+00 0.00000000e+00\n",
      "  0.00000000e+00 0.00000000e+00]]\n",
      "Time to: Calculate Ground State - 0.81s, Get Pauli Ops - 4.8s, Calculate Pauli Expectation Values - 18.77s, Calculate Covariance - 2.14s\n",
      "[[ 7.42271334e-17  4.28550555e-17 -7.42271334e-17  4.28550555e-17\n",
      "  -4.84709129e-29 -8.57101109e-17]\n",
      " [ 4.28550555e-17  2.47423778e-17 -4.28550555e-17  2.47423778e-17\n",
      "  -2.79846946e-29 -4.94847556e-17]\n",
      " [-7.42271334e-17 -4.28550555e-17  7.42271334e-17 -4.28550555e-17\n",
      "   4.84709129e-29  8.57101109e-17]\n",
      " [ 4.28550555e-17  2.47423778e-17 -4.28550555e-17  2.47423778e-17\n",
      "  -2.79846946e-29 -4.94847556e-17]\n",
      " [-4.84709129e-29 -2.79846946e-29  4.84709129e-29 -2.79846946e-29\n",
      "   3.16518945e-41  5.59693892e-29]\n",
      " [-8.57101109e-17 -4.94847556e-17  8.57101109e-17 -4.94847556e-17\n",
      "   5.59693892e-29  9.89695112e-17]]\n",
      "f0,f1,f2 = [7.514953737022544e-10, 7.514953737165588e-10, 7.514953737082076e-10]\n",
      "d01,d02,d12 = [0.9536515804072296, 0.9536515804077984, 0.9536515804068749]\n",
      "[0.0006911 0.        0.0006911 0.        0.0006911 0.       ]\n"
     ]
    },
    {
     "name": "stderr",
     "output_type": "stream",
     "text": [
      "Progress:  47%|████▋     | 47/100 [20:49<23:04, 26.12s/it]"
     ]
    },
    {
     "name": "stdout",
     "output_type": "stream",
     "text": [
      "[[2.606727e-05 0.000000e+00 2.606727e-05 0.000000e+00 2.606727e-05\n",
      "  0.000000e+00]\n",
      " [0.000000e+00 0.000000e+00 0.000000e+00 0.000000e+00 0.000000e+00\n",
      "  0.000000e+00]\n",
      " [2.606727e-05 0.000000e+00 2.606727e-05 0.000000e+00 2.606727e-05\n",
      "  0.000000e+00]\n",
      " [0.000000e+00 0.000000e+00 0.000000e+00 0.000000e+00 0.000000e+00\n",
      "  0.000000e+00]\n",
      " [2.606727e-05 0.000000e+00 2.606727e-05 0.000000e+00 2.606727e-05\n",
      "  0.000000e+00]\n",
      " [0.000000e+00 0.000000e+00 0.000000e+00 0.000000e+00 0.000000e+00\n",
      "  0.000000e+00]]\n",
      "Time to: Calculate Ground State - 0.84s, Get Pauli Ops - 4.65s, Calculate Pauli Expectation Values - 17.28s, Calculate Covariance - 2.06s\n",
      "[[ 9.29115706e-17  5.36425203e-17 -9.29115706e-17  5.36425203e-17\n",
      "  -5.99836744e-29 -1.07285041e-16]\n",
      " [ 5.36425203e-17  3.09705235e-17 -5.36425203e-17  3.09705235e-17\n",
      "  -3.46315906e-29 -6.19410470e-17]\n",
      " [-9.29115706e-17 -5.36425203e-17  9.29115706e-17 -5.36425203e-17\n",
      "   5.99836744e-29  1.07285041e-16]\n",
      " [ 5.36425203e-17  3.09705235e-17 -5.36425203e-17  3.09705235e-17\n",
      "  -3.46315906e-29 -6.19410470e-17]\n",
      " [-5.99836744e-29 -3.46315906e-29  5.99836744e-29 -3.46315906e-29\n",
      "   3.87254372e-41  6.92631811e-29]\n",
      " [-1.07285041e-16 -6.19410470e-17  1.07285041e-16 -6.19410470e-17\n",
      "   6.92631811e-29  1.23882094e-16]]\n",
      "f0,f1,f2 = [1.50659488380095e-09, 1.5065948838089865e-09, 1.5065948838003894e-09]\n",
      "d01,d02,d12 = [0.9534460583662472, 0.9534460583667973, 0.953446058365887]\n",
      "[0.00104317 0.         0.00104317 0.         0.00104317 0.        ]\n"
     ]
    },
    {
     "name": "stderr",
     "output_type": "stream",
     "text": [
      "Progress:  48%|████▊     | 48/100 [21:15<22:23, 25.83s/it]"
     ]
    },
    {
     "name": "stdout",
     "output_type": "stream",
     "text": [
      "[[1.58195279e-05 0.00000000e+00 1.58195279e-05 0.00000000e+00\n",
      "  1.58195279e-05 0.00000000e+00]\n",
      " [0.00000000e+00 0.00000000e+00 0.00000000e+00 0.00000000e+00\n",
      "  0.00000000e+00 0.00000000e+00]\n",
      " [1.58195279e-05 0.00000000e+00 1.58195279e-05 0.00000000e+00\n",
      "  1.58195279e-05 0.00000000e+00]\n",
      " [0.00000000e+00 0.00000000e+00 0.00000000e+00 0.00000000e+00\n",
      "  0.00000000e+00 0.00000000e+00]\n",
      " [1.58195279e-05 0.00000000e+00 1.58195279e-05 0.00000000e+00\n",
      "  1.58195279e-05 0.00000000e+00]\n",
      " [0.00000000e+00 0.00000000e+00 0.00000000e+00 0.00000000e+00\n",
      "  0.00000000e+00 0.00000000e+00]]\n",
      "Time to: Calculate Ground State - 1.17s, Get Pauli Ops - 4.57s, Calculate Pauli Expectation Values - 17.27s, Calculate Covariance - 2.15s\n",
      "[[ 5.63855435e-17  3.25542087e-17 -5.63855435e-17  3.25542087e-17\n",
      "  -3.58890133e-29 -6.51084174e-17]\n",
      " [ 3.25542087e-17  1.87951812e-17 -3.25542087e-17  1.87951812e-17\n",
      "  -2.07205315e-29 -3.75903623e-17]\n",
      " [-5.63855435e-17 -3.25542087e-17  5.63855435e-17 -3.25542087e-17\n",
      "   3.58890133e-29  6.51084174e-17]\n",
      " [ 3.25542087e-17  1.87951812e-17 -3.25542087e-17  1.87951812e-17\n",
      "  -2.07205315e-29 -3.75903623e-17]\n",
      " [-3.58890133e-29 -2.07205315e-29  3.58890133e-29 -2.07205315e-29\n",
      "   2.28431118e-41  4.14410629e-29]\n",
      " [-6.51084174e-17 -3.75903623e-17  6.51084174e-17 -3.75903623e-17\n",
      "   4.14410629e-29  7.51807246e-17]]\n",
      "f0,f1,f2 = [2.2741056402563546e-09, 2.2741056402690634e-09, 2.2741056402621477e-09]\n",
      "d01,d02,d12 = [0.9542031242320319, 0.9542031242325623, 0.9542031242316671]\n",
      "[0.00048002 0.         0.00048002 0.         0.00048002 0.        ]\n"
     ]
    },
    {
     "name": "stderr",
     "output_type": "stream",
     "text": [
      "Progress:  49%|████▉     | 49/100 [21:41<22:00, 25.89s/it]"
     ]
    },
    {
     "name": "stdout",
     "output_type": "stream",
     "text": [
      "[[6.01058971e-07 0.00000000e+00 6.01058972e-07 0.00000000e+00\n",
      "  6.01058972e-07 0.00000000e+00]\n",
      " [0.00000000e+00 0.00000000e+00 0.00000000e+00 0.00000000e+00\n",
      "  0.00000000e+00 0.00000000e+00]\n",
      " [6.01058972e-07 0.00000000e+00 6.01058972e-07 0.00000000e+00\n",
      "  6.01058971e-07 0.00000000e+00]\n",
      " [0.00000000e+00 0.00000000e+00 0.00000000e+00 0.00000000e+00\n",
      "  0.00000000e+00 0.00000000e+00]\n",
      " [6.01058972e-07 0.00000000e+00 6.01058971e-07 0.00000000e+00\n",
      "  6.01058972e-07 0.00000000e+00]\n",
      " [0.00000000e+00 0.00000000e+00 0.00000000e+00 0.00000000e+00\n",
      "  0.00000000e+00 0.00000000e+00]]\n",
      "Time to: Calculate Ground State - 0.82s, Get Pauli Ops - 5.05s, Calculate Pauli Expectation Values - 17.7s, Calculate Covariance - 2.45s\n",
      "[[ 2.14235449e-18  1.23688894e-18 -2.14235449e-18  1.23688894e-18\n",
      "  -1.33989854e-30 -2.47377789e-18]\n",
      " [ 1.23688894e-18  7.14118164e-19 -1.23688894e-18  7.14118164e-19\n",
      "  -7.73590785e-31 -1.42823633e-18]\n",
      " [-2.14235449e-18 -1.23688894e-18  2.14235450e-18 -1.23688894e-18\n",
      "   1.33989854e-30  2.47377789e-18]\n",
      " [ 1.23688894e-18  7.14118164e-19 -1.23688894e-18  7.14118165e-19\n",
      "  -7.73590784e-31 -1.42823633e-18]\n",
      " [-1.33989854e-30 -7.73590785e-31  1.33989854e-30 -7.73590784e-31\n",
      "   8.38016356e-43  1.54718157e-30]\n",
      " [-2.47377789e-18 -1.42823633e-18  2.47377789e-18 -1.42823633e-18\n",
      "   1.54718157e-30  2.85647266e-18]]\n",
      "f0,f1,f2 = [1.0464469857523617e-09, 1.0464469857679846e-09, 1.0464469857534573e-09]\n",
      "d01,d02,d12 = [0.9553916419195845, 0.9553916419200925, 0.9553916419192153]\n"
     ]
    },
    {
     "name": "stderr",
     "output_type": "stream",
     "text": [
      "/cluster/home/mskrabulis/miniconda3/envs/quantech/lib/python3.9/site-packages/pyscf/symm/Dmatrix.py:156: RuntimeWarning: invalid value encountered in arccos\n",
      "  gamma = numpy.arccos(yp.dot(c2[1]))\n"
     ]
    },
    {
     "name": "stdout",
     "output_type": "stream",
     "text": [
      "[0.00054554 0.         0.00054554 0.         0.00054554 0.        ]\n"
     ]
    },
    {
     "name": "stderr",
     "output_type": "stream",
     "text": [
      "Progress:  50%|█████     | 50/100 [22:06<21:19, 25.59s/it]"
     ]
    },
    {
     "name": "stdout",
     "output_type": "stream",
     "text": [
      "[[1.03308929e-05 0.00000000e+00 1.03308929e-05 0.00000000e+00\n",
      "  1.03308929e-05 0.00000000e+00]\n",
      " [0.00000000e+00 0.00000000e+00 0.00000000e+00 0.00000000e+00\n",
      "  0.00000000e+00 0.00000000e+00]\n",
      " [1.03308929e-05 0.00000000e+00 1.03308929e-05 0.00000000e+00\n",
      "  1.03308929e-05 0.00000000e+00]\n",
      " [0.00000000e+00 0.00000000e+00 0.00000000e+00 0.00000000e+00\n",
      "  0.00000000e+00 0.00000000e+00]\n",
      " [1.03308929e-05 0.00000000e+00 1.03308929e-05 0.00000000e+00\n",
      "  1.03308929e-05 0.00000000e+00]\n",
      " [0.00000000e+00 0.00000000e+00 0.00000000e+00 0.00000000e+00\n",
      "  0.00000000e+00 0.00000000e+00]]\n",
      "Time to: Calculate Ground State - 1.3s, Get Pauli Ops - 4.75s, Calculate Pauli Expectation Values - 17.02s, Calculate Covariance - 1.8s\n",
      "[[ 3.68224015e-17  2.12594234e-17 -3.68224015e-17  2.12594234e-17\n",
      "  -2.25358697e-29 -4.25188468e-17]\n",
      " [ 2.12594234e-17  1.22741338e-17 -2.12594234e-17  1.22741338e-17\n",
      "  -1.30110905e-29 -2.45482676e-17]\n",
      " [-3.68224015e-17 -2.12594234e-17  3.68224015e-17 -2.12594234e-17\n",
      "   2.25358697e-29  4.25188468e-17]\n",
      " [ 2.12594234e-17  1.22741338e-17 -2.12594234e-17  1.22741338e-17\n",
      "  -1.30110905e-29 -2.45482676e-17]\n",
      " [-2.25358697e-29 -1.30110905e-29  2.25358697e-29 -1.30110905e-29\n",
      "   1.37922950e-41  2.60221809e-29]\n",
      " [-4.25188468e-17 -2.45482676e-17  4.25188468e-17 -2.45482676e-17\n",
      "   2.60221809e-29  4.90965353e-17]]\n",
      "f0,f1,f2 = [1.1892844703802703e-09, 1.1892844704002765e-09, 1.1892844703984675e-09]\n",
      "d01,d02,d12 = [0.9570012407603421, 0.9570012407608276, 0.957001240759972]\n"
     ]
    },
    {
     "name": "stderr",
     "output_type": "stream",
     "text": [
      "/cluster/home/mskrabulis/miniconda3/envs/quantech/lib/python3.9/site-packages/pyscf/symm/Dmatrix.py:156: RuntimeWarning: invalid value encountered in arccos\n",
      "  gamma = numpy.arccos(yp.dot(c2[1]))\n"
     ]
    },
    {
     "name": "stdout",
     "output_type": "stream",
     "text": [
      "[0.00058418 0.         0.00058418 0.         0.00058418 0.        ]\n"
     ]
    },
    {
     "name": "stderr",
     "output_type": "stream",
     "text": [
      "Progress:  51%|█████     | 51/100 [22:31<20:50, 25.51s/it]"
     ]
    },
    {
     "name": "stdout",
     "output_type": "stream",
     "text": [
      "[[-3.10148093e-06  0.00000000e+00 -3.10148093e-06  0.00000000e+00\n",
      "  -3.10148093e-06  0.00000000e+00]\n",
      " [ 0.00000000e+00  0.00000000e+00  0.00000000e+00  0.00000000e+00\n",
      "   0.00000000e+00  0.00000000e+00]\n",
      " [-3.10148093e-06  0.00000000e+00 -3.10148093e-06  0.00000000e+00\n",
      "  -3.10148093e-06  0.00000000e+00]\n",
      " [ 0.00000000e+00  0.00000000e+00  0.00000000e+00  0.00000000e+00\n",
      "   0.00000000e+00  0.00000000e+00]\n",
      " [-3.10148093e-06  0.00000000e+00 -3.10148093e-06  0.00000000e+00\n",
      "  -3.10148093e-06  0.00000000e+00]\n",
      " [ 0.00000000e+00  0.00000000e+00  0.00000000e+00  0.00000000e+00\n",
      "   0.00000000e+00  0.00000000e+00]]\n",
      "Time to: Calculate Ground State - 0.81s, Get Pauli Ops - 4.56s, Calculate Pauli Expectation Values - 17.5s, Calculate Covariance - 2.45s\n",
      "[[-1.10546085e-17 -6.38238117e-18  1.10546085e-17 -6.38238117e-18\n",
      "   6.58849092e-30  1.27647623e-17]\n",
      " [-6.38238117e-18 -3.68486949e-18  6.38238117e-18 -3.68486949e-18\n",
      "   3.80386701e-30  7.36973897e-18]\n",
      " [ 1.10546085e-17  6.38238117e-18 -1.10546085e-17  6.38238117e-18\n",
      "  -6.58849092e-30 -1.27647623e-17]\n",
      " [-6.38238117e-18 -3.68486949e-18  6.38238117e-18 -3.68486949e-18\n",
      "   3.80386701e-30  7.36973898e-18]\n",
      " [ 6.58849092e-30  3.80386701e-30 -6.58849092e-30  3.80386701e-30\n",
      "  -3.92670738e-42 -7.60773401e-30]\n",
      " [ 1.27647623e-17  7.36973897e-18 -1.27647623e-17  7.36973898e-18\n",
      "  -7.60773401e-30 -1.47394780e-17]]\n",
      "f0,f1,f2 = [1.2735203596953923e-09, 1.27352035970807e-09, 1.273520359698263e-09]\n",
      "d01,d02,d12 = [0.9591685743395066, 0.9591685743399685, 0.9591685743391359]\n",
      "[0.00046895 0.         0.00046895 0.         0.00046895 0.        ]\n"
     ]
    },
    {
     "name": "stderr",
     "output_type": "stream",
     "text": [
      "Progress:  52%|█████▏    | 52/100 [22:57<20:29, 25.61s/it]"
     ]
    },
    {
     "name": "stdout",
     "output_type": "stream",
     "text": [
      "[[9.31971876e-06 0.00000000e+00 9.31971876e-06 0.00000000e+00\n",
      "  9.31971876e-06 0.00000000e+00]\n",
      " [0.00000000e+00 0.00000000e+00 0.00000000e+00 0.00000000e+00\n",
      "  0.00000000e+00 0.00000000e+00]\n",
      " [9.31971876e-06 0.00000000e+00 9.31971876e-06 0.00000000e+00\n",
      "  9.31971876e-06 0.00000000e+00]\n",
      " [0.00000000e+00 0.00000000e+00 0.00000000e+00 0.00000000e+00\n",
      "  0.00000000e+00 0.00000000e+00]\n",
      " [9.31971876e-06 0.00000000e+00 9.31971876e-06 0.00000000e+00\n",
      "  9.31971876e-06 0.00000000e+00]\n",
      " [0.00000000e+00 0.00000000e+00 0.00000000e+00 0.00000000e+00\n",
      "  0.00000000e+00 0.00000000e+00]]\n",
      "Time to: Calculate Ground State - 1.05s, Get Pauli Ops - 4.66s, Calculate Pauli Expectation Values - 17.69s, Calculate Covariance - 2.44s\n",
      "[[ 3.32182736e-17  1.91785792e-17 -3.32182736e-17  1.91785792e-17\n",
      "  -1.92230038e-29 -3.83571584e-17]\n",
      " [ 1.91785792e-17  1.10727579e-17 -1.91785792e-17  1.10727579e-17\n",
      "  -1.10984064e-29 -2.21455157e-17]\n",
      " [-3.32182736e-17 -1.91785792e-17  3.32182736e-17 -1.91785792e-17\n",
      "   1.92230038e-29  3.83571584e-17]\n",
      " [ 1.91785792e-17  1.10727579e-17 -1.91785792e-17  1.10727579e-17\n",
      "  -1.10984064e-29 -2.21455157e-17]\n",
      " [-1.92230038e-29 -1.10984064e-29  1.92230038e-29 -1.10984064e-29\n",
      "   1.11241143e-41  2.21968128e-29]\n",
      " [-3.83571584e-17 -2.21455157e-17  3.83571584e-17 -2.21455157e-17\n",
      "   2.21968128e-29  4.42910314e-17]]\n",
      "f0,f1,f2 = [1.0223131410549482e-09, 1.022313141069655e-09, 1.0223131410561584e-09]\n",
      "d01,d02,d12 = [0.9616410748087623, 0.9616410748091997, 0.9616410748083911]\n",
      "[0.00050385 0.         0.00050385 0.         0.00050385 0.        ]\n"
     ]
    },
    {
     "name": "stderr",
     "output_type": "stream",
     "text": [
      "Progress:  53%|█████▎    | 53/100 [23:22<19:58, 25.50s/it]"
     ]
    },
    {
     "name": "stdout",
     "output_type": "stream",
     "text": [
      "[[3.3532639e-06 0.0000000e+00 3.3532639e-06 0.0000000e+00 3.3532639e-06\n",
      "  0.0000000e+00]\n",
      " [0.0000000e+00 0.0000000e+00 0.0000000e+00 0.0000000e+00 0.0000000e+00\n",
      "  0.0000000e+00]\n",
      " [3.3532639e-06 0.0000000e+00 3.3532639e-06 0.0000000e+00 3.3532639e-06\n",
      "  0.0000000e+00]\n",
      " [0.0000000e+00 0.0000000e+00 0.0000000e+00 0.0000000e+00 0.0000000e+00\n",
      "  0.0000000e+00]\n",
      " [3.3532639e-06 0.0000000e+00 3.3532639e-06 0.0000000e+00 3.3532639e-06\n",
      "  0.0000000e+00]\n",
      " [0.0000000e+00 0.0000000e+00 0.0000000e+00 0.0000000e+00 0.0000000e+00\n",
      "  0.0000000e+00]]\n",
      "Time to: Calculate Ground State - 1.09s, Get Pauli Ops - 4.96s, Calculate Pauli Expectation Values - 16.95s, Calculate Covariance - 2.21s\n",
      "[[ 1.19520385e-17  6.90051266e-18 -1.19520385e-17  6.90051266e-18\n",
      "  -6.70070609e-30 -1.38010253e-17]\n",
      " [ 6.90051266e-18  3.98401284e-18 -6.90051266e-18  3.98401284e-18\n",
      "  -3.86865447e-30 -7.96802568e-18]\n",
      " [-1.19520385e-17 -6.90051266e-18  1.19520385e-17 -6.90051266e-18\n",
      "   6.70070609e-30  1.38010253e-17]\n",
      " [ 6.90051266e-18  3.98401284e-18 -6.90051266e-18  3.98401284e-18\n",
      "  -3.86865447e-30 -7.96802568e-18]\n",
      " [-6.70070609e-30 -3.86865447e-30  6.70070609e-30 -3.86865447e-30\n",
      "   3.75663633e-42  7.73730893e-30]\n",
      " [-1.38010253e-17 -7.96802568e-18  1.38010253e-17 -7.96802568e-18\n",
      "   7.73730893e-30  1.59360514e-17]]\n",
      "f0,f1,f2 = [1.0983911588274245e-09, 1.0983911588515068e-09, 1.0983911588377244e-09]\n",
      "d01,d02,d12 = [0.9645204307883505, 0.9645204307887604, 0.96452043078798]\n"
     ]
    },
    {
     "name": "stderr",
     "output_type": "stream",
     "text": [
      "/cluster/home/mskrabulis/miniconda3/envs/quantech/lib/python3.9/site-packages/pyscf/symm/Dmatrix.py:156: RuntimeWarning: invalid value encountered in arccos\n",
      "  gamma = numpy.arccos(yp.dot(c2[1]))\n"
     ]
    },
    {
     "name": "stdout",
     "output_type": "stream",
     "text": [
      "[0.00055977 0.         0.00055977 0.         0.00055977 0.        ]\n"
     ]
    },
    {
     "name": "stderr",
     "output_type": "stream",
     "text": [
      "Progress:  54%|█████▍    | 54/100 [23:47<19:20, 25.22s/it]"
     ]
    },
    {
     "name": "stdout",
     "output_type": "stream",
     "text": [
      "[[1.51269149e-05 0.00000000e+00 1.51269149e-05 0.00000000e+00\n",
      "  1.51269149e-05 0.00000000e+00]\n",
      " [0.00000000e+00 0.00000000e+00 0.00000000e+00 0.00000000e+00\n",
      "  0.00000000e+00 0.00000000e+00]\n",
      " [1.51269149e-05 0.00000000e+00 1.51269149e-05 0.00000000e+00\n",
      "  1.51269149e-05 0.00000000e+00]\n",
      " [0.00000000e+00 0.00000000e+00 0.00000000e+00 0.00000000e+00\n",
      "  0.00000000e+00 0.00000000e+00]\n",
      " [1.51269149e-05 0.00000000e+00 1.51269149e-05 0.00000000e+00\n",
      "  1.51269149e-05 0.00000000e+00]\n",
      " [0.00000000e+00 0.00000000e+00 0.00000000e+00 0.00000000e+00\n",
      "  0.00000000e+00 0.00000000e+00]]\n",
      "Time to: Calculate Ground State - 1.07s, Get Pauli Ops - 4.17s, Calculate Pauli Expectation Values - 17.5s, Calculate Covariance - 1.82s\n",
      "[[ 5.39168628e-17  3.11289153e-17 -5.39168628e-17  3.11289153e-17\n",
      "  -2.90835611e-29 -6.22578305e-17]\n",
      " [ 3.11289153e-17  1.79722876e-17 -3.11289153e-17  1.79722876e-17\n",
      "  -1.67914018e-29 -3.59445752e-17]\n",
      " [-5.39168628e-17 -3.11289153e-17  5.39168628e-17 -3.11289153e-17\n",
      "   2.90835611e-29  6.22578305e-17]\n",
      " [ 3.11289153e-17  1.79722876e-17 -3.11289153e-17  1.79722876e-17\n",
      "  -1.67914018e-29 -3.59445752e-17]\n",
      " [-2.90835611e-29 -1.67914018e-29  2.90835611e-29 -1.67914018e-29\n",
      "   1.56881073e-41  3.35828037e-29]\n",
      " [-6.22578305e-17 -3.59445752e-17  6.22578305e-17 -3.59445752e-17\n",
      "   3.35828037e-29  7.18891504e-17]]\n",
      "f0,f1,f2 = [1.2203060931391805e-09, 1.2203060931540383e-09, 1.2203060931448822e-09]\n",
      "d01,d02,d12 = [0.9676495440589674, 0.9676495440593477, 0.9676495440586007]\n",
      "[0.00047863 0.         0.00047863 0.         0.00047863 0.        ]\n"
     ]
    },
    {
     "name": "stderr",
     "output_type": "stream",
     "text": [
      "Progress:  55%|█████▌    | 55/100 [24:11<18:47, 25.05s/it]"
     ]
    },
    {
     "name": "stdout",
     "output_type": "stream",
     "text": [
      "[[2.75220661e-05 0.00000000e+00 2.75220661e-05 0.00000000e+00\n",
      "  2.75220661e-05 0.00000000e+00]\n",
      " [0.00000000e+00 0.00000000e+00 0.00000000e+00 0.00000000e+00\n",
      "  0.00000000e+00 0.00000000e+00]\n",
      " [2.75220661e-05 0.00000000e+00 2.75220661e-05 0.00000000e+00\n",
      "  2.75220661e-05 0.00000000e+00]\n",
      " [0.00000000e+00 0.00000000e+00 0.00000000e+00 0.00000000e+00\n",
      "  0.00000000e+00 0.00000000e+00]\n",
      " [2.75220661e-05 0.00000000e+00 2.75220661e-05 0.00000000e+00\n",
      "  2.75220661e-05 0.00000000e+00]\n",
      " [0.00000000e+00 0.00000000e+00 0.00000000e+00 0.00000000e+00\n",
      "  0.00000000e+00 0.00000000e+00]]\n",
      "Time to: Calculate Ground State - 0.91s, Get Pauli Ops - 4.28s, Calculate Pauli Expectation Values - 17.14s, Calculate Covariance - 2.31s\n",
      "[[ 9.80969002e-17  5.66362718e-17 -9.80969002e-17  5.66362718e-17\n",
      "  -5.04892295e-29 -1.13272544e-16]\n",
      " [ 5.66362718e-17  3.26989667e-17 -5.66362718e-17  3.26989667e-17\n",
      "  -2.91499703e-29 -6.53979335e-17]\n",
      " [-9.80969002e-17 -5.66362718e-17  9.80969002e-17 -5.66362718e-17\n",
      "   5.04892295e-29  1.13272544e-16]\n",
      " [ 5.66362718e-17  3.26989667e-17 -5.66362718e-17  3.26989667e-17\n",
      "  -2.91499703e-29 -6.53979335e-17]\n",
      " [-5.04892295e-29 -2.91499703e-29  5.04892295e-29 -2.91499703e-29\n",
      "   2.59861656e-41  5.82999405e-29]\n",
      " [-1.13272544e-16 -6.53979335e-17  1.13272544e-16 -6.53979335e-17\n",
      "   5.82999405e-29  1.30795867e-16]]\n",
      "f0,f1,f2 = [1.0434172601308373e-09, 1.0434172601537624e-09, 1.0434172601449087e-09]\n",
      "d01,d02,d12 = [0.9707043694216801, 0.9707043694220274, 0.9707043694213231]\n",
      "[0.00023469 0.         0.00023469 0.         0.00023469 0.        ]\n"
     ]
    },
    {
     "name": "stderr",
     "output_type": "stream",
     "text": [
      "Progress:  56%|█████▌    | 56/100 [24:39<19:01, 25.94s/it]"
     ]
    },
    {
     "name": "stdout",
     "output_type": "stream",
     "text": [
      "[[-1.22797937e-05  0.00000000e+00 -1.22797937e-05  0.00000000e+00\n",
      "  -1.22797937e-05  0.00000000e+00]\n",
      " [ 0.00000000e+00  0.00000000e+00  0.00000000e+00  0.00000000e+00\n",
      "   0.00000000e+00  0.00000000e+00]\n",
      " [-1.22797937e-05  0.00000000e+00 -1.22797937e-05  0.00000000e+00\n",
      "  -1.22797937e-05  0.00000000e+00]\n",
      " [ 0.00000000e+00  0.00000000e+00  0.00000000e+00  0.00000000e+00\n",
      "   0.00000000e+00  0.00000000e+00]\n",
      " [-1.22797937e-05  0.00000000e+00 -1.22797937e-05  0.00000000e+00\n",
      "  -1.22797937e-05  0.00000000e+00]\n",
      " [ 0.00000000e+00  0.00000000e+00  0.00000000e+00  0.00000000e+00\n",
      "   0.00000000e+00  0.00000000e+00]]\n",
      "Time to: Calculate Ground State - 1.08s, Get Pauli Ops - 7.53s, Calculate Pauli Expectation Values - 17.11s, Calculate Covariance - 2.28s\n",
      "[[-4.37688688e-17 -2.52699682e-17  4.37688688e-17 -2.52699682e-17\n",
      "   2.11721160e-29  5.05399364e-17]\n",
      " [-2.52699682e-17 -1.45896229e-17  2.52699682e-17 -1.45896229e-17\n",
      "   1.22237269e-29  2.91792459e-17]\n",
      " [ 4.37688688e-17  2.52699682e-17 -4.37688688e-17  2.52699682e-17\n",
      "  -2.11721160e-29 -5.05399364e-17]\n",
      " [-2.52699682e-17 -1.45896229e-17  2.52699682e-17 -1.45896229e-17\n",
      "   1.22237269e-29  2.91792459e-17]\n",
      " [ 2.11721160e-29  1.22237269e-29 -2.11721160e-29  1.22237269e-29\n",
      "  -1.02414914e-41 -2.44474537e-29]\n",
      " [ 5.05399364e-17  2.91792459e-17 -5.05399364e-17  2.91792459e-17\n",
      "  -2.44474537e-29 -5.83584918e-17]]\n",
      "f0,f1,f2 = [5.116149181245894e-10, 5.116149181275279e-10, 5.116149181315406e-10]\n",
      "d01,d02,d12 = [0.9741923581520535, 0.9741923581523657, 0.974192358151705]\n"
     ]
    },
    {
     "name": "stderr",
     "output_type": "stream",
     "text": [
      "/cluster/home/mskrabulis/miniconda3/envs/quantech/lib/python3.9/site-packages/pyscf/symm/Dmatrix.py:156: RuntimeWarning: invalid value encountered in arccos\n",
      "  gamma = numpy.arccos(yp.dot(c2[1]))\n"
     ]
    },
    {
     "name": "stdout",
     "output_type": "stream",
     "text": [
      "[0.00033966 0.         0.00033966 0.         0.00033966 0.        ]\n"
     ]
    },
    {
     "name": "stderr",
     "output_type": "stream",
     "text": [
      "Progress:  57%|█████▋    | 57/100 [25:04<18:21, 25.61s/it]"
     ]
    },
    {
     "name": "stdout",
     "output_type": "stream",
     "text": [
      "[[2.02711159e-05 0.00000000e+00 2.02711159e-05 0.00000000e+00\n",
      "  2.02711159e-05 0.00000000e+00]\n",
      " [0.00000000e+00 0.00000000e+00 0.00000000e+00 0.00000000e+00\n",
      "  0.00000000e+00 0.00000000e+00]\n",
      " [2.02711159e-05 0.00000000e+00 2.02711159e-05 0.00000000e+00\n",
      "  2.02711159e-05 0.00000000e+00]\n",
      " [0.00000000e+00 0.00000000e+00 0.00000000e+00 0.00000000e+00\n",
      "  0.00000000e+00 0.00000000e+00]\n",
      " [2.02711159e-05 0.00000000e+00 2.02711159e-05 0.00000000e+00\n",
      "  2.02711159e-05 0.00000000e+00]\n",
      " [0.00000000e+00 0.00000000e+00 0.00000000e+00 0.00000000e+00\n",
      "  0.00000000e+00 0.00000000e+00]]\n",
      "Time to: Calculate Ground State - 1.26s, Get Pauli Ops - 4.55s, Calculate Pauli Expectation Values - 17.11s, Calculate Covariance - 1.89s\n",
      "[[ 7.22523384e-17  4.17149070e-17 -7.22523384e-17  4.17149070e-17\n",
      "  -3.26736686e-29 -8.34298141e-17]\n",
      " [ 4.17149070e-17  2.40841128e-17 -4.17149070e-17  2.40841128e-17\n",
      "  -1.88641513e-29 -4.81682256e-17]\n",
      " [-7.22523384e-17 -4.17149070e-17  7.22523384e-17 -4.17149070e-17\n",
      "   3.26736686e-29  8.34298141e-17]\n",
      " [ 4.17149070e-17  2.40841128e-17 -4.17149070e-17  2.40841128e-17\n",
      "  -1.88641513e-29 -4.81682256e-17]\n",
      " [-3.26736686e-29 -1.88641513e-29  3.26736686e-29 -1.88641513e-29\n",
      "   1.47755580e-41  3.77283027e-29]\n",
      " [-8.34298141e-17 -4.81682256e-17  8.34298141e-17 -4.81682256e-17\n",
      "   3.77283027e-29  9.63364512e-17]]\n",
      "f0,f1,f2 = [7.404575358674638e-10, 7.404575358772136e-10, 7.404575358633457e-10]\n",
      "d01,d02,d12 = [0.9775711474995967, 0.9775711474998695, 0.9775711474992527]\n",
      "[0.00028942 0.         0.00028942 0.         0.00028942 0.        ]\n"
     ]
    },
    {
     "name": "stderr",
     "output_type": "stream",
     "text": [
      "Progress:  58%|█████▊    | 58/100 [25:30<17:54, 25.59s/it]"
     ]
    },
    {
     "name": "stdout",
     "output_type": "stream",
     "text": [
      "[[-8.76429263e-06  0.00000000e+00 -8.76429263e-06  0.00000000e+00\n",
      "  -8.76429263e-06  0.00000000e+00]\n",
      " [ 0.00000000e+00  0.00000000e+00  0.00000000e+00  0.00000000e+00\n",
      "   0.00000000e+00  0.00000000e+00]\n",
      " [-8.76429263e-06  0.00000000e+00 -8.76429263e-06  0.00000000e+00\n",
      "  -8.76429263e-06  0.00000000e+00]\n",
      " [ 0.00000000e+00  0.00000000e+00  0.00000000e+00  0.00000000e+00\n",
      "   0.00000000e+00  0.00000000e+00]\n",
      " [-8.76429263e-06  0.00000000e+00 -8.76429263e-06  0.00000000e+00\n",
      "  -8.76429263e-06  0.00000000e+00]\n",
      " [ 0.00000000e+00  0.00000000e+00  0.00000000e+00  0.00000000e+00\n",
      "   0.00000000e+00  0.00000000e+00]]\n",
      "Time to: Calculate Ground State - 0.83s, Get Pauli Ops - 5.06s, Calculate Pauli Expectation Values - 17.43s, Calculate Covariance - 2.22s\n",
      "[[-3.12385682e-17 -1.80355958e-17  3.12385682e-17 -1.80355958e-17\n",
      "   1.31390714e-29  3.60711915e-17]\n",
      " [-1.80355958e-17 -1.04128561e-17  1.80355958e-17 -1.04128561e-17\n",
      "   7.58584639e-30  2.08257121e-17]\n",
      " [ 3.12385682e-17  1.80355958e-17 -3.12385682e-17  1.80355958e-17\n",
      "  -1.31390714e-29 -3.60711915e-17]\n",
      " [-1.80355958e-17 -1.04128561e-17  1.80355958e-17 -1.04128561e-17\n",
      "   7.58584639e-30  2.08257121e-17]\n",
      " [ 1.31390714e-29  7.58584639e-30 -1.31390714e-29  7.58584639e-30\n",
      "  -5.52634792e-42 -1.51716928e-29]\n",
      " [ 3.60711915e-17  2.08257121e-17 -3.60711915e-17  2.08257121e-17\n",
      "  -1.51716928e-29 -4.16514243e-17]]\n",
      "f0,f1,f2 = [6.309265040806478e-10, 6.3092650409278e-10, 6.309265040821625e-10]\n",
      "d01,d02,d12 = [0.9813860750893679, 0.9813860750896012, 0.9813860750890309]\n"
     ]
    },
    {
     "name": "stderr",
     "output_type": "stream",
     "text": [
      "/cluster/home/mskrabulis/miniconda3/envs/quantech/lib/python3.9/site-packages/pyscf/symm/Dmatrix.py:156: RuntimeWarning: invalid value encountered in arccos\n",
      "  gamma = numpy.arccos(yp.dot(c2[1]))\n"
     ]
    },
    {
     "name": "stdout",
     "output_type": "stream",
     "text": [
      "[-2.1754631e-05  0.0000000e+00 -2.1754631e-05  0.0000000e+00\n",
      " -2.1754631e-05  0.0000000e+00]\n"
     ]
    },
    {
     "name": "stderr",
     "output_type": "stream",
     "text": [
      "Progress:  59%|█████▉    | 59/100 [25:55<17:30, 25.62s/it]"
     ]
    },
    {
     "name": "stdout",
     "output_type": "stream",
     "text": [
      "[[4.33869682e-05 0.00000000e+00 4.33869682e-05 0.00000000e+00\n",
      "  4.33869682e-05 0.00000000e+00]\n",
      " [0.00000000e+00 0.00000000e+00 0.00000000e+00 0.00000000e+00\n",
      "  0.00000000e+00 0.00000000e+00]\n",
      " [4.33869682e-05 0.00000000e+00 4.33869682e-05 0.00000000e+00\n",
      "  4.33869682e-05 0.00000000e+00]\n",
      " [0.00000000e+00 0.00000000e+00 0.00000000e+00 0.00000000e+00\n",
      "  0.00000000e+00 0.00000000e+00]\n",
      " [4.33869682e-05 0.00000000e+00 4.33869682e-05 0.00000000e+00\n",
      "  4.33869682e-05 0.00000000e+00]\n",
      " [0.00000000e+00 0.00000000e+00 0.00000000e+00 0.00000000e+00\n",
      "  0.00000000e+00 0.00000000e+00]]\n",
      "Time to: Calculate Ground State - 1.08s, Get Pauli Ops - 4.83s, Calculate Pauli Expectation Values - 17.29s, Calculate Covariance - 2.48s\n",
      "[[ 1.54644171e-16  8.92838537e-17 -1.54644171e-16  8.92838537e-17\n",
      "  -5.99016655e-29 -1.78567707e-16]\n",
      " [ 8.92838537e-17  5.15480570e-17 -8.92838537e-17  5.15480570e-17\n",
      "  -3.45842427e-29 -1.03096114e-16]\n",
      " [-1.54644171e-16 -8.92838537e-17  1.54644171e-16 -8.92838537e-17\n",
      "   5.99016655e-29  1.78567707e-16]\n",
      " [ 8.92838537e-17  5.15480570e-17 -8.92838537e-17  5.15480570e-17\n",
      "  -3.45842427e-29 -1.03096114e-16]\n",
      " [-5.99016655e-29 -3.45842427e-29  5.99016655e-29 -3.45842427e-29\n",
      "   2.32030054e-41  6.91684855e-29]\n",
      " [-1.78567707e-16 -1.03096114e-16  1.78567707e-16 -1.03096114e-16\n",
      "   6.91684855e-29  2.06192228e-16]]\n",
      "f0,f1,f2 = [4.7425095596491853e-11, 4.742509559122995e-11, 4.742509558923382e-11]\n",
      "d01,d02,d12 = [0.9842065839957331, 0.9842065839959253, 0.9842065839954016]\n",
      "[1.45495012e-05 0.00000000e+00 1.45495012e-05 0.00000000e+00\n",
      " 1.45495012e-05 0.00000000e+00]\n"
     ]
    },
    {
     "name": "stderr",
     "output_type": "stream",
     "text": [
      "Progress:  60%|██████    | 60/100 [26:21<17:11, 25.80s/it]"
     ]
    },
    {
     "name": "stdout",
     "output_type": "stream",
     "text": [
      "[[1.82858847e-05 0.00000000e+00 1.82858847e-05 0.00000000e+00\n",
      "  1.82858847e-05 0.00000000e+00]\n",
      " [0.00000000e+00 0.00000000e+00 0.00000000e+00 0.00000000e+00\n",
      "  0.00000000e+00 0.00000000e+00]\n",
      " [1.82858847e-05 0.00000000e+00 1.82858847e-05 0.00000000e+00\n",
      "  1.82858847e-05 0.00000000e+00]\n",
      " [0.00000000e+00 0.00000000e+00 0.00000000e+00 0.00000000e+00\n",
      "  0.00000000e+00 0.00000000e+00]\n",
      " [1.82858847e-05 0.00000000e+00 1.82858847e-05 0.00000000e+00\n",
      "  1.82858847e-05 0.00000000e+00]\n",
      " [0.00000000e+00 0.00000000e+00 0.00000000e+00 0.00000000e+00\n",
      "  0.00000000e+00 0.00000000e+00]]\n",
      "Time to: Calculate Ground State - 1.12s, Get Pauli Ops - 5.9s, Calculate Pauli Expectation Values - 17.26s, Calculate Covariance - 1.94s\n",
      "[[ 6.51763788e-17  3.76295998e-17 -6.51763788e-17  3.76295998e-17\n",
      "  -2.31191620e-29 -7.52591996e-17]\n",
      " [ 3.76295998e-17  2.17254596e-17 -3.76295998e-17  2.17254596e-17\n",
      "  -1.33478544e-29 -4.34509192e-17]\n",
      " [-6.51763788e-17 -3.76295998e-17  6.51763788e-17 -3.76295998e-17\n",
      "   2.31191620e-29  7.52591996e-17]\n",
      " [ 3.76295998e-17  2.17254596e-17 -3.76295998e-17  2.17254596e-17\n",
      "  -1.33478544e-29 -4.34509192e-17]\n",
      " [-2.31191620e-29 -1.33478544e-29  2.31191620e-29 -1.33478544e-29\n",
      "   8.20075712e-42  2.66957088e-29]\n",
      " [-7.52591996e-17 -4.34509192e-17  7.52591996e-17 -4.34509192e-17\n",
      "   2.66957088e-29  8.69018383e-17]]\n",
      "f0,f1,f2 = [3.171791257423843e-11, 3.171791258690025e-11, 3.1717912579438234e-11]\n",
      "d01,d02,d12 = [0.986736521028605, 0.9867365210287574, 0.9867365210282857]\n",
      "[-4.73973445e-05  0.00000000e+00 -4.73973445e-05  0.00000000e+00\n",
      " -4.73973445e-05  0.00000000e+00]\n"
     ]
    },
    {
     "name": "stderr",
     "output_type": "stream",
     "text": [
      "Progress:  61%|██████    | 61/100 [26:50<17:13, 26.49s/it]"
     ]
    },
    {
     "name": "stdout",
     "output_type": "stream",
     "text": [
      "[[3.98812203e-05 0.00000000e+00 3.98812203e-05 0.00000000e+00\n",
      "  3.98812203e-05 0.00000000e+00]\n",
      " [0.00000000e+00 0.00000000e+00 0.00000000e+00 0.00000000e+00\n",
      "  0.00000000e+00 0.00000000e+00]\n",
      " [3.98812203e-05 0.00000000e+00 3.98812203e-05 0.00000000e+00\n",
      "  3.98812203e-05 0.00000000e+00]\n",
      " [0.00000000e+00 0.00000000e+00 0.00000000e+00 0.00000000e+00\n",
      "  0.00000000e+00 0.00000000e+00]\n",
      " [3.98812203e-05 0.00000000e+00 3.98812203e-05 0.00000000e+00\n",
      "  3.98812203e-05 0.00000000e+00]\n",
      " [0.00000000e+00 0.00000000e+00 0.00000000e+00 0.00000000e+00\n",
      "  0.00000000e+00 0.00000000e+00]]\n",
      "Time to: Calculate Ground State - 1.08s, Get Pauli Ops - 7.1s, Calculate Pauli Expectation Values - 17.58s, Calculate Covariance - 2.32s\n",
      "[[ 1.42148633e-16  8.20695517e-17 -1.42148633e-16  8.20695517e-17\n",
      "  -4.53018435e-29 -1.64139103e-16]\n",
      " [ 8.20695517e-17  4.73828778e-17 -8.20695517e-17  4.73828778e-17\n",
      "  -2.61550315e-29 -9.47657556e-17]\n",
      " [-1.42148633e-16 -8.20695517e-17  1.42148633e-16 -8.20695517e-17\n",
      "   4.53018435e-29  1.64139103e-16]\n",
      " [ 8.20695517e-17  4.73828778e-17 -8.20695517e-17  4.73828778e-17\n",
      "  -2.61550315e-29 -9.47657556e-17]\n",
      " [-4.53018435e-29 -2.61550315e-29  4.53018435e-29 -2.61550315e-29\n",
      "   1.44374024e-41  5.23100631e-29]\n",
      " [-1.64139103e-16 -9.47657556e-17  1.64139103e-16 -9.47657556e-17\n",
      "   5.23100631e-29  1.89531511e-16]]\n",
      "f0,f1,f2 = [1.0332621092817682e-10, 1.0332621090745557e-10, 1.0332621091845318e-10]\n",
      "d01,d02,d12 = [0.9886294050601614, 0.9886294050602707, 0.9886294050598535]\n",
      "[-0.00013185  0.         -0.00013185  0.         -0.00013185  0.        ]\n"
     ]
    },
    {
     "name": "stderr",
     "output_type": "stream",
     "text": [
      "Progress:  62%|██████▏   | 62/100 [27:15<16:37, 26.26s/it]"
     ]
    },
    {
     "name": "stdout",
     "output_type": "stream",
     "text": [
      "[[2.1301733e-05 0.0000000e+00 2.1301733e-05 0.0000000e+00 2.1301733e-05\n",
      "  0.0000000e+00]\n",
      " [0.0000000e+00 0.0000000e+00 0.0000000e+00 0.0000000e+00 0.0000000e+00\n",
      "  0.0000000e+00]\n",
      " [2.1301733e-05 0.0000000e+00 2.1301733e-05 0.0000000e+00 2.1301733e-05\n",
      "  0.0000000e+00]\n",
      " [0.0000000e+00 0.0000000e+00 0.0000000e+00 0.0000000e+00 0.0000000e+00\n",
      "  0.0000000e+00]\n",
      " [2.1301733e-05 0.0000000e+00 2.1301733e-05 0.0000000e+00 2.1301733e-05\n",
      "  0.0000000e+00]\n",
      " [0.0000000e+00 0.0000000e+00 0.0000000e+00 0.0000000e+00 0.0000000e+00\n",
      "  0.0000000e+00]]\n",
      "Time to: Calculate Ground State - 1.43s, Get Pauli Ops - 4.52s, Calculate Pauli Expectation Values - 17.78s, Calculate Covariance - 1.99s\n",
      "[[ 7.59257670e-17  4.38357620e-17 -7.59257670e-17  4.38357620e-17\n",
      "  -2.13600069e-29 -8.76715241e-17]\n",
      " [ 4.38357620e-17  2.53085890e-17 -4.38357620e-17  2.53085890e-17\n",
      "  -1.23322058e-29 -5.06171780e-17]\n",
      " [-7.59257670e-17 -4.38357620e-17  7.59257670e-17 -4.38357620e-17\n",
      "   2.13600069e-29  8.76715241e-17]\n",
      " [ 4.38357620e-17  2.53085890e-17 -4.38357620e-17  2.53085890e-17\n",
      "  -1.23322058e-29 -5.06171780e-17]\n",
      " [-2.13600069e-29 -1.23322058e-29  2.13600069e-29 -1.23322058e-29\n",
      "   6.00915756e-42  2.46644115e-29]\n",
      " [-8.76715241e-17 -5.06171780e-17  8.76715241e-17 -5.06171780e-17\n",
      "   2.46644115e-29  1.01234356e-16]]\n",
      "f0,f1,f2 = [2.8742261425486065e-10, 2.8742261425130424e-10, 2.874226142575116e-10]\n",
      "d01,d02,d12 = [0.9901655918690659, 0.9901655918691308, 0.9901655918687696]\n"
     ]
    },
    {
     "name": "stderr",
     "output_type": "stream",
     "text": [
      "/cluster/home/mskrabulis/miniconda3/envs/quantech/lib/python3.9/site-packages/pyscf/symm/Dmatrix.py:156: RuntimeWarning: invalid value encountered in arccos\n",
      "  gamma = numpy.arccos(yp.dot(c2[1]))\n"
     ]
    },
    {
     "name": "stdout",
     "output_type": "stream",
     "text": [
      "[-3.1267118e-05  0.0000000e+00 -3.1267118e-05  0.0000000e+00\n",
      " -3.1267118e-05  0.0000000e+00]\n"
     ]
    },
    {
     "name": "stderr",
     "output_type": "stream",
     "text": [
      "Progress:  63%|██████▎   | 63/100 [27:41<16:08, 26.18s/it]"
     ]
    },
    {
     "name": "stdout",
     "output_type": "stream",
     "text": [
      "[[1.56590321e-06 0.00000000e+00 1.56590321e-06 0.00000000e+00\n",
      "  1.56590321e-06 0.00000000e+00]\n",
      " [0.00000000e+00 0.00000000e+00 0.00000000e+00 0.00000000e+00\n",
      "  0.00000000e+00 0.00000000e+00]\n",
      " [1.56590321e-06 0.00000000e+00 1.56590321e-06 0.00000000e+00\n",
      "  1.56590321e-06 0.00000000e+00]\n",
      " [0.00000000e+00 0.00000000e+00 0.00000000e+00 0.00000000e+00\n",
      "  0.00000000e+00 0.00000000e+00]\n",
      " [1.56590321e-06 0.00000000e+00 1.56590321e-06 0.00000000e+00\n",
      "  1.56590321e-06 0.00000000e+00]\n",
      " [0.00000000e+00 0.00000000e+00 0.00000000e+00 0.00000000e+00\n",
      "  0.00000000e+00 0.00000000e+00]]\n",
      "Time to: Calculate Ground State - 1.38s, Get Pauli Ops - 4.79s, Calculate Pauli Expectation Values - 17.35s, Calculate Covariance - 2.46s\n",
      "[[ 5.58134881e-18  3.22239324e-18 -5.58134881e-18  3.22239324e-18\n",
      "  -1.35753873e-30 -6.44478647e-18]\n",
      " [ 3.22239324e-18  1.86044960e-18 -3.22239324e-18  1.86044960e-18\n",
      "  -7.83775354e-31 -3.72089921e-18]\n",
      " [-5.58134881e-18 -3.22239324e-18  5.58134881e-18 -3.22239324e-18\n",
      "   1.35753873e-30  6.44478647e-18]\n",
      " [ 3.22239324e-18  1.86044960e-18 -3.22239324e-18  1.86044960e-18\n",
      "  -7.83775354e-31 -3.72089921e-18]\n",
      " [-1.35753873e-30 -7.83775354e-31  1.35753873e-30 -7.83775354e-31\n",
      "   3.30191048e-43  1.56755071e-30]\n",
      " [-6.44478647e-18 -3.72089921e-18  6.44478647e-18 -3.72089921e-18\n",
      "   1.56755071e-30  7.44179841e-18]]\n",
      "f0,f1,f2 = [6.816231722607571e-11, 6.816231721545563e-11, 6.816231721954977e-11]\n",
      "d01,d02,d12 = [0.9916593344760473, 0.9916593344760655, 0.9916593344757628]\n"
     ]
    },
    {
     "name": "stderr",
     "output_type": "stream",
     "text": [
      "/cluster/home/mskrabulis/miniconda3/envs/quantech/lib/python3.9/site-packages/pyscf/symm/Dmatrix.py:156: RuntimeWarning: invalid value encountered in arccos\n",
      "  gamma = numpy.arccos(yp.dot(c2[1]))\n"
     ]
    },
    {
     "name": "stdout",
     "output_type": "stream",
     "text": [
      "[-0.00018725  0.         -0.00018725  0.         -0.00018725  0.        ]\n"
     ]
    },
    {
     "name": "stderr",
     "output_type": "stream",
     "text": [
      "Progress:  64%|██████▍   | 64/100 [28:11<16:21, 27.27s/it]"
     ]
    },
    {
     "name": "stdout",
     "output_type": "stream",
     "text": [
      "[[-2.3178945e-05  0.0000000e+00 -2.3178945e-05  0.0000000e+00\n",
      "  -2.3178945e-05  0.0000000e+00]\n",
      " [ 0.0000000e+00  0.0000000e+00  0.0000000e+00  0.0000000e+00\n",
      "   0.0000000e+00  0.0000000e+00]\n",
      " [-2.3178945e-05  0.0000000e+00 -2.3178945e-05  0.0000000e+00\n",
      "  -2.3178945e-05  0.0000000e+00]\n",
      " [ 0.0000000e+00  0.0000000e+00  0.0000000e+00  0.0000000e+00\n",
      "   0.0000000e+00  0.0000000e+00]\n",
      " [-2.3178945e-05  0.0000000e+00 -2.3178945e-05  0.0000000e+00\n",
      "  -2.3178945e-05  0.0000000e+00]\n",
      " [ 0.0000000e+00  0.0000000e+00  0.0000000e+00  0.0000000e+00\n",
      "   0.0000000e+00  0.0000000e+00]]\n",
      "Time to: Calculate Ground State - 1.1s, Get Pauli Ops - 8.77s, Calculate Pauli Expectation Values - 17.97s, Calculate Covariance - 1.97s\n",
      "[[-8.26167136e-17 -4.76987818e-17  8.26167136e-17 -4.76987818e-17\n",
      "   1.68089082e-29  9.53975637e-17]\n",
      " [-4.76987818e-17 -2.75389045e-17  4.76987818e-17 -2.75389045e-17\n",
      "   9.70462767e-30  5.50778091e-17]\n",
      " [ 8.26167136e-17  4.76987818e-17 -8.26167136e-17  4.76987818e-17\n",
      "  -1.68089082e-29 -9.53975637e-17]\n",
      " [-4.76987818e-17 -2.75389045e-17  4.76987818e-17 -2.75389045e-17\n",
      "   9.70462768e-30  5.50778091e-17]\n",
      " [ 1.68089082e-29  9.70462767e-30 -1.68089082e-29  9.70462768e-30\n",
      "  -3.41988180e-42 -1.94092553e-29]\n",
      " [ 9.53975637e-17  5.50778091e-17 -9.53975637e-17  5.50778091e-17\n",
      "  -1.94092553e-29 -1.10155618e-16]]\n",
      "f0,f1,f2 = [4.0820100754236554e-10, 4.0820100753815907e-10, 4.0820100754258e-10]\n",
      "d01,d02,d12 = [0.9931876284352963, 0.9931876284352656, 0.9931876284350246]\n"
     ]
    },
    {
     "name": "stderr",
     "output_type": "stream",
     "text": [
      "/cluster/home/mskrabulis/miniconda3/envs/quantech/lib/python3.9/site-packages/pyscf/symm/Dmatrix.py:156: RuntimeWarning: invalid value encountered in arccos\n",
      "  gamma = numpy.arccos(yp.dot(c2[1]))\n",
      "/cluster/home/mskrabulis/miniconda3/envs/quantech/lib/python3.9/site-packages/pyscf/symm/Dmatrix.py:156: RuntimeWarning: invalid value encountered in arccos\n",
      "  gamma = numpy.arccos(yp.dot(c2[1]))\n"
     ]
    },
    {
     "name": "stdout",
     "output_type": "stream",
     "text": [
      "[-0.00016646  0.         -0.00016646  0.         -0.00016646  0.        ]\n"
     ]
    },
    {
     "name": "stderr",
     "output_type": "stream",
     "text": [
      "Progress:  65%|██████▌   | 65/100 [28:39<16:04, 27.56s/it]"
     ]
    },
    {
     "name": "stdout",
     "output_type": "stream",
     "text": [
      "[[2.00064507e-05 0.00000000e+00 2.00064507e-05 0.00000000e+00\n",
      "  2.00064507e-05 0.00000000e+00]\n",
      " [0.00000000e+00 0.00000000e+00 0.00000000e+00 0.00000000e+00\n",
      "  0.00000000e+00 0.00000000e+00]\n",
      " [2.00064507e-05 0.00000000e+00 2.00064507e-05 0.00000000e+00\n",
      "  2.00064507e-05 0.00000000e+00]\n",
      " [0.00000000e+00 0.00000000e+00 0.00000000e+00 0.00000000e+00\n",
      "  0.00000000e+00 0.00000000e+00]\n",
      " [2.00064507e-05 0.00000000e+00 2.00064507e-05 0.00000000e+00\n",
      "  2.00064507e-05 0.00000000e+00]\n",
      " [0.00000000e+00 0.00000000e+00 0.00000000e+00 0.00000000e+00\n",
      "  0.00000000e+00 0.00000000e+00]]\n",
      "Time to: Calculate Ground State - 1.01s, Get Pauli Ops - 7.6s, Calculate Pauli Expectation Values - 17.55s, Calculate Covariance - 2.04s\n",
      "[[ 7.13089921e-17  4.11702658e-17 -7.13089921e-17  4.11702658e-17\n",
      "  -1.15398707e-29 -8.23405316e-17]\n",
      " [ 4.11702658e-17  2.37696640e-17 -4.11702658e-17  2.37696640e-17\n",
      "  -6.66254745e-30 -4.75393281e-17]\n",
      " [-7.13089921e-17 -4.11702658e-17  7.13089921e-17 -4.11702658e-17\n",
      "   1.15398707e-29  8.23405316e-17]\n",
      " [ 4.11702658e-17  2.37696640e-17 -4.11702658e-17  2.37696640e-17\n",
      "  -6.66254745e-30 -4.75393281e-17]\n",
      " [-1.15398707e-29 -6.66254745e-30  1.15398707e-29 -6.66254745e-30\n",
      "   1.86748700e-42  1.33250949e-29]\n",
      " [-8.23405316e-17 -4.75393281e-17  8.23405316e-17 -4.75393281e-17\n",
      "   1.33250949e-29  9.50786561e-17]]\n",
      "f0,f1,f2 = [3.6287657998842413e-10, 3.6287657997925535e-10, 3.6287657997888353e-10]\n",
      "d01,d02,d12 = [0.9943853166248551, 0.9943853166247751, 0.9943853166245965]\n"
     ]
    },
    {
     "name": "stderr",
     "output_type": "stream",
     "text": [
      "/cluster/home/mskrabulis/miniconda3/envs/quantech/lib/python3.9/site-packages/pyscf/symm/Dmatrix.py:156: RuntimeWarning: invalid value encountered in arccos\n",
      "  gamma = numpy.arccos(yp.dot(c2[1]))\n",
      "/cluster/home/mskrabulis/miniconda3/envs/quantech/lib/python3.9/site-packages/pyscf/symm/Dmatrix.py:156: RuntimeWarning: invalid value encountered in arccos\n",
      "  gamma = numpy.arccos(yp.dot(c2[1]))\n"
     ]
    },
    {
     "name": "stdout",
     "output_type": "stream",
     "text": [
      "[-5.31941815e-05  0.00000000e+00 -5.31941815e-05  0.00000000e+00\n",
      " -5.31941815e-05  0.00000000e+00]\n"
     ]
    },
    {
     "name": "stderr",
     "output_type": "stream",
     "text": [
      "Progress:  66%|██████▌   | 66/100 [29:04<15:08, 26.73s/it]"
     ]
    },
    {
     "name": "stdout",
     "output_type": "stream",
     "text": [
      "[[-1.36546221e-06  0.00000000e+00 -1.36546221e-06  0.00000000e+00\n",
      "  -1.36546221e-06  0.00000000e+00]\n",
      " [ 0.00000000e+00  0.00000000e+00  0.00000000e+00  0.00000000e+00\n",
      "   0.00000000e+00  0.00000000e+00]\n",
      " [-1.36546221e-06  0.00000000e+00 -1.36546221e-06  0.00000000e+00\n",
      "  -1.36546221e-06  0.00000000e+00]\n",
      " [ 0.00000000e+00  0.00000000e+00  0.00000000e+00  0.00000000e+00\n",
      "   0.00000000e+00  0.00000000e+00]\n",
      " [-1.36546221e-06  0.00000000e+00 -1.36546221e-06  0.00000000e+00\n",
      "  -1.36546221e-06  0.00000000e+00]\n",
      " [ 0.00000000e+00  0.00000000e+00  0.00000000e+00  0.00000000e+00\n",
      "   0.00000000e+00  0.00000000e+00]]\n",
      "Time to: Calculate Ground State - 0.96s, Get Pauli Ops - 4.25s, Calculate Pauli Expectation Values - 17.42s, Calculate Covariance - 2.16s\n",
      "[[-4.86691697e-18 -2.80991582e-18  4.86691697e-18 -2.80991582e-18\n",
      "   5.82756353e-31  5.61983165e-18]\n",
      " [-2.80991582e-18 -1.62230566e-18  2.80991582e-18 -1.62230566e-18\n",
      "   3.36454537e-31  3.24461131e-18]\n",
      " [ 4.86691697e-18  2.80991582e-18 -4.86691697e-18  2.80991582e-18\n",
      "  -5.82756353e-31 -5.61983165e-18]\n",
      " [-2.80991582e-18 -1.62230566e-18  2.80991582e-18 -1.62230566e-18\n",
      "   3.36454537e-31  3.24461131e-18]\n",
      " [ 5.82756353e-31  3.36454537e-31 -5.82756353e-31  3.36454537e-31\n",
      "  -6.97782535e-44 -6.72909074e-31]\n",
      " [ 5.61983165e-18  3.24461131e-18 -5.61983165e-18  3.24461131e-18\n",
      "  -6.72909074e-31 -6.48922263e-18]]\n",
      "f0,f1,f2 = [1.1596331574279719e-10, 1.1596331574028971e-10, 1.1596331573496317e-10]\n",
      "d01,d02,d12 = [0.9955445269192039, 0.9955445269190765, 0.9955445269189607]\n",
      "[-0.00021975  0.         -0.00021975  0.         -0.00021975  0.        ]\n"
     ]
    },
    {
     "name": "stderr",
     "output_type": "stream",
     "text": [
      "Progress:  67%|██████▋   | 67/100 [29:29<14:21, 26.10s/it]"
     ]
    },
    {
     "name": "stdout",
     "output_type": "stream",
     "text": [
      "[[-1.9144085e-05  0.0000000e+00 -1.9144085e-05  0.0000000e+00\n",
      "  -1.9144085e-05  0.0000000e+00]\n",
      " [ 0.0000000e+00  0.0000000e+00  0.0000000e+00  0.0000000e+00\n",
      "   0.0000000e+00  0.0000000e+00]\n",
      " [-1.9144085e-05  0.0000000e+00 -1.9144085e-05  0.0000000e+00\n",
      "  -1.9144085e-05  0.0000000e+00]\n",
      " [ 0.0000000e+00  0.0000000e+00  0.0000000e+00  0.0000000e+00\n",
      "   0.0000000e+00  0.0000000e+00]\n",
      " [-1.9144085e-05  0.0000000e+00 -1.9144085e-05  0.0000000e+00\n",
      "  -1.9144085e-05  0.0000000e+00]\n",
      " [ 0.0000000e+00  0.0000000e+00  0.0000000e+00  0.0000000e+00\n",
      "   0.0000000e+00  0.0000000e+00]]\n",
      "Time to: Calculate Ground State - 0.82s, Get Pauli Ops - 4.5s, Calculate Pauli Expectation Values - 17.43s, Calculate Covariance - 1.88s\n",
      "[[-6.82352622e-17 -3.93956470e-17  6.82352622e-17 -3.93956470e-17\n",
      "   5.28998222e-30  7.87912940e-17]\n",
      " [-3.93956470e-17 -2.27450874e-17  3.93956470e-17 -2.27450874e-17\n",
      "   3.05417266e-30  4.54901748e-17]\n",
      " [ 6.82352622e-17  3.93956470e-17 -6.82352622e-17  3.93956470e-17\n",
      "  -5.28998222e-30 -7.87912940e-17]\n",
      " [-3.93956470e-17 -2.27450874e-17  3.93956470e-17 -2.27450874e-17\n",
      "   3.05417266e-30  4.54901748e-17]\n",
      " [ 5.28998222e-30  3.05417266e-30 -5.28998222e-30  3.05417266e-30\n",
      "  -4.10109245e-43 -6.10834532e-30]\n",
      " [ 7.87912940e-17  4.54901748e-17 -7.87912940e-17  4.54901748e-17\n",
      "  -6.10834532e-30 -9.09803496e-17]]\n",
      "f0,f1,f2 = [4.790461701553734e-10, 4.790461701542372e-10, 4.790461701611733e-10]\n",
      "d01,d02,d12 = [0.996635688744125, 0.9966356887439493, 0.996635688743896]\n",
      "[-0.000312  0.       -0.000312  0.       -0.000312  0.      ]\n"
     ]
    },
    {
     "name": "stderr",
     "output_type": "stream",
     "text": [
      "Progress:  68%|██████▊   | 68/100 [29:57<14:12, 26.65s/it]"
     ]
    },
    {
     "name": "stdout",
     "output_type": "stream",
     "text": [
      "[[-3.3749342e-06  0.0000000e+00 -3.3749342e-06  0.0000000e+00\n",
      "  -3.3749342e-06  0.0000000e+00]\n",
      " [ 0.0000000e+00  0.0000000e+00  0.0000000e+00  0.0000000e+00\n",
      "   0.0000000e+00  0.0000000e+00]\n",
      " [-3.3749342e-06  0.0000000e+00 -3.3749342e-06  0.0000000e+00\n",
      "  -3.3749342e-06  0.0000000e+00]\n",
      " [ 0.0000000e+00  0.0000000e+00  0.0000000e+00  0.0000000e+00\n",
      "   0.0000000e+00  0.0000000e+00]\n",
      " [-3.3749342e-06  0.0000000e+00 -3.3749342e-06  0.0000000e+00\n",
      "  -3.3749342e-06  0.0000000e+00]\n",
      " [ 0.0000000e+00  0.0000000e+00  0.0000000e+00  0.0000000e+00\n",
      "   0.0000000e+00  0.0000000e+00]]\n",
      "Time to: Calculate Ground State - 1.01s, Get Pauli Ops - 7.24s, Calculate Pauli Expectation Values - 17.29s, Calculate Covariance - 2.38s\n",
      "[[-1.20292780e-17 -6.94510687e-18  1.20292780e-17 -6.94510687e-18\n",
      "   4.29084149e-31  1.38902137e-17]\n",
      " [-6.94510687e-18 -4.00975932e-18  6.94510687e-18 -4.00975932e-18\n",
      "   2.47731849e-31  8.01951864e-18]\n",
      " [ 1.20292780e-17  6.94510687e-18 -1.20292780e-17  6.94510687e-18\n",
      "  -4.29084149e-31 -1.38902137e-17]\n",
      " [-6.94510687e-18 -4.00975932e-18  6.94510687e-18 -4.00975932e-18\n",
      "   2.47731849e-31  8.01951864e-18]\n",
      " [ 4.29084149e-31  2.47731849e-31 -4.29084149e-31  2.47731849e-31\n",
      "  -1.53054246e-44 -4.95463698e-31]\n",
      " [ 1.38902137e-17  8.01951864e-18 -1.38902137e-17  8.01951864e-18\n",
      "  -4.95463698e-31 -1.60390373e-17]]\n",
      "f0,f1,f2 = [6.801540052858074e-10, 6.801540052934646e-10, 6.801540052873629e-10]\n",
      "d01,d02,d12 = [0.997466367192616, 0.9974663671923927, 0.9974663671924]\n",
      "[-0.00014198  0.         -0.00014198  0.         -0.00014198  0.        ]\n"
     ]
    },
    {
     "name": "stderr",
     "output_type": "stream",
     "text": [
      "Progress:  69%|██████▉   | 69/100 [30:25<13:56, 27.00s/it]"
     ]
    },
    {
     "name": "stdout",
     "output_type": "stream",
     "text": [
      "[[3.27329602e-05 0.00000000e+00 3.27329602e-05 0.00000000e+00\n",
      "  3.27329602e-05 0.00000000e+00]\n",
      " [0.00000000e+00 0.00000000e+00 0.00000000e+00 0.00000000e+00\n",
      "  0.00000000e+00 0.00000000e+00]\n",
      " [3.27329602e-05 0.00000000e+00 3.27329602e-05 0.00000000e+00\n",
      "  3.27329602e-05 0.00000000e+00]\n",
      " [0.00000000e+00 0.00000000e+00 0.00000000e+00 0.00000000e+00\n",
      "  0.00000000e+00 0.00000000e+00]\n",
      " [3.27329602e-05 0.00000000e+00 3.27329602e-05 0.00000000e+00\n",
      "  3.27329602e-05 0.00000000e+00]\n",
      " [0.00000000e+00 0.00000000e+00 0.00000000e+00 0.00000000e+00\n",
      "  0.00000000e+00 0.00000000e+00]]\n",
      "Time to: Calculate Ground State - 1.33s, Get Pauli Ops - 7.87s, Calculate Pauli Expectation Values - 16.76s, Calculate Covariance - 1.83s\n",
      "[[ 1.16670090e-16  6.73595079e-17 -1.16670090e-16  6.73595079e-17\n",
      "   5.77724216e-31 -1.34719016e-16]\n",
      " [ 6.73595079e-17  3.88900300e-17 -6.73595079e-17  3.88900300e-17\n",
      "   3.33549232e-31 -7.77800600e-17]\n",
      " [-1.16670090e-16 -6.73595079e-17  1.16670090e-16 -6.73595079e-17\n",
      "  -5.77724216e-31  1.34719016e-16]\n",
      " [ 6.73595079e-17  3.88900300e-17 -6.73595079e-17  3.88900300e-17\n",
      "   3.33549232e-31 -7.77800600e-17]\n",
      " [ 5.77724216e-31  3.33549232e-31 -5.77724216e-31  3.33549232e-31\n",
      "   2.86076123e-45 -6.67098464e-31]\n",
      " [-1.34719016e-16 -7.77800600e-17  1.34719016e-16 -7.77800600e-17\n",
      "  -6.67098464e-31  1.55560120e-16]]\n",
      "f0,f1,f2 = [3.0950553628747143e-10, 3.0950553628309316e-10, 3.095055363034878e-10]\n",
      "d01,d02,d12 = [0.998008516951242, 0.998008516950967, 0.9980085169510359]\n",
      "[-0.00038637  0.         -0.00038637  0.         -0.00038637  0.        ]\n"
     ]
    },
    {
     "name": "stderr",
     "output_type": "stream",
     "text": [
      "Progress:  70%|███████   | 70/100 [30:53<13:45, 27.51s/it]"
     ]
    },
    {
     "name": "stdout",
     "output_type": "stream",
     "text": [
      "[[-3.18107406e-05  0.00000000e+00 -3.18107406e-05  0.00000000e+00\n",
      "  -3.18107406e-05  0.00000000e+00]\n",
      " [ 0.00000000e+00  0.00000000e+00  0.00000000e+00  0.00000000e+00\n",
      "   0.00000000e+00  0.00000000e+00]\n",
      " [-3.18107406e-05  0.00000000e+00 -3.18107406e-05  0.00000000e+00\n",
      "  -3.18107406e-05  0.00000000e+00]\n",
      " [ 0.00000000e+00  0.00000000e+00  0.00000000e+00  0.00000000e+00\n",
      "   0.00000000e+00  0.00000000e+00]\n",
      " [-3.18107406e-05  0.00000000e+00 -3.18107406e-05  0.00000000e+00\n",
      "  -3.18107406e-05  0.00000000e+00]\n",
      " [ 0.00000000e+00  0.00000000e+00  0.00000000e+00  0.00000000e+00\n",
      "   0.00000000e+00  0.00000000e+00]]\n",
      "Time to: Calculate Ground State - 1.07s, Get Pauli Ops - 7.79s, Calculate Pauli Expectation Values - 17.69s, Calculate Covariance - 2.15s\n",
      "[[-1.13383023e-16 -6.54617188e-17  1.13383023e-16 -6.54617188e-17\n",
      "  -5.21143651e-30  1.30923438e-16]\n",
      " [-6.54617188e-17 -3.77943409e-17  6.54617188e-17 -3.77943409e-17\n",
      "  -3.00882427e-30  7.55886819e-17]\n",
      " [ 1.13383023e-16  6.54617188e-17 -1.13383023e-16  6.54617188e-17\n",
      "   5.21143651e-30 -1.30923438e-16]\n",
      " [-6.54617188e-17 -3.77943409e-17  6.54617188e-17 -3.77943409e-17\n",
      "  -3.00882427e-30  7.55886819e-17]\n",
      " [-5.21143651e-30 -3.00882427e-30  5.21143651e-30 -3.00882427e-30\n",
      "  -2.39533837e-43  6.01764855e-30]\n",
      " [ 1.30923438e-16  7.55886819e-17 -1.30923438e-16  7.55886819e-17\n",
      "   6.01764855e-30 -1.51177364e-16]]\n",
      "f0,f1,f2 = [8.422949876398595e-10, 8.422949876404401e-10, 8.422949876245798e-10]\n",
      "d01,d02,d12 = [0.9983027936937644, 0.9983027936934407, 0.9983027936935709]\n",
      "[-0.00030671  0.         -0.00030671  0.         -0.00030671  0.        ]\n"
     ]
    },
    {
     "name": "stderr",
     "output_type": "stream",
     "text": [
      "Progress:  71%|███████   | 71/100 [31:20<13:15, 27.43s/it]"
     ]
    },
    {
     "name": "stdout",
     "output_type": "stream",
     "text": [
      "[[-2.92073299e-05  0.00000000e+00 -2.92073299e-05  0.00000000e+00\n",
      "  -2.92073299e-05  0.00000000e+00]\n",
      " [ 0.00000000e+00  0.00000000e+00  0.00000000e+00  0.00000000e+00\n",
      "   0.00000000e+00  0.00000000e+00]\n",
      " [-2.92073299e-05  0.00000000e+00 -2.92073299e-05  0.00000000e+00\n",
      "  -2.92073299e-05  0.00000000e+00]\n",
      " [ 0.00000000e+00  0.00000000e+00  0.00000000e+00  0.00000000e+00\n",
      "   0.00000000e+00  0.00000000e+00]\n",
      " [-2.92073299e-05  0.00000000e+00 -2.92073299e-05  0.00000000e+00\n",
      "  -2.92073299e-05  0.00000000e+00]\n",
      " [ 0.00000000e+00  0.00000000e+00  0.00000000e+00  0.00000000e+00\n",
      "   0.00000000e+00  0.00000000e+00]]\n",
      "Time to: Calculate Ground State - 1.07s, Get Pauli Ops - 6.68s, Calculate Pauli Expectation Values - 17.33s, Calculate Covariance - 2.14s\n",
      "[[-1.04103686e-16 -6.01042910e-17  1.04103686e-16 -6.01042910e-17\n",
      "  -9.04732016e-30  1.20208582e-16]\n",
      " [-6.01042910e-17 -3.47012286e-17  6.01042910e-17 -3.47012286e-17\n",
      "  -5.22347273e-30  6.94024572e-17]\n",
      " [ 1.04103686e-16  6.01042910e-17 -1.04103686e-16  6.01042910e-17\n",
      "   9.04732016e-30 -1.20208582e-16]\n",
      " [-6.01042910e-17 -3.47012286e-17  6.01042910e-17 -3.47012286e-17\n",
      "  -5.22347273e-30  6.94024572e-17]\n",
      " [-9.04732016e-30 -5.22347273e-30  9.04732016e-30 -5.22347273e-30\n",
      "  -7.86273814e-43  1.04469455e-29]\n",
      " [ 1.20208582e-16  6.94024572e-17 -1.20208582e-16  6.94024572e-17\n",
      "   1.04469455e-29 -1.38804914e-16]]\n",
      "f0,f1,f2 = [6.686297407639812e-10, 6.686297407611989e-10, 6.686297407619346e-10]\n",
      "d01,d02,d12 = [0.9983702976163681, 0.9983702976159957, 0.9983702976161876]\n"
     ]
    },
    {
     "name": "stderr",
     "output_type": "stream",
     "text": [
      "/cluster/home/mskrabulis/miniconda3/envs/quantech/lib/python3.9/site-packages/pyscf/symm/Dmatrix.py:156: RuntimeWarning: invalid value encountered in arccos\n",
      "  gamma = numpy.arccos(yp.dot(c2[1]))\n"
     ]
    },
    {
     "name": "stdout",
     "output_type": "stream",
     "text": [
      "[-0.00022898  0.         -0.00022898  0.         -0.00022898  0.        ]\n"
     ]
    },
    {
     "name": "stderr",
     "output_type": "stream",
     "text": [
      "Progress:  72%|███████▏  | 72/100 [31:47<12:36, 27.03s/it]"
     ]
    },
    {
     "name": "stdout",
     "output_type": "stream",
     "text": [
      "[[7.28926661e-06 0.00000000e+00 7.28926661e-06 0.00000000e+00\n",
      "  7.28926661e-06 0.00000000e+00]\n",
      " [0.00000000e+00 0.00000000e+00 0.00000000e+00 0.00000000e+00\n",
      "  0.00000000e+00 0.00000000e+00]\n",
      " [7.28926661e-06 0.00000000e+00 7.28926661e-06 0.00000000e+00\n",
      "  7.28926661e-06 0.00000000e+00]\n",
      " [0.00000000e+00 0.00000000e+00 0.00000000e+00 0.00000000e+00\n",
      "  0.00000000e+00 0.00000000e+00]\n",
      " [7.28926661e-06 0.00000000e+00 7.28926661e-06 0.00000000e+00\n",
      "  7.28926661e-06 0.00000000e+00]\n",
      " [0.00000000e+00 0.00000000e+00 0.00000000e+00 0.00000000e+00\n",
      "  0.00000000e+00 0.00000000e+00]]\n",
      "Time to: Calculate Ground State - 1.27s, Get Pauli Ops - 5.73s, Calculate Pauli Expectation Values - 17.08s, Calculate Covariance - 2.0s\n",
      "[[ 2.59811330e-17  1.50002141e-17 -2.59811330e-17  1.50002141e-17\n",
      "   3.32630233e-30 -3.00004282e-17]\n",
      " [ 1.50002141e-17  8.66037766e-18 -1.50002141e-17  8.66037766e-18\n",
      "   1.92044154e-30 -1.73207553e-17]\n",
      " [-2.59811330e-17 -1.50002141e-17  2.59811330e-17 -1.50002141e-17\n",
      "  -3.32630233e-30  3.00004282e-17]\n",
      " [ 1.50002141e-17  8.66037766e-18 -1.50002141e-17  8.66037766e-18\n",
      "   1.92044154e-30 -1.73207553e-17]\n",
      " [ 3.32630233e-30  1.92044154e-30 -3.32630233e-30  1.92044154e-30\n",
      "   4.25858533e-43 -3.84088309e-30]\n",
      " [-3.00004282e-17 -1.73207553e-17  3.00004282e-17 -1.73207553e-17\n",
      "  -3.84088309e-30  3.46415107e-17]]\n",
      "f0,f1,f2 = [4.991815122570189e-10, 4.991815122676156e-10, 4.991815122495152e-10]\n",
      "d01,d02,d12 = [0.9982278121356918, 0.9982278121352746, 0.9982278121355258]\n",
      "[-4.36892097e-05  0.00000000e+00 -4.36892096e-05  0.00000000e+00\n",
      " -4.36892097e-05  0.00000000e+00]\n"
     ]
    },
    {
     "name": "stderr",
     "output_type": "stream",
     "text": [
      "Progress:  73%|███████▎  | 73/100 [32:12<11:59, 26.65s/it]"
     ]
    },
    {
     "name": "stdout",
     "output_type": "stream",
     "text": [
      "[[-1.56597809e-05  0.00000000e+00 -1.56597809e-05  0.00000000e+00\n",
      "  -1.56597809e-05  0.00000000e+00]\n",
      " [ 0.00000000e+00  0.00000000e+00  0.00000000e+00  0.00000000e+00\n",
      "   0.00000000e+00  0.00000000e+00]\n",
      " [-1.56597809e-05  0.00000000e+00 -1.56597809e-05  0.00000000e+00\n",
      "  -1.56597809e-05  0.00000000e+00]\n",
      " [ 0.00000000e+00  0.00000000e+00  0.00000000e+00  0.00000000e+00\n",
      "   0.00000000e+00  0.00000000e+00]\n",
      " [-1.56597809e-05  0.00000000e+00 -1.56597809e-05  0.00000000e+00\n",
      "  -1.56597809e-05  0.00000000e+00]\n",
      " [ 0.00000000e+00  0.00000000e+00  0.00000000e+00  0.00000000e+00\n",
      "   0.00000000e+00  0.00000000e+00]]\n",
      "Time to: Calculate Ground State - 1.08s, Get Pauli Ops - 4.85s, Calculate Pauli Expectation Values - 17.55s, Calculate Covariance - 2.27s\n",
      "[[-5.58161571e-17 -3.22254733e-17  5.58161571e-17 -3.22254733e-17\n",
      "  -9.36532371e-30  6.44509466e-17]\n",
      " [-3.22254733e-17 -1.86053857e-17  3.22254733e-17 -1.86053857e-17\n",
      "  -5.40707217e-30  3.72107714e-17]\n",
      " [ 5.58161571e-17  3.22254733e-17 -5.58161571e-17  3.22254733e-17\n",
      "   9.36532371e-30 -6.44509466e-17]\n",
      " [-3.22254733e-17 -1.86053857e-17  3.22254733e-17 -1.86053857e-17\n",
      "  -5.40707217e-30  3.72107714e-17]\n",
      " [-9.36532371e-30 -5.40707217e-30  9.36532371e-30 -5.40707217e-30\n",
      "  -1.57139604e-42  1.08141443e-29]\n",
      " [ 6.44509466e-17  3.72107714e-17 -6.44509466e-17  3.72107714e-17\n",
      "   1.08141443e-29 -7.44215428e-17]]\n",
      "f0,f1,f2 = [9.524247704093674e-11, 9.52424770312462e-11, 9.524247704561237e-11]\n",
      "d01,d02,d12 = [0.9980326739502792, 0.9980326739498142, 0.9980326739501268]\n"
     ]
    },
    {
     "name": "stderr",
     "output_type": "stream",
     "text": [
      "/cluster/home/mskrabulis/miniconda3/envs/quantech/lib/python3.9/site-packages/pyscf/symm/Dmatrix.py:156: RuntimeWarning: invalid value encountered in arccos\n",
      "  gamma = numpy.arccos(yp.dot(c2[1]))\n"
     ]
    },
    {
     "name": "stdout",
     "output_type": "stream",
     "text": [
      "[-8.62301531e-05  0.00000000e+00 -8.62301531e-05  0.00000000e+00\n",
      " -8.62301531e-05  0.00000000e+00]\n"
     ]
    },
    {
     "name": "stderr",
     "output_type": "stream",
     "text": [
      "Progress:  74%|███████▍  | 74/100 [32:40<11:39, 26.89s/it]"
     ]
    },
    {
     "name": "stdout",
     "output_type": "stream",
     "text": [
      "[[2.81574443e-05 0.00000000e+00 2.81574443e-05 0.00000000e+00\n",
      "  2.81574443e-05 0.00000000e+00]\n",
      " [0.00000000e+00 0.00000000e+00 0.00000000e+00 0.00000000e+00\n",
      "  0.00000000e+00 0.00000000e+00]\n",
      " [2.81574443e-05 0.00000000e+00 2.81574443e-05 0.00000000e+00\n",
      "  2.81574443e-05 0.00000000e+00]\n",
      " [0.00000000e+00 0.00000000e+00 0.00000000e+00 0.00000000e+00\n",
      "  0.00000000e+00 0.00000000e+00]\n",
      " [2.81574443e-05 0.00000000e+00 2.81574443e-05 0.00000000e+00\n",
      "  2.81574443e-05 0.00000000e+00]\n",
      " [0.00000000e+00 0.00000000e+00 0.00000000e+00 0.00000000e+00\n",
      "  0.00000000e+00 0.00000000e+00]]\n",
      "Time to: Calculate Ground State - 0.97s, Get Pauli Ops - 7.74s, Calculate Pauli Expectation Values - 16.83s, Calculate Covariance - 1.89s\n",
      "[[ 1.00361579e-16  5.79437845e-17 -1.00361579e-16  5.79437845e-17\n",
      "   2.09544903e-29 -1.15887569e-16]\n",
      " [ 5.79437845e-17  3.34538596e-17 -5.79437845e-17  3.34538596e-17\n",
      "   1.20980806e-29 -6.69077191e-17]\n",
      " [-1.00361579e-16 -5.79437845e-17  1.00361579e-16 -5.79437845e-17\n",
      "  -2.09544903e-29  1.15887569e-16]\n",
      " [ 5.79437845e-17  3.34538596e-17 -5.79437845e-17  3.34538596e-17\n",
      "   1.20980806e-29 -6.69077191e-17]\n",
      " [ 2.09544903e-29  1.20980806e-29 -2.09544903e-29  1.20980806e-29\n",
      "   4.37508725e-42 -2.41961612e-29]\n",
      " [-1.15887569e-16 -6.69077191e-17  1.15887569e-16 -6.69077191e-17\n",
      "  -2.41961612e-29  1.33815438e-16]]\n",
      "f0,f1,f2 = [1.8798173379115872e-10, 1.8798173379190854e-10, 1.8798173377021425e-10]\n",
      "d01,d02,d12 = [0.9977919071017873, 0.9977919071012796, 0.9977919071016533]\n",
      "[-0.00029378  0.         -0.00029378  0.         -0.00029378  0.        ]\n"
     ]
    },
    {
     "name": "stderr",
     "output_type": "stream",
     "text": [
      "Progress:  75%|███████▌  | 75/100 [33:05<11:00, 26.41s/it]"
     ]
    },
    {
     "name": "stdout",
     "output_type": "stream",
     "text": [
      "[[2.50588952e-05 0.00000000e+00 2.50588952e-05 0.00000000e+00\n",
      "  2.50588952e-05 0.00000000e+00]\n",
      " [0.00000000e+00 0.00000000e+00 0.00000000e+00 0.00000000e+00\n",
      "  0.00000000e+00 0.00000000e+00]\n",
      " [2.50588952e-05 0.00000000e+00 2.50588952e-05 0.00000000e+00\n",
      "  2.50588952e-05 0.00000000e+00]\n",
      " [0.00000000e+00 0.00000000e+00 0.00000000e+00 0.00000000e+00\n",
      "  0.00000000e+00 0.00000000e+00]\n",
      " [2.50588952e-05 0.00000000e+00 2.50588952e-05 0.00000000e+00\n",
      "  2.50588952e-05 0.00000000e+00]\n",
      " [0.00000000e+00 0.00000000e+00 0.00000000e+00 0.00000000e+00\n",
      "  0.00000000e+00 0.00000000e+00]]\n",
      "Time to: Calculate Ground State - 0.83s, Get Pauli Ops - 5.01s, Calculate Pauli Expectation Values - 17.18s, Calculate Covariance - 2.28s\n",
      "[[ 8.93174203e-17  5.15674366e-17 -8.93174203e-17  5.15674366e-17\n",
      "   2.23026486e-29 -1.03134873e-16]\n",
      " [ 5.15674366e-17  2.97724734e-17 -5.15674366e-17  2.97724734e-17\n",
      "   1.28764402e-29 -5.95449469e-17]\n",
      " [-8.93174203e-17 -5.15674366e-17  8.93174203e-17 -5.15674367e-17\n",
      "  -2.23026486e-29  1.03134873e-16]\n",
      " [ 5.15674366e-17  2.97724734e-17 -5.15674367e-17  2.97724734e-17\n",
      "   1.28764402e-29 -5.95449469e-17]\n",
      " [ 2.23026486e-29  1.28764402e-29 -2.23026486e-29  1.28764402e-29\n",
      "   5.56899352e-42 -2.57528804e-29]\n",
      " [-1.03134873e-16 -5.95449469e-17  1.03134873e-16 -5.95449469e-17\n",
      "  -2.57528804e-29  1.19089894e-16]]\n",
      "f0,f1,f2 = [6.404479404533039e-10, 6.404479404621486e-10, 6.4044794044733e-10]\n",
      "d01,d02,d12 = [0.9973209731165702, 0.9973209731160221, 0.9973209731164555]\n",
      "[-0.00014323  0.         -0.00014323  0.         -0.00014323  0.        ]\n"
     ]
    },
    {
     "name": "stderr",
     "output_type": "stream",
     "text": [
      "Progress:  76%|███████▌  | 76/100 [33:30<10:26, 26.11s/it]"
     ]
    },
    {
     "name": "stdout",
     "output_type": "stream",
     "text": [
      "[[-1.90918497e-05  0.00000000e+00 -1.90918497e-05  0.00000000e+00\n",
      "  -1.90918497e-05  0.00000000e+00]\n",
      " [ 0.00000000e+00  0.00000000e+00  0.00000000e+00  0.00000000e+00\n",
      "   0.00000000e+00  0.00000000e+00]\n",
      " [-1.90918497e-05  0.00000000e+00 -1.90918497e-05  0.00000000e+00\n",
      "  -1.90918497e-05  0.00000000e+00]\n",
      " [ 0.00000000e+00  0.00000000e+00  0.00000000e+00  0.00000000e+00\n",
      "   0.00000000e+00  0.00000000e+00]\n",
      " [-1.90918497e-05  0.00000000e+00 -1.90918497e-05  0.00000000e+00\n",
      "  -1.90918497e-05  0.00000000e+00]\n",
      " [ 0.00000000e+00  0.00000000e+00  0.00000000e+00  0.00000000e+00\n",
      "   0.00000000e+00  0.00000000e+00]]\n",
      "Time to: Calculate Ground State - 1.08s, Get Pauli Ops - 4.41s, Calculate Pauli Expectation Values - 17.91s, Calculate Covariance - 1.99s\n",
      "[[-6.80490797e-17 -3.92881545e-17  6.80490797e-17 -3.92881545e-17\n",
      "  -1.97135224e-29  7.85763090e-17]\n",
      " [-3.92881545e-17 -2.26830266e-17  3.92881545e-17 -2.26830266e-17\n",
      "  -1.13816075e-29  4.53660532e-17]\n",
      " [ 6.80490797e-17  3.92881545e-17 -6.80490797e-17  3.92881545e-17\n",
      "   1.97135224e-29 -7.85763090e-17]\n",
      " [-3.92881545e-17 -2.26830266e-17  3.92881545e-17 -2.26830266e-17\n",
      "  -1.13816075e-29  4.53660532e-17]\n",
      " [-1.97135224e-29 -1.13816075e-29  1.97135224e-29 -1.13816075e-29\n",
      "  -5.71092170e-42  2.27632149e-29]\n",
      " [ 7.85763090e-17  4.53660532e-17 -7.85763090e-17  4.53660532e-17\n",
      "   2.27632149e-29 -9.07321063e-17]]\n",
      "f0,f1,f2 = [3.122441764344165e-10, 3.122441764418375e-10, 3.122441764306132e-10]\n",
      "d01,d02,d12 = [0.9966675523326554, 0.9966675523320693, 0.9966675523325607]\n",
      "[-0.00037667  0.         -0.00037667  0.         -0.00037667  0.        ]\n"
     ]
    },
    {
     "name": "stderr",
     "output_type": "stream",
     "text": [
      "Progress:  77%|███████▋  | 77/100 [33:56<09:57, 25.99s/it]"
     ]
    },
    {
     "name": "stdout",
     "output_type": "stream",
     "text": [
      "[[-1.07483118e-05  0.00000000e+00 -1.07483118e-05  0.00000000e+00\n",
      "  -1.07483118e-05  0.00000000e+00]\n",
      " [ 0.00000000e+00  0.00000000e+00  0.00000000e+00  0.00000000e+00\n",
      "   0.00000000e+00  0.00000000e+00]\n",
      " [-1.07483118e-05  0.00000000e+00 -1.07483118e-05  0.00000000e+00\n",
      "  -1.07483118e-05  0.00000000e+00]\n",
      " [ 0.00000000e+00  0.00000000e+00  0.00000000e+00  0.00000000e+00\n",
      "   0.00000000e+00  0.00000000e+00]\n",
      " [-1.07483118e-05  0.00000000e+00 -1.07483118e-05  0.00000000e+00\n",
      "  -1.07483118e-05  0.00000000e+00]\n",
      " [ 0.00000000e+00  0.00000000e+00  0.00000000e+00  0.00000000e+00\n",
      "   0.00000000e+00  0.00000000e+00]]\n",
      "Time to: Calculate Ground State - 1.07s, Get Pauli Ops - 4.96s, Calculate Pauli Expectation Values - 17.29s, Calculate Covariance - 2.38s\n",
      "[[-3.83102079e-17 -2.21184088e-17  3.83102079e-17 -2.21184088e-17\n",
      "  -1.25916575e-29  4.42368177e-17]\n",
      " [-2.21184088e-17 -1.27700693e-17  2.21184088e-17 -1.27700693e-17\n",
      "  -7.26979683e-30  2.55401386e-17]\n",
      " [ 3.83102079e-17  2.21184088e-17 -3.83102079e-17  2.21184088e-17\n",
      "   1.25916575e-29 -4.42368177e-17]\n",
      " [-2.21184088e-17 -1.27700693e-17  2.21184088e-17 -1.27700693e-17\n",
      "  -7.26979683e-30  2.55401386e-17]\n",
      " [-1.25916575e-29 -7.26979683e-30  1.25916575e-29 -7.26979683e-30\n",
      "  -4.13857942e-42  1.45395937e-29]\n",
      " [ 4.42368177e-17  2.55401386e-17 -4.42368177e-17  2.55401386e-17\n",
      "   1.45395937e-29 -5.10802772e-17]]\n",
      "f0,f1,f2 = [8.211303959948947e-10, 8.211303959906974e-10, 8.211303959867146e-10]\n",
      "d01,d02,d12 = [0.9956321155990271, 0.9956321155984034, 0.9956321155989541]\n",
      "[-0.00024595  0.         -0.00024595  0.         -0.00024595  0.        ]\n"
     ]
    },
    {
     "name": "stderr",
     "output_type": "stream",
     "text": [
      "Progress:  78%|███████▊  | 78/100 [34:22<09:28, 25.85s/it]"
     ]
    },
    {
     "name": "stdout",
     "output_type": "stream",
     "text": [
      "[[-8.15755625e-06  0.00000000e+00 -8.15755625e-06  0.00000000e+00\n",
      "  -8.15755625e-06  0.00000000e+00]\n",
      " [ 0.00000000e+00  0.00000000e+00  0.00000000e+00  0.00000000e+00\n",
      "   0.00000000e+00  0.00000000e+00]\n",
      " [-8.15755625e-06  0.00000000e+00 -8.15755625e-06  0.00000000e+00\n",
      "  -8.15755625e-06  0.00000000e+00]\n",
      " [ 0.00000000e+00  0.00000000e+00  0.00000000e+00  0.00000000e+00\n",
      "   0.00000000e+00  0.00000000e+00]\n",
      " [-8.15755625e-06  0.00000000e+00 -8.15755625e-06  0.00000000e+00\n",
      "  -8.15755625e-06  0.00000000e+00]\n",
      " [ 0.00000000e+00  0.00000000e+00  0.00000000e+00  0.00000000e+00\n",
      "   0.00000000e+00  0.00000000e+00]]\n",
      "Time to: Calculate Ground State - 1.08s, Get Pauli Ops - 5.35s, Calculate Pauli Expectation Values - 17.17s, Calculate Covariance - 1.9s\n",
      "[[-2.90759777e-17 -1.67870236e-17  2.90759777e-17 -1.67870236e-17\n",
      "  -1.07212297e-29  3.35740472e-17]\n",
      " [-1.67870236e-17 -9.69199258e-18  1.67870236e-17 -9.69199258e-18\n",
      "  -6.18990485e-30  1.93839852e-17]\n",
      " [ 2.90759777e-17  1.67870236e-17 -2.90759777e-17  1.67870236e-17\n",
      "   1.07212297e-29 -3.35740472e-17]\n",
      " [-1.67870236e-17 -9.69199258e-18  1.67870236e-17 -9.69199258e-18\n",
      "  -6.18990485e-30  1.93839852e-17]\n",
      " [-1.07212297e-29 -6.18990485e-30  1.07212297e-29 -6.18990485e-30\n",
      "  -3.95325540e-42  1.23798097e-29]\n",
      " [ 3.35740472e-17  1.93839852e-17 -3.35740472e-17  1.93839852e-17\n",
      "   1.23798097e-29 -3.87679703e-17]]\n",
      "f0,f1,f2 = [5.361721636504879e-10, 5.361721636381366e-10, 5.361721636397129e-10]\n",
      "d01,d02,d12 = [0.9943244985534798, 0.994324498552818, 0.9943244985534296]\n",
      "[-0.00018667  0.         -0.00018667  0.         -0.00018667  0.        ]\n"
     ]
    },
    {
     "name": "stderr",
     "output_type": "stream",
     "text": [
      "Progress:  79%|███████▉  | 79/100 [34:50<09:16, 26.51s/it]"
     ]
    },
    {
     "name": "stdout",
     "output_type": "stream",
     "text": [
      "[[2.79910496e-06 0.00000000e+00 2.79910496e-06 0.00000000e+00\n",
      "  2.79910496e-06 0.00000000e+00]\n",
      " [0.00000000e+00 0.00000000e+00 0.00000000e+00 0.00000000e+00\n",
      "  0.00000000e+00 0.00000000e+00]\n",
      " [2.79910496e-06 0.00000000e+00 2.79910496e-06 0.00000000e+00\n",
      "  2.79910496e-06 0.00000000e+00]\n",
      " [0.00000000e+00 0.00000000e+00 0.00000000e+00 0.00000000e+00\n",
      "  0.00000000e+00 0.00000000e+00]\n",
      " [2.79910496e-06 0.00000000e+00 2.79910496e-06 0.00000000e+00\n",
      "  2.79910496e-06 0.00000000e+00]\n",
      " [0.00000000e+00 0.00000000e+00 0.00000000e+00 0.00000000e+00\n",
      "  0.00000000e+00 0.00000000e+00]]\n",
      "Time to: Calculate Ground State - 1.1s, Get Pauli Ops - 7.78s, Calculate Pauli Expectation Values - 17.32s, Calculate Covariance - 1.86s\n",
      "[[ 9.97684981e-18  5.76013693e-18 -9.97684981e-18  5.76013693e-18\n",
      "   4.08970717e-30 -1.15202738e-17]\n",
      " [ 5.76013693e-18  3.32561660e-18 -5.76013693e-18  3.32561660e-18\n",
      "   2.36119353e-30 -6.65123321e-18]\n",
      " [-9.97684981e-18 -5.76013693e-18  9.97684981e-18 -5.76013693e-18\n",
      "  -4.08970717e-30  1.15202738e-17]\n",
      " [ 5.76013693e-18  3.32561660e-18 -5.76013693e-18  3.32561660e-18\n",
      "   2.36119353e-30 -6.65123321e-18]\n",
      " [ 4.08970717e-30  2.36119353e-30 -4.08970717e-30  2.36119353e-30\n",
      "   1.67645149e-42 -4.72238707e-30]\n",
      " [-1.15202738e-17 -6.65123321e-18  1.15202738e-17 -6.65123321e-18\n",
      "  -4.72238707e-30  1.33024664e-17]]\n",
      "f0,f1,f2 = [4.069468514534205e-10, 4.0694685145754725e-10, 4.0694685143397183e-10]\n",
      "d01,d02,d12 = [0.9928696093639089, 0.9928696093632128, 0.9928696093638835]\n",
      "[-0.00012611  0.         -0.00012611  0.         -0.00012611  0.        ]\n"
     ]
    },
    {
     "name": "stderr",
     "output_type": "stream",
     "text": [
      "Progress:  80%|████████  | 80/100 [35:15<08:42, 26.10s/it]"
     ]
    },
    {
     "name": "stdout",
     "output_type": "stream",
     "text": [
      "[[1.14347416e-05 0.00000000e+00 1.14347416e-05 0.00000000e+00\n",
      "  1.14347416e-05 0.00000000e+00]\n",
      " [0.00000000e+00 0.00000000e+00 0.00000000e+00 0.00000000e+00\n",
      "  0.00000000e+00 0.00000000e+00]\n",
      " [1.14347416e-05 0.00000000e+00 1.14347416e-05 0.00000000e+00\n",
      "  1.14347416e-05 0.00000000e+00]\n",
      " [0.00000000e+00 0.00000000e+00 0.00000000e+00 0.00000000e+00\n",
      "  0.00000000e+00 0.00000000e+00]\n",
      " [1.14347416e-05 0.00000000e+00 1.14347416e-05 0.00000000e+00\n",
      "  1.14347416e-05 0.00000000e+00]\n",
      " [0.00000000e+00 0.00000000e+00 0.00000000e+00 0.00000000e+00\n",
      "  0.00000000e+00 0.00000000e+00]]\n",
      "Time to: Calculate Ground State - 0.85s, Get Pauli Ops - 4.9s, Calculate Pauli Expectation Values - 17.24s, Calculate Covariance - 2.15s\n",
      "[[ 4.07568495e-17  2.35309780e-17 -4.07568495e-17  2.35309781e-17\n",
      "   1.83502148e-29 -4.70619561e-17]\n",
      " [ 2.35309780e-17  1.35856165e-17 -2.35309781e-17  1.35856165e-17\n",
      "   1.05945014e-29 -2.71712330e-17]\n",
      " [-4.07568495e-17 -2.35309781e-17  4.07568495e-17 -2.35309781e-17\n",
      "  -1.83502148e-29  4.70619561e-17]\n",
      " [ 2.35309781e-17  1.35856165e-17 -2.35309781e-17  1.35856165e-17\n",
      "   1.05945014e-29 -2.71712330e-17]\n",
      " [ 1.83502148e-29  1.05945014e-29 -1.83502148e-29  1.05945014e-29\n",
      "   8.26193355e-42 -2.11890029e-29]\n",
      " [-4.70619561e-17 -2.71712330e-17  4.70619561e-17 -2.71712330e-17\n",
      "  -2.11890029e-29  5.43424660e-17]]\n",
      "f0,f1,f2 = [2.749148024416747e-10, 2.7491480245520737e-10, 2.7491480244777877e-10]\n",
      "d01,d02,d12 = [0.991398640154111, 0.9913986401533814, 0.99139864015411]\n",
      "[-7.46160005e-05  0.00000000e+00 -7.46160005e-05  0.00000000e+00\n",
      " -7.46160005e-05  0.00000000e+00]\n"
     ]
    },
    {
     "name": "stderr",
     "output_type": "stream",
     "text": [
      "Progress:  81%|████████  | 81/100 [35:40<08:10, 25.79s/it]"
     ]
    },
    {
     "name": "stdout",
     "output_type": "stream",
     "text": [
      "[[-3.09808196e-05  0.00000000e+00 -3.09808196e-05  0.00000000e+00\n",
      "  -3.09808196e-05  0.00000000e+00]\n",
      " [ 0.00000000e+00  0.00000000e+00  0.00000000e+00  0.00000000e+00\n",
      "   0.00000000e+00  0.00000000e+00]\n",
      " [-3.09808196e-05  0.00000000e+00 -3.09808196e-05  0.00000000e+00\n",
      "  -3.09808196e-05  0.00000000e+00]\n",
      " [ 0.00000000e+00  0.00000000e+00  0.00000000e+00  0.00000000e+00\n",
      "   0.00000000e+00  0.00000000e+00]\n",
      " [-3.09808196e-05  0.00000000e+00 -3.09808196e-05  0.00000000e+00\n",
      "  -3.09808196e-05  0.00000000e+00]\n",
      " [ 0.00000000e+00  0.00000000e+00  0.00000000e+00  0.00000000e+00\n",
      "   0.00000000e+00  0.00000000e+00]]\n",
      "Time to: Calculate Ground State - 0.83s, Get Pauli Ops - 4.87s, Calculate Pauli Expectation Values - 17.5s, Calculate Covariance - 1.86s\n",
      "[[-1.10424935e-16 -6.37538662e-17  1.10424935e-16 -6.37538662e-17\n",
      "  -5.40878842e-29  1.27507732e-16]\n",
      " [-6.37538662e-17 -3.68083118e-17  6.37538662e-17 -3.68083118e-17\n",
      "  -3.12276545e-29  7.36166236e-17]\n",
      " [ 1.10424935e-16  6.37538662e-17 -1.10424935e-16  6.37538662e-17\n",
      "   5.40878842e-29 -1.27507732e-16]\n",
      " [-6.37538662e-17 -3.68083118e-17  6.37538662e-17 -3.68083118e-17\n",
      "  -3.12276545e-29  7.36166236e-17]\n",
      " [-5.40878842e-29 -3.12276545e-29  5.40878842e-29 -3.12276545e-29\n",
      "  -2.64931032e-41  6.24553090e-29]\n",
      " [ 1.27507732e-16  7.36166236e-17 -1.27507732e-16  7.36166236e-17\n",
      "   6.24553090e-29 -1.47233247e-16]]\n",
      "f0,f1,f2 = [1.6266288101136e-10, 1.6266288103243632e-10, 1.6266288101729773e-10]\n",
      "d01,d02,d12 = [0.9895918136507375, 0.9895918136499786, 0.9895918136507589]\n"
     ]
    },
    {
     "name": "stderr",
     "output_type": "stream",
     "text": [
      "/cluster/home/mskrabulis/miniconda3/envs/quantech/lib/python3.9/site-packages/pyscf/symm/Dmatrix.py:156: RuntimeWarning: invalid value encountered in arccos\n",
      "  gamma = numpy.arccos(yp.dot(c2[1]))\n",
      "/cluster/home/mskrabulis/miniconda3/envs/quantech/lib/python3.9/site-packages/pyscf/symm/Dmatrix.py:156: RuntimeWarning: invalid value encountered in arccos\n",
      "  gamma = numpy.arccos(yp.dot(c2[1]))\n"
     ]
    },
    {
     "name": "stdout",
     "output_type": "stream",
     "text": [
      "[-0.00011532  0.         -0.00011532  0.         -0.00011532  0.        ]\n"
     ]
    },
    {
     "name": "stderr",
     "output_type": "stream",
     "text": [
      "Progress:  82%|████████▏ | 82/100 [36:05<07:42, 25.68s/it]"
     ]
    },
    {
     "name": "stdout",
     "output_type": "stream",
     "text": [
      "[[3.51122349e-05 0.00000000e+00 3.51122349e-05 0.00000000e+00\n",
      "  3.51122349e-05 0.00000000e+00]\n",
      " [0.00000000e+00 0.00000000e+00 0.00000000e+00 0.00000000e+00\n",
      "  0.00000000e+00 0.00000000e+00]\n",
      " [3.51122349e-05 0.00000000e+00 3.51122349e-05 0.00000000e+00\n",
      "  3.51122349e-05 0.00000000e+00]\n",
      " [0.00000000e+00 0.00000000e+00 0.00000000e+00 0.00000000e+00\n",
      "  0.00000000e+00 0.00000000e+00]\n",
      " [3.51122349e-05 0.00000000e+00 3.51122349e-05 0.00000000e+00\n",
      "  3.51122349e-05 0.00000000e+00]\n",
      " [0.00000000e+00 0.00000000e+00 0.00000000e+00 0.00000000e+00\n",
      "  0.00000000e+00 0.00000000e+00]]\n",
      "Time to: Calculate Ground State - 0.84s, Get Pauli Ops - 4.67s, Calculate Pauli Expectation Values - 17.7s, Calculate Covariance - 2.2s\n",
      "[[ 1.25150539e-16  7.22556974e-17 -1.25150539e-16  7.22556974e-17\n",
      "   6.57719948e-29 -1.44511395e-16]\n",
      " [ 7.22556974e-17  4.17168463e-17 -7.22556974e-17  4.17168463e-17\n",
      "   3.79734789e-29 -8.34336927e-17]\n",
      " [-1.25150539e-16 -7.22556974e-17  1.25150539e-16 -7.22556974e-17\n",
      "  -6.57719948e-29  1.44511395e-16]\n",
      " [ 7.22556974e-17  4.17168463e-17 -7.22556974e-17  4.17168463e-17\n",
      "   3.79734789e-29 -8.34336927e-17]\n",
      " [ 6.57719948e-29  3.79734789e-29 -6.57719948e-29  3.79734789e-29\n",
      "   3.45660141e-41 -7.59469578e-29]\n",
      " [-1.44511395e-16 -8.34336927e-17  1.44511395e-16 -8.34336927e-17\n",
      "  -7.59469578e-29  1.66867385e-16]]\n",
      "f0,f1,f2 = [2.513896045404996e-10, 2.5138960455320263e-10, 2.51389604545826e-10]\n",
      "d01,d02,d12 = [0.9880543061611557, 0.9880543061603705, 0.9880543061611995]\n",
      "[-0.00011313  0.         -0.00011313  0.         -0.00011313  0.        ]\n"
     ]
    },
    {
     "name": "stderr",
     "output_type": "stream",
     "text": [
      "Progress:  83%|████████▎ | 83/100 [36:29<07:06, 25.11s/it]"
     ]
    },
    {
     "name": "stdout",
     "output_type": "stream",
     "text": [
      "[[3.73154054e-05 0.00000000e+00 3.73154054e-05 0.00000000e+00\n",
      "  3.73154054e-05 0.00000000e+00]\n",
      " [0.00000000e+00 0.00000000e+00 0.00000000e+00 0.00000000e+00\n",
      "  0.00000000e+00 0.00000000e+00]\n",
      " [3.73154054e-05 0.00000000e+00 3.73154054e-05 0.00000000e+00\n",
      "  3.73154054e-05 0.00000000e+00]\n",
      " [0.00000000e+00 0.00000000e+00 0.00000000e+00 0.00000000e+00\n",
      "  0.00000000e+00 0.00000000e+00]\n",
      " [3.73154054e-05 0.00000000e+00 3.73154054e-05 0.00000000e+00\n",
      "  3.73154054e-05 0.00000000e+00]\n",
      " [0.00000000e+00 0.00000000e+00 0.00000000e+00 0.00000000e+00\n",
      "  0.00000000e+00 0.00000000e+00]]\n",
      "Time to: Calculate Ground State - 0.82s, Get Pauli Ops - 4.13s, Calculate Pauli Expectation Values - 17.01s, Calculate Covariance - 1.82s\n",
      "[[ 1.33003300e-16  7.67894908e-17 -1.33003300e-16  7.67894908e-17\n",
      "   7.44064623e-29 -1.53578982e-16]\n",
      " [ 7.67894908e-17  4.43344332e-17 -7.67894908e-17  4.43344332e-17\n",
      "   4.29585911e-29 -8.86688663e-17]\n",
      " [-1.33003300e-16 -7.67894908e-17  1.33003300e-16 -7.67894908e-17\n",
      "  -7.44064623e-29  1.53578982e-16]\n",
      " [ 7.67894908e-17  4.43344332e-17 -7.67894908e-17  4.43344332e-17\n",
      "   4.29585911e-29 -8.86688663e-17]\n",
      " [ 7.44064623e-29  4.29585911e-29 -7.44064623e-29  4.29585911e-29\n",
      "   4.16254458e-41 -8.59171821e-29]\n",
      " [-1.53578982e-16 -8.86688663e-17  1.53578982e-16 -8.86688663e-17\n",
      "  -8.59171821e-29  1.77337733e-16]]\n",
      "f0,f1,f2 = [2.466286552110603e-10, 2.466286552173161e-10, 2.4662865520549923e-10]\n",
      "d01,d02,d12 = [0.9867523522021822, 0.9867523522013724, 0.9867523522022493]\n"
     ]
    },
    {
     "name": "stderr",
     "output_type": "stream",
     "text": [
      "/cluster/home/mskrabulis/miniconda3/envs/quantech/lib/python3.9/site-packages/pyscf/symm/Dmatrix.py:156: RuntimeWarning: invalid value encountered in arccos\n",
      "  gamma = numpy.arccos(yp.dot(c2[1]))\n"
     ]
    },
    {
     "name": "stdout",
     "output_type": "stream",
     "text": [
      "[0.00011461 0.         0.00011461 0.         0.00011461 0.        ]\n"
     ]
    },
    {
     "name": "stderr",
     "output_type": "stream",
     "text": [
      "Progress:  84%|████████▍ | 84/100 [36:54<06:39, 24.95s/it]"
     ]
    },
    {
     "name": "stdout",
     "output_type": "stream",
     "text": [
      "[[4.50791221e-05 0.00000000e+00 4.50791221e-05 0.00000000e+00\n",
      "  4.50791221e-05 0.00000000e+00]\n",
      " [0.00000000e+00 0.00000000e+00 0.00000000e+00 0.00000000e+00\n",
      "  0.00000000e+00 0.00000000e+00]\n",
      " [4.50791221e-05 0.00000000e+00 4.50791221e-05 0.00000000e+00\n",
      "  4.50791221e-05 0.00000000e+00]\n",
      " [0.00000000e+00 0.00000000e+00 0.00000000e+00 0.00000000e+00\n",
      "  0.00000000e+00 0.00000000e+00]\n",
      " [4.50791221e-05 0.00000000e+00 4.50791221e-05 0.00000000e+00\n",
      "  4.50791221e-05 0.00000000e+00]\n",
      " [0.00000000e+00 0.00000000e+00 0.00000000e+00 0.00000000e+00\n",
      "  0.00000000e+00 0.00000000e+00]]\n",
      "Time to: Calculate Ground State - 0.89s, Get Pauli Ops - 4.65s, Calculate Pauli Expectation Values - 16.87s, Calculate Covariance - 2.16s\n",
      "[[ 1.60675515e-16  9.27660518e-17 -1.60675515e-16  9.27660518e-17\n",
      "   9.51904048e-29 -1.85532104e-16]\n",
      " [ 9.27660518e-17  5.35585050e-17 -9.27660518e-17  5.35585050e-17\n",
      "   5.49582058e-29 -1.07117010e-16]\n",
      " [-1.60675515e-16 -9.27660518e-17  1.60675515e-16 -9.27660518e-17\n",
      "  -9.51904048e-29  1.85532104e-16]\n",
      " [ 9.27660518e-17  5.35585050e-17 -9.27660518e-17  5.35585050e-17\n",
      "   5.49582058e-29 -1.07117010e-16]\n",
      " [ 9.51904048e-29  5.49582058e-29 -9.51904048e-29  5.49582058e-29\n",
      "   5.63944865e-41 -1.09916412e-28]\n",
      " [-1.85532104e-16 -1.07117010e-16  1.85532104e-16 -1.07117010e-16\n",
      "  -1.09916412e-28  2.14234020e-16]]\n",
      "f0,f1,f2 = [2.4984910058257596e-10, 2.498491005656083e-10, 2.498491005829097e-10]\n",
      "d01,d02,d12 = [0.9858996848547317, 0.9858996848539007, 0.9858996848548222]\n"
     ]
    },
    {
     "name": "stderr",
     "output_type": "stream",
     "text": [
      "/cluster/home/mskrabulis/miniconda3/envs/quantech/lib/python3.9/site-packages/pyscf/symm/Dmatrix.py:156: RuntimeWarning: invalid value encountered in arccos\n",
      "  gamma = numpy.arccos(yp.dot(c2[1]))\n"
     ]
    },
    {
     "name": "stdout",
     "output_type": "stream",
     "text": [
      "[-9.67787294e-05  0.00000000e+00 -9.67787294e-05  0.00000000e+00\n",
      " -9.67787294e-05  0.00000000e+00]\n"
     ]
    },
    {
     "name": "stderr",
     "output_type": "stream",
     "text": [
      "Progress:  85%|████████▌ | 85/100 [37:19<06:16, 25.07s/it]"
     ]
    },
    {
     "name": "stdout",
     "output_type": "stream",
     "text": [
      "[[3.51556119e-05 0.00000000e+00 3.51556119e-05 0.00000000e+00\n",
      "  3.51556119e-05 0.00000000e+00]\n",
      " [0.00000000e+00 0.00000000e+00 0.00000000e+00 0.00000000e+00\n",
      "  0.00000000e+00 0.00000000e+00]\n",
      " [3.51556119e-05 0.00000000e+00 3.51556119e-05 0.00000000e+00\n",
      "  3.51556119e-05 0.00000000e+00]\n",
      " [0.00000000e+00 0.00000000e+00 0.00000000e+00 0.00000000e+00\n",
      "  0.00000000e+00 0.00000000e+00]\n",
      " [3.51556119e-05 0.00000000e+00 3.51556119e-05 0.00000000e+00\n",
      "  3.51556119e-05 0.00000000e+00]\n",
      " [0.00000000e+00 0.00000000e+00 0.00000000e+00 0.00000000e+00\n",
      "  0.00000000e+00 0.00000000e+00]]\n",
      "Time to: Calculate Ground State - 1.11s, Get Pauli Ops - 4.52s, Calculate Pauli Expectation Values - 17.58s, Calculate Covariance - 2.14s\n",
      "[[ 1.25305148e-16  7.23449606e-17 -1.25305148e-16  7.23449606e-17\n",
      "   7.80728335e-29 -1.44689921e-16]\n",
      " [ 7.23449606e-17  4.17683825e-17 -7.23449606e-17  4.17683825e-17\n",
      "   4.50753715e-29 -8.35367650e-17]\n",
      " [-1.25305148e-16 -7.23449606e-17  1.25305148e-16 -7.23449606e-17\n",
      "  -7.80728335e-29  1.44689921e-16]\n",
      " [ 7.23449606e-17  4.17683825e-17 -7.23449606e-17  4.17683825e-17\n",
      "   4.50753715e-29 -8.35367650e-17]\n",
      " [ 7.80728335e-29  4.50753715e-29 -7.80728335e-29  4.50753715e-29\n",
      "   4.86441895e-41 -9.01507429e-29]\n",
      " [-1.44689921e-16 -8.35367650e-17  1.44689921e-16 -8.35367650e-17\n",
      "  -9.01507429e-29  1.67073530e-16]]\n",
      "f0,f1,f2 = [2.109776301256e-10, 2.1097763014805956e-10, 2.1097763012130432e-10]\n",
      "d01,d02,d12 = [0.9851360210697246, 0.9851360210688771, 0.9851360210698391]\n"
     ]
    },
    {
     "name": "stderr",
     "output_type": "stream",
     "text": [
      "/cluster/home/mskrabulis/miniconda3/envs/quantech/lib/python3.9/site-packages/pyscf/symm/Dmatrix.py:156: RuntimeWarning: invalid value encountered in arccos\n",
      "  gamma = numpy.arccos(yp.dot(c2[1]))\n",
      "/cluster/home/mskrabulis/miniconda3/envs/quantech/lib/python3.9/site-packages/pyscf/symm/Dmatrix.py:156: RuntimeWarning: invalid value encountered in arccos\n",
      "  gamma = numpy.arccos(yp.dot(c2[1]))\n"
     ]
    },
    {
     "name": "stdout",
     "output_type": "stream",
     "text": [
      "[0.00020382 0.         0.00020382 0.         0.00020382 0.        ]\n"
     ]
    },
    {
     "name": "stderr",
     "output_type": "stream",
     "text": [
      "Progress:  86%|████████▌ | 86/100 [37:47<06:04, 26.03s/it]"
     ]
    },
    {
     "name": "stdout",
     "output_type": "stream",
     "text": [
      "[[1.14909956e-05 0.00000000e+00 1.14909956e-05 0.00000000e+00\n",
      "  1.14909956e-05 0.00000000e+00]\n",
      " [0.00000000e+00 0.00000000e+00 0.00000000e+00 0.00000000e+00\n",
      "  0.00000000e+00 0.00000000e+00]\n",
      " [1.14909956e-05 0.00000000e+00 1.14909956e-05 0.00000000e+00\n",
      "  1.14909956e-05 0.00000000e+00]\n",
      " [0.00000000e+00 0.00000000e+00 0.00000000e+00 0.00000000e+00\n",
      "  0.00000000e+00 0.00000000e+00]\n",
      " [1.14909956e-05 0.00000000e+00 1.14909956e-05 0.00000000e+00\n",
      "  1.14909956e-05 0.00000000e+00]\n",
      " [0.00000000e+00 0.00000000e+00 0.00000000e+00 0.00000000e+00\n",
      "  0.00000000e+00 0.00000000e+00]]\n",
      "Time to: Calculate Ground State - 1.37s, Get Pauli Ops - 7.41s, Calculate Pauli Expectation Values - 17.58s, Calculate Covariance - 1.92s\n",
      "[[ 4.09573557e-17  2.36467403e-17 -4.09573557e-17  2.36467403e-17\n",
      "   2.66606239e-29 -4.72934806e-17]\n",
      " [ 2.36467403e-17  1.36524519e-17 -2.36467403e-17  1.36524519e-17\n",
      "   1.53925184e-29 -2.73049038e-17]\n",
      " [-4.09573557e-17 -2.36467403e-17  4.09573557e-17 -2.36467403e-17\n",
      "  -2.66606239e-29  4.72934806e-17]\n",
      " [ 2.36467403e-17  1.36524519e-17 -2.36467403e-17  1.36524519e-17\n",
      "   1.53925184e-29 -2.73049038e-17]\n",
      " [ 2.66606239e-29  1.53925184e-29 -2.66606239e-29  1.53925184e-29\n",
      "   1.73543642e-41 -3.07850368e-29]\n",
      " [-4.72934806e-17 -2.73049038e-17  4.72934806e-17 -2.73049038e-17\n",
      "  -3.07850368e-29  5.46098075e-17]]\n",
      "f0,f1,f2 = [4.443172596125162e-10, 4.4431725957256845e-10, 4.4431725960754485e-10]\n",
      "d01,d02,d12 = [0.9846083657247285, 0.9846083657238711, 0.9846083657248653]\n"
     ]
    },
    {
     "name": "stderr",
     "output_type": "stream",
     "text": [
      "/cluster/home/mskrabulis/miniconda3/envs/quantech/lib/python3.9/site-packages/pyscf/symm/Dmatrix.py:156: RuntimeWarning: invalid value encountered in arccos\n",
      "  gamma = numpy.arccos(yp.dot(c2[1]))\n"
     ]
    },
    {
     "name": "stdout",
     "output_type": "stream",
     "text": [
      "[5.25509717e-05 0.00000000e+00 5.25509717e-05 0.00000000e+00\n",
      " 5.25509717e-05 0.00000000e+00]\n"
     ]
    },
    {
     "name": "stderr",
     "output_type": "stream",
     "text": [
      "Progress:  87%|████████▋ | 87/100 [38:15<05:46, 26.66s/it]"
     ]
    },
    {
     "name": "stdout",
     "output_type": "stream",
     "text": [
      "[[-1.86053797e-05  0.00000000e+00 -1.86053797e-05  0.00000000e+00\n",
      "  -1.86053797e-05  0.00000000e+00]\n",
      " [ 0.00000000e+00  0.00000000e+00  0.00000000e+00  0.00000000e+00\n",
      "   0.00000000e+00  0.00000000e+00]\n",
      " [-1.86053797e-05  0.00000000e+00 -1.86053797e-05  0.00000000e+00\n",
      "  -1.86053797e-05  0.00000000e+00]\n",
      " [ 0.00000000e+00  0.00000000e+00  0.00000000e+00  0.00000000e+00\n",
      "   0.00000000e+00  0.00000000e+00]\n",
      " [-1.86053797e-05  0.00000000e+00 -1.86053797e-05  0.00000000e+00\n",
      "  -1.86053797e-05  0.00000000e+00]\n",
      " [ 0.00000000e+00  0.00000000e+00  0.00000000e+00  0.00000000e+00\n",
      "   0.00000000e+00  0.00000000e+00]]\n",
      "Time to: Calculate Ground State - 0.84s, Get Pauli Ops - 7.61s, Calculate Pauli Expectation Values - 17.55s, Calculate Covariance - 2.12s\n",
      "[[-6.63151549e-17 -3.82870725e-17  6.63151549e-17 -3.82870725e-17\n",
      "  -4.46380394e-29  7.65741451e-17]\n",
      " [-3.82870725e-17 -2.21050516e-17  3.82870725e-17 -2.21050516e-17\n",
      "  -2.57717841e-29  4.42101033e-17]\n",
      " [ 6.63151549e-17  3.82870725e-17 -6.63151549e-17  3.82870725e-17\n",
      "   4.46380394e-29 -7.65741450e-17]\n",
      " [-3.82870725e-17 -2.21050516e-17  3.82870725e-17 -2.21050516e-17\n",
      "  -2.57717841e-29  4.42101033e-17]\n",
      " [-4.46380394e-29 -2.57717841e-29  4.46380394e-29 -2.57717841e-29\n",
      "  -3.00467452e-41  5.15435681e-29]\n",
      " [ 7.65741451e-17  4.42101033e-17 -7.65741450e-17  4.42101033e-17\n",
      "   5.15435681e-29 -8.84202065e-17]]\n",
      "f0,f1,f2 = [1.1456111827856613e-10, 1.1456111828150072e-10, 1.1456111829628204e-10]\n",
      "d01,d02,d12 = [0.984070423390144, 0.9840704233892794, 0.9840704233903067]\n"
     ]
    },
    {
     "name": "stderr",
     "output_type": "stream",
     "text": [
      "/cluster/home/mskrabulis/miniconda3/envs/quantech/lib/python3.9/site-packages/pyscf/symm/Dmatrix.py:156: RuntimeWarning: invalid value encountered in arccos\n",
      "  gamma = numpy.arccos(yp.dot(c2[1]))\n"
     ]
    },
    {
     "name": "stdout",
     "output_type": "stream",
     "text": [
      "[0.00011914 0.         0.00011914 0.         0.00011914 0.        ]\n"
     ]
    },
    {
     "name": "stderr",
     "output_type": "stream",
     "text": [
      "Progress:  88%|████████▊ | 88/100 [38:41<05:16, 26.41s/it]"
     ]
    },
    {
     "name": "stdout",
     "output_type": "stream",
     "text": [
      "[[-1.99611322e-05  0.00000000e+00 -1.99611322e-05  0.00000000e+00\n",
      "  -1.99611322e-05  0.00000000e+00]\n",
      " [ 0.00000000e+00  0.00000000e+00  0.00000000e+00  0.00000000e+00\n",
      "   0.00000000e+00  0.00000000e+00]\n",
      " [-1.99611322e-05  0.00000000e+00 -1.99611322e-05  0.00000000e+00\n",
      "  -1.99611322e-05  0.00000000e+00]\n",
      " [ 0.00000000e+00  0.00000000e+00  0.00000000e+00  0.00000000e+00\n",
      "   0.00000000e+00  0.00000000e+00]\n",
      " [-1.99611322e-05  0.00000000e+00 -1.99611322e-05  0.00000000e+00\n",
      "  -1.99611322e-05  0.00000000e+00]\n",
      " [ 0.00000000e+00  0.00000000e+00  0.00000000e+00  0.00000000e+00\n",
      "   0.00000000e+00  0.00000000e+00]]\n",
      "Time to: Calculate Ground State - 1.06s, Get Pauli Ops - 4.55s, Calculate Pauli Expectation Values - 17.84s, Calculate Covariance - 2.34s\n",
      "[[-7.11474635e-17 -4.10770072e-17  7.11474635e-17 -4.10770072e-17\n",
      "  -4.95110765e-29  8.21540144e-17]\n",
      " [-4.10770072e-17 -2.37158212e-17  4.10770072e-17 -2.37158212e-17\n",
      "  -2.85852333e-29  4.74316423e-17]\n",
      " [ 7.11474635e-17  4.10770072e-17 -7.11474635e-17  4.10770072e-17\n",
      "   4.95110765e-29 -8.21540144e-17]\n",
      " [-4.10770072e-17 -2.37158212e-17  4.10770072e-17 -2.37158212e-17\n",
      "  -2.85852333e-29  4.74316423e-17]\n",
      " [-4.95110765e-29 -2.85852333e-29  4.95110765e-29 -2.85852333e-29\n",
      "  -3.44544496e-41  5.71704667e-29]\n",
      " [ 8.21540144e-17  4.74316423e-17 -8.21540144e-17  4.74316423e-17\n",
      "   5.71704667e-29 -9.48632846e-17]]\n",
      "f0,f1,f2 = [2.597237167229633e-10, 2.5972371670473633e-10, 2.597237167119455e-10]\n",
      "d01,d02,d12 = [0.983576994477293, 0.9835769944764229, 0.9835769944774795]\n",
      "[-8.19422569e-05  0.00000000e+00 -8.19422569e-05  0.00000000e+00\n",
      " -8.19422569e-05  0.00000000e+00]\n"
     ]
    },
    {
     "name": "stderr",
     "output_type": "stream",
     "text": [
      "Progress:  89%|████████▉ | 89/100 [39:06<04:44, 25.90s/it]"
     ]
    },
    {
     "name": "stdout",
     "output_type": "stream",
     "text": [
      "[[-1.26185995e-06  0.00000000e+00 -1.26185995e-06  0.00000000e+00\n",
      "  -1.26185995e-06  0.00000000e+00]\n",
      " [ 0.00000000e+00  0.00000000e+00  0.00000000e+00  0.00000000e+00\n",
      "   0.00000000e+00  0.00000000e+00]\n",
      " [-1.26185995e-06  0.00000000e+00 -1.26185995e-06  0.00000000e+00\n",
      "  -1.26185995e-06  0.00000000e+00]\n",
      " [ 0.00000000e+00  0.00000000e+00  0.00000000e+00  0.00000000e+00\n",
      "   0.00000000e+00  0.00000000e+00]\n",
      " [-1.26185995e-06  0.00000000e+00 -1.26185995e-06  0.00000000e+00\n",
      "  -1.26185995e-06  0.00000000e+00]\n",
      " [ 0.00000000e+00  0.00000000e+00  0.00000000e+00  0.00000000e+00\n",
      "   0.00000000e+00  0.00000000e+00]]\n",
      "Time to: Calculate Ground State - 1.16s, Get Pauli Ops - 4.61s, Calculate Pauli Expectation Values - 17.09s, Calculate Covariance - 1.83s\n",
      "[[-4.49764741e-18 -2.59671794e-18  4.49764740e-18 -2.59671794e-18\n",
      "  -3.22052878e-30  5.19343588e-18]\n",
      " [-2.59671794e-18 -1.49921580e-18  2.59671794e-18 -1.49921580e-18\n",
      "  -1.85937316e-30  2.99843160e-18]\n",
      " [ 4.49764740e-18  2.59671794e-18 -4.49764740e-18  2.59671794e-18\n",
      "   3.22052878e-30 -5.19343588e-18]\n",
      " [-2.59671794e-18 -1.49921580e-18  2.59671794e-18 -1.49921580e-18\n",
      "  -1.85937316e-30  2.99843160e-18]\n",
      " [-3.22052878e-30 -1.85937316e-30  3.22052878e-30 -1.85937316e-30\n",
      "  -2.30605130e-42  3.71874632e-30]\n",
      " [ 5.19343588e-18  2.99843160e-18 -5.19343588e-18  2.99843160e-18\n",
      "   3.71874632e-30 -5.99686320e-18]]\n",
      "f0,f1,f2 = [1.786341199949082e-10, 1.7863412000973722e-10, 1.7863411999780144e-10]\n",
      "d01,d02,d12 = [0.9830057902281111, 0.9830057902272381, 0.9830057902283211]\n"
     ]
    },
    {
     "name": "stderr",
     "output_type": "stream",
     "text": [
      "/cluster/home/mskrabulis/miniconda3/envs/quantech/lib/python3.9/site-packages/pyscf/symm/Dmatrix.py:156: RuntimeWarning: invalid value encountered in arccos\n",
      "  gamma = numpy.arccos(yp.dot(c2[1]))\n"
     ]
    },
    {
     "name": "stdout",
     "output_type": "stream",
     "text": [
      "[0.00014371 0.         0.00014371 0.         0.00014371 0.        ]\n"
     ]
    },
    {
     "name": "stderr",
     "output_type": "stream",
     "text": [
      "Progress:  90%|█████████ | 90/100 [39:32<04:19, 25.92s/it]"
     ]
    },
    {
     "name": "stdout",
     "output_type": "stream",
     "text": [
      "[[3.91560042e-06 0.00000000e+00 3.91560042e-06 0.00000000e+00\n",
      "  3.91560042e-06 0.00000000e+00]\n",
      " [0.00000000e+00 0.00000000e+00 0.00000000e+00 0.00000000e+00\n",
      "  0.00000000e+00 0.00000000e+00]\n",
      " [3.91560042e-06 0.00000000e+00 3.91560042e-06 0.00000000e+00\n",
      "  3.91560042e-06 0.00000000e+00]\n",
      " [0.00000000e+00 0.00000000e+00 0.00000000e+00 0.00000000e+00\n",
      "  0.00000000e+00 0.00000000e+00]\n",
      " [3.91560042e-06 0.00000000e+00 3.91560042e-06 0.00000000e+00\n",
      "  3.91560042e-06 0.00000000e+00]\n",
      " [0.00000000e+00 0.00000000e+00 0.00000000e+00 0.00000000e+00\n",
      "  0.00000000e+00 0.00000000e+00]]\n",
      "Time to: Calculate Ground State - 1.24s, Get Pauli Ops - 4.88s, Calculate Pauli Expectation Values - 17.55s, Calculate Covariance - 2.31s\n",
      "[[ 1.39563746e-17  8.05771661e-18 -1.39563746e-17  8.05771661e-18\n",
      "   1.02489949e-29 -1.61154332e-17]\n",
      " [ 8.05771661e-18  4.65212485e-18 -8.05771661e-18  4.65212485e-18\n",
      "   5.91725998e-30 -9.30424971e-18]\n",
      " [-1.39563746e-17 -8.05771661e-18  1.39563746e-17 -8.05771661e-18\n",
      "  -1.02489949e-29  1.61154332e-17]\n",
      " [ 8.05771661e-18  4.65212485e-18 -8.05771661e-18  4.65212485e-18\n",
      "   5.91725998e-30 -9.30424971e-18]\n",
      " [ 1.02489949e-29  5.91725998e-30 -1.02489949e-29  5.91725998e-30\n",
      "   7.52644581e-42 -1.18345200e-29]\n",
      " [-1.61154332e-17 -9.30424971e-18  1.61154332e-17 -9.30424971e-18\n",
      "  -1.18345200e-29  1.86084994e-17]]\n",
      "f0,f1,f2 = [3.1328678561661177e-10, 3.132867856001939e-10, 3.132867856098986e-10]\n",
      "d01,d02,d12 = [0.9825777283910995, 0.9825777283902257, 0.982577728391331]\n",
      "[1.47235958e-05 0.00000000e+00 1.47235958e-05 0.00000000e+00\n",
      " 1.47235958e-05 0.00000000e+00]\n"
     ]
    },
    {
     "name": "stderr",
     "output_type": "stream",
     "text": [
      "Progress:  91%|█████████ | 91/100 [39:57<03:51, 25.76s/it]"
     ]
    },
    {
     "name": "stdout",
     "output_type": "stream",
     "text": [
      "[[-4.83046352e-06  0.00000000e+00 -4.83046352e-06  0.00000000e+00\n",
      "  -4.83046352e-06  0.00000000e+00]\n",
      " [ 0.00000000e+00  0.00000000e+00  0.00000000e+00  0.00000000e+00\n",
      "   0.00000000e+00  0.00000000e+00]\n",
      " [-4.83046352e-06  0.00000000e+00 -4.83046352e-06  0.00000000e+00\n",
      "  -4.83046352e-06  0.00000000e+00]\n",
      " [ 0.00000000e+00  0.00000000e+00  0.00000000e+00  0.00000000e+00\n",
      "   0.00000000e+00  0.00000000e+00]\n",
      " [-4.83046352e-06  0.00000000e+00 -4.83046352e-06  0.00000000e+00\n",
      "  -4.83046352e-06  0.00000000e+00]\n",
      " [ 0.00000000e+00  0.00000000e+00  0.00000000e+00  0.00000000e+00\n",
      "   0.00000000e+00  0.00000000e+00]]\n",
      "Time to: Calculate Ground State - 1.04s, Get Pauli Ops - 4.81s, Calculate Pauli Expectation Values - 17.71s, Calculate Covariance - 1.83s\n",
      "[[-1.72172211e-17 -9.94036726e-18  1.72172211e-17 -9.94036726e-18\n",
      "  -1.29099819e-29  1.98807345e-17]\n",
      " [-9.94036726e-18 -5.73907371e-18  9.94036726e-18 -5.73907371e-18\n",
      "  -7.45358150e-30  1.14781474e-17]\n",
      " [ 1.72172211e-17  9.94036726e-18 -1.72172211e-17  9.94036726e-18\n",
      "   1.29099819e-29 -1.98807345e-17]\n",
      " [-9.94036726e-18 -5.73907371e-18  9.94036726e-18 -5.73907371e-18\n",
      "  -7.45358151e-30  1.14781474e-17]\n",
      " [-1.29099819e-29 -7.45358150e-30  1.29099819e-29 -7.45358151e-30\n",
      "  -9.68028641e-42  1.49071630e-29]\n",
      " [ 1.98807345e-17  1.14781474e-17 -1.98807345e-17  1.14781474e-17\n",
      "   1.49071630e-29 -2.29562949e-17]]\n",
      "f0,f1,f2 = [3.209743892591514e-11, 3.209743891104506e-11, 3.209743892021618e-11]\n",
      "d01,d02,d12 = [0.982150805580029, 0.9821508055791568, 0.982150805580281]\n",
      "[-3.59557286e-05  0.00000000e+00 -3.59557286e-05  0.00000000e+00\n",
      " -3.59557286e-05  0.00000000e+00]\n"
     ]
    },
    {
     "name": "stderr",
     "output_type": "stream",
     "text": [
      "Progress:  92%|█████████▏| 92/100 [40:24<03:29, 26.16s/it]"
     ]
    },
    {
     "name": "stdout",
     "output_type": "stream",
     "text": [
      "[[-1.60891593e-05  0.00000000e+00 -1.60891593e-05  0.00000000e+00\n",
      "  -1.60891593e-05  0.00000000e+00]\n",
      " [ 0.00000000e+00  0.00000000e+00  0.00000000e+00  0.00000000e+00\n",
      "   0.00000000e+00  0.00000000e+00]\n",
      " [-1.60891593e-05  0.00000000e+00 -1.60891593e-05  0.00000000e+00\n",
      "  -1.60891593e-05  0.00000000e+00]\n",
      " [ 0.00000000e+00  0.00000000e+00  0.00000000e+00  0.00000000e+00\n",
      "   0.00000000e+00  0.00000000e+00]\n",
      " [-1.60891593e-05  0.00000000e+00 -1.60891593e-05  0.00000000e+00\n",
      "  -1.60891593e-05  0.00000000e+00]\n",
      " [ 0.00000000e+00  0.00000000e+00  0.00000000e+00  0.00000000e+00\n",
      "   0.00000000e+00  0.00000000e+00]]\n",
      "Time to: Calculate Ground State - 1.06s, Get Pauli Ops - 6.72s, Calculate Pauli Expectation Values - 16.89s, Calculate Covariance - 2.41s\n",
      "[[-5.73465906e-17 -3.31090695e-17  5.73465906e-17 -3.31090695e-17\n",
      "  -4.37562785e-29  6.62181390e-17]\n",
      " [-3.31090695e-17 -1.91155302e-17  3.31090695e-17 -1.91155302e-17\n",
      "  -2.52626992e-29  3.82310604e-17]\n",
      " [ 5.73465906e-17  3.31090695e-17 -5.73465906e-17  3.31090695e-17\n",
      "   4.37562785e-29 -6.62181390e-17]\n",
      " [-3.31090695e-17 -1.91155302e-17  3.31090695e-17 -1.91155302e-17\n",
      "  -2.52626992e-29  3.82310604e-17]\n",
      " [-4.37562785e-29 -2.52626992e-29  4.37562785e-29 -2.52626992e-29\n",
      "  -3.33866738e-41  5.05253984e-29]\n",
      " [ 6.62181390e-17  3.82310604e-17 -6.62181390e-17  3.82310604e-17\n",
      "   5.05253984e-29 -7.64621207e-17]]\n",
      "f0,f1,f2 = [7.838348827301027e-11, 7.838348829681394e-11, 7.838348827988286e-11]\n",
      "d01,d02,d12 = [0.9816509135575402, 0.9816509135566731, 0.9816509135578111]\n",
      "[-2.33006326e-05  0.00000000e+00 -2.33006326e-05  0.00000000e+00\n",
      " -2.33006326e-05  0.00000000e+00]\n"
     ]
    },
    {
     "name": "stderr",
     "output_type": "stream",
     "text": [
      "Progress:  93%|█████████▎| 93/100 [40:54<03:10, 27.24s/it]"
     ]
    },
    {
     "name": "stdout",
     "output_type": "stream",
     "text": [
      "[[-1.68200574e-06  0.00000000e+00 -1.68200574e-06  0.00000000e+00\n",
      "  -1.68200574e-06  0.00000000e+00]\n",
      " [ 0.00000000e+00  0.00000000e+00  0.00000000e+00  0.00000000e+00\n",
      "   0.00000000e+00  0.00000000e+00]\n",
      " [-1.68200574e-06  0.00000000e+00 -1.68200574e-06  0.00000000e+00\n",
      "  -1.68200574e-06  0.00000000e+00]\n",
      " [ 0.00000000e+00  0.00000000e+00  0.00000000e+00  0.00000000e+00\n",
      "   0.00000000e+00  0.00000000e+00]\n",
      " [-1.68200574e-06  0.00000000e+00 -1.68200574e-06  0.00000000e+00\n",
      "  -1.68200574e-06  0.00000000e+00]\n",
      " [ 0.00000000e+00  0.00000000e+00  0.00000000e+00  0.00000000e+00\n",
      "   0.00000000e+00  0.00000000e+00]]\n",
      "Time to: Calculate Ground State - 1.11s, Get Pauli Ops - 8.79s, Calculate Pauli Expectation Values - 17.43s, Calculate Covariance - 2.4s\n",
      "[[-5.99517307e-18 -3.46131479e-18  5.99517307e-18 -3.46131479e-18\n",
      "  -4.63239221e-30  6.92262957e-18]\n",
      " [-3.46131479e-18 -1.99839102e-18  3.46131479e-18 -1.99839102e-18\n",
      "  -2.67451289e-30  3.99678205e-18]\n",
      " [ 5.99517307e-18  3.46131479e-18 -5.99517307e-18  3.46131479e-18\n",
      "   4.63239221e-30 -6.92262957e-18]\n",
      " [-3.46131479e-18 -1.99839102e-18  3.46131479e-18 -1.99839102e-18\n",
      "  -2.67451289e-30  3.99678205e-18]\n",
      " [-4.63239221e-30 -2.67451289e-30  4.63239221e-30 -2.67451289e-30\n",
      "  -3.57938917e-42  5.34902578e-30]\n",
      " [ 6.92262957e-18  3.99678205e-18 -6.92262957e-18  3.99678205e-18\n",
      "   5.34902578e-30 -7.99356409e-18]]\n",
      "f0,f1,f2 = [5.0795379100822844e-11, 5.079537910070922e-11, 5.0795379101621603e-11]\n",
      "d01,d02,d12 = [0.9811249968044559, 0.9811249968035946, 0.9811249968047457]\n",
      "[0.00023553 0.         0.00023553 0.         0.00023553 0.        ]\n"
     ]
    },
    {
     "name": "stderr",
     "output_type": "stream",
     "text": [
      "Progress:  94%|█████████▍| 94/100 [41:18<02:37, 26.31s/it]"
     ]
    },
    {
     "name": "stdout",
     "output_type": "stream",
     "text": [
      "[[2.66766636e-05 0.00000000e+00 2.66766636e-05 0.00000000e+00\n",
      "  2.66766636e-05 0.00000000e+00]\n",
      " [0.00000000e+00 0.00000000e+00 0.00000000e+00 0.00000000e+00\n",
      "  0.00000000e+00 0.00000000e+00]\n",
      " [2.66766636e-05 0.00000000e+00 2.66766636e-05 0.00000000e+00\n",
      "  2.66766636e-05 0.00000000e+00]\n",
      " [0.00000000e+00 0.00000000e+00 0.00000000e+00 0.00000000e+00\n",
      "  0.00000000e+00 0.00000000e+00]\n",
      " [2.66766636e-05 0.00000000e+00 2.66766636e-05 0.00000000e+00\n",
      "  2.66766636e-05 0.00000000e+00]\n",
      " [0.00000000e+00 0.00000000e+00 0.00000000e+00 0.00000000e+00\n",
      "  0.00000000e+00 0.00000000e+00]]\n",
      "Time to: Calculate Ground State - 0.89s, Get Pauli Ops - 4.33s, Calculate Pauli Expectation Values - 17.2s, Calculate Covariance - 1.74s\n",
      "[[ 9.50836319e-17  5.48965605e-17 -9.50836319e-17  5.48965605e-17\n",
      "   7.43660884e-29 -1.09793121e-16]\n",
      " [ 5.48965605e-17  3.16945440e-17 -5.48965605e-17  3.16945440e-17\n",
      "   4.29352811e-29 -6.33890879e-17]\n",
      " [-9.50836319e-17 -5.48965605e-17  9.50836319e-17 -5.48965605e-17\n",
      "  -7.43660884e-29  1.09793121e-16]\n",
      " [ 5.48965605e-17  3.16945440e-17 -5.48965605e-17  3.16945440e-17\n",
      "   4.29352811e-29 -6.33890879e-17]\n",
      " [ 7.43660884e-29  4.29352811e-29 -7.43660884e-29  4.29352811e-29\n",
      "   5.81626405e-41 -8.58705623e-29]\n",
      " [-1.09793121e-16 -6.33890879e-17  1.09793121e-16 -6.33890879e-17\n",
      "  -8.58705623e-29  1.26778176e-16]]\n",
      "f0,f1,f2 = [5.134481597864312e-10, 5.134481597704875e-10, 5.134481597875573e-10]\n",
      "d01,d02,d12 = [0.9808947119827116, 0.9808947119818595, 0.9808947119830211]\n"
     ]
    },
    {
     "name": "stderr",
     "output_type": "stream",
     "text": [
      "/cluster/home/mskrabulis/miniconda3/envs/quantech/lib/python3.9/site-packages/pyscf/symm/Dmatrix.py:156: RuntimeWarning: invalid value encountered in arccos\n",
      "  gamma = numpy.arccos(yp.dot(c2[1]))\n"
     ]
    },
    {
     "name": "stdout",
     "output_type": "stream",
     "text": [
      "[-7.59251185e-05  0.00000000e+00 -7.59251185e-05  0.00000000e+00\n",
      " -7.59251185e-05  0.00000000e+00]\n"
     ]
    },
    {
     "name": "stderr",
     "output_type": "stream",
     "text": [
      "Progress:  95%|█████████▌| 95/100 [41:43<02:09, 25.92s/it]"
     ]
    },
    {
     "name": "stdout",
     "output_type": "stream",
     "text": [
      "[[-3.33034295e-06  0.00000000e+00 -3.33034295e-06  0.00000000e+00\n",
      "  -3.33034295e-06  0.00000000e+00]\n",
      " [ 0.00000000e+00  0.00000000e+00  0.00000000e+00  0.00000000e+00\n",
      "   0.00000000e+00  0.00000000e+00]\n",
      " [-3.33034295e-06  0.00000000e+00 -3.33034295e-06  0.00000000e+00\n",
      "  -3.33034295e-06  0.00000000e+00]\n",
      " [ 0.00000000e+00  0.00000000e+00  0.00000000e+00  0.00000000e+00\n",
      "   0.00000000e+00  0.00000000e+00]\n",
      " [-3.33034295e-06  0.00000000e+00 -3.33034295e-06  0.00000000e+00\n",
      "  -3.33034295e-06  0.00000000e+00]\n",
      " [ 0.00000000e+00  0.00000000e+00  0.00000000e+00  0.00000000e+00\n",
      "   0.00000000e+00  0.00000000e+00]]\n",
      "Time to: Calculate Ground State - 1.1s, Get Pauli Ops - 4.48s, Calculate Pauli Expectation Values - 17.5s, Calculate Covariance - 1.91s\n",
      "[[-1.18703414e-17 -6.85334479e-18  1.18703414e-17 -6.85334479e-18\n",
      "  -9.37034624e-30  1.37066896e-17]\n",
      " [-6.85334479e-18 -3.95678046e-18  6.85334479e-18 -3.95678046e-18\n",
      "  -5.40997192e-30  7.91356091e-18]\n",
      " [ 1.18703414e-17  6.85334479e-18 -1.18703414e-17  6.85334478e-18\n",
      "   9.37034623e-30 -1.37066896e-17]\n",
      " [-6.85334479e-18 -3.95678046e-18  6.85334478e-18 -3.95678046e-18\n",
      "  -5.40997192e-30  7.91356091e-18]\n",
      " [-9.37034624e-30 -5.40997192e-30  9.37034623e-30 -5.40997192e-30\n",
      "  -7.39687140e-42  1.08199438e-29]\n",
      " [ 1.37066896e-17  7.91356091e-18 -1.37066896e-17  7.91356091e-18\n",
      "   1.08199438e-29 -1.58271218e-17]]\n",
      "f0,f1,f2 = [1.6551675823715208e-10, 1.655167582659551e-10, 1.6551675824368616e-10]\n",
      "d01,d02,d12 = [0.9805912439998228, 0.9805912439989843, 0.9805912440001507]\n"
     ]
    },
    {
     "name": "stderr",
     "output_type": "stream",
     "text": [
      "/cluster/home/mskrabulis/miniconda3/envs/quantech/lib/python3.9/site-packages/pyscf/symm/Dmatrix.py:156: RuntimeWarning: invalid value encountered in arccos\n",
      "  gamma = numpy.arccos(yp.dot(c2[1]))\n",
      "/cluster/home/mskrabulis/miniconda3/envs/quantech/lib/python3.9/site-packages/pyscf/symm/Dmatrix.py:156: RuntimeWarning: invalid value encountered in arccos\n",
      "  gamma = numpy.arccos(yp.dot(c2[1]))\n"
     ]
    },
    {
     "name": "stdout",
     "output_type": "stream",
     "text": [
      "[5.79184444e-05 0.00000000e+00 5.79184444e-05 0.00000000e+00\n",
      " 5.79184444e-05 0.00000000e+00]\n"
     ]
    },
    {
     "name": "stderr",
     "output_type": "stream",
     "text": [
      "Progress:  96%|█████████▌| 96/100 [42:09<01:43, 25.82s/it]"
     ]
    },
    {
     "name": "stdout",
     "output_type": "stream",
     "text": [
      "[[-2.94856221e-05  0.00000000e+00 -2.94856221e-05  0.00000000e+00\n",
      "  -2.94856221e-05  0.00000000e+00]\n",
      " [ 0.00000000e+00  0.00000000e+00  0.00000000e+00  0.00000000e+00\n",
      "   0.00000000e+00  0.00000000e+00]\n",
      " [-2.94856221e-05  0.00000000e+00 -2.94856221e-05  0.00000000e+00\n",
      "  -2.94856221e-05  0.00000000e+00]\n",
      " [ 0.00000000e+00  0.00000000e+00  0.00000000e+00  0.00000000e+00\n",
      "   0.00000000e+00  0.00000000e+00]\n",
      " [-2.94856221e-05  0.00000000e+00 -2.94856221e-05  0.00000000e+00\n",
      "  -2.94856221e-05  0.00000000e+00]\n",
      " [ 0.00000000e+00  0.00000000e+00  0.00000000e+00  0.00000000e+00\n",
      "   0.00000000e+00  0.00000000e+00]]\n",
      "Time to: Calculate Ground State - 1.39s, Get Pauli Ops - 4.13s, Calculate Pauli Expectation Values - 17.64s, Calculate Covariance - 2.4s\n",
      "[[-1.05095603e-16 -6.06769746e-17  1.05095603e-16 -6.06769746e-17\n",
      "  -8.33284540e-29  1.21353949e-16]\n",
      " [-6.06769746e-17 -3.50318676e-17  6.06769746e-17 -3.50318676e-17\n",
      "  -4.81097053e-29  7.00637353e-17]\n",
      " [ 1.05095603e-16  6.06769746e-17 -1.05095603e-16  6.06769746e-17\n",
      "   8.33284540e-29 -1.21353949e-16]\n",
      " [-6.06769746e-17 -3.50318676e-17  6.06769746e-17 -3.50318676e-17\n",
      "  -4.81097053e-29  7.00637353e-17]\n",
      " [-8.33284540e-29 -4.81097053e-29  8.33284540e-29 -4.81097053e-29\n",
      "  -6.60696647e-41  9.62194107e-29]\n",
      " [ 1.21353949e-16  7.00637353e-17 -1.21353949e-16  7.00637353e-17\n",
      "   9.62194107e-29 -1.40127471e-16]]\n",
      "f0,f1,f2 = [1.2626220876972219e-10, 1.2626220874755985e-10, 1.262622087645644e-10]\n",
      "d01,d02,d12 = [0.9802874626337366, 0.9802874626329151, 0.9802874626340817]\n",
      "[-2.16339919e-05  0.00000000e+00 -2.16339919e-05  0.00000000e+00\n",
      " -2.16339919e-05  0.00000000e+00]\n"
     ]
    },
    {
     "name": "stderr",
     "output_type": "stream",
     "text": [
      "Progress:  97%|█████████▋| 97/100 [42:33<01:16, 25.39s/it]"
     ]
    },
    {
     "name": "stdout",
     "output_type": "stream",
     "text": [
      "[[-4.14830598e-05  0.00000000e+00 -4.14830598e-05  0.00000000e+00\n",
      "  -4.14830598e-05  0.00000000e+00]\n",
      " [ 0.00000000e+00  0.00000000e+00  0.00000000e+00  0.00000000e+00\n",
      "   0.00000000e+00  0.00000000e+00]\n",
      " [-4.14830598e-05  0.00000000e+00 -4.14830598e-05  0.00000000e+00\n",
      "  -4.14830598e-05  0.00000000e+00]\n",
      " [ 0.00000000e+00  0.00000000e+00  0.00000000e+00  0.00000000e+00\n",
      "   0.00000000e+00  0.00000000e+00]\n",
      " [-4.14830598e-05  0.00000000e+00 -4.14830598e-05  0.00000000e+00\n",
      "  -4.14830598e-05  0.00000000e+00]\n",
      " [ 0.00000000e+00  0.00000000e+00  0.00000000e+00  0.00000000e+00\n",
      "   0.00000000e+00  0.00000000e+00]]\n",
      "Time to: Calculate Ground State - 1.08s, Get Pauli Ops - 4.84s, Calculate Pauli Expectation Values - 16.76s, Calculate Covariance - 1.72s\n",
      "[[-1.47858070e-16 -8.53658966e-17  1.47858070e-16 -8.53658966e-17\n",
      "  -1.17287260e-28  1.70731793e-16]\n",
      " [-8.53658966e-17 -4.92860234e-17  8.53658966e-17 -4.92860234e-17\n",
      "  -6.77158312e-29  9.85720467e-17]\n",
      " [ 1.47858070e-16  8.53658966e-17 -1.47858070e-16  8.53658966e-17\n",
      "   1.17287260e-28 -1.70731793e-16]\n",
      " [-8.53658966e-17 -4.92860234e-17  8.53658966e-17 -4.92860234e-17\n",
      "  -6.77158312e-29  9.85720468e-17]\n",
      " [-1.17287260e-28 -6.77158312e-29  1.17287260e-28 -6.77158312e-29\n",
      "  -9.30372036e-41  1.35431662e-28]\n",
      " [ 1.70731793e-16  9.85720467e-17 -1.70731793e-16  9.85720468e-17\n",
      "   1.35431662e-28 -1.97144093e-16]]\n",
      "f0,f1,f2 = [4.716210227909386e-11, 4.7162102304218076e-11, 4.7162102283049373e-11]\n",
      "d01,d02,d12 = [0.9798899030282625, 0.9798899030274627, 0.979889903028624]\n",
      "[0.00016846 0.         0.00016846 0.         0.00016846 0.        ]\n"
     ]
    },
    {
     "name": "stderr",
     "output_type": "stream",
     "text": [
      "Progress:  98%|█████████▊| 98/100 [42:59<00:50, 25.36s/it]"
     ]
    },
    {
     "name": "stdout",
     "output_type": "stream",
     "text": [
      "[[1.75149169e-06 0.00000000e+00 1.75149169e-06 0.00000000e+00\n",
      "  1.75149169e-06 0.00000000e+00]\n",
      " [0.00000000e+00 0.00000000e+00 0.00000000e+00 0.00000000e+00\n",
      "  0.00000000e+00 0.00000000e+00]\n",
      " [1.75149169e-06 0.00000000e+00 1.75149169e-06 0.00000000e+00\n",
      "  1.75149169e-06 0.00000000e+00]\n",
      " [0.00000000e+00 0.00000000e+00 0.00000000e+00 0.00000000e+00\n",
      "  0.00000000e+00 0.00000000e+00]\n",
      " [1.75149169e-06 0.00000000e+00 1.75149169e-06 0.00000000e+00\n",
      "  1.75149169e-06 0.00000000e+00]\n",
      " [0.00000000e+00 0.00000000e+00 0.00000000e+00 0.00000000e+00\n",
      "  0.00000000e+00 0.00000000e+00]]\n",
      "Time to: Calculate Ground State - 0.76s, Get Pauli Ops - 5.04s, Calculate Pauli Expectation Values - 17.56s, Calculate Covariance - 1.92s\n",
      "[[ 6.24284184e-18  3.60430642e-18 -6.24284184e-18  3.60430642e-18\n",
      "   4.93209285e-30 -7.20861283e-18]\n",
      " [ 3.60430642e-18  2.08094728e-18 -3.60430642e-18  2.08094728e-18\n",
      "   2.84754513e-30 -4.16189456e-18]\n",
      " [-6.24284184e-18 -3.60430642e-18  6.24284184e-18 -3.60430642e-18\n",
      "  -4.93209285e-30  7.20861283e-18]\n",
      " [ 3.60430642e-18  2.08094728e-18 -3.60430642e-18  2.08094728e-18\n",
      "   2.84754513e-30 -4.16189456e-18]\n",
      " [ 4.93209285e-30  2.84754513e-30 -4.93209285e-30  2.84754513e-30\n",
      "   3.89654912e-42 -5.69509027e-30]\n",
      " [-7.20861283e-18 -4.16189456e-18  7.20861283e-18 -4.16189456e-18\n",
      "  -5.69509027e-30  8.32378912e-18]]\n",
      "f0,f1,f2 = [3.6723609483301714e-10, 3.672360948231953e-10, 3.672360948238622e-10]\n",
      "d01,d02,d12 = [0.9796487965693967, 0.9796487965686187, 0.9796487965697724]\n",
      "[2.96211297e-05 0.00000000e+00 2.96211296e-05 0.00000000e+00\n",
      " 2.96211297e-05 0.00000000e+00]\n"
     ]
    },
    {
     "name": "stderr",
     "output_type": "stream",
     "text": [
      "Progress:  99%|█████████▉| 99/100 [43:24<00:25, 25.44s/it]"
     ]
    },
    {
     "name": "stdout",
     "output_type": "stream",
     "text": [
      "[[1.91990479e-05 0.00000000e+00 1.91990479e-05 0.00000000e+00\n",
      "  1.91990479e-05 0.00000000e+00]\n",
      " [0.00000000e+00 0.00000000e+00 0.00000000e+00 0.00000000e+00\n",
      "  0.00000000e+00 0.00000000e+00]\n",
      " [1.91990479e-05 0.00000000e+00 1.91990479e-05 0.00000000e+00\n",
      "  1.91990479e-05 0.00000000e+00]\n",
      " [0.00000000e+00 0.00000000e+00 0.00000000e+00 0.00000000e+00\n",
      "  0.00000000e+00 0.00000000e+00]\n",
      " [1.91990479e-05 0.00000000e+00 1.91990479e-05 0.00000000e+00\n",
      "  1.91990479e-05 0.00000000e+00]\n",
      " [0.00000000e+00 0.00000000e+00 0.00000000e+00 0.00000000e+00\n",
      "  0.00000000e+00 0.00000000e+00]]\n",
      "Time to: Calculate Ground State - 1.11s, Get Pauli Ops - 4.82s, Calculate Pauli Expectation Values - 17.49s, Calculate Covariance - 2.19s\n",
      "[[ 6.84311663e-17  3.95087523e-17 -6.84311663e-17  3.95087523e-17\n",
      "   5.37222524e-29 -7.90175046e-17]\n",
      " [ 3.95087523e-17  2.28103888e-17 -3.95087523e-17  2.28103888e-17\n",
      "   3.10165569e-29 -4.56207775e-17]\n",
      " [-6.84311663e-17 -3.95087523e-17  6.84311663e-17 -3.95087523e-17\n",
      "  -5.37222524e-29  7.90175046e-17]\n",
      " [ 3.95087523e-17  2.28103888e-17 -3.95087523e-17  2.28103888e-17\n",
      "   3.10165569e-29 -4.56207775e-17]\n",
      " [ 5.37222524e-29  3.10165569e-29 -5.37222524e-29  3.10165569e-29\n",
      "   4.21749411e-41 -6.20331138e-29]\n",
      " [-7.90175046e-17 -4.56207775e-17  7.90175046e-17 -4.56207775e-17\n",
      "  -6.20331138e-29  9.12415551e-17]]\n",
      "f0,f1,f2 = [6.457406265209356e-11, 6.457406262682888e-11, 6.457406264003706e-11]\n",
      "d01,d02,d12 = [0.9794617399400501, 0.9794617399392972, 0.9794617399404375]\n",
      "[0.00017315 0.         0.00017315 0.         0.00017315 0.        ]\n"
     ]
    },
    {
     "name": "stderr",
     "output_type": "stream",
     "text": [
      "Progress: 100%|██████████| 100/100 [43:51<00:00, 26.32s/it]"
     ]
    },
    {
     "name": "stdout",
     "output_type": "stream",
     "text": [
      "[[-5.87474407e-07  0.00000000e+00 -5.87474408e-07  0.00000000e+00\n",
      "  -5.87474408e-07  0.00000000e+00]\n",
      " [ 0.00000000e+00  0.00000000e+00  0.00000000e+00  0.00000000e+00\n",
      "   0.00000000e+00  0.00000000e+00]\n",
      " [-5.87474408e-07  0.00000000e+00 -5.87474408e-07  0.00000000e+00\n",
      "  -5.87474408e-07  0.00000000e+00]\n",
      " [ 0.00000000e+00  0.00000000e+00  0.00000000e+00  0.00000000e+00\n",
      "   0.00000000e+00  0.00000000e+00]\n",
      " [-5.87474408e-07  0.00000000e+00 -5.87474408e-07  0.00000000e+00\n",
      "  -5.87474408e-07  0.00000000e+00]\n",
      " [ 0.00000000e+00  0.00000000e+00  0.00000000e+00  0.00000000e+00\n",
      "   0.00000000e+00  0.00000000e+00]]\n",
      "Time to: Calculate Ground State - 1.1s, Get Pauli Ops - 6.16s, Calculate Pauli Expectation Values - 17.33s, Calculate Covariance - 2.24s\n",
      "[[-2.09393503e-18 -1.20893395e-18  2.09393503e-18 -1.20893395e-18\n",
      "  -1.62499686e-30  2.41786791e-18]\n",
      " [-1.20893395e-18 -6.97978343e-19  1.20893395e-18 -6.97978344e-19\n",
      "  -9.38192374e-31  1.39595669e-18]\n",
      " [ 2.09393503e-18  1.20893395e-18 -2.09393503e-18  1.20893395e-18\n",
      "   1.62499686e-30 -2.41786791e-18]\n",
      " [-1.20893395e-18 -6.97978344e-19  1.20893395e-18 -6.97978344e-19\n",
      "  -9.38192374e-31  1.39595669e-18]\n",
      " [-1.62499686e-30 -9.38192374e-31  1.62499686e-30 -9.38192374e-31\n",
      "  -1.26107771e-42  1.87638475e-30]\n",
      " [ 2.41786791e-18  1.39595669e-18 -2.41786791e-18  1.39595669e-18\n",
      "   1.87638475e-30 -2.79191338e-18]]\n",
      "f0,f1,f2 = [3.7747206075647385e-10, 3.774720607418416e-10, 3.774720607518358e-10]\n",
      "d01,d02,d12 = [0.9794306351488151, 0.9794306351480893, 0.979430635149213]\n"
     ]
    },
    {
     "name": "stderr",
     "output_type": "stream",
     "text": [
      "\n"
     ]
    },
    {
     "data": {
      "image/png": "[encoded data removed]",
      "text/plain": [
       "<Figure size 640x480 with 1 Axes>"
      ]
     },
     "metadata": {},
     "output_type": "display_data"
    }
   ],
   "source": [
    "from matplotlib import pyplot as plt\n",
    "(distance01,distance02,distance12,times) = main()\n",
    "\n",
    "np_distance01 = np.array(distance01)\n",
    "np_distance02 = np.array(distance02)\n",
    "np_distance12 = np.array(distance12)\n",
    "\n",
    "plt.plot(times,np_distance01[:-1],label = 'd01')\n",
    "plt.plot(times,np_distance02[:-1],label = 'd02')\n",
    "plt.plot(times,np_distance12[:-1],label = 'd12')\n",
    "\n",
    "plt.title('Distances at time t')\n",
    "plt.xlabel('Time')\n",
    "plt.ylabel('Distance')\n",
    "plt.legend()\n",
    "plt.show()"
   ]
  },
  {
   "cell_type": "code",
   "execution_count": null,
   "id": "885910be",
   "metadata": {},
   "outputs": [],
   "source": []
  }
 ],
 "metadata": {
  "kernelspec": {
   "display_name": "Python 3 (ipykernel)",
   "language": "python",
   "name": "python3"
  },
  "language_info": {
   "codemirror_mode": {
    "name": "ipython",
    "version": 3
   },
   "file_extension": ".py",
   "mimetype": "text/x-python",
   "name": "python",
   "nbconvert_exporter": "python",
   "pygments_lexer": "ipython3",
   "version": "3.9.15"
  }
 },
 "nbformat": 4,
 "nbformat_minor": 5
}
