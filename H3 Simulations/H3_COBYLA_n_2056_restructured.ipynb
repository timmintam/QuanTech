{
 "cells": [
  {
   "cell_type": "code",
   "execution_count": 1,
   "id": "fbc296ce",
   "metadata": {},
   "outputs": [],
   "source": [
    "import numpy as np\n",
    "import matplotlib.pyplot as plt\n",
    "\n",
    "from pyscf import ao2mo,gto, scf\n",
    "\n",
    "from typing import Tuple\n",
    "\n",
    "\n",
    "# qiskit\n",
    "from qiskit.algorithms import VQE\n",
    "from qiskit.algorithms.optimizers import COBYLA, SPSA, SLSQP, NELDER_MEAD\n",
    "from qiskit.algorithms import MinimumEigensolverResult\n",
    "\n",
    "from qiskit import IBMQ, BasicAer, Aer\n",
    "from qiskit.utils import QuantumInstance\n",
    "from qiskit.quantum_info.operators import Operator\n",
    "from qiskit.opflow import PauliExpectation, CircuitSampler, StateFn, CircuitStateFn\n",
    "from qiskit.opflow.primitive_ops import PauliOp, PauliSumOp\n",
    "from qiskit.quantum_info import Pauli, SparsePauliOp\n",
    "\n",
    "# qiskit nature\n",
    "from qiskit_nature.second_q.hamiltonians import ElectronicEnergy\n",
    "from qiskit_nature.second_q.mappers import ParityMapper, QubitConverter\n",
    "from qiskit_nature.second_q.problems import ElectronicStructureProblem\n",
    "from qiskit_nature.second_q.operators import FermionicOp\n",
    "from qiskit_nature.second_q.properties import ParticleNumber\n",
    "from qiskit_nature.second_q.transformers import FreezeCoreTransformer\n",
    "from qiskit_nature.second_q.circuit.library import UCCSD, HartreeFock\n",
    "from qiskit_nature.second_q.problems import ElectronicBasis\n",
    "from qiskit_nature.second_q.formats.molecule_info import MoleculeInfo\n",
    "from qiskit_nature.drivers import Molecule\n",
    "from qiskit_nature.drivers.second_quantization import (\n",
    "    ElectronicStructureMoleculeDriver, ElectronicStructureDriverType)\n",
    "\n",
    "from qiskit_nature.settings import settings\n",
    "settings.dict_aux_operators = True\n",
    "\n",
    "#from qiskit import IBMQ\n",
    "#from qiskit_nature.runtime import VQEClient\n",
    "#from qiskit.providers.ibmq import least_busy\n",
    "#from qiskit_ibm_runtime import QiskitRuntimeService, Estimator, Session\n",
    "\n",
    "# useful??\n",
    "#from qiskit_nature.algorithms import (GroundStateEigensolver,\n",
    "#                                      NumPyMinimumEigensolverFactory)\n",
    "from qiskit.circuit.library import EfficientSU2\n",
    "from qiskit.circuit.library import RealAmplitudes\n",
    "from qiskit.utils.mitigation import CompleteMeasFitter\n",
    "from qiskit.providers.aer.noise import NoiseModel\n",
    "from qiskit.providers.aer import QasmSimulator\n",
    "from qiskit import QuantumCircuit, transpile\n",
    "from qiskit.opflow import TwoQubitReduction\n",
    "\n",
    "def get_molecular_integrals(molecule):\n",
    "    '''\n",
    "    Calculates the 1-electron and 2-electron integrals.\n",
    "    \n",
    "    Args:   \n",
    "        molecule : Mole \n",
    "            Ccorresponds to the molecule.\n",
    "            \n",
    "    Returns:\n",
    "        h1_MO : ndarray\n",
    "                Tensor corresponding to the 1-electron integral in the molecular basis.\n",
    "        \n",
    "        h2_MO : ndarray\n",
    "                Tensor corresponding to the 2-electron integral in the molecular basis.\n",
    "\n",
    "        n_particles: Tuple[int, int]\n",
    "            Number of alpha and beta electrons.\n",
    "        \n",
    "        num_orb : int \n",
    "            Number of orbitals.\n",
    "\n",
    "        nuclear_repulsion_energy : float\n",
    "            Nuclear repulsion energy.\n",
    "    '''\n",
    "    \n",
    "    mf = scf.RHF(molecule).run()\n",
    "\n",
    "    # computing the 1e and 2e AO (atomic orbitals) integrals \n",
    "    h1 = molecule.intor_symmetric(\"int1e_nuc\") + molecule.intor_symmetric(\"int1e_kin\") \n",
    "    h2 = molecule.intor(\"int2e\")\n",
    "    # comment : add aosym (axis of symmetry) ???\n",
    "\n",
    "    # transformations from AO to MO (molecular orbitals)\n",
    "    h1_MO = np.einsum('pi,pq,qj->ij', mf.mo_coeff, h1, mf.mo_coeff)\n",
    "    h2_MO = ao2mo.get_mo_eri(h2, mf.mo_coeff)\n",
    "\n",
    "    #h2_MO = ao2mo.kernel(mol_h2, mf.mo_coeff, aosym=\"1\") #alternative\n",
    "\n",
    "    nuclear_repulsion_energy=molecule.energy_nuc()\n",
    "    num_particles = molecule.nelec\n",
    "    num_orb = h1.shape[0]\n",
    "\n",
    "    return h1_MO, h2_MO, num_particles, num_orb, nuclear_repulsion_energy\n",
    "\n",
    "\n",
    "def get_qubit_op(coordinates):\n",
    "    '''\n",
    "    Calculates the Hamiltonian as the sum of Pauli operators as a function\n",
    "    of the coordinates of the atoms.\n",
    "    \n",
    "    Args:\n",
    "        coordinates : ndarray\n",
    "            Array containing the positions of the atoms constituing the molecule.\n",
    "        \n",
    "    \n",
    "    Returns:\n",
    "        qubit_op : PauliSumOp\n",
    "            Sum of Pauli operators corresponding to the Hamiltonian.\n",
    "        \n",
    "        nelec : Tuple[int, int]\n",
    "            Number of alpha and beta electrons.\n",
    "        \n",
    "        norb : int \n",
    "            Number of orbitals.\n",
    "            \n",
    "        problem : ElectronicStructureProblem\n",
    "        \n",
    "        converter : QubitConverter\n",
    "    '''\n",
    "    \n",
    "    mol = gto.M(\n",
    "                atom = [['H',(coordinates[0], coordinates[1], 0.0)], \n",
    "                        ['H',(coordinates[2], coordinates[3], 0.0)],\n",
    "                        ['H',(coordinates[4], coordinates[5], 0.0)]],\n",
    "                basis = 'sto3g',\n",
    "                charge = 1,\n",
    "                spin = 0,\n",
    "                symmetry = True,\n",
    "                verbose = 2 # control the print level of PySCF globally\n",
    "    )\n",
    "\n",
    "    h1_MO,h2_MO,nelec,norb,ecore = get_molecular_integrals(mol)\n",
    "\n",
    "    # Define an ElectronicEnergy instance containing the 1e and 2e integrals\n",
    "    electronic_energy = ElectronicEnergy.from_raw_integrals(\n",
    "            h1_MO, ao2mo.restore(1, h2_MO, norb)\n",
    "        )\n",
    "    electronic_energy.nuclear_repulsion_energy = ecore\n",
    "\n",
    "    # Define an ElectronicStructureProblem\n",
    "    problem = ElectronicStructureProblem(electronic_energy)\n",
    "\n",
    "    second_q_ops = problem.second_q_ops()     # get second quantized operators\n",
    "    problem.num_spatial_orbitals = norb  # define number of orbitals\n",
    "    problem.num_particles = nelec        # define number of particles \n",
    "    \n",
    "    problem.basis = ElectronicBasis.MO \n",
    "    \n",
    "    problem.molecule=MoleculeInfo(symbols=[mol.atom_symbol(i) for i in range(mol.nbas)], \n",
    "                                  coords=mol.atom_coords())\n",
    "    FC_transformer=FreezeCoreTransformer(freeze_core=True)\n",
    "    problem = FC_transformer.transform(problem)\n",
    "    \n",
    "    # TODO we need to give info about the molecule to use FreezeCoreTransformer \n",
    "    # question : how to do it in a smart way ? at the initialization ??\n",
    "    \n",
    "    hamiltonian = second_q_ops[0]  # Set electronic part of Hamiltonian\n",
    "    hamiltonian = (hamiltonian + FermionicOp({\"\": ecore}, num_spin_orbitals=norb)) # add Nuclear Repulsion Energy\n",
    "    #print(\"Hamiltonian :\\n\", hamiltonian) # print for checking purposes\n",
    "    \n",
    "    mapper = ParityMapper()  # Set Mapper\n",
    "    \n",
    "    # Do two qubit reduction\n",
    "    converter = QubitConverter(mapper,two_qubit_reduction=True)\n",
    "    qubit_op = converter.convert(hamiltonian, nelec)\n",
    "    #print(\"q_op :\\n\", qubit_op) # print for checking purposes\n",
    "    \n",
    "\n",
    "    return qubit_op, nelec, norb, problem, converter\n",
    "\n",
    "def calc_ground_state(qubit_op,nelec,norb,problem,converter) :\n",
    "    '''\n",
    "    Calculates the ground state and the ground energy of the Hamiltonian.\n",
    "    \n",
    "    Args:\n",
    "        qubit_op : PauliSumOp\n",
    "            Sum of Pauli operators corresponding to the Hamiltonian.\n",
    "        \n",
    "        nelec : Tuple[int, int]\n",
    "            Number of alpha and beta electrons.\n",
    "        \n",
    "        norb : int \n",
    "            Number of orbitals.\n",
    "            \n",
    "        problem : ElectronicStructureProblem\n",
    "        \n",
    "        converter : QubitConverter\n",
    "        \n",
    "    \n",
    "    Returns:\n",
    "        ground_state : CircuitStateFn\n",
    "            Ground state of the Hamiltonian.\n",
    "            \n",
    "        min_eng : float\n",
    "            Ground energy of the Hamiltonian.\n",
    "    '''\n",
    "\n",
    "    backend = BasicAer.get_backend(\"statevector_simulator\")\n",
    "    quantum_instance = QuantumInstance(backend)\n",
    "    optimizer = SLSQP(maxiter=400)\n",
    "\n",
    "    init_state = HartreeFock(num_spatial_orbitals=norb, \n",
    "                                num_particles=nelec, \n",
    "                                qubit_converter=converter\n",
    "                            )\n",
    "    \n",
    "    var_form = UCCSD(qubit_converter=converter,\n",
    "                        num_particles=nelec,\n",
    "                        num_spatial_orbitals=norb, \n",
    "                        initial_state=init_state\n",
    "                        )\n",
    "\n",
    "    vqe = VQE(var_form, optimizer, quantum_instance=quantum_instance) \n",
    "    vqe_result = vqe.compute_minimum_eigenvalue(qubit_op)\n",
    "    min_eng = vqe_result.eigenvalue.real\n",
    "    final_params = vqe_result.optimal_parameters \n",
    "\n",
    "    vqe_ground = vqe.ansatz.bind_parameters(final_params) \n",
    "#     vqe_ground_state = CircuitStateFn(vqe_ground)\n",
    "    \n",
    "    return vqe_ground, min_eng"
   ]
  },
  {
   "cell_type": "code",
   "execution_count": 2,
   "id": "3f5daa79",
   "metadata": {},
   "outputs": [],
   "source": [
    "Ha = 4.36e-18\n",
    "angst = 1.0e-10\n",
    "dR = 0.02 #removed the angst, since coordinates are given in angst\n",
    "\n",
    "\n",
    "from qiskit.opflow import I, X, Y, Z\n",
    "from qiskit.opflow.primitive_ops import PauliOp\n",
    "from qiskit.quantum_info import Pauli\n",
    "#from hamiltonian import calc_ground_state, get_qubit_op\n",
    "import numpy as np\n",
    "from qiskit.utils import QuantumInstance\n",
    "from qiskit.opflow import PauliExpectation, CircuitSampler, StateFn, CircuitStateFn\n",
    "from qiskit import IBMQ, BasicAer, Aer\n",
    "\n",
    "import time #to see which part of code takes the longest\n",
    "import multiprocessing\n",
    "\n",
    "\n",
    "#calculate centre of mass (currently for equal particle masses)\n",
    "def calc_COM(coordinates):\n",
    "    #print(coordinates)\n",
    "    r_array = np.array_split(coordinates,3)\n",
    "    COM = (r_array[0] + r_array[1] + r_array[2])/3\n",
    "    \n",
    "    return COM\n",
    "\n",
    "#task to calculate expectation value\n",
    "def task1(string, q_instance, psi_0):\n",
    "\n",
    "    Obs = PauliOp(Pauli(string))\n",
    "    measurable_expression = StateFn(Obs, is_measurement=True).compose(psi_0)\n",
    "    expectation = PauliExpectation().convert(measurable_expression)  \n",
    "    sampler = CircuitSampler(q_instance).convert(expectation) \n",
    "    E = sampler.eval().real\n",
    "        \n",
    "    return E\n",
    "\n",
    "#task to calculate operator from coordinates\n",
    "def task2(coordinates):\n",
    "    \n",
    "    #get qubit operators coresponding to H+ (hamiltonian for atomic distances R + dR)\n",
    "    (qubit_op_plus, num_part_plus, num_orb_plus, problem_plus, converter_plus) = get_qubit_op(coordinates[0])\n",
    "    #get qubit operators coresponding to H- (hamiltonian for atomic distances R - dR)\n",
    "    (qubit_op_minus, num_part_minus, num_orb_minus, problem_minus, converter_minus) = get_qubit_op(coordinates[1])\n",
    "        \n",
    "    qubit_op_plus = qubit_op_plus #TODO:number of I's needs to be changed according to number of qubits\n",
    "    qubit_op_minus = qubit_op_minus\n",
    "       \n",
    "    op =  (-(qubit_op_plus - qubit_op_minus)).reduce()\n",
    "                    \n",
    "    op_list = op.primitive.to_list() #list containing Pauli operators in support and corresponding coeffs\n",
    "    #print(op_list)    \n",
    "    #construct dict from list\n",
    "    op_dict = {}\n",
    "    for (PauliString,coeff) in op_list:\n",
    "\n",
    "        if PauliString in op_dict:\n",
    "            op_dict[PauliString] += coeff\n",
    "        else:\n",
    "            op_dict[PauliString] = coeff\n",
    "    \n",
    "    return op, op_dict\n",
    " \n",
    "def parallel_operators(coordinates):\n",
    "    \n",
    "    \n",
    "    coordinate_list = []\n",
    "    \n",
    "    #COM = calc_COM(coordinates)\n",
    "    #coords = np.array_split(coordinates,3)\n",
    "    #print(coords)\n",
    "    #print(COM)\n",
    "    #v0 = coords[0] - COM\n",
    "    #v1 = coords[1] - COM\n",
    "    #v2 = coords[2] - COM\n",
    "    \n",
    "    #v0_normed = v0/np.sqrt(v0[0]**2+v0[1]**2)*dR\n",
    "    #v1_normed = v1/np.sqrt(v1[0]**2+v1[1]**2)*dR\n",
    "    #v2_normed = v2/np.sqrt(v2[0]**2+v2[1]**2)*dR\n",
    "    \n",
    "    #dR_list = v0_normed.tolist() + v1_normed.tolist() + v2_normed.tolist()\n",
    "    \n",
    "    dR_list = [dR,dR,dR,dR,dR,dR]\n",
    "    #print(dR_list)\n",
    "    for i in range(len(coordinates)):\n",
    "        \n",
    "        coordinate_list.append([coordinates[0:i]+[(coordinates[i]+dR_list[i])]+coordinates[i+1:],coordinates[0:i]+[(coordinates[i]-dR_list[i])]+coordinates[i+1:]])\n",
    "    \n",
    "    #print(coordinate_list)\n",
    "    with multiprocessing.Pool() as pool:\n",
    "         ops,op_coeffs = zip(*pool.map(task2, coordinate_list))\n",
    "    \n",
    "    #print(ops)\n",
    "    return ops, op_coeffs\n",
    "\n",
    "def sequential_operators(coordinates):\n",
    "    ops = []\n",
    "    op_coeffs = []\n",
    "    \n",
    "    for i in range(len(coordinates)):\n",
    "        \n",
    "        #get qubit operators coresponding to H+ (hamiltonian for atomic distances R + dR)\n",
    "        (qubit_op_plus, num_part_plus, num_orb_plus, problem_plus, converter_plus) = get_qubit_op(coordinates[0:i]+[(coordinates[i]+dR)]+coordinates[i+1:])\n",
    "        #get qubit operators coresponding to H- (hamiltonian for atomic distances R - dR)\n",
    "        (qubit_op_minus, num_part_minus, num_orb_minus, problem_minus, converter_minus) = get_qubit_op(coordinates[0:i]+[(coordinates[i]-dR)]+coordinates[i+1:])\n",
    "\n",
    "        rep_eng_plus = problem_plus.grouped_property_transformed.get_property(\"ElectronicEnergy\").nuclear_repulsion_energy\n",
    "        rep_eng_minus  = problem_minus.grouped_property_transformed.get_property(\"ElectronicEnergy\").nuclear_repulsion_energy\n",
    "        \n",
    "        qubit_op_plus = qubit_op_plus + rep_eng_plus*(I^I^I^I) #TODO:number of I's needs to be changed according to number of qubits\n",
    "        qubit_op_minus = qubit_op_minus + rep_eng_minus*(I^I^I^I)\n",
    "        \n",
    "       \n",
    "        op =  (-(qubit_op_plus - qubit_op_minus)).reduce()\n",
    "                    \n",
    "        op_list = op.primitive.to_list() #list containing Pauli operators in support and corresponding coeffs\n",
    "        \n",
    "        #construct dict from list\n",
    "        op_dict = {}\n",
    "        for (PauliString,coeff) in op_list:\n",
    "\n",
    "            if PauliString in op_dict:\n",
    "                op_dict[PauliString] += coeff\n",
    "            else:\n",
    "                op_dict[PauliString] = coeff\n",
    "                \n",
    "        ops.append(op)\n",
    "        op_coeffs.append(op_dict)\n",
    "    #print(ops)\n",
    "    return ops, op_coeffs\n",
    "\n",
    "def parallel_expectations(exp_dict, op_set, q_instance, psi_0):\n",
    "\n",
    "    triples = []\n",
    "    for op in op_set:\n",
    "        triple = (op,q_instance,psi_0)\n",
    "        triples.append(triple)\n",
    "\n",
    "    Es = 0\n",
    "    with multiprocessing.Pool() as pool:\n",
    "        Es = pool.starmap(task1, triples)\n",
    "\n",
    "    for i in range(len(Es)):\n",
    "        exp_dict[triples[i][0]]=Es[i]\n",
    "\n",
    "    return 0\n",
    "\n",
    "def sequential_expectations(exp_dict, op_set, q_instance, psi_0):\n",
    "\n",
    "    for pauli_string in op_set:\n",
    "        \n",
    "        Obs = PauliOp(Pauli(pauli_string))\n",
    "        measurable_expression = StateFn(Obs, is_measurement=True).compose(psi_0)\n",
    "        expectation = PauliExpectation().convert(measurable_expression)  \n",
    "        sampler = CircuitSampler(q_instance).convert(expectation) \n",
    "        E = sampler.eval().real\n",
    "        exp_dict[pauli_string] = E\n",
    "\n",
    "    return 0\n",
    "\n",
    "def get_psi_0(coordinates, simulator='qasm',shots=1028):\n",
    "\n",
    "    #get qubit operator corresponding to H(R)\n",
    "    (qubit_op, num_part, num_orb, problem, converter) = get_qubit_op(coordinates)\n",
    "    \n",
    "    #get the ground state of H(R)\n",
    "    psi_0,_ = calc_ground_state(qubit_op,num_part, num_orb, problem, converter)\n",
    "    \n",
    "    psi_0 = CircuitStateFn(psi_0)\n",
    "\n",
    "    return psi_0\n",
    "\n",
    "def calc_force_and_cov(coordinates, simulator = 'qasm', PauliSet = None, mode = 'full', shots = 128):\n",
    "  \n",
    "    \n",
    "    if simulator == 'qasm':\n",
    "            backend = Aer.get_backend('qasm_simulator')\n",
    "            #backend.set_options(max_job_size=1, executor = euler_client)\n",
    "            q_instance = QuantumInstance(backend, shots=shots)\n",
    "    elif simulator == \"exact\":\n",
    "            backend = BasicAer.get_backend(\"statevector_simulator\")\n",
    "            q_instance = QuantumInstance(backend)\n",
    "    else:\n",
    "        print('Error: simulator should be qasm or exact!')\n",
    "        \n",
    "    num_coord = len(coordinates)   \n",
    "    \n",
    "    start = time.time()\n",
    "    \n",
    "\n",
    "    psi_0 = get_psi_0(coordinates, simulator = simulator, shots=shots)\n",
    "    \n",
    "    end = time.time()\n",
    "    \n",
    "    \n",
    "    time_psi_0 = end - start\n",
    "    #print(\"Took \" + str(time_psi_0) + \" s to calculate the ground state\")\n",
    "    forces = np.zeros(num_coord)\n",
    "    coordinates = coordinates.tolist()\n",
    "    \n",
    "    \n",
    "    start = time.time()\n",
    "    #get force component operators and decomposition (without the 1/(2*dR) factor, for numerical reasons)\n",
    "    #replace parallel_ with sequential_ to see effect of parallelization\n",
    "    force_ops,force_op_coeffs = parallel_operators(coordinates)\n",
    "    \n",
    "    #for ops in force_ops:\n",
    "        #print(len(ops))\n",
    "        \n",
    "    P1 = force_ops[0]\n",
    "    \n",
    "    if PauliSet == None:\n",
    "        \n",
    "        pauli_op_set = {'IIII'} #Could not initialize empty set for some reason\n",
    "        # construct set of PauliOp products that we need to calculate\n",
    "\n",
    "        for PauliString,coeff in force_op_coeffs[0].items():\n",
    "            pauli_op_set.add(PauliString)\n",
    "\n",
    "        #to get set of necessary PauliOp products:\n",
    "        \n",
    "            P_prod = (P1@P1)\n",
    "            P_list = P_prod.primitive.to_list()\n",
    "\n",
    "            for (PauliString,coeff) in P_list:\n",
    "                pauli_op_set.add(PauliString)\n",
    "                \n",
    "    else: pauli_op_set = PauliSet\n",
    "        \n",
    "    end = time.time()\n",
    "    \n",
    "    time_pauli_ops = end - start\n",
    "        \n",
    "\n",
    "        # Now we calculate the expectation values of all the relevant PauliOps\n",
    "    \n",
    "    start = time.time()\n",
    "    exp_dict = {} # dictionary with relevant expectation values\n",
    "        \n",
    "    #switch between parallel_ and sequential_ to see the effect\n",
    "    \n",
    "    parallel_expectations(exp_dict,pauli_op_set,q_instance,psi_0)\n",
    "\n",
    "    \n",
    "    for i in range(len(coordinates)):\n",
    "        for pauli_op,coeff in force_op_coeffs[i].items():\n",
    "            forces[i] += coeff.real*exp_dict[pauli_op]\n",
    "            \n",
    "    end = time.time()   \n",
    "    time_calc_exp = end - start\n",
    "    \n",
    "    \n",
    "    start = time.time()\n",
    "    COV = np.zeros((num_coord,num_coord)) #force covariance matrix, without some multiplicative factors. \n",
    "        \n",
    "    for i in range(num_coord):\n",
    "        for j in range(i,num_coord):\n",
    "\n",
    "            Pij = force_ops[i]@force_ops[j]\n",
    "            Pij_list = Pij.primitive.to_list()\n",
    "\n",
    "            #add product expectation \n",
    "            for (pauli_string,coeff) in Pij_list:\n",
    "                COV[i,j] += coeff.real*exp_dict[pauli_string]\n",
    "                    #subtract \n",
    "            COV[i,j] -= forces[i]*forces[j]\n",
    "\n",
    "            #since COV is symmetric\n",
    "            if i < j:\n",
    "                COV[j,i] = COV[i,j]\n",
    "    end = time.time()\n",
    "    \n",
    "    time_cov = end - start\n",
    "\n",
    "    print(f'Time to: Calculate Ground State - {round(time_psi_0,2)}s, Get Pauli Ops - {round(time_pauli_ops,2)}s, Calculate Pauli Expectation Values - {round(time_calc_exp,2)}s, Calculate Covariance - {round(time_cov,2)}s')\n",
    "    #print(COV)\n",
    "    \n",
    "    return forces*Ha*(1/(2*dR*angst)),COV*(Ha*(1/(2*dR*angst)))**2/shots"
   ]
  },
  {
   "cell_type": "code",
   "execution_count": 3,
   "id": "5ae5fde0",
   "metadata": {},
   "outputs": [],
   "source": [
    "#from Quantech.verlet_integrator import distance\n",
    "#from force import calc_force_and_cov\n",
    "import numpy as np\n",
    "from tqdm import tqdm #to show progress\n",
    "\n",
    "\n",
    "#implementation of the explicit Euler integrator\n",
    "femto = 1.0e-15\n",
    "angst = 1.0e-10\n",
    "\n",
    "def distance(coordinates1,coordinates2):\n",
    "    return np.sqrt(np.power((coordinates1[0] - coordinates2[0]),2) + np.power((coordinates1[1] - coordinates2[1]),2))\n",
    "    \n",
    "\n",
    "\n",
    "def main():\n",
    "    \n",
    "    #mass of particle1 (H)\n",
    "    mass_0 = 1.67e-27\n",
    "    #mass of particle2 (H)\n",
    "    mass_1 = 1.67e-27\n",
    "    #mass of particle3 (H)\n",
    "    mass_2 = 1.67e-27\n",
    "    #time step of integrator\n",
    "    dt = 0.2*femto\n",
    "    #initial velocity of atoms\n",
    "    \n",
    "    v_init_0 = np.array([0,0])\n",
    "    v_init_1 = np.array([0,0])\n",
    "    v_init_2 = np.array([0,0])\n",
    "\n",
    "    v_init = np.concatenate((v_init_0,v_init_1,v_init_2),axis=None)\n",
    "\n",
    "    #distances between atoms\n",
    "    d = 0.8\n",
    "    #rotation angle of the initial triangle\n",
    "    b = 0/180*np.pi\n",
    "    \n",
    "    #initial positions of atoms, arrangement = equilateral triangle\n",
    "    x1_init = np.array([-d/2*np.cos(b)+np.sin(b)*np.sqrt(3)/6*d,-d/2*np.sin(b)-np.cos(b)*np.sqrt(3)/6*d])+np.array([0,d*np.sqrt(3)/6])\n",
    "    x2_init = np.array([d/2*np.cos(b)+np.sin(b)*np.sqrt(3)/6*d,d/2*np.sin(b)-np.cos(b)*np.sqrt(3)/6*d])+np.array([0,d*np.sqrt(3)/6])\n",
    "    x3_init = np.array([-np.sin(b)*np.sqrt(3)/3*d,np.cos(b)*np.sqrt(3)/3*d])+np.array([0,d*np.sqrt(3)/6])\n",
    "    \n",
    "    \n",
    "    init_pos0 = x1_init\n",
    "    init_pos1 = x2_init\n",
    "    init_pos2 = x3_init\n",
    "    \n",
    "    #print(distance(init_pos0,init_pos1))\n",
    "    #print(distance(init_pos0,init_pos2))\n",
    "    #print(distance(init_pos1,init_pos2))\n",
    "    \n",
    "    init_pos = np.concatenate((init_pos0,init_pos1,init_pos2),axis=None)\n",
    "\n",
    "    #integrator timesteps\n",
    "    times = np.arange(0*femto, 100.0*femto, dt)\n",
    "    #coordinate array\n",
    "    coords = [init_pos]\n",
    "    force = []\n",
    "    distance01 = [d]\n",
    "    distance02 = [d]\n",
    "    distance12 = [d]\n",
    "    #temperature in ?? \n",
    "    #k_B*T in Joule\n",
    "    k_b = 1.38065e-23\n",
    "    T = 420\n",
    "    k_T = k_b*T\n",
    "        #delta factor\n",
    "    delta = 1*dt\n",
    "    #hold v_next\n",
    "    v_next = None\n",
    "    \n",
    "    simulator = 'qasm'\n",
    "\n",
    "    for time in tqdm(times, desc='Progress: '):\n",
    "        \n",
    "        r = coords[-1]\n",
    "        #print(r)\n",
    "        \n",
    "        (forces,COV) = calc_force_and_cov(r, simulator = simulator, shots = 2056)\n",
    "        \n",
    "        f1 = distance(np.array([forces[0],forces[1]]),np.array([0,0]))\n",
    "        \n",
    "        f2 = distance(np.array([forces[2],forces[3]]),np.array([0,0]))\n",
    "        \n",
    "        f3 = distance(np.array([forces[4],forces[5]]),np.array([0,0]))    \n",
    "        \n",
    "        print(\"f0,f1,f2 = \" + str([f1,f2,f3]))\n",
    "        \n",
    "        #print(forces)\n",
    "        #print(COV)\n",
    "        \n",
    "        if time == 0:\n",
    "\n",
    "            v_next = v_init - delta/(2*k_T*np.power(mass_0*mass_1*mass_2,1/3))*np.matmul(COV,v_init)*dt + dt*forces/mass_0\n",
    "            \n",
    "            r_next = (r*angst + dt*v_next)/angst\n",
    "\n",
    "            #r_split = np.array_split(r_next,3)\n",
    "\n",
    "            coords.append(r_next)\n",
    "\n",
    "        else:\n",
    "\n",
    "            v_next += - delta/(2*k_T*np.power(mass_0*mass_1*mass_2,1/3))*np.matmul(COV,v_next)*dt + dt*forces/mass_0\n",
    "            \n",
    "            r_next = (r*angst + dt*v_next)/angst\n",
    "\n",
    "            #r_split = np.array_split(r_next,3)\n",
    "\n",
    "            coords.append(r_next)\n",
    "\n",
    "        dists = np.split(coords[-1],3)\n",
    "        d01 = distance(dists[0],dists[1])\n",
    "        distance01.append(d01)\n",
    "        d02 = distance(dists[0],dists[2])\n",
    "        distance02.append(d02)\n",
    "        d12 = distance(dists[1],dists[2])\n",
    "        distance12.append(d12)\n",
    "        \n",
    "    return (distance01,distance02,distance12,times) "
   ]
  },
  {
   "cell_type": "code",
   "execution_count": 4,
   "id": "be5bb22e",
   "metadata": {
    "scrolled": false
   },
   "outputs": [
    {
     "name": "stderr",
     "output_type": "stream",
     "text": [
      "Progress:   0%|          | 1/500 [00:17<2:28:57, 17.91s/it]"
     ]
    },
    {
     "name": "stdout",
     "output_type": "stream",
     "text": [
      "Time to: Calculate Ground State - 2.36s, Get Pauli Ops - 9.88s, Calculate Pauli Expectation Values - 4.95s, Calculate Covariance - 0.46s\n",
      "f0,f1,f2 = [1.3254061899918305e-08, 1.3254061899916239e-08, 1.0762874364384306e-08]\n"
     ]
    },
    {
     "name": "stderr",
     "output_type": "stream",
     "text": [
      "Progress:   0%|          | 2/500 [00:34<2:23:51, 17.33s/it]"
     ]
    },
    {
     "name": "stdout",
     "output_type": "stream",
     "text": [
      "Time to: Calculate Ground State - 1.67s, Get Pauli Ops - 8.94s, Calculate Pauli Expectation Values - 5.5s, Calculate Covariance - 0.81s\n",
      "f0,f1,f2 = [1.1393875652042182e-08, 1.1393875652039063e-08, 1.3070322944194001e-08]\n"
     ]
    },
    {
     "name": "stderr",
     "output_type": "stream",
     "text": [
      "Progress:   1%|          | 3/500 [00:51<2:20:28, 16.96s/it]"
     ]
    },
    {
     "name": "stdout",
     "output_type": "stream",
     "text": [
      "Time to: Calculate Ground State - 1.62s, Get Pauli Ops - 8.59s, Calculate Pauli Expectation Values - 5.26s, Calculate Covariance - 1.04s\n",
      "f0,f1,f2 = [1.4963265201271054e-08, 1.4947203411764497e-08, 4.6849992097021544e-09]\n"
     ]
    },
    {
     "name": "stderr",
     "output_type": "stream",
     "text": [
      "Progress:   1%|          | 4/500 [01:06<2:14:12, 16.24s/it]"
     ]
    },
    {
     "name": "stdout",
     "output_type": "stream",
     "text": [
      "Time to: Calculate Ground State - 1.59s, Get Pauli Ops - 7.58s, Calculate Pauli Expectation Values - 5.0s, Calculate Covariance - 0.95s\n",
      "f0,f1,f2 = [1.1142391588850514e-08, 1.1129358788566878e-08, 6.828183429989417e-09]\n"
     ]
    },
    {
     "name": "stderr",
     "output_type": "stream",
     "text": [
      "Progress:   1%|          | 5/500 [01:20<2:08:33, 15.58s/it]"
     ]
    },
    {
     "name": "stdout",
     "output_type": "stream",
     "text": [
      "Time to: Calculate Ground State - 0.97s, Get Pauli Ops - 7.06s, Calculate Pauli Expectation Values - 5.24s, Calculate Covariance - 1.16s\n",
      "f0,f1,f2 = [7.334657017818559e-09, 7.336297147619987e-09, 9.891839776248622e-09]\n"
     ]
    },
    {
     "name": "stderr",
     "output_type": "stream",
     "text": [
      "Progress:   1%|          | 6/500 [01:36<2:07:53, 15.53s/it]"
     ]
    },
    {
     "name": "stdout",
     "output_type": "stream",
     "text": [
      "Time to: Calculate Ground State - 1.29s, Get Pauli Ops - 7.9s, Calculate Pauli Expectation Values - 5.33s, Calculate Covariance - 0.92s\n",
      "f0,f1,f2 = [6.577484827456415e-09, 6.543970265588703e-09, 1.317803404522836e-08]\n"
     ]
    },
    {
     "name": "stderr",
     "output_type": "stream",
     "text": [
      "Progress:   1%|▏         | 7/500 [01:52<2:08:09, 15.60s/it]"
     ]
    },
    {
     "name": "stdout",
     "output_type": "stream",
     "text": [
      "Time to: Calculate Ground State - 1.58s, Get Pauli Ops - 8.12s, Calculate Pauli Expectation Values - 5.18s, Calculate Covariance - 0.85s\n",
      "f0,f1,f2 = [5.270050576012055e-09, 5.254927146866565e-09, 3.6933223532934173e-09]\n"
     ]
    },
    {
     "name": "stderr",
     "output_type": "stream",
     "text": [
      "Progress:   2%|▏         | 8/500 [02:07<2:07:42, 15.57s/it]"
     ]
    },
    {
     "name": "stdout",
     "output_type": "stream",
     "text": [
      "Time to: Calculate Ground State - 1.55s, Get Pauli Ops - 8.13s, Calculate Pauli Expectation Values - 5.14s, Calculate Covariance - 0.7s\n",
      "f0,f1,f2 = [5.5663204368595804e-09, 5.484009135341479e-09, 9.58719238142783e-09]\n"
     ]
    },
    {
     "name": "stderr",
     "output_type": "stream",
     "text": [
      "Progress:   2%|▏         | 9/500 [02:22<2:04:51, 15.26s/it]"
     ]
    },
    {
     "name": "stdout",
     "output_type": "stream",
     "text": [
      "Time to: Calculate Ground State - 1.32s, Get Pauli Ops - 6.85s, Calculate Pauli Expectation Values - 5.33s, Calculate Covariance - 1.05s\n",
      "f0,f1,f2 = [2.3166439619892484e-09, 2.2914105659568585e-09, 7.369843065130574e-10]\n"
     ]
    },
    {
     "name": "stderr",
     "output_type": "stream",
     "text": [
      "Progress:   2%|▏         | 10/500 [02:39<2:08:49, 15.77s/it]"
     ]
    },
    {
     "name": "stdout",
     "output_type": "stream",
     "text": [
      "Time to: Calculate Ground State - 1.63s, Get Pauli Ops - 8.97s, Calculate Pauli Expectation Values - 5.52s, Calculate Covariance - 0.81s\n",
      "f0,f1,f2 = [3.2796039962793294e-09, 3.2049740540563833e-09, 3.831698744417845e-09]\n"
     ]
    },
    {
     "name": "stderr",
     "output_type": "stream",
     "text": [
      "Progress:   2%|▏         | 11/500 [02:53<2:06:20, 15.50s/it]"
     ]
    },
    {
     "name": "stdout",
     "output_type": "stream",
     "text": [
      "Time to: Calculate Ground State - 1.61s, Get Pauli Ops - 7.01s, Calculate Pauli Expectation Values - 5.24s, Calculate Covariance - 1.03s\n",
      "f0,f1,f2 = [1.4304050817758518e-09, 1.3902417574539426e-09, 2.5594448800393136e-09]\n"
     ]
    },
    {
     "name": "stderr",
     "output_type": "stream",
     "text": [
      "Progress:   2%|▏         | 12/500 [03:09<2:06:58, 15.61s/it]"
     ]
    },
    {
     "name": "stdout",
     "output_type": "stream",
     "text": [
      "Time to: Calculate Ground State - 1.59s, Get Pauli Ops - 7.75s, Calculate Pauli Expectation Values - 5.43s, Calculate Covariance - 1.09s\n",
      "f0,f1,f2 = [2.1849296777220484e-09, 2.1790538550567398e-09, 1.3183216830557484e-09]\n"
     ]
    },
    {
     "name": "stderr",
     "output_type": "stream",
     "text": [
      "Progress:   3%|▎         | 13/500 [03:25<2:06:49, 15.62s/it]"
     ]
    },
    {
     "name": "stdout",
     "output_type": "stream",
     "text": [
      "Time to: Calculate Ground State - 1.43s, Get Pauli Ops - 7.55s, Calculate Pauli Expectation Values - 5.42s, Calculate Covariance - 1.25s\n",
      "f0,f1,f2 = [2.4989179840253404e-09, 2.505253618223105e-09, 2.885902839623997e-09]\n"
     ]
    },
    {
     "name": "stderr",
     "output_type": "stream",
     "text": [
      "Progress:   3%|▎         | 14/500 [03:41<2:06:32, 15.62s/it]"
     ]
    },
    {
     "name": "stdout",
     "output_type": "stream",
     "text": [
      "Time to: Calculate Ground State - 1.6s, Get Pauli Ops - 7.62s, Calculate Pauli Expectation Values - 5.23s, Calculate Covariance - 1.16s\n",
      "f0,f1,f2 = [6.10516497294949e-09, 5.994073124811044e-09, 3.546315624337803e-10]\n"
     ]
    },
    {
     "name": "stderr",
     "output_type": "stream",
     "text": [
      "Progress:   3%|▎         | 15/500 [03:56<2:06:44, 15.68s/it]"
     ]
    },
    {
     "name": "stdout",
     "output_type": "stream",
     "text": [
      "Time to: Calculate Ground State - 1.58s, Get Pauli Ops - 7.0s, Calculate Pauli Expectation Values - 6.04s, Calculate Covariance - 1.18s\n",
      "f0,f1,f2 = [5.684370845970068e-09, 5.620578619949431e-09, 1.1077352532074132e-09]\n"
     ]
    },
    {
     "name": "stderr",
     "output_type": "stream",
     "text": [
      "Progress:   3%|▎         | 16/500 [04:14<2:09:55, 16.11s/it]"
     ]
    },
    {
     "name": "stdout",
     "output_type": "stream",
     "text": [
      "Time to: Calculate Ground State - 1.66s, Get Pauli Ops - 7.98s, Calculate Pauli Expectation Values - 6.29s, Calculate Covariance - 1.18s\n",
      "f0,f1,f2 = [4.438585648529951e-09, 4.3567138925263664e-09, 8.665282418121134e-09]\n"
     ]
    },
    {
     "name": "stderr",
     "output_type": "stream",
     "text": [
      "Progress:   3%|▎         | 17/500 [04:31<2:12:59, 16.52s/it]"
     ]
    },
    {
     "name": "stdout",
     "output_type": "stream",
     "text": [
      "Time to: Calculate Ground State - 1.56s, Get Pauli Ops - 9.02s, Calculate Pauli Expectation Values - 5.74s, Calculate Covariance - 1.16s\n",
      "f0,f1,f2 = [7.799276894494898e-09, 7.66821576092471e-09, 7.354177014934153e-10]\n"
     ]
    },
    {
     "name": "stderr",
     "output_type": "stream",
     "text": [
      "Progress:   4%|▎         | 18/500 [04:47<2:12:22, 16.48s/it]"
     ]
    },
    {
     "name": "stdout",
     "output_type": "stream",
     "text": [
      "Time to: Calculate Ground State - 1.56s, Get Pauli Ops - 8.38s, Calculate Pauli Expectation Values - 5.71s, Calculate Covariance - 0.72s\n",
      "f0,f1,f2 = [5.311281552837081e-09, 5.3016560677092814e-09, 4.271766575708697e-09]\n"
     ]
    },
    {
     "name": "stderr",
     "output_type": "stream",
     "text": [
      "Progress:   4%|▍         | 19/500 [05:04<2:11:16, 16.38s/it]"
     ]
    },
    {
     "name": "stdout",
     "output_type": "stream",
     "text": [
      "Time to: Calculate Ground State - 1.57s, Get Pauli Ops - 7.75s, Calculate Pauli Expectation Values - 5.96s, Calculate Covariance - 0.85s\n",
      "f0,f1,f2 = [7.583455976515069e-09, 7.486470113483927e-09, 2.308108493172752e-09]\n"
     ]
    },
    {
     "name": "stderr",
     "output_type": "stream",
     "text": [
      "Progress:   4%|▍         | 20/500 [05:19<2:08:11, 16.02s/it]"
     ]
    },
    {
     "name": "stdout",
     "output_type": "stream",
     "text": [
      "Time to: Calculate Ground State - 1.46s, Get Pauli Ops - 7.47s, Calculate Pauli Expectation Values - 5.23s, Calculate Covariance - 1.04s\n",
      "f0,f1,f2 = [4.826170972995206e-09, 4.8409997664789425e-09, 7.870548188732572e-09]\n"
     ]
    },
    {
     "name": "stderr",
     "output_type": "stream",
     "text": [
      "Progress:   4%|▍         | 21/500 [05:33<2:04:54, 15.65s/it]"
     ]
    },
    {
     "name": "stdout",
     "output_type": "stream",
     "text": [
      "Time to: Calculate Ground State - 1.46s, Get Pauli Ops - 7.28s, Calculate Pauli Expectation Values - 5.07s, Calculate Covariance - 0.95s\n",
      "f0,f1,f2 = [7.568840695268608e-09, 7.49263333946207e-09, 2.8313205503041455e-09]\n"
     ]
    },
    {
     "name": "stderr",
     "output_type": "stream",
     "text": [
      "Progress:   4%|▍         | 22/500 [05:48<2:01:05, 15.20s/it]"
     ]
    },
    {
     "name": "stdout",
     "output_type": "stream",
     "text": [
      "Time to: Calculate Ground State - 1.55s, Get Pauli Ops - 6.68s, Calculate Pauli Expectation Values - 5.25s, Calculate Covariance - 0.68s\n",
      "f0,f1,f2 = [5.174086874617264e-09, 5.208862959171064e-09, 7.33757371393735e-09]\n"
     ]
    },
    {
     "name": "stderr",
     "output_type": "stream",
     "text": [
      "Progress:   5%|▍         | 23/500 [06:03<2:00:00, 15.10s/it]"
     ]
    },
    {
     "name": "stdout",
     "output_type": "stream",
     "text": [
      "Time to: Calculate Ground State - 1.53s, Get Pauli Ops - 7.05s, Calculate Pauli Expectation Values - 5.13s, Calculate Covariance - 1.13s\n",
      "f0,f1,f2 = [5.997543116952864e-09, 6.013136497339625e-09, 5.8301315221976875e-09]\n"
     ]
    },
    {
     "name": "stderr",
     "output_type": "stream",
     "text": [
      "Progress:   5%|▍         | 24/500 [06:17<1:58:18, 14.91s/it]"
     ]
    },
    {
     "name": "stdout",
     "output_type": "stream",
     "text": [
      "Time to: Calculate Ground State - 0.93s, Get Pauli Ops - 7.43s, Calculate Pauli Expectation Values - 5.35s, Calculate Covariance - 0.78s\n",
      "f0,f1,f2 = [5.2542332165262565e-09, 5.230209628540236e-09, 9.4478353693276e-09]\n"
     ]
    },
    {
     "name": "stderr",
     "output_type": "stream",
     "text": [
      "Progress:   5%|▌         | 25/500 [06:32<1:58:36, 14.98s/it]"
     ]
    },
    {
     "name": "stdout",
     "output_type": "stream",
     "text": [
      "Time to: Calculate Ground State - 1.56s, Get Pauli Ops - 6.9s, Calculate Pauli Expectation Values - 5.52s, Calculate Covariance - 1.16s\n",
      "f0,f1,f2 = [5.948306468411787e-09, 5.964934656458582e-09, 6.067247395500593e-09]\n"
     ]
    },
    {
     "name": "stderr",
     "output_type": "stream",
     "text": [
      "Progress:   5%|▌         | 26/500 [06:48<2:01:03, 15.32s/it]"
     ]
    },
    {
     "name": "stdout",
     "output_type": "stream",
     "text": [
      "Time to: Calculate Ground State - 1.55s, Get Pauli Ops - 8.28s, Calculate Pauli Expectation Values - 5.09s, Calculate Covariance - 1.2s\n",
      "f0,f1,f2 = [6.414280423096386e-09, 6.178544609280791e-09, 1.2211672665219052e-08]\n"
     ]
    },
    {
     "name": "stderr",
     "output_type": "stream",
     "text": [
      "Progress:   5%|▌         | 27/500 [07:03<1:58:16, 15.00s/it]"
     ]
    },
    {
     "name": "stdout",
     "output_type": "stream",
     "text": [
      "Time to: Calculate Ground State - 1.57s, Get Pauli Ops - 6.93s, Calculate Pauli Expectation Values - 4.96s, Calculate Covariance - 0.79s\n",
      "f0,f1,f2 = [5.41181252034388e-09, 5.379365370428827e-09, 1.0122759511522977e-08]\n"
     ]
    },
    {
     "name": "stderr",
     "output_type": "stream",
     "text": [
      "Progress:   6%|▌         | 28/500 [07:17<1:56:39, 14.83s/it]"
     ]
    },
    {
     "name": "stdout",
     "output_type": "stream",
     "text": [
      "Time to: Calculate Ground State - 1.71s, Get Pauli Ops - 6.99s, Calculate Pauli Expectation Values - 4.98s, Calculate Covariance - 0.74s\n",
      "f0,f1,f2 = [5.3454832088037315e-09, 5.357846569645835e-09, 8.096617376738778e-09]\n"
     ]
    },
    {
     "name": "stderr",
     "output_type": "stream",
     "text": [
      "Progress:   6%|▌         | 29/500 [07:31<1:55:23, 14.70s/it]"
     ]
    },
    {
     "name": "stdout",
     "output_type": "stream",
     "text": [
      "Time to: Calculate Ground State - 1.53s, Get Pauli Ops - 7.14s, Calculate Pauli Expectation Values - 4.93s, Calculate Covariance - 0.8s\n",
      "f0,f1,f2 = [5.771240342736125e-09, 5.7910668401919e-09, 6.13594578994725e-09]\n"
     ]
    },
    {
     "name": "stderr",
     "output_type": "stream",
     "text": [
      "Progress:   6%|▌         | 30/500 [07:45<1:53:26, 14.48s/it]"
     ]
    },
    {
     "name": "stdout",
     "output_type": "stream",
     "text": [
      "Time to: Calculate Ground State - 1.55s, Get Pauli Ops - 6.46s, Calculate Pauli Expectation Values - 4.81s, Calculate Covariance - 1.14s\n",
      "f0,f1,f2 = [9.006525103370774e-09, 9.104149138317265e-09, 1.148111459741736e-09]\n"
     ]
    },
    {
     "name": "stderr",
     "output_type": "stream",
     "text": [
      "Progress:   6%|▌         | 31/500 [08:00<1:53:51, 14.57s/it]"
     ]
    },
    {
     "name": "stdout",
     "output_type": "stream",
     "text": [
      "Time to: Calculate Ground State - 1.55s, Get Pauli Ops - 7.43s, Calculate Pauli Expectation Values - 4.95s, Calculate Covariance - 0.84s\n",
      "f0,f1,f2 = [5.649903506874197e-09, 5.7992140444395e-09, 1.1259270843832677e-08]\n"
     ]
    },
    {
     "name": "stderr",
     "output_type": "stream",
     "text": [
      "Progress:   6%|▋         | 32/500 [08:14<1:53:11, 14.51s/it]"
     ]
    },
    {
     "name": "stdout",
     "output_type": "stream",
     "text": [
      "Time to: Calculate Ground State - 1.55s, Get Pauli Ops - 7.17s, Calculate Pauli Expectation Values - 4.92s, Calculate Covariance - 0.74s\n",
      "f0,f1,f2 = [5.985797969069058e-09, 6.024123406381025e-09, 4.468890023631533e-09]\n"
     ]
    },
    {
     "name": "stderr",
     "output_type": "stream",
     "text": [
      "Progress:   7%|▋         | 33/500 [08:29<1:52:35, 14.47s/it]"
     ]
    },
    {
     "name": "stdout",
     "output_type": "stream",
     "text": [
      "Time to: Calculate Ground State - 1.52s, Get Pauli Ops - 7.01s, Calculate Pauli Expectation Values - 4.88s, Calculate Covariance - 0.95s\n",
      "f0,f1,f2 = [4.9225916235073896e-09, 4.910962624455182e-09, 6.3083682719123636e-09]\n"
     ]
    },
    {
     "name": "stderr",
     "output_type": "stream",
     "text": [
      "Progress:   7%|▋         | 34/500 [08:44<1:53:05, 14.56s/it]"
     ]
    },
    {
     "name": "stdout",
     "output_type": "stream",
     "text": [
      "Time to: Calculate Ground State - 1.57s, Get Pauli Ops - 7.31s, Calculate Pauli Expectation Values - 4.97s, Calculate Covariance - 0.93s\n",
      "f0,f1,f2 = [5.260782953218768e-09, 5.274280665759462e-09, 4.446136209237824e-09]\n"
     ]
    },
    {
     "name": "stderr",
     "output_type": "stream",
     "text": [
      "Progress:   7%|▋         | 35/500 [08:58<1:52:23, 14.50s/it]"
     ]
    },
    {
     "name": "stdout",
     "output_type": "stream",
     "text": [
      "Time to: Calculate Ground State - 1.57s, Get Pauli Ops - 7.15s, Calculate Pauli Expectation Values - 4.92s, Calculate Covariance - 0.71s\n",
      "f0,f1,f2 = [5.199780653010319e-09, 5.216205197361217e-09, 3.8074855234507745e-09]\n"
     ]
    },
    {
     "name": "stderr",
     "output_type": "stream",
     "text": [
      "Progress:   7%|▋         | 36/500 [09:12<1:52:10, 14.51s/it]"
     ]
    },
    {
     "name": "stdout",
     "output_type": "stream",
     "text": [
      "Time to: Calculate Ground State - 1.55s, Get Pauli Ops - 6.51s, Calculate Pauli Expectation Values - 5.35s, Calculate Covariance - 1.1s\n",
      "f0,f1,f2 = [3.739885271822957e-09, 3.7487333539283034e-09, 6.634366107317908e-09]\n"
     ]
    },
    {
     "name": "stderr",
     "output_type": "stream",
     "text": [
      "Progress:   7%|▋         | 37/500 [09:26<1:50:45, 14.35s/it]"
     ]
    },
    {
     "name": "stdout",
     "output_type": "stream",
     "text": [
      "Time to: Calculate Ground State - 1.55s, Get Pauli Ops - 6.11s, Calculate Pauli Expectation Values - 5.11s, Calculate Covariance - 1.22s\n",
      "f0,f1,f2 = [6.860233916478973e-09, 6.876139309037678e-09, 9.297697357258665e-10]\n"
     ]
    },
    {
     "name": "stderr",
     "output_type": "stream",
     "text": [
      "Progress:   8%|▊         | 38/500 [09:41<1:49:54, 14.27s/it]"
     ]
    },
    {
     "name": "stdout",
     "output_type": "stream",
     "text": [
      "Time to: Calculate Ground State - 0.97s, Get Pauli Ops - 7.19s, Calculate Pauli Expectation Values - 4.9s, Calculate Covariance - 1.02s\n",
      "f0,f1,f2 = [3.0983026187155275e-09, 3.0937901834816775e-09, 2.885156544291848e-09]\n"
     ]
    },
    {
     "name": "stderr",
     "output_type": "stream",
     "text": [
      "Progress:   8%|▊         | 39/500 [09:56<1:51:29, 14.51s/it]"
     ]
    },
    {
     "name": "stdout",
     "output_type": "stream",
     "text": [
      "Time to: Calculate Ground State - 1.58s, Get Pauli Ops - 6.97s, Calculate Pauli Expectation Values - 5.42s, Calculate Covariance - 1.09s\n",
      "f0,f1,f2 = [3.7244245675008716e-09, 3.671761069875318e-09, 7.103636057557196e-09]\n"
     ]
    },
    {
     "name": "stderr",
     "output_type": "stream",
     "text": [
      "Progress:   8%|▊         | 40/500 [10:10<1:51:06, 14.49s/it]"
     ]
    },
    {
     "name": "stdout",
     "output_type": "stream",
     "text": [
      "Time to: Calculate Ground State - 1.57s, Get Pauli Ops - 7.08s, Calculate Pauli Expectation Values - 4.96s, Calculate Covariance - 0.84s\n",
      "f0,f1,f2 = [2.4177448321936778e-09, 2.333364423808542e-09, 4.543561706192512e-09]\n"
     ]
    },
    {
     "name": "stderr",
     "output_type": "stream",
     "text": [
      "Progress:   8%|▊         | 41/500 [10:27<1:56:39, 15.25s/it]"
     ]
    },
    {
     "name": "stdout",
     "output_type": "stream",
     "text": [
      "Time to: Calculate Ground State - 1.57s, Get Pauli Ops - 8.49s, Calculate Pauli Expectation Values - 5.54s, Calculate Covariance - 1.4s\n",
      "f0,f1,f2 = [3.508389904150437e-09, 3.3665962543608693e-09, 3.0345085355453712e-09]\n"
     ]
    },
    {
     "name": "stderr",
     "output_type": "stream",
     "text": [
      "Progress:   8%|▊         | 42/500 [10:43<1:58:39, 15.54s/it]"
     ]
    },
    {
     "name": "stdout",
     "output_type": "stream",
     "text": [
      "Time to: Calculate Ground State - 1.66s, Get Pauli Ops - 8.74s, Calculate Pauli Expectation Values - 5.11s, Calculate Covariance - 0.71s\n",
      "f0,f1,f2 = [3.938503957418793e-09, 3.69674529344815e-09, 5.1769540434128606e-09]\n"
     ]
    },
    {
     "name": "stderr",
     "output_type": "stream",
     "text": [
      "Progress:   9%|▊         | 43/500 [10:59<1:59:40, 15.71s/it]"
     ]
    },
    {
     "name": "stdout",
     "output_type": "stream",
     "text": [
      "Time to: Calculate Ground State - 1.59s, Get Pauli Ops - 7.95s, Calculate Pauli Expectation Values - 5.2s, Calculate Covariance - 1.35s\n",
      "f0,f1,f2 = [4.597458399805118e-09, 4.273333721797281e-09, 7.570396587641664e-09]\n"
     ]
    },
    {
     "name": "stderr",
     "output_type": "stream",
     "text": [
      "Progress:   9%|▉         | 44/500 [11:16<2:01:35, 16.00s/it]"
     ]
    },
    {
     "name": "stdout",
     "output_type": "stream",
     "text": [
      "Time to: Calculate Ground State - 1.61s, Get Pauli Ops - 8.45s, Calculate Pauli Expectation Values - 5.28s, Calculate Covariance - 1.32s\n",
      "f0,f1,f2 = [3.668100780463747e-09, 3.5400275903098776e-09, 7.258656284176653e-09]\n"
     ]
    },
    {
     "name": "stderr",
     "output_type": "stream",
     "text": [
      "Progress:   9%|▉         | 45/500 [11:32<2:02:07, 16.10s/it]"
     ]
    },
    {
     "name": "stdout",
     "output_type": "stream",
     "text": [
      "Time to: Calculate Ground State - 1.67s, Get Pauli Ops - 8.31s, Calculate Pauli Expectation Values - 5.3s, Calculate Covariance - 1.07s\n",
      "f0,f1,f2 = [5.987982541870665e-09, 5.9415191454189225e-09, 3.33397085881833e-09]\n"
     ]
    },
    {
     "name": "stderr",
     "output_type": "stream",
     "text": [
      "Progress:   9%|▉         | 46/500 [11:49<2:02:19, 16.17s/it]"
     ]
    },
    {
     "name": "stdout",
     "output_type": "stream",
     "text": [
      "Time to: Calculate Ground State - 1.6s, Get Pauli Ops - 8.66s, Calculate Pauli Expectation Values - 5.15s, Calculate Covariance - 0.9s\n",
      "f0,f1,f2 = [5.933288924701212e-09, 5.936301411079506e-09, 1.00581398888364e-08]\n"
     ]
    },
    {
     "name": "stderr",
     "output_type": "stream",
     "text": [
      "Progress:   9%|▉         | 47/500 [12:04<2:00:51, 16.01s/it]"
     ]
    },
    {
     "name": "stdout",
     "output_type": "stream",
     "text": [
      "Time to: Calculate Ground State - 0.91s, Get Pauli Ops - 7.57s, Calculate Pauli Expectation Values - 5.9s, Calculate Covariance - 1.26s\n",
      "f0,f1,f2 = [7.714408601491903e-09, 7.787997410480361e-09, 1.0227110470727185e-08]\n"
     ]
    },
    {
     "name": "stderr",
     "output_type": "stream",
     "text": [
      "Progress:  10%|▉         | 48/500 [12:20<1:59:55, 15.92s/it]"
     ]
    },
    {
     "name": "stdout",
     "output_type": "stream",
     "text": [
      "Time to: Calculate Ground State - 0.97s, Get Pauli Ops - 8.16s, Calculate Pauli Expectation Values - 5.31s, Calculate Covariance - 1.27s\n",
      "f0,f1,f2 = [9.545729849769093e-09, 9.57535769633731e-09, 1.0653619846666882e-08]\n"
     ]
    },
    {
     "name": "stderr",
     "output_type": "stream",
     "text": [
      "Progress:  10%|▉         | 49/500 [12:37<2:02:17, 16.27s/it]"
     ]
    },
    {
     "name": "stdout",
     "output_type": "stream",
     "text": [
      "Time to: Calculate Ground State - 1.56s, Get Pauli Ops - 8.85s, Calculate Pauli Expectation Values - 5.36s, Calculate Covariance - 1.31s\n",
      "f0,f1,f2 = [1.1348964286223136e-08, 1.1357307148555923e-08, 1.0424342980585396e-08]\n"
     ]
    },
    {
     "name": "stderr",
     "output_type": "stream",
     "text": [
      "Progress:  10%|█         | 50/500 [12:53<2:01:14, 16.16s/it]"
     ]
    },
    {
     "name": "stdout",
     "output_type": "stream",
     "text": [
      "Time to: Calculate Ground State - 1.6s, Get Pauli Ops - 7.99s, Calculate Pauli Expectation Values - 5.22s, Calculate Covariance - 1.1s\n",
      "f0,f1,f2 = [1.1185958422645168e-08, 1.1209078285942664e-08, 1.3747725415021015e-08]\n"
     ]
    },
    {
     "name": "stderr",
     "output_type": "stream",
     "text": [
      "Progress:  10%|█         | 51/500 [13:09<2:00:29, 16.10s/it]"
     ]
    },
    {
     "name": "stdout",
     "output_type": "stream",
     "text": [
      "Time to: Calculate Ground State - 1.57s, Get Pauli Ops - 7.86s, Calculate Pauli Expectation Values - 5.24s, Calculate Covariance - 1.29s\n",
      "f0,f1,f2 = [1.2875411152513971e-08, 1.2876575084791421e-08, 1.0695342568086832e-08]\n"
     ]
    },
    {
     "name": "stderr",
     "output_type": "stream",
     "text": [
      "Progress:  10%|█         | 52/500 [13:23<1:55:34, 15.48s/it]"
     ]
    },
    {
     "name": "stdout",
     "output_type": "stream",
     "text": [
      "Time to: Calculate Ground State - 1.57s, Get Pauli Ops - 6.12s, Calculate Pauli Expectation Values - 5.1s, Calculate Covariance - 1.22s\n",
      "f0,f1,f2 = [1.1135854611678981e-08, 1.1141701525840274e-08, 1.5403455032861876e-08]\n"
     ]
    },
    {
     "name": "stderr",
     "output_type": "stream",
     "text": [
      "Progress:  11%|█         | 53/500 [13:40<1:57:54, 15.83s/it]"
     ]
    },
    {
     "name": "stdout",
     "output_type": "stream",
     "text": [
      "Time to: Calculate Ground State - 1.52s, Get Pauli Ops - 8.38s, Calculate Pauli Expectation Values - 5.59s, Calculate Covariance - 1.14s\n",
      "f0,f1,f2 = [1.1223340051179507e-08, 1.122264763830859e-08, 1.2667406107909103e-08]\n"
     ]
    },
    {
     "name": "stderr",
     "output_type": "stream",
     "text": [
      "Progress:  11%|█         | 54/500 [13:55<1:56:18, 15.65s/it]"
     ]
    },
    {
     "name": "stdout",
     "output_type": "stream",
     "text": [
      "Time to: Calculate Ground State - 1.62s, Get Pauli Ops - 6.9s, Calculate Pauli Expectation Values - 5.52s, Calculate Covariance - 1.18s\n",
      "f0,f1,f2 = [1.1191137183038339e-08, 1.1194820146470528e-08, 9.26910159064304e-09]\n"
     ]
    },
    {
     "name": "stderr",
     "output_type": "stream",
     "text": [
      "Progress:  11%|█         | 55/500 [14:11<1:56:06, 15.66s/it]"
     ]
    },
    {
     "name": "stdout",
     "output_type": "stream",
     "text": [
      "Time to: Calculate Ground State - 1.57s, Get Pauli Ops - 7.99s, Calculate Pauli Expectation Values - 5.21s, Calculate Covariance - 0.9s\n",
      "f0,f1,f2 = [8.079705357641162e-09, 8.122552090571576e-09, 1.5797384689538916e-08]\n"
     ]
    },
    {
     "name": "stderr",
     "output_type": "stream",
     "text": [
      "Progress:  11%|█         | 56/500 [14:26<1:54:41, 15.50s/it]"
     ]
    },
    {
     "name": "stdout",
     "output_type": "stream",
     "text": [
      "Time to: Calculate Ground State - 1.59s, Get Pauli Ops - 7.13s, Calculate Pauli Expectation Values - 5.28s, Calculate Covariance - 1.13s\n",
      "f0,f1,f2 = [6.911384709480332e-09, 6.86058554480778e-09, 8.74924705399515e-09]\n"
     ]
    },
    {
     "name": "stderr",
     "output_type": "stream",
     "text": [
      "Progress:  11%|█▏        | 57/500 [14:40<1:52:28, 15.23s/it]"
     ]
    },
    {
     "name": "stdout",
     "output_type": "stream",
     "text": [
      "Time to: Calculate Ground State - 1.59s, Get Pauli Ops - 7.0s, Calculate Pauli Expectation Values - 5.22s, Calculate Covariance - 0.81s\n",
      "f0,f1,f2 = [5.495562141893003e-09, 5.476078472591256e-09, 6.098576533733188e-09]\n"
     ]
    },
    {
     "name": "stderr",
     "output_type": "stream",
     "text": [
      "Progress:  12%|█▏        | 58/500 [14:55<1:51:19, 15.11s/it]"
     ]
    },
    {
     "name": "stdout",
     "output_type": "stream",
     "text": [
      "Time to: Calculate Ground State - 1.66s, Get Pauli Ops - 6.94s, Calculate Pauli Expectation Values - 5.21s, Calculate Covariance - 1.02s\n",
      "f0,f1,f2 = [4.875943586131178e-09, 4.942631049185022e-09, 2.709100888718036e-09]\n"
     ]
    },
    {
     "name": "stderr",
     "output_type": "stream",
     "text": [
      "Progress:  12%|█▏        | 59/500 [15:11<1:51:42, 15.20s/it]"
     ]
    },
    {
     "name": "stdout",
     "output_type": "stream",
     "text": [
      "Time to: Calculate Ground State - 1.56s, Get Pauli Ops - 7.09s, Calculate Pauli Expectation Values - 5.43s, Calculate Covariance - 1.31s\n",
      "f0,f1,f2 = [3.901871513725653e-09, 3.998049875452861e-09, 6.218521632480234e-10]\n"
     ]
    },
    {
     "name": "stderr",
     "output_type": "stream",
     "text": [
      "Progress:  12%|█▏        | 60/500 [15:26<1:52:54, 15.40s/it]"
     ]
    },
    {
     "name": "stdout",
     "output_type": "stream",
     "text": [
      "Time to: Calculate Ground State - 1.61s, Get Pauli Ops - 7.34s, Calculate Pauli Expectation Values - 5.86s, Calculate Covariance - 1.06s\n",
      "f0,f1,f2 = [3.09232526628862e-09, 3.2400474430299497e-09, 2.0244267757472018e-09]\n"
     ]
    },
    {
     "name": "stderr",
     "output_type": "stream",
     "text": [
      "Progress:  12%|█▏        | 61/500 [15:42<1:53:19, 15.49s/it]"
     ]
    },
    {
     "name": "stdout",
     "output_type": "stream",
     "text": [
      "Time to: Calculate Ground State - 1.55s, Get Pauli Ops - 7.56s, Calculate Pauli Expectation Values - 5.3s, Calculate Covariance - 1.29s\n",
      "f0,f1,f2 = [1.7668035781281196e-09, 1.908468939967951e-09, 2.452368081878432e-09]\n"
     ]
    },
    {
     "name": "stderr",
     "output_type": "stream",
     "text": [
      "Progress:  12%|█▏        | 62/500 [15:56<1:50:15, 15.10s/it]"
     ]
    },
    {
     "name": "stdout",
     "output_type": "stream",
     "text": [
      "Time to: Calculate Ground State - 1.59s, Get Pauli Ops - 6.44s, Calculate Pauli Expectation Values - 5.0s, Calculate Covariance - 1.17s\n",
      "f0,f1,f2 = [3.0845358732747263e-09, 3.329225279342339e-09, 1.9352063824212135e-09]\n"
     ]
    },
    {
     "name": "stderr",
     "output_type": "stream",
     "text": [
      "Progress:  13%|█▎        | 63/500 [16:12<1:51:52, 15.36s/it]"
     ]
    },
    {
     "name": "stdout",
     "output_type": "stream",
     "text": [
      "Time to: Calculate Ground State - 1.54s, Get Pauli Ops - 7.44s, Calculate Pauli Expectation Values - 5.66s, Calculate Covariance - 1.31s\n",
      "f0,f1,f2 = [2.1271241388579976e-09, 2.3201602941741563e-09, 4.790345882911033e-09]\n"
     ]
    },
    {
     "name": "stderr",
     "output_type": "stream",
     "text": [
      "Progress:  13%|█▎        | 64/500 [16:27<1:50:45, 15.24s/it]"
     ]
    },
    {
     "name": "stdout",
     "output_type": "stream",
     "text": [
      "Time to: Calculate Ground State - 1.56s, Get Pauli Ops - 7.44s, Calculate Pauli Expectation Values - 4.85s, Calculate Covariance - 1.11s\n",
      "f0,f1,f2 = [2.8314736898601685e-09, 2.881045878323344e-09, 2.9425236913078706e-09]\n"
     ]
    },
    {
     "name": "stderr",
     "output_type": "stream",
     "text": [
      "Progress:  13%|█▎        | 65/500 [16:42<1:49:06, 15.05s/it]"
     ]
    },
    {
     "name": "stdout",
     "output_type": "stream",
     "text": [
      "Time to: Calculate Ground State - 1.54s, Get Pauli Ops - 7.27s, Calculate Pauli Expectation Values - 4.99s, Calculate Covariance - 0.79s\n",
      "f0,f1,f2 = [4.492171338990526e-09, 4.622868383289759e-09, 1.421392436015517e-09]\n"
     ]
    },
    {
     "name": "stderr",
     "output_type": "stream",
     "text": [
      "Progress:  13%|█▎        | 66/500 [16:57<1:49:29, 15.14s/it]"
     ]
    },
    {
     "name": "stdout",
     "output_type": "stream",
     "text": [
      "Time to: Calculate Ground State - 1.69s, Get Pauli Ops - 7.69s, Calculate Pauli Expectation Values - 5.14s, Calculate Covariance - 0.82s\n",
      "f0,f1,f2 = [4.661830189260513e-09, 5.201492277608207e-09, 9.726207528455698e-09]\n"
     ]
    },
    {
     "name": "stderr",
     "output_type": "stream",
     "text": [
      "Progress:  13%|█▎        | 67/500 [17:12<1:48:38, 15.05s/it]"
     ]
    },
    {
     "name": "stdout",
     "output_type": "stream",
     "text": [
      "Time to: Calculate Ground State - 1.69s, Get Pauli Ops - 7.17s, Calculate Pauli Expectation Values - 5.23s, Calculate Covariance - 0.77s\n",
      "f0,f1,f2 = [6.634555314661069e-09, 7.041681937828383e-09, 1.0717518937835246e-09]\n"
     ]
    },
    {
     "name": "stderr",
     "output_type": "stream",
     "text": [
      "Progress:  14%|█▎        | 68/500 [17:27<1:48:28, 15.07s/it]"
     ]
    },
    {
     "name": "stdout",
     "output_type": "stream",
     "text": [
      "Time to: Calculate Ground State - 1.67s, Get Pauli Ops - 7.13s, Calculate Pauli Expectation Values - 4.96s, Calculate Covariance - 1.33s\n",
      "f0,f1,f2 = [5.802309579345994e-09, 5.935944593183151e-09, 3.2286297468092316e-09]\n"
     ]
    },
    {
     "name": "stderr",
     "output_type": "stream",
     "text": [
      "Progress:  14%|█▍        | 69/500 [17:42<1:47:55, 15.02s/it]"
     ]
    },
    {
     "name": "stdout",
     "output_type": "stream",
     "text": [
      "Time to: Calculate Ground State - 1.56s, Get Pauli Ops - 7.26s, Calculate Pauli Expectation Values - 4.96s, Calculate Covariance - 1.14s\n",
      "f0,f1,f2 = [4.830634634407014e-09, 5.086073341555114e-09, 9.590935902115113e-09]\n"
     ]
    },
    {
     "name": "stderr",
     "output_type": "stream",
     "text": [
      "Progress:  14%|█▍        | 70/500 [17:58<1:49:25, 15.27s/it]"
     ]
    },
    {
     "name": "stdout",
     "output_type": "stream",
     "text": [
      "Time to: Calculate Ground State - 1.58s, Get Pauli Ops - 8.17s, Calculate Pauli Expectation Values - 5.11s, Calculate Covariance - 0.97s\n",
      "f0,f1,f2 = [5.1487827796372086e-09, 5.29503255088882e-09, 1.0060457833301205e-08]\n"
     ]
    },
    {
     "name": "stderr",
     "output_type": "stream",
     "text": [
      "Progress:  14%|█▍        | 71/500 [18:14<1:49:57, 15.38s/it]"
     ]
    },
    {
     "name": "stdout",
     "output_type": "stream",
     "text": [
      "Time to: Calculate Ground State - 1.57s, Get Pauli Ops - 6.94s, Calculate Pauli Expectation Values - 5.82s, Calculate Covariance - 1.29s\n",
      "f0,f1,f2 = [8.417450004630256e-09, 8.550317102169426e-09, 1.702390189870984e-09]\n"
     ]
    },
    {
     "name": "stderr",
     "output_type": "stream",
     "text": [
      "Progress:  14%|█▍        | 72/500 [18:31<1:53:01, 15.84s/it]"
     ]
    },
    {
     "name": "stdout",
     "output_type": "stream",
     "text": [
      "Time to: Calculate Ground State - 1.59s, Get Pauli Ops - 8.77s, Calculate Pauli Expectation Values - 5.87s, Calculate Covariance - 0.7s\n",
      "f0,f1,f2 = [5.892171827833561e-09, 5.914082360529013e-09, 5.165537461312452e-09]\n"
     ]
    },
    {
     "name": "stderr",
     "output_type": "stream",
     "text": [
      "Progress:  15%|█▍        | 73/500 [18:47<1:54:45, 16.12s/it]"
     ]
    },
    {
     "name": "stdout",
     "output_type": "stream",
     "text": [
      "Time to: Calculate Ground State - 1.58s, Get Pauli Ops - 7.93s, Calculate Pauli Expectation Values - 6.01s, Calculate Covariance - 1.25s\n",
      "f0,f1,f2 = [5.616139617886001e-09, 5.637470462053164e-09, 6.367726689435887e-09]\n"
     ]
    },
    {
     "name": "stderr",
     "output_type": "stream",
     "text": [
      "Progress:  15%|█▍        | 74/500 [19:05<1:58:06, 16.63s/it]"
     ]
    },
    {
     "name": "stdout",
     "output_type": "stream",
     "text": [
      "Time to: Calculate Ground State - 1.61s, Get Pauli Ops - 8.45s, Calculate Pauli Expectation Values - 6.65s, Calculate Covariance - 1.11s\n",
      "f0,f1,f2 = [6.929937225836926e-09, 6.814703695303897e-09, 4.374854199772446e-09]\n"
     ]
    },
    {
     "name": "stderr",
     "output_type": "stream",
     "text": [
      "Progress:  15%|█▌        | 75/500 [19:22<1:57:44, 16.62s/it]"
     ]
    },
    {
     "name": "stdout",
     "output_type": "stream",
     "text": [
      "Time to: Calculate Ground State - 1.57s, Get Pauli Ops - 7.63s, Calculate Pauli Expectation Values - 6.18s, Calculate Covariance - 1.2s\n",
      "f0,f1,f2 = [5.15110939576289e-09, 5.081750892131077e-09, 8.653048528263313e-09]\n"
     ]
    },
    {
     "name": "stderr",
     "output_type": "stream",
     "text": [
      "Progress:  15%|█▌        | 76/500 [19:39<1:59:16, 16.88s/it]"
     ]
    },
    {
     "name": "stdout",
     "output_type": "stream",
     "text": [
      "Time to: Calculate Ground State - 1.58s, Get Pauli Ops - 9.18s, Calculate Pauli Expectation Values - 5.6s, Calculate Covariance - 1.11s\n",
      "f0,f1,f2 = [5.1967593943590645e-09, 5.223556496393648e-09, 7.582955690873501e-09]\n"
     ]
    },
    {
     "name": "stderr",
     "output_type": "stream",
     "text": [
      "Progress:  15%|█▌        | 77/500 [19:56<1:57:49, 16.71s/it]"
     ]
    },
    {
     "name": "stdout",
     "output_type": "stream",
     "text": [
      "Time to: Calculate Ground State - 1.61s, Get Pauli Ops - 7.62s, Calculate Pauli Expectation Values - 5.86s, Calculate Covariance - 1.24s\n",
      "f0,f1,f2 = [6.19485721803715e-09, 6.149005482609218e-09, 5.769572853248581e-09]\n"
     ]
    },
    {
     "name": "stderr",
     "output_type": "stream",
     "text": [
      "Progress:  16%|█▌        | 78/500 [20:13<1:58:36, 16.86s/it]"
     ]
    },
    {
     "name": "stdout",
     "output_type": "stream",
     "text": [
      "Time to: Calculate Ground State - 1.58s, Get Pauli Ops - 7.98s, Calculate Pauli Expectation Values - 6.55s, Calculate Covariance - 1.09s\n",
      "f0,f1,f2 = [6.2498346168426545e-09, 5.269864037515432e-09, 1.0952885508019202e-08]\n"
     ]
    },
    {
     "name": "stderr",
     "output_type": "stream",
     "text": [
      "Progress:  16%|█▌        | 79/500 [20:30<1:59:38, 17.05s/it]"
     ]
    },
    {
     "name": "stdout",
     "output_type": "stream",
     "text": [
      "Time to: Calculate Ground State - 0.95s, Get Pauli Ops - 8.9s, Calculate Pauli Expectation Values - 6.81s, Calculate Covariance - 0.82s\n",
      "f0,f1,f2 = [6.532005420617846e-09, 5.482930721696698e-09, 1.1694562925434472e-08]\n"
     ]
    },
    {
     "name": "stderr",
     "output_type": "stream",
     "text": [
      "Progress:  16%|█▌        | 80/500 [20:47<1:57:55, 16.85s/it]"
     ]
    },
    {
     "name": "stdout",
     "output_type": "stream",
     "text": [
      "Time to: Calculate Ground State - 1.57s, Get Pauli Ops - 7.85s, Calculate Pauli Expectation Values - 5.78s, Calculate Covariance - 1.16s\n",
      "f0,f1,f2 = [8.199521087484901e-09, 7.784818372061437e-09, 2.5759101124976432e-09]\n"
     ]
    },
    {
     "name": "stderr",
     "output_type": "stream",
     "text": [
      "Progress:  16%|█▌        | 81/500 [21:03<1:57:41, 16.85s/it]"
     ]
    },
    {
     "name": "stdout",
     "output_type": "stream",
     "text": [
      "Time to: Calculate Ground State - 1.57s, Get Pauli Ops - 8.37s, Calculate Pauli Expectation Values - 5.61s, Calculate Covariance - 1.31s\n",
      "f0,f1,f2 = [6.672690099802786e-09, 6.5360134676597774e-09, 3.875968395264371e-09]\n"
     ]
    },
    {
     "name": "stderr",
     "output_type": "stream",
     "text": [
      "Progress:  16%|█▋        | 82/500 [21:21<1:59:11, 17.11s/it]"
     ]
    },
    {
     "name": "stdout",
     "output_type": "stream",
     "text": [
      "Time to: Calculate Ground State - 1.57s, Get Pauli Ops - 9.3s, Calculate Pauli Expectation Values - 5.72s, Calculate Covariance - 1.12s\n",
      "f0,f1,f2 = [6.024649646315458e-09, 5.975452107364858e-09, 4.632274692296939e-09]\n"
     ]
    },
    {
     "name": "stderr",
     "output_type": "stream",
     "text": [
      "Progress:  17%|█▋        | 83/500 [21:37<1:57:10, 16.86s/it]"
     ]
    },
    {
     "name": "stdout",
     "output_type": "stream",
     "text": [
      "Time to: Calculate Ground State - 1.5s, Get Pauli Ops - 8.36s, Calculate Pauli Expectation Values - 5.1s, Calculate Covariance - 1.31s\n",
      "f0,f1,f2 = [4.697856448044113e-09, 4.700962442982396e-09, 7.320500598369283e-09]\n"
     ]
    },
    {
     "name": "stderr",
     "output_type": "stream",
     "text": [
      "Progress:  17%|█▋        | 84/500 [21:52<1:52:23, 16.21s/it]"
     ]
    },
    {
     "name": "stdout",
     "output_type": "stream",
     "text": [
      "Time to: Calculate Ground State - 1.56s, Get Pauli Ops - 6.95s, Calculate Pauli Expectation Values - 5.11s, Calculate Covariance - 1.07s\n",
      "f0,f1,f2 = [6.35449661469627e-09, 6.315801257363492e-09, 2.7074173207640975e-09]\n"
     ]
    },
    {
     "name": "stderr",
     "output_type": "stream",
     "text": [
      "Progress:  17%|█▋        | 85/500 [22:07<1:49:54, 15.89s/it]"
     ]
    },
    {
     "name": "stdout",
     "output_type": "stream",
     "text": [
      "Time to: Calculate Ground State - 1.59s, Get Pauli Ops - 6.88s, Calculate Pauli Expectation Values - 5.43s, Calculate Covariance - 1.24s\n",
      "f0,f1,f2 = [8.487927980395043e-09, 8.478299032793317e-09, 1.2588422346293084e-09]\n"
     ]
    },
    {
     "name": "stderr",
     "output_type": "stream",
     "text": [
      "Progress:  17%|█▋        | 86/500 [22:23<1:50:09, 15.97s/it]"
     ]
    },
    {
     "name": "stdout",
     "output_type": "stream",
     "text": [
      "Time to: Calculate Ground State - 1.6s, Get Pauli Ops - 8.02s, Calculate Pauli Expectation Values - 5.23s, Calculate Covariance - 1.3s\n",
      "f0,f1,f2 = [9.096034076572281e-09, 9.26288906033458e-09, 2.8862564642383745e-09]\n"
     ]
    },
    {
     "name": "stderr",
     "output_type": "stream",
     "text": [
      "Progress:  17%|█▋        | 87/500 [22:39<1:48:12, 15.72s/it]"
     ]
    },
    {
     "name": "stdout",
     "output_type": "stream",
     "text": [
      "Time to: Calculate Ground State - 1.59s, Get Pauli Ops - 7.32s, Calculate Pauli Expectation Values - 5.34s, Calculate Covariance - 0.89s\n",
      "f0,f1,f2 = [4.65867435336033e-09, 4.6951548896517925e-09, 2.6403807974771605e-09]\n"
     ]
    },
    {
     "name": "stderr",
     "output_type": "stream",
     "text": [
      "Progress:  18%|█▊        | 88/500 [22:54<1:47:21, 15.64s/it]"
     ]
    },
    {
     "name": "stdout",
     "output_type": "stream",
     "text": [
      "Time to: Calculate Ground State - 1.56s, Get Pauli Ops - 7.44s, Calculate Pauli Expectation Values - 5.14s, Calculate Covariance - 1.3s\n",
      "f0,f1,f2 = [5.549520272547275e-09, 5.744238964731393e-09, 3.5800474974104425e-10]\n"
     ]
    },
    {
     "name": "stderr",
     "output_type": "stream",
     "text": [
      "Progress:  18%|█▊        | 89/500 [23:10<1:47:58, 15.76s/it]"
     ]
    },
    {
     "name": "stdout",
     "output_type": "stream",
     "text": [
      "Time to: Calculate Ground State - 1.08s, Get Pauli Ops - 7.68s, Calculate Pauli Expectation Values - 6.04s, Calculate Covariance - 1.26s\n",
      "f0,f1,f2 = [3.1416364618164997e-09, 3.208043535995178e-09, 2.130327456027098e-09]\n"
     ]
    },
    {
     "name": "stderr",
     "output_type": "stream",
     "text": [
      "Progress:  18%|█▊        | 90/500 [23:25<1:45:25, 15.43s/it]"
     ]
    },
    {
     "name": "stdout",
     "output_type": "stream",
     "text": [
      "Time to: Calculate Ground State - 1.62s, Get Pauli Ops - 6.52s, Calculate Pauli Expectation Values - 5.71s, Calculate Covariance - 0.8s\n",
      "f0,f1,f2 = [4.01929965713818e-09, 4.127640043647011e-09, 3.30904624696708e-11]\n"
     ]
    },
    {
     "name": "stderr",
     "output_type": "stream",
     "text": [
      "Progress:  18%|█▊        | 91/500 [23:41<1:47:03, 15.71s/it]"
     ]
    },
    {
     "name": "stdout",
     "output_type": "stream",
     "text": [
      "Time to: Calculate Ground State - 1.6s, Get Pauli Ops - 8.04s, Calculate Pauli Expectation Values - 5.46s, Calculate Covariance - 1.25s\n",
      "f0,f1,f2 = [4.432872864108553e-09, 4.5057194324202306e-09, 5.444973019941875e-09]\n"
     ]
    },
    {
     "name": "stderr",
     "output_type": "stream",
     "text": [
      "Progress:  18%|█▊        | 92/500 [23:57<1:46:28, 15.66s/it]"
     ]
    },
    {
     "name": "stdout",
     "output_type": "stream",
     "text": [
      "Time to: Calculate Ground State - 1.6s, Get Pauli Ops - 7.95s, Calculate Pauli Expectation Values - 4.99s, Calculate Covariance - 1.01s\n",
      "f0,f1,f2 = [2.087254176808415e-09, 1.9198379393148225e-09, 2.081065699110449e-09]\n"
     ]
    },
    {
     "name": "stderr",
     "output_type": "stream",
     "text": [
      "Progress:  19%|█▊        | 93/500 [24:13<1:47:06, 15.79s/it]"
     ]
    },
    {
     "name": "stdout",
     "output_type": "stream",
     "text": [
      "Time to: Calculate Ground State - 1.59s, Get Pauli Ops - 8.29s, Calculate Pauli Expectation Values - 5.25s, Calculate Covariance - 0.96s\n",
      "f0,f1,f2 = [2.4236223736899596e-09, 2.1420423542246253e-09, 2.0255303317242058e-10]\n"
     ]
    },
    {
     "name": "stderr",
     "output_type": "stream",
     "text": [
      "Progress:  19%|█▉        | 94/500 [24:26<1:41:12, 14.96s/it]"
     ]
    },
    {
     "name": "stdout",
     "output_type": "stream",
     "text": [
      "Time to: Calculate Ground State - 0.93s, Get Pauli Ops - 6.3s, Calculate Pauli Expectation Values - 5.01s, Calculate Covariance - 0.77s\n",
      "f0,f1,f2 = [2.3960758207588727e-09, 2.489391003783641e-09, 2.3769307864621985e-09]\n"
     ]
    },
    {
     "name": "stderr",
     "output_type": "stream",
     "text": [
      "Progress:  19%|█▉        | 95/500 [24:42<1:42:57, 15.25s/it]"
     ]
    },
    {
     "name": "stdout",
     "output_type": "stream",
     "text": [
      "Time to: Calculate Ground State - 1.57s, Get Pauli Ops - 7.86s, Calculate Pauli Expectation Values - 5.24s, Calculate Covariance - 1.26s\n",
      "f0,f1,f2 = [4.419495814737207e-09, 4.3462231190527055e-09, 3.3311978383661865e-09]\n"
     ]
    },
    {
     "name": "stderr",
     "output_type": "stream",
     "text": [
      "Progress:  19%|█▉        | 96/500 [24:56<1:40:14, 14.89s/it]"
     ]
    },
    {
     "name": "stdout",
     "output_type": "stream",
     "text": [
      "Time to: Calculate Ground State - 1.6s, Get Pauli Ops - 6.63s, Calculate Pauli Expectation Values - 4.88s, Calculate Covariance - 0.92s\n",
      "f0,f1,f2 = [5.835562415226257e-09, 4.55343858602821e-09, 9.195165083535653e-09]\n"
     ]
    },
    {
     "name": "stderr",
     "output_type": "stream",
     "text": [
      "Progress:  19%|█▉        | 97/500 [25:13<1:44:03, 15.49s/it]"
     ]
    },
    {
     "name": "stdout",
     "output_type": "stream",
     "text": [
      "Time to: Calculate Ground State - 1.59s, Get Pauli Ops - 8.4s, Calculate Pauli Expectation Values - 5.65s, Calculate Covariance - 1.26s\n",
      "f0,f1,f2 = [8.25014002852149e-09, 8.029256362713554e-09, 6.167347843815791e-09]\n"
     ]
    },
    {
     "name": "stderr",
     "output_type": "stream",
     "text": [
      "Progress:  20%|█▉        | 98/500 [25:29<1:45:20, 15.72s/it]"
     ]
    },
    {
     "name": "stdout",
     "output_type": "stream",
     "text": [
      "Time to: Calculate Ground State - 1.68s, Get Pauli Ops - 8.66s, Calculate Pauli Expectation Values - 5.04s, Calculate Covariance - 0.87s\n",
      "f0,f1,f2 = [9.082751375133301e-09, 6.999684788929784e-09, 1.3817983760827049e-08]\n"
     ]
    },
    {
     "name": "stderr",
     "output_type": "stream",
     "text": [
      "Progress:  20%|█▉        | 99/500 [25:45<1:45:17, 15.75s/it]"
     ]
    },
    {
     "name": "stdout",
     "output_type": "stream",
     "text": [
      "Time to: Calculate Ground State - 1.64s, Get Pauli Ops - 7.46s, Calculate Pauli Expectation Values - 5.44s, Calculate Covariance - 1.28s\n",
      "f0,f1,f2 = [1.135378192677672e-08, 1.09555914737202e-08, 8.345787332962667e-09]\n"
     ]
    },
    {
     "name": "stderr",
     "output_type": "stream",
     "text": [
      "Progress:  20%|██        | 100/500 [26:01<1:45:58, 15.90s/it]"
     ]
    },
    {
     "name": "stdout",
     "output_type": "stream",
     "text": [
      "Time to: Calculate Ground State - 1.61s, Get Pauli Ops - 8.19s, Calculate Pauli Expectation Values - 5.26s, Calculate Covariance - 1.16s\n",
      "f0,f1,f2 = [1.0819989962211123e-08, 1.1178143536925578e-08, 1.1352297600835999e-08]\n"
     ]
    },
    {
     "name": "stderr",
     "output_type": "stream",
     "text": [
      "Progress:  20%|██        | 101/500 [26:17<1:46:54, 16.08s/it]"
     ]
    },
    {
     "name": "stdout",
     "output_type": "stream",
     "text": [
      "Time to: Calculate Ground State - 1.65s, Get Pauli Ops - 8.48s, Calculate Pauli Expectation Values - 5.33s, Calculate Covariance - 1.04s\n",
      "f0,f1,f2 = [1.6467122814349486e-08, 1.4946979535668683e-08, 6.354518775859375e-09]\n"
     ]
    },
    {
     "name": "stderr",
     "output_type": "stream",
     "text": [
      "Progress:  20%|██        | 102/500 [26:33<1:45:14, 15.86s/it]"
     ]
    },
    {
     "name": "stdout",
     "output_type": "stream",
     "text": [
      "Time to: Calculate Ground State - 1.56s, Get Pauli Ops - 6.88s, Calculate Pauli Expectation Values - 5.65s, Calculate Covariance - 1.28s\n",
      "f0,f1,f2 = [1.4767841233432362e-08, 1.4223881994999719e-08, 8.165842474823346e-09]\n"
     ]
    },
    {
     "name": "stderr",
     "output_type": "stream",
     "text": [
      "Progress:  21%|██        | 103/500 [26:48<1:44:26, 15.78s/it]"
     ]
    },
    {
     "name": "stdout",
     "output_type": "stream",
     "text": [
      "Time to: Calculate Ground State - 1.6s, Get Pauli Ops - 7.25s, Calculate Pauli Expectation Values - 5.48s, Calculate Covariance - 1.26s\n",
      "f0,f1,f2 = [1.1900212949448108e-08, 1.1957321230638185e-08, 1.2203895781158496e-08]\n"
     ]
    },
    {
     "name": "stderr",
     "output_type": "stream",
     "text": [
      "Progress:  21%|██        | 104/500 [27:05<1:45:21, 15.96s/it]"
     ]
    },
    {
     "name": "stdout",
     "output_type": "stream",
     "text": [
      "Time to: Calculate Ground State - 1.57s, Get Pauli Ops - 8.55s, Calculate Pauli Expectation Values - 5.5s, Calculate Covariance - 0.75s\n",
      "f0,f1,f2 = [1.036394336055653e-08, 1.0642958685995695e-08, 1.2969371744932459e-08]\n"
     ]
    },
    {
     "name": "stderr",
     "output_type": "stream",
     "text": [
      "Progress:  21%|██        | 105/500 [27:21<1:45:57, 16.10s/it]"
     ]
    },
    {
     "name": "stdout",
     "output_type": "stream",
     "text": [
      "Time to: Calculate Ground State - 1.44s, Get Pauli Ops - 8.39s, Calculate Pauli Expectation Values - 5.35s, Calculate Covariance - 1.21s\n",
      "f0,f1,f2 = [8.991924623372075e-09, 9.212011400018384e-09, 1.232115035356057e-08]\n"
     ]
    },
    {
     "name": "stderr",
     "output_type": "stream",
     "text": [
      "Progress:  21%|██        | 106/500 [27:37<1:46:05, 16.16s/it]"
     ]
    },
    {
     "name": "stdout",
     "output_type": "stream",
     "text": [
      "Time to: Calculate Ground State - 1.58s, Get Pauli Ops - 8.38s, Calculate Pauli Expectation Values - 5.19s, Calculate Covariance - 1.15s\n",
      "f0,f1,f2 = [7.943964510135305e-09, 8.000763744128751e-09, 9.356909538542391e-09]\n"
     ]
    },
    {
     "name": "stderr",
     "output_type": "stream",
     "text": [
      "Progress:  21%|██▏       | 107/500 [27:53<1:43:36, 15.82s/it]"
     ]
    },
    {
     "name": "stdout",
     "output_type": "stream",
     "text": [
      "Time to: Calculate Ground State - 1.6s, Get Pauli Ops - 6.93s, Calculate Pauli Expectation Values - 5.29s, Calculate Covariance - 1.2s\n",
      "f0,f1,f2 = [7.52597694462808e-09, 7.458834790072709e-09, 5.4618606896952526e-09]\n"
     ]
    },
    {
     "name": "stderr",
     "output_type": "stream",
     "text": [
      "Progress:  22%|██▏       | 108/500 [28:08<1:43:32, 15.85s/it]"
     ]
    },
    {
     "name": "stdout",
     "output_type": "stream",
     "text": [
      "Time to: Calculate Ground State - 1.47s, Get Pauli Ops - 7.51s, Calculate Pauli Expectation Values - 5.62s, Calculate Covariance - 1.31s\n",
      "f0,f1,f2 = [4.912638445746312e-09, 5.0302471519483565e-09, 5.98345468759064e-09]\n"
     ]
    },
    {
     "name": "stderr",
     "output_type": "stream",
     "text": [
      "Progress:  22%|██▏       | 109/500 [28:24<1:42:24, 15.72s/it]"
     ]
    },
    {
     "name": "stdout",
     "output_type": "stream",
     "text": [
      "Time to: Calculate Ground State - 1.59s, Get Pauli Ops - 7.57s, Calculate Pauli Expectation Values - 4.97s, Calculate Covariance - 1.26s\n",
      "f0,f1,f2 = [5.9581876975819564e-09, 5.771144458366111e-09, 3.191411194436123e-10]\n"
     ]
    },
    {
     "name": "stderr",
     "output_type": "stream",
     "text": [
      "Progress:  22%|██▏       | 110/500 [28:40<1:43:55, 15.99s/it]"
     ]
    },
    {
     "name": "stdout",
     "output_type": "stream",
     "text": [
      "Time to: Calculate Ground State - 1.59s, Get Pauli Ops - 8.32s, Calculate Pauli Expectation Values - 5.35s, Calculate Covariance - 1.36s\n",
      "f0,f1,f2 = [4.334195696102912e-09, 4.325224025213002e-09, 7.817509563395868e-09]\n"
     ]
    },
    {
     "name": "stderr",
     "output_type": "stream",
     "text": [
      "Progress:  22%|██▏       | 111/500 [28:56<1:43:07, 15.91s/it]"
     ]
    },
    {
     "name": "stdout",
     "output_type": "stream",
     "text": [
      "Time to: Calculate Ground State - 1.71s, Get Pauli Ops - 8.27s, Calculate Pauli Expectation Values - 5.02s, Calculate Covariance - 0.71s\n",
      "f0,f1,f2 = [1.3092727192059915e-09, 1.365874061124782e-09, 2.3570739294481977e-09]\n"
     ]
    },
    {
     "name": "stderr",
     "output_type": "stream",
     "text": [
      "Progress:  22%|██▏       | 112/500 [29:11<1:41:35, 15.71s/it]"
     ]
    },
    {
     "name": "stdout",
     "output_type": "stream",
     "text": [
      "Time to: Calculate Ground State - 1.59s, Get Pauli Ops - 7.06s, Calculate Pauli Expectation Values - 5.31s, Calculate Covariance - 1.29s\n",
      "f0,f1,f2 = [4.2958408614465494e-10, 4.4978470303558454e-10, 7.779235617276215e-10]\n"
     ]
    },
    {
     "name": "stderr",
     "output_type": "stream",
     "text": [
      "Progress:  23%|██▎       | 113/500 [29:29<1:44:14, 16.16s/it]"
     ]
    },
    {
     "name": "stdout",
     "output_type": "stream",
     "text": [
      "Time to: Calculate Ground State - 1.59s, Get Pauli Ops - 8.43s, Calculate Pauli Expectation Values - 6.02s, Calculate Covariance - 1.17s\n",
      "f0,f1,f2 = [2.567609295240702e-09, 2.787323497222314e-09, 4.162780429232816e-09]\n"
     ]
    },
    {
     "name": "stderr",
     "output_type": "stream",
     "text": [
      "Progress:  23%|██▎       | 114/500 [29:44<1:41:52, 15.83s/it]"
     ]
    },
    {
     "name": "stdout",
     "output_type": "stream",
     "text": [
      "Time to: Calculate Ground State - 1.56s, Get Pauli Ops - 7.03s, Calculate Pauli Expectation Values - 5.28s, Calculate Covariance - 1.2s\n",
      "f0,f1,f2 = [4.348425999956248e-09, 4.543033578373683e-09, 6.674039847383864e-09]\n"
     ]
    },
    {
     "name": "stderr",
     "output_type": "stream",
     "text": [
      "Progress:  23%|██▎       | 115/500 [29:58<1:38:23, 15.33s/it]"
     ]
    },
    {
     "name": "stdout",
     "output_type": "stream",
     "text": [
      "Time to: Calculate Ground State - 1.54s, Get Pauli Ops - 6.2s, Calculate Pauli Expectation Values - 5.62s, Calculate Covariance - 0.79s\n",
      "f0,f1,f2 = [2.7300740153532872e-09, 2.8118204906569036e-09, 3.2437802187005368e-09]\n"
     ]
    },
    {
     "name": "stderr",
     "output_type": "stream",
     "text": [
      "Progress:  23%|██▎       | 116/500 [30:12<1:36:39, 15.10s/it]"
     ]
    },
    {
     "name": "stdout",
     "output_type": "stream",
     "text": [
      "Time to: Calculate Ground State - 1.38s, Get Pauli Ops - 6.59s, Calculate Pauli Expectation Values - 5.33s, Calculate Covariance - 1.26s\n",
      "f0,f1,f2 = [2.952085191532891e-09, 3.088140783312292e-09, 4.889316823856862e-09]\n"
     ]
    },
    {
     "name": "stderr",
     "output_type": "stream",
     "text": [
      "Progress:  23%|██▎       | 117/500 [30:28<1:36:49, 15.17s/it]"
     ]
    },
    {
     "name": "stdout",
     "output_type": "stream",
     "text": [
      "Time to: Calculate Ground State - 1.56s, Get Pauli Ops - 6.61s, Calculate Pauli Expectation Values - 6.07s, Calculate Covariance - 1.08s\n",
      "f0,f1,f2 = [6.744416513945925e-09, 6.308619931552231e-09, 1.3537401505249854e-09]\n"
     ]
    },
    {
     "name": "stderr",
     "output_type": "stream",
     "text": [
      "Progress:  24%|██▎       | 118/500 [30:41<1:33:45, 14.73s/it]"
     ]
    },
    {
     "name": "stdout",
     "output_type": "stream",
     "text": [
      "Time to: Calculate Ground State - 1.22s, Get Pauli Ops - 6.44s, Calculate Pauli Expectation Values - 5.18s, Calculate Covariance - 0.86s\n",
      "f0,f1,f2 = [6.089006163339269e-09, 5.8981784764519025e-09, 2.7938870789256892e-09]\n"
     ]
    },
    {
     "name": "stderr",
     "output_type": "stream",
     "text": [
      "Progress:  24%|██▍       | 119/500 [30:56<1:33:48, 14.77s/it]"
     ]
    },
    {
     "name": "stdout",
     "output_type": "stream",
     "text": [
      "Time to: Calculate Ground State - 1.52s, Get Pauli Ops - 7.58s, Calculate Pauli Expectation Values - 5.05s, Calculate Covariance - 0.72s\n",
      "f0,f1,f2 = [4.084380237730183e-09, 4.179352617077129e-09, 6.231418345422805e-09]\n"
     ]
    },
    {
     "name": "stderr",
     "output_type": "stream",
     "text": [
      "Progress:  24%|██▍       | 120/500 [31:12<1:34:57, 14.99s/it]"
     ]
    },
    {
     "name": "stdout",
     "output_type": "stream",
     "text": [
      "Time to: Calculate Ground State - 1.57s, Get Pauli Ops - 7.63s, Calculate Pauli Expectation Values - 5.26s, Calculate Covariance - 1.04s\n",
      "f0,f1,f2 = [1.11950174093012e-08, 9.4528260359754e-09, 6.859383043419654e-10]\n"
     ]
    },
    {
     "name": "stderr",
     "output_type": "stream",
     "text": [
      "Progress:  24%|██▍       | 121/500 [31:27<1:34:31, 14.96s/it]"
     ]
    },
    {
     "name": "stdout",
     "output_type": "stream",
     "text": [
      "Time to: Calculate Ground State - 1.6s, Get Pauli Ops - 7.13s, Calculate Pauli Expectation Values - 4.97s, Calculate Covariance - 1.19s\n",
      "f0,f1,f2 = [4.853973657921169e-09, 4.918877347235378e-09, 5.951231971322219e-09]\n"
     ]
    },
    {
     "name": "stderr",
     "output_type": "stream",
     "text": [
      "Progress:  24%|██▍       | 122/500 [31:42<1:35:02, 15.09s/it]"
     ]
    },
    {
     "name": "stdout",
     "output_type": "stream",
     "text": [
      "Time to: Calculate Ground State - 1.56s, Get Pauli Ops - 7.43s, Calculate Pauli Expectation Values - 5.03s, Calculate Covariance - 1.35s\n",
      "f0,f1,f2 = [4.886586367691887e-09, 4.720262430964617e-09, 6.547442053104054e-09]\n"
     ]
    },
    {
     "name": "stderr",
     "output_type": "stream",
     "text": [
      "Progress:  25%|██▍       | 123/500 [31:57<1:34:16, 15.00s/it]"
     ]
    },
    {
     "name": "stdout",
     "output_type": "stream",
     "text": [
      "Time to: Calculate Ground State - 1.6s, Get Pauli Ops - 7.29s, Calculate Pauli Expectation Values - 5.19s, Calculate Covariance - 0.73s\n",
      "f0,f1,f2 = [7.562376296571834e-09, 6.519458806279306e-09, 4.743071623530455e-09]\n"
     ]
    },
    {
     "name": "stderr",
     "output_type": "stream",
     "text": [
      "Progress:  25%|██▍       | 124/500 [32:12<1:34:39, 15.10s/it]"
     ]
    },
    {
     "name": "stdout",
     "output_type": "stream",
     "text": [
      "Time to: Calculate Ground State - 1.53s, Get Pauli Ops - 7.58s, Calculate Pauli Expectation Values - 5.25s, Calculate Covariance - 0.98s\n",
      "f0,f1,f2 = [6.084724186024061e-09, 6.5205522335218075e-09, 5.709765493479428e-09]\n"
     ]
    },
    {
     "name": "stderr",
     "output_type": "stream",
     "text": [
      "Progress:  25%|██▌       | 125/500 [32:27<1:32:57, 14.87s/it]"
     ]
    },
    {
     "name": "stdout",
     "output_type": "stream",
     "text": [
      "Time to: Calculate Ground State - 1.58s, Get Pauli Ops - 6.58s, Calculate Pauli Expectation Values - 5.05s, Calculate Covariance - 1.12s\n",
      "f0,f1,f2 = [4.935316460523277e-09, 5.3975334084988986e-09, 6.253912001764484e-09]\n"
     ]
    },
    {
     "name": "stderr",
     "output_type": "stream",
     "text": [
      "Progress:  25%|██▌       | 126/500 [32:41<1:32:15, 14.80s/it]"
     ]
    },
    {
     "name": "stdout",
     "output_type": "stream",
     "text": [
      "Time to: Calculate Ground State - 1.56s, Get Pauli Ops - 7.27s, Calculate Pauli Expectation Values - 4.98s, Calculate Covariance - 0.82s\n",
      "f0,f1,f2 = [6.188107267322408e-09, 6.172693288970126e-09, 5.850810896296952e-09]\n"
     ]
    },
    {
     "name": "stderr",
     "output_type": "stream",
     "text": [
      "Progress:  25%|██▌       | 127/500 [32:56<1:32:11, 14.83s/it]"
     ]
    },
    {
     "name": "stdout",
     "output_type": "stream",
     "text": [
      "Time to: Calculate Ground State - 1.57s, Get Pauli Ops - 7.26s, Calculate Pauli Expectation Values - 5.01s, Calculate Covariance - 1.05s\n",
      "f0,f1,f2 = [5.189836102552863e-09, 4.978024170889839e-09, 6.410628578711844e-09]\n"
     ]
    },
    {
     "name": "stderr",
     "output_type": "stream",
     "text": [
      "Progress:  26%|██▌       | 128/500 [33:13<1:36:05, 15.50s/it]"
     ]
    },
    {
     "name": "stdout",
     "output_type": "stream",
     "text": [
      "Time to: Calculate Ground State - 1.59s, Get Pauli Ops - 8.82s, Calculate Pauli Expectation Values - 5.55s, Calculate Covariance - 1.11s\n",
      "f0,f1,f2 = [1.2939619644363054e-08, 7.873559204401438e-09, 5.413477021722185e-09]\n"
     ]
    },
    {
     "name": "stderr",
     "output_type": "stream",
     "text": [
      "Progress:  26%|██▌       | 129/500 [33:28<1:35:09, 15.39s/it]"
     ]
    },
    {
     "name": "stdout",
     "output_type": "stream",
     "text": [
      "Time to: Calculate Ground State - 1.53s, Get Pauli Ops - 6.84s, Calculate Pauli Expectation Values - 5.62s, Calculate Covariance - 1.15s\n",
      "f0,f1,f2 = [6.440212585140504e-09, 5.787282236276726e-09, 5.954981396734553e-09]\n"
     ]
    },
    {
     "name": "stderr",
     "output_type": "stream",
     "text": [
      "Progress:  26%|██▌       | 130/500 [33:43<1:33:52, 15.22s/it]"
     ]
    },
    {
     "name": "stdout",
     "output_type": "stream",
     "text": [
      "Time to: Calculate Ground State - 1.59s, Get Pauli Ops - 6.89s, Calculate Pauli Expectation Values - 5.31s, Calculate Covariance - 1.05s\n",
      "f0,f1,f2 = [5.202165500347041e-09, 5.755755126726112e-09, 5.601100086569947e-09]\n"
     ]
    },
    {
     "name": "stderr",
     "output_type": "stream",
     "text": [
      "Progress:  26%|██▌       | 131/500 [33:58<1:32:37, 15.06s/it]"
     ]
    },
    {
     "name": "stdout",
     "output_type": "stream",
     "text": [
      "Time to: Calculate Ground State - 1.56s, Get Pauli Ops - 6.54s, Calculate Pauli Expectation Values - 5.27s, Calculate Covariance - 1.31s\n",
      "f0,f1,f2 = [5.048578526604221e-09, 5.447082743378947e-09, 5.844234392240306e-09]\n"
     ]
    },
    {
     "name": "stderr",
     "output_type": "stream",
     "text": [
      "Progress:  26%|██▋       | 132/500 [34:13<1:31:47, 14.97s/it]"
     ]
    },
    {
     "name": "stdout",
     "output_type": "stream",
     "text": [
      "Time to: Calculate Ground State - 1.63s, Get Pauli Ops - 6.57s, Calculate Pauli Expectation Values - 5.2s, Calculate Covariance - 1.35s\n",
      "f0,f1,f2 = [4.896891182723405e-09, 5.969076079099345e-09, 5.45883914284386e-09]\n"
     ]
    },
    {
     "name": "stderr",
     "output_type": "stream",
     "text": [
      "Progress:  27%|██▋       | 133/500 [34:28<1:32:45, 15.17s/it]"
     ]
    },
    {
     "name": "stdout",
     "output_type": "stream",
     "text": [
      "Time to: Calculate Ground State - 1.57s, Get Pauli Ops - 7.48s, Calculate Pauli Expectation Values - 5.25s, Calculate Covariance - 1.33s\n",
      "f0,f1,f2 = [4.7472503696778945e-09, 6.2030642524882155e-09, 4.766448998602061e-09]\n"
     ]
    },
    {
     "name": "stderr",
     "output_type": "stream",
     "text": [
      "Progress:  27%|██▋       | 134/500 [34:45<1:35:43, 15.69s/it]"
     ]
    },
    {
     "name": "stdout",
     "output_type": "stream",
     "text": [
      "Time to: Calculate Ground State - 1.65s, Get Pauli Ops - 8.49s, Calculate Pauli Expectation Values - 5.67s, Calculate Covariance - 1.11s\n",
      "f0,f1,f2 = [5.361827707680273e-09, 4.831049858770095e-09, 5.760841702200016e-09]\n"
     ]
    },
    {
     "name": "stderr",
     "output_type": "stream",
     "text": [
      "Progress:  27%|██▋       | 135/500 [35:01<1:35:06, 15.63s/it]"
     ]
    },
    {
     "name": "stdout",
     "output_type": "stream",
     "text": [
      "Time to: Calculate Ground State - 1.54s, Get Pauli Ops - 7.66s, Calculate Pauli Expectation Values - 5.06s, Calculate Covariance - 1.24s\n",
      "f0,f1,f2 = [4.823994975594282e-09, 4.700928357660286e-09, 5.039457575285381e-09]\n"
     ]
    },
    {
     "name": "stderr",
     "output_type": "stream",
     "text": [
      "Progress:  27%|██▋       | 136/500 [35:16<1:34:53, 15.64s/it]"
     ]
    },
    {
     "name": "stdout",
     "output_type": "stream",
     "text": [
      "Time to: Calculate Ground State - 1.56s, Get Pauli Ops - 7.63s, Calculate Pauli Expectation Values - 5.17s, Calculate Covariance - 1.3s\n",
      "f0,f1,f2 = [4.513603253360586e-09, 3.8549743563256384e-09, 4.281551665531242e-09]\n"
     ]
    },
    {
     "name": "stderr",
     "output_type": "stream",
     "text": [
      "Progress:  27%|██▋       | 137/500 [35:30<1:31:55, 15.19s/it]"
     ]
    },
    {
     "name": "stdout",
     "output_type": "stream",
     "text": [
      "Time to: Calculate Ground State - 1.56s, Get Pauli Ops - 6.92s, Calculate Pauli Expectation Values - 4.96s, Calculate Covariance - 0.71s\n",
      "f0,f1,f2 = [3.5842139330458497e-09, 3.9928586348005035e-09, 4.327389997290142e-09]\n"
     ]
    },
    {
     "name": "stderr",
     "output_type": "stream",
     "text": [
      "Progress:  28%|██▊       | 138/500 [35:44<1:27:57, 14.58s/it]"
     ]
    },
    {
     "name": "stdout",
     "output_type": "stream",
     "text": [
      "Time to: Calculate Ground State - 0.92s, Get Pauli Ops - 6.34s, Calculate Pauli Expectation Values - 5.06s, Calculate Covariance - 0.81s\n",
      "f0,f1,f2 = [4.293190325104836e-09, 4.305633488473462e-09, 4.140593998079793e-09]\n"
     ]
    },
    {
     "name": "stderr",
     "output_type": "stream",
     "text": [
      "Progress:  28%|██▊       | 139/500 [36:00<1:31:11, 15.16s/it]"
     ]
    },
    {
     "name": "stdout",
     "output_type": "stream",
     "text": [
      "Time to: Calculate Ground State - 1.68s, Get Pauli Ops - 8.24s, Calculate Pauli Expectation Values - 5.58s, Calculate Covariance - 1.0s\n",
      "f0,f1,f2 = [4.842508624127971e-09, 2.1322491960362937e-09, 5.90892336118498e-09]\n"
     ]
    },
    {
     "name": "stderr",
     "output_type": "stream",
     "text": [
      "Progress:  28%|██▊       | 140/500 [36:14<1:28:31, 14.75s/it]"
     ]
    },
    {
     "name": "stdout",
     "output_type": "stream",
     "text": [
      "Time to: Calculate Ground State - 1.56s, Get Pauli Ops - 6.22s, Calculate Pauli Expectation Values - 4.82s, Calculate Covariance - 1.22s\n",
      "f0,f1,f2 = [3.070635521502786e-09, 2.9721962662448203e-09, 9.598091100328374e-10]\n"
     ]
    },
    {
     "name": "stderr",
     "output_type": "stream",
     "text": [
      "Progress:  28%|██▊       | 141/500 [36:28<1:27:07, 14.56s/it]"
     ]
    },
    {
     "name": "stdout",
     "output_type": "stream",
     "text": [
      "Time to: Calculate Ground State - 0.96s, Get Pauli Ops - 6.91s, Calculate Pauli Expectation Values - 5.04s, Calculate Covariance - 1.21s\n",
      "f0,f1,f2 = [3.474673311715804e-09, 3.179834844199848e-09, 1.2976069027316106e-09]\n"
     ]
    },
    {
     "name": "stderr",
     "output_type": "stream",
     "text": [
      "Progress:  28%|██▊       | 142/500 [36:43<1:27:57, 14.74s/it]"
     ]
    },
    {
     "name": "stdout",
     "output_type": "stream",
     "text": [
      "Time to: Calculate Ground State - 1.55s, Get Pauli Ops - 7.55s, Calculate Pauli Expectation Values - 4.94s, Calculate Covariance - 1.12s\n",
      "f0,f1,f2 = [2.4253676231948797e-09, 2.5515943565837493e-09, 2.070197622665058e-09]\n"
     ]
    },
    {
     "name": "stderr",
     "output_type": "stream",
     "text": [
      "Progress:  29%|██▊       | 143/500 [36:57<1:26:08, 14.48s/it]"
     ]
    },
    {
     "name": "stdout",
     "output_type": "stream",
     "text": [
      "Time to: Calculate Ground State - 1.56s, Get Pauli Ops - 6.57s, Calculate Pauli Expectation Values - 4.77s, Calculate Covariance - 0.97s\n",
      "f0,f1,f2 = [6.74985548002762e-10, 1.056500818402927e-09, 1.3251099533123407e-09]\n"
     ]
    },
    {
     "name": "stderr",
     "output_type": "stream",
     "text": [
      "Progress:  29%|██▉       | 144/500 [37:13<1:28:59, 15.00s/it]"
     ]
    },
    {
     "name": "stdout",
     "output_type": "stream",
     "text": [
      "Time to: Calculate Ground State - 1.52s, Get Pauli Ops - 8.37s, Calculate Pauli Expectation Values - 4.99s, Calculate Covariance - 1.32s\n",
      "f0,f1,f2 = [1.3433526944590192e-09, 1.7872703331512546e-09, 2.8138014469948346e-09]\n"
     ]
    },
    {
     "name": "stderr",
     "output_type": "stream",
     "text": [
      "Progress:  29%|██▉       | 145/500 [37:28<1:28:52, 15.02s/it]"
     ]
    },
    {
     "name": "stdout",
     "output_type": "stream",
     "text": [
      "Time to: Calculate Ground State - 1.3s, Get Pauli Ops - 7.83s, Calculate Pauli Expectation Values - 4.96s, Calculate Covariance - 0.98s\n",
      "f0,f1,f2 = [2.787851003014813e-09, 2.80444913075126e-09, 2.8770645176361774e-09]\n"
     ]
    },
    {
     "name": "stderr",
     "output_type": "stream",
     "text": [
      "Progress:  29%|██▉       | 146/500 [37:44<1:30:07, 15.27s/it]"
     ]
    },
    {
     "name": "stdout",
     "output_type": "stream",
     "text": [
      "Time to: Calculate Ground State - 1.58s, Get Pauli Ops - 7.77s, Calculate Pauli Expectation Values - 5.18s, Calculate Covariance - 1.33s\n",
      "f0,f1,f2 = [5.018864193711123e-09, 5.054162051211766e-09, 3.929536693806623e-09]\n"
     ]
    },
    {
     "name": "stderr",
     "output_type": "stream",
     "text": [
      "Progress:  29%|██▉       | 147/500 [38:00<1:31:28, 15.55s/it]"
     ]
    },
    {
     "name": "stdout",
     "output_type": "stream",
     "text": [
      "Time to: Calculate Ground State - 1.71s, Get Pauli Ops - 8.56s, Calculate Pauli Expectation Values - 5.13s, Calculate Covariance - 0.78s\n",
      "f0,f1,f2 = [4.915081659408663e-09, 5.177424843489882e-09, 5.80663312456609e-09]\n"
     ]
    },
    {
     "name": "stderr",
     "output_type": "stream",
     "text": [
      "Progress:  30%|██▉       | 148/500 [38:16<1:31:33, 15.61s/it]"
     ]
    },
    {
     "name": "stdout",
     "output_type": "stream",
     "text": [
      "Time to: Calculate Ground State - 1.76s, Get Pauli Ops - 7.61s, Calculate Pauli Expectation Values - 5.19s, Calculate Covariance - 1.19s\n",
      "f0,f1,f2 = [7.706515778018076e-09, 7.096277884424423e-09, 8.357717118116424e-09]\n"
     ]
    },
    {
     "name": "stderr",
     "output_type": "stream",
     "text": [
      "Progress:  30%|██▉       | 149/500 [38:31<1:30:43, 15.51s/it]"
     ]
    },
    {
     "name": "stdout",
     "output_type": "stream",
     "text": [
      "Time to: Calculate Ground State - 1.78s, Get Pauli Ops - 6.72s, Calculate Pauli Expectation Values - 5.53s, Calculate Covariance - 1.25s\n",
      "f0,f1,f2 = [8.147943062551869e-09, 1.0392253245597667e-08, 7.53299949115164e-09]\n"
     ]
    },
    {
     "name": "stderr",
     "output_type": "stream",
     "text": [
      "Progress:  30%|███       | 150/500 [38:47<1:30:34, 15.53s/it]"
     ]
    },
    {
     "name": "stdout",
     "output_type": "stream",
     "text": [
      "Time to: Calculate Ground State - 1.9s, Get Pauli Ops - 7.08s, Calculate Pauli Expectation Values - 5.58s, Calculate Covariance - 1.01s\n",
      "f0,f1,f2 = [9.208867036383962e-09, 9.955170277994263e-09, 1.0494855063408993e-08]\n"
     ]
    },
    {
     "name": "stderr",
     "output_type": "stream",
     "text": [
      "Progress:  30%|███       | 151/500 [39:03<1:30:22, 15.54s/it]"
     ]
    },
    {
     "name": "stdout",
     "output_type": "stream",
     "text": [
      "Time to: Calculate Ground State - 1.82s, Get Pauli Ops - 7.03s, Calculate Pauli Expectation Values - 5.6s, Calculate Covariance - 1.09s\n",
      "f0,f1,f2 = [1.0381640318700493e-08, 1.0041809391826294e-08, 1.1280916329931327e-08]\n"
     ]
    },
    {
     "name": "stderr",
     "output_type": "stream",
     "text": [
      "Progress:  30%|███       | 152/500 [39:17<1:27:49, 15.14s/it]"
     ]
    },
    {
     "name": "stdout",
     "output_type": "stream",
     "text": [
      "Time to: Calculate Ground State - 1.72s, Get Pauli Ops - 6.35s, Calculate Pauli Expectation Values - 4.96s, Calculate Covariance - 1.19s\n",
      "f0,f1,f2 = [1.1240569999913923e-08, 1.1224349041925402e-08, 1.160911583341379e-08]\n"
     ]
    },
    {
     "name": "stderr",
     "output_type": "stream",
     "text": [
      "Progress:  31%|███       | 153/500 [39:31<1:26:06, 14.89s/it]"
     ]
    },
    {
     "name": "stdout",
     "output_type": "stream",
     "text": [
      "Time to: Calculate Ground State - 1.71s, Get Pauli Ops - 6.47s, Calculate Pauli Expectation Values - 5.09s, Calculate Covariance - 1.03s\n",
      "f0,f1,f2 = [1.1116924189862801e-08, 1.0805430479297707e-08, 1.304177415017239e-08]\n"
     ]
    },
    {
     "name": "stderr",
     "output_type": "stream",
     "text": [
      "Progress:  31%|███       | 154/500 [39:46<1:26:32, 15.01s/it]"
     ]
    },
    {
     "name": "stdout",
     "output_type": "stream",
     "text": [
      "Time to: Calculate Ground State - 1.79s, Get Pauli Ops - 7.86s, Calculate Pauli Expectation Values - 4.91s, Calculate Covariance - 0.73s\n",
      "f0,f1,f2 = [1.0617597816971048e-08, 1.0681834806342847e-08, 1.1432097499073611e-08]\n"
     ]
    },
    {
     "name": "stderr",
     "output_type": "stream",
     "text": [
      "Progress:  31%|███       | 155/500 [40:03<1:28:52, 15.46s/it]"
     ]
    },
    {
     "name": "stdout",
     "output_type": "stream",
     "text": [
      "Time to: Calculate Ground State - 1.81s, Get Pauli Ops - 8.1s, Calculate Pauli Expectation Values - 5.26s, Calculate Covariance - 1.33s\n",
      "f0,f1,f2 = [1.0037346694002814e-08, 9.709291899751874e-09, 1.0541413804341351e-08]\n"
     ]
    },
    {
     "name": "stderr",
     "output_type": "stream",
     "text": [
      "Progress:  31%|███       | 156/500 [40:18<1:27:55, 15.34s/it]"
     ]
    },
    {
     "name": "stdout",
     "output_type": "stream",
     "text": [
      "Time to: Calculate Ground State - 1.84s, Get Pauli Ops - 7.03s, Calculate Pauli Expectation Values - 5.23s, Calculate Covariance - 0.95s\n",
      "f0,f1,f2 = [8.973194891835424e-09, 1.1295934398998214e-08, 8.000438024904542e-09]\n"
     ]
    },
    {
     "name": "stderr",
     "output_type": "stream",
     "text": [
      "Progress:  31%|███▏      | 157/500 [40:33<1:26:50, 15.19s/it]"
     ]
    },
    {
     "name": "stdout",
     "output_type": "stream",
     "text": [
      "Time to: Calculate Ground State - 1.83s, Get Pauli Ops - 6.38s, Calculate Pauli Expectation Values - 5.34s, Calculate Covariance - 1.3s\n",
      "f0,f1,f2 = [7.572370879232432e-09, 6.797570181177578e-09, 8.73626686285282e-09]\n"
     ]
    },
    {
     "name": "stderr",
     "output_type": "stream",
     "text": [
      "Progress:  32%|███▏      | 158/500 [40:48<1:26:18, 15.14s/it]"
     ]
    },
    {
     "name": "stdout",
     "output_type": "stream",
     "text": [
      "Time to: Calculate Ground State - 1.86s, Get Pauli Ops - 6.68s, Calculate Pauli Expectation Values - 5.27s, Calculate Covariance - 1.22s\n",
      "f0,f1,f2 = [5.815484824395268e-09, 7.79257762690662e-09, 5.7527179885916215e-09]\n"
     ]
    },
    {
     "name": "stderr",
     "output_type": "stream",
     "text": [
      "Progress:  32%|███▏      | 159/500 [41:03<1:27:00, 15.31s/it]"
     ]
    },
    {
     "name": "stdout",
     "output_type": "stream",
     "text": [
      "Time to: Calculate Ground State - 1.84s, Get Pauli Ops - 7.39s, Calculate Pauli Expectation Values - 5.18s, Calculate Covariance - 1.29s\n",
      "f0,f1,f2 = [3.971600415055112e-09, 6.39779812729266e-09, 4.84708135366773e-09]\n"
     ]
    },
    {
     "name": "stderr",
     "output_type": "stream",
     "text": [
      "Progress:  32%|███▏      | 160/500 [41:19<1:26:24, 15.25s/it]"
     ]
    },
    {
     "name": "stdout",
     "output_type": "stream",
     "text": [
      "Time to: Calculate Ground State - 1.84s, Get Pauli Ops - 7.24s, Calculate Pauli Expectation Values - 5.14s, Calculate Covariance - 0.88s\n",
      "f0,f1,f2 = [3.0272313075814123e-09, 3.7501022860896445e-09, 3.2255242171272353e-09]\n"
     ]
    },
    {
     "name": "stderr",
     "output_type": "stream",
     "text": [
      "Progress:  32%|███▏      | 161/500 [41:34<1:25:59, 15.22s/it]"
     ]
    },
    {
     "name": "stdout",
     "output_type": "stream",
     "text": [
      "Time to: Calculate Ground State - 2.0s, Get Pauli Ops - 6.93s, Calculate Pauli Expectation Values - 5.22s, Calculate Covariance - 1.01s\n",
      "f0,f1,f2 = [1.3379176485582026e-09, 3.907529175520059e-09, 3.747881550755503e-09]\n"
     ]
    },
    {
     "name": "stderr",
     "output_type": "stream",
     "text": [
      "Progress:  32%|███▏      | 162/500 [41:49<1:26:25, 15.34s/it]"
     ]
    },
    {
     "name": "stdout",
     "output_type": "stream",
     "text": [
      "Time to: Calculate Ground State - 1.79s, Get Pauli Ops - 7.4s, Calculate Pauli Expectation Values - 5.23s, Calculate Covariance - 1.19s\n",
      "f0,f1,f2 = [2.9094538721552507e-09, 2.452555264532298e-09, 2.9177733621234024e-09]\n"
     ]
    },
    {
     "name": "stderr",
     "output_type": "stream",
     "text": [
      "Progress:  33%|███▎      | 163/500 [42:06<1:28:25, 15.74s/it]"
     ]
    },
    {
     "name": "stdout",
     "output_type": "stream",
     "text": [
      "Time to: Calculate Ground State - 1.72s, Get Pauli Ops - 7.61s, Calculate Pauli Expectation Values - 6.04s, Calculate Covariance - 1.31s\n",
      "f0,f1,f2 = [4.225942819425904e-09, 3.6807930358197447e-09, 4.820338265784337e-09]\n"
     ]
    },
    {
     "name": "stderr",
     "output_type": "stream",
     "text": [
      "Progress:  33%|███▎      | 164/500 [42:23<1:30:31, 16.17s/it]"
     ]
    },
    {
     "name": "stdout",
     "output_type": "stream",
     "text": [
      "Time to: Calculate Ground State - 1.75s, Get Pauli Ops - 7.66s, Calculate Pauli Expectation Values - 6.38s, Calculate Covariance - 1.36s\n",
      "f0,f1,f2 = [2.357309271319464e-09, 3.894199859227576e-09, 4.378401451696966e-09]\n"
     ]
    },
    {
     "name": "stderr",
     "output_type": "stream",
     "text": [
      "Progress:  33%|███▎      | 165/500 [42:38<1:28:48, 15.91s/it]"
     ]
    },
    {
     "name": "stdout",
     "output_type": "stream",
     "text": [
      "Time to: Calculate Ground State - 1.73s, Get Pauli Ops - 6.89s, Calculate Pauli Expectation Values - 5.38s, Calculate Covariance - 1.3s\n",
      "f0,f1,f2 = [2.539966789233536e-09, 1.9808584700696707e-09, 2.39803332014023e-09]\n"
     ]
    },
    {
     "name": "stderr",
     "output_type": "stream",
     "text": [
      "Progress:  33%|███▎      | 166/500 [42:54<1:27:24, 15.70s/it]"
     ]
    },
    {
     "name": "stdout",
     "output_type": "stream",
     "text": [
      "Time to: Calculate Ground State - 1.71s, Get Pauli Ops - 7.43s, Calculate Pauli Expectation Values - 4.91s, Calculate Covariance - 1.17s\n",
      "f0,f1,f2 = [2.418322131641438e-09, 3.406199421740914e-09, 3.177043539476324e-09]\n"
     ]
    },
    {
     "name": "stderr",
     "output_type": "stream",
     "text": [
      "Progress:  33%|███▎      | 167/500 [43:10<1:27:43, 15.81s/it]"
     ]
    },
    {
     "name": "stdout",
     "output_type": "stream",
     "text": [
      "Time to: Calculate Ground State - 1.57s, Get Pauli Ops - 8.52s, Calculate Pauli Expectation Values - 5.13s, Calculate Covariance - 0.82s\n",
      "f0,f1,f2 = [2.135675154344205e-09, 4.088142797012375e-09, 4.230946375826114e-09]\n"
     ]
    },
    {
     "name": "stderr",
     "output_type": "stream",
     "text": [
      "Progress:  34%|███▎      | 168/500 [43:25<1:26:45, 15.68s/it]"
     ]
    },
    {
     "name": "stdout",
     "output_type": "stream",
     "text": [
      "Time to: Calculate Ground State - 1.69s, Get Pauli Ops - 7.59s, Calculate Pauli Expectation Values - 5.13s, Calculate Covariance - 0.96s\n",
      "f0,f1,f2 = [5.531865715031328e-09, 3.7041202224106967e-09, 4.172422616415903e-09]\n"
     ]
    },
    {
     "name": "stderr",
     "output_type": "stream",
     "text": [
      "Progress:  34%|███▍      | 169/500 [43:40<1:25:13, 15.45s/it]"
     ]
    },
    {
     "name": "stdout",
     "output_type": "stream",
     "text": [
      "Time to: Calculate Ground State - 1.53s, Get Pauli Ops - 7.68s, Calculate Pauli Expectation Values - 4.68s, Calculate Covariance - 1.02s\n",
      "f0,f1,f2 = [4.655268276588112e-09, 4.618068198867496e-09, 4.898417518595962e-09]\n"
     ]
    },
    {
     "name": "stderr",
     "output_type": "stream",
     "text": [
      "Progress:  34%|███▍      | 170/500 [43:55<1:24:38, 15.39s/it]"
     ]
    },
    {
     "name": "stdout",
     "output_type": "stream",
     "text": [
      "Time to: Calculate Ground State - 1.55s, Get Pauli Ops - 7.94s, Calculate Pauli Expectation Values - 5.05s, Calculate Covariance - 0.72s\n",
      "f0,f1,f2 = [4.423810692323251e-09, 5.3355993440348e-09, 7.565871951883232e-09]\n"
     ]
    },
    {
     "name": "stderr",
     "output_type": "stream",
     "text": [
      "Progress:  34%|███▍      | 171/500 [44:11<1:24:10, 15.35s/it]"
     ]
    },
    {
     "name": "stdout",
     "output_type": "stream",
     "text": [
      "Time to: Calculate Ground State - 1.59s, Get Pauli Ops - 7.84s, Calculate Pauli Expectation Values - 5.11s, Calculate Covariance - 0.72s\n",
      "f0,f1,f2 = [5.760797546785199e-09, 5.58701708298668e-09, 4.1647414302363365e-09]\n"
     ]
    },
    {
     "name": "stderr",
     "output_type": "stream",
     "text": [
      "Progress:  34%|███▍      | 172/500 [44:26<1:23:55, 15.35s/it]"
     ]
    },
    {
     "name": "stdout",
     "output_type": "stream",
     "text": [
      "Time to: Calculate Ground State - 1.53s, Get Pauli Ops - 7.16s, Calculate Pauli Expectation Values - 5.43s, Calculate Covariance - 1.23s\n",
      "f0,f1,f2 = [5.043918491368461e-09, 5.37909223074005e-09, 6.6780416243595016e-09]\n"
     ]
    },
    {
     "name": "stderr",
     "output_type": "stream",
     "text": [
      "Progress:  35%|███▍      | 173/500 [44:41<1:22:57, 15.22s/it]"
     ]
    },
    {
     "name": "stdout",
     "output_type": "stream",
     "text": [
      "Time to: Calculate Ground State - 1.55s, Get Pauli Ops - 7.59s, Calculate Pauli Expectation Values - 4.97s, Calculate Covariance - 0.8s\n",
      "f0,f1,f2 = [5.002938436075943e-09, 5.350578314127978e-09, 6.3242919362166014e-09]\n"
     ]
    },
    {
     "name": "stderr",
     "output_type": "stream",
     "text": [
      "Progress:  35%|███▍      | 174/500 [44:57<1:23:49, 15.43s/it]"
     ]
    },
    {
     "name": "stdout",
     "output_type": "stream",
     "text": [
      "Time to: Calculate Ground State - 1.66s, Get Pauli Ops - 8.07s, Calculate Pauli Expectation Values - 4.91s, Calculate Covariance - 1.27s\n",
      "f0,f1,f2 = [3.8007396294363795e-09, 6.33274412436799e-09, 8.273057353163984e-09]\n"
     ]
    },
    {
     "name": "stderr",
     "output_type": "stream",
     "text": [
      "Progress:  35%|███▌      | 175/500 [45:13<1:24:08, 15.53s/it]"
     ]
    },
    {
     "name": "stdout",
     "output_type": "stream",
     "text": [
      "Time to: Calculate Ground State - 1.54s, Get Pauli Ops - 7.5s, Calculate Pauli Expectation Values - 5.48s, Calculate Covariance - 1.25s\n",
      "f0,f1,f2 = [5.4109007360113115e-09, 5.432226284104204e-09, 5.3844930491198406e-09]\n"
     ]
    },
    {
     "name": "stderr",
     "output_type": "stream",
     "text": [
      "Progress:  35%|███▌      | 176/500 [45:28<1:23:54, 15.54s/it]"
     ]
    },
    {
     "name": "stdout",
     "output_type": "stream",
     "text": [
      "Time to: Calculate Ground State - 1.59s, Get Pauli Ops - 7.36s, Calculate Pauli Expectation Values - 5.3s, Calculate Covariance - 1.3s\n",
      "f0,f1,f2 = [7.598881520138355e-09, 6.291841863301376e-09, 4.831932716870313e-09]\n"
     ]
    },
    {
     "name": "stderr",
     "output_type": "stream",
     "text": [
      "Progress:  35%|███▌      | 177/500 [45:43<1:22:56, 15.41s/it]"
     ]
    },
    {
     "name": "stdout",
     "output_type": "stream",
     "text": [
      "Time to: Calculate Ground State - 1.63s, Get Pauli Ops - 6.78s, Calculate Pauli Expectation Values - 5.33s, Calculate Covariance - 1.36s\n",
      "f0,f1,f2 = [7.550052796917419e-09, 6.112323816899451e-09, 5.611718467857993e-09]\n"
     ]
    },
    {
     "name": "stderr",
     "output_type": "stream",
     "text": [
      "Progress:  36%|███▌      | 178/500 [45:58<1:21:24, 15.17s/it]"
     ]
    },
    {
     "name": "stdout",
     "output_type": "stream",
     "text": [
      "Time to: Calculate Ground State - 1.6s, Get Pauli Ops - 6.82s, Calculate Pauli Expectation Values - 5.39s, Calculate Covariance - 0.79s\n",
      "f0,f1,f2 = [5.731618410082247e-09, 5.6528439801005385e-09, 5.5690440598090486e-09]\n"
     ]
    },
    {
     "name": "stderr",
     "output_type": "stream",
     "text": [
      "Progress:  36%|███▌      | 179/500 [46:14<1:22:08, 15.35s/it]"
     ]
    },
    {
     "name": "stdout",
     "output_type": "stream",
     "text": [
      "Time to: Calculate Ground State - 1.53s, Get Pauli Ops - 7.9s, Calculate Pauli Expectation Values - 5.17s, Calculate Covariance - 1.18s\n",
      "f0,f1,f2 = [6.3468959434325925e-09, 5.075289254569383e-09, 5.986595698897189e-09]\n"
     ]
    },
    {
     "name": "stderr",
     "output_type": "stream",
     "text": [
      "Progress:  36%|███▌      | 180/500 [46:29<1:21:57, 15.37s/it]"
     ]
    },
    {
     "name": "stdout",
     "output_type": "stream",
     "text": [
      "Time to: Calculate Ground State - 1.61s, Get Pauli Ops - 7.59s, Calculate Pauli Expectation Values - 5.05s, Calculate Covariance - 1.14s\n",
      "f0,f1,f2 = [4.970933864823799e-09, 7.643297568869665e-09, 4.9303709111698955e-09]\n"
     ]
    },
    {
     "name": "stderr",
     "output_type": "stream",
     "text": [
      "Progress:  36%|███▌      | 181/500 [46:44<1:20:39, 15.17s/it]"
     ]
    },
    {
     "name": "stdout",
     "output_type": "stream",
     "text": [
      "Time to: Calculate Ground State - 1.56s, Get Pauli Ops - 6.4s, Calculate Pauli Expectation Values - 5.44s, Calculate Covariance - 1.32s\n",
      "f0,f1,f2 = [4.785276060541897e-09, 8.31942671895547e-09, 5.311386482914231e-09]\n"
     ]
    },
    {
     "name": "stderr",
     "output_type": "stream",
     "text": [
      "Progress:  36%|███▋      | 182/500 [46:58<1:18:58, 14.90s/it]"
     ]
    },
    {
     "name": "stdout",
     "output_type": "stream",
     "text": [
      "Time to: Calculate Ground State - 1.56s, Get Pauli Ops - 6.9s, Calculate Pauli Expectation Values - 4.82s, Calculate Covariance - 0.98s\n",
      "f0,f1,f2 = [4.599873102396023e-09, 6.39971886717755e-09, 5.227690880189121e-09]\n"
     ]
    },
    {
     "name": "stderr",
     "output_type": "stream",
     "text": [
      "Progress:  37%|███▋      | 183/500 [47:14<1:20:52, 15.31s/it]"
     ]
    },
    {
     "name": "stdout",
     "output_type": "stream",
     "text": [
      "Time to: Calculate Ground State - 1.61s, Get Pauli Ops - 8.03s, Calculate Pauli Expectation Values - 5.78s, Calculate Covariance - 0.84s\n",
      "f0,f1,f2 = [5.3677203166924384e-09, 5.314250215470445e-09, 5.276348155400236e-09]\n"
     ]
    },
    {
     "name": "stderr",
     "output_type": "stream",
     "text": [
      "Progress:  37%|███▋      | 184/500 [47:28<1:18:38, 14.93s/it]"
     ]
    },
    {
     "name": "stdout",
     "output_type": "stream",
     "text": [
      "Time to: Calculate Ground State - 1.56s, Get Pauli Ops - 6.52s, Calculate Pauli Expectation Values - 5.16s, Calculate Covariance - 0.81s\n",
      "f0,f1,f2 = [5.0749569720626294e-09, 5.263946837543554e-09, 5.031970906080592e-09]\n"
     ]
    },
    {
     "name": "stderr",
     "output_type": "stream",
     "text": [
      "Progress:  37%|███▋      | 185/500 [47:43<1:17:48, 14.82s/it]"
     ]
    },
    {
     "name": "stdout",
     "output_type": "stream",
     "text": [
      "Time to: Calculate Ground State - 1.58s, Get Pauli Ops - 6.73s, Calculate Pauli Expectation Values - 5.07s, Calculate Covariance - 1.17s\n",
      "f0,f1,f2 = [7.4266203783465646e-09, 5.561416823595685e-09, 4.829435515603159e-09]\n"
     ]
    },
    {
     "name": "stderr",
     "output_type": "stream",
     "text": [
      "Progress:  37%|███▋      | 186/500 [47:58<1:17:32, 14.82s/it]"
     ]
    },
    {
     "name": "stdout",
     "output_type": "stream",
     "text": [
      "Time to: Calculate Ground State - 0.93s, Get Pauli Ops - 6.88s, Calculate Pauli Expectation Values - 5.66s, Calculate Covariance - 1.32s\n",
      "f0,f1,f2 = [7.463147874359419e-09, 4.089668200413366e-09, 4.300954630097868e-09]\n"
     ]
    },
    {
     "name": "stderr",
     "output_type": "stream",
     "text": [
      "Progress:  37%|███▋      | 187/500 [48:14<1:19:52, 15.31s/it]"
     ]
    },
    {
     "name": "stdout",
     "output_type": "stream",
     "text": [
      "Time to: Calculate Ground State - 1.7s, Get Pauli Ops - 7.88s, Calculate Pauli Expectation Values - 5.72s, Calculate Covariance - 1.16s\n",
      "f0,f1,f2 = [4.5661226860071336e-09, 3.768006232225465e-09, 3.6956594427516403e-09]\n"
     ]
    },
    {
     "name": "stderr",
     "output_type": "stream",
     "text": [
      "Progress:  38%|███▊      | 188/500 [48:29<1:18:44, 15.14s/it]"
     ]
    },
    {
     "name": "stdout",
     "output_type": "stream",
     "text": [
      "Time to: Calculate Ground State - 1.04s, Get Pauli Ops - 7.23s, Calculate Pauli Expectation Values - 5.73s, Calculate Covariance - 0.75s\n",
      "f0,f1,f2 = [3.6115989478718362e-09, 3.1577692615755172e-09, 3.4145605893471508e-09]\n"
     ]
    },
    {
     "name": "stderr",
     "output_type": "stream",
     "text": [
      "Progress:  38%|███▊      | 189/500 [48:45<1:19:17, 15.30s/it]"
     ]
    },
    {
     "name": "stdout",
     "output_type": "stream",
     "text": [
      "Time to: Calculate Ground State - 1.84s, Get Pauli Ops - 7.67s, Calculate Pauli Expectation Values - 5.28s, Calculate Covariance - 0.86s\n",
      "f0,f1,f2 = [4.4455036198134195e-09, 3.564160955599622e-09, 3.1390417642450127e-09]\n"
     ]
    },
    {
     "name": "stderr",
     "output_type": "stream",
     "text": [
      "Progress:  38%|███▊      | 190/500 [48:58<1:16:37, 14.83s/it]"
     ]
    },
    {
     "name": "stdout",
     "output_type": "stream",
     "text": [
      "Time to: Calculate Ground State - 1.55s, Get Pauli Ops - 6.41s, Calculate Pauli Expectation Values - 4.95s, Calculate Covariance - 0.82s\n",
      "f0,f1,f2 = [1.388247862636291e-09, 3.768611651317496e-09, 3.440319176458241e-09]\n"
     ]
    },
    {
     "name": "stderr",
     "output_type": "stream",
     "text": [
      "Progress:  38%|███▊      | 191/500 [49:12<1:14:41, 14.50s/it]"
     ]
    },
    {
     "name": "stdout",
     "output_type": "stream",
     "text": [
      "Time to: Calculate Ground State - 1.06s, Get Pauli Ops - 6.66s, Calculate Pauli Expectation Values - 5.1s, Calculate Covariance - 0.92s\n",
      "f0,f1,f2 = [1.9163191050106027e-09, 1.7723452130204853e-09, 1.6372201452659505e-09]\n"
     ]
    },
    {
     "name": "stderr",
     "output_type": "stream",
     "text": [
      "Progress:  38%|███▊      | 192/500 [49:27<1:15:41, 14.75s/it]"
     ]
    },
    {
     "name": "stdout",
     "output_type": "stream",
     "text": [
      "Time to: Calculate Ground State - 1.71s, Get Pauli Ops - 7.35s, Calculate Pauli Expectation Values - 5.22s, Calculate Covariance - 1.03s\n",
      "f0,f1,f2 = [5.294419673213449e-10, 1.698167358718397e-09, 1.4101264078132288e-09]\n"
     ]
    },
    {
     "name": "stderr",
     "output_type": "stream",
     "text": [
      "Progress:  39%|███▊      | 193/500 [49:44<1:17:55, 15.23s/it]"
     ]
    },
    {
     "name": "stdout",
     "output_type": "stream",
     "text": [
      "Time to: Calculate Ground State - 1.46s, Get Pauli Ops - 8.14s, Calculate Pauli Expectation Values - 5.59s, Calculate Covariance - 1.16s\n",
      "f0,f1,f2 = [6.299297135692999e-10, 6.511934567577886e-11, 6.404739644425155e-10]\n"
     ]
    },
    {
     "name": "stderr",
     "output_type": "stream",
     "text": [
      "Progress:  39%|███▉      | 194/500 [49:58<1:15:56, 14.89s/it]"
     ]
    },
    {
     "name": "stdout",
     "output_type": "stream",
     "text": [
      "Time to: Calculate Ground State - 1.86s, Get Pauli Ops - 5.8s, Calculate Pauli Expectation Values - 5.12s, Calculate Covariance - 1.31s\n",
      "f0,f1,f2 = [1.8559455707498137e-09, 8.724143906354883e-10, 1.9411930865415545e-09]\n"
     ]
    },
    {
     "name": "stderr",
     "output_type": "stream",
     "text": [
      "Progress:  39%|███▉      | 195/500 [50:12<1:15:13, 14.80s/it]"
     ]
    },
    {
     "name": "stdout",
     "output_type": "stream",
     "text": [
      "Time to: Calculate Ground State - 1.4s, Get Pauli Ops - 7.1s, Calculate Pauli Expectation Values - 5.36s, Calculate Covariance - 0.72s\n",
      "f0,f1,f2 = [3.378396927987675e-09, 2.610567277013675e-09, 2.702005569842681e-09]\n"
     ]
    },
    {
     "name": "stderr",
     "output_type": "stream",
     "text": [
      "Progress:  39%|███▉      | 196/500 [50:26<1:13:49, 14.57s/it]"
     ]
    },
    {
     "name": "stdout",
     "output_type": "stream",
     "text": [
      "Time to: Calculate Ground State - 1.77s, Get Pauli Ops - 6.52s, Calculate Pauli Expectation Values - 4.89s, Calculate Covariance - 0.85s\n",
      "f0,f1,f2 = [4.5691943617221735e-09, 2.1835654830192757e-09, 6.213020398724064e-09]\n"
     ]
    },
    {
     "name": "stderr",
     "output_type": "stream",
     "text": [
      "Progress:  39%|███▉      | 197/500 [50:41<1:14:07, 14.68s/it]"
     ]
    },
    {
     "name": "stdout",
     "output_type": "stream",
     "text": [
      "Time to: Calculate Ground State - 1.84s, Get Pauli Ops - 7.05s, Calculate Pauli Expectation Values - 5.01s, Calculate Covariance - 1.03s\n",
      "f0,f1,f2 = [5.85836530173072e-09, 3.4299393819291287e-09, 8.121125171345845e-09]\n"
     ]
    },
    {
     "name": "stderr",
     "output_type": "stream",
     "text": [
      "Progress:  40%|███▉      | 198/500 [50:56<1:14:29, 14.80s/it]"
     ]
    },
    {
     "name": "stdout",
     "output_type": "stream",
     "text": [
      "Time to: Calculate Ground State - 1.86s, Get Pauli Ops - 6.69s, Calculate Pauli Expectation Values - 5.16s, Calculate Covariance - 1.36s\n",
      "f0,f1,f2 = [7.03919415868373e-09, 5.440310846281594e-09, 9.393093785318704e-09]\n"
     ]
    },
    {
     "name": "stderr",
     "output_type": "stream",
     "text": [
      "Progress:  40%|███▉      | 199/500 [51:13<1:16:28, 15.24s/it]"
     ]
    },
    {
     "name": "stdout",
     "output_type": "stream",
     "text": [
      "Time to: Calculate Ground State - 1.86s, Get Pauli Ops - 8.17s, Calculate Pauli Expectation Values - 5.3s, Calculate Covariance - 0.95s\n",
      "f0,f1,f2 = [8.520868739335606e-09, 7.243278486173831e-09, 1.0440078776863818e-08]\n"
     ]
    },
    {
     "name": "stderr",
     "output_type": "stream",
     "text": [
      "Progress:  40%|████      | 200/500 [51:28<1:16:04, 15.22s/it]"
     ]
    },
    {
     "name": "stdout",
     "output_type": "stream",
     "text": [
      "Time to: Calculate Ground State - 1.88s, Get Pauli Ops - 7.04s, Calculate Pauli Expectation Values - 5.24s, Calculate Covariance - 0.99s\n",
      "f0,f1,f2 = [1.0631334669792142e-08, 9.220976206682525e-09, 1.0805793731345491e-08]\n"
     ]
    },
    {
     "name": "stderr",
     "output_type": "stream",
     "text": [
      "Progress:  40%|████      | 201/500 [51:44<1:17:35, 15.57s/it]"
     ]
    },
    {
     "name": "stdout",
     "output_type": "stream",
     "text": [
      "Time to: Calculate Ground State - 1.83s, Get Pauli Ops - 7.68s, Calculate Pauli Expectation Values - 5.61s, Calculate Covariance - 1.27s\n",
      "f0,f1,f2 = [1.1600976417220836e-08, 1.0766625630041611e-08, 1.0567214286272332e-08]\n"
     ]
    },
    {
     "name": "stderr",
     "output_type": "stream",
     "text": [
      "Progress:  40%|████      | 202/500 [51:59<1:15:59, 15.30s/it]"
     ]
    },
    {
     "name": "stdout",
     "output_type": "stream",
     "text": [
      "Time to: Calculate Ground State - 1.11s, Get Pauli Ops - 6.71s, Calculate Pauli Expectation Values - 5.52s, Calculate Covariance - 1.32s\n",
      "f0,f1,f2 = [9.636718049521378e-09, 1.1231342469029906e-08, 1.4491830102083903e-08]\n"
     ]
    },
    {
     "name": "stderr",
     "output_type": "stream",
     "text": [
      "Progress:  41%|████      | 203/500 [52:15<1:16:14, 15.40s/it]"
     ]
    },
    {
     "name": "stdout",
     "output_type": "stream",
     "text": [
      "Time to: Calculate Ground State - 1.86s, Get Pauli Ops - 6.52s, Calculate Pauli Expectation Values - 5.95s, Calculate Covariance - 1.32s\n",
      "f0,f1,f2 = [1.522068595360709e-08, 1.0950929029944185e-08, 9.180931663322884e-09]\n"
     ]
    },
    {
     "name": "stderr",
     "output_type": "stream",
     "text": [
      "Progress:  41%|████      | 204/500 [52:32<1:18:48, 15.97s/it]"
     ]
    },
    {
     "name": "stdout",
     "output_type": "stream",
     "text": [
      "Time to: Calculate Ground State - 1.88s, Get Pauli Ops - 8.34s, Calculate Pauli Expectation Values - 5.87s, Calculate Covariance - 1.21s\n",
      "f0,f1,f2 = [1.3109567374071162e-08, 9.375231821235032e-09, 1.1040247434014335e-08]\n"
     ]
    },
    {
     "name": "stderr",
     "output_type": "stream",
     "text": [
      "Progress:  41%|████      | 205/500 [52:47<1:16:37, 15.59s/it]"
     ]
    },
    {
     "name": "stdout",
     "output_type": "stream",
     "text": [
      "Time to: Calculate Ground State - 1.16s, Get Pauli Ops - 6.52s, Calculate Pauli Expectation Values - 5.69s, Calculate Covariance - 1.31s\n",
      "f0,f1,f2 = [1.0801543504015477e-08, 1.2034231635509985e-08, 8.296655065261345e-09]\n"
     ]
    },
    {
     "name": "stderr",
     "output_type": "stream",
     "text": [
      "Progress:  41%|████      | 206/500 [53:03<1:17:34, 15.83s/it]"
     ]
    },
    {
     "name": "stdout",
     "output_type": "stream",
     "text": [
      "Time to: Calculate Ground State - 1.49s, Get Pauli Ops - 8.18s, Calculate Pauli Expectation Values - 5.49s, Calculate Covariance - 1.23s\n",
      "f0,f1,f2 = [7.967356496709804e-09, 1.335557695025735e-08, 6.3088118848915106e-09]\n"
     ]
    },
    {
     "name": "stderr",
     "output_type": "stream",
     "text": [
      "Progress:  41%|████▏     | 207/500 [53:18<1:16:41, 15.70s/it]"
     ]
    },
    {
     "name": "stdout",
     "output_type": "stream",
     "text": [
      "Time to: Calculate Ground State - 1.92s, Get Pauli Ops - 7.21s, Calculate Pauli Expectation Values - 5.17s, Calculate Covariance - 1.09s\n",
      "f0,f1,f2 = [1.0065544920788365e-08, 4.545640487621277e-09, 8.907848009468267e-09]\n"
     ]
    },
    {
     "name": "stderr",
     "output_type": "stream",
     "text": [
      "Progress:  42%|████▏     | 208/500 [53:34<1:16:03, 15.63s/it]"
     ]
    },
    {
     "name": "stdout",
     "output_type": "stream",
     "text": [
      "Time to: Calculate Ground State - 1.11s, Get Pauli Ops - 7.5s, Calculate Pauli Expectation Values - 5.51s, Calculate Covariance - 1.33s\n",
      "f0,f1,f2 = [6.241346026330364e-09, 7.205196265686141e-09, 4.9948244671983055e-09]\n"
     ]
    },
    {
     "name": "stderr",
     "output_type": "stream",
     "text": [
      "Progress:  42%|████▏     | 209/500 [53:49<1:14:39, 15.39s/it]"
     ]
    },
    {
     "name": "stdout",
     "output_type": "stream",
     "text": [
      "Time to: Calculate Ground State - 1.63s, Get Pauli Ops - 6.99s, Calculate Pauli Expectation Values - 5.2s, Calculate Covariance - 1.02s\n",
      "f0,f1,f2 = [5.0820444837817375e-09, 4.71948741006654e-09, 4.233127531111403e-09]\n"
     ]
    },
    {
     "name": "stderr",
     "output_type": "stream",
     "text": [
      "Progress:  42%|████▏     | 210/500 [54:05<1:15:19, 15.58s/it]"
     ]
    },
    {
     "name": "stdout",
     "output_type": "stream",
     "text": [
      "Time to: Calculate Ground State - 1.84s, Get Pauli Ops - 7.42s, Calculate Pauli Expectation Values - 5.47s, Calculate Covariance - 1.3s\n",
      "f0,f1,f2 = [3.6978495811197467e-09, 3.6248613719987276e-09, 2.5032447898424764e-09]\n"
     ]
    },
    {
     "name": "stderr",
     "output_type": "stream",
     "text": [
      "Progress:  42%|████▏     | 211/500 [54:19<1:13:23, 15.24s/it]"
     ]
    },
    {
     "name": "stdout",
     "output_type": "stream",
     "text": [
      "Time to: Calculate Ground State - 1.89s, Get Pauli Ops - 6.47s, Calculate Pauli Expectation Values - 5.33s, Calculate Covariance - 0.72s\n",
      "f0,f1,f2 = [4.282554218725759e-09, 2.236782461753232e-09, 1.2554880601580711e-09]\n"
     ]
    },
    {
     "name": "stderr",
     "output_type": "stream",
     "text": [
      "Progress:  42%|████▏     | 212/500 [54:34<1:12:33, 15.12s/it]"
     ]
    },
    {
     "name": "stdout",
     "output_type": "stream",
     "text": [
      "Time to: Calculate Ground State - 1.99s, Get Pauli Ops - 6.02s, Calculate Pauli Expectation Values - 5.51s, Calculate Covariance - 1.31s\n",
      "f0,f1,f2 = [8.857041462609246e-10, 1.2780511743584107e-09, 1.444398739595812e-10]\n"
     ]
    },
    {
     "name": "stderr",
     "output_type": "stream",
     "text": [
      "Progress:  43%|████▎     | 213/500 [54:48<1:10:55, 14.83s/it]"
     ]
    },
    {
     "name": "stdout",
     "output_type": "stream",
     "text": [
      "Time to: Calculate Ground State - 1.88s, Get Pauli Ops - 6.3s, Calculate Pauli Expectation Values - 5.01s, Calculate Covariance - 0.96s\n",
      "f0,f1,f2 = [2.7242755364110056e-09, 3.772601091535756e-09, 3.0880250724523472e-09]\n"
     ]
    },
    {
     "name": "stderr",
     "output_type": "stream",
     "text": [
      "Progress:  43%|████▎     | 214/500 [55:05<1:13:15, 15.37s/it]"
     ]
    },
    {
     "name": "stdout",
     "output_type": "stream",
     "text": [
      "Time to: Calculate Ground State - 1.81s, Get Pauli Ops - 7.74s, Calculate Pauli Expectation Values - 5.78s, Calculate Covariance - 1.29s\n",
      "f0,f1,f2 = [5.141956004867427e-09, 2.700958788284567e-09, 3.2590173219400597e-09]\n"
     ]
    },
    {
     "name": "stderr",
     "output_type": "stream",
     "text": [
      "Progress:  43%|████▎     | 215/500 [55:21<1:14:12, 15.62s/it]"
     ]
    },
    {
     "name": "stdout",
     "output_type": "stream",
     "text": [
      "Time to: Calculate Ground State - 1.88s, Get Pauli Ops - 7.45s, Calculate Pauli Expectation Values - 5.76s, Calculate Covariance - 1.12s\n",
      "f0,f1,f2 = [1.4653273309228356e-10, 3.7352610447646255e-09, 3.906726012432374e-09]\n"
     ]
    },
    {
     "name": "stderr",
     "output_type": "stream",
     "text": [
      "Progress:  43%|████▎     | 216/500 [55:35<1:11:11, 15.04s/it]"
     ]
    },
    {
     "name": "stdout",
     "output_type": "stream",
     "text": [
      "Time to: Calculate Ground State - 1.07s, Get Pauli Ops - 6.51s, Calculate Pauli Expectation Values - 5.26s, Calculate Covariance - 0.84s\n",
      "f0,f1,f2 = [2.2446386882405616e-09, 3.0901966195535328e-09, 3.3893949469892685e-09]\n"
     ]
    },
    {
     "name": "stderr",
     "output_type": "stream",
     "text": [
      "Progress:  43%|████▎     | 217/500 [55:50<1:10:50, 15.02s/it]"
     ]
    },
    {
     "name": "stdout",
     "output_type": "stream",
     "text": [
      "Time to: Calculate Ground State - 1.94s, Get Pauli Ops - 6.97s, Calculate Pauli Expectation Values - 5.05s, Calculate Covariance - 1.0s\n",
      "f0,f1,f2 = [2.6729883087948843e-09, 3.940760254113237e-09, 4.44176557678444e-09]\n"
     ]
    },
    {
     "name": "stderr",
     "output_type": "stream",
     "text": [
      "Progress:  44%|████▎     | 218/500 [56:06<1:12:03, 15.33s/it]"
     ]
    },
    {
     "name": "stdout",
     "output_type": "stream",
     "text": [
      "Time to: Calculate Ground State - 1.73s, Get Pauli Ops - 8.12s, Calculate Pauli Expectation Values - 5.48s, Calculate Covariance - 0.73s\n",
      "f0,f1,f2 = [2.2744224739610877e-09, 4.7396611227120975e-09, 5.633690043346646e-09]\n"
     ]
    },
    {
     "name": "stderr",
     "output_type": "stream",
     "text": [
      "Progress:  44%|████▍     | 219/500 [56:20<1:10:53, 15.14s/it]"
     ]
    },
    {
     "name": "stdout",
     "output_type": "stream",
     "text": [
      "Time to: Calculate Ground State - 1.83s, Get Pauli Ops - 6.85s, Calculate Pauli Expectation Values - 5.04s, Calculate Covariance - 0.97s\n",
      "f0,f1,f2 = [4.593692773201939e-09, 4.367923595323654e-09, 4.689737099252123e-09]\n"
     ]
    },
    {
     "name": "stderr",
     "output_type": "stream",
     "text": [
      "Progress:  44%|████▍     | 220/500 [56:34<1:08:54, 14.77s/it]"
     ]
    },
    {
     "name": "stdout",
     "output_type": "stream",
     "text": [
      "Time to: Calculate Ground State - 1.84s, Get Pauli Ops - 6.56s, Calculate Pauli Expectation Values - 4.78s, Calculate Covariance - 0.72s\n",
      "f0,f1,f2 = [6.151580716984912e-09, 4.926931394284903e-09, 4.428148242816821e-09]\n"
     ]
    },
    {
     "name": "stderr",
     "output_type": "stream",
     "text": [
      "Progress:  44%|████▍     | 221/500 [56:50<1:09:51, 15.02s/it]"
     ]
    },
    {
     "name": "stdout",
     "output_type": "stream",
     "text": [
      "Time to: Calculate Ground State - 1.77s, Get Pauli Ops - 6.97s, Calculate Pauli Expectation Values - 5.67s, Calculate Covariance - 1.2s\n",
      "f0,f1,f2 = [5.691731754415846e-09, 4.768553709633503e-09, 5.0538807439291066e-09]\n"
     ]
    },
    {
     "name": "stderr",
     "output_type": "stream",
     "text": [
      "Progress:  44%|████▍     | 222/500 [57:04<1:08:37, 14.81s/it]"
     ]
    },
    {
     "name": "stdout",
     "output_type": "stream",
     "text": [
      "Time to: Calculate Ground State - 1.85s, Get Pauli Ops - 6.21s, Calculate Pauli Expectation Values - 5.01s, Calculate Covariance - 1.24s\n",
      "f0,f1,f2 = [5.250856251826725e-09, 5.221100490092175e-09, 5.303010174117939e-09]\n"
     ]
    },
    {
     "name": "stderr",
     "output_type": "stream",
     "text": [
      "Progress:  45%|████▍     | 223/500 [57:20<1:09:22, 15.03s/it]"
     ]
    },
    {
     "name": "stdout",
     "output_type": "stream",
     "text": [
      "Time to: Calculate Ground State - 1.93s, Get Pauli Ops - 7.08s, Calculate Pauli Expectation Values - 5.42s, Calculate Covariance - 1.1s\n",
      "f0,f1,f2 = [5.54821741881137e-09, 5.114471243995144e-09, 5.522214104427319e-09]\n"
     ]
    },
    {
     "name": "stderr",
     "output_type": "stream",
     "text": [
      "Progress:  45%|████▍     | 224/500 [57:34<1:08:46, 14.95s/it]"
     ]
    },
    {
     "name": "stdout",
     "output_type": "stream",
     "text": [
      "Time to: Calculate Ground State - 1.66s, Get Pauli Ops - 6.56s, Calculate Pauli Expectation Values - 5.28s, Calculate Covariance - 1.27s\n",
      "f0,f1,f2 = [6.561352605642421e-09, 6.274566913223651e-09, 4.487681623429911e-09]\n"
     ]
    },
    {
     "name": "stderr",
     "output_type": "stream",
     "text": [
      "Progress:  45%|████▌     | 225/500 [57:50<1:08:47, 15.01s/it]"
     ]
    },
    {
     "name": "stdout",
     "output_type": "stream",
     "text": [
      "Time to: Calculate Ground State - 1.84s, Get Pauli Ops - 6.54s, Calculate Pauli Expectation Values - 5.46s, Calculate Covariance - 1.3s\n",
      "f0,f1,f2 = [4.7042204320510876e-09, 5.162576024344195e-09, 7.351032857964209e-09]\n"
     ]
    },
    {
     "name": "stderr",
     "output_type": "stream",
     "text": [
      "Progress:  45%|████▌     | 226/500 [58:04<1:07:45, 14.84s/it]"
     ]
    },
    {
     "name": "stdout",
     "output_type": "stream",
     "text": [
      "Time to: Calculate Ground State - 1.83s, Get Pauli Ops - 6.45s, Calculate Pauli Expectation Values - 5.05s, Calculate Covariance - 1.1s\n",
      "f0,f1,f2 = [4.915228852059446e-09, 5.33411225405774e-09, 7.158600331283444e-09]\n"
     ]
    },
    {
     "name": "stderr",
     "output_type": "stream",
     "text": [
      "Progress:  45%|████▌     | 227/500 [58:19<1:07:20, 14.80s/it]"
     ]
    },
    {
     "name": "stdout",
     "output_type": "stream",
     "text": [
      "Time to: Calculate Ground State - 1.82s, Get Pauli Ops - 6.81s, Calculate Pauli Expectation Values - 5.19s, Calculate Covariance - 0.89s\n",
      "f0,f1,f2 = [4.354110822073505e-09, 5.653778589400395e-09, 7.981547297581072e-09]\n"
     ]
    },
    {
     "name": "stderr",
     "output_type": "stream",
     "text": [
      "Progress:  46%|████▌     | 228/500 [58:33<1:06:43, 14.72s/it]"
     ]
    },
    {
     "name": "stdout",
     "output_type": "stream",
     "text": [
      "Time to: Calculate Ground State - 1.02s, Get Pauli Ops - 7.3s, Calculate Pauli Expectation Values - 5.04s, Calculate Covariance - 1.17s\n",
      "f0,f1,f2 = [4.796970374880872e-09, 5.23041802097874e-09, 7.60393329569424e-09]\n"
     ]
    },
    {
     "name": "stderr",
     "output_type": "stream",
     "text": [
      "Progress:  46%|████▌     | 229/500 [58:49<1:07:31, 14.95s/it]"
     ]
    },
    {
     "name": "stdout",
     "output_type": "stream",
     "text": [
      "Time to: Calculate Ground State - 1.81s, Get Pauli Ops - 7.06s, Calculate Pauli Expectation Values - 5.48s, Calculate Covariance - 1.14s\n",
      "f0,f1,f2 = [5.213166309550403e-09, 5.24398309112645e-09, 7.320492445118253e-09]\n"
     ]
    },
    {
     "name": "stderr",
     "output_type": "stream",
     "text": [
      "Progress:  46%|████▌     | 230/500 [59:04<1:08:08, 15.14s/it]"
     ]
    },
    {
     "name": "stdout",
     "output_type": "stream",
     "text": [
      "Time to: Calculate Ground State - 1.84s, Get Pauli Ops - 7.14s, Calculate Pauli Expectation Values - 5.33s, Calculate Covariance - 1.26s\n",
      "f0,f1,f2 = [7.257320332547603e-09, 6.5562830867729165e-09, 3.890516313160753e-09]\n"
     ]
    },
    {
     "name": "stderr",
     "output_type": "stream",
     "text": [
      "Progress:  46%|████▌     | 231/500 [59:19<1:07:13, 14.99s/it]"
     ]
    },
    {
     "name": "stdout",
     "output_type": "stream",
     "text": [
      "Time to: Calculate Ground State - 1.82s, Get Pauli Ops - 6.53s, Calculate Pauli Expectation Values - 5.08s, Calculate Covariance - 1.21s\n",
      "f0,f1,f2 = [4.733482677444789e-09, 4.884724546578697e-09, 8.271263846081115e-09]\n"
     ]
    },
    {
     "name": "stderr",
     "output_type": "stream",
     "text": [
      "Progress:  46%|████▋     | 232/500 [59:35<1:08:02, 15.23s/it]"
     ]
    },
    {
     "name": "stdout",
     "output_type": "stream",
     "text": [
      "Time to: Calculate Ground State - 1.15s, Get Pauli Ops - 8.15s, Calculate Pauli Expectation Values - 5.4s, Calculate Covariance - 1.08s\n",
      "f0,f1,f2 = [5.061714770547751e-09, 4.68429104473018e-09, 7.534149444554361e-09]\n"
     ]
    },
    {
     "name": "stderr",
     "output_type": "stream",
     "text": [
      "Progress:  47%|████▋     | 233/500 [59:50<1:07:13, 15.11s/it]"
     ]
    },
    {
     "name": "stdout",
     "output_type": "stream",
     "text": [
      "Time to: Calculate Ground State - 1.77s, Get Pauli Ops - 6.94s, Calculate Pauli Expectation Values - 5.21s, Calculate Covariance - 0.88s\n",
      "f0,f1,f2 = [5.5643278082542026e-09, 4.939165500388111e-09, 5.839977355804347e-09]\n"
     ]
    },
    {
     "name": "stderr",
     "output_type": "stream",
     "text": [
      "Progress:  47%|████▋     | 234/500 [1:00:05<1:06:54, 15.09s/it]"
     ]
    },
    {
     "name": "stdout",
     "output_type": "stream",
     "text": [
      "Time to: Calculate Ground State - 1.82s, Get Pauli Ops - 6.91s, Calculate Pauli Expectation Values - 5.27s, Calculate Covariance - 1.06s\n",
      "f0,f1,f2 = [6.138810938997354e-09, 5.639333904284588e-09, 4.060169714238139e-09]\n"
     ]
    },
    {
     "name": "stderr",
     "output_type": "stream",
     "text": [
      "Progress:  47%|████▋     | 235/500 [1:00:20<1:06:28, 15.05s/it]"
     ]
    },
    {
     "name": "stdout",
     "output_type": "stream",
     "text": [
      "Time to: Calculate Ground State - 1.02s, Get Pauli Ops - 7.28s, Calculate Pauli Expectation Values - 5.93s, Calculate Covariance - 0.72s\n",
      "f0,f1,f2 = [5.259401389527612e-09, 5.041842127254633e-09, 4.478158551651418e-09]\n"
     ]
    },
    {
     "name": "stderr",
     "output_type": "stream",
     "text": [
      "Progress:  47%|████▋     | 236/500 [1:00:35<1:05:59, 15.00s/it]"
     ]
    },
    {
     "name": "stdout",
     "output_type": "stream",
     "text": [
      "Time to: Calculate Ground State - 1.79s, Get Pauli Ops - 6.85s, Calculate Pauli Expectation Values - 5.49s, Calculate Covariance - 0.74s\n",
      "f0,f1,f2 = [5.4277246043220904e-09, 5.2887680182837446e-09, 3.1137054122426384e-09]\n"
     ]
    },
    {
     "name": "stderr",
     "output_type": "stream",
     "text": [
      "Progress:  47%|████▋     | 237/500 [1:00:50<1:06:41, 15.21s/it]"
     ]
    },
    {
     "name": "stdout",
     "output_type": "stream",
     "text": [
      "Time to: Calculate Ground State - 1.97s, Get Pauli Ops - 7.46s, Calculate Pauli Expectation Values - 5.36s, Calculate Covariance - 0.93s\n",
      "f0,f1,f2 = [4.8202092440136724e-09, 3.5154873805511154e-09, 4.219590982746738e-09]\n"
     ]
    },
    {
     "name": "stderr",
     "output_type": "stream",
     "text": [
      "Progress:  48%|████▊     | 238/500 [1:01:06<1:06:59, 15.34s/it]"
     ]
    },
    {
     "name": "stdout",
     "output_type": "stream",
     "text": [
      "Time to: Calculate Ground State - 1.56s, Get Pauli Ops - 7.33s, Calculate Pauli Expectation Values - 5.56s, Calculate Covariance - 1.19s\n",
      "f0,f1,f2 = [4.565395252457589e-09, 2.547673544488989e-09, 4.352603960637088e-09]\n"
     ]
    },
    {
     "name": "stderr",
     "output_type": "stream",
     "text": [
      "Progress:  48%|████▊     | 239/500 [1:01:21<1:06:48, 15.36s/it]"
     ]
    },
    {
     "name": "stdout",
     "output_type": "stream",
     "text": [
      "Time to: Calculate Ground State - 1.1s, Get Pauli Ops - 8.02s, Calculate Pauli Expectation Values - 5.21s, Calculate Covariance - 1.07s\n",
      "f0,f1,f2 = [4.336002244872406e-09, 2.505513557451812e-09, 3.1606499132485914e-09]\n"
     ]
    },
    {
     "name": "stderr",
     "output_type": "stream",
     "text": [
      "Progress:  48%|████▊     | 240/500 [1:01:37<1:07:13, 15.51s/it]"
     ]
    },
    {
     "name": "stdout",
     "output_type": "stream",
     "text": [
      "Time to: Calculate Ground State - 1.73s, Get Pauli Ops - 7.54s, Calculate Pauli Expectation Values - 5.44s, Calculate Covariance - 1.17s\n",
      "f0,f1,f2 = [3.767568388978108e-09, 1.0181167528601891e-09, 3.3311286255891137e-09]\n"
     ]
    },
    {
     "name": "stderr",
     "output_type": "stream",
     "text": [
      "Progress:  48%|████▊     | 241/500 [1:01:53<1:07:51, 15.72s/it]"
     ]
    },
    {
     "name": "stdout",
     "output_type": "stream",
     "text": [
      "Time to: Calculate Ground State - 1.81s, Get Pauli Ops - 8.14s, Calculate Pauli Expectation Values - 5.17s, Calculate Covariance - 1.08s\n",
      "f0,f1,f2 = [3.3117220867317877e-09, 6.347794302133114e-10, 2.6675949735760378e-09]\n"
     ]
    },
    {
     "name": "stderr",
     "output_type": "stream",
     "text": [
      "Progress:  48%|████▊     | 242/500 [1:02:09<1:07:04, 15.60s/it]"
     ]
    },
    {
     "name": "stdout",
     "output_type": "stream",
     "text": [
      "Time to: Calculate Ground State - 1.8s, Get Pauli Ops - 6.79s, Calculate Pauli Expectation Values - 5.46s, Calculate Covariance - 1.25s\n",
      "f0,f1,f2 = [2.75207341268311e-09, 1.52774389785896e-09, 1.9695321407569637e-09]\n"
     ]
    },
    {
     "name": "stderr",
     "output_type": "stream",
     "text": [
      "Progress:  49%|████▊     | 243/500 [1:02:23<1:05:48, 15.37s/it]"
     ]
    },
    {
     "name": "stdout",
     "output_type": "stream",
     "text": [
      "Time to: Calculate Ground State - 1.16s, Get Pauli Ops - 7.94s, Calculate Pauli Expectation Values - 5.0s, Calculate Covariance - 0.71s\n",
      "f0,f1,f2 = [1.8676154453920945e-09, 2.2217338435671834e-09, 2.080539251768137e-09]\n"
     ]
    },
    {
     "name": "stderr",
     "output_type": "stream",
     "text": [
      "Progress:  49%|████▉     | 244/500 [1:02:40<1:06:47, 15.65s/it]"
     ]
    },
    {
     "name": "stdout",
     "output_type": "stream",
     "text": [
      "Time to: Calculate Ground State - 1.1s, Get Pauli Ops - 8.28s, Calculate Pauli Expectation Values - 5.66s, Calculate Covariance - 1.28s\n",
      "f0,f1,f2 = [1.1647069758417575e-09, 3.1628785234194134e-09, 3.1617865045497016e-09]\n"
     ]
    },
    {
     "name": "stderr",
     "output_type": "stream",
     "text": [
      "Progress:  49%|████▉     | 245/500 [1:02:56<1:06:43, 15.70s/it]"
     ]
    },
    {
     "name": "stdout",
     "output_type": "stream",
     "text": [
      "Time to: Calculate Ground State - 1.79s, Get Pauli Ops - 7.63s, Calculate Pauli Expectation Values - 5.07s, Calculate Covariance - 1.31s\n",
      "f0,f1,f2 = [2.2779430957452131e-10, 4.649724879112759e-09, 4.642439255872657e-09]\n"
     ]
    },
    {
     "name": "stderr",
     "output_type": "stream",
     "text": [
      "Progress:  49%|████▉     | 246/500 [1:03:12<1:07:30, 15.95s/it]"
     ]
    },
    {
     "name": "stdout",
     "output_type": "stream",
     "text": [
      "Time to: Calculate Ground State - 1.8s, Get Pauli Ops - 8.13s, Calculate Pauli Expectation Values - 5.28s, Calculate Covariance - 1.31s\n",
      "f0,f1,f2 = [1.0537426734219718e-09, 6.340845164049661e-09, 6.152048315043854e-09]\n"
     ]
    },
    {
     "name": "stderr",
     "output_type": "stream",
     "text": [
      "Progress:  49%|████▉     | 247/500 [1:03:28<1:07:35, 16.03s/it]"
     ]
    },
    {
     "name": "stdout",
     "output_type": "stream",
     "text": [
      "Time to: Calculate Ground State - 1.85s, Get Pauli Ops - 7.4s, Calculate Pauli Expectation Values - 5.65s, Calculate Covariance - 1.31s\n",
      "f0,f1,f2 = [1.9001316076570635e-09, 7.654953884828626e-09, 7.358507957126829e-09]\n"
     ]
    },
    {
     "name": "stderr",
     "output_type": "stream",
     "text": [
      "Progress:  50%|████▉     | 248/500 [1:03:44<1:06:52, 15.92s/it]"
     ]
    },
    {
     "name": "stdout",
     "output_type": "stream",
     "text": [
      "Time to: Calculate Ground State - 1.84s, Get Pauli Ops - 7.77s, Calculate Pauli Expectation Values - 5.04s, Calculate Covariance - 1.02s\n",
      "f0,f1,f2 = [3.3623739248680273e-09, 9.36929672126313e-09, 8.516150564523595e-09]\n"
     ]
    },
    {
     "name": "stderr",
     "output_type": "stream",
     "text": [
      "Progress:  50%|████▉     | 249/500 [1:03:59<1:05:45, 15.72s/it]"
     ]
    },
    {
     "name": "stdout",
     "output_type": "stream",
     "text": [
      "Time to: Calculate Ground State - 1.84s, Get Pauli Ops - 7.0s, Calculate Pauli Expectation Values - 5.56s, Calculate Covariance - 0.84s\n",
      "f0,f1,f2 = [4.5386102283536255e-09, 9.549477756567775e-09, 1.076758018183677e-08]\n"
     ]
    },
    {
     "name": "stderr",
     "output_type": "stream",
     "text": [
      "Progress:  50%|█████     | 250/500 [1:04:14<1:04:04, 15.38s/it]"
     ]
    },
    {
     "name": "stdout",
     "output_type": "stream",
     "text": [
      "Time to: Calculate Ground State - 1.77s, Get Pauli Ops - 6.71s, Calculate Pauli Expectation Values - 5.03s, Calculate Covariance - 1.07s\n",
      "f0,f1,f2 = [5.6497877478959655e-09, 1.0663139532563236e-08, 1.1927236198858702e-08]\n"
     ]
    },
    {
     "name": "stderr",
     "output_type": "stream",
     "text": [
      "Progress:  50%|█████     | 251/500 [1:04:28<1:02:05, 14.96s/it]"
     ]
    },
    {
     "name": "stdout",
     "output_type": "stream",
     "text": [
      "Time to: Calculate Ground State - 1.64s, Get Pauli Ops - 6.22s, Calculate Pauli Expectation Values - 4.93s, Calculate Covariance - 1.2s\n",
      "f0,f1,f2 = [6.45050672518633e-09, 1.136998235068142e-08, 1.2144212246717503e-08]\n"
     ]
    },
    {
     "name": "stderr",
     "output_type": "stream",
     "text": [
      "Progress:  50%|█████     | 252/500 [1:04:44<1:03:03, 15.26s/it]"
     ]
    },
    {
     "name": "stdout",
     "output_type": "stream",
     "text": [
      "Time to: Calculate Ground State - 1.54s, Get Pauli Ops - 8.04s, Calculate Pauli Expectation Values - 5.49s, Calculate Covariance - 0.87s\n",
      "f0,f1,f2 = [7.476944497673783e-09, 1.1483162758164417e-08, 1.2145897379013278e-08]\n"
     ]
    },
    {
     "name": "stderr",
     "output_type": "stream",
     "text": [
      "Progress:  51%|█████     | 253/500 [1:04:59<1:02:34, 15.20s/it]"
     ]
    },
    {
     "name": "stdout",
     "output_type": "stream",
     "text": [
      "Time to: Calculate Ground State - 1.75s, Get Pauli Ops - 7.21s, Calculate Pauli Expectation Values - 4.94s, Calculate Covariance - 1.17s\n",
      "f0,f1,f2 = [7.488925214059661e-09, 1.2311292694446802e-08, 1.1912890444074142e-08]\n"
     ]
    },
    {
     "name": "stderr",
     "output_type": "stream",
     "text": [
      "Progress:  51%|█████     | 254/500 [1:05:15<1:03:00, 15.37s/it]"
     ]
    },
    {
     "name": "stdout",
     "output_type": "stream",
     "text": [
      "Time to: Calculate Ground State - 1.6s, Get Pauli Ops - 7.56s, Calculate Pauli Expectation Values - 5.27s, Calculate Covariance - 1.32s\n",
      "f0,f1,f2 = [8.144537290031432e-09, 1.0529533509877507e-08, 1.2051451928248294e-08]\n"
     ]
    },
    {
     "name": "stderr",
     "output_type": "stream",
     "text": [
      "Progress:  51%|█████     | 255/500 [1:05:30<1:02:29, 15.30s/it]"
     ]
    },
    {
     "name": "stdout",
     "output_type": "stream",
     "text": [
      "Time to: Calculate Ground State - 1.87s, Get Pauli Ops - 7.24s, Calculate Pauli Expectation Values - 4.87s, Calculate Covariance - 1.17s\n",
      "f0,f1,f2 = [7.731267379214861e-09, 9.801092468363188e-09, 1.0648866227188e-08]\n"
     ]
    },
    {
     "name": "stderr",
     "output_type": "stream",
     "text": [
      "Progress:  51%|█████     | 256/500 [1:05:44<1:01:03, 15.01s/it]"
     ]
    },
    {
     "name": "stdout",
     "output_type": "stream",
     "text": [
      "Time to: Calculate Ground State - 1.16s, Get Pauli Ops - 6.58s, Calculate Pauli Expectation Values - 5.29s, Calculate Covariance - 1.31s\n",
      "f0,f1,f2 = [7.852475708357936e-09, 8.20924953607749e-09, 9.805232901263411e-09]\n"
     ]
    },
    {
     "name": "stderr",
     "output_type": "stream",
     "text": [
      "Progress:  51%|█████▏    | 257/500 [1:06:00<1:01:33, 15.20s/it]"
     ]
    },
    {
     "name": "stdout",
     "output_type": "stream",
     "text": [
      "Time to: Calculate Ground State - 1.85s, Get Pauli Ops - 7.15s, Calculate Pauli Expectation Values - 5.31s, Calculate Covariance - 1.32s\n",
      "f0,f1,f2 = [9.927349335070609e-09, 4.6618315965646965e-09, 8.349525513035142e-09]\n"
     ]
    },
    {
     "name": "stderr",
     "output_type": "stream",
     "text": [
      "Progress:  52%|█████▏    | 258/500 [1:06:14<1:00:16, 14.94s/it]"
     ]
    },
    {
     "name": "stdout",
     "output_type": "stream",
     "text": [
      "Time to: Calculate Ground State - 1.46s, Get Pauli Ops - 6.1s, Calculate Pauli Expectation Values - 5.45s, Calculate Covariance - 1.32s\n",
      "f0,f1,f2 = [6.741904247648207e-09, 5.053818858524629e-09, 6.9250957680696355e-09]\n"
     ]
    },
    {
     "name": "stderr",
     "output_type": "stream",
     "text": [
      "Progress:  52%|█████▏    | 259/500 [1:06:29<1:00:22, 15.03s/it]"
     ]
    },
    {
     "name": "stdout",
     "output_type": "stream",
     "text": [
      "Time to: Calculate Ground State - 1.87s, Get Pauli Ops - 6.82s, Calculate Pauli Expectation Values - 5.22s, Calculate Covariance - 1.32s\n",
      "f0,f1,f2 = [5.480979999181881e-09, 3.7928030406087775e-09, 5.568258109834143e-09]\n"
     ]
    },
    {
     "name": "stderr",
     "output_type": "stream",
     "text": [
      "Progress:  52%|█████▏    | 260/500 [1:06:46<1:02:21, 15.59s/it]"
     ]
    },
    {
     "name": "stdout",
     "output_type": "stream",
     "text": [
      "Time to: Calculate Ground State - 1.86s, Get Pauli Ops - 7.88s, Calculate Pauli Expectation Values - 5.76s, Calculate Covariance - 1.38s\n",
      "f0,f1,f2 = [4.2271542032670895e-09, 2.5902645720192227e-09, 4.293966873638488e-09]\n"
     ]
    },
    {
     "name": "stderr",
     "output_type": "stream",
     "text": [
      "Progress:  52%|█████▏    | 261/500 [1:07:03<1:03:47, 16.02s/it]"
     ]
    },
    {
     "name": "stdout",
     "output_type": "stream",
     "text": [
      "Time to: Calculate Ground State - 1.69s, Get Pauli Ops - 8.25s, Calculate Pauli Expectation Values - 6.25s, Calculate Covariance - 0.82s\n",
      "f0,f1,f2 = [3.4521118137354533e-09, 1.143248275526779e-09, 3.0936597364897936e-09]\n"
     ]
    },
    {
     "name": "stderr",
     "output_type": "stream",
     "text": [
      "Progress:  52%|█████▏    | 262/500 [1:07:19<1:03:37, 16.04s/it]"
     ]
    },
    {
     "name": "stdout",
     "output_type": "stream",
     "text": [
      "Time to: Calculate Ground State - 1.72s, Get Pauli Ops - 6.58s, Calculate Pauli Expectation Values - 6.48s, Calculate Covariance - 1.31s\n",
      "f0,f1,f2 = [2.3570528848192794e-09, 3.7550279401194986e-10, 2.095400305578333e-09]\n"
     ]
    },
    {
     "name": "stderr",
     "output_type": "stream",
     "text": [
      "Progress:  53%|█████▎    | 263/500 [1:07:37<1:05:17, 16.53s/it]"
     ]
    },
    {
     "name": "stdout",
     "output_type": "stream",
     "text": [
      "Time to: Calculate Ground State - 1.82s, Get Pauli Ops - 7.95s, Calculate Pauli Expectation Values - 6.57s, Calculate Covariance - 1.32s\n",
      "f0,f1,f2 = [1.5733501261785233e-09, 1.3154741789918722e-09, 1.439947562490167e-09]\n"
     ]
    },
    {
     "name": "stderr",
     "output_type": "stream",
     "text": [
      "Progress:  53%|█████▎    | 264/500 [1:07:52<1:03:09, 16.06s/it]"
     ]
    },
    {
     "name": "stdout",
     "output_type": "stream",
     "text": [
      "Time to: Calculate Ground State - 1.4s, Get Pauli Ops - 7.38s, Calculate Pauli Expectation Values - 5.43s, Calculate Covariance - 0.75s\n",
      "f0,f1,f2 = [6.720550664313502e-10, 1.706192105979224e-09, 1.93397202440554e-09]\n"
     ]
    },
    {
     "name": "stderr",
     "output_type": "stream",
     "text": [
      "Progress:  53%|█████▎    | 265/500 [1:08:07<1:01:41, 15.75s/it]"
     ]
    },
    {
     "name": "stdout",
     "output_type": "stream",
     "text": [
      "Time to: Calculate Ground State - 1.83s, Get Pauli Ops - 7.27s, Calculate Pauli Expectation Values - 5.07s, Calculate Covariance - 0.86s\n",
      "f0,f1,f2 = [1.9517869470129964e-09, 2.9792592621850083e-09, 1.0234647620127544e-09]\n"
     ]
    },
    {
     "name": "stderr",
     "output_type": "stream",
     "text": [
      "Progress:  53%|█████▎    | 266/500 [1:08:23<1:01:18, 15.72s/it]"
     ]
    },
    {
     "name": "stdout",
     "output_type": "stream",
     "text": [
      "Time to: Calculate Ground State - 1.06s, Get Pauli Ops - 7.85s, Calculate Pauli Expectation Values - 5.43s, Calculate Covariance - 1.31s\n",
      "f0,f1,f2 = [1.076425094849507e-09, 2.7063388150741503e-09, 3.3734618802426143e-09]\n"
     ]
    },
    {
     "name": "stderr",
     "output_type": "stream",
     "text": [
      "Progress:  53%|█████▎    | 267/500 [1:08:37<59:30, 15.32s/it]  "
     ]
    },
    {
     "name": "stdout",
     "output_type": "stream",
     "text": [
      "Time to: Calculate Ground State - 1.21s, Get Pauli Ops - 6.65s, Calculate Pauli Expectation Values - 5.41s, Calculate Covariance - 1.11s\n",
      "f0,f1,f2 = [2.5270427604994706e-09, 4.26763964428991e-09, 2.4213199772017245e-09]\n"
     ]
    },
    {
     "name": "stderr",
     "output_type": "stream",
     "text": [
      "Progress:  54%|█████▎    | 268/500 [1:08:54<1:01:11, 15.83s/it]"
     ]
    },
    {
     "name": "stdout",
     "output_type": "stream",
     "text": [
      "Time to: Calculate Ground State - 1.88s, Get Pauli Ops - 7.82s, Calculate Pauli Expectation Values - 5.98s, Calculate Covariance - 1.32s\n",
      "f0,f1,f2 = [2.840123062870482e-09, 4.1110547870775815e-09, 2.9138767980206206e-09]\n"
     ]
    },
    {
     "name": "stderr",
     "output_type": "stream",
     "text": [
      "Progress:  54%|█████▍    | 269/500 [1:09:09<59:31, 15.46s/it]  "
     ]
    },
    {
     "name": "stdout",
     "output_type": "stream",
     "text": [
      "Time to: Calculate Ground State - 1.84s, Get Pauli Ops - 6.89s, Calculate Pauli Expectation Values - 5.13s, Calculate Covariance - 0.75s\n",
      "f0,f1,f2 = [3.0673836094640155e-09, 4.413131224245918e-09, 3.813344565891516e-09]\n"
     ]
    },
    {
     "name": "stderr",
     "output_type": "stream",
     "text": [
      "Progress:  54%|█████▍    | 270/500 [1:09:25<59:58, 15.65s/it]"
     ]
    },
    {
     "name": "stdout",
     "output_type": "stream",
     "text": [
      "Time to: Calculate Ground State - 1.88s, Get Pauli Ops - 8.14s, Calculate Pauli Expectation Values - 5.0s, Calculate Covariance - 1.05s\n",
      "f0,f1,f2 = [3.703778044973629e-09, 4.903615311069523e-09, 3.6380036906552385e-09]\n"
     ]
    },
    {
     "name": "stderr",
     "output_type": "stream",
     "text": [
      "Progress:  54%|█████▍    | 271/500 [1:09:41<1:00:18, 15.80s/it]"
     ]
    },
    {
     "name": "stdout",
     "output_type": "stream",
     "text": [
      "Time to: Calculate Ground State - 2.02s, Get Pauli Ops - 6.9s, Calculate Pauli Expectation Values - 6.04s, Calculate Covariance - 1.2s\n",
      "f0,f1,f2 = [3.6887031356819487e-09, 4.986360312028896e-09, 4.369301064484903e-09]\n"
     ]
    },
    {
     "name": "stderr",
     "output_type": "stream",
     "text": [
      "Progress:  54%|█████▍    | 272/500 [1:09:57<1:00:12, 15.85s/it]"
     ]
    },
    {
     "name": "stdout",
     "output_type": "stream",
     "text": [
      "Time to: Calculate Ground State - 1.96s, Get Pauli Ops - 7.71s, Calculate Pauli Expectation Values - 5.52s, Calculate Covariance - 0.75s\n",
      "f0,f1,f2 = [3.958563000982625e-09, 5.066663217751805e-09, 4.941780315038007e-09]\n"
     ]
    },
    {
     "name": "stderr",
     "output_type": "stream",
     "text": [
      "Progress:  55%|█████▍    | 273/500 [1:10:13<1:00:28, 15.99s/it]"
     ]
    },
    {
     "name": "stdout",
     "output_type": "stream",
     "text": [
      "Time to: Calculate Ground State - 1.25s, Get Pauli Ops - 7.53s, Calculate Pauli Expectation Values - 6.38s, Calculate Covariance - 1.15s\n",
      "f0,f1,f2 = [4.3068115223778565e-09, 5.590989007864028e-09, 4.481579404656875e-09]\n"
     ]
    },
    {
     "name": "stderr",
     "output_type": "stream",
     "text": [
      "Progress:  55%|█████▍    | 274/500 [1:10:29<1:00:24, 16.04s/it]"
     ]
    },
    {
     "name": "stdout",
     "output_type": "stream",
     "text": [
      "Time to: Calculate Ground State - 2.04s, Get Pauli Ops - 7.03s, Calculate Pauli Expectation Values - 5.83s, Calculate Covariance - 1.25s\n",
      "f0,f1,f2 = [4.740568390409424e-09, 6.1412446476159245e-09, 4.367692416459522e-09]\n"
     ]
    },
    {
     "name": "stderr",
     "output_type": "stream",
     "text": [
      "Progress:  55%|█████▌    | 275/500 [1:10:46<1:00:33, 16.15s/it]"
     ]
    },
    {
     "name": "stdout",
     "output_type": "stream",
     "text": [
      "Time to: Calculate Ground State - 1.99s, Get Pauli Ops - 7.04s, Calculate Pauli Expectation Values - 6.1s, Calculate Covariance - 1.27s\n",
      "f0,f1,f2 = [4.58490562449368e-09, 5.802283962001188e-09, 5.034649706810994e-09]\n"
     ]
    },
    {
     "name": "stderr",
     "output_type": "stream",
     "text": [
      "Progress:  55%|█████▌    | 276/500 [1:11:03<1:01:21, 16.44s/it]"
     ]
    },
    {
     "name": "stdout",
     "output_type": "stream",
     "text": [
      "Time to: Calculate Ground State - 2.02s, Get Pauli Ops - 8.33s, Calculate Pauli Expectation Values - 5.58s, Calculate Covariance - 1.17s\n",
      "f0,f1,f2 = [4.828441894149188e-09, 6.382678138400129e-09, 4.5806282782175225e-09]\n"
     ]
    },
    {
     "name": "stderr",
     "output_type": "stream",
     "text": [
      "Progress:  55%|█████▌    | 277/500 [1:11:21<1:02:47, 16.89s/it]"
     ]
    },
    {
     "name": "stdout",
     "output_type": "stream",
     "text": [
      "Time to: Calculate Ground State - 1.95s, Get Pauli Ops - 7.43s, Calculate Pauli Expectation Values - 7.28s, Calculate Covariance - 1.29s\n",
      "f0,f1,f2 = [4.8736306259088974e-09, 5.886851409817666e-09, 5.011390524997249e-09]\n"
     ]
    },
    {
     "name": "stderr",
     "output_type": "stream",
     "text": [
      "Progress:  56%|█████▌    | 278/500 [1:11:43<1:08:00, 18.38s/it]"
     ]
    },
    {
     "name": "stdout",
     "output_type": "stream",
     "text": [
      "Time to: Calculate Ground State - 1.97s, Get Pauli Ops - 6.11s, Calculate Pauli Expectation Values - 12.5s, Calculate Covariance - 1.26s\n",
      "f0,f1,f2 = [4.657694721697893e-09, 4.929739176238853e-09, 6.1061160025063605e-09]\n"
     ]
    },
    {
     "name": "stderr",
     "output_type": "stream",
     "text": [
      "Progress:  56%|█████▌    | 279/500 [1:11:57<1:02:44, 17.03s/it]"
     ]
    },
    {
     "name": "stdout",
     "output_type": "stream",
     "text": [
      "Time to: Calculate Ground State - 1.22s, Get Pauli Ops - 6.39s, Calculate Pauli Expectation Values - 5.32s, Calculate Covariance - 0.96s\n",
      "f0,f1,f2 = [4.9356689974557544e-09, 6.417683307653487e-09, 4.588720411048684e-09]\n"
     ]
    },
    {
     "name": "stderr",
     "output_type": "stream",
     "text": [
      "Progress:  56%|█████▌    | 280/500 [1:12:13<1:01:32, 16.78s/it]"
     ]
    },
    {
     "name": "stdout",
     "output_type": "stream",
     "text": [
      "Time to: Calculate Ground State - 1.93s, Get Pauli Ops - 7.26s, Calculate Pauli Expectation Values - 5.87s, Calculate Covariance - 1.14s\n",
      "f0,f1,f2 = [4.467652838928874e-09, 5.577414369475098e-09, 5.3381118488200836e-09]\n"
     ]
    },
    {
     "name": "stderr",
     "output_type": "stream",
     "text": [
      "Progress:  56%|█████▌    | 281/500 [1:12:28<59:36, 16.33s/it]  "
     ]
    },
    {
     "name": "stdout",
     "output_type": "stream",
     "text": [
      "Time to: Calculate Ground State - 2.1s, Get Pauli Ops - 6.74s, Calculate Pauli Expectation Values - 5.48s, Calculate Covariance - 0.94s\n",
      "f0,f1,f2 = [4.584679486978301e-09, 5.502602174039961e-09, 5.5715141380930825e-09]\n"
     ]
    },
    {
     "name": "stderr",
     "output_type": "stream",
     "text": [
      "Progress:  56%|█████▋    | 282/500 [1:12:45<59:57, 16.50s/it]"
     ]
    },
    {
     "name": "stdout",
     "output_type": "stream",
     "text": [
      "Time to: Calculate Ground State - 1.94s, Get Pauli Ops - 8.2s, Calculate Pauli Expectation Values - 5.7s, Calculate Covariance - 1.06s\n",
      "f0,f1,f2 = [4.420797703932732e-09, 5.488861940116022e-09, 5.21189520627118e-09]\n"
     ]
    },
    {
     "name": "stderr",
     "output_type": "stream",
     "text": [
      "Progress:  57%|█████▋    | 283/500 [1:13:00<58:20, 16.13s/it]"
     ]
    },
    {
     "name": "stdout",
     "output_type": "stream",
     "text": [
      "Time to: Calculate Ground State - 1.9s, Get Pauli Ops - 6.4s, Calculate Pauli Expectation Values - 6.2s, Calculate Covariance - 0.76s\n",
      "f0,f1,f2 = [3.958912845615432e-09, 5.144762621401884e-09, 5.307687150817985e-09]\n"
     ]
    },
    {
     "name": "stderr",
     "output_type": "stream",
     "text": [
      "Progress:  57%|█████▋    | 284/500 [1:13:16<57:22, 15.94s/it]"
     ]
    },
    {
     "name": "stdout",
     "output_type": "stream",
     "text": [
      "Time to: Calculate Ground State - 1.95s, Get Pauli Ops - 6.86s, Calculate Pauli Expectation Values - 5.46s, Calculate Covariance - 1.22s\n",
      "f0,f1,f2 = [3.7346961909526806e-09, 5.3553651362485165e-09, 4.940490944658107e-09]\n"
     ]
    },
    {
     "name": "stderr",
     "output_type": "stream",
     "text": [
      "Progress:  57%|█████▋    | 285/500 [1:13:31<56:16, 15.70s/it]"
     ]
    },
    {
     "name": "stdout",
     "output_type": "stream",
     "text": [
      "Time to: Calculate Ground State - 1.99s, Get Pauli Ops - 7.09s, Calculate Pauli Expectation Values - 5.36s, Calculate Covariance - 0.71s\n",
      "f0,f1,f2 = [3.717867383835779e-09, 4.0966889135101436e-09, 5.613434607096416e-09]\n"
     ]
    },
    {
     "name": "stderr",
     "output_type": "stream",
     "text": [
      "Progress:  57%|█████▋    | 286/500 [1:13:47<56:45, 15.92s/it]"
     ]
    },
    {
     "name": "stdout",
     "output_type": "stream",
     "text": [
      "Time to: Calculate Ground State - 1.89s, Get Pauli Ops - 7.72s, Calculate Pauli Expectation Values - 6.0s, Calculate Covariance - 0.79s\n",
      "f0,f1,f2 = [3.1203201733407666e-09, 4.296099693718203e-09, 4.554100147417657e-09]\n"
     ]
    },
    {
     "name": "stderr",
     "output_type": "stream",
     "text": [
      "Progress:  57%|█████▋    | 287/500 [1:14:03<56:16, 15.85s/it]"
     ]
    },
    {
     "name": "stdout",
     "output_type": "stream",
     "text": [
      "Time to: Calculate Ground State - 1.76s, Get Pauli Ops - 7.89s, Calculate Pauli Expectation Values - 4.99s, Calculate Covariance - 1.05s\n",
      "f0,f1,f2 = [2.8937995075401218e-09, 4.849299146637222e-09, 4.0645293973028445e-09]\n"
     ]
    },
    {
     "name": "stderr",
     "output_type": "stream",
     "text": [
      "Progress:  58%|█████▊    | 288/500 [1:14:16<53:26, 15.13s/it]"
     ]
    },
    {
     "name": "stdout",
     "output_type": "stream",
     "text": [
      "Time to: Calculate Ground State - 1.31s, Get Pauli Ops - 6.43s, Calculate Pauli Expectation Values - 4.97s, Calculate Covariance - 0.73s\n",
      "f0,f1,f2 = [2.3262647547340047e-09, 4.027503645659833e-09, 4.1630468316286055e-09]\n"
     ]
    },
    {
     "name": "stderr",
     "output_type": "stream",
     "text": [
      "Progress:  58%|█████▊    | 289/500 [1:14:31<52:48, 15.02s/it]"
     ]
    },
    {
     "name": "stdout",
     "output_type": "stream",
     "text": [
      "Time to: Calculate Ground State - 1.65s, Get Pauli Ops - 7.16s, Calculate Pauli Expectation Values - 4.9s, Calculate Covariance - 1.04s\n",
      "f0,f1,f2 = [1.625311855763314e-09, 3.7950910897470975e-09, 3.735450950520836e-09]\n"
     ]
    },
    {
     "name": "stderr",
     "output_type": "stream",
     "text": [
      "Progress:  58%|█████▊    | 290/500 [1:14:46<52:05, 14.88s/it]"
     ]
    },
    {
     "name": "stdout",
     "output_type": "stream",
     "text": [
      "Time to: Calculate Ground State - 1.76s, Get Pauli Ops - 7.04s, Calculate Pauli Expectation Values - 4.98s, Calculate Covariance - 0.8s\n",
      "f0,f1,f2 = [7.814976071266461e-10, 3.1658714514576874e-09, 3.4632474197967097e-09]\n"
     ]
    },
    {
     "name": "stderr",
     "output_type": "stream",
     "text": [
      "Progress:  58%|█████▊    | 291/500 [1:15:03<54:22, 15.61s/it]"
     ]
    },
    {
     "name": "stdout",
     "output_type": "stream",
     "text": [
      "Time to: Calculate Ground State - 1.79s, Get Pauli Ops - 7.84s, Calculate Pauli Expectation Values - 6.33s, Calculate Covariance - 1.33s\n",
      "f0,f1,f2 = [1.1305550526529789e-09, 2.3218928463163056e-09, 3.447741091622911e-09]\n"
     ]
    },
    {
     "name": "stderr",
     "output_type": "stream",
     "text": [
      "Progress:  58%|█████▊    | 292/500 [1:15:18<53:21, 15.39s/it]"
     ]
    },
    {
     "name": "stdout",
     "output_type": "stream",
     "text": [
      "Time to: Calculate Ground State - 1.24s, Get Pauli Ops - 7.58s, Calculate Pauli Expectation Values - 5.03s, Calculate Covariance - 1.03s\n",
      "f0,f1,f2 = [1.0717283835456758e-09, 1.879400255818675e-09, 2.618444371671386e-09]\n"
     ]
    },
    {
     "name": "stderr",
     "output_type": "stream",
     "text": [
      "Progress:  59%|█████▊    | 293/500 [1:15:33<53:07, 15.40s/it]"
     ]
    },
    {
     "name": "stdout",
     "output_type": "stream",
     "text": [
      "Time to: Calculate Ground State - 1.15s, Get Pauli Ops - 7.74s, Calculate Pauli Expectation Values - 5.58s, Calculate Covariance - 0.94s\n",
      "f0,f1,f2 = [1.9912484347586033e-09, 1.9419865294353275e-09, 2.4823121943686633e-09]\n"
     ]
    },
    {
     "name": "stderr",
     "output_type": "stream",
     "text": [
      "Progress:  59%|█████▉    | 294/500 [1:15:50<53:48, 15.67s/it]"
     ]
    },
    {
     "name": "stdout",
     "output_type": "stream",
     "text": [
      "Time to: Calculate Ground State - 1.79s, Get Pauli Ops - 7.75s, Calculate Pauli Expectation Values - 5.91s, Calculate Covariance - 0.86s\n",
      "f0,f1,f2 = [2.7696966196813827e-09, 1.9697496734675657e-09, 1.7767769673072962e-09]\n"
     ]
    },
    {
     "name": "stderr",
     "output_type": "stream",
     "text": [
      "Progress:  59%|█████▉    | 295/500 [1:16:05<53:27, 15.65s/it]"
     ]
    },
    {
     "name": "stdout",
     "output_type": "stream",
     "text": [
      "Time to: Calculate Ground State - 1.82s, Get Pauli Ops - 7.26s, Calculate Pauli Expectation Values - 5.5s, Calculate Covariance - 1.0s\n",
      "f0,f1,f2 = [3.801992007525168e-09, 2.6533599223776476e-09, 1.437928660396448e-09]\n"
     ]
    },
    {
     "name": "stderr",
     "output_type": "stream",
     "text": [
      "Progress:  59%|█████▉    | 296/500 [1:16:20<52:02, 15.30s/it]"
     ]
    },
    {
     "name": "stdout",
     "output_type": "stream",
     "text": [
      "Time to: Calculate Ground State - 1.83s, Get Pauli Ops - 6.53s, Calculate Pauli Expectation Values - 5.35s, Calculate Covariance - 0.79s\n",
      "f0,f1,f2 = [5.511921804555994e-09, 4.246560808281245e-09, 1.3090242345469797e-09]\n"
     ]
    },
    {
     "name": "stderr",
     "output_type": "stream",
     "text": [
      "Progress:  59%|█████▉    | 297/500 [1:16:36<52:31, 15.52s/it]"
     ]
    },
    {
     "name": "stdout",
     "output_type": "stream",
     "text": [
      "Time to: Calculate Ground State - 1.77s, Get Pauli Ops - 7.74s, Calculate Pauli Expectation Values - 5.29s, Calculate Covariance - 1.24s\n",
      "f0,f1,f2 = [6.615249826465704e-09, 5.116637015730546e-09, 1.5483335164962093e-09]\n"
     ]
    },
    {
     "name": "stderr",
     "output_type": "stream",
     "text": [
      "Progress:  60%|█████▉    | 298/500 [1:16:50<50:37, 15.04s/it]"
     ]
    },
    {
     "name": "stdout",
     "output_type": "stream",
     "text": [
      "Time to: Calculate Ground State - 1.13s, Get Pauli Ops - 6.9s, Calculate Pauli Expectation Values - 5.12s, Calculate Covariance - 0.74s\n",
      "f0,f1,f2 = [7.89599553602929e-09, 5.923913850351983e-09, 2.457355414088451e-09]\n"
     ]
    },
    {
     "name": "stderr",
     "output_type": "stream",
     "text": [
      "Progress:  60%|█████▉    | 299/500 [1:17:04<49:25, 14.75s/it]"
     ]
    },
    {
     "name": "stdout",
     "output_type": "stream",
     "text": [
      "Time to: Calculate Ground State - 1.41s, Get Pauli Ops - 6.82s, Calculate Pauli Expectation Values - 5.12s, Calculate Covariance - 0.73s\n",
      "f0,f1,f2 = [8.698284156352504e-09, 7.178431589251309e-09, 2.6479924020950793e-09]\n"
     ]
    },
    {
     "name": "stderr",
     "output_type": "stream",
     "text": [
      "Progress:  60%|██████    | 300/500 [1:17:19<50:00, 15.00s/it]"
     ]
    },
    {
     "name": "stdout",
     "output_type": "stream",
     "text": [
      "Time to: Calculate Ground State - 1.99s, Get Pauli Ops - 7.3s, Calculate Pauli Expectation Values - 5.03s, Calculate Covariance - 1.25s\n",
      "f0,f1,f2 = [9.941403254626016e-09, 8.114075294659247e-09, 3.4450365112654377e-09]\n"
     ]
    },
    {
     "name": "stderr",
     "output_type": "stream",
     "text": [
      "Progress:  60%|██████    | 301/500 [1:17:35<50:46, 15.31s/it]"
     ]
    },
    {
     "name": "stdout",
     "output_type": "stream",
     "text": [
      "Time to: Calculate Ground State - 1.28s, Get Pauli Ops - 7.22s, Calculate Pauli Expectation Values - 6.2s, Calculate Covariance - 1.33s\n",
      "f0,f1,f2 = [1.0792028155895496e-08, 9.129472007978678e-09, 3.844210272925545e-09]\n"
     ]
    },
    {
     "name": "stderr",
     "output_type": "stream",
     "text": [
      "Progress:  60%|██████    | 302/500 [1:17:50<50:09, 15.20s/it]"
     ]
    },
    {
     "name": "stdout",
     "output_type": "stream",
     "text": [
      "Time to: Calculate Ground State - 1.9s, Get Pauli Ops - 6.89s, Calculate Pauli Expectation Values - 5.08s, Calculate Covariance - 1.07s\n",
      "f0,f1,f2 = [1.1208126148276877e-08, 9.26189173792179e-09, 4.3703159033470914e-09]\n"
     ]
    },
    {
     "name": "stderr",
     "output_type": "stream",
     "text": [
      "Progress:  61%|██████    | 303/500 [1:18:06<50:44, 15.45s/it]"
     ]
    },
    {
     "name": "stdout",
     "output_type": "stream",
     "text": [
      "Time to: Calculate Ground State - 1.38s, Get Pauli Ops - 7.69s, Calculate Pauli Expectation Values - 5.66s, Calculate Covariance - 1.31s\n",
      "f0,f1,f2 = [1.1318655742453324e-08, 8.387894742389744e-09, 5.8843260427904035e-09]\n"
     ]
    },
    {
     "name": "stderr",
     "output_type": "stream",
     "text": [
      "Progress:  61%|██████    | 304/500 [1:18:22<50:33, 15.48s/it]"
     ]
    },
    {
     "name": "stdout",
     "output_type": "stream",
     "text": [
      "Time to: Calculate Ground State - 1.79s, Get Pauli Ops - 7.06s, Calculate Pauli Expectation Values - 5.38s, Calculate Covariance - 1.3s\n",
      "f0,f1,f2 = [1.1084227579393073e-08, 8.544229280759971e-09, 5.589745229369461e-09]\n"
     ]
    },
    {
     "name": "stderr",
     "output_type": "stream",
     "text": [
      "Progress:  61%|██████    | 305/500 [1:18:38<50:34, 15.56s/it]"
     ]
    },
    {
     "name": "stdout",
     "output_type": "stream",
     "text": [
      "Time to: Calculate Ground State - 1.89s, Get Pauli Ops - 7.59s, Calculate Pauli Expectation Values - 5.28s, Calculate Covariance - 1.0s\n",
      "f0,f1,f2 = [1.0473624231344627e-08, 7.258062472285467e-09, 6.057938643805043e-09]\n"
     ]
    },
    {
     "name": "stderr",
     "output_type": "stream",
     "text": [
      "Progress:  61%|██████    | 306/500 [1:18:53<50:19, 15.56s/it]"
     ]
    },
    {
     "name": "stdout",
     "output_type": "stream",
     "text": [
      "Time to: Calculate Ground State - 1.44s, Get Pauli Ops - 7.22s, Calculate Pauli Expectation Values - 6.11s, Calculate Covariance - 0.79s\n",
      "f0,f1,f2 = [9.6801434647035e-09, 6.8113669560109595e-09, 5.506137427863845e-09]\n"
     ]
    },
    {
     "name": "stderr",
     "output_type": "stream",
     "text": [
      "Progress:  61%|██████▏   | 307/500 [1:19:08<49:32, 15.40s/it]"
     ]
    },
    {
     "name": "stdout",
     "output_type": "stream",
     "text": [
      "Time to: Calculate Ground State - 1.87s, Get Pauli Ops - 6.81s, Calculate Pauli Expectation Values - 5.62s, Calculate Covariance - 0.72s\n",
      "f0,f1,f2 = [9.062608180406916e-09, 5.839747348412169e-09, 5.327807942684609e-09]\n"
     ]
    },
    {
     "name": "stderr",
     "output_type": "stream",
     "text": [
      "Progress:  62%|██████▏   | 308/500 [1:19:24<49:56, 15.61s/it]"
     ]
    },
    {
     "name": "stdout",
     "output_type": "stream",
     "text": [
      "Time to: Calculate Ground State - 1.77s, Get Pauli Ops - 7.84s, Calculate Pauli Expectation Values - 5.7s, Calculate Covariance - 0.78s\n",
      "f0,f1,f2 = [8.024333660276267e-09, 5.012490427518009e-09, 4.606886978409246e-09]\n"
     ]
    },
    {
     "name": "stderr",
     "output_type": "stream",
     "text": [
      "Progress:  62%|██████▏   | 309/500 [1:19:40<49:54, 15.68s/it]"
     ]
    },
    {
     "name": "stdout",
     "output_type": "stream",
     "text": [
      "Time to: Calculate Ground State - 1.78s, Get Pauli Ops - 7.36s, Calculate Pauli Expectation Values - 5.39s, Calculate Covariance - 1.3s\n",
      "f0,f1,f2 = [6.677730928634434e-09, 3.909112511940181e-09, 3.9972926052742235e-09]\n"
     ]
    },
    {
     "name": "stderr",
     "output_type": "stream",
     "text": [
      "Progress:  62%|██████▏   | 310/500 [1:19:56<50:10, 15.84s/it]"
     ]
    },
    {
     "name": "stdout",
     "output_type": "stream",
     "text": [
      "Time to: Calculate Ground State - 1.77s, Get Pauli Ops - 7.48s, Calculate Pauli Expectation Values - 5.84s, Calculate Covariance - 1.13s\n",
      "f0,f1,f2 = [5.395800869579388e-09, 3.839685750753413e-09, 2.244910915437044e-09]\n"
     ]
    },
    {
     "name": "stderr",
     "output_type": "stream",
     "text": [
      "Progress:  62%|██████▏   | 311/500 [1:20:12<49:37, 15.75s/it]"
     ]
    },
    {
     "name": "stdout",
     "output_type": "stream",
     "text": [
      "Time to: Calculate Ground State - 1.76s, Get Pauli Ops - 6.92s, Calculate Pauli Expectation Values - 6.05s, Calculate Covariance - 0.8s\n",
      "f0,f1,f2 = [4.663529105743736e-09, 2.2103383831935755e-09, 2.613243272682481e-09]\n"
     ]
    },
    {
     "name": "stderr",
     "output_type": "stream",
     "text": [
      "Progress:  62%|██████▏   | 312/500 [1:20:29<50:28, 16.11s/it]"
     ]
    },
    {
     "name": "stdout",
     "output_type": "stream",
     "text": [
      "Time to: Calculate Ground State - 1.91s, Get Pauli Ops - 7.51s, Calculate Pauli Expectation Values - 6.2s, Calculate Covariance - 1.31s\n",
      "f0,f1,f2 = [3.459728324600338e-09, 5.795786986433854e-10, 3.5250013174047885e-09]\n"
     ]
    },
    {
     "name": "stderr",
     "output_type": "stream",
     "text": [
      "Progress:  63%|██████▎   | 313/500 [1:20:45<50:43, 16.28s/it]"
     ]
    },
    {
     "name": "stdout",
     "output_type": "stream",
     "text": [
      "Time to: Calculate Ground State - 1.89s, Get Pauli Ops - 7.15s, Calculate Pauli Expectation Values - 6.44s, Calculate Covariance - 1.19s\n",
      "f0,f1,f2 = [1.88660307681751e-09, 7.151582429460688e-10, 1.3408506516018764e-09]\n"
     ]
    },
    {
     "name": "stderr",
     "output_type": "stream",
     "text": [
      "Progress:  63%|██████▎   | 314/500 [1:21:01<49:55, 16.11s/it]"
     ]
    },
    {
     "name": "stdout",
     "output_type": "stream",
     "text": [
      "Time to: Calculate Ground State - 1.84s, Get Pauli Ops - 7.29s, Calculate Pauli Expectation Values - 5.85s, Calculate Covariance - 0.73s\n",
      "f0,f1,f2 = [9.909244602368106e-10, 9.620887265456959e-10, 1.029651922176844e-09]\n"
     ]
    },
    {
     "name": "stderr",
     "output_type": "stream",
     "text": [
      "Progress:  63%|██████▎   | 315/500 [1:21:17<49:32, 16.07s/it]"
     ]
    },
    {
     "name": "stdout",
     "output_type": "stream",
     "text": [
      "Time to: Calculate Ground State - 1.81s, Get Pauli Ops - 6.98s, Calculate Pauli Expectation Values - 5.87s, Calculate Covariance - 1.32s\n",
      "f0,f1,f2 = [7.698442455346319e-10, 1.618330586540928e-09, 9.292859088143081e-10]\n"
     ]
    },
    {
     "name": "stderr",
     "output_type": "stream",
     "text": [
      "Progress:  63%|██████▎   | 316/500 [1:21:36<51:29, 16.79s/it]"
     ]
    },
    {
     "name": "stdout",
     "output_type": "stream",
     "text": [
      "Time to: Calculate Ground State - 1.97s, Get Pauli Ops - 8.9s, Calculate Pauli Expectation Values - 6.21s, Calculate Covariance - 1.39s\n",
      "f0,f1,f2 = [4.861565791573277e-10, 3.1981880042912694e-09, 3.0366401816155015e-09]\n"
     ]
    },
    {
     "name": "stderr",
     "output_type": "stream",
     "text": [
      "Progress:  63%|██████▎   | 317/500 [1:21:53<51:31, 16.89s/it]"
     ]
    },
    {
     "name": "stdout",
     "output_type": "stream",
     "text": [
      "Time to: Calculate Ground State - 1.94s, Get Pauli Ops - 8.63s, Calculate Pauli Expectation Values - 5.23s, Calculate Covariance - 1.33s\n",
      "f0,f1,f2 = [3.461234095337065e-09, 1.9759164342006018e-09, 1.5286795458032373e-09]\n"
     ]
    },
    {
     "name": "stderr",
     "output_type": "stream",
     "text": [
      "Progress:  64%|██████▎   | 318/500 [1:22:07<48:36, 16.02s/it]"
     ]
    },
    {
     "name": "stdout",
     "output_type": "stream",
     "text": [
      "Time to: Calculate Ground State - 1.92s, Get Pauli Ops - 6.36s, Calculate Pauli Expectation Values - 4.99s, Calculate Covariance - 0.72s\n",
      "f0,f1,f2 = [2.7498550974568038e-09, 3.032752502050423e-09, 1.588658661680865e-09]\n"
     ]
    },
    {
     "name": "stderr",
     "output_type": "stream",
     "text": [
      "Progress:  64%|██████▍   | 319/500 [1:22:23<48:08, 15.96s/it]"
     ]
    },
    {
     "name": "stdout",
     "output_type": "stream",
     "text": [
      "Time to: Calculate Ground State - 1.77s, Get Pauli Ops - 8.02s, Calculate Pauli Expectation Values - 4.92s, Calculate Covariance - 1.08s\n",
      "f0,f1,f2 = [2.652795815482507e-09, 3.99033955158766e-09, 2.1980396841943093e-09]\n"
     ]
    },
    {
     "name": "stderr",
     "output_type": "stream",
     "text": [
      "Progress:  64%|██████▍   | 320/500 [1:22:36<45:17, 15.10s/it]"
     ]
    },
    {
     "name": "stdout",
     "output_type": "stream",
     "text": [
      "Time to: Calculate Ground State - 1.65s, Get Pauli Ops - 5.8s, Calculate Pauli Expectation Values - 4.79s, Calculate Covariance - 0.85s\n",
      "f0,f1,f2 = [3.7901305983646265e-09, 3.346837966035859e-09, 2.405238502026638e-09]\n"
     ]
    },
    {
     "name": "stderr",
     "output_type": "stream",
     "text": [
      "Progress:  64%|██████▍   | 321/500 [1:22:49<43:48, 14.68s/it]"
     ]
    },
    {
     "name": "stdout",
     "output_type": "stream",
     "text": [
      "Time to: Calculate Ground State - 1.62s, Get Pauli Ops - 6.1s, Calculate Pauli Expectation Values - 4.88s, Calculate Covariance - 1.11s\n",
      "f0,f1,f2 = [5.547434428825623e-09, 1.5393961604257097e-09, 4.405496870911753e-09]\n"
     ]
    },
    {
     "name": "stderr",
     "output_type": "stream",
     "text": [
      "Progress:  64%|██████▍   | 322/500 [1:23:03<42:54, 14.46s/it]"
     ]
    },
    {
     "name": "stdout",
     "output_type": "stream",
     "text": [
      "Time to: Calculate Ground State - 1.84s, Get Pauli Ops - 6.22s, Calculate Pauli Expectation Values - 4.85s, Calculate Covariance - 1.03s\n",
      "f0,f1,f2 = [4.4874614748195185e-09, 3.7837544034642825e-09, 2.6463729903596256e-09]\n"
     ]
    },
    {
     "name": "stderr",
     "output_type": "stream",
     "text": [
      "Progress:  65%|██████▍   | 323/500 [1:23:18<42:33, 14.43s/it]"
     ]
    },
    {
     "name": "stdout",
     "output_type": "stream",
     "text": [
      "Time to: Calculate Ground State - 1.76s, Get Pauli Ops - 6.43s, Calculate Pauli Expectation Values - 5.42s, Calculate Covariance - 0.72s\n",
      "f0,f1,f2 = [4.767342195999367e-09, 3.768640478673316e-09, 3.0316968536446223e-09]\n"
     ]
    },
    {
     "name": "stderr",
     "output_type": "stream",
     "text": [
      "Progress:  65%|██████▍   | 324/500 [1:23:33<42:41, 14.55s/it]"
     ]
    },
    {
     "name": "stdout",
     "output_type": "stream",
     "text": [
      "Time to: Calculate Ground State - 1.76s, Get Pauli Ops - 6.35s, Calculate Pauli Expectation Values - 5.41s, Calculate Covariance - 1.32s\n",
      "f0,f1,f2 = [5.245261126684057e-09, 3.2278006581407718e-09, 3.202337251221568e-09]\n"
     ]
    },
    {
     "name": "stderr",
     "output_type": "stream",
     "text": [
      "Progress:  65%|██████▌   | 325/500 [1:23:48<43:13, 14.82s/it]"
     ]
    },
    {
     "name": "stdout",
     "output_type": "stream",
     "text": [
      "Time to: Calculate Ground State - 1.96s, Get Pauli Ops - 6.82s, Calculate Pauli Expectation Values - 5.35s, Calculate Covariance - 1.32s\n",
      "f0,f1,f2 = [4.911706471648196e-09, 3.760474844289592e-09, 2.713968623286517e-09]\n"
     ]
    },
    {
     "name": "stderr",
     "output_type": "stream",
     "text": [
      "Progress:  65%|██████▌   | 326/500 [1:24:03<42:46, 14.75s/it]"
     ]
    },
    {
     "name": "stdout",
     "output_type": "stream",
     "text": [
      "Time to: Calculate Ground State - 1.35s, Get Pauli Ops - 6.57s, Calculate Pauli Expectation Values - 5.41s, Calculate Covariance - 1.27s\n",
      "f0,f1,f2 = [5.295931645119652e-09, 3.3674381758270685e-09, 3.1554894855984614e-09]\n"
     ]
    },
    {
     "name": "stderr",
     "output_type": "stream",
     "text": [
      "Progress:  65%|██████▌   | 327/500 [1:24:18<43:12, 14.99s/it]"
     ]
    },
    {
     "name": "stdout",
     "output_type": "stream",
     "text": [
      "Time to: Calculate Ground State - 1.72s, Get Pauli Ops - 7.04s, Calculate Pauli Expectation Values - 5.48s, Calculate Covariance - 1.3s\n",
      "f0,f1,f2 = [5.4066686078510635e-09, 3.223754457159565e-09, 2.935397216610378e-09]\n"
     ]
    },
    {
     "name": "stderr",
     "output_type": "stream",
     "text": [
      "Progress:  66%|██████▌   | 328/500 [1:24:34<43:29, 15.17s/it]"
     ]
    },
    {
     "name": "stdout",
     "output_type": "stream",
     "text": [
      "Time to: Calculate Ground State - 1.39s, Get Pauli Ops - 7.02s, Calculate Pauli Expectation Values - 5.99s, Calculate Covariance - 1.21s\n",
      "f0,f1,f2 = [5.748271221121862e-09, 2.569926563103965e-09, 3.5006837744289765e-09]\n"
     ]
    },
    {
     "name": "stderr",
     "output_type": "stream",
     "text": [
      "Progress:  66%|██████▌   | 329/500 [1:24:49<43:03, 15.11s/it]"
     ]
    },
    {
     "name": "stdout",
     "output_type": "stream",
     "text": [
      "Time to: Calculate Ground State - 1.27s, Get Pauli Ops - 7.09s, Calculate Pauli Expectation Values - 5.51s, Calculate Covariance - 1.07s\n",
      "f0,f1,f2 = [5.631412698849352e-09, 3.064190833289043e-09, 3.0197144671147138e-09]\n"
     ]
    },
    {
     "name": "stderr",
     "output_type": "stream",
     "text": [
      "Progress:  66%|██████▌   | 330/500 [1:25:06<44:45, 15.80s/it]"
     ]
    },
    {
     "name": "stdout",
     "output_type": "stream",
     "text": [
      "Time to: Calculate Ground State - 1.96s, Get Pauli Ops - 8.44s, Calculate Pauli Expectation Values - 5.73s, Calculate Covariance - 1.29s\n",
      "f0,f1,f2 = [5.73806534531666e-09, 2.261326413807749e-09, 3.5174247970502048e-09]\n"
     ]
    },
    {
     "name": "stderr",
     "output_type": "stream",
     "text": [
      "Progress:  66%|██████▌   | 331/500 [1:25:21<44:10, 15.68s/it]"
     ]
    },
    {
     "name": "stdout",
     "output_type": "stream",
     "text": [
      "Time to: Calculate Ground State - 1.31s, Get Pauli Ops - 7.24s, Calculate Pauli Expectation Values - 5.97s, Calculate Covariance - 0.89s\n",
      "f0,f1,f2 = [5.443295760315663e-09, 2.8458422590939588e-09, 2.686904165664084e-09]\n"
     ]
    },
    {
     "name": "stderr",
     "output_type": "stream",
     "text": [
      "Progress:  66%|██████▋   | 332/500 [1:25:38<44:27, 15.88s/it]"
     ]
    },
    {
     "name": "stdout",
     "output_type": "stream",
     "text": [
      "Time to: Calculate Ground State - 2.1s, Get Pauli Ops - 7.34s, Calculate Pauli Expectation Values - 5.68s, Calculate Covariance - 1.21s\n",
      "f0,f1,f2 = [5.368229616926171e-09, 2.435550014476789e-09, 2.9356682562053815e-09]\n"
     ]
    },
    {
     "name": "stderr",
     "output_type": "stream",
     "text": [
      "Progress:  67%|██████▋   | 333/500 [1:25:55<45:29, 16.34s/it]"
     ]
    },
    {
     "name": "stdout",
     "output_type": "stream",
     "text": [
      "Time to: Calculate Ground State - 2.09s, Get Pauli Ops - 8.42s, Calculate Pauli Expectation Values - 5.61s, Calculate Covariance - 1.3s\n",
      "f0,f1,f2 = [5.410456949304271e-09, 2.1669594708154483e-09, 3.3700129205951666e-09]\n"
     ]
    },
    {
     "name": "stderr",
     "output_type": "stream",
     "text": [
      "Progress:  67%|██████▋   | 334/500 [1:26:12<45:25, 16.42s/it]"
     ]
    },
    {
     "name": "stdout",
     "output_type": "stream",
     "text": [
      "Time to: Calculate Ground State - 2.05s, Get Pauli Ops - 7.74s, Calculate Pauli Expectation Values - 5.65s, Calculate Covariance - 1.16s\n",
      "f0,f1,f2 = [5.297487296581283e-09, 2.5578978110389926e-09, 3.0932658988009595e-09]\n"
     ]
    },
    {
     "name": "stderr",
     "output_type": "stream",
     "text": [
      "Progress:  67%|██████▋   | 335/500 [1:26:30<46:19, 16.85s/it]"
     ]
    },
    {
     "name": "stdout",
     "output_type": "stream",
     "text": [
      "Time to: Calculate Ground State - 2.13s, Get Pauli Ops - 8.3s, Calculate Pauli Expectation Values - 6.23s, Calculate Covariance - 1.18s\n",
      "f0,f1,f2 = [5.3953074950067235e-09, 2.5156898567216337e-09, 3.5474272621226722e-09]\n"
     ]
    },
    {
     "name": "stderr",
     "output_type": "stream",
     "text": [
      "Progress:  67%|██████▋   | 336/500 [1:26:47<46:13, 16.91s/it]"
     ]
    },
    {
     "name": "stdout",
     "output_type": "stream",
     "text": [
      "Time to: Calculate Ground State - 2.09s, Get Pauli Ops - 8.1s, Calculate Pauli Expectation Values - 6.04s, Calculate Covariance - 0.82s\n",
      "f0,f1,f2 = [4.986210726953271e-09, 2.7684897971149774e-09, 3.596028659543275e-09]\n"
     ]
    },
    {
     "name": "stderr",
     "output_type": "stream",
     "text": [
      "Progress:  67%|██████▋   | 337/500 [1:27:02<44:26, 16.36s/it]"
     ]
    },
    {
     "name": "stdout",
     "output_type": "stream",
     "text": [
      "Time to: Calculate Ground State - 2.07s, Get Pauli Ops - 6.37s, Calculate Pauli Expectation Values - 5.35s, Calculate Covariance - 1.26s\n",
      "f0,f1,f2 = [5.1262133232256385e-09, 3.1555100863987197e-09, 4.371082492662885e-09]\n"
     ]
    },
    {
     "name": "stderr",
     "output_type": "stream",
     "text": [
      "Progress:  68%|██████▊   | 338/500 [1:27:19<44:34, 16.51s/it]"
     ]
    },
    {
     "name": "stdout",
     "output_type": "stream",
     "text": [
      "Time to: Calculate Ground State - 2.2s, Get Pauli Ops - 7.23s, Calculate Pauli Expectation Values - 6.35s, Calculate Covariance - 1.07s\n",
      "f0,f1,f2 = [4.860262436967721e-09, 3.3619232317178126e-09, 4.19466552472965e-09]\n"
     ]
    },
    {
     "name": "stderr",
     "output_type": "stream",
     "text": [
      "Progress:  68%|██████▊   | 339/500 [1:27:36<44:41, 16.65s/it]"
     ]
    },
    {
     "name": "stdout",
     "output_type": "stream",
     "text": [
      "Time to: Calculate Ground State - 2.12s, Get Pauli Ops - 8.14s, Calculate Pauli Expectation Values - 5.7s, Calculate Covariance - 1.03s\n",
      "f0,f1,f2 = [4.79867843840126e-09, 3.6829511715907577e-09, 4.722104778437182e-09]\n"
     ]
    },
    {
     "name": "stderr",
     "output_type": "stream",
     "text": [
      "Progress:  68%|██████▊   | 340/500 [1:27:51<43:10, 16.19s/it]"
     ]
    },
    {
     "name": "stdout",
     "output_type": "stream",
     "text": [
      "Time to: Calculate Ground State - 2.23s, Get Pauli Ops - 6.34s, Calculate Pauli Expectation Values - 5.55s, Calculate Covariance - 0.99s\n",
      "f0,f1,f2 = [4.635595247344743e-09, 4.123181943957182e-09, 5.241180602252665e-09]\n"
     ]
    },
    {
     "name": "stderr",
     "output_type": "stream",
     "text": [
      "Progress:  68%|██████▊   | 341/500 [1:28:08<43:57, 16.59s/it]"
     ]
    },
    {
     "name": "stdout",
     "output_type": "stream",
     "text": [
      "Time to: Calculate Ground State - 2.16s, Get Pauli Ops - 7.8s, Calculate Pauli Expectation Values - 6.39s, Calculate Covariance - 1.16s\n",
      "f0,f1,f2 = [4.6826861810540705e-09, 4.306287680186232e-09, 5.510449526778795e-09]\n"
     ]
    },
    {
     "name": "stderr",
     "output_type": "stream",
     "text": [
      "Progress:  68%|██████▊   | 342/500 [1:28:25<43:56, 16.68s/it]"
     ]
    },
    {
     "name": "stdout",
     "output_type": "stream",
     "text": [
      "Time to: Calculate Ground State - 2.25s, Get Pauli Ops - 7.64s, Calculate Pauli Expectation Values - 5.9s, Calculate Covariance - 1.1s\n",
      "f0,f1,f2 = [4.494674128765539e-09, 4.353285509989763e-09, 5.460650956026941e-09]\n"
     ]
    },
    {
     "name": "stderr",
     "output_type": "stream",
     "text": [
      "Progress:  69%|██████▊   | 343/500 [1:28:40<42:27, 16.22s/it]"
     ]
    },
    {
     "name": "stdout",
     "output_type": "stream",
     "text": [
      "Time to: Calculate Ground State - 2.07s, Get Pauli Ops - 7.02s, Calculate Pauli Expectation Values - 5.28s, Calculate Covariance - 0.77s\n",
      "f0,f1,f2 = [4.466664744051876e-09, 4.71701399000354e-09, 5.924148551984614e-09]\n"
     ]
    },
    {
     "name": "stderr",
     "output_type": "stream",
     "text": [
      "Progress:  69%|██████▉   | 344/500 [1:28:57<42:23, 16.30s/it]"
     ]
    },
    {
     "name": "stdout",
     "output_type": "stream",
     "text": [
      "Time to: Calculate Ground State - 2.11s, Get Pauli Ops - 6.87s, Calculate Pauli Expectation Values - 6.19s, Calculate Covariance - 1.3s\n",
      "f0,f1,f2 = [4.582663507261957e-09, 4.520929344863826e-09, 5.8300683085974185e-09]\n"
     ]
    },
    {
     "name": "stderr",
     "output_type": "stream",
     "text": [
      "Progress:  69%|██████▉   | 345/500 [1:29:12<41:09, 15.93s/it]"
     ]
    },
    {
     "name": "stdout",
     "output_type": "stream",
     "text": [
      "Time to: Calculate Ground State - 1.33s, Get Pauli Ops - 7.21s, Calculate Pauli Expectation Values - 5.79s, Calculate Covariance - 0.74s\n",
      "f0,f1,f2 = [4.1316598128916406e-09, 4.346645259948554e-09, 5.445617577368243e-09]\n"
     ]
    },
    {
     "name": "stderr",
     "output_type": "stream",
     "text": [
      "Progress:  69%|██████▉   | 346/500 [1:29:27<40:33, 15.80s/it]"
     ]
    },
    {
     "name": "stdout",
     "output_type": "stream",
     "text": [
      "Time to: Calculate Ground State - 1.91s, Get Pauli Ops - 7.16s, Calculate Pauli Expectation Values - 5.59s, Calculate Covariance - 0.84s\n",
      "f0,f1,f2 = [3.9701835782192715e-09, 4.0009201370159e-09, 5.1272509629325494e-09]\n"
     ]
    },
    {
     "name": "stderr",
     "output_type": "stream",
     "text": [
      "Progress:  69%|██████▉   | 347/500 [1:29:44<40:59, 16.08s/it]"
     ]
    },
    {
     "name": "stdout",
     "output_type": "stream",
     "text": [
      "Time to: Calculate Ground State - 1.92s, Get Pauli Ops - 8.26s, Calculate Pauli Expectation Values - 5.68s, Calculate Covariance - 0.85s\n",
      "f0,f1,f2 = [3.734411104299566e-09, 3.827406972214655e-09, 4.909406339873888e-09]\n"
     ]
    },
    {
     "name": "stderr",
     "output_type": "stream",
     "text": [
      "Progress:  70%|██████▉   | 348/500 [1:30:00<40:44, 16.09s/it]"
     ]
    },
    {
     "name": "stdout",
     "output_type": "stream",
     "text": [
      "Time to: Calculate Ground State - 1.99s, Get Pauli Ops - 6.86s, Calculate Pauli Expectation Values - 5.99s, Calculate Covariance - 1.25s\n",
      "f0,f1,f2 = [3.5397245724041018e-09, 3.4712951479397755e-09, 4.502234672156535e-09]\n"
     ]
    },
    {
     "name": "stderr",
     "output_type": "stream",
     "text": [
      "Progress:  70%|██████▉   | 349/500 [1:30:16<40:00, 15.90s/it]"
     ]
    },
    {
     "name": "stdout",
     "output_type": "stream",
     "text": [
      "Time to: Calculate Ground State - 1.96s, Get Pauli Ops - 7.36s, Calculate Pauli Expectation Values - 5.31s, Calculate Covariance - 0.82s\n",
      "f0,f1,f2 = [3.2630635048372285e-09, 2.863512062081856e-09, 3.789562249252893e-09]\n"
     ]
    },
    {
     "name": "stderr",
     "output_type": "stream",
     "text": [
      "Progress:  70%|███████   | 350/500 [1:30:31<39:26, 15.77s/it]"
     ]
    },
    {
     "name": "stdout",
     "output_type": "stream",
     "text": [
      "Time to: Calculate Ground State - 1.69s, Get Pauli Ops - 6.81s, Calculate Pauli Expectation Values - 5.72s, Calculate Covariance - 1.25s\n",
      "f0,f1,f2 = [2.7321311890565656e-09, 2.5249991995369633e-09, 3.2069576141095153e-09]\n"
     ]
    },
    {
     "name": "stderr",
     "output_type": "stream",
     "text": [
      "Progress:  70%|███████   | 351/500 [1:30:47<38:50, 15.64s/it]"
     ]
    },
    {
     "name": "stdout",
     "output_type": "stream",
     "text": [
      "Time to: Calculate Ground State - 1.81s, Get Pauli Ops - 6.59s, Calculate Pauli Expectation Values - 5.7s, Calculate Covariance - 1.23s\n",
      "f0,f1,f2 = [2.866324323760329e-09, 2.510415919443217e-09, 3.2274538836538987e-09]\n"
     ]
    },
    {
     "name": "stderr",
     "output_type": "stream",
     "text": [
      "Progress:  70%|███████   | 352/500 [1:31:03<39:26, 15.99s/it]"
     ]
    },
    {
     "name": "stdout",
     "output_type": "stream",
     "text": [
      "Time to: Calculate Ground State - 1.87s, Get Pauli Ops - 7.6s, Calculate Pauli Expectation Values - 6.04s, Calculate Covariance - 1.29s\n",
      "f0,f1,f2 = [2.0388814552502758e-09, 1.986145577713555e-09, 2.4974050213634647e-09]\n"
     ]
    },
    {
     "name": "stderr",
     "output_type": "stream",
     "text": [
      "Progress:  71%|███████   | 353/500 [1:31:18<37:52, 15.46s/it]"
     ]
    },
    {
     "name": "stdout",
     "output_type": "stream",
     "text": [
      "Time to: Calculate Ground State - 1.69s, Get Pauli Ops - 6.55s, Calculate Pauli Expectation Values - 5.0s, Calculate Covariance - 0.97s\n",
      "f0,f1,f2 = [1.5958884356068024e-09, 1.6188306634456743e-09, 2.0175953258695785e-09]\n"
     ]
    },
    {
     "name": "stderr",
     "output_type": "stream",
     "text": [
      "Progress:  71%|███████   | 354/500 [1:31:34<38:31, 15.83s/it]"
     ]
    },
    {
     "name": "stdout",
     "output_type": "stream",
     "text": [
      "Time to: Calculate Ground State - 1.73s, Get Pauli Ops - 8.3s, Calculate Pauli Expectation Values - 5.49s, Calculate Covariance - 1.18s\n",
      "f0,f1,f2 = [1.7558345884855083e-09, 1.7543547488314725e-09, 2.3600066891185244e-09]\n"
     ]
    },
    {
     "name": "stderr",
     "output_type": "stream",
     "text": [
      "Progress:  71%|███████   | 355/500 [1:31:49<37:45, 15.63s/it]"
     ]
    },
    {
     "name": "stdout",
     "output_type": "stream",
     "text": [
      "Time to: Calculate Ground State - 1.08s, Get Pauli Ops - 7.3s, Calculate Pauli Expectation Values - 5.93s, Calculate Covariance - 0.82s\n",
      "f0,f1,f2 = [2.023762776037674e-09, 1.6906080585122806e-09, 2.7933811560988793e-09]\n"
     ]
    },
    {
     "name": "stderr",
     "output_type": "stream",
     "text": [
      "Progress:  71%|███████   | 356/500 [1:32:05<37:47, 15.75s/it]"
     ]
    },
    {
     "name": "stdout",
     "output_type": "stream",
     "text": [
      "Time to: Calculate Ground State - 1.73s, Get Pauli Ops - 8.1s, Calculate Pauli Expectation Values - 5.16s, Calculate Covariance - 1.03s\n",
      "f0,f1,f2 = [2.137672139162019e-09, 1.4987832216989388e-09, 3.0001333797108365e-09]\n"
     ]
    },
    {
     "name": "stderr",
     "output_type": "stream",
     "text": [
      "Progress:  71%|███████▏  | 357/500 [1:32:21<37:09, 15.59s/it]"
     ]
    },
    {
     "name": "stdout",
     "output_type": "stream",
     "text": [
      "Time to: Calculate Ground State - 1.91s, Get Pauli Ops - 7.12s, Calculate Pauli Expectation Values - 5.29s, Calculate Covariance - 0.89s\n",
      "f0,f1,f2 = [2.6272702204771222e-09, 1.5173392846890683e-09, 3.619965918378712e-09]\n"
     ]
    },
    {
     "name": "stderr",
     "output_type": "stream",
     "text": [
      "Progress:  72%|███████▏  | 358/500 [1:32:36<37:02, 15.65s/it]"
     ]
    },
    {
     "name": "stdout",
     "output_type": "stream",
     "text": [
      "Time to: Calculate Ground State - 1.72s, Get Pauli Ops - 7.11s, Calculate Pauli Expectation Values - 5.65s, Calculate Covariance - 1.32s\n",
      "f0,f1,f2 = [4.406885759681867e-09, 2.170994865788376e-09, 5.022154745489979e-09]\n"
     ]
    },
    {
     "name": "stderr",
     "output_type": "stream",
     "text": [
      "Progress:  72%|███████▏  | 359/500 [1:32:52<36:33, 15.56s/it]"
     ]
    },
    {
     "name": "stdout",
     "output_type": "stream",
     "text": [
      "Time to: Calculate Ground State - 1.93s, Get Pauli Ops - 6.4s, Calculate Pauli Expectation Values - 5.68s, Calculate Covariance - 1.32s\n",
      "f0,f1,f2 = [4.666765751113744e-09, 1.9213504081755884e-09, 5.382456015808631e-09]\n"
     ]
    },
    {
     "name": "stderr",
     "output_type": "stream",
     "text": [
      "Progress:  72%|███████▏  | 360/500 [1:33:06<35:40, 15.29s/it]"
     ]
    },
    {
     "name": "stdout",
     "output_type": "stream",
     "text": [
      "Time to: Calculate Ground State - 1.96s, Get Pauli Ops - 6.25s, Calculate Pauli Expectation Values - 5.71s, Calculate Covariance - 0.74s\n",
      "f0,f1,f2 = [5.579619441468407e-09, 1.9016253921344946e-09, 5.8581932190414775e-09]\n"
     ]
    },
    {
     "name": "stderr",
     "output_type": "stream",
     "text": [
      "Progress:  72%|███████▏  | 361/500 [1:33:23<35:57, 15.52s/it]"
     ]
    },
    {
     "name": "stdout",
     "output_type": "stream",
     "text": [
      "Time to: Calculate Ground State - 1.83s, Get Pauli Ops - 7.12s, Calculate Pauli Expectation Values - 5.77s, Calculate Covariance - 1.32s\n",
      "f0,f1,f2 = [5.750396677872085e-09, 1.9288591503554896e-09, 6.24584858747382e-09]\n"
     ]
    },
    {
     "name": "stderr",
     "output_type": "stream",
     "text": [
      "Progress:  72%|███████▏  | 362/500 [1:33:39<36:05, 15.70s/it]"
     ]
    },
    {
     "name": "stdout",
     "output_type": "stream",
     "text": [
      "Time to: Calculate Ground State - 1.91s, Get Pauli Ops - 7.35s, Calculate Pauli Expectation Values - 5.6s, Calculate Covariance - 1.24s\n",
      "f0,f1,f2 = [6.653010707513419e-09, 2.228664634303899e-09, 6.737457863651365e-09]\n"
     ]
    },
    {
     "name": "stderr",
     "output_type": "stream",
     "text": [
      "Progress:  73%|███████▎  | 363/500 [1:33:54<35:21, 15.49s/it]"
     ]
    },
    {
     "name": "stdout",
     "output_type": "stream",
     "text": [
      "Time to: Calculate Ground State - 1.81s, Get Pauli Ops - 7.44s, Calculate Pauli Expectation Values - 4.95s, Calculate Covariance - 0.81s\n",
      "f0,f1,f2 = [6.589255955805416e-09, 2.1916689692325e-09, 6.768902773165392e-09]\n"
     ]
    },
    {
     "name": "stderr",
     "output_type": "stream",
     "text": [
      "Progress:  73%|███████▎  | 364/500 [1:34:08<34:34, 15.26s/it]"
     ]
    },
    {
     "name": "stdout",
     "output_type": "stream",
     "text": [
      "Time to: Calculate Ground State - 1.82s, Get Pauli Ops - 6.97s, Calculate Pauli Expectation Values - 4.94s, Calculate Covariance - 0.97s\n",
      "f0,f1,f2 = [6.39168594605816e-09, 1.8506387471976764e-09, 6.2465239021030844e-09]\n"
     ]
    },
    {
     "name": "stderr",
     "output_type": "stream",
     "text": [
      "Progress:  73%|███████▎  | 365/500 [1:34:24<34:40, 15.41s/it]"
     ]
    },
    {
     "name": "stdout",
     "output_type": "stream",
     "text": [
      "Time to: Calculate Ground State - 1.88s, Get Pauli Ops - 7.71s, Calculate Pauli Expectation Values - 5.2s, Calculate Covariance - 0.97s\n",
      "f0,f1,f2 = [6.2180750217206716e-09, 2.06886158194697e-09, 6.241496655423309e-09]\n"
     ]
    },
    {
     "name": "stderr",
     "output_type": "stream",
     "text": [
      "Progress:  73%|███████▎  | 366/500 [1:34:39<34:10, 15.30s/it]"
     ]
    },
    {
     "name": "stdout",
     "output_type": "stream",
     "text": [
      "Time to: Calculate Ground State - 2.02s, Get Pauli Ops - 6.38s, Calculate Pauli Expectation Values - 5.39s, Calculate Covariance - 1.25s\n",
      "f0,f1,f2 = [5.858694864966189e-09, 2.085441928791928e-09, 5.5240678176479625e-09]\n"
     ]
    },
    {
     "name": "stderr",
     "output_type": "stream",
     "text": [
      "Progress:  73%|███████▎  | 367/500 [1:34:56<35:07, 15.84s/it]"
     ]
    },
    {
     "name": "stdout",
     "output_type": "stream",
     "text": [
      "Time to: Calculate Ground State - 1.97s, Get Pauli Ops - 8.37s, Calculate Pauli Expectation Values - 5.76s, Calculate Covariance - 1.01s\n",
      "f0,f1,f2 = [4.974248885288067e-09, 1.8832704096568406e-09, 4.2993632625172404e-09]\n"
     ]
    },
    {
     "name": "stderr",
     "output_type": "stream",
     "text": [
      "Progress:  74%|███████▎  | 368/500 [1:35:14<36:01, 16.37s/it]"
     ]
    },
    {
     "name": "stdout",
     "output_type": "stream",
     "text": [
      "Time to: Calculate Ground State - 1.98s, Get Pauli Ops - 8.83s, Calculate Pauli Expectation Values - 5.49s, Calculate Covariance - 1.31s\n",
      "f0,f1,f2 = [4.777309515613626e-09, 1.976344439657879e-09, 4.171931093795516e-09]\n"
     ]
    },
    {
     "name": "stderr",
     "output_type": "stream",
     "text": [
      "Progress:  74%|███████▍  | 369/500 [1:35:30<35:50, 16.42s/it]"
     ]
    },
    {
     "name": "stdout",
     "output_type": "stream",
     "text": [
      "Time to: Calculate Ground State - 2.1s, Get Pauli Ops - 7.15s, Calculate Pauli Expectation Values - 5.98s, Calculate Covariance - 1.27s\n",
      "f0,f1,f2 = [4.102672416686552e-09, 2.0546013054155018e-09, 3.4251505604009406e-09]\n"
     ]
    },
    {
     "name": "stderr",
     "output_type": "stream",
     "text": [
      "Progress:  74%|███████▍  | 370/500 [1:35:46<35:06, 16.20s/it]"
     ]
    },
    {
     "name": "stdout",
     "output_type": "stream",
     "text": [
      "Time to: Calculate Ground State - 1.94s, Get Pauli Ops - 7.62s, Calculate Pauli Expectation Values - 4.98s, Calculate Covariance - 1.17s\n",
      "f0,f1,f2 = [3.513762704644387e-09, 2.2020903467685307e-09, 2.8822866619076683e-09]\n"
     ]
    },
    {
     "name": "stderr",
     "output_type": "stream",
     "text": [
      "Progress:  74%|███████▍  | 371/500 [1:36:00<33:30, 15.59s/it]"
     ]
    },
    {
     "name": "stdout",
     "output_type": "stream",
     "text": [
      "Time to: Calculate Ground State - 1.81s, Get Pauli Ops - 6.58s, Calculate Pauli Expectation Values - 4.99s, Calculate Covariance - 0.76s\n",
      "f0,f1,f2 = [2.5101847911639777e-09, 2.023935168077266e-09, 2.040192358101655e-09]\n"
     ]
    },
    {
     "name": "stderr",
     "output_type": "stream",
     "text": [
      "Progress:  74%|███████▍  | 372/500 [1:36:15<32:38, 15.30s/it]"
     ]
    },
    {
     "name": "stdout",
     "output_type": "stream",
     "text": [
      "Time to: Calculate Ground State - 1.71s, Get Pauli Ops - 7.55s, Calculate Pauli Expectation Values - 4.64s, Calculate Covariance - 0.72s\n",
      "f0,f1,f2 = [1.8601466814022766e-09, 1.7440804027266464e-09, 1.6777323133064933e-09]\n"
     ]
    },
    {
     "name": "stderr",
     "output_type": "stream",
     "text": [
      "Progress:  75%|███████▍  | 373/500 [1:36:29<31:49, 15.03s/it]"
     ]
    },
    {
     "name": "stdout",
     "output_type": "stream",
     "text": [
      "Time to: Calculate Ground State - 1.74s, Get Pauli Ops - 6.7s, Calculate Pauli Expectation Values - 5.0s, Calculate Covariance - 0.97s\n",
      "f0,f1,f2 = [1.4030969986121821e-09, 1.7244179717942496e-09, 1.641693996136781e-09]\n"
     ]
    },
    {
     "name": "stderr",
     "output_type": "stream",
     "text": [
      "Progress:  75%|███████▍  | 374/500 [1:36:44<31:25, 14.96s/it]"
     ]
    },
    {
     "name": "stdout",
     "output_type": "stream",
     "text": [
      "Time to: Calculate Ground State - 1.73s, Get Pauli Ops - 6.63s, Calculate Pauli Expectation Values - 5.13s, Calculate Covariance - 1.3s\n",
      "f0,f1,f2 = [1.7415679824673494e-09, 1.6650603445170165e-09, 2.1578522650985007e-09]\n"
     ]
    },
    {
     "name": "stderr",
     "output_type": "stream",
     "text": [
      "Progress:  75%|███████▌  | 375/500 [1:36:58<30:32, 14.66s/it]"
     ]
    },
    {
     "name": "stdout",
     "output_type": "stream",
     "text": [
      "Time to: Calculate Ground State - 1.83s, Get Pauli Ops - 6.25s, Calculate Pauli Expectation Values - 4.89s, Calculate Covariance - 0.98s\n",
      "f0,f1,f2 = [2.086869612539478e-09, 1.9693923332717762e-09, 2.4451976598198232e-09]\n"
     ]
    },
    {
     "name": "stderr",
     "output_type": "stream",
     "text": [
      "Progress:  75%|███████▌  | 376/500 [1:37:14<31:06, 15.05s/it]"
     ]
    },
    {
     "name": "stdout",
     "output_type": "stream",
     "text": [
      "Time to: Calculate Ground State - 1.93s, Get Pauli Ops - 7.66s, Calculate Pauli Expectation Values - 5.59s, Calculate Covariance - 0.77s\n",
      "f0,f1,f2 = [2.2718019140713346e-09, 2.0911158915704696e-09, 2.7228521284587633e-09]\n"
     ]
    },
    {
     "name": "stderr",
     "output_type": "stream",
     "text": [
      "Progress:  75%|███████▌  | 377/500 [1:37:31<31:51, 15.54s/it]"
     ]
    },
    {
     "name": "stdout",
     "output_type": "stream",
     "text": [
      "Time to: Calculate Ground State - 2.19s, Get Pauli Ops - 7.48s, Calculate Pauli Expectation Values - 6.31s, Calculate Covariance - 0.72s\n",
      "f0,f1,f2 = [3.247582693157499e-09, 2.650278449858883e-09, 3.409389157712593e-09]\n"
     ]
    },
    {
     "name": "stderr",
     "output_type": "stream",
     "text": [
      "Progress:  76%|███████▌  | 378/500 [1:37:47<32:06, 15.79s/it]"
     ]
    },
    {
     "name": "stdout",
     "output_type": "stream",
     "text": [
      "Time to: Calculate Ground State - 1.94s, Get Pauli Ops - 7.46s, Calculate Pauli Expectation Values - 6.15s, Calculate Covariance - 0.82s\n",
      "f0,f1,f2 = [3.705872951664254e-09, 2.8934213839280587e-09, 3.5795065275651474e-09]\n"
     ]
    },
    {
     "name": "stderr",
     "output_type": "stream",
     "text": [
      "Progress:  76%|███████▌  | 379/500 [1:38:03<31:47, 15.77s/it]"
     ]
    },
    {
     "name": "stdout",
     "output_type": "stream",
     "text": [
      "Time to: Calculate Ground State - 1.79s, Get Pauli Ops - 6.97s, Calculate Pauli Expectation Values - 5.9s, Calculate Covariance - 1.03s\n",
      "f0,f1,f2 = [4.074199767958066e-09, 3.243052145284919e-09, 3.815133466821079e-09]\n"
     ]
    },
    {
     "name": "stderr",
     "output_type": "stream",
     "text": [
      "Progress:  76%|███████▌  | 380/500 [1:38:18<31:26, 15.72s/it]"
     ]
    },
    {
     "name": "stdout",
     "output_type": "stream",
     "text": [
      "Time to: Calculate Ground State - 1.93s, Get Pauli Ops - 7.09s, Calculate Pauli Expectation Values - 5.76s, Calculate Covariance - 0.85s\n",
      "f0,f1,f2 = [4.6717941644852975e-09, 3.6104631129571194e-09, 4.0878232723299704e-09]\n"
     ]
    },
    {
     "name": "stderr",
     "output_type": "stream",
     "text": [
      "Progress:  76%|███████▌  | 381/500 [1:38:35<31:52, 16.07s/it]"
     ]
    },
    {
     "name": "stdout",
     "output_type": "stream",
     "text": [
      "Time to: Calculate Ground State - 2.12s, Get Pauli Ops - 7.71s, Calculate Pauli Expectation Values - 6.27s, Calculate Covariance - 0.78s\n",
      "f0,f1,f2 = [5.360230242141639e-09, 4.190000133224931e-09, 4.508191538148591e-09]\n"
     ]
    },
    {
     "name": "stderr",
     "output_type": "stream",
     "text": [
      "Progress:  76%|███████▋  | 382/500 [1:38:52<31:51, 16.20s/it]"
     ]
    },
    {
     "name": "stdout",
     "output_type": "stream",
     "text": [
      "Time to: Calculate Ground State - 2.27s, Get Pauli Ops - 7.82s, Calculate Pauli Expectation Values - 5.25s, Calculate Covariance - 1.14s\n",
      "f0,f1,f2 = [5.277836961737658e-09, 4.1507026750677215e-09, 4.3561557869749604e-09]\n"
     ]
    },
    {
     "name": "stderr",
     "output_type": "stream",
     "text": [
      "Progress:  77%|███████▋  | 383/500 [1:39:08<31:34, 16.19s/it]"
     ]
    },
    {
     "name": "stdout",
     "output_type": "stream",
     "text": [
      "Time to: Calculate Ground State - 2.02s, Get Pauli Ops - 7.66s, Calculate Pauli Expectation Values - 5.39s, Calculate Covariance - 1.11s\n",
      "f0,f1,f2 = [5.924431200505796e-09, 4.795671197345868e-09, 4.520646491984812e-09]\n"
     ]
    },
    {
     "name": "stderr",
     "output_type": "stream",
     "text": [
      "Progress:  77%|███████▋  | 384/500 [1:39:23<30:41, 15.87s/it]"
     ]
    },
    {
     "name": "stdout",
     "output_type": "stream",
     "text": [
      "Time to: Calculate Ground State - 2.06s, Get Pauli Ops - 7.0s, Calculate Pauli Expectation Values - 5.36s, Calculate Covariance - 0.72s\n",
      "f0,f1,f2 = [5.622572615305651e-09, 4.7122172837871476e-09, 4.344988856287842e-09]\n"
     ]
    },
    {
     "name": "stderr",
     "output_type": "stream",
     "text": [
      "Progress:  77%|███████▋  | 385/500 [1:39:39<30:32, 15.94s/it]"
     ]
    },
    {
     "name": "stdout",
     "output_type": "stream",
     "text": [
      "Time to: Calculate Ground State - 1.9s, Get Pauli Ops - 7.28s, Calculate Pauli Expectation Values - 5.57s, Calculate Covariance - 1.33s\n",
      "f0,f1,f2 = [5.7755833000233706e-09, 4.70255221148757e-09, 4.5761782944766335e-09]\n"
     ]
    },
    {
     "name": "stderr",
     "output_type": "stream",
     "text": [
      "Progress:  77%|███████▋  | 386/500 [1:39:55<29:59, 15.79s/it]"
     ]
    },
    {
     "name": "stdout",
     "output_type": "stream",
     "text": [
      "Time to: Calculate Ground State - 1.86s, Get Pauli Ops - 7.47s, Calculate Pauli Expectation Values - 5.35s, Calculate Covariance - 0.76s\n",
      "f0,f1,f2 = [5.4144131162374345e-09, 4.516399231051627e-09, 4.722261522626528e-09]\n"
     ]
    },
    {
     "name": "stderr",
     "output_type": "stream",
     "text": [
      "Progress:  77%|███████▋  | 387/500 [1:40:11<29:55, 15.89s/it]"
     ]
    },
    {
     "name": "stdout",
     "output_type": "stream",
     "text": [
      "Time to: Calculate Ground State - 1.97s, Get Pauli Ops - 7.2s, Calculate Pauli Expectation Values - 5.62s, Calculate Covariance - 1.32s\n",
      "f0,f1,f2 = [5.668599816187123e-09, 4.5638470690491676e-09, 4.883667863769392e-09]\n"
     ]
    },
    {
     "name": "stderr",
     "output_type": "stream",
     "text": [
      "Progress:  78%|███████▊  | 388/500 [1:40:26<29:24, 15.75s/it]"
     ]
    },
    {
     "name": "stdout",
     "output_type": "stream",
     "text": [
      "Time to: Calculate Ground State - 1.91s, Get Pauli Ops - 6.88s, Calculate Pauli Expectation Values - 5.86s, Calculate Covariance - 0.78s\n",
      "f0,f1,f2 = [5.138952026856213e-09, 4.2834075658856325e-09, 4.818217859690523e-09]\n"
     ]
    },
    {
     "name": "stderr",
     "output_type": "stream",
     "text": [
      "Progress:  78%|███████▊  | 389/500 [1:40:43<29:31, 15.96s/it]"
     ]
    },
    {
     "name": "stdout",
     "output_type": "stream",
     "text": [
      "Time to: Calculate Ground State - 2.06s, Get Pauli Ops - 7.46s, Calculate Pauli Expectation Values - 5.78s, Calculate Covariance - 1.14s\n",
      "f0,f1,f2 = [4.383747679266479e-09, 3.730952704716516e-09, 4.839200075299031e-09]\n"
     ]
    },
    {
     "name": "stderr",
     "output_type": "stream",
     "text": [
      "Progress:  78%|███████▊  | 390/500 [1:40:59<29:21, 16.01s/it]"
     ]
    },
    {
     "name": "stdout",
     "output_type": "stream",
     "text": [
      "Time to: Calculate Ground State - 1.98s, Get Pauli Ops - 6.72s, Calculate Pauli Expectation Values - 6.17s, Calculate Covariance - 1.25s\n",
      "f0,f1,f2 = [4.4551677197074e-09, 3.522442568299414e-09, 5.124426216917226e-09]\n"
     ]
    },
    {
     "name": "stderr",
     "output_type": "stream",
     "text": [
      "Progress:  78%|███████▊  | 391/500 [1:41:16<29:44, 16.38s/it]"
     ]
    },
    {
     "name": "stdout",
     "output_type": "stream",
     "text": [
      "Time to: Calculate Ground State - 1.87s, Get Pauli Ops - 8.19s, Calculate Pauli Expectation Values - 6.39s, Calculate Covariance - 0.77s\n",
      "f0,f1,f2 = [4.284169792244122e-09, 3.2604492150720038e-09, 5.273946181187099e-09]\n"
     ]
    },
    {
     "name": "stderr",
     "output_type": "stream",
     "text": [
      "Progress:  78%|███████▊  | 392/500 [1:41:31<28:49, 16.02s/it]"
     ]
    },
    {
     "name": "stdout",
     "output_type": "stream",
     "text": [
      "Time to: Calculate Ground State - 1.27s, Get Pauli Ops - 7.1s, Calculate Pauli Expectation Values - 5.56s, Calculate Covariance - 1.24s\n",
      "f0,f1,f2 = [3.931198560043387e-09, 2.7549195582357238e-09, 5.347932814665243e-09]\n"
     ]
    },
    {
     "name": "stderr",
     "output_type": "stream",
     "text": [
      "Progress:  79%|███████▊  | 393/500 [1:41:47<28:14, 15.83s/it]"
     ]
    },
    {
     "name": "stdout",
     "output_type": "stream",
     "text": [
      "Time to: Calculate Ground State - 1.42s, Get Pauli Ops - 6.67s, Calculate Pauli Expectation Values - 5.99s, Calculate Covariance - 1.32s\n",
      "f0,f1,f2 = [3.3666283154256204e-09, 2.649907936247064e-09, 5.3173427507814506e-09]\n"
     ]
    },
    {
     "name": "stderr",
     "output_type": "stream",
     "text": [
      "Progress:  79%|███████▉  | 394/500 [1:42:02<27:37, 15.63s/it]"
     ]
    },
    {
     "name": "stdout",
     "output_type": "stream",
     "text": [
      "Time to: Calculate Ground State - 1.62s, Get Pauli Ops - 6.55s, Calculate Pauli Expectation Values - 5.71s, Calculate Covariance - 1.3s\n",
      "f0,f1,f2 = [3.2064737565501074e-09, 2.5024729956347537e-09, 5.379470008801726e-09]\n"
     ]
    },
    {
     "name": "stderr",
     "output_type": "stream",
     "text": [
      "Progress:  79%|███████▉  | 395/500 [1:42:17<27:21, 15.64s/it]"
     ]
    },
    {
     "name": "stdout",
     "output_type": "stream",
     "text": [
      "Time to: Calculate Ground State - 2.01s, Get Pauli Ops - 6.67s, Calculate Pauli Expectation Values - 5.68s, Calculate Covariance - 1.27s\n",
      "f0,f1,f2 = [2.245187390686938e-09, 2.9210802457882938e-09, 5.1472303457501465e-09]\n"
     ]
    },
    {
     "name": "stderr",
     "output_type": "stream",
     "text": [
      "Progress:  79%|███████▉  | 396/500 [1:42:35<27:55, 16.11s/it]"
     ]
    },
    {
     "name": "stdout",
     "output_type": "stream",
     "text": [
      "Time to: Calculate Ground State - 2.11s, Get Pauli Ops - 7.85s, Calculate Pauli Expectation Values - 6.18s, Calculate Covariance - 1.08s\n",
      "f0,f1,f2 = [2.58517737413956e-09, 2.9167968062227647e-09, 5.488905744291315e-09]\n"
     ]
    },
    {
     "name": "stderr",
     "output_type": "stream",
     "text": [
      "Progress:  79%|███████▉  | 397/500 [1:42:50<27:29, 16.01s/it]"
     ]
    },
    {
     "name": "stdout",
     "output_type": "stream",
     "text": [
      "Time to: Calculate Ground State - 2.18s, Get Pauli Ops - 7.05s, Calculate Pauli Expectation Values - 5.78s, Calculate Covariance - 0.76s\n",
      "f0,f1,f2 = [2.339261434474068e-09, 3.0498299123529895e-09, 5.231677214798073e-09]\n"
     ]
    },
    {
     "name": "stderr",
     "output_type": "stream",
     "text": [
      "Progress:  80%|███████▉  | 398/500 [1:43:07<27:40, 16.28s/it]"
     ]
    },
    {
     "name": "stdout",
     "output_type": "stream",
     "text": [
      "Time to: Calculate Ground State - 2.05s, Get Pauli Ops - 7.81s, Calculate Pauli Expectation Values - 5.83s, Calculate Covariance - 1.21s\n",
      "f0,f1,f2 = [3.026856314343923e-09, 2.5912351359670297e-09, 5.425277884911887e-09]\n"
     ]
    },
    {
     "name": "stderr",
     "output_type": "stream",
     "text": [
      "Progress:  80%|███████▉  | 399/500 [1:43:22<26:50, 15.94s/it]"
     ]
    },
    {
     "name": "stdout",
     "output_type": "stream",
     "text": [
      "Time to: Calculate Ground State - 1.86s, Get Pauli Ops - 6.3s, Calculate Pauli Expectation Values - 5.71s, Calculate Covariance - 1.28s\n",
      "f0,f1,f2 = [2.6880028206314994e-09, 3.2095027810084896e-09, 5.479803215780851e-09]\n"
     ]
    },
    {
     "name": "stderr",
     "output_type": "stream",
     "text": [
      "Progress:  80%|████████  | 400/500 [1:43:38<26:19, 15.79s/it]"
     ]
    },
    {
     "name": "stdout",
     "output_type": "stream",
     "text": [
      "Time to: Calculate Ground State - 1.88s, Get Pauli Ops - 6.45s, Calculate Pauli Expectation Values - 5.88s, Calculate Covariance - 1.23s\n",
      "f0,f1,f2 = [2.9724538839298527e-09, 3.1617453466878943e-09, 5.403331506665478e-09]\n"
     ]
    },
    {
     "name": "stderr",
     "output_type": "stream",
     "text": [
      "Progress:  80%|████████  | 401/500 [1:43:54<26:28, 16.05s/it]"
     ]
    },
    {
     "name": "stdout",
     "output_type": "stream",
     "text": [
      "Time to: Calculate Ground State - 1.87s, Get Pauli Ops - 8.2s, Calculate Pauli Expectation Values - 5.74s, Calculate Covariance - 0.82s\n",
      "f0,f1,f2 = [2.7017232452168726e-09, 3.84576364579505e-09, 5.178730613626664e-09]\n"
     ]
    },
    {
     "name": "stderr",
     "output_type": "stream",
     "text": [
      "Progress:  80%|████████  | 402/500 [1:44:09<25:26, 15.58s/it]"
     ]
    },
    {
     "name": "stdout",
     "output_type": "stream",
     "text": [
      "Time to: Calculate Ground State - 1.92s, Get Pauli Ops - 6.78s, Calculate Pauli Expectation Values - 4.99s, Calculate Covariance - 0.79s\n",
      "f0,f1,f2 = [3.329776233169057e-09, 2.981393115903663e-09, 5.2169924954675885e-09]\n"
     ]
    },
    {
     "name": "stderr",
     "output_type": "stream",
     "text": [
      "Progress:  81%|████████  | 403/500 [1:44:26<25:43, 15.91s/it]"
     ]
    },
    {
     "name": "stdout",
     "output_type": "stream",
     "text": [
      "Time to: Calculate Ground State - 1.9s, Get Pauli Ops - 8.1s, Calculate Pauli Expectation Values - 5.4s, Calculate Covariance - 1.29s\n",
      "f0,f1,f2 = [3.3629124211144e-09, 3.290545946364617e-09, 5.172551456992262e-09]\n"
     ]
    },
    {
     "name": "stderr",
     "output_type": "stream",
     "text": [
      "Progress:  81%|████████  | 404/500 [1:44:40<24:46, 15.48s/it]"
     ]
    },
    {
     "name": "stdout",
     "output_type": "stream",
     "text": [
      "Time to: Calculate Ground State - 1.85s, Get Pauli Ops - 6.42s, Calculate Pauli Expectation Values - 4.88s, Calculate Covariance - 1.33s\n",
      "f0,f1,f2 = [2.6580359011978282e-09, 4.012950460261522e-09, 4.7396327899075646e-09]\n"
     ]
    },
    {
     "name": "stderr",
     "output_type": "stream",
     "text": [
      "Progress:  81%|████████  | 405/500 [1:44:55<24:19, 15.37s/it]"
     ]
    },
    {
     "name": "stdout",
     "output_type": "stream",
     "text": [
      "Time to: Calculate Ground State - 1.23s, Get Pauli Ops - 7.65s, Calculate Pauli Expectation Values - 5.0s, Calculate Covariance - 1.21s\n",
      "f0,f1,f2 = [3.994519966984361e-09, 1.9486889072158177e-09, 4.9827330731642194e-09]\n"
     ]
    },
    {
     "name": "stderr",
     "output_type": "stream",
     "text": [
      "Progress:  81%|████████  | 406/500 [1:45:09<23:25, 14.96s/it]"
     ]
    },
    {
     "name": "stdout",
     "output_type": "stream",
     "text": [
      "Time to: Calculate Ground State - 1.27s, Get Pauli Ops - 6.36s, Calculate Pauli Expectation Values - 5.03s, Calculate Covariance - 1.35s\n",
      "f0,f1,f2 = [3.2163745021099635e-09, 2.7837394693526018e-09, 4.454773462357113e-09]\n"
     ]
    },
    {
     "name": "stderr",
     "output_type": "stream",
     "text": [
      "Progress:  81%|████████▏ | 407/500 [1:45:25<23:26, 15.12s/it]"
     ]
    },
    {
     "name": "stdout",
     "output_type": "stream",
     "text": [
      "Time to: Calculate Ground State - 1.77s, Get Pauli Ops - 7.42s, Calculate Pauli Expectation Values - 5.06s, Calculate Covariance - 1.25s\n",
      "f0,f1,f2 = [2.3484614095009386e-09, 3.2808817260833407e-09, 3.667162097644403e-09]\n"
     ]
    },
    {
     "name": "stderr",
     "output_type": "stream",
     "text": [
      "Progress:  82%|████████▏ | 408/500 [1:45:40<23:21, 15.23s/it]"
     ]
    },
    {
     "name": "stdout",
     "output_type": "stream",
     "text": [
      "Time to: Calculate Ground State - 1.81s, Get Pauli Ops - 8.19s, Calculate Pauli Expectation Values - 4.71s, Calculate Covariance - 0.77s\n",
      "f0,f1,f2 = [3.5899782147432444e-09, 1.1908442429159236e-09, 4.05519219421198e-09]\n"
     ]
    },
    {
     "name": "stderr",
     "output_type": "stream",
     "text": [
      "Progress:  82%|████████▏ | 409/500 [1:45:56<23:17, 15.36s/it]"
     ]
    },
    {
     "name": "stdout",
     "output_type": "stream",
     "text": [
      "Time to: Calculate Ground State - 1.79s, Get Pauli Ops - 7.91s, Calculate Pauli Expectation Values - 4.81s, Calculate Covariance - 1.16s\n",
      "f0,f1,f2 = [2.275466195691335e-09, 2.32056056703627e-09, 2.9749287430629927e-09]\n"
     ]
    },
    {
     "name": "stderr",
     "output_type": "stream",
     "text": [
      "Progress:  82%|████████▏ | 410/500 [1:46:11<22:56, 15.29s/it]"
     ]
    },
    {
     "name": "stdout",
     "output_type": "stream",
     "text": [
      "Time to: Calculate Ground State - 1.53s, Get Pauli Ops - 7.54s, Calculate Pauli Expectation Values - 4.76s, Calculate Covariance - 1.3s\n",
      "f0,f1,f2 = [1.9221874705272413e-09, 1.9154998744317127e-09, 2.2549225980599057e-09]\n"
     ]
    },
    {
     "name": "stderr",
     "output_type": "stream",
     "text": [
      "Progress:  82%|████████▏ | 411/500 [1:46:25<22:11, 14.96s/it]"
     ]
    },
    {
     "name": "stdout",
     "output_type": "stream",
     "text": [
      "Time to: Calculate Ground State - 1.15s, Get Pauli Ops - 7.1s, Calculate Pauli Expectation Values - 4.97s, Calculate Covariance - 0.95s\n",
      "f0,f1,f2 = [1.252508598432152e-09, 1.8747572044262726e-09, 9.06802698759921e-10]\n"
     ]
    },
    {
     "name": "stderr",
     "output_type": "stream",
     "text": [
      "Progress:  82%|████████▏ | 412/500 [1:46:39<21:13, 14.48s/it]"
     ]
    },
    {
     "name": "stdout",
     "output_type": "stream",
     "text": [
      "Time to: Calculate Ground State - 1.78s, Get Pauli Ops - 6.14s, Calculate Pauli Expectation Values - 4.6s, Calculate Covariance - 0.83s\n",
      "f0,f1,f2 = [9.972347372048538e-10, 1.1984586685224132e-09, 4.082779540744077e-10]\n"
     ]
    },
    {
     "name": "stderr",
     "output_type": "stream",
     "text": [
      "Progress:  83%|████████▎ | 413/500 [1:46:54<21:18, 14.70s/it]"
     ]
    },
    {
     "name": "stdout",
     "output_type": "stream",
     "text": [
      "Time to: Calculate Ground State - 1.78s, Get Pauli Ops - 7.87s, Calculate Pauli Expectation Values - 4.7s, Calculate Covariance - 0.86s\n",
      "f0,f1,f2 = [9.863501998315015e-10, 9.641346644127076e-10, 8.854444040831768e-10]\n"
     ]
    },
    {
     "name": "stderr",
     "output_type": "stream",
     "text": [
      "Progress:  83%|████████▎ | 414/500 [1:47:09<21:25, 14.95s/it]"
     ]
    },
    {
     "name": "stdout",
     "output_type": "stream",
     "text": [
      "Time to: Calculate Ground State - 1.83s, Get Pauli Ops - 7.85s, Calculate Pauli Expectation Values - 4.73s, Calculate Covariance - 1.12s\n",
      "f0,f1,f2 = [1.5517633323545576e-09, 1.113867051486299e-09, 2.403071856728718e-09]\n"
     ]
    },
    {
     "name": "stderr",
     "output_type": "stream",
     "text": [
      "Progress:  83%|████████▎ | 415/500 [1:47:24<21:05, 14.88s/it]"
     ]
    },
    {
     "name": "stdout",
     "output_type": "stream",
     "text": [
      "Time to: Calculate Ground State - 1.66s, Get Pauli Ops - 7.4s, Calculate Pauli Expectation Values - 4.72s, Calculate Covariance - 0.94s\n",
      "f0,f1,f2 = [1.257114406938784e-09, 2.162951611253581e-09, 3.251732733076406e-09]\n"
     ]
    },
    {
     "name": "stderr",
     "output_type": "stream",
     "text": [
      "Progress:  83%|████████▎ | 416/500 [1:47:38<20:35, 14.71s/it]"
     ]
    },
    {
     "name": "stdout",
     "output_type": "stream",
     "text": [
      "Time to: Calculate Ground State - 1.73s, Get Pauli Ops - 7.0s, Calculate Pauli Expectation Values - 4.83s, Calculate Covariance - 0.74s\n",
      "f0,f1,f2 = [2.9276396198268273e-09, 1.8446849321436393e-09, 4.591088819767251e-09]\n"
     ]
    },
    {
     "name": "stderr",
     "output_type": "stream",
     "text": [
      "Progress:  83%|████████▎ | 417/500 [1:47:54<20:40, 14.95s/it]"
     ]
    },
    {
     "name": "stdout",
     "output_type": "stream",
     "text": [
      "Time to: Calculate Ground State - 1.73s, Get Pauli Ops - 8.15s, Calculate Pauli Expectation Values - 4.83s, Calculate Covariance - 0.78s\n",
      "f0,f1,f2 = [1.6446215678835354e-09, 4.972891680129487e-09, 6.091354608129264e-09]\n"
     ]
    },
    {
     "name": "stderr",
     "output_type": "stream",
     "text": [
      "Progress:  84%|████████▎ | 418/500 [1:48:09<20:28, 14.98s/it]"
     ]
    },
    {
     "name": "stdout",
     "output_type": "stream",
     "text": [
      "Time to: Calculate Ground State - 1.77s, Get Pauli Ops - 7.2s, Calculate Pauli Expectation Values - 5.35s, Calculate Covariance - 0.72s\n",
      "f0,f1,f2 = [4.084509362511501e-09, 4.310605765352258e-09, 7.1426421420605e-09]\n"
     ]
    },
    {
     "name": "stderr",
     "output_type": "stream",
     "text": [
      "Progress:  84%|████████▍ | 419/500 [1:48:24<20:18, 15.04s/it]"
     ]
    },
    {
     "name": "stdout",
     "output_type": "stream",
     "text": [
      "Time to: Calculate Ground State - 1.8s, Get Pauli Ops - 7.24s, Calculate Pauli Expectation Values - 5.31s, Calculate Covariance - 0.82s\n",
      "f0,f1,f2 = [4.221081889887135e-09, 6.011993995476909e-09, 8.333092631481176e-09]\n"
     ]
    },
    {
     "name": "stderr",
     "output_type": "stream",
     "text": [
      "Progress:  84%|████████▍ | 420/500 [1:48:39<20:01, 15.02s/it]"
     ]
    },
    {
     "name": "stdout",
     "output_type": "stream",
     "text": [
      "Time to: Calculate Ground State - 1.82s, Get Pauli Ops - 6.95s, Calculate Pauli Expectation Values - 5.12s, Calculate Covariance - 1.1s\n",
      "f0,f1,f2 = [4.000988453151322e-09, 7.69998557305381e-09, 9.662960342257489e-09]\n"
     ]
    },
    {
     "name": "stderr",
     "output_type": "stream",
     "text": [
      "Progress:  84%|████████▍ | 421/500 [1:48:53<19:25, 14.75s/it]"
     ]
    },
    {
     "name": "stdout",
     "output_type": "stream",
     "text": [
      "Time to: Calculate Ground State - 1.87s, Get Pauli Ops - 6.55s, Calculate Pauli Expectation Values - 4.86s, Calculate Covariance - 0.83s\n",
      "f0,f1,f2 = [4.3066133219438924e-09, 8.362888660705617e-09, 1.0384171177323766e-08]\n"
     ]
    },
    {
     "name": "stderr",
     "output_type": "stream",
     "text": [
      "Progress:  84%|████████▍ | 422/500 [1:49:09<19:40, 15.13s/it]"
     ]
    },
    {
     "name": "stdout",
     "output_type": "stream",
     "text": [
      "Time to: Calculate Ground State - 1.73s, Get Pauli Ops - 7.92s, Calculate Pauli Expectation Values - 5.0s, Calculate Covariance - 1.37s\n",
      "f0,f1,f2 = [4.798471918687414e-09, 9.15504050425959e-09, 1.1289933837831123e-08]\n"
     ]
    },
    {
     "name": "stderr",
     "output_type": "stream",
     "text": [
      "Progress:  85%|████████▍ | 423/500 [1:49:23<19:03, 14.85s/it]"
     ]
    },
    {
     "name": "stdout",
     "output_type": "stream",
     "text": [
      "Time to: Calculate Ground State - 1.62s, Get Pauli Ops - 6.86s, Calculate Pauli Expectation Values - 4.84s, Calculate Covariance - 0.87s\n",
      "f0,f1,f2 = [5.073925942631635e-09, 8.995132162831334e-09, 1.121085107388882e-08]\n"
     ]
    },
    {
     "name": "stderr",
     "output_type": "stream",
     "text": [
      "Progress:  85%|████████▍ | 424/500 [1:49:39<19:11, 15.15s/it]"
     ]
    },
    {
     "name": "stdout",
     "output_type": "stream",
     "text": [
      "Time to: Calculate Ground State - 1.85s, Get Pauli Ops - 7.44s, Calculate Pauli Expectation Values - 5.22s, Calculate Covariance - 1.31s\n",
      "f0,f1,f2 = [4.712243296146028e-09, 9.492766800492562e-09, 1.1265217241372143e-08]\n"
     ]
    },
    {
     "name": "stderr",
     "output_type": "stream",
     "text": [
      "Progress:  85%|████████▌ | 425/500 [1:49:55<19:02, 15.23s/it]"
     ]
    },
    {
     "name": "stdout",
     "output_type": "stream",
     "text": [
      "Time to: Calculate Ground State - 1.81s, Get Pauli Ops - 7.48s, Calculate Pauli Expectation Values - 4.84s, Calculate Covariance - 1.3s\n",
      "f0,f1,f2 = [4.3551368488874724e-09, 8.652358027212747e-09, 1.0648122763778454e-08]\n"
     ]
    },
    {
     "name": "stderr",
     "output_type": "stream",
     "text": [
      "Progress:  85%|████████▌ | 426/500 [1:50:08<18:12, 14.77s/it]"
     ]
    },
    {
     "name": "stdout",
     "output_type": "stream",
     "text": [
      "Time to: Calculate Ground State - 1.49s, Get Pauli Ops - 6.3s, Calculate Pauli Expectation Values - 5.04s, Calculate Covariance - 0.86s\n",
      "f0,f1,f2 = [3.5018039668965488e-09, 8.789409320462456e-09, 1.0281466836117896e-08]\n"
     ]
    },
    {
     "name": "stderr",
     "output_type": "stream",
     "text": [
      "Progress:  85%|████████▌ | 427/500 [1:50:23<18:01, 14.82s/it]"
     ]
    },
    {
     "name": "stdout",
     "output_type": "stream",
     "text": [
      "Time to: Calculate Ground State - 1.87s, Get Pauli Ops - 7.39s, Calculate Pauli Expectation Values - 4.91s, Calculate Covariance - 0.75s\n",
      "f0,f1,f2 = [3.930932127018902e-09, 6.4360680232037015e-09, 8.636273805033657e-09]\n"
     ]
    },
    {
     "name": "stderr",
     "output_type": "stream",
     "text": [
      "Progress:  86%|████████▌ | 428/500 [1:50:39<18:06, 15.09s/it]"
     ]
    },
    {
     "name": "stdout",
     "output_type": "stream",
     "text": [
      "Time to: Calculate Ground State - 1.86s, Get Pauli Ops - 7.41s, Calculate Pauli Expectation Values - 5.11s, Calculate Covariance - 1.32s\n",
      "f0,f1,f2 = [2.840694618410579e-09, 6.168737459611682e-09, 7.9182980338808e-09]\n"
     ]
    },
    {
     "name": "stderr",
     "output_type": "stream",
     "text": [
      "Progress:  86%|████████▌ | 429/500 [1:50:54<17:55, 15.15s/it]"
     ]
    },
    {
     "name": "stdout",
     "output_type": "stream",
     "text": [
      "Time to: Calculate Ground State - 1.8s, Get Pauli Ops - 7.35s, Calculate Pauli Expectation Values - 5.37s, Calculate Covariance - 0.77s\n",
      "f0,f1,f2 = [2.427857645026884e-09, 4.9577017136192795e-09, 6.758078350590258e-09]\n"
     ]
    },
    {
     "name": "stderr",
     "output_type": "stream",
     "text": [
      "Progress:  86%|████████▌ | 430/500 [1:51:09<17:31, 15.02s/it]"
     ]
    },
    {
     "name": "stdout",
     "output_type": "stream",
     "text": [
      "Time to: Calculate Ground State - 1.73s, Get Pauli Ops - 6.24s, Calculate Pauli Expectation Values - 5.42s, Calculate Covariance - 1.32s\n",
      "f0,f1,f2 = [2.3898376742362213e-09, 3.1333361475603766e-09, 5.3002007575851145e-09]\n"
     ]
    },
    {
     "name": "stderr",
     "output_type": "stream",
     "text": [
      "Progress:  86%|████████▌ | 431/500 [1:51:26<17:49, 15.49s/it]"
     ]
    },
    {
     "name": "stdout",
     "output_type": "stream",
     "text": [
      "Time to: Calculate Ground State - 1.83s, Get Pauli Ops - 8.04s, Calculate Pauli Expectation Values - 5.6s, Calculate Covariance - 1.12s\n",
      "f0,f1,f2 = [1.5761062202750419e-09, 2.7411582310374084e-09, 4.302218398038747e-09]\n"
     ]
    },
    {
     "name": "stderr",
     "output_type": "stream",
     "text": [
      "Progress:  86%|████████▋ | 432/500 [1:51:42<17:48, 15.72s/it]"
     ]
    },
    {
     "name": "stdout",
     "output_type": "stream",
     "text": [
      "Time to: Calculate Ground State - 1.75s, Get Pauli Ops - 7.4s, Calculate Pauli Expectation Values - 5.78s, Calculate Covariance - 1.3s\n",
      "f0,f1,f2 = [1.740991436958377e-09, 1.526085723545872e-09, 3.109021942321679e-09]\n"
     ]
    },
    {
     "name": "stderr",
     "output_type": "stream",
     "text": [
      "Progress:  87%|████████▋ | 433/500 [1:51:57<17:25, 15.60s/it]"
     ]
    },
    {
     "name": "stdout",
     "output_type": "stream",
     "text": [
      "Time to: Calculate Ground State - 1.71s, Get Pauli Ops - 7.73s, Calculate Pauli Expectation Values - 4.91s, Calculate Covariance - 0.99s\n",
      "f0,f1,f2 = [1.7619283060004765e-09, 1.7736178463107214e-09, 2.274738716151281e-09]\n"
     ]
    },
    {
     "name": "stderr",
     "output_type": "stream",
     "text": [
      "Progress:  87%|████████▋ | 434/500 [1:52:12<16:49, 15.30s/it]"
     ]
    },
    {
     "name": "stdout",
     "output_type": "stream",
     "text": [
      "Time to: Calculate Ground State - 1.7s, Get Pauli Ops - 7.45s, Calculate Pauli Expectation Values - 4.69s, Calculate Covariance - 0.74s\n",
      "f0,f1,f2 = [2.0079893899369215e-09, 1.890550432991131e-09, 1.2681826688040155e-09]\n"
     ]
    },
    {
     "name": "stderr",
     "output_type": "stream",
     "text": [
      "Progress:  87%|████████▋ | 435/500 [1:52:26<16:13, 14.97s/it]"
     ]
    },
    {
     "name": "stdout",
     "output_type": "stream",
     "text": [
      "Time to: Calculate Ground State - 1.7s, Get Pauli Ops - 7.03s, Calculate Pauli Expectation Values - 4.68s, Calculate Covariance - 0.8s\n",
      "f0,f1,f2 = [2.4223242683118126e-09, 2.2816939765530616e-09, 6.195748674682077e-10]\n"
     ]
    },
    {
     "name": "stderr",
     "output_type": "stream",
     "text": [
      "Progress:  87%|████████▋ | 436/500 [1:52:41<16:01, 15.02s/it]"
     ]
    },
    {
     "name": "stdout",
     "output_type": "stream",
     "text": [
      "Time to: Calculate Ground State - 1.73s, Get Pauli Ops - 7.85s, Calculate Pauli Expectation Values - 4.83s, Calculate Covariance - 0.72s\n",
      "f0,f1,f2 = [2.466228867734992e-09, 2.978548501717899e-09, 5.416600963657311e-10]\n"
     ]
    },
    {
     "name": "stderr",
     "output_type": "stream",
     "text": [
      "Progress:  87%|████████▋ | 437/500 [1:52:56<15:35, 14.86s/it]"
     ]
    },
    {
     "name": "stdout",
     "output_type": "stream",
     "text": [
      "Time to: Calculate Ground State - 1.63s, Get Pauli Ops - 7.39s, Calculate Pauli Expectation Values - 4.7s, Calculate Covariance - 0.75s\n",
      "f0,f1,f2 = [2.539275618999661e-09, 3.838063983634669e-09, 1.4690515795636488e-09]\n"
     ]
    },
    {
     "name": "stderr",
     "output_type": "stream",
     "text": [
      "Progress:  88%|████████▊ | 438/500 [1:53:11<15:22, 14.88s/it]"
     ]
    },
    {
     "name": "stdout",
     "output_type": "stream",
     "text": [
      "Time to: Calculate Ground State - 1.64s, Get Pauli Ops - 7.31s, Calculate Pauli Expectation Values - 4.85s, Calculate Covariance - 1.15s\n",
      "f0,f1,f2 = [3.0008730063205457e-09, 4.07623509020059e-09, 1.7379454973254639e-09]\n"
     ]
    },
    {
     "name": "stderr",
     "output_type": "stream",
     "text": [
      "Progress:  88%|████████▊ | 439/500 [1:53:26<15:25, 15.17s/it]"
     ]
    },
    {
     "name": "stdout",
     "output_type": "stream",
     "text": [
      "Time to: Calculate Ground State - 1.65s, Get Pauli Ops - 7.82s, Calculate Pauli Expectation Values - 5.47s, Calculate Covariance - 0.91s\n",
      "f0,f1,f2 = [3.000485597675105e-09, 4.987245086996297e-09, 2.7160278236369986e-09]\n"
     ]
    },
    {
     "name": "stderr",
     "output_type": "stream",
     "text": [
      "Progress:  88%|████████▊ | 440/500 [1:53:41<15:09, 15.15s/it]"
     ]
    },
    {
     "name": "stdout",
     "output_type": "stream",
     "text": [
      "Time to: Calculate Ground State - 1.85s, Get Pauli Ops - 6.96s, Calculate Pauli Expectation Values - 5.05s, Calculate Covariance - 1.23s\n",
      "f0,f1,f2 = [3.977444326756685e-09, 4.758354171024288e-09, 2.6043854848084853e-09]\n"
     ]
    },
    {
     "name": "stderr",
     "output_type": "stream",
     "text": [
      "Progress:  88%|████████▊ | 441/500 [1:53:57<14:54, 15.17s/it]"
     ]
    },
    {
     "name": "stdout",
     "output_type": "stream",
     "text": [
      "Time to: Calculate Ground State - 1.99s, Get Pauli Ops - 6.87s, Calculate Pauli Expectation Values - 5.31s, Calculate Covariance - 1.02s\n",
      "f0,f1,f2 = [4.393826281578246e-09, 4.4866157302343016e-09, 2.75843832439231e-09]\n"
     ]
    },
    {
     "name": "stderr",
     "output_type": "stream",
     "text": [
      "Progress:  88%|████████▊ | 442/500 [1:54:12<14:46, 15.28s/it]"
     ]
    },
    {
     "name": "stdout",
     "output_type": "stream",
     "text": [
      "Time to: Calculate Ground State - 1.88s, Get Pauli Ops - 7.36s, Calculate Pauli Expectation Values - 5.39s, Calculate Covariance - 0.91s\n",
      "f0,f1,f2 = [4.025901010229052e-09, 5.304768223038107e-09, 3.4409710839352495e-09]\n"
     ]
    },
    {
     "name": "stderr",
     "output_type": "stream",
     "text": [
      "Progress:  89%|████████▊ | 443/500 [1:54:28<14:37, 15.39s/it]"
     ]
    },
    {
     "name": "stdout",
     "output_type": "stream",
     "text": [
      "Time to: Calculate Ground State - 1.94s, Get Pauli Ops - 7.35s, Calculate Pauli Expectation Values - 5.49s, Calculate Covariance - 0.86s\n",
      "f0,f1,f2 = [4.855432958778925e-09, 4.723777622415381e-09, 3.5000635076981596e-09]\n"
     ]
    },
    {
     "name": "stderr",
     "output_type": "stream",
     "text": [
      "Progress:  89%|████████▉ | 444/500 [1:54:44<14:40, 15.72s/it]"
     ]
    },
    {
     "name": "stdout",
     "output_type": "stream",
     "text": [
      "Time to: Calculate Ground State - 1.88s, Get Pauli Ops - 7.82s, Calculate Pauli Expectation Values - 5.73s, Calculate Covariance - 1.08s\n",
      "f0,f1,f2 = [4.611188002109591e-09, 5.410152177405677e-09, 3.857770869288931e-09]\n"
     ]
    },
    {
     "name": "stderr",
     "output_type": "stream",
     "text": [
      "Progress:  89%|████████▉ | 445/500 [1:55:01<14:39, 15.99s/it]"
     ]
    },
    {
     "name": "stdout",
     "output_type": "stream",
     "text": [
      "Time to: Calculate Ground State - 1.89s, Get Pauli Ops - 7.74s, Calculate Pauli Expectation Values - 5.66s, Calculate Covariance - 1.31s\n",
      "f0,f1,f2 = [4.753512128404187e-09, 5.616038546741322e-09, 4.0970829189244525e-09]\n"
     ]
    },
    {
     "name": "stderr",
     "output_type": "stream",
     "text": [
      "Progress:  89%|████████▉ | 446/500 [1:55:17<14:31, 16.13s/it]"
     ]
    },
    {
     "name": "stdout",
     "output_type": "stream",
     "text": [
      "Time to: Calculate Ground State - 1.96s, Get Pauli Ops - 7.85s, Calculate Pauli Expectation Values - 5.39s, Calculate Covariance - 1.26s\n",
      "f0,f1,f2 = [4.104893233497634e-09, 6.063159807992526e-09, 4.268986457495417e-09]\n"
     ]
    },
    {
     "name": "stderr",
     "output_type": "stream",
     "text": [
      "Progress:  89%|████████▉ | 447/500 [1:55:34<14:14, 16.13s/it]"
     ]
    },
    {
     "name": "stdout",
     "output_type": "stream",
     "text": [
      "Time to: Calculate Ground State - 1.94s, Get Pauli Ops - 7.94s, Calculate Pauli Expectation Values - 5.41s, Calculate Covariance - 0.83s\n",
      "f0,f1,f2 = [5.542406187686013e-09, 5.033723806360589e-09, 3.975303561649107e-09]\n"
     ]
    },
    {
     "name": "stderr",
     "output_type": "stream",
     "text": [
      "Progress:  90%|████████▉ | 448/500 [1:55:48<13:29, 15.57s/it]"
     ]
    },
    {
     "name": "stdout",
     "output_type": "stream",
     "text": [
      "Time to: Calculate Ground State - 1.85s, Get Pauli Ops - 6.45s, Calculate Pauli Expectation Values - 5.24s, Calculate Covariance - 0.72s\n",
      "f0,f1,f2 = [4.32296694735661e-09, 6.120298686782209e-09, 4.388565387105709e-09]\n"
     ]
    },
    {
     "name": "stderr",
     "output_type": "stream",
     "text": [
      "Progress:  90%|████████▉ | 449/500 [1:56:04<13:26, 15.82s/it]"
     ]
    },
    {
     "name": "stdout",
     "output_type": "stream",
     "text": [
      "Time to: Calculate Ground State - 1.83s, Get Pauli Ops - 7.33s, Calculate Pauli Expectation Values - 5.92s, Calculate Covariance - 1.3s\n",
      "f0,f1,f2 = [4.820955866919585e-09, 5.506459508899102e-09, 3.9383342733067204e-09]\n"
     ]
    },
    {
     "name": "stderr",
     "output_type": "stream",
     "text": [
      "Progress:  90%|█████████ | 450/500 [1:56:20<13:15, 15.90s/it]"
     ]
    },
    {
     "name": "stdout",
     "output_type": "stream",
     "text": [
      "Time to: Calculate Ground State - 1.87s, Get Pauli Ops - 8.19s, Calculate Pauli Expectation Values - 5.3s, Calculate Covariance - 0.74s\n",
      "f0,f1,f2 = [4.881683827785889e-09, 5.79069285842027e-09, 4.2289070331951835e-09]\n"
     ]
    },
    {
     "name": "stderr",
     "output_type": "stream",
     "text": [
      "Progress:  90%|█████████ | 451/500 [1:56:35<12:47, 15.66s/it]"
     ]
    },
    {
     "name": "stdout",
     "output_type": "stream",
     "text": [
      "Time to: Calculate Ground State - 1.12s, Get Pauli Ops - 7.52s, Calculate Pauli Expectation Values - 5.27s, Calculate Covariance - 1.19s\n",
      "f0,f1,f2 = [4.583025637437788e-09, 5.762546659840842e-09, 4.077988718605726e-09]\n"
     ]
    },
    {
     "name": "stderr",
     "output_type": "stream",
     "text": [
      "Progress:  90%|█████████ | 452/500 [1:56:52<12:41, 15.86s/it]"
     ]
    },
    {
     "name": "stdout",
     "output_type": "stream",
     "text": [
      "Time to: Calculate Ground State - 1.91s, Get Pauli Ops - 7.92s, Calculate Pauli Expectation Values - 5.21s, Calculate Covariance - 1.29s\n",
      "f0,f1,f2 = [4.6013826361909316e-09, 5.625121955493441e-09, 4.117184673563854e-09]\n"
     ]
    },
    {
     "name": "stderr",
     "output_type": "stream",
     "text": [
      "Progress:  91%|█████████ | 453/500 [1:57:08<12:30, 15.96s/it]"
     ]
    },
    {
     "name": "stdout",
     "output_type": "stream",
     "text": [
      "Time to: Calculate Ground State - 1.89s, Get Pauli Ops - 7.78s, Calculate Pauli Expectation Values - 5.71s, Calculate Covariance - 0.8s\n",
      "f0,f1,f2 = [4.756442750125443e-09, 5.412582340352022e-09, 3.966911162441392e-09]\n"
     ]
    },
    {
     "name": "stderr",
     "output_type": "stream",
     "text": [
      "Progress:  91%|█████████ | 454/500 [1:57:24<12:21, 16.13s/it]"
     ]
    },
    {
     "name": "stdout",
     "output_type": "stream",
     "text": [
      "Time to: Calculate Ground State - 1.99s, Get Pauli Ops - 7.64s, Calculate Pauli Expectation Values - 5.6s, Calculate Covariance - 1.28s\n",
      "f0,f1,f2 = [3.894359499021766e-09, 5.706971503741394e-09, 3.791810675927236e-09]\n"
     ]
    },
    {
     "name": "stderr",
     "output_type": "stream",
     "text": [
      "Progress:  91%|█████████ | 455/500 [1:57:40<11:53, 15.86s/it]"
     ]
    },
    {
     "name": "stdout",
     "output_type": "stream",
     "text": [
      "Time to: Calculate Ground State - 1.96s, Get Pauli Ops - 6.57s, Calculate Pauli Expectation Values - 5.41s, Calculate Covariance - 1.29s\n",
      "f0,f1,f2 = [4.554723600689175e-09, 5.022344793473861e-09, 3.293827596687167e-09]\n"
     ]
    },
    {
     "name": "stderr",
     "output_type": "stream",
     "text": [
      "Progress:  91%|█████████ | 456/500 [1:57:57<11:50, 16.14s/it]"
     ]
    },
    {
     "name": "stdout",
     "output_type": "stream",
     "text": [
      "Time to: Calculate Ground State - 1.91s, Get Pauli Ops - 8.16s, Calculate Pauli Expectation Values - 5.54s, Calculate Covariance - 1.17s\n",
      "f0,f1,f2 = [3.834930742911287e-09, 5.028657106172229e-09, 3.117922693082208e-09]\n"
     ]
    },
    {
     "name": "stderr",
     "output_type": "stream",
     "text": [
      "Progress:  91%|█████████▏| 457/500 [1:58:11<11:18, 15.79s/it]"
     ]
    },
    {
     "name": "stdout",
     "output_type": "stream",
     "text": [
      "Time to: Calculate Ground State - 1.85s, Get Pauli Ops - 6.83s, Calculate Pauli Expectation Values - 5.13s, Calculate Covariance - 1.15s\n",
      "f0,f1,f2 = [4.134575678931292e-09, 4.785898404108588e-09, 2.8167227105024345e-09]\n"
     ]
    },
    {
     "name": "stderr",
     "output_type": "stream",
     "text": [
      "Progress:  92%|█████████▏| 458/500 [1:58:27<10:54, 15.59s/it]"
     ]
    },
    {
     "name": "stdout",
     "output_type": "stream",
     "text": [
      "Time to: Calculate Ground State - 1.86s, Get Pauli Ops - 7.26s, Calculate Pauli Expectation Values - 5.13s, Calculate Covariance - 0.87s\n",
      "f0,f1,f2 = [4.196990664464846e-09, 4.144945889172299e-09, 2.174183125056779e-09]\n"
     ]
    },
    {
     "name": "stderr",
     "output_type": "stream",
     "text": [
      "Progress:  92%|█████████▏| 459/500 [1:58:41<10:27, 15.31s/it]"
     ]
    },
    {
     "name": "stdout",
     "output_type": "stream",
     "text": [
      "Time to: Calculate Ground State - 1.65s, Get Pauli Ops - 7.21s, Calculate Pauli Expectation Values - 4.86s, Calculate Covariance - 0.92s\n",
      "f0,f1,f2 = [3.714706801055667e-09, 4.040847470103662e-09, 1.7629321213370843e-09]\n"
     ]
    },
    {
     "name": "stderr",
     "output_type": "stream",
     "text": [
      "Progress:  92%|█████████▏| 460/500 [1:58:56<10:10, 15.27s/it]"
     ]
    },
    {
     "name": "stdout",
     "output_type": "stream",
     "text": [
      "Time to: Calculate Ground State - 1.81s, Get Pauli Ops - 7.63s, Calculate Pauli Expectation Values - 4.78s, Calculate Covariance - 0.95s\n",
      "f0,f1,f2 = [2.713609710818147e-09, 4.5811742765915215e-09, 2.143766742533093e-09]\n"
     ]
    },
    {
     "name": "stderr",
     "output_type": "stream",
     "text": [
      "Progress:  92%|█████████▏| 461/500 [1:59:12<10:02, 15.44s/it]"
     ]
    },
    {
     "name": "stdout",
     "output_type": "stream",
     "text": [
      "Time to: Calculate Ground State - 1.86s, Get Pauli Ops - 7.76s, Calculate Pauli Expectation Values - 4.92s, Calculate Covariance - 1.3s\n",
      "f0,f1,f2 = [2.056053463185487e-09, 4.294213831449932e-09, 2.239713440836624e-09]\n"
     ]
    },
    {
     "name": "stderr",
     "output_type": "stream",
     "text": [
      "Progress:  92%|█████████▏| 462/500 [1:59:27<09:36, 15.18s/it]"
     ]
    },
    {
     "name": "stdout",
     "output_type": "stream",
     "text": [
      "Time to: Calculate Ground State - 1.84s, Get Pauli Ops - 7.09s, Calculate Pauli Expectation Values - 4.91s, Calculate Covariance - 0.74s\n",
      "f0,f1,f2 = [2.0740282969113626e-09, 3.360061992153269e-09, 1.327811061250894e-09]\n"
     ]
    },
    {
     "name": "stderr",
     "output_type": "stream",
     "text": [
      "Progress:  93%|█████████▎| 463/500 [1:59:42<09:18, 15.10s/it]"
     ]
    },
    {
     "name": "stdout",
     "output_type": "stream",
     "text": [
      "Time to: Calculate Ground State - 1.6s, Get Pauli Ops - 7.51s, Calculate Pauli Expectation Values - 5.03s, Calculate Covariance - 0.78s\n",
      "f0,f1,f2 = [1.8018623830187238e-09, 2.8873113289837896e-09, 1.457004478057996e-09]\n"
     ]
    },
    {
     "name": "stderr",
     "output_type": "stream",
     "text": [
      "Progress:  93%|█████████▎| 464/500 [1:59:56<08:58, 14.96s/it]"
     ]
    },
    {
     "name": "stdout",
     "output_type": "stream",
     "text": [
      "Time to: Calculate Ground State - 1.76s, Get Pauli Ops - 6.51s, Calculate Pauli Expectation Values - 5.08s, Calculate Covariance - 1.28s\n",
      "f0,f1,f2 = [1.895056543602934e-09, 2.327760522747021e-09, 1.912184017426285e-09]\n"
     ]
    },
    {
     "name": "stderr",
     "output_type": "stream",
     "text": [
      "Progress:  93%|█████████▎| 465/500 [2:00:11<08:43, 14.97s/it]"
     ]
    },
    {
     "name": "stdout",
     "output_type": "stream",
     "text": [
      "Time to: Calculate Ground State - 1.82s, Get Pauli Ops - 7.06s, Calculate Pauli Expectation Values - 4.92s, Calculate Covariance - 1.16s\n",
      "f0,f1,f2 = [2.007665022578313e-09, 1.3895651961927094e-09, 2.5469438380716026e-09]\n"
     ]
    },
    {
     "name": "stderr",
     "output_type": "stream",
     "text": [
      "Progress:  93%|█████████▎| 466/500 [2:00:27<08:30, 15.02s/it]"
     ]
    },
    {
     "name": "stdout",
     "output_type": "stream",
     "text": [
      "Time to: Calculate Ground State - 1.75s, Get Pauli Ops - 7.18s, Calculate Pauli Expectation Values - 4.95s, Calculate Covariance - 1.25s\n",
      "f0,f1,f2 = [3.0110686781312682e-09, 7.563694080747583e-10, 3.4879972698793834e-09]\n"
     ]
    },
    {
     "name": "stderr",
     "output_type": "stream",
     "text": [
      "Progress:  93%|█████████▎| 467/500 [2:00:40<08:02, 14.62s/it]"
     ]
    },
    {
     "name": "stdout",
     "output_type": "stream",
     "text": [
      "Time to: Calculate Ground State - 1.52s, Get Pauli Ops - 6.45s, Calculate Pauli Expectation Values - 4.94s, Calculate Covariance - 0.79s\n",
      "f0,f1,f2 = [3.5463868219672147e-09, 1.1231503274884156e-09, 4.604823405383245e-09]\n"
     ]
    },
    {
     "name": "stderr",
     "output_type": "stream",
     "text": [
      "Progress:  94%|█████████▎| 468/500 [2:00:56<07:56, 14.88s/it]"
     ]
    },
    {
     "name": "stdout",
     "output_type": "stream",
     "text": [
      "Time to: Calculate Ground State - 1.77s, Get Pauli Ops - 7.83s, Calculate Pauli Expectation Values - 4.65s, Calculate Covariance - 1.23s\n",
      "f0,f1,f2 = [4.316761537685384e-09, 1.6299613308031282e-09, 5.111488976946685e-09]\n"
     ]
    },
    {
     "name": "stderr",
     "output_type": "stream",
     "text": [
      "Progress:  94%|█████████▍| 469/500 [2:01:11<07:43, 14.94s/it]"
     ]
    },
    {
     "name": "stdout",
     "output_type": "stream",
     "text": [
      "Time to: Calculate Ground State - 1.81s, Get Pauli Ops - 7.72s, Calculate Pauli Expectation Values - 4.79s, Calculate Covariance - 0.76s\n",
      "f0,f1,f2 = [6.7177035112973755e-09, 2.363436342854393e-09, 5.592466224573678e-09]\n"
     ]
    },
    {
     "name": "stderr",
     "output_type": "stream",
     "text": [
      "Progress:  94%|█████████▍| 470/500 [2:01:26<07:28, 14.95s/it]"
     ]
    },
    {
     "name": "stdout",
     "output_type": "stream",
     "text": [
      "Time to: Calculate Ground State - 1.78s, Get Pauli Ops - 7.71s, Calculate Pauli Expectation Values - 4.72s, Calculate Covariance - 0.76s\n",
      "f0,f1,f2 = [4.972091000379762e-09, 4.523887485421988e-09, 7.3132567852544996e-09]\n"
     ]
    },
    {
     "name": "stderr",
     "output_type": "stream",
     "text": [
      "Progress:  94%|█████████▍| 471/500 [2:01:40<07:09, 14.81s/it]"
     ]
    },
    {
     "name": "stdout",
     "output_type": "stream",
     "text": [
      "Time to: Calculate Ground State - 1.62s, Get Pauli Ops - 7.19s, Calculate Pauli Expectation Values - 4.85s, Calculate Covariance - 0.83s\n",
      "f0,f1,f2 = [6.97111819366236e-09, 5.137796906047834e-09, 7.633008287980812e-09]\n"
     ]
    },
    {
     "name": "stderr",
     "output_type": "stream",
     "text": [
      "Progress:  94%|█████████▍| 472/500 [2:01:54<06:46, 14.53s/it]"
     ]
    },
    {
     "name": "stdout",
     "output_type": "stream",
     "text": [
      "Time to: Calculate Ground State - 1.03s, Get Pauli Ops - 6.85s, Calculate Pauli Expectation Values - 4.8s, Calculate Covariance - 1.18s\n",
      "f0,f1,f2 = [8.588236668081712e-09, 7.670088930346805e-09, 6.435063499654787e-09]\n"
     ]
    },
    {
     "name": "stderr",
     "output_type": "stream",
     "text": [
      "Progress:  95%|█████████▍| 473/500 [2:02:08<06:28, 14.40s/it]"
     ]
    },
    {
     "name": "stdout",
     "output_type": "stream",
     "text": [
      "Time to: Calculate Ground State - 1.84s, Get Pauli Ops - 5.96s, Calculate Pauli Expectation Values - 5.31s, Calculate Covariance - 0.98s\n",
      "f0,f1,f2 = [8.658191925458525e-09, 7.605235803447856e-09, 7.448823146243952e-09]\n"
     ]
    },
    {
     "name": "stderr",
     "output_type": "stream",
     "text": [
      "Progress:  95%|█████████▍| 474/500 [2:02:23<06:13, 14.38s/it]"
     ]
    },
    {
     "name": "stdout",
     "output_type": "stream",
     "text": [
      "Time to: Calculate Ground State - 1.13s, Get Pauli Ops - 7.42s, Calculate Pauli Expectation Values - 4.84s, Calculate Covariance - 0.93s\n",
      "f0,f1,f2 = [9.54785843625552e-09, 7.387827837504692e-09, 8.569627975030669e-09]\n"
     ]
    },
    {
     "name": "stderr",
     "output_type": "stream",
     "text": [
      "Progress:  95%|█████████▌| 475/500 [2:02:38<06:09, 14.78s/it]"
     ]
    },
    {
     "name": "stdout",
     "output_type": "stream",
     "text": [
      "Time to: Calculate Ground State - 1.83s, Get Pauli Ops - 7.62s, Calculate Pauli Expectation Values - 4.98s, Calculate Covariance - 1.28s\n",
      "f0,f1,f2 = [1.006723171248714e-08, 8.342331018809861e-09, 7.813691107086187e-09]\n"
     ]
    },
    {
     "name": "stderr",
     "output_type": "stream",
     "text": [
      "Progress:  95%|█████████▌| 476/500 [2:02:53<05:56, 14.83s/it]"
     ]
    },
    {
     "name": "stdout",
     "output_type": "stream",
     "text": [
      "Time to: Calculate Ground State - 1.81s, Get Pauli Ops - 7.34s, Calculate Pauli Expectation Values - 4.92s, Calculate Covariance - 0.88s\n",
      "f0,f1,f2 = [9.776306965045413e-09, 9.647022705683491e-09, 7.0405545929516125e-09]\n"
     ]
    },
    {
     "name": "stderr",
     "output_type": "stream",
     "text": [
      "Progress:  95%|█████████▌| 477/500 [2:03:09<05:46, 15.08s/it]"
     ]
    },
    {
     "name": "stdout",
     "output_type": "stream",
     "text": [
      "Time to: Calculate Ground State - 1.76s, Get Pauli Ops - 8.05s, Calculate Pauli Expectation Values - 4.92s, Calculate Covariance - 0.92s\n",
      "f0,f1,f2 = [9.614255320801764e-09, 9.900880471635226e-09, 5.8908196153206175e-09]\n"
     ]
    },
    {
     "name": "stderr",
     "output_type": "stream",
     "text": [
      "Progress:  96%|█████████▌| 478/500 [2:03:23<05:23, 14.68s/it]"
     ]
    },
    {
     "name": "stdout",
     "output_type": "stream",
     "text": [
      "Time to: Calculate Ground State - 1.69s, Get Pauli Ops - 6.45s, Calculate Pauli Expectation Values - 4.66s, Calculate Covariance - 0.94s\n",
      "f0,f1,f2 = [9.500606194088925e-09, 9.703433148013115e-09, 5.1263239108334395e-09]\n"
     ]
    },
    {
     "name": "stderr",
     "output_type": "stream",
     "text": [
      "Progress:  96%|█████████▌| 479/500 [2:03:38<05:12, 14.90s/it]"
     ]
    },
    {
     "name": "stdout",
     "output_type": "stream",
     "text": [
      "Time to: Calculate Ground State - 1.85s, Get Pauli Ops - 7.54s, Calculate Pauli Expectation Values - 4.83s, Calculate Covariance - 1.19s\n",
      "f0,f1,f2 = [9.559727446698033e-09, 9.303647905377229e-09, 3.716899996541869e-09]\n"
     ]
    },
    {
     "name": "stderr",
     "output_type": "stream",
     "text": [
      "Progress:  96%|█████████▌| 480/500 [2:03:54<05:04, 15.22s/it]"
     ]
    },
    {
     "name": "stdout",
     "output_type": "stream",
     "text": [
      "Time to: Calculate Ground State - 1.83s, Get Pauli Ops - 7.72s, Calculate Pauli Expectation Values - 5.08s, Calculate Covariance - 1.32s\n",
      "f0,f1,f2 = [8.93861070105379e-09, 8.177500905142752e-09, 2.903940762156937e-09]\n"
     ]
    },
    {
     "name": "stderr",
     "output_type": "stream",
     "text": [
      "Progress:  96%|█████████▌| 481/500 [2:04:10<04:52, 15.39s/it]"
     ]
    },
    {
     "name": "stdout",
     "output_type": "stream",
     "text": [
      "Time to: Calculate Ground State - 1.82s, Get Pauli Ops - 7.76s, Calculate Pauli Expectation Values - 4.97s, Calculate Covariance - 1.24s\n",
      "f0,f1,f2 = [6.760295039719123e-09, 8.064976048307256e-09, 2.3533786984211562e-09]\n"
     ]
    },
    {
     "name": "stderr",
     "output_type": "stream",
     "text": [
      "Progress:  96%|█████████▋| 482/500 [2:04:24<04:30, 15.01s/it]"
     ]
    },
    {
     "name": "stdout",
     "output_type": "stream",
     "text": [
      "Time to: Calculate Ground State - 1.85s, Get Pauli Ops - 6.21s, Calculate Pauli Expectation Values - 4.83s, Calculate Covariance - 1.24s\n",
      "f0,f1,f2 = [6.444290667821375e-09, 7.018741979170047e-09, 1.3554075685773526e-09]\n"
     ]
    },
    {
     "name": "stderr",
     "output_type": "stream",
     "text": [
      "Progress:  97%|█████████▋| 483/500 [2:04:38<04:10, 14.74s/it]"
     ]
    },
    {
     "name": "stdout",
     "output_type": "stream",
     "text": [
      "Time to: Calculate Ground State - 1.53s, Get Pauli Ops - 6.65s, Calculate Pauli Expectation Values - 4.77s, Calculate Covariance - 1.15s\n",
      "f0,f1,f2 = [5.041187400156427e-09, 5.553927996313069e-09, 5.439971286123185e-10]\n"
     ]
    },
    {
     "name": "stderr",
     "output_type": "stream",
     "text": [
      "Progress:  97%|█████████▋| 484/500 [2:04:52<03:50, 14.43s/it]"
     ]
    },
    {
     "name": "stdout",
     "output_type": "stream",
     "text": [
      "Time to: Calculate Ground State - 1.31s, Get Pauli Ops - 6.4s, Calculate Pauli Expectation Values - 4.97s, Calculate Covariance - 1.03s\n",
      "f0,f1,f2 = [3.779159609925505e-09, 4.310446398326275e-09, 1.111139268452858e-09]\n"
     ]
    },
    {
     "name": "stderr",
     "output_type": "stream",
     "text": [
      "Progress:  97%|█████████▋| 485/500 [2:05:06<03:34, 14.30s/it]"
     ]
    },
    {
     "name": "stdout",
     "output_type": "stream",
     "text": [
      "Time to: Calculate Ground State - 1.86s, Get Pauli Ops - 6.34s, Calculate Pauli Expectation Values - 4.8s, Calculate Covariance - 1.0s\n",
      "f0,f1,f2 = [3.0326556506279442e-09, 3.4461927569936083e-09, 1.778384830837707e-09]\n"
     ]
    },
    {
     "name": "stderr",
     "output_type": "stream",
     "text": [
      "Progress:  97%|█████████▋| 486/500 [2:05:19<03:17, 14.09s/it]"
     ]
    },
    {
     "name": "stdout",
     "output_type": "stream",
     "text": [
      "Time to: Calculate Ground State - 1.59s, Get Pauli Ops - 5.93s, Calculate Pauli Expectation Values - 4.82s, Calculate Covariance - 1.27s\n",
      "f0,f1,f2 = [2.197751138606922e-09, 2.437155117661484e-09, 2.358521003437093e-09]\n"
     ]
    },
    {
     "name": "stderr",
     "output_type": "stream",
     "text": [
      "Progress:  97%|█████████▋| 487/500 [2:05:33<03:01, 13.98s/it]"
     ]
    },
    {
     "name": "stdout",
     "output_type": "stream",
     "text": [
      "Time to: Calculate Ground State - 1.81s, Get Pauli Ops - 6.22s, Calculate Pauli Expectation Values - 4.82s, Calculate Covariance - 0.87s\n",
      "f0,f1,f2 = [1.9175476723223013e-09, 1.4011339154446396e-09, 2.8187429034125074e-09]\n"
     ]
    },
    {
     "name": "stderr",
     "output_type": "stream",
     "text": [
      "Progress:  98%|█████████▊| 488/500 [2:05:48<02:51, 14.25s/it]"
     ]
    },
    {
     "name": "stdout",
     "output_type": "stream",
     "text": [
      "Time to: Calculate Ground State - 1.85s, Get Pauli Ops - 6.98s, Calculate Pauli Expectation Values - 4.99s, Calculate Covariance - 1.07s\n",
      "f0,f1,f2 = [2.0419328793723786e-09, 1.7470425186911706e-09, 3.74548707884963e-09]\n"
     ]
    },
    {
     "name": "stderr",
     "output_type": "stream",
     "text": [
      "Progress:  98%|█████████▊| 489/500 [2:06:02<02:36, 14.23s/it]"
     ]
    },
    {
     "name": "stdout",
     "output_type": "stream",
     "text": [
      "Time to: Calculate Ground State - 1.85s, Get Pauli Ops - 6.52s, Calculate Pauli Expectation Values - 4.91s, Calculate Covariance - 0.9s\n",
      "f0,f1,f2 = [2.444215621785118e-09, 1.6763217576251395e-09, 4.0247075378195826e-09]\n"
     ]
    },
    {
     "name": "stderr",
     "output_type": "stream",
     "text": [
      "Progress:  98%|█████████▊| 490/500 [2:06:17<02:23, 14.37s/it]"
     ]
    },
    {
     "name": "stdout",
     "output_type": "stream",
     "text": [
      "Time to: Calculate Ground State - 1.5s, Get Pauli Ops - 7.5s, Calculate Pauli Expectation Values - 4.87s, Calculate Covariance - 0.83s\n",
      "f0,f1,f2 = [3.067277936965638e-09, 1.942426818525693e-09, 4.4659846919393915e-09]\n"
     ]
    },
    {
     "name": "stderr",
     "output_type": "stream",
     "text": [
      "Progress:  98%|█████████▊| 491/500 [2:06:31<02:09, 14.43s/it]"
     ]
    },
    {
     "name": "stdout",
     "output_type": "stream",
     "text": [
      "Time to: Calculate Ground State - 1.8s, Get Pauli Ops - 6.99s, Calculate Pauli Expectation Values - 4.92s, Calculate Covariance - 0.87s\n",
      "f0,f1,f2 = [3.0651310105671703e-09, 2.5983698500821195e-09, 4.661453903251013e-09]\n"
     ]
    },
    {
     "name": "stderr",
     "output_type": "stream",
     "text": [
      "Progress:  98%|█████████▊| 492/500 [2:06:47<01:58, 14.76s/it]"
     ]
    },
    {
     "name": "stdout",
     "output_type": "stream",
     "text": [
      "Time to: Calculate Ground State - 1.8s, Get Pauli Ops - 7.88s, Calculate Pauli Expectation Values - 4.81s, Calculate Covariance - 1.02s\n",
      "f0,f1,f2 = [4.007813749967522e-09, 3.0480529713441505e-09, 4.964824902316197e-09]\n"
     ]
    },
    {
     "name": "stderr",
     "output_type": "stream",
     "text": [
      "Progress:  99%|█████████▊| 493/500 [2:07:02<01:44, 14.93s/it]"
     ]
    },
    {
     "name": "stdout",
     "output_type": "stream",
     "text": [
      "Time to: Calculate Ground State - 2.0s, Get Pauli Ops - 6.77s, Calculate Pauli Expectation Values - 5.48s, Calculate Covariance - 1.08s\n",
      "f0,f1,f2 = [4.8501927082313725e-09, 3.1319584222933347e-09, 4.623709998293262e-09]\n"
     ]
    },
    {
     "name": "stderr",
     "output_type": "stream",
     "text": [
      "Progress:  99%|█████████▉| 494/500 [2:07:18<01:30, 15.03s/it]"
     ]
    },
    {
     "name": "stdout",
     "output_type": "stream",
     "text": [
      "Time to: Calculate Ground State - 1.96s, Get Pauli Ops - 7.11s, Calculate Pauli Expectation Values - 5.24s, Calculate Covariance - 0.97s\n",
      "f0,f1,f2 = [3.900739869084338e-09, 4.001149117870136e-09, 5.5735452660454855e-09]\n"
     ]
    },
    {
     "name": "stderr",
     "output_type": "stream",
     "text": [
      "Progress:  99%|█████████▉| 495/500 [2:07:33<01:16, 15.21s/it]"
     ]
    },
    {
     "name": "stdout",
     "output_type": "stream",
     "text": [
      "Time to: Calculate Ground State - 1.9s, Get Pauli Ops - 7.29s, Calculate Pauli Expectation Values - 5.31s, Calculate Covariance - 1.11s\n",
      "f0,f1,f2 = [4.370262533448211e-09, 4.1586571434689915e-09, 5.778161165331932e-09]\n"
     ]
    },
    {
     "name": "stderr",
     "output_type": "stream",
     "text": [
      "Progress:  99%|█████████▉| 496/500 [2:07:47<00:59, 14.91s/it]"
     ]
    },
    {
     "name": "stdout",
     "output_type": "stream",
     "text": [
      "Time to: Calculate Ground State - 1.8s, Get Pauli Ops - 6.36s, Calculate Pauli Expectation Values - 5.03s, Calculate Covariance - 1.03s\n",
      "f0,f1,f2 = [4.673379406842511e-09, 4.38368569280439e-09, 5.727002174516017e-09]\n"
     ]
    },
    {
     "name": "stderr",
     "output_type": "stream",
     "text": [
      "Progress:  99%|█████████▉| 497/500 [2:08:03<00:45, 15.04s/it]"
     ]
    },
    {
     "name": "stdout",
     "output_type": "stream",
     "text": [
      "Time to: Calculate Ground State - 1.27s, Get Pauli Ops - 7.82s, Calculate Pauli Expectation Values - 5.19s, Calculate Covariance - 1.05s\n",
      "f0,f1,f2 = [4.961500294921322e-09, 4.7993915185101394e-09, 6.237717612382021e-09]\n"
     ]
    },
    {
     "name": "stderr",
     "output_type": "stream",
     "text": [
      "Progress: 100%|█████████▉| 498/500 [2:08:19<00:30, 15.29s/it]"
     ]
    },
    {
     "name": "stdout",
     "output_type": "stream",
     "text": [
      "Time to: Calculate Ground State - 1.92s, Get Pauli Ops - 7.82s, Calculate Pauli Expectation Values - 5.3s, Calculate Covariance - 0.83s\n",
      "f0,f1,f2 = [5.357914929077727e-09, 4.359818502619958e-09, 5.470938658677771e-09]\n"
     ]
    },
    {
     "name": "stderr",
     "output_type": "stream",
     "text": [
      "Progress: 100%|█████████▉| 499/500 [2:08:34<00:15, 15.41s/it]"
     ]
    },
    {
     "name": "stdout",
     "output_type": "stream",
     "text": [
      "Time to: Calculate Ground State - 1.89s, Get Pauli Ops - 7.69s, Calculate Pauli Expectation Values - 5.35s, Calculate Covariance - 0.75s\n",
      "f0,f1,f2 = [4.9406419396492485e-09, 4.647584392707191e-09, 5.919373061993263e-09]\n"
     ]
    },
    {
     "name": "stderr",
     "output_type": "stream",
     "text": [
      "Progress: 100%|██████████| 500/500 [2:08:49<00:00, 15.46s/it]"
     ]
    },
    {
     "name": "stdout",
     "output_type": "stream",
     "text": [
      "Time to: Calculate Ground State - 1.79s, Get Pauli Ops - 6.42s, Calculate Pauli Expectation Values - 5.24s, Calculate Covariance - 0.98s\n",
      "f0,f1,f2 = [4.8230416275161106e-09, 5.206808726301833e-09, 6.395089496894961e-09]\n"
     ]
    },
    {
     "name": "stderr",
     "output_type": "stream",
     "text": [
      "\n"
     ]
    },
    {
     "data": {
      "image/png": "[encoded data removed]",
      "text/plain": [
       "<Figure size 640x480 with 1 Axes>"
      ]
     },
     "metadata": {},
     "output_type": "display_data"
    }
   ],
   "source": [
    "from matplotlib import pyplot as plt\n",
    "(distance01,distance02,distance12,times) = main()\n",
    "\n",
    "np_distance01 = np.array(distance01)\n",
    "np_distance02 = np.array(distance02)\n",
    "np_distance12 = np.array(distance12)\n",
    "\n",
    "plt.plot(times,np_distance01[:-1],label = 'd01')\n",
    "plt.plot(times,np_distance02[:-1],label = 'd02')\n",
    "plt.plot(times,np_distance12[:-1],label = 'd12')\n",
    "\n",
    "plt.title('Distances at time t')\n",
    "plt.xlabel('Time')\n",
    "plt.ylabel('Distance')\n",
    "plt.legend()\n",
    "plt.show()"
   ]
  },
  {
   "cell_type": "code",
   "execution_count": null,
   "id": "885910be",
   "metadata": {},
   "outputs": [],
   "source": []
  }
 ],
 "metadata": {
  "kernelspec": {
   "display_name": "Python 3 (ipykernel)",
   "language": "python",
   "name": "python3"
  },
  "language_info": {
   "codemirror_mode": {
    "name": "ipython",
    "version": 3
   },
   "file_extension": ".py",
   "mimetype": "text/x-python",
   "name": "python",
   "nbconvert_exporter": "python",
   "pygments_lexer": "ipython3",
   "version": "3.9.15"
  }
 },
 "nbformat": 4,
 "nbformat_minor": 5
}
