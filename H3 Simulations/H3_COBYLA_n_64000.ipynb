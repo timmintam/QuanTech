{
 "cells": [
  {
   "cell_type": "code",
   "execution_count": 1,
   "id": "fbc296ce",
   "metadata": {},
   "outputs": [],
   "source": [
    "import numpy as np\n",
    "import matplotlib.pyplot as plt\n",
    "\n",
    "from pyscf import ao2mo,gto, scf\n",
    "\n",
    "from typing import Tuple\n",
    "\n",
    "\n",
    "# qiskit\n",
    "from qiskit.algorithms import VQE\n",
    "from qiskit.algorithms.optimizers import COBYLA, SPSA, SLSQP, NELDER_MEAD\n",
    "from qiskit.algorithms import MinimumEigensolverResult\n",
    "\n",
    "from qiskit import IBMQ, BasicAer, Aer\n",
    "from qiskit.utils import QuantumInstance\n",
    "from qiskit.quantum_info.operators import Operator\n",
    "from qiskit.opflow import PauliExpectation, CircuitSampler, StateFn, CircuitStateFn\n",
    "from qiskit.opflow.primitive_ops import PauliOp, PauliSumOp\n",
    "from qiskit.quantum_info import Pauli, SparsePauliOp\n",
    "\n",
    "# qiskit nature\n",
    "from qiskit_nature.second_q.hamiltonians import ElectronicEnergy\n",
    "from qiskit_nature.second_q.mappers import ParityMapper, QubitConverter\n",
    "from qiskit_nature.second_q.problems import ElectronicStructureProblem\n",
    "from qiskit_nature.second_q.operators import FermionicOp\n",
    "from qiskit_nature.second_q.properties import ParticleNumber\n",
    "from qiskit_nature.second_q.transformers import FreezeCoreTransformer\n",
    "from qiskit_nature.second_q.circuit.library import UCCSD, HartreeFock\n",
    "from qiskit_nature.second_q.problems import ElectronicBasis\n",
    "from qiskit_nature.second_q.formats.molecule_info import MoleculeInfo\n",
    "from qiskit_nature.drivers import Molecule\n",
    "from qiskit_nature.drivers.second_quantization import (\n",
    "    ElectronicStructureMoleculeDriver, ElectronicStructureDriverType)\n",
    "\n",
    "from qiskit_nature.settings import settings\n",
    "settings.dict_aux_operators = True\n",
    "\n",
    "#from qiskit import IBMQ\n",
    "#from qiskit_nature.runtime import VQEClient\n",
    "#from qiskit.providers.ibmq import least_busy\n",
    "#from qiskit_ibm_runtime import QiskitRuntimeService, Estimator, Session\n",
    "\n",
    "# useful??\n",
    "#from qiskit_nature.algorithms import (GroundStateEigensolver,\n",
    "#                                      NumPyMinimumEigensolverFactory)\n",
    "from qiskit.circuit.library import EfficientSU2\n",
    "from qiskit.circuit.library import RealAmplitudes\n",
    "from qiskit.utils.mitigation import CompleteMeasFitter\n",
    "from qiskit.providers.aer.noise import NoiseModel\n",
    "from qiskit.providers.aer import QasmSimulator\n",
    "from qiskit import QuantumCircuit, transpile\n",
    "from qiskit.opflow import TwoQubitReduction\n",
    "\n",
    "def get_molecular_integrals(molecule):\n",
    "    '''\n",
    "    Calculates the 1-electron and 2-electron integrals.\n",
    "    \n",
    "    Args:   \n",
    "        molecule : Mole \n",
    "            Ccorresponds to the molecule.\n",
    "            \n",
    "    Returns:\n",
    "        h1_MO : ndarray\n",
    "                Tensor corresponding to the 1-electron integral in the molecular basis.\n",
    "        \n",
    "        h2_MO : ndarray\n",
    "                Tensor corresponding to the 2-electron integral in the molecular basis.\n",
    "\n",
    "        n_particles: Tuple[int, int]\n",
    "            Number of alpha and beta electrons.\n",
    "        \n",
    "        num_orb : int \n",
    "            Number of orbitals.\n",
    "\n",
    "        nuclear_repulsion_energy : float\n",
    "            Nuclear repulsion energy.\n",
    "    '''\n",
    "    \n",
    "    mf = scf.RHF(molecule).run()\n",
    "\n",
    "    # computing the 1e and 2e AO (atomic orbitals) integrals \n",
    "    h1 = molecule.intor_symmetric(\"int1e_nuc\") + molecule.intor_symmetric(\"int1e_kin\") \n",
    "    h2 = molecule.intor(\"int2e\")\n",
    "    # comment : add aosym (axis of symmetry) ???\n",
    "\n",
    "    # transformations from AO to MO (molecular orbitals)\n",
    "    h1_MO = np.einsum('pi,pq,qj->ij', mf.mo_coeff, h1, mf.mo_coeff)\n",
    "    h2_MO = ao2mo.get_mo_eri(h2, mf.mo_coeff)\n",
    "\n",
    "    #h2_MO = ao2mo.kernel(mol_h2, mf.mo_coeff, aosym=\"1\") #alternative\n",
    "\n",
    "    nuclear_repulsion_energy=molecule.energy_nuc()\n",
    "    num_particles = molecule.nelec\n",
    "    num_orb = h1.shape[0]\n",
    "\n",
    "    return h1_MO, h2_MO, num_particles, num_orb, nuclear_repulsion_energy\n",
    "\n",
    "\n",
    "def get_qubit_op(coordinates):\n",
    "    '''\n",
    "    Calculates the Hamiltonian as the sum of Pauli operators as a function\n",
    "    of the coordinates of the atoms.\n",
    "    \n",
    "    Args:\n",
    "        coordinates : ndarray\n",
    "            Array containing the positions of the atoms constituing the molecule.\n",
    "        \n",
    "    \n",
    "    Returns:\n",
    "        qubit_op : PauliSumOp\n",
    "            Sum of Pauli operators corresponding to the Hamiltonian.\n",
    "        \n",
    "        nelec : Tuple[int, int]\n",
    "            Number of alpha and beta electrons.\n",
    "        \n",
    "        norb : int \n",
    "            Number of orbitals.\n",
    "            \n",
    "        problem : ElectronicStructureProblem\n",
    "        \n",
    "        converter : QubitConverter\n",
    "    '''\n",
    "    \n",
    "    mol = gto.M(\n",
    "                atom = [['H',(coordinates[0], coordinates[1], 0.0)], \n",
    "                        ['H',(coordinates[2], coordinates[3], 0.0)],\n",
    "                        ['H',(coordinates[4], coordinates[5], 0.0)]],\n",
    "                basis = 'sto3g',\n",
    "                charge = 1,\n",
    "                spin = 0,\n",
    "                symmetry = True,\n",
    "                verbose = 2 # control the print level of PySCF globally\n",
    "    )\n",
    "\n",
    "    h1_MO,h2_MO,nelec,norb,ecore = get_molecular_integrals(mol)\n",
    "\n",
    "    # Define an ElectronicEnergy instance containing the 1e and 2e integrals\n",
    "    electronic_energy = ElectronicEnergy.from_raw_integrals(\n",
    "            h1_MO, ao2mo.restore(1, h2_MO, norb)\n",
    "        )\n",
    "    electronic_energy.nuclear_repulsion_energy = ecore\n",
    "\n",
    "    # Define an ElectronicStructureProblem\n",
    "    problem = ElectronicStructureProblem(electronic_energy)\n",
    "\n",
    "    second_q_ops = problem.second_q_ops()     # get second quantized operators\n",
    "    problem.num_spatial_orbitals = norb  # define number of orbitals\n",
    "    problem.num_particles = nelec        # define number of particles \n",
    "    \n",
    "    problem.basis = ElectronicBasis.MO \n",
    "    \n",
    "    problem.molecule=MoleculeInfo(symbols=[mol.atom_symbol(i) for i in range(mol.nbas)], \n",
    "                                  coords=mol.atom_coords())\n",
    "    FC_transformer=FreezeCoreTransformer(freeze_core=True)\n",
    "    problem = FC_transformer.transform(problem)\n",
    "    \n",
    "    # TODO we need to give info about the molecule to use FreezeCoreTransformer \n",
    "    # question : how to do it in a smart way ? at the initialization ??\n",
    "    \n",
    "    hamiltonian = second_q_ops[0]  # Set electronic part of Hamiltonian\n",
    "    hamiltonian = (hamiltonian + FermionicOp({\"\": ecore}, num_spin_orbitals=norb)) # add Nuclear Repulsion Energy\n",
    "    #print(\"Hamiltonian :\\n\", hamiltonian) # print for checking purposes\n",
    "    \n",
    "    mapper = ParityMapper()  # Set Mapper\n",
    "    \n",
    "    # Do two qubit reduction\n",
    "    converter = QubitConverter(mapper,two_qubit_reduction=True)\n",
    "    qubit_op = converter.convert(hamiltonian, nelec)\n",
    "    #print(\"q_op :\\n\", qubit_op) # print for checking purposes\n",
    "    \n",
    "\n",
    "    return qubit_op, nelec, norb, problem, converter\n",
    "\n",
    "def calc_ground_state(qubit_op,nelec,norb,problem,converter) :\n",
    "    '''\n",
    "    Calculates the ground state and the ground energy of the Hamiltonian.\n",
    "    \n",
    "    Args:\n",
    "        qubit_op : PauliSumOp\n",
    "            Sum of Pauli operators corresponding to the Hamiltonian.\n",
    "        \n",
    "        nelec : Tuple[int, int]\n",
    "            Number of alpha and beta electrons.\n",
    "        \n",
    "        norb : int \n",
    "            Number of orbitals.\n",
    "            \n",
    "        problem : ElectronicStructureProblem\n",
    "        \n",
    "        converter : QubitConverter\n",
    "        \n",
    "    \n",
    "    Returns:\n",
    "        ground_state : CircuitStateFn\n",
    "            Ground state of the Hamiltonian.\n",
    "            \n",
    "        min_eng : float\n",
    "            Ground energy of the Hamiltonian.\n",
    "    '''\n",
    "\n",
    "    backend = BasicAer.get_backend(\"statevector_simulator\")\n",
    "    quantum_instance = QuantumInstance(backend)\n",
    "    optimizer = SLSQP(maxiter=400)\n",
    "\n",
    "    init_state = HartreeFock(num_spatial_orbitals=norb, \n",
    "                                num_particles=nelec, \n",
    "                                qubit_converter=converter\n",
    "                            )\n",
    "    \n",
    "    var_form = UCCSD(qubit_converter=converter,\n",
    "                        num_particles=nelec,\n",
    "                        num_spatial_orbitals=norb, \n",
    "                        initial_state=init_state\n",
    "                        )\n",
    "\n",
    "    vqe = VQE(var_form, optimizer, quantum_instance=quantum_instance) \n",
    "    vqe_result = vqe.compute_minimum_eigenvalue(qubit_op)\n",
    "    min_eng = vqe_result.eigenvalue.real\n",
    "    final_params = vqe_result.optimal_parameters \n",
    "\n",
    "    vqe_ground = vqe.ansatz.bind_parameters(final_params) \n",
    "#     vqe_ground_state = CircuitStateFn(vqe_ground)\n",
    "    \n",
    "    return vqe_ground, min_eng"
   ]
  },
  {
   "cell_type": "code",
   "execution_count": 2,
   "id": "3f5daa79",
   "metadata": {},
   "outputs": [],
   "source": [
    "Ha = 4.36e-18\n",
    "angst = 1.0e-10\n",
    "dR = 0.01 #removed the angst, since coordinates are given in angst\n",
    "\n",
    "\n",
    "from qiskit.opflow import I, X, Y, Z\n",
    "from qiskit.opflow.primitive_ops import PauliOp\n",
    "from qiskit.quantum_info import Pauli\n",
    "#from hamiltonian import calc_ground_state, get_qubit_op\n",
    "import numpy as np\n",
    "from qiskit.utils import QuantumInstance\n",
    "from qiskit.opflow import PauliExpectation, CircuitSampler, StateFn, CircuitStateFn\n",
    "from qiskit import IBMQ, BasicAer, Aer\n",
    "\n",
    "import time #to see which part of code takes the longest\n",
    "import multiprocessing\n",
    "\n",
    "\n",
    "#calculate centre of mass (currently for equal particle masses)\n",
    "def calc_COM(coordinates):\n",
    "    #print(coordinates)\n",
    "    r_array = np.array_split(coordinates,3)\n",
    "    COM = (r_array[0] + r_array[1] + r_array[2])/3\n",
    "    \n",
    "    return COM\n",
    "\n",
    "#task to calculate expectation value\n",
    "def task1(string, q_instance, psi_0):\n",
    "\n",
    "    Obs = PauliOp(Pauli(string))\n",
    "    measurable_expression = StateFn(Obs, is_measurement=True).compose(psi_0)\n",
    "    expectation = PauliExpectation().convert(measurable_expression)  \n",
    "    sampler = CircuitSampler(q_instance).convert(expectation) \n",
    "    E = sampler.eval().real\n",
    "        \n",
    "    return E\n",
    "\n",
    "#task to calculate operator from coordinates\n",
    "def task2(coordinates):\n",
    "    \n",
    "    #get qubit operators coresponding to H+ (hamiltonian for atomic distances R + dR)\n",
    "    (qubit_op_plus, num_part_plus, num_orb_plus, problem_plus, converter_plus) = get_qubit_op(coordinates[0])\n",
    "    #get qubit operators coresponding to H- (hamiltonian for atomic distances R - dR)\n",
    "    (qubit_op_minus, num_part_minus, num_orb_minus, problem_minus, converter_minus) = get_qubit_op(coordinates[1])\n",
    "        \n",
    "    qubit_op_plus = qubit_op_plus #TODO:number of I's needs to be changed according to number of qubits\n",
    "    qubit_op_minus = qubit_op_minus\n",
    "       \n",
    "    #op =  (-(qubit_op_plus - qubit_op_minus)).reduce()\n",
    "    op =  -(qubit_op_plus - qubit_op_minus)\n",
    "\n",
    "                    \n",
    "    op_list = op.primitive.to_list() #list containing Pauli operators in support and corresponding coeffs\n",
    "    #print(op_list)    \n",
    "    #construct dict from list\n",
    "    op_dict = {}\n",
    "    for (PauliString,coeff) in op_list:\n",
    "\n",
    "        if PauliString in op_dict:\n",
    "            op_dict[PauliString] += coeff\n",
    "        else:\n",
    "            op_dict[PauliString] = coeff\n",
    "    \n",
    "    return op, op_dict\n",
    " \n",
    "def parallel_operators(coordinates,basis_set):\n",
    "    \n",
    "    \n",
    "    coordinate_list = []\n",
    "    \n",
    "    v0_normed = basis_set[0]\n",
    "    v0_orth = basis_set[1]\n",
    "    \n",
    "    v1_normed = basis_set[2]\n",
    "    v1_orth = basis_set[3]\n",
    "\n",
    "    v2_normed = basis_set[4]\n",
    "    v2_orth = basis_set[5]\n",
    "    \n",
    "    displ_coords_0_a = np.array([v0_normed[0]*dR,v0_normed[1]*dR,0,0,0,0])\n",
    "    displ_coords_0_b = np.array([v0_orth[0]*dR,v0_orth[1]*dR,0,0,0,0])\n",
    "    displ_coords_1_a = np.array([0,0,v1_normed[0]*dR,v1_normed[1]*dR,0,0])\n",
    "    displ_coords_1_b = np.array([0,0,v1_orth[0]*dR,v1_orth[1]*dR,0,0])\n",
    "    displ_coords_2_a = np.array([0,0,0,0,v2_normed[0]*dR,v2_normed[1]*dR])\n",
    "    displ_coords_2_b = np.array([0,0,0,0,v2_orth[0]*dR,v2_orth[1]*dR])\n",
    "\n",
    "    coordinate_list.append([coordinates + displ_coords_0_a,coordinates - displ_coords_0_a])\n",
    "    coordinate_list.append([coordinates + displ_coords_0_b,coordinates - displ_coords_0_b])\n",
    "    coordinate_list.append([coordinates + displ_coords_1_a,coordinates - displ_coords_1_a])\n",
    "    coordinate_list.append([coordinates + displ_coords_1_b,coordinates - displ_coords_1_b])\n",
    "    coordinate_list.append([coordinates + displ_coords_2_a,coordinates - displ_coords_2_a])\n",
    "    coordinate_list.append([coordinates + displ_coords_2_b,coordinates - displ_coords_2_b])\n",
    "    \n",
    "    #dR_list = v0_normed.tolist() + v1_normed.tolist() + v2_normed.tolist()\n",
    "    \n",
    "    dR_list = [dR,dR,dR,dR,dR,dR]\n",
    "    #print(dR_list)\n",
    "    #for i in range(len(coordinates)):\n",
    "        \n",
    "        #coordinate_list.append([coordinates[0:i]+[(coordinates[i]+dR_list[i])]+coordinates[i+1:],coordinates[0:i]+[(coordinates[i]-dR_list[i])]+coordinates[i+1:]])\n",
    "    \n",
    "    #print(coordinate_list)\n",
    "    with multiprocessing.Pool() as pool:\n",
    "         ops,op_coeffs = zip(*pool.map(task2, coordinate_list))\n",
    "    \n",
    "    #print(ops)\n",
    "    return ops, op_coeffs\n",
    "\n",
    "def sequential_operators(coordinates):\n",
    "    ops = []\n",
    "    op_coeffs = []\n",
    "    \n",
    "    for i in range(len(coordinates)):\n",
    "        \n",
    "        #get qubit operators coresponding to H+ (hamiltonian for atomic distances R + dR)\n",
    "        (qubit_op_plus, num_part_plus, num_orb_plus, problem_plus, converter_plus) = get_qubit_op(coordinates[0:i]+[(coordinates[i]+dR)]+coordinates[i+1:])\n",
    "        #get qubit operators coresponding to H- (hamiltonian for atomic distances R - dR)\n",
    "        (qubit_op_minus, num_part_minus, num_orb_minus, problem_minus, converter_minus) = get_qubit_op(coordinates[0:i]+[(coordinates[i]-dR)]+coordinates[i+1:])\n",
    "\n",
    "        rep_eng_plus = problem_plus.grouped_property_transformed.get_property(\"ElectronicEnergy\").nuclear_repulsion_energy\n",
    "        rep_eng_minus  = problem_minus.grouped_property_transformed.get_property(\"ElectronicEnergy\").nuclear_repulsion_energy\n",
    "        \n",
    "        qubit_op_plus = qubit_op_plus + rep_eng_plus*(I^I^I^I) #TODO:number of I's needs to be changed according to number of qubits\n",
    "        qubit_op_minus = qubit_op_minus + rep_eng_minus*(I^I^I^I)\n",
    "        \n",
    "       \n",
    "        op =  -(qubit_op_plus - qubit_op_minus).reduce()\n",
    "                    \n",
    "        op_list = op.primitive.to_list() #list containing Pauli operators in support and corresponding coeffs\n",
    "        \n",
    "        #construct dict from list\n",
    "        op_dict = {}\n",
    "        for (PauliString,coeff) in op_list:\n",
    "\n",
    "            if PauliString in op_dict:\n",
    "                op_dict[PauliString] += coeff\n",
    "            else:\n",
    "                op_dict[PauliString] = coeff\n",
    "                \n",
    "        ops.append(op)\n",
    "        op_coeffs.append(op_dict)\n",
    "    #print(ops)\n",
    "    return ops, op_coeffs\n",
    "\n",
    "def parallel_expectations(exp_dict, op_set, q_instance, psi_0):\n",
    "\n",
    "    triples = []\n",
    "    for op in op_set:\n",
    "        triple = (op,q_instance,psi_0)\n",
    "        triples.append(triple)\n",
    "\n",
    "    Es = 0\n",
    "    with multiprocessing.Pool() as pool:\n",
    "        Es = pool.starmap(task1, triples)\n",
    "\n",
    "    for i in range(len(Es)):\n",
    "        exp_dict[triples[i][0]]=Es[i]\n",
    "\n",
    "    return 0\n",
    "\n",
    "def sequential_expectations(exp_dict, op_set, q_instance, psi_0):\n",
    "\n",
    "    for pauli_string in op_set:\n",
    "        \n",
    "        Obs = PauliOp(Pauli(pauli_string))\n",
    "        measurable_expression = StateFn(Obs, is_measurement=True).compose(psi_0)\n",
    "        expectation = PauliExpectation().convert(measurable_expression)  \n",
    "        sampler = CircuitSampler(q_instance).convert(expectation) \n",
    "        E = sampler.eval().real\n",
    "        exp_dict[pauli_string] = E\n",
    "\n",
    "    return 0\n",
    "\n",
    "def get_psi_0(coordinates, simulator='qasm',shots=1028):\n",
    "\n",
    "    #get qubit operator corresponding to H(R)\n",
    "    (qubit_op, num_part, num_orb, problem, converter) = get_qubit_op(coordinates)\n",
    "    \n",
    "    #get the ground state of H(R)\n",
    "    psi_0,_ = calc_ground_state(qubit_op,num_part, num_orb, problem, converter)\n",
    "    \n",
    "    psi_0 = CircuitStateFn(psi_0)\n",
    "\n",
    "    return psi_0\n",
    "\n",
    "def calc_force_and_cov(coordinates, simulator = 'qasm', PauliSet = None, mode = 'full', shots = 128, basis_set_this=None):\n",
    "  \n",
    "    \n",
    "    if simulator == 'qasm':\n",
    "            backend = Aer.get_backend('qasm_simulator')\n",
    "            #backend.set_options(max_job_size=1, executor = euler_client)\n",
    "            q_instance = QuantumInstance(backend, shots=shots)\n",
    "    elif simulator == \"exact\":\n",
    "            backend = BasicAer.get_backend(\"statevector_simulator\")\n",
    "            q_instance = QuantumInstance(backend)\n",
    "    else:\n",
    "        print('Error: simulator should be qasm or exact!')\n",
    "        \n",
    "    num_coord = len(coordinates)   \n",
    "    \n",
    "    start = time.time()\n",
    "    \n",
    "\n",
    "    psi_0 = get_psi_0(coordinates, simulator = simulator, shots=shots)\n",
    "    \n",
    "    end = time.time()\n",
    "    \n",
    "    \n",
    "    time_psi_0 = end - start\n",
    "    #print(\"Took \" + str(time_psi_0) + \" s to calculate the ground state\")\n",
    "    forces = np.zeros(num_coord)\n",
    "    coordinates = coordinates.tolist()\n",
    "    \n",
    "    \n",
    "    coordinates_this = np.array(coordinates)\n",
    "    COM = calc_COM(coordinates_this)\n",
    "    coords = np.array_split(coordinates_this,3)\n",
    "    #print(coords)\n",
    "    #print(COM)\n",
    "    v0 = coords[0] - COM\n",
    "    v1 = coords[1] - COM\n",
    "    v2 = coords[2] - COM\n",
    "    \n",
    "    v0_normed = np.array(v0/np.sqrt(v0[0]**2+v0[1]**2))\n",
    "    v0_orth = np.array([v0_normed[1],-v0_normed[0]])\n",
    "    \n",
    "    v1_normed = np.array(v1/np.sqrt(v1[0]**2+v1[1]**2))\n",
    "    v1_orth = np.array([v1_normed[1],-v1_normed[0]])\n",
    "\n",
    "    v2_normed = np.array(v2/np.sqrt(v2[0]**2+v2[1]**2))\n",
    "    v2_orth = np.array([v2_normed[1],-v2_normed[0]])\n",
    "    \n",
    "    basis_set = [v0_normed,v0_orth,v1_normed,v1_orth,v2_normed,v2_orth]\n",
    "    #basis_set = basis_set_this\n",
    "\n",
    "    transform_matrix = np.array([[basis_set[0][0],basis_set[1][0],0,0,0,0],\n",
    "                                 [basis_set[0][1],basis_set[1][1],0,0,0,0],\n",
    "                                 [0,0,basis_set[2][0],basis_set[3][0],0,0],\n",
    "                                 [0,0,basis_set[2][1],basis_set[3][1],0,0],\n",
    "                                 [0,0,0,0,basis_set[4][0],basis_set[5][0]],\n",
    "                                 [0,0,0,0,basis_set[4][1],basis_set[5][1]]])\n",
    "    \n",
    "    transform_matrix_inv = np.linalg.inv(transform_matrix)\n",
    "    \n",
    "    start = time.time()\n",
    "    #get force component operators and decomposition (without the 1/(2*dR) factor, for numerical reasons)\n",
    "    #replace parallel_ with sequential_ to see effect of parallelization\n",
    "    force_ops,force_op_coeffs = parallel_operators(coordinates,basis_set)\n",
    "    \n",
    "    #for ops in force_ops:\n",
    "        #print(len(ops))\n",
    "        \n",
    "    P1 = force_ops[0]\n",
    "    \n",
    "    if PauliSet == None:\n",
    "        \n",
    "        pauli_op_set = {'IIII'} #Could not initialize empty set for some reason\n",
    "        # construct set of PauliOp products that we need to calculate\n",
    "\n",
    "        for PauliString,coeff in force_op_coeffs[0].items():\n",
    "            pauli_op_set.add(PauliString)\n",
    "\n",
    "        #to get set of necessary PauliOp products:\n",
    "        \n",
    "            P_prod = (P1@P1)\n",
    "            P_list = P_prod.primitive.to_list()\n",
    "\n",
    "            for (PauliString,coeff) in P_list:\n",
    "                pauli_op_set.add(PauliString)\n",
    "                \n",
    "    else: pauli_op_set = PauliSet\n",
    "        \n",
    "    end = time.time()\n",
    "    \n",
    "    time_pauli_ops = end - start\n",
    "        \n",
    "\n",
    "        # Now we calculate the expectation values of all the relevant PauliOps\n",
    "    \n",
    "    start = time.time()\n",
    "    exp_dict = {} # dictionary with relevant expectation values\n",
    "        \n",
    "    #switch between parallel_ and sequential_ to see the effect\n",
    "    \n",
    "    parallel_expectations(exp_dict,pauli_op_set,q_instance,psi_0)\n",
    "    \n",
    "\n",
    "    for i in range(len(coordinates)):\n",
    "        for pauli_op,coeff in force_op_coeffs[i].items():\n",
    "            forces[i] += coeff.real*exp_dict[pauli_op]\n",
    "    \n",
    "    #forces[1] = 0\n",
    "    #forces[3] = 0\n",
    "    #forces[5] = 0\n",
    "    forces_return = np.matmul(transform_matrix,np.array(forces))\n",
    "    #print(forces)\n",
    "            \n",
    "    end = time.time()   \n",
    "    time_calc_exp = end - start\n",
    "    \n",
    "    \n",
    "    start = time.time()\n",
    "    COV = np.zeros((num_coord,num_coord)) #force covariance matrix, without some multiplicative factors. \n",
    "        \n",
    "    for i in range(num_coord):\n",
    "        for j in range(i,num_coord):\n",
    "\n",
    "            Pij = force_ops[i]@force_ops[j]\n",
    "            Pij_list = Pij.primitive.to_list()\n",
    "\n",
    "            #add product expectation \n",
    "            for (pauli_string,coeff) in Pij_list:\n",
    "                COV[i,j] += coeff.real*exp_dict[pauli_string]\n",
    "                    #subtract \n",
    "            COV[i,j] -= forces[i]*forces[j]\n",
    "\n",
    "            #since COV is symmetric\n",
    "            #if (i,j) != (0,0) and (i,j) != (2,2) and (i,j) != (4,4) and (i,j) != (0,2) and (i,j) != (0,4) and (i,j) != (2,0) and (i,j) != (2,4) and (i,j) != (4,0) and (i,j) != (4,2):\n",
    "                #print(\"here\")\n",
    "                #print((i,j))\n",
    "             #   COV[i,j] = 0\n",
    "            \n",
    "            if i < j:\n",
    "                COV[j,i] = COV[i,j]\n",
    "            \n",
    "            \n",
    "                \n",
    "    #print(COV)            \n",
    "    end = time.time()\n",
    "    COV_1 = np.matmul(COV,transform_matrix)\n",
    "    COV_2 = np.matmul(transform_matrix_inv,COV_1)\n",
    "    COV_return = COV_2\n",
    "    time_cov = end - start\n",
    "\n",
    "    print(f'Time to: Calculate Ground State - {round(time_psi_0,2)}s, Get Pauli Ops - {round(time_pauli_ops,2)}s, Calculate Pauli Expectation Values - {round(time_calc_exp,2)}s, Calculate Covariance - {round(time_cov,2)}s')\n",
    "    #print(COV)\n",
    "    \n",
    "    return forces_return*Ha*(1/(2*dR*angst)),COV_return*(Ha*(1/(2*dR*angst)))**2"
   ]
  },
  {
   "cell_type": "code",
   "execution_count": 3,
   "id": "5ae5fde0",
   "metadata": {},
   "outputs": [],
   "source": [
    "#from Quantech.verlet_integrator import distance\n",
    "#from force import calc_force_and_cov\n",
    "import numpy as np\n",
    "from tqdm import tqdm #to show progress\n",
    "\n",
    "\n",
    "#implementation of the explicit Euler integrator\n",
    "femto = 1.0e-15\n",
    "angst = 1.0e-10\n",
    "\n",
    "def calc_COM(coordinates):\n",
    "    #print(coordinates)\n",
    "    r_array = np.array_split(coordinates,3)\n",
    "    COM = (r_array[0] + r_array[1] + r_array[2])/3\n",
    "    \n",
    "    return COM\n",
    "\n",
    "def distance(coordinates1,coordinates2):\n",
    "    return np.sqrt(np.power((coordinates1[0] - coordinates2[0]),2) + np.power((coordinates1[1] - coordinates2[1]),2))\n",
    "    \n",
    "\n",
    "\n",
    "def main():\n",
    "    \n",
    "    f = open(\"h3_rotated_basis_n_64000_raw.txt\",\"w\")\n",
    "    \n",
    "    #mass of particle1 (H)\n",
    "    mass_0 = 1.67e-27\n",
    "    #mass of particle2 (H)\n",
    "    mass_1 = 1.67e-27\n",
    "    #mass of particle3 (H)\n",
    "    mass_2 = 1.67e-27\n",
    "    #time step of integrator\n",
    "    dt = 0.2*femto\n",
    "    #initial velocity of atoms\n",
    "    \n",
    "    v_init_0 = np.array([0,0])\n",
    "    v_init_1 = np.array([0,0])\n",
    "    v_init_2 = np.array([0,0])\n",
    "\n",
    "    v_init = np.concatenate((v_init_0,v_init_1,v_init_2),axis=None)\n",
    "\n",
    "    #distances between atoms\n",
    "    d = 0.8\n",
    "    #rotation angle of the initial triangle\n",
    "    b = 0/180*np.pi\n",
    "    \n",
    "    #initial positions of atoms, arrangement = equilateral triangle\n",
    "    x1_init = np.array([-d/2*np.cos(b)+np.sin(b)*np.sqrt(3)/6*d,-d/2*np.sin(b)-np.cos(b)*np.sqrt(3)/6*d])+np.array([0,d*np.sqrt(3)/6])\n",
    "    x2_init = np.array([d/2*np.cos(b)+np.sin(b)*np.sqrt(3)/6*d,d/2*np.sin(b)-np.cos(b)*np.sqrt(3)/6*d])+np.array([0,d*np.sqrt(3)/6])\n",
    "    x3_init = np.array([-np.sin(b)*np.sqrt(3)/3*d,np.cos(b)*np.sqrt(3)/3*d])+np.array([0,d*np.sqrt(3)/6])\n",
    "    \n",
    "    \n",
    "    init_pos0 = x1_init\n",
    "    init_pos1 = x2_init\n",
    "    init_pos2 = x3_init\n",
    "    \n",
    "    #print(distance(init_pos0,init_pos1))\n",
    "    #print(distance(init_pos0,init_pos2))\n",
    "    #print(distance(init_pos1,init_pos2))\n",
    "    \n",
    "    init_pos = np.concatenate((init_pos0,init_pos1,init_pos2),axis=None)\n",
    "\n",
    "    #integrator timesteps\n",
    "    timeB = 0\n",
    "    timeE = 60\n",
    "    times = np.arange(timeB*femto, timeE*femto, dt)\n",
    "    #print(times)\n",
    "    #coordinate array\n",
    "    coords = [init_pos]\n",
    "    force = []\n",
    "    distance01 = [d]\n",
    "    distance02 = [d]\n",
    "    distance12 = [d]\n",
    "    #temperature in ?? \n",
    "    #k_B*T in Joule\n",
    "    k_b = 1.38065e-23\n",
    "    T = 420\n",
    "    k_T = k_b*T\n",
    "        #delta factor\n",
    "    delta = 0.05*dt\n",
    "    #hold v_next\n",
    "    v_next = None\n",
    "    \n",
    "    simulator = 'qasm'\n",
    "    COM = calc_COM(init_pos)\n",
    "    coords_loc = np.array_split(init_pos,3)\n",
    "    forces_array = []\n",
    "    velocities_array = []\n",
    "    velocities_array.append(v_init.tolist())\n",
    "    coords_array = []\n",
    "    coords_array.append(init_pos.tolist())\n",
    "    \n",
    "    #print(coords)\n",
    "    #print(COM)\n",
    "    #v0 = coords_loc[0] - COM\n",
    "    #v1 = coords_loc[1] - COM\n",
    "    #v2 = coords_loc[2] - COM\n",
    "    \n",
    "    #v0_normed = np.array(v0/np.sqrt(v0[0]**2+v0[1]**2))\n",
    "    #v0_orth = np.array([v0_normed[1],-v0_normed[0]])\n",
    "    \n",
    "    #v1_normed = np.array(v1/np.sqrt(v1[0]**2+v1[1]**2))\n",
    "    #v1_orth = np.array([v1_normed[1],-v1_normed[0]])\n",
    "\n",
    "    #v2_normed = np.array(v2/np.sqrt(v2[0]**2+v2[1]**2))\n",
    "    #v2_orth = np.array([v2_normed[1],-v2_normed[0]])\n",
    "    \n",
    "    #basis_set = [v0_normed,v0_orth,v1_normed,v1_orth,v2_normed,v2_orth]\n",
    "    basis_set = [0,0,0,0,0,0]\n",
    "    for time in tqdm(times, desc='Progress: '):\n",
    "        \n",
    "        r = coords[-1]\n",
    "        #print(r)\n",
    "        \n",
    "        (forces,COV) = calc_force_and_cov(r, simulator = simulator, shots = 64000,basis_set_this=basis_set)\n",
    "        \n",
    "        forces_array.append(forces.tolist())\n",
    "        \n",
    "        #print(COV)\n",
    "        \n",
    "        #COV = np.zeros((6,6))\n",
    "        \n",
    "        #angle1 = np.arctan(forces[1]/forces[0])/np.pi * 180\n",
    "        #print(angle1)\n",
    "        #print(\"f1 = \" + str([forces[2],forces[3]]))\n",
    "        #print(\"f2 = \" + str([forces[4],forces[5]]))\n",
    "        \n",
    "        f1 = distance(np.array([forces[0],forces[1]]),np.array([0,0]))\n",
    "        \n",
    "        f2 = distance(np.array([forces[2],forces[3]]),np.array([0,0]))\n",
    "        \n",
    "        f3 = distance(np.array([forces[4],forces[5]]),np.array([0,0]))    \n",
    "        \n",
    "        print(\"f0,f1,f2 = \" + str([f1,f2,f3]))\n",
    "        \n",
    "        #print(forces)\n",
    "        #print(COV)\n",
    "        \n",
    "        if time == 0:\n",
    "\n",
    "            v_next = v_init - delta/(2*k_T*np.power(mass_0*mass_1*mass_2,1/3))*np.matmul(COV,v_init)*dt + dt*forces/mass_0\n",
    "            \n",
    "            r_next = (r*angst + dt*v_next)/angst\n",
    "\n",
    "            #r_split = np.array_split(r_next,3)\n",
    "\n",
    "            coords.append(r_next)\n",
    "\n",
    "        else:\n",
    "\n",
    "            v_next += - delta/(2*k_T*np.power(mass_0*mass_1*mass_2,1/3))*np.matmul(COV,v_next)*dt + dt*forces/mass_0\n",
    "            \n",
    "            r_next = (r*angst + dt*v_next)/angst\n",
    "\n",
    "            #r_split = np.array_split(r_next,3)\n",
    "            \n",
    "            coords.append(r_next)\n",
    "        velocities_array.append(v_next.tolist())  \n",
    "        coords_array.append(coords[-1].tolist())\n",
    "        \n",
    "        r = np.array_split(coords[-1],3)\n",
    "        d01 = distance(r[0],r[1])\n",
    "        d02 = distance(r[0],r[2])\n",
    "        d12 = distance(r[1],r[2])\n",
    "        print(\"d01,d02,d12 = \" + str([d01,d02,d12]))\n",
    "        \n",
    "        dists = np.split(coords[-1],3)\n",
    "        d01 = distance(dists[0],dists[1])\n",
    "        distance01.append(d01)\n",
    "        d02 = distance(dists[0],dists[2])\n",
    "        distance02.append(d02)\n",
    "        d12 = distance(dists[1],dists[2])\n",
    "        distance12.append(d12)\n",
    "    timess = times.tolist()\n",
    "    timess.append(timeE*femto)\n",
    "    f.write('times \\n')\n",
    "    f.write(str(timess) + \"\\n\")\n",
    "    f.write(\"coordinates \\n\")\n",
    "    f.write(str(coords_array) + \"\\n\")\n",
    "    f.write(\"velocities \\n\")\n",
    "    f.write(str(velocities_array) + \"\\n\")\n",
    "    f.write(\"forces \\n\")\n",
    "    f.write(str(forces_array) + \"\\n\")\n",
    "    return (distance01,distance02,distance12,times) "
   ]
  },
  {
   "cell_type": "code",
   "execution_count": 4,
   "id": "be5bb22e",
   "metadata": {
    "scrolled": false
   },
   "outputs": [
    {
     "name": "stderr",
     "output_type": "stream",
     "text": [
      "Progress:   0%|          | 1/300 [00:12<1:01:09, 12.27s/it]"
     ]
    },
    {
     "name": "stdout",
     "output_type": "stream",
     "text": [
      "Time to: Calculate Ground State - 1.66s, Get Pauli Ops - 4.14s, Calculate Pauli Expectation Values - 4.58s, Calculate Covariance - 1.65s\n",
      "f0,f1,f2 = [1.245565792890191e-08, 1.2455657928910154e-08, 1.2455657928899202e-08]\n",
      "d01,d02,d12 = [0.8051673849998948, 0.8051673849998935, 0.8051673849998953]\n"
     ]
    },
    {
     "name": "stderr",
     "output_type": "stream",
     "text": [
      "Progress:   1%|          | 2/300 [00:24<1:02:05, 12.50s/it]"
     ]
    },
    {
     "name": "stdout",
     "output_type": "stream",
     "text": [
      "Time to: Calculate Ground State - 0.87s, Get Pauli Ops - 4.11s, Calculate Pauli Expectation Values - 6.03s, Calculate Covariance - 1.66s\n",
      "f0,f1,f2 = [1.0882075719923875e-08, 1.0882075719938057e-08, 1.0882075719931086e-08]\n",
      "d01,d02,d12 = [0.8148862893926788, 0.8148862893926752, 0.8148862893926837]\n"
     ]
    },
    {
     "name": "stderr",
     "output_type": "stream",
     "text": [
      "Progress:   1%|          | 3/300 [00:36<1:00:31, 12.23s/it]"
     ]
    },
    {
     "name": "stdout",
     "output_type": "stream",
     "text": [
      "Time to: Calculate Ground State - 0.82s, Get Pauli Ops - 4.12s, Calculate Pauli Expectation Values - 5.29s, Calculate Covariance - 1.66s\n",
      "f0,f1,f2 = [1.0878576097112999e-08, 1.087857609715226e-08, 1.0878576097147153e-08]\n",
      "d01,d02,d12 = [0.8282372629896888, 0.828237262989679, 0.8282372629897096]\n"
     ]
    },
    {
     "name": "stderr",
     "output_type": "stream",
     "text": [
      "/cluster/home/mskrabulis/miniconda3/envs/quantech/lib/python3.9/site-packages/pyscf/symm/Dmatrix.py:156: RuntimeWarning: invalid value encountered in arccos\n",
      "  gamma = numpy.arccos(yp.dot(c2[1]))\n",
      "Progress:   1%|▏         | 4/300 [00:48<58:22, 11.83s/it]  "
     ]
    },
    {
     "name": "stdout",
     "output_type": "stream",
     "text": [
      "Time to: Calculate Ground State - 0.86s, Get Pauli Ops - 4.15s, Calculate Pauli Expectation Values - 4.56s, Calculate Covariance - 1.66s\n",
      "f0,f1,f2 = [7.3688461201621505e-09, 7.368846120191673e-09, 7.368846120191717e-09]\n",
      "d01,d02,d12 = [0.8452080547210582, 0.8452080547210403, 0.8452080547210998]\n"
     ]
    },
    {
     "name": "stderr",
     "output_type": "stream",
     "text": [
      "/cluster/home/mskrabulis/miniconda3/envs/quantech/lib/python3.9/site-packages/pyscf/symm/Dmatrix.py:156: RuntimeWarning: invalid value encountered in arccos\n",
      "  gamma = numpy.arccos(yp.dot(c2[1]))\n",
      "/cluster/home/mskrabulis/miniconda3/envs/quantech/lib/python3.9/site-packages/pyscf/symm/Dmatrix.py:156: RuntimeWarning: invalid value encountered in arccos\n",
      "  gamma = numpy.arccos(yp.dot(c2[1]))\n",
      "Progress:   2%|▏         | 5/300 [01:01<1:01:21, 12.48s/it]"
     ]
    },
    {
     "name": "stdout",
     "output_type": "stream",
     "text": [
      "Time to: Calculate Ground State - 0.93s, Get Pauli Ops - 4.27s, Calculate Pauli Expectation Values - 6.72s, Calculate Covariance - 1.68s\n",
      "f0,f1,f2 = [8.64217784784898e-09, 8.642177847861546e-09, 8.64217784782858e-09]\n",
      "d01,d02,d12 = [0.8655371178221797, 0.8655371178221442, 0.8655371178222339]\n"
     ]
    },
    {
     "name": "stderr",
     "output_type": "stream",
     "text": [
      "/cluster/home/mskrabulis/miniconda3/envs/quantech/lib/python3.9/site-packages/pyscf/symm/Dmatrix.py:156: RuntimeWarning: invalid value encountered in arccos\n",
      "  gamma = numpy.arccos(yp.dot(c2[1]))\n",
      "Progress:   2%|▏         | 6/300 [01:16<1:04:52, 13.24s/it]"
     ]
    },
    {
     "name": "stdout",
     "output_type": "stream",
     "text": [
      "Time to: Calculate Ground State - 0.92s, Get Pauli Ops - 4.2s, Calculate Pauli Expectation Values - 7.94s, Calculate Covariance - 1.66s\n",
      "f0,f1,f2 = [3.972242005554458e-09, 3.972242005526989e-09, 3.9722420055379255e-09]\n",
      "d01,d02,d12 = [0.8922823513992342, 0.8922823513991824, 0.8922823513993036]\n"
     ]
    },
    {
     "name": "stderr",
     "output_type": "stream",
     "text": [
      "Progress:   2%|▏         | 7/300 [01:30<1:06:19, 13.58s/it]"
     ]
    },
    {
     "name": "stdout",
     "output_type": "stream",
     "text": [
      "Time to: Calculate Ground State - 0.83s, Get Pauli Ops - 4.12s, Calculate Pauli Expectation Values - 7.67s, Calculate Covariance - 1.66s\n",
      "f0,f1,f2 = [3.0852959505228353e-09, 3.0852959505209993e-09, 3.0852959504919893e-09]\n",
      "d01,d02,d12 = [0.9280522466114971, 0.9280522466114076, 0.9280522466115826]\n"
     ]
    },
    {
     "name": "stderr",
     "output_type": "stream",
     "text": [
      "Progress:   3%|▎         | 8/300 [01:44<1:06:46, 13.72s/it]"
     ]
    },
    {
     "name": "stdout",
     "output_type": "stream",
     "text": [
      "Time to: Calculate Ground State - 0.89s, Get Pauli Ops - 4.09s, Calculate Pauli Expectation Values - 7.38s, Calculate Covariance - 1.66s\n",
      "f0,f1,f2 = [2.082193240818533e-09, 2.0821932408235962e-09, 2.0821932408007416e-09]\n",
      "d01,d02,d12 = [0.9685749815456508, 0.9685749815455237, 0.9685749815457703]\n"
     ]
    },
    {
     "name": "stderr",
     "output_type": "stream",
     "text": [
      "/cluster/home/mskrabulis/miniconda3/envs/quantech/lib/python3.9/site-packages/pyscf/symm/Dmatrix.py:156: RuntimeWarning: invalid value encountered in arccos\n",
      "  gamma = numpy.arccos(yp.dot(c2[1]))\n",
      "Progress:   3%|▎         | 9/300 [02:00<1:10:02, 14.44s/it]"
     ]
    },
    {
     "name": "stdout",
     "output_type": "stream",
     "text": [
      "Time to: Calculate Ground State - 0.83s, Get Pauli Ops - 4.21s, Calculate Pauli Expectation Values - 9.32s, Calculate Covariance - 1.65s\n",
      "f0,f1,f2 = [3.1784086439525685e-09, 3.1784086439574774e-09, 3.178408643957352e-09]\n",
      "d01,d02,d12 = [0.9974417991351008, 0.9974417991349659, 0.997441799135258]\n"
     ]
    },
    {
     "name": "stderr",
     "output_type": "stream",
     "text": [
      "Progress:   3%|▎         | 10/300 [02:14<1:09:08, 14.30s/it]"
     ]
    },
    {
     "name": "stdout",
     "output_type": "stream",
     "text": [
      "Time to: Calculate Ground State - 0.84s, Get Pauli Ops - 6.55s, Calculate Pauli Expectation Values - 4.93s, Calculate Covariance - 1.66s\n",
      "f0,f1,f2 = [5.468515435133226e-10, 5.468515434701372e-10, 5.468515435168197e-10]\n",
      "d01,d02,d12 = [1.027831362445808, 1.0278313624456454, 1.0278313624460083]\n"
     ]
    },
    {
     "name": "stderr",
     "output_type": "stream",
     "text": [
      "/cluster/home/mskrabulis/miniconda3/envs/quantech/lib/python3.9/site-packages/pyscf/symm/Dmatrix.py:156: RuntimeWarning: invalid value encountered in arccos\n",
      "  gamma = numpy.arccos(yp.dot(c2[1]))\n",
      "Progress:   4%|▎         | 11/300 [02:28<1:08:02, 14.13s/it]"
     ]
    },
    {
     "name": "stdout",
     "output_type": "stream",
     "text": [
      "Time to: Calculate Ground State - 0.86s, Get Pauli Ops - 4.17s, Calculate Pauli Expectation Values - 7.03s, Calculate Covariance - 1.66s\n",
      "f0,f1,f2 = [2.526499790928279e-09, 2.526499790933791e-09, 2.526499790955569e-09]\n",
      "d01,d02,d12 = [1.0594404203621108, 1.0594404203619145, 1.0594404203623178]\n"
     ]
    },
    {
     "name": "stderr",
     "output_type": "stream",
     "text": [
      "/cluster/home/mskrabulis/miniconda3/envs/quantech/lib/python3.9/site-packages/pyscf/symm/Dmatrix.py:156: RuntimeWarning: invalid value encountered in arccos\n",
      "  gamma = numpy.arccos(yp.dot(c2[1]))\n",
      "Progress:   4%|▍         | 12/300 [02:40<1:04:34, 13.45s/it]"
     ]
    },
    {
     "name": "stdout",
     "output_type": "stream",
     "text": [
      "Time to: Calculate Ground State - 0.86s, Get Pauli Ops - 4.05s, Calculate Pauli Expectation Values - 5.32s, Calculate Covariance - 1.67s\n",
      "f0,f1,f2 = [1.989089329095989e-09, 1.9890893291179226e-09, 1.989089329140617e-09]\n",
      "d01,d02,d12 = [1.0869805343747005, 1.086980534374479, 1.0869805343749177]\n"
     ]
    },
    {
     "name": "stderr",
     "output_type": "stream",
     "text": [
      "Progress:   4%|▍         | 13/300 [02:52<1:02:10, 13.00s/it]"
     ]
    },
    {
     "name": "stdout",
     "output_type": "stream",
     "text": [
      "Time to: Calculate Ground State - 0.83s, Get Pauli Ops - 4.16s, Calculate Pauli Expectation Values - 5.31s, Calculate Covariance - 1.64s\n",
      "f0,f1,f2 = [2.5994001783913896e-09, 2.5994001783689606e-09, 2.59940017835716e-09]\n",
      "d01,d02,d12 = [1.1185474127840709, 1.1185474127838304, 1.1185474127843211]\n"
     ]
    },
    {
     "name": "stderr",
     "output_type": "stream",
     "text": [
      "/cluster/home/mskrabulis/miniconda3/envs/quantech/lib/python3.9/site-packages/pyscf/symm/Dmatrix.py:156: RuntimeWarning: invalid value encountered in arccos\n",
      "  gamma = numpy.arccos(yp.dot(c2[1]))\n",
      "Progress:   5%|▍         | 14/300 [03:03<59:54, 12.57s/it]  "
     ]
    },
    {
     "name": "stdout",
     "output_type": "stream",
     "text": [
      "Time to: Calculate Ground State - 0.83s, Get Pauli Ops - 4.18s, Calculate Pauli Expectation Values - 4.92s, Calculate Covariance - 1.65s\n",
      "f0,f1,f2 = [4.020879619616645e-09, 4.020879619653868e-09, 4.020879619632413e-09]\n",
      "d01,d02,d12 = [1.1454714276578093, 1.1454714276575624, 1.1454714276580809]\n"
     ]
    },
    {
     "name": "stderr",
     "output_type": "stream",
     "text": [
      "/cluster/home/mskrabulis/miniconda3/envs/quantech/lib/python3.9/site-packages/pyscf/symm/Dmatrix.py:156: RuntimeWarning: invalid value encountered in arccos\n",
      "  gamma = numpy.arccos(yp.dot(c2[1]))\n",
      "Progress:   5%|▌         | 15/300 [03:16<1:00:27, 12.73s/it]"
     ]
    },
    {
     "name": "stdout",
     "output_type": "stream",
     "text": [
      "Time to: Calculate Ground State - 0.81s, Get Pauli Ops - 4.18s, Calculate Pauli Expectation Values - 6.46s, Calculate Covariance - 1.64s\n",
      "f0,f1,f2 = [4.90964192352952e-09, 4.90964192352638e-09, 4.909641923534108e-09]\n",
      "d01,d02,d12 = [1.1704474122474922, 1.1704474122472392, 1.1704474122477644]\n"
     ]
    },
    {
     "name": "stderr",
     "output_type": "stream",
     "text": [
      "Progress:   5%|▌         | 16/300 [03:29<59:59, 12.68s/it]  "
     ]
    },
    {
     "name": "stdout",
     "output_type": "stream",
     "text": [
      "Time to: Calculate Ground State - 0.8s, Get Pauli Ops - 4.11s, Calculate Pauli Expectation Values - 6.0s, Calculate Covariance - 1.64s\n",
      "f0,f1,f2 = [4.734625560030831e-09, 4.734625560093452e-09, 4.734625560077141e-09]\n",
      "d01,d02,d12 = [1.1918489464075224, 1.1918489464072597, 1.1918489464077757]\n"
     ]
    },
    {
     "name": "stderr",
     "output_type": "stream",
     "text": [
      "/cluster/home/mskrabulis/miniconda3/envs/quantech/lib/python3.9/site-packages/pyscf/symm/Dmatrix.py:156: RuntimeWarning: invalid value encountered in arccos\n",
      "  gamma = numpy.arccos(yp.dot(c2[1]))\n",
      "Progress:   6%|▌         | 17/300 [03:44<1:03:30, 13.47s/it]"
     ]
    },
    {
     "name": "stdout",
     "output_type": "stream",
     "text": [
      "Time to: Calculate Ground State - 0.94s, Get Pauli Ops - 4.15s, Calculate Pauli Expectation Values - 8.54s, Calculate Covariance - 1.65s\n",
      "f0,f1,f2 = [2.834488007079786e-09, 2.834488007063697e-09, 2.834488007079686e-09]\n",
      "d01,d02,d12 = [1.2118328577510158, 1.2118328577507333, 1.2118328577512498]\n"
     ]
    },
    {
     "name": "stderr",
     "output_type": "stream",
     "text": [
      "Progress:   6%|▌         | 18/300 [04:02<1:08:59, 14.68s/it]"
     ]
    },
    {
     "name": "stdout",
     "output_type": "stream",
     "text": [
      "Time to: Calculate Ground State - 0.88s, Get Pauli Ops - 4.11s, Calculate Pauli Expectation Values - 10.84s, Calculate Covariance - 1.65s\n",
      "f0,f1,f2 = [5.062902771573941e-09, 5.062902771572992e-09, 5.062902771562632e-09]\n",
      "d01,d02,d12 = [1.2298180970579746, 1.2298180970576764, 1.22981809705818]\n"
     ]
    },
    {
     "name": "stderr",
     "output_type": "stream",
     "text": [
      "/cluster/home/mskrabulis/miniconda3/envs/quantech/lib/python3.9/site-packages/pyscf/symm/Dmatrix.py:156: RuntimeWarning: invalid value encountered in arccos\n",
      "  gamma = numpy.arccos(yp.dot(c2[1]))\n",
      "Progress:   6%|▋         | 19/300 [04:14<1:04:35, 13.79s/it]"
     ]
    },
    {
     "name": "stdout",
     "output_type": "stream",
     "text": [
      "Time to: Calculate Ground State - 0.85s, Get Pauli Ops - 4.42s, Calculate Pauli Expectation Values - 4.79s, Calculate Covariance - 1.65s\n",
      "f0,f1,f2 = [6.080716880510893e-09, 6.080716880498856e-09, 6.08071688051003e-09]\n",
      "d01,d02,d12 = [1.2475862954511436, 1.2475862954508217, 1.247586295451328]\n"
     ]
    },
    {
     "name": "stderr",
     "output_type": "stream",
     "text": [
      "Progress:   7%|▋         | 20/300 [04:29<1:06:08, 14.17s/it]"
     ]
    },
    {
     "name": "stdout",
     "output_type": "stream",
     "text": [
      "Time to: Calculate Ground State - 0.8s, Get Pauli Ops - 4.07s, Calculate Pauli Expectation Values - 8.55s, Calculate Covariance - 1.64s\n",
      "f0,f1,f2 = [1.0563512824132212e-08, 1.0563512824166556e-08, 1.0563512824160988e-08]\n",
      "d01,d02,d12 = [1.2611448483463383, 1.2611448483459993, 1.2611448483464964]\n"
     ]
    },
    {
     "name": "stderr",
     "output_type": "stream",
     "text": [
      "/cluster/home/mskrabulis/miniconda3/envs/quantech/lib/python3.9/site-packages/pyscf/symm/Dmatrix.py:156: RuntimeWarning: invalid value encountered in arccos\n",
      "  gamma = numpy.arccos(yp.dot(c2[1]))\n",
      "Progress:   7%|▋         | 21/300 [04:41<1:03:46, 13.72s/it]"
     ]
    },
    {
     "name": "stdout",
     "output_type": "stream",
     "text": [
      "Time to: Calculate Ground State - 0.8s, Get Pauli Ops - 4.12s, Calculate Pauli Expectation Values - 6.08s, Calculate Covariance - 1.64s\n",
      "f0,f1,f2 = [6.210699857034291e-09, 6.2106998570524555e-09, 6.210699857079249e-09]\n",
      "d01,d02,d12 = [1.272451938822004, 1.2724519388216362, 1.272451938822124]\n"
     ]
    },
    {
     "name": "stderr",
     "output_type": "stream",
     "text": [
      "/cluster/home/mskrabulis/miniconda3/envs/quantech/lib/python3.9/site-packages/pyscf/symm/Dmatrix.py:156: RuntimeWarning: invalid value encountered in arccos\n",
      "  gamma = numpy.arccos(yp.dot(c2[1]))\n",
      "Progress:   7%|▋         | 22/300 [04:53<1:01:18, 13.23s/it]"
     ]
    },
    {
     "name": "stdout",
     "output_type": "stream",
     "text": [
      "Time to: Calculate Ground State - 0.79s, Get Pauli Ops - 4.17s, Calculate Pauli Expectation Values - 5.49s, Calculate Covariance - 1.65s\n",
      "f0,f1,f2 = [6.287796766271645e-09, 6.287796766221559e-09, 6.287796766274498e-09]\n",
      "d01,d02,d12 = [1.2833366582380459, 1.2833366582376382, 1.2833366582381354]\n"
     ]
    },
    {
     "name": "stderr",
     "output_type": "stream",
     "text": [
      "Progress:   8%|▊         | 23/300 [05:06<59:37, 12.92s/it]  "
     ]
    },
    {
     "name": "stdout",
     "output_type": "stream",
     "text": [
      "Time to: Calculate Ground State - 0.85s, Get Pauli Ops - 4.18s, Calculate Pauli Expectation Values - 5.48s, Calculate Covariance - 1.65s\n",
      "f0,f1,f2 = [6.987402435782082e-09, 6.98740243579275e-09, 6.9874024358181e-09]\n",
      "d01,d02,d12 = [1.2909103101438637, 1.2909103101434107, 1.2909103101439197]\n"
     ]
    },
    {
     "name": "stderr",
     "output_type": "stream",
     "text": [
      "Progress:   8%|▊         | 24/300 [05:18<58:05, 12.63s/it]"
     ]
    },
    {
     "name": "stdout",
     "output_type": "stream",
     "text": [
      "Time to: Calculate Ground State - 0.86s, Get Pauli Ops - 4.18s, Calculate Pauli Expectation Values - 5.26s, Calculate Covariance - 1.65s\n",
      "f0,f1,f2 = [6.786839370843965e-09, 6.786839370839845e-09, 6.7868393708422986e-09]\n",
      "d01,d02,d12 = [1.2934520719872555, 1.2934520719867517, 1.2934520719872677]\n"
     ]
    },
    {
     "name": "stderr",
     "output_type": "stream",
     "text": [
      "Progress:   8%|▊         | 25/300 [05:30<57:49, 12.62s/it]"
     ]
    },
    {
     "name": "stdout",
     "output_type": "stream",
     "text": [
      "Time to: Calculate Ground State - 0.84s, Get Pauli Ops - 4.16s, Calculate Pauli Expectation Values - 5.92s, Calculate Covariance - 1.67s\n",
      "f0,f1,f2 = [6.950692927739632e-09, 6.95069292774537e-09, 6.950692927781497e-09]\n",
      "d01,d02,d12 = [1.2936056636089237, 1.2936056636083653, 1.293605663608883]\n"
     ]
    },
    {
     "name": "stderr",
     "output_type": "stream",
     "text": [
      "Progress:   9%|▊         | 26/300 [05:42<57:04, 12.50s/it]"
     ]
    },
    {
     "name": "stdout",
     "output_type": "stream",
     "text": [
      "Time to: Calculate Ground State - 0.85s, Get Pauli Ops - 4.1s, Calculate Pauli Expectation Values - 5.6s, Calculate Covariance - 1.66s\n",
      "f0,f1,f2 = [5.565980153833588e-09, 5.5659801538340346e-09, 5.5659801538378e-09]\n",
      "d01,d02,d12 = [1.291474396374336, 1.291474396373726, 1.2914743963742459]\n"
     ]
    },
    {
     "name": "stderr",
     "output_type": "stream",
     "text": [
      "Progress:   9%|▉         | 27/300 [05:57<59:47, 13.14s/it]"
     ]
    },
    {
     "name": "stdout",
     "output_type": "stream",
     "text": [
      "Time to: Calculate Ground State - 0.95s, Get Pauli Ops - 6.38s, Calculate Pauli Expectation Values - 5.64s, Calculate Covariance - 1.67s\n",
      "f0,f1,f2 = [6.254361467464785e-09, 6.254361467482902e-09, 6.254361467470325e-09]\n",
      "d01,d02,d12 = [1.2868694581097468, 1.2868694581090865, 1.2868694581096014]\n"
     ]
    },
    {
     "name": "stderr",
     "output_type": "stream",
     "text": [
      "/cluster/home/mskrabulis/miniconda3/envs/quantech/lib/python3.9/site-packages/pyscf/symm/Dmatrix.py:156: RuntimeWarning: invalid value encountered in arccos\n",
      "  gamma = numpy.arccos(yp.dot(c2[1]))\n",
      "Progress:   9%|▉         | 28/300 [06:11<1:01:02, 13.47s/it]"
     ]
    },
    {
     "name": "stdout",
     "output_type": "stream",
     "text": [
      "Time to: Calculate Ground State - 0.87s, Get Pauli Ops - 6.4s, Calculate Pauli Expectation Values - 5.27s, Calculate Covariance - 1.67s\n",
      "f0,f1,f2 = [8.31890944610526e-09, 8.318909446116609e-09, 8.318909446109298e-09]\n",
      "d01,d02,d12 = [1.2795590162714527, 1.2795590162707462, 1.2795590162712447]\n"
     ]
    },
    {
     "name": "stderr",
     "output_type": "stream",
     "text": [
      "Progress:  10%|▉         | 29/300 [06:24<59:58, 13.28s/it]  "
     ]
    },
    {
     "name": "stdout",
     "output_type": "stream",
     "text": [
      "Time to: Calculate Ground State - 0.93s, Get Pauli Ops - 5.42s, Calculate Pauli Expectation Values - 4.83s, Calculate Covariance - 1.67s\n",
      "f0,f1,f2 = [4.726463212600721e-09, 4.7264632125173404e-09, 4.726463212573045e-09]\n",
      "d01,d02,d12 = [1.2681256190290315, 1.268125619028268, 1.268125619028775]\n"
     ]
    },
    {
     "name": "stderr",
     "output_type": "stream",
     "text": [
      "Progress:  10%|█         | 30/300 [06:37<58:54, 13.09s/it]"
     ]
    },
    {
     "name": "stdout",
     "output_type": "stream",
     "text": [
      "Time to: Calculate Ground State - 0.88s, Get Pauli Ops - 4.65s, Calculate Pauli Expectation Values - 5.46s, Calculate Covariance - 1.65s\n",
      "f0,f1,f2 = [9.066100654210816e-09, 9.066100654205232e-09, 9.066100654206527e-09]\n",
      "d01,d02,d12 = [1.2517281175873847, 1.2517281175865653, 1.2517281175870838]\n"
     ]
    },
    {
     "name": "stderr",
     "output_type": "stream",
     "text": [
      "Progress:  10%|█         | 31/300 [06:48<56:52, 12.69s/it]"
     ]
    },
    {
     "name": "stdout",
     "output_type": "stream",
     "text": [
      "Time to: Calculate Ground State - 0.9s, Get Pauli Ops - 4.18s, Calculate Pauli Expectation Values - 5.0s, Calculate Covariance - 1.65s\n",
      "f0,f1,f2 = [5.929670178411032e-09, 5.929670178416911e-09, 5.92967017841893e-09]\n",
      "d01,d02,d12 = [1.2269753666152794, 1.2269753666144012, 1.2269753666149357]\n"
     ]
    },
    {
     "name": "stderr",
     "output_type": "stream",
     "text": [
      "/cluster/home/mskrabulis/miniconda3/envs/quantech/lib/python3.9/site-packages/pyscf/symm/Dmatrix.py:156: RuntimeWarning: invalid value encountered in arccos\n",
      "  gamma = numpy.arccos(yp.dot(c2[1]))\n",
      "Progress:  11%|█         | 32/300 [07:03<59:36, 13.35s/it]"
     ]
    },
    {
     "name": "stdout",
     "output_type": "stream",
     "text": [
      "Time to: Calculate Ground State - 0.9s, Get Pauli Ops - 4.9s, Calculate Pauli Expectation Values - 7.41s, Calculate Covariance - 1.66s\n",
      "f0,f1,f2 = [3.07472673262263e-09, 3.074726732643025e-09, 3.074726732624477e-09]\n",
      "d01,d02,d12 = [1.2022828417734823, 1.2022828417725477, 1.202282841773092]\n"
     ]
    },
    {
     "name": "stderr",
     "output_type": "stream",
     "text": [
      "/cluster/home/mskrabulis/miniconda3/envs/quantech/lib/python3.9/site-packages/pyscf/symm/Dmatrix.py:156: RuntimeWarning: invalid value encountered in arccos\n",
      "  gamma = numpy.arccos(yp.dot(c2[1]))\n",
      "Progress:  11%|█         | 33/300 [07:15<56:58, 12.80s/it]"
     ]
    },
    {
     "name": "stdout",
     "output_type": "stream",
     "text": [
      "Time to: Calculate Ground State - 0.8s, Get Pauli Ops - 4.05s, Calculate Pauli Expectation Values - 5.02s, Calculate Covariance - 1.66s\n",
      "f0,f1,f2 = [4.6895303585602284e-09, 4.6895303585416665e-09, 4.6895303585834e-09]\n",
      "d01,d02,d12 = [1.1729261088131921, 1.172926108812189, 1.17292610881276]\n"
     ]
    },
    {
     "name": "stderr",
     "output_type": "stream",
     "text": [
      "/cluster/home/mskrabulis/miniconda3/envs/quantech/lib/python3.9/site-packages/pyscf/symm/Dmatrix.py:156: RuntimeWarning: invalid value encountered in arccos\n",
      "  gamma = numpy.arccos(yp.dot(c2[1]))\n",
      "Progress:  11%|█▏        | 34/300 [07:27<55:38, 12.55s/it]"
     ]
    },
    {
     "name": "stdout",
     "output_type": "stream",
     "text": [
      "Time to: Calculate Ground State - 0.91s, Get Pauli Ops - 4.17s, Calculate Pauli Expectation Values - 5.21s, Calculate Covariance - 1.66s\n",
      "f0,f1,f2 = [4.431563584408104e-09, 4.431563584350068e-09, 4.431563584340744e-09]\n",
      "d01,d02,d12 = [1.143863537440608, 1.1438635374395563, 1.1438635374401656]\n"
     ]
    },
    {
     "name": "stderr",
     "output_type": "stream",
     "text": [
      "Progress:  12%|█▏        | 35/300 [07:39<54:19, 12.30s/it]"
     ]
    },
    {
     "name": "stdout",
     "output_type": "stream",
     "text": [
      "Time to: Calculate Ground State - 0.81s, Get Pauli Ops - 4.17s, Calculate Pauli Expectation Values - 5.04s, Calculate Covariance - 1.67s\n",
      "f0,f1,f2 = [5.549100725575247e-09, 5.549100725570861e-09, 5.549100725557342e-09]\n",
      "d01,d02,d12 = [1.1195098911168824, 1.1195098911157546, 1.1195098911164207]\n"
     ]
    },
    {
     "name": "stderr",
     "output_type": "stream",
     "text": [
      "Progress:  12%|█▏        | 36/300 [07:51<54:49, 12.46s/it]"
     ]
    },
    {
     "name": "stdout",
     "output_type": "stream",
     "text": [
      "Time to: Calculate Ground State - 0.84s, Get Pauli Ops - 4.14s, Calculate Pauli Expectation Values - 6.16s, Calculate Covariance - 1.67s\n",
      "f0,f1,f2 = [5.014272517453913e-09, 5.014272517446369e-09, 5.01427251746062e-09]\n",
      "d01,d02,d12 = [1.0941987767117207, 1.0941987767105348, 1.0941987767112427]\n"
     ]
    },
    {
     "name": "stderr",
     "output_type": "stream",
     "text": [
      "Progress:  12%|█▏        | 37/300 [08:04<54:11, 12.36s/it]"
     ]
    },
    {
     "name": "stdout",
     "output_type": "stream",
     "text": [
      "Time to: Calculate Ground State - 0.87s, Get Pauli Ops - 4.14s, Calculate Pauli Expectation Values - 5.48s, Calculate Covariance - 1.65s\n",
      "f0,f1,f2 = [9.27813846134898e-10, 9.278138460630789e-10, 9.27813846099345e-10]\n",
      "d01,d02,d12 = [1.0719572682264968, 1.0719572682252596, 1.0719572682260088]\n"
     ]
    },
    {
     "name": "stderr",
     "output_type": "stream",
     "text": [
      "Progress:  13%|█▎        | 38/300 [08:18<56:09, 12.86s/it]"
     ]
    },
    {
     "name": "stdout",
     "output_type": "stream",
     "text": [
      "Time to: Calculate Ground State - 0.93s, Get Pauli Ops - 4.19s, Calculate Pauli Expectation Values - 7.23s, Calculate Covariance - 1.66s\n",
      "f0,f1,f2 = [4.265105082422587e-09, 4.265105082399803e-09, 4.26510508241025e-09]\n",
      "d01,d02,d12 = [1.0472361008218911, 1.0472361008205926, 1.0472361008213993]\n"
     ]
    },
    {
     "name": "stderr",
     "output_type": "stream",
     "text": [
      "Progress:  13%|█▎        | 39/300 [08:29<54:10, 12.45s/it]"
     ]
    },
    {
     "name": "stdout",
     "output_type": "stream",
     "text": [
      "Time to: Calculate Ground State - 0.85s, Get Pauli Ops - 4.13s, Calculate Pauli Expectation Values - 4.87s, Calculate Covariance - 1.65s\n",
      "f0,f1,f2 = [2.7457257266444802e-09, 2.74572572655753e-09, 2.7457257265790262e-09]\n",
      "d01,d02,d12 = [1.0242681458490845, 1.024268145847668, 1.024268145848562]\n"
     ]
    },
    {
     "name": "stderr",
     "output_type": "stream",
     "text": [
      "/cluster/home/mskrabulis/miniconda3/envs/quantech/lib/python3.9/site-packages/pyscf/symm/Dmatrix.py:156: RuntimeWarning: invalid value encountered in arccos\n",
      "  gamma = numpy.arccos(yp.dot(c2[1]))\n",
      "Progress:  13%|█▎        | 40/300 [08:41<53:56, 12.45s/it]"
     ]
    },
    {
     "name": "stdout",
     "output_type": "stream",
     "text": [
      "Time to: Calculate Ground State - 0.83s, Get Pauli Ops - 4.14s, Calculate Pauli Expectation Values - 5.82s, Calculate Covariance - 1.64s\n",
      "f0,f1,f2 = [1.9146256104556464e-09, 1.9146256104790767e-09, 1.9146256104353655e-09]\n",
      "d01,d02,d12 = [1.0019393999476476, 1.0019393999461659, 1.001939399947121]\n"
     ]
    },
    {
     "name": "stderr",
     "output_type": "stream",
     "text": [
      "Progress:  14%|█▎        | 41/300 [08:55<55:42, 12.91s/it]"
     ]
    },
    {
     "name": "stdout",
     "output_type": "stream",
     "text": [
      "Time to: Calculate Ground State - 0.9s, Get Pauli Ops - 4.14s, Calculate Pauli Expectation Values - 7.27s, Calculate Covariance - 1.66s\n",
      "f0,f1,f2 = [7.567329596601046e-10, 7.567329596379971e-10, 7.567329596625377e-10]\n",
      "d01,d02,d12 = [0.9766324312924536, 0.9766324312909472, 0.9766324312919291]\n"
     ]
    },
    {
     "name": "stderr",
     "output_type": "stream",
     "text": [
      "Progress:  14%|█▍        | 42/300 [09:07<53:57, 12.55s/it]"
     ]
    },
    {
     "name": "stdout",
     "output_type": "stream",
     "text": [
      "Time to: Calculate Ground State - 0.84s, Get Pauli Ops - 4.1s, Calculate Pauli Expectation Values - 5.11s, Calculate Covariance - 1.65s\n",
      "f0,f1,f2 = [2.0322013548080233e-10, 2.0322013541570763e-10, 2.0322013545828117e-10]\n",
      "d01,d02,d12 = [0.9560395237676587, 0.9560395237660984, 0.9560395237671071]\n"
     ]
    },
    {
     "name": "stderr",
     "output_type": "stream",
     "text": [
      "Progress:  14%|█▍        | 43/300 [09:19<52:29, 12.26s/it]"
     ]
    },
    {
     "name": "stdout",
     "output_type": "stream",
     "text": [
      "Time to: Calculate Ground State - 0.81s, Get Pauli Ops - 4.16s, Calculate Pauli Expectation Values - 4.96s, Calculate Covariance - 1.65s\n",
      "f0,f1,f2 = [3.343890785576822e-10, 3.3438907858112433e-10, 3.3438907852194556e-10]\n",
      "d01,d02,d12 = [0.9342043045600125, 0.9342043045584052, 0.9342043045594319]\n"
     ]
    },
    {
     "name": "stderr",
     "output_type": "stream",
     "text": [
      "Progress:  15%|█▍        | 44/300 [09:31<52:45, 12.36s/it]"
     ]
    },
    {
     "name": "stdout",
     "output_type": "stream",
     "text": [
      "Time to: Calculate Ground State - 0.84s, Get Pauli Ops - 4.23s, Calculate Pauli Expectation Values - 5.88s, Calculate Covariance - 1.66s\n",
      "f0,f1,f2 = [1.3283604639718522e-09, 1.3283604639471658e-09, 1.3283604639791124e-09]\n",
      "d01,d02,d12 = [0.9093329597878099, 0.9093329597861256, 0.9093329597871842]\n"
     ]
    },
    {
     "name": "stderr",
     "output_type": "stream",
     "text": [
      "Progress:  15%|█▌        | 45/300 [09:46<55:22, 13.03s/it]"
     ]
    },
    {
     "name": "stdout",
     "output_type": "stream",
     "text": [
      "Time to: Calculate Ground State - 0.9s, Get Pauli Ops - 6.73s, Calculate Pauli Expectation Values - 5.29s, Calculate Covariance - 1.65s\n",
      "f0,f1,f2 = [3.392729811075125e-09, 3.3927298109946503e-09, 3.3927298110430697e-09]\n",
      "d01,d02,d12 = [0.8843567929741554, 0.8843567929724389, 0.8843567929734837]\n"
     ]
    },
    {
     "name": "stderr",
     "output_type": "stream",
     "text": [
      "/cluster/home/mskrabulis/miniconda3/envs/quantech/lib/python3.9/site-packages/pyscf/symm/Dmatrix.py:156: RuntimeWarning: invalid value encountered in arccos\n",
      "  gamma = numpy.arccos(yp.dot(c2[1]))\n",
      "/cluster/home/mskrabulis/miniconda3/envs/quantech/lib/python3.9/site-packages/pyscf/symm/Dmatrix.py:156: RuntimeWarning: invalid value encountered in arccos\n",
      "  gamma = numpy.arccos(yp.dot(c2[1]))\n",
      "Progress:  15%|█▌        | 46/300 [10:01<57:28, 13.58s/it]"
     ]
    },
    {
     "name": "stdout",
     "output_type": "stream",
     "text": [
      "Time to: Calculate Ground State - 0.85s, Get Pauli Ops - 4.14s, Calculate Pauli Expectation Values - 8.22s, Calculate Covariance - 1.65s\n",
      "f0,f1,f2 = [5.586487763901469e-09, 5.586487763906997e-09, 5.586487763930661e-09]\n",
      "d01,d02,d12 = [0.865803165241856, 0.8658031652400874, 0.8658031652411367]\n"
     ]
    },
    {
     "name": "stderr",
     "output_type": "stream",
     "text": [
      "/cluster/home/mskrabulis/miniconda3/envs/quantech/lib/python3.9/site-packages/pyscf/symm/Dmatrix.py:156: RuntimeWarning: invalid value encountered in arccos\n",
      "  gamma = numpy.arccos(yp.dot(c2[1]))\n",
      "Progress:  16%|█▌        | 47/300 [10:15<57:40, 13.68s/it]"
     ]
    },
    {
     "name": "stdout",
     "output_type": "stream",
     "text": [
      "Time to: Calculate Ground State - 0.81s, Get Pauli Ops - 4.1s, Calculate Pauli Expectation Values - 7.33s, Calculate Covariance - 1.65s\n",
      "f0,f1,f2 = [7.704659952553287e-09, 7.704659952479692e-09, 7.704659952565532e-09]\n",
      "d01,d02,d12 = [0.8482742707061528, 0.8482742707043766, 0.8482742707054052]\n"
     ]
    },
    {
     "name": "stderr",
     "output_type": "stream",
     "text": [
      "/cluster/home/mskrabulis/miniconda3/envs/quantech/lib/python3.9/site-packages/pyscf/symm/Dmatrix.py:156: RuntimeWarning: invalid value encountered in arccos\n",
      "  gamma = numpy.arccos(yp.dot(c2[1]))\n",
      "Progress:  16%|█▌        | 48/300 [10:26<54:16, 12.92s/it]"
     ]
    },
    {
     "name": "stdout",
     "output_type": "stream",
     "text": [
      "Time to: Calculate Ground State - 0.83s, Get Pauli Ops - 4.13s, Calculate Pauli Expectation Values - 4.56s, Calculate Covariance - 1.64s\n",
      "f0,f1,f2 = [9.047258952719431e-09, 9.047258952677852e-09, 9.047258952758989e-09]\n",
      "d01,d02,d12 = [0.8325700659855635, 0.832570065983805, 0.8325700659848023]\n"
     ]
    },
    {
     "name": "stderr",
     "output_type": "stream",
     "text": [
      "Progress:  16%|█▋        | 49/300 [10:42<57:47, 13.82s/it]"
     ]
    },
    {
     "name": "stdout",
     "output_type": "stream",
     "text": [
      "Time to: Calculate Ground State - 0.86s, Get Pauli Ops - 4.13s, Calculate Pauli Expectation Values - 9.26s, Calculate Covariance - 1.64s\n",
      "f0,f1,f2 = [9.714596450754467e-09, 9.71459645072516e-09, 9.714596450818536e-09]\n",
      "d01,d02,d12 = [0.8194018972033763, 0.8194018972016779, 0.8194018972026212]\n"
     ]
    },
    {
     "name": "stderr",
     "output_type": "stream",
     "text": [
      "Progress:  17%|█▋        | 50/300 [10:54<55:50, 13.40s/it]"
     ]
    },
    {
     "name": "stdout",
     "output_type": "stream",
     "text": [
      "Time to: Calculate Ground State - 0.83s, Get Pauli Ops - 4.15s, Calculate Pauli Expectation Values - 5.79s, Calculate Covariance - 1.65s\n",
      "f0,f1,f2 = [1.0964196546792947e-08, 1.0964196546726926e-08, 1.0964196546798194e-08]\n",
      "d01,d02,d12 = [0.8116214976330278, 0.8116214976314844, 0.8116214976323034]\n"
     ]
    },
    {
     "name": "stderr",
     "output_type": "stream",
     "text": [
      "/cluster/home/mskrabulis/miniconda3/envs/quantech/lib/python3.9/site-packages/pyscf/symm/Dmatrix.py:156: RuntimeWarning: invalid value encountered in arccos\n",
      "  gamma = numpy.arccos(yp.dot(c2[1]))\n",
      "Progress:  17%|█▋        | 51/300 [11:06<54:11, 13.06s/it]"
     ]
    },
    {
     "name": "stdout",
     "output_type": "stream",
     "text": [
      "Time to: Calculate Ground State - 0.8s, Get Pauli Ops - 4.16s, Calculate Pauli Expectation Values - 5.63s, Calculate Covariance - 1.65s\n",
      "f0,f1,f2 = [1.2312958277176332e-08, 1.2312958277146934e-08, 1.2312958277193693e-08]\n",
      "d01,d02,d12 = [0.8089301434219438, 0.8089301434205742, 0.8089301434212609]\n"
     ]
    },
    {
     "name": "stderr",
     "output_type": "stream",
     "text": [
      "/cluster/home/mskrabulis/miniconda3/envs/quantech/lib/python3.9/site-packages/pyscf/symm/Dmatrix.py:156: RuntimeWarning: invalid value encountered in arccos\n",
      "  gamma = numpy.arccos(yp.dot(c2[1]))\n",
      "Progress:  17%|█▋        | 52/300 [11:20<54:05, 13.09s/it]"
     ]
    },
    {
     "name": "stdout",
     "output_type": "stream",
     "text": [
      "Time to: Calculate Ground State - 0.8s, Get Pauli Ops - 4.18s, Calculate Pauli Expectation Values - 6.53s, Calculate Covariance - 1.65s\n",
      "f0,f1,f2 = [1.1592748126898584e-08, 1.159274812690241e-08, 1.159274812691938e-08]\n",
      "d01,d02,d12 = [0.8109274703914111, 0.8109274703902289, 0.8109274703907738]\n"
     ]
    },
    {
     "name": "stderr",
     "output_type": "stream",
     "text": [
      "Progress:  18%|█▊        | 53/300 [11:34<55:46, 13.55s/it]"
     ]
    },
    {
     "name": "stdout",
     "output_type": "stream",
     "text": [
      "Time to: Calculate Ground State - 0.86s, Get Pauli Ops - 4.13s, Calculate Pauli Expectation Values - 7.98s, Calculate Covariance - 1.66s\n",
      "f0,f1,f2 = [1.1321012438816693e-08, 1.1321012438744213e-08, 1.1321012438769128e-08]\n",
      "d01,d02,d12 = [0.8170287689566157, 0.8170287689556298, 0.817028768956025]\n"
     ]
    },
    {
     "name": "stderr",
     "output_type": "stream",
     "text": [
      "Progress:  18%|█▊        | 54/300 [11:47<55:01, 13.42s/it]"
     ]
    },
    {
     "name": "stdout",
     "output_type": "stream",
     "text": [
      "Time to: Calculate Ground State - 0.82s, Get Pauli Ops - 4.29s, Calculate Pauli Expectation Values - 6.34s, Calculate Covariance - 1.65s\n",
      "f0,f1,f2 = [1.0412724083212558e-08, 1.0412724083168572e-08, 1.0412724083195258e-08]\n",
      "d01,d02,d12 = [0.8274658115891085, 0.8274658115883313, 0.8274658115885646]\n"
     ]
    },
    {
     "name": "stderr",
     "output_type": "stream",
     "text": [
      "Progress:  18%|█▊        | 55/300 [11:59<52:39, 12.89s/it]"
     ]
    },
    {
     "name": "stdout",
     "output_type": "stream",
     "text": [
      "Time to: Calculate Ground State - 0.83s, Get Pauli Ops - 4.16s, Calculate Pauli Expectation Values - 5.02s, Calculate Covariance - 1.65s\n",
      "f0,f1,f2 = [9.10017670265368e-09, 9.100176702653267e-09, 9.1001767027088e-09]\n",
      "d01,d02,d12 = [0.842896844620963, 0.8428968446204184, 0.8428968446204812]\n"
     ]
    },
    {
     "name": "stderr",
     "output_type": "stream",
     "text": [
      "Progress:  19%|█▊        | 56/300 [12:15<55:58, 13.76s/it]"
     ]
    },
    {
     "name": "stdout",
     "output_type": "stream",
     "text": [
      "Time to: Calculate Ground State - 0.91s, Get Pauli Ops - 4.13s, Calculate Pauli Expectation Values - 9.1s, Calculate Covariance - 1.64s\n",
      "f0,f1,f2 = [7.59336843986103e-09, 7.593368439765565e-09, 7.593368439831038e-09]\n",
      "d01,d02,d12 = [0.8602832251109122, 0.8602832251106142, 0.8602832251104854]\n"
     ]
    },
    {
     "name": "stderr",
     "output_type": "stream",
     "text": [
      "Progress:  19%|█▉        | 57/300 [12:29<56:17, 13.90s/it]"
     ]
    },
    {
     "name": "stdout",
     "output_type": "stream",
     "text": [
      "Time to: Calculate Ground State - 0.82s, Get Pauli Ops - 4.15s, Calculate Pauli Expectation Values - 7.6s, Calculate Covariance - 1.64s\n",
      "f0,f1,f2 = [8.466035642784398e-09, 8.466035642817942e-09, 8.466035642757953e-09]\n",
      "d01,d02,d12 = [0.8827822981774558, 0.8827822981774082, 0.8827822981770824]\n"
     ]
    },
    {
     "name": "stderr",
     "output_type": "stream",
     "text": [
      "Progress:  19%|█▉        | 58/300 [12:41<53:41, 13.31s/it]"
     ]
    },
    {
     "name": "stdout",
     "output_type": "stream",
     "text": [
      "Time to: Calculate Ground State - 0.81s, Get Pauli Ops - 4.23s, Calculate Pauli Expectation Values - 5.24s, Calculate Covariance - 1.65s\n",
      "f0,f1,f2 = [4.9669812377821905e-09, 4.966981237815896e-09, 4.966981237849553e-09]\n",
      "d01,d02,d12 = [0.9098629101192267, 0.9098629101194454, 0.9098629101189464]\n"
     ]
    },
    {
     "name": "stderr",
     "output_type": "stream",
     "text": [
      "/cluster/home/mskrabulis/miniconda3/envs/quantech/lib/python3.9/site-packages/pyscf/symm/Dmatrix.py:156: RuntimeWarning: invalid value encountered in arccos\n",
      "  gamma = numpy.arccos(yp.dot(c2[1]))\n",
      "/cluster/home/mskrabulis/miniconda3/envs/quantech/lib/python3.9/site-packages/pyscf/symm/Dmatrix.py:156: RuntimeWarning: invalid value encountered in arccos\n",
      "  gamma = numpy.arccos(yp.dot(c2[1]))\n",
      "Progress:  20%|█▉        | 59/300 [12:53<51:29, 12.82s/it]"
     ]
    },
    {
     "name": "stdout",
     "output_type": "stream",
     "text": [
      "Time to: Calculate Ground State - 0.87s, Get Pauli Ops - 4.2s, Calculate Pauli Expectation Values - 4.96s, Calculate Covariance - 1.64s\n",
      "f0,f1,f2 = [2.3448084316311296e-09, 2.3448084316537588e-09, 2.3448084316408895e-09]\n",
      "d01,d02,d12 = [0.9396568398539134, 0.9396568398544137, 0.939656839853708]\n"
     ]
    },
    {
     "name": "stderr",
     "output_type": "stream",
     "text": [
      "/cluster/home/mskrabulis/miniconda3/envs/quantech/lib/python3.9/site-packages/pyscf/symm/Dmatrix.py:156: RuntimeWarning: invalid value encountered in arccos\n",
      "  gamma = numpy.arccos(yp.dot(c2[1]))\n",
      "Progress:  20%|██        | 60/300 [13:08<54:43, 13.68s/it]"
     ]
    },
    {
     "name": "stdout",
     "output_type": "stream",
     "text": [
      "Time to: Calculate Ground State - 0.83s, Get Pauli Ops - 4.13s, Calculate Pauli Expectation Values - 9.09s, Calculate Covariance - 1.64s\n",
      "f0,f1,f2 = [3.2356949086284222e-09, 3.2356949086090054e-09, 3.2356949085705804e-09]\n",
      "d01,d02,d12 = [0.9746610568457967, 0.9746610568465931, 0.9746610568456243]\n"
     ]
    },
    {
     "name": "stderr",
     "output_type": "stream",
     "text": [
      "Progress:  20%|██        | 61/300 [13:24<56:39, 14.23s/it]"
     ]
    },
    {
     "name": "stdout",
     "output_type": "stream",
     "text": [
      "Time to: Calculate Ground State - 0.84s, Get Pauli Ops - 4.15s, Calculate Pauli Expectation Values - 8.86s, Calculate Covariance - 1.65s\n",
      "f0,f1,f2 = [1.6159052467118152e-09, 1.615905246709988e-09, 1.6159052466607465e-09]\n",
      "d01,d02,d12 = [1.018864280746354, 1.0188642807474193, 1.0188642807462214]\n"
     ]
    },
    {
     "name": "stderr",
     "output_type": "stream",
     "text": [
      "/cluster/home/mskrabulis/miniconda3/envs/quantech/lib/python3.9/site-packages/pyscf/symm/Dmatrix.py:156: RuntimeWarning: invalid value encountered in arccos\n",
      "  gamma = numpy.arccos(yp.dot(c2[1]))\n",
      "Progress:  21%|██        | 62/300 [13:36<54:11, 13.66s/it]"
     ]
    },
    {
     "name": "stdout",
     "output_type": "stream",
     "text": [
      "Time to: Calculate Ground State - 0.83s, Get Pauli Ops - 4.26s, Calculate Pauli Expectation Values - 5.61s, Calculate Covariance - 1.65s\n",
      "f0,f1,f2 = [7.220923773705478e-10, 7.22092377442822e-10, 7.220923773810419e-10]\n",
      "d01,d02,d12 = [1.0605995048478905, 1.0605995048492711, 1.060599504847816]\n"
     ]
    },
    {
     "name": "stderr",
     "output_type": "stream",
     "text": [
      "/cluster/home/mskrabulis/miniconda3/envs/quantech/lib/python3.9/site-packages/pyscf/symm/Dmatrix.py:156: RuntimeWarning: invalid value encountered in arccos\n",
      "  gamma = numpy.arccos(yp.dot(c2[1]))\n",
      "Progress:  21%|██        | 63/300 [13:51<55:42, 14.10s/it]"
     ]
    },
    {
     "name": "stdout",
     "output_type": "stream",
     "text": [
      "Time to: Calculate Ground State - 0.85s, Get Pauli Ops - 4.15s, Calculate Pauli Expectation Values - 8.47s, Calculate Covariance - 1.65s\n",
      "f0,f1,f2 = [1.6674688161184553e-09, 1.6674688161274778e-09, 1.6674688161062207e-09]\n",
      "d01,d02,d12 = [1.1021302832753068, 1.102130283277001, 1.1021302832752775]\n"
     ]
    },
    {
     "name": "stderr",
     "output_type": "stream",
     "text": [
      "Progress:  21%|██▏       | 64/300 [14:04<53:50, 13.69s/it]"
     ]
    },
    {
     "name": "stdout",
     "output_type": "stream",
     "text": [
      "Time to: Calculate Ground State - 0.85s, Get Pauli Ops - 4.14s, Calculate Pauli Expectation Values - 6.08s, Calculate Covariance - 1.65s\n",
      "f0,f1,f2 = [4.386655314588052e-09, 4.386655314583388e-09, 4.386655314554835e-09]\n",
      "d01,d02,d12 = [1.1445402895467138, 1.1445402895487446, 1.1445402895467607]\n"
     ]
    },
    {
     "name": "stderr",
     "output_type": "stream",
     "text": [
      "/cluster/home/mskrabulis/miniconda3/envs/quantech/lib/python3.9/site-packages/pyscf/symm/Dmatrix.py:156: RuntimeWarning: invalid value encountered in arccos\n",
      "  gamma = numpy.arccos(yp.dot(c2[1]))\n",
      "Progress:  22%|██▏       | 65/300 [14:18<53:35, 13.68s/it]"
     ]
    },
    {
     "name": "stdout",
     "output_type": "stream",
     "text": [
      "Time to: Calculate Ground State - 0.84s, Get Pauli Ops - 4.17s, Calculate Pauli Expectation Values - 7.0s, Calculate Covariance - 1.64s\n",
      "f0,f1,f2 = [3.2732755932180454e-09, 3.2732755932105478e-09, 3.2732755932169895e-09]\n",
      "d01,d02,d12 = [1.1918428550838382, 1.1918428550862707, 1.1918428550839508]\n"
     ]
    },
    {
     "name": "stderr",
     "output_type": "stream",
     "text": [
      "Progress:  22%|██▏       | 66/300 [14:30<51:42, 13.26s/it]"
     ]
    },
    {
     "name": "stdout",
     "output_type": "stream",
     "text": [
      "Time to: Calculate Ground State - 0.87s, Get Pauli Ops - 4.19s, Calculate Pauli Expectation Values - 5.54s, Calculate Covariance - 1.65s\n",
      "f0,f1,f2 = [4.21156880772549e-09, 4.211568807767611e-09, 4.211568807765488e-09]\n",
      "d01,d02,d12 = [1.2247770129198945, 1.2247770129225624, 1.224777012920049]\n"
     ]
    },
    {
     "name": "stderr",
     "output_type": "stream",
     "text": [
      "Progress:  22%|██▏       | 67/300 [14:42<49:44, 12.81s/it]"
     ]
    },
    {
     "name": "stdout",
     "output_type": "stream",
     "text": [
      "Time to: Calculate Ground State - 0.88s, Get Pauli Ops - 4.13s, Calculate Pauli Expectation Values - 5.11s, Calculate Covariance - 1.64s\n",
      "f0,f1,f2 = [7.404729891150902e-09, 7.404729891158689e-09, 7.4047298911356165e-09]\n",
      "d01,d02,d12 = [1.2492551861825811, 1.2492551861854857, 1.249255186182776]\n"
     ]
    },
    {
     "name": "stderr",
     "output_type": "stream",
     "text": [
      "/cluster/home/mskrabulis/miniconda3/envs/quantech/lib/python3.9/site-packages/pyscf/symm/Dmatrix.py:156: RuntimeWarning: invalid value encountered in arccos\n",
      "  gamma = numpy.arccos(yp.dot(c2[1]))\n",
      "Progress:  23%|██▎       | 68/300 [14:54<48:27, 12.53s/it]"
     ]
    },
    {
     "name": "stdout",
     "output_type": "stream",
     "text": [
      "Time to: Calculate Ground State - 0.83s, Get Pauli Ops - 4.21s, Calculate Pauli Expectation Values - 5.18s, Calculate Covariance - 1.66s\n",
      "f0,f1,f2 = [7.6593146410715e-09, 7.659314641102458e-09, 7.659314641038785e-09]\n",
      "d01,d02,d12 = [1.2749647957997743, 1.2749647958028862, 1.2749647958000134]\n"
     ]
    },
    {
     "name": "stderr",
     "output_type": "stream",
     "text": [
      "/cluster/home/mskrabulis/miniconda3/envs/quantech/lib/python3.9/site-packages/pyscf/symm/Dmatrix.py:156: RuntimeWarning: invalid value encountered in arccos\n",
      "  gamma = numpy.arccos(yp.dot(c2[1]))\n",
      "Progress:  23%|██▎       | 69/300 [15:08<50:11, 13.04s/it]"
     ]
    },
    {
     "name": "stdout",
     "output_type": "stream",
     "text": [
      "Time to: Calculate Ground State - 0.93s, Get Pauli Ops - 4.13s, Calculate Pauli Expectation Values - 7.5s, Calculate Covariance - 1.64s\n",
      "f0,f1,f2 = [4.367721543980055e-09, 4.36772154399746e-09, 4.367721544018858e-09]\n",
      "d01,d02,d12 = [1.3024031949931083, 1.3024031949964485, 1.3024031949933976]\n"
     ]
    },
    {
     "name": "stderr",
     "output_type": "stream",
     "text": [
      "/cluster/home/mskrabulis/miniconda3/envs/quantech/lib/python3.9/site-packages/pyscf/symm/Dmatrix.py:156: RuntimeWarning: invalid value encountered in arccos\n",
      "  gamma = numpy.arccos(yp.dot(c2[1]))\n",
      "Progress:  23%|██▎       | 70/300 [15:20<49:07, 12.82s/it]"
     ]
    },
    {
     "name": "stdout",
     "output_type": "stream",
     "text": [
      "Time to: Calculate Ground State - 0.85s, Get Pauli Ops - 4.15s, Calculate Pauli Expectation Values - 5.64s, Calculate Covariance - 1.65s\n",
      "f0,f1,f2 = [4.329042452888446e-09, 4.329042452895213e-09, 4.3290424529265374e-09]\n",
      "d01,d02,d12 = [1.327493094439186, 1.3274930944427763, 1.3274930944395247]\n"
     ]
    },
    {
     "name": "stderr",
     "output_type": "stream",
     "text": [
      "Progress:  24%|██▎       | 71/300 [15:32<48:23, 12.68s/it]"
     ]
    },
    {
     "name": "stdout",
     "output_type": "stream",
     "text": [
      "Time to: Calculate Ground State - 0.88s, Get Pauli Ops - 4.16s, Calculate Pauli Expectation Values - 5.66s, Calculate Covariance - 1.65s\n",
      "f0,f1,f2 = [3.6197403040136634e-09, 3.619740304013718e-09, 3.6197403040217983e-09]\n",
      "d01,d02,d12 = [1.3437574109576642, 1.3437574109614723, 1.3437574109580375]\n"
     ]
    },
    {
     "name": "stderr",
     "output_type": "stream",
     "text": [
      "Progress:  24%|██▍       | 72/300 [15:47<50:14, 13.22s/it]"
     ]
    },
    {
     "name": "stdout",
     "output_type": "stream",
     "text": [
      "Time to: Calculate Ground State - 0.86s, Get Pauli Ops - 4.14s, Calculate Pauli Expectation Values - 7.82s, Calculate Covariance - 1.66s\n",
      "f0,f1,f2 = [5.102181131418313e-09, 5.1021811313514544e-09, 5.1021811313707956e-09]\n",
      "d01,d02,d12 = [1.3561061460211405, 1.3561061460251271, 1.3561061460215478]\n"
     ]
    },
    {
     "name": "stderr",
     "output_type": "stream",
     "text": [
      "Progress:  24%|██▍       | 73/300 [16:03<53:19, 14.09s/it]"
     ]
    },
    {
     "name": "stdout",
     "output_type": "stream",
     "text": [
      "Time to: Calculate Ground State - 0.81s, Get Pauli Ops - 4.18s, Calculate Pauli Expectation Values - 9.49s, Calculate Covariance - 1.65s\n",
      "f0,f1,f2 = [6.9034012883007226e-09, 6.903401288279323e-09, 6.903401288277028e-09]\n",
      "d01,d02,d12 = [1.3654063114432295, 1.3654063114473645, 1.3654063114436652]\n"
     ]
    },
    {
     "name": "stderr",
     "output_type": "stream",
     "text": [
      "Progress:  25%|██▍       | 74/300 [16:18<54:28, 14.46s/it]"
     ]
    },
    {
     "name": "stdout",
     "output_type": "stream",
     "text": [
      "Time to: Calculate Ground State - 0.85s, Get Pauli Ops - 4.2s, Calculate Pauli Expectation Values - 8.62s, Calculate Covariance - 1.64s\n",
      "f0,f1,f2 = [6.853782917095772e-09, 6.853782917061531e-09, 6.853782917046143e-09]\n",
      "d01,d02,d12 = [1.3716021582854183, 1.3716021582896958, 1.37160215828589]\n"
     ]
    },
    {
     "name": "stderr",
     "output_type": "stream",
     "text": [
      "/cluster/home/mskrabulis/miniconda3/envs/quantech/lib/python3.9/site-packages/pyscf/symm/Dmatrix.py:156: RuntimeWarning: invalid value encountered in arccos\n",
      "  gamma = numpy.arccos(yp.dot(c2[1]))\n",
      "Progress:  25%|██▌       | 75/300 [16:32<52:51, 14.09s/it]"
     ]
    },
    {
     "name": "stdout",
     "output_type": "stream",
     "text": [
      "Time to: Calculate Ground State - 0.84s, Get Pauli Ops - 4.12s, Calculate Pauli Expectation Values - 6.61s, Calculate Covariance - 1.66s\n",
      "f0,f1,f2 = [7.676643401775381e-09, 7.676643401802068e-09, 7.676643401759058e-09]\n",
      "d01,d02,d12 = [1.3745908418100332, 1.374590841814472, 1.3745908418105521]\n"
     ]
    },
    {
     "name": "stderr",
     "output_type": "stream",
     "text": [
      "Progress:  25%|██▌       | 76/300 [16:45<52:03, 13.94s/it]"
     ]
    },
    {
     "name": "stdout",
     "output_type": "stream",
     "text": [
      "Time to: Calculate Ground State - 0.81s, Get Pauli Ops - 4.14s, Calculate Pauli Expectation Values - 7.0s, Calculate Covariance - 1.63s\n",
      "f0,f1,f2 = [6.250504258378655e-09, 6.250504258320658e-09, 6.2505042583882616e-09]\n",
      "d01,d02,d12 = [1.3760734038091647, 1.3760734038137805, 1.3760734038097318]\n"
     ]
    },
    {
     "name": "stderr",
     "output_type": "stream",
     "text": [
      "Progress:  26%|██▌       | 77/300 [16:59<51:25, 13.84s/it]"
     ]
    },
    {
     "name": "stdout",
     "output_type": "stream",
     "text": [
      "Time to: Calculate Ground State - 0.82s, Get Pauli Ops - 4.14s, Calculate Pauli Expectation Values - 6.99s, Calculate Covariance - 1.63s\n",
      "f0,f1,f2 = [4.274174978784153e-09, 4.274174978796054e-09, 4.274174978792722e-09]\n",
      "d01,d02,d12 = [1.3758546198011405, 1.3758546198059485, 1.3758546198017505]\n"
     ]
    },
    {
     "name": "stderr",
     "output_type": "stream",
     "text": [
      "Progress:  26%|██▌       | 78/300 [17:14<52:36, 14.22s/it]"
     ]
    },
    {
     "name": "stdout",
     "output_type": "stream",
     "text": [
      "Time to: Calculate Ground State - 0.83s, Get Pauli Ops - 4.15s, Calculate Pauli Expectation Values - 8.47s, Calculate Covariance - 1.65s\n",
      "f0,f1,f2 = [4.874059836753577e-09, 4.874059836751142e-09, 4.874059836744183e-09]\n",
      "d01,d02,d12 = [1.3736171499362357, 1.3736171499412526, 1.3736171499368885]\n"
     ]
    },
    {
     "name": "stderr",
     "output_type": "stream",
     "text": [
      "Progress:  26%|██▋       | 79/300 [17:26<50:16, 13.65s/it]"
     ]
    },
    {
     "name": "stdout",
     "output_type": "stream",
     "text": [
      "Time to: Calculate Ground State - 0.84s, Get Pauli Ops - 4.11s, Calculate Pauli Expectation Values - 5.7s, Calculate Covariance - 1.65s\n",
      "f0,f1,f2 = [7.50427853746343e-09, 7.50427853747968e-09, 7.50427853746315e-09]\n",
      "d01,d02,d12 = [1.3684582983487155, 1.3684582983539277, 1.3684582983494136]\n"
     ]
    },
    {
     "name": "stderr",
     "output_type": "stream",
     "text": [
      "Progress:  27%|██▋       | 80/300 [17:40<49:49, 13.59s/it]"
     ]
    },
    {
     "name": "stdout",
     "output_type": "stream",
     "text": [
      "Time to: Calculate Ground State - 0.81s, Get Pauli Ops - 4.19s, Calculate Pauli Expectation Values - 6.78s, Calculate Covariance - 1.66s\n",
      "f0,f1,f2 = [5.266917244529123e-09, 5.266917244522604e-09, 5.266917244537512e-09]\n",
      "d01,d02,d12 = [1.361052867121105, 1.3610528671265065, 1.3610528671218391]\n"
     ]
    },
    {
     "name": "stderr",
     "output_type": "stream",
     "text": [
      "Progress:  27%|██▋       | 81/300 [17:51<47:28, 13.01s/it]"
     ]
    },
    {
     "name": "stdout",
     "output_type": "stream",
     "text": [
      "Time to: Calculate Ground State - 0.9s, Get Pauli Ops - 4.12s, Calculate Pauli Expectation Values - 4.97s, Calculate Covariance - 1.65s\n",
      "f0,f1,f2 = [5.1149622010236775e-09, 5.114962200981513e-09, 5.114962200982972e-09]\n",
      "d01,d02,d12 = [1.3503806234061053, 1.3503806234116909, 1.3503806234068763]\n"
     ]
    },
    {
     "name": "stderr",
     "output_type": "stream",
     "text": [
      "Progress:  27%|██▋       | 82/300 [18:06<49:10, 13.54s/it]"
     ]
    },
    {
     "name": "stdout",
     "output_type": "stream",
     "text": [
      "Time to: Calculate Ground State - 0.89s, Get Pauli Ops - 4.09s, Calculate Pauli Expectation Values - 8.14s, Calculate Covariance - 1.65s\n",
      "f0,f1,f2 = [6.183121741858863e-09, 6.183121741875554e-09, 6.183121741906097e-09]\n",
      "d01,d02,d12 = [1.3377516880974483, 1.3377516881032328, 1.3377516880982514]\n"
     ]
    },
    {
     "name": "stderr",
     "output_type": "stream",
     "text": [
      "/cluster/home/mskrabulis/miniconda3/envs/quantech/lib/python3.9/site-packages/pyscf/symm/Dmatrix.py:156: RuntimeWarning: invalid value encountered in arccos\n",
      "  gamma = numpy.arccos(yp.dot(c2[1]))\n",
      "Progress:  28%|██▊       | 83/300 [18:21<50:23, 13.93s/it]"
     ]
    },
    {
     "name": "stdout",
     "output_type": "stream",
     "text": [
      "Time to: Calculate Ground State - 0.88s, Get Pauli Ops - 4.15s, Calculate Pauli Expectation Values - 8.18s, Calculate Covariance - 1.64s\n",
      "f0,f1,f2 = [4.867278366504964e-09, 4.8672783665572476e-09, 4.867278366515144e-09]\n",
      "d01,d02,d12 = [1.3209856697076459, 1.320985669713677, 1.3209856697084772]\n"
     ]
    },
    {
     "name": "stderr",
     "output_type": "stream",
     "text": [
      "/cluster/home/mskrabulis/miniconda3/envs/quantech/lib/python3.9/site-packages/pyscf/symm/Dmatrix.py:156: RuntimeWarning: invalid value encountered in arccos\n",
      "  gamma = numpy.arccos(yp.dot(c2[1]))\n",
      "Progress:  28%|██▊       | 84/300 [18:34<48:51, 13.57s/it]"
     ]
    },
    {
     "name": "stdout",
     "output_type": "stream",
     "text": [
      "Time to: Calculate Ground State - 0.82s, Get Pauli Ops - 4.05s, Calculate Pauli Expectation Values - 6.2s, Calculate Covariance - 1.65s\n",
      "f0,f1,f2 = [5.084202969838487e-09, 5.0842029697798e-09, 5.084202969865434e-09]\n",
      "d01,d02,d12 = [1.3045707466400462, 1.304570746646314, 1.304570746640893]\n"
     ]
    },
    {
     "name": "stderr",
     "output_type": "stream",
     "text": [
      "/cluster/home/mskrabulis/miniconda3/envs/quantech/lib/python3.9/site-packages/pyscf/symm/Dmatrix.py:156: RuntimeWarning: invalid value encountered in arccos\n",
      "  gamma = numpy.arccos(yp.dot(c2[1]))\n",
      "Progress:  28%|██▊       | 85/300 [18:47<48:04, 13.42s/it]"
     ]
    },
    {
     "name": "stdout",
     "output_type": "stream",
     "text": [
      "Time to: Calculate Ground State - 0.86s, Get Pauli Ops - 4.12s, Calculate Pauli Expectation Values - 6.42s, Calculate Covariance - 1.65s\n",
      "f0,f1,f2 = [6.7774134248475456e-09, 6.777413424859164e-09, 6.777413424904988e-09]\n",
      "d01,d02,d12 = [1.2807021175834898, 1.2807021175899687, 1.280702117584336]\n"
     ]
    },
    {
     "name": "stderr",
     "output_type": "stream",
     "text": [
      "Progress:  29%|██▊       | 86/300 [19:00<47:12, 13.24s/it]"
     ]
    },
    {
     "name": "stdout",
     "output_type": "stream",
     "text": [
      "Time to: Calculate Ground State - 0.84s, Get Pauli Ops - 4.12s, Calculate Pauli Expectation Values - 6.21s, Calculate Covariance - 1.65s\n",
      "f0,f1,f2 = [4.509777024384694e-09, 4.509777024330781e-09, 4.509777024382727e-09]\n",
      "d01,d02,d12 = [1.2522358716258735, 1.2522358716324355, 1.252235871626691]\n"
     ]
    },
    {
     "name": "stderr",
     "output_type": "stream",
     "text": [
      "/cluster/home/mskrabulis/miniconda3/envs/quantech/lib/python3.9/site-packages/pyscf/symm/Dmatrix.py:156: RuntimeWarning: invalid value encountered in arccos\n",
      "  gamma = numpy.arccos(yp.dot(c2[1]))\n",
      "Progress:  29%|██▉       | 87/300 [19:12<46:04, 12.98s/it]"
     ]
    },
    {
     "name": "stdout",
     "output_type": "stream",
     "text": [
      "Time to: Calculate Ground State - 0.83s, Get Pauli Ops - 4.17s, Calculate Pauli Expectation Values - 5.72s, Calculate Covariance - 1.65s\n",
      "f0,f1,f2 = [7.90266422644382e-09, 7.902664226432601e-09, 7.902664226423406e-09]\n",
      "d01,d02,d12 = [1.227252952250283, 1.227252952256961, 1.2272529522510698]\n"
     ]
    },
    {
     "name": "stderr",
     "output_type": "stream",
     "text": [
      "/cluster/home/mskrabulis/miniconda3/envs/quantech/lib/python3.9/site-packages/pyscf/symm/Dmatrix.py:156: RuntimeWarning: invalid value encountered in arccos\n",
      "  gamma = numpy.arccos(yp.dot(c2[1]))\n",
      "Progress:  29%|██▉       | 88/300 [19:29<49:52, 14.12s/it]"
     ]
    },
    {
     "name": "stdout",
     "output_type": "stream",
     "text": [
      "Time to: Calculate Ground State - 0.85s, Get Pauli Ops - 4.13s, Calculate Pauli Expectation Values - 10.12s, Calculate Covariance - 1.66s\n",
      "f0,f1,f2 = [3.800239273630363e-09, 3.800239273637984e-09, 3.8002392736328e-09]\n",
      "d01,d02,d12 = [1.1942846498632715, 1.1942846498699955, 1.1942846498640198]\n"
     ]
    },
    {
     "name": "stderr",
     "output_type": "stream",
     "text": [
      "Progress:  30%|██▉       | 89/300 [19:42<48:52, 13.90s/it]"
     ]
    },
    {
     "name": "stdout",
     "output_type": "stream",
     "text": [
      "Time to: Calculate Ground State - 0.81s, Get Pauli Ops - 4.1s, Calculate Pauli Expectation Values - 6.82s, Calculate Covariance - 1.66s\n",
      "f0,f1,f2 = [7.6245044117508e-09, 7.624504411731606e-09, 7.624504411699007e-09]\n",
      "d01,d02,d12 = [1.1543447875376285, 1.1543447875443396, 1.1543447875383264]\n"
     ]
    },
    {
     "name": "stderr",
     "output_type": "stream",
     "text": [
      "Progress:  30%|███       | 90/300 [19:55<47:11, 13.48s/it]"
     ]
    },
    {
     "name": "stdout",
     "output_type": "stream",
     "text": [
      "Time to: Calculate Ground State - 0.88s, Get Pauli Ops - 4.18s, Calculate Pauli Expectation Values - 5.8s, Calculate Covariance - 1.65s\n",
      "f0,f1,f2 = [1.758479927705627e-09, 1.7584799275939622e-09, 1.758479927659115e-09]\n",
      "d01,d02,d12 = [1.1179808916979042, 1.1179808917048315, 1.117980891698572]\n"
     ]
    },
    {
     "name": "stderr",
     "output_type": "stream",
     "text": [
      "/cluster/home/mskrabulis/miniconda3/envs/quantech/lib/python3.9/site-packages/pyscf/symm/Dmatrix.py:156: RuntimeWarning: invalid value encountered in arccos\n",
      "  gamma = numpy.arccos(yp.dot(c2[1]))\n",
      "Progress:  30%|███       | 91/300 [20:09<48:22, 13.89s/it]"
     ]
    },
    {
     "name": "stdout",
     "output_type": "stream",
     "text": [
      "Time to: Calculate Ground State - 0.9s, Get Pauli Ops - 4.27s, Calculate Pauli Expectation Values - 8.01s, Calculate Covariance - 1.65s\n",
      "f0,f1,f2 = [6.8027866970312285e-09, 6.80278669700525e-09, 6.802786697050359e-09]\n",
      "d01,d02,d12 = [1.0839511194414801, 1.083951119448462, 1.083951119442086]\n"
     ]
    },
    {
     "name": "stderr",
     "output_type": "stream",
     "text": [
      "Progress:  31%|███       | 92/300 [20:27<51:41, 14.91s/it]"
     ]
    },
    {
     "name": "stdout",
     "output_type": "stream",
     "text": [
      "Time to: Calculate Ground State - 0.88s, Get Pauli Ops - 4.18s, Calculate Pauli Expectation Values - 10.59s, Calculate Covariance - 1.65s\n",
      "f0,f1,f2 = [2.9153216181254727e-09, 2.9153216180505446e-09, 2.91532161810475e-09]\n",
      "d01,d02,d12 = [1.0463465708470503, 1.0463465708541986, 1.0463465708476032]\n"
     ]
    },
    {
     "name": "stderr",
     "output_type": "stream",
     "text": [
      "Progress:  31%|███       | 93/300 [20:41<50:47, 14.72s/it]"
     ]
    },
    {
     "name": "stdout",
     "output_type": "stream",
     "text": [
      "Time to: Calculate Ground State - 0.89s, Get Pauli Ops - 4.2s, Calculate Pauli Expectation Values - 7.52s, Calculate Covariance - 1.67s\n",
      "f0,f1,f2 = [2.6246699036143013e-09, 2.6246699035336822e-09, 2.624669903604864e-09]\n",
      "d01,d02,d12 = [0.9992397183768692, 0.9992397183841364, 0.9992397183773831]\n"
     ]
    },
    {
     "name": "stderr",
     "output_type": "stream",
     "text": [
      "Progress:  31%|███▏      | 94/300 [20:56<50:59, 14.85s/it]"
     ]
    },
    {
     "name": "stdout",
     "output_type": "stream",
     "text": [
      "Time to: Calculate Ground State - 0.89s, Get Pauli Ops - 4.18s, Calculate Pauli Expectation Values - 8.42s, Calculate Covariance - 1.65s\n",
      "f0,f1,f2 = [1.8123657655165355e-09, 1.8123657656447915e-09, 1.8123657654694507e-09]\n",
      "d01,d02,d12 = [0.9622765105492495, 0.9622765105567164, 0.9622765105497503]\n"
     ]
    },
    {
     "name": "stderr",
     "output_type": "stream",
     "text": [
      "Progress:  32%|███▏      | 95/300 [21:10<49:37, 14.52s/it]"
     ]
    },
    {
     "name": "stdout",
     "output_type": "stream",
     "text": [
      "Time to: Calculate Ground State - 0.95s, Get Pauli Ops - 4.19s, Calculate Pauli Expectation Values - 6.95s, Calculate Covariance - 1.65s\n",
      "f0,f1,f2 = [1.1708471691670882e-09, 1.1708471692736475e-09, 1.1708471691463285e-09]\n",
      "d01,d02,d12 = [0.9213751738725962, 0.921375173880304, 0.9213751738730684]\n"
     ]
    },
    {
     "name": "stderr",
     "output_type": "stream",
     "text": [
      "Progress:  32%|███▏      | 96/300 [21:24<49:20, 14.51s/it]"
     ]
    },
    {
     "name": "stdout",
     "output_type": "stream",
     "text": [
      "Time to: Calculate Ground State - 0.86s, Get Pauli Ops - 4.22s, Calculate Pauli Expectation Values - 7.73s, Calculate Covariance - 1.67s\n",
      "f0,f1,f2 = [2.4910126716561336e-09, 2.4910126717839425e-09, 2.491012671651903e-09]\n",
      "d01,d02,d12 = [0.8813317797077467, 0.8813317797157518, 0.8813317797081937]\n"
     ]
    },
    {
     "name": "stderr",
     "output_type": "stream",
     "text": [
      "/cluster/home/mskrabulis/miniconda3/envs/quantech/lib/python3.9/site-packages/pyscf/symm/Dmatrix.py:156: RuntimeWarning: invalid value encountered in arccos\n",
      "  gamma = numpy.arccos(yp.dot(c2[1]))\n",
      "Progress:  32%|███▏      | 97/300 [21:38<48:26, 14.32s/it]"
     ]
    },
    {
     "name": "stdout",
     "output_type": "stream",
     "text": [
      "Time to: Calculate Ground State - 0.85s, Get Pauli Ops - 4.13s, Calculate Pauli Expectation Values - 7.22s, Calculate Covariance - 1.65s\n",
      "f0,f1,f2 = [7.196954778486406e-09, 7.196954778705935e-09, 7.196954778504976e-09]\n",
      "d01,d02,d12 = [0.8454396930852071, 0.8454396930929744, 0.8454396930856293]\n"
     ]
    },
    {
     "name": "stderr",
     "output_type": "stream",
     "text": [
      "/cluster/home/mskrabulis/miniconda3/envs/quantech/lib/python3.9/site-packages/pyscf/symm/Dmatrix.py:156: RuntimeWarning: invalid value encountered in arccos\n",
      "  gamma = numpy.arccos(yp.dot(c2[1]))\n",
      "Progress:  33%|███▎      | 98/300 [21:59<54:07, 16.08s/it]"
     ]
    },
    {
     "name": "stdout",
     "output_type": "stream",
     "text": [
      "Time to: Calculate Ground State - 0.83s, Get Pauli Ops - 4.06s, Calculate Pauli Expectation Values - 13.64s, Calculate Covariance - 1.64s\n",
      "f0,f1,f2 = [9.207835283907073e-09, 9.207835284168118e-09, 9.207835283901627e-09]\n",
      "d01,d02,d12 = [0.8176483843143287, 0.8176483843215294, 0.817648384314721]\n"
     ]
    },
    {
     "name": "stderr",
     "output_type": "stream",
     "text": [
      "/cluster/home/mskrabulis/miniconda3/envs/quantech/lib/python3.9/site-packages/pyscf/symm/Dmatrix.py:156: RuntimeWarning: invalid value encountered in arccos\n",
      "  gamma = numpy.arccos(yp.dot(c2[1]))\n",
      "Progress:  33%|███▎      | 99/300 [22:15<54:13, 16.19s/it]"
     ]
    },
    {
     "name": "stdout",
     "output_type": "stream",
     "text": [
      "Time to: Calculate Ground State - 0.82s, Get Pauli Ops - 4.13s, Calculate Pauli Expectation Values - 9.84s, Calculate Covariance - 1.65s\n",
      "f0,f1,f2 = [1.1284702865351213e-08, 1.1284702865609006e-08, 1.1284702865374917e-08]\n",
      "d01,d02,d12 = [0.7945219624970168, 0.7945219625031127, 0.7945219624973536]\n"
     ]
    },
    {
     "name": "stderr",
     "output_type": "stream",
     "text": [
      "Progress:  33%|███▎      | 100/300 [22:29<51:56, 15.58s/it]"
     ]
    },
    {
     "name": "stdout",
     "output_type": "stream",
     "text": [
      "Time to: Calculate Ground State - 0.91s, Get Pauli Ops - 4.14s, Calculate Pauli Expectation Values - 7.47s, Calculate Covariance - 1.64s\n",
      "f0,f1,f2 = [1.0967244296427637e-08, 1.0967244296647884e-08, 1.0967244296440117e-08]\n",
      "d01,d02,d12 = [0.7761500346958281, 0.7761500347007061, 0.776150034696114]\n"
     ]
    },
    {
     "name": "stderr",
     "output_type": "stream",
     "text": [
      "Progress:  34%|███▎      | 101/300 [22:41<48:13, 14.54s/it]"
     ]
    },
    {
     "name": "stdout",
     "output_type": "stream",
     "text": [
      "Time to: Calculate Ground State - 0.8s, Get Pauli Ops - 4.29s, Calculate Pauli Expectation Values - 5.37s, Calculate Covariance - 1.65s\n",
      "f0,f1,f2 = [1.61452940670434e-08, 1.6145294067252028e-08, 1.614529406702938e-08]\n",
      "d01,d02,d12 = [0.7638749571104293, 0.7638749571139165, 0.7638749571106633]\n"
     ]
    },
    {
     "name": "stderr",
     "output_type": "stream",
     "text": [
      "Progress:  34%|███▍      | 102/300 [22:54<46:19, 14.04s/it]"
     ]
    },
    {
     "name": "stdout",
     "output_type": "stream",
     "text": [
      "Time to: Calculate Ground State - 0.9s, Get Pauli Ops - 4.16s, Calculate Pauli Expectation Values - 6.15s, Calculate Covariance - 1.65s\n",
      "f0,f1,f2 = [1.4562038568902296e-08, 1.456203856903474e-08, 1.4562038568876506e-08]\n",
      "d01,d02,d12 = [0.7564421013851037, 0.7564421013871698, 0.7564421013852798]\n"
     ]
    },
    {
     "name": "stderr",
     "output_type": "stream",
     "text": [
      "Progress:  34%|███▍      | 103/300 [23:07<44:35, 13.58s/it]"
     ]
    },
    {
     "name": "stdout",
     "output_type": "stream",
     "text": [
      "Time to: Calculate Ground State - 0.86s, Get Pauli Ops - 4.69s, Calculate Pauli Expectation Values - 5.31s, Calculate Covariance - 1.64s\n",
      "f0,f1,f2 = [1.733150362999488e-08, 1.733150363010414e-08, 1.7331503629951257e-08]\n",
      "d01,d02,d12 = [0.7571412732568451, 0.7571412732574258, 0.7571412732569417]\n"
     ]
    },
    {
     "name": "stderr",
     "output_type": "stream",
     "text": [
      "Progress:  35%|███▍      | 104/300 [23:18<42:31, 13.02s/it]"
     ]
    },
    {
     "name": "stdout",
     "output_type": "stream",
     "text": [
      "Time to: Calculate Ground State - 0.89s, Get Pauli Ops - 4.16s, Calculate Pauli Expectation Values - 5.01s, Calculate Covariance - 1.65s\n",
      "f0,f1,f2 = [1.5967740266206975e-08, 1.596774026623755e-08, 1.596774026623166e-08]\n",
      "d01,d02,d12 = [0.764393064494468, 0.7643930644935566, 0.7643930644944887]\n"
     ]
    },
    {
     "name": "stderr",
     "output_type": "stream",
     "text": [
      "Progress:  35%|███▌      | 105/300 [23:30<40:54, 12.59s/it]"
     ]
    },
    {
     "name": "stdout",
     "output_type": "stream",
     "text": [
      "Time to: Calculate Ground State - 0.87s, Get Pauli Ops - 4.13s, Calculate Pauli Expectation Values - 4.93s, Calculate Covariance - 1.63s\n",
      "f0,f1,f2 = [1.7329371628266997e-08, 1.7329371628224063e-08, 1.7329371628256098e-08]\n",
      "d01,d02,d12 = [0.7782636244559403, 0.7782636244535328, 0.7782636244558845]\n"
     ]
    },
    {
     "name": "stderr",
     "output_type": "stream",
     "text": [
      "/cluster/home/mskrabulis/miniconda3/envs/quantech/lib/python3.9/site-packages/pyscf/symm/Dmatrix.py:156: RuntimeWarning: invalid value encountered in arccos\n",
      "  gamma = numpy.arccos(yp.dot(c2[1]))\n",
      "Progress:  35%|███▌      | 106/300 [23:50<48:18, 14.94s/it]"
     ]
    },
    {
     "name": "stdout",
     "output_type": "stream",
     "text": [
      "Time to: Calculate Ground State - 0.89s, Get Pauli Ops - 4.15s, Calculate Pauli Expectation Values - 13.74s, Calculate Covariance - 1.65s\n",
      "f0,f1,f2 = [1.5284117762353416e-08, 1.528411776226989e-08, 1.5284117762383638e-08]\n",
      "d01,d02,d12 = [0.797852743357335, 0.7978527433533631, 0.7978527433572117]\n"
     ]
    },
    {
     "name": "stderr",
     "output_type": "stream",
     "text": [
      "Progress:  36%|███▌      | 107/300 [24:06<48:41, 15.14s/it]"
     ]
    },
    {
     "name": "stdout",
     "output_type": "stream",
     "text": [
      "Time to: Calculate Ground State - 0.89s, Get Pauli Ops - 7.22s, Calculate Pauli Expectation Values - 5.85s, Calculate Covariance - 1.64s\n",
      "f0,f1,f2 = [1.421746344321608e-08, 1.421746344303175e-08, 1.4217463443192374e-08]\n",
      "d01,d02,d12 = [0.823692505417847, 0.8236925054124323, 0.8236925054176685]\n"
     ]
    },
    {
     "name": "stderr",
     "output_type": "stream",
     "text": [
      "/cluster/home/mskrabulis/miniconda3/envs/quantech/lib/python3.9/site-packages/pyscf/symm/Dmatrix.py:156: RuntimeWarning: invalid value encountered in arccos\n",
      "  gamma = numpy.arccos(yp.dot(c2[1]))\n",
      "Progress:  36%|███▌      | 108/300 [24:18<45:20, 14.17s/it]"
     ]
    },
    {
     "name": "stdout",
     "output_type": "stream",
     "text": [
      "Time to: Calculate Ground State - 0.82s, Get Pauli Ops - 4.17s, Calculate Pauli Expectation Values - 5.26s, Calculate Covariance - 1.65s\n",
      "f0,f1,f2 = [1.1845595721201593e-08, 1.1845595721022854e-08, 1.1845595721198099e-08]\n",
      "d01,d02,d12 = [0.8557165215450611, 0.8557165215380841, 0.8557165215448218]\n"
     ]
    },
    {
     "name": "stderr",
     "output_type": "stream",
     "text": [
      "Progress:  36%|███▋      | 109/300 [24:31<44:28, 13.97s/it]"
     ]
    },
    {
     "name": "stdout",
     "output_type": "stream",
     "text": [
      "Time to: Calculate Ground State - 0.85s, Get Pauli Ops - 4.11s, Calculate Pauli Expectation Values - 6.88s, Calculate Covariance - 1.65s\n",
      "f0,f1,f2 = [7.141167087380235e-09, 7.141167087219318e-09, 7.141167087378254e-09]\n",
      "d01,d02,d12 = [0.8866437542029678, 0.8866437541943197, 0.8866437542026572]\n"
     ]
    },
    {
     "name": "stderr",
     "output_type": "stream",
     "text": [
      "Progress:  37%|███▋      | 110/300 [24:45<43:39, 13.79s/it]"
     ]
    },
    {
     "name": "stdout",
     "output_type": "stream",
     "text": [
      "Time to: Calculate Ground State - 0.85s, Get Pauli Ops - 4.13s, Calculate Pauli Expectation Values - 6.74s, Calculate Covariance - 1.64s\n",
      "f0,f1,f2 = [3.890888389266049e-09, 3.890888388992553e-09, 3.8908883892320696e-09]\n",
      "d01,d02,d12 = [0.9251552048634659, 0.9251552048532106, 0.9251552048630699]\n"
     ]
    },
    {
     "name": "stderr",
     "output_type": "stream",
     "text": [
      "/cluster/home/mskrabulis/miniconda3/envs/quantech/lib/python3.9/site-packages/pyscf/symm/Dmatrix.py:156: RuntimeWarning: invalid value encountered in arccos\n",
      "  gamma = numpy.arccos(yp.dot(c2[1]))\n",
      "/cluster/home/mskrabulis/miniconda3/envs/quantech/lib/python3.9/site-packages/pyscf/symm/Dmatrix.py:156: RuntimeWarning: invalid value encountered in arccos\n",
      "  gamma = numpy.arccos(yp.dot(c2[1]))\n",
      "Progress:  37%|███▋      | 111/300 [24:57<41:52, 13.29s/it]"
     ]
    },
    {
     "name": "stdout",
     "output_type": "stream",
     "text": [
      "Time to: Calculate Ground State - 0.82s, Get Pauli Ops - 4.17s, Calculate Pauli Expectation Values - 5.48s, Calculate Covariance - 1.66s\n",
      "f0,f1,f2 = [2.324616805632423e-09, 2.3246168053914727e-09, 2.3246168056413114e-09]\n",
      "d01,d02,d12 = [0.965463839445091, 0.965463839433351, 0.9654638394446092]\n"
     ]
    },
    {
     "name": "stderr",
     "output_type": "stream",
     "text": [
      "Progress:  37%|███▋      | 112/300 [25:11<42:01, 13.41s/it]"
     ]
    },
    {
     "name": "stdout",
     "output_type": "stream",
     "text": [
      "Time to: Calculate Ground State - 0.84s, Get Pauli Ops - 4.18s, Calculate Pauli Expectation Values - 7.02s, Calculate Covariance - 1.64s\n",
      "f0,f1,f2 = [4.712153836001157e-10, 4.712153833592e-10, 4.712153836177091e-10]\n",
      "d01,d02,d12 = [1.0047348453229574, 1.0047348453100824, 1.004734845322411]\n"
     ]
    },
    {
     "name": "stderr",
     "output_type": "stream",
     "text": [
      "/cluster/home/mskrabulis/miniconda3/envs/quantech/lib/python3.9/site-packages/pyscf/symm/Dmatrix.py:156: RuntimeWarning: invalid value encountered in arccos\n",
      "  gamma = numpy.arccos(yp.dot(c2[1]))\n",
      "Progress:  38%|███▊      | 113/300 [25:23<40:42, 13.06s/it]"
     ]
    },
    {
     "name": "stdout",
     "output_type": "stream",
     "text": [
      "Time to: Calculate Ground State - 0.86s, Get Pauli Ops - 4.17s, Calculate Pauli Expectation Values - 5.57s, Calculate Covariance - 1.64s\n",
      "f0,f1,f2 = [1.7573204454614523e-09, 1.757320445684166e-09, 1.7573204454520481e-09]\n",
      "d01,d02,d12 = [1.0457548322919847, 1.045754832277904, 1.0457548322913452]\n"
     ]
    },
    {
     "name": "stderr",
     "output_type": "stream",
     "text": [
      "/cluster/home/mskrabulis/miniconda3/envs/quantech/lib/python3.9/site-packages/pyscf/symm/Dmatrix.py:156: RuntimeWarning: invalid value encountered in arccos\n",
      "  gamma = numpy.arccos(yp.dot(c2[1]))\n",
      "Progress:  38%|███▊      | 114/300 [25:39<43:02, 13.89s/it]"
     ]
    },
    {
     "name": "stdout",
     "output_type": "stream",
     "text": [
      "Time to: Calculate Ground State - 0.81s, Get Pauli Ops - 8.35s, Calculate Pauli Expectation Values - 5.01s, Calculate Covariance - 1.63s\n",
      "f0,f1,f2 = [1.9323694960886445e-09, 1.932369496310429e-09, 1.9323694961265132e-09]\n",
      "d01,d02,d12 = [1.0836339689166372, 1.0836339689017709, 1.0836339689159225]\n"
     ]
    },
    {
     "name": "stderr",
     "output_type": "stream",
     "text": [
      "/cluster/home/mskrabulis/miniconda3/envs/quantech/lib/python3.9/site-packages/pyscf/symm/Dmatrix.py:156: RuntimeWarning: invalid value encountered in arccos\n",
      "  gamma = numpy.arccos(yp.dot(c2[1]))\n",
      "Progress:  38%|███▊      | 115/300 [25:54<44:31, 14.44s/it]"
     ]
    },
    {
     "name": "stdout",
     "output_type": "stream",
     "text": [
      "Time to: Calculate Ground State - 0.86s, Get Pauli Ops - 4.2s, Calculate Pauli Expectation Values - 9.02s, Calculate Covariance - 1.65s\n",
      "f0,f1,f2 = [2.767659428714557e-09, 2.767659428822473e-09, 2.7676594286692224e-09]\n",
      "d01,d02,d12 = [1.1114408384484524, 1.1114408384327725, 1.1114408384476708]\n"
     ]
    },
    {
     "name": "stderr",
     "output_type": "stream",
     "text": [
      "Progress:  39%|███▊      | 116/300 [26:07<42:42, 13.93s/it]"
     ]
    },
    {
     "name": "stdout",
     "output_type": "stream",
     "text": [
      "Time to: Calculate Ground State - 0.87s, Get Pauli Ops - 4.14s, Calculate Pauli Expectation Values - 6.06s, Calculate Covariance - 1.65s\n",
      "f0,f1,f2 = [3.784222190304049e-09, 3.784222190339418e-09, 3.7842221902783504e-09]\n",
      "d01,d02,d12 = [1.1325468371920964, 1.1325468371751237, 1.1325468371912364]\n"
     ]
    },
    {
     "name": "stderr",
     "output_type": "stream",
     "text": [
      "Progress:  39%|███▉      | 117/300 [26:19<40:38, 13.32s/it]"
     ]
    },
    {
     "name": "stdout",
     "output_type": "stream",
     "text": [
      "Time to: Calculate Ground State - 0.86s, Get Pauli Ops - 4.19s, Calculate Pauli Expectation Values - 5.2s, Calculate Covariance - 1.65s\n",
      "f0,f1,f2 = [4.154695520267795e-09, 4.15469552045568e-09, 4.154695520283198e-09]\n",
      "d01,d02,d12 = [1.14988092881122, 1.1498809287932246, 1.1498809288102931]\n"
     ]
    },
    {
     "name": "stderr",
     "output_type": "stream",
     "text": [
      "/cluster/home/mskrabulis/miniconda3/envs/quantech/lib/python3.9/site-packages/pyscf/symm/Dmatrix.py:156: RuntimeWarning: invalid value encountered in arccos\n",
      "  gamma = numpy.arccos(yp.dot(c2[1]))\n",
      "/cluster/home/mskrabulis/miniconda3/envs/quantech/lib/python3.9/site-packages/pyscf/symm/Dmatrix.py:156: RuntimeWarning: invalid value encountered in arccos\n",
      "  gamma = numpy.arccos(yp.dot(c2[1]))\n",
      "Progress:  39%|███▉      | 118/300 [26:31<39:09, 12.91s/it]"
     ]
    },
    {
     "name": "stdout",
     "output_type": "stream",
     "text": [
      "Time to: Calculate Ground State - 0.84s, Get Pauli Ops - 4.09s, Calculate Pauli Expectation Values - 5.35s, Calculate Covariance - 1.65s\n",
      "f0,f1,f2 = [4.227488781030094e-09, 4.227488781162211e-09, 4.2274887810533585e-09]\n",
      "d01,d02,d12 = [1.165850244739178, 1.1658502447198569, 1.1658502447381751]\n"
     ]
    },
    {
     "name": "stderr",
     "output_type": "stream",
     "text": [
      "/cluster/home/mskrabulis/miniconda3/envs/quantech/lib/python3.9/site-packages/pyscf/symm/Dmatrix.py:156: RuntimeWarning: invalid value encountered in arccos\n",
      "  gamma = numpy.arccos(yp.dot(c2[1]))\n",
      "Progress:  40%|███▉      | 119/300 [26:52<46:36, 15.45s/it]"
     ]
    },
    {
     "name": "stdout",
     "output_type": "stream",
     "text": [
      "Time to: Calculate Ground State - 0.8s, Get Pauli Ops - 4.12s, Calculate Pauli Expectation Values - 14.81s, Calculate Covariance - 1.64s\n",
      "f0,f1,f2 = [5.147881658650614e-09, 5.147881658770395e-09, 5.147881658678661e-09]\n",
      "d01,d02,d12 = [1.1798380639111072, 1.1798380638904515, 1.1798380639100234]\n"
     ]
    },
    {
     "name": "stderr",
     "output_type": "stream",
     "text": [
      "Progress:  40%|████      | 120/300 [27:05<44:13, 14.74s/it]"
     ]
    },
    {
     "name": "stdout",
     "output_type": "stream",
     "text": [
      "Time to: Calculate Ground State - 0.84s, Get Pauli Ops - 4.24s, Calculate Pauli Expectation Values - 6.36s, Calculate Covariance - 1.65s\n",
      "f0,f1,f2 = [4.8729095136716975e-09, 4.872909513807345e-09, 4.872909513716966e-09]\n",
      "d01,d02,d12 = [1.1869586083664718, 1.1869586083446375, 1.1869586083652959]\n"
     ]
    },
    {
     "name": "stderr",
     "output_type": "stream",
     "text": [
      "/cluster/home/mskrabulis/miniconda3/envs/quantech/lib/python3.9/site-packages/pyscf/symm/Dmatrix.py:156: RuntimeWarning: invalid value encountered in arccos\n",
      "  gamma = numpy.arccos(yp.dot(c2[1]))\n",
      "Progress:  40%|████      | 121/300 [27:21<45:06, 15.12s/it]"
     ]
    },
    {
     "name": "stdout",
     "output_type": "stream",
     "text": [
      "Time to: Calculate Ground State - 0.82s, Get Pauli Ops - 4.12s, Calculate Pauli Expectation Values - 9.41s, Calculate Covariance - 1.65s\n",
      "f0,f1,f2 = [5.2201509809230106e-09, 5.220150981128792e-09, 5.220150980907156e-09]\n",
      "d01,d02,d12 = [1.1924705895586096, 1.1924705895357615, 1.1924705895573597]\n"
     ]
    },
    {
     "name": "stderr",
     "output_type": "stream",
     "text": [
      "Progress:  41%|████      | 122/300 [27:35<43:18, 14.60s/it]"
     ]
    },
    {
     "name": "stdout",
     "output_type": "stream",
     "text": [
      "Time to: Calculate Ground State - 0.82s, Get Pauli Ops - 4.08s, Calculate Pauli Expectation Values - 6.84s, Calculate Covariance - 1.65s\n",
      "f0,f1,f2 = [7.101418793278356e-09, 7.101418793416063e-09, 7.101418793266517e-09]\n",
      "d01,d02,d12 = [1.1953588321200797, 1.195358832096153, 1.1953588321187467]\n"
     ]
    },
    {
     "name": "stderr",
     "output_type": "stream",
     "text": [
      "Progress:  41%|████      | 123/300 [27:47<40:56, 13.88s/it]"
     ]
    },
    {
     "name": "stdout",
     "output_type": "stream",
     "text": [
      "Time to: Calculate Ground State - 0.88s, Get Pauli Ops - 4.12s, Calculate Pauli Expectation Values - 5.56s, Calculate Covariance - 1.65s\n",
      "f0,f1,f2 = [3.666889457323611e-09, 3.6668894574348e-09, 3.666889457360156e-09]\n",
      "d01,d02,d12 = [1.1963299643176621, 1.196329964292684, 1.1963299643162513]\n"
     ]
    },
    {
     "name": "stderr",
     "output_type": "stream",
     "text": [
      "Progress:  41%|████▏     | 124/300 [28:01<41:14, 14.06s/it]"
     ]
    },
    {
     "name": "stdout",
     "output_type": "stream",
     "text": [
      "Time to: Calculate Ground State - 0.93s, Get Pauli Ops - 4.16s, Calculate Pauli Expectation Values - 7.72s, Calculate Covariance - 1.66s\n",
      "f0,f1,f2 = [4.879328440533805e-09, 4.879328440750056e-09, 4.8793284404839925e-09]\n",
      "d01,d02,d12 = [1.1953652923099032, 1.1953652922839682, 1.1953652923084164]\n"
     ]
    },
    {
     "name": "stderr",
     "output_type": "stream",
     "text": [
      "/cluster/home/mskrabulis/miniconda3/envs/quantech/lib/python3.9/site-packages/pyscf/symm/Dmatrix.py:156: RuntimeWarning: invalid value encountered in arccos\n",
      "  gamma = numpy.arccos(yp.dot(c2[1]))\n",
      "Progress:  42%|████▏     | 125/300 [28:13<39:06, 13.41s/it]"
     ]
    },
    {
     "name": "stdout",
     "output_type": "stream",
     "text": [
      "Time to: Calculate Ground State - 0.89s, Get Pauli Ops - 4.23s, Calculate Pauli Expectation Values - 5.1s, Calculate Covariance - 1.65s\n",
      "f0,f1,f2 = [5.886455129247579e-09, 5.886455129444913e-09, 5.8864551291987875e-09]\n",
      "d01,d02,d12 = [1.1922704783427909, 1.1922704783160285, 1.1922704783412457]\n"
     ]
    },
    {
     "name": "stderr",
     "output_type": "stream",
     "text": [
      "Progress:  42%|████▏     | 126/300 [28:34<44:52, 15.48s/it]"
     ]
    },
    {
     "name": "stdout",
     "output_type": "stream",
     "text": [
      "Time to: Calculate Ground State - 0.94s, Get Pauli Ops - 6.05s, Calculate Pauli Expectation Values - 11.66s, Calculate Covariance - 1.65s\n",
      "f0,f1,f2 = [4.7573286257161475e-09, 4.757328625861429e-09, 4.7573286256939145e-09]\n",
      "d01,d02,d12 = [1.1884784263864185, 1.1884784263588313, 1.188478426384815]\n"
     ]
    },
    {
     "name": "stderr",
     "output_type": "stream",
     "text": [
      "/cluster/home/mskrabulis/miniconda3/envs/quantech/lib/python3.9/site-packages/pyscf/symm/Dmatrix.py:156: RuntimeWarning: invalid value encountered in arccos\n",
      "  gamma = numpy.arccos(yp.dot(c2[1]))\n",
      "Progress:  42%|████▏     | 127/300 [28:45<41:14, 14.30s/it]"
     ]
    },
    {
     "name": "stdout",
     "output_type": "stream",
     "text": [
      "Time to: Calculate Ground State - 0.83s, Get Pauli Ops - 4.09s, Calculate Pauli Expectation Values - 5.0s, Calculate Covariance - 1.65s\n",
      "f0,f1,f2 = [3.789974997777659e-09, 3.789974998029392e-09, 3.789974997772337e-09]\n",
      "d01,d02,d12 = [1.1842566198986613, 1.1842566198702884, 1.1842566198969895]\n"
     ]
    },
    {
     "name": "stderr",
     "output_type": "stream",
     "text": [
      "/cluster/home/mskrabulis/miniconda3/envs/quantech/lib/python3.9/site-packages/pyscf/symm/Dmatrix.py:156: RuntimeWarning: invalid value encountered in arccos\n",
      "  gamma = numpy.arccos(yp.dot(c2[1]))\n",
      "Progress:  43%|████▎     | 128/300 [28:57<38:32, 13.44s/it]"
     ]
    },
    {
     "name": "stdout",
     "output_type": "stream",
     "text": [
      "Time to: Calculate Ground State - 0.86s, Get Pauli Ops - 4.15s, Calculate Pauli Expectation Values - 4.78s, Calculate Covariance - 1.63s\n",
      "f0,f1,f2 = [4.634483880512605e-09, 4.6344838808351855e-09, 4.634483880496037e-09]\n",
      "d01,d02,d12 = [1.1774719083940521, 1.1774719083649117, 1.1774719083923093]\n"
     ]
    },
    {
     "name": "stderr",
     "output_type": "stream",
     "text": [
      "/cluster/home/mskrabulis/miniconda3/envs/quantech/lib/python3.9/site-packages/pyscf/symm/Dmatrix.py:156: RuntimeWarning: invalid value encountered in arccos\n",
      "  gamma = numpy.arccos(yp.dot(c2[1]))\n",
      "Progress:  43%|████▎     | 129/300 [29:08<36:34, 12.84s/it]"
     ]
    },
    {
     "name": "stdout",
     "output_type": "stream",
     "text": [
      "Time to: Calculate Ground State - 0.83s, Get Pauli Ops - 4.18s, Calculate Pauli Expectation Values - 4.73s, Calculate Covariance - 1.67s\n",
      "f0,f1,f2 = [5.322668946414311e-09, 5.322668946599139e-09, 5.322668946427645e-09]\n",
      "d01,d02,d12 = [1.1672698509968282, 1.1672698509670831, 1.167269850995016]\n"
     ]
    },
    {
     "name": "stderr",
     "output_type": "stream",
     "text": [
      "Progress:  43%|████▎     | 130/300 [29:20<35:11, 12.42s/it]"
     ]
    },
    {
     "name": "stdout",
     "output_type": "stream",
     "text": [
      "Time to: Calculate Ground State - 0.84s, Get Pauli Ops - 4.23s, Calculate Pauli Expectation Values - 4.72s, Calculate Covariance - 1.66s\n",
      "f0,f1,f2 = [6.398817504142518e-09, 6.398817504241987e-09, 6.3988175041353105e-09]\n",
      "d01,d02,d12 = [1.1555133350491156, 1.1555133350188427, 1.1555133350472364]\n"
     ]
    },
    {
     "name": "stderr",
     "output_type": "stream",
     "text": [
      "Progress:  44%|████▎     | 131/300 [29:31<34:06, 12.11s/it]"
     ]
    },
    {
     "name": "stdout",
     "output_type": "stream",
     "text": [
      "Time to: Calculate Ground State - 0.81s, Get Pauli Ops - 4.13s, Calculate Pauli Expectation Values - 4.79s, Calculate Covariance - 1.65s\n",
      "f0,f1,f2 = [4.424444283098617e-09, 4.4244442832939715e-09, 4.424444283042399e-09]\n",
      "d01,d02,d12 = [1.1416983826265756, 1.1416983825960654, 1.1416983826246445]\n"
     ]
    },
    {
     "name": "stderr",
     "output_type": "stream",
     "text": [
      "Progress:  44%|████▍     | 132/300 [29:42<33:21, 11.92s/it]"
     ]
    },
    {
     "name": "stdout",
     "output_type": "stream",
     "text": [
      "Time to: Calculate Ground State - 0.8s, Get Pauli Ops - 4.14s, Calculate Pauli Expectation Values - 4.86s, Calculate Covariance - 1.65s\n",
      "f0,f1,f2 = [3.978100739879428e-09, 3.978100740002707e-09, 3.9781007398588285e-09]\n",
      "d01,d02,d12 = [1.1313651989810662, 1.1313651989501396, 1.13136519897906]\n"
     ]
    },
    {
     "name": "stderr",
     "output_type": "stream",
     "text": [
      "Progress:  44%|████▍     | 133/300 [29:54<33:07, 11.90s/it]"
     ]
    },
    {
     "name": "stdout",
     "output_type": "stream",
     "text": [
      "Time to: Calculate Ground State - 0.81s, Get Pauli Ops - 4.14s, Calculate Pauli Expectation Values - 5.27s, Calculate Covariance - 1.64s\n",
      "f0,f1,f2 = [5.538166359283119e-09, 5.538166359398368e-09, 5.538166359195685e-09]\n",
      "d01,d02,d12 = [1.119561147569481, 1.1195611475382903, 1.1195611475674316]\n"
     ]
    },
    {
     "name": "stderr",
     "output_type": "stream",
     "text": [
      "/cluster/home/mskrabulis/miniconda3/envs/quantech/lib/python3.9/site-packages/pyscf/symm/Dmatrix.py:156: RuntimeWarning: invalid value encountered in arccos\n",
      "  gamma = numpy.arccos(yp.dot(c2[1]))\n",
      "Progress:  45%|████▍     | 134/300 [30:06<33:07, 11.97s/it]"
     ]
    },
    {
     "name": "stdout",
     "output_type": "stream",
     "text": [
      "Time to: Calculate Ground State - 0.86s, Get Pauli Ops - 4.1s, Calculate Pauli Expectation Values - 5.54s, Calculate Covariance - 1.64s\n",
      "f0,f1,f2 = [2.91238246094505e-09, 2.912382461284655e-09, 2.912382460933063e-09]\n",
      "d01,d02,d12 = [1.1038642226904174, 1.103864222659682, 1.1038642226883706]\n"
     ]
    },
    {
     "name": "stderr",
     "output_type": "stream",
     "text": [
      "Progress:  45%|████▌     | 135/300 [30:21<35:07, 12.78s/it]"
     ]
    },
    {
     "name": "stdout",
     "output_type": "stream",
     "text": [
      "Time to: Calculate Ground State - 0.8s, Get Pauli Ops - 4.16s, Calculate Pauli Expectation Values - 8.03s, Calculate Covariance - 1.65s\n",
      "f0,f1,f2 = [2.5946815792551884e-09, 2.5946815795322033e-09, 2.59468157924424e-09]\n",
      "d01,d02,d12 = [1.0912753198615688, 1.0912753198312624, 1.0912753198595153]\n"
     ]
    },
    {
     "name": "stderr",
     "output_type": "stream",
     "text": [
      "/cluster/home/mskrabulis/miniconda3/envs/quantech/lib/python3.9/site-packages/pyscf/symm/Dmatrix.py:156: RuntimeWarning: invalid value encountered in arccos\n",
      "  gamma = numpy.arccos(yp.dot(c2[1]))\n",
      "Progress:  45%|████▌     | 136/300 [30:34<35:14, 12.89s/it]"
     ]
    },
    {
     "name": "stdout",
     "output_type": "stream",
     "text": [
      "Time to: Calculate Ground State - 0.8s, Get Pauli Ops - 4.14s, Calculate Pauli Expectation Values - 6.54s, Calculate Covariance - 1.67s\n",
      "f0,f1,f2 = [1.344192648882464e-09, 1.3441926492534665e-09, 1.344192648890294e-09]\n",
      "d01,d02,d12 = [1.0773375492001263, 1.077337549170428, 1.077337549198066]\n"
     ]
    },
    {
     "name": "stderr",
     "output_type": "stream",
     "text": [
      "Progress:  46%|████▌     | 137/300 [30:48<35:52, 13.20s/it]"
     ]
    },
    {
     "name": "stdout",
     "output_type": "stream",
     "text": [
      "Time to: Calculate Ground State - 0.92s, Get Pauli Ops - 4.17s, Calculate Pauli Expectation Values - 7.18s, Calculate Covariance - 1.65s\n",
      "f0,f1,f2 = [3.887487449241689e-09, 3.88748744948496e-09, 3.887487449256596e-09]\n",
      "d01,d02,d12 = [1.0585759870634326, 1.0585759870347604, 1.058575987061371]\n"
     ]
    },
    {
     "name": "stderr",
     "output_type": "stream",
     "text": [
      "Progress:  46%|████▌     | 138/300 [31:00<34:12, 12.67s/it]"
     ]
    },
    {
     "name": "stdout",
     "output_type": "stream",
     "text": [
      "Time to: Calculate Ground State - 0.82s, Get Pauli Ops - 4.17s, Calculate Pauli Expectation Values - 4.78s, Calculate Covariance - 1.64s\n",
      "f0,f1,f2 = [2.1914908820970187e-09, 2.1914908822469853e-09, 2.1914908820562466e-09]\n",
      "d01,d02,d12 = [1.0334956294156243, 1.0334956293885407, 1.0334956294135995]\n"
     ]
    },
    {
     "name": "stderr",
     "output_type": "stream",
     "text": [
      "/cluster/home/mskrabulis/miniconda3/envs/quantech/lib/python3.9/site-packages/pyscf/symm/Dmatrix.py:156: RuntimeWarning: invalid value encountered in arccos\n",
      "  gamma = numpy.arccos(yp.dot(c2[1]))\n",
      "Progress:  46%|████▋     | 139/300 [31:14<35:32, 13.24s/it]"
     ]
    },
    {
     "name": "stdout",
     "output_type": "stream",
     "text": [
      "Time to: Calculate Ground State - 0.79s, Get Pauli Ops - 4.12s, Calculate Pauli Expectation Values - 8.02s, Calculate Covariance - 1.64s\n",
      "f0,f1,f2 = [3.1884771706231207e-10, 3.1884771735806197e-10, 3.1884771709263966e-10]\n",
      "d01,d02,d12 = [1.0127803103555246, 1.012780310330668, 1.0127803103535877]\n"
     ]
    },
    {
     "name": "stderr",
     "output_type": "stream",
     "text": [
      "/cluster/home/mskrabulis/miniconda3/envs/quantech/lib/python3.9/site-packages/pyscf/symm/Dmatrix.py:156: RuntimeWarning: invalid value encountered in arccos\n",
      "  gamma = numpy.arccos(yp.dot(c2[1]))\n",
      "Progress:  47%|████▋     | 140/300 [31:27<35:15, 13.22s/it]"
     ]
    },
    {
     "name": "stdout",
     "output_type": "stream",
     "text": [
      "Time to: Calculate Ground State - 0.92s, Get Pauli Ops - 4.17s, Calculate Pauli Expectation Values - 6.43s, Calculate Covariance - 1.64s\n",
      "f0,f1,f2 = [4.902563375555791e-10, 4.902563379688509e-10, 4.902563375008309e-10]\n",
      "d01,d02,d12 = [0.9940744737687108, 0.9940744737460105, 0.9940744737668575]\n"
     ]
    },
    {
     "name": "stderr",
     "output_type": "stream",
     "text": [
      "Progress:  47%|████▋     | 141/300 [31:43<36:53, 13.92s/it]"
     ]
    },
    {
     "name": "stdout",
     "output_type": "stream",
     "text": [
      "Time to: Calculate Ground State - 0.84s, Get Pauli Ops - 4.11s, Calculate Pauli Expectation Values - 8.93s, Calculate Covariance - 1.66s\n",
      "f0,f1,f2 = [1.0703262891755129e-09, 1.070326288906714e-09, 1.070326289182974e-09]\n",
      "d01,d02,d12 = [0.9771925633678475, 0.9771925633476397, 0.9771925633661004]\n"
     ]
    },
    {
     "name": "stderr",
     "output_type": "stream",
     "text": [
      "/cluster/home/mskrabulis/miniconda3/envs/quantech/lib/python3.9/site-packages/pyscf/symm/Dmatrix.py:156: RuntimeWarning: invalid value encountered in arccos\n",
      "  gamma = numpy.arccos(yp.dot(c2[1]))\n",
      "Progress:  47%|████▋     | 142/300 [31:55<34:53, 13.25s/it]"
     ]
    },
    {
     "name": "stdout",
     "output_type": "stream",
     "text": [
      "Time to: Calculate Ground State - 0.88s, Get Pauli Ops - 4.14s, Calculate Pauli Expectation Values - 5.01s, Calculate Covariance - 1.66s\n",
      "f0,f1,f2 = [2.768332424857241e-09, 2.768332424480694e-09, 2.768332424812171e-09]\n",
      "d01,d02,d12 = [0.9655378508858183, 0.9655378508682363, 0.9655378508841767]\n"
     ]
    },
    {
     "name": "stderr",
     "output_type": "stream",
     "text": [
      "Progress:  48%|████▊     | 143/300 [32:07<34:03, 13.01s/it]"
     ]
    },
    {
     "name": "stdout",
     "output_type": "stream",
     "text": [
      "Time to: Calculate Ground State - 0.86s, Get Pauli Ops - 4.25s, Calculate Pauli Expectation Values - 5.69s, Calculate Covariance - 1.65s\n",
      "f0,f1,f2 = [1.8608471034117116e-09, 1.8608471031712115e-09, 1.8608471034971014e-09]\n",
      "d01,d02,d12 = [0.9529031554014351, 0.952903155386517, 0.9529031553999124]\n"
     ]
    },
    {
     "name": "stderr",
     "output_type": "stream",
     "text": [
      "/cluster/home/mskrabulis/miniconda3/envs/quantech/lib/python3.9/site-packages/pyscf/symm/Dmatrix.py:156: RuntimeWarning: invalid value encountered in arccos\n",
      "  gamma = numpy.arccos(yp.dot(c2[1]))\n",
      "Progress:  48%|████▊     | 144/300 [32:20<33:29, 12.88s/it]"
     ]
    },
    {
     "name": "stdout",
     "output_type": "stream",
     "text": [
      "Time to: Calculate Ground State - 0.88s, Get Pauli Ops - 4.15s, Calculate Pauli Expectation Values - 5.87s, Calculate Covariance - 1.66s\n",
      "f0,f1,f2 = [1.8337051637877558e-09, 1.8337051635252972e-09, 1.833705163818834e-09]\n",
      "d01,d02,d12 = [0.9399524185565832, 0.9399524185444461, 0.9399524185551965]\n"
     ]
    },
    {
     "name": "stderr",
     "output_type": "stream",
     "text": [
      "Progress:  48%|████▊     | 145/300 [32:33<33:21, 12.91s/it]"
     ]
    },
    {
     "name": "stdout",
     "output_type": "stream",
     "text": [
      "Time to: Calculate Ground State - 0.87s, Get Pauli Ops - 4.65s, Calculate Pauli Expectation Values - 5.81s, Calculate Covariance - 1.65s\n",
      "f0,f1,f2 = [1.3337328509265488e-09, 1.3337328507494798e-09, 1.3337328508986606e-09]\n",
      "d01,d02,d12 = [0.9262544970419895, 0.926254497032739, 0.9262544970407393]\n"
     ]
    },
    {
     "name": "stderr",
     "output_type": "stream",
     "text": [
      "Progress:  49%|████▊     | 146/300 [32:44<32:21, 12.61s/it]"
     ]
    },
    {
     "name": "stdout",
     "output_type": "stream",
     "text": [
      "Time to: Calculate Ground State - 0.82s, Get Pauli Ops - 4.12s, Calculate Pauli Expectation Values - 5.31s, Calculate Covariance - 1.63s\n",
      "f0,f1,f2 = [4.758354075047662e-09, 4.758354074792534e-09, 4.7583540750137985e-09]\n",
      "d01,d02,d12 = [0.9173558035949435, 0.9173558035885688, 0.9173558035938087]\n"
     ]
    },
    {
     "name": "stderr",
     "output_type": "stream",
     "text": [
      "Progress:  49%|████▉     | 147/300 [32:59<33:20, 13.07s/it]"
     ]
    },
    {
     "name": "stdout",
     "output_type": "stream",
     "text": [
      "Time to: Calculate Ground State - 0.93s, Get Pauli Ops - 4.17s, Calculate Pauli Expectation Values - 7.42s, Calculate Covariance - 1.64s\n",
      "f0,f1,f2 = [2.551807000493294e-09, 2.5518070003145437e-09, 2.551807000432915e-09]\n",
      "d01,d02,d12 = [0.9114879491571601, 0.9114879491537187, 0.9114879491561336]\n"
     ]
    },
    {
     "name": "stderr",
     "output_type": "stream",
     "text": [
      "Progress:  49%|████▉     | 148/300 [33:10<32:12, 12.71s/it]"
     ]
    },
    {
     "name": "stdout",
     "output_type": "stream",
     "text": [
      "Time to: Calculate Ground State - 0.83s, Get Pauli Ops - 4.12s, Calculate Pauli Expectation Values - 5.27s, Calculate Covariance - 1.64s\n",
      "f0,f1,f2 = [3.666824467916558e-09, 3.6668244678173237e-09, 3.6668244679642587e-09]\n",
      "d01,d02,d12 = [0.9072155026537891, 0.9072155026533772, 0.9072155026529054]\n"
     ]
    },
    {
     "name": "stderr",
     "output_type": "stream",
     "text": [
      "/cluster/home/mskrabulis/miniconda3/envs/quantech/lib/python3.9/site-packages/pyscf/symm/Dmatrix.py:156: RuntimeWarning: invalid value encountered in arccos\n",
      "  gamma = numpy.arccos(yp.dot(c2[1]))\n",
      "Progress:  50%|████▉     | 149/300 [33:23<31:58, 12.70s/it]"
     ]
    },
    {
     "name": "stdout",
     "output_type": "stream",
     "text": [
      "Time to: Calculate Ground State - 0.81s, Get Pauli Ops - 4.15s, Calculate Pauli Expectation Values - 6.08s, Calculate Covariance - 1.64s\n",
      "f0,f1,f2 = [5.321512736891627e-09, 5.321512736892725e-09, 5.321512736855589e-09]\n",
      "d01,d02,d12 = [0.9062050231425545, 0.9062050231451659, 0.9062050231418085]\n"
     ]
    },
    {
     "name": "stderr",
     "output_type": "stream",
     "text": [
      "Progress:  50%|█████     | 150/300 [33:37<32:40, 13.07s/it]"
     ]
    },
    {
     "name": "stdout",
     "output_type": "stream",
     "text": [
      "Time to: Calculate Ground State - 0.82s, Get Pauli Ops - 4.16s, Calculate Pauli Expectation Values - 7.27s, Calculate Covariance - 1.65s\n",
      "f0,f1,f2 = [2.4420333602463557e-09, 2.4420333603858597e-09, 2.4420333602969977e-09]\n",
      "d01,d02,d12 = [0.9060669706900577, 0.9060669706956598, 0.9060669706894603]\n"
     ]
    },
    {
     "name": "stderr",
     "output_type": "stream",
     "text": [
      "Progress:  50%|█████     | 151/300 [33:50<32:33, 13.11s/it]"
     ]
    },
    {
     "name": "stdout",
     "output_type": "stream",
     "text": [
      "Time to: Calculate Ground State - 0.82s, Get Pauli Ops - 4.18s, Calculate Pauli Expectation Values - 6.56s, Calculate Covariance - 1.65s\n",
      "f0,f1,f2 = [3.4710318175825154e-09, 3.4710318176888747e-09, 3.471031817582843e-09]\n",
      "d01,d02,d12 = [0.9073784674099397, 0.9073784674184912, 0.9073784674095022]\n"
     ]
    },
    {
     "name": "stderr",
     "output_type": "stream",
     "text": [
      "Progress:  51%|█████     | 152/300 [34:02<31:22, 12.72s/it]"
     ]
    },
    {
     "name": "stdout",
     "output_type": "stream",
     "text": [
      "Time to: Calculate Ground State - 0.81s, Get Pauli Ops - 4.08s, Calculate Pauli Expectation Values - 5.27s, Calculate Covariance - 1.64s\n",
      "f0,f1,f2 = [4.9852039502300895e-09, 4.9852039504553655e-09, 4.9852039502486415e-09]\n",
      "d01,d02,d12 = [0.9108938156443185, 0.9108938156557476, 0.910893815644046]\n"
     ]
    },
    {
     "name": "stderr",
     "output_type": "stream",
     "text": [
      "Progress:  51%|█████     | 153/300 [34:18<33:47, 13.79s/it]"
     ]
    },
    {
     "name": "stdout",
     "output_type": "stream",
     "text": [
      "Time to: Calculate Ground State - 0.8s, Get Pauli Ops - 4.1s, Calculate Pauli Expectation Values - 9.75s, Calculate Covariance - 1.64s\n",
      "f0,f1,f2 = [4.144877451966048e-09, 4.144877452324657e-09, 4.144877451953219e-09]\n",
      "d01,d02,d12 = [0.9161320697826894, 0.9161320697968595, 0.9161320697825822]\n"
     ]
    },
    {
     "name": "stderr",
     "output_type": "stream",
     "text": [
      "/cluster/home/mskrabulis/miniconda3/envs/quantech/lib/python3.9/site-packages/pyscf/symm/Dmatrix.py:156: RuntimeWarning: invalid value encountered in arccos\n",
      "  gamma = numpy.arccos(yp.dot(c2[1]))\n",
      "Progress:  51%|█████▏    | 154/300 [34:31<32:53, 13.52s/it]"
     ]
    },
    {
     "name": "stdout",
     "output_type": "stream",
     "text": [
      "Time to: Calculate Ground State - 0.81s, Get Pauli Ops - 4.12s, Calculate Pauli Expectation Values - 6.28s, Calculate Covariance - 1.67s\n",
      "f0,f1,f2 = [4.786713712808234e-09, 4.786713713011312e-09, 4.786713712785285e-09]\n",
      "d01,d02,d12 = [0.9218648447081154, 0.9218648447249844, 0.9218648447081721]\n"
     ]
    },
    {
     "name": "stderr",
     "output_type": "stream",
     "text": [
      "Progress:  52%|█████▏    | 155/300 [34:44<32:20, 13.38s/it]"
     ]
    },
    {
     "name": "stdout",
     "output_type": "stream",
     "text": [
      "Time to: Calculate Ground State - 0.83s, Get Pauli Ops - 4.14s, Calculate Pauli Expectation Values - 6.44s, Calculate Covariance - 1.66s\n",
      "f0,f1,f2 = [3.1359586615549596e-09, 3.1359586618647896e-09, 3.1359586615195385e-09]\n",
      "d01,d02,d12 = [0.9308289885201037, 0.9308289885395902, 0.9308289885203221]\n"
     ]
    },
    {
     "name": "stderr",
     "output_type": "stream",
     "text": [
      "/cluster/home/mskrabulis/miniconda3/envs/quantech/lib/python3.9/site-packages/pyscf/symm/Dmatrix.py:156: RuntimeWarning: invalid value encountered in arccos\n",
      "  gamma = numpy.arccos(yp.dot(c2[1]))\n",
      "Progress:  52%|█████▏    | 156/300 [34:58<32:08, 13.39s/it]"
     ]
    },
    {
     "name": "stdout",
     "output_type": "stream",
     "text": [
      "Time to: Calculate Ground State - 0.88s, Get Pauli Ops - 4.21s, Calculate Pauli Expectation Values - 6.65s, Calculate Covariance - 1.66s\n",
      "f0,f1,f2 = [3.917361292661443e-09, 3.917361293048916e-09, 3.917361292611503e-09]\n",
      "d01,d02,d12 = [0.9437988989634609, 0.9437988989854115, 0.9437988989638308]\n"
     ]
    },
    {
     "name": "stderr",
     "output_type": "stream",
     "text": [
      "Progress:  52%|█████▏    | 157/300 [35:11<31:51, 13.36s/it]"
     ]
    },
    {
     "name": "stdout",
     "output_type": "stream",
     "text": [
      "Time to: Calculate Ground State - 0.85s, Get Pauli Ops - 4.14s, Calculate Pauli Expectation Values - 6.66s, Calculate Covariance - 1.65s\n",
      "f0,f1,f2 = [1.5434963995946809e-09, 1.5434963999465484e-09, 1.543496399599425e-09]\n",
      "d01,d02,d12 = [0.9572560082451406, 0.9572560082695182, 0.957256008245672]\n"
     ]
    },
    {
     "name": "stderr",
     "output_type": "stream",
     "text": [
      "Progress:  53%|█████▎    | 158/300 [35:30<35:38, 15.06s/it]"
     ]
    },
    {
     "name": "stdout",
     "output_type": "stream",
     "text": [
      "Time to: Calculate Ground State - 0.82s, Get Pauli Ops - 4.16s, Calculate Pauli Expectation Values - 12.38s, Calculate Covariance - 1.66s\n",
      "f0,f1,f2 = [3.074099094441228e-09, 3.074099094973296e-09, 3.0740990944051365e-09]\n",
      "d01,d02,d12 = [0.972455990207312, 0.972455990234118, 0.9724559902080095]\n"
     ]
    },
    {
     "name": "stderr",
     "output_type": "stream",
     "text": [
      "Progress:  53%|█████▎    | 159/300 [35:47<36:28, 15.52s/it]"
     ]
    },
    {
     "name": "stdout",
     "output_type": "stream",
     "text": [
      "Time to: Calculate Ground State - 0.85s, Get Pauli Ops - 7.67s, Calculate Pauli Expectation Values - 6.41s, Calculate Covariance - 1.65s\n",
      "f0,f1,f2 = [1.264634692943802e-09, 1.2646346934607436e-09, 1.264634692884897e-09]\n",
      "d01,d02,d12 = [0.9906463729287834, 0.9906463729583348, 0.9906463729296386]\n"
     ]
    },
    {
     "name": "stderr",
     "output_type": "stream",
     "text": [
      "Progress:  53%|█████▎    | 160/300 [35:58<33:35, 14.40s/it]"
     ]
    },
    {
     "name": "stdout",
     "output_type": "stream",
     "text": [
      "Time to: Calculate Ground State - 0.85s, Get Pauli Ops - 4.14s, Calculate Pauli Expectation Values - 5.14s, Calculate Covariance - 1.64s\n",
      "f0,f1,f2 = [1.1120611986681062e-09, 1.1120611992798931e-09, 1.1120611986324512e-09]\n",
      "d01,d02,d12 = [1.0098415623571135, 1.0098415623889567, 1.009841562358089]\n"
     ]
    },
    {
     "name": "stderr",
     "output_type": "stream",
     "text": [
      "Progress:  54%|█████▎    | 161/300 [36:12<33:01, 14.26s/it]"
     ]
    },
    {
     "name": "stdout",
     "output_type": "stream",
     "text": [
      "Time to: Calculate Ground State - 0.82s, Get Pauli Ops - 6.77s, Calculate Pauli Expectation Values - 4.67s, Calculate Covariance - 1.66s\n",
      "f0,f1,f2 = [2.0458230594335576e-10, 2.0458230625414068e-10, 2.0458230592360292e-10]\n",
      "d01,d02,d12 = [1.0264049086732356, 1.0264049087076113, 1.0264049086743392]\n"
     ]
    },
    {
     "name": "stderr",
     "output_type": "stream",
     "text": [
      "Progress:  54%|█████▍    | 162/300 [36:26<32:11, 14.00s/it]"
     ]
    },
    {
     "name": "stdout",
     "output_type": "stream",
     "text": [
      "Time to: Calculate Ground State - 0.84s, Get Pauli Ops - 4.08s, Calculate Pauli Expectation Values - 6.82s, Calculate Covariance - 1.64s\n",
      "f0,f1,f2 = [3.065085822366503e-09, 3.065085822018298e-09, 3.065085822437897e-09]\n",
      "d01,d02,d12 = [1.042467566648728, 1.0424675666849739, 1.0424675666499228]\n"
     ]
    },
    {
     "name": "stderr",
     "output_type": "stream",
     "text": [
      "Progress:  54%|█████▍    | 163/300 [36:39<31:35, 13.84s/it]"
     ]
    },
    {
     "name": "stdout",
     "output_type": "stream",
     "text": [
      "Time to: Calculate Ground State - 0.84s, Get Pauli Ops - 4.13s, Calculate Pauli Expectation Values - 6.86s, Calculate Covariance - 1.64s\n",
      "f0,f1,f2 = [3.85340515780365e-10, 3.853405162613299e-10, 3.85340515754497e-10]\n",
      "d01,d02,d12 = [1.0571984208126202, 1.057198420850827, 1.0571984208139094]\n"
     ]
    },
    {
     "name": "stderr",
     "output_type": "stream",
     "text": [
      "Progress:  55%|█████▍    | 164/300 [37:01<36:55, 16.29s/it]"
     ]
    },
    {
     "name": "stdout",
     "output_type": "stream",
     "text": [
      "Time to: Calculate Ground State - 0.8s, Get Pauli Ops - 4.11s, Calculate Pauli Expectation Values - 15.45s, Calculate Covariance - 1.66s\n",
      "f0,f1,f2 = [1.936014113039423e-09, 1.93601411267068e-09, 1.936014113031185e-09]\n",
      "d01,d02,d12 = [1.0694250028315202, 1.0694250028715688, 1.0694250028329018]\n"
     ]
    },
    {
     "name": "stderr",
     "output_type": "stream",
     "text": [
      "Progress:  55%|█████▌    | 165/300 [37:13<33:36, 14.93s/it]"
     ]
    },
    {
     "name": "stdout",
     "output_type": "stream",
     "text": [
      "Time to: Calculate Ground State - 0.85s, Get Pauli Ops - 4.18s, Calculate Pauli Expectation Values - 5.07s, Calculate Covariance - 1.65s\n",
      "f0,f1,f2 = [5.1615818251757135e-09, 5.161581824739481e-09, 5.161581825177762e-09]\n",
      "d01,d02,d12 = [1.079159513840934, 1.0791595138829653, 1.079159513842414]\n"
     ]
    },
    {
     "name": "stderr",
     "output_type": "stream",
     "text": [
      "/cluster/home/mskrabulis/miniconda3/envs/quantech/lib/python3.9/site-packages/pyscf/symm/Dmatrix.py:156: RuntimeWarning: invalid value encountered in arccos\n",
      "  gamma = numpy.arccos(yp.dot(c2[1]))\n",
      "Progress:  55%|█████▌    | 166/300 [37:28<33:06, 14.82s/it]"
     ]
    },
    {
     "name": "stdout",
     "output_type": "stream",
     "text": [
      "Time to: Calculate Ground State - 0.85s, Get Pauli Ops - 4.1s, Calculate Pauli Expectation Values - 7.97s, Calculate Covariance - 1.64s\n",
      "f0,f1,f2 = [2.908016976794227e-09, 2.9080169764133435e-09, 2.9080169767980416e-09]\n",
      "d01,d02,d12 = [1.0862375936530315, 1.0862375936965276, 1.0862375936545912]\n"
     ]
    },
    {
     "name": "stderr",
     "output_type": "stream",
     "text": [
      "Progress:  56%|█████▌    | 167/300 [37:41<32:02, 14.45s/it]"
     ]
    },
    {
     "name": "stdout",
     "output_type": "stream",
     "text": [
      "Time to: Calculate Ground State - 0.83s, Get Pauli Ops - 4.19s, Calculate Pauli Expectation Values - 6.92s, Calculate Covariance - 1.65s\n",
      "f0,f1,f2 = [5.975026622681554e-09, 5.9750266222961695e-09, 5.9750266226528936e-09]\n",
      "d01,d02,d12 = [1.0915851644983936, 1.0915851645430523, 1.0915851645000336]\n"
     ]
    },
    {
     "name": "stderr",
     "output_type": "stream",
     "text": [
      "Progress:  56%|█████▌    | 168/300 [37:53<30:14, 13.75s/it]"
     ]
    },
    {
     "name": "stdout",
     "output_type": "stream",
     "text": [
      "Time to: Calculate Ground State - 0.84s, Get Pauli Ops - 4.12s, Calculate Pauli Expectation Values - 5.49s, Calculate Covariance - 1.65s\n",
      "f0,f1,f2 = [4.25003491327134e-09, 4.250034912817286e-09, 4.250034913269884e-09]\n",
      "d01,d02,d12 = [1.094254918370705, 1.0942549184158445, 1.0942549183724108]\n"
     ]
    },
    {
     "name": "stderr",
     "output_type": "stream",
     "text": [
      "/cluster/home/mskrabulis/miniconda3/envs/quantech/lib/python3.9/site-packages/pyscf/symm/Dmatrix.py:156: RuntimeWarning: invalid value encountered in arccos\n",
      "  gamma = numpy.arccos(yp.dot(c2[1]))\n",
      "Progress:  56%|█████▋    | 169/300 [38:07<30:15, 13.86s/it]"
     ]
    },
    {
     "name": "stdout",
     "output_type": "stream",
     "text": [
      "Time to: Calculate Ground State - 0.9s, Get Pauli Ops - 4.16s, Calculate Pauli Expectation Values - 7.39s, Calculate Covariance - 1.66s\n",
      "f0,f1,f2 = [4.675530665184349e-09, 4.67553066479207e-09, 4.675530665145698e-09]\n",
      "d01,d02,d12 = [1.0951237587797475, 1.0951237588251204, 1.0951237587815195]\n"
     ]
    },
    {
     "name": "stderr",
     "output_type": "stream",
     "text": [
      "Progress:  57%|█████▋    | 170/300 [38:24<31:48, 14.68s/it]"
     ]
    },
    {
     "name": "stdout",
     "output_type": "stream",
     "text": [
      "Time to: Calculate Ground State - 0.82s, Get Pauli Ops - 4.12s, Calculate Pauli Expectation Values - 9.98s, Calculate Covariance - 1.65s\n",
      "f0,f1,f2 = [3.790868613156843e-09, 3.790868612798691e-09, 3.7908686131810115e-09]\n",
      "d01,d02,d12 = [1.094246750297501, 1.0942467503429387, 1.0942467502993347]\n"
     ]
    },
    {
     "name": "stderr",
     "output_type": "stream",
     "text": [
      "Progress:  57%|█████▋    | 171/300 [38:39<31:35, 14.69s/it]"
     ]
    },
    {
     "name": "stdout",
     "output_type": "stream",
     "text": [
      "Time to: Calculate Ground State - 0.79s, Get Pauli Ops - 4.15s, Calculate Pauli Expectation Values - 8.14s, Calculate Covariance - 1.64s\n",
      "f0,f1,f2 = [2.572787263236886e-09, 2.5727872629797787e-09, 2.572787263235577e-09]\n",
      "d01,d02,d12 = [1.0921914204244176, 1.09219142046983, 1.0921914204263112]\n"
     ]
    },
    {
     "name": "stderr",
     "output_type": "stream",
     "text": [
      "Progress:  57%|█████▋    | 172/300 [38:50<29:26, 13.80s/it]"
     ]
    },
    {
     "name": "stdout",
     "output_type": "stream",
     "text": [
      "Time to: Calculate Ground State - 0.82s, Get Pauli Ops - 4.14s, Calculate Pauli Expectation Values - 5.13s, Calculate Covariance - 1.63s\n",
      "f0,f1,f2 = [1.7479004703615784e-09, 1.7479004698735764e-09, 1.7479004703700005e-09]\n",
      "d01,d02,d12 = [1.0896729920138188, 1.0896729920592172, 1.089672992015779]\n"
     ]
    },
    {
     "name": "stderr",
     "output_type": "stream",
     "text": [
      "Progress:  58%|█████▊    | 173/300 [39:05<29:57, 14.15s/it]"
     ]
    },
    {
     "name": "stdout",
     "output_type": "stream",
     "text": [
      "Time to: Calculate Ground State - 0.9s, Get Pauli Ops - 4.17s, Calculate Pauli Expectation Values - 8.25s, Calculate Covariance - 1.65s\n",
      "f0,f1,f2 = [2.438377425039638e-10, 2.4383774289424253e-10, 2.438377424723634e-10]\n",
      "d01,d02,d12 = [1.0878930138326806, 1.0878930138780085, 1.0878930138347098]\n"
     ]
    },
    {
     "name": "stderr",
     "output_type": "stream",
     "text": [
      "Progress:  58%|█████▊    | 174/300 [39:22<31:07, 14.82s/it]"
     ]
    },
    {
     "name": "stdout",
     "output_type": "stream",
     "text": [
      "Time to: Calculate Ground State - 0.83s, Get Pauli Ops - 4.14s, Calculate Pauli Expectation Values - 9.76s, Calculate Covariance - 1.65s\n",
      "f0,f1,f2 = [3.0775001574938566e-09, 3.0775001569862734e-09, 3.0775001575592403e-09]\n",
      "d01,d02,d12 = [1.0854075913693344, 1.0854075914144388, 1.085407591371421]\n"
     ]
    },
    {
     "name": "stderr",
     "output_type": "stream",
     "text": [
      "Progress:  58%|█████▊    | 175/300 [39:37<31:02, 14.90s/it]"
     ]
    },
    {
     "name": "stdout",
     "output_type": "stream",
     "text": [
      "Time to: Calculate Ground State - 0.91s, Get Pauli Ops - 4.25s, Calculate Pauli Expectation Values - 8.26s, Calculate Covariance - 1.66s\n",
      "f0,f1,f2 = [3.4370906987021234e-09, 3.437090698214085e-09, 3.4370906987281312e-09]\n",
      "d01,d02,d12 = [1.0808095492825824, 1.0808095493272665, 1.0808095492847178]\n"
     ]
    },
    {
     "name": "stderr",
     "output_type": "stream",
     "text": [
      "Progress:  59%|█████▊    | 176/300 [39:51<30:05, 14.56s/it]"
     ]
    },
    {
     "name": "stdout",
     "output_type": "stream",
     "text": [
      "Time to: Calculate Ground State - 0.86s, Get Pauli Ops - 4.12s, Calculate Pauli Expectation Values - 7.14s, Calculate Covariance - 1.65s\n",
      "f0,f1,f2 = [1.7719949875274953e-10, 1.771994983271346e-10, 1.7719949877351014e-10]\n",
      "d01,d02,d12 = [1.0772635751964081, 1.0772635752410293, 1.0772635751986177]\n"
     ]
    },
    {
     "name": "stderr",
     "output_type": "stream",
     "text": [
      "Progress:  59%|█████▉    | 177/300 [40:03<28:14, 13.77s/it]"
     ]
    },
    {
     "name": "stdout",
     "output_type": "stream",
     "text": [
      "Time to: Calculate Ground State - 0.83s, Get Pauli Ops - 4.12s, Calculate Pauli Expectation Values - 5.32s, Calculate Covariance - 1.65s\n",
      "f0,f1,f2 = [2.5589762432891265e-09, 2.558976242632148e-09, 2.55897624331236e-09]\n",
      "d01,d02,d12 = [1.0728861095851099, 1.07288610962948, 1.072886109587392]\n"
     ]
    },
    {
     "name": "stderr",
     "output_type": "stream",
     "text": [
      "/cluster/home/mskrabulis/miniconda3/envs/quantech/lib/python3.9/site-packages/pyscf/symm/Dmatrix.py:156: RuntimeWarning: invalid value encountered in arccos\n",
      "  gamma = numpy.arccos(yp.dot(c2[1]))\n",
      "Progress:  59%|█████▉    | 178/300 [40:19<29:53, 14.70s/it]"
     ]
    },
    {
     "name": "stdout",
     "output_type": "stream",
     "text": [
      "Time to: Calculate Ground State - 0.81s, Get Pauli Ops - 4.14s, Calculate Pauli Expectation Values - 10.29s, Calculate Covariance - 1.64s\n",
      "f0,f1,f2 = [1.3829421144028411e-09, 1.3829421138468687e-09, 1.3829421144519548e-09]\n",
      "d01,d02,d12 = [1.0689102967005621, 1.0689102967443178, 1.0689102967028987]\n"
     ]
    },
    {
     "name": "stderr",
     "output_type": "stream",
     "text": [
      "Progress:  60%|█████▉    | 179/300 [40:36<30:33, 15.15s/it]"
     ]
    },
    {
     "name": "stdout",
     "output_type": "stream",
     "text": [
      "Time to: Calculate Ground State - 0.81s, Get Pauli Ops - 4.09s, Calculate Pauli Expectation Values - 9.66s, Calculate Covariance - 1.64s\n",
      "f0,f1,f2 = [2.7134580450795236e-09, 2.713458044601769e-09, 2.713458045103584e-09]\n",
      "d01,d02,d12 = [1.0643679357990707, 1.0643679358419573, 1.0643679358014486]\n"
     ]
    },
    {
     "name": "stderr",
     "output_type": "stream",
     "text": [
      "Progress:  60%|██████    | 180/300 [40:50<30:04, 15.04s/it]"
     ]
    },
    {
     "name": "stdout",
     "output_type": "stream",
     "text": [
      "Time to: Calculate Ground State - 0.82s, Get Pauli Ops - 4.08s, Calculate Pauli Expectation Values - 8.22s, Calculate Covariance - 1.66s\n",
      "f0,f1,f2 = [2.334846775030683e-09, 2.3348467745077554e-09, 2.334846775053783e-09]\n",
      "d01,d02,d12 = [1.057901964280678, 1.0579019643226255, 1.0579019642830996]\n"
     ]
    },
    {
     "name": "stderr",
     "output_type": "stream",
     "text": [
      "/cluster/home/mskrabulis/miniconda3/envs/quantech/lib/python3.9/site-packages/pyscf/symm/Dmatrix.py:156: RuntimeWarning: invalid value encountered in arccos\n",
      "  gamma = numpy.arccos(yp.dot(c2[1]))\n",
      "Progress:  60%|██████    | 181/300 [41:05<29:50, 15.05s/it]"
     ]
    },
    {
     "name": "stdout",
     "output_type": "stream",
     "text": [
      "Time to: Calculate Ground State - 0.84s, Get Pauli Ops - 4.1s, Calculate Pauli Expectation Values - 8.45s, Calculate Covariance - 1.65s\n",
      "f0,f1,f2 = [7.339809902827429e-10, 7.339809897919774e-10, 7.339809902743652e-10]\n",
      "d01,d02,d12 = [1.05063761314958, 1.0506376131902304, 1.0506376131520392]\n"
     ]
    },
    {
     "name": "stderr",
     "output_type": "stream",
     "text": [
      "Progress:  61%|██████    | 182/300 [41:23<31:11, 15.86s/it]"
     ]
    },
    {
     "name": "stdout",
     "output_type": "stream",
     "text": [
      "Time to: Calculate Ground State - 0.88s, Get Pauli Ops - 4.15s, Calculate Pauli Expectation Values - 11.07s, Calculate Covariance - 1.64s\n",
      "f0,f1,f2 = [3.0999961764171784e-09, 3.099996175966852e-09, 3.0999961764926272e-09]\n",
      "d01,d02,d12 = [1.0405901478266983, 1.0405901478656367, 1.0405901478291564]\n"
     ]
    },
    {
     "name": "stderr",
     "output_type": "stream",
     "text": [
      "Progress:  61%|██████    | 183/300 [41:38<30:20, 15.56s/it]"
     ]
    },
    {
     "name": "stdout",
     "output_type": "stream",
     "text": [
      "Time to: Calculate Ground State - 0.84s, Get Pauli Ops - 4.14s, Calculate Pauli Expectation Values - 8.23s, Calculate Covariance - 1.65s\n",
      "f0,f1,f2 = [9.05041138208772e-10, 9.050411378464769e-10, 9.050411382301657e-10]\n",
      "d01,d02,d12 = [1.032054853368489, 1.03205485340568, 1.032054853370937]\n"
     ]
    },
    {
     "name": "stderr",
     "output_type": "stream",
     "text": [
      "/cluster/home/mskrabulis/miniconda3/envs/quantech/lib/python3.9/site-packages/pyscf/symm/Dmatrix.py:156: RuntimeWarning: invalid value encountered in arccos\n",
      "  gamma = numpy.arccos(yp.dot(c2[1]))\n",
      "Progress:  61%|██████▏   | 184/300 [41:52<28:53, 14.94s/it]"
     ]
    },
    {
     "name": "stdout",
     "output_type": "stream",
     "text": [
      "Time to: Calculate Ground State - 0.86s, Get Pauli Ops - 4.2s, Calculate Pauli Expectation Values - 6.78s, Calculate Covariance - 1.66s\n",
      "f0,f1,f2 = [6.43022073883994e-10, 6.430220734738132e-10, 6.430220738516603e-10]\n",
      "d01,d02,d12 = [1.0221383709437903, 1.022138370978896, 1.022138370946213]\n"
     ]
    },
    {
     "name": "stderr",
     "output_type": "stream",
     "text": [
      "/cluster/home/mskrabulis/miniconda3/envs/quantech/lib/python3.9/site-packages/pyscf/symm/Dmatrix.py:156: RuntimeWarning: invalid value encountered in arccos\n",
      "  gamma = numpy.arccos(yp.dot(c2[1]))\n",
      "Progress:  62%|██████▏   | 185/300 [42:04<27:25, 14.31s/it]"
     ]
    },
    {
     "name": "stdout",
     "output_type": "stream",
     "text": [
      "Time to: Calculate Ground State - 0.85s, Get Pauli Ops - 4.16s, Calculate Pauli Expectation Values - 6.18s, Calculate Covariance - 1.65s\n",
      "f0,f1,f2 = [3.2130489955125955e-09, 3.2130489950147887e-09, 3.2130489955631077e-09]\n",
      "d01,d02,d12 = [1.0067544547525684, 1.006754454785378, 1.0067544547549607]\n"
     ]
    },
    {
     "name": "stderr",
     "output_type": "stream",
     "text": [
      "Progress:  62%|██████▏   | 186/300 [42:18<26:52, 14.14s/it]"
     ]
    },
    {
     "name": "stdout",
     "output_type": "stream",
     "text": [
      "Time to: Calculate Ground State - 0.86s, Get Pauli Ops - 4.17s, Calculate Pauli Expectation Values - 7.06s, Calculate Covariance - 1.64s\n",
      "f0,f1,f2 = [9.52293578618719e-10, 9.522935789325313e-10, 9.522935786101383e-10]\n",
      "d01,d02,d12 = [0.9878518657897468, 0.9878518658197643, 0.987851865792078]\n"
     ]
    },
    {
     "name": "stderr",
     "output_type": "stream",
     "text": [
      "/cluster/home/mskrabulis/miniconda3/envs/quantech/lib/python3.9/site-packages/pyscf/symm/Dmatrix.py:156: RuntimeWarning: invalid value encountered in arccos\n",
      "  gamma = numpy.arccos(yp.dot(c2[1]))\n",
      "Progress:  62%|██████▏   | 187/300 [42:34<27:28, 14.59s/it]"
     ]
    },
    {
     "name": "stdout",
     "output_type": "stream",
     "text": [
      "Time to: Calculate Ground State - 0.86s, Get Pauli Ops - 4.19s, Calculate Pauli Expectation Values - 8.89s, Calculate Covariance - 1.67s\n",
      "f0,f1,f2 = [7.573098569508879e-11, 7.573098624709307e-11, 7.573098564655403e-11]\n",
      "d01,d02,d12 = [0.9680919823144534, 0.9680919823419145, 0.9680919823167473]\n"
     ]
    },
    {
     "name": "stderr",
     "output_type": "stream",
     "text": [
      "/cluster/home/mskrabulis/miniconda3/envs/quantech/lib/python3.9/site-packages/pyscf/symm/Dmatrix.py:156: RuntimeWarning: invalid value encountered in arccos\n",
      "  gamma = numpy.arccos(yp.dot(c2[1]))\n",
      "Progress:  63%|██████▎   | 188/300 [42:51<28:35, 15.32s/it]"
     ]
    },
    {
     "name": "stdout",
     "output_type": "stream",
     "text": [
      "Time to: Calculate Ground State - 0.84s, Get Pauli Ops - 9.38s, Calculate Pauli Expectation Values - 5.15s, Calculate Covariance - 1.65s\n",
      "f0,f1,f2 = [2.1910414043387917e-10, 2.1910414071036124e-10, 2.1910414044065057e-10]\n",
      "d01,d02,d12 = [0.9456580137032445, 0.9456580137272816, 0.9456580137054373]\n"
     ]
    },
    {
     "name": "stderr",
     "output_type": "stream",
     "text": [
      "Progress:  63%|██████▎   | 189/300 [43:02<26:14, 14.19s/it]"
     ]
    },
    {
     "name": "stdout",
     "output_type": "stream",
     "text": [
      "Time to: Calculate Ground State - 0.83s, Get Pauli Ops - 4.09s, Calculate Pauli Expectation Values - 4.97s, Calculate Covariance - 1.65s\n",
      "f0,f1,f2 = [2.5749314668723776e-09, 2.574931467266038e-09, 2.574931466781172e-09]\n",
      "d01,d02,d12 = [0.9233006653056455, 0.9233006653261706, 0.9233006653077109]\n"
     ]
    },
    {
     "name": "stderr",
     "output_type": "stream",
     "text": [
      "Progress:  63%|██████▎   | 190/300 [43:14<24:33, 13.39s/it]"
     ]
    },
    {
     "name": "stdout",
     "output_type": "stream",
     "text": [
      "Time to: Calculate Ground State - 0.82s, Get Pauli Ops - 4.36s, Calculate Pauli Expectation Values - 4.71s, Calculate Covariance - 1.64s\n",
      "f0,f1,f2 = [3.2737082668515444e-09, 3.273708267229015e-09, 3.2737082667743672e-09]\n",
      "d01,d02,d12 = [0.9054123274632646, 0.9054123274808278, 0.9054123274652495]\n"
     ]
    },
    {
     "name": "stderr",
     "output_type": "stream",
     "text": [
      "/cluster/home/mskrabulis/miniconda3/envs/quantech/lib/python3.9/site-packages/pyscf/symm/Dmatrix.py:156: RuntimeWarning: invalid value encountered in arccos\n",
      "  gamma = numpy.arccos(yp.dot(c2[1]))\n",
      "/cluster/home/mskrabulis/miniconda3/envs/quantech/lib/python3.9/site-packages/pyscf/symm/Dmatrix.py:156: RuntimeWarning: invalid value encountered in arccos\n",
      "  gamma = numpy.arccos(yp.dot(c2[1]))\n",
      "Progress:  64%|██████▎   | 191/300 [43:26<23:36, 12.99s/it]"
     ]
    },
    {
     "name": "stdout",
     "output_type": "stream",
     "text": [
      "Time to: Calculate Ground State - 0.83s, Get Pauli Ops - 4.07s, Calculate Pauli Expectation Values - 5.53s, Calculate Covariance - 1.63s\n",
      "f0,f1,f2 = [4.161796073737981e-09, 4.1617960740675576e-09, 4.161796073656023e-09]\n",
      "d01,d02,d12 = [0.8862976656518975, 0.8862976656655561, 0.886297665653684]\n"
     ]
    },
    {
     "name": "stderr",
     "output_type": "stream",
     "text": [
      "/cluster/home/mskrabulis/miniconda3/envs/quantech/lib/python3.9/site-packages/pyscf/symm/Dmatrix.py:156: RuntimeWarning: invalid value encountered in arccos\n",
      "  gamma = numpy.arccos(yp.dot(c2[1]))\n",
      "Progress:  64%|██████▍   | 192/300 [43:41<24:15, 13.48s/it]"
     ]
    },
    {
     "name": "stdout",
     "output_type": "stream",
     "text": [
      "Time to: Calculate Ground State - 0.83s, Get Pauli Ops - 5.71s, Calculate Pauli Expectation Values - 6.41s, Calculate Covariance - 1.64s\n",
      "f0,f1,f2 = [4.765880974299068e-09, 4.765880974572342e-09, 4.765880974238908e-09]\n",
      "d01,d02,d12 = [0.8716260096592936, 0.8716260096685521, 0.8716260096608087]\n"
     ]
    },
    {
     "name": "stderr",
     "output_type": "stream",
     "text": [
      "Progress:  64%|██████▍   | 193/300 [43:53<23:13, 13.02s/it]"
     ]
    },
    {
     "name": "stdout",
     "output_type": "stream",
     "text": [
      "Time to: Calculate Ground State - 0.82s, Get Pauli Ops - 4.17s, Calculate Pauli Expectation Values - 5.32s, Calculate Covariance - 1.65s\n",
      "f0,f1,f2 = [5.735691534768234e-09, 5.735691534983983e-09, 5.735691534747665e-09]\n",
      "d01,d02,d12 = [0.8589803507360294, 0.8589803507408968, 0.8589803507372799]\n"
     ]
    },
    {
     "name": "stderr",
     "output_type": "stream",
     "text": [
      "Progress:  65%|██████▍   | 194/300 [44:04<22:15, 12.60s/it]"
     ]
    },
    {
     "name": "stdout",
     "output_type": "stream",
     "text": [
      "Time to: Calculate Ground State - 0.82s, Get Pauli Ops - 4.1s, Calculate Pauli Expectation Values - 5.06s, Calculate Covariance - 1.64s\n",
      "f0,f1,f2 = [7.431311910326041e-09, 7.431311910450869e-09, 7.431311910310751e-09]\n",
      "d01,d02,d12 = [0.8496058506145232, 0.8496058506148138, 0.8496058506154662]\n"
     ]
    },
    {
     "name": "stderr",
     "output_type": "stream",
     "text": [
      "Progress:  65%|██████▌   | 195/300 [44:21<24:18, 13.89s/it]"
     ]
    },
    {
     "name": "stdout",
     "output_type": "stream",
     "text": [
      "Time to: Calculate Ground State - 0.83s, Get Pauli Ops - 4.21s, Calculate Pauli Expectation Values - 10.21s, Calculate Covariance - 1.65s\n",
      "f0,f1,f2 = [7.538001849356224e-09, 7.538001849373168e-09, 7.53800184930243e-09]\n",
      "d01,d02,d12 = [0.8435493706835036, 0.8435493706792034, 0.8435493706841138]\n"
     ]
    },
    {
     "name": "stderr",
     "output_type": "stream",
     "text": [
      "Progress:  65%|██████▌   | 196/300 [44:34<23:32, 13.58s/it]"
     ]
    },
    {
     "name": "stdout",
     "output_type": "stream",
     "text": [
      "Time to: Calculate Ground State - 0.81s, Get Pauli Ops - 4.11s, Calculate Pauli Expectation Values - 6.29s, Calculate Covariance - 1.64s\n",
      "f0,f1,f2 = [9.327188037867731e-09, 9.3271880376903e-09, 9.327188037836145e-09]\n",
      "d01,d02,d12 = [0.8423117514564827, 0.842311751447663, 0.8423117514567544]\n"
     ]
    },
    {
     "name": "stderr",
     "output_type": "stream",
     "text": [
      "/cluster/home/mskrabulis/miniconda3/envs/quantech/lib/python3.9/site-packages/pyscf/symm/Dmatrix.py:156: RuntimeWarning: invalid value encountered in arccos\n",
      "  gamma = numpy.arccos(yp.dot(c2[1]))\n",
      "/cluster/home/mskrabulis/miniconda3/envs/quantech/lib/python3.9/site-packages/pyscf/symm/Dmatrix.py:156: RuntimeWarning: invalid value encountered in arccos\n",
      "  gamma = numpy.arccos(yp.dot(c2[1]))\n",
      "Progress:  66%|██████▌   | 197/300 [44:49<24:05, 14.03s/it]"
     ]
    },
    {
     "name": "stdout",
     "output_type": "stream",
     "text": [
      "Time to: Calculate Ground State - 0.83s, Get Pauli Ops - 4.15s, Calculate Pauli Expectation Values - 8.44s, Calculate Covariance - 1.64s\n",
      "f0,f1,f2 = [6.947882878461053e-09, 6.947882878256232e-09, 6.947882878446851e-09]\n",
      "d01,d02,d12 = [0.8439506960469794, 0.8439506960337182, 0.8439506960469125]\n"
     ]
    },
    {
     "name": "stderr",
     "output_type": "stream",
     "text": [
      "Progress:  66%|██████▌   | 198/300 [45:04<24:19, 14.31s/it]"
     ]
    },
    {
     "name": "stdout",
     "output_type": "stream",
     "text": [
      "Time to: Calculate Ground State - 0.84s, Get Pauli Ops - 4.15s, Calculate Pauli Expectation Values - 8.32s, Calculate Covariance - 1.65s\n",
      "f0,f1,f2 = [7.542414550311747e-09, 7.542414549935628e-09, 7.542414550282283e-09]\n",
      "d01,d02,d12 = [0.8487364708185996, 0.8487364708010234, 0.8487364708181873]\n"
     ]
    },
    {
     "name": "stderr",
     "output_type": "stream",
     "text": [
      "Progress:  66%|██████▋   | 199/300 [45:17<23:37, 14.03s/it]"
     ]
    },
    {
     "name": "stdout",
     "output_type": "stream",
     "text": [
      "Time to: Calculate Ground State - 0.81s, Get Pauli Ops - 4.13s, Calculate Pauli Expectation Values - 6.79s, Calculate Covariance - 1.64s\n",
      "f0,f1,f2 = [7.398918413184515e-09, 7.398918412583772e-09, 7.398918413233076e-09]\n",
      "d01,d02,d12 = [0.8556199445649348, 0.8556199445433982, 0.855619944564193]\n"
     ]
    },
    {
     "name": "stderr",
     "output_type": "stream",
     "text": [
      "Progress:  67%|██████▋   | 200/300 [45:32<23:38, 14.18s/it]"
     ]
    },
    {
     "name": "stdout",
     "output_type": "stream",
     "text": [
      "Time to: Calculate Ground State - 0.86s, Get Pauli Ops - 4.17s, Calculate Pauli Expectation Values - 7.85s, Calculate Covariance - 1.65s\n",
      "f0,f1,f2 = [6.429383647813545e-09, 6.429383647204202e-09, 6.42938364782431e-09]\n",
      "d01,d02,d12 = [0.8661586356988638, 0.8661586356734696, 0.8661586356977962]\n"
     ]
    },
    {
     "name": "stderr",
     "output_type": "stream",
     "text": [
      "Progress:  67%|██████▋   | 201/300 [45:46<23:26, 14.20s/it]"
     ]
    },
    {
     "name": "stdout",
     "output_type": "stream",
     "text": [
      "Time to: Calculate Ground State - 0.8s, Get Pauli Ops - 4.2s, Calculate Pauli Expectation Values - 7.59s, Calculate Covariance - 1.65s\n",
      "f0,f1,f2 = [6.906432998120496e-09, 6.906432997460046e-09, 6.906432998165612e-09]\n",
      "d01,d02,d12 = [0.8792002447708269, 0.8792002447415267, 0.8792002447694343]\n"
     ]
    },
    {
     "name": "stderr",
     "output_type": "stream",
     "text": [
      "Progress:  67%|██████▋   | 202/300 [46:00<23:06, 14.14s/it]"
     ]
    },
    {
     "name": "stdout",
     "output_type": "stream",
     "text": [
      "Time to: Calculate Ground State - 0.88s, Get Pauli Ops - 4.22s, Calculate Pauli Expectation Values - 7.26s, Calculate Covariance - 1.64s\n",
      "f0,f1,f2 = [7.686584019410937e-09, 7.686584018606678e-09, 7.68658401943327e-09]\n",
      "d01,d02,d12 = [0.8922604591985677, 0.8922604591658173, 0.8922604591968685]\n"
     ]
    },
    {
     "name": "stderr",
     "output_type": "stream",
     "text": [
      "Progress:  68%|██████▊   | 203/300 [46:13<22:09, 13.70s/it]"
     ]
    },
    {
     "name": "stdout",
     "output_type": "stream",
     "text": [
      "Time to: Calculate Ground State - 0.82s, Get Pauli Ops - 5.48s, Calculate Pauli Expectation Values - 4.71s, Calculate Covariance - 1.65s\n",
      "f0,f1,f2 = [4.979282068301918e-09, 4.979282067562279e-09, 4.979282068299067e-09]\n",
      "d01,d02,d12 = [0.9032308588597022, 0.9032308588238918, 0.9032308588577129]\n"
     ]
    },
    {
     "name": "stderr",
     "output_type": "stream",
     "text": [
      "/cluster/home/mskrabulis/miniconda3/envs/quantech/lib/python3.9/site-packages/pyscf/symm/Dmatrix.py:156: RuntimeWarning: invalid value encountered in arccos\n",
      "  gamma = numpy.arccos(yp.dot(c2[1]))\n",
      "Progress:  68%|██████▊   | 204/300 [46:24<20:42, 12.94s/it]"
     ]
    },
    {
     "name": "stdout",
     "output_type": "stream",
     "text": [
      "Time to: Calculate Ground State - 0.81s, Get Pauli Ops - 4.15s, Calculate Pauli Expectation Values - 4.56s, Calculate Covariance - 1.65s\n",
      "f0,f1,f2 = [4.0488452513544105e-09, 4.0488452504639076e-09, 4.048845251390468e-09]\n",
      "d01,d02,d12 = [0.9174307335390591, 0.9174307335001769, 0.917430733536776]\n"
     ]
    },
    {
     "name": "stderr",
     "output_type": "stream",
     "text": [
      "Progress:  68%|██████▊   | 205/300 [46:35<19:49, 12.52s/it]"
     ]
    },
    {
     "name": "stdout",
     "output_type": "stream",
     "text": [
      "Time to: Calculate Ground State - 0.8s, Get Pauli Ops - 4.09s, Calculate Pauli Expectation Values - 5.0s, Calculate Covariance - 1.65s\n",
      "f0,f1,f2 = [4.031315503848895e-09, 4.031315502875254e-09, 4.031315503902444e-09]\n",
      "d01,d02,d12 = [0.933381374319064, 0.9333813742778223, 0.9333813743165263]\n"
     ]
    },
    {
     "name": "stderr",
     "output_type": "stream",
     "text": [
      "/cluster/home/mskrabulis/miniconda3/envs/quantech/lib/python3.9/site-packages/pyscf/symm/Dmatrix.py:156: RuntimeWarning: invalid value encountered in arccos\n",
      "  gamma = numpy.arccos(yp.dot(c2[1]))\n",
      "Progress:  69%|██████▊   | 206/300 [46:50<20:41, 13.20s/it]"
     ]
    },
    {
     "name": "stdout",
     "output_type": "stream",
     "text": [
      "Time to: Calculate Ground State - 0.95s, Get Pauli Ops - 6.24s, Calculate Pauli Expectation Values - 5.97s, Calculate Covariance - 1.64s\n",
      "f0,f1,f2 = [2.3926884321088446e-09, 2.3926884314763062e-09, 2.3926884321607055e-09]\n",
      "d01,d02,d12 = [0.9501782263625915, 0.9501782263195192, 0.9501782263598212]\n"
     ]
    },
    {
     "name": "stderr",
     "output_type": "stream",
     "text": [
      "/cluster/home/mskrabulis/miniconda3/envs/quantech/lib/python3.9/site-packages/pyscf/symm/Dmatrix.py:156: RuntimeWarning: invalid value encountered in arccos\n",
      "  gamma = numpy.arccos(yp.dot(c2[1]))\n",
      "Progress:  69%|██████▉   | 207/300 [47:05<21:14, 13.71s/it]"
     ]
    },
    {
     "name": "stdout",
     "output_type": "stream",
     "text": [
      "Time to: Calculate Ground State - 0.81s, Get Pauli Ops - 4.1s, Calculate Pauli Expectation Values - 8.32s, Calculate Covariance - 1.65s\n",
      "f0,f1,f2 = [1.5769697946309137e-09, 1.576969793706794e-09, 1.5769697947453878e-09]\n",
      "d01,d02,d12 = [0.9682079286907513, 0.9682079286463819, 0.968207928687801]\n"
     ]
    },
    {
     "name": "stderr",
     "output_type": "stream",
     "text": [
      "Progress:  69%|██████▉   | 208/300 [47:19<21:10, 13.81s/it]"
     ]
    },
    {
     "name": "stdout",
     "output_type": "stream",
     "text": [
      "Time to: Calculate Ground State - 0.81s, Get Pauli Ops - 4.15s, Calculate Pauli Expectation Values - 7.43s, Calculate Covariance - 1.65s\n",
      "f0,f1,f2 = [8.461483800583213e-10, 8.461483793129647e-10, 8.461483801298395e-10]\n",
      "d01,d02,d12 = [0.9840158896511538, 0.9840158896055604, 0.9840158896480373]\n"
     ]
    },
    {
     "name": "stderr",
     "output_type": "stream",
     "text": [
      "Progress:  70%|██████▉   | 209/300 [47:34<21:17, 14.04s/it]"
     ]
    },
    {
     "name": "stdout",
     "output_type": "stream",
     "text": [
      "Time to: Calculate Ground State - 0.81s, Get Pauli Ops - 4.11s, Calculate Pauli Expectation Values - 8.01s, Calculate Covariance - 1.65s\n",
      "f0,f1,f2 = [1.9184641756980835e-09, 1.9184641750568733e-09, 1.918464175747344e-09]\n",
      "d01,d02,d12 = [1.0016215798815415, 1.0016215798351231, 1.0016215798782866]\n"
     ]
    },
    {
     "name": "stderr",
     "output_type": "stream",
     "text": [
      "Progress:  70%|███████   | 210/300 [47:49<21:43, 14.48s/it]"
     ]
    },
    {
     "name": "stdout",
     "output_type": "stream",
     "text": [
      "Time to: Calculate Ground State - 0.82s, Get Pauli Ops - 4.16s, Calculate Pauli Expectation Values - 8.88s, Calculate Covariance - 1.65s\n",
      "f0,f1,f2 = [1.4523284788297615e-09, 1.4523284796442842e-09, 1.4523284788180302e-09]\n",
      "d01,d02,d12 = [1.0175043998564348, 1.0175043998096636, 1.0175043998530502]\n"
     ]
    },
    {
     "name": "stderr",
     "output_type": "stream",
     "text": [
      "Progress:  70%|███████   | 211/300 [48:02<20:48, 14.03s/it]"
     ]
    },
    {
     "name": "stdout",
     "output_type": "stream",
     "text": [
      "Time to: Calculate Ground State - 0.85s, Get Pauli Ops - 4.14s, Calculate Pauli Expectation Values - 6.32s, Calculate Covariance - 1.66s\n",
      "f0,f1,f2 = [9.139661994534924e-10, 9.139661999429682e-10, 9.139661993973929e-10]\n",
      "d01,d02,d12 = [1.0346536062956848, 1.0346536062485465, 1.0346536062921872]\n"
     ]
    },
    {
     "name": "stderr",
     "output_type": "stream",
     "text": [
      "/cluster/home/mskrabulis/miniconda3/envs/quantech/lib/python3.9/site-packages/pyscf/symm/Dmatrix.py:156: RuntimeWarning: invalid value encountered in arccos\n",
      "  gamma = numpy.arccos(yp.dot(c2[1]))\n",
      "Progress:  71%|███████   | 212/300 [48:18<21:23, 14.58s/it]"
     ]
    },
    {
     "name": "stdout",
     "output_type": "stream",
     "text": [
      "Time to: Calculate Ground State - 0.8s, Get Pauli Ops - 4.08s, Calculate Pauli Expectation Values - 9.36s, Calculate Covariance - 1.64s\n",
      "f0,f1,f2 = [1.987110434562894e-09, 1.987110435119303e-09, 1.987110434478144e-09]\n",
      "d01,d02,d12 = [1.051563682204307, 1.0515636821571839, 1.0515636822007217]\n"
     ]
    },
    {
     "name": "stderr",
     "output_type": "stream",
     "text": [
      "Progress:  71%|███████   | 213/300 [48:33<21:22, 14.74s/it]"
     ]
    },
    {
     "name": "stdout",
     "output_type": "stream",
     "text": [
      "Time to: Calculate Ground State - 0.91s, Get Pauli Ops - 4.3s, Calculate Pauli Expectation Values - 8.23s, Calculate Covariance - 1.66s\n",
      "f0,f1,f2 = [1.9031339049350185e-09, 1.9031339056402566e-09, 1.903133904931742e-09]\n",
      "d01,d02,d12 = [1.0666400458210952, 1.066640045773983, 1.0666400458174146]\n"
     ]
    },
    {
     "name": "stderr",
     "output_type": "stream",
     "text": [
      "/cluster/home/mskrabulis/miniconda3/envs/quantech/lib/python3.9/site-packages/pyscf/symm/Dmatrix.py:156: RuntimeWarning: invalid value encountered in arccos\n",
      "  gamma = numpy.arccos(yp.dot(c2[1]))\n",
      "Progress:  71%|███████▏  | 214/300 [48:48<20:56, 14.61s/it]"
     ]
    },
    {
     "name": "stdout",
     "output_type": "stream",
     "text": [
      "Time to: Calculate Ground State - 0.83s, Get Pauli Ops - 4.14s, Calculate Pauli Expectation Values - 7.7s, Calculate Covariance - 1.64s\n",
      "f0,f1,f2 = [1.4518224003447656e-09, 1.4518224008908868e-09, 1.4518224003167163e-09]\n",
      "d01,d02,d12 = [1.0759403630568252, 1.0759403630107034, 1.075940363053103]\n"
     ]
    },
    {
     "name": "stderr",
     "output_type": "stream",
     "text": [
      "Progress:  72%|███████▏  | 215/300 [49:02<20:26, 14.43s/it]"
     ]
    },
    {
     "name": "stdout",
     "output_type": "stream",
     "text": [
      "Time to: Calculate Ground State - 0.83s, Get Pauli Ops - 4.13s, Calculate Pauli Expectation Values - 7.38s, Calculate Covariance - 1.66s\n",
      "f0,f1,f2 = [3.4313394839884098e-09, 3.431339484548909e-09, 3.4313394839059572e-09]\n",
      "d01,d02,d12 = [1.0831853542645433, 1.083185354219645, 1.0831853542608145]\n"
     ]
    },
    {
     "name": "stderr",
     "output_type": "stream",
     "text": [
      "Progress:  72%|███████▏  | 216/300 [49:16<20:03, 14.32s/it]"
     ]
    },
    {
     "name": "stdout",
     "output_type": "stream",
     "text": [
      "Time to: Calculate Ground State - 0.85s, Get Pauli Ops - 4.19s, Calculate Pauli Expectation Values - 7.39s, Calculate Covariance - 1.65s\n",
      "f0,f1,f2 = [4.024743809563649e-09, 4.024743809970386e-09, 4.0247438094739914e-09]\n",
      "d01,d02,d12 = [1.0905985587806468, 1.0905985587369722, 1.090598558776918]\n"
     ]
    },
    {
     "name": "stderr",
     "output_type": "stream",
     "text": [
      "Progress:  72%|███████▏  | 217/300 [49:28<18:47, 13.59s/it]"
     ]
    },
    {
     "name": "stdout",
     "output_type": "stream",
     "text": [
      "Time to: Calculate Ground State - 0.83s, Get Pauli Ops - 4.17s, Calculate Pauli Expectation Values - 5.22s, Calculate Covariance - 1.65s\n",
      "f0,f1,f2 = [2.3155193919240732e-09, 2.3155193923572615e-09, 2.3155193918874788e-09]\n",
      "d01,d02,d12 = [1.0949756315365746, 1.0949756314941157, 1.0949756315328412]\n"
     ]
    },
    {
     "name": "stderr",
     "output_type": "stream",
     "text": [
      "Progress:  73%|███████▎  | 218/300 [49:45<20:11, 14.78s/it]"
     ]
    },
    {
     "name": "stdout",
     "output_type": "stream",
     "text": [
      "Time to: Calculate Ground State - 0.95s, Get Pauli Ops - 4.18s, Calculate Pauli Expectation Values - 10.75s, Calculate Covariance - 1.65s\n",
      "f0,f1,f2 = [4.186155457773483e-09, 4.186155458120802e-09, 4.186155457773222e-09]\n",
      "d01,d02,d12 = [1.0966265430515416, 1.0966265430102682, 1.0966265430477946]\n"
     ]
    },
    {
     "name": "stderr",
     "output_type": "stream",
     "text": [
      "/cluster/home/mskrabulis/miniconda3/envs/quantech/lib/python3.9/site-packages/pyscf/symm/Dmatrix.py:156: RuntimeWarning: invalid value encountered in arccos\n",
      "  gamma = numpy.arccos(yp.dot(c2[1]))\n",
      "Progress:  73%|███████▎  | 219/300 [49:58<19:21, 14.34s/it]"
     ]
    },
    {
     "name": "stdout",
     "output_type": "stream",
     "text": [
      "Time to: Calculate Ground State - 0.85s, Get Pauli Ops - 4.16s, Calculate Pauli Expectation Values - 6.67s, Calculate Covariance - 1.65s\n",
      "f0,f1,f2 = [5.79278907048224e-09, 5.792789070834549e-09, 5.792789070477043e-09]\n",
      "d01,d02,d12 = [1.0956181717111546, 1.09561817167131, 1.0956181717074012]\n"
     ]
    },
    {
     "name": "stderr",
     "output_type": "stream",
     "text": [
      "Progress:  73%|███████▎  | 220/300 [50:13<19:16, 14.45s/it]"
     ]
    },
    {
     "name": "stdout",
     "output_type": "stream",
     "text": [
      "Time to: Calculate Ground State - 0.83s, Get Pauli Ops - 4.11s, Calculate Pauli Expectation Values - 8.11s, Calculate Covariance - 1.64s\n",
      "f0,f1,f2 = [5.112681721787243e-09, 5.112681722144001e-09, 5.112681721755557e-09]\n",
      "d01,d02,d12 = [1.0923752293762856, 1.092375229338117, 1.0923752293725386]\n"
     ]
    },
    {
     "name": "stderr",
     "output_type": "stream",
     "text": [
      "/cluster/home/mskrabulis/miniconda3/envs/quantech/lib/python3.9/site-packages/pyscf/symm/Dmatrix.py:156: RuntimeWarning: invalid value encountered in arccos\n",
      "  gamma = numpy.arccos(yp.dot(c2[1]))\n",
      "Progress:  74%|███████▎  | 221/300 [50:26<18:14, 13.86s/it]"
     ]
    },
    {
     "name": "stdout",
     "output_type": "stream",
     "text": [
      "Time to: Calculate Ground State - 0.82s, Get Pauli Ops - 4.1s, Calculate Pauli Expectation Values - 5.91s, Calculate Covariance - 1.64s\n",
      "f0,f1,f2 = [1.3290054983766748e-09, 1.3290054987304673e-09, 1.3290054983492814e-09]\n",
      "d01,d02,d12 = [1.087911247456414, 1.0879112474199957, 1.087911247452681]\n"
     ]
    },
    {
     "name": "stderr",
     "output_type": "stream",
     "text": [
      "Progress:  74%|███████▍  | 222/300 [50:41<18:34, 14.29s/it]"
     ]
    },
    {
     "name": "stdout",
     "output_type": "stream",
     "text": [
      "Time to: Calculate Ground State - 0.81s, Get Pauli Ops - 4.09s, Calculate Pauli Expectation Values - 8.74s, Calculate Covariance - 1.65s\n",
      "f0,f1,f2 = [3.1868214632526262e-09, 3.1868214637564578e-09, 3.18682146333096e-09]\n",
      "d01,d02,d12 = [1.0827002667592645, 1.0827002667248689, 1.0827002667555512]\n"
     ]
    },
    {
     "name": "stderr",
     "output_type": "stream",
     "text": [
      "Progress:  74%|███████▍  | 223/300 [50:55<18:21, 14.30s/it]"
     ]
    },
    {
     "name": "stdout",
     "output_type": "stream",
     "text": [
      "Time to: Calculate Ground State - 0.84s, Get Pauli Ops - 4.16s, Calculate Pauli Expectation Values - 7.68s, Calculate Covariance - 1.64s\n",
      "f0,f1,f2 = [3.234444467276401e-09, 3.234444467622485e-09, 3.234444467212035e-09]\n",
      "d01,d02,d12 = [1.076829284162645, 1.0768292841302753, 1.0768292841589653]\n"
     ]
    },
    {
     "name": "stderr",
     "output_type": "stream",
     "text": [
      "Progress:  75%|███████▍  | 224/300 [51:09<17:52, 14.11s/it]"
     ]
    },
    {
     "name": "stdout",
     "output_type": "stream",
     "text": [
      "Time to: Calculate Ground State - 0.85s, Get Pauli Ops - 4.14s, Calculate Pauli Expectation Values - 7.01s, Calculate Covariance - 1.65s\n",
      "f0,f1,f2 = [5.099006246101205e-09, 5.099006246233852e-09, 5.099006246070223e-09]\n",
      "d01,d02,d12 = [1.0684032664693497, 1.0684032664390404, 1.0684032664657157]\n"
     ]
    },
    {
     "name": "stderr",
     "output_type": "stream",
     "text": [
      "Progress:  75%|███████▌  | 225/300 [51:23<17:33, 14.05s/it]"
     ]
    },
    {
     "name": "stdout",
     "output_type": "stream",
     "text": [
      "Time to: Calculate Ground State - 0.86s, Get Pauli Ops - 4.1s, Calculate Pauli Expectation Values - 7.3s, Calculate Covariance - 1.65s\n",
      "f0,f1,f2 = [3.905317324103879e-09, 3.905317324383393e-09, 3.905317324073116e-09]\n",
      "d01,d02,d12 = [1.057323183117488, 1.0573231830896117, 1.057323183113951]\n"
     ]
    },
    {
     "name": "stderr",
     "output_type": "stream",
     "text": [
      "Progress:  75%|███████▌  | 226/300 [51:37<17:20, 14.06s/it]"
     ]
    },
    {
     "name": "stdout",
     "output_type": "stream",
     "text": [
      "Time to: Calculate Ground State - 0.85s, Get Pauli Ops - 4.08s, Calculate Pauli Expectation Values - 7.5s, Calculate Covariance - 1.64s\n",
      "f0,f1,f2 = [2.6409674688033657e-09, 2.6409674691138637e-09, 2.640967468760924e-09]\n",
      "d01,d02,d12 = [1.0439493994939064, 1.0439493994683786, 1.0439493994904585]\n"
     ]
    },
    {
     "name": "stderr",
     "output_type": "stream",
     "text": [
      "/cluster/home/mskrabulis/miniconda3/envs/quantech/lib/python3.9/site-packages/pyscf/symm/Dmatrix.py:156: RuntimeWarning: invalid value encountered in arccos\n",
      "  gamma = numpy.arccos(yp.dot(c2[1]))\n",
      "Progress:  76%|███████▌  | 227/300 [51:51<17:06, 14.07s/it]"
     ]
    },
    {
     "name": "stdout",
     "output_type": "stream",
     "text": [
      "Time to: Calculate Ground State - 0.93s, Get Pauli Ops - 4.16s, Calculate Pauli Expectation Values - 7.32s, Calculate Covariance - 1.66s\n",
      "f0,f1,f2 = [1.1408705904111199e-09, 1.1408705908875348e-09, 1.1408705903760404e-09]\n",
      "d01,d02,d12 = [1.0304293995897977, 1.030429399566595, 1.0304293995864267]\n"
     ]
    },
    {
     "name": "stderr",
     "output_type": "stream",
     "text": [
      "Progress:  76%|███████▌  | 228/300 [52:03<16:14, 13.54s/it]"
     ]
    },
    {
     "name": "stdout",
     "output_type": "stream",
     "text": [
      "Time to: Calculate Ground State - 0.87s, Get Pauli Ops - 4.18s, Calculate Pauli Expectation Values - 5.58s, Calculate Covariance - 1.66s\n",
      "f0,f1,f2 = [2.9647715788569835e-09, 2.9647715790651646e-09, 2.9647715788153044e-09]\n",
      "d01,d02,d12 = [1.0130998515245038, 1.0130998515045204, 1.013099851521324]\n"
     ]
    },
    {
     "name": "stderr",
     "output_type": "stream",
     "text": [
      "Progress:  76%|███████▋  | 229/300 [52:16<15:47, 13.35s/it]"
     ]
    },
    {
     "name": "stdout",
     "output_type": "stream",
     "text": [
      "Time to: Calculate Ground State - 0.81s, Get Pauli Ops - 4.18s, Calculate Pauli Expectation Values - 6.24s, Calculate Covariance - 1.66s\n",
      "f0,f1,f2 = [1.4794805367922282e-09, 1.4794805369217895e-09, 1.4794805366989644e-09]\n",
      "d01,d02,d12 = [0.995192556675234, 0.9951925566588469, 0.9951925566723108]\n"
     ]
    },
    {
     "name": "stderr",
     "output_type": "stream",
     "text": [
      "Progress:  77%|███████▋  | 230/300 [52:28<15:02, 12.89s/it]"
     ]
    },
    {
     "name": "stdout",
     "output_type": "stream",
     "text": [
      "Time to: Calculate Ground State - 0.87s, Get Pauli Ops - 4.26s, Calculate Pauli Expectation Values - 5.04s, Calculate Covariance - 1.65s\n",
      "f0,f1,f2 = [2.5309013856728588e-09, 2.5309013854353157e-09, 2.5309013857559073e-09]\n",
      "d01,d02,d12 = [0.9787929641444395, 0.9787929641318726, 0.9787929641418236]\n"
     ]
    },
    {
     "name": "stderr",
     "output_type": "stream",
     "text": [
      "Progress:  77%|███████▋  | 231/300 [52:40<14:23, 12.52s/it]"
     ]
    },
    {
     "name": "stdout",
     "output_type": "stream",
     "text": [
      "Time to: Calculate Ground State - 0.84s, Get Pauli Ops - 4.09s, Calculate Pauli Expectation Values - 5.06s, Calculate Covariance - 1.65s\n",
      "f0,f1,f2 = [8.086231322850012e-10, 8.086231321171328e-10, 8.086231323071567e-10]\n",
      "d01,d02,d12 = [0.9675268637850738, 0.9675268637761922, 0.9675268637827124]\n"
     ]
    },
    {
     "name": "stderr",
     "output_type": "stream",
     "text": [
      "Progress:  77%|███████▋  | 232/300 [52:52<14:16, 12.59s/it]"
     ]
    },
    {
     "name": "stdout",
     "output_type": "stream",
     "text": [
      "Time to: Calculate Ground State - 0.84s, Get Pauli Ops - 4.15s, Calculate Pauli Expectation Values - 6.1s, Calculate Covariance - 1.67s\n",
      "f0,f1,f2 = [2.1654758195164904e-09, 2.1654758193796574e-09, 2.16547581951388e-09]\n",
      "d01,d02,d12 = [0.9559929761467316, 0.9559929761415378, 0.9559929761446224]\n"
     ]
    },
    {
     "name": "stderr",
     "output_type": "stream",
     "text": [
      "Progress:  78%|███████▊  | 233/300 [53:05<14:01, 12.56s/it]"
     ]
    },
    {
     "name": "stdout",
     "output_type": "stream",
     "text": [
      "Time to: Calculate Ground State - 0.85s, Get Pauli Ops - 4.17s, Calculate Pauli Expectation Values - 5.8s, Calculate Covariance - 1.64s\n",
      "f0,f1,f2 = [2.857852007405264e-09, 2.8578520073707167e-09, 2.8578520074016537e-09]\n",
      "d01,d02,d12 = [0.9507929113207954, 0.9507929113192735, 0.9507929113189278]\n"
     ]
    },
    {
     "name": "stderr",
     "output_type": "stream",
     "text": [
      "Progress:  78%|███████▊  | 234/300 [53:19<14:25, 13.12s/it]"
     ]
    },
    {
     "name": "stdout",
     "output_type": "stream",
     "text": [
      "Time to: Calculate Ground State - 0.84s, Get Pauli Ops - 6.15s, Calculate Pauli Expectation Values - 5.8s, Calculate Covariance - 1.64s\n",
      "f0,f1,f2 = [2.6659256656662945e-09, 2.6659256656401027e-09, 2.665925665683169e-09]\n",
      "d01,d02,d12 = [0.946119866364871, 0.94611986636705, 0.946119866363275]\n"
     ]
    },
    {
     "name": "stderr",
     "output_type": "stream",
     "text": [
      "/cluster/home/mskrabulis/miniconda3/envs/quantech/lib/python3.9/site-packages/pyscf/symm/Dmatrix.py:156: RuntimeWarning: invalid value encountered in arccos\n",
      "  gamma = numpy.arccos(yp.dot(c2[1]))\n",
      "Progress:  78%|███████▊  | 235/300 [53:32<14:11, 13.09s/it]"
     ]
    },
    {
     "name": "stdout",
     "output_type": "stream",
     "text": [
      "Time to: Calculate Ground State - 0.83s, Get Pauli Ops - 4.11s, Calculate Pauli Expectation Values - 6.43s, Calculate Covariance - 1.65s\n",
      "f0,f1,f2 = [2.0022858485596275e-09, 2.00228584862251e-09, 2.0022858485725357e-09]\n",
      "d01,d02,d12 = [0.9423330578155215, 0.9423330578213692, 0.9423330578142016]\n"
     ]
    },
    {
     "name": "stderr",
     "output_type": "stream",
     "text": [
      "Progress:  79%|███████▊  | 236/300 [53:46<14:03, 13.18s/it]"
     ]
    },
    {
     "name": "stdout",
     "output_type": "stream",
     "text": [
      "Time to: Calculate Ground State - 0.82s, Get Pauli Ops - 4.19s, Calculate Pauli Expectation Values - 6.72s, Calculate Covariance - 1.66s\n",
      "f0,f1,f2 = [2.726996427228632e-09, 2.7269964273325032e-09, 2.726996427229015e-09]\n",
      "d01,d02,d12 = [0.9400677944933834, 0.9400677945028839, 0.9400677944923468]\n"
     ]
    },
    {
     "name": "stderr",
     "output_type": "stream",
     "text": [
      "Progress:  79%|███████▉  | 237/300 [54:00<14:18, 13.62s/it]"
     ]
    },
    {
     "name": "stdout",
     "output_type": "stream",
     "text": [
      "Time to: Calculate Ground State - 0.82s, Get Pauli Ops - 4.13s, Calculate Pauli Expectation Values - 8.05s, Calculate Covariance - 1.64s\n",
      "f0,f1,f2 = [1.5603156639538875e-09, 1.5603156641362579e-09, 1.560315663952011e-09]\n",
      "d01,d02,d12 = [0.9383219426555476, 0.9383219426686179, 0.9383219426547961]\n"
     ]
    },
    {
     "name": "stderr",
     "output_type": "stream",
     "text": [
      "Progress:  79%|███████▉  | 238/300 [54:17<15:04, 14.59s/it]"
     ]
    },
    {
     "name": "stdout",
     "output_type": "stream",
     "text": [
      "Time to: Calculate Ground State - 0.82s, Get Pauli Ops - 4.17s, Calculate Pauli Expectation Values - 10.24s, Calculate Covariance - 1.63s\n",
      "f0,f1,f2 = [8.438982131999742e-10, 8.438982134278043e-10, 8.438982132081892e-10]\n",
      "d01,d02,d12 = [0.9371016961708375, 0.937101696187386, 0.9371016961703742]\n"
     ]
    },
    {
     "name": "stderr",
     "output_type": "stream",
     "text": [
      "/cluster/home/mskrabulis/miniconda3/envs/quantech/lib/python3.9/site-packages/pyscf/symm/Dmatrix.py:156: RuntimeWarning: invalid value encountered in arccos\n",
      "  gamma = numpy.arccos(yp.dot(c2[1]))\n",
      "Progress:  80%|███████▉  | 239/300 [54:31<14:27, 14.23s/it]"
     ]
    },
    {
     "name": "stdout",
     "output_type": "stream",
     "text": [
      "Time to: Calculate Ground State - 0.82s, Get Pauli Ops - 4.1s, Calculate Pauli Expectation Values - 6.81s, Calculate Covariance - 1.64s\n",
      "f0,f1,f2 = [1.5482094966104771e-09, 1.5482094970584988e-09, 1.5482094966494425e-09]\n",
      "d01,d02,d12 = [0.9366503057339304, 0.9366503057537887, 0.9366503057337694]\n"
     ]
    },
    {
     "name": "stderr",
     "output_type": "stream",
     "text": [
      "/cluster/home/mskrabulis/miniconda3/envs/quantech/lib/python3.9/site-packages/pyscf/symm/Dmatrix.py:156: RuntimeWarning: invalid value encountered in arccos\n",
      "  gamma = numpy.arccos(yp.dot(c2[1]))\n",
      "Progress:  80%|████████  | 240/300 [54:45<14:09, 14.15s/it]"
     ]
    },
    {
     "name": "stdout",
     "output_type": "stream",
     "text": [
      "Time to: Calculate Ground State - 0.81s, Get Pauli Ops - 4.19s, Calculate Pauli Expectation Values - 7.33s, Calculate Covariance - 1.64s\n",
      "f0,f1,f2 = [4.77991841715157e-09, 4.779918417580986e-09, 4.779918417196638e-09]\n",
      "d01,d02,d12 = [0.9382262600578405, 0.9382262600808938, 0.9382262600579963]\n"
     ]
    },
    {
     "name": "stderr",
     "output_type": "stream",
     "text": [
      "Progress:  80%|████████  | 241/300 [54:59<13:52, 14.11s/it]"
     ]
    },
    {
     "name": "stdout",
     "output_type": "stream",
     "text": [
      "Time to: Calculate Ground State - 0.85s, Get Pauli Ops - 4.13s, Calculate Pauli Expectation Values - 7.36s, Calculate Covariance - 1.65s\n",
      "f0,f1,f2 = [5.1498092709659e-10, 5.149809275813322e-10, 5.149809271217921e-10]\n",
      "d01,d02,d12 = [0.9400990775408302, 0.9400990775668512, 0.9400990775413168]\n"
     ]
    },
    {
     "name": "stderr",
     "output_type": "stream",
     "text": [
      "Progress:  81%|████████  | 242/300 [55:11<13:09, 13.61s/it]"
     ]
    },
    {
     "name": "stdout",
     "output_type": "stream",
     "text": [
      "Time to: Calculate Ground State - 0.83s, Get Pauli Ops - 4.14s, Calculate Pauli Expectation Values - 5.84s, Calculate Covariance - 1.64s\n",
      "f0,f1,f2 = [2.1967188806767006e-09, 2.1967188813607644e-09, 2.1967188807182217e-09]\n",
      "d01,d02,d12 = [0.9431807974498344, 0.9431807974785966, 0.9431807974506633]\n"
     ]
    },
    {
     "name": "stderr",
     "output_type": "stream",
     "text": [
      "/cluster/home/mskrabulis/miniconda3/envs/quantech/lib/python3.9/site-packages/pyscf/symm/Dmatrix.py:156: RuntimeWarning: invalid value encountered in arccos\n",
      "  gamma = numpy.arccos(yp.dot(c2[1]))\n",
      "Progress:  81%|████████  | 243/300 [55:27<13:32, 14.26s/it]"
     ]
    },
    {
     "name": "stdout",
     "output_type": "stream",
     "text": [
      "Time to: Calculate Ground State - 0.8s, Get Pauli Ops - 4.12s, Calculate Pauli Expectation Values - 9.17s, Calculate Covariance - 1.65s\n",
      "f0,f1,f2 = [2.5647079119775414e-09, 2.5647079124305858e-09, 2.5647079119649083e-09]\n",
      "d01,d02,d12 = [0.9472525622081441, 0.9472525622395028, 0.9472525622093166]\n"
     ]
    },
    {
     "name": "stderr",
     "output_type": "stream",
     "text": [
      "Progress:  81%|████████▏ | 244/300 [55:41<13:25, 14.38s/it]"
     ]
    },
    {
     "name": "stdout",
     "output_type": "stream",
     "text": [
      "Time to: Calculate Ground State - 0.86s, Get Pauli Ops - 4.13s, Calculate Pauli Expectation Values - 8.02s, Calculate Covariance - 1.65s\n",
      "f0,f1,f2 = [2.307615085170964e-09, 2.307615085669939e-09, 2.307615085123073e-09]\n",
      "d01,d02,d12 = [0.9528324819765068, 0.9528324820104247, 0.9528324819780132]\n"
     ]
    },
    {
     "name": "stderr",
     "output_type": "stream",
     "text": [
      "Progress:  82%|████████▏ | 245/300 [55:53<12:29, 13.63s/it]"
     ]
    },
    {
     "name": "stdout",
     "output_type": "stream",
     "text": [
      "Time to: Calculate Ground State - 0.84s, Get Pauli Ops - 4.14s, Calculate Pauli Expectation Values - 5.26s, Calculate Covariance - 1.65s\n",
      "f0,f1,f2 = [1.7837795030625951e-10, 1.7837795084710908e-10, 1.7837795035783177e-10]\n",
      "d01,d02,d12 = [0.9581955550092058, 0.95819555504543, 0.9581955550110548]\n"
     ]
    },
    {
     "name": "stderr",
     "output_type": "stream",
     "text": [
      "/cluster/home/mskrabulis/miniconda3/envs/quantech/lib/python3.9/site-packages/pyscf/symm/Dmatrix.py:156: RuntimeWarning: invalid value encountered in arccos\n",
      "  gamma = numpy.arccos(yp.dot(c2[1]))\n",
      "Progress:  82%|████████▏ | 246/300 [56:06<12:07, 13.47s/it]"
     ]
    },
    {
     "name": "stdout",
     "output_type": "stream",
     "text": [
      "Time to: Calculate Ground State - 0.82s, Get Pauli Ops - 4.1s, Calculate Pauli Expectation Values - 6.52s, Calculate Covariance - 1.65s\n",
      "f0,f1,f2 = [6.047299243484312e-11, 6.047299294799108e-11, 6.047299232993582e-11]\n",
      "d01,d02,d12 = [0.9638362112737864, 0.9638362113121581, 0.963836211275946]\n"
     ]
    },
    {
     "name": "stderr",
     "output_type": "stream",
     "text": [
      "/cluster/home/mskrabulis/miniconda3/envs/quantech/lib/python3.9/site-packages/pyscf/symm/Dmatrix.py:156: RuntimeWarning: invalid value encountered in arccos\n",
      "  gamma = numpy.arccos(yp.dot(c2[1]))\n",
      "Progress:  82%|████████▏ | 247/300 [56:18<11:23, 12.90s/it]"
     ]
    },
    {
     "name": "stdout",
     "output_type": "stream",
     "text": [
      "Time to: Calculate Ground State - 0.82s, Get Pauli Ops - 4.1s, Calculate Pauli Expectation Values - 5.02s, Calculate Covariance - 1.64s\n",
      "f0,f1,f2 = [7.138074792647124e-10, 7.138074797133318e-10, 7.138074792338171e-10]\n",
      "d01,d02,d12 = [0.9685196765648163, 0.9685196766050819, 0.9685196765672782]\n"
     ]
    },
    {
     "name": "stderr",
     "output_type": "stream",
     "text": [
      "Progress:  83%|████████▎ | 248/300 [56:35<12:10, 14.05s/it]"
     ]
    },
    {
     "name": "stdout",
     "output_type": "stream",
     "text": [
      "Time to: Calculate Ground State - 0.84s, Get Pauli Ops - 8.86s, Calculate Pauli Expectation Values - 5.36s, Calculate Covariance - 1.65s\n",
      "f0,f1,f2 = [1.402055997048814e-09, 1.4020559977789113e-09, 1.402055996973962e-09]\n",
      "d01,d02,d12 = [0.9733002913689108, 0.9733002914104145, 0.9733002913716405]\n"
     ]
    },
    {
     "name": "stderr",
     "output_type": "stream",
     "text": [
      "Progress:  83%|████████▎ | 249/300 [56:47<11:23, 13.39s/it]"
     ]
    },
    {
     "name": "stdout",
     "output_type": "stream",
     "text": [
      "Time to: Calculate Ground State - 0.84s, Get Pauli Ops - 4.07s, Calculate Pauli Expectation Values - 5.29s, Calculate Covariance - 1.65s\n",
      "f0,f1,f2 = [1.1308030854881341e-10, 1.1308030926628829e-10, 1.13080308522592e-10]\n",
      "d01,d02,d12 = [0.9778271469911961, 0.9778271470333654, 0.9778271469941595]\n"
     ]
    },
    {
     "name": "stderr",
     "output_type": "stream",
     "text": [
      "/cluster/home/mskrabulis/miniconda3/envs/quantech/lib/python3.9/site-packages/pyscf/symm/Dmatrix.py:156: RuntimeWarning: invalid value encountered in arccos\n",
      "  gamma = numpy.arccos(yp.dot(c2[1]))\n",
      "Progress:  83%|████████▎ | 250/300 [56:59<10:56, 13.13s/it]"
     ]
    },
    {
     "name": "stdout",
     "output_type": "stream",
     "text": [
      "Time to: Calculate Ground State - 0.83s, Get Pauli Ops - 4.11s, Calculate Pauli Expectation Values - 5.9s, Calculate Covariance - 1.66s\n",
      "f0,f1,f2 = [5.803556091035166e-10, 5.80355608382154e-10, 5.803556091859012e-10]\n",
      "d01,d02,d12 = [0.9830008941727715, 0.9830008942150795, 0.983000894175932]\n"
     ]
    },
    {
     "name": "stderr",
     "output_type": "stream",
     "text": [
      "Progress:  84%|████████▎ | 251/300 [57:14<11:10, 13.68s/it]"
     ]
    },
    {
     "name": "stdout",
     "output_type": "stream",
     "text": [
      "Time to: Calculate Ground State - 0.81s, Get Pauli Ops - 4.13s, Calculate Pauli Expectation Values - 8.36s, Calculate Covariance - 1.65s\n",
      "f0,f1,f2 = [2.46995120218546e-09, 2.4699512013737027e-09, 2.4699512022358234e-09]\n",
      "d01,d02,d12 = [0.9869318543180481, 0.986931854359915, 0.9869318543213712]\n"
     ]
    },
    {
     "name": "stderr",
     "output_type": "stream",
     "text": [
      "Progress:  84%|████████▍ | 252/300 [57:29<11:14, 14.06s/it]"
     ]
    },
    {
     "name": "stdout",
     "output_type": "stream",
     "text": [
      "Time to: Calculate Ground State - 0.87s, Get Pauli Ops - 7.49s, Calculate Pauli Expectation Values - 4.93s, Calculate Covariance - 1.65s\n",
      "f0,f1,f2 = [3.977727209638066e-10, 3.977727202242234e-10, 3.977727209965957e-10]\n",
      "d01,d02,d12 = [0.9908331745546322, 0.9908331745957248, 0.9908331745581052]\n"
     ]
    },
    {
     "name": "stderr",
     "output_type": "stream",
     "text": [
      "Progress:  84%|████████▍ | 253/300 [57:41<10:29, 13.40s/it]"
     ]
    },
    {
     "name": "stdout",
     "output_type": "stream",
     "text": [
      "Time to: Calculate Ground State - 0.82s, Get Pauli Ops - 4.12s, Calculate Pauli Expectation Values - 5.26s, Calculate Covariance - 1.64s\n",
      "f0,f1,f2 = [2.784963235824622e-10, 2.784963230557177e-10, 2.784963235898965e-10]\n",
      "d01,d02,d12 = [0.9950441962822303, 0.9950441963223537, 0.9950441962858438]\n"
     ]
    },
    {
     "name": "stderr",
     "output_type": "stream",
     "text": [
      "Progress:  85%|████████▍ | 254/300 [57:53<09:54, 12.91s/it]"
     ]
    },
    {
     "name": "stdout",
     "output_type": "stream",
     "text": [
      "Time to: Calculate Ground State - 0.82s, Get Pauli Ops - 4.05s, Calculate Pauli Expectation Values - 5.25s, Calculate Covariance - 1.66s\n",
      "f0,f1,f2 = [1.6244372436004686e-09, 1.6244372430063653e-09, 1.6244372436822e-09]\n",
      "d01,d02,d12 = [0.9983852522192405, 0.9983852522579937, 0.9983852522229508]\n"
     ]
    },
    {
     "name": "stderr",
     "output_type": "stream",
     "text": [
      "Progress:  85%|████████▌ | 255/300 [58:07<09:55, 13.23s/it]"
     ]
    },
    {
     "name": "stdout",
     "output_type": "stream",
     "text": [
      "Time to: Calculate Ground State - 0.91s, Get Pauli Ops - 4.11s, Calculate Pauli Expectation Values - 7.3s, Calculate Covariance - 1.65s\n",
      "f0,f1,f2 = [9.17712511188535e-10, 9.177125105247707e-10, 9.177125112480454e-10]\n",
      "d01,d02,d12 = [1.0010813957324118, 1.0010813957694924, 1.0010813957361928]\n"
     ]
    },
    {
     "name": "stderr",
     "output_type": "stream",
     "text": [
      "Progress:  85%|████████▌ | 256/300 [58:21<09:53, 13.48s/it]"
     ]
    },
    {
     "name": "stdout",
     "output_type": "stream",
     "text": [
      "Time to: Calculate Ground State - 0.87s, Get Pauli Ops - 4.22s, Calculate Pauli Expectation Values - 7.31s, Calculate Covariance - 1.65s\n",
      "f0,f1,f2 = [7.042732707875501e-10, 7.042732713320541e-10, 7.042732707116625e-10]\n",
      "d01,d02,d12 = [1.0039808794218608, 1.003980879457154, 1.003980879425709]\n"
     ]
    },
    {
     "name": "stderr",
     "output_type": "stream",
     "text": [
      "Progress:  86%|████████▌ | 257/300 [58:35<09:55, 13.86s/it]"
     ]
    },
    {
     "name": "stdout",
     "output_type": "stream",
     "text": [
      "Time to: Calculate Ground State - 0.83s, Get Pauli Ops - 4.17s, Calculate Pauli Expectation Values - 8.1s, Calculate Covariance - 1.64s\n",
      "f0,f1,f2 = [1.7091225846301082e-09, 1.7091225850577796e-09, 1.7091225845589233e-09]\n",
      "d01,d02,d12 = [1.0081326611575947, 1.008132661190968, 1.0081326611614954]\n"
     ]
    },
    {
     "name": "stderr",
     "output_type": "stream",
     "text": [
      "Progress:  86%|████████▌ | 258/300 [58:50<09:50, 14.06s/it]"
     ]
    },
    {
     "name": "stdout",
     "output_type": "stream",
     "text": [
      "Time to: Calculate Ground State - 0.84s, Get Pauli Ops - 7.24s, Calculate Pauli Expectation Values - 4.81s, Calculate Covariance - 1.65s\n",
      "f0,f1,f2 = [1.6681417924267627e-09, 1.6681417927145227e-09, 1.6681417923829685e-09]\n",
      "d01,d02,d12 = [1.0135816703006775, 1.0135816703321865, 1.0135816703046303]\n"
     ]
    },
    {
     "name": "stderr",
     "output_type": "stream",
     "text": [
      "Progress:  86%|████████▋ | 259/300 [59:03<09:24, 13.76s/it]"
     ]
    },
    {
     "name": "stdout",
     "output_type": "stream",
     "text": [
      "Time to: Calculate Ground State - 0.81s, Get Pauli Ops - 4.22s, Calculate Pauli Expectation Values - 6.38s, Calculate Covariance - 1.65s\n",
      "f0,f1,f2 = [9.748522072728144e-10, 9.748522068169254e-10, 9.74852207340432e-10]\n",
      "d01,d02,d12 = [1.0171697462436093, 1.0171697462730989, 1.0171697462476035]\n"
     ]
    },
    {
     "name": "stderr",
     "output_type": "stream",
     "text": [
      "Progress:  87%|████████▋ | 260/300 [59:19<09:36, 14.40s/it]"
     ]
    },
    {
     "name": "stdout",
     "output_type": "stream",
     "text": [
      "Time to: Calculate Ground State - 0.82s, Get Pauli Ops - 4.17s, Calculate Pauli Expectation Values - 9.23s, Calculate Covariance - 1.66s\n",
      "f0,f1,f2 = [1.6467435750289951e-09, 1.6467435746739851e-09, 1.6467435750432381e-09]\n",
      "d01,d02,d12 = [1.0200606997638273, 1.020060699791104, 1.0200606997678368]\n"
     ]
    },
    {
     "name": "stderr",
     "output_type": "stream",
     "text": [
      "/cluster/home/mskrabulis/miniconda3/envs/quantech/lib/python3.9/site-packages/pyscf/symm/Dmatrix.py:156: RuntimeWarning: invalid value encountered in arccos\n",
      "  gamma = numpy.arccos(yp.dot(c2[1]))\n",
      "Progress:  87%|████████▋ | 261/300 [59:34<09:32, 14.68s/it]"
     ]
    },
    {
     "name": "stdout",
     "output_type": "stream",
     "text": [
      "Time to: Calculate Ground State - 0.88s, Get Pauli Ops - 4.37s, Calculate Pauli Expectation Values - 8.45s, Calculate Covariance - 1.64s\n",
      "f0,f1,f2 = [1.4626443245074058e-09, 1.4626443242459735e-09, 1.4626443246158184e-09]\n",
      "d01,d02,d12 = [1.021694432812894, 1.0216944328379045, 1.0216944328168864]\n"
     ]
    },
    {
     "name": "stderr",
     "output_type": "stream",
     "text": [
      "Progress:  87%|████████▋ | 262/300 [59:51<09:42, 15.32s/it]"
     ]
    },
    {
     "name": "stdout",
     "output_type": "stream",
     "text": [
      "Time to: Calculate Ground State - 0.89s, Get Pauli Ops - 4.11s, Calculate Pauli Expectation Values - 10.15s, Calculate Covariance - 1.64s\n",
      "f0,f1,f2 = [3.3357411887961937e-09, 3.3357411884762556e-09, 3.335741188861534e-09]\n",
      "d01,d02,d12 = [1.021943347996415, 1.0219433480189766, 1.0219433480003686]\n"
     ]
    },
    {
     "name": "stderr",
     "output_type": "stream",
     "text": [
      "/cluster/home/mskrabulis/miniconda3/envs/quantech/lib/python3.9/site-packages/pyscf/symm/Dmatrix.py:156: RuntimeWarning: invalid value encountered in arccos\n",
      "  gamma = numpy.arccos(yp.dot(c2[1]))\n",
      "Progress:  88%|████████▊ | 263/300 [1:00:05<09:14, 14.99s/it]"
     ]
    },
    {
     "name": "stdout",
     "output_type": "stream",
     "text": [
      "Time to: Calculate Ground State - 0.81s, Get Pauli Ops - 4.15s, Calculate Pauli Expectation Values - 7.59s, Calculate Covariance - 1.65s\n",
      "f0,f1,f2 = [1.8644063346244684e-09, 1.864406334451835e-09, 1.864406334637258e-09]\n",
      "d01,d02,d12 = [1.0213680640824347, 1.02136806410245, 1.021368064086329]\n"
     ]
    },
    {
     "name": "stderr",
     "output_type": "stream",
     "text": [
      "/cluster/home/mskrabulis/miniconda3/envs/quantech/lib/python3.9/site-packages/pyscf/symm/Dmatrix.py:156: RuntimeWarning: invalid value encountered in arccos\n",
      "  gamma = numpy.arccos(yp.dot(c2[1]))\n",
      "Progress:  88%|████████▊ | 264/300 [1:00:19<08:43, 14.53s/it]"
     ]
    },
    {
     "name": "stdout",
     "output_type": "stream",
     "text": [
      "Time to: Calculate Ground State - 0.82s, Get Pauli Ops - 6.23s, Calculate Pauli Expectation Values - 4.77s, Calculate Covariance - 1.64s\n",
      "f0,f1,f2 = [2.180110245262897e-09, 2.180110244965513e-09, 2.180110245340432e-09]\n",
      "d01,d02,d12 = [1.019809728481444, 1.0198097284987333, 1.0198097284852492]\n"
     ]
    },
    {
     "name": "stderr",
     "output_type": "stream",
     "text": [
      "/cluster/home/mskrabulis/miniconda3/envs/quantech/lib/python3.9/site-packages/pyscf/symm/Dmatrix.py:156: RuntimeWarning: invalid value encountered in arccos\n",
      "  gamma = numpy.arccos(yp.dot(c2[1]))\n",
      "Progress:  88%|████████▊ | 265/300 [1:00:31<08:02, 13.77s/it]"
     ]
    },
    {
     "name": "stdout",
     "output_type": "stream",
     "text": [
      "Time to: Calculate Ground State - 0.82s, Get Pauli Ops - 4.17s, Calculate Pauli Expectation Values - 5.35s, Calculate Covariance - 1.67s\n",
      "f0,f1,f2 = [2.7961540274955495e-09, 2.796154027259839e-09, 2.7961540275406895e-09]\n",
      "d01,d02,d12 = [1.016585444299222, 1.016585444313686, 1.0165854443029287]\n"
     ]
    },
    {
     "name": "stderr",
     "output_type": "stream",
     "text": [
      "/cluster/home/mskrabulis/miniconda3/envs/quantech/lib/python3.9/site-packages/pyscf/symm/Dmatrix.py:156: RuntimeWarning: invalid value encountered in arccos\n",
      "  gamma = numpy.arccos(yp.dot(c2[1]))\n",
      "Progress:  89%|████████▊ | 266/300 [1:00:44<07:42, 13.59s/it]"
     ]
    },
    {
     "name": "stdout",
     "output_type": "stream",
     "text": [
      "Time to: Calculate Ground State - 0.82s, Get Pauli Ops - 4.11s, Calculate Pauli Expectation Values - 6.58s, Calculate Covariance - 1.65s\n",
      "f0,f1,f2 = [8.969481897330601e-10, 8.969481896062877e-10, 8.969481897926231e-10]\n",
      "d01,d02,d12 = [1.0123515947308666, 1.0123515947424508, 1.0123515947344617]\n"
     ]
    },
    {
     "name": "stderr",
     "output_type": "stream",
     "text": [
      "Progress:  89%|████████▉ | 267/300 [1:00:55<07:05, 12.89s/it]"
     ]
    },
    {
     "name": "stdout",
     "output_type": "stream",
     "text": [
      "Time to: Calculate Ground State - 0.82s, Get Pauli Ops - 4.12s, Calculate Pauli Expectation Values - 4.66s, Calculate Covariance - 1.66s\n",
      "f0,f1,f2 = [8.437657204761365e-10, 8.437657203637346e-10, 8.437657205233884e-10]\n",
      "d01,d02,d12 = [1.007304476597922, 1.0073044766065185, 1.0073044766013721]\n"
     ]
    },
    {
     "name": "stderr",
     "output_type": "stream",
     "text": [
      "Progress:  89%|████████▉ | 268/300 [1:01:06<06:36, 12.39s/it]"
     ]
    },
    {
     "name": "stdout",
     "output_type": "stream",
     "text": [
      "Time to: Calculate Ground State - 0.93s, Get Pauli Ops - 4.08s, Calculate Pauli Expectation Values - 4.56s, Calculate Covariance - 1.65s\n",
      "f0,f1,f2 = [1.609850631052262e-09, 1.6098506310082344e-09, 1.6098506311396157e-09]\n",
      "d01,d02,d12 = [1.002283199658827, 1.0022831996643835, 1.0022831996620942]\n"
     ]
    },
    {
     "name": "stderr",
     "output_type": "stream",
     "text": [
      "/cluster/home/mskrabulis/miniconda3/envs/quantech/lib/python3.9/site-packages/pyscf/symm/Dmatrix.py:156: RuntimeWarning: invalid value encountered in arccos\n",
      "  gamma = numpy.arccos(yp.dot(c2[1]))\n",
      "Progress:  90%|████████▉ | 269/300 [1:01:21<06:47, 13.13s/it]"
     ]
    },
    {
     "name": "stdout",
     "output_type": "stream",
     "text": [
      "Time to: Calculate Ground State - 0.8s, Get Pauli Ops - 4.04s, Calculate Pauli Expectation Values - 8.34s, Calculate Covariance - 1.66s\n",
      "f0,f1,f2 = [2.2168590964985526e-09, 2.2168590964807562e-09, 2.216859096577065e-09]\n",
      "d01,d02,d12 = [0.9978516126362051, 0.9978516126386946, 0.9978516126392731]\n"
     ]
    },
    {
     "name": "stderr",
     "output_type": "stream",
     "text": [
      "Progress:  90%|█████████ | 270/300 [1:01:33<06:21, 12.71s/it]"
     ]
    },
    {
     "name": "stdout",
     "output_type": "stream",
     "text": [
      "Time to: Calculate Ground State - 0.81s, Get Pauli Ops - 4.09s, Calculate Pauli Expectation Values - 5.17s, Calculate Covariance - 1.64s\n",
      "f0,f1,f2 = [2.0764077926057105e-09, 2.0764077925473645e-09, 2.0764077925074534e-09]\n",
      "d01,d02,d12 = [0.9957379642140163, 0.9957379642134445, 0.9957379642168762]\n"
     ]
    },
    {
     "name": "stderr",
     "output_type": "stream",
     "text": [
      "Progress:  90%|█████████ | 271/300 [1:01:45<06:02, 12.50s/it]"
     ]
    },
    {
     "name": "stdout",
     "output_type": "stream",
     "text": [
      "Time to: Calculate Ground State - 0.8s, Get Pauli Ops - 4.11s, Calculate Pauli Expectation Values - 5.45s, Calculate Covariance - 1.63s\n",
      "f0,f1,f2 = [1.4822059855071781e-09, 1.4822059855119954e-09, 1.4822059855049878e-09]\n",
      "d01,d02,d12 = [0.9933889510778304, 0.9933889510742041, 0.9933889510804661]\n"
     ]
    },
    {
     "name": "stderr",
     "output_type": "stream",
     "text": [
      "/cluster/home/mskrabulis/miniconda3/envs/quantech/lib/python3.9/site-packages/pyscf/symm/Dmatrix.py:156: RuntimeWarning: invalid value encountered in arccos\n",
      "  gamma = numpy.arccos(yp.dot(c2[1]))\n",
      "Progress:  91%|█████████ | 272/300 [1:01:57<05:46, 12.38s/it]"
     ]
    },
    {
     "name": "stdout",
     "output_type": "stream",
     "text": [
      "Time to: Calculate Ground State - 0.8s, Get Pauli Ops - 4.1s, Calculate Pauli Expectation Values - 5.54s, Calculate Covariance - 1.65s\n",
      "f0,f1,f2 = [9.309655756094616e-10, 9.309655755207852e-10, 9.309655755843312e-10]\n",
      "d01,d02,d12 = [0.9916451776934923, 0.9916451776868316, 0.991645177695901]\n"
     ]
    },
    {
     "name": "stderr",
     "output_type": "stream",
     "text": [
      "Progress:  91%|█████████ | 273/300 [1:02:09<05:26, 12.09s/it]"
     ]
    },
    {
     "name": "stdout",
     "output_type": "stream",
     "text": [
      "Time to: Calculate Ground State - 0.79s, Get Pauli Ops - 4.11s, Calculate Pauli Expectation Values - 4.86s, Calculate Covariance - 1.64s\n",
      "f0,f1,f2 = [2.2500847224049074e-09, 2.250084722566237e-09, 2.25008472246462e-09]\n",
      "d01,d02,d12 = [0.9888037135152898, 0.9888037135056369, 0.9888037135174612]\n"
     ]
    },
    {
     "name": "stderr",
     "output_type": "stream",
     "text": [
      "Progress:  91%|█████████▏| 274/300 [1:02:21<05:18, 12.23s/it]"
     ]
    },
    {
     "name": "stdout",
     "output_type": "stream",
     "text": [
      "Time to: Calculate Ground State - 0.88s, Get Pauli Ops - 4.19s, Calculate Pauli Expectation Values - 5.84s, Calculate Covariance - 1.66s\n",
      "f0,f1,f2 = [8.156940817868238e-10, 8.156940815794174e-10, 8.156940817611775e-10]\n",
      "d01,d02,d12 = [0.9857256401789718, 0.9857256401663975, 0.9857256401808794]\n"
     ]
    },
    {
     "name": "stderr",
     "output_type": "stream",
     "text": [
      "Progress:  92%|█████████▏| 275/300 [1:02:37<05:34, 13.40s/it]"
     ]
    },
    {
     "name": "stdout",
     "output_type": "stream",
     "text": [
      "Time to: Calculate Ground State - 0.89s, Get Pauli Ops - 7.67s, Calculate Pauli Expectation Values - 5.91s, Calculate Covariance - 1.64s\n",
      "f0,f1,f2 = [1.5778023588530889e-09, 1.5778023585621291e-09, 1.5778023587946831e-09]\n",
      "d01,d02,d12 = [0.9835343752442873, 0.983534375228876, 0.9835343752459081]\n"
     ]
    },
    {
     "name": "stderr",
     "output_type": "stream",
     "text": [
      "/cluster/home/mskrabulis/miniconda3/envs/quantech/lib/python3.9/site-packages/pyscf/symm/Dmatrix.py:156: RuntimeWarning: invalid value encountered in arccos\n",
      "  gamma = numpy.arccos(yp.dot(c2[1]))\n",
      "Progress:  92%|█████████▏| 276/300 [1:02:54<05:44, 14.37s/it]"
     ]
    },
    {
     "name": "stdout",
     "output_type": "stream",
     "text": [
      "Time to: Calculate Ground State - 0.83s, Get Pauli Ops - 8.08s, Calculate Pauli Expectation Values - 6.07s, Calculate Covariance - 1.65s\n",
      "f0,f1,f2 = [4.484923250076525e-10, 4.484923247145947e-10, 4.484923248945791e-10]\n",
      "d01,d02,d12 = [0.9814291910262023, 0.9814291910080819, 0.9814291910274986]\n"
     ]
    },
    {
     "name": "stderr",
     "output_type": "stream",
     "text": [
      "/cluster/home/mskrabulis/miniconda3/envs/quantech/lib/python3.9/site-packages/pyscf/symm/Dmatrix.py:156: RuntimeWarning: invalid value encountered in arccos\n",
      "  gamma = numpy.arccos(yp.dot(c2[1]))\n",
      "Progress:  92%|█████████▏| 277/300 [1:03:09<05:37, 14.65s/it]"
     ]
    },
    {
     "name": "stdout",
     "output_type": "stream",
     "text": [
      "Time to: Calculate Ground State - 0.86s, Get Pauli Ops - 7.09s, Calculate Pauli Expectation Values - 5.71s, Calculate Covariance - 1.66s\n",
      "f0,f1,f2 = [2.073552543021584e-09, 2.0735525426414705e-09, 2.0735525430188534e-09]\n",
      "d01,d02,d12 = [0.9803371392365454, 0.980337139215854, 0.9803371392375075]\n"
     ]
    },
    {
     "name": "stderr",
     "output_type": "stream",
     "text": [
      "/cluster/home/mskrabulis/miniconda3/envs/quantech/lib/python3.9/site-packages/pyscf/symm/Dmatrix.py:156: RuntimeWarning: invalid value encountered in arccos\n",
      "  gamma = numpy.arccos(yp.dot(c2[1]))\n",
      "Progress:  93%|█████████▎| 278/300 [1:03:21<05:04, 13.84s/it]"
     ]
    },
    {
     "name": "stdout",
     "output_type": "stream",
     "text": [
      "Time to: Calculate Ground State - 0.86s, Get Pauli Ops - 4.16s, Calculate Pauli Expectation Values - 5.26s, Calculate Covariance - 1.66s\n",
      "f0,f1,f2 = [2.1159757129214147e-09, 2.1159757125920495e-09, 2.115975712875982e-09]\n",
      "d01,d02,d12 = [0.9800424368977627, 0.9800424368745909, 0.980042436898393]\n"
     ]
    },
    {
     "name": "stderr",
     "output_type": "stream",
     "text": [
      "Progress:  93%|█████████▎| 279/300 [1:03:34<04:43, 13.52s/it]"
     ]
    },
    {
     "name": "stdout",
     "output_type": "stream",
     "text": [
      "Time to: Calculate Ground State - 0.82s, Get Pauli Ops - 4.15s, Calculate Pauli Expectation Values - 6.12s, Calculate Covariance - 1.66s\n",
      "f0,f1,f2 = [2.015647262633685e-10, 2.0156472577054382e-10, 2.015647262335088e-10]\n",
      "d01,d02,d12 = [0.9797974923528253, 0.9797974923273568, 0.979797492353109]\n"
     ]
    },
    {
     "name": "stderr",
     "output_type": "stream",
     "text": [
      "Progress:  93%|█████████▎| 280/300 [1:03:47<04:29, 13.48s/it]"
     ]
    },
    {
     "name": "stdout",
     "output_type": "stream",
     "text": [
      "Time to: Calculate Ground State - 0.87s, Get Pauli Ops - 4.2s, Calculate Pauli Expectation Values - 6.67s, Calculate Covariance - 1.65s\n",
      "f0,f1,f2 = [1.2087020055879423e-09, 1.2087020050268134e-09, 1.2087020055719533e-09]\n",
      "d01,d02,d12 = [0.9800208664980303, 0.9800208664704911, 0.980020866497969]\n"
     ]
    },
    {
     "name": "stderr",
     "output_type": "stream",
     "text": [
      "Progress:  94%|█████████▎| 281/300 [1:03:59<04:07, 13.02s/it]"
     ]
    },
    {
     "name": "stdout",
     "output_type": "stream",
     "text": [
      "Time to: Calculate Ground State - 0.81s, Get Pauli Ops - 4.13s, Calculate Pauli Expectation Values - 5.34s, Calculate Covariance - 1.66s\n",
      "f0,f1,f2 = [4.2422553467502313e-10, 4.242255351960686e-10, 4.242255346192057e-10]\n",
      "d01,d02,d12 = [0.9800455874626255, 0.9800455874332776, 0.980045587462242]\n"
     ]
    },
    {
     "name": "stderr",
     "output_type": "stream",
     "text": [
      "/cluster/home/mskrabulis/miniconda3/envs/quantech/lib/python3.9/site-packages/pyscf/symm/Dmatrix.py:156: RuntimeWarning: invalid value encountered in arccos\n",
      "  gamma = numpy.arccos(yp.dot(c2[1]))\n",
      "Progress:  94%|█████████▍| 282/300 [1:04:14<04:04, 13.60s/it]"
     ]
    },
    {
     "name": "stdout",
     "output_type": "stream",
     "text": [
      "Time to: Calculate Ground State - 0.83s, Get Pauli Ops - 7.47s, Calculate Pauli Expectation Values - 4.99s, Calculate Covariance - 1.65s\n",
      "f0,f1,f2 = [7.587097885084474e-10, 7.58709788080687e-10, 7.587097885489492e-10]\n",
      "d01,d02,d12 = [0.9803826004667766, 0.9803826004357997, 0.9803826004660728]\n"
     ]
    },
    {
     "name": "stderr",
     "output_type": "stream",
     "text": [
      "Progress:  94%|█████████▍| 283/300 [1:04:27<03:46, 13.34s/it]"
     ]
    },
    {
     "name": "stdout",
     "output_type": "stream",
     "text": [
      "Time to: Calculate Ground State - 0.83s, Get Pauli Ops - 4.2s, Calculate Pauli Expectation Values - 6.07s, Calculate Covariance - 1.64s\n",
      "f0,f1,f2 = [1.3151745706178243e-09, 1.3151745712330002e-09, 1.315174570607702e-09]\n",
      "d01,d02,d12 = [0.9801685274691725, 0.9801685274368602, 0.980168527468149]\n"
     ]
    },
    {
     "name": "stderr",
     "output_type": "stream",
     "text": [
      "Progress:  95%|█████████▍| 284/300 [1:04:39<03:29, 13.10s/it]"
     ]
    },
    {
     "name": "stdout",
     "output_type": "stream",
     "text": [
      "Time to: Calculate Ground State - 0.82s, Get Pauli Ops - 4.15s, Calculate Pauli Expectation Values - 5.93s, Calculate Covariance - 1.66s\n",
      "f0,f1,f2 = [4.203650937536455e-10, 4.203650943543324e-10, 4.2036509377105594e-10]\n",
      "d01,d02,d12 = [0.9797624687125087, 0.9797624686790969, 0.9797624687111606]\n"
     ]
    },
    {
     "name": "stderr",
     "output_type": "stream",
     "text": [
      "/cluster/home/mskrabulis/miniconda3/envs/quantech/lib/python3.9/site-packages/pyscf/symm/Dmatrix.py:156: RuntimeWarning: invalid value encountered in arccos\n",
      "  gamma = numpy.arccos(yp.dot(c2[1]))\n",
      "Progress:  95%|█████████▌| 285/300 [1:04:51<03:11, 12.73s/it]"
     ]
    },
    {
     "name": "stdout",
     "output_type": "stream",
     "text": [
      "Time to: Calculate Ground State - 0.81s, Get Pauli Ops - 4.21s, Calculate Pauli Expectation Values - 5.18s, Calculate Covariance - 1.66s\n",
      "f0,f1,f2 = [7.81140517653614e-10, 7.811405170115695e-10, 7.811405176485478e-10]\n",
      "d01,d02,d12 = [0.9797547800106119, 0.9797547799763331, 0.9797547800089373]\n"
     ]
    },
    {
     "name": "stderr",
     "output_type": "stream",
     "text": [
      "Progress:  95%|█████████▌| 286/300 [1:05:05<03:03, 13.13s/it]"
     ]
    },
    {
     "name": "stdout",
     "output_type": "stream",
     "text": [
      "Time to: Calculate Ground State - 0.83s, Get Pauli Ops - 5.91s, Calculate Pauli Expectation Values - 5.64s, Calculate Covariance - 1.66s\n",
      "f0,f1,f2 = [2.523518587115259e-09, 2.5235185866455904e-09, 2.523518587146944e-09]\n",
      "d01,d02,d12 = [0.9807949500072635, 0.9807949499722853, 0.9807949500052795]\n"
     ]
    },
    {
     "name": "stderr",
     "output_type": "stream",
     "text": [
      "Progress:  96%|█████████▌| 287/300 [1:05:18<02:49, 13.06s/it]"
     ]
    },
    {
     "name": "stdout",
     "output_type": "stream",
     "text": [
      "Time to: Calculate Ground State - 0.83s, Get Pauli Ops - 4.1s, Calculate Pauli Expectation Values - 6.32s, Calculate Covariance - 1.65s\n",
      "f0,f1,f2 = [1.5044388210005078e-10, 1.5044388144867482e-10, 1.5044388211533e-10]\n",
      "d01,d02,d12 = [0.981753106555053, 0.9817531065196627, 0.9817531065527662]\n"
     ]
    },
    {
     "name": "stderr",
     "output_type": "stream",
     "text": [
      "/cluster/home/mskrabulis/miniconda3/envs/quantech/lib/python3.9/site-packages/pyscf/symm/Dmatrix.py:156: RuntimeWarning: invalid value encountered in arccos\n",
      "  gamma = numpy.arccos(yp.dot(c2[1]))\n",
      "Progress:  96%|█████████▌| 288/300 [1:05:33<02:42, 13.55s/it]"
     ]
    },
    {
     "name": "stdout",
     "output_type": "stream",
     "text": [
      "Time to: Calculate Ground State - 0.83s, Get Pauli Ops - 6.15s, Calculate Pauli Expectation Values - 6.04s, Calculate Covariance - 1.67s\n",
      "f0,f1,f2 = [9.652233630743464e-10, 9.652233623873344e-10, 9.652233631009864e-10]\n",
      "d01,d02,d12 = [0.9829809410964927, 0.9829809410609155, 0.9829809410939195]\n"
     ]
    },
    {
     "name": "stderr",
     "output_type": "stream",
     "text": [
      "/cluster/home/mskrabulis/miniconda3/envs/quantech/lib/python3.9/site-packages/pyscf/symm/Dmatrix.py:156: RuntimeWarning: invalid value encountered in arccos\n",
      "  gamma = numpy.arccos(yp.dot(c2[1]))\n",
      "Progress:  96%|█████████▋| 289/300 [1:05:45<02:24, 13.14s/it]"
     ]
    },
    {
     "name": "stdout",
     "output_type": "stream",
     "text": [
      "Time to: Calculate Ground State - 0.89s, Get Pauli Ops - 4.14s, Calculate Pauli Expectation Values - 5.5s, Calculate Covariance - 1.64s\n",
      "f0,f1,f2 = [8.943963848952756e-10, 8.943963844713632e-10, 8.943963849481385e-10]\n",
      "d01,d02,d12 = [0.9845433636036163, 0.9845433635679941, 0.9845433636007687]\n"
     ]
    },
    {
     "name": "stderr",
     "output_type": "stream",
     "text": [
      "/cluster/home/mskrabulis/miniconda3/envs/quantech/lib/python3.9/site-packages/pyscf/symm/Dmatrix.py:156: RuntimeWarning: invalid value encountered in arccos\n",
      "  gamma = numpy.arccos(yp.dot(c2[1]))\n",
      "Progress:  97%|█████████▋| 290/300 [1:05:58<02:09, 12.95s/it]"
     ]
    },
    {
     "name": "stdout",
     "output_type": "stream",
     "text": [
      "Time to: Calculate Ground State - 0.82s, Get Pauli Ops - 4.15s, Calculate Pauli Expectation Values - 5.87s, Calculate Covariance - 1.66s\n",
      "f0,f1,f2 = [2.0433365407540393e-10, 2.0433365475304154e-10, 2.0433365402532916e-10]\n",
      "d01,d02,d12 = [0.985959058941612, 0.9859590589062823, 0.9859590589385229]\n"
     ]
    },
    {
     "name": "stderr",
     "output_type": "stream",
     "text": [
      "Progress:  97%|█████████▋| 291/300 [1:06:10<01:55, 12.86s/it]"
     ]
    },
    {
     "name": "stdout",
     "output_type": "stream",
     "text": [
      "Time to: Calculate Ground State - 0.83s, Get Pauli Ops - 4.17s, Calculate Pauli Expectation Values - 6.01s, Calculate Covariance - 1.65s\n",
      "f0,f1,f2 = [8.653411160963352e-10, 8.653411165596922e-10, 8.653411159857523e-10]\n",
      "d01,d02,d12 = [0.987323781770516, 0.987323781735662, 0.9873237817672224]\n"
     ]
    },
    {
     "name": "stderr",
     "output_type": "stream",
     "text": [
      "Progress:  97%|█████████▋| 292/300 [1:06:25<01:46, 13.33s/it]"
     ]
    },
    {
     "name": "stdout",
     "output_type": "stream",
     "text": [
      "Time to: Calculate Ground State - 0.86s, Get Pauli Ops - 4.12s, Calculate Pauli Expectation Values - 7.8s, Calculate Covariance - 1.64s\n",
      "f0,f1,f2 = [1.1094376565303683e-09, 1.1094376568107172e-09, 1.1094376565493368e-09]\n",
      "d01,d02,d12 = [0.9879342562275368, 0.9879342561933167, 0.9879342562240571]\n"
     ]
    },
    {
     "name": "stderr",
     "output_type": "stream",
     "text": [
      "/cluster/home/mskrabulis/miniconda3/envs/quantech/lib/python3.9/site-packages/pyscf/symm/Dmatrix.py:156: RuntimeWarning: invalid value encountered in arccos\n",
      "  gamma = numpy.arccos(yp.dot(c2[1]))\n",
      "Progress:  98%|█████████▊| 293/300 [1:06:38<01:32, 13.19s/it]"
     ]
    },
    {
     "name": "stdout",
     "output_type": "stream",
     "text": [
      "Time to: Calculate Ground State - 0.83s, Get Pauli Ops - 4.26s, Calculate Pauli Expectation Values - 6.12s, Calculate Covariance - 1.65s\n",
      "f0,f1,f2 = [1.1416726859083638e-09, 1.1416726864008156e-09, 1.141672685813597e-09]\n",
      "d01,d02,d12 = [0.9882064792414534, 0.9882064792081271, 0.9882064792378343]\n"
     ]
    },
    {
     "name": "stderr",
     "output_type": "stream",
     "text": [
      "/cluster/home/mskrabulis/miniconda3/envs/quantech/lib/python3.9/site-packages/pyscf/symm/Dmatrix.py:156: RuntimeWarning: invalid value encountered in arccos\n",
      "  gamma = numpy.arccos(yp.dot(c2[1]))\n",
      "Progress:  98%|█████████▊| 294/300 [1:06:50<01:16, 12.82s/it]"
     ]
    },
    {
     "name": "stdout",
     "output_type": "stream",
     "text": [
      "Time to: Calculate Ground State - 0.8s, Get Pauli Ops - 4.19s, Calculate Pauli Expectation Values - 5.29s, Calculate Covariance - 1.65s\n",
      "f0,f1,f2 = [3.0888305784541464e-10, 3.0888305830967783e-10, 3.0888305774492626e-10]\n",
      "d01,d02,d12 = [0.9884143858387846, 0.9884143858065814, 0.9884143858350538]\n"
     ]
    },
    {
     "name": "stderr",
     "output_type": "stream",
     "text": [
      "/cluster/home/mskrabulis/miniconda3/envs/quantech/lib/python3.9/site-packages/pyscf/symm/Dmatrix.py:156: RuntimeWarning: invalid value encountered in arccos\n",
      "  gamma = numpy.arccos(yp.dot(c2[1]))\n",
      "Progress:  98%|█████████▊| 295/300 [1:07:01<01:02, 12.52s/it]"
     ]
    },
    {
     "name": "stdout",
     "output_type": "stream",
     "text": [
      "Time to: Calculate Ground State - 0.95s, Get Pauli Ops - 4.1s, Calculate Pauli Expectation Values - 5.11s, Calculate Covariance - 1.66s\n",
      "f0,f1,f2 = [1.1468165627226085e-09, 1.1468165631557358e-09, 1.1468165626401373e-09]\n",
      "d01,d02,d12 = [0.9881199572259334, 0.9881199571950875, 0.9881199572221171]\n"
     ]
    },
    {
     "name": "stderr",
     "output_type": "stream",
     "text": [
      "Progress:  99%|█████████▊| 296/300 [1:07:18<00:55, 13.78s/it]"
     ]
    },
    {
     "name": "stdout",
     "output_type": "stream",
     "text": [
      "Time to: Calculate Ground State - 0.88s, Get Pauli Ops - 4.18s, Calculate Pauli Expectation Values - 9.99s, Calculate Covariance - 1.65s\n",
      "f0,f1,f2 = [2.7957785658575743e-09, 2.7957785653635096e-09, 2.795778565916364e-09]\n",
      "d01,d02,d12 = [0.9889700621616966, 0.9889700621323698, 0.9889700621578064]\n"
     ]
    },
    {
     "name": "stderr",
     "output_type": "stream",
     "text": [
      "Progress:  99%|█████████▉| 297/300 [1:07:32<00:41, 13.76s/it]"
     ]
    },
    {
     "name": "stdout",
     "output_type": "stream",
     "text": [
      "Time to: Calculate Ground State - 0.85s, Get Pauli Ops - 4.25s, Calculate Pauli Expectation Values - 6.96s, Calculate Covariance - 1.65s\n",
      "f0,f1,f2 = [1.2471369644576753e-09, 1.2471369641163704e-09, 1.2471369645721077e-09]\n",
      "d01,d02,d12 = [0.9901611268470483, 0.9901611268193896, 0.9901611268431082]\n"
     ]
    },
    {
     "name": "stderr",
     "output_type": "stream",
     "text": [
      "Progress:  99%|█████████▉| 298/300 [1:07:46<00:27, 13.86s/it]"
     ]
    },
    {
     "name": "stdout",
     "output_type": "stream",
     "text": [
      "Time to: Calculate Ground State - 0.89s, Get Pauli Ops - 4.18s, Calculate Pauli Expectation Values - 7.37s, Calculate Covariance - 1.66s\n",
      "f0,f1,f2 = [1.453691673633348e-09, 1.4536916732685808e-09, 1.4536916737051464e-09]\n",
      "d01,d02,d12 = [0.991770152398854, 0.9917701523730104, 0.9917701523948875]\n"
     ]
    },
    {
     "name": "stderr",
     "output_type": "stream",
     "text": [
      "Progress: 100%|█████████▉| 299/300 [1:07:57<00:13, 13.06s/it]"
     ]
    },
    {
     "name": "stdout",
     "output_type": "stream",
     "text": [
      "Time to: Calculate Ground State - 0.84s, Get Pauli Ops - 4.15s, Calculate Pauli Expectation Values - 4.54s, Calculate Covariance - 1.64s\n",
      "f0,f1,f2 = [1.3470811397394714e-09, 1.3470811401043012e-09, 1.3470811397201e-09]\n",
      "d01,d02,d12 = [0.9930388139293183, 0.9930388139054294, 0.9930388139253461]\n"
     ]
    },
    {
     "name": "stderr",
     "output_type": "stream",
     "text": [
      "Progress: 100%|██████████| 300/300 [1:08:13<00:00, 13.64s/it]"
     ]
    },
    {
     "name": "stdout",
     "output_type": "stream",
     "text": [
      "Time to: Calculate Ground State - 0.79s, Get Pauli Ops - 4.18s, Calculate Pauli Expectation Values - 9.1s, Calculate Covariance - 1.66s\n",
      "f0,f1,f2 = [3.0080605946222555e-09, 3.0080605943934234e-09, 3.0080605947239805e-09]\n",
      "d01,d02,d12 = [0.9956147187088382, 0.995614718686958, 0.9956147187048895]\n"
     ]
    },
    {
     "name": "stderr",
     "output_type": "stream",
     "text": [
      "\n"
     ]
    },
    {
     "data": {
      "image/png": "[encoded data removed]",
      "text/plain": [
       "<Figure size 640x480 with 1 Axes>"
      ]
     },
     "metadata": {},
     "output_type": "display_data"
    }
   ],
   "source": [
    "from matplotlib import pyplot as plt\n",
    "(distance01,distance02,distance12,times) = main()\n",
    "\n",
    "np_distance01 = np.array(distance01)\n",
    "np_distance02 = np.array(distance02)\n",
    "np_distance12 = np.array(distance12)\n",
    "\n",
    "plt.plot(times,np_distance01[:-1],label = 'd01')\n",
    "plt.plot(times,np_distance02[:-1],label = 'd02')\n",
    "plt.plot(times,np_distance12[:-1],label = 'd12')\n",
    "\n",
    "plt.title('Distances at time t')\n",
    "plt.xlabel('Time')\n",
    "plt.ylabel('Distance')\n",
    "plt.legend()\n",
    "plt.show()"
   ]
  },
  {
   "cell_type": "code",
   "execution_count": null,
   "id": "885910be",
   "metadata": {},
   "outputs": [],
   "source": []
  }
 ],
 "metadata": {
  "kernelspec": {
   "display_name": "Python 3 (ipykernel)",
   "language": "python",
   "name": "python3"
  },
  "language_info": {
   "codemirror_mode": {
    "name": "ipython",
    "version": 3
   },
   "file_extension": ".py",
   "mimetype": "text/x-python",
   "name": "python",
   "nbconvert_exporter": "python",
   "pygments_lexer": "ipython3",
   "version": "3.9.15"
  }
 },
 "nbformat": 4,
 "nbformat_minor": 5
}
