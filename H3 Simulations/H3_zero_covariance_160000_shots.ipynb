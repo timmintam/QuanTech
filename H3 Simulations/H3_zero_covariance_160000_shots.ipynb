{
 "cells": [
  {
   "cell_type": "code",
   "execution_count": 1,
   "id": "fbc296ce",
   "metadata": {},
   "outputs": [],
   "source": [
    "import numpy as np\n",
    "import matplotlib.pyplot as plt\n",
    "\n",
    "from pyscf import ao2mo,gto, scf\n",
    "\n",
    "from typing import Tuple\n",
    "\n",
    "\n",
    "# qiskit\n",
    "from qiskit.algorithms import VQE\n",
    "from qiskit.algorithms.optimizers import COBYLA, SPSA, SLSQP, NELDER_MEAD\n",
    "from qiskit.algorithms import MinimumEigensolverResult\n",
    "\n",
    "from qiskit import IBMQ, BasicAer, Aer\n",
    "from qiskit.utils import QuantumInstance\n",
    "from qiskit.quantum_info.operators import Operator\n",
    "from qiskit.opflow import PauliExpectation, CircuitSampler, StateFn, CircuitStateFn\n",
    "from qiskit.opflow.primitive_ops import PauliOp, PauliSumOp\n",
    "from qiskit.quantum_info import Pauli, SparsePauliOp\n",
    "\n",
    "# qiskit nature\n",
    "from qiskit_nature.second_q.hamiltonians import ElectronicEnergy\n",
    "from qiskit_nature.second_q.mappers import ParityMapper, QubitConverter\n",
    "from qiskit_nature.second_q.problems import ElectronicStructureProblem\n",
    "from qiskit_nature.second_q.operators import FermionicOp\n",
    "from qiskit_nature.second_q.properties import ParticleNumber\n",
    "from qiskit_nature.second_q.transformers import FreezeCoreTransformer\n",
    "from qiskit_nature.second_q.circuit.library import UCCSD, HartreeFock\n",
    "from qiskit_nature.second_q.problems import ElectronicBasis\n",
    "from qiskit_nature.second_q.formats.molecule_info import MoleculeInfo\n",
    "from qiskit_nature.drivers import Molecule\n",
    "from qiskit_nature.drivers.second_quantization import (\n",
    "    ElectronicStructureMoleculeDriver, ElectronicStructureDriverType)\n",
    "\n",
    "from qiskit_nature.settings import settings\n",
    "settings.dict_aux_operators = True\n",
    "\n",
    "#from qiskit import IBMQ\n",
    "#from qiskit_nature.runtime import VQEClient\n",
    "#from qiskit.providers.ibmq import least_busy\n",
    "#from qiskit_ibm_runtime import QiskitRuntimeService, Estimator, Session\n",
    "\n",
    "# useful??\n",
    "#from qiskit_nature.algorithms import (GroundStateEigensolver,\n",
    "#                                      NumPyMinimumEigensolverFactory)\n",
    "from qiskit.circuit.library import EfficientSU2\n",
    "from qiskit.circuit.library import RealAmplitudes\n",
    "from qiskit.utils.mitigation import CompleteMeasFitter\n",
    "from qiskit.providers.aer.noise import NoiseModel\n",
    "from qiskit.providers.aer import QasmSimulator\n",
    "from qiskit import QuantumCircuit, transpile\n",
    "from qiskit.opflow import TwoQubitReduction\n",
    "\n",
    "def get_molecular_integrals(molecule):\n",
    "    '''\n",
    "    Calculates the 1-electron and 2-electron integrals.\n",
    "    \n",
    "    Args:   \n",
    "        molecule : Mole \n",
    "            Ccorresponds to the molecule.\n",
    "            \n",
    "    Returns:\n",
    "        h1_MO : ndarray\n",
    "                Tensor corresponding to the 1-electron integral in the molecular basis.\n",
    "        \n",
    "        h2_MO : ndarray\n",
    "                Tensor corresponding to the 2-electron integral in the molecular basis.\n",
    "\n",
    "        n_particles: Tuple[int, int]\n",
    "            Number of alpha and beta electrons.\n",
    "        \n",
    "        num_orb : int \n",
    "            Number of orbitals.\n",
    "\n",
    "        nuclear_repulsion_energy : float\n",
    "            Nuclear repulsion energy.\n",
    "    '''\n",
    "    \n",
    "    mf = scf.RHF(molecule).run()\n",
    "\n",
    "    # computing the 1e and 2e AO (atomic orbitals) integrals \n",
    "    h1 = molecule.intor_symmetric(\"int1e_nuc\") + molecule.intor_symmetric(\"int1e_kin\") \n",
    "    h2 = molecule.intor(\"int2e\")\n",
    "    # comment : add aosym (axis of symmetry) ???\n",
    "\n",
    "    # transformations from AO to MO (molecular orbitals)\n",
    "    h1_MO = np.einsum('pi,pq,qj->ij', mf.mo_coeff, h1, mf.mo_coeff)\n",
    "    h2_MO = ao2mo.get_mo_eri(h2, mf.mo_coeff)\n",
    "\n",
    "    #h2_MO = ao2mo.kernel(mol_h2, mf.mo_coeff, aosym=\"1\") #alternative\n",
    "\n",
    "    nuclear_repulsion_energy=molecule.energy_nuc()\n",
    "    num_particles = molecule.nelec\n",
    "    num_orb = h1.shape[0]\n",
    "\n",
    "    return h1_MO, h2_MO, num_particles, num_orb, nuclear_repulsion_energy\n",
    "\n",
    "\n",
    "def get_qubit_op(coordinates):\n",
    "    '''\n",
    "    Calculates the Hamiltonian as the sum of Pauli operators as a function\n",
    "    of the coordinates of the atoms.\n",
    "    \n",
    "    Args:\n",
    "        coordinates : ndarray\n",
    "            Array containing the positions of the atoms constituing the molecule.\n",
    "        \n",
    "    \n",
    "    Returns:\n",
    "        qubit_op : PauliSumOp\n",
    "            Sum of Pauli operators corresponding to the Hamiltonian.\n",
    "        \n",
    "        nelec : Tuple[int, int]\n",
    "            Number of alpha and beta electrons.\n",
    "        \n",
    "        norb : int \n",
    "            Number of orbitals.\n",
    "            \n",
    "        problem : ElectronicStructureProblem\n",
    "        \n",
    "        converter : QubitConverter\n",
    "    '''\n",
    "    \n",
    "    mol = gto.M(\n",
    "                atom = [['H',(coordinates[0], coordinates[1], 0.0)], \n",
    "                        ['H',(coordinates[2], coordinates[3], 0.0)],\n",
    "                        ['H',(coordinates[4], coordinates[5], 0.0)]],\n",
    "                basis = 'sto3g',\n",
    "                charge = 1,\n",
    "                spin = 0,\n",
    "                symmetry = True,\n",
    "                verbose = 2 # control the print level of PySCF globally\n",
    "    )\n",
    "\n",
    "    h1_MO,h2_MO,nelec,norb,ecore = get_molecular_integrals(mol)\n",
    "\n",
    "    # Define an ElectronicEnergy instance containing the 1e and 2e integrals\n",
    "    electronic_energy = ElectronicEnergy.from_raw_integrals(\n",
    "            h1_MO, ao2mo.restore(1, h2_MO, norb)\n",
    "        )\n",
    "    electronic_energy.nuclear_repulsion_energy = ecore\n",
    "\n",
    "    # Define an ElectronicStructureProblem\n",
    "    problem = ElectronicStructureProblem(electronic_energy)\n",
    "\n",
    "    second_q_ops = problem.second_q_ops()     # get second quantized operators\n",
    "    problem.num_spatial_orbitals = norb  # define number of orbitals\n",
    "    problem.num_particles = nelec        # define number of particles \n",
    "    \n",
    "    problem.basis = ElectronicBasis.MO \n",
    "    \n",
    "    problem.molecule=MoleculeInfo(symbols=[mol.atom_symbol(i) for i in range(mol.nbas)], \n",
    "                                  coords=mol.atom_coords())\n",
    "    FC_transformer=FreezeCoreTransformer(freeze_core=True)\n",
    "    problem = FC_transformer.transform(problem)\n",
    "    \n",
    "    # TODO we need to give info about the molecule to use FreezeCoreTransformer \n",
    "    # question : how to do it in a smart way ? at the initialization ??\n",
    "    \n",
    "    hamiltonian = second_q_ops[0]  # Set electronic part of Hamiltonian\n",
    "    hamiltonian = (hamiltonian + FermionicOp({\"\": ecore}, num_spin_orbitals=norb)) # add Nuclear Repulsion Energy\n",
    "    #print(\"Hamiltonian :\\n\", hamiltonian) # print for checking purposes\n",
    "    \n",
    "    mapper = ParityMapper()  # Set Mapper\n",
    "    \n",
    "    # Do two qubit reduction\n",
    "    converter = QubitConverter(mapper,two_qubit_reduction=True)\n",
    "    qubit_op = converter.convert(hamiltonian, nelec)\n",
    "    #print(\"q_op :\\n\", qubit_op) # print for checking purposes\n",
    "    \n",
    "\n",
    "    return qubit_op, nelec, norb, problem, converter\n",
    "\n",
    "def calc_ground_state(qubit_op,nelec,norb,problem,converter) :\n",
    "    '''\n",
    "    Calculates the ground state and the ground energy of the Hamiltonian.\n",
    "    \n",
    "    Args:\n",
    "        qubit_op : PauliSumOp\n",
    "            Sum of Pauli operators corresponding to the Hamiltonian.\n",
    "        \n",
    "        nelec : Tuple[int, int]\n",
    "            Number of alpha and beta electrons.\n",
    "        \n",
    "        norb : int \n",
    "            Number of orbitals.\n",
    "            \n",
    "        problem : ElectronicStructureProblem\n",
    "        \n",
    "        converter : QubitConverter\n",
    "        \n",
    "    \n",
    "    Returns:\n",
    "        ground_state : CircuitStateFn\n",
    "            Ground state of the Hamiltonian.\n",
    "            \n",
    "        min_eng : float\n",
    "            Ground energy of the Hamiltonian.\n",
    "    '''\n",
    "\n",
    "    backend = BasicAer.get_backend(\"statevector_simulator\")\n",
    "    quantum_instance = QuantumInstance(backend)\n",
    "    optimizer = SLSQP(maxiter=400)\n",
    "\n",
    "    init_state = HartreeFock(num_spatial_orbitals=norb, \n",
    "                                num_particles=nelec, \n",
    "                                qubit_converter=converter\n",
    "                            )\n",
    "    \n",
    "    var_form = UCCSD(qubit_converter=converter,\n",
    "                        num_particles=nelec,\n",
    "                        num_spatial_orbitals=norb, \n",
    "                        initial_state=init_state\n",
    "                        )\n",
    "\n",
    "    vqe = VQE(var_form, optimizer, quantum_instance=quantum_instance) \n",
    "    vqe_result = vqe.compute_minimum_eigenvalue(qubit_op)\n",
    "    min_eng = vqe_result.eigenvalue.real\n",
    "    final_params = vqe_result.optimal_parameters \n",
    "\n",
    "    vqe_ground = vqe.ansatz.bind_parameters(final_params) \n",
    "#     vqe_ground_state = CircuitStateFn(vqe_ground)\n",
    "    \n",
    "    return vqe_ground, min_eng"
   ]
  },
  {
   "cell_type": "code",
   "execution_count": 2,
   "id": "3f5daa79",
   "metadata": {},
   "outputs": [],
   "source": [
    "Ha = 4.36e-18\n",
    "angst = 1.0e-10\n",
    "dR = 0.01 #removed the angst, since coordinates are given in angst\n",
    "\n",
    "\n",
    "from qiskit.opflow import I, X, Y, Z\n",
    "from qiskit.opflow.primitive_ops import PauliOp\n",
    "from qiskit.quantum_info import Pauli\n",
    "#from hamiltonian import calc_ground_state, get_qubit_op\n",
    "import numpy as np\n",
    "from qiskit.utils import QuantumInstance\n",
    "from qiskit.opflow import PauliExpectation, CircuitSampler, StateFn, CircuitStateFn\n",
    "from qiskit import IBMQ, BasicAer, Aer\n",
    "\n",
    "import time #to see which part of code takes the longest\n",
    "import multiprocessing\n",
    "\n",
    "\n",
    "#calculate centre of mass (currently for equal particle masses)\n",
    "def calc_COM(coordinates):\n",
    "    #print(coordinates)\n",
    "    r_array = np.array_split(coordinates,3)\n",
    "    COM = (r_array[0] + r_array[1] + r_array[2])/3\n",
    "    \n",
    "    return COM\n",
    "\n",
    "#task to calculate expectation value\n",
    "def task1(string, q_instance, psi_0):\n",
    "\n",
    "    Obs = PauliOp(Pauli(string))\n",
    "    measurable_expression = StateFn(Obs, is_measurement=True).compose(psi_0)\n",
    "    expectation = PauliExpectation().convert(measurable_expression)  \n",
    "    sampler = CircuitSampler(q_instance).convert(expectation) \n",
    "    E = sampler.eval().real\n",
    "        \n",
    "    return E\n",
    "\n",
    "#task to calculate operator from coordinates\n",
    "def task2(coordinates):\n",
    "    \n",
    "    #get qubit operators coresponding to H+ (hamiltonian for atomic distances R + dR)\n",
    "    (qubit_op_plus, num_part_plus, num_orb_plus, problem_plus, converter_plus) = get_qubit_op(coordinates[0])\n",
    "    #get qubit operators coresponding to H- (hamiltonian for atomic distances R - dR)\n",
    "    (qubit_op_minus, num_part_minus, num_orb_minus, problem_minus, converter_minus) = get_qubit_op(coordinates[1])\n",
    "        \n",
    "    qubit_op_plus = qubit_op_plus #TODO:number of I's needs to be changed according to number of qubits\n",
    "    qubit_op_minus = qubit_op_minus\n",
    "       \n",
    "    op =  (-(qubit_op_plus - qubit_op_minus)).reduce()\n",
    "                    \n",
    "    op_list = op.primitive.to_list() #list containing Pauli operators in support and corresponding coeffs\n",
    "    #print(op_list)    \n",
    "    #construct dict from list\n",
    "    op_dict = {}\n",
    "    for (PauliString,coeff) in op_list:\n",
    "\n",
    "        if PauliString in op_dict:\n",
    "            op_dict[PauliString] += coeff\n",
    "        else:\n",
    "            op_dict[PauliString] = coeff\n",
    "    \n",
    "    return op, op_dict\n",
    " \n",
    "def parallel_operators(coordinates,basis_set):\n",
    "    \n",
    "    \n",
    "    coordinate_list = []\n",
    "    \n",
    "    v0_normed = basis_set[0]\n",
    "    v0_orth = basis_set[1]\n",
    "    \n",
    "    v1_normed = basis_set[2]\n",
    "    v1_orth = basis_set[3]\n",
    "\n",
    "    v2_normed = basis_set[4]\n",
    "    v2_orth = basis_set[5]\n",
    "    \n",
    "    displ_coords_0_a = np.array([v0_normed[0]*dR,v0_normed[1]*dR,0,0,0,0])\n",
    "    displ_coords_0_b = np.array([v0_orth[0]*dR,v0_orth[1]*dR,0,0,0,0])\n",
    "    displ_coords_1_a = np.array([0,0,v1_normed[0]*dR,v1_normed[1]*dR,0,0])\n",
    "    displ_coords_1_b = np.array([0,0,v1_orth[0]*dR,v1_orth[1]*dR,0,0])\n",
    "    displ_coords_2_a = np.array([0,0,0,0,v2_normed[0]*dR,v2_normed[1]*dR])\n",
    "    displ_coords_2_b = np.array([0,0,0,0,v2_orth[0]*dR,v2_orth[1]*dR])\n",
    "\n",
    "    coordinate_list.append([coordinates + displ_coords_0_a,coordinates - displ_coords_0_a])\n",
    "    coordinate_list.append([coordinates + displ_coords_0_b,coordinates - displ_coords_0_b])\n",
    "    coordinate_list.append([coordinates + displ_coords_1_a,coordinates - displ_coords_1_a])\n",
    "    coordinate_list.append([coordinates + displ_coords_1_b,coordinates - displ_coords_1_b])\n",
    "    coordinate_list.append([coordinates + displ_coords_2_a,coordinates - displ_coords_2_a])\n",
    "    coordinate_list.append([coordinates + displ_coords_2_b,coordinates - displ_coords_2_b])\n",
    "    \n",
    "    #dR_list = v0_normed.tolist() + v1_normed.tolist() + v2_normed.tolist()\n",
    "    \n",
    "    dR_list = [dR,dR,dR,dR,dR,dR]\n",
    "    #print(dR_list)\n",
    "    #for i in range(len(coordinates)):\n",
    "        \n",
    "        #coordinate_list.append([coordinates[0:i]+[(coordinates[i]+dR_list[i])]+coordinates[i+1:],coordinates[0:i]+[(coordinates[i]-dR_list[i])]+coordinates[i+1:]])\n",
    "    \n",
    "    #print(coordinate_list)\n",
    "    with multiprocessing.Pool() as pool:\n",
    "         ops,op_coeffs = zip(*pool.map(task2, coordinate_list))\n",
    "    \n",
    "    #print(ops)\n",
    "    return ops, op_coeffs\n",
    "\n",
    "def sequential_operators(coordinates):\n",
    "    ops = []\n",
    "    op_coeffs = []\n",
    "    \n",
    "    for i in range(len(coordinates)):\n",
    "        \n",
    "        #get qubit operators coresponding to H+ (hamiltonian for atomic distances R + dR)\n",
    "        (qubit_op_plus, num_part_plus, num_orb_plus, problem_plus, converter_plus) = get_qubit_op(coordinates[0:i]+[(coordinates[i]+dR)]+coordinates[i+1:])\n",
    "        #get qubit operators coresponding to H- (hamiltonian for atomic distances R - dR)\n",
    "        (qubit_op_minus, num_part_minus, num_orb_minus, problem_minus, converter_minus) = get_qubit_op(coordinates[0:i]+[(coordinates[i]-dR)]+coordinates[i+1:])\n",
    "\n",
    "        rep_eng_plus = problem_plus.grouped_property_transformed.get_property(\"ElectronicEnergy\").nuclear_repulsion_energy\n",
    "        rep_eng_minus  = problem_minus.grouped_property_transformed.get_property(\"ElectronicEnergy\").nuclear_repulsion_energy\n",
    "        \n",
    "        qubit_op_plus = qubit_op_plus + rep_eng_plus*(I^I^I^I) #TODO:number of I's needs to be changed according to number of qubits\n",
    "        qubit_op_minus = qubit_op_minus + rep_eng_minus*(I^I^I^I)\n",
    "        \n",
    "       \n",
    "        op =  -(qubit_op_plus - qubit_op_minus).reduce()\n",
    "                    \n",
    "        op_list = op.primitive.to_list() #list containing Pauli operators in support and corresponding coeffs\n",
    "        \n",
    "        #construct dict from list\n",
    "        op_dict = {}\n",
    "        for (PauliString,coeff) in op_list:\n",
    "\n",
    "            if PauliString in op_dict:\n",
    "                op_dict[PauliString] += coeff\n",
    "            else:\n",
    "                op_dict[PauliString] = coeff\n",
    "                \n",
    "        ops.append(op)\n",
    "        op_coeffs.append(op_dict)\n",
    "    #print(ops)\n",
    "    return ops, op_coeffs\n",
    "\n",
    "def parallel_expectations(exp_dict, op_set, q_instance, psi_0):\n",
    "\n",
    "    triples = []\n",
    "    for op in op_set:\n",
    "        triple = (op,q_instance,psi_0)\n",
    "        triples.append(triple)\n",
    "\n",
    "    Es = 0\n",
    "    with multiprocessing.Pool() as pool:\n",
    "        Es = pool.starmap(task1, triples)\n",
    "\n",
    "    for i in range(len(Es)):\n",
    "        exp_dict[triples[i][0]]=Es[i]\n",
    "\n",
    "    return 0\n",
    "\n",
    "def sequential_expectations(exp_dict, op_set, q_instance, psi_0):\n",
    "\n",
    "    for pauli_string in op_set:\n",
    "        \n",
    "        Obs = PauliOp(Pauli(pauli_string))\n",
    "        measurable_expression = StateFn(Obs, is_measurement=True).compose(psi_0)\n",
    "        expectation = PauliExpectation().convert(measurable_expression)  \n",
    "        sampler = CircuitSampler(q_instance).convert(expectation) \n",
    "        E = sampler.eval().real\n",
    "        exp_dict[pauli_string] = E\n",
    "\n",
    "    return 0\n",
    "\n",
    "def get_psi_0(coordinates, simulator='qasm',shots=1028):\n",
    "\n",
    "    #get qubit operator corresponding to H(R)\n",
    "    (qubit_op, num_part, num_orb, problem, converter) = get_qubit_op(coordinates)\n",
    "    \n",
    "    #get the ground state of H(R)\n",
    "    psi_0,_ = calc_ground_state(qubit_op,num_part, num_orb, problem, converter)\n",
    "    \n",
    "    psi_0 = CircuitStateFn(psi_0)\n",
    "\n",
    "    return psi_0\n",
    "\n",
    "def calc_force_and_cov(coordinates, simulator = 'qasm', PauliSet = None, mode = 'full', shots = 128):\n",
    "  \n",
    "    \n",
    "    if simulator == 'qasm':\n",
    "            backend = Aer.get_backend('qasm_simulator')\n",
    "            #backend.set_options(max_job_size=1, executor = euler_client)\n",
    "            q_instance = QuantumInstance(backend, shots=shots)\n",
    "    elif simulator == \"exact\":\n",
    "            backend = BasicAer.get_backend(\"statevector_simulator\")\n",
    "            q_instance = QuantumInstance(backend)\n",
    "    else:\n",
    "        print('Error: simulator should be qasm or exact!')\n",
    "        \n",
    "    num_coord = len(coordinates)   \n",
    "    \n",
    "    start = time.time()\n",
    "    \n",
    "\n",
    "    psi_0 = get_psi_0(coordinates, simulator = simulator, shots=shots)\n",
    "    \n",
    "    end = time.time()\n",
    "    \n",
    "    \n",
    "    time_psi_0 = end - start\n",
    "    #print(\"Took \" + str(time_psi_0) + \" s to calculate the ground state\")\n",
    "    forces = np.zeros(num_coord)\n",
    "    coordinates = coordinates.tolist()\n",
    "    \n",
    "    \n",
    "    coordinates_this = np.array(coordinates)\n",
    "    COM = calc_COM(coordinates_this)\n",
    "    coords = np.array_split(coordinates_this,3)\n",
    "    #print(coords)\n",
    "    #print(COM)\n",
    "    v0 = coords[0] - COM\n",
    "    v1 = coords[1] - COM\n",
    "    v2 = coords[2] - COM\n",
    "    \n",
    "    v0_normed = np.array(v0/np.sqrt(v0[0]**2+v0[1]**2))\n",
    "    v0_orth = np.array([v0_normed[1],-v0_normed[0]])\n",
    "    \n",
    "    v1_normed = np.array(v1/np.sqrt(v1[0]**2+v1[1]**2))\n",
    "    v1_orth = np.array([v1_normed[1],-v1_normed[0]])\n",
    "\n",
    "    v2_normed = np.array(v2/np.sqrt(v2[0]**2+v2[1]**2))\n",
    "    v2_orth = np.array([v2_normed[1],-v2_normed[0]])\n",
    "    \n",
    "    basis_set = [v0_normed,v0_orth,v1_normed,v1_orth,v2_normed,v2_orth]\n",
    "    \n",
    "    start = time.time()\n",
    "    #get force component operators and decomposition (without the 1/(2*dR) factor, for numerical reasons)\n",
    "    #replace parallel_ with sequential_ to see effect of parallelization\n",
    "    force_ops,force_op_coeffs = parallel_operators(coordinates,basis_set)\n",
    "    \n",
    "    #for ops in force_ops:\n",
    "        #print(len(ops))\n",
    "        \n",
    "    P1 = force_ops[0]\n",
    "    \n",
    "    if PauliSet == None:\n",
    "        \n",
    "        pauli_op_set = {'IIII'} #Could not initialize empty set for some reason\n",
    "        # construct set of PauliOp products that we need to calculate\n",
    "\n",
    "        for PauliString,coeff in force_op_coeffs[0].items():\n",
    "            pauli_op_set.add(PauliString)\n",
    "\n",
    "        #to get set of necessary PauliOp products:\n",
    "        \n",
    "            P_prod = (P1@P1)\n",
    "            P_list = P_prod.primitive.to_list()\n",
    "\n",
    "            for (PauliString,coeff) in P_list:\n",
    "                pauli_op_set.add(PauliString)\n",
    "                \n",
    "    else: pauli_op_set = PauliSet\n",
    "        \n",
    "    end = time.time()\n",
    "    \n",
    "    time_pauli_ops = end - start\n",
    "        \n",
    "\n",
    "        # Now we calculate the expectation values of all the relevant PauliOps\n",
    "    \n",
    "    start = time.time()\n",
    "    exp_dict = {} # dictionary with relevant expectation values\n",
    "        \n",
    "    #switch between parallel_ and sequential_ to see the effect\n",
    "    \n",
    "    parallel_expectations(exp_dict,pauli_op_set,q_instance,psi_0)\n",
    "    \n",
    "    forcess = [0,0,0,0,0,0]\n",
    "    \n",
    "    for i in range(len(coordinates)):\n",
    "        for pauli_op,coeff in force_op_coeffs[i].items():\n",
    "            forces[i] += coeff.real*exp_dict[pauli_op]\n",
    "    \n",
    "    forcess[0] = (forces[0]*v0_normed + forces[1]*v0_orth)[0]\n",
    "    forcess[1] = (forces[0]*v0_normed + forces[1]*v0_orth)[1]\n",
    "    forcess[2] = (forces[2]*v1_normed + forces[3]*v1_orth)[0]\n",
    "    forcess[3] = (forces[2]*v1_normed + forces[3]*v1_orth)[1]\n",
    "    forcess[4] = (forces[4]*v2_normed + forces[5]*v2_orth)[0]\n",
    "    forcess[5] = (forces[4]*v2_normed + forces[5]*v2_orth)[1]\n",
    "    forces_return = np.array(forcess)\n",
    "            \n",
    "    end = time.time()   \n",
    "    time_calc_exp = end - start\n",
    "    \n",
    "    \n",
    "    start = time.time()\n",
    "    COV = np.zeros((num_coord,num_coord)) #force covariance matrix, without some multiplicative factors. \n",
    "        \n",
    "    for i in range(num_coord):\n",
    "        for j in range(i,num_coord):\n",
    "\n",
    "            Pij = force_ops[i]@force_ops[j]\n",
    "            Pij_list = Pij.primitive.to_list()\n",
    "\n",
    "            #add product expectation \n",
    "            for (pauli_string,coeff) in Pij_list:\n",
    "                COV[i,j] += coeff.real*exp_dict[pauli_string]\n",
    "                    #subtract \n",
    "            COV[i,j] -= forces[i]*forces[j]\n",
    "\n",
    "            #since COV is symmetric\n",
    "            if i < j:\n",
    "                COV[j,i] = COV[i,j]\n",
    "    end = time.time()\n",
    "    \n",
    "    time_cov = end - start\n",
    "\n",
    "    print(f'Time to: Calculate Ground State - {round(time_psi_0,2)}s, Get Pauli Ops - {round(time_pauli_ops,2)}s, Calculate Pauli Expectation Values - {round(time_calc_exp,2)}s, Calculate Covariance - {round(time_cov,2)}s')\n",
    "    #print(COV)\n",
    "    \n",
    "    return forces_return*Ha*(1/(2*dR*angst)),COV*(Ha*(1/(2*dR*angst)))**2"
   ]
  },
  {
   "cell_type": "code",
   "execution_count": 3,
   "id": "5ae5fde0",
   "metadata": {},
   "outputs": [],
   "source": [
    "#from Quantech.verlet_integrator import distance\n",
    "#from force import calc_force_and_cov\n",
    "import numpy as np\n",
    "from tqdm import tqdm #to show progress\n",
    "\n",
    "\n",
    "#implementation of the explicit Euler integrator\n",
    "femto = 1.0e-15\n",
    "angst = 1.0e-10\n",
    "\n",
    "def distance(coordinates1,coordinates2):\n",
    "    return np.sqrt(np.power((coordinates1[0] - coordinates2[0]),2) + np.power((coordinates1[1] - coordinates2[1]),2))\n",
    "    \n",
    "\n",
    "\n",
    "def main():\n",
    "    \n",
    "    #mass of particle1 (H)\n",
    "    mass_0 = 1.67e-27\n",
    "    #mass of particle2 (H)\n",
    "    mass_1 = 1.67e-27\n",
    "    #mass of particle3 (H)\n",
    "    mass_2 = 1.67e-27\n",
    "    #time step of integrator\n",
    "    dt = 0.2*femto\n",
    "    #initial velocity of atoms\n",
    "    \n",
    "    v_init_0 = np.array([0,0])\n",
    "    v_init_1 = np.array([0,0])\n",
    "    v_init_2 = np.array([0,0])\n",
    "\n",
    "    v_init = np.concatenate((v_init_0,v_init_1,v_init_2),axis=None)\n",
    "\n",
    "    #distances between atoms\n",
    "    d = 0.8\n",
    "    #rotation angle of the initial triangle\n",
    "    b = 0/180*np.pi\n",
    "    \n",
    "    #initial positions of atoms, arrangement = equilateral triangle\n",
    "    x1_init = np.array([-d/2*np.cos(b)+np.sin(b)*np.sqrt(3)/6*d,-d/2*np.sin(b)-np.cos(b)*np.sqrt(3)/6*d])+np.array([0,d*np.sqrt(3)/6])\n",
    "    x2_init = np.array([d/2*np.cos(b)+np.sin(b)*np.sqrt(3)/6*d,d/2*np.sin(b)-np.cos(b)*np.sqrt(3)/6*d])+np.array([0,d*np.sqrt(3)/6])\n",
    "    x3_init = np.array([-np.sin(b)*np.sqrt(3)/3*d,np.cos(b)*np.sqrt(3)/3*d])+np.array([0,d*np.sqrt(3)/6])\n",
    "    \n",
    "    \n",
    "    init_pos0 = x1_init\n",
    "    init_pos1 = x2_init\n",
    "    init_pos2 = x3_init\n",
    "    \n",
    "    #print(distance(init_pos0,init_pos1))\n",
    "    #print(distance(init_pos0,init_pos2))\n",
    "    #print(distance(init_pos1,init_pos2))\n",
    "    \n",
    "    init_pos = np.concatenate((init_pos0,init_pos1,init_pos2),axis=None)\n",
    "\n",
    "    #integrator timesteps\n",
    "    times = np.arange(0*femto, 100.0*femto, dt)\n",
    "    #coordinate array\n",
    "    coords = [init_pos]\n",
    "    force = []\n",
    "    distance01 = [d]\n",
    "    distance02 = [d]\n",
    "    distance12 = [d]\n",
    "    #temperature in ?? \n",
    "    #k_B*T in Joule\n",
    "    k_b = 1.38065e-23\n",
    "    T = 420\n",
    "    k_T = k_b*T\n",
    "        #delta factor\n",
    "    delta = 1*dt\n",
    "    #hold v_next\n",
    "    v_next = None\n",
    "    \n",
    "    simulator = 'qasm'\n",
    "\n",
    "    for time in tqdm(times, desc='Progress: '):\n",
    "        \n",
    "        r = coords[-1]\n",
    "        #print(r)\n",
    "        \n",
    "        (forces,COV) = calc_force_and_cov(r, simulator = simulator, shots = 160000)\n",
    "        \n",
    "        #print(COV)\n",
    "        \n",
    "        COV = np.zeros((6,6))\n",
    "        \n",
    "        #angle1 = np.arctan(forces[1]/forces[0])/np.pi * 180\n",
    "        #print(angle1)\n",
    "        #print(\"f1 = \" + str([forces[2],forces[3]]))\n",
    "        #print(\"f2 = \" + str([forces[4],forces[5]]))\n",
    "        \n",
    "        f1 = distance(np.array([forces[0],forces[1]]),np.array([0,0]))\n",
    "        \n",
    "        f2 = distance(np.array([forces[2],forces[3]]),np.array([0,0]))\n",
    "        \n",
    "        f3 = distance(np.array([forces[4],forces[5]]),np.array([0,0]))    \n",
    "        \n",
    "        print(\"f0,f1,f2 = \" + str([f1,f2,f3]))\n",
    "        \n",
    "        #print(forces)\n",
    "        #print(COV)\n",
    "        \n",
    "        if time == 0:\n",
    "\n",
    "            v_next = v_init - delta/(2*k_T*np.power(mass_0*mass_1*mass_2,1/3))*np.matmul(COV,v_init)*dt + dt*forces/mass_0\n",
    "            \n",
    "            r_next = (r*angst + dt*v_next)/angst\n",
    "\n",
    "            #r_split = np.array_split(r_next,3)\n",
    "\n",
    "            coords.append(r_next)\n",
    "\n",
    "        else:\n",
    "\n",
    "            v_next += - delta/(2*k_T*np.power(mass_0*mass_1*mass_2,1/3))*np.matmul(COV,v_next)*dt + dt*forces/mass_0\n",
    "            \n",
    "            r_next = (r*angst + dt*v_next)/angst\n",
    "\n",
    "            #r_split = np.array_split(r_next,3)\n",
    "\n",
    "            coords.append(r_next)\n",
    "\n",
    "        dists = np.split(coords[-1],3)\n",
    "        d01 = distance(dists[0],dists[1])\n",
    "        distance01.append(d01)\n",
    "        d02 = distance(dists[0],dists[2])\n",
    "        distance02.append(d02)\n",
    "        d12 = distance(dists[1],dists[2])\n",
    "        distance12.append(d12)\n",
    "        \n",
    "    return (distance01,distance02,distance12,times) "
   ]
  },
  {
   "cell_type": "code",
   "execution_count": 4,
   "id": "be5bb22e",
   "metadata": {
    "scrolled": false
   },
   "outputs": [
    {
     "name": "stderr",
     "output_type": "stream",
     "text": [
      "Progress:   0%|          | 1/500 [00:13<1:53:20, 13.63s/it]"
     ]
    },
    {
     "name": "stdout",
     "output_type": "stream",
     "text": [
      "Time to: Calculate Ground State - 2.16s, Get Pauli Ops - 4.56s, Calculate Pauli Expectation Values - 6.54s, Calculate Covariance - 0.16s\n",
      "f0,f1,f2 = [1.2312861653301937e-08, 1.2312861653305734e-08, 1.231286165329649e-08]\n"
     ]
    },
    {
     "name": "stderr",
     "output_type": "stream",
     "text": [
      "Progress:   0%|          | 2/500 [00:26<1:49:47, 13.23s/it]"
     ]
    },
    {
     "name": "stdout",
     "output_type": "stream",
     "text": [
      "Time to: Calculate Ground State - 1.3s, Get Pauli Ops - 4.72s, Calculate Pauli Expectation Values - 6.7s, Calculate Covariance - 0.23s\n",
      "f0,f1,f2 = [1.170652640088671e-08, 1.1706526400888115e-08, 1.1706526400886463e-08]\n"
     ]
    },
    {
     "name": "stderr",
     "output_type": "stream",
     "text": [
      "Progress:   1%|          | 3/500 [00:39<1:48:25, 13.09s/it]"
     ]
    },
    {
     "name": "stdout",
     "output_type": "stream",
     "text": [
      "Time to: Calculate Ground State - 1.45s, Get Pauli Ops - 4.53s, Calculate Pauli Expectation Values - 6.69s, Calculate Covariance - 0.24s\n",
      "f0,f1,f2 = [1.1321532605709277e-08, 1.1321532605700754e-08, 1.1321532605707973e-08]\n"
     ]
    },
    {
     "name": "stderr",
     "output_type": "stream",
     "text": [
      "Progress:   1%|          | 4/500 [00:52<1:46:21, 12.87s/it]"
     ]
    },
    {
     "name": "stdout",
     "output_type": "stream",
     "text": [
      "Time to: Calculate Ground State - 1.34s, Get Pauli Ops - 4.43s, Calculate Pauli Expectation Values - 6.63s, Calculate Covariance - 0.13s\n",
      "f0,f1,f2 = [8.714502221410453e-09, 8.714502221416923e-09, 8.714502221413275e-09]\n"
     ]
    },
    {
     "name": "stderr",
     "output_type": "stream",
     "text": [
      "/cluster/home/mskrabulis/miniconda3/envs/quantech/lib/python3.9/site-packages/pyscf/symm/Dmatrix.py:156: RuntimeWarning: invalid value encountered in arccos\n",
      "  gamma = numpy.arccos(yp.dot(c2[1]))\n",
      "Progress:   1%|          | 5/500 [01:04<1:45:42, 12.81s/it]"
     ]
    },
    {
     "name": "stdout",
     "output_type": "stream",
     "text": [
      "Time to: Calculate Ground State - 1.3s, Get Pauli Ops - 4.48s, Calculate Pauli Expectation Values - 6.71s, Calculate Covariance - 0.23s\n",
      "f0,f1,f2 = [8.43923119011831e-09, 8.43923119012016e-09, 8.439231190115808e-09]\n"
     ]
    },
    {
     "name": "stderr",
     "output_type": "stream",
     "text": [
      "/cluster/home/mskrabulis/miniconda3/envs/quantech/lib/python3.9/site-packages/pyscf/symm/Dmatrix.py:156: RuntimeWarning: invalid value encountered in arccos\n",
      "  gamma = numpy.arccos(yp.dot(c2[1]))\n",
      "Progress:   1%|          | 6/500 [01:17<1:45:28, 12.81s/it]"
     ]
    },
    {
     "name": "stdout",
     "output_type": "stream",
     "text": [
      "Time to: Calculate Ground State - 1.41s, Get Pauli Ops - 4.48s, Calculate Pauli Expectation Values - 6.68s, Calculate Covariance - 0.23s\n",
      "f0,f1,f2 = [6.53726858368491e-09, 6.5372685836766615e-09, 6.537268583692528e-09]\n"
     ]
    },
    {
     "name": "stderr",
     "output_type": "stream",
     "text": [
      "/cluster/home/mskrabulis/miniconda3/envs/quantech/lib/python3.9/site-packages/pyscf/symm/Dmatrix.py:156: RuntimeWarning: invalid value encountered in arccos\n",
      "  gamma = numpy.arccos(yp.dot(c2[1]))\n",
      "Progress:   1%|▏         | 7/500 [01:30<1:45:07, 12.79s/it]"
     ]
    },
    {
     "name": "stdout",
     "output_type": "stream",
     "text": [
      "Time to: Calculate Ground State - 1.39s, Get Pauli Ops - 4.45s, Calculate Pauli Expectation Values - 6.69s, Calculate Covariance - 0.23s\n",
      "f0,f1,f2 = [4.196937156204624e-09, 4.196937156215325e-09, 4.196937156202848e-09]\n"
     ]
    },
    {
     "name": "stderr",
     "output_type": "stream",
     "text": [
      "Progress:   2%|▏         | 8/500 [01:43<1:44:42, 12.77s/it]"
     ]
    },
    {
     "name": "stdout",
     "output_type": "stream",
     "text": [
      "Time to: Calculate Ground State - 1.43s, Get Pauli Ops - 4.52s, Calculate Pauli Expectation Values - 6.6s, Calculate Covariance - 0.17s\n",
      "f0,f1,f2 = [4.571430505830424e-09, 4.571430505832868e-09, 4.571430505839833e-09]\n"
     ]
    },
    {
     "name": "stderr",
     "output_type": "stream",
     "text": [
      "Progress:   2%|▏         | 9/500 [01:55<1:43:25, 12.64s/it]"
     ]
    },
    {
     "name": "stdout",
     "output_type": "stream",
     "text": [
      "Time to: Calculate Ground State - 1.25s, Get Pauli Ops - 4.38s, Calculate Pauli Expectation Values - 6.55s, Calculate Covariance - 0.17s\n",
      "f0,f1,f2 = [1.464269928036427e-09, 1.4642699280366341e-09, 1.4642699280415166e-09]\n"
     ]
    },
    {
     "name": "stderr",
     "output_type": "stream",
     "text": [
      "/cluster/home/mskrabulis/miniconda3/envs/quantech/lib/python3.9/site-packages/pyscf/symm/Dmatrix.py:156: RuntimeWarning: invalid value encountered in arccos\n",
      "  gamma = numpy.arccos(yp.dot(c2[1]))\n",
      "Progress:   2%|▏         | 10/500 [02:08<1:43:19, 12.65s/it]"
     ]
    },
    {
     "name": "stdout",
     "output_type": "stream",
     "text": [
      "Time to: Calculate Ground State - 1.44s, Get Pauli Ops - 4.5s, Calculate Pauli Expectation Values - 6.61s, Calculate Covariance - 0.13s\n",
      "f0,f1,f2 = [5.03317436889947e-10, 5.033174368954598e-10, 5.033174368916407e-10]\n"
     ]
    },
    {
     "name": "stderr",
     "output_type": "stream",
     "text": [
      "Progress:   2%|▏         | 11/500 [02:20<1:43:32, 12.70s/it]"
     ]
    },
    {
     "name": "stdout",
     "output_type": "stream",
     "text": [
      "Time to: Calculate Ground State - 1.32s, Get Pauli Ops - 4.53s, Calculate Pauli Expectation Values - 6.75s, Calculate Covariance - 0.23s\n",
      "f0,f1,f2 = [1.3316698039088843e-09, 1.3316698039157483e-09, 1.3316698039115663e-09]\n"
     ]
    },
    {
     "name": "stderr",
     "output_type": "stream",
     "text": [
      "Progress:   2%|▏         | 12/500 [02:33<1:43:09, 12.68s/it]"
     ]
    },
    {
     "name": "stdout",
     "output_type": "stream",
     "text": [
      "Time to: Calculate Ground State - 1.41s, Get Pauli Ops - 4.47s, Calculate Pauli Expectation Values - 6.62s, Calculate Covariance - 0.13s\n",
      "f0,f1,f2 = [1.8041546894212625e-09, 1.8041546894230027e-09, 1.8041546894275571e-09]\n"
     ]
    },
    {
     "name": "stderr",
     "output_type": "stream",
     "text": [
      "Progress:   3%|▎         | 13/500 [02:45<1:41:30, 12.51s/it]"
     ]
    },
    {
     "name": "stdout",
     "output_type": "stream",
     "text": [
      "Time to: Calculate Ground State - 1.11s, Get Pauli Ops - 4.4s, Calculate Pauli Expectation Values - 6.41s, Calculate Covariance - 0.17s\n",
      "f0,f1,f2 = [1.4239071560211978e-09, 1.4239071560246619e-09, 1.423907156019616e-09]\n"
     ]
    },
    {
     "name": "stderr",
     "output_type": "stream",
     "text": [
      "/cluster/home/mskrabulis/miniconda3/envs/quantech/lib/python3.9/site-packages/pyscf/symm/Dmatrix.py:156: RuntimeWarning: invalid value encountered in arccos\n",
      "  gamma = numpy.arccos(yp.dot(c2[1]))\n",
      "/cluster/home/mskrabulis/miniconda3/envs/quantech/lib/python3.9/site-packages/pyscf/symm/Dmatrix.py:156: RuntimeWarning: invalid value encountered in arccos\n",
      "  gamma = numpy.arccos(yp.dot(c2[1]))\n",
      "Progress:   3%|▎         | 14/500 [02:58<1:41:12, 12.49s/it]"
     ]
    },
    {
     "name": "stdout",
     "output_type": "stream",
     "text": [
      "Time to: Calculate Ground State - 1.37s, Get Pauli Ops - 4.42s, Calculate Pauli Expectation Values - 6.5s, Calculate Covariance - 0.17s\n",
      "f0,f1,f2 = [4.827762715401856e-09, 4.827762715406356e-09, 4.827762715400861e-09]\n"
     ]
    },
    {
     "name": "stderr",
     "output_type": "stream",
     "text": [
      "Progress:   3%|▎         | 15/500 [03:10<1:39:37, 12.32s/it]"
     ]
    },
    {
     "name": "stdout",
     "output_type": "stream",
     "text": [
      "Time to: Calculate Ground State - 0.93s, Get Pauli Ops - 4.38s, Calculate Pauli Expectation Values - 6.45s, Calculate Covariance - 0.16s\n",
      "f0,f1,f2 = [2.378683445672359e-09, 2.378683445681416e-09, 2.378683445682738e-09]\n"
     ]
    },
    {
     "name": "stderr",
     "output_type": "stream",
     "text": [
      "Progress:   3%|▎         | 16/500 [03:22<1:39:28, 12.33s/it]"
     ]
    },
    {
     "name": "stdout",
     "output_type": "stream",
     "text": [
      "Time to: Calculate Ground State - 1.4s, Get Pauli Ops - 4.2s, Calculate Pauli Expectation Values - 6.52s, Calculate Covariance - 0.23s\n",
      "f0,f1,f2 = [3.97136857770489e-09, 3.971368577678435e-09, 3.971368577682878e-09]\n"
     ]
    },
    {
     "name": "stderr",
     "output_type": "stream",
     "text": [
      "/cluster/home/mskrabulis/miniconda3/envs/quantech/lib/python3.9/site-packages/pyscf/symm/Dmatrix.py:156: RuntimeWarning: invalid value encountered in arccos\n",
      "  gamma = numpy.arccos(yp.dot(c2[1]))\n",
      "Progress:   3%|▎         | 17/500 [03:34<1:38:26, 12.23s/it]"
     ]
    },
    {
     "name": "stdout",
     "output_type": "stream",
     "text": [
      "Time to: Calculate Ground State - 1.12s, Get Pauli Ops - 4.28s, Calculate Pauli Expectation Values - 6.46s, Calculate Covariance - 0.13s\n",
      "f0,f1,f2 = [4.543135691821138e-09, 4.543135691814418e-09, 4.543135691813964e-09]\n"
     ]
    },
    {
     "name": "stderr",
     "output_type": "stream",
     "text": [
      "Progress:   4%|▎         | 18/500 [03:46<1:38:13, 12.23s/it]"
     ]
    },
    {
     "name": "stdout",
     "output_type": "stream",
     "text": [
      "Time to: Calculate Ground State - 1.25s, Get Pauli Ops - 4.26s, Calculate Pauli Expectation Values - 6.55s, Calculate Covariance - 0.16s\n",
      "f0,f1,f2 = [6.007209599842496e-09, 6.007209599841359e-09, 6.007209599835424e-09]\n"
     ]
    },
    {
     "name": "stderr",
     "output_type": "stream",
     "text": [
      "Progress:   4%|▍         | 19/500 [03:58<1:37:06, 12.11s/it]"
     ]
    },
    {
     "name": "stdout",
     "output_type": "stream",
     "text": [
      "Time to: Calculate Ground State - 0.87s, Get Pauli Ops - 4.37s, Calculate Pauli Expectation Values - 6.47s, Calculate Covariance - 0.13s\n",
      "f0,f1,f2 = [5.03892550137052e-09, 5.03892550137208e-09, 5.038925501361725e-09]\n"
     ]
    },
    {
     "name": "stderr",
     "output_type": "stream",
     "text": [
      "Progress:   4%|▍         | 20/500 [04:12<1:41:13, 12.65s/it]"
     ]
    },
    {
     "name": "stdout",
     "output_type": "stream",
     "text": [
      "Time to: Calculate Ground State - 1.34s, Get Pauli Ops - 4.32s, Calculate Pauli Expectation Values - 8.05s, Calculate Covariance - 0.2s\n",
      "f0,f1,f2 = [5.252586865526561e-09, 5.252586865526846e-09, 5.252586865533292e-09]\n"
     ]
    },
    {
     "name": "stderr",
     "output_type": "stream",
     "text": [
      "Progress:   4%|▍         | 21/500 [04:24<1:40:56, 12.64s/it]"
     ]
    },
    {
     "name": "stdout",
     "output_type": "stream",
     "text": [
      "Time to: Calculate Ground State - 1.31s, Get Pauli Ops - 4.47s, Calculate Pauli Expectation Values - 6.64s, Calculate Covariance - 0.2s\n",
      "f0,f1,f2 = [4.743993333250145e-09, 4.743993333233259e-09, 4.743993333233064e-09]\n"
     ]
    },
    {
     "name": "stderr",
     "output_type": "stream",
     "text": [
      "Progress:   4%|▍         | 22/500 [04:37<1:39:47, 12.53s/it]"
     ]
    },
    {
     "name": "stdout",
     "output_type": "stream",
     "text": [
      "Time to: Calculate Ground State - 1.42s, Get Pauli Ops - 4.11s, Calculate Pauli Expectation Values - 6.55s, Calculate Covariance - 0.17s\n",
      "f0,f1,f2 = [5.932699990737834e-09, 5.932699990741547e-09, 5.932699990747527e-09]\n"
     ]
    },
    {
     "name": "stderr",
     "output_type": "stream",
     "text": [
      "Progress:   5%|▍         | 23/500 [04:49<1:39:23, 12.50s/it]"
     ]
    },
    {
     "name": "stdout",
     "output_type": "stream",
     "text": [
      "Time to: Calculate Ground State - 1.35s, Get Pauli Ops - 4.41s, Calculate Pauli Expectation Values - 6.47s, Calculate Covariance - 0.21s\n",
      "f0,f1,f2 = [6.012652352285991e-09, 6.012652352276597e-09, 6.012652352283179e-09]\n"
     ]
    },
    {
     "name": "stderr",
     "output_type": "stream",
     "text": [
      "Progress:   5%|▍         | 24/500 [05:01<1:38:22, 12.40s/it]"
     ]
    },
    {
     "name": "stdout",
     "output_type": "stream",
     "text": [
      "Time to: Calculate Ground State - 1.03s, Get Pauli Ops - 4.4s, Calculate Pauli Expectation Values - 6.6s, Calculate Covariance - 0.13s\n",
      "f0,f1,f2 = [5.684785614627313e-09, 5.684785614638496e-09, 5.68478561462525e-09]\n"
     ]
    },
    {
     "name": "stderr",
     "output_type": "stream",
     "text": [
      "Progress:   5%|▌         | 25/500 [05:14<1:38:15, 12.41s/it]"
     ]
    },
    {
     "name": "stdout",
     "output_type": "stream",
     "text": [
      "Time to: Calculate Ground State - 1.27s, Get Pauli Ops - 4.41s, Calculate Pauli Expectation Values - 6.56s, Calculate Covariance - 0.2s\n",
      "f0,f1,f2 = [6.413213846573988e-09, 6.413213846572522e-09, 6.413213846582348e-09]\n"
     ]
    },
    {
     "name": "stderr",
     "output_type": "stream",
     "text": [
      "Progress:   5%|▌         | 26/500 [05:26<1:36:53, 12.26s/it]"
     ]
    },
    {
     "name": "stdout",
     "output_type": "stream",
     "text": [
      "Time to: Calculate Ground State - 0.88s, Get Pauli Ops - 4.31s, Calculate Pauli Expectation Values - 6.5s, Calculate Covariance - 0.23s\n",
      "f0,f1,f2 = [7.060909190113753e-09, 7.060909190110199e-09, 7.060909190107386e-09]\n"
     ]
    },
    {
     "name": "stderr",
     "output_type": "stream",
     "text": [
      "Progress:   5%|▌         | 27/500 [05:38<1:37:28, 12.36s/it]"
     ]
    },
    {
     "name": "stdout",
     "output_type": "stream",
     "text": [
      "Time to: Calculate Ground State - 1.34s, Get Pauli Ops - 4.52s, Calculate Pauli Expectation Values - 6.49s, Calculate Covariance - 0.24s\n",
      "f0,f1,f2 = [5.748381103357691e-09, 5.748381103360369e-09, 5.74838110334903e-09]\n"
     ]
    },
    {
     "name": "stderr",
     "output_type": "stream",
     "text": [
      "Progress:   6%|▌         | 28/500 [05:51<1:37:30, 12.40s/it]"
     ]
    },
    {
     "name": "stdout",
     "output_type": "stream",
     "text": [
      "Time to: Calculate Ground State - 1.42s, Get Pauli Ops - 4.42s, Calculate Pauli Expectation Values - 6.47s, Calculate Covariance - 0.15s\n",
      "f0,f1,f2 = [7.442897151064379e-09, 7.442897151070317e-09, 7.4428971510719305e-09]\n"
     ]
    },
    {
     "name": "stderr",
     "output_type": "stream",
     "text": [
      "Progress:   6%|▌         | 29/500 [06:03<1:37:30, 12.42s/it]"
     ]
    },
    {
     "name": "stdout",
     "output_type": "stream",
     "text": [
      "Time to: Calculate Ground State - 1.4s, Get Pauli Ops - 4.46s, Calculate Pauli Expectation Values - 6.46s, Calculate Covariance - 0.17s\n",
      "f0,f1,f2 = [6.977495450401303e-09, 6.977495450396851e-09, 6.977495450401981e-09]\n"
     ]
    },
    {
     "name": "stderr",
     "output_type": "stream",
     "text": [
      "/cluster/home/mskrabulis/miniconda3/envs/quantech/lib/python3.9/site-packages/pyscf/symm/Dmatrix.py:156: RuntimeWarning: invalid value encountered in arccos\n",
      "  gamma = numpy.arccos(yp.dot(c2[1]))\n",
      "Progress:   6%|▌         | 30/500 [06:15<1:36:06, 12.27s/it]"
     ]
    },
    {
     "name": "stdout",
     "output_type": "stream",
     "text": [
      "Time to: Calculate Ground State - 1.02s, Get Pauli Ops - 4.27s, Calculate Pauli Expectation Values - 6.5s, Calculate Covariance - 0.13s\n",
      "f0,f1,f2 = [7.22641691927077e-09, 7.226416919275078e-09, 7.226416919269961e-09]\n"
     ]
    },
    {
     "name": "stderr",
     "output_type": "stream",
     "text": [
      "/cluster/home/mskrabulis/miniconda3/envs/quantech/lib/python3.9/site-packages/pyscf/symm/Dmatrix.py:156: RuntimeWarning: invalid value encountered in arccos\n",
      "  gamma = numpy.arccos(yp.dot(c2[1]))\n",
      "/cluster/home/mskrabulis/miniconda3/envs/quantech/lib/python3.9/site-packages/pyscf/symm/Dmatrix.py:156: RuntimeWarning: invalid value encountered in arccos\n",
      "  gamma = numpy.arccos(yp.dot(c2[1]))\n",
      "Progress:   6%|▌         | 31/500 [06:28<1:37:02, 12.42s/it]"
     ]
    },
    {
     "name": "stdout",
     "output_type": "stream",
     "text": [
      "Time to: Calculate Ground State - 1.39s, Get Pauli Ops - 4.48s, Calculate Pauli Expectation Values - 6.66s, Calculate Covariance - 0.22s\n",
      "f0,f1,f2 = [6.910072370129733e-09, 6.910072370130012e-09, 6.910072370125109e-09]\n"
     ]
    },
    {
     "name": "stderr",
     "output_type": "stream",
     "text": [
      "/cluster/home/mskrabulis/miniconda3/envs/quantech/lib/python3.9/site-packages/pyscf/symm/Dmatrix.py:156: RuntimeWarning: invalid value encountered in arccos\n",
      "  gamma = numpy.arccos(yp.dot(c2[1]))\n",
      "Progress:   6%|▋         | 32/500 [06:40<1:37:14, 12.47s/it]"
     ]
    },
    {
     "name": "stdout",
     "output_type": "stream",
     "text": [
      "Time to: Calculate Ground State - 1.41s, Get Pauli Ops - 4.48s, Calculate Pauli Expectation Values - 6.56s, Calculate Covariance - 0.13s\n",
      "f0,f1,f2 = [5.17470910918977e-09, 5.174709109205828e-09, 5.174709109187713e-09]\n"
     ]
    },
    {
     "name": "stderr",
     "output_type": "stream",
     "text": [
      "Progress:   7%|▋         | 33/500 [06:53<1:36:21, 12.38s/it]"
     ]
    },
    {
     "name": "stdout",
     "output_type": "stream",
     "text": [
      "Time to: Calculate Ground State - 1.26s, Get Pauli Ops - 4.44s, Calculate Pauli Expectation Values - 6.35s, Calculate Covariance - 0.13s\n",
      "f0,f1,f2 = [5.457052397960673e-09, 5.457052397948344e-09, 5.45705239795449e-09]\n"
     ]
    },
    {
     "name": "stderr",
     "output_type": "stream",
     "text": [
      "Progress:   7%|▋         | 34/500 [07:05<1:35:23, 12.28s/it]"
     ]
    },
    {
     "name": "stdout",
     "output_type": "stream",
     "text": [
      "Time to: Calculate Ground State - 0.93s, Get Pauli Ops - 4.45s, Calculate Pauli Expectation Values - 6.54s, Calculate Covariance - 0.13s\n",
      "f0,f1,f2 = [5.311831673269415e-09, 5.311831673271254e-09, 5.311831673277005e-09]\n"
     ]
    },
    {
     "name": "stderr",
     "output_type": "stream",
     "text": [
      "Progress:   7%|▋         | 35/500 [07:17<1:35:35, 12.33s/it]"
     ]
    },
    {
     "name": "stdout",
     "output_type": "stream",
     "text": [
      "Time to: Calculate Ground State - 1.26s, Get Pauli Ops - 4.48s, Calculate Pauli Expectation Values - 6.59s, Calculate Covariance - 0.13s\n",
      "f0,f1,f2 = [5.798351672101815e-09, 5.7983516721014045e-09, 5.798351672089703e-09]\n"
     ]
    },
    {
     "name": "stderr",
     "output_type": "stream",
     "text": [
      "/cluster/home/mskrabulis/miniconda3/envs/quantech/lib/python3.9/site-packages/pyscf/symm/Dmatrix.py:156: RuntimeWarning: invalid value encountered in arccos\n",
      "  gamma = numpy.arccos(yp.dot(c2[1]))\n",
      "Progress:   7%|▋         | 36/500 [07:30<1:35:40, 12.37s/it]"
     ]
    },
    {
     "name": "stdout",
     "output_type": "stream",
     "text": [
      "Time to: Calculate Ground State - 1.31s, Get Pauli Ops - 4.47s, Calculate Pauli Expectation Values - 6.51s, Calculate Covariance - 0.16s\n",
      "f0,f1,f2 = [4.858468481914093e-09, 4.858468481922281e-09, 4.858468481936806e-09]\n"
     ]
    },
    {
     "name": "stderr",
     "output_type": "stream",
     "text": [
      "/cluster/home/mskrabulis/miniconda3/envs/quantech/lib/python3.9/site-packages/pyscf/symm/Dmatrix.py:156: RuntimeWarning: invalid value encountered in arccos\n",
      "  gamma = numpy.arccos(yp.dot(c2[1]))\n",
      "/cluster/home/mskrabulis/miniconda3/envs/quantech/lib/python3.9/site-packages/pyscf/symm/Dmatrix.py:156: RuntimeWarning: invalid value encountered in arccos\n",
      "  gamma = numpy.arccos(yp.dot(c2[1]))\n",
      "Progress:   7%|▋         | 37/500 [07:42<1:35:24, 12.36s/it]"
     ]
    },
    {
     "name": "stdout",
     "output_type": "stream",
     "text": [
      "Time to: Calculate Ground State - 1.32s, Get Pauli Ops - 4.23s, Calculate Pauli Expectation Values - 6.61s, Calculate Covariance - 0.19s\n",
      "f0,f1,f2 = [3.4538894803621282e-09, 3.4538894803643905e-09, 3.4538894803602455e-09]\n"
     ]
    },
    {
     "name": "stderr",
     "output_type": "stream",
     "text": [
      "Progress:   8%|▊         | 38/500 [07:55<1:35:49, 12.45s/it]"
     ]
    },
    {
     "name": "stdout",
     "output_type": "stream",
     "text": [
      "Time to: Calculate Ground State - 1.38s, Get Pauli Ops - 4.51s, Calculate Pauli Expectation Values - 6.61s, Calculate Covariance - 0.13s\n",
      "f0,f1,f2 = [1.4366018276706779e-09, 1.4366018276802082e-09, 1.4366018276803222e-09]\n"
     ]
    },
    {
     "name": "stderr",
     "output_type": "stream",
     "text": [
      "Progress:   8%|▊         | 39/500 [08:07<1:35:28, 12.43s/it]"
     ]
    },
    {
     "name": "stdout",
     "output_type": "stream",
     "text": [
      "Time to: Calculate Ground State - 1.28s, Get Pauli Ops - 4.12s, Calculate Pauli Expectation Values - 6.82s, Calculate Covariance - 0.15s\n",
      "f0,f1,f2 = [1.920734442821979e-09, 1.9207344428222685e-09, 1.920734442832258e-09]\n"
     ]
    },
    {
     "name": "stderr",
     "output_type": "stream",
     "text": [
      "Progress:   8%|▊         | 40/500 [08:19<1:34:53, 12.38s/it]"
     ]
    },
    {
     "name": "stdout",
     "output_type": "stream",
     "text": [
      "Time to: Calculate Ground State - 1.21s, Get Pauli Ops - 4.29s, Calculate Pauli Expectation Values - 6.63s, Calculate Covariance - 0.13s\n",
      "f0,f1,f2 = [3.6545726457732354e-09, 3.6545726457880974e-09, 3.654572645778082e-09]\n"
     ]
    },
    {
     "name": "stderr",
     "output_type": "stream",
     "text": [
      "Progress:   8%|▊         | 41/500 [08:32<1:35:32, 12.49s/it]"
     ]
    },
    {
     "name": "stdout",
     "output_type": "stream",
     "text": [
      "Time to: Calculate Ground State - 1.4s, Get Pauli Ops - 4.49s, Calculate Pauli Expectation Values - 6.65s, Calculate Covariance - 0.21s\n",
      "f0,f1,f2 = [7.020851172627774e-10, 7.020851172652928e-10, 7.020851172741829e-10]\n"
     ]
    },
    {
     "name": "stderr",
     "output_type": "stream",
     "text": [
      "Progress:   8%|▊         | 42/500 [08:45<1:35:48, 12.55s/it]"
     ]
    },
    {
     "name": "stdout",
     "output_type": "stream",
     "text": [
      "Time to: Calculate Ground State - 1.42s, Get Pauli Ops - 4.47s, Calculate Pauli Expectation Values - 6.66s, Calculate Covariance - 0.14s\n",
      "f0,f1,f2 = [6.39595329484476e-10, 6.395953294782711e-10, 6.395953294804101e-10]\n"
     ]
    },
    {
     "name": "stderr",
     "output_type": "stream",
     "text": [
      "/cluster/home/mskrabulis/miniconda3/envs/quantech/lib/python3.9/site-packages/pyscf/symm/Dmatrix.py:156: RuntimeWarning: invalid value encountered in arccos\n",
      "  gamma = numpy.arccos(yp.dot(c2[1]))\n",
      "Progress:   9%|▊         | 43/500 [08:57<1:35:38, 12.56s/it]"
     ]
    },
    {
     "name": "stdout",
     "output_type": "stream",
     "text": [
      "Time to: Calculate Ground State - 1.34s, Get Pauli Ops - 4.41s, Calculate Pauli Expectation Values - 6.68s, Calculate Covariance - 0.14s\n",
      "f0,f1,f2 = [2.4333070641841007e-09, 2.4333070641818474e-09, 2.4333070641884616e-09]\n"
     ]
    },
    {
     "name": "stderr",
     "output_type": "stream",
     "text": [
      "Progress:   9%|▉         | 44/500 [09:12<1:39:31, 13.10s/it]"
     ]
    },
    {
     "name": "stdout",
     "output_type": "stream",
     "text": [
      "Time to: Calculate Ground State - 1.52s, Get Pauli Ops - 4.03s, Calculate Pauli Expectation Values - 8.57s, Calculate Covariance - 0.23s\n",
      "f0,f1,f2 = [4.299433664195903e-09, 4.299433664200639e-09, 4.299433664200989e-09]\n"
     ]
    },
    {
     "name": "stderr",
     "output_type": "stream",
     "text": [
      "Progress:   9%|▉         | 45/500 [09:24<1:37:58, 12.92s/it]"
     ]
    },
    {
     "name": "stdout",
     "output_type": "stream",
     "text": [
      "Time to: Calculate Ground State - 1.42s, Get Pauli Ops - 4.09s, Calculate Pauli Expectation Values - 6.85s, Calculate Covariance - 0.15s\n",
      "f0,f1,f2 = [7.158385848649573e-09, 7.158385848640713e-09, 7.158385848640876e-09]\n"
     ]
    },
    {
     "name": "stderr",
     "output_type": "stream",
     "text": [
      "/cluster/home/mskrabulis/miniconda3/envs/quantech/lib/python3.9/site-packages/pyscf/symm/Dmatrix.py:156: RuntimeWarning: invalid value encountered in arccos\n",
      "  gamma = numpy.arccos(yp.dot(c2[1]))\n",
      "Progress:   9%|▉         | 46/500 [09:37<1:36:47, 12.79s/it]"
     ]
    },
    {
     "name": "stdout",
     "output_type": "stream",
     "text": [
      "Time to: Calculate Ground State - 1.35s, Get Pauli Ops - 4.48s, Calculate Pauli Expectation Values - 6.53s, Calculate Covariance - 0.13s\n",
      "f0,f1,f2 = [7.57824321566512e-09, 7.578243215661778e-09, 7.578243215655807e-09]\n"
     ]
    },
    {
     "name": "stderr",
     "output_type": "stream",
     "text": [
      "Progress:   9%|▉         | 47/500 [09:49<1:35:42, 12.68s/it]"
     ]
    },
    {
     "name": "stdout",
     "output_type": "stream",
     "text": [
      "Time to: Calculate Ground State - 1.3s, Get Pauli Ops - 4.32s, Calculate Pauli Expectation Values - 6.56s, Calculate Covariance - 0.22s\n",
      "f0,f1,f2 = [9.881112330986242e-09, 9.88111233099063e-09, 9.881112330981102e-09]\n"
     ]
    },
    {
     "name": "stderr",
     "output_type": "stream",
     "text": [
      "Progress:  10%|▉         | 48/500 [10:01<1:34:57, 12.61s/it]"
     ]
    },
    {
     "name": "stdout",
     "output_type": "stream",
     "text": [
      "Time to: Calculate Ground State - 1.18s, Get Pauli Ops - 4.46s, Calculate Pauli Expectation Values - 6.67s, Calculate Covariance - 0.13s\n",
      "f0,f1,f2 = [1.0976206372102384e-08, 1.0976206372101355e-08, 1.0976206372100455e-08]\n"
     ]
    },
    {
     "name": "stderr",
     "output_type": "stream",
     "text": [
      "Progress:  10%|▉         | 49/500 [10:14<1:35:04, 12.65s/it]"
     ]
    },
    {
     "name": "stdout",
     "output_type": "stream",
     "text": [
      "Time to: Calculate Ground State - 1.43s, Get Pauli Ops - 4.39s, Calculate Pauli Expectation Values - 6.7s, Calculate Covariance - 0.23s\n",
      "f0,f1,f2 = [1.188004488080283e-08, 1.1880044880807644e-08, 1.188004488080542e-08]\n"
     ]
    },
    {
     "name": "stderr",
     "output_type": "stream",
     "text": [
      "/cluster/home/mskrabulis/miniconda3/envs/quantech/lib/python3.9/site-packages/pyscf/symm/Dmatrix.py:156: RuntimeWarning: invalid value encountered in arccos\n",
      "  gamma = numpy.arccos(yp.dot(c2[1]))\n",
      "/cluster/home/mskrabulis/miniconda3/envs/quantech/lib/python3.9/site-packages/pyscf/symm/Dmatrix.py:156: RuntimeWarning: invalid value encountered in arccos\n",
      "  gamma = numpy.arccos(yp.dot(c2[1]))\n",
      "Progress:  10%|█         | 50/500 [10:27<1:34:44, 12.63s/it]"
     ]
    },
    {
     "name": "stdout",
     "output_type": "stream",
     "text": [
      "Time to: Calculate Ground State - 1.41s, Get Pauli Ops - 4.4s, Calculate Pauli Expectation Values - 6.59s, Calculate Covariance - 0.2s\n",
      "f0,f1,f2 = [1.4602564759802217e-08, 1.4602564759795156e-08, 1.4602564759779423e-08]\n"
     ]
    },
    {
     "name": "stderr",
     "output_type": "stream",
     "text": [
      "/cluster/home/mskrabulis/miniconda3/envs/quantech/lib/python3.9/site-packages/pyscf/symm/Dmatrix.py:156: RuntimeWarning: invalid value encountered in arccos\n",
      "  gamma = numpy.arccos(yp.dot(c2[1]))\n",
      "Progress:  10%|█         | 51/500 [10:42<1:39:56, 13.35s/it]"
     ]
    },
    {
     "name": "stdout",
     "output_type": "stream",
     "text": [
      "Time to: Calculate Ground State - 1.58s, Get Pauli Ops - 4.44s, Calculate Pauli Expectation Values - 8.78s, Calculate Covariance - 0.23s\n",
      "f0,f1,f2 = [1.3841347164842484e-08, 1.3841347164826377e-08, 1.3841347164818465e-08]\n"
     ]
    },
    {
     "name": "stderr",
     "output_type": "stream",
     "text": [
      "/cluster/home/mskrabulis/miniconda3/envs/quantech/lib/python3.9/site-packages/pyscf/symm/Dmatrix.py:156: RuntimeWarning: invalid value encountered in arccos\n",
      "  gamma = numpy.arccos(yp.dot(c2[1]))\n",
      "Progress:  10%|█         | 52/500 [10:54<1:37:37, 13.08s/it]"
     ]
    },
    {
     "name": "stdout",
     "output_type": "stream",
     "text": [
      "Time to: Calculate Ground State - 1.38s, Get Pauli Ops - 4.46s, Calculate Pauli Expectation Values - 6.44s, Calculate Covariance - 0.14s\n",
      "f0,f1,f2 = [1.3881595976837338e-08, 1.3881595976833907e-08, 1.3881595976825688e-08]\n"
     ]
    },
    {
     "name": "stderr",
     "output_type": "stream",
     "text": [
      "/cluster/home/mskrabulis/miniconda3/envs/quantech/lib/python3.9/site-packages/pyscf/symm/Dmatrix.py:156: RuntimeWarning: invalid value encountered in arccos\n",
      "  gamma = numpy.arccos(yp.dot(c2[1]))\n",
      "Progress:  11%|█         | 53/500 [11:07<1:35:40, 12.84s/it]"
     ]
    },
    {
     "name": "stdout",
     "output_type": "stream",
     "text": [
      "Time to: Calculate Ground State - 1.11s, Get Pauli Ops - 4.45s, Calculate Pauli Expectation Values - 6.6s, Calculate Covariance - 0.14s\n",
      "f0,f1,f2 = [1.3842768784442052e-08, 1.384276878442987e-08, 1.3842768784431709e-08]\n"
     ]
    },
    {
     "name": "stderr",
     "output_type": "stream",
     "text": [
      "Progress:  11%|█         | 54/500 [11:19<1:34:34, 12.72s/it]"
     ]
    },
    {
     "name": "stdout",
     "output_type": "stream",
     "text": [
      "Time to: Calculate Ground State - 1.31s, Get Pauli Ops - 4.39s, Calculate Pauli Expectation Values - 6.53s, Calculate Covariance - 0.2s\n",
      "f0,f1,f2 = [1.0750000930421846e-08, 1.075000093043065e-08, 1.0750000930419453e-08]\n"
     ]
    },
    {
     "name": "stderr",
     "output_type": "stream",
     "text": [
      "/cluster/home/mskrabulis/miniconda3/envs/quantech/lib/python3.9/site-packages/pyscf/symm/Dmatrix.py:156: RuntimeWarning: invalid value encountered in arccos\n",
      "  gamma = numpy.arccos(yp.dot(c2[1]))\n",
      "Progress:  11%|█         | 55/500 [11:31<1:33:03, 12.55s/it]"
     ]
    },
    {
     "name": "stdout",
     "output_type": "stream",
     "text": [
      "Time to: Calculate Ground State - 1.01s, Get Pauli Ops - 4.35s, Calculate Pauli Expectation Values - 6.61s, Calculate Covariance - 0.17s\n",
      "f0,f1,f2 = [9.268262133516506e-09, 9.268262133515269e-09, 9.268262133498062e-09]\n"
     ]
    },
    {
     "name": "stderr",
     "output_type": "stream",
     "text": [
      "Progress:  11%|█         | 56/500 [11:43<1:32:22, 12.48s/it]"
     ]
    },
    {
     "name": "stdout",
     "output_type": "stream",
     "text": [
      "Time to: Calculate Ground State - 1.32s, Get Pauli Ops - 4.43s, Calculate Pauli Expectation Values - 6.44s, Calculate Covariance - 0.14s\n",
      "f0,f1,f2 = [8.491946489380818e-09, 8.491946489373678e-09, 8.491946489374533e-09]\n"
     ]
    },
    {
     "name": "stderr",
     "output_type": "stream",
     "text": [
      "Progress:  11%|█▏        | 57/500 [11:56<1:32:43, 12.56s/it]"
     ]
    },
    {
     "name": "stdout",
     "output_type": "stream",
     "text": [
      "Time to: Calculate Ground State - 1.42s, Get Pauli Ops - 4.49s, Calculate Pauli Expectation Values - 6.68s, Calculate Covariance - 0.14s\n",
      "f0,f1,f2 = [5.4827310358918065e-09, 5.482731035889851e-09, 5.482731035893157e-09]\n"
     ]
    },
    {
     "name": "stderr",
     "output_type": "stream",
     "text": [
      "/cluster/home/mskrabulis/miniconda3/envs/quantech/lib/python3.9/site-packages/pyscf/symm/Dmatrix.py:156: RuntimeWarning: invalid value encountered in arccos\n",
      "  gamma = numpy.arccos(yp.dot(c2[1]))\n",
      "Progress:  12%|█▏        | 58/500 [12:09<1:32:35, 12.57s/it]"
     ]
    },
    {
     "name": "stdout",
     "output_type": "stream",
     "text": [
      "Time to: Calculate Ground State - 1.3s, Get Pauli Ops - 4.45s, Calculate Pauli Expectation Values - 6.61s, Calculate Covariance - 0.23s\n",
      "f0,f1,f2 = [4.727517083904384e-09, 4.727517083909402e-09, 4.727517083902867e-09]\n"
     ]
    },
    {
     "name": "stderr",
     "output_type": "stream",
     "text": [
      "Progress:  12%|█▏        | 59/500 [12:21<1:32:30, 12.59s/it]"
     ]
    },
    {
     "name": "stdout",
     "output_type": "stream",
     "text": [
      "Time to: Calculate Ground State - 1.46s, Get Pauli Ops - 4.48s, Calculate Pauli Expectation Values - 6.52s, Calculate Covariance - 0.16s\n",
      "f0,f1,f2 = [2.3354150112925645e-09, 2.3354150112689576e-09, 2.3354150112816366e-09]\n"
     ]
    },
    {
     "name": "stderr",
     "output_type": "stream",
     "text": [
      "Progress:  12%|█▏        | 60/500 [12:34<1:31:34, 12.49s/it]"
     ]
    },
    {
     "name": "stdout",
     "output_type": "stream",
     "text": [
      "Time to: Calculate Ground State - 0.84s, Get Pauli Ops - 4.48s, Calculate Pauli Expectation Values - 6.71s, Calculate Covariance - 0.23s\n",
      "f0,f1,f2 = [1.1149421166908495e-09, 1.1149421166825123e-09, 1.114942116686483e-09]\n"
     ]
    },
    {
     "name": "stderr",
     "output_type": "stream",
     "text": [
      "/cluster/home/mskrabulis/miniconda3/envs/quantech/lib/python3.9/site-packages/pyscf/symm/Dmatrix.py:156: RuntimeWarning: invalid value encountered in arccos\n",
      "  gamma = numpy.arccos(yp.dot(c2[1]))\n",
      "Progress:  12%|█▏        | 61/500 [12:46<1:31:32, 12.51s/it]"
     ]
    },
    {
     "name": "stdout",
     "output_type": "stream",
     "text": [
      "Time to: Calculate Ground State - 1.42s, Get Pauli Ops - 4.46s, Calculate Pauli Expectation Values - 6.53s, Calculate Covariance - 0.15s\n",
      "f0,f1,f2 = [1.5627997493900835e-09, 1.5627997493985933e-09, 1.5627997493920592e-09]\n"
     ]
    },
    {
     "name": "stderr",
     "output_type": "stream",
     "text": [
      "Progress:  12%|█▏        | 62/500 [12:58<1:30:39, 12.42s/it]"
     ]
    },
    {
     "name": "stdout",
     "output_type": "stream",
     "text": [
      "Time to: Calculate Ground State - 0.91s, Get Pauli Ops - 4.42s, Calculate Pauli Expectation Values - 6.64s, Calculate Covariance - 0.23s\n",
      "f0,f1,f2 = [4.336444886276236e-10, 4.336444886364187e-10, 4.336444886377541e-10]\n"
     ]
    },
    {
     "name": "stderr",
     "output_type": "stream",
     "text": [
      "Progress:  13%|█▎        | 63/500 [13:11<1:30:37, 12.44s/it]"
     ]
    },
    {
     "name": "stdout",
     "output_type": "stream",
     "text": [
      "Time to: Calculate Ground State - 1.38s, Get Pauli Ops - 4.35s, Calculate Pauli Expectation Values - 6.55s, Calculate Covariance - 0.22s\n",
      "f0,f1,f2 = [2.0352468313036293e-09, 2.0352468313026975e-09, 2.035246831303119e-09]\n"
     ]
    },
    {
     "name": "stderr",
     "output_type": "stream",
     "text": [
      "Progress:  13%|█▎        | 64/500 [13:23<1:30:04, 12.40s/it]"
     ]
    },
    {
     "name": "stdout",
     "output_type": "stream",
     "text": [
      "Time to: Calculate Ground State - 1.36s, Get Pauli Ops - 4.26s, Calculate Pauli Expectation Values - 6.53s, Calculate Covariance - 0.13s\n",
      "f0,f1,f2 = [2.977442794879455e-09, 2.9774427948883804e-09, 2.977442794887576e-09]\n"
     ]
    },
    {
     "name": "stderr",
     "output_type": "stream",
     "text": [
      "Progress:  13%|█▎        | 65/500 [13:35<1:28:57, 12.27s/it]"
     ]
    },
    {
     "name": "stdout",
     "output_type": "stream",
     "text": [
      "Time to: Calculate Ground State - 1.03s, Get Pauli Ops - 4.32s, Calculate Pauli Expectation Values - 6.48s, Calculate Covariance - 0.15s\n",
      "f0,f1,f2 = [3.4868551432040154e-09, 3.4868551432224727e-09, 3.486855143203843e-09]\n"
     ]
    },
    {
     "name": "stderr",
     "output_type": "stream",
     "text": [
      "Progress:  13%|█▎        | 66/500 [13:47<1:28:05, 12.18s/it]"
     ]
    },
    {
     "name": "stdout",
     "output_type": "stream",
     "text": [
      "Time to: Calculate Ground State - 0.8s, Get Pauli Ops - 4.5s, Calculate Pauli Expectation Values - 6.53s, Calculate Covariance - 0.13s\n",
      "f0,f1,f2 = [5.1923610342576424e-09, 5.192361034265678e-09, 5.192361034257168e-09]\n"
     ]
    },
    {
     "name": "stderr",
     "output_type": "stream",
     "text": [
      "/cluster/home/mskrabulis/miniconda3/envs/quantech/lib/python3.9/site-packages/pyscf/symm/Dmatrix.py:156: RuntimeWarning: invalid value encountered in arccos\n",
      "  gamma = numpy.arccos(yp.dot(c2[1]))\n",
      "Progress:  13%|█▎        | 67/500 [14:00<1:28:22, 12.25s/it]"
     ]
    },
    {
     "name": "stdout",
     "output_type": "stream",
     "text": [
      "Time to: Calculate Ground State - 1.27s, Get Pauli Ops - 4.44s, Calculate Pauli Expectation Values - 6.55s, Calculate Covariance - 0.14s\n",
      "f0,f1,f2 = [4.932847232998897e-09, 4.932847232989203e-09, 4.932847232991153e-09]\n"
     ]
    },
    {
     "name": "stderr",
     "output_type": "stream",
     "text": [
      "Progress:  14%|█▎        | 68/500 [14:12<1:28:22, 12.27s/it]"
     ]
    },
    {
     "name": "stdout",
     "output_type": "stream",
     "text": [
      "Time to: Calculate Ground State - 1.28s, Get Pauli Ops - 4.47s, Calculate Pauli Expectation Values - 6.45s, Calculate Covariance - 0.13s\n",
      "f0,f1,f2 = [5.979081679842059e-09, 5.979081679837702e-09, 5.97908167983584e-09]\n"
     ]
    },
    {
     "name": "stderr",
     "output_type": "stream",
     "text": [
      "Progress:  14%|█▍        | 69/500 [14:24<1:28:22, 12.30s/it]"
     ]
    },
    {
     "name": "stdout",
     "output_type": "stream",
     "text": [
      "Time to: Calculate Ground State - 1.26s, Get Pauli Ops - 4.45s, Calculate Pauli Expectation Values - 6.49s, Calculate Covariance - 0.17s\n",
      "f0,f1,f2 = [5.798051191761415e-09, 5.798051191754726e-09, 5.798051191762702e-09]\n"
     ]
    },
    {
     "name": "stderr",
     "output_type": "stream",
     "text": [
      "Progress:  14%|█▍        | 70/500 [14:36<1:26:18, 12.04s/it]"
     ]
    },
    {
     "name": "stdout",
     "output_type": "stream",
     "text": [
      "Time to: Calculate Ground State - 0.84s, Get Pauli Ops - 4.11s, Calculate Pauli Expectation Values - 6.35s, Calculate Covariance - 0.13s\n",
      "f0,f1,f2 = [6.385891133241386e-09, 6.385891133254186e-09, 6.385891133244339e-09]\n"
     ]
    },
    {
     "name": "stderr",
     "output_type": "stream",
     "text": [
      "Progress:  14%|█▍        | 71/500 [14:48<1:26:56, 12.16s/it]"
     ]
    },
    {
     "name": "stdout",
     "output_type": "stream",
     "text": [
      "Time to: Calculate Ground State - 1.34s, Get Pauli Ops - 4.48s, Calculate Pauli Expectation Values - 6.47s, Calculate Covariance - 0.14s\n",
      "f0,f1,f2 = [6.324687031868911e-09, 6.324687031868686e-09, 6.324687031869506e-09]\n"
     ]
    },
    {
     "name": "stderr",
     "output_type": "stream",
     "text": [
      "/cluster/home/mskrabulis/miniconda3/envs/quantech/lib/python3.9/site-packages/pyscf/symm/Dmatrix.py:156: RuntimeWarning: invalid value encountered in arccos\n",
      "  gamma = numpy.arccos(yp.dot(c2[1]))\n",
      "/cluster/home/mskrabulis/miniconda3/envs/quantech/lib/python3.9/site-packages/pyscf/symm/Dmatrix.py:156: RuntimeWarning: invalid value encountered in arccos\n",
      "  gamma = numpy.arccos(yp.dot(c2[1]))\n",
      "Progress:  14%|█▍        | 72/500 [15:00<1:26:32, 12.13s/it]"
     ]
    },
    {
     "name": "stdout",
     "output_type": "stream",
     "text": [
      "Time to: Calculate Ground State - 1.31s, Get Pauli Ops - 4.11s, Calculate Pauli Expectation Values - 6.51s, Calculate Covariance - 0.14s\n",
      "f0,f1,f2 = [4.9296631801103176e-09, 4.929663180108538e-09, 4.929663180119352e-09]\n"
     ]
    },
    {
     "name": "stderr",
     "output_type": "stream",
     "text": [
      "/cluster/home/mskrabulis/miniconda3/envs/quantech/lib/python3.9/site-packages/pyscf/symm/Dmatrix.py:156: RuntimeWarning: invalid value encountered in arccos\n",
      "  gamma = numpy.arccos(yp.dot(c2[1]))\n",
      "Progress:  15%|█▍        | 73/500 [15:13<1:27:01, 12.23s/it]"
     ]
    },
    {
     "name": "stdout",
     "output_type": "stream",
     "text": [
      "Time to: Calculate Ground State - 1.39s, Get Pauli Ops - 4.41s, Calculate Pauli Expectation Values - 6.48s, Calculate Covariance - 0.17s\n",
      "f0,f1,f2 = [6.4489456626389116e-09, 6.4489456626420184e-09, 6.448945662646483e-09]\n"
     ]
    },
    {
     "name": "stderr",
     "output_type": "stream",
     "text": [
      "Progress:  15%|█▍        | 74/500 [15:25<1:26:16, 12.15s/it]"
     ]
    },
    {
     "name": "stdout",
     "output_type": "stream",
     "text": [
      "Time to: Calculate Ground State - 1.01s, Get Pauli Ops - 4.39s, Calculate Pauli Expectation Values - 6.44s, Calculate Covariance - 0.12s\n",
      "f0,f1,f2 = [6.674092618059046e-09, 6.674092618064251e-09, 6.674092618067948e-09]\n"
     ]
    },
    {
     "name": "stderr",
     "output_type": "stream",
     "text": [
      "Progress:  15%|█▌        | 75/500 [15:36<1:25:17, 12.04s/it]"
     ]
    },
    {
     "name": "stdout",
     "output_type": "stream",
     "text": [
      "Time to: Calculate Ground State - 0.8s, Get Pauli Ops - 4.29s, Calculate Pauli Expectation Values - 6.57s, Calculate Covariance - 0.13s\n",
      "f0,f1,f2 = [6.130102137915879e-09, 6.130102137908636e-09, 6.130102137908242e-09]\n"
     ]
    },
    {
     "name": "stderr",
     "output_type": "stream",
     "text": [
      "/cluster/home/mskrabulis/miniconda3/envs/quantech/lib/python3.9/site-packages/pyscf/symm/Dmatrix.py:156: RuntimeWarning: invalid value encountered in arccos\n",
      "  gamma = numpy.arccos(yp.dot(c2[1]))\n",
      "Progress:  15%|█▌        | 76/500 [15:49<1:25:26, 12.09s/it]"
     ]
    },
    {
     "name": "stdout",
     "output_type": "stream",
     "text": [
      "Time to: Calculate Ground State - 1.14s, Get Pauli Ops - 4.4s, Calculate Pauli Expectation Values - 6.54s, Calculate Covariance - 0.13s\n",
      "f0,f1,f2 = [7.38221454306849e-09, 7.382214543054488e-09, 7.382214543060501e-09]\n"
     ]
    },
    {
     "name": "stderr",
     "output_type": "stream",
     "text": [
      "Progress:  15%|█▌        | 77/500 [16:01<1:25:07, 12.08s/it]"
     ]
    },
    {
     "name": "stdout",
     "output_type": "stream",
     "text": [
      "Time to: Calculate Ground State - 1.34s, Get Pauli Ops - 4.01s, Calculate Pauli Expectation Values - 6.53s, Calculate Covariance - 0.16s\n",
      "f0,f1,f2 = [5.3844287003141655e-09, 5.38442870030913e-09, 5.384428700303038e-09]\n"
     ]
    },
    {
     "name": "stderr",
     "output_type": "stream",
     "text": [
      "Progress:  16%|█▌        | 78/500 [16:13<1:24:29, 12.01s/it]"
     ]
    },
    {
     "name": "stdout",
     "output_type": "stream",
     "text": [
      "Time to: Calculate Ground State - 1.02s, Get Pauli Ops - 4.22s, Calculate Pauli Expectation Values - 6.49s, Calculate Covariance - 0.13s\n",
      "f0,f1,f2 = [6.164333875331866e-09, 6.164333875325997e-09, 6.164333875311805e-09]\n"
     ]
    },
    {
     "name": "stderr",
     "output_type": "stream",
     "text": [
      "Progress:  16%|█▌        | 79/500 [16:25<1:25:07, 12.13s/it]"
     ]
    },
    {
     "name": "stdout",
     "output_type": "stream",
     "text": [
      "Time to: Calculate Ground State - 1.29s, Get Pauli Ops - 4.45s, Calculate Pauli Expectation Values - 6.53s, Calculate Covariance - 0.13s\n",
      "f0,f1,f2 = [6.826606920582499e-09, 6.826606920571993e-09, 6.826606920567876e-09]\n"
     ]
    },
    {
     "name": "stderr",
     "output_type": "stream",
     "text": [
      "Progress:  16%|█▌        | 80/500 [16:37<1:25:28, 12.21s/it]"
     ]
    },
    {
     "name": "stdout",
     "output_type": "stream",
     "text": [
      "Time to: Calculate Ground State - 1.31s, Get Pauli Ops - 4.45s, Calculate Pauli Expectation Values - 6.5s, Calculate Covariance - 0.13s\n",
      "f0,f1,f2 = [5.2315362538394866e-09, 5.231536253836553e-09, 5.231536253836988e-09]\n"
     ]
    },
    {
     "name": "stderr",
     "output_type": "stream",
     "text": [
      "Progress:  16%|█▌        | 81/500 [16:50<1:25:16, 12.21s/it]"
     ]
    },
    {
     "name": "stdout",
     "output_type": "stream",
     "text": [
      "Time to: Calculate Ground State - 1.27s, Get Pauli Ops - 4.24s, Calculate Pauli Expectation Values - 6.56s, Calculate Covariance - 0.15s\n",
      "f0,f1,f2 = [6.280540743365079e-09, 6.280540743370232e-09, 6.280540743371191e-09]\n"
     ]
    },
    {
     "name": "stderr",
     "output_type": "stream",
     "text": [
      "Progress:  16%|█▋        | 82/500 [17:02<1:25:31, 12.28s/it]"
     ]
    },
    {
     "name": "stdout",
     "output_type": "stream",
     "text": [
      "Time to: Calculate Ground State - 1.25s, Get Pauli Ops - 4.45s, Calculate Pauli Expectation Values - 6.52s, Calculate Covariance - 0.21s\n",
      "f0,f1,f2 = [7.162376534429191e-09, 7.162376534422265e-09, 7.162376534426688e-09]\n"
     ]
    },
    {
     "name": "stderr",
     "output_type": "stream",
     "text": [
      "Progress:  17%|█▋        | 83/500 [17:15<1:25:47, 12.34s/it]"
     ]
    },
    {
     "name": "stdout",
     "output_type": "stream",
     "text": [
      "Time to: Calculate Ground State - 1.36s, Get Pauli Ops - 4.48s, Calculate Pauli Expectation Values - 6.5s, Calculate Covariance - 0.16s\n",
      "f0,f1,f2 = [6.667859364807302e-09, 6.667859364801763e-09, 6.66785936481033e-09]\n"
     ]
    },
    {
     "name": "stderr",
     "output_type": "stream",
     "text": [
      "Progress:  17%|█▋        | 84/500 [17:27<1:25:16, 12.30s/it]"
     ]
    },
    {
     "name": "stdout",
     "output_type": "stream",
     "text": [
      "Time to: Calculate Ground State - 0.86s, Get Pauli Ops - 4.39s, Calculate Pauli Expectation Values - 6.71s, Calculate Covariance - 0.23s\n",
      "f0,f1,f2 = [7.194394465953205e-09, 7.194394465961649e-09, 7.194394465954298e-09]\n"
     ]
    },
    {
     "name": "stderr",
     "output_type": "stream",
     "text": [
      "/cluster/home/mskrabulis/miniconda3/envs/quantech/lib/python3.9/site-packages/pyscf/symm/Dmatrix.py:156: RuntimeWarning: invalid value encountered in arccos\n",
      "  gamma = numpy.arccos(yp.dot(c2[1]))\n",
      "Progress:  17%|█▋        | 85/500 [17:39<1:25:35, 12.37s/it]"
     ]
    },
    {
     "name": "stdout",
     "output_type": "stream",
     "text": [
      "Time to: Calculate Ground State - 1.38s, Get Pauli Ops - 4.47s, Calculate Pauli Expectation Values - 6.52s, Calculate Covariance - 0.18s\n",
      "f0,f1,f2 = [5.808290795019645e-09, 5.8082907950226126e-09, 5.808290795012074e-09]\n"
     ]
    },
    {
     "name": "stderr",
     "output_type": "stream",
     "text": [
      "Progress:  17%|█▋        | 86/500 [17:52<1:25:56, 12.46s/it]"
     ]
    },
    {
     "name": "stdout",
     "output_type": "stream",
     "text": [
      "Time to: Calculate Ground State - 1.44s, Get Pauli Ops - 4.43s, Calculate Pauli Expectation Values - 6.61s, Calculate Covariance - 0.17s\n",
      "f0,f1,f2 = [7.1058092763509366e-09, 7.105809276355646e-09, 7.105809276356351e-09]\n"
     ]
    },
    {
     "name": "stderr",
     "output_type": "stream",
     "text": [
      "/cluster/home/mskrabulis/miniconda3/envs/quantech/lib/python3.9/site-packages/pyscf/symm/Dmatrix.py:156: RuntimeWarning: invalid value encountered in arccos\n",
      "  gamma = numpy.arccos(yp.dot(c2[1]))\n",
      "Progress:  17%|█▋        | 87/500 [18:05<1:26:02, 12.50s/it]"
     ]
    },
    {
     "name": "stdout",
     "output_type": "stream",
     "text": [
      "Time to: Calculate Ground State - 1.39s, Get Pauli Ops - 4.46s, Calculate Pauli Expectation Values - 6.58s, Calculate Covariance - 0.17s\n",
      "f0,f1,f2 = [5.288508383705207e-09, 5.288508383715913e-09, 5.288508383714417e-09]\n"
     ]
    },
    {
     "name": "stderr",
     "output_type": "stream",
     "text": [
      "/cluster/home/mskrabulis/miniconda3/envs/quantech/lib/python3.9/site-packages/pyscf/symm/Dmatrix.py:156: RuntimeWarning: invalid value encountered in arccos\n",
      "  gamma = numpy.arccos(yp.dot(c2[1]))\n",
      "Progress:  18%|█▊        | 88/500 [18:17<1:25:52, 12.51s/it]"
     ]
    },
    {
     "name": "stdout",
     "output_type": "stream",
     "text": [
      "Time to: Calculate Ground State - 1.35s, Get Pauli Ops - 4.51s, Calculate Pauli Expectation Values - 6.52s, Calculate Covariance - 0.14s\n",
      "f0,f1,f2 = [5.438696650460028e-09, 5.4386966504602375e-09, 5.438696650456157e-09]\n"
     ]
    },
    {
     "name": "stderr",
     "output_type": "stream",
     "text": [
      "/cluster/home/mskrabulis/miniconda3/envs/quantech/lib/python3.9/site-packages/pyscf/symm/Dmatrix.py:156: RuntimeWarning: invalid value encountered in arccos\n",
      "  gamma = numpy.arccos(yp.dot(c2[1]))\n",
      "Progress:  18%|█▊        | 89/500 [18:29<1:25:35, 12.49s/it]"
     ]
    },
    {
     "name": "stdout",
     "output_type": "stream",
     "text": [
      "Time to: Calculate Ground State - 1.29s, Get Pauli Ops - 4.4s, Calculate Pauli Expectation Values - 6.58s, Calculate Covariance - 0.19s\n",
      "f0,f1,f2 = [3.4925553457717273e-09, 3.492555345769521e-09, 3.492555345767372e-09]\n"
     ]
    },
    {
     "name": "stderr",
     "output_type": "stream",
     "text": [
      "/cluster/home/mskrabulis/miniconda3/envs/quantech/lib/python3.9/site-packages/pyscf/symm/Dmatrix.py:156: RuntimeWarning: invalid value encountered in arccos\n",
      "  gamma = numpy.arccos(yp.dot(c2[1]))\n",
      "Progress:  18%|█▊        | 90/500 [18:42<1:25:28, 12.51s/it]"
     ]
    },
    {
     "name": "stdout",
     "output_type": "stream",
     "text": [
      "Time to: Calculate Ground State - 1.38s, Get Pauli Ops - 4.43s, Calculate Pauli Expectation Values - 6.58s, Calculate Covariance - 0.15s\n",
      "f0,f1,f2 = [2.3403582498337522e-09, 2.3403582498410496e-09, 2.3403582498364993e-09]\n"
     ]
    },
    {
     "name": "stderr",
     "output_type": "stream",
     "text": [
      "Progress:  18%|█▊        | 91/500 [18:55<1:25:56, 12.61s/it]"
     ]
    },
    {
     "name": "stdout",
     "output_type": "stream",
     "text": [
      "Time to: Calculate Ground State - 1.4s, Get Pauli Ops - 4.48s, Calculate Pauli Expectation Values - 6.72s, Calculate Covariance - 0.24s\n",
      "f0,f1,f2 = [1.570960717951732e-09, 1.570960717958232e-09, 1.5709607179592756e-09]\n"
     ]
    },
    {
     "name": "stderr",
     "output_type": "stream",
     "text": [
      "Progress:  18%|█▊        | 92/500 [19:08<1:25:54, 12.63s/it]"
     ]
    },
    {
     "name": "stdout",
     "output_type": "stream",
     "text": [
      "Time to: Calculate Ground State - 1.39s, Get Pauli Ops - 4.52s, Calculate Pauli Expectation Values - 6.64s, Calculate Covariance - 0.13s\n",
      "f0,f1,f2 = [1.0494758382228978e-09, 1.0494758382126633e-09, 1.0494758382121013e-09]\n"
     ]
    },
    {
     "name": "stderr",
     "output_type": "stream",
     "text": [
      "/cluster/home/mskrabulis/miniconda3/envs/quantech/lib/python3.9/site-packages/pyscf/symm/Dmatrix.py:156: RuntimeWarning: invalid value encountered in arccos\n",
      "  gamma = numpy.arccos(yp.dot(c2[1]))\n",
      "Progress:  19%|█▊        | 93/500 [19:20<1:25:47, 12.65s/it]"
     ]
    },
    {
     "name": "stdout",
     "output_type": "stream",
     "text": [
      "Time to: Calculate Ground State - 1.41s, Get Pauli Ops - 4.29s, Calculate Pauli Expectation Values - 6.75s, Calculate Covariance - 0.23s\n",
      "f0,f1,f2 = [5.090296274230415e-10, 5.090296273998643e-10, 5.090296274136314e-10]\n"
     ]
    },
    {
     "name": "stderr",
     "output_type": "stream",
     "text": [
      "Progress:  19%|█▉        | 94/500 [19:33<1:25:42, 12.67s/it]"
     ]
    },
    {
     "name": "stdout",
     "output_type": "stream",
     "text": [
      "Time to: Calculate Ground State - 1.31s, Get Pauli Ops - 4.47s, Calculate Pauli Expectation Values - 6.7s, Calculate Covariance - 0.23s\n",
      "f0,f1,f2 = [1.185470085140298e-09, 1.1854700851290126e-09, 1.1854700851582892e-09]\n"
     ]
    },
    {
     "name": "stderr",
     "output_type": "stream",
     "text": [
      "/cluster/home/mskrabulis/miniconda3/envs/quantech/lib/python3.9/site-packages/pyscf/symm/Dmatrix.py:156: RuntimeWarning: invalid value encountered in arccos\n",
      "  gamma = numpy.arccos(yp.dot(c2[1]))\n",
      "Progress:  19%|█▉        | 95/500 [19:46<1:25:21, 12.65s/it]"
     ]
    },
    {
     "name": "stdout",
     "output_type": "stream",
     "text": [
      "Time to: Calculate Ground State - 1.42s, Get Pauli Ops - 4.45s, Calculate Pauli Expectation Values - 6.6s, Calculate Covariance - 0.13s\n",
      "f0,f1,f2 = [2.3486384021114705e-09, 2.3486384021368927e-09, 2.3486384021322782e-09]\n"
     ]
    },
    {
     "name": "stderr",
     "output_type": "stream",
     "text": [
      "Progress:  19%|█▉        | 96/500 [19:58<1:24:42, 12.58s/it]"
     ]
    },
    {
     "name": "stdout",
     "output_type": "stream",
     "text": [
      "Time to: Calculate Ground State - 1.29s, Get Pauli Ops - 4.43s, Calculate Pauli Expectation Values - 6.58s, Calculate Covariance - 0.13s\n",
      "f0,f1,f2 = [5.978906046546305e-09, 5.978906046549643e-09, 5.978906046542592e-09]\n"
     ]
    },
    {
     "name": "stderr",
     "output_type": "stream",
     "text": [
      "Progress:  19%|█▉        | 97/500 [20:10<1:24:02, 12.51s/it]"
     ]
    },
    {
     "name": "stdout",
     "output_type": "stream",
     "text": [
      "Time to: Calculate Ground State - 1.26s, Get Pauli Ops - 4.4s, Calculate Pauli Expectation Values - 6.51s, Calculate Covariance - 0.19s\n",
      "f0,f1,f2 = [7.220910626238658e-09, 7.220910626240945e-09, 7.220910626248588e-09]\n"
     ]
    },
    {
     "name": "stderr",
     "output_type": "stream",
     "text": [
      "Progress:  20%|█▉        | 98/500 [20:23<1:24:05, 12.55s/it]"
     ]
    },
    {
     "name": "stdout",
     "output_type": "stream",
     "text": [
      "Time to: Calculate Ground State - 1.42s, Get Pauli Ops - 4.5s, Calculate Pauli Expectation Values - 6.57s, Calculate Covariance - 0.15s\n",
      "f0,f1,f2 = [9.028963287425016e-09, 9.028963287447303e-09, 9.028963287445547e-09]\n"
     ]
    },
    {
     "name": "stderr",
     "output_type": "stream",
     "text": [
      "Progress:  20%|█▉        | 99/500 [20:36<1:23:52, 12.55s/it]"
     ]
    },
    {
     "name": "stdout",
     "output_type": "stream",
     "text": [
      "Time to: Calculate Ground State - 1.33s, Get Pauli Ops - 4.42s, Calculate Pauli Expectation Values - 6.59s, Calculate Covariance - 0.2s\n",
      "f0,f1,f2 = [1.2248795405267505e-08, 1.2248795405278041e-08, 1.2248795405289577e-08]\n"
     ]
    },
    {
     "name": "stderr",
     "output_type": "stream",
     "text": [
      "/cluster/home/mskrabulis/miniconda3/envs/quantech/lib/python3.9/site-packages/pyscf/symm/Dmatrix.py:156: RuntimeWarning: invalid value encountered in arccos\n",
      "  gamma = numpy.arccos(yp.dot(c2[1]))\n",
      "Progress:  20%|██        | 100/500 [20:48<1:22:35, 12.39s/it]"
     ]
    },
    {
     "name": "stdout",
     "output_type": "stream",
     "text": [
      "Time to: Calculate Ground State - 0.88s, Get Pauli Ops - 4.44s, Calculate Pauli Expectation Values - 6.49s, Calculate Covariance - 0.2s\n",
      "f0,f1,f2 = [1.4032209578480154e-08, 1.4032209578517913e-08, 1.4032209578492747e-08]\n"
     ]
    },
    {
     "name": "stderr",
     "output_type": "stream",
     "text": [
      "Progress:  20%|██        | 101/500 [21:00<1:22:54, 12.47s/it]"
     ]
    },
    {
     "name": "stdout",
     "output_type": "stream",
     "text": [
      "Time to: Calculate Ground State - 1.43s, Get Pauli Ops - 4.48s, Calculate Pauli Expectation Values - 6.54s, Calculate Covariance - 0.2s\n",
      "f0,f1,f2 = [1.5823031509328024e-08, 1.5823031509360644e-08, 1.58230315093493e-08]\n"
     ]
    },
    {
     "name": "stderr",
     "output_type": "stream",
     "text": [
      "Progress:  20%|██        | 102/500 [21:13<1:22:51, 12.49s/it]"
     ]
    },
    {
     "name": "stdout",
     "output_type": "stream",
     "text": [
      "Time to: Calculate Ground State - 1.3s, Get Pauli Ops - 4.5s, Calculate Pauli Expectation Values - 6.56s, Calculate Covariance - 0.19s\n",
      "f0,f1,f2 = [1.5653136663117936e-08, 1.565313666315665e-08, 1.5653136663149527e-08]\n"
     ]
    },
    {
     "name": "stderr",
     "output_type": "stream",
     "text": [
      "Progress:  21%|██        | 103/500 [21:25<1:22:55, 12.53s/it]"
     ]
    },
    {
     "name": "stdout",
     "output_type": "stream",
     "text": [
      "Time to: Calculate Ground State - 1.39s, Get Pauli Ops - 4.41s, Calculate Pauli Expectation Values - 6.6s, Calculate Covariance - 0.24s\n",
      "f0,f1,f2 = [1.4436360625000206e-08, 1.443636062501806e-08, 1.4436360625017949e-08]\n"
     ]
    },
    {
     "name": "stderr",
     "output_type": "stream",
     "text": [
      "/cluster/home/mskrabulis/miniconda3/envs/quantech/lib/python3.9/site-packages/pyscf/symm/Dmatrix.py:156: RuntimeWarning: invalid value encountered in arccos\n",
      "  gamma = numpy.arccos(yp.dot(c2[1]))\n",
      "Progress:  21%|██        | 104/500 [21:38<1:23:09, 12.60s/it]"
     ]
    },
    {
     "name": "stdout",
     "output_type": "stream",
     "text": [
      "Time to: Calculate Ground State - 1.42s, Get Pauli Ops - 4.48s, Calculate Pauli Expectation Values - 6.63s, Calculate Covariance - 0.23s\n",
      "f0,f1,f2 = [1.3685550542868207e-08, 1.368555054290626e-08, 1.3685550542897673e-08]\n"
     ]
    },
    {
     "name": "stderr",
     "output_type": "stream",
     "text": [
      "Progress:  21%|██        | 105/500 [21:51<1:22:57, 12.60s/it]"
     ]
    },
    {
     "name": "stdout",
     "output_type": "stream",
     "text": [
      "Time to: Calculate Ground State - 1.37s, Get Pauli Ops - 4.4s, Calculate Pauli Expectation Values - 6.71s, Calculate Covariance - 0.13s\n",
      "f0,f1,f2 = [1.3074855677861014e-08, 1.3074855677896531e-08, 1.3074855677886433e-08]\n"
     ]
    },
    {
     "name": "stderr",
     "output_type": "stream",
     "text": [
      "/cluster/home/mskrabulis/miniconda3/envs/quantech/lib/python3.9/site-packages/pyscf/symm/Dmatrix.py:156: RuntimeWarning: invalid value encountered in arccos\n",
      "  gamma = numpy.arccos(yp.dot(c2[1]))\n",
      "Progress:  21%|██        | 106/500 [22:03<1:22:27, 12.56s/it]"
     ]
    },
    {
     "name": "stdout",
     "output_type": "stream",
     "text": [
      "Time to: Calculate Ground State - 1.31s, Get Pauli Ops - 4.23s, Calculate Pauli Expectation Values - 6.66s, Calculate Covariance - 0.24s\n",
      "f0,f1,f2 = [1.1797278768513209e-08, 1.1797278768542028e-08, 1.1797278768527342e-08]\n"
     ]
    },
    {
     "name": "stderr",
     "output_type": "stream",
     "text": [
      "/cluster/home/mskrabulis/miniconda3/envs/quantech/lib/python3.9/site-packages/pyscf/symm/Dmatrix.py:156: RuntimeWarning: invalid value encountered in arccos\n",
      "  gamma = numpy.arccos(yp.dot(c2[1]))\n",
      "Progress:  21%|██▏       | 107/500 [22:16<1:22:16, 12.56s/it]"
     ]
    },
    {
     "name": "stdout",
     "output_type": "stream",
     "text": [
      "Time to: Calculate Ground State - 1.39s, Get Pauli Ops - 4.34s, Calculate Pauli Expectation Values - 6.63s, Calculate Covariance - 0.22s\n",
      "f0,f1,f2 = [9.967190953913045e-09, 9.967190953927518e-09, 9.967190953914787e-09]\n"
     ]
    },
    {
     "name": "stderr",
     "output_type": "stream",
     "text": [
      "Progress:  22%|██▏       | 108/500 [22:28<1:22:14, 12.59s/it]"
     ]
    },
    {
     "name": "stdout",
     "output_type": "stream",
     "text": [
      "Time to: Calculate Ground State - 1.45s, Get Pauli Ops - 4.48s, Calculate Pauli Expectation Values - 6.58s, Calculate Covariance - 0.15s\n",
      "f0,f1,f2 = [7.524976127766475e-09, 7.52497612779629e-09, 7.524976127773499e-09]\n"
     ]
    },
    {
     "name": "stderr",
     "output_type": "stream",
     "text": [
      "/cluster/home/mskrabulis/miniconda3/envs/quantech/lib/python3.9/site-packages/pyscf/symm/Dmatrix.py:156: RuntimeWarning: invalid value encountered in arccos\n",
      "  gamma = numpy.arccos(yp.dot(c2[1]))\n",
      "Progress:  22%|██▏       | 109/500 [22:40<1:20:41, 12.38s/it]"
     ]
    },
    {
     "name": "stdout",
     "output_type": "stream",
     "text": [
      "Time to: Calculate Ground State - 0.8s, Get Pauli Ops - 4.21s, Calculate Pauli Expectation Values - 6.66s, Calculate Covariance - 0.23s\n",
      "f0,f1,f2 = [4.715066763294688e-09, 4.715066763302122e-09, 4.715066763307103e-09]\n"
     ]
    },
    {
     "name": "stderr",
     "output_type": "stream",
     "text": [
      "Progress:  22%|██▏       | 110/500 [22:53<1:21:11, 12.49s/it]"
     ]
    },
    {
     "name": "stdout",
     "output_type": "stream",
     "text": [
      "Time to: Calculate Ground State - 1.41s, Get Pauli Ops - 4.49s, Calculate Pauli Expectation Values - 6.62s, Calculate Covariance - 0.23s\n",
      "f0,f1,f2 = [3.11314814877993e-09, 3.113148148793679e-09, 3.1131481487867853e-09]\n"
     ]
    },
    {
     "name": "stderr",
     "output_type": "stream",
     "text": [
      "Progress:  22%|██▏       | 111/500 [23:06<1:21:15, 12.53s/it]"
     ]
    },
    {
     "name": "stdout",
     "output_type": "stream",
     "text": [
      "Time to: Calculate Ground State - 1.41s, Get Pauli Ops - 4.37s, Calculate Pauli Expectation Values - 6.67s, Calculate Covariance - 0.18s\n",
      "f0,f1,f2 = [9.991544672829634e-10, 9.991544672955132e-10, 9.991544672842524e-10]\n"
     ]
    },
    {
     "name": "stderr",
     "output_type": "stream",
     "text": [
      "Progress:  22%|██▏       | 112/500 [23:18<1:20:28, 12.44s/it]"
     ]
    },
    {
     "name": "stdout",
     "output_type": "stream",
     "text": [
      "Time to: Calculate Ground State - 1.03s, Get Pauli Ops - 4.52s, Calculate Pauli Expectation Values - 6.54s, Calculate Covariance - 0.14s\n",
      "f0,f1,f2 = [4.725855837858557e-10, 4.725855837855925e-10, 4.725855837892481e-10]\n"
     ]
    },
    {
     "name": "stderr",
     "output_type": "stream",
     "text": [
      "Progress:  23%|██▎       | 113/500 [23:31<1:20:34, 12.49s/it]"
     ]
    },
    {
     "name": "stdout",
     "output_type": "stream",
     "text": [
      "Time to: Calculate Ground State - 1.41s, Get Pauli Ops - 4.28s, Calculate Pauli Expectation Values - 6.68s, Calculate Covariance - 0.23s\n",
      "f0,f1,f2 = [1.727313937418934e-09, 1.7273139374056798e-09, 1.727313937419846e-09]\n"
     ]
    },
    {
     "name": "stderr",
     "output_type": "stream",
     "text": [
      "Progress:  23%|██▎       | 114/500 [23:43<1:20:23, 12.50s/it]"
     ]
    },
    {
     "name": "stdout",
     "output_type": "stream",
     "text": [
      "Time to: Calculate Ground State - 1.42s, Get Pauli Ops - 4.43s, Calculate Pauli Expectation Values - 6.49s, Calculate Covariance - 0.15s\n",
      "f0,f1,f2 = [2.4469291599486184e-09, 2.4469291599303306e-09, 2.446929159918654e-09]\n"
     ]
    },
    {
     "name": "stderr",
     "output_type": "stream",
     "text": [
      "/cluster/home/mskrabulis/miniconda3/envs/quantech/lib/python3.9/site-packages/pyscf/symm/Dmatrix.py:156: RuntimeWarning: invalid value encountered in arccos\n",
      "  gamma = numpy.arccos(yp.dot(c2[1]))\n",
      "Progress:  23%|██▎       | 115/500 [23:55<1:19:47, 12.43s/it]"
     ]
    },
    {
     "name": "stdout",
     "output_type": "stream",
     "text": [
      "Time to: Calculate Ground State - 1.01s, Get Pauli Ops - 4.48s, Calculate Pauli Expectation Values - 6.64s, Calculate Covariance - 0.15s\n",
      "f0,f1,f2 = [2.9140799123125573e-09, 2.9140799123148763e-09, 2.91407991231105e-09]\n"
     ]
    },
    {
     "name": "stderr",
     "output_type": "stream",
     "text": [
      "Progress:  23%|██▎       | 116/500 [24:08<1:20:15, 12.54s/it]"
     ]
    },
    {
     "name": "stdout",
     "output_type": "stream",
     "text": [
      "Time to: Calculate Ground State - 1.41s, Get Pauli Ops - 4.48s, Calculate Pauli Expectation Values - 6.63s, Calculate Covariance - 0.25s\n",
      "f0,f1,f2 = [4.9348855161108114e-09, 4.934885516104565e-09, 4.934885516099727e-09]\n"
     ]
    },
    {
     "name": "stderr",
     "output_type": "stream",
     "text": [
      "Progress:  23%|██▎       | 117/500 [24:21<1:19:59, 12.53s/it]"
     ]
    },
    {
     "name": "stdout",
     "output_type": "stream",
     "text": [
      "Time to: Calculate Ground State - 1.27s, Get Pauli Ops - 4.47s, Calculate Pauli Expectation Values - 6.64s, Calculate Covariance - 0.13s\n",
      "f0,f1,f2 = [5.072729754532941e-09, 5.072729754527069e-09, 5.0727297545232106e-09]\n"
     ]
    },
    {
     "name": "stderr",
     "output_type": "stream",
     "text": [
      "/cluster/home/mskrabulis/miniconda3/envs/quantech/lib/python3.9/site-packages/pyscf/symm/Dmatrix.py:156: RuntimeWarning: invalid value encountered in arccos\n",
      "  gamma = numpy.arccos(yp.dot(c2[1]))\n",
      "Progress:  24%|██▎       | 118/500 [24:33<1:19:43, 12.52s/it]"
     ]
    },
    {
     "name": "stdout",
     "output_type": "stream",
     "text": [
      "Time to: Calculate Ground State - 1.4s, Get Pauli Ops - 4.48s, Calculate Pauli Expectation Values - 6.49s, Calculate Covariance - 0.13s\n",
      "f0,f1,f2 = [5.808304222960755e-09, 5.808304222947135e-09, 5.808304222954303e-09]\n"
     ]
    },
    {
     "name": "stderr",
     "output_type": "stream",
     "text": [
      "Progress:  24%|██▍       | 119/500 [24:45<1:18:32, 12.37s/it]"
     ]
    },
    {
     "name": "stdout",
     "output_type": "stream",
     "text": [
      "Time to: Calculate Ground State - 0.97s, Get Pauli Ops - 4.31s, Calculate Pauli Expectation Values - 6.58s, Calculate Covariance - 0.14s\n",
      "f0,f1,f2 = [4.201643645346082e-09, 4.201643645345391e-09, 4.201643645334578e-09]\n"
     ]
    },
    {
     "name": "stderr",
     "output_type": "stream",
     "text": [
      "Progress:  24%|██▍       | 120/500 [24:57<1:18:13, 12.35s/it]"
     ]
    },
    {
     "name": "stdout",
     "output_type": "stream",
     "text": [
      "Time to: Calculate Ground State - 1.29s, Get Pauli Ops - 4.33s, Calculate Pauli Expectation Values - 6.53s, Calculate Covariance - 0.16s\n",
      "f0,f1,f2 = [6.177193069674565e-09, 6.177193069661014e-09, 6.177193069658508e-09]\n"
     ]
    },
    {
     "name": "stderr",
     "output_type": "stream",
     "text": [
      "/cluster/home/mskrabulis/miniconda3/envs/quantech/lib/python3.9/site-packages/pyscf/symm/Dmatrix.py:156: RuntimeWarning: invalid value encountered in arccos\n",
      "  gamma = numpy.arccos(yp.dot(c2[1]))\n",
      "Progress:  24%|██▍       | 121/500 [25:10<1:17:31, 12.27s/it]"
     ]
    },
    {
     "name": "stdout",
     "output_type": "stream",
     "text": [
      "Time to: Calculate Ground State - 1.29s, Get Pauli Ops - 4.2s, Calculate Pauli Expectation Values - 6.48s, Calculate Covariance - 0.13s\n",
      "f0,f1,f2 = [6.9001294705434165e-09, 6.900129470541656e-09, 6.900129470539537e-09]\n"
     ]
    },
    {
     "name": "stderr",
     "output_type": "stream",
     "text": [
      "/cluster/home/mskrabulis/miniconda3/envs/quantech/lib/python3.9/site-packages/pyscf/symm/Dmatrix.py:156: RuntimeWarning: invalid value encountered in arccos\n",
      "  gamma = numpy.arccos(yp.dot(c2[1]))\n",
      "Progress:  24%|██▍       | 122/500 [25:21<1:16:24, 12.13s/it]"
     ]
    },
    {
     "name": "stdout",
     "output_type": "stream",
     "text": [
      "Time to: Calculate Ground State - 0.87s, Get Pauli Ops - 4.2s, Calculate Pauli Expectation Values - 6.57s, Calculate Covariance - 0.14s\n",
      "f0,f1,f2 = [6.35624387705004e-09, 6.356243877051791e-09, 6.356243877033502e-09]\n"
     ]
    },
    {
     "name": "stderr",
     "output_type": "stream",
     "text": [
      "Progress:  25%|██▍       | 123/500 [25:34<1:17:11, 12.28s/it]"
     ]
    },
    {
     "name": "stdout",
     "output_type": "stream",
     "text": [
      "Time to: Calculate Ground State - 1.36s, Get Pauli Ops - 4.47s, Calculate Pauli Expectation Values - 6.58s, Calculate Covariance - 0.23s\n",
      "f0,f1,f2 = [6.907565690701036e-09, 6.9075656906953954e-09, 6.907565690688604e-09]\n"
     ]
    },
    {
     "name": "stderr",
     "output_type": "stream",
     "text": [
      "/cluster/home/mskrabulis/miniconda3/envs/quantech/lib/python3.9/site-packages/pyscf/symm/Dmatrix.py:156: RuntimeWarning: invalid value encountered in arccos\n",
      "  gamma = numpy.arccos(yp.dot(c2[1]))\n",
      "Progress:  25%|██▍       | 124/500 [25:47<1:17:39, 12.39s/it]"
     ]
    },
    {
     "name": "stdout",
     "output_type": "stream",
     "text": [
      "Time to: Calculate Ground State - 1.37s, Get Pauli Ops - 4.44s, Calculate Pauli Expectation Values - 6.69s, Calculate Covariance - 0.14s\n",
      "f0,f1,f2 = [6.028781981176041e-09, 6.028781981170952e-09, 6.0287819811653e-09]\n"
     ]
    },
    {
     "name": "stderr",
     "output_type": "stream",
     "text": [
      "Progress:  25%|██▌       | 125/500 [25:59<1:17:54, 12.47s/it]"
     ]
    },
    {
     "name": "stdout",
     "output_type": "stream",
     "text": [
      "Time to: Calculate Ground State - 1.37s, Get Pauli Ops - 4.6s, Calculate Pauli Expectation Values - 6.51s, Calculate Covariance - 0.15s\n",
      "f0,f1,f2 = [6.706386135337214e-09, 6.70638613534205e-09, 6.706386135330639e-09]\n"
     ]
    },
    {
     "name": "stderr",
     "output_type": "stream",
     "text": [
      "Progress:  25%|██▌       | 126/500 [26:12<1:17:35, 12.45s/it]"
     ]
    },
    {
     "name": "stdout",
     "output_type": "stream",
     "text": [
      "Time to: Calculate Ground State - 1.3s, Get Pauli Ops - 4.47s, Calculate Pauli Expectation Values - 6.5s, Calculate Covariance - 0.14s\n",
      "f0,f1,f2 = [5.3817906832918385e-09, 5.381790683299479e-09, 5.381790683300609e-09]\n"
     ]
    },
    {
     "name": "stderr",
     "output_type": "stream",
     "text": [
      "Progress:  25%|██▌       | 127/500 [26:24<1:17:35, 12.48s/it]"
     ]
    },
    {
     "name": "stdout",
     "output_type": "stream",
     "text": [
      "Time to: Calculate Ground State - 1.28s, Get Pauli Ops - 4.43s, Calculate Pauli Expectation Values - 6.61s, Calculate Covariance - 0.24s\n",
      "f0,f1,f2 = [6.429360442555775e-09, 6.42936044256341e-09, 6.429360442564662e-09]\n"
     ]
    },
    {
     "name": "stderr",
     "output_type": "stream",
     "text": [
      "/cluster/home/mskrabulis/miniconda3/envs/quantech/lib/python3.9/site-packages/pyscf/symm/Dmatrix.py:156: RuntimeWarning: invalid value encountered in arccos\n",
      "  gamma = numpy.arccos(yp.dot(c2[1]))\n",
      "Progress:  26%|██▌       | 128/500 [26:37<1:17:10, 12.45s/it]"
     ]
    },
    {
     "name": "stdout",
     "output_type": "stream",
     "text": [
      "Time to: Calculate Ground State - 1.37s, Get Pauli Ops - 4.33s, Calculate Pauli Expectation Values - 6.47s, Calculate Covariance - 0.19s\n",
      "f0,f1,f2 = [5.224807173709641e-09, 5.2248071737183215e-09, 5.224807173714749e-09]\n"
     ]
    },
    {
     "name": "stderr",
     "output_type": "stream",
     "text": [
      "/cluster/home/mskrabulis/miniconda3/envs/quantech/lib/python3.9/site-packages/pyscf/symm/Dmatrix.py:156: RuntimeWarning: invalid value encountered in arccos\n",
      "  gamma = numpy.arccos(yp.dot(c2[1]))\n",
      "Progress:  26%|██▌       | 129/500 [26:51<1:20:58, 13.10s/it]"
     ]
    },
    {
     "name": "stdout",
     "output_type": "stream",
     "text": [
      "Time to: Calculate Ground State - 1.12s, Get Pauli Ops - 4.4s, Calculate Pauli Expectation Values - 8.86s, Calculate Covariance - 0.23s\n",
      "f0,f1,f2 = [5.802401934232381e-09, 5.802401934233338e-09, 5.802401934236784e-09]\n"
     ]
    },
    {
     "name": "stderr",
     "output_type": "stream",
     "text": [
      "Progress:  26%|██▌       | 130/500 [27:04<1:20:26, 13.04s/it]"
     ]
    },
    {
     "name": "stdout",
     "output_type": "stream",
     "text": [
      "Time to: Calculate Ground State - 1.4s, Get Pauli Ops - 4.63s, Calculate Pauli Expectation Values - 6.71s, Calculate Covariance - 0.18s\n",
      "f0,f1,f2 = [7.049058289489163e-09, 7.0490582894917625e-09, 7.049058289510714e-09]\n"
     ]
    },
    {
     "name": "stderr",
     "output_type": "stream",
     "text": [
      "Progress:  26%|██▌       | 131/500 [27:16<1:18:48, 12.82s/it]"
     ]
    },
    {
     "name": "stdout",
     "output_type": "stream",
     "text": [
      "Time to: Calculate Ground State - 1.11s, Get Pauli Ops - 4.34s, Calculate Pauli Expectation Values - 6.7s, Calculate Covariance - 0.13s\n",
      "f0,f1,f2 = [6.620614380860021e-09, 6.620614380861401e-09, 6.620614380863357e-09]\n"
     ]
    },
    {
     "name": "stderr",
     "output_type": "stream",
     "text": [
      "Progress:  26%|██▋       | 132/500 [27:29<1:18:21, 12.78s/it]"
     ]
    },
    {
     "name": "stdout",
     "output_type": "stream",
     "text": [
      "Time to: Calculate Ground State - 1.39s, Get Pauli Ops - 4.47s, Calculate Pauli Expectation Values - 6.61s, Calculate Covariance - 0.21s\n",
      "f0,f1,f2 = [6.6435243944965155e-09, 6.643524394499636e-09, 6.6435243944988994e-09]\n"
     ]
    },
    {
     "name": "stderr",
     "output_type": "stream",
     "text": [
      "/cluster/home/mskrabulis/miniconda3/envs/quantech/lib/python3.9/site-packages/pyscf/symm/Dmatrix.py:156: RuntimeWarning: invalid value encountered in arccos\n",
      "  gamma = numpy.arccos(yp.dot(c2[1]))\n",
      "Progress:  27%|██▋       | 133/500 [27:42<1:17:33, 12.68s/it]"
     ]
    },
    {
     "name": "stdout",
     "output_type": "stream",
     "text": [
      "Time to: Calculate Ground State - 1.39s, Get Pauli Ops - 4.39s, Calculate Pauli Expectation Values - 6.52s, Calculate Covariance - 0.16s\n",
      "f0,f1,f2 = [7.232609826928727e-09, 7.232609826939967e-09, 7.232609826944911e-09]\n"
     ]
    },
    {
     "name": "stderr",
     "output_type": "stream",
     "text": [
      "/cluster/home/mskrabulis/miniconda3/envs/quantech/lib/python3.9/site-packages/pyscf/symm/Dmatrix.py:156: RuntimeWarning: invalid value encountered in arccos\n",
      "  gamma = numpy.arccos(yp.dot(c2[1]))\n",
      "Progress:  27%|██▋       | 134/500 [27:54<1:16:18, 12.51s/it]"
     ]
    },
    {
     "name": "stdout",
     "output_type": "stream",
     "text": [
      "Time to: Calculate Ground State - 0.95s, Get Pauli Ops - 4.44s, Calculate Pauli Expectation Values - 6.54s, Calculate Covariance - 0.17s\n",
      "f0,f1,f2 = [6.475782046090959e-09, 6.475782046086261e-09, 6.475782046090944e-09]\n"
     ]
    },
    {
     "name": "stderr",
     "output_type": "stream",
     "text": [
      "/cluster/home/mskrabulis/miniconda3/envs/quantech/lib/python3.9/site-packages/pyscf/symm/Dmatrix.py:156: RuntimeWarning: invalid value encountered in arccos\n",
      "  gamma = numpy.arccos(yp.dot(c2[1]))\n",
      "Progress:  27%|██▋       | 135/500 [28:05<1:14:28, 12.24s/it]"
     ]
    },
    {
     "name": "stdout",
     "output_type": "stream",
     "text": [
      "Time to: Calculate Ground State - 0.79s, Get Pauli Ops - 4.19s, Calculate Pauli Expectation Values - 6.5s, Calculate Covariance - 0.13s\n",
      "f0,f1,f2 = [4.354691885710801e-09, 4.354691885704478e-09, 4.354691885713351e-09]\n"
     ]
    },
    {
     "name": "stderr",
     "output_type": "stream",
     "text": [
      "Progress:  27%|██▋       | 136/500 [28:20<1:19:01, 13.03s/it]"
     ]
    },
    {
     "name": "stdout",
     "output_type": "stream",
     "text": [
      "Time to: Calculate Ground State - 1.39s, Get Pauli Ops - 4.47s, Calculate Pauli Expectation Values - 8.87s, Calculate Covariance - 0.13s\n",
      "f0,f1,f2 = [5.729648515084509e-09, 5.7296485150907236e-09, 5.729648515082151e-09]\n"
     ]
    },
    {
     "name": "stderr",
     "output_type": "stream",
     "text": [
      "/cluster/home/mskrabulis/miniconda3/envs/quantech/lib/python3.9/site-packages/pyscf/symm/Dmatrix.py:156: RuntimeWarning: invalid value encountered in arccos\n",
      "  gamma = numpy.arccos(yp.dot(c2[1]))\n",
      "Progress:  27%|██▋       | 137/500 [28:33<1:17:42, 12.85s/it]"
     ]
    },
    {
     "name": "stdout",
     "output_type": "stream",
     "text": [
      "Time to: Calculate Ground State - 1.32s, Get Pauli Ops - 4.4s, Calculate Pauli Expectation Values - 6.56s, Calculate Covariance - 0.14s\n",
      "f0,f1,f2 = [5.865593398992577e-09, 5.8655933989872824e-09, 5.865593398985822e-09]\n"
     ]
    },
    {
     "name": "stderr",
     "output_type": "stream",
     "text": [
      "/cluster/home/mskrabulis/miniconda3/envs/quantech/lib/python3.9/site-packages/pyscf/symm/Dmatrix.py:156: RuntimeWarning: invalid value encountered in arccos\n",
      "  gamma = numpy.arccos(yp.dot(c2[1]))\n",
      "Progress:  28%|██▊       | 138/500 [28:45<1:16:36, 12.70s/it]"
     ]
    },
    {
     "name": "stdout",
     "output_type": "stream",
     "text": [
      "Time to: Calculate Ground State - 1.36s, Get Pauli Ops - 4.3s, Calculate Pauli Expectation Values - 6.56s, Calculate Covariance - 0.13s\n",
      "f0,f1,f2 = [4.36031937801409e-09, 4.360319378012434e-09, 4.3603193780110684e-09]\n"
     ]
    },
    {
     "name": "stderr",
     "output_type": "stream",
     "text": [
      "Progress:  28%|██▊       | 139/500 [28:57<1:14:49, 12.44s/it]"
     ]
    },
    {
     "name": "stdout",
     "output_type": "stream",
     "text": [
      "Time to: Calculate Ground State - 0.8s, Get Pauli Ops - 4.44s, Calculate Pauli Expectation Values - 6.45s, Calculate Covariance - 0.13s\n",
      "f0,f1,f2 = [4.604077934337904e-09, 4.604077934337415e-09, 4.604077934348208e-09]\n"
     ]
    },
    {
     "name": "stderr",
     "output_type": "stream",
     "text": [
      "/cluster/home/mskrabulis/miniconda3/envs/quantech/lib/python3.9/site-packages/pyscf/symm/Dmatrix.py:156: RuntimeWarning: invalid value encountered in arccos\n",
      "  gamma = numpy.arccos(yp.dot(c2[1]))\n",
      "/cluster/home/mskrabulis/miniconda3/envs/quantech/lib/python3.9/site-packages/pyscf/symm/Dmatrix.py:156: RuntimeWarning: invalid value encountered in arccos\n",
      "  gamma = numpy.arccos(yp.dot(c2[1]))\n",
      "Progress:  28%|██▊       | 140/500 [29:09<1:14:28, 12.41s/it]"
     ]
    },
    {
     "name": "stdout",
     "output_type": "stream",
     "text": [
      "Time to: Calculate Ground State - 1.26s, Get Pauli Ops - 4.41s, Calculate Pauli Expectation Values - 6.54s, Calculate Covariance - 0.14s\n",
      "f0,f1,f2 = [3.4699645131667314e-09, 3.4699645131718666e-09, 3.4699645131739697e-09]\n"
     ]
    },
    {
     "name": "stderr",
     "output_type": "stream",
     "text": [
      "/cluster/home/mskrabulis/miniconda3/envs/quantech/lib/python3.9/site-packages/pyscf/symm/Dmatrix.py:156: RuntimeWarning: invalid value encountered in arccos\n",
      "  gamma = numpy.arccos(yp.dot(c2[1]))\n",
      "Progress:  28%|██▊       | 141/500 [29:21<1:13:06, 12.22s/it]"
     ]
    },
    {
     "name": "stdout",
     "output_type": "stream",
     "text": [
      "Time to: Calculate Ground State - 0.82s, Get Pauli Ops - 4.24s, Calculate Pauli Expectation Values - 6.58s, Calculate Covariance - 0.13s\n",
      "f0,f1,f2 = [3.6018979782480214e-09, 3.601897978268063e-09, 3.601897978261873e-09]\n"
     ]
    },
    {
     "name": "stderr",
     "output_type": "stream",
     "text": [
      "/cluster/home/mskrabulis/miniconda3/envs/quantech/lib/python3.9/site-packages/pyscf/symm/Dmatrix.py:156: RuntimeWarning: invalid value encountered in arccos\n",
      "  gamma = numpy.arccos(yp.dot(c2[1]))\n",
      "Progress:  28%|██▊       | 142/500 [29:36<1:17:33, 13.00s/it]"
     ]
    },
    {
     "name": "stdout",
     "output_type": "stream",
     "text": [
      "Time to: Calculate Ground State - 1.55s, Get Pauli Ops - 4.47s, Calculate Pauli Expectation Values - 8.55s, Calculate Covariance - 0.24s\n",
      "f0,f1,f2 = [3.4290793385440966e-09, 3.429079338553324e-09, 3.429079338550885e-09]\n"
     ]
    },
    {
     "name": "stderr",
     "output_type": "stream",
     "text": [
      "Progress:  29%|██▊       | 143/500 [29:48<1:16:35, 12.87s/it]"
     ]
    },
    {
     "name": "stdout",
     "output_type": "stream",
     "text": [
      "Time to: Calculate Ground State - 1.42s, Get Pauli Ops - 4.51s, Calculate Pauli Expectation Values - 6.52s, Calculate Covariance - 0.13s\n",
      "f0,f1,f2 = [1.2319642278861904e-09, 1.231964227897438e-09, 1.231964227898729e-09]\n"
     ]
    },
    {
     "name": "stderr",
     "output_type": "stream",
     "text": [
      "Progress:  29%|██▉       | 144/500 [30:01<1:15:26, 12.71s/it]"
     ]
    },
    {
     "name": "stdout",
     "output_type": "stream",
     "text": [
      "Time to: Calculate Ground State - 1.29s, Get Pauli Ops - 4.31s, Calculate Pauli Expectation Values - 6.57s, Calculate Covariance - 0.18s\n",
      "f0,f1,f2 = [9.955633883023824e-10, 9.955633883262931e-10, 9.95563388309715e-10]\n"
     ]
    },
    {
     "name": "stderr",
     "output_type": "stream",
     "text": [
      "/cluster/home/mskrabulis/miniconda3/envs/quantech/lib/python3.9/site-packages/pyscf/symm/Dmatrix.py:156: RuntimeWarning: invalid value encountered in arccos\n",
      "  gamma = numpy.arccos(yp.dot(c2[1]))\n",
      "Progress:  29%|██▉       | 145/500 [30:13<1:14:47, 12.64s/it]"
     ]
    },
    {
     "name": "stdout",
     "output_type": "stream",
     "text": [
      "Time to: Calculate Ground State - 1.41s, Get Pauli Ops - 4.41s, Calculate Pauli Expectation Values - 6.47s, Calculate Covariance - 0.17s\n",
      "f0,f1,f2 = [9.292408475056831e-10, 9.292408474875306e-10, 9.292408474762837e-10]\n"
     ]
    },
    {
     "name": "stderr",
     "output_type": "stream",
     "text": [
      "/cluster/home/mskrabulis/miniconda3/envs/quantech/lib/python3.9/site-packages/pyscf/symm/Dmatrix.py:156: RuntimeWarning: invalid value encountered in arccos\n",
      "  gamma = numpy.arccos(yp.dot(c2[1]))\n",
      "Progress:  29%|██▉       | 146/500 [30:26<1:14:15, 12.58s/it]"
     ]
    },
    {
     "name": "stdout",
     "output_type": "stream",
     "text": [
      "Time to: Calculate Ground State - 1.36s, Get Pauli Ops - 4.32s, Calculate Pauli Expectation Values - 6.63s, Calculate Covariance - 0.13s\n",
      "f0,f1,f2 = [1.6424871577675666e-09, 1.6424871577485541e-09, 1.6424871577409194e-09]\n"
     ]
    },
    {
     "name": "stderr",
     "output_type": "stream",
     "text": [
      "Progress:  29%|██▉       | 147/500 [30:38<1:14:08, 12.60s/it]"
     ]
    },
    {
     "name": "stdout",
     "output_type": "stream",
     "text": [
      "Time to: Calculate Ground State - 1.41s, Get Pauli Ops - 4.5s, Calculate Pauli Expectation Values - 6.52s, Calculate Covariance - 0.21s\n",
      "f0,f1,f2 = [5.5060019605436804e-09, 5.506001960509914e-09, 5.506001960519714e-09]\n"
     ]
    },
    {
     "name": "stderr",
     "output_type": "stream",
     "text": [
      "Progress:  30%|██▉       | 148/500 [30:51<1:14:12, 12.65s/it]"
     ]
    },
    {
     "name": "stdout",
     "output_type": "stream",
     "text": [
      "Time to: Calculate Ground State - 1.33s, Get Pauli Ops - 4.48s, Calculate Pauli Expectation Values - 6.72s, Calculate Covariance - 0.23s\n",
      "f0,f1,f2 = [7.342525340940145e-09, 7.342525340910697e-09, 7.342525340915763e-09]\n"
     ]
    },
    {
     "name": "stderr",
     "output_type": "stream",
     "text": [
      "Progress:  30%|██▉       | 149/500 [31:04<1:14:12, 12.68s/it]"
     ]
    },
    {
     "name": "stdout",
     "output_type": "stream",
     "text": [
      "Time to: Calculate Ground State - 1.42s, Get Pauli Ops - 4.36s, Calculate Pauli Expectation Values - 6.77s, Calculate Covariance - 0.23s\n",
      "f0,f1,f2 = [9.243417616642083e-09, 9.243417616607295e-09, 9.243417616604964e-09]\n"
     ]
    },
    {
     "name": "stderr",
     "output_type": "stream",
     "text": [
      "Progress:  30%|███       | 150/500 [31:16<1:13:42, 12.64s/it]"
     ]
    },
    {
     "name": "stdout",
     "output_type": "stream",
     "text": [
      "Time to: Calculate Ground State - 1.42s, Get Pauli Ops - 4.43s, Calculate Pauli Expectation Values - 6.5s, Calculate Covariance - 0.17s\n",
      "f0,f1,f2 = [1.2691118719337123e-08, 1.2691118719282784e-08, 1.2691118719280871e-08]\n"
     ]
    },
    {
     "name": "stderr",
     "output_type": "stream",
     "text": [
      "Progress:  30%|███       | 151/500 [31:29<1:13:17, 12.60s/it]"
     ]
    },
    {
     "name": "stdout",
     "output_type": "stream",
     "text": [
      "Time to: Calculate Ground State - 1.31s, Get Pauli Ops - 4.56s, Calculate Pauli Expectation Values - 6.52s, Calculate Covariance - 0.13s\n",
      "f0,f1,f2 = [1.3527271895823681e-08, 1.3527271895771648e-08, 1.3527271895780585e-08]\n"
     ]
    },
    {
     "name": "stderr",
     "output_type": "stream",
     "text": [
      "/cluster/home/mskrabulis/miniconda3/envs/quantech/lib/python3.9/site-packages/pyscf/symm/Dmatrix.py:156: RuntimeWarning: invalid value encountered in arccos\n",
      "  gamma = numpy.arccos(yp.dot(c2[1]))\n",
      "/cluster/home/mskrabulis/miniconda3/envs/quantech/lib/python3.9/site-packages/pyscf/symm/Dmatrix.py:156: RuntimeWarning: invalid value encountered in arccos\n",
      "  gamma = numpy.arccos(yp.dot(c2[1]))\n",
      "Progress:  30%|███       | 152/500 [31:41<1:12:14, 12.45s/it]"
     ]
    },
    {
     "name": "stdout",
     "output_type": "stream",
     "text": [
      "Time to: Calculate Ground State - 0.81s, Get Pauli Ops - 4.49s, Calculate Pauli Expectation Values - 6.68s, Calculate Covariance - 0.13s\n",
      "f0,f1,f2 = [1.4720863604873839e-08, 1.4720863604813569e-08, 1.4720863604827318e-08]\n"
     ]
    },
    {
     "name": "stderr",
     "output_type": "stream",
     "text": [
      "Progress:  31%|███       | 153/500 [31:53<1:10:42, 12.23s/it]"
     ]
    },
    {
     "name": "stdout",
     "output_type": "stream",
     "text": [
      "Time to: Calculate Ground State - 0.88s, Get Pauli Ops - 4.25s, Calculate Pauli Expectation Values - 6.4s, Calculate Covariance - 0.16s\n",
      "f0,f1,f2 = [1.6629267736758014e-08, 1.6629267736707828e-08, 1.662926773670627e-08]\n"
     ]
    },
    {
     "name": "stderr",
     "output_type": "stream",
     "text": [
      "/cluster/home/mskrabulis/miniconda3/envs/quantech/lib/python3.9/site-packages/pyscf/symm/Dmatrix.py:156: RuntimeWarning: invalid value encountered in arccos\n",
      "  gamma = numpy.arccos(yp.dot(c2[1]))\n",
      "Progress:  31%|███       | 154/500 [32:05<1:11:28, 12.39s/it]"
     ]
    },
    {
     "name": "stdout",
     "output_type": "stream",
     "text": [
      "Time to: Calculate Ground State - 1.45s, Get Pauli Ops - 4.48s, Calculate Pauli Expectation Values - 6.71s, Calculate Covariance - 0.14s\n",
      "f0,f1,f2 = [1.4927427453005048e-08, 1.492742745295545e-08, 1.492742745296157e-08]\n"
     ]
    },
    {
     "name": "stderr",
     "output_type": "stream",
     "text": [
      "Progress:  31%|███       | 155/500 [32:20<1:15:28, 13.12s/it]"
     ]
    },
    {
     "name": "stdout",
     "output_type": "stream",
     "text": [
      "Time to: Calculate Ground State - 1.56s, Get Pauli Ops - 4.49s, Calculate Pauli Expectation Values - 8.65s, Calculate Covariance - 0.13s\n",
      "f0,f1,f2 = [1.3870772268313549e-08, 1.3870772268284121e-08, 1.3870772268275047e-08]\n"
     ]
    },
    {
     "name": "stderr",
     "output_type": "stream",
     "text": [
      "Progress:  31%|███       | 156/500 [32:32<1:13:53, 12.89s/it]"
     ]
    },
    {
     "name": "stdout",
     "output_type": "stream",
     "text": [
      "Time to: Calculate Ground State - 1.28s, Get Pauli Ops - 4.36s, Calculate Pauli Expectation Values - 6.57s, Calculate Covariance - 0.13s\n",
      "f0,f1,f2 = [1.2366257672075518e-08, 1.236625767202056e-08, 1.2366257672039562e-08]\n"
     ]
    },
    {
     "name": "stderr",
     "output_type": "stream",
     "text": [
      "Progress:  31%|███▏      | 157/500 [32:45<1:12:38, 12.71s/it]"
     ]
    },
    {
     "name": "stdout",
     "output_type": "stream",
     "text": [
      "Time to: Calculate Ground State - 1.32s, Get Pauli Ops - 4.23s, Calculate Pauli Expectation Values - 6.61s, Calculate Covariance - 0.13s\n",
      "f0,f1,f2 = [1.1591618679491474e-08, 1.1591618679464488e-08, 1.1591618679447266e-08]\n"
     ]
    },
    {
     "name": "stderr",
     "output_type": "stream",
     "text": [
      "Progress:  32%|███▏      | 158/500 [32:58<1:12:33, 12.73s/it]"
     ]
    },
    {
     "name": "stdout",
     "output_type": "stream",
     "text": [
      "Time to: Calculate Ground State - 1.38s, Get Pauli Ops - 4.48s, Calculate Pauli Expectation Values - 6.68s, Calculate Covariance - 0.24s\n",
      "f0,f1,f2 = [9.149713286842872e-09, 9.149713286807798e-09, 9.149713286823728e-09]\n"
     ]
    },
    {
     "name": "stderr",
     "output_type": "stream",
     "text": [
      "Progress:  32%|███▏      | 159/500 [33:10<1:11:23, 12.56s/it]"
     ]
    },
    {
     "name": "stdout",
     "output_type": "stream",
     "text": [
      "Time to: Calculate Ground State - 1.1s, Get Pauli Ops - 4.46s, Calculate Pauli Expectation Values - 6.46s, Calculate Covariance - 0.15s\n",
      "f0,f1,f2 = [7.964836442200356e-09, 7.964836442193474e-09, 7.96483644217699e-09]\n"
     ]
    },
    {
     "name": "stderr",
     "output_type": "stream",
     "text": [
      "/cluster/home/mskrabulis/miniconda3/envs/quantech/lib/python3.9/site-packages/pyscf/symm/Dmatrix.py:156: RuntimeWarning: invalid value encountered in arccos\n",
      "  gamma = numpy.arccos(yp.dot(c2[1]))\n",
      "Progress:  32%|███▏      | 160/500 [33:24<1:13:23, 12.95s/it]"
     ]
    },
    {
     "name": "stdout",
     "output_type": "stream",
     "text": [
      "Time to: Calculate Ground State - 1.44s, Get Pauli Ops - 4.4s, Calculate Pauli Expectation Values - 7.9s, Calculate Covariance - 0.12s\n",
      "f0,f1,f2 = [6.10018945657508e-09, 6.1001894565611975e-09, 6.100189456552511e-09]\n"
     ]
    },
    {
     "name": "stderr",
     "output_type": "stream",
     "text": [
      "Progress:  32%|███▏      | 161/500 [33:36<1:12:19, 12.80s/it]"
     ]
    },
    {
     "name": "stdout",
     "output_type": "stream",
     "text": [
      "Time to: Calculate Ground State - 1.2s, Get Pauli Ops - 4.38s, Calculate Pauli Expectation Values - 6.65s, Calculate Covariance - 0.22s\n",
      "f0,f1,f2 = [2.5236881214894106e-09, 2.5236881214693634e-09, 2.5236881214641625e-09]\n"
     ]
    },
    {
     "name": "stderr",
     "output_type": "stream",
     "text": [
      "/cluster/home/mskrabulis/miniconda3/envs/quantech/lib/python3.9/site-packages/pyscf/symm/Dmatrix.py:156: RuntimeWarning: invalid value encountered in arccos\n",
      "  gamma = numpy.arccos(yp.dot(c2[1]))\n",
      "Progress:  32%|███▏      | 162/500 [33:49<1:12:02, 12.79s/it]"
     ]
    },
    {
     "name": "stdout",
     "output_type": "stream",
     "text": [
      "Time to: Calculate Ground State - 1.41s, Get Pauli Ops - 4.6s, Calculate Pauli Expectation Values - 6.56s, Calculate Covariance - 0.19s\n",
      "f0,f1,f2 = [1.6732850007886964e-09, 1.6732850007935143e-09, 1.6732850007845241e-09]\n"
     ]
    },
    {
     "name": "stderr",
     "output_type": "stream",
     "text": [
      "/cluster/home/mskrabulis/miniconda3/envs/quantech/lib/python3.9/site-packages/pyscf/symm/Dmatrix.py:156: RuntimeWarning: invalid value encountered in arccos\n",
      "  gamma = numpy.arccos(yp.dot(c2[1]))\n",
      "Progress:  33%|███▎      | 163/500 [34:01<1:10:44, 12.59s/it]"
     ]
    },
    {
     "name": "stdout",
     "output_type": "stream",
     "text": [
      "Time to: Calculate Ground State - 1.4s, Get Pauli Ops - 4.01s, Calculate Pauli Expectation Values - 6.57s, Calculate Covariance - 0.16s\n",
      "f0,f1,f2 = [5.538001664865228e-10, 5.538001664777491e-10, 5.538001664853334e-10]\n"
     ]
    },
    {
     "name": "stderr",
     "output_type": "stream",
     "text": [
      "/cluster/home/mskrabulis/miniconda3/envs/quantech/lib/python3.9/site-packages/pyscf/symm/Dmatrix.py:156: RuntimeWarning: invalid value encountered in arccos\n",
      "  gamma = numpy.arccos(yp.dot(c2[1]))\n",
      "Progress:  33%|███▎      | 164/500 [34:14<1:10:51, 12.65s/it]"
     ]
    },
    {
     "name": "stdout",
     "output_type": "stream",
     "text": [
      "Time to: Calculate Ground State - 1.38s, Get Pauli Ops - 4.51s, Calculate Pauli Expectation Values - 6.68s, Calculate Covariance - 0.22s\n",
      "f0,f1,f2 = [8.771316541065383e-10, 8.771316541180567e-10, 8.771316541091609e-10]\n"
     ]
    },
    {
     "name": "stderr",
     "output_type": "stream",
     "text": [
      "/cluster/home/mskrabulis/miniconda3/envs/quantech/lib/python3.9/site-packages/pyscf/symm/Dmatrix.py:156: RuntimeWarning: invalid value encountered in arccos\n",
      "  gamma = numpy.arccos(yp.dot(c2[1]))\n",
      "Progress:  33%|███▎      | 165/500 [34:26<1:10:34, 12.64s/it]"
     ]
    },
    {
     "name": "stdout",
     "output_type": "stream",
     "text": [
      "Time to: Calculate Ground State - 1.46s, Get Pauli Ops - 4.31s, Calculate Pauli Expectation Values - 6.67s, Calculate Covariance - 0.17s\n",
      "f0,f1,f2 = [1.6654985938369962e-09, 1.6654985938395418e-09, 1.6654985938379605e-09]\n"
     ]
    },
    {
     "name": "stderr",
     "output_type": "stream",
     "text": [
      "Progress:  33%|███▎      | 166/500 [34:39<1:10:35, 12.68s/it]"
     ]
    },
    {
     "name": "stdout",
     "output_type": "stream",
     "text": [
      "Time to: Calculate Ground State - 1.38s, Get Pauli Ops - 4.52s, Calculate Pauli Expectation Values - 6.64s, Calculate Covariance - 0.24s\n",
      "f0,f1,f2 = [2.7392401668876724e-09, 2.739240166893965e-09, 2.739240166895794e-09]\n"
     ]
    },
    {
     "name": "stderr",
     "output_type": "stream",
     "text": [
      "/cluster/home/mskrabulis/miniconda3/envs/quantech/lib/python3.9/site-packages/pyscf/symm/Dmatrix.py:156: RuntimeWarning: invalid value encountered in arccos\n",
      "  gamma = numpy.arccos(yp.dot(c2[1]))\n",
      "Progress:  33%|███▎      | 167/500 [34:52<1:10:17, 12.66s/it]"
     ]
    },
    {
     "name": "stdout",
     "output_type": "stream",
     "text": [
      "Time to: Calculate Ground State - 1.41s, Get Pauli Ops - 4.5s, Calculate Pauli Expectation Values - 6.55s, Calculate Covariance - 0.16s\n",
      "f0,f1,f2 = [2.5895138429493313e-09, 2.5895138429655796e-09, 2.589513842965243e-09]\n"
     ]
    },
    {
     "name": "stderr",
     "output_type": "stream",
     "text": [
      "/cluster/home/mskrabulis/miniconda3/envs/quantech/lib/python3.9/site-packages/pyscf/symm/Dmatrix.py:156: RuntimeWarning: invalid value encountered in arccos\n",
      "  gamma = numpy.arccos(yp.dot(c2[1]))\n",
      "Progress:  34%|███▎      | 168/500 [35:04<1:08:59, 12.47s/it]"
     ]
    },
    {
     "name": "stdout",
     "output_type": "stream",
     "text": [
      "Time to: Calculate Ground State - 0.85s, Get Pauli Ops - 4.39s, Calculate Pauli Expectation Values - 6.59s, Calculate Covariance - 0.16s\n",
      "f0,f1,f2 = [4.813603651754285e-09, 4.813603651751542e-09, 4.813603651751628e-09]\n"
     ]
    },
    {
     "name": "stderr",
     "output_type": "stream",
     "text": [
      "/cluster/home/mskrabulis/miniconda3/envs/quantech/lib/python3.9/site-packages/pyscf/symm/Dmatrix.py:156: RuntimeWarning: invalid value encountered in arccos\n",
      "  gamma = numpy.arccos(yp.dot(c2[1]))\n",
      "Progress:  34%|███▍      | 169/500 [35:16<1:09:02, 12.52s/it]"
     ]
    },
    {
     "name": "stdout",
     "output_type": "stream",
     "text": [
      "Time to: Calculate Ground State - 1.44s, Get Pauli Ops - 4.5s, Calculate Pauli Expectation Values - 6.56s, Calculate Covariance - 0.13s\n",
      "f0,f1,f2 = [4.214305561883575e-09, 4.2143055618885395e-09, 4.21430556190088e-09]\n"
     ]
    },
    {
     "name": "stderr",
     "output_type": "stream",
     "text": [
      "/cluster/home/mskrabulis/miniconda3/envs/quantech/lib/python3.9/site-packages/pyscf/symm/Dmatrix.py:156: RuntimeWarning: invalid value encountered in arccos\n",
      "  gamma = numpy.arccos(yp.dot(c2[1]))\n",
      "/cluster/home/mskrabulis/miniconda3/envs/quantech/lib/python3.9/site-packages/pyscf/symm/Dmatrix.py:156: RuntimeWarning: invalid value encountered in arccos\n",
      "  gamma = numpy.arccos(yp.dot(c2[1]))\n",
      "Progress:  34%|███▍      | 170/500 [35:29<1:08:54, 12.53s/it]"
     ]
    },
    {
     "name": "stdout",
     "output_type": "stream",
     "text": [
      "Time to: Calculate Ground State - 1.36s, Get Pauli Ops - 4.48s, Calculate Pauli Expectation Values - 6.56s, Calculate Covariance - 0.15s\n",
      "f0,f1,f2 = [4.2410508223926496e-09, 4.241050822396886e-09, 4.2410508223933965e-09]\n"
     ]
    },
    {
     "name": "stderr",
     "output_type": "stream",
     "text": [
      "/cluster/home/mskrabulis/miniconda3/envs/quantech/lib/python3.9/site-packages/pyscf/symm/Dmatrix.py:156: RuntimeWarning: invalid value encountered in arccos\n",
      "  gamma = numpy.arccos(yp.dot(c2[1]))\n",
      "Progress:  34%|███▍      | 171/500 [35:41<1:08:00, 12.40s/it]"
     ]
    },
    {
     "name": "stdout",
     "output_type": "stream",
     "text": [
      "Time to: Calculate Ground State - 0.96s, Get Pauli Ops - 4.44s, Calculate Pauli Expectation Values - 6.52s, Calculate Covariance - 0.18s\n",
      "f0,f1,f2 = [7.674385495094736e-09, 7.674385495092867e-09, 7.674385495080653e-09]\n"
     ]
    },
    {
     "name": "stderr",
     "output_type": "stream",
     "text": [
      "/cluster/home/mskrabulis/miniconda3/envs/quantech/lib/python3.9/site-packages/pyscf/symm/Dmatrix.py:156: RuntimeWarning: invalid value encountered in arccos\n",
      "  gamma = numpy.arccos(yp.dot(c2[1]))\n",
      "Progress:  34%|███▍      | 172/500 [35:53<1:07:50, 12.41s/it]"
     ]
    },
    {
     "name": "stdout",
     "output_type": "stream",
     "text": [
      "Time to: Calculate Ground State - 1.36s, Get Pauli Ops - 4.4s, Calculate Pauli Expectation Values - 6.51s, Calculate Covariance - 0.16s\n",
      "f0,f1,f2 = [5.848561635877022e-09, 5.848561635892784e-09, 5.848561635884317e-09]\n"
     ]
    },
    {
     "name": "stderr",
     "output_type": "stream",
     "text": [
      "Progress:  35%|███▍      | 173/500 [36:06<1:07:17, 12.35s/it]"
     ]
    },
    {
     "name": "stdout",
     "output_type": "stream",
     "text": [
      "Time to: Calculate Ground State - 1.39s, Get Pauli Ops - 4.35s, Calculate Pauli Expectation Values - 6.3s, Calculate Covariance - 0.16s\n",
      "f0,f1,f2 = [6.068278162960539e-09, 6.068278162963761e-09, 6.068278162950747e-09]\n"
     ]
    },
    {
     "name": "stderr",
     "output_type": "stream",
     "text": [
      "Progress:  35%|███▍      | 174/500 [36:18<1:07:09, 12.36s/it]"
     ]
    },
    {
     "name": "stdout",
     "output_type": "stream",
     "text": [
      "Time to: Calculate Ground State - 1.32s, Get Pauli Ops - 4.33s, Calculate Pauli Expectation Values - 6.58s, Calculate Covariance - 0.15s\n",
      "f0,f1,f2 = [5.910750503801294e-09, 5.91075050378743e-09, 5.910750503783891e-09]\n"
     ]
    },
    {
     "name": "stderr",
     "output_type": "stream",
     "text": [
      "Progress:  35%|███▌      | 175/500 [36:30<1:06:39, 12.31s/it]"
     ]
    },
    {
     "name": "stdout",
     "output_type": "stream",
     "text": [
      "Time to: Calculate Ground State - 1.26s, Get Pauli Ops - 4.22s, Calculate Pauli Expectation Values - 6.52s, Calculate Covariance - 0.17s\n",
      "f0,f1,f2 = [7.115944414265132e-09, 7.1159444142740515e-09, 7.115944414278342e-09]\n"
     ]
    },
    {
     "name": "stderr",
     "output_type": "stream",
     "text": [
      "/cluster/home/mskrabulis/miniconda3/envs/quantech/lib/python3.9/site-packages/pyscf/symm/Dmatrix.py:156: RuntimeWarning: invalid value encountered in arccos\n",
      "  gamma = numpy.arccos(yp.dot(c2[1]))\n",
      "Progress:  35%|███▌      | 176/500 [36:42<1:06:22, 12.29s/it]"
     ]
    },
    {
     "name": "stdout",
     "output_type": "stream",
     "text": [
      "Time to: Calculate Ground State - 1.32s, Get Pauli Ops - 4.26s, Calculate Pauli Expectation Values - 6.47s, Calculate Covariance - 0.21s\n",
      "f0,f1,f2 = [5.866933929971492e-09, 5.866933929982788e-09, 5.8669339299904325e-09]\n"
     ]
    },
    {
     "name": "stderr",
     "output_type": "stream",
     "text": [
      "Progress:  35%|███▌      | 177/500 [36:54<1:05:17, 12.13s/it]"
     ]
    },
    {
     "name": "stdout",
     "output_type": "stream",
     "text": [
      "Time to: Calculate Ground State - 0.81s, Get Pauli Ops - 4.23s, Calculate Pauli Expectation Values - 6.54s, Calculate Covariance - 0.17s\n",
      "f0,f1,f2 = [6.618492614894036e-09, 6.618492614887017e-09, 6.618492614885829e-09]\n"
     ]
    },
    {
     "name": "stderr",
     "output_type": "stream",
     "text": [
      "/cluster/home/mskrabulis/miniconda3/envs/quantech/lib/python3.9/site-packages/pyscf/symm/Dmatrix.py:156: RuntimeWarning: invalid value encountered in arccos\n",
      "  gamma = numpy.arccos(yp.dot(c2[1]))\n",
      "Progress:  36%|███▌      | 178/500 [37:07<1:05:41, 12.24s/it]"
     ]
    },
    {
     "name": "stdout",
     "output_type": "stream",
     "text": [
      "Time to: Calculate Ground State - 1.3s, Get Pauli Ops - 4.23s, Calculate Pauli Expectation Values - 6.72s, Calculate Covariance - 0.23s\n",
      "f0,f1,f2 = [5.944045428197597e-09, 5.944045428220439e-09, 5.944045428214127e-09]\n"
     ]
    },
    {
     "name": "stderr",
     "output_type": "stream",
     "text": [
      "Progress:  36%|███▌      | 179/500 [37:19<1:05:53, 12.32s/it]"
     ]
    },
    {
     "name": "stdout",
     "output_type": "stream",
     "text": [
      "Time to: Calculate Ground State - 1.38s, Get Pauli Ops - 4.46s, Calculate Pauli Expectation Values - 6.53s, Calculate Covariance - 0.13s\n",
      "f0,f1,f2 = [5.901590009197403e-09, 5.90159000919364e-09, 5.901590009208663e-09]\n"
     ]
    },
    {
     "name": "stderr",
     "output_type": "stream",
     "text": [
      "Progress:  36%|███▌      | 180/500 [37:32<1:05:38, 12.31s/it]"
     ]
    },
    {
     "name": "stdout",
     "output_type": "stream",
     "text": [
      "Time to: Calculate Ground State - 1.17s, Get Pauli Ops - 4.48s, Calculate Pauli Expectation Values - 6.48s, Calculate Covariance - 0.15s\n",
      "f0,f1,f2 = [5.867510785953797e-09, 5.867510785943389e-09, 5.867510785950531e-09]\n"
     ]
    },
    {
     "name": "stderr",
     "output_type": "stream",
     "text": [
      "/cluster/home/mskrabulis/miniconda3/envs/quantech/lib/python3.9/site-packages/pyscf/symm/Dmatrix.py:156: RuntimeWarning: invalid value encountered in arccos\n",
      "  gamma = numpy.arccos(yp.dot(c2[1]))\n",
      "Progress:  36%|███▌      | 181/500 [37:44<1:05:14, 12.27s/it]"
     ]
    },
    {
     "name": "stdout",
     "output_type": "stream",
     "text": [
      "Time to: Calculate Ground State - 1.31s, Get Pauli Ops - 4.22s, Calculate Pauli Expectation Values - 6.53s, Calculate Covariance - 0.13s\n",
      "f0,f1,f2 = [7.151736191228085e-09, 7.151736191227774e-09, 7.151736191222663e-09]\n"
     ]
    },
    {
     "name": "stderr",
     "output_type": "stream",
     "text": [
      "Progress:  36%|███▋      | 182/500 [37:56<1:04:45, 12.22s/it]"
     ]
    },
    {
     "name": "stdout",
     "output_type": "stream",
     "text": [
      "Time to: Calculate Ground State - 1.27s, Get Pauli Ops - 4.07s, Calculate Pauli Expectation Values - 6.6s, Calculate Covariance - 0.15s\n",
      "f0,f1,f2 = [6.699046613069983e-09, 6.69904661307373e-09, 6.699046613072048e-09]\n"
     ]
    },
    {
     "name": "stderr",
     "output_type": "stream",
     "text": [
      "/cluster/home/mskrabulis/miniconda3/envs/quantech/lib/python3.9/site-packages/pyscf/symm/Dmatrix.py:156: RuntimeWarning: invalid value encountered in arccos\n",
      "  gamma = numpy.arccos(yp.dot(c2[1]))\n",
      "Progress:  37%|███▋      | 183/500 [38:08<1:04:29, 12.21s/it]"
     ]
    },
    {
     "name": "stdout",
     "output_type": "stream",
     "text": [
      "Time to: Calculate Ground State - 1.29s, Get Pauli Ops - 4.29s, Calculate Pauli Expectation Values - 6.41s, Calculate Covariance - 0.19s\n",
      "f0,f1,f2 = [6.656242391257898e-09, 6.656242391246262e-09, 6.656242391244188e-09]\n"
     ]
    },
    {
     "name": "stderr",
     "output_type": "stream",
     "text": [
      "Progress:  37%|███▋      | 184/500 [38:20<1:03:57, 12.14s/it]"
     ]
    },
    {
     "name": "stdout",
     "output_type": "stream",
     "text": [
      "Time to: Calculate Ground State - 0.95s, Get Pauli Ops - 4.37s, Calculate Pauli Expectation Values - 6.53s, Calculate Covariance - 0.14s\n",
      "f0,f1,f2 = [6.520555242471831e-09, 6.520555242491114e-09, 6.52055524248171e-09]\n"
     ]
    },
    {
     "name": "stderr",
     "output_type": "stream",
     "text": [
      "/cluster/home/mskrabulis/miniconda3/envs/quantech/lib/python3.9/site-packages/pyscf/symm/Dmatrix.py:156: RuntimeWarning: invalid value encountered in arccos\n",
      "  gamma = numpy.arccos(yp.dot(c2[1]))\n",
      "Progress:  37%|███▋      | 185/500 [38:32<1:04:07, 12.22s/it]"
     ]
    },
    {
     "name": "stdout",
     "output_type": "stream",
     "text": [
      "Time to: Calculate Ground State - 1.33s, Get Pauli Ops - 4.36s, Calculate Pauli Expectation Values - 6.48s, Calculate Covariance - 0.2s\n",
      "f0,f1,f2 = [7.12808517354838e-09, 7.128085173533231e-09, 7.128085173545871e-09]\n"
     ]
    },
    {
     "name": "stderr",
     "output_type": "stream",
     "text": [
      "Progress:  37%|███▋      | 186/500 [38:45<1:04:35, 12.34s/it]"
     ]
    },
    {
     "name": "stdout",
     "output_type": "stream",
     "text": [
      "Time to: Calculate Ground State - 1.35s, Get Pauli Ops - 4.46s, Calculate Pauli Expectation Values - 6.58s, Calculate Covariance - 0.24s\n",
      "f0,f1,f2 = [7.650633236321407e-09, 7.650633236322064e-09, 7.650633236326125e-09]\n"
     ]
    },
    {
     "name": "stderr",
     "output_type": "stream",
     "text": [
      "Progress:  37%|███▋      | 187/500 [38:57<1:03:53, 12.25s/it]"
     ]
    },
    {
     "name": "stdout",
     "output_type": "stream",
     "text": [
      "Time to: Calculate Ground State - 1.37s, Get Pauli Ops - 4.03s, Calculate Pauli Expectation Values - 6.47s, Calculate Covariance - 0.16s\n",
      "f0,f1,f2 = [6.265977472934788e-09, 6.265977472936412e-09, 6.265977472936707e-09]\n"
     ]
    },
    {
     "name": "stderr",
     "output_type": "stream",
     "text": [
      "/cluster/home/mskrabulis/miniconda3/envs/quantech/lib/python3.9/site-packages/pyscf/symm/Dmatrix.py:156: RuntimeWarning: invalid value encountered in arccos\n",
      "  gamma = numpy.arccos(yp.dot(c2[1]))\n",
      "Progress:  38%|███▊      | 188/500 [39:09<1:03:14, 12.16s/it]"
     ]
    },
    {
     "name": "stdout",
     "output_type": "stream",
     "text": [
      "Time to: Calculate Ground State - 0.83s, Get Pauli Ops - 4.42s, Calculate Pauli Expectation Values - 6.54s, Calculate Covariance - 0.17s\n",
      "f0,f1,f2 = [5.846726405521321e-09, 5.846726405521891e-09, 5.8467264055062045e-09]\n"
     ]
    },
    {
     "name": "stderr",
     "output_type": "stream",
     "text": [
      "Progress:  38%|███▊      | 189/500 [39:21<1:03:33, 12.26s/it]"
     ]
    },
    {
     "name": "stdout",
     "output_type": "stream",
     "text": [
      "Time to: Calculate Ground State - 1.33s, Get Pauli Ops - 4.45s, Calculate Pauli Expectation Values - 6.57s, Calculate Covariance - 0.15s\n",
      "f0,f1,f2 = [5.348133462477701e-09, 5.348133462458127e-09, 5.3481334624556274e-09]\n"
     ]
    },
    {
     "name": "stderr",
     "output_type": "stream",
     "text": [
      "/cluster/home/mskrabulis/miniconda3/envs/quantech/lib/python3.9/site-packages/pyscf/symm/Dmatrix.py:156: RuntimeWarning: invalid value encountered in arccos\n",
      "  gamma = numpy.arccos(yp.dot(c2[1]))\n",
      "Progress:  38%|███▊      | 190/500 [39:35<1:05:05, 12.60s/it]"
     ]
    },
    {
     "name": "stdout",
     "output_type": "stream",
     "text": [
      "Time to: Calculate Ground State - 1.44s, Get Pauli Ops - 4.27s, Calculate Pauli Expectation Values - 7.54s, Calculate Covariance - 0.13s\n",
      "f0,f1,f2 = [5.79449931767495e-09, 5.794499317677095e-09, 5.794499317682167e-09]\n"
     ]
    },
    {
     "name": "stderr",
     "output_type": "stream",
     "text": [
      "Progress:  38%|███▊      | 191/500 [39:47<1:04:23, 12.50s/it]"
     ]
    },
    {
     "name": "stdout",
     "output_type": "stream",
     "text": [
      "Time to: Calculate Ground State - 1.28s, Get Pauli Ops - 4.25s, Calculate Pauli Expectation Values - 6.62s, Calculate Covariance - 0.12s\n",
      "f0,f1,f2 = [5.81866435991708e-09, 5.8186643599198605e-09, 5.818664359913551e-09]\n"
     ]
    },
    {
     "name": "stderr",
     "output_type": "stream",
     "text": [
      "Progress:  38%|███▊      | 192/500 [40:00<1:04:21, 12.54s/it]"
     ]
    },
    {
     "name": "stdout",
     "output_type": "stream",
     "text": [
      "Time to: Calculate Ground State - 1.36s, Get Pauli Ops - 4.48s, Calculate Pauli Expectation Values - 6.65s, Calculate Covariance - 0.13s\n",
      "f0,f1,f2 = [5.214614465148642e-09, 5.214614465128004e-09, 5.214614465139357e-09]\n"
     ]
    },
    {
     "name": "stderr",
     "output_type": "stream",
     "text": [
      "/cluster/home/mskrabulis/miniconda3/envs/quantech/lib/python3.9/site-packages/pyscf/symm/Dmatrix.py:156: RuntimeWarning: invalid value encountered in arccos\n",
      "  gamma = numpy.arccos(yp.dot(c2[1]))\n",
      "Progress:  39%|███▊      | 193/500 [40:12<1:03:43, 12.45s/it]"
     ]
    },
    {
     "name": "stdout",
     "output_type": "stream",
     "text": [
      "Time to: Calculate Ground State - 1.27s, Get Pauli Ops - 4.35s, Calculate Pauli Expectation Values - 6.51s, Calculate Covariance - 0.12s\n",
      "f0,f1,f2 = [3.4525611560323725e-09, 3.452561156010356e-09, 3.452561156019555e-09]\n"
     ]
    },
    {
     "name": "stderr",
     "output_type": "stream",
     "text": [
      "Progress:  39%|███▉      | 194/500 [40:24<1:03:15, 12.40s/it]"
     ]
    },
    {
     "name": "stdout",
     "output_type": "stream",
     "text": [
      "Time to: Calculate Ground State - 1.3s, Get Pauli Ops - 4.27s, Calculate Pauli Expectation Values - 6.59s, Calculate Covariance - 0.13s\n",
      "f0,f1,f2 = [4.017876641356791e-09, 4.017876641345305e-09, 4.017876641334974e-09]\n"
     ]
    },
    {
     "name": "stderr",
     "output_type": "stream",
     "text": [
      "/cluster/home/mskrabulis/miniconda3/envs/quantech/lib/python3.9/site-packages/pyscf/symm/Dmatrix.py:156: RuntimeWarning: invalid value encountered in arccos\n",
      "  gamma = numpy.arccos(yp.dot(c2[1]))\n",
      "Progress:  39%|███▉      | 195/500 [40:37<1:03:17, 12.45s/it]"
     ]
    },
    {
     "name": "stdout",
     "output_type": "stream",
     "text": [
      "Time to: Calculate Ground State - 1.34s, Get Pauli Ops - 4.48s, Calculate Pauli Expectation Values - 6.6s, Calculate Covariance - 0.13s\n",
      "f0,f1,f2 = [1.5115869361828164e-09, 1.5115869361722138e-09, 1.5115869361773394e-09]\n"
     ]
    },
    {
     "name": "stderr",
     "output_type": "stream",
     "text": [
      "Progress:  39%|███▉      | 196/500 [40:49<1:03:12, 12.47s/it]"
     ]
    },
    {
     "name": "stdout",
     "output_type": "stream",
     "text": [
      "Time to: Calculate Ground State - 1.3s, Get Pauli Ops - 4.35s, Calculate Pauli Expectation Values - 6.65s, Calculate Covariance - 0.23s\n",
      "f0,f1,f2 = [1.3886846259444292e-09, 1.3886846259496846e-09, 1.3886846259355732e-09]\n"
     ]
    },
    {
     "name": "stderr",
     "output_type": "stream",
     "text": [
      "Progress:  39%|███▉      | 197/500 [41:02<1:02:27, 12.37s/it]"
     ]
    },
    {
     "name": "stdout",
     "output_type": "stream",
     "text": [
      "Time to: Calculate Ground State - 1.43s, Get Pauli Ops - 4.09s, Calculate Pauli Expectation Values - 6.45s, Calculate Covariance - 0.15s\n",
      "f0,f1,f2 = [6.060834480594596e-10, 6.060834480259985e-10, 6.06083448024893e-10]\n"
     ]
    },
    {
     "name": "stderr",
     "output_type": "stream",
     "text": [
      "/cluster/home/mskrabulis/miniconda3/envs/quantech/lib/python3.9/site-packages/pyscf/symm/Dmatrix.py:156: RuntimeWarning: invalid value encountered in arccos\n",
      "  gamma = numpy.arccos(yp.dot(c2[1]))\n",
      "Progress:  40%|███▉      | 198/500 [41:14<1:02:17, 12.37s/it]"
     ]
    },
    {
     "name": "stdout",
     "output_type": "stream",
     "text": [
      "Time to: Calculate Ground State - 1.37s, Get Pauli Ops - 4.21s, Calculate Pauli Expectation Values - 6.63s, Calculate Covariance - 0.18s\n",
      "f0,f1,f2 = [2.4031538098562374e-09, 2.403153809888192e-09, 2.4031538098866905e-09]\n"
     ]
    },
    {
     "name": "stderr",
     "output_type": "stream",
     "text": [
      "/cluster/home/mskrabulis/miniconda3/envs/quantech/lib/python3.9/site-packages/pyscf/symm/Dmatrix.py:156: RuntimeWarning: invalid value encountered in arccos\n",
      "  gamma = numpy.arccos(yp.dot(c2[1]))\n",
      "/cluster/home/mskrabulis/miniconda3/envs/quantech/lib/python3.9/site-packages/pyscf/symm/Dmatrix.py:156: RuntimeWarning: invalid value encountered in arccos\n",
      "  gamma = numpy.arccos(yp.dot(c2[1]))\n",
      "Progress:  40%|███▉      | 199/500 [41:27<1:02:34, 12.47s/it]"
     ]
    },
    {
     "name": "stdout",
     "output_type": "stream",
     "text": [
      "Time to: Calculate Ground State - 1.43s, Get Pauli Ops - 4.47s, Calculate Pauli Expectation Values - 6.66s, Calculate Covariance - 0.14s\n",
      "f0,f1,f2 = [2.9995652559859963e-09, 2.999565256013814e-09, 2.999565256004459e-09]\n"
     ]
    },
    {
     "name": "stderr",
     "output_type": "stream",
     "text": [
      "Progress:  40%|████      | 200/500 [41:39<1:02:07, 12.42s/it]"
     ]
    },
    {
     "name": "stdout",
     "output_type": "stream",
     "text": [
      "Time to: Calculate Ground State - 1.29s, Get Pauli Ops - 4.27s, Calculate Pauli Expectation Values - 6.52s, Calculate Covariance - 0.23s\n",
      "f0,f1,f2 = [6.933857097844305e-09, 6.9338570978757905e-09, 6.933857097882177e-09]\n"
     ]
    },
    {
     "name": "stderr",
     "output_type": "stream",
     "text": [
      "Progress:  40%|████      | 201/500 [41:52<1:02:35, 12.56s/it]"
     ]
    },
    {
     "name": "stdout",
     "output_type": "stream",
     "text": [
      "Time to: Calculate Ground State - 1.36s, Get Pauli Ops - 4.44s, Calculate Pauli Expectation Values - 6.85s, Calculate Covariance - 0.23s\n",
      "f0,f1,f2 = [7.544196131179818e-09, 7.544196131220522e-09, 7.544196131225356e-09]\n"
     ]
    },
    {
     "name": "stderr",
     "output_type": "stream",
     "text": [
      "Progress:  40%|████      | 202/500 [42:04<1:01:54, 12.46s/it]"
     ]
    },
    {
     "name": "stdout",
     "output_type": "stream",
     "text": [
      "Time to: Calculate Ground State - 1.35s, Get Pauli Ops - 4.26s, Calculate Pauli Expectation Values - 6.44s, Calculate Covariance - 0.18s\n",
      "f0,f1,f2 = [1.0282520076386144e-08, 1.0282520076435791e-08, 1.0282520076444045e-08]\n"
     ]
    },
    {
     "name": "stderr",
     "output_type": "stream",
     "text": [
      "Progress:  41%|████      | 203/500 [42:17<1:01:41, 12.46s/it]"
     ]
    },
    {
     "name": "stdout",
     "output_type": "stream",
     "text": [
      "Time to: Calculate Ground State - 1.31s, Get Pauli Ops - 4.46s, Calculate Pauli Expectation Values - 6.55s, Calculate Covariance - 0.13s\n",
      "f0,f1,f2 = [1.2493555072781226e-08, 1.249355507283852e-08, 1.2493555072843879e-08]\n"
     ]
    },
    {
     "name": "stderr",
     "output_type": "stream",
     "text": [
      "Progress:  41%|████      | 204/500 [42:29<1:01:59, 12.57s/it]"
     ]
    },
    {
     "name": "stdout",
     "output_type": "stream",
     "text": [
      "Time to: Calculate Ground State - 1.4s, Get Pauli Ops - 4.47s, Calculate Pauli Expectation Values - 6.75s, Calculate Covariance - 0.19s\n",
      "f0,f1,f2 = [1.4229467507212141e-08, 1.4229467507266331e-08, 1.4229467507265594e-08]\n"
     ]
    },
    {
     "name": "stderr",
     "output_type": "stream",
     "text": [
      "Progress:  41%|████      | 205/500 [42:41<1:00:59, 12.40s/it]"
     ]
    },
    {
     "name": "stdout",
     "output_type": "stream",
     "text": [
      "Time to: Calculate Ground State - 0.96s, Get Pauli Ops - 4.47s, Calculate Pauli Expectation Values - 6.41s, Calculate Covariance - 0.19s\n",
      "f0,f1,f2 = [1.639190465759453e-08, 1.6391904657666067e-08, 1.6391904657676533e-08]\n"
     ]
    },
    {
     "name": "stderr",
     "output_type": "stream",
     "text": [
      "Progress:  41%|████      | 206/500 [42:54<1:01:06, 12.47s/it]"
     ]
    },
    {
     "name": "stdout",
     "output_type": "stream",
     "text": [
      "Time to: Calculate Ground State - 1.37s, Get Pauli Ops - 4.46s, Calculate Pauli Expectation Values - 6.61s, Calculate Covariance - 0.17s\n",
      "f0,f1,f2 = [1.712758777184964e-08, 1.7127587771921116e-08, 1.7127587771923214e-08]\n"
     ]
    },
    {
     "name": "stderr",
     "output_type": "stream",
     "text": [
      "Progress:  41%|████▏     | 207/500 [43:06<1:00:24, 12.37s/it]"
     ]
    },
    {
     "name": "stdout",
     "output_type": "stream",
     "text": [
      "Time to: Calculate Ground State - 1.4s, Get Pauli Ops - 3.87s, Calculate Pauli Expectation Values - 6.67s, Calculate Covariance - 0.19s\n",
      "f0,f1,f2 = [1.722132494991211e-08, 1.7221324949990027e-08, 1.7221324949992886e-08]\n"
     ]
    },
    {
     "name": "stderr",
     "output_type": "stream",
     "text": [
      "Progress:  42%|████▏     | 208/500 [43:19<1:00:32, 12.44s/it]"
     ]
    },
    {
     "name": "stdout",
     "output_type": "stream",
     "text": [
      "Time to: Calculate Ground State - 1.38s, Get Pauli Ops - 4.49s, Calculate Pauli Expectation Values - 6.6s, Calculate Covariance - 0.13s\n",
      "f0,f1,f2 = [1.6173474910741515e-08, 1.6173474910813483e-08, 1.6173474910812077e-08]\n"
     ]
    },
    {
     "name": "stderr",
     "output_type": "stream",
     "text": [
      "Progress:  42%|████▏     | 209/500 [43:31<59:36, 12.29s/it]  "
     ]
    },
    {
     "name": "stdout",
     "output_type": "stream",
     "text": [
      "Time to: Calculate Ground State - 1.28s, Get Pauli Ops - 3.81s, Calculate Pauli Expectation Values - 6.65s, Calculate Covariance - 0.2s\n",
      "f0,f1,f2 = [1.3207113878124084e-08, 1.320711387819031e-08, 1.3207113878199602e-08]\n"
     ]
    },
    {
     "name": "stderr",
     "output_type": "stream",
     "text": [
      "Progress:  42%|████▏     | 210/500 [43:43<1:00:11, 12.45s/it]"
     ]
    },
    {
     "name": "stdout",
     "output_type": "stream",
     "text": [
      "Time to: Calculate Ground State - 1.32s, Get Pauli Ops - 4.49s, Calculate Pauli Expectation Values - 6.88s, Calculate Covariance - 0.14s\n",
      "f0,f1,f2 = [1.1323297357963075e-08, 1.1323297358012071e-08, 1.1323297358006924e-08]\n"
     ]
    },
    {
     "name": "stderr",
     "output_type": "stream",
     "text": [
      "Progress:  42%|████▏     | 211/500 [43:56<59:45, 12.41s/it]  "
     ]
    },
    {
     "name": "stdout",
     "output_type": "stream",
     "text": [
      "Time to: Calculate Ground State - 1.27s, Get Pauli Ops - 4.33s, Calculate Pauli Expectation Values - 6.53s, Calculate Covariance - 0.16s\n",
      "f0,f1,f2 = [9.147436161855493e-09, 9.147436161880423e-09, 9.147436161886748e-09]\n"
     ]
    },
    {
     "name": "stderr",
     "output_type": "stream",
     "text": [
      "Progress:  42%|████▏     | 212/500 [44:09<1:00:15, 12.55s/it]"
     ]
    },
    {
     "name": "stdout",
     "output_type": "stream",
     "text": [
      "Time to: Calculate Ground State - 1.34s, Get Pauli Ops - 4.63s, Calculate Pauli Expectation Values - 6.72s, Calculate Covariance - 0.2s\n",
      "f0,f1,f2 = [6.931094646376237e-09, 6.931094646410998e-09, 6.931094646410464e-09]\n"
     ]
    },
    {
     "name": "stderr",
     "output_type": "stream",
     "text": [
      "Progress:  43%|████▎     | 213/500 [44:21<59:44, 12.49s/it]  "
     ]
    },
    {
     "name": "stdout",
     "output_type": "stream",
     "text": [
      "Time to: Calculate Ground State - 1.29s, Get Pauli Ops - 4.25s, Calculate Pauli Expectation Values - 6.6s, Calculate Covariance - 0.2s\n",
      "f0,f1,f2 = [4.542465692557049e-09, 4.542465692575974e-09, 4.5424656925835745e-09]\n"
     ]
    },
    {
     "name": "stderr",
     "output_type": "stream",
     "text": [
      "/cluster/home/mskrabulis/miniconda3/envs/quantech/lib/python3.9/site-packages/pyscf/symm/Dmatrix.py:156: RuntimeWarning: invalid value encountered in arccos\n",
      "  gamma = numpy.arccos(yp.dot(c2[1]))\n",
      "Progress:  43%|████▎     | 214/500 [44:33<59:10, 12.41s/it]"
     ]
    },
    {
     "name": "stdout",
     "output_type": "stream",
     "text": [
      "Time to: Calculate Ground State - 1.01s, Get Pauli Ops - 4.46s, Calculate Pauli Expectation Values - 6.56s, Calculate Covariance - 0.21s\n",
      "f0,f1,f2 = [3.5115353742758326e-09, 3.511535374301748e-09, 3.5115353742983695e-09]\n"
     ]
    },
    {
     "name": "stderr",
     "output_type": "stream",
     "text": [
      "/cluster/home/mskrabulis/miniconda3/envs/quantech/lib/python3.9/site-packages/pyscf/symm/Dmatrix.py:156: RuntimeWarning: invalid value encountered in arccos\n",
      "  gamma = numpy.arccos(yp.dot(c2[1]))\n",
      "Progress:  43%|████▎     | 215/500 [44:46<59:16, 12.48s/it]"
     ]
    },
    {
     "name": "stdout",
     "output_type": "stream",
     "text": [
      "Time to: Calculate Ground State - 1.39s, Get Pauli Ops - 4.46s, Calculate Pauli Expectation Values - 6.57s, Calculate Covariance - 0.21s\n",
      "f0,f1,f2 = [2.6939582498166715e-09, 2.693958249838012e-09, 2.69395824983598e-09]\n"
     ]
    },
    {
     "name": "stderr",
     "output_type": "stream",
     "text": [
      "Progress:  43%|████▎     | 216/500 [44:58<59:03, 12.48s/it]"
     ]
    },
    {
     "name": "stdout",
     "output_type": "stream",
     "text": [
      "Time to: Calculate Ground State - 1.42s, Get Pauli Ops - 4.29s, Calculate Pauli Expectation Values - 6.58s, Calculate Covariance - 0.19s\n",
      "f0,f1,f2 = [2.7915575677327915e-10, 2.791557567738555e-10, 2.791557567756041e-10]\n"
     ]
    },
    {
     "name": "stderr",
     "output_type": "stream",
     "text": [
      "Progress:  43%|████▎     | 217/500 [45:11<59:12, 12.55s/it]"
     ]
    },
    {
     "name": "stdout",
     "output_type": "stream",
     "text": [
      "Time to: Calculate Ground State - 1.38s, Get Pauli Ops - 4.53s, Calculate Pauli Expectation Values - 6.65s, Calculate Covariance - 0.17s\n",
      "f0,f1,f2 = [1.069929104071265e-09, 1.0699291040543176e-09, 1.0699291040492892e-09]\n"
     ]
    },
    {
     "name": "stderr",
     "output_type": "stream",
     "text": [
      "Progress:  44%|████▎     | 218/500 [45:24<59:07, 12.58s/it]"
     ]
    },
    {
     "name": "stdout",
     "output_type": "stream",
     "text": [
      "Time to: Calculate Ground State - 1.4s, Get Pauli Ops - 4.45s, Calculate Pauli Expectation Values - 6.59s, Calculate Covariance - 0.2s\n",
      "f0,f1,f2 = [2.538576499591632e-09, 2.5385764995679564e-09, 2.538576499587666e-09]\n"
     ]
    },
    {
     "name": "stderr",
     "output_type": "stream",
     "text": [
      "Progress:  44%|████▍     | 219/500 [45:36<58:14, 12.44s/it]"
     ]
    },
    {
     "name": "stdout",
     "output_type": "stream",
     "text": [
      "Time to: Calculate Ground State - 0.83s, Get Pauli Ops - 4.4s, Calculate Pauli Expectation Values - 6.67s, Calculate Covariance - 0.2s\n",
      "f0,f1,f2 = [4.202375013166345e-09, 4.202375013166239e-09, 4.202375013168839e-09]\n"
     ]
    },
    {
     "name": "stderr",
     "output_type": "stream",
     "text": [
      "Progress:  44%|████▍     | 220/500 [45:48<57:34, 12.34s/it]"
     ]
    },
    {
     "name": "stdout",
     "output_type": "stream",
     "text": [
      "Time to: Calculate Ground State - 1.0s, Get Pauli Ops - 4.41s, Calculate Pauli Expectation Values - 6.56s, Calculate Covariance - 0.13s\n",
      "f0,f1,f2 = [4.217011536835834e-09, 4.217011536810305e-09, 4.2170115368345125e-09]\n"
     ]
    },
    {
     "name": "stderr",
     "output_type": "stream",
     "text": [
      "Progress:  44%|████▍     | 221/500 [46:00<57:24, 12.35s/it]"
     ]
    },
    {
     "name": "stdout",
     "output_type": "stream",
     "text": [
      "Time to: Calculate Ground State - 1.13s, Get Pauli Ops - 4.44s, Calculate Pauli Expectation Values - 6.67s, Calculate Covariance - 0.13s\n",
      "f0,f1,f2 = [4.592909006674131e-09, 4.592909006673692e-09, 4.592909006689897e-09]\n"
     ]
    },
    {
     "name": "stderr",
     "output_type": "stream",
     "text": [
      "Progress:  44%|████▍     | 222/500 [46:13<57:19, 12.37s/it]"
     ]
    },
    {
     "name": "stdout",
     "output_type": "stream",
     "text": [
      "Time to: Calculate Ground State - 1.29s, Get Pauli Ops - 4.39s, Calculate Pauli Expectation Values - 6.58s, Calculate Covariance - 0.18s\n",
      "f0,f1,f2 = [5.922709007296739e-09, 5.922709007304048e-09, 5.922709007293472e-09]\n"
     ]
    },
    {
     "name": "stderr",
     "output_type": "stream",
     "text": [
      "Progress:  45%|████▍     | 223/500 [46:26<58:33, 12.68s/it]"
     ]
    },
    {
     "name": "stdout",
     "output_type": "stream",
     "text": [
      "Time to: Calculate Ground State - 1.45s, Get Pauli Ops - 4.46s, Calculate Pauli Expectation Values - 7.28s, Calculate Covariance - 0.23s\n",
      "f0,f1,f2 = [5.196677984518781e-09, 5.196677984524752e-09, 5.196677984514976e-09]\n"
     ]
    },
    {
     "name": "stderr",
     "output_type": "stream",
     "text": [
      "Progress:  45%|████▍     | 224/500 [46:38<57:37, 12.53s/it]"
     ]
    },
    {
     "name": "stdout",
     "output_type": "stream",
     "text": [
      "Time to: Calculate Ground State - 1.09s, Get Pauli Ops - 4.46s, Calculate Pauli Expectation Values - 6.48s, Calculate Covariance - 0.13s\n",
      "f0,f1,f2 = [5.514045468514139e-09, 5.5140454685288286e-09, 5.514045468514036e-09]\n"
     ]
    },
    {
     "name": "stderr",
     "output_type": "stream",
     "text": [
      "Progress:  45%|████▌     | 225/500 [46:50<56:56, 12.42s/it]"
     ]
    },
    {
     "name": "stdout",
     "output_type": "stream",
     "text": [
      "Time to: Calculate Ground State - 0.97s, Get Pauli Ops - 4.47s, Calculate Pauli Expectation Values - 6.54s, Calculate Covariance - 0.2s\n",
      "f0,f1,f2 = [6.142995257767015e-09, 6.1429952577767105e-09, 6.142995257770722e-09]\n"
     ]
    },
    {
     "name": "stderr",
     "output_type": "stream",
     "text": [
      "Progress:  45%|████▌     | 226/500 [47:03<57:00, 12.48s/it]"
     ]
    },
    {
     "name": "stdout",
     "output_type": "stream",
     "text": [
      "Time to: Calculate Ground State - 1.42s, Get Pauli Ops - 4.48s, Calculate Pauli Expectation Values - 6.56s, Calculate Covariance - 0.17s\n",
      "f0,f1,f2 = [5.670602081174091e-09, 5.670602081159998e-09, 5.6706020811600604e-09]\n"
     ]
    },
    {
     "name": "stderr",
     "output_type": "stream",
     "text": [
      "Progress:  45%|████▌     | 227/500 [47:15<56:10, 12.35s/it]"
     ]
    },
    {
     "name": "stdout",
     "output_type": "stream",
     "text": [
      "Time to: Calculate Ground State - 1.4s, Get Pauli Ops - 3.83s, Calculate Pauli Expectation Values - 6.63s, Calculate Covariance - 0.16s\n",
      "f0,f1,f2 = [7.737832926467813e-09, 7.737832926453192e-09, 7.737832926474439e-09]\n"
     ]
    },
    {
     "name": "stderr",
     "output_type": "stream",
     "text": [
      "Progress:  46%|████▌     | 228/500 [47:28<56:36, 12.49s/it]"
     ]
    },
    {
     "name": "stdout",
     "output_type": "stream",
     "text": [
      "Time to: Calculate Ground State - 1.43s, Get Pauli Ops - 4.51s, Calculate Pauli Expectation Values - 6.68s, Calculate Covariance - 0.2s\n",
      "f0,f1,f2 = [6.5257301316894985e-09, 6.525730131661505e-09, 6.525730131666818e-09]\n"
     ]
    },
    {
     "name": "stderr",
     "output_type": "stream",
     "text": [
      "Progress:  46%|████▌     | 229/500 [47:41<56:32, 12.52s/it]"
     ]
    },
    {
     "name": "stdout",
     "output_type": "stream",
     "text": [
      "Time to: Calculate Ground State - 1.4s, Get Pauli Ops - 4.54s, Calculate Pauli Expectation Values - 6.48s, Calculate Covariance - 0.17s\n",
      "f0,f1,f2 = [5.710286374297535e-09, 5.710286374302312e-09, 5.71028637429789e-09]\n"
     ]
    },
    {
     "name": "stderr",
     "output_type": "stream",
     "text": [
      "/cluster/home/mskrabulis/miniconda3/envs/quantech/lib/python3.9/site-packages/pyscf/symm/Dmatrix.py:156: RuntimeWarning: invalid value encountered in arccos\n",
      "  gamma = numpy.arccos(yp.dot(c2[1]))\n",
      "Progress:  46%|████▌     | 230/500 [47:53<56:12, 12.49s/it]"
     ]
    },
    {
     "name": "stdout",
     "output_type": "stream",
     "text": [
      "Time to: Calculate Ground State - 1.41s, Get Pauli Ops - 4.49s, Calculate Pauli Expectation Values - 6.38s, Calculate Covariance - 0.14s\n",
      "f0,f1,f2 = [6.397978084667203e-09, 6.397978084668705e-09, 6.397978084660108e-09]\n"
     ]
    },
    {
     "name": "stderr",
     "output_type": "stream",
     "text": [
      "/cluster/home/mskrabulis/miniconda3/envs/quantech/lib/python3.9/site-packages/pyscf/symm/Dmatrix.py:156: RuntimeWarning: invalid value encountered in arccos\n",
      "  gamma = numpy.arccos(yp.dot(c2[1]))\n",
      "Progress:  46%|████▌     | 231/500 [48:05<55:45, 12.44s/it]"
     ]
    },
    {
     "name": "stdout",
     "output_type": "stream",
     "text": [
      "Time to: Calculate Ground State - 1.3s, Get Pauli Ops - 4.43s, Calculate Pauli Expectation Values - 6.42s, Calculate Covariance - 0.16s\n",
      "f0,f1,f2 = [6.649124553510713e-09, 6.649124553511374e-09, 6.649124553504421e-09]\n"
     ]
    },
    {
     "name": "stderr",
     "output_type": "stream",
     "text": [
      "/cluster/home/mskrabulis/miniconda3/envs/quantech/lib/python3.9/site-packages/pyscf/symm/Dmatrix.py:156: RuntimeWarning: invalid value encountered in arccos\n",
      "  gamma = numpy.arccos(yp.dot(c2[1]))\n",
      "Progress:  46%|████▋     | 232/500 [48:18<55:37, 12.45s/it]"
     ]
    },
    {
     "name": "stdout",
     "output_type": "stream",
     "text": [
      "Time to: Calculate Ground State - 1.4s, Get Pauli Ops - 4.31s, Calculate Pauli Expectation Values - 6.55s, Calculate Covariance - 0.23s\n",
      "f0,f1,f2 = [5.873477349351787e-09, 5.873477349352399e-09, 5.873477349350945e-09]\n"
     ]
    },
    {
     "name": "stderr",
     "output_type": "stream",
     "text": [
      "Progress:  47%|████▋     | 233/500 [48:30<54:51, 12.33s/it]"
     ]
    },
    {
     "name": "stdout",
     "output_type": "stream",
     "text": [
      "Time to: Calculate Ground State - 1.13s, Get Pauli Ops - 4.42s, Calculate Pauli Expectation Values - 6.35s, Calculate Covariance - 0.13s\n",
      "f0,f1,f2 = [7.489164784444491e-09, 7.489164784429986e-09, 7.489164784428495e-09]\n"
     ]
    },
    {
     "name": "stderr",
     "output_type": "stream",
     "text": [
      "/cluster/home/mskrabulis/miniconda3/envs/quantech/lib/python3.9/site-packages/pyscf/symm/Dmatrix.py:156: RuntimeWarning: invalid value encountered in arccos\n",
      "  gamma = numpy.arccos(yp.dot(c2[1]))\n",
      "Progress:  47%|████▋     | 234/500 [48:43<55:25, 12.50s/it]"
     ]
    },
    {
     "name": "stdout",
     "output_type": "stream",
     "text": [
      "Time to: Calculate Ground State - 1.29s, Get Pauli Ops - 4.69s, Calculate Pauli Expectation Values - 6.74s, Calculate Covariance - 0.19s\n",
      "f0,f1,f2 = [5.654213587143682e-09, 5.654213587146195e-09, 5.654213587151161e-09]\n"
     ]
    },
    {
     "name": "stderr",
     "output_type": "stream",
     "text": [
      "/cluster/home/mskrabulis/miniconda3/envs/quantech/lib/python3.9/site-packages/pyscf/symm/Dmatrix.py:156: RuntimeWarning: invalid value encountered in arccos\n",
      "  gamma = numpy.arccos(yp.dot(c2[1]))\n",
      "Progress:  47%|████▋     | 235/500 [48:56<56:07, 12.71s/it]"
     ]
    },
    {
     "name": "stdout",
     "output_type": "stream",
     "text": [
      "Time to: Calculate Ground State - 1.45s, Get Pauli Ops - 4.74s, Calculate Pauli Expectation Values - 6.79s, Calculate Covariance - 0.21s\n",
      "f0,f1,f2 = [6.2810748480824655e-09, 6.281074848082163e-09, 6.281074848086036e-09]\n"
     ]
    },
    {
     "name": "stderr",
     "output_type": "stream",
     "text": [
      "Progress:  47%|████▋     | 236/500 [49:09<56:38, 12.87s/it]"
     ]
    },
    {
     "name": "stdout",
     "output_type": "stream",
     "text": [
      "Time to: Calculate Ground State - 1.45s, Get Pauli Ops - 4.87s, Calculate Pauli Expectation Values - 6.7s, Calculate Covariance - 0.23s\n",
      "f0,f1,f2 = [7.251428048244371e-09, 7.251428048253173e-09, 7.251428048260097e-09]\n"
     ]
    },
    {
     "name": "stderr",
     "output_type": "stream",
     "text": [
      "Progress:  47%|████▋     | 237/500 [49:24<59:07, 13.49s/it]"
     ]
    },
    {
     "name": "stdout",
     "output_type": "stream",
     "text": [
      "Time to: Calculate Ground State - 1.56s, Get Pauli Ops - 4.39s, Calculate Pauli Expectation Values - 8.74s, Calculate Covariance - 0.23s\n",
      "f0,f1,f2 = [7.677063953823407e-09, 7.677063953811243e-09, 7.677063953808857e-09]\n"
     ]
    },
    {
     "name": "stderr",
     "output_type": "stream",
     "text": [
      "Progress:  48%|████▊     | 238/500 [49:37<57:46, 13.23s/it]"
     ]
    },
    {
     "name": "stdout",
     "output_type": "stream",
     "text": [
      "Time to: Calculate Ground State - 1.4s, Get Pauli Ops - 4.45s, Calculate Pauli Expectation Values - 6.56s, Calculate Covariance - 0.21s\n",
      "f0,f1,f2 = [7.0480924054449984e-09, 7.0480924054624925e-09, 7.048092405451139e-09]\n"
     ]
    },
    {
     "name": "stderr",
     "output_type": "stream",
     "text": [
      "/cluster/home/mskrabulis/miniconda3/envs/quantech/lib/python3.9/site-packages/pyscf/symm/Dmatrix.py:156: RuntimeWarning: invalid value encountered in arccos\n",
      "  gamma = numpy.arccos(yp.dot(c2[1]))\n",
      "Progress:  48%|████▊     | 239/500 [49:49<56:46, 13.05s/it]"
     ]
    },
    {
     "name": "stdout",
     "output_type": "stream",
     "text": [
      "Time to: Calculate Ground State - 1.41s, Get Pauli Ops - 4.51s, Calculate Pauli Expectation Values - 6.54s, Calculate Covariance - 0.19s\n",
      "f0,f1,f2 = [5.170880289071479e-09, 5.170880289076315e-09, 5.170880289074657e-09]\n"
     ]
    },
    {
     "name": "stderr",
     "output_type": "stream",
     "text": [
      "Progress:  48%|████▊     | 240/500 [50:02<55:38, 12.84s/it]"
     ]
    },
    {
     "name": "stdout",
     "output_type": "stream",
     "text": [
      "Time to: Calculate Ground State - 1.37s, Get Pauli Ops - 4.25s, Calculate Pauli Expectation Values - 6.58s, Calculate Covariance - 0.14s\n",
      "f0,f1,f2 = [6.406816377675923e-09, 6.40681637768153e-09, 6.40681637768736e-09]\n"
     ]
    },
    {
     "name": "stderr",
     "output_type": "stream",
     "text": [
      "/cluster/home/mskrabulis/miniconda3/envs/quantech/lib/python3.9/site-packages/pyscf/symm/Dmatrix.py:156: RuntimeWarning: invalid value encountered in arccos\n",
      "  gamma = numpy.arccos(yp.dot(c2[1]))\n",
      "Progress:  48%|████▊     | 241/500 [50:14<54:54, 12.72s/it]"
     ]
    },
    {
     "name": "stdout",
     "output_type": "stream",
     "text": [
      "Time to: Calculate Ground State - 1.39s, Get Pauli Ops - 4.48s, Calculate Pauli Expectation Values - 6.44s, Calculate Covariance - 0.12s\n",
      "f0,f1,f2 = [6.881181287149627e-09, 6.881181287163221e-09, 6.8811812871481374e-09]\n"
     ]
    },
    {
     "name": "stderr",
     "output_type": "stream",
     "text": [
      "Progress:  48%|████▊     | 242/500 [50:26<54:12, 12.61s/it]"
     ]
    },
    {
     "name": "stdout",
     "output_type": "stream",
     "text": [
      "Time to: Calculate Ground State - 1.07s, Get Pauli Ops - 4.45s, Calculate Pauli Expectation Values - 6.67s, Calculate Covariance - 0.16s\n",
      "f0,f1,f2 = [5.136350702580928e-09, 5.136350702569874e-09, 5.136350702571938e-09]\n"
     ]
    },
    {
     "name": "stderr",
     "output_type": "stream",
     "text": [
      "Progress:  49%|████▊     | 243/500 [50:39<54:02, 12.62s/it]"
     ]
    },
    {
     "name": "stdout",
     "output_type": "stream",
     "text": [
      "Time to: Calculate Ground State - 1.4s, Get Pauli Ops - 4.39s, Calculate Pauli Expectation Values - 6.61s, Calculate Covariance - 0.23s\n",
      "f0,f1,f2 = [6.276318492463711e-09, 6.276318492467099e-09, 6.276318492465463e-09]\n"
     ]
    },
    {
     "name": "stderr",
     "output_type": "stream",
     "text": [
      "Progress:  49%|████▉     | 244/500 [50:52<53:42, 12.59s/it]"
     ]
    },
    {
     "name": "stdout",
     "output_type": "stream",
     "text": [
      "Time to: Calculate Ground State - 1.41s, Get Pauli Ops - 4.51s, Calculate Pauli Expectation Values - 6.47s, Calculate Covariance - 0.13s\n",
      "f0,f1,f2 = [4.6644435603040635e-09, 4.664443560307752e-09, 4.6644435603212275e-09]\n"
     ]
    },
    {
     "name": "stderr",
     "output_type": "stream",
     "text": [
      "Progress:  49%|████▉     | 245/500 [51:03<52:30, 12.36s/it]"
     ]
    },
    {
     "name": "stdout",
     "output_type": "stream",
     "text": [
      "Time to: Calculate Ground State - 0.89s, Get Pauli Ops - 4.35s, Calculate Pauli Expectation Values - 6.44s, Calculate Covariance - 0.13s\n",
      "f0,f1,f2 = [6.020079033055888e-09, 6.020079033070907e-09, 6.020079033072229e-09]\n"
     ]
    },
    {
     "name": "stderr",
     "output_type": "stream",
     "text": [
      "Progress:  49%|████▉     | 246/500 [51:16<52:24, 12.38s/it]"
     ]
    },
    {
     "name": "stdout",
     "output_type": "stream",
     "text": [
      "Time to: Calculate Ground State - 1.25s, Get Pauli Ops - 4.42s, Calculate Pauli Expectation Values - 6.63s, Calculate Covariance - 0.13s\n",
      "f0,f1,f2 = [3.369014253653636e-09, 3.369014253679047e-09, 3.3690142536848223e-09]\n"
     ]
    },
    {
     "name": "stderr",
     "output_type": "stream",
     "text": [
      "/cluster/home/mskrabulis/miniconda3/envs/quantech/lib/python3.9/site-packages/pyscf/symm/Dmatrix.py:156: RuntimeWarning: invalid value encountered in arccos\n",
      "  gamma = numpy.arccos(yp.dot(c2[1]))\n",
      "Progress:  49%|████▉     | 247/500 [51:28<51:48, 12.29s/it]"
     ]
    },
    {
     "name": "stdout",
     "output_type": "stream",
     "text": [
      "Time to: Calculate Ground State - 1.1s, Get Pauli Ops - 4.35s, Calculate Pauli Expectation Values - 6.48s, Calculate Covariance - 0.13s\n",
      "f0,f1,f2 = [2.417932873538236e-09, 2.4179328735523945e-09, 2.4179328735484947e-09]\n"
     ]
    },
    {
     "name": "stderr",
     "output_type": "stream",
     "text": [
      "Progress:  50%|████▉     | 248/500 [51:41<52:19, 12.46s/it]"
     ]
    },
    {
     "name": "stdout",
     "output_type": "stream",
     "text": [
      "Time to: Calculate Ground State - 1.41s, Get Pauli Ops - 4.57s, Calculate Pauli Expectation Values - 6.67s, Calculate Covariance - 0.21s\n",
      "f0,f1,f2 = [2.845318815480986e-09, 2.8453188155092306e-09, 2.845318815501511e-09]\n"
     ]
    },
    {
     "name": "stderr",
     "output_type": "stream",
     "text": [
      "Progress:  50%|████▉     | 249/500 [51:54<52:28, 12.54s/it]"
     ]
    },
    {
     "name": "stdout",
     "output_type": "stream",
     "text": [
      "Time to: Calculate Ground State - 1.46s, Get Pauli Ops - 4.45s, Calculate Pauli Expectation Values - 6.65s, Calculate Covariance - 0.18s\n",
      "f0,f1,f2 = [5.675171237449782e-10, 5.675171237583247e-10, 5.675171237686712e-10]\n"
     ]
    },
    {
     "name": "stderr",
     "output_type": "stream",
     "text": [
      "Progress:  50%|█████     | 250/500 [52:06<52:05, 12.50s/it]"
     ]
    },
    {
     "name": "stdout",
     "output_type": "stream",
     "text": [
      "Time to: Calculate Ground State - 1.36s, Get Pauli Ops - 4.48s, Calculate Pauli Expectation Values - 6.43s, Calculate Covariance - 0.13s\n",
      "f0,f1,f2 = [2.863310878898436e-10, 2.8633108792842633e-10, 2.863310879391896e-10]\n"
     ]
    },
    {
     "name": "stderr",
     "output_type": "stream",
     "text": [
      "Progress:  50%|█████     | 251/500 [52:18<51:34, 12.43s/it]"
     ]
    },
    {
     "name": "stdout",
     "output_type": "stream",
     "text": [
      "Time to: Calculate Ground State - 0.85s, Get Pauli Ops - 4.55s, Calculate Pauli Expectation Values - 6.6s, Calculate Covariance - 0.25s\n",
      "f0,f1,f2 = [1.805205625894374e-09, 1.8052056258550176e-09, 1.8052056258522715e-09]\n"
     ]
    },
    {
     "name": "stderr",
     "output_type": "stream",
     "text": [
      "Progress:  50%|█████     | 252/500 [52:31<51:12, 12.39s/it]"
     ]
    },
    {
     "name": "stdout",
     "output_type": "stream",
     "text": [
      "Time to: Calculate Ground State - 1.19s, Get Pauli Ops - 4.41s, Calculate Pauli Expectation Values - 6.53s, Calculate Covariance - 0.16s\n",
      "f0,f1,f2 = [4.1287430243702935e-09, 4.128743024320592e-09, 4.128743024317378e-09]\n"
     ]
    },
    {
     "name": "stderr",
     "output_type": "stream",
     "text": [
      "Progress:  51%|█████     | 253/500 [52:43<50:57, 12.38s/it]"
     ]
    },
    {
     "name": "stdout",
     "output_type": "stream",
     "text": [
      "Time to: Calculate Ground State - 1.14s, Get Pauli Ops - 4.48s, Calculate Pauli Expectation Values - 6.55s, Calculate Covariance - 0.19s\n",
      "f0,f1,f2 = [5.972501418947293e-09, 5.9725014188954594e-09, 5.972501418890377e-09]\n"
     ]
    },
    {
     "name": "stderr",
     "output_type": "stream",
     "text": [
      "/cluster/home/mskrabulis/miniconda3/envs/quantech/lib/python3.9/site-packages/pyscf/symm/Dmatrix.py:156: RuntimeWarning: invalid value encountered in arccos\n",
      "  gamma = numpy.arccos(yp.dot(c2[1]))\n",
      "Progress:  51%|█████     | 254/500 [52:55<50:55, 12.42s/it]"
     ]
    },
    {
     "name": "stdout",
     "output_type": "stream",
     "text": [
      "Time to: Calculate Ground State - 1.36s, Get Pauli Ops - 4.43s, Calculate Pauli Expectation Values - 6.57s, Calculate Covariance - 0.16s\n",
      "f0,f1,f2 = [7.3329481007748e-09, 7.332948100705659e-09, 7.33294810069852e-09]\n"
     ]
    },
    {
     "name": "stderr",
     "output_type": "stream",
     "text": [
      "Progress:  51%|█████     | 255/500 [53:08<50:57, 12.48s/it]"
     ]
    },
    {
     "name": "stdout",
     "output_type": "stream",
     "text": [
      "Time to: Calculate Ground State - 1.31s, Get Pauli Ops - 4.44s, Calculate Pauli Expectation Values - 6.71s, Calculate Covariance - 0.16s\n",
      "f0,f1,f2 = [1.1411146089193142e-08, 1.1411146089123373e-08, 1.1411146089112724e-08]\n"
     ]
    },
    {
     "name": "stderr",
     "output_type": "stream",
     "text": [
      "/cluster/home/mskrabulis/miniconda3/envs/quantech/lib/python3.9/site-packages/pyscf/symm/Dmatrix.py:156: RuntimeWarning: invalid value encountered in arccos\n",
      "  gamma = numpy.arccos(yp.dot(c2[1]))\n",
      "/cluster/home/mskrabulis/miniconda3/envs/quantech/lib/python3.9/site-packages/pyscf/symm/Dmatrix.py:156: RuntimeWarning: invalid value encountered in arccos\n",
      "  gamma = numpy.arccos(yp.dot(c2[1]))\n",
      "Progress:  51%|█████     | 256/500 [53:21<51:09, 12.58s/it]"
     ]
    },
    {
     "name": "stdout",
     "output_type": "stream",
     "text": [
      "Time to: Calculate Ground State - 1.38s, Get Pauli Ops - 4.51s, Calculate Pauli Expectation Values - 6.74s, Calculate Covariance - 0.19s\n",
      "f0,f1,f2 = [1.3265533816765464e-08, 1.3265533816681462e-08, 1.3265533816677031e-08]\n"
     ]
    },
    {
     "name": "stderr",
     "output_type": "stream",
     "text": [
      "/cluster/home/mskrabulis/miniconda3/envs/quantech/lib/python3.9/site-packages/pyscf/symm/Dmatrix.py:156: RuntimeWarning: invalid value encountered in arccos\n",
      "  gamma = numpy.arccos(yp.dot(c2[1]))\n",
      "/cluster/home/mskrabulis/miniconda3/envs/quantech/lib/python3.9/site-packages/pyscf/symm/Dmatrix.py:156: RuntimeWarning: invalid value encountered in arccos\n",
      "  gamma = numpy.arccos(yp.dot(c2[1]))\n",
      "Progress:  51%|█████▏    | 257/500 [53:33<50:26, 12.45s/it]"
     ]
    },
    {
     "name": "stdout",
     "output_type": "stream",
     "text": [
      "Time to: Calculate Ground State - 0.96s, Get Pauli Ops - 4.49s, Calculate Pauli Expectation Values - 6.55s, Calculate Covariance - 0.15s\n",
      "f0,f1,f2 = [1.6186845102351608e-08, 1.6186845102251185e-08, 1.618684510225052e-08]\n"
     ]
    },
    {
     "name": "stderr",
     "output_type": "stream",
     "text": [
      "Progress:  52%|█████▏    | 258/500 [53:46<50:45, 12.58s/it]"
     ]
    },
    {
     "name": "stdout",
     "output_type": "stream",
     "text": [
      "Time to: Calculate Ground State - 1.4s, Get Pauli Ops - 4.54s, Calculate Pauli Expectation Values - 6.72s, Calculate Covariance - 0.23s\n",
      "f0,f1,f2 = [1.614888733848936e-08, 1.6148887338402836e-08, 1.614888733840034e-08]\n"
     ]
    },
    {
     "name": "stderr",
     "output_type": "stream",
     "text": [
      "Progress:  52%|█████▏    | 259/500 [53:58<50:11, 12.50s/it]"
     ]
    },
    {
     "name": "stdout",
     "output_type": "stream",
     "text": [
      "Time to: Calculate Ground State - 1.45s, Get Pauli Ops - 4.23s, Calculate Pauli Expectation Values - 6.44s, Calculate Covariance - 0.16s\n",
      "f0,f1,f2 = [1.7380139215505827e-08, 1.7380139215426623e-08, 1.738013921542134e-08]\n"
     ]
    },
    {
     "name": "stderr",
     "output_type": "stream",
     "text": [
      "/cluster/home/mskrabulis/miniconda3/envs/quantech/lib/python3.9/site-packages/pyscf/symm/Dmatrix.py:156: RuntimeWarning: invalid value encountered in arccos\n",
      "  gamma = numpy.arccos(yp.dot(c2[1]))\n",
      "Progress:  52%|█████▏    | 260/500 [54:10<49:44, 12.43s/it]"
     ]
    },
    {
     "name": "stdout",
     "output_type": "stream",
     "text": [
      "Time to: Calculate Ground State - 1.02s, Get Pauli Ops - 4.49s, Calculate Pauli Expectation Values - 6.59s, Calculate Covariance - 0.19s\n",
      "f0,f1,f2 = [1.79858642471228e-08, 1.7985864247024685e-08, 1.7985864247029816e-08]\n"
     ]
    },
    {
     "name": "stderr",
     "output_type": "stream",
     "text": [
      "/cluster/home/mskrabulis/miniconda3/envs/quantech/lib/python3.9/site-packages/pyscf/symm/Dmatrix.py:156: RuntimeWarning: invalid value encountered in arccos\n",
      "  gamma = numpy.arccos(yp.dot(c2[1]))\n",
      "Progress:  52%|█████▏    | 261/500 [54:23<49:58, 12.54s/it]"
     ]
    },
    {
     "name": "stdout",
     "output_type": "stream",
     "text": [
      "Time to: Calculate Ground State - 1.35s, Get Pauli Ops - 4.46s, Calculate Pauli Expectation Values - 6.77s, Calculate Covariance - 0.23s\n",
      "f0,f1,f2 = [1.6836001171647752e-08, 1.6836001171561332e-08, 1.6836001171559244e-08]\n"
     ]
    },
    {
     "name": "stderr",
     "output_type": "stream",
     "text": [
      "Progress:  52%|█████▏    | 262/500 [54:36<49:53, 12.58s/it]"
     ]
    },
    {
     "name": "stdout",
     "output_type": "stream",
     "text": [
      "Time to: Calculate Ground State - 1.42s, Get Pauli Ops - 4.5s, Calculate Pauli Expectation Values - 6.6s, Calculate Covariance - 0.14s\n",
      "f0,f1,f2 = [1.4033561643265402e-08, 1.4033561643212487e-08, 1.4033561643206455e-08]\n"
     ]
    },
    {
     "name": "stderr",
     "output_type": "stream",
     "text": [
      "Progress:  53%|█████▎    | 263/500 [54:48<49:35, 12.55s/it]"
     ]
    },
    {
     "name": "stdout",
     "output_type": "stream",
     "text": [
      "Time to: Calculate Ground State - 1.34s, Get Pauli Ops - 4.49s, Calculate Pauli Expectation Values - 6.51s, Calculate Covariance - 0.15s\n",
      "f0,f1,f2 = [1.1092230154850204e-08, 1.1092230154769236e-08, 1.1092230154777215e-08]\n"
     ]
    },
    {
     "name": "stderr",
     "output_type": "stream",
     "text": [
      "/cluster/home/mskrabulis/miniconda3/envs/quantech/lib/python3.9/site-packages/pyscf/symm/Dmatrix.py:156: RuntimeWarning: invalid value encountered in arccos\n",
      "  gamma = numpy.arccos(yp.dot(c2[1]))\n",
      "Progress:  53%|█████▎    | 264/500 [55:01<49:40, 12.63s/it]"
     ]
    },
    {
     "name": "stdout",
     "output_type": "stream",
     "text": [
      "Time to: Calculate Ground State - 1.41s, Get Pauli Ops - 4.5s, Calculate Pauli Expectation Values - 6.67s, Calculate Covariance - 0.21s\n",
      "f0,f1,f2 = [9.301747069766693e-09, 9.301747069708485e-09, 9.301747069713808e-09]\n"
     ]
    },
    {
     "name": "stderr",
     "output_type": "stream",
     "text": [
      "Progress:  53%|█████▎    | 265/500 [55:14<49:18, 12.59s/it]"
     ]
    },
    {
     "name": "stdout",
     "output_type": "stream",
     "text": [
      "Time to: Calculate Ground State - 1.43s, Get Pauli Ops - 4.43s, Calculate Pauli Expectation Values - 6.5s, Calculate Covariance - 0.14s\n",
      "f0,f1,f2 = [6.839397488334086e-09, 6.839397488287535e-09, 6.839397488283122e-09]\n"
     ]
    },
    {
     "name": "stderr",
     "output_type": "stream",
     "text": [
      "Progress:  53%|█████▎    | 266/500 [55:26<48:30, 12.44s/it]"
     ]
    },
    {
     "name": "stdout",
     "output_type": "stream",
     "text": [
      "Time to: Calculate Ground State - 1.04s, Get Pauli Ops - 4.35s, Calculate Pauli Expectation Values - 6.46s, Calculate Covariance - 0.23s\n",
      "f0,f1,f2 = [3.2045425435788477e-09, 3.204542543541888e-09, 3.2045425435410187e-09]\n"
     ]
    },
    {
     "name": "stderr",
     "output_type": "stream",
     "text": [
      "Progress:  53%|█████▎    | 267/500 [55:38<48:33, 12.50s/it]"
     ]
    },
    {
     "name": "stdout",
     "output_type": "stream",
     "text": [
      "Time to: Calculate Ground State - 1.36s, Get Pauli Ops - 4.48s, Calculate Pauli Expectation Values - 6.63s, Calculate Covariance - 0.19s\n",
      "f0,f1,f2 = [2.1594368505805037e-09, 2.159436850549186e-09, 2.159436850548909e-09]\n"
     ]
    },
    {
     "name": "stderr",
     "output_type": "stream",
     "text": [
      "/cluster/home/mskrabulis/miniconda3/envs/quantech/lib/python3.9/site-packages/pyscf/symm/Dmatrix.py:156: RuntimeWarning: invalid value encountered in arccos\n",
      "  gamma = numpy.arccos(yp.dot(c2[1]))\n",
      "Progress:  54%|█████▎    | 268/500 [55:51<47:50, 12.37s/it]"
     ]
    },
    {
     "name": "stdout",
     "output_type": "stream",
     "text": [
      "Time to: Calculate Ground State - 0.98s, Get Pauli Ops - 4.42s, Calculate Pauli Expectation Values - 6.53s, Calculate Covariance - 0.14s\n",
      "f0,f1,f2 = [8.332737839174964e-10, 8.332737838863455e-10, 8.332737838759396e-10]\n"
     ]
    },
    {
     "name": "stderr",
     "output_type": "stream",
     "text": [
      "Progress:  54%|█████▍    | 269/500 [56:02<47:10, 12.25s/it]"
     ]
    },
    {
     "name": "stdout",
     "output_type": "stream",
     "text": [
      "Time to: Calculate Ground State - 0.94s, Get Pauli Ops - 4.44s, Calculate Pauli Expectation Values - 6.45s, Calculate Covariance - 0.13s\n",
      "f0,f1,f2 = [5.091246828274688e-10, 5.091246828480226e-10, 5.091246828521373e-10]\n"
     ]
    },
    {
     "name": "stderr",
     "output_type": "stream",
     "text": [
      "/cluster/home/mskrabulis/miniconda3/envs/quantech/lib/python3.9/site-packages/pyscf/symm/Dmatrix.py:156: RuntimeWarning: invalid value encountered in arccos\n",
      "  gamma = numpy.arccos(yp.dot(c2[1]))\n",
      "Progress:  54%|█████▍    | 270/500 [56:15<47:21, 12.35s/it]"
     ]
    },
    {
     "name": "stdout",
     "output_type": "stream",
     "text": [
      "Time to: Calculate Ground State - 1.31s, Get Pauli Ops - 4.49s, Calculate Pauli Expectation Values - 6.64s, Calculate Covariance - 0.15s\n",
      "f0,f1,f2 = [1.5897388692320508e-09, 1.5897388692442965e-09, 1.589738869242658e-09]\n"
     ]
    },
    {
     "name": "stderr",
     "output_type": "stream",
     "text": [
      "/cluster/home/mskrabulis/miniconda3/envs/quantech/lib/python3.9/site-packages/pyscf/symm/Dmatrix.py:156: RuntimeWarning: invalid value encountered in arccos\n",
      "  gamma = numpy.arccos(yp.dot(c2[1]))\n",
      "/cluster/home/mskrabulis/miniconda3/envs/quantech/lib/python3.9/site-packages/pyscf/symm/Dmatrix.py:156: RuntimeWarning: invalid value encountered in arccos\n",
      "  gamma = numpy.arccos(yp.dot(c2[1]))\n",
      "Progress:  54%|█████▍    | 271/500 [56:27<47:00, 12.32s/it]"
     ]
    },
    {
     "name": "stdout",
     "output_type": "stream",
     "text": [
      "Time to: Calculate Ground State - 1.3s, Get Pauli Ops - 4.07s, Calculate Pauli Expectation Values - 6.72s, Calculate Covariance - 0.14s\n",
      "f0,f1,f2 = [4.543617993991979e-09, 4.543617993997819e-09, 4.543617994005043e-09]\n"
     ]
    },
    {
     "name": "stderr",
     "output_type": "stream",
     "text": [
      "Progress:  54%|█████▍    | 272/500 [56:40<47:13, 12.43s/it]"
     ]
    },
    {
     "name": "stdout",
     "output_type": "stream",
     "text": [
      "Time to: Calculate Ground State - 1.36s, Get Pauli Ops - 4.48s, Calculate Pauli Expectation Values - 6.59s, Calculate Covariance - 0.24s\n",
      "f0,f1,f2 = [4.569255603764774e-09, 4.569255603770374e-09, 4.56925560376417e-09]\n"
     ]
    },
    {
     "name": "stderr",
     "output_type": "stream",
     "text": [
      "Progress:  55%|█████▍    | 273/500 [56:53<47:12, 12.48s/it]"
     ]
    },
    {
     "name": "stdout",
     "output_type": "stream",
     "text": [
      "Time to: Calculate Ground State - 1.4s, Get Pauli Ops - 4.47s, Calculate Pauli Expectation Values - 6.58s, Calculate Covariance - 0.14s\n",
      "f0,f1,f2 = [4.649527402677623e-09, 4.6495274026941316e-09, 4.6495274026960126e-09]\n"
     ]
    },
    {
     "name": "stderr",
     "output_type": "stream",
     "text": [
      "Progress:  55%|█████▍    | 274/500 [57:05<46:51, 12.44s/it]"
     ]
    },
    {
     "name": "stdout",
     "output_type": "stream",
     "text": [
      "Time to: Calculate Ground State - 1.35s, Get Pauli Ops - 4.31s, Calculate Pauli Expectation Values - 6.56s, Calculate Covariance - 0.13s\n",
      "f0,f1,f2 = [4.990574508988819e-09, 4.990574509001262e-09, 4.990574508997179e-09]\n"
     ]
    },
    {
     "name": "stderr",
     "output_type": "stream",
     "text": [
      "Progress:  55%|█████▌    | 275/500 [57:17<46:42, 12.46s/it]"
     ]
    },
    {
     "name": "stdout",
     "output_type": "stream",
     "text": [
      "Time to: Calculate Ground State - 1.31s, Get Pauli Ops - 4.47s, Calculate Pauli Expectation Values - 6.56s, Calculate Covariance - 0.16s\n",
      "f0,f1,f2 = [4.819841660857213e-09, 4.819841660850852e-09, 4.819841660850371e-09]\n"
     ]
    },
    {
     "name": "stderr",
     "output_type": "stream",
     "text": [
      "Progress:  55%|█████▌    | 276/500 [57:30<46:07, 12.36s/it]"
     ]
    },
    {
     "name": "stdout",
     "output_type": "stream",
     "text": [
      "Time to: Calculate Ground State - 1.29s, Get Pauli Ops - 4.31s, Calculate Pauli Expectation Values - 6.39s, Calculate Covariance - 0.13s\n",
      "f0,f1,f2 = [6.833565398422222e-09, 6.833565398420566e-09, 6.833565398424729e-09]\n"
     ]
    },
    {
     "name": "stderr",
     "output_type": "stream",
     "text": [
      "Progress:  55%|█████▌    | 277/500 [57:42<45:41, 12.30s/it]"
     ]
    },
    {
     "name": "stdout",
     "output_type": "stream",
     "text": [
      "Time to: Calculate Ground State - 1.29s, Get Pauli Ops - 4.23s, Calculate Pauli Expectation Values - 6.51s, Calculate Covariance - 0.13s\n",
      "f0,f1,f2 = [6.701301277714084e-09, 6.701301277697891e-09, 6.701301277714554e-09]\n"
     ]
    },
    {
     "name": "stderr",
     "output_type": "stream",
     "text": [
      "/cluster/home/mskrabulis/miniconda3/envs/quantech/lib/python3.9/site-packages/pyscf/symm/Dmatrix.py:156: RuntimeWarning: invalid value encountered in arccos\n",
      "  gamma = numpy.arccos(yp.dot(c2[1]))\n",
      "Progress:  56%|█████▌    | 278/500 [57:54<45:38, 12.33s/it]"
     ]
    },
    {
     "name": "stdout",
     "output_type": "stream",
     "text": [
      "Time to: Calculate Ground State - 1.27s, Get Pauli Ops - 4.45s, Calculate Pauli Expectation Values - 6.56s, Calculate Covariance - 0.13s\n",
      "f0,f1,f2 = [5.9674748484671175e-09, 5.967474848473891e-09, 5.967474848470953e-09]\n"
     ]
    },
    {
     "name": "stderr",
     "output_type": "stream",
     "text": [
      "Progress:  56%|█████▌    | 279/500 [58:06<45:17, 12.30s/it]"
     ]
    },
    {
     "name": "stdout",
     "output_type": "stream",
     "text": [
      "Time to: Calculate Ground State - 1.3s, Get Pauli Ops - 4.06s, Calculate Pauli Expectation Values - 6.59s, Calculate Covariance - 0.25s\n",
      "f0,f1,f2 = [6.9881188400759594e-09, 6.988118840069279e-09, 6.988118840068791e-09]\n"
     ]
    },
    {
     "name": "stderr",
     "output_type": "stream",
     "text": [
      "/cluster/home/mskrabulis/miniconda3/envs/quantech/lib/python3.9/site-packages/pyscf/symm/Dmatrix.py:156: RuntimeWarning: invalid value encountered in arccos\n",
      "  gamma = numpy.arccos(yp.dot(c2[1]))\n",
      "Progress:  56%|█████▌    | 280/500 [58:19<45:02, 12.28s/it]"
     ]
    },
    {
     "name": "stdout",
     "output_type": "stream",
     "text": [
      "Time to: Calculate Ground State - 1.34s, Get Pauli Ops - 4.28s, Calculate Pauli Expectation Values - 6.49s, Calculate Covariance - 0.15s\n",
      "f0,f1,f2 = [6.9198384914530876e-09, 6.91983849145028e-09, 6.9198384914533e-09]\n"
     ]
    },
    {
     "name": "stderr",
     "output_type": "stream",
     "text": [
      "/cluster/home/mskrabulis/miniconda3/envs/quantech/lib/python3.9/site-packages/pyscf/symm/Dmatrix.py:156: RuntimeWarning: invalid value encountered in arccos\n",
      "  gamma = numpy.arccos(yp.dot(c2[1]))\n",
      "/cluster/home/mskrabulis/miniconda3/envs/quantech/lib/python3.9/site-packages/pyscf/symm/Dmatrix.py:156: RuntimeWarning: invalid value encountered in arccos\n",
      "  gamma = numpy.arccos(yp.dot(c2[1]))\n",
      "Progress:  56%|█████▌    | 281/500 [58:31<44:26, 12.18s/it]"
     ]
    },
    {
     "name": "stdout",
     "output_type": "stream",
     "text": [
      "Time to: Calculate Ground State - 0.81s, Get Pauli Ops - 4.42s, Calculate Pauli Expectation Values - 6.53s, Calculate Covariance - 0.16s\n",
      "f0,f1,f2 = [9.282674718908148e-09, 9.282674718918896e-09, 9.28267471891049e-09]\n"
     ]
    },
    {
     "name": "stderr",
     "output_type": "stream",
     "text": [
      "/cluster/home/mskrabulis/miniconda3/envs/quantech/lib/python3.9/site-packages/pyscf/symm/Dmatrix.py:156: RuntimeWarning: invalid value encountered in arccos\n",
      "  gamma = numpy.arccos(yp.dot(c2[1]))\n",
      "Progress:  56%|█████▋    | 282/500 [58:43<44:08, 12.15s/it]"
     ]
    },
    {
     "name": "stdout",
     "output_type": "stream",
     "text": [
      "Time to: Calculate Ground State - 1.09s, Get Pauli Ops - 4.28s, Calculate Pauli Expectation Values - 6.58s, Calculate Covariance - 0.13s\n",
      "f0,f1,f2 = [7.144367681118314e-09, 7.144367681110812e-09, 7.144367681110402e-09]\n"
     ]
    },
    {
     "name": "stderr",
     "output_type": "stream",
     "text": [
      "/cluster/home/mskrabulis/miniconda3/envs/quantech/lib/python3.9/site-packages/pyscf/symm/Dmatrix.py:156: RuntimeWarning: invalid value encountered in arccos\n",
      "  gamma = numpy.arccos(yp.dot(c2[1]))\n",
      "Progress:  57%|█████▋    | 283/500 [58:55<44:39, 12.35s/it]"
     ]
    },
    {
     "name": "stdout",
     "output_type": "stream",
     "text": [
      "Time to: Calculate Ground State - 1.41s, Get Pauli Ops - 4.67s, Calculate Pauli Expectation Values - 6.6s, Calculate Covariance - 0.14s\n",
      "f0,f1,f2 = [6.133152493170781e-09, 6.133152493164907e-09, 6.133152493168447e-09]\n"
     ]
    },
    {
     "name": "stderr",
     "output_type": "stream",
     "text": [
      "/cluster/home/mskrabulis/miniconda3/envs/quantech/lib/python3.9/site-packages/pyscf/symm/Dmatrix.py:156: RuntimeWarning: invalid value encountered in arccos\n",
      "  gamma = numpy.arccos(yp.dot(c2[1]))\n",
      "/cluster/home/mskrabulis/miniconda3/envs/quantech/lib/python3.9/site-packages/pyscf/symm/Dmatrix.py:156: RuntimeWarning: invalid value encountered in arccos\n",
      "  gamma = numpy.arccos(yp.dot(c2[1]))\n",
      "Progress:  57%|█████▋    | 284/500 [59:08<44:22, 12.33s/it]"
     ]
    },
    {
     "name": "stdout",
     "output_type": "stream",
     "text": [
      "Time to: Calculate Ground State - 1.29s, Get Pauli Ops - 4.26s, Calculate Pauli Expectation Values - 6.59s, Calculate Covariance - 0.13s\n",
      "f0,f1,f2 = [7.567021275669087e-09, 7.567021275660317e-09, 7.567021275667671e-09]\n"
     ]
    },
    {
     "name": "stderr",
     "output_type": "stream",
     "text": [
      "/cluster/home/mskrabulis/miniconda3/envs/quantech/lib/python3.9/site-packages/pyscf/symm/Dmatrix.py:156: RuntimeWarning: invalid value encountered in arccos\n",
      "  gamma = numpy.arccos(yp.dot(c2[1]))\n",
      "Progress:  57%|█████▋    | 285/500 [59:20<44:12, 12.34s/it]"
     ]
    },
    {
     "name": "stdout",
     "output_type": "stream",
     "text": [
      "Time to: Calculate Ground State - 1.3s, Get Pauli Ops - 4.51s, Calculate Pauli Expectation Values - 6.41s, Calculate Covariance - 0.14s\n",
      "f0,f1,f2 = [5.158204479662049e-09, 5.158204479672566e-09, 5.158204479669988e-09]\n"
     ]
    },
    {
     "name": "stderr",
     "output_type": "stream",
     "text": [
      "Progress:  57%|█████▋    | 286/500 [59:32<44:03, 12.35s/it]"
     ]
    },
    {
     "name": "stdout",
     "output_type": "stream",
     "text": [
      "Time to: Calculate Ground State - 1.27s, Get Pauli Ops - 4.47s, Calculate Pauli Expectation Values - 6.48s, Calculate Covariance - 0.16s\n",
      "f0,f1,f2 = [7.678869261145325e-09, 7.678869261146895e-09, 7.678869261139354e-09]\n"
     ]
    },
    {
     "name": "stderr",
     "output_type": "stream",
     "text": [
      "Progress:  57%|█████▋    | 287/500 [59:47<46:29, 13.10s/it]"
     ]
    },
    {
     "name": "stdout",
     "output_type": "stream",
     "text": [
      "Time to: Calculate Ground State - 1.18s, Get Pauli Ops - 4.79s, Calculate Pauli Expectation Values - 8.64s, Calculate Covariance - 0.23s\n",
      "f0,f1,f2 = [6.112068469871018e-09, 6.112068469867813e-09, 6.112068469862174e-09]\n"
     ]
    },
    {
     "name": "stderr",
     "output_type": "stream",
     "text": [
      "/cluster/home/mskrabulis/miniconda3/envs/quantech/lib/python3.9/site-packages/pyscf/symm/Dmatrix.py:156: RuntimeWarning: invalid value encountered in arccos\n",
      "  gamma = numpy.arccos(yp.dot(c2[1]))\n",
      "Progress:  58%|█████▊    | 288/500 [1:00:02<47:53, 13.56s/it]"
     ]
    },
    {
     "name": "stdout",
     "output_type": "stream",
     "text": [
      "Time to: Calculate Ground State - 1.47s, Get Pauli Ops - 4.42s, Calculate Pauli Expectation Values - 8.6s, Calculate Covariance - 0.13s\n",
      "f0,f1,f2 = [7.57885492954481e-09, 7.57885492955104e-09, 7.57885492955645e-09]\n"
     ]
    },
    {
     "name": "stderr",
     "output_type": "stream",
     "text": [
      "/cluster/home/mskrabulis/miniconda3/envs/quantech/lib/python3.9/site-packages/pyscf/symm/Dmatrix.py:156: RuntimeWarning: invalid value encountered in arccos\n",
      "  gamma = numpy.arccos(yp.dot(c2[1]))\n",
      "Progress:  58%|█████▊    | 289/500 [1:00:14<46:33, 13.24s/it]"
     ]
    },
    {
     "name": "stdout",
     "output_type": "stream",
     "text": [
      "Time to: Calculate Ground State - 1.39s, Get Pauli Ops - 4.49s, Calculate Pauli Expectation Values - 6.49s, Calculate Covariance - 0.14s\n",
      "f0,f1,f2 = [7.011964301506413e-09, 7.011964301507069e-09, 7.0119643015007e-09]\n"
     ]
    },
    {
     "name": "stderr",
     "output_type": "stream",
     "text": [
      "/cluster/home/mskrabulis/miniconda3/envs/quantech/lib/python3.9/site-packages/pyscf/symm/Dmatrix.py:156: RuntimeWarning: invalid value encountered in arccos\n",
      "  gamma = numpy.arccos(yp.dot(c2[1]))\n",
      "Progress:  58%|█████▊    | 290/500 [1:00:27<45:11, 12.91s/it]"
     ]
    },
    {
     "name": "stdout",
     "output_type": "stream",
     "text": [
      "Time to: Calculate Ground State - 1.01s, Get Pauli Ops - 4.39s, Calculate Pauli Expectation Values - 6.57s, Calculate Covariance - 0.18s\n",
      "f0,f1,f2 = [7.274874371162687e-09, 7.274874371154715e-09, 7.2748743711561925e-09]\n"
     ]
    },
    {
     "name": "stderr",
     "output_type": "stream",
     "text": [
      "Progress:  58%|█████▊    | 291/500 [1:00:39<44:17, 12.72s/it]"
     ]
    },
    {
     "name": "stdout",
     "output_type": "stream",
     "text": [
      "Time to: Calculate Ground State - 1.23s, Get Pauli Ops - 4.48s, Calculate Pauli Expectation Values - 6.42s, Calculate Covariance - 0.12s\n",
      "f0,f1,f2 = [5.539548983287056e-09, 5.539548983293064e-09, 5.5395489832860874e-09]\n"
     ]
    },
    {
     "name": "stderr",
     "output_type": "stream",
     "text": [
      "Progress:  58%|█████▊    | 292/500 [1:00:52<44:47, 12.92s/it]"
     ]
    },
    {
     "name": "stdout",
     "output_type": "stream",
     "text": [
      "Time to: Calculate Ground State - 1.23s, Get Pauli Ops - 4.5s, Calculate Pauli Expectation Values - 7.52s, Calculate Covariance - 0.15s\n",
      "f0,f1,f2 = [5.984444562459645e-09, 5.984444562439919e-09, 5.984444562429538e-09]\n"
     ]
    },
    {
     "name": "stderr",
     "output_type": "stream",
     "text": [
      "/cluster/home/mskrabulis/miniconda3/envs/quantech/lib/python3.9/site-packages/pyscf/symm/Dmatrix.py:156: RuntimeWarning: invalid value encountered in arccos\n",
      "  gamma = numpy.arccos(yp.dot(c2[1]))\n",
      "Progress:  59%|█████▊    | 293/500 [1:01:05<43:56, 12.74s/it]"
     ]
    },
    {
     "name": "stdout",
     "output_type": "stream",
     "text": [
      "Time to: Calculate Ground State - 1.39s, Get Pauli Ops - 4.34s, Calculate Pauli Expectation Values - 6.44s, Calculate Covariance - 0.14s\n",
      "f0,f1,f2 = [5.674639965126339e-09, 5.674639965122852e-09, 5.674639965119171e-09]\n"
     ]
    },
    {
     "name": "stderr",
     "output_type": "stream",
     "text": [
      "/cluster/home/mskrabulis/miniconda3/envs/quantech/lib/python3.9/site-packages/pyscf/symm/Dmatrix.py:156: RuntimeWarning: invalid value encountered in arccos\n",
      "  gamma = numpy.arccos(yp.dot(c2[1]))\n",
      "Progress:  59%|█████▉    | 294/500 [1:01:17<43:11, 12.58s/it]"
     ]
    },
    {
     "name": "stdout",
     "output_type": "stream",
     "text": [
      "Time to: Calculate Ground State - 1.29s, Get Pauli Ops - 4.17s, Calculate Pauli Expectation Values - 6.61s, Calculate Covariance - 0.15s\n",
      "f0,f1,f2 = [5.961085488440659e-09, 5.961085488434524e-09, 5.961085488444166e-09]\n"
     ]
    },
    {
     "name": "stderr",
     "output_type": "stream",
     "text": [
      "Progress:  59%|█████▉    | 295/500 [1:01:30<44:03, 12.90s/it]"
     ]
    },
    {
     "name": "stdout",
     "output_type": "stream",
     "text": [
      "Time to: Calculate Ground State - 1.35s, Get Pauli Ops - 4.5s, Calculate Pauli Expectation Values - 7.55s, Calculate Covariance - 0.23s\n",
      "f0,f1,f2 = [4.505359342985349e-09, 4.505359342956996e-09, 4.505359342967235e-09]\n"
     ]
    },
    {
     "name": "stderr",
     "output_type": "stream",
     "text": [
      "Progress:  59%|█████▉    | 296/500 [1:01:43<43:37, 12.83s/it]"
     ]
    },
    {
     "name": "stdout",
     "output_type": "stream",
     "text": [
      "Time to: Calculate Ground State - 1.41s, Get Pauli Ops - 4.51s, Calculate Pauli Expectation Values - 6.57s, Calculate Covariance - 0.18s\n",
      "f0,f1,f2 = [4.636453941621527e-09, 4.6364539415984e-09, 4.636453941599385e-09]\n"
     ]
    },
    {
     "name": "stderr",
     "output_type": "stream",
     "text": [
      "/cluster/home/mskrabulis/miniconda3/envs/quantech/lib/python3.9/site-packages/pyscf/symm/Dmatrix.py:156: RuntimeWarning: invalid value encountered in arccos\n",
      "  gamma = numpy.arccos(yp.dot(c2[1]))\n",
      "Progress:  59%|█████▉    | 297/500 [1:01:55<42:36, 12.59s/it]"
     ]
    },
    {
     "name": "stdout",
     "output_type": "stream",
     "text": [
      "Time to: Calculate Ground State - 0.94s, Get Pauli Ops - 4.41s, Calculate Pauli Expectation Values - 6.56s, Calculate Covariance - 0.13s\n",
      "f0,f1,f2 = [2.7802930357568815e-09, 2.7802930357336295e-09, 2.7802930357331927e-09]\n"
     ]
    },
    {
     "name": "stderr",
     "output_type": "stream",
     "text": [
      "/cluster/home/mskrabulis/miniconda3/envs/quantech/lib/python3.9/site-packages/pyscf/symm/Dmatrix.py:156: RuntimeWarning: invalid value encountered in arccos\n",
      "  gamma = numpy.arccos(yp.dot(c2[1]))\n",
      "Progress:  60%|█████▉    | 298/500 [1:02:10<44:33, 13.24s/it]"
     ]
    },
    {
     "name": "stdout",
     "output_type": "stream",
     "text": [
      "Time to: Calculate Ground State - 1.53s, Get Pauli Ops - 4.47s, Calculate Pauli Expectation Values - 8.61s, Calculate Covariance - 0.13s\n",
      "f0,f1,f2 = [2.479412504033061e-09, 2.4794125040196298e-09, 2.4794125040183878e-09]\n"
     ]
    },
    {
     "name": "stderr",
     "output_type": "stream",
     "text": [
      "Progress:  60%|█████▉    | 299/500 [1:02:24<45:35, 13.61s/it]"
     ]
    },
    {
     "name": "stdout",
     "output_type": "stream",
     "text": [
      "Time to: Calculate Ground State - 1.23s, Get Pauli Ops - 4.25s, Calculate Pauli Expectation Values - 8.83s, Calculate Covariance - 0.15s\n",
      "f0,f1,f2 = [3.6207182272213097e-09, 3.620718227199154e-09, 3.620718227191261e-09]\n"
     ]
    },
    {
     "name": "stderr",
     "output_type": "stream",
     "text": [
      "/cluster/home/mskrabulis/miniconda3/envs/quantech/lib/python3.9/site-packages/pyscf/symm/Dmatrix.py:156: RuntimeWarning: invalid value encountered in arccos\n",
      "  gamma = numpy.arccos(yp.dot(c2[1]))\n",
      "Progress:  60%|██████    | 300/500 [1:02:36<43:43, 13.12s/it]"
     ]
    },
    {
     "name": "stdout",
     "output_type": "stream",
     "text": [
      "Time to: Calculate Ground State - 0.82s, Get Pauli Ops - 4.32s, Calculate Pauli Expectation Values - 6.64s, Calculate Covariance - 0.19s\n",
      "f0,f1,f2 = [7.105266443956097e-10, 7.105266443668477e-10, 7.105266443739936e-10]\n"
     ]
    },
    {
     "name": "stderr",
     "output_type": "stream",
     "text": [
      "/cluster/home/mskrabulis/miniconda3/envs/quantech/lib/python3.9/site-packages/pyscf/symm/Dmatrix.py:156: RuntimeWarning: invalid value encountered in arccos\n",
      "  gamma = numpy.arccos(yp.dot(c2[1]))\n",
      "Progress:  60%|██████    | 301/500 [1:02:49<43:10, 13.02s/it]"
     ]
    },
    {
     "name": "stdout",
     "output_type": "stream",
     "text": [
      "Time to: Calculate Ground State - 1.44s, Get Pauli Ops - 4.5s, Calculate Pauli Expectation Values - 6.61s, Calculate Covariance - 0.23s\n",
      "f0,f1,f2 = [4.8730990528159046e-11, 4.8730990478199e-11, 4.873099048689956e-11]\n"
     ]
    },
    {
     "name": "stderr",
     "output_type": "stream",
     "text": [
      "Progress:  60%|██████    | 302/500 [1:03:02<42:38, 12.92s/it]"
     ]
    },
    {
     "name": "stdout",
     "output_type": "stream",
     "text": [
      "Time to: Calculate Ground State - 1.41s, Get Pauli Ops - 4.5s, Calculate Pauli Expectation Values - 6.65s, Calculate Covariance - 0.14s\n",
      "f0,f1,f2 = [5.272644179825291e-10, 5.272644180271571e-10, 5.272644180312225e-10]\n"
     ]
    },
    {
     "name": "stderr",
     "output_type": "stream",
     "text": [
      "/cluster/home/mskrabulis/miniconda3/envs/quantech/lib/python3.9/site-packages/pyscf/symm/Dmatrix.py:156: RuntimeWarning: invalid value encountered in arccos\n",
      "  gamma = numpy.arccos(yp.dot(c2[1]))\n",
      "Progress:  61%|██████    | 303/500 [1:03:14<42:00, 12.79s/it]"
     ]
    },
    {
     "name": "stdout",
     "output_type": "stream",
     "text": [
      "Time to: Calculate Ground State - 1.32s, Get Pauli Ops - 4.47s, Calculate Pauli Expectation Values - 6.51s, Calculate Covariance - 0.18s\n",
      "f0,f1,f2 = [3.247599820215643e-09, 3.247599820282008e-09, 3.2475998202889874e-09]\n"
     ]
    },
    {
     "name": "stderr",
     "output_type": "stream",
     "text": [
      "Progress:  61%|██████    | 304/500 [1:03:26<41:08, 12.59s/it]"
     ]
    },
    {
     "name": "stdout",
     "output_type": "stream",
     "text": [
      "Time to: Calculate Ground State - 0.95s, Get Pauli Ops - 4.52s, Calculate Pauli Expectation Values - 6.52s, Calculate Covariance - 0.13s\n",
      "f0,f1,f2 = [5.2393962942109355e-09, 5.239396294275815e-09, 5.239396294281341e-09]\n"
     ]
    },
    {
     "name": "stderr",
     "output_type": "stream",
     "text": [
      "Progress:  61%|██████    | 305/500 [1:03:39<40:46, 12.55s/it]"
     ]
    },
    {
     "name": "stdout",
     "output_type": "stream",
     "text": [
      "Time to: Calculate Ground State - 1.34s, Get Pauli Ops - 4.33s, Calculate Pauli Expectation Values - 6.63s, Calculate Covariance - 0.13s\n",
      "f0,f1,f2 = [8.024736039454703e-09, 8.024736039535993e-09, 8.024736039539133e-09]\n"
     ]
    },
    {
     "name": "stderr",
     "output_type": "stream",
     "text": [
      "Progress:  61%|██████    | 306/500 [1:03:51<40:24, 12.50s/it]"
     ]
    },
    {
     "name": "stdout",
     "output_type": "stream",
     "text": [
      "Time to: Calculate Ground State - 1.29s, Get Pauli Ops - 4.31s, Calculate Pauli Expectation Values - 6.61s, Calculate Covariance - 0.17s\n",
      "f0,f1,f2 = [8.751648204888627e-09, 8.751648204967509e-09, 8.751648204973802e-09]\n"
     ]
    },
    {
     "name": "stderr",
     "output_type": "stream",
     "text": [
      "/cluster/home/mskrabulis/miniconda3/envs/quantech/lib/python3.9/site-packages/pyscf/symm/Dmatrix.py:156: RuntimeWarning: invalid value encountered in arccos\n",
      "  gamma = numpy.arccos(yp.dot(c2[1]))\n",
      "Progress:  61%|██████▏   | 307/500 [1:04:04<40:04, 12.46s/it]"
     ]
    },
    {
     "name": "stdout",
     "output_type": "stream",
     "text": [
      "Time to: Calculate Ground State - 1.15s, Get Pauli Ops - 4.48s, Calculate Pauli Expectation Values - 6.57s, Calculate Covariance - 0.16s\n",
      "f0,f1,f2 = [1.227224881773265e-08, 1.2272248817825265e-08, 1.2272248817832325e-08]\n"
     ]
    },
    {
     "name": "stderr",
     "output_type": "stream",
     "text": [
      "/cluster/home/mskrabulis/miniconda3/envs/quantech/lib/python3.9/site-packages/pyscf/symm/Dmatrix.py:156: RuntimeWarning: invalid value encountered in arccos\n",
      "  gamma = numpy.arccos(yp.dot(c2[1]))\n",
      "Progress:  62%|██████▏   | 308/500 [1:04:16<40:06, 12.54s/it]"
     ]
    },
    {
     "name": "stdout",
     "output_type": "stream",
     "text": [
      "Time to: Calculate Ground State - 1.3s, Get Pauli Ops - 4.57s, Calculate Pauli Expectation Values - 6.7s, Calculate Covariance - 0.14s\n",
      "f0,f1,f2 = [1.6359344681407968e-08, 1.635934468151657e-08, 1.6359344681532895e-08]\n"
     ]
    },
    {
     "name": "stderr",
     "output_type": "stream",
     "text": [
      "/cluster/home/mskrabulis/miniconda3/envs/quantech/lib/python3.9/site-packages/pyscf/symm/Dmatrix.py:156: RuntimeWarning: invalid value encountered in arccos\n",
      "  gamma = numpy.arccos(yp.dot(c2[1]))\n",
      "Progress:  62%|██████▏   | 309/500 [1:04:28<39:25, 12.38s/it]"
     ]
    },
    {
     "name": "stdout",
     "output_type": "stream",
     "text": [
      "Time to: Calculate Ground State - 1.29s, Get Pauli Ops - 4.13s, Calculate Pauli Expectation Values - 6.47s, Calculate Covariance - 0.14s\n",
      "f0,f1,f2 = [1.7493148885537848e-08, 1.7493148885653207e-08, 1.749314888565975e-08]\n"
     ]
    },
    {
     "name": "stderr",
     "output_type": "stream",
     "text": [
      "Progress:  62%|██████▏   | 310/500 [1:04:41<39:04, 12.34s/it]"
     ]
    },
    {
     "name": "stdout",
     "output_type": "stream",
     "text": [
      "Time to: Calculate Ground State - 1.07s, Get Pauli Ops - 4.51s, Calculate Pauli Expectation Values - 6.52s, Calculate Covariance - 0.13s\n",
      "f0,f1,f2 = [1.7217776177990766e-08, 1.7217776178131804e-08, 1.7217776178135122e-08]\n"
     ]
    },
    {
     "name": "stderr",
     "output_type": "stream",
     "text": [
      "Progress:  62%|██████▏   | 311/500 [1:04:53<39:06, 12.41s/it]"
     ]
    },
    {
     "name": "stdout",
     "output_type": "stream",
     "text": [
      "Time to: Calculate Ground State - 1.4s, Get Pauli Ops - 4.36s, Calculate Pauli Expectation Values - 6.65s, Calculate Covariance - 0.18s\n",
      "f0,f1,f2 = [1.6898497442004513e-08, 1.6898497442105763e-08, 1.6898497442123792e-08]\n"
     ]
    },
    {
     "name": "stderr",
     "output_type": "stream",
     "text": [
      "/cluster/home/mskrabulis/miniconda3/envs/quantech/lib/python3.9/site-packages/pyscf/symm/Dmatrix.py:156: RuntimeWarning: invalid value encountered in arccos\n",
      "  gamma = numpy.arccos(yp.dot(c2[1]))\n",
      "Progress:  62%|██████▏   | 312/500 [1:05:05<38:39, 12.34s/it]"
     ]
    },
    {
     "name": "stdout",
     "output_type": "stream",
     "text": [
      "Time to: Calculate Ground State - 0.95s, Get Pauli Ops - 4.36s, Calculate Pauli Expectation Values - 6.65s, Calculate Covariance - 0.19s\n",
      "f0,f1,f2 = [1.4529628206446663e-08, 1.452962820655746e-08, 1.4529628206573552e-08]\n"
     ]
    },
    {
     "name": "stderr",
     "output_type": "stream",
     "text": [
      "Progress:  63%|██████▎   | 313/500 [1:05:18<38:40, 12.41s/it]"
     ]
    },
    {
     "name": "stdout",
     "output_type": "stream",
     "text": [
      "Time to: Calculate Ground State - 1.44s, Get Pauli Ops - 4.5s, Calculate Pauli Expectation Values - 6.51s, Calculate Covariance - 0.12s\n",
      "f0,f1,f2 = [1.4274871300405328e-08, 1.4274871300496485e-08, 1.4274871300486962e-08]\n"
     ]
    },
    {
     "name": "stderr",
     "output_type": "stream",
     "text": [
      "/cluster/home/mskrabulis/miniconda3/envs/quantech/lib/python3.9/site-packages/pyscf/symm/Dmatrix.py:156: RuntimeWarning: invalid value encountered in arccos\n",
      "  gamma = numpy.arccos(yp.dot(c2[1]))\n",
      "Progress:  63%|██████▎   | 314/500 [1:05:30<38:23, 12.39s/it]"
     ]
    },
    {
     "name": "stdout",
     "output_type": "stream",
     "text": [
      "Time to: Calculate Ground State - 1.2s, Get Pauli Ops - 4.48s, Calculate Pauli Expectation Values - 6.47s, Calculate Covariance - 0.18s\n",
      "f0,f1,f2 = [1.1578423483127369e-08, 1.1578423483221002e-08, 1.1578423483221332e-08]\n"
     ]
    },
    {
     "name": "stderr",
     "output_type": "stream",
     "text": [
      "Progress:  63%|██████▎   | 315/500 [1:05:42<37:38, 12.21s/it]"
     ]
    },
    {
     "name": "stdout",
     "output_type": "stream",
     "text": [
      "Time to: Calculate Ground State - 1.27s, Get Pauli Ops - 4.06s, Calculate Pauli Expectation Values - 6.31s, Calculate Covariance - 0.14s\n",
      "f0,f1,f2 = [9.536708854707414e-09, 9.536708854767763e-09, 9.536708854777076e-09]\n"
     ]
    },
    {
     "name": "stderr",
     "output_type": "stream",
     "text": [
      "Progress:  63%|██████▎   | 316/500 [1:05:54<37:20, 12.18s/it]"
     ]
    },
    {
     "name": "stdout",
     "output_type": "stream",
     "text": [
      "Time to: Calculate Ground State - 1.35s, Get Pauli Ops - 4.07s, Calculate Pauli Expectation Values - 6.49s, Calculate Covariance - 0.19s\n",
      "f0,f1,f2 = [6.564948828678884e-09, 6.564948828731075e-09, 6.5649488287471664e-09]\n"
     ]
    },
    {
     "name": "stderr",
     "output_type": "stream",
     "text": [
      "Progress:  63%|██████▎   | 317/500 [1:06:07<37:31, 12.30s/it]"
     ]
    },
    {
     "name": "stdout",
     "output_type": "stream",
     "text": [
      "Time to: Calculate Ground State - 1.34s, Get Pauli Ops - 4.52s, Calculate Pauli Expectation Values - 6.55s, Calculate Covariance - 0.19s\n",
      "f0,f1,f2 = [5.2938210517432676e-09, 5.293821051780951e-09, 5.293821051782704e-09]\n"
     ]
    },
    {
     "name": "stderr",
     "output_type": "stream",
     "text": [
      "Progress:  64%|██████▎   | 318/500 [1:06:19<37:08, 12.24s/it]"
     ]
    },
    {
     "name": "stdout",
     "output_type": "stream",
     "text": [
      "Time to: Calculate Ground State - 1.38s, Get Pauli Ops - 4.05s, Calculate Pauli Expectation Values - 6.54s, Calculate Covariance - 0.14s\n",
      "f0,f1,f2 = [3.3966442955613084e-09, 3.396644295603466e-09, 3.3966442956055956e-09]\n"
     ]
    },
    {
     "name": "stderr",
     "output_type": "stream",
     "text": [
      "/cluster/home/mskrabulis/miniconda3/envs/quantech/lib/python3.9/site-packages/pyscf/symm/Dmatrix.py:156: RuntimeWarning: invalid value encountered in arccos\n",
      "  gamma = numpy.arccos(yp.dot(c2[1]))\n",
      "Progress:  64%|██████▍   | 319/500 [1:06:31<37:06, 12.30s/it]"
     ]
    },
    {
     "name": "stdout",
     "output_type": "stream",
     "text": [
      "Time to: Calculate Ground State - 1.39s, Get Pauli Ops - 4.4s, Calculate Pauli Expectation Values - 6.5s, Calculate Covariance - 0.14s\n",
      "f0,f1,f2 = [1.9474969940227354e-09, 1.947496994036626e-09, 1.947496994034644e-09]\n"
     ]
    },
    {
     "name": "stderr",
     "output_type": "stream",
     "text": [
      "/cluster/home/mskrabulis/miniconda3/envs/quantech/lib/python3.9/site-packages/pyscf/symm/Dmatrix.py:156: RuntimeWarning: invalid value encountered in arccos\n",
      "  gamma = numpy.arccos(yp.dot(c2[1]))\n",
      "Progress:  64%|██████▍   | 320/500 [1:06:44<37:15, 12.42s/it]"
     ]
    },
    {
     "name": "stdout",
     "output_type": "stream",
     "text": [
      "Time to: Calculate Ground State - 1.39s, Get Pauli Ops - 4.34s, Calculate Pauli Expectation Values - 6.73s, Calculate Covariance - 0.23s\n",
      "f0,f1,f2 = [5.967647306735562e-10, 5.967647306479717e-10, 5.96764730638938e-10]\n"
     ]
    },
    {
     "name": "stderr",
     "output_type": "stream",
     "text": [
      "/cluster/home/mskrabulis/miniconda3/envs/quantech/lib/python3.9/site-packages/pyscf/symm/Dmatrix.py:156: RuntimeWarning: invalid value encountered in arccos\n",
      "  gamma = numpy.arccos(yp.dot(c2[1]))\n",
      "Progress:  64%|██████▍   | 321/500 [1:06:57<37:19, 12.51s/it]"
     ]
    },
    {
     "name": "stdout",
     "output_type": "stream",
     "text": [
      "Time to: Calculate Ground State - 1.35s, Get Pauli Ops - 4.54s, Calculate Pauli Expectation Values - 6.66s, Calculate Covariance - 0.19s\n",
      "f0,f1,f2 = [2.476853115289635e-09, 2.476853115280611e-09, 2.4768531152898326e-09]\n"
     ]
    },
    {
     "name": "stderr",
     "output_type": "stream",
     "text": [
      "Progress:  64%|██████▍   | 322/500 [1:07:09<37:18, 12.57s/it]"
     ]
    },
    {
     "name": "stdout",
     "output_type": "stream",
     "text": [
      "Time to: Calculate Ground State - 1.42s, Get Pauli Ops - 4.52s, Calculate Pauli Expectation Values - 6.62s, Calculate Covariance - 0.14s\n",
      "f0,f1,f2 = [3.3902836638554357e-09, 3.3902836638517187e-09, 3.39028366383889e-09]\n"
     ]
    },
    {
     "name": "stderr",
     "output_type": "stream",
     "text": [
      "Progress:  65%|██████▍   | 323/500 [1:07:22<36:54, 12.51s/it]"
     ]
    },
    {
     "name": "stdout",
     "output_type": "stream",
     "text": [
      "Time to: Calculate Ground State - 1.15s, Get Pauli Ops - 4.27s, Calculate Pauli Expectation Values - 6.72s, Calculate Covariance - 0.23s\n",
      "f0,f1,f2 = [4.986368532057946e-09, 4.9863685320501244e-09, 4.986368532039846e-09]\n"
     ]
    },
    {
     "name": "stderr",
     "output_type": "stream",
     "text": [
      "Progress:  65%|██████▍   | 324/500 [1:07:34<36:51, 12.56s/it]"
     ]
    },
    {
     "name": "stdout",
     "output_type": "stream",
     "text": [
      "Time to: Calculate Ground State - 1.41s, Get Pauli Ops - 4.44s, Calculate Pauli Expectation Values - 6.6s, Calculate Covariance - 0.22s\n",
      "f0,f1,f2 = [4.174149247752555e-09, 4.174149247744707e-09, 4.174149247742499e-09]\n"
     ]
    },
    {
     "name": "stderr",
     "output_type": "stream",
     "text": [
      "/cluster/home/mskrabulis/miniconda3/envs/quantech/lib/python3.9/site-packages/pyscf/symm/Dmatrix.py:156: RuntimeWarning: invalid value encountered in arccos\n",
      "  gamma = numpy.arccos(yp.dot(c2[1]))\n",
      "Progress:  65%|██████▌   | 325/500 [1:07:47<36:32, 12.53s/it]"
     ]
    },
    {
     "name": "stdout",
     "output_type": "stream",
     "text": [
      "Time to: Calculate Ground State - 1.35s, Get Pauli Ops - 4.47s, Calculate Pauli Expectation Values - 6.51s, Calculate Covariance - 0.13s\n",
      "f0,f1,f2 = [5.6515690910247254e-09, 5.651569091020255e-09, 5.651569091012e-09]\n"
     ]
    },
    {
     "name": "stderr",
     "output_type": "stream",
     "text": [
      "Progress:  65%|██████▌   | 326/500 [1:07:59<36:11, 12.48s/it]"
     ]
    },
    {
     "name": "stdout",
     "output_type": "stream",
     "text": [
      "Time to: Calculate Ground State - 1.29s, Get Pauli Ops - 4.42s, Calculate Pauli Expectation Values - 6.47s, Calculate Covariance - 0.18s\n",
      "f0,f1,f2 = [5.194426210391049e-09, 5.19442621037267e-09, 5.1944262103930805e-09]\n"
     ]
    },
    {
     "name": "stderr",
     "output_type": "stream",
     "text": [
      "Progress:  65%|██████▌   | 327/500 [1:08:12<36:06, 12.53s/it]"
     ]
    },
    {
     "name": "stdout",
     "output_type": "stream",
     "text": [
      "Time to: Calculate Ground State - 1.38s, Get Pauli Ops - 4.5s, Calculate Pauli Expectation Values - 6.61s, Calculate Covariance - 0.13s\n",
      "f0,f1,f2 = [5.2670573668640804e-09, 5.267057366863718e-09, 5.267057366869923e-09]\n"
     ]
    },
    {
     "name": "stderr",
     "output_type": "stream",
     "text": [
      "Progress:  66%|██████▌   | 328/500 [1:08:24<35:39, 12.44s/it]"
     ]
    },
    {
     "name": "stdout",
     "output_type": "stream",
     "text": [
      "Time to: Calculate Ground State - 1.42s, Get Pauli Ops - 4.15s, Calculate Pauli Expectation Values - 6.48s, Calculate Covariance - 0.18s\n",
      "f0,f1,f2 = [6.521105980770231e-09, 6.52110598076683e-09, 6.52110598077457e-09]\n"
     ]
    },
    {
     "name": "stderr",
     "output_type": "stream",
     "text": [
      "/cluster/home/mskrabulis/miniconda3/envs/quantech/lib/python3.9/site-packages/pyscf/symm/Dmatrix.py:156: RuntimeWarning: invalid value encountered in arccos\n",
      "  gamma = numpy.arccos(yp.dot(c2[1]))\n",
      "Progress:  66%|██████▌   | 329/500 [1:08:36<35:04, 12.31s/it]"
     ]
    },
    {
     "name": "stdout",
     "output_type": "stream",
     "text": [
      "Time to: Calculate Ground State - 0.93s, Get Pauli Ops - 4.44s, Calculate Pauli Expectation Values - 6.47s, Calculate Covariance - 0.15s\n",
      "f0,f1,f2 = [6.7438969148214116e-09, 6.743896914811865e-09, 6.743896914814225e-09]\n"
     ]
    },
    {
     "name": "stderr",
     "output_type": "stream",
     "text": [
      "Progress:  66%|██████▌   | 330/500 [1:08:48<34:52, 12.31s/it]"
     ]
    },
    {
     "name": "stdout",
     "output_type": "stream",
     "text": [
      "Time to: Calculate Ground State - 1.29s, Get Pauli Ops - 4.33s, Calculate Pauli Expectation Values - 6.53s, Calculate Covariance - 0.16s\n",
      "f0,f1,f2 = [5.650013613872655e-09, 5.650013613860118e-09, 5.650013613855963e-09]\n"
     ]
    },
    {
     "name": "stderr",
     "output_type": "stream",
     "text": [
      "Progress:  66%|██████▌   | 331/500 [1:09:01<34:53, 12.39s/it]"
     ]
    },
    {
     "name": "stdout",
     "output_type": "stream",
     "text": [
      "Time to: Calculate Ground State - 1.32s, Get Pauli Ops - 4.49s, Calculate Pauli Expectation Values - 6.54s, Calculate Covariance - 0.23s\n",
      "f0,f1,f2 = [7.623290508945644e-09, 7.623290508958412e-09, 7.623290508958859e-09]\n"
     ]
    },
    {
     "name": "stderr",
     "output_type": "stream",
     "text": [
      "/cluster/home/mskrabulis/miniconda3/envs/quantech/lib/python3.9/site-packages/pyscf/symm/Dmatrix.py:156: RuntimeWarning: invalid value encountered in arccos\n",
      "  gamma = numpy.arccos(yp.dot(c2[1]))\n",
      "Progress:  66%|██████▋   | 332/500 [1:09:13<34:41, 12.39s/it]"
     ]
    },
    {
     "name": "stdout",
     "output_type": "stream",
     "text": [
      "Time to: Calculate Ground State - 1.38s, Get Pauli Ops - 4.42s, Calculate Pauli Expectation Values - 6.46s, Calculate Covariance - 0.14s\n",
      "f0,f1,f2 = [5.335827659643519e-09, 5.335827659644128e-09, 5.335827659641971e-09]\n"
     ]
    },
    {
     "name": "stderr",
     "output_type": "stream",
     "text": [
      "/cluster/home/mskrabulis/miniconda3/envs/quantech/lib/python3.9/site-packages/pyscf/symm/Dmatrix.py:156: RuntimeWarning: invalid value encountered in arccos\n",
      "  gamma = numpy.arccos(yp.dot(c2[1]))\n",
      "Progress:  67%|██████▋   | 333/500 [1:09:25<34:10, 12.28s/it]"
     ]
    },
    {
     "name": "stdout",
     "output_type": "stream",
     "text": [
      "Time to: Calculate Ground State - 0.82s, Get Pauli Ops - 4.46s, Calculate Pauli Expectation Values - 6.56s, Calculate Covariance - 0.18s\n",
      "f0,f1,f2 = [6.609217512781376e-09, 6.609217512771742e-09, 6.609217512788002e-09]\n"
     ]
    },
    {
     "name": "stderr",
     "output_type": "stream",
     "text": [
      "Progress:  67%|██████▋   | 334/500 [1:09:38<34:04, 12.32s/it]"
     ]
    },
    {
     "name": "stdout",
     "output_type": "stream",
     "text": [
      "Time to: Calculate Ground State - 1.32s, Get Pauli Ops - 4.4s, Calculate Pauli Expectation Values - 6.55s, Calculate Covariance - 0.13s\n",
      "f0,f1,f2 = [6.9341464715785405e-09, 6.934146471585287e-09, 6.934146471585801e-09]\n"
     ]
    },
    {
     "name": "stderr",
     "output_type": "stream",
     "text": [
      "/cluster/home/mskrabulis/miniconda3/envs/quantech/lib/python3.9/site-packages/pyscf/symm/Dmatrix.py:156: RuntimeWarning: invalid value encountered in arccos\n",
      "  gamma = numpy.arccos(yp.dot(c2[1]))\n",
      "Progress:  67%|██████▋   | 335/500 [1:09:50<34:03, 12.38s/it]"
     ]
    },
    {
     "name": "stdout",
     "output_type": "stream",
     "text": [
      "Time to: Calculate Ground State - 1.32s, Get Pauli Ops - 4.49s, Calculate Pauli Expectation Values - 6.59s, Calculate Covariance - 0.13s\n",
      "f0,f1,f2 = [6.403258799524048e-09, 6.40325879954837e-09, 6.403258799533329e-09]\n"
     ]
    },
    {
     "name": "stderr",
     "output_type": "stream",
     "text": [
      "Progress:  67%|██████▋   | 336/500 [1:10:03<33:40, 12.32s/it]"
     ]
    },
    {
     "name": "stdout",
     "output_type": "stream",
     "text": [
      "Time to: Calculate Ground State - 0.87s, Get Pauli Ops - 4.48s, Calculate Pauli Expectation Values - 6.69s, Calculate Covariance - 0.14s\n",
      "f0,f1,f2 = [7.346540072587798e-09, 7.346540072586957e-09, 7.346540072598208e-09]\n"
     ]
    },
    {
     "name": "stderr",
     "output_type": "stream",
     "text": [
      "Progress:  67%|██████▋   | 337/500 [1:10:15<33:34, 12.36s/it]"
     ]
    },
    {
     "name": "stdout",
     "output_type": "stream",
     "text": [
      "Time to: Calculate Ground State - 1.4s, Get Pauli Ops - 4.48s, Calculate Pauli Expectation Values - 6.44s, Calculate Covariance - 0.13s\n",
      "f0,f1,f2 = [5.671754340165173e-09, 5.671754340155824e-09, 5.671754340176574e-09]\n"
     ]
    },
    {
     "name": "stderr",
     "output_type": "stream",
     "text": [
      "Progress:  68%|██████▊   | 338/500 [1:10:27<33:15, 12.32s/it]"
     ]
    },
    {
     "name": "stdout",
     "output_type": "stream",
     "text": [
      "Time to: Calculate Ground State - 0.97s, Get Pauli Ops - 4.6s, Calculate Pauli Expectation Values - 6.51s, Calculate Covariance - 0.13s\n",
      "f0,f1,f2 = [7.754369814545412e-09, 7.754369814544156e-09, 7.754369814535327e-09]\n"
     ]
    },
    {
     "name": "stderr",
     "output_type": "stream",
     "text": [
      "Progress:  68%|██████▊   | 339/500 [1:10:39<32:43, 12.20s/it]"
     ]
    },
    {
     "name": "stdout",
     "output_type": "stream",
     "text": [
      "Time to: Calculate Ground State - 0.8s, Get Pauli Ops - 4.47s, Calculate Pauli Expectation Values - 6.51s, Calculate Covariance - 0.13s\n",
      "f0,f1,f2 = [5.5852338803097705e-09, 5.5852338803187e-09, 5.5852338803227515e-09]\n"
     ]
    },
    {
     "name": "stderr",
     "output_type": "stream",
     "text": [
      "/cluster/home/mskrabulis/miniconda3/envs/quantech/lib/python3.9/site-packages/pyscf/symm/Dmatrix.py:156: RuntimeWarning: invalid value encountered in arccos\n",
      "  gamma = numpy.arccos(yp.dot(c2[1]))\n",
      "Progress:  68%|██████▊   | 340/500 [1:10:52<33:18, 12.49s/it]"
     ]
    },
    {
     "name": "stdout",
     "output_type": "stream",
     "text": [
      "Time to: Calculate Ground State - 1.46s, Get Pauli Ops - 4.35s, Calculate Pauli Expectation Values - 7.22s, Calculate Covariance - 0.14s\n",
      "f0,f1,f2 = [6.386929994506059e-09, 6.386929994520646e-09, 6.386929994511828e-09]\n"
     ]
    },
    {
     "name": "stderr",
     "output_type": "stream",
     "text": [
      "Progress:  68%|██████▊   | 341/500 [1:11:05<33:02, 12.47s/it]"
     ]
    },
    {
     "name": "stdout",
     "output_type": "stream",
     "text": [
      "Time to: Calculate Ground State - 1.33s, Get Pauli Ops - 4.43s, Calculate Pauli Expectation Values - 6.48s, Calculate Covariance - 0.17s\n",
      "f0,f1,f2 = [7.731773362290325e-09, 7.7317733622835e-09, 7.731773362290222e-09]\n"
     ]
    },
    {
     "name": "stderr",
     "output_type": "stream",
     "text": [
      "/cluster/home/mskrabulis/miniconda3/envs/quantech/lib/python3.9/site-packages/pyscf/symm/Dmatrix.py:156: RuntimeWarning: invalid value encountered in arccos\n",
      "  gamma = numpy.arccos(yp.dot(c2[1]))\n",
      "Progress:  68%|██████▊   | 342/500 [1:11:17<32:52, 12.49s/it]"
     ]
    },
    {
     "name": "stdout",
     "output_type": "stream",
     "text": [
      "Time to: Calculate Ground State - 1.35s, Get Pauli Ops - 4.43s, Calculate Pauli Expectation Values - 6.59s, Calculate Covariance - 0.15s\n",
      "f0,f1,f2 = [7.900001591622194e-09, 7.90000159162444e-09, 7.900001591613585e-09]\n"
     ]
    },
    {
     "name": "stderr",
     "output_type": "stream",
     "text": [
      "Progress:  69%|██████▊   | 343/500 [1:11:30<32:43, 12.51s/it]"
     ]
    },
    {
     "name": "stdout",
     "output_type": "stream",
     "text": [
      "Time to: Calculate Ground State - 1.33s, Get Pauli Ops - 4.45s, Calculate Pauli Expectation Values - 6.58s, Calculate Covariance - 0.19s\n",
      "f0,f1,f2 = [7.0170712017182705e-09, 7.0170712017302265e-09, 7.017071201728854e-09]\n"
     ]
    },
    {
     "name": "stderr",
     "output_type": "stream",
     "text": [
      "/cluster/home/mskrabulis/miniconda3/envs/quantech/lib/python3.9/site-packages/pyscf/symm/Dmatrix.py:156: RuntimeWarning: invalid value encountered in arccos\n",
      "  gamma = numpy.arccos(yp.dot(c2[1]))\n",
      "Progress:  69%|██████▉   | 344/500 [1:11:42<32:25, 12.47s/it]"
     ]
    },
    {
     "name": "stdout",
     "output_type": "stream",
     "text": [
      "Time to: Calculate Ground State - 1.29s, Get Pauli Ops - 4.42s, Calculate Pauli Expectation Values - 6.55s, Calculate Covariance - 0.13s\n",
      "f0,f1,f2 = [5.595492663121378e-09, 5.595492663139063e-09, 5.595492663137474e-09]\n"
     ]
    },
    {
     "name": "stderr",
     "output_type": "stream",
     "text": [
      "Progress:  69%|██████▉   | 345/500 [1:11:55<32:24, 12.54s/it]"
     ]
    },
    {
     "name": "stdout",
     "output_type": "stream",
     "text": [
      "Time to: Calculate Ground State - 1.4s, Get Pauli Ops - 4.49s, Calculate Pauli Expectation Values - 6.57s, Calculate Covariance - 0.23s\n",
      "f0,f1,f2 = [6.525865504948368e-09, 6.525865504959048e-09, 6.525865504974886e-09]\n"
     ]
    },
    {
     "name": "stderr",
     "output_type": "stream",
     "text": [
      "Progress:  69%|██████▉   | 346/500 [1:12:07<32:07, 12.52s/it]"
     ]
    },
    {
     "name": "stdout",
     "output_type": "stream",
     "text": [
      "Time to: Calculate Ground State - 1.4s, Get Pauli Ops - 4.36s, Calculate Pauli Expectation Values - 6.55s, Calculate Covariance - 0.15s\n",
      "f0,f1,f2 = [6.846866633881416e-09, 6.8468666339089686e-09, 6.846866633905711e-09]\n"
     ]
    },
    {
     "name": "stderr",
     "output_type": "stream",
     "text": [
      "Progress:  69%|██████▉   | 347/500 [1:12:20<31:50, 12.49s/it]"
     ]
    },
    {
     "name": "stdout",
     "output_type": "stream",
     "text": [
      "Time to: Calculate Ground State - 1.28s, Get Pauli Ops - 4.41s, Calculate Pauli Expectation Values - 6.56s, Calculate Covariance - 0.17s\n",
      "f0,f1,f2 = [5.527952458026504e-09, 5.527952458046381e-09, 5.527952458043191e-09]\n"
     ]
    },
    {
     "name": "stderr",
     "output_type": "stream",
     "text": [
      "Progress:  70%|██████▉   | 348/500 [1:12:32<31:33, 12.45s/it]"
     ]
    },
    {
     "name": "stdout",
     "output_type": "stream",
     "text": [
      "Time to: Calculate Ground State - 1.28s, Get Pauli Ops - 4.49s, Calculate Pauli Expectation Values - 6.47s, Calculate Covariance - 0.13s\n",
      "f0,f1,f2 = [4.143996056930825e-09, 4.143996056951796e-09, 4.143996056961283e-09]\n"
     ]
    },
    {
     "name": "stderr",
     "output_type": "stream",
     "text": [
      "/cluster/home/mskrabulis/miniconda3/envs/quantech/lib/python3.9/site-packages/pyscf/symm/Dmatrix.py:156: RuntimeWarning: invalid value encountered in arccos\n",
      "  gamma = numpy.arccos(yp.dot(c2[1]))\n",
      "Progress:  70%|██████▉   | 349/500 [1:12:45<31:38, 12.57s/it]"
     ]
    },
    {
     "name": "stdout",
     "output_type": "stream",
     "text": [
      "Time to: Calculate Ground State - 1.38s, Get Pauli Ops - 4.69s, Calculate Pauli Expectation Values - 6.54s, Calculate Covariance - 0.23s\n",
      "f0,f1,f2 = [3.87284671869789e-09, 3.8728467187342265e-09, 3.872846718730002e-09]\n"
     ]
    },
    {
     "name": "stderr",
     "output_type": "stream",
     "text": [
      "Progress:  70%|███████   | 350/500 [1:12:58<31:27, 12.59s/it]"
     ]
    },
    {
     "name": "stdout",
     "output_type": "stream",
     "text": [
      "Time to: Calculate Ground State - 1.36s, Get Pauli Ops - 4.49s, Calculate Pauli Expectation Values - 6.53s, Calculate Covariance - 0.23s\n",
      "f0,f1,f2 = [3.3574963851541244e-09, 3.3574963851960546e-09, 3.357496385184257e-09]\n"
     ]
    },
    {
     "name": "stderr",
     "output_type": "stream",
     "text": [
      "Progress:  70%|███████   | 351/500 [1:13:10<31:09, 12.55s/it]"
     ]
    },
    {
     "name": "stdout",
     "output_type": "stream",
     "text": [
      "Time to: Calculate Ground State - 1.37s, Get Pauli Ops - 4.46s, Calculate Pauli Expectation Values - 6.49s, Calculate Covariance - 0.14s\n",
      "f0,f1,f2 = [1.1452267626312878e-09, 1.1452267626593565e-09, 1.145226762657685e-09]\n"
     ]
    },
    {
     "name": "stderr",
     "output_type": "stream",
     "text": [
      "Progress:  70%|███████   | 352/500 [1:13:22<30:40, 12.43s/it]"
     ]
    },
    {
     "name": "stdout",
     "output_type": "stream",
     "text": [
      "Time to: Calculate Ground State - 1.39s, Get Pauli Ops - 4.03s, Calculate Pauli Expectation Values - 6.61s, Calculate Covariance - 0.14s\n",
      "f0,f1,f2 = [1.8487229067719164e-09, 1.848722906804371e-09, 1.8487229067957965e-09]\n"
     ]
    },
    {
     "name": "stderr",
     "output_type": "stream",
     "text": [
      "Progress:  71%|███████   | 353/500 [1:13:35<30:36, 12.49s/it]"
     ]
    },
    {
     "name": "stdout",
     "output_type": "stream",
     "text": [
      "Time to: Calculate Ground State - 1.37s, Get Pauli Ops - 4.48s, Calculate Pauli Expectation Values - 6.59s, Calculate Covariance - 0.19s\n",
      "f0,f1,f2 = [1.233529203590898e-09, 1.2335292035446355e-09, 1.2335292035394144e-09]\n"
     ]
    },
    {
     "name": "stderr",
     "output_type": "stream",
     "text": [
      "/cluster/home/mskrabulis/miniconda3/envs/quantech/lib/python3.9/site-packages/pyscf/symm/Dmatrix.py:156: RuntimeWarning: invalid value encountered in arccos\n",
      "  gamma = numpy.arccos(yp.dot(c2[1]))\n",
      "Progress:  71%|███████   | 354/500 [1:13:47<30:26, 12.51s/it]"
     ]
    },
    {
     "name": "stdout",
     "output_type": "stream",
     "text": [
      "Time to: Calculate Ground State - 1.45s, Get Pauli Ops - 4.39s, Calculate Pauli Expectation Values - 6.58s, Calculate Covariance - 0.13s\n",
      "f0,f1,f2 = [1.6010214273595738e-09, 1.6010214272993524e-09, 1.601021427307567e-09]\n"
     ]
    },
    {
     "name": "stderr",
     "output_type": "stream",
     "text": [
      "/cluster/home/mskrabulis/miniconda3/envs/quantech/lib/python3.9/site-packages/pyscf/symm/Dmatrix.py:156: RuntimeWarning: invalid value encountered in arccos\n",
      "  gamma = numpy.arccos(yp.dot(c2[1]))\n",
      "Progress:  71%|███████   | 355/500 [1:14:00<30:20, 12.55s/it]"
     ]
    },
    {
     "name": "stdout",
     "output_type": "stream",
     "text": [
      "Time to: Calculate Ground State - 1.33s, Get Pauli Ops - 4.51s, Calculate Pauli Expectation Values - 6.65s, Calculate Covariance - 0.16s\n",
      "f0,f1,f2 = [3.6020816505725473e-09, 3.60208165051481e-09, 3.6020816505122756e-09]\n"
     ]
    },
    {
     "name": "stderr",
     "output_type": "stream",
     "text": [
      "Progress:  71%|███████   | 356/500 [1:14:12<29:52, 12.45s/it]"
     ]
    },
    {
     "name": "stdout",
     "output_type": "stream",
     "text": [
      "Time to: Calculate Ground State - 0.94s, Get Pauli Ops - 4.47s, Calculate Pauli Expectation Values - 6.57s, Calculate Covariance - 0.22s\n",
      "f0,f1,f2 = [7.059756399785563e-09, 7.05975639972479e-09, 7.059756399717476e-09]\n"
     ]
    },
    {
     "name": "stderr",
     "output_type": "stream",
     "text": [
      "/cluster/home/mskrabulis/miniconda3/envs/quantech/lib/python3.9/site-packages/pyscf/symm/Dmatrix.py:156: RuntimeWarning: invalid value encountered in arccos\n",
      "  gamma = numpy.arccos(yp.dot(c2[1]))\n",
      "Progress:  71%|███████▏  | 357/500 [1:14:24<29:28, 12.37s/it]"
     ]
    },
    {
     "name": "stdout",
     "output_type": "stream",
     "text": [
      "Time to: Calculate Ground State - 1.42s, Get Pauli Ops - 4.1s, Calculate Pauli Expectation Values - 6.54s, Calculate Covariance - 0.13s\n",
      "f0,f1,f2 = [9.040914965880984e-09, 9.040914965788254e-09, 9.040914965778366e-09]\n"
     ]
    },
    {
     "name": "stderr",
     "output_type": "stream",
     "text": [
      "Progress:  72%|███████▏  | 358/500 [1:14:37<29:27, 12.45s/it]"
     ]
    },
    {
     "name": "stdout",
     "output_type": "stream",
     "text": [
      "Time to: Calculate Ground State - 1.4s, Get Pauli Ops - 4.48s, Calculate Pauli Expectation Values - 6.63s, Calculate Covariance - 0.13s\n",
      "f0,f1,f2 = [1.2154000898800321e-08, 1.2154000898694672e-08, 1.2154000898706246e-08]\n"
     ]
    },
    {
     "name": "stderr",
     "output_type": "stream",
     "text": [
      "Progress:  72%|███████▏  | 359/500 [1:14:50<29:20, 12.48s/it]"
     ]
    },
    {
     "name": "stdout",
     "output_type": "stream",
     "text": [
      "Time to: Calculate Ground State - 1.31s, Get Pauli Ops - 4.49s, Calculate Pauli Expectation Values - 6.53s, Calculate Covariance - 0.23s\n",
      "f0,f1,f2 = [1.3110308961378994e-08, 1.3110308961261794e-08, 1.3110308961268775e-08]\n"
     ]
    },
    {
     "name": "stderr",
     "output_type": "stream",
     "text": [
      "Progress:  72%|███████▏  | 360/500 [1:15:02<28:45, 12.33s/it]"
     ]
    },
    {
     "name": "stdout",
     "output_type": "stream",
     "text": [
      "Time to: Calculate Ground State - 1.34s, Get Pauli Ops - 3.96s, Calculate Pauli Expectation Values - 6.52s, Calculate Covariance - 0.13s\n",
      "f0,f1,f2 = [1.60236630159325e-08, 1.602366301579032e-08, 1.602366301576641e-08]\n"
     ]
    },
    {
     "name": "stderr",
     "output_type": "stream",
     "text": [
      "/cluster/home/mskrabulis/miniconda3/envs/quantech/lib/python3.9/site-packages/pyscf/symm/Dmatrix.py:156: RuntimeWarning: invalid value encountered in arccos\n",
      "  gamma = numpy.arccos(yp.dot(c2[1]))\n",
      "Progress:  72%|███████▏  | 361/500 [1:15:14<28:41, 12.39s/it]"
     ]
    },
    {
     "name": "stdout",
     "output_type": "stream",
     "text": [
      "Time to: Calculate Ground State - 1.24s, Get Pauli Ops - 4.43s, Calculate Pauli Expectation Values - 6.67s, Calculate Covariance - 0.19s\n",
      "f0,f1,f2 = [1.6502478031103782e-08, 1.6502478030978756e-08, 1.650247803094771e-08]\n"
     ]
    },
    {
     "name": "stderr",
     "output_type": "stream",
     "text": [
      "Progress:  72%|███████▏  | 362/500 [1:15:27<28:28, 12.38s/it]"
     ]
    },
    {
     "name": "stdout",
     "output_type": "stream",
     "text": [
      "Time to: Calculate Ground State - 1.29s, Get Pauli Ops - 4.3s, Calculate Pauli Expectation Values - 6.62s, Calculate Covariance - 0.13s\n",
      "f0,f1,f2 = [1.7758584651563624e-08, 1.7758584651423662e-08, 1.7758584651415512e-08]\n"
     ]
    },
    {
     "name": "stderr",
     "output_type": "stream",
     "text": [
      "Progress:  73%|███████▎  | 363/500 [1:15:39<28:10, 12.34s/it]"
     ]
    },
    {
     "name": "stdout",
     "output_type": "stream",
     "text": [
      "Time to: Calculate Ground State - 1.27s, Get Pauli Ops - 4.32s, Calculate Pauli Expectation Values - 6.53s, Calculate Covariance - 0.13s\n",
      "f0,f1,f2 = [1.59645142049545e-08, 1.5964514204820688e-08, 1.5964514204814203e-08]\n"
     ]
    },
    {
     "name": "stderr",
     "output_type": "stream",
     "text": [
      "/cluster/home/mskrabulis/miniconda3/envs/quantech/lib/python3.9/site-packages/pyscf/symm/Dmatrix.py:156: RuntimeWarning: invalid value encountered in arccos\n",
      "  gamma = numpy.arccos(yp.dot(c2[1]))\n",
      "Progress:  73%|███████▎  | 364/500 [1:15:51<28:08, 12.42s/it]"
     ]
    },
    {
     "name": "stdout",
     "output_type": "stream",
     "text": [
      "Time to: Calculate Ground State - 1.4s, Get Pauli Ops - 4.49s, Calculate Pauli Expectation Values - 6.54s, Calculate Covariance - 0.17s\n",
      "f0,f1,f2 = [1.573290512910031e-08, 1.5732905128994977e-08, 1.5732905128972197e-08]\n"
     ]
    },
    {
     "name": "stderr",
     "output_type": "stream",
     "text": [
      "Progress:  73%|███████▎  | 365/500 [1:16:03<27:44, 12.33s/it]"
     ]
    },
    {
     "name": "stdout",
     "output_type": "stream",
     "text": [
      "Time to: Calculate Ground State - 0.91s, Get Pauli Ops - 4.53s, Calculate Pauli Expectation Values - 6.52s, Calculate Covariance - 0.17s\n",
      "f0,f1,f2 = [1.3326840466845479e-08, 1.3326840466731687e-08, 1.3326840466736015e-08]\n"
     ]
    },
    {
     "name": "stderr",
     "output_type": "stream",
     "text": [
      "Progress:  73%|███████▎  | 366/500 [1:16:16<27:32, 12.33s/it]"
     ]
    },
    {
     "name": "stdout",
     "output_type": "stream",
     "text": [
      "Time to: Calculate Ground State - 1.31s, Get Pauli Ops - 4.3s, Calculate Pauli Expectation Values - 6.59s, Calculate Covariance - 0.13s\n",
      "f0,f1,f2 = [1.0545253167630365e-08, 1.0545253167545027e-08, 1.0545253167554495e-08]\n"
     ]
    },
    {
     "name": "stderr",
     "output_type": "stream",
     "text": [
      "/cluster/home/mskrabulis/miniconda3/envs/quantech/lib/python3.9/site-packages/pyscf/symm/Dmatrix.py:156: RuntimeWarning: invalid value encountered in arccos\n",
      "  gamma = numpy.arccos(yp.dot(c2[1]))\n",
      "Progress:  73%|███████▎  | 367/500 [1:16:28<27:26, 12.38s/it]"
     ]
    },
    {
     "name": "stdout",
     "output_type": "stream",
     "text": [
      "Time to: Calculate Ground State - 1.29s, Get Pauli Ops - 4.31s, Calculate Pauli Expectation Values - 6.68s, Calculate Covariance - 0.2s\n",
      "f0,f1,f2 = [8.038382337597693e-09, 8.038382337503323e-09, 8.038382337500875e-09]\n"
     ]
    },
    {
     "name": "stderr",
     "output_type": "stream",
     "text": [
      "/cluster/home/mskrabulis/miniconda3/envs/quantech/lib/python3.9/site-packages/pyscf/symm/Dmatrix.py:156: RuntimeWarning: invalid value encountered in arccos\n",
      "  gamma = numpy.arccos(yp.dot(c2[1]))\n",
      "Progress:  74%|███████▎  | 368/500 [1:16:41<27:15, 12.39s/it]"
     ]
    },
    {
     "name": "stdout",
     "output_type": "stream",
     "text": [
      "Time to: Calculate Ground State - 1.38s, Get Pauli Ops - 4.37s, Calculate Pauli Expectation Values - 6.5s, Calculate Covariance - 0.16s\n",
      "f0,f1,f2 = [5.291484777714918e-09, 5.291484777645575e-09, 5.2914847776399985e-09]\n"
     ]
    },
    {
     "name": "stderr",
     "output_type": "stream",
     "text": [
      "Progress:  74%|███████▍  | 369/500 [1:16:55<28:19, 12.97s/it]"
     ]
    },
    {
     "name": "stdout",
     "output_type": "stream",
     "text": [
      "Time to: Calculate Ground State - 1.48s, Get Pauli Ops - 4.09s, Calculate Pauli Expectation Values - 8.63s, Calculate Covariance - 0.13s\n",
      "f0,f1,f2 = [5.867101777637847e-09, 5.86710177758716e-09, 5.8671017775786755e-09]\n"
     ]
    },
    {
     "name": "stderr",
     "output_type": "stream",
     "text": [
      "Progress:  74%|███████▍  | 370/500 [1:17:07<27:41, 12.78s/it]"
     ]
    },
    {
     "name": "stdout",
     "output_type": "stream",
     "text": [
      "Time to: Calculate Ground State - 1.05s, Get Pauli Ops - 4.54s, Calculate Pauli Expectation Values - 6.56s, Calculate Covariance - 0.18s\n",
      "f0,f1,f2 = [2.9422616850864198e-09, 2.942261685056332e-09, 2.9422616850517613e-09]\n"
     ]
    },
    {
     "name": "stderr",
     "output_type": "stream",
     "text": [
      "Progress:  74%|███████▍  | 371/500 [1:17:20<27:10, 12.64s/it]"
     ]
    },
    {
     "name": "stdout",
     "output_type": "stream",
     "text": [
      "Time to: Calculate Ground State - 0.92s, Get Pauli Ops - 4.6s, Calculate Pauli Expectation Values - 6.67s, Calculate Covariance - 0.12s\n",
      "f0,f1,f2 = [4.071068649354844e-10, 4.0710686489888213e-10, 4.071068648927199e-10]\n"
     ]
    },
    {
     "name": "stderr",
     "output_type": "stream",
     "text": [
      "/cluster/home/mskrabulis/miniconda3/envs/quantech/lib/python3.9/site-packages/pyscf/symm/Dmatrix.py:156: RuntimeWarning: invalid value encountered in arccos\n",
      "  gamma = numpy.arccos(yp.dot(c2[1]))\n",
      "Progress:  74%|███████▍  | 372/500 [1:17:32<26:37, 12.48s/it]"
     ]
    },
    {
     "name": "stdout",
     "output_type": "stream",
     "text": [
      "Time to: Calculate Ground State - 0.8s, Get Pauli Ops - 4.4s, Calculate Pauli Expectation Values - 6.67s, Calculate Covariance - 0.23s\n",
      "f0,f1,f2 = [5.5949658999725636e-11, 5.5949658981919436e-11, 5.594965896953152e-11]\n"
     ]
    },
    {
     "name": "stderr",
     "output_type": "stream",
     "text": [
      "Progress:  75%|███████▍  | 373/500 [1:17:45<26:34, 12.55s/it]"
     ]
    },
    {
     "name": "stdout",
     "output_type": "stream",
     "text": [
      "Time to: Calculate Ground State - 1.4s, Get Pauli Ops - 4.48s, Calculate Pauli Expectation Values - 6.62s, Calculate Covariance - 0.23s\n",
      "f0,f1,f2 = [2.572199468651577e-09, 2.572199468656491e-09, 2.57219946866044e-09]\n"
     ]
    },
    {
     "name": "stderr",
     "output_type": "stream",
     "text": [
      "Progress:  75%|███████▍  | 374/500 [1:17:57<26:15, 12.50s/it]"
     ]
    },
    {
     "name": "stdout",
     "output_type": "stream",
     "text": [
      "Time to: Calculate Ground State - 1.34s, Get Pauli Ops - 4.3s, Calculate Pauli Expectation Values - 6.52s, Calculate Covariance - 0.22s\n",
      "f0,f1,f2 = [2.7728823510997225e-09, 2.7728823511160374e-09, 2.7728823511094928e-09]\n"
     ]
    },
    {
     "name": "stderr",
     "output_type": "stream",
     "text": [
      "Progress:  75%|███████▌  | 375/500 [1:18:09<26:01, 12.49s/it]"
     ]
    },
    {
     "name": "stdout",
     "output_type": "stream",
     "text": [
      "Time to: Calculate Ground State - 1.4s, Get Pauli Ops - 4.44s, Calculate Pauli Expectation Values - 6.49s, Calculate Covariance - 0.13s\n",
      "f0,f1,f2 = [4.839030652014746e-09, 4.83903065201482e-09, 4.839030652023839e-09]\n"
     ]
    },
    {
     "name": "stderr",
     "output_type": "stream",
     "text": [
      "/cluster/home/mskrabulis/miniconda3/envs/quantech/lib/python3.9/site-packages/pyscf/symm/Dmatrix.py:156: RuntimeWarning: invalid value encountered in arccos\n",
      "  gamma = numpy.arccos(yp.dot(c2[1]))\n",
      "Progress:  75%|███████▌  | 376/500 [1:18:22<25:52, 12.52s/it]"
     ]
    },
    {
     "name": "stdout",
     "output_type": "stream",
     "text": [
      "Time to: Calculate Ground State - 1.32s, Get Pauli Ops - 4.45s, Calculate Pauli Expectation Values - 6.59s, Calculate Covariance - 0.23s\n",
      "f0,f1,f2 = [5.372211803270154e-09, 5.372211803281346e-09, 5.372211803282128e-09]\n"
     ]
    },
    {
     "name": "stderr",
     "output_type": "stream",
     "text": [
      "Progress:  75%|███████▌  | 377/500 [1:18:34<25:34, 12.47s/it]"
     ]
    },
    {
     "name": "stdout",
     "output_type": "stream",
     "text": [
      "Time to: Calculate Ground State - 1.13s, Get Pauli Ops - 4.43s, Calculate Pauli Expectation Values - 6.6s, Calculate Covariance - 0.21s\n",
      "f0,f1,f2 = [4.599647235979917e-09, 4.599647235974531e-09, 4.599647235969434e-09]\n"
     ]
    },
    {
     "name": "stderr",
     "output_type": "stream",
     "text": [
      "/cluster/home/mskrabulis/miniconda3/envs/quantech/lib/python3.9/site-packages/pyscf/symm/Dmatrix.py:156: RuntimeWarning: invalid value encountered in arccos\n",
      "  gamma = numpy.arccos(yp.dot(c2[1]))\n",
      "Progress:  76%|███████▌  | 378/500 [1:18:47<25:13, 12.41s/it]"
     ]
    },
    {
     "name": "stdout",
     "output_type": "stream",
     "text": [
      "Time to: Calculate Ground State - 1.41s, Get Pauli Ops - 4.28s, Calculate Pauli Expectation Values - 6.42s, Calculate Covariance - 0.14s\n",
      "f0,f1,f2 = [6.298754459492945e-09, 6.298754459499698e-09, 6.298754459506731e-09]\n"
     ]
    },
    {
     "name": "stderr",
     "output_type": "stream",
     "text": [
      "Progress:  76%|███████▌  | 379/500 [1:18:59<25:02, 12.42s/it]"
     ]
    },
    {
     "name": "stdout",
     "output_type": "stream",
     "text": [
      "Time to: Calculate Ground State - 1.18s, Get Pauli Ops - 4.61s, Calculate Pauli Expectation Values - 6.49s, Calculate Covariance - 0.15s\n",
      "f0,f1,f2 = [7.058631012504322e-09, 7.0586310125306195e-09, 7.0586310125192904e-09]\n"
     ]
    },
    {
     "name": "stderr",
     "output_type": "stream",
     "text": [
      "Progress:  76%|███████▌  | 380/500 [1:19:11<24:50, 12.42s/it]"
     ]
    },
    {
     "name": "stdout",
     "output_type": "stream",
     "text": [
      "Time to: Calculate Ground State - 1.34s, Get Pauli Ops - 4.44s, Calculate Pauli Expectation Values - 6.52s, Calculate Covariance - 0.14s\n",
      "f0,f1,f2 = [7.021537784179174e-09, 7.021537784167807e-09, 7.021537784170727e-09]\n"
     ]
    },
    {
     "name": "stderr",
     "output_type": "stream",
     "text": [
      "Progress:  76%|███████▌  | 381/500 [1:19:23<24:19, 12.26s/it]"
     ]
    },
    {
     "name": "stdout",
     "output_type": "stream",
     "text": [
      "Time to: Calculate Ground State - 1.29s, Get Pauli Ops - 3.9s, Calculate Pauli Expectation Values - 6.58s, Calculate Covariance - 0.13s\n",
      "f0,f1,f2 = [6.385556595771549e-09, 6.385556595781632e-09, 6.385556595781777e-09]\n"
     ]
    },
    {
     "name": "stderr",
     "output_type": "stream",
     "text": [
      "Progress:  76%|███████▋  | 382/500 [1:19:36<24:19, 12.37s/it]"
     ]
    },
    {
     "name": "stdout",
     "output_type": "stream",
     "text": [
      "Time to: Calculate Ground State - 1.29s, Get Pauli Ops - 4.48s, Calculate Pauli Expectation Values - 6.7s, Calculate Covariance - 0.16s\n",
      "f0,f1,f2 = [5.495828367589629e-09, 5.49582836759599e-09, 5.4958283675966e-09]\n"
     ]
    },
    {
     "name": "stderr",
     "output_type": "stream",
     "text": [
      "Progress:  77%|███████▋  | 383/500 [1:19:48<23:55, 12.27s/it]"
     ]
    },
    {
     "name": "stdout",
     "output_type": "stream",
     "text": [
      "Time to: Calculate Ground State - 0.84s, Get Pauli Ops - 4.46s, Calculate Pauli Expectation Values - 6.59s, Calculate Covariance - 0.13s\n",
      "f0,f1,f2 = [6.783164036739426e-09, 6.78316403672867e-09, 6.783164036735274e-09]\n"
     ]
    },
    {
     "name": "stderr",
     "output_type": "stream",
     "text": [
      "Progress:  77%|███████▋  | 384/500 [1:20:01<23:53, 12.36s/it]"
     ]
    },
    {
     "name": "stdout",
     "output_type": "stream",
     "text": [
      "Time to: Calculate Ground State - 1.44s, Get Pauli Ops - 4.47s, Calculate Pauli Expectation Values - 6.52s, Calculate Covariance - 0.14s\n",
      "f0,f1,f2 = [6.321598550792072e-09, 6.3215985507876634e-09, 6.32159855078126e-09]\n"
     ]
    },
    {
     "name": "stderr",
     "output_type": "stream",
     "text": [
      "Progress:  77%|███████▋  | 385/500 [1:20:13<23:45, 12.40s/it]"
     ]
    },
    {
     "name": "stdout",
     "output_type": "stream",
     "text": [
      "Time to: Calculate Ground State - 1.32s, Get Pauli Ops - 4.4s, Calculate Pauli Expectation Values - 6.63s, Calculate Covariance - 0.13s\n",
      "f0,f1,f2 = [6.235041472345598e-09, 6.235041472341874e-09, 6.235041472350997e-09]\n"
     ]
    },
    {
     "name": "stderr",
     "output_type": "stream",
     "text": [
      "/cluster/home/mskrabulis/miniconda3/envs/quantech/lib/python3.9/site-packages/pyscf/symm/Dmatrix.py:156: RuntimeWarning: invalid value encountered in arccos\n",
      "  gamma = numpy.arccos(yp.dot(c2[1]))\n",
      "Progress:  77%|███████▋  | 386/500 [1:20:25<23:33, 12.40s/it]"
     ]
    },
    {
     "name": "stdout",
     "output_type": "stream",
     "text": [
      "Time to: Calculate Ground State - 1.31s, Get Pauli Ops - 4.47s, Calculate Pauli Expectation Values - 6.46s, Calculate Covariance - 0.15s\n",
      "f0,f1,f2 = [5.6650383543690865e-09, 5.665038354371955e-09, 5.665038354381523e-09]\n"
     ]
    },
    {
     "name": "stderr",
     "output_type": "stream",
     "text": [
      "/cluster/home/mskrabulis/miniconda3/envs/quantech/lib/python3.9/site-packages/pyscf/symm/Dmatrix.py:156: RuntimeWarning: invalid value encountered in arccos\n",
      "  gamma = numpy.arccos(yp.dot(c2[1]))\n",
      "Progress:  77%|███████▋  | 387/500 [1:20:38<23:23, 12.42s/it]"
     ]
    },
    {
     "name": "stdout",
     "output_type": "stream",
     "text": [
      "Time to: Calculate Ground State - 1.42s, Get Pauli Ops - 4.43s, Calculate Pauli Expectation Values - 6.47s, Calculate Covariance - 0.17s\n",
      "f0,f1,f2 = [6.104858461684899e-09, 6.104858461695643e-09, 6.104858461698135e-09]\n"
     ]
    },
    {
     "name": "stderr",
     "output_type": "stream",
     "text": [
      "Progress:  78%|███████▊  | 388/500 [1:20:50<23:10, 12.42s/it]"
     ]
    },
    {
     "name": "stdout",
     "output_type": "stream",
     "text": [
      "Time to: Calculate Ground State - 1.33s, Get Pauli Ops - 4.43s, Calculate Pauli Expectation Values - 6.5s, Calculate Covariance - 0.13s\n",
      "f0,f1,f2 = [7.111790302683942e-09, 7.111790302682496e-09, 7.111790302675043e-09]\n"
     ]
    },
    {
     "name": "stderr",
     "output_type": "stream",
     "text": [
      "/cluster/home/mskrabulis/miniconda3/envs/quantech/lib/python3.9/site-packages/pyscf/symm/Dmatrix.py:156: RuntimeWarning: invalid value encountered in arccos\n",
      "  gamma = numpy.arccos(yp.dot(c2[1]))\n",
      "Progress:  78%|███████▊  | 389/500 [1:21:02<22:45, 12.30s/it]"
     ]
    },
    {
     "name": "stdout",
     "output_type": "stream",
     "text": [
      "Time to: Calculate Ground State - 0.81s, Get Pauli Ops - 4.49s, Calculate Pauli Expectation Values - 6.54s, Calculate Covariance - 0.19s\n",
      "f0,f1,f2 = [5.188289353954479e-09, 5.18828935396054e-09, 5.188289353956214e-09]\n"
     ]
    },
    {
     "name": "stderr",
     "output_type": "stream",
     "text": [
      "Progress:  78%|███████▊  | 390/500 [1:21:18<24:06, 13.15s/it]"
     ]
    },
    {
     "name": "stdout",
     "output_type": "stream",
     "text": [
      "Time to: Calculate Ground State - 1.67s, Get Pauli Ops - 4.5s, Calculate Pauli Expectation Values - 8.8s, Calculate Covariance - 0.16s\n",
      "f0,f1,f2 = [6.899729323586171e-09, 6.8997293235783585e-09, 6.8997293235753476e-09]\n"
     ]
    },
    {
     "name": "stderr",
     "output_type": "stream",
     "text": [
      "Progress:  78%|███████▊  | 391/500 [1:21:30<23:27, 12.92s/it]"
     ]
    },
    {
     "name": "stdout",
     "output_type": "stream",
     "text": [
      "Time to: Calculate Ground State - 1.19s, Get Pauli Ops - 4.48s, Calculate Pauli Expectation Values - 6.57s, Calculate Covariance - 0.13s\n",
      "f0,f1,f2 = [5.944087026305406e-09, 5.944087026293123e-09, 5.944087026283469e-09]\n"
     ]
    },
    {
     "name": "stderr",
     "output_type": "stream",
     "text": [
      "Progress:  78%|███████▊  | 392/500 [1:21:42<22:42, 12.61s/it]"
     ]
    },
    {
     "name": "stdout",
     "output_type": "stream",
     "text": [
      "Time to: Calculate Ground State - 0.81s, Get Pauli Ops - 4.43s, Calculate Pauli Expectation Values - 6.52s, Calculate Covariance - 0.14s\n",
      "f0,f1,f2 = [5.606663796054109e-09, 5.60666379605311e-09, 5.6066637960499625e-09]\n"
     ]
    },
    {
     "name": "stderr",
     "output_type": "stream",
     "text": [
      "/cluster/home/mskrabulis/miniconda3/envs/quantech/lib/python3.9/site-packages/pyscf/symm/Dmatrix.py:156: RuntimeWarning: invalid value encountered in arccos\n",
      "  gamma = numpy.arccos(yp.dot(c2[1]))\n",
      "/cluster/home/mskrabulis/miniconda3/envs/quantech/lib/python3.9/site-packages/pyscf/symm/Dmatrix.py:156: RuntimeWarning: invalid value encountered in arccos\n",
      "  gamma = numpy.arccos(yp.dot(c2[1]))\n",
      "Progress:  79%|███████▊  | 393/500 [1:21:53<21:49, 12.24s/it]"
     ]
    },
    {
     "name": "stdout",
     "output_type": "stream",
     "text": [
      "Time to: Calculate Ground State - 0.81s, Get Pauli Ops - 3.97s, Calculate Pauli Expectation Values - 6.45s, Calculate Covariance - 0.13s\n",
      "f0,f1,f2 = [6.6869372518365416e-09, 6.686937251816285e-09, 6.686937251822966e-09]\n"
     ]
    },
    {
     "name": "stderr",
     "output_type": "stream",
     "text": [
      "Progress:  79%|███████▉  | 394/500 [1:22:06<21:45, 12.31s/it]"
     ]
    },
    {
     "name": "stdout",
     "output_type": "stream",
     "text": [
      "Time to: Calculate Ground State - 1.24s, Get Pauli Ops - 4.47s, Calculate Pauli Expectation Values - 6.61s, Calculate Covariance - 0.17s\n",
      "f0,f1,f2 = [6.876987166809905e-09, 6.876987166837055e-09, 6.876987166807964e-09]\n"
     ]
    },
    {
     "name": "stderr",
     "output_type": "stream",
     "text": [
      "Progress:  79%|███████▉  | 395/500 [1:22:18<21:40, 12.38s/it]"
     ]
    },
    {
     "name": "stdout",
     "output_type": "stream",
     "text": [
      "Time to: Calculate Ground State - 1.31s, Get Pauli Ops - 4.46s, Calculate Pauli Expectation Values - 6.65s, Calculate Covariance - 0.13s\n",
      "f0,f1,f2 = [5.814980891048662e-09, 5.814980891036722e-09, 5.814980891035765e-09]\n"
     ]
    },
    {
     "name": "stderr",
     "output_type": "stream",
     "text": [
      "Progress:  79%|███████▉  | 396/500 [1:22:31<21:27, 12.38s/it]"
     ]
    },
    {
     "name": "stdout",
     "output_type": "stream",
     "text": [
      "Time to: Calculate Ground State - 1.41s, Get Pauli Ops - 4.33s, Calculate Pauli Expectation Values - 6.49s, Calculate Covariance - 0.14s\n",
      "f0,f1,f2 = [6.089043163386906e-09, 6.089043163380065e-09, 6.089043163368333e-09]\n"
     ]
    },
    {
     "name": "stderr",
     "output_type": "stream",
     "text": [
      "/cluster/home/mskrabulis/miniconda3/envs/quantech/lib/python3.9/site-packages/pyscf/symm/Dmatrix.py:156: RuntimeWarning: invalid value encountered in arccos\n",
      "  gamma = numpy.arccos(yp.dot(c2[1]))\n",
      "/cluster/home/mskrabulis/miniconda3/envs/quantech/lib/python3.9/site-packages/pyscf/symm/Dmatrix.py:156: RuntimeWarning: invalid value encountered in arccos\n",
      "  gamma = numpy.arccos(yp.dot(c2[1]))\n",
      "Progress:  79%|███████▉  | 397/500 [1:22:43<21:08, 12.32s/it]"
     ]
    },
    {
     "name": "stdout",
     "output_type": "stream",
     "text": [
      "Time to: Calculate Ground State - 0.89s, Get Pauli Ops - 4.39s, Calculate Pauli Expectation Values - 6.67s, Calculate Covariance - 0.21s\n",
      "f0,f1,f2 = [6.428804975659836e-09, 6.428804975636669e-09, 6.428804975637814e-09]\n"
     ]
    },
    {
     "name": "stderr",
     "output_type": "stream",
     "text": [
      "/cluster/home/mskrabulis/miniconda3/envs/quantech/lib/python3.9/site-packages/pyscf/symm/Dmatrix.py:156: RuntimeWarning: invalid value encountered in arccos\n",
      "  gamma = numpy.arccos(yp.dot(c2[1]))\n",
      "Progress:  80%|███████▉  | 398/500 [1:22:55<21:07, 12.43s/it]"
     ]
    },
    {
     "name": "stdout",
     "output_type": "stream",
     "text": [
      "Time to: Calculate Ground State - 1.42s, Get Pauli Ops - 4.45s, Calculate Pauli Expectation Values - 6.63s, Calculate Covariance - 0.18s\n",
      "f0,f1,f2 = [4.3244774201804396e-09, 4.3244774201724e-09, 4.324477420165095e-09]\n"
     ]
    },
    {
     "name": "stderr",
     "output_type": "stream",
     "text": [
      "Progress:  80%|███████▉  | 399/500 [1:23:08<20:58, 12.46s/it]"
     ]
    },
    {
     "name": "stdout",
     "output_type": "stream",
     "text": [
      "Time to: Calculate Ground State - 1.31s, Get Pauli Ops - 4.48s, Calculate Pauli Expectation Values - 6.56s, Calculate Covariance - 0.18s\n",
      "f0,f1,f2 = [4.640517017723217e-09, 4.64051701770777e-09, 4.640517017704525e-09]\n"
     ]
    },
    {
     "name": "stderr",
     "output_type": "stream",
     "text": [
      "Progress:  80%|████████  | 400/500 [1:23:20<20:40, 12.41s/it]"
     ]
    },
    {
     "name": "stdout",
     "output_type": "stream",
     "text": [
      "Time to: Calculate Ground State - 1.14s, Get Pauli Ops - 4.33s, Calculate Pauli Expectation Values - 6.58s, Calculate Covariance - 0.22s\n",
      "f0,f1,f2 = [4.953338768368854e-09, 4.9533387683517375e-09, 4.95333876834588e-09]\n"
     ]
    },
    {
     "name": "stderr",
     "output_type": "stream",
     "text": [
      "Progress:  80%|████████  | 401/500 [1:23:33<20:25, 12.37s/it]"
     ]
    },
    {
     "name": "stdout",
     "output_type": "stream",
     "text": [
      "Time to: Calculate Ground State - 1.33s, Get Pauli Ops - 4.44s, Calculate Pauli Expectation Values - 6.39s, Calculate Covariance - 0.13s\n",
      "f0,f1,f2 = [4.193232586634504e-09, 4.193232586628741e-09, 4.193232586617493e-09]\n"
     ]
    },
    {
     "name": "stderr",
     "output_type": "stream",
     "text": [
      "/cluster/home/mskrabulis/miniconda3/envs/quantech/lib/python3.9/site-packages/pyscf/symm/Dmatrix.py:156: RuntimeWarning: invalid value encountered in arccos\n",
      "  gamma = numpy.arccos(yp.dot(c2[1]))\n",
      "Progress:  80%|████████  | 402/500 [1:23:44<19:59, 12.24s/it]"
     ]
    },
    {
     "name": "stdout",
     "output_type": "stream",
     "text": [
      "Time to: Calculate Ground State - 0.82s, Get Pauli Ops - 4.38s, Calculate Pauli Expectation Values - 6.61s, Calculate Covariance - 0.13s\n",
      "f0,f1,f2 = [3.408748111408331e-09, 3.408748111359323e-09, 3.40874811136421e-09]\n"
     ]
    },
    {
     "name": "stderr",
     "output_type": "stream",
     "text": [
      "/cluster/home/mskrabulis/miniconda3/envs/quantech/lib/python3.9/site-packages/pyscf/symm/Dmatrix.py:156: RuntimeWarning: invalid value encountered in arccos\n",
      "  gamma = numpy.arccos(yp.dot(c2[1]))\n",
      "Progress:  81%|████████  | 403/500 [1:23:56<19:38, 12.15s/it]"
     ]
    },
    {
     "name": "stdout",
     "output_type": "stream",
     "text": [
      "Time to: Calculate Ground State - 1.34s, Get Pauli Ops - 3.76s, Calculate Pauli Expectation Values - 6.64s, Calculate Covariance - 0.19s\n",
      "f0,f1,f2 = [2.5856690356554668e-09, 2.5856690356277504e-09, 2.5856690356129137e-09]\n"
     ]
    },
    {
     "name": "stderr",
     "output_type": "stream",
     "text": [
      "Progress:  81%|████████  | 404/500 [1:24:09<19:41, 12.30s/it]"
     ]
    },
    {
     "name": "stdout",
     "output_type": "stream",
     "text": [
      "Time to: Calculate Ground State - 1.41s, Get Pauli Ops - 4.49s, Calculate Pauli Expectation Values - 6.62s, Calculate Covariance - 0.14s\n",
      "f0,f1,f2 = [1.5334735677300064e-09, 1.5334735676854023e-09, 1.5334735676805929e-09]\n"
     ]
    },
    {
     "name": "stderr",
     "output_type": "stream",
     "text": [
      "/cluster/home/mskrabulis/miniconda3/envs/quantech/lib/python3.9/site-packages/pyscf/symm/Dmatrix.py:156: RuntimeWarning: invalid value encountered in arccos\n",
      "  gamma = numpy.arccos(yp.dot(c2[1]))\n",
      "/cluster/home/mskrabulis/miniconda3/envs/quantech/lib/python3.9/site-packages/pyscf/symm/Dmatrix.py:156: RuntimeWarning: invalid value encountered in arccos\n",
      "  gamma = numpy.arccos(yp.dot(c2[1]))\n",
      "Progress:  81%|████████  | 405/500 [1:24:21<19:20, 12.21s/it]"
     ]
    },
    {
     "name": "stdout",
     "output_type": "stream",
     "text": [
      "Time to: Calculate Ground State - 0.87s, Get Pauli Ops - 4.34s, Calculate Pauli Expectation Values - 6.61s, Calculate Covariance - 0.18s\n",
      "f0,f1,f2 = [7.465921602421868e-11, 7.465921596362436e-11, 7.465921595477987e-11]\n"
     ]
    },
    {
     "name": "stderr",
     "output_type": "stream",
     "text": [
      "Progress:  81%|████████  | 406/500 [1:24:33<19:05, 12.19s/it]"
     ]
    },
    {
     "name": "stdout",
     "output_type": "stream",
     "text": [
      "Time to: Calculate Ground State - 0.95s, Get Pauli Ops - 4.48s, Calculate Pauli Expectation Values - 6.56s, Calculate Covariance - 0.13s\n",
      "f0,f1,f2 = [1.5791937693584663e-09, 1.5791937694220328e-09, 1.5791937694304546e-09]\n"
     ]
    },
    {
     "name": "stderr",
     "output_type": "stream",
     "text": [
      "/cluster/home/mskrabulis/miniconda3/envs/quantech/lib/python3.9/site-packages/pyscf/symm/Dmatrix.py:156: RuntimeWarning: invalid value encountered in arccos\n",
      "  gamma = numpy.arccos(yp.dot(c2[1]))\n",
      "Progress:  81%|████████▏ | 407/500 [1:24:46<19:09, 12.36s/it]"
     ]
    },
    {
     "name": "stdout",
     "output_type": "stream",
     "text": [
      "Time to: Calculate Ground State - 1.37s, Get Pauli Ops - 4.43s, Calculate Pauli Expectation Values - 6.73s, Calculate Covariance - 0.23s\n",
      "f0,f1,f2 = [2.8358993429409683e-09, 2.8358993430091557e-09, 2.8358993430061754e-09]\n"
     ]
    },
    {
     "name": "stderr",
     "output_type": "stream",
     "text": [
      "/cluster/home/mskrabulis/miniconda3/envs/quantech/lib/python3.9/site-packages/pyscf/symm/Dmatrix.py:156: RuntimeWarning: invalid value encountered in arccos\n",
      "  gamma = numpy.arccos(yp.dot(c2[1]))\n",
      "/cluster/home/mskrabulis/miniconda3/envs/quantech/lib/python3.9/site-packages/pyscf/symm/Dmatrix.py:156: RuntimeWarning: invalid value encountered in arccos\n",
      "  gamma = numpy.arccos(yp.dot(c2[1]))\n",
      "Progress:  82%|████████▏ | 408/500 [1:24:59<19:05, 12.45s/it]"
     ]
    },
    {
     "name": "stdout",
     "output_type": "stream",
     "text": [
      "Time to: Calculate Ground State - 1.42s, Get Pauli Ops - 4.44s, Calculate Pauli Expectation Values - 6.64s, Calculate Covariance - 0.16s\n",
      "f0,f1,f2 = [5.669848003838063e-09, 5.669848003917764e-09, 5.669848003920865e-09]\n"
     ]
    },
    {
     "name": "stderr",
     "output_type": "stream",
     "text": [
      "/cluster/home/mskrabulis/miniconda3/envs/quantech/lib/python3.9/site-packages/pyscf/symm/Dmatrix.py:156: RuntimeWarning: invalid value encountered in arccos\n",
      "  gamma = numpy.arccos(yp.dot(c2[1]))\n",
      "/cluster/home/mskrabulis/miniconda3/envs/quantech/lib/python3.9/site-packages/pyscf/symm/Dmatrix.py:156: RuntimeWarning: invalid value encountered in arccos\n",
      "  gamma = numpy.arccos(yp.dot(c2[1]))\n",
      "Progress:  82%|████████▏ | 409/500 [1:25:11<18:55, 12.48s/it]"
     ]
    },
    {
     "name": "stdout",
     "output_type": "stream",
     "text": [
      "Time to: Calculate Ground State - 1.35s, Get Pauli Ops - 4.49s, Calculate Pauli Expectation Values - 6.53s, Calculate Covariance - 0.18s\n",
      "f0,f1,f2 = [7.307970372185773e-09, 7.307970372301623e-09, 7.307970372303423e-09]\n"
     ]
    },
    {
     "name": "stderr",
     "output_type": "stream",
     "text": [
      "Progress:  82%|████████▏ | 410/500 [1:25:24<18:49, 12.55s/it]"
     ]
    },
    {
     "name": "stdout",
     "output_type": "stream",
     "text": [
      "Time to: Calculate Ground State - 1.38s, Get Pauli Ops - 4.5s, Calculate Pauli Expectation Values - 6.64s, Calculate Covariance - 0.18s\n",
      "f0,f1,f2 = [9.427218831908931e-09, 9.427218832032097e-09, 9.427218832042293e-09]\n"
     ]
    },
    {
     "name": "stderr",
     "output_type": "stream",
     "text": [
      "Progress:  82%|████████▏ | 411/500 [1:25:37<18:44, 12.63s/it]"
     ]
    },
    {
     "name": "stdout",
     "output_type": "stream",
     "text": [
      "Time to: Calculate Ground State - 1.5s, Get Pauli Ops - 4.5s, Calculate Pauli Expectation Values - 6.61s, Calculate Covariance - 0.22s\n",
      "f0,f1,f2 = [1.274189415512351e-08, 1.2741894155254102e-08, 1.274189415527956e-08]\n"
     ]
    },
    {
     "name": "stderr",
     "output_type": "stream",
     "text": [
      "Progress:  82%|████████▏ | 412/500 [1:25:49<18:34, 12.66s/it]"
     ]
    },
    {
     "name": "stdout",
     "output_type": "stream",
     "text": [
      "Time to: Calculate Ground State - 1.3s, Get Pauli Ops - 4.5s, Calculate Pauli Expectation Values - 6.78s, Calculate Covariance - 0.15s\n",
      "f0,f1,f2 = [1.4367343622907003e-08, 1.4367343623069287e-08, 1.4367343623075667e-08]\n"
     ]
    },
    {
     "name": "stderr",
     "output_type": "stream",
     "text": [
      "/cluster/home/mskrabulis/miniconda3/envs/quantech/lib/python3.9/site-packages/pyscf/symm/Dmatrix.py:156: RuntimeWarning: invalid value encountered in arccos\n",
      "  gamma = numpy.arccos(yp.dot(c2[1]))\n",
      "Progress:  83%|████████▎ | 413/500 [1:26:02<18:19, 12.64s/it]"
     ]
    },
    {
     "name": "stdout",
     "output_type": "stream",
     "text": [
      "Time to: Calculate Ground State - 1.38s, Get Pauli Ops - 4.49s, Calculate Pauli Expectation Values - 6.59s, Calculate Covariance - 0.13s\n",
      "f0,f1,f2 = [1.618539134020656e-08, 1.6185391340375655e-08, 1.6185391340382517e-08]\n"
     ]
    },
    {
     "name": "stderr",
     "output_type": "stream",
     "text": [
      "Progress:  83%|████████▎ | 414/500 [1:26:14<18:00, 12.57s/it]"
     ]
    },
    {
     "name": "stdout",
     "output_type": "stream",
     "text": [
      "Time to: Calculate Ground State - 1.33s, Get Pauli Ops - 4.38s, Calculate Pauli Expectation Values - 6.53s, Calculate Covariance - 0.16s\n",
      "f0,f1,f2 = [1.7383854831517777e-08, 1.7383854831684113e-08, 1.7383854831674736e-08]\n"
     ]
    },
    {
     "name": "stderr",
     "output_type": "stream",
     "text": [
      "/cluster/home/mskrabulis/miniconda3/envs/quantech/lib/python3.9/site-packages/pyscf/symm/Dmatrix.py:156: RuntimeWarning: invalid value encountered in arccos\n",
      "  gamma = numpy.arccos(yp.dot(c2[1]))\n",
      "Progress:  83%|████████▎ | 415/500 [1:26:27<17:52, 12.62s/it]"
     ]
    },
    {
     "name": "stdout",
     "output_type": "stream",
     "text": [
      "Time to: Calculate Ground State - 1.35s, Get Pauli Ops - 4.55s, Calculate Pauli Expectation Values - 6.62s, Calculate Covariance - 0.23s\n",
      "f0,f1,f2 = [1.5949119505048488e-08, 1.5949119505227778e-08, 1.594911950522386e-08]\n"
     ]
    },
    {
     "name": "stderr",
     "output_type": "stream",
     "text": [
      "/cluster/home/mskrabulis/miniconda3/envs/quantech/lib/python3.9/site-packages/pyscf/symm/Dmatrix.py:156: RuntimeWarning: invalid value encountered in arccos\n",
      "  gamma = numpy.arccos(yp.dot(c2[1]))\n",
      "Progress:  83%|████████▎ | 416/500 [1:26:40<17:43, 12.66s/it]"
     ]
    },
    {
     "name": "stdout",
     "output_type": "stream",
     "text": [
      "Time to: Calculate Ground State - 1.42s, Get Pauli Ops - 4.34s, Calculate Pauli Expectation Values - 6.79s, Calculate Covariance - 0.2s\n",
      "f0,f1,f2 = [1.6005874629646346e-08, 1.6005874629792224e-08, 1.6005874629785845e-08]\n"
     ]
    },
    {
     "name": "stderr",
     "output_type": "stream",
     "text": [
      "/cluster/home/mskrabulis/miniconda3/envs/quantech/lib/python3.9/site-packages/pyscf/symm/Dmatrix.py:156: RuntimeWarning: invalid value encountered in arccos\n",
      "  gamma = numpy.arccos(yp.dot(c2[1]))\n",
      "/cluster/home/mskrabulis/miniconda3/envs/quantech/lib/python3.9/site-packages/pyscf/symm/Dmatrix.py:156: RuntimeWarning: invalid value encountered in arccos\n",
      "  gamma = numpy.arccos(yp.dot(c2[1]))\n",
      "Progress:  83%|████████▎ | 417/500 [1:26:52<17:24, 12.59s/it]"
     ]
    },
    {
     "name": "stdout",
     "output_type": "stream",
     "text": [
      "Time to: Calculate Ground State - 1.01s, Get Pauli Ops - 4.51s, Calculate Pauli Expectation Values - 6.73s, Calculate Covariance - 0.17s\n",
      "f0,f1,f2 = [1.4120667441986713e-08, 1.4120667442139088e-08, 1.4120667442127042e-08]\n"
     ]
    },
    {
     "name": "stderr",
     "output_type": "stream",
     "text": [
      "/cluster/home/mskrabulis/miniconda3/envs/quantech/lib/python3.9/site-packages/pyscf/symm/Dmatrix.py:156: RuntimeWarning: invalid value encountered in arccos\n",
      "  gamma = numpy.arccos(yp.dot(c2[1]))\n",
      "Progress:  84%|████████▎ | 418/500 [1:27:05<17:07, 12.53s/it]"
     ]
    },
    {
     "name": "stdout",
     "output_type": "stream",
     "text": [
      "Time to: Calculate Ground State - 1.35s, Get Pauli Ops - 4.31s, Calculate Pauli Expectation Values - 6.6s, Calculate Covariance - 0.15s\n",
      "f0,f1,f2 = [1.0911434869702954e-08, 1.0911434869844496e-08, 1.0911434869827494e-08]\n"
     ]
    },
    {
     "name": "stderr",
     "output_type": "stream",
     "text": [
      "/cluster/home/mskrabulis/miniconda3/envs/quantech/lib/python3.9/site-packages/pyscf/symm/Dmatrix.py:156: RuntimeWarning: invalid value encountered in arccos\n",
      "  gamma = numpy.arccos(yp.dot(c2[1]))\n",
      "/cluster/home/mskrabulis/miniconda3/envs/quantech/lib/python3.9/site-packages/pyscf/symm/Dmatrix.py:156: RuntimeWarning: invalid value encountered in arccos\n",
      "  gamma = numpy.arccos(yp.dot(c2[1]))\n",
      "Progress:  84%|████████▍ | 419/500 [1:27:17<16:42, 12.38s/it]"
     ]
    },
    {
     "name": "stdout",
     "output_type": "stream",
     "text": [
      "Time to: Calculate Ground State - 1.31s, Get Pauli Ops - 3.97s, Calculate Pauli Expectation Values - 6.6s, Calculate Covariance - 0.14s\n",
      "f0,f1,f2 = [1.0199593091546508e-08, 1.0199593091661956e-08, 1.0199593091648536e-08]\n"
     ]
    },
    {
     "name": "stderr",
     "output_type": "stream",
     "text": [
      "Progress:  84%|████████▍ | 420/500 [1:27:29<16:35, 12.44s/it]"
     ]
    },
    {
     "name": "stdout",
     "output_type": "stream",
     "text": [
      "Time to: Calculate Ground State - 1.36s, Get Pauli Ops - 4.52s, Calculate Pauli Expectation Values - 6.56s, Calculate Covariance - 0.14s\n",
      "f0,f1,f2 = [6.6679000101126495e-09, 6.667900010176107e-09, 6.66790001017748e-09]\n"
     ]
    },
    {
     "name": "stderr",
     "output_type": "stream",
     "text": [
      "/cluster/home/mskrabulis/miniconda3/envs/quantech/lib/python3.9/site-packages/pyscf/symm/Dmatrix.py:156: RuntimeWarning: invalid value encountered in arccos\n",
      "  gamma = numpy.arccos(yp.dot(c2[1]))\n",
      "Progress:  84%|████████▍ | 421/500 [1:27:42<16:18, 12.39s/it]"
     ]
    },
    {
     "name": "stdout",
     "output_type": "stream",
     "text": [
      "Time to: Calculate Ground State - 1.31s, Get Pauli Ops - 4.44s, Calculate Pauli Expectation Values - 6.41s, Calculate Covariance - 0.12s\n",
      "f0,f1,f2 = [4.904605694295558e-09, 4.904605694372626e-09, 4.904605694378733e-09]\n"
     ]
    },
    {
     "name": "stderr",
     "output_type": "stream",
     "text": [
      "Progress:  84%|████████▍ | 422/500 [1:27:54<16:06, 12.39s/it]"
     ]
    },
    {
     "name": "stdout",
     "output_type": "stream",
     "text": [
      "Time to: Calculate Ground State - 1.02s, Get Pauli Ops - 4.42s, Calculate Pauli Expectation Values - 6.73s, Calculate Covariance - 0.22s\n",
      "f0,f1,f2 = [1.8050101713383829e-09, 1.8050101714059486e-09, 1.8050101713914812e-09]\n"
     ]
    },
    {
     "name": "stderr",
     "output_type": "stream",
     "text": [
      "Progress:  85%|████████▍ | 423/500 [1:28:07<16:00, 12.48s/it]"
     ]
    },
    {
     "name": "stdout",
     "output_type": "stream",
     "text": [
      "Time to: Calculate Ground State - 1.42s, Get Pauli Ops - 4.49s, Calculate Pauli Expectation Values - 6.59s, Calculate Covariance - 0.17s\n",
      "f0,f1,f2 = [1.7174633491140863e-09, 1.717463349161267e-09, 1.7174633491649552e-09]\n"
     ]
    },
    {
     "name": "stderr",
     "output_type": "stream",
     "text": [
      "/cluster/home/mskrabulis/miniconda3/envs/quantech/lib/python3.9/site-packages/pyscf/symm/Dmatrix.py:156: RuntimeWarning: invalid value encountered in arccos\n",
      "  gamma = numpy.arccos(yp.dot(c2[1]))\n",
      "Progress:  85%|████████▍ | 424/500 [1:28:21<16:40, 13.16s/it]"
     ]
    },
    {
     "name": "stdout",
     "output_type": "stream",
     "text": [
      "Time to: Calculate Ground State - 1.47s, Get Pauli Ops - 4.51s, Calculate Pauli Expectation Values - 8.65s, Calculate Covariance - 0.14s\n",
      "f0,f1,f2 = [5.428617022972724e-10, 5.428617023226796e-10, 5.42861702326999e-10]\n"
     ]
    },
    {
     "name": "stderr",
     "output_type": "stream",
     "text": [
      "/cluster/home/mskrabulis/miniconda3/envs/quantech/lib/python3.9/site-packages/pyscf/symm/Dmatrix.py:156: RuntimeWarning: invalid value encountered in arccos\n",
      "  gamma = numpy.arccos(yp.dot(c2[1]))\n",
      "Progress:  85%|████████▌ | 425/500 [1:28:36<17:00, 13.60s/it]"
     ]
    },
    {
     "name": "stdout",
     "output_type": "stream",
     "text": [
      "Time to: Calculate Ground State - 1.42s, Get Pauli Ops - 4.22s, Calculate Pauli Expectation Values - 8.76s, Calculate Covariance - 0.23s\n",
      "f0,f1,f2 = [1.042682460162291e-09, 1.042682460137829e-09, 1.0426824601298518e-09]\n"
     ]
    },
    {
     "name": "stderr",
     "output_type": "stream",
     "text": [
      "Progress:  85%|████████▌ | 426/500 [1:28:48<16:17, 13.21s/it]"
     ]
    },
    {
     "name": "stdout",
     "output_type": "stream",
     "text": [
      "Time to: Calculate Ground State - 1.17s, Get Pauli Ops - 4.42s, Calculate Pauli Expectation Values - 6.54s, Calculate Covariance - 0.16s\n",
      "f0,f1,f2 = [3.2949495875655683e-09, 3.29494958755144e-09, 3.2949495875483257e-09]\n"
     ]
    },
    {
     "name": "stderr",
     "output_type": "stream",
     "text": [
      "/cluster/home/mskrabulis/miniconda3/envs/quantech/lib/python3.9/site-packages/pyscf/symm/Dmatrix.py:156: RuntimeWarning: invalid value encountered in arccos\n",
      "  gamma = numpy.arccos(yp.dot(c2[1]))\n",
      "Progress:  85%|████████▌ | 427/500 [1:29:00<15:36, 12.83s/it]"
     ]
    },
    {
     "name": "stdout",
     "output_type": "stream",
     "text": [
      "Time to: Calculate Ground State - 0.85s, Get Pauli Ops - 4.47s, Calculate Pauli Expectation Values - 6.5s, Calculate Covariance - 0.14s\n",
      "f0,f1,f2 = [3.8795942401793705e-09, 3.879594240163698e-09, 3.879594240165735e-09]\n"
     ]
    },
    {
     "name": "stderr",
     "output_type": "stream",
     "text": [
      "Progress:  86%|████████▌ | 428/500 [1:29:13<15:18, 12.76s/it]"
     ]
    },
    {
     "name": "stdout",
     "output_type": "stream",
     "text": [
      "Time to: Calculate Ground State - 1.35s, Get Pauli Ops - 4.47s, Calculate Pauli Expectation Values - 6.61s, Calculate Covariance - 0.15s\n",
      "f0,f1,f2 = [4.0863894778213665e-09, 4.08638947779317e-09, 4.086389477795822e-09]\n"
     ]
    },
    {
     "name": "stderr",
     "output_type": "stream",
     "text": [
      "/cluster/home/mskrabulis/miniconda3/envs/quantech/lib/python3.9/site-packages/pyscf/symm/Dmatrix.py:156: RuntimeWarning: invalid value encountered in arccos\n",
      "  gamma = numpy.arccos(yp.dot(c2[1]))\n",
      "Progress:  86%|████████▌ | 429/500 [1:29:25<15:00, 12.68s/it]"
     ]
    },
    {
     "name": "stdout",
     "output_type": "stream",
     "text": [
      "Time to: Calculate Ground State - 1.31s, Get Pauli Ops - 4.49s, Calculate Pauli Expectation Values - 6.51s, Calculate Covariance - 0.19s\n",
      "f0,f1,f2 = [5.4291660049275e-09, 5.429166004907939e-09, 5.4291660049194095e-09]\n"
     ]
    },
    {
     "name": "stderr",
     "output_type": "stream",
     "text": [
      "Progress:  86%|████████▌ | 430/500 [1:29:38<14:47, 12.68s/it]"
     ]
    },
    {
     "name": "stdout",
     "output_type": "stream",
     "text": [
      "Time to: Calculate Ground State - 1.4s, Get Pauli Ops - 4.44s, Calculate Pauli Expectation Values - 6.61s, Calculate Covariance - 0.23s\n",
      "f0,f1,f2 = [4.570569444429503e-09, 4.570569444409379e-09, 4.570569444415307e-09]\n"
     ]
    },
    {
     "name": "stderr",
     "output_type": "stream",
     "text": [
      "/cluster/home/mskrabulis/miniconda3/envs/quantech/lib/python3.9/site-packages/pyscf/symm/Dmatrix.py:156: RuntimeWarning: invalid value encountered in arccos\n",
      "  gamma = numpy.arccos(yp.dot(c2[1]))\n",
      "Progress:  86%|████████▌ | 431/500 [1:29:51<14:37, 12.71s/it]"
     ]
    },
    {
     "name": "stdout",
     "output_type": "stream",
     "text": [
      "Time to: Calculate Ground State - 1.29s, Get Pauli Ops - 4.56s, Calculate Pauli Expectation Values - 6.69s, Calculate Covariance - 0.23s\n",
      "f0,f1,f2 = [6.855150906953173e-09, 6.855150906942575e-09, 6.85515090695591e-09]\n"
     ]
    },
    {
     "name": "stderr",
     "output_type": "stream",
     "text": [
      "Progress:  86%|████████▋ | 432/500 [1:30:03<14:21, 12.66s/it]"
     ]
    },
    {
     "name": "stdout",
     "output_type": "stream",
     "text": [
      "Time to: Calculate Ground State - 1.39s, Get Pauli Ops - 4.48s, Calculate Pauli Expectation Values - 6.55s, Calculate Covariance - 0.13s\n",
      "f0,f1,f2 = [5.631561256938568e-09, 5.631561256932969e-09, 5.631561256930023e-09]\n"
     ]
    },
    {
     "name": "stderr",
     "output_type": "stream",
     "text": [
      "Progress:  87%|████████▋ | 433/500 [1:30:16<14:00, 12.55s/it]"
     ]
    },
    {
     "name": "stdout",
     "output_type": "stream",
     "text": [
      "Time to: Calculate Ground State - 1.27s, Get Pauli Ops - 4.33s, Calculate Pauli Expectation Values - 6.55s, Calculate Covariance - 0.14s\n",
      "f0,f1,f2 = [5.3103364586243875e-09, 5.310336458613159e-09, 5.310336458623548e-09]\n"
     ]
    },
    {
     "name": "stderr",
     "output_type": "stream",
     "text": [
      "Progress:  87%|████████▋ | 434/500 [1:30:28<13:45, 12.51s/it]"
     ]
    },
    {
     "name": "stdout",
     "output_type": "stream",
     "text": [
      "Time to: Calculate Ground State - 1.22s, Get Pauli Ops - 4.44s, Calculate Pauli Expectation Values - 6.57s, Calculate Covariance - 0.16s\n",
      "f0,f1,f2 = [5.725541501431716e-09, 5.725541501437303e-09, 5.725541501424096e-09]\n"
     ]
    },
    {
     "name": "stderr",
     "output_type": "stream",
     "text": [
      "Progress:  87%|████████▋ | 435/500 [1:30:41<13:33, 12.52s/it]"
     ]
    },
    {
     "name": "stdout",
     "output_type": "stream",
     "text": [
      "Time to: Calculate Ground State - 1.35s, Get Pauli Ops - 4.35s, Calculate Pauli Expectation Values - 6.6s, Calculate Covariance - 0.25s\n",
      "f0,f1,f2 = [6.672212889521536e-09, 6.6722128895174356e-09, 6.672212889514222e-09]\n"
     ]
    },
    {
     "name": "stderr",
     "output_type": "stream",
     "text": [
      "Progress:  87%|████████▋ | 436/500 [1:30:53<13:22, 12.54s/it]"
     ]
    },
    {
     "name": "stdout",
     "output_type": "stream",
     "text": [
      "Time to: Calculate Ground State - 1.37s, Get Pauli Ops - 4.46s, Calculate Pauli Expectation Values - 6.6s, Calculate Covariance - 0.17s\n",
      "f0,f1,f2 = [6.653873218660011e-09, 6.653873218663494e-09, 6.653873218667465e-09]\n"
     ]
    },
    {
     "name": "stderr",
     "output_type": "stream",
     "text": [
      "Progress:  87%|████████▋ | 437/500 [1:31:06<13:04, 12.46s/it]"
     ]
    },
    {
     "name": "stdout",
     "output_type": "stream",
     "text": [
      "Time to: Calculate Ground State - 1.41s, Get Pauli Ops - 4.26s, Calculate Pauli Expectation Values - 6.46s, Calculate Covariance - 0.13s\n",
      "f0,f1,f2 = [7.075330072678219e-09, 7.075330072683929e-09, 7.075330072690922e-09]\n"
     ]
    },
    {
     "name": "stderr",
     "output_type": "stream",
     "text": [
      "Progress:  88%|████████▊ | 438/500 [1:31:17<12:41, 12.29s/it]"
     ]
    },
    {
     "name": "stdout",
     "output_type": "stream",
     "text": [
      "Time to: Calculate Ground State - 1.4s, Get Pauli Ops - 3.87s, Calculate Pauli Expectation Values - 6.49s, Calculate Covariance - 0.14s\n",
      "f0,f1,f2 = [6.485362053299653e-09, 6.4853620533064405e-09, 6.485362053302205e-09]\n"
     ]
    },
    {
     "name": "stderr",
     "output_type": "stream",
     "text": [
      "/cluster/home/mskrabulis/miniconda3/envs/quantech/lib/python3.9/site-packages/pyscf/symm/Dmatrix.py:156: RuntimeWarning: invalid value encountered in arccos\n",
      "  gamma = numpy.arccos(yp.dot(c2[1]))\n",
      "Progress:  88%|████████▊ | 439/500 [1:31:30<12:32, 12.34s/it]"
     ]
    },
    {
     "name": "stdout",
     "output_type": "stream",
     "text": [
      "Time to: Calculate Ground State - 1.33s, Get Pauli Ops - 4.48s, Calculate Pauli Expectation Values - 6.5s, Calculate Covariance - 0.14s\n",
      "f0,f1,f2 = [7.435075826847944e-09, 7.435075826855779e-09, 7.43507582685217e-09]\n"
     ]
    },
    {
     "name": "stderr",
     "output_type": "stream",
     "text": [
      "Progress:  88%|████████▊ | 440/500 [1:31:42<12:15, 12.25s/it]"
     ]
    },
    {
     "name": "stdout",
     "output_type": "stream",
     "text": [
      "Time to: Calculate Ground State - 0.84s, Get Pauli Ops - 4.5s, Calculate Pauli Expectation Values - 6.53s, Calculate Covariance - 0.18s\n",
      "f0,f1,f2 = [6.021307515236092e-09, 6.0213075152418e-09, 6.0213075152367275e-09]\n"
     ]
    },
    {
     "name": "stderr",
     "output_type": "stream",
     "text": [
      "Progress:  88%|████████▊ | 441/500 [1:31:55<12:09, 12.36s/it]"
     ]
    },
    {
     "name": "stdout",
     "output_type": "stream",
     "text": [
      "Time to: Calculate Ground State - 1.4s, Get Pauli Ops - 4.47s, Calculate Pauli Expectation Values - 6.6s, Calculate Covariance - 0.13s\n",
      "f0,f1,f2 = [5.829633726167282e-09, 5.8296337261637995e-09, 5.829633726173216e-09]\n"
     ]
    },
    {
     "name": "stderr",
     "output_type": "stream",
     "text": [
      "Progress:  88%|████████▊ | 442/500 [1:32:06<11:47, 12.20s/it]"
     ]
    },
    {
     "name": "stdout",
     "output_type": "stream",
     "text": [
      "Time to: Calculate Ground State - 0.8s, Get Pauli Ops - 4.5s, Calculate Pauli Expectation Values - 6.4s, Calculate Covariance - 0.15s\n",
      "f0,f1,f2 = [5.489973914973847e-09, 5.4899739149840184e-09, 5.489973914980574e-09]\n"
     ]
    },
    {
     "name": "stderr",
     "output_type": "stream",
     "text": [
      "/cluster/home/mskrabulis/miniconda3/envs/quantech/lib/python3.9/site-packages/pyscf/symm/Dmatrix.py:156: RuntimeWarning: invalid value encountered in arccos\n",
      "  gamma = numpy.arccos(yp.dot(c2[1]))\n",
      "Progress:  89%|████████▊ | 443/500 [1:32:19<11:34, 12.19s/it]"
     ]
    },
    {
     "name": "stdout",
     "output_type": "stream",
     "text": [
      "Time to: Calculate Ground State - 0.89s, Get Pauli Ops - 4.27s, Calculate Pauli Expectation Values - 6.86s, Calculate Covariance - 0.13s\n",
      "f0,f1,f2 = [6.738407134277068e-09, 6.738407134279837e-09, 6.7384071342712215e-09]\n"
     ]
    },
    {
     "name": "stderr",
     "output_type": "stream",
     "text": [
      "Progress:  89%|████████▉ | 444/500 [1:32:31<11:34, 12.40s/it]"
     ]
    },
    {
     "name": "stdout",
     "output_type": "stream",
     "text": [
      "Time to: Calculate Ground State - 1.45s, Get Pauli Ops - 4.7s, Calculate Pauli Expectation Values - 6.6s, Calculate Covariance - 0.14s\n",
      "f0,f1,f2 = [8.34658224932662e-09, 8.346582249336919e-09, 8.346582249331413e-09]\n"
     ]
    },
    {
     "name": "stderr",
     "output_type": "stream",
     "text": [
      "Progress:  89%|████████▉ | 445/500 [1:32:44<11:30, 12.56s/it]"
     ]
    },
    {
     "name": "stdout",
     "output_type": "stream",
     "text": [
      "Time to: Calculate Ground State - 1.45s, Get Pauli Ops - 4.67s, Calculate Pauli Expectation Values - 6.68s, Calculate Covariance - 0.13s\n",
      "f0,f1,f2 = [6.372628995012031e-09, 6.3726289949971945e-09, 6.372628995001635e-09]\n"
     ]
    },
    {
     "name": "stderr",
     "output_type": "stream",
     "text": [
      "Progress:  89%|████████▉ | 446/500 [1:32:58<11:30, 12.78s/it]"
     ]
    },
    {
     "name": "stdout",
     "output_type": "stream",
     "text": [
      "Time to: Calculate Ground State - 1.48s, Get Pauli Ops - 4.7s, Calculate Pauli Expectation Values - 6.89s, Calculate Covariance - 0.23s\n",
      "f0,f1,f2 = [6.5177376455477326e-09, 6.517737645554108e-09, 6.517737645558942e-09]\n"
     ]
    },
    {
     "name": "stderr",
     "output_type": "stream",
     "text": [
      "/cluster/home/mskrabulis/miniconda3/envs/quantech/lib/python3.9/site-packages/pyscf/symm/Dmatrix.py:156: RuntimeWarning: invalid value encountered in arccos\n",
      "  gamma = numpy.arccos(yp.dot(c2[1]))\n",
      "Progress:  89%|████████▉ | 447/500 [1:33:10<11:17, 12.79s/it]"
     ]
    },
    {
     "name": "stdout",
     "output_type": "stream",
     "text": [
      "Time to: Calculate Ground State - 1.34s, Get Pauli Ops - 4.65s, Calculate Pauli Expectation Values - 6.58s, Calculate Covariance - 0.23s\n",
      "f0,f1,f2 = [6.126505418421962e-09, 6.126505418432061e-09, 6.126505418431804e-09]\n"
     ]
    },
    {
     "name": "stderr",
     "output_type": "stream",
     "text": [
      "Progress:  90%|████████▉ | 448/500 [1:33:23<10:58, 12.67s/it]"
     ]
    },
    {
     "name": "stdout",
     "output_type": "stream",
     "text": [
      "Time to: Calculate Ground State - 1.41s, Get Pauli Ops - 4.3s, Calculate Pauli Expectation Values - 6.51s, Calculate Covariance - 0.17s\n",
      "f0,f1,f2 = [6.875757155084764e-09, 6.875757155104881e-09, 6.875757155094215e-09]\n"
     ]
    },
    {
     "name": "stderr",
     "output_type": "stream",
     "text": [
      "Progress:  90%|████████▉ | 449/500 [1:33:35<10:40, 12.55s/it]"
     ]
    },
    {
     "name": "stdout",
     "output_type": "stream",
     "text": [
      "Time to: Calculate Ground State - 1.35s, Get Pauli Ops - 4.25s, Calculate Pauli Expectation Values - 6.54s, Calculate Covariance - 0.13s\n",
      "f0,f1,f2 = [6.32226672020498e-09, 6.322266720198964e-09, 6.322266720212276e-09]\n"
     ]
    },
    {
     "name": "stderr",
     "output_type": "stream",
     "text": [
      "Progress:  90%|█████████ | 450/500 [1:33:48<10:27, 12.56s/it]"
     ]
    },
    {
     "name": "stdout",
     "output_type": "stream",
     "text": [
      "Time to: Calculate Ground State - 1.37s, Get Pauli Ops - 4.48s, Calculate Pauli Expectation Values - 6.57s, Calculate Covariance - 0.15s\n",
      "f0,f1,f2 = [6.77401590745947e-09, 6.7740159074778576e-09, 6.7740159074830605e-09]\n"
     ]
    },
    {
     "name": "stderr",
     "output_type": "stream",
     "text": [
      "Progress:  90%|█████████ | 451/500 [1:34:00<10:11, 12.47s/it]"
     ]
    },
    {
     "name": "stdout",
     "output_type": "stream",
     "text": [
      "Time to: Calculate Ground State - 1.32s, Get Pauli Ops - 4.33s, Calculate Pauli Expectation Values - 6.42s, Calculate Covariance - 0.19s\n",
      "f0,f1,f2 = [4.977941034302475e-09, 4.977941034321402e-09, 4.9779410343246215e-09]\n"
     ]
    },
    {
     "name": "stderr",
     "output_type": "stream",
     "text": [
      "Progress:  90%|█████████ | 452/500 [1:34:13<10:01, 12.52s/it]"
     ]
    },
    {
     "name": "stdout",
     "output_type": "stream",
     "text": [
      "Time to: Calculate Ground State - 1.33s, Get Pauli Ops - 4.51s, Calculate Pauli Expectation Values - 6.61s, Calculate Covariance - 0.18s\n",
      "f0,f1,f2 = [3.3015286574180257e-09, 3.3015286574474614e-09, 3.3015286574519463e-09]\n"
     ]
    },
    {
     "name": "stderr",
     "output_type": "stream",
     "text": [
      "Progress:  91%|█████████ | 453/500 [1:34:26<09:53, 12.63s/it]"
     ]
    },
    {
     "name": "stdout",
     "output_type": "stream",
     "text": [
      "Time to: Calculate Ground State - 1.32s, Get Pauli Ops - 4.75s, Calculate Pauli Expectation Values - 6.68s, Calculate Covariance - 0.14s\n",
      "f0,f1,f2 = [5.557270735743123e-09, 5.557270735767899e-09, 5.55727073577891e-09]\n"
     ]
    },
    {
     "name": "stderr",
     "output_type": "stream",
     "text": [
      "Progress:  91%|█████████ | 454/500 [1:34:38<09:38, 12.59s/it]"
     ]
    },
    {
     "name": "stdout",
     "output_type": "stream",
     "text": [
      "Time to: Calculate Ground State - 1.34s, Get Pauli Ops - 4.44s, Calculate Pauli Expectation Values - 6.57s, Calculate Covariance - 0.13s\n",
      "f0,f1,f2 = [2.1398359206733754e-09, 2.1398359207070905e-09, 2.139835920711096e-09]\n"
     ]
    },
    {
     "name": "stderr",
     "output_type": "stream",
     "text": [
      "Progress:  91%|█████████ | 455/500 [1:34:51<09:25, 12.57s/it]"
     ]
    },
    {
     "name": "stdout",
     "output_type": "stream",
     "text": [
      "Time to: Calculate Ground State - 1.21s, Get Pauli Ops - 4.6s, Calculate Pauli Expectation Values - 6.54s, Calculate Covariance - 0.19s\n",
      "f0,f1,f2 = [2.8740958623336945e-09, 2.874095862373055e-09, 2.874095862392765e-09]\n"
     ]
    },
    {
     "name": "stderr",
     "output_type": "stream",
     "text": [
      "/cluster/home/mskrabulis/miniconda3/envs/quantech/lib/python3.9/site-packages/pyscf/symm/Dmatrix.py:156: RuntimeWarning: invalid value encountered in arccos\n",
      "  gamma = numpy.arccos(yp.dot(c2[1]))\n",
      "Progress:  91%|█████████ | 456/500 [1:35:03<09:13, 12.57s/it]"
     ]
    },
    {
     "name": "stdout",
     "output_type": "stream",
     "text": [
      "Time to: Calculate Ground State - 1.4s, Get Pauli Ops - 4.47s, Calculate Pauli Expectation Values - 6.52s, Calculate Covariance - 0.17s\n",
      "f0,f1,f2 = [9.631940383569756e-10, 9.631940384185701e-10, 9.631940384143738e-10]\n"
     ]
    },
    {
     "name": "stderr",
     "output_type": "stream",
     "text": [
      "Progress:  91%|█████████▏| 457/500 [1:35:15<08:55, 12.45s/it]"
     ]
    },
    {
     "name": "stdout",
     "output_type": "stream",
     "text": [
      "Time to: Calculate Ground State - 0.89s, Get Pauli Ops - 4.47s, Calculate Pauli Expectation Values - 6.68s, Calculate Covariance - 0.13s\n",
      "f0,f1,f2 = [3.1599615479011344e-10, 3.1599615470982435e-10, 3.1599615470933155e-10]\n"
     ]
    },
    {
     "name": "stderr",
     "output_type": "stream",
     "text": [
      "/cluster/home/mskrabulis/miniconda3/envs/quantech/lib/python3.9/site-packages/pyscf/symm/Dmatrix.py:156: RuntimeWarning: invalid value encountered in arccos\n",
      "  gamma = numpy.arccos(yp.dot(c2[1]))\n",
      "Progress:  92%|█████████▏| 458/500 [1:35:28<08:44, 12.49s/it]"
     ]
    },
    {
     "name": "stdout",
     "output_type": "stream",
     "text": [
      "Time to: Calculate Ground State - 1.29s, Get Pauli Ops - 4.48s, Calculate Pauli Expectation Values - 6.67s, Calculate Covariance - 0.15s\n",
      "f0,f1,f2 = [2.819662695587145e-10, 2.819662694703292e-10, 2.8196626947723073e-10]\n"
     ]
    },
    {
     "name": "stderr",
     "output_type": "stream",
     "text": [
      "Progress:  92%|█████████▏| 459/500 [1:35:40<08:33, 12.52s/it]"
     ]
    },
    {
     "name": "stdout",
     "output_type": "stream",
     "text": [
      "Time to: Calculate Ground State - 1.37s, Get Pauli Ops - 4.42s, Calculate Pauli Expectation Values - 6.56s, Calculate Covariance - 0.22s\n",
      "f0,f1,f2 = [2.235334332613282e-09, 2.2353343325082e-09, 2.235334332501513e-09]\n"
     ]
    },
    {
     "name": "stderr",
     "output_type": "stream",
     "text": [
      "Progress:  92%|█████████▏| 460/500 [1:35:53<08:15, 12.39s/it]"
     ]
    },
    {
     "name": "stdout",
     "output_type": "stream",
     "text": [
      "Time to: Calculate Ground State - 1.45s, Get Pauli Ops - 4.03s, Calculate Pauli Expectation Values - 6.48s, Calculate Covariance - 0.13s\n",
      "f0,f1,f2 = [4.938900612536773e-09, 4.93890061242274e-09, 4.938900612405193e-09]\n"
     ]
    },
    {
     "name": "stderr",
     "output_type": "stream",
     "text": [
      "/cluster/home/mskrabulis/miniconda3/envs/quantech/lib/python3.9/site-packages/pyscf/symm/Dmatrix.py:156: RuntimeWarning: invalid value encountered in arccos\n",
      "  gamma = numpy.arccos(yp.dot(c2[1]))\n",
      "Progress:  92%|█████████▏| 461/500 [1:36:05<08:04, 12.42s/it]"
     ]
    },
    {
     "name": "stdout",
     "output_type": "stream",
     "text": [
      "Time to: Calculate Ground State - 1.33s, Get Pauli Ops - 4.43s, Calculate Pauli Expectation Values - 6.61s, Calculate Covariance - 0.13s\n",
      "f0,f1,f2 = [6.647978035311594e-09, 6.647978035182322e-09, 6.647978035186669e-09]\n"
     ]
    },
    {
     "name": "stderr",
     "output_type": "stream",
     "text": [
      "Progress:  92%|█████████▏| 462/500 [1:36:18<07:54, 12.49s/it]"
     ]
    },
    {
     "name": "stdout",
     "output_type": "stream",
     "text": [
      "Time to: Calculate Ground State - 1.42s, Get Pauli Ops - 4.52s, Calculate Pauli Expectation Values - 6.56s, Calculate Covariance - 0.15s\n",
      "f0,f1,f2 = [9.680666419112963e-09, 9.680666418949413e-09, 9.68066641895588e-09]\n"
     ]
    },
    {
     "name": "stderr",
     "output_type": "stream",
     "text": [
      "Progress:  93%|█████████▎| 463/500 [1:36:30<07:42, 12.51s/it]"
     ]
    },
    {
     "name": "stdout",
     "output_type": "stream",
     "text": [
      "Time to: Calculate Ground State - 1.32s, Get Pauli Ops - 4.48s, Calculate Pauli Expectation Values - 6.62s, Calculate Covariance - 0.15s\n",
      "f0,f1,f2 = [1.322434629882154e-08, 1.3224346298629783e-08, 1.3224346298617264e-08]\n"
     ]
    },
    {
     "name": "stderr",
     "output_type": "stream",
     "text": [
      "/cluster/home/mskrabulis/miniconda3/envs/quantech/lib/python3.9/site-packages/pyscf/symm/Dmatrix.py:156: RuntimeWarning: invalid value encountered in arccos\n",
      "  gamma = numpy.arccos(yp.dot(c2[1]))\n",
      "Progress:  93%|█████████▎| 464/500 [1:36:43<07:31, 12.54s/it]"
     ]
    },
    {
     "name": "stdout",
     "output_type": "stream",
     "text": [
      "Time to: Calculate Ground State - 1.31s, Get Pauli Ops - 4.48s, Calculate Pauli Expectation Values - 6.65s, Calculate Covariance - 0.16s\n",
      "f0,f1,f2 = [1.4597211468678306e-08, 1.4597211468493646e-08, 1.459721146848853e-08]\n"
     ]
    },
    {
     "name": "stderr",
     "output_type": "stream",
     "text": [
      "/cluster/home/mskrabulis/miniconda3/envs/quantech/lib/python3.9/site-packages/pyscf/symm/Dmatrix.py:156: RuntimeWarning: invalid value encountered in arccos\n",
      "  gamma = numpy.arccos(yp.dot(c2[1]))\n",
      "Progress:  93%|█████████▎| 465/500 [1:36:55<07:18, 12.53s/it]"
     ]
    },
    {
     "name": "stdout",
     "output_type": "stream",
     "text": [
      "Time to: Calculate Ground State - 1.27s, Get Pauli Ops - 4.43s, Calculate Pauli Expectation Values - 6.67s, Calculate Covariance - 0.14s\n",
      "f0,f1,f2 = [1.5285491269663376e-08, 1.5285491269442913e-08, 1.5285491269442688e-08]\n"
     ]
    },
    {
     "name": "stderr",
     "output_type": "stream",
     "text": [
      "/cluster/home/mskrabulis/miniconda3/envs/quantech/lib/python3.9/site-packages/pyscf/symm/Dmatrix.py:156: RuntimeWarning: invalid value encountered in arccos\n",
      "  gamma = numpy.arccos(yp.dot(c2[1]))\n",
      "Progress:  93%|█████████▎| 466/500 [1:37:08<07:06, 12.54s/it]"
     ]
    },
    {
     "name": "stdout",
     "output_type": "stream",
     "text": [
      "Time to: Calculate Ground State - 1.4s, Get Pauli Ops - 4.37s, Calculate Pauli Expectation Values - 6.59s, Calculate Covariance - 0.18s\n",
      "f0,f1,f2 = [1.745438867104787e-08, 1.7454388670818542e-08, 1.7454388670815693e-08]\n"
     ]
    },
    {
     "name": "stderr",
     "output_type": "stream",
     "text": [
      "Progress:  93%|█████████▎| 467/500 [1:37:21<06:56, 12.62s/it]"
     ]
    },
    {
     "name": "stdout",
     "output_type": "stream",
     "text": [
      "Time to: Calculate Ground State - 1.44s, Get Pauli Ops - 4.49s, Calculate Pauli Expectation Values - 6.73s, Calculate Covariance - 0.18s\n",
      "f0,f1,f2 = [1.652188530211453e-08, 1.652188530190111e-08, 1.652188530189398e-08]\n"
     ]
    },
    {
     "name": "stderr",
     "output_type": "stream",
     "text": [
      "Progress:  94%|█████████▎| 468/500 [1:37:33<06:40, 12.53s/it]"
     ]
    },
    {
     "name": "stdout",
     "output_type": "stream",
     "text": [
      "Time to: Calculate Ground State - 1.43s, Get Pauli Ops - 4.19s, Calculate Pauli Expectation Values - 6.51s, Calculate Covariance - 0.17s\n",
      "f0,f1,f2 = [1.5952676065923128e-08, 1.5952676065736265e-08, 1.595267606572077e-08]\n"
     ]
    },
    {
     "name": "stderr",
     "output_type": "stream",
     "text": [
      "Progress:  94%|█████████▍| 469/500 [1:37:46<06:28, 12.54s/it]"
     ]
    },
    {
     "name": "stdout",
     "output_type": "stream",
     "text": [
      "Time to: Calculate Ground State - 1.41s, Get Pauli Ops - 4.5s, Calculate Pauli Expectation Values - 6.51s, Calculate Covariance - 0.16s\n",
      "f0,f1,f2 = [1.2972743832906703e-08, 1.2972743832724771e-08, 1.2972743832736875e-08]\n"
     ]
    },
    {
     "name": "stderr",
     "output_type": "stream",
     "text": [
      "Progress:  94%|█████████▍| 470/500 [1:37:57<06:10, 12.34s/it]"
     ]
    },
    {
     "name": "stdout",
     "output_type": "stream",
     "text": [
      "Time to: Calculate Ground State - 0.88s, Get Pauli Ops - 4.33s, Calculate Pauli Expectation Values - 6.51s, Calculate Covariance - 0.13s\n",
      "f0,f1,f2 = [1.2376186851940394e-08, 1.237618685177373e-08, 1.2376186851761928e-08]\n"
     ]
    },
    {
     "name": "stderr",
     "output_type": "stream",
     "text": [
      "/cluster/home/mskrabulis/miniconda3/envs/quantech/lib/python3.9/site-packages/pyscf/symm/Dmatrix.py:156: RuntimeWarning: invalid value encountered in arccos\n",
      "  gamma = numpy.arccos(yp.dot(c2[1]))\n",
      "Progress:  94%|█████████▍| 471/500 [1:38:09<05:54, 12.23s/it]"
     ]
    },
    {
     "name": "stdout",
     "output_type": "stream",
     "text": [
      "Time to: Calculate Ground State - 0.95s, Get Pauli Ops - 4.29s, Calculate Pauli Expectation Values - 6.54s, Calculate Covariance - 0.19s\n",
      "f0,f1,f2 = [1.063320242917952e-08, 1.063320242902586e-08, 1.063320242903701e-08]\n"
     ]
    },
    {
     "name": "stderr",
     "output_type": "stream",
     "text": [
      "/cluster/home/mskrabulis/miniconda3/envs/quantech/lib/python3.9/site-packages/pyscf/symm/Dmatrix.py:156: RuntimeWarning: invalid value encountered in arccos\n",
      "  gamma = numpy.arccos(yp.dot(c2[1]))\n",
      "Progress:  94%|█████████▍| 472/500 [1:38:22<05:44, 12.31s/it]"
     ]
    },
    {
     "name": "stdout",
     "output_type": "stream",
     "text": [
      "Time to: Calculate Ground State - 1.36s, Get Pauli Ops - 4.46s, Calculate Pauli Expectation Values - 6.55s, Calculate Covariance - 0.14s\n",
      "f0,f1,f2 = [7.616749916302345e-09, 7.616749916177488e-09, 7.616749916175083e-09]\n"
     ]
    },
    {
     "name": "stderr",
     "output_type": "stream",
     "text": [
      "Progress:  95%|█████████▍| 473/500 [1:38:35<05:35, 12.44s/it]"
     ]
    },
    {
     "name": "stdout",
     "output_type": "stream",
     "text": [
      "Time to: Calculate Ground State - 1.37s, Get Pauli Ops - 4.48s, Calculate Pauli Expectation Values - 6.71s, Calculate Covariance - 0.19s\n",
      "f0,f1,f2 = [6.189675428099254e-09, 6.1896754280082655e-09, 6.189675428017844e-09]\n"
     ]
    },
    {
     "name": "stderr",
     "output_type": "stream",
     "text": [
      "Progress:  95%|█████████▍| 474/500 [1:38:47<05:24, 12.48s/it]"
     ]
    },
    {
     "name": "stdout",
     "output_type": "stream",
     "text": [
      "Time to: Calculate Ground State - 1.4s, Get Pauli Ops - 4.4s, Calculate Pauli Expectation Values - 6.6s, Calculate Covariance - 0.16s\n",
      "f0,f1,f2 = [2.401686374840428e-09, 2.4016863747640698e-09, 2.401686374768932e-09]\n"
     ]
    },
    {
     "name": "stderr",
     "output_type": "stream",
     "text": [
      "/cluster/home/mskrabulis/miniconda3/envs/quantech/lib/python3.9/site-packages/pyscf/symm/Dmatrix.py:156: RuntimeWarning: invalid value encountered in arccos\n",
      "  gamma = numpy.arccos(yp.dot(c2[1]))\n",
      "Progress:  95%|█████████▌| 475/500 [1:39:00<05:14, 12.56s/it]"
     ]
    },
    {
     "name": "stdout",
     "output_type": "stream",
     "text": [
      "Time to: Calculate Ground State - 1.38s, Get Pauli Ops - 4.5s, Calculate Pauli Expectation Values - 6.66s, Calculate Covariance - 0.21s\n",
      "f0,f1,f2 = [1.2012620320601655e-09, 1.201262031992984e-09, 1.2012620320065516e-09]\n"
     ]
    },
    {
     "name": "stderr",
     "output_type": "stream",
     "text": [
      "Progress:  95%|█████████▌| 476/500 [1:39:13<05:01, 12.58s/it]"
     ]
    },
    {
     "name": "stdout",
     "output_type": "stream",
     "text": [
      "Time to: Calculate Ground State - 1.44s, Get Pauli Ops - 4.47s, Calculate Pauli Expectation Values - 6.53s, Calculate Covariance - 0.17s\n",
      "f0,f1,f2 = [5.440870563510237e-10, 5.440870564226778e-10, 5.440870563972011e-10]\n"
     ]
    },
    {
     "name": "stderr",
     "output_type": "stream",
     "text": [
      "/cluster/home/mskrabulis/miniconda3/envs/quantech/lib/python3.9/site-packages/pyscf/symm/Dmatrix.py:156: RuntimeWarning: invalid value encountered in arccos\n",
      "  gamma = numpy.arccos(yp.dot(c2[1]))\n",
      "Progress:  95%|█████████▌| 477/500 [1:39:24<04:42, 12.27s/it]"
     ]
    },
    {
     "name": "stdout",
     "output_type": "stream",
     "text": [
      "Time to: Calculate Ground State - 0.86s, Get Pauli Ops - 4.02s, Calculate Pauli Expectation Values - 6.52s, Calculate Covariance - 0.15s\n",
      "f0,f1,f2 = [1.464200750769209e-09, 1.4642007507931361e-09, 1.4642007508025705e-09]\n"
     ]
    },
    {
     "name": "stderr",
     "output_type": "stream",
     "text": [
      "/cluster/home/mskrabulis/miniconda3/envs/quantech/lib/python3.9/site-packages/pyscf/symm/Dmatrix.py:156: RuntimeWarning: invalid value encountered in arccos\n",
      "  gamma = numpy.arccos(yp.dot(c2[1]))\n",
      "Progress:  96%|█████████▌| 478/500 [1:39:37<04:31, 12.33s/it]"
     ]
    },
    {
     "name": "stdout",
     "output_type": "stream",
     "text": [
      "Time to: Calculate Ground State - 1.41s, Get Pauli Ops - 4.27s, Calculate Pauli Expectation Values - 6.62s, Calculate Covariance - 0.19s\n",
      "f0,f1,f2 = [2.206028833752143e-09, 2.2060288337900345e-09, 2.206028833781839e-09]\n"
     ]
    },
    {
     "name": "stderr",
     "output_type": "stream",
     "text": [
      "Progress:  96%|█████████▌| 479/500 [1:39:49<04:21, 12.43s/it]"
     ]
    },
    {
     "name": "stdout",
     "output_type": "stream",
     "text": [
      "Time to: Calculate Ground State - 1.41s, Get Pauli Ops - 4.49s, Calculate Pauli Expectation Values - 6.63s, Calculate Covariance - 0.13s\n",
      "f0,f1,f2 = [3.799823631445902e-09, 3.799823631464887e-09, 3.79982363146631e-09]\n"
     ]
    },
    {
     "name": "stderr",
     "output_type": "stream",
     "text": [
      "Progress:  96%|█████████▌| 480/500 [1:40:02<04:09, 12.46s/it]"
     ]
    },
    {
     "name": "stdout",
     "output_type": "stream",
     "text": [
      "Time to: Calculate Ground State - 1.27s, Get Pauli Ops - 4.5s, Calculate Pauli Expectation Values - 6.63s, Calculate Covariance - 0.14s\n",
      "f0,f1,f2 = [4.900104366367021e-09, 4.900104366365973e-09, 4.9001043663697e-09]\n"
     ]
    },
    {
     "name": "stderr",
     "output_type": "stream",
     "text": [
      "/cluster/home/mskrabulis/miniconda3/envs/quantech/lib/python3.9/site-packages/pyscf/symm/Dmatrix.py:156: RuntimeWarning: invalid value encountered in arccos\n",
      "  gamma = numpy.arccos(yp.dot(c2[1]))\n",
      "Progress:  96%|█████████▌| 481/500 [1:40:14<03:57, 12.50s/it]"
     ]
    },
    {
     "name": "stdout",
     "output_type": "stream",
     "text": [
      "Time to: Calculate Ground State - 1.35s, Get Pauli Ops - 4.47s, Calculate Pauli Expectation Values - 6.59s, Calculate Covariance - 0.18s\n",
      "f0,f1,f2 = [3.749507914579004e-09, 3.749507914570733e-09, 3.749507914564398e-09]\n"
     ]
    },
    {
     "name": "stderr",
     "output_type": "stream",
     "text": [
      "Progress:  96%|█████████▋| 482/500 [1:40:27<03:46, 12.56s/it]"
     ]
    },
    {
     "name": "stdout",
     "output_type": "stream",
     "text": [
      "Time to: Calculate Ground State - 1.33s, Get Pauli Ops - 4.43s, Calculate Pauli Expectation Values - 6.77s, Calculate Covariance - 0.14s\n",
      "f0,f1,f2 = [5.45294173046277e-09, 5.452941730459024e-09, 5.45294173045706e-09]\n"
     ]
    },
    {
     "name": "stderr",
     "output_type": "stream",
     "text": [
      "Progress:  97%|█████████▋| 483/500 [1:40:39<03:30, 12.39s/it]"
     ]
    },
    {
     "name": "stdout",
     "output_type": "stream",
     "text": [
      "Time to: Calculate Ground State - 0.81s, Get Pauli Ops - 4.46s, Calculate Pauli Expectation Values - 6.63s, Calculate Covariance - 0.12s\n",
      "f0,f1,f2 = [6.083871698838459e-09, 6.08387169883585e-09, 6.083871698839056e-09]\n"
     ]
    },
    {
     "name": "stderr",
     "output_type": "stream",
     "text": [
      "Progress:  97%|█████████▋| 484/500 [1:40:52<03:18, 12.40s/it]"
     ]
    },
    {
     "name": "stdout",
     "output_type": "stream",
     "text": [
      "Time to: Calculate Ground State - 1.29s, Get Pauli Ops - 4.51s, Calculate Pauli Expectation Values - 6.49s, Calculate Covariance - 0.13s\n",
      "f0,f1,f2 = [6.723495578929573e-09, 6.723495578932709e-09, 6.723495578932383e-09]\n"
     ]
    },
    {
     "name": "stderr",
     "output_type": "stream",
     "text": [
      "Progress:  97%|█████████▋| 485/500 [1:41:04<03:06, 12.41s/it]"
     ]
    },
    {
     "name": "stdout",
     "output_type": "stream",
     "text": [
      "Time to: Calculate Ground State - 1.28s, Get Pauli Ops - 4.48s, Calculate Pauli Expectation Values - 6.52s, Calculate Covariance - 0.16s\n",
      "f0,f1,f2 = [8.165267496684933e-09, 8.165267496677794e-09, 8.165267496673852e-09]\n"
     ]
    },
    {
     "name": "stderr",
     "output_type": "stream",
     "text": [
      "Progress:  97%|█████████▋| 486/500 [1:41:17<02:54, 12.46s/it]"
     ]
    },
    {
     "name": "stdout",
     "output_type": "stream",
     "text": [
      "Time to: Calculate Ground State - 1.39s, Get Pauli Ops - 4.44s, Calculate Pauli Expectation Values - 6.56s, Calculate Covariance - 0.17s\n",
      "f0,f1,f2 = [6.34996453363872e-09, 6.3499645336537126e-09, 6.3499645336451744e-09]\n"
     ]
    },
    {
     "name": "stderr",
     "output_type": "stream",
     "text": [
      "/cluster/home/mskrabulis/miniconda3/envs/quantech/lib/python3.9/site-packages/pyscf/symm/Dmatrix.py:156: RuntimeWarning: invalid value encountered in arccos\n",
      "  gamma = numpy.arccos(yp.dot(c2[1]))\n",
      "Progress:  97%|█████████▋| 487/500 [1:41:29<02:42, 12.47s/it]"
     ]
    },
    {
     "name": "stdout",
     "output_type": "stream",
     "text": [
      "Time to: Calculate Ground State - 1.35s, Get Pauli Ops - 4.47s, Calculate Pauli Expectation Values - 6.51s, Calculate Covariance - 0.15s\n",
      "f0,f1,f2 = [5.793427631931898e-09, 5.79342763192533e-09, 5.793427631910411e-09]\n"
     ]
    },
    {
     "name": "stderr",
     "output_type": "stream",
     "text": [
      "/cluster/home/mskrabulis/miniconda3/envs/quantech/lib/python3.9/site-packages/pyscf/symm/Dmatrix.py:156: RuntimeWarning: invalid value encountered in arccos\n",
      "  gamma = numpy.arccos(yp.dot(c2[1]))\n",
      "Progress:  98%|█████████▊| 488/500 [1:41:42<02:30, 12.54s/it]"
     ]
    },
    {
     "name": "stdout",
     "output_type": "stream",
     "text": [
      "Time to: Calculate Ground State - 1.39s, Get Pauli Ops - 4.52s, Calculate Pauli Expectation Values - 6.56s, Calculate Covariance - 0.23s\n",
      "f0,f1,f2 = [7.1522911291851185e-09, 7.152291129172156e-09, 7.152291129163976e-09]\n"
     ]
    },
    {
     "name": "stderr",
     "output_type": "stream",
     "text": [
      "/cluster/home/mskrabulis/miniconda3/envs/quantech/lib/python3.9/site-packages/pyscf/symm/Dmatrix.py:156: RuntimeWarning: invalid value encountered in arccos\n",
      "  gamma = numpy.arccos(yp.dot(c2[1]))\n",
      "Progress:  98%|█████████▊| 489/500 [1:41:54<02:18, 12.57s/it]"
     ]
    },
    {
     "name": "stdout",
     "output_type": "stream",
     "text": [
      "Time to: Calculate Ground State - 1.38s, Get Pauli Ops - 4.46s, Calculate Pauli Expectation Values - 6.62s, Calculate Covariance - 0.17s\n",
      "f0,f1,f2 = [6.254425325201796e-09, 6.254425325209638e-09, 6.254425325201317e-09]\n"
     ]
    },
    {
     "name": "stderr",
     "output_type": "stream",
     "text": [
      "Progress:  98%|█████████▊| 490/500 [1:42:07<02:05, 12.57s/it]"
     ]
    },
    {
     "name": "stdout",
     "output_type": "stream",
     "text": [
      "Time to: Calculate Ground State - 1.38s, Get Pauli Ops - 4.54s, Calculate Pauli Expectation Values - 6.53s, Calculate Covariance - 0.13s\n",
      "f0,f1,f2 = [7.331328510574809e-09, 7.331328510562155e-09, 7.331328510558281e-09]\n"
     ]
    },
    {
     "name": "stderr",
     "output_type": "stream",
     "text": [
      "Progress:  98%|█████████▊| 491/500 [1:42:20<01:53, 12.56s/it]"
     ]
    },
    {
     "name": "stdout",
     "output_type": "stream",
     "text": [
      "Time to: Calculate Ground State - 1.36s, Get Pauli Ops - 4.46s, Calculate Pauli Expectation Values - 6.57s, Calculate Covariance - 0.13s\n",
      "f0,f1,f2 = [6.5803543287093095e-09, 6.58035432870697e-09, 6.580354328698354e-09]\n"
     ]
    },
    {
     "name": "stderr",
     "output_type": "stream",
     "text": [
      "/cluster/home/mskrabulis/miniconda3/envs/quantech/lib/python3.9/site-packages/pyscf/symm/Dmatrix.py:156: RuntimeWarning: invalid value encountered in arccos\n",
      "  gamma = numpy.arccos(yp.dot(c2[1]))\n",
      "Progress:  98%|█████████▊| 492/500 [1:42:32<01:40, 12.55s/it]"
     ]
    },
    {
     "name": "stdout",
     "output_type": "stream",
     "text": [
      "Time to: Calculate Ground State - 1.37s, Get Pauli Ops - 4.49s, Calculate Pauli Expectation Values - 6.52s, Calculate Covariance - 0.13s\n",
      "f0,f1,f2 = [7.240452806911931e-09, 7.240452806901271e-09, 7.240452806903847e-09]\n"
     ]
    },
    {
     "name": "stderr",
     "output_type": "stream",
     "text": [
      "/cluster/home/mskrabulis/miniconda3/envs/quantech/lib/python3.9/site-packages/pyscf/symm/Dmatrix.py:156: RuntimeWarning: invalid value encountered in arccos\n",
      "  gamma = numpy.arccos(yp.dot(c2[1]))\n",
      "/cluster/home/mskrabulis/miniconda3/envs/quantech/lib/python3.9/site-packages/pyscf/symm/Dmatrix.py:156: RuntimeWarning: invalid value encountered in arccos\n",
      "  gamma = numpy.arccos(yp.dot(c2[1]))\n",
      "Progress:  99%|█████████▊| 493/500 [1:42:44<01:27, 12.50s/it]"
     ]
    },
    {
     "name": "stdout",
     "output_type": "stream",
     "text": [
      "Time to: Calculate Ground State - 1.33s, Get Pauli Ops - 4.44s, Calculate Pauli Expectation Values - 6.47s, Calculate Covariance - 0.13s\n",
      "f0,f1,f2 = [7.783018782392869e-09, 7.783018782375887e-09, 7.78301878238137e-09]\n"
     ]
    },
    {
     "name": "stderr",
     "output_type": "stream",
     "text": [
      "/cluster/home/mskrabulis/miniconda3/envs/quantech/lib/python3.9/site-packages/pyscf/symm/Dmatrix.py:156: RuntimeWarning: invalid value encountered in arccos\n",
      "  gamma = numpy.arccos(yp.dot(c2[1]))\n",
      "/cluster/home/mskrabulis/miniconda3/envs/quantech/lib/python3.9/site-packages/pyscf/symm/Dmatrix.py:156: RuntimeWarning: invalid value encountered in arccos\n",
      "  gamma = numpy.arccos(yp.dot(c2[1]))\n",
      "Progress:  99%|█████████▉| 494/500 [1:42:57<01:14, 12.44s/it]"
     ]
    },
    {
     "name": "stdout",
     "output_type": "stream",
     "text": [
      "Time to: Calculate Ground State - 1.3s, Get Pauli Ops - 4.39s, Calculate Pauli Expectation Values - 6.44s, Calculate Covariance - 0.16s\n",
      "f0,f1,f2 = [5.224183796169543e-09, 5.224183796162781e-09, 5.2241837961668285e-09]\n"
     ]
    },
    {
     "name": "stderr",
     "output_type": "stream",
     "text": [
      "Progress:  99%|█████████▉| 495/500 [1:43:09<01:01, 12.32s/it]"
     ]
    },
    {
     "name": "stdout",
     "output_type": "stream",
     "text": [
      "Time to: Calculate Ground State - 0.87s, Get Pauli Ops - 4.43s, Calculate Pauli Expectation Values - 6.53s, Calculate Covariance - 0.2s\n",
      "f0,f1,f2 = [6.984838445947795e-09, 6.984838445953172e-09, 6.984838445944137e-09]\n"
     ]
    },
    {
     "name": "stderr",
     "output_type": "stream",
     "text": [
      "Progress:  99%|█████████▉| 496/500 [1:43:21<00:49, 12.29s/it]"
     ]
    },
    {
     "name": "stdout",
     "output_type": "stream",
     "text": [
      "Time to: Calculate Ground State - 0.93s, Get Pauli Ops - 4.49s, Calculate Pauli Expectation Values - 6.58s, Calculate Covariance - 0.21s\n",
      "f0,f1,f2 = [6.5448297031068775e-09, 6.544829703095358e-09, 6.5448297030816725e-09]\n"
     ]
    },
    {
     "name": "stderr",
     "output_type": "stream",
     "text": [
      "Progress:  99%|█████████▉| 497/500 [1:43:33<00:36, 12.33s/it]"
     ]
    },
    {
     "name": "stdout",
     "output_type": "stream",
     "text": [
      "Time to: Calculate Ground State - 1.35s, Get Pauli Ops - 4.44s, Calculate Pauli Expectation Values - 6.5s, Calculate Covariance - 0.13s\n",
      "f0,f1,f2 = [7.021958646961578e-09, 7.021958646948091e-09, 7.021958646955096e-09]\n"
     ]
    },
    {
     "name": "stderr",
     "output_type": "stream",
     "text": [
      "/cluster/home/mskrabulis/miniconda3/envs/quantech/lib/python3.9/site-packages/pyscf/symm/Dmatrix.py:156: RuntimeWarning: invalid value encountered in arccos\n",
      "  gamma = numpy.arccos(yp.dot(c2[1]))\n",
      "Progress: 100%|█████████▉| 498/500 [1:43:45<00:24, 12.15s/it]"
     ]
    },
    {
     "name": "stdout",
     "output_type": "stream",
     "text": [
      "Time to: Calculate Ground State - 0.86s, Get Pauli Ops - 4.32s, Calculate Pauli Expectation Values - 6.43s, Calculate Covariance - 0.14s\n",
      "f0,f1,f2 = [6.690751217741431e-09, 6.690751217718663e-09, 6.69075121771727e-09]\n"
     ]
    },
    {
     "name": "stderr",
     "output_type": "stream",
     "text": [
      "/cluster/home/mskrabulis/miniconda3/envs/quantech/lib/python3.9/site-packages/pyscf/symm/Dmatrix.py:156: RuntimeWarning: invalid value encountered in arccos\n",
      "  gamma = numpy.arccos(yp.dot(c2[1]))\n",
      "Progress: 100%|█████████▉| 499/500 [1:43:57<00:12, 12.21s/it]"
     ]
    },
    {
     "name": "stdout",
     "output_type": "stream",
     "text": [
      "Time to: Calculate Ground State - 1.14s, Get Pauli Ops - 4.47s, Calculate Pauli Expectation Values - 6.5s, Calculate Covariance - 0.23s\n",
      "f0,f1,f2 = [5.697481521334431e-09, 5.6974815213263186e-09, 5.6974815213287e-09]\n"
     ]
    },
    {
     "name": "stderr",
     "output_type": "stream",
     "text": [
      "Progress: 100%|██████████| 500/500 [1:44:10<00:00, 12.50s/it]"
     ]
    },
    {
     "name": "stdout",
     "output_type": "stream",
     "text": [
      "Time to: Calculate Ground State - 1.32s, Get Pauli Ops - 4.48s, Calculate Pauli Expectation Values - 6.59s, Calculate Covariance - 0.2s\n",
      "f0,f1,f2 = [6.158008761315771e-09, 6.158008761308832e-09, 6.158008761329936e-09]\n"
     ]
    },
    {
     "name": "stderr",
     "output_type": "stream",
     "text": [
      "\n"
     ]
    },
    {
     "data": {
      "image/png": "[encoded data removed]",
      "text/plain": [
       "<Figure size 640x480 with 1 Axes>"
      ]
     },
     "metadata": {},
     "output_type": "display_data"
    }
   ],
   "source": [
    "from matplotlib import pyplot as plt\n",
    "(distance01,distance02,distance12,times) = main()\n",
    "\n",
    "np_distance01 = np.array(distance01)\n",
    "np_distance02 = np.array(distance02)\n",
    "np_distance12 = np.array(distance12)\n",
    "\n",
    "plt.plot(times,np_distance01[:-1],label = 'd01')\n",
    "plt.plot(times,np_distance02[:-1],label = 'd02')\n",
    "plt.plot(times,np_distance12[:-1],label = 'd12')\n",
    "\n",
    "plt.title('Distances at time t')\n",
    "plt.xlabel('Time')\n",
    "plt.ylabel('Distance')\n",
    "plt.legend()\n",
    "plt.show()"
   ]
  },
  {
   "cell_type": "code",
   "execution_count": null,
   "id": "885910be",
   "metadata": {},
   "outputs": [],
   "source": []
  }
 ],
 "metadata": {
  "kernelspec": {
   "display_name": "Python 3 (ipykernel)",
   "language": "python",
   "name": "python3"
  },
  "language_info": {
   "codemirror_mode": {
    "name": "ipython",
    "version": 3
   },
   "file_extension": ".py",
   "mimetype": "text/x-python",
   "name": "python",
   "nbconvert_exporter": "python",
   "pygments_lexer": "ipython3",
   "version": "3.9.15"
  }
 },
 "nbformat": 4,
 "nbformat_minor": 5
}
