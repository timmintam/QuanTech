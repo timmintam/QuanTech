{
 "cells": [
  {
   "cell_type": "code",
   "execution_count": 1,
   "id": "fbc296ce",
   "metadata": {},
   "outputs": [],
   "source": [
    "import numpy as np\n",
    "import matplotlib.pyplot as plt\n",
    "\n",
    "from pyscf import ao2mo,gto, scf\n",
    "\n",
    "from typing import Tuple\n",
    "\n",
    "\n",
    "# qiskit\n",
    "from qiskit.algorithms import VQE\n",
    "from qiskit.algorithms.optimizers import COBYLA, SPSA, SLSQP, NELDER_MEAD\n",
    "from qiskit.algorithms import MinimumEigensolverResult\n",
    "\n",
    "from qiskit import IBMQ, BasicAer, Aer\n",
    "from qiskit.utils import QuantumInstance\n",
    "from qiskit.quantum_info.operators import Operator\n",
    "from qiskit.opflow import PauliExpectation, CircuitSampler, StateFn, CircuitStateFn\n",
    "from qiskit.opflow.primitive_ops import PauliOp, PauliSumOp\n",
    "from qiskit.quantum_info import Pauli, SparsePauliOp\n",
    "\n",
    "# qiskit nature\n",
    "from qiskit_nature.second_q.hamiltonians import ElectronicEnergy\n",
    "from qiskit_nature.second_q.mappers import ParityMapper, QubitConverter\n",
    "from qiskit_nature.second_q.problems import ElectronicStructureProblem\n",
    "from qiskit_nature.second_q.operators import FermionicOp\n",
    "from qiskit_nature.second_q.properties import ParticleNumber\n",
    "from qiskit_nature.second_q.transformers import FreezeCoreTransformer\n",
    "from qiskit_nature.second_q.circuit.library import UCCSD, HartreeFock\n",
    "from qiskit_nature.second_q.problems import ElectronicBasis\n",
    "from qiskit_nature.second_q.formats.molecule_info import MoleculeInfo\n",
    "from qiskit_nature.drivers import Molecule\n",
    "from qiskit_nature.drivers.second_quantization import (\n",
    "    ElectronicStructureMoleculeDriver, ElectronicStructureDriverType)\n",
    "\n",
    "from qiskit_nature.settings import settings\n",
    "settings.dict_aux_operators = True\n",
    "\n",
    "#from qiskit import IBMQ\n",
    "#from qiskit_nature.runtime import VQEClient\n",
    "#from qiskit.providers.ibmq import least_busy\n",
    "#from qiskit_ibm_runtime import QiskitRuntimeService, Estimator, Session\n",
    "\n",
    "# useful??\n",
    "#from qiskit_nature.algorithms import (GroundStateEigensolver,\n",
    "#                                      NumPyMinimumEigensolverFactory)\n",
    "from qiskit.circuit.library import EfficientSU2\n",
    "from qiskit.circuit.library import RealAmplitudes\n",
    "from qiskit.utils.mitigation import CompleteMeasFitter\n",
    "from qiskit.providers.aer.noise import NoiseModel\n",
    "from qiskit.providers.aer import QasmSimulator\n",
    "from qiskit import QuantumCircuit, transpile\n",
    "from qiskit.opflow import TwoQubitReduction\n",
    "\n",
    "def get_molecular_integrals(molecule):\n",
    "    '''\n",
    "    Calculates the 1-electron and 2-electron integrals.\n",
    "    \n",
    "    Args:   \n",
    "        molecule : Mole \n",
    "            Ccorresponds to the molecule.\n",
    "            \n",
    "    Returns:\n",
    "        h1_MO : ndarray\n",
    "                Tensor corresponding to the 1-electron integral in the molecular basis.\n",
    "        \n",
    "        h2_MO : ndarray\n",
    "                Tensor corresponding to the 2-electron integral in the molecular basis.\n",
    "\n",
    "        n_particles: Tuple[int, int]\n",
    "            Number of alpha and beta electrons.\n",
    "        \n",
    "        num_orb : int \n",
    "            Number of orbitals.\n",
    "\n",
    "        nuclear_repulsion_energy : float\n",
    "            Nuclear repulsion energy.\n",
    "    '''\n",
    "    \n",
    "    mf = scf.RHF(molecule).run()\n",
    "\n",
    "    # computing the 1e and 2e AO (atomic orbitals) integrals \n",
    "    h1 = molecule.intor_symmetric(\"int1e_nuc\") + molecule.intor_symmetric(\"int1e_kin\") \n",
    "    h2 = molecule.intor(\"int2e\")\n",
    "    # comment : add aosym (axis of symmetry) ???\n",
    "\n",
    "    # transformations from AO to MO (molecular orbitals)\n",
    "    h1_MO = np.einsum('pi,pq,qj->ij', mf.mo_coeff, h1, mf.mo_coeff)\n",
    "    h2_MO = ao2mo.get_mo_eri(h2, mf.mo_coeff)\n",
    "\n",
    "    #h2_MO = ao2mo.kernel(mol_h2, mf.mo_coeff, aosym=\"1\") #alternative\n",
    "\n",
    "    nuclear_repulsion_energy=molecule.energy_nuc()\n",
    "    num_particles = molecule.nelec\n",
    "    num_orb = h1.shape[0]\n",
    "\n",
    "    return h1_MO, h2_MO, num_particles, num_orb, nuclear_repulsion_energy\n",
    "\n",
    "\n",
    "def get_qubit_op(coordinates):\n",
    "    '''\n",
    "    Calculates the Hamiltonian as the sum of Pauli operators as a function\n",
    "    of the coordinates of the atoms.\n",
    "    \n",
    "    Args:\n",
    "        coordinates : ndarray\n",
    "            Array containing the positions of the atoms constituing the molecule.\n",
    "        \n",
    "    \n",
    "    Returns:\n",
    "        qubit_op : PauliSumOp\n",
    "            Sum of Pauli operators corresponding to the Hamiltonian.\n",
    "        \n",
    "        nelec : Tuple[int, int]\n",
    "            Number of alpha and beta electrons.\n",
    "        \n",
    "        norb : int \n",
    "            Number of orbitals.\n",
    "            \n",
    "        problem : ElectronicStructureProblem\n",
    "        \n",
    "        converter : QubitConverter\n",
    "    '''\n",
    "    \n",
    "    mol = gto.M(\n",
    "                atom = [['H',(coordinates[0], coordinates[1], 0.0)], \n",
    "                        ['H',(coordinates[2], coordinates[3], 0.0)],\n",
    "                        ['H',(coordinates[4], coordinates[5], 0.0)]],\n",
    "                basis = 'sto3g',\n",
    "                charge = 1,\n",
    "                spin = 0,\n",
    "                symmetry = True,\n",
    "                verbose = 2 # control the print level of PySCF globally\n",
    "    )\n",
    "\n",
    "    h1_MO,h2_MO,nelec,norb,ecore = get_molecular_integrals(mol)\n",
    "\n",
    "    # Define an ElectronicEnergy instance containing the 1e and 2e integrals\n",
    "    electronic_energy = ElectronicEnergy.from_raw_integrals(\n",
    "            h1_MO, ao2mo.restore(1, h2_MO, norb)\n",
    "        )\n",
    "    electronic_energy.nuclear_repulsion_energy = ecore\n",
    "\n",
    "    # Define an ElectronicStructureProblem\n",
    "    problem = ElectronicStructureProblem(electronic_energy)\n",
    "\n",
    "    second_q_ops = problem.second_q_ops()     # get second quantized operators\n",
    "    problem.num_spatial_orbitals = norb  # define number of orbitals\n",
    "    problem.num_particles = nelec        # define number of particles \n",
    "    \n",
    "    problem.basis = ElectronicBasis.MO \n",
    "    \n",
    "    problem.molecule=MoleculeInfo(symbols=[mol.atom_symbol(i) for i in range(mol.nbas)], \n",
    "                                  coords=mol.atom_coords())\n",
    "    FC_transformer=FreezeCoreTransformer(freeze_core=True)\n",
    "    problem = FC_transformer.transform(problem)\n",
    "    \n",
    "    # TODO we need to give info about the molecule to use FreezeCoreTransformer \n",
    "    # question : how to do it in a smart way ? at the initialization ??\n",
    "    \n",
    "    hamiltonian = second_q_ops[0]  # Set electronic part of Hamiltonian\n",
    "    hamiltonian = (hamiltonian + FermionicOp({\"\": ecore}, num_spin_orbitals=norb)) # add Nuclear Repulsion Energy\n",
    "    #print(\"Hamiltonian :\\n\", hamiltonian) # print for checking purposes\n",
    "    \n",
    "    mapper = ParityMapper()  # Set Mapper\n",
    "    \n",
    "    # Do two qubit reduction\n",
    "    converter = QubitConverter(mapper,two_qubit_reduction=True)\n",
    "    qubit_op = converter.convert(hamiltonian, nelec)\n",
    "    #print(\"q_op :\\n\", qubit_op) # print for checking purposes\n",
    "    \n",
    "\n",
    "    return qubit_op, nelec, norb, problem, converter\n",
    "\n",
    "def calc_ground_state(qubit_op,nelec,norb,problem,converter) :\n",
    "    '''\n",
    "    Calculates the ground state and the ground energy of the Hamiltonian.\n",
    "    \n",
    "    Args:\n",
    "        qubit_op : PauliSumOp\n",
    "            Sum of Pauli operators corresponding to the Hamiltonian.\n",
    "        \n",
    "        nelec : Tuple[int, int]\n",
    "            Number of alpha and beta electrons.\n",
    "        \n",
    "        norb : int \n",
    "            Number of orbitals.\n",
    "            \n",
    "        problem : ElectronicStructureProblem\n",
    "        \n",
    "        converter : QubitConverter\n",
    "        \n",
    "    \n",
    "    Returns:\n",
    "        ground_state : CircuitStateFn\n",
    "            Ground state of the Hamiltonian.\n",
    "            \n",
    "        min_eng : float\n",
    "            Ground energy of the Hamiltonian.\n",
    "    '''\n",
    "\n",
    "    backend = BasicAer.get_backend(\"statevector_simulator\")\n",
    "    quantum_instance = QuantumInstance(backend)\n",
    "    optimizer = SLSQP(maxiter=400)\n",
    "\n",
    "    init_state = HartreeFock(num_spatial_orbitals=norb, \n",
    "                                num_particles=nelec, \n",
    "                                qubit_converter=converter\n",
    "                            )\n",
    "    \n",
    "    var_form = UCCSD(qubit_converter=converter,\n",
    "                        num_particles=nelec,\n",
    "                        num_spatial_orbitals=norb, \n",
    "                        initial_state=init_state\n",
    "                        )\n",
    "\n",
    "    vqe = VQE(var_form, optimizer, quantum_instance=quantum_instance) \n",
    "    vqe_result = vqe.compute_minimum_eigenvalue(qubit_op)\n",
    "    min_eng = vqe_result.eigenvalue.real\n",
    "    final_params = vqe_result.optimal_parameters \n",
    "\n",
    "    vqe_ground = vqe.ansatz.bind_parameters(final_params) \n",
    "#     vqe_ground_state = CircuitStateFn(vqe_ground)\n",
    "    \n",
    "    return vqe_ground, min_eng"
   ]
  },
  {
   "cell_type": "code",
   "execution_count": 2,
   "id": "3f5daa79",
   "metadata": {},
   "outputs": [],
   "source": [
    "Ha = 4.36e-18\n",
    "angst = 1.0e-10\n",
    "dR = 0.01 #removed the angst, since coordinates are given in angst\n",
    "\n",
    "\n",
    "from qiskit.opflow import I, X, Y, Z\n",
    "from qiskit.opflow.primitive_ops import PauliOp\n",
    "from qiskit.quantum_info import Pauli\n",
    "#from hamiltonian import calc_ground_state, get_qubit_op\n",
    "import numpy as np\n",
    "from qiskit.utils import QuantumInstance\n",
    "from qiskit.opflow import PauliExpectation, CircuitSampler, StateFn, CircuitStateFn\n",
    "from qiskit import IBMQ, BasicAer, Aer\n",
    "\n",
    "import time #to see which part of code takes the longest\n",
    "import multiprocessing\n",
    "\n",
    "\n",
    "def expectation_exact(psi_0,op):\n",
    "    \n",
    "    return psi_0.adjoint().compose(op).compose(psi_0).eval().real\n",
    "    \n",
    "    \n",
    "    \n",
    "\n",
    "\n",
    "\n",
    "#calculate centre of mass (currently for equal particle masses)\n",
    "def calc_COM(coordinates):\n",
    "    #print(coordinates)\n",
    "    r_array = np.array_split(coordinates,3)\n",
    "    COM = (r_array[0] + r_array[1] + r_array[2])/3\n",
    "    \n",
    "    return COM\n",
    "\n",
    "#task to calculate expectation value\n",
    "def task1(string, q_instance, psi_0):\n",
    "\n",
    "    Obs = PauliOp(Pauli(string))\n",
    "    measurable_expression = StateFn(Obs, is_measurement=True).compose(psi_0)\n",
    "    expectation = PauliExpectation().convert(measurable_expression)  \n",
    "    sampler = CircuitSampler(q_instance).convert(expectation) \n",
    "    E = sampler.eval().real\n",
    "    E_ex = expectation_exact(psi_0,Obs)\n",
    "        \n",
    "    return (E,E_ex)\n",
    "\n",
    "#task to calculate operator from coordinates\n",
    "def task2(coordinates):\n",
    "    \n",
    "    #get qubit operators coresponding to H+ (hamiltonian for atomic distances R + dR)\n",
    "    (qubit_op_plus, num_part_plus, num_orb_plus, problem_plus, converter_plus) = get_qubit_op(coordinates[0])\n",
    "    #get qubit operators coresponding to H- (hamiltonian for atomic distances R - dR)\n",
    "    (qubit_op_minus, num_part_minus, num_orb_minus, problem_minus, converter_minus) = get_qubit_op(coordinates[1])\n",
    "        \n",
    "    qubit_op_plus = qubit_op_plus #TODO:number of I's needs to be changed according to number of qubits\n",
    "    qubit_op_minus = qubit_op_minus\n",
    "       \n",
    "    #op =  (-(qubit_op_plus - qubit_op_minus)).reduce()\n",
    "    op =  -(qubit_op_plus - qubit_op_minus)\n",
    "\n",
    "                    \n",
    "    op_list = op.primitive.to_list() #list containing Pauli operators in support and corresponding coeffs\n",
    "    #print(op_list)    \n",
    "    #construct dict from list\n",
    "    op_dict = {}\n",
    "    for (PauliString,coeff) in op_list:\n",
    "\n",
    "        if PauliString in op_dict:\n",
    "            op_dict[PauliString] += coeff\n",
    "        else:\n",
    "            op_dict[PauliString] = coeff\n",
    "    \n",
    "    return op, op_dict\n",
    " \n",
    "def parallel_operators(coordinates,basis_set):\n",
    "    \n",
    "    \n",
    "    coordinate_list = []\n",
    "    \n",
    "    v0_normed = basis_set[0]\n",
    "    v0_orth = basis_set[1]\n",
    "    \n",
    "    v1_normed = basis_set[2]\n",
    "    v1_orth = basis_set[3]\n",
    "\n",
    "    v2_normed = basis_set[4]\n",
    "    v2_orth = basis_set[5]\n",
    "    \n",
    "    displ_coords_0_a = np.array([v0_normed[0]*dR,v0_normed[1]*dR,0,0,0,0])\n",
    "    displ_coords_0_b = np.array([v0_orth[0]*dR,v0_orth[1]*dR,0,0,0,0])\n",
    "    displ_coords_1_a = np.array([0,0,v1_normed[0]*dR,v1_normed[1]*dR,0,0])\n",
    "    displ_coords_1_b = np.array([0,0,v1_orth[0]*dR,v1_orth[1]*dR,0,0])\n",
    "    displ_coords_2_a = np.array([0,0,0,0,v2_normed[0]*dR,v2_normed[1]*dR])\n",
    "    displ_coords_2_b = np.array([0,0,0,0,v2_orth[0]*dR,v2_orth[1]*dR])\n",
    "    #print(displ_coords_0_a)\n",
    "    #print(displ_coords_0_b)\n",
    "    #print(displ_coords_1_a)\n",
    "    #print(displ_coords_1_b)\n",
    "    #print(displ_coords_2_a)\n",
    "    #print(displ_coords_2_b)\n",
    "\n",
    "    coordinate_list.append([coordinates + displ_coords_0_a,coordinates - displ_coords_0_a])\n",
    "    coordinate_list.append([coordinates + displ_coords_0_b,coordinates - displ_coords_0_b])\n",
    "    coordinate_list.append([coordinates + displ_coords_1_a,coordinates - displ_coords_1_a])\n",
    "    coordinate_list.append([coordinates + displ_coords_1_b,coordinates - displ_coords_1_b])\n",
    "    coordinate_list.append([coordinates + displ_coords_2_a,coordinates - displ_coords_2_a])\n",
    "    coordinate_list.append([coordinates + displ_coords_2_b,coordinates - displ_coords_2_b])\n",
    "    \n",
    "    #dR_list = v0_normed.tolist() + v1_normed.tolist() + v2_normed.tolist()\n",
    "    \n",
    "    dR_list = [dR,dR,dR,dR,dR,dR]\n",
    "    #print(dR_list)\n",
    "    #for i in range(len(coordinates)):\n",
    "        \n",
    "        #coordinate_list.append([coordinates[0:i]+[(coordinates[i]+dR_list[i])]+coordinates[i+1:],coordinates[0:i]+[(coordinates[i]-dR_list[i])]+coordinates[i+1:]])\n",
    "    \n",
    "    #print(coordinate_list)\n",
    "    with multiprocessing.Pool() as pool:\n",
    "         ops,op_coeffs = zip(*pool.map(task2, coordinate_list))\n",
    "    \n",
    "    #print(ops)\n",
    "    return ops, op_coeffs\n",
    "\n",
    "def sequential_operators(coordinates):\n",
    "    ops = []\n",
    "    op_coeffs = []\n",
    "    \n",
    "    for i in range(len(coordinates)):\n",
    "        \n",
    "        #get qubit operators coresponding to H+ (hamiltonian for atomic distances R + dR)\n",
    "        (qubit_op_plus, num_part_plus, num_orb_plus, problem_plus, converter_plus) = get_qubit_op(coordinates[0:i]+[(coordinates[i]+dR)]+coordinates[i+1:])\n",
    "        #get qubit operators coresponding to H- (hamiltonian for atomic distances R - dR)\n",
    "        (qubit_op_minus, num_part_minus, num_orb_minus, problem_minus, converter_minus) = get_qubit_op(coordinates[0:i]+[(coordinates[i]-dR)]+coordinates[i+1:])\n",
    "\n",
    "        rep_eng_plus = problem_plus.grouped_property_transformed.get_property(\"ElectronicEnergy\").nuclear_repulsion_energy\n",
    "        rep_eng_minus  = problem_minus.grouped_property_transformed.get_property(\"ElectronicEnergy\").nuclear_repulsion_energy\n",
    "        \n",
    "        qubit_op_plus = qubit_op_plus + rep_eng_plus*(I^I^I^I) #TODO:number of I's needs to be changed according to number of qubits\n",
    "        qubit_op_minus = qubit_op_minus + rep_eng_minus*(I^I^I^I)\n",
    "        \n",
    "       \n",
    "        op =  -(qubit_op_plus - qubit_op_minus).reduce()\n",
    "                    \n",
    "        op_list = op.primitive.to_list() #list containing Pauli operators in support and corresponding coeffs\n",
    "        \n",
    "        #construct dict from list\n",
    "        op_dict = {}\n",
    "        for (PauliString,coeff) in op_list:\n",
    "\n",
    "            if PauliString in op_dict:\n",
    "                op_dict[PauliString] += coeff\n",
    "            else:\n",
    "                op_dict[PauliString] = coeff\n",
    "                \n",
    "        ops.append(op)\n",
    "        op_coeffs.append(op_dict)\n",
    "    #print(ops)\n",
    "    return ops, op_coeffs\n",
    "\n",
    "def parallel_expectations(exp_dict_exact, exp_dict, op_set, q_instance, psi_0):\n",
    "\n",
    "    triples = []\n",
    "    for op in op_set:\n",
    "        triple = (op,q_instance,psi_0)\n",
    "        triples.append(triple)\n",
    "\n",
    "    Es = 0\n",
    "    with multiprocessing.Pool() as pool:\n",
    "        Es,E_ex = zip(*pool.starmap(task1, triples))\n",
    "        #print(Es)\n",
    "        #print(E_ex)\n",
    "        #Es,E_ex = pool.starmap(task1, triples)\n",
    "    for i in range(len(Es)):\n",
    "        \n",
    "        exp_dict[triples[i][0]]=Es[i]\n",
    "        exp_dict_exact[triples[i][0]]=E_ex[i]\n",
    "                       \n",
    "    return 0\n",
    "\n",
    "def sequential_expectations(exp_dict, op_set, q_instance, psi_0):\n",
    "\n",
    "    for pauli_string in op_set:\n",
    "        \n",
    "        Obs = PauliOp(Pauli(pauli_string))\n",
    "        measurable_expression = StateFn(Obs, is_measurement=True).compose(psi_0)\n",
    "        expectation = PauliExpectation().convert(measurable_expression)  \n",
    "        sampler = CircuitSampler(q_instance).convert(expectation) \n",
    "        E = sampler.eval().real\n",
    "        exp_dict[pauli_string] = E\n",
    "\n",
    "    return 0\n",
    "\n",
    "def get_psi_0(coordinates, simulator='qasm',shots=1028):\n",
    "\n",
    "    #get qubit operator corresponding to H(R)\n",
    "    (qubit_op, num_part, num_orb, problem, converter) = get_qubit_op(coordinates)\n",
    "    \n",
    "    #get the ground state of H(R)\n",
    "    psi_0,_ = calc_ground_state(qubit_op,num_part, num_orb, problem, converter)\n",
    "    \n",
    "    psi_0 = CircuitStateFn(psi_0)\n",
    "\n",
    "    return psi_0\n",
    "\n",
    "def calc_force_and_cov(coordinates, simulator = 'qasm', PauliSet = None, mode = 'full', shots = 128, basis_set_this=None):\n",
    "  \n",
    "    \n",
    "    if simulator == 'qasm':\n",
    "            backend = Aer.get_backend('qasm_simulator')\n",
    "            #backend.set_options(max_job_size=1, executor = euler_client)\n",
    "            q_instance = QuantumInstance(backend, shots=shots)\n",
    "    elif simulator == \"exact\":\n",
    "            backend = BasicAer.get_backend(\"statevector_simulator\")\n",
    "            q_instance = QuantumInstance(backend)\n",
    "    else:\n",
    "        print('Error: simulator should be qasm or exact!')\n",
    "        \n",
    "    num_coord = len(coordinates)   \n",
    "    \n",
    "    start = time.time()\n",
    "    \n",
    "\n",
    "    psi_0 = get_psi_0(coordinates, simulator = simulator, shots=shots)\n",
    "    \n",
    "    end = time.time()\n",
    "    \n",
    "    \n",
    "    time_psi_0 = end - start\n",
    "    #print(\"Took \" + str(time_psi_0) + \" s to calculate the ground state\")\n",
    "    forces = np.zeros(num_coord)\n",
    "    forces_exact = np.zeros(num_coord)\n",
    "    coordinates = coordinates.tolist()\n",
    "    \n",
    "    \n",
    "    coordinates_this = np.array(coordinates)\n",
    "    COM = calc_COM(coordinates_this)\n",
    "    coords = np.array_split(coordinates_this,3)\n",
    "    #print(coords)\n",
    "    #print(COM)\n",
    "    v0 = coords[0] - COM\n",
    "    v1 = coords[1] - COM\n",
    "    v2 = coords[2] - COM\n",
    "    \n",
    "    v0_normed = np.array(v0/np.sqrt(v0[0]**2+v0[1]**2))\n",
    "    v0_orth = np.array([v0_normed[1],-v0_normed[0]])\n",
    "    \n",
    "    v1_normed = np.array(v1/np.sqrt(v1[0]**2+v1[1]**2))\n",
    "    v1_orth = np.array([v1_normed[1],-v1_normed[0]])\n",
    "\n",
    "    v2_normed = np.array(v2/np.sqrt(v2[0]**2+v2[1]**2))\n",
    "    v2_orth = np.array([v2_normed[1],-v2_normed[0]])\n",
    "    \n",
    "    #rotated basis\n",
    "    if basis_set_this == \"rotated\":\n",
    "        basis_set = [v0_normed,v0_orth,v1_normed,v1_orth,v2_normed,v2_orth]\n",
    "    #cartesian basis\n",
    "    elif basis_set_this == \"cartesian\":\n",
    "        basis_set = [[1,0],[0,1],[1,0],[0,1],[1,0],[0,1]]\n",
    "    \n",
    "    #basis_set = basis_set_this\n",
    "\n",
    "    transform_matrix = np.array([[basis_set[0][0],basis_set[1][0],0,0,0,0],\n",
    "                                 [basis_set[0][1],basis_set[1][1],0,0,0,0],\n",
    "                                 [0,0,basis_set[2][0],basis_set[3][0],0,0],\n",
    "                                 [0,0,basis_set[2][1],basis_set[3][1],0,0],\n",
    "                                 [0,0,0,0,basis_set[4][0],basis_set[5][0]],\n",
    "                                 [0,0,0,0,basis_set[4][1],basis_set[5][1]]])\n",
    "    \n",
    "    transform_matrix_inv = np.linalg.inv(transform_matrix)\n",
    "    \n",
    "    start = time.time()\n",
    "    #get force component operators and decomposition (without the 1/(2*dR) factor, for numerical reasons)\n",
    "    #replace parallel_ with sequential_ to see effect of parallelization\n",
    "    force_ops,force_op_coeffs = parallel_operators(coordinates,basis_set)\n",
    "    \n",
    "    #for ops in force_ops:\n",
    "        #print(len(ops))\n",
    "        \n",
    "    P1 = force_ops[0]\n",
    "    \n",
    "    if PauliSet == None:\n",
    "        \n",
    "        pauli_op_set = {'IIII'} #Could not initialize empty set for some reason\n",
    "        # construct set of PauliOp products that we need to calculate\n",
    "\n",
    "        for PauliString,coeff in force_op_coeffs[0].items():\n",
    "            pauli_op_set.add(PauliString)\n",
    "\n",
    "        #to get set of necessary PauliOp products:\n",
    "        \n",
    "            P_prod = (P1@P1)\n",
    "            P_list = P_prod.primitive.to_list()\n",
    "\n",
    "            for (PauliString,coeff) in P_list:\n",
    "                pauli_op_set.add(PauliString)\n",
    "                \n",
    "    else: pauli_op_set = PauliSet\n",
    "        \n",
    "    end = time.time()\n",
    "    \n",
    "    time_pauli_ops = end - start\n",
    "        \n",
    "\n",
    "        # Now we calculate the expectation values of all the relevant PauliOps\n",
    "    \n",
    "    start = time.time()\n",
    "    exp_dict = {} # dictionary with relevant expectation values\n",
    "    exp_dict_exact = {}  # dictionary with exact relevant expectation values\n",
    "        \n",
    "    #switch between parallel_ and sequential_ to see the effect\n",
    "    \n",
    "    parallel_expectations(exp_dict_exact,exp_dict,pauli_op_set,q_instance,psi_0)\n",
    "    \n",
    "\n",
    "    for i in range(len(coordinates)):\n",
    "        for pauli_op,coeff in force_op_coeffs[i].items():\n",
    "            forces[i] += coeff.real*exp_dict[pauli_op]\n",
    "            forces_exact[i] += coeff.real*exp_dict_exact[pauli_op]\n",
    "    \n",
    "    #forces[1] = 0\n",
    "    #forces[3] = 0\n",
    "    #forces[5] = 0\n",
    "    \n",
    "    if basis_set_this == \"rotated\":\n",
    "        forces_return = np.matmul(transform_matrix,np.array(forces))\n",
    "    elif basis_set_this == \"cartesian\":\n",
    "        forces_return = forces\n",
    "        \n",
    "    #print(forces)\n",
    "            \n",
    "    end = time.time()   \n",
    "    time_calc_exp = end - start\n",
    "    \n",
    "    \n",
    "    start = time.time()\n",
    "    COV = np.zeros((num_coord,num_coord)) #force covariance matrix, without some multiplicative factors. \n",
    "        \n",
    "    for i in range(num_coord):\n",
    "        for j in range(i,num_coord):\n",
    "\n",
    "            Pij = force_ops[i]@force_ops[j]\n",
    "                \n",
    "            Pij_list = Pij.primitive.to_list()\n",
    "\n",
    "            #add product expectation \n",
    "            \n",
    "            for (pauli_string,coeff) in Pij_list:\n",
    "                COV[i,j] += coeff.real*exp_dict_exact[pauli_string]\n",
    "                    #subtract \n",
    "            COV[i,j] -= forces_exact[i]*forces_exact[j]\n",
    "            \n",
    "            \n",
    "            #since COV is symmetric\n",
    "            #if (i,j) != (0,0) and (i,j) != (2,2) and (i,j) != (4,4) and (i,j) != (0,2) and (i,j) != (0,4) and (i,j) != (2,0) and (i,j) != (2,4) and (i,j) != (4,0) and (i,j) != (4,2):\n",
    "                #print(\"here\")\n",
    "                #print((i,j))\n",
    "             #   COV[i,j] = 0\n",
    "            \n",
    "            if i < j:\n",
    "                COV[j,i] = COV[i,j]\n",
    "            \n",
    "            \n",
    "                \n",
    "    #print(COV)            \n",
    "    end = time.time()\n",
    "    \n",
    "    if basis_set_this == \"rotated\":\n",
    "        #print(COV)\n",
    "        COV_1 = np.matmul(COV,transform_matrix)\n",
    "        COV_2 = np.matmul(transform_matrix_inv,COV_1)\n",
    "        COV_return = COV_2\n",
    "        #COV_return = COV\n",
    "        #print(COV_return)\n",
    "    elif basis_set_this == \"cartesian\":    \n",
    "        COV_return = COV\n",
    "        \n",
    "    time_cov = end - start\n",
    "\n",
    "    print(f'Time to: Calculate Ground State - {round(time_psi_0,2)}s, Get Pauli Ops - {round(time_pauli_ops,2)}s, Calculate Pauli Expectation Values - {round(time_calc_exp,2)}s, Calculate Covariance - {round(time_cov,2)}s')\n",
    "    #print(COV)\n",
    "    \n",
    "    return forces_return*Ha*(1/(2*dR*angst)),COV_return*(Ha*(1/(2*dR*angst)))**2"
   ]
  },
  {
   "cell_type": "code",
   "execution_count": 3,
   "id": "5ae5fde0",
   "metadata": {},
   "outputs": [],
   "source": [
    "#from Quantech.verlet_integrator import distance\n",
    "#from force import calc_force_and_cov\n",
    "import numpy as np\n",
    "from tqdm import tqdm #to show progress\n",
    "\n",
    "\n",
    "#implementation of the explicit Euler integrator\n",
    "femto = 1.0e-15\n",
    "angst = 1.0e-10\n",
    "\n",
    "def calc_COM(coordinates):\n",
    "    #print(coordinates)\n",
    "    r_array = np.array_split(coordinates,3)\n",
    "    COM = (r_array[0] + r_array[1] + r_array[2])/3\n",
    "    \n",
    "    return COM\n",
    "\n",
    "def distance(coordinates1,coordinates2):\n",
    "    return np.sqrt(np.power((coordinates1[0] - coordinates2[0]),2) + np.power((coordinates1[1] - coordinates2[1]),2))\n",
    "\n",
    "    \n",
    "\n",
    "\n",
    "def main():\n",
    "    \n",
    "    f = open(\"exact_COV_2048\",\"w\")\n",
    "    \n",
    "    #mass of particle1 (H)\n",
    "    mass_0 = 1.67e-27\n",
    "    #mass of particle2 (H)\n",
    "    mass_1 = 1.67e-27\n",
    "    #mass of particle3 (H)\n",
    "    mass_2 = 1.67e-27\n",
    "    #time step of integrator\n",
    "    dt = 0.2*femto\n",
    "    \n",
    "    mass = mass_0\n",
    "\n",
    "    #distances between atoms\n",
    "    d = 0.8\n",
    "    #rotation angle of the initial triangle\n",
    "    b = 0/180*np.pi\n",
    "    \n",
    "    #initial positions of atoms, arrangement = equilateral triangle\n",
    "    x1_init = np.array([-d/2*np.cos(b)+np.sin(b)*np.sqrt(3)/6*d,-d/2*np.sin(b)-np.cos(b)*np.sqrt(3)/6*d])+np.array([0,d*np.sqrt(3)/6])\n",
    "    x2_init = np.array([d/2*np.cos(b)+np.sin(b)*np.sqrt(3)/6*d,d/2*np.sin(b)-np.cos(b)*np.sqrt(3)/6*d])+np.array([0,d*np.sqrt(3)/6])\n",
    "    x3_init = np.array([-np.sin(b)*np.sqrt(3)/3*d,np.cos(b)*np.sqrt(3)/3*d])+np.array([0,d*np.sqrt(3)/6])\n",
    "    \n",
    "    \n",
    "    init_pos0 = x1_init\n",
    "    init_pos1 = x2_init\n",
    "    init_pos2 = x3_init\n",
    "    \n",
    "    init_pos = np.concatenate((init_pos0,init_pos1,init_pos2),axis=None)\n",
    "    \n",
    "    ##initialize velocities in the direction of the COM for each particle\n",
    "    \n",
    "    COM = calc_COM(init_pos)\n",
    "    \n",
    "    c0 = COM - init_pos0\n",
    "    c1 = COM - init_pos1\n",
    "    c2 = COM - init_pos2\n",
    "    \n",
    "    dir0 = c0/np.sqrt(c0[0]**2+c0[1]**2)\n",
    "    dir1 = c1/np.sqrt(c1[0]**2+c1[1]**2)\n",
    "    dir2 = c2/np.sqrt(c2[0]**2+c2[1]**2)\n",
    "\n",
    "    v_init_mag = 0\n",
    "\n",
    "    v_init = np.concatenate((dir0,dir1,dir2),axis=None)*v_init_mag\n",
    "    \n",
    "    \n",
    "\n",
    "    #integrator timesteps\n",
    "    \n",
    "    timeB = 0\n",
    "    timeE = 40\n",
    "    times = np.arange(timeB*femto, timeE*femto, dt)\n",
    "    \n",
    "    \n",
    "    #print(times)\n",
    "    #coordinate array\n",
    "    coords = [init_pos]\n",
    "    force = []\n",
    "    distance01 = [d]\n",
    "    distance02 = [d]\n",
    "    distance12 = [d]\n",
    "    #temperature in ?? \n",
    "    #k_B*T in Joule\n",
    "    k_b = 1.38065e-23\n",
    "    T = 420\n",
    "    k_T = k_b*T\n",
    "        #delta factor\n",
    "        \n",
    "    delta = 0.05*dt\n",
    "    \n",
    "    temperature = []\n",
    "    #hold v_next\n",
    "    \n",
    "    v_next = None\n",
    "    \n",
    "    simulator = 'qasm'\n",
    "    COM = calc_COM(init_pos)\n",
    "    coords_loc = np.array_split(init_pos,3)\n",
    "    forces_array = []\n",
    "    velocities_array = []\n",
    "    velocities_array.append(v_init.tolist())\n",
    "    coords_array = []\n",
    "    coords_array.append(init_pos.tolist())\n",
    "    \n",
    "    n_dof = 3\n",
    "    \n",
    "    #\"cartesian\" or \"rotated\"\n",
    "    \n",
    "    basis_set = \"rotated\"\n",
    "    \n",
    "    diag_elems = []\n",
    "    \n",
    "    shots = 2048\n",
    "    \n",
    "    for time in tqdm(times, desc='Progress: '):\n",
    "        \n",
    "        #time = 0\n",
    "        \n",
    "        r = coords[-1]\n",
    "        #print(r)\n",
    "        \n",
    "        (forces,COV) = calc_force_and_cov(r, simulator = simulator, shots = shots, basis_set_this=basis_set)\n",
    "        #diag_elems.append(COV[0][0])\n",
    "        #print(diag_elems)\n",
    "        forces_array.append(forces.tolist())\n",
    "        \n",
    "        f1 = distance(np.array([forces[0],forces[1]]),np.array([0,0]))\n",
    "        \n",
    "        f2 = distance(np.array([forces[2],forces[3]]),np.array([0,0]))\n",
    "        \n",
    "        f3 = distance(np.array([forces[4],forces[5]]),np.array([0,0]))    \n",
    "        \n",
    "        print(\"f0,f1,f2 = \" + str([f1,f2,f3]))\n",
    "        \n",
    "        \n",
    "        if time == 0:\n",
    "            \n",
    "            #v_sample = v_init\n",
    "            \n",
    "            #velocities = np.array(np.array_split(v_sample,3))\n",
    "            \n",
    "            #kin_eng = np.sum(velocities**2*mass/2, axis=1)\n",
    "            \n",
    "            #k_T = 2*np.sum(kin_eng)/np.size(kin_eng)/n_dof\n",
    "            \n",
    "            #temperature.append(k_T/k_b)\n",
    "            #k_T = k_b * T\n",
    "            #print(temperature)\n",
    "            \n",
    "            v_next = v_init - delta/(2*k_T*np.power(mass_0*mass_1*mass_2,1/3))*np.matmul(COV,v_init)*dt + dt*forces/mass_0\n",
    "            \n",
    "            r_next = (r*angst + dt*v_next)/angst\n",
    "\n",
    "            #r_split = np.array_split(r_next,3)\n",
    "\n",
    "            coords.append(r_next)\n",
    "\n",
    "        else:\n",
    "            \n",
    "            #v_sample = v_next\n",
    "            \n",
    "            #velocities = np.array(np.array_split(v_sample,3))\n",
    "            \n",
    "            #kin_eng = np.sum(velocities**2*mass/2, axis=1)\n",
    "            \n",
    "            #k_T = 2*np.sum(kin_eng)/np.size(kin_eng)/n_dof\n",
    "            \n",
    "            #temperature.append(k_T/k_b)\n",
    "            \n",
    "            v_next += - delta/(2*k_T*np.power(mass_0*mass_1*mass_2,1/3))*np.matmul(COV,v_next)*dt + dt*forces/mass_0\n",
    "            \n",
    "            r_next = (r*angst + dt*v_next)/angst\n",
    "\n",
    "            #r_split = np.array_split(r_next,3)\n",
    "            \n",
    "            coords.append(r_next)\n",
    "            \n",
    "        velocities_array.append(v_next.tolist())  \n",
    "        coords_array.append(coords[-1].tolist())\n",
    "        \n",
    "        r = np.array_split(coords[-1],3)\n",
    "        d01 = distance(r[0],r[1])\n",
    "        d02 = distance(r[0],r[2])\n",
    "        d12 = distance(r[1],r[2])\n",
    "        print(\"d01,d02,d12 = \" + str([d01,d02,d12]))\n",
    "        #print(\"Temp:\" + str(temperature[-1]) + \"K\")\n",
    "        #print(temperature[-1])\n",
    "        \n",
    "        dists = np.split(coords[-1],3)\n",
    "        d01 = distance(dists[0],dists[1])\n",
    "        distance01.append(d01)\n",
    "        d02 = distance(dists[0],dists[2])\n",
    "        distance02.append(d02)\n",
    "        d12 = distance(dists[1],dists[2])\n",
    "        distance12.append(d12)\n",
    "        \n",
    "    timess = times.tolist()\n",
    "    timess.append(timeE*femto)\n",
    "    \n",
    "    #f.write('diagonal elements for n = ' + str(shots) + \" no of shots\" + '\\n')\n",
    "    #f.write(str(diag_elems))\n",
    "    \n",
    "    \n",
    "    f.write('times \\n')\n",
    "    f.write(str(timess) + \"\\n\")\n",
    "    f.write(\"coordinates \\n\")\n",
    "    f.write(str(coords_array) + \"\\n\")\n",
    "    f.write(\"velocities \\n\")\n",
    "    f.write(str(velocities_array) + \"\\n\")\n",
    "    f.write(\"forces \\n\")\n",
    "    f.write(str(forces_array) + \"\\n\")\n",
    "    f.write(\"temperatures \\n\")\n",
    "    f.write(str(temperature) + \"\\n\")\n",
    "    \n",
    "    return (distance01,distance02,distance12,times) "
   ]
  },
  {
   "cell_type": "code",
   "execution_count": 4,
   "id": "be5bb22e",
   "metadata": {
    "scrolled": true
   },
   "outputs": [
    {
     "name": "stderr",
     "output_type": "stream",
     "text": [
      "Progress:   0%|          | 1/200 [00:22<1:13:30, 22.17s/it]"
     ]
    },
    {
     "name": "stdout",
     "output_type": "stream",
     "text": [
      "Time to: Calculate Ground State - 2.43s, Get Pauli Ops - 5.92s, Calculate Pauli Expectation Values - 10.46s, Calculate Covariance - 3.07s\n",
      "f0,f1,f2 = [1.8863012393520245e-09, 1.8863012393602777e-09, 1.886301239349348e-09]\n",
      "d01,d02,d12 = [0.8007825555892076, 0.8007825555892064, 0.8007825555892084]\n"
     ]
    },
    {
     "name": "stderr",
     "output_type": "stream",
     "text": [
      "/cluster/home/mskrabulis/miniconda3/envs/quantech/lib/python3.9/site-packages/pyscf/symm/Dmatrix.py:156: RuntimeWarning: invalid value encountered in arccos\n",
      "  gamma = numpy.arccos(yp.dot(c2[1]))\n",
      "Progress:   1%|          | 2/200 [00:42<1:09:27, 21.05s/it]"
     ]
    },
    {
     "name": "stdout",
     "output_type": "stream",
     "text": [
      "Time to: Calculate Ground State - 1.64s, Get Pauli Ops - 6.44s, Calculate Pauli Expectation Values - 9.07s, Calculate Covariance - 3.1s\n",
      "f0,f1,f2 = [7.425143831683402e-09, 7.425143831686471e-09, 7.42514383167609e-09]\n",
      "d01,d02,d12 = [0.804636749581526, 0.8046367495815228, 0.8046367495815289]\n"
     ]
    },
    {
     "name": "stderr",
     "output_type": "stream",
     "text": [
      "Progress:   2%|▏         | 3/200 [01:02<1:07:24, 20.53s/it]"
     ]
    },
    {
     "name": "stdout",
     "output_type": "stream",
     "text": [
      "Time to: Calculate Ground State - 1.45s, Get Pauli Ops - 6.76s, Calculate Pauli Expectation Values - 8.63s, Calculate Covariance - 3.07s\n",
      "f0,f1,f2 = [1.8182914630703095e-08, 1.8182914630704684e-08, 1.818291463071497e-08]\n",
      "d01,d02,d12 = [0.8159912299052987, 0.815991229905297, 0.8159912299053073]\n"
     ]
    },
    {
     "name": "stderr",
     "output_type": "stream",
     "text": [
      "/cluster/home/mskrabulis/miniconda3/envs/quantech/lib/python3.9/site-packages/pyscf/symm/Dmatrix.py:156: RuntimeWarning: invalid value encountered in arccos\n",
      "  gamma = numpy.arccos(yp.dot(c2[1]))\n",
      "Progress:   2%|▏         | 4/200 [01:24<1:09:22, 21.24s/it]"
     ]
    },
    {
     "name": "stdout",
     "output_type": "stream",
     "text": [
      "Time to: Calculate Ground State - 1.46s, Get Pauli Ops - 8.57s, Calculate Pauli Expectation Values - 9.24s, Calculate Covariance - 3.05s\n",
      "f0,f1,f2 = [9.017847876091247e-09, 9.017847876100216e-09, 9.017847876096066e-09]\n",
      "d01,d02,d12 = [0.8309606382233983, 0.8309606382233911, 0.8309606382234026]\n"
     ]
    },
    {
     "name": "stderr",
     "output_type": "stream",
     "text": [
      "Progress:   2%|▎         | 5/200 [01:47<1:11:04, 21.87s/it]"
     ]
    },
    {
     "name": "stdout",
     "output_type": "stream",
     "text": [
      "Time to: Calculate Ground State - 1.49s, Get Pauli Ops - 6.79s, Calculate Pauli Expectation Values - 11.59s, Calculate Covariance - 3.11s\n",
      "f0,f1,f2 = [1.3443962754112223e-08, 1.3443962754109501e-08, 1.3443962754070907e-08]\n",
      "d01,d02,d12 = [0.8513423038097863, 0.8513423038097678, 0.851342303809777]\n"
     ]
    },
    {
     "name": "stderr",
     "output_type": "stream",
     "text": [
      "Progress:   3%|▎         | 6/200 [02:08<1:09:41, 21.56s/it]"
     ]
    },
    {
     "name": "stdout",
     "output_type": "stream",
     "text": [
      "Time to: Calculate Ground State - 1.53s, Get Pauli Ops - 6.04s, Calculate Pauli Expectation Values - 10.28s, Calculate Covariance - 3.08s\n",
      "f0,f1,f2 = [7.670323966367798e-10, 7.670323966296788e-10, 7.670323966073088e-10]\n",
      "d01,d02,d12 = [0.8718194713985042, 0.8718194713984868, 0.8718194713984931]\n"
     ]
    },
    {
     "name": "stderr",
     "output_type": "stream",
     "text": [
      "Progress:   4%|▎         | 7/200 [02:32<1:12:01, 22.39s/it]"
     ]
    },
    {
     "name": "stdout",
     "output_type": "stream",
     "text": [
      "Time to: Calculate Ground State - 1.4s, Get Pauli Ops - 10.9s, Calculate Pauli Expectation Values - 8.87s, Calculate Covariance - 2.93s\n",
      "f0,f1,f2 = [1.2162573435818787e-08, 1.2162573435820472e-08, 1.2162573435817191e-08]\n",
      "d01,d02,d12 = [0.8971205231788724, 0.8971205231788709, 0.8971205231788554]\n"
     ]
    },
    {
     "name": "stderr",
     "output_type": "stream",
     "text": [
      "Progress:   4%|▍         | 8/200 [02:55<1:11:41, 22.40s/it]"
     ]
    },
    {
     "name": "stdout",
     "output_type": "stream",
     "text": [
      "Time to: Calculate Ground State - 1.45s, Get Pauli Ops - 9.27s, Calculate Pauli Expectation Values - 8.55s, Calculate Covariance - 3.14s\n",
      "f0,f1,f2 = [1.699074221669307e-09, 1.6990742216488187e-09, 1.6990742216520761e-09]\n",
      "d01,d02,d12 = [0.9228545508271144, 0.9228545508271216, 0.9228545508270743]\n"
     ]
    },
    {
     "name": "stderr",
     "output_type": "stream",
     "text": [
      "Progress:   4%|▍         | 9/200 [03:18<1:11:55, 22.59s/it]"
     ]
    },
    {
     "name": "stdout",
     "output_type": "stream",
     "text": [
      "Time to: Calculate Ground State - 1.5s, Get Pauli Ops - 9.88s, Calculate Pauli Expectation Values - 9.37s, Calculate Covariance - 2.26s\n",
      "f0,f1,f2 = [9.629955651698618e-09, 9.629955651716819e-09, 9.629955651677363e-09]\n",
      "d01,d02,d12 = [0.9523088859500154, 0.9523088859500395, 0.952308885949952]\n"
     ]
    },
    {
     "name": "stderr",
     "output_type": "stream",
     "text": [
      "/cluster/home/mskrabulis/miniconda3/envs/quantech/lib/python3.9/site-packages/pyscf/symm/Dmatrix.py:156: RuntimeWarning: invalid value encountered in arccos\n",
      "  gamma = numpy.arccos(yp.dot(c2[1]))\n",
      "Progress:   5%|▌         | 10/200 [03:39<1:10:14, 22.18s/it]"
     ]
    },
    {
     "name": "stdout",
     "output_type": "stream",
     "text": [
      "Time to: Calculate Ground State - 1.33s, Get Pauli Ops - 6.35s, Calculate Pauli Expectation Values - 11.36s, Calculate Covariance - 2.21s\n",
      "f0,f1,f2 = [8.207675152338987e-09, 8.207675152328353e-09, 8.207675152278538e-09]\n",
      "d01,d02,d12 = [0.9780451368400918, 0.9780451368401519, 0.9780451368400145]\n"
     ]
    },
    {
     "name": "stderr",
     "output_type": "stream",
     "text": [
      "Progress:   6%|▌         | 11/200 [04:01<1:09:38, 22.11s/it]"
     ]
    },
    {
     "name": "stdout",
     "output_type": "stream",
     "text": [
      "Time to: Calculate Ground State - 1.55s, Get Pauli Ops - 6.5s, Calculate Pauli Expectation Values - 10.82s, Calculate Covariance - 3.06s\n",
      "f0,f1,f2 = [4.699176461472412e-09, 4.699176461480966e-09, 4.699176461543839e-09]\n",
      "d01,d02,d12 = [1.0054579653163054, 1.0054579653164277, 1.0054579653162412]\n"
     ]
    },
    {
     "name": "stderr",
     "output_type": "stream",
     "text": [
      "/cluster/home/mskrabulis/miniconda3/envs/quantech/lib/python3.9/site-packages/pyscf/symm/Dmatrix.py:156: RuntimeWarning: invalid value encountered in arccos\n",
      "  gamma = numpy.arccos(yp.dot(c2[1]))\n",
      "Progress:   6%|▌         | 12/200 [04:23<1:09:44, 22.26s/it]"
     ]
    },
    {
     "name": "stdout",
     "output_type": "stream",
     "text": [
      "Time to: Calculate Ground State - 1.57s, Get Pauli Ops - 9.15s, Calculate Pauli Expectation Values - 9.59s, Calculate Covariance - 2.29s\n",
      "f0,f1,f2 = [1.2960496220479466e-09, 1.2960496220302847e-09, 1.2960496220402733e-09]\n",
      "d01,d02,d12 = [1.0331178698357286, 1.0331178698359096, 1.0331178698356696]\n"
     ]
    },
    {
     "name": "stderr",
     "output_type": "stream",
     "text": [
      "Progress:   6%|▋         | 13/200 [04:49<1:12:55, 23.40s/it]"
     ]
    },
    {
     "name": "stdout",
     "output_type": "stream",
     "text": [
      "Time to: Calculate Ground State - 1.37s, Get Pauli Ops - 7.04s, Calculate Pauli Expectation Values - 14.53s, Calculate Covariance - 3.07s\n",
      "f0,f1,f2 = [6.5962277565267675e-09, 6.596227756521501e-09, 6.596227756527842e-09]\n",
      "d01,d02,d12 = [1.0577476338542684, 1.0577476338545084, 1.0577476338541956]\n"
     ]
    },
    {
     "name": "stderr",
     "output_type": "stream",
     "text": [
      "/cluster/home/mskrabulis/miniconda3/envs/quantech/lib/python3.9/site-packages/pyscf/symm/Dmatrix.py:156: RuntimeWarning: invalid value encountered in arccos\n",
      "  gamma = numpy.arccos(yp.dot(c2[1]))\n",
      "Progress:   7%|▋         | 14/200 [05:12<1:11:52, 23.18s/it]"
     ]
    },
    {
     "name": "stdout",
     "output_type": "stream",
     "text": [
      "Time to: Calculate Ground State - 1.56s, Get Pauli Ops - 9.63s, Calculate Pauli Expectation Values - 8.72s, Calculate Covariance - 2.77s\n",
      "f0,f1,f2 = [1.1563143985537353e-08, 1.1563143985515432e-08, 1.156314398552326e-08]\n",
      "d01,d02,d12 = [1.0773182159300658, 1.07731821593038, 1.0773182159299843]\n"
     ]
    },
    {
     "name": "stderr",
     "output_type": "stream",
     "text": [
      "Progress:   8%|▊         | 15/200 [05:32<1:08:31, 22.22s/it]"
     ]
    },
    {
     "name": "stdout",
     "output_type": "stream",
     "text": [
      "Time to: Calculate Ground State - 1.44s, Get Pauli Ops - 6.86s, Calculate Pauli Expectation Values - 8.6s, Calculate Covariance - 3.08s\n",
      "f0,f1,f2 = [1.5497074598785938e-10, 1.5497074599531696e-10, 1.5497074604885126e-10]\n",
      "d01,d02,d12 = [1.0967443260781073, 1.096744326078506, 1.096744326078045]\n"
     ]
    },
    {
     "name": "stderr",
     "output_type": "stream",
     "text": [
      "Progress:   8%|▊         | 16/200 [05:51<1:05:14, 21.27s/it]"
     ]
    },
    {
     "name": "stdout",
     "output_type": "stream",
     "text": [
      "Time to: Calculate Ground State - 1.49s, Get Pauli Ops - 6.88s, Calculate Pauli Expectation Values - 8.23s, Calculate Covariance - 2.46s\n",
      "f0,f1,f2 = [1.330621188139344e-08, 1.3306211881412148e-08, 1.3306211881429114e-08]\n",
      "d01,d02,d12 = [1.1104423516995365, 1.110442351700008, 1.1104423516994815]\n"
     ]
    },
    {
     "name": "stderr",
     "output_type": "stream",
     "text": [
      "Progress:   8%|▊         | 17/200 [06:14<1:06:40, 21.86s/it]"
     ]
    },
    {
     "name": "stdout",
     "output_type": "stream",
     "text": [
      "Time to: Calculate Ground State - 1.52s, Get Pauli Ops - 6.8s, Calculate Pauli Expectation Values - 11.79s, Calculate Covariance - 3.1s\n",
      "f0,f1,f2 = [9.510126062747712e-09, 9.510126062751534e-09, 9.510126062728028e-09]\n",
      "d01,d02,d12 = [1.1200480928300385, 1.120048092830574, 1.1200480928299843]\n"
     ]
    },
    {
     "name": "stderr",
     "output_type": "stream",
     "text": [
      "/cluster/home/mskrabulis/miniconda3/envs/quantech/lib/python3.9/site-packages/pyscf/symm/Dmatrix.py:156: RuntimeWarning: invalid value encountered in arccos\n",
      "  gamma = numpy.arccos(yp.dot(c2[1]))\n",
      "/cluster/home/mskrabulis/miniconda3/envs/quantech/lib/python3.9/site-packages/pyscf/symm/Dmatrix.py:156: RuntimeWarning: invalid value encountered in arccos\n",
      "  gamma = numpy.arccos(yp.dot(c2[1]))\n",
      "Progress:   9%|▉         | 18/200 [06:36<1:06:06, 21.79s/it]"
     ]
    },
    {
     "name": "stdout",
     "output_type": "stream",
     "text": [
      "Time to: Calculate Ground State - 1.63s, Get Pauli Ops - 8.06s, Calculate Pauli Expectation Values - 8.83s, Calculate Covariance - 3.1s\n",
      "f0,f1,f2 = [7.868959591539517e-09, 7.86895959154418e-09, 7.868959591613862e-09]\n",
      "d01,d02,d12 = [1.1262861162461675, 1.1262861162467597, 1.1262861162461086]\n"
     ]
    },
    {
     "name": "stderr",
     "output_type": "stream",
     "text": [
      "Progress:  10%|▉         | 19/200 [06:56<1:03:39, 21.10s/it]"
     ]
    },
    {
     "name": "stdout",
     "output_type": "stream",
     "text": [
      "Time to: Calculate Ground State - 1.61s, Get Pauli Ops - 7.08s, Calculate Pauli Expectation Values - 8.48s, Calculate Covariance - 2.31s\n",
      "f0,f1,f2 = [2.749242266887612e-09, 2.7492422669089963e-09, 2.7492422668832785e-09]\n",
      "d01,d02,d12 = [1.1313156203083814, 1.131315620309028, 1.131315620308317]\n"
     ]
    },
    {
     "name": "stderr",
     "output_type": "stream",
     "text": [
      "/cluster/home/mskrabulis/miniconda3/envs/quantech/lib/python3.9/site-packages/pyscf/symm/Dmatrix.py:156: RuntimeWarning: invalid value encountered in arccos\n",
      "  gamma = numpy.arccos(yp.dot(c2[1]))\n",
      "Progress:  10%|█         | 20/200 [07:18<1:04:02, 21.35s/it]"
     ]
    },
    {
     "name": "stdout",
     "output_type": "stream",
     "text": [
      "Time to: Calculate Ground State - 1.53s, Get Pauli Ops - 9.32s, Calculate Pauli Expectation Values - 8.49s, Calculate Covariance - 2.57s\n",
      "f0,f1,f2 = [2.6677067955665935e-09, 2.6677067955893806e-09, 2.6677067955960353e-09]\n",
      "d01,d02,d12 = [1.1351835602282283, 1.1351835602289257, 1.1351835602281428]\n"
     ]
    },
    {
     "name": "stderr",
     "output_type": "stream",
     "text": [
      "/cluster/home/mskrabulis/miniconda3/envs/quantech/lib/python3.9/site-packages/pyscf/symm/Dmatrix.py:156: RuntimeWarning: invalid value encountered in arccos\n",
      "  gamma = numpy.arccos(yp.dot(c2[1]))\n",
      "Progress:  10%|█         | 21/200 [07:40<1:04:36, 21.66s/it]"
     ]
    },
    {
     "name": "stdout",
     "output_type": "stream",
     "text": [
      "Time to: Calculate Ground State - 1.5s, Get Pauli Ops - 9.46s, Calculate Pauli Expectation Values - 8.59s, Calculate Covariance - 2.81s\n",
      "f0,f1,f2 = [7.328442509413542e-09, 7.328442509421054e-09, 7.328442509398673e-09]\n",
      "d01,d02,d12 = [1.135969012919591, 1.135969012920345, 1.135969012919488]\n"
     ]
    },
    {
     "name": "stderr",
     "output_type": "stream",
     "text": [
      "Progress:  11%|█         | 22/200 [08:01<1:03:59, 21.57s/it]"
     ]
    },
    {
     "name": "stdout",
     "output_type": "stream",
     "text": [
      "Time to: Calculate Ground State - 1.55s, Get Pauli Ops - 7.5s, Calculate Pauli Expectation Values - 9.21s, Calculate Covariance - 3.08s\n",
      "f0,f1,f2 = [4.49355639039381e-09, 4.493556390339189e-09, 4.493556390385694e-09]\n",
      "d01,d02,d12 = [1.1348816890664812, 1.1348816890672775, 1.1348816890663604]\n"
     ]
    },
    {
     "name": "stderr",
     "output_type": "stream",
     "text": [
      "Progress:  12%|█▏        | 23/200 [08:23<1:03:23, 21.49s/it]"
     ]
    },
    {
     "name": "stdout",
     "output_type": "stream",
     "text": [
      "Time to: Calculate Ground State - 1.46s, Get Pauli Ops - 7.97s, Calculate Pauli Expectation Values - 9.04s, Calculate Covariance - 2.82s\n",
      "f0,f1,f2 = [6.997444481390025e-09, 6.997444481351355e-09, 6.9974444813879175e-09]\n",
      "d01,d02,d12 = [1.1309032481697154, 1.1309032481705426, 1.1309032481695747]\n"
     ]
    },
    {
     "name": "stderr",
     "output_type": "stream",
     "text": [
      "Progress:  12%|█▏        | 24/200 [08:46<1:04:23, 21.95s/it]"
     ]
    },
    {
     "name": "stdout",
     "output_type": "stream",
     "text": [
      "Time to: Calculate Ground State - 1.45s, Get Pauli Ops - 9.46s, Calculate Pauli Expectation Values - 9.03s, Calculate Covariance - 3.07s\n",
      "f0,f1,f2 = [9.050312900805123e-09, 9.050312900885742e-09, 9.050312900811829e-09]\n",
      "d01,d02,d12 = [1.1232135435239785, 1.123213543524853, 1.123213543523808]\n"
     ]
    },
    {
     "name": "stderr",
     "output_type": "stream",
     "text": [
      "Progress:  12%|█▎        | 25/200 [09:07<1:03:48, 21.88s/it]"
     ]
    },
    {
     "name": "stdout",
     "output_type": "stream",
     "text": [
      "Time to: Calculate Ground State - 1.48s, Get Pauli Ops - 9.33s, Calculate Pauli Expectation Values - 8.24s, Calculate Covariance - 2.64s\n",
      "f0,f1,f2 = [7.27634877506778e-09, 7.276348775049382e-09, 7.276348774987724e-09]\n",
      "d01,d02,d12 = [1.1186262661009587, 1.1186262661018707, 1.1186262661007431]\n"
     ]
    },
    {
     "name": "stderr",
     "output_type": "stream",
     "text": [
      "Progress:  13%|█▎        | 26/200 [09:26<1:00:47, 20.96s/it]"
     ]
    },
    {
     "name": "stdout",
     "output_type": "stream",
     "text": [
      "Time to: Calculate Ground State - 1.46s, Get Pauli Ops - 5.77s, Calculate Pauli Expectation Values - 8.52s, Calculate Covariance - 3.07s\n",
      "f0,f1,f2 = [7.291180092184897e-09, 7.291180092161012e-09, 7.291180092182776e-09]\n",
      "d01,d02,d12 = [1.1110634142015006, 1.111063414202421, 1.111063414201239]\n"
     ]
    },
    {
     "name": "stderr",
     "output_type": "stream",
     "text": [
      "Progress:  14%|█▎        | 27/200 [09:47<1:00:16, 20.90s/it]"
     ]
    },
    {
     "name": "stdout",
     "output_type": "stream",
     "text": [
      "Time to: Calculate Ground State - 1.46s, Get Pauli Ops - 6.83s, Calculate Pauli Expectation Values - 9.35s, Calculate Covariance - 3.1s\n",
      "f0,f1,f2 = [7.485799437347491e-09, 7.485799437328587e-09, 7.485799437327459e-09]\n",
      "d01,d02,d12 = [1.1004760937507059, 1.1004760937516271, 1.1004760937503992]\n"
     ]
    },
    {
     "name": "stderr",
     "output_type": "stream",
     "text": [
      "Progress:  14%|█▍        | 28/200 [10:06<58:35, 20.44s/it]  "
     ]
    },
    {
     "name": "stdout",
     "output_type": "stream",
     "text": [
      "Time to: Calculate Ground State - 1.47s, Get Pauli Ops - 6.9s, Calculate Pauli Expectation Values - 8.58s, Calculate Covariance - 2.4s\n",
      "f0,f1,f2 = [3.223150904834337e-09, 3.2231509048387157e-09, 3.223150904882555e-09]\n",
      "d01,d02,d12 = [1.0886649500461294, 1.0886649500470464, 1.088664950045783]\n"
     ]
    },
    {
     "name": "stderr",
     "output_type": "stream",
     "text": [
      "Progress:  14%|█▍        | 29/200 [10:31<1:01:48, 21.69s/it]"
     ]
    },
    {
     "name": "stdout",
     "output_type": "stream",
     "text": [
      "Time to: Calculate Ground State - 1.53s, Get Pauli Ops - 10.7s, Calculate Pauli Expectation Values - 9.29s, Calculate Covariance - 3.07s\n",
      "f0,f1,f2 = [1.7200726088581383e-09, 1.720072608858174e-09, 1.720072608858058e-09]\n",
      "d01,d02,d12 = [1.076266416445263, 1.0762664164461835, 1.0762664164448814]\n"
     ]
    },
    {
     "name": "stderr",
     "output_type": "stream",
     "text": [
      "/cluster/home/mskrabulis/miniconda3/envs/quantech/lib/python3.9/site-packages/pyscf/symm/Dmatrix.py:156: RuntimeWarning: invalid value encountered in arccos\n",
      "  gamma = numpy.arccos(yp.dot(c2[1]))\n",
      "Progress:  15%|█▌        | 30/200 [10:54<1:02:51, 22.18s/it]"
     ]
    },
    {
     "name": "stdout",
     "output_type": "stream",
     "text": [
      "Time to: Calculate Ground State - 1.54s, Get Pauli Ops - 9.99s, Calculate Pauli Expectation Values - 9.03s, Calculate Covariance - 2.78s\n",
      "f0,f1,f2 = [7.149836492054684e-09, 7.149836491997915e-09, 7.1498364920415865e-09]\n",
      "d01,d02,d12 = [1.06103392196062, 1.0610339219615117, 1.0610339219602096]\n"
     ]
    },
    {
     "name": "stderr",
     "output_type": "stream",
     "text": [
      "Progress:  16%|█▌        | 31/200 [11:15<1:01:05, 21.69s/it]"
     ]
    },
    {
     "name": "stdout",
     "output_type": "stream",
     "text": [
      "Time to: Calculate Ground State - 1.61s, Get Pauli Ops - 7.47s, Calculate Pauli Expectation Values - 8.81s, Calculate Covariance - 2.64s\n",
      "f0,f1,f2 = [9.609694704437932e-09, 9.609694704444167e-09, 9.609694704410507e-09]\n",
      "d01,d02,d12 = [1.0499502698550245, 1.0499502698559002, 1.0499502698545673]\n"
     ]
    },
    {
     "name": "stderr",
     "output_type": "stream",
     "text": [
      "Progress:  16%|█▌        | 32/200 [11:35<59:11, 21.14s/it]  "
     ]
    },
    {
     "name": "stdout",
     "output_type": "stream",
     "text": [
      "Time to: Calculate Ground State - 1.48s, Get Pauli Ops - 6.73s, Calculate Pauli Expectation Values - 8.83s, Calculate Covariance - 2.82s\n",
      "f0,f1,f2 = [7.69118107158105e-09, 7.69118107155386e-09, 7.691181071541963e-09]\n",
      "d01,d02,d12 = [1.0357936675105646, 1.0357936675114103, 1.0357936675100845]\n"
     ]
    },
    {
     "name": "stderr",
     "output_type": "stream",
     "text": [
      "Progress:  16%|█▋        | 33/200 [11:55<58:25, 20.99s/it]"
     ]
    },
    {
     "name": "stdout",
     "output_type": "stream",
     "text": [
      "Time to: Calculate Ground State - 1.43s, Get Pauli Ops - 6.94s, Calculate Pauli Expectation Values - 9.19s, Calculate Covariance - 3.06s\n",
      "f0,f1,f2 = [9.853175332147212e-09, 9.853175332159158e-09, 9.853175332157184e-09]\n",
      "d01,d02,d12 = [1.0258750829239998, 1.0258750829248167, 1.0258750829234942]\n"
     ]
    },
    {
     "name": "stderr",
     "output_type": "stream",
     "text": [
      "Progress:  17%|█▋        | 34/200 [12:15<56:41, 20.49s/it]"
     ]
    },
    {
     "name": "stdout",
     "output_type": "stream",
     "text": [
      "Time to: Calculate Ground State - 1.44s, Get Pauli Ops - 6.79s, Calculate Pauli Expectation Values - 8.24s, Calculate Covariance - 2.85s\n",
      "f0,f1,f2 = [1.773626170965028e-10, 1.7736261706870167e-10, 1.7736261709733088e-10]\n",
      "d01,d02,d12 = [1.0159881521109173, 1.0159881521116951, 1.015988152110399]\n"
     ]
    },
    {
     "name": "stderr",
     "output_type": "stream",
     "text": [
      "Progress:  18%|█▊        | 35/200 [12:34<55:26, 20.16s/it]"
     ]
    },
    {
     "name": "stdout",
     "output_type": "stream",
     "text": [
      "Time to: Calculate Ground State - 1.44s, Get Pauli Ops - 6.82s, Calculate Pauli Expectation Values - 8.27s, Calculate Covariance - 2.85s\n",
      "f0,f1,f2 = [1.9273169456679674e-08, 1.9273169456584326e-08, 1.9273169456658763e-08]\n",
      "d01,d02,d12 = [0.9982103521998829, 0.9982103522005972, 0.9982103521993645]\n"
     ]
    },
    {
     "name": "stderr",
     "output_type": "stream",
     "text": [
      "Progress:  18%|█▊        | 36/200 [12:52<53:47, 19.68s/it]"
     ]
    },
    {
     "name": "stdout",
     "output_type": "stream",
     "text": [
      "Time to: Calculate Ground State - 1.49s, Get Pauli Ops - 6.68s, Calculate Pauli Expectation Values - 8.21s, Calculate Covariance - 2.16s\n",
      "f0,f1,f2 = [5.968614271238924e-09, 5.96861427119081e-09, 5.968614271219685e-09]\n",
      "d01,d02,d12 = [0.9781448482640043, 0.9781448482646308, 0.9781448482634885]\n"
     ]
    },
    {
     "name": "stderr",
     "output_type": "stream",
     "text": [
      "/cluster/home/mskrabulis/miniconda3/envs/quantech/lib/python3.9/site-packages/pyscf/symm/Dmatrix.py:156: RuntimeWarning: invalid value encountered in arccos\n",
      "  gamma = numpy.arccos(yp.dot(c2[1]))\n",
      "Progress:  18%|█▊        | 37/200 [13:15<55:35, 20.47s/it]"
     ]
    },
    {
     "name": "stdout",
     "output_type": "stream",
     "text": [
      "Time to: Calculate Ground State - 1.5s, Get Pauli Ops - 7.14s, Calculate Pauli Expectation Values - 10.82s, Calculate Covariance - 2.84s\n",
      "f0,f1,f2 = [1.1997610950252323e-09, 1.1997610949356152e-09, 1.1997610949703317e-09]\n",
      "d01,d02,d12 = [0.9577944033589216, 0.9577944033594669, 0.957794403358439]\n"
     ]
    },
    {
     "name": "stderr",
     "output_type": "stream",
     "text": [
      "Progress:  19%|█▉        | 38/200 [13:35<55:19, 20.49s/it]"
     ]
    },
    {
     "name": "stdout",
     "output_type": "stream",
     "text": [
      "Time to: Calculate Ground State - 1.54s, Get Pauli Ops - 7.19s, Calculate Pauli Expectation Values - 8.73s, Calculate Covariance - 3.08s\n",
      "f0,f1,f2 = [5.128063179283182e-09, 5.128063179373291e-09, 5.128063179306438e-09]\n",
      "d01,d02,d12 = [0.939787543934602, 0.9397875439350469, 0.9397875439341589]\n"
     ]
    },
    {
     "name": "stderr",
     "output_type": "stream",
     "text": [
      "Progress:  20%|█▉        | 39/200 [13:54<53:50, 20.06s/it]"
     ]
    },
    {
     "name": "stdout",
     "output_type": "stream",
     "text": [
      "Time to: Calculate Ground State - 1.59s, Get Pauli Ops - 6.47s, Calculate Pauli Expectation Values - 8.59s, Calculate Covariance - 2.4s\n",
      "f0,f1,f2 = [4.054511700776758e-10, 4.0545117001745545e-10, 4.0545117005934827e-10]\n",
      "d01,d02,d12 = [0.9218041749624264, 0.9218041749627733, 0.9218041749620317]\n"
     ]
    },
    {
     "name": "stderr",
     "output_type": "stream",
     "text": [
      "Progress:  20%|██        | 40/200 [14:14<53:21, 20.01s/it]"
     ]
    },
    {
     "name": "stdout",
     "output_type": "stream",
     "text": [
      "Time to: Calculate Ground State - 1.44s, Get Pauli Ops - 6.59s, Calculate Pauli Expectation Values - 8.96s, Calculate Covariance - 2.88s\n",
      "f0,f1,f2 = [5.346384289459604e-09, 5.346384289483342e-09, 5.3463842894624325e-09]\n",
      "d01,d02,d12 = [0.9062308968816826, 0.9062308968819205, 0.9062308968813427]\n"
     ]
    },
    {
     "name": "stderr",
     "output_type": "stream",
     "text": [
      "Progress:  20%|██        | 41/200 [14:35<53:26, 20.16s/it]"
     ]
    },
    {
     "name": "stdout",
     "output_type": "stream",
     "text": [
      "Time to: Calculate Ground State - 1.55s, Get Pauli Ops - 6.83s, Calculate Pauli Expectation Values - 9.05s, Calculate Covariance - 3.08s\n",
      "f0,f1,f2 = [4.477272442702376e-10, 4.477272442968323e-10, 4.4772724429001505e-10]\n",
      "d01,d02,d12 = [0.8910103091769257, 0.8910103091770547, 0.8910103091766552]\n"
     ]
    },
    {
     "name": "stderr",
     "output_type": "stream",
     "text": [
      "Progress:  21%|██        | 42/200 [14:56<54:12, 20.59s/it]"
     ]
    },
    {
     "name": "stdout",
     "output_type": "stream",
     "text": [
      "Time to: Calculate Ground State - 1.52s, Get Pauli Ops - 8.37s, Calculate Pauli Expectation Values - 9.1s, Calculate Covariance - 2.55s\n",
      "f0,f1,f2 = [9.736655540676669e-09, 9.736655540734462e-09, 9.736655540731537e-09]\n",
      "d01,d02,d12 = [0.8799929666393531, 0.8799929666393985, 0.8799929666391736]\n"
     ]
    },
    {
     "name": "stderr",
     "output_type": "stream",
     "text": [
      "Progress:  22%|██▏       | 43/200 [15:20<56:01, 21.41s/it]"
     ]
    },
    {
     "name": "stdout",
     "output_type": "stream",
     "text": [
      "Time to: Calculate Ground State - 1.56s, Get Pauli Ops - 9.39s, Calculate Pauli Expectation Values - 9.53s, Calculate Covariance - 2.85s\n",
      "f0,f1,f2 = [1.2776796704314676e-09, 1.277679670454096e-09, 1.2776796704218545e-09]\n",
      "d01,d02,d12 = [0.869624731561869, 0.8696247315618227, 0.8696247315617847]\n"
     ]
    },
    {
     "name": "stderr",
     "output_type": "stream",
     "text": [
      "Progress:  22%|██▏       | 44/200 [15:39<54:12, 20.85s/it]"
     ]
    },
    {
     "name": "stdout",
     "output_type": "stream",
     "text": [
      "Time to: Calculate Ground State - 0.92s, Get Pauli Ops - 6.7s, Calculate Pauli Expectation Values - 8.88s, Calculate Covariance - 3.02s\n",
      "f0,f1,f2 = [1.1409050509404285e-08, 1.1409050509421769e-08, 1.1409050509419757e-08]\n",
      "d01,d02,d12 = [0.8641021363409388, 0.8641021363408137, 0.8641021363409577]\n"
     ]
    },
    {
     "name": "stderr",
     "output_type": "stream",
     "text": [
      "Progress:  22%|██▎       | 45/200 [16:02<55:28, 21.47s/it]"
     ]
    },
    {
     "name": "stdout",
     "output_type": "stream",
     "text": [
      "Time to: Calculate Ground State - 1.53s, Get Pauli Ops - 9.68s, Calculate Pauli Expectation Values - 9.18s, Calculate Covariance - 2.53s\n",
      "f0,f1,f2 = [1.7524006011822278e-08, 1.752400601182556e-08, 1.7524006011828617e-08]\n",
      "d01,d02,d12 = [0.8659096194388989, 0.8659096194386924, 0.8659096194390178]\n"
     ]
    },
    {
     "name": "stderr",
     "output_type": "stream",
     "text": [
      "Progress:  23%|██▎       | 46/200 [16:23<54:46, 21.34s/it]"
     ]
    },
    {
     "name": "stdout",
     "output_type": "stream",
     "text": [
      "Time to: Calculate Ground State - 1.56s, Get Pauli Ops - 7.05s, Calculate Pauli Expectation Values - 9.46s, Calculate Covariance - 2.94s\n",
      "f0,f1,f2 = [9.638172326851057e-09, 9.638172326766746e-09, 9.63817232685807e-09]\n",
      "d01,d02,d12 = [0.8716959866630055, 0.8716959866627382, 0.8716959866632195]\n"
     ]
    },
    {
     "name": "stderr",
     "output_type": "stream",
     "text": [
      "/cluster/home/mskrabulis/miniconda3/envs/quantech/lib/python3.9/site-packages/pyscf/symm/Dmatrix.py:156: RuntimeWarning: invalid value encountered in arccos\n",
      "  gamma = numpy.arccos(yp.dot(c2[1]))\n",
      "Progress:  24%|██▎       | 47/200 [16:45<54:59, 21.57s/it]"
     ]
    },
    {
     "name": "stdout",
     "output_type": "stream",
     "text": [
      "Time to: Calculate Ground State - 1.73s, Get Pauli Ops - 5.39s, Calculate Pauli Expectation Values - 12.41s, Calculate Covariance - 2.55s\n",
      "f0,f1,f2 = [8.549405347942283e-09, 8.549405347951307e-09, 8.549405347941864e-09]\n",
      "d01,d02,d12 = [0.8809664714583092, 0.8809664714579654, 0.8809664714586185]\n"
     ]
    },
    {
     "name": "stderr",
     "output_type": "stream",
     "text": [
      "/cluster/home/mskrabulis/miniconda3/envs/quantech/lib/python3.9/site-packages/pyscf/symm/Dmatrix.py:156: RuntimeWarning: invalid value encountered in arccos\n",
      "  gamma = numpy.arccos(yp.dot(c2[1]))\n",
      "/cluster/home/mskrabulis/miniconda3/envs/quantech/lib/python3.9/site-packages/pyscf/symm/Dmatrix.py:156: RuntimeWarning: invalid value encountered in arccos\n",
      "  gamma = numpy.arccos(yp.dot(c2[1]))\n",
      "Progress:  24%|██▍       | 48/200 [17:07<54:38, 21.57s/it]"
     ]
    },
    {
     "name": "stdout",
     "output_type": "stream",
     "text": [
      "Time to: Calculate Ground State - 1.59s, Get Pauli Ops - 8.66s, Calculate Pauli Expectation Values - 9.01s, Calculate Covariance - 2.32s\n",
      "f0,f1,f2 = [7.75194309186397e-09, 7.751943091883979e-09, 7.751943091885804e-09]\n",
      "d01,d02,d12 = [0.8933528092818889, 0.8933528092814627, 0.8933528092822929]\n"
     ]
    },
    {
     "name": "stderr",
     "output_type": "stream",
     "text": [
      "Progress:  24%|██▍       | 49/200 [17:28<53:40, 21.33s/it]"
     ]
    },
    {
     "name": "stdout",
     "output_type": "stream",
     "text": [
      "Time to: Calculate Ground State - 1.5s, Get Pauli Ops - 7.48s, Calculate Pauli Expectation Values - 9.29s, Calculate Covariance - 2.49s\n",
      "f0,f1,f2 = [1.1542497634223739e-08, 1.1542497634223451e-08, 1.1542497634230674e-08]\n",
      "d01,d02,d12 = [0.9103944340539878, 0.9103944340534765, 0.9103944340544987]\n"
     ]
    },
    {
     "name": "stderr",
     "output_type": "stream",
     "text": [
      "/cluster/home/mskrabulis/miniconda3/envs/quantech/lib/python3.9/site-packages/pyscf/symm/Dmatrix.py:156: RuntimeWarning: invalid value encountered in arccos\n",
      "  gamma = numpy.arccos(yp.dot(c2[1]))\n",
      "Progress:  25%|██▌       | 50/200 [17:50<54:21, 21.74s/it]"
     ]
    },
    {
     "name": "stdout",
     "output_type": "stream",
     "text": [
      "Time to: Calculate Ground State - 0.91s, Get Pauli Ops - 9.62s, Calculate Pauli Expectation Values - 9.13s, Calculate Covariance - 3.04s\n",
      "f0,f1,f2 = [1.522723216405747e-09, 1.5227232164332923e-09, 1.5227232163818216e-09]\n",
      "d01,d02,d12 = [0.9278852862369318, 0.9278852862363295, 0.9278852862375473]\n"
     ]
    },
    {
     "name": "stderr",
     "output_type": "stream",
     "text": [
      "/cluster/home/mskrabulis/miniconda3/envs/quantech/lib/python3.9/site-packages/pyscf/symm/Dmatrix.py:156: RuntimeWarning: invalid value encountered in arccos\n",
      "  gamma = numpy.arccos(yp.dot(c2[1]))\n",
      "Progress:  26%|██▌       | 51/200 [18:11<53:08, 21.40s/it]"
     ]
    },
    {
     "name": "stdout",
     "output_type": "stream",
     "text": [
      "Time to: Calculate Ground State - 1.45s, Get Pauli Ops - 6.69s, Calculate Pauli Expectation Values - 9.55s, Calculate Covariance - 2.89s\n",
      "f0,f1,f2 = [5.4898658535477405e-09, 5.489865853517488e-09, 5.4898658535457115e-09]\n",
      "d01,d02,d12 = [0.9474670896473192, 0.9474670896466334, 0.9474670896480314]\n"
     ]
    },
    {
     "name": "stderr",
     "output_type": "stream",
     "text": [
      "Progress:  26%|██▌       | 52/200 [18:33<53:02, 21.50s/it]"
     ]
    },
    {
     "name": "stdout",
     "output_type": "stream",
     "text": [
      "Time to: Calculate Ground State - 1.58s, Get Pauli Ops - 7.13s, Calculate Pauli Expectation Values - 9.93s, Calculate Covariance - 3.08s\n",
      "f0,f1,f2 = [1.1798559137616325e-08, 1.1798559137633464e-08, 1.1798559137622276e-08]\n",
      "d01,d02,d12 = [0.9717354391673596, 0.9717354391665916, 0.9717354391681744]\n"
     ]
    },
    {
     "name": "stderr",
     "output_type": "stream",
     "text": [
      "/cluster/home/mskrabulis/miniconda3/envs/quantech/lib/python3.9/site-packages/pyscf/symm/Dmatrix.py:156: RuntimeWarning: invalid value encountered in arccos\n",
      "  gamma = numpy.arccos(yp.dot(c2[1]))\n",
      "/cluster/home/mskrabulis/miniconda3/envs/quantech/lib/python3.9/site-packages/pyscf/symm/Dmatrix.py:156: RuntimeWarning: invalid value encountered in arccos\n",
      "  gamma = numpy.arccos(yp.dot(c2[1]))\n",
      "Progress:  26%|██▋       | 53/200 [18:55<52:55, 21.60s/it]"
     ]
    },
    {
     "name": "stdout",
     "output_type": "stream",
     "text": [
      "Time to: Calculate Ground State - 1.57s, Get Pauli Ops - 6.88s, Calculate Pauli Expectation Values - 10.64s, Calculate Covariance - 2.73s\n",
      "f0,f1,f2 = [1.616094514642089e-09, 1.616094514713508e-09, 1.6160945146413487e-09]\n",
      "d01,d02,d12 = [0.9950758735073644, 0.9950758735065396, 0.9950758735082802]\n"
     ]
    },
    {
     "name": "stderr",
     "output_type": "stream",
     "text": [
      "Progress:  27%|██▋       | 54/200 [19:13<50:09, 20.61s/it]"
     ]
    },
    {
     "name": "stdout",
     "output_type": "stream",
     "text": [
      "Time to: Calculate Ground State - 1.46s, Get Pauli Ops - 6.15s, Calculate Pauli Expectation Values - 8.52s, Calculate Covariance - 2.16s\n",
      "f0,f1,f2 = [2.8069486504176395e-09, 2.806948650398247e-09, 2.8069486504044654e-09]\n",
      "d01,d02,d12 = [1.0170043932434232, 1.0170043932425517, 1.0170043932444681]\n"
     ]
    },
    {
     "name": "stderr",
     "output_type": "stream",
     "text": [
      "Progress:  28%|██▊       | 55/200 [19:34<50:19, 20.82s/it]"
     ]
    },
    {
     "name": "stdout",
     "output_type": "stream",
     "text": [
      "Time to: Calculate Ground State - 1.58s, Get Pauli Ops - 6.19s, Calculate Pauli Expectation Values - 10.66s, Calculate Covariance - 2.87s\n",
      "f0,f1,f2 = [1.149664551200067e-08, 1.1496645512014418e-08, 1.1496645512015313e-08]\n",
      "d01,d02,d12 = [1.0339308357412034, 1.0339308357402814, 1.033930835742371]\n"
     ]
    },
    {
     "name": "stderr",
     "output_type": "stream",
     "text": [
      "Progress:  28%|██▊       | 56/200 [19:56<50:32, 21.06s/it]"
     ]
    },
    {
     "name": "stdout",
     "output_type": "stream",
     "text": [
      "Time to: Calculate Ground State - 1.5s, Get Pauli Ops - 6.92s, Calculate Pauli Expectation Values - 10.61s, Calculate Covariance - 2.58s\n",
      "f0,f1,f2 = [5.522989986575895e-09, 5.522989986598395e-09, 5.5229899866160425e-09]\n",
      "d01,d02,d12 = [1.0483863096433077, 1.0483863096423418, 1.0483863096445725]\n"
     ]
    },
    {
     "name": "stderr",
     "output_type": "stream",
     "text": [
      "/cluster/home/mskrabulis/miniconda3/envs/quantech/lib/python3.9/site-packages/pyscf/symm/Dmatrix.py:156: RuntimeWarning: invalid value encountered in arccos\n",
      "  gamma = numpy.arccos(yp.dot(c2[1]))\n",
      "Progress:  28%|██▊       | 57/200 [20:16<49:42, 20.86s/it]"
     ]
    },
    {
     "name": "stdout",
     "output_type": "stream",
     "text": [
      "Time to: Calculate Ground State - 0.94s, Get Pauli Ops - 6.6s, Calculate Pauli Expectation Values - 10.49s, Calculate Covariance - 2.34s\n",
      "f0,f1,f2 = [5.3072632100942665e-09, 5.3072632101197635e-09, 5.307263210144532e-09]\n",
      "d01,d02,d12 = [1.0604863452839113, 1.0604863452829207, 1.0604863452852864]\n"
     ]
    },
    {
     "name": "stderr",
     "output_type": "stream",
     "text": [
      "Progress:  29%|██▉       | 58/200 [20:35<48:16, 20.40s/it]"
     ]
    },
    {
     "name": "stdout",
     "output_type": "stream",
     "text": [
      "Time to: Calculate Ground State - 1.48s, Get Pauli Ops - 6.62s, Calculate Pauli Expectation Values - 8.77s, Calculate Covariance - 2.45s\n",
      "f0,f1,f2 = [1.4568666741866436e-09, 1.4568666742171072e-09, 1.4568666742576494e-09]\n",
      "d01,d02,d12 = [1.0718531923072074, 1.0718531923061858, 1.0718531923086816]\n"
     ]
    },
    {
     "name": "stderr",
     "output_type": "stream",
     "text": [
      "Progress:  30%|██▉       | 59/200 [20:54<46:56, 19.97s/it]"
     ]
    },
    {
     "name": "stdout",
     "output_type": "stream",
     "text": [
      "Time to: Calculate Ground State - 1.11s, Get Pauli Ops - 6.36s, Calculate Pauli Expectation Values - 8.96s, Calculate Covariance - 2.54s\n",
      "f0,f1,f2 = [5.8259772689078794e-09, 5.825977268866267e-09, 5.825977268884714e-09]\n",
      "d01,d02,d12 = [1.0806818994097322, 1.0806818994086806, 1.0806818994112943]\n"
     ]
    },
    {
     "name": "stderr",
     "output_type": "stream",
     "text": [
      "Progress:  30%|███       | 60/200 [21:15<46:44, 20.03s/it]"
     ]
    },
    {
     "name": "stdout",
     "output_type": "stream",
     "text": [
      "Time to: Calculate Ground State - 1.48s, Get Pauli Ops - 6.64s, Calculate Pauli Expectation Values - 9.0s, Calculate Covariance - 3.03s\n",
      "f0,f1,f2 = [6.089296345856454e-10, 6.089296345772777e-10, 6.089296346532582e-10]\n",
      "d01,d02,d12 = [1.0891637613812257, 1.0891637613801244, 1.0891637613828469]\n"
     ]
    },
    {
     "name": "stderr",
     "output_type": "stream",
     "text": [
      "/cluster/home/mskrabulis/miniconda3/envs/quantech/lib/python3.9/site-packages/pyscf/symm/Dmatrix.py:156: RuntimeWarning: invalid value encountered in arccos\n",
      "  gamma = numpy.arccos(yp.dot(c2[1]))\n",
      "Progress:  30%|███       | 61/200 [21:35<46:32, 20.09s/it]"
     ]
    },
    {
     "name": "stdout",
     "output_type": "stream",
     "text": [
      "Time to: Calculate Ground State - 1.51s, Get Pauli Ops - 6.5s, Calculate Pauli Expectation Values - 9.44s, Calculate Covariance - 2.77s\n",
      "f0,f1,f2 = [1.7707802835159582e-09, 1.7707802834915258e-09, 1.770780283483743e-09]\n",
      "d01,d02,d12 = [1.0982896167469067, 1.0982896167457514, 1.0982896167485903]\n"
     ]
    },
    {
     "name": "stderr",
     "output_type": "stream",
     "text": [
      "Progress:  31%|███       | 62/200 [21:58<48:17, 20.99s/it]"
     ]
    },
    {
     "name": "stdout",
     "output_type": "stream",
     "text": [
      "Time to: Calculate Ground State - 1.6s, Get Pauli Ops - 8.47s, Calculate Pauli Expectation Values - 10.12s, Calculate Covariance - 2.91s\n",
      "f0,f1,f2 = [1.3944275144488227e-08, 1.3944275144495755e-08, 1.3944275144544883e-08]\n",
      "d01,d02,d12 = [1.1015328553490638, 1.1015328553478496, 1.1015328553507853]\n"
     ]
    },
    {
     "name": "stderr",
     "output_type": "stream",
     "text": [
      "Progress:  32%|███▏      | 63/200 [22:19<47:42, 20.89s/it]"
     ]
    },
    {
     "name": "stdout",
     "output_type": "stream",
     "text": [
      "Time to: Calculate Ground State - 1.45s, Get Pauli Ops - 5.22s, Calculate Pauli Expectation Values - 10.84s, Calculate Covariance - 3.12s\n",
      "f0,f1,f2 = [4.7347073926627046e-09, 4.734707392580736e-09, 4.734707392620009e-09]\n",
      "d01,d02,d12 = [1.106705620168918, 1.10670562016765, 1.106705620170673]\n"
     ]
    },
    {
     "name": "stderr",
     "output_type": "stream",
     "text": [
      "/cluster/home/mskrabulis/miniconda3/envs/quantech/lib/python3.9/site-packages/pyscf/symm/Dmatrix.py:156: RuntimeWarning: invalid value encountered in arccos\n",
      "  gamma = numpy.arccos(yp.dot(c2[1]))\n",
      "/cluster/home/mskrabulis/miniconda3/envs/quantech/lib/python3.9/site-packages/pyscf/symm/Dmatrix.py:156: RuntimeWarning: invalid value encountered in arccos\n",
      "  gamma = numpy.arccos(yp.dot(c2[1]))\n",
      "Progress:  32%|███▏      | 64/200 [22:38<46:14, 20.40s/it]"
     ]
    },
    {
     "name": "stdout",
     "output_type": "stream",
     "text": [
      "Time to: Calculate Ground State - 1.67s, Get Pauli Ops - 6.05s, Calculate Pauli Expectation Values - 8.61s, Calculate Covariance - 2.9s\n",
      "f0,f1,f2 = [9.716061234443565e-09, 9.716061234484235e-09, 9.716061234466295e-09]\n",
      "d01,d02,d12 = [1.1077921215373607, 1.1077921215360464, 1.1077921215391324]\n"
     ]
    },
    {
     "name": "stderr",
     "output_type": "stream",
     "text": [
      "Progress:  32%|███▎      | 65/200 [22:59<46:35, 20.70s/it]"
     ]
    },
    {
     "name": "stdout",
     "output_type": "stream",
     "text": [
      "Time to: Calculate Ground State - 1.56s, Get Pauli Ops - 8.98s, Calculate Pauli Expectation Values - 8.55s, Calculate Covariance - 2.33s\n",
      "f0,f1,f2 = [1.4480043554578537e-08, 1.4480043554611492e-08, 1.4480043554551634e-08]\n",
      "d01,d02,d12 = [1.1028597505348716, 1.1028597505335385, 1.1028597505366495]\n"
     ]
    },
    {
     "name": "stderr",
     "output_type": "stream",
     "text": [
      "/cluster/home/mskrabulis/miniconda3/envs/quantech/lib/python3.9/site-packages/pyscf/symm/Dmatrix.py:156: RuntimeWarning: invalid value encountered in arccos\n",
      "  gamma = numpy.arccos(yp.dot(c2[1]))\n",
      "/cluster/home/mskrabulis/miniconda3/envs/quantech/lib/python3.9/site-packages/pyscf/symm/Dmatrix.py:156: RuntimeWarning: invalid value encountered in arccos\n",
      "  gamma = numpy.arccos(yp.dot(c2[1]))\n",
      "Progress:  33%|███▎      | 66/200 [23:21<47:04, 21.08s/it]"
     ]
    },
    {
     "name": "stdout",
     "output_type": "stream",
     "text": [
      "Time to: Calculate Ground State - 1.54s, Get Pauli Ops - 9.25s, Calculate Pauli Expectation Values - 8.6s, Calculate Covariance - 2.54s\n",
      "f0,f1,f2 = [1.1855199829591055e-08, 1.1855199829596422e-08, 1.1855199829664795e-08]\n",
      "d01,d02,d12 = [1.093061925746046, 1.0930619257446819, 1.0930619257477967]\n"
     ]
    },
    {
     "name": "stderr",
     "output_type": "stream",
     "text": [
      "Progress:  34%|███▎      | 67/200 [23:43<46:56, 21.18s/it]"
     ]
    },
    {
     "name": "stdout",
     "output_type": "stream",
     "text": [
      "Time to: Calculate Ground State - 1.57s, Get Pauli Ops - 7.05s, Calculate Pauli Expectation Values - 10.16s, Calculate Covariance - 2.62s\n",
      "f0,f1,f2 = [3.859069658868633e-09, 3.8590696587397446e-09, 3.859069658798788e-09]\n",
      "d01,d02,d12 = [1.084969847356339, 1.0849698473549558, 1.0849698473580367]\n"
     ]
    },
    {
     "name": "stderr",
     "output_type": "stream",
     "text": [
      "/cluster/home/mskrabulis/miniconda3/envs/quantech/lib/python3.9/site-packages/pyscf/symm/Dmatrix.py:156: RuntimeWarning: invalid value encountered in arccos\n",
      "  gamma = numpy.arccos(yp.dot(c2[1]))\n",
      "Progress:  34%|███▍      | 68/200 [24:04<46:53, 21.31s/it]"
     ]
    },
    {
     "name": "stdout",
     "output_type": "stream",
     "text": [
      "Time to: Calculate Ground State - 0.96s, Get Pauli Ops - 6.19s, Calculate Pauli Expectation Values - 11.6s, Calculate Covariance - 2.85s\n",
      "f0,f1,f2 = [1.0614208732828377e-09, 1.0614208733283254e-09, 1.061420873316211e-09]\n",
      "d01,d02,d12 = [1.0765238417172722, 1.076523841715864, 1.0765238417189198]\n"
     ]
    },
    {
     "name": "stderr",
     "output_type": "stream",
     "text": [
      "Progress:  34%|███▍      | 69/200 [24:26<46:52, 21.47s/it]"
     ]
    },
    {
     "name": "stdout",
     "output_type": "stream",
     "text": [
      "Time to: Calculate Ground State - 1.59s, Get Pauli Ops - 9.46s, Calculate Pauli Expectation Values - 8.24s, Calculate Covariance - 2.54s\n",
      "f0,f1,f2 = [9.50428420105558e-09, 9.504284201102941e-09, 9.504284201033893e-09]\n",
      "d01,d02,d12 = [1.0642249503922603, 1.0642249503908539, 1.0642249503938506]\n"
     ]
    },
    {
     "name": "stderr",
     "output_type": "stream",
     "text": [
      "/cluster/home/mskrabulis/miniconda3/envs/quantech/lib/python3.9/site-packages/pyscf/symm/Dmatrix.py:156: RuntimeWarning: invalid value encountered in arccos\n",
      "  gamma = numpy.arccos(yp.dot(c2[1]))\n",
      "Progress:  35%|███▌      | 70/200 [24:47<46:00, 21.24s/it]"
     ]
    },
    {
     "name": "stdout",
     "output_type": "stream",
     "text": [
      "Time to: Calculate Ground State - 1.49s, Get Pauli Ops - 6.6s, Calculate Pauli Expectation Values - 9.73s, Calculate Covariance - 2.87s\n",
      "f0,f1,f2 = [1.5830340015579247e-09, 1.5830340016354867e-09, 1.5830340015824589e-09]\n",
      "d01,d02,d12 = [1.0514002835514737, 1.0514002835500913, 1.0514002835529894]\n"
     ]
    },
    {
     "name": "stderr",
     "output_type": "stream",
     "text": [
      "/cluster/home/mskrabulis/miniconda3/envs/quantech/lib/python3.9/site-packages/pyscf/symm/Dmatrix.py:156: RuntimeWarning: invalid value encountered in arccos\n",
      "  gamma = numpy.arccos(yp.dot(c2[1]))\n",
      "Progress:  36%|███▌      | 71/200 [25:09<46:26, 21.60s/it]"
     ]
    },
    {
     "name": "stdout",
     "output_type": "stream",
     "text": [
      "Time to: Calculate Ground State - 1.52s, Get Pauli Ops - 6.95s, Calculate Pauli Expectation Values - 11.7s, Calculate Covariance - 2.29s\n",
      "f0,f1,f2 = [3.93905739063097e-09, 3.9390573905877424e-09, 3.939057390620173e-09]\n",
      "d01,d02,d12 = [1.0403461455850103, 1.0403461455836553, 1.0403461455864504]\n"
     ]
    },
    {
     "name": "stderr",
     "output_type": "stream",
     "text": [
      "/cluster/home/mskrabulis/miniconda3/envs/quantech/lib/python3.9/site-packages/pyscf/symm/Dmatrix.py:156: RuntimeWarning: invalid value encountered in arccos\n",
      "  gamma = numpy.arccos(yp.dot(c2[1]))\n",
      "Progress:  36%|███▌      | 72/200 [25:32<46:34, 21.83s/it]"
     ]
    },
    {
     "name": "stdout",
     "output_type": "stream",
     "text": [
      "Time to: Calculate Ground State - 1.63s, Get Pauli Ops - 9.85s, Calculate Pauli Expectation Values - 8.55s, Calculate Covariance - 2.31s\n",
      "f0,f1,f2 = [1.001286288215123e-08, 1.001286288227238e-08, 1.0012862882197379e-08]\n",
      "d01,d02,d12 = [1.033563378723846, 1.0335633787224863, 1.0335633787252512]\n"
     ]
    },
    {
     "name": "stderr",
     "output_type": "stream",
     "text": [
      "/cluster/home/mskrabulis/miniconda3/envs/quantech/lib/python3.9/site-packages/pyscf/symm/Dmatrix.py:156: RuntimeWarning: invalid value encountered in arccos\n",
      "  gamma = numpy.arccos(yp.dot(c2[1]))\n",
      "/cluster/home/mskrabulis/miniconda3/envs/quantech/lib/python3.9/site-packages/pyscf/symm/Dmatrix.py:156: RuntimeWarning: invalid value encountered in arccos\n",
      "  gamma = numpy.arccos(yp.dot(c2[1]))\n",
      "Progress:  36%|███▋      | 73/200 [25:56<47:42, 22.54s/it]"
     ]
    },
    {
     "name": "stdout",
     "output_type": "stream",
     "text": [
      "Time to: Calculate Ground State - 1.72s, Get Pauli Ops - 9.12s, Calculate Pauli Expectation Values - 10.81s, Calculate Covariance - 2.53s\n",
      "f0,f1,f2 = [5.735821942502161e-09, 5.735821942510101e-09, 5.735821942498786e-09]\n",
      "d01,d02,d12 = [1.0244730369416573, 1.0244730369403154, 1.0244730369430213]\n"
     ]
    },
    {
     "name": "stderr",
     "output_type": "stream",
     "text": [
      "Progress:  37%|███▋      | 74/200 [26:18<46:47, 22.28s/it]"
     ]
    },
    {
     "name": "stdout",
     "output_type": "stream",
     "text": [
      "Time to: Calculate Ground State - 1.59s, Get Pauli Ops - 9.44s, Calculate Pauli Expectation Values - 8.24s, Calculate Covariance - 2.4s\n",
      "f0,f1,f2 = [7.039112509867113e-09, 7.039112509897827e-09, 7.0391125099013044e-09]\n",
      "d01,d02,d12 = [1.0183993980322574, 1.0183993980309043, 1.0183993980335957]\n"
     ]
    },
    {
     "name": "stderr",
     "output_type": "stream",
     "text": [
      "Progress:  38%|███▊      | 75/200 [26:36<44:10, 21.21s/it]"
     ]
    },
    {
     "name": "stdout",
     "output_type": "stream",
     "text": [
      "Time to: Calculate Ground State - 0.95s, Get Pauli Ops - 6.33s, Calculate Pauli Expectation Values - 8.81s, Calculate Covariance - 2.61s\n",
      "f0,f1,f2 = [4.839971037326165e-09, 4.839971037294871e-09, 4.839971037292552e-09]\n",
      "d01,d02,d12 = [1.0143980961132213, 1.0143980961118488, 1.014398096114532]\n"
     ]
    },
    {
     "name": "stderr",
     "output_type": "stream",
     "text": [
      "/cluster/home/mskrabulis/miniconda3/envs/quantech/lib/python3.9/site-packages/pyscf/symm/Dmatrix.py:156: RuntimeWarning: invalid value encountered in arccos\n",
      "  gamma = numpy.arccos(yp.dot(c2[1]))\n",
      "/cluster/home/mskrabulis/miniconda3/envs/quantech/lib/python3.9/site-packages/pyscf/symm/Dmatrix.py:156: RuntimeWarning: invalid value encountered in arccos\n",
      "  gamma = numpy.arccos(yp.dot(c2[1]))\n",
      "Progress:  38%|███▊      | 76/200 [26:58<44:08, 21.36s/it]"
     ]
    },
    {
     "name": "stdout",
     "output_type": "stream",
     "text": [
      "Time to: Calculate Ground State - 1.53s, Get Pauli Ops - 9.17s, Calculate Pauli Expectation Values - 9.04s, Calculate Covariance - 1.96s\n",
      "f0,f1,f2 = [5.173170056443463e-09, 5.173170056381473e-09, 5.173170056359992e-09]\n",
      "d01,d02,d12 = [1.012585377263706, 1.0125853772623075, 1.0125853772649756]\n"
     ]
    },
    {
     "name": "stderr",
     "output_type": "stream",
     "text": [
      "/cluster/home/mskrabulis/miniconda3/envs/quantech/lib/python3.9/site-packages/pyscf/symm/Dmatrix.py:156: RuntimeWarning: invalid value encountered in arccos\n",
      "  gamma = numpy.arccos(yp.dot(c2[1]))\n",
      "Progress:  38%|███▊      | 77/200 [27:21<44:40, 21.80s/it]"
     ]
    },
    {
     "name": "stdout",
     "output_type": "stream",
     "text": [
      "Time to: Calculate Ground State - 1.5s, Get Pauli Ops - 7.0s, Calculate Pauli Expectation Values - 11.8s, Calculate Covariance - 2.5s\n",
      "f0,f1,f2 = [2.4263500976128697e-09, 2.42635009755435e-09, 2.4263500976331646e-09]\n",
      "d01,d02,d12 = [1.011798480447164, 1.0117984804457496, 1.0117984804484055]\n"
     ]
    },
    {
     "name": "stderr",
     "output_type": "stream",
     "text": [
      "Progress:  39%|███▉      | 78/200 [27:44<45:26, 22.34s/it]"
     ]
    },
    {
     "name": "stdout",
     "output_type": "stream",
     "text": [
      "Time to: Calculate Ground State - 1.65s, Get Pauli Ops - 6.9s, Calculate Pauli Expectation Values - 12.39s, Calculate Covariance - 2.67s\n",
      "f0,f1,f2 = [1.5900228322371584e-09, 1.5900228323315831e-09, 1.590022832299265e-09]\n",
      "d01,d02,d12 = [1.0103602861538317, 1.0103602861524272, 1.010360286155018]\n"
     ]
    },
    {
     "name": "stderr",
     "output_type": "stream",
     "text": [
      "Progress:  40%|███▉      | 79/200 [28:09<46:13, 22.92s/it]"
     ]
    },
    {
     "name": "stdout",
     "output_type": "stream",
     "text": [
      "Time to: Calculate Ground State - 1.55s, Get Pauli Ops - 6.86s, Calculate Pauli Expectation Values - 12.76s, Calculate Covariance - 3.08s\n",
      "f0,f1,f2 = [1.1529296663903894e-09, 1.1529296664523924e-09, 1.1529296663998e-09]\n",
      "d01,d02,d12 = [1.0084590328696772, 1.0084590328683118, 1.008459032870803]\n"
     ]
    },
    {
     "name": "stderr",
     "output_type": "stream",
     "text": [
      "Progress:  40%|████      | 80/200 [28:32<46:24, 23.20s/it]"
     ]
    },
    {
     "name": "stdout",
     "output_type": "stream",
     "text": [
      "Time to: Calculate Ground State - 1.58s, Get Pauli Ops - 7.03s, Calculate Pauli Expectation Values - 12.13s, Calculate Covariance - 3.11s\n",
      "f0,f1,f2 = [9.938850854091302e-10, 9.938850854619151e-10, 9.93885085433701e-10]\n",
      "d01,d02,d12 = [1.006165610694679, 1.0061656106933656, 1.0061656106957186]\n"
     ]
    },
    {
     "name": "stderr",
     "output_type": "stream",
     "text": [
      "Progress:  40%|████      | 81/200 [28:56<46:21, 23.37s/it]"
     ]
    },
    {
     "name": "stdout",
     "output_type": "stream",
     "text": [
      "Time to: Calculate Ground State - 1.57s, Get Pauli Ops - 10.24s, Calculate Pauli Expectation Values - 8.93s, Calculate Covariance - 3.0s\n",
      "f0,f1,f2 = [5.870824868333189e-09, 5.870824868379937e-09, 5.870824868297242e-09]\n",
      "d01,d02,d12 = [1.0014609167600868, 1.0014609167588473, 1.0014609167610344]\n"
     ]
    },
    {
     "name": "stderr",
     "output_type": "stream",
     "text": [
      "Progress:  41%|████      | 82/200 [29:19<45:39, 23.21s/it]"
     ]
    },
    {
     "name": "stdout",
     "output_type": "stream",
     "text": [
      "Time to: Calculate Ground State - 1.57s, Get Pauli Ops - 9.48s, Calculate Pauli Expectation Values - 8.71s, Calculate Covariance - 3.07s\n",
      "f0,f1,f2 = [9.23000976375458e-09, 9.230009763796826e-09, 9.230009763790478e-09]\n",
      "d01,d02,d12 = [0.9929769102468622, 0.9929769102457049, 0.9929769102476919]\n"
     ]
    },
    {
     "name": "stderr",
     "output_type": "stream",
     "text": [
      "Progress:  42%|████▏     | 83/200 [29:42<45:04, 23.12s/it]"
     ]
    },
    {
     "name": "stdout",
     "output_type": "stream",
     "text": [
      "Time to: Calculate Ground State - 1.55s, Get Pauli Ops - 9.49s, Calculate Pauli Expectation Values - 8.89s, Calculate Covariance - 2.94s\n",
      "f0,f1,f2 = [4.224556846948105e-09, 4.224556846955344e-09, 4.224556846916727e-09]\n",
      "d01,d02,d12 = [0.986335448743012, 0.9863354487419231, 0.9863354487437188]\n"
     ]
    },
    {
     "name": "stderr",
     "output_type": "stream",
     "text": [
      "Progress:  42%|████▏     | 84/200 [30:04<44:14, 22.88s/it]"
     ]
    },
    {
     "name": "stdout",
     "output_type": "stream",
     "text": [
      "Time to: Calculate Ground State - 1.56s, Get Pauli Ops - 9.55s, Calculate Pauli Expectation Values - 8.82s, Calculate Covariance - 2.39s\n",
      "f0,f1,f2 = [6.0015679687743225e-09, 6.001567968763683e-09, 6.0015679688108665e-09]\n",
      "d01,d02,d12 = [0.9772745734014627, 0.9772745734004484, 0.9772745734020465]\n"
     ]
    },
    {
     "name": "stderr",
     "output_type": "stream",
     "text": [
      "/cluster/home/mskrabulis/miniconda3/envs/quantech/lib/python3.9/site-packages/pyscf/symm/Dmatrix.py:156: RuntimeWarning: invalid value encountered in arccos\n",
      "  gamma = numpy.arccos(yp.dot(c2[1]))\n",
      "Progress:  42%|████▎     | 85/200 [30:28<44:07, 23.02s/it]"
     ]
    },
    {
     "name": "stdout",
     "output_type": "stream",
     "text": [
      "Time to: Calculate Ground State - 1.56s, Get Pauli Ops - 9.45s, Calculate Pauli Expectation Values - 9.24s, Calculate Covariance - 3.07s\n",
      "f0,f1,f2 = [5.393010368675685e-09, 5.39301036868385e-09, 5.393010368641915e-09]\n",
      "d01,d02,d12 = [0.9660724351485829, 0.9660724351476583, 0.9660724351490483]\n"
     ]
    },
    {
     "name": "stderr",
     "output_type": "stream",
     "text": [
      "Progress:  43%|████▎     | 86/200 [30:48<42:19, 22.28s/it]"
     ]
    },
    {
     "name": "stdout",
     "output_type": "stream",
     "text": [
      "Time to: Calculate Ground State - 1.57s, Get Pauli Ops - 6.91s, Calculate Pauli Expectation Values - 8.99s, Calculate Covariance - 3.07s\n",
      "f0,f1,f2 = [3.465688322687835e-09, 3.4656883226614013e-09, 3.465688322670773e-09]\n",
      "d01,d02,d12 = [0.9564269706234642, 0.9564269706226456, 0.9564269706238234]\n"
     ]
    },
    {
     "name": "stderr",
     "output_type": "stream",
     "text": [
      "/cluster/home/mskrabulis/miniconda3/envs/quantech/lib/python3.9/site-packages/pyscf/symm/Dmatrix.py:156: RuntimeWarning: invalid value encountered in arccos\n",
      "  gamma = numpy.arccos(yp.dot(c2[1]))\n",
      "Progress:  44%|████▎     | 87/200 [31:09<41:21, 21.96s/it]"
     ]
    },
    {
     "name": "stdout",
     "output_type": "stream",
     "text": [
      "Time to: Calculate Ground State - 0.97s, Get Pauli Ops - 9.12s, Calculate Pauli Expectation Values - 9.01s, Calculate Covariance - 2.12s\n",
      "f0,f1,f2 = [1.8806239662474833e-09, 1.8806239662792086e-09, 1.8806239662697047e-09]\n",
      "d01,d02,d12 = [0.9461037662179468, 0.9461037662172479, 0.9461037662181917]\n"
     ]
    },
    {
     "name": "stderr",
     "output_type": "stream",
     "text": [
      "Progress:  44%|████▍     | 88/200 [31:32<41:05, 22.01s/it]"
     ]
    },
    {
     "name": "stdout",
     "output_type": "stream",
     "text": [
      "Time to: Calculate Ground State - 1.5s, Get Pauli Ops - 8.82s, Calculate Pauli Expectation Values - 9.27s, Calculate Covariance - 2.53s\n",
      "f0,f1,f2 = [4.24329595435033e-09, 4.2432959543240846e-09, 4.24329595433796e-09]\n",
      "d01,d02,d12 = [0.9376507432799837, 0.9376507432794026, 0.9376507432801112]\n"
     ]
    },
    {
     "name": "stderr",
     "output_type": "stream",
     "text": [
      "/cluster/home/mskrabulis/miniconda3/envs/quantech/lib/python3.9/site-packages/pyscf/symm/Dmatrix.py:156: RuntimeWarning: invalid value encountered in arccos\n",
      "  gamma = numpy.arccos(yp.dot(c2[1]))\n",
      "Progress:  44%|████▍     | 89/200 [31:52<39:37, 21.42s/it]"
     ]
    },
    {
     "name": "stdout",
     "output_type": "stream",
     "text": [
      "Time to: Calculate Ground State - 1.46s, Get Pauli Ops - 6.78s, Calculate Pauli Expectation Values - 8.72s, Calculate Covariance - 3.07s\n",
      "f0,f1,f2 = [4.779640820191798e-09, 4.779640820178235e-09, 4.779640820185955e-09]\n",
      "d01,d02,d12 = [0.9312706333139811, 0.9312706333135192, 0.9312706333139943]\n"
     ]
    },
    {
     "name": "stderr",
     "output_type": "stream",
     "text": [
      "Progress:  45%|████▌     | 90/200 [32:16<40:58, 22.35s/it]"
     ]
    },
    {
     "name": "stdout",
     "output_type": "stream",
     "text": [
      "Time to: Calculate Ground State - 1.65s, Get Pauli Ops - 9.18s, Calculate Pauli Expectation Values - 11.07s, Calculate Covariance - 2.6s\n",
      "f0,f1,f2 = [1.0074720166222362e-08, 1.0074720166204629e-08, 1.0074720166202053e-08]\n",
      "d01,d02,d12 = [0.9291381651177362, 0.9291381651173968, 0.9291381651176377]\n"
     ]
    },
    {
     "name": "stderr",
     "output_type": "stream",
     "text": [
      "Progress:  46%|████▌     | 91/200 [32:37<40:01, 22.03s/it]"
     ]
    },
    {
     "name": "stdout",
     "output_type": "stream",
     "text": [
      "Time to: Calculate Ground State - 1.48s, Get Pauli Ops - 8.43s, Calculate Pauli Expectation Values - 8.73s, Calculate Covariance - 2.63s\n",
      "f0,f1,f2 = [2.817869861907611e-09, 2.8178698618886296e-09, 2.817869861926612e-09]\n",
      "d01,d02,d12 = [0.9258594117155914, 0.9258594117153651, 0.9258594117153806]\n"
     ]
    },
    {
     "name": "stderr",
     "output_type": "stream",
     "text": [
      "/cluster/home/mskrabulis/miniconda3/envs/quantech/lib/python3.9/site-packages/pyscf/symm/Dmatrix.py:156: RuntimeWarning: invalid value encountered in arccos\n",
      "  gamma = numpy.arccos(yp.dot(c2[1]))\n",
      "Progress:  46%|████▌     | 92/200 [32:58<38:51, 21.59s/it]"
     ]
    },
    {
     "name": "stdout",
     "output_type": "stream",
     "text": [
      "Time to: Calculate Ground State - 1.51s, Get Pauli Ops - 6.36s, Calculate Pauli Expectation Values - 9.84s, Calculate Covariance - 2.83s\n",
      "f0,f1,f2 = [6.436091429410051e-09, 6.436091429398672e-09, 6.436091429432722e-09]\n",
      "d01,d02,d12 = [0.9252857418574726, 0.9252857418573633, 0.9252857418571521]\n"
     ]
    },
    {
     "name": "stderr",
     "output_type": "stream",
     "text": [
      "Progress:  46%|████▋     | 93/200 [33:21<39:05, 21.92s/it]"
     ]
    },
    {
     "name": "stdout",
     "output_type": "stream",
     "text": [
      "Time to: Calculate Ground State - 1.57s, Get Pauli Ops - 9.44s, Calculate Pauli Expectation Values - 8.98s, Calculate Covariance - 2.69s\n",
      "f0,f1,f2 = [3.6225960331969168e-09, 3.6225960332605948e-09, 3.622596033224255e-09]\n",
      "d01,d02,d12 = [0.9262210740134077, 0.9262210740134047, 0.9262210740129807]\n"
     ]
    },
    {
     "name": "stderr",
     "output_type": "stream",
     "text": [
      "Progress:  47%|████▋     | 94/200 [33:44<39:24, 22.31s/it]"
     ]
    },
    {
     "name": "stdout",
     "output_type": "stream",
     "text": [
      "Time to: Calculate Ground State - 1.58s, Get Pauli Ops - 9.93s, Calculate Pauli Expectation Values - 8.79s, Calculate Covariance - 2.89s\n",
      "f0,f1,f2 = [2.9101371471636415e-09, 2.9101371472169764e-09, 2.910137147219326e-09]\n",
      "d01,d02,d12 = [0.9259391183757432, 0.9259391183758389, 0.925939118375197]\n"
     ]
    },
    {
     "name": "stderr",
     "output_type": "stream",
     "text": [
      "Progress:  48%|████▊     | 95/200 [34:07<39:35, 22.62s/it]"
     ]
    },
    {
     "name": "stdout",
     "output_type": "stream",
     "text": [
      "Time to: Calculate Ground State - 1.59s, Get Pauli Ops - 8.91s, Calculate Pauli Expectation Values - 9.73s, Calculate Covariance - 3.1s\n",
      "f0,f1,f2 = [4.803118300490962e-09, 4.8031183004864746e-09, 4.803118300482291e-09]\n",
      "d01,d02,d12 = [0.923667538191248, 0.9236675381914445, 0.9236675381905927]\n"
     ]
    },
    {
     "name": "stderr",
     "output_type": "stream",
     "text": [
      "Progress:  48%|████▊     | 96/200 [34:29<38:33, 22.25s/it]"
     ]
    },
    {
     "name": "stdout",
     "output_type": "stream",
     "text": [
      "Time to: Calculate Ground State - 1.6s, Get Pauli Ops - 8.06s, Calculate Pauli Expectation Values - 8.93s, Calculate Covariance - 2.77s\n",
      "f0,f1,f2 = [2.3113447874767547e-10, 2.3113447873666955e-10, 2.3113447870492954e-10]\n",
      "d01,d02,d12 = [0.9213243219025029, 0.9213243219028122, 0.9213243219017585]\n"
     ]
    },
    {
     "name": "stderr",
     "output_type": "stream",
     "text": [
      "Progress:  48%|████▊     | 97/200 [34:55<40:23, 23.53s/it]"
     ]
    },
    {
     "name": "stdout",
     "output_type": "stream",
     "text": [
      "Time to: Calculate Ground State - 1.68s, Get Pauli Ops - 10.04s, Calculate Pauli Expectation Values - 11.74s, Calculate Covariance - 3.05s\n",
      "f0,f1,f2 = [1.5297594399700057e-08, 1.5297594399759468e-08, 1.529759439975116e-08]\n",
      "d01,d02,d12 = [0.9253525333394328, 0.9253525333398552, 0.9253525333386063]\n"
     ]
    },
    {
     "name": "stderr",
     "output_type": "stream",
     "text": [
      "Progress:  49%|████▉     | 98/200 [35:16<38:40, 22.75s/it]"
     ]
    },
    {
     "name": "stdout",
     "output_type": "stream",
     "text": [
      "Time to: Calculate Ground State - 1.47s, Get Pauli Ops - 6.92s, Calculate Pauli Expectation Values - 9.57s, Calculate Covariance - 2.96s\n",
      "f0,f1,f2 = [1.1348890691140998e-08, 1.1348890691174007e-08, 1.1348890691212956e-08]\n",
      "d01,d02,d12 = [0.9340459803017562, 0.9340459803023027, 0.9340459803008551]\n"
     ]
    },
    {
     "name": "stderr",
     "output_type": "stream",
     "text": [
      "/cluster/home/mskrabulis/miniconda3/envs/quantech/lib/python3.9/site-packages/pyscf/symm/Dmatrix.py:156: RuntimeWarning: invalid value encountered in arccos\n",
      "  gamma = numpy.arccos(yp.dot(c2[1]))\n",
      "Progress:  50%|████▉     | 99/200 [35:38<37:52, 22.50s/it]"
     ]
    },
    {
     "name": "stdout",
     "output_type": "stream",
     "text": [
      "Time to: Calculate Ground State - 1.48s, Get Pauli Ops - 7.03s, Calculate Pauli Expectation Values - 10.87s, Calculate Covariance - 2.52s\n",
      "f0,f1,f2 = [7.489651908145804e-10, 7.48965190762214e-10, 7.489651908369867e-10]\n",
      "d01,d02,d12 = [0.9423360743014484, 0.942336074302107, 0.9423360743004771]\n"
     ]
    },
    {
     "name": "stderr",
     "output_type": "stream",
     "text": [
      "Progress:  50%|█████     | 100/200 [36:00<37:28, 22.48s/it]"
     ]
    },
    {
     "name": "stdout",
     "output_type": "stream",
     "text": [
      "Time to: Calculate Ground State - 1.53s, Get Pauli Ops - 7.02s, Calculate Pauli Expectation Values - 11.46s, Calculate Covariance - 2.4s\n",
      "f0,f1,f2 = [3.2538604465149867e-09, 3.2538604464094368e-09, 3.2538604464565844e-09]\n",
      "d01,d02,d12 = [0.9491880434232463, 0.9491880434240043, 0.9491880434222496]\n"
     ]
    },
    {
     "name": "stderr",
     "output_type": "stream",
     "text": [
      "Progress:  50%|█████     | 101/200 [36:23<37:01, 22.44s/it]"
     ]
    },
    {
     "name": "stdout",
     "output_type": "stream",
     "text": [
      "Time to: Calculate Ground State - 0.96s, Get Pauli Ops - 6.65s, Calculate Pauli Expectation Values - 11.62s, Calculate Covariance - 3.1s\n",
      "f0,f1,f2 = [2.87044255296456e-09, 2.870442552904459e-09, 2.8704425528640925e-09]\n",
      "d01,d02,d12 = [0.957158003729279, 0.9571580037301266, 0.9571580037282363]\n"
     ]
    },
    {
     "name": "stderr",
     "output_type": "stream",
     "text": [
      "/cluster/home/mskrabulis/miniconda3/envs/quantech/lib/python3.9/site-packages/pyscf/symm/Dmatrix.py:156: RuntimeWarning: invalid value encountered in arccos\n",
      "  gamma = numpy.arccos(yp.dot(c2[1]))\n",
      "Progress:  51%|█████     | 102/200 [36:47<37:31, 22.98s/it]"
     ]
    },
    {
     "name": "stdout",
     "output_type": "stream",
     "text": [
      "Time to: Calculate Ground State - 1.59s, Get Pauli Ops - 9.44s, Calculate Pauli Expectation Values - 10.12s, Calculate Covariance - 3.06s\n",
      "f0,f1,f2 = [1.6392103101036601e-09, 1.6392103100970776e-09, 1.6392103101645613e-09]\n",
      "d01,d02,d12 = [0.964363261684064, 0.9643632616849822, 0.9643632616829737]\n"
     ]
    },
    {
     "name": "stderr",
     "output_type": "stream",
     "text": [
      "/cluster/home/mskrabulis/miniconda3/envs/quantech/lib/python3.9/site-packages/pyscf/symm/Dmatrix.py:156: RuntimeWarning: invalid value encountered in arccos\n",
      "  gamma = numpy.arccos(yp.dot(c2[1]))\n",
      "Progress:  52%|█████▏    | 103/200 [37:10<37:01, 22.91s/it]"
     ]
    },
    {
     "name": "stdout",
     "output_type": "stream",
     "text": [
      "Time to: Calculate Ground State - 1.53s, Get Pauli Ops - 9.48s, Calculate Pauli Expectation Values - 9.28s, Calculate Covariance - 2.43s\n",
      "f0,f1,f2 = [5.90068521291148e-09, 5.900685212937946e-09, 5.9006852129251586e-09]\n",
      "d01,d02,d12 = [0.9739400113843637, 0.973940011385349, 0.9739400113832337]\n"
     ]
    },
    {
     "name": "stderr",
     "output_type": "stream",
     "text": [
      "Progress:  52%|█████▏    | 104/200 [37:30<35:27, 22.17s/it]"
     ]
    },
    {
     "name": "stdout",
     "output_type": "stream",
     "text": [
      "Time to: Calculate Ground State - 1.54s, Get Pauli Ops - 7.11s, Calculate Pauli Expectation Values - 8.76s, Calculate Covariance - 3.02s\n",
      "f0,f1,f2 = [6.500515552826761e-09, 6.500515552772127e-09, 6.50051555280201e-09]\n",
      "d01,d02,d12 = [0.9807183569859698, 0.9807183569869989, 0.9807183569848273]\n"
     ]
    },
    {
     "name": "stderr",
     "output_type": "stream",
     "text": [
      "Progress:  52%|█████▎    | 105/200 [37:49<33:24, 21.10s/it]"
     ]
    },
    {
     "name": "stdout",
     "output_type": "stream",
     "text": [
      "Time to: Calculate Ground State - 1.57s, Get Pauli Ops - 5.99s, Calculate Pauli Expectation Values - 8.74s, Calculate Covariance - 2.28s\n",
      "f0,f1,f2 = [1.9581068214770896e-10, 1.9581068211791148e-10, 1.9581068216715783e-10]\n",
      "d01,d02,d12 = [0.9873435917535693, 0.9873435917546285, 0.9873435917524187]\n"
     ]
    },
    {
     "name": "stderr",
     "output_type": "stream",
     "text": [
      "Progress:  53%|█████▎    | 106/200 [38:11<33:23, 21.31s/it]"
     ]
    },
    {
     "name": "stdout",
     "output_type": "stream",
     "text": [
      "Time to: Calculate Ground State - 1.57s, Get Pauli Ops - 8.14s, Calculate Pauli Expectation Values - 9.05s, Calculate Covariance - 3.04s\n",
      "f0,f1,f2 = [2.599800716343864e-09, 2.599800716290385e-09, 2.599800716290666e-09]\n",
      "d01,d02,d12 = [0.9928200291395866, 0.9928200291406546, 0.9928200291384461]\n"
     ]
    },
    {
     "name": "stderr",
     "output_type": "stream",
     "text": [
      "Progress:  54%|█████▎    | 107/200 [38:31<32:24, 20.91s/it]"
     ]
    },
    {
     "name": "stdout",
     "output_type": "stream",
     "text": [
      "Time to: Calculate Ground State - 1.31s, Get Pauli Ops - 6.93s, Calculate Pauli Expectation Values - 9.03s, Calculate Covariance - 2.68s\n",
      "f0,f1,f2 = [1.378469725642446e-08, 1.3784697256475986e-08, 1.3784697256422124e-08]\n",
      "d01,d02,d12 = [1.0039571669174578, 1.0039571669185419, 1.0039571669163152]\n"
     ]
    },
    {
     "name": "stderr",
     "output_type": "stream",
     "text": [
      "Progress:  54%|█████▍    | 108/200 [38:50<31:21, 20.45s/it]"
     ]
    },
    {
     "name": "stdout",
     "output_type": "stream",
     "text": [
      "Time to: Calculate Ground State - 1.46s, Get Pauli Ops - 6.47s, Calculate Pauli Expectation Values - 8.94s, Calculate Covariance - 2.5s\n",
      "f0,f1,f2 = [1.4247851232996201e-09, 1.4247851233539636e-09, 1.424785123321431e-09]\n",
      "d01,d02,d12 = [1.0155673316669906, 1.015567331668078, 1.0155673316658504]\n"
     ]
    },
    {
     "name": "stderr",
     "output_type": "stream",
     "text": [
      "/cluster/home/mskrabulis/miniconda3/envs/quantech/lib/python3.9/site-packages/pyscf/symm/Dmatrix.py:156: RuntimeWarning: invalid value encountered in arccos\n",
      "  gamma = numpy.arccos(yp.dot(c2[1]))\n",
      "Progress:  55%|█████▍    | 109/200 [39:11<31:11, 20.56s/it]"
     ]
    },
    {
     "name": "stdout",
     "output_type": "stream",
     "text": [
      "Time to: Calculate Ground State - 1.48s, Get Pauli Ops - 6.28s, Calculate Pauli Expectation Values - 9.96s, Calculate Covariance - 3.09s\n",
      "f0,f1,f2 = [1.7752982016055933e-10, 1.7752982009610973e-10, 1.775298201137327e-10]\n",
      "d01,d02,d12 = [1.0269807285824375, 1.0269807285835162, 1.0269807285813182]\n"
     ]
    },
    {
     "name": "stderr",
     "output_type": "stream",
     "text": [
      "/cluster/home/mskrabulis/miniconda3/envs/quantech/lib/python3.9/site-packages/pyscf/symm/Dmatrix.py:156: RuntimeWarning: invalid value encountered in arccos\n",
      "  gamma = numpy.arccos(yp.dot(c2[1]))\n",
      "Progress:  55%|█████▌    | 110/200 [39:33<31:44, 21.16s/it]"
     ]
    },
    {
     "name": "stdout",
     "output_type": "stream",
     "text": [
      "Time to: Calculate Ground State - 1.58s, Get Pauli Ops - 9.32s, Calculate Pauli Expectation Values - 9.3s, Calculate Covariance - 2.34s\n",
      "f0,f1,f2 = [3.23285519887307e-10, 3.23285519825878e-10, 3.2328551982352073e-10]\n",
      "d01,d02,d12 = [1.0381389033614354, 1.038138903362498, 1.0381389033603616]\n"
     ]
    },
    {
     "name": "stderr",
     "output_type": "stream",
     "text": [
      "Progress:  56%|█████▌    | 111/200 [39:55<31:46, 21.42s/it]"
     ]
    },
    {
     "name": "stdout",
     "output_type": "stream",
     "text": [
      "Time to: Calculate Ground State - 1.52s, Get Pauli Ops - 8.35s, Calculate Pauli Expectation Values - 9.05s, Calculate Covariance - 3.1s\n",
      "f0,f1,f2 = [5.367460878570715e-09, 5.367460878560664e-09, 5.367460878533846e-09]\n",
      "d01,d02,d12 = [1.0469518275791194, 1.0469518275801717, 1.0469518275781107]\n"
     ]
    },
    {
     "name": "stderr",
     "output_type": "stream",
     "text": [
      "/cluster/home/mskrabulis/miniconda3/envs/quantech/lib/python3.9/site-packages/pyscf/symm/Dmatrix.py:156: RuntimeWarning: invalid value encountered in arccos\n",
      "  gamma = numpy.arccos(yp.dot(c2[1]))\n",
      "Progress:  56%|█████▌    | 112/200 [40:19<32:22, 22.08s/it]"
     ]
    },
    {
     "name": "stdout",
     "output_type": "stream",
     "text": [
      "Time to: Calculate Ground State - 1.55s, Get Pauli Ops - 6.95s, Calculate Pauli Expectation Values - 12.04s, Calculate Covariance - 3.08s\n",
      "f0,f1,f2 = [3.1539151271636248e-09, 3.1539151272095354e-09, 3.153915127218025e-09]\n",
      "d01,d02,d12 = [1.05697952965819, 1.0569795296592273, 1.0569795296572602]\n"
     ]
    },
    {
     "name": "stderr",
     "output_type": "stream",
     "text": [
      "Progress:  56%|█████▋    | 113/200 [40:41<32:03, 22.11s/it]"
     ]
    },
    {
     "name": "stdout",
     "output_type": "stream",
     "text": [
      "Time to: Calculate Ground State - 1.12s, Get Pauli Ops - 6.19s, Calculate Pauli Expectation Values - 11.86s, Calculate Covariance - 3.01s\n",
      "f0,f1,f2 = [8.198909186596993e-09, 8.198909186646814e-09, 8.198909186649676e-09]\n",
      "d01,d02,d12 = [1.0634991239588873, 1.0634991239599114, 1.0634991239580456]\n"
     ]
    },
    {
     "name": "stderr",
     "output_type": "stream",
     "text": [
      "Progress:  57%|█████▋    | 114/200 [41:04<32:12, 22.47s/it]"
     ]
    },
    {
     "name": "stdout",
     "output_type": "stream",
     "text": [
      "Time to: Calculate Ground State - 1.58s, Get Pauli Ops - 6.42s, Calculate Pauli Expectation Values - 12.68s, Calculate Covariance - 2.61s\n",
      "f0,f1,f2 = [5.826098696651459e-11, 5.826098696676017e-11, 5.826098700888402e-11]\n",
      "d01,d02,d12 = [1.0699251297813253, 1.0699251297823302, 1.0699251297805663]\n"
     ]
    },
    {
     "name": "stderr",
     "output_type": "stream",
     "text": [
      "/cluster/home/mskrabulis/miniconda3/envs/quantech/lib/python3.9/site-packages/pyscf/symm/Dmatrix.py:156: RuntimeWarning: invalid value encountered in arccos\n",
      "  gamma = numpy.arccos(yp.dot(c2[1]))\n",
      "Progress:  57%|█████▊    | 115/200 [41:25<30:51, 21.78s/it]"
     ]
    },
    {
     "name": "stdout",
     "output_type": "stream",
     "text": [
      "Time to: Calculate Ground State - 1.62s, Get Pauli Ops - 6.83s, Calculate Pauli Expectation Values - 8.67s, Calculate Covariance - 3.03s\n",
      "f0,f1,f2 = [3.4291063338618804e-09, 3.429106333837273e-09, 3.429106333831684e-09]\n",
      "d01,d02,d12 = [1.074860050161214, 1.074860050162202, 1.0748600501605519]\n"
     ]
    },
    {
     "name": "stderr",
     "output_type": "stream",
     "text": [
      "Progress:  58%|█████▊    | 116/200 [41:47<30:40, 21.91s/it]"
     ]
    },
    {
     "name": "stdout",
     "output_type": "stream",
     "text": [
      "Time to: Calculate Ground State - 1.54s, Get Pauli Ops - 9.14s, Calculate Pauli Expectation Values - 8.67s, Calculate Covariance - 2.85s\n",
      "f0,f1,f2 = [3.1243541445056058e-09, 3.124354144559185e-09, 3.1243541445590503e-09]\n",
      "d01,d02,d12 = [1.08103852418272, 1.0810385241836868, 1.0810385241821594]\n"
     ]
    },
    {
     "name": "stderr",
     "output_type": "stream",
     "text": [
      "Progress:  58%|█████▊    | 117/200 [42:04<28:32, 20.63s/it]"
     ]
    },
    {
     "name": "stdout",
     "output_type": "stream",
     "text": [
      "Time to: Calculate Ground State - 0.87s, Get Pauli Ops - 6.59s, Calculate Pauli Expectation Values - 7.99s, Calculate Covariance - 2.19s\n",
      "f0,f1,f2 = [9.867333101210774e-09, 9.86733310124652e-09, 9.867333101161274e-09]\n",
      "d01,d02,d12 = [1.0830574697575555, 1.0830574697585114, 1.0830574697571125]\n"
     ]
    },
    {
     "name": "stderr",
     "output_type": "stream",
     "text": [
      "/cluster/home/mskrabulis/miniconda3/envs/quantech/lib/python3.9/site-packages/pyscf/symm/Dmatrix.py:156: RuntimeWarning: invalid value encountered in arccos\n",
      "  gamma = numpy.arccos(yp.dot(c2[1]))\n",
      "Progress:  59%|█████▉    | 118/200 [42:26<28:32, 20.88s/it]"
     ]
    },
    {
     "name": "stdout",
     "output_type": "stream",
     "text": [
      "Time to: Calculate Ground State - 0.93s, Get Pauli Ops - 6.09s, Calculate Pauli Expectation Values - 11.4s, Calculate Covariance - 3.04s\n",
      "f0,f1,f2 = [3.766272586654186e-09, 3.7662725866935116e-09, 3.766272586620356e-09]\n",
      "d01,d02,d12 = [1.0834923757368455, 1.0834923757378048, 1.0834923757365313]\n"
     ]
    },
    {
     "name": "stderr",
     "output_type": "stream",
     "text": [
      "Progress:  60%|█████▉    | 119/200 [42:45<27:22, 20.28s/it]"
     ]
    },
    {
     "name": "stdout",
     "output_type": "stream",
     "text": [
      "Time to: Calculate Ground State - 1.57s, Get Pauli Ops - 6.89s, Calculate Pauli Expectation Values - 8.52s, Calculate Covariance - 1.89s\n",
      "f0,f1,f2 = [8.453192415535519e-09, 8.453192415537099e-09, 8.453192415521343e-09]\n",
      "d01,d02,d12 = [1.0804157260470861, 1.0804157260480487, 1.080415726046908]\n"
     ]
    },
    {
     "name": "stderr",
     "output_type": "stream",
     "text": [
      "Progress:  60%|██████    | 120/200 [43:05<26:48, 20.11s/it]"
     ]
    },
    {
     "name": "stdout",
     "output_type": "stream",
     "text": [
      "Time to: Calculate Ground State - 1.45s, Get Pauli Ops - 6.74s, Calculate Pauli Expectation Values - 8.71s, Calculate Covariance - 2.8s\n",
      "f0,f1,f2 = [8.014533587359537e-09, 8.014533587378778e-09, 8.014533587384297e-09]\n",
      "d01,d02,d12 = [1.080696839349347, 1.0806968393503233, 1.0806968393493208]\n"
     ]
    },
    {
     "name": "stderr",
     "output_type": "stream",
     "text": [
      "/cluster/home/mskrabulis/miniconda3/envs/quantech/lib/python3.9/site-packages/pyscf/symm/Dmatrix.py:156: RuntimeWarning: invalid value encountered in arccos\n",
      "  gamma = numpy.arccos(yp.dot(c2[1]))\n",
      "/cluster/home/mskrabulis/miniconda3/envs/quantech/lib/python3.9/site-packages/pyscf/symm/Dmatrix.py:156: RuntimeWarning: invalid value encountered in arccos\n",
      "  gamma = numpy.arccos(yp.dot(c2[1]))\n",
      "Progress:  60%|██████    | 121/200 [43:26<27:10, 20.64s/it]"
     ]
    },
    {
     "name": "stdout",
     "output_type": "stream",
     "text": [
      "Time to: Calculate Ground State - 1.6s, Get Pauli Ops - 9.6s, Calculate Pauli Expectation Values - 8.13s, Calculate Covariance - 2.53s\n",
      "f0,f1,f2 = [7.2014834101575675e-09, 7.201483410151012e-09, 7.201483410156609e-09]\n",
      "d01,d02,d12 = [1.0779873273122615, 1.0779873273132452, 1.0779873273123906]\n"
     ]
    },
    {
     "name": "stderr",
     "output_type": "stream",
     "text": [
      "/cluster/home/mskrabulis/miniconda3/envs/quantech/lib/python3.9/site-packages/pyscf/symm/Dmatrix.py:156: RuntimeWarning: invalid value encountered in arccos\n",
      "  gamma = numpy.arccos(yp.dot(c2[1]))\n",
      "/cluster/home/mskrabulis/miniconda3/envs/quantech/lib/python3.9/site-packages/pyscf/symm/Dmatrix.py:156: RuntimeWarning: invalid value encountered in arccos\n",
      "  gamma = numpy.arccos(yp.dot(c2[1]))\n",
      "Progress:  61%|██████    | 122/200 [43:53<28:59, 22.30s/it]"
     ]
    },
    {
     "name": "stdout",
     "output_type": "stream",
     "text": [
      "Time to: Calculate Ground State - 1.72s, Get Pauli Ops - 6.47s, Calculate Pauli Expectation Values - 15.03s, Calculate Covariance - 2.96s\n",
      "f0,f1,f2 = [9.821491185293663e-10, 9.8214911846449e-10, 9.821491184932243e-10]\n",
      "d01,d02,d12 = [1.0757141777304524, 1.075714177731466, 1.0757141777307357]\n"
     ]
    },
    {
     "name": "stderr",
     "output_type": "stream",
     "text": [
      "Progress:  62%|██████▏   | 123/200 [44:12<27:21, 21.32s/it]"
     ]
    },
    {
     "name": "stdout",
     "output_type": "stream",
     "text": [
      "Time to: Calculate Ground State - 1.59s, Get Pauli Ops - 6.18s, Calculate Pauli Expectation Values - 8.37s, Calculate Covariance - 2.88s\n",
      "f0,f1,f2 = [2.9640682308618885e-09, 2.9640682308601465e-09, 2.964068230869411e-09]\n",
      "d01,d02,d12 = [1.072235590170984, 1.072235590172019, 1.0722355901714204]\n"
     ]
    },
    {
     "name": "stderr",
     "output_type": "stream",
     "text": [
      "Progress:  62%|██████▏   | 124/200 [44:35<27:57, 22.07s/it]"
     ]
    },
    {
     "name": "stdout",
     "output_type": "stream",
     "text": [
      "Time to: Calculate Ground State - 1.59s, Get Pauli Ops - 6.4s, Calculate Pauli Expectation Values - 12.86s, Calculate Covariance - 2.96s\n",
      "f0,f1,f2 = [4.530170649145177e-10, 4.530170649620832e-10, 4.5301706495777404e-10]\n",
      "d01,d02,d12 = [1.0689820230399365, 1.0689820230409852, 1.0689820230405278]\n"
     ]
    },
    {
     "name": "stderr",
     "output_type": "stream",
     "text": [
      "Progress:  62%|██████▎   | 125/200 [44:55<26:38, 21.32s/it]"
     ]
    },
    {
     "name": "stdout",
     "output_type": "stream",
     "text": [
      "Time to: Calculate Ground State - 1.63s, Get Pauli Ops - 6.95s, Calculate Pauli Expectation Values - 8.71s, Calculate Covariance - 2.27s\n",
      "f0,f1,f2 = [8.043010618456732e-09, 8.043010618459033e-09, 8.043010618461908e-09]\n",
      "d01,d02,d12 = [1.069099866097214, 1.069099866098294, 1.0690998660979731]\n"
     ]
    },
    {
     "name": "stderr",
     "output_type": "stream",
     "text": [
      "Progress:  63%|██████▎   | 126/200 [45:15<25:44, 20.87s/it]"
     ]
    },
    {
     "name": "stdout",
     "output_type": "stream",
     "text": [
      "Time to: Calculate Ground State - 1.58s, Get Pauli Ops - 6.84s, Calculate Pauli Expectation Values - 8.61s, Calculate Covariance - 2.79s\n",
      "f0,f1,f2 = [4.383881573455042e-09, 4.383881573476439e-09, 4.383881573433328e-09]\n",
      "d01,d02,d12 = [1.071035161444008, 1.0710351614451046, 1.0710351614449274]\n"
     ]
    },
    {
     "name": "stderr",
     "output_type": "stream",
     "text": [
      "Progress:  64%|██████▎   | 127/200 [45:34<24:48, 20.39s/it]"
     ]
    },
    {
     "name": "stdout",
     "output_type": "stream",
     "text": [
      "Time to: Calculate Ground State - 1.61s, Get Pauli Ops - 6.75s, Calculate Pauli Expectation Values - 8.48s, Calculate Covariance - 2.41s\n",
      "f0,f1,f2 = [5.456435008499869e-10, 5.456435008712577e-10, 5.456435009709338e-10]\n",
      "d01,d02,d12 = [1.0731761974928005, 1.073176197493939, 1.0731761974938927]\n"
     ]
    },
    {
     "name": "stderr",
     "output_type": "stream",
     "text": [
      "Progress:  64%|██████▍   | 128/200 [45:55<24:33, 20.47s/it]"
     ]
    },
    {
     "name": "stdout",
     "output_type": "stream",
     "text": [
      "Time to: Calculate Ground State - 1.61s, Get Pauli Ops - 7.33s, Calculate Pauli Expectation Values - 8.8s, Calculate Covariance - 2.91s\n",
      "f0,f1,f2 = [3.710153535307821e-09, 3.71015353536389e-09, 3.7101535353281345e-09]\n",
      "d01,d02,d12 = [1.0768336113375074, 1.0768336113386723, 1.0768336113387722]\n"
     ]
    },
    {
     "name": "stderr",
     "output_type": "stream",
     "text": [
      "/cluster/home/mskrabulis/miniconda3/envs/quantech/lib/python3.9/site-packages/pyscf/symm/Dmatrix.py:156: RuntimeWarning: invalid value encountered in arccos\n",
      "  gamma = numpy.arccos(yp.dot(c2[1]))\n",
      "Progress:  64%|██████▍   | 129/200 [46:15<24:08, 20.39s/it]"
     ]
    },
    {
     "name": "stdout",
     "output_type": "stream",
     "text": [
      "Time to: Calculate Ground State - 1.57s, Get Pauli Ops - 7.41s, Calculate Pauli Expectation Values - 8.83s, Calculate Covariance - 2.4s\n",
      "f0,f1,f2 = [6.166826780945663e-09, 6.166826780949916e-09, 6.16682678094553e-09]\n",
      "d01,d02,d12 = [1.0778936285504983, 1.0778936285516791, 1.077893628551927]\n"
     ]
    },
    {
     "name": "stderr",
     "output_type": "stream",
     "text": [
      "Progress:  65%|██████▌   | 130/200 [46:36<23:55, 20.51s/it]"
     ]
    },
    {
     "name": "stdout",
     "output_type": "stream",
     "text": [
      "Time to: Calculate Ground State - 1.61s, Get Pauli Ops - 7.89s, Calculate Pauli Expectation Values - 8.7s, Calculate Covariance - 2.57s\n",
      "f0,f1,f2 = [8.959136332254136e-09, 8.95913633223418e-09, 8.959136332256335e-09]\n",
      "d01,d02,d12 = [1.0752255279930063, 1.075225527994185, 1.0752255279945917]\n"
     ]
    },
    {
     "name": "stderr",
     "output_type": "stream",
     "text": [
      "/cluster/home/mskrabulis/miniconda3/envs/quantech/lib/python3.9/site-packages/pyscf/symm/Dmatrix.py:156: RuntimeWarning: invalid value encountered in arccos\n",
      "  gamma = numpy.arccos(yp.dot(c2[1]))\n",
      "/cluster/home/mskrabulis/miniconda3/envs/quantech/lib/python3.9/site-packages/pyscf/symm/Dmatrix.py:156: RuntimeWarning: invalid value encountered in arccos\n",
      "  gamma = numpy.arccos(yp.dot(c2[1]))\n",
      "Progress:  66%|██████▌   | 131/200 [46:59<24:34, 21.36s/it]"
     ]
    },
    {
     "name": "stdout",
     "output_type": "stream",
     "text": [
      "Time to: Calculate Ground State - 1.54s, Get Pauli Ops - 6.98s, Calculate Pauli Expectation Values - 11.75s, Calculate Covariance - 3.07s\n",
      "f0,f1,f2 = [1.972204971531199e-09, 1.9722049715452394e-09, 1.972204971497764e-09]\n",
      "d01,d02,d12 = [1.073404074111986, 1.0734040741131459, 1.0734040741137096]\n"
     ]
    },
    {
     "name": "stderr",
     "output_type": "stream",
     "text": [
      "/cluster/home/mskrabulis/miniconda3/envs/quantech/lib/python3.9/site-packages/pyscf/symm/Dmatrix.py:156: RuntimeWarning: invalid value encountered in arccos\n",
      "  gamma = numpy.arccos(yp.dot(c2[1]))\n",
      "Progress:  66%|██████▌   | 132/200 [47:19<23:39, 20.87s/it]"
     ]
    },
    {
     "name": "stdout",
     "output_type": "stream",
     "text": [
      "Time to: Calculate Ground State - 1.52s, Get Pauli Ops - 6.43s, Calculate Pauli Expectation Values - 8.69s, Calculate Covariance - 3.07s\n",
      "f0,f1,f2 = [3.0353735931520976e-09, 3.0353735931875902e-09, 3.0353735931389e-09]\n",
      "d01,d02,d12 = [1.0703427769031197, 1.0703427769042826, 1.0703427769049891]\n"
     ]
    },
    {
     "name": "stderr",
     "output_type": "stream",
     "text": [
      "Progress:  66%|██████▋   | 133/200 [47:39<23:02, 20.63s/it]"
     ]
    },
    {
     "name": "stdout",
     "output_type": "stream",
     "text": [
      "Time to: Calculate Ground State - 1.57s, Get Pauli Ops - 6.91s, Calculate Pauli Expectation Values - 8.8s, Calculate Covariance - 2.78s\n",
      "f0,f1,f2 = [8.376007800013144e-10, 8.376007799766261e-10, 8.376007799992499e-10]\n",
      "d01,d02,d12 = [1.0669666147565566, 1.0669666147577195, 1.0669666147585715]\n"
     ]
    },
    {
     "name": "stderr",
     "output_type": "stream",
     "text": [
      "/cluster/home/mskrabulis/miniconda3/envs/quantech/lib/python3.9/site-packages/pyscf/symm/Dmatrix.py:156: RuntimeWarning: invalid value encountered in arccos\n",
      "  gamma = numpy.arccos(yp.dot(c2[1]))\n",
      "Progress:  67%|██████▋   | 134/200 [47:58<22:19, 20.29s/it]"
     ]
    },
    {
     "name": "stdout",
     "output_type": "stream",
     "text": [
      "Time to: Calculate Ground State - 1.31s, Get Pauli Ops - 6.32s, Calculate Pauli Expectation Values - 8.8s, Calculate Covariance - 3.06s\n",
      "f0,f1,f2 = [1.762185755594244e-08, 1.7621857555976784e-08, 1.7621857556028907e-08]\n",
      "d01,d02,d12 = [1.0563157690632639, 1.0563157690643958, 1.0563157690653697]\n"
     ]
    },
    {
     "name": "stderr",
     "output_type": "stream",
     "text": [
      "/cluster/home/mskrabulis/miniconda3/envs/quantech/lib/python3.9/site-packages/pyscf/symm/Dmatrix.py:156: RuntimeWarning: invalid value encountered in arccos\n",
      "  gamma = numpy.arccos(yp.dot(c2[1]))\n",
      "Progress:  68%|██████▊   | 135/200 [48:19<21:56, 20.25s/it]"
     ]
    },
    {
     "name": "stdout",
     "output_type": "stream",
     "text": [
      "Time to: Calculate Ground State - 1.61s, Get Pauli Ops - 6.98s, Calculate Pauli Expectation Values - 9.03s, Calculate Covariance - 2.53s\n",
      "f0,f1,f2 = [6.860220136927029e-09, 6.860220136984998e-09, 6.860220136931337e-09]\n",
      "d01,d02,d12 = [1.0429321847423625, 1.0429321847434678, 1.0429321847445472]\n"
     ]
    },
    {
     "name": "stderr",
     "output_type": "stream",
     "text": [
      "/cluster/home/mskrabulis/miniconda3/envs/quantech/lib/python3.9/site-packages/pyscf/symm/Dmatrix.py:156: RuntimeWarning: invalid value encountered in arccos\n",
      "  gamma = numpy.arccos(yp.dot(c2[1]))\n",
      "Progress:  68%|██████▊   | 136/200 [48:41<22:19, 20.92s/it]"
     ]
    },
    {
     "name": "stdout",
     "output_type": "stream",
     "text": [
      "Time to: Calculate Ground State - 1.42s, Get Pauli Ops - 8.78s, Calculate Pauli Expectation Values - 9.51s, Calculate Covariance - 2.77s\n",
      "f0,f1,f2 = [3.885938130867468e-09, 3.885938130893301e-09, 3.885938130903783e-09]\n",
      "d01,d02,d12 = [1.028078655532744, 1.028078655533819, 1.0280786555349852]\n"
     ]
    },
    {
     "name": "stderr",
     "output_type": "stream",
     "text": [
      "Progress:  68%|██████▊   | 137/200 [49:00<21:18, 20.30s/it]"
     ]
    },
    {
     "name": "stdout",
     "output_type": "stream",
     "text": [
      "Time to: Calculate Ground State - 1.47s, Get Pauli Ops - 6.08s, Calculate Pauli Expectation Values - 8.7s, Calculate Covariance - 2.58s\n",
      "f0,f1,f2 = [1.0705253242592539e-08, 1.0705253242581195e-08, 1.0705253242606939e-08]\n",
      "d01,d02,d12 = [1.0089415347526267, 1.0089415347536383, 1.00894153475489]\n"
     ]
    },
    {
     "name": "stderr",
     "output_type": "stream",
     "text": [
      "Progress:  69%|██████▉   | 138/200 [49:24<22:08, 21.43s/it]"
     ]
    },
    {
     "name": "stdout",
     "output_type": "stream",
     "text": [
      "Time to: Calculate Ground State - 1.5s, Get Pauli Ops - 7.04s, Calculate Pauli Expectation Values - 12.43s, Calculate Covariance - 3.09s\n",
      "f0,f1,f2 = [4.9011616073653615e-09, 4.901161607361264e-09, 4.901161607402271e-09]\n",
      "d01,d02,d12 = [0.9879739965528079, 0.9879739965537411, 0.9879739965550616]\n"
     ]
    },
    {
     "name": "stderr",
     "output_type": "stream",
     "text": [
      "/cluster/home/mskrabulis/miniconda3/envs/quantech/lib/python3.9/site-packages/pyscf/symm/Dmatrix.py:156: RuntimeWarning: invalid value encountered in arccos\n",
      "  gamma = numpy.arccos(yp.dot(c2[1]))\n",
      "Progress:  70%|██████▉   | 139/200 [49:50<23:05, 22.71s/it]"
     ]
    },
    {
     "name": "stdout",
     "output_type": "stream",
     "text": [
      "Time to: Calculate Ground State - 1.64s, Get Pauli Ops - 9.81s, Calculate Pauli Expectation Values - 11.11s, Calculate Covariance - 3.11s\n",
      "f0,f1,f2 = [2.973231952445255e-09, 2.973231952432617e-09, 2.9732319524054775e-09]\n",
      "d01,d02,d12 = [0.9659952609927308, 0.9659952609936013, 0.9659952609949815]\n"
     ]
    },
    {
     "name": "stderr",
     "output_type": "stream",
     "text": [
      "Progress:  70%|███████   | 140/200 [50:13<22:50, 22.84s/it]"
     ]
    },
    {
     "name": "stdout",
     "output_type": "stream",
     "text": [
      "Time to: Calculate Ground State - 1.55s, Get Pauli Ops - 9.0s, Calculate Pauli Expectation Values - 9.49s, Calculate Covariance - 3.08s\n",
      "f0,f1,f2 = [1.6367379754009035e-08, 1.636737975397496e-08, 1.6367379753913102e-08]\n",
      "d01,d02,d12 = [0.951040001599192, 0.9510400015999625, 0.9510400016014282]\n"
     ]
    },
    {
     "name": "stderr",
     "output_type": "stream",
     "text": [
      "Progress:  70%|███████   | 141/200 [50:34<21:59, 22.37s/it]"
     ]
    },
    {
     "name": "stdout",
     "output_type": "stream",
     "text": [
      "Time to: Calculate Ground State - 1.49s, Get Pauli Ops - 8.17s, Calculate Pauli Expectation Values - 9.09s, Calculate Covariance - 2.53s\n",
      "f0,f1,f2 = [3.288615645072869e-10, 3.2886156451252177e-10, 3.2886156452070186e-10]\n",
      "d01,d02,d12 = [0.9363801367197158, 0.9363801367203899, 0.9363801367219363]\n"
     ]
    },
    {
     "name": "stderr",
     "output_type": "stream",
     "text": [
      "Progress:  71%|███████   | 142/200 [50:56<21:23, 22.13s/it]"
     ]
    },
    {
     "name": "stdout",
     "output_type": "stream",
     "text": [
      "Time to: Calculate Ground State - 1.54s, Get Pauli Ops - 8.37s, Calculate Pauli Expectation Values - 8.94s, Calculate Covariance - 2.7s\n",
      "f0,f1,f2 = [1.3905636055803217e-10, 1.3905636054999857e-10, 1.390563605483111e-10]\n",
      "d01,d02,d12 = [0.9218187333195486, 0.9218187333201374, 0.9218187333217464]\n"
     ]
    },
    {
     "name": "stderr",
     "output_type": "stream",
     "text": [
      "Progress:  72%|███████▏  | 143/200 [51:20<21:42, 22.85s/it]"
     ]
    },
    {
     "name": "stdout",
     "output_type": "stream",
     "text": [
      "Time to: Calculate Ground State - 1.51s, Get Pauli Ops - 11.12s, Calculate Pauli Expectation Values - 8.81s, Calculate Covariance - 3.09s\n",
      "f0,f1,f2 = [5.961898910309114e-12, 5.961898830447588e-12, 5.961898778688798e-12]\n",
      "d01,d02,d12 = [0.9074153301369773, 0.9074153301374819, 0.9074153301391188]\n"
     ]
    },
    {
     "name": "stderr",
     "output_type": "stream",
     "text": [
      "/cluster/home/mskrabulis/miniconda3/envs/quantech/lib/python3.9/site-packages/pyscf/symm/Dmatrix.py:156: RuntimeWarning: invalid value encountered in arccos\n",
      "  gamma = numpy.arccos(yp.dot(c2[1]))\n",
      "/cluster/home/mskrabulis/miniconda3/envs/quantech/lib/python3.9/site-packages/pyscf/symm/Dmatrix.py:156: RuntimeWarning: invalid value encountered in arccos\n",
      "  gamma = numpy.arccos(yp.dot(c2[1]))\n",
      "Progress:  72%|███████▏  | 144/200 [51:44<21:39, 23.20s/it]"
     ]
    },
    {
     "name": "stdout",
     "output_type": "stream",
     "text": [
      "Time to: Calculate Ground State - 1.54s, Get Pauli Ops - 10.96s, Calculate Pauli Expectation Values - 9.1s, Calculate Covariance - 2.38s\n",
      "f0,f1,f2 = [1.1708928520798685e-09, 1.170892852012007e-09, 1.170892851977223e-09]\n",
      "d01,d02,d12 = [0.893652043269374, 0.8936520432698007, 0.8936520432714331]\n"
     ]
    },
    {
     "name": "stderr",
     "output_type": "stream",
     "text": [
      "/cluster/home/mskrabulis/miniconda3/envs/quantech/lib/python3.9/site-packages/pyscf/symm/Dmatrix.py:156: RuntimeWarning: invalid value encountered in arccos\n",
      "  gamma = numpy.arccos(yp.dot(c2[1]))\n",
      "Progress:  72%|███████▎  | 145/200 [52:10<22:03, 24.06s/it]"
     ]
    },
    {
     "name": "stdout",
     "output_type": "stream",
     "text": [
      "Time to: Calculate Ground State - 1.67s, Get Pauli Ops - 9.98s, Calculate Pauli Expectation Values - 11.32s, Calculate Covariance - 3.09s\n",
      "f0,f1,f2 = [1.9599436239062287e-09, 1.959943623916125e-09, 1.9599436238658147e-09]\n",
      "d01,d02,d12 = [0.8808499264355708, 0.8808499264359023, 0.8808499264375343]\n"
     ]
    },
    {
     "name": "stderr",
     "output_type": "stream",
     "text": [
      "Progress:  73%|███████▎  | 146/200 [52:33<21:10, 23.53s/it]"
     ]
    },
    {
     "name": "stdout",
     "output_type": "stream",
     "text": [
      "Time to: Calculate Ground State - 1.62s, Get Pauli Ops - 6.06s, Calculate Pauli Expectation Values - 11.55s, Calculate Covariance - 3.06s\n",
      "f0,f1,f2 = [5.09140661376645e-09, 5.091406613735363e-09, 5.091406613750802e-09]\n",
      "d01,d02,d12 = [0.8702983336365391, 0.8702983336367739, 0.870298333638391]\n"
     ]
    },
    {
     "name": "stderr",
     "output_type": "stream",
     "text": [
      "Progress:  74%|███████▎  | 147/200 [52:53<19:51, 22.47s/it]"
     ]
    },
    {
     "name": "stdout",
     "output_type": "stream",
     "text": [
      "Time to: Calculate Ground State - 1.58s, Get Pauli Ops - 6.54s, Calculate Pauli Expectation Values - 9.09s, Calculate Covariance - 2.78s\n",
      "f0,f1,f2 = [3.21841447241379e-09, 3.2184144723792975e-09, 3.2184144723934232e-09]\n",
      "d01,d02,d12 = [0.8585259540841303, 0.8585259540842682, 0.858525954085848]\n"
     ]
    },
    {
     "name": "stderr",
     "output_type": "stream",
     "text": [
      "Progress:  74%|███████▍  | 148/200 [53:14<19:15, 22.23s/it]"
     ]
    },
    {
     "name": "stdout",
     "output_type": "stream",
     "text": [
      "Time to: Calculate Ground State - 1.49s, Get Pauli Ops - 8.31s, Calculate Pauli Expectation Values - 8.76s, Calculate Covariance - 3.08s\n",
      "f0,f1,f2 = [1.3168735111675155e-08, 1.3168735111578008e-08, 1.316873511164334e-08]\n",
      "d01,d02,d12 = [0.8523450333692333, 0.8523450333692989, 0.8523450333708011]\n"
     ]
    },
    {
     "name": "stderr",
     "output_type": "stream",
     "text": [
      "Progress:  74%|███████▍  | 149/200 [53:37<18:57, 22.31s/it]"
     ]
    },
    {
     "name": "stdout",
     "output_type": "stream",
     "text": [
      "Time to: Calculate Ground State - 1.46s, Get Pauli Ops - 10.03s, Calculate Pauli Expectation Values - 8.85s, Calculate Covariance - 2.14s\n",
      "f0,f1,f2 = [4.646231152353679e-09, 4.646231152302733e-09, 4.646231152245517e-09]\n",
      "d01,d02,d12 = [0.8481591692815722, 0.8481591692815698, 0.8481591692829491]\n"
     ]
    },
    {
     "name": "stderr",
     "output_type": "stream",
     "text": [
      "Progress:  75%|███████▌  | 150/200 [53:59<18:40, 22.41s/it]"
     ]
    },
    {
     "name": "stdout",
     "output_type": "stream",
     "text": [
      "Time to: Calculate Ground State - 1.61s, Get Pauli Ops - 8.94s, Calculate Pauli Expectation Values - 9.5s, Calculate Covariance - 2.59s\n",
      "f0,f1,f2 = [5.529258861448059e-09, 5.529258861493142e-09, 5.529258861487117e-09]\n",
      "d01,d02,d12 = [0.8463129905094336, 0.8463129905093654, 0.8463129905106038]\n"
     ]
    },
    {
     "name": "stderr",
     "output_type": "stream",
     "text": [
      "/cluster/home/mskrabulis/miniconda3/envs/quantech/lib/python3.9/site-packages/pyscf/symm/Dmatrix.py:156: RuntimeWarning: invalid value encountered in arccos\n",
      "  gamma = numpy.arccos(yp.dot(c2[1]))\n",
      "Progress:  76%|███████▌  | 151/200 [54:22<18:20, 22.46s/it]"
     ]
    },
    {
     "name": "stdout",
     "output_type": "stream",
     "text": [
      "Time to: Calculate Ground State - 1.37s, Get Pauli Ops - 8.89s, Calculate Pauli Expectation Values - 9.32s, Calculate Covariance - 2.98s\n",
      "f0,f1,f2 = [2.6516928912872244e-09, 2.6516928912299843e-09, 2.651692891243724e-09]\n",
      "d01,d02,d12 = [0.8455871179752242, 0.8455871179751029, 0.8455871179761668]\n"
     ]
    },
    {
     "name": "stderr",
     "output_type": "stream",
     "text": [
      "/cluster/home/mskrabulis/miniconda3/envs/quantech/lib/python3.9/site-packages/pyscf/symm/Dmatrix.py:156: RuntimeWarning: invalid value encountered in arccos\n",
      "  gamma = numpy.arccos(yp.dot(c2[1]))\n",
      "Progress:  76%|███████▌  | 152/200 [54:43<17:37, 22.03s/it]"
     ]
    },
    {
     "name": "stdout",
     "output_type": "stream",
     "text": [
      "Time to: Calculate Ground State - 1.51s, Get Pauli Ops - 7.82s, Calculate Pauli Expectation Values - 8.75s, Calculate Covariance - 2.94s\n",
      "f0,f1,f2 = [1.6723325778495893e-08, 1.6723325778441494e-08, 1.6723325778471825e-08]\n",
      "d01,d02,d12 = [0.8518070776489248, 0.8518070776487536, 0.8518070776496319]\n"
     ]
    },
    {
     "name": "stderr",
     "output_type": "stream",
     "text": [
      "/cluster/home/mskrabulis/miniconda3/envs/quantech/lib/python3.9/site-packages/pyscf/symm/Dmatrix.py:156: RuntimeWarning: invalid value encountered in arccos\n",
      "  gamma = numpy.arccos(yp.dot(c2[1]))\n",
      "Progress:  76%|███████▋  | 153/200 [55:04<17:06, 21.84s/it]"
     ]
    },
    {
     "name": "stdout",
     "output_type": "stream",
     "text": [
      "Time to: Calculate Ground State - 1.35s, Get Pauli Ops - 8.35s, Calculate Pauli Expectation Values - 8.75s, Calculate Covariance - 2.92s\n",
      "f0,f1,f2 = [2.465782106307229e-09, 2.465782106263348e-09, 2.4657821062974616e-09]\n",
      "d01,d02,d12 = [0.8589820458570235, 0.8589820458568145, 0.8589820458574859]\n"
     ]
    },
    {
     "name": "stderr",
     "output_type": "stream",
     "text": [
      "Progress:  77%|███████▋  | 154/200 [55:25<16:26, 21.44s/it]"
     ]
    },
    {
     "name": "stdout",
     "output_type": "stream",
     "text": [
      "Time to: Calculate Ground State - 1.48s, Get Pauli Ops - 8.63s, Calculate Pauli Expectation Values - 8.66s, Calculate Covariance - 1.72s\n",
      "f0,f1,f2 = [1.1742638573362961e-08, 1.1742638573351574e-08, 1.1742638573373357e-08]\n",
      "d01,d02,d12 = [0.8709504467666577, 0.8709504467664215, 0.8709504467668739]\n"
     ]
    },
    {
     "name": "stderr",
     "output_type": "stream",
     "text": [
      "Progress:  78%|███████▊  | 155/200 [55:49<16:38, 22.19s/it]"
     ]
    },
    {
     "name": "stdout",
     "output_type": "stream",
     "text": [
      "Time to: Calculate Ground State - 1.6s, Get Pauli Ops - 7.8s, Calculate Pauli Expectation Values - 11.6s, Calculate Covariance - 2.93s\n",
      "f0,f1,f2 = [7.64648913913283e-09, 7.646489139146016e-09, 7.646489139183339e-09]\n",
      "d01,d02,d12 = [0.885961345547033, 0.8859613455467948, 0.8859613455470146]\n"
     ]
    },
    {
     "name": "stderr",
     "output_type": "stream",
     "text": [
      "/cluster/home/mskrabulis/miniconda3/envs/quantech/lib/python3.9/site-packages/pyscf/symm/Dmatrix.py:156: RuntimeWarning: invalid value encountered in arccos\n",
      "  gamma = numpy.arccos(yp.dot(c2[1]))\n",
      "Progress:  78%|███████▊  | 156/200 [56:09<15:44, 21.47s/it]"
     ]
    },
    {
     "name": "stdout",
     "output_type": "stream",
     "text": [
      "Time to: Calculate Ground State - 1.54s, Get Pauli Ops - 6.39s, Calculate Pauli Expectation Values - 9.5s, Calculate Covariance - 2.35s\n",
      "f0,f1,f2 = [7.610798453880907e-09, 7.610798453840142e-09, 7.610798453852786e-09]\n",
      "d01,d02,d12 = [0.9039678054349636, 0.9039678054347416, 0.9039678054347122]\n"
     ]
    },
    {
     "name": "stderr",
     "output_type": "stream",
     "text": [
      "Progress:  78%|███████▊  | 157/200 [56:30<15:29, 21.62s/it]"
     ]
    },
    {
     "name": "stdout",
     "output_type": "stream",
     "text": [
      "Time to: Calculate Ground State - 1.47s, Get Pauli Ops - 7.03s, Calculate Pauli Expectation Values - 10.72s, Calculate Covariance - 2.74s\n",
      "f0,f1,f2 = [3.675059005999258e-09, 3.6750590059914847e-09, 3.675059006012326e-09]\n",
      "d01,d02,d12 = [0.9233057652279903, 0.9233057652277805, 0.9233057652274982]\n"
     ]
    },
    {
     "name": "stderr",
     "output_type": "stream",
     "text": [
      "Progress:  79%|███████▉  | 158/200 [56:51<14:50, 21.20s/it]"
     ]
    },
    {
     "name": "stdout",
     "output_type": "stream",
     "text": [
      "Time to: Calculate Ground State - 1.5s, Get Pauli Ops - 6.34s, Calculate Pauli Expectation Values - 9.32s, Calculate Covariance - 3.06s\n",
      "f0,f1,f2 = [6.0332462438890346e-09, 6.033246243867974e-09, 6.033246243886221e-09]\n",
      "d01,d02,d12 = [0.9449402122496963, 0.9449402122495155, 0.944940212248977]\n"
     ]
    },
    {
     "name": "stderr",
     "output_type": "stream",
     "text": [
      "/cluster/home/mskrabulis/miniconda3/envs/quantech/lib/python3.9/site-packages/pyscf/symm/Dmatrix.py:156: RuntimeWarning: invalid value encountered in arccos\n",
      "  gamma = numpy.arccos(yp.dot(c2[1]))\n",
      "Progress:  80%|███████▉  | 159/200 [57:10<13:59, 20.48s/it]"
     ]
    },
    {
     "name": "stdout",
     "output_type": "stream",
     "text": [
      "Time to: Calculate Ground State - 1.45s, Get Pauli Ops - 6.1s, Calculate Pauli Expectation Values - 8.65s, Calculate Covariance - 2.59s\n",
      "f0,f1,f2 = [6.11606071112235e-09, 6.116060711160629e-09, 6.1160607111399195e-09]\n",
      "d01,d02,d12 = [0.9688818428532804, 0.9688818428531252, 0.9688818428523402]\n"
     ]
    },
    {
     "name": "stderr",
     "output_type": "stream",
     "text": [
      "/cluster/home/mskrabulis/miniconda3/envs/quantech/lib/python3.9/site-packages/pyscf/symm/Dmatrix.py:156: RuntimeWarning: invalid value encountered in arccos\n",
      "  gamma = numpy.arccos(yp.dot(c2[1]))\n",
      "Progress:  80%|████████  | 160/200 [57:33<14:16, 21.41s/it]"
     ]
    },
    {
     "name": "stdout",
     "output_type": "stream",
     "text": [
      "Time to: Calculate Ground State - 1.48s, Get Pauli Ops - 6.91s, Calculate Pauli Expectation Values - 12.7s, Calculate Covariance - 2.47s\n",
      "f0,f1,f2 = [2.896995100433573e-09, 2.8969951003664703e-09, 2.8969951003976298e-09]\n",
      "d01,d02,d12 = [0.9913675773650847, 0.9913675773649453, 0.9913675773639351]\n"
     ]
    },
    {
     "name": "stderr",
     "output_type": "stream",
     "text": [
      "/cluster/home/mskrabulis/miniconda3/envs/quantech/lib/python3.9/site-packages/pyscf/symm/Dmatrix.py:156: RuntimeWarning: invalid value encountered in arccos\n",
      "  gamma = numpy.arccos(yp.dot(c2[1]))\n",
      "Progress:  80%|████████  | 161/200 [57:58<14:34, 22.42s/it]"
     ]
    },
    {
     "name": "stdout",
     "output_type": "stream",
     "text": [
      "Time to: Calculate Ground State - 1.64s, Get Pauli Ops - 7.08s, Calculate Pauli Expectation Values - 13.37s, Calculate Covariance - 2.69s\n",
      "f0,f1,f2 = [5.004643734666942e-09, 5.004643734675535e-09, 5.0046437347147674e-09]\n",
      "d01,d02,d12 = [1.0115387076849662, 1.0115387076848203, 1.011538707683604]\n"
     ]
    },
    {
     "name": "stderr",
     "output_type": "stream",
     "text": [
      "Progress:  81%|████████  | 162/200 [58:17<13:34, 21.43s/it]"
     ]
    },
    {
     "name": "stdout",
     "output_type": "stream",
     "text": [
      "Time to: Calculate Ground State - 1.63s, Get Pauli Ops - 6.36s, Calculate Pauli Expectation Values - 8.89s, Calculate Covariance - 2.22s\n",
      "f0,f1,f2 = [9.872947421877685e-09, 9.872947421850052e-09, 9.872947421825903e-09]\n",
      "d01,d02,d12 = [1.0274000533481156, 1.0274000533479715, 1.0274000533465708]\n"
     ]
    },
    {
     "name": "stderr",
     "output_type": "stream",
     "text": [
      "Progress:  82%|████████▏ | 163/200 [58:37<12:59, 21.06s/it]"
     ]
    },
    {
     "name": "stdout",
     "output_type": "stream",
     "text": [
      "Time to: Calculate Ground State - 1.5s, Get Pauli Ops - 6.84s, Calculate Pauli Expectation Values - 8.94s, Calculate Covariance - 2.9s\n",
      "f0,f1,f2 = [3.844399232248317e-09, 3.844399232148284e-09, 3.844399232180219e-09]\n",
      "d01,d02,d12 = [1.0414981991964245, 1.0414981991962704, 1.0414981991947239]\n"
     ]
    },
    {
     "name": "stderr",
     "output_type": "stream",
     "text": [
      "Progress:  82%|████████▏ | 164/200 [59:01<13:03, 21.76s/it]"
     ]
    },
    {
     "name": "stdout",
     "output_type": "stream",
     "text": [
      "Time to: Calculate Ground State - 1.49s, Get Pauli Ops - 10.25s, Calculate Pauli Expectation Values - 8.71s, Calculate Covariance - 2.95s\n",
      "f0,f1,f2 = [2.954082383635278e-11, 2.954082378391057e-11, 2.9540823804623984e-11]\n",
      "d01,d02,d12 = [1.0554343326789026, 1.0554343326787445, 1.0554343326770752]\n"
     ]
    },
    {
     "name": "stderr",
     "output_type": "stream",
     "text": [
      "Progress:  82%|████████▎ | 165/200 [59:23<12:47, 21.93s/it]"
     ]
    },
    {
     "name": "stdout",
     "output_type": "stream",
     "text": [
      "Time to: Calculate Ground State - 1.46s, Get Pauli Ops - 8.96s, Calculate Pauli Expectation Values - 9.39s, Calculate Covariance - 2.51s\n",
      "f0,f1,f2 = [8.69913262298626e-09, 8.699132622995601e-09, 8.699132623010128e-09]\n",
      "d01,d02,d12 = [1.0728311646305717, 1.0728311646304092, 1.0728311646286264]\n"
     ]
    },
    {
     "name": "stderr",
     "output_type": "stream",
     "text": [
      "Progress:  83%|████████▎ | 166/200 [59:45<12:25, 21.92s/it]"
     ]
    },
    {
     "name": "stdout",
     "output_type": "stream",
     "text": [
      "Time to: Calculate Ground State - 1.52s, Get Pauli Ops - 6.21s, Calculate Pauli Expectation Values - 11.12s, Calculate Covariance - 3.02s\n",
      "f0,f1,f2 = [4.712257432469066e-10, 4.712257432477179e-10, 4.71225743287783e-10]\n",
      "d01,d02,d12 = [1.0898470429398173, 1.0898470429396514, 1.0898470429377352]\n"
     ]
    },
    {
     "name": "stderr",
     "output_type": "stream",
     "text": [
      "Progress:  84%|████████▎ | 167/200 [1:00:06<11:51, 21.57s/it]"
     ]
    },
    {
     "name": "stdout",
     "output_type": "stream",
     "text": [
      "Time to: Calculate Ground State - 0.95s, Get Pauli Ops - 6.32s, Calculate Pauli Expectation Values - 10.44s, Calculate Covariance - 3.04s\n",
      "f0,f1,f2 = [3.775968178529448e-09, 3.775968178567809e-09, 3.775968178556494e-09]\n",
      "d01,d02,d12 = [1.10511456325169, 1.1051145632515136, 1.1051145632494705]\n"
     ]
    },
    {
     "name": "stderr",
     "output_type": "stream",
     "text": [
      "/cluster/home/mskrabulis/miniconda3/envs/quantech/lib/python3.9/site-packages/pyscf/symm/Dmatrix.py:156: RuntimeWarning: invalid value encountered in arccos\n",
      "  gamma = numpy.arccos(yp.dot(c2[1]))\n",
      "Progress:  84%|████████▍ | 168/200 [1:00:26<11:19, 21.24s/it]"
     ]
    },
    {
     "name": "stdout",
     "output_type": "stream",
     "text": [
      "Time to: Calculate Ground State - 1.55s, Get Pauli Ops - 7.38s, Calculate Pauli Expectation Values - 9.16s, Calculate Covariance - 2.36s\n",
      "f0,f1,f2 = [3.1480199554874625e-09, 3.1480199554726344e-09, 3.148019955458495e-09]\n",
      "d01,d02,d12 = [1.1189125169463652, 1.1189125169461507, 1.1189125169440064]\n"
     ]
    },
    {
     "name": "stderr",
     "output_type": "stream",
     "text": [
      "/cluster/home/mskrabulis/miniconda3/envs/quantech/lib/python3.9/site-packages/pyscf/symm/Dmatrix.py:156: RuntimeWarning: invalid value encountered in arccos\n",
      "  gamma = numpy.arccos(yp.dot(c2[1]))\n",
      "Progress:  84%|████████▍ | 169/200 [1:00:47<10:55, 21.16s/it]"
     ]
    },
    {
     "name": "stdout",
     "output_type": "stream",
     "text": [
      "Time to: Calculate Ground State - 1.59s, Get Pauli Ops - 8.18s, Calculate Pauli Expectation Values - 8.58s, Calculate Covariance - 2.62s\n",
      "f0,f1,f2 = [5.182334438451587e-09, 5.1823344384140215e-09, 5.18233443842871e-09]\n",
      "d01,d02,d12 = [1.1304123316081647, 1.1304123316078953, 1.130412331605677]\n"
     ]
    },
    {
     "name": "stderr",
     "output_type": "stream",
     "text": [
      "Progress:  85%|████████▌ | 170/200 [1:01:09<10:45, 21.52s/it]"
     ]
    },
    {
     "name": "stdout",
     "output_type": "stream",
     "text": [
      "Time to: Calculate Ground State - 1.52s, Get Pauli Ops - 6.59s, Calculate Pauli Expectation Values - 11.3s, Calculate Covariance - 2.95s\n",
      "f0,f1,f2 = [1.2387257391487637e-09, 1.2387257391529188e-09, 1.2387257391448997e-09]\n",
      "d01,d02,d12 = [1.1412728874448632, 1.1412728874445435, 1.141272887442237]\n"
     ]
    },
    {
     "name": "stderr",
     "output_type": "stream",
     "text": [
      "/cluster/home/mskrabulis/miniconda3/envs/quantech/lib/python3.9/site-packages/pyscf/symm/Dmatrix.py:156: RuntimeWarning: invalid value encountered in arccos\n",
      "  gamma = numpy.arccos(yp.dot(c2[1]))\n",
      "Progress:  86%|████████▌ | 171/200 [1:01:31<10:26, 21.60s/it]"
     ]
    },
    {
     "name": "stdout",
     "output_type": "stream",
     "text": [
      "Time to: Calculate Ground State - 1.62s, Get Pauli Ops - 8.54s, Calculate Pauli Expectation Values - 9.85s, Calculate Covariance - 1.75s\n",
      "f0,f1,f2 = [8.270190112184332e-09, 8.270190112069341e-09, 8.270190112076652e-09]\n",
      "d01,d02,d12 = [1.1485838844966774, 1.1485838844963026, 1.1485838844939769]\n"
     ]
    },
    {
     "name": "stderr",
     "output_type": "stream",
     "text": [
      "Progress:  86%|████████▌ | 172/200 [1:01:54<10:15, 22.00s/it]"
     ]
    },
    {
     "name": "stdout",
     "output_type": "stream",
     "text": [
      "Time to: Calculate Ground State - 1.51s, Get Pauli Ops - 7.11s, Calculate Pauli Expectation Values - 11.2s, Calculate Covariance - 3.09s\n",
      "f0,f1,f2 = [1.2801220516210992e-08, 1.2801220516212339e-08, 1.2801220516206942e-08]\n",
      "d01,d02,d12 = [1.150504237287316, 1.150504237286889, 1.1505042372845418]\n"
     ]
    },
    {
     "name": "stderr",
     "output_type": "stream",
     "text": [
      "/cluster/home/mskrabulis/miniconda3/envs/quantech/lib/python3.9/site-packages/pyscf/symm/Dmatrix.py:156: RuntimeWarning: invalid value encountered in arccos\n",
      "  gamma = numpy.arccos(yp.dot(c2[1]))\n",
      "Progress:  86%|████████▋ | 173/200 [1:02:14<09:36, 21.34s/it]"
     ]
    },
    {
     "name": "stdout",
     "output_type": "stream",
     "text": [
      "Time to: Calculate Ground State - 1.61s, Get Pauli Ops - 6.36s, Calculate Pauli Expectation Values - 9.06s, Calculate Covariance - 2.76s\n",
      "f0,f1,f2 = [1.6166553001763636e-09, 1.6166553001228308e-09, 1.6166553001092408e-09]\n",
      "d01,d02,d12 = [1.1517329082434626, 1.151732908242988, 1.1517329082406582]\n"
     ]
    },
    {
     "name": "stderr",
     "output_type": "stream",
     "text": [
      "/cluster/home/mskrabulis/miniconda3/envs/quantech/lib/python3.9/site-packages/pyscf/symm/Dmatrix.py:156: RuntimeWarning: invalid value encountered in arccos\n",
      "  gamma = numpy.arccos(yp.dot(c2[1]))\n",
      "/cluster/home/mskrabulis/miniconda3/envs/quantech/lib/python3.9/site-packages/pyscf/symm/Dmatrix.py:156: RuntimeWarning: invalid value encountered in arccos\n",
      "  gamma = numpy.arccos(yp.dot(c2[1]))\n",
      "Progress:  87%|████████▋ | 174/200 [1:02:35<09:09, 21.12s/it]"
     ]
    },
    {
     "name": "stdout",
     "output_type": "stream",
     "text": [
      "Time to: Calculate Ground State - 1.54s, Get Pauli Ops - 7.12s, Calculate Pauli Expectation Values - 8.99s, Calculate Covariance - 2.93s\n",
      "f0,f1,f2 = [5.023954055421319e-09, 5.023954055597451e-09, 5.023954055579842e-09]\n",
      "d01,d02,d12 = [1.1550323956726336, 1.1550323956721, 1.1550323956698287]\n"
     ]
    },
    {
     "name": "stderr",
     "output_type": "stream",
     "text": [
      "/cluster/home/mskrabulis/miniconda3/envs/quantech/lib/python3.9/site-packages/pyscf/symm/Dmatrix.py:156: RuntimeWarning: invalid value encountered in arccos\n",
      "  gamma = numpy.arccos(yp.dot(c2[1]))\n",
      "Progress:  88%|████████▊ | 175/200 [1:02:54<08:35, 20.63s/it]"
     ]
    },
    {
     "name": "stdout",
     "output_type": "stream",
     "text": [
      "Time to: Calculate Ground State - 1.51s, Get Pauli Ops - 7.13s, Calculate Pauli Expectation Values - 8.49s, Calculate Covariance - 2.33s\n",
      "f0,f1,f2 = [1.0569976324085816e-08, 1.0569976324135356e-08, 1.0569976324098968e-08]\n",
      "d01,d02,d12 = [1.1539107050783235, 1.153910705077745, 1.1539107050755328]\n"
     ]
    },
    {
     "name": "stderr",
     "output_type": "stream",
     "text": [
      "Progress:  88%|████████▊ | 176/200 [1:03:14<08:11, 20.49s/it]"
     ]
    },
    {
     "name": "stdout",
     "output_type": "stream",
     "text": [
      "Time to: Calculate Ground State - 1.5s, Get Pauli Ops - 6.22s, Calculate Pauli Expectation Values - 9.89s, Calculate Covariance - 2.54s\n",
      "f0,f1,f2 = [2.9060808145327735e-08, 2.9060808145401583e-08, 2.906080814537678e-08]\n",
      "d01,d02,d12 = [1.1407450435647841, 1.140745043564176, 1.1407450435620465]\n"
     ]
    },
    {
     "name": "stderr",
     "output_type": "stream",
     "text": [
      "/cluster/home/mskrabulis/miniconda3/envs/quantech/lib/python3.9/site-packages/pyscf/symm/Dmatrix.py:156: RuntimeWarning: invalid value encountered in arccos\n",
      "  gamma = numpy.arccos(yp.dot(c2[1]))\n",
      "Progress:  88%|████████▊ | 177/200 [1:03:36<07:59, 20.84s/it]"
     ]
    },
    {
     "name": "stdout",
     "output_type": "stream",
     "text": [
      "Time to: Calculate Ground State - 1.56s, Get Pauli Ops - 8.06s, Calculate Pauli Expectation Values - 8.97s, Calculate Covariance - 3.07s\n",
      "f0,f1,f2 = [8.63164705225197e-09, 8.631647052223935e-09, 8.631647052241587e-09]\n",
      "d01,d02,d12 = [1.1241421574339214, 1.1241421574332684, 1.1241421574312442]\n"
     ]
    },
    {
     "name": "stderr",
     "output_type": "stream",
     "text": [
      "/cluster/home/mskrabulis/miniconda3/envs/quantech/lib/python3.9/site-packages/pyscf/symm/Dmatrix.py:156: RuntimeWarning: invalid value encountered in arccos\n",
      "  gamma = numpy.arccos(yp.dot(c2[1]))\n",
      "Progress:  89%|████████▉ | 178/200 [1:03:57<07:38, 20.85s/it]"
     ]
    },
    {
     "name": "stdout",
     "output_type": "stream",
     "text": [
      "Time to: Calculate Ground State - 1.45s, Get Pauli Ops - 7.13s, Calculate Pauli Expectation Values - 9.3s, Calculate Covariance - 2.99s\n",
      "f0,f1,f2 = [1.2022789484030756e-08, 1.2022789483983558e-08, 1.2022789483894825e-08]\n",
      "d01,d02,d12 = [1.1027322998142686, 1.102732299813606, 1.1027322998117381]\n"
     ]
    },
    {
     "name": "stderr",
     "output_type": "stream",
     "text": [
      "/cluster/home/mskrabulis/miniconda3/envs/quantech/lib/python3.9/site-packages/pyscf/symm/Dmatrix.py:156: RuntimeWarning: invalid value encountered in arccos\n",
      "  gamma = numpy.arccos(yp.dot(c2[1]))\n",
      "Progress:  90%|████████▉ | 179/200 [1:04:18<07:19, 20.91s/it]"
     ]
    },
    {
     "name": "stdout",
     "output_type": "stream",
     "text": [
      "Time to: Calculate Ground State - 1.49s, Get Pauli Ops - 7.27s, Calculate Pauli Expectation Values - 9.22s, Calculate Covariance - 3.06s\n",
      "f0,f1,f2 = [2.866152908802362e-10, 2.8661529092307385e-10, 2.8661529085868027e-10]\n",
      "d01,d02,d12 = [1.0816706343808402, 1.0816706343801505, 1.0816706343784592]\n"
     ]
    },
    {
     "name": "stderr",
     "output_type": "stream",
     "text": [
      "Progress:  90%|█████████ | 180/200 [1:04:38<06:52, 20.62s/it]"
     ]
    },
    {
     "name": "stdout",
     "output_type": "stream",
     "text": [
      "Time to: Calculate Ground State - 1.44s, Get Pauli Ops - 6.95s, Calculate Pauli Expectation Values - 8.89s, Calculate Covariance - 2.65s\n",
      "f0,f1,f2 = [8.545601786812228e-10, 8.545601786212586e-10, 8.545601786042662e-10]\n",
      "d01,d02,d12 = [1.0604792540698553, 1.0604792540691508, 1.0604792540676344]\n"
     ]
    },
    {
     "name": "stderr",
     "output_type": "stream",
     "text": [
      "/cluster/home/mskrabulis/miniconda3/envs/quantech/lib/python3.9/site-packages/pyscf/symm/Dmatrix.py:156: RuntimeWarning: invalid value encountered in arccos\n",
      "  gamma = numpy.arccos(yp.dot(c2[1]))\n",
      "/cluster/home/mskrabulis/miniconda3/envs/quantech/lib/python3.9/site-packages/pyscf/symm/Dmatrix.py:156: RuntimeWarning: invalid value encountered in arccos\n",
      "  gamma = numpy.arccos(yp.dot(c2[1]))\n",
      "Progress:  90%|█████████ | 181/200 [1:05:00<06:43, 21.24s/it]"
     ]
    },
    {
     "name": "stdout",
     "output_type": "stream",
     "text": [
      "Time to: Calculate Ground State - 1.36s, Get Pauli Ops - 9.45s, Calculate Pauli Expectation Values - 9.15s, Calculate Covariance - 2.71s\n",
      "f0,f1,f2 = [9.336673142183624e-10, 9.336673141910152e-10, 9.336673141669837e-10]\n",
      "d01,d02,d12 = [1.0391260847726906, 1.0391260847719679, 1.0391260847706496]\n"
     ]
    },
    {
     "name": "stderr",
     "output_type": "stream",
     "text": [
      "Progress:  91%|█████████ | 182/200 [1:05:21<06:18, 21.04s/it]"
     ]
    },
    {
     "name": "stdout",
     "output_type": "stream",
     "text": [
      "Time to: Calculate Ground State - 1.54s, Get Pauli Ops - 6.99s, Calculate Pauli Expectation Values - 9.09s, Calculate Covariance - 2.96s\n",
      "f0,f1,f2 = [2.6712547395080855e-09, 2.6712547395669146e-09, 2.6712547395714566e-09]\n",
      "d01,d02,d12 = [1.0191078949004961, 1.0191078948997425, 1.0191078948986667]\n"
     ]
    },
    {
     "name": "stderr",
     "output_type": "stream",
     "text": [
      "/cluster/home/mskrabulis/miniconda3/envs/quantech/lib/python3.9/site-packages/pyscf/symm/Dmatrix.py:156: RuntimeWarning: invalid value encountered in arccos\n",
      "  gamma = numpy.arccos(yp.dot(c2[1]))\n",
      "Progress:  92%|█████████▏| 183/200 [1:05:41<05:50, 20.61s/it]"
     ]
    },
    {
     "name": "stdout",
     "output_type": "stream",
     "text": [
      "Time to: Calculate Ground State - 1.47s, Get Pauli Ops - 6.76s, Calculate Pauli Expectation Values - 8.97s, Calculate Covariance - 2.38s\n",
      "f0,f1,f2 = [5.100129482284438e-09, 5.100129482271535e-09, 5.1001294822993665e-09]\n",
      "d01,d02,d12 = [1.0014178696072107, 1.00141786960643, 1.0014178696055858]\n"
     ]
    },
    {
     "name": "stderr",
     "output_type": "stream",
     "text": [
      "Progress:  92%|█████████▏| 184/200 [1:06:02<05:32, 20.79s/it]"
     ]
    },
    {
     "name": "stdout",
     "output_type": "stream",
     "text": [
      "Time to: Calculate Ground State - 1.58s, Get Pauli Ops - 6.42s, Calculate Pauli Expectation Values - 10.33s, Calculate Covariance - 2.88s\n",
      "f0,f1,f2 = [5.642325632308981e-09, 5.642325632325103e-09, 5.642325632303888e-09]\n",
      "d01,d02,d12 = [0.981574578036601, 0.981574578035789, 0.9815745780351921]\n"
     ]
    },
    {
     "name": "stderr",
     "output_type": "stream",
     "text": [
      "/cluster/home/mskrabulis/miniconda3/envs/quantech/lib/python3.9/site-packages/pyscf/symm/Dmatrix.py:156: RuntimeWarning: invalid value encountered in arccos\n",
      "  gamma = numpy.arccos(yp.dot(c2[1]))\n",
      "Progress:  92%|█████████▎| 185/200 [1:06:24<05:19, 21.27s/it]"
     ]
    },
    {
     "name": "stdout",
     "output_type": "stream",
     "text": [
      "Time to: Calculate Ground State - 1.55s, Get Pauli Ops - 9.26s, Calculate Pauli Expectation Values - 8.89s, Calculate Covariance - 2.69s\n",
      "f0,f1,f2 = [2.3198206297133444e-09, 2.3198206297678816e-09, 2.319820629709447e-09]\n",
      "d01,d02,d12 = [0.962904100367457, 0.9629041003665986, 0.9629041003662588]\n"
     ]
    },
    {
     "name": "stderr",
     "output_type": "stream",
     "text": [
      "/cluster/home/mskrabulis/miniconda3/envs/quantech/lib/python3.9/site-packages/pyscf/symm/Dmatrix.py:156: RuntimeWarning: invalid value encountered in arccos\n",
      "  gamma = numpy.arccos(yp.dot(c2[1]))\n",
      "Progress:  93%|█████████▎| 186/200 [1:06:46<04:59, 21.43s/it]"
     ]
    },
    {
     "name": "stdout",
     "output_type": "stream",
     "text": [
      "Time to: Calculate Ground State - 1.54s, Get Pauli Ops - 6.72s, Calculate Pauli Expectation Values - 10.63s, Calculate Covariance - 2.89s\n",
      "f0,f1,f2 = [8.214343668135695e-10, 8.214343667765163e-10, 8.214343667337277e-10]\n",
      "d01,d02,d12 = [0.9440910452861879, 0.9440910452853013, 0.9440910452852255]\n"
     ]
    },
    {
     "name": "stderr",
     "output_type": "stream",
     "text": [
      "Progress:  94%|█████████▎| 187/200 [1:07:09<04:43, 21.83s/it]"
     ]
    },
    {
     "name": "stdout",
     "output_type": "stream",
     "text": [
      "Time to: Calculate Ground State - 1.51s, Get Pauli Ops - 9.53s, Calculate Pauli Expectation Values - 9.3s, Calculate Covariance - 2.4s\n",
      "f0,f1,f2 = [3.3280848922408745e-09, 3.328084892255698e-09, 3.3280848922954444e-09]\n",
      "d01,d02,d12 = [0.9268588389512223, 0.9268588389503085, 0.926858838950497]\n"
     ]
    },
    {
     "name": "stderr",
     "output_type": "stream",
     "text": [
      "Progress:  94%|█████████▍| 188/200 [1:07:29<04:16, 21.39s/it]"
     ]
    },
    {
     "name": "stdout",
     "output_type": "stream",
     "text": [
      "Time to: Calculate Ground State - 1.46s, Get Pauli Ops - 7.03s, Calculate Pauli Expectation Values - 9.06s, Calculate Covariance - 2.81s\n",
      "f0,f1,f2 = [1.0355493185140637e-08, 1.035549318518189e-08, 1.0355493185196985e-08]\n",
      "d01,d02,d12 = [0.9141066032561375, 0.9141066032551987, 0.9141066032556437]\n"
     ]
    },
    {
     "name": "stderr",
     "output_type": "stream",
     "text": [
      "Progress:  94%|█████████▍| 189/200 [1:07:49<03:51, 21.03s/it]"
     ]
    },
    {
     "name": "stdout",
     "output_type": "stream",
     "text": [
      "Time to: Calculate Ground State - 1.68s, Get Pauli Ops - 6.64s, Calculate Pauli Expectation Values - 9.0s, Calculate Covariance - 2.87s\n",
      "f0,f1,f2 = [8.08147183200339e-10, 8.081471832602576e-10, 8.081471831946404e-10]\n",
      "d01,d02,d12 = [0.9011555352293215, 0.9011555352283783, 0.9011555352290471]\n"
     ]
    },
    {
     "name": "stderr",
     "output_type": "stream",
     "text": [
      "Progress:  95%|█████████▌| 190/200 [1:08:11<03:33, 21.38s/it]"
     ]
    },
    {
     "name": "stdout",
     "output_type": "stream",
     "text": [
      "Time to: Calculate Ground State - 1.48s, Get Pauli Ops - 9.6s, Calculate Pauli Expectation Values - 8.78s, Calculate Covariance - 2.32s\n",
      "f0,f1,f2 = [2.2049691319960813e-09, 2.20496913191418e-09, 2.2049691320039577e-09]\n",
      "d01,d02,d12 = [0.8892582501244792, 0.8892582501235673, 0.8892582501244273]\n"
     ]
    },
    {
     "name": "stderr",
     "output_type": "stream",
     "text": [
      "Progress:  96%|█████████▌| 191/200 [1:08:32<03:09, 21.07s/it]"
     ]
    },
    {
     "name": "stdout",
     "output_type": "stream",
     "text": [
      "Time to: Calculate Ground State - 1.49s, Get Pauli Ops - 6.35s, Calculate Pauli Expectation Values - 9.47s, Calculate Covariance - 3.02s\n",
      "f0,f1,f2 = [5.443395615735935e-09, 5.443395615743519e-09, 5.44339561578215e-09]\n",
      "d01,d02,d12 = [0.8797473873721422, 0.8797473873712547, 0.87974738737232]\n"
     ]
    },
    {
     "name": "stderr",
     "output_type": "stream",
     "text": [
      "Progress:  96%|█████████▌| 192/200 [1:08:55<02:53, 21.70s/it]"
     ]
    },
    {
     "name": "stdout",
     "output_type": "stream",
     "text": [
      "Time to: Calculate Ground State - 1.49s, Get Pauli Ops - 9.74s, Calculate Pauli Expectation Values - 8.87s, Calculate Covariance - 3.05s\n",
      "f0,f1,f2 = [8.913152374978059e-09, 8.913152374973026e-09, 8.913152374920983e-09]\n",
      "d01,d02,d12 = [0.8666415690076863, 0.8666415690068578, 0.866641569008107]\n"
     ]
    },
    {
     "name": "stderr",
     "output_type": "stream",
     "text": [
      "/cluster/home/mskrabulis/miniconda3/envs/quantech/lib/python3.9/site-packages/pyscf/symm/Dmatrix.py:156: RuntimeWarning: invalid value encountered in arccos\n",
      "  gamma = numpy.arccos(yp.dot(c2[1]))\n",
      "Progress:  96%|█████████▋| 193/200 [1:09:16<02:30, 21.46s/it]"
     ]
    },
    {
     "name": "stdout",
     "output_type": "stream",
     "text": [
      "Time to: Calculate Ground State - 1.46s, Get Pauli Ops - 8.16s, Calculate Pauli Expectation Values - 8.63s, Calculate Covariance - 2.63s\n",
      "f0,f1,f2 = [1.5111816695010807e-08, 1.5111816695040052e-08, 1.5111816695059647e-08]\n",
      "d01,d02,d12 = [0.8599473833961739, 0.8599473833954222, 0.8599473833968481]\n"
     ]
    },
    {
     "name": "stderr",
     "output_type": "stream",
     "text": [
      "Progress:  97%|█████████▋| 194/200 [1:09:39<02:11, 21.89s/it]"
     ]
    },
    {
     "name": "stdout",
     "output_type": "stream",
     "text": [
      "Time to: Calculate Ground State - 0.82s, Get Pauli Ops - 7.12s, Calculate Pauli Expectation Values - 11.88s, Calculate Covariance - 3.07s\n",
      "f0,f1,f2 = [9.936288845382768e-09, 9.93628884528299e-09, 9.936288845323922e-09]\n",
      "d01,d02,d12 = [0.857448272980468, 0.8574482729798091, 0.8574482729813677]\n"
     ]
    },
    {
     "name": "stderr",
     "output_type": "stream",
     "text": [
      "/cluster/home/mskrabulis/miniconda3/envs/quantech/lib/python3.9/site-packages/pyscf/symm/Dmatrix.py:156: RuntimeWarning: invalid value encountered in arccos\n",
      "  gamma = numpy.arccos(yp.dot(c2[1]))\n",
      "Progress:  98%|█████████▊| 195/200 [1:10:04<01:54, 22.82s/it]"
     ]
    },
    {
     "name": "stdout",
     "output_type": "stream",
     "text": [
      "Time to: Calculate Ground State - 1.53s, Get Pauli Ops - 11.2s, Calculate Pauli Expectation Values - 9.15s, Calculate Covariance - 3.1s\n",
      "f0,f1,f2 = [1.1817637488402131e-08, 1.1817637488367843e-08, 1.1817637488388825e-08]\n",
      "d01,d02,d12 = [0.85987909358954, 0.8598790935889723, 0.8598790935906647]\n"
     ]
    },
    {
     "name": "stderr",
     "output_type": "stream",
     "text": [
      "/cluster/home/mskrabulis/miniconda3/envs/quantech/lib/python3.9/site-packages/pyscf/symm/Dmatrix.py:156: RuntimeWarning: invalid value encountered in arccos\n",
      "  gamma = numpy.arccos(yp.dot(c2[1]))\n",
      "Progress:  98%|█████████▊| 196/200 [1:10:26<01:30, 22.67s/it]"
     ]
    },
    {
     "name": "stdout",
     "output_type": "stream",
     "text": [
      "Time to: Calculate Ground State - 1.49s, Get Pauli Ops - 6.55s, Calculate Pauli Expectation Values - 11.27s, Calculate Covariance - 2.98s\n",
      "f0,f1,f2 = [5.3069006748259e-09, 5.306900674773209e-09, 5.306900674814745e-09]\n",
      "d01,d02,d12 = [0.8644850822095375, 0.8644850822090784, 0.864485082210881]\n"
     ]
    },
    {
     "name": "stderr",
     "output_type": "stream",
     "text": [
      "Progress:  98%|█████████▊| 197/200 [1:10:49<01:08, 22.70s/it]"
     ]
    },
    {
     "name": "stdout",
     "output_type": "stream",
     "text": [
      "Time to: Calculate Ground State - 1.58s, Get Pauli Ops - 8.34s, Calculate Pauli Expectation Values - 9.69s, Calculate Covariance - 3.16s\n",
      "f0,f1,f2 = [2.0543596838875976e-08, 2.0543596838838696e-08, 2.0543596838842276e-08]\n",
      "d01,d02,d12 = [0.8775637826114582, 0.8775637826111062, 0.8775637826130236]\n"
     ]
    },
    {
     "name": "stderr",
     "output_type": "stream",
     "text": [
      "Progress:  99%|█████████▉| 198/200 [1:11:10<00:44, 22.34s/it]"
     ]
    },
    {
     "name": "stdout",
     "output_type": "stream",
     "text": [
      "Time to: Calculate Ground State - 1.49s, Get Pauli Ops - 9.04s, Calculate Pauli Expectation Values - 8.53s, Calculate Covariance - 2.44s\n",
      "f0,f1,f2 = [7.364249531848487e-09, 7.364249531882098e-09, 7.3642495319096675e-09]\n",
      "d01,d02,d12 = [0.8874458926974558, 0.8874458926972062, 0.8874458926991867]\n"
     ]
    },
    {
     "name": "stderr",
     "output_type": "stream",
     "text": [
      "Progress: 100%|█████████▉| 199/200 [1:11:31<00:21, 21.94s/it]"
     ]
    },
    {
     "name": "stdout",
     "output_type": "stream",
     "text": [
      "Time to: Calculate Ground State - 1.43s, Get Pauli Ops - 8.39s, Calculate Pauli Expectation Values - 8.77s, Calculate Covariance - 2.41s\n",
      "f0,f1,f2 = [1.7057883247888016e-09, 1.7057883247262825e-09, 1.7057883247349656e-09]\n",
      "d01,d02,d12 = [0.8979291551686206, 0.8979291551684742, 0.8979291551704853]\n"
     ]
    },
    {
     "name": "stderr",
     "output_type": "stream",
     "text": [
      "Progress: 100%|██████████| 200/200 [1:11:52<00:00, 21.56s/it]"
     ]
    },
    {
     "name": "stdout",
     "output_type": "stream",
     "text": [
      "Time to: Calculate Ground State - 0.89s, Get Pauli Ops - 8.66s, Calculate Pauli Expectation Values - 8.49s, Calculate Covariance - 2.55s\n",
      "f0,f1,f2 = [3.2312604572507625e-09, 3.231260457299843e-09, 3.231260457294942e-09]\n",
      "d01,d02,d12 = [0.9069592533261797, 0.9069592533261362, 0.9069592533281614]\n"
     ]
    },
    {
     "name": "stderr",
     "output_type": "stream",
     "text": [
      "\n"
     ]
    },
    {
     "data": {
      "image/png": "[encoded data removed]",
      "text/plain": [
       "<Figure size 640x480 with 1 Axes>"
      ]
     },
     "metadata": {},
     "output_type": "display_data"
    }
   ],
   "source": [
    "from matplotlib import pyplot as plt\n",
    "(distance01,distance02,distance12,times) = main()\n",
    "\n",
    "np_distance01 = np.array(distance01)\n",
    "np_distance02 = np.array(distance02)\n",
    "np_distance12 = np.array(distance12)\n",
    "\n",
    "plt.plot(times,np_distance01[:-1],label = 'd01')\n",
    "plt.plot(times,np_distance02[:-1],label = 'd02')\n",
    "plt.plot(times,np_distance12[:-1],label = 'd12')\n",
    "\n",
    "plt.title('Distances at time t')\n",
    "plt.xlabel('Time')\n",
    "plt.ylabel('Distance')\n",
    "plt.legend()\n",
    "plt.show()"
   ]
  },
  {
   "cell_type": "code",
   "execution_count": null,
   "id": "885910be",
   "metadata": {},
   "outputs": [],
   "source": []
  },
  {
   "cell_type": "code",
   "execution_count": null,
   "id": "d831a498",
   "metadata": {},
   "outputs": [],
   "source": []
  }
 ],
 "metadata": {
  "kernelspec": {
   "display_name": "Python 3 (ipykernel)",
   "language": "python",
   "name": "python3"
  },
  "language_info": {
   "codemirror_mode": {
    "name": "ipython",
    "version": 3
   },
   "file_extension": ".py",
   "mimetype": "text/x-python",
   "name": "python",
   "nbconvert_exporter": "python",
   "pygments_lexer": "ipython3",
   "version": "3.9.15"
  }
 },
 "nbformat": 4,
 "nbformat_minor": 5
}
