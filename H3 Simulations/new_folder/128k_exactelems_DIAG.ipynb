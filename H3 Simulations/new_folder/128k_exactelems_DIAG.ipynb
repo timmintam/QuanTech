{
 "cells": [
  {
   "cell_type": "code",
   "execution_count": 1,
   "id": "fbc296ce",
   "metadata": {},
   "outputs": [],
   "source": [
    "import numpy as np\n",
    "import matplotlib.pyplot as plt\n",
    "\n",
    "from pyscf import ao2mo,gto, scf\n",
    "\n",
    "from typing import Tuple\n",
    "\n",
    "\n",
    "# qiskit\n",
    "from qiskit.algorithms import VQE\n",
    "from qiskit.algorithms.optimizers import COBYLA, SPSA, SLSQP, NELDER_MEAD\n",
    "from qiskit.algorithms import MinimumEigensolverResult\n",
    "\n",
    "from qiskit import IBMQ, BasicAer, Aer\n",
    "from qiskit.utils import QuantumInstance\n",
    "from qiskit.quantum_info.operators import Operator\n",
    "from qiskit.opflow import PauliExpectation, CircuitSampler, StateFn, CircuitStateFn\n",
    "from qiskit.opflow.primitive_ops import PauliOp, PauliSumOp\n",
    "from qiskit.quantum_info import Pauli, SparsePauliOp\n",
    "\n",
    "# qiskit nature\n",
    "from qiskit_nature.second_q.hamiltonians import ElectronicEnergy\n",
    "from qiskit_nature.second_q.mappers import ParityMapper, QubitConverter\n",
    "from qiskit_nature.second_q.problems import ElectronicStructureProblem\n",
    "from qiskit_nature.second_q.operators import FermionicOp\n",
    "from qiskit_nature.second_q.properties import ParticleNumber\n",
    "from qiskit_nature.second_q.transformers import FreezeCoreTransformer\n",
    "from qiskit_nature.second_q.circuit.library import UCCSD, HartreeFock\n",
    "from qiskit_nature.second_q.problems import ElectronicBasis\n",
    "from qiskit_nature.second_q.formats.molecule_info import MoleculeInfo\n",
    "from qiskit_nature.drivers import Molecule\n",
    "from qiskit_nature.drivers.second_quantization import (\n",
    "    ElectronicStructureMoleculeDriver, ElectronicStructureDriverType)\n",
    "\n",
    "from qiskit_nature.settings import settings\n",
    "settings.dict_aux_operators = True\n",
    "\n",
    "#from qiskit import IBMQ\n",
    "#from qiskit_nature.runtime import VQEClient\n",
    "#from qiskit.providers.ibmq import least_busy\n",
    "#from qiskit_ibm_runtime import QiskitRuntimeService, Estimator, Session\n",
    "\n",
    "# useful??\n",
    "#from qiskit_nature.algorithms import (GroundStateEigensolver,\n",
    "#                                      NumPyMinimumEigensolverFactory)\n",
    "from qiskit.circuit.library import EfficientSU2\n",
    "from qiskit.circuit.library import RealAmplitudes\n",
    "from qiskit.utils.mitigation import CompleteMeasFitter\n",
    "from qiskit.providers.aer.noise import NoiseModel\n",
    "from qiskit.providers.aer import QasmSimulator\n",
    "from qiskit import QuantumCircuit, transpile\n",
    "from qiskit.opflow import TwoQubitReduction\n",
    "\n",
    "def get_molecular_integrals(molecule):\n",
    "    '''\n",
    "    Calculates the 1-electron and 2-electron integrals.\n",
    "    \n",
    "    Args:   \n",
    "        molecule : Mole \n",
    "            Ccorresponds to the molecule.\n",
    "            \n",
    "    Returns:\n",
    "        h1_MO : ndarray\n",
    "                Tensor corresponding to the 1-electron integral in the molecular basis.\n",
    "        \n",
    "        h2_MO : ndarray\n",
    "                Tensor corresponding to the 2-electron integral in the molecular basis.\n",
    "\n",
    "        n_particles: Tuple[int, int]\n",
    "            Number of alpha and beta electrons.\n",
    "        \n",
    "        num_orb : int \n",
    "            Number of orbitals.\n",
    "\n",
    "        nuclear_repulsion_energy : float\n",
    "            Nuclear repulsion energy.\n",
    "    '''\n",
    "    \n",
    "    mf = scf.RHF(molecule).run()\n",
    "\n",
    "    # computing the 1e and 2e AO (atomic orbitals) integrals \n",
    "    h1 = molecule.intor_symmetric(\"int1e_nuc\") + molecule.intor_symmetric(\"int1e_kin\") \n",
    "    h2 = molecule.intor(\"int2e\")\n",
    "    # comment : add aosym (axis of symmetry) ???\n",
    "\n",
    "    # transformations from AO to MO (molecular orbitals)\n",
    "    h1_MO = np.einsum('pi,pq,qj->ij', mf.mo_coeff, h1, mf.mo_coeff)\n",
    "    h2_MO = ao2mo.get_mo_eri(h2, mf.mo_coeff)\n",
    "\n",
    "    #h2_MO = ao2mo.kernel(mol_h2, mf.mo_coeff, aosym=\"1\") #alternative\n",
    "\n",
    "    nuclear_repulsion_energy=molecule.energy_nuc()\n",
    "    num_particles = molecule.nelec\n",
    "    num_orb = h1.shape[0]\n",
    "\n",
    "    return h1_MO, h2_MO, num_particles, num_orb, nuclear_repulsion_energy\n",
    "\n",
    "\n",
    "def get_qubit_op(coordinates):\n",
    "    '''\n",
    "    Calculates the Hamiltonian as the sum of Pauli operators as a function\n",
    "    of the coordinates of the atoms.\n",
    "    \n",
    "    Args:\n",
    "        coordinates : ndarray\n",
    "            Array containing the positions of the atoms constituing the molecule.\n",
    "        \n",
    "    \n",
    "    Returns:\n",
    "        qubit_op : PauliSumOp\n",
    "            Sum of Pauli operators corresponding to the Hamiltonian.\n",
    "        \n",
    "        nelec : Tuple[int, int]\n",
    "            Number of alpha and beta electrons.\n",
    "        \n",
    "        norb : int \n",
    "            Number of orbitals.\n",
    "            \n",
    "        problem : ElectronicStructureProblem\n",
    "        \n",
    "        converter : QubitConverter\n",
    "    '''\n",
    "    \n",
    "    mol = gto.M(\n",
    "                atom = [['H',(coordinates[0], coordinates[1], 0.0)], \n",
    "                        ['H',(coordinates[2], coordinates[3], 0.0)],\n",
    "                        ['H',(coordinates[4], coordinates[5], 0.0)]],\n",
    "                basis = 'sto3g',\n",
    "                charge = 1,\n",
    "                spin = 0,\n",
    "                symmetry = True,\n",
    "                verbose = 2 # control the print level of PySCF globally\n",
    "    )\n",
    "\n",
    "    h1_MO,h2_MO,nelec,norb,ecore = get_molecular_integrals(mol)\n",
    "\n",
    "    # Define an ElectronicEnergy instance containing the 1e and 2e integrals\n",
    "    electronic_energy = ElectronicEnergy.from_raw_integrals(\n",
    "            h1_MO, ao2mo.restore(1, h2_MO, norb)\n",
    "        )\n",
    "    electronic_energy.nuclear_repulsion_energy = ecore\n",
    "\n",
    "    # Define an ElectronicStructureProblem\n",
    "    problem = ElectronicStructureProblem(electronic_energy)\n",
    "\n",
    "    second_q_ops = problem.second_q_ops()     # get second quantized operators\n",
    "    problem.num_spatial_orbitals = norb  # define number of orbitals\n",
    "    problem.num_particles = nelec        # define number of particles \n",
    "    \n",
    "    problem.basis = ElectronicBasis.MO \n",
    "    \n",
    "    problem.molecule=MoleculeInfo(symbols=[mol.atom_symbol(i) for i in range(mol.nbas)], \n",
    "                                  coords=mol.atom_coords())\n",
    "    FC_transformer=FreezeCoreTransformer(freeze_core=True)\n",
    "    problem = FC_transformer.transform(problem)\n",
    "    \n",
    "    # TODO we need to give info about the molecule to use FreezeCoreTransformer \n",
    "    # question : how to do it in a smart way ? at the initialization ??\n",
    "    \n",
    "    hamiltonian = second_q_ops[0]  # Set electronic part of Hamiltonian\n",
    "    hamiltonian = (hamiltonian + FermionicOp({\"\": ecore}, num_spin_orbitals=norb)) # add Nuclear Repulsion Energy\n",
    "    #print(\"Hamiltonian :\\n\", hamiltonian) # print for checking purposes\n",
    "    \n",
    "    mapper = ParityMapper()  # Set Mapper\n",
    "    \n",
    "    # Do two qubit reduction\n",
    "    converter = QubitConverter(mapper,two_qubit_reduction=True)\n",
    "    qubit_op = converter.convert(hamiltonian, nelec)\n",
    "    #print(\"q_op :\\n\", qubit_op) # print for checking purposes\n",
    "    \n",
    "\n",
    "    return qubit_op, nelec, norb, problem, converter\n",
    "\n",
    "def calc_ground_state(qubit_op,nelec,norb,problem,converter) :\n",
    "    '''\n",
    "    Calculates the ground state and the ground energy of the Hamiltonian.\n",
    "    \n",
    "    Args:\n",
    "        qubit_op : PauliSumOp\n",
    "            Sum of Pauli operators corresponding to the Hamiltonian.\n",
    "        \n",
    "        nelec : Tuple[int, int]\n",
    "            Number of alpha and beta electrons.\n",
    "        \n",
    "        norb : int \n",
    "            Number of orbitals.\n",
    "            \n",
    "        problem : ElectronicStructureProblem\n",
    "        \n",
    "        converter : QubitConverter\n",
    "        \n",
    "    \n",
    "    Returns:\n",
    "        ground_state : CircuitStateFn\n",
    "            Ground state of the Hamiltonian.\n",
    "            \n",
    "        min_eng : float\n",
    "            Ground energy of the Hamiltonian.\n",
    "    '''\n",
    "\n",
    "    backend = BasicAer.get_backend(\"statevector_simulator\")\n",
    "    quantum_instance = QuantumInstance(backend)\n",
    "    optimizer = SLSQP(maxiter=400)\n",
    "\n",
    "    init_state = HartreeFock(num_spatial_orbitals=norb, \n",
    "                                num_particles=nelec, \n",
    "                                qubit_converter=converter\n",
    "                            )\n",
    "    \n",
    "    var_form = UCCSD(qubit_converter=converter,\n",
    "                        num_particles=nelec,\n",
    "                        num_spatial_orbitals=norb, \n",
    "                        initial_state=init_state\n",
    "                        )\n",
    "\n",
    "    vqe = VQE(var_form, optimizer, quantum_instance=quantum_instance) \n",
    "    vqe_result = vqe.compute_minimum_eigenvalue(qubit_op)\n",
    "    min_eng = vqe_result.eigenvalue.real\n",
    "    final_params = vqe_result.optimal_parameters \n",
    "\n",
    "    vqe_ground = vqe.ansatz.bind_parameters(final_params) \n",
    "#     vqe_ground_state = CircuitStateFn(vqe_ground)\n",
    "    \n",
    "    return vqe_ground, min_eng"
   ]
  },
  {
   "cell_type": "code",
   "execution_count": 2,
   "id": "3f5daa79",
   "metadata": {},
   "outputs": [],
   "source": [
    "Ha = 4.36e-18\n",
    "angst = 1.0e-10\n",
    "dR = 0.01 #removed the angst, since coordinates are given in angst\n",
    "\n",
    "\n",
    "from qiskit.opflow import I, X, Y, Z\n",
    "from qiskit.opflow.primitive_ops import PauliOp\n",
    "from qiskit.quantum_info import Pauli\n",
    "#from hamiltonian import calc_ground_state, get_qubit_op\n",
    "import numpy as np\n",
    "from qiskit.utils import QuantumInstance\n",
    "from qiskit.opflow import PauliExpectation, CircuitSampler, StateFn, CircuitStateFn\n",
    "from qiskit import IBMQ, BasicAer, Aer\n",
    "\n",
    "import time #to see which part of code takes the longest\n",
    "import multiprocessing\n",
    "\n",
    "\n",
    "def expectation_exact(psi_0,op):\n",
    "    \n",
    "    return psi_0.adjoint().compose(op).compose(psi_0).eval().real\n",
    "    \n",
    "    \n",
    "    \n",
    "\n",
    "\n",
    "\n",
    "#calculate centre of mass (currently for equal particle masses)\n",
    "def calc_COM(coordinates):\n",
    "    #print(coordinates)\n",
    "    r_array = np.array_split(coordinates,3)\n",
    "    COM = (r_array[0] + r_array[1] + r_array[2])/3\n",
    "    \n",
    "    return COM\n",
    "\n",
    "#task to calculate expectation value\n",
    "def task1(string, q_instance, psi_0):\n",
    "\n",
    "    Obs = PauliOp(Pauli(string))\n",
    "    measurable_expression = StateFn(Obs, is_measurement=True).compose(psi_0)\n",
    "    expectation = PauliExpectation().convert(measurable_expression)  \n",
    "    sampler = CircuitSampler(q_instance).convert(expectation) \n",
    "    E = sampler.eval().real\n",
    "    E_ex = expectation_exact(psi_0,Obs)\n",
    "        \n",
    "    return (E,E_ex)\n",
    "\n",
    "#task to calculate operator from coordinates\n",
    "def task2(coordinates):\n",
    "    \n",
    "    #get qubit operators coresponding to H+ (hamiltonian for atomic distances R + dR)\n",
    "    (qubit_op_plus, num_part_plus, num_orb_plus, problem_plus, converter_plus) = get_qubit_op(coordinates[0])\n",
    "    #get qubit operators coresponding to H- (hamiltonian for atomic distances R - dR)\n",
    "    (qubit_op_minus, num_part_minus, num_orb_minus, problem_minus, converter_minus) = get_qubit_op(coordinates[1])\n",
    "        \n",
    "    qubit_op_plus = qubit_op_plus #TODO:number of I's needs to be changed according to number of qubits\n",
    "    qubit_op_minus = qubit_op_minus\n",
    "       \n",
    "    #op =  (-(qubit_op_plus - qubit_op_minus)).reduce()\n",
    "    op =  -(qubit_op_plus - qubit_op_minus)\n",
    "\n",
    "                    \n",
    "    op_list = op.primitive.to_list() #list containing Pauli operators in support and corresponding coeffs\n",
    "    #print(op_list)    \n",
    "    #construct dict from list\n",
    "    op_dict = {}\n",
    "    for (PauliString,coeff) in op_list:\n",
    "\n",
    "        if PauliString in op_dict:\n",
    "            op_dict[PauliString] += coeff\n",
    "        else:\n",
    "            op_dict[PauliString] = coeff\n",
    "    \n",
    "    return op, op_dict\n",
    " \n",
    "def parallel_operators(coordinates,basis_set):\n",
    "    \n",
    "    \n",
    "    coordinate_list = []\n",
    "    \n",
    "    v0_normed = basis_set[0]\n",
    "    v0_orth = basis_set[1]\n",
    "    \n",
    "    v1_normed = basis_set[2]\n",
    "    v1_orth = basis_set[3]\n",
    "\n",
    "    v2_normed = basis_set[4]\n",
    "    v2_orth = basis_set[5]\n",
    "    \n",
    "    displ_coords_0_a = np.array([v0_normed[0]*dR,v0_normed[1]*dR,0,0,0,0])\n",
    "    displ_coords_0_b = np.array([v0_orth[0]*dR,v0_orth[1]*dR,0,0,0,0])\n",
    "    displ_coords_1_a = np.array([0,0,v1_normed[0]*dR,v1_normed[1]*dR,0,0])\n",
    "    displ_coords_1_b = np.array([0,0,v1_orth[0]*dR,v1_orth[1]*dR,0,0])\n",
    "    displ_coords_2_a = np.array([0,0,0,0,v2_normed[0]*dR,v2_normed[1]*dR])\n",
    "    displ_coords_2_b = np.array([0,0,0,0,v2_orth[0]*dR,v2_orth[1]*dR])\n",
    "    #print(displ_coords_0_a)\n",
    "    #print(displ_coords_0_b)\n",
    "    #print(displ_coords_1_a)\n",
    "    #print(displ_coords_1_b)\n",
    "    #print(displ_coords_2_a)\n",
    "    #print(displ_coords_2_b)\n",
    "\n",
    "    coordinate_list.append([coordinates + displ_coords_0_a,coordinates - displ_coords_0_a])\n",
    "    coordinate_list.append([coordinates + displ_coords_0_b,coordinates - displ_coords_0_b])\n",
    "    coordinate_list.append([coordinates + displ_coords_1_a,coordinates - displ_coords_1_a])\n",
    "    coordinate_list.append([coordinates + displ_coords_1_b,coordinates - displ_coords_1_b])\n",
    "    coordinate_list.append([coordinates + displ_coords_2_a,coordinates - displ_coords_2_a])\n",
    "    coordinate_list.append([coordinates + displ_coords_2_b,coordinates - displ_coords_2_b])\n",
    "    \n",
    "    #dR_list = v0_normed.tolist() + v1_normed.tolist() + v2_normed.tolist()\n",
    "    \n",
    "    dR_list = [dR,dR,dR,dR,dR,dR]\n",
    "    #print(dR_list)\n",
    "    #for i in range(len(coordinates)):\n",
    "        \n",
    "        #coordinate_list.append([coordinates[0:i]+[(coordinates[i]+dR_list[i])]+coordinates[i+1:],coordinates[0:i]+[(coordinates[i]-dR_list[i])]+coordinates[i+1:]])\n",
    "    \n",
    "    #print(coordinate_list)\n",
    "    with multiprocessing.Pool() as pool:\n",
    "         ops,op_coeffs = zip(*pool.map(task2, coordinate_list))\n",
    "    \n",
    "    #print(ops)\n",
    "    return ops, op_coeffs\n",
    "\n",
    "def sequential_operators(coordinates):\n",
    "    ops = []\n",
    "    op_coeffs = []\n",
    "    \n",
    "    for i in range(len(coordinates)):\n",
    "        \n",
    "        #get qubit operators coresponding to H+ (hamiltonian for atomic distances R + dR)\n",
    "        (qubit_op_plus, num_part_plus, num_orb_plus, problem_plus, converter_plus) = get_qubit_op(coordinates[0:i]+[(coordinates[i]+dR)]+coordinates[i+1:])\n",
    "        #get qubit operators coresponding to H- (hamiltonian for atomic distances R - dR)\n",
    "        (qubit_op_minus, num_part_minus, num_orb_minus, problem_minus, converter_minus) = get_qubit_op(coordinates[0:i]+[(coordinates[i]-dR)]+coordinates[i+1:])\n",
    "\n",
    "        rep_eng_plus = problem_plus.grouped_property_transformed.get_property(\"ElectronicEnergy\").nuclear_repulsion_energy\n",
    "        rep_eng_minus  = problem_minus.grouped_property_transformed.get_property(\"ElectronicEnergy\").nuclear_repulsion_energy\n",
    "        \n",
    "        qubit_op_plus = qubit_op_plus + rep_eng_plus*(I^I^I^I) #TODO:number of I's needs to be changed according to number of qubits\n",
    "        qubit_op_minus = qubit_op_minus + rep_eng_minus*(I^I^I^I)\n",
    "        \n",
    "       \n",
    "        op =  -(qubit_op_plus - qubit_op_minus).reduce()\n",
    "                    \n",
    "        op_list = op.primitive.to_list() #list containing Pauli operators in support and corresponding coeffs\n",
    "        \n",
    "        #construct dict from list\n",
    "        op_dict = {}\n",
    "        for (PauliString,coeff) in op_list:\n",
    "\n",
    "            if PauliString in op_dict:\n",
    "                op_dict[PauliString] += coeff\n",
    "            else:\n",
    "                op_dict[PauliString] = coeff\n",
    "                \n",
    "        ops.append(op)\n",
    "        op_coeffs.append(op_dict)\n",
    "    #print(ops)\n",
    "    return ops, op_coeffs\n",
    "\n",
    "def parallel_expectations(exp_dict_exact, exp_dict, op_set, q_instance, psi_0):\n",
    "\n",
    "    triples = []\n",
    "    for op in op_set:\n",
    "        triple = (op,q_instance,psi_0)\n",
    "        triples.append(triple)\n",
    "\n",
    "    Es = 0\n",
    "    with multiprocessing.Pool() as pool:\n",
    "        Es,E_ex = zip(*pool.starmap(task1, triples))\n",
    "        #print(Es)\n",
    "        #print(E_ex)\n",
    "        #Es,E_ex = pool.starmap(task1, triples)\n",
    "    for i in range(len(Es)):\n",
    "        \n",
    "        exp_dict[triples[i][0]]=Es[i]\n",
    "        exp_dict_exact[triples[i][0]]=E_ex[i]\n",
    "                       \n",
    "    return 0\n",
    "\n",
    "def sequential_expectations(exp_dict, op_set, q_instance, psi_0):\n",
    "\n",
    "    for pauli_string in op_set:\n",
    "        \n",
    "        Obs = PauliOp(Pauli(pauli_string))\n",
    "        measurable_expression = StateFn(Obs, is_measurement=True).compose(psi_0)\n",
    "        expectation = PauliExpectation().convert(measurable_expression)  \n",
    "        sampler = CircuitSampler(q_instance).convert(expectation) \n",
    "        E = sampler.eval().real\n",
    "        exp_dict[pauli_string] = E\n",
    "\n",
    "    return 0\n",
    "\n",
    "def get_psi_0(coordinates, simulator='qasm',shots=1028):\n",
    "\n",
    "    #get qubit operator corresponding to H(R)\n",
    "    (qubit_op, num_part, num_orb, problem, converter) = get_qubit_op(coordinates)\n",
    "    \n",
    "    #get the ground state of H(R)\n",
    "    psi_0,_ = calc_ground_state(qubit_op,num_part, num_orb, problem, converter)\n",
    "    \n",
    "    psi_0 = CircuitStateFn(psi_0)\n",
    "\n",
    "    return psi_0\n",
    "\n",
    "def calc_force_and_cov(coordinates, simulator = 'qasm', PauliSet = None, mode = 'full', shots = 128, basis_set_this=None):\n",
    "  \n",
    "    \n",
    "    if simulator == 'qasm':\n",
    "            backend = Aer.get_backend('qasm_simulator')\n",
    "            #backend.set_options(max_job_size=1, executor = euler_client)\n",
    "            q_instance = QuantumInstance(backend, shots=shots)\n",
    "    elif simulator == \"exact\":\n",
    "            backend = BasicAer.get_backend(\"statevector_simulator\")\n",
    "            q_instance = QuantumInstance(backend)\n",
    "    else:\n",
    "        print('Error: simulator should be qasm or exact!')\n",
    "        \n",
    "    num_coord = len(coordinates)   \n",
    "    \n",
    "    start = time.time()\n",
    "    \n",
    "\n",
    "    psi_0 = get_psi_0(coordinates, simulator = simulator, shots=shots)\n",
    "    \n",
    "    end = time.time()\n",
    "    \n",
    "    \n",
    "    time_psi_0 = end - start\n",
    "    #print(\"Took \" + str(time_psi_0) + \" s to calculate the ground state\")\n",
    "    forces = np.zeros(num_coord)\n",
    "    forces_exact = np.zeros(num_coord)\n",
    "    coordinates = coordinates.tolist()\n",
    "    \n",
    "    \n",
    "    coordinates_this = np.array(coordinates)\n",
    "    COM = calc_COM(coordinates_this)\n",
    "    coords = np.array_split(coordinates_this,3)\n",
    "    #print(coords)\n",
    "    #print(COM)\n",
    "    v0 = coords[0] - COM\n",
    "    v1 = coords[1] - COM\n",
    "    v2 = coords[2] - COM\n",
    "    \n",
    "    v0_normed = np.array(v0/np.sqrt(v0[0]**2+v0[1]**2))\n",
    "    v0_orth = np.array([v0_normed[1],-v0_normed[0]])\n",
    "    \n",
    "    v1_normed = np.array(v1/np.sqrt(v1[0]**2+v1[1]**2))\n",
    "    v1_orth = np.array([v1_normed[1],-v1_normed[0]])\n",
    "\n",
    "    v2_normed = np.array(v2/np.sqrt(v2[0]**2+v2[1]**2))\n",
    "    v2_orth = np.array([v2_normed[1],-v2_normed[0]])\n",
    "    \n",
    "    #rotated basis\n",
    "    if basis_set_this == \"rotated\":\n",
    "        basis_set = [v0_normed,v0_orth,v1_normed,v1_orth,v2_normed,v2_orth]\n",
    "    #cartesian basis\n",
    "    elif basis_set_this == \"cartesian\":\n",
    "        basis_set = [[1,0],[0,1],[1,0],[0,1],[1,0],[0,1]]\n",
    "    \n",
    "    #basis_set = basis_set_this\n",
    "\n",
    "    transform_matrix = np.array([[basis_set[0][0],basis_set[1][0],0,0,0,0],\n",
    "                                 [basis_set[0][1],basis_set[1][1],0,0,0,0],\n",
    "                                 [0,0,basis_set[2][0],basis_set[3][0],0,0],\n",
    "                                 [0,0,basis_set[2][1],basis_set[3][1],0,0],\n",
    "                                 [0,0,0,0,basis_set[4][0],basis_set[5][0]],\n",
    "                                 [0,0,0,0,basis_set[4][1],basis_set[5][1]]])\n",
    "    \n",
    "    transform_matrix_inv = np.linalg.inv(transform_matrix)\n",
    "    \n",
    "    start = time.time()\n",
    "    #get force component operators and decomposition (without the 1/(2*dR) factor, for numerical reasons)\n",
    "    #replace parallel_ with sequential_ to see effect of parallelization\n",
    "    force_ops,force_op_coeffs = parallel_operators(coordinates,basis_set)\n",
    "    \n",
    "    #for ops in force_ops:\n",
    "        #print(len(ops))\n",
    "        \n",
    "    P1 = force_ops[0]\n",
    "    \n",
    "    if PauliSet == None:\n",
    "        \n",
    "        pauli_op_set = {'IIII'} #Could not initialize empty set for some reason\n",
    "        # construct set of PauliOp products that we need to calculate\n",
    "\n",
    "        for PauliString,coeff in force_op_coeffs[0].items():\n",
    "            pauli_op_set.add(PauliString)\n",
    "\n",
    "        #to get set of necessary PauliOp products:\n",
    "        \n",
    "            P_prod = (P1@P1)\n",
    "            P_list = P_prod.primitive.to_list()\n",
    "\n",
    "            for (PauliString,coeff) in P_list:\n",
    "                pauli_op_set.add(PauliString)\n",
    "                \n",
    "    else: pauli_op_set = PauliSet\n",
    "        \n",
    "    end = time.time()\n",
    "    \n",
    "    time_pauli_ops = end - start\n",
    "        \n",
    "\n",
    "        # Now we calculate the expectation values of all the relevant PauliOps\n",
    "    \n",
    "    start = time.time()\n",
    "    exp_dict = {} # dictionary with relevant expectation values\n",
    "    exp_dict_exact = {}  # dictionary with exact relevant expectation values\n",
    "        \n",
    "    #switch between parallel_ and sequential_ to see the effect\n",
    "    \n",
    "    parallel_expectations(exp_dict_exact,exp_dict,pauli_op_set,q_instance,psi_0)\n",
    "    \n",
    "\n",
    "    for i in range(len(coordinates)):\n",
    "        for pauli_op,coeff in force_op_coeffs[i].items():\n",
    "            forces[i] += coeff.real*exp_dict[pauli_op]\n",
    "            forces_exact[i] += coeff.real*exp_dict_exact[pauli_op]\n",
    "    \n",
    "    #forces[1] = 0\n",
    "    #forces[3] = 0\n",
    "    #forces[5] = 0\n",
    "    \n",
    "    if basis_set_this == \"rotated\":\n",
    "        forces_return = np.matmul(transform_matrix,np.array(forces))\n",
    "    elif basis_set_this == \"cartesian\":\n",
    "        forces_return = forces\n",
    "        \n",
    "    #print(forces)\n",
    "            \n",
    "    end = time.time()   \n",
    "    time_calc_exp = end - start\n",
    "    \n",
    "    \n",
    "    start = time.time()\n",
    "    COV = np.zeros((num_coord,num_coord)) #force covariance matrix, without some multiplicative factors. \n",
    "        \n",
    "    for i in range(num_coord):\n",
    "        for j in range(i,num_coord):\n",
    "\n",
    "            Pij = force_ops[i]@force_ops[j]\n",
    "                \n",
    "            Pij_list = Pij.primitive.to_list()\n",
    "\n",
    "            #add product expectation \n",
    "            \n",
    "            for (pauli_string,coeff) in Pij_list:\n",
    "                COV[i,j] += coeff.real*exp_dict_exact[pauli_string]\n",
    "                    #subtract \n",
    "            COV[i,j] -= forces_exact[i]*forces_exact[j]\n",
    "            \n",
    "            #diagonal mode\n",
    "            if i != j:\n",
    "                COV[i,j] = 0\n",
    "            #since COV is symmetric\n",
    "            \n",
    "            if i < j:\n",
    "                COV[j,i] = COV[i,j]\n",
    "            \n",
    "            \n",
    "                \n",
    "    #print(COV)            \n",
    "    end = time.time()\n",
    "    \n",
    "    if basis_set_this == \"rotated\":\n",
    "        #print(COV)\n",
    "        COV_1 = np.matmul(COV,transform_matrix)\n",
    "        COV_2 = np.matmul(transform_matrix_inv,COV_1)\n",
    "        COV_return = COV_2\n",
    "        #COV_return = COV\n",
    "        #print(COV_return)\n",
    "    elif basis_set_this == \"cartesian\":    \n",
    "        COV_return = COV\n",
    "        \n",
    "    time_cov = end - start\n",
    "\n",
    "    print(f'Time to: Calculate Ground State - {round(time_psi_0,2)}s, Get Pauli Ops - {round(time_pauli_ops,2)}s, Calculate Pauli Expectation Values - {round(time_calc_exp,2)}s, Calculate Covariance - {round(time_cov,2)}s')\n",
    "    #print(COV)\n",
    "    \n",
    "    return forces_return*Ha*(1/(2*dR*angst)),COV_return*(Ha*(1/(2*dR*angst)))**2"
   ]
  },
  {
   "cell_type": "code",
   "execution_count": 3,
   "id": "5ae5fde0",
   "metadata": {},
   "outputs": [],
   "source": [
    "#from Quantech.verlet_integrator import distance\n",
    "#from force import calc_force_and_cov\n",
    "import numpy as np\n",
    "from tqdm import tqdm #to show progress\n",
    "\n",
    "\n",
    "#implementation of the explicit Euler integrator\n",
    "femto = 1.0e-15\n",
    "angst = 1.0e-10\n",
    "\n",
    "def calc_COM(coordinates):\n",
    "    #print(coordinates)\n",
    "    r_array = np.array_split(coordinates,3)\n",
    "    COM = (r_array[0] + r_array[1] + r_array[2])/3\n",
    "    \n",
    "    return COM\n",
    "\n",
    "def distance(coordinates1,coordinates2):\n",
    "    return np.sqrt(np.power((coordinates1[0] - coordinates2[0]),2) + np.power((coordinates1[1] - coordinates2[1]),2))\n",
    "\n",
    "    \n",
    "\n",
    "\n",
    "def main():\n",
    "    \n",
    "    f = open(\"128k_diag.txt\",\"w\")\n",
    "    \n",
    "    #mass of particle1 (H)\n",
    "    mass_0 = 1.67e-27\n",
    "    #mass of particle2 (H)\n",
    "    mass_1 = 1.67e-27\n",
    "    #mass of particle3 (H)\n",
    "    mass_2 = 1.67e-27\n",
    "    #time step of integrator\n",
    "    dt = 0.2*femto\n",
    "    \n",
    "    mass = mass_0\n",
    "\n",
    "    #distances between atoms\n",
    "    d = 0.8\n",
    "    #rotation angle of the initial triangle\n",
    "    b = 0/180*np.pi\n",
    "    \n",
    "    #initial positions of atoms, arrangement = equilateral triangle\n",
    "    x1_init = np.array([-d/2*np.cos(b)+np.sin(b)*np.sqrt(3)/6*d,-d/2*np.sin(b)-np.cos(b)*np.sqrt(3)/6*d])+np.array([0,d*np.sqrt(3)/6])\n",
    "    x2_init = np.array([d/2*np.cos(b)+np.sin(b)*np.sqrt(3)/6*d,d/2*np.sin(b)-np.cos(b)*np.sqrt(3)/6*d])+np.array([0,d*np.sqrt(3)/6])\n",
    "    x3_init = np.array([-np.sin(b)*np.sqrt(3)/3*d,np.cos(b)*np.sqrt(3)/3*d])+np.array([0,d*np.sqrt(3)/6])\n",
    "    \n",
    "    \n",
    "    init_pos0 = x1_init\n",
    "    init_pos1 = x2_init\n",
    "    init_pos2 = x3_init\n",
    "    \n",
    "    init_pos = np.concatenate((init_pos0,init_pos1,init_pos2),axis=None)\n",
    "    \n",
    "    ##initialize velocities in the direction of the COM for each particle\n",
    "    \n",
    "    COM = calc_COM(init_pos)\n",
    "    \n",
    "    c0 = COM - init_pos0\n",
    "    c1 = COM - init_pos1\n",
    "    c2 = COM - init_pos2\n",
    "    \n",
    "    dir0 = c0/np.sqrt(c0[0]**2+c0[1]**2)\n",
    "    dir1 = c1/np.sqrt(c1[0]**2+c1[1]**2)\n",
    "    dir2 = c2/np.sqrt(c2[0]**2+c2[1]**2)\n",
    "\n",
    "    v_init_mag = 0\n",
    "\n",
    "    v_init = np.concatenate((dir0,dir1,dir2),axis=None)*v_init_mag\n",
    "    \n",
    "    \n",
    "\n",
    "    #integrator timesteps\n",
    "    \n",
    "    timeB = 0\n",
    "    timeE = 100\n",
    "    times = np.arange(timeB*femto, timeE*femto, dt)\n",
    "    \n",
    "    \n",
    "    #print(times)\n",
    "    #coordinate array\n",
    "    coords = [init_pos]\n",
    "    force = []\n",
    "    distance01 = [d]\n",
    "    distance02 = [d]\n",
    "    distance12 = [d]\n",
    "    #temperature in ?? \n",
    "    #k_B*T in Joule\n",
    "    k_b = 1.38065e-23\n",
    "    T = 420\n",
    "    k_T = k_b*T\n",
    "        #delta factor\n",
    "        \n",
    "    delta = 0.2*dt\n",
    "    \n",
    "    temperature = []\n",
    "    #hold v_next\n",
    "    \n",
    "    v_next = None\n",
    "    \n",
    "    simulator = 'qasm'\n",
    "    COM = calc_COM(init_pos)\n",
    "    coords_loc = np.array_split(init_pos,3)\n",
    "    forces_array = []\n",
    "    velocities_array = []\n",
    "    velocities_array.append(v_init.tolist())\n",
    "    coords_array = []\n",
    "    coords_array.append(init_pos.tolist())\n",
    "    \n",
    "    n_dof = 3\n",
    "    \n",
    "    #\"cartesian\" or \"rotated\"\n",
    "    \n",
    "    basis_set = \"rotated\"\n",
    "    \n",
    "    diag_elems = []\n",
    "    \n",
    "    shots = 128000\n",
    "    \n",
    "    for time in tqdm(times, desc='Progress: '):\n",
    "        \n",
    "        #time = 0\n",
    "        \n",
    "        r = coords[-1]\n",
    "        #print(r)\n",
    "        \n",
    "        (forces,COV) = calc_force_and_cov(r, simulator = simulator, shots = shots, basis_set_this=basis_set)\n",
    "        #diag_elems.append(COV[0][0])\n",
    "        #print(diag_elems)\n",
    "        \n",
    "        forces_array.append(forces.tolist())\n",
    "        \n",
    "        f1 = distance(np.array([forces[0],forces[1]]),np.array([0,0]))\n",
    "        \n",
    "        f2 = distance(np.array([forces[2],forces[3]]),np.array([0,0]))\n",
    "        \n",
    "        f3 = distance(np.array([forces[4],forces[5]]),np.array([0,0]))    \n",
    "        \n",
    "        print(\"f0,f1,f2 = \" + str([f1,f2,f3]))\n",
    "        \n",
    "        \n",
    "        if time == 0:\n",
    "            \n",
    "            #v_sample = v_init\n",
    "            \n",
    "            #velocities = np.array(np.array_split(v_sample,3))\n",
    "            \n",
    "            #kin_eng = np.sum(velocities**2*mass/2, axis=1)\n",
    "            \n",
    "            #k_T = 2*np.sum(kin_eng)/np.size(kin_eng)/n_dof\n",
    "            \n",
    "            #temperature.append(k_T/k_b)\n",
    "            #k_T = k_b * T\n",
    "            #print(temperature)\n",
    "            \n",
    "            v_next = v_init - delta/(2*k_T*np.power(mass_0*mass_1*mass_2,1/3))*np.matmul(COV,v_init)*dt + dt*forces/mass_0\n",
    "            \n",
    "            r_next = (r*angst + dt*v_next)/angst\n",
    "\n",
    "            #r_split = np.array_split(r_next,3)\n",
    "\n",
    "            coords.append(r_next)\n",
    "\n",
    "        else:\n",
    "            \n",
    "            #v_sample = v_next\n",
    "            \n",
    "            #velocities = np.array(np.array_split(v_sample,3))\n",
    "            \n",
    "            #kin_eng = np.sum(velocities**2*mass/2, axis=1)\n",
    "            \n",
    "            #k_T = 2*np.sum(kin_eng)/np.size(kin_eng)/n_dof\n",
    "            \n",
    "            #temperature.append(k_T/k_b)\n",
    "            \n",
    "            v_next += - delta/(2*k_T*np.power(mass_0*mass_1*mass_2,1/3))*np.matmul(COV,v_next)*dt + dt*forces/mass_0\n",
    "            \n",
    "            r_next = (r*angst + dt*v_next)/angst\n",
    "\n",
    "            #r_split = np.array_split(r_next,3)\n",
    "            \n",
    "            coords.append(r_next)\n",
    "            \n",
    "        velocities_array.append(v_next.tolist())  \n",
    "        coords_array.append(coords[-1].tolist())\n",
    "        \n",
    "        r = np.array_split(coords[-1],3)\n",
    "        d01 = distance(r[0],r[1])\n",
    "        d02 = distance(r[0],r[2])\n",
    "        d12 = distance(r[1],r[2])\n",
    "        print(\"d01,d02,d12 = \" + str([d01,d02,d12]))\n",
    "        #print(\"Temp:\" + str(temperature[-1]) + \"K\")\n",
    "        #print(temperature[-1])\n",
    "        \n",
    "        dists = np.split(coords[-1],3)\n",
    "        d01 = distance(dists[0],dists[1])\n",
    "        distance01.append(d01)\n",
    "        d02 = distance(dists[0],dists[2])\n",
    "        distance02.append(d02)\n",
    "        d12 = distance(dists[1],dists[2])\n",
    "        distance12.append(d12)\n",
    "        \n",
    "    timess = times.tolist()\n",
    "    timess.append(timeE*femto)\n",
    "    \n",
    "    #f.write('diagonal elements for n = ' + str(shots) + \" no of shots\" + '\\n')\n",
    "    #f.write(str(diag_elems))\n",
    "    \n",
    "    \n",
    "    f.write('times \\n')\n",
    "    f.write(str(timess) + \"\\n\")\n",
    "    f.write(\"coordinates \\n\")\n",
    "    f.write(str(coords_array) + \"\\n\")\n",
    "    f.write(\"velocities \\n\")\n",
    "    f.write(str(velocities_array) + \"\\n\")\n",
    "    f.write(\"forces \\n\")\n",
    "    f.write(str(forces_array) + \"\\n\")\n",
    "    f.write(\"temperatures \\n\")\n",
    "    f.write(str(temperature) + \"\\n\")\n",
    "    \n",
    "    return (distance01,distance02,distance12,times) "
   ]
  },
  {
   "cell_type": "code",
   "execution_count": 4,
   "id": "be5bb22e",
   "metadata": {
    "scrolled": true
   },
   "outputs": [
    {
     "name": "stderr",
     "output_type": "stream",
     "text": [
      "Progress:   0%|          | 1/500 [00:24<3:24:38, 24.61s/it]"
     ]
    },
    {
     "name": "stdout",
     "output_type": "stream",
     "text": [
      "Time to: Calculate Ground State - 2.41s, Get Pauli Ops - 6.7s, Calculate Pauli Expectation Values - 12.25s, Calculate Covariance - 2.99s\n",
      "f0,f1,f2 = [1.1977054195763872e-08, 1.1977054195772117e-08, 1.1977054195761165e-08]\n",
      "d01,d02,d12 = [0.8049688302735506, 0.8049688302735494, 0.804968830273551]\n"
     ]
    },
    {
     "name": "stderr",
     "output_type": "stream",
     "text": [
      "Progress:   0%|          | 2/500 [00:49<3:23:58, 24.58s/it]"
     ]
    },
    {
     "name": "stdout",
     "output_type": "stream",
     "text": [
      "Time to: Calculate Ground State - 1.65s, Get Pauli Ops - 8.86s, Calculate Pauli Expectation Values - 11.17s, Calculate Covariance - 2.87s\n",
      "f0,f1,f2 = [1.1961321558574294e-08, 1.196132155858215e-08, 1.1961321558574147e-08]\n",
      "d01,d02,d12 = [0.8148258532158232, 0.8148258532158219, 0.8148258532158236]\n"
     ]
    },
    {
     "name": "stderr",
     "output_type": "stream",
     "text": [
      "Progress:   1%|          | 3/500 [01:13<3:24:22, 24.67s/it]"
     ]
    },
    {
     "name": "stdout",
     "output_type": "stream",
     "text": [
      "Time to: Calculate Ground State - 1.54s, Get Pauli Ops - 9.76s, Calculate Pauli Expectation Values - 10.96s, Calculate Covariance - 2.52s\n",
      "f0,f1,f2 = [1.0889811754179102e-08, 1.088981175417904e-08, 1.088981175417784e-08]\n",
      "d01,d02,d12 = [0.8290544379936832, 0.8290544379936862, 0.8290544379936851]\n"
     ]
    },
    {
     "name": "stderr",
     "output_type": "stream",
     "text": [
      "Progress:   1%|          | 4/500 [01:37<3:18:59, 24.07s/it]"
     ]
    },
    {
     "name": "stdout",
     "output_type": "stream",
     "text": [
      "Time to: Calculate Ground State - 1.41s, Get Pauli Ops - 6.93s, Calculate Pauli Expectation Values - 11.65s, Calculate Covariance - 3.15s\n",
      "f0,f1,f2 = [1.1080598747286274e-08, 1.10805987472693e-08, 1.108059874730705e-08]\n",
      "d01,d02,d12 = [0.847670459743531, 0.8476704597435496, 0.8476704597435496]\n"
     ]
    },
    {
     "name": "stderr",
     "output_type": "stream",
     "text": [
      "/cluster/home/mskrabulis/miniconda3/envs/quantech/lib/python3.9/site-packages/pyscf/symm/Dmatrix.py:156: RuntimeWarning: invalid value encountered in arccos\n",
      "  gamma = numpy.arccos(yp.dot(c2[1]))\n",
      "/cluster/home/mskrabulis/miniconda3/envs/quantech/lib/python3.9/site-packages/pyscf/symm/Dmatrix.py:156: RuntimeWarning: invalid value encountered in arccos\n",
      "  gamma = numpy.arccos(yp.dot(c2[1]))\n",
      "Progress:   1%|          | 5/500 [02:03<3:24:50, 24.83s/it]"
     ]
    },
    {
     "name": "stdout",
     "output_type": "stream",
     "text": [
      "Time to: Calculate Ground State - 1.3s, Get Pauli Ops - 6.83s, Calculate Pauli Expectation Values - 15.06s, Calculate Covariance - 2.97s\n",
      "f0,f1,f2 = [7.416614876323528e-09, 7.416614876313995e-09, 7.416614876324239e-09]\n",
      "d01,d02,d12 = [0.8690916920795729, 0.8690916920796238, 0.8690916920796284]\n"
     ]
    },
    {
     "name": "stderr",
     "output_type": "stream",
     "text": [
      "Progress:   1%|          | 6/500 [02:29<3:28:37, 25.34s/it]"
     ]
    },
    {
     "name": "stdout",
     "output_type": "stream",
     "text": [
      "Time to: Calculate Ground State - 1.57s, Get Pauli Ops - 6.83s, Calculate Pauli Expectation Values - 15.27s, Calculate Covariance - 2.65s\n",
      "f0,f1,f2 = [6.022941246263262e-09, 6.0229412462571945e-09, 6.0229412463238165e-09]\n",
      "d01,d02,d12 = [0.8927017767218222, 0.8927017767219501, 0.8927017767219504]\n"
     ]
    },
    {
     "name": "stderr",
     "output_type": "stream",
     "text": [
      "Progress:   1%|▏         | 7/500 [02:51<3:19:31, 24.28s/it]"
     ]
    },
    {
     "name": "stdout",
     "output_type": "stream",
     "text": [
      "Time to: Calculate Ground State - 1.6s, Get Pauli Ops - 7.24s, Calculate Pauli Expectation Values - 10.83s, Calculate Covariance - 2.44s\n",
      "f0,f1,f2 = [4.281981564551622e-09, 4.281981564558367e-09, 4.281981564546995e-09]\n",
      "d01,d02,d12 = [0.9177495402436424, 0.9177495402438314, 0.9177495402438174]\n"
     ]
    },
    {
     "name": "stderr",
     "output_type": "stream",
     "text": [
      "Progress:   2%|▏         | 8/500 [03:13<3:12:50, 23.52s/it]"
     ]
    },
    {
     "name": "stdout",
     "output_type": "stream",
     "text": [
      "Time to: Calculate Ground State - 1.52s, Get Pauli Ops - 6.45s, Calculate Pauli Expectation Values - 11.21s, Calculate Covariance - 2.68s\n",
      "f0,f1,f2 = [4.537750270156633e-09, 4.537750270125978e-09, 4.537750270168776e-09]\n",
      "d01,d02,d12 = [0.9443228252661726, 0.9443228252664553, 0.9443228252663974]\n"
     ]
    },
    {
     "name": "stderr",
     "output_type": "stream",
     "text": [
      "Progress:   2%|▏         | 9/500 [03:35<3:07:44, 22.94s/it]"
     ]
    },
    {
     "name": "stdout",
     "output_type": "stream",
     "text": [
      "Time to: Calculate Ground State - 1.52s, Get Pauli Ops - 7.02s, Calculate Pauli Expectation Values - 10.72s, Calculate Covariance - 2.41s\n",
      "f0,f1,f2 = [1.5359190783042434e-09, 1.5359190783344123e-09, 1.5359190782660376e-09]\n",
      "d01,d02,d12 = [0.9711563686408938, 0.9711563686412471, 0.9711563686411442]\n"
     ]
    },
    {
     "name": "stderr",
     "output_type": "stream",
     "text": [
      "Progress:   2%|▏         | 10/500 [03:55<3:00:51, 22.14s/it]"
     ]
    },
    {
     "name": "stdout",
     "output_type": "stream",
     "text": [
      "Time to: Calculate Ground State - 1.51s, Get Pauli Ops - 5.89s, Calculate Pauli Expectation Values - 10.68s, Calculate Covariance - 2.27s\n",
      "f0,f1,f2 = [7.178953375123381e-10, 7.178953375123214e-10, 7.17895337518391e-10]\n",
      "d01,d02,d12 = [0.9979081630481333, 0.9979081630485739, 0.9979081630484131]\n"
     ]
    },
    {
     "name": "stderr",
     "output_type": "stream",
     "text": [
      "Progress:   2%|▏         | 11/500 [04:18<3:01:44, 22.30s/it]"
     ]
    },
    {
     "name": "stdout",
     "output_type": "stream",
     "text": [
      "Time to: Calculate Ground State - 1.59s, Get Pauli Ops - 6.86s, Calculate Pauli Expectation Values - 10.89s, Calculate Covariance - 3.29s\n",
      "f0,f1,f2 = [7.146554335415882e-10, 7.146554335566372e-10, 7.146554335986925e-10]\n",
      "d01,d02,d12 = [1.0239853706068844, 1.023985370607429, 1.023985370607185]\n"
     ]
    },
    {
     "name": "stderr",
     "output_type": "stream",
     "text": [
      "Progress:   2%|▏         | 12/500 [04:41<3:04:42, 22.71s/it]"
     ]
    },
    {
     "name": "stdout",
     "output_type": "stream",
     "text": [
      "Time to: Calculate Ground State - 1.68s, Get Pauli Ops - 7.34s, Calculate Pauli Expectation Values - 11.37s, Calculate Covariance - 3.26s\n",
      "f0,f1,f2 = [6.125854237953359e-10, 6.125854238035263e-10, 6.125854238000338e-10]\n",
      "d01,d02,d12 = [1.0494395801339036, 1.0494395801345409, 1.049439580134217]\n"
     ]
    },
    {
     "name": "stderr",
     "output_type": "stream",
     "text": [
      "Progress:   3%|▎         | 13/500 [05:03<3:02:42, 22.51s/it]"
     ]
    },
    {
     "name": "stdout",
     "output_type": "stream",
     "text": [
      "Time to: Calculate Ground State - 1.6s, Get Pauli Ops - 7.2s, Calculate Pauli Expectation Values - 10.72s, Calculate Covariance - 2.52s\n",
      "f0,f1,f2 = [1.792971303033254e-09, 1.7929713030592628e-09, 1.7929713030919026e-09]\n",
      "d01,d02,d12 = [1.0737891612407693, 1.0737891612414923, 1.0737891612410684]\n"
     ]
    },
    {
     "name": "stderr",
     "output_type": "stream",
     "text": [
      "Progress:   3%|▎         | 14/500 [05:26<3:01:26, 22.40s/it]"
     ]
    },
    {
     "name": "stdout",
     "output_type": "stream",
     "text": [
      "Time to: Calculate Ground State - 1.56s, Get Pauli Ops - 7.02s, Calculate Pauli Expectation Values - 10.94s, Calculate Covariance - 2.62s\n",
      "f0,f1,f2 = [3.147138344178881e-09, 3.14713834423861e-09, 3.1471383442327858e-09]\n",
      "d01,d02,d12 = [1.0964869607025594, 1.0964869607033925, 1.096486960702864]\n"
     ]
    },
    {
     "name": "stderr",
     "output_type": "stream",
     "text": [
      "/cluster/home/mskrabulis/miniconda3/envs/quantech/lib/python3.9/site-packages/pyscf/symm/Dmatrix.py:156: RuntimeWarning: invalid value encountered in arccos\n",
      "  gamma = numpy.arccos(yp.dot(c2[1]))\n",
      "Progress:   3%|▎         | 15/500 [05:48<3:02:06, 22.53s/it]"
     ]
    },
    {
     "name": "stdout",
     "output_type": "stream",
     "text": [
      "Time to: Calculate Ground State - 1.55s, Get Pauli Ops - 7.09s, Calculate Pauli Expectation Values - 11.11s, Calculate Covariance - 3.07s\n",
      "f0,f1,f2 = [2.8493940449307285e-09, 2.8493940449215282e-09, 2.8493940449780755e-09]\n",
      "d01,d02,d12 = [1.1176788814179843, 1.1176788814189382, 1.1176788814182907]\n"
     ]
    },
    {
     "name": "stderr",
     "output_type": "stream",
     "text": [
      "/cluster/home/mskrabulis/miniconda3/envs/quantech/lib/python3.9/site-packages/pyscf/symm/Dmatrix.py:156: RuntimeWarning: invalid value encountered in arccos\n",
      "  gamma = numpy.arccos(yp.dot(c2[1]))\n",
      "/cluster/home/mskrabulis/miniconda3/envs/quantech/lib/python3.9/site-packages/pyscf/symm/Dmatrix.py:156: RuntimeWarning: invalid value encountered in arccos\n",
      "  gamma = numpy.arccos(yp.dot(c2[1]))\n",
      "Progress:   3%|▎         | 16/500 [06:10<2:59:55, 22.30s/it]"
     ]
    },
    {
     "name": "stdout",
     "output_type": "stream",
     "text": [
      "Time to: Calculate Ground State - 1.53s, Get Pauli Ops - 6.97s, Calculate Pauli Expectation Values - 10.78s, Calculate Covariance - 2.49s\n",
      "f0,f1,f2 = [5.42273173049075e-09, 5.4227317304365255e-09, 5.422731730455566e-09]\n",
      "d01,d02,d12 = [1.136317727118699, 1.1363177271197555, 1.1363177271190237]\n"
     ]
    },
    {
     "name": "stderr",
     "output_type": "stream",
     "text": [
      "Progress:   3%|▎         | 17/500 [06:31<2:55:13, 21.77s/it]"
     ]
    },
    {
     "name": "stdout",
     "output_type": "stream",
     "text": [
      "Time to: Calculate Ground State - 1.49s, Get Pauli Ops - 6.17s, Calculate Pauli Expectation Values - 11.14s, Calculate Covariance - 1.7s\n",
      "f0,f1,f2 = [4.892619131501329e-09, 4.892619131469819e-09, 4.892619131477767e-09]\n",
      "d01,d02,d12 = [1.1526556827542138, 1.1526556827553516, 1.1526556827545524]\n"
     ]
    },
    {
     "name": "stderr",
     "output_type": "stream",
     "text": [
      "/cluster/home/mskrabulis/miniconda3/envs/quantech/lib/python3.9/site-packages/pyscf/symm/Dmatrix.py:156: RuntimeWarning: invalid value encountered in arccos\n",
      "  gamma = numpy.arccos(yp.dot(c2[1]))\n",
      "Progress:   4%|▎         | 18/500 [06:57<3:05:48, 23.13s/it]"
     ]
    },
    {
     "name": "stdout",
     "output_type": "stream",
     "text": [
      "Time to: Calculate Ground State - 1.55s, Get Pauli Ops - 10.04s, Calculate Pauli Expectation Values - 11.79s, Calculate Covariance - 2.9s\n",
      "f0,f1,f2 = [5.482746731704092e-09, 5.482746731688592e-09, 5.482746731759861e-09]\n",
      "d01,d02,d12 = [1.166480849111314, 1.1664808491125298, 1.1664808491116514]\n"
     ]
    },
    {
     "name": "stderr",
     "output_type": "stream",
     "text": [
      "Progress:   4%|▍         | 19/500 [07:18<3:00:37, 22.53s/it]"
     ]
    },
    {
     "name": "stdout",
     "output_type": "stream",
     "text": [
      "Time to: Calculate Ground State - 1.52s, Get Pauli Ops - 6.47s, Calculate Pauli Expectation Values - 11.02s, Calculate Covariance - 2.12s\n",
      "f0,f1,f2 = [4.533629988926786e-09, 4.53362998887856e-09, 4.533629988943027e-09]\n",
      "d01,d02,d12 = [1.1782232142150268, 1.1782232142163096, 1.1782232142153621]\n"
     ]
    },
    {
     "name": "stderr",
     "output_type": "stream",
     "text": [
      "Progress:   4%|▍         | 20/500 [07:41<3:00:12, 22.53s/it]"
     ]
    },
    {
     "name": "stdout",
     "output_type": "stream",
     "text": [
      "Time to: Calculate Ground State - 1.52s, Get Pauli Ops - 6.96s, Calculate Pauli Expectation Values - 10.98s, Calculate Covariance - 3.04s\n",
      "f0,f1,f2 = [5.3845578383247224e-09, 5.384557838310504e-09, 5.384557838286376e-09]\n",
      "d01,d02,d12 = [1.1875598961638307, 1.1875598961651794, 1.1875598961641565]\n"
     ]
    },
    {
     "name": "stderr",
     "output_type": "stream",
     "text": [
      "Progress:   4%|▍         | 21/500 [08:02<2:57:05, 22.18s/it]"
     ]
    },
    {
     "name": "stdout",
     "output_type": "stream",
     "text": [
      "Time to: Calculate Ground State - 1.54s, Get Pauli Ops - 6.94s, Calculate Pauli Expectation Values - 10.57s, Calculate Covariance - 2.32s\n",
      "f0,f1,f2 = [6.040841946399576e-09, 6.040841946401964e-09, 6.040841946417154e-09]\n",
      "d01,d02,d12 = [1.1942536471234257, 1.1942536471248384, 1.1942536471237504]\n"
     ]
    },
    {
     "name": "stderr",
     "output_type": "stream",
     "text": [
      "Progress:   4%|▍         | 22/500 [08:25<2:57:27, 22.28s/it]"
     ]
    },
    {
     "name": "stdout",
     "output_type": "stream",
     "text": [
      "Time to: Calculate Ground State - 1.23s, Get Pauli Ops - 7.0s, Calculate Pauli Expectation Values - 11.84s, Calculate Covariance - 2.41s\n",
      "f0,f1,f2 = [4.757905098226552e-09, 4.757905098271402e-09, 4.757905098298221e-09]\n",
      "d01,d02,d12 = [1.1988753427693795, 1.1988753427708474, 1.1988753427696868]\n"
     ]
    },
    {
     "name": "stderr",
     "output_type": "stream",
     "text": [
      "/cluster/home/mskrabulis/miniconda3/envs/quantech/lib/python3.9/site-packages/pyscf/symm/Dmatrix.py:156: RuntimeWarning: invalid value encountered in arccos\n",
      "  gamma = numpy.arccos(yp.dot(c2[1]))\n",
      "Progress:   5%|▍         | 23/500 [08:52<3:08:45, 23.74s/it]"
     ]
    },
    {
     "name": "stdout",
     "output_type": "stream",
     "text": [
      "Time to: Calculate Ground State - 1.61s, Get Pauli Ops - 10.93s, Calculate Pauli Expectation Values - 11.43s, Calculate Covariance - 3.18s\n",
      "f0,f1,f2 = [5.077238188284419e-09, 5.077238188297124e-09, 5.077238188284651e-09]\n",
      "d01,d02,d12 = [1.2013228508201501, 1.2013228508216791, 1.201322850820444]\n"
     ]
    },
    {
     "name": "stderr",
     "output_type": "stream",
     "text": [
      "Progress:   5%|▍         | 24/500 [09:19<3:16:51, 24.82s/it]"
     ]
    },
    {
     "name": "stdout",
     "output_type": "stream",
     "text": [
      "Time to: Calculate Ground State - 1.55s, Get Pauli Ops - 11.77s, Calculate Pauli Expectation Values - 11.52s, Calculate Covariance - 2.46s\n",
      "f0,f1,f2 = [3.94426389189274e-09, 3.9442638919016555e-09, 3.944263891900671e-09]\n",
      "d01,d02,d12 = [1.202098097679582, 1.202098097681165, 1.2020980976798539]\n"
     ]
    },
    {
     "name": "stderr",
     "output_type": "stream",
     "text": [
      "/cluster/home/mskrabulis/miniconda3/envs/quantech/lib/python3.9/site-packages/pyscf/symm/Dmatrix.py:156: RuntimeWarning: invalid value encountered in arccos\n",
      "  gamma = numpy.arccos(yp.dot(c2[1]))\n",
      "Progress:   5%|▌         | 25/500 [09:47<3:23:23, 25.69s/it]"
     ]
    },
    {
     "name": "stdout",
     "output_type": "stream",
     "text": [
      "Time to: Calculate Ground State - 1.55s, Get Pauli Ops - 10.61s, Calculate Pauli Expectation Values - 12.4s, Calculate Covariance - 3.16s\n",
      "f0,f1,f2 = [4.490770657317842e-09, 4.4907706572947156e-09, 4.490770657310252e-09]\n",
      "d01,d02,d12 = [1.200998908934949, 1.2009989089365865, 1.2009989089352053]\n"
     ]
    },
    {
     "name": "stderr",
     "output_type": "stream",
     "text": [
      "Progress:   5%|▌         | 26/500 [10:11<3:18:29, 25.13s/it]"
     ]
    },
    {
     "name": "stdout",
     "output_type": "stream",
     "text": [
      "Time to: Calculate Ground State - 1.53s, Get Pauli Ops - 7.16s, Calculate Pauli Expectation Values - 12.09s, Calculate Covariance - 3.01s\n",
      "f0,f1,f2 = [4.522633770752864e-09, 4.5226337707528185e-09, 4.522633770789516e-09]\n",
      "d01,d02,d12 = [1.1980395866888913, 1.1980395866905702, 1.1980395866891245]\n"
     ]
    },
    {
     "name": "stderr",
     "output_type": "stream",
     "text": [
      "/cluster/home/mskrabulis/miniconda3/envs/quantech/lib/python3.9/site-packages/pyscf/symm/Dmatrix.py:156: RuntimeWarning: invalid value encountered in arccos\n",
      "  gamma = numpy.arccos(yp.dot(c2[1]))\n",
      "Progress:   5%|▌         | 27/500 [10:32<3:09:26, 24.03s/it]"
     ]
    },
    {
     "name": "stdout",
     "output_type": "stream",
     "text": [
      "Time to: Calculate Ground State - 1.58s, Get Pauli Ops - 6.33s, Calculate Pauli Expectation Values - 10.77s, Calculate Covariance - 2.78s\n",
      "f0,f1,f2 = [6.026065498585224e-09, 6.026065498590187e-09, 6.026065498616828e-09]\n",
      "d01,d02,d12 = [1.1926237044362855, 1.1926237044379948, 1.1926237044364885]\n"
     ]
    },
    {
     "name": "stderr",
     "output_type": "stream",
     "text": [
      "Progress:   6%|▌         | 28/500 [10:54<3:03:12, 23.29s/it]"
     ]
    },
    {
     "name": "stdout",
     "output_type": "stream",
     "text": [
      "Time to: Calculate Ground State - 1.56s, Get Pauli Ops - 6.66s, Calculate Pauli Expectation Values - 10.95s, Calculate Covariance - 2.38s\n",
      "f0,f1,f2 = [5.878907776128473e-09, 5.8789077761168485e-09, 5.878907776124699e-09]\n",
      "d01,d02,d12 = [1.18484830164549, 1.1848483016472207, 1.1848483016456703]\n"
     ]
    },
    {
     "name": "stderr",
     "output_type": "stream",
     "text": [
      "/cluster/home/mskrabulis/miniconda3/envs/quantech/lib/python3.9/site-packages/pyscf/symm/Dmatrix.py:156: RuntimeWarning: invalid value encountered in arccos\n",
      "  gamma = numpy.arccos(yp.dot(c2[1]))\n",
      "Progress:   6%|▌         | 29/500 [11:16<3:01:24, 23.11s/it]"
     ]
    },
    {
     "name": "stdout",
     "output_type": "stream",
     "text": [
      "Time to: Calculate Ground State - 1.05s, Get Pauli Ops - 7.05s, Calculate Pauli Expectation Values - 12.17s, Calculate Covariance - 2.41s\n",
      "f0,f1,f2 = [4.530943591643034e-09, 4.530943591684117e-09, 4.530943591672125e-09]\n",
      "d01,d02,d12 = [1.1753070702989472, 1.175307070300694, 1.1753070702990949]\n"
     ]
    },
    {
     "name": "stderr",
     "output_type": "stream",
     "text": [
      "/cluster/home/mskrabulis/miniconda3/envs/quantech/lib/python3.9/site-packages/pyscf/symm/Dmatrix.py:156: RuntimeWarning: invalid value encountered in arccos\n",
      "  gamma = numpy.arccos(yp.dot(c2[1]))\n",
      "Progress:   6%|▌         | 30/500 [11:41<3:04:07, 23.51s/it]"
     ]
    },
    {
     "name": "stdout",
     "output_type": "stream",
     "text": [
      "Time to: Calculate Ground State - 1.53s, Get Pauli Ops - 6.14s, Calculate Pauli Expectation Values - 14.73s, Calculate Covariance - 2.02s\n",
      "f0,f1,f2 = [5.280168081004626e-09, 5.280168080966771e-09, 5.280168080961614e-09]\n",
      "d01,d02,d12 = [1.1637148583145946, 1.1637148583163508, 1.1637148583147232]\n"
     ]
    },
    {
     "name": "stderr",
     "output_type": "stream",
     "text": [
      "Progress:   6%|▌         | 31/500 [12:04<3:03:39, 23.50s/it]"
     ]
    },
    {
     "name": "stdout",
     "output_type": "stream",
     "text": [
      "Time to: Calculate Ground State - 1.58s, Get Pauli Ops - 8.92s, Calculate Pauli Expectation Values - 11.1s, Calculate Covariance - 1.86s\n",
      "f0,f1,f2 = [3.837353093275201e-09, 3.837353093251417e-09, 3.83735309325e-09]\n",
      "d01,d02,d12 = [1.1506999523558372, 1.1506999523576198, 1.1506999523559622]\n"
     ]
    },
    {
     "name": "stderr",
     "output_type": "stream",
     "text": [
      "Progress:   6%|▋         | 32/500 [12:25<2:57:09, 22.71s/it]"
     ]
    },
    {
     "name": "stdout",
     "output_type": "stream",
     "text": [
      "Time to: Calculate Ground State - 0.9s, Get Pauli Ops - 6.9s, Calculate Pauli Expectation Values - 11.15s, Calculate Covariance - 1.93s\n",
      "f0,f1,f2 = [3.0920654118380984e-09, 3.092065411820678e-09, 3.0920654118310798e-09]\n",
      "d01,d02,d12 = [1.1365919658385168, 1.1365919658403125, 1.1365919658386328]\n"
     ]
    },
    {
     "name": "stderr",
     "output_type": "stream",
     "text": [
      "Progress:   7%|▋         | 33/500 [12:48<2:57:22, 22.79s/it]"
     ]
    },
    {
     "name": "stdout",
     "output_type": "stream",
     "text": [
      "Time to: Calculate Ground State - 1.44s, Get Pauli Ops - 6.95s, Calculate Pauli Expectation Values - 11.45s, Calculate Covariance - 3.11s\n",
      "f0,f1,f2 = [4.470268848118248e-09, 4.470268848038229e-09, 4.470268848117229e-09]\n",
      "d01,d02,d12 = [1.1208346590488696, 1.1208346590506695, 1.1208346590489886]\n"
     ]
    },
    {
     "name": "stderr",
     "output_type": "stream",
     "text": [
      "Progress:   7%|▋         | 34/500 [13:13<3:01:31, 23.37s/it]"
     ]
    },
    {
     "name": "stdout",
     "output_type": "stream",
     "text": [
      "Time to: Calculate Ground State - 1.57s, Get Pauli Ops - 8.86s, Calculate Pauli Expectation Values - 11.16s, Calculate Covariance - 3.13s\n",
      "f0,f1,f2 = [4.67202296685739e-09, 4.672022966865956e-09, 4.67202296684372e-09]\n",
      "d01,d02,d12 = [1.1033648168739552, 1.1033648168757786, 1.103364816874096]\n"
     ]
    },
    {
     "name": "stderr",
     "output_type": "stream",
     "text": [
      "Progress:   7%|▋         | 35/500 [13:38<3:04:38, 23.83s/it]"
     ]
    },
    {
     "name": "stdout",
     "output_type": "stream",
     "text": [
      "Time to: Calculate Ground State - 1.6s, Get Pauli Ops - 8.74s, Calculate Pauli Expectation Values - 11.39s, Calculate Covariance - 3.14s\n",
      "f0,f1,f2 = [4.3332445346602085e-09, 4.333244534662282e-09, 4.333244534670925e-09]\n",
      "d01,d02,d12 = [1.0843467560475486, 1.0843467560493885, 1.0843467560476971]\n"
     ]
    },
    {
     "name": "stderr",
     "output_type": "stream",
     "text": [
      "/cluster/home/mskrabulis/miniconda3/envs/quantech/lib/python3.9/site-packages/pyscf/symm/Dmatrix.py:156: RuntimeWarning: invalid value encountered in arccos\n",
      "  gamma = numpy.arccos(yp.dot(c2[1]))\n",
      "Progress:   7%|▋         | 36/500 [14:03<3:07:14, 24.21s/it]"
     ]
    },
    {
     "name": "stdout",
     "output_type": "stream",
     "text": [
      "Time to: Calculate Ground State - 1.48s, Get Pauli Ops - 9.39s, Calculate Pauli Expectation Values - 11.17s, Calculate Covariance - 3.06s\n",
      "f0,f1,f2 = [2.116349438791189e-09, 2.1163494387451865e-09, 2.1163494387927167e-09]\n",
      "d01,d02,d12 = [1.0647214712763111, 1.0647214712781496, 1.0647214712764577]\n"
     ]
    },
    {
     "name": "stderr",
     "output_type": "stream",
     "text": [
      "Progress:   7%|▋         | 37/500 [14:28<3:08:55, 24.48s/it]"
     ]
    },
    {
     "name": "stdout",
     "output_type": "stream",
     "text": [
      "Time to: Calculate Ground State - 1.45s, Get Pauli Ops - 9.28s, Calculate Pauli Expectation Values - 11.36s, Calculate Covariance - 3.01s\n",
      "f0,f1,f2 = [1.5415571587832861e-09, 1.5415571587917008e-09, 1.541557158816408e-09]\n",
      "d01,d02,d12 = [1.0447353112046813, 1.0447353112065025, 1.0447353112048214]\n"
     ]
    },
    {
     "name": "stderr",
     "output_type": "stream",
     "text": [
      "Progress:   8%|▊         | 38/500 [14:54<3:11:35, 24.88s/it]"
     ]
    },
    {
     "name": "stdout",
     "output_type": "stream",
     "text": [
      "Time to: Calculate Ground State - 1.59s, Get Pauli Ops - 9.45s, Calculate Pauli Expectation Values - 11.85s, Calculate Covariance - 2.91s\n",
      "f0,f1,f2 = [2.7221855375398123e-09, 2.7221855375240764e-09, 2.7221855375611288e-09]\n",
      "d01,d02,d12 = [1.023902972940439, 1.0239029729421854, 1.02390297294055]\n"
     ]
    },
    {
     "name": "stderr",
     "output_type": "stream",
     "text": [
      "Progress:   8%|▊         | 39/500 [15:22<3:19:44, 26.00s/it]"
     ]
    },
    {
     "name": "stdout",
     "output_type": "stream",
     "text": [
      "Time to: Calculate Ground State - 1.75s, Get Pauli Ops - 9.88s, Calculate Pauli Expectation Values - 13.83s, Calculate Covariance - 3.12s\n",
      "f0,f1,f2 = [1.863597305347555e-09, 1.8635973053565805e-09, 1.8635973053566815e-09]\n",
      "d01,d02,d12 = [1.0025921682640995, 1.0025921682657517, 1.0025921682641923]\n"
     ]
    },
    {
     "name": "stderr",
     "output_type": "stream",
     "text": [
      "Progress:   8%|▊         | 40/500 [15:45<3:11:17, 24.95s/it]"
     ]
    },
    {
     "name": "stdout",
     "output_type": "stream",
     "text": [
      "Time to: Calculate Ground State - 1.27s, Get Pauli Ops - 6.99s, Calculate Pauli Expectation Values - 11.34s, Calculate Covariance - 2.9s\n",
      "f0,f1,f2 = [2.0326728235801913e-10, 2.0326728243273445e-10, 2.0326728234913883e-10]\n",
      "d01,d02,d12 = [0.981666902225321, 0.9816669022268469, 0.9816669022253796]\n"
     ]
    },
    {
     "name": "stderr",
     "output_type": "stream",
     "text": [
      "Progress:   8%|▊         | 41/500 [16:09<3:09:56, 24.83s/it]"
     ]
    },
    {
     "name": "stdout",
     "output_type": "stream",
     "text": [
      "Time to: Calculate Ground State - 1.61s, Get Pauli Ops - 9.32s, Calculate Pauli Expectation Values - 11.16s, Calculate Covariance - 2.42s\n",
      "f0,f1,f2 = [1.337066093527389e-09, 1.3370660935095e-09, 1.3370660934918776e-09]\n",
      "d01,d02,d12 = [0.9604827770310164, 0.9604827770324232, 0.960482777031055]\n"
     ]
    },
    {
     "name": "stderr",
     "output_type": "stream",
     "text": [
      "Progress:   8%|▊         | 42/500 [16:32<3:04:01, 24.11s/it]"
     ]
    },
    {
     "name": "stdout",
     "output_type": "stream",
     "text": [
      "Time to: Calculate Ground State - 1.51s, Get Pauli Ops - 6.49s, Calculate Pauli Expectation Values - 11.78s, Calculate Covariance - 2.63s\n",
      "f0,f1,f2 = [1.3501445904282341e-09, 1.3501445904234886e-09, 1.3501445904496008e-09]\n",
      "d01,d02,d12 = [0.9401586955946597, 0.9401586955959301, 0.9401586955946577]\n"
     ]
    },
    {
     "name": "stderr",
     "output_type": "stream",
     "text": [
      "Progress:   9%|▊         | 43/500 [16:57<3:06:21, 24.47s/it]"
     ]
    },
    {
     "name": "stdout",
     "output_type": "stream",
     "text": [
      "Time to: Calculate Ground State - 1.62s, Get Pauli Ops - 6.91s, Calculate Pauli Expectation Values - 13.72s, Calculate Covariance - 3.04s\n",
      "f0,f1,f2 = [2.323300302386279e-09, 2.3233003023695913e-09, 2.323300302378696e-09]\n",
      "d01,d02,d12 = [0.921086935008288, 0.9210869350094317, 0.9210869350082531]\n"
     ]
    },
    {
     "name": "stderr",
     "output_type": "stream",
     "text": [
      "Progress:   9%|▉         | 44/500 [17:20<3:02:24, 24.00s/it]"
     ]
    },
    {
     "name": "stdout",
     "output_type": "stream",
     "text": [
      "Time to: Calculate Ground State - 1.59s, Get Pauli Ops - 7.28s, Calculate Pauli Expectation Values - 11.08s, Calculate Covariance - 2.97s\n",
      "f0,f1,f2 = [3.3185285999884655e-09, 3.318528600032362e-09, 3.3185286000416602e-09]\n",
      "d01,d02,d12 = [0.903663550610016, 0.9036635506110243, 0.9036635506099491]\n"
     ]
    },
    {
     "name": "stderr",
     "output_type": "stream",
     "text": [
      "/cluster/home/mskrabulis/miniconda3/envs/quantech/lib/python3.9/site-packages/pyscf/symm/Dmatrix.py:156: RuntimeWarning: invalid value encountered in arccos\n",
      "  gamma = numpy.arccos(yp.dot(c2[1]))\n",
      "/cluster/home/mskrabulis/miniconda3/envs/quantech/lib/python3.9/site-packages/pyscf/symm/Dmatrix.py:156: RuntimeWarning: invalid value encountered in arccos\n",
      "  gamma = numpy.arccos(yp.dot(c2[1]))\n",
      "Progress:   9%|▉         | 45/500 [17:42<2:56:22, 23.26s/it]"
     ]
    },
    {
     "name": "stdout",
     "output_type": "stream",
     "text": [
      "Time to: Calculate Ground State - 1.6s, Get Pauli Ops - 6.41s, Calculate Pauli Expectation Values - 10.74s, Calculate Covariance - 2.76s\n",
      "f0,f1,f2 = [3.376205653049929e-09, 3.376205653085971e-09, 3.3762056530603012e-09]\n",
      "d01,d02,d12 = [0.8878900337486253, 0.8878900337494754, 0.887890033748531]\n"
     ]
    },
    {
     "name": "stderr",
     "output_type": "stream",
     "text": [
      "Progress:   9%|▉         | 46/500 [18:05<2:55:51, 23.24s/it]"
     ]
    },
    {
     "name": "stdout",
     "output_type": "stream",
     "text": [
      "Time to: Calculate Ground State - 1.77s, Get Pauli Ops - 6.2s, Calculate Pauli Expectation Values - 13.14s, Calculate Covariance - 2.08s\n",
      "f0,f1,f2 = [5.00409004731726e-09, 5.0040900473569704e-09, 5.004090047328018e-09]\n",
      "d01,d02,d12 = [0.8744191818894231, 0.8744191818900985, 0.8744191818893047]\n"
     ]
    },
    {
     "name": "stderr",
     "output_type": "stream",
     "text": [
      "Progress:   9%|▉         | 47/500 [18:29<2:57:53, 23.56s/it]"
     ]
    },
    {
     "name": "stdout",
     "output_type": "stream",
     "text": [
      "Time to: Calculate Ground State - 1.59s, Get Pauli Ops - 8.68s, Calculate Pauli Expectation Values - 10.93s, Calculate Covariance - 3.1s\n",
      "f0,f1,f2 = [6.968651539751671e-09, 6.968651539743547e-09, 6.9686515397625125e-09]\n",
      "d01,d02,d12 = [0.8640338214026922, 0.8640338214031791, 0.8640338214025466]\n"
     ]
    },
    {
     "name": "stderr",
     "output_type": "stream",
     "text": [
      "Progress:  10%|▉         | 48/500 [18:51<2:54:07, 23.11s/it]"
     ]
    },
    {
     "name": "stdout",
     "output_type": "stream",
     "text": [
      "Time to: Calculate Ground State - 1.63s, Get Pauli Ops - 6.44s, Calculate Pauli Expectation Values - 11.07s, Calculate Covariance - 2.91s\n",
      "f0,f1,f2 = [5.815943142878672e-09, 5.815943142813233e-09, 5.815943142895468e-09]\n",
      "d01,d02,d12 = [0.8562117879297133, 0.8562117879300224, 0.8562117879295503]\n"
     ]
    },
    {
     "name": "stderr",
     "output_type": "stream",
     "text": [
      "Progress:  10%|▉         | 49/500 [19:14<2:52:26, 22.94s/it]"
     ]
    },
    {
     "name": "stdout",
     "output_type": "stream",
     "text": [
      "Time to: Calculate Ground State - 1.53s, Get Pauli Ops - 6.82s, Calculate Pauli Expectation Values - 11.44s, Calculate Covariance - 2.74s\n",
      "f0,f1,f2 = [6.203721707078687e-09, 6.203721707051044e-09, 6.203721707069319e-09]\n",
      "d01,d02,d12 = [0.8510771702052083, 0.8510771702053435, 0.8510771702050258]\n"
     ]
    },
    {
     "name": "stderr",
     "output_type": "stream",
     "text": [
      "Progress:  10%|█         | 50/500 [19:37<2:52:28, 23.00s/it]"
     ]
    },
    {
     "name": "stdout",
     "output_type": "stream",
     "text": [
      "Time to: Calculate Ground State - 1.59s, Get Pauli Ops - 6.4s, Calculate Pauli Expectation Values - 12.07s, Calculate Covariance - 3.05s\n",
      "f0,f1,f2 = [7.437297828479866e-09, 7.437297828474195e-09, 7.4372978284811574e-09]\n",
      "d01,d02,d12 = [0.8491028250271658, 0.8491028250271283, 0.8491028250269765]\n"
     ]
    },
    {
     "name": "stderr",
     "output_type": "stream",
     "text": [
      "/cluster/home/mskrabulis/miniconda3/envs/quantech/lib/python3.9/site-packages/pyscf/symm/Dmatrix.py:156: RuntimeWarning: invalid value encountered in arccos\n",
      "  gamma = numpy.arccos(yp.dot(c2[1]))\n",
      "Progress:  10%|█         | 51/500 [20:00<2:53:15, 23.15s/it]"
     ]
    },
    {
     "name": "stdout",
     "output_type": "stream",
     "text": [
      "Time to: Calculate Ground State - 1.54s, Get Pauli Ops - 5.79s, Calculate Pauli Expectation Values - 13.86s, Calculate Covariance - 2.32s\n",
      "f0,f1,f2 = [7.710251203856038e-09, 7.710251203881818e-09, 7.71025120387119e-09]\n",
      "d01,d02,d12 = [0.8503559670092505, 0.8503559670090312, 0.850355967009067]\n"
     ]
    },
    {
     "name": "stderr",
     "output_type": "stream",
     "text": [
      "Progress:  10%|█         | 52/500 [20:24<2:53:28, 23.23s/it]"
     ]
    },
    {
     "name": "stdout",
     "output_type": "stream",
     "text": [
      "Time to: Calculate Ground State - 1.57s, Get Pauli Ops - 8.65s, Calculate Pauli Expectation Values - 11.03s, Calculate Covariance - 2.17s\n",
      "f0,f1,f2 = [9.109935841164494e-09, 9.109935841163012e-09, 9.10993584115504e-09]\n",
      "d01,d02,d12 = [0.8553702140918642, 0.8553702140914604, 0.855370214091688]\n"
     ]
    },
    {
     "name": "stderr",
     "output_type": "stream",
     "text": [
      "/cluster/home/mskrabulis/miniconda3/envs/quantech/lib/python3.9/site-packages/pyscf/symm/Dmatrix.py:156: RuntimeWarning: invalid value encountered in arccos\n",
      "  gamma = numpy.arccos(yp.dot(c2[1]))\n",
      "Progress:  11%|█         | 53/500 [20:50<3:00:26, 24.22s/it]"
     ]
    },
    {
     "name": "stdout",
     "output_type": "stream",
     "text": [
      "Time to: Calculate Ground State - 1.42s, Get Pauli Ops - 7.15s, Calculate Pauli Expectation Values - 15.43s, Calculate Covariance - 2.51s\n",
      "f0,f1,f2 = [9.591585833547715e-09, 9.591585833488552e-09, 9.591585833541459e-09]\n",
      "d01,d02,d12 = [0.864290722184049, 0.8642907221834725, 0.8642907221838763]\n"
     ]
    },
    {
     "name": "stderr",
     "output_type": "stream",
     "text": [
      "/cluster/home/mskrabulis/miniconda3/envs/quantech/lib/python3.9/site-packages/pyscf/symm/Dmatrix.py:156: RuntimeWarning: invalid value encountered in arccos\n",
      "  gamma = numpy.arccos(yp.dot(c2[1]))\n",
      "Progress:  11%|█         | 54/500 [21:16<3:04:18, 24.79s/it]"
     ]
    },
    {
     "name": "stdout",
     "output_type": "stream",
     "text": [
      "Time to: Calculate Ground State - 1.57s, Get Pauli Ops - 7.0s, Calculate Pauli Expectation Values - 15.06s, Calculate Covariance - 2.5s\n",
      "f0,f1,f2 = [8.51835952455129e-09, 8.518359524574707e-09, 8.518359524566082e-09]\n",
      "d01,d02,d12 = [0.8766159099829743, 0.8766159099822203, 0.8766159099828025]\n"
     ]
    },
    {
     "name": "stderr",
     "output_type": "stream",
     "text": [
      "Progress:  11%|█         | 55/500 [21:43<3:07:31, 25.28s/it]"
     ]
    },
    {
     "name": "stdout",
     "output_type": "stream",
     "text": [
      "Time to: Calculate Ground State - 1.5s, Get Pauli Ops - 6.07s, Calculate Pauli Expectation Values - 16.0s, Calculate Covariance - 2.85s\n",
      "f0,f1,f2 = [5.843237132740411e-09, 5.843237132744905e-09, 5.843237132743476e-09]\n",
      "d01,d02,d12 = [0.8911874570207846, 0.8911874570198429, 0.8911874570206125]\n"
     ]
    },
    {
     "name": "stderr",
     "output_type": "stream",
     "text": [
      "/cluster/home/mskrabulis/miniconda3/envs/quantech/lib/python3.9/site-packages/pyscf/symm/Dmatrix.py:156: RuntimeWarning: invalid value encountered in arccos\n",
      "  gamma = numpy.arccos(yp.dot(c2[1]))\n",
      "Progress:  11%|█         | 56/500 [22:07<3:04:22, 24.92s/it]"
     ]
    },
    {
     "name": "stdout",
     "output_type": "stream",
     "text": [
      "Time to: Calculate Ground State - 0.97s, Get Pauli Ops - 6.17s, Calculate Pauli Expectation Values - 14.91s, Calculate Covariance - 2.01s\n",
      "f0,f1,f2 = [5.9490196886549024e-09, 5.9490196886317265e-09, 5.9490196886620915e-09]\n",
      "d01,d02,d12 = [0.9080178614025629, 0.9080178614014474, 0.9080178614024034]\n"
     ]
    },
    {
     "name": "stderr",
     "output_type": "stream",
     "text": [
      "Progress:  11%|█▏        | 57/500 [22:30<2:59:14, 24.28s/it]"
     ]
    },
    {
     "name": "stdout",
     "output_type": "stream",
     "text": [
      "Time to: Calculate Ground State - 1.56s, Get Pauli Ops - 7.11s, Calculate Pauli Expectation Values - 11.13s, Calculate Covariance - 2.98s\n",
      "f0,f1,f2 = [2.9911247056678632e-09, 2.9911247056494973e-09, 2.991124705723726e-09]\n",
      "d01,d02,d12 = [0.9258487198169179, 0.9258487198156429, 0.9258487198167841]\n"
     ]
    },
    {
     "name": "stderr",
     "output_type": "stream",
     "text": [
      "Progress:  12%|█▏        | 58/500 [22:54<3:00:01, 24.44s/it]"
     ]
    },
    {
     "name": "stdout",
     "output_type": "stream",
     "text": [
      "Time to: Calculate Ground State - 1.61s, Get Pauli Ops - 10.15s, Calculate Pauli Expectation Values - 10.33s, Calculate Covariance - 2.7s\n",
      "f0,f1,f2 = [2.355625307725186e-09, 2.3556253077431933e-09, 2.3556253077409222e-09]\n",
      "d01,d02,d12 = [0.9444031180782598, 0.9444031180768293, 0.9444031180781628]\n"
     ]
    },
    {
     "name": "stderr",
     "output_type": "stream",
     "text": [
      "Progress:  12%|█▏        | 59/500 [23:17<2:54:39, 23.76s/it]"
     ]
    },
    {
     "name": "stdout",
     "output_type": "stream",
     "text": [
      "Time to: Calculate Ground State - 1.53s, Get Pauli Ops - 7.04s, Calculate Pauli Expectation Values - 11.08s, Calculate Covariance - 2.53s\n",
      "f0,f1,f2 = [1.7308562615264523e-09, 1.7308562614799924e-09, 1.7308562615212634e-09]\n",
      "d01,d02,d12 = [0.9634123960332837, 0.9634123960317171, 0.9634123960332049]\n"
     ]
    },
    {
     "name": "stderr",
     "output_type": "stream",
     "text": [
      "/cluster/home/mskrabulis/miniconda3/envs/quantech/lib/python3.9/site-packages/pyscf/symm/Dmatrix.py:156: RuntimeWarning: invalid value encountered in arccos\n",
      "  gamma = numpy.arccos(yp.dot(c2[1]))\n",
      "/cluster/home/mskrabulis/miniconda3/envs/quantech/lib/python3.9/site-packages/pyscf/symm/Dmatrix.py:156: RuntimeWarning: invalid value encountered in arccos\n",
      "  gamma = numpy.arccos(yp.dot(c2[1]))\n",
      "Progress:  12%|█▏        | 60/500 [23:39<2:51:03, 23.33s/it]"
     ]
    },
    {
     "name": "stdout",
     "output_type": "stream",
     "text": [
      "Time to: Calculate Ground State - 1.52s, Get Pauli Ops - 6.66s, Calculate Pauli Expectation Values - 11.52s, Calculate Covariance - 2.59s\n",
      "f0,f1,f2 = [2.188531850683218e-09, 2.1885318506630335e-09, 2.188531850684399e-09]\n",
      "d01,d02,d12 = [0.9830605570890892, 0.9830605570873945, 0.9830605570890404]\n"
     ]
    },
    {
     "name": "stderr",
     "output_type": "stream",
     "text": [
      "Progress:  12%|█▏        | 61/500 [24:00<2:44:46, 22.52s/it]"
     ]
    },
    {
     "name": "stdout",
     "output_type": "stream",
     "text": [
      "Time to: Calculate Ground State - 1.51s, Get Pauli Ops - 5.92s, Calculate Pauli Expectation Values - 10.68s, Calculate Covariance - 2.54s\n",
      "f0,f1,f2 = [1.8296399028976065e-09, 1.8296399029155704e-09, 1.8296399028905275e-09]\n",
      "d01,d02,d12 = [1.0031899977801149, 1.0031899977783083, 1.0031899977801024]\n"
     ]
    },
    {
     "name": "stderr",
     "output_type": "stream",
     "text": [
      "Progress:  12%|█▏        | 62/500 [24:22<2:43:31, 22.40s/it]"
     ]
    },
    {
     "name": "stdout",
     "output_type": "stream",
     "text": [
      "Time to: Calculate Ground State - 1.51s, Get Pauli Ops - 6.97s, Calculate Pauli Expectation Values - 10.8s, Calculate Covariance - 2.83s\n",
      "f0,f1,f2 = [3.6855513469473335e-10, 3.685551346661174e-10, 3.6855513468501614e-10]\n",
      "d01,d02,d12 = [1.02318782258395, 1.0231878225820612, 1.0231878225839754]\n"
     ]
    },
    {
     "name": "stderr",
     "output_type": "stream",
     "text": [
      "/cluster/home/mskrabulis/miniconda3/envs/quantech/lib/python3.9/site-packages/pyscf/symm/Dmatrix.py:156: RuntimeWarning: invalid value encountered in arccos\n",
      "  gamma = numpy.arccos(yp.dot(c2[1]))\n",
      "Progress:  13%|█▎        | 63/500 [24:43<2:40:02, 21.97s/it]"
     ]
    },
    {
     "name": "stdout",
     "output_type": "stream",
     "text": [
      "Time to: Calculate Ground State - 1.44s, Get Pauli Ops - 6.07s, Calculate Pauli Expectation Values - 11.03s, Calculate Covariance - 2.43s\n",
      "f0,f1,f2 = [1.2001071384526867e-09, 1.2001071384558097e-09, 1.2001071384344263e-09]\n",
      "d01,d02,d12 = [1.042404913343526, 1.042404913341565, 1.0424049133435844]\n"
     ]
    },
    {
     "name": "stderr",
     "output_type": "stream",
     "text": [
      "/cluster/home/mskrabulis/miniconda3/envs/quantech/lib/python3.9/site-packages/pyscf/symm/Dmatrix.py:156: RuntimeWarning: invalid value encountered in arccos\n",
      "  gamma = numpy.arccos(yp.dot(c2[1]))\n",
      "Progress:  13%|█▎        | 64/500 [25:04<2:37:54, 21.73s/it]"
     ]
    },
    {
     "name": "stdout",
     "output_type": "stream",
     "text": [
      "Time to: Calculate Ground State - 0.93s, Get Pauli Ops - 5.95s, Calculate Pauli Expectation Values - 11.04s, Calculate Covariance - 3.24s\n",
      "f0,f1,f2 = [3.896124710575622e-10, 3.896124710751196e-10, 3.8961247106777644e-10]\n",
      "d01,d02,d12 = [1.0611881691804297, 1.06118816917838, 1.0611881691804959]\n"
     ]
    },
    {
     "name": "stderr",
     "output_type": "stream",
     "text": [
      "Progress:  13%|█▎        | 65/500 [25:27<2:40:06, 22.08s/it]"
     ]
    },
    {
     "name": "stdout",
     "output_type": "stream",
     "text": [
      "Time to: Calculate Ground State - 1.49s, Get Pauli Ops - 7.29s, Calculate Pauli Expectation Values - 11.02s, Calculate Covariance - 3.1s\n",
      "f0,f1,f2 = [2.2311101390337116e-09, 2.231110139058946e-09, 2.2311101390274225e-09]\n",
      "d01,d02,d12 = [1.0787792343224087, 1.0787792343202778, 1.0787792343224847]\n"
     ]
    },
    {
     "name": "stderr",
     "output_type": "stream",
     "text": [
      "/cluster/home/mskrabulis/miniconda3/envs/quantech/lib/python3.9/site-packages/pyscf/symm/Dmatrix.py:156: RuntimeWarning: invalid value encountered in arccos\n",
      "  gamma = numpy.arccos(yp.dot(c2[1]))\n",
      "Progress:  13%|█▎        | 66/500 [25:49<2:40:38, 22.21s/it]"
     ]
    },
    {
     "name": "stdout",
     "output_type": "stream",
     "text": [
      "Time to: Calculate Ground State - 1.47s, Get Pauli Ops - 7.1s, Calculate Pauli Expectation Values - 11.08s, Calculate Covariance - 2.84s\n",
      "f0,f1,f2 = [3.0573649483214138e-09, 3.057364948309157e-09, 3.057364948275091e-09]\n",
      "d01,d02,d12 = [1.094851664336252, 1.0948516643340431, 1.094851664336347]\n"
     ]
    },
    {
     "name": "stderr",
     "output_type": "stream",
     "text": [
      "/cluster/home/mskrabulis/miniconda3/envs/quantech/lib/python3.9/site-packages/pyscf/symm/Dmatrix.py:156: RuntimeWarning: invalid value encountered in arccos\n",
      "  gamma = numpy.arccos(yp.dot(c2[1]))\n",
      "Progress:  13%|█▎        | 67/500 [26:12<2:40:56, 22.30s/it]"
     ]
    },
    {
     "name": "stdout",
     "output_type": "stream",
     "text": [
      "Time to: Calculate Ground State - 1.47s, Get Pauli Ops - 7.27s, Calculate Pauli Expectation Values - 10.69s, Calculate Covariance - 3.08s\n",
      "f0,f1,f2 = [3.279392003550973e-09, 3.2793920035711025e-09, 3.2793920035570024e-09]\n",
      "d01,d02,d12 = [1.1093343926181483, 1.1093343926158548, 1.109334392618247]\n"
     ]
    },
    {
     "name": "stderr",
     "output_type": "stream",
     "text": [
      "Progress:  14%|█▎        | 68/500 [26:34<2:39:44, 22.19s/it]"
     ]
    },
    {
     "name": "stdout",
     "output_type": "stream",
     "text": [
      "Time to: Calculate Ground State - 1.47s, Get Pauli Ops - 6.53s, Calculate Pauli Expectation Values - 10.82s, Calculate Covariance - 3.08s\n",
      "f0,f1,f2 = [3.902888467055622e-09, 3.9028884670627395e-09, 3.90288846704002e-09]\n",
      "d01,d02,d12 = [1.1219909250545639, 1.1219909250522138, 1.1219909250546818]\n"
     ]
    },
    {
     "name": "stderr",
     "output_type": "stream",
     "text": [
      "Progress:  14%|█▍        | 69/500 [26:54<2:35:35, 21.66s/it]"
     ]
    },
    {
     "name": "stdout",
     "output_type": "stream",
     "text": [
      "Time to: Calculate Ground State - 1.49s, Get Pauli Ops - 5.84s, Calculate Pauli Expectation Values - 10.73s, Calculate Covariance - 2.36s\n",
      "f0,f1,f2 = [4.371849708836458e-09, 4.371849708848172e-09, 4.371849708831068e-09]\n",
      "d01,d02,d12 = [1.1326524076379132, 1.132652407635504, 1.1326524076380364]\n"
     ]
    },
    {
     "name": "stderr",
     "output_type": "stream",
     "text": [
      "/cluster/home/mskrabulis/miniconda3/envs/quantech/lib/python3.9/site-packages/pyscf/symm/Dmatrix.py:156: RuntimeWarning: invalid value encountered in arccos\n",
      "  gamma = numpy.arccos(yp.dot(c2[1]))\n",
      "Progress:  14%|█▍        | 70/500 [27:17<2:37:59, 22.04s/it]"
     ]
    },
    {
     "name": "stdout",
     "output_type": "stream",
     "text": [
      "Time to: Calculate Ground State - 1.52s, Get Pauli Ops - 7.1s, Calculate Pauli Expectation Values - 11.11s, Calculate Covariance - 3.21s\n",
      "f0,f1,f2 = [4.017906690554579e-09, 4.017906690535834e-09, 4.01790669053099e-09]\n",
      "d01,d02,d12 = [1.14149200478403, 1.141492004781556, 1.1414920047841686]\n"
     ]
    },
    {
     "name": "stderr",
     "output_type": "stream",
     "text": [
      "Progress:  14%|█▍        | 71/500 [27:40<2:38:53, 22.22s/it]"
     ]
    },
    {
     "name": "stdout",
     "output_type": "stream",
     "text": [
      "Time to: Calculate Ground State - 1.55s, Get Pauli Ops - 7.37s, Calculate Pauli Expectation Values - 11.0s, Calculate Covariance - 2.7s\n",
      "f0,f1,f2 = [4.964478381140447e-09, 4.964478381141763e-09, 4.964478381114136e-09]\n",
      "d01,d02,d12 = [1.1481433502553453, 1.1481433502528162, 1.1481433502555032]\n"
     ]
    },
    {
     "name": "stderr",
     "output_type": "stream",
     "text": [
      "/cluster/home/mskrabulis/miniconda3/envs/quantech/lib/python3.9/site-packages/pyscf/symm/Dmatrix.py:156: RuntimeWarning: invalid value encountered in arccos\n",
      "  gamma = numpy.arccos(yp.dot(c2[1]))\n",
      "Progress:  14%|█▍        | 72/500 [28:01<2:36:41, 21.97s/it]"
     ]
    },
    {
     "name": "stdout",
     "output_type": "stream",
     "text": [
      "Time to: Calculate Ground State - 1.59s, Get Pauli Ops - 7.07s, Calculate Pauli Expectation Values - 10.69s, Calculate Covariance - 2.0s\n",
      "f0,f1,f2 = [5.15610374169975e-09, 5.156103741731746e-09, 5.156103741702858e-09]\n",
      "d01,d02,d12 = [1.1525587090033713, 1.1525587090007874, 1.1525587090035472]\n"
     ]
    },
    {
     "name": "stderr",
     "output_type": "stream",
     "text": [
      "/cluster/home/mskrabulis/miniconda3/envs/quantech/lib/python3.9/site-packages/pyscf/symm/Dmatrix.py:156: RuntimeWarning: invalid value encountered in arccos\n",
      "  gamma = numpy.arccos(yp.dot(c2[1]))\n",
      "Progress:  15%|█▍        | 73/500 [28:22<2:34:59, 21.78s/it]"
     ]
    },
    {
     "name": "stdout",
     "output_type": "stream",
     "text": [
      "Time to: Calculate Ground State - 0.93s, Get Pauli Ops - 6.08s, Calculate Pauli Expectation Values - 11.24s, Calculate Covariance - 3.08s\n",
      "f0,f1,f2 = [3.946065807607674e-09, 3.946065807571796e-09, 3.946065807567489e-09]\n",
      "d01,d02,d12 = [1.1552726191843772, 1.1552726191817577, 1.1552726191845841]\n"
     ]
    },
    {
     "name": "stderr",
     "output_type": "stream",
     "text": [
      "Progress:  15%|█▍        | 74/500 [28:45<2:35:33, 21.91s/it]"
     ]
    },
    {
     "name": "stdout",
     "output_type": "stream",
     "text": [
      "Time to: Calculate Ground State - 1.52s, Get Pauli Ops - 6.82s, Calculate Pauli Expectation Values - 10.85s, Calculate Covariance - 3.01s\n",
      "f0,f1,f2 = [4.1725100395323765e-09, 4.172510039553241e-09, 4.17251003948539e-09]\n",
      "d01,d02,d12 = [1.1562159286481166, 1.1562159286454765, 1.1562159286483695]\n"
     ]
    },
    {
     "name": "stderr",
     "output_type": "stream",
     "text": [
      "Progress:  15%|█▌        | 75/500 [29:05<2:31:40, 21.41s/it]"
     ]
    },
    {
     "name": "stdout",
     "output_type": "stream",
     "text": [
      "Time to: Calculate Ground State - 1.54s, Get Pauli Ops - 5.91s, Calculate Pauli Expectation Values - 10.67s, Calculate Covariance - 2.13s\n",
      "f0,f1,f2 = [5.0176004349104355e-09, 5.017600434870078e-09, 5.017600434909269e-09]\n",
      "d01,d02,d12 = [1.1550638637991937, 1.1550638637965345, 1.1550638637994946]\n"
     ]
    },
    {
     "name": "stderr",
     "output_type": "stream",
     "text": [
      "Progress:  15%|█▌        | 76/500 [29:27<2:32:29, 21.58s/it]"
     ]
    },
    {
     "name": "stdout",
     "output_type": "stream",
     "text": [
      "Time to: Calculate Ground State - 1.5s, Get Pauli Ops - 6.75s, Calculate Pauli Expectation Values - 10.84s, Calculate Covariance - 2.87s\n",
      "f0,f1,f2 = [4.522778455196148e-09, 4.522778455163591e-09, 4.522778455164673e-09]\n",
      "d01,d02,d12 = [1.1520522705134715, 1.1520522705107932, 1.1520522705138159]\n"
     ]
    },
    {
     "name": "stderr",
     "output_type": "stream",
     "text": [
      "Progress:  15%|█▌        | 77/500 [29:49<2:32:14, 21.60s/it]"
     ]
    },
    {
     "name": "stdout",
     "output_type": "stream",
     "text": [
      "Time to: Calculate Ground State - 1.21s, Get Pauli Ops - 7.11s, Calculate Pauli Expectation Values - 11.09s, Calculate Covariance - 2.21s\n",
      "f0,f1,f2 = [3.997549004877992e-09, 3.9975490049205184e-09, 3.997549004860473e-09]\n",
      "d01,d02,d12 = [1.1474261487084734, 1.1474261487058046, 1.147426148708872]\n"
     ]
    },
    {
     "name": "stderr",
     "output_type": "stream",
     "text": [
      "/cluster/home/mskrabulis/miniconda3/envs/quantech/lib/python3.9/site-packages/pyscf/symm/Dmatrix.py:156: RuntimeWarning: invalid value encountered in arccos\n",
      "  gamma = numpy.arccos(yp.dot(c2[1]))\n",
      "Progress:  16%|█▌        | 78/500 [30:11<2:33:46, 21.86s/it]"
     ]
    },
    {
     "name": "stdout",
     "output_type": "stream",
     "text": [
      "Time to: Calculate Ground State - 1.51s, Get Pauli Ops - 7.08s, Calculate Pauli Expectation Values - 10.83s, Calculate Covariance - 3.05s\n",
      "f0,f1,f2 = [5.8307459913695916e-09, 5.830745991393114e-09, 5.8307459913511545e-09]\n",
      "d01,d02,d12 = [1.140448466669136, 1.1404484666664942, 1.1404484666695918]\n"
     ]
    },
    {
     "name": "stderr",
     "output_type": "stream",
     "text": [
      "Progress:  16%|█▌        | 79/500 [30:35<2:37:39, 22.47s/it]"
     ]
    },
    {
     "name": "stdout",
     "output_type": "stream",
     "text": [
      "Time to: Calculate Ground State - 1.54s, Get Pauli Ops - 6.92s, Calculate Pauli Expectation Values - 12.53s, Calculate Covariance - 2.88s\n",
      "f0,f1,f2 = [4.716547846965569e-09, 4.716547846979724e-09, 4.716547846948049e-09]\n",
      "d01,d02,d12 = [1.13161562368234, 1.131615623679733, 1.1316156236828456]\n"
     ]
    },
    {
     "name": "stderr",
     "output_type": "stream",
     "text": [
      "Progress:  16%|█▌        | 80/500 [30:56<2:34:23, 22.05s/it]"
     ]
    },
    {
     "name": "stdout",
     "output_type": "stream",
     "text": [
      "Time to: Calculate Ground State - 1.53s, Get Pauli Ops - 6.41s, Calculate Pauli Expectation Values - 10.65s, Calculate Covariance - 2.5s\n",
      "f0,f1,f2 = [4.86838257115197e-09, 4.868382571204974e-09, 4.868382571184082e-09]\n",
      "d01,d02,d12 = [1.1208914734624638, 1.1208914734599, 1.1208914734630038]\n"
     ]
    },
    {
     "name": "stderr",
     "output_type": "stream",
     "text": [
      "Progress:  16%|█▌        | 81/500 [31:17<2:32:26, 21.83s/it]"
     ]
    },
    {
     "name": "stdout",
     "output_type": "stream",
     "text": [
      "Time to: Calculate Ground State - 0.93s, Get Pauli Ops - 7.1s, Calculate Pauli Expectation Values - 10.8s, Calculate Covariance - 2.47s\n",
      "f0,f1,f2 = [2.69951217438033e-09, 2.6995121744359838e-09, 2.6995121744184294e-09]\n",
      "d01,d02,d12 = [1.1092010142617952, 1.1092010142592712, 1.10920101426236]\n"
     ]
    },
    {
     "name": "stderr",
     "output_type": "stream",
     "text": [
      "Progress:  16%|█▋        | 82/500 [31:40<2:33:21, 22.01s/it]"
     ]
    },
    {
     "name": "stdout",
     "output_type": "stream",
     "text": [
      "Time to: Calculate Ground State - 0.91s, Get Pauli Ops - 7.77s, Calculate Pauli Expectation Values - 11.12s, Calculate Covariance - 2.63s\n",
      "f0,f1,f2 = [3.177852232980051e-09, 3.1778522330285088e-09, 3.1778522329876096e-09]\n",
      "d01,d02,d12 = [1.0963592971879659, 1.0963592971855105, 1.096359297188564]\n"
     ]
    },
    {
     "name": "stderr",
     "output_type": "stream",
     "text": [
      "Progress:  17%|█▋        | 83/500 [32:02<2:33:25, 22.07s/it]"
     ]
    },
    {
     "name": "stdout",
     "output_type": "stream",
     "text": [
      "Time to: Calculate Ground State - 1.5s, Get Pauli Ops - 6.66s, Calculate Pauli Expectation Values - 11.56s, Calculate Covariance - 2.5s\n",
      "f0,f1,f2 = [3.804373107872037e-09, 3.804373107925639e-09, 3.804373107888331e-09]\n",
      "d01,d02,d12 = [1.0821224655102886, 1.0821224655079316, 1.082122465510921]\n"
     ]
    },
    {
     "name": "stderr",
     "output_type": "stream",
     "text": [
      "/cluster/home/mskrabulis/miniconda3/envs/quantech/lib/python3.9/site-packages/pyscf/symm/Dmatrix.py:156: RuntimeWarning: invalid value encountered in arccos\n",
      "  gamma = numpy.arccos(yp.dot(c2[1]))\n",
      "Progress:  17%|█▋        | 84/500 [32:23<2:30:04, 21.65s/it]"
     ]
    },
    {
     "name": "stdout",
     "output_type": "stream",
     "text": [
      "Time to: Calculate Ground State - 0.93s, Get Pauli Ops - 5.93s, Calculate Pauli Expectation Values - 10.81s, Calculate Covariance - 2.96s\n",
      "f0,f1,f2 = [2.130386000021315e-09, 2.130386000097264e-09, 2.1303860000099552e-09]\n",
      "d01,d02,d12 = [1.0672044464635415, 1.0672044464613082, 1.0672044464642267]\n"
     ]
    },
    {
     "name": "stderr",
     "output_type": "stream",
     "text": [
      "Progress:  17%|█▋        | 85/500 [32:44<2:29:19, 21.59s/it]"
     ]
    },
    {
     "name": "stdout",
     "output_type": "stream",
     "text": [
      "Time to: Calculate Ground State - 1.57s, Get Pauli Ops - 6.12s, Calculate Pauli Expectation Values - 11.58s, Calculate Covariance - 2.18s\n",
      "f0,f1,f2 = [3.0298886809106627e-09, 3.029888680962534e-09, 3.02988868091422e-09]\n",
      "d01,d02,d12 = [1.0512413276845545, 1.0512413276824595, 1.051241327685282]\n"
     ]
    },
    {
     "name": "stderr",
     "output_type": "stream",
     "text": [
      "/cluster/home/mskrabulis/miniconda3/envs/quantech/lib/python3.9/site-packages/pyscf/symm/Dmatrix.py:156: RuntimeWarning: invalid value encountered in arccos\n",
      "  gamma = numpy.arccos(yp.dot(c2[1]))\n",
      "Progress:  17%|█▋        | 86/500 [33:08<2:34:15, 22.36s/it]"
     ]
    },
    {
     "name": "stdout",
     "output_type": "stream",
     "text": [
      "Time to: Calculate Ground State - 0.93s, Get Pauli Ops - 6.68s, Calculate Pauli Expectation Values - 14.25s, Calculate Covariance - 2.28s\n",
      "f0,f1,f2 = [2.8155095960093343e-09, 2.8155095960306926e-09, 2.81550959598894e-09]\n",
      "d01,d02,d12 = [1.034336465589567, 1.0343364655876333, 1.0343364655903526]\n"
     ]
    },
    {
     "name": "stderr",
     "output_type": "stream",
     "text": [
      "/cluster/home/mskrabulis/miniconda3/envs/quantech/lib/python3.9/site-packages/pyscf/symm/Dmatrix.py:156: RuntimeWarning: invalid value encountered in arccos\n",
      "  gamma = numpy.arccos(yp.dot(c2[1]))\n",
      "Progress:  17%|█▋        | 87/500 [33:30<2:33:22, 22.28s/it]"
     ]
    },
    {
     "name": "stdout",
     "output_type": "stream",
     "text": [
      "Time to: Calculate Ground State - 1.55s, Get Pauli Ops - 6.28s, Calculate Pauli Expectation Values - 11.34s, Calculate Covariance - 2.93s\n",
      "f0,f1,f2 = [2.22295903275626e-09, 2.222959032757362e-09, 2.22295903273737e-09]\n",
      "d01,d02,d12 = [1.016748666030661, 1.0167486660289002, 1.0167486660315284]\n"
     ]
    },
    {
     "name": "stderr",
     "output_type": "stream",
     "text": [
      "/cluster/home/mskrabulis/miniconda3/envs/quantech/lib/python3.9/site-packages/pyscf/symm/Dmatrix.py:156: RuntimeWarning: invalid value encountered in arccos\n",
      "  gamma = numpy.arccos(yp.dot(c2[1]))\n",
      "/cluster/home/mskrabulis/miniconda3/envs/quantech/lib/python3.9/site-packages/pyscf/symm/Dmatrix.py:156: RuntimeWarning: invalid value encountered in arccos\n",
      "  gamma = numpy.arccos(yp.dot(c2[1]))\n",
      "Progress:  18%|█▊        | 88/500 [33:53<2:33:44, 22.39s/it]"
     ]
    },
    {
     "name": "stdout",
     "output_type": "stream",
     "text": [
      "Time to: Calculate Ground State - 1.51s, Get Pauli Ops - 6.38s, Calculate Pauli Expectation Values - 11.65s, Calculate Covariance - 3.09s\n",
      "f0,f1,f2 = [7.463993354578931e-10, 7.463993354531897e-10, 7.463993354669574e-10]\n",
      "d01,d02,d12 = [0.9990999004240225, 0.9990999004224147, 0.9990999004249589]\n"
     ]
    },
    {
     "name": "stderr",
     "output_type": "stream",
     "text": [
      "Progress:  18%|█▊        | 89/500 [34:17<2:35:57, 22.77s/it]"
     ]
    },
    {
     "name": "stdout",
     "output_type": "stream",
     "text": [
      "Time to: Calculate Ground State - 1.53s, Get Pauli Ops - 6.77s, Calculate Pauli Expectation Values - 12.66s, Calculate Covariance - 2.68s\n",
      "f0,f1,f2 = [3.287133496330068e-10, 3.287133496972966e-10, 3.2871334963030556e-10]\n",
      "d01,d02,d12 = [0.9815642072639443, 0.9815642072624984, 0.98156420726495]\n"
     ]
    },
    {
     "name": "stderr",
     "output_type": "stream",
     "text": [
      "/cluster/home/mskrabulis/miniconda3/envs/quantech/lib/python3.9/site-packages/pyscf/symm/Dmatrix.py:156: RuntimeWarning: invalid value encountered in arccos\n",
      "  gamma = numpy.arccos(yp.dot(c2[1]))\n",
      "Progress:  18%|█▊        | 90/500 [34:41<2:39:41, 23.37s/it]"
     ]
    },
    {
     "name": "stdout",
     "output_type": "stream",
     "text": [
      "Time to: Calculate Ground State - 1.57s, Get Pauli Ops - 9.22s, Calculate Pauli Expectation Values - 11.01s, Calculate Covariance - 2.96s\n",
      "f0,f1,f2 = [5.611443304139094e-10, 5.611443303931335e-10, 5.611443304247708e-10]\n",
      "d01,d02,d12 = [0.9645092301098367, 0.9645092301085548, 0.9645092301108953]\n"
     ]
    },
    {
     "name": "stderr",
     "output_type": "stream",
     "text": [
      "Progress:  18%|█▊        | 91/500 [35:03<2:35:38, 22.83s/it]"
     ]
    },
    {
     "name": "stdout",
     "output_type": "stream",
     "text": [
      "Time to: Calculate Ground State - 1.54s, Get Pauli Ops - 6.44s, Calculate Pauli Expectation Values - 11.16s, Calculate Covariance - 2.43s\n",
      "f0,f1,f2 = [2.2217813283797295e-10, 2.2217813288465005e-10, 2.221781328295213e-10]\n",
      "d01,d02,d12 = [0.9476034528216584, 0.9476034528205833, 0.9476034528227829]\n"
     ]
    },
    {
     "name": "stderr",
     "output_type": "stream",
     "text": [
      "Progress:  18%|█▊        | 92/500 [35:27<2:38:16, 23.27s/it]"
     ]
    },
    {
     "name": "stdout",
     "output_type": "stream",
     "text": [
      "Time to: Calculate Ground State - 1.5s, Get Pauli Ops - 5.97s, Calculate Pauli Expectation Values - 13.86s, Calculate Covariance - 2.97s\n",
      "f0,f1,f2 = [1.6057182962139701e-09, 1.6057182961898696e-09, 1.6057182961664308e-09]\n",
      "d01,d02,d12 = [0.9316035253829675, 0.9316035253820891, 0.9316035253841249]\n"
     ]
    },
    {
     "name": "stderr",
     "output_type": "stream",
     "text": [
      "/cluster/home/mskrabulis/miniconda3/envs/quantech/lib/python3.9/site-packages/pyscf/symm/Dmatrix.py:156: RuntimeWarning: invalid value encountered in arccos\n",
      "  gamma = numpy.arccos(yp.dot(c2[1]))\n",
      "Progress:  19%|█▊        | 93/500 [35:54<2:45:07, 24.34s/it]"
     ]
    },
    {
     "name": "stdout",
     "output_type": "stream",
     "text": [
      "Time to: Calculate Ground State - 1.62s, Get Pauli Ops - 6.61s, Calculate Pauli Expectation Values - 15.7s, Calculate Covariance - 2.9s\n",
      "f0,f1,f2 = [2.174457919009417e-09, 2.1744579189412024e-09, 2.1744579190296727e-09]\n",
      "d01,d02,d12 = [0.9167331189663173, 0.9167331189656653, 0.9167331189675004]\n"
     ]
    },
    {
     "name": "stderr",
     "output_type": "stream",
     "text": [
      "Progress:  19%|█▉        | 94/500 [36:17<2:41:19, 23.84s/it]"
     ]
    },
    {
     "name": "stdout",
     "output_type": "stream",
     "text": [
      "Time to: Calculate Ground State - 1.66s, Get Pauli Ops - 6.97s, Calculate Pauli Expectation Values - 11.32s, Calculate Covariance - 2.69s\n",
      "f0,f1,f2 = [3.2727653584049585e-09, 3.2727653583335992e-09, 3.2727653583660925e-09]\n",
      "d01,d02,d12 = [0.9034324652954855, 0.9034324652950673, 0.9034324652966769]\n"
     ]
    },
    {
     "name": "stderr",
     "output_type": "stream",
     "text": [
      "Progress:  19%|█▉        | 95/500 [36:39<2:38:15, 23.45s/it]"
     ]
    },
    {
     "name": "stdout",
     "output_type": "stream",
     "text": [
      "Time to: Calculate Ground State - 1.58s, Get Pauli Ops - 7.1s, Calculate Pauli Expectation Values - 11.4s, Calculate Covariance - 2.43s\n",
      "f0,f1,f2 = [4.2895936143495705e-09, 4.2895936142843e-09, 4.289593614319484e-09]\n",
      "d01,d02,d12 = [0.8921016538648628, 0.89210165386468, 0.8921016538660496]\n"
     ]
    },
    {
     "name": "stderr",
     "output_type": "stream",
     "text": [
      "Progress:  19%|█▉        | 96/500 [37:01<2:33:35, 22.81s/it]"
     ]
    },
    {
     "name": "stdout",
     "output_type": "stream",
     "text": [
      "Time to: Calculate Ground State - 1.54s, Get Pauli Ops - 6.37s, Calculate Pauli Expectation Values - 10.92s, Calculate Covariance - 2.49s\n",
      "f0,f1,f2 = [4.584256115582231e-09, 4.58425611551829e-09, 4.58425611555703e-09]\n",
      "d01,d02,d12 = [0.8828352812989926, 0.8828352812990514, 0.882835281300176]\n"
     ]
    },
    {
     "name": "stderr",
     "output_type": "stream",
     "text": [
      "/cluster/home/mskrabulis/miniconda3/envs/quantech/lib/python3.9/site-packages/pyscf/symm/Dmatrix.py:156: RuntimeWarning: invalid value encountered in arccos\n",
      "  gamma = numpy.arccos(yp.dot(c2[1]))\n",
      "Progress:  19%|█▉        | 97/500 [37:23<2:32:51, 22.76s/it]"
     ]
    },
    {
     "name": "stdout",
     "output_type": "stream",
     "text": [
      "Time to: Calculate Ground State - 1.53s, Get Pauli Ops - 7.0s, Calculate Pauli Expectation Values - 11.01s, Calculate Covariance - 3.09s\n",
      "f0,f1,f2 = [4.7474859953642644e-09, 4.7474859953261695e-09, 4.747485995362697e-09]\n",
      "d01,d02,d12 = [0.8756718351285613, 0.8756718351288573, 0.8756718351297321]\n"
     ]
    },
    {
     "name": "stderr",
     "output_type": "stream",
     "text": [
      "Progress:  20%|█▉        | 98/500 [37:45<2:30:05, 22.40s/it]"
     ]
    },
    {
     "name": "stdout",
     "output_type": "stream",
     "text": [
      "Time to: Calculate Ground State - 1.52s, Get Pauli Ops - 6.1s, Calculate Pauli Expectation Values - 11.51s, Calculate Covariance - 2.43s\n",
      "f0,f1,f2 = [6.518655803977106e-09, 6.5186558039292574e-09, 6.518655804008143e-09]\n",
      "d01,d02,d12 = [0.8713160962118668, 0.871316096212404, 0.8713160962130231]\n"
     ]
    },
    {
     "name": "stderr",
     "output_type": "stream",
     "text": [
      "Progress:  20%|█▉        | 99/500 [38:08<2:32:03, 22.75s/it]"
     ]
    },
    {
     "name": "stdout",
     "output_type": "stream",
     "text": [
      "Time to: Calculate Ground State - 1.6s, Get Pauli Ops - 9.25s, Calculate Pauli Expectation Values - 10.97s, Calculate Covariance - 1.74s\n",
      "f0,f1,f2 = [7.436000450498142e-09, 7.436000450487293e-09, 7.436000450523479e-09]\n",
      "d01,d02,d12 = [0.870108224050517, 0.8701082240513008, 0.8701082240516513]\n"
     ]
    },
    {
     "name": "stderr",
     "output_type": "stream",
     "text": [
      "Progress:  20%|██        | 100/500 [38:38<2:44:46, 24.72s/it]"
     ]
    },
    {
     "name": "stdout",
     "output_type": "stream",
     "text": [
      "Time to: Calculate Ground State - 1.73s, Get Pauli Ops - 10.37s, Calculate Pauli Expectation Values - 14.19s, Calculate Covariance - 3.0s\n",
      "f0,f1,f2 = [5.92460830150486e-09, 5.924608301495048e-09, 5.924608301497352e-09]\n",
      "d01,d02,d12 = [0.8713757136376254, 0.871375713638638, 0.871375713638728]\n"
     ]
    },
    {
     "name": "stderr",
     "output_type": "stream",
     "text": [
      "/cluster/home/mskrabulis/miniconda3/envs/quantech/lib/python3.9/site-packages/pyscf/symm/Dmatrix.py:156: RuntimeWarning: invalid value encountered in arccos\n",
      "  gamma = numpy.arccos(yp.dot(c2[1]))\n",
      "Progress:  20%|██        | 101/500 [39:01<2:41:43, 24.32s/it]"
     ]
    },
    {
     "name": "stdout",
     "output_type": "stream",
     "text": [
      "Time to: Calculate Ground State - 1.55s, Get Pauli Ops - 5.95s, Calculate Pauli Expectation Values - 13.06s, Calculate Covariance - 2.82s\n",
      "f0,f1,f2 = [6.409633001794463e-09, 6.409633001803551e-09, 6.409633001783236e-09]\n",
      "d01,d02,d12 = [0.8752840019877544, 0.8752840019889794, 0.8752840019888155]\n"
     ]
    },
    {
     "name": "stderr",
     "output_type": "stream",
     "text": [
      "Progress:  20%|██        | 102/500 [39:25<2:40:58, 24.27s/it]"
     ]
    },
    {
     "name": "stdout",
     "output_type": "stream",
     "text": [
      "Time to: Calculate Ground State - 0.96s, Get Pauli Ops - 6.87s, Calculate Pauli Expectation Values - 14.2s, Calculate Covariance - 2.11s\n",
      "f0,f1,f2 = [6.143002126630712e-09, 6.143002126618351e-09, 6.143002126613427e-09]\n",
      "d01,d02,d12 = [0.8816843907076931, 0.8816843907091112, 0.8816843907086999]\n"
     ]
    },
    {
     "name": "stderr",
     "output_type": "stream",
     "text": [
      "Progress:  21%|██        | 103/500 [39:51<2:44:21, 24.84s/it]"
     ]
    },
    {
     "name": "stdout",
     "output_type": "stream",
     "text": [
      "Time to: Calculate Ground State - 1.57s, Get Pauli Ops - 10.47s, Calculate Pauli Expectation Values - 11.56s, Calculate Covariance - 2.57s\n",
      "f0,f1,f2 = [5.776984752642892e-09, 5.776984752682828e-09, 5.776984752614383e-09]\n",
      "d01,d02,d12 = [0.8903892758139357, 0.8903892758155239, 0.890389275814877]\n"
     ]
    },
    {
     "name": "stderr",
     "output_type": "stream",
     "text": [
      "Progress:  21%|██        | 104/500 [40:15<2:42:28, 24.62s/it]"
     ]
    },
    {
     "name": "stdout",
     "output_type": "stream",
     "text": [
      "Time to: Calculate Ground State - 1.49s, Get Pauli Ops - 6.41s, Calculate Pauli Expectation Values - 13.75s, Calculate Covariance - 2.45s\n",
      "f0,f1,f2 = [3.737910864146663e-09, 3.737910864137689e-09, 3.7379108640855175e-09]\n",
      "d01,d02,d12 = [0.9005198945238546, 0.9005198945255822, 0.9005198945247028]\n"
     ]
    },
    {
     "name": "stderr",
     "output_type": "stream",
     "text": [
      "Progress:  21%|██        | 105/500 [40:41<2:44:29, 24.99s/it]"
     ]
    },
    {
     "name": "stdout",
     "output_type": "stream",
     "text": [
      "Time to: Calculate Ground State - 0.95s, Get Pauli Ops - 7.01s, Calculate Pauli Expectation Values - 14.86s, Calculate Covariance - 3.02s\n",
      "f0,f1,f2 = [3.511728436919759e-09, 3.5117284369903157e-09, 3.511728436915046e-09]\n",
      "d01,d02,d12 = [0.9119623751230042, 0.9119623751248531, 0.911962375123754]\n"
     ]
    },
    {
     "name": "stderr",
     "output_type": "stream",
     "text": [
      "/cluster/home/mskrabulis/miniconda3/envs/quantech/lib/python3.9/site-packages/pyscf/symm/Dmatrix.py:156: RuntimeWarning: invalid value encountered in arccos\n",
      "  gamma = numpy.arccos(yp.dot(c2[1]))\n",
      "Progress:  21%|██        | 106/500 [41:07<2:44:58, 25.12s/it]"
     ]
    },
    {
     "name": "stdout",
     "output_type": "stream",
     "text": [
      "Time to: Calculate Ground State - 1.58s, Get Pauli Ops - 6.1s, Calculate Pauli Expectation Values - 15.33s, Calculate Covariance - 2.42s\n",
      "f0,f1,f2 = [3.385818605242552e-09, 3.385818605237709e-09, 3.3858186051792084e-09]\n",
      "d01,d02,d12 = [0.9246461889283929, 0.9246461889303491, 0.924646188929026]\n"
     ]
    },
    {
     "name": "stderr",
     "output_type": "stream",
     "text": [
      "Progress:  21%|██▏       | 107/500 [41:38<2:56:04, 26.88s/it]"
     ]
    },
    {
     "name": "stdout",
     "output_type": "stream",
     "text": [
      "Time to: Calculate Ground State - 1.62s, Get Pauli Ops - 15.09s, Calculate Pauli Expectation Values - 11.15s, Calculate Covariance - 3.12s\n",
      "f0,f1,f2 = [2.0809401857197273e-09, 2.080940185771812e-09, 2.0809401857152883e-09]\n",
      "d01,d02,d12 = [0.9380127815139552, 0.9380127815160018, 0.9380127815144718]\n"
     ]
    },
    {
     "name": "stderr",
     "output_type": "stream",
     "text": [
      "Progress:  22%|██▏       | 108/500 [42:05<2:55:52, 26.92s/it]"
     ]
    },
    {
     "name": "stdout",
     "output_type": "stream",
     "text": [
      "Time to: Calculate Ground State - 1.76s, Get Pauli Ops - 8.75s, Calculate Pauli Expectation Values - 13.58s, Calculate Covariance - 2.91s\n",
      "f0,f1,f2 = [2.1275880076624584e-09, 2.1275880077372058e-09, 2.127588007707674e-09]\n",
      "d01,d02,d12 = [0.9520722471856893, 0.9520722471878177, 0.9520722471861065]\n"
     ]
    },
    {
     "name": "stderr",
     "output_type": "stream",
     "text": [
      "Progress:  22%|██▏       | 109/500 [42:30<2:52:17, 26.44s/it]"
     ]
    },
    {
     "name": "stdout",
     "output_type": "stream",
     "text": [
      "Time to: Calculate Ground State - 1.61s, Get Pauli Ops - 9.47s, Calculate Pauli Expectation Values - 11.4s, Calculate Covariance - 2.83s\n",
      "f0,f1,f2 = [2.6161438605924245e-09, 2.6161438606306812e-09, 2.6161438606031936e-09]\n",
      "d01,d02,d12 = [0.9670178232540889, 0.967017823256262, 0.9670178232544159]\n"
     ]
    },
    {
     "name": "stderr",
     "output_type": "stream",
     "text": [
      "Progress:  22%|██▏       | 110/500 [42:54<2:47:52, 25.83s/it]"
     ]
    },
    {
     "name": "stdout",
     "output_type": "stream",
     "text": [
      "Time to: Calculate Ground State - 1.55s, Get Pauli Ops - 8.88s, Calculate Pauli Expectation Values - 11.15s, Calculate Covariance - 2.81s\n",
      "f0,f1,f2 = [4.4230854367055933e-10, 4.4230854372495043e-10, 4.4230854368086274e-10]\n",
      "d01,d02,d12 = [0.981935419745269, 0.9819354197474807, 0.9819354197455202]\n"
     ]
    },
    {
     "name": "stderr",
     "output_type": "stream",
     "text": [
      "Progress:  22%|██▏       | 111/500 [43:16<2:38:34, 24.46s/it]"
     ]
    },
    {
     "name": "stdout",
     "output_type": "stream",
     "text": [
      "Time to: Calculate Ground State - 0.91s, Get Pauli Ops - 6.21s, Calculate Pauli Expectation Values - 11.34s, Calculate Covariance - 2.79s\n",
      "f0,f1,f2 = [1.4708367906717298e-09, 1.4708367906483671e-09, 1.4708367906588895e-09]\n",
      "d01,d02,d12 = [0.9972523099983044, 0.997252310000536, 0.9972523099984449]\n"
     ]
    },
    {
     "name": "stderr",
     "output_type": "stream",
     "text": [
      "/cluster/home/mskrabulis/miniconda3/envs/quantech/lib/python3.9/site-packages/pyscf/symm/Dmatrix.py:156: RuntimeWarning: invalid value encountered in arccos\n",
      "  gamma = numpy.arccos(yp.dot(c2[1]))\n",
      "/cluster/home/mskrabulis/miniconda3/envs/quantech/lib/python3.9/site-packages/pyscf/symm/Dmatrix.py:156: RuntimeWarning: invalid value encountered in arccos\n",
      "  gamma = numpy.arccos(yp.dot(c2[1]))\n",
      "Progress:  22%|██▏       | 112/500 [43:38<2:33:55, 23.80s/it]"
     ]
    },
    {
     "name": "stdout",
     "output_type": "stream",
     "text": [
      "Time to: Calculate Ground State - 1.46s, Get Pauli Ops - 5.97s, Calculate Pauli Expectation Values - 12.15s, Calculate Covariance - 2.68s\n",
      "f0,f1,f2 = [2.7621068573473374e-10, 2.762106857216698e-10, 2.7621068574198e-10]\n",
      "d01,d02,d12 = [1.012238126326631, 1.0122381263288793, 1.012238126326664]\n"
     ]
    },
    {
     "name": "stderr",
     "output_type": "stream",
     "text": [
      "Progress:  23%|██▎       | 113/500 [44:01<2:32:15, 23.60s/it]"
     ]
    },
    {
     "name": "stdout",
     "output_type": "stream",
     "text": [
      "Time to: Calculate Ground State - 1.51s, Get Pauli Ops - 5.96s, Calculate Pauli Expectation Values - 12.77s, Calculate Covariance - 2.9s\n",
      "f0,f1,f2 = [4.580647749782645e-10, 4.5806477490897905e-10, 4.580647749654643e-10]\n",
      "d01,d02,d12 = [1.0268220498951046, 1.0268220498973524, 1.0268220498950225]\n"
     ]
    },
    {
     "name": "stderr",
     "output_type": "stream",
     "text": [
      "Progress:  23%|██▎       | 114/500 [44:25<2:33:10, 23.81s/it]"
     ]
    },
    {
     "name": "stdout",
     "output_type": "stream",
     "text": [
      "Time to: Calculate Ground State - 1.59s, Get Pauli Ops - 6.93s, Calculate Pauli Expectation Values - 13.39s, Calculate Covariance - 2.37s\n",
      "f0,f1,f2 = [9.235093871188751e-10, 9.235093871376752e-10, 9.235093871677425e-10]\n",
      "d01,d02,d12 = [1.0408165205131013, 1.0408165205153346, 1.0408165205129025]\n"
     ]
    },
    {
     "name": "stderr",
     "output_type": "stream",
     "text": [
      "Progress:  23%|██▎       | 115/500 [44:50<2:34:05, 24.01s/it]"
     ]
    },
    {
     "name": "stdout",
     "output_type": "stream",
     "text": [
      "Time to: Calculate Ground State - 1.15s, Get Pauli Ops - 9.72s, Calculate Pauli Expectation Values - 11.02s, Calculate Covariance - 2.6s\n",
      "f0,f1,f2 = [3.5531291268741723e-09, 3.553129126889905e-09, 3.553129126911685e-09]\n",
      "d01,d02,d12 = [1.0531387358259354, 1.053138735828134, 1.0531387358256132]\n"
     ]
    },
    {
     "name": "stderr",
     "output_type": "stream",
     "text": [
      "/cluster/home/mskrabulis/miniconda3/envs/quantech/lib/python3.9/site-packages/pyscf/symm/Dmatrix.py:156: RuntimeWarning: invalid value encountered in arccos\n",
      "  gamma = numpy.arccos(yp.dot(c2[1]))\n",
      "Progress:  23%|██▎       | 116/500 [45:15<2:35:22, 24.28s/it]"
     ]
    },
    {
     "name": "stdout",
     "output_type": "stream",
     "text": [
      "Time to: Calculate Ground State - 1.45s, Get Pauli Ops - 9.51s, Calculate Pauli Expectation Values - 11.51s, Calculate Covariance - 2.42s\n",
      "f0,f1,f2 = [3.2113127534517877e-09, 3.211312753414768e-09, 3.2113127533963715e-09]\n",
      "d01,d02,d12 = [1.0639539727808494, 1.0639539727830203, 1.0639539727804228]\n"
     ]
    },
    {
     "name": "stderr",
     "output_type": "stream",
     "text": [
      "Progress:  23%|██▎       | 117/500 [45:38<2:32:28, 23.89s/it]"
     ]
    },
    {
     "name": "stdout",
     "output_type": "stream",
     "text": [
      "Time to: Calculate Ground State - 1.57s, Get Pauli Ops - 7.04s, Calculate Pauli Expectation Values - 11.26s, Calculate Covariance - 3.1s\n",
      "f0,f1,f2 = [1.5596666378098263e-09, 1.559666637711333e-09, 1.5596666377442782e-09]\n",
      "d01,d02,d12 = [1.0739686121921979, 1.0739686121943366, 1.0739686121916854]\n"
     ]
    },
    {
     "name": "stderr",
     "output_type": "stream",
     "text": [
      "/cluster/home/mskrabulis/miniconda3/envs/quantech/lib/python3.9/site-packages/pyscf/symm/Dmatrix.py:156: RuntimeWarning: invalid value encountered in arccos\n",
      "  gamma = numpy.arccos(yp.dot(c2[1]))\n",
      "/cluster/home/mskrabulis/miniconda3/envs/quantech/lib/python3.9/site-packages/pyscf/symm/Dmatrix.py:156: RuntimeWarning: invalid value encountered in arccos\n",
      "  gamma = numpy.arccos(yp.dot(c2[1]))\n",
      "Progress:  24%|██▎       | 118/500 [46:05<2:37:56, 24.81s/it]"
     ]
    },
    {
     "name": "stdout",
     "output_type": "stream",
     "text": [
      "Time to: Calculate Ground State - 1.57s, Get Pauli Ops - 11.41s, Calculate Pauli Expectation Values - 11.09s, Calculate Covariance - 2.87s\n",
      "f0,f1,f2 = [3.244693134344783e-09, 3.24469313438784e-09, 3.244693134399149e-09]\n",
      "d01,d02,d12 = [1.0824947790585044, 1.0824947790605919, 1.0824947790578894]\n"
     ]
    },
    {
     "name": "stderr",
     "output_type": "stream",
     "text": [
      "Progress:  24%|██▍       | 119/500 [46:30<2:38:42, 24.99s/it]"
     ]
    },
    {
     "name": "stdout",
     "output_type": "stream",
     "text": [
      "Time to: Calculate Ground State - 1.61s, Get Pauli Ops - 10.55s, Calculate Pauli Expectation Values - 11.17s, Calculate Covariance - 2.08s\n",
      "f0,f1,f2 = [3.26966006395722e-09, 3.2696600639603835e-09, 3.2696600639868905e-09]\n",
      "d01,d02,d12 = [1.0895431285258095, 1.0895431285278259, 1.0895431285250858]\n"
     ]
    },
    {
     "name": "stderr",
     "output_type": "stream",
     "text": [
      "Progress:  24%|██▍       | 120/500 [46:55<2:38:39, 25.05s/it]"
     ]
    },
    {
     "name": "stdout",
     "output_type": "stream",
     "text": [
      "Time to: Calculate Ground State - 1.62s, Get Pauli Ops - 8.82s, Calculate Pauli Expectation Values - 11.63s, Calculate Covariance - 3.1s\n",
      "f0,f1,f2 = [4.050173728103918e-09, 4.050173728079778e-09, 4.050173728142975e-09]\n",
      "d01,d02,d12 = [1.0948107825539974, 1.0948107825559303, 1.0948107825531652]\n"
     ]
    },
    {
     "name": "stderr",
     "output_type": "stream",
     "text": [
      "Progress:  24%|██▍       | 121/500 [47:21<2:39:23, 25.23s/it]"
     ]
    },
    {
     "name": "stdout",
     "output_type": "stream",
     "text": [
      "Time to: Calculate Ground State - 1.6s, Get Pauli Ops - 10.06s, Calculate Pauli Expectation Values - 11.3s, Calculate Covariance - 2.68s\n",
      "f0,f1,f2 = [4.5543052205651215e-09, 4.554305220492685e-09, 4.5543052205295056e-09]\n",
      "d01,d02,d12 = [1.0981139062338412, 1.098113906235681, 1.0981139062329095]\n"
     ]
    },
    {
     "name": "stderr",
     "output_type": "stream",
     "text": [
      "Progress:  24%|██▍       | 122/500 [47:46<2:38:43, 25.20s/it]"
     ]
    },
    {
     "name": "stdout",
     "output_type": "stream",
     "text": [
      "Time to: Calculate Ground State - 1.57s, Get Pauli Ops - 8.43s, Calculate Pauli Expectation Values - 12.04s, Calculate Covariance - 3.06s\n",
      "f0,f1,f2 = [3.889040826202384e-09, 3.889040826233368e-09, 3.889040826276557e-09]\n",
      "d01,d02,d12 = [1.0997564830076012, 1.0997564830093307, 1.0997564830065518]\n"
     ]
    },
    {
     "name": "stderr",
     "output_type": "stream",
     "text": [
      "Progress:  25%|██▍       | 123/500 [48:09<2:34:31, 24.59s/it]"
     ]
    },
    {
     "name": "stdout",
     "output_type": "stream",
     "text": [
      "Time to: Calculate Ground State - 1.66s, Get Pauli Ops - 7.32s, Calculate Pauli Expectation Values - 11.1s, Calculate Covariance - 3.1s\n",
      "f0,f1,f2 = [3.2981795017744084e-09, 3.2981795017447916e-09, 3.298179501763581e-09]\n",
      "d01,d02,d12 = [1.1000073258422385, 1.1000073258438485, 1.1000073258410772]\n"
     ]
    },
    {
     "name": "stderr",
     "output_type": "stream",
     "text": [
      "/cluster/home/mskrabulis/miniconda3/envs/quantech/lib/python3.9/site-packages/pyscf/symm/Dmatrix.py:156: RuntimeWarning: invalid value encountered in arccos\n",
      "  gamma = numpy.arccos(yp.dot(c2[1]))\n",
      "/cluster/home/mskrabulis/miniconda3/envs/quantech/lib/python3.9/site-packages/pyscf/symm/Dmatrix.py:156: RuntimeWarning: invalid value encountered in arccos\n",
      "  gamma = numpy.arccos(yp.dot(c2[1]))\n",
      "Progress:  25%|██▍       | 124/500 [48:31<2:28:45, 23.74s/it]"
     ]
    },
    {
     "name": "stdout",
     "output_type": "stream",
     "text": [
      "Time to: Calculate Ground State - 1.6s, Get Pauli Ops - 7.28s, Calculate Pauli Expectation Values - 10.86s, Calculate Covariance - 1.99s\n",
      "f0,f1,f2 = [3.925807180864835e-09, 3.925807180854479e-09, 3.925807180858894e-09]\n",
      "d01,d02,d12 = [1.0986259184102471, 1.0986259184117353, 1.0986259184089835]\n"
     ]
    },
    {
     "name": "stderr",
     "output_type": "stream",
     "text": [
      "Progress:  25%|██▌       | 125/500 [48:54<2:26:53, 23.50s/it]"
     ]
    },
    {
     "name": "stdout",
     "output_type": "stream",
     "text": [
      "Time to: Calculate Ground State - 1.61s, Get Pauli Ops - 7.36s, Calculate Pauli Expectation Values - 10.9s, Calculate Covariance - 3.08s\n",
      "f0,f1,f2 = [4.15641401614533e-09, 4.1564140161173485e-09, 4.156414016158981e-09]\n",
      "d01,d02,d12 = [1.0955398827547111, 1.0955398827560672, 1.0955398827533498]\n"
     ]
    },
    {
     "name": "stderr",
     "output_type": "stream",
     "text": [
      "Progress:  25%|██▌       | 126/500 [49:20<2:31:08, 24.25s/it]"
     ]
    },
    {
     "name": "stdout",
     "output_type": "stream",
     "text": [
      "Time to: Calculate Ground State - 1.49s, Get Pauli Ops - 10.44s, Calculate Pauli Expectation Values - 11.38s, Calculate Covariance - 2.65s\n",
      "f0,f1,f2 = [3.0411452612181128e-09, 3.0411452611657096e-09, 3.041145261209408e-09]\n",
      "d01,d02,d12 = [1.0912362040560781, 1.0912362040572965, 1.0912362040546324]\n"
     ]
    },
    {
     "name": "stderr",
     "output_type": "stream",
     "text": [
      "Progress:  25%|██▌       | 127/500 [49:44<2:31:09, 24.32s/it]"
     ]
    },
    {
     "name": "stdout",
     "output_type": "stream",
     "text": [
      "Time to: Calculate Ground State - 1.36s, Get Pauli Ops - 6.21s, Calculate Pauli Expectation Values - 14.71s, Calculate Covariance - 2.19s\n",
      "f0,f1,f2 = [3.1700936084646398e-09, 3.17009360843672e-09, 3.1700936084235045e-09]\n",
      "d01,d02,d12 = [1.085678710913419, 1.0856787109144888, 1.0856787109118937]\n"
     ]
    },
    {
     "name": "stderr",
     "output_type": "stream",
     "text": [
      "Progress:  26%|██▌       | 128/500 [50:05<2:24:11, 23.26s/it]"
     ]
    },
    {
     "name": "stdout",
     "output_type": "stream",
     "text": [
      "Time to: Calculate Ground State - 0.95s, Get Pauli Ops - 6.6s, Calculate Pauli Expectation Values - 10.85s, Calculate Covariance - 2.38s\n",
      "f0,f1,f2 = [4.037769089346023e-09, 4.0377690892840715e-09, 4.037769089326941e-09]\n",
      "d01,d02,d12 = [1.0785252397305984, 1.078525239731508, 1.0785252397290144]\n"
     ]
    },
    {
     "name": "stderr",
     "output_type": "stream",
     "text": [
      "Progress:  26%|██▌       | 129/500 [50:26<2:18:39, 22.42s/it]"
     ]
    },
    {
     "name": "stdout",
     "output_type": "stream",
     "text": [
      "Time to: Calculate Ground State - 1.02s, Get Pauli Ops - 5.95s, Calculate Pauli Expectation Values - 10.83s, Calculate Covariance - 2.67s\n",
      "f0,f1,f2 = [3.3708304744920108e-09, 3.3708304745571045e-09, 3.370830474496136e-09]\n",
      "d01,d02,d12 = [1.070075098174339, 1.0700750981750928, 1.0700750981726996]\n"
     ]
    },
    {
     "name": "stderr",
     "output_type": "stream",
     "text": [
      "Progress:  26%|██▌       | 130/500 [50:50<2:20:45, 22.83s/it]"
     ]
    },
    {
     "name": "stdout",
     "output_type": "stream",
     "text": [
      "Time to: Calculate Ground State - 1.57s, Get Pauli Ops - 6.25s, Calculate Pauli Expectation Values - 14.01s, Calculate Covariance - 1.93s\n",
      "f0,f1,f2 = [3.2181907285543002e-09, 3.2181907285261132e-09, 3.2181907285605756e-09]\n",
      "d01,d02,d12 = [1.0604099162216323, 1.0604099162222114, 1.0604099162199436]\n"
     ]
    },
    {
     "name": "stderr",
     "output_type": "stream",
     "text": [
      "/cluster/home/mskrabulis/miniconda3/envs/quantech/lib/python3.9/site-packages/pyscf/symm/Dmatrix.py:156: RuntimeWarning: invalid value encountered in arccos\n",
      "  gamma = numpy.arccos(yp.dot(c2[1]))\n",
      "Progress:  26%|██▌       | 131/500 [51:14<2:22:53, 23.23s/it]"
     ]
    },
    {
     "name": "stdout",
     "output_type": "stream",
     "text": [
      "Time to: Calculate Ground State - 0.94s, Get Pauli Ops - 6.07s, Calculate Pauli Expectation Values - 14.42s, Calculate Covariance - 2.75s\n",
      "f0,f1,f2 = [1.4792078933235648e-09, 1.479207893285061e-09, 1.4792078932721067e-09]\n",
      "d01,d02,d12 = [1.050268229861703, 1.0502682298621107, 1.0502682298599917]\n"
     ]
    },
    {
     "name": "stderr",
     "output_type": "stream",
     "text": [
      "Progress:  26%|██▋       | 132/500 [51:41<2:29:28, 24.37s/it]"
     ]
    },
    {
     "name": "stdout",
     "output_type": "stream",
     "text": [
      "Time to: Calculate Ground State - 1.58s, Get Pauli Ops - 7.2s, Calculate Pauli Expectation Values - 15.16s, Calculate Covariance - 3.07s\n",
      "f0,f1,f2 = [1.554388648963567e-09, 1.5543886489501143e-09, 1.554388648957249e-09]\n",
      "d01,d02,d12 = [1.039625448025205, 1.0396254480254368, 1.039625448023472]\n"
     ]
    },
    {
     "name": "stderr",
     "output_type": "stream",
     "text": [
      "/cluster/home/mskrabulis/miniconda3/envs/quantech/lib/python3.9/site-packages/pyscf/symm/Dmatrix.py:156: RuntimeWarning: invalid value encountered in arccos\n",
      "  gamma = numpy.arccos(yp.dot(c2[1]))\n",
      "Progress:  27%|██▋       | 133/500 [52:03<2:25:08, 23.73s/it]"
     ]
    },
    {
     "name": "stdout",
     "output_type": "stream",
     "text": [
      "Time to: Calculate Ground State - 1.57s, Get Pauli Ops - 6.66s, Calculate Pauli Expectation Values - 10.87s, Calculate Covariance - 3.13s\n",
      "f0,f1,f2 = [2.293467718125166e-09, 2.2934677180973375e-09, 2.293467718130528e-09]\n",
      "d01,d02,d12 = [1.0281819042380858, 1.0281819042381286, 1.0281819042363323]\n"
     ]
    },
    {
     "name": "stderr",
     "output_type": "stream",
     "text": [
      "Progress:  27%|██▋       | 134/500 [52:25<2:21:02, 23.12s/it]"
     ]
    },
    {
     "name": "stdout",
     "output_type": "stream",
     "text": [
      "Time to: Calculate Ground State - 1.58s, Get Pauli Ops - 6.5s, Calculate Pauli Expectation Values - 11.11s, Calculate Covariance - 2.5s\n",
      "f0,f1,f2 = [3.7367231089126076e-10, 3.7367231093362135e-10, 3.7367231092661156e-10]\n",
      "d01,d02,d12 = [1.0170552927215581, 1.017055292721412, 1.0170552927197845]\n"
     ]
    },
    {
     "name": "stderr",
     "output_type": "stream",
     "text": [
      "Progress:  27%|██▋       | 135/500 [52:50<2:24:27, 23.75s/it]"
     ]
    },
    {
     "name": "stdout",
     "output_type": "stream",
     "text": [
      "Time to: Calculate Ground State - 1.6s, Get Pauli Ops - 8.83s, Calculate Pauli Expectation Values - 11.77s, Calculate Covariance - 3.0s\n",
      "f0,f1,f2 = [1.0034375159595529e-09, 1.0034375158990911e-09, 1.0034375158848918e-09]\n",
      "d01,d02,d12 = [1.0056697224219828, 1.0056697224216506, 1.005669722420219]\n"
     ]
    },
    {
     "name": "stderr",
     "output_type": "stream",
     "text": [
      "/cluster/home/mskrabulis/miniconda3/envs/quantech/lib/python3.9/site-packages/pyscf/symm/Dmatrix.py:156: RuntimeWarning: invalid value encountered in arccos\n",
      "  gamma = numpy.arccos(yp.dot(c2[1]))\n",
      "Progress:  27%|██▋       | 136/500 [53:15<2:26:10, 24.09s/it]"
     ]
    },
    {
     "name": "stdout",
     "output_type": "stream",
     "text": [
      "Time to: Calculate Ground State - 1.66s, Get Pauli Ops - 6.07s, Calculate Pauli Expectation Values - 14.1s, Calculate Covariance - 3.06s\n",
      "f0,f1,f2 = [4.123913869133074e-10, 4.1239138689237886e-10, 4.123913869035197e-10]\n",
      "d01,d02,d12 = [0.9942739999433353, 0.9942739999428171, 0.9942739999415985]\n"
     ]
    },
    {
     "name": "stderr",
     "output_type": "stream",
     "text": [
      "Progress:  27%|██▋       | 137/500 [53:38<2:23:21, 23.70s/it]"
     ]
    },
    {
     "name": "stdout",
     "output_type": "stream",
     "text": [
      "Time to: Calculate Ground State - 1.5s, Get Pauli Ops - 7.46s, Calculate Pauli Expectation Values - 10.91s, Calculate Covariance - 2.88s\n",
      "f0,f1,f2 = [6.514083477898504e-10, 6.514083478412481e-10, 6.514083478470677e-10]\n",
      "d01,d02,d12 = [0.9833095878635658, 0.983309587862868, 0.9833095878618741]\n"
     ]
    },
    {
     "name": "stderr",
     "output_type": "stream",
     "text": [
      "Progress:  28%|██▊       | 138/500 [53:59<2:18:41, 22.99s/it]"
     ]
    },
    {
     "name": "stdout",
     "output_type": "stream",
     "text": [
      "Time to: Calculate Ground State - 1.53s, Get Pauli Ops - 6.74s, Calculate Pauli Expectation Values - 10.72s, Calculate Covariance - 2.33s\n",
      "f0,f1,f2 = [7.42049688103095e-11, 7.420496879830657e-11, 7.420496885322734e-11]\n",
      "d01,d02,d12 = [0.9725309649281983, 0.972530964927342, 0.9725309649265762]\n"
     ]
    },
    {
     "name": "stderr",
     "output_type": "stream",
     "text": [
      "/cluster/home/mskrabulis/miniconda3/envs/quantech/lib/python3.9/site-packages/pyscf/symm/Dmatrix.py:156: RuntimeWarning: invalid value encountered in arccos\n",
      "  gamma = numpy.arccos(yp.dot(c2[1]))\n",
      "Progress:  28%|██▊       | 139/500 [54:22<2:18:44, 23.06s/it]"
     ]
    },
    {
     "name": "stdout",
     "output_type": "stream",
     "text": [
      "Time to: Calculate Ground State - 1.47s, Get Pauli Ops - 6.31s, Calculate Pauli Expectation Values - 13.05s, Calculate Covariance - 2.38s\n",
      "f0,f1,f2 = [1.5754861032288202e-10, 1.5754861034137917e-10, 1.5754861034261077e-10]\n",
      "d01,d02,d12 = [0.9619701597277294, 0.9619701597267054, 0.9619701597261617]\n"
     ]
    },
    {
     "name": "stderr",
     "output_type": "stream",
     "text": [
      "Progress:  28%|██▊       | 140/500 [54:45<2:18:39, 23.11s/it]"
     ]
    },
    {
     "name": "stdout",
     "output_type": "stream",
     "text": [
      "Time to: Calculate Ground State - 1.6s, Get Pauli Ops - 7.56s, Calculate Pauli Expectation Values - 10.94s, Calculate Covariance - 3.11s\n",
      "f0,f1,f2 = [4.662710513104366e-10, 4.662710513148895e-10, 4.662710513326095e-10]\n",
      "d01,d02,d12 = [0.9517522893310674, 0.9517522893298749, 0.9517522893295651]\n"
     ]
    },
    {
     "name": "stderr",
     "output_type": "stream",
     "text": [
      "Progress:  28%|██▊       | 141/500 [55:07<2:15:47, 22.69s/it]"
     ]
    },
    {
     "name": "stdout",
     "output_type": "stream",
     "text": [
      "Time to: Calculate Ground State - 1.59s, Get Pauli Ops - 7.08s, Calculate Pauli Expectation Values - 9.86s, Calculate Covariance - 3.18s\n",
      "f0,f1,f2 = [1.0212949047625513e-09, 1.0212949047484419e-09, 1.0212949047736153e-09]\n",
      "d01,d02,d12 = [0.9421029133966164, 0.9421029133952706, 0.9421029133952024]\n"
     ]
    },
    {
     "name": "stderr",
     "output_type": "stream",
     "text": [
      "Progress:  28%|██▊       | 142/500 [55:33<2:20:30, 23.55s/it]"
     ]
    },
    {
     "name": "stdout",
     "output_type": "stream",
     "text": [
      "Time to: Calculate Ground State - 1.72s, Get Pauli Ops - 10.46s, Calculate Pauli Expectation Values - 10.12s, Calculate Covariance - 3.23s\n",
      "f0,f1,f2 = [1.18018105677635e-09, 1.1801810567907267e-09, 1.1801810567961214e-09]\n",
      "d01,d02,d12 = [0.9330800689342873, 0.9330800689327906, 0.9330800689329671]\n"
     ]
    },
    {
     "name": "stderr",
     "output_type": "stream",
     "text": [
      "Progress:  29%|██▊       | 143/500 [55:58<2:24:00, 24.20s/it]"
     ]
    },
    {
     "name": "stdout",
     "output_type": "stream",
     "text": [
      "Time to: Calculate Ground State - 1.83s, Get Pauli Ops - 7.72s, Calculate Pauli Expectation Values - 12.91s, Calculate Covariance - 3.25s\n",
      "f0,f1,f2 = [3.052258801075079e-09, 3.052258801071953e-09, 3.0522588010864806e-09]\n",
      "d01,d02,d12 = [0.92545170758678, 0.9254517075851528, 0.9254517075855628]\n"
     ]
    },
    {
     "name": "stderr",
     "output_type": "stream",
     "text": [
      "Progress:  29%|██▉       | 144/500 [56:27<2:31:42, 25.57s/it]"
     ]
    },
    {
     "name": "stdout",
     "output_type": "stream",
     "text": [
      "Time to: Calculate Ground State - 1.86s, Get Pauli Ops - 10.5s, Calculate Pauli Expectation Values - 13.16s, Calculate Covariance - 3.22s\n",
      "f0,f1,f2 = [2.6714953499968334e-09, 2.6714953500462256e-09, 2.6714953500542236e-09]\n",
      "d01,d02,d12 = [0.9190402042712036, 0.9190402042694434, 0.9190402042700977]\n"
     ]
    },
    {
     "name": "stderr",
     "output_type": "stream",
     "text": [
      "Progress:  29%|██▉       | 145/500 [56:53<2:32:02, 25.70s/it]"
     ]
    },
    {
     "name": "stdout",
     "output_type": "stream",
     "text": [
      "Time to: Calculate Ground State - 1.67s, Get Pauli Ops - 11.19s, Calculate Pauli Expectation Values - 9.97s, Calculate Covariance - 3.16s\n",
      "f0,f1,f2 = [4.3697022625157446e-09, 4.3697022624625486e-09, 4.3697022624909705e-09]\n",
      "d01,d02,d12 = [0.9145328872567638, 0.9145328872548849, 0.914532887255777]\n"
     ]
    },
    {
     "name": "stderr",
     "output_type": "stream",
     "text": [
      "/cluster/home/mskrabulis/miniconda3/envs/quantech/lib/python3.9/site-packages/pyscf/symm/Dmatrix.py:156: RuntimeWarning: invalid value encountered in arccos\n",
      "  gamma = numpy.arccos(yp.dot(c2[1]))\n",
      "/cluster/home/mskrabulis/miniconda3/envs/quantech/lib/python3.9/site-packages/pyscf/symm/Dmatrix.py:156: RuntimeWarning: invalid value encountered in arccos\n",
      "  gamma = numpy.arccos(yp.dot(c2[1]))\n",
      "Progress:  29%|██▉       | 146/500 [57:18<2:30:39, 25.53s/it]"
     ]
    },
    {
     "name": "stdout",
     "output_type": "stream",
     "text": [
      "Time to: Calculate Ground State - 1.68s, Get Pauli Ops - 10.63s, Calculate Pauli Expectation Values - 9.64s, Calculate Covariance - 3.19s\n",
      "f0,f1,f2 = [4.866941953230459e-09, 4.866941953146393e-09, 4.8669419532172995e-09]\n",
      "d01,d02,d12 = [0.9121089744946937, 0.9121089744927086, 0.9121089744938238]\n"
     ]
    },
    {
     "name": "stderr",
     "output_type": "stream",
     "text": [
      "/cluster/home/mskrabulis/miniconda3/envs/quantech/lib/python3.9/site-packages/pyscf/symm/Dmatrix.py:156: RuntimeWarning: invalid value encountered in arccos\n",
      "  gamma = numpy.arccos(yp.dot(c2[1]))\n",
      "Progress:  29%|██▉       | 147/500 [57:42<2:27:18, 25.04s/it]"
     ]
    },
    {
     "name": "stdout",
     "output_type": "stream",
     "text": [
      "Time to: Calculate Ground State - 1.69s, Get Pauli Ops - 7.64s, Calculate Pauli Expectation Values - 11.34s, Calculate Covariance - 3.19s\n",
      "f0,f1,f2 = [3.4857739279411913e-09, 3.4857739279279386e-09, 3.4857739279614944e-09]\n",
      "d01,d02,d12 = [0.9111657732233475, 0.911165773221274, 0.9111657732225953]\n"
     ]
    },
    {
     "name": "stderr",
     "output_type": "stream",
     "text": [
      "/cluster/home/mskrabulis/miniconda3/envs/quantech/lib/python3.9/site-packages/pyscf/symm/Dmatrix.py:156: RuntimeWarning: invalid value encountered in arccos\n",
      "  gamma = numpy.arccos(yp.dot(c2[1]))\n",
      "Progress:  30%|██▉       | 148/500 [58:12<2:35:32, 26.51s/it]"
     ]
    },
    {
     "name": "stdout",
     "output_type": "stream",
     "text": [
      "Time to: Calculate Ground State - 1.85s, Get Pauli Ops - 11.29s, Calculate Pauli Expectation Values - 13.59s, Calculate Covariance - 3.22s\n",
      "f0,f1,f2 = [4.829854571109222e-09, 4.829854571096006e-09, 4.829854571122004e-09]\n",
      "d01,d02,d12 = [0.9122397620570561, 0.9122397620549015, 0.912239762056419]\n"
     ]
    },
    {
     "name": "stderr",
     "output_type": "stream",
     "text": [
      "Progress:  30%|██▉       | 149/500 [58:36<2:30:55, 25.80s/it]"
     ]
    },
    {
     "name": "stdout",
     "output_type": "stream",
     "text": [
      "Time to: Calculate Ground State - 1.75s, Get Pauli Ops - 8.57s, Calculate Pauli Expectation Values - 10.63s, Calculate Covariance - 3.17s\n",
      "f0,f1,f2 = [4.572899620360227e-09, 4.572899620382696e-09, 4.572899620389665e-09]\n",
      "d01,d02,d12 = [0.9151955475637767, 0.9151955475615628, 0.9151955475632619]\n"
     ]
    },
    {
     "name": "stderr",
     "output_type": "stream",
     "text": [
      "Progress:  30%|███       | 150/500 [59:05<2:36:12, 26.78s/it]"
     ]
    },
    {
     "name": "stdout",
     "output_type": "stream",
     "text": [
      "Time to: Calculate Ground State - 1.85s, Get Pauli Ops - 11.3s, Calculate Pauli Expectation Values - 12.69s, Calculate Covariance - 3.22s\n",
      "f0,f1,f2 = [3.5985969423281002e-09, 3.5985969422861237e-09, 3.59859694231242e-09]\n",
      "d01,d02,d12 = [0.9196021008596387, 0.9196021008573736, 0.9196021008592418]\n"
     ]
    },
    {
     "name": "stderr",
     "output_type": "stream",
     "text": [
      "Progress:  30%|███       | 151/500 [59:30<2:32:40, 26.25s/it]"
     ]
    },
    {
     "name": "stdout",
     "output_type": "stream",
     "text": [
      "Time to: Calculate Ground State - 1.68s, Get Pauli Ops - 9.64s, Calculate Pauli Expectation Values - 10.46s, Calculate Covariance - 3.22s\n",
      "f0,f1,f2 = [2.6311988216387696e-09, 2.6311988215825325e-09, 2.6311988215806978e-09]\n",
      "d01,d02,d12 = [0.9250374562485082, 0.9250374562461856, 0.9250374562482208]\n"
     ]
    },
    {
     "name": "stderr",
     "output_type": "stream",
     "text": [
      "Progress:  30%|███       | 152/500 [59:58<2:34:02, 26.56s/it]"
     ]
    },
    {
     "name": "stdout",
     "output_type": "stream",
     "text": [
      "Time to: Calculate Ground State - 1.65s, Get Pauli Ops - 11.38s, Calculate Pauli Expectation Values - 11.02s, Calculate Covariance - 3.21s\n",
      "f0,f1,f2 = [2.6907451138713976e-09, 2.6907451138000735e-09, 2.6907451138783976e-09]\n",
      "d01,d02,d12 = [0.9315117469572269, 0.9315117469548788, 0.9315117469570424]\n"
     ]
    },
    {
     "name": "stderr",
     "output_type": "stream",
     "text": [
      "/cluster/home/mskrabulis/miniconda3/envs/quantech/lib/python3.9/site-packages/pyscf/symm/Dmatrix.py:156: RuntimeWarning: invalid value encountered in arccos\n",
      "  gamma = numpy.arccos(yp.dot(c2[1]))\n",
      "/cluster/home/mskrabulis/miniconda3/envs/quantech/lib/python3.9/site-packages/pyscf/symm/Dmatrix.py:156: RuntimeWarning: invalid value encountered in arccos\n",
      "  gamma = numpy.arccos(yp.dot(c2[1]))\n",
      "Progress:  31%|███       | 153/500 [1:00:23<2:31:57, 26.27s/it]"
     ]
    },
    {
     "name": "stdout",
     "output_type": "stream",
     "text": [
      "Time to: Calculate Ground State - 1.68s, Get Pauli Ops - 10.41s, Calculate Pauli Expectation Values - 10.33s, Calculate Covariance - 3.17s\n",
      "f0,f1,f2 = [3.347875627347868e-09, 3.3478756272548295e-09, 3.347875627317442e-09]\n",
      "d01,d02,d12 = [0.9392829196368647, 0.9392829196344992, 0.9392829196367656]\n"
     ]
    },
    {
     "name": "stderr",
     "output_type": "stream",
     "text": [
      "Progress:  31%|███       | 154/500 [1:00:47<2:26:28, 25.40s/it]"
     ]
    },
    {
     "name": "stdout",
     "output_type": "stream",
     "text": [
      "Time to: Calculate Ground State - 1.64s, Get Pauli Ops - 7.29s, Calculate Pauli Expectation Values - 11.28s, Calculate Covariance - 3.14s\n",
      "f0,f1,f2 = [2.358360490918454e-09, 2.3583604908644497e-09, 2.3583604909208e-09]\n",
      "d01,d02,d12 = [0.947922172059736, 0.9479221720573839, 0.9479221720597274]\n"
     ]
    },
    {
     "name": "stderr",
     "output_type": "stream",
     "text": [
      "/cluster/home/mskrabulis/miniconda3/envs/quantech/lib/python3.9/site-packages/pyscf/symm/Dmatrix.py:156: RuntimeWarning: invalid value encountered in arccos\n",
      "  gamma = numpy.arccos(yp.dot(c2[1]))\n",
      "Progress:  31%|███       | 155/500 [1:01:12<2:26:55, 25.55s/it]"
     ]
    },
    {
     "name": "stdout",
     "output_type": "stream",
     "text": [
      "Time to: Calculate Ground State - 1.67s, Get Pauli Ops - 7.37s, Calculate Pauli Expectation Values - 13.73s, Calculate Covariance - 3.12s\n",
      "f0,f1,f2 = [3.2705470459911754e-09, 3.2705470458812365e-09, 3.2705470459619056e-09]\n",
      "d01,d02,d12 = [0.9577957658694232, 0.9577957658671071, 0.9577957658695054]\n"
     ]
    },
    {
     "name": "stderr",
     "output_type": "stream",
     "text": [
      "Progress:  31%|███       | 156/500 [1:01:38<2:26:11, 25.50s/it]"
     ]
    },
    {
     "name": "stdout",
     "output_type": "stream",
     "text": [
      "Time to: Calculate Ground State - 1.78s, Get Pauli Ops - 9.09s, Calculate Pauli Expectation Values - 11.27s, Calculate Covariance - 3.22s\n",
      "f0,f1,f2 = [2.089657886393817e-09, 2.089657886389443e-09, 2.0896578864478378e-09]\n",
      "d01,d02,d12 = [0.9683964554969255, 0.9683964554946416, 0.9683964554971115]\n"
     ]
    },
    {
     "name": "stderr",
     "output_type": "stream",
     "text": [
      "/cluster/home/mskrabulis/miniconda3/envs/quantech/lib/python3.9/site-packages/pyscf/symm/Dmatrix.py:156: RuntimeWarning: invalid value encountered in arccos\n",
      "  gamma = numpy.arccos(yp.dot(c2[1]))\n",
      "Progress:  31%|███▏      | 157/500 [1:02:03<2:25:09, 25.39s/it]"
     ]
    },
    {
     "name": "stdout",
     "output_type": "stream",
     "text": [
      "Time to: Calculate Ground State - 1.64s, Get Pauli Ops - 9.1s, Calculate Pauli Expectation Values - 11.2s, Calculate Covariance - 3.2s\n",
      "f0,f1,f2 = [7.601420185961185e-10, 7.601420185203534e-10, 7.60142018565723e-10]\n",
      "d01,d02,d12 = [0.9791625175635874, 0.9791625175613551, 0.9791625175638569]\n"
     ]
    },
    {
     "name": "stderr",
     "output_type": "stream",
     "text": [
      "Progress:  32%|███▏      | 158/500 [1:02:25<2:18:51, 24.36s/it]"
     ]
    },
    {
     "name": "stdout",
     "output_type": "stream",
     "text": [
      "Time to: Calculate Ground State - 1.6s, Get Pauli Ops - 7.21s, Calculate Pauli Expectation Values - 9.95s, Calculate Covariance - 3.18s\n",
      "f0,f1,f2 = [2.2485589018184866e-10, 2.248558901405992e-10, 2.2485589021081174e-10]\n",
      "d01,d02,d12 = [0.9898696388088182, 0.9898696388066586, 0.9898696388091592]\n"
     ]
    },
    {
     "name": "stderr",
     "output_type": "stream",
     "text": [
      "/cluster/home/mskrabulis/miniconda3/envs/quantech/lib/python3.9/site-packages/pyscf/symm/Dmatrix.py:156: RuntimeWarning: invalid value encountered in arccos\n",
      "  gamma = numpy.arccos(yp.dot(c2[1]))\n",
      "/cluster/home/mskrabulis/miniconda3/envs/quantech/lib/python3.9/site-packages/pyscf/symm/Dmatrix.py:156: RuntimeWarning: invalid value encountered in arccos\n",
      "  gamma = numpy.arccos(yp.dot(c2[1]))\n",
      "Progress:  32%|███▏      | 159/500 [1:02:48<2:16:01, 23.93s/it]"
     ]
    },
    {
     "name": "stdout",
     "output_type": "stream",
     "text": [
      "Time to: Calculate Ground State - 1.7s, Get Pauli Ops - 7.61s, Calculate Pauli Expectation Values - 10.46s, Calculate Covariance - 3.15s\n",
      "f0,f1,f2 = [5.236046563091574e-10, 5.23604656360826e-10, 5.23604656342509e-10]\n",
      "d01,d02,d12 = [1.0002081946608543, 1.0002081946587849, 1.000208194661253]\n"
     ]
    },
    {
     "name": "stderr",
     "output_type": "stream",
     "text": [
      "Progress:  32%|███▏      | 160/500 [1:03:14<2:19:38, 24.64s/it]"
     ]
    },
    {
     "name": "stdout",
     "output_type": "stream",
     "text": [
      "Time to: Calculate Ground State - 1.7s, Get Pauli Ops - 11.06s, Calculate Pauli Expectation Values - 10.42s, Calculate Covariance - 3.1s\n",
      "f0,f1,f2 = [4.3290014346806233e-10, 4.3290014353983793e-10, 4.329001435515765e-10]\n",
      "d01,d02,d12 = [1.0102210327245467, 1.0102210327225634, 1.0102210327249757]\n"
     ]
    },
    {
     "name": "stderr",
     "output_type": "stream",
     "text": [
      "/cluster/home/mskrabulis/miniconda3/envs/quantech/lib/python3.9/site-packages/pyscf/symm/Dmatrix.py:156: RuntimeWarning: invalid value encountered in arccos\n",
      "  gamma = numpy.arccos(yp.dot(c2[1]))\n",
      "Progress:  32%|███▏      | 161/500 [1:03:41<2:23:14, 25.35s/it]"
     ]
    },
    {
     "name": "stdout",
     "output_type": "stream",
     "text": [
      "Time to: Calculate Ground State - 1.7s, Get Pauli Ops - 10.76s, Calculate Pauli Expectation Values - 11.44s, Calculate Covariance - 3.09s\n",
      "f0,f1,f2 = [2.107060693770859e-09, 2.1070606938079792e-09, 2.1070606938240116e-09]\n",
      "d01,d02,d12 = [1.019218184907616, 1.0192181849057176, 1.0192181849080701]\n"
     ]
    },
    {
     "name": "stderr",
     "output_type": "stream",
     "text": [
      "Progress:  32%|███▏      | 162/500 [1:04:10<2:27:58, 26.27s/it]"
     ]
    },
    {
     "name": "stdout",
     "output_type": "stream",
     "text": [
      "Time to: Calculate Ground State - 1.7s, Get Pauli Ops - 11.48s, Calculate Pauli Expectation Values - 11.99s, Calculate Covariance - 3.22s\n",
      "f0,f1,f2 = [2.0702134557972216e-09, 2.070213455798179e-09, 2.07021345583523e-09]\n",
      "d01,d02,d12 = [1.0272292512930115, 1.027229251291177, 1.0272292512934753]\n"
     ]
    },
    {
     "name": "stderr",
     "output_type": "stream",
     "text": [
      "Progress:  33%|███▎      | 163/500 [1:04:38<2:30:43, 26.84s/it]"
     ]
    },
    {
     "name": "stdout",
     "output_type": "stream",
     "text": [
      "Time to: Calculate Ground State - 1.68s, Get Pauli Ops - 11.7s, Calculate Pauli Expectation Values - 11.55s, Calculate Covariance - 3.21s\n",
      "f0,f1,f2 = [2.432453724457978e-09, 2.432453724487209e-09, 2.4324537244551826e-09]\n",
      "d01,d02,d12 = [1.0341178457723037, 1.0341178457705589, 1.0341178457727849]\n"
     ]
    },
    {
     "name": "stderr",
     "output_type": "stream",
     "text": [
      "Progress:  33%|███▎      | 164/500 [1:05:01<2:24:59, 25.89s/it]"
     ]
    },
    {
     "name": "stdout",
     "output_type": "stream",
     "text": [
      "Time to: Calculate Ground State - 1.81s, Get Pauli Ops - 7.75s, Calculate Pauli Expectation Values - 10.93s, Calculate Covariance - 3.19s\n",
      "f0,f1,f2 = [2.2138692399918848e-09, 2.2138692400352683e-09, 2.2138692400124543e-09]\n",
      "d01,d02,d12 = [1.0399904837609801, 1.0399904837593263, 1.039990483761465]\n"
     ]
    },
    {
     "name": "stderr",
     "output_type": "stream",
     "text": [
      "Progress:  33%|███▎      | 165/500 [1:05:25<2:19:52, 25.05s/it]"
     ]
    },
    {
     "name": "stdout",
     "output_type": "stream",
     "text": [
      "Time to: Calculate Ground State - 1.66s, Get Pauli Ops - 7.63s, Calculate Pauli Expectation Values - 10.6s, Calculate Covariance - 3.19s\n",
      "f0,f1,f2 = [2.6609164871282678e-09, 2.660916487139153e-09, 2.6609164871346565e-09]\n",
      "d01,d02,d12 = [1.0446760426290318, 1.0446760426274688, 1.0446760426295059]\n"
     ]
    },
    {
     "name": "stderr",
     "output_type": "stream",
     "text": [
      "Progress:  33%|███▎      | 166/500 [1:05:48<2:17:00, 24.61s/it]"
     ]
    },
    {
     "name": "stdout",
     "output_type": "stream",
     "text": [
      "Time to: Calculate Ground State - 1.69s, Get Pauli Ops - 7.55s, Calculate Pauli Expectation Values - 11.16s, Calculate Covariance - 3.19s\n",
      "f0,f1,f2 = [1.7835070800471884e-09, 1.7835070800801513e-09, 1.7835070801085017e-09]\n",
      "d01,d02,d12 = [1.0485553089864648, 1.0485553089849935, 1.048555308986912]\n"
     ]
    },
    {
     "name": "stderr",
     "output_type": "stream",
     "text": [
      "/cluster/home/mskrabulis/miniconda3/envs/quantech/lib/python3.9/site-packages/pyscf/symm/Dmatrix.py:156: RuntimeWarning: invalid value encountered in arccos\n",
      "  gamma = numpy.arccos(yp.dot(c2[1]))\n",
      "Progress:  33%|███▎      | 167/500 [1:06:10<2:12:41, 23.91s/it]"
     ]
    },
    {
     "name": "stdout",
     "output_type": "stream",
     "text": [
      "Time to: Calculate Ground State - 1.62s, Get Pauli Ops - 7.6s, Calculate Pauli Expectation Values - 9.86s, Calculate Covariance - 3.17s\n",
      "f0,f1,f2 = [1.3297913132806786e-09, 1.3297913132698762e-09, 1.3297913132988083e-09]\n",
      "d01,d02,d12 = [1.051827914632268, 1.051827914630889, 1.051827914632688]\n"
     ]
    },
    {
     "name": "stderr",
     "output_type": "stream",
     "text": [
      "Progress:  34%|███▎      | 168/500 [1:06:33<2:10:30, 23.59s/it]"
     ]
    },
    {
     "name": "stdout",
     "output_type": "stream",
     "text": [
      "Time to: Calculate Ground State - 1.62s, Get Pauli Ops - 7.59s, Calculate Pauli Expectation Values - 10.38s, Calculate Covariance - 3.23s\n",
      "f0,f1,f2 = [4.441282456469516e-10, 4.4412824566260355e-10, 4.4412824561133893e-10]\n",
      "d01,d02,d12 = [1.054869870233162, 1.0548698702318815, 1.0548698702335675]\n"
     ]
    },
    {
     "name": "stderr",
     "output_type": "stream",
     "text": [
      "/cluster/home/mskrabulis/miniconda3/envs/quantech/lib/python3.9/site-packages/pyscf/symm/Dmatrix.py:156: RuntimeWarning: invalid value encountered in arccos\n",
      "  gamma = numpy.arccos(yp.dot(c2[1]))\n",
      "/cluster/home/mskrabulis/miniconda3/envs/quantech/lib/python3.9/site-packages/pyscf/symm/Dmatrix.py:156: RuntimeWarning: invalid value encountered in arccos\n",
      "  gamma = numpy.arccos(yp.dot(c2[1]))\n",
      "Progress:  34%|███▍      | 169/500 [1:06:56<2:09:02, 23.39s/it]"
     ]
    },
    {
     "name": "stdout",
     "output_type": "stream",
     "text": [
      "Time to: Calculate Ground State - 1.68s, Get Pauli Ops - 7.36s, Calculate Pauli Expectation Values - 10.71s, Calculate Covariance - 3.17s\n",
      "f0,f1,f2 = [1.8839364512388574e-09, 1.883936451241894e-09, 1.8839364512361363e-09]\n",
      "d01,d02,d12 = [1.057087109112012, 1.0570871091108236, 1.0570871091124003]\n"
     ]
    },
    {
     "name": "stderr",
     "output_type": "stream",
     "text": [
      "Progress:  34%|███▍      | 170/500 [1:07:19<2:07:29, 23.18s/it]"
     ]
    },
    {
     "name": "stdout",
     "output_type": "stream",
     "text": [
      "Time to: Calculate Ground State - 1.59s, Get Pauli Ops - 7.48s, Calculate Pauli Expectation Values - 10.5s, Calculate Covariance - 3.11s\n",
      "f0,f1,f2 = [2.6720702830182214e-09, 2.6720702830290463e-09, 2.6720702830227838e-09]\n",
      "d01,d02,d12 = [1.0581643526657438, 1.05816435266466, 1.0581643526661144]\n"
     ]
    },
    {
     "name": "stderr",
     "output_type": "stream",
     "text": [
      "/cluster/home/mskrabulis/miniconda3/envs/quantech/lib/python3.9/site-packages/pyscf/symm/Dmatrix.py:156: RuntimeWarning: invalid value encountered in arccos\n",
      "  gamma = numpy.arccos(yp.dot(c2[1]))\n",
      "Progress:  34%|███▍      | 171/500 [1:07:41<2:05:57, 22.97s/it]"
     ]
    },
    {
     "name": "stdout",
     "output_type": "stream",
     "text": [
      "Time to: Calculate Ground State - 1.66s, Get Pauli Ops - 7.19s, Calculate Pauli Expectation Values - 10.43s, Calculate Covariance - 3.21s\n",
      "f0,f1,f2 = [2.414550665343644e-09, 2.414550665369382e-09, 2.4145506653384964e-09]\n",
      "d01,d02,d12 = [1.058224606152643, 1.0582246061516676, 1.0582246061529976]\n"
     ]
    },
    {
     "name": "stderr",
     "output_type": "stream",
     "text": [
      "/cluster/home/mskrabulis/miniconda3/envs/quantech/lib/python3.9/site-packages/pyscf/symm/Dmatrix.py:156: RuntimeWarning: invalid value encountered in arccos\n",
      "  gamma = numpy.arccos(yp.dot(c2[1]))\n",
      "Progress:  34%|███▍      | 172/500 [1:08:07<2:09:45, 23.74s/it]"
     ]
    },
    {
     "name": "stdout",
     "output_type": "stream",
     "text": [
      "Time to: Calculate Ground State - 1.64s, Get Pauli Ops - 10.5s, Calculate Pauli Expectation Values - 10.16s, Calculate Covariance - 3.2s\n",
      "f0,f1,f2 = [1.915745127909429e-09, 1.9157451278924118e-09, 1.915745127916746e-09]\n",
      "d01,d02,d12 = [1.0574892340209159, 1.0574892340200313, 1.057489234021254]\n"
     ]
    },
    {
     "name": "stderr",
     "output_type": "stream",
     "text": [
      "/cluster/home/mskrabulis/miniconda3/envs/quantech/lib/python3.9/site-packages/pyscf/symm/Dmatrix.py:156: RuntimeWarning: invalid value encountered in arccos\n",
      "  gamma = numpy.arccos(yp.dot(c2[1]))\n",
      "Progress:  35%|███▍      | 173/500 [1:08:30<2:08:31, 23.58s/it]"
     ]
    },
    {
     "name": "stdout",
     "output_type": "stream",
     "text": [
      "Time to: Calculate Ground State - 1.65s, Get Pauli Ops - 8.26s, Calculate Pauli Expectation Values - 10.13s, Calculate Covariance - 3.18s\n",
      "f0,f1,f2 = [3.6330039904150647e-09, 3.633003990482745e-09, 3.63300399040703e-09]\n",
      "d01,d02,d12 = [1.0552570973108395, 1.0552570973100743, 1.0552570973111617]\n"
     ]
    },
    {
     "name": "stderr",
     "output_type": "stream",
     "text": [
      "Progress:  35%|███▍      | 174/500 [1:08:52<2:06:02, 23.20s/it]"
     ]
    },
    {
     "name": "stdout",
     "output_type": "stream",
     "text": [
      "Time to: Calculate Ground State - 1.62s, Get Pauli Ops - 7.64s, Calculate Pauli Expectation Values - 9.95s, Calculate Covariance - 3.08s\n",
      "f0,f1,f2 = [1.6542995787784353e-09, 1.6542995787815613e-09, 1.654299578764537e-09]\n",
      "d01,d02,d12 = [1.0523703121950572, 1.0523703121944183, 1.0523703121953647]\n"
     ]
    },
    {
     "name": "stderr",
     "output_type": "stream",
     "text": [
      "Progress:  35%|███▌      | 175/500 [1:09:15<2:03:59, 22.89s/it]"
     ]
    },
    {
     "name": "stdout",
     "output_type": "stream",
     "text": [
      "Time to: Calculate Ground State - 1.61s, Get Pauli Ops - 7.29s, Calculate Pauli Expectation Values - 10.12s, Calculate Covariance - 3.14s\n",
      "f0,f1,f2 = [3.844989311603808e-09, 3.844989311603361e-09, 3.844989311624694e-09]\n",
      "d01,d02,d12 = [1.047929315590678, 1.047929315590164, 1.0479293155909648]\n"
     ]
    },
    {
     "name": "stderr",
     "output_type": "stream",
     "text": [
      "Progress:  35%|███▌      | 176/500 [1:09:41<2:09:04, 23.90s/it]"
     ]
    },
    {
     "name": "stdout",
     "output_type": "stream",
     "text": [
      "Time to: Calculate Ground State - 1.67s, Get Pauli Ops - 11.05s, Calculate Pauli Expectation Values - 10.46s, Calculate Covariance - 3.08s\n",
      "f0,f1,f2 = [1.1358483922520158e-09, 1.1358483922494036e-09, 1.1358483922148257e-09]\n",
      "d01,d02,d12 = [1.043080035756485, 1.0430800357561005, 1.043080035756758]\n"
     ]
    },
    {
     "name": "stderr",
     "output_type": "stream",
     "text": [
      "Progress:  35%|███▌      | 177/500 [1:10:07<2:12:27, 24.60s/it]"
     ]
    },
    {
     "name": "stdout",
     "output_type": "stream",
     "text": [
      "Time to: Calculate Ground State - 1.65s, Get Pauli Ops - 10.52s, Calculate Pauli Expectation Values - 10.91s, Calculate Covariance - 3.15s\n",
      "f0,f1,f2 = [1.692849750038511e-09, 1.6928497500253433e-09, 1.6928497499748038e-09]\n",
      "d01,d02,d12 = [1.0375971477119768, 1.037597147711732, 1.0375971477122627]\n"
     ]
    },
    {
     "name": "stderr",
     "output_type": "stream",
     "text": [
      "Progress:  36%|███▌      | 178/500 [1:10:34<2:15:20, 25.22s/it]"
     ]
    },
    {
     "name": "stdout",
     "output_type": "stream",
     "text": [
      "Time to: Calculate Ground State - 1.68s, Get Pauli Ops - 10.33s, Calculate Pauli Expectation Values - 11.44s, Calculate Covariance - 3.19s\n",
      "f0,f1,f2 = [1.1157523738514313e-10, 1.115752374293128e-10, 1.1157523742722741e-10]\n",
      "d01,d02,d12 = [1.0321456006638061, 1.0321456006636938, 1.0321456006640801]\n"
     ]
    },
    {
     "name": "stderr",
     "output_type": "stream",
     "text": [
      "/cluster/home/mskrabulis/miniconda3/envs/quantech/lib/python3.9/site-packages/pyscf/symm/Dmatrix.py:156: RuntimeWarning: invalid value encountered in arccos\n",
      "  gamma = numpy.arccos(yp.dot(c2[1]))\n",
      "Progress:  36%|███▌      | 179/500 [1:11:01<2:18:39, 25.92s/it]"
     ]
    },
    {
     "name": "stdout",
     "output_type": "stream",
     "text": [
      "Time to: Calculate Ground State - 1.68s, Get Pauli Ops - 10.88s, Calculate Pauli Expectation Values - 11.76s, Calculate Covariance - 3.22s\n",
      "f0,f1,f2 = [2.0464674492252207e-09, 2.0464674492471034e-09, 2.0464674492288872e-09]\n",
      "d01,d02,d12 = [1.0259222038297133, 1.0259222038297326, 1.02592220382997]\n"
     ]
    },
    {
     "name": "stderr",
     "output_type": "stream",
     "text": [
      "Progress:  36%|███▌      | 180/500 [1:11:27<2:17:33, 25.79s/it]"
     ]
    },
    {
     "name": "stdout",
     "output_type": "stream",
     "text": [
      "Time to: Calculate Ground State - 1.67s, Get Pauli Ops - 9.93s, Calculate Pauli Expectation Values - 10.8s, Calculate Covariance - 3.09s\n",
      "f0,f1,f2 = [2.7027867653246137e-09, 2.702786765321606e-09, 2.702786765305099e-09]\n",
      "d01,d02,d12 = [1.0186655617747382, 1.0186655617749005, 1.018665561774992]\n"
     ]
    },
    {
     "name": "stderr",
     "output_type": "stream",
     "text": [
      "/cluster/home/mskrabulis/miniconda3/envs/quantech/lib/python3.9/site-packages/pyscf/symm/Dmatrix.py:156: RuntimeWarning: invalid value encountered in arccos\n",
      "  gamma = numpy.arccos(yp.dot(c2[1]))\n",
      "/cluster/home/mskrabulis/miniconda3/envs/quantech/lib/python3.9/site-packages/pyscf/symm/Dmatrix.py:156: RuntimeWarning: invalid value encountered in arccos\n",
      "  gamma = numpy.arccos(yp.dot(c2[1]))\n",
      "Progress:  36%|███▌      | 181/500 [1:11:52<2:16:18, 25.64s/it]"
     ]
    },
    {
     "name": "stdout",
     "output_type": "stream",
     "text": [
      "Time to: Calculate Ground State - 1.71s, Get Pauli Ops - 7.37s, Calculate Pauli Expectation Values - 12.95s, Calculate Covariance - 3.23s\n",
      "f0,f1,f2 = [9.586552647881473e-11, 9.586552654844851e-11, 9.586552648633489e-11]\n",
      "d01,d02,d12 = [1.0115513067128548, 1.0115513067131423, 1.0115513067131092]\n"
     ]
    },
    {
     "name": "stderr",
     "output_type": "stream",
     "text": [
      "Progress:  36%|███▋      | 182/500 [1:12:19<2:17:43, 25.99s/it]"
     ]
    },
    {
     "name": "stdout",
     "output_type": "stream",
     "text": [
      "Time to: Calculate Ground State - 1.69s, Get Pauli Ops - 10.9s, Calculate Pauli Expectation Values - 11.06s, Calculate Covariance - 3.14s\n",
      "f0,f1,f2 = [4.1291485619489077e-10, 4.12914856204615e-10, 4.129148561714509e-10]\n",
      "d01,d02,d12 = [1.0047089288158568, 1.0047089288162556, 1.004708928816103]\n"
     ]
    },
    {
     "name": "stderr",
     "output_type": "stream",
     "text": [
      "/cluster/home/mskrabulis/miniconda3/envs/quantech/lib/python3.9/site-packages/pyscf/symm/Dmatrix.py:156: RuntimeWarning: invalid value encountered in arccos\n",
      "  gamma = numpy.arccos(yp.dot(c2[1]))\n",
      "Progress:  37%|███▋      | 183/500 [1:12:45<2:16:59, 25.93s/it]"
     ]
    },
    {
     "name": "stdout",
     "output_type": "stream",
     "text": [
      "Time to: Calculate Ground State - 1.67s, Get Pauli Ops - 9.77s, Calculate Pauli Expectation Values - 11.19s, Calculate Covariance - 3.15s\n",
      "f0,f1,f2 = [1.4483011760430932e-09, 1.4483011760617537e-09, 1.4483011760753762e-09]\n",
      "d01,d02,d12 = [0.9973624194799801, 0.9973624194804904, 0.997362419480216]\n"
     ]
    },
    {
     "name": "stderr",
     "output_type": "stream",
     "text": [
      "/cluster/home/mskrabulis/miniconda3/envs/quantech/lib/python3.9/site-packages/pyscf/symm/Dmatrix.py:156: RuntimeWarning: invalid value encountered in arccos\n",
      "  gamma = numpy.arccos(yp.dot(c2[1]))\n",
      "Progress:  37%|███▋      | 184/500 [1:13:11<2:17:08, 26.04s/it]"
     ]
    },
    {
     "name": "stdout",
     "output_type": "stream",
     "text": [
      "Time to: Calculate Ground State - 1.64s, Get Pauli Ops - 10.75s, Calculate Pauli Expectation Values - 11.36s, Calculate Covariance - 2.53s\n",
      "f0,f1,f2 = [2.0154790172590867e-10, 2.015479017379127e-10, 2.01547901764757e-10]\n",
      "d01,d02,d12 = [0.9900361290063311, 0.9900361290069282, 0.9900361290065435]\n"
     ]
    },
    {
     "name": "stderr",
     "output_type": "stream",
     "text": [
      "/cluster/home/mskrabulis/miniconda3/envs/quantech/lib/python3.9/site-packages/pyscf/symm/Dmatrix.py:156: RuntimeWarning: invalid value encountered in arccos\n",
      "  gamma = numpy.arccos(yp.dot(c2[1]))\n",
      "Progress:  37%|███▋      | 185/500 [1:13:34<2:12:46, 25.29s/it]"
     ]
    },
    {
     "name": "stdout",
     "output_type": "stream",
     "text": [
      "Time to: Calculate Ground State - 1.47s, Get Pauli Ops - 7.51s, Calculate Pauli Expectation Values - 11.31s, Calculate Covariance - 3.24s\n",
      "f0,f1,f2 = [3.2697952573275864e-11, 3.2697952603277194e-11, 3.2697952577914615e-11]\n",
      "d01,d02,d12 = [0.9827998276353898, 0.9827998276360619, 0.9827998276355778]\n"
     ]
    },
    {
     "name": "stderr",
     "output_type": "stream",
     "text": [
      "/cluster/home/mskrabulis/miniconda3/envs/quantech/lib/python3.9/site-packages/pyscf/symm/Dmatrix.py:156: RuntimeWarning: invalid value encountered in arccos\n",
      "  gamma = numpy.arccos(yp.dot(c2[1]))\n",
      "Progress:  37%|███▋      | 186/500 [1:13:58<2:09:21, 24.72s/it]"
     ]
    },
    {
     "name": "stdout",
     "output_type": "stream",
     "text": [
      "Time to: Calculate Ground State - 1.53s, Get Pauli Ops - 7.18s, Calculate Pauli Expectation Values - 11.6s, Calculate Covariance - 3.06s\n",
      "f0,f1,f2 = [5.594654464545043e-10, 5.594654464602525e-10, 5.594654464551222e-10]\n",
      "d01,d02,d12 = [0.9758979291864252, 0.9758979291871659, 0.9758979291865745]\n"
     ]
    },
    {
     "name": "stderr",
     "output_type": "stream",
     "text": [
      "/cluster/home/mskrabulis/miniconda3/envs/quantech/lib/python3.9/site-packages/pyscf/symm/Dmatrix.py:156: RuntimeWarning: invalid value encountered in arccos\n",
      "  gamma = numpy.arccos(yp.dot(c2[1]))\n",
      "Progress:  37%|███▋      | 187/500 [1:14:22<2:08:18, 24.60s/it]"
     ]
    },
    {
     "name": "stdout",
     "output_type": "stream",
     "text": [
      "Time to: Calculate Ground State - 1.53s, Get Pauli Ops - 6.75s, Calculate Pauli Expectation Values - 13.12s, Calculate Covariance - 2.89s\n",
      "f0,f1,f2 = [6.872658682512318e-10, 6.872658682514477e-10, 6.872658682400112e-10]\n",
      "d01,d02,d12 = [0.969378755525028, 0.9693787555258309, 0.9693787555251352]\n"
     ]
    },
    {
     "name": "stderr",
     "output_type": "stream",
     "text": [
      "/cluster/home/mskrabulis/miniconda3/envs/quantech/lib/python3.9/site-packages/pyscf/symm/Dmatrix.py:156: RuntimeWarning: invalid value encountered in arccos\n",
      "  gamma = numpy.arccos(yp.dot(c2[1]))\n",
      "Progress:  38%|███▊      | 188/500 [1:14:47<2:09:01, 24.81s/it]"
     ]
    },
    {
     "name": "stdout",
     "output_type": "stream",
     "text": [
      "Time to: Calculate Ground State - 1.53s, Get Pauli Ops - 5.92s, Calculate Pauli Expectation Values - 14.77s, Calculate Covariance - 3.09s\n",
      "f0,f1,f2 = [3.416734287181035e-10, 3.4167342870095725e-10, 3.4167342873113063e-10]\n",
      "d01,d02,d12 = [0.9630935582857889, 0.9630935582866551, 0.963093558285852]\n"
     ]
    },
    {
     "name": "stderr",
     "output_type": "stream",
     "text": [
      "Progress:  38%|███▊      | 189/500 [1:15:13<2:10:05, 25.10s/it]"
     ]
    },
    {
     "name": "stdout",
     "output_type": "stream",
     "text": [
      "Time to: Calculate Ground State - 1.56s, Get Pauli Ops - 6.46s, Calculate Pauli Expectation Values - 14.58s, Calculate Covariance - 3.16s\n",
      "f0,f1,f2 = [1.8258391381863096e-10, 1.8258391387126635e-10, 1.8258391391825646e-10]\n",
      "d01,d02,d12 = [0.9569730712714198, 0.9569730712723573, 0.9569730712714536]\n"
     ]
    },
    {
     "name": "stderr",
     "output_type": "stream",
     "text": [
      "/cluster/home/mskrabulis/miniconda3/envs/quantech/lib/python3.9/site-packages/pyscf/symm/Dmatrix.py:156: RuntimeWarning: invalid value encountered in arccos\n",
      "  gamma = numpy.arccos(yp.dot(c2[1]))\n",
      "Progress:  38%|███▊      | 190/500 [1:15:35<2:05:04, 24.21s/it]"
     ]
    },
    {
     "name": "stdout",
     "output_type": "stream",
     "text": [
      "Time to: Calculate Ground State - 1.53s, Get Pauli Ops - 6.96s, Calculate Pauli Expectation Values - 10.36s, Calculate Covariance - 3.25s\n",
      "f0,f1,f2 = [1.539068684307419e-09, 1.5390686843655158e-09, 1.5390686843092303e-09]\n",
      "d01,d02,d12 = [0.9515777687705309, 0.9515777687715211, 0.9515777687705335]\n"
     ]
    },
    {
     "name": "stderr",
     "output_type": "stream",
     "text": [
      "Progress:  38%|███▊      | 191/500 [1:15:56<1:59:34, 23.22s/it]"
     ]
    },
    {
     "name": "stdout",
     "output_type": "stream",
     "text": [
      "Time to: Calculate Ground State - 1.49s, Get Pauli Ops - 6.79s, Calculate Pauli Expectation Values - 10.51s, Calculate Covariance - 2.12s\n",
      "f0,f1,f2 = [1.3060123922368405e-09, 1.306012392259456e-09, 1.306012392250406e-09]\n",
      "d01,d02,d12 = [0.9468007404641928, 0.9468007404652321, 0.9468007404641662]\n"
     ]
    },
    {
     "name": "stderr",
     "output_type": "stream",
     "text": [
      "/cluster/home/mskrabulis/miniconda3/envs/quantech/lib/python3.9/site-packages/pyscf/symm/Dmatrix.py:156: RuntimeWarning: invalid value encountered in arccos\n",
      "  gamma = numpy.arccos(yp.dot(c2[1]))\n",
      "Progress:  38%|███▊      | 192/500 [1:16:17<1:55:58, 22.59s/it]"
     ]
    },
    {
     "name": "stdout",
     "output_type": "stream",
     "text": [
      "Time to: Calculate Ground State - 1.49s, Get Pauli Ops - 5.69s, Calculate Pauli Expectation Values - 11.56s, Calculate Covariance - 2.38s\n",
      "f0,f1,f2 = [1.47537008907736e-09, 1.475370089098546e-09, 1.4753700890800362e-09]\n",
      "d01,d02,d12 = [0.9427035258944335, 0.9427035258955113, 0.9427035258943851]\n"
     ]
    },
    {
     "name": "stderr",
     "output_type": "stream",
     "text": [
      "Progress:  39%|███▊      | 193/500 [1:16:40<1:54:52, 22.45s/it]"
     ]
    },
    {
     "name": "stdout",
     "output_type": "stream",
     "text": [
      "Time to: Calculate Ground State - 1.48s, Get Pauli Ops - 6.8s, Calculate Pauli Expectation Values - 11.45s, Calculate Covariance - 2.38s\n",
      "f0,f1,f2 = [1.0144217978184392e-09, 1.0144217978523983e-09, 1.0144217978820566e-09]\n",
      "d01,d02,d12 = [0.9390852885706346, 0.939085288571762, 0.9390852885705805]\n"
     ]
    },
    {
     "name": "stderr",
     "output_type": "stream",
     "text": [
      "/cluster/home/mskrabulis/miniconda3/envs/quantech/lib/python3.9/site-packages/pyscf/symm/Dmatrix.py:156: RuntimeWarning: invalid value encountered in arccos\n",
      "  gamma = numpy.arccos(yp.dot(c2[1]))\n",
      "Progress:  39%|███▉      | 194/500 [1:17:02<1:54:09, 22.38s/it]"
     ]
    },
    {
     "name": "stdout",
     "output_type": "stream",
     "text": [
      "Time to: Calculate Ground State - 1.53s, Get Pauli Ops - 6.26s, Calculate Pauli Expectation Values - 11.67s, Calculate Covariance - 2.75s\n",
      "f0,f1,f2 = [2.2892135331883793e-09, 2.289213533204476e-09, 2.289213533195271e-09]\n",
      "d01,d02,d12 = [0.9364681241997227, 0.9364681242008885, 0.93646812419966]\n"
     ]
    },
    {
     "name": "stderr",
     "output_type": "stream",
     "text": [
      "Progress:  39%|███▉      | 195/500 [1:17:25<1:55:44, 22.77s/it]"
     ]
    },
    {
     "name": "stdout",
     "output_type": "stream",
     "text": [
      "Time to: Calculate Ground State - 1.5s, Get Pauli Ops - 5.86s, Calculate Pauli Expectation Values - 13.27s, Calculate Covariance - 3.03s\n",
      "f0,f1,f2 = [2.7596072906731714e-09, 2.7596072906699694e-09, 2.7596072906454328e-09]\n",
      "d01,d02,d12 = [0.9350329860538541, 0.9350329860550473, 0.9350329860537915]\n"
     ]
    },
    {
     "name": "stderr",
     "output_type": "stream",
     "text": [
      "Progress:  39%|███▉      | 196/500 [1:17:52<2:01:31, 23.99s/it]"
     ]
    },
    {
     "name": "stdout",
     "output_type": "stream",
     "text": [
      "Time to: Calculate Ground State - 1.53s, Get Pauli Ops - 11.09s, Calculate Pauli Expectation Values - 11.11s, Calculate Covariance - 3.08s\n",
      "f0,f1,f2 = [3.2164742575512866e-09, 3.2164742575467627e-09, 3.2164742575615494e-09]\n",
      "d01,d02,d12 = [0.9349526289401807, 0.9349526289414031, 0.9349526289401129]\n"
     ]
    },
    {
     "name": "stderr",
     "output_type": "stream",
     "text": [
      "/cluster/home/mskrabulis/miniconda3/envs/quantech/lib/python3.9/site-packages/pyscf/symm/Dmatrix.py:156: RuntimeWarning: invalid value encountered in arccos\n",
      "  gamma = numpy.arccos(yp.dot(c2[1]))\n",
      "Progress:  39%|███▉      | 197/500 [1:18:12<1:54:58, 22.77s/it]"
     ]
    },
    {
     "name": "stdout",
     "output_type": "stream",
     "text": [
      "Time to: Calculate Ground State - 1.51s, Get Pauli Ops - 6.31s, Calculate Pauli Expectation Values - 10.31s, Calculate Covariance - 1.78s\n",
      "f0,f1,f2 = [3.6047052455251165e-09, 3.6047052455204437e-09, 3.6047052454913753e-09]\n",
      "d01,d02,d12 = [0.936368870259525, 0.9363688702607561, 0.9363688702594477]\n"
     ]
    },
    {
     "name": "stderr",
     "output_type": "stream",
     "text": [
      "Progress:  40%|███▉      | 198/500 [1:18:40<2:02:52, 24.41s/it]"
     ]
    },
    {
     "name": "stdout",
     "output_type": "stream",
     "text": [
      "Time to: Calculate Ground State - 1.67s, Get Pauli Ops - 10.04s, Calculate Pauli Expectation Values - 13.44s, Calculate Covariance - 3.09s\n",
      "f0,f1,f2 = [9.400487286344956e-10, 9.400487286837197e-10, 9.400487286980268e-10]\n",
      "d01,d02,d12 = [0.9381549888757138, 0.9381549888769566, 0.9381549888756425]\n"
     ]
    },
    {
     "name": "stderr",
     "output_type": "stream",
     "text": [
      "Progress:  40%|███▉      | 199/500 [1:19:07<2:05:27, 25.01s/it]"
     ]
    },
    {
     "name": "stdout",
     "output_type": "stream",
     "text": [
      "Time to: Calculate Ground State - 1.58s, Get Pauli Ops - 10.6s, Calculate Pauli Expectation Values - 11.31s, Calculate Covariance - 2.91s\n",
      "f0,f1,f2 = [1.8017584399126357e-09, 1.8017584399195779e-09, 1.8017584399132183e-09]\n",
      "d01,d02,d12 = [0.9406632301085555, 0.9406632301097996, 0.9406632301084764]\n"
     ]
    },
    {
     "name": "stderr",
     "output_type": "stream",
     "text": [
      "/cluster/home/mskrabulis/miniconda3/envs/quantech/lib/python3.9/site-packages/pyscf/symm/Dmatrix.py:156: RuntimeWarning: invalid value encountered in arccos\n",
      "  gamma = numpy.arccos(yp.dot(c2[1]))\n",
      "Progress:  40%|████      | 200/500 [1:19:31<2:03:50, 24.77s/it]"
     ]
    },
    {
     "name": "stdout",
     "output_type": "stream",
     "text": [
      "Time to: Calculate Ground State - 1.57s, Get Pauli Ops - 7.0s, Calculate Pauli Expectation Values - 12.74s, Calculate Covariance - 2.89s\n",
      "f0,f1,f2 = [1.8402914808457997e-09, 1.8402914808897126e-09, 1.8402914808376914e-09]\n",
      "d01,d02,d12 = [0.9438993411450165, 0.9438993411462558, 0.9438993411449299]\n"
     ]
    },
    {
     "name": "stderr",
     "output_type": "stream",
     "text": [
      "Progress:  40%|████      | 201/500 [1:19:52<1:57:37, 23.60s/it]"
     ]
    },
    {
     "name": "stdout",
     "output_type": "stream",
     "text": [
      "Time to: Calculate Ground State - 1.56s, Get Pauli Ops - 6.44s, Calculate Pauli Expectation Values - 10.49s, Calculate Covariance - 2.39s\n",
      "f0,f1,f2 = [2.601572699934242e-09, 2.6015726999773925e-09, 2.6015726998951406e-09]\n",
      "d01,d02,d12 = [0.9481688407135425, 0.9481688407147615, 0.9481688407134466]\n"
     ]
    },
    {
     "name": "stderr",
     "output_type": "stream",
     "text": [
      "Progress:  40%|████      | 202/500 [1:20:12<1:52:39, 22.68s/it]"
     ]
    },
    {
     "name": "stdout",
     "output_type": "stream",
     "text": [
      "Time to: Calculate Ground State - 1.62s, Get Pauli Ops - 5.99s, Calculate Pauli Expectation Values - 10.43s, Calculate Covariance - 2.48s\n",
      "f0,f1,f2 = [1.3604545086463403e-09, 1.3604545086601056e-09, 1.3604545086684727e-09]\n",
      "d01,d02,d12 = [0.9529422114170687, 0.9529422114182677, 0.9529422114169633]\n"
     ]
    },
    {
     "name": "stderr",
     "output_type": "stream",
     "text": [
      "Progress:  41%|████      | 203/500 [1:20:33<1:48:44, 21.97s/it]"
     ]
    },
    {
     "name": "stdout",
     "output_type": "stream",
     "text": [
      "Time to: Calculate Ground State - 0.86s, Get Pauli Ops - 6.47s, Calculate Pauli Expectation Values - 10.35s, Calculate Covariance - 2.61s\n",
      "f0,f1,f2 = [1.253852954175945e-09, 1.2538529542281034e-09, 1.2538529541825952e-09]\n",
      "d01,d02,d12 = [0.958168124592854, 0.9581681245940202, 0.9581681245927436]\n"
     ]
    },
    {
     "name": "stderr",
     "output_type": "stream",
     "text": [
      "/cluster/home/mskrabulis/miniconda3/envs/quantech/lib/python3.9/site-packages/pyscf/symm/Dmatrix.py:156: RuntimeWarning: invalid value encountered in arccos\n",
      "  gamma = numpy.arccos(yp.dot(c2[1]))\n",
      "Progress:  41%|████      | 204/500 [1:20:52<1:45:06, 21.31s/it]"
     ]
    },
    {
     "name": "stdout",
     "output_type": "stream",
     "text": [
      "Time to: Calculate Ground State - 1.52s, Get Pauli Ops - 5.99s, Calculate Pauli Expectation Values - 10.28s, Calculate Covariance - 1.97s\n",
      "f0,f1,f2 = [2.7631477682399575e-09, 2.763147768229322e-09, 2.7631477682065187e-09]\n",
      "d01,d02,d12 = [0.9644663600220811, 0.96446636002321, 0.9644663600219554]\n"
     ]
    },
    {
     "name": "stderr",
     "output_type": "stream",
     "text": [
      "Progress:  41%|████      | 205/500 [1:21:14<1:44:57, 21.35s/it]"
     ]
    },
    {
     "name": "stdout",
     "output_type": "stream",
     "text": [
      "Time to: Calculate Ground State - 1.44s, Get Pauli Ops - 6.64s, Calculate Pauli Expectation Values - 10.33s, Calculate Covariance - 3.01s\n",
      "f0,f1,f2 = [1.2809019205320612e-10, 1.2809019206747307e-10, 1.280901920416928e-10]\n",
      "d01,d02,d12 = [0.9707285983096545, 0.9707285983107388, 0.970728598309506]\n"
     ]
    },
    {
     "name": "stderr",
     "output_type": "stream",
     "text": [
      "Progress:  41%|████      | 206/500 [1:21:37<1:46:58, 21.83s/it]"
     ]
    },
    {
     "name": "stdout",
     "output_type": "stream",
     "text": [
      "Time to: Calculate Ground State - 1.51s, Get Pauli Ops - 7.62s, Calculate Pauli Expectation Values - 10.75s, Calculate Covariance - 3.07s\n",
      "f0,f1,f2 = [4.4083116271859e-10, 4.408311627705878e-10, 4.408311627020775e-10]\n",
      "d01,d02,d12 = [0.9770851352717604, 0.9770851352727776, 0.977085135271578]\n"
     ]
    },
    {
     "name": "stderr",
     "output_type": "stream",
     "text": [
      "Progress:  41%|████▏     | 207/500 [1:21:58<1:46:03, 21.72s/it]"
     ]
    },
    {
     "name": "stdout",
     "output_type": "stream",
     "text": [
      "Time to: Calculate Ground State - 1.47s, Get Pauli Ops - 6.8s, Calculate Pauli Expectation Values - 10.17s, Calculate Covariance - 3.0s\n",
      "f0,f1,f2 = [4.0059845108834533e-10, 4.0059845109452354e-10, 4.005984511112892e-10]\n",
      "d01,d02,d12 = [0.9831855927189785, 0.983185592719911, 0.9831855927187528]\n"
     ]
    },
    {
     "name": "stderr",
     "output_type": "stream",
     "text": [
      "Progress:  42%|████▏     | 208/500 [1:22:19<1:44:07, 21.39s/it]"
     ]
    },
    {
     "name": "stdout",
     "output_type": "stream",
     "text": [
      "Time to: Calculate Ground State - 0.87s, Get Pauli Ops - 6.69s, Calculate Pauli Expectation Values - 10.13s, Calculate Covariance - 2.94s\n",
      "f0,f1,f2 = [8.365490267740301e-11, 8.365490271864366e-11, 8.36549026807084e-11]\n",
      "d01,d02,d12 = [0.9892345127249693, 0.9892345127257911, 0.9892345127246949]\n"
     ]
    },
    {
     "name": "stderr",
     "output_type": "stream",
     "text": [
      "Progress:  42%|████▏     | 209/500 [1:22:44<1:48:42, 22.41s/it]"
     ]
    },
    {
     "name": "stdout",
     "output_type": "stream",
     "text": [
      "Time to: Calculate Ground State - 1.53s, Get Pauli Ops - 10.06s, Calculate Pauli Expectation Values - 10.21s, Calculate Covariance - 2.98s\n",
      "f0,f1,f2 = [6.509277159406434e-10, 6.509277159758054e-10, 6.509277159768089e-10]\n",
      "d01,d02,d12 = [0.9954679778780877, 0.9954679778788068, 0.9954679778777666]\n"
     ]
    },
    {
     "name": "stderr",
     "output_type": "stream",
     "text": [
      "/cluster/home/mskrabulis/miniconda3/envs/quantech/lib/python3.9/site-packages/pyscf/symm/Dmatrix.py:156: RuntimeWarning: invalid value encountered in arccos\n",
      "  gamma = numpy.arccos(yp.dot(c2[1]))\n",
      "Progress:  42%|████▏     | 210/500 [1:23:05<1:46:36, 22.06s/it]"
     ]
    },
    {
     "name": "stdout",
     "output_type": "stream",
     "text": [
      "Time to: Calculate Ground State - 1.44s, Get Pauli Ops - 6.78s, Calculate Pauli Expectation Values - 9.99s, Calculate Covariance - 3.0s\n",
      "f0,f1,f2 = [3.651290289476081e-10, 3.651290289219782e-10, 3.651290289086367e-10]\n",
      "d01,d02,d12 = [1.0017648190107176, 1.0017648190113304, 1.0017648190103443]\n"
     ]
    },
    {
     "name": "stderr",
     "output_type": "stream",
     "text": [
      "/cluster/home/mskrabulis/miniconda3/envs/quantech/lib/python3.9/site-packages/pyscf/symm/Dmatrix.py:156: RuntimeWarning: invalid value encountered in arccos\n",
      "  gamma = numpy.arccos(yp.dot(c2[1]))\n",
      "Progress:  42%|████▏     | 211/500 [1:23:26<1:45:08, 21.83s/it]"
     ]
    },
    {
     "name": "stdout",
     "output_type": "stream",
     "text": [
      "Time to: Calculate Ground State - 1.44s, Get Pauli Ops - 6.93s, Calculate Pauli Expectation Values - 10.12s, Calculate Covariance - 2.8s\n",
      "f0,f1,f2 = [1.0835824509303497e-09, 1.0835824508982975e-09, 1.0835824509014631e-09]\n",
      "d01,d02,d12 = [1.0075231226940133, 1.007523122694518, 1.0075231226935961]\n"
     ]
    },
    {
     "name": "stderr",
     "output_type": "stream",
     "text": [
      "Progress:  42%|████▏     | 212/500 [1:23:49<1:45:36, 22.00s/it]"
     ]
    },
    {
     "name": "stdout",
     "output_type": "stream",
     "text": [
      "Time to: Calculate Ground State - 1.03s, Get Pauli Ops - 6.19s, Calculate Pauli Expectation Values - 12.43s, Calculate Covariance - 2.73s\n",
      "f0,f1,f2 = [1.6516090938834588e-09, 1.6516090938805054e-09, 1.65160909387735e-09]\n",
      "d01,d02,d12 = [1.0125148397551766, 1.0125148397555643, 1.0125148397547172]\n"
     ]
    },
    {
     "name": "stderr",
     "output_type": "stream",
     "text": [
      "/cluster/home/mskrabulis/miniconda3/envs/quantech/lib/python3.9/site-packages/pyscf/symm/Dmatrix.py:156: RuntimeWarning: invalid value encountered in arccos\n",
      "  gamma = numpy.arccos(yp.dot(c2[1]))\n",
      "Progress:  43%|████▎     | 213/500 [1:24:12<1:47:16, 22.43s/it]"
     ]
    },
    {
     "name": "stdout",
     "output_type": "stream",
     "text": [
      "Time to: Calculate Ground State - 1.49s, Get Pauli Ops - 6.85s, Calculate Pauli Expectation Values - 12.8s, Calculate Covariance - 2.26s\n",
      "f0,f1,f2 = [1.116292953083922e-09, 1.1162929530716843e-09, 1.1162929530757855e-09]\n",
      "d01,d02,d12 = [1.016972878745154, 1.0169728787454233, 1.0169728787446661]\n"
     ]
    },
    {
     "name": "stderr",
     "output_type": "stream",
     "text": [
      "Progress:  43%|████▎     | 214/500 [1:24:37<1:50:33, 23.19s/it]"
     ]
    },
    {
     "name": "stdout",
     "output_type": "stream",
     "text": [
      "Time to: Calculate Ground State - 1.48s, Get Pauli Ops - 9.92s, Calculate Pauli Expectation Values - 11.06s, Calculate Covariance - 2.52s\n",
      "f0,f1,f2 = [5.273627981738086e-10, 5.27362798187127e-10, 5.273627981773627e-10]\n",
      "d01,d02,d12 = [1.0211490985340148, 1.0211490985341667, 1.0211490985334981]\n"
     ]
    },
    {
     "name": "stderr",
     "output_type": "stream",
     "text": [
      "Progress:  43%|████▎     | 215/500 [1:25:01<1:51:35, 23.49s/it]"
     ]
    },
    {
     "name": "stdout",
     "output_type": "stream",
     "text": [
      "Time to: Calculate Ground State - 1.58s, Get Pauli Ops - 8.54s, Calculate Pauli Expectation Values - 11.25s, Calculate Covariance - 2.8s\n",
      "f0,f1,f2 = [4.747859557424882e-10, 4.747859557787842e-10, 4.747859557613059e-10]\n",
      "d01,d02,d12 = [1.0254632260712528, 1.0254632260712946, 1.0254632260707164]\n"
     ]
    },
    {
     "name": "stderr",
     "output_type": "stream",
     "text": [
      "/cluster/home/mskrabulis/miniconda3/envs/quantech/lib/python3.9/site-packages/pyscf/symm/Dmatrix.py:156: RuntimeWarning: invalid value encountered in arccos\n",
      "  gamma = numpy.arccos(yp.dot(c2[1]))\n",
      "Progress:  43%|████▎     | 216/500 [1:25:28<1:55:56, 24.50s/it]"
     ]
    },
    {
     "name": "stdout",
     "output_type": "stream",
     "text": [
      "Time to: Calculate Ground State - 1.64s, Get Pauli Ops - 10.99s, Calculate Pauli Expectation Values - 11.29s, Calculate Covariance - 2.9s\n",
      "f0,f1,f2 = [3.1215907477867736e-09, 3.1215907477670665e-09, 3.1215907477602737e-09]\n",
      "d01,d02,d12 = [1.0284212945306068, 1.0284212945305382, 1.0284212945300624]\n"
     ]
    },
    {
     "name": "stderr",
     "output_type": "stream",
     "text": [
      "Progress:  43%|████▎     | 217/500 [1:25:52<1:54:25, 24.26s/it]"
     ]
    },
    {
     "name": "stdout",
     "output_type": "stream",
     "text": [
      "Time to: Calculate Ground State - 1.47s, Get Pauli Ops - 7.04s, Calculate Pauli Expectation Values - 12.51s, Calculate Covariance - 2.68s\n",
      "f0,f1,f2 = [1.3571069682098232e-09, 1.3571069682163424e-09, 1.3571069682309548e-09]\n",
      "d01,d02,d12 = [1.0307744970966235, 1.0307744970964423, 1.0307744970960646]\n"
     ]
    },
    {
     "name": "stderr",
     "output_type": "stream",
     "text": [
      "Progress:  44%|████▎     | 218/500 [1:26:17<1:55:00, 24.47s/it]"
     ]
    },
    {
     "name": "stdout",
     "output_type": "stream",
     "text": [
      "Time to: Calculate Ground State - 1.49s, Get Pauli Ops - 7.04s, Calculate Pauli Expectation Values - 13.6s, Calculate Covariance - 2.83s\n",
      "f0,f1,f2 = [1.554269256943279e-09, 1.5542692569783616e-09, 1.554269256950843e-09]\n",
      "d01,d02,d12 = [1.0324495913187945, 1.0324495913185097, 1.0324495913182064]\n"
     ]
    },
    {
     "name": "stderr",
     "output_type": "stream",
     "text": [
      "Progress:  44%|████▍     | 219/500 [1:26:41<1:54:02, 24.35s/it]"
     ]
    },
    {
     "name": "stdout",
     "output_type": "stream",
     "text": [
      "Time to: Calculate Ground State - 1.53s, Get Pauli Ops - 8.97s, Calculate Pauli Expectation Values - 11.01s, Calculate Covariance - 2.56s\n",
      "f0,f1,f2 = [6.564693359565065e-10, 6.56469335980395e-10, 6.56469335981208e-10]\n",
      "d01,d02,d12 = [1.0338286337931057, 1.033828633792728, 1.0338286337925013]\n"
     ]
    },
    {
     "name": "stderr",
     "output_type": "stream",
     "text": [
      "/cluster/home/mskrabulis/miniconda3/envs/quantech/lib/python3.9/site-packages/pyscf/symm/Dmatrix.py:156: RuntimeWarning: invalid value encountered in arccos\n",
      "  gamma = numpy.arccos(yp.dot(c2[1]))\n",
      "/cluster/home/mskrabulis/miniconda3/envs/quantech/lib/python3.9/site-packages/pyscf/symm/Dmatrix.py:156: RuntimeWarning: invalid value encountered in arccos\n",
      "  gamma = numpy.arccos(yp.dot(c2[1]))\n",
      "Progress:  44%|████▍     | 220/500 [1:27:04<1:51:36, 23.92s/it]"
     ]
    },
    {
     "name": "stdout",
     "output_type": "stream",
     "text": [
      "Time to: Calculate Ground State - 1.4s, Get Pauli Ops - 7.85s, Calculate Pauli Expectation Values - 10.64s, Calculate Covariance - 3.01s\n",
      "f0,f1,f2 = [3.1773397723826864e-09, 3.1773397723896683e-09, 3.177339772359726e-09]\n",
      "d01,d02,d12 = [1.0338699979549395, 1.0338699979544654, 1.0338699979543173]\n"
     ]
    },
    {
     "name": "stderr",
     "output_type": "stream",
     "text": [
      "/cluster/home/mskrabulis/miniconda3/envs/quantech/lib/python3.9/site-packages/pyscf/symm/Dmatrix.py:156: RuntimeWarning: invalid value encountered in arccos\n",
      "  gamma = numpy.arccos(yp.dot(c2[1]))\n",
      "Progress:  44%|████▍     | 221/500 [1:27:27<1:50:34, 23.78s/it]"
     ]
    },
    {
     "name": "stdout",
     "output_type": "stream",
     "text": [
      "Time to: Calculate Ground State - 1.45s, Get Pauli Ops - 5.82s, Calculate Pauli Expectation Values - 13.08s, Calculate Covariance - 3.11s\n",
      "f0,f1,f2 = [1.083204871397328e-09, 1.0832048714376603e-09, 1.0832048713989871e-09]\n",
      "d01,d02,d12 = [1.0334613955883825, 1.0334613955878191, 1.0334613955877334]\n"
     ]
    },
    {
     "name": "stderr",
     "output_type": "stream",
     "text": [
      "/cluster/home/mskrabulis/miniconda3/envs/quantech/lib/python3.9/site-packages/pyscf/symm/Dmatrix.py:156: RuntimeWarning: invalid value encountered in arccos\n",
      "  gamma = numpy.arccos(yp.dot(c2[1]))\n",
      "/cluster/home/mskrabulis/miniconda3/envs/quantech/lib/python3.9/site-packages/pyscf/symm/Dmatrix.py:156: RuntimeWarning: invalid value encountered in arccos\n",
      "  gamma = numpy.arccos(yp.dot(c2[1]))\n",
      "Progress:  44%|████▍     | 222/500 [1:27:52<1:51:29, 24.06s/it]"
     ]
    },
    {
     "name": "stdout",
     "output_type": "stream",
     "text": [
      "Time to: Calculate Ground State - 1.5s, Get Pauli Ops - 6.96s, Calculate Pauli Expectation Values - 13.91s, Calculate Covariance - 2.33s\n",
      "f0,f1,f2 = [1.710640479364087e-09, 1.710640479363725e-09, 1.710640479340208e-09]\n",
      "d01,d02,d12 = [1.0323488959850575, 1.0323488959844134, 1.0323488959843945]\n"
     ]
    },
    {
     "name": "stderr",
     "output_type": "stream",
     "text": [
      "Progress:  45%|████▍     | 223/500 [1:28:13<1:47:32, 23.30s/it]"
     ]
    },
    {
     "name": "stdout",
     "output_type": "stream",
     "text": [
      "Time to: Calculate Ground State - 1.48s, Get Pauli Ops - 6.75s, Calculate Pauli Expectation Values - 10.44s, Calculate Covariance - 2.82s\n",
      "f0,f1,f2 = [1.7328021107963906e-09, 1.7328021107687324e-09, 1.7328021107911515e-09]\n",
      "d01,d02,d12 = [1.030533266675137, 1.0305332666743956, 1.0305332666744549]\n"
     ]
    },
    {
     "name": "stderr",
     "output_type": "stream",
     "text": [
      "Progress:  45%|████▍     | 224/500 [1:28:35<1:44:17, 22.67s/it]"
     ]
    },
    {
     "name": "stdout",
     "output_type": "stream",
     "text": [
      "Time to: Calculate Ground State - 1.49s, Get Pauli Ops - 6.08s, Calculate Pauli Expectation Values - 10.56s, Calculate Covariance - 3.09s\n",
      "f0,f1,f2 = [1.789712215128056e-09, 1.789712215155864e-09, 1.789712215114184e-09]\n",
      "d01,d02,d12 = [1.0280008455900798, 1.0280008455892582, 1.0280008455893843]\n"
     ]
    },
    {
     "name": "stderr",
     "output_type": "stream",
     "text": [
      "Progress:  45%|████▌     | 225/500 [1:28:56<1:42:09, 22.29s/it]"
     ]
    },
    {
     "name": "stdout",
     "output_type": "stream",
     "text": [
      "Time to: Calculate Ground State - 1.45s, Get Pauli Ops - 6.04s, Calculate Pauli Expectation Values - 11.36s, Calculate Covariance - 2.53s\n",
      "f0,f1,f2 = [1.7804754496758354e-09, 1.78047544969234e-09, 1.7804754496259918e-09]\n",
      "d01,d02,d12 = [1.024765601820112, 1.0247656018192228, 1.0247656018194125]\n"
     ]
    },
    {
     "name": "stderr",
     "output_type": "stream",
     "text": [
      "Progress:  45%|████▌     | 226/500 [1:29:17<1:40:23, 21.98s/it]"
     ]
    },
    {
     "name": "stdout",
     "output_type": "stream",
     "text": [
      "Time to: Calculate Ground State - 1.44s, Get Pauli Ops - 6.78s, Calculate Pauli Expectation Values - 10.22s, Calculate Covariance - 2.82s\n",
      "f0,f1,f2 = [2.149463732083697e-09, 2.149463732112952e-09, 2.149463732112601e-09]\n",
      "d01,d02,d12 = [1.0206843905104845, 1.0206843905095244, 1.0206843905097707]\n"
     ]
    },
    {
     "name": "stderr",
     "output_type": "stream",
     "text": [
      "Progress:  45%|████▌     | 227/500 [1:29:39<1:39:52, 21.95s/it]"
     ]
    },
    {
     "name": "stdout",
     "output_type": "stream",
     "text": [
      "Time to: Calculate Ground State - 0.83s, Get Pauli Ops - 6.41s, Calculate Pauli Expectation Values - 12.12s, Calculate Covariance - 2.5s\n",
      "f0,f1,f2 = [1.1010670918518345e-09, 1.1010670918586503e-09, 1.1010670918847995e-09]\n",
      "d01,d02,d12 = [1.0162041057487765, 1.0162041057477356, 1.0162041057480375]\n"
     ]
    },
    {
     "name": "stderr",
     "output_type": "stream",
     "text": [
      "/cluster/home/mskrabulis/miniconda3/envs/quantech/lib/python3.9/site-packages/pyscf/symm/Dmatrix.py:156: RuntimeWarning: invalid value encountered in arccos\n",
      "  gamma = numpy.arccos(yp.dot(c2[1]))\n",
      "Progress:  46%|████▌     | 228/500 [1:30:01<1:38:47, 21.79s/it]"
     ]
    },
    {
     "name": "stdout",
     "output_type": "stream",
     "text": [
      "Time to: Calculate Ground State - 1.44s, Get Pauli Ops - 6.99s, Calculate Pauli Expectation Values - 10.72s, Calculate Covariance - 2.26s\n",
      "f0,f1,f2 = [4.0527438170923665e-10, 4.0527438174314594e-10, 4.052743817552494e-10]\n",
      "d01,d02,d12 = [1.0116190365850306, 1.0116190365839168, 1.0116190365842601]\n"
     ]
    },
    {
     "name": "stderr",
     "output_type": "stream",
     "text": [
      "/cluster/home/mskrabulis/miniconda3/envs/quantech/lib/python3.9/site-packages/pyscf/symm/Dmatrix.py:156: RuntimeWarning: invalid value encountered in arccos\n",
      "  gamma = numpy.arccos(yp.dot(c2[1]))\n",
      "Progress:  46%|████▌     | 229/500 [1:30:22<1:38:08, 21.73s/it]"
     ]
    },
    {
     "name": "stdout",
     "output_type": "stream",
     "text": [
      "Time to: Calculate Ground State - 1.4s, Get Pauli Ops - 6.36s, Calculate Pauli Expectation Values - 10.67s, Calculate Covariance - 3.14s\n",
      "f0,f1,f2 = [1.7786592370610418e-10, 1.7786592370814364e-10, 1.7786592367510706e-10]\n",
      "d01,d02,d12 = [1.0070249967385043, 1.0070249967373244, 1.0070249967377063]\n"
     ]
    },
    {
     "name": "stderr",
     "output_type": "stream",
     "text": [
      "Progress:  46%|████▌     | 230/500 [1:30:43<1:36:19, 21.41s/it]"
     ]
    },
    {
     "name": "stdout",
     "output_type": "stream",
     "text": [
      "Time to: Calculate Ground State - 1.56s, Get Pauli Ops - 6.32s, Calculate Pauli Expectation Values - 10.26s, Calculate Covariance - 2.51s\n",
      "f0,f1,f2 = [6.353530361594303e-10, 6.35353036178419e-10, 6.3535303610416e-10]\n",
      "d01,d02,d12 = [1.0022323106315953, 1.002232310630373, 1.0022323106307875]\n"
     ]
    },
    {
     "name": "stderr",
     "output_type": "stream",
     "text": [
      "Progress:  46%|████▌     | 231/500 [1:31:03<1:34:29, 21.08s/it]"
     ]
    },
    {
     "name": "stdout",
     "output_type": "stream",
     "text": [
      "Time to: Calculate Ground State - 1.5s, Get Pauli Ops - 5.89s, Calculate Pauli Expectation Values - 10.42s, Calculate Covariance - 2.49s\n",
      "f0,f1,f2 = [9.091805255254631e-10, 9.091805254788732e-10, 9.091805255293376e-10]\n",
      "d01,d02,d12 = [0.997884549680105, 0.9978845496788566, 0.9978845496792902]\n"
     ]
    },
    {
     "name": "stderr",
     "output_type": "stream",
     "text": [
      "Progress:  46%|████▋     | 232/500 [1:31:25<1:34:28, 21.15s/it]"
     ]
    },
    {
     "name": "stdout",
     "output_type": "stream",
     "text": [
      "Time to: Calculate Ground State - 0.9s, Get Pauli Ops - 6.5s, Calculate Pauli Expectation Values - 11.31s, Calculate Covariance - 2.6s\n",
      "f0,f1,f2 = [6.239925507751773e-10, 6.239925507278509e-10, 6.239925507428502e-10]\n",
      "d01,d02,d12 = [0.9933393676549216, 0.9933393676536477, 0.9933393676541128]\n"
     ]
    },
    {
     "name": "stderr",
     "output_type": "stream",
     "text": [
      "/cluster/home/mskrabulis/miniconda3/envs/quantech/lib/python3.9/site-packages/pyscf/symm/Dmatrix.py:156: RuntimeWarning: invalid value encountered in arccos\n",
      "  gamma = numpy.arccos(yp.dot(c2[1]))\n",
      "Progress:  47%|████▋     | 233/500 [1:31:45<1:33:08, 20.93s/it]"
     ]
    },
    {
     "name": "stdout",
     "output_type": "stream",
     "text": [
      "Time to: Calculate Ground State - 1.57s, Get Pauli Ops - 5.82s, Calculate Pauli Expectation Values - 10.01s, Calculate Covariance - 3.0s\n",
      "f0,f1,f2 = [1.6332278840091563e-09, 1.6332278840425822e-09, 1.6332278840271414e-09]\n",
      "d01,d02,d12 = [0.9881808621980307, 0.9881808621967382, 0.9881808621972313]\n"
     ]
    },
    {
     "name": "stderr",
     "output_type": "stream",
     "text": [
      "Progress:  47%|████▋     | 234/500 [1:32:08<1:35:31, 21.55s/it]"
     ]
    },
    {
     "name": "stdout",
     "output_type": "stream",
     "text": [
      "Time to: Calculate Ground State - 1.51s, Get Pauli Ops - 6.87s, Calculate Pauli Expectation Values - 11.85s, Calculate Covariance - 2.74s\n",
      "f0,f1,f2 = [9.58357923548631e-10, 9.583579235837108e-10, 9.583579236081993e-10]\n",
      "d01,d02,d12 = [0.9826976861105579, 0.9826976861092563, 0.9826976861097628]\n"
     ]
    },
    {
     "name": "stderr",
     "output_type": "stream",
     "text": [
      "Progress:  47%|████▋     | 235/500 [1:32:28<1:33:47, 21.24s/it]"
     ]
    },
    {
     "name": "stdout",
     "output_type": "stream",
     "text": [
      "Time to: Calculate Ground State - 1.58s, Get Pauli Ops - 6.68s, Calculate Pauli Expectation Values - 10.32s, Calculate Covariance - 1.93s\n",
      "f0,f1,f2 = [3.101185920445607e-10, 3.101185920852418e-10, 3.1011859204168977e-10]\n",
      "d01,d02,d12 = [0.9771633710890936, 0.9771633710878109, 0.9771633710883162]\n"
     ]
    },
    {
     "name": "stderr",
     "output_type": "stream",
     "text": [
      "Progress:  47%|████▋     | 236/500 [1:32:50<1:33:16, 21.20s/it]"
     ]
    },
    {
     "name": "stdout",
     "output_type": "stream",
     "text": [
      "Time to: Calculate Ground State - 1.55s, Get Pauli Ops - 6.92s, Calculate Pauli Expectation Values - 10.35s, Calculate Covariance - 2.29s\n",
      "f0,f1,f2 = [9.607886217780967e-10, 9.607886217740902e-10, 9.60788621794925e-10]\n",
      "d01,d02,d12 = [0.9721059102432614, 0.9721059102419952, 0.9721059102425048]\n"
     ]
    },
    {
     "name": "stderr",
     "output_type": "stream",
     "text": [
      "Progress:  47%|████▋     | 237/500 [1:33:14<1:36:44, 22.07s/it]"
     ]
    },
    {
     "name": "stdout",
     "output_type": "stream",
     "text": [
      "Time to: Calculate Ground State - 1.51s, Get Pauli Ops - 9.67s, Calculate Pauli Expectation Values - 10.43s, Calculate Covariance - 2.48s\n",
      "f0,f1,f2 = [2.567181847973317e-10, 2.5671818480752836e-10, 2.5671818473559926e-10]\n",
      "d01,d02,d12 = [0.9670134830989218, 0.9670134830976893, 0.9670134830982071]\n"
     ]
    },
    {
     "name": "stderr",
     "output_type": "stream",
     "text": [
      "Progress:  48%|████▊     | 238/500 [1:33:35<1:35:23, 21.85s/it]"
     ]
    },
    {
     "name": "stdout",
     "output_type": "stream",
     "text": [
      "Time to: Calculate Ground State - 1.59s, Get Pauli Ops - 7.18s, Calculate Pauli Expectation Values - 9.94s, Calculate Covariance - 2.61s\n",
      "f0,f1,f2 = [1.4216282812672035e-10, 1.4216282814602261e-10, 1.421628280844094e-10]\n",
      "d01,d02,d12 = [0.9619341347472259, 0.961934134746048, 0.9619341347465717]\n"
     ]
    },
    {
     "name": "stderr",
     "output_type": "stream",
     "text": [
      "/cluster/home/mskrabulis/miniconda3/envs/quantech/lib/python3.9/site-packages/pyscf/symm/Dmatrix.py:156: RuntimeWarning: invalid value encountered in arccos\n",
      "  gamma = numpy.arccos(yp.dot(c2[1]))\n",
      "Progress:  48%|████▊     | 239/500 [1:33:54<1:31:30, 21.04s/it]"
     ]
    },
    {
     "name": "stdout",
     "output_type": "stream",
     "text": [
      "Time to: Calculate Ground State - 1.58s, Get Pauli Ops - 5.88s, Calculate Pauli Expectation Values - 9.76s, Calculate Covariance - 1.92s\n",
      "f0,f1,f2 = [2.5058747950320046e-09, 2.5058747950277967e-09, 2.5058747950163646e-09]\n",
      "d01,d02,d12 = [0.957966282183872, 0.9579662821827337, 0.9579662821832631]\n"
     ]
    },
    {
     "name": "stderr",
     "output_type": "stream",
     "text": [
      "/cluster/home/mskrabulis/miniconda3/envs/quantech/lib/python3.9/site-packages/pyscf/symm/Dmatrix.py:156: RuntimeWarning: invalid value encountered in arccos\n",
      "  gamma = numpy.arccos(yp.dot(c2[1]))\n",
      "Progress:  48%|████▊     | 240/500 [1:34:15<1:31:21, 21.08s/it]"
     ]
    },
    {
     "name": "stdout",
     "output_type": "stream",
     "text": [
      "Time to: Calculate Ground State - 1.55s, Get Pauli Ops - 6.45s, Calculate Pauli Expectation Values - 10.1s, Calculate Covariance - 3.07s\n",
      "f0,f1,f2 = [1.4647893608883406e-09, 1.4647893608654798e-09, 1.4647893609079925e-09]\n",
      "d01,d02,d12 = [0.9546623055348189, 0.9546623055337412, 0.9546623055342711]\n"
     ]
    },
    {
     "name": "stderr",
     "output_type": "stream",
     "text": [
      "Progress:  48%|████▊     | 241/500 [1:34:39<1:33:54, 21.76s/it]"
     ]
    },
    {
     "name": "stdout",
     "output_type": "stream",
     "text": [
      "Time to: Calculate Ground State - 1.6s, Get Pauli Ops - 6.43s, Calculate Pauli Expectation Values - 13.32s, Calculate Covariance - 1.97s\n",
      "f0,f1,f2 = [9.668685461738855e-10, 9.66868546176085e-10, 9.668685461886273e-10]\n",
      "d01,d02,d12 = [0.9518062513516344, 0.9518062513506201, 0.9518062513511442]\n"
     ]
    },
    {
     "name": "stderr",
     "output_type": "stream",
     "text": [
      "Progress:  48%|████▊     | 242/500 [1:35:01<1:34:58, 22.09s/it]"
     ]
    },
    {
     "name": "stdout",
     "output_type": "stream",
     "text": [
      "Time to: Calculate Ground State - 1.69s, Get Pauli Ops - 7.61s, Calculate Pauli Expectation Values - 10.8s, Calculate Covariance - 2.74s\n",
      "f0,f1,f2 = [1.9380100294601343e-09, 1.938010029478589e-09, 1.9380100294737137e-09]\n",
      "d01,d02,d12 = [0.9497946777880737, 0.9497946777871342, 0.949794677787649]\n"
     ]
    },
    {
     "name": "stderr",
     "output_type": "stream",
     "text": [
      "Progress:  49%|████▊     | 243/500 [1:35:26<1:37:37, 22.79s/it]"
     ]
    },
    {
     "name": "stdout",
     "output_type": "stream",
     "text": [
      "Time to: Calculate Ground State - 1.6s, Get Pauli Ops - 9.47s, Calculate Pauli Expectation Values - 10.6s, Calculate Covariance - 2.77s\n",
      "f0,f1,f2 = [1.045976306351565e-09, 1.0459763063412377e-09, 1.0459763064107953e-09]\n",
      "d01,d02,d12 = [0.9482455534710763, 0.9482455534702268, 0.9482455534707196]\n"
     ]
    },
    {
     "name": "stderr",
     "output_type": "stream",
     "text": [
      "/cluster/home/mskrabulis/miniconda3/envs/quantech/lib/python3.9/site-packages/pyscf/symm/Dmatrix.py:156: RuntimeWarning: invalid value encountered in arccos\n",
      "  gamma = numpy.arccos(yp.dot(c2[1]))\n",
      "Progress:  49%|████▉     | 244/500 [1:35:52<1:40:57, 23.66s/it]"
     ]
    },
    {
     "name": "stdout",
     "output_type": "stream",
     "text": [
      "Time to: Calculate Ground State - 1.38s, Get Pauli Ops - 11.27s, Calculate Pauli Expectation Values - 10.53s, Calculate Covariance - 2.51s\n",
      "f0,f1,f2 = [1.9870258329788082e-09, 1.9870258329585915e-09, 1.987025832996738e-09]\n",
      "d01,d02,d12 = [0.9475427339055201, 0.9475427339047693, 0.9475427339052348]\n"
     ]
    },
    {
     "name": "stderr",
     "output_type": "stream",
     "text": [
      "/cluster/home/mskrabulis/miniconda3/envs/quantech/lib/python3.9/site-packages/pyscf/symm/Dmatrix.py:156: RuntimeWarning: invalid value encountered in arccos\n",
      "  gamma = numpy.arccos(yp.dot(c2[1]))\n",
      "/cluster/home/mskrabulis/miniconda3/envs/quantech/lib/python3.9/site-packages/pyscf/symm/Dmatrix.py:156: RuntimeWarning: invalid value encountered in arccos\n",
      "  gamma = numpy.arccos(yp.dot(c2[1]))\n",
      "Progress:  49%|████▉     | 245/500 [1:36:18<1:44:06, 24.50s/it]"
     ]
    },
    {
     "name": "stdout",
     "output_type": "stream",
     "text": [
      "Time to: Calculate Ground State - 1.55s, Get Pauli Ops - 10.2s, Calculate Pauli Expectation Values - 11.58s, Calculate Covariance - 3.1s\n",
      "f0,f1,f2 = [1.5912284313287066e-09, 1.5912284313210874e-09, 1.5912284313608599e-09]\n",
      "d01,d02,d12 = [0.9475100202646509, 0.9475100202640094, 0.9475100202644456]\n"
     ]
    },
    {
     "name": "stderr",
     "output_type": "stream",
     "text": [
      "/cluster/home/mskrabulis/miniconda3/envs/quantech/lib/python3.9/site-packages/pyscf/symm/Dmatrix.py:156: RuntimeWarning: invalid value encountered in arccos\n",
      "  gamma = numpy.arccos(yp.dot(c2[1]))\n",
      "Progress:  49%|████▉     | 246/500 [1:36:43<1:44:04, 24.58s/it]"
     ]
    },
    {
     "name": "stdout",
     "output_type": "stream",
     "text": [
      "Time to: Calculate Ground State - 1.51s, Get Pauli Ops - 7.18s, Calculate Pauli Expectation Values - 14.34s, Calculate Covariance - 1.74s\n",
      "f0,f1,f2 = [7.390507137593252e-10, 7.39050713804191e-10, 7.390507137660967e-10]\n",
      "d01,d02,d12 = [0.9477843748616489, 0.9477843748611046, 0.9477843748615264]\n"
     ]
    },
    {
     "name": "stderr",
     "output_type": "stream",
     "text": [
      "Progress:  49%|████▉     | 247/500 [1:37:07<1:43:07, 24.46s/it]"
     ]
    },
    {
     "name": "stdout",
     "output_type": "stream",
     "text": [
      "Time to: Calculate Ground State - 1.64s, Get Pauli Ops - 7.01s, Calculate Pauli Expectation Values - 13.23s, Calculate Covariance - 2.28s\n",
      "f0,f1,f2 = [1.3916370928090938e-09, 1.391637092826973e-09, 1.3916370928319341e-09]\n",
      "d01,d02,d12 = [0.9486321776294582, 0.948632177629012, 0.9486321776294279]\n"
     ]
    },
    {
     "name": "stderr",
     "output_type": "stream",
     "text": [
      "Progress:  50%|████▉     | 248/500 [1:37:30<1:41:08, 24.08s/it]"
     ]
    },
    {
     "name": "stdout",
     "output_type": "stream",
     "text": [
      "Time to: Calculate Ground State - 1.59s, Get Pauli Ops - 5.79s, Calculate Pauli Expectation Values - 12.96s, Calculate Covariance - 2.84s\n",
      "f0,f1,f2 = [1.0505911262404727e-09, 1.0505911262889796e-09, 1.0505911263050262e-09]\n",
      "d01,d02,d12 = [0.9499038123237038, 0.9499038123233653, 0.9499038123237816]\n"
     ]
    },
    {
     "name": "stderr",
     "output_type": "stream",
     "text": [
      "/cluster/home/mskrabulis/miniconda3/envs/quantech/lib/python3.9/site-packages/pyscf/symm/Dmatrix.py:156: RuntimeWarning: invalid value encountered in arccos\n",
      "  gamma = numpy.arccos(yp.dot(c2[1]))\n",
      "Progress:  50%|████▉     | 249/500 [1:37:56<1:42:32, 24.51s/it]"
     ]
    },
    {
     "name": "stdout",
     "output_type": "stream",
     "text": [
      "Time to: Calculate Ground State - 1.62s, Get Pauli Ops - 7.23s, Calculate Pauli Expectation Values - 13.69s, Calculate Covariance - 2.96s\n",
      "f0,f1,f2 = [1.8289655233357703e-09, 1.8289655233139641e-09, 1.8289655233111935e-09]\n",
      "d01,d02,d12 = [0.9519161916972688, 0.9519161916970545, 0.9519161916974561]\n"
     ]
    },
    {
     "name": "stderr",
     "output_type": "stream",
     "text": [
      "Progress:  50%|█████     | 250/500 [1:38:19<1:40:09, 24.04s/it]"
     ]
    },
    {
     "name": "stdout",
     "output_type": "stream",
     "text": [
      "Time to: Calculate Ground State - 1.61s, Get Pauli Ops - 5.95s, Calculate Pauli Expectation Values - 12.99s, Calculate Covariance - 2.38s\n",
      "f0,f1,f2 = [1.885945417525203e-09, 1.885945417541895e-09, 1.885945417608399e-09]\n",
      "d01,d02,d12 = [0.9546824621163786, 0.9546824621163034, 0.9546824621166902]\n"
     ]
    },
    {
     "name": "stderr",
     "output_type": "stream",
     "text": [
      "/cluster/home/mskrabulis/miniconda3/envs/quantech/lib/python3.9/site-packages/pyscf/symm/Dmatrix.py:156: RuntimeWarning: invalid value encountered in arccos\n",
      "  gamma = numpy.arccos(yp.dot(c2[1]))\n",
      "Progress:  50%|█████     | 251/500 [1:38:41<1:37:52, 23.58s/it]"
     ]
    },
    {
     "name": "stdout",
     "output_type": "stream",
     "text": [
      "Time to: Calculate Ground State - 1.47s, Get Pauli Ops - 8.4s, Calculate Pauli Expectation Values - 10.22s, Calculate Covariance - 2.43s\n",
      "f0,f1,f2 = [2.177135753429385e-09, 2.177135753380411e-09, 2.177135753343988e-09]\n",
      "d01,d02,d12 = [0.9583127568235779, 0.9583127568236287, 0.9583127568239946]\n"
     ]
    },
    {
     "name": "stderr",
     "output_type": "stream",
     "text": [
      "Progress:  50%|█████     | 252/500 [1:39:02<1:33:35, 22.65s/it]"
     ]
    },
    {
     "name": "stdout",
     "output_type": "stream",
     "text": [
      "Time to: Calculate Ground State - 1.58s, Get Pauli Ops - 5.94s, Calculate Pauli Expectation Values - 10.74s, Calculate Covariance - 2.18s\n",
      "f0,f1,f2 = [9.751708396092096e-10, 9.75170839622574e-10, 9.751708395691895e-10]\n",
      "d01,d02,d12 = [0.9622962056691351, 0.962296205669302, 0.9622962056696374]\n"
     ]
    },
    {
     "name": "stderr",
     "output_type": "stream",
     "text": [
      "Progress:  51%|█████     | 253/500 [1:39:21<1:29:41, 21.79s/it]"
     ]
    },
    {
     "name": "stdout",
     "output_type": "stream",
     "text": [
      "Time to: Calculate Ground State - 1.58s, Get Pauli Ops - 6.4s, Calculate Pauli Expectation Values - 9.95s, Calculate Covariance - 1.85s\n",
      "f0,f1,f2 = [9.382830842957731e-10, 9.382830843029934e-10, 9.382830842832974e-10]\n",
      "d01,d02,d12 = [0.9666125258376621, 0.9666125258379435, 0.9666125258382458]\n"
     ]
    },
    {
     "name": "stderr",
     "output_type": "stream",
     "text": [
      "Progress:  51%|█████     | 254/500 [1:39:43<1:28:37, 21.62s/it]"
     ]
    },
    {
     "name": "stdout",
     "output_type": "stream",
     "text": [
      "Time to: Calculate Ground State - 1.6s, Get Pauli Ops - 6.86s, Calculate Pauli Expectation Values - 10.16s, Calculate Covariance - 2.59s\n",
      "f0,f1,f2 = [1.0406008881708854e-10, 1.0406008881217572e-10, 1.0406008880380718e-10]\n",
      "d01,d02,d12 = [0.970910939708542, 0.9709109397089355, 0.9709109397092066]\n"
     ]
    },
    {
     "name": "stderr",
     "output_type": "stream",
     "text": [
      "/cluster/home/mskrabulis/miniconda3/envs/quantech/lib/python3.9/site-packages/pyscf/symm/Dmatrix.py:156: RuntimeWarning: invalid value encountered in arccos\n",
      "  gamma = numpy.arccos(yp.dot(c2[1]))\n",
      "Progress:  51%|█████     | 255/500 [1:40:05<1:29:36, 21.94s/it]"
     ]
    },
    {
     "name": "stdout",
     "output_type": "stream",
     "text": [
      "Time to: Calculate Ground State - 0.87s, Get Pauli Ops - 7.12s, Calculate Pauli Expectation Values - 12.36s, Calculate Covariance - 2.35s\n",
      "f0,f1,f2 = [1.207552478462566e-09, 1.2075524784440074e-09, 1.207552478409746e-09]\n",
      "d01,d02,d12 = [0.9756495171430526, 0.9756495171435378, 0.975649517143785]\n"
     ]
    },
    {
     "name": "stderr",
     "output_type": "stream",
     "text": [
      "Progress:  51%|█████     | 256/500 [1:40:30<1:32:36, 22.77s/it]"
     ]
    },
    {
     "name": "stdout",
     "output_type": "stream",
     "text": [
      "Time to: Calculate Ground State - 1.36s, Get Pauli Ops - 10.17s, Calculate Pauli Expectation Values - 10.08s, Calculate Covariance - 3.08s\n",
      "f0,f1,f2 = [5.916343142705349e-10, 5.916343142531764e-10, 5.916343142742721e-10]\n",
      "d01,d02,d12 = [0.9805665293785739, 0.9805665293791438, 0.9805665293793674]\n"
     ]
    },
    {
     "name": "stderr",
     "output_type": "stream",
     "text": [
      "Progress:  51%|█████▏    | 257/500 [1:40:52<1:30:58, 22.46s/it]"
     ]
    },
    {
     "name": "stdout",
     "output_type": "stream",
     "text": [
      "Time to: Calculate Ground State - 1.56s, Get Pauli Ops - 6.45s, Calculate Pauli Expectation Values - 10.97s, Calculate Covariance - 2.76s\n",
      "f0,f1,f2 = [2.5747900911889187e-10, 2.574790091703612e-10, 2.574790091325346e-10]\n",
      "d01,d02,d12 = [0.985520840809652, 0.9855208408102919, 0.9855208408105017]\n"
     ]
    },
    {
     "name": "stderr",
     "output_type": "stream",
     "text": [
      "/cluster/home/mskrabulis/miniconda3/envs/quantech/lib/python3.9/site-packages/pyscf/symm/Dmatrix.py:156: RuntimeWarning: invalid value encountered in arccos\n",
      "  gamma = numpy.arccos(yp.dot(c2[1]))\n",
      "Progress:  52%|█████▏    | 258/500 [1:41:16<1:32:22, 22.90s/it]"
     ]
    },
    {
     "name": "stdout",
     "output_type": "stream",
     "text": [
      "Time to: Calculate Ground State - 1.51s, Get Pauli Ops - 6.23s, Calculate Pauli Expectation Values - 13.07s, Calculate Covariance - 3.1s\n",
      "f0,f1,f2 = [9.586053765572066e-10, 9.58605376608099e-10, 9.586053765599886e-10]\n",
      "d01,d02,d12 = [0.9908028071322507, 0.9908028071329518, 0.9908028071331605]\n"
     ]
    },
    {
     "name": "stderr",
     "output_type": "stream",
     "text": [
      "/cluster/home/mskrabulis/miniconda3/envs/quantech/lib/python3.9/site-packages/pyscf/symm/Dmatrix.py:156: RuntimeWarning: invalid value encountered in arccos\n",
      "  gamma = numpy.arccos(yp.dot(c2[1]))\n",
      "Progress:  52%|█████▏    | 259/500 [1:41:40<1:34:13, 23.46s/it]"
     ]
    },
    {
     "name": "stdout",
     "output_type": "stream",
     "text": [
      "Time to: Calculate Ground State - 1.62s, Get Pauli Ops - 6.71s, Calculate Pauli Expectation Values - 13.86s, Calculate Covariance - 2.55s\n",
      "f0,f1,f2 = [7.003695186618724e-10, 7.00369518666702e-10, 7.00369518665292e-10]\n",
      "d01,d02,d12 = [0.9957195588941208, 0.9957195588948811, 0.995719558895095]\n"
     ]
    },
    {
     "name": "stderr",
     "output_type": "stream",
     "text": [
      "Progress:  52%|█████▏    | 260/500 [1:42:05<1:34:53, 23.72s/it]"
     ]
    },
    {
     "name": "stdout",
     "output_type": "stream",
     "text": [
      "Time to: Calculate Ground State - 1.7s, Get Pauli Ops - 8.59s, Calculate Pauli Expectation Values - 11.06s, Calculate Covariance - 2.98s\n",
      "f0,f1,f2 = [2.9812069189466316e-10, 2.9812069187257997e-10, 2.9812069186027664e-10]\n",
      "d01,d02,d12 = [1.000690497528438, 1.0006904975292632, 1.0006904975294686]\n"
     ]
    },
    {
     "name": "stderr",
     "output_type": "stream",
     "text": [
      "Progress:  52%|█████▏    | 261/500 [1:42:28<1:33:17, 23.42s/it]"
     ]
    },
    {
     "name": "stdout",
     "output_type": "stream",
     "text": [
      "Time to: Calculate Ground State - 1.61s, Get Pauli Ops - 6.49s, Calculate Pauli Expectation Values - 11.43s, Calculate Covariance - 3.18s\n",
      "f0,f1,f2 = [1.2649133804593227e-09, 1.264913380469557e-09, 1.2649133804770471e-09]\n",
      "d01,d02,d12 = [1.005066412420919, 1.005066412421798, 1.0050664124219924]\n"
     ]
    },
    {
     "name": "stderr",
     "output_type": "stream",
     "text": [
      "Progress:  52%|█████▏    | 262/500 [1:42:51<1:32:30, 23.32s/it]"
     ]
    },
    {
     "name": "stdout",
     "output_type": "stream",
     "text": [
      "Time to: Calculate Ground State - 1.59s, Get Pauli Ops - 6.86s, Calculate Pauli Expectation Values - 12.21s, Calculate Covariance - 2.43s\n",
      "f0,f1,f2 = [4.165134453828348e-10, 4.165134453683609e-10, 4.165134454190289e-10]\n",
      "d01,d02,d12 = [1.0092076792998776, 1.009207679300808, 1.0092076793009914]\n"
     ]
    },
    {
     "name": "stderr",
     "output_type": "stream",
     "text": [
      "/cluster/home/mskrabulis/miniconda3/envs/quantech/lib/python3.9/site-packages/pyscf/symm/Dmatrix.py:156: RuntimeWarning: invalid value encountered in arccos\n",
      "  gamma = numpy.arccos(yp.dot(c2[1]))\n",
      "/cluster/home/mskrabulis/miniconda3/envs/quantech/lib/python3.9/site-packages/pyscf/symm/Dmatrix.py:156: RuntimeWarning: invalid value encountered in arccos\n",
      "  gamma = numpy.arccos(yp.dot(c2[1]))\n",
      "Progress:  53%|█████▎    | 263/500 [1:43:14<1:32:13, 23.35s/it]"
     ]
    },
    {
     "name": "stdout",
     "output_type": "stream",
     "text": [
      "Time to: Calculate Ground State - 1.61s, Get Pauli Ops - 9.24s, Calculate Pauli Expectation Values - 10.03s, Calculate Covariance - 2.52s\n",
      "f0,f1,f2 = [1.5318273834672723e-09, 1.5318273834393748e-09, 1.5318273835087498e-09]\n",
      "d01,d02,d12 = [1.0126549074596296, 1.0126549074605813, 1.0126549074607605]\n"
     ]
    },
    {
     "name": "stderr",
     "output_type": "stream",
     "text": [
      "/cluster/home/mskrabulis/miniconda3/envs/quantech/lib/python3.9/site-packages/pyscf/symm/Dmatrix.py:156: RuntimeWarning: invalid value encountered in arccos\n",
      "  gamma = numpy.arccos(yp.dot(c2[1]))\n",
      "Progress:  53%|█████▎    | 264/500 [1:43:36<1:30:07, 22.91s/it]"
     ]
    },
    {
     "name": "stdout",
     "output_type": "stream",
     "text": [
      "Time to: Calculate Ground State - 1.57s, Get Pauli Ops - 6.25s, Calculate Pauli Expectation Values - 10.92s, Calculate Covariance - 3.15s\n",
      "f0,f1,f2 = [9.225853980863427e-10, 9.225853980922432e-10, 9.225853981095328e-10]\n",
      "d01,d02,d12 = [1.0156706543520482, 1.0156706543530056, 1.0156706543531782]\n"
     ]
    },
    {
     "name": "stderr",
     "output_type": "stream",
     "text": [
      "/cluster/home/mskrabulis/miniconda3/envs/quantech/lib/python3.9/site-packages/pyscf/symm/Dmatrix.py:156: RuntimeWarning: invalid value encountered in arccos\n",
      "  gamma = numpy.arccos(yp.dot(c2[1]))\n",
      "Progress:  53%|█████▎    | 265/500 [1:44:00<1:30:43, 23.16s/it]"
     ]
    },
    {
     "name": "stdout",
     "output_type": "stream",
     "text": [
      "Time to: Calculate Ground State - 1.62s, Get Pauli Ops - 9.5s, Calculate Pauli Expectation Values - 10.24s, Calculate Covariance - 2.36s\n",
      "f0,f1,f2 = [1.0596534837206182e-09, 1.0596534837638682e-09, 1.0596534837610032e-09]\n",
      "d01,d02,d12 = [1.0182041507620223, 1.018204150762988, 1.0182041507631368]\n"
     ]
    },
    {
     "name": "stderr",
     "output_type": "stream",
     "text": [
      "/cluster/home/mskrabulis/miniconda3/envs/quantech/lib/python3.9/site-packages/pyscf/symm/Dmatrix.py:156: RuntimeWarning: invalid value encountered in arccos\n",
      "  gamma = numpy.arccos(yp.dot(c2[1]))\n",
      "/cluster/home/mskrabulis/miniconda3/envs/quantech/lib/python3.9/site-packages/pyscf/symm/Dmatrix.py:156: RuntimeWarning: invalid value encountered in arccos\n",
      "  gamma = numpy.arccos(yp.dot(c2[1]))\n",
      "Progress:  53%|█████▎    | 266/500 [1:44:21<1:27:46, 22.50s/it]"
     ]
    },
    {
     "name": "stdout",
     "output_type": "stream",
     "text": [
      "Time to: Calculate Ground State - 1.54s, Get Pauli Ops - 6.21s, Calculate Pauli Expectation Values - 10.08s, Calculate Covariance - 3.13s\n",
      "f0,f1,f2 = [8.404086213798155e-10, 8.404086214504836e-10, 8.40408621434959e-10]\n",
      "d01,d02,d12 = [1.0203531678586168, 1.020353167859598, 1.0203531678597038]\n"
     ]
    },
    {
     "name": "stderr",
     "output_type": "stream",
     "text": [
      "Progress:  53%|█████▎    | 267/500 [1:44:41<1:25:16, 21.96s/it]"
     ]
    },
    {
     "name": "stdout",
     "output_type": "stream",
     "text": [
      "Time to: Calculate Ground State - 1.49s, Get Pauli Ops - 6.87s, Calculate Pauli Expectation Values - 10.02s, Calculate Covariance - 2.3s\n",
      "f0,f1,f2 = [1.1928592414751034e-09, 1.1928592414810192e-09, 1.1928592415234356e-09]\n",
      "d01,d02,d12 = [1.0219769207261413, 1.0219769207271314, 1.0219769207271878]\n"
     ]
    },
    {
     "name": "stderr",
     "output_type": "stream",
     "text": [
      "Progress:  54%|█████▎    | 268/500 [1:45:03<1:25:05, 22.01s/it]"
     ]
    },
    {
     "name": "stdout",
     "output_type": "stream",
     "text": [
      "Time to: Calculate Ground State - 1.47s, Get Pauli Ops - 6.0s, Calculate Pauli Expectation Values - 11.6s, Calculate Covariance - 3.03s\n",
      "f0,f1,f2 = [3.849741721875457e-09, 3.849741721920273e-09, 3.849741721941181e-09]\n",
      "d01,d02,d12 = [1.0219805949564384, 1.0219805949574254, 1.0219805949574212]\n"
     ]
    },
    {
     "name": "stderr",
     "output_type": "stream",
     "text": [
      "/cluster/home/mskrabulis/miniconda3/envs/quantech/lib/python3.9/site-packages/pyscf/symm/Dmatrix.py:156: RuntimeWarning: invalid value encountered in arccos\n",
      "  gamma = numpy.arccos(yp.dot(c2[1]))\n",
      "Progress:  54%|█████▍    | 269/500 [1:45:29<1:28:59, 23.11s/it]"
     ]
    },
    {
     "name": "stdout",
     "output_type": "stream",
     "text": [
      "Time to: Calculate Ground State - 1.54s, Get Pauli Ops - 11.0s, Calculate Pauli Expectation Values - 10.64s, Calculate Covariance - 2.51s\n",
      "f0,f1,f2 = [1.2173012061805596e-09, 1.2173012061754383e-09, 1.2173012061756261e-09]\n",
      "d01,d02,d12 = [1.0214792046371337, 1.0214792046381065, 1.0214792046380452]\n"
     ]
    },
    {
     "name": "stderr",
     "output_type": "stream",
     "text": [
      "Progress:  54%|█████▍    | 270/500 [1:45:51<1:27:08, 22.73s/it]"
     ]
    },
    {
     "name": "stdout",
     "output_type": "stream",
     "text": [
      "Time to: Calculate Ground State - 1.57s, Get Pauli Ops - 6.62s, Calculate Pauli Expectation Values - 11.25s, Calculate Covariance - 2.39s\n",
      "f0,f1,f2 = [1.914125503723361e-09, 1.9141255037416015e-09, 1.914125503720667e-09]\n",
      "d01,d02,d12 = [1.0201908066211773, 1.0201908066221428, 1.0201908066220269]\n"
     ]
    },
    {
     "name": "stderr",
     "output_type": "stream",
     "text": [
      "Progress:  54%|█████▍    | 271/500 [1:46:15<1:27:38, 22.96s/it]"
     ]
    },
    {
     "name": "stdout",
     "output_type": "stream",
     "text": [
      "Time to: Calculate Ground State - 1.57s, Get Pauli Ops - 5.9s, Calculate Pauli Expectation Values - 13.34s, Calculate Covariance - 2.67s\n",
      "f0,f1,f2 = [2.4478200207929817e-09, 2.4478200207938014e-09, 2.4478200208051747e-09]\n",
      "d01,d02,d12 = [1.0179051204885803, 1.0179051204895242, 1.0179051204893623]\n"
     ]
    },
    {
     "name": "stderr",
     "output_type": "stream",
     "text": [
      "Progress:  54%|█████▍    | 272/500 [1:46:41<1:31:38, 24.11s/it]"
     ]
    },
    {
     "name": "stdout",
     "output_type": "stream",
     "text": [
      "Time to: Calculate Ground State - 1.64s, Get Pauli Ops - 11.86s, Calculate Pauli Expectation Values - 10.5s, Calculate Covariance - 2.8s\n",
      "f0,f1,f2 = [1.1777351559474669e-09, 1.1777351560262492e-09, 1.1777351560119876e-09]\n",
      "d01,d02,d12 = [1.0151631569317645, 1.0151631569326884, 1.0151631569324593]\n"
     ]
    },
    {
     "name": "stderr",
     "output_type": "stream",
     "text": [
      "Progress:  55%|█████▍    | 273/500 [1:47:04<1:29:35, 23.68s/it]"
     ]
    },
    {
     "name": "stdout",
     "output_type": "stream",
     "text": [
      "Time to: Calculate Ground State - 1.73s, Get Pauli Ops - 8.0s, Calculate Pauli Expectation Values - 10.29s, Calculate Covariance - 2.64s\n",
      "f0,f1,f2 = [1.3130582284435217e-09, 1.3130582283987535e-09, 1.3130582284261102e-09]\n",
      "d01,d02,d12 = [1.0119152229092656, 1.0119152229101676, 1.0119152229098771]\n"
     ]
    },
    {
     "name": "stderr",
     "output_type": "stream",
     "text": [
      "Progress:  55%|█████▍    | 274/500 [1:47:25<1:26:43, 23.02s/it]"
     ]
    },
    {
     "name": "stdout",
     "output_type": "stream",
     "text": [
      "Time to: Calculate Ground State - 1.53s, Get Pauli Ops - 6.95s, Calculate Pauli Expectation Values - 10.71s, Calculate Covariance - 2.29s\n",
      "f0,f1,f2 = [5.545834359467265e-10, 5.545834359701205e-10, 5.545834359532287e-10]\n",
      "d01,d02,d12 = [1.008483129608827, 1.0084831296097088, 1.008483129609352]\n"
     ]
    },
    {
     "name": "stderr",
     "output_type": "stream",
     "text": [
      "/cluster/home/mskrabulis/miniconda3/envs/quantech/lib/python3.9/site-packages/pyscf/symm/Dmatrix.py:156: RuntimeWarning: invalid value encountered in arccos\n",
      "  gamma = numpy.arccos(yp.dot(c2[1]))\n",
      "Progress:  55%|█████▌    | 275/500 [1:47:49<1:26:29, 23.06s/it]"
     ]
    },
    {
     "name": "stdout",
     "output_type": "stream",
     "text": [
      "Time to: Calculate Ground State - 1.62s, Get Pauli Ops - 6.32s, Calculate Pauli Expectation Values - 12.63s, Calculate Covariance - 2.57s\n",
      "f0,f1,f2 = [1.1874806787961996e-11, 1.1874806834338305e-11, 1.187480682546996e-11]\n",
      "d01,d02,d12 = [1.0050946250876232, 1.005094625088487, 1.0050946250880493]\n"
     ]
    },
    {
     "name": "stderr",
     "output_type": "stream",
     "text": [
      "/cluster/home/mskrabulis/miniconda3/envs/quantech/lib/python3.9/site-packages/pyscf/symm/Dmatrix.py:156: RuntimeWarning: invalid value encountered in arccos\n",
      "  gamma = numpy.arccos(yp.dot(c2[1]))\n",
      "Progress:  55%|█████▌    | 276/500 [1:48:13<1:27:05, 23.33s/it]"
     ]
    },
    {
     "name": "stdout",
     "output_type": "stream",
     "text": [
      "Time to: Calculate Ground State - 1.61s, Get Pauli Ops - 8.7s, Calculate Pauli Expectation Values - 11.24s, Calculate Covariance - 2.39s\n",
      "f0,f1,f2 = [8.262332037673342e-10, 8.262332038374204e-10, 8.262332038094014e-10]\n",
      "d01,d02,d12 = [1.001411242869954, 1.0014112428707962, 1.0014112428702713]\n"
     ]
    },
    {
     "name": "stderr",
     "output_type": "stream",
     "text": [
      "/cluster/home/mskrabulis/miniconda3/envs/quantech/lib/python3.9/site-packages/pyscf/symm/Dmatrix.py:156: RuntimeWarning: invalid value encountered in arccos\n",
      "  gamma = numpy.arccos(yp.dot(c2[1]))\n",
      "Progress:  55%|█████▌    | 277/500 [1:48:37<1:27:36, 23.57s/it]"
     ]
    },
    {
     "name": "stdout",
     "output_type": "stream",
     "text": [
      "Time to: Calculate Ground State - 1.04s, Get Pauli Ops - 9.44s, Calculate Pauli Expectation Values - 10.57s, Calculate Covariance - 3.08s\n",
      "f0,f1,f2 = [2.1145122722556956e-10, 2.1145122722357347e-10, 2.114512272290747e-10]\n",
      "d01,d02,d12 = [0.9978676447271875, 0.9978676447280022, 0.9978676447273934]\n"
     ]
    },
    {
     "name": "stderr",
     "output_type": "stream",
     "text": [
      "/cluster/home/mskrabulis/miniconda3/envs/quantech/lib/python3.9/site-packages/pyscf/symm/Dmatrix.py:156: RuntimeWarning: invalid value encountered in arccos\n",
      "  gamma = numpy.arccos(yp.dot(c2[1]))\n",
      "Progress:  56%|█████▌    | 278/500 [1:49:00<1:26:44, 23.44s/it]"
     ]
    },
    {
     "name": "stdout",
     "output_type": "stream",
     "text": [
      "Time to: Calculate Ground State - 1.63s, Get Pauli Ops - 5.96s, Calculate Pauli Expectation Values - 13.36s, Calculate Covariance - 2.19s\n",
      "f0,f1,f2 = [2.420696321187776e-10, 2.4206963211856183e-10, 2.420696321250112e-10]\n",
      "d01,d02,d12 = [0.994474556376244, 0.9944745563770439, 0.9944745563763533]\n"
     ]
    },
    {
     "name": "stderr",
     "output_type": "stream",
     "text": [
      "/cluster/home/mskrabulis/miniconda3/envs/quantech/lib/python3.9/site-packages/pyscf/symm/Dmatrix.py:156: RuntimeWarning: invalid value encountered in arccos\n",
      "  gamma = numpy.arccos(yp.dot(c2[1]))\n",
      "Progress:  56%|█████▌    | 279/500 [1:49:25<1:27:47, 23.83s/it]"
     ]
    },
    {
     "name": "stdout",
     "output_type": "stream",
     "text": [
      "Time to: Calculate Ground State - 0.97s, Get Pauli Ops - 9.54s, Calculate Pauli Expectation Values - 11.26s, Calculate Covariance - 2.96s\n",
      "f0,f1,f2 = [7.422894060286706e-10, 7.422894059992263e-10, 7.422894059802847e-10]\n",
      "d01,d02,d12 = [0.9908214774101076, 0.9908214774108913, 0.9908214774101207]\n"
     ]
    },
    {
     "name": "stderr",
     "output_type": "stream",
     "text": [
      "/cluster/home/mskrabulis/miniconda3/envs/quantech/lib/python3.9/site-packages/pyscf/symm/Dmatrix.py:156: RuntimeWarning: invalid value encountered in arccos\n",
      "  gamma = numpy.arccos(yp.dot(c2[1]))\n",
      "Progress:  56%|█████▌    | 280/500 [1:49:49<1:27:48, 23.95s/it]"
     ]
    },
    {
     "name": "stdout",
     "output_type": "stream",
     "text": [
      "Time to: Calculate Ground State - 1.2s, Get Pauli Ops - 6.62s, Calculate Pauli Expectation Values - 13.29s, Calculate Covariance - 3.08s\n",
      "f0,f1,f2 = [9.333252370901436e-11, 9.33325236658244e-11, 9.333252371251882e-11]\n",
      "d01,d02,d12 = [0.9871813124487652, 0.9871813124495226, 0.9871813124486831]\n"
     ]
    },
    {
     "name": "stderr",
     "output_type": "stream",
     "text": [
      "/cluster/home/mskrabulis/miniconda3/envs/quantech/lib/python3.9/site-packages/pyscf/symm/Dmatrix.py:156: RuntimeWarning: invalid value encountered in arccos\n",
      "  gamma = numpy.arccos(yp.dot(c2[1]))\n",
      "Progress:  56%|█████▌    | 281/500 [1:50:14<1:28:29, 24.25s/it]"
     ]
    },
    {
     "name": "stdout",
     "output_type": "stream",
     "text": [
      "Time to: Calculate Ground State - 1.62s, Get Pauli Ops - 6.13s, Calculate Pauli Expectation Values - 15.47s, Calculate Covariance - 1.71s\n",
      "f0,f1,f2 = [9.184290433323045e-10, 9.184290433571617e-10, 9.184290433374675e-10]\n",
      "d01,d02,d12 = [0.9832115811340769, 0.9832115811347961, 0.9832115811339004]\n"
     ]
    },
    {
     "name": "stderr",
     "output_type": "stream",
     "text": [
      "Progress:  56%|█████▋    | 282/500 [1:50:38<1:27:38, 24.12s/it]"
     ]
    },
    {
     "name": "stdout",
     "output_type": "stream",
     "text": [
      "Time to: Calculate Ground State - 1.37s, Get Pauli Ops - 5.75s, Calculate Pauli Expectation Values - 14.46s, Calculate Covariance - 2.25s\n",
      "f0,f1,f2 = [5.813445268922969e-10, 5.813445268221233e-10, 5.813445268420824e-10]\n",
      "d01,d02,d12 = [0.9795391483236574, 0.9795391483243352, 0.9795391483233794]\n"
     ]
    },
    {
     "name": "stderr",
     "output_type": "stream",
     "text": [
      "Progress:  57%|█████▋    | 283/500 [1:51:01<1:26:54, 24.03s/it]"
     ]
    },
    {
     "name": "stdout",
     "output_type": "stream",
     "text": [
      "Time to: Calculate Ground State - 0.96s, Get Pauli Ops - 6.82s, Calculate Pauli Expectation Values - 12.87s, Calculate Covariance - 3.16s\n",
      "f0,f1,f2 = [1.612161361967881e-11, 1.612161364080151e-11, 1.6121613628940984e-11]\n",
      "d01,d02,d12 = [0.975911952225347, 0.9759119522259889, 0.9759119522249711]\n"
     ]
    },
    {
     "name": "stderr",
     "output_type": "stream",
     "text": [
      "Progress:  57%|█████▋    | 284/500 [1:51:22<1:23:06, 23.09s/it]"
     ]
    },
    {
     "name": "stdout",
     "output_type": "stream",
     "text": [
      "Time to: Calculate Ground State - 1.58s, Get Pauli Ops - 6.99s, Calculate Pauli Expectation Values - 10.03s, Calculate Covariance - 2.27s\n",
      "f0,f1,f2 = [3.7613610211824055e-10, 3.761361020940127e-10, 3.7613610213032095e-10]\n",
      "d01,d02,d12 = [0.9724920953122297, 0.9724920953128421, 0.9724920953117616]\n"
     ]
    },
    {
     "name": "stderr",
     "output_type": "stream",
     "text": [
      "Progress:  57%|█████▋    | 285/500 [1:51:42<1:19:08, 22.08s/it]"
     ]
    },
    {
     "name": "stdout",
     "output_type": "stream",
     "text": [
      "Time to: Calculate Ground State - 1.56s, Get Pauli Ops - 5.74s, Calculate Pauli Expectation Values - 10.03s, Calculate Covariance - 2.41s\n",
      "f0,f1,f2 = [2.228172445211433e-09, 2.2281724452399322e-09, 2.228172445189551e-09]\n",
      "d01,d02,d12 = [0.9700449953062644, 0.9700449953068387, 0.9700449953057033]\n"
     ]
    },
    {
     "name": "stderr",
     "output_type": "stream",
     "text": [
      "Progress:  57%|█████▋    | 286/500 [1:52:03<1:17:35, 21.75s/it]"
     ]
    },
    {
     "name": "stdout",
     "output_type": "stream",
     "text": [
      "Time to: Calculate Ground State - 1.53s, Get Pauli Ops - 6.16s, Calculate Pauli Expectation Values - 10.18s, Calculate Covariance - 3.1s\n",
      "f0,f1,f2 = [2.7296155993484244e-10, 2.7296155996355166e-10, 2.729615599738649e-10]\n",
      "d01,d02,d12 = [0.9677457551462525, 0.9677457551467832, 0.9677457551456147]\n"
     ]
    },
    {
     "name": "stderr",
     "output_type": "stream",
     "text": [
      "Progress:  57%|█████▋    | 287/500 [1:52:27<1:20:04, 22.56s/it]"
     ]
    },
    {
     "name": "stdout",
     "output_type": "stream",
     "text": [
      "Time to: Calculate Ground State - 1.59s, Get Pauli Ops - 9.65s, Calculate Pauli Expectation Values - 10.03s, Calculate Covariance - 3.16s\n",
      "f0,f1,f2 = [1.952196230959108e-09, 1.952196230938264e-09, 1.9521962309958964e-09]\n",
      "d01,d02,d12 = [0.9662889398911494, 0.9662889398916477, 0.9662889398904421]\n"
     ]
    },
    {
     "name": "stderr",
     "output_type": "stream",
     "text": [
      "Progress:  58%|█████▊    | 288/500 [1:52:49<1:19:01, 22.37s/it]"
     ]
    },
    {
     "name": "stdout",
     "output_type": "stream",
     "text": [
      "Time to: Calculate Ground State - 1.55s, Get Pauli Ops - 6.78s, Calculate Pauli Expectation Values - 10.41s, Calculate Covariance - 3.15s\n",
      "f0,f1,f2 = [6.504062816037792e-10, 6.504062815954122e-10, 6.504062815791458e-10]\n",
      "d01,d02,d12 = [0.9651225685837818, 0.965122568584245, 0.9651225685830016]\n"
     ]
    },
    {
     "name": "stderr",
     "output_type": "stream",
     "text": [
      "Progress:  58%|█████▊    | 289/500 [1:53:11<1:17:53, 22.15s/it]"
     ]
    },
    {
     "name": "stdout",
     "output_type": "stream",
     "text": [
      "Time to: Calculate Ground State - 1.6s, Get Pauli Ops - 7.1s, Calculate Pauli Expectation Values - 9.91s, Calculate Covariance - 3.02s\n",
      "f0,f1,f2 = [3.1001742309471037e-10, 3.1001742300568175e-10, 3.1001742302477545e-10]\n",
      "d01,d02,d12 = [0.9638440890629398, 0.9638440890633541, 0.963844089062102]\n"
     ]
    },
    {
     "name": "stderr",
     "output_type": "stream",
     "text": [
      "/cluster/home/mskrabulis/miniconda3/envs/quantech/lib/python3.9/site-packages/pyscf/symm/Dmatrix.py:156: RuntimeWarning: invalid value encountered in arccos\n",
      "  gamma = numpy.arccos(yp.dot(c2[1]))\n",
      "Progress:  58%|█████▊    | 290/500 [1:53:35<1:19:21, 22.67s/it]"
     ]
    },
    {
     "name": "stdout",
     "output_type": "stream",
     "text": [
      "Time to: Calculate Ground State - 1.55s, Get Pauli Ops - 6.97s, Calculate Pauli Expectation Values - 13.07s, Calculate Covariance - 2.29s\n",
      "f0,f1,f2 = [7.709043236210776e-10, 7.70904323606083e-10, 7.70904323578853e-10]\n",
      "d01,d02,d12 = [0.9629035236953821, 0.9629035236957338, 0.9629035236944801]\n"
     ]
    },
    {
     "name": "stderr",
     "output_type": "stream",
     "text": [
      "/cluster/home/mskrabulis/miniconda3/envs/quantech/lib/python3.9/site-packages/pyscf/symm/Dmatrix.py:156: RuntimeWarning: invalid value encountered in arccos\n",
      "  gamma = numpy.arccos(yp.dot(c2[1]))\n",
      "Progress:  58%|█████▊    | 291/500 [1:53:57<1:18:41, 22.59s/it]"
     ]
    },
    {
     "name": "stdout",
     "output_type": "stream",
     "text": [
      "Time to: Calculate Ground State - 1.62s, Get Pauli Ops - 6.78s, Calculate Pauli Expectation Values - 11.05s, Calculate Covariance - 2.95s\n",
      "f0,f1,f2 = [2.008320697417838e-09, 2.0083206974568545e-09, 2.008320697447719e-09]\n",
      "d01,d02,d12 = [0.9628094485418728, 0.9628094485421601, 0.9628094485409258]\n"
     ]
    },
    {
     "name": "stderr",
     "output_type": "stream",
     "text": [
      "Progress:  58%|█████▊    | 292/500 [1:54:21<1:19:03, 22.80s/it]"
     ]
    },
    {
     "name": "stdout",
     "output_type": "stream",
     "text": [
      "Time to: Calculate Ground State - 1.61s, Get Pauli Ops - 6.93s, Calculate Pauli Expectation Values - 12.57s, Calculate Covariance - 2.17s\n",
      "f0,f1,f2 = [1.050191149417259e-09, 1.0501911494373456e-09, 1.0501911494377097e-09]\n",
      "d01,d02,d12 = [0.9631523898883743, 0.9631523898885956, 0.9631523898873962]\n"
     ]
    },
    {
     "name": "stderr",
     "output_type": "stream",
     "text": [
      "/cluster/home/mskrabulis/miniconda3/envs/quantech/lib/python3.9/site-packages/pyscf/symm/Dmatrix.py:156: RuntimeWarning: invalid value encountered in arccos\n",
      "  gamma = numpy.arccos(yp.dot(c2[1]))\n",
      "Progress:  59%|█████▊    | 293/500 [1:54:46<1:21:00, 23.48s/it]"
     ]
    },
    {
     "name": "stdout",
     "output_type": "stream",
     "text": [
      "Time to: Calculate Ground State - 1.61s, Get Pauli Ops - 9.85s, Calculate Pauli Expectation Values - 10.72s, Calculate Covariance - 2.87s\n",
      "f0,f1,f2 = [1.1221869238529682e-09, 1.1221869238757115e-09, 1.1221869238721834e-09]\n",
      "d01,d02,d12 = [0.9639560303825976, 0.9639560303827513, 0.9639560303815948]\n"
     ]
    },
    {
     "name": "stderr",
     "output_type": "stream",
     "text": [
      "Progress:  59%|█████▉    | 294/500 [1:55:08<1:19:21, 23.11s/it]"
     ]
    },
    {
     "name": "stdout",
     "output_type": "stream",
     "text": [
      "Time to: Calculate Ground State - 0.94s, Get Pauli Ops - 6.88s, Calculate Pauli Expectation Values - 12.62s, Calculate Covariance - 1.81s\n",
      "f0,f1,f2 = [1.7144833695136453e-09, 1.7144833695825815e-09, 1.7144833695324392e-09]\n",
      "d01,d02,d12 = [0.9654595715120986, 0.9654595715121694, 0.9654595715110768]\n"
     ]
    },
    {
     "name": "stderr",
     "output_type": "stream",
     "text": [
      "/cluster/home/mskrabulis/miniconda3/envs/quantech/lib/python3.9/site-packages/pyscf/symm/Dmatrix.py:156: RuntimeWarning: invalid value encountered in arccos\n",
      "  gamma = numpy.arccos(yp.dot(c2[1]))\n",
      "Progress:  59%|█████▉    | 295/500 [1:55:30<1:18:17, 22.91s/it]"
     ]
    },
    {
     "name": "stdout",
     "output_type": "stream",
     "text": [
      "Time to: Calculate Ground State - 0.92s, Get Pauli Ops - 6.77s, Calculate Pauli Expectation Values - 12.27s, Calculate Covariance - 2.48s\n",
      "f0,f1,f2 = [1.9840291503651126e-11, 1.9840291561061283e-11, 1.9840291541727914e-11]\n",
      "d01,d02,d12 = [0.9669500662381316, 0.9669500662381127, 0.9669500662371077]\n"
     ]
    },
    {
     "name": "stderr",
     "output_type": "stream",
     "text": [
      "/cluster/home/mskrabulis/miniconda3/envs/quantech/lib/python3.9/site-packages/pyscf/symm/Dmatrix.py:156: RuntimeWarning: invalid value encountered in arccos\n",
      "  gamma = numpy.arccos(yp.dot(c2[1]))\n",
      "Progress:  59%|█████▉    | 296/500 [1:55:56<1:20:27, 23.67s/it]"
     ]
    },
    {
     "name": "stdout",
     "output_type": "stream",
     "text": [
      "Time to: Calculate Ground State - 0.91s, Get Pauli Ops - 10.6s, Calculate Pauli Expectation Values - 10.79s, Calculate Covariance - 3.1s\n",
      "f0,f1,f2 = [2.2347637902777977e-10, 2.2347637904295564e-10, 2.2347637900967938e-10]\n",
      "d01,d02,d12 = [0.9685121826047971, 0.9685121826046841, 0.9685121826037739]\n"
     ]
    },
    {
     "name": "stderr",
     "output_type": "stream",
     "text": [
      "Progress:  59%|█████▉    | 297/500 [1:56:17<1:17:40, 22.96s/it]"
     ]
    },
    {
     "name": "stdout",
     "output_type": "stream",
     "text": [
      "Time to: Calculate Ground State - 1.5s, Get Pauli Ops - 6.12s, Calculate Pauli Expectation Values - 10.66s, Calculate Covariance - 3.02s\n",
      "f0,f1,f2 = [1.4048622474212955e-11, 1.4048622517190466e-11, 1.4048622506535666e-11]\n",
      "d01,d02,d12 = [0.970058026071448, 0.970058026071243, 0.9700580260704414]\n"
     ]
    },
    {
     "name": "stderr",
     "output_type": "stream",
     "text": [
      "Progress:  60%|█████▉    | 298/500 [1:56:43<1:20:28, 23.90s/it]"
     ]
    },
    {
     "name": "stdout",
     "output_type": "stream",
     "text": [
      "Time to: Calculate Ground State - 1.6s, Get Pauli Ops - 9.47s, Calculate Pauli Expectation Values - 11.98s, Calculate Covariance - 3.05s\n",
      "f0,f1,f2 = [1.6306064912495598e-10, 1.6306064913066854e-10, 1.6306064907219982e-10]\n",
      "d01,d02,d12 = [0.9716496487645041, 0.9716496487641956, 0.9716496487635052]\n"
     ]
    },
    {
     "name": "stderr",
     "output_type": "stream",
     "text": [
      "Progress:  60%|█████▉    | 299/500 [1:57:08<1:20:32, 24.04s/it]"
     ]
    },
    {
     "name": "stdout",
     "output_type": "stream",
     "text": [
      "Time to: Calculate Ground State - 1.55s, Get Pauli Ops - 6.98s, Calculate Pauli Expectation Values - 12.84s, Calculate Covariance - 2.98s\n",
      "f0,f1,f2 = [4.627213391857915e-10, 4.627213391368587e-10, 4.627213391966232e-10]\n",
      "d01,d02,d12 = [0.9734107234279296, 0.9734107234275309, 0.9734107234269456]\n"
     ]
    },
    {
     "name": "stderr",
     "output_type": "stream",
     "text": [
      "Progress:  60%|██████    | 300/500 [1:57:32<1:20:15, 24.08s/it]"
     ]
    },
    {
     "name": "stdout",
     "output_type": "stream",
     "text": [
      "Time to: Calculate Ground State - 1.57s, Get Pauli Ops - 9.18s, Calculate Pauli Expectation Values - 10.67s, Calculate Covariance - 2.74s\n",
      "f0,f1,f2 = [9.204669439263491e-10, 9.204669439701886e-10, 9.204669439531187e-10]\n",
      "d01,d02,d12 = [0.97552875735215, 0.9755287573516651, 0.9755287573511857]\n"
     ]
    },
    {
     "name": "stderr",
     "output_type": "stream",
     "text": [
      "Progress:  60%|██████    | 301/500 [1:57:54<1:17:41, 23.43s/it]"
     ]
    },
    {
     "name": "stdout",
     "output_type": "stream",
     "text": [
      "Time to: Calculate Ground State - 1.09s, Get Pauli Ops - 6.13s, Calculate Pauli Expectation Values - 11.73s, Calculate Covariance - 2.95s\n",
      "f0,f1,f2 = [2.2859454588179965e-09, 2.2859454588448195e-09, 2.2859454588359703e-09]\n",
      "d01,d02,d12 = [0.9766684852741659, 0.9766684852735966, 0.9766684852732256]\n"
     ]
    },
    {
     "name": "stderr",
     "output_type": "stream",
     "text": [
      "Progress:  60%|██████    | 302/500 [1:58:15<1:15:33, 22.90s/it]"
     ]
    },
    {
     "name": "stdout",
     "output_type": "stream",
     "text": [
      "Time to: Calculate Ground State - 1.61s, Get Pauli Ops - 5.93s, Calculate Pauli Expectation Values - 11.35s, Calculate Covariance - 2.75s\n",
      "f0,f1,f2 = [7.189591272373666e-10, 7.189591272432414e-10, 7.189591272472538e-10]\n",
      "d01,d02,d12 = [0.9780903653989974, 0.9780903653983455, 0.9780903653980892]\n"
     ]
    },
    {
     "name": "stderr",
     "output_type": "stream",
     "text": [
      "Progress:  61%|██████    | 303/500 [1:58:39<1:16:22, 23.26s/it]"
     ]
    },
    {
     "name": "stdout",
     "output_type": "stream",
     "text": [
      "Time to: Calculate Ground State - 1.73s, Get Pauli Ops - 9.31s, Calculate Pauli Expectation Values - 10.6s, Calculate Covariance - 2.47s\n",
      "f0,f1,f2 = [1.8670432189351442e-10, 1.8670432192960415e-10, 1.8670432194920957e-10]\n",
      "d01,d02,d12 = [0.9795695966741937, 0.9795695966734642, 0.9795695966733148]\n"
     ]
    },
    {
     "name": "stderr",
     "output_type": "stream",
     "text": [
      "Progress:  61%|██████    | 304/500 [1:59:00<1:13:43, 22.57s/it]"
     ]
    },
    {
     "name": "stdout",
     "output_type": "stream",
     "text": [
      "Time to: Calculate Ground State - 1.6s, Get Pauli Ops - 6.99s, Calculate Pauli Expectation Values - 10.23s, Calculate Covariance - 2.13s\n",
      "f0,f1,f2 = [3.584536586315481e-10, 3.5845365864159325e-10, 3.5845365868257943e-10]\n",
      "d01,d02,d12 = [0.9811766219070523, 0.9811766219062584, 0.9811766219062232]\n"
     ]
    },
    {
     "name": "stderr",
     "output_type": "stream",
     "text": [
      "/cluster/home/mskrabulis/miniconda3/envs/quantech/lib/python3.9/site-packages/pyscf/symm/Dmatrix.py:156: RuntimeWarning: invalid value encountered in arccos\n",
      "  gamma = numpy.arccos(yp.dot(c2[1]))\n",
      "Progress:  61%|██████    | 305/500 [1:59:21<1:11:15, 21.92s/it]"
     ]
    },
    {
     "name": "stdout",
     "output_type": "stream",
     "text": [
      "Time to: Calculate Ground State - 0.96s, Get Pauli Ops - 6.7s, Calculate Pauli Expectation Values - 10.12s, Calculate Covariance - 2.62s\n",
      "f0,f1,f2 = [9.017832471416003e-10, 9.017832471445403e-10, 9.017832471371661e-10]\n",
      "d01,d02,d12 = [0.9823868107505396, 0.9823868107496948, 0.9823868107497665]\n"
     ]
    },
    {
     "name": "stderr",
     "output_type": "stream",
     "text": [
      "/cluster/home/mskrabulis/miniconda3/envs/quantech/lib/python3.9/site-packages/pyscf/symm/Dmatrix.py:156: RuntimeWarning: invalid value encountered in arccos\n",
      "  gamma = numpy.arccos(yp.dot(c2[1]))\n",
      "/cluster/home/mskrabulis/miniconda3/envs/quantech/lib/python3.9/site-packages/pyscf/symm/Dmatrix.py:156: RuntimeWarning: invalid value encountered in arccos\n",
      "  gamma = numpy.arccos(yp.dot(c2[1]))\n",
      "Progress:  61%|██████    | 306/500 [1:59:46<1:14:30, 23.05s/it]"
     ]
    },
    {
     "name": "stdout",
     "output_type": "stream",
     "text": [
      "Time to: Calculate Ground State - 1.61s, Get Pauli Ops - 11.13s, Calculate Pauli Expectation Values - 10.46s, Calculate Covariance - 2.45s\n",
      "f0,f1,f2 = [6.362643008825951e-11, 6.362643001006272e-11, 6.362643004205044e-11]\n",
      "d01,d02,d12 = [0.9835534943308051, 0.9835534943299109, 0.9835534943301075]\n"
     ]
    },
    {
     "name": "stderr",
     "output_type": "stream",
     "text": [
      "Progress:  61%|██████▏   | 307/500 [2:00:09<1:13:23, 22.81s/it]"
     ]
    },
    {
     "name": "stdout",
     "output_type": "stream",
     "text": [
      "Time to: Calculate Ground State - 1.53s, Get Pauli Ops - 6.12s, Calculate Pauli Expectation Values - 11.55s, Calculate Covariance - 3.06s\n",
      "f0,f1,f2 = [1.8454878742647352e-10, 1.8454878747188982e-10, 1.8454878743916707e-10]\n",
      "d01,d02,d12 = [0.9847802469578132, 0.9847802469568585, 0.9847802469571842]\n"
     ]
    },
    {
     "name": "stderr",
     "output_type": "stream",
     "text": [
      "Progress:  62%|██████▏   | 308/500 [2:00:31<1:12:47, 22.75s/it]"
     ]
    },
    {
     "name": "stdout",
     "output_type": "stream",
     "text": [
      "Time to: Calculate Ground State - 1.5s, Get Pauli Ops - 6.95s, Calculate Pauli Expectation Values - 11.78s, Calculate Covariance - 2.34s\n",
      "f0,f1,f2 = [5.7385722047079295e-11, 5.7385722074951734e-11, 5.738572206736715e-11]\n",
      "d01,d02,d12 = [0.9859658505524433, 0.9859658505514294, 0.9859658505518787]\n"
     ]
    },
    {
     "name": "stderr",
     "output_type": "stream",
     "text": [
      "Progress:  62%|██████▏   | 309/500 [2:00:54<1:12:34, 22.80s/it]"
     ]
    },
    {
     "name": "stdout",
     "output_type": "stream",
     "text": [
      "Time to: Calculate Ground State - 1.02s, Get Pauli Ops - 6.5s, Calculate Pauli Expectation Values - 12.52s, Calculate Covariance - 2.87s\n",
      "f0,f1,f2 = [6.55271494620382e-11, 6.552714939814288e-11, 6.552714945852651e-11]\n",
      "d01,d02,d12 = [0.987161879315203, 0.9871618793141392, 0.9871618793146987]\n"
     ]
    },
    {
     "name": "stderr",
     "output_type": "stream",
     "text": [
      "Progress:  62%|██████▏   | 310/500 [2:01:17<1:12:02, 22.75s/it]"
     ]
    },
    {
     "name": "stdout",
     "output_type": "stream",
     "text": [
      "Time to: Calculate Ground State - 0.97s, Get Pauli Ops - 5.72s, Calculate Pauli Expectation Values - 12.79s, Calculate Covariance - 3.14s\n",
      "f0,f1,f2 = [1.8281697411940348e-09, 1.8281697412285853e-09, 1.828169741230804e-09]\n",
      "d01,d02,d12 = [0.9875825626637691, 0.9875825626626465, 0.9875825626633011]\n"
     ]
    },
    {
     "name": "stderr",
     "output_type": "stream",
     "text": [
      "Progress:  62%|██████▏   | 311/500 [2:01:42<1:13:34, 23.36s/it]"
     ]
    },
    {
     "name": "stdout",
     "output_type": "stream",
     "text": [
      "Time to: Calculate Ground State - 1.58s, Get Pauli Ops - 10.56s, Calculate Pauli Expectation Values - 10.03s, Calculate Covariance - 2.6s\n",
      "f0,f1,f2 = [4.157648850873827e-10, 4.1576488504903983e-10, 4.157648850483619e-10]\n",
      "d01,d02,d12 = [0.9881697847655002, 0.9881697847643158, 0.9881697847650537]\n"
     ]
    },
    {
     "name": "stderr",
     "output_type": "stream",
     "text": [
      "/cluster/home/mskrabulis/miniconda3/envs/quantech/lib/python3.9/site-packages/pyscf/symm/Dmatrix.py:156: RuntimeWarning: invalid value encountered in arccos\n",
      "  gamma = numpy.arccos(yp.dot(c2[1]))\n",
      "Progress:  62%|██████▏   | 312/500 [2:02:05<1:12:57, 23.28s/it]"
     ]
    },
    {
     "name": "stdout",
     "output_type": "stream",
     "text": [
      "Time to: Calculate Ground State - 1.63s, Get Pauli Ops - 8.33s, Calculate Pauli Expectation Values - 10.44s, Calculate Covariance - 2.69s\n",
      "f0,f1,f2 = [6.130357453749748e-10, 6.13035745400151e-10, 6.130357453356587e-10]\n",
      "d01,d02,d12 = [0.9884943808889664, 0.9884943808877419, 0.9884943808885556]\n"
     ]
    },
    {
     "name": "stderr",
     "output_type": "stream",
     "text": [
      "Progress:  63%|██████▎   | 313/500 [2:02:27<1:11:22, 22.90s/it]"
     ]
    },
    {
     "name": "stdout",
     "output_type": "stream",
     "text": [
      "Time to: Calculate Ground State - 1.48s, Get Pauli Ops - 5.95s, Calculate Pauli Expectation Values - 11.42s, Calculate Covariance - 3.15s\n",
      "f0,f1,f2 = [7.273482025346124e-10, 7.273482025262996e-10, 7.27348202502475e-10]\n",
      "d01,d02,d12 = [0.9885126393623287, 0.9885126393610707, 0.9885126393619598]\n"
     ]
    },
    {
     "name": "stderr",
     "output_type": "stream",
     "text": [
      "Progress:  63%|██████▎   | 314/500 [2:02:51<1:12:28, 23.38s/it]"
     ]
    },
    {
     "name": "stdout",
     "output_type": "stream",
     "text": [
      "Time to: Calculate Ground State - 1.65s, Get Pauli Ops - 9.3s, Calculate Pauli Expectation Values - 10.65s, Calculate Covariance - 2.87s\n",
      "f0,f1,f2 = [2.311518391568401e-10, 2.3115183916269082e-10, 2.3115183916976673e-10]\n",
      "d01,d02,d12 = [0.9886265359745141, 0.9886265359732271, 0.9886265359741878]\n"
     ]
    },
    {
     "name": "stderr",
     "output_type": "stream",
     "text": [
      "Progress:  63%|██████▎   | 315/500 [2:03:16<1:13:19, 23.78s/it]"
     ]
    },
    {
     "name": "stdout",
     "output_type": "stream",
     "text": [
      "Time to: Calculate Ground State - 1.68s, Get Pauli Ops - 9.36s, Calculate Pauli Expectation Values - 10.6s, Calculate Covariance - 3.07s\n",
      "f0,f1,f2 = [1.0282062894972102e-09, 1.028206289494441e-09, 1.0282062895345202e-09]\n",
      "d01,d02,d12 = [0.9891653868595989, 0.9891653868582955, 0.9891653868593266]\n"
     ]
    },
    {
     "name": "stderr",
     "output_type": "stream",
     "text": [
      "Progress:  63%|██████▎   | 316/500 [2:03:37<1:10:31, 23.00s/it]"
     ]
    },
    {
     "name": "stdout",
     "output_type": "stream",
     "text": [
      "Time to: Calculate Ground State - 0.94s, Get Pauli Ops - 5.49s, Calculate Pauli Expectation Values - 12.51s, Calculate Covariance - 2.21s\n",
      "f0,f1,f2 = [1.170364438271733e-09, 1.170364438271809e-09, 1.1703644382614692e-09]\n",
      "d01,d02,d12 = [0.9892110808981212, 0.9892110808968028, 0.9892110808978974]\n"
     ]
    },
    {
     "name": "stderr",
     "output_type": "stream",
     "text": [
      "Progress:  63%|██████▎   | 317/500 [2:04:00<1:09:54, 22.92s/it]"
     ]
    },
    {
     "name": "stdout",
     "output_type": "stream",
     "text": [
      "Time to: Calculate Ground State - 0.96s, Get Pauli Ops - 6.78s, Calculate Pauli Expectation Values - 12.92s, Calculate Covariance - 2.07s\n",
      "f0,f1,f2 = [4.5263621704455565e-10, 4.5263621707023113e-10, 4.526362170512599e-10]\n",
      "d01,d02,d12 = [0.9890683472810715, 0.989068347279729, 0.989068347280891]\n"
     ]
    },
    {
     "name": "stderr",
     "output_type": "stream",
     "text": [
      "Progress:  64%|██████▎   | 318/500 [2:04:25<1:11:51, 23.69s/it]"
     ]
    },
    {
     "name": "stdout",
     "output_type": "stream",
     "text": [
      "Time to: Calculate Ground State - 1.67s, Get Pauli Ops - 7.23s, Calculate Pauli Expectation Values - 13.96s, Calculate Covariance - 2.62s\n",
      "f0,f1,f2 = [4.281506348419607e-10, 4.2815063483150853e-10, 4.281506348641398e-10]\n",
      "d01,d02,d12 = [0.9887500075524341, 0.9887500075510647, 0.9887500075522945]\n"
     ]
    },
    {
     "name": "stderr",
     "output_type": "stream",
     "text": [
      "/cluster/home/mskrabulis/miniconda3/envs/quantech/lib/python3.9/site-packages/pyscf/symm/Dmatrix.py:156: RuntimeWarning: invalid value encountered in arccos\n",
      "  gamma = numpy.arccos(yp.dot(c2[1]))\n",
      "Progress:  64%|██████▍   | 319/500 [2:04:51<1:13:24, 24.33s/it]"
     ]
    },
    {
     "name": "stdout",
     "output_type": "stream",
     "text": [
      "Time to: Calculate Ground State - 1.55s, Get Pauli Ops - 7.05s, Calculate Pauli Expectation Values - 14.21s, Calculate Covariance - 3.02s\n",
      "f0,f1,f2 = [1.1944533808019757e-09, 1.194453380801461e-09, 1.194453380816529e-09]\n",
      "d01,d02,d12 = [0.9879406336574397, 0.987940633656046, 0.9879406336573332]\n"
     ]
    },
    {
     "name": "stderr",
     "output_type": "stream",
     "text": [
      "Progress:  64%|██████▍   | 320/500 [2:05:16<1:13:37, 24.54s/it]"
     ]
    },
    {
     "name": "stdout",
     "output_type": "stream",
     "text": [
      "Time to: Calculate Ground State - 1.63s, Get Pauli Ops - 10.61s, Calculate Pauli Expectation Values - 10.23s, Calculate Covariance - 2.54s\n",
      "f0,f1,f2 = [7.040219744226572e-11, 7.040219741202769e-11, 7.04021974438565e-11]\n",
      "d01,d02,d12 = [0.987171907653808, 0.9871719076524003, 0.9871719076537361]\n"
     ]
    },
    {
     "name": "stderr",
     "output_type": "stream",
     "text": [
      "/cluster/home/mskrabulis/miniconda3/envs/quantech/lib/python3.9/site-packages/pyscf/symm/Dmatrix.py:156: RuntimeWarning: invalid value encountered in arccos\n",
      "  gamma = numpy.arccos(yp.dot(c2[1]))\n",
      "Progress:  64%|██████▍   | 321/500 [2:05:38<1:10:53, 23.76s/it]"
     ]
    },
    {
     "name": "stdout",
     "output_type": "stream",
     "text": [
      "Time to: Calculate Ground State - 1.59s, Get Pauli Ops - 6.12s, Calculate Pauli Expectation Values - 11.08s, Calculate Covariance - 3.14s\n",
      "f0,f1,f2 = [8.105915765534442e-10, 8.105915765118229e-10, 8.105915765188405e-10]\n",
      "d01,d02,d12 = [0.9860777638997014, 0.986077763898284, 0.9860777638996584]\n"
     ]
    },
    {
     "name": "stderr",
     "output_type": "stream",
     "text": [
      "Progress:  64%|██████▍   | 322/500 [2:06:02<1:10:53, 23.90s/it]"
     ]
    },
    {
     "name": "stdout",
     "output_type": "stream",
     "text": [
      "Time to: Calculate Ground State - 1.55s, Get Pauli Ops - 9.38s, Calculate Pauli Expectation Values - 10.45s, Calculate Covariance - 2.82s\n",
      "f0,f1,f2 = [4.4040464610441605e-10, 4.404046461621822e-10, 4.404046461345017e-10]\n",
      "d01,d02,d12 = [0.9848163794403926, 0.9848163794389752, 0.9848163794403691]\n"
     ]
    },
    {
     "name": "stderr",
     "output_type": "stream",
     "text": [
      "Progress:  65%|██████▍   | 323/500 [2:06:25<1:09:16, 23.49s/it]"
     ]
    },
    {
     "name": "stdout",
     "output_type": "stream",
     "text": [
      "Time to: Calculate Ground State - 1.65s, Get Pauli Ops - 7.22s, Calculate Pauli Expectation Values - 10.56s, Calculate Covariance - 3.08s\n",
      "f0,f1,f2 = [1.1661919643554282e-09, 1.1661919644023008e-09, 1.16619196436888e-09]\n",
      "d01,d02,d12 = [0.983089017101739, 0.9830890171003291, 0.9830890171017327]\n"
     ]
    },
    {
     "name": "stderr",
     "output_type": "stream",
     "text": [
      "Progress:  65%|██████▍   | 324/500 [2:06:46<1:07:06, 22.88s/it]"
     ]
    },
    {
     "name": "stdout",
     "output_type": "stream",
     "text": [
      "Time to: Calculate Ground State - 1.61s, Get Pauli Ops - 6.79s, Calculate Pauli Expectation Values - 10.0s, Calculate Covariance - 3.05s\n",
      "f0,f1,f2 = [2.833835242169626e-10, 2.8338352426513527e-10, 2.8338352421698995e-10]\n",
      "d01,d02,d12 = [0.9812685095724669, 0.9812685095710848, 0.9812685095724801]\n"
     ]
    },
    {
     "name": "stderr",
     "output_type": "stream",
     "text": [
      "/cluster/home/mskrabulis/miniconda3/envs/quantech/lib/python3.9/site-packages/pyscf/symm/Dmatrix.py:156: RuntimeWarning: invalid value encountered in arccos\n",
      "  gamma = numpy.arccos(yp.dot(c2[1]))\n",
      "Progress:  65%|██████▌   | 325/500 [2:07:06<1:03:50, 21.89s/it]"
     ]
    },
    {
     "name": "stdout",
     "output_type": "stream",
     "text": [
      "Time to: Calculate Ground State - 1.55s, Get Pauli Ops - 5.56s, Calculate Pauli Expectation Values - 10.04s, Calculate Covariance - 2.41s\n",
      "f0,f1,f2 = [7.676925083294714e-11, 7.676925087073956e-11, 7.67692508363262e-11]\n",
      "d01,d02,d12 = [0.9794418919022777, 0.9794418919009452, 0.9794418919023098]\n"
     ]
    },
    {
     "name": "stderr",
     "output_type": "stream",
     "text": [
      "/cluster/home/mskrabulis/miniconda3/envs/quantech/lib/python3.9/site-packages/pyscf/symm/Dmatrix.py:156: RuntimeWarning: invalid value encountered in arccos\n",
      "  gamma = numpy.arccos(yp.dot(c2[1]))\n",
      "Progress:  65%|██████▌   | 326/500 [2:07:26<1:01:56, 21.36s/it]"
     ]
    },
    {
     "name": "stdout",
     "output_type": "stream",
     "text": [
      "Time to: Calculate Ground State - 1.51s, Get Pauli Ops - 6.05s, Calculate Pauli Expectation Values - 9.78s, Calculate Covariance - 2.78s\n",
      "f0,f1,f2 = [3.1183467673793753e-10, 3.118346767922149e-10, 3.1183467672161353e-10]\n",
      "d01,d02,d12 = [0.9775117326040018, 0.9775117326027494, 0.9775117326040504]\n"
     ]
    },
    {
     "name": "stderr",
     "output_type": "stream",
     "text": [
      "Progress:  65%|██████▌   | 327/500 [2:07:52<1:05:12, 22.62s/it]"
     ]
    },
    {
     "name": "stdout",
     "output_type": "stream",
     "text": [
      "Time to: Calculate Ground State - 1.55s, Get Pauli Ops - 10.34s, Calculate Pauli Expectation Values - 10.73s, Calculate Covariance - 2.92s\n",
      "f0,f1,f2 = [1.4726772004736247e-09, 1.4726772005029815e-09, 1.472677200465585e-09]\n",
      "d01,d02,d12 = [0.97499790811025, 0.9749979081090863, 0.9749979081103148]\n"
     ]
    },
    {
     "name": "stderr",
     "output_type": "stream",
     "text": [
      "/cluster/home/mskrabulis/miniconda3/envs/quantech/lib/python3.9/site-packages/pyscf/symm/Dmatrix.py:156: RuntimeWarning: invalid value encountered in arccos\n",
      "  gamma = numpy.arccos(yp.dot(c2[1]))\n",
      "Progress:  66%|██████▌   | 328/500 [2:08:16<1:05:55, 23.00s/it]"
     ]
    },
    {
     "name": "stdout",
     "output_type": "stream",
     "text": [
      "Time to: Calculate Ground State - 1.54s, Get Pauli Ops - 7.06s, Calculate Pauli Expectation Values - 12.27s, Calculate Covariance - 2.99s\n",
      "f0,f1,f2 = [2.0881434577849368e-09, 2.0881434577612744e-09, 2.088143457792422e-09]\n",
      "d01,d02,d12 = [0.9733859272696725, 0.9733859272686102, 0.9733859272697434]\n"
     ]
    },
    {
     "name": "stderr",
     "output_type": "stream",
     "text": [
      "Progress:  66%|██████▌   | 329/500 [2:08:38<1:05:15, 22.90s/it]"
     ]
    },
    {
     "name": "stdout",
     "output_type": "stream",
     "text": [
      "Time to: Calculate Ground State - 1.57s, Get Pauli Ops - 6.4s, Calculate Pauli Expectation Values - 11.6s, Calculate Covariance - 3.1s\n",
      "f0,f1,f2 = [1.68496970041527e-10, 1.6849697013223646e-10, 1.6849697014489943e-10]\n",
      "d01,d02,d12 = [0.9717268426173422, 0.9717268426163808, 0.9717268426173986]\n"
     ]
    },
    {
     "name": "stderr",
     "output_type": "stream",
     "text": [
      "Progress:  66%|██████▌   | 330/500 [2:09:00<1:04:15, 22.68s/it]"
     ]
    },
    {
     "name": "stdout",
     "output_type": "stream",
     "text": [
      "Time to: Calculate Ground State - 1.48s, Get Pauli Ops - 6.28s, Calculate Pauli Expectation Values - 12.05s, Calculate Covariance - 2.36s\n",
      "f0,f1,f2 = [9.166281493068567e-10, 9.166281493062326e-10, 9.166281493229129e-10]\n",
      "d01,d02,d12 = [0.9697109512562134, 0.9697109512553448, 0.9697109512562486]\n"
     ]
    },
    {
     "name": "stderr",
     "output_type": "stream",
     "text": [
      "Progress:  66%|██████▌   | 331/500 [2:09:24<1:04:57, 23.06s/it]"
     ]
    },
    {
     "name": "stdout",
     "output_type": "stream",
     "text": [
      "Time to: Calculate Ground State - 1.52s, Get Pauli Ops - 6.55s, Calculate Pauli Expectation Values - 12.69s, Calculate Covariance - 3.19s\n",
      "f0,f1,f2 = [1.5080260202095132e-10, 1.5080260199944165e-10, 1.508026019982772e-10]\n",
      "d01,d02,d12 = [0.9677861410605239, 0.96778614105976, 0.9677861410605364]\n"
     ]
    },
    {
     "name": "stderr",
     "output_type": "stream",
     "text": [
      "Progress:  66%|██████▋   | 332/500 [2:09:49<1:06:01, 23.58s/it]"
     ]
    },
    {
     "name": "stdout",
     "output_type": "stream",
     "text": [
      "Time to: Calculate Ground State - 1.65s, Get Pauli Ops - 7.04s, Calculate Pauli Expectation Values - 12.88s, Calculate Covariance - 3.21s\n",
      "f0,f1,f2 = [1.43238470044662e-09, 1.432384700442763e-09, 1.4323847004249605e-09]\n",
      "d01,d02,d12 = [0.9664828075409261, 0.9664828075402653, 0.9664828075409146]\n"
     ]
    },
    {
     "name": "stderr",
     "output_type": "stream",
     "text": [
      "Progress:  67%|██████▋   | 333/500 [2:10:12<1:05:09, 23.41s/it]"
     ]
    },
    {
     "name": "stdout",
     "output_type": "stream",
     "text": [
      "Time to: Calculate Ground State - 1.61s, Get Pauli Ops - 7.21s, Calculate Pauli Expectation Values - 11.56s, Calculate Covariance - 2.61s\n",
      "f0,f1,f2 = [9.968540655854765e-10, 9.968540655894255e-10, 9.968540656165578e-10]\n",
      "d01,d02,d12 = [0.9656114740325674, 0.9656114740320134, 0.9656114740325374]\n"
     ]
    },
    {
     "name": "stderr",
     "output_type": "stream",
     "text": [
      "Progress:  67%|██████▋   | 334/500 [2:10:35<1:04:40, 23.38s/it]"
     ]
    },
    {
     "name": "stdout",
     "output_type": "stream",
     "text": [
      "Time to: Calculate Ground State - 1.6s, Get Pauli Ops - 8.42s, Calculate Pauli Expectation Values - 10.45s, Calculate Covariance - 2.82s\n",
      "f0,f1,f2 = [1.3504836331212692e-09, 1.3504836330936145e-09, 1.350483633166686e-09]\n",
      "d01,d02,d12 = [0.9653127360373552, 0.9653127360369238, 0.9653127360373159]\n"
     ]
    },
    {
     "name": "stderr",
     "output_type": "stream",
     "text": [
      "Progress:  67%|██████▋   | 335/500 [2:11:00<1:05:38, 23.87s/it]"
     ]
    },
    {
     "name": "stdout",
     "output_type": "stream",
     "text": [
      "Time to: Calculate Ground State - 1.64s, Get Pauli Ops - 9.71s, Calculate Pauli Expectation Values - 10.87s, Calculate Covariance - 2.8s\n",
      "f0,f1,f2 = [8.56884045562452e-10, 8.568840455849032e-10, 8.568840455497229e-10]\n",
      "d01,d02,d12 = [0.9653737147203645, 0.9653737147200513, 0.9653737147203214]\n"
     ]
    },
    {
     "name": "stderr",
     "output_type": "stream",
     "text": [
      "/cluster/home/mskrabulis/miniconda3/envs/quantech/lib/python3.9/site-packages/pyscf/symm/Dmatrix.py:156: RuntimeWarning: invalid value encountered in arccos\n",
      "  gamma = numpy.arccos(yp.dot(c2[1]))\n",
      "/cluster/home/mskrabulis/miniconda3/envs/quantech/lib/python3.9/site-packages/pyscf/symm/Dmatrix.py:156: RuntimeWarning: invalid value encountered in arccos\n",
      "  gamma = numpy.arccos(yp.dot(c2[1]))\n",
      "Progress:  67%|██████▋   | 336/500 [2:11:22<1:03:11, 23.12s/it]"
     ]
    },
    {
     "name": "stdout",
     "output_type": "stream",
     "text": [
      "Time to: Calculate Ground State - 1.58s, Get Pauli Ops - 6.16s, Calculate Pauli Expectation Values - 11.04s, Calculate Covariance - 2.58s\n",
      "f0,f1,f2 = [1.0767606205046161e-09, 1.0767606204581476e-09, 1.076760620458929e-09]\n",
      "d01,d02,d12 = [0.9658805380251978, 0.9658805380249981, 0.9658805380251403]\n"
     ]
    },
    {
     "name": "stderr",
     "output_type": "stream",
     "text": [
      "/cluster/home/mskrabulis/miniconda3/envs/quantech/lib/python3.9/site-packages/pyscf/symm/Dmatrix.py:156: RuntimeWarning: invalid value encountered in arccos\n",
      "  gamma = numpy.arccos(yp.dot(c2[1]))\n",
      "Progress:  67%|██████▋   | 337/500 [2:11:42<1:00:34, 22.30s/it]"
     ]
    },
    {
     "name": "stdout",
     "output_type": "stream",
     "text": [
      "Time to: Calculate Ground State - 1.59s, Get Pauli Ops - 5.79s, Calculate Pauli Expectation Values - 10.68s, Calculate Covariance - 2.32s\n",
      "f0,f1,f2 = [9.046002660128999e-10, 9.046002660118845e-10, 9.046002660685456e-10]\n",
      "d01,d02,d12 = [0.9667554739496673, 0.9667554739495988, 0.966755473949598]\n"
     ]
    },
    {
     "name": "stderr",
     "output_type": "stream",
     "text": [
      "/cluster/home/mskrabulis/miniconda3/envs/quantech/lib/python3.9/site-packages/pyscf/symm/Dmatrix.py:156: RuntimeWarning: invalid value encountered in arccos\n",
      "  gamma = numpy.arccos(yp.dot(c2[1]))\n",
      "Progress:  68%|██████▊   | 338/500 [2:12:03<59:19, 21.97s/it]  "
     ]
    },
    {
     "name": "stdout",
     "output_type": "stream",
     "text": [
      "Time to: Calculate Ground State - 0.85s, Get Pauli Ops - 6.88s, Calculate Pauli Expectation Values - 11.28s, Calculate Covariance - 2.17s\n",
      "f0,f1,f2 = [2.0941457220809025e-09, 2.094145722078481e-09, 2.094145722054943e-09]\n",
      "d01,d02,d12 = [0.9684868119338836, 0.9684868119339313, 0.9684868119337857]\n"
     ]
    },
    {
     "name": "stderr",
     "output_type": "stream",
     "text": [
      "Progress:  68%|██████▊   | 339/500 [2:12:26<59:21, 22.12s/it]"
     ]
    },
    {
     "name": "stdout",
     "output_type": "stream",
     "text": [
      "Time to: Calculate Ground State - 0.99s, Get Pauli Ops - 6.37s, Calculate Pauli Expectation Values - 12.82s, Calculate Covariance - 2.29s\n",
      "f0,f1,f2 = [1.5496374717939973e-09, 1.5496374717902159e-09, 1.5496374718090154e-09]\n",
      "d01,d02,d12 = [0.9708365409900577, 0.970836540990217, 0.9708365409899268]\n"
     ]
    },
    {
     "name": "stderr",
     "output_type": "stream",
     "text": [
      "Progress:  68%|██████▊   | 340/500 [2:12:47<58:00, 21.75s/it]"
     ]
    },
    {
     "name": "stdout",
     "output_type": "stream",
     "text": [
      "Time to: Calculate Ground State - 1.61s, Get Pauli Ops - 6.42s, Calculate Pauli Expectation Values - 10.35s, Calculate Covariance - 2.51s\n",
      "f0,f1,f2 = [1.4005195897860417e-09, 1.4005195898309818e-09, 1.4005195897883976e-09]\n",
      "d01,d02,d12 = [0.973734054009699, 0.9737340540099525, 0.9737340540095333]\n"
     ]
    },
    {
     "name": "stderr",
     "output_type": "stream",
     "text": [
      "/cluster/home/mskrabulis/miniconda3/envs/quantech/lib/python3.9/site-packages/pyscf/symm/Dmatrix.py:156: RuntimeWarning: invalid value encountered in arccos\n",
      "  gamma = numpy.arccos(yp.dot(c2[1]))\n",
      "/cluster/home/mskrabulis/miniconda3/envs/quantech/lib/python3.9/site-packages/pyscf/symm/Dmatrix.py:156: RuntimeWarning: invalid value encountered in arccos\n",
      "  gamma = numpy.arccos(yp.dot(c2[1]))\n",
      "Progress:  68%|██████▊   | 341/500 [2:13:08<56:57, 21.49s/it]"
     ]
    },
    {
     "name": "stdout",
     "output_type": "stream",
     "text": [
      "Time to: Calculate Ground State - 1.56s, Get Pauli Ops - 6.03s, Calculate Pauli Expectation Values - 10.3s, Calculate Covariance - 2.98s\n",
      "f0,f1,f2 = [3.529359109850732e-10, 3.5293591103120244e-10, 3.52935910991896e-10]\n",
      "d01,d02,d12 = [0.9767370064391261, 0.9767370064394671, 0.976737006438929]\n"
     ]
    },
    {
     "name": "stderr",
     "output_type": "stream",
     "text": [
      "/cluster/home/mskrabulis/miniconda3/envs/quantech/lib/python3.9/site-packages/pyscf/symm/Dmatrix.py:156: RuntimeWarning: invalid value encountered in arccos\n",
      "  gamma = numpy.arccos(yp.dot(c2[1]))\n",
      "Progress:  68%|██████▊   | 342/500 [2:13:30<57:04, 21.67s/it]"
     ]
    },
    {
     "name": "stdout",
     "output_type": "stream",
     "text": [
      "Time to: Calculate Ground State - 1.62s, Get Pauli Ops - 6.87s, Calculate Pauli Expectation Values - 10.75s, Calculate Covariance - 2.85s\n",
      "f0,f1,f2 = [5.91601225278802e-10, 5.916012253040176e-10, 5.916012253092069e-10]\n",
      "d01,d02,d12 = [0.979942927215684, 0.9799429272161064, 0.9799429272154637]\n"
     ]
    },
    {
     "name": "stderr",
     "output_type": "stream",
     "text": [
      "Progress:  69%|██████▊   | 343/500 [2:13:54<58:21, 22.30s/it]"
     ]
    },
    {
     "name": "stdout",
     "output_type": "stream",
     "text": [
      "Time to: Calculate Ground State - 1.64s, Get Pauli Ops - 9.47s, Calculate Pauli Expectation Values - 10.51s, Calculate Covariance - 2.14s\n",
      "f0,f1,f2 = [8.980043227982228e-10, 8.9800432282597e-10, 8.980043227818941e-10]\n",
      "d01,d02,d12 = [0.9834760681598813, 0.983476068160373, 0.9834760681596386]\n"
     ]
    },
    {
     "name": "stderr",
     "output_type": "stream",
     "text": [
      "Progress:  69%|██████▉   | 344/500 [2:14:19<1:00:29, 23.26s/it]"
     ]
    },
    {
     "name": "stdout",
     "output_type": "stream",
     "text": [
      "Time to: Calculate Ground State - 1.56s, Get Pauli Ops - 10.36s, Calculate Pauli Expectation Values - 10.45s, Calculate Covariance - 3.12s\n",
      "f0,f1,f2 = [8.229400464245607e-10, 8.229400464016314e-10, 8.22940046416716e-10]\n",
      "d01,d02,d12 = [0.9866178543043609, 0.9866178543049073, 0.9866178543040955]\n"
     ]
    },
    {
     "name": "stderr",
     "output_type": "stream",
     "text": [
      "/cluster/home/mskrabulis/miniconda3/envs/quantech/lib/python3.9/site-packages/pyscf/symm/Dmatrix.py:156: RuntimeWarning: invalid value encountered in arccos\n",
      "  gamma = numpy.arccos(yp.dot(c2[1]))\n",
      "Progress:  69%|██████▉   | 345/500 [2:14:39<57:34, 22.29s/it]  "
     ]
    },
    {
     "name": "stdout",
     "output_type": "stream",
     "text": [
      "Time to: Calculate Ground State - 1.09s, Get Pauli Ops - 6.91s, Calculate Pauli Expectation Values - 10.16s, Calculate Covariance - 1.85s\n",
      "f0,f1,f2 = [7.656734762292418e-10, 7.656734761859683e-10, 7.656734762432869e-10]\n",
      "d01,d02,d12 = [0.9900328785090154, 0.9900328785096092, 0.9900328785087124]\n"
     ]
    },
    {
     "name": "stderr",
     "output_type": "stream",
     "text": [
      "Progress:  69%|██████▉   | 346/500 [2:15:01<56:58, 22.20s/it]"
     ]
    },
    {
     "name": "stdout",
     "output_type": "stream",
     "text": [
      "Time to: Calculate Ground State - 1.55s, Get Pauli Ops - 7.41s, Calculate Pauli Expectation Values - 10.18s, Calculate Covariance - 2.84s\n",
      "f0,f1,f2 = [3.5960058245807987e-10, 3.596005824439385e-10, 3.5960058246434556e-10]\n",
      "d01,d02,d12 = [0.9932504480116326, 0.9932504480122575, 0.9932504480112818]\n"
     ]
    },
    {
     "name": "stderr",
     "output_type": "stream",
     "text": [
      "Progress:  69%|██████▉   | 347/500 [2:15:28<1:00:27, 23.71s/it]"
     ]
    },
    {
     "name": "stdout",
     "output_type": "stream",
     "text": [
      "Time to: Calculate Ground State - 1.51s, Get Pauli Ops - 6.47s, Calculate Pauli Expectation Values - 16.21s, Calculate Covariance - 3.02s\n",
      "f0,f1,f2 = [1.3607773675638627e-09, 1.3607773675261276e-09, 1.360777367566805e-09]\n",
      "d01,d02,d12 = [0.9958580049289882, 0.9958580049296273, 0.9958580049285863]\n"
     ]
    },
    {
     "name": "stderr",
     "output_type": "stream",
     "text": [
      "Progress:  70%|██████▉   | 348/500 [2:15:52<59:48, 23.61s/it]  "
     ]
    },
    {
     "name": "stdout",
     "output_type": "stream",
     "text": [
      "Time to: Calculate Ground State - 1.6s, Get Pauli Ops - 6.89s, Calculate Pauli Expectation Values - 11.9s, Calculate Covariance - 2.97s\n",
      "f0,f1,f2 = [1.517944412217853e-09, 1.5179444122593066e-09, 1.517944412278621e-09]\n",
      "d01,d02,d12 = [0.9977989691025638, 0.9977989691032124, 0.9977989691020956]\n"
     ]
    },
    {
     "name": "stderr",
     "output_type": "stream",
     "text": [
      "Progress:  70%|██████▉   | 349/500 [2:16:12<56:43, 22.54s/it]"
     ]
    },
    {
     "name": "stdout",
     "output_type": "stream",
     "text": [
      "Time to: Calculate Ground State - 1.55s, Get Pauli Ops - 5.94s, Calculate Pauli Expectation Values - 10.09s, Calculate Covariance - 2.45s\n",
      "f0,f1,f2 = [2.12407785089022e-09, 2.124077850877488e-09, 2.1240778509090104e-09]\n",
      "d01,d02,d12 = [0.9988313000645233, 0.9988313000651757, 0.998831300063993]\n"
     ]
    },
    {
     "name": "stderr",
     "output_type": "stream",
     "text": [
      "/cluster/home/mskrabulis/miniconda3/envs/quantech/lib/python3.9/site-packages/pyscf/symm/Dmatrix.py:156: RuntimeWarning: invalid value encountered in arccos\n",
      "  gamma = numpy.arccos(yp.dot(c2[1]))\n",
      "Progress:  70%|███████   | 350/500 [2:16:33<55:10, 22.07s/it]"
     ]
    },
    {
     "name": "stdout",
     "output_type": "stream",
     "text": [
      "Time to: Calculate Ground State - 1.18s, Get Pauli Ops - 6.63s, Calculate Pauli Expectation Values - 10.8s, Calculate Covariance - 2.34s\n",
      "f0,f1,f2 = [5.33149512631396e-10, 5.331495126021911e-10, 5.33149512649382e-10]\n",
      "d01,d02,d12 = [0.9996278565973353, 0.9996278565979778, 0.9996278565967384]\n"
     ]
    },
    {
     "name": "stderr",
     "output_type": "stream",
     "text": [
      "Progress:  70%|███████   | 351/500 [2:16:55<54:57, 22.13s/it]"
     ]
    },
    {
     "name": "stdout",
     "output_type": "stream",
     "text": [
      "Time to: Calculate Ground State - 1.56s, Get Pauli Ops - 6.85s, Calculate Pauli Expectation Values - 11.5s, Calculate Covariance - 2.36s\n",
      "f0,f1,f2 = [1.6824888977470246e-09, 1.6824888976996675e-09, 1.682488897708645e-09]\n",
      "d01,d02,d12 = [0.9997151532539753, 0.9997151532545973, 0.9997151532533225]\n"
     ]
    },
    {
     "name": "stderr",
     "output_type": "stream",
     "text": [
      "/cluster/home/mskrabulis/miniconda3/envs/quantech/lib/python3.9/site-packages/pyscf/symm/Dmatrix.py:156: RuntimeWarning: invalid value encountered in arccos\n",
      "  gamma = numpy.arccos(yp.dot(c2[1]))\n",
      "/cluster/home/mskrabulis/miniconda3/envs/quantech/lib/python3.9/site-packages/pyscf/symm/Dmatrix.py:156: RuntimeWarning: invalid value encountered in arccos\n",
      "  gamma = numpy.arccos(yp.dot(c2[1]))\n",
      "Progress:  70%|███████   | 352/500 [2:17:17<54:43, 22.18s/it]"
     ]
    },
    {
     "name": "stdout",
     "output_type": "stream",
     "text": [
      "Time to: Calculate Ground State - 1.41s, Get Pauli Ops - 6.8s, Calculate Pauli Expectation Values - 11.65s, Calculate Covariance - 2.44s\n",
      "f0,f1,f2 = [9.124154732273205e-10, 9.124154731083034e-10, 9.124154731692214e-10]\n",
      "d01,d02,d12 = [0.9994226891389213, 0.999422689139503, 0.9994226891382271]\n"
     ]
    },
    {
     "name": "stderr",
     "output_type": "stream",
     "text": [
      "/cluster/home/mskrabulis/miniconda3/envs/quantech/lib/python3.9/site-packages/pyscf/symm/Dmatrix.py:156: RuntimeWarning: invalid value encountered in arccos\n",
      "  gamma = numpy.arccos(yp.dot(c2[1]))\n",
      "Progress:  71%|███████   | 353/500 [2:17:42<56:24, 23.02s/it]"
     ]
    },
    {
     "name": "stdout",
     "output_type": "stream",
     "text": [
      "Time to: Calculate Ground State - 1.58s, Get Pauli Ops - 6.51s, Calculate Pauli Expectation Values - 13.72s, Calculate Covariance - 3.17s\n",
      "f0,f1,f2 = [1.8893957437715963e-09, 1.88939574378149e-09, 1.8893957437757608e-09]\n",
      "d01,d02,d12 = [0.9983505192632901, 0.9983505192638246, 0.9983505192625509]\n"
     ]
    },
    {
     "name": "stderr",
     "output_type": "stream",
     "text": [
      "Progress:  71%|███████   | 354/500 [2:18:05<55:51, 22.96s/it]"
     ]
    },
    {
     "name": "stdout",
     "output_type": "stream",
     "text": [
      "Time to: Calculate Ground State - 1.76s, Get Pauli Ops - 7.31s, Calculate Pauli Expectation Values - 10.55s, Calculate Covariance - 3.17s\n",
      "f0,f1,f2 = [4.247843696024371e-10, 4.247843696067684e-10, 4.247843695555765e-10]\n",
      "d01,d02,d12 = [0.9971172760483846, 0.9971172760488821, 0.9971172760476148]\n"
     ]
    },
    {
     "name": "stderr",
     "output_type": "stream",
     "text": [
      "Progress:  71%|███████   | 355/500 [2:18:28<55:35, 23.00s/it]"
     ]
    },
    {
     "name": "stdout",
     "output_type": "stream",
     "text": [
      "Time to: Calculate Ground State - 1.64s, Get Pauli Ops - 7.67s, Calculate Pauli Expectation Values - 10.58s, Calculate Covariance - 3.2s\n",
      "f0,f1,f2 = [1.917341818215863e-09, 1.917341818208889e-09, 1.91734181821225e-09]\n",
      "d01,d02,d12 = [0.995106029994292, 0.9951060299947508, 0.9951060299935017]\n"
     ]
    },
    {
     "name": "stderr",
     "output_type": "stream",
     "text": [
      "Progress:  71%|███████   | 356/500 [2:18:51<55:03, 22.94s/it]"
     ]
    },
    {
     "name": "stdout",
     "output_type": "stream",
     "text": [
      "Time to: Calculate Ground State - 1.58s, Get Pauli Ops - 7.74s, Calculate Pauli Expectation Values - 10.28s, Calculate Covariance - 3.17s\n",
      "f0,f1,f2 = [3.8267672100475435e-10, 3.826767210041012e-10, 3.82676720994006e-10]\n",
      "d01,d02,d12 = [0.9932819686803867, 0.9932819686808075, 0.9932819686795769]\n"
     ]
    },
    {
     "name": "stderr",
     "output_type": "stream",
     "text": [
      "Progress:  71%|███████▏  | 357/500 [2:19:17<57:04, 23.95s/it]"
     ]
    },
    {
     "name": "stdout",
     "output_type": "stream",
     "text": [
      "Time to: Calculate Ground State - 1.67s, Get Pauli Ops - 10.54s, Calculate Pauli Expectation Values - 10.87s, Calculate Covariance - 3.22s\n",
      "f0,f1,f2 = [6.189194104732118e-10, 6.189194104062016e-10, 6.189194103853345e-10]\n",
      "d01,d02,d12 = [0.9912269221888197, 0.9912269221892067, 0.9912269221880035]\n"
     ]
    },
    {
     "name": "stderr",
     "output_type": "stream",
     "text": [
      "/cluster/home/mskrabulis/miniconda3/envs/quantech/lib/python3.9/site-packages/pyscf/symm/Dmatrix.py:156: RuntimeWarning: invalid value encountered in arccos\n",
      "  gamma = numpy.arccos(yp.dot(c2[1]))\n",
      "Progress:  72%|███████▏  | 358/500 [2:19:43<57:53, 24.46s/it]"
     ]
    },
    {
     "name": "stdout",
     "output_type": "stream",
     "text": [
      "Time to: Calculate Ground State - 1.7s, Get Pauli Ops - 9.75s, Calculate Pauli Expectation Values - 11.01s, Calculate Covariance - 3.19s\n",
      "f0,f1,f2 = [2.7045299341754056e-10, 2.7045299343318947e-10, 2.704529934389063e-10]\n",
      "d01,d02,d12 = [0.9890887216308372, 0.9890887216311929, 0.9890887216300118]\n"
     ]
    },
    {
     "name": "stderr",
     "output_type": "stream",
     "text": [
      "Progress:  72%|███████▏  | 359/500 [2:20:08<58:18, 24.81s/it]"
     ]
    },
    {
     "name": "stdout",
     "output_type": "stream",
     "text": [
      "Time to: Calculate Ground State - 1.73s, Get Pauli Ops - 9.53s, Calculate Pauli Expectation Values - 11.12s, Calculate Covariance - 3.22s\n",
      "f0,f1,f2 = [2.2344466024377187e-10, 2.2344466024421829e-10, 2.2344466025879414e-10]\n",
      "d01,d02,d12 = [0.9868880453896461, 0.9868880453899713, 0.9868880453888067]\n"
     ]
    },
    {
     "name": "stderr",
     "output_type": "stream",
     "text": [
      "Progress:  72%|███████▏  | 360/500 [2:20:32<57:16, 24.54s/it]"
     ]
    },
    {
     "name": "stdout",
     "output_type": "stream",
     "text": [
      "Time to: Calculate Ground State - 1.65s, Get Pauli Ops - 7.39s, Calculate Pauli Expectation Values - 11.63s, Calculate Covariance - 3.23s\n",
      "f0,f1,f2 = [5.749632644763073e-10, 5.749632644931021e-10, 5.749632644847735e-10]\n",
      "d01,d02,d12 = [0.9844799462077819, 0.9844799462080782, 0.984479946206927]\n"
     ]
    },
    {
     "name": "stderr",
     "output_type": "stream",
     "text": [
      "/cluster/home/mskrabulis/miniconda3/envs/quantech/lib/python3.9/site-packages/pyscf/symm/Dmatrix.py:156: RuntimeWarning: invalid value encountered in arccos\n",
      "  gamma = numpy.arccos(yp.dot(c2[1]))\n",
      "Progress:  72%|███████▏  | 361/500 [2:20:57<57:06, 24.65s/it]"
     ]
    },
    {
     "name": "stdout",
     "output_type": "stream",
     "text": [
      "Time to: Calculate Ground State - 1.72s, Get Pauli Ops - 9.67s, Calculate Pauli Expectation Values - 10.34s, Calculate Covariance - 3.17s\n",
      "f0,f1,f2 = [6.379621750405871e-10, 6.379621750104316e-10, 6.379621750053177e-10]\n",
      "d01,d02,d12 = [0.9823705557174911, 0.9823705557177624, 0.9823705557166164]\n"
     ]
    },
    {
     "name": "stderr",
     "output_type": "stream",
     "text": [
      "Progress:  72%|███████▏  | 362/500 [2:21:21<56:15, 24.46s/it]"
     ]
    },
    {
     "name": "stdout",
     "output_type": "stream",
     "text": [
      "Time to: Calculate Ground State - 1.61s, Get Pauli Ops - 7.46s, Calculate Pauli Expectation Values - 11.76s, Calculate Covariance - 3.18s\n",
      "f0,f1,f2 = [3.429404503911941e-11, 3.429404499799305e-11, 3.4294045010018696e-11]\n",
      "d01,d02,d12 = [0.9802767595060528, 0.9802767595062917, 0.9802767595051636]\n"
     ]
    },
    {
     "name": "stderr",
     "output_type": "stream",
     "text": [
      "Progress:  73%|███████▎  | 363/500 [2:21:48<57:35, 25.23s/it]"
     ]
    },
    {
     "name": "stdout",
     "output_type": "stream",
     "text": [
      "Time to: Calculate Ground State - 1.67s, Get Pauli Ops - 7.32s, Calculate Pauli Expectation Values - 14.85s, Calculate Covariance - 3.16s\n",
      "f0,f1,f2 = [3.358059731297128e-10, 3.3580597314898047e-10, 3.358059731309665e-10]\n",
      "d01,d02,d12 = [0.9783518801097982, 0.9783518801100142, 0.9783518801089044]\n"
     ]
    },
    {
     "name": "stderr",
     "output_type": "stream",
     "text": [
      "/cluster/home/mskrabulis/miniconda3/envs/quantech/lib/python3.9/site-packages/pyscf/symm/Dmatrix.py:156: RuntimeWarning: invalid value encountered in arccos\n",
      "  gamma = numpy.arccos(yp.dot(c2[1]))\n",
      "Progress:  73%|███████▎  | 364/500 [2:22:14<57:07, 25.20s/it]"
     ]
    },
    {
     "name": "stdout",
     "output_type": "stream",
     "text": [
      "Time to: Calculate Ground State - 1.65s, Get Pauli Ops - 7.37s, Calculate Pauli Expectation Values - 13.05s, Calculate Covariance - 3.06s\n",
      "f0,f1,f2 = [3.0015237135305895e-12, 3.0015237128224813e-12, 3.0015237434349507e-12]\n",
      "d01,d02,d12 = [0.9764554635003091, 0.9764554635005019, 0.9764554634994184]\n"
     ]
    },
    {
     "name": "stderr",
     "output_type": "stream",
     "text": [
      "Progress:  73%|███████▎  | 365/500 [2:22:41<58:19, 25.92s/it]"
     ]
    },
    {
     "name": "stdout",
     "output_type": "stream",
     "text": [
      "Time to: Calculate Ground State - 1.69s, Get Pauli Ops - 11.65s, Calculate Pauli Expectation Values - 11.03s, Calculate Covariance - 3.22s\n",
      "f0,f1,f2 = [1.1812882785602162e-09, 1.181288278627967e-09, 1.1812882785610889e-09]\n",
      "d01,d02,d12 = [0.9750759366927433, 0.9750759366929018, 0.9750759366918612]\n"
     ]
    },
    {
     "name": "stderr",
     "output_type": "stream",
     "text": [
      "Progress:  73%|███████▎  | 366/500 [2:23:07<58:04, 26.01s/it]"
     ]
    },
    {
     "name": "stdout",
     "output_type": "stream",
     "text": [
      "Time to: Calculate Ground State - 1.66s, Get Pauli Ops - 10.24s, Calculate Pauli Expectation Values - 11.09s, Calculate Covariance - 3.19s\n",
      "f0,f1,f2 = [5.122709000321683e-10, 5.122708999900902e-10, 5.122709000266085e-10]\n",
      "d01,d02,d12 = [0.9735033975279619, 0.9735033975280825, 0.9735033975270876]\n"
     ]
    },
    {
     "name": "stderr",
     "output_type": "stream",
     "text": [
      "/cluster/home/mskrabulis/miniconda3/envs/quantech/lib/python3.9/site-packages/pyscf/symm/Dmatrix.py:156: RuntimeWarning: invalid value encountered in arccos\n",
      "  gamma = numpy.arccos(yp.dot(c2[1]))\n",
      "Progress:  73%|███████▎  | 367/500 [2:23:33<57:19, 25.86s/it]"
     ]
    },
    {
     "name": "stdout",
     "output_type": "stream",
     "text": [
      "Time to: Calculate Ground State - 1.7s, Get Pauli Ops - 10.1s, Calculate Pauli Expectation Values - 10.52s, Calculate Covariance - 3.19s\n",
      "f0,f1,f2 = [8.64135766442976e-10, 8.641357664644362e-10, 8.641357664586062e-10]\n",
      "d01,d02,d12 = [0.9723115971016965, 0.9723115971017867, 0.9723115971008406]\n"
     ]
    },
    {
     "name": "stderr",
     "output_type": "stream",
     "text": [
      "Progress:  74%|███████▎  | 368/500 [2:23:59<56:48, 25.83s/it]"
     ]
    },
    {
     "name": "stdout",
     "output_type": "stream",
     "text": [
      "Time to: Calculate Ground State - 1.64s, Get Pauli Ops - 10.33s, Calculate Pauli Expectation Values - 10.58s, Calculate Covariance - 3.17s\n",
      "f0,f1,f2 = [1.6317327140853173e-10, 1.631732714339567e-10, 1.6317327139227564e-10]\n",
      "d01,d02,d12 = [0.9710689597057527, 0.971068959705823, 0.9710689597049276]\n"
     ]
    },
    {
     "name": "stderr",
     "output_type": "stream",
     "text": [
      "/cluster/home/mskrabulis/miniconda3/envs/quantech/lib/python3.9/site-packages/pyscf/symm/Dmatrix.py:156: RuntimeWarning: invalid value encountered in arccos\n",
      "  gamma = numpy.arccos(yp.dot(c2[1]))\n",
      "/cluster/home/mskrabulis/miniconda3/envs/quantech/lib/python3.9/site-packages/pyscf/symm/Dmatrix.py:156: RuntimeWarning: invalid value encountered in arccos\n",
      "  gamma = numpy.arccos(yp.dot(c2[1]))\n",
      "Progress:  74%|███████▍  | 369/500 [2:24:25<56:42, 25.98s/it]"
     ]
    },
    {
     "name": "stdout",
     "output_type": "stream",
     "text": [
      "Time to: Calculate Ground State - 1.72s, Get Pauli Ops - 10.6s, Calculate Pauli Expectation Values - 10.85s, Calculate Covariance - 3.14s\n",
      "f0,f1,f2 = [1.6221766973956283e-09, 1.6221766973832374e-09, 1.6221766973736452e-09]\n",
      "d01,d02,d12 = [0.9705168804921149, 0.9705168804921687, 0.9705168804913243]\n"
     ]
    },
    {
     "name": "stderr",
     "output_type": "stream",
     "text": [
      "Progress:  74%|███████▍  | 370/500 [2:24:48<54:30, 25.16s/it]"
     ]
    },
    {
     "name": "stdout",
     "output_type": "stream",
     "text": [
      "Time to: Calculate Ground State - 1.72s, Get Pauli Ops - 7.58s, Calculate Pauli Expectation Values - 10.72s, Calculate Covariance - 3.22s\n",
      "f0,f1,f2 = [1.226968595530034e-09, 1.2269685956197452e-09, 1.2269685955910838e-09]\n",
      "d01,d02,d12 = [0.9704816343299194, 0.9704816343299626, 0.9704816343291874]\n"
     ]
    },
    {
     "name": "stderr",
     "output_type": "stream",
     "text": [
      "/cluster/home/mskrabulis/miniconda3/envs/quantech/lib/python3.9/site-packages/pyscf/symm/Dmatrix.py:156: RuntimeWarning: invalid value encountered in arccos\n",
      "  gamma = numpy.arccos(yp.dot(c2[1]))\n",
      "Progress:  74%|███████▍  | 371/500 [2:25:14<54:36, 25.40s/it]"
     ]
    },
    {
     "name": "stdout",
     "output_type": "stream",
     "text": [
      "Time to: Calculate Ground State - 1.62s, Get Pauli Ops - 10.18s, Calculate Pauli Expectation Values - 11.7s, Calculate Covariance - 2.44s\n",
      "f0,f1,f2 = [4.744042562999875e-10, 4.744042562542522e-10, 4.744042562933563e-10]\n",
      "d01,d02,d12 = [0.9702500742473414, 0.9702500742473703, 0.9702500742466765]\n"
     ]
    },
    {
     "name": "stderr",
     "output_type": "stream",
     "text": [
      "/cluster/home/mskrabulis/miniconda3/envs/quantech/lib/python3.9/site-packages/pyscf/symm/Dmatrix.py:156: RuntimeWarning: invalid value encountered in arccos\n",
      "  gamma = numpy.arccos(yp.dot(c2[1]))\n",
      "Progress:  74%|███████▍  | 372/500 [2:25:38<53:24, 25.03s/it]"
     ]
    },
    {
     "name": "stdout",
     "output_type": "stream",
     "text": [
      "Time to: Calculate Ground State - 1.61s, Get Pauli Ops - 9.76s, Calculate Pauli Expectation Values - 10.22s, Calculate Covariance - 2.58s\n",
      "f0,f1,f2 = [1.3139629974175982e-09, 1.3139629973943939e-09, 1.3139629974743188e-09]\n",
      "d01,d02,d12 = [0.970566903853378, 0.9705669038534155, 0.9705669038527942]\n"
     ]
    },
    {
     "name": "stderr",
     "output_type": "stream",
     "text": [
      "Progress:  75%|███████▍  | 373/500 [2:26:00<50:48, 24.01s/it]"
     ]
    },
    {
     "name": "stdout",
     "output_type": "stream",
     "text": [
      "Time to: Calculate Ground State - 1.55s, Get Pauli Ops - 6.84s, Calculate Pauli Expectation Values - 10.33s, Calculate Covariance - 2.87s\n",
      "f0,f1,f2 = [6.870900862623564e-10, 6.870900862465489e-10, 6.870900863003676e-10]\n",
      "d01,d02,d12 = [0.9711642994273557, 0.9711642994274148, 0.9711642994268727]\n"
     ]
    },
    {
     "name": "stderr",
     "output_type": "stream",
     "text": [
      "/cluster/home/mskrabulis/miniconda3/envs/quantech/lib/python3.9/site-packages/pyscf/symm/Dmatrix.py:156: RuntimeWarning: invalid value encountered in arccos\n",
      "  gamma = numpy.arccos(yp.dot(c2[1]))\n",
      "Progress:  75%|███████▍  | 374/500 [2:26:21<48:32, 23.12s/it]"
     ]
    },
    {
     "name": "stdout",
     "output_type": "stream",
     "text": [
      "Time to: Calculate Ground State - 1.54s, Get Pauli Ops - 6.9s, Calculate Pauli Expectation Values - 10.66s, Calculate Covariance - 1.93s\n",
      "f0,f1,f2 = [2.1479556000129458e-10, 2.1479556001251407e-10, 2.1479555999952987e-10]\n",
      "d01,d02,d12 = [0.9718423550938692, 0.9718423550939488, 0.9718423550934824]\n"
     ]
    },
    {
     "name": "stderr",
     "output_type": "stream",
     "text": [
      "Progress:  75%|███████▌  | 375/500 [2:26:45<49:02, 23.54s/it]"
     ]
    },
    {
     "name": "stdout",
     "output_type": "stream",
     "text": [
      "Time to: Calculate Ground State - 1.67s, Get Pauli Ops - 8.84s, Calculate Pauli Expectation Values - 10.95s, Calculate Covariance - 3.05s\n",
      "f0,f1,f2 = [1.8708665739596255e-09, 1.8708665740153274e-09, 1.870866573985181e-09]\n",
      "d01,d02,d12 = [0.9732869719979229, 0.9732869719980255, 0.9732869719976417]\n"
     ]
    },
    {
     "name": "stderr",
     "output_type": "stream",
     "text": [
      "/cluster/home/mskrabulis/miniconda3/envs/quantech/lib/python3.9/site-packages/pyscf/symm/Dmatrix.py:156: RuntimeWarning: invalid value encountered in arccos\n",
      "  gamma = numpy.arccos(yp.dot(c2[1]))\n",
      "Progress:  75%|███████▌  | 376/500 [2:27:10<49:07, 23.77s/it]"
     ]
    },
    {
     "name": "stdout",
     "output_type": "stream",
     "text": [
      "Time to: Calculate Ground State - 1.7s, Get Pauli Ops - 8.55s, Calculate Pauli Expectation Values - 11.57s, Calculate Covariance - 2.48s\n",
      "f0,f1,f2 = [1.5754166839176343e-09, 1.5754166839235923e-09, 1.5754166839148513e-09]\n",
      "d01,d02,d12 = [0.9753647378940917, 0.9753647378942111, 0.9753647378939196]\n"
     ]
    },
    {
     "name": "stderr",
     "output_type": "stream",
     "text": [
      "Progress:  75%|███████▌  | 377/500 [2:27:34<49:16, 24.04s/it]"
     ]
    },
    {
     "name": "stdout",
     "output_type": "stream",
     "text": [
      "Time to: Calculate Ground State - 1.57s, Get Pauli Ops - 8.97s, Calculate Pauli Expectation Values - 11.61s, Calculate Covariance - 2.5s\n",
      "f0,f1,f2 = [1.0180455456801144e-09, 1.0180455456983105e-09, 1.0180455456790389e-09]\n",
      "d01,d02,d12 = [0.9769907710873178, 0.976990771087459, 0.9769907710872553]\n"
     ]
    },
    {
     "name": "stderr",
     "output_type": "stream",
     "text": [
      "Progress:  76%|███████▌  | 378/500 [2:27:57<47:55, 23.57s/it]"
     ]
    },
    {
     "name": "stdout",
     "output_type": "stream",
     "text": [
      "Time to: Calculate Ground State - 1.66s, Get Pauli Ops - 7.86s, Calculate Pauli Expectation Values - 11.03s, Calculate Covariance - 1.92s\n",
      "f0,f1,f2 = [1.9884985054468406e-10, 1.988498505245314e-10, 1.9884985051167826e-10]\n",
      "d01,d02,d12 = [0.9785113155072325, 0.9785113155074018, 0.9785113155072834]\n"
     ]
    },
    {
     "name": "stderr",
     "output_type": "stream",
     "text": [
      "/cluster/home/mskrabulis/miniconda3/envs/quantech/lib/python3.9/site-packages/pyscf/symm/Dmatrix.py:156: RuntimeWarning: invalid value encountered in arccos\n",
      "  gamma = numpy.arccos(yp.dot(c2[1]))\n",
      "/cluster/home/mskrabulis/miniconda3/envs/quantech/lib/python3.9/site-packages/pyscf/symm/Dmatrix.py:156: RuntimeWarning: invalid value encountered in arccos\n",
      "  gamma = numpy.arccos(yp.dot(c2[1]))\n",
      "Progress:  76%|███████▌  | 379/500 [2:28:19<46:26, 23.02s/it]"
     ]
    },
    {
     "name": "stdout",
     "output_type": "stream",
     "text": [
      "Time to: Calculate Ground State - 1.53s, Get Pauli Ops - 6.85s, Calculate Pauli Expectation Values - 10.48s, Calculate Covariance - 2.88s\n",
      "f0,f1,f2 = [6.938651419829881e-10, 6.938651419986076e-10, 6.938651420282201e-10]\n",
      "d01,d02,d12 = [0.9802982183890487, 0.9802982183892571, 0.9802982183892113]\n"
     ]
    },
    {
     "name": "stderr",
     "output_type": "stream",
     "text": [
      "Progress:  76%|███████▌  | 380/500 [2:28:41<45:31, 22.77s/it]"
     ]
    },
    {
     "name": "stdout",
     "output_type": "stream",
     "text": [
      "Time to: Calculate Ground State - 1.55s, Get Pauli Ops - 7.31s, Calculate Pauli Expectation Values - 10.76s, Calculate Covariance - 2.53s\n",
      "f0,f1,f2 = [1.8213437273540003e-09, 1.8213437273042967e-09, 1.8213437273618033e-09]\n",
      "d01,d02,d12 = [0.9828154640085953, 0.9828154640088571, 0.9828154640088759]\n"
     ]
    },
    {
     "name": "stderr",
     "output_type": "stream",
     "text": [
      "/cluster/home/mskrabulis/miniconda3/envs/quantech/lib/python3.9/site-packages/pyscf/symm/Dmatrix.py:156: RuntimeWarning: invalid value encountered in arccos\n",
      "  gamma = numpy.arccos(yp.dot(c2[1]))\n",
      "Progress:  76%|███████▌  | 381/500 [2:29:09<48:05, 24.25s/it]"
     ]
    },
    {
     "name": "stdout",
     "output_type": "stream",
     "text": [
      "Time to: Calculate Ground State - 1.6s, Get Pauli Ops - 11.0s, Calculate Pauli Expectation Values - 11.88s, Calculate Covariance - 3.21s\n",
      "f0,f1,f2 = [3.628287357840812e-10, 3.6282873579514993e-10, 3.6282873575766097e-10]\n",
      "d01,d02,d12 = [0.9851465985461285, 0.9851465985464509, 0.9851465985465413]\n"
     ]
    },
    {
     "name": "stderr",
     "output_type": "stream",
     "text": [
      "Progress:  76%|███████▋  | 382/500 [2:29:36<49:40, 25.26s/it]"
     ]
    },
    {
     "name": "stdout",
     "output_type": "stream",
     "text": [
      "Time to: Calculate Ground State - 1.6s, Get Pauli Ops - 12.04s, Calculate Pauli Expectation Values - 10.87s, Calculate Covariance - 3.09s\n",
      "f0,f1,f2 = [7.344920691392429e-10, 7.34492069097651e-10, 7.344920691237691e-10]\n",
      "d01,d02,d12 = [0.9877494928466053, 0.9877494928469958, 0.9877494928471501]\n"
     ]
    },
    {
     "name": "stderr",
     "output_type": "stream",
     "text": [
      "Progress:  77%|███████▋  | 383/500 [2:30:02<49:36, 25.44s/it]"
     ]
    },
    {
     "name": "stdout",
     "output_type": "stream",
     "text": [
      "Time to: Calculate Ground State - 1.6s, Get Pauli Ops - 10.31s, Calculate Pauli Expectation Values - 10.89s, Calculate Covariance - 3.05s\n",
      "f0,f1,f2 = [4.2586818727771526e-10, 4.2586818724935956e-10, 4.2586818728722044e-10]\n",
      "d01,d02,d12 = [0.9901389178583994, 0.9901389178588448, 0.9901389178590625]\n"
     ]
    },
    {
     "name": "stderr",
     "output_type": "stream",
     "text": [
      "/cluster/home/mskrabulis/miniconda3/envs/quantech/lib/python3.9/site-packages/pyscf/symm/Dmatrix.py:156: RuntimeWarning: invalid value encountered in arccos\n",
      "  gamma = numpy.arccos(yp.dot(c2[1]))\n",
      "Progress:  77%|███████▋  | 384/500 [2:30:25<47:38, 24.64s/it]"
     ]
    },
    {
     "name": "stdout",
     "output_type": "stream",
     "text": [
      "Time to: Calculate Ground State - 1.52s, Get Pauli Ops - 6.89s, Calculate Pauli Expectation Values - 11.29s, Calculate Covariance - 3.06s\n",
      "f0,f1,f2 = [1.4681629735506885e-09, 1.4681629735148757e-09, 1.468162973506632e-09]\n",
      "d01,d02,d12 = [0.9918854836354556, 0.9918854836359572, 0.9918854836362481]\n"
     ]
    },
    {
     "name": "stderr",
     "output_type": "stream",
     "text": [
      "/cluster/home/mskrabulis/miniconda3/envs/quantech/lib/python3.9/site-packages/pyscf/symm/Dmatrix.py:156: RuntimeWarning: invalid value encountered in arccos\n",
      "  gamma = numpy.arccos(yp.dot(c2[1]))\n",
      "Progress:  77%|███████▋  | 385/500 [2:30:47<45:54, 23.95s/it]"
     ]
    },
    {
     "name": "stdout",
     "output_type": "stream",
     "text": [
      "Time to: Calculate Ground State - 0.97s, Get Pauli Ops - 6.91s, Calculate Pauli Expectation Values - 11.45s, Calculate Covariance - 3.0s\n",
      "f0,f1,f2 = [1.478907776266191e-09, 1.4789077762850236e-09, 1.478907776291765e-09]\n",
      "d01,d02,d12 = [0.9929938197518778, 0.9929938197524308, 0.9929938197527873]\n"
     ]
    },
    {
     "name": "stderr",
     "output_type": "stream",
     "text": [
      "/cluster/home/mskrabulis/miniconda3/envs/quantech/lib/python3.9/site-packages/pyscf/symm/Dmatrix.py:156: RuntimeWarning: invalid value encountered in arccos\n",
      "  gamma = numpy.arccos(yp.dot(c2[1]))\n",
      "Progress:  77%|███████▋  | 386/500 [2:31:14<47:15, 24.87s/it]"
     ]
    },
    {
     "name": "stdout",
     "output_type": "stream",
     "text": [
      "Time to: Calculate Ground State - 1.54s, Get Pauli Ops - 10.61s, Calculate Pauli Expectation Values - 12.05s, Calculate Covariance - 2.81s\n",
      "f0,f1,f2 = [8.568773408613012e-10, 8.568773409007457e-10, 8.568773408497787e-10]\n",
      "d01,d02,d12 = [0.994441976856262, 0.9944419768568594, 0.9944419768572758]\n"
     ]
    },
    {
     "name": "stderr",
     "output_type": "stream",
     "text": [
      "Progress:  77%|███████▋  | 387/500 [2:31:40<47:09, 25.04s/it]"
     ]
    },
    {
     "name": "stdout",
     "output_type": "stream",
     "text": [
      "Time to: Calculate Ground State - 1.59s, Get Pauli Ops - 9.45s, Calculate Pauli Expectation Values - 11.24s, Calculate Covariance - 3.14s\n",
      "f0,f1,f2 = [6.454651234359164e-10, 6.454651234176493e-10, 6.454651234515941e-10]\n",
      "d01,d02,d12 = [0.9956018866567187, 0.9956018866573542, 0.9956018866578344]\n"
     ]
    },
    {
     "name": "stderr",
     "output_type": "stream",
     "text": [
      "/cluster/home/mskrabulis/miniconda3/envs/quantech/lib/python3.9/site-packages/pyscf/symm/Dmatrix.py:156: RuntimeWarning: invalid value encountered in arccos\n",
      "  gamma = numpy.arccos(yp.dot(c2[1]))\n",
      "Progress:  78%|███████▊  | 388/500 [2:32:06<47:29, 25.45s/it]"
     ]
    },
    {
     "name": "stdout",
     "output_type": "stream",
     "text": [
      "Time to: Calculate Ground State - 1.52s, Get Pauli Ops - 11.02s, Calculate Pauli Expectation Values - 10.67s, Calculate Covariance - 3.18s\n",
      "f0,f1,f2 = [1.4262178914670596e-09, 1.4262178914843005e-09, 1.4262178914813467e-09]\n",
      "d01,d02,d12 = [0.9961537182886413, 0.9961537182893176, 0.9961537182898701]\n"
     ]
    },
    {
     "name": "stderr",
     "output_type": "stream",
     "text": [
      "/cluster/home/mskrabulis/miniconda3/envs/quantech/lib/python3.9/site-packages/pyscf/symm/Dmatrix.py:156: RuntimeWarning: invalid value encountered in arccos\n",
      "  gamma = numpy.arccos(yp.dot(c2[1]))\n",
      "Progress:  78%|███████▊  | 389/500 [2:32:31<46:37, 25.20s/it]"
     ]
    },
    {
     "name": "stdout",
     "output_type": "stream",
     "text": [
      "Time to: Calculate Ground State - 1.47s, Get Pauli Ops - 7.02s, Calculate Pauli Expectation Values - 14.14s, Calculate Covariance - 2.01s\n",
      "f0,f1,f2 = [6.757498567142218e-10, 6.757498566539109e-10, 6.757498566369711e-10]\n",
      "d01,d02,d12 = [0.9969780937326985, 0.9969780937334056, 0.9969780937340189]\n"
     ]
    },
    {
     "name": "stderr",
     "output_type": "stream",
     "text": [
      "Progress:  78%|███████▊  | 390/500 [2:32:56<46:28, 25.35s/it]"
     ]
    },
    {
     "name": "stdout",
     "output_type": "stream",
     "text": [
      "Time to: Calculate Ground State - 1.56s, Get Pauli Ops - 9.98s, Calculate Pauli Expectation Values - 11.01s, Calculate Covariance - 3.14s\n",
      "f0,f1,f2 = [1.2445342512200655e-09, 1.2445342512152689e-09, 1.2445342512029735e-09]\n",
      "d01,d02,d12 = [0.9972745071224653, 0.9972745071232042, 0.9972745071238825]\n"
     ]
    },
    {
     "name": "stderr",
     "output_type": "stream",
     "text": [
      "/cluster/home/mskrabulis/miniconda3/envs/quantech/lib/python3.9/site-packages/pyscf/symm/Dmatrix.py:156: RuntimeWarning: invalid value encountered in arccos\n",
      "  gamma = numpy.arccos(yp.dot(c2[1]))\n",
      "Progress:  78%|███████▊  | 391/500 [2:33:19<44:46, 24.64s/it]"
     ]
    },
    {
     "name": "stdout",
     "output_type": "stream",
     "text": [
      "Time to: Calculate Ground State - 1.55s, Get Pauli Ops - 7.07s, Calculate Pauli Expectation Values - 11.54s, Calculate Covariance - 2.82s\n",
      "f0,f1,f2 = [1.8584489409237107e-10, 1.8584489406020636e-10, 1.8584489407515326e-10]\n",
      "d01,d02,d12 = [0.9974896310203152, 0.9974896310210849, 0.9974896310218407]\n"
     ]
    },
    {
     "name": "stderr",
     "output_type": "stream",
     "text": [
      "Progress:  78%|███████▊  | 392/500 [2:33:46<45:19, 25.18s/it]"
     ]
    },
    {
     "name": "stdout",
     "output_type": "stream",
     "text": [
      "Time to: Calculate Ground State - 1.49s, Get Pauli Ops - 6.95s, Calculate Pauli Expectation Values - 16.07s, Calculate Covariance - 1.91s\n",
      "f0,f1,f2 = [6.757209218668894e-10, 6.757209218551774e-10, 6.757209218813977e-10]\n",
      "d01,d02,d12 = [0.997421383169077, 0.9974213831698603, 0.9974213831707022]\n"
     ]
    },
    {
     "name": "stderr",
     "output_type": "stream",
     "text": [
      "Progress:  79%|███████▊  | 393/500 [2:34:12<45:22, 25.45s/it]"
     ]
    },
    {
     "name": "stdout",
     "output_type": "stream",
     "text": [
      "Time to: Calculate Ground State - 1.65s, Get Pauli Ops - 7.06s, Calculate Pauli Expectation Values - 15.14s, Calculate Covariance - 2.2s\n",
      "f0,f1,f2 = [5.816412190946065e-10, 5.81641219136163e-10, 5.81641219116302e-10]\n",
      "d01,d02,d12 = [0.9971127988023727, 0.9971127988031643, 0.9971127988040746]\n"
     ]
    },
    {
     "name": "stderr",
     "output_type": "stream",
     "text": [
      "/cluster/home/mskrabulis/miniconda3/envs/quantech/lib/python3.9/site-packages/pyscf/symm/Dmatrix.py:156: RuntimeWarning: invalid value encountered in arccos\n",
      "  gamma = numpy.arccos(yp.dot(c2[1]))\n",
      "Progress:  79%|███████▉  | 394/500 [2:34:40<46:39, 26.41s/it]"
     ]
    },
    {
     "name": "stdout",
     "output_type": "stream",
     "text": [
      "Time to: Calculate Ground State - 1.63s, Get Pauli Ops - 11.08s, Calculate Pauli Expectation Values - 13.34s, Calculate Covariance - 2.59s\n",
      "f0,f1,f2 = [3.5087662582532074e-10, 3.508766258853593e-10, 3.508766258374823e-10]\n",
      "d01,d02,d12 = [0.9966630103333549, 0.9966630103341648, 0.9966630103351289]\n"
     ]
    },
    {
     "name": "stderr",
     "output_type": "stream",
     "text": [
      "Progress:  79%|███████▉  | 395/500 [2:35:05<45:10, 25.82s/it]"
     ]
    },
    {
     "name": "stdout",
     "output_type": "stream",
     "text": [
      "Time to: Calculate Ground State - 1.52s, Get Pauli Ops - 6.16s, Calculate Pauli Expectation Values - 13.94s, Calculate Covariance - 2.8s\n",
      "f0,f1,f2 = [6.859374474848884e-10, 6.859374475062957e-10, 6.85937447483176e-10]\n",
      "d01,d02,d12 = [0.9959350093505783, 0.9959350093514105, 0.9959350093524171]\n"
     ]
    },
    {
     "name": "stderr",
     "output_type": "stream",
     "text": [
      "/cluster/home/mskrabulis/miniconda3/envs/quantech/lib/python3.9/site-packages/pyscf/symm/Dmatrix.py:156: RuntimeWarning: invalid value encountered in arccos\n",
      "  gamma = numpy.arccos(yp.dot(c2[1]))\n",
      "Progress:  79%|███████▉  | 396/500 [2:35:27<42:50, 24.72s/it]"
     ]
    },
    {
     "name": "stdout",
     "output_type": "stream",
     "text": [
      "Time to: Calculate Ground State - 1.54s, Get Pauli Ops - 6.45s, Calculate Pauli Expectation Values - 11.16s, Calculate Covariance - 3.01s\n",
      "f0,f1,f2 = [7.951680463563055e-10, 7.951680463222765e-10, 7.951680463034041e-10]\n",
      "d01,d02,d12 = [0.9955471831311689, 0.9955471831320198, 0.9955471831330597]\n"
     ]
    },
    {
     "name": "stderr",
     "output_type": "stream",
     "text": [
      "/cluster/home/mskrabulis/miniconda3/envs/quantech/lib/python3.9/site-packages/pyscf/symm/Dmatrix.py:156: RuntimeWarning: invalid value encountered in arccos\n",
      "  gamma = numpy.arccos(yp.dot(c2[1]))\n",
      "Progress:  79%|███████▉  | 397/500 [2:35:51<41:59, 24.46s/it]"
     ]
    },
    {
     "name": "stdout",
     "output_type": "stream",
     "text": [
      "Time to: Calculate Ground State - 1.61s, Get Pauli Ops - 6.88s, Calculate Pauli Expectation Values - 12.87s, Calculate Covariance - 2.49s\n",
      "f0,f1,f2 = [1.6143094294368597e-09, 1.6143094294931272e-09, 1.6143094295264688e-09]\n",
      "d01,d02,d12 = [0.9944951219568219, 0.9944951219576817, 0.9944951219587287]\n"
     ]
    },
    {
     "name": "stderr",
     "output_type": "stream",
     "text": [
      "Progress:  80%|███████▉  | 398/500 [2:36:16<41:40, 24.51s/it]"
     ]
    },
    {
     "name": "stdout",
     "output_type": "stream",
     "text": [
      "Time to: Calculate Ground State - 1.5s, Get Pauli Ops - 9.57s, Calculate Pauli Expectation Values - 10.48s, Calculate Covariance - 3.06s\n",
      "f0,f1,f2 = [1.1544150054656152e-09, 1.1544150054656024e-09, 1.154415005485096e-09]\n",
      "d01,d02,d12 = [0.9929790069999561, 0.9929790070008145, 0.9929790070018755]\n"
     ]
    },
    {
     "name": "stderr",
     "output_type": "stream",
     "text": [
      "Progress:  80%|███████▉  | 399/500 [2:36:40<41:22, 24.58s/it]"
     ]
    },
    {
     "name": "stdout",
     "output_type": "stream",
     "text": [
      "Time to: Calculate Ground State - 1.43s, Get Pauli Ops - 9.0s, Calculate Pauli Expectation Values - 11.21s, Calculate Covariance - 3.08s\n",
      "f0,f1,f2 = [3.126631885919696e-10, 3.1266318861529637e-10, 3.126631886198114e-10]\n",
      "d01,d02,d12 = [0.9913546086378318, 0.9913546086386872, 0.9913546086397432]\n"
     ]
    },
    {
     "name": "stderr",
     "output_type": "stream",
     "text": [
      "Progress:  80%|████████  | 400/500 [2:37:06<41:42, 25.02s/it]"
     ]
    },
    {
     "name": "stdout",
     "output_type": "stream",
     "text": [
      "Time to: Calculate Ground State - 1.49s, Get Pauli Ops - 10.51s, Calculate Pauli Expectation Values - 11.63s, Calculate Covariance - 2.42s\n",
      "f0,f1,f2 = [5.875749352375881e-10, 5.875749352506809e-10, 5.875749352675766e-10]\n",
      "d01,d02,d12 = [0.9895094072293414, 0.989509407230174, 0.9895094072312254]\n"
     ]
    },
    {
     "name": "stderr",
     "output_type": "stream",
     "text": [
      "Progress:  80%|████████  | 401/500 [2:37:29<40:08, 24.33s/it]"
     ]
    },
    {
     "name": "stdout",
     "output_type": "stream",
     "text": [
      "Time to: Calculate Ground State - 1.56s, Get Pauli Ops - 6.72s, Calculate Pauli Expectation Values - 11.3s, Calculate Covariance - 3.1s\n",
      "f0,f1,f2 = [3.664370982822567e-11, 3.664370983047484e-11, 3.6643709867396665e-11]\n",
      "d01,d02,d12 = [0.9876750851733843, 0.9876750851741849, 0.987675085175232]\n"
     ]
    },
    {
     "name": "stderr",
     "output_type": "stream",
     "text": [
      "Progress:  80%|████████  | 402/500 [2:37:52<38:49, 23.77s/it]"
     ]
    },
    {
     "name": "stdout",
     "output_type": "stream",
     "text": [
      "Time to: Calculate Ground State - 1.46s, Get Pauli Ops - 6.77s, Calculate Pauli Expectation Values - 11.18s, Calculate Covariance - 3.05s\n",
      "f0,f1,f2 = [3.691804652861445e-10, 3.6918046527840797e-10, 3.691804652909176e-10]\n",
      "d01,d02,d12 = [0.9860198508846143, 0.986019850885396, 0.9860198508864192]\n"
     ]
    },
    {
     "name": "stderr",
     "output_type": "stream",
     "text": [
      "Progress:  81%|████████  | 403/500 [2:38:18<39:38, 24.52s/it]"
     ]
    },
    {
     "name": "stdout",
     "output_type": "stream",
     "text": [
      "Time to: Calculate Ground State - 1.63s, Get Pauli Ops - 11.23s, Calculate Pauli Expectation Values - 10.71s, Calculate Covariance - 2.68s\n",
      "f0,f1,f2 = [1.4035025103574727e-09, 1.4035025103651216e-09, 1.4035025103500051e-09]\n",
      "d01,d02,d12 = [0.9838057542648284, 0.9838057542655865, 0.9838057542665886]\n"
     ]
    },
    {
     "name": "stderr",
     "output_type": "stream",
     "text": [
      "Progress:  81%|████████  | 404/500 [2:38:43<39:27, 24.66s/it]"
     ]
    },
    {
     "name": "stdout",
     "output_type": "stream",
     "text": [
      "Time to: Calculate Ground State - 1.49s, Get Pauli Ops - 6.21s, Calculate Pauli Expectation Values - 14.76s, Calculate Covariance - 2.51s\n",
      "f0,f1,f2 = [6.572926064830277e-10, 6.572926065172093e-10, 6.572926064985923e-10]\n",
      "d01,d02,d12 = [0.981350271892574, 0.981350271893315, 0.9813502718942728]\n"
     ]
    },
    {
     "name": "stderr",
     "output_type": "stream",
     "text": [
      "Progress:  81%|████████  | 405/500 [2:39:08<39:11, 24.75s/it]"
     ]
    },
    {
     "name": "stdout",
     "output_type": "stream",
     "text": [
      "Time to: Calculate Ground State - 1.62s, Get Pauli Ops - 9.97s, Calculate Pauli Expectation Values - 10.98s, Calculate Covariance - 2.36s\n",
      "f0,f1,f2 = [1.0934585747638811e-09, 1.0934585747618975e-09, 1.0934585747677186e-09]\n",
      "d01,d02,d12 = [0.9793831402153589, 0.9793831402160805, 0.9793831402169937]\n"
     ]
    },
    {
     "name": "stderr",
     "output_type": "stream",
     "text": [
      "Progress:  81%|████████  | 406/500 [2:39:31<37:50, 24.16s/it]"
     ]
    },
    {
     "name": "stdout",
     "output_type": "stream",
     "text": [
      "Time to: Calculate Ground State - 1.64s, Get Pauli Ops - 9.2s, Calculate Pauli Expectation Values - 10.17s, Calculate Covariance - 1.75s\n",
      "f0,f1,f2 = [1.1767047899633566e-10, 1.1767047896750697e-10, 1.1767047892130296e-10]\n",
      "d01,d02,d12 = [0.9774926393047134, 0.9774926393054199, 0.9774926393062676]\n"
     ]
    },
    {
     "name": "stderr",
     "output_type": "stream",
     "text": [
      "/cluster/home/mskrabulis/miniconda3/envs/quantech/lib/python3.9/site-packages/pyscf/symm/Dmatrix.py:156: RuntimeWarning: invalid value encountered in arccos\n",
      "  gamma = numpy.arccos(yp.dot(c2[1]))\n",
      "Progress:  81%|████████▏ | 407/500 [2:39:55<37:28, 24.18s/it]"
     ]
    },
    {
     "name": "stdout",
     "output_type": "stream",
     "text": [
      "Time to: Calculate Ground State - 1.59s, Get Pauli Ops - 6.88s, Calculate Pauli Expectation Values - 13.41s, Calculate Covariance - 2.34s\n",
      "f0,f1,f2 = [6.200343211590664e-10, 6.200343211389544e-10, 6.200343210835377e-10]\n",
      "d01,d02,d12 = [0.9758860999258168, 0.9758860999264825, 0.9758860999272557]\n"
     ]
    },
    {
     "name": "stderr",
     "output_type": "stream",
     "text": [
      "Progress:  82%|████████▏ | 408/500 [2:40:18<36:26, 23.76s/it]"
     ]
    },
    {
     "name": "stdout",
     "output_type": "stream",
     "text": [
      "Time to: Calculate Ground State - 1.51s, Get Pauli Ops - 6.14s, Calculate Pauli Expectation Values - 12.79s, Calculate Covariance - 2.33s\n",
      "f0,f1,f2 = [1.6052049345791193e-09, 1.6052049345798365e-09, 1.6052049345792171e-09]\n",
      "d01,d02,d12 = [0.9736363403273627, 0.9736363403279963, 0.9736363403286834]\n"
     ]
    },
    {
     "name": "stderr",
     "output_type": "stream",
     "text": [
      "/cluster/home/mskrabulis/miniconda3/envs/quantech/lib/python3.9/site-packages/pyscf/symm/Dmatrix.py:156: RuntimeWarning: invalid value encountered in arccos\n",
      "  gamma = numpy.arccos(yp.dot(c2[1]))\n",
      "Progress:  82%|████████▏ | 409/500 [2:40:43<36:41, 24.19s/it]"
     ]
    },
    {
     "name": "stdout",
     "output_type": "stream",
     "text": [
      "Time to: Calculate Ground State - 1.57s, Get Pauli Ops - 9.59s, Calculate Pauli Expectation Values - 11.38s, Calculate Covariance - 2.62s\n",
      "f0,f1,f2 = [1.9614772457828844e-09, 1.9614772458003073e-09, 1.961477245800066e-09]\n",
      "d01,d02,d12 = [0.9722321432697092, 0.9722321432702993, 0.9722321432709083]\n"
     ]
    },
    {
     "name": "stderr",
     "output_type": "stream",
     "text": [
      "/cluster/home/mskrabulis/miniconda3/envs/quantech/lib/python3.9/site-packages/pyscf/symm/Dmatrix.py:156: RuntimeWarning: invalid value encountered in arccos\n",
      "  gamma = numpy.arccos(yp.dot(c2[1]))\n",
      "Progress:  82%|████████▏ | 410/500 [2:41:07<36:10, 24.11s/it]"
     ]
    },
    {
     "name": "stdout",
     "output_type": "stream",
     "text": [
      "Time to: Calculate Ground State - 1.5s, Get Pauli Ops - 8.53s, Calculate Pauli Expectation Values - 10.8s, Calculate Covariance - 3.09s\n",
      "f0,f1,f2 = [3.255966385864366e-10, 3.2559663860250965e-10, 3.25596638566429e-10]\n",
      "d01,d02,d12 = [0.970712730224631, 0.9707127302251787, 0.9707127302257084]\n"
     ]
    },
    {
     "name": "stderr",
     "output_type": "stream",
     "text": [
      "/cluster/home/mskrabulis/miniconda3/envs/quantech/lib/python3.9/site-packages/pyscf/symm/Dmatrix.py:156: RuntimeWarning: invalid value encountered in arccos\n",
      "  gamma = numpy.arccos(yp.dot(c2[1]))\n",
      "/cluster/home/mskrabulis/miniconda3/envs/quantech/lib/python3.9/site-packages/pyscf/symm/Dmatrix.py:156: RuntimeWarning: invalid value encountered in arccos\n",
      "  gamma = numpy.arccos(yp.dot(c2[1]))\n",
      "Progress:  82%|████████▏ | 411/500 [2:41:29<34:59, 23.59s/it]"
     ]
    },
    {
     "name": "stdout",
     "output_type": "stream",
     "text": [
      "Time to: Calculate Ground State - 1.5s, Get Pauli Ops - 6.46s, Calculate Pauli Expectation Values - 11.29s, Calculate Covariance - 3.12s\n",
      "f0,f1,f2 = [4.794711693536084e-10, 4.794711693211882e-10, 4.794711692827147e-10]\n",
      "d01,d02,d12 = [0.9694137254390416, 0.9694137254395353, 0.9694137254399721]\n"
     ]
    },
    {
     "name": "stderr",
     "output_type": "stream",
     "text": [
      "/cluster/home/mskrabulis/miniconda3/envs/quantech/lib/python3.9/site-packages/pyscf/symm/Dmatrix.py:156: RuntimeWarning: invalid value encountered in arccos\n",
      "  gamma = numpy.arccos(yp.dot(c2[1]))\n",
      "Progress:  82%|████████▏ | 412/500 [2:41:54<35:11, 24.00s/it]"
     ]
    },
    {
     "name": "stdout",
     "output_type": "stream",
     "text": [
      "Time to: Calculate Ground State - 1.59s, Get Pauli Ops - 8.9s, Calculate Pauli Expectation Values - 11.47s, Calculate Covariance - 2.95s\n",
      "f0,f1,f2 = [7.657088285252506e-10, 7.657088285214367e-10, 7.657088285545369e-10]\n",
      "d01,d02,d12 = [0.9678154341827842, 0.967815434183207, 0.9678154341835516]\n"
     ]
    },
    {
     "name": "stderr",
     "output_type": "stream",
     "text": [
      "Progress:  83%|████████▎ | 413/500 [2:42:16<33:52, 23.36s/it]"
     ]
    },
    {
     "name": "stdout",
     "output_type": "stream",
     "text": [
      "Time to: Calculate Ground State - 1.49s, Get Pauli Ops - 6.87s, Calculate Pauli Expectation Values - 11.24s, Calculate Covariance - 2.26s\n",
      "f0,f1,f2 = [7.502947543054012e-10, 7.502947543424546e-10, 7.502947542551262e-10]\n",
      "d01,d02,d12 = [0.9665510261617761, 0.9665510261621075, 0.9665510261623631]\n"
     ]
    },
    {
     "name": "stderr",
     "output_type": "stream",
     "text": [
      "Progress:  83%|████████▎ | 414/500 [2:42:40<33:58, 23.71s/it]"
     ]
    },
    {
     "name": "stdout",
     "output_type": "stream",
     "text": [
      "Time to: Calculate Ground State - 1.55s, Get Pauli Ops - 9.73s, Calculate Pauli Expectation Values - 10.44s, Calculate Covariance - 2.79s\n",
      "f0,f1,f2 = [1.0340255141780868e-09, 1.0340255141552161e-09, 1.0340255141747188e-09]\n",
      "d01,d02,d12 = [0.9657334882469104, 0.9657334882471484, 0.9657334882473095]\n"
     ]
    },
    {
     "name": "stderr",
     "output_type": "stream",
     "text": [
      "Progress:  83%|████████▎ | 415/500 [2:43:05<33:57, 23.97s/it]"
     ]
    },
    {
     "name": "stdout",
     "output_type": "stream",
     "text": [
      "Time to: Calculate Ground State - 1.26s, Get Pauli Ops - 10.09s, Calculate Pauli Expectation Values - 10.35s, Calculate Covariance - 2.87s\n",
      "f0,f1,f2 = [1.7671341593474895e-10, 1.7671341596716828e-10, 1.7671341591812676e-10]\n",
      "d01,d02,d12 = [0.9650008312586218, 0.9650008312587507, 0.9650008312588356]\n"
     ]
    },
    {
     "name": "stderr",
     "output_type": "stream",
     "text": [
      "Progress:  83%|████████▎ | 416/500 [2:43:26<32:24, 23.15s/it]"
     ]
    },
    {
     "name": "stdout",
     "output_type": "stream",
     "text": [
      "Time to: Calculate Ground State - 0.98s, Get Pauli Ops - 6.74s, Calculate Pauli Expectation Values - 10.74s, Calculate Covariance - 2.77s\n",
      "f0,f1,f2 = [2.5036524718512085e-09, 2.5036524718307527e-09, 2.503652471855616e-09]\n",
      "d01,d02,d12 = [0.9653172143248226, 0.96531721432485, 0.9653172143248545]\n"
     ]
    },
    {
     "name": "stderr",
     "output_type": "stream",
     "text": [
      "Progress:  83%|████████▎ | 417/500 [2:43:46<30:46, 22.25s/it]"
     ]
    },
    {
     "name": "stdout",
     "output_type": "stream",
     "text": [
      "Time to: Calculate Ground State - 0.85s, Get Pauli Ops - 6.54s, Calculate Pauli Expectation Values - 10.56s, Calculate Covariance - 2.21s\n",
      "f0,f1,f2 = [1.557520114958678e-09, 1.5575201150012559e-09, 1.5575201149948287e-09]\n",
      "d01,d02,d12 = [0.9662752766715998, 0.966275276671526, 0.9662752766714602]\n"
     ]
    },
    {
     "name": "stderr",
     "output_type": "stream",
     "text": [
      "/cluster/home/mskrabulis/miniconda3/envs/quantech/lib/python3.9/site-packages/pyscf/symm/Dmatrix.py:156: RuntimeWarning: invalid value encountered in arccos\n",
      "  gamma = numpy.arccos(yp.dot(c2[1]))\n",
      "Progress:  84%|████████▎ | 418/500 [2:44:08<30:07, 22.05s/it]"
     ]
    },
    {
     "name": "stdout",
     "output_type": "stream",
     "text": [
      "Time to: Calculate Ground State - 1.48s, Get Pauli Ops - 6.83s, Calculate Pauli Expectation Values - 10.55s, Calculate Covariance - 2.7s\n",
      "f0,f1,f2 = [1.518096042250022e-09, 1.518096042270424e-09, 1.518096042239279e-09]\n",
      "d01,d02,d12 = [0.9678495829264757, 0.9678495829262853, 0.9678495829261609]\n"
     ]
    },
    {
     "name": "stderr",
     "output_type": "stream",
     "text": [
      "/cluster/home/mskrabulis/miniconda3/envs/quantech/lib/python3.9/site-packages/pyscf/symm/Dmatrix.py:156: RuntimeWarning: invalid value encountered in arccos\n",
      "  gamma = numpy.arccos(yp.dot(c2[1]))\n",
      "Progress:  84%|████████▍ | 419/500 [2:44:27<28:44, 21.28s/it]"
     ]
    },
    {
     "name": "stdout",
     "output_type": "stream",
     "text": [
      "Time to: Calculate Ground State - 1.52s, Get Pauli Ops - 5.64s, Calculate Pauli Expectation Values - 10.53s, Calculate Covariance - 1.81s\n",
      "f0,f1,f2 = [1.3172909864628193e-09, 1.3172909864560778e-09, 1.3172909864860166e-09]\n",
      "d01,d02,d12 = [0.9699481090503748, 0.9699481090500803, 0.9699481090498907]\n"
     ]
    },
    {
     "name": "stderr",
     "output_type": "stream",
     "text": [
      "Progress:  84%|████████▍ | 420/500 [2:44:49<28:23, 21.29s/it]"
     ]
    },
    {
     "name": "stdout",
     "output_type": "stream",
     "text": [
      "Time to: Calculate Ground State - 1.17s, Get Pauli Ops - 6.74s, Calculate Pauli Expectation Values - 10.32s, Calculate Covariance - 3.06s\n",
      "f0,f1,f2 = [1.9792562235263555e-09, 1.9792562235772097e-09, 1.9792562235313393e-09]\n",
      "d01,d02,d12 = [0.9728380669555561, 0.9728380669551497, 0.9728380669549076]\n"
     ]
    },
    {
     "name": "stderr",
     "output_type": "stream",
     "text": [
      "/cluster/home/mskrabulis/miniconda3/envs/quantech/lib/python3.9/site-packages/pyscf/symm/Dmatrix.py:156: RuntimeWarning: invalid value encountered in arccos\n",
      "  gamma = numpy.arccos(yp.dot(c2[1]))\n",
      "Progress:  84%|████████▍ | 421/500 [2:45:10<28:05, 21.33s/it]"
     ]
    },
    {
     "name": "stdout",
     "output_type": "stream",
     "text": [
      "Time to: Calculate Ground State - 1.48s, Get Pauli Ops - 6.69s, Calculate Pauli Expectation Values - 10.54s, Calculate Covariance - 2.7s\n",
      "f0,f1,f2 = [7.750415375403358e-10, 7.750415375111534e-10, 7.750415375804279e-10]\n",
      "d01,d02,d12 = [0.9753656133815789, 0.9753656133810447, 0.9753656133807599]\n"
     ]
    },
    {
     "name": "stderr",
     "output_type": "stream",
     "text": [
      "/cluster/home/mskrabulis/miniconda3/envs/quantech/lib/python3.9/site-packages/pyscf/symm/Dmatrix.py:156: RuntimeWarning: invalid value encountered in arccos\n",
      "  gamma = numpy.arccos(yp.dot(c2[1]))\n",
      "Progress:  84%|████████▍ | 422/500 [2:45:36<29:20, 22.57s/it]"
     ]
    },
    {
     "name": "stdout",
     "output_type": "stream",
     "text": [
      "Time to: Calculate Ground State - 1.5s, Get Pauli Ops - 9.74s, Calculate Pauli Expectation Values - 11.04s, Calculate Covariance - 3.15s\n",
      "f0,f1,f2 = [5.840499800554623e-10, 5.840499800185433e-10, 5.840499800816618e-10]\n",
      "d01,d02,d12 = [0.9780997156160305, 0.9780997156153897, 0.9780997156150653]\n"
     ]
    },
    {
     "name": "stderr",
     "output_type": "stream",
     "text": [
      "Progress:  85%|████████▍ | 423/500 [2:46:01<30:10, 23.52s/it]"
     ]
    },
    {
     "name": "stdout",
     "output_type": "stream",
     "text": [
      "Time to: Calculate Ground State - 1.61s, Get Pauli Ops - 10.4s, Calculate Pauli Expectation Values - 11.16s, Calculate Covariance - 2.55s\n",
      "f0,f1,f2 = [3.816489522784032e-10, 3.816489523172219e-10, 3.8164895228842644e-10]\n",
      "d01,d02,d12 = [0.980636825667047, 0.9806368256663133, 0.9806368256659357]\n"
     ]
    },
    {
     "name": "stderr",
     "output_type": "stream",
     "text": [
      "Progress:  85%|████████▍ | 424/500 [2:46:26<30:05, 23.76s/it]"
     ]
    },
    {
     "name": "stdout",
     "output_type": "stream",
     "text": [
      "Time to: Calculate Ground State - 1.62s, Get Pauli Ops - 9.63s, Calculate Pauli Expectation Values - 10.61s, Calculate Covariance - 2.46s\n",
      "f0,f1,f2 = [2.9167940384349563e-10, 2.91679403878064e-10, 2.916794038545798e-10]\n",
      "d01,d02,d12 = [0.9830170580106072, 0.9830170580097858, 0.9830170580093552]\n"
     ]
    },
    {
     "name": "stderr",
     "output_type": "stream",
     "text": [
      "/cluster/home/mskrabulis/miniconda3/envs/quantech/lib/python3.9/site-packages/pyscf/symm/Dmatrix.py:156: RuntimeWarning: invalid value encountered in arccos\n",
      "  gamma = numpy.arccos(yp.dot(c2[1]))\n",
      "Progress:  85%|████████▌ | 425/500 [2:46:51<30:12, 24.16s/it]"
     ]
    },
    {
     "name": "stdout",
     "output_type": "stream",
     "text": [
      "Time to: Calculate Ground State - 1.13s, Get Pauli Ops - 9.61s, Calculate Pauli Expectation Values - 11.26s, Calculate Covariance - 3.09s\n",
      "f0,f1,f2 = [4.077135474958741e-10, 4.077135474730782e-10, 4.077135474358147e-10]\n",
      "d01,d02,d12 = [0.9855327855818492, 0.9855327855809335, 0.9855327855804434]\n"
     ]
    },
    {
     "name": "stderr",
     "output_type": "stream",
     "text": [
      "Progress:  85%|████████▌ | 426/500 [2:47:16<30:01, 24.35s/it]"
     ]
    },
    {
     "name": "stdout",
     "output_type": "stream",
     "text": [
      "Time to: Calculate Ground State - 1.55s, Get Pauli Ops - 10.1s, Calculate Pauli Expectation Values - 11.19s, Calculate Covariance - 1.94s\n",
      "f0,f1,f2 = [2.1659155204388445e-10, 2.1659155200640604e-10, 2.1659155205384813e-10]\n",
      "d01,d02,d12 = [0.9879230950035405, 0.9879230950025214, 0.9879230950019825]\n"
     ]
    },
    {
     "name": "stderr",
     "output_type": "stream",
     "text": [
      "/cluster/home/mskrabulis/miniconda3/envs/quantech/lib/python3.9/site-packages/pyscf/symm/Dmatrix.py:156: RuntimeWarning: invalid value encountered in arccos\n",
      "  gamma = numpy.arccos(yp.dot(c2[1]))\n",
      "Progress:  85%|████████▌ | 427/500 [2:47:37<28:42, 23.60s/it]"
     ]
    },
    {
     "name": "stdout",
     "output_type": "stream",
     "text": [
      "Time to: Calculate Ground State - 1.44s, Get Pauli Ops - 5.93s, Calculate Pauli Expectation Values - 11.38s, Calculate Covariance - 3.08s\n",
      "f0,f1,f2 = [6.888393629959392e-10, 6.888393629818651e-10, 6.888393629689565e-10]\n",
      "d01,d02,d12 = [0.9899938433257194, 0.9899938433246047, 0.9899938433240297]\n"
     ]
    },
    {
     "name": "stderr",
     "output_type": "stream",
     "text": [
      "Progress:  86%|████████▌ | 428/500 [2:47:58<27:22, 22.81s/it]"
     ]
    },
    {
     "name": "stdout",
     "output_type": "stream",
     "text": [
      "Time to: Calculate Ground State - 1.34s, Get Pauli Ops - 6.84s, Calculate Pauli Expectation Values - 10.2s, Calculate Covariance - 2.58s\n",
      "f0,f1,f2 = [7.836404512968438e-10, 7.836404512904693e-10, 7.836404513211776e-10]\n",
      "d01,d02,d12 = [0.99236042542525, 0.9923604254240465, 0.9923604254234408]\n"
     ]
    },
    {
     "name": "stderr",
     "output_type": "stream",
     "text": [
      "/cluster/home/mskrabulis/miniconda3/envs/quantech/lib/python3.9/site-packages/pyscf/symm/Dmatrix.py:156: RuntimeWarning: invalid value encountered in arccos\n",
      "  gamma = numpy.arccos(yp.dot(c2[1]))\n",
      "/cluster/home/mskrabulis/miniconda3/envs/quantech/lib/python3.9/site-packages/pyscf/symm/Dmatrix.py:156: RuntimeWarning: invalid value encountered in arccos\n",
      "  gamma = numpy.arccos(yp.dot(c2[1]))\n",
      "Progress:  86%|████████▌ | 429/500 [2:48:18<25:51, 21.85s/it]"
     ]
    },
    {
     "name": "stdout",
     "output_type": "stream",
     "text": [
      "Time to: Calculate Ground State - 1.47s, Get Pauli Ops - 5.6s, Calculate Pauli Expectation Values - 10.29s, Calculate Covariance - 2.24s\n",
      "f0,f1,f2 = [7.181510677117103e-11, 7.181510673671335e-11, 7.181510674003899e-11]\n",
      "d01,d02,d12 = [0.9946637645443072, 0.994663764543023, 0.9946637645423955]\n"
     ]
    },
    {
     "name": "stderr",
     "output_type": "stream",
     "text": [
      "Progress:  86%|████████▌ | 430/500 [2:48:39<25:19, 21.70s/it]"
     ]
    },
    {
     "name": "stdout",
     "output_type": "stream",
     "text": [
      "Time to: Calculate Ground State - 1.47s, Get Pauli Ops - 6.78s, Calculate Pauli Expectation Values - 10.04s, Calculate Covariance - 3.06s\n",
      "f0,f1,f2 = [1.6052364190704952e-09, 1.6052364190653964e-09, 1.6052364190906923e-09]\n",
      "d01,d02,d12 = [0.9962685963193996, 0.9962685963180374, 0.996268596317391]\n"
     ]
    },
    {
     "name": "stderr",
     "output_type": "stream",
     "text": [
      "/cluster/home/mskrabulis/miniconda3/envs/quantech/lib/python3.9/site-packages/pyscf/symm/Dmatrix.py:156: RuntimeWarning: invalid value encountered in arccos\n",
      "  gamma = numpy.arccos(yp.dot(c2[1]))\n",
      "Progress:  86%|████████▌ | 431/500 [2:49:04<25:55, 22.54s/it]"
     ]
    },
    {
     "name": "stdout",
     "output_type": "stream",
     "text": [
      "Time to: Calculate Ground State - 1.5s, Get Pauli Ops - 9.76s, Calculate Pauli Expectation Values - 10.66s, Calculate Covariance - 2.56s\n",
      "f0,f1,f2 = [1.4818763487468163e-09, 1.4818763486796606e-09, 1.481876348707222e-09]\n",
      "d01,d02,d12 = [0.997235970946833, 0.9972359709453854, 0.9972359709447388]\n"
     ]
    },
    {
     "name": "stderr",
     "output_type": "stream",
     "text": [
      "Progress:  86%|████████▋ | 432/500 [2:49:27<25:41, 22.66s/it]"
     ]
    },
    {
     "name": "stdout",
     "output_type": "stream",
     "text": [
      "Time to: Calculate Ground State - 1.55s, Get Pauli Ops - 5.9s, Calculate Pauli Expectation Values - 13.07s, Calculate Covariance - 2.42s\n",
      "f0,f1,f2 = [1.2279578672068218e-10, 1.2279578669137197e-10, 1.227957867789877e-10]\n",
      "d01,d02,d12 = [0.9982406163433099, 0.9982406163417882, 0.9982406163411416]\n"
     ]
    },
    {
     "name": "stderr",
     "output_type": "stream",
     "text": [
      "Progress:  87%|████████▋ | 433/500 [2:49:49<25:17, 22.64s/it]"
     ]
    },
    {
     "name": "stdout",
     "output_type": "stream",
     "text": [
      "Time to: Calculate Ground State - 1.29s, Get Pauli Ops - 6.71s, Calculate Pauli Expectation Values - 11.68s, Calculate Covariance - 2.92s\n",
      "f0,f1,f2 = [2.0025641866629882e-10, 2.0025641869555377e-10, 2.002564185968284e-10]\n",
      "d01,d02,d12 = [0.99914798346697, 0.9991479834654031, 0.9991479834647492]\n"
     ]
    },
    {
     "name": "stderr",
     "output_type": "stream",
     "text": [
      "Progress:  87%|████████▋ | 434/500 [2:50:13<25:11, 22.90s/it]"
     ]
    },
    {
     "name": "stdout",
     "output_type": "stream",
     "text": [
      "Time to: Calculate Ground State - 1.66s, Get Pauli Ops - 6.95s, Calculate Pauli Expectation Values - 12.48s, Calculate Covariance - 2.4s\n",
      "f0,f1,f2 = [9.707464422654943e-11, 9.707464419329404e-11, 9.707464416400447e-11]\n",
      "d01,d02,d12 = [1.0000022534425115, 1.0000022534409032, 1.0000022534402526]\n"
     ]
    },
    {
     "name": "stderr",
     "output_type": "stream",
     "text": [
      "Progress:  87%|████████▋ | 435/500 [2:50:34<24:21, 22.48s/it]"
     ]
    },
    {
     "name": "stdout",
     "output_type": "stream",
     "text": [
      "Time to: Calculate Ground State - 1.49s, Get Pauli Ops - 6.76s, Calculate Pauli Expectation Values - 10.28s, Calculate Covariance - 2.96s\n",
      "f0,f1,f2 = [9.156821475167788e-10, 9.156821474844464e-10, 9.156821474719747e-10]\n",
      "d01,d02,d12 = [1.000464567157149, 1.0004645671554993, 1.0004645671548582]\n"
     ]
    },
    {
     "name": "stderr",
     "output_type": "stream",
     "text": [
      "/cluster/home/mskrabulis/miniconda3/envs/quantech/lib/python3.9/site-packages/pyscf/symm/Dmatrix.py:156: RuntimeWarning: invalid value encountered in arccos\n",
      "  gamma = numpy.arccos(yp.dot(c2[1]))\n",
      "Progress:  87%|████████▋ | 436/500 [2:50:56<23:50, 22.35s/it]"
     ]
    },
    {
     "name": "stdout",
     "output_type": "stream",
     "text": [
      "Time to: Calculate Ground State - 1.51s, Get Pauli Ops - 6.25s, Calculate Pauli Expectation Values - 11.46s, Calculate Covariance - 2.82s\n",
      "f0,f1,f2 = [5.183796152008623e-10, 5.183796151978232e-10, 5.183796152191817e-10]\n",
      "d01,d02,d12 = [1.0007052903478293, 1.0007052903461402, 1.0007052903455105]\n"
     ]
    },
    {
     "name": "stderr",
     "output_type": "stream",
     "text": [
      "/cluster/home/mskrabulis/miniconda3/envs/quantech/lib/python3.9/site-packages/pyscf/symm/Dmatrix.py:156: RuntimeWarning: invalid value encountered in arccos\n",
      "  gamma = numpy.arccos(yp.dot(c2[1]))\n",
      "Progress:  87%|████████▋ | 437/500 [2:51:20<23:43, 22.59s/it]"
     ]
    },
    {
     "name": "stdout",
     "output_type": "stream",
     "text": [
      "Time to: Calculate Ground State - 1.52s, Get Pauli Ops - 8.35s, Calculate Pauli Expectation Values - 10.53s, Calculate Covariance - 2.72s\n",
      "f0,f1,f2 = [3.7088537444036586e-10, 3.708853744595125e-10, 3.708853745209322e-10]\n",
      "d01,d02,d12 = [1.0010964776051416, 1.0010964776034266, 1.0010964776028124]\n"
     ]
    },
    {
     "name": "stderr",
     "output_type": "stream",
     "text": [
      "Progress:  88%|████████▊ | 438/500 [2:51:45<24:06, 23.33s/it]"
     ]
    },
    {
     "name": "stdout",
     "output_type": "stream",
     "text": [
      "Time to: Calculate Ground State - 1.53s, Get Pauli Ops - 10.12s, Calculate Pauli Expectation Values - 10.85s, Calculate Covariance - 2.53s\n",
      "f0,f1,f2 = [4.847145417937596e-10, 4.847145417764304e-10, 4.847145417451057e-10]\n",
      "d01,d02,d12 = [1.0012810459712949, 1.0012810459695576, 1.0012810459689616]\n"
     ]
    },
    {
     "name": "stderr",
     "output_type": "stream",
     "text": [
      "/cluster/home/mskrabulis/miniconda3/envs/quantech/lib/python3.9/site-packages/pyscf/symm/Dmatrix.py:156: RuntimeWarning: invalid value encountered in arccos\n",
      "  gamma = numpy.arccos(yp.dot(c2[1]))\n",
      "Progress:  88%|████████▊ | 439/500 [2:52:08<23:37, 23.23s/it]"
     ]
    },
    {
     "name": "stdout",
     "output_type": "stream",
     "text": [
      "Time to: Calculate Ground State - 0.89s, Get Pauli Ops - 6.84s, Calculate Pauli Expectation Values - 12.15s, Calculate Covariance - 3.12s\n",
      "f0,f1,f2 = [7.20733799144537e-10, 7.207337991175516e-10, 7.207337990862507e-10]\n",
      "d01,d02,d12 = [1.0011640002491538, 1.0011640002474063, 1.0011640002468387]\n"
     ]
    },
    {
     "name": "stderr",
     "output_type": "stream",
     "text": [
      "Progress:  88%|████████▊ | 440/500 [2:52:33<23:44, 23.75s/it]"
     ]
    },
    {
     "name": "stdout",
     "output_type": "stream",
     "text": [
      "Time to: Calculate Ground State - 1.55s, Get Pauli Ops - 6.78s, Calculate Pauli Expectation Values - 13.47s, Calculate Covariance - 3.14s\n",
      "f0,f1,f2 = [1.2671982034492108e-09, 1.267198203423786e-09, 1.2671982034456152e-09]\n",
      "d01,d02,d12 = [1.001574321822259, 1.0015743218205173, 1.001574321819966]\n"
     ]
    },
    {
     "name": "stderr",
     "output_type": "stream",
     "text": [
      "/cluster/home/mskrabulis/miniconda3/envs/quantech/lib/python3.9/site-packages/pyscf/symm/Dmatrix.py:156: RuntimeWarning: invalid value encountered in arccos\n",
      "  gamma = numpy.arccos(yp.dot(c2[1]))\n",
      "Progress:  88%|████████▊ | 441/500 [2:52:59<24:10, 24.58s/it]"
     ]
    },
    {
     "name": "stdout",
     "output_type": "stream",
     "text": [
      "Time to: Calculate Ground State - 1.6s, Get Pauli Ops - 6.8s, Calculate Pauli Expectation Values - 15.24s, Calculate Covariance - 2.88s\n",
      "f0,f1,f2 = [6.165827367813908e-10, 6.165827367830899e-10, 6.165827368516769e-10]\n",
      "d01,d02,d12 = [1.0022346409384006, 1.0022346409366931, 1.0022346409361584]\n"
     ]
    },
    {
     "name": "stderr",
     "output_type": "stream",
     "text": [
      "Progress:  88%|████████▊ | 442/500 [2:53:23<23:40, 24.49s/it]"
     ]
    },
    {
     "name": "stdout",
     "output_type": "stream",
     "text": [
      "Time to: Calculate Ground State - 1.69s, Get Pauli Ops - 9.37s, Calculate Pauli Expectation Values - 10.72s, Calculate Covariance - 2.48s\n",
      "f0,f1,f2 = [6.382956979520043e-10, 6.382956979543527e-10, 6.382956979631787e-10]\n",
      "d01,d02,d12 = [1.0031504319606421, 1.0031504319589692, 1.0031504319584568]\n"
     ]
    },
    {
     "name": "stderr",
     "output_type": "stream",
     "text": [
      "/cluster/home/mskrabulis/miniconda3/envs/quantech/lib/python3.9/site-packages/pyscf/symm/Dmatrix.py:156: RuntimeWarning: invalid value encountered in arccos\n",
      "  gamma = numpy.arccos(yp.dot(c2[1]))\n",
      "Progress:  89%|████████▊ | 443/500 [2:53:45<22:18, 23.48s/it]"
     ]
    },
    {
     "name": "stdout",
     "output_type": "stream",
     "text": [
      "Time to: Calculate Ground State - 1.54s, Get Pauli Ops - 6.91s, Calculate Pauli Expectation Values - 10.41s, Calculate Covariance - 2.25s\n",
      "f0,f1,f2 = [6.257129505064654e-10, 6.257129504982722e-10, 6.257129505400279e-10]\n",
      "d01,d02,d12 = [1.003793694123711, 1.003793694122071, 1.003793694121575]\n"
     ]
    },
    {
     "name": "stderr",
     "output_type": "stream",
     "text": [
      "/cluster/home/mskrabulis/miniconda3/envs/quantech/lib/python3.9/site-packages/pyscf/symm/Dmatrix.py:156: RuntimeWarning: invalid value encountered in arccos\n",
      "  gamma = numpy.arccos(yp.dot(c2[1]))\n",
      "Progress:  89%|████████▉ | 444/500 [2:54:09<22:05, 23.66s/it]"
     ]
    },
    {
     "name": "stdout",
     "output_type": "stream",
     "text": [
      "Time to: Calculate Ground State - 1.59s, Get Pauli Ops - 10.03s, Calculate Pauli Expectation Values - 10.17s, Calculate Covariance - 2.28s\n",
      "f0,f1,f2 = [2.058635923868746e-09, 2.0586359238454124e-09, 2.058635923771788e-09]\n",
      "d01,d02,d12 = [1.0035738133761067, 1.0035738133745216, 1.0035738133740566]\n"
     ]
    },
    {
     "name": "stderr",
     "output_type": "stream",
     "text": [
      "Progress:  89%|████████▉ | 445/500 [2:54:33<21:46, 23.76s/it]"
     ]
    },
    {
     "name": "stdout",
     "output_type": "stream",
     "text": [
      "Time to: Calculate Ground State - 1.53s, Get Pauli Ops - 6.97s, Calculate Pauli Expectation Values - 12.87s, Calculate Covariance - 2.62s\n",
      "f0,f1,f2 = [1.1252835304573706e-09, 1.1252835305090832e-09, 1.12528353046552e-09]\n",
      "d01,d02,d12 = [1.0028902025973878, 1.0028902025958617, 1.002890202595426]\n"
     ]
    },
    {
     "name": "stderr",
     "output_type": "stream",
     "text": [
      "Progress:  89%|████████▉ | 446/500 [2:55:00<22:24, 24.89s/it]"
     ]
    },
    {
     "name": "stdout",
     "output_type": "stream",
     "text": [
      "Time to: Calculate Ground State - 1.66s, Get Pauli Ops - 7.0s, Calculate Pauli Expectation Values - 16.03s, Calculate Covariance - 2.82s\n",
      "f0,f1,f2 = [9.26903642945147e-11, 9.269036435319258e-11, 9.269036437604646e-11]\n",
      "d01,d02,d12 = [1.0022547078737056, 1.002254707872242, 1.0022547078718493]\n"
     ]
    },
    {
     "name": "stderr",
     "output_type": "stream",
     "text": [
      "Progress:  89%|████████▉ | 447/500 [2:55:27<22:37, 25.61s/it]"
     ]
    },
    {
     "name": "stdout",
     "output_type": "stream",
     "text": [
      "Time to: Calculate Ground State - 1.68s, Get Pauli Ops - 6.05s, Calculate Pauli Expectation Values - 16.43s, Calculate Covariance - 3.1s\n",
      "f0,f1,f2 = [1.226772696200387e-09, 1.22677269619651e-09, 1.2267726961938299e-09]\n",
      "d01,d02,d12 = [1.0011192533639452, 1.0011192533625488, 1.0011192533622046]\n"
     ]
    },
    {
     "name": "stderr",
     "output_type": "stream",
     "text": [
      "Progress:  90%|████████▉ | 448/500 [2:55:52<21:54, 25.28s/it]"
     ]
    },
    {
     "name": "stdout",
     "output_type": "stream",
     "text": [
      "Time to: Calculate Ground State - 1.62s, Get Pauli Ops - 8.71s, Calculate Pauli Expectation Values - 11.43s, Calculate Covariance - 2.75s\n",
      "f0,f1,f2 = [3.061580154605853e-10, 3.0615801544350954e-10, 3.061580153610072e-10]\n",
      "d01,d02,d12 = [0.999872833848469, 0.9998728338471602, 0.9998728338468779]\n"
     ]
    },
    {
     "name": "stderr",
     "output_type": "stream",
     "text": [
      "Progress:  90%|████████▉ | 449/500 [2:56:16<21:08, 24.87s/it]"
     ]
    },
    {
     "name": "stdout",
     "output_type": "stream",
     "text": [
      "Time to: Calculate Ground State - 1.58s, Get Pauli Ops - 7.24s, Calculate Pauli Expectation Values - 12.64s, Calculate Covariance - 2.44s\n",
      "f0,f1,f2 = [3.979737183862759e-10, 3.979737183866516e-10, 3.9797371839263013e-10]\n",
      "d01,d02,d12 = [0.9984789266609505, 0.9984789266597188, 0.9984789266595042]\n"
     ]
    },
    {
     "name": "stderr",
     "output_type": "stream",
     "text": [
      "Progress:  90%|█████████ | 450/500 [2:56:41<20:52, 25.04s/it]"
     ]
    },
    {
     "name": "stdout",
     "output_type": "stream",
     "text": [
      "Time to: Calculate Ground State - 1.64s, Get Pauli Ops - 7.05s, Calculate Pauli Expectation Values - 14.49s, Calculate Covariance - 2.25s\n",
      "f0,f1,f2 = [3.196167938036511e-10, 3.196167937508644e-10, 3.196167936993345e-10]\n",
      "d01,d02,d12 = [0.9969721236085096, 0.996972123607368, 0.9969721236072338]\n"
     ]
    },
    {
     "name": "stderr",
     "output_type": "stream",
     "text": [
      "Progress:  90%|█████████ | 451/500 [2:57:05<20:10, 24.71s/it]"
     ]
    },
    {
     "name": "stdout",
     "output_type": "stream",
     "text": [
      "Time to: Calculate Ground State - 1.34s, Get Pauli Ops - 6.12s, Calculate Pauli Expectation Values - 13.34s, Calculate Covariance - 3.12s\n",
      "f0,f1,f2 = [1.6200247591000217e-10, 1.6200247590670911e-10, 1.6200247597409458e-10]\n",
      "d01,d02,d12 = [0.9954194085311194, 0.9954194085300475, 0.9954194085300025]\n"
     ]
    },
    {
     "name": "stderr",
     "output_type": "stream",
     "text": [
      "/cluster/home/mskrabulis/miniconda3/envs/quantech/lib/python3.9/site-packages/pyscf/symm/Dmatrix.py:156: RuntimeWarning: invalid value encountered in arccos\n",
      "  gamma = numpy.arccos(yp.dot(c2[1]))\n",
      "Progress:  90%|█████████ | 452/500 [2:57:30<19:48, 24.77s/it]"
     ]
    },
    {
     "name": "stdout",
     "output_type": "stream",
     "text": [
      "Time to: Calculate Ground State - 1.64s, Get Pauli Ops - 7.41s, Calculate Pauli Expectation Values - 13.31s, Calculate Covariance - 2.54s\n",
      "f0,f1,f2 = [3.3338823864023376e-10, 3.3338823863923024e-10, 3.3338823866939074e-10]\n",
      "d01,d02,d12 = [0.994026949442051, 0.9940269494410637, 0.994026949441107]\n"
     ]
    },
    {
     "name": "stderr",
     "output_type": "stream",
     "text": [
      "/cluster/home/mskrabulis/miniconda3/envs/quantech/lib/python3.9/site-packages/pyscf/symm/Dmatrix.py:156: RuntimeWarning: invalid value encountered in arccos\n",
      "  gamma = numpy.arccos(yp.dot(c2[1]))\n",
      "Progress:  91%|█████████ | 453/500 [2:57:55<19:28, 24.86s/it]"
     ]
    },
    {
     "name": "stdout",
     "output_type": "stream",
     "text": [
      "Time to: Calculate Ground State - 1.6s, Get Pauli Ops - 6.31s, Calculate Pauli Expectation Values - 14.67s, Calculate Covariance - 2.48s\n",
      "f0,f1,f2 = [8.163632736571838e-10, 8.163632736711256e-10, 8.163632736389542e-10]\n",
      "d01,d02,d12 = [0.9923154927541831, 0.9923154927533004, 0.9923154927534199]\n"
     ]
    },
    {
     "name": "stderr",
     "output_type": "stream",
     "text": [
      "Progress:  91%|█████████ | 454/500 [2:58:21<19:16, 25.14s/it]"
     ]
    },
    {
     "name": "stdout",
     "output_type": "stream",
     "text": [
      "Time to: Calculate Ground State - 1.67s, Get Pauli Ops - 10.75s, Calculate Pauli Expectation Values - 10.85s, Calculate Covariance - 2.53s\n",
      "f0,f1,f2 = [1.671715327357081e-10, 1.6717153276535484e-10, 1.6717153271973692e-10]\n",
      "d01,d02,d12 = [0.990558872819767, 0.9905588728189958, 0.9905588728191804]\n"
     ]
    },
    {
     "name": "stderr",
     "output_type": "stream",
     "text": [
      "Progress:  91%|█████████ | 455/500 [2:58:44<18:28, 24.63s/it]"
     ]
    },
    {
     "name": "stdout",
     "output_type": "stream",
     "text": [
      "Time to: Calculate Ground State - 1.65s, Get Pauli Ops - 8.5s, Calculate Pauli Expectation Values - 10.46s, Calculate Covariance - 2.81s\n",
      "f0,f1,f2 = [5.295475427600712e-10, 5.295475427537174e-10, 5.295475427668863e-10]\n",
      "d01,d02,d12 = [0.988607392389855, 0.9886073923892132, 0.988607392389454]\n"
     ]
    },
    {
     "name": "stderr",
     "output_type": "stream",
     "text": [
      "/cluster/home/mskrabulis/miniconda3/envs/quantech/lib/python3.9/site-packages/pyscf/symm/Dmatrix.py:156: RuntimeWarning: invalid value encountered in arccos\n",
      "  gamma = numpy.arccos(yp.dot(c2[1]))\n",
      "Progress:  91%|█████████ | 456/500 [2:59:06<17:27, 23.80s/it]"
     ]
    },
    {
     "name": "stdout",
     "output_type": "stream",
     "text": [
      "Time to: Calculate Ground State - 1.56s, Get Pauli Ops - 7.15s, Calculate Pauli Expectation Values - 10.67s, Calculate Covariance - 2.45s\n",
      "f0,f1,f2 = [8.693065765803876e-10, 8.693065765790964e-10, 8.693065765520524e-10]\n",
      "d01,d02,d12 = [0.9863228534631856, 0.9863228534626722, 0.9863228534629856]\n"
     ]
    },
    {
     "name": "stderr",
     "output_type": "stream",
     "text": [
      "Progress:  91%|█████████▏| 457/500 [2:59:31<17:10, 23.97s/it]"
     ]
    },
    {
     "name": "stdout",
     "output_type": "stream",
     "text": [
      "Time to: Calculate Ground State - 1.58s, Get Pauli Ops - 8.73s, Calculate Pauli Expectation Values - 10.94s, Calculate Covariance - 3.11s\n",
      "f0,f1,f2 = [1.0463780472152943e-09, 1.046378047238011e-09, 1.0463780471381047e-09]\n",
      "d01,d02,d12 = [0.9836365052473641, 0.9836365052469954, 0.9836365052473749]\n"
     ]
    },
    {
     "name": "stderr",
     "output_type": "stream",
     "text": [
      "Progress:  92%|█████████▏| 458/500 [2:59:52<16:14, 23.20s/it]"
     ]
    },
    {
     "name": "stdout",
     "output_type": "stream",
     "text": [
      "Time to: Calculate Ground State - 1.43s, Get Pauli Ops - 6.42s, Calculate Pauli Expectation Values - 10.72s, Calculate Covariance - 2.81s\n",
      "f0,f1,f2 = [6.543379469311353e-10, 6.543379468998637e-10, 6.543379469386053e-10]\n",
      "d01,d02,d12 = [0.9812595938915023, 0.9812595938912814, 0.9812595938917212]\n"
     ]
    },
    {
     "name": "stderr",
     "output_type": "stream",
     "text": [
      "Progress:  92%|█████████▏| 459/500 [3:00:14<15:33, 22.77s/it]"
     ]
    },
    {
     "name": "stdout",
     "output_type": "stream",
     "text": [
      "Time to: Calculate Ground State - 1.54s, Get Pauli Ops - 7.14s, Calculate Pauli Expectation Values - 10.35s, Calculate Covariance - 2.72s\n",
      "f0,f1,f2 = [6.405345980511534e-10, 6.405345980578673e-10, 6.405345980664945e-10]\n",
      "d01,d02,d12 = [0.9791820213512541, 0.9791820213511838, 0.9791820213516811]\n"
     ]
    },
    {
     "name": "stderr",
     "output_type": "stream",
     "text": [
      "/cluster/home/mskrabulis/miniconda3/envs/quantech/lib/python3.9/site-packages/pyscf/symm/Dmatrix.py:156: RuntimeWarning: invalid value encountered in arccos\n",
      "  gamma = numpy.arccos(yp.dot(c2[1]))\n",
      "Progress:  92%|█████████▏| 460/500 [3:00:39<15:40, 23.52s/it]"
     ]
    },
    {
     "name": "stdout",
     "output_type": "stream",
     "text": [
      "Time to: Calculate Ground State - 1.64s, Get Pauli Ops - 11.62s, Calculate Pauli Expectation Values - 10.12s, Calculate Covariance - 1.88s\n",
      "f0,f1,f2 = [1.2999959812546156e-09, 1.2999959812250246e-09, 1.2999959812842671e-09]\n",
      "d01,d02,d12 = [0.9776731438381695, 0.9776731438382725, 0.9776731438388094]\n"
     ]
    },
    {
     "name": "stderr",
     "output_type": "stream",
     "text": [
      "Progress:  92%|█████████▏| 461/500 [3:01:07<16:09, 24.86s/it]"
     ]
    },
    {
     "name": "stdout",
     "output_type": "stream",
     "text": [
      "Time to: Calculate Ground State - 1.67s, Get Pauli Ops - 12.44s, Calculate Pauli Expectation Values - 10.63s, Calculate Covariance - 3.23s\n",
      "f0,f1,f2 = [1.312604167123741e-09, 1.3126041670959409e-09, 1.3126041670888317e-09]\n",
      "d01,d02,d12 = [0.9767301525889295, 0.9767301525892088, 0.9767301525897776]\n"
     ]
    },
    {
     "name": "stderr",
     "output_type": "stream",
     "text": [
      "/cluster/home/mskrabulis/miniconda3/envs/quantech/lib/python3.9/site-packages/pyscf/symm/Dmatrix.py:156: RuntimeWarning: invalid value encountered in arccos\n",
      "  gamma = numpy.arccos(yp.dot(c2[1]))\n",
      "/cluster/home/mskrabulis/miniconda3/envs/quantech/lib/python3.9/site-packages/pyscf/symm/Dmatrix.py:156: RuntimeWarning: invalid value encountered in arccos\n",
      "  gamma = numpy.arccos(yp.dot(c2[1]))\n",
      "Progress:  92%|█████████▏| 462/500 [3:01:33<15:54, 25.12s/it]"
     ]
    },
    {
     "name": "stdout",
     "output_type": "stream",
     "text": [
      "Time to: Calculate Ground State - 1.65s, Get Pauli Ops - 10.47s, Calculate Pauli Expectation Values - 10.81s, Calculate Covariance - 2.79s\n",
      "f0,f1,f2 = [5.428638157721553e-10, 5.428638157596074e-10, 5.428638157404998e-10]\n",
      "d01,d02,d12 = [0.9760257100036434, 0.9760257100040912, 0.9760257100046785]\n"
     ]
    },
    {
     "name": "stderr",
     "output_type": "stream",
     "text": [
      "/cluster/home/mskrabulis/miniconda3/envs/quantech/lib/python3.9/site-packages/pyscf/symm/Dmatrix.py:156: RuntimeWarning: invalid value encountered in arccos\n",
      "  gamma = numpy.arccos(yp.dot(c2[1]))\n",
      "Progress:  93%|█████████▎| 463/500 [3:01:57<15:24, 24.98s/it]"
     ]
    },
    {
     "name": "stdout",
     "output_type": "stream",
     "text": [
      "Time to: Calculate Ground State - 1.6s, Get Pauli Ops - 6.11s, Calculate Pauli Expectation Values - 14.69s, Calculate Covariance - 2.26s\n",
      "f0,f1,f2 = [9.534073411508325e-10, 9.53407341169788e-10, 9.534073411771734e-10]\n",
      "d01,d02,d12 = [0.9757267622261168, 0.9757267622267286, 0.9757267622273368]\n"
     ]
    },
    {
     "name": "stderr",
     "output_type": "stream",
     "text": [
      "/cluster/home/mskrabulis/miniconda3/envs/quantech/lib/python3.9/site-packages/pyscf/symm/Dmatrix.py:156: RuntimeWarning: invalid value encountered in arccos\n",
      "  gamma = numpy.arccos(yp.dot(c2[1]))\n",
      "Progress:  93%|█████████▎| 464/500 [3:02:22<14:56, 24.91s/it]"
     ]
    },
    {
     "name": "stdout",
     "output_type": "stream",
     "text": [
      "Time to: Calculate Ground State - 1.62s, Get Pauli Ops - 6.32s, Calculate Pauli Expectation Values - 14.58s, Calculate Covariance - 2.2s\n",
      "f0,f1,f2 = [5.841043024374266e-10, 5.841043024842951e-10, 5.841043024444584e-10]\n",
      "d01,d02,d12 = [0.9751897191421224, 0.9751897191429022, 0.9751897191435172]\n"
     ]
    },
    {
     "name": "stderr",
     "output_type": "stream",
     "text": [
      "/cluster/home/mskrabulis/miniconda3/envs/quantech/lib/python3.9/site-packages/pyscf/symm/Dmatrix.py:156: RuntimeWarning: invalid value encountered in arccos\n",
      "  gamma = numpy.arccos(yp.dot(c2[1]))\n",
      "Progress:  93%|█████████▎| 465/500 [3:02:46<14:19, 24.55s/it]"
     ]
    },
    {
     "name": "stdout",
     "output_type": "stream",
     "text": [
      "Time to: Calculate Ground State - 1.72s, Get Pauli Ops - 8.85s, Calculate Pauli Expectation Values - 10.77s, Calculate Covariance - 2.35s\n",
      "f0,f1,f2 = [1.0471188784114858e-09, 1.0471188784099698e-09, 1.0471188783628094e-09]\n",
      "d01,d02,d12 = [0.9750946813309964, 0.9750946813319246, 0.9750946813325397]\n"
     ]
    },
    {
     "name": "stderr",
     "output_type": "stream",
     "text": [
      "/cluster/home/mskrabulis/miniconda3/envs/quantech/lib/python3.9/site-packages/pyscf/symm/Dmatrix.py:156: RuntimeWarning: invalid value encountered in arccos\n",
      "  gamma = numpy.arccos(yp.dot(c2[1]))\n",
      "Progress:  93%|█████████▎| 466/500 [3:03:10<13:47, 24.35s/it]"
     ]
    },
    {
     "name": "stdout",
     "output_type": "stream",
     "text": [
      "Time to: Calculate Ground State - 1.39s, Get Pauli Ops - 8.97s, Calculate Pauli Expectation Values - 10.8s, Calculate Covariance - 2.73s\n",
      "f0,f1,f2 = [6.770118408212077e-10, 6.770118407936353e-10, 6.770118408326862e-10]\n",
      "d01,d02,d12 = [0.9752818543699742, 0.9752818543710393, 0.9752818543716444]\n"
     ]
    },
    {
     "name": "stderr",
     "output_type": "stream",
     "text": [
      "Progress:  93%|█████████▎| 467/500 [3:03:34<13:22, 24.32s/it]"
     ]
    },
    {
     "name": "stdout",
     "output_type": "stream",
     "text": [
      "Time to: Calculate Ground State - 1.66s, Get Pauli Ops - 8.42s, Calculate Pauli Expectation Values - 11.5s, Calculate Covariance - 2.65s\n",
      "f0,f1,f2 = [7.46882641978695e-10, 7.468826420219332e-10, 7.46882641995027e-10]\n",
      "d01,d02,d12 = [0.9751565268160058, 0.9751565268172054, 0.9751565268177947]\n"
     ]
    },
    {
     "name": "stderr",
     "output_type": "stream",
     "text": [
      "Progress:  94%|█████████▎| 468/500 [3:03:58<12:55, 24.22s/it]"
     ]
    },
    {
     "name": "stdout",
     "output_type": "stream",
     "text": [
      "Time to: Calculate Ground State - 1.49s, Get Pauli Ops - 6.3s, Calculate Pauli Expectation Values - 13.25s, Calculate Covariance - 2.93s\n",
      "f0,f1,f2 = [1.7263205750338089e-10, 1.7263205755293154e-10, 1.7263205758539137e-10]\n",
      "d01,d02,d12 = [0.9749613531047853, 0.9749613531061054, 0.9749613531066652]\n"
     ]
    },
    {
     "name": "stderr",
     "output_type": "stream",
     "text": [
      "/cluster/home/mskrabulis/miniconda3/envs/quantech/lib/python3.9/site-packages/pyscf/symm/Dmatrix.py:156: RuntimeWarning: invalid value encountered in arccos\n",
      "  gamma = numpy.arccos(yp.dot(c2[1]))\n",
      "Progress:  94%|█████████▍| 469/500 [3:04:24<12:46, 24.71s/it]"
     ]
    },
    {
     "name": "stdout",
     "output_type": "stream",
     "text": [
      "Time to: Calculate Ground State - 1.66s, Get Pauli Ops - 8.94s, Calculate Pauli Expectation Values - 12.13s, Calculate Covariance - 3.12s\n",
      "f0,f1,f2 = [5.075936494946171e-10, 5.07593649499417e-10, 5.075936494933308e-10]\n",
      "d01,d02,d12 = [0.9749795211594803, 0.9749795211609155, 0.9749795211614362]\n"
     ]
    },
    {
     "name": "stderr",
     "output_type": "stream",
     "text": [
      "Progress:  94%|█████████▍| 470/500 [3:04:47<12:06, 24.21s/it]"
     ]
    },
    {
     "name": "stdout",
     "output_type": "stream",
     "text": [
      "Time to: Calculate Ground State - 1.51s, Get Pauli Ops - 6.48s, Calculate Pauli Expectation Values - 11.87s, Calculate Covariance - 3.16s\n",
      "f0,f1,f2 = [1.8037757778294038e-09, 1.8037757777506089e-09, 1.8037757777394132e-09]\n",
      "d01,d02,d12 = [0.9757457511482812, 0.9757457511498187, 0.9757457511502798]\n"
     ]
    },
    {
     "name": "stderr",
     "output_type": "stream",
     "text": [
      "Progress:  94%|█████████▍| 471/500 [3:05:13<11:56, 24.71s/it]"
     ]
    },
    {
     "name": "stdout",
     "output_type": "stream",
     "text": [
      "Time to: Calculate Ground State - 1.66s, Get Pauli Ops - 9.81s, Calculate Pauli Expectation Values - 11.25s, Calculate Covariance - 3.14s\n",
      "f0,f1,f2 = [1.5137104046075503e-09, 1.5137104046775081e-09, 1.5137104046431623e-09]\n",
      "d01,d02,d12 = [0.977129126962799, 0.9771291269644433, 0.9771291269648535]\n"
     ]
    },
    {
     "name": "stderr",
     "output_type": "stream",
     "text": [
      "/cluster/home/mskrabulis/miniconda3/envs/quantech/lib/python3.9/site-packages/pyscf/symm/Dmatrix.py:156: RuntimeWarning: invalid value encountered in arccos\n",
      "  gamma = numpy.arccos(yp.dot(c2[1]))\n",
      "Progress:  94%|█████████▍| 472/500 [3:05:36<11:16, 24.15s/it]"
     ]
    },
    {
     "name": "stdout",
     "output_type": "stream",
     "text": [
      "Time to: Calculate Ground State - 1.59s, Get Pauli Ops - 7.19s, Calculate Pauli Expectation Values - 11.22s, Calculate Covariance - 2.85s\n",
      "f0,f1,f2 = [2.2483726012086376e-09, 2.248372601185513e-09, 2.2483726011715187e-09]\n",
      "d01,d02,d12 = [0.9794257062526983, 0.9794257062544464, 0.9794257062548077]\n"
     ]
    },
    {
     "name": "stderr",
     "output_type": "stream",
     "text": [
      "Progress:  95%|█████████▍| 473/500 [3:05:59<10:47, 23.98s/it]"
     ]
    },
    {
     "name": "stdout",
     "output_type": "stream",
     "text": [
      "Time to: Calculate Ground State - 1.64s, Get Pauli Ops - 8.18s, Calculate Pauli Expectation Values - 10.91s, Calculate Covariance - 2.84s\n",
      "f0,f1,f2 = [3.6159209047958484e-10, 3.6159209048273655e-10, 3.6159209050836814e-10]\n",
      "d01,d02,d12 = [0.9815398027557007, 0.981539802757535, 0.9815398027578468]\n"
     ]
    },
    {
     "name": "stderr",
     "output_type": "stream",
     "text": [
      "/cluster/home/mskrabulis/miniconda3/envs/quantech/lib/python3.9/site-packages/pyscf/symm/Dmatrix.py:156: RuntimeWarning: invalid value encountered in arccos\n",
      "  gamma = numpy.arccos(yp.dot(c2[1]))\n",
      "Progress:  95%|█████████▍| 474/500 [3:06:22<10:10, 23.48s/it]"
     ]
    },
    {
     "name": "stdout",
     "output_type": "stream",
     "text": [
      "Time to: Calculate Ground State - 1.5s, Get Pauli Ops - 6.9s, Calculate Pauli Expectation Values - 11.55s, Calculate Covariance - 2.34s\n",
      "f0,f1,f2 = [6.033258505286469e-10, 6.033258505194432e-10, 6.033258504686914e-10]\n",
      "d01,d02,d12 = [0.9838743075195744, 0.983874307521473, 0.9838743075217373]\n"
     ]
    },
    {
     "name": "stderr",
     "output_type": "stream",
     "text": [
      "Progress:  95%|█████████▌| 475/500 [3:06:44<09:39, 23.18s/it]"
     ]
    },
    {
     "name": "stdout",
     "output_type": "stream",
     "text": [
      "Time to: Calculate Ground State - 0.93s, Get Pauli Ops - 7.0s, Calculate Pauli Expectation Values - 11.51s, Calculate Covariance - 3.03s\n",
      "f0,f1,f2 = [9.935482826176396e-11, 9.935482826285006e-11, 9.935482831302574e-11]\n",
      "d01,d02,d12 = [0.9861345913349775, 0.9861345913369369, 0.9861345913371465]\n"
     ]
    },
    {
     "name": "stderr",
     "output_type": "stream",
     "text": [
      "Progress:  95%|█████████▌| 476/500 [3:07:06<09:07, 22.81s/it]"
     ]
    },
    {
     "name": "stdout",
     "output_type": "stream",
     "text": [
      "Time to: Calculate Ground State - 1.54s, Get Pauli Ops - 7.56s, Calculate Pauli Expectation Values - 10.49s, Calculate Covariance - 2.36s\n",
      "f0,f1,f2 = [8.825907593664799e-10, 8.825907592977462e-10, 8.825907593320612e-10]\n",
      "d01,d02,d12 = [0.9879967703976928, 0.9879967703996921, 0.9879967703998632]\n"
     ]
    },
    {
     "name": "stderr",
     "output_type": "stream",
     "text": [
      "Progress:  95%|█████████▌| 477/500 [3:07:29<08:45, 22.83s/it]"
     ]
    },
    {
     "name": "stdout",
     "output_type": "stream",
     "text": [
      "Time to: Calculate Ground State - 1.66s, Get Pauli Ops - 6.69s, Calculate Pauli Expectation Values - 11.43s, Calculate Covariance - 3.09s\n",
      "f0,f1,f2 = [1.8636852215635204e-10, 1.863685221230705e-10, 1.8636852220502497e-10]\n",
      "d01,d02,d12 = [0.9897553099237881, 0.9897553099257964, 0.9897553099259372]\n"
     ]
    },
    {
     "name": "stderr",
     "output_type": "stream",
     "text": [
      "Progress:  96%|█████████▌| 478/500 [3:07:51<08:20, 22.77s/it]"
     ]
    },
    {
     "name": "stdout",
     "output_type": "stream",
     "text": [
      "Time to: Calculate Ground State - 1.54s, Get Pauli Ops - 6.33s, Calculate Pauli Expectation Values - 11.68s, Calculate Covariance - 3.07s\n",
      "f0,f1,f2 = [1.6168159361000614e-10, 1.6168159362613732e-10, 1.6168159363881482e-10]\n",
      "d01,d02,d12 = [0.9914219174451591, 0.9914219174471685, 0.99142191744727]\n"
     ]
    },
    {
     "name": "stderr",
     "output_type": "stream",
     "text": [
      "Progress:  96%|█████████▌| 479/500 [3:08:13<07:50, 22.42s/it]"
     ]
    },
    {
     "name": "stdout",
     "output_type": "stream",
     "text": [
      "Time to: Calculate Ground State - 1.52s, Get Pauli Ops - 6.01s, Calculate Pauli Expectation Values - 11.18s, Calculate Covariance - 2.87s\n",
      "f0,f1,f2 = [5.375637159081367e-10, 5.375637158322007e-10, 5.375637158677987e-10]\n",
      "d01,d02,d12 = [0.9932879836759532, 0.9932879836779739, 0.993287983678021]\n"
     ]
    },
    {
     "name": "stderr",
     "output_type": "stream",
     "text": [
      "/cluster/home/mskrabulis/miniconda3/envs/quantech/lib/python3.9/site-packages/pyscf/symm/Dmatrix.py:156: RuntimeWarning: invalid value encountered in arccos\n",
      "  gamma = numpy.arccos(yp.dot(c2[1]))\n",
      "Progress:  96%|█████████▌| 480/500 [3:08:34<07:21, 22.09s/it]"
     ]
    },
    {
     "name": "stdout",
     "output_type": "stream",
     "text": [
      "Time to: Calculate Ground State - 1.48s, Get Pauli Ops - 7.15s, Calculate Pauli Expectation Values - 9.68s, Calculate Covariance - 3.01s\n",
      "f0,f1,f2 = [4.812440456202655e-10, 4.812440455606733e-10, 4.812440455494755e-10]\n",
      "d01,d02,d12 = [0.9953273250464827, 0.9953273250485083, 0.9953273250484853]\n"
     ]
    },
    {
     "name": "stderr",
     "output_type": "stream",
     "text": [
      "Progress:  96%|█████████▌| 481/500 [3:08:55<06:51, 21.64s/it]"
     ]
    },
    {
     "name": "stdout",
     "output_type": "stream",
     "text": [
      "Time to: Calculate Ground State - 1.6s, Get Pauli Ops - 6.88s, Calculate Pauli Expectation Values - 9.86s, Calculate Covariance - 2.24s\n",
      "f0,f1,f2 = [6.847693075394699e-10, 6.847693075208395e-10, 6.84769307591726e-10]\n",
      "d01,d02,d12 = [0.9970537577333476, 0.9970537577353583, 0.9970537577352615]\n"
     ]
    },
    {
     "name": "stderr",
     "output_type": "stream",
     "text": [
      "/cluster/home/mskrabulis/miniconda3/envs/quantech/lib/python3.9/site-packages/pyscf/symm/Dmatrix.py:156: RuntimeWarning: invalid value encountered in arccos\n",
      "  gamma = numpy.arccos(yp.dot(c2[1]))\n",
      "Progress:  96%|█████████▋| 482/500 [3:09:16<06:25, 21.43s/it]"
     ]
    },
    {
     "name": "stdout",
     "output_type": "stream",
     "text": [
      "Time to: Calculate Ground State - 1.54s, Get Pauli Ops - 7.11s, Calculate Pauli Expectation Values - 10.11s, Calculate Covariance - 2.19s\n",
      "f0,f1,f2 = [2.2471972138477352e-10, 2.2471972141937133e-10, 2.2471972137807527e-10]\n",
      "d01,d02,d12 = [0.9986625616944806, 0.9986625616964845, 0.9986625616963078]\n"
     ]
    },
    {
     "name": "stderr",
     "output_type": "stream",
     "text": [
      "Progress:  97%|█████████▋| 483/500 [3:09:37<06:00, 21.21s/it]"
     ]
    },
    {
     "name": "stdout",
     "output_type": "stream",
     "text": [
      "Time to: Calculate Ground State - 1.49s, Get Pauli Ops - 6.82s, Calculate Pauli Expectation Values - 9.8s, Calculate Covariance - 2.56s\n",
      "f0,f1,f2 = [1.4582909134916568e-09, 1.4582909135430822e-09, 1.4582909134988491e-09]\n",
      "d01,d02,d12 = [0.9996436370464499, 0.9996436370484494, 0.9996436370481857]\n"
     ]
    },
    {
     "name": "stderr",
     "output_type": "stream",
     "text": [
      "Progress:  97%|█████████▋| 484/500 [3:09:55<05:27, 20.45s/it]"
     ]
    },
    {
     "name": "stdout",
     "output_type": "stream",
     "text": [
      "Time to: Calculate Ground State - 1.58s, Get Pauli Ops - 5.77s, Calculate Pauli Expectation Values - 9.46s, Calculate Covariance - 1.86s\n",
      "f0,f1,f2 = [6.905733125293127e-10, 6.90573312548945e-10, 6.905733125543301e-10]\n",
      "d01,d02,d12 = [1.0003243531120072, 1.0003243531139934, 1.0003243531136374]\n"
     ]
    },
    {
     "name": "stderr",
     "output_type": "stream",
     "text": [
      "Progress:  97%|█████████▋| 485/500 [3:10:17<05:11, 20.78s/it]"
     ]
    },
    {
     "name": "stdout",
     "output_type": "stream",
     "text": [
      "Time to: Calculate Ground State - 1.37s, Get Pauli Ops - 7.34s, Calculate Pauli Expectation Values - 9.77s, Calculate Covariance - 3.06s\n",
      "f0,f1,f2 = [1.4888691173809723e-09, 1.4888691174326012e-09, 1.4888691173877624e-09]\n",
      "d01,d02,d12 = [1.000377772123515, 1.000377772125496, 1.0003777721250253]\n"
     ]
    },
    {
     "name": "stderr",
     "output_type": "stream",
     "text": [
      "Progress:  97%|█████████▋| 486/500 [3:10:39<04:55, 21.12s/it]"
     ]
    },
    {
     "name": "stdout",
     "output_type": "stream",
     "text": [
      "Time to: Calculate Ground State - 1.38s, Get Pauli Ops - 6.26s, Calculate Pauli Expectation Values - 11.63s, Calculate Covariance - 2.65s\n",
      "f0,f1,f2 = [1.5420389242252679e-09, 1.5420389242311483e-09, 1.5420389242109653e-09]\n",
      "d01,d02,d12 = [0.999790702041295, 0.9997907020432738, 0.9997907020426957]\n"
     ]
    },
    {
     "name": "stderr",
     "output_type": "stream",
     "text": [
      "Progress:  97%|█████████▋| 487/500 [3:10:59<04:29, 20.75s/it]"
     ]
    },
    {
     "name": "stdout",
     "output_type": "stream",
     "text": [
      "Time to: Calculate Ground State - 1.5s, Get Pauli Ops - 6.18s, Calculate Pauli Expectation Values - 9.56s, Calculate Covariance - 2.62s\n",
      "f0,f1,f2 = [6.709820445761991e-10, 6.709820445800665e-10, 6.709820445972128e-10]\n",
      "d01,d02,d12 = [0.9989335642310473, 0.9989335642330195, 0.9989335642323284]\n"
     ]
    },
    {
     "name": "stderr",
     "output_type": "stream",
     "text": [
      "/cluster/home/mskrabulis/miniconda3/envs/quantech/lib/python3.9/site-packages/pyscf/symm/Dmatrix.py:156: RuntimeWarning: invalid value encountered in arccos\n",
      "  gamma = numpy.arccos(yp.dot(c2[1]))\n",
      "Progress:  98%|█████████▊| 488/500 [3:11:18<04:05, 20.48s/it]"
     ]
    },
    {
     "name": "stdout",
     "output_type": "stream",
     "text": [
      "Time to: Calculate Ground State - 1.56s, Get Pauli Ops - 6.11s, Calculate Pauli Expectation Values - 9.82s, Calculate Covariance - 2.36s\n",
      "f0,f1,f2 = [1.423091225527478e-09, 1.4230912255004135e-09, 1.4230912255547413e-09]\n",
      "d01,d02,d12 = [0.9974981538694807, 0.9974981538714344, 0.9974981538706384]\n"
     ]
    },
    {
     "name": "stderr",
     "output_type": "stream",
     "text": [
      "/cluster/home/mskrabulis/miniconda3/envs/quantech/lib/python3.9/site-packages/pyscf/symm/Dmatrix.py:156: RuntimeWarning: invalid value encountered in arccos\n",
      "  gamma = numpy.arccos(yp.dot(c2[1]))\n",
      "Progress:  98%|█████████▊| 489/500 [3:11:39<03:46, 20.57s/it]"
     ]
    },
    {
     "name": "stdout",
     "output_type": "stream",
     "text": [
      "Time to: Calculate Ground State - 1.52s, Get Pauli Ops - 6.66s, Calculate Pauli Expectation Values - 9.68s, Calculate Covariance - 2.92s\n",
      "f0,f1,f2 = [1.6978297327264683e-09, 1.6978297326993364e-09, 1.6978297327660375e-09]\n",
      "d01,d02,d12 = [0.9953786653785195, 0.9953786653804345, 0.9953786653795358]\n"
     ]
    },
    {
     "name": "stderr",
     "output_type": "stream",
     "text": [
      "Progress:  98%|█████████▊| 490/500 [3:12:00<03:26, 20.60s/it]"
     ]
    },
    {
     "name": "stdout",
     "output_type": "stream",
     "text": [
      "Time to: Calculate Ground State - 1.56s, Get Pauli Ops - 6.14s, Calculate Pauli Expectation Values - 10.15s, Calculate Covariance - 2.82s\n",
      "f0,f1,f2 = [1.8447442002956109e-10, 1.844744200417265e-10, 1.8447442007984563e-10]\n",
      "d01,d02,d12 = [0.9932126017621261, 0.9932126017639806, 0.9932126017629868]\n"
     ]
    },
    {
     "name": "stderr",
     "output_type": "stream",
     "text": [
      "/cluster/home/mskrabulis/miniconda3/envs/quantech/lib/python3.9/site-packages/pyscf/symm/Dmatrix.py:156: RuntimeWarning: invalid value encountered in arccos\n",
      "  gamma = numpy.arccos(yp.dot(c2[1]))\n",
      "Progress:  98%|█████████▊| 491/500 [3:12:21<03:07, 20.79s/it]"
     ]
    },
    {
     "name": "stdout",
     "output_type": "stream",
     "text": [
      "Time to: Calculate Ground State - 1.56s, Get Pauli Ops - 6.69s, Calculate Pauli Expectation Values - 9.88s, Calculate Covariance - 3.06s\n",
      "f0,f1,f2 = [1.07640640938944e-09, 1.0764064094083189e-09, 1.076406409356479e-09]\n",
      "d01,d02,d12 = [0.9915237138933563, 0.9915237138951333, 0.9915237138940504]\n"
     ]
    },
    {
     "name": "stderr",
     "output_type": "stream",
     "text": [
      "Progress:  98%|█████████▊| 492/500 [3:12:44<02:51, 21.42s/it]"
     ]
    },
    {
     "name": "stdout",
     "output_type": "stream",
     "text": [
      "Time to: Calculate Ground State - 1.57s, Get Pauli Ops - 7.33s, Calculate Pauli Expectation Values - 10.94s, Calculate Covariance - 3.05s\n",
      "f0,f1,f2 = [2.573030686053043e-10, 2.573030685810452e-10, 2.5730306861863537e-10]\n",
      "d01,d02,d12 = [0.9897519517999116, 0.9897519518016085, 0.9897519518004368]\n"
     ]
    },
    {
     "name": "stderr",
     "output_type": "stream",
     "text": [
      "Progress:  99%|█████████▊| 493/500 [3:13:04<02:27, 21.05s/it]"
     ]
    },
    {
     "name": "stdout",
     "output_type": "stream",
     "text": [
      "Time to: Calculate Ground State - 1.6s, Get Pauli Ops - 6.61s, Calculate Pauli Expectation Values - 9.57s, Calculate Covariance - 2.39s\n",
      "f0,f1,f2 = [5.903094336593036e-10, 5.90309433628125e-10, 5.903094336387302e-10]\n",
      "d01,d02,d12 = [0.9877603357426137, 0.9877603357442262, 0.9877603357429752]\n"
     ]
    },
    {
     "name": "stderr",
     "output_type": "stream",
     "text": [
      "Progress:  99%|█████████▉| 494/500 [3:13:27<02:09, 21.63s/it]"
     ]
    },
    {
     "name": "stdout",
     "output_type": "stream",
     "text": [
      "Time to: Calculate Ground State - 1.62s, Get Pauli Ops - 9.27s, Calculate Pauli Expectation Values - 9.73s, Calculate Covariance - 2.38s\n",
      "f0,f1,f2 = [4.267234922921302e-10, 4.26723492292646e-10, 4.2672349230937e-10]\n",
      "d01,d02,d12 = [0.985973903237111, 0.9859739032386415, 0.9859739032373133]\n"
     ]
    },
    {
     "name": "stderr",
     "output_type": "stream",
     "text": [
      "Progress:  99%|█████████▉| 495/500 [3:13:47<01:45, 21.08s/it]"
     ]
    },
    {
     "name": "stdout",
     "output_type": "stream",
     "text": [
      "Time to: Calculate Ground State - 1.29s, Get Pauli Ops - 6.48s, Calculate Pauli Expectation Values - 9.63s, Calculate Covariance - 2.37s\n",
      "f0,f1,f2 = [3.873983207211013e-10, 3.873983207713766e-10, 3.8739832071951865e-10]\n",
      "d01,d02,d12 = [0.9843734405682805, 0.984373440569714, 0.9843734405683249]\n"
     ]
    },
    {
     "name": "stderr",
     "output_type": "stream",
     "text": [
      "Progress:  99%|█████████▉| 496/500 [3:14:16<01:34, 23.57s/it]"
     ]
    },
    {
     "name": "stdout",
     "output_type": "stream",
     "text": [
      "Time to: Calculate Ground State - 1.55s, Get Pauli Ops - 15.09s, Calculate Pauli Expectation Values - 9.92s, Calculate Covariance - 2.81s\n",
      "f0,f1,f2 = [1.196313716156974e-09, 1.196313716209528e-09, 1.1963137161603928e-09]\n",
      "d01,d02,d12 = [0.9832919085802883, 0.9832919085816072, 0.983291908580174]\n"
     ]
    },
    {
     "name": "stderr",
     "output_type": "stream",
     "text": [
      "/cluster/home/mskrabulis/miniconda3/envs/quantech/lib/python3.9/site-packages/pyscf/symm/Dmatrix.py:156: RuntimeWarning: invalid value encountered in arccos\n",
      "  gamma = numpy.arccos(yp.dot(c2[1]))\n",
      "Progress:  99%|█████████▉| 497/500 [3:14:37<01:08, 22.81s/it]"
     ]
    },
    {
     "name": "stdout",
     "output_type": "stream",
     "text": [
      "Time to: Calculate Ground State - 1.5s, Get Pauli Ops - 6.78s, Calculate Pauli Expectation Values - 9.67s, Calculate Covariance - 3.09s\n",
      "f0,f1,f2 = [7.845660141800441e-10, 7.845660141596742e-10, 7.845660141462812e-10]\n",
      "d01,d02,d12 = [0.9819001792730431, 0.9819001792742421, 0.9819001792727775]\n"
     ]
    },
    {
     "name": "stderr",
     "output_type": "stream",
     "text": [
      "Progress: 100%|█████████▉| 498/500 [3:14:57<00:43, 21.78s/it]"
     ]
    },
    {
     "name": "stdout",
     "output_type": "stream",
     "text": [
      "Time to: Calculate Ground State - 1.06s, Get Pauli Ops - 6.38s, Calculate Pauli Expectation Values - 9.72s, Calculate Covariance - 2.2s\n",
      "f0,f1,f2 = [4.848879355267418e-10, 4.848879355794227e-10, 4.848879354966048e-10]\n",
      "d01,d02,d12 = [0.9807292877051246, 0.9807292877061827, 0.9807292877047004]\n"
     ]
    },
    {
     "name": "stderr",
     "output_type": "stream",
     "text": [
      "Progress: 100%|█████████▉| 499/500 [3:15:17<00:21, 21.37s/it]"
     ]
    },
    {
     "name": "stdout",
     "output_type": "stream",
     "text": [
      "Time to: Calculate Ground State - 1.5s, Get Pauli Ops - 6.1s, Calculate Pauli Expectation Values - 10.37s, Calculate Covariance - 2.44s\n",
      "f0,f1,f2 = [1.5838133350501262e-10, 1.5838133347988337e-10, 1.583813335040226e-10]\n",
      "d01,d02,d12 = [0.9795092442196847, 0.9795092442205928, 0.9795092442191069]\n"
     ]
    },
    {
     "name": "stderr",
     "output_type": "stream",
     "text": [
      "Progress: 100%|██████████| 500/500 [3:15:40<00:00, 23.48s/it]"
     ]
    },
    {
     "name": "stdout",
     "output_type": "stream",
     "text": [
      "Time to: Calculate Ground State - 1.55s, Get Pauli Ops - 9.82s, Calculate Pauli Expectation Values - 9.37s, Calculate Covariance - 2.44s\n",
      "f0,f1,f2 = [1.4283787201332705e-10, 1.4283787205907748e-10, 1.4283787204184012e-10]\n",
      "d01,d02,d12 = [0.978365709184202, 0.9783657091849577, 0.9783657091834874]\n"
     ]
    },
    {
     "name": "stderr",
     "output_type": "stream",
     "text": [
      "\n"
     ]
    },
    {
     "data": {
      "image/png": "[encoded data removed]",
      "text/plain": [
       "<Figure size 640x480 with 1 Axes>"
      ]
     },
     "metadata": {},
     "output_type": "display_data"
    }
   ],
   "source": [
    "from matplotlib import pyplot as plt\n",
    "(distance01,distance02,distance12,times) = main()\n",
    "\n",
    "np_distance01 = np.array(distance01)\n",
    "np_distance02 = np.array(distance02)\n",
    "np_distance12 = np.array(distance12)\n",
    "\n",
    "plt.plot(times,np_distance01[:-1],label = 'd01')\n",
    "plt.plot(times,np_distance02[:-1],label = 'd02')\n",
    "plt.plot(times,np_distance12[:-1],label = 'd12')\n",
    "\n",
    "plt.title('Distances at time t')\n",
    "plt.xlabel('Time')\n",
    "plt.ylabel('Distance')\n",
    "plt.legend()\n",
    "plt.show()"
   ]
  },
  {
   "cell_type": "code",
   "execution_count": null,
   "id": "885910be",
   "metadata": {},
   "outputs": [],
   "source": []
  },
  {
   "cell_type": "code",
   "execution_count": null,
   "id": "abb94dec",
   "metadata": {},
   "outputs": [],
   "source": []
  }
 ],
 "metadata": {
  "kernelspec": {
   "display_name": "Python 3 (ipykernel)",
   "language": "python",
   "name": "python3"
  },
  "language_info": {
   "codemirror_mode": {
    "name": "ipython",
    "version": 3
   },
   "file_extension": ".py",
   "mimetype": "text/x-python",
   "name": "python",
   "nbconvert_exporter": "python",
   "pygments_lexer": "ipython3",
   "version": "3.9.15"
  }
 },
 "nbformat": 4,
 "nbformat_minor": 5
}
