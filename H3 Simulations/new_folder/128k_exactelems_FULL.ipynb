{
 "cells": [
  {
   "cell_type": "code",
   "execution_count": 1,
   "id": "fbc296ce",
   "metadata": {},
   "outputs": [],
   "source": [
    "import numpy as np\n",
    "import matplotlib.pyplot as plt\n",
    "\n",
    "from pyscf import ao2mo,gto, scf\n",
    "\n",
    "from typing import Tuple\n",
    "\n",
    "\n",
    "# qiskit\n",
    "from qiskit.algorithms import VQE\n",
    "from qiskit.algorithms.optimizers import COBYLA, SPSA, SLSQP, NELDER_MEAD\n",
    "from qiskit.algorithms import MinimumEigensolverResult\n",
    "\n",
    "from qiskit import IBMQ, BasicAer, Aer\n",
    "from qiskit.utils import QuantumInstance\n",
    "from qiskit.quantum_info.operators import Operator\n",
    "from qiskit.opflow import PauliExpectation, CircuitSampler, StateFn, CircuitStateFn\n",
    "from qiskit.opflow.primitive_ops import PauliOp, PauliSumOp\n",
    "from qiskit.quantum_info import Pauli, SparsePauliOp\n",
    "\n",
    "# qiskit nature\n",
    "from qiskit_nature.second_q.hamiltonians import ElectronicEnergy\n",
    "from qiskit_nature.second_q.mappers import ParityMapper, QubitConverter\n",
    "from qiskit_nature.second_q.problems import ElectronicStructureProblem\n",
    "from qiskit_nature.second_q.operators import FermionicOp\n",
    "from qiskit_nature.second_q.properties import ParticleNumber\n",
    "from qiskit_nature.second_q.transformers import FreezeCoreTransformer\n",
    "from qiskit_nature.second_q.circuit.library import UCCSD, HartreeFock\n",
    "from qiskit_nature.second_q.problems import ElectronicBasis\n",
    "from qiskit_nature.second_q.formats.molecule_info import MoleculeInfo\n",
    "from qiskit_nature.drivers import Molecule\n",
    "from qiskit_nature.drivers.second_quantization import (\n",
    "    ElectronicStructureMoleculeDriver, ElectronicStructureDriverType)\n",
    "\n",
    "from qiskit_nature.settings import settings\n",
    "settings.dict_aux_operators = True\n",
    "\n",
    "#from qiskit import IBMQ\n",
    "#from qiskit_nature.runtime import VQEClient\n",
    "#from qiskit.providers.ibmq import least_busy\n",
    "#from qiskit_ibm_runtime import QiskitRuntimeService, Estimator, Session\n",
    "\n",
    "# useful??\n",
    "#from qiskit_nature.algorithms import (GroundStateEigensolver,\n",
    "#                                      NumPyMinimumEigensolverFactory)\n",
    "from qiskit.circuit.library import EfficientSU2\n",
    "from qiskit.circuit.library import RealAmplitudes\n",
    "from qiskit.utils.mitigation import CompleteMeasFitter\n",
    "from qiskit.providers.aer.noise import NoiseModel\n",
    "from qiskit.providers.aer import QasmSimulator\n",
    "from qiskit import QuantumCircuit, transpile\n",
    "from qiskit.opflow import TwoQubitReduction\n",
    "\n",
    "def get_molecular_integrals(molecule):\n",
    "    '''\n",
    "    Calculates the 1-electron and 2-electron integrals.\n",
    "    \n",
    "    Args:   \n",
    "        molecule : Mole \n",
    "            Ccorresponds to the molecule.\n",
    "            \n",
    "    Returns:\n",
    "        h1_MO : ndarray\n",
    "                Tensor corresponding to the 1-electron integral in the molecular basis.\n",
    "        \n",
    "        h2_MO : ndarray\n",
    "                Tensor corresponding to the 2-electron integral in the molecular basis.\n",
    "\n",
    "        n_particles: Tuple[int, int]\n",
    "            Number of alpha and beta electrons.\n",
    "        \n",
    "        num_orb : int \n",
    "            Number of orbitals.\n",
    "\n",
    "        nuclear_repulsion_energy : float\n",
    "            Nuclear repulsion energy.\n",
    "    '''\n",
    "    \n",
    "    mf = scf.RHF(molecule).run()\n",
    "\n",
    "    # computing the 1e and 2e AO (atomic orbitals) integrals \n",
    "    h1 = molecule.intor_symmetric(\"int1e_nuc\") + molecule.intor_symmetric(\"int1e_kin\") \n",
    "    h2 = molecule.intor(\"int2e\")\n",
    "    # comment : add aosym (axis of symmetry) ???\n",
    "\n",
    "    # transformations from AO to MO (molecular orbitals)\n",
    "    h1_MO = np.einsum('pi,pq,qj->ij', mf.mo_coeff, h1, mf.mo_coeff)\n",
    "    h2_MO = ao2mo.get_mo_eri(h2, mf.mo_coeff)\n",
    "\n",
    "    #h2_MO = ao2mo.kernel(mol_h2, mf.mo_coeff, aosym=\"1\") #alternative\n",
    "\n",
    "    nuclear_repulsion_energy=molecule.energy_nuc()\n",
    "    num_particles = molecule.nelec\n",
    "    num_orb = h1.shape[0]\n",
    "\n",
    "    return h1_MO, h2_MO, num_particles, num_orb, nuclear_repulsion_energy\n",
    "\n",
    "\n",
    "def get_qubit_op(coordinates):\n",
    "    '''\n",
    "    Calculates the Hamiltonian as the sum of Pauli operators as a function\n",
    "    of the coordinates of the atoms.\n",
    "    \n",
    "    Args:\n",
    "        coordinates : ndarray\n",
    "            Array containing the positions of the atoms constituing the molecule.\n",
    "        \n",
    "    \n",
    "    Returns:\n",
    "        qubit_op : PauliSumOp\n",
    "            Sum of Pauli operators corresponding to the Hamiltonian.\n",
    "        \n",
    "        nelec : Tuple[int, int]\n",
    "            Number of alpha and beta electrons.\n",
    "        \n",
    "        norb : int \n",
    "            Number of orbitals.\n",
    "            \n",
    "        problem : ElectronicStructureProblem\n",
    "        \n",
    "        converter : QubitConverter\n",
    "    '''\n",
    "    \n",
    "    mol = gto.M(\n",
    "                atom = [['H',(coordinates[0], coordinates[1], 0.0)], \n",
    "                        ['H',(coordinates[2], coordinates[3], 0.0)],\n",
    "                        ['H',(coordinates[4], coordinates[5], 0.0)]],\n",
    "                basis = 'sto3g',\n",
    "                charge = 1,\n",
    "                spin = 0,\n",
    "                symmetry = True,\n",
    "                verbose = 2 # control the print level of PySCF globally\n",
    "    )\n",
    "\n",
    "    h1_MO,h2_MO,nelec,norb,ecore = get_molecular_integrals(mol)\n",
    "\n",
    "    # Define an ElectronicEnergy instance containing the 1e and 2e integrals\n",
    "    electronic_energy = ElectronicEnergy.from_raw_integrals(\n",
    "            h1_MO, ao2mo.restore(1, h2_MO, norb)\n",
    "        )\n",
    "    electronic_energy.nuclear_repulsion_energy = ecore\n",
    "\n",
    "    # Define an ElectronicStructureProblem\n",
    "    problem = ElectronicStructureProblem(electronic_energy)\n",
    "\n",
    "    second_q_ops = problem.second_q_ops()     # get second quantized operators\n",
    "    problem.num_spatial_orbitals = norb  # define number of orbitals\n",
    "    problem.num_particles = nelec        # define number of particles \n",
    "    \n",
    "    problem.basis = ElectronicBasis.MO \n",
    "    \n",
    "    problem.molecule=MoleculeInfo(symbols=[mol.atom_symbol(i) for i in range(mol.nbas)], \n",
    "                                  coords=mol.atom_coords())\n",
    "    FC_transformer=FreezeCoreTransformer(freeze_core=True)\n",
    "    problem = FC_transformer.transform(problem)\n",
    "    \n",
    "    # TODO we need to give info about the molecule to use FreezeCoreTransformer \n",
    "    # question : how to do it in a smart way ? at the initialization ??\n",
    "    \n",
    "    hamiltonian = second_q_ops[0]  # Set electronic part of Hamiltonian\n",
    "    hamiltonian = (hamiltonian + FermionicOp({\"\": ecore}, num_spin_orbitals=norb)) # add Nuclear Repulsion Energy\n",
    "    #print(\"Hamiltonian :\\n\", hamiltonian) # print for checking purposes\n",
    "    \n",
    "    mapper = ParityMapper()  # Set Mapper\n",
    "    \n",
    "    # Do two qubit reduction\n",
    "    converter = QubitConverter(mapper,two_qubit_reduction=True)\n",
    "    qubit_op = converter.convert(hamiltonian, nelec)\n",
    "    #print(\"q_op :\\n\", qubit_op) # print for checking purposes\n",
    "    \n",
    "\n",
    "    return qubit_op, nelec, norb, problem, converter\n",
    "\n",
    "def calc_ground_state(qubit_op,nelec,norb,problem,converter) :\n",
    "    '''\n",
    "    Calculates the ground state and the ground energy of the Hamiltonian.\n",
    "    \n",
    "    Args:\n",
    "        qubit_op : PauliSumOp\n",
    "            Sum of Pauli operators corresponding to the Hamiltonian.\n",
    "        \n",
    "        nelec : Tuple[int, int]\n",
    "            Number of alpha and beta electrons.\n",
    "        \n",
    "        norb : int \n",
    "            Number of orbitals.\n",
    "            \n",
    "        problem : ElectronicStructureProblem\n",
    "        \n",
    "        converter : QubitConverter\n",
    "        \n",
    "    \n",
    "    Returns:\n",
    "        ground_state : CircuitStateFn\n",
    "            Ground state of the Hamiltonian.\n",
    "            \n",
    "        min_eng : float\n",
    "            Ground energy of the Hamiltonian.\n",
    "    '''\n",
    "\n",
    "    backend = BasicAer.get_backend(\"statevector_simulator\")\n",
    "    quantum_instance = QuantumInstance(backend)\n",
    "    optimizer = SLSQP(maxiter=400)\n",
    "\n",
    "    init_state = HartreeFock(num_spatial_orbitals=norb, \n",
    "                                num_particles=nelec, \n",
    "                                qubit_converter=converter\n",
    "                            )\n",
    "    \n",
    "    var_form = UCCSD(qubit_converter=converter,\n",
    "                        num_particles=nelec,\n",
    "                        num_spatial_orbitals=norb, \n",
    "                        initial_state=init_state\n",
    "                        )\n",
    "\n",
    "    vqe = VQE(var_form, optimizer, quantum_instance=quantum_instance) \n",
    "    vqe_result = vqe.compute_minimum_eigenvalue(qubit_op)\n",
    "    min_eng = vqe_result.eigenvalue.real\n",
    "    final_params = vqe_result.optimal_parameters \n",
    "\n",
    "    vqe_ground = vqe.ansatz.bind_parameters(final_params) \n",
    "#     vqe_ground_state = CircuitStateFn(vqe_ground)\n",
    "    \n",
    "    return vqe_ground, min_eng"
   ]
  },
  {
   "cell_type": "code",
   "execution_count": 2,
   "id": "3f5daa79",
   "metadata": {},
   "outputs": [],
   "source": [
    "Ha = 4.36e-18\n",
    "angst = 1.0e-10\n",
    "dR = 0.01 #removed the angst, since coordinates are given in angst\n",
    "\n",
    "\n",
    "from qiskit.opflow import I, X, Y, Z\n",
    "from qiskit.opflow.primitive_ops import PauliOp\n",
    "from qiskit.quantum_info import Pauli\n",
    "#from hamiltonian import calc_ground_state, get_qubit_op\n",
    "import numpy as np\n",
    "from qiskit.utils import QuantumInstance\n",
    "from qiskit.opflow import PauliExpectation, CircuitSampler, StateFn, CircuitStateFn\n",
    "from qiskit import IBMQ, BasicAer, Aer\n",
    "\n",
    "import time #to see which part of code takes the longest\n",
    "import multiprocessing\n",
    "\n",
    "\n",
    "def expectation_exact(psi_0,op):\n",
    "    \n",
    "    return psi_0.adjoint().compose(op).compose(psi_0).eval().real\n",
    "    \n",
    "    \n",
    "    \n",
    "\n",
    "\n",
    "\n",
    "#calculate centre of mass (currently for equal particle masses)\n",
    "def calc_COM(coordinates):\n",
    "    #print(coordinates)\n",
    "    r_array = np.array_split(coordinates,3)\n",
    "    COM = (r_array[0] + r_array[1] + r_array[2])/3\n",
    "    \n",
    "    return COM\n",
    "\n",
    "#task to calculate expectation value\n",
    "def task1(string, q_instance, psi_0):\n",
    "\n",
    "    Obs = PauliOp(Pauli(string))\n",
    "    measurable_expression = StateFn(Obs, is_measurement=True).compose(psi_0)\n",
    "    expectation = PauliExpectation().convert(measurable_expression)  \n",
    "    sampler = CircuitSampler(q_instance).convert(expectation) \n",
    "    E = sampler.eval().real\n",
    "    E_ex = expectation_exact(psi_0,Obs)\n",
    "        \n",
    "    return (E,E_ex)\n",
    "\n",
    "#task to calculate operator from coordinates\n",
    "def task2(coordinates):\n",
    "    \n",
    "    #get qubit operators coresponding to H+ (hamiltonian for atomic distances R + dR)\n",
    "    (qubit_op_plus, num_part_plus, num_orb_plus, problem_plus, converter_plus) = get_qubit_op(coordinates[0])\n",
    "    #get qubit operators coresponding to H- (hamiltonian for atomic distances R - dR)\n",
    "    (qubit_op_minus, num_part_minus, num_orb_minus, problem_minus, converter_minus) = get_qubit_op(coordinates[1])\n",
    "        \n",
    "    qubit_op_plus = qubit_op_plus #TODO:number of I's needs to be changed according to number of qubits\n",
    "    qubit_op_minus = qubit_op_minus\n",
    "       \n",
    "    #op =  (-(qubit_op_plus - qubit_op_minus)).reduce()\n",
    "    op =  -(qubit_op_plus - qubit_op_minus)\n",
    "\n",
    "                    \n",
    "    op_list = op.primitive.to_list() #list containing Pauli operators in support and corresponding coeffs\n",
    "    #print(op_list)    \n",
    "    #construct dict from list\n",
    "    op_dict = {}\n",
    "    for (PauliString,coeff) in op_list:\n",
    "\n",
    "        if PauliString in op_dict:\n",
    "            op_dict[PauliString] += coeff\n",
    "        else:\n",
    "            op_dict[PauliString] = coeff\n",
    "    \n",
    "    return op, op_dict\n",
    " \n",
    "def parallel_operators(coordinates,basis_set):\n",
    "    \n",
    "    \n",
    "    coordinate_list = []\n",
    "    \n",
    "    v0_normed = basis_set[0]\n",
    "    v0_orth = basis_set[1]\n",
    "    \n",
    "    v1_normed = basis_set[2]\n",
    "    v1_orth = basis_set[3]\n",
    "\n",
    "    v2_normed = basis_set[4]\n",
    "    v2_orth = basis_set[5]\n",
    "    \n",
    "    displ_coords_0_a = np.array([v0_normed[0]*dR,v0_normed[1]*dR,0,0,0,0])\n",
    "    displ_coords_0_b = np.array([v0_orth[0]*dR,v0_orth[1]*dR,0,0,0,0])\n",
    "    displ_coords_1_a = np.array([0,0,v1_normed[0]*dR,v1_normed[1]*dR,0,0])\n",
    "    displ_coords_1_b = np.array([0,0,v1_orth[0]*dR,v1_orth[1]*dR,0,0])\n",
    "    displ_coords_2_a = np.array([0,0,0,0,v2_normed[0]*dR,v2_normed[1]*dR])\n",
    "    displ_coords_2_b = np.array([0,0,0,0,v2_orth[0]*dR,v2_orth[1]*dR])\n",
    "    #print(displ_coords_0_a)\n",
    "    #print(displ_coords_0_b)\n",
    "    #print(displ_coords_1_a)\n",
    "    #print(displ_coords_1_b)\n",
    "    #print(displ_coords_2_a)\n",
    "    #print(displ_coords_2_b)\n",
    "\n",
    "    coordinate_list.append([coordinates + displ_coords_0_a,coordinates - displ_coords_0_a])\n",
    "    coordinate_list.append([coordinates + displ_coords_0_b,coordinates - displ_coords_0_b])\n",
    "    coordinate_list.append([coordinates + displ_coords_1_a,coordinates - displ_coords_1_a])\n",
    "    coordinate_list.append([coordinates + displ_coords_1_b,coordinates - displ_coords_1_b])\n",
    "    coordinate_list.append([coordinates + displ_coords_2_a,coordinates - displ_coords_2_a])\n",
    "    coordinate_list.append([coordinates + displ_coords_2_b,coordinates - displ_coords_2_b])\n",
    "    \n",
    "    #dR_list = v0_normed.tolist() + v1_normed.tolist() + v2_normed.tolist()\n",
    "    \n",
    "    dR_list = [dR,dR,dR,dR,dR,dR]\n",
    "    #print(dR_list)\n",
    "    #for i in range(len(coordinates)):\n",
    "        \n",
    "        #coordinate_list.append([coordinates[0:i]+[(coordinates[i]+dR_list[i])]+coordinates[i+1:],coordinates[0:i]+[(coordinates[i]-dR_list[i])]+coordinates[i+1:]])\n",
    "    \n",
    "    #print(coordinate_list)\n",
    "    with multiprocessing.Pool() as pool:\n",
    "         ops,op_coeffs = zip(*pool.map(task2, coordinate_list))\n",
    "    \n",
    "    #print(ops)\n",
    "    return ops, op_coeffs\n",
    "\n",
    "def sequential_operators(coordinates):\n",
    "    ops = []\n",
    "    op_coeffs = []\n",
    "    \n",
    "    for i in range(len(coordinates)):\n",
    "        \n",
    "        #get qubit operators coresponding to H+ (hamiltonian for atomic distances R + dR)\n",
    "        (qubit_op_plus, num_part_plus, num_orb_plus, problem_plus, converter_plus) = get_qubit_op(coordinates[0:i]+[(coordinates[i]+dR)]+coordinates[i+1:])\n",
    "        #get qubit operators coresponding to H- (hamiltonian for atomic distances R - dR)\n",
    "        (qubit_op_minus, num_part_minus, num_orb_minus, problem_minus, converter_minus) = get_qubit_op(coordinates[0:i]+[(coordinates[i]-dR)]+coordinates[i+1:])\n",
    "\n",
    "        rep_eng_plus = problem_plus.grouped_property_transformed.get_property(\"ElectronicEnergy\").nuclear_repulsion_energy\n",
    "        rep_eng_minus  = problem_minus.grouped_property_transformed.get_property(\"ElectronicEnergy\").nuclear_repulsion_energy\n",
    "        \n",
    "        qubit_op_plus = qubit_op_plus + rep_eng_plus*(I^I^I^I) #TODO:number of I's needs to be changed according to number of qubits\n",
    "        qubit_op_minus = qubit_op_minus + rep_eng_minus*(I^I^I^I)\n",
    "        \n",
    "       \n",
    "        op =  -(qubit_op_plus - qubit_op_minus).reduce()\n",
    "                    \n",
    "        op_list = op.primitive.to_list() #list containing Pauli operators in support and corresponding coeffs\n",
    "        \n",
    "        #construct dict from list\n",
    "        op_dict = {}\n",
    "        for (PauliString,coeff) in op_list:\n",
    "\n",
    "            if PauliString in op_dict:\n",
    "                op_dict[PauliString] += coeff\n",
    "            else:\n",
    "                op_dict[PauliString] = coeff\n",
    "                \n",
    "        ops.append(op)\n",
    "        op_coeffs.append(op_dict)\n",
    "    #print(ops)\n",
    "    return ops, op_coeffs\n",
    "\n",
    "def parallel_expectations(exp_dict_exact, exp_dict, op_set, q_instance, psi_0):\n",
    "\n",
    "    triples = []\n",
    "    for op in op_set:\n",
    "        triple = (op,q_instance,psi_0)\n",
    "        triples.append(triple)\n",
    "\n",
    "    Es = 0\n",
    "    with multiprocessing.Pool() as pool:\n",
    "        Es,E_ex = zip(*pool.starmap(task1, triples))\n",
    "        #print(Es)\n",
    "        #print(E_ex)\n",
    "        #Es,E_ex = pool.starmap(task1, triples)\n",
    "    for i in range(len(Es)):\n",
    "        \n",
    "        exp_dict[triples[i][0]]=Es[i]\n",
    "        exp_dict_exact[triples[i][0]]=E_ex[i]\n",
    "                       \n",
    "    return 0\n",
    "\n",
    "def sequential_expectations(exp_dict, op_set, q_instance, psi_0):\n",
    "\n",
    "    for pauli_string in op_set:\n",
    "        \n",
    "        Obs = PauliOp(Pauli(pauli_string))\n",
    "        measurable_expression = StateFn(Obs, is_measurement=True).compose(psi_0)\n",
    "        expectation = PauliExpectation().convert(measurable_expression)  \n",
    "        sampler = CircuitSampler(q_instance).convert(expectation) \n",
    "        E = sampler.eval().real\n",
    "        exp_dict[pauli_string] = E\n",
    "\n",
    "    return 0\n",
    "\n",
    "def get_psi_0(coordinates, simulator='qasm',shots=1028):\n",
    "\n",
    "    #get qubit operator corresponding to H(R)\n",
    "    (qubit_op, num_part, num_orb, problem, converter) = get_qubit_op(coordinates)\n",
    "    \n",
    "    #get the ground state of H(R)\n",
    "    psi_0,_ = calc_ground_state(qubit_op,num_part, num_orb, problem, converter)\n",
    "    \n",
    "    psi_0 = CircuitStateFn(psi_0)\n",
    "\n",
    "    return psi_0\n",
    "\n",
    "def calc_force_and_cov(coordinates, simulator = 'qasm', PauliSet = None, mode = 'full', shots = 128, basis_set_this=None):\n",
    "  \n",
    "    \n",
    "    if simulator == 'qasm':\n",
    "            backend = Aer.get_backend('qasm_simulator')\n",
    "            #backend.set_options(max_job_size=1, executor = euler_client)\n",
    "            q_instance = QuantumInstance(backend, shots=shots)\n",
    "    elif simulator == \"exact\":\n",
    "            backend = BasicAer.get_backend(\"statevector_simulator\")\n",
    "            q_instance = QuantumInstance(backend)\n",
    "    else:\n",
    "        print('Error: simulator should be qasm or exact!')\n",
    "        \n",
    "    num_coord = len(coordinates)   \n",
    "    \n",
    "    start = time.time()\n",
    "    \n",
    "\n",
    "    psi_0 = get_psi_0(coordinates, simulator = simulator, shots=shots)\n",
    "    \n",
    "    end = time.time()\n",
    "    \n",
    "    \n",
    "    time_psi_0 = end - start\n",
    "    #print(\"Took \" + str(time_psi_0) + \" s to calculate the ground state\")\n",
    "    forces = np.zeros(num_coord)\n",
    "    forces_exact = np.zeros(num_coord)\n",
    "    coordinates = coordinates.tolist()\n",
    "    \n",
    "    \n",
    "    coordinates_this = np.array(coordinates)\n",
    "    COM = calc_COM(coordinates_this)\n",
    "    coords = np.array_split(coordinates_this,3)\n",
    "    #print(coords)\n",
    "    #print(COM)\n",
    "    v0 = coords[0] - COM\n",
    "    v1 = coords[1] - COM\n",
    "    v2 = coords[2] - COM\n",
    "    \n",
    "    v0_normed = np.array(v0/np.sqrt(v0[0]**2+v0[1]**2))\n",
    "    v0_orth = np.array([v0_normed[1],-v0_normed[0]])\n",
    "    \n",
    "    v1_normed = np.array(v1/np.sqrt(v1[0]**2+v1[1]**2))\n",
    "    v1_orth = np.array([v1_normed[1],-v1_normed[0]])\n",
    "\n",
    "    v2_normed = np.array(v2/np.sqrt(v2[0]**2+v2[1]**2))\n",
    "    v2_orth = np.array([v2_normed[1],-v2_normed[0]])\n",
    "    \n",
    "    #rotated basis\n",
    "    if basis_set_this == \"rotated\":\n",
    "        basis_set = [v0_normed,v0_orth,v1_normed,v1_orth,v2_normed,v2_orth]\n",
    "    #cartesian basis\n",
    "    elif basis_set_this == \"cartesian\":\n",
    "        basis_set = [[1,0],[0,1],[1,0],[0,1],[1,0],[0,1]]\n",
    "    \n",
    "    #basis_set = basis_set_this\n",
    "\n",
    "    transform_matrix = np.array([[basis_set[0][0],basis_set[1][0],0,0,0,0],\n",
    "                                 [basis_set[0][1],basis_set[1][1],0,0,0,0],\n",
    "                                 [0,0,basis_set[2][0],basis_set[3][0],0,0],\n",
    "                                 [0,0,basis_set[2][1],basis_set[3][1],0,0],\n",
    "                                 [0,0,0,0,basis_set[4][0],basis_set[5][0]],\n",
    "                                 [0,0,0,0,basis_set[4][1],basis_set[5][1]]])\n",
    "    \n",
    "    transform_matrix_inv = np.linalg.inv(transform_matrix)\n",
    "    \n",
    "    start = time.time()\n",
    "    #get force component operators and decomposition (without the 1/(2*dR) factor, for numerical reasons)\n",
    "    #replace parallel_ with sequential_ to see effect of parallelization\n",
    "    force_ops,force_op_coeffs = parallel_operators(coordinates,basis_set)\n",
    "    \n",
    "    #for ops in force_ops:\n",
    "        #print(len(ops))\n",
    "        \n",
    "    P1 = force_ops[0]\n",
    "    \n",
    "    if PauliSet == None:\n",
    "        \n",
    "        pauli_op_set = {'IIII'} #Could not initialize empty set for some reason\n",
    "        # construct set of PauliOp products that we need to calculate\n",
    "\n",
    "        for PauliString,coeff in force_op_coeffs[0].items():\n",
    "            pauli_op_set.add(PauliString)\n",
    "\n",
    "        #to get set of necessary PauliOp products:\n",
    "        \n",
    "            P_prod = (P1@P1)\n",
    "            P_list = P_prod.primitive.to_list()\n",
    "\n",
    "            for (PauliString,coeff) in P_list:\n",
    "                pauli_op_set.add(PauliString)\n",
    "                \n",
    "    else: pauli_op_set = PauliSet\n",
    "        \n",
    "    end = time.time()\n",
    "    \n",
    "    time_pauli_ops = end - start\n",
    "        \n",
    "\n",
    "        # Now we calculate the expectation values of all the relevant PauliOps\n",
    "    \n",
    "    start = time.time()\n",
    "    exp_dict = {} # dictionary with relevant expectation values\n",
    "    exp_dict_exact = {}  # dictionary with exact relevant expectation values\n",
    "        \n",
    "    #switch between parallel_ and sequential_ to see the effect\n",
    "    \n",
    "    parallel_expectations(exp_dict_exact,exp_dict,pauli_op_set,q_instance,psi_0)\n",
    "    \n",
    "\n",
    "    for i in range(len(coordinates)):\n",
    "        for pauli_op,coeff in force_op_coeffs[i].items():\n",
    "            forces[i] += coeff.real*exp_dict[pauli_op]\n",
    "            forces_exact[i] += coeff.real*exp_dict_exact[pauli_op]\n",
    "    \n",
    "    #forces[1] = 0\n",
    "    #forces[3] = 0\n",
    "    #forces[5] = 0\n",
    "    \n",
    "    if basis_set_this == \"rotated\":\n",
    "        forces_return = np.matmul(transform_matrix,np.array(forces))\n",
    "    elif basis_set_this == \"cartesian\":\n",
    "        forces_return = forces\n",
    "        \n",
    "    #print(forces)\n",
    "            \n",
    "    end = time.time()   \n",
    "    time_calc_exp = end - start\n",
    "    \n",
    "    \n",
    "    start = time.time()\n",
    "    COV = np.zeros((num_coord,num_coord)) #force covariance matrix, without some multiplicative factors. \n",
    "        \n",
    "    for i in range(num_coord):\n",
    "        for j in range(i,num_coord):\n",
    "\n",
    "            Pij = force_ops[i]@force_ops[j]\n",
    "                \n",
    "            Pij_list = Pij.primitive.to_list()\n",
    "\n",
    "            #add product expectation \n",
    "            \n",
    "            for (pauli_string,coeff) in Pij_list:\n",
    "                COV[i,j] += coeff.real*exp_dict_exact[pauli_string]\n",
    "                    #subtract \n",
    "            COV[i,j] -= forces_exact[i]*forces_exact[j]\n",
    "            \n",
    "            \n",
    "            #since COV is symmetric\n",
    "            \n",
    "            if i < j:\n",
    "                COV[j,i] = COV[i,j]\n",
    "            \n",
    "            \n",
    "                \n",
    "    #print(COV)            \n",
    "    end = time.time()\n",
    "    \n",
    "    if basis_set_this == \"rotated\":\n",
    "        #print(COV)\n",
    "        COV_1 = np.matmul(COV,transform_matrix)\n",
    "        COV_2 = np.matmul(transform_matrix_inv,COV_1)\n",
    "        COV_return = COV_2\n",
    "        #COV_return = COV\n",
    "        #print(COV_return)\n",
    "    elif basis_set_this == \"cartesian\":    \n",
    "        COV_return = COV\n",
    "        \n",
    "    time_cov = end - start\n",
    "\n",
    "    print(f'Time to: Calculate Ground State - {round(time_psi_0,2)}s, Get Pauli Ops - {round(time_pauli_ops,2)}s, Calculate Pauli Expectation Values - {round(time_calc_exp,2)}s, Calculate Covariance - {round(time_cov,2)}s')\n",
    "    #print(COV)\n",
    "    \n",
    "    return forces_return*Ha*(1/(2*dR*angst)),COV_return*(Ha*(1/(2*dR*angst)))**2"
   ]
  },
  {
   "cell_type": "code",
   "execution_count": 3,
   "id": "5ae5fde0",
   "metadata": {},
   "outputs": [],
   "source": [
    "#from Quantech.verlet_integrator import distance\n",
    "#from force import calc_force_and_cov\n",
    "import numpy as np\n",
    "from tqdm import tqdm #to show progress\n",
    "\n",
    "\n",
    "#implementation of the explicit Euler integrator\n",
    "femto = 1.0e-15\n",
    "angst = 1.0e-10\n",
    "\n",
    "def calc_COM(coordinates):\n",
    "    #print(coordinates)\n",
    "    r_array = np.array_split(coordinates,3)\n",
    "    COM = (r_array[0] + r_array[1] + r_array[2])/3\n",
    "    \n",
    "    return COM\n",
    "\n",
    "def distance(coordinates1,coordinates2):\n",
    "    return np.sqrt(np.power((coordinates1[0] - coordinates2[0]),2) + np.power((coordinates1[1] - coordinates2[1]),2))\n",
    "\n",
    "    \n",
    "\n",
    "\n",
    "def main():\n",
    "    \n",
    "    f = open(\"128k_full.txt\",\"w\")\n",
    "    \n",
    "    #mass of particle1 (H)\n",
    "    mass_0 = 1.67e-27\n",
    "    #mass of particle2 (H)\n",
    "    mass_1 = 1.67e-27\n",
    "    #mass of particle3 (H)\n",
    "    mass_2 = 1.67e-27\n",
    "    #time step of integrator\n",
    "    dt = 0.2*femto\n",
    "    \n",
    "    mass = mass_0\n",
    "\n",
    "    #distances between atoms\n",
    "    d = 0.8\n",
    "    #rotation angle of the initial triangle\n",
    "    b = 0/180*np.pi\n",
    "    \n",
    "    #initial positions of atoms, arrangement = equilateral triangle\n",
    "    x1_init = np.array([-d/2*np.cos(b)+np.sin(b)*np.sqrt(3)/6*d,-d/2*np.sin(b)-np.cos(b)*np.sqrt(3)/6*d])+np.array([0,d*np.sqrt(3)/6])\n",
    "    x2_init = np.array([d/2*np.cos(b)+np.sin(b)*np.sqrt(3)/6*d,d/2*np.sin(b)-np.cos(b)*np.sqrt(3)/6*d])+np.array([0,d*np.sqrt(3)/6])\n",
    "    x3_init = np.array([-np.sin(b)*np.sqrt(3)/3*d,np.cos(b)*np.sqrt(3)/3*d])+np.array([0,d*np.sqrt(3)/6])\n",
    "    \n",
    "    \n",
    "    init_pos0 = x1_init\n",
    "    init_pos1 = x2_init\n",
    "    init_pos2 = x3_init\n",
    "    \n",
    "    init_pos = np.concatenate((init_pos0,init_pos1,init_pos2),axis=None)\n",
    "    \n",
    "    ##initialize velocities in the direction of the COM for each particle\n",
    "    \n",
    "    COM = calc_COM(init_pos)\n",
    "    \n",
    "    c0 = COM - init_pos0\n",
    "    c1 = COM - init_pos1\n",
    "    c2 = COM - init_pos2\n",
    "    \n",
    "    dir0 = c0/np.sqrt(c0[0]**2+c0[1]**2)\n",
    "    dir1 = c1/np.sqrt(c1[0]**2+c1[1]**2)\n",
    "    dir2 = c2/np.sqrt(c2[0]**2+c2[1]**2)\n",
    "\n",
    "    v_init_mag = 0\n",
    "\n",
    "    v_init = np.concatenate((dir0,dir1,dir2),axis=None)*v_init_mag\n",
    "    \n",
    "    \n",
    "\n",
    "    #integrator timesteps\n",
    "    \n",
    "    timeB = 0\n",
    "    timeE = 100\n",
    "    times = np.arange(timeB*femto, timeE*femto, dt)\n",
    "    \n",
    "    \n",
    "    #print(times)\n",
    "    #coordinate array\n",
    "    coords = [init_pos]\n",
    "    force = []\n",
    "    distance01 = [d]\n",
    "    distance02 = [d]\n",
    "    distance12 = [d]\n",
    "    #temperature in ?? \n",
    "    #k_B*T in Joule\n",
    "    k_b = 1.38065e-23\n",
    "    T = 420\n",
    "    k_T = k_b*T\n",
    "        #delta factor\n",
    "        \n",
    "    delta = 0.2*dt\n",
    "    \n",
    "    temperature = []\n",
    "    #hold v_next\n",
    "    \n",
    "    v_next = None\n",
    "    \n",
    "    simulator = 'qasm'\n",
    "    COM = calc_COM(init_pos)\n",
    "    coords_loc = np.array_split(init_pos,3)\n",
    "    forces_array = []\n",
    "    velocities_array = []\n",
    "    velocities_array.append(v_init.tolist())\n",
    "    coords_array = []\n",
    "    coords_array.append(init_pos.tolist())\n",
    "    \n",
    "    n_dof = 3\n",
    "    \n",
    "    #\"cartesian\" or \"rotated\"\n",
    "    \n",
    "    basis_set = \"rotated\"\n",
    "    \n",
    "    diag_elems = []\n",
    "    \n",
    "    shots = 128000\n",
    "    \n",
    "    for time in tqdm(times, desc='Progress: '):\n",
    "        \n",
    "        #time = 0\n",
    "        \n",
    "        r = coords[-1]\n",
    "        #print(r)\n",
    "        \n",
    "        (forces,COV) = calc_force_and_cov(r, simulator = simulator, shots = shots, basis_set_this=basis_set)\n",
    "        #diag_elems.append(COV[0][0])\n",
    "        #print(diag_elems)\n",
    "        \n",
    "        forces_array.append(forces.tolist())\n",
    "        \n",
    "        f1 = distance(np.array([forces[0],forces[1]]),np.array([0,0]))\n",
    "        \n",
    "        f2 = distance(np.array([forces[2],forces[3]]),np.array([0,0]))\n",
    "        \n",
    "        f3 = distance(np.array([forces[4],forces[5]]),np.array([0,0]))    \n",
    "        \n",
    "        print(\"f0,f1,f2 = \" + str([f1,f2,f3]))\n",
    "        \n",
    "        \n",
    "        if time == 0:\n",
    "            \n",
    "            #v_sample = v_init\n",
    "            \n",
    "            #velocities = np.array(np.array_split(v_sample,3))\n",
    "            \n",
    "            #kin_eng = np.sum(velocities**2*mass/2, axis=1)\n",
    "            \n",
    "            #k_T = 2*np.sum(kin_eng)/np.size(kin_eng)/n_dof\n",
    "            \n",
    "            #temperature.append(k_T/k_b)\n",
    "            #k_T = k_b * T\n",
    "            #print(temperature)\n",
    "            \n",
    "            v_next = v_init - delta/(2*k_T*np.power(mass_0*mass_1*mass_2,1/3))*np.matmul(COV,v_init)*dt + dt*forces/mass_0\n",
    "            \n",
    "            r_next = (r*angst + dt*v_next)/angst\n",
    "\n",
    "            #r_split = np.array_split(r_next,3)\n",
    "\n",
    "            coords.append(r_next)\n",
    "\n",
    "        else:\n",
    "            \n",
    "            #v_sample = v_next\n",
    "            \n",
    "            #velocities = np.array(np.array_split(v_sample,3))\n",
    "            \n",
    "            #kin_eng = np.sum(velocities**2*mass/2, axis=1)\n",
    "            \n",
    "            #k_T = 2*np.sum(kin_eng)/np.size(kin_eng)/n_dof\n",
    "            \n",
    "            #temperature.append(k_T/k_b)\n",
    "            \n",
    "            v_next += - delta/(2*k_T*np.power(mass_0*mass_1*mass_2,1/3))*np.matmul(COV,v_next)*dt + dt*forces/mass_0\n",
    "            \n",
    "            r_next = (r*angst + dt*v_next)/angst\n",
    "\n",
    "            #r_split = np.array_split(r_next,3)\n",
    "            \n",
    "            coords.append(r_next)\n",
    "            \n",
    "        velocities_array.append(v_next.tolist())  \n",
    "        coords_array.append(coords[-1].tolist())\n",
    "        \n",
    "        r = np.array_split(coords[-1],3)\n",
    "        d01 = distance(r[0],r[1])\n",
    "        d02 = distance(r[0],r[2])\n",
    "        d12 = distance(r[1],r[2])\n",
    "        print(\"d01,d02,d12 = \" + str([d01,d02,d12]))\n",
    "        #print(\"Temp:\" + str(temperature[-1]) + \"K\")\n",
    "        #print(temperature[-1])\n",
    "        \n",
    "        dists = np.split(coords[-1],3)\n",
    "        d01 = distance(dists[0],dists[1])\n",
    "        distance01.append(d01)\n",
    "        d02 = distance(dists[0],dists[2])\n",
    "        distance02.append(d02)\n",
    "        d12 = distance(dists[1],dists[2])\n",
    "        distance12.append(d12)\n",
    "        \n",
    "    timess = times.tolist()\n",
    "    timess.append(timeE*femto)\n",
    "    \n",
    "    #f.write('diagonal elements for n = ' + str(shots) + \" no of shots\" + '\\n')\n",
    "    #f.write(str(diag_elems))\n",
    "    \n",
    "    \n",
    "    f.write('times \\n')\n",
    "    f.write(str(timess) + \"\\n\")\n",
    "    f.write(\"coordinates \\n\")\n",
    "    f.write(str(coords_array) + \"\\n\")\n",
    "    f.write(\"velocities \\n\")\n",
    "    f.write(str(velocities_array) + \"\\n\")\n",
    "    f.write(\"forces \\n\")\n",
    "    f.write(str(forces_array) + \"\\n\")\n",
    "    f.write(\"temperatures \\n\")\n",
    "    f.write(str(temperature) + \"\\n\")\n",
    "    \n",
    "    return (distance01,distance02,distance12,times) "
   ]
  },
  {
   "cell_type": "code",
   "execution_count": 4,
   "id": "be5bb22e",
   "metadata": {
    "scrolled": true
   },
   "outputs": [
    {
     "name": "stderr",
     "output_type": "stream",
     "text": [
      "Progress:   0%|          | 1/500 [00:22<3:06:23, 22.41s/it]"
     ]
    },
    {
     "name": "stdout",
     "output_type": "stream",
     "text": [
      "Time to: Calculate Ground State - 2.3s, Get Pauli Ops - 6.01s, Calculate Pauli Expectation Values - 11.06s, Calculate Covariance - 2.79s\n",
      "f0,f1,f2 = [1.2748008228139358e-08, 1.274800822814762e-08, 1.2748008228136658e-08]\n",
      "d01,d02,d12 = [0.805288670166814, 0.8052886701668126, 0.8052886701668144]\n"
     ]
    },
    {
     "name": "stderr",
     "output_type": "stream",
     "text": [
      "Progress:   0%|          | 2/500 [00:43<3:01:31, 21.87s/it]"
     ]
    },
    {
     "name": "stdout",
     "output_type": "stream",
     "text": [
      "Time to: Calculate Ground State - 1.53s, Get Pauli Ops - 5.89s, Calculate Pauli Expectation Values - 11.34s, Calculate Covariance - 2.72s\n",
      "f0,f1,f2 = [1.1251926637725395e-08, 1.125192663773568e-08, 1.1251926637725607e-08]\n",
      "d01,d02,d12 = [0.8150087418584255, 0.8150087418584161, 0.8150087418584318]\n"
     ]
    },
    {
     "name": "stderr",
     "output_type": "stream",
     "text": [
      "/cluster/home/mskrabulis/miniconda3/envs/quantech/lib/python3.9/site-packages/pyscf/symm/Dmatrix.py:156: RuntimeWarning: invalid value encountered in arccos\n",
      "  gamma = numpy.arccos(yp.dot(c2[1]))\n",
      "Progress:   1%|          | 3/500 [01:06<3:05:47, 22.43s/it]"
     ]
    },
    {
     "name": "stdout",
     "output_type": "stream",
     "text": [
      "Time to: Calculate Ground State - 1.43s, Get Pauli Ops - 6.76s, Calculate Pauli Expectation Values - 12.65s, Calculate Covariance - 2.25s\n",
      "f0,f1,f2 = [1.090894577766315e-08, 1.0908945777663001e-08, 1.090894577766189e-08]\n",
      "d01,d02,d12 = [0.8288220258830268, 0.8288220258829931, 0.8288220258830468]\n"
     ]
    },
    {
     "name": "stderr",
     "output_type": "stream",
     "text": [
      "Progress:   1%|          | 4/500 [01:31<3:12:04, 23.23s/it]"
     ]
    },
    {
     "name": "stdout",
     "output_type": "stream",
     "text": [
      "Time to: Calculate Ground State - 1.47s, Get Pauli Ops - 6.38s, Calculate Pauli Expectation Values - 14.0s, Calculate Covariance - 2.61s\n",
      "f0,f1,f2 = [1.0500234528859754e-08, 1.0500234528877688e-08, 1.0500234528893505e-08]\n",
      "d01,d02,d12 = [0.8463812723360011, 0.8463812723359725, 0.8463812723360712]\n"
     ]
    },
    {
     "name": "stderr",
     "output_type": "stream",
     "text": [
      "Progress:   1%|          | 5/500 [01:57<3:18:55, 24.11s/it]"
     ]
    },
    {
     "name": "stdout",
     "output_type": "stream",
     "text": [
      "Time to: Calculate Ground State - 1.55s, Get Pauli Ops - 6.26s, Calculate Pauli Expectation Values - 14.91s, Calculate Covariance - 2.94s\n",
      "f0,f1,f2 = [7.303144073639624e-09, 7.303144073650056e-09, 7.303144073638857e-09]\n",
      "d01,d02,d12 = [0.8662011450410367, 0.866201145041045, 0.8662011450411246]\n"
     ]
    },
    {
     "name": "stderr",
     "output_type": "stream",
     "text": [
      "Progress:   1%|          | 6/500 [02:23<3:25:37, 24.98s/it]"
     ]
    },
    {
     "name": "stdout",
     "output_type": "stream",
     "text": [
      "Time to: Calculate Ground State - 1.73s, Get Pauli Ops - 6.81s, Calculate Pauli Expectation Values - 15.04s, Calculate Covariance - 3.07s\n",
      "f0,f1,f2 = [7.450597922780376e-09, 7.450597922756168e-09, 7.450597922758309e-09]\n",
      "d01,d02,d12 = [0.888251001716657, 0.8882510017167468, 0.888251001716765]\n"
     ]
    },
    {
     "name": "stderr",
     "output_type": "stream",
     "text": [
      "/cluster/home/mskrabulis/miniconda3/envs/quantech/lib/python3.9/site-packages/pyscf/symm/Dmatrix.py:156: RuntimeWarning: invalid value encountered in arccos\n",
      "  gamma = numpy.arccos(yp.dot(c2[1]))\n",
      "Progress:   1%|▏         | 7/500 [02:47<3:21:39, 24.54s/it]"
     ]
    },
    {
     "name": "stdout",
     "output_type": "stream",
     "text": [
      "Time to: Calculate Ground State - 1.54s, Get Pauli Ops - 6.53s, Calculate Pauli Expectation Values - 13.21s, Calculate Covariance - 2.37s\n",
      "f0,f1,f2 = [4.641442275575559e-09, 4.641442275590488e-09, 4.641442275576246e-09]\n",
      "d01,d02,d12 = [0.9112759979849896, 0.9112759979852415, 0.9112759979851033]\n"
     ]
    },
    {
     "name": "stderr",
     "output_type": "stream",
     "text": [
      "/cluster/home/mskrabulis/miniconda3/envs/quantech/lib/python3.9/site-packages/pyscf/symm/Dmatrix.py:156: RuntimeWarning: invalid value encountered in arccos\n",
      "  gamma = numpy.arccos(yp.dot(c2[1]))\n",
      "Progress:   2%|▏         | 8/500 [03:12<3:22:23, 24.68s/it]"
     ]
    },
    {
     "name": "stdout",
     "output_type": "stream",
     "text": [
      "Time to: Calculate Ground State - 1.52s, Get Pauli Ops - 6.05s, Calculate Pauli Expectation Values - 14.86s, Calculate Covariance - 2.54s\n",
      "f0,f1,f2 = [4.165103303250033e-09, 4.165103303229665e-09, 4.165103303253134e-09]\n",
      "d01,d02,d12 = [0.9350428829329345, 0.9350428829332965, 0.9350428829330933]\n"
     ]
    },
    {
     "name": "stderr",
     "output_type": "stream",
     "text": [
      "Progress:   2%|▏         | 9/500 [03:35<3:16:45, 24.04s/it]"
     ]
    },
    {
     "name": "stdout",
     "output_type": "stream",
     "text": [
      "Time to: Calculate Ground State - 1.54s, Get Pauli Ops - 7.03s, Calculate Pauli Expectation Values - 11.46s, Calculate Covariance - 2.6s\n",
      "f0,f1,f2 = [2.170518279837954e-09, 2.1705182798755336e-09, 2.170518279831402e-09]\n",
      "d01,d02,d12 = [0.9586973863330551, 0.958697386333549, 0.9586973863332259]\n"
     ]
    },
    {
     "name": "stderr",
     "output_type": "stream",
     "text": [
      "Progress:   2%|▏         | 10/500 [03:56<3:10:22, 23.31s/it]"
     ]
    },
    {
     "name": "stdout",
     "output_type": "stream",
     "text": [
      "Time to: Calculate Ground State - 1.53s, Get Pauli Ops - 6.45s, Calculate Pauli Expectation Values - 10.7s, Calculate Covariance - 2.98s\n",
      "f0,f1,f2 = [3.4597383881735517e-09, 3.4597383881688996e-09, 3.4597383881667783e-09]\n",
      "d01,d02,d12 = [0.9827823466938386, 0.9827823466945028, 0.9827823466940362]\n"
     ]
    },
    {
     "name": "stderr",
     "output_type": "stream",
     "text": [
      "Progress:   2%|▏         | 11/500 [04:18<3:06:06, 22.84s/it]"
     ]
    },
    {
     "name": "stdout",
     "output_type": "stream",
     "text": [
      "Time to: Calculate Ground State - 1.57s, Get Pauli Ops - 6.0s, Calculate Pauli Expectation Values - 11.05s, Calculate Covariance - 3.12s\n",
      "f0,f1,f2 = [1.0664128807710064e-09, 1.0664128807806083e-09, 1.0664128807742231e-09]\n",
      "d01,d02,d12 = [1.0062882327009484, 1.0062882327017781, 1.006288232701084]\n"
     ]
    },
    {
     "name": "stderr",
     "output_type": "stream",
     "text": [
      "/cluster/home/mskrabulis/miniconda3/envs/quantech/lib/python3.9/site-packages/pyscf/symm/Dmatrix.py:156: RuntimeWarning: invalid value encountered in arccos\n",
      "  gamma = numpy.arccos(yp.dot(c2[1]))\n",
      "Progress:   2%|▏         | 12/500 [04:39<3:02:27, 22.43s/it]"
     ]
    },
    {
     "name": "stdout",
     "output_type": "stream",
     "text": [
      "Time to: Calculate Ground State - 1.55s, Get Pauli Ops - 6.32s, Calculate Pauli Expectation Values - 10.96s, Calculate Covariance - 2.67s\n",
      "f0,f1,f2 = [5.597589715460681e-10, 5.597589715165022e-10, 5.597589715127778e-10]\n",
      "d01,d02,d12 = [1.0290295728381527, 1.0290295728390768, 1.0290295728381849]\n"
     ]
    },
    {
     "name": "stderr",
     "output_type": "stream",
     "text": [
      "Progress:   3%|▎         | 13/500 [05:01<2:59:15, 22.08s/it]"
     ]
    },
    {
     "name": "stdout",
     "output_type": "stream",
     "text": [
      "Time to: Calculate Ground State - 1.57s, Get Pauli Ops - 6.0s, Calculate Pauli Expectation Values - 10.61s, Calculate Covariance - 3.09s\n",
      "f0,f1,f2 = [8.084715975225636e-10, 8.084715975228037e-10, 8.084715974963805e-10]\n",
      "d01,d02,d12 = [1.051140990896468, 1.0511409908975553, 1.0511409908964235]\n"
     ]
    },
    {
     "name": "stderr",
     "output_type": "stream",
     "text": [
      "Progress:   3%|▎         | 14/500 [05:24<3:02:46, 22.56s/it]"
     ]
    },
    {
     "name": "stdout",
     "output_type": "stream",
     "text": [
      "Time to: Calculate Ground State - 1.57s, Get Pauli Ops - 7.35s, Calculate Pauli Expectation Values - 11.65s, Calculate Covariance - 3.1s\n",
      "f0,f1,f2 = [1.3287964305787994e-09, 1.3287964305479377e-09, 1.3287964305147857e-09]\n",
      "d01,d02,d12 = [1.0717607431129585, 1.071760743114165, 1.071760743112819]\n"
     ]
    },
    {
     "name": "stderr",
     "output_type": "stream",
     "text": [
      "/cluster/home/mskrabulis/miniconda3/envs/quantech/lib/python3.9/site-packages/pyscf/symm/Dmatrix.py:156: RuntimeWarning: invalid value encountered in arccos\n",
      "  gamma = numpy.arccos(yp.dot(c2[1]))\n",
      "Progress:   3%|▎         | 15/500 [05:51<3:11:24, 23.68s/it]"
     ]
    },
    {
     "name": "stdout",
     "output_type": "stream",
     "text": [
      "Time to: Calculate Ground State - 1.73s, Get Pauli Ops - 8.23s, Calculate Pauli Expectation Values - 13.31s, Calculate Covariance - 2.98s\n",
      "f0,f1,f2 = [1.9421749625270044e-09, 1.942174962541429e-09, 1.9421749625462566e-09]\n",
      "d01,d02,d12 = [1.0906956146401774, 1.0906956146415665, 1.0906956146399054]\n"
     ]
    },
    {
     "name": "stderr",
     "output_type": "stream",
     "text": [
      "Progress:   3%|▎         | 16/500 [06:16<3:14:02, 24.06s/it]"
     ]
    },
    {
     "name": "stdout",
     "output_type": "stream",
     "text": [
      "Time to: Calculate Ground State - 1.59s, Get Pauli Ops - 9.17s, Calculate Pauli Expectation Values - 11.04s, Calculate Covariance - 3.12s\n",
      "f0,f1,f2 = [3.823980737099708e-09, 3.823980737115071e-09, 3.823980737076821e-09]\n",
      "d01,d02,d12 = [1.1072345171345663, 1.1072345171362294, 1.107234517134203]\n"
     ]
    },
    {
     "name": "stderr",
     "output_type": "stream",
     "text": [
      "/cluster/home/mskrabulis/miniconda3/envs/quantech/lib/python3.9/site-packages/pyscf/symm/Dmatrix.py:156: RuntimeWarning: invalid value encountered in arccos\n",
      "  gamma = numpy.arccos(yp.dot(c2[1]))\n",
      "Progress:   3%|▎         | 17/500 [06:41<3:17:49, 24.58s/it]"
     ]
    },
    {
     "name": "stdout",
     "output_type": "stream",
     "text": [
      "Time to: Calculate Ground State - 1.57s, Get Pauli Ops - 10.77s, Calculate Pauli Expectation Values - 10.83s, Calculate Covariance - 2.61s\n",
      "f0,f1,f2 = [3.979922199295032e-09, 3.97992219931343e-09, 3.979922199334059e-09]\n",
      "d01,d02,d12 = [1.1214132742141862, 1.1214132742161547, 1.1214132742137273]\n"
     ]
    },
    {
     "name": "stderr",
     "output_type": "stream",
     "text": [
      "/cluster/home/mskrabulis/miniconda3/envs/quantech/lib/python3.9/site-packages/pyscf/symm/Dmatrix.py:156: RuntimeWarning: invalid value encountered in arccos\n",
      "  gamma = numpy.arccos(yp.dot(c2[1]))\n",
      "Progress:   4%|▎         | 18/500 [07:03<3:10:43, 23.74s/it]"
     ]
    },
    {
     "name": "stdout",
     "output_type": "stream",
     "text": [
      "Time to: Calculate Ground State - 1.57s, Get Pauli Ops - 5.86s, Calculate Pauli Expectation Values - 11.7s, Calculate Covariance - 2.65s\n",
      "f0,f1,f2 = [3.6353499302263002e-09, 3.6353499302145183e-09, 3.6353499302339475e-09]\n",
      "d01,d02,d12 = [1.1334744963287404, 1.133474496331032, 1.133474496328172]\n"
     ]
    },
    {
     "name": "stderr",
     "output_type": "stream",
     "text": [
      "Progress:   4%|▍         | 19/500 [07:28<3:13:21, 24.12s/it]"
     ]
    },
    {
     "name": "stdout",
     "output_type": "stream",
     "text": [
      "Time to: Calculate Ground State - 1.55s, Get Pauli Ops - 9.34s, Calculate Pauli Expectation Values - 10.98s, Calculate Covariance - 3.12s\n",
      "f0,f1,f2 = [3.0824419493017782e-09, 3.082441949260958e-09, 3.0824419493196073e-09]\n",
      "d01,d02,d12 = [1.1437307976802042, 1.1437307976827507, 1.1437307976794988]\n"
     ]
    },
    {
     "name": "stderr",
     "output_type": "stream",
     "text": [
      "Progress:   4%|▍         | 20/500 [07:54<3:16:46, 24.60s/it]"
     ]
    },
    {
     "name": "stdout",
     "output_type": "stream",
     "text": [
      "Time to: Calculate Ground State - 1.71s, Get Pauli Ops - 6.72s, Calculate Pauli Expectation Values - 14.93s, Calculate Covariance - 2.34s\n",
      "f0,f1,f2 = [4.090018653260268e-09, 4.090018653219553e-09, 4.090018653216171e-09]\n",
      "d01,d02,d12 = [1.151842267316748, 1.1518422673195754, 1.1518422673159001]\n"
     ]
    },
    {
     "name": "stderr",
     "output_type": "stream",
     "text": [
      "/cluster/home/mskrabulis/miniconda3/envs/quantech/lib/python3.9/site-packages/pyscf/symm/Dmatrix.py:156: RuntimeWarning: invalid value encountered in arccos\n",
      "  gamma = numpy.arccos(yp.dot(c2[1]))\n",
      "Progress:   4%|▍         | 21/500 [08:17<3:13:13, 24.20s/it]"
     ]
    },
    {
     "name": "stdout",
     "output_type": "stream",
     "text": [
      "Time to: Calculate Ground State - 0.98s, Get Pauli Ops - 9.76s, Calculate Pauli Expectation Values - 10.85s, Calculate Covariance - 1.69s\n",
      "f0,f1,f2 = [4.0334808691682024e-09, 4.033480869156252e-09, 4.0334808691566095e-09]\n",
      "d01,d02,d12 = [1.1579256486377008, 1.1579256486408422, 1.1579256486367608]\n"
     ]
    },
    {
     "name": "stderr",
     "output_type": "stream",
     "text": [
      "Progress:   4%|▍         | 22/500 [08:38<3:03:41, 23.06s/it]"
     ]
    },
    {
     "name": "stdout",
     "output_type": "stream",
     "text": [
      "Time to: Calculate Ground State - 0.87s, Get Pauli Ops - 5.82s, Calculate Pauli Expectation Values - 10.93s, Calculate Covariance - 2.76s\n",
      "f0,f1,f2 = [5.820603732729488e-09, 5.820603732688668e-09, 5.820603732706846e-09]\n",
      "d01,d02,d12 = [1.161327995972279, 1.1613279959757214, 1.161327995971245]\n"
     ]
    },
    {
     "name": "stderr",
     "output_type": "stream",
     "text": [
      "/cluster/home/mskrabulis/miniconda3/envs/quantech/lib/python3.9/site-packages/pyscf/symm/Dmatrix.py:156: RuntimeWarning: invalid value encountered in arccos\n",
      "  gamma = numpy.arccos(yp.dot(c2[1]))\n",
      "Progress:   5%|▍         | 23/500 [08:57<2:55:24, 22.06s/it]"
     ]
    },
    {
     "name": "stdout",
     "output_type": "stream",
     "text": [
      "Time to: Calculate Ground State - 0.87s, Get Pauli Ops - 6.09s, Calculate Pauli Expectation Values - 10.35s, Calculate Covariance - 2.42s\n",
      "f0,f1,f2 = [4.408808898859267e-09, 4.408808898850859e-09, 4.408808898944789e-09]\n",
      "d01,d02,d12 = [1.1627522924995386, 1.1627522925032563, 1.1627522924983813]\n"
     ]
    },
    {
     "name": "stderr",
     "output_type": "stream",
     "text": [
      "/cluster/home/mskrabulis/miniconda3/envs/quantech/lib/python3.9/site-packages/pyscf/symm/Dmatrix.py:156: RuntimeWarning: invalid value encountered in arccos\n",
      "  gamma = numpy.arccos(yp.dot(c2[1]))\n",
      "Progress:   5%|▍         | 24/500 [09:23<3:03:44, 23.16s/it]"
     ]
    },
    {
     "name": "stdout",
     "output_type": "stream",
     "text": [
      "Time to: Calculate Ground State - 1.5s, Get Pauli Ops - 6.98s, Calculate Pauli Expectation Values - 14.47s, Calculate Covariance - 2.75s\n",
      "f0,f1,f2 = [4.535117493760319e-09, 4.535117493720469e-09, 4.5351174937521435e-09]\n",
      "d01,d02,d12 = [1.1622327511153634, 1.1622327511193287, 1.1622327511140684]\n"
     ]
    },
    {
     "name": "stderr",
     "output_type": "stream",
     "text": [
      "Progress:   5%|▌         | 25/500 [09:47<3:05:52, 23.48s/it]"
     ]
    },
    {
     "name": "stdout",
     "output_type": "stream",
     "text": [
      "Time to: Calculate Ground State - 1.52s, Get Pauli Ops - 9.43s, Calculate Pauli Expectation Values - 10.86s, Calculate Covariance - 2.4s\n",
      "f0,f1,f2 = [3.441970678071516e-09, 3.4419706780764614e-09, 3.4419706780594525e-09]\n",
      "d01,d02,d12 = [1.1603080209180883, 1.1603080209223078, 1.160308020916657]\n"
     ]
    },
    {
     "name": "stderr",
     "output_type": "stream",
     "text": [
      "/cluster/home/mskrabulis/miniconda3/envs/quantech/lib/python3.9/site-packages/pyscf/symm/Dmatrix.py:156: RuntimeWarning: invalid value encountered in arccos\n",
      "  gamma = numpy.arccos(yp.dot(c2[1]))\n",
      "Progress:   5%|▌         | 26/500 [10:09<3:00:36, 22.86s/it]"
     ]
    },
    {
     "name": "stdout",
     "output_type": "stream",
     "text": [
      "Time to: Calculate Ground State - 1.04s, Get Pauli Ops - 7.65s, Calculate Pauli Expectation Values - 10.99s, Calculate Covariance - 1.73s\n",
      "f0,f1,f2 = [6.095643623408936e-09, 6.095643623360767e-09, 6.095643623401691e-09]\n",
      "d01,d02,d12 = [1.1559387154857652, 1.155938715490211, 1.15593871548421]\n"
     ]
    },
    {
     "name": "stderr",
     "output_type": "stream",
     "text": [
      "Progress:   5%|▌         | 27/500 [10:32<3:01:38, 23.04s/it]"
     ]
    },
    {
     "name": "stdout",
     "output_type": "stream",
     "text": [
      "Time to: Calculate Ground State - 0.89s, Get Pauli Ops - 6.8s, Calculate Pauli Expectation Values - 12.99s, Calculate Covariance - 2.77s\n",
      "f0,f1,f2 = [3.3130400939618975e-09, 3.313040093937942e-09, 3.3130400939584544e-09]\n",
      "d01,d02,d12 = [1.1503861541963583, 1.1503861542010223, 1.1503861541946698]\n"
     ]
    },
    {
     "name": "stderr",
     "output_type": "stream",
     "text": [
      "/cluster/home/mskrabulis/miniconda3/envs/quantech/lib/python3.9/site-packages/pyscf/symm/Dmatrix.py:156: RuntimeWarning: invalid value encountered in arccos\n",
      "  gamma = numpy.arccos(yp.dot(c2[1]))\n",
      "Progress:   6%|▌         | 28/500 [10:55<3:01:43, 23.10s/it]"
     ]
    },
    {
     "name": "stdout",
     "output_type": "stream",
     "text": [
      "Time to: Calculate Ground State - 0.9s, Get Pauli Ops - 9.14s, Calculate Pauli Expectation Values - 11.04s, Calculate Covariance - 2.15s\n",
      "f0,f1,f2 = [4.064146107048094e-09, 4.064146106972092e-09, 4.064146106989627e-09]\n",
      "d01,d02,d12 = [1.1433903180439784, 1.1433903180488543, 1.1433903180421652]\n"
     ]
    },
    {
     "name": "stderr",
     "output_type": "stream",
     "text": [
      "Progress:   6%|▌         | 29/500 [11:18<2:59:18, 22.84s/it]"
     ]
    },
    {
     "name": "stdout",
     "output_type": "stream",
     "text": [
      "Time to: Calculate Ground State - 1.5s, Get Pauli Ops - 6.51s, Calculate Pauli Expectation Values - 11.09s, Calculate Covariance - 3.12s\n",
      "f0,f1,f2 = [3.843940809497378e-09, 3.843940809477735e-09, 3.843940809523849e-09]\n",
      "d01,d02,d12 = [1.1351053669818074, 1.1351053669868922, 1.1351053669798832]\n"
     ]
    },
    {
     "name": "stderr",
     "output_type": "stream",
     "text": [
      "Progress:   6%|▌         | 30/500 [11:41<2:59:21, 22.90s/it]"
     ]
    },
    {
     "name": "stdout",
     "output_type": "stream",
     "text": [
      "Time to: Calculate Ground State - 1.66s, Get Pauli Ops - 7.36s, Calculate Pauli Expectation Values - 10.9s, Calculate Covariance - 3.09s\n",
      "f0,f1,f2 = [4.964737836697257e-09, 4.964737836638285e-09, 4.964737836685982e-09]\n",
      "d01,d02,d12 = [1.1251222176495492, 1.1251222176548443, 1.125122217647522]\n"
     ]
    },
    {
     "name": "stderr",
     "output_type": "stream",
     "text": [
      "Progress:   6%|▌         | 31/500 [12:06<3:04:46, 23.64s/it]"
     ]
    },
    {
     "name": "stdout",
     "output_type": "stream",
     "text": [
      "Time to: Calculate Ground State - 1.54s, Get Pauli Ops - 9.56s, Calculate Pauli Expectation Values - 11.2s, Calculate Covariance - 3.05s\n",
      "f0,f1,f2 = [3.1445806702968207e-09, 3.1445806701989847e-09, 3.1445806702369407e-09]\n",
      "d01,d02,d12 = [1.114269488055479, 1.1142694880609647, 1.1142694880533695]\n"
     ]
    },
    {
     "name": "stderr",
     "output_type": "stream",
     "text": [
      "Progress:   6%|▋         | 32/500 [12:30<3:06:01, 23.85s/it]"
     ]
    },
    {
     "name": "stdout",
     "output_type": "stream",
     "text": [
      "Time to: Calculate Ground State - 1.42s, Get Pauli Ops - 8.52s, Calculate Pauli Expectation Values - 11.36s, Calculate Covariance - 3.03s\n",
      "f0,f1,f2 = [3.6276190277879585e-09, 3.6276190277574165e-09, 3.6276190278025194e-09]\n",
      "d01,d02,d12 = [1.1023776222403008, 1.1023776222459267, 1.1023776222381318]\n"
     ]
    },
    {
     "name": "stderr",
     "output_type": "stream",
     "text": [
      "Progress:   7%|▋         | 33/500 [12:55<3:06:26, 23.95s/it]"
     ]
    },
    {
     "name": "stdout",
     "output_type": "stream",
     "text": [
      "Time to: Calculate Ground State - 1.61s, Get Pauli Ops - 7.11s, Calculate Pauli Expectation Values - 12.39s, Calculate Covariance - 3.08s\n",
      "f0,f1,f2 = [3.05807254640991e-09, 3.0580725462598007e-09, 3.0580725463613027e-09]\n",
      "d01,d02,d12 = [1.0897264644468183, 1.089726464452565, 1.0897264644445779]\n"
     ]
    },
    {
     "name": "stderr",
     "output_type": "stream",
     "text": [
      "Progress:   7%|▋         | 34/500 [13:19<3:06:31, 24.02s/it]"
     ]
    },
    {
     "name": "stdout",
     "output_type": "stream",
     "text": [
      "Time to: Calculate Ground State - 1.57s, Get Pauli Ops - 9.73s, Calculate Pauli Expectation Values - 11.13s, Calculate Covariance - 1.73s\n",
      "f0,f1,f2 = [3.057443670822099e-09, 3.0574436707267805e-09, 3.0574436708721314e-09]\n",
      "d01,d02,d12 = [1.0763476948449275, 1.0763476948507622, 1.076347694842635]\n"
     ]
    },
    {
     "name": "stderr",
     "output_type": "stream",
     "text": [
      "Progress:   7%|▋         | 35/500 [13:41<3:01:50, 23.46s/it]"
     ]
    },
    {
     "name": "stdout",
     "output_type": "stream",
     "text": [
      "Time to: Calculate Ground State - 1.51s, Get Pauli Ops - 6.38s, Calculate Pauli Expectation Values - 11.99s, Calculate Covariance - 2.28s\n",
      "f0,f1,f2 = [2.8916323653346355e-09, 2.8916323652851415e-09, 2.891632365349629e-09]\n",
      "d01,d02,d12 = [1.0623400739713307, 1.062340073977219, 1.0623400739690183]\n"
     ]
    },
    {
     "name": "stderr",
     "output_type": "stream",
     "text": [
      "Progress:   7%|▋         | 36/500 [14:06<3:06:15, 24.09s/it]"
     ]
    },
    {
     "name": "stdout",
     "output_type": "stream",
     "text": [
      "Time to: Calculate Ground State - 1.6s, Get Pauli Ops - 10.14s, Calculate Pauli Expectation Values - 11.34s, Calculate Covariance - 2.45s\n",
      "f0,f1,f2 = [3.0733889254368166e-09, 3.0733889253796064e-09, 3.0733889254179975e-09]\n",
      "d01,d02,d12 = [1.04765392455991, 1.0476539245658105, 1.0476539245575989]\n"
     ]
    },
    {
     "name": "stderr",
     "output_type": "stream",
     "text": [
      "/cluster/home/mskrabulis/miniconda3/envs/quantech/lib/python3.9/site-packages/pyscf/symm/Dmatrix.py:156: RuntimeWarning: invalid value encountered in arccos\n",
      "  gamma = numpy.arccos(yp.dot(c2[1]))\n",
      "Progress:   7%|▋         | 37/500 [14:29<3:01:58, 23.58s/it]"
     ]
    },
    {
     "name": "stdout",
     "output_type": "stream",
     "text": [
      "Time to: Calculate Ground State - 1.53s, Get Pauli Ops - 6.64s, Calculate Pauli Expectation Values - 12.17s, Calculate Covariance - 2.06s\n",
      "f0,f1,f2 = [2.0154628117137308e-09, 2.015462811603671e-09, 2.0154628116659615e-09]\n",
      "d01,d02,d12 = [1.0327560125526, 1.0327560125584538, 1.0327560125503001]\n"
     ]
    },
    {
     "name": "stderr",
     "output_type": "stream",
     "text": [
      "/cluster/home/mskrabulis/miniconda3/envs/quantech/lib/python3.9/site-packages/pyscf/symm/Dmatrix.py:156: RuntimeWarning: invalid value encountered in arccos\n",
      "  gamma = numpy.arccos(yp.dot(c2[1]))\n",
      "Progress:   8%|▊         | 38/500 [14:53<3:02:05, 23.65s/it]"
     ]
    },
    {
     "name": "stdout",
     "output_type": "stream",
     "text": [
      "Time to: Calculate Ground State - 1.11s, Get Pauli Ops - 5.9s, Calculate Pauli Expectation Values - 14.45s, Calculate Covariance - 2.34s\n",
      "f0,f1,f2 = [2.148910039762081e-09, 2.1489100397082298e-09, 2.1489100397583937e-09]\n",
      "d01,d02,d12 = [1.0175991524705252, 1.0175991524762928, 1.0175991524682304]\n"
     ]
    },
    {
     "name": "stderr",
     "output_type": "stream",
     "text": [
      "Progress:   8%|▊         | 39/500 [15:15<2:59:45, 23.40s/it]"
     ]
    },
    {
     "name": "stdout",
     "output_type": "stream",
     "text": [
      "Time to: Calculate Ground State - 0.94s, Get Pauli Ops - 5.71s, Calculate Pauli Expectation Values - 14.45s, Calculate Covariance - 1.7s\n",
      "f0,f1,f2 = [2.318891941332471e-09, 2.3188919411793685e-09, 2.3188919413100456e-09]\n",
      "d01,d02,d12 = [1.002123237295441, 1.0021232373010631, 1.0021232372931832]\n"
     ]
    },
    {
     "name": "stderr",
     "output_type": "stream",
     "text": [
      "/cluster/home/mskrabulis/miniconda3/envs/quantech/lib/python3.9/site-packages/pyscf/symm/Dmatrix.py:156: RuntimeWarning: invalid value encountered in arccos\n",
      "  gamma = numpy.arccos(yp.dot(c2[1]))\n",
      "Progress:   8%|▊         | 40/500 [15:41<3:03:25, 23.93s/it]"
     ]
    },
    {
     "name": "stdout",
     "output_type": "stream",
     "text": [
      "Time to: Calculate Ground State - 0.95s, Get Pauli Ops - 6.39s, Calculate Pauli Expectation Values - 14.92s, Calculate Covariance - 2.88s\n",
      "f0,f1,f2 = [6.575603966472858e-10, 6.575603965206988e-10, 6.575603966423518e-10]\n",
      "d01,d02,d12 = [0.9870307401070373, 0.9870307401124413, 0.9870307401048122]\n"
     ]
    },
    {
     "name": "stderr",
     "output_type": "stream",
     "text": [
      "Progress:   8%|▊         | 41/500 [16:08<3:11:23, 25.02s/it]"
     ]
    },
    {
     "name": "stdout",
     "output_type": "stream",
     "text": [
      "Time to: Calculate Ground State - 1.65s, Get Pauli Ops - 7.02s, Calculate Pauli Expectation Values - 15.8s, Calculate Covariance - 3.09s\n",
      "f0,f1,f2 = [2.040564460031022e-10, 2.040564458473963e-10, 2.040564459216815e-10]\n",
      "d01,d02,d12 = [0.9724936076019234, 0.9724936076070054, 0.9724936075997521]\n"
     ]
    },
    {
     "name": "stderr",
     "output_type": "stream",
     "text": [
      "Progress:   8%|▊         | 42/500 [16:33<3:10:37, 24.97s/it]"
     ]
    },
    {
     "name": "stdout",
     "output_type": "stream",
     "text": [
      "Time to: Calculate Ground State - 1.51s, Get Pauli Ops - 9.4s, Calculate Pauli Expectation Values - 10.83s, Calculate Covariance - 3.12s\n",
      "f0,f1,f2 = [1.88556620493765e-09, 1.8855662050084907e-09, 1.8855662049939687e-09]\n",
      "d01,d02,d12 = [0.9593555821566406, 0.9593555821613897, 0.9593555821545406]\n"
     ]
    },
    {
     "name": "stderr",
     "output_type": "stream",
     "text": [
      "Progress:   9%|▊         | 43/500 [16:58<3:10:30, 25.01s/it]"
     ]
    },
    {
     "name": "stdout",
     "output_type": "stream",
     "text": [
      "Time to: Calculate Ground State - 1.54s, Get Pauli Ops - 9.45s, Calculate Pauli Expectation Values - 11.04s, Calculate Covariance - 3.06s\n",
      "f0,f1,f2 = [1.3417292669446588e-09, 1.3417292670668222e-09, 1.3417292669456746e-09]\n",
      "d01,d02,d12 = [0.9473322652183886, 0.9473322652227745, 0.9473322652163745]\n"
     ]
    },
    {
     "name": "stderr",
     "output_type": "stream",
     "text": [
      "Progress:   9%|▉         | 44/500 [17:24<3:11:28, 25.19s/it]"
     ]
    },
    {
     "name": "stdout",
     "output_type": "stream",
     "text": [
      "Time to: Calculate Ground State - 1.5s, Get Pauli Ops - 6.11s, Calculate Pauli Expectation Values - 15.87s, Calculate Covariance - 2.13s\n",
      "f0,f1,f2 = [1.829970807399272e-09, 1.829970807535493e-09, 1.829970807439644e-09]\n",
      "d01,d02,d12 = [0.9365795684346783, 0.9365795684386612, 0.9365795684327599]\n"
     ]
    },
    {
     "name": "stderr",
     "output_type": "stream",
     "text": [
      "/cluster/home/mskrabulis/miniconda3/envs/quantech/lib/python3.9/site-packages/pyscf/symm/Dmatrix.py:156: RuntimeWarning: invalid value encountered in arccos\n",
      "  gamma = numpy.arccos(yp.dot(c2[1]))\n",
      "Progress:   9%|▉         | 45/500 [17:48<3:08:33, 24.87s/it]"
     ]
    },
    {
     "name": "stdout",
     "output_type": "stream",
     "text": [
      "Time to: Calculate Ground State - 1.64s, Get Pauli Ops - 9.69s, Calculate Pauli Expectation Values - 11.03s, Calculate Covariance - 1.72s\n",
      "f0,f1,f2 = [1.3544997217399308e-09, 1.3544997218567903e-09, 1.3544997217931605e-09]\n",
      "d01,d02,d12 = [0.9268469206939907, 0.9268469206974999, 0.9268469206921621]\n"
     ]
    },
    {
     "name": "stderr",
     "output_type": "stream",
     "text": [
      "/cluster/home/mskrabulis/miniconda3/envs/quantech/lib/python3.9/site-packages/pyscf/symm/Dmatrix.py:156: RuntimeWarning: invalid value encountered in arccos\n",
      "  gamma = numpy.arccos(yp.dot(c2[1]))\n",
      "/cluster/home/mskrabulis/miniconda3/envs/quantech/lib/python3.9/site-packages/pyscf/symm/Dmatrix.py:156: RuntimeWarning: invalid value encountered in arccos\n",
      "  gamma = numpy.arccos(yp.dot(c2[1]))\n",
      "Progress:   9%|▉         | 46/500 [18:11<3:04:43, 24.41s/it]"
     ]
    },
    {
     "name": "stdout",
     "output_type": "stream",
     "text": [
      "Time to: Calculate Ground State - 1.23s, Get Pauli Ops - 5.86s, Calculate Pauli Expectation Values - 13.13s, Calculate Covariance - 3.12s\n",
      "f0,f1,f2 = [2.8980037809042437e-09, 2.898003781081075e-09, 2.898003780954562e-09]\n",
      "d01,d02,d12 = [0.9187319307535504, 0.9187319307565344, 0.9187319307518392]\n"
     ]
    },
    {
     "name": "stderr",
     "output_type": "stream",
     "text": [
      "/cluster/home/mskrabulis/miniconda3/envs/quantech/lib/python3.9/site-packages/pyscf/symm/Dmatrix.py:156: RuntimeWarning: invalid value encountered in arccos\n",
      "  gamma = numpy.arccos(yp.dot(c2[1]))\n",
      "Progress:   9%|▉         | 47/500 [18:33<2:58:16, 23.61s/it]"
     ]
    },
    {
     "name": "stdout",
     "output_type": "stream",
     "text": [
      "Time to: Calculate Ground State - 1.57s, Get Pauli Ops - 6.2s, Calculate Pauli Expectation Values - 10.95s, Calculate Covariance - 3.02s\n",
      "f0,f1,f2 = [3.574788376241034e-09, 3.574788376355938e-09, 3.5747883762661167e-09]\n",
      "d01,d02,d12 = [0.9124469142998752, 0.9124469143022936, 0.9124469142982978]\n"
     ]
    },
    {
     "name": "stderr",
     "output_type": "stream",
     "text": [
      "/cluster/home/mskrabulis/miniconda3/envs/quantech/lib/python3.9/site-packages/pyscf/symm/Dmatrix.py:156: RuntimeWarning: invalid value encountered in arccos\n",
      "  gamma = numpy.arccos(yp.dot(c2[1]))\n",
      "Progress:  10%|▉         | 48/500 [18:55<2:54:22, 23.15s/it]"
     ]
    },
    {
     "name": "stdout",
     "output_type": "stream",
     "text": [
      "Time to: Calculate Ground State - 1.56s, Get Pauli Ops - 6.99s, Calculate Pauli Expectation Values - 11.04s, Calculate Covariance - 2.46s\n",
      "f0,f1,f2 = [3.470520243439417e-09, 3.4705202435606142e-09, 3.470520243503401e-09]\n",
      "d01,d02,d12 = [0.9078707685753317, 0.9078707685771572, 0.907870768573922]\n"
     ]
    },
    {
     "name": "stderr",
     "output_type": "stream",
     "text": [
      "Progress:  10%|▉         | 49/500 [19:19<2:55:52, 23.40s/it]"
     ]
    },
    {
     "name": "stdout",
     "output_type": "stream",
     "text": [
      "Time to: Calculate Ground State - 1.55s, Get Pauli Ops - 6.7s, Calculate Pauli Expectation Values - 12.73s, Calculate Covariance - 2.99s\n",
      "f0,f1,f2 = [3.1752082535803877e-09, 3.1752082537028013e-09, 3.1752082535841923e-09]\n",
      "d01,d02,d12 = [0.9048080393367032, 0.9048080393378936, 0.9048080393354758]\n"
     ]
    },
    {
     "name": "stderr",
     "output_type": "stream",
     "text": [
      "/cluster/home/mskrabulis/miniconda3/envs/quantech/lib/python3.9/site-packages/pyscf/symm/Dmatrix.py:156: RuntimeWarning: invalid value encountered in arccos\n",
      "  gamma = numpy.arccos(yp.dot(c2[1]))\n",
      "Progress:  10%|█         | 50/500 [19:43<2:57:47, 23.71s/it]"
     ]
    },
    {
     "name": "stdout",
     "output_type": "stream",
     "text": [
      "Time to: Calculate Ground State - 1.73s, Get Pauli Ops - 6.98s, Calculate Pauli Expectation Values - 12.98s, Calculate Covariance - 2.73s\n",
      "f0,f1,f2 = [4.200415420530474e-09, 4.2004154205661614e-09, 4.20041542056597e-09]\n",
      "d01,d02,d12 = [0.9036192833449336, 0.9036192833454784, 0.9036192833438877]\n"
     ]
    },
    {
     "name": "stderr",
     "output_type": "stream",
     "text": [
      "Progress:  10%|█         | 51/500 [20:12<3:08:51, 25.24s/it]"
     ]
    },
    {
     "name": "stdout",
     "output_type": "stream",
     "text": [
      "Time to: Calculate Ground State - 1.69s, Get Pauli Ops - 7.09s, Calculate Pauli Expectation Values - 17.61s, Calculate Covariance - 2.42s\n",
      "f0,f1,f2 = [4.105210687072806e-09, 4.105210687080235e-09, 4.1052106870760014e-09]\n",
      "d01,d02,d12 = [0.904184634138419, 0.9041846341383148, 0.9041846341375674]\n"
     ]
    },
    {
     "name": "stderr",
     "output_type": "stream",
     "text": [
      "Progress:  10%|█         | 52/500 [20:37<3:08:18, 25.22s/it]"
     ]
    },
    {
     "name": "stdout",
     "output_type": "stream",
     "text": [
      "Time to: Calculate Ground State - 0.95s, Get Pauli Ops - 6.86s, Calculate Pauli Expectation Values - 15.4s, Calculate Covariance - 1.95s\n",
      "f0,f1,f2 = [2.7141001641052914e-09, 2.7141001641290406e-09, 2.7141001641593907e-09]\n",
      "d01,d02,d12 = [0.9058517079495922, 0.905851707948848, 0.9058517079489543]\n"
     ]
    },
    {
     "name": "stderr",
     "output_type": "stream",
     "text": [
      "Progress:  11%|█         | 53/500 [20:58<2:58:12, 23.92s/it]"
     ]
    },
    {
     "name": "stdout",
     "output_type": "stream",
     "text": [
      "Time to: Calculate Ground State - 0.96s, Get Pauli Ops - 5.88s, Calculate Pauli Expectation Values - 10.99s, Calculate Covariance - 3.05s\n",
      "f0,f1,f2 = [3.395657930049478e-09, 3.395657930006393e-09, 3.3956579300477923e-09]\n",
      "d01,d02,d12 = [0.9088560218208375, 0.9088560218194675, 0.9088560218204138]\n"
     ]
    },
    {
     "name": "stderr",
     "output_type": "stream",
     "text": [
      "/cluster/home/mskrabulis/miniconda3/envs/quantech/lib/python3.9/site-packages/pyscf/symm/Dmatrix.py:156: RuntimeWarning: invalid value encountered in arccos\n",
      "  gamma = numpy.arccos(yp.dot(c2[1]))\n",
      "Progress:  11%|█         | 54/500 [21:24<3:01:19, 24.39s/it]"
     ]
    },
    {
     "name": "stdout",
     "output_type": "stream",
     "text": [
      "Time to: Calculate Ground State - 1.57s, Get Pauli Ops - 5.94s, Calculate Pauli Expectation Values - 14.97s, Calculate Covariance - 3.01s\n",
      "f0,f1,f2 = [3.979024523094333e-09, 3.979024523086903e-09, 3.979024523046805e-09]\n",
      "d01,d02,d12 = [0.9133823453644362, 0.9133823453624443, 0.9133823453642199]\n"
     ]
    },
    {
     "name": "stderr",
     "output_type": "stream",
     "text": [
      "Progress:  11%|█         | 55/500 [21:45<2:53:55, 23.45s/it]"
     ]
    },
    {
     "name": "stdout",
     "output_type": "stream",
     "text": [
      "Time to: Calculate Ground State - 1.55s, Get Pauli Ops - 6.54s, Calculate Pauli Expectation Values - 10.73s, Calculate Covariance - 2.41s\n",
      "f0,f1,f2 = [1.7144724771009655e-09, 1.7144724770570126e-09, 1.7144724770832725e-09]\n",
      "d01,d02,d12 = [0.9184261955986508, 0.9184261955960448, 0.9184261955986259]\n"
     ]
    },
    {
     "name": "stderr",
     "output_type": "stream",
     "text": [
      "/cluster/home/mskrabulis/miniconda3/envs/quantech/lib/python3.9/site-packages/pyscf/symm/Dmatrix.py:156: RuntimeWarning: invalid value encountered in arccos\n",
      "  gamma = numpy.arccos(yp.dot(c2[1]))\n",
      "Progress:  11%|█         | 56/500 [22:10<2:55:52, 23.77s/it]"
     ]
    },
    {
     "name": "stdout",
     "output_type": "stream",
     "text": [
      "Time to: Calculate Ground State - 1.59s, Get Pauli Ops - 9.48s, Calculate Pauli Expectation Values - 11.03s, Calculate Covariance - 2.39s\n",
      "f0,f1,f2 = [3.5970933696237684e-09, 3.5970933695460958e-09, 3.5970933696084743e-09]\n",
      "d01,d02,d12 = [0.9247466982052776, 0.9247466982020922, 0.9247466982054511]\n"
     ]
    },
    {
     "name": "stderr",
     "output_type": "stream",
     "text": [
      "Progress:  11%|█▏        | 57/500 [22:31<2:50:25, 23.08s/it]"
     ]
    },
    {
     "name": "stdout",
     "output_type": "stream",
     "text": [
      "Time to: Calculate Ground State - 1.53s, Get Pauli Ops - 6.51s, Calculate Pauli Expectation Values - 10.93s, Calculate Covariance - 2.51s\n",
      "f0,f1,f2 = [2.049519158769431e-09, 2.0495191587213005e-09, 2.049519158769008e-09]\n",
      "d01,d02,d12 = [0.931647600889483, 0.9316476008857417, 0.9316476008898382]\n"
     ]
    },
    {
     "name": "stderr",
     "output_type": "stream",
     "text": [
      "/cluster/home/mskrabulis/miniconda3/envs/quantech/lib/python3.9/site-packages/pyscf/symm/Dmatrix.py:156: RuntimeWarning: invalid value encountered in arccos\n",
      "  gamma = numpy.arccos(yp.dot(c2[1]))\n",
      "Progress:  12%|█▏        | 58/500 [22:55<2:52:16, 23.39s/it]"
     ]
    },
    {
     "name": "stdout",
     "output_type": "stream",
     "text": [
      "Time to: Calculate Ground State - 1.52s, Get Pauli Ops - 5.99s, Calculate Pauli Expectation Values - 14.46s, Calculate Covariance - 2.13s\n",
      "f0,f1,f2 = [3.6095176504052393e-09, 3.6095176503393507e-09, 3.6095176503726025e-09]\n",
      "d01,d02,d12 = [0.9397516945496387, 0.9397516945453713, 0.9397516945501796]\n"
     ]
    },
    {
     "name": "stderr",
     "output_type": "stream",
     "text": [
      "Progress:  12%|█▏        | 59/500 [23:17<2:47:39, 22.81s/it]"
     ]
    },
    {
     "name": "stdout",
     "output_type": "stream",
     "text": [
      "Time to: Calculate Ground State - 1.5s, Get Pauli Ops - 6.06s, Calculate Pauli Expectation Values - 11.11s, Calculate Covariance - 2.78s\n",
      "f0,f1,f2 = [1.425623020284025e-09, 1.4256230201667698e-09, 1.4256230202865907e-09]\n",
      "d01,d02,d12 = [0.9481021267558088, 0.9481021267510557, 0.9481021267565293]\n"
     ]
    },
    {
     "name": "stderr",
     "output_type": "stream",
     "text": [
      "/cluster/home/mskrabulis/miniconda3/envs/quantech/lib/python3.9/site-packages/pyscf/symm/Dmatrix.py:156: RuntimeWarning: invalid value encountered in arccos\n",
      "  gamma = numpy.arccos(yp.dot(c2[1]))\n",
      "Progress:  12%|█▏        | 60/500 [23:42<2:53:09, 23.61s/it]"
     ]
    },
    {
     "name": "stdout",
     "output_type": "stream",
     "text": [
      "Time to: Calculate Ground State - 0.94s, Get Pauli Ops - 6.82s, Calculate Pauli Expectation Values - 15.38s, Calculate Covariance - 2.33s\n",
      "f0,f1,f2 = [2.6074911063602993e-09, 2.6074911062675066e-09, 2.6074911063549474e-09]\n",
      "d01,d02,d12 = [0.9571791445235438, 0.9571791445183446, 0.9571791445244329]\n"
     ]
    },
    {
     "name": "stderr",
     "output_type": "stream",
     "text": [
      "Progress:  12%|█▏        | 61/500 [24:03<2:46:21, 22.74s/it]"
     ]
    },
    {
     "name": "stdout",
     "output_type": "stream",
     "text": [
      "Time to: Calculate Ground State - 1.57s, Get Pauli Ops - 5.7s, Calculate Pauli Expectation Values - 10.55s, Calculate Covariance - 2.86s\n",
      "f0,f1,f2 = [1.9224853682182988e-09, 1.9224853681635593e-09, 1.9224853682399266e-09]\n",
      "d01,d02,d12 = [0.966668071774986, 0.9666680717693469, 0.9666680717760398]\n"
     ]
    },
    {
     "name": "stderr",
     "output_type": "stream",
     "text": [
      "/cluster/home/mskrabulis/miniconda3/envs/quantech/lib/python3.9/site-packages/pyscf/symm/Dmatrix.py:156: RuntimeWarning: invalid value encountered in arccos\n",
      "  gamma = numpy.arccos(yp.dot(c2[1]))\n",
      "Progress:  12%|█▏        | 62/500 [24:28<2:51:56, 23.55s/it]"
     ]
    },
    {
     "name": "stdout",
     "output_type": "stream",
     "text": [
      "Time to: Calculate Ground State - 1.58s, Get Pauli Ops - 6.68s, Calculate Pauli Expectation Values - 15.48s, Calculate Covariance - 1.72s\n",
      "f0,f1,f2 = [1.6369388830312413e-09, 1.6369388829518378e-09, 1.6369388830381235e-09]\n",
      "d01,d02,d12 = [0.9764332933230396, 0.9764332933169672, 0.9764332933242561]\n"
     ]
    },
    {
     "name": "stderr",
     "output_type": "stream",
     "text": [
      "Progress:  13%|█▎        | 63/500 [24:53<2:54:33, 23.97s/it]"
     ]
    },
    {
     "name": "stdout",
     "output_type": "stream",
     "text": [
      "Time to: Calculate Ground State - 1.56s, Get Pauli Ops - 5.7s, Calculate Pauli Expectation Values - 15.08s, Calculate Covariance - 2.58s\n",
      "f0,f1,f2 = [8.591225785003159e-10, 8.591225786393647e-10, 8.591225785940723e-10]\n",
      "d01,d02,d12 = [0.9854278208622014, 0.9854278208557314, 0.9854278208635923]\n"
     ]
    },
    {
     "name": "stderr",
     "output_type": "stream",
     "text": [
      "/cluster/home/mskrabulis/miniconda3/envs/quantech/lib/python3.9/site-packages/pyscf/symm/Dmatrix.py:156: RuntimeWarning: invalid value encountered in arccos\n",
      "  gamma = numpy.arccos(yp.dot(c2[1]))\n",
      "Progress:  13%|█▎        | 64/500 [25:17<2:54:44, 24.05s/it]"
     ]
    },
    {
     "name": "stdout",
     "output_type": "stream",
     "text": [
      "Time to: Calculate Ground State - 1.21s, Get Pauli Ops - 9.34s, Calculate Pauli Expectation Values - 11.24s, Calculate Covariance - 2.43s\n",
      "f0,f1,f2 = [2.245617969262268e-12, 2.245617801251942e-12, 2.245617893680906e-12]\n",
      "d01,d02,d12 = [0.9940418372191141, 0.9940418372122529, 0.994041837220623]\n"
     ]
    },
    {
     "name": "stderr",
     "output_type": "stream",
     "text": [
      "Progress:  13%|█▎        | 65/500 [25:43<2:58:25, 24.61s/it]"
     ]
    },
    {
     "name": "stdout",
     "output_type": "stream",
     "text": [
      "Time to: Calculate Ground State - 1.57s, Get Pauli Ops - 10.19s, Calculate Pauli Expectation Values - 11.22s, Calculate Covariance - 2.94s\n",
      "f0,f1,f2 = [9.782157828046816e-10, 9.782157826546556e-10, 9.782157827809425e-10]\n",
      "d01,d02,d12 = [1.002696430023705, 1.0026964300164813, 1.0026964300253376]\n"
     ]
    },
    {
     "name": "stderr",
     "output_type": "stream",
     "text": [
      "/cluster/home/mskrabulis/miniconda3/envs/quantech/lib/python3.9/site-packages/pyscf/symm/Dmatrix.py:156: RuntimeWarning: invalid value encountered in arccos\n",
      "  gamma = numpy.arccos(yp.dot(c2[1]))\n",
      "Progress:  13%|█▎        | 66/500 [26:08<2:58:23, 24.66s/it]"
     ]
    },
    {
     "name": "stdout",
     "output_type": "stream",
     "text": [
      "Time to: Calculate Ground State - 0.99s, Get Pauli Ops - 5.72s, Calculate Pauli Expectation Values - 15.18s, Calculate Covariance - 2.88s\n",
      "f0,f1,f2 = [5.245594554308248e-11, 5.245594572506804e-11, 5.2455945620612654e-11]\n",
      "d01,d02,d12 = [1.0109622835477359, 1.0109622835401912, 1.0109622835494718]\n"
     ]
    },
    {
     "name": "stderr",
     "output_type": "stream",
     "text": [
      "Progress:  13%|█▎        | 67/500 [26:33<2:58:43, 24.77s/it]"
     ]
    },
    {
     "name": "stdout",
     "output_type": "stream",
     "text": [
      "Time to: Calculate Ground State - 1.6s, Get Pauli Ops - 9.28s, Calculate Pauli Expectation Values - 11.03s, Calculate Covariance - 3.08s\n",
      "f0,f1,f2 = [2.1224604968181136e-09, 2.122460496934859e-09, 2.1224604968835547e-09]\n",
      "d01,d02,d12 = [1.0179970516157506, 1.0179970516079349, 1.0179970516175763]\n"
     ]
    },
    {
     "name": "stderr",
     "output_type": "stream",
     "text": [
      "Progress:  14%|█▎        | 68/500 [26:55<2:52:34, 23.97s/it]"
     ]
    },
    {
     "name": "stdout",
     "output_type": "stream",
     "text": [
      "Time to: Calculate Ground State - 1.58s, Get Pauli Ops - 6.96s, Calculate Pauli Expectation Values - 10.99s, Calculate Covariance - 2.56s\n",
      "f0,f1,f2 = [8.633466717782319e-10, 8.633466719165829e-10, 8.633466717423351e-10]\n",
      "d01,d02,d12 = [1.0243752234506855, 1.0243752234426478, 1.024375223452626]\n"
     ]
    },
    {
     "name": "stderr",
     "output_type": "stream",
     "text": [
      "Progress:  14%|█▍        | 69/500 [27:21<2:56:39, 24.59s/it]"
     ]
    },
    {
     "name": "stdout",
     "output_type": "stream",
     "text": [
      "Time to: Calculate Ground State - 1.55s, Get Pauli Ops - 7.18s, Calculate Pauli Expectation Values - 14.25s, Calculate Covariance - 3.06s\n",
      "f0,f1,f2 = [2.929260479852216e-09, 2.9292604799043133e-09, 2.9292604799245863e-09]\n",
      "d01,d02,d12 = [1.0292674930955956, 1.0292674930873427, 1.0292674930976213]\n"
     ]
    },
    {
     "name": "stderr",
     "output_type": "stream",
     "text": [
      "Progress:  14%|█▍        | 70/500 [27:45<2:53:56, 24.27s/it]"
     ]
    },
    {
     "name": "stdout",
     "output_type": "stream",
     "text": [
      "Time to: Calculate Ground State - 1.68s, Get Pauli Ops - 5.9s, Calculate Pauli Expectation Values - 12.85s, Calculate Covariance - 3.07s\n",
      "f0,f1,f2 = [1.7391428790516669e-09, 1.7391428791328234e-09, 1.73914287907865e-09]\n",
      "d01,d02,d12 = [1.0332305868052623, 1.033230586796818, 1.0332305868073661]\n"
     ]
    },
    {
     "name": "stderr",
     "output_type": "stream",
     "text": [
      "Progress:  14%|█▍        | 71/500 [28:07<2:49:01, 23.64s/it]"
     ]
    },
    {
     "name": "stdout",
     "output_type": "stream",
     "text": [
      "Time to: Calculate Ground State - 1.54s, Get Pauli Ops - 6.96s, Calculate Pauli Expectation Values - 10.63s, Calculate Covariance - 3.01s\n",
      "f0,f1,f2 = [6.360649282315746e-10, 6.360649283393115e-10, 6.360649282536288e-10]\n",
      "d01,d02,d12 = [1.0367615248908086, 1.0367615248822022, 1.036761524892974]\n"
     ]
    },
    {
     "name": "stderr",
     "output_type": "stream",
     "text": [
      "Progress:  14%|█▍        | 72/500 [28:31<2:49:53, 23.82s/it]"
     ]
    },
    {
     "name": "stdout",
     "output_type": "stream",
     "text": [
      "Time to: Calculate Ground State - 1.38s, Get Pauli Ops - 6.01s, Calculate Pauli Expectation Values - 14.04s, Calculate Covariance - 2.79s\n",
      "f0,f1,f2 = [1.0205277168406427e-10, 1.0205277180916628e-10, 1.0205277168942352e-10]\n",
      "d01,d02,d12 = [1.0401001569099728, 1.0401001569012225, 1.0401001569121886]\n"
     ]
    },
    {
     "name": "stderr",
     "output_type": "stream",
     "text": [
      "/cluster/home/mskrabulis/miniconda3/envs/quantech/lib/python3.9/site-packages/pyscf/symm/Dmatrix.py:156: RuntimeWarning: invalid value encountered in arccos\n",
      "  gamma = numpy.arccos(yp.dot(c2[1]))\n",
      "Progress:  15%|█▍        | 73/500 [28:53<2:44:11, 23.07s/it]"
     ]
    },
    {
     "name": "stdout",
     "output_type": "stream",
     "text": [
      "Time to: Calculate Ground State - 1.5s, Get Pauli Ops - 6.42s, Calculate Pauli Expectation Values - 10.7s, Calculate Covariance - 2.71s\n",
      "f0,f1,f2 = [1.0280074497185682e-09, 1.0280074498567204e-09, 1.0280074496997221e-09]\n",
      "d01,d02,d12 = [1.042870466875525, 1.042870466866687, 1.0428704668777984]\n"
     ]
    },
    {
     "name": "stderr",
     "output_type": "stream",
     "text": [
      "/cluster/home/mskrabulis/miniconda3/envs/quantech/lib/python3.9/site-packages/pyscf/symm/Dmatrix.py:156: RuntimeWarning: invalid value encountered in arccos\n",
      "  gamma = numpy.arccos(yp.dot(c2[1]))\n",
      "Progress:  15%|█▍        | 74/500 [29:14<2:40:41, 22.63s/it]"
     ]
    },
    {
     "name": "stdout",
     "output_type": "stream",
     "text": [
      "Time to: Calculate Ground State - 1.5s, Get Pauli Ops - 6.99s, Calculate Pauli Expectation Values - 10.5s, Calculate Covariance - 2.62s\n",
      "f0,f1,f2 = [2.2968729061153755e-09, 2.2968729062533012e-09, 2.296872906135171e-09]\n",
      "d01,d02,d12 = [1.0445701658266295, 1.0445701658177515, 1.0445701658289488]\n"
     ]
    },
    {
     "name": "stderr",
     "output_type": "stream",
     "text": [
      "Progress:  15%|█▌        | 75/500 [29:38<2:41:55, 22.86s/it]"
     ]
    },
    {
     "name": "stdout",
     "output_type": "stream",
     "text": [
      "Time to: Calculate Ground State - 1.68s, Get Pauli Ops - 7.03s, Calculate Pauli Expectation Values - 12.99s, Calculate Covariance - 1.69s\n",
      "f0,f1,f2 = [1.6410914989739952e-09, 1.6410914991377598e-09, 1.6410914990184057e-09]\n",
      "d01,d02,d12 = [1.0455167971056163, 1.045516797096741, 1.0455167971079862]\n"
     ]
    },
    {
     "name": "stderr",
     "output_type": "stream",
     "text": [
      "/cluster/home/mskrabulis/miniconda3/envs/quantech/lib/python3.9/site-packages/pyscf/symm/Dmatrix.py:156: RuntimeWarning: invalid value encountered in arccos\n",
      "  gamma = numpy.arccos(yp.dot(c2[1]))\n",
      "Progress:  15%|█▌        | 76/500 [30:00<2:40:07, 22.66s/it]"
     ]
    },
    {
     "name": "stdout",
     "output_type": "stream",
     "text": [
      "Time to: Calculate Ground State - 1.47s, Get Pauli Ops - 6.47s, Calculate Pauli Expectation Values - 11.23s, Calculate Covariance - 3.01s\n",
      "f0,f1,f2 = [3.608830550400283e-09, 3.6088305505067205e-09, 3.60883055040281e-09]\n",
      "d01,d02,d12 = [1.0449260227413166, 1.0449260227324977, 1.0449260227437271]\n"
     ]
    },
    {
     "name": "stderr",
     "output_type": "stream",
     "text": [
      "Progress:  15%|█▌        | 77/500 [30:22<2:39:01, 22.56s/it]"
     ]
    },
    {
     "name": "stdout",
     "output_type": "stream",
     "text": [
      "Time to: Calculate Ground State - 1.5s, Get Pauli Ops - 7.11s, Calculate Pauli Expectation Values - 10.58s, Calculate Covariance - 3.11s\n",
      "f0,f1,f2 = [2.1512816271906792e-09, 2.1512816273463666e-09, 2.151281627272441e-09]\n",
      "d01,d02,d12 = [1.043467872265131, 1.0434678722563933, 1.0434678722675503]\n"
     ]
    },
    {
     "name": "stderr",
     "output_type": "stream",
     "text": [
      "Progress:  16%|█▌        | 78/500 [30:47<2:44:09, 23.34s/it]"
     ]
    },
    {
     "name": "stdout",
     "output_type": "stream",
     "text": [
      "Time to: Calculate Ground State - 1.69s, Get Pauli Ops - 7.39s, Calculate Pauli Expectation Values - 13.02s, Calculate Covariance - 3.05s\n",
      "f0,f1,f2 = [1.2607980853456727e-09, 1.2607980854769952e-09, 1.2607980854132483e-09]\n",
      "d01,d02,d12 = [1.0415486317481628, 1.0415486317395242, 1.041548631750558]\n"
     ]
    },
    {
     "name": "stderr",
     "output_type": "stream",
     "text": [
      "Progress:  16%|█▌        | 79/500 [31:13<2:48:09, 23.97s/it]"
     ]
    },
    {
     "name": "stdout",
     "output_type": "stream",
     "text": [
      "Time to: Calculate Ground State - 1.66s, Get Pauli Ops - 6.76s, Calculate Pauli Expectation Values - 13.94s, Calculate Covariance - 3.06s\n",
      "f0,f1,f2 = [3.0618182451153495e-09, 3.0618182452789187e-09, 3.061818245143137e-09]\n",
      "d01,d02,d12 = [1.0384407063900478, 1.0384407063815713, 1.038440706392414]\n"
     ]
    },
    {
     "name": "stderr",
     "output_type": "stream",
     "text": [
      "Progress:  16%|█▌        | 80/500 [31:35<2:44:14, 23.46s/it]"
     ]
    },
    {
     "name": "stdout",
     "output_type": "stream",
     "text": [
      "Time to: Calculate Ground State - 1.48s, Get Pauli Ops - 6.75s, Calculate Pauli Expectation Values - 11.33s, Calculate Covariance - 2.72s\n",
      "f0,f1,f2 = [2.3041162650939693e-09, 2.3041162651982524e-09, 2.3041162651020136e-09]\n",
      "d01,d02,d12 = [1.0345089098538807, 1.034508909845619, 1.0345089098562041]\n"
     ]
    },
    {
     "name": "stderr",
     "output_type": "stream",
     "text": [
      "/cluster/home/mskrabulis/miniconda3/envs/quantech/lib/python3.9/site-packages/pyscf/symm/Dmatrix.py:156: RuntimeWarning: invalid value encountered in arccos\n",
      "  gamma = numpy.arccos(yp.dot(c2[1]))\n",
      "Progress:  16%|█▌        | 81/500 [31:59<2:45:49, 23.75s/it]"
     ]
    },
    {
     "name": "stdout",
     "output_type": "stream",
     "text": [
      "Time to: Calculate Ground State - 1.65s, Get Pauli Ops - 6.55s, Calculate Pauli Expectation Values - 13.12s, Calculate Covariance - 3.07s\n",
      "f0,f1,f2 = [1.323862904538784e-09, 1.3238629046803981e-09, 1.323862904531136e-09]\n",
      "d01,d02,d12 = [1.0301948559648473, 1.0301948559568586, 1.0301948559671248]\n"
     ]
    },
    {
     "name": "stderr",
     "output_type": "stream",
     "text": [
      "Progress:  16%|█▋        | 82/500 [32:20<2:39:24, 22.88s/it]"
     ]
    },
    {
     "name": "stdout",
     "output_type": "stream",
     "text": [
      "Time to: Calculate Ground State - 1.53s, Get Pauli Ops - 6.16s, Calculate Pauli Expectation Values - 10.45s, Calculate Covariance - 2.72s\n",
      "f0,f1,f2 = [2.4484193976027263e-09, 2.448419397781674e-09, 2.448419397701759e-09]\n",
      "d01,d02,d12 = [1.025048183071748, 1.0250481830641005, 1.025048183073945]\n"
     ]
    },
    {
     "name": "stderr",
     "output_type": "stream",
     "text": [
      "Progress:  17%|█▋        | 83/500 [32:44<2:41:53, 23.29s/it]"
     ]
    },
    {
     "name": "stdout",
     "output_type": "stream",
     "text": [
      "Time to: Calculate Ground State - 1.6s, Get Pauli Ops - 9.18s, Calculate Pauli Expectation Values - 11.23s, Calculate Covariance - 2.24s\n",
      "f0,f1,f2 = [1.7992363741529046e-09, 1.7992363743198784e-09, 1.7992363742026733e-09]\n",
      "d01,d02,d12 = [1.01937348592979, 1.0193734859225465, 1.0193734859318933]\n"
     ]
    },
    {
     "name": "stderr",
     "output_type": "stream",
     "text": [
      "/cluster/home/mskrabulis/miniconda3/envs/quantech/lib/python3.9/site-packages/pyscf/symm/Dmatrix.py:156: RuntimeWarning: invalid value encountered in arccos\n",
      "  gamma = numpy.arccos(yp.dot(c2[1]))\n",
      "Progress:  17%|█▋        | 84/500 [33:05<2:36:29, 22.57s/it]"
     ]
    },
    {
     "name": "stdout",
     "output_type": "stream",
     "text": [
      "Time to: Calculate Ground State - 1.52s, Get Pauli Ops - 6.44s, Calculate Pauli Expectation Values - 10.5s, Calculate Covariance - 2.41s\n",
      "f0,f1,f2 = [1.951860704421305e-09, 1.9518607044896065e-09, 1.9518607044233662e-09]\n",
      "d01,d02,d12 = [1.0131297805184833, 1.0131297805116992, 1.0131297805204837]\n"
     ]
    },
    {
     "name": "stderr",
     "output_type": "stream",
     "text": [
      "/cluster/home/mskrabulis/miniconda3/envs/quantech/lib/python3.9/site-packages/pyscf/symm/Dmatrix.py:156: RuntimeWarning: invalid value encountered in arccos\n",
      "  gamma = numpy.arccos(yp.dot(c2[1]))\n",
      "Progress:  17%|█▋        | 85/500 [33:26<2:33:06, 22.14s/it]"
     ]
    },
    {
     "name": "stdout",
     "output_type": "stream",
     "text": [
      "Time to: Calculate Ground State - 1.52s, Get Pauli Ops - 6.73s, Calculate Pauli Expectation Values - 10.51s, Calculate Covariance - 2.36s\n",
      "f0,f1,f2 = [4.698781306460352e-10, 4.698781305198949e-10, 4.698781306051968e-10]\n",
      "d01,d02,d12 = [1.0073458256248713, 1.0073458256185708, 1.0073458256267522]\n"
     ]
    },
    {
     "name": "stderr",
     "output_type": "stream",
     "text": [
      "Progress:  17%|█▋        | 86/500 [33:48<2:30:35, 21.82s/it]"
     ]
    },
    {
     "name": "stdout",
     "output_type": "stream",
     "text": [
      "Time to: Calculate Ground State - 1.44s, Get Pauli Ops - 6.82s, Calculate Pauli Expectation Values - 10.45s, Calculate Covariance - 2.38s\n",
      "f0,f1,f2 = [1.0074330430239585e-09, 1.0074330431702886e-09, 1.007433043059364e-09]\n",
      "d01,d02,d12 = [1.001389199459574, 1.0013891994538022, 1.0013891994613202]\n"
     ]
    },
    {
     "name": "stderr",
     "output_type": "stream",
     "text": [
      "/cluster/home/mskrabulis/miniconda3/envs/quantech/lib/python3.9/site-packages/pyscf/symm/Dmatrix.py:156: RuntimeWarning: invalid value encountered in arccos\n",
      "  gamma = numpy.arccos(yp.dot(c2[1]))\n",
      "Progress:  17%|█▋        | 87/500 [34:10<2:31:19, 21.98s/it]"
     ]
    },
    {
     "name": "stdout",
     "output_type": "stream",
     "text": [
      "Time to: Calculate Ground State - 1.46s, Get Pauli Ops - 6.87s, Calculate Pauli Expectation Values - 11.21s, Calculate Covariance - 2.81s\n",
      "f0,f1,f2 = [1.764414715755649e-10, 1.764414714261486e-10, 1.7644147149917053e-10]\n",
      "d01,d02,d12 = [0.9957583449300713, 0.9957583449248484, 0.9957583449316589]\n"
     ]
    },
    {
     "name": "stderr",
     "output_type": "stream",
     "text": [
      "Progress:  18%|█▊        | 88/500 [34:31<2:29:23, 21.76s/it]"
     ]
    },
    {
     "name": "stdout",
     "output_type": "stream",
     "text": [
      "Time to: Calculate Ground State - 1.49s, Get Pauli Ops - 6.36s, Calculate Pauli Expectation Values - 10.48s, Calculate Covariance - 2.88s\n",
      "f0,f1,f2 = [3.458072494211744e-10, 3.4580724951282507e-10, 3.4580724943290634e-10]\n",
      "d01,d02,d12 = [0.9902227835670063, 0.9902227835623713, 0.9902227835684372]\n"
     ]
    },
    {
     "name": "stderr",
     "output_type": "stream",
     "text": [
      "/cluster/home/mskrabulis/miniconda3/envs/quantech/lib/python3.9/site-packages/pyscf/symm/Dmatrix.py:156: RuntimeWarning: invalid value encountered in arccos\n",
      "  gamma = numpy.arccos(yp.dot(c2[1]))\n",
      "/cluster/home/mskrabulis/miniconda3/envs/quantech/lib/python3.9/site-packages/pyscf/symm/Dmatrix.py:156: RuntimeWarning: invalid value encountered in arccos\n",
      "  gamma = numpy.arccos(yp.dot(c2[1]))\n",
      "Progress:  18%|█▊        | 89/500 [34:52<2:26:46, 21.43s/it]"
     ]
    },
    {
     "name": "stdout",
     "output_type": "stream",
     "text": [
      "Time to: Calculate Ground State - 1.49s, Get Pauli Ops - 5.83s, Calculate Pauli Expectation Values - 10.54s, Calculate Covariance - 2.78s\n",
      "f0,f1,f2 = [9.090766629642206e-11, 9.090766618905485e-11, 9.090766630411513e-11]\n",
      "d01,d02,d12 = [0.9849596644929053, 0.9849596644889105, 0.9849596644941663]\n"
     ]
    },
    {
     "name": "stderr",
     "output_type": "stream",
     "text": [
      "Progress:  18%|█▊        | 90/500 [35:13<2:26:30, 21.44s/it]"
     ]
    },
    {
     "name": "stdout",
     "output_type": "stream",
     "text": [
      "Time to: Calculate Ground State - 1.11s, Get Pauli Ops - 6.25s, Calculate Pauli Expectation Values - 11.07s, Calculate Covariance - 3.03s\n",
      "f0,f1,f2 = [8.580858559885636e-10, 8.580858558633063e-10, 8.580858559101185e-10]\n",
      "d01,d02,d12 = [0.9802757362369656, 0.9802757362336071, 0.9802757362379964]\n"
     ]
    },
    {
     "name": "stderr",
     "output_type": "stream",
     "text": [
      "Progress:  18%|█▊        | 91/500 [35:36<2:28:26, 21.78s/it]"
     ]
    },
    {
     "name": "stdout",
     "output_type": "stream",
     "text": [
      "Time to: Calculate Ground State - 1.3s, Get Pauli Ops - 5.91s, Calculate Pauli Expectation Values - 12.71s, Calculate Covariance - 2.63s\n",
      "f0,f1,f2 = [7.502174986339728e-10, 7.502174985376412e-10, 7.502174986104841e-10]\n",
      "d01,d02,d12 = [0.976101718798243, 0.9761017187955651, 0.9761017187990508]\n"
     ]
    },
    {
     "name": "stderr",
     "output_type": "stream",
     "text": [
      "Progress:  18%|█▊        | 92/500 [35:57<2:27:16, 21.66s/it]"
     ]
    },
    {
     "name": "stdout",
     "output_type": "stream",
     "text": [
      "Time to: Calculate Ground State - 1.54s, Get Pauli Ops - 6.84s, Calculate Pauli Expectation Values - 10.62s, Calculate Covariance - 2.37s\n",
      "f0,f1,f2 = [3.7224331461921804e-10, 3.7224331454417145e-10, 3.722433146429756e-10]\n",
      "d01,d02,d12 = [0.9722592113394652, 0.9722592113374898, 0.9722592113400427]\n"
     ]
    },
    {
     "name": "stderr",
     "output_type": "stream",
     "text": [
      "Progress:  19%|█▊        | 93/500 [36:18<2:24:49, 21.35s/it]"
     ]
    },
    {
     "name": "stdout",
     "output_type": "stream",
     "text": [
      "Time to: Calculate Ground State - 1.58s, Get Pauli Ops - 6.55s, Calculate Pauli Expectation Values - 10.56s, Calculate Covariance - 1.93s\n",
      "f0,f1,f2 = [5.292369280508482e-10, 5.292369280437054e-10, 5.292369279826219e-10]\n",
      "d01,d02,d12 = [0.968360195641963, 0.9683601956407144, 0.9683601956423208]\n"
     ]
    },
    {
     "name": "stderr",
     "output_type": "stream",
     "text": [
      "/cluster/home/mskrabulis/miniconda3/envs/quantech/lib/python3.9/site-packages/pyscf/symm/Dmatrix.py:156: RuntimeWarning: invalid value encountered in arccos\n",
      "  gamma = numpy.arccos(yp.dot(c2[1]))\n",
      "Progress:  19%|█▉        | 94/500 [36:39<2:23:47, 21.25s/it]"
     ]
    },
    {
     "name": "stdout",
     "output_type": "stream",
     "text": [
      "Time to: Calculate Ground State - 0.93s, Get Pauli Ops - 6.91s, Calculate Pauli Expectation Values - 10.65s, Calculate Covariance - 2.51s\n",
      "f0,f1,f2 = [9.857387862516145e-11, 9.857387869427339e-11, 9.857387863489813e-11]\n",
      "d01,d02,d12 = [0.9645857794115269, 0.964585779411035, 0.9645857794116699]\n"
     ]
    },
    {
     "name": "stderr",
     "output_type": "stream",
     "text": [
      "Progress:  19%|█▉        | 95/500 [37:05<2:33:07, 22.68s/it]"
     ]
    },
    {
     "name": "stdout",
     "output_type": "stream",
     "text": [
      "Time to: Calculate Ground State - 0.99s, Get Pauli Ops - 7.09s, Calculate Pauli Expectation Values - 14.88s, Calculate Covariance - 3.07s\n",
      "f0,f1,f2 = [1.7693364180739496e-09, 1.7693364180640491e-09, 1.7693364180687589e-09]\n",
      "d01,d02,d12 = [0.9617056473315986, 0.9617056473318759, 0.9617056473315462]\n"
     ]
    },
    {
     "name": "stderr",
     "output_type": "stream",
     "text": [
      "Progress:  19%|█▉        | 96/500 [37:27<2:32:07, 22.59s/it]"
     ]
    },
    {
     "name": "stdout",
     "output_type": "stream",
     "text": [
      "Time to: Calculate Ground State - 1.61s, Get Pauli Ops - 7.13s, Calculate Pauli Expectation Values - 10.58s, Calculate Covariance - 3.05s\n",
      "f0,f1,f2 = [1.7297419600633793e-11, 1.729741954691307e-11, 1.729741958163165e-11]\n",
      "d01,d02,d12 = [0.9589406537957875, 0.9589406537968179, 0.9589406537955408]\n"
     ]
    },
    {
     "name": "stderr",
     "output_type": "stream",
     "text": [
      "Progress:  19%|█▉        | 97/500 [37:48<2:28:40, 22.14s/it]"
     ]
    },
    {
     "name": "stdout",
     "output_type": "stream",
     "text": [
      "Time to: Calculate Ground State - 1.69s, Get Pauli Ops - 6.83s, Calculate Pauli Expectation Values - 10.82s, Calculate Covariance - 1.72s\n",
      "f0,f1,f2 = [8.49373852265272e-10, 8.493738522661216e-10, 8.493738522796302e-10]\n",
      "d01,d02,d12 = [0.9566454894814, 0.9566454894831721, 0.9566454894809615]\n"
     ]
    },
    {
     "name": "stderr",
     "output_type": "stream",
     "text": [
      "/cluster/home/mskrabulis/miniconda3/envs/quantech/lib/python3.9/site-packages/pyscf/symm/Dmatrix.py:156: RuntimeWarning: invalid value encountered in arccos\n",
      "  gamma = numpy.arccos(yp.dot(c2[1]))\n",
      "Progress:  20%|█▉        | 98/500 [38:10<2:27:19, 21.99s/it]"
     ]
    },
    {
     "name": "stdout",
     "output_type": "stream",
     "text": [
      "Time to: Calculate Ground State - 1.55s, Get Pauli Ops - 7.09s, Calculate Pauli Expectation Values - 10.45s, Calculate Covariance - 2.53s\n",
      "f0,f1,f2 = [1.5300313081185973e-09, 1.5300313081317352e-09, 1.5300313081059946e-09]\n",
      "d01,d02,d12 = [0.9550825983278917, 0.955082598330383, 0.9550825983272513]\n"
     ]
    },
    {
     "name": "stderr",
     "output_type": "stream",
     "text": [
      "Progress:  20%|█▉        | 99/500 [38:30<2:22:21, 21.30s/it]"
     ]
    },
    {
     "name": "stdout",
     "output_type": "stream",
     "text": [
      "Time to: Calculate Ground State - 1.54s, Get Pauli Ops - 5.75s, Calculate Pauli Expectation Values - 10.61s, Calculate Covariance - 1.79s\n",
      "f0,f1,f2 = [9.047392281305209e-10, 9.04739228206117e-10, 9.047392281205226e-10]\n",
      "d01,d02,d12 = [0.9539614673980614, 0.9539614674012494, 0.9539614673972208]\n"
     ]
    },
    {
     "name": "stderr",
     "output_type": "stream",
     "text": [
      "Progress:  20%|██        | 100/500 [38:50<2:20:28, 21.07s/it]"
     ]
    },
    {
     "name": "stdout",
     "output_type": "stream",
     "text": [
      "Time to: Calculate Ground State - 1.18s, Get Pauli Ops - 6.19s, Calculate Pauli Expectation Values - 10.44s, Calculate Covariance - 2.71s\n",
      "f0,f1,f2 = [1.2360542559699283e-09, 1.236054256091494e-09, 1.2360542559791495e-09]\n",
      "d01,d02,d12 = [0.9534007794259949, 0.953400779429841, 0.9534007794249564]\n"
     ]
    },
    {
     "name": "stderr",
     "output_type": "stream",
     "text": [
      "Progress:  20%|██        | 101/500 [39:11<2:20:24, 21.12s/it]"
     ]
    },
    {
     "name": "stdout",
     "output_type": "stream",
     "text": [
      "Time to: Calculate Ground State - 1.51s, Get Pauli Ops - 5.71s, Calculate Pauli Expectation Values - 11.77s, Calculate Covariance - 2.23s\n",
      "f0,f1,f2 = [1.0798482690453979e-10, 1.0798482683498592e-10, 1.0798482687576428e-10]\n",
      "d01,d02,d12 = [0.9528191245668141, 0.9528191245712977, 0.9528191245656001]\n"
     ]
    },
    {
     "name": "stderr",
     "output_type": "stream",
     "text": [
      "/cluster/home/mskrabulis/miniconda3/envs/quantech/lib/python3.9/site-packages/pyscf/symm/Dmatrix.py:156: RuntimeWarning: invalid value encountered in arccos\n",
      "  gamma = numpy.arccos(yp.dot(c2[1]))\n",
      "Progress:  20%|██        | 102/500 [39:31<2:16:43, 20.61s/it]"
     ]
    },
    {
     "name": "stdout",
     "output_type": "stream",
     "text": [
      "Time to: Calculate Ground State - 0.87s, Get Pauli Ops - 6.13s, Calculate Pauli Expectation Values - 10.62s, Calculate Covariance - 1.8s\n",
      "f0,f1,f2 = [2.7780224156651396e-09, 2.778022415774876e-09, 2.7780224156849506e-09]\n",
      "d01,d02,d12 = [0.9534146917692216, 0.9534146917743156, 0.9534146917678376]\n"
     ]
    },
    {
     "name": "stderr",
     "output_type": "stream",
     "text": [
      "Progress:  21%|██        | 103/500 [39:52<2:17:57, 20.85s/it]"
     ]
    },
    {
     "name": "stdout",
     "output_type": "stream",
     "text": [
      "Time to: Calculate Ground State - 1.41s, Get Pauli Ops - 6.64s, Calculate Pauli Expectation Values - 10.41s, Calculate Covariance - 2.94s\n",
      "f0,f1,f2 = [2.4545937984852676e-09, 2.4545937985684013e-09, 2.4545937985276647e-09]\n",
      "d01,d02,d12 = [0.9550032633693998, 0.955003263375088, 0.9550032633678606]\n"
     ]
    },
    {
     "name": "stderr",
     "output_type": "stream",
     "text": [
      "/cluster/home/mskrabulis/miniconda3/envs/quantech/lib/python3.9/site-packages/pyscf/symm/Dmatrix.py:156: RuntimeWarning: invalid value encountered in arccos\n",
      "  gamma = numpy.arccos(yp.dot(c2[1]))\n",
      "Progress:  21%|██        | 104/500 [40:15<2:20:29, 21.29s/it]"
     ]
    },
    {
     "name": "stdout",
     "output_type": "stream",
     "text": [
      "Time to: Calculate Ground State - 1.49s, Get Pauli Ops - 7.17s, Calculate Pauli Expectation Values - 10.58s, Calculate Covariance - 3.04s\n",
      "f0,f1,f2 = [1.2179561770749563e-09, 1.217956177164148e-09, 1.217956177090551e-09]\n",
      "d01,d02,d12 = [0.9570296094455377, 0.9570296094517808, 0.9570296094438387]\n"
     ]
    },
    {
     "name": "stderr",
     "output_type": "stream",
     "text": [
      "/cluster/home/mskrabulis/miniconda3/envs/quantech/lib/python3.9/site-packages/pyscf/symm/Dmatrix.py:156: RuntimeWarning: invalid value encountered in arccos\n",
      "  gamma = numpy.arccos(yp.dot(c2[1]))\n",
      "Progress:  21%|██        | 105/500 [40:39<2:26:17, 22.22s/it]"
     ]
    },
    {
     "name": "stdout",
     "output_type": "stream",
     "text": [
      "Time to: Calculate Ground State - 1.49s, Get Pauli Ops - 6.4s, Calculate Pauli Expectation Values - 13.5s, Calculate Covariance - 3.01s\n",
      "f0,f1,f2 = [7.434040530796245e-10, 7.434040532265592e-10, 7.434040531320782e-10]\n",
      "d01,d02,d12 = [0.9592782707581022, 0.9592782707648437, 0.9592782707562665]\n"
     ]
    },
    {
     "name": "stderr",
     "output_type": "stream",
     "text": [
      "/cluster/home/mskrabulis/miniconda3/envs/quantech/lib/python3.9/site-packages/pyscf/symm/Dmatrix.py:156: RuntimeWarning: invalid value encountered in arccos\n",
      "  gamma = numpy.arccos(yp.dot(c2[1]))\n",
      "Progress:  21%|██        | 106/500 [41:03<2:29:30, 22.77s/it]"
     ]
    },
    {
     "name": "stdout",
     "output_type": "stream",
     "text": [
      "Time to: Calculate Ground State - 1.64s, Get Pauli Ops - 8.72s, Calculate Pauli Expectation Values - 10.83s, Calculate Covariance - 2.84s\n",
      "f0,f1,f2 = [1.997821881626408e-10, 1.9978218830352284e-10, 1.9978218820650365e-10]\n",
      "d01,d02,d12 = [0.9615142951984667, 0.9615142952056517, 0.9615142951965041]\n"
     ]
    },
    {
     "name": "stderr",
     "output_type": "stream",
     "text": [
      "Progress:  21%|██▏       | 107/500 [41:26<2:29:56, 22.89s/it]"
     ]
    },
    {
     "name": "stdout",
     "output_type": "stream",
     "text": [
      "Time to: Calculate Ground State - 1.64s, Get Pauli Ops - 8.49s, Calculate Pauli Expectation Values - 10.58s, Calculate Covariance - 2.47s\n",
      "f0,f1,f2 = [1.2974509890985501e-09, 1.2974509893231185e-09, 1.2974509891233004e-09]\n",
      "d01,d02,d12 = [0.9641936213117299, 0.9641936213192992, 0.9641936213096549]\n"
     ]
    },
    {
     "name": "stderr",
     "output_type": "stream",
     "text": [
      "Progress:  22%|██▏       | 108/500 [41:46<2:24:09, 22.06s/it]"
     ]
    },
    {
     "name": "stdout",
     "output_type": "stream",
     "text": [
      "Time to: Calculate Ground State - 0.87s, Get Pauli Ops - 5.64s, Calculate Pauli Expectation Values - 11.44s, Calculate Covariance - 2.17s\n",
      "f0,f1,f2 = [8.780324875092588e-10, 8.780324877129054e-10, 8.780324876128227e-10]\n",
      "d01,d02,d12 = [0.9671234485643833, 0.9671234485722973, 0.967123448562241]\n"
     ]
    },
    {
     "name": "stderr",
     "output_type": "stream",
     "text": [
      "/cluster/home/mskrabulis/miniconda3/envs/quantech/lib/python3.9/site-packages/pyscf/symm/Dmatrix.py:156: RuntimeWarning: invalid value encountered in arccos\n",
      "  gamma = numpy.arccos(yp.dot(c2[1]))\n",
      "Progress:  22%|██▏       | 109/500 [42:09<2:24:29, 22.17s/it]"
     ]
    },
    {
     "name": "stdout",
     "output_type": "stream",
     "text": [
      "Time to: Calculate Ground State - 1.45s, Get Pauli Ops - 6.56s, Calculate Pauli Expectation Values - 11.64s, Calculate Covariance - 2.75s\n",
      "f0,f1,f2 = [6.914798444762201e-10, 6.914798442910324e-10, 6.914798444348451e-10]\n",
      "d01,d02,d12 = [0.9696420385267759, 0.9696420385349838, 0.9696420385245822]\n"
     ]
    },
    {
     "name": "stderr",
     "output_type": "stream",
     "text": [
      "Progress:  22%|██▏       | 110/500 [42:30<2:22:55, 21.99s/it]"
     ]
    },
    {
     "name": "stdout",
     "output_type": "stream",
     "text": [
      "Time to: Calculate Ground State - 1.52s, Get Pauli Ops - 6.2s, Calculate Pauli Expectation Values - 11.04s, Calculate Covariance - 2.79s\n",
      "f0,f1,f2 = [4.024258935919335e-10, 4.0242589375181583e-10, 4.024258935782071e-10]\n",
      "d01,d02,d12 = [0.9722206879409804, 0.9722206879494109, 0.9722206879387455]\n"
     ]
    },
    {
     "name": "stderr",
     "output_type": "stream",
     "text": [
      "/cluster/home/mskrabulis/miniconda3/envs/quantech/lib/python3.9/site-packages/pyscf/symm/Dmatrix.py:156: RuntimeWarning: invalid value encountered in arccos\n",
      "  gamma = numpy.arccos(yp.dot(c2[1]))\n",
      "Progress:  22%|██▏       | 111/500 [42:51<2:20:33, 21.68s/it]"
     ]
    },
    {
     "name": "stdout",
     "output_type": "stream",
     "text": [
      "Time to: Calculate Ground State - 1.58s, Get Pauli Ops - 6.1s, Calculate Pauli Expectation Values - 10.67s, Calculate Covariance - 2.6s\n",
      "f0,f1,f2 = [1.30974479388688e-10, 1.3097447961756288e-10, 1.3097447940208368e-10]\n",
      "d01,d02,d12 = [0.9747442514353896, 0.9747442514439659, 0.9747442514331248]\n"
     ]
    },
    {
     "name": "stderr",
     "output_type": "stream",
     "text": [
      "/cluster/home/mskrabulis/miniconda3/envs/quantech/lib/python3.9/site-packages/pyscf/symm/Dmatrix.py:156: RuntimeWarning: invalid value encountered in arccos\n",
      "  gamma = numpy.arccos(yp.dot(c2[1]))\n",
      "Progress:  22%|██▏       | 112/500 [43:13<2:20:38, 21.75s/it]"
     ]
    },
    {
     "name": "stdout",
     "output_type": "stream",
     "text": [
      "Time to: Calculate Ground State - 1.48s, Get Pauli Ops - 6.61s, Calculate Pauli Expectation Values - 11.16s, Calculate Covariance - 2.65s\n",
      "f0,f1,f2 = [7.394290262373125e-11, 7.394290274672426e-11, 7.394290264876017e-11]\n",
      "d01,d02,d12 = [0.9771914223303801, 0.9771914223390513, 0.9771914223281037]\n"
     ]
    },
    {
     "name": "stderr",
     "output_type": "stream",
     "text": [
      "Progress:  23%|██▎       | 113/500 [43:37<2:23:53, 22.31s/it]"
     ]
    },
    {
     "name": "stdout",
     "output_type": "stream",
     "text": [
      "Time to: Calculate Ground State - 1.58s, Get Pauli Ops - 9.1s, Calculate Pauli Expectation Values - 10.53s, Calculate Covariance - 2.39s\n",
      "f0,f1,f2 = [1.3783854160585147e-09, 1.3783854162767282e-09, 1.3783854160764012e-09]\n",
      "d01,d02,d12 = [0.980106619645108, 0.9801066196538014, 0.9801066196428136]\n"
     ]
    },
    {
     "name": "stderr",
     "output_type": "stream",
     "text": [
      "/cluster/home/mskrabulis/miniconda3/envs/quantech/lib/python3.9/site-packages/pyscf/symm/Dmatrix.py:156: RuntimeWarning: invalid value encountered in arccos\n",
      "  gamma = numpy.arccos(yp.dot(c2[1]))\n",
      "Progress:  23%|██▎       | 114/500 [43:58<2:21:54, 22.06s/it]"
     ]
    },
    {
     "name": "stdout",
     "output_type": "stream",
     "text": [
      "Time to: Calculate Ground State - 1.51s, Get Pauli Ops - 6.2s, Calculate Pauli Expectation Values - 11.28s, Calculate Covariance - 2.46s\n",
      "f0,f1,f2 = [4.050196284140837e-10, 4.0501962824112313e-10, 4.050196284195676e-10]\n",
      "d01,d02,d12 = [0.9827301375494775, 0.9827301375581302, 0.9827301375471718]\n"
     ]
    },
    {
     "name": "stderr",
     "output_type": "stream",
     "text": [
      "Progress:  23%|██▎       | 115/500 [44:20<2:20:15, 21.86s/it]"
     ]
    },
    {
     "name": "stdout",
     "output_type": "stream",
     "text": [
      "Time to: Calculate Ground State - 1.29s, Get Pauli Ops - 6.14s, Calculate Pauli Expectation Values - 11.25s, Calculate Covariance - 2.71s\n",
      "f0,f1,f2 = [4.4026239596377843e-10, 4.402623961408802e-10, 4.402623960019706e-10]\n",
      "d01,d02,d12 = [0.9854250351217306, 0.985425035130296, 0.9854250351194217]\n"
     ]
    },
    {
     "name": "stderr",
     "output_type": "stream",
     "text": [
      "Progress:  23%|██▎       | 116/500 [44:42<2:20:58, 22.03s/it]"
     ]
    },
    {
     "name": "stdout",
     "output_type": "stream",
     "text": [
      "Time to: Calculate Ground State - 1.47s, Get Pauli Ops - 6.36s, Calculate Pauli Expectation Values - 11.52s, Calculate Covariance - 3.06s\n",
      "f0,f1,f2 = [7.960691375455464e-10, 7.96069137692412e-10, 7.96069137566209e-10]\n",
      "d01,d02,d12 = [0.9883359058061785, 0.9883359058146134, 0.9883359058038733]\n"
     ]
    },
    {
     "name": "stderr",
     "output_type": "stream",
     "text": [
      "/cluster/home/mskrabulis/miniconda3/envs/quantech/lib/python3.9/site-packages/pyscf/symm/Dmatrix.py:156: RuntimeWarning: invalid value encountered in arccos\n",
      "  gamma = numpy.arccos(yp.dot(c2[1]))\n",
      "Progress:  23%|██▎       | 117/500 [45:04<2:21:02, 22.10s/it]"
     ]
    },
    {
     "name": "stdout",
     "output_type": "stream",
     "text": [
      "Time to: Calculate Ground State - 1.51s, Get Pauli Ops - 6.34s, Calculate Pauli Expectation Values - 11.48s, Calculate Covariance - 2.92s\n",
      "f0,f1,f2 = [2.957872615543078e-10, 2.957872613929319e-10, 2.957872614777185e-10]\n",
      "d01,d02,d12 = [0.99100062937568, 0.9910006293839573, 0.9910006293733838]\n"
     ]
    },
    {
     "name": "stderr",
     "output_type": "stream",
     "text": [
      "Progress:  24%|██▎       | 118/500 [45:26<2:20:12, 22.02s/it]"
     ]
    },
    {
     "name": "stdout",
     "output_type": "stream",
     "text": [
      "Time to: Calculate Ground State - 1.46s, Get Pauli Ops - 6.73s, Calculate Pauli Expectation Values - 10.95s, Calculate Covariance - 2.71s\n",
      "f0,f1,f2 = [1.1861626320397828e-09, 1.18616263187171e-09, 1.1861626320166189e-09]\n",
      "d01,d02,d12 = [0.9930602659633798, 0.9930602659714484, 0.9930602659611079]\n"
     ]
    },
    {
     "name": "stderr",
     "output_type": "stream",
     "text": [
      "Progress:  24%|██▍       | 119/500 [45:50<2:22:37, 22.46s/it]"
     ]
    },
    {
     "name": "stdout",
     "output_type": "stream",
     "text": [
      "Time to: Calculate Ground State - 1.52s, Get Pauli Ops - 8.93s, Calculate Pauli Expectation Values - 10.92s, Calculate Covariance - 2.1s\n",
      "f0,f1,f2 = [3.0630644240090565e-10, 3.06306442244499e-10, 3.0630644232267297e-10]\n",
      "d01,d02,d12 = [0.9949054946545235, 0.9949054946623546, 0.9949054946523103]\n"
     ]
    },
    {
     "name": "stderr",
     "output_type": "stream",
     "text": [
      "Progress:  24%|██▍       | 120/500 [46:10<2:18:14, 21.83s/it]"
     ]
    },
    {
     "name": "stdout",
     "output_type": "stream",
     "text": [
      "Time to: Calculate Ground State - 1.47s, Get Pauli Ops - 5.85s, Calculate Pauli Expectation Values - 10.99s, Calculate Covariance - 2.03s\n",
      "f0,f1,f2 = [2.4330706679760417e-09, 2.433070667790167e-09, 2.4330706679963535e-09]\n",
      "d01,d02,d12 = [0.9956630933302602, 0.9956630933377637, 0.9956630933281135]\n"
     ]
    },
    {
     "name": "stderr",
     "output_type": "stream",
     "text": [
      "/cluster/home/mskrabulis/miniconda3/envs/quantech/lib/python3.9/site-packages/pyscf/symm/Dmatrix.py:156: RuntimeWarning: invalid value encountered in arccos\n",
      "  gamma = numpy.arccos(yp.dot(c2[1]))\n",
      "Progress:  24%|██▍       | 121/500 [46:30<2:13:29, 21.13s/it]"
     ]
    },
    {
     "name": "stdout",
     "output_type": "stream",
     "text": [
      "Time to: Calculate Ground State - 0.9s, Get Pauli Ops - 6.04s, Calculate Pauli Expectation Values - 10.59s, Calculate Covariance - 1.98s\n",
      "f0,f1,f2 = [1.9905647740142619e-10, 1.9905647720208522e-10, 1.9905647735153228e-10]\n",
      "d01,d02,d12 = [0.9963059877649804, 0.9963059877720923, 0.996305987762908]\n"
     ]
    },
    {
     "name": "stderr",
     "output_type": "stream",
     "text": [
      "/cluster/home/mskrabulis/miniconda3/envs/quantech/lib/python3.9/site-packages/pyscf/symm/Dmatrix.py:156: RuntimeWarning: invalid value encountered in arccos\n",
      "  gamma = numpy.arccos(yp.dot(c2[1]))\n",
      "Progress:  24%|██▍       | 122/500 [46:54<2:18:40, 22.01s/it]"
     ]
    },
    {
     "name": "stdout",
     "output_type": "stream",
     "text": [
      "Time to: Calculate Ground State - 1.53s, Get Pauli Ops - 8.86s, Calculate Pauli Expectation Values - 10.75s, Calculate Covariance - 2.91s\n",
      "f0,f1,f2 = [2.907746598984775e-10, 2.907746599807061e-10, 2.9077465986693884e-10]\n",
      "d01,d02,d12 = [0.9970422542043428, 0.997042254211014, 0.9970422542023393]\n"
     ]
    },
    {
     "name": "stderr",
     "output_type": "stream",
     "text": [
      "Progress:  25%|██▍       | 123/500 [47:15<2:16:51, 21.78s/it]"
     ]
    },
    {
     "name": "stdout",
     "output_type": "stream",
     "text": [
      "Time to: Calculate Ground State - 0.88s, Get Pauli Ops - 6.95s, Calculate Pauli Expectation Values - 10.8s, Calculate Covariance - 2.61s\n",
      "f0,f1,f2 = [2.2251360640537443e-10, 2.2251360652305682e-10, 2.225136064099572e-10]\n",
      "d01,d02,d12 = [0.9978396146418188, 0.997839614648021, 0.9978396146398927]\n"
     ]
    },
    {
     "name": "stderr",
     "output_type": "stream",
     "text": [
      "Progress:  25%|██▍       | 124/500 [47:36<2:15:51, 21.68s/it]"
     ]
    },
    {
     "name": "stdout",
     "output_type": "stream",
     "text": [
      "Time to: Calculate Ground State - 1.43s, Get Pauli Ops - 6.66s, Calculate Pauli Expectation Values - 10.66s, Calculate Covariance - 2.68s\n",
      "f0,f1,f2 = [7.994705442321682e-10, 7.994705440504753e-10, 7.994705441811653e-10]\n",
      "d01,d02,d12 = [0.9982714957290397, 0.9982714957347054, 0.9982714957272038]\n"
     ]
    },
    {
     "name": "stderr",
     "output_type": "stream",
     "text": [
      "Progress:  25%|██▌       | 125/500 [47:58<2:16:18, 21.81s/it]"
     ]
    },
    {
     "name": "stdout",
     "output_type": "stream",
     "text": [
      "Time to: Calculate Ground State - 1.44s, Get Pauli Ops - 6.65s, Calculate Pauli Expectation Values - 11.67s, Calculate Covariance - 2.35s\n",
      "f0,f1,f2 = [6.858470776610164e-11, 6.858470764470862e-11, 6.858470770071083e-11]\n",
      "d01,d02,d12 = [0.9986566113249936, 0.9986566113300953, 0.9986566113232738]\n"
     ]
    },
    {
     "name": "stderr",
     "output_type": "stream",
     "text": [
      "Progress:  25%|██▌       | 126/500 [48:19<2:12:51, 21.31s/it]"
     ]
    },
    {
     "name": "stdout",
     "output_type": "stream",
     "text": [
      "Time to: Calculate Ground State - 0.92s, Get Pauli Ops - 6.98s, Calculate Pauli Expectation Values - 10.53s, Calculate Covariance - 1.72s\n",
      "f0,f1,f2 = [2.621175905751826e-10, 2.621175904724512e-10, 2.621175905488063e-10]\n",
      "d01,d02,d12 = [0.9989166548191497, 0.9989166548236582, 0.9989166548175571]\n"
     ]
    },
    {
     "name": "stderr",
     "output_type": "stream",
     "text": [
      "/cluster/home/mskrabulis/miniconda3/envs/quantech/lib/python3.9/site-packages/pyscf/symm/Dmatrix.py:156: RuntimeWarning: invalid value encountered in arccos\n",
      "  gamma = numpy.arccos(yp.dot(c2[1]))\n",
      "Progress:  25%|██▌       | 127/500 [48:39<2:09:54, 20.90s/it]"
     ]
    },
    {
     "name": "stdout",
     "output_type": "stream",
     "text": [
      "Time to: Calculate Ground State - 0.91s, Get Pauli Ops - 6.06s, Calculate Pauli Expectation Values - 10.53s, Calculate Covariance - 2.42s\n",
      "f0,f1,f2 = [2.453473258624255e-09, 2.4534732585097e-09, 2.453473258607226e-09]\n",
      "d01,d02,d12 = [0.9981478181563787, 0.9981478181602603, 0.9981478181549339]\n"
     ]
    },
    {
     "name": "stderr",
     "output_type": "stream",
     "text": [
      "Progress:  26%|██▌       | 128/500 [49:00<2:10:43, 21.08s/it]"
     ]
    },
    {
     "name": "stdout",
     "output_type": "stream",
     "text": [
      "Time to: Calculate Ground State - 1.53s, Get Pauli Ops - 6.44s, Calculate Pauli Expectation Values - 11.13s, Calculate Covariance - 2.41s\n",
      "f0,f1,f2 = [1.360836250116559e-10, 1.3608362510028924e-10, 1.360836249877425e-10]\n",
      "d01,d02,d12 = [0.9974680370654274, 0.9974680370686401, 0.9974680370641189]\n"
     ]
    },
    {
     "name": "stderr",
     "output_type": "stream",
     "text": [
      "Progress:  26%|██▌       | 129/500 [49:21<2:10:36, 21.12s/it]"
     ]
    },
    {
     "name": "stdout",
     "output_type": "stream",
     "text": [
      "Time to: Calculate Ground State - 1.47s, Get Pauli Ops - 6.38s, Calculate Pauli Expectation Values - 10.57s, Calculate Covariance - 2.78s\n",
      "f0,f1,f2 = [5.155910212136056e-10, 5.155910211304056e-10, 5.155910211771291e-10]\n",
      "d01,d02,d12 = [0.9966031800772227, 0.9966031800797434, 0.9966031800760664]\n"
     ]
    },
    {
     "name": "stderr",
     "output_type": "stream",
     "text": [
      "/cluster/home/mskrabulis/miniconda3/envs/quantech/lib/python3.9/site-packages/pyscf/symm/Dmatrix.py:156: RuntimeWarning: invalid value encountered in arccos\n",
      "  gamma = numpy.arccos(yp.dot(c2[1]))\n",
      "/cluster/home/mskrabulis/miniconda3/envs/quantech/lib/python3.9/site-packages/pyscf/symm/Dmatrix.py:156: RuntimeWarning: invalid value encountered in arccos\n",
      "  gamma = numpy.arccos(yp.dot(c2[1]))\n",
      "Progress:  26%|██▌       | 130/500 [49:43<2:11:06, 21.26s/it]"
     ]
    },
    {
     "name": "stdout",
     "output_type": "stream",
     "text": [
      "Time to: Calculate Ground State - 1.53s, Get Pauli Ops - 6.85s, Calculate Pauli Expectation Values - 10.58s, Calculate Covariance - 2.61s\n",
      "f0,f1,f2 = [3.920560901055538e-10, 3.920560900030562e-10, 3.920560901449747e-10]\n",
      "d01,d02,d12 = [0.9956123447064236, 0.9956123447082099, 0.9956123447054125]\n"
     ]
    },
    {
     "name": "stderr",
     "output_type": "stream",
     "text": [
      "Progress:  26%|██▌       | 131/500 [50:07<2:15:54, 22.10s/it]"
     ]
    },
    {
     "name": "stdout",
     "output_type": "stream",
     "text": [
      "Time to: Calculate Ground State - 1.6s, Get Pauli Ops - 6.18s, Calculate Pauli Expectation Values - 13.7s, Calculate Covariance - 2.57s\n",
      "f0,f1,f2 = [8.528634036204564e-10, 8.528634036969777e-10, 8.528634036301823e-10]\n",
      "d01,d02,d12 = [0.9950173430752597, 0.9950173430763041, 0.995017343074404]\n"
     ]
    },
    {
     "name": "stderr",
     "output_type": "stream",
     "text": [
      "Progress:  26%|██▋       | 132/500 [50:28<2:13:18, 21.73s/it]"
     ]
    },
    {
     "name": "stdout",
     "output_type": "stream",
     "text": [
      "Time to: Calculate Ground State - 1.51s, Get Pauli Ops - 6.26s, Calculate Pauli Expectation Values - 10.56s, Calculate Covariance - 2.55s\n",
      "f0,f1,f2 = [1.628150780829967e-10, 1.628150780481628e-10, 1.62815078057178e-10]\n",
      "d01,d02,d12 = [0.9943800244867615, 0.9943800244870562, 0.9943800244860657]\n"
     ]
    },
    {
     "name": "stderr",
     "output_type": "stream",
     "text": [
      "/cluster/home/mskrabulis/miniconda3/envs/quantech/lib/python3.9/site-packages/pyscf/symm/Dmatrix.py:156: RuntimeWarning: invalid value encountered in arccos\n",
      "  gamma = numpy.arccos(yp.dot(c2[1]))\n",
      "Progress:  27%|██▋       | 133/500 [50:47<2:08:28, 21.00s/it]"
     ]
    },
    {
     "name": "stdout",
     "output_type": "stream",
     "text": [
      "Time to: Calculate Ground State - 0.93s, Get Pauli Ops - 5.61s, Calculate Pauli Expectation Values - 10.57s, Calculate Covariance - 2.19s\n",
      "f0,f1,f2 = [2.0860386027782268e-10, 2.086038602924632e-10, 2.0860386031333988e-10]\n",
      "d01,d02,d12 = [0.9938562711545931, 0.9938562711541383, 0.9938562711540619]\n"
     ]
    },
    {
     "name": "stderr",
     "output_type": "stream",
     "text": [
      "/cluster/home/mskrabulis/miniconda3/envs/quantech/lib/python3.9/site-packages/pyscf/symm/Dmatrix.py:156: RuntimeWarning: invalid value encountered in arccos\n",
      "  gamma = numpy.arccos(yp.dot(c2[1]))\n",
      "Progress:  27%|██▋       | 134/500 [51:07<2:06:20, 20.71s/it]"
     ]
    },
    {
     "name": "stdout",
     "output_type": "stream",
     "text": [
      "Time to: Calculate Ground State - 1.51s, Get Pauli Ops - 5.88s, Calculate Pauli Expectation Values - 10.37s, Calculate Covariance - 2.27s\n",
      "f0,f1,f2 = [8.502147084387383e-10, 8.502147083964635e-10, 8.50214708444055e-10]\n",
      "d01,d02,d12 = [0.9937074480572987, 0.9937074480561114, 0.9937074480569463]\n"
     ]
    },
    {
     "name": "stderr",
     "output_type": "stream",
     "text": [
      "/cluster/home/mskrabulis/miniconda3/envs/quantech/lib/python3.9/site-packages/pyscf/symm/Dmatrix.py:156: RuntimeWarning: invalid value encountered in arccos\n",
      "  gamma = numpy.arccos(yp.dot(c2[1]))\n",
      "Progress:  27%|██▋       | 135/500 [51:28<2:05:31, 20.63s/it]"
     ]
    },
    {
     "name": "stdout",
     "output_type": "stream",
     "text": [
      "Time to: Calculate Ground State - 0.91s, Get Pauli Ops - 6.36s, Calculate Pauli Expectation Values - 10.82s, Calculate Covariance - 2.35s\n",
      "f0,f1,f2 = [1.3746048314549245e-09, 1.374604831434336e-09, 1.3746048314853697e-09]\n",
      "d01,d02,d12 = [0.9941352072838797, 0.9941352072819792, 0.9941352072837218]\n"
     ]
    },
    {
     "name": "stderr",
     "output_type": "stream",
     "text": [
      "/cluster/home/mskrabulis/miniconda3/envs/quantech/lib/python3.9/site-packages/pyscf/symm/Dmatrix.py:156: RuntimeWarning: invalid value encountered in arccos\n",
      "  gamma = numpy.arccos(yp.dot(c2[1]))\n",
      "Progress:  27%|██▋       | 136/500 [51:47<2:03:22, 20.34s/it]"
     ]
    },
    {
     "name": "stdout",
     "output_type": "stream",
     "text": [
      "Time to: Calculate Ground State - 1.47s, Get Pauli Ops - 5.85s, Calculate Pauli Expectation Values - 10.6s, Calculate Covariance - 1.73s\n",
      "f0,f1,f2 = [1.9865934673302136e-10, 1.9865934677070244e-10, 1.9865934672929318e-10]\n",
      "d01,d02,d12 = [0.994462412508698, 0.994462412506099, 0.9944624125087252]\n"
     ]
    },
    {
     "name": "stderr",
     "output_type": "stream",
     "text": [
      "/cluster/home/mskrabulis/miniconda3/envs/quantech/lib/python3.9/site-packages/pyscf/symm/Dmatrix.py:156: RuntimeWarning: invalid value encountered in arccos\n",
      "  gamma = numpy.arccos(yp.dot(c2[1]))\n",
      "Progress:  27%|██▋       | 137/500 [52:09<2:05:37, 20.76s/it]"
     ]
    },
    {
     "name": "stdout",
     "output_type": "stream",
     "text": [
      "Time to: Calculate Ground State - 1.45s, Get Pauli Ops - 6.89s, Calculate Pauli Expectation Values - 10.69s, Calculate Covariance - 2.73s\n",
      "f0,f1,f2 = [7.79623440474735e-10, 7.796234405215239e-10, 7.796234404775817e-10]\n",
      "d01,d02,d12 = [0.9944523072223592, 0.9944523072190748, 0.9944523072225663]\n"
     ]
    },
    {
     "name": "stderr",
     "output_type": "stream",
     "text": [
      "Progress:  28%|██▊       | 138/500 [52:32<2:09:38, 21.49s/it]"
     ]
    },
    {
     "name": "stdout",
     "output_type": "stream",
     "text": [
      "Time to: Calculate Ground State - 1.46s, Get Pauli Ops - 6.3s, Calculate Pauli Expectation Values - 12.66s, Calculate Covariance - 2.75s\n",
      "f0,f1,f2 = [2.2986275125210768e-10, 2.298627512894673e-10, 2.2986275127959502e-10]\n",
      "d01,d02,d12 = [0.9943472689872114, 0.994347268983264, 0.9943472689875904]\n"
     ]
    },
    {
     "name": "stderr",
     "output_type": "stream",
     "text": [
      "/cluster/home/mskrabulis/miniconda3/envs/quantech/lib/python3.9/site-packages/pyscf/symm/Dmatrix.py:156: RuntimeWarning: invalid value encountered in arccos\n",
      "  gamma = numpy.arccos(yp.dot(c2[1]))\n",
      "Progress:  28%|██▊       | 139/500 [52:53<2:09:02, 21.45s/it]"
     ]
    },
    {
     "name": "stdout",
     "output_type": "stream",
     "text": [
      "Time to: Calculate Ground State - 1.51s, Get Pauli Ops - 6.22s, Calculate Pauli Expectation Values - 10.68s, Calculate Covariance - 2.92s\n",
      "f0,f1,f2 = [3.3597614352871954e-10, 3.3597614354387463e-10, 3.3597614351646543e-10]\n",
      "d01,d02,d12 = [0.9941073006424815, 0.9941073006378939, 0.9941073006430468]\n"
     ]
    },
    {
     "name": "stderr",
     "output_type": "stream",
     "text": [
      "Progress:  28%|██▊       | 140/500 [53:18<2:14:25, 22.40s/it]"
     ]
    },
    {
     "name": "stdout",
     "output_type": "stream",
     "text": [
      "Time to: Calculate Ground State - 1.55s, Get Pauli Ops - 9.76s, Calculate Pauli Expectation Values - 10.76s, Calculate Covariance - 2.56s\n",
      "f0,f1,f2 = [4.0474462406654893e-10, 4.0474462401061813e-10, 4.047446240656632e-10]\n",
      "d01,d02,d12 = [0.9940454207016397, 0.9940454206964245, 0.9940454207023814]\n"
     ]
    },
    {
     "name": "stderr",
     "output_type": "stream",
     "text": [
      "Progress:  28%|██▊       | 141/500 [53:42<2:16:58, 22.89s/it]"
     ]
    },
    {
     "name": "stdout",
     "output_type": "stream",
     "text": [
      "Time to: Calculate Ground State - 1.35s, Get Pauli Ops - 9.89s, Calculate Pauli Expectation Values - 10.77s, Calculate Covariance - 2.01s\n",
      "f0,f1,f2 = [5.771262424698505e-10, 5.771262423452726e-10, 5.771262424039578e-10]\n",
      "d01,d02,d12 = [0.9942255925930493, 0.9942255925872383, 0.9942255925939584]\n"
     ]
    },
    {
     "name": "stderr",
     "output_type": "stream",
     "text": [
      "Progress:  28%|██▊       | 142/500 [54:05<2:15:56, 22.78s/it]"
     ]
    },
    {
     "name": "stdout",
     "output_type": "stream",
     "text": [
      "Time to: Calculate Ground State - 1.59s, Get Pauli Ops - 7.86s, Calculate Pauli Expectation Values - 10.7s, Calculate Covariance - 2.37s\n",
      "f0,f1,f2 = [1.233506866656545e-09, 1.233506866835717e-09, 1.2335068667373578e-09]\n",
      "d01,d02,d12 = [0.9938863892005673, 0.9938863891942041, 0.9938863892016205]\n"
     ]
    },
    {
     "name": "stderr",
     "output_type": "stream",
     "text": [
      "Progress:  29%|██▊       | 143/500 [54:26<2:12:31, 22.27s/it]"
     ]
    },
    {
     "name": "stdout",
     "output_type": "stream",
     "text": [
      "Time to: Calculate Ground State - 1.57s, Get Pauli Ops - 6.26s, Calculate Pauli Expectation Values - 10.94s, Calculate Covariance - 2.31s\n",
      "f0,f1,f2 = [7.064111925439953e-10, 7.064111926773599e-10, 7.064111925924834e-10]\n",
      "d01,d02,d12 = [0.993268505122447, 0.9932685051155784, 0.9932685051236386]\n"
     ]
    },
    {
     "name": "stderr",
     "output_type": "stream",
     "text": [
      "Progress:  29%|██▉       | 144/500 [54:49<2:13:47, 22.55s/it]"
     ]
    },
    {
     "name": "stdout",
     "output_type": "stream",
     "text": [
      "Time to: Calculate Ground State - 1.5s, Get Pauli Ops - 6.78s, Calculate Pauli Expectation Values - 12.25s, Calculate Covariance - 2.66s\n",
      "f0,f1,f2 = [1.8468581348026122e-09, 1.8468581349119386e-09, 1.8468581348455983e-09]\n",
      "d01,d02,d12 = [0.9919106284308179, 0.9919106284234798, 0.9919106284321197]\n"
     ]
    },
    {
     "name": "stderr",
     "output_type": "stream",
     "text": [
      "/cluster/home/mskrabulis/miniconda3/envs/quantech/lib/python3.9/site-packages/pyscf/symm/Dmatrix.py:156: RuntimeWarning: invalid value encountered in arccos\n",
      "  gamma = numpy.arccos(yp.dot(c2[1]))\n",
      "Progress:  29%|██▉       | 145/500 [55:10<2:11:24, 22.21s/it]"
     ]
    },
    {
     "name": "stdout",
     "output_type": "stream",
     "text": [
      "Time to: Calculate Ground State - 0.96s, Get Pauli Ops - 5.59s, Calculate Pauli Expectation Values - 11.79s, Calculate Covariance - 3.06s\n",
      "f0,f1,f2 = [2.3270537816336e-09, 2.3270537817616027e-09, 2.3270537816361554e-09]\n",
      "d01,d02,d12 = [0.9896449219783403, 0.989644921970591, 0.989644921979739]\n"
     ]
    },
    {
     "name": "stderr",
     "output_type": "stream",
     "text": [
      "Progress:  29%|██▉       | 146/500 [55:36<2:17:15, 23.26s/it]"
     ]
    },
    {
     "name": "stdout",
     "output_type": "stream",
     "text": [
      "Time to: Calculate Ground State - 1.62s, Get Pauli Ops - 6.83s, Calculate Pauli Expectation Values - 14.44s, Calculate Covariance - 2.83s\n",
      "f0,f1,f2 = [6.663690919856413e-10, 6.663690921620332e-10, 6.663690920413514e-10]\n",
      "d01,d02,d12 = [0.9871988393494746, 0.9871988393413761, 0.9871988393509545]\n"
     ]
    },
    {
     "name": "stderr",
     "output_type": "stream",
     "text": [
      "Progress:  29%|██▉       | 147/500 [56:03<2:23:34, 24.40s/it]"
     ]
    },
    {
     "name": "stdout",
     "output_type": "stream",
     "text": [
      "Time to: Calculate Ground State - 1.56s, Get Pauli Ops - 7.16s, Calculate Pauli Expectation Values - 15.65s, Calculate Covariance - 2.68s\n",
      "f0,f1,f2 = [1.3952893235898895e-09, 1.3952893233855228e-09, 1.3952893236139539e-09]\n",
      "d01,d02,d12 = [0.9854353393048144, 0.9854353392964407, 0.9854353393063723]\n"
     ]
    },
    {
     "name": "stderr",
     "output_type": "stream",
     "text": [
      "Progress:  30%|██▉       | 148/500 [56:30<2:26:46, 25.02s/it]"
     ]
    },
    {
     "name": "stdout",
     "output_type": "stream",
     "text": [
      "Time to: Calculate Ground State - 1.4s, Get Pauli Ops - 6.93s, Calculate Pauli Expectation Values - 15.6s, Calculate Covariance - 2.52s\n",
      "f0,f1,f2 = [9.768580351793699e-10, 9.768580353550858e-10, 9.768580351787187e-10]\n",
      "d01,d02,d12 = [0.9833413646609059, 0.9833413646523439, 0.9833413646625173]\n"
     ]
    },
    {
     "name": "stderr",
     "output_type": "stream",
     "text": [
      "Progress:  30%|██▉       | 149/500 [56:55<2:26:45, 25.09s/it]"
     ]
    },
    {
     "name": "stdout",
     "output_type": "stream",
     "text": [
      "Time to: Calculate Ground State - 1.59s, Get Pauli Ops - 10.37s, Calculate Pauli Expectation Values - 11.16s, Calculate Covariance - 2.12s\n",
      "f0,f1,f2 = [1.868760596894684e-10, 1.8687605947838544e-10, 1.8687605966601795e-10]\n",
      "d01,d02,d12 = [0.9814137256824267, 0.9814137256737447, 0.9814137256840627]\n"
     ]
    },
    {
     "name": "stderr",
     "output_type": "stream",
     "text": [
      "/cluster/home/mskrabulis/miniconda3/envs/quantech/lib/python3.9/site-packages/pyscf/symm/Dmatrix.py:156: RuntimeWarning: invalid value encountered in arccos\n",
      "  gamma = numpy.arccos(yp.dot(c2[1]))\n",
      "Progress:  30%|███       | 150/500 [57:17<2:21:01, 24.18s/it]"
     ]
    },
    {
     "name": "stdout",
     "output_type": "stream",
     "text": [
      "Time to: Calculate Ground State - 1.53s, Get Pauli Ops - 6.34s, Calculate Pauli Expectation Values - 11.28s, Calculate Covariance - 2.88s\n",
      "f0,f1,f2 = [1.0293287752542747e-09, 1.029328775041741e-09, 1.0293287752219e-09]\n",
      "d01,d02,d12 = [0.9799948756400705, 0.9799948756313318, 0.9799948756417193]\n"
     ]
    },
    {
     "name": "stderr",
     "output_type": "stream",
     "text": [
      "Progress:  30%|███       | 151/500 [57:38<2:16:04, 23.39s/it]"
     ]
    },
    {
     "name": "stdout",
     "output_type": "stream",
     "text": [
      "Time to: Calculate Ground State - 1.56s, Get Pauli Ops - 6.7s, Calculate Pauli Expectation Values - 10.63s, Calculate Covariance - 2.67s\n",
      "f0,f1,f2 = [3.129178133811321e-10, 3.1291781316453516e-10, 3.1291781328467854e-10]\n",
      "d01,d02,d12 = [0.9787660261647715, 0.9787660261560355, 0.9787660261663963]\n"
     ]
    },
    {
     "name": "stderr",
     "output_type": "stream",
     "text": [
      "Progress:  30%|███       | 152/500 [58:01<2:14:16, 23.15s/it]"
     ]
    },
    {
     "name": "stdout",
     "output_type": "stream",
     "text": [
      "Time to: Calculate Ground State - 1.52s, Get Pauli Ops - 7.12s, Calculate Pauli Expectation Values - 11.57s, Calculate Covariance - 2.36s\n",
      "f0,f1,f2 = [2.587446070292816e-10, 2.5874460681586174e-10, 2.5874460698769435e-10]\n",
      "d01,d02,d12 = [0.9776966464482604, 0.9776966464395813, 0.9776966464498439]\n"
     ]
    },
    {
     "name": "stderr",
     "output_type": "stream",
     "text": [
      "Progress:  31%|███       | 153/500 [58:23<2:11:12, 22.69s/it]"
     ]
    },
    {
     "name": "stdout",
     "output_type": "stream",
     "text": [
      "Time to: Calculate Ground State - 1.36s, Get Pauli Ops - 6.22s, Calculate Pauli Expectation Values - 11.74s, Calculate Covariance - 2.28s\n",
      "f0,f1,f2 = [1.7229772882123026e-10, 1.7229772895957149e-10, 1.7229772885290313e-10]\n",
      "d01,d02,d12 = [0.9766011510169874, 0.976601151008419, 0.9766011510185318]\n"
     ]
    },
    {
     "name": "stderr",
     "output_type": "stream",
     "text": [
      "Progress:  31%|███       | 154/500 [58:42<2:05:43, 21.80s/it]"
     ]
    },
    {
     "name": "stdout",
     "output_type": "stream",
     "text": [
      "Time to: Calculate Ground State - 1.01s, Get Pauli Ops - 6.26s, Calculate Pauli Expectation Values - 10.78s, Calculate Covariance - 1.68s\n",
      "f0,f1,f2 = [1.1282238143896621e-10, 1.1282238162217396e-10, 1.128223814723743e-10]\n",
      "d01,d02,d12 = [0.975505324370042, 0.9755053243616633, 0.9755053243715345]\n"
     ]
    },
    {
     "name": "stderr",
     "output_type": "stream",
     "text": [
      "Progress:  31%|███       | 155/500 [59:02<2:01:39, 21.16s/it]"
     ]
    },
    {
     "name": "stdout",
     "output_type": "stream",
     "text": [
      "Time to: Calculate Ground State - 0.91s, Get Pauli Ops - 5.65s, Calculate Pauli Expectation Values - 10.67s, Calculate Covariance - 2.43s\n",
      "f0,f1,f2 = [3.213198267564091e-10, 3.213198266030857e-10, 3.213198267474124e-10]\n",
      "d01,d02,d12 = [0.9745892925277422, 0.9745892925196155, 0.9745892925291775]\n"
     ]
    },
    {
     "name": "stderr",
     "output_type": "stream",
     "text": [
      "Progress:  31%|███       | 156/500 [59:23<2:00:50, 21.08s/it]"
     ]
    },
    {
     "name": "stdout",
     "output_type": "stream",
     "text": [
      "Time to: Calculate Ground State - 0.9s, Get Pauli Ops - 6.97s, Calculate Pauli Expectation Values - 10.76s, Calculate Covariance - 2.25s\n",
      "f0,f1,f2 = [3.340406841212476e-10, 3.340406839837676e-10, 3.3404068410185625e-10]\n",
      "d01,d02,d12 = [0.9738507069218092, 0.9738507069140021, 0.9738507069231853]\n"
     ]
    },
    {
     "name": "stderr",
     "output_type": "stream",
     "text": [
      "Progress:  31%|███▏      | 157/500 [59:42<1:57:06, 20.49s/it]"
     ]
    },
    {
     "name": "stdout",
     "output_type": "stream",
     "text": [
      "Time to: Calculate Ground State - 1.15s, Get Pauli Ops - 5.6s, Calculate Pauli Expectation Values - 10.56s, Calculate Covariance - 1.8s\n",
      "f0,f1,f2 = [1.0103657141270241e-09, 1.0103657139547065e-09, 1.0103657140676557e-09]\n",
      "d01,d02,d12 = [0.9735626220834446, 0.9735626220759934, 0.9735626220847442]\n"
     ]
    },
    {
     "name": "stderr",
     "output_type": "stream",
     "text": [
      "Progress:  32%|███▏      | 158/500 [1:00:02<1:56:27, 20.43s/it]"
     ]
    },
    {
     "name": "stdout",
     "output_type": "stream",
     "text": [
      "Time to: Calculate Ground State - 0.83s, Get Pauli Ops - 5.87s, Calculate Pauli Expectation Values - 11.14s, Calculate Covariance - 2.46s\n",
      "f0,f1,f2 = [1.5726408620508785e-10, 1.5726408641137501e-10, 1.5726408622176366e-10]\n",
      "d01,d02,d12 = [0.9732215178407957, 0.9732215178337676, 0.973221517842015]\n"
     ]
    },
    {
     "name": "stderr",
     "output_type": "stream",
     "text": [
      "Progress:  32%|███▏      | 159/500 [1:00:25<1:59:22, 21.00s/it]"
     ]
    },
    {
     "name": "stdout",
     "output_type": "stream",
     "text": [
      "Time to: Calculate Ground State - 1.49s, Get Pauli Ops - 6.7s, Calculate Pauli Expectation Values - 11.09s, Calculate Covariance - 3.05s\n",
      "f0,f1,f2 = [1.1273009846382348e-09, 1.1273009844648437e-09, 1.127300984557067e-09]\n",
      "d01,d02,d12 = [0.9733625619708222, 0.9733625619642594, 0.9733625619719402]\n"
     ]
    },
    {
     "name": "stderr",
     "output_type": "stream",
     "text": [
      "Progress:  32%|███▏      | 160/500 [1:00:46<1:59:32, 21.10s/it]"
     ]
    },
    {
     "name": "stdout",
     "output_type": "stream",
     "text": [
      "Time to: Calculate Ground State - 1.45s, Get Pauli Ops - 6.75s, Calculate Pauli Expectation Values - 10.56s, Calculate Covariance - 2.55s\n",
      "f0,f1,f2 = [8.950617168605792e-11, 8.950617160281643e-11, 8.950617169660826e-11]\n",
      "d01,d02,d12 = [0.9735347542215418, 0.973534754215495, 0.9735347542225611]\n"
     ]
    },
    {
     "name": "stderr",
     "output_type": "stream",
     "text": [
      "Progress:  32%|███▏      | 161/500 [1:01:11<2:05:48, 22.27s/it]"
     ]
    },
    {
     "name": "stdout",
     "output_type": "stream",
     "text": [
      "Time to: Calculate Ground State - 0.85s, Get Pauli Ops - 10.83s, Calculate Pauli Expectation Values - 10.5s, Calculate Covariance - 2.82s\n",
      "f0,f1,f2 = [1.4874867999360987e-10, 1.4874867991464322e-10, 1.4874867992902037e-10]\n",
      "d01,d02,d12 = [0.9737613505095004, 0.9737613505040018, 0.9737613505104074]\n"
     ]
    },
    {
     "name": "stderr",
     "output_type": "stream",
     "text": [
      "/cluster/home/mskrabulis/miniconda3/envs/quantech/lib/python3.9/site-packages/pyscf/symm/Dmatrix.py:156: RuntimeWarning: invalid value encountered in arccos\n",
      "  gamma = numpy.arccos(yp.dot(c2[1]))\n",
      "Progress:  32%|███▏      | 162/500 [1:01:32<2:04:00, 22.01s/it]"
     ]
    },
    {
     "name": "stdout",
     "output_type": "stream",
     "text": [
      "Time to: Calculate Ground State - 0.95s, Get Pauli Ops - 6.93s, Calculate Pauli Expectation Values - 10.6s, Calculate Covariance - 2.92s\n",
      "f0,f1,f2 = [4.602434941775153e-10, 4.6024349405946665e-10, 4.6024349414819656e-10]\n",
      "d01,d02,d12 = [0.9741692700746281, 0.9741692700697258, 0.9741692700754242]\n"
     ]
    },
    {
     "name": "stderr",
     "output_type": "stream",
     "text": [
      "Progress:  33%|███▎      | 163/500 [1:01:53<2:01:42, 21.67s/it]"
     ]
    },
    {
     "name": "stdout",
     "output_type": "stream",
     "text": [
      "Time to: Calculate Ground State - 1.45s, Get Pauli Ops - 6.38s, Calculate Pauli Expectation Values - 10.66s, Calculate Covariance - 2.37s\n",
      "f0,f1,f2 = [1.8286643786934217e-09, 1.8286643786686913e-09, 1.8286643787432075e-09]\n",
      "d01,d02,d12 = [0.9753185262632589, 0.9753185262589742, 0.9753185262639611]\n"
     ]
    },
    {
     "name": "stderr",
     "output_type": "stream",
     "text": [
      "Progress:  33%|███▎      | 164/500 [1:02:17<2:03:59, 22.14s/it]"
     ]
    },
    {
     "name": "stdout",
     "output_type": "stream",
     "text": [
      "Time to: Calculate Ground State - 1.5s, Get Pauli Ops - 6.01s, Calculate Pauli Expectation Values - 13.38s, Calculate Covariance - 2.36s\n",
      "f0,f1,f2 = [7.673627841560466e-10, 7.673627842659727e-10, 7.673627841673577e-10]\n",
      "d01,d02,d12 = [0.9761006739201354, 0.9761006739164922, 0.9761006739207402]\n"
     ]
    },
    {
     "name": "stderr",
     "output_type": "stream",
     "text": [
      "Progress:  33%|███▎      | 165/500 [1:02:37<2:00:07, 21.52s/it]"
     ]
    },
    {
     "name": "stdout",
     "output_type": "stream",
     "text": [
      "Time to: Calculate Ground State - 1.05s, Get Pauli Ops - 6.78s, Calculate Pauli Expectation Values - 10.46s, Calculate Covariance - 1.75s\n",
      "f0,f1,f2 = [1.369794000220407e-09, 1.3697940002231267e-09, 1.3697940002413359e-09]\n",
      "d01,d02,d12 = [0.9774179155616912, 0.9774179155586938, 0.977417915562196]\n"
     ]
    },
    {
     "name": "stderr",
     "output_type": "stream",
     "text": [
      "/cluster/home/mskrabulis/miniconda3/envs/quantech/lib/python3.9/site-packages/pyscf/symm/Dmatrix.py:156: RuntimeWarning: invalid value encountered in arccos\n",
      "  gamma = numpy.arccos(yp.dot(c2[1]))\n",
      "Progress:  33%|███▎      | 166/500 [1:03:00<2:02:30, 22.01s/it]"
     ]
    },
    {
     "name": "stdout",
     "output_type": "stream",
     "text": [
      "Time to: Calculate Ground State - 1.62s, Get Pauli Ops - 6.04s, Calculate Pauli Expectation Values - 12.49s, Calculate Covariance - 2.98s\n",
      "f0,f1,f2 = [6.443807794192248e-10, 6.443807794770069e-10, 6.443807794165478e-10]\n",
      "d01,d02,d12 = [0.9784119483850919, 0.978411948382761, 0.9784119483854925]\n"
     ]
    },
    {
     "name": "stderr",
     "output_type": "stream",
     "text": [
      "/cluster/home/mskrabulis/miniconda3/envs/quantech/lib/python3.9/site-packages/pyscf/symm/Dmatrix.py:156: RuntimeWarning: invalid value encountered in arccos\n",
      "  gamma = numpy.arccos(yp.dot(c2[1]))\n",
      "Progress:  33%|███▎      | 167/500 [1:03:25<2:07:15, 22.93s/it]"
     ]
    },
    {
     "name": "stdout",
     "output_type": "stream",
     "text": [
      "Time to: Calculate Ground State - 1.57s, Get Pauli Ops - 8.95s, Calculate Pauli Expectation Values - 11.44s, Calculate Covariance - 3.11s\n",
      "f0,f1,f2 = [1.2042053213394827e-09, 1.2042053212448642e-09, 1.2042053212987974e-09]\n",
      "d01,d02,d12 = [0.9798633944049804, 0.9798633944033266, 0.9798633944052669]\n"
     ]
    },
    {
     "name": "stderr",
     "output_type": "stream",
     "text": [
      "/cluster/home/mskrabulis/miniconda3/envs/quantech/lib/python3.9/site-packages/pyscf/symm/Dmatrix.py:156: RuntimeWarning: invalid value encountered in arccos\n",
      "  gamma = numpy.arccos(yp.dot(c2[1]))\n",
      "/cluster/home/mskrabulis/miniconda3/envs/quantech/lib/python3.9/site-packages/pyscf/symm/Dmatrix.py:156: RuntimeWarning: invalid value encountered in arccos\n",
      "  gamma = numpy.arccos(yp.dot(c2[1]))\n",
      "Progress:  34%|███▎      | 168/500 [1:03:48<2:07:36, 23.06s/it]"
     ]
    },
    {
     "name": "stdout",
     "output_type": "stream",
     "text": [
      "Time to: Calculate Ground State - 1.56s, Get Pauli Ops - 6.98s, Calculate Pauli Expectation Values - 11.93s, Calculate Covariance - 2.89s\n",
      "f0,f1,f2 = [3.111892081407777e-11, 3.1118920856204534e-11, 3.1118920785880055e-11]\n",
      "d01,d02,d12 = [0.9812403647280954, 0.9812403647271266, 0.9812403647282604]\n"
     ]
    },
    {
     "name": "stderr",
     "output_type": "stream",
     "text": [
      "Progress:  34%|███▍      | 169/500 [1:04:13<2:09:37, 23.50s/it]"
     ]
    },
    {
     "name": "stdout",
     "output_type": "stream",
     "text": [
      "Time to: Calculate Ground State - 1.6s, Get Pauli Ops - 8.73s, Calculate Pauli Expectation Values - 11.33s, Calculate Covariance - 2.84s\n",
      "f0,f1,f2 = [2.7873962095425254e-10, 2.7873962087749633e-10, 2.787396209342203e-10]\n",
      "d01,d02,d12 = [0.9826745703682558, 0.9826745703679902, 0.9826745703682978]\n"
     ]
    },
    {
     "name": "stderr",
     "output_type": "stream",
     "text": [
      "Progress:  34%|███▍      | 170/500 [1:04:35<2:08:00, 23.27s/it]"
     ]
    },
    {
     "name": "stdout",
     "output_type": "stream",
     "text": [
      "Time to: Calculate Ground State - 0.97s, Get Pauli Ops - 6.89s, Calculate Pauli Expectation Values - 12.11s, Calculate Covariance - 2.77s\n",
      "f0,f1,f2 = [1.8041763302249314e-09, 1.8041763301706718e-09, 1.8041763301914518e-09]\n",
      "d01,d02,d12 = [0.9847964334196451, 0.9847964334200808, 0.9847964334195557]\n"
     ]
    },
    {
     "name": "stderr",
     "output_type": "stream",
     "text": [
      "Progress:  34%|███▍      | 171/500 [1:05:00<2:09:42, 23.65s/it]"
     ]
    },
    {
     "name": "stdout",
     "output_type": "stream",
     "text": [
      "Time to: Calculate Ground State - 1.59s, Get Pauli Ops - 9.41s, Calculate Pauli Expectation Values - 10.84s, Calculate Covariance - 2.69s\n",
      "f0,f1,f2 = [4.765431766856686e-10, 4.765431766744648e-10, 4.76543176712407e-10]\n",
      "d01,d02,d12 = [0.9866306101827037, 0.9866306101838224, 0.9866306101824746]\n"
     ]
    },
    {
     "name": "stderr",
     "output_type": "stream",
     "text": [
      "Progress:  34%|███▍      | 172/500 [1:05:21<2:05:20, 22.93s/it]"
     ]
    },
    {
     "name": "stdout",
     "output_type": "stream",
     "text": [
      "Time to: Calculate Ground State - 0.96s, Get Pauli Ops - 6.18s, Calculate Pauli Expectation Values - 11.25s, Calculate Covariance - 2.83s\n",
      "f0,f1,f2 = [4.6231957448041e-11, 4.623195746334851e-11, 4.623195746550692e-11]\n",
      "d01,d02,d12 = [0.988367825247078, 0.98836782524888, 0.9883678252467069]\n"
     ]
    },
    {
     "name": "stderr",
     "output_type": "stream",
     "text": [
      "/cluster/home/mskrabulis/miniconda3/envs/quantech/lib/python3.9/site-packages/pyscf/symm/Dmatrix.py:156: RuntimeWarning: invalid value encountered in arccos\n",
      "  gamma = numpy.arccos(yp.dot(c2[1]))\n",
      "Progress:  35%|███▍      | 173/500 [1:05:44<2:04:38, 22.87s/it]"
     ]
    },
    {
     "name": "stdout",
     "output_type": "stream",
     "text": [
      "Time to: Calculate Ground State - 0.99s, Get Pauli Ops - 6.86s, Calculate Pauli Expectation Values - 11.77s, Calculate Covariance - 3.1s\n",
      "f0,f1,f2 = [3.3583485406864874e-10, 3.358348540605513e-10, 3.3583485408904764e-10]\n",
      "d01,d02,d12 = [0.9901706986009677, 0.9901706986034505, 0.9901706986004656]\n"
     ]
    },
    {
     "name": "stderr",
     "output_type": "stream",
     "text": [
      "/cluster/home/mskrabulis/miniconda3/envs/quantech/lib/python3.9/site-packages/pyscf/symm/Dmatrix.py:156: RuntimeWarning: invalid value encountered in arccos\n",
      "  gamma = numpy.arccos(yp.dot(c2[1]))\n",
      "/cluster/home/mskrabulis/miniconda3/envs/quantech/lib/python3.9/site-packages/pyscf/symm/Dmatrix.py:156: RuntimeWarning: invalid value encountered in arccos\n",
      "  gamma = numpy.arccos(yp.dot(c2[1]))\n",
      "Progress:  35%|███▍      | 174/500 [1:06:07<2:04:38, 22.94s/it]"
     ]
    },
    {
     "name": "stdout",
     "output_type": "stream",
     "text": [
      "Time to: Calculate Ground State - 1.63s, Get Pauli Ops - 7.26s, Calculate Pauli Expectation Values - 11.17s, Calculate Covariance - 3.03s\n",
      "f0,f1,f2 = [4.270765525055905e-10, 4.2707655244858425e-10, 4.270765524993082e-10]\n",
      "d01,d02,d12 = [0.9917199453323393, 0.9917199453354894, 0.9917199453317187]\n"
     ]
    },
    {
     "name": "stderr",
     "output_type": "stream",
     "text": [
      "/cluster/home/mskrabulis/miniconda3/envs/quantech/lib/python3.9/site-packages/pyscf/symm/Dmatrix.py:156: RuntimeWarning: invalid value encountered in arccos\n",
      "  gamma = numpy.arccos(yp.dot(c2[1]))\n",
      "Progress:  35%|███▌      | 175/500 [1:06:27<1:59:34, 22.08s/it]"
     ]
    },
    {
     "name": "stdout",
     "output_type": "stream",
     "text": [
      "Time to: Calculate Ground State - 0.98s, Get Pauli Ops - 5.57s, Calculate Pauli Expectation Values - 11.54s, Calculate Covariance - 1.97s\n",
      "f0,f1,f2 = [6.673644471112607e-10, 6.673644471677804e-10, 6.673644471159248e-10]\n",
      "d01,d02,d12 = [0.9934803642500394, 0.9934803642538459, 0.9934803642493005]\n"
     ]
    },
    {
     "name": "stderr",
     "output_type": "stream",
     "text": [
      "Progress:  35%|███▌      | 176/500 [1:06:48<1:56:48, 21.63s/it]"
     ]
    },
    {
     "name": "stdout",
     "output_type": "stream",
     "text": [
      "Time to: Calculate Ground State - 0.95s, Get Pauli Ops - 5.85s, Calculate Pauli Expectation Values - 11.09s, Calculate Covariance - 2.68s\n",
      "f0,f1,f2 = [2.620738543453327e-10, 2.620738544057269e-10, 2.620738543811722e-10]\n",
      "d01,d02,d12 = [0.9952748627901755, 0.9952748627946169, 0.9952748627893258]\n"
     ]
    },
    {
     "name": "stderr",
     "output_type": "stream",
     "text": [
      "Progress:  35%|███▌      | 177/500 [1:07:09<1:55:16, 21.41s/it]"
     ]
    },
    {
     "name": "stdout",
     "output_type": "stream",
     "text": [
      "Time to: Calculate Ground State - 0.95s, Get Pauli Ops - 6.01s, Calculate Pauli Expectation Values - 11.04s, Calculate Covariance - 2.89s\n",
      "f0,f1,f2 = [1.3769409759534861e-10, 1.3769409765745274e-10, 1.3769409755428393e-10]\n",
      "d01,d02,d12 = [0.9970503963151609, 0.9970503963201974, 0.9970503963141869]\n"
     ]
    },
    {
     "name": "stderr",
     "output_type": "stream",
     "text": [
      "Progress:  36%|███▌      | 178/500 [1:07:31<1:56:21, 21.68s/it]"
     ]
    },
    {
     "name": "stdout",
     "output_type": "stream",
     "text": [
      "Time to: Calculate Ground State - 1.61s, Get Pauli Ops - 6.47s, Calculate Pauli Expectation Values - 11.37s, Calculate Covariance - 2.86s\n",
      "f0,f1,f2 = [1.7428029414549721e-09, 1.742802941320243e-09, 1.7428029414037322e-09]\n",
      "d01,d02,d12 = [0.9980276215549974, 0.9980276215605882, 0.9980276215539065]\n"
     ]
    },
    {
     "name": "stderr",
     "output_type": "stream",
     "text": [
      "Progress:  36%|███▌      | 179/500 [1:07:54<1:58:18, 22.11s/it]"
     ]
    },
    {
     "name": "stdout",
     "output_type": "stream",
     "text": [
      "Time to: Calculate Ground State - 1.53s, Get Pauli Ops - 7.13s, Calculate Pauli Expectation Values - 12.03s, Calculate Covariance - 2.42s\n",
      "f0,f1,f2 = [6.393621467902094e-10, 6.393621467024761e-10, 6.393621467772347e-10]\n",
      "d01,d02,d12 = [0.998698163933629, 0.9986981639397247, 0.9986981639324222]\n"
     ]
    },
    {
     "name": "stderr",
     "output_type": "stream",
     "text": [
      "/cluster/home/mskrabulis/miniconda3/envs/quantech/lib/python3.9/site-packages/pyscf/symm/Dmatrix.py:156: RuntimeWarning: invalid value encountered in arccos\n",
      "  gamma = numpy.arccos(yp.dot(c2[1]))\n",
      "Progress:  36%|███▌      | 180/500 [1:08:14<1:55:03, 21.57s/it]"
     ]
    },
    {
     "name": "stdout",
     "output_type": "stream",
     "text": [
      "Time to: Calculate Ground State - 1.55s, Get Pauli Ops - 5.97s, Calculate Pauli Expectation Values - 10.39s, Calculate Covariance - 2.4s\n",
      "f0,f1,f2 = [5.281978420173494e-11, 5.281978406788346e-11, 5.281978416218191e-11]\n",
      "d01,d02,d12 = [0.9993183615634527, 0.9993183615700219, 0.9993183615621389]\n"
     ]
    },
    {
     "name": "stderr",
     "output_type": "stream",
     "text": [
      "Progress:  36%|███▌      | 181/500 [1:08:35<1:52:43, 21.20s/it]"
     ]
    },
    {
     "name": "stdout",
     "output_type": "stream",
     "text": [
      "Time to: Calculate Ground State - 0.92s, Get Pauli Ops - 5.76s, Calculate Pauli Expectation Values - 11.45s, Calculate Covariance - 2.18s\n",
      "f0,f1,f2 = [7.541411773537456e-10, 7.541411772606843e-10, 7.541411773323849e-10]\n",
      "d01,d02,d12 = [0.9995993970923319, 0.9995993970993392, 0.9995993970909254]\n"
     ]
    },
    {
     "name": "stderr",
     "output_type": "stream",
     "text": [
      "/cluster/home/mskrabulis/miniconda3/envs/quantech/lib/python3.9/site-packages/pyscf/symm/Dmatrix.py:156: RuntimeWarning: invalid value encountered in arccos\n",
      "  gamma = numpy.arccos(yp.dot(c2[1]))\n",
      "Progress:  36%|███▋      | 182/500 [1:08:58<1:56:26, 21.97s/it]"
     ]
    },
    {
     "name": "stdout",
     "output_type": "stream",
     "text": [
      "Time to: Calculate Ground State - 1.55s, Get Pauli Ops - 9.4s, Calculate Pauli Expectation Values - 10.36s, Calculate Covariance - 2.44s\n",
      "f0,f1,f2 = [6.347003556871166e-10, 6.347003555681466e-10, 6.347003556307504e-10]\n",
      "d01,d02,d12 = [0.9996052029482629, 0.9996052029556788, 0.9996052029467766]\n"
     ]
    },
    {
     "name": "stderr",
     "output_type": "stream",
     "text": [
      "/cluster/home/mskrabulis/miniconda3/envs/quantech/lib/python3.9/site-packages/pyscf/symm/Dmatrix.py:156: RuntimeWarning: invalid value encountered in arccos\n",
      "  gamma = numpy.arccos(yp.dot(c2[1]))\n",
      "Progress:  37%|███▋      | 183/500 [1:09:23<1:59:58, 22.71s/it]"
     ]
    },
    {
     "name": "stdout",
     "output_type": "stream",
     "text": [
      "Time to: Calculate Ground State - 1.55s, Get Pauli Ops - 8.32s, Calculate Pauli Expectation Values - 11.37s, Calculate Covariance - 3.18s\n",
      "f0,f1,f2 = [1.460201047381014e-09, 1.4602010472821822e-09, 1.4602010473979786e-09]\n",
      "d01,d02,d12 = [0.9990049800160798, 0.9990049800238541, 0.9990049800145198]\n"
     ]
    },
    {
     "name": "stderr",
     "output_type": "stream",
     "text": [
      "/cluster/home/mskrabulis/miniconda3/envs/quantech/lib/python3.9/site-packages/pyscf/symm/Dmatrix.py:156: RuntimeWarning: invalid value encountered in arccos\n",
      "  gamma = numpy.arccos(yp.dot(c2[1]))\n",
      "Progress:  37%|███▋      | 184/500 [1:09:48<2:03:31, 23.45s/it]"
     ]
    },
    {
     "name": "stdout",
     "output_type": "stream",
     "text": [
      "Time to: Calculate Ground State - 1.56s, Get Pauli Ops - 7.21s, Calculate Pauli Expectation Values - 13.42s, Calculate Covariance - 2.99s\n",
      "f0,f1,f2 = [1.292338715780733e-09, 1.2923387156849296e-09, 1.2923387157487356e-09]\n",
      "d01,d02,d12 = [0.997894064461744, 0.9978940644698386, 0.9978940644601229]\n"
     ]
    },
    {
     "name": "stderr",
     "output_type": "stream",
     "text": [
      "Progress:  37%|███▋      | 185/500 [1:10:14<2:07:22, 24.26s/it]"
     ]
    },
    {
     "name": "stdout",
     "output_type": "stream",
     "text": [
      "Time to: Calculate Ground State - 1.59s, Get Pauli Ops - 11.68s, Calculate Pauli Expectation Values - 10.66s, Calculate Covariance - 2.21s\n",
      "f0,f1,f2 = [1.730333634048752e-10, 1.7303336320259895e-10, 1.7303336339969163e-10]\n",
      "d01,d02,d12 = [0.9967584679318722, 0.9967584679402283, 0.9967584679302106]\n"
     ]
    },
    {
     "name": "stderr",
     "output_type": "stream",
     "text": [
      "Progress:  37%|███▋      | 186/500 [1:10:39<2:07:21, 24.34s/it]"
     ]
    },
    {
     "name": "stdout",
     "output_type": "stream",
     "text": [
      "Time to: Calculate Ground State - 1.48s, Get Pauli Ops - 8.85s, Calculate Pauli Expectation Values - 11.14s, Calculate Covariance - 3.03s\n",
      "f0,f1,f2 = [5.063235341116888e-10, 5.063235339294584e-10, 5.063235341210094e-10]\n",
      "d01,d02,d12 = [0.9954609674053059, 0.9954609674138523, 0.995460967403611]\n"
     ]
    },
    {
     "name": "stderr",
     "output_type": "stream",
     "text": [
      "Progress:  37%|███▋      | 187/500 [1:11:01<2:04:09, 23.80s/it]"
     ]
    },
    {
     "name": "stdout",
     "output_type": "stream",
     "text": [
      "Time to: Calculate Ground State - 1.31s, Get Pauli Ops - 7.22s, Calculate Pauli Expectation Values - 11.49s, Calculate Covariance - 2.51s\n",
      "f0,f1,f2 = [4.2674399057969014e-10, 4.267439904716548e-10, 4.2674399057751394e-10]\n",
      "d01,d02,d12 = [0.9940414425951098, 0.9940414426037966, 0.9940414425933763]\n"
     ]
    },
    {
     "name": "stderr",
     "output_type": "stream",
     "text": [
      "/cluster/home/mskrabulis/miniconda3/envs/quantech/lib/python3.9/site-packages/pyscf/symm/Dmatrix.py:156: RuntimeWarning: invalid value encountered in arccos\n",
      "  gamma = numpy.arccos(yp.dot(c2[1]))\n",
      "Progress:  38%|███▊      | 188/500 [1:11:25<2:03:15, 23.70s/it]"
     ]
    },
    {
     "name": "stdout",
     "output_type": "stream",
     "text": [
      "Time to: Calculate Ground State - 1.5s, Get Pauli Ops - 9.11s, Calculate Pauli Expectation Values - 11.07s, Calculate Covariance - 1.79s\n",
      "f0,f1,f2 = [2.124493659423908e-10, 2.1244936578190167e-10, 2.1244936595364801e-10]\n",
      "d01,d02,d12 = [0.9925939708345133, 0.9925939708432711, 0.9925939708327469]\n"
     ]
    },
    {
     "name": "stderr",
     "output_type": "stream",
     "text": [
      "Progress:  38%|███▊      | 189/500 [1:11:50<2:05:43, 24.26s/it]"
     ]
    },
    {
     "name": "stdout",
     "output_type": "stream",
     "text": [
      "Time to: Calculate Ground State - 1.5s, Get Pauli Ops - 6.08s, Calculate Pauli Expectation Values - 15.37s, Calculate Covariance - 2.58s\n",
      "f0,f1,f2 = [1.4885940061303496e-09, 1.4885940062756098e-09, 1.4885940062006079e-09]\n",
      "d01,d02,d12 = [0.9918254369086346, 0.9918254369174329, 0.9918254369068534]\n"
     ]
    },
    {
     "name": "stderr",
     "output_type": "stream",
     "text": [
      "Progress:  38%|███▊      | 190/500 [1:12:14<2:04:51, 24.16s/it]"
     ]
    },
    {
     "name": "stdout",
     "output_type": "stream",
     "text": [
      "Time to: Calculate Ground State - 1.64s, Get Pauli Ops - 9.37s, Calculate Pauli Expectation Values - 10.72s, Calculate Covariance - 2.2s\n",
      "f0,f1,f2 = [8.705774809464806e-10, 8.705774811060701e-10, 8.705774809997965e-10]\n",
      "d01,d02,d12 = [0.991450660778914, 0.9914506607877127, 0.9914506607771362]\n"
     ]
    },
    {
     "name": "stderr",
     "output_type": "stream",
     "text": [
      "/cluster/home/mskrabulis/miniconda3/envs/quantech/lib/python3.9/site-packages/pyscf/symm/Dmatrix.py:156: RuntimeWarning: invalid value encountered in arccos\n",
      "  gamma = numpy.arccos(yp.dot(c2[1]))\n",
      "Progress:  38%|███▊      | 191/500 [1:12:39<2:05:11, 24.31s/it]"
     ]
    },
    {
     "name": "stdout",
     "output_type": "stream",
     "text": [
      "Time to: Calculate Ground State - 1.56s, Get Pauli Ops - 9.92s, Calculate Pauli Expectation Values - 10.73s, Calculate Covariance - 2.42s\n",
      "f0,f1,f2 = [7.416567885724627e-10, 7.416567884061858e-10, 7.416567885009593e-10]\n",
      "d01,d02,d12 = [0.9907840906679172, 0.9907840906766694, 0.9907840906661739]\n"
     ]
    },
    {
     "name": "stderr",
     "output_type": "stream",
     "text": [
      "Progress:  38%|███▊      | 192/500 [1:13:02<2:02:13, 23.81s/it]"
     ]
    },
    {
     "name": "stdout",
     "output_type": "stream",
     "text": [
      "Time to: Calculate Ground State - 1.55s, Get Pauli Ops - 8.06s, Calculate Pauli Expectation Values - 10.8s, Calculate Covariance - 2.23s\n",
      "f0,f1,f2 = [1.3053557545034817e-09, 1.3053557543085278e-09, 1.3053557544550287e-09]\n",
      "d01,d02,d12 = [0.9896042421672443, 0.989604242175877, 0.9896042421655503]\n"
     ]
    },
    {
     "name": "stderr",
     "output_type": "stream",
     "text": [
      "Progress:  39%|███▊      | 193/500 [1:13:23<1:57:25, 22.95s/it]"
     ]
    },
    {
     "name": "stdout",
     "output_type": "stream",
     "text": [
      "Time to: Calculate Ground State - 1.54s, Get Pauli Ops - 5.93s, Calculate Pauli Expectation Values - 11.0s, Calculate Covariance - 2.44s\n",
      "f0,f1,f2 = [1.6711011691661207e-11, 1.6711011864188914e-11, 1.671101170763155e-11]\n",
      "d01,d02,d12 = [0.9884813569064655, 0.9884813569149129, 0.9884813569048241]\n"
     ]
    },
    {
     "name": "stderr",
     "output_type": "stream",
     "text": [
      "Progress:  39%|███▉      | 194/500 [1:13:45<1:56:31, 22.85s/it]"
     ]
    },
    {
     "name": "stdout",
     "output_type": "stream",
     "text": [
      "Time to: Calculate Ground State - 1.58s, Get Pauli Ops - 6.56s, Calculate Pauli Expectation Values - 11.49s, Calculate Covariance - 2.97s\n",
      "f0,f1,f2 = [5.399933749647782e-10, 5.399933751485704e-10, 5.39993375055912e-10]\n",
      "d01,d02,d12 = [0.9876301106535008, 0.9876301106617001, 0.9876301106519244]\n"
     ]
    },
    {
     "name": "stderr",
     "output_type": "stream",
     "text": [
      "/cluster/home/mskrabulis/miniconda3/envs/quantech/lib/python3.9/site-packages/pyscf/symm/Dmatrix.py:156: RuntimeWarning: invalid value encountered in arccos\n",
      "  gamma = numpy.arccos(yp.dot(c2[1]))\n",
      "Progress:  39%|███▉      | 195/500 [1:14:07<1:54:23, 22.50s/it]"
     ]
    },
    {
     "name": "stdout",
     "output_type": "stream",
     "text": [
      "Time to: Calculate Ground State - 1.54s, Get Pauli Ops - 6.77s, Calculate Pauli Expectation Values - 11.29s, Calculate Covariance - 2.09s\n",
      "f0,f1,f2 = [8.534146476099073e-10, 8.534146475055284e-10, 8.534146476026246e-10]\n",
      "d01,d02,d12 = [0.9864609125243631, 0.9864609125322616, 0.9864609125228528]\n"
     ]
    },
    {
     "name": "stderr",
     "output_type": "stream",
     "text": [
      "/cluster/home/mskrabulis/miniconda3/envs/quantech/lib/python3.9/site-packages/pyscf/symm/Dmatrix.py:156: RuntimeWarning: invalid value encountered in arccos\n",
      "  gamma = numpy.arccos(yp.dot(c2[1]))\n",
      "Progress:  39%|███▉      | 196/500 [1:14:29<1:53:01, 22.31s/it]"
     ]
    },
    {
     "name": "stdout",
     "output_type": "stream",
     "text": [
      "Time to: Calculate Ground State - 1.52s, Get Pauli Ops - 6.86s, Calculate Pauli Expectation Values - 11.25s, Calculate Covariance - 2.22s\n",
      "f0,f1,f2 = [8.739763469092429e-10, 8.739763470799058e-10, 8.739763469347484e-10]\n",
      "d01,d02,d12 = [0.9857038766673545, 0.985703876674892, 0.9857038766659036]\n"
     ]
    },
    {
     "name": "stderr",
     "output_type": "stream",
     "text": [
      "Progress:  39%|███▉      | 197/500 [1:14:51<1:53:13, 22.42s/it]"
     ]
    },
    {
     "name": "stdout",
     "output_type": "stream",
     "text": [
      "Time to: Calculate Ground State - 1.56s, Get Pauli Ops - 8.19s, Calculate Pauli Expectation Values - 10.47s, Calculate Covariance - 2.47s\n",
      "f0,f1,f2 = [7.29882570555051e-10, 7.298825706486269e-10, 7.298825705513156e-10]\n",
      "d01,d02,d12 = [0.9852817460560128, 0.9852817460631534, 0.9852817460546255]\n"
     ]
    },
    {
     "name": "stderr",
     "output_type": "stream",
     "text": [
      "Progress:  40%|███▉      | 198/500 [1:15:14<1:53:49, 22.61s/it]"
     ]
    },
    {
     "name": "stdout",
     "output_type": "stream",
     "text": [
      "Time to: Calculate Ground State - 1.49s, Get Pauli Ops - 7.83s, Calculate Pauli Expectation Values - 10.79s, Calculate Covariance - 2.94s\n",
      "f0,f1,f2 = [2.9516044527677e-10, 2.9516044540333095e-10, 2.951604452926236e-10]\n",
      "d01,d02,d12 = [0.984999968358543, 0.9849999683652549, 0.9849999683572285]\n"
     ]
    },
    {
     "name": "stderr",
     "output_type": "stream",
     "text": [
      "Progress:  40%|███▉      | 199/500 [1:15:40<1:57:06, 23.35s/it]"
     ]
    },
    {
     "name": "stdout",
     "output_type": "stream",
     "text": [
      "Time to: Calculate Ground State - 1.54s, Get Pauli Ops - 9.54s, Calculate Pauli Expectation Values - 10.91s, Calculate Covariance - 3.06s\n",
      "f0,f1,f2 = [1.096609222585664e-09, 1.096609222467834e-09, 1.0966092225976915e-09]\n",
      "d01,d02,d12 = [0.9842751985200431, 0.9842751985262556, 0.9842751985188036]\n"
     ]
    },
    {
     "name": "stderr",
     "output_type": "stream",
     "text": [
      "/cluster/home/mskrabulis/miniconda3/envs/quantech/lib/python3.9/site-packages/pyscf/symm/Dmatrix.py:156: RuntimeWarning: invalid value encountered in arccos\n",
      "  gamma = numpy.arccos(yp.dot(c2[1]))\n",
      "Progress:  40%|████      | 200/500 [1:16:04<1:58:04, 23.62s/it]"
     ]
    },
    {
     "name": "stdout",
     "output_type": "stream",
     "text": [
      "Time to: Calculate Ground State - 1.51s, Get Pauli Ops - 8.72s, Calculate Pauli Expectation Values - 11.03s, Calculate Covariance - 2.98s\n",
      "f0,f1,f2 = [1.5618265913380865e-09, 1.5618265912028779e-09, 1.5618265913169225e-09]\n",
      "d01,d02,d12 = [0.9829332227941616, 0.9829332227998224, 0.982933222793008]\n"
     ]
    },
    {
     "name": "stderr",
     "output_type": "stream",
     "text": [
      "/cluster/home/mskrabulis/miniconda3/envs/quantech/lib/python3.9/site-packages/pyscf/symm/Dmatrix.py:156: RuntimeWarning: invalid value encountered in arccos\n",
      "  gamma = numpy.arccos(yp.dot(c2[1]))\n",
      "Progress:  40%|████      | 201/500 [1:16:29<2:00:05, 24.10s/it]"
     ]
    },
    {
     "name": "stdout",
     "output_type": "stream",
     "text": [
      "Time to: Calculate Ground State - 1.58s, Get Pauli Ops - 10.09s, Calculate Pauli Expectation Values - 10.96s, Calculate Covariance - 2.57s\n",
      "f0,f1,f2 = [4.215032716636899e-10, 4.215032717370908e-10, 4.215032716602261e-10]\n",
      "d01,d02,d12 = [0.9818230284084835, 0.9818230284135667, 0.9818230284074179]\n"
     ]
    },
    {
     "name": "stderr",
     "output_type": "stream",
     "text": [
      "Progress:  40%|████      | 202/500 [1:16:52<1:57:43, 23.70s/it]"
     ]
    },
    {
     "name": "stdout",
     "output_type": "stream",
     "text": [
      "Time to: Calculate Ground State - 0.94s, Get Pauli Ops - 6.72s, Calculate Pauli Expectation Values - 12.86s, Calculate Covariance - 2.25s\n",
      "f0,f1,f2 = [2.878551124536204e-10, 2.8785511232041285e-10, 2.8785511244809893e-10]\n",
      "d01,d02,d12 = [0.9806405008864185, 0.9806405008908805, 0.980640500885448]\n"
     ]
    },
    {
     "name": "stderr",
     "output_type": "stream",
     "text": [
      "Progress:  41%|████      | 203/500 [1:17:14<1:55:32, 23.34s/it]"
     ]
    },
    {
     "name": "stdout",
     "output_type": "stream",
     "text": [
      "Time to: Calculate Ground State - 1.57s, Get Pauli Ops - 7.04s, Calculate Pauli Expectation Values - 10.92s, Calculate Covariance - 2.97s\n",
      "f0,f1,f2 = [3.4641859327908757e-10, 3.46418593358355e-10, 3.4641859330692235e-10]\n",
      "d01,d02,d12 = [0.9796518467700408, 0.9796518467738703, 0.9796518467691765]\n"
     ]
    },
    {
     "name": "stderr",
     "output_type": "stream",
     "text": [
      "/cluster/home/mskrabulis/miniconda3/envs/quantech/lib/python3.9/site-packages/pyscf/symm/Dmatrix.py:156: RuntimeWarning: invalid value encountered in arccos\n",
      "  gamma = numpy.arccos(yp.dot(c2[1]))\n",
      "Progress:  41%|████      | 204/500 [1:17:36<1:53:01, 22.91s/it]"
     ]
    },
    {
     "name": "stdout",
     "output_type": "stream",
     "text": [
      "Time to: Calculate Ground State - 1.57s, Get Pauli Ops - 6.85s, Calculate Pauli Expectation Values - 11.03s, Calculate Covariance - 2.44s\n",
      "f0,f1,f2 = [4.156496198114257e-11, 4.15649621348355e-11, 4.156496205086672e-11]\n",
      "d01,d02,d12 = [0.9787223722970654, 0.9787223723002384, 0.9787223722963247]\n"
     ]
    },
    {
     "name": "stderr",
     "output_type": "stream",
     "text": [
      "/cluster/home/mskrabulis/miniconda3/envs/quantech/lib/python3.9/site-packages/pyscf/symm/Dmatrix.py:156: RuntimeWarning: invalid value encountered in arccos\n",
      "  gamma = numpy.arccos(yp.dot(c2[1]))\n",
      "/cluster/home/mskrabulis/miniconda3/envs/quantech/lib/python3.9/site-packages/pyscf/symm/Dmatrix.py:156: RuntimeWarning: invalid value encountered in arccos\n",
      "  gamma = numpy.arccos(yp.dot(c2[1]))\n",
      "Progress:  41%|████      | 205/500 [1:17:58<1:50:56, 22.57s/it]"
     ]
    },
    {
     "name": "stdout",
     "output_type": "stream",
     "text": [
      "Time to: Calculate Ground State - 1.56s, Get Pauli Ops - 6.79s, Calculate Pauli Expectation Values - 11.04s, Calculate Covariance - 2.37s\n",
      "f0,f1,f2 = [8.864617254098351e-10, 8.864617254583531e-10, 8.864617254149595e-10]\n",
      "d01,d02,d12 = [0.9782000848170156, 0.978200084819515, 0.9782000848163988]\n"
     ]
    },
    {
     "name": "stderr",
     "output_type": "stream",
     "text": [
      "/cluster/home/mskrabulis/miniconda3/envs/quantech/lib/python3.9/site-packages/pyscf/symm/Dmatrix.py:156: RuntimeWarning: invalid value encountered in arccos\n",
      "  gamma = numpy.arccos(yp.dot(c2[1]))\n",
      "Progress:  41%|████      | 206/500 [1:18:21<1:51:39, 22.79s/it]"
     ]
    },
    {
     "name": "stdout",
     "output_type": "stream",
     "text": [
      "Time to: Calculate Ground State - 1.59s, Get Pauli Ops - 6.52s, Calculate Pauli Expectation Values - 13.44s, Calculate Covariance - 1.74s\n",
      "f0,f1,f2 = [1.4662661221766607e-09, 1.4662661222412933e-09, 1.4662661222303172e-09]\n",
      "d01,d02,d12 = [0.9783082515222469, 0.9783082515240655, 0.9783082515217645]\n"
     ]
    },
    {
     "name": "stderr",
     "output_type": "stream",
     "text": [
      "/cluster/home/mskrabulis/miniconda3/envs/quantech/lib/python3.9/site-packages/pyscf/symm/Dmatrix.py:156: RuntimeWarning: invalid value encountered in arccos\n",
      "  gamma = numpy.arccos(yp.dot(c2[1]))\n",
      "Progress:  41%|████▏     | 207/500 [1:18:47<1:56:03, 23.77s/it]"
     ]
    },
    {
     "name": "stdout",
     "output_type": "stream",
     "text": [
      "Time to: Calculate Ground State - 1.56s, Get Pauli Ops - 6.64s, Calculate Pauli Expectation Values - 14.9s, Calculate Covariance - 2.94s\n",
      "f0,f1,f2 = [2.572735815391529e-10, 2.5727358156009914e-10, 2.5727358152017134e-10]\n",
      "d01,d02,d12 = [0.9785185629772468, 0.9785185629783671, 0.9785185629769089]\n"
     ]
    },
    {
     "name": "stderr",
     "output_type": "stream",
     "text": [
      "/cluster/home/mskrabulis/miniconda3/envs/quantech/lib/python3.9/site-packages/pyscf/symm/Dmatrix.py:156: RuntimeWarning: invalid value encountered in arccos\n",
      "  gamma = numpy.arccos(yp.dot(c2[1]))\n",
      "Progress:  42%|████▏     | 208/500 [1:19:15<2:01:03, 24.88s/it]"
     ]
    },
    {
     "name": "stdout",
     "output_type": "stream",
     "text": [
      "Time to: Calculate Ground State - 1.59s, Get Pauli Ops - 7.32s, Calculate Pauli Expectation Values - 15.47s, Calculate Covariance - 3.08s\n",
      "f0,f1,f2 = [9.270409118798534e-10, 9.270409119675359e-10, 9.270409119286281e-10]\n",
      "d01,d02,d12 = [0.9791045476428855, 0.979104547643292, 0.9791045476427082]\n"
     ]
    },
    {
     "name": "stderr",
     "output_type": "stream",
     "text": [
      "Progress:  42%|████▏     | 209/500 [1:19:39<1:59:34, 24.65s/it]"
     ]
    },
    {
     "name": "stdout",
     "output_type": "stream",
     "text": [
      "Time to: Calculate Ground State - 1.8s, Get Pauli Ops - 8.61s, Calculate Pauli Expectation Values - 10.84s, Calculate Covariance - 2.87s\n",
      "f0,f1,f2 = [1.0662621264394922e-09, 1.0662621265226592e-09, 1.066262126517968e-09]\n",
      "d01,d02,d12 = [0.9801080280284298, 0.9801080280281074, 0.9801080280284298]\n"
     ]
    },
    {
     "name": "stderr",
     "output_type": "stream",
     "text": [
      "Progress:  42%|████▏     | 210/500 [1:20:03<1:57:40, 24.35s/it]"
     ]
    },
    {
     "name": "stdout",
     "output_type": "stream",
     "text": [
      "Time to: Calculate Ground State - 1.65s, Get Pauli Ops - 6.96s, Calculate Pauli Expectation Values - 12.18s, Calculate Covariance - 2.83s\n",
      "f0,f1,f2 = [1.054644184327519e-09, 1.0546441843338418e-09, 1.0546441843301764e-09]\n",
      "d01,d02,d12 = [0.9815064767241902, 0.981506476723149, 0.9815064767243674]\n"
     ]
    },
    {
     "name": "stderr",
     "output_type": "stream",
     "text": [
      "Progress:  42%|████▏     | 211/500 [1:20:23<1:52:11, 23.29s/it]"
     ]
    },
    {
     "name": "stdout",
     "output_type": "stream",
     "text": [
      "Time to: Calculate Ground State - 1.55s, Get Pauli Ops - 5.98s, Calculate Pauli Expectation Values - 10.93s, Calculate Covariance - 2.37s\n",
      "f0,f1,f2 = [1.1590225837238918e-09, 1.159022583701895e-09, 1.159022583705769e-09]\n",
      "d01,d02,d12 = [0.9833264466588887, 0.9833264466571352, 0.9833264466592446]\n"
     ]
    },
    {
     "name": "stderr",
     "output_type": "stream",
     "text": [
      "Progress:  42%|████▏     | 212/500 [1:20:44<1:47:28, 22.39s/it]"
     ]
    },
    {
     "name": "stdout",
     "output_type": "stream",
     "text": [
      "Time to: Calculate Ground State - 1.54s, Get Pauli Ops - 5.73s, Calculate Pauli Expectation Values - 11.01s, Calculate Covariance - 2.01s\n",
      "f0,f1,f2 = [8.055089547274311e-10, 8.055089547231931e-10, 8.055089547218911e-10]\n",
      "d01,d02,d12 = [0.9847350542320321, 0.9847350542295737, 0.9847350542325777]\n"
     ]
    },
    {
     "name": "stderr",
     "output_type": "stream",
     "text": [
      "Progress:  43%|████▎     | 213/500 [1:21:09<1:51:28, 23.30s/it]"
     ]
    },
    {
     "name": "stdout",
     "output_type": "stream",
     "text": [
      "Time to: Calculate Ground State - 1.49s, Get Pauli Ops - 10.24s, Calculate Pauli Expectation Values - 10.87s, Calculate Covariance - 2.82s\n",
      "f0,f1,f2 = [4.091691034566046e-10, 4.0916910340414685e-10, 4.091691034700133e-10]\n",
      "d01,d02,d12 = [0.9862536728224869, 0.9862536728193448, 0.986253672823229]\n"
     ]
    },
    {
     "name": "stderr",
     "output_type": "stream",
     "text": [
      "Progress:  43%|████▎     | 214/500 [1:21:32<1:50:29, 23.18s/it]"
     ]
    },
    {
     "name": "stdout",
     "output_type": "stream",
     "text": [
      "Time to: Calculate Ground State - 1.51s, Get Pauli Ops - 8.29s, Calculate Pauli Expectation Values - 10.63s, Calculate Covariance - 2.47s\n",
      "f0,f1,f2 = [1.3588306379115335e-09, 1.3588306378488332e-09, 1.3588306378752314e-09]\n",
      "d01,d02,d12 = [0.9882716185864058, 0.9882716185825904, 0.9882716185873366]\n"
     ]
    },
    {
     "name": "stderr",
     "output_type": "stream",
     "text": [
      "Progress:  43%|████▎     | 215/500 [1:21:54<1:48:32, 22.85s/it]"
     ]
    },
    {
     "name": "stdout",
     "output_type": "stream",
     "text": [
      "Time to: Calculate Ground State - 1.52s, Get Pauli Ops - 6.11s, Calculate Pauli Expectation Values - 12.76s, Calculate Covariance - 1.69s\n",
      "f0,f1,f2 = [5.053302596175713e-11, 5.053302584255276e-11, 5.053302596495162e-11]\n",
      "d01,d02,d12 = [0.9902249571187556, 0.9902249571143044, 0.9902249571198778]\n"
     ]
    },
    {
     "name": "stderr",
     "output_type": "stream",
     "text": [
      "/cluster/home/mskrabulis/miniconda3/envs/quantech/lib/python3.9/site-packages/pyscf/symm/Dmatrix.py:156: RuntimeWarning: invalid value encountered in arccos\n",
      "  gamma = numpy.arccos(yp.dot(c2[1]))\n",
      "Progress:  43%|████▎     | 216/500 [1:22:16<1:46:36, 22.52s/it]"
     ]
    },
    {
     "name": "stdout",
     "output_type": "stream",
     "text": [
      "Time to: Calculate Ground State - 1.54s, Get Pauli Ops - 7.18s, Calculate Pauli Expectation Values - 10.82s, Calculate Covariance - 2.21s\n",
      "f0,f1,f2 = [1.3896286670485244e-09, 1.3896286669894792e-09, 1.389628667026235e-09]\n",
      "d01,d02,d12 = [0.9926719717486725, 0.9926719717435883, 0.992671971749981]\n"
     ]
    },
    {
     "name": "stderr",
     "output_type": "stream",
     "text": [
      "Progress:  43%|████▎     | 217/500 [1:22:45<1:55:21, 24.46s/it]"
     ]
    },
    {
     "name": "stdout",
     "output_type": "stream",
     "text": [
      "Time to: Calculate Ground State - 1.57s, Get Pauli Ops - 7.23s, Calculate Pauli Expectation Values - 16.99s, Calculate Covariance - 3.18s\n",
      "f0,f1,f2 = [4.022399415066414e-10, 4.0223994161111564e-10, 4.0223994157166854e-10]\n",
      "d01,d02,d12 = [0.9948483532567294, 0.9948483532510297, 0.9948483532581934]\n"
     ]
    },
    {
     "name": "stderr",
     "output_type": "stream",
     "text": [
      "Progress:  44%|████▎     | 218/500 [1:23:06<1:50:18, 23.47s/it]"
     ]
    },
    {
     "name": "stdout",
     "output_type": "stream",
     "text": [
      "Time to: Calculate Ground State - 1.62s, Get Pauli Ops - 5.98s, Calculate Pauli Expectation Values - 10.7s, Calculate Covariance - 2.86s\n",
      "f0,f1,f2 = [2.361645771700943e-10, 2.3616457725063127e-10, 2.361645771575904e-10]\n",
      "d01,d02,d12 = [0.9968344771735398, 0.9968344771672523, 0.9968344771751623]\n"
     ]
    },
    {
     "name": "stderr",
     "output_type": "stream",
     "text": [
      "Progress:  44%|████▍     | 219/500 [1:23:27<1:47:05, 22.87s/it]"
     ]
    },
    {
     "name": "stdout",
     "output_type": "stream",
     "text": [
      "Time to: Calculate Ground State - 1.48s, Get Pauli Ops - 6.25s, Calculate Pauli Expectation Values - 10.99s, Calculate Covariance - 2.74s\n",
      "f0,f1,f2 = [9.869820223413496e-10, 9.869820224499542e-10, 9.869820223658438e-10]\n",
      "d01,d02,d12 = [0.9983269252539424, 0.9983269252471079, 0.9983269252557195]\n"
     ]
    },
    {
     "name": "stderr",
     "output_type": "stream",
     "text": [
      "Progress:  44%|████▍     | 220/500 [1:23:51<1:47:19, 23.00s/it]"
     ]
    },
    {
     "name": "stdout",
     "output_type": "stream",
     "text": [
      "Time to: Calculate Ground State - 1.07s, Get Pauli Ops - 8.68s, Calculate Pauli Expectation Values - 10.83s, Calculate Covariance - 2.71s\n",
      "f0,f1,f2 = [9.895409981165296e-10, 9.895409982862158e-10, 9.895409981501224e-10]\n",
      "d01,d02,d12 = [0.9993455684047815, 0.9993455683974485, 0.9993455684067202]\n"
     ]
    },
    {
     "name": "stderr",
     "output_type": "stream",
     "text": [
      "Progress:  44%|████▍     | 221/500 [1:24:17<1:51:31, 23.99s/it]"
     ]
    },
    {
     "name": "stdout",
     "output_type": "stream",
     "text": [
      "Time to: Calculate Ground State - 1.52s, Get Pauli Ops - 6.78s, Calculate Pauli Expectation Values - 15.31s, Calculate Covariance - 2.65s\n",
      "f0,f1,f2 = [8.599133167223148e-11, 8.599133187160324e-11, 8.599133175384751e-11]\n",
      "d01,d02,d12 = [1.0002853450767177, 1.0002853450689275, 1.000285345078791]\n"
     ]
    },
    {
     "name": "stderr",
     "output_type": "stream",
     "text": [
      "Progress:  44%|████▍     | 222/500 [1:24:45<1:56:21, 25.11s/it]"
     ]
    },
    {
     "name": "stdout",
     "output_type": "stream",
     "text": [
      "Time to: Calculate Ground State - 1.75s, Get Pauli Ops - 9.49s, Calculate Pauli Expectation Values - 13.41s, Calculate Covariance - 3.08s\n",
      "f0,f1,f2 = [1.8912823913674824e-09, 1.8912823912509963e-09, 1.8912823913204125e-09]\n",
      "d01,d02,d12 = [1.0019698958114822, 1.001969895803246, 1.0019698958136705]\n"
     ]
    },
    {
     "name": "stderr",
     "output_type": "stream",
     "text": [
      "/cluster/home/mskrabulis/miniconda3/envs/quantech/lib/python3.9/site-packages/pyscf/symm/Dmatrix.py:156: RuntimeWarning: invalid value encountered in arccos\n",
      "  gamma = numpy.arccos(yp.dot(c2[1]))\n",
      "Progress:  45%|████▍     | 223/500 [1:25:08<1:52:48, 24.44s/it]"
     ]
    },
    {
     "name": "stdout",
     "output_type": "stream",
     "text": [
      "Time to: Calculate Ground State - 1.38s, Get Pauli Ops - 6.45s, Calculate Pauli Expectation Values - 13.32s, Calculate Covariance - 1.7s\n",
      "f0,f1,f2 = [3.063337288863297e-10, 3.0633372873638963e-10, 3.063337288260104e-10]\n",
      "d01,d02,d12 = [1.0037101042380896, 1.0037101042294412, 1.0037101042403818]\n"
     ]
    },
    {
     "name": "stderr",
     "output_type": "stream",
     "text": [
      "Progress:  45%|████▍     | 224/500 [1:25:31<1:50:19, 23.98s/it]"
     ]
    },
    {
     "name": "stdout",
     "output_type": "stream",
     "text": [
      "Time to: Calculate Ground State - 1.07s, Get Pauli Ops - 5.91s, Calculate Pauli Expectation Values - 13.13s, Calculate Covariance - 2.8s\n",
      "f0,f1,f2 = [6.710768322628945e-10, 6.710768324541341e-10, 6.710768323050315e-10]\n",
      "d01,d02,d12 = [1.0050981177802054, 1.0050981177712004, 1.0050981177825953]\n"
     ]
    },
    {
     "name": "stderr",
     "output_type": "stream",
     "text": [
      "Progress:  45%|████▌     | 225/500 [1:25:56<1:51:22, 24.30s/it]"
     ]
    },
    {
     "name": "stdout",
     "output_type": "stream",
     "text": [
      "Time to: Calculate Ground State - 1.77s, Get Pauli Ops - 6.65s, Calculate Pauli Expectation Values - 13.7s, Calculate Covariance - 2.9s\n",
      "f0,f1,f2 = [6.95829939213876e-10, 6.958299393656935e-10, 6.958299392490079e-10]\n",
      "d01,d02,d12 = [1.0061386000580366, 1.0061386000487327, 1.0061386000605075]\n"
     ]
    },
    {
     "name": "stderr",
     "output_type": "stream",
     "text": [
      "/cluster/home/mskrabulis/miniconda3/envs/quantech/lib/python3.9/site-packages/pyscf/symm/Dmatrix.py:156: RuntimeWarning: invalid value encountered in arccos\n",
      "  gamma = numpy.arccos(yp.dot(c2[1]))\n",
      "Progress:  45%|████▌     | 226/500 [1:26:21<1:52:00, 24.53s/it]"
     ]
    },
    {
     "name": "stdout",
     "output_type": "stream",
     "text": [
      "Time to: Calculate Ground State - 1.72s, Get Pauli Ops - 7.06s, Calculate Pauli Expectation Values - 14.37s, Calculate Covariance - 1.9s\n",
      "f0,f1,f2 = [5.097436566212511e-10, 5.097436567743896e-10, 5.097436566850715e-10]\n",
      "d01,d02,d12 = [1.00692348719164, 1.006923487182092, 1.0069234871941712]\n"
     ]
    },
    {
     "name": "stderr",
     "output_type": "stream",
     "text": [
      "/cluster/home/mskrabulis/miniconda3/envs/quantech/lib/python3.9/site-packages/pyscf/symm/Dmatrix.py:156: RuntimeWarning: invalid value encountered in arccos\n",
      "  gamma = numpy.arccos(yp.dot(c2[1]))\n",
      "Progress:  45%|████▌     | 227/500 [1:26:42<1:47:15, 23.57s/it]"
     ]
    },
    {
     "name": "stdout",
     "output_type": "stream",
     "text": [
      "Time to: Calculate Ground State - 1.49s, Get Pauli Ops - 6.91s, Calculate Pauli Expectation Values - 10.63s, Calculate Covariance - 2.31s\n",
      "f0,f1,f2 = [1.2845007282012974e-09, 1.2845007283828404e-09, 1.284500728266638e-09]\n",
      "d01,d02,d12 = [1.007142199535847, 1.0071421995261072, 1.0071421995384122]\n"
     ]
    },
    {
     "name": "stderr",
     "output_type": "stream",
     "text": [
      "Progress:  46%|████▌     | 228/500 [1:27:05<1:45:40, 23.31s/it]"
     ]
    },
    {
     "name": "stdout",
     "output_type": "stream",
     "text": [
      "Time to: Calculate Ground State - 0.9s, Get Pauli Ops - 8.67s, Calculate Pauli Expectation Values - 10.73s, Calculate Covariance - 2.38s\n",
      "f0,f1,f2 = [2.134332181131229e-10, 2.1343321789057085e-10, 2.1343321808724376e-10]\n",
      "d01,d02,d12 = [1.0074401826223414, 1.007440182612466, 1.007440182624914]\n"
     ]
    },
    {
     "name": "stderr",
     "output_type": "stream",
     "text": [
      "Progress:  46%|████▌     | 229/500 [1:27:26<1:42:38, 22.72s/it]"
     ]
    },
    {
     "name": "stdout",
     "output_type": "stream",
     "text": [
      "Time to: Calculate Ground State - 1.43s, Get Pauli Ops - 6.22s, Calculate Pauli Expectation Values - 10.66s, Calculate Covariance - 3.03s\n",
      "f0,f1,f2 = [1.1977459460802176e-09, 1.1977459462537318e-09, 1.197745946104926e-09]\n",
      "d01,d02,d12 = [1.0072286295508717, 1.0072286295409185, 1.0072286295534323]\n"
     ]
    },
    {
     "name": "stderr",
     "output_type": "stream",
     "text": [
      "Progress:  46%|████▌     | 230/500 [1:27:46<1:39:11, 22.04s/it]"
     ]
    },
    {
     "name": "stdout",
     "output_type": "stream",
     "text": [
      "Time to: Calculate Ground State - 1.45s, Get Pauli Ops - 6.12s, Calculate Pauli Expectation Values - 10.49s, Calculate Covariance - 2.38s\n",
      "f0,f1,f2 = [3.4723728655735964e-11, 3.472372883458076e-11, 3.472372868379516e-11]\n",
      "d01,d02,d12 = [1.0070116420132322, 1.0070116420032569, 1.007011642015771]\n"
     ]
    },
    {
     "name": "stderr",
     "output_type": "stream",
     "text": [
      "/cluster/home/mskrabulis/miniconda3/envs/quantech/lib/python3.9/site-packages/pyscf/symm/Dmatrix.py:156: RuntimeWarning: invalid value encountered in arccos\n",
      "  gamma = numpy.arccos(yp.dot(c2[1]))\n",
      "Progress:  46%|████▌     | 231/500 [1:28:09<1:39:41, 22.23s/it]"
     ]
    },
    {
     "name": "stdout",
     "output_type": "stream",
     "text": [
      "Time to: Calculate Ground State - 1.44s, Get Pauli Ops - 6.38s, Calculate Pauli Expectation Values - 12.77s, Calculate Covariance - 2.09s\n",
      "f0,f1,f2 = [9.572670376073474e-10, 9.572670378094986e-10, 9.572670376628204e-10]\n",
      "d01,d02,d12 = [1.006406721818221, 1.0064067218082884, 1.006406721820716]\n"
     ]
    },
    {
     "name": "stderr",
     "output_type": "stream",
     "text": [
      "/cluster/home/mskrabulis/miniconda3/envs/quantech/lib/python3.9/site-packages/pyscf/symm/Dmatrix.py:156: RuntimeWarning: invalid value encountered in arccos\n",
      "  gamma = numpy.arccos(yp.dot(c2[1]))\n",
      "Progress:  46%|████▋     | 232/500 [1:28:30<1:37:25, 21.81s/it]"
     ]
    },
    {
     "name": "stdout",
     "output_type": "stream",
     "text": [
      "Time to: Calculate Ground State - 1.43s, Get Pauli Ops - 5.96s, Calculate Pauli Expectation Values - 10.7s, Calculate Covariance - 2.73s\n",
      "f0,f1,f2 = [9.026745175709281e-12, 9.026745001059027e-12, 9.026745165231423e-12]\n",
      "d01,d02,d12 = [1.0058311982441297, 1.0058311982342953, 1.005831198246568]\n"
     ]
    },
    {
     "name": "stderr",
     "output_type": "stream",
     "text": [
      "/cluster/home/mskrabulis/miniconda3/envs/quantech/lib/python3.9/site-packages/pyscf/symm/Dmatrix.py:156: RuntimeWarning: invalid value encountered in arccos\n",
      "  gamma = numpy.arccos(yp.dot(c2[1]))\n",
      "Progress:  47%|████▋     | 233/500 [1:28:55<1:41:20, 22.77s/it]"
     ]
    },
    {
     "name": "stdout",
     "output_type": "stream",
     "text": [
      "Time to: Calculate Ground State - 1.51s, Get Pauli Ops - 8.81s, Calculate Pauli Expectation Values - 11.63s, Calculate Covariance - 3.06s\n",
      "f0,f1,f2 = [3.24363370354635e-09, 3.2436337037267806e-09, 3.2436337036225575e-09]\n",
      "d01,d02,d12 = [1.0039344177319598, 1.003934417722308, 1.0039344177343228]\n"
     ]
    },
    {
     "name": "stderr",
     "output_type": "stream",
     "text": [
      "/cluster/home/mskrabulis/miniconda3/envs/quantech/lib/python3.9/site-packages/pyscf/symm/Dmatrix.py:156: RuntimeWarning: invalid value encountered in arccos\n",
      "  gamma = numpy.arccos(yp.dot(c2[1]))\n",
      "Progress:  47%|████▋     | 234/500 [1:29:16<1:37:59, 22.10s/it]"
     ]
    },
    {
     "name": "stdout",
     "output_type": "stream",
     "text": [
      "Time to: Calculate Ground State - 1.56s, Get Pauli Ops - 6.32s, Calculate Pauli Expectation Values - 10.91s, Calculate Covariance - 1.74s\n",
      "f0,f1,f2 = [5.303886919123832e-10, 5.303886920941552e-10, 5.303886919282183e-10]\n",
      "d01,d02,d12 = [1.0018980286517538, 1.0018980286423618, 1.001898028654032]\n"
     ]
    },
    {
     "name": "stderr",
     "output_type": "stream",
     "text": [
      "Progress:  47%|████▋     | 235/500 [1:29:38<1:37:50, 22.15s/it]"
     ]
    },
    {
     "name": "stdout",
     "output_type": "stream",
     "text": [
      "Time to: Calculate Ground State - 1.47s, Get Pauli Ops - 8.02s, Calculate Pauli Expectation Values - 11.04s, Calculate Covariance - 1.73s\n",
      "f0,f1,f2 = [2.5926003899269643e-10, 2.592600391876957e-10, 2.592600390621155e-10]\n",
      "d01,d02,d12 = [0.9998404297065878, 0.9998404296975021, 0.9998404297087452]\n"
     ]
    },
    {
     "name": "stderr",
     "output_type": "stream",
     "text": [
      "Progress:  47%|████▋     | 236/500 [1:30:00<1:37:50, 22.24s/it]"
     ]
    },
    {
     "name": "stdout",
     "output_type": "stream",
     "text": [
      "Time to: Calculate Ground State - 1.13s, Get Pauli Ops - 7.01s, Calculate Pauli Expectation Values - 11.96s, Calculate Covariance - 2.33s\n",
      "f0,f1,f2 = [1.203240793713396e-10, 1.2032407959303519e-10, 1.2032407943970245e-10]\n",
      "d01,d02,d12 = [0.9978201581325156, 0.9978201581238048, 0.9978201581345423]\n"
     ]
    },
    {
     "name": "stderr",
     "output_type": "stream",
     "text": [
      "Progress:  47%|████▋     | 237/500 [1:30:25<1:40:47, 22.99s/it]"
     ]
    },
    {
     "name": "stdout",
     "output_type": "stream",
     "text": [
      "Time to: Calculate Ground State - 1.7s, Get Pauli Ops - 6.07s, Calculate Pauli Expectation Values - 13.91s, Calculate Covariance - 3.07s\n",
      "f0,f1,f2 = [2.3090860722763487e-10, 2.30908607054441e-10, 2.3090860716996508e-10]\n",
      "d01,d02,d12 = [0.995981343650294, 0.9959813436419989, 0.995981343652172]\n"
     ]
    },
    {
     "name": "stderr",
     "output_type": "stream",
     "text": [
      "/cluster/home/mskrabulis/miniconda3/envs/quantech/lib/python3.9/site-packages/pyscf/symm/Dmatrix.py:156: RuntimeWarning: invalid value encountered in arccos\n",
      "  gamma = numpy.arccos(yp.dot(c2[1]))\n",
      "Progress:  48%|████▊     | 238/500 [1:30:52<1:45:37, 24.19s/it]"
     ]
    },
    {
     "name": "stdout",
     "output_type": "stream",
     "text": [
      "Time to: Calculate Ground State - 1.76s, Get Pauli Ops - 8.61s, Calculate Pauli Expectation Values - 13.42s, Calculate Covariance - 3.17s\n",
      "f0,f1,f2 = [1.4710315772059123e-10, 1.4710315750137443e-10, 1.471031576225382e-10]\n",
      "d01,d02,d12 = [0.9942815247577292, 0.9942815247499059, 0.9942815247594354]\n"
     ]
    },
    {
     "name": "stderr",
     "output_type": "stream",
     "text": [
      "Progress:  48%|████▊     | 239/500 [1:31:15<1:43:59, 23.91s/it]"
     ]
    },
    {
     "name": "stdout",
     "output_type": "stream",
     "text": [
      "Time to: Calculate Ground State - 1.58s, Get Pauli Ops - 7.03s, Calculate Pauli Expectation Values - 11.81s, Calculate Covariance - 2.81s\n",
      "f0,f1,f2 = [4.512710693320858e-10, 4.5127106937759533e-10, 4.5127106928560003e-10]\n",
      "d01,d02,d12 = [0.9924665654941502, 0.9924665654868503, 0.9924665654957043]\n"
     ]
    },
    {
     "name": "stderr",
     "output_type": "stream",
     "text": [
      "Progress:  48%|████▊     | 240/500 [1:31:38<1:42:10, 23.58s/it]"
     ]
    },
    {
     "name": "stdout",
     "output_type": "stream",
     "text": [
      "Time to: Calculate Ground State - 1.61s, Get Pauli Ops - 7.13s, Calculate Pauli Expectation Values - 11.53s, Calculate Covariance - 2.53s\n",
      "f0,f1,f2 = [1.2436367240989043e-10, 1.243636723456602e-10, 1.243636724317014e-10]\n",
      "d01,d02,d12 = [0.9907801585472962, 0.9907801585405596, 0.9907801585486914]\n"
     ]
    },
    {
     "name": "stderr",
     "output_type": "stream",
     "text": [
      "Progress:  48%|████▊     | 241/500 [1:32:03<1:44:05, 24.12s/it]"
     ]
    },
    {
     "name": "stdout",
     "output_type": "stream",
     "text": [
      "Time to: Calculate Ground State - 1.62s, Get Pauli Ops - 8.53s, Calculate Pauli Expectation Values - 12.15s, Calculate Covariance - 3.05s\n",
      "f0,f1,f2 = [5.568123723228947e-11, 5.568123711882002e-11, 5.568123722860999e-11]\n",
      "d01,d02,d12 = [0.9891883608350582, 0.9891883608289241, 0.9891883608362909]\n"
     ]
    },
    {
     "name": "stderr",
     "output_type": "stream",
     "text": [
      "Progress:  48%|████▊     | 242/500 [1:32:27<1:43:35, 24.09s/it]"
     ]
    },
    {
     "name": "stdout",
     "output_type": "stream",
     "text": [
      "Time to: Calculate Ground State - 1.63s, Get Pauli Ops - 8.99s, Calculate Pauli Expectation Values - 11.39s, Calculate Covariance - 2.02s\n",
      "f0,f1,f2 = [7.019144955164951e-10, 7.019144954170225e-10, 7.019144955226909e-10]\n",
      "d01,d02,d12 = [0.9879552604595054, 0.9879552604540178, 0.9879552604605695]\n"
     ]
    },
    {
     "name": "stderr",
     "output_type": "stream",
     "text": [
      "/cluster/home/mskrabulis/miniconda3/envs/quantech/lib/python3.9/site-packages/pyscf/symm/Dmatrix.py:156: RuntimeWarning: invalid value encountered in arccos\n",
      "  gamma = numpy.arccos(yp.dot(c2[1]))\n",
      "Progress:  49%|████▊     | 243/500 [1:32:48<1:38:04, 22.90s/it]"
     ]
    },
    {
     "name": "stdout",
     "output_type": "stream",
     "text": [
      "Time to: Calculate Ground State - 0.93s, Get Pauli Ops - 6.08s, Calculate Pauli Expectation Values - 11.31s, Calculate Covariance - 1.78s\n",
      "f0,f1,f2 = [4.677602596739711e-11, 4.6776026079053166e-11, 4.6776025986647404e-11]\n",
      "d01,d02,d12 = [0.9867550448022213, 0.9867550447974062, 0.9867550448030946]\n"
     ]
    },
    {
     "name": "stderr",
     "output_type": "stream",
     "text": [
      "/cluster/home/mskrabulis/miniconda3/envs/quantech/lib/python3.9/site-packages/pyscf/symm/Dmatrix.py:156: RuntimeWarning: invalid value encountered in arccos\n",
      "  gamma = numpy.arccos(yp.dot(c2[1]))\n",
      "Progress:  49%|████▉     | 244/500 [1:33:10<1:37:25, 22.83s/it]"
     ]
    },
    {
     "name": "stdout",
     "output_type": "stream",
     "text": [
      "Time to: Calculate Ground State - 0.93s, Get Pauli Ops - 6.87s, Calculate Pauli Expectation Values - 11.8s, Calculate Covariance - 3.08s\n",
      "f0,f1,f2 = [6.912834968265947e-10, 6.912834969463927e-10, 6.912834968617357e-10]\n",
      "d01,d02,d12 = [0.9853189388319442, 0.9853189388278307, 0.985318938832612]\n"
     ]
    },
    {
     "name": "stderr",
     "output_type": "stream",
     "text": [
      "Progress:  49%|████▉     | 245/500 [1:33:35<1:39:46, 23.47s/it]"
     ]
    },
    {
     "name": "stdout",
     "output_type": "stream",
     "text": [
      "Time to: Calculate Ground State - 1.59s, Get Pauli Ops - 9.75s, Calculate Pauli Expectation Values - 10.56s, Calculate Covariance - 3.06s\n",
      "f0,f1,f2 = [8.911845200504923e-10, 8.911845201141092e-10, 8.911845200354783e-10]\n",
      "d01,d02,d12 = [0.9835740168126857, 0.9835740168093102, 0.9835740168131404]\n"
     ]
    },
    {
     "name": "stderr",
     "output_type": "stream",
     "text": [
      "/cluster/home/mskrabulis/miniconda3/envs/quantech/lib/python3.9/site-packages/pyscf/symm/Dmatrix.py:156: RuntimeWarning: invalid value encountered in arccos\n",
      "  gamma = numpy.arccos(yp.dot(c2[1]))\n",
      "Progress:  49%|████▉     | 246/500 [1:34:01<1:41:58, 24.09s/it]"
     ]
    },
    {
     "name": "stdout",
     "output_type": "stream",
     "text": [
      "Time to: Calculate Ground State - 1.55s, Get Pauli Ops - 10.1s, Calculate Pauli Expectation Values - 10.75s, Calculate Covariance - 3.11s\n",
      "f0,f1,f2 = [3.0788565757672855e-10, 3.0788565764622527e-10, 3.07885657548372e-10]\n",
      "d01,d02,d12 = [0.981775368034777, 0.981775368032177, 0.9817753680350212]\n"
     ]
    },
    {
     "name": "stderr",
     "output_type": "stream",
     "text": [
      "/cluster/home/mskrabulis/miniconda3/envs/quantech/lib/python3.9/site-packages/pyscf/symm/Dmatrix.py:156: RuntimeWarning: invalid value encountered in arccos\n",
      "  gamma = numpy.arccos(yp.dot(c2[1]))\n",
      "Progress:  49%|████▉     | 247/500 [1:34:26<1:43:30, 24.55s/it]"
     ]
    },
    {
     "name": "stdout",
     "output_type": "stream",
     "text": [
      "Time to: Calculate Ground State - 1.55s, Get Pauli Ops - 10.61s, Calculate Pauli Expectation Values - 10.75s, Calculate Covariance - 2.69s\n",
      "f0,f1,f2 = [1.0508167039379797e-09, 1.0508167039123388e-09, 1.0508167039479313e-09]\n",
      "d01,d02,d12 = [0.9804889506277317, 0.9804889506259372, 0.9804889506277787]\n"
     ]
    },
    {
     "name": "stderr",
     "output_type": "stream",
     "text": [
      "/cluster/home/mskrabulis/miniconda3/envs/quantech/lib/python3.9/site-packages/pyscf/symm/Dmatrix.py:156: RuntimeWarning: invalid value encountered in arccos\n",
      "  gamma = numpy.arccos(yp.dot(c2[1]))\n",
      "Progress:  50%|████▉     | 248/500 [1:34:51<1:42:59, 24.52s/it]"
     ]
    },
    {
     "name": "stdout",
     "output_type": "stream",
     "text": [
      "Time to: Calculate Ground State - 0.94s, Get Pauli Ops - 7.09s, Calculate Pauli Expectation Values - 13.55s, Calculate Covariance - 2.87s\n",
      "f0,f1,f2 = [8.325425452404825e-12, 8.325425474518521e-12, 8.325425464405065e-12]\n",
      "d01,d02,d12 = [0.9792536436341419, 0.9792536436331574, 0.9792536436339894]\n"
     ]
    },
    {
     "name": "stderr",
     "output_type": "stream",
     "text": [
      "Progress:  50%|████▉     | 249/500 [1:35:13<1:39:48, 23.86s/it]"
     ]
    },
    {
     "name": "stdout",
     "output_type": "stream",
     "text": [
      "Time to: Calculate Ground State - 1.53s, Get Pauli Ops - 6.15s, Calculate Pauli Expectation Values - 12.89s, Calculate Covariance - 1.73s\n",
      "f0,f1,f2 = [7.547833984312208e-10, 7.547833984743554e-10, 7.547833984929092e-10]\n",
      "d01,d02,d12 = [0.9783838670722842, 0.9783838670721154, 0.9783838670719386]\n"
     ]
    },
    {
     "name": "stderr",
     "output_type": "stream",
     "text": [
      "Progress:  50%|█████     | 250/500 [1:35:37<1:38:55, 23.74s/it]"
     ]
    },
    {
     "name": "stdout",
     "output_type": "stream",
     "text": [
      "Time to: Calculate Ground State - 1.54s, Get Pauli Ops - 5.76s, Calculate Pauli Expectation Values - 13.38s, Calculate Covariance - 2.78s\n",
      "f0,f1,f2 = [4.399224420342628e-10, 4.399224419905413e-10, 4.399224419818409e-10]\n",
      "d01,d02,d12 = [0.9777334933505909, 0.9777334933512454, 0.9777334933500426]\n"
     ]
    },
    {
     "name": "stderr",
     "output_type": "stream",
     "text": [
      "Progress:  50%|█████     | 251/500 [1:36:03<1:41:14, 24.40s/it]"
     ]
    },
    {
     "name": "stdout",
     "output_type": "stream",
     "text": [
      "Time to: Calculate Ground State - 1.59s, Get Pauli Ops - 7.12s, Calculate Pauli Expectation Values - 15.42s, Calculate Covariance - 1.79s\n",
      "f0,f1,f2 = [8.544381507357144e-11, 8.544381505443275e-11, 8.544381505381577e-11]\n",
      "d01,d02,d12 = [0.9770752616322909, 0.9770752616337622, 0.9770752616315366]\n"
     ]
    },
    {
     "name": "stderr",
     "output_type": "stream",
     "text": [
      "/cluster/home/mskrabulis/miniconda3/envs/quantech/lib/python3.9/site-packages/pyscf/symm/Dmatrix.py:156: RuntimeWarning: invalid value encountered in arccos\n",
      "  gamma = numpy.arccos(yp.dot(c2[1]))\n",
      "Progress:  50%|█████     | 252/500 [1:36:28<1:41:38, 24.59s/it]"
     ]
    },
    {
     "name": "stdout",
     "output_type": "stream",
     "text": [
      "Time to: Calculate Ground State - 1.65s, Get Pauli Ops - 9.32s, Calculate Pauli Expectation Values - 11.66s, Calculate Covariance - 2.4s\n",
      "f0,f1,f2 = [7.289618482181243e-10, 7.289618482606041e-10, 7.289618482602592e-10]\n",
      "d01,d02,d12 = [0.976747372510762, 0.9767473725130461, 0.9767473725098095]\n"
     ]
    },
    {
     "name": "stderr",
     "output_type": "stream",
     "text": [
      "Progress:  51%|█████     | 253/500 [1:36:49<1:37:46, 23.75s/it]"
     ]
    },
    {
     "name": "stdout",
     "output_type": "stream",
     "text": [
      "Time to: Calculate Ground State - 1.54s, Get Pauli Ops - 6.48s, Calculate Pauli Expectation Values - 11.59s, Calculate Covariance - 2.18s\n",
      "f0,f1,f2 = [5.449494534762569e-10, 5.449494535161939e-10, 5.449494534768371e-10]\n",
      "d01,d02,d12 = [0.9766594725156303, 0.9766594725187175, 0.9766594725144808]\n"
     ]
    },
    {
     "name": "stderr",
     "output_type": "stream",
     "text": [
      "/cluster/home/mskrabulis/miniconda3/envs/quantech/lib/python3.9/site-packages/pyscf/symm/Dmatrix.py:156: RuntimeWarning: invalid value encountered in arccos\n",
      "  gamma = numpy.arccos(yp.dot(c2[1]))\n",
      "/cluster/home/mskrabulis/miniconda3/envs/quantech/lib/python3.9/site-packages/pyscf/symm/Dmatrix.py:156: RuntimeWarning: invalid value encountered in arccos\n",
      "  gamma = numpy.arccos(yp.dot(c2[1]))\n",
      "Progress:  51%|█████     | 254/500 [1:37:12<1:36:23, 23.51s/it]"
     ]
    },
    {
     "name": "stdout",
     "output_type": "stream",
     "text": [
      "Time to: Calculate Ground State - 1.5s, Get Pauli Ops - 8.28s, Calculate Pauli Expectation Values - 10.72s, Calculate Covariance - 2.43s\n",
      "f0,f1,f2 = [9.99458424735539e-10, 9.99458424787337e-10, 9.994584247737858e-10]\n",
      "d01,d02,d12 = [0.9769899393068349, 0.9769899393107129, 0.9769899393054998]\n"
     ]
    },
    {
     "name": "stderr",
     "output_type": "stream",
     "text": [
      "/cluster/home/mskrabulis/miniconda3/envs/quantech/lib/python3.9/site-packages/pyscf/symm/Dmatrix.py:156: RuntimeWarning: invalid value encountered in arccos\n",
      "  gamma = numpy.arccos(yp.dot(c2[1]))\n",
      "Progress:  51%|█████     | 255/500 [1:37:37<1:36:56, 23.74s/it]"
     ]
    },
    {
     "name": "stdout",
     "output_type": "stream",
     "text": [
      "Time to: Calculate Ground State - 1.53s, Get Pauli Ops - 6.23s, Calculate Pauli Expectation Values - 13.42s, Calculate Covariance - 3.09s\n",
      "f0,f1,f2 = [5.907316592697836e-10, 5.907316593464362e-10, 5.907316592719708e-10]\n",
      "d01,d02,d12 = [0.977551459282734, 0.9775514592873671, 0.977551459281214]\n"
     ]
    },
    {
     "name": "stderr",
     "output_type": "stream",
     "text": [
      "Progress:  51%|█████     | 256/500 [1:38:01<1:37:45, 24.04s/it]"
     ]
    },
    {
     "name": "stdout",
     "output_type": "stream",
     "text": [
      "Time to: Calculate Ground State - 1.55s, Get Pauli Ops - 6.76s, Calculate Pauli Expectation Values - 14.61s, Calculate Covariance - 1.81s\n",
      "f0,f1,f2 = [5.817264546307499e-10, 5.817264544978489e-10, 5.817264545642477e-10]\n",
      "d01,d02,d12 = [0.9778478223948506, 0.9778478224002037, 0.9778478223931739]\n"
     ]
    },
    {
     "name": "stderr",
     "output_type": "stream",
     "text": [
      "Progress:  51%|█████▏    | 257/500 [1:38:29<1:41:53, 25.16s/it]"
     ]
    },
    {
     "name": "stdout",
     "output_type": "stream",
     "text": [
      "Time to: Calculate Ground State - 1.55s, Get Pauli Ops - 7.04s, Calculate Pauli Expectation Values - 16.89s, Calculate Covariance - 2.27s\n",
      "f0,f1,f2 = [6.062908483733757e-10, 6.062908482803286e-10, 6.062908483430459e-10]\n",
      "d01,d02,d12 = [0.9778800862792545, 0.9778800862852928, 0.9778800862774337]\n"
     ]
    },
    {
     "name": "stderr",
     "output_type": "stream",
     "text": [
      "/cluster/home/mskrabulis/miniconda3/envs/quantech/lib/python3.9/site-packages/pyscf/symm/Dmatrix.py:156: RuntimeWarning: invalid value encountered in arccos\n",
      "  gamma = numpy.arccos(yp.dot(c2[1]))\n",
      "Progress:  52%|█████▏    | 258/500 [1:38:53<1:39:28, 24.66s/it]"
     ]
    },
    {
     "name": "stdout",
     "output_type": "stream",
     "text": [
      "Time to: Calculate Ground State - 1.71s, Get Pauli Ops - 7.82s, Calculate Pauli Expectation Values - 11.28s, Calculate Covariance - 2.7s\n",
      "f0,f1,f2 = [3.2796876803329714e-10, 3.2796876815020816e-10, 3.27968767983419e-10]\n",
      "d01,d02,d12 = [0.978047043442203, 0.9780470434488789, 0.9780470434402412]\n"
     ]
    },
    {
     "name": "stderr",
     "output_type": "stream",
     "text": [
      "Progress:  52%|█████▏    | 259/500 [1:39:20<1:42:24, 25.50s/it]"
     ]
    },
    {
     "name": "stdout",
     "output_type": "stream",
     "text": [
      "Time to: Calculate Ground State - 1.61s, Get Pauli Ops - 8.61s, Calculate Pauli Expectation Values - 14.47s, Calculate Covariance - 2.73s\n",
      "f0,f1,f2 = [1.8454389909971088e-10, 1.8454389889120618e-10, 1.845438990166352e-10]\n",
      "d01,d02,d12 = [0.978130357901265, 0.9781303579085313, 0.9781303578991916]\n"
     ]
    },
    {
     "name": "stderr",
     "output_type": "stream",
     "text": [
      "/cluster/home/mskrabulis/miniconda3/envs/quantech/lib/python3.9/site-packages/pyscf/symm/Dmatrix.py:156: RuntimeWarning: invalid value encountered in arccos\n",
      "  gamma = numpy.arccos(yp.dot(c2[1]))\n",
      "/cluster/home/mskrabulis/miniconda3/envs/quantech/lib/python3.9/site-packages/pyscf/symm/Dmatrix.py:156: RuntimeWarning: invalid value encountered in arccos\n",
      "  gamma = numpy.arccos(yp.dot(c2[1]))\n",
      "Progress:  52%|█████▏    | 260/500 [1:39:46<1:42:38, 25.66s/it]"
     ]
    },
    {
     "name": "stdout",
     "output_type": "stream",
     "text": [
      "Time to: Calculate Ground State - 1.67s, Get Pauli Ops - 9.83s, Calculate Pauli Expectation Values - 11.39s, Calculate Covariance - 3.13s\n",
      "f0,f1,f2 = [8.164088617120701e-10, 8.164088618398373e-10, 8.164088617473978e-10]\n",
      "d01,d02,d12 = [0.9785488355512391, 0.9785488355590609, 0.9785488355490657]\n"
     ]
    },
    {
     "name": "stderr",
     "output_type": "stream",
     "text": [
      "Progress:  52%|█████▏    | 261/500 [1:40:11<1:41:15, 25.42s/it]"
     ]
    },
    {
     "name": "stdout",
     "output_type": "stream",
     "text": [
      "Time to: Calculate Ground State - 1.57s, Get Pauli Ops - 9.88s, Calculate Pauli Expectation Values - 10.97s, Calculate Covariance - 2.43s\n",
      "f0,f1,f2 = [2.699988509199945e-10, 2.699988509925362e-10, 2.699988509142369e-10]\n",
      "d01,d02,d12 = [0.9790615740770449, 0.9790615740853942, 0.9790615740747854]\n"
     ]
    },
    {
     "name": "stderr",
     "output_type": "stream",
     "text": [
      "Progress:  52%|█████▏    | 262/500 [1:40:37<1:41:39, 25.63s/it]"
     ]
    },
    {
     "name": "stdout",
     "output_type": "stream",
     "text": [
      "Time to: Calculate Ground State - 1.62s, Get Pauli Ops - 10.22s, Calculate Pauli Expectation Values - 11.19s, Calculate Covariance - 3.08s\n",
      "f0,f1,f2 = [6.832057896154516e-10, 6.832057894000915e-10, 6.832057895649298e-10]\n",
      "d01,d02,d12 = [0.9792691266847833, 0.979269126693579, 0.979269126682456]\n"
     ]
    },
    {
     "name": "stderr",
     "output_type": "stream",
     "text": [
      "Progress:  53%|█████▎    | 263/500 [1:41:00<1:38:05, 24.84s/it]"
     ]
    },
    {
     "name": "stdout",
     "output_type": "stream",
     "text": [
      "Time to: Calculate Ground State - 1.57s, Get Pauli Ops - 7.22s, Calculate Pauli Expectation Values - 11.08s, Calculate Covariance - 3.11s\n",
      "f0,f1,f2 = [5.909020427423852e-10, 5.909020424549125e-10, 5.909020426807392e-10]\n",
      "d01,d02,d12 = [0.9792227322815139, 0.9792227322906585, 0.9792227322791424]\n"
     ]
    },
    {
     "name": "stderr",
     "output_type": "stream",
     "text": [
      "Progress:  53%|█████▎    | 264/500 [1:41:26<1:38:32, 25.05s/it]"
     ]
    },
    {
     "name": "stdout",
     "output_type": "stream",
     "text": [
      "Time to: Calculate Ground State - 1.6s, Get Pauli Ops - 9.99s, Calculate Pauli Expectation Values - 11.4s, Calculate Covariance - 2.55s\n",
      "f0,f1,f2 = [4.974189902909073e-10, 4.974189904754185e-10, 4.974189903147344e-10]\n",
      "d01,d02,d12 = [0.9793846663043753, 0.9793846663137994, 0.9793846663019704]\n"
     ]
    },
    {
     "name": "stderr",
     "output_type": "stream",
     "text": [
      "Progress:  53%|█████▎    | 265/500 [1:41:53<1:40:20, 25.62s/it]"
     ]
    },
    {
     "name": "stdout",
     "output_type": "stream",
     "text": [
      "Time to: Calculate Ground State - 1.65s, Get Pauli Ops - 10.85s, Calculate Pauli Expectation Values - 11.83s, Calculate Covariance - 2.6s\n",
      "f0,f1,f2 = [6.530824954231923e-10, 6.530824956738319e-10, 6.530824954658317e-10]\n",
      "d01,d02,d12 = [0.9798106708824679, 0.979810670892076, 0.9798106708800248]\n"
     ]
    },
    {
     "name": "stderr",
     "output_type": "stream",
     "text": [
      "Progress:  53%|█████▎    | 266/500 [1:42:20<1:41:44, 26.09s/it]"
     ]
    },
    {
     "name": "stdout",
     "output_type": "stream",
     "text": [
      "Time to: Calculate Ground State - 1.59s, Get Pauli Ops - 11.68s, Calculate Pauli Expectation Values - 11.08s, Calculate Covariance - 2.82s\n",
      "f0,f1,f2 = [5.977463562902804e-10, 5.977463564989544e-10, 5.977463563129083e-10]\n",
      "d01,d02,d12 = [0.9804665882145465, 0.9804665882242782, 0.9804665882120869]\n"
     ]
    },
    {
     "name": "stderr",
     "output_type": "stream",
     "text": [
      "/cluster/home/mskrabulis/miniconda3/envs/quantech/lib/python3.9/site-packages/pyscf/symm/Dmatrix.py:156: RuntimeWarning: invalid value encountered in arccos\n",
      "  gamma = numpy.arccos(yp.dot(c2[1]))\n",
      "/cluster/home/mskrabulis/miniconda3/envs/quantech/lib/python3.9/site-packages/pyscf/symm/Dmatrix.py:156: RuntimeWarning: invalid value encountered in arccos\n",
      "  gamma = numpy.arccos(yp.dot(c2[1]))\n",
      "Progress:  53%|█████▎    | 267/500 [1:42:42<1:36:21, 24.81s/it]"
     ]
    },
    {
     "name": "stdout",
     "output_type": "stream",
     "text": [
      "Time to: Calculate Ground State - 1.58s, Get Pauli Ops - 6.88s, Calculate Pauli Expectation Values - 11.11s, Calculate Covariance - 2.26s\n",
      "f0,f1,f2 = [3.9637291680418323e-10, 3.963729170060216e-10, 3.963729168522122e-10]\n",
      "d01,d02,d12 = [0.981259124629241, 0.9812591246390315, 0.9812591246267748]\n"
     ]
    },
    {
     "name": "stderr",
     "output_type": "stream",
     "text": [
      "Progress:  54%|█████▎    | 268/500 [1:43:05<1:34:53, 24.54s/it]"
     ]
    },
    {
     "name": "stdout",
     "output_type": "stream",
     "text": [
      "Time to: Calculate Ground State - 1.56s, Get Pauli Ops - 6.99s, Calculate Pauli Expectation Values - 12.27s, Calculate Covariance - 3.08s\n",
      "f0,f1,f2 = [1.6362161817237169e-10, 1.6362161797200895e-10, 1.6362161818505606e-10]\n",
      "d01,d02,d12 = [0.9819501656612925, 0.9819501656710822, 0.9819501656588319]\n"
     ]
    },
    {
     "name": "stderr",
     "output_type": "stream",
     "text": [
      "Progress:  54%|█████▍    | 269/500 [1:43:28<1:32:04, 23.91s/it]"
     ]
    },
    {
     "name": "stdout",
     "output_type": "stream",
     "text": [
      "Time to: Calculate Ground State - 1.49s, Get Pauli Ops - 6.62s, Calculate Pauli Expectation Values - 11.59s, Calculate Covariance - 2.74s\n",
      "f0,f1,f2 = [2.506129919342489e-10, 2.5061299175859555e-10, 2.506129918743082e-10]\n",
      "d01,d02,d12 = [0.9825079275040686, 0.9825079275138019, 0.9825079275016253]\n"
     ]
    },
    {
     "name": "stderr",
     "output_type": "stream",
     "text": [
      "/cluster/home/mskrabulis/miniconda3/envs/quantech/lib/python3.9/site-packages/pyscf/symm/Dmatrix.py:156: RuntimeWarning: invalid value encountered in arccos\n",
      "  gamma = numpy.arccos(yp.dot(c2[1]))\n",
      "Progress:  54%|█████▍    | 270/500 [1:43:48<1:27:27, 22.82s/it]"
     ]
    },
    {
     "name": "stdout",
     "output_type": "stream",
     "text": [
      "Time to: Calculate Ground State - 0.92s, Get Pauli Ops - 6.23s, Calculate Pauli Expectation Values - 10.72s, Calculate Covariance - 2.37s\n",
      "f0,f1,f2 = [1.1512519406169556e-09, 1.151251940452762e-09, 1.1512519405932644e-09]\n",
      "d01,d02,d12 = [0.9825644221244701, 0.9825644221340886, 0.9825644221220572]\n"
     ]
    },
    {
     "name": "stderr",
     "output_type": "stream",
     "text": [
      "/cluster/home/mskrabulis/miniconda3/envs/quantech/lib/python3.9/site-packages/pyscf/symm/Dmatrix.py:156: RuntimeWarning: invalid value encountered in arccos\n",
      "  gamma = numpy.arccos(yp.dot(c2[1]))\n",
      "Progress:  54%|█████▍    | 271/500 [1:44:09<1:25:03, 22.29s/it]"
     ]
    },
    {
     "name": "stdout",
     "output_type": "stream",
     "text": [
      "Time to: Calculate Ground State - 0.92s, Get Pauli Ops - 6.03s, Calculate Pauli Expectation Values - 11.01s, Calculate Covariance - 3.09s\n",
      "f0,f1,f2 = [3.3788821971515993e-10, 3.378882195652733e-10, 3.378882196689188e-10]\n",
      "d01,d02,d12 = [0.9824783435393329, 0.9824783435487898, 0.9824783435369594]\n"
     ]
    },
    {
     "name": "stderr",
     "output_type": "stream",
     "text": [
      "Progress:  54%|█████▍    | 272/500 [1:44:31<1:24:24, 22.21s/it]"
     ]
    },
    {
     "name": "stdout",
     "output_type": "stream",
     "text": [
      "Time to: Calculate Ground State - 1.54s, Get Pauli Ops - 6.51s, Calculate Pauli Expectation Values - 11.25s, Calculate Covariance - 2.72s\n",
      "f0,f1,f2 = [1.754279488383265e-10, 1.7542794865716073e-10, 1.7542794880633053e-10]\n",
      "d01,d02,d12 = [0.982323137280974, 0.9823231372902099, 0.982323137278666]\n"
     ]
    },
    {
     "name": "stderr",
     "output_type": "stream",
     "text": [
      "Progress:  55%|█████▍    | 273/500 [1:44:54<1:24:10, 22.25s/it]"
     ]
    },
    {
     "name": "stdout",
     "output_type": "stream",
     "text": [
      "Time to: Calculate Ground State - 1.55s, Get Pauli Ops - 6.74s, Calculate Pauli Expectation Values - 10.95s, Calculate Covariance - 3.09s\n",
      "f0,f1,f2 = [7.927825241686478e-10, 7.927825244026592e-10, 7.927825242065581e-10]\n",
      "d01,d02,d12 = [0.9825034094406899, 0.9825034094496431, 0.9825034094384589]\n"
     ]
    },
    {
     "name": "stderr",
     "output_type": "stream",
     "text": [
      "/cluster/home/mskrabulis/miniconda3/envs/quantech/lib/python3.9/site-packages/pyscf/symm/Dmatrix.py:156: RuntimeWarning: invalid value encountered in arccos\n",
      "  gamma = numpy.arccos(yp.dot(c2[1]))\n",
      "Progress:  55%|█████▍    | 274/500 [1:45:16<1:23:54, 22.28s/it]"
     ]
    },
    {
     "name": "stdout",
     "output_type": "stream",
     "text": [
      "Time to: Calculate Ground State - 1.54s, Get Pauli Ops - 7.03s, Calculate Pauli Expectation Values - 10.93s, Calculate Covariance - 2.84s\n",
      "f0,f1,f2 = [1.990858351086885e-09, 1.9908583508894406e-09, 1.990858351014514e-09]\n",
      "d01,d02,d12 = [0.9818501034357661, 0.9818501034443735, 0.9818501034336339]\n"
     ]
    },
    {
     "name": "stderr",
     "output_type": "stream",
     "text": [
      "Progress:  55%|█████▌    | 275/500 [1:45:37<1:21:44, 21.80s/it]"
     ]
    },
    {
     "name": "stdout",
     "output_type": "stream",
     "text": [
      "Time to: Calculate Ground State - 1.5s, Get Pauli Ops - 5.83s, Calculate Pauli Expectation Values - 10.68s, Calculate Covariance - 2.67s\n",
      "f0,f1,f2 = [9.360236674969282e-10, 9.36023667658494e-10, 9.36023667525048e-10]\n",
      "d01,d02,d12 = [0.9816128274231304, 0.9816128274313349, 0.9816128274211074]\n"
     ]
    },
    {
     "name": "stderr",
     "output_type": "stream",
     "text": [
      "Progress:  55%|█████▌    | 276/500 [1:46:00<1:22:57, 22.22s/it]"
     ]
    },
    {
     "name": "stdout",
     "output_type": "stream",
     "text": [
      "Time to: Calculate Ground State - 1.54s, Get Pauli Ops - 9.1s, Calculate Pauli Expectation Values - 10.8s, Calculate Covariance - 1.76s\n",
      "f0,f1,f2 = [9.962512029291017e-10, 9.96251202712513e-10, 9.962512028510835e-10]\n",
      "d01,d02,d12 = [0.9809723079431567, 0.9809723079508851, 0.9809723079412687]\n"
     ]
    },
    {
     "name": "stderr",
     "output_type": "stream",
     "text": [
      "Progress:  55%|█████▌    | 277/500 [1:46:21<1:21:27, 21.92s/it]"
     ]
    },
    {
     "name": "stdout",
     "output_type": "stream",
     "text": [
      "Time to: Calculate Ground State - 0.89s, Get Pauli Ops - 6.21s, Calculate Pauli Expectation Values - 11.92s, Calculate Covariance - 2.17s\n",
      "f0,f1,f2 = [7.03263427507848e-10, 7.032634273119583e-10, 7.032634274466183e-10]\n",
      "d01,d02,d12 = [0.9800671983978253, 0.9800671984050124, 0.9800671983960907]\n"
     ]
    },
    {
     "name": "stderr",
     "output_type": "stream",
     "text": [
      "Progress:  56%|█████▌    | 278/500 [1:46:47<1:25:17, 23.05s/it]"
     ]
    },
    {
     "name": "stdout",
     "output_type": "stream",
     "text": [
      "Time to: Calculate Ground State - 1.61s, Get Pauli Ops - 6.62s, Calculate Pauli Expectation Values - 14.35s, Calculate Covariance - 3.11s\n",
      "f0,f1,f2 = [4.023322045889189e-10, 4.023322047350234e-10, 4.02332204605201e-10]\n",
      "d01,d02,d12 = [0.9793673928812416, 0.9793673928878377, 0.9793673928796748]\n"
     ]
    },
    {
     "name": "stderr",
     "output_type": "stream",
     "text": [
      "/cluster/home/mskrabulis/miniconda3/envs/quantech/lib/python3.9/site-packages/pyscf/symm/Dmatrix.py:156: RuntimeWarning: invalid value encountered in arccos\n",
      "  gamma = numpy.arccos(yp.dot(c2[1]))\n",
      "/cluster/home/mskrabulis/miniconda3/envs/quantech/lib/python3.9/site-packages/pyscf/symm/Dmatrix.py:156: RuntimeWarning: invalid value encountered in arccos\n",
      "  gamma = numpy.arccos(yp.dot(c2[1]))\n",
      "Progress:  56%|█████▌    | 279/500 [1:47:11<1:26:31, 23.49s/it]"
     ]
    },
    {
     "name": "stdout",
     "output_type": "stream",
     "text": [
      "Time to: Calculate Ground State - 1.63s, Get Pauli Ops - 10.23s, Calculate Pauli Expectation Values - 10.94s, Calculate Covariance - 1.71s\n",
      "f0,f1,f2 = [3.5320074568087e-10, 3.5320074578280365e-10, 3.53200745707683e-10]\n",
      "d01,d02,d12 = [0.9788438012407554, 0.9788438012467403, 0.9788438012393686]\n"
     ]
    },
    {
     "name": "stderr",
     "output_type": "stream",
     "text": [
      "Progress:  56%|█████▌    | 280/500 [1:47:32<1:23:32, 22.78s/it]"
     ]
    },
    {
     "name": "stdout",
     "output_type": "stream",
     "text": [
      "Time to: Calculate Ground State - 0.85s, Get Pauli Ops - 6.29s, Calculate Pauli Expectation Values - 12.29s, Calculate Covariance - 1.71s\n",
      "f0,f1,f2 = [1.5124135169447816e-09, 1.5124135170562775e-09, 1.5124135169696568e-09]\n",
      "d01,d02,d12 = [0.9789698632669525, 0.9789698632722854, 0.9789698632657513]\n"
     ]
    },
    {
     "name": "stderr",
     "output_type": "stream",
     "text": [
      "Progress:  56%|█████▌    | 281/500 [1:47:57<1:24:42, 23.21s/it]"
     ]
    },
    {
     "name": "stdout",
     "output_type": "stream",
     "text": [
      "Time to: Calculate Ground State - 1.49s, Get Pauli Ops - 6.53s, Calculate Pauli Expectation Values - 13.58s, Calculate Covariance - 2.58s\n",
      "f0,f1,f2 = [2.864530885383737e-10, 2.86453088430347e-10, 2.864530885475876e-10]\n",
      "d01,d02,d12 = [0.9789717393044509, 0.9789717393090897, 0.9789717393034247]\n"
     ]
    },
    {
     "name": "stderr",
     "output_type": "stream",
     "text": [
      "Progress:  56%|█████▋    | 282/500 [1:48:20<1:24:35, 23.28s/it]"
     ]
    },
    {
     "name": "stdout",
     "output_type": "stream",
     "text": [
      "Time to: Calculate Ground State - 0.93s, Get Pauli Ops - 5.46s, Calculate Pauli Expectation Values - 14.91s, Calculate Covariance - 2.14s\n",
      "f0,f1,f2 = [1.3749088814294805e-09, 1.3749088815488586e-09, 1.3749088815074247e-09]\n",
      "d01,d02,d12 = [0.9795439338564357, 0.9795439338603508, 0.9795439338556042]\n"
     ]
    },
    {
     "name": "stderr",
     "output_type": "stream",
     "text": [
      "/cluster/home/mskrabulis/miniconda3/envs/quantech/lib/python3.9/site-packages/pyscf/symm/Dmatrix.py:156: RuntimeWarning: invalid value encountered in arccos\n",
      "  gamma = numpy.arccos(yp.dot(c2[1]))\n",
      "Progress:  57%|█████▋    | 283/500 [1:48:45<1:26:32, 23.93s/it]"
     ]
    },
    {
     "name": "stdout",
     "output_type": "stream",
     "text": [
      "Time to: Calculate Ground State - 1.56s, Get Pauli Ops - 6.33s, Calculate Pauli Expectation Values - 14.47s, Calculate Covariance - 3.08s\n",
      "f0,f1,f2 = [2.0734729364483075e-09, 2.0734729364948095e-09, 2.0734729364389984e-09]\n",
      "d01,d02,d12 = [0.9809520635175165, 0.980952063520691, 0.9809520635168881]\n"
     ]
    },
    {
     "name": "stderr",
     "output_type": "stream",
     "text": [
      "Progress:  57%|█████▋    | 284/500 [1:49:12<1:28:32, 24.60s/it]"
     ]
    },
    {
     "name": "stdout",
     "output_type": "stream",
     "text": [
      "Time to: Calculate Ground State - 1.52s, Get Pauli Ops - 6.65s, Calculate Pauli Expectation Values - 14.93s, Calculate Covariance - 3.05s\n",
      "f0,f1,f2 = [4.792850547201457e-10, 4.79285054625604e-10, 4.792850547298011e-10]\n",
      "d01,d02,d12 = [0.982101630152094, 0.9821016301544921, 0.9821016301516701]\n"
     ]
    },
    {
     "name": "stderr",
     "output_type": "stream",
     "text": [
      "Progress:  57%|█████▋    | 285/500 [1:49:34<1:25:42, 23.92s/it]"
     ]
    },
    {
     "name": "stdout",
     "output_type": "stream",
     "text": [
      "Time to: Calculate Ground State - 1.6s, Get Pauli Ops - 6.62s, Calculate Pauli Expectation Values - 10.88s, Calculate Covariance - 3.23s\n",
      "f0,f1,f2 = [1.465513117126622e-09, 1.4655131170356635e-09, 1.4655131171102773e-09]\n",
      "d01,d02,d12 = [0.9825944538523745, 0.9825944538539694, 0.9825944538521583]\n"
     ]
    },
    {
     "name": "stderr",
     "output_type": "stream",
     "text": [
      "/cluster/home/mskrabulis/miniconda3/envs/quantech/lib/python3.9/site-packages/pyscf/symm/Dmatrix.py:156: RuntimeWarning: invalid value encountered in arccos\n",
      "  gamma = numpy.arccos(yp.dot(c2[1]))\n",
      "Progress:  57%|█████▋    | 286/500 [1:50:00<1:27:05, 24.42s/it]"
     ]
    },
    {
     "name": "stdout",
     "output_type": "stream",
     "text": [
      "Time to: Calculate Ground State - 1.79s, Get Pauli Ops - 9.59s, Calculate Pauli Expectation Values - 10.97s, Calculate Covariance - 3.23s\n",
      "f0,f1,f2 = [1.2276657308439725e-10, 1.2276657298744499e-10, 1.2276657304985884e-10]\n",
      "d01,d02,d12 = [0.9830154445572381, 0.9830154445580096, 0.9830154445572389]\n"
     ]
    },
    {
     "name": "stderr",
     "output_type": "stream",
     "text": [
      "/cluster/home/mskrabulis/miniconda3/envs/quantech/lib/python3.9/site-packages/pyscf/symm/Dmatrix.py:156: RuntimeWarning: invalid value encountered in arccos\n",
      "  gamma = numpy.arccos(yp.dot(c2[1]))\n",
      "Progress:  57%|█████▋    | 287/500 [1:50:27<1:29:34, 25.23s/it]"
     ]
    },
    {
     "name": "stdout",
     "output_type": "stream",
     "text": [
      "Time to: Calculate Ground State - 1.55s, Get Pauli Ops - 7.3s, Calculate Pauli Expectation Values - 15.32s, Calculate Covariance - 2.95s\n",
      "f0,f1,f2 = [5.106676685773986e-10, 5.1066766859346e-10, 5.106676685724685e-10]\n",
      "d01,d02,d12 = [0.9836304372363701, 0.9836304372363057, 0.983630437236587]\n"
     ]
    },
    {
     "name": "stderr",
     "output_type": "stream",
     "text": [
      "Progress:  58%|█████▊    | 288/500 [1:50:49<1:26:27, 24.47s/it]"
     ]
    },
    {
     "name": "stdout",
     "output_type": "stream",
     "text": [
      "Time to: Calculate Ground State - 1.55s, Get Pauli Ops - 7.09s, Calculate Pauli Expectation Values - 11.17s, Calculate Covariance - 2.88s\n",
      "f0,f1,f2 = [1.5317601633661703e-09, 1.5317601633616208e-09, 1.5317601633560506e-09]\n",
      "d01,d02,d12 = [0.9848548174611818, 0.9848548174602708, 0.9848548174616073]\n"
     ]
    },
    {
     "name": "stderr",
     "output_type": "stream",
     "text": [
      "Progress:  58%|█████▊    | 289/500 [1:51:17<1:29:27, 25.44s/it]"
     ]
    },
    {
     "name": "stdout",
     "output_type": "stream",
     "text": [
      "Time to: Calculate Ground State - 1.6s, Get Pauli Ops - 6.99s, Calculate Pauli Expectation Values - 15.98s, Calculate Covariance - 3.13s\n",
      "f0,f1,f2 = [3.9717288985126924e-10, 3.971728898665629e-10, 3.971728898653072e-10]\n",
      "d01,d02,d12 = [0.985862500767379, 0.9858625007656229, 0.9858625007680122]\n"
     ]
    },
    {
     "name": "stderr",
     "output_type": "stream",
     "text": [
      "Progress:  58%|█████▊    | 290/500 [1:51:42<1:28:38, 25.33s/it]"
     ]
    },
    {
     "name": "stdout",
     "output_type": "stream",
     "text": [
      "Time to: Calculate Ground State - 1.65s, Get Pauli Ops - 9.91s, Calculate Pauli Expectation Values - 11.31s, Calculate Covariance - 2.18s\n",
      "f0,f1,f2 = [9.39277143790171e-10, 9.392771438515154e-10, 9.392771437856623e-10]\n",
      "d01,d02,d12 = [0.9864377796153025, 0.9864377796127263, 0.9864377796161403]\n"
     ]
    },
    {
     "name": "stderr",
     "output_type": "stream",
     "text": [
      "Progress:  58%|█████▊    | 291/500 [1:52:04<1:24:35, 24.28s/it]"
     ]
    },
    {
     "name": "stdout",
     "output_type": "stream",
     "text": [
      "Time to: Calculate Ground State - 1.32s, Get Pauli Ops - 6.03s, Calculate Pauli Expectation Values - 12.08s, Calculate Covariance - 2.42s\n",
      "f0,f1,f2 = [5.499888572212183e-11, 5.4998885737943244e-11, 5.4998885752239736e-11]\n",
      "d01,d02,d12 = [0.9869658455500488, 0.9869658455466686, 0.9869658455510947]\n"
     ]
    },
    {
     "name": "stderr",
     "output_type": "stream",
     "text": [
      "Progress:  58%|█████▊    | 292/500 [1:52:28<1:23:44, 24.16s/it]"
     ]
    },
    {
     "name": "stdout",
     "output_type": "stream",
     "text": [
      "Time to: Calculate Ground State - 1.19s, Get Pauli Ops - 6.19s, Calculate Pauli Expectation Values - 14.1s, Calculate Covariance - 2.38s\n",
      "f0,f1,f2 = [5.358983654320497e-10, 5.358983655267694e-10, 5.358983654559053e-10]\n",
      "d01,d02,d12 = [0.9872491939020609, 0.9872491938978931, 0.9872491939033053]\n"
     ]
    },
    {
     "name": "stderr",
     "output_type": "stream",
     "text": [
      "Progress:  59%|█████▊    | 293/500 [1:52:54<1:25:18, 24.73s/it]"
     ]
    },
    {
     "name": "stdout",
     "output_type": "stream",
     "text": [
      "Time to: Calculate Ground State - 1.73s, Get Pauli Ops - 10.29s, Calculate Pauli Expectation Values - 11.29s, Calculate Covariance - 2.75s\n",
      "f0,f1,f2 = [9.32613919225318e-10, 9.3261391928417e-10, 9.326139192364873e-10]\n",
      "d01,d02,d12 = [0.9871336199940672, 0.9871336199891358, 0.9871336199955034]\n"
     ]
    },
    {
     "name": "stderr",
     "output_type": "stream",
     "text": [
      "Progress:  59%|█████▉    | 294/500 [1:53:19<1:25:12, 24.82s/it]"
     ]
    },
    {
     "name": "stdout",
     "output_type": "stream",
     "text": [
      "Time to: Calculate Ground State - 1.57s, Get Pauli Ops - 9.53s, Calculate Pauli Expectation Values - 10.85s, Calculate Covariance - 3.07s\n",
      "f0,f1,f2 = [7.161032227429014e-10, 7.161032228031622e-10, 7.161032227509902e-10]\n",
      "d01,d02,d12 = [0.9867258628153298, 0.9867258628096676, 0.9867258628169459]\n"
     ]
    },
    {
     "name": "stderr",
     "output_type": "stream",
     "text": [
      "Progress:  59%|█████▉    | 295/500 [1:53:43<1:24:09, 24.63s/it]"
     ]
    },
    {
     "name": "stdout",
     "output_type": "stream",
     "text": [
      "Time to: Calculate Ground State - 1.54s, Get Pauli Ops - 7.16s, Calculate Pauli Expectation Values - 13.15s, Calculate Covariance - 2.32s\n",
      "f0,f1,f2 = [6.283465728663043e-10, 6.283465727486013e-10, 6.28346572825352e-10]\n",
      "d01,d02,d12 = [0.9865960747383922, 0.9865960747320324, 0.9865960747401733]\n"
     ]
    },
    {
     "name": "stderr",
     "output_type": "stream",
     "text": [
      "Progress:  59%|█████▉    | 296/500 [1:54:05<1:20:29, 23.67s/it]"
     ]
    },
    {
     "name": "stdout",
     "output_type": "stream",
     "text": [
      "Time to: Calculate Ground State - 1.51s, Get Pauli Ops - 5.79s, Calculate Pauli Expectation Values - 11.17s, Calculate Covariance - 2.96s\n",
      "f0,f1,f2 = [2.973528914031443e-09, 2.973528913890707e-09, 2.973528913953761e-09]\n",
      "d01,d02,d12 = [0.9877053961271189, 0.9877053961200807, 0.9877053961290512]\n"
     ]
    },
    {
     "name": "stderr",
     "output_type": "stream",
     "text": [
      "/cluster/home/mskrabulis/miniconda3/envs/quantech/lib/python3.9/site-packages/pyscf/symm/Dmatrix.py:156: RuntimeWarning: invalid value encountered in arccos\n",
      "  gamma = numpy.arccos(yp.dot(c2[1]))\n",
      "Progress:  59%|█████▉    | 297/500 [1:54:26<1:17:50, 23.01s/it]"
     ]
    },
    {
     "name": "stdout",
     "output_type": "stream",
     "text": [
      "Time to: Calculate Ground State - 1.5s, Get Pauli Ops - 6.55s, Calculate Pauli Expectation Values - 11.05s, Calculate Covariance - 2.34s\n",
      "f0,f1,f2 = [8.126515209962827e-10, 8.126515211567434e-10, 8.126515210212588e-10]\n",
      "d01,d02,d12 = [0.9884305372097408, 0.9884305372020766, 0.9884305372118197]\n"
     ]
    },
    {
     "name": "stderr",
     "output_type": "stream",
     "text": [
      "Progress:  60%|█████▉    | 298/500 [1:54:52<1:20:16, 23.84s/it]"
     ]
    },
    {
     "name": "stdout",
     "output_type": "stream",
     "text": [
      "Time to: Calculate Ground State - 1.65s, Get Pauli Ops - 10.7s, Calculate Pauli Expectation Values - 11.1s, Calculate Covariance - 2.33s\n",
      "f0,f1,f2 = [5.487040733288874e-10, 5.487040734742357e-10, 5.487040733463732e-10]\n",
      "d01,d02,d12 = [0.9888972918527529, 0.9888972918445225, 0.9888972918549759]\n"
     ]
    },
    {
     "name": "stderr",
     "output_type": "stream",
     "text": [
      "Progress:  60%|█████▉    | 299/500 [1:55:18<1:22:40, 24.68s/it]"
     ]
    },
    {
     "name": "stdout",
     "output_type": "stream",
     "text": [
      "Time to: Calculate Ground State - 1.57s, Get Pauli Ops - 10.34s, Calculate Pauli Expectation Values - 11.58s, Calculate Covariance - 3.11s\n",
      "f0,f1,f2 = [7.047875063219606e-10, 7.047875065138346e-10, 7.047875063650366e-10]\n",
      "d01,d02,d12 = [0.9890518639871103, 0.9890518639783765, 0.9890518639894652]\n"
     ]
    },
    {
     "name": "stderr",
     "output_type": "stream",
     "text": [
      "/cluster/home/mskrabulis/miniconda3/envs/quantech/lib/python3.9/site-packages/pyscf/symm/Dmatrix.py:156: RuntimeWarning: invalid value encountered in arccos\n",
      "  gamma = numpy.arccos(yp.dot(c2[1]))\n",
      "Progress:  60%|██████    | 300/500 [1:55:43<1:21:45, 24.53s/it]"
     ]
    },
    {
     "name": "stdout",
     "output_type": "stream",
     "text": [
      "Time to: Calculate Ground State - 1.59s, Get Pauli Ops - 7.08s, Calculate Pauli Expectation Values - 12.41s, Calculate Covariance - 3.08s\n",
      "f0,f1,f2 = [4.5302914146870455e-10, 4.5302914173487535e-10, 4.530291415531997e-10]\n",
      "d01,d02,d12 = [0.9890119367666063, 0.9890119367574338, 0.9890119367690653]\n"
     ]
    },
    {
     "name": "stderr",
     "output_type": "stream",
     "text": [
      "Progress:  60%|██████    | 301/500 [1:56:12<1:26:32, 26.10s/it]"
     ]
    },
    {
     "name": "stdout",
     "output_type": "stream",
     "text": [
      "Time to: Calculate Ground State - 1.57s, Get Pauli Ops - 14.53s, Calculate Pauli Expectation Values - 11.22s, Calculate Covariance - 2.43s\n",
      "f0,f1,f2 = [1.394534279972957e-10, 1.3945342819239594e-10, 1.3945342800524493e-10]\n",
      "d01,d02,d12 = [0.9889158486499445, 0.9889158486404086, 0.9889158486525077]\n"
     ]
    },
    {
     "name": "stderr",
     "output_type": "stream",
     "text": [
      "Progress:  60%|██████    | 302/500 [1:56:35<1:23:02, 25.17s/it]"
     ]
    },
    {
     "name": "stdout",
     "output_type": "stream",
     "text": [
      "Time to: Calculate Ground State - 1.57s, Get Pauli Ops - 6.6s, Calculate Pauli Expectation Values - 11.63s, Calculate Covariance - 3.18s\n",
      "f0,f1,f2 = [1.027814960707612e-10, 1.0278149582460266e-10, 1.0278149600718034e-10]\n",
      "d01,d02,d12 = [0.9888664753034655, 0.9888664752936281, 0.988866475306113]\n"
     ]
    },
    {
     "name": "stderr",
     "output_type": "stream",
     "text": [
      "Progress:  61%|██████    | 303/500 [1:57:02<1:24:31, 25.74s/it]"
     ]
    },
    {
     "name": "stdout",
     "output_type": "stream",
     "text": [
      "Time to: Calculate Ground State - 1.58s, Get Pauli Ops - 6.37s, Calculate Pauli Expectation Values - 16.02s, Calculate Covariance - 3.1s\n",
      "f0,f1,f2 = [1.2129562652760801e-09, 1.2129562654387053e-09, 1.2129562653068297e-09]\n",
      "d01,d02,d12 = [0.9883159855893985, 0.988315985579332, 0.9883159855921148]\n"
     ]
    },
    {
     "name": "stderr",
     "output_type": "stream",
     "text": [
      "Progress:  61%|██████    | 304/500 [1:57:29<1:25:21, 26.13s/it]"
     ]
    },
    {
     "name": "stdout",
     "output_type": "stream",
     "text": [
      "Time to: Calculate Ground State - 1.58s, Get Pauli Ops - 6.32s, Calculate Pauli Expectation Values - 16.05s, Calculate Covariance - 3.09s\n",
      "f0,f1,f2 = [3.2969243820529475e-10, 3.2969243802895127e-10, 3.296924381617904e-10]\n",
      "d01,d02,d12 = [0.9879256165556611, 0.9879256165454141, 0.9879256165584368]\n"
     ]
    },
    {
     "name": "stderr",
     "output_type": "stream",
     "text": [
      "Progress:  61%|██████    | 305/500 [1:57:54<1:23:19, 25.64s/it]"
     ]
    },
    {
     "name": "stdout",
     "output_type": "stream",
     "text": [
      "Time to: Calculate Ground State - 1.64s, Get Pauli Ops - 9.18s, Calculate Pauli Expectation Values - 11.15s, Calculate Covariance - 2.49s\n",
      "f0,f1,f2 = [4.5252525288519876e-10, 4.5252525266261795e-10, 4.525252528301752e-10]\n",
      "d01,d02,d12 = [0.9877395371062792, 0.9877395370959159, 0.9877395371090946]\n"
     ]
    },
    {
     "name": "stderr",
     "output_type": "stream",
     "text": [
      "/cluster/home/mskrabulis/miniconda3/envs/quantech/lib/python3.9/site-packages/pyscf/symm/Dmatrix.py:156: RuntimeWarning: invalid value encountered in arccos\n",
      "  gamma = numpy.arccos(yp.dot(c2[1]))\n",
      "Progress:  61%|██████    | 306/500 [1:58:16<1:19:32, 24.60s/it]"
     ]
    },
    {
     "name": "stdout",
     "output_type": "stream",
     "text": [
      "Time to: Calculate Ground State - 1.63s, Get Pauli Ops - 6.39s, Calculate Pauli Expectation Values - 11.11s, Calculate Covariance - 3.04s\n",
      "f0,f1,f2 = [9.51218050035503e-10, 9.512180502171047e-10, 9.512180501239982e-10]\n",
      "d01,d02,d12 = [0.987166723831685, 0.9871667238212668, 0.9871667238345231]\n"
     ]
    },
    {
     "name": "stderr",
     "output_type": "stream",
     "text": [
      "Progress:  61%|██████▏   | 307/500 [1:58:37<1:15:59, 23.62s/it]"
     ]
    },
    {
     "name": "stdout",
     "output_type": "stream",
     "text": [
      "Time to: Calculate Ground State - 1.54s, Get Pauli Ops - 6.01s, Calculate Pauli Expectation Values - 10.82s, Calculate Covariance - 2.95s\n",
      "f0,f1,f2 = [1.103854410575045e-09, 1.1038544103541537e-09, 1.1038544105565838e-09]\n",
      "d01,d02,d12 = [0.9870761492466964, 0.987076149236299, 0.987076149249546]\n"
     ]
    },
    {
     "name": "stderr",
     "output_type": "stream",
     "text": [
      "/cluster/home/mskrabulis/miniconda3/envs/quantech/lib/python3.9/site-packages/pyscf/symm/Dmatrix.py:156: RuntimeWarning: invalid value encountered in arccos\n",
      "  gamma = numpy.arccos(yp.dot(c2[1]))\n",
      "Progress:  62%|██████▏   | 308/500 [1:59:00<1:14:31, 23.29s/it]"
     ]
    },
    {
     "name": "stdout",
     "output_type": "stream",
     "text": [
      "Time to: Calculate Ground State - 1.58s, Get Pauli Ops - 7.08s, Calculate Pauli Expectation Values - 10.83s, Calculate Covariance - 3.02s\n",
      "f0,f1,f2 = [2.71812950845343e-10, 2.7181295101447563e-10, 2.718129509001409e-10]\n",
      "d01,d02,d12 = [0.9868766506189877, 0.9868766506086797, 0.9868766506218254]\n"
     ]
    },
    {
     "name": "stderr",
     "output_type": "stream",
     "text": [
      "Progress:  62%|██████▏   | 309/500 [1:59:23<1:13:27, 23.08s/it]"
     ]
    },
    {
     "name": "stdout",
     "output_type": "stream",
     "text": [
      "Time to: Calculate Ground State - 1.54s, Get Pauli Ops - 6.66s, Calculate Pauli Expectation Values - 11.15s, Calculate Covariance - 3.22s\n",
      "f0,f1,f2 = [4.7685186948967e-10, 4.768518697295866e-10, 4.768518695304439e-10]\n",
      "d01,d02,d12 = [0.9864877841128519, 0.986487784102724, 0.9864877841156573]\n"
     ]
    },
    {
     "name": "stderr",
     "output_type": "stream",
     "text": [
      "Progress:  62%|██████▏   | 310/500 [1:59:50<1:16:48, 24.25s/it]"
     ]
    },
    {
     "name": "stdout",
     "output_type": "stream",
     "text": [
      "Time to: Calculate Ground State - 1.69s, Get Pauli Ops - 10.72s, Calculate Pauli Expectation Values - 11.72s, Calculate Covariance - 2.85s\n",
      "f0,f1,f2 = [5.660016094010799e-10, 5.66001609166098e-10, 5.660016093084729e-10]\n",
      "d01,d02,d12 = [0.9863502211078254, 0.9863502210979262, 0.9863502211105633]\n"
     ]
    },
    {
     "name": "stderr",
     "output_type": "stream",
     "text": [
      "Progress:  62%|██████▏   | 311/500 [2:00:16<1:18:20, 24.87s/it]"
     ]
    },
    {
     "name": "stdout",
     "output_type": "stream",
     "text": [
      "Time to: Calculate Ground State - 1.55s, Get Pauli Ops - 10.6s, Calculate Pauli Expectation Values - 11.07s, Calculate Covariance - 3.09s\n",
      "f0,f1,f2 = [7.276278692536681e-10, 7.276278694568649e-10, 7.276278693335673e-10]\n",
      "d01,d02,d12 = [0.9859166262840295, 0.9859166262744272, 0.985916626286678]\n"
     ]
    },
    {
     "name": "stderr",
     "output_type": "stream",
     "text": [
      "Progress:  62%|██████▏   | 312/500 [2:00:42<1:18:46, 25.14s/it]"
     ]
    },
    {
     "name": "stdout",
     "output_type": "stream",
     "text": [
      "Time to: Calculate Ground State - 1.67s, Get Pauli Ops - 6.32s, Calculate Pauli Expectation Values - 14.73s, Calculate Covariance - 3.04s\n",
      "f0,f1,f2 = [3.8490312235218793e-10, 3.84903122595639e-10, 3.8490312245012156e-10]\n",
      "d01,d02,d12 = [0.9853417373693426, 0.985341737360101, 0.9853417373718679]\n"
     ]
    },
    {
     "name": "stderr",
     "output_type": "stream",
     "text": [
      "/cluster/home/mskrabulis/miniconda3/envs/quantech/lib/python3.9/site-packages/pyscf/symm/Dmatrix.py:156: RuntimeWarning: invalid value encountered in arccos\n",
      "  gamma = numpy.arccos(yp.dot(c2[1]))\n",
      "Progress:  63%|██████▎   | 313/500 [2:01:07<1:18:48, 25.29s/it]"
     ]
    },
    {
     "name": "stdout",
     "output_type": "stream",
     "text": [
      "Time to: Calculate Ground State - 1.57s, Get Pauli Ops - 9.82s, Calculate Pauli Expectation Values - 11.15s, Calculate Covariance - 3.08s\n",
      "f0,f1,f2 = [1.8771576519199372e-10, 1.8771576503096913e-10, 1.8771576513773625e-10]\n",
      "d01,d02,d12 = [0.9848691048159395, 0.9848691048071017, 0.9848691048183172]\n"
     ]
    },
    {
     "name": "stderr",
     "output_type": "stream",
     "text": [
      "Progress:  63%|██████▎   | 314/500 [2:01:32<1:18:04, 25.18s/it]"
     ]
    },
    {
     "name": "stdout",
     "output_type": "stream",
     "text": [
      "Time to: Calculate Ground State - 1.56s, Get Pauli Ops - 9.64s, Calculate Pauli Expectation Values - 11.5s, Calculate Covariance - 2.24s\n",
      "f0,f1,f2 = [4.471216793844064e-10, 4.4712167963618735e-10, 4.47121679486824e-10]\n",
      "d01,d02,d12 = [0.9842310221160009, 0.9842310221076378, 0.9842310221182058]\n"
     ]
    },
    {
     "name": "stderr",
     "output_type": "stream",
     "text": [
      "Progress:  63%|██████▎   | 315/500 [2:01:58<1:17:51, 25.25s/it]"
     ]
    },
    {
     "name": "stdout",
     "output_type": "stream",
     "text": [
      "Time to: Calculate Ground State - 1.49s, Get Pauli Ops - 6.57s, Calculate Pauli Expectation Values - 14.23s, Calculate Covariance - 3.11s\n",
      "f0,f1,f2 = [1.1596051794558917e-10, 1.1596051817583842e-10, 1.1596051797541933e-10]\n",
      "d01,d02,d12 = [0.9835718927303517, 0.9835718927225435, 0.9835718927323669]\n"
     ]
    },
    {
     "name": "stderr",
     "output_type": "stream",
     "text": [
      "/cluster/home/mskrabulis/miniconda3/envs/quantech/lib/python3.9/site-packages/pyscf/symm/Dmatrix.py:156: RuntimeWarning: invalid value encountered in arccos\n",
      "  gamma = numpy.arccos(yp.dot(c2[1]))\n",
      "Progress:  63%|██████▎   | 316/500 [2:02:24<1:18:05, 25.47s/it]"
     ]
    },
    {
     "name": "stdout",
     "output_type": "stream",
     "text": [
      "Time to: Calculate Ground State - 1.57s, Get Pauli Ops - 7.46s, Calculate Pauli Expectation Values - 13.96s, Calculate Covariance - 2.96s\n",
      "f0,f1,f2 = [8.350002238229717e-10, 8.350002239862385e-10, 8.350002238460395e-10]\n",
      "d01,d02,d12 = [0.9825943072547025, 0.982594307247508, 0.9825943072565004]\n"
     ]
    },
    {
     "name": "stderr",
     "output_type": "stream",
     "text": [
      "Progress:  63%|██████▎   | 317/500 [2:02:46<1:14:45, 24.51s/it]"
     ]
    },
    {
     "name": "stdout",
     "output_type": "stream",
     "text": [
      "Time to: Calculate Ground State - 1.08s, Get Pauli Ops - 7.01s, Calculate Pauli Expectation Values - 11.38s, Calculate Covariance - 2.79s\n",
      "f0,f1,f2 = [7.99735763374244e-10, 7.997357632127596e-10, 7.997357633487828e-10]\n",
      "d01,d02,d12 = [0.9819899636797437, 0.9819899636732108, 0.981989963681305]\n"
     ]
    },
    {
     "name": "stderr",
     "output_type": "stream",
     "text": [
      "Progress:  64%|██████▎   | 318/500 [2:03:08<1:11:43, 23.64s/it]"
     ]
    },
    {
     "name": "stdout",
     "output_type": "stream",
     "text": [
      "Time to: Calculate Ground State - 1.59s, Get Pauli Ops - 6.86s, Calculate Pauli Expectation Values - 11.0s, Calculate Covariance - 2.16s\n",
      "f0,f1,f2 = [3.660876182593912e-11, 3.660876169422495e-11, 3.6608761815028495e-11]\n",
      "d01,d02,d12 = [0.9814264398165901, 0.9814264398107665, 0.9814264398179114]\n"
     ]
    },
    {
     "name": "stderr",
     "output_type": "stream",
     "text": [
      "/cluster/home/mskrabulis/miniconda3/envs/quantech/lib/python3.9/site-packages/pyscf/symm/Dmatrix.py:156: RuntimeWarning: invalid value encountered in arccos\n",
      "  gamma = numpy.arccos(yp.dot(c2[1]))\n",
      "Progress:  64%|██████▍   | 319/500 [2:03:30<1:10:23, 23.33s/it]"
     ]
    },
    {
     "name": "stdout",
     "output_type": "stream",
     "text": [
      "Time to: Calculate Ground State - 1.46s, Get Pauli Ops - 6.14s, Calculate Pauli Expectation Values - 12.27s, Calculate Covariance - 2.74s\n",
      "f0,f1,f2 = [1.448836378592395e-11, 1.4488363905643224e-11, 1.448836380041233e-11]\n",
      "d01,d02,d12 = [0.9808808065966155, 0.9808808065915496, 0.9808808065976918]\n"
     ]
    },
    {
     "name": "stderr",
     "output_type": "stream",
     "text": [
      "/cluster/home/mskrabulis/miniconda3/envs/quantech/lib/python3.9/site-packages/pyscf/symm/Dmatrix.py:156: RuntimeWarning: invalid value encountered in arccos\n",
      "  gamma = numpy.arccos(yp.dot(c2[1]))\n",
      "Progress:  64%|██████▍   | 320/500 [2:03:54<1:10:42, 23.57s/it]"
     ]
    },
    {
     "name": "stdout",
     "output_type": "stream",
     "text": [
      "Time to: Calculate Ground State - 1.57s, Get Pauli Ops - 7.17s, Calculate Pauli Expectation Values - 13.63s, Calculate Covariance - 1.74s\n",
      "f0,f1,f2 = [2.934704465832691e-10, 2.93470446680408e-10, 2.934704466200317e-10]\n",
      "d01,d02,d12 = [0.9802365664832817, 0.9802365664790126, 0.9802365664840982]\n"
     ]
    },
    {
     "name": "stderr",
     "output_type": "stream",
     "text": [
      "/cluster/home/mskrabulis/miniconda3/envs/quantech/lib/python3.9/site-packages/pyscf/symm/Dmatrix.py:156: RuntimeWarning: invalid value encountered in arccos\n",
      "  gamma = numpy.arccos(yp.dot(c2[1]))\n",
      "Progress:  64%|██████▍   | 321/500 [2:04:20<1:11:53, 24.10s/it]"
     ]
    },
    {
     "name": "stdout",
     "output_type": "stream",
     "text": [
      "Time to: Calculate Ground State - 1.6s, Get Pauli Ops - 9.88s, Calculate Pauli Expectation Values - 10.89s, Calculate Covariance - 2.94s\n",
      "f0,f1,f2 = [5.132783548324643e-10, 5.132783549421787e-10, 5.132783548624855e-10]\n",
      "d01,d02,d12 = [0.9794067125675415, 0.9794067125641088, 0.9794067125680833]\n"
     ]
    },
    {
     "name": "stderr",
     "output_type": "stream",
     "text": [
      "/cluster/home/mskrabulis/miniconda3/envs/quantech/lib/python3.9/site-packages/pyscf/symm/Dmatrix.py:156: RuntimeWarning: invalid value encountered in arccos\n",
      "  gamma = numpy.arccos(yp.dot(c2[1]))\n",
      "Progress:  64%|██████▍   | 322/500 [2:04:45<1:12:50, 24.55s/it]"
     ]
    },
    {
     "name": "stdout",
     "output_type": "stream",
     "text": [
      "Time to: Calculate Ground State - 1.56s, Get Pauli Ops - 10.02s, Calculate Pauli Expectation Values - 11.24s, Calculate Covariance - 2.79s\n",
      "f0,f1,f2 = [1.3848596432550574e-09, 1.3848596431810994e-09, 1.3848596432192614e-09]\n",
      "d01,d02,d12 = [0.9791865853729971, 0.9791865853704138, 0.9791865853732592]\n"
     ]
    },
    {
     "name": "stderr",
     "output_type": "stream",
     "text": [
      "/cluster/home/mskrabulis/miniconda3/envs/quantech/lib/python3.9/site-packages/pyscf/symm/Dmatrix.py:156: RuntimeWarning: invalid value encountered in arccos\n",
      "  gamma = numpy.arccos(yp.dot(c2[1]))\n",
      "Progress:  65%|██████▍   | 323/500 [2:05:10<1:12:51, 24.70s/it]"
     ]
    },
    {
     "name": "stdout",
     "output_type": "stream",
     "text": [
      "Time to: Calculate Ground State - 1.59s, Get Pauli Ops - 9.78s, Calculate Pauli Expectation Values - 11.0s, Calculate Covariance - 2.64s\n",
      "f0,f1,f2 = [9.441220256015994e-10, 9.441220256128046e-10, 9.441220256145386e-10]\n",
      "d01,d02,d12 = [0.9785841147409142, 0.9785841147391758, 0.9785841147408869]\n"
     ]
    },
    {
     "name": "stderr",
     "output_type": "stream",
     "text": [
      "Progress:  65%|██████▍   | 324/500 [2:05:35<1:12:13, 24.62s/it]"
     ]
    },
    {
     "name": "stdout",
     "output_type": "stream",
     "text": [
      "Time to: Calculate Ground State - 1.49s, Get Pauli Ops - 6.53s, Calculate Pauli Expectation Values - 14.74s, Calculate Covariance - 1.7s\n",
      "f0,f1,f2 = [1.115031815597597e-09, 1.1150318155600686e-09, 1.115031815605559e-09]\n",
      "d01,d02,d12 = [0.9784697852841744, 0.9784697852833077, 0.9784697852838576]\n"
     ]
    },
    {
     "name": "stderr",
     "output_type": "stream",
     "text": [
      "/cluster/home/mskrabulis/miniconda3/envs/quantech/lib/python3.9/site-packages/pyscf/symm/Dmatrix.py:156: RuntimeWarning: invalid value encountered in arccos\n",
      "  gamma = numpy.arccos(yp.dot(c2[1]))\n",
      "Progress:  65%|██████▌   | 325/500 [2:05:57<1:09:36, 23.87s/it]"
     ]
    },
    {
     "name": "stdout",
     "output_type": "stream",
     "text": [
      "Time to: Calculate Ground State - 1.57s, Get Pauli Ops - 6.26s, Calculate Pauli Expectation Values - 11.18s, Calculate Covariance - 3.07s\n",
      "f0,f1,f2 = [3.230357789168605e-10, 3.230357788528782e-10, 3.2303577885364024e-10]\n",
      "d01,d02,d12 = [0.9784943210328403, 0.9784943210328486, 0.97849432103222]\n"
     ]
    },
    {
     "name": "stderr",
     "output_type": "stream",
     "text": [
      "Progress:  65%|██████▌   | 326/500 [2:06:19<1:07:33, 23.30s/it]"
     ]
    },
    {
     "name": "stdout",
     "output_type": "stream",
     "text": [
      "Time to: Calculate Ground State - 1.52s, Get Pauli Ops - 6.25s, Calculate Pauli Expectation Values - 11.03s, Calculate Covariance - 3.16s\n",
      "f0,f1,f2 = [9.719490642355274e-11, 9.719490643810743e-11, 9.719490643966462e-11]\n",
      "d01,d02,d12 = [0.9785581385099087, 0.9785581385107919, 0.9785581385089909]\n"
     ]
    },
    {
     "name": "stderr",
     "output_type": "stream",
     "text": [
      "Progress:  65%|██████▌   | 327/500 [2:06:40<1:05:23, 22.68s/it]"
     ]
    },
    {
     "name": "stdout",
     "output_type": "stream",
     "text": [
      "Time to: Calculate Ground State - 1.5s, Get Pauli Ops - 5.9s, Calculate Pauli Expectation Values - 11.33s, Calculate Covariance - 2.49s\n",
      "f0,f1,f2 = [8.328286861000286e-10, 8.328286859933134e-10, 8.328286860322383e-10]\n",
      "d01,d02,d12 = [0.9782737395320752, 0.9782737395338182, 0.978273739530873]\n"
     ]
    },
    {
     "name": "stderr",
     "output_type": "stream",
     "text": [
      "Progress:  66%|██████▌   | 328/500 [2:07:05<1:07:02, 23.39s/it]"
     ]
    },
    {
     "name": "stdout",
     "output_type": "stream",
     "text": [
      "Time to: Calculate Ground State - 1.61s, Get Pauli Ops - 9.0s, Calculate Pauli Expectation Values - 11.27s, Calculate Covariance - 3.14s\n",
      "f0,f1,f2 = [1.813489501976405e-09, 1.8134895020457595e-09, 1.8134895020169796e-09]\n",
      "d01,d02,d12 = [0.9787537534370963, 0.9787537534396975, 0.9787537534356217]\n"
     ]
    },
    {
     "name": "stderr",
     "output_type": "stream",
     "text": [
      "Progress:  66%|██████▌   | 329/500 [2:07:30<1:08:17, 23.96s/it]"
     ]
    },
    {
     "name": "stdout",
     "output_type": "stream",
     "text": [
      "Time to: Calculate Ground State - 1.6s, Get Pauli Ops - 9.87s, Calculate Pauli Expectation Values - 11.09s, Calculate Covariance - 2.73s\n",
      "f0,f1,f2 = [5.090179801073114e-10, 5.090179800262628e-10, 5.090179800932703e-10]\n",
      "d01,d02,d12 = [0.9790022332484096, 0.9790022332518399, 0.9790022332466595]\n"
     ]
    },
    {
     "name": "stderr",
     "output_type": "stream",
     "text": [
      "/cluster/home/mskrabulis/miniconda3/envs/quantech/lib/python3.9/site-packages/pyscf/symm/Dmatrix.py:156: RuntimeWarning: invalid value encountered in arccos\n",
      "  gamma = numpy.arccos(yp.dot(c2[1]))\n",
      "Progress:  66%|██████▌   | 330/500 [2:07:57<1:10:18, 24.82s/it]"
     ]
    },
    {
     "name": "stdout",
     "output_type": "stream",
     "text": [
      "Time to: Calculate Ground State - 1.6s, Get Pauli Ops - 7.02s, Calculate Pauli Expectation Values - 15.32s, Calculate Covariance - 2.86s\n",
      "f0,f1,f2 = [7.625319778674855e-11, 7.625319788879922e-11, 7.625319778381109e-11]\n",
      "d01,d02,d12 = [0.9792718075408665, 0.9792718075450993, 0.9792718075388362]\n"
     ]
    },
    {
     "name": "stderr",
     "output_type": "stream",
     "text": [
      "/cluster/home/mskrabulis/miniconda3/envs/quantech/lib/python3.9/site-packages/pyscf/symm/Dmatrix.py:156: RuntimeWarning: invalid value encountered in arccos\n",
      "  gamma = numpy.arccos(yp.dot(c2[1]))\n",
      "Progress:  66%|██████▌   | 331/500 [2:08:24<1:11:16, 25.30s/it]"
     ]
    },
    {
     "name": "stdout",
     "output_type": "stream",
     "text": [
      "Time to: Calculate Ground State - 1.6s, Get Pauli Ops - 10.56s, Calculate Pauli Expectation Values - 11.36s, Calculate Covariance - 2.9s\n",
      "f0,f1,f2 = [1.2811751643620065e-09, 1.2811751644508344e-09, 1.2811751644066915e-09]\n",
      "d01,d02,d12 = [0.9800614585566025, 0.9800614585616216, 0.9800614585543056]\n"
     ]
    },
    {
     "name": "stderr",
     "output_type": "stream",
     "text": [
      "Progress:  66%|██████▋   | 332/500 [2:08:51<1:12:35, 25.93s/it]"
     ]
    },
    {
     "name": "stdout",
     "output_type": "stream",
     "text": [
      "Time to: Calculate Ground State - 1.55s, Get Pauli Ops - 11.8s, Calculate Pauli Expectation Values - 11.48s, Calculate Covariance - 2.54s\n",
      "f0,f1,f2 = [5.816493301507513e-10, 5.816493302593323e-10, 5.816493301831218e-10]\n",
      "d01,d02,d12 = [0.981058919881509, 0.9810589198872804, 0.981058919878954]\n"
     ]
    },
    {
     "name": "stderr",
     "output_type": "stream",
     "text": [
      "/cluster/home/mskrabulis/miniconda3/envs/quantech/lib/python3.9/site-packages/pyscf/symm/Dmatrix.py:156: RuntimeWarning: invalid value encountered in arccos\n",
      "  gamma = numpy.arccos(yp.dot(c2[1]))\n",
      "Progress:  67%|██████▋   | 333/500 [2:09:17<1:12:01, 25.88s/it]"
     ]
    },
    {
     "name": "stdout",
     "output_type": "stream",
     "text": [
      "Time to: Calculate Ground State - 1.56s, Get Pauli Ops - 9.93s, Calculate Pauli Expectation Values - 11.21s, Calculate Covariance - 3.06s\n",
      "f0,f1,f2 = [3.68740090634328e-10, 3.6874009076101175e-10, 3.68740090642232e-10]\n",
      "d01,d02,d12 = [0.9821670506309397, 0.9821670506374239, 0.9821670506281431]\n"
     ]
    },
    {
     "name": "stderr",
     "output_type": "stream",
     "text": [
      "Progress:  67%|██████▋   | 334/500 [2:09:41<1:10:24, 25.45s/it]"
     ]
    },
    {
     "name": "stdout",
     "output_type": "stream",
     "text": [
      "Time to: Calculate Ground State - 1.57s, Get Pauli Ops - 8.93s, Calculate Pauli Expectation Values - 11.21s, Calculate Covariance - 2.73s\n",
      "f0,f1,f2 = [8.985692113794453e-10, 8.985692111150859e-10, 8.985692113068991e-10]\n",
      "d01,d02,d12 = [0.9828553997423408, 0.98285539974946, 0.9828553997393283]\n"
     ]
    },
    {
     "name": "stderr",
     "output_type": "stream",
     "text": [
      "Progress:  67%|██████▋   | 335/500 [2:10:05<1:08:50, 25.03s/it]"
     ]
    },
    {
     "name": "stdout",
     "output_type": "stream",
     "text": [
      "Time to: Calculate Ground State - 1.57s, Get Pauli Ops - 9.14s, Calculate Pauli Expectation Values - 11.18s, Calculate Covariance - 2.17s\n",
      "f0,f1,f2 = [2.1541336156467494e-11, 2.154133606284024e-11, 2.154133616331786e-11]\n",
      "d01,d02,d12 = [0.9835056180164043, 0.983505618024107, 0.983505618013192]\n"
     ]
    },
    {
     "name": "stderr",
     "output_type": "stream",
     "text": [
      "Progress:  67%|██████▋   | 336/500 [2:10:29<1:07:07, 24.56s/it]"
     ]
    },
    {
     "name": "stdout",
     "output_type": "stream",
     "text": [
      "Time to: Calculate Ground State - 1.47s, Get Pauli Ops - 6.75s, Calculate Pauli Expectation Values - 12.94s, Calculate Covariance - 2.27s\n",
      "f0,f1,f2 = [8.249299076523612e-10, 8.249299078561029e-10, 8.249299076959942e-10]\n",
      "d01,d02,d12 = [0.9844704924657285, 0.9844704924739687, 0.984470492462344]\n"
     ]
    },
    {
     "name": "stderr",
     "output_type": "stream",
     "text": [
      "Progress:  67%|██████▋   | 337/500 [2:10:56<1:08:45, 25.31s/it]"
     ]
    },
    {
     "name": "stdout",
     "output_type": "stream",
     "text": [
      "Time to: Calculate Ground State - 1.52s, Get Pauli Ops - 7.19s, Calculate Pauli Expectation Values - 15.83s, Calculate Covariance - 2.53s\n",
      "f0,f1,f2 = [8.080075440279273e-10, 8.080075438731941e-10, 8.080075440155637e-10]\n",
      "d01,d02,d12 = [0.985059235014702, 0.9850592350234254, 0.985059235011164]\n"
     ]
    },
    {
     "name": "stderr",
     "output_type": "stream",
     "text": [
      "Progress:  68%|██████▊   | 338/500 [2:11:21<1:08:32, 25.39s/it]"
     ]
    },
    {
     "name": "stdout",
     "output_type": "stream",
     "text": [
      "Time to: Calculate Ground State - 1.58s, Get Pauli Ops - 10.91s, Calculate Pauli Expectation Values - 10.92s, Calculate Covariance - 2.14s\n",
      "f0,f1,f2 = [9.83783850175632e-10, 9.837838499752494e-10, 9.837838501533776e-10]\n",
      "d01,d02,d12 = [0.9852148747235747, 0.9852148747326975, 0.9852148747198992]\n"
     ]
    },
    {
     "name": "stderr",
     "output_type": "stream",
     "text": [
      "Progress:  68%|██████▊   | 339/500 [2:11:44<1:05:53, 24.56s/it]"
     ]
    },
    {
     "name": "stdout",
     "output_type": "stream",
     "text": [
      "Time to: Calculate Ground State - 1.6s, Get Pauli Ops - 6.21s, Calculate Pauli Expectation Values - 11.77s, Calculate Covariance - 3.03s\n",
      "f0,f1,f2 = [9.612073215189111e-10, 9.612073217757966e-10, 9.612073215631502e-10]\n",
      "d01,d02,d12 = [0.9857626828247195, 0.985762682834165, 0.9857626828209388]\n"
     ]
    },
    {
     "name": "stderr",
     "output_type": "stream",
     "text": [
      "/cluster/home/mskrabulis/miniconda3/envs/quantech/lib/python3.9/site-packages/pyscf/symm/Dmatrix.py:156: RuntimeWarning: invalid value encountered in arccos\n",
      "  gamma = numpy.arccos(yp.dot(c2[1]))\n",
      "Progress:  68%|██████▊   | 340/500 [2:12:05<1:02:25, 23.41s/it]"
     ]
    },
    {
     "name": "stdout",
     "output_type": "stream",
     "text": [
      "Time to: Calculate Ground State - 1.59s, Get Pauli Ops - 6.33s, Calculate Pauli Expectation Values - 11.04s, Calculate Covariance - 1.75s\n",
      "f0,f1,f2 = [4.1192220255355167e-10, 4.119222023578874e-10, 4.119222024844333e-10]\n",
      "d01,d02,d12 = [0.9861163684724573, 0.9861163684821684, 0.9861163684685996]\n"
     ]
    },
    {
     "name": "stderr",
     "output_type": "stream",
     "text": [
      "Progress:  68%|██████▊   | 341/500 [2:12:27<1:01:14, 23.11s/it]"
     ]
    },
    {
     "name": "stdout",
     "output_type": "stream",
     "text": [
      "Time to: Calculate Ground State - 1.5s, Get Pauli Ops - 7.08s, Calculate Pauli Expectation Values - 10.82s, Calculate Covariance - 3.01s\n",
      "f0,f1,f2 = [6.455474865250114e-10, 6.455474862842917e-10, 6.455474864922316e-10]\n",
      "d01,d02,d12 = [0.9861872417708177, 0.9861872417807174, 0.9861872417669079]\n"
     ]
    },
    {
     "name": "stderr",
     "output_type": "stream",
     "text": [
      "Progress:  68%|██████▊   | 342/500 [2:12:51<1:01:22, 23.31s/it]"
     ]
    },
    {
     "name": "stdout",
     "output_type": "stream",
     "text": [
      "Time to: Calculate Ground State - 1.57s, Get Pauli Ops - 7.95s, Calculate Pauli Expectation Values - 11.5s, Calculate Covariance - 2.74s\n",
      "f0,f1,f2 = [8.691409892258799e-10, 8.691409894270317e-10, 8.691409893225345e-10]\n",
      "d01,d02,d12 = [0.9866156834923963, 0.9866156835024358, 0.9866156834884713]\n"
     ]
    },
    {
     "name": "stderr",
     "output_type": "stream",
     "text": [
      "Progress:  69%|██████▊   | 343/500 [2:13:17<1:03:09, 24.14s/it]"
     ]
    },
    {
     "name": "stdout",
     "output_type": "stream",
     "text": [
      "Time to: Calculate Ground State - 1.59s, Get Pauli Ops - 9.93s, Calculate Pauli Expectation Values - 11.65s, Calculate Covariance - 2.89s\n",
      "f0,f1,f2 = [2.7274776404311125e-10, 2.727477638334633e-10, 2.727477639493409e-10]\n",
      "d01,d02,d12 = [0.9869128035192059, 0.9869128035293339, 0.9869128035153055]\n"
     ]
    },
    {
     "name": "stderr",
     "output_type": "stream",
     "text": [
      "/cluster/home/mskrabulis/miniconda3/envs/quantech/lib/python3.9/site-packages/pyscf/symm/Dmatrix.py:156: RuntimeWarning: invalid value encountered in arccos\n",
      "  gamma = numpy.arccos(yp.dot(c2[1]))\n",
      "Progress:  69%|██████▉   | 344/500 [2:13:43<1:04:00, 24.62s/it]"
     ]
    },
    {
     "name": "stdout",
     "output_type": "stream",
     "text": [
      "Time to: Calculate Ground State - 1.58s, Get Pauli Ops - 10.17s, Calculate Pauli Expectation Values - 11.22s, Calculate Covariance - 2.77s\n",
      "f0,f1,f2 = [7.674359289165423e-11, 7.674359312693221e-11, 7.674359292973307e-11]\n",
      "d01,d02,d12 = [0.9872291617425477, 0.9872291617526902, 0.9872291617386822]\n"
     ]
    },
    {
     "name": "stderr",
     "output_type": "stream",
     "text": [
      "Progress:  69%|██████▉   | 345/500 [2:14:06<1:02:45, 24.30s/it]"
     ]
    },
    {
     "name": "stdout",
     "output_type": "stream",
     "text": [
      "Time to: Calculate Ground State - 0.97s, Get Pauli Ops - 9.08s, Calculate Pauli Expectation Values - 11.34s, Calculate Covariance - 2.15s\n",
      "f0,f1,f2 = [1.7105322504722572e-09, 1.710532250208766e-09, 1.7105322504403502e-09]\n",
      "d01,d02,d12 = [0.9868224687592124, 0.9868224687692692, 0.9868224687554088]\n"
     ]
    },
    {
     "name": "stderr",
     "output_type": "stream",
     "text": [
      "Progress:  69%|██████▉   | 346/500 [2:14:30<1:02:10, 24.23s/it]"
     ]
    },
    {
     "name": "stdout",
     "output_type": "stream",
     "text": [
      "Time to: Calculate Ground State - 1.51s, Get Pauli Ops - 5.94s, Calculate Pauli Expectation Values - 14.38s, Calculate Covariance - 2.21s\n",
      "f0,f1,f2 = [1.1213361787518596e-09, 1.12133617901612e-09, 1.1213361788094209e-09]\n",
      "d01,d02,d12 = [0.9868982226112564, 0.986898222621149, 0.9868982226075407]\n"
     ]
    },
    {
     "name": "stderr",
     "output_type": "stream",
     "text": [
      "Progress:  69%|██████▉   | 347/500 [2:14:50<58:40, 23.01s/it]  "
     ]
    },
    {
     "name": "stdout",
     "output_type": "stream",
     "text": [
      "Time to: Calculate Ground State - 0.94s, Get Pauli Ops - 6.23s, Calculate Pauli Expectation Values - 10.72s, Calculate Covariance - 2.28s\n",
      "f0,f1,f2 = [7.927779615386467e-10, 7.927779612767085e-10, 7.927779615118208e-10]\n",
      "d01,d02,d12 = [0.9866418701759678, 0.9866418701856006, 0.9866418701723603]\n"
     ]
    },
    {
     "name": "stderr",
     "output_type": "stream",
     "text": [
      "/cluster/home/mskrabulis/miniconda3/envs/quantech/lib/python3.9/site-packages/pyscf/symm/Dmatrix.py:156: RuntimeWarning: invalid value encountered in arccos\n",
      "  gamma = numpy.arccos(yp.dot(c2[1]))\n",
      "Progress:  70%|██████▉   | 348/500 [2:15:13<57:39, 22.76s/it]"
     ]
    },
    {
     "name": "stdout",
     "output_type": "stream",
     "text": [
      "Time to: Calculate Ground State - 1.53s, Get Pauli Ops - 6.61s, Calculate Pauli Expectation Values - 11.35s, Calculate Covariance - 2.68s\n",
      "f0,f1,f2 = [1.3742477103174006e-09, 1.3742477100705103e-09, 1.3742477102222907e-09]\n",
      "d01,d02,d12 = [0.9858262650671454, 0.9858262650764461, 0.9858262650636952]\n"
     ]
    },
    {
     "name": "stderr",
     "output_type": "stream",
     "text": [
      "Progress:  70%|██████▉   | 349/500 [2:15:37<58:39, 23.31s/it]"
     ]
    },
    {
     "name": "stdout",
     "output_type": "stream",
     "text": [
      "Time to: Calculate Ground State - 1.51s, Get Pauli Ops - 7.02s, Calculate Pauli Expectation Values - 13.04s, Calculate Covariance - 3.0s\n",
      "f0,f1,f2 = [1.1116000702666525e-09, 1.1116000700351517e-09, 1.1116000701751793e-09]\n",
      "d01,d02,d12 = [0.9845840868456424, 0.9845840868545265, 0.9845840868423925]\n"
     ]
    },
    {
     "name": "stderr",
     "output_type": "stream",
     "text": [
      "/cluster/home/mskrabulis/miniconda3/envs/quantech/lib/python3.9/site-packages/pyscf/symm/Dmatrix.py:156: RuntimeWarning: invalid value encountered in arccos\n",
      "  gamma = numpy.arccos(yp.dot(c2[1]))\n",
      "Progress:  70%|███████   | 350/500 [2:15:59<57:00, 22.80s/it]"
     ]
    },
    {
     "name": "stdout",
     "output_type": "stream",
     "text": [
      "Time to: Calculate Ground State - 1.51s, Get Pauli Ops - 6.72s, Calculate Pauli Expectation Values - 10.71s, Calculate Covariance - 2.66s\n",
      "f0,f1,f2 = [7.332905774994453e-11, 7.33290579324212e-11, 7.33290578009763e-11]\n",
      "d01,d02,d12 = [0.9834250100859012, 0.9834250100943264, 0.9834250100828735]\n"
     ]
    },
    {
     "name": "stderr",
     "output_type": "stream",
     "text": [
      "/cluster/home/mskrabulis/miniconda3/envs/quantech/lib/python3.9/site-packages/pyscf/symm/Dmatrix.py:156: RuntimeWarning: invalid value encountered in arccos\n",
      "  gamma = numpy.arccos(yp.dot(c2[1]))\n",
      "Progress:  70%|███████   | 351/500 [2:16:25<59:02, 23.78s/it]"
     ]
    },
    {
     "name": "stdout",
     "output_type": "stream",
     "text": [
      "Time to: Calculate Ground State - 1.64s, Get Pauli Ops - 10.46s, Calculate Pauli Expectation Values - 10.85s, Calculate Covariance - 3.09s\n",
      "f0,f1,f2 = [4.226980330678156e-10, 4.226980332490442e-10, 4.2269803310257985e-10]\n",
      "d01,d02,d12 = [0.9824904524446643, 0.9824904524525658, 0.9824904524418817]\n"
     ]
    },
    {
     "name": "stderr",
     "output_type": "stream",
     "text": [
      "Progress:  70%|███████   | 352/500 [2:16:48<58:28, 23.70s/it]"
     ]
    },
    {
     "name": "stdout",
     "output_type": "stream",
     "text": [
      "Time to: Calculate Ground State - 1.55s, Get Pauli Ops - 8.79s, Calculate Pauli Expectation Values - 10.94s, Calculate Covariance - 2.25s\n",
      "f0,f1,f2 = [1.641028160471662e-10, 1.6410281625978864e-10, 1.6410281615669107e-10]\n",
      "d01,d02,d12 = [0.981663611688685, 0.9816636116960145, 0.9816636116861831]\n"
     ]
    },
    {
     "name": "stderr",
     "output_type": "stream",
     "text": [
      "Progress:  71%|███████   | 353/500 [2:17:14<59:07, 24.13s/it]"
     ]
    },
    {
     "name": "stdout",
     "output_type": "stream",
     "text": [
      "Time to: Calculate Ground State - 1.51s, Get Pauli Ops - 10.02s, Calculate Pauli Expectation Values - 11.37s, Calculate Covariance - 2.2s\n",
      "f0,f1,f2 = [6.760056136801048e-10, 6.760056137912047e-10, 6.760056136612884e-10]\n",
      "d01,d02,d12 = [0.9811522896271863, 0.9811522896339049, 0.981152289624979]\n"
     ]
    },
    {
     "name": "stderr",
     "output_type": "stream",
     "text": [
      "Progress:  71%|███████   | 354/500 [2:17:37<58:19, 23.97s/it]"
     ]
    },
    {
     "name": "stdout",
     "output_type": "stream",
     "text": [
      "Time to: Calculate Ground State - 1.61s, Get Pauli Ops - 8.85s, Calculate Pauli Expectation Values - 10.56s, Calculate Covariance - 2.56s\n",
      "f0,f1,f2 = [2.6286643675801547e-10, 2.628664366527245e-10, 2.628664367141838e-10]\n",
      "d01,d02,d12 = [0.9805536016288774, 0.9805536016349512, 0.980553601626985]\n"
     ]
    },
    {
     "name": "stderr",
     "output_type": "stream",
     "text": [
      "Progress:  71%|███████   | 355/500 [2:18:00<57:00, 23.59s/it]"
     ]
    },
    {
     "name": "stdout",
     "output_type": "stream",
     "text": [
      "Time to: Calculate Ground State - 1.42s, Get Pauli Ops - 6.77s, Calculate Pauli Expectation Values - 11.43s, Calculate Covariance - 3.07s\n",
      "f0,f1,f2 = [1.344207910756456e-09, 1.3442079108851968e-09, 1.344207910825581e-09]\n",
      "d01,d02,d12 = [0.9805379687454469, 0.9805379687508636, 0.9805379687438879]\n"
     ]
    },
    {
     "name": "stderr",
     "output_type": "stream",
     "text": [
      "Progress:  71%|███████   | 356/500 [2:18:24<57:02, 23.77s/it]"
     ]
    },
    {
     "name": "stdout",
     "output_type": "stream",
     "text": [
      "Time to: Calculate Ground State - 1.55s, Get Pauli Ops - 7.09s, Calculate Pauli Expectation Values - 13.19s, Calculate Covariance - 2.34s\n",
      "f0,f1,f2 = [1.8035361597488268e-10, 1.803536158792264e-10, 1.8035361593249818e-10]\n",
      "d01,d02,d12 = [0.9804481769932867, 0.9804481769980178, 0.9804481769920699]\n"
     ]
    },
    {
     "name": "stderr",
     "output_type": "stream",
     "text": [
      "Progress:  71%|███████▏  | 357/500 [2:18:50<58:08, 24.40s/it]"
     ]
    },
    {
     "name": "stdout",
     "output_type": "stream",
     "text": [
      "Time to: Calculate Ground State - 1.58s, Get Pauli Ops - 10.03s, Calculate Pauli Expectation Values - 11.15s, Calculate Covariance - 3.09s\n",
      "f0,f1,f2 = [1.3906329622848409e-10, 1.3906329627990507e-10, 1.3906329620032e-10]\n",
      "d01,d02,d12 = [0.9804198859640672, 0.9804198859680904, 0.9804198859631968]\n"
     ]
    },
    {
     "name": "stderr",
     "output_type": "stream",
     "text": [
      "Progress:  72%|███████▏  | 358/500 [2:19:14<57:50, 24.44s/it]"
     ]
    },
    {
     "name": "stdout",
     "output_type": "stream",
     "text": [
      "Time to: Calculate Ground State - 1.56s, Get Pauli Ops - 7.08s, Calculate Pauli Expectation Values - 13.17s, Calculate Covariance - 2.71s\n",
      "f0,f1,f2 = [5.716933014801605e-10, 5.716933015509406e-10, 5.716933015005868e-10]\n",
      "d01,d02,d12 = [0.9806299690146172, 0.9806299690179026, 0.9806299690140934]\n"
     ]
    },
    {
     "name": "stderr",
     "output_type": "stream",
     "text": [
      "Progress:  72%|███████▏  | 359/500 [2:19:36<55:09, 23.47s/it]"
     ]
    },
    {
     "name": "stdout",
     "output_type": "stream",
     "text": [
      "Time to: Calculate Ground State - 0.92s, Get Pauli Ops - 6.87s, Calculate Pauli Expectation Values - 11.12s, Calculate Covariance - 2.29s\n",
      "f0,f1,f2 = [7.490255763675315e-10, 7.490255763964148e-10, 7.490255763452816e-10]\n",
      "d01,d02,d12 = [0.9811418839105637, 0.9811418839130862, 0.9811418839103768]\n"
     ]
    },
    {
     "name": "stderr",
     "output_type": "stream",
     "text": [
      "Progress:  72%|███████▏  | 360/500 [2:19:57<53:28, 22.92s/it]"
     ]
    },
    {
     "name": "stdout",
     "output_type": "stream",
     "text": [
      "Time to: Calculate Ground State - 1.54s, Get Pauli Ops - 6.24s, Calculate Pauli Expectation Values - 11.38s, Calculate Covariance - 2.46s\n",
      "f0,f1,f2 = [2.9182130309732123e-10, 2.918213030064545e-10, 2.918213030798654e-10]\n",
      "d01,d02,d12 = [0.9815110204631803, 0.981511020464917, 0.9815110204633386]\n"
     ]
    },
    {
     "name": "stderr",
     "output_type": "stream",
     "text": [
      "Progress:  72%|███████▏  | 361/500 [2:20:21<53:22, 23.04s/it]"
     ]
    },
    {
     "name": "stdout",
     "output_type": "stream",
     "text": [
      "Time to: Calculate Ground State - 0.93s, Get Pauli Ops - 7.01s, Calculate Pauli Expectation Values - 12.71s, Calculate Covariance - 2.67s\n",
      "f0,f1,f2 = [1.7177821330670171e-10, 1.7177821337696737e-10, 1.7177821337531893e-10]\n",
      "d01,d02,d12 = [0.9819357648186503, 0.9819357648196011, 0.9819357648191609]\n"
     ]
    },
    {
     "name": "stderr",
     "output_type": "stream",
     "text": [
      "Progress:  72%|███████▏  | 362/500 [2:20:43<52:42, 22.92s/it]"
     ]
    },
    {
     "name": "stdout",
     "output_type": "stream",
     "text": [
      "Time to: Calculate Ground State - 1.55s, Get Pauli Ops - 7.02s, Calculate Pauli Expectation Values - 10.98s, Calculate Covariance - 3.08s\n",
      "f0,f1,f2 = [9.311550408716654e-10, 9.311550408644264e-10, 9.311550408545314e-10]\n",
      "d01,d02,d12 = [0.9819561931017724, 0.9819561931019315, 0.9819561931026275]\n"
     ]
    },
    {
     "name": "stderr",
     "output_type": "stream",
     "text": [
      "/cluster/home/mskrabulis/miniconda3/envs/quantech/lib/python3.9/site-packages/pyscf/symm/Dmatrix.py:156: RuntimeWarning: invalid value encountered in arccos\n",
      "  gamma = numpy.arccos(yp.dot(c2[1]))\n",
      "Progress:  73%|███████▎  | 363/500 [2:21:05<51:32, 22.57s/it]"
     ]
    },
    {
     "name": "stdout",
     "output_type": "stream",
     "text": [
      "Time to: Calculate Ground State - 1.56s, Get Pauli Ops - 6.94s, Calculate Pauli Expectation Values - 10.68s, Calculate Covariance - 2.57s\n",
      "f0,f1,f2 = [1.4358306112971838e-09, 1.4358306112807062e-09, 1.435830611251323e-09]\n",
      "d01,d02,d12 = [0.9825714271884294, 0.9825714271878002, 0.9825714271896212]\n"
     ]
    },
    {
     "name": "stderr",
     "output_type": "stream",
     "text": [
      "Progress:  73%|███████▎  | 364/500 [2:21:28<51:31, 22.73s/it]"
     ]
    },
    {
     "name": "stdout",
     "output_type": "stream",
     "text": [
      "Time to: Calculate Ground State - 1.54s, Get Pauli Ops - 7.09s, Calculate Pauli Expectation Values - 11.44s, Calculate Covariance - 3.03s\n",
      "f0,f1,f2 = [4.3331530605006415e-10, 4.333153060564693e-10, 4.3331530604967357e-10]\n",
      "d01,d02,d12 = [0.9833403340523519, 0.9833403340509305, 0.983340334053888]\n"
     ]
    },
    {
     "name": "stderr",
     "output_type": "stream",
     "text": [
      "Progress:  73%|███████▎  | 365/500 [2:21:51<50:58, 22.65s/it]"
     ]
    },
    {
     "name": "stdout",
     "output_type": "stream",
     "text": [
      "Time to: Calculate Ground State - 1.51s, Get Pauli Ops - 7.03s, Calculate Pauli Expectation Values - 10.68s, Calculate Covariance - 3.23s\n",
      "f0,f1,f2 = [3.34355465076225e-10, 3.3435546508414395e-10, 3.343554651060068e-10]\n",
      "d01,d02,d12 = [0.984215342272986, 0.9842153422707781, 0.9842153422748676]\n"
     ]
    },
    {
     "name": "stderr",
     "output_type": "stream",
     "text": [
      "Progress:  73%|███████▎  | 366/500 [2:22:13<50:22, 22.55s/it]"
     ]
    },
    {
     "name": "stdout",
     "output_type": "stream",
     "text": [
      "Time to: Calculate Ground State - 1.67s, Get Pauli Ops - 6.27s, Calculate Pauli Expectation Values - 11.67s, Calculate Covariance - 2.7s\n",
      "f0,f1,f2 = [7.239757232172886e-10, 7.23975723310227e-10, 7.239757232693624e-10]\n",
      "d01,d02,d12 = [0.9847528911884287, 0.9847528911854483, 0.984752891190632]\n"
     ]
    },
    {
     "name": "stderr",
     "output_type": "stream",
     "text": [
      "Progress:  73%|███████▎  | 367/500 [2:22:34<49:02, 22.13s/it]"
     ]
    },
    {
     "name": "stdout",
     "output_type": "stream",
     "text": [
      "Time to: Calculate Ground State - 1.59s, Get Pauli Ops - 6.27s, Calculate Pauli Expectation Values - 10.86s, Calculate Covariance - 2.4s\n",
      "f0,f1,f2 = [7.010455526379941e-10, 7.01045552558796e-10, 7.01045552638518e-10]\n",
      "d01,d02,d12 = [0.9855584806027627, 0.9855584805990332, 0.9855584806052864]\n"
     ]
    },
    {
     "name": "stderr",
     "output_type": "stream",
     "text": [
      "Progress:  74%|███████▎  | 368/500 [2:22:57<49:09, 22.34s/it]"
     ]
    },
    {
     "name": "stdout",
     "output_type": "stream",
     "text": [
      "Time to: Calculate Ground State - 1.53s, Get Pauli Ops - 6.93s, Calculate Pauli Expectation Values - 11.24s, Calculate Covariance - 3.15s\n",
      "f0,f1,f2 = [2.2915937422937607e-09, 2.291593742154203e-09, 2.2915937422731925e-09]\n",
      "d01,d02,d12 = [0.98728060269347, 0.9872806026890288, 0.9872806026963136]\n"
     ]
    },
    {
     "name": "stderr",
     "output_type": "stream",
     "text": [
      "/cluster/home/mskrabulis/miniconda3/envs/quantech/lib/python3.9/site-packages/pyscf/symm/Dmatrix.py:156: RuntimeWarning: invalid value encountered in arccos\n",
      "  gamma = numpy.arccos(yp.dot(c2[1]))\n",
      "Progress:  74%|███████▍  | 369/500 [2:23:18<48:05, 22.03s/it]"
     ]
    },
    {
     "name": "stdout",
     "output_type": "stream",
     "text": [
      "Time to: Calculate Ground State - 1.51s, Get Pauli Ops - 6.17s, Calculate Pauli Expectation Values - 11.07s, Calculate Covariance - 2.53s\n",
      "f0,f1,f2 = [1.015919796145527e-09, 1.0159197960204782e-09, 1.0159197960861431e-09]\n",
      "d01,d02,d12 = [0.989351163092951, 0.9893511630878264, 0.9893511630961083]\n"
     ]
    },
    {
     "name": "stderr",
     "output_type": "stream",
     "text": [
      "/cluster/home/mskrabulis/miniconda3/envs/quantech/lib/python3.9/site-packages/pyscf/symm/Dmatrix.py:156: RuntimeWarning: invalid value encountered in arccos\n",
      "  gamma = numpy.arccos(yp.dot(c2[1]))\n",
      "Progress:  74%|███████▍  | 370/500 [2:23:40<47:43, 22.03s/it]"
     ]
    },
    {
     "name": "stdout",
     "output_type": "stream",
     "text": [
      "Time to: Calculate Ground State - 0.91s, Get Pauli Ops - 6.97s, Calculate Pauli Expectation Values - 11.1s, Calculate Covariance - 3.03s\n",
      "f0,f1,f2 = [1.5485010123127392e-09, 1.5485010124411685e-09, 1.5485010123204303e-09]\n",
      "d01,d02,d12 = [0.9906915077832275, 0.990691507777478, 0.9906915077866841]\n"
     ]
    },
    {
     "name": "stderr",
     "output_type": "stream",
     "text": [
      "/cluster/home/mskrabulis/miniconda3/envs/quantech/lib/python3.9/site-packages/pyscf/symm/Dmatrix.py:156: RuntimeWarning: invalid value encountered in arccos\n",
      "  gamma = numpy.arccos(yp.dot(c2[1]))\n",
      "Progress:  74%|███████▍  | 371/500 [2:24:01<46:52, 21.80s/it]"
     ]
    },
    {
     "name": "stdout",
     "output_type": "stream",
     "text": [
      "Time to: Calculate Ground State - 1.3s, Get Pauli Ops - 6.74s, Calculate Pauli Expectation Values - 10.54s, Calculate Covariance - 2.7s\n",
      "f0,f1,f2 = [3.735409705034189e-10, 3.735409706563692e-10, 3.735409705758564e-10]\n",
      "d01,d02,d12 = [0.9918200492147616, 0.9918200492084069, 0.9918200492184915]\n"
     ]
    },
    {
     "name": "stderr",
     "output_type": "stream",
     "text": [
      "/cluster/home/mskrabulis/miniconda3/envs/quantech/lib/python3.9/site-packages/pyscf/symm/Dmatrix.py:156: RuntimeWarning: invalid value encountered in arccos\n",
      "  gamma = numpy.arccos(yp.dot(c2[1]))\n",
      "/cluster/home/mskrabulis/miniconda3/envs/quantech/lib/python3.9/site-packages/pyscf/symm/Dmatrix.py:156: RuntimeWarning: invalid value encountered in arccos\n",
      "  gamma = numpy.arccos(yp.dot(c2[1]))\n",
      "Progress:  74%|███████▍  | 372/500 [2:24:28<49:37, 23.26s/it]"
     ]
    },
    {
     "name": "stdout",
     "output_type": "stream",
     "text": [
      "Time to: Calculate Ground State - 1.52s, Get Pauli Ops - 10.42s, Calculate Pauli Expectation Values - 11.95s, Calculate Covariance - 2.78s\n",
      "f0,f1,f2 = [5.871462293912473e-10, 5.871462292340589e-10, 5.871462293373002e-10]\n",
      "d01,d02,d12 = [0.9931443224436471, 0.9931443224367221, 0.9931443224476273]\n"
     ]
    },
    {
     "name": "stderr",
     "output_type": "stream",
     "text": [
      "Progress:  75%|███████▍  | 373/500 [2:24:55<51:24, 24.29s/it]"
     ]
    },
    {
     "name": "stdout",
     "output_type": "stream",
     "text": [
      "Time to: Calculate Ground State - 1.52s, Get Pauli Ops - 7.01s, Calculate Pauli Expectation Values - 15.96s, Calculate Covariance - 2.19s\n",
      "f0,f1,f2 = [2.0620672995072213e-09, 2.062067299747174e-09, 2.062067299622189e-09]\n",
      "d01,d02,d12 = [0.9935569695228865, 0.9935569695154393, 0.9935569695270661]\n"
     ]
    },
    {
     "name": "stderr",
     "output_type": "stream",
     "text": [
      "Progress:  75%|███████▍  | 374/500 [2:25:17<49:25, 23.54s/it]"
     ]
    },
    {
     "name": "stdout",
     "output_type": "stream",
     "text": [
      "Time to: Calculate Ground State - 1.47s, Get Pauli Ops - 6.26s, Calculate Pauli Expectation Values - 11.01s, Calculate Covariance - 3.02s\n",
      "f0,f1,f2 = [1.4519324250147873e-11, 1.4519324057942744e-11, 1.4519324203854243e-11]\n",
      "d01,d02,d12 = [0.9939581431298165, 0.9939581431218947, 0.9939581431341741]\n"
     ]
    },
    {
     "name": "stderr",
     "output_type": "stream",
     "text": [
      "/cluster/home/mskrabulis/miniconda3/envs/quantech/lib/python3.9/site-packages/pyscf/symm/Dmatrix.py:156: RuntimeWarning: invalid value encountered in arccos\n",
      "  gamma = numpy.arccos(yp.dot(c2[1]))\n",
      "/cluster/home/mskrabulis/miniconda3/envs/quantech/lib/python3.9/site-packages/pyscf/symm/Dmatrix.py:156: RuntimeWarning: invalid value encountered in arccos\n",
      "  gamma = numpy.arccos(yp.dot(c2[1]))\n",
      "Progress:  75%|███████▌  | 375/500 [2:25:39<48:36, 23.33s/it]"
     ]
    },
    {
     "name": "stdout",
     "output_type": "stream",
     "text": [
      "Time to: Calculate Ground State - 1.58s, Get Pauli Ops - 6.87s, Calculate Pauli Expectation Values - 11.27s, Calculate Covariance - 3.12s\n",
      "f0,f1,f2 = [4.4854309543054753e-10, 4.485430952414231e-10, 4.4854309534321395e-10]\n",
      "d01,d02,d12 = [0.9945283899654966, 0.9945283899571501, 0.9945283899699997]\n"
     ]
    },
    {
     "name": "stderr",
     "output_type": "stream",
     "text": [
      "Progress:  75%|███████▌  | 376/500 [2:26:02<47:40, 23.06s/it]"
     ]
    },
    {
     "name": "stdout",
     "output_type": "stream",
     "text": [
      "Time to: Calculate Ground State - 1.55s, Get Pauli Ops - 6.94s, Calculate Pauli Expectation Values - 11.51s, Calculate Covariance - 2.43s\n",
      "f0,f1,f2 = [2.0061340141165223e-10, 2.0061340124941368e-10, 2.0061340137253484e-10]\n",
      "d01,d02,d12 = [0.9951576844253056, 0.9951576844165765, 0.995157684429934]\n"
     ]
    },
    {
     "name": "stderr",
     "output_type": "stream",
     "text": [
      "Progress:  75%|███████▌  | 377/500 [2:26:25<47:18, 23.08s/it]"
     ]
    },
    {
     "name": "stdout",
     "output_type": "stream",
     "text": [
      "Time to: Calculate Ground State - 1.39s, Get Pauli Ops - 6.66s, Calculate Pauli Expectation Values - 11.97s, Calculate Covariance - 3.07s\n",
      "f0,f1,f2 = [7.605176782123163e-10, 7.605176783801399e-10, 7.605176782409711e-10]\n",
      "d01,d02,d12 = [0.9954447857011733, 0.9954447856921034, 0.9954447857058938]\n"
     ]
    },
    {
     "name": "stderr",
     "output_type": "stream",
     "text": [
      "Progress:  76%|███████▌  | 378/500 [2:26:50<47:50, 23.53s/it]"
     ]
    },
    {
     "name": "stdout",
     "output_type": "stream",
     "text": [
      "Time to: Calculate Ground State - 1.55s, Get Pauli Ops - 7.11s, Calculate Pauli Expectation Values - 13.29s, Calculate Covariance - 2.63s\n",
      "f0,f1,f2 = [1.5073732855142412e-09, 1.5073732856842804e-09, 1.5073732855358765e-09]\n",
      "d01,d02,d12 = [0.995094360887609, 0.9950943608782564, 0.9950943608923944]\n"
     ]
    },
    {
     "name": "stderr",
     "output_type": "stream",
     "text": [
      "/cluster/home/mskrabulis/miniconda3/envs/quantech/lib/python3.9/site-packages/pyscf/symm/Dmatrix.py:156: RuntimeWarning: invalid value encountered in arccos\n",
      "  gamma = numpy.arccos(yp.dot(c2[1]))\n",
      "Progress:  76%|███████▌  | 379/500 [2:27:17<49:39, 24.63s/it]"
     ]
    },
    {
     "name": "stdout",
     "output_type": "stream",
     "text": [
      "Time to: Calculate Ground State - 1.52s, Get Pauli Ops - 7.13s, Calculate Pauli Expectation Values - 15.56s, Calculate Covariance - 2.97s\n",
      "f0,f1,f2 = [4.73466359133073e-10, 4.734663588324105e-10, 4.734663590463383e-10]\n",
      "d01,d02,d12 = [0.9949552180100711, 0.9949552180004987, 0.9949552180148753]\n"
     ]
    },
    {
     "name": "stderr",
     "output_type": "stream",
     "text": [
      "Progress:  76%|███████▌  | 380/500 [2:27:43<50:22, 25.19s/it]"
     ]
    },
    {
     "name": "stdout",
     "output_type": "stream",
     "text": [
      "Time to: Calculate Ground State - 1.55s, Get Pauli Ops - 7.17s, Calculate Pauli Expectation Values - 15.26s, Calculate Covariance - 2.5s\n",
      "f0,f1,f2 = [9.289796475009572e-10, 9.289796476147963e-10, 9.289796475350627e-10]\n",
      "d01,d02,d12 = [0.9944365761921512, 0.9944365761824042, 0.9944365761969565]\n"
     ]
    },
    {
     "name": "stderr",
     "output_type": "stream",
     "text": [
      "Progress:  76%|███████▌  | 381/500 [2:28:06<48:42, 24.56s/it]"
     ]
    },
    {
     "name": "stdout",
     "output_type": "stream",
     "text": [
      "Time to: Calculate Ground State - 1.62s, Get Pauli Ops - 7.71s, Calculate Pauli Expectation Values - 11.36s, Calculate Covariance - 2.39s\n",
      "f0,f1,f2 = [1.1427947531869881e-09, 1.1427947529704819e-09, 1.1427947531298966e-09]\n",
      "d01,d02,d12 = [0.9944140282289398, 0.9944140282190606, 0.9944140282337177]\n"
     ]
    },
    {
     "name": "stderr",
     "output_type": "stream",
     "text": [
      "Progress:  76%|███████▋  | 382/500 [2:28:29<46:55, 23.86s/it]"
     ]
    },
    {
     "name": "stdout",
     "output_type": "stream",
     "text": [
      "Time to: Calculate Ground State - 1.58s, Get Pauli Ops - 6.09s, Calculate Pauli Expectation Values - 11.45s, Calculate Covariance - 3.12s\n",
      "f0,f1,f2 = [3.299021572241005e-10, 3.299021569382271e-10, 3.2990215711446266e-10]\n",
      "d01,d02,d12 = [0.9945293003585969, 0.9945293003486472, 0.9945293003633046]\n"
     ]
    },
    {
     "name": "stderr",
     "output_type": "stream",
     "text": [
      "Progress:  77%|███████▋  | 383/500 [2:28:52<46:01, 23.60s/it]"
     ]
    },
    {
     "name": "stdout",
     "output_type": "stream",
     "text": [
      "Time to: Calculate Ground State - 1.49s, Get Pauli Ops - 6.55s, Calculate Pauli Expectation Values - 12.79s, Calculate Covariance - 2.17s\n",
      "f0,f1,f2 = [1.1352138614376288e-09, 1.135213861611863e-09, 1.1352138614972475e-09]\n",
      "d01,d02,d12 = [0.9941687271479085, 0.9941687271379587, 0.9941687271525276]\n"
     ]
    },
    {
     "name": "stderr",
     "output_type": "stream",
     "text": [
      "Progress:  77%|███████▋  | 384/500 [2:29:12<43:37, 22.57s/it]"
     ]
    },
    {
     "name": "stdout",
     "output_type": "stream",
     "text": [
      "Time to: Calculate Ground State - 0.9s, Get Pauli Ops - 5.38s, Calculate Pauli Expectation Values - 11.25s, Calculate Covariance - 2.6s\n",
      "f0,f1,f2 = [1.3570842400814298e-09, 1.3570842403172847e-09, 1.3570842401706247e-09]\n",
      "d01,d02,d12 = [0.9932604395267468, 0.9932604395168555, 0.9932604395312374]\n"
     ]
    },
    {
     "name": "stderr",
     "output_type": "stream",
     "text": [
      "Progress:  77%|███████▋  | 385/500 [2:29:34<42:50, 22.36s/it]"
     ]
    },
    {
     "name": "stdout",
     "output_type": "stream",
     "text": [
      "Time to: Calculate Ground State - 1.52s, Get Pauli Ops - 6.67s, Calculate Pauli Expectation Values - 11.29s, Calculate Covariance - 2.38s\n",
      "f0,f1,f2 = [6.411512225309019e-11, 6.411512245601638e-11, 6.411512234490338e-11]\n",
      "d01,d02,d12 = [0.9923640661088833, 0.9923640660990939, 0.9923640661132046]\n"
     ]
    },
    {
     "name": "stderr",
     "output_type": "stream",
     "text": [
      "/cluster/home/mskrabulis/miniconda3/envs/quantech/lib/python3.9/site-packages/pyscf/symm/Dmatrix.py:156: RuntimeWarning: invalid value encountered in arccos\n",
      "  gamma = numpy.arccos(yp.dot(c2[1]))\n",
      "Progress:  77%|███████▋  | 386/500 [2:29:56<42:47, 22.52s/it]"
     ]
    },
    {
     "name": "stdout",
     "output_type": "stream",
     "text": [
      "Time to: Calculate Ground State - 1.54s, Get Pauli Ops - 6.32s, Calculate Pauli Expectation Values - 12.15s, Calculate Covariance - 2.88s\n",
      "f0,f1,f2 = [3.362246590101396e-10, 3.3622465877340756e-10, 3.3622465893968363e-10]\n",
      "d01,d02,d12 = [0.991645188033281, 0.9916451880236583, 0.9916451880373941]\n"
     ]
    },
    {
     "name": "stderr",
     "output_type": "stream",
     "text": [
      "/cluster/home/mskrabulis/miniconda3/envs/quantech/lib/python3.9/site-packages/pyscf/symm/Dmatrix.py:156: RuntimeWarning: invalid value encountered in arccos\n",
      "  gamma = numpy.arccos(yp.dot(c2[1]))\n",
      "/cluster/home/mskrabulis/miniconda3/envs/quantech/lib/python3.9/site-packages/pyscf/symm/Dmatrix.py:156: RuntimeWarning: invalid value encountered in arccos\n",
      "  gamma = numpy.arccos(yp.dot(c2[1]))\n",
      "Progress:  77%|███████▋  | 387/500 [2:30:22<44:20, 23.54s/it]"
     ]
    },
    {
     "name": "stdout",
     "output_type": "stream",
     "text": [
      "Time to: Calculate Ground State - 0.94s, Get Pauli Ops - 6.95s, Calculate Pauli Expectation Values - 15.13s, Calculate Covariance - 2.9s\n",
      "f0,f1,f2 = [7.014068036172332e-11, 7.014068059048439e-11, 7.0140680415023e-11]\n",
      "d01,d02,d12 = [0.9909276936282851, 0.9909276936188994, 0.9909276936321713]\n"
     ]
    },
    {
     "name": "stderr",
     "output_type": "stream",
     "text": [
      "/cluster/home/mskrabulis/miniconda3/envs/quantech/lib/python3.9/site-packages/pyscf/symm/Dmatrix.py:156: RuntimeWarning: invalid value encountered in arccos\n",
      "  gamma = numpy.arccos(yp.dot(c2[1]))\n",
      "Progress:  78%|███████▊  | 388/500 [2:30:44<42:58, 23.02s/it]"
     ]
    },
    {
     "name": "stdout",
     "output_type": "stream",
     "text": [
      "Time to: Calculate Ground State - 1.54s, Get Pauli Ops - 6.68s, Calculate Pauli Expectation Values - 11.01s, Calculate Covariance - 2.55s\n",
      "f0,f1,f2 = [6.639448648239691e-10, 6.639448650260712e-10, 6.639448648362538e-10]\n",
      "d01,d02,d12 = [0.9899651774513221, 0.989965177442244, 0.9899651774549602]\n"
     ]
    },
    {
     "name": "stderr",
     "output_type": "stream",
     "text": [
      "/cluster/home/mskrabulis/miniconda3/envs/quantech/lib/python3.9/site-packages/pyscf/symm/Dmatrix.py:156: RuntimeWarning: invalid value encountered in arccos\n",
      "  gamma = numpy.arccos(yp.dot(c2[1]))\n",
      "Progress:  78%|███████▊  | 389/500 [2:31:06<41:57, 22.68s/it]"
     ]
    },
    {
     "name": "stdout",
     "output_type": "stream",
     "text": [
      "Time to: Calculate Ground State - 1.58s, Get Pauli Ops - 7.05s, Calculate Pauli Expectation Values - 10.84s, Calculate Covariance - 2.41s\n",
      "f0,f1,f2 = [8.056824914631539e-10, 8.05682491688352e-10, 8.056824915341638e-10]\n",
      "d01,d02,d12 = [0.9887092282528186, 0.988709228244122, 0.9887092282561886]\n"
     ]
    },
    {
     "name": "stderr",
     "output_type": "stream",
     "text": [
      "/cluster/home/mskrabulis/miniconda3/envs/quantech/lib/python3.9/site-packages/pyscf/symm/Dmatrix.py:156: RuntimeWarning: invalid value encountered in arccos\n",
      "  gamma = numpy.arccos(yp.dot(c2[1]))\n",
      "Progress:  78%|███████▊  | 390/500 [2:31:28<40:53, 22.30s/it]"
     ]
    },
    {
     "name": "stdout",
     "output_type": "stream",
     "text": [
      "Time to: Calculate Ground State - 1.49s, Get Pauli Ops - 5.89s, Calculate Pauli Expectation Values - 10.94s, Calculate Covariance - 3.08s\n",
      "f0,f1,f2 = [1.0302529940335745e-09, 1.0302529938774134e-09, 1.0302529940181563e-09]\n",
      "d01,d02,d12 = [0.9879339507237623, 0.9879339507155033, 0.9879339507268635]\n"
     ]
    },
    {
     "name": "stderr",
     "output_type": "stream",
     "text": [
      "Progress:  78%|███████▊  | 391/500 [2:31:48<39:42, 21.86s/it]"
     ]
    },
    {
     "name": "stdout",
     "output_type": "stream",
     "text": [
      "Time to: Calculate Ground State - 1.52s, Get Pauli Ops - 6.82s, Calculate Pauli Expectation Values - 10.67s, Calculate Covariance - 1.81s\n",
      "f0,f1,f2 = [1.9070878378993803e-10, 1.9070878400148016e-10, 1.9070878387610435e-10]\n",
      "d01,d02,d12 = [0.9871124313964348, 0.9871124313886682, 0.9871124313992483]\n"
     ]
    },
    {
     "name": "stderr",
     "output_type": "stream",
     "text": [
      "/cluster/home/mskrabulis/miniconda3/envs/quantech/lib/python3.9/site-packages/pyscf/symm/Dmatrix.py:156: RuntimeWarning: invalid value encountered in arccos\n",
      "  gamma = numpy.arccos(yp.dot(c2[1]))\n",
      "Progress:  78%|███████▊  | 392/500 [2:32:09<38:53, 21.61s/it]"
     ]
    },
    {
     "name": "stdout",
     "output_type": "stream",
     "text": [
      "Time to: Calculate Ground State - 0.89s, Get Pauli Ops - 6.29s, Calculate Pauli Expectation Values - 11.45s, Calculate Covariance - 2.37s\n",
      "f0,f1,f2 = [1.2483424187093512e-09, 1.2483424189159028e-09, 1.2483424187813548e-09]\n",
      "d01,d02,d12 = [0.9858078593421411, 0.9858078593349227, 0.9858078593446443]\n"
     ]
    },
    {
     "name": "stderr",
     "output_type": "stream",
     "text": [
      "Progress:  79%|███████▊  | 393/500 [2:32:31<38:39, 21.68s/it]"
     ]
    },
    {
     "name": "stdout",
     "output_type": "stream",
     "text": [
      "Time to: Calculate Ground State - 1.5s, Get Pauli Ops - 7.16s, Calculate Pauli Expectation Values - 10.77s, Calculate Covariance - 2.4s\n",
      "f0,f1,f2 = [1.06368343923976e-10, 1.063683440367373e-10, 1.0636834390627548e-10]\n",
      "d01,d02,d12 = [0.9845144831352522, 0.9845144831286227, 0.9845144831374335]\n"
     ]
    },
    {
     "name": "stderr",
     "output_type": "stream",
     "text": [
      "Progress:  79%|███████▉  | 394/500 [2:32:56<40:03, 22.67s/it]"
     ]
    },
    {
     "name": "stdout",
     "output_type": "stream",
     "text": [
      "Time to: Calculate Ground State - 1.51s, Get Pauli Ops - 7.15s, Calculate Pauli Expectation Values - 13.68s, Calculate Covariance - 2.65s\n",
      "f0,f1,f2 = [9.63772382562802e-10, 9.637723823546334e-10, 9.637723824966541e-10]\n",
      "d01,d02,d12 = [0.983675791323335, 0.9836757913173507, 0.9836757913251815]\n"
     ]
    },
    {
     "name": "stderr",
     "output_type": "stream",
     "text": [
      "/cluster/home/mskrabulis/miniconda3/envs/quantech/lib/python3.9/site-packages/pyscf/symm/Dmatrix.py:156: RuntimeWarning: invalid value encountered in arccos\n",
      "  gamma = numpy.arccos(yp.dot(c2[1]))\n",
      "/cluster/home/mskrabulis/miniconda3/envs/quantech/lib/python3.9/site-packages/pyscf/symm/Dmatrix.py:156: RuntimeWarning: invalid value encountered in arccos\n",
      "  gamma = numpy.arccos(yp.dot(c2[1]))\n",
      "Progress:  79%|███████▉  | 395/500 [2:33:17<38:54, 22.23s/it]"
     ]
    },
    {
     "name": "stdout",
     "output_type": "stream",
     "text": [
      "Time to: Calculate Ground State - 1.29s, Get Pauli Ops - 6.13s, Calculate Pauli Expectation Values - 10.89s, Calculate Covariance - 2.9s\n",
      "f0,f1,f2 = [1.2819070857215485e-09, 1.2819070855005304e-09, 1.2819070856934202e-09]\n",
      "d01,d02,d12 = [0.983404484107462, 0.9834044841021723, 0.9834044841089583]\n"
     ]
    },
    {
     "name": "stderr",
     "output_type": "stream",
     "text": [
      "Progress:  79%|███████▉  | 396/500 [2:33:44<40:35, 23.42s/it]"
     ]
    },
    {
     "name": "stdout",
     "output_type": "stream",
     "text": [
      "Time to: Calculate Ground State - 1.5s, Get Pauli Ops - 6.52s, Calculate Pauli Expectation Values - 15.63s, Calculate Covariance - 2.54s\n",
      "f0,f1,f2 = [7.169304865458795e-10, 7.169304864086441e-10, 7.169304864754418e-10]\n",
      "d01,d02,d12 = [0.9834421108600018, 0.9834421108554339, 0.9834421108611336]\n"
     ]
    },
    {
     "name": "stderr",
     "output_type": "stream",
     "text": [
      "Progress:  79%|███████▉  | 397/500 [2:34:05<39:07, 22.79s/it]"
     ]
    },
    {
     "name": "stdout",
     "output_type": "stream",
     "text": [
      "Time to: Calculate Ground State - 0.96s, Get Pauli Ops - 7.0s, Calculate Pauli Expectation Values - 10.71s, Calculate Covariance - 2.66s\n",
      "f0,f1,f2 = [1.5818034389948298e-10, 1.581803438589402e-10, 1.5818034390317045e-10]\n",
      "d01,d02,d12 = [0.9835437649159924, 0.9835437649121752, 0.9835437649167669]\n"
     ]
    },
    {
     "name": "stderr",
     "output_type": "stream",
     "text": [
      "Progress:  80%|███████▉  | 398/500 [2:34:27<38:18, 22.53s/it]"
     ]
    },
    {
     "name": "stdout",
     "output_type": "stream",
     "text": [
      "Time to: Calculate Ground State - 1.55s, Get Pauli Ops - 6.87s, Calculate Pauli Expectation Values - 10.76s, Calculate Covariance - 2.74s\n",
      "f0,f1,f2 = [1.3293862853348067e-09, 1.3293862852412052e-09, 1.3293862852922191e-09]\n",
      "d01,d02,d12 = [0.9841926202137408, 0.9841926202106874, 0.9841926202141379]\n"
     ]
    },
    {
     "name": "stderr",
     "output_type": "stream",
     "text": [
      "Progress:  80%|███████▉  | 399/500 [2:34:52<39:22, 23.39s/it]"
     ]
    },
    {
     "name": "stdout",
     "output_type": "stream",
     "text": [
      "Time to: Calculate Ground State - 1.58s, Get Pauli Ops - 6.22s, Calculate Pauli Expectation Values - 14.62s, Calculate Covariance - 2.96s\n",
      "f0,f1,f2 = [1.4422400591264224e-09, 1.4422400591576392e-09, 1.4422400591262607e-09]\n",
      "d01,d02,d12 = [0.9842156263452836, 0.9842156263430033, 0.9842156263453035]\n"
     ]
    },
    {
     "name": "stderr",
     "output_type": "stream",
     "text": [
      "Progress:  80%|████████  | 400/500 [2:35:14<38:18, 22.98s/it]"
     ]
    },
    {
     "name": "stdout",
     "output_type": "stream",
     "text": [
      "Time to: Calculate Ground State - 1.59s, Get Pauli Ops - 6.61s, Calculate Pauli Expectation Values - 10.77s, Calculate Covariance - 3.04s\n",
      "f0,f1,f2 = [4.6244404664999313e-10, 4.624440466458989e-10, 4.624440466284409e-10]\n",
      "d01,d02,d12 = [0.98404580610984, 0.9840458061083381, 0.9840458061094843]\n"
     ]
    },
    {
     "name": "stderr",
     "output_type": "stream",
     "text": [
      "Progress:  80%|████████  | 401/500 [2:35:40<39:20, 23.85s/it]"
     ]
    },
    {
     "name": "stdout",
     "output_type": "stream",
     "text": [
      "Time to: Calculate Ground State - 1.55s, Get Pauli Ops - 6.55s, Calculate Pauli Expectation Values - 16.06s, Calculate Covariance - 1.7s\n",
      "f0,f1,f2 = [1.410124794958007e-09, 1.410124794953662e-09, 1.410124794928283e-09]\n",
      "d01,d02,d12 = [0.9832981801159795, 0.9832981801152643, 0.9832981801152515]\n"
     ]
    },
    {
     "name": "stderr",
     "output_type": "stream",
     "text": [
      "/cluster/home/mskrabulis/miniconda3/envs/quantech/lib/python3.9/site-packages/pyscf/symm/Dmatrix.py:156: RuntimeWarning: invalid value encountered in arccos\n",
      "  gamma = numpy.arccos(yp.dot(c2[1]))\n",
      "Progress:  80%|████████  | 402/500 [2:36:07<40:27, 24.77s/it]"
     ]
    },
    {
     "name": "stdout",
     "output_type": "stream",
     "text": [
      "Time to: Calculate Ground State - 0.96s, Get Pauli Ops - 6.71s, Calculate Pauli Expectation Values - 16.34s, Calculate Covariance - 2.89s\n",
      "f0,f1,f2 = [2.2113274759026921e-10, 2.2113274758447593e-10, 2.2113274759210563e-10]\n",
      "d01,d02,d12 = [0.9824905221489884, 0.9824905221490634, 0.9824905221478946]\n"
     ]
    },
    {
     "name": "stderr",
     "output_type": "stream",
     "text": [
      "/cluster/home/mskrabulis/miniconda3/envs/quantech/lib/python3.9/site-packages/pyscf/symm/Dmatrix.py:156: RuntimeWarning: invalid value encountered in arccos\n",
      "  gamma = numpy.arccos(yp.dot(c2[1]))\n",
      "Progress:  81%|████████  | 403/500 [2:36:34<41:17, 25.55s/it]"
     ]
    },
    {
     "name": "stdout",
     "output_type": "stream",
     "text": [
      "Time to: Calculate Ground State - 1.56s, Get Pauli Ops - 6.93s, Calculate Pauli Expectation Values - 15.84s, Calculate Covariance - 3.02s\n",
      "f0,f1,f2 = [1.9220127366389447e-11, 1.922012736956861e-11, 1.922012733996922e-11]\n",
      "d01,d02,d12 = [0.9817091451462603, 0.9817091451471355, 0.981709145144813]\n"
     ]
    },
    {
     "name": "stderr",
     "output_type": "stream",
     "text": [
      "/cluster/home/mskrabulis/miniconda3/envs/quantech/lib/python3.9/site-packages/pyscf/symm/Dmatrix.py:156: RuntimeWarning: invalid value encountered in arccos\n",
      "  gamma = numpy.arccos(yp.dot(c2[1]))\n",
      "Progress:  81%|████████  | 404/500 [2:36:56<39:06, 24.44s/it]"
     ]
    },
    {
     "name": "stdout",
     "output_type": "stream",
     "text": [
      "Time to: Calculate Ground State - 1.58s, Get Pauli Ops - 7.02s, Calculate Pauli Expectation Values - 10.64s, Calculate Covariance - 2.6s\n",
      "f0,f1,f2 = [2.23810992838916e-10, 2.238109928458065e-10, 2.2381099283888062e-10]\n",
      "d01,d02,d12 = [0.9808680583631624, 0.9808680583648316, 0.9808680583613689]\n"
     ]
    },
    {
     "name": "stderr",
     "output_type": "stream",
     "text": [
      "Progress:  81%|████████  | 405/500 [2:37:19<37:42, 23.82s/it]"
     ]
    },
    {
     "name": "stdout",
     "output_type": "stream",
     "text": [
      "Time to: Calculate Ground State - 1.54s, Get Pauli Ops - 6.39s, Calculate Pauli Expectation Values - 11.36s, Calculate Covariance - 3.07s\n",
      "f0,f1,f2 = [5.886018909325665e-10, 5.886018908495503e-10, 5.88601890851381e-10]\n",
      "d01,d02,d12 = [0.9798184574610675, 0.9798184574635349, 0.979818457458953]\n"
     ]
    },
    {
     "name": "stderr",
     "output_type": "stream",
     "text": [
      "Progress:  81%|████████  | 406/500 [2:37:40<36:09, 23.08s/it]"
     ]
    },
    {
     "name": "stdout",
     "output_type": "stream",
     "text": [
      "Time to: Calculate Ground State - 1.23s, Get Pauli Ops - 6.4s, Calculate Pauli Expectation Values - 10.67s, Calculate Covariance - 3.04s\n",
      "f0,f1,f2 = [1.2454527120063793e-09, 1.2454527121166292e-09, 1.2454527120421643e-09]\n",
      "d01,d02,d12 = [0.9793300689593658, 0.9793300689626153, 0.9793300689569426]\n"
     ]
    },
    {
     "name": "stderr",
     "output_type": "stream",
     "text": [
      "Progress:  81%|████████▏ | 407/500 [2:38:02<35:23, 22.83s/it]"
     ]
    },
    {
     "name": "stdout",
     "output_type": "stream",
     "text": [
      "Time to: Calculate Ground State - 1.59s, Get Pauli Ops - 7.13s, Calculate Pauli Expectation Values - 10.73s, Calculate Covariance - 2.8s\n",
      "f0,f1,f2 = [1.924032863472342e-09, 1.924032863588112e-09, 1.9240328635597295e-09]\n",
      "d01,d02,d12 = [0.9796606058176822, 0.9796606058217058, 0.979660605814971]\n"
     ]
    },
    {
     "name": "stderr",
     "output_type": "stream",
     "text": [
      "Progress:  82%|████████▏ | 408/500 [2:38:24<34:29, 22.50s/it]"
     ]
    },
    {
     "name": "stdout",
     "output_type": "stream",
     "text": [
      "Time to: Calculate Ground State - 1.5s, Get Pauli Ops - 6.16s, Calculate Pauli Expectation Values - 11.25s, Calculate Covariance - 2.8s\n",
      "f0,f1,f2 = [2.683907022100465e-10, 2.683907021030527e-10, 2.683907021700935e-10]\n",
      "d01,d02,d12 = [0.9798657770128495, 0.979865777017611, 0.9798657770098723]\n"
     ]
    },
    {
     "name": "stderr",
     "output_type": "stream",
     "text": [
      "Progress:  82%|████████▏ | 409/500 [2:38:45<33:32, 22.12s/it]"
     ]
    },
    {
     "name": "stdout",
     "output_type": "stream",
     "text": [
      "Time to: Calculate Ground State - 1.46s, Get Pauli Ops - 5.92s, Calculate Pauli Expectation Values - 11.1s, Calculate Covariance - 2.74s\n",
      "f0,f1,f2 = [1.1524166216943435e-10, 1.152416619956103e-10, 1.1524166211520359e-10]\n",
      "d01,d02,d12 = [0.9800144360719777, 0.980014436077422, 0.9800144360687457]\n"
     ]
    },
    {
     "name": "stderr",
     "output_type": "stream",
     "text": [
      "/cluster/home/mskrabulis/miniconda3/envs/quantech/lib/python3.9/site-packages/pyscf/symm/Dmatrix.py:156: RuntimeWarning: invalid value encountered in arccos\n",
      "  gamma = numpy.arccos(yp.dot(c2[1]))\n",
      "Progress:  82%|████████▏ | 410/500 [2:39:06<32:40, 21.79s/it]"
     ]
    },
    {
     "name": "stdout",
     "output_type": "stream",
     "text": [
      "Time to: Calculate Ground State - 1.55s, Get Pauli Ops - 6.23s, Calculate Pauli Expectation Values - 10.79s, Calculate Covariance - 2.43s\n",
      "f0,f1,f2 = [1.7813090319287082e-09, 1.781309032121179e-09, 1.7813090319934285e-09]\n",
      "d01,d02,d12 = [0.9808957878008351, 0.9808957878069388, 0.9808957877973727]\n"
     ]
    },
    {
     "name": "stderr",
     "output_type": "stream",
     "text": [
      "Progress:  82%|████████▏ | 411/500 [2:39:28<32:29, 21.91s/it]"
     ]
    },
    {
     "name": "stdout",
     "output_type": "stream",
     "text": [
      "Time to: Calculate Ground State - 1.44s, Get Pauli Ops - 6.4s, Calculate Pauli Expectation Values - 11.58s, Calculate Covariance - 2.78s\n",
      "f0,f1,f2 = [9.37538419090375e-10, 9.37538419256651e-10, 9.375384191760194e-10]\n",
      "d01,d02,d12 = [0.9821287065532929, 0.9821287065600096, 0.9821287065496317]\n"
     ]
    },
    {
     "name": "stderr",
     "output_type": "stream",
     "text": [
      "Progress:  82%|████████▏ | 412/500 [2:39:50<31:50, 21.71s/it]"
     ]
    },
    {
     "name": "stdout",
     "output_type": "stream",
     "text": [
      "Time to: Calculate Ground State - 1.53s, Get Pauli Ops - 6.53s, Calculate Pauli Expectation Values - 10.65s, Calculate Covariance - 2.53s\n",
      "f0,f1,f2 = [1.143431739941774e-09, 1.1434317401002578e-09, 1.1434317400240324e-09]\n",
      "d01,d02,d12 = [0.983783700519937, 0.9837837005272327, 0.9837837005160943]\n"
     ]
    },
    {
     "name": "stderr",
     "output_type": "stream",
     "text": [
      "Progress:  83%|████████▎ | 413/500 [2:40:12<31:47, 21.92s/it]"
     ]
    },
    {
     "name": "stdout",
     "output_type": "stream",
     "text": [
      "Time to: Calculate Ground State - 1.48s, Get Pauli Ops - 6.88s, Calculate Pauli Expectation Values - 11.26s, Calculate Covariance - 2.8s\n",
      "f0,f1,f2 = [1.0129113039592406e-09, 1.0129113041271877e-09, 1.0129113039957793e-09]\n",
      "d01,d02,d12 = [0.9857887243152927, 0.9857887243231183, 0.9857887243112798]\n"
     ]
    },
    {
     "name": "stderr",
     "output_type": "stream",
     "text": [
      "Progress:  83%|████████▎ | 414/500 [2:40:35<31:40, 22.10s/it]"
     ]
    },
    {
     "name": "stdout",
     "output_type": "stream",
     "text": [
      "Time to: Calculate Ground State - 1.45s, Get Pauli Ops - 7.06s, Calculate Pauli Expectation Values - 10.97s, Calculate Covariance - 3.03s\n",
      "f0,f1,f2 = [2.955760832799676e-10, 2.9557608310676583e-10, 2.9557608325029666e-10]\n",
      "d01,d02,d12 = [0.9875860958273037, 0.9875860958356011, 0.987586095823147]\n"
     ]
    },
    {
     "name": "stderr",
     "output_type": "stream",
     "text": [
      "Progress:  83%|████████▎ | 415/500 [2:40:57<31:29, 22.23s/it]"
     ]
    },
    {
     "name": "stdout",
     "output_type": "stream",
     "text": [
      "Time to: Calculate Ground State - 1.47s, Get Pauli Ops - 7.04s, Calculate Pauli Expectation Values - 10.98s, Calculate Covariance - 3.05s\n",
      "f0,f1,f2 = [3.969680552915523e-11, 3.9696805328759684e-11, 3.969680540515906e-11]\n",
      "d01,d02,d12 = [0.9892907794531051, 0.9892907794618317, 0.9892907794488368]\n"
     ]
    },
    {
     "name": "stderr",
     "output_type": "stream",
     "text": [
      "Progress:  83%|████████▎ | 416/500 [2:41:18<30:44, 21.95s/it]"
     ]
    },
    {
     "name": "stdout",
     "output_type": "stream",
     "text": [
      "Time to: Calculate Ground State - 1.44s, Get Pauli Ops - 5.76s, Calculate Pauli Expectation Values - 11.0s, Calculate Covariance - 3.09s\n",
      "f0,f1,f2 = [2.019795602210991e-10, 2.0197956046249166e-10, 2.019795602484509e-10]\n",
      "d01,d02,d12 = [0.9910069707729431, 0.991006970782021, 0.9910069707685755]\n"
     ]
    },
    {
     "name": "stderr",
     "output_type": "stream",
     "text": [
      "/cluster/home/mskrabulis/miniconda3/envs/quantech/lib/python3.9/site-packages/pyscf/symm/Dmatrix.py:156: RuntimeWarning: invalid value encountered in arccos\n",
      "  gamma = numpy.arccos(yp.dot(c2[1]))\n",
      "Progress:  83%|████████▎ | 417/500 [2:41:40<30:24, 21.98s/it]"
     ]
    },
    {
     "name": "stdout",
     "output_type": "stream",
     "text": [
      "Time to: Calculate Ground State - 1.51s, Get Pauli Ops - 6.37s, Calculate Pauli Expectation Values - 11.06s, Calculate Covariance - 3.08s\n",
      "f0,f1,f2 = [7.943631374999504e-11, 7.943631355046425e-11, 7.94363137178363e-11]\n",
      "d01,d02,d12 = [0.9926174350502677, 0.9926174350596393, 0.9926174350458228]\n"
     ]
    },
    {
     "name": "stderr",
     "output_type": "stream",
     "text": [
      "Progress:  84%|████████▎ | 418/500 [2:42:02<29:56, 21.91s/it]"
     ]
    },
    {
     "name": "stdout",
     "output_type": "stream",
     "text": [
      "Time to: Calculate Ground State - 1.48s, Get Pauli Ops - 6.93s, Calculate Pauli Expectation Values - 10.83s, Calculate Covariance - 2.49s\n",
      "f0,f1,f2 = [5.146235654827996e-10, 5.146235652418779e-10, 5.146235653741764e-10]\n",
      "d01,d02,d12 = [0.9939461140512691, 0.9939461140608669, 0.993946114046783]\n"
     ]
    },
    {
     "name": "stderr",
     "output_type": "stream",
     "text": [
      "/cluster/home/mskrabulis/miniconda3/envs/quantech/lib/python3.9/site-packages/pyscf/symm/Dmatrix.py:156: RuntimeWarning: invalid value encountered in arccos\n",
      "  gamma = numpy.arccos(yp.dot(c2[1]))\n",
      "Progress:  84%|████████▍ | 419/500 [2:42:24<29:40, 21.98s/it]"
     ]
    },
    {
     "name": "stdout",
     "output_type": "stream",
     "text": [
      "Time to: Calculate Ground State - 1.56s, Get Pauli Ops - 6.3s, Calculate Pauli Expectation Values - 11.61s, Calculate Covariance - 2.66s\n",
      "f0,f1,f2 = [1.621557268134372e-10, 1.6215572656783376e-10, 1.6215572669710342e-10]\n",
      "d01,d02,d12 = [0.9951511825042975, 0.995151182514073, 0.9951511824998099]\n"
     ]
    },
    {
     "name": "stderr",
     "output_type": "stream",
     "text": [
      "Progress:  84%|████████▍ | 420/500 [2:42:47<29:30, 22.13s/it]"
     ]
    },
    {
     "name": "stdout",
     "output_type": "stream",
     "text": [
      "Time to: Calculate Ground State - 1.52s, Get Pauli Ops - 7.0s, Calculate Pauli Expectation Values - 11.45s, Calculate Covariance - 2.51s\n",
      "f0,f1,f2 = [5.351127659726804e-10, 5.351127656568318e-10, 5.351127658821363e-10]\n",
      "d01,d02,d12 = [0.9960831562039494, 0.9960831562138192, 0.9960831561994994]\n"
     ]
    },
    {
     "name": "stderr",
     "output_type": "stream",
     "text": [
      "Progress:  84%|████████▍ | 421/500 [2:43:09<29:09, 22.14s/it]"
     ]
    },
    {
     "name": "stdout",
     "output_type": "stream",
     "text": [
      "Time to: Calculate Ground State - 1.56s, Get Pauli Ops - 6.67s, Calculate Pauli Expectation Values - 10.83s, Calculate Covariance - 3.09s\n",
      "f0,f1,f2 = [3.11028077038645e-10, 3.1102807726931817e-10, 3.1102807713090077e-10]\n",
      "d01,d02,d12 = [0.9971046469321592, 0.9971046469420618, 0.9971046469277755]\n"
     ]
    },
    {
     "name": "stderr",
     "output_type": "stream",
     "text": [
      "/cluster/home/mskrabulis/miniconda3/envs/quantech/lib/python3.9/site-packages/pyscf/symm/Dmatrix.py:156: RuntimeWarning: invalid value encountered in arccos\n",
      "  gamma = numpy.arccos(yp.dot(c2[1]))\n",
      "Progress:  84%|████████▍ | 422/500 [2:43:31<28:50, 22.18s/it]"
     ]
    },
    {
     "name": "stdout",
     "output_type": "stream",
     "text": [
      "Time to: Calculate Ground State - 1.56s, Get Pauli Ops - 7.09s, Calculate Pauli Expectation Values - 11.06s, Calculate Covariance - 2.55s\n",
      "f0,f1,f2 = [5.596381816350637e-10, 5.596381814194659e-10, 5.596381816003439e-10]\n",
      "d01,d02,d12 = [0.997850652415146, 0.9978506524250191, 0.9978506524108487]\n"
     ]
    },
    {
     "name": "stderr",
     "output_type": "stream",
     "text": [
      "Progress:  85%|████████▍ | 423/500 [2:43:59<30:38, 23.87s/it]"
     ]
    },
    {
     "name": "stdout",
     "output_type": "stream",
     "text": [
      "Time to: Calculate Ground State - 1.71s, Get Pauli Ops - 10.8s, Calculate Pauli Expectation Values - 12.5s, Calculate Covariance - 2.79s\n",
      "f0,f1,f2 = [1.8295096254430918e-09, 1.8295096252059317e-09, 1.8295096253640247e-09]\n",
      "d01,d02,d12 = [0.9978060315063183, 0.997806031516089, 0.9978060315021313]\n"
     ]
    },
    {
     "name": "stderr",
     "output_type": "stream",
     "text": [
      "/cluster/home/mskrabulis/miniconda3/envs/quantech/lib/python3.9/site-packages/pyscf/symm/Dmatrix.py:156: RuntimeWarning: invalid value encountered in arccos\n",
      "  gamma = numpy.arccos(yp.dot(c2[1]))\n",
      "Progress:  85%|████████▍ | 424/500 [2:44:23<30:14, 23.87s/it]"
     ]
    },
    {
     "name": "stdout",
     "output_type": "stream",
     "text": [
      "Time to: Calculate Ground State - 1.55s, Get Pauli Ops - 6.77s, Calculate Pauli Expectation Values - 12.32s, Calculate Covariance - 3.22s\n",
      "f0,f1,f2 = [1.0846836299907706e-09, 1.0846836302428545e-09, 1.0846836300607821e-09]\n",
      "d01,d02,d12 = [0.9982132971062037, 0.9982132971158024, 0.9982132971021507]\n"
     ]
    },
    {
     "name": "stderr",
     "output_type": "stream",
     "text": [
      "/cluster/home/mskrabulis/miniconda3/envs/quantech/lib/python3.9/site-packages/pyscf/symm/Dmatrix.py:156: RuntimeWarning: invalid value encountered in arccos\n",
      "  gamma = numpy.arccos(yp.dot(c2[1]))\n",
      "Progress:  85%|████████▌ | 425/500 [2:44:49<30:41, 24.55s/it]"
     ]
    },
    {
     "name": "stdout",
     "output_type": "stream",
     "text": [
      "Time to: Calculate Ground State - 1.6s, Get Pauli Ops - 10.35s, Calculate Pauli Expectation Values - 11.06s, Calculate Covariance - 3.13s\n",
      "f0,f1,f2 = [1.5622808099818e-09, 1.5622808096974562e-09, 1.5622808098828224e-09]\n",
      "d01,d02,d12 = [0.9979551624850689, 0.9979551624944154, 0.9979551624811869]\n"
     ]
    },
    {
     "name": "stderr",
     "output_type": "stream",
     "text": [
      "Progress:  85%|████████▌ | 426/500 [2:45:14<30:34, 24.79s/it]"
     ]
    },
    {
     "name": "stdout",
     "output_type": "stream",
     "text": [
      "Time to: Calculate Ground State - 1.57s, Get Pauli Ops - 10.25s, Calculate Pauli Expectation Values - 10.86s, Calculate Covariance - 2.64s\n",
      "f0,f1,f2 = [8.371851512175888e-10, 8.371851509929114e-10, 8.371851511511928e-10]\n",
      "d01,d02,d12 = [0.9973606563552527, 0.9973606563642914, 0.997360656351573]\n"
     ]
    },
    {
     "name": "stderr",
     "output_type": "stream",
     "text": [
      "Progress:  85%|████████▌ | 427/500 [2:45:39<29:55, 24.60s/it]"
     ]
    },
    {
     "name": "stdout",
     "output_type": "stream",
     "text": [
      "Time to: Calculate Ground State - 1.11s, Get Pauli Ops - 5.57s, Calculate Pauli Expectation Values - 14.43s, Calculate Covariance - 3.04s\n",
      "f0,f1,f2 = [2.1117833691147475e-10, 2.1117833705902208e-10, 2.1117833692502893e-10]\n",
      "d01,d02,d12 = [0.9968789679472434, 0.9968789679559363, 0.9968789679437741]\n"
     ]
    },
    {
     "name": "stderr",
     "output_type": "stream",
     "text": [
      "/cluster/home/mskrabulis/miniconda3/envs/quantech/lib/python3.9/site-packages/pyscf/symm/Dmatrix.py:156: RuntimeWarning: invalid value encountered in arccos\n",
      "  gamma = numpy.arccos(yp.dot(c2[1]))\n",
      "Progress:  86%|████████▌ | 428/500 [2:46:00<28:24, 23.68s/it]"
     ]
    },
    {
     "name": "stdout",
     "output_type": "stream",
     "text": [
      "Time to: Calculate Ground State - 1.53s, Get Pauli Ops - 5.87s, Calculate Pauli Expectation Values - 11.08s, Calculate Covariance - 3.03s\n",
      "f0,f1,f2 = [1.0859928946900193e-09, 1.0859928945249426e-09, 1.0859928946742944e-09]\n",
      "d01,d02,d12 = [0.9959671659833162, 0.9959671659915934, 0.9959671659800743]\n"
     ]
    },
    {
     "name": "stderr",
     "output_type": "stream",
     "text": [
      "Progress:  86%|████████▌ | 429/500 [2:46:21<27:01, 22.84s/it]"
     ]
    },
    {
     "name": "stdout",
     "output_type": "stream",
     "text": [
      "Time to: Calculate Ground State - 1.52s, Get Pauli Ops - 6.1s, Calculate Pauli Expectation Values - 10.89s, Calculate Covariance - 2.37s\n",
      "f0,f1,f2 = [7.05337974846891e-10, 7.053379746530877e-10, 7.053379748245112e-10]\n",
      "d01,d02,d12 = [0.9948014073059598, 0.9948014073137615, 0.9948014073029654]\n"
     ]
    },
    {
     "name": "stderr",
     "output_type": "stream",
     "text": [
      "Progress:  86%|████████▌ | 430/500 [2:46:44<26:37, 22.82s/it]"
     ]
    },
    {
     "name": "stdout",
     "output_type": "stream",
     "text": [
      "Time to: Calculate Ground State - 1.47s, Get Pauli Ops - 6.55s, Calculate Pauli Expectation Values - 11.74s, Calculate Covariance - 3.01s\n",
      "f0,f1,f2 = [3.49501893495689e-10, 3.4950189331034835e-10, 3.49501893412243e-10]\n",
      "d01,d02,d12 = [0.9935400832682482, 0.9935400832755222, 0.9935400832655196]\n"
     ]
    },
    {
     "name": "stderr",
     "output_type": "stream",
     "text": [
      "/cluster/home/mskrabulis/miniconda3/envs/quantech/lib/python3.9/site-packages/pyscf/symm/Dmatrix.py:156: RuntimeWarning: invalid value encountered in arccos\n",
      "  gamma = numpy.arccos(yp.dot(c2[1]))\n",
      "Progress:  86%|████████▌ | 431/500 [2:47:10<27:34, 23.97s/it]"
     ]
    },
    {
     "name": "stdout",
     "output_type": "stream",
     "text": [
      "Time to: Calculate Ground State - 1.51s, Get Pauli Ops - 7.24s, Calculate Pauli Expectation Values - 15.77s, Calculate Covariance - 2.13s\n",
      "f0,f1,f2 = [3.517493943412574e-11, 3.517493931629801e-11, 3.5174939375154804e-11]\n",
      "d01,d02,d12 = [0.9923176489467238, 0.9923176489534311, 0.9923176489442873]\n"
     ]
    },
    {
     "name": "stderr",
     "output_type": "stream",
     "text": [
      "Progress:  86%|████████▋ | 432/500 [2:47:38<28:13, 24.90s/it]"
     ]
    },
    {
     "name": "stdout",
     "output_type": "stream",
     "text": [
      "Time to: Calculate Ground State - 1.52s, Get Pauli Ops - 6.88s, Calculate Pauli Expectation Values - 15.64s, Calculate Covariance - 3.03s\n",
      "f0,f1,f2 = [1.1636337579874946e-09, 1.1636337580996e-09, 1.1636337579939245e-09]\n",
      "d01,d02,d12 = [0.9916297967848666, 0.9916297967909705, 0.9916297967827193]\n"
     ]
    },
    {
     "name": "stderr",
     "output_type": "stream",
     "text": [
      "/cluster/home/mskrabulis/miniconda3/envs/quantech/lib/python3.9/site-packages/pyscf/symm/Dmatrix.py:156: RuntimeWarning: invalid value encountered in arccos\n",
      "  gamma = numpy.arccos(yp.dot(c2[1]))\n",
      "Progress:  87%|████████▋ | 433/500 [2:47:58<26:22, 23.62s/it]"
     ]
    },
    {
     "name": "stdout",
     "output_type": "stream",
     "text": [
      "Time to: Calculate Ground State - 1.37s, Get Pauli Ops - 5.92s, Calculate Pauli Expectation Values - 10.67s, Calculate Covariance - 2.66s\n",
      "f0,f1,f2 = [5.043597562409574e-10, 5.04359756365857e-10, 5.043597562786217e-10]\n",
      "d01,d02,d12 = [0.9911803513926695, 0.9911803513981199, 0.9911803513908256]\n"
     ]
    },
    {
     "name": "stderr",
     "output_type": "stream",
     "text": [
      "/cluster/home/mskrabulis/miniconda3/envs/quantech/lib/python3.9/site-packages/pyscf/symm/Dmatrix.py:156: RuntimeWarning: invalid value encountered in arccos\n",
      "  gamma = numpy.arccos(yp.dot(c2[1]))\n",
      "Progress:  87%|████████▋ | 434/500 [2:48:20<25:24, 23.10s/it]"
     ]
    },
    {
     "name": "stdout",
     "output_type": "stream",
     "text": [
      "Time to: Calculate Ground State - 1.55s, Get Pauli Ops - 6.46s, Calculate Pauli Expectation Values - 10.79s, Calculate Covariance - 3.06s\n",
      "f0,f1,f2 = [8.49932908741083e-11, 8.49932907896911e-11, 8.499329083171639e-11]\n",
      "d01,d02,d12 = [0.9907147033000149, 0.9907147033047871, 0.9907147032984825]\n"
     ]
    },
    {
     "name": "stderr",
     "output_type": "stream",
     "text": [
      "/cluster/home/mskrabulis/miniconda3/envs/quantech/lib/python3.9/site-packages/pyscf/symm/Dmatrix.py:156: RuntimeWarning: invalid value encountered in arccos\n",
      "  gamma = numpy.arccos(yp.dot(c2[1]))\n",
      "Progress:  87%|████████▋ | 435/500 [2:48:41<24:27, 22.58s/it]"
     ]
    },
    {
     "name": "stdout",
     "output_type": "stream",
     "text": [
      "Time to: Calculate Ground State - 1.46s, Get Pauli Ops - 6.83s, Calculate Pauli Expectation Values - 10.72s, Calculate Covariance - 2.34s\n",
      "f0,f1,f2 = [9.74924326249786e-11, 9.749243255252496e-11, 9.749243258891738e-11]\n",
      "d01,d02,d12 = [0.9902283542674597, 0.990228354271543, 0.9902283542662621]\n"
     ]
    },
    {
     "name": "stderr",
     "output_type": "stream",
     "text": [
      "Progress:  87%|████████▋ | 436/500 [2:49:08<25:27, 23.87s/it]"
     ]
    },
    {
     "name": "stdout",
     "output_type": "stream",
     "text": [
      "Time to: Calculate Ground State - 1.45s, Get Pauli Ops - 11.22s, Calculate Pauli Expectation Values - 11.27s, Calculate Covariance - 2.94s\n",
      "f0,f1,f2 = [6.090515872314656e-10, 6.090515871693343e-10, 6.090515872085619e-10]\n",
      "d01,d02,d12 = [0.9895099555409347, 0.9895099555443024, 0.9895099555400804]\n"
     ]
    },
    {
     "name": "stderr",
     "output_type": "stream",
     "text": [
      "Progress:  87%|████████▋ | 437/500 [2:49:31<24:42, 23.54s/it]"
     ]
    },
    {
     "name": "stdout",
     "output_type": "stream",
     "text": [
      "Time to: Calculate Ground State - 1.54s, Get Pauli Ops - 7.35s, Calculate Pauli Expectation Values - 11.19s, Calculate Covariance - 2.67s\n",
      "f0,f1,f2 = [8.538755645154632e-10, 8.538755644513579e-10, 8.538755645255683e-10]\n",
      "d01,d02,d12 = [0.9884677790385681, 0.988467779041206, 0.9884677790380617]\n"
     ]
    },
    {
     "name": "stderr",
     "output_type": "stream",
     "text": [
      "Progress:  88%|████████▊ | 438/500 [2:49:57<25:08, 24.32s/it]"
     ]
    },
    {
     "name": "stdout",
     "output_type": "stream",
     "text": [
      "Time to: Calculate Ground State - 1.51s, Get Pauli Ops - 6.6s, Calculate Pauli Expectation Values - 14.97s, Calculate Covariance - 3.07s\n",
      "f0,f1,f2 = [1.0985956058274022e-09, 1.0985956057564582e-09, 1.098595605862648e-09]\n",
      "d01,d02,d12 = [0.9870140300316822, 0.9870140300335537, 0.9870140300315271]\n"
     ]
    },
    {
     "name": "stderr",
     "output_type": "stream",
     "text": [
      "Progress:  88%|████████▊ | 439/500 [2:50:19<24:03, 23.67s/it]"
     ]
    },
    {
     "name": "stdout",
     "output_type": "stream",
     "text": [
      "Time to: Calculate Ground State - 1.54s, Get Pauli Ops - 6.73s, Calculate Pauli Expectation Values - 11.15s, Calculate Covariance - 2.72s\n",
      "f0,f1,f2 = [4.3957392721728506e-10, 4.39573927148628e-10, 4.395739272536009e-10]\n",
      "d01,d02,d12 = [0.9854395666977915, 0.9854395666988649, 0.9854395666979878]\n"
     ]
    },
    {
     "name": "stderr",
     "output_type": "stream",
     "text": [
      "Progress:  88%|████████▊ | 440/500 [2:50:41<23:05, 23.10s/it]"
     ]
    },
    {
     "name": "stdout",
     "output_type": "stream",
     "text": [
      "Time to: Calculate Ground State - 1.58s, Get Pauli Ops - 6.83s, Calculate Pauli Expectation Values - 10.94s, Calculate Covariance - 2.4s\n",
      "f0,f1,f2 = [2.007254866749347e-09, 2.0072548667697423e-09, 2.0072548667542124e-09]\n",
      "d01,d02,d12 = [0.9847646084816233, 0.9847646084818917, 0.9847646084821787]\n"
     ]
    },
    {
     "name": "stderr",
     "output_type": "stream",
     "text": [
      "Progress:  88%|████████▊ | 441/500 [2:51:08<23:42, 24.10s/it]"
     ]
    },
    {
     "name": "stdout",
     "output_type": "stream",
     "text": [
      "Time to: Calculate Ground State - 1.49s, Get Pauli Ops - 7.07s, Calculate Pauli Expectation Values - 15.01s, Calculate Covariance - 2.87s\n",
      "f0,f1,f2 = [4.932063959261004e-10, 4.932063959332989e-10, 4.932063959329605e-10]\n",
      "d01,d02,d12 = [0.9843228874634948, 0.9843228874629508, 0.9843228874644043]\n"
     ]
    },
    {
     "name": "stderr",
     "output_type": "stream",
     "text": [
      "Progress:  88%|████████▊ | 442/500 [2:51:29<22:24, 23.17s/it]"
     ]
    },
    {
     "name": "stdout",
     "output_type": "stream",
     "text": [
      "Time to: Calculate Ground State - 1.58s, Get Pauli Ops - 5.89s, Calculate Pauli Expectation Values - 10.78s, Calculate Covariance - 2.75s\n",
      "f0,f1,f2 = [1.691041808486618e-10, 1.6910418084710225e-10, 1.6910418083885965e-10]\n",
      "d01,d02,d12 = [0.9839700546982955, 0.9839700546969409, 0.9839700546995661]\n"
     ]
    },
    {
     "name": "stderr",
     "output_type": "stream",
     "text": [
      "/cluster/home/mskrabulis/miniconda3/envs/quantech/lib/python3.9/site-packages/pyscf/symm/Dmatrix.py:156: RuntimeWarning: invalid value encountered in arccos\n",
      "  gamma = numpy.arccos(yp.dot(c2[1]))\n",
      "Progress:  89%|████████▊ | 443/500 [2:51:50<21:33, 22.69s/it]"
     ]
    },
    {
     "name": "stdout",
     "output_type": "stream",
     "text": [
      "Time to: Calculate Ground State - 1.6s, Get Pauli Ops - 7.06s, Calculate Pauli Expectation Values - 10.88s, Calculate Covariance - 2.01s\n",
      "f0,f1,f2 = [1.2031830999140157e-09, 1.2031830999839357e-09, 1.2031830999477314e-09]\n",
      "d01,d02,d12 = [0.9831330301278267, 0.9831330301256814, 0.9831330301294453]\n"
     ]
    },
    {
     "name": "stderr",
     "output_type": "stream",
     "text": [
      "/cluster/home/mskrabulis/miniconda3/envs/quantech/lib/python3.9/site-packages/pyscf/symm/Dmatrix.py:156: RuntimeWarning: invalid value encountered in arccos\n",
      "  gamma = numpy.arccos(yp.dot(c2[1]))\n",
      "Progress:  89%|████████▉ | 444/500 [2:52:14<21:30, 23.05s/it]"
     ]
    },
    {
     "name": "stdout",
     "output_type": "stream",
     "text": [
      "Time to: Calculate Ground State - 1.6s, Get Pauli Ops - 9.16s, Calculate Pauli Expectation Values - 10.66s, Calculate Covariance - 2.48s\n",
      "f0,f1,f2 = [1.0166923522406024e-09, 1.0166923523236044e-09, 1.0166923522662621e-09]\n",
      "d01,d02,d12 = [0.9819097174540123, 0.9819097174510893, 0.9819097174559729]\n"
     ]
    },
    {
     "name": "stderr",
     "output_type": "stream",
     "text": [
      "Progress:  89%|████████▉ | 445/500 [2:52:40<22:02, 24.05s/it]"
     ]
    },
    {
     "name": "stdout",
     "output_type": "stream",
     "text": [
      "Time to: Calculate Ground State - 1.49s, Get Pauli Ops - 6.95s, Calculate Pauli Expectation Values - 15.57s, Calculate Covariance - 2.37s\n",
      "f0,f1,f2 = [4.067052534823933e-11, 4.067052526664662e-11, 4.06705253100944e-11]\n",
      "d01,d02,d12 = [0.9807551622016856, 0.9807551621980143, 0.9807551622039756]\n"
     ]
    },
    {
     "name": "stderr",
     "output_type": "stream",
     "text": [
      "/cluster/home/mskrabulis/miniconda3/envs/quantech/lib/python3.9/site-packages/pyscf/symm/Dmatrix.py:156: RuntimeWarning: invalid value encountered in arccos\n",
      "  gamma = numpy.arccos(yp.dot(c2[1]))\n",
      "/cluster/home/mskrabulis/miniconda3/envs/quantech/lib/python3.9/site-packages/pyscf/symm/Dmatrix.py:156: RuntimeWarning: invalid value encountered in arccos\n",
      "  gamma = numpy.arccos(yp.dot(c2[1]))\n",
      "Progress:  89%|████████▉ | 446/500 [2:53:03<21:08, 23.49s/it]"
     ]
    },
    {
     "name": "stdout",
     "output_type": "stream",
     "text": [
      "Time to: Calculate Ground State - 1.63s, Get Pauli Ops - 6.84s, Calculate Pauli Expectation Values - 11.07s, Calculate Covariance - 2.62s\n",
      "f0,f1,f2 = [9.60989133486864e-10, 9.609891335795745e-10, 9.609891335083969e-10]\n",
      "d01,d02,d12 = [0.9792508992638664, 0.9792508992594776, 0.9792508992664701]\n"
     ]
    },
    {
     "name": "stderr",
     "output_type": "stream",
     "text": [
      "Progress:  89%|████████▉ | 447/500 [2:53:25<20:26, 23.14s/it]"
     ]
    },
    {
     "name": "stdout",
     "output_type": "stream",
     "text": [
      "Time to: Calculate Ground State - 1.56s, Get Pauli Ops - 7.06s, Calculate Pauli Expectation Values - 11.71s, Calculate Covariance - 1.99s\n",
      "f0,f1,f2 = [3.91186293899543e-11, 3.9118629528592464e-11, 3.9118629464531404e-11]\n",
      "d01,d02,d12 = [0.9777942151925656, 0.9777942151874974, 0.9777942151954563]\n"
     ]
    },
    {
     "name": "stderr",
     "output_type": "stream",
     "text": [
      "Progress:  90%|████████▉ | 448/500 [2:53:47<19:46, 22.82s/it]"
     ]
    },
    {
     "name": "stdout",
     "output_type": "stream",
     "text": [
      "Time to: Calculate Ground State - 1.46s, Get Pauli Ops - 6.29s, Calculate Pauli Expectation Values - 11.73s, Calculate Covariance - 2.59s\n",
      "f0,f1,f2 = [2.19375917793549e-10, 2.1937591794138226e-10, 2.1937591781655588e-10]\n",
      "d01,d02,d12 = [0.9763083139879976, 0.9763083139822979, 0.9763083139911528]\n"
     ]
    },
    {
     "name": "stderr",
     "output_type": "stream",
     "text": [
      "Progress:  90%|████████▉ | 449/500 [2:54:10<19:21, 22.78s/it]"
     ]
    },
    {
     "name": "stdout",
     "output_type": "stream",
     "text": [
      "Time to: Calculate Ground State - 1.52s, Get Pauli Ops - 5.83s, Calculate Pauli Expectation Values - 13.13s, Calculate Covariance - 2.17s\n",
      "f0,f1,f2 = [2.914033134533022e-10, 2.914033132763869e-10, 2.914033133531457e-10]\n",
      "d01,d02,d12 = [0.9750063428457838, 0.9750063428394887, 0.9750063428491785]\n"
     ]
    },
    {
     "name": "stderr",
     "output_type": "stream",
     "text": [
      "/cluster/home/mskrabulis/miniconda3/envs/quantech/lib/python3.9/site-packages/pyscf/symm/Dmatrix.py:156: RuntimeWarning: invalid value encountered in arccos\n",
      "  gamma = numpy.arccos(yp.dot(c2[1]))\n",
      "Progress:  90%|█████████ | 450/500 [2:54:35<19:34, 23.49s/it]"
     ]
    },
    {
     "name": "stdout",
     "output_type": "stream",
     "text": [
      "Time to: Calculate Ground State - 1.5s, Get Pauli Ops - 6.22s, Calculate Pauli Expectation Values - 15.7s, Calculate Covariance - 1.72s\n",
      "f0,f1,f2 = [2.1578593416825446e-10, 2.1578593432869857e-10, 2.1578593421393323e-10]\n",
      "d01,d02,d12 = [0.9736700888698705, 0.9736700888630236, 0.9736700888734787]\n"
     ]
    },
    {
     "name": "stderr",
     "output_type": "stream",
     "text": [
      "Progress:  90%|█████████ | 451/500 [2:54:56<18:33, 22.71s/it]"
     ]
    },
    {
     "name": "stdout",
     "output_type": "stream",
     "text": [
      "Time to: Calculate Ground State - 0.96s, Get Pauli Ops - 5.84s, Calculate Pauli Expectation Values - 11.25s, Calculate Covariance - 2.86s\n",
      "f0,f1,f2 = [7.368742854166929e-10, 7.3687428530803e-10, 7.368742854376263e-10]\n",
      "d01,d02,d12 = [0.9726962338422839, 0.972696233834933, 0.9726962338461006]\n"
     ]
    },
    {
     "name": "stderr",
     "output_type": "stream",
     "text": [
      "Progress:  90%|█████████ | 452/500 [2:55:21<18:51, 23.58s/it]"
     ]
    },
    {
     "name": "stdout",
     "output_type": "stream",
     "text": [
      "Time to: Calculate Ground State - 1.53s, Get Pauli Ops - 5.88s, Calculate Pauli Expectation Values - 15.55s, Calculate Covariance - 2.63s\n",
      "f0,f1,f2 = [4.853361269804686e-10, 4.853361267359066e-10, 4.853361269237478e-10]\n",
      "d01,d02,d12 = [0.9719650498483977, 0.971965049840603, 0.9719650498523957]\n"
     ]
    },
    {
     "name": "stderr",
     "output_type": "stream",
     "text": [
      "/cluster/home/mskrabulis/miniconda3/envs/quantech/lib/python3.9/site-packages/pyscf/symm/Dmatrix.py:156: RuntimeWarning: invalid value encountered in arccos\n",
      "  gamma = numpy.arccos(yp.dot(c2[1]))\n",
      "Progress:  91%|█████████ | 453/500 [2:55:43<18:02, 23.03s/it]"
     ]
    },
    {
     "name": "stdout",
     "output_type": "stream",
     "text": [
      "Time to: Calculate Ground State - 1.56s, Get Pauli Ops - 6.28s, Calculate Pauli Expectation Values - 10.92s, Calculate Covariance - 2.98s\n",
      "f0,f1,f2 = [7.071865222693957e-10, 7.071865220679425e-10, 7.071865221810781e-10]\n",
      "d01,d02,d12 = [0.9715582784728674, 0.9715582784646815, 0.9715582784770108]\n"
     ]
    },
    {
     "name": "stderr",
     "output_type": "stream",
     "text": [
      "Progress:  91%|█████████ | 454/500 [2:56:04<17:16, 22.53s/it]"
     ]
    },
    {
     "name": "stdout",
     "output_type": "stream",
     "text": [
      "Time to: Calculate Ground State - 1.32s, Get Pauli Ops - 6.78s, Calculate Pauli Expectation Values - 10.96s, Calculate Covariance - 2.3s\n",
      "f0,f1,f2 = [6.493785007006657e-10, 6.493785004478812e-10, 6.493785006197597e-10]\n",
      "d01,d02,d12 = [0.971438171493861, 0.9714381714853582, 0.9714381714981242]\n"
     ]
    },
    {
     "name": "stderr",
     "output_type": "stream",
     "text": [
      "/cluster/home/mskrabulis/miniconda3/envs/quantech/lib/python3.9/site-packages/pyscf/symm/Dmatrix.py:156: RuntimeWarning: invalid value encountered in arccos\n",
      "  gamma = numpy.arccos(yp.dot(c2[1]))\n",
      "Progress:  91%|█████████ | 455/500 [2:56:30<17:39, 23.53s/it]"
     ]
    },
    {
     "name": "stdout",
     "output_type": "stream",
     "text": [
      "Time to: Calculate Ground State - 1.6s, Get Pauli Ops - 10.7s, Calculate Pauli Expectation Values - 11.0s, Calculate Covariance - 2.55s\n",
      "f0,f1,f2 = [1.2582846204195868e-09, 1.2582846202025201e-09, 1.2582846203724373e-09]\n",
      "d01,d02,d12 = [0.971845176443902, 0.9718451764351398, 0.9718451764482607]\n"
     ]
    },
    {
     "name": "stderr",
     "output_type": "stream",
     "text": [
      "/cluster/home/mskrabulis/miniconda3/envs/quantech/lib/python3.9/site-packages/pyscf/symm/Dmatrix.py:156: RuntimeWarning: invalid value encountered in arccos\n",
      "  gamma = numpy.arccos(yp.dot(c2[1]))\n",
      "Progress:  91%|█████████ | 456/500 [2:56:52<16:55, 23.08s/it]"
     ]
    },
    {
     "name": "stdout",
     "output_type": "stream",
     "text": [
      "Time to: Calculate Ground State - 1.6s, Get Pauli Ops - 6.98s, Calculate Pauli Expectation Values - 10.71s, Calculate Covariance - 2.72s\n",
      "f0,f1,f2 = [2.080401520820151e-09, 2.080401520649414e-09, 2.0804015208182294e-09]\n",
      "d01,d02,d12 = [0.9730979906928181, 0.9730979906838461, 0.9730979906972708]\n"
     ]
    },
    {
     "name": "stderr",
     "output_type": "stream",
     "text": [
      "Progress:  91%|█████████▏| 457/500 [2:57:21<17:43, 24.73s/it]"
     ]
    },
    {
     "name": "stdout",
     "output_type": "stream",
     "text": [
      "Time to: Calculate Ground State - 1.52s, Get Pauli Ops - 7.11s, Calculate Pauli Expectation Values - 16.91s, Calculate Covariance - 3.02s\n",
      "f0,f1,f2 = [3.5828132391106727e-10, 3.5828132407709214e-10, 3.58281324004613e-10]\n",
      "d01,d02,d12 = [0.9741490085141893, 0.9741490085050504, 0.9741490085186981]\n"
     ]
    },
    {
     "name": "stderr",
     "output_type": "stream",
     "text": [
      "Progress:  92%|█████████▏| 458/500 [2:57:48<17:48, 25.43s/it]"
     ]
    },
    {
     "name": "stdout",
     "output_type": "stream",
     "text": [
      "Time to: Calculate Ground State - 1.65s, Get Pauli Ops - 10.74s, Calculate Pauli Expectation Values - 11.72s, Calculate Covariance - 2.96s\n",
      "f0,f1,f2 = [1.1255824551976714e-10, 1.1255824530196379e-10, 1.1255824547540025e-10]\n",
      "d01,d02,d12 = [0.9752021288737747, 0.9752021288645415, 0.9752021288783116]\n"
     ]
    },
    {
     "name": "stderr",
     "output_type": "stream",
     "text": [
      "Progress:  92%|█████████▏| 459/500 [2:58:10<16:42, 24.46s/it]"
     ]
    },
    {
     "name": "stdout",
     "output_type": "stream",
     "text": [
      "Time to: Calculate Ground State - 1.57s, Get Pauli Ops - 6.57s, Calculate Pauli Expectation Values - 11.35s, Calculate Covariance - 2.69s\n",
      "f0,f1,f2 = [4.38950014562575e-10, 4.389500143629238e-10, 4.389500144503711e-10]\n",
      "d01,d02,d12 = [0.9763926729395449, 0.9763926729302698, 0.9763926729440695]\n"
     ]
    },
    {
     "name": "stderr",
     "output_type": "stream",
     "text": [
      "Progress:  92%|█████████▏| 460/500 [2:58:34<16:05, 24.13s/it]"
     ]
    },
    {
     "name": "stdout",
     "output_type": "stream",
     "text": [
      "Time to: Calculate Ground State - 1.54s, Get Pauli Ops - 6.76s, Calculate Pauli Expectation Values - 11.83s, Calculate Covariance - 3.19s\n",
      "f0,f1,f2 = [8.212213096353986e-10, 8.212213094174993e-10, 8.212213095427478e-10]\n",
      "d01,d02,d12 = [0.9778734035645547, 0.9778734035552976, 0.9778734035690358]\n"
     ]
    },
    {
     "name": "stderr",
     "output_type": "stream",
     "text": [
      "/cluster/home/mskrabulis/miniconda3/envs/quantech/lib/python3.9/site-packages/pyscf/symm/Dmatrix.py:156: RuntimeWarning: invalid value encountered in arccos\n",
      "  gamma = numpy.arccos(yp.dot(c2[1]))\n",
      "Progress:  92%|█████████▏| 461/500 [2:58:55<15:06, 23.25s/it]"
     ]
    },
    {
     "name": "stdout",
     "output_type": "stream",
     "text": [
      "Time to: Calculate Ground State - 1.69s, Get Pauli Ops - 5.87s, Calculate Pauli Expectation Values - 10.85s, Calculate Covariance - 2.78s\n",
      "f0,f1,f2 = [9.80167019944684e-10, 9.801670200911134e-10, 9.801670200001333e-10]\n",
      "d01,d02,d12 = [0.9788846861173727, 0.9788846861081691, 0.9788846861217727]\n"
     ]
    },
    {
     "name": "stderr",
     "output_type": "stream",
     "text": [
      "/cluster/home/mskrabulis/miniconda3/envs/quantech/lib/python3.9/site-packages/pyscf/symm/Dmatrix.py:156: RuntimeWarning: invalid value encountered in arccos\n",
      "  gamma = numpy.arccos(yp.dot(c2[1]))\n",
      "/cluster/home/mskrabulis/miniconda3/envs/quantech/lib/python3.9/site-packages/pyscf/symm/Dmatrix.py:156: RuntimeWarning: invalid value encountered in arccos\n",
      "  gamma = numpy.arccos(yp.dot(c2[1]))\n",
      "Progress:  92%|█████████▏| 462/500 [2:59:17<14:34, 23.02s/it]"
     ]
    },
    {
     "name": "stdout",
     "output_type": "stream",
     "text": [
      "Time to: Calculate Ground State - 1.39s, Get Pauli Ops - 6.91s, Calculate Pauli Expectation Values - 11.18s, Calculate Covariance - 3.0s\n",
      "f0,f1,f2 = [5.252005812727702e-10, 5.252005810184338e-10, 5.2520058119729e-10]\n",
      "d01,d02,d12 = [0.9800709574991991, 0.980070957490108, 0.980070957503485]\n"
     ]
    },
    {
     "name": "stderr",
     "output_type": "stream",
     "text": [
      "Progress:  93%|█████████▎| 463/500 [2:59:39<14:02, 22.77s/it]"
     ]
    },
    {
     "name": "stdout",
     "output_type": "stream",
     "text": [
      "Time to: Calculate Ground State - 1.58s, Get Pauli Ops - 5.85s, Calculate Pauli Expectation Values - 11.72s, Calculate Covariance - 3.0s\n",
      "f0,f1,f2 = [1.7485036560380279e-09, 1.7485036558313018e-09, 1.7485036559501331e-09]\n",
      "d01,d02,d12 = [0.9819323001117015, 0.9819323001027505, 0.981932300115848]\n"
     ]
    },
    {
     "name": "stderr",
     "output_type": "stream",
     "text": [
      "Progress:  93%|█████████▎| 464/500 [3:00:05<14:09, 23.60s/it]"
     ]
    },
    {
     "name": "stdout",
     "output_type": "stream",
     "text": [
      "Time to: Calculate Ground State - 1.54s, Get Pauli Ops - 9.72s, Calculate Pauli Expectation Values - 11.17s, Calculate Covariance - 3.1s\n",
      "f0,f1,f2 = [6.540961368132638e-10, 6.540961366127996e-10, 6.540961367636277e-10]\n",
      "d01,d02,d12 = [0.9839860571188368, 0.9839860571100779, 0.9839860571228107]\n"
     ]
    },
    {
     "name": "stderr",
     "output_type": "stream",
     "text": [
      "Progress:  93%|█████████▎| 465/500 [3:00:29<13:50, 23.73s/it]"
     ]
    },
    {
     "name": "stdout",
     "output_type": "stream",
     "text": [
      "Time to: Calculate Ground State - 1.6s, Get Pauli Ops - 9.22s, Calculate Pauli Expectation Values - 10.94s, Calculate Covariance - 2.28s\n",
      "f0,f1,f2 = [1.1319454501380713e-09, 1.1319454503253572e-09, 1.131945450215321e-09]\n",
      "d01,d02,d12 = [0.9854831122855258, 0.9854831122770148, 0.9854831122892879]\n"
     ]
    },
    {
     "name": "stderr",
     "output_type": "stream",
     "text": [
      "Progress:  93%|█████████▎| 466/500 [3:00:50<12:57, 22.87s/it]"
     ]
    },
    {
     "name": "stdout",
     "output_type": "stream",
     "text": [
      "Time to: Calculate Ground State - 0.9s, Get Pauli Ops - 6.1s, Calculate Pauli Expectation Values - 11.94s, Calculate Covariance - 1.9s\n",
      "f0,f1,f2 = [2.8875441019201434e-11, 2.8875441233162747e-11, 2.8875441045059914e-11]\n",
      "d01,d02,d12 = [0.9869047007118029, 0.9869047007036089, 0.9869047007153372]\n"
     ]
    },
    {
     "name": "stderr",
     "output_type": "stream",
     "text": [
      "Progress:  93%|█████████▎| 467/500 [3:01:15<13:00, 23.66s/it]"
     ]
    },
    {
     "name": "stdout",
     "output_type": "stream",
     "text": [
      "Time to: Calculate Ground State - 1.58s, Get Pauli Ops - 9.97s, Calculate Pauli Expectation Values - 11.17s, Calculate Covariance - 2.77s\n",
      "f0,f1,f2 = [1.0313646472294616e-09, 1.031364647408594e-09, 1.0313646472882322e-09]\n",
      "d01,d02,d12 = [0.9878381298865736, 0.9878381298787536, 0.9878381298898615]\n"
     ]
    },
    {
     "name": "stderr",
     "output_type": "stream",
     "text": [
      "/cluster/home/mskrabulis/miniconda3/envs/quantech/lib/python3.9/site-packages/pyscf/symm/Dmatrix.py:156: RuntimeWarning: invalid value encountered in arccos\n",
      "  gamma = numpy.arccos(yp.dot(c2[1]))\n",
      "/cluster/home/mskrabulis/miniconda3/envs/quantech/lib/python3.9/site-packages/pyscf/symm/Dmatrix.py:156: RuntimeWarning: invalid value encountered in arccos\n",
      "  gamma = numpy.arccos(yp.dot(c2[1]))\n",
      "Progress:  94%|█████████▎| 468/500 [3:01:39<12:35, 23.60s/it]"
     ]
    },
    {
     "name": "stdout",
     "output_type": "stream",
     "text": [
      "Time to: Calculate Ground State - 1.59s, Get Pauli Ops - 6.81s, Calculate Pauli Expectation Values - 12.0s, Calculate Covariance - 3.04s\n",
      "f0,f1,f2 = [2.2385348902255812e-10, 2.2385348886637996e-10, 2.238534889973636e-10]\n",
      "d01,d02,d12 = [0.9888248447954475, 0.9888248447880528, 0.9888248447984709]\n"
     ]
    },
    {
     "name": "stderr",
     "output_type": "stream",
     "text": [
      "/cluster/home/mskrabulis/miniconda3/envs/quantech/lib/python3.9/site-packages/pyscf/symm/Dmatrix.py:156: RuntimeWarning: invalid value encountered in arccos\n",
      "  gamma = numpy.arccos(yp.dot(c2[1]))\n",
      "Progress:  94%|█████████▍| 469/500 [3:02:03<12:18, 23.82s/it]"
     ]
    },
    {
     "name": "stdout",
     "output_type": "stream",
     "text": [
      "Time to: Calculate Ground State - 1.52s, Get Pauli Ops - 7.1s, Calculate Pauli Expectation Values - 13.26s, Calculate Covariance - 2.46s\n",
      "f0,f1,f2 = [8.125787841270365e-10, 8.12578783914525e-10, 8.125787840233644e-10]\n",
      "d01,d02,d12 = [0.9901068267526026, 0.9901068267456743, 0.9901068267553267]\n"
     ]
    },
    {
     "name": "stderr",
     "output_type": "stream",
     "text": [
      "/cluster/home/mskrabulis/miniconda3/envs/quantech/lib/python3.9/site-packages/pyscf/symm/Dmatrix.py:156: RuntimeWarning: invalid value encountered in arccos\n",
      "  gamma = numpy.arccos(yp.dot(c2[1]))\n",
      "Progress:  94%|█████████▍| 470/500 [3:02:29<12:10, 24.36s/it]"
     ]
    },
    {
     "name": "stdout",
     "output_type": "stream",
     "text": [
      "Time to: Calculate Ground State - 1.62s, Get Pauli Ops - 10.34s, Calculate Pauli Expectation Values - 11.32s, Calculate Covariance - 2.34s\n",
      "f0,f1,f2 = [2.404659016022008e-09, 2.404659016114211e-09, 2.404659016036972e-09]\n",
      "d01,d02,d12 = [0.9903368451451501, 0.9903368451387344, 0.9903368451475596]\n"
     ]
    },
    {
     "name": "stderr",
     "output_type": "stream",
     "text": [
      "/cluster/home/mskrabulis/miniconda3/envs/quantech/lib/python3.9/site-packages/pyscf/symm/Dmatrix.py:156: RuntimeWarning: invalid value encountered in arccos\n",
      "  gamma = numpy.arccos(yp.dot(c2[1]))\n",
      "Progress:  94%|█████████▍| 471/500 [3:02:54<11:54, 24.65s/it]"
     ]
    },
    {
     "name": "stdout",
     "output_type": "stream",
     "text": [
      "Time to: Calculate Ground State - 1.53s, Get Pauli Ops - 9.98s, Calculate Pauli Expectation Values - 10.85s, Calculate Covariance - 2.94s\n",
      "f0,f1,f2 = [7.548757663525478e-10, 7.548757665727426e-10, 7.548757664521399e-10]\n",
      "d01,d02,d12 = [0.990243940305458, 0.9902439402995924, 0.990243940307518]\n"
     ]
    },
    {
     "name": "stderr",
     "output_type": "stream",
     "text": [
      "Progress:  94%|█████████▍| 472/500 [3:03:22<11:55, 25.54s/it]"
     ]
    },
    {
     "name": "stdout",
     "output_type": "stream",
     "text": [
      "Time to: Calculate Ground State - 1.57s, Get Pauli Ops - 7.09s, Calculate Pauli Expectation Values - 15.83s, Calculate Covariance - 3.11s\n",
      "f0,f1,f2 = [8.852579691611193e-10, 8.852579690407673e-10, 8.852579691296575e-10]\n",
      "d01,d02,d12 = [0.9905222352766073, 0.9905222352713123, 0.9905222352782967]\n"
     ]
    },
    {
     "name": "stderr",
     "output_type": "stream",
     "text": [
      "Progress:  95%|█████████▍| 473/500 [3:03:48<11:34, 25.72s/it]"
     ]
    },
    {
     "name": "stdout",
     "output_type": "stream",
     "text": [
      "Time to: Calculate Ground State - 1.68s, Get Pauli Ops - 10.59s, Calculate Pauli Expectation Values - 11.22s, Calculate Covariance - 2.63s\n",
      "f0,f1,f2 = [2.591589264211085e-10, 2.591589266189269e-10, 2.591589264544125e-10]\n",
      "d01,d02,d12 = [0.9906812142679602, 0.9906812142632901, 0.9906812142692539]\n"
     ]
    },
    {
     "name": "stderr",
     "output_type": "stream",
     "text": [
      "Progress:  95%|█████████▍| 474/500 [3:04:13<11:02, 25.46s/it]"
     ]
    },
    {
     "name": "stdout",
     "output_type": "stream",
     "text": [
      "Time to: Calculate Ground State - 1.58s, Get Pauli Ops - 9.01s, Calculate Pauli Expectation Values - 11.21s, Calculate Covariance - 3.05s\n",
      "f0,f1,f2 = [1.1632135972395402e-09, 1.1632135971289722e-09, 1.1632135971641534e-09]\n",
      "d01,d02,d12 = [0.9913160256729505, 0.9913160256689219, 0.9913160256738344]\n"
     ]
    },
    {
     "name": "stderr",
     "output_type": "stream",
     "text": [
      "/cluster/home/mskrabulis/miniconda3/envs/quantech/lib/python3.9/site-packages/pyscf/symm/Dmatrix.py:156: RuntimeWarning: invalid value encountered in arccos\n",
      "  gamma = numpy.arccos(yp.dot(c2[1]))\n",
      "/cluster/home/mskrabulis/miniconda3/envs/quantech/lib/python3.9/site-packages/pyscf/symm/Dmatrix.py:156: RuntimeWarning: invalid value encountered in arccos\n",
      "  gamma = numpy.arccos(yp.dot(c2[1]))\n",
      "Progress:  95%|█████████▌| 475/500 [3:04:37<10:29, 25.19s/it]"
     ]
    },
    {
     "name": "stdout",
     "output_type": "stream",
     "text": [
      "Time to: Calculate Ground State - 1.57s, Get Pauli Ops - 6.94s, Calculate Pauli Expectation Values - 13.7s, Calculate Covariance - 2.31s\n",
      "f0,f1,f2 = [3.515687103379594e-10, 3.5156871021756117e-10, 3.51568710337151e-10]\n",
      "d01,d02,d12 = [0.9920697718572733, 0.9920697718539219, 0.9920697718577483]\n"
     ]
    },
    {
     "name": "stderr",
     "output_type": "stream",
     "text": [
      "Progress:  95%|█████████▌| 476/500 [3:04:58<09:30, 23.76s/it]"
     ]
    },
    {
     "name": "stdout",
     "output_type": "stream",
     "text": [
      "Time to: Calculate Ground State - 0.98s, Get Pauli Ops - 5.75s, Calculate Pauli Expectation Values - 11.14s, Calculate Covariance - 2.57s\n",
      "f0,f1,f2 = [1.0567465958172916e-09, 1.056746595866585e-09, 1.0567465958120024e-09]\n",
      "d01,d02,d12 = [0.9923531527663059, 0.992353152763653, 0.992353152766371]\n"
     ]
    },
    {
     "name": "stderr",
     "output_type": "stream",
     "text": [
      "/cluster/home/mskrabulis/miniconda3/envs/quantech/lib/python3.9/site-packages/pyscf/symm/Dmatrix.py:156: RuntimeWarning: invalid value encountered in arccos\n",
      "  gamma = numpy.arccos(yp.dot(c2[1]))\n",
      "Progress:  95%|█████████▌| 477/500 [3:05:21<09:01, 23.53s/it]"
     ]
    },
    {
     "name": "stdout",
     "output_type": "stream",
     "text": [
      "Time to: Calculate Ground State - 0.97s, Get Pauli Ops - 8.8s, Calculate Pauli Expectation Values - 10.71s, Calculate Covariance - 2.5s\n",
      "f0,f1,f2 = [6.510586952258813e-10, 6.510586951913152e-10, 6.510586952373479e-10]\n",
      "d01,d02,d12 = [0.9928946174669653, 0.9928946174650268, 0.9928946174666219]\n"
     ]
    },
    {
     "name": "stderr",
     "output_type": "stream",
     "text": [
      "Progress:  96%|█████████▌| 478/500 [3:05:44<08:33, 23.36s/it]"
     ]
    },
    {
     "name": "stdout",
     "output_type": "stream",
     "text": [
      "Time to: Calculate Ground State - 0.92s, Get Pauli Ops - 9.22s, Calculate Pauli Expectation Values - 10.92s, Calculate Covariance - 1.9s\n",
      "f0,f1,f2 = [1.257827113898497e-09, 1.2578271138808315e-09, 1.2578271139265444e-09]\n",
      "d01,d02,d12 = [0.9939349481583548, 0.9939349481571511, 0.9939349481576069]\n"
     ]
    },
    {
     "name": "stderr",
     "output_type": "stream",
     "text": [
      "/cluster/home/mskrabulis/miniconda3/envs/quantech/lib/python3.9/site-packages/pyscf/symm/Dmatrix.py:156: RuntimeWarning: invalid value encountered in arccos\n",
      "  gamma = numpy.arccos(yp.dot(c2[1]))\n",
      "Progress:  96%|█████████▌| 479/500 [3:06:08<08:17, 23.70s/it]"
     ]
    },
    {
     "name": "stdout",
     "output_type": "stream",
     "text": [
      "Time to: Calculate Ground State - 1.5s, Get Pauli Ops - 6.28s, Calculate Pauli Expectation Values - 14.17s, Calculate Covariance - 2.53s\n",
      "f0,f1,f2 = [1.377639975539747e-10, 1.3776399757851582e-10, 1.3776399757372813e-10]\n",
      "d01,d02,d12 = [0.9948740138910388, 0.9948740138905882, 0.9948740138898842]\n"
     ]
    },
    {
     "name": "stderr",
     "output_type": "stream",
     "text": [
      "Progress:  96%|█████████▌| 480/500 [3:06:34<08:05, 24.25s/it]"
     ]
    },
    {
     "name": "stdout",
     "output_type": "stream",
     "text": [
      "Time to: Calculate Ground State - 1.64s, Get Pauli Ops - 9.52s, Calculate Pauli Expectation Values - 11.31s, Calculate Covariance - 3.05s\n",
      "f0,f1,f2 = [1.0904273187524282e-09, 1.0904273187121772e-09, 1.0904273186823662e-09]\n",
      "d01,d02,d12 = [0.9953208845113958, 0.9953208845117092, 0.9953208845098513]\n"
     ]
    },
    {
     "name": "stderr",
     "output_type": "stream",
     "text": [
      "Progress:  96%|█████████▌| 481/500 [3:07:00<07:52, 24.85s/it]"
     ]
    },
    {
     "name": "stdout",
     "output_type": "stream",
     "text": [
      "Time to: Calculate Ground State - 1.48s, Get Pauli Ops - 6.76s, Calculate Pauli Expectation Values - 14.94s, Calculate Covariance - 3.06s\n",
      "f0,f1,f2 = [2.686114364229462e-10, 2.6861143648559554e-10, 2.6861143640825173e-10]\n",
      "d01,d02,d12 = [0.99586024400173, 0.9958602440027998, 0.9958602439997907]\n"
     ]
    },
    {
     "name": "stderr",
     "output_type": "stream",
     "text": [
      "Progress:  96%|█████████▋| 482/500 [3:07:22<07:10, 23.90s/it]"
     ]
    },
    {
     "name": "stdout",
     "output_type": "stream",
     "text": [
      "Time to: Calculate Ground State - 1.6s, Get Pauli Ops - 7.02s, Calculate Pauli Expectation Values - 10.83s, Calculate Covariance - 2.22s\n",
      "f0,f1,f2 = [9.299880828260608e-10, 9.29988082774734e-10, 9.299880828236038e-10]\n",
      "d01,d02,d12 = [0.995990916829948, 0.9959909168317598, 0.9959909168276234]\n"
     ]
    },
    {
     "name": "stderr",
     "output_type": "stream",
     "text": [
      "Progress:  97%|█████████▋| 483/500 [3:07:44<06:39, 23.47s/it]"
     ]
    },
    {
     "name": "stdout",
     "output_type": "stream",
     "text": [
      "Time to: Calculate Ground State - 1.56s, Get Pauli Ops - 7.04s, Calculate Pauli Expectation Values - 10.86s, Calculate Covariance - 3.01s\n",
      "f0,f1,f2 = [4.077495478069214e-10, 4.0774954777205646e-10, 4.0774954782534064e-10]\n",
      "d01,d02,d12 = [0.9959468889876181, 0.9959468889901536, 0.9959468889848998]\n"
     ]
    },
    {
     "name": "stderr",
     "output_type": "stream",
     "text": [
      "/cluster/home/mskrabulis/miniconda3/envs/quantech/lib/python3.9/site-packages/pyscf/symm/Dmatrix.py:156: RuntimeWarning: invalid value encountered in arccos\n",
      "  gamma = numpy.arccos(yp.dot(c2[1]))\n",
      "Progress:  97%|█████████▋| 484/500 [3:08:06<06:08, 23.03s/it]"
     ]
    },
    {
     "name": "stdout",
     "output_type": "stream",
     "text": [
      "Time to: Calculate Ground State - 1.57s, Get Pauli Ops - 5.99s, Calculate Pauli Expectation Values - 11.55s, Calculate Covariance - 2.87s\n",
      "f0,f1,f2 = [5.644748713965384e-10, 5.644748713144198e-10, 5.644748713264831e-10]\n",
      "d01,d02,d12 = [0.9956705485425907, 0.9956705485458511, 0.9956705485395018]\n"
     ]
    },
    {
     "name": "stderr",
     "output_type": "stream",
     "text": [
      "Progress:  97%|█████████▋| 485/500 [3:08:32<06:00, 24.02s/it]"
     ]
    },
    {
     "name": "stdout",
     "output_type": "stream",
     "text": [
      "Time to: Calculate Ground State - 1.66s, Get Pauli Ops - 10.43s, Calculate Pauli Expectation Values - 11.01s, Calculate Covariance - 3.21s\n",
      "f0,f1,f2 = [2.5101920287441854e-10, 2.510192027842457e-10, 2.5101920281706825e-10]\n",
      "d01,d02,d12 = [0.9953017868380012, 0.9953017868419707, 0.99530178683456]\n"
     ]
    },
    {
     "name": "stderr",
     "output_type": "stream",
     "text": [
      "Progress:  97%|█████████▋| 486/500 [3:08:56<05:35, 23.94s/it]"
     ]
    },
    {
     "name": "stdout",
     "output_type": "stream",
     "text": [
      "Time to: Calculate Ground State - 1.6s, Get Pauli Ops - 6.43s, Calculate Pauli Expectation Values - 12.65s, Calculate Covariance - 3.07s\n",
      "f0,f1,f2 = [1.5599717936671064e-09, 1.559971793595732e-09, 1.5599717936508721e-09]\n",
      "d01,d02,d12 = [0.9943014873675254, 0.9943014873721825, 0.9943014873637583]\n"
     ]
    },
    {
     "name": "stderr",
     "output_type": "stream",
     "text": [
      "Progress:  97%|█████████▋| 487/500 [3:09:18<05:02, 23.29s/it]"
     ]
    },
    {
     "name": "stdout",
     "output_type": "stream",
     "text": [
      "Time to: Calculate Ground State - 1.62s, Get Pauli Ops - 6.09s, Calculate Pauli Expectation Values - 11.12s, Calculate Covariance - 2.93s\n",
      "f0,f1,f2 = [6.766809204332637e-10, 6.766809202524082e-10, 6.766809203453603e-10]\n",
      "d01,d02,d12 = [0.9930628726702664, 0.9930628726755727, 0.993062872666211]\n"
     ]
    },
    {
     "name": "stderr",
     "output_type": "stream",
     "text": [
      "Progress:  98%|█████████▊| 488/500 [3:09:40<04:34, 22.86s/it]"
     ]
    },
    {
     "name": "stdout",
     "output_type": "stream",
     "text": [
      "Time to: Calculate Ground State - 1.59s, Get Pauli Ops - 6.04s, Calculate Pauli Expectation Values - 11.6s, Calculate Covariance - 2.63s\n",
      "f0,f1,f2 = [1.1331150351275273e-09, 1.1331150350091455e-09, 1.1331150350729942e-09]\n",
      "d01,d02,d12 = [0.9914066908938858, 0.9914066908998046, 0.9914066908895791]\n"
     ]
    },
    {
     "name": "stderr",
     "output_type": "stream",
     "text": [
      "Progress:  98%|█████████▊| 489/500 [3:10:03<04:11, 22.85s/it]"
     ]
    },
    {
     "name": "stdout",
     "output_type": "stream",
     "text": [
      "Time to: Calculate Ground State - 1.48s, Get Pauli Ops - 6.95s, Calculate Pauli Expectation Values - 11.62s, Calculate Covariance - 2.74s\n",
      "f0,f1,f2 = [1.546017041275794e-10, 1.546017042563195e-10, 1.546017041607132e-10]\n",
      "d01,d02,d12 = [0.9898848744030853, 0.9898848744095842, 0.9898848743985452]\n"
     ]
    },
    {
     "name": "stderr",
     "output_type": "stream",
     "text": [
      "/cluster/home/mskrabulis/miniconda3/envs/quantech/lib/python3.9/site-packages/pyscf/symm/Dmatrix.py:156: RuntimeWarning: invalid value encountered in arccos\n",
      "  gamma = numpy.arccos(yp.dot(c2[1]))\n",
      "Progress:  98%|█████████▊| 490/500 [3:10:29<03:58, 23.89s/it]"
     ]
    },
    {
     "name": "stdout",
     "output_type": "stream",
     "text": [
      "Time to: Calculate Ground State - 1.57s, Get Pauli Ops - 6.98s, Calculate Pauli Expectation Values - 14.96s, Calculate Covariance - 2.78s\n",
      "f0,f1,f2 = [1.4765627672419216e-10, 1.4765627688960755e-10, 1.4765627681602397e-10]\n",
      "d01,d02,d12 = [0.9884888459609553, 0.9884888459679868, 0.9884888459562182]\n"
     ]
    },
    {
     "name": "stderr",
     "output_type": "stream",
     "text": [
      "Progress:  98%|█████████▊| 491/500 [3:10:56<03:44, 24.99s/it]"
     ]
    },
    {
     "name": "stdout",
     "output_type": "stream",
     "text": [
      "Time to: Calculate Ground State - 1.57s, Get Pauli Ops - 6.97s, Calculate Pauli Expectation Values - 16.13s, Calculate Covariance - 2.88s\n",
      "f0,f1,f2 = [1.3725122475585135e-09, 1.3725122473261533e-09, 1.3725122475444094e-09]\n",
      "d01,d02,d12 = [0.9865826124084986, 0.986582612415989, 0.9865826124035989]\n"
     ]
    },
    {
     "name": "stderr",
     "output_type": "stream",
     "text": [
      "Progress:  98%|█████████▊| 492/500 [3:11:17<03:09, 23.75s/it]"
     ]
    },
    {
     "name": "stdout",
     "output_type": "stream",
     "text": [
      "Time to: Calculate Ground State - 1.58s, Get Pauli Ops - 6.06s, Calculate Pauli Expectation Values - 10.91s, Calculate Covariance - 2.29s\n",
      "f0,f1,f2 = [6.79367204955877e-10, 6.793672047659963e-10, 6.793672048784082e-10]\n",
      "d01,d02,d12 = [0.9844753724919876, 0.9844753724998956, 0.9844753724869623]\n"
     ]
    },
    {
     "name": "stderr",
     "output_type": "stream",
     "text": [
      "Progress:  99%|█████████▊| 493/500 [3:11:39<02:42, 23.20s/it]"
     ]
    },
    {
     "name": "stdout",
     "output_type": "stream",
     "text": [
      "Time to: Calculate Ground State - 1.56s, Get Pauli Ops - 6.43s, Calculate Pauli Expectation Values - 10.98s, Calculate Covariance - 2.95s\n",
      "f0,f1,f2 = [4.222509357714048e-10, 4.222509359430998e-10, 4.2225093583887947e-10]\n",
      "d01,d02,d12 = [0.9826326758829131, 0.982632675891186, 0.9826326758777713]\n"
     ]
    },
    {
     "name": "stderr",
     "output_type": "stream",
     "text": [
      "/cluster/home/mskrabulis/miniconda3/envs/quantech/lib/python3.9/site-packages/pyscf/symm/Dmatrix.py:156: RuntimeWarning: invalid value encountered in arccos\n",
      "  gamma = numpy.arccos(yp.dot(c2[1]))\n",
      "/cluster/home/mskrabulis/miniconda3/envs/quantech/lib/python3.9/site-packages/pyscf/symm/Dmatrix.py:156: RuntimeWarning: invalid value encountered in arccos\n",
      "  gamma = numpy.arccos(yp.dot(c2[1]))\n",
      "Progress:  99%|█████████▉| 494/500 [3:12:00<02:14, 22.37s/it]"
     ]
    },
    {
     "name": "stdout",
     "output_type": "stream",
     "text": [
      "Time to: Calculate Ground State - 1.49s, Get Pauli Ops - 6.29s, Calculate Pauli Expectation Values - 10.89s, Calculate Covariance - 1.76s\n",
      "f0,f1,f2 = [1.8932575057342242e-09, 1.893257505940888e-09, 1.8932575057728676e-09]\n",
      "d01,d02,d12 = [0.9816535735550421, 0.9816535735636387, 0.9816535735497954]\n"
     ]
    },
    {
     "name": "stderr",
     "output_type": "stream",
     "text": [
      "Progress:  99%|█████████▉| 495/500 [3:12:22<01:51, 22.21s/it]"
     ]
    },
    {
     "name": "stdout",
     "output_type": "stream",
     "text": [
      "Time to: Calculate Ground State - 0.95s, Get Pauli Ops - 6.69s, Calculate Pauli Expectation Values - 11.59s, Calculate Covariance - 2.59s\n",
      "f0,f1,f2 = [1.1315728205277716e-09, 1.131572820352112e-09, 1.1315728204561057e-09]\n",
      "d01,d02,d12 = [0.9802465514633998, 0.9802465514722586, 0.9802465514580815]\n"
     ]
    },
    {
     "name": "stderr",
     "output_type": "stream",
     "text": [
      "Progress:  99%|█████████▉| 496/500 [3:12:44<01:28, 22.15s/it]"
     ]
    },
    {
     "name": "stdout",
     "output_type": "stream",
     "text": [
      "Time to: Calculate Ground State - 1.58s, Get Pauli Ops - 6.95s, Calculate Pauli Expectation Values - 11.18s, Calculate Covariance - 2.3s\n",
      "f0,f1,f2 = [6.80890072023426e-10, 6.808900718181896e-10, 6.808900720057255e-10]\n",
      "d01,d02,d12 = [0.9786167340202037, 0.9786167340292384, 0.9786167340148334]\n"
     ]
    },
    {
     "name": "stderr",
     "output_type": "stream",
     "text": [
      "Progress:  99%|█████████▉| 497/500 [3:13:04<01:04, 21.50s/it]"
     ]
    },
    {
     "name": "stdout",
     "output_type": "stream",
     "text": [
      "Time to: Calculate Ground State - 1.57s, Get Pauli Ops - 5.78s, Calculate Pauli Expectation Values - 10.8s, Calculate Covariance - 1.83s\n",
      "f0,f1,f2 = [7.745224637871973e-10, 7.745224640134654e-10, 7.745224638882028e-10]\n",
      "d01,d02,d12 = [0.9773773723754509, 0.977377372384614, 0.9773773723700466]\n"
     ]
    },
    {
     "name": "stderr",
     "output_type": "stream",
     "text": [
      "/cluster/home/mskrabulis/miniconda3/envs/quantech/lib/python3.9/site-packages/pyscf/symm/Dmatrix.py:156: RuntimeWarning: invalid value encountered in arccos\n",
      "  gamma = numpy.arccos(yp.dot(c2[1]))\n",
      "Progress: 100%|█████████▉| 498/500 [3:13:27<00:44, 22.14s/it]"
     ]
    },
    {
     "name": "stdout",
     "output_type": "stream",
     "text": [
      "Time to: Calculate Ground State - 1.6s, Get Pauli Ops - 6.22s, Calculate Pauli Expectation Values - 13.08s, Calculate Covariance - 2.71s\n",
      "f0,f1,f2 = [9.973244392981126e-10, 9.973244395466407e-10, 9.973244393899249e-10]\n",
      "d01,d02,d12 = [0.9766043389786234, 0.9766043389878633, 0.9766043389732184]\n"
     ]
    },
    {
     "name": "stderr",
     "output_type": "stream",
     "text": [
      "Progress: 100%|█████████▉| 499/500 [3:13:48<00:21, 21.76s/it]"
     ]
    },
    {
     "name": "stdout",
     "output_type": "stream",
     "text": [
      "Time to: Calculate Ground State - 1.58s, Get Pauli Ops - 5.95s, Calculate Pauli Expectation Values - 11.13s, Calculate Covariance - 2.22s\n",
      "f0,f1,f2 = [4.836141155802058e-10, 4.836141158666018e-10, 4.836141156292954e-10]\n",
      "d01,d02,d12 = [0.9760647335381921, 0.9760647335474267, 0.9760647335328163]\n"
     ]
    },
    {
     "name": "stderr",
     "output_type": "stream",
     "text": [
      "Progress: 100%|██████████| 500/500 [3:14:09<00:00, 23.30s/it]"
     ]
    },
    {
     "name": "stdout",
     "output_type": "stream",
     "text": [
      "Time to: Calculate Ground State - 1.54s, Get Pauli Ops - 6.09s, Calculate Pauli Expectation Values - 10.83s, Calculate Covariance - 2.46s\n",
      "f0,f1,f2 = [8.047293155124986e-10, 8.047293157342844e-10, 8.047293155737465e-10]\n",
      "d01,d02,d12 = [0.9758818725695999, 0.9758818725787822, 0.9758818725642893]\n"
     ]
    },
    {
     "name": "stderr",
     "output_type": "stream",
     "text": [
      "\n"
     ]
    },
    {
     "data": {
      "image/png": "[encoded data removed]",
      "text/plain": [
       "<Figure size 640x480 with 1 Axes>"
      ]
     },
     "metadata": {},
     "output_type": "display_data"
    }
   ],
   "source": [
    "from matplotlib import pyplot as plt\n",
    "(distance01,distance02,distance12,times) = main()\n",
    "\n",
    "np_distance01 = np.array(distance01)\n",
    "np_distance02 = np.array(distance02)\n",
    "np_distance12 = np.array(distance12)\n",
    "\n",
    "plt.plot(times,np_distance01[:-1],label = 'd01')\n",
    "plt.plot(times,np_distance02[:-1],label = 'd02')\n",
    "plt.plot(times,np_distance12[:-1],label = 'd12')\n",
    "\n",
    "plt.title('Distances at time t')\n",
    "plt.xlabel('Time')\n",
    "plt.ylabel('Distance')\n",
    "plt.legend()\n",
    "plt.show()"
   ]
  },
  {
   "cell_type": "code",
   "execution_count": null,
   "id": "885910be",
   "metadata": {},
   "outputs": [],
   "source": []
  },
  {
   "cell_type": "code",
   "execution_count": null,
   "id": "abb94dec",
   "metadata": {},
   "outputs": [],
   "source": []
  }
 ],
 "metadata": {
  "kernelspec": {
   "display_name": "Python 3 (ipykernel)",
   "language": "python",
   "name": "python3"
  },
  "language_info": {
   "codemirror_mode": {
    "name": "ipython",
    "version": 3
   },
   "file_extension": ".py",
   "mimetype": "text/x-python",
   "name": "python",
   "nbconvert_exporter": "python",
   "pygments_lexer": "ipython3",
   "version": "3.9.15"
  }
 },
 "nbformat": 4,
 "nbformat_minor": 5
}
