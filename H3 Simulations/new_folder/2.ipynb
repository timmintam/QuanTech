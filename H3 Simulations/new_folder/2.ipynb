{
 "cells": [
  {
   "cell_type": "code",
   "execution_count": 1,
   "id": "fbc296ce",
   "metadata": {},
   "outputs": [],
   "source": [
    "import numpy as np\n",
    "import matplotlib.pyplot as plt\n",
    "\n",
    "from pyscf import ao2mo,gto, scf\n",
    "\n",
    "from typing import Tuple\n",
    "\n",
    "\n",
    "# qiskit\n",
    "from qiskit.algorithms import VQE\n",
    "from qiskit.algorithms.optimizers import COBYLA, SPSA, SLSQP, NELDER_MEAD\n",
    "from qiskit.algorithms import MinimumEigensolverResult\n",
    "\n",
    "from qiskit import IBMQ, BasicAer, Aer\n",
    "from qiskit.utils import QuantumInstance\n",
    "from qiskit.quantum_info.operators import Operator\n",
    "from qiskit.opflow import PauliExpectation, CircuitSampler, StateFn, CircuitStateFn\n",
    "from qiskit.opflow.primitive_ops import PauliOp, PauliSumOp\n",
    "from qiskit.quantum_info import Pauli, SparsePauliOp\n",
    "\n",
    "# qiskit nature\n",
    "from qiskit_nature.second_q.hamiltonians import ElectronicEnergy\n",
    "from qiskit_nature.second_q.mappers import ParityMapper, QubitConverter\n",
    "from qiskit_nature.second_q.problems import ElectronicStructureProblem\n",
    "from qiskit_nature.second_q.operators import FermionicOp\n",
    "from qiskit_nature.second_q.properties import ParticleNumber\n",
    "from qiskit_nature.second_q.transformers import FreezeCoreTransformer\n",
    "from qiskit_nature.second_q.circuit.library import UCCSD, HartreeFock\n",
    "from qiskit_nature.second_q.problems import ElectronicBasis\n",
    "from qiskit_nature.second_q.formats.molecule_info import MoleculeInfo\n",
    "from qiskit_nature.drivers import Molecule\n",
    "from qiskit_nature.drivers.second_quantization import (\n",
    "    ElectronicStructureMoleculeDriver, ElectronicStructureDriverType)\n",
    "\n",
    "from qiskit_nature.settings import settings\n",
    "settings.dict_aux_operators = True\n",
    "\n",
    "#from qiskit import IBMQ\n",
    "#from qiskit_nature.runtime import VQEClient\n",
    "#from qiskit.providers.ibmq import least_busy\n",
    "#from qiskit_ibm_runtime import QiskitRuntimeService, Estimator, Session\n",
    "\n",
    "# useful??\n",
    "#from qiskit_nature.algorithms import (GroundStateEigensolver,\n",
    "#                                      NumPyMinimumEigensolverFactory)\n",
    "from qiskit.circuit.library import EfficientSU2\n",
    "from qiskit.circuit.library import RealAmplitudes\n",
    "from qiskit.utils.mitigation import CompleteMeasFitter\n",
    "from qiskit.providers.aer.noise import NoiseModel\n",
    "from qiskit.providers.aer import QasmSimulator\n",
    "from qiskit import QuantumCircuit, transpile\n",
    "from qiskit.opflow import TwoQubitReduction\n",
    "\n",
    "def get_molecular_integrals(molecule):\n",
    "    '''\n",
    "    Calculates the 1-electron and 2-electron integrals.\n",
    "    \n",
    "    Args:   \n",
    "        molecule : Mole \n",
    "            Ccorresponds to the molecule.\n",
    "            \n",
    "    Returns:\n",
    "        h1_MO : ndarray\n",
    "                Tensor corresponding to the 1-electron integral in the molecular basis.\n",
    "        \n",
    "        h2_MO : ndarray\n",
    "                Tensor corresponding to the 2-electron integral in the molecular basis.\n",
    "\n",
    "        n_particles: Tuple[int, int]\n",
    "            Number of alpha and beta electrons.\n",
    "        \n",
    "        num_orb : int \n",
    "            Number of orbitals.\n",
    "\n",
    "        nuclear_repulsion_energy : float\n",
    "            Nuclear repulsion energy.\n",
    "    '''\n",
    "    \n",
    "    mf = scf.RHF(molecule).run()\n",
    "\n",
    "    # computing the 1e and 2e AO (atomic orbitals) integrals \n",
    "    h1 = molecule.intor_symmetric(\"int1e_nuc\") + molecule.intor_symmetric(\"int1e_kin\") \n",
    "    h2 = molecule.intor(\"int2e\")\n",
    "    # comment : add aosym (axis of symmetry) ???\n",
    "\n",
    "    # transformations from AO to MO (molecular orbitals)\n",
    "    h1_MO = np.einsum('pi,pq,qj->ij', mf.mo_coeff, h1, mf.mo_coeff)\n",
    "    h2_MO = ao2mo.get_mo_eri(h2, mf.mo_coeff)\n",
    "\n",
    "    #h2_MO = ao2mo.kernel(mol_h2, mf.mo_coeff, aosym=\"1\") #alternative\n",
    "\n",
    "    nuclear_repulsion_energy=molecule.energy_nuc()\n",
    "    num_particles = molecule.nelec\n",
    "    num_orb = h1.shape[0]\n",
    "\n",
    "    return h1_MO, h2_MO, num_particles, num_orb, nuclear_repulsion_energy\n",
    "\n",
    "\n",
    "def get_qubit_op(coordinates):\n",
    "    '''\n",
    "    Calculates the Hamiltonian as the sum of Pauli operators as a function\n",
    "    of the coordinates of the atoms.\n",
    "    \n",
    "    Args:\n",
    "        coordinates : ndarray\n",
    "            Array containing the positions of the atoms constituing the molecule.\n",
    "        \n",
    "    \n",
    "    Returns:\n",
    "        qubit_op : PauliSumOp\n",
    "            Sum of Pauli operators corresponding to the Hamiltonian.\n",
    "        \n",
    "        nelec : Tuple[int, int]\n",
    "            Number of alpha and beta electrons.\n",
    "        \n",
    "        norb : int \n",
    "            Number of orbitals.\n",
    "            \n",
    "        problem : ElectronicStructureProblem\n",
    "        \n",
    "        converter : QubitConverter\n",
    "    '''\n",
    "    \n",
    "    mol = gto.M(\n",
    "                atom = [['H',(coordinates[0], coordinates[1], 0.0)], \n",
    "                        ['H',(coordinates[2], coordinates[3], 0.0)],\n",
    "                        ['H',(coordinates[4], coordinates[5], 0.0)]],\n",
    "                basis = 'sto3g',\n",
    "                charge = 1,\n",
    "                spin = 0,\n",
    "                symmetry = True,\n",
    "                verbose = 2 # control the print level of PySCF globally\n",
    "    )\n",
    "\n",
    "    h1_MO,h2_MO,nelec,norb,ecore = get_molecular_integrals(mol)\n",
    "\n",
    "    # Define an ElectronicEnergy instance containing the 1e and 2e integrals\n",
    "    electronic_energy = ElectronicEnergy.from_raw_integrals(\n",
    "            h1_MO, ao2mo.restore(1, h2_MO, norb)\n",
    "        )\n",
    "    electronic_energy.nuclear_repulsion_energy = ecore\n",
    "\n",
    "    # Define an ElectronicStructureProblem\n",
    "    problem = ElectronicStructureProblem(electronic_energy)\n",
    "\n",
    "    second_q_ops = problem.second_q_ops()     # get second quantized operators\n",
    "    problem.num_spatial_orbitals = norb  # define number of orbitals\n",
    "    problem.num_particles = nelec        # define number of particles \n",
    "    \n",
    "    problem.basis = ElectronicBasis.MO \n",
    "    \n",
    "    problem.molecule=MoleculeInfo(symbols=[mol.atom_symbol(i) for i in range(mol.nbas)], \n",
    "                                  coords=mol.atom_coords())\n",
    "    FC_transformer=FreezeCoreTransformer(freeze_core=True)\n",
    "    problem = FC_transformer.transform(problem)\n",
    "    \n",
    "    # TODO we need to give info about the molecule to use FreezeCoreTransformer \n",
    "    # question : how to do it in a smart way ? at the initialization ??\n",
    "    \n",
    "    hamiltonian = second_q_ops[0]  # Set electronic part of Hamiltonian\n",
    "    hamiltonian = (hamiltonian + FermionicOp({\"\": ecore}, num_spin_orbitals=norb)) # add Nuclear Repulsion Energy\n",
    "    #print(\"Hamiltonian :\\n\", hamiltonian) # print for checking purposes\n",
    "    \n",
    "    mapper = ParityMapper()  # Set Mapper\n",
    "    \n",
    "    # Do two qubit reduction\n",
    "    converter = QubitConverter(mapper,two_qubit_reduction=True)\n",
    "    qubit_op = converter.convert(hamiltonian, nelec)\n",
    "    #print(\"q_op :\\n\", qubit_op) # print for checking purposes\n",
    "    \n",
    "\n",
    "    return qubit_op, nelec, norb, problem, converter\n",
    "\n",
    "def calc_ground_state(qubit_op,nelec,norb,problem,converter) :\n",
    "    '''\n",
    "    Calculates the ground state and the ground energy of the Hamiltonian.\n",
    "    \n",
    "    Args:\n",
    "        qubit_op : PauliSumOp\n",
    "            Sum of Pauli operators corresponding to the Hamiltonian.\n",
    "        \n",
    "        nelec : Tuple[int, int]\n",
    "            Number of alpha and beta electrons.\n",
    "        \n",
    "        norb : int \n",
    "            Number of orbitals.\n",
    "            \n",
    "        problem : ElectronicStructureProblem\n",
    "        \n",
    "        converter : QubitConverter\n",
    "        \n",
    "    \n",
    "    Returns:\n",
    "        ground_state : CircuitStateFn\n",
    "            Ground state of the Hamiltonian.\n",
    "            \n",
    "        min_eng : float\n",
    "            Ground energy of the Hamiltonian.\n",
    "    '''\n",
    "\n",
    "    backend = BasicAer.get_backend(\"statevector_simulator\")\n",
    "    quantum_instance = QuantumInstance(backend)\n",
    "    optimizer = SLSQP(maxiter=400)\n",
    "\n",
    "    init_state = HartreeFock(num_spatial_orbitals=norb, \n",
    "                                num_particles=nelec, \n",
    "                                qubit_converter=converter\n",
    "                            )\n",
    "    \n",
    "    var_form = UCCSD(qubit_converter=converter,\n",
    "                        num_particles=nelec,\n",
    "                        num_spatial_orbitals=norb, \n",
    "                        initial_state=init_state\n",
    "                        )\n",
    "\n",
    "    vqe = VQE(var_form, optimizer, quantum_instance=quantum_instance) \n",
    "    vqe_result = vqe.compute_minimum_eigenvalue(qubit_op)\n",
    "    min_eng = vqe_result.eigenvalue.real\n",
    "    final_params = vqe_result.optimal_parameters \n",
    "\n",
    "    vqe_ground = vqe.ansatz.bind_parameters(final_params) \n",
    "#     vqe_ground_state = CircuitStateFn(vqe_ground)\n",
    "    \n",
    "    return vqe_ground, min_eng"
   ]
  },
  {
   "cell_type": "code",
   "execution_count": 2,
   "id": "3f5daa79",
   "metadata": {},
   "outputs": [],
   "source": [
    "Ha = 4.36e-18\n",
    "angst = 1.0e-10\n",
    "dR = 0.01 #removed the angst, since coordinates are given in angst\n",
    "\n",
    "\n",
    "from qiskit.opflow import I, X, Y, Z\n",
    "from qiskit.opflow.primitive_ops import PauliOp\n",
    "from qiskit.quantum_info import Pauli\n",
    "#from hamiltonian import calc_ground_state, get_qubit_op\n",
    "import numpy as np\n",
    "from qiskit.utils import QuantumInstance\n",
    "from qiskit.opflow import PauliExpectation, CircuitSampler, StateFn, CircuitStateFn\n",
    "from qiskit import IBMQ, BasicAer, Aer\n",
    "\n",
    "import time #to see which part of code takes the longest\n",
    "import multiprocessing\n",
    "\n",
    "\n",
    "def expectation_exact(psi_0,op):\n",
    "    \n",
    "    return psi_0.adjoint().compose(op).compose(psi_0).eval().real\n",
    "    \n",
    "    \n",
    "    \n",
    "\n",
    "\n",
    "\n",
    "#calculate centre of mass (currently for equal particle masses)\n",
    "def calc_COM(coordinates):\n",
    "    #print(coordinates)\n",
    "    r_array = np.array_split(coordinates,3)\n",
    "    COM = (r_array[0] + r_array[1] + r_array[2])/3\n",
    "    \n",
    "    return COM\n",
    "\n",
    "#task to calculate expectation value\n",
    "def task1(string, q_instance, psi_0):\n",
    "\n",
    "    Obs = PauliOp(Pauli(string))\n",
    "    measurable_expression = StateFn(Obs, is_measurement=True).compose(psi_0)\n",
    "    expectation = PauliExpectation().convert(measurable_expression)  \n",
    "    sampler = CircuitSampler(q_instance).convert(expectation) \n",
    "    E = sampler.eval().real\n",
    "    E_ex = expectation_exact(psi_0,Obs)\n",
    "        \n",
    "    return (E,E_ex)\n",
    "\n",
    "#task to calculate operator from coordinates\n",
    "def task2(coordinates):\n",
    "    \n",
    "    #get qubit operators coresponding to H+ (hamiltonian for atomic distances R + dR)\n",
    "    (qubit_op_plus, num_part_plus, num_orb_plus, problem_plus, converter_plus) = get_qubit_op(coordinates[0])\n",
    "    #get qubit operators coresponding to H- (hamiltonian for atomic distances R - dR)\n",
    "    (qubit_op_minus, num_part_minus, num_orb_minus, problem_minus, converter_minus) = get_qubit_op(coordinates[1])\n",
    "        \n",
    "    qubit_op_plus = qubit_op_plus #TODO:number of I's needs to be changed according to number of qubits\n",
    "    qubit_op_minus = qubit_op_minus\n",
    "       \n",
    "    #op =  (-(qubit_op_plus - qubit_op_minus)).reduce()\n",
    "    op =  -(qubit_op_plus - qubit_op_minus)\n",
    "\n",
    "                    \n",
    "    op_list = op.primitive.to_list() #list containing Pauli operators in support and corresponding coeffs\n",
    "    #print(op_list)    \n",
    "    #construct dict from list\n",
    "    op_dict = {}\n",
    "    for (PauliString,coeff) in op_list:\n",
    "\n",
    "        if PauliString in op_dict:\n",
    "            op_dict[PauliString] += coeff\n",
    "        else:\n",
    "            op_dict[PauliString] = coeff\n",
    "    \n",
    "    return op, op_dict\n",
    " \n",
    "def parallel_operators(coordinates,basis_set):\n",
    "    \n",
    "    \n",
    "    coordinate_list = []\n",
    "    \n",
    "    v0_normed = basis_set[0]\n",
    "    v0_orth = basis_set[1]\n",
    "    \n",
    "    v1_normed = basis_set[2]\n",
    "    v1_orth = basis_set[3]\n",
    "\n",
    "    v2_normed = basis_set[4]\n",
    "    v2_orth = basis_set[5]\n",
    "    \n",
    "    displ_coords_0_a = np.array([v0_normed[0]*dR,v0_normed[1]*dR,0,0,0,0])\n",
    "    displ_coords_0_b = np.array([v0_orth[0]*dR,v0_orth[1]*dR,0,0,0,0])\n",
    "    displ_coords_1_a = np.array([0,0,v1_normed[0]*dR,v1_normed[1]*dR,0,0])\n",
    "    displ_coords_1_b = np.array([0,0,v1_orth[0]*dR,v1_orth[1]*dR,0,0])\n",
    "    displ_coords_2_a = np.array([0,0,0,0,v2_normed[0]*dR,v2_normed[1]*dR])\n",
    "    displ_coords_2_b = np.array([0,0,0,0,v2_orth[0]*dR,v2_orth[1]*dR])\n",
    "    #print(displ_coords_0_a)\n",
    "    #print(displ_coords_0_b)\n",
    "    #print(displ_coords_1_a)\n",
    "    #print(displ_coords_1_b)\n",
    "    #print(displ_coords_2_a)\n",
    "    #print(displ_coords_2_b)\n",
    "\n",
    "    coordinate_list.append([coordinates + displ_coords_0_a,coordinates - displ_coords_0_a])\n",
    "    coordinate_list.append([coordinates + displ_coords_0_b,coordinates - displ_coords_0_b])\n",
    "    coordinate_list.append([coordinates + displ_coords_1_a,coordinates - displ_coords_1_a])\n",
    "    coordinate_list.append([coordinates + displ_coords_1_b,coordinates - displ_coords_1_b])\n",
    "    coordinate_list.append([coordinates + displ_coords_2_a,coordinates - displ_coords_2_a])\n",
    "    coordinate_list.append([coordinates + displ_coords_2_b,coordinates - displ_coords_2_b])\n",
    "    \n",
    "    #dR_list = v0_normed.tolist() + v1_normed.tolist() + v2_normed.tolist()\n",
    "    \n",
    "    dR_list = [dR,dR,dR,dR,dR,dR]\n",
    "    #print(dR_list)\n",
    "    #for i in range(len(coordinates)):\n",
    "        \n",
    "        #coordinate_list.append([coordinates[0:i]+[(coordinates[i]+dR_list[i])]+coordinates[i+1:],coordinates[0:i]+[(coordinates[i]-dR_list[i])]+coordinates[i+1:]])\n",
    "    \n",
    "    #print(coordinate_list)\n",
    "    with multiprocessing.Pool() as pool:\n",
    "         ops,op_coeffs = zip(*pool.map(task2, coordinate_list))\n",
    "    \n",
    "    #print(ops)\n",
    "    return ops, op_coeffs\n",
    "\n",
    "def sequential_operators(coordinates):\n",
    "    ops = []\n",
    "    op_coeffs = []\n",
    "    \n",
    "    for i in range(len(coordinates)):\n",
    "        \n",
    "        #get qubit operators coresponding to H+ (hamiltonian for atomic distances R + dR)\n",
    "        (qubit_op_plus, num_part_plus, num_orb_plus, problem_plus, converter_plus) = get_qubit_op(coordinates[0:i]+[(coordinates[i]+dR)]+coordinates[i+1:])\n",
    "        #get qubit operators coresponding to H- (hamiltonian for atomic distances R - dR)\n",
    "        (qubit_op_minus, num_part_minus, num_orb_minus, problem_minus, converter_minus) = get_qubit_op(coordinates[0:i]+[(coordinates[i]-dR)]+coordinates[i+1:])\n",
    "\n",
    "        rep_eng_plus = problem_plus.grouped_property_transformed.get_property(\"ElectronicEnergy\").nuclear_repulsion_energy\n",
    "        rep_eng_minus  = problem_minus.grouped_property_transformed.get_property(\"ElectronicEnergy\").nuclear_repulsion_energy\n",
    "        \n",
    "        qubit_op_plus = qubit_op_plus + rep_eng_plus*(I^I^I^I) #TODO:number of I's needs to be changed according to number of qubits\n",
    "        qubit_op_minus = qubit_op_minus + rep_eng_minus*(I^I^I^I)\n",
    "        \n",
    "       \n",
    "        op =  -(qubit_op_plus - qubit_op_minus).reduce()\n",
    "                    \n",
    "        op_list = op.primitive.to_list() #list containing Pauli operators in support and corresponding coeffs\n",
    "        \n",
    "        #construct dict from list\n",
    "        op_dict = {}\n",
    "        for (PauliString,coeff) in op_list:\n",
    "\n",
    "            if PauliString in op_dict:\n",
    "                op_dict[PauliString] += coeff\n",
    "            else:\n",
    "                op_dict[PauliString] = coeff\n",
    "                \n",
    "        ops.append(op)\n",
    "        op_coeffs.append(op_dict)\n",
    "    #print(ops)\n",
    "    return ops, op_coeffs\n",
    "\n",
    "def parallel_expectations(exp_dict_exact, exp_dict, op_set, q_instance, psi_0):\n",
    "\n",
    "    triples = []\n",
    "    for op in op_set:\n",
    "        triple = (op,q_instance,psi_0)\n",
    "        triples.append(triple)\n",
    "\n",
    "    Es = 0\n",
    "    with multiprocessing.Pool() as pool:\n",
    "        Es,E_ex = zip(*pool.starmap(task1, triples))\n",
    "        #print(Es)\n",
    "        #print(E_ex)\n",
    "        #Es,E_ex = pool.starmap(task1, triples)\n",
    "    for i in range(len(Es)):\n",
    "        \n",
    "        exp_dict[triples[i][0]]=Es[i]\n",
    "        exp_dict_exact[triples[i][0]]=E_ex[i]\n",
    "                       \n",
    "    return 0\n",
    "\n",
    "def sequential_expectations(exp_dict, op_set, q_instance, psi_0):\n",
    "\n",
    "    for pauli_string in op_set:\n",
    "        \n",
    "        Obs = PauliOp(Pauli(pauli_string))\n",
    "        measurable_expression = StateFn(Obs, is_measurement=True).compose(psi_0)\n",
    "        expectation = PauliExpectation().convert(measurable_expression)  \n",
    "        sampler = CircuitSampler(q_instance).convert(expectation) \n",
    "        E = sampler.eval().real\n",
    "        exp_dict[pauli_string] = E\n",
    "\n",
    "    return 0\n",
    "\n",
    "def get_psi_0(coordinates, simulator='qasm',shots=1028):\n",
    "\n",
    "    #get qubit operator corresponding to H(R)\n",
    "    (qubit_op, num_part, num_orb, problem, converter) = get_qubit_op(coordinates)\n",
    "    \n",
    "    #get the ground state of H(R)\n",
    "    psi_0,_ = calc_ground_state(qubit_op,num_part, num_orb, problem, converter)\n",
    "    \n",
    "    psi_0 = CircuitStateFn(psi_0)\n",
    "\n",
    "    return psi_0\n",
    "\n",
    "def calc_force_and_cov(coordinates, simulator = 'qasm', PauliSet = None, mode = 'full', shots = 128, basis_set_this=None):\n",
    "  \n",
    "    \n",
    "    if simulator == 'qasm':\n",
    "            backend = Aer.get_backend('qasm_simulator')\n",
    "            #backend.set_options(max_job_size=1, executor = euler_client)\n",
    "            q_instance = QuantumInstance(backend, shots=shots)\n",
    "    elif simulator == \"exact\":\n",
    "            backend = BasicAer.get_backend(\"statevector_simulator\")\n",
    "            q_instance = QuantumInstance(backend)\n",
    "    else:\n",
    "        print('Error: simulator should be qasm or exact!')\n",
    "        \n",
    "    num_coord = len(coordinates)   \n",
    "    \n",
    "    start = time.time()\n",
    "    \n",
    "\n",
    "    psi_0 = get_psi_0(coordinates, simulator = simulator, shots=shots)\n",
    "    \n",
    "    end = time.time()\n",
    "    \n",
    "    \n",
    "    time_psi_0 = end - start\n",
    "    #print(\"Took \" + str(time_psi_0) + \" s to calculate the ground state\")\n",
    "    forces = np.zeros(num_coord)\n",
    "    forces_exact = np.zeros(num_coord)\n",
    "    coordinates = coordinates.tolist()\n",
    "    \n",
    "    \n",
    "    coordinates_this = np.array(coordinates)\n",
    "    COM = calc_COM(coordinates_this)\n",
    "    coords = np.array_split(coordinates_this,3)\n",
    "    #print(coords)\n",
    "    #print(COM)\n",
    "    v0 = coords[0] - COM\n",
    "    v1 = coords[1] - COM\n",
    "    v2 = coords[2] - COM\n",
    "    \n",
    "    v0_normed = np.array(v0/np.sqrt(v0[0]**2+v0[1]**2))\n",
    "    v0_orth = np.array([v0_normed[1],-v0_normed[0]])\n",
    "    \n",
    "    v1_normed = np.array(v1/np.sqrt(v1[0]**2+v1[1]**2))\n",
    "    v1_orth = np.array([v1_normed[1],-v1_normed[0]])\n",
    "\n",
    "    v2_normed = np.array(v2/np.sqrt(v2[0]**2+v2[1]**2))\n",
    "    v2_orth = np.array([v2_normed[1],-v2_normed[0]])\n",
    "    \n",
    "    #rotated basis\n",
    "    if basis_set_this == \"rotated\":\n",
    "        basis_set = [v0_normed,v0_orth,v1_normed,v1_orth,v2_normed,v2_orth]\n",
    "    #cartesian basis\n",
    "    elif basis_set_this == \"cartesian\":\n",
    "        basis_set = [[1,0],[0,1],[1,0],[0,1],[1,0],[0,1]]\n",
    "    \n",
    "    #basis_set = basis_set_this\n",
    "\n",
    "    transform_matrix = np.array([[basis_set[0][0],basis_set[1][0],0,0,0,0],\n",
    "                                 [basis_set[0][1],basis_set[1][1],0,0,0,0],\n",
    "                                 [0,0,basis_set[2][0],basis_set[3][0],0,0],\n",
    "                                 [0,0,basis_set[2][1],basis_set[3][1],0,0],\n",
    "                                 [0,0,0,0,basis_set[4][0],basis_set[5][0]],\n",
    "                                 [0,0,0,0,basis_set[4][1],basis_set[5][1]]])\n",
    "    \n",
    "    transform_matrix_inv = np.linalg.inv(transform_matrix)\n",
    "    \n",
    "    start = time.time()\n",
    "    #get force component operators and decomposition (without the 1/(2*dR) factor, for numerical reasons)\n",
    "    #replace parallel_ with sequential_ to see effect of parallelization\n",
    "    force_ops,force_op_coeffs = parallel_operators(coordinates,basis_set)\n",
    "    \n",
    "    #for ops in force_ops:\n",
    "        #print(len(ops))\n",
    "        \n",
    "    P1 = force_ops[0]\n",
    "    \n",
    "    if PauliSet == None:\n",
    "        \n",
    "        pauli_op_set = {'IIII'} #Could not initialize empty set for some reason\n",
    "        # construct set of PauliOp products that we need to calculate\n",
    "\n",
    "        for PauliString,coeff in force_op_coeffs[0].items():\n",
    "            pauli_op_set.add(PauliString)\n",
    "\n",
    "        #to get set of necessary PauliOp products:\n",
    "        \n",
    "            P_prod = (P1@P1)\n",
    "            P_list = P_prod.primitive.to_list()\n",
    "\n",
    "            for (PauliString,coeff) in P_list:\n",
    "                pauli_op_set.add(PauliString)\n",
    "                \n",
    "    else: pauli_op_set = PauliSet\n",
    "        \n",
    "    end = time.time()\n",
    "    \n",
    "    time_pauli_ops = end - start\n",
    "        \n",
    "\n",
    "        # Now we calculate the expectation values of all the relevant PauliOps\n",
    "    \n",
    "    start = time.time()\n",
    "    exp_dict = {} # dictionary with relevant expectation values\n",
    "    exp_dict_exact = {}  # dictionary with exact relevant expectation values\n",
    "        \n",
    "    #switch between parallel_ and sequential_ to see the effect\n",
    "    \n",
    "    parallel_expectations(exp_dict_exact,exp_dict,pauli_op_set,q_instance,psi_0)\n",
    "    \n",
    "\n",
    "    for i in range(len(coordinates)):\n",
    "        for pauli_op,coeff in force_op_coeffs[i].items():\n",
    "            forces[i] += coeff.real*exp_dict[pauli_op]\n",
    "            forces_exact[i] += coeff.real*exp_dict_exact[pauli_op]\n",
    "    \n",
    "    #forces[1] = 0\n",
    "    #forces[3] = 0\n",
    "    #forces[5] = 0\n",
    "    \n",
    "    if basis_set_this == \"rotated\":\n",
    "        forces_return = np.matmul(transform_matrix,np.array(forces))\n",
    "    elif basis_set_this == \"cartesian\":\n",
    "        forces_return = forces\n",
    "        \n",
    "    #print(forces)\n",
    "            \n",
    "    end = time.time()   \n",
    "    time_calc_exp = end - start\n",
    "    \n",
    "    \n",
    "    start = time.time()\n",
    "    COV = np.zeros((num_coord,num_coord)) #force covariance matrix, without some multiplicative factors. \n",
    "        \n",
    "    for i in range(num_coord):\n",
    "        for j in range(i,num_coord):\n",
    "\n",
    "            Pij = force_ops[i]@force_ops[j]\n",
    "                \n",
    "            Pij_list = Pij.primitive.to_list()\n",
    "\n",
    "            #add product expectation \n",
    "            \n",
    "            for (pauli_string,coeff) in Pij_list:\n",
    "                COV[i,j] += coeff.real*exp_dict[pauli_string]\n",
    "                    #subtract \n",
    "            COV[i,j] -= forces[i]*forces[j]\n",
    "            \n",
    "            \n",
    "            #since COV is symmetric\n",
    "            \n",
    "            if i < j:\n",
    "                COV[j,i] = COV[i,j]\n",
    "            \n",
    "            \n",
    "                \n",
    "    #print(COV)            \n",
    "    end = time.time()\n",
    "    \n",
    "    if basis_set_this == \"rotated\":\n",
    "        #print(COV)\n",
    "        COV_1 = np.matmul(COV,transform_matrix)\n",
    "        COV_2 = np.matmul(transform_matrix_inv,COV_1)\n",
    "        COV_return = COV_2\n",
    "        #COV_return = COV\n",
    "        #print(COV_return)\n",
    "    elif basis_set_this == \"cartesian\":    \n",
    "        COV_return = COV\n",
    "        \n",
    "    time_cov = end - start\n",
    "\n",
    "    print(f'Time to: Calculate Ground State - {round(time_psi_0,2)}s, Get Pauli Ops - {round(time_pauli_ops,2)}s, Calculate Pauli Expectation Values - {round(time_calc_exp,2)}s, Calculate Covariance - {round(time_cov,2)}s')\n",
    "    #print(COV)\n",
    "    \n",
    "    return forces_return*Ha*(1/(2*dR*angst)),COV_return*(Ha*(1/(2*dR*angst)))**2"
   ]
  },
  {
   "cell_type": "code",
   "execution_count": 3,
   "id": "5ae5fde0",
   "metadata": {},
   "outputs": [],
   "source": [
    "#from Quantech.verlet_integrator import distance\n",
    "#from force import calc_force_and_cov\n",
    "import numpy as np\n",
    "from tqdm import tqdm #to show progress\n",
    "\n",
    "\n",
    "#implementation of the explicit Euler integrator\n",
    "femto = 1.0e-15\n",
    "angst = 1.0e-10\n",
    "\n",
    "def calc_COM(coordinates):\n",
    "    #print(coordinates)\n",
    "    r_array = np.array_split(coordinates,3)\n",
    "    COM = (r_array[0] + r_array[1] + r_array[2])/3\n",
    "    \n",
    "    return COM\n",
    "\n",
    "def distance(coordinates1,coordinates2):\n",
    "    return np.sqrt(np.power((coordinates1[0] - coordinates2[0]),2) + np.power((coordinates1[1] - coordinates2[1]),2))\n",
    "\n",
    "    \n",
    "\n",
    "\n",
    "def main():\n",
    "    \n",
    "    f = open(\"exact_COV_2048\",\"w\")\n",
    "    \n",
    "    #mass of particle1 (H)\n",
    "    mass_0 = 1.67e-27\n",
    "    #mass of particle2 (H)\n",
    "    mass_1 = 1.67e-27\n",
    "    #mass of particle3 (H)\n",
    "    mass_2 = 1.67e-27\n",
    "    #time step of integrator\n",
    "    dt = 0.2*femto\n",
    "    \n",
    "    mass = mass_0\n",
    "\n",
    "    #distances between atoms\n",
    "    d = 0.8\n",
    "    #rotation angle of the initial triangle\n",
    "    b = 0/180*np.pi\n",
    "    \n",
    "    #initial positions of atoms, arrangement = equilateral triangle\n",
    "    x1_init = np.array([-d/2*np.cos(b)+np.sin(b)*np.sqrt(3)/6*d,-d/2*np.sin(b)-np.cos(b)*np.sqrt(3)/6*d])+np.array([0,d*np.sqrt(3)/6])\n",
    "    x2_init = np.array([d/2*np.cos(b)+np.sin(b)*np.sqrt(3)/6*d,d/2*np.sin(b)-np.cos(b)*np.sqrt(3)/6*d])+np.array([0,d*np.sqrt(3)/6])\n",
    "    x3_init = np.array([-np.sin(b)*np.sqrt(3)/3*d,np.cos(b)*np.sqrt(3)/3*d])+np.array([0,d*np.sqrt(3)/6])\n",
    "    \n",
    "    \n",
    "    init_pos0 = x1_init\n",
    "    init_pos1 = x2_init\n",
    "    init_pos2 = x3_init\n",
    "    \n",
    "    init_pos = np.concatenate((init_pos0,init_pos1,init_pos2),axis=None)\n",
    "    \n",
    "    ##initialize velocities in the direction of the COM for each particle\n",
    "    \n",
    "    COM = calc_COM(init_pos)\n",
    "    \n",
    "    c0 = COM - init_pos0\n",
    "    c1 = COM - init_pos1\n",
    "    c2 = COM - init_pos2\n",
    "    \n",
    "    dir0 = c0/np.sqrt(c0[0]**2+c0[1]**2)\n",
    "    dir1 = c1/np.sqrt(c1[0]**2+c1[1]**2)\n",
    "    dir2 = c2/np.sqrt(c2[0]**2+c2[1]**2)\n",
    "\n",
    "    v_init_mag = 0\n",
    "\n",
    "    v_init = np.concatenate((dir0,dir1,dir2),axis=None)*v_init_mag\n",
    "    \n",
    "    \n",
    "\n",
    "    #integrator timesteps\n",
    "    \n",
    "    timeB = 0\n",
    "    timeE = 40\n",
    "    times = np.arange(timeB*femto, timeE*femto, dt)\n",
    "    \n",
    "    \n",
    "    #print(times)\n",
    "    #coordinate array\n",
    "    coords = [init_pos]\n",
    "    force = []\n",
    "    distance01 = [d]\n",
    "    distance02 = [d]\n",
    "    distance12 = [d]\n",
    "    #temperature in ?? \n",
    "    #k_B*T in Joule\n",
    "    k_b = 1.38065e-23\n",
    "    T = 420\n",
    "    k_T = k_b*T\n",
    "        #delta factor\n",
    "        \n",
    "    delta = 0.05*dt\n",
    "    \n",
    "    temperature = []\n",
    "    #hold v_next\n",
    "    \n",
    "    v_next = None\n",
    "    \n",
    "    simulator = 'qasm'\n",
    "    COM = calc_COM(init_pos)\n",
    "    coords_loc = np.array_split(init_pos,3)\n",
    "    forces_array = []\n",
    "    velocities_array = []\n",
    "    velocities_array.append(v_init.tolist())\n",
    "    coords_array = []\n",
    "    coords_array.append(init_pos.tolist())\n",
    "    \n",
    "    n_dof = 3\n",
    "    \n",
    "    #\"cartesian\" or \"rotated\"\n",
    "    \n",
    "    basis_set = \"rotated\"\n",
    "    \n",
    "    diag_elems = []\n",
    "    \n",
    "    shots = 2048\n",
    "    \n",
    "    for time in tqdm(times, desc='Progress: '):\n",
    "        \n",
    "        #time = 0\n",
    "        \n",
    "        r = coords[-1]\n",
    "        #print(r)\n",
    "        \n",
    "        (forces,COV) = calc_force_and_cov(r, simulator = simulator, shots = shots, basis_set_this=basis_set)\n",
    "        #diag_elems.append(COV[0][0])\n",
    "        #print(diag_elems)\n",
    "        forces_array.append(forces.tolist())\n",
    "        \n",
    "        f1 = distance(np.array([forces[0],forces[1]]),np.array([0,0]))\n",
    "        \n",
    "        f2 = distance(np.array([forces[2],forces[3]]),np.array([0,0]))\n",
    "        \n",
    "        f3 = distance(np.array([forces[4],forces[5]]),np.array([0,0]))    \n",
    "        \n",
    "        print(\"f0,f1,f2 = \" + str([f1,f2,f3]))\n",
    "        \n",
    "        \n",
    "        if time == 0:\n",
    "            \n",
    "            #v_sample = v_init\n",
    "            \n",
    "            #velocities = np.array(np.array_split(v_sample,3))\n",
    "            \n",
    "            #kin_eng = np.sum(velocities**2*mass/2, axis=1)\n",
    "            \n",
    "            #k_T = 2*np.sum(kin_eng)/np.size(kin_eng)/n_dof\n",
    "            \n",
    "            #temperature.append(k_T/k_b)\n",
    "            #k_T = k_b * T\n",
    "            #print(temperature)\n",
    "            \n",
    "            v_next = v_init - delta/(2*k_T*np.power(mass_0*mass_1*mass_2,1/3))*np.matmul(COV,v_init)*dt + dt*forces/mass_0\n",
    "            \n",
    "            r_next = (r*angst + dt*v_next)/angst\n",
    "\n",
    "            #r_split = np.array_split(r_next,3)\n",
    "\n",
    "            coords.append(r_next)\n",
    "\n",
    "        else:\n",
    "            \n",
    "            #v_sample = v_next\n",
    "            \n",
    "            #velocities = np.array(np.array_split(v_sample,3))\n",
    "            \n",
    "            #kin_eng = np.sum(velocities**2*mass/2, axis=1)\n",
    "            \n",
    "            #k_T = 2*np.sum(kin_eng)/np.size(kin_eng)/n_dof\n",
    "            \n",
    "            #temperature.append(k_T/k_b)\n",
    "            \n",
    "            v_next += - delta/(2*k_T*np.power(mass_0*mass_1*mass_2,1/3))*np.matmul(COV,v_next)*dt + dt*forces/mass_0\n",
    "            \n",
    "            r_next = (r*angst + dt*v_next)/angst\n",
    "\n",
    "            #r_split = np.array_split(r_next,3)\n",
    "            \n",
    "            coords.append(r_next)\n",
    "            \n",
    "        velocities_array.append(v_next.tolist())  \n",
    "        coords_array.append(coords[-1].tolist())\n",
    "        \n",
    "        r = np.array_split(coords[-1],3)\n",
    "        d01 = distance(r[0],r[1])\n",
    "        d02 = distance(r[0],r[2])\n",
    "        d12 = distance(r[1],r[2])\n",
    "        print(\"d01,d02,d12 = \" + str([d01,d02,d12]))\n",
    "        #print(\"Temp:\" + str(temperature[-1]) + \"K\")\n",
    "        #print(temperature[-1])\n",
    "        \n",
    "        dists = np.split(coords[-1],3)\n",
    "        d01 = distance(dists[0],dists[1])\n",
    "        distance01.append(d01)\n",
    "        d02 = distance(dists[0],dists[2])\n",
    "        distance02.append(d02)\n",
    "        d12 = distance(dists[1],dists[2])\n",
    "        distance12.append(d12)\n",
    "        \n",
    "    timess = times.tolist()\n",
    "    timess.append(timeE*femto)\n",
    "    \n",
    "    #f.write('diagonal elements for n = ' + str(shots) + \" no of shots\" + '\\n')\n",
    "    #f.write(str(diag_elems))\n",
    "    \n",
    "    \n",
    "    f.write('times \\n')\n",
    "    f.write(str(timess) + \"\\n\")\n",
    "    f.write(\"coordinates \\n\")\n",
    "    f.write(str(coords_array) + \"\\n\")\n",
    "    f.write(\"velocities \\n\")\n",
    "    f.write(str(velocities_array) + \"\\n\")\n",
    "    f.write(\"forces \\n\")\n",
    "    f.write(str(forces_array) + \"\\n\")\n",
    "    f.write(\"temperatures \\n\")\n",
    "    f.write(str(temperature) + \"\\n\")\n",
    "    \n",
    "    return (distance01,distance02,distance12,times) "
   ]
  },
  {
   "cell_type": "code",
   "execution_count": 4,
   "id": "be5bb22e",
   "metadata": {
    "scrolled": true
   },
   "outputs": [
    {
     "name": "stderr",
     "output_type": "stream",
     "text": [
      "Progress:   0%|          | 1/200 [00:20<1:08:32, 20.67s/it]"
     ]
    },
    {
     "name": "stdout",
     "output_type": "stream",
     "text": [
      "Time to: Calculate Ground State - 2.21s, Get Pauli Ops - 6.42s, Calculate Pauli Expectation Values - 8.98s, Calculate Covariance - 2.78s\n",
      "f0,f1,f2 = [1.3270040767981765e-08, 1.3270040767989926e-08, 1.3270040767978984e-08]\n",
      "d01,d02,d12 = [0.8055052418751281, 0.8055052418751267, 0.8055052418751284]\n"
     ]
    },
    {
     "name": "stderr",
     "output_type": "stream",
     "text": [
      "/cluster/home/mskrabulis/miniconda3/envs/quantech/lib/python3.9/site-packages/pyscf/symm/Dmatrix.py:156: RuntimeWarning: invalid value encountered in arccos\n",
      "  gamma = numpy.arccos(yp.dot(c2[1]))\n",
      "Progress:   1%|          | 2/200 [00:39<1:05:04, 19.72s/it]"
     ]
    },
    {
     "name": "stdout",
     "output_type": "stream",
     "text": [
      "Time to: Calculate Ground State - 0.83s, Get Pauli Ops - 6.37s, Calculate Pauli Expectation Values - 9.57s, Calculate Covariance - 2.28s\n",
      "f0,f1,f2 = [1.7136724064414504e-08, 1.7136724064414604e-08, 1.7136724064424278e-08]\n",
      "d01,d02,d12 = [0.811620698931388, 0.811620698931387, 0.8116206989313898]\n"
     ]
    },
    {
     "name": "stderr",
     "output_type": "stream",
     "text": [
      "Progress:   2%|▏         | 3/200 [01:03<1:10:25, 21.45s/it]"
     ]
    },
    {
     "name": "stdout",
     "output_type": "stream",
     "text": [
      "Time to: Calculate Ground State - 1.52s, Get Pauli Ops - 9.23s, Calculate Pauli Expectation Values - 9.65s, Calculate Covariance - 3.1s\n",
      "f0,f1,f2 = [1.2067270105301912e-08, 1.2067270105306625e-08, 1.2067270105292288e-08]\n",
      "d01,d02,d12 = [0.8268339347797369, 0.826833934779737, 0.8268339347797499]\n"
     ]
    },
    {
     "name": "stderr",
     "output_type": "stream",
     "text": [
      "Progress:   2%|▏         | 4/200 [01:26<1:12:09, 22.09s/it]"
     ]
    },
    {
     "name": "stdout",
     "output_type": "stream",
     "text": [
      "Time to: Calculate Ground State - 1.57s, Get Pauli Ops - 9.07s, Calculate Pauli Expectation Values - 9.59s, Calculate Covariance - 2.82s\n",
      "f0,f1,f2 = [8.994628833229648e-09, 8.99462883321543e-09, 8.994628833210467e-09]\n",
      "d01,d02,d12 = [0.8448324432960378, 0.8448324432960408, 0.8448324432960527]\n"
     ]
    },
    {
     "name": "stderr",
     "output_type": "stream",
     "text": [
      "Progress:   2%|▎         | 5/200 [01:51<1:14:55, 23.05s/it]"
     ]
    },
    {
     "name": "stdout",
     "output_type": "stream",
     "text": [
      "Time to: Calculate Ground State - 1.61s, Get Pauli Ops - 12.05s, Calculate Pauli Expectation Values - 8.9s, Calculate Covariance - 2.18s\n",
      "f0,f1,f2 = [1.734404150234237e-08, 1.7344041502324733e-08, 1.7344041502322655e-08]\n",
      "d01,d02,d12 = [0.8557754005178684, 0.8557754005178745, 0.8557754005178607]\n"
     ]
    },
    {
     "name": "stderr",
     "output_type": "stream",
     "text": [
      "Progress:   3%|▎         | 6/200 [02:13<1:13:47, 22.82s/it]"
     ]
    },
    {
     "name": "stdout",
     "output_type": "stream",
     "text": [
      "Time to: Calculate Ground State - 1.48s, Get Pauli Ops - 9.14s, Calculate Pauli Expectation Values - 9.03s, Calculate Covariance - 2.7s\n",
      "f0,f1,f2 = [1.2437646092977878e-08, 1.2437646092937092e-08, 1.2437646092968224e-08]\n",
      "d01,d02,d12 = [0.8668821256713575, 0.8668821256713717, 0.8668821256713228]\n"
     ]
    },
    {
     "name": "stderr",
     "output_type": "stream",
     "text": [
      "Progress:   4%|▎         | 7/200 [02:35<1:12:51, 22.65s/it]"
     ]
    },
    {
     "name": "stdout",
     "output_type": "stream",
     "text": [
      "Time to: Calculate Ground State - 1.52s, Get Pauli Ops - 7.32s, Calculate Pauli Expectation Values - 10.9s, Calculate Covariance - 2.54s\n",
      "f0,f1,f2 = [3.103543566096997e-09, 3.1035435660472713e-09, 3.103543566046109e-09]\n",
      "d01,d02,d12 = [0.8767898734300691, 0.8767898734300899, 0.876789873429988]\n"
     ]
    },
    {
     "name": "stderr",
     "output_type": "stream",
     "text": [
      "/cluster/home/mskrabulis/miniconda3/envs/quantech/lib/python3.9/site-packages/pyscf/symm/Dmatrix.py:156: RuntimeWarning: invalid value encountered in arccos\n",
      "  gamma = numpy.arccos(yp.dot(c2[1]))\n",
      "Progress:   4%|▍         | 8/200 [02:59<1:13:12, 22.88s/it]"
     ]
    },
    {
     "name": "stdout",
     "output_type": "stream",
     "text": [
      "Time to: Calculate Ground State - 1.53s, Get Pauli Ops - 9.83s, Calculate Pauli Expectation Values - 9.31s, Calculate Covariance - 2.67s\n",
      "f0,f1,f2 = [1.3988630858941096e-08, 1.3988630858944171e-08, 1.3988630858877054e-08]\n",
      "d01,d02,d12 = [0.8835835882096597, 0.8835835882096774, 0.8835835882095189]\n"
     ]
    },
    {
     "name": "stderr",
     "output_type": "stream",
     "text": [
      "/cluster/home/mskrabulis/miniconda3/envs/quantech/lib/python3.9/site-packages/pyscf/symm/Dmatrix.py:156: RuntimeWarning: invalid value encountered in arccos\n",
      "  gamma = numpy.arccos(yp.dot(c2[1]))\n",
      "Progress:   4%|▍         | 9/200 [03:20<1:11:35, 22.49s/it]"
     ]
    },
    {
     "name": "stdout",
     "output_type": "stream",
     "text": [
      "Time to: Calculate Ground State - 1.47s, Get Pauli Ops - 6.79s, Calculate Pauli Expectation Values - 10.22s, Calculate Covariance - 3.16s\n",
      "f0,f1,f2 = [9.212706272127744e-09, 9.212706272198916e-09, 9.212706272133031e-09]\n",
      "d01,d02,d12 = [0.8847463768187074, 0.8847463768187128, 0.8847463768185021]\n"
     ]
    },
    {
     "name": "stderr",
     "output_type": "stream",
     "text": [
      "Progress:   5%|▌         | 10/200 [03:41<1:09:51, 22.06s/it]"
     ]
    },
    {
     "name": "stdout",
     "output_type": "stream",
     "text": [
      "Time to: Calculate Ground State - 1.61s, Get Pauli Ops - 6.86s, Calculate Pauli Expectation Values - 9.46s, Calculate Covariance - 3.15s\n",
      "f0,f1,f2 = [4.591473838568553e-09, 4.5914738386179775e-09, 4.5914738386523675e-09]\n",
      "d01,d02,d12 = [0.8879640986006039, 0.8879640986005974, 0.8879640986003571]\n"
     ]
    },
    {
     "name": "stderr",
     "output_type": "stream",
     "text": [
      "Progress:   6%|▌         | 11/200 [04:00<1:06:40, 21.17s/it]"
     ]
    },
    {
     "name": "stdout",
     "output_type": "stream",
     "text": [
      "Time to: Calculate Ground State - 1.22s, Get Pauli Ops - 5.98s, Calculate Pauli Expectation Values - 8.87s, Calculate Covariance - 3.05s\n",
      "f0,f1,f2 = [1.5792753560343305e-09, 1.579275355999684e-09, 1.5792753560014475e-09]\n",
      "d01,d02,d12 = [0.8918573298874569, 0.8918573298874409, 0.8918573298871849]\n"
     ]
    },
    {
     "name": "stderr",
     "output_type": "stream",
     "text": [
      "/cluster/home/mskrabulis/miniconda3/envs/quantech/lib/python3.9/site-packages/pyscf/symm/Dmatrix.py:156: RuntimeWarning: invalid value encountered in arccos\n",
      "  gamma = numpy.arccos(yp.dot(c2[1]))\n",
      "Progress:   6%|▌         | 12/200 [04:21<1:05:42, 20.97s/it]"
     ]
    },
    {
     "name": "stdout",
     "output_type": "stream",
     "text": [
      "Time to: Calculate Ground State - 1.49s, Get Pauli Ops - 8.5s, Calculate Pauli Expectation Values - 8.67s, Calculate Covariance - 1.85s\n",
      "f0,f1,f2 = [7.547547131547635e-09, 7.5475471315742e-09, 7.547547131574982e-09]\n",
      "d01,d02,d12 = [0.9017896122486544, 0.9017896122486192, 0.9017896122483554]\n"
     ]
    },
    {
     "name": "stderr",
     "output_type": "stream",
     "text": [
      "Progress:   6%|▋         | 13/200 [04:40<1:03:03, 20.23s/it]"
     ]
    },
    {
     "name": "stdout",
     "output_type": "stream",
     "text": [
      "Time to: Calculate Ground State - 1.45s, Get Pauli Ops - 5.64s, Calculate Pauli Expectation Values - 8.49s, Calculate Covariance - 2.94s\n",
      "f0,f1,f2 = [8.003763390134647e-10, 8.003763390223298e-10, 8.003763390220748e-10]\n",
      "d01,d02,d12 = [0.9003444461498893, 0.9003444461498324, 0.9003444461495855]\n"
     ]
    },
    {
     "name": "stderr",
     "output_type": "stream",
     "text": [
      "Progress:   7%|▋         | 14/200 [05:02<1:04:56, 20.95s/it]"
     ]
    },
    {
     "name": "stdout",
     "output_type": "stream",
     "text": [
      "Time to: Calculate Ground State - 1.5s, Get Pauli Ops - 9.84s, Calculate Pauli Expectation Values - 8.47s, Calculate Covariance - 2.79s\n",
      "f0,f1,f2 = [7.69474385890883e-09, 7.694743858868312e-09, 7.69474385890308e-09]\n",
      "d01,d02,d12 = [0.9019472913957232, 0.9019472913956531, 0.9019472913954094]\n"
     ]
    },
    {
     "name": "stderr",
     "output_type": "stream",
     "text": [
      "Progress:   8%|▊         | 15/200 [05:21<1:02:28, 20.26s/it]"
     ]
    },
    {
     "name": "stdout",
     "output_type": "stream",
     "text": [
      "Time to: Calculate Ground State - 1.48s, Get Pauli Ops - 5.82s, Calculate Pauli Expectation Values - 8.53s, Calculate Covariance - 2.81s\n",
      "f0,f1,f2 = [1.7782644717283497e-09, 1.7782644717429848e-09, 1.7782644717346315e-09]\n",
      "d01,d02,d12 = [0.9045560163159672, 0.9045560163158851, 0.9045560163156541]\n"
     ]
    },
    {
     "name": "stderr",
     "output_type": "stream",
     "text": [
      "Progress:   8%|▊         | 16/200 [05:45<1:06:03, 21.54s/it]"
     ]
    },
    {
     "name": "stdout",
     "output_type": "stream",
     "text": [
      "Time to: Calculate Ground State - 1.58s, Get Pauli Ops - 8.69s, Calculate Pauli Expectation Values - 11.22s, Calculate Covariance - 3.02s\n",
      "f0,f1,f2 = [3.958428872348537e-09, 3.9584288723731155e-09, 3.958428872308306e-09]\n",
      "d01,d02,d12 = [0.906905464078708, 0.9069054640786032, 0.9069054640783957]\n"
     ]
    },
    {
     "name": "stderr",
     "output_type": "stream",
     "text": [
      "Progress:   8%|▊         | 17/200 [06:06<1:04:30, 21.15s/it]"
     ]
    },
    {
     "name": "stdout",
     "output_type": "stream",
     "text": [
      "Time to: Calculate Ground State - 1.48s, Get Pauli Ops - 8.43s, Calculate Pauli Expectation Values - 8.07s, Calculate Covariance - 2.24s\n",
      "f0,f1,f2 = [5.877491262147291e-09, 5.8774912620937715e-09, 5.877491262120461e-09]\n",
      "d01,d02,d12 = [0.9105275789513358, 0.9105275789512094, 0.9105275789510254]\n"
     ]
    },
    {
     "name": "stderr",
     "output_type": "stream",
     "text": [
      "Progress:   9%|▉         | 18/200 [06:25<1:02:13, 20.51s/it]"
     ]
    },
    {
     "name": "stdout",
     "output_type": "stream",
     "text": [
      "Time to: Calculate Ground State - 1.42s, Get Pauli Ops - 6.41s, Calculate Pauli Expectation Values - 8.21s, Calculate Covariance - 2.98s\n",
      "f0,f1,f2 = [7.141969712717245e-09, 7.1419697126485e-09, 7.141969712641109e-09]\n",
      "d01,d02,d12 = [0.9149289797584048, 0.9149289797582597, 0.9149289797580743]\n"
     ]
    },
    {
     "name": "stderr",
     "output_type": "stream",
     "text": [
      "/cluster/home/mskrabulis/miniconda3/envs/quantech/lib/python3.9/site-packages/pyscf/symm/Dmatrix.py:156: RuntimeWarning: invalid value encountered in arccos\n",
      "  gamma = numpy.arccos(yp.dot(c2[1]))\n",
      "Progress:  10%|▉         | 19/200 [06:43<1:00:12, 19.96s/it]"
     ]
    },
    {
     "name": "stdout",
     "output_type": "stream",
     "text": [
      "Time to: Calculate Ground State - 0.85s, Get Pauli Ops - 6.59s, Calculate Pauli Expectation Values - 8.14s, Calculate Covariance - 3.08s\n",
      "f0,f1,f2 = [3.2523964879322312e-09, 3.2523964879618588e-09, 3.252396487955541e-09]\n",
      "d01,d02,d12 = [0.9205732459858609, 0.9205732459856975, 0.9205732459854962]\n"
     ]
    },
    {
     "name": "stderr",
     "output_type": "stream",
     "text": [
      "Progress:  10%|█         | 20/200 [07:05<1:01:22, 20.46s/it]"
     ]
    },
    {
     "name": "stdout",
     "output_type": "stream",
     "text": [
      "Time to: Calculate Ground State - 1.67s, Get Pauli Ops - 6.83s, Calculate Pauli Expectation Values - 11.13s, Calculate Covariance - 1.99s\n",
      "f0,f1,f2 = [2.1673643948879055e-10, 2.1673643945477636e-10, 2.1673643948426936e-10]\n",
      "d01,d02,d12 = [0.927986295002264, 0.9279862950020861, 0.9279862950018659]\n"
     ]
    },
    {
     "name": "stderr",
     "output_type": "stream",
     "text": [
      "Progress:  10%|█         | 21/200 [07:27<1:02:07, 20.82s/it]"
     ]
    },
    {
     "name": "stdout",
     "output_type": "stream",
     "text": [
      "Time to: Calculate Ground State - 1.5s, Get Pauli Ops - 9.15s, Calculate Pauli Expectation Values - 8.78s, Calculate Covariance - 2.25s\n",
      "f0,f1,f2 = [4.446727791347395e-09, 4.446727791365989e-09, 4.4467277913896985e-09]\n",
      "d01,d02,d12 = [0.9282764627329828, 0.9282764627327986, 0.9282764627325922]\n"
     ]
    },
    {
     "name": "stderr",
     "output_type": "stream",
     "text": [
      "Progress:  11%|█         | 22/200 [07:49<1:03:16, 21.33s/it]"
     ]
    },
    {
     "name": "stdout",
     "output_type": "stream",
     "text": [
      "Time to: Calculate Ground State - 0.9s, Get Pauli Ops - 7.03s, Calculate Pauli Expectation Values - 11.53s, Calculate Covariance - 3.04s\n",
      "f0,f1,f2 = [3.5044416869178715e-09, 3.5044416869563867e-09, 3.5044416868854543e-09]\n",
      "d01,d02,d12 = [0.927222643476304, 0.9272226434761281, 0.9272226434759279]\n"
     ]
    },
    {
     "name": "stderr",
     "output_type": "stream",
     "text": [
      "Progress:  12%|█▏        | 23/200 [08:08<1:00:23, 20.47s/it]"
     ]
    },
    {
     "name": "stdout",
     "output_type": "stream",
     "text": [
      "Time to: Calculate Ground State - 1.04s, Get Pauli Ops - 7.04s, Calculate Pauli Expectation Values - 8.4s, Calculate Covariance - 1.98s\n",
      "f0,f1,f2 = [1.4973519790207804e-08, 1.4973519790269664e-08, 1.497351979023606e-08]\n",
      "d01,d02,d12 = [0.932140064133852, 0.9321400641336764, 0.9321400641334937]\n"
     ]
    },
    {
     "name": "stderr",
     "output_type": "stream",
     "text": [
      "/cluster/home/mskrabulis/miniconda3/envs/quantech/lib/python3.9/site-packages/pyscf/symm/Dmatrix.py:156: RuntimeWarning: invalid value encountered in arccos\n",
      "  gamma = numpy.arccos(yp.dot(c2[1]))\n",
      "Progress:  12%|█▏        | 24/200 [08:28<1:00:08, 20.50s/it]"
     ]
    },
    {
     "name": "stdout",
     "output_type": "stream",
     "text": [
      "Time to: Calculate Ground State - 1.42s, Get Pauli Ops - 6.94s, Calculate Pauli Expectation Values - 9.74s, Calculate Covariance - 2.47s\n",
      "f0,f1,f2 = [8.563644850163707e-09, 8.563644850145602e-09, 8.563644850142105e-09]\n",
      "d01,d02,d12 = [0.9389571665751957, 0.9389571665750112, 0.9389571665748397]\n"
     ]
    },
    {
     "name": "stderr",
     "output_type": "stream",
     "text": [
      "Progress:  12%|█▎        | 25/200 [08:49<1:00:19, 20.69s/it]"
     ]
    },
    {
     "name": "stdout",
     "output_type": "stream",
     "text": [
      "Time to: Calculate Ground State - 1.57s, Get Pauli Ops - 7.94s, Calculate Pauli Expectation Values - 8.65s, Calculate Covariance - 2.93s\n",
      "f0,f1,f2 = [8.34073792912308e-09, 8.340737929139484e-09, 8.340737929140153e-09]\n",
      "d01,d02,d12 = [0.9491143540521134, 0.9491143540519074, 0.9491143540517364]\n"
     ]
    },
    {
     "name": "stderr",
     "output_type": "stream",
     "text": [
      "/cluster/home/mskrabulis/miniconda3/envs/quantech/lib/python3.9/site-packages/pyscf/symm/Dmatrix.py:156: RuntimeWarning: invalid value encountered in arccos\n",
      "  gamma = numpy.arccos(yp.dot(c2[1]))\n",
      "Progress:  13%|█▎        | 26/200 [09:13<1:02:18, 21.48s/it]"
     ]
    },
    {
     "name": "stdout",
     "output_type": "stream",
     "text": [
      "Time to: Calculate Ground State - 1.28s, Get Pauli Ops - 10.13s, Calculate Pauli Expectation Values - 9.0s, Calculate Covariance - 2.92s\n",
      "f0,f1,f2 = [1.101658972003779e-08, 1.1016589719979046e-08, 1.1016589720057034e-08]\n",
      "d01,d02,d12 = [0.9491961091546735, 0.949196109154473, 0.9491961091542925]\n"
     ]
    },
    {
     "name": "stderr",
     "output_type": "stream",
     "text": [
      "Progress:  14%|█▎        | 27/200 [09:34<1:01:39, 21.39s/it]"
     ]
    },
    {
     "name": "stdout",
     "output_type": "stream",
     "text": [
      "Time to: Calculate Ground State - 1.47s, Get Pauli Ops - 9.11s, Calculate Pauli Expectation Values - 8.52s, Calculate Covariance - 2.05s\n",
      "f0,f1,f2 = [4.126308799589166e-09, 4.1263087996006835e-09, 4.126308799551142e-09]\n",
      "d01,d02,d12 = [0.950926972904848, 0.9509269729046401, 0.9509269729044523]\n"
     ]
    },
    {
     "name": "stderr",
     "output_type": "stream",
     "text": [
      "/cluster/home/mskrabulis/miniconda3/envs/quantech/lib/python3.9/site-packages/pyscf/symm/Dmatrix.py:156: RuntimeWarning: invalid value encountered in arccos\n",
      "  gamma = numpy.arccos(yp.dot(c2[1]))\n",
      "Progress:  14%|█▍        | 28/200 [09:56<1:01:57, 21.61s/it]"
     ]
    },
    {
     "name": "stdout",
     "output_type": "stream",
     "text": [
      "Time to: Calculate Ground State - 1.49s, Get Pauli Ops - 9.21s, Calculate Pauli Expectation Values - 8.59s, Calculate Covariance - 2.84s\n",
      "f0,f1,f2 = [8.671140719958754e-09, 8.671140719901366e-09, 8.671140719919745e-09]\n",
      "d01,d02,d12 = [0.9499963477179262, 0.9499963477177104, 0.9499963477175295]\n"
     ]
    },
    {
     "name": "stderr",
     "output_type": "stream",
     "text": [
      "Progress:  14%|█▍        | 29/200 [10:17<1:01:20, 21.52s/it]"
     ]
    },
    {
     "name": "stdout",
     "output_type": "stream",
     "text": [
      "Time to: Calculate Ground State - 1.57s, Get Pauli Ops - 6.69s, Calculate Pauli Expectation Values - 9.97s, Calculate Covariance - 3.06s\n",
      "f0,f1,f2 = [1.1517887498855941e-08, 1.151788749888499e-08, 1.1517887498893136e-08]\n",
      "d01,d02,d12 = [0.9537250374301092, 0.9537250374298786, 0.9537250374297174]\n"
     ]
    },
    {
     "name": "stderr",
     "output_type": "stream",
     "text": [
      "/cluster/home/mskrabulis/miniconda3/envs/quantech/lib/python3.9/site-packages/pyscf/symm/Dmatrix.py:156: RuntimeWarning: invalid value encountered in arccos\n",
      "  gamma = numpy.arccos(yp.dot(c2[1]))\n",
      "Progress:  15%|█▌        | 30/200 [10:35<58:02, 20.48s/it]  "
     ]
    },
    {
     "name": "stdout",
     "output_type": "stream",
     "text": [
      "Time to: Calculate Ground State - 1.48s, Get Pauli Ops - 5.99s, Calculate Pauli Expectation Values - 8.17s, Calculate Covariance - 2.41s\n",
      "f0,f1,f2 = [3.7796539094642336e-09, 3.779653909483544e-09, 3.779653909444743e-09]\n",
      "d01,d02,d12 = [0.9607704617118638, 0.9607704617116287, 0.9607704617114973]\n"
     ]
    },
    {
     "name": "stderr",
     "output_type": "stream",
     "text": [
      "/cluster/home/mskrabulis/miniconda3/envs/quantech/lib/python3.9/site-packages/pyscf/symm/Dmatrix.py:156: RuntimeWarning: invalid value encountered in arccos\n",
      "  gamma = numpy.arccos(yp.dot(c2[1]))\n",
      "Progress:  16%|█▌        | 31/200 [10:55<56:48, 20.17s/it]"
     ]
    },
    {
     "name": "stdout",
     "output_type": "stream",
     "text": [
      "Time to: Calculate Ground State - 1.51s, Get Pauli Ops - 6.81s, Calculate Pauli Expectation Values - 8.4s, Calculate Covariance - 2.71s\n",
      "f0,f1,f2 = [5.524831118559191e-10, 5.524831118552113e-10, 5.524831118495048e-10]\n",
      "d01,d02,d12 = [0.9631238635944844, 0.9631238635942497, 0.9631238635941444]\n"
     ]
    },
    {
     "name": "stderr",
     "output_type": "stream",
     "text": [
      "Progress:  16%|█▌        | 32/200 [11:13<54:30, 19.47s/it]"
     ]
    },
    {
     "name": "stdout",
     "output_type": "stream",
     "text": [
      "Time to: Calculate Ground State - 0.84s, Get Pauli Ops - 6.57s, Calculate Pauli Expectation Values - 8.1s, Calculate Covariance - 2.32s\n",
      "f0,f1,f2 = [5.4125116913800676e-09, 5.412511691352263e-09, 5.412511691303192e-09]\n",
      "d01,d02,d12 = [0.9622320245605794, 0.9622320245603517, 0.9622320245602745]\n"
     ]
    },
    {
     "name": "stderr",
     "output_type": "stream",
     "text": [
      "Progress:  16%|█▋        | 33/200 [11:34<56:01, 20.13s/it]"
     ]
    },
    {
     "name": "stdout",
     "output_type": "stream",
     "text": [
      "Time to: Calculate Ground State - 1.52s, Get Pauli Ops - 8.82s, Calculate Pauli Expectation Values - 8.63s, Calculate Covariance - 2.68s\n",
      "f0,f1,f2 = [3.3345811988791023e-09, 3.3345811988257136e-09, 3.3345811988463017e-09]\n",
      "d01,d02,d12 = [0.9600754622036352, 0.9600754622034037, 0.9600754622033688]\n"
     ]
    },
    {
     "name": "stderr",
     "output_type": "stream",
     "text": [
      "Progress:  17%|█▋        | 34/200 [11:55<56:23, 20.38s/it]"
     ]
    },
    {
     "name": "stdout",
     "output_type": "stream",
     "text": [
      "Time to: Calculate Ground State - 1.05s, Get Pauli Ops - 6.41s, Calculate Pauli Expectation Values - 10.79s, Calculate Covariance - 2.7s\n",
      "f0,f1,f2 = [2.364045539399919e-08, 2.3640455394035033e-08, 2.364045539399898e-08]\n",
      "d01,d02,d12 = [0.9670908949549311, 0.9670908949546827, 0.9670908949547021]\n"
     ]
    },
    {
     "name": "stderr",
     "output_type": "stream",
     "text": [
      "Progress:  18%|█▊        | 35/200 [12:18<57:53, 21.05s/it]"
     ]
    },
    {
     "name": "stdout",
     "output_type": "stream",
     "text": [
      "Time to: Calculate Ground State - 1.51s, Get Pauli Ops - 9.47s, Calculate Pauli Expectation Values - 8.75s, Calculate Covariance - 2.88s\n",
      "f0,f1,f2 = [1.067394274048661e-08, 1.0673942740468205e-08, 1.0673942740458664e-08]\n",
      "d01,d02,d12 = [0.9828665960662752, 0.982866596066015, 0.9828665960660835]\n"
     ]
    },
    {
     "name": "stderr",
     "output_type": "stream",
     "text": [
      "/cluster/home/mskrabulis/miniconda3/envs/quantech/lib/python3.9/site-packages/pyscf/symm/Dmatrix.py:156: RuntimeWarning: invalid value encountered in arccos\n",
      "  gamma = numpy.arccos(yp.dot(c2[1]))\n",
      "Progress:  18%|█▊        | 36/200 [12:39<57:47, 21.15s/it]"
     ]
    },
    {
     "name": "stdout",
     "output_type": "stream",
     "text": [
      "Time to: Calculate Ground State - 1.52s, Get Pauli Ops - 8.29s, Calculate Pauli Expectation Values - 8.61s, Calculate Covariance - 2.93s\n",
      "f0,f1,f2 = [8.229606071013765e-09, 8.229606071027892e-09, 8.229606071034984e-09]\n",
      "d01,d02,d12 = [0.9966401462672505, 0.9966401462669734, 0.9966401462670891]\n"
     ]
    },
    {
     "name": "stderr",
     "output_type": "stream",
     "text": [
      "Progress:  18%|█▊        | 37/200 [13:02<58:32, 21.55s/it]"
     ]
    },
    {
     "name": "stdout",
     "output_type": "stream",
     "text": [
      "Time to: Calculate Ground State - 1.5s, Get Pauli Ops - 9.77s, Calculate Pauli Expectation Values - 8.5s, Calculate Covariance - 2.71s\n",
      "f0,f1,f2 = [3.4479289531414055e-09, 3.4479289531593024e-09, 3.4479289531480904e-09]\n",
      "d01,d02,d12 = [0.9994362941622762, 0.9994362941619976, 0.9994362941621626]\n"
     ]
    },
    {
     "name": "stderr",
     "output_type": "stream",
     "text": [
      "Progress:  19%|█▉        | 38/200 [13:23<58:07, 21.53s/it]"
     ]
    },
    {
     "name": "stdout",
     "output_type": "stream",
     "text": [
      "Time to: Calculate Ground State - 1.49s, Get Pauli Ops - 8.4s, Calculate Pauli Expectation Values - 8.48s, Calculate Covariance - 3.11s\n",
      "f0,f1,f2 = [1.3381311471303267e-08, 1.3381311471322306e-08, 1.3381311471286696e-08]\n",
      "d01,d02,d12 = [0.996586413291124, 0.9965864132908492, 0.9965864132910609]\n"
     ]
    },
    {
     "name": "stderr",
     "output_type": "stream",
     "text": [
      "Progress:  20%|█▉        | 39/200 [13:45<57:56, 21.59s/it]"
     ]
    },
    {
     "name": "stdout",
     "output_type": "stream",
     "text": [
      "Time to: Calculate Ground State - 1.45s, Get Pauli Ops - 9.38s, Calculate Pauli Expectation Values - 8.61s, Calculate Covariance - 2.28s\n",
      "f0,f1,f2 = [1.3819548600992551e-08, 1.3819548600991509e-08, 1.3819548600991054e-08]\n",
      "d01,d02,d12 = [1.0003145746135633, 1.0003145746132807, 1.000314574613543]\n"
     ]
    },
    {
     "name": "stderr",
     "output_type": "stream",
     "text": [
      "/cluster/home/mskrabulis/miniconda3/envs/quantech/lib/python3.9/site-packages/pyscf/symm/Dmatrix.py:156: RuntimeWarning: invalid value encountered in arccos\n",
      "  gamma = numpy.arccos(yp.dot(c2[1]))\n",
      "Progress:  20%|██        | 40/200 [14:07<57:53, 21.71s/it]"
     ]
    },
    {
     "name": "stdout",
     "output_type": "stream",
     "text": [
      "Time to: Calculate Ground State - 0.84s, Get Pauli Ops - 6.87s, Calculate Pauli Expectation Values - 11.55s, Calculate Covariance - 2.7s\n",
      "f0,f1,f2 = [1.078621500924846e-08, 1.078621500924305e-08, 1.078621500925578e-08]\n",
      "d01,d02,d12 = [1.009675200778356, 1.0096752007780612, 1.0096752007783774]\n"
     ]
    },
    {
     "name": "stderr",
     "output_type": "stream",
     "text": [
      "/cluster/home/mskrabulis/miniconda3/envs/quantech/lib/python3.9/site-packages/pyscf/symm/Dmatrix.py:156: RuntimeWarning: invalid value encountered in arccos\n",
      "  gamma = numpy.arccos(yp.dot(c2[1]))\n",
      "Progress:  20%|██        | 41/200 [14:29<58:11, 21.96s/it]"
     ]
    },
    {
     "name": "stdout",
     "output_type": "stream",
     "text": [
      "Time to: Calculate Ground State - 1.5s, Get Pauli Ops - 6.78s, Calculate Pauli Expectation Values - 11.42s, Calculate Covariance - 2.84s\n",
      "f0,f1,f2 = [6.421951543722824e-09, 6.421951543735623e-09, 6.4219515437158136e-09]\n",
      "d01,d02,d12 = [1.0217145905845335, 1.0217145905842153, 1.0217145905846017]\n"
     ]
    },
    {
     "name": "stderr",
     "output_type": "stream",
     "text": [
      "Progress:  21%|██        | 42/200 [14:53<58:54, 22.37s/it]"
     ]
    },
    {
     "name": "stdout",
     "output_type": "stream",
     "text": [
      "Time to: Calculate Ground State - 1.44s, Get Pauli Ops - 6.52s, Calculate Pauli Expectation Values - 12.94s, Calculate Covariance - 2.42s\n",
      "f0,f1,f2 = [2.6877233193266454e-09, 2.6877233193044253e-09, 2.6877233193342815e-09]\n",
      "d01,d02,d12 = [1.034180107728813, 1.0341801077284831, 1.034180107728942]\n"
     ]
    },
    {
     "name": "stderr",
     "output_type": "stream",
     "text": [
      "/cluster/home/mskrabulis/miniconda3/envs/quantech/lib/python3.9/site-packages/pyscf/symm/Dmatrix.py:156: RuntimeWarning: invalid value encountered in arccos\n",
      "  gamma = numpy.arccos(yp.dot(c2[1]))\n",
      "Progress:  22%|██▏       | 43/200 [15:15<58:48, 22.48s/it]"
     ]
    },
    {
     "name": "stdout",
     "output_type": "stream",
     "text": [
      "Time to: Calculate Ground State - 1.46s, Get Pauli Ops - 6.85s, Calculate Pauli Expectation Values - 12.02s, Calculate Covariance - 2.38s\n",
      "f0,f1,f2 = [2.0869683045339103e-09, 2.086968304521282e-09, 2.0869683045135955e-09]\n",
      "d01,d02,d12 = [1.053125269751093, 1.0531252697507723, 1.0531252697512894]\n"
     ]
    },
    {
     "name": "stderr",
     "output_type": "stream",
     "text": [
      "Progress:  22%|██▏       | 44/200 [15:36<57:18, 22.04s/it]"
     ]
    },
    {
     "name": "stdout",
     "output_type": "stream",
     "text": [
      "Time to: Calculate Ground State - 1.49s, Get Pauli Ops - 8.49s, Calculate Pauli Expectation Values - 8.54s, Calculate Covariance - 2.5s\n",
      "f0,f1,f2 = [3.411112073420256e-09, 3.411112073450668e-09, 3.4111120734575593e-09]\n",
      "d01,d02,d12 = [1.0607913463926586, 1.0607913463923029, 1.0607913463929382]\n"
     ]
    },
    {
     "name": "stderr",
     "output_type": "stream",
     "text": [
      "/cluster/home/mskrabulis/miniconda3/envs/quantech/lib/python3.9/site-packages/pyscf/symm/Dmatrix.py:156: RuntimeWarning: invalid value encountered in arccos\n",
      "  gamma = numpy.arccos(yp.dot(c2[1]))\n",
      "/cluster/home/mskrabulis/miniconda3/envs/quantech/lib/python3.9/site-packages/pyscf/symm/Dmatrix.py:156: RuntimeWarning: invalid value encountered in arccos\n",
      "  gamma = numpy.arccos(yp.dot(c2[1]))\n",
      "Progress:  22%|██▎       | 45/200 [15:57<55:55, 21.65s/it]"
     ]
    },
    {
     "name": "stdout",
     "output_type": "stream",
     "text": [
      "Time to: Calculate Ground State - 1.47s, Get Pauli Ops - 6.9s, Calculate Pauli Expectation Values - 10.02s, Calculate Covariance - 2.33s\n",
      "f0,f1,f2 = [6.80724394536831e-09, 6.807243945372905e-09, 6.807243945414308e-09]\n",
      "d01,d02,d12 = [1.0698764196430188, 1.0698764196426225, 1.0698764196433617]\n"
     ]
    },
    {
     "name": "stderr",
     "output_type": "stream",
     "text": [
      "Progress:  23%|██▎       | 46/200 [16:19<55:23, 21.58s/it]"
     ]
    },
    {
     "name": "stdout",
     "output_type": "stream",
     "text": [
      "Time to: Calculate Ground State - 1.62s, Get Pauli Ops - 8.31s, Calculate Pauli Expectation Values - 8.44s, Calculate Covariance - 3.05s\n",
      "f0,f1,f2 = [1.5434125032099033e-08, 1.5434125032073218e-08, 1.5434125032127448e-08]\n",
      "d01,d02,d12 = [1.0791893381801865, 1.079189338179764, 1.079189338180599]\n"
     ]
    },
    {
     "name": "stderr",
     "output_type": "stream",
     "text": [
      "Progress:  24%|██▎       | 47/200 [16:40<55:16, 21.67s/it]"
     ]
    },
    {
     "name": "stdout",
     "output_type": "stream",
     "text": [
      "Time to: Calculate Ground State - 1.51s, Get Pauli Ops - 6.47s, Calculate Pauli Expectation Values - 11.08s, Calculate Covariance - 2.8s\n",
      "f0,f1,f2 = [9.298736248368924e-09, 9.298736248337834e-09, 9.298736248335071e-09]\n",
      "d01,d02,d12 = [1.086016563235598, 1.086016563235147, 1.086016563236092]\n"
     ]
    },
    {
     "name": "stderr",
     "output_type": "stream",
     "text": [
      "Progress:  24%|██▍       | 48/200 [17:02<54:38, 21.57s/it]"
     ]
    },
    {
     "name": "stdout",
     "output_type": "stream",
     "text": [
      "Time to: Calculate Ground State - 1.57s, Get Pauli Ops - 8.19s, Calculate Pauli Expectation Values - 8.64s, Calculate Covariance - 2.91s\n",
      "f0,f1,f2 = [9.720779637725644e-10, 9.720779637708346e-10, 9.720779638064108e-10]\n",
      "d01,d02,d12 = [1.1008327732944112, 1.1008327732939367, 1.1008327732949807]\n"
     ]
    },
    {
     "name": "stderr",
     "output_type": "stream",
     "text": [
      "/cluster/home/mskrabulis/miniconda3/envs/quantech/lib/python3.9/site-packages/pyscf/symm/Dmatrix.py:156: RuntimeWarning: invalid value encountered in arccos\n",
      "  gamma = numpy.arccos(yp.dot(c2[1]))\n",
      "Progress:  24%|██▍       | 49/200 [17:21<52:39, 20.92s/it]"
     ]
    },
    {
     "name": "stdout",
     "output_type": "stream",
     "text": [
      "Time to: Calculate Ground State - 1.58s, Get Pauli Ops - 6.32s, Calculate Pauli Expectation Values - 8.86s, Calculate Covariance - 2.64s\n",
      "f0,f1,f2 = [4.290650094434341e-09, 4.290650094486776e-09, 4.290650094466936e-09]\n",
      "d01,d02,d12 = [1.1005066914702013, 1.1005066914697041, 1.1005066914708452]\n"
     ]
    },
    {
     "name": "stderr",
     "output_type": "stream",
     "text": [
      "Progress:  25%|██▌       | 50/200 [17:44<53:24, 21.36s/it]"
     ]
    },
    {
     "name": "stdout",
     "output_type": "stream",
     "text": [
      "Time to: Calculate Ground State - 1.54s, Get Pauli Ops - 9.89s, Calculate Pauli Expectation Values - 8.68s, Calculate Covariance - 2.27s\n",
      "f0,f1,f2 = [2.4624466727780784e-09, 2.4624466728263485e-09, 2.462446672789893e-09]\n",
      "d01,d02,d12 = [1.101321329162103, 1.1013213291615578, 1.1013213291628399]\n"
     ]
    },
    {
     "name": "stderr",
     "output_type": "stream",
     "text": [
      "Progress:  26%|██▌       | 51/200 [18:02<50:47, 20.46s/it]"
     ]
    },
    {
     "name": "stdout",
     "output_type": "stream",
     "text": [
      "Time to: Calculate Ground State - 0.89s, Get Pauli Ops - 5.61s, Calculate Pauli Expectation Values - 8.69s, Calculate Covariance - 3.12s\n",
      "f0,f1,f2 = [5.827321451386356e-09, 5.827321451411251e-09, 5.827321451407076e-09]\n",
      "d01,d02,d12 = [1.1050703456443398, 1.105070345643747, 1.105070345645191]\n"
     ]
    },
    {
     "name": "stderr",
     "output_type": "stream",
     "text": [
      "/cluster/home/mskrabulis/miniconda3/envs/quantech/lib/python3.9/site-packages/pyscf/symm/Dmatrix.py:156: RuntimeWarning: invalid value encountered in arccos\n",
      "  gamma = numpy.arccos(yp.dot(c2[1]))\n",
      "Progress:  26%|██▌       | 52/200 [18:23<50:44, 20.57s/it]"
     ]
    },
    {
     "name": "stdout",
     "output_type": "stream",
     "text": [
      "Time to: Calculate Ground State - 1.48s, Get Pauli Ops - 6.16s, Calculate Pauli Expectation Values - 10.79s, Calculate Covariance - 2.39s\n",
      "f0,f1,f2 = [9.571217259432915e-09, 9.5712172594443e-09, 9.571217259424735e-09]\n",
      "d01,d02,d12 = [1.109958158594866, 1.1099581585942417, 1.109958158595814]\n"
     ]
    },
    {
     "name": "stderr",
     "output_type": "stream",
     "text": [
      "Progress:  26%|██▋       | 53/200 [18:46<52:28, 21.42s/it]"
     ]
    },
    {
     "name": "stdout",
     "output_type": "stream",
     "text": [
      "Time to: Calculate Ground State - 0.95s, Get Pauli Ops - 6.86s, Calculate Pauli Expectation Values - 12.44s, Calculate Covariance - 3.13s\n",
      "f0,f1,f2 = [7.874410631452131e-10, 7.874410630854311e-10, 7.874410631060391e-10]\n",
      "d01,d02,d12 = [1.1128949855268515, 1.1128949855261938, 1.1128949855278671]\n"
     ]
    },
    {
     "name": "stderr",
     "output_type": "stream",
     "text": [
      "Progress:  27%|██▋       | 54/200 [19:10<53:54, 22.16s/it]"
     ]
    },
    {
     "name": "stdout",
     "output_type": "stream",
     "text": [
      "Time to: Calculate Ground State - 1.67s, Get Pauli Ops - 10.14s, Calculate Pauli Expectation Values - 9.24s, Calculate Covariance - 2.82s\n",
      "f0,f1,f2 = [8.26361495080336e-09, 8.263614950822558e-09, 8.263614950825014e-09]\n",
      "d01,d02,d12 = [1.1142292734590775, 1.1142292734583907, 1.1142292734601666]\n"
     ]
    },
    {
     "name": "stderr",
     "output_type": "stream",
     "text": [
      "Progress:  28%|██▊       | 55/200 [19:34<54:53, 22.71s/it]"
     ]
    },
    {
     "name": "stdout",
     "output_type": "stream",
     "text": [
      "Time to: Calculate Ground State - 1.52s, Get Pauli Ops - 10.64s, Calculate Pauli Expectation Values - 8.81s, Calculate Covariance - 3.02s\n",
      "f0,f1,f2 = [1.987767113744977e-09, 1.987767113763002e-09, 1.9877671136865035e-09]\n",
      "d01,d02,d12 = [1.1149380093649737, 1.1149380093642662, 1.1149380093661574]\n"
     ]
    },
    {
     "name": "stderr",
     "output_type": "stream",
     "text": [
      "/cluster/home/mskrabulis/miniconda3/envs/quantech/lib/python3.9/site-packages/pyscf/symm/Dmatrix.py:156: RuntimeWarning: invalid value encountered in arccos\n",
      "  gamma = numpy.arccos(yp.dot(c2[1]))\n",
      "Progress:  28%|██▊       | 56/200 [19:56<54:09, 22.57s/it]"
     ]
    },
    {
     "name": "stdout",
     "output_type": "stream",
     "text": [
      "Time to: Calculate Ground State - 1.59s, Get Pauli Ops - 9.7s, Calculate Pauli Expectation Values - 8.5s, Calculate Covariance - 2.43s\n",
      "f0,f1,f2 = [1.1959681060580864e-08, 1.1959681060625179e-08, 1.1959681060665817e-08]\n",
      "d01,d02,d12 = [1.1123107651468755, 1.1123107651461455, 1.1123107651481303]\n"
     ]
    },
    {
     "name": "stderr",
     "output_type": "stream",
     "text": [
      "/cluster/home/mskrabulis/miniconda3/envs/quantech/lib/python3.9/site-packages/pyscf/symm/Dmatrix.py:156: RuntimeWarning: invalid value encountered in arccos\n",
      "  gamma = numpy.arccos(yp.dot(c2[1]))\n",
      "Progress:  28%|██▊       | 57/200 [20:19<54:03, 22.68s/it]"
     ]
    },
    {
     "name": "stdout",
     "output_type": "stream",
     "text": [
      "Time to: Calculate Ground State - 1.51s, Get Pauli Ops - 10.09s, Calculate Pauli Expectation Values - 8.36s, Calculate Covariance - 2.97s\n",
      "f0,f1,f2 = [8.609517855253234e-09, 8.609517855244108e-09, 8.609517855280885e-09]\n",
      "d01,d02,d12 = [1.1030042622030742, 1.1030042622023244, 1.1030042622043668]\n"
     ]
    },
    {
     "name": "stderr",
     "output_type": "stream",
     "text": [
      "/cluster/home/mskrabulis/miniconda3/envs/quantech/lib/python3.9/site-packages/pyscf/symm/Dmatrix.py:156: RuntimeWarning: invalid value encountered in arccos\n",
      "  gamma = numpy.arccos(yp.dot(c2[1]))\n",
      "Progress:  29%|██▉       | 58/200 [20:43<54:29, 23.02s/it]"
     ]
    },
    {
     "name": "stdout",
     "output_type": "stream",
     "text": [
      "Time to: Calculate Ground State - 1.42s, Get Pauli Ops - 10.35s, Calculate Pauli Expectation Values - 8.93s, Calculate Covariance - 3.1s\n",
      "f0,f1,f2 = [1.4486656757606294e-09, 1.4486656757959643e-09, 1.4486656757412727e-09]\n",
      "d01,d02,d12 = [1.0776520749017855, 1.0776520749010343, 1.0776520749030578]\n"
     ]
    },
    {
     "name": "stderr",
     "output_type": "stream",
     "text": [
      "/cluster/home/mskrabulis/miniconda3/envs/quantech/lib/python3.9/site-packages/pyscf/symm/Dmatrix.py:156: RuntimeWarning: invalid value encountered in arccos\n",
      "  gamma = numpy.arccos(yp.dot(c2[1]))\n",
      "Progress:  30%|██▉       | 59/200 [21:07<54:45, 23.30s/it]"
     ]
    },
    {
     "name": "stdout",
     "output_type": "stream",
     "text": [
      "Time to: Calculate Ground State - 1.5s, Get Pauli Ops - 9.88s, Calculate Pauli Expectation Values - 9.47s, Calculate Covariance - 3.1s\n",
      "f0,f1,f2 = [3.024891601617569e-09, 3.024891601615488e-09, 3.0248916016528727e-09]\n",
      "d01,d02,d12 = [1.080106553148783, 1.0801065531479745, 1.080106553150168]\n"
     ]
    },
    {
     "name": "stderr",
     "output_type": "stream",
     "text": [
      "/cluster/home/mskrabulis/miniconda3/envs/quantech/lib/python3.9/site-packages/pyscf/symm/Dmatrix.py:156: RuntimeWarning: invalid value encountered in arccos\n",
      "  gamma = numpy.arccos(yp.dot(c2[1]))\n",
      "Progress:  30%|███       | 60/200 [21:30<53:59, 23.14s/it]"
     ]
    },
    {
     "name": "stdout",
     "output_type": "stream",
     "text": [
      "Time to: Calculate Ground State - 1.49s, Get Pauli Ops - 9.58s, Calculate Pauli Expectation Values - 8.67s, Calculate Covariance - 3.01s\n",
      "f0,f1,f2 = [7.2047893505074154e-09, 7.2047893504539796e-09, 7.204789350501102e-09]\n",
      "d01,d02,d12 = [1.0845141571287007, 1.0845141571278327, 1.0845141571302255]\n"
     ]
    },
    {
     "name": "stderr",
     "output_type": "stream",
     "text": [
      "Progress:  30%|███       | 61/200 [21:53<53:32, 23.11s/it]"
     ]
    },
    {
     "name": "stdout",
     "output_type": "stream",
     "text": [
      "Time to: Calculate Ground State - 1.61s, Get Pauli Ops - 10.83s, Calculate Pauli Expectation Values - 8.62s, Calculate Covariance - 1.97s\n",
      "f0,f1,f2 = [1.6096124296811244e-09, 1.6096124297526327e-09, 1.6096124297051075e-09]\n",
      "d01,d02,d12 = [1.0886511200382505, 1.0886511200373754, 1.0886511200398388]\n"
     ]
    },
    {
     "name": "stderr",
     "output_type": "stream",
     "text": [
      "/cluster/home/mskrabulis/miniconda3/envs/quantech/lib/python3.9/site-packages/pyscf/symm/Dmatrix.py:156: RuntimeWarning: invalid value encountered in arccos\n",
      "  gamma = numpy.arccos(yp.dot(c2[1]))\n",
      "Progress:  31%|███       | 62/200 [22:16<53:25, 23.23s/it]"
     ]
    },
    {
     "name": "stdout",
     "output_type": "stream",
     "text": [
      "Time to: Calculate Ground State - 1.49s, Get Pauli Ops - 6.01s, Calculate Pauli Expectation Values - 12.85s, Calculate Covariance - 3.12s\n",
      "f0,f1,f2 = [1.4247253706103588e-10, 1.424725369387273e-10, 1.4247253697645152e-10]\n",
      "d01,d02,d12 = [1.0953597403547906, 1.0953597403539048, 1.095359740356432]\n"
     ]
    },
    {
     "name": "stderr",
     "output_type": "stream",
     "text": [
      "Progress:  32%|███▏      | 63/200 [22:36<50:15, 22.01s/it]"
     ]
    },
    {
     "name": "stdout",
     "output_type": "stream",
     "text": [
      "Time to: Calculate Ground State - 1.61s, Get Pauli Ops - 5.92s, Calculate Pauli Expectation Values - 9.06s, Calculate Covariance - 2.57s\n",
      "f0,f1,f2 = [4.641333229434903e-09, 4.641333229490281e-09, 4.641333229464332e-09]\n",
      "d01,d02,d12 = [1.1011312164586717, 1.1011312164577651, 1.1011312164603673]\n"
     ]
    },
    {
     "name": "stderr",
     "output_type": "stream",
     "text": [
      "Progress:  32%|███▏      | 64/200 [22:58<50:22, 22.22s/it]"
     ]
    },
    {
     "name": "stdout",
     "output_type": "stream",
     "text": [
      "Time to: Calculate Ground State - 0.97s, Get Pauli Ops - 10.24s, Calculate Pauli Expectation Values - 8.68s, Calculate Covariance - 2.83s\n",
      "f0,f1,f2 = [9.679270743051042e-09, 9.679270743122918e-09, 9.679270743075148e-09]\n",
      "d01,d02,d12 = [1.0985892097760424, 1.0985892097751129, 1.0985892097778185]\n"
     ]
    },
    {
     "name": "stderr",
     "output_type": "stream",
     "text": [
      "Progress:  32%|███▎      | 65/200 [23:19<48:55, 21.74s/it]"
     ]
    },
    {
     "name": "stdout",
     "output_type": "stream",
     "text": [
      "Time to: Calculate Ground State - 0.89s, Get Pauli Ops - 7.9s, Calculate Pauli Expectation Values - 9.03s, Calculate Covariance - 2.78s\n",
      "f0,f1,f2 = [2.8012731190100005e-09, 2.8012731190151844e-09, 2.8012731190010272e-09]\n",
      "d01,d02,d12 = [1.0965023810730303, 1.0965023810720924, 1.096502381074875]\n"
     ]
    },
    {
     "name": "stderr",
     "output_type": "stream",
     "text": [
      "Progress:  33%|███▎      | 66/200 [23:41<49:02, 21.96s/it]"
     ]
    },
    {
     "name": "stdout",
     "output_type": "stream",
     "text": [
      "Time to: Calculate Ground State - 1.57s, Get Pauli Ops - 8.47s, Calculate Pauli Expectation Values - 9.32s, Calculate Covariance - 3.08s\n",
      "f0,f1,f2 = [2.434558513654353e-09, 2.4345585137496925e-09, 2.434558513675845e-09]\n",
      "d01,d02,d12 = [1.0946109668478676, 1.0946109668469346, 1.094610966849765]\n"
     ]
    },
    {
     "name": "stderr",
     "output_type": "stream",
     "text": [
      "/cluster/home/mskrabulis/miniconda3/envs/quantech/lib/python3.9/site-packages/pyscf/symm/Dmatrix.py:156: RuntimeWarning: invalid value encountered in arccos\n",
      "  gamma = numpy.arccos(yp.dot(c2[1]))\n",
      "Progress:  34%|███▎      | 67/200 [24:02<47:38, 21.49s/it]"
     ]
    },
    {
     "name": "stdout",
     "output_type": "stream",
     "text": [
      "Time to: Calculate Ground State - 1.09s, Get Pauli Ops - 7.22s, Calculate Pauli Expectation Values - 9.19s, Calculate Covariance - 2.89s\n",
      "f0,f1,f2 = [8.103332646884622e-09, 8.10333264688896e-09, 8.10333264696214e-09]\n",
      "d01,d02,d12 = [1.0964640387555384, 1.09646403875463, 1.0964640387575306]\n"
     ]
    },
    {
     "name": "stderr",
     "output_type": "stream",
     "text": [
      "/cluster/home/mskrabulis/miniconda3/envs/quantech/lib/python3.9/site-packages/pyscf/symm/Dmatrix.py:156: RuntimeWarning: invalid value encountered in arccos\n",
      "  gamma = numpy.arccos(yp.dot(c2[1]))\n",
      "Progress:  34%|███▍      | 68/200 [24:24<47:39, 21.66s/it]"
     ]
    },
    {
     "name": "stdout",
     "output_type": "stream",
     "text": [
      "Time to: Calculate Ground State - 1.57s, Get Pauli Ops - 10.27s, Calculate Pauli Expectation Values - 8.4s, Calculate Covariance - 1.81s\n",
      "f0,f1,f2 = [1.8114147124292112e-09, 1.8114147124358746e-09, 1.8114147124404026e-09]\n",
      "d01,d02,d12 = [1.0974480612295519, 1.0974480612286637, 1.097448061231674]\n"
     ]
    },
    {
     "name": "stderr",
     "output_type": "stream",
     "text": [
      "Progress:  34%|███▍      | 69/200 [24:44<46:10, 21.15s/it]"
     ]
    },
    {
     "name": "stdout",
     "output_type": "stream",
     "text": [
      "Time to: Calculate Ground State - 1.53s, Get Pauli Ops - 7.46s, Calculate Pauli Expectation Values - 8.51s, Calculate Covariance - 2.45s\n",
      "f0,f1,f2 = [5.694208619620811e-09, 5.694208619690072e-09, 5.694208619665974e-09]\n",
      "d01,d02,d12 = [1.0967067217654436, 1.0967067217645814, 1.0967067217676927]\n"
     ]
    },
    {
     "name": "stderr",
     "output_type": "stream",
     "text": [
      "Progress:  35%|███▌      | 70/200 [25:04<45:28, 20.99s/it]"
     ]
    },
    {
     "name": "stdout",
     "output_type": "stream",
     "text": [
      "Time to: Calculate Ground State - 1.56s, Get Pauli Ops - 7.27s, Calculate Pauli Expectation Values - 9.03s, Calculate Covariance - 2.74s\n",
      "f0,f1,f2 = [5.036944678642361e-09, 5.036944678644681e-09, 5.03694467866222e-09]\n",
      "d01,d02,d12 = [1.0968716456605094, 1.0968716456596639, 1.0968716456629064]\n"
     ]
    },
    {
     "name": "stderr",
     "output_type": "stream",
     "text": [
      "/cluster/home/mskrabulis/miniconda3/envs/quantech/lib/python3.9/site-packages/pyscf/symm/Dmatrix.py:156: RuntimeWarning: invalid value encountered in arccos\n",
      "  gamma = numpy.arccos(yp.dot(c2[1]))\n",
      "Progress:  36%|███▌      | 71/200 [25:25<45:05, 20.97s/it]"
     ]
    },
    {
     "name": "stdout",
     "output_type": "stream",
     "text": [
      "Time to: Calculate Ground State - 1.54s, Get Pauli Ops - 7.84s, Calculate Pauli Expectation Values - 8.8s, Calculate Covariance - 2.74s\n",
      "f0,f1,f2 = [1.0961337993840232e-08, 1.0961337993785003e-08, 1.0961337993808148e-08]\n",
      "d01,d02,d12 = [1.0925167816286905, 1.092516781627862, 1.09251678163123]\n"
     ]
    },
    {
     "name": "stderr",
     "output_type": "stream",
     "text": [
      "/cluster/home/mskrabulis/miniconda3/envs/quantech/lib/python3.9/site-packages/pyscf/symm/Dmatrix.py:156: RuntimeWarning: invalid value encountered in arccos\n",
      "  gamma = numpy.arccos(yp.dot(c2[1]))\n",
      "Progress:  36%|███▌      | 72/200 [25:48<45:49, 21.48s/it]"
     ]
    },
    {
     "name": "stdout",
     "output_type": "stream",
     "text": [
      "Time to: Calculate Ground State - 1.75s, Get Pauli Ops - 6.62s, Calculate Pauli Expectation Values - 11.9s, Calculate Covariance - 2.39s\n",
      "f0,f1,f2 = [4.625465428190424e-09, 4.625465428077293e-09, 4.625465428111943e-09]\n",
      "d01,d02,d12 = [1.0805666732833266, 1.080566673282535, 1.0805666732859827]\n"
     ]
    },
    {
     "name": "stderr",
     "output_type": "stream",
     "text": [
      "/cluster/home/mskrabulis/miniconda3/envs/quantech/lib/python3.9/site-packages/pyscf/symm/Dmatrix.py:156: RuntimeWarning: invalid value encountered in arccos\n",
      "  gamma = numpy.arccos(yp.dot(c2[1]))\n",
      "Progress:  36%|███▋      | 73/200 [26:11<46:37, 22.02s/it]"
     ]
    },
    {
     "name": "stdout",
     "output_type": "stream",
     "text": [
      "Time to: Calculate Ground State - 1.56s, Get Pauli Ops - 9.31s, Calculate Pauli Expectation Values - 9.3s, Calculate Covariance - 3.1s\n",
      "f0,f1,f2 = [1.0144489454848219e-08, 1.0144489454961495e-08, 1.0144489454924755e-08]\n",
      "d01,d02,d12 = [1.0619341966377598, 1.0619341966370028, 1.061934196640542]\n"
     ]
    },
    {
     "name": "stderr",
     "output_type": "stream",
     "text": [
      "/cluster/home/mskrabulis/miniconda3/envs/quantech/lib/python3.9/site-packages/pyscf/symm/Dmatrix.py:156: RuntimeWarning: invalid value encountered in arccos\n",
      "  gamma = numpy.arccos(yp.dot(c2[1]))\n",
      "/cluster/home/mskrabulis/miniconda3/envs/quantech/lib/python3.9/site-packages/pyscf/symm/Dmatrix.py:156: RuntimeWarning: invalid value encountered in arccos\n",
      "  gamma = numpy.arccos(yp.dot(c2[1]))\n",
      "Progress:  37%|███▋      | 74/200 [26:35<47:31, 22.63s/it]"
     ]
    },
    {
     "name": "stdout",
     "output_type": "stream",
     "text": [
      "Time to: Calculate Ground State - 1.56s, Get Pauli Ops - 6.96s, Calculate Pauli Expectation Values - 13.16s, Calculate Covariance - 2.35s\n",
      "f0,f1,f2 = [1.2619889290937415e-08, 1.2619889290962631e-08, 1.2619889290954948e-08]\n",
      "d01,d02,d12 = [1.0437927497705077, 1.0437927497698098, 1.0437927497732902]\n"
     ]
    },
    {
     "name": "stderr",
     "output_type": "stream",
     "text": [
      "/cluster/home/mskrabulis/miniconda3/envs/quantech/lib/python3.9/site-packages/pyscf/symm/Dmatrix.py:156: RuntimeWarning: invalid value encountered in arccos\n",
      "  gamma = numpy.arccos(yp.dot(c2[1]))\n",
      "/cluster/home/mskrabulis/miniconda3/envs/quantech/lib/python3.9/site-packages/pyscf/symm/Dmatrix.py:156: RuntimeWarning: invalid value encountered in arccos\n",
      "  gamma = numpy.arccos(yp.dot(c2[1]))\n",
      "Progress:  38%|███▊      | 75/200 [26:58<47:01, 22.57s/it]"
     ]
    },
    {
     "name": "stdout",
     "output_type": "stream",
     "text": [
      "Time to: Calculate Ground State - 1.58s, Get Pauli Ops - 6.77s, Calculate Pauli Expectation Values - 11.01s, Calculate Covariance - 3.04s\n",
      "f0,f1,f2 = [6.601757583968065e-09, 6.601757584005887e-09, 6.601757583973341e-09]\n",
      "d01,d02,d12 = [0.9988151531172191, 0.9988151531166441, 0.9988151531198055]\n"
     ]
    },
    {
     "name": "stderr",
     "output_type": "stream",
     "text": [
      "/cluster/home/mskrabulis/miniconda3/envs/quantech/lib/python3.9/site-packages/pyscf/symm/Dmatrix.py:156: RuntimeWarning: invalid value encountered in arccos\n",
      "  gamma = numpy.arccos(yp.dot(c2[1]))\n",
      "Progress:  38%|███▊      | 76/200 [27:21<46:48, 22.65s/it]"
     ]
    },
    {
     "name": "stdout",
     "output_type": "stream",
     "text": [
      "Time to: Calculate Ground State - 1.62s, Get Pauli Ops - 8.88s, Calculate Pauli Expectation Values - 9.22s, Calculate Covariance - 3.1s\n",
      "f0,f1,f2 = [5.068780255192491e-09, 5.06878025511951e-09, 5.068780255141062e-09]\n",
      "d01,d02,d12 = [0.9794748954630537, 0.9794748954625982, 0.9794748954654586]\n"
     ]
    },
    {
     "name": "stderr",
     "output_type": "stream",
     "text": [
      "Progress:  38%|███▊      | 77/200 [27:46<48:08, 23.49s/it]"
     ]
    },
    {
     "name": "stdout",
     "output_type": "stream",
     "text": [
      "Time to: Calculate Ground State - 1.5s, Get Pauli Ops - 9.88s, Calculate Pauli Expectation Values - 11.12s, Calculate Covariance - 2.92s\n",
      "f0,f1,f2 = [9.773722749524522e-09, 9.77372274953425e-09, 9.773722749575086e-09]\n",
      "d01,d02,d12 = [0.979936733327218, 0.9799367333268474, 0.9799367333297088]\n"
     ]
    },
    {
     "name": "stderr",
     "output_type": "stream",
     "text": [
      "/cluster/home/mskrabulis/miniconda3/envs/quantech/lib/python3.9/site-packages/pyscf/symm/Dmatrix.py:156: RuntimeWarning: invalid value encountered in arccos\n",
      "  gamma = numpy.arccos(yp.dot(c2[1]))\n",
      "Progress:  39%|███▉      | 78/200 [28:10<47:50, 23.53s/it]"
     ]
    },
    {
     "name": "stdout",
     "output_type": "stream",
     "text": [
      "Time to: Calculate Ground State - 1.49s, Get Pauli Ops - 7.12s, Calculate Pauli Expectation Values - 11.97s, Calculate Covariance - 3.03s\n",
      "f0,f1,f2 = [6.613747532709176e-09, 6.613747532684835e-09, 6.6137475327019555e-09]\n",
      "d01,d02,d12 = [0.9833260190483866, 0.9833260190481141, 0.9833260190509565]\n"
     ]
    },
    {
     "name": "stderr",
     "output_type": "stream",
     "text": [
      "Progress:  40%|███▉      | 79/200 [28:33<47:12, 23.41s/it]"
     ]
    },
    {
     "name": "stdout",
     "output_type": "stream",
     "text": [
      "Time to: Calculate Ground State - 1.51s, Get Pauli Ops - 6.85s, Calculate Pauli Expectation Values - 12.3s, Calculate Covariance - 2.47s\n",
      "f0,f1,f2 = [1.5871332117444938e-09, 1.587133211795703e-09, 1.5871332117973126e-09]\n",
      "d01,d02,d12 = [0.9836866054752937, 0.9836866054751233, 0.9836866054778682]\n"
     ]
    },
    {
     "name": "stderr",
     "output_type": "stream",
     "text": [
      "/cluster/home/mskrabulis/miniconda3/envs/quantech/lib/python3.9/site-packages/pyscf/symm/Dmatrix.py:156: RuntimeWarning: invalid value encountered in arccos\n",
      "  gamma = numpy.arccos(yp.dot(c2[1]))\n",
      "Progress:  40%|████      | 80/200 [28:55<46:18, 23.15s/it]"
     ]
    },
    {
     "name": "stdout",
     "output_type": "stream",
     "text": [
      "Time to: Calculate Ground State - 1.19s, Get Pauli Ops - 10.01s, Calculate Pauli Expectation Values - 8.95s, Calculate Covariance - 2.39s\n",
      "f0,f1,f2 = [1.0736415578801139e-09, 1.073641557970453e-09, 1.0736415578728603e-09]\n",
      "d01,d02,d12 = [0.9835188685172065, 0.9835188685171627, 0.9835188685197759]\n"
     ]
    },
    {
     "name": "stderr",
     "output_type": "stream",
     "text": [
      "Progress:  40%|████      | 81/200 [29:18<45:45, 23.07s/it]"
     ]
    },
    {
     "name": "stdout",
     "output_type": "stream",
     "text": [
      "Time to: Calculate Ground State - 1.47s, Get Pauli Ops - 9.56s, Calculate Pauli Expectation Values - 8.88s, Calculate Covariance - 2.96s\n",
      "f0,f1,f2 = [5.82378936389507e-09, 5.823789363909802e-09, 5.82378936393545e-09]\n",
      "d01,d02,d12 = [0.9807517779357974, 0.9807517779358733, 0.9807517779383462]\n"
     ]
    },
    {
     "name": "stderr",
     "output_type": "stream",
     "text": [
      "/cluster/home/mskrabulis/miniconda3/envs/quantech/lib/python3.9/site-packages/pyscf/symm/Dmatrix.py:156: RuntimeWarning: invalid value encountered in arccos\n",
      "  gamma = numpy.arccos(yp.dot(c2[1]))\n",
      "Progress:  41%|████      | 82/200 [29:41<45:08, 22.95s/it]"
     ]
    },
    {
     "name": "stdout",
     "output_type": "stream",
     "text": [
      "Time to: Calculate Ground State - 1.54s, Get Pauli Ops - 6.64s, Calculate Pauli Expectation Values - 11.37s, Calculate Covariance - 3.11s\n",
      "f0,f1,f2 = [1.408214105791016e-09, 1.408214105842229e-09, 1.4082141058156675e-09]\n",
      "d01,d02,d12 = [0.9770499402596445, 0.9770499402598442, 0.9770499402622057]\n"
     ]
    },
    {
     "name": "stderr",
     "output_type": "stream",
     "text": [
      "Progress:  42%|████▏     | 83/200 [30:04<44:43, 22.93s/it]"
     ]
    },
    {
     "name": "stdout",
     "output_type": "stream",
     "text": [
      "Time to: Calculate Ground State - 1.65s, Get Pauli Ops - 7.6s, Calculate Pauli Expectation Values - 11.95s, Calculate Covariance - 1.69s\n",
      "f0,f1,f2 = [6.5343740023525745e-09, 6.534374002291496e-09, 6.534374002361849e-09]\n",
      "d01,d02,d12 = [0.9785246835132748, 0.978524683513622, 0.9785246835158543]\n"
     ]
    },
    {
     "name": "stderr",
     "output_type": "stream",
     "text": [
      "Progress:  42%|████▏     | 84/200 [30:25<43:35, 22.55s/it]"
     ]
    },
    {
     "name": "stdout",
     "output_type": "stream",
     "text": [
      "Time to: Calculate Ground State - 1.58s, Get Pauli Ops - 8.48s, Calculate Pauli Expectation Values - 8.72s, Calculate Covariance - 2.85s\n",
      "f0,f1,f2 = [2.3001173976844168e-09, 2.300117397650947e-09, 2.3001173976299097e-09]\n",
      "d01,d02,d12 = [0.9824957990512275, 0.9824957990517145, 0.9824957990538117]\n"
     ]
    },
    {
     "name": "stderr",
     "output_type": "stream",
     "text": [
      "Progress:  42%|████▎     | 85/200 [30:45<41:23, 21.59s/it]"
     ]
    },
    {
     "name": "stdout",
     "output_type": "stream",
     "text": [
      "Time to: Calculate Ground State - 1.12s, Get Pauli Ops - 5.94s, Calculate Pauli Expectation Values - 9.64s, Calculate Covariance - 2.65s\n",
      "f0,f1,f2 = [9.820793477409108e-09, 9.820793477368806e-09, 9.82079347737069e-09]\n",
      "d01,d02,d12 = [0.9846044904934221, 0.984604490494066, 0.984604490496029]\n"
     ]
    },
    {
     "name": "stderr",
     "output_type": "stream",
     "text": [
      "/cluster/home/mskrabulis/miniconda3/envs/quantech/lib/python3.9/site-packages/pyscf/symm/Dmatrix.py:156: RuntimeWarning: invalid value encountered in arccos\n",
      "  gamma = numpy.arccos(yp.dot(c2[1]))\n",
      "Progress:  43%|████▎     | 86/200 [31:07<41:32, 21.87s/it]"
     ]
    },
    {
     "name": "stdout",
     "output_type": "stream",
     "text": [
      "Time to: Calculate Ground State - 1.5s, Get Pauli Ops - 9.3s, Calculate Pauli Expectation Values - 8.93s, Calculate Covariance - 2.76s\n",
      "f0,f1,f2 = [3.997335520875117e-09, 3.9973355209050895e-09, 3.9973355209317926e-09]\n",
      "d01,d02,d12 = [0.9841216210230714, 0.9841216210238655, 0.9841216210256607]\n"
     ]
    },
    {
     "name": "stderr",
     "output_type": "stream",
     "text": [
      "Progress:  44%|████▎     | 87/200 [31:29<41:00, 21.77s/it]"
     ]
    },
    {
     "name": "stdout",
     "output_type": "stream",
     "text": [
      "Time to: Calculate Ground State - 1.6s, Get Pauli Ops - 8.81s, Calculate Pauli Expectation Values - 8.92s, Calculate Covariance - 2.2s\n",
      "f0,f1,f2 = [2.848498578234426e-09, 2.848498578256721e-09, 2.8484985782505644e-09]\n",
      "d01,d02,d12 = [0.9813573173920489, 0.9813573173929927, 0.9813573173946016]\n"
     ]
    },
    {
     "name": "stderr",
     "output_type": "stream",
     "text": [
      "Progress:  44%|████▍     | 88/200 [31:54<42:23, 22.71s/it]"
     ]
    },
    {
     "name": "stdout",
     "output_type": "stream",
     "text": [
      "Time to: Calculate Ground State - 1.32s, Get Pauli Ops - 11.02s, Calculate Pauli Expectation Values - 9.76s, Calculate Covariance - 2.8s\n",
      "f0,f1,f2 = [5.568319226500646e-10, 5.568319226644882e-10, 5.568319227029734e-10]\n",
      "d01,d02,d12 = [0.9770964866931809, 0.9770964866942583, 0.9770964866956504]\n"
     ]
    },
    {
     "name": "stderr",
     "output_type": "stream",
     "text": [
      "Progress:  44%|████▍     | 89/200 [32:14<40:28, 21.88s/it]"
     ]
    },
    {
     "name": "stdout",
     "output_type": "stream",
     "text": [
      "Time to: Calculate Ground State - 1.53s, Get Pauli Ops - 6.34s, Calculate Pauli Expectation Values - 9.29s, Calculate Covariance - 2.76s\n",
      "f0,f1,f2 = [5.349887497929781e-09, 5.34988749793531e-09, 5.34988749786862e-09]\n",
      "d01,d02,d12 = [0.9782370821196125, 0.9782370821208148, 0.9782370821219951]\n"
     ]
    },
    {
     "name": "stderr",
     "output_type": "stream",
     "text": [
      "Progress:  45%|████▌     | 90/200 [32:37<40:58, 22.35s/it]"
     ]
    },
    {
     "name": "stdout",
     "output_type": "stream",
     "text": [
      "Time to: Calculate Ground State - 1.53s, Get Pauli Ops - 6.74s, Calculate Pauli Expectation Values - 11.98s, Calculate Covariance - 3.19s\n",
      "f0,f1,f2 = [5.180616974030603e-09, 5.180616974066598e-09, 5.180616974005735e-09]\n",
      "d01,d02,d12 = [0.9802340659765908, 0.9802340659779012, 0.9802340659788709]\n"
     ]
    },
    {
     "name": "stderr",
     "output_type": "stream",
     "text": [
      "Progress:  46%|████▌     | 91/200 [33:01<41:12, 22.68s/it]"
     ]
    },
    {
     "name": "stdout",
     "output_type": "stream",
     "text": [
      "Time to: Calculate Ground State - 1.71s, Get Pauli Ops - 7.71s, Calculate Pauli Expectation Values - 11.48s, Calculate Covariance - 2.55s\n",
      "f0,f1,f2 = [6.490605555866612e-09, 6.490605555809592e-09, 6.490605555797342e-09]\n",
      "d01,d02,d12 = [0.9847180351797447, 0.9847180351811629, 0.9847180351819242]\n"
     ]
    },
    {
     "name": "stderr",
     "output_type": "stream",
     "text": [
      "/cluster/home/mskrabulis/miniconda3/envs/quantech/lib/python3.9/site-packages/pyscf/symm/Dmatrix.py:156: RuntimeWarning: invalid value encountered in arccos\n",
      "  gamma = numpy.arccos(yp.dot(c2[1]))\n",
      "Progress:  46%|████▌     | 92/200 [33:24<41:18, 22.95s/it]"
     ]
    },
    {
     "name": "stdout",
     "output_type": "stream",
     "text": [
      "Time to: Calculate Ground State - 1.59s, Get Pauli Ops - 9.87s, Calculate Pauli Expectation Values - 9.46s, Calculate Covariance - 2.64s\n",
      "f0,f1,f2 = [6.964420589482398e-09, 6.9644205895360565e-09, 6.964420589579934e-09]\n",
      "d01,d02,d12 = [0.9823396816629677, 0.9823396816645072, 0.9823396816650565]\n"
     ]
    },
    {
     "name": "stderr",
     "output_type": "stream",
     "text": [
      "Progress:  46%|████▋     | 93/200 [33:45<39:55, 22.39s/it]"
     ]
    },
    {
     "name": "stdout",
     "output_type": "stream",
     "text": [
      "Time to: Calculate Ground State - 1.48s, Get Pauli Ops - 7.41s, Calculate Pauli Expectation Values - 9.79s, Calculate Covariance - 2.39s\n",
      "f0,f1,f2 = [1.1545737141944084e-08, 1.154573714187239e-08, 1.1545737141919707e-08]\n",
      "d01,d02,d12 = [0.9727488007529688, 0.9727488007545918, 0.9727488007549445]\n"
     ]
    },
    {
     "name": "stderr",
     "output_type": "stream",
     "text": [
      "/cluster/home/mskrabulis/miniconda3/envs/quantech/lib/python3.9/site-packages/pyscf/symm/Dmatrix.py:156: RuntimeWarning: invalid value encountered in arccos\n",
      "  gamma = numpy.arccos(yp.dot(c2[1]))\n",
      "/cluster/home/mskrabulis/miniconda3/envs/quantech/lib/python3.9/site-packages/pyscf/symm/Dmatrix.py:156: RuntimeWarning: invalid value encountered in arccos\n",
      "  gamma = numpy.arccos(yp.dot(c2[1]))\n",
      "Progress:  47%|████▋     | 94/200 [34:05<38:04, 21.55s/it]"
     ]
    },
    {
     "name": "stdout",
     "output_type": "stream",
     "text": [
      "Time to: Calculate Ground State - 1.47s, Get Pauli Ops - 6.95s, Calculate Pauli Expectation Values - 8.47s, Calculate Covariance - 2.69s\n",
      "f0,f1,f2 = [5.399028894137516e-09, 5.399028894198348e-09, 5.399028894180302e-09]\n",
      "d01,d02,d12 = [0.9506531350550327, 0.9506531350565907, 0.9506531350567434]\n"
     ]
    },
    {
     "name": "stderr",
     "output_type": "stream",
     "text": [
      "/cluster/home/mskrabulis/miniconda3/envs/quantech/lib/python3.9/site-packages/pyscf/symm/Dmatrix.py:156: RuntimeWarning: invalid value encountered in arccos\n",
      "  gamma = numpy.arccos(yp.dot(c2[1]))\n",
      "Progress:  48%|████▊     | 95/200 [34:26<37:45, 21.57s/it]"
     ]
    },
    {
     "name": "stdout",
     "output_type": "stream",
     "text": [
      "Time to: Calculate Ground State - 1.46s, Get Pauli Ops - 6.85s, Calculate Pauli Expectation Values - 10.79s, Calculate Covariance - 2.51s\n",
      "f0,f1,f2 = [7.3563349199900965e-09, 7.356334919998562e-09, 7.356334919895415e-09]\n",
      "d01,d02,d12 = [0.9597150456380326, 0.9597150456395466, 0.9597150456394975]\n"
     ]
    },
    {
     "name": "stderr",
     "output_type": "stream",
     "text": [
      "/cluster/home/mskrabulis/miniconda3/envs/quantech/lib/python3.9/site-packages/pyscf/symm/Dmatrix.py:156: RuntimeWarning: invalid value encountered in arccos\n",
      "  gamma = numpy.arccos(yp.dot(c2[1]))\n",
      "Progress:  48%|████▊     | 96/200 [34:46<36:30, 21.06s/it]"
     ]
    },
    {
     "name": "stdout",
     "output_type": "stream",
     "text": [
      "Time to: Calculate Ground State - 1.0s, Get Pauli Ops - 8.44s, Calculate Pauli Expectation Values - 8.68s, Calculate Covariance - 1.74s\n",
      "f0,f1,f2 = [4.188181599926038e-09, 4.188181599934318e-09, 4.188181599886743e-09]\n",
      "d01,d02,d12 = [0.9702214413363017, 0.9702214413377784, 0.9702214413375178]\n"
     ]
    },
    {
     "name": "stderr",
     "output_type": "stream",
     "text": [
      "Progress:  48%|████▊     | 97/200 [35:06<35:17, 20.56s/it]"
     ]
    },
    {
     "name": "stdout",
     "output_type": "stream",
     "text": [
      "Time to: Calculate Ground State - 0.84s, Get Pauli Ops - 7.98s, Calculate Pauli Expectation Values - 8.42s, Calculate Covariance - 2.13s\n",
      "f0,f1,f2 = [6.8424054513516e-09, 6.842405451357248e-09, 6.842405451319476e-09]\n",
      "d01,d02,d12 = [0.9882921162766631, 0.9882921162781787, 0.988292116277691]\n"
     ]
    },
    {
     "name": "stderr",
     "output_type": "stream",
     "text": [
      "Progress:  49%|████▉     | 98/200 [35:25<34:12, 20.13s/it]"
     ]
    },
    {
     "name": "stdout",
     "output_type": "stream",
     "text": [
      "Time to: Calculate Ground State - 0.91s, Get Pauli Ops - 5.87s, Calculate Pauli Expectation Values - 9.83s, Calculate Covariance - 2.5s\n",
      "f0,f1,f2 = [6.033053144244916e-09, 6.033053144233904e-09, 6.033053144232163e-09]\n",
      "d01,d02,d12 = [1.0332725321770386, 1.0332725321785612, 1.033272532177868]\n"
     ]
    },
    {
     "name": "stderr",
     "output_type": "stream",
     "text": [
      "Progress:  50%|████▉     | 99/200 [35:45<33:56, 20.16s/it]"
     ]
    },
    {
     "name": "stdout",
     "output_type": "stream",
     "text": [
      "Time to: Calculate Ground State - 1.49s, Get Pauli Ops - 6.97s, Calculate Pauli Expectation Values - 9.65s, Calculate Covariance - 2.13s\n",
      "f0,f1,f2 = [4.971727171634231e-09, 4.971727171585864e-09, 4.971727171596385e-09]\n",
      "d01,d02,d12 = [1.0026704556861588, 1.0026704556878565, 1.0026704556868364]\n"
     ]
    },
    {
     "name": "stderr",
     "output_type": "stream",
     "text": [
      "Progress:  50%|█████     | 100/200 [36:09<35:38, 21.39s/it]"
     ]
    },
    {
     "name": "stdout",
     "output_type": "stream",
     "text": [
      "Time to: Calculate Ground State - 1.51s, Get Pauli Ops - 11.36s, Calculate Pauli Expectation Values - 8.41s, Calculate Covariance - 2.95s\n",
      "f0,f1,f2 = [2.8415971957239334e-09, 2.841597195770602e-09, 2.841597195773152e-09]\n",
      "d01,d02,d12 = [0.9786317194319123, 0.9786317194337064, 0.9786317194324136]\n"
     ]
    },
    {
     "name": "stderr",
     "output_type": "stream",
     "text": [
      "Progress:  50%|█████     | 101/200 [36:28<34:04, 20.65s/it]"
     ]
    },
    {
     "name": "stdout",
     "output_type": "stream",
     "text": [
      "Time to: Calculate Ground State - 1.5s, Get Pauli Ops - 5.83s, Calculate Pauli Expectation Values - 8.95s, Calculate Covariance - 2.65s\n",
      "f0,f1,f2 = [5.905049731008855e-11, 5.905049738760696e-11, 5.905049733473333e-11]\n",
      "d01,d02,d12 = [0.9635547764941528, 0.9635547764959539, 0.9635547764944569]\n"
     ]
    },
    {
     "name": "stderr",
     "output_type": "stream",
     "text": [
      "/cluster/home/mskrabulis/miniconda3/envs/quantech/lib/python3.9/site-packages/pyscf/symm/Dmatrix.py:156: RuntimeWarning: invalid value encountered in arccos\n",
      "  gamma = numpy.arccos(yp.dot(c2[1]))\n",
      "Progress:  51%|█████     | 102/200 [36:49<33:52, 20.74s/it]"
     ]
    },
    {
     "name": "stdout",
     "output_type": "stream",
     "text": [
      "Time to: Calculate Ground State - 1.53s, Get Pauli Ops - 7.12s, Calculate Pauli Expectation Values - 9.49s, Calculate Covariance - 2.77s\n",
      "f0,f1,f2 = [3.77734024192209e-09, 3.7773402418796546e-09, 3.777340241882281e-09]\n",
      "d01,d02,d12 = [0.9479983530348417, 0.9479983530364613, 0.9479983530349124]\n"
     ]
    },
    {
     "name": "stderr",
     "output_type": "stream",
     "text": [
      "Progress:  52%|█████▏    | 103/200 [37:10<33:48, 20.91s/it]"
     ]
    },
    {
     "name": "stdout",
     "output_type": "stream",
     "text": [
      "Time to: Calculate Ground State - 1.51s, Get Pauli Ops - 7.57s, Calculate Pauli Expectation Values - 9.78s, Calculate Covariance - 2.45s\n",
      "f0,f1,f2 = [4.205440532319195e-09, 4.205440532406805e-09, 4.205440532347814e-09]\n",
      "d01,d02,d12 = [0.9286550633201747, 0.9286550633214793, 0.9286550633200299]\n"
     ]
    },
    {
     "name": "stderr",
     "output_type": "stream",
     "text": [
      "Progress:  52%|█████▏    | 104/200 [37:35<35:25, 22.14s/it]"
     ]
    },
    {
     "name": "stdout",
     "output_type": "stream",
     "text": [
      "Time to: Calculate Ground State - 1.61s, Get Pauli Ops - 7.41s, Calculate Pauli Expectation Values - 12.81s, Calculate Covariance - 3.18s\n",
      "f0,f1,f2 = [1.735479465025493e-08, 1.7354794650297005e-08, 1.7354794650259295e-08]\n",
      "d01,d02,d12 = [0.9177564304494108, 0.917756430450432, 0.9177564304490503]\n"
     ]
    },
    {
     "name": "stderr",
     "output_type": "stream",
     "text": [
      "/cluster/home/mskrabulis/miniconda3/envs/quantech/lib/python3.9/site-packages/pyscf/symm/Dmatrix.py:156: RuntimeWarning: invalid value encountered in arccos\n",
      "  gamma = numpy.arccos(yp.dot(c2[1]))\n",
      "Progress:  52%|█████▎    | 105/200 [37:58<35:21, 22.33s/it]"
     ]
    },
    {
     "name": "stdout",
     "output_type": "stream",
     "text": [
      "Time to: Calculate Ground State - 1.65s, Get Pauli Ops - 7.83s, Calculate Pauli Expectation Values - 10.17s, Calculate Covariance - 3.1s\n",
      "f0,f1,f2 = [9.161617795292542e-09, 9.161617795369622e-09, 9.16161779529471e-09]\n",
      "d01,d02,d12 = [0.8985946879824158, 0.8985946879830984, 0.8985946879818638]\n"
     ]
    },
    {
     "name": "stderr",
     "output_type": "stream",
     "text": [
      "/cluster/home/mskrabulis/miniconda3/envs/quantech/lib/python3.9/site-packages/pyscf/symm/Dmatrix.py:156: RuntimeWarning: invalid value encountered in arccos\n",
      "  gamma = numpy.arccos(yp.dot(c2[1]))\n",
      "Progress:  53%|█████▎    | 106/200 [38:19<34:21, 21.94s/it]"
     ]
    },
    {
     "name": "stdout",
     "output_type": "stream",
     "text": [
      "Time to: Calculate Ground State - 1.02s, Get Pauli Ops - 7.79s, Calculate Pauli Expectation Values - 9.5s, Calculate Covariance - 2.7s\n",
      "f0,f1,f2 = [7.739462883297815e-10, 7.739462883674996e-10, 7.739462883777719e-10]\n",
      "d01,d02,d12 = [0.8901517503121262, 0.8901517503125527, 0.8901517503113051]\n"
     ]
    },
    {
     "name": "stderr",
     "output_type": "stream",
     "text": [
      "Progress:  54%|█████▎    | 107/200 [38:41<33:46, 21.79s/it]"
     ]
    },
    {
     "name": "stdout",
     "output_type": "stream",
     "text": [
      "Time to: Calculate Ground State - 1.53s, Get Pauli Ops - 7.45s, Calculate Pauli Expectation Values - 9.56s, Calculate Covariance - 2.91s\n",
      "f0,f1,f2 = [7.80891489281941e-09, 7.808914892815453e-09, 7.808914892821303e-09]\n",
      "d01,d02,d12 = [0.8785567150849214, 0.8785567150851057, 0.8785567150838114]\n"
     ]
    },
    {
     "name": "stderr",
     "output_type": "stream",
     "text": [
      "Progress:  54%|█████▍    | 108/200 [39:04<34:05, 22.23s/it]"
     ]
    },
    {
     "name": "stdout",
     "output_type": "stream",
     "text": [
      "Time to: Calculate Ground State - 1.56s, Get Pauli Ops - 10.15s, Calculate Pauli Expectation Values - 9.79s, Calculate Covariance - 1.74s\n",
      "f0,f1,f2 = [1.307331713842793e-08, 1.3073317138510011e-08, 1.3073317138480455e-08]\n",
      "d01,d02,d12 = [0.8751511973264493, 0.8751511973263785, 0.8751511973251231]\n"
     ]
    },
    {
     "name": "stderr",
     "output_type": "stream",
     "text": [
      "Progress:  55%|█████▍    | 109/200 [39:27<33:58, 22.40s/it]"
     ]
    },
    {
     "name": "stdout",
     "output_type": "stream",
     "text": [
      "Time to: Calculate Ground State - 1.62s, Get Pauli Ops - 8.89s, Calculate Pauli Expectation Values - 9.44s, Calculate Covariance - 2.83s\n",
      "f0,f1,f2 = [1.239249717430305e-09, 1.2392497174701322e-09, 1.239249717466037e-09]\n",
      "d01,d02,d12 = [0.8738663443308402, 0.873866344330511, 0.8738663443293017]\n"
     ]
    },
    {
     "name": "stderr",
     "output_type": "stream",
     "text": [
      "/cluster/home/mskrabulis/miniconda3/envs/quantech/lib/python3.9/site-packages/pyscf/symm/Dmatrix.py:156: RuntimeWarning: invalid value encountered in arccos\n",
      "  gamma = numpy.arccos(yp.dot(c2[1]))\n",
      "Progress:  55%|█████▌    | 110/200 [39:47<32:25, 21.61s/it]"
     ]
    },
    {
     "name": "stdout",
     "output_type": "stream",
     "text": [
      "Time to: Calculate Ground State - 0.93s, Get Pauli Ops - 7.34s, Calculate Pauli Expectation Values - 9.61s, Calculate Covariance - 1.88s\n",
      "f0,f1,f2 = [1.1561204110368984e-08, 1.1561204110429989e-08, 1.1561204110443525e-08]\n",
      "d01,d02,d12 = [0.8783452531118485, 0.8783452531112681, 0.8783452531101197]\n"
     ]
    },
    {
     "name": "stderr",
     "output_type": "stream",
     "text": [
      "/cluster/home/mskrabulis/miniconda3/envs/quantech/lib/python3.9/site-packages/pyscf/symm/Dmatrix.py:156: RuntimeWarning: invalid value encountered in arccos\n",
      "  gamma = numpy.arccos(yp.dot(c2[1]))\n",
      "Progress:  56%|█████▌    | 111/200 [40:06<31:03, 20.93s/it]"
     ]
    },
    {
     "name": "stdout",
     "output_type": "stream",
     "text": [
      "Time to: Calculate Ground State - 0.92s, Get Pauli Ops - 6.0s, Calculate Pauli Expectation Values - 9.51s, Calculate Covariance - 2.9s\n",
      "f0,f1,f2 = [1.6516202660136972e-08, 1.6516202660153936e-08, 1.651620266016345e-08]\n",
      "d01,d02,d12 = [0.8841775201455908, 0.8841775201447825, 0.8841775201437229]\n"
     ]
    },
    {
     "name": "stderr",
     "output_type": "stream",
     "text": [
      "/cluster/home/mskrabulis/miniconda3/envs/quantech/lib/python3.9/site-packages/pyscf/symm/Dmatrix.py:156: RuntimeWarning: invalid value encountered in arccos\n",
      "  gamma = numpy.arccos(yp.dot(c2[1]))\n",
      "Progress:  56%|█████▌    | 112/200 [40:26<30:21, 20.70s/it]"
     ]
    },
    {
     "name": "stdout",
     "output_type": "stream",
     "text": [
      "Time to: Calculate Ground State - 1.48s, Get Pauli Ops - 6.45s, Calculate Pauli Expectation Values - 9.45s, Calculate Covariance - 2.76s\n",
      "f0,f1,f2 = [1.689151516408625e-08, 1.689151516406403e-08, 1.6891515164106285e-08]\n",
      "d01,d02,d12 = [0.8934715346143016, 0.893471534613256, 0.8934715346122528]\n"
     ]
    },
    {
     "name": "stderr",
     "output_type": "stream",
     "text": [
      "Progress:  56%|█████▋    | 113/200 [40:48<30:26, 20.99s/it]"
     ]
    },
    {
     "name": "stdout",
     "output_type": "stream",
     "text": [
      "Time to: Calculate Ground State - 0.93s, Get Pauli Ops - 9.08s, Calculate Pauli Expectation Values - 9.27s, Calculate Covariance - 2.37s\n",
      "f0,f1,f2 = [6.915064281387372e-09, 6.915064281361081e-09, 6.915064281356041e-09]\n",
      "d01,d02,d12 = [0.9092267914087448, 0.9092267914075635, 0.9092267914067081]\n"
     ]
    },
    {
     "name": "stderr",
     "output_type": "stream",
     "text": [
      "/cluster/home/mskrabulis/miniconda3/envs/quantech/lib/python3.9/site-packages/pyscf/symm/Dmatrix.py:156: RuntimeWarning: invalid value encountered in arccos\n",
      "  gamma = numpy.arccos(yp.dot(c2[1]))\n",
      "Progress:  57%|█████▋    | 114/200 [41:11<30:52, 21.54s/it]"
     ]
    },
    {
     "name": "stdout",
     "output_type": "stream",
     "text": [
      "Time to: Calculate Ground State - 1.38s, Get Pauli Ops - 6.11s, Calculate Pauli Expectation Values - 12.35s, Calculate Covariance - 2.98s\n",
      "f0,f1,f2 = [1.5920600568500154e-09, 1.5920600568186545e-09, 1.59206005678216e-09]\n",
      "d01,d02,d12 = [0.9365269812686886, 0.9365269812672976, 0.9365269812665281]\n"
     ]
    },
    {
     "name": "stderr",
     "output_type": "stream",
     "text": [
      "Progress:  57%|█████▊    | 115/200 [41:34<31:26, 22.19s/it]"
     ]
    },
    {
     "name": "stdout",
     "output_type": "stream",
     "text": [
      "Time to: Calculate Ground State - 1.62s, Get Pauli Ops - 7.02s, Calculate Pauli Expectation Values - 12.2s, Calculate Covariance - 2.85s\n",
      "f0,f1,f2 = [1.9053167420291284e-09, 1.9053167419812127e-09, 1.9053167420120144e-09]\n",
      "d01,d02,d12 = [0.9973482693233995, 0.9973482693218574, 0.9973482693212004]\n"
     ]
    },
    {
     "name": "stderr",
     "output_type": "stream",
     "text": [
      "/cluster/home/mskrabulis/miniconda3/envs/quantech/lib/python3.9/site-packages/pyscf/symm/Dmatrix.py:156: RuntimeWarning: invalid value encountered in arccos\n",
      "  gamma = numpy.arccos(yp.dot(c2[1]))\n",
      "/cluster/home/mskrabulis/miniconda3/envs/quantech/lib/python3.9/site-packages/pyscf/symm/Dmatrix.py:156: RuntimeWarning: invalid value encountered in arccos\n",
      "  gamma = numpy.arccos(yp.dot(c2[1]))\n",
      "Progress:  58%|█████▊    | 116/200 [41:55<30:15, 21.61s/it]"
     ]
    },
    {
     "name": "stdout",
     "output_type": "stream",
     "text": [
      "Time to: Calculate Ground State - 1.5s, Get Pauli Ops - 5.79s, Calculate Pauli Expectation Values - 10.51s, Calculate Covariance - 2.44s\n",
      "f0,f1,f2 = [3.953964458291719e-09, 3.95396445820866e-09, 3.953964458207111e-09]\n",
      "d01,d02,d12 = [1.0600565427888355, 1.0600565427871045, 1.0600565427865065]\n"
     ]
    },
    {
     "name": "stderr",
     "output_type": "stream",
     "text": [
      "Progress:  58%|█████▊    | 117/200 [42:15<29:31, 21.34s/it]"
     ]
    },
    {
     "name": "stdout",
     "output_type": "stream",
     "text": [
      "Time to: Calculate Ground State - 1.49s, Get Pauli Ops - 7.06s, Calculate Pauli Expectation Values - 9.75s, Calculate Covariance - 2.41s\n",
      "f0,f1,f2 = [5.844511123747521e-09, 5.844511123745439e-09, 5.844511123705815e-09]\n",
      "d01,d02,d12 = [1.0921314415967607, 1.0921314415953607, 1.0921314415949752]\n"
     ]
    },
    {
     "name": "stderr",
     "output_type": "stream",
     "text": [
      "/cluster/home/mskrabulis/miniconda3/envs/quantech/lib/python3.9/site-packages/pyscf/symm/Dmatrix.py:156: RuntimeWarning: invalid value encountered in arccos\n",
      "  gamma = numpy.arccos(yp.dot(c2[1]))\n",
      "Progress:  59%|█████▉    | 118/200 [42:36<28:55, 21.17s/it]"
     ]
    },
    {
     "name": "stdout",
     "output_type": "stream",
     "text": [
      "Time to: Calculate Ground State - 1.52s, Get Pauli Ops - 7.06s, Calculate Pauli Expectation Values - 9.88s, Calculate Covariance - 2.29s\n",
      "f0,f1,f2 = [3.334455520958062e-09, 3.334455520970383e-09, 3.334455520898794e-09]\n",
      "d01,d02,d12 = [1.0991561102575145, 1.0991561102564573, 1.0991561102562912]\n"
     ]
    },
    {
     "name": "stderr",
     "output_type": "stream",
     "text": [
      "Progress:  60%|█████▉    | 119/200 [43:01<30:19, 22.46s/it]"
     ]
    },
    {
     "name": "stdout",
     "output_type": "stream",
     "text": [
      "Time to: Calculate Ground State - 1.23s, Get Pauli Ops - 11.48s, Calculate Pauli Expectation Values - 9.52s, Calculate Covariance - 3.23s\n",
      "f0,f1,f2 = [7.633951557204815e-09, 7.633951557159798e-09, 7.633951557190376e-09]\n",
      "d01,d02,d12 = [1.1045112505398227, 1.1045112505390682, 1.104511250539129]\n"
     ]
    },
    {
     "name": "stderr",
     "output_type": "stream",
     "text": [
      "/cluster/home/mskrabulis/miniconda3/envs/quantech/lib/python3.9/site-packages/pyscf/symm/Dmatrix.py:156: RuntimeWarning: invalid value encountered in arccos\n",
      "  gamma = numpy.arccos(yp.dot(c2[1]))\n",
      "Progress:  60%|██████    | 120/200 [43:23<29:34, 22.19s/it]"
     ]
    },
    {
     "name": "stdout",
     "output_type": "stream",
     "text": [
      "Time to: Calculate Ground State - 1.53s, Get Pauli Ops - 5.53s, Calculate Pauli Expectation Values - 12.01s, Calculate Covariance - 2.46s\n",
      "f0,f1,f2 = [3.77565168178469e-09, 3.775651681698254e-09, 3.7756516817520805e-09]\n",
      "d01,d02,d12 = [1.1110895765631499, 1.1110895765627251, 1.1110895765629851]\n"
     ]
    },
    {
     "name": "stderr",
     "output_type": "stream",
     "text": [
      "/cluster/home/mskrabulis/miniconda3/envs/quantech/lib/python3.9/site-packages/pyscf/symm/Dmatrix.py:156: RuntimeWarning: invalid value encountered in arccos\n",
      "  gamma = numpy.arccos(yp.dot(c2[1]))\n",
      "Progress:  60%|██████    | 121/200 [43:47<29:46, 22.62s/it]"
     ]
    },
    {
     "name": "stdout",
     "output_type": "stream",
     "text": [
      "Time to: Calculate Ground State - 1.6s, Get Pauli Ops - 10.56s, Calculate Pauli Expectation Values - 8.86s, Calculate Covariance - 2.59s\n",
      "f0,f1,f2 = [5.468531013115238e-09, 5.468531013144626e-09, 5.4685310131443436e-09]\n",
      "d01,d02,d12 = [1.1230451036713802, 1.1230451036712936, 1.1230451036717306]\n"
     ]
    },
    {
     "name": "stderr",
     "output_type": "stream",
     "text": [
      "Progress:  61%|██████    | 122/200 [44:08<28:56, 22.26s/it]"
     ]
    },
    {
     "name": "stdout",
     "output_type": "stream",
     "text": [
      "Time to: Calculate Ground State - 1.06s, Get Pauli Ops - 8.43s, Calculate Pauli Expectation Values - 9.37s, Calculate Covariance - 2.55s\n",
      "f0,f1,f2 = [8.664851843260308e-09, 8.664851843301847e-09, 8.664851843257919e-09]\n",
      "d01,d02,d12 = [1.1205498479994112, 1.1205498479996816, 1.1205498480002785]\n"
     ]
    },
    {
     "name": "stderr",
     "output_type": "stream",
     "text": [
      "Progress:  62%|██████▏   | 123/200 [44:31<28:40, 22.34s/it]"
     ]
    },
    {
     "name": "stdout",
     "output_type": "stream",
     "text": [
      "Time to: Calculate Ground State - 1.63s, Get Pauli Ops - 6.44s, Calculate Pauli Expectation Values - 11.57s, Calculate Covariance - 2.88s\n",
      "f0,f1,f2 = [1.2099435853570605e-08, 1.2099435853537996e-08, 1.209943585356323e-08]\n",
      "d01,d02,d12 = [1.1125377193453678, 1.1125377193459738, 1.1125377193467343]\n"
     ]
    },
    {
     "name": "stderr",
     "output_type": "stream",
     "text": [
      "Progress:  62%|██████▏   | 124/200 [44:51<27:42, 21.88s/it]"
     ]
    },
    {
     "name": "stdout",
     "output_type": "stream",
     "text": [
      "Time to: Calculate Ground State - 1.65s, Get Pauli Ops - 7.82s, Calculate Pauli Expectation Values - 8.69s, Calculate Covariance - 2.63s\n",
      "f0,f1,f2 = [8.139891252183053e-09, 8.139891252217747e-09, 8.139891252137497e-09]\n",
      "d01,d02,d12 = [1.0947938215726096, 1.0947938215735677, 1.0947938215745034]\n"
     ]
    },
    {
     "name": "stderr",
     "output_type": "stream",
     "text": [
      "Progress:  62%|██████▎   | 125/200 [45:15<27:53, 22.31s/it]"
     ]
    },
    {
     "name": "stdout",
     "output_type": "stream",
     "text": [
      "Time to: Calculate Ground State - 1.57s, Get Pauli Ops - 6.54s, Calculate Pauli Expectation Values - 12.98s, Calculate Covariance - 2.22s\n",
      "f0,f1,f2 = [1.0791277474172724e-08, 1.0791277474197073e-08, 1.0791277474232629e-08]\n",
      "d01,d02,d12 = [1.0759196287027013, 1.0759196287039672, 1.0759196287050492]\n"
     ]
    },
    {
     "name": "stderr",
     "output_type": "stream",
     "text": [
      "Progress:  63%|██████▎   | 126/200 [45:39<28:05, 22.77s/it]"
     ]
    },
    {
     "name": "stdout",
     "output_type": "stream",
     "text": [
      "Time to: Calculate Ground State - 0.89s, Get Pauli Ops - 7.44s, Calculate Pauli Expectation Values - 13.71s, Calculate Covariance - 1.81s\n",
      "f0,f1,f2 = [2.8350425177344766e-09, 2.835042517736896e-09, 2.8350425177111435e-09]\n",
      "d01,d02,d12 = [1.0317534727967785, 1.0317534727984023, 1.0317534727996671]\n"
     ]
    },
    {
     "name": "stderr",
     "output_type": "stream",
     "text": [
      "Progress:  64%|██████▎   | 127/200 [46:02<27:51, 22.90s/it]"
     ]
    },
    {
     "name": "stdout",
     "output_type": "stream",
     "text": [
      "Time to: Calculate Ground State - 0.91s, Get Pauli Ops - 5.57s, Calculate Pauli Expectation Values - 13.89s, Calculate Covariance - 2.81s\n",
      "f0,f1,f2 = [3.026636083488097e-09, 3.0266360834913814e-09, 3.026636083473127e-09]\n",
      "d01,d02,d12 = [1.0169952371371105, 1.016995237138793, 1.0169952371400144]\n"
     ]
    },
    {
     "name": "stderr",
     "output_type": "stream",
     "text": [
      "Progress:  64%|██████▍   | 128/200 [46:25<27:34, 22.98s/it]"
     ]
    },
    {
     "name": "stdout",
     "output_type": "stream",
     "text": [
      "Time to: Calculate Ground State - 1.54s, Get Pauli Ops - 9.31s, Calculate Pauli Expectation Values - 9.24s, Calculate Covariance - 3.06s\n",
      "f0,f1,f2 = [1.2505137660713312e-09, 1.2505137660371825e-09, 1.2505137659984115e-09]\n",
      "d01,d02,d12 = [1.0074223627301833, 1.0074223627318961, 1.0074223627330658]\n"
     ]
    },
    {
     "name": "stderr",
     "output_type": "stream",
     "text": [
      "Progress:  64%|██████▍   | 129/200 [46:46<26:27, 22.36s/it]"
     ]
    },
    {
     "name": "stdout",
     "output_type": "stream",
     "text": [
      "Time to: Calculate Ground State - 1.44s, Get Pauli Ops - 7.64s, Calculate Pauli Expectation Values - 9.28s, Calculate Covariance - 2.53s\n",
      "f0,f1,f2 = [5.449438603685532e-09, 5.44943860366942e-09, 5.449438603729409e-09]\n",
      "d01,d02,d12 = [1.0005865211224716, 1.000586521124156, 1.0005865211252378]\n"
     ]
    },
    {
     "name": "stderr",
     "output_type": "stream",
     "text": [
      "Progress:  65%|██████▌   | 130/200 [47:07<25:32, 21.89s/it]"
     ]
    },
    {
     "name": "stdout",
     "output_type": "stream",
     "text": [
      "Time to: Calculate Ground State - 1.59s, Get Pauli Ops - 7.55s, Calculate Pauli Expectation Values - 9.15s, Calculate Covariance - 2.51s\n",
      "f0,f1,f2 = [8.085130951614075e-10, 8.085130951401284e-10, 8.0851309520653e-10]\n",
      "d01,d02,d12 = [0.992010585488918, 0.9920105854905196, 0.992010585491481]\n"
     ]
    },
    {
     "name": "stderr",
     "output_type": "stream",
     "text": [
      "Progress:  66%|██████▌   | 131/200 [47:26<24:16, 21.11s/it]"
     ]
    },
    {
     "name": "stdout",
     "output_type": "stream",
     "text": [
      "Time to: Calculate Ground State - 1.63s, Get Pauli Ops - 6.57s, Calculate Pauli Expectation Values - 8.61s, Calculate Covariance - 2.47s\n",
      "f0,f1,f2 = [2.62857867612202e-09, 2.628578676225245e-09, 2.6285786762368472e-09]\n",
      "d01,d02,d12 = [0.992906483762591, 0.9929064837643007, 0.99290648376521]\n"
     ]
    },
    {
     "name": "stderr",
     "output_type": "stream",
     "text": [
      "Progress:  66%|██████▌   | 132/200 [47:48<24:22, 21.51s/it]"
     ]
    },
    {
     "name": "stdout",
     "output_type": "stream",
     "text": [
      "Time to: Calculate Ground State - 0.88s, Get Pauli Ops - 10.2s, Calculate Pauli Expectation Values - 8.97s, Calculate Covariance - 2.4s\n",
      "f0,f1,f2 = [4.205665042906762e-09, 4.205665042883643e-09, 4.20566504290962e-09]\n",
      "d01,d02,d12 = [0.9931469310890038, 0.9931469310908099, 0.9931469310916681]\n"
     ]
    },
    {
     "name": "stderr",
     "output_type": "stream",
     "text": [
      "/cluster/home/mskrabulis/miniconda3/envs/quantech/lib/python3.9/site-packages/pyscf/symm/Dmatrix.py:156: RuntimeWarning: invalid value encountered in arccos\n",
      "  gamma = numpy.arccos(yp.dot(c2[1]))\n",
      "Progress:  66%|██████▋   | 133/200 [48:10<24:11, 21.66s/it]"
     ]
    },
    {
     "name": "stdout",
     "output_type": "stream",
     "text": [
      "Time to: Calculate Ground State - 1.54s, Get Pauli Ops - 9.3s, Calculate Pauli Expectation Values - 8.53s, Calculate Covariance - 2.63s\n",
      "f0,f1,f2 = [5.765527523768608e-09, 5.765527523787444e-09, 5.765527523817948e-09]\n",
      "d01,d02,d12 = [0.9910592654067116, 0.9910592654085983, 0.9910592654093927]\n"
     ]
    },
    {
     "name": "stderr",
     "output_type": "stream",
     "text": [
      "/cluster/home/mskrabulis/miniconda3/envs/quantech/lib/python3.9/site-packages/pyscf/symm/Dmatrix.py:156: RuntimeWarning: invalid value encountered in arccos\n",
      "  gamma = numpy.arccos(yp.dot(c2[1]))\n",
      "Progress:  67%|██████▋   | 134/200 [48:30<23:09, 21.06s/it]"
     ]
    },
    {
     "name": "stdout",
     "output_type": "stream",
     "text": [
      "Time to: Calculate Ground State - 1.58s, Get Pauli Ops - 6.32s, Calculate Pauli Expectation Values - 8.7s, Calculate Covariance - 3.02s\n",
      "f0,f1,f2 = [4.865046068753103e-09, 4.865046068735834e-09, 4.865046068725862e-09]\n",
      "d01,d02,d12 = [0.9873508795375576, 0.9873508795395121, 0.9873508795402289]\n"
     ]
    },
    {
     "name": "stderr",
     "output_type": "stream",
     "text": [
      "Progress:  68%|██████▊   | 135/200 [48:52<23:15, 21.47s/it]"
     ]
    },
    {
     "name": "stdout",
     "output_type": "stream",
     "text": [
      "Time to: Calculate Ground State - 1.5s, Get Pauli Ops - 8.58s, Calculate Pauli Expectation Values - 9.22s, Calculate Covariance - 3.11s\n",
      "f0,f1,f2 = [6.606366474351002e-09, 6.606366474388927e-09, 6.606366474409525e-09]\n",
      "d01,d02,d12 = [0.9867624349391544, 0.9867624349412422, 0.9867624349419064]\n"
     ]
    },
    {
     "name": "stderr",
     "output_type": "stream",
     "text": [
      "/cluster/home/mskrabulis/miniconda3/envs/quantech/lib/python3.9/site-packages/pyscf/symm/Dmatrix.py:156: RuntimeWarning: invalid value encountered in arccos\n",
      "  gamma = numpy.arccos(yp.dot(c2[1]))\n",
      "Progress:  68%|██████▊   | 136/200 [49:13<22:29, 21.08s/it]"
     ]
    },
    {
     "name": "stdout",
     "output_type": "stream",
     "text": [
      "Time to: Calculate Ground State - 1.45s, Get Pauli Ops - 7.02s, Calculate Pauli Expectation Values - 9.7s, Calculate Covariance - 2.0s\n",
      "f0,f1,f2 = [2.7992843307383e-10, 2.7992843300880606e-10, 2.799284330312826e-10]\n",
      "d01,d02,d12 = [0.9855879440475785, 0.9855879440497911, 0.9855879440503887]\n"
     ]
    },
    {
     "name": "stderr",
     "output_type": "stream",
     "text": [
      "/cluster/home/mskrabulis/miniconda3/envs/quantech/lib/python3.9/site-packages/pyscf/symm/Dmatrix.py:156: RuntimeWarning: invalid value encountered in arccos\n",
      "  gamma = numpy.arccos(yp.dot(c2[1]))\n",
      "Progress:  68%|██████▊   | 137/200 [49:32<21:39, 20.63s/it]"
     ]
    },
    {
     "name": "stdout",
     "output_type": "stream",
     "text": [
      "Time to: Calculate Ground State - 1.48s, Get Pauli Ops - 7.21s, Calculate Pauli Expectation Values - 8.69s, Calculate Covariance - 2.19s\n",
      "f0,f1,f2 = [9.489542553320284e-10, 9.489542553466122e-10, 9.489542553284643e-10]\n",
      "d01,d02,d12 = [0.9847362407388707, 0.9847362407412172, 0.9847362407417546]\n"
     ]
    },
    {
     "name": "stderr",
     "output_type": "stream",
     "text": [
      "/cluster/home/mskrabulis/miniconda3/envs/quantech/lib/python3.9/site-packages/pyscf/symm/Dmatrix.py:156: RuntimeWarning: invalid value encountered in arccos\n",
      "  gamma = numpy.arccos(yp.dot(c2[1]))\n",
      "Progress:  69%|██████▉   | 138/200 [49:56<22:11, 21.47s/it]"
     ]
    },
    {
     "name": "stdout",
     "output_type": "stream",
     "text": [
      "Time to: Calculate Ground State - 1.48s, Get Pauli Ops - 7.16s, Calculate Pauli Expectation Values - 11.65s, Calculate Covariance - 3.13s\n",
      "f0,f1,f2 = [4.306749550873965e-09, 4.306749550888155e-09, 4.306749550810582e-09]\n",
      "d01,d02,d12 = [0.9861731635084272, 0.9861731635108916, 0.9861731635113721]\n"
     ]
    },
    {
     "name": "stderr",
     "output_type": "stream",
     "text": [
      "/cluster/home/mskrabulis/miniconda3/envs/quantech/lib/python3.9/site-packages/pyscf/symm/Dmatrix.py:156: RuntimeWarning: invalid value encountered in arccos\n",
      "  gamma = numpy.arccos(yp.dot(c2[1]))\n",
      "Progress:  70%|██████▉   | 139/200 [50:19<22:16, 21.91s/it]"
     ]
    },
    {
     "name": "stdout",
     "output_type": "stream",
     "text": [
      "Time to: Calculate Ground State - 1.5s, Get Pauli Ops - 9.97s, Calculate Pauli Expectation Values - 8.88s, Calculate Covariance - 2.58s\n",
      "f0,f1,f2 = [9.462511334450307e-11, 9.462511329665139e-11, 9.462511326134804e-11]\n",
      "d01,d02,d12 = [0.9878792001948655, 0.9878792001974365, 0.9878792001978501]\n"
     ]
    },
    {
     "name": "stderr",
     "output_type": "stream",
     "text": [
      "/cluster/home/mskrabulis/miniconda3/envs/quantech/lib/python3.9/site-packages/pyscf/symm/Dmatrix.py:156: RuntimeWarning: invalid value encountered in arccos\n",
      "  gamma = numpy.arccos(yp.dot(c2[1]))\n",
      "Progress:  70%|███████   | 140/200 [50:41<21:56, 21.94s/it]"
     ]
    },
    {
     "name": "stdout",
     "output_type": "stream",
     "text": [
      "Time to: Calculate Ground State - 0.86s, Get Pauli Ops - 6.78s, Calculate Pauli Expectation Values - 11.92s, Calculate Covariance - 2.44s\n",
      "f0,f1,f2 = [2.600523366519444e-10, 2.6005233661522023e-10, 2.6005233667601977e-10]\n",
      "d01,d02,d12 = [0.988874770041915, 0.9888747700446078, 0.988874770044946]\n"
     ]
    },
    {
     "name": "stderr",
     "output_type": "stream",
     "text": [
      "/cluster/home/mskrabulis/miniconda3/envs/quantech/lib/python3.9/site-packages/pyscf/symm/Dmatrix.py:156: RuntimeWarning: invalid value encountered in arccos\n",
      "  gamma = numpy.arccos(yp.dot(c2[1]))\n",
      "Progress:  70%|███████   | 141/200 [51:04<21:59, 22.36s/it]"
     ]
    },
    {
     "name": "stdout",
     "output_type": "stream",
     "text": [
      "Time to: Calculate Ground State - 1.57s, Get Pauli Ops - 9.8s, Calculate Pauli Expectation Values - 9.05s, Calculate Covariance - 2.91s\n",
      "f0,f1,f2 = [9.813529417441722e-09, 9.813529417441264e-09, 9.813529417407093e-09]\n",
      "d01,d02,d12 = [0.9858972051624351, 0.9858972051652454, 0.9858972051655182]\n"
     ]
    },
    {
     "name": "stderr",
     "output_type": "stream",
     "text": [
      "/cluster/home/mskrabulis/miniconda3/envs/quantech/lib/python3.9/site-packages/pyscf/symm/Dmatrix.py:156: RuntimeWarning: invalid value encountered in arccos\n",
      "  gamma = numpy.arccos(yp.dot(c2[1]))\n",
      "Progress:  71%|███████   | 142/200 [51:29<22:29, 23.26s/it]"
     ]
    },
    {
     "name": "stdout",
     "output_type": "stream",
     "text": [
      "Time to: Calculate Ground State - 0.96s, Get Pauli Ops - 9.42s, Calculate Pauli Expectation Values - 11.82s, Calculate Covariance - 3.13s\n",
      "f0,f1,f2 = [9.159488718663168e-09, 9.159488718720373e-09, 9.15948871876185e-09]\n",
      "d01,d02,d12 = [0.981127788421159, 0.9811277884240038, 0.9811277884241849]\n"
     ]
    },
    {
     "name": "stderr",
     "output_type": "stream",
     "text": [
      "/cluster/home/mskrabulis/miniconda3/envs/quantech/lib/python3.9/site-packages/pyscf/symm/Dmatrix.py:156: RuntimeWarning: invalid value encountered in arccos\n",
      "  gamma = numpy.arccos(yp.dot(c2[1]))\n",
      "Progress:  72%|███████▏  | 143/200 [51:52<21:59, 23.15s/it]"
     ]
    },
    {
     "name": "stdout",
     "output_type": "stream",
     "text": [
      "Time to: Calculate Ground State - 1.55s, Get Pauli Ops - 6.93s, Calculate Pauli Expectation Values - 12.15s, Calculate Covariance - 2.26s\n",
      "f0,f1,f2 = [2.010061785159802e-09, 2.0100617851357366e-09, 2.010061785135155e-09]\n",
      "d01,d02,d12 = [0.9770881066178058, 0.9770881066206232, 0.9770881066207053]\n"
     ]
    },
    {
     "name": "stderr",
     "output_type": "stream",
     "text": [
      "Progress:  72%|███████▏  | 144/200 [52:12<20:42, 22.19s/it]"
     ]
    },
    {
     "name": "stdout",
     "output_type": "stream",
     "text": [
      "Time to: Calculate Ground State - 1.54s, Get Pauli Ops - 6.95s, Calculate Pauli Expectation Values - 8.54s, Calculate Covariance - 2.9s\n",
      "f0,f1,f2 = [5.273242468038005e-09, 5.273242468005569e-09, 5.273242468000629e-09]\n",
      "d01,d02,d12 = [0.9723060117661042, 0.9723060117688769, 0.9723060117688558]\n"
     ]
    },
    {
     "name": "stderr",
     "output_type": "stream",
     "text": [
      "Progress:  72%|███████▎  | 145/200 [52:32<19:36, 21.40s/it]"
     ]
    },
    {
     "name": "stdout",
     "output_type": "stream",
     "text": [
      "Time to: Calculate Ground State - 1.57s, Get Pauli Ops - 7.16s, Calculate Pauli Expectation Values - 8.43s, Calculate Covariance - 2.39s\n",
      "f0,f1,f2 = [2.1260516689143986e-09, 2.1260516688896563e-09, 2.1260516689009916e-09]\n",
      "d01,d02,d12 = [0.9671181116922631, 0.9671181116950373, 0.9671181116949193]\n"
     ]
    },
    {
     "name": "stderr",
     "output_type": "stream",
     "text": [
      "/cluster/home/mskrabulis/miniconda3/envs/quantech/lib/python3.9/site-packages/pyscf/symm/Dmatrix.py:156: RuntimeWarning: invalid value encountered in arccos\n",
      "  gamma = numpy.arccos(yp.dot(c2[1]))\n",
      "Progress:  73%|███████▎  | 146/200 [52:51<18:45, 20.85s/it]"
     ]
    },
    {
     "name": "stdout",
     "output_type": "stream",
     "text": [
      "Time to: Calculate Ground State - 1.51s, Get Pauli Ops - 6.23s, Calculate Pauli Expectation Values - 8.76s, Calculate Covariance - 3.06s\n",
      "f0,f1,f2 = [1.339621847528707e-08, 1.3396218475281171e-08, 1.3396218475313838e-08]\n",
      "d01,d02,d12 = [0.9715269292970836, 0.9715269292998635, 0.9715269292996485]\n"
     ]
    },
    {
     "name": "stderr",
     "output_type": "stream",
     "text": [
      "Progress:  74%|███████▎  | 147/200 [53:15<19:03, 21.58s/it]"
     ]
    },
    {
     "name": "stdout",
     "output_type": "stream",
     "text": [
      "Time to: Calculate Ground State - 1.5s, Get Pauli Ops - 6.82s, Calculate Pauli Expectation Values - 12.64s, Calculate Covariance - 2.33s\n",
      "f0,f1,f2 = [4.571646044171403e-10, 4.5716460442343013e-10, 4.571646045400934e-10]\n",
      "d01,d02,d12 = [0.9719336307220872, 0.9719336307247676, 0.9719336307244644]\n"
     ]
    },
    {
     "name": "stderr",
     "output_type": "stream",
     "text": [
      "Progress:  74%|███████▍  | 148/200 [53:40<19:45, 22.80s/it]"
     ]
    },
    {
     "name": "stdout",
     "output_type": "stream",
     "text": [
      "Time to: Calculate Ground State - 1.58s, Get Pauli Ops - 9.63s, Calculate Pauli Expectation Values - 12.04s, Calculate Covariance - 2.39s\n",
      "f0,f1,f2 = [1.104999151999059e-08, 1.10499915199296e-08, 1.1049991519913482e-08]\n",
      "d01,d02,d12 = [0.9765372550686374, 0.9765372550712249, 0.9765372550708281]\n"
     ]
    },
    {
     "name": "stderr",
     "output_type": "stream",
     "text": [
      "Progress:  74%|███████▍  | 149/200 [53:59<18:28, 21.74s/it]"
     ]
    },
    {
     "name": "stdout",
     "output_type": "stream",
     "text": [
      "Time to: Calculate Ground State - 1.58s, Get Pauli Ops - 6.7s, Calculate Pauli Expectation Values - 8.63s, Calculate Covariance - 2.31s\n",
      "f0,f1,f2 = [9.15148596493474e-09, 9.151485964947206e-09, 9.151485964905223e-09]\n",
      "d01,d02,d12 = [0.9855931292953861, 0.9855931292978253, 0.9855931292973441]\n"
     ]
    },
    {
     "name": "stderr",
     "output_type": "stream",
     "text": [
      "/cluster/home/mskrabulis/miniconda3/envs/quantech/lib/python3.9/site-packages/pyscf/symm/Dmatrix.py:156: RuntimeWarning: invalid value encountered in arccos\n",
      "  gamma = numpy.arccos(yp.dot(c2[1]))\n",
      "Progress:  75%|███████▌  | 150/200 [54:20<17:42, 21.24s/it]"
     ]
    },
    {
     "name": "stdout",
     "output_type": "stream",
     "text": [
      "Time to: Calculate Ground State - 1.53s, Get Pauli Ops - 7.07s, Calculate Pauli Expectation Values - 9.01s, Calculate Covariance - 2.46s\n",
      "f0,f1,f2 = [1.3428396234456511e-08, 1.3428396234487838e-08, 1.3428396234440863e-08]\n",
      "d01,d02,d12 = [0.9981351478729785, 0.9981351478753474, 0.9981351478747784]\n"
     ]
    },
    {
     "name": "stderr",
     "output_type": "stream",
     "text": [
      "Progress:  76%|███████▌  | 151/200 [54:39<17:00, 20.84s/it]"
     ]
    },
    {
     "name": "stdout",
     "output_type": "stream",
     "text": [
      "Time to: Calculate Ground State - 1.54s, Get Pauli Ops - 6.33s, Calculate Pauli Expectation Values - 8.94s, Calculate Covariance - 3.07s\n",
      "f0,f1,f2 = [1.1713474369763247e-09, 1.1713474369634045e-09, 1.1713474369000981e-09]\n",
      "d01,d02,d12 = [1.011904838343841, 1.0119048383460691, 1.0119048383454277]\n"
     ]
    },
    {
     "name": "stderr",
     "output_type": "stream",
     "text": [
      "Progress:  76%|███████▌  | 152/200 [55:02<17:09, 21.44s/it]"
     ]
    },
    {
     "name": "stdout",
     "output_type": "stream",
     "text": [
      "Time to: Calculate Ground State - 1.51s, Get Pauli Ops - 6.4s, Calculate Pauli Expectation Values - 12.49s, Calculate Covariance - 2.44s\n",
      "f0,f1,f2 = [7.52624581059157e-09, 7.526245810523807e-09, 7.526245810518814e-09]\n",
      "d01,d02,d12 = [1.0411595541856333, 1.0411595541876764, 1.041159554186965]\n"
     ]
    },
    {
     "name": "stderr",
     "output_type": "stream",
     "text": [
      "Progress:  76%|███████▋  | 153/200 [55:24<16:50, 21.50s/it]"
     ]
    },
    {
     "name": "stdout",
     "output_type": "stream",
     "text": [
      "Time to: Calculate Ground State - 1.59s, Get Pauli Ops - 7.72s, Calculate Pauli Expectation Values - 9.2s, Calculate Covariance - 3.11s\n",
      "f0,f1,f2 = [8.468864608316412e-09, 8.468864608327455e-09, 8.468864608312895e-09]\n",
      "d01,d02,d12 = [1.0217181820455334, 1.0217181820472254, 1.021718182046518]\n"
     ]
    },
    {
     "name": "stderr",
     "output_type": "stream",
     "text": [
      "Progress:  77%|███████▋  | 154/200 [55:45<16:27, 21.46s/it]"
     ]
    },
    {
     "name": "stdout",
     "output_type": "stream",
     "text": [
      "Time to: Calculate Ground State - 1.64s, Get Pauli Ops - 7.28s, Calculate Pauli Expectation Values - 9.38s, Calculate Covariance - 3.06s\n",
      "f0,f1,f2 = [2.6507280483767062e-09, 2.650728048361091e-09, 2.650728048389228e-09]\n",
      "d01,d02,d12 = [1.0141607347409964, 1.0141607347423067, 1.014160734741619]\n"
     ]
    },
    {
     "name": "stderr",
     "output_type": "stream",
     "text": [
      "Progress:  78%|███████▊  | 155/200 [56:12<17:10, 22.91s/it]"
     ]
    },
    {
     "name": "stdout",
     "output_type": "stream",
     "text": [
      "Time to: Calculate Ground State - 1.69s, Get Pauli Ops - 7.51s, Calculate Pauli Expectation Values - 14.0s, Calculate Covariance - 3.08s\n",
      "f0,f1,f2 = [3.0461414719058627e-09, 3.046141471881617e-09, 3.0461414718753493e-09]\n",
      "d01,d02,d12 = [1.002892727994197, 1.0028927279951485, 1.0028927279944777]\n"
     ]
    },
    {
     "name": "stderr",
     "output_type": "stream",
     "text": [
      "/cluster/home/mskrabulis/miniconda3/envs/quantech/lib/python3.9/site-packages/pyscf/symm/Dmatrix.py:156: RuntimeWarning: invalid value encountered in arccos\n",
      "  gamma = numpy.arccos(yp.dot(c2[1]))\n",
      "/cluster/home/mskrabulis/miniconda3/envs/quantech/lib/python3.9/site-packages/pyscf/symm/Dmatrix.py:156: RuntimeWarning: invalid value encountered in arccos\n",
      "  gamma = numpy.arccos(yp.dot(c2[1]))\n",
      "Progress:  78%|███████▊  | 156/200 [56:32<16:14, 22.14s/it]"
     ]
    },
    {
     "name": "stdout",
     "output_type": "stream",
     "text": [
      "Time to: Calculate Ground State - 1.52s, Get Pauli Ops - 6.41s, Calculate Pauli Expectation Values - 10.28s, Calculate Covariance - 2.12s\n",
      "f0,f1,f2 = [5.238310234518546e-09, 5.238310234556242e-09, 5.2383102345552814e-09]\n",
      "d01,d02,d12 = [1.0062006993225903, 1.0062006993231736, 1.0062006993225285]\n"
     ]
    },
    {
     "name": "stderr",
     "output_type": "stream",
     "text": [
      "/cluster/home/mskrabulis/miniconda3/envs/quantech/lib/python3.9/site-packages/pyscf/symm/Dmatrix.py:156: RuntimeWarning: invalid value encountered in arccos\n",
      "  gamma = numpy.arccos(yp.dot(c2[1]))\n",
      "Progress:  78%|███████▊  | 157/200 [56:53<15:34, 21.73s/it]"
     ]
    },
    {
     "name": "stdout",
     "output_type": "stream",
     "text": [
      "Time to: Calculate Ground State - 0.89s, Get Pauli Ops - 6.66s, Calculate Pauli Expectation Values - 10.13s, Calculate Covariance - 3.1s\n",
      "f0,f1,f2 = [1.936376238598157e-08, 1.9363762385971924e-08, 1.9363762385939406e-08]\n",
      "d01,d02,d12 = [1.0041064233854233, 1.0041064233856378, 1.0041064233850332]\n"
     ]
    },
    {
     "name": "stderr",
     "output_type": "stream",
     "text": [
      "/cluster/home/mskrabulis/miniconda3/envs/quantech/lib/python3.9/site-packages/pyscf/symm/Dmatrix.py:156: RuntimeWarning: invalid value encountered in arccos\n",
      "  gamma = numpy.arccos(yp.dot(c2[1]))\n",
      "Progress:  79%|███████▉  | 158/200 [57:15<15:22, 21.95s/it]"
     ]
    },
    {
     "name": "stdout",
     "output_type": "stream",
     "text": [
      "Time to: Calculate Ground State - 1.46s, Get Pauli Ops - 9.74s, Calculate Pauli Expectation Values - 8.59s, Calculate Covariance - 2.67s\n",
      "f0,f1,f2 = [6.217176157743178e-09, 6.2171761577435755e-09, 6.217176157716001e-09]\n",
      "d01,d02,d12 = [1.0064223154847673, 1.0064223154846035, 1.006422315484046]\n"
     ]
    },
    {
     "name": "stderr",
     "output_type": "stream",
     "text": [
      "Progress:  80%|███████▉  | 159/200 [57:36<14:52, 21.76s/it]"
     ]
    },
    {
     "name": "stdout",
     "output_type": "stream",
     "text": [
      "Time to: Calculate Ground State - 0.86s, Get Pauli Ops - 9.4s, Calculate Pauli Expectation Values - 8.57s, Calculate Covariance - 2.45s\n",
      "f0,f1,f2 = [6.113036480422507e-09, 6.113036480413471e-09, 6.113036480410706e-09]\n",
      "d01,d02,d12 = [1.00883197161787, 1.0088319716173295, 1.0088319716168068]\n"
     ]
    },
    {
     "name": "stderr",
     "output_type": "stream",
     "text": [
      "Progress:  80%|████████  | 160/200 [57:56<14:09, 21.24s/it]"
     ]
    },
    {
     "name": "stdout",
     "output_type": "stream",
     "text": [
      "Time to: Calculate Ground State - 0.93s, Get Pauli Ops - 7.34s, Calculate Pauli Expectation Values - 8.9s, Calculate Covariance - 2.85s\n",
      "f0,f1,f2 = [4.728840708908199e-09, 4.72884070888724e-09, 4.728840708875087e-09]\n",
      "d01,d02,d12 = [1.0087703200231328, 1.0087703200222253, 1.0087703200217526]\n"
     ]
    },
    {
     "name": "stderr",
     "output_type": "stream",
     "text": [
      "Progress:  80%|████████  | 161/200 [58:18<13:45, 21.17s/it]"
     ]
    },
    {
     "name": "stdout",
     "output_type": "stream",
     "text": [
      "Time to: Calculate Ground State - 1.01s, Get Pauli Ops - 9.05s, Calculate Pauli Expectation Values - 9.19s, Calculate Covariance - 1.77s\n",
      "f0,f1,f2 = [7.149429598613129e-09, 7.149429598596762e-09, 7.149429598600872e-09]\n",
      "d01,d02,d12 = [1.0057008061552177, 1.0057008061539243, 1.0057008061535107]\n"
     ]
    },
    {
     "name": "stderr",
     "output_type": "stream",
     "text": [
      "Progress:  81%|████████  | 162/200 [58:36<12:49, 20.25s/it]"
     ]
    },
    {
     "name": "stdout",
     "output_type": "stream",
     "text": [
      "Time to: Calculate Ground State - 1.11s, Get Pauli Ops - 6.3s, Calculate Pauli Expectation Values - 8.94s, Calculate Covariance - 1.75s\n",
      "f0,f1,f2 = [4.4329519805971605e-09, 4.4329519806239165e-09, 4.432951980615656e-09]\n",
      "d01,d02,d12 = [1.0061168210884066, 1.00611682108672, 1.0061168210863631]\n"
     ]
    },
    {
     "name": "stderr",
     "output_type": "stream",
     "text": [
      "/cluster/home/mskrabulis/miniconda3/envs/quantech/lib/python3.9/site-packages/pyscf/symm/Dmatrix.py:156: RuntimeWarning: invalid value encountered in arccos\n",
      "  gamma = numpy.arccos(yp.dot(c2[1]))\n",
      "Progress:  82%|████████▏ | 163/200 [58:54<12:04, 19.57s/it]"
     ]
    },
    {
     "name": "stdout",
     "output_type": "stream",
     "text": [
      "Time to: Calculate Ground State - 0.9s, Get Pauli Ops - 5.71s, Calculate Pauli Expectation Values - 8.96s, Calculate Covariance - 2.4s\n",
      "f0,f1,f2 = [6.428263854563664e-09, 6.428263854508141e-09, 6.428263854455049e-09]\n",
      "d01,d02,d12 = [1.0041847586686141, 1.0041847586665729, 1.004184758666285]\n"
     ]
    },
    {
     "name": "stderr",
     "output_type": "stream",
     "text": [
      "/cluster/home/mskrabulis/miniconda3/envs/quantech/lib/python3.9/site-packages/pyscf/symm/Dmatrix.py:156: RuntimeWarning: invalid value encountered in arccos\n",
      "  gamma = numpy.arccos(yp.dot(c2[1]))\n",
      "/cluster/home/mskrabulis/miniconda3/envs/quantech/lib/python3.9/site-packages/pyscf/symm/Dmatrix.py:156: RuntimeWarning: invalid value encountered in arccos\n",
      "  gamma = numpy.arccos(yp.dot(c2[1]))\n",
      "Progress:  82%|████████▏ | 164/200 [59:15<12:03, 20.09s/it]"
     ]
    },
    {
     "name": "stdout",
     "output_type": "stream",
     "text": [
      "Time to: Calculate Ground State - 1.67s, Get Pauli Ops - 7.88s, Calculate Pauli Expectation Values - 9.07s, Calculate Covariance - 2.68s\n",
      "f0,f1,f2 = [1.1102299057463546e-08, 1.1102299057476839e-08, 1.1102299057428298e-08]\n",
      "d01,d02,d12 = [0.9967175782950812, 0.9967175782926931, 0.9967175782924746]\n"
     ]
    },
    {
     "name": "stderr",
     "output_type": "stream",
     "text": [
      "Progress:  82%|████████▎ | 165/200 [59:35<11:38, 19.96s/it]"
     ]
    },
    {
     "name": "stdout",
     "output_type": "stream",
     "text": [
      "Time to: Calculate Ground State - 1.42s, Get Pauli Ops - 6.21s, Calculate Pauli Expectation Values - 8.9s, Calculate Covariance - 3.09s\n",
      "f0,f1,f2 = [5.738082514096505e-09, 5.738082514079895e-09, 5.7380825141285506e-09]\n",
      "d01,d02,d12 = [0.9780775360668004, 0.9780775360642237, 0.9780775360640845]\n"
     ]
    },
    {
     "name": "stderr",
     "output_type": "stream",
     "text": [
      "/cluster/home/mskrabulis/miniconda3/envs/quantech/lib/python3.9/site-packages/pyscf/symm/Dmatrix.py:156: RuntimeWarning: invalid value encountered in arccos\n",
      "  gamma = numpy.arccos(yp.dot(c2[1]))\n",
      "Progress:  83%|████████▎ | 166/200 [59:57<11:44, 20.73s/it]"
     ]
    },
    {
     "name": "stdout",
     "output_type": "stream",
     "text": [
      "Time to: Calculate Ground State - 1.52s, Get Pauli Ops - 6.73s, Calculate Pauli Expectation Values - 11.2s, Calculate Covariance - 3.09s\n",
      "f0,f1,f2 = [4.985506179497687e-09, 4.985506179495756e-09, 4.9855061794815505e-09]\n",
      "d01,d02,d12 = [0.963779262198557, 0.9637792621959587, 0.9637792621959018]\n"
     ]
    },
    {
     "name": "stderr",
     "output_type": "stream",
     "text": [
      "Progress:  84%|████████▎ | 167/200 [1:00:18<11:22, 20.68s/it]"
     ]
    },
    {
     "name": "stdout",
     "output_type": "stream",
     "text": [
      "Time to: Calculate Ground State - 1.53s, Get Pauli Ops - 6.96s, Calculate Pauli Expectation Values - 9.16s, Calculate Covariance - 2.88s\n",
      "f0,f1,f2 = [1.4379427630721389e-09, 1.4379427630818276e-09, 1.437942763040814e-09]\n",
      "d01,d02,d12 = [0.9361586213402456, 0.9361586213378026, 0.9361586213378168]\n"
     ]
    },
    {
     "name": "stderr",
     "output_type": "stream",
     "text": [
      "/cluster/home/mskrabulis/miniconda3/envs/quantech/lib/python3.9/site-packages/pyscf/symm/Dmatrix.py:156: RuntimeWarning: invalid value encountered in arccos\n",
      "  gamma = numpy.arccos(yp.dot(c2[1]))\n",
      "Progress:  84%|████████▍ | 168/200 [1:00:40<11:15, 21.12s/it]"
     ]
    },
    {
     "name": "stdout",
     "output_type": "stream",
     "text": [
      "Time to: Calculate Ground State - 0.99s, Get Pauli Ops - 10.03s, Calculate Pauli Expectation Values - 8.94s, Calculate Covariance - 2.19s\n",
      "f0,f1,f2 = [7.443466078081609e-09, 7.4434660781096285e-09, 7.4434660782340985e-09]\n",
      "d01,d02,d12 = [0.9173606523479496, 0.9173606523457154, 0.9173606523458011]\n"
     ]
    },
    {
     "name": "stderr",
     "output_type": "stream",
     "text": [
      "/cluster/home/mskrabulis/miniconda3/envs/quantech/lib/python3.9/site-packages/pyscf/symm/Dmatrix.py:156: RuntimeWarning: invalid value encountered in arccos\n",
      "  gamma = numpy.arccos(yp.dot(c2[1]))\n",
      "Progress:  84%|████████▍ | 169/200 [1:01:03<11:12, 21.70s/it]"
     ]
    },
    {
     "name": "stdout",
     "output_type": "stream",
     "text": [
      "Time to: Calculate Ground State - 1.49s, Get Pauli Ops - 9.92s, Calculate Pauli Expectation Values - 9.19s, Calculate Covariance - 2.44s\n",
      "f0,f1,f2 = [8.892939252253694e-10, 8.892939251756881e-10, 8.892939251815289e-10]\n",
      "d01,d02,d12 = [0.9071339678109663, 0.9071339678086117, 0.9071339678087987]\n"
     ]
    },
    {
     "name": "stderr",
     "output_type": "stream",
     "text": [
      "/cluster/home/mskrabulis/miniconda3/envs/quantech/lib/python3.9/site-packages/pyscf/symm/Dmatrix.py:156: RuntimeWarning: invalid value encountered in arccos\n",
      "  gamma = numpy.arccos(yp.dot(c2[1]))\n",
      "Progress:  85%|████████▌ | 170/200 [1:01:24<10:49, 21.65s/it]"
     ]
    },
    {
     "name": "stdout",
     "output_type": "stream",
     "text": [
      "Time to: Calculate Ground State - 1.56s, Get Pauli Ops - 8.74s, Calculate Pauli Expectation Values - 8.74s, Calculate Covariance - 2.5s\n",
      "f0,f1,f2 = [1.1959197468105667e-08, 1.195919746811718e-08, 1.1959197468146489e-08]\n",
      "d01,d02,d12 = [0.8988619311020115, 0.8988619310997008, 0.8988619310999726]\n"
     ]
    },
    {
     "name": "stderr",
     "output_type": "stream",
     "text": [
      "Progress:  86%|████████▌ | 171/200 [1:01:45<10:20, 21.39s/it]"
     ]
    },
    {
     "name": "stdout",
     "output_type": "stream",
     "text": [
      "Time to: Calculate Ground State - 1.54s, Get Pauli Ops - 6.21s, Calculate Pauli Expectation Values - 10.36s, Calculate Covariance - 2.65s\n",
      "f0,f1,f2 = [1.3328402965074733e-09, 1.332840296492423e-09, 1.3328402964384002e-09]\n",
      "d01,d02,d12 = [0.8848783110424433, 0.8848783110402623, 0.8848783110406164]\n"
     ]
    },
    {
     "name": "stderr",
     "output_type": "stream",
     "text": [
      "/cluster/home/mskrabulis/miniconda3/envs/quantech/lib/python3.9/site-packages/pyscf/symm/Dmatrix.py:156: RuntimeWarning: invalid value encountered in arccos\n",
      "  gamma = numpy.arccos(yp.dot(c2[1]))\n",
      "Progress:  86%|████████▌ | 172/200 [1:02:09<10:16, 22.02s/it]"
     ]
    },
    {
     "name": "stdout",
     "output_type": "stream",
     "text": [
      "Time to: Calculate Ground State - 1.51s, Get Pauli Ops - 7.18s, Calculate Pauli Expectation Values - 11.78s, Calculate Covariance - 3.03s\n",
      "f0,f1,f2 = [4.613936582238456e-09, 4.613936582237423e-09, 4.613936582250113e-09]\n",
      "d01,d02,d12 = [0.8909798598522687, 0.8909798598501222, 0.8909798598505735]\n"
     ]
    },
    {
     "name": "stderr",
     "output_type": "stream",
     "text": [
      "Progress:  86%|████████▋ | 173/200 [1:02:34<10:23, 23.10s/it]"
     ]
    },
    {
     "name": "stdout",
     "output_type": "stream",
     "text": [
      "Time to: Calculate Ground State - 1.57s, Get Pauli Ops - 8.03s, Calculate Pauli Expectation Values - 13.15s, Calculate Covariance - 2.84s\n",
      "f0,f1,f2 = [4.94019246869656e-09, 4.940192468710916e-09, 4.940192468763271e-09]\n",
      "d01,d02,d12 = [0.9074887858644882, 0.9074887858623849, 0.907488785862932]\n"
     ]
    },
    {
     "name": "stderr",
     "output_type": "stream",
     "text": [
      "Progress:  87%|████████▋ | 174/200 [1:02:57<09:57, 22.99s/it]"
     ]
    },
    {
     "name": "stdout",
     "output_type": "stream",
     "text": [
      "Time to: Calculate Ground State - 1.61s, Get Pauli Ops - 9.73s, Calculate Pauli Expectation Values - 9.18s, Calculate Covariance - 2.19s\n",
      "f0,f1,f2 = [4.597010887990146e-09, 4.597010887979743e-09, 4.597010888076851e-09]\n",
      "d01,d02,d12 = [0.9367731748899362, 0.9367731748879282, 0.9367731748885545]\n"
     ]
    },
    {
     "name": "stderr",
     "output_type": "stream",
     "text": [
      "Progress:  88%|████████▊ | 175/200 [1:03:21<09:43, 23.36s/it]"
     ]
    },
    {
     "name": "stdout",
     "output_type": "stream",
     "text": [
      "Time to: Calculate Ground State - 1.5s, Get Pauli Ops - 10.48s, Calculate Pauli Expectation Values - 9.13s, Calculate Covariance - 3.11s\n",
      "f0,f1,f2 = [2.337961086837814e-08, 2.33796108684167e-08, 2.3379610868436116e-08]\n",
      "d01,d02,d12 = [1.0103977878948185, 1.0103977878930381, 1.0103977878937314]\n"
     ]
    },
    {
     "name": "stderr",
     "output_type": "stream",
     "text": [
      "/cluster/home/mskrabulis/miniconda3/envs/quantech/lib/python3.9/site-packages/pyscf/symm/Dmatrix.py:156: RuntimeWarning: invalid value encountered in arccos\n",
      "  gamma = numpy.arccos(yp.dot(c2[1]))\n",
      "Progress:  88%|████████▊ | 176/200 [1:03:42<09:00, 22.50s/it]"
     ]
    },
    {
     "name": "stdout",
     "output_type": "stream",
     "text": [
      "Time to: Calculate Ground State - 1.56s, Get Pauli Ops - 6.59s, Calculate Pauli Expectation Values - 9.23s, Calculate Covariance - 3.12s\n",
      "f0,f1,f2 = [8.957446854706527e-09, 8.957446854779686e-09, 8.957446854727739e-09]\n",
      "d01,d02,d12 = [1.0605628845909822, 1.0605628845893262, 1.0605628845901016]\n"
     ]
    },
    {
     "name": "stderr",
     "output_type": "stream",
     "text": [
      "/cluster/home/mskrabulis/miniconda3/envs/quantech/lib/python3.9/site-packages/pyscf/symm/Dmatrix.py:156: RuntimeWarning: invalid value encountered in arccos\n",
      "  gamma = numpy.arccos(yp.dot(c2[1]))\n",
      "Progress:  88%|████████▊ | 177/200 [1:04:06<08:48, 22.98s/it]"
     ]
    },
    {
     "name": "stdout",
     "output_type": "stream",
     "text": [
      "Time to: Calculate Ground State - 1.65s, Get Pauli Ops - 6.96s, Calculate Pauli Expectation Values - 12.74s, Calculate Covariance - 2.75s\n",
      "f0,f1,f2 = [1.1007306549850247e-08, 1.1007306549866036e-08, 1.1007306549787201e-08]\n",
      "d01,d02,d12 = [1.1538044570750092, 1.1538044570734178, 1.1538044570743116]\n"
     ]
    },
    {
     "name": "stderr",
     "output_type": "stream",
     "text": [
      "Progress:  89%|████████▉ | 178/200 [1:04:26<08:08, 22.19s/it]"
     ]
    },
    {
     "name": "stdout",
     "output_type": "stream",
     "text": [
      "Time to: Calculate Ground State - 1.66s, Get Pauli Ops - 6.12s, Calculate Pauli Expectation Values - 9.64s, Calculate Covariance - 2.89s\n",
      "f0,f1,f2 = [5.897732491123861e-09, 5.897732491111902e-09, 5.897732491126776e-09]\n",
      "d01,d02,d12 = [1.2333330574244783, 1.2333330574234294, 1.2333330574241643]\n"
     ]
    },
    {
     "name": "stderr",
     "output_type": "stream",
     "text": [
      "Progress:  90%|████████▉ | 179/200 [1:04:48<07:43, 22.08s/it]"
     ]
    },
    {
     "name": "stdout",
     "output_type": "stream",
     "text": [
      "Time to: Calculate Ground State - 1.61s, Get Pauli Ops - 6.85s, Calculate Pauli Expectation Values - 10.66s, Calculate Covariance - 2.71s\n",
      "f0,f1,f2 = [3.291729270024702e-09, 3.291729269997183e-09, 3.2917292700200455e-09]\n",
      "d01,d02,d12 = [1.4005057135448233, 1.4005057135440762, 1.400505713544785]\n"
     ]
    },
    {
     "name": "stderr",
     "output_type": "stream",
     "text": [
      "Progress:  90%|█████████ | 180/200 [1:05:11<07:29, 22.46s/it]"
     ]
    },
    {
     "name": "stdout",
     "output_type": "stream",
     "text": [
      "Time to: Calculate Ground State - 1.54s, Get Pauli Ops - 7.4s, Calculate Pauli Expectation Values - 11.26s, Calculate Covariance - 3.14s\n",
      "f0,f1,f2 = [1.6594171274916545e-09, 1.6594171274886948e-09, 1.659417127460072e-09]\n",
      "d01,d02,d12 = [1.3384471587277544, 1.3384471587279696, 1.3384471587280509]\n"
     ]
    },
    {
     "name": "stderr",
     "output_type": "stream",
     "text": [
      "/cluster/home/mskrabulis/miniconda3/envs/quantech/lib/python3.9/site-packages/pyscf/symm/Dmatrix.py:156: RuntimeWarning: invalid value encountered in arccos\n",
      "  gamma = numpy.arccos(yp.dot(c2[1]))\n",
      "Progress:  90%|█████████ | 181/200 [1:05:37<07:25, 23.47s/it]"
     ]
    },
    {
     "name": "stdout",
     "output_type": "stream",
     "text": [
      "Time to: Calculate Ground State - 1.62s, Get Pauli Ops - 11.04s, Calculate Pauli Expectation Values - 10.03s, Calculate Covariance - 3.11s\n",
      "f0,f1,f2 = [8.107725726800254e-09, 8.10772572676521e-09, 8.107725726794977e-09]\n",
      "d01,d02,d12 = [1.287622719194631, 1.2876227191959118, 1.2876227191953504]\n"
     ]
    },
    {
     "name": "stderr",
     "output_type": "stream",
     "text": [
      "Progress:  91%|█████████ | 182/200 [1:06:00<06:57, 23.19s/it]"
     ]
    },
    {
     "name": "stdout",
     "output_type": "stream",
     "text": [
      "Time to: Calculate Ground State - 1.7s, Get Pauli Ops - 9.31s, Calculate Pauli Expectation Values - 9.08s, Calculate Covariance - 2.44s\n",
      "f0,f1,f2 = [1.6821381901366956e-08, 1.682138190130635e-08, 1.682138190132505e-08]\n",
      "d01,d02,d12 = [1.24276727340411, 1.2427672734066466, 1.2427672734053694]\n"
     ]
    },
    {
     "name": "stderr",
     "output_type": "stream",
     "text": [
      "Progress:  92%|█████████▏| 183/200 [1:06:22<06:32, 23.06s/it]"
     ]
    },
    {
     "name": "stdout",
     "output_type": "stream",
     "text": [
      "Time to: Calculate Ground State - 1.5s, Get Pauli Ops - 9.51s, Calculate Pauli Expectation Values - 8.85s, Calculate Covariance - 2.88s\n",
      "f0,f1,f2 = [6.298609009340559e-09, 6.2986090093013185e-09, 6.298609009340695e-09]\n",
      "d01,d02,d12 = [1.184611022635365, 1.1846110226390285, 1.1846110226371254]\n"
     ]
    },
    {
     "name": "stderr",
     "output_type": "stream",
     "text": [
      "Progress:  92%|█████████▏| 184/200 [1:06:47<06:17, 23.57s/it]"
     ]
    },
    {
     "name": "stdout",
     "output_type": "stream",
     "text": [
      "Time to: Calculate Ground State - 1.59s, Get Pauli Ops - 10.58s, Calculate Pauli Expectation Values - 9.82s, Calculate Covariance - 2.76s\n",
      "f0,f1,f2 = [4.331652802415806e-09, 4.331652802404429e-09, 4.331652802403723e-09]\n",
      "d01,d02,d12 = [1.0745553911676815, 1.074555391171596, 1.07455539116948]\n"
     ]
    },
    {
     "name": "stderr",
     "output_type": "stream",
     "text": [
      "Progress:  92%|█████████▎| 185/200 [1:07:12<05:58, 23.90s/it]"
     ]
    },
    {
     "name": "stdout",
     "output_type": "stream",
     "text": [
      "Time to: Calculate Ground State - 1.58s, Get Pauli Ops - 10.57s, Calculate Pauli Expectation Values - 9.34s, Calculate Covariance - 3.15s\n",
      "f0,f1,f2 = [1.5886880847455703e-09, 1.5886880846850389e-09, 1.5886880847423066e-09]\n",
      "d01,d02,d12 = [0.8958920836971478, 0.8958920836992194, 0.8958920836979484]\n"
     ]
    },
    {
     "name": "stderr",
     "output_type": "stream",
     "text": [
      "Progress:  93%|█████████▎| 186/200 [1:07:37<05:38, 24.17s/it]"
     ]
    },
    {
     "name": "stdout",
     "output_type": "stream",
     "text": [
      "Time to: Calculate Ground State - 1.57s, Get Pauli Ops - 10.78s, Calculate Pauli Expectation Values - 9.36s, Calculate Covariance - 3.09s\n",
      "f0,f1,f2 = [1.3078550750178098e-08, 1.3078550750236462e-08, 1.3078550750155645e-08]\n",
      "d01,d02,d12 = [0.8703302321711431, 0.8703302321681966, 0.8703302321697584]\n"
     ]
    },
    {
     "name": "stderr",
     "output_type": "stream",
     "text": [
      "Progress:  94%|█████████▎| 187/200 [1:07:59<05:08, 23.70s/it]"
     ]
    },
    {
     "name": "stdout",
     "output_type": "stream",
     "text": [
      "Time to: Calculate Ground State - 1.58s, Get Pauli Ops - 9.86s, Calculate Pauli Expectation Values - 9.07s, Calculate Covariance - 2.07s\n",
      "f0,f1,f2 = [6.1035857619706666e-09, 6.103585761936665e-09, 6.103585762034868e-09]\n",
      "d01,d02,d12 = [0.8452722790426794, 0.8452722790344274, 0.8452722790389788]\n"
     ]
    },
    {
     "name": "stderr",
     "output_type": "stream",
     "text": [
      "Progress:  94%|█████████▍| 188/200 [1:08:21<04:37, 23.13s/it]"
     ]
    },
    {
     "name": "stdout",
     "output_type": "stream",
     "text": [
      "Time to: Calculate Ground State - 1.49s, Get Pauli Ops - 8.33s, Calculate Pauli Expectation Values - 9.12s, Calculate Covariance - 2.85s\n",
      "f0,f1,f2 = [8.413420496850013e-09, 8.413420496749103e-09, 8.41342049693647e-09]\n",
      "d01,d02,d12 = [0.8322496013471143, 0.8322496013352032, 0.8322496013418393]\n"
     ]
    },
    {
     "name": "stderr",
     "output_type": "stream",
     "text": [
      "Progress:  94%|█████████▍| 189/200 [1:08:44<04:13, 23.08s/it]"
     ]
    },
    {
     "name": "stdout",
     "output_type": "stream",
     "text": [
      "Time to: Calculate Ground State - 1.59s, Get Pauli Ops - 6.09s, Calculate Pauli Expectation Values - 12.22s, Calculate Covariance - 3.07s\n",
      "f0,f1,f2 = [9.716382293636584e-09, 9.716382293424378e-09, 9.71638229379018e-09]\n",
      "d01,d02,d12 = [0.8401166054044771, 0.8401166053886406, 0.8401166053975186]\n"
     ]
    },
    {
     "name": "stderr",
     "output_type": "stream",
     "text": [
      "Progress:  95%|█████████▌| 190/200 [1:09:07<03:50, 23.07s/it]"
     ]
    },
    {
     "name": "stdout",
     "output_type": "stream",
     "text": [
      "Time to: Calculate Ground State - 1.56s, Get Pauli Ops - 10.37s, Calculate Pauli Expectation Values - 8.77s, Calculate Covariance - 2.32s\n",
      "f0,f1,f2 = [1.0874831374405309e-08, 1.0874831374317174e-08, 1.087483137438666e-08]\n",
      "d01,d02,d12 = [0.854762253027231, 0.8547622530072543, 0.8547622530184857]\n"
     ]
    },
    {
     "name": "stderr",
     "output_type": "stream",
     "text": [
      "Progress:  96%|█████████▌| 191/200 [1:09:29<03:25, 22.86s/it]"
     ]
    },
    {
     "name": "stdout",
     "output_type": "stream",
     "text": [
      "Time to: Calculate Ground State - 1.43s, Get Pauli Ops - 7.48s, Calculate Pauli Expectation Values - 10.82s, Calculate Covariance - 2.64s\n",
      "f0,f1,f2 = [8.497957527740879e-09, 8.497957527451702e-09, 8.497957527923075e-09]\n",
      "d01,d02,d12 = [0.8585743917104844, 0.8585743916892801, 0.8585743917012357]\n"
     ]
    },
    {
     "name": "stderr",
     "output_type": "stream",
     "text": [
      "/cluster/home/mskrabulis/miniconda3/envs/quantech/lib/python3.9/site-packages/pyscf/symm/Dmatrix.py:156: RuntimeWarning: invalid value encountered in arccos\n",
      "  gamma = numpy.arccos(yp.dot(c2[1]))\n",
      "Progress:  96%|█████████▌| 192/200 [1:09:53<03:04, 23.03s/it]"
     ]
    },
    {
     "name": "stdout",
     "output_type": "stream",
     "text": [
      "Time to: Calculate Ground State - 1.61s, Get Pauli Ops - 7.39s, Calculate Pauli Expectation Values - 11.31s, Calculate Covariance - 3.11s\n",
      "f0,f1,f2 = [9.969252692621702e-09, 9.969252692037277e-09, 9.969252693015074e-09]\n",
      "d01,d02,d12 = [0.8690689135034357, 0.8690689134811823, 0.8690689134937614]\n"
     ]
    },
    {
     "name": "stderr",
     "output_type": "stream",
     "text": [
      "Progress:  96%|█████████▋| 193/200 [1:10:17<02:43, 23.34s/it]"
     ]
    },
    {
     "name": "stdout",
     "output_type": "stream",
     "text": [
      "Time to: Calculate Ground State - 1.58s, Get Pauli Ops - 7.11s, Calculate Pauli Expectation Values - 13.09s, Calculate Covariance - 2.28s\n",
      "f0,f1,f2 = [1.3131139207384695e-08, 1.3131139207231524e-08, 1.3131139207530975e-08]\n",
      "d01,d02,d12 = [0.8815450243170833, 0.8815450242940004, 0.8815450243070732]\n"
     ]
    },
    {
     "name": "stderr",
     "output_type": "stream",
     "text": [
      "Progress:  97%|█████████▋| 194/200 [1:10:41<02:20, 23.41s/it]"
     ]
    },
    {
     "name": "stdout",
     "output_type": "stream",
     "text": [
      "Time to: Calculate Ground State - 1.59s, Get Pauli Ops - 6.98s, Calculate Pauli Expectation Values - 12.76s, Calculate Covariance - 2.24s\n",
      "f0,f1,f2 = [6.318862363562544e-09, 6.3188623631110925e-09, 6.318862363947082e-09]\n",
      "d01,d02,d12 = [0.9113667857489676, 0.9113667857231111, 0.9113667857377764]\n"
     ]
    },
    {
     "name": "stderr",
     "output_type": "stream",
     "text": [
      "Progress:  98%|█████████▊| 195/200 [1:11:02<01:53, 22.77s/it]"
     ]
    },
    {
     "name": "stdout",
     "output_type": "stream",
     "text": [
      "Time to: Calculate Ground State - 1.07s, Get Pauli Ops - 7.75s, Calculate Pauli Expectation Values - 9.51s, Calculate Covariance - 2.94s\n",
      "f0,f1,f2 = [1.1596007127155592e-08, 1.1596007127064331e-08, 1.159600712727618e-08]\n",
      "d01,d02,d12 = [0.9414001548493549, 0.9414001548254406, 0.9414001548390369]\n"
     ]
    },
    {
     "name": "stderr",
     "output_type": "stream",
     "text": [
      "/cluster/home/mskrabulis/miniconda3/envs/quantech/lib/python3.9/site-packages/pyscf/symm/Dmatrix.py:156: RuntimeWarning: invalid value encountered in arccos\n",
      "  gamma = numpy.arccos(yp.dot(c2[1]))\n",
      "/cluster/home/mskrabulis/miniconda3/envs/quantech/lib/python3.9/site-packages/pyscf/symm/Dmatrix.py:156: RuntimeWarning: invalid value encountered in arccos\n",
      "  gamma = numpy.arccos(yp.dot(c2[1]))\n",
      "Progress:  98%|█████████▊| 196/200 [1:11:23<01:29, 22.42s/it]"
     ]
    },
    {
     "name": "stdout",
     "output_type": "stream",
     "text": [
      "Time to: Calculate Ground State - 0.93s, Get Pauli Ops - 6.09s, Calculate Pauli Expectation Values - 12.06s, Calculate Covariance - 2.52s\n",
      "f0,f1,f2 = [2.319888623636415e-09, 2.319888624022261e-09, 2.3198886233495393e-09]\n",
      "d01,d02,d12 = [0.979007236607035, 0.979007236576432, 0.9790072365938628]\n"
     ]
    },
    {
     "name": "stderr",
     "output_type": "stream",
     "text": [
      "Progress:  98%|█████████▊| 197/200 [1:11:44<01:05, 21.83s/it]"
     ]
    },
    {
     "name": "stdout",
     "output_type": "stream",
     "text": [
      "Time to: Calculate Ground State - 1.45s, Get Pauli Ops - 7.91s, Calculate Pauli Expectation Values - 8.72s, Calculate Covariance - 2.37s\n",
      "f0,f1,f2 = [1.1558600952928018e-08, 1.1558600952900521e-08, 1.1558600952959314e-08]\n",
      "d01,d02,d12 = [1.0568427217931096, 1.0568427217394667, 1.0568427217700667]\n"
     ]
    },
    {
     "name": "stderr",
     "output_type": "stream",
     "text": [
      "Progress:  99%|█████████▉| 198/200 [1:12:02<00:41, 20.85s/it]"
     ]
    },
    {
     "name": "stdout",
     "output_type": "stream",
     "text": [
      "Time to: Calculate Ground State - 0.9s, Get Pauli Ops - 6.3s, Calculate Pauli Expectation Values - 8.96s, Calculate Covariance - 2.39s\n",
      "f0,f1,f2 = [1.4737977854863873e-09, 1.473797785945222e-09, 1.4737977851237334e-09]\n",
      "d01,d02,d12 = [1.1045144167622578, 1.1045144167001202, 1.1045144167356027]\n"
     ]
    },
    {
     "name": "stderr",
     "output_type": "stream",
     "text": [
      "Progress: 100%|█████████▉| 199/200 [1:12:23<00:20, 20.86s/it]"
     ]
    },
    {
     "name": "stdout",
     "output_type": "stream",
     "text": [
      "Time to: Calculate Ground State - 1.45s, Get Pauli Ops - 7.32s, Calculate Pauli Expectation Values - 8.99s, Calculate Covariance - 3.1s\n",
      "f0,f1,f2 = [9.037629145211567e-09, 9.037629146151175e-09, 9.03762914446616e-09]\n",
      "d01,d02,d12 = [1.1244528237823046, 1.1244528237156253, 1.1244528237537426]\n"
     ]
    },
    {
     "name": "stderr",
     "output_type": "stream",
     "text": [
      "Progress: 100%|██████████| 200/200 [1:12:46<00:00, 21.83s/it]"
     ]
    },
    {
     "name": "stdout",
     "output_type": "stream",
     "text": [
      "Time to: Calculate Ground State - 1.6s, Get Pauli Ops - 9.14s, Calculate Pauli Expectation Values - 9.22s, Calculate Covariance - 2.88s\n",
      "f0,f1,f2 = [7.61574757749761e-10, 7.61574756857154e-10, 7.615747582841229e-10]\n",
      "d01,d02,d12 = [1.1491731863278138, 1.149173186248949, 1.149173186294087]\n"
     ]
    },
    {
     "name": "stderr",
     "output_type": "stream",
     "text": [
      "\n"
     ]
    },
    {
     "data": {
      "image/png": "[encoded data removed]",
      "text/plain": [
       "<Figure size 640x480 with 1 Axes>"
      ]
     },
     "metadata": {},
     "output_type": "display_data"
    }
   ],
   "source": [
    "from matplotlib import pyplot as plt\n",
    "(distance01,distance02,distance12,times) = main()\n",
    "\n",
    "np_distance01 = np.array(distance01)\n",
    "np_distance02 = np.array(distance02)\n",
    "np_distance12 = np.array(distance12)\n",
    "\n",
    "plt.plot(times,np_distance01[:-1],label = 'd01')\n",
    "plt.plot(times,np_distance02[:-1],label = 'd02')\n",
    "plt.plot(times,np_distance12[:-1],label = 'd12')\n",
    "\n",
    "plt.title('Distances at time t')\n",
    "plt.xlabel('Time')\n",
    "plt.ylabel('Distance')\n",
    "plt.legend()\n",
    "plt.show()"
   ]
  },
  {
   "cell_type": "code",
   "execution_count": null,
   "id": "885910be",
   "metadata": {},
   "outputs": [],
   "source": []
  },
  {
   "cell_type": "code",
   "execution_count": null,
   "id": "abb94dec",
   "metadata": {},
   "outputs": [],
   "source": []
  }
 ],
 "metadata": {
  "kernelspec": {
   "display_name": "Python 3 (ipykernel)",
   "language": "python",
   "name": "python3"
  },
  "language_info": {
   "codemirror_mode": {
    "name": "ipython",
    "version": 3
   },
   "file_extension": ".py",
   "mimetype": "text/x-python",
   "name": "python",
   "nbconvert_exporter": "python",
   "pygments_lexer": "ipython3",
   "version": "3.9.15"
  }
 },
 "nbformat": 4,
 "nbformat_minor": 5
}
