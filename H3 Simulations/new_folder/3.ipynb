{
 "cells": [
  {
   "cell_type": "code",
   "execution_count": 1,
   "id": "fbc296ce",
   "metadata": {},
   "outputs": [],
   "source": [
    "import numpy as np\n",
    "import matplotlib.pyplot as plt\n",
    "\n",
    "from pyscf import ao2mo,gto, scf\n",
    "\n",
    "from typing import Tuple\n",
    "\n",
    "\n",
    "# qiskit\n",
    "from qiskit.algorithms import VQE\n",
    "from qiskit.algorithms.optimizers import COBYLA, SPSA, SLSQP, NELDER_MEAD\n",
    "from qiskit.algorithms import MinimumEigensolverResult\n",
    "\n",
    "from qiskit import IBMQ, BasicAer, Aer\n",
    "from qiskit.utils import QuantumInstance\n",
    "from qiskit.quantum_info.operators import Operator\n",
    "from qiskit.opflow import PauliExpectation, CircuitSampler, StateFn, CircuitStateFn\n",
    "from qiskit.opflow.primitive_ops import PauliOp, PauliSumOp\n",
    "from qiskit.quantum_info import Pauli, SparsePauliOp\n",
    "\n",
    "# qiskit nature\n",
    "from qiskit_nature.second_q.hamiltonians import ElectronicEnergy\n",
    "from qiskit_nature.second_q.mappers import ParityMapper, QubitConverter\n",
    "from qiskit_nature.second_q.problems import ElectronicStructureProblem\n",
    "from qiskit_nature.second_q.operators import FermionicOp\n",
    "from qiskit_nature.second_q.properties import ParticleNumber\n",
    "from qiskit_nature.second_q.transformers import FreezeCoreTransformer\n",
    "from qiskit_nature.second_q.circuit.library import UCCSD, HartreeFock\n",
    "from qiskit_nature.second_q.problems import ElectronicBasis\n",
    "from qiskit_nature.second_q.formats.molecule_info import MoleculeInfo\n",
    "from qiskit_nature.drivers import Molecule\n",
    "from qiskit_nature.drivers.second_quantization import (\n",
    "    ElectronicStructureMoleculeDriver, ElectronicStructureDriverType)\n",
    "\n",
    "from qiskit_nature.settings import settings\n",
    "settings.dict_aux_operators = True\n",
    "\n",
    "#from qiskit import IBMQ\n",
    "#from qiskit_nature.runtime import VQEClient\n",
    "#from qiskit.providers.ibmq import least_busy\n",
    "#from qiskit_ibm_runtime import QiskitRuntimeService, Estimator, Session\n",
    "\n",
    "# useful??\n",
    "#from qiskit_nature.algorithms import (GroundStateEigensolver,\n",
    "#                                      NumPyMinimumEigensolverFactory)\n",
    "from qiskit.circuit.library import EfficientSU2\n",
    "from qiskit.circuit.library import RealAmplitudes\n",
    "from qiskit.utils.mitigation import CompleteMeasFitter\n",
    "from qiskit.providers.aer.noise import NoiseModel\n",
    "from qiskit.providers.aer import QasmSimulator\n",
    "from qiskit import QuantumCircuit, transpile\n",
    "from qiskit.opflow import TwoQubitReduction\n",
    "\n",
    "def get_molecular_integrals(molecule):\n",
    "    '''\n",
    "    Calculates the 1-electron and 2-electron integrals.\n",
    "    \n",
    "    Args:   \n",
    "        molecule : Mole \n",
    "            Ccorresponds to the molecule.\n",
    "            \n",
    "    Returns:\n",
    "        h1_MO : ndarray\n",
    "                Tensor corresponding to the 1-electron integral in the molecular basis.\n",
    "        \n",
    "        h2_MO : ndarray\n",
    "                Tensor corresponding to the 2-electron integral in the molecular basis.\n",
    "\n",
    "        n_particles: Tuple[int, int]\n",
    "            Number of alpha and beta electrons.\n",
    "        \n",
    "        num_orb : int \n",
    "            Number of orbitals.\n",
    "\n",
    "        nuclear_repulsion_energy : float\n",
    "            Nuclear repulsion energy.\n",
    "    '''\n",
    "    \n",
    "    mf = scf.RHF(molecule).run()\n",
    "\n",
    "    # computing the 1e and 2e AO (atomic orbitals) integrals \n",
    "    h1 = molecule.intor_symmetric(\"int1e_nuc\") + molecule.intor_symmetric(\"int1e_kin\") \n",
    "    h2 = molecule.intor(\"int2e\")\n",
    "    # comment : add aosym (axis of symmetry) ???\n",
    "\n",
    "    # transformations from AO to MO (molecular orbitals)\n",
    "    h1_MO = np.einsum('pi,pq,qj->ij', mf.mo_coeff, h1, mf.mo_coeff)\n",
    "    h2_MO = ao2mo.get_mo_eri(h2, mf.mo_coeff)\n",
    "\n",
    "    #h2_MO = ao2mo.kernel(mol_h2, mf.mo_coeff, aosym=\"1\") #alternative\n",
    "\n",
    "    nuclear_repulsion_energy=molecule.energy_nuc()\n",
    "    num_particles = molecule.nelec\n",
    "    num_orb = h1.shape[0]\n",
    "\n",
    "    return h1_MO, h2_MO, num_particles, num_orb, nuclear_repulsion_energy\n",
    "\n",
    "\n",
    "def get_qubit_op(coordinates):\n",
    "    '''\n",
    "    Calculates the Hamiltonian as the sum of Pauli operators as a function\n",
    "    of the coordinates of the atoms.\n",
    "    \n",
    "    Args:\n",
    "        coordinates : ndarray\n",
    "            Array containing the positions of the atoms constituing the molecule.\n",
    "        \n",
    "    \n",
    "    Returns:\n",
    "        qubit_op : PauliSumOp\n",
    "            Sum of Pauli operators corresponding to the Hamiltonian.\n",
    "        \n",
    "        nelec : Tuple[int, int]\n",
    "            Number of alpha and beta electrons.\n",
    "        \n",
    "        norb : int \n",
    "            Number of orbitals.\n",
    "            \n",
    "        problem : ElectronicStructureProblem\n",
    "        \n",
    "        converter : QubitConverter\n",
    "    '''\n",
    "    \n",
    "    mol = gto.M(\n",
    "                atom = [['H',(coordinates[0], coordinates[1], 0.0)], \n",
    "                        ['H',(coordinates[2], coordinates[3], 0.0)],\n",
    "                        ['H',(coordinates[4], coordinates[5], 0.0)]],\n",
    "                basis = 'sto3g',\n",
    "                charge = 1,\n",
    "                spin = 0,\n",
    "                symmetry = True,\n",
    "                verbose = 2 # control the print level of PySCF globally\n",
    "    )\n",
    "\n",
    "    h1_MO,h2_MO,nelec,norb,ecore = get_molecular_integrals(mol)\n",
    "\n",
    "    # Define an ElectronicEnergy instance containing the 1e and 2e integrals\n",
    "    electronic_energy = ElectronicEnergy.from_raw_integrals(\n",
    "            h1_MO, ao2mo.restore(1, h2_MO, norb)\n",
    "        )\n",
    "    electronic_energy.nuclear_repulsion_energy = ecore\n",
    "\n",
    "    # Define an ElectronicStructureProblem\n",
    "    problem = ElectronicStructureProblem(electronic_energy)\n",
    "\n",
    "    second_q_ops = problem.second_q_ops()     # get second quantized operators\n",
    "    problem.num_spatial_orbitals = norb  # define number of orbitals\n",
    "    problem.num_particles = nelec        # define number of particles \n",
    "    \n",
    "    problem.basis = ElectronicBasis.MO \n",
    "    \n",
    "    problem.molecule=MoleculeInfo(symbols=[mol.atom_symbol(i) for i in range(mol.nbas)], \n",
    "                                  coords=mol.atom_coords())\n",
    "    FC_transformer=FreezeCoreTransformer(freeze_core=True)\n",
    "    problem = FC_transformer.transform(problem)\n",
    "    \n",
    "    # TODO we need to give info about the molecule to use FreezeCoreTransformer \n",
    "    # question : how to do it in a smart way ? at the initialization ??\n",
    "    \n",
    "    hamiltonian = second_q_ops[0]  # Set electronic part of Hamiltonian\n",
    "    hamiltonian = (hamiltonian + FermionicOp({\"\": ecore}, num_spin_orbitals=norb)) # add Nuclear Repulsion Energy\n",
    "    #print(\"Hamiltonian :\\n\", hamiltonian) # print for checking purposes\n",
    "    \n",
    "    mapper = ParityMapper()  # Set Mapper\n",
    "    \n",
    "    # Do two qubit reduction\n",
    "    converter = QubitConverter(mapper,two_qubit_reduction=True)\n",
    "    qubit_op = converter.convert(hamiltonian, nelec)\n",
    "    #print(\"q_op :\\n\", qubit_op) # print for checking purposes\n",
    "    \n",
    "\n",
    "    return qubit_op, nelec, norb, problem, converter\n",
    "\n",
    "def calc_ground_state(qubit_op,nelec,norb,problem,converter) :\n",
    "    '''\n",
    "    Calculates the ground state and the ground energy of the Hamiltonian.\n",
    "    \n",
    "    Args:\n",
    "        qubit_op : PauliSumOp\n",
    "            Sum of Pauli operators corresponding to the Hamiltonian.\n",
    "        \n",
    "        nelec : Tuple[int, int]\n",
    "            Number of alpha and beta electrons.\n",
    "        \n",
    "        norb : int \n",
    "            Number of orbitals.\n",
    "            \n",
    "        problem : ElectronicStructureProblem\n",
    "        \n",
    "        converter : QubitConverter\n",
    "        \n",
    "    \n",
    "    Returns:\n",
    "        ground_state : CircuitStateFn\n",
    "            Ground state of the Hamiltonian.\n",
    "            \n",
    "        min_eng : float\n",
    "            Ground energy of the Hamiltonian.\n",
    "    '''\n",
    "\n",
    "    backend = BasicAer.get_backend(\"statevector_simulator\")\n",
    "    quantum_instance = QuantumInstance(backend)\n",
    "    optimizer = SLSQP(maxiter=400)\n",
    "\n",
    "    init_state = HartreeFock(num_spatial_orbitals=norb, \n",
    "                                num_particles=nelec, \n",
    "                                qubit_converter=converter\n",
    "                            )\n",
    "    \n",
    "    var_form = UCCSD(qubit_converter=converter,\n",
    "                        num_particles=nelec,\n",
    "                        num_spatial_orbitals=norb, \n",
    "                        initial_state=init_state\n",
    "                        )\n",
    "\n",
    "    vqe = VQE(var_form, optimizer, quantum_instance=quantum_instance) \n",
    "    vqe_result = vqe.compute_minimum_eigenvalue(qubit_op)\n",
    "    min_eng = vqe_result.eigenvalue.real\n",
    "    final_params = vqe_result.optimal_parameters \n",
    "\n",
    "    vqe_ground = vqe.ansatz.bind_parameters(final_params) \n",
    "#     vqe_ground_state = CircuitStateFn(vqe_ground)\n",
    "    \n",
    "    return vqe_ground, min_eng"
   ]
  },
  {
   "cell_type": "code",
   "execution_count": 2,
   "id": "3f5daa79",
   "metadata": {},
   "outputs": [],
   "source": [
    "Ha = 4.36e-18\n",
    "angst = 1.0e-10\n",
    "dR = 0.01 #removed the angst, since coordinates are given in angst\n",
    "\n",
    "\n",
    "from qiskit.opflow import I, X, Y, Z\n",
    "from qiskit.opflow.primitive_ops import PauliOp\n",
    "from qiskit.quantum_info import Pauli\n",
    "#from hamiltonian import calc_ground_state, get_qubit_op\n",
    "import numpy as np\n",
    "from qiskit.utils import QuantumInstance\n",
    "from qiskit.opflow import PauliExpectation, CircuitSampler, StateFn, CircuitStateFn\n",
    "from qiskit import IBMQ, BasicAer, Aer\n",
    "\n",
    "import time #to see which part of code takes the longest\n",
    "import multiprocessing\n",
    "\n",
    "\n",
    "def expectation_exact(psi_0,op):\n",
    "    \n",
    "    return psi_0.adjoint().compose(op).compose(psi_0).eval().real\n",
    "    \n",
    "    \n",
    "    \n",
    "\n",
    "\n",
    "\n",
    "#calculate centre of mass (currently for equal particle masses)\n",
    "def calc_COM(coordinates):\n",
    "    #print(coordinates)\n",
    "    r_array = np.array_split(coordinates,3)\n",
    "    COM = (r_array[0] + r_array[1] + r_array[2])/3\n",
    "    \n",
    "    return COM\n",
    "\n",
    "#task to calculate expectation value\n",
    "def task1(string, q_instance, psi_0):\n",
    "\n",
    "    Obs = PauliOp(Pauli(string))\n",
    "    measurable_expression = StateFn(Obs, is_measurement=True).compose(psi_0)\n",
    "    expectation = PauliExpectation().convert(measurable_expression)  \n",
    "    sampler = CircuitSampler(q_instance).convert(expectation) \n",
    "    E = sampler.eval().real\n",
    "    E_ex = expectation_exact(psi_0,Obs)\n",
    "        \n",
    "    return (E,E_ex)\n",
    "\n",
    "#task to calculate operator from coordinates\n",
    "def task2(coordinates):\n",
    "    \n",
    "    #get qubit operators coresponding to H+ (hamiltonian for atomic distances R + dR)\n",
    "    (qubit_op_plus, num_part_plus, num_orb_plus, problem_plus, converter_plus) = get_qubit_op(coordinates[0])\n",
    "    #get qubit operators coresponding to H- (hamiltonian for atomic distances R - dR)\n",
    "    (qubit_op_minus, num_part_minus, num_orb_minus, problem_minus, converter_minus) = get_qubit_op(coordinates[1])\n",
    "        \n",
    "    qubit_op_plus = qubit_op_plus #TODO:number of I's needs to be changed according to number of qubits\n",
    "    qubit_op_minus = qubit_op_minus\n",
    "       \n",
    "    #op =  (-(qubit_op_plus - qubit_op_minus)).reduce()\n",
    "    op =  -(qubit_op_plus - qubit_op_minus)\n",
    "\n",
    "                    \n",
    "    op_list = op.primitive.to_list() #list containing Pauli operators in support and corresponding coeffs\n",
    "    #print(op_list)    \n",
    "    #construct dict from list\n",
    "    op_dict = {}\n",
    "    for (PauliString,coeff) in op_list:\n",
    "\n",
    "        if PauliString in op_dict:\n",
    "            op_dict[PauliString] += coeff\n",
    "        else:\n",
    "            op_dict[PauliString] = coeff\n",
    "    \n",
    "    return op, op_dict\n",
    " \n",
    "def parallel_operators(coordinates,basis_set):\n",
    "    \n",
    "    \n",
    "    coordinate_list = []\n",
    "    \n",
    "    v0_normed = basis_set[0]\n",
    "    v0_orth = basis_set[1]\n",
    "    \n",
    "    v1_normed = basis_set[2]\n",
    "    v1_orth = basis_set[3]\n",
    "\n",
    "    v2_normed = basis_set[4]\n",
    "    v2_orth = basis_set[5]\n",
    "    \n",
    "    displ_coords_0_a = np.array([v0_normed[0]*dR,v0_normed[1]*dR,0,0,0,0])\n",
    "    displ_coords_0_b = np.array([v0_orth[0]*dR,v0_orth[1]*dR,0,0,0,0])\n",
    "    displ_coords_1_a = np.array([0,0,v1_normed[0]*dR,v1_normed[1]*dR,0,0])\n",
    "    displ_coords_1_b = np.array([0,0,v1_orth[0]*dR,v1_orth[1]*dR,0,0])\n",
    "    displ_coords_2_a = np.array([0,0,0,0,v2_normed[0]*dR,v2_normed[1]*dR])\n",
    "    displ_coords_2_b = np.array([0,0,0,0,v2_orth[0]*dR,v2_orth[1]*dR])\n",
    "    #print(displ_coords_0_a)\n",
    "    #print(displ_coords_0_b)\n",
    "    #print(displ_coords_1_a)\n",
    "    #print(displ_coords_1_b)\n",
    "    #print(displ_coords_2_a)\n",
    "    #print(displ_coords_2_b)\n",
    "\n",
    "    coordinate_list.append([coordinates + displ_coords_0_a,coordinates - displ_coords_0_a])\n",
    "    coordinate_list.append([coordinates + displ_coords_0_b,coordinates - displ_coords_0_b])\n",
    "    coordinate_list.append([coordinates + displ_coords_1_a,coordinates - displ_coords_1_a])\n",
    "    coordinate_list.append([coordinates + displ_coords_1_b,coordinates - displ_coords_1_b])\n",
    "    coordinate_list.append([coordinates + displ_coords_2_a,coordinates - displ_coords_2_a])\n",
    "    coordinate_list.append([coordinates + displ_coords_2_b,coordinates - displ_coords_2_b])\n",
    "    \n",
    "    #dR_list = v0_normed.tolist() + v1_normed.tolist() + v2_normed.tolist()\n",
    "    \n",
    "    dR_list = [dR,dR,dR,dR,dR,dR]\n",
    "    #print(dR_list)\n",
    "    #for i in range(len(coordinates)):\n",
    "        \n",
    "        #coordinate_list.append([coordinates[0:i]+[(coordinates[i]+dR_list[i])]+coordinates[i+1:],coordinates[0:i]+[(coordinates[i]-dR_list[i])]+coordinates[i+1:]])\n",
    "    \n",
    "    #print(coordinate_list)\n",
    "    with multiprocessing.Pool() as pool:\n",
    "         ops,op_coeffs = zip(*pool.map(task2, coordinate_list))\n",
    "    \n",
    "    #print(ops)\n",
    "    return ops, op_coeffs\n",
    "\n",
    "def sequential_operators(coordinates):\n",
    "    ops = []\n",
    "    op_coeffs = []\n",
    "    \n",
    "    for i in range(len(coordinates)):\n",
    "        \n",
    "        #get qubit operators coresponding to H+ (hamiltonian for atomic distances R + dR)\n",
    "        (qubit_op_plus, num_part_plus, num_orb_plus, problem_plus, converter_plus) = get_qubit_op(coordinates[0:i]+[(coordinates[i]+dR)]+coordinates[i+1:])\n",
    "        #get qubit operators coresponding to H- (hamiltonian for atomic distances R - dR)\n",
    "        (qubit_op_minus, num_part_minus, num_orb_minus, problem_minus, converter_minus) = get_qubit_op(coordinates[0:i]+[(coordinates[i]-dR)]+coordinates[i+1:])\n",
    "\n",
    "        rep_eng_plus = problem_plus.grouped_property_transformed.get_property(\"ElectronicEnergy\").nuclear_repulsion_energy\n",
    "        rep_eng_minus  = problem_minus.grouped_property_transformed.get_property(\"ElectronicEnergy\").nuclear_repulsion_energy\n",
    "        \n",
    "        qubit_op_plus = qubit_op_plus + rep_eng_plus*(I^I^I^I) #TODO:number of I's needs to be changed according to number of qubits\n",
    "        qubit_op_minus = qubit_op_minus + rep_eng_minus*(I^I^I^I)\n",
    "        \n",
    "       \n",
    "        op =  -(qubit_op_plus - qubit_op_minus).reduce()\n",
    "                    \n",
    "        op_list = op.primitive.to_list() #list containing Pauli operators in support and corresponding coeffs\n",
    "        \n",
    "        #construct dict from list\n",
    "        op_dict = {}\n",
    "        for (PauliString,coeff) in op_list:\n",
    "\n",
    "            if PauliString in op_dict:\n",
    "                op_dict[PauliString] += coeff\n",
    "            else:\n",
    "                op_dict[PauliString] = coeff\n",
    "                \n",
    "        ops.append(op)\n",
    "        op_coeffs.append(op_dict)\n",
    "    #print(ops)\n",
    "    return ops, op_coeffs\n",
    "\n",
    "def parallel_expectations(exp_dict_exact, exp_dict, op_set, q_instance, psi_0):\n",
    "\n",
    "    triples = []\n",
    "    for op in op_set:\n",
    "        triple = (op,q_instance,psi_0)\n",
    "        triples.append(triple)\n",
    "\n",
    "    Es = 0\n",
    "    with multiprocessing.Pool() as pool:\n",
    "        Es,E_ex = zip(*pool.starmap(task1, triples))\n",
    "        #print(Es)\n",
    "        #print(E_ex)\n",
    "        #Es,E_ex = pool.starmap(task1, triples)\n",
    "    for i in range(len(Es)):\n",
    "        \n",
    "        exp_dict[triples[i][0]]=Es[i]\n",
    "        exp_dict_exact[triples[i][0]]=E_ex[i]\n",
    "                       \n",
    "    return 0\n",
    "\n",
    "def sequential_expectations(exp_dict, op_set, q_instance, psi_0):\n",
    "\n",
    "    for pauli_string in op_set:\n",
    "        \n",
    "        Obs = PauliOp(Pauli(pauli_string))\n",
    "        measurable_expression = StateFn(Obs, is_measurement=True).compose(psi_0)\n",
    "        expectation = PauliExpectation().convert(measurable_expression)  \n",
    "        sampler = CircuitSampler(q_instance).convert(expectation) \n",
    "        E = sampler.eval().real\n",
    "        exp_dict[pauli_string] = E\n",
    "\n",
    "    return 0\n",
    "\n",
    "def get_psi_0(coordinates, simulator='qasm',shots=1028):\n",
    "\n",
    "    #get qubit operator corresponding to H(R)\n",
    "    (qubit_op, num_part, num_orb, problem, converter) = get_qubit_op(coordinates)\n",
    "    \n",
    "    #get the ground state of H(R)\n",
    "    psi_0,_ = calc_ground_state(qubit_op,num_part, num_orb, problem, converter)\n",
    "    \n",
    "    psi_0 = CircuitStateFn(psi_0)\n",
    "\n",
    "    return psi_0\n",
    "\n",
    "def calc_force_and_cov(coordinates, simulator = 'qasm', PauliSet = None, mode = 'full', shots = 128, basis_set_this=None):\n",
    "  \n",
    "    \n",
    "    if simulator == 'qasm':\n",
    "            backend = Aer.get_backend('qasm_simulator')\n",
    "            #backend.set_options(max_job_size=1, executor = euler_client)\n",
    "            q_instance = QuantumInstance(backend, shots=shots)\n",
    "    elif simulator == \"exact\":\n",
    "            backend = BasicAer.get_backend(\"statevector_simulator\")\n",
    "            q_instance = QuantumInstance(backend)\n",
    "    else:\n",
    "        print('Error: simulator should be qasm or exact!')\n",
    "        \n",
    "    num_coord = len(coordinates)   \n",
    "    \n",
    "    start = time.time()\n",
    "    \n",
    "\n",
    "    psi_0 = get_psi_0(coordinates, simulator = simulator, shots=shots)\n",
    "    \n",
    "    end = time.time()\n",
    "    \n",
    "    \n",
    "    time_psi_0 = end - start\n",
    "    #print(\"Took \" + str(time_psi_0) + \" s to calculate the ground state\")\n",
    "    forces = np.zeros(num_coord)\n",
    "    forces_exact = np.zeros(num_coord)\n",
    "    coordinates = coordinates.tolist()\n",
    "    \n",
    "    \n",
    "    coordinates_this = np.array(coordinates)\n",
    "    COM = calc_COM(coordinates_this)\n",
    "    coords = np.array_split(coordinates_this,3)\n",
    "    #print(coords)\n",
    "    #print(COM)\n",
    "    v0 = coords[0] - COM\n",
    "    v1 = coords[1] - COM\n",
    "    v2 = coords[2] - COM\n",
    "    \n",
    "    v0_normed = np.array(v0/np.sqrt(v0[0]**2+v0[1]**2))\n",
    "    v0_orth = np.array([v0_normed[1],-v0_normed[0]])\n",
    "    \n",
    "    v1_normed = np.array(v1/np.sqrt(v1[0]**2+v1[1]**2))\n",
    "    v1_orth = np.array([v1_normed[1],-v1_normed[0]])\n",
    "\n",
    "    v2_normed = np.array(v2/np.sqrt(v2[0]**2+v2[1]**2))\n",
    "    v2_orth = np.array([v2_normed[1],-v2_normed[0]])\n",
    "    \n",
    "    #rotated basis\n",
    "    if basis_set_this == \"rotated\":\n",
    "        basis_set = [v0_normed,v0_orth,v1_normed,v1_orth,v2_normed,v2_orth]\n",
    "    #cartesian basis\n",
    "    elif basis_set_this == \"cartesian\":\n",
    "        basis_set = [[1,0],[0,1],[1,0],[0,1],[1,0],[0,1]]\n",
    "    \n",
    "    #basis_set = basis_set_this\n",
    "\n",
    "    transform_matrix = np.array([[basis_set[0][0],basis_set[1][0],0,0,0,0],\n",
    "                                 [basis_set[0][1],basis_set[1][1],0,0,0,0],\n",
    "                                 [0,0,basis_set[2][0],basis_set[3][0],0,0],\n",
    "                                 [0,0,basis_set[2][1],basis_set[3][1],0,0],\n",
    "                                 [0,0,0,0,basis_set[4][0],basis_set[5][0]],\n",
    "                                 [0,0,0,0,basis_set[4][1],basis_set[5][1]]])\n",
    "    \n",
    "    transform_matrix_inv = np.linalg.inv(transform_matrix)\n",
    "    \n",
    "    start = time.time()\n",
    "    #get force component operators and decomposition (without the 1/(2*dR) factor, for numerical reasons)\n",
    "    #replace parallel_ with sequential_ to see effect of parallelization\n",
    "    force_ops,force_op_coeffs = parallel_operators(coordinates,basis_set)\n",
    "    \n",
    "    #for ops in force_ops:\n",
    "        #print(len(ops))\n",
    "        \n",
    "    P1 = force_ops[0]\n",
    "    \n",
    "    if PauliSet == None:\n",
    "        \n",
    "        pauli_op_set = {'IIII'} #Could not initialize empty set for some reason\n",
    "        # construct set of PauliOp products that we need to calculate\n",
    "\n",
    "        for PauliString,coeff in force_op_coeffs[0].items():\n",
    "            pauli_op_set.add(PauliString)\n",
    "\n",
    "        #to get set of necessary PauliOp products:\n",
    "        \n",
    "            P_prod = (P1@P1)\n",
    "            P_list = P_prod.primitive.to_list()\n",
    "\n",
    "            for (PauliString,coeff) in P_list:\n",
    "                pauli_op_set.add(PauliString)\n",
    "                \n",
    "    else: pauli_op_set = PauliSet\n",
    "        \n",
    "    end = time.time()\n",
    "    \n",
    "    time_pauli_ops = end - start\n",
    "        \n",
    "\n",
    "        # Now we calculate the expectation values of all the relevant PauliOps\n",
    "    \n",
    "    start = time.time()\n",
    "    exp_dict = {} # dictionary with relevant expectation values\n",
    "    exp_dict_exact = {}  # dictionary with exact relevant expectation values\n",
    "        \n",
    "    #switch between parallel_ and sequential_ to see the effect\n",
    "    \n",
    "    parallel_expectations(exp_dict_exact,exp_dict,pauli_op_set,q_instance,psi_0)\n",
    "    \n",
    "\n",
    "    for i in range(len(coordinates)):\n",
    "        for pauli_op,coeff in force_op_coeffs[i].items():\n",
    "            forces[i] += coeff.real*exp_dict[pauli_op]\n",
    "            forces_exact[i] += coeff.real*exp_dict_exact[pauli_op]\n",
    "    \n",
    "    #forces[1] = 0\n",
    "    #forces[3] = 0\n",
    "    #forces[5] = 0\n",
    "    \n",
    "    if basis_set_this == \"rotated\":\n",
    "        forces_return = np.matmul(transform_matrix,np.array(forces))\n",
    "    elif basis_set_this == \"cartesian\":\n",
    "        forces_return = forces\n",
    "        \n",
    "    #print(forces)\n",
    "            \n",
    "    end = time.time()   \n",
    "    time_calc_exp = end - start\n",
    "    \n",
    "    \n",
    "    start = time.time()\n",
    "    COV = np.zeros((num_coord,num_coord)) #force covariance matrix, without some multiplicative factors. \n",
    "        \n",
    "    for i in range(num_coord):\n",
    "        for j in range(i,num_coord):\n",
    "\n",
    "            Pij = force_ops[i]@force_ops[j]\n",
    "                \n",
    "            Pij_list = Pij.primitive.to_list()\n",
    "\n",
    "            #add product expectation \n",
    "            \n",
    "            for (pauli_string,coeff) in Pij_list:\n",
    "                COV[i,j] += coeff.real*exp_dict_exact[pauli_string]\n",
    "                    #subtract \n",
    "            COV[i,j] -= forces_exact[i]*forces_exact[j]\n",
    "            \n",
    "            \n",
    "            #since COV is symmetric\n",
    "            \n",
    "            if i < j:\n",
    "                COV[j,i] = COV[i,j]\n",
    "            \n",
    "            \n",
    "                \n",
    "    #print(COV)            \n",
    "    end = time.time()\n",
    "    \n",
    "    if basis_set_this == \"rotated\":\n",
    "        #print(COV)\n",
    "        COV_1 = np.matmul(COV,transform_matrix)\n",
    "        COV_2 = np.matmul(transform_matrix_inv,COV_1)\n",
    "        COV_return = COV_2\n",
    "        #COV_return = COV\n",
    "        #print(COV_return)\n",
    "    elif basis_set_this == \"cartesian\":    \n",
    "        COV_return = COV\n",
    "        \n",
    "    time_cov = end - start\n",
    "\n",
    "    print(f'Time to: Calculate Ground State - {round(time_psi_0,2)}s, Get Pauli Ops - {round(time_pauli_ops,2)}s, Calculate Pauli Expectation Values - {round(time_calc_exp,2)}s, Calculate Covariance - {round(time_cov,2)}s')\n",
    "    #print(COV)\n",
    "    \n",
    "    return forces_return*Ha*(1/(2*dR*angst)),COV_return*(Ha*(1/(2*dR*angst)))**2"
   ]
  },
  {
   "cell_type": "code",
   "execution_count": 3,
   "id": "5ae5fde0",
   "metadata": {},
   "outputs": [],
   "source": [
    "#from Quantech.verlet_integrator import distance\n",
    "#from force import calc_force_and_cov\n",
    "import numpy as np\n",
    "from tqdm import tqdm #to show progress\n",
    "\n",
    "\n",
    "#implementation of the explicit Euler integrator\n",
    "femto = 1.0e-15\n",
    "angst = 1.0e-10\n",
    "\n",
    "def calc_COM(coordinates):\n",
    "    #print(coordinates)\n",
    "    r_array = np.array_split(coordinates,3)\n",
    "    COM = (r_array[0] + r_array[1] + r_array[2])/3\n",
    "    \n",
    "    return COM\n",
    "\n",
    "def distance(coordinates1,coordinates2):\n",
    "    return np.sqrt(np.power((coordinates1[0] - coordinates2[0]),2) + np.power((coordinates1[1] - coordinates2[1]),2))\n",
    "\n",
    "    \n",
    "\n",
    "\n",
    "def main():\n",
    "    \n",
    "    f = open(\"exact_COV_128000_bigger_delta\",\"w\")\n",
    "    \n",
    "    #mass of particle1 (H)\n",
    "    mass_0 = 1.67e-27\n",
    "    #mass of particle2 (H)\n",
    "    mass_1 = 1.67e-27\n",
    "    #mass of particle3 (H)\n",
    "    mass_2 = 1.67e-27\n",
    "    #time step of integrator\n",
    "    dt = 0.2*femto\n",
    "    \n",
    "    mass = mass_0\n",
    "\n",
    "    #distances between atoms\n",
    "    d = 0.8\n",
    "    #rotation angle of the initial triangle\n",
    "    b = 0/180*np.pi\n",
    "    \n",
    "    #initial positions of atoms, arrangement = equilateral triangle\n",
    "    x1_init = np.array([-d/2*np.cos(b)+np.sin(b)*np.sqrt(3)/6*d,-d/2*np.sin(b)-np.cos(b)*np.sqrt(3)/6*d])+np.array([0,d*np.sqrt(3)/6])\n",
    "    x2_init = np.array([d/2*np.cos(b)+np.sin(b)*np.sqrt(3)/6*d,d/2*np.sin(b)-np.cos(b)*np.sqrt(3)/6*d])+np.array([0,d*np.sqrt(3)/6])\n",
    "    x3_init = np.array([-np.sin(b)*np.sqrt(3)/3*d,np.cos(b)*np.sqrt(3)/3*d])+np.array([0,d*np.sqrt(3)/6])\n",
    "    \n",
    "    \n",
    "    init_pos0 = x1_init\n",
    "    init_pos1 = x2_init\n",
    "    init_pos2 = x3_init\n",
    "    \n",
    "    init_pos = np.concatenate((init_pos0,init_pos1,init_pos2),axis=None)\n",
    "    \n",
    "    ##initialize velocities in the direction of the COM for each particle\n",
    "    \n",
    "    COM = calc_COM(init_pos)\n",
    "    \n",
    "    c0 = COM - init_pos0\n",
    "    c1 = COM - init_pos1\n",
    "    c2 = COM - init_pos2\n",
    "    \n",
    "    dir0 = c0/np.sqrt(c0[0]**2+c0[1]**2)\n",
    "    dir1 = c1/np.sqrt(c1[0]**2+c1[1]**2)\n",
    "    dir2 = c2/np.sqrt(c2[0]**2+c2[1]**2)\n",
    "\n",
    "    v_init_mag = 0\n",
    "\n",
    "    v_init = np.concatenate((dir0,dir1,dir2),axis=None)*v_init_mag\n",
    "    \n",
    "    \n",
    "\n",
    "    #integrator timesteps\n",
    "    \n",
    "    timeB = 0\n",
    "    timeE = 60\n",
    "    times = np.arange(timeB*femto, timeE*femto, dt)\n",
    "    \n",
    "    \n",
    "    #print(times)\n",
    "    #coordinate array\n",
    "    coords = [init_pos]\n",
    "    force = []\n",
    "    distance01 = [d]\n",
    "    distance02 = [d]\n",
    "    distance12 = [d]\n",
    "    #temperature in ?? \n",
    "    #k_B*T in Joule\n",
    "    k_b = 1.38065e-23\n",
    "    T = 420\n",
    "    k_T = k_b*T\n",
    "        #delta factor\n",
    "        \n",
    "    delta = 0.2*dt\n",
    "    \n",
    "    temperature = []\n",
    "    #hold v_next\n",
    "    \n",
    "    v_next = None\n",
    "    \n",
    "    simulator = 'qasm'\n",
    "    COM = calc_COM(init_pos)\n",
    "    coords_loc = np.array_split(init_pos,3)\n",
    "    forces_array = []\n",
    "    velocities_array = []\n",
    "    velocities_array.append(v_init.tolist())\n",
    "    coords_array = []\n",
    "    coords_array.append(init_pos.tolist())\n",
    "    \n",
    "    n_dof = 3\n",
    "    \n",
    "    #\"cartesian\" or \"rotated\"\n",
    "    \n",
    "    basis_set = \"rotated\"\n",
    "    \n",
    "    diag_elems = []\n",
    "    \n",
    "    shots = 128000\n",
    "    \n",
    "    for time in tqdm(times, desc='Progress: '):\n",
    "        \n",
    "        #time = 0\n",
    "        \n",
    "        r = coords[-1]\n",
    "        #print(r)\n",
    "        \n",
    "        (forces,COV) = calc_force_and_cov(r, simulator = simulator, shots = shots, basis_set_this=basis_set)\n",
    "        #diag_elems.append(COV[0][0])\n",
    "        #print(diag_elems)\n",
    "        forces_array.append(forces.tolist())\n",
    "        \n",
    "        f1 = distance(np.array([forces[0],forces[1]]),np.array([0,0]))\n",
    "        \n",
    "        f2 = distance(np.array([forces[2],forces[3]]),np.array([0,0]))\n",
    "        \n",
    "        f3 = distance(np.array([forces[4],forces[5]]),np.array([0,0]))    \n",
    "        \n",
    "        print(\"f0,f1,f2 = \" + str([f1,f2,f3]))\n",
    "        \n",
    "        \n",
    "        if time == 0:\n",
    "            \n",
    "            #v_sample = v_init\n",
    "            \n",
    "            #velocities = np.array(np.array_split(v_sample,3))\n",
    "            \n",
    "            #kin_eng = np.sum(velocities**2*mass/2, axis=1)\n",
    "            \n",
    "            #k_T = 2*np.sum(kin_eng)/np.size(kin_eng)/n_dof\n",
    "            \n",
    "            #temperature.append(k_T/k_b)\n",
    "            #k_T = k_b * T\n",
    "            #print(temperature)\n",
    "            \n",
    "            v_next = v_init - delta/(2*k_T*np.power(mass_0*mass_1*mass_2,1/3))*np.matmul(COV,v_init)*dt + dt*forces/mass_0\n",
    "            \n",
    "            r_next = (r*angst + dt*v_next)/angst\n",
    "\n",
    "            #r_split = np.array_split(r_next,3)\n",
    "\n",
    "            coords.append(r_next)\n",
    "\n",
    "        else:\n",
    "            \n",
    "            #v_sample = v_next\n",
    "            \n",
    "            #velocities = np.array(np.array_split(v_sample,3))\n",
    "            \n",
    "            #kin_eng = np.sum(velocities**2*mass/2, axis=1)\n",
    "            \n",
    "            #k_T = 2*np.sum(kin_eng)/np.size(kin_eng)/n_dof\n",
    "            \n",
    "            #temperature.append(k_T/k_b)\n",
    "            \n",
    "            v_next += - delta/(2*k_T*np.power(mass_0*mass_1*mass_2,1/3))*np.matmul(COV,v_next)*dt + dt*forces/mass_0\n",
    "            \n",
    "            r_next = (r*angst + dt*v_next)/angst\n",
    "\n",
    "            #r_split = np.array_split(r_next,3)\n",
    "            \n",
    "            coords.append(r_next)\n",
    "            \n",
    "        velocities_array.append(v_next.tolist())  \n",
    "        coords_array.append(coords[-1].tolist())\n",
    "        \n",
    "        r = np.array_split(coords[-1],3)\n",
    "        d01 = distance(r[0],r[1])\n",
    "        d02 = distance(r[0],r[2])\n",
    "        d12 = distance(r[1],r[2])\n",
    "        print(\"d01,d02,d12 = \" + str([d01,d02,d12]))\n",
    "        #print(\"Temp:\" + str(temperature[-1]) + \"K\")\n",
    "        #print(temperature[-1])\n",
    "        \n",
    "        dists = np.split(coords[-1],3)\n",
    "        d01 = distance(dists[0],dists[1])\n",
    "        distance01.append(d01)\n",
    "        d02 = distance(dists[0],dists[2])\n",
    "        distance02.append(d02)\n",
    "        d12 = distance(dists[1],dists[2])\n",
    "        distance12.append(d12)\n",
    "        \n",
    "    timess = times.tolist()\n",
    "    timess.append(timeE*femto)\n",
    "    \n",
    "    #f.write('diagonal elements for n = ' + str(shots) + \" no of shots\" + '\\n')\n",
    "    #f.write(str(diag_elems))\n",
    "    \n",
    "    \n",
    "    f.write('times \\n')\n",
    "    f.write(str(timess) + \"\\n\")\n",
    "    f.write(\"coordinates \\n\")\n",
    "    f.write(str(coords_array) + \"\\n\")\n",
    "    f.write(\"velocities \\n\")\n",
    "    f.write(str(velocities_array) + \"\\n\")\n",
    "    f.write(\"forces \\n\")\n",
    "    f.write(str(forces_array) + \"\\n\")\n",
    "    f.write(\"temperatures \\n\")\n",
    "    f.write(str(temperature) + \"\\n\")\n",
    "    \n",
    "    return (distance01,distance02,distance12,times) "
   ]
  },
  {
   "cell_type": "code",
   "execution_count": 4,
   "id": "be5bb22e",
   "metadata": {
    "scrolled": true
   },
   "outputs": [
    {
     "name": "stderr",
     "output_type": "stream",
     "text": [
      "Progress:   0%|          | 1/300 [00:16<1:24:03, 16.87s/it]"
     ]
    },
    {
     "name": "stdout",
     "output_type": "stream",
     "text": [
      "Time to: Calculate Ground State - 1.91s, Get Pauli Ops - 5.02s, Calculate Pauli Expectation Values - 8.02s, Calculate Covariance - 1.69s\n",
      "f0,f1,f2 = [1.1996829859762813e-08, 1.199682985977108e-08, 1.199682985976013e-08]\n",
      "d01,d02,d12 = [0.804977034454341, 0.8049770344543395, 0.8049770344543413]\n"
     ]
    },
    {
     "name": "stderr",
     "output_type": "stream",
     "text": [
      "/cluster/home/mskrabulis/miniconda3/envs/quantech/lib/python3.9/site-packages/pyscf/symm/Dmatrix.py:156: RuntimeWarning: invalid value encountered in arccos\n",
      "  gamma = numpy.arccos(yp.dot(c2[1]))\n",
      "Progress:   1%|          | 2/300 [00:33<1:22:56, 16.70s/it]"
     ]
    },
    {
     "name": "stdout",
     "output_type": "stream",
     "text": [
      "Time to: Calculate Ground State - 1.35s, Get Pauli Ops - 5.46s, Calculate Pauli Expectation Values - 7.65s, Calculate Covariance - 2.11s\n",
      "f0,f1,f2 = [1.3876664742167638e-08, 1.3876664742136095e-08, 1.3876664742138054e-08]\n",
      "d01,d02,d12 = [0.8156553017083106, 0.8156553017083102, 0.8156553017083085]\n"
     ]
    },
    {
     "name": "stderr",
     "output_type": "stream",
     "text": [
      "Progress:   1%|          | 3/300 [00:50<1:24:12, 17.01s/it]"
     ]
    },
    {
     "name": "stdout",
     "output_type": "stream",
     "text": [
      "Time to: Calculate Ground State - 1.1s, Get Pauli Ops - 6.55s, Calculate Pauli Expectation Values - 7.84s, Calculate Covariance - 1.9s\n",
      "f0,f1,f2 = [1.0944909608780889e-08, 1.0944909608775022e-08, 1.0944909608774448e-08]\n",
      "d01,d02,d12 = [0.830755459089719, 0.83075545908972, 0.8307554590897134]\n"
     ]
    },
    {
     "name": "stderr",
     "output_type": "stream",
     "text": [
      "/cluster/home/mskrabulis/miniconda3/envs/quantech/lib/python3.9/site-packages/pyscf/symm/Dmatrix.py:156: RuntimeWarning: invalid value encountered in arccos\n",
      "  gamma = numpy.arccos(yp.dot(c2[1]))\n",
      "Progress:   1%|▏         | 4/300 [01:07<1:23:17, 16.88s/it]"
     ]
    },
    {
     "name": "stdout",
     "output_type": "stream",
     "text": [
      "Time to: Calculate Ground State - 1.3s, Get Pauli Ops - 5.05s, Calculate Pauli Expectation Values - 8.02s, Calculate Covariance - 2.31s\n",
      "f0,f1,f2 = [9.195080251498776e-09, 9.195080251510393e-09, 9.195080251506912e-09]\n",
      "d01,d02,d12 = [0.8495037125590186, 0.8495037125590217, 0.8495037125590118]\n"
     ]
    },
    {
     "name": "stderr",
     "output_type": "stream",
     "text": [
      "/cluster/home/mskrabulis/miniconda3/envs/quantech/lib/python3.9/site-packages/pyscf/symm/Dmatrix.py:156: RuntimeWarning: invalid value encountered in arccos\n",
      "  gamma = numpy.arccos(yp.dot(c2[1]))\n",
      "Progress:   2%|▏         | 5/300 [01:27<1:27:55, 17.88s/it]"
     ]
    },
    {
     "name": "stdout",
     "output_type": "stream",
     "text": [
      "Time to: Calculate Ground State - 1.16s, Get Pauli Ops - 8.22s, Calculate Pauli Expectation Values - 8.03s, Calculate Covariance - 2.23s\n",
      "f0,f1,f2 = [8.707307959706392e-09, 8.707307959667546e-09, 8.707307959661231e-09]\n",
      "d01,d02,d12 = [0.8716592730252717, 0.8716592730252726, 0.8716592730252554]\n"
     ]
    },
    {
     "name": "stderr",
     "output_type": "stream",
     "text": [
      "Progress:   2%|▏         | 6/300 [01:43<1:25:15, 17.40s/it]"
     ]
    },
    {
     "name": "stdout",
     "output_type": "stream",
     "text": [
      "Time to: Calculate Ground State - 0.82s, Get Pauli Ops - 5.43s, Calculate Pauli Expectation Values - 7.84s, Calculate Covariance - 2.37s\n",
      "f0,f1,f2 = [5.778986940249424e-09, 5.778986940193385e-09, 5.778986940246675e-09]\n",
      "d01,d02,d12 = [0.8959722040978488, 0.8959722040978686, 0.8959722040978285]\n"
     ]
    },
    {
     "name": "stderr",
     "output_type": "stream",
     "text": [
      "Progress:   2%|▏         | 7/300 [01:59<1:22:33, 16.90s/it]"
     ]
    },
    {
     "name": "stdout",
     "output_type": "stream",
     "text": [
      "Time to: Calculate Ground State - 1.06s, Get Pauli Ops - 5.08s, Calculate Pauli Expectation Values - 7.71s, Calculate Covariance - 2.03s\n",
      "f0,f1,f2 = [4.427885241451757e-09, 4.427885241454189e-09, 4.427885241469325e-09]\n",
      "d01,d02,d12 = [0.9218607245370971, 0.9218607245371349, 0.921860724537077]\n"
     ]
    },
    {
     "name": "stderr",
     "output_type": "stream",
     "text": [
      "Progress:   3%|▎         | 8/300 [02:16<1:22:59, 17.05s/it]"
     ]
    },
    {
     "name": "stdout",
     "output_type": "stream",
     "text": [
      "Time to: Calculate Ground State - 1.07s, Get Pauli Ops - 6.93s, Calculate Pauli Expectation Values - 7.79s, Calculate Covariance - 1.57s\n",
      "f0,f1,f2 = [3.878475058528011e-09, 3.878475058509689e-09, 3.878475058449377e-09]\n",
      "d01,d02,d12 = [0.949081772264931, 0.9490817722649655, 0.9490817722648995]\n"
     ]
    },
    {
     "name": "stderr",
     "output_type": "stream",
     "text": [
      "Progress:   3%|▎         | 9/300 [02:35<1:25:15, 17.58s/it]"
     ]
    },
    {
     "name": "stdout",
     "output_type": "stream",
     "text": [
      "Time to: Calculate Ground State - 1.27s, Get Pauli Ops - 7.57s, Calculate Pauli Expectation Values - 7.83s, Calculate Covariance - 2.06s\n",
      "f0,f1,f2 = [8.489914323675182e-10, 8.48991432371757e-10, 8.489914323565892e-10]\n",
      "d01,d02,d12 = [0.976365626243137, 0.9763656262431718, 0.9763656262431063]\n"
     ]
    },
    {
     "name": "stderr",
     "output_type": "stream",
     "text": [
      "Progress:   3%|▎         | 10/300 [02:54<1:26:36, 17.92s/it]"
     ]
    },
    {
     "name": "stdout",
     "output_type": "stream",
     "text": [
      "Time to: Calculate Ground State - 1.2s, Get Pauli Ops - 5.1s, Calculate Pauli Expectation Values - 10.41s, Calculate Covariance - 1.96s\n",
      "f0,f1,f2 = [8.253132160860885e-10, 8.253132160569265e-10, 8.253132161096021e-10]\n",
      "d01,d02,d12 = [1.003702500336727, 1.003702500336782, 1.0037025003366955]\n"
     ]
    },
    {
     "name": "stderr",
     "output_type": "stream",
     "text": [
      "Progress:   4%|▎         | 11/300 [03:10<1:23:55, 17.42s/it]"
     ]
    },
    {
     "name": "stdout",
     "output_type": "stream",
     "text": [
      "Time to: Calculate Ground State - 1.37s, Get Pauli Ops - 5.12s, Calculate Pauli Expectation Values - 7.88s, Calculate Covariance - 1.93s\n",
      "f0,f1,f2 = [8.814602426908416e-11, 8.814602429583742e-11, 8.814602428450857e-11]\n",
      "d01,d02,d12 = [1.030786150077775, 1.0307861500778597, 1.0307861500777487]\n"
     ]
    },
    {
     "name": "stderr",
     "output_type": "stream",
     "text": [
      "Progress:   4%|▍         | 12/300 [03:30<1:27:49, 18.30s/it]"
     ]
    },
    {
     "name": "stdout",
     "output_type": "stream",
     "text": [
      "Time to: Calculate Ground State - 1.22s, Get Pauli Ops - 9.11s, Calculate Pauli Expectation Values - 8.19s, Calculate Covariance - 1.75s\n",
      "f0,f1,f2 = [1.6203351256406494e-09, 1.6203351256244059e-09, 1.620335125571449e-09]\n",
      "d01,d02,d12 = [1.0569101362777236, 1.0569101362778421, 1.0569101362777247]\n"
     ]
    },
    {
     "name": "stderr",
     "output_type": "stream",
     "text": [
      "Progress:   4%|▍         | 13/300 [03:46<1:23:05, 17.37s/it]"
     ]
    },
    {
     "name": "stdout",
     "output_type": "stream",
     "text": [
      "Time to: Calculate Ground State - 1.25s, Get Pauli Ops - 4.36s, Calculate Pauli Expectation Values - 8.05s, Calculate Covariance - 1.57s\n",
      "f0,f1,f2 = [3.277440189004763e-09, 3.2774401889751836e-09, 3.2774401890026746e-09]\n",
      "d01,d02,d12 = [1.0813964960344693, 1.0813964960346178, 1.0813964960345113]\n"
     ]
    },
    {
     "name": "stderr",
     "output_type": "stream",
     "text": [
      "Progress:   5%|▍         | 14/300 [04:01<1:20:34, 16.90s/it]"
     ]
    },
    {
     "name": "stdout",
     "output_type": "stream",
     "text": [
      "Time to: Calculate Ground State - 1.22s, Get Pauli Ops - 4.6s, Calculate Pauli Expectation Values - 8.18s, Calculate Covariance - 1.82s\n",
      "f0,f1,f2 = [2.6046414376231722e-09, 2.604641437635928e-09, 2.6046414376255334e-09]\n",
      "d01,d02,d12 = [1.1045409331045977, 1.1045409331047717, 1.1045409331046678]\n"
     ]
    },
    {
     "name": "stderr",
     "output_type": "stream",
     "text": [
      "/cluster/home/mskrabulis/miniconda3/envs/quantech/lib/python3.9/site-packages/pyscf/symm/Dmatrix.py:156: RuntimeWarning: invalid value encountered in arccos\n",
      "  gamma = numpy.arccos(yp.dot(c2[1]))\n",
      "Progress:   5%|▌         | 15/300 [04:17<1:18:22, 16.50s/it]"
     ]
    },
    {
     "name": "stdout",
     "output_type": "stream",
     "text": [
      "Time to: Calculate Ground State - 1.01s, Get Pauli Ops - 4.39s, Calculate Pauli Expectation Values - 8.04s, Calculate Covariance - 2.1s\n",
      "f0,f1,f2 = [3.924006841818687e-09, 3.924006841827931e-09, 3.924006841865669e-09]\n",
      "d01,d02,d12 = [1.1258095091724833, 1.125809509172679, 1.1258095091725817]\n"
     ]
    },
    {
     "name": "stderr",
     "output_type": "stream",
     "text": [
      "Progress:   5%|▌         | 16/300 [04:35<1:19:41, 16.84s/it]"
     ]
    },
    {
     "name": "stdout",
     "output_type": "stream",
     "text": [
      "Time to: Calculate Ground State - 1.0s, Get Pauli Ops - 4.98s, Calculate Pauli Expectation Values - 10.16s, Calculate Covariance - 1.47s\n",
      "f0,f1,f2 = [3.6865569252361315e-09, 3.6865569252512817e-09, 3.6865569251617928e-09]\n",
      "d01,d02,d12 = [1.145316969186212, 1.1453169691864646, 1.1453169691863558]\n"
     ]
    },
    {
     "name": "stderr",
     "output_type": "stream",
     "text": [
      "Progress:   6%|▌         | 17/300 [04:54<1:22:25, 17.47s/it]"
     ]
    },
    {
     "name": "stdout",
     "output_type": "stream",
     "text": [
      "Time to: Calculate Ground State - 0.77s, Get Pauli Ops - 7.8s, Calculate Pauli Expectation Values - 7.92s, Calculate Covariance - 2.46s\n",
      "f0,f1,f2 = [4.583939922894895e-09, 4.583939922900748e-09, 4.583939922911444e-09]\n",
      "d01,d02,d12 = [1.1627096363368117, 1.162709636337108, 1.162709636336998]\n"
     ]
    },
    {
     "name": "stderr",
     "output_type": "stream",
     "text": [
      "/cluster/home/mskrabulis/miniconda3/envs/quantech/lib/python3.9/site-packages/pyscf/symm/Dmatrix.py:156: RuntimeWarning: invalid value encountered in arccos\n",
      "  gamma = numpy.arccos(yp.dot(c2[1]))\n",
      "Progress:   6%|▌         | 18/300 [05:12<1:23:53, 17.85s/it]"
     ]
    },
    {
     "name": "stdout",
     "output_type": "stream",
     "text": [
      "Time to: Calculate Ground State - 0.84s, Get Pauli Ops - 7.68s, Calculate Pauli Expectation Values - 8.09s, Calculate Covariance - 2.12s\n",
      "f0,f1,f2 = [5.103038573967809e-09, 5.1030385739681564e-09, 5.103038574021579e-09]\n",
      "d01,d02,d12 = [1.1777947845211112, 1.1777947845214327, 1.1777947845213332]\n"
     ]
    },
    {
     "name": "stderr",
     "output_type": "stream",
     "text": [
      "/cluster/home/mskrabulis/miniconda3/envs/quantech/lib/python3.9/site-packages/pyscf/symm/Dmatrix.py:156: RuntimeWarning: invalid value encountered in arccos\n",
      "  gamma = numpy.arccos(yp.dot(c2[1]))\n",
      "Progress:   6%|▋         | 19/300 [05:28<1:20:36, 17.21s/it]"
     ]
    },
    {
     "name": "stdout",
     "output_type": "stream",
     "text": [
      "Time to: Calculate Ground State - 1.1s, Get Pauli Ops - 4.86s, Calculate Pauli Expectation Values - 7.8s, Calculate Covariance - 1.96s\n",
      "f0,f1,f2 = [4.6950436832503e-09, 4.695043683225615e-09, 4.6950436832077644e-09]\n",
      "d01,d02,d12 = [1.190766584267311, 1.1907665842676562, 1.1907665842675808]\n"
     ]
    },
    {
     "name": "stderr",
     "output_type": "stream",
     "text": [
      "Progress:   7%|▋         | 20/300 [05:46<1:20:46, 17.31s/it]"
     ]
    },
    {
     "name": "stdout",
     "output_type": "stream",
     "text": [
      "Time to: Calculate Ground State - 1.07s, Get Pauli Ops - 4.43s, Calculate Pauli Expectation Values - 9.72s, Calculate Covariance - 2.32s\n",
      "f0,f1,f2 = [4.989283115564691e-09, 4.989283115539629e-09, 4.989283115576327e-09]\n",
      "d01,d02,d12 = [1.2015258934925859, 1.2015258934929576, 1.2015258934928978]\n"
     ]
    },
    {
     "name": "stderr",
     "output_type": "stream",
     "text": [
      "Progress:   7%|▋         | 21/300 [06:03<1:21:04, 17.44s/it]"
     ]
    },
    {
     "name": "stdout",
     "output_type": "stream",
     "text": [
      "Time to: Calculate Ground State - 1.33s, Get Pauli Ops - 6.94s, Calculate Pauli Expectation Values - 7.86s, Calculate Covariance - 1.6s\n",
      "f0,f1,f2 = [6.366095198173676e-09, 6.366095198189653e-09, 6.36609519820773e-09]\n",
      "d01,d02,d12 = [1.2095256696075796, 1.2095256696079755, 1.2095256696079317]\n"
     ]
    },
    {
     "name": "stderr",
     "output_type": "stream",
     "text": [
      "Progress:   7%|▋         | 22/300 [06:18<1:17:34, 16.74s/it]"
     ]
    },
    {
     "name": "stdout",
     "output_type": "stream",
     "text": [
      "Time to: Calculate Ground State - 1.08s, Get Pauli Ops - 4.29s, Calculate Pauli Expectation Values - 8.18s, Calculate Covariance - 1.57s\n",
      "f0,f1,f2 = [5.325682897223687e-09, 5.325682897214811e-09, 5.325682897212749e-09]\n",
      "d01,d02,d12 = [1.215227828973334, 1.2152278289737457, 1.215227828973725]\n"
     ]
    },
    {
     "name": "stderr",
     "output_type": "stream",
     "text": [
      "Progress:   8%|▊         | 23/300 [06:35<1:17:12, 16.72s/it]"
     ]
    },
    {
     "name": "stdout",
     "output_type": "stream",
     "text": [
      "Time to: Calculate Ground State - 1.28s, Get Pauli Ops - 5.15s, Calculate Pauli Expectation Values - 8.8s, Calculate Covariance - 1.45s\n",
      "f0,f1,f2 = [6.885204580680192e-09, 6.8852045807469535e-09, 6.885204580686952e-09]\n",
      "d01,d02,d12 = [1.2180106644422222, 1.2180106644426565, 1.2180106644426347]\n"
     ]
    },
    {
     "name": "stderr",
     "output_type": "stream",
     "text": [
      "/cluster/home/mskrabulis/miniconda3/envs/quantech/lib/python3.9/site-packages/pyscf/symm/Dmatrix.py:156: RuntimeWarning: invalid value encountered in arccos\n",
      "  gamma = numpy.arccos(yp.dot(c2[1]))\n",
      "Progress:   8%|▊         | 24/300 [06:51<1:16:18, 16.59s/it]"
     ]
    },
    {
     "name": "stdout",
     "output_type": "stream",
     "text": [
      "Time to: Calculate Ground State - 1.33s, Get Pauli Ops - 5.15s, Calculate Pauli Expectation Values - 8.4s, Calculate Covariance - 1.38s\n",
      "f0,f1,f2 = [6.055608296346062e-09, 6.055608296332387e-09, 6.0556082963165985e-09]\n",
      "d01,d02,d12 = [1.218250541167997, 1.2182505411684668, 1.2182505411684394]\n"
     ]
    },
    {
     "name": "stderr",
     "output_type": "stream",
     "text": [
      "Progress:   8%|▊         | 25/300 [07:08<1:15:38, 16.50s/it]"
     ]
    },
    {
     "name": "stdout",
     "output_type": "stream",
     "text": [
      "Time to: Calculate Ground State - 1.12s, Get Pauli Ops - 4.87s, Calculate Pauli Expectation Values - 8.29s, Calculate Covariance - 2.02s\n",
      "f0,f1,f2 = [5.103656268198393e-09, 5.103656268251991e-09, 5.103656268276171e-09]\n",
      "d01,d02,d12 = [1.2163704548461634, 1.2163704548466574, 1.2163704548466128]\n"
     ]
    },
    {
     "name": "stderr",
     "output_type": "stream",
     "text": [
      "Progress:   9%|▊         | 26/300 [07:23<1:14:13, 16.25s/it]"
     ]
    },
    {
     "name": "stdout",
     "output_type": "stream",
     "text": [
      "Time to: Calculate Ground State - 1.01s, Get Pauli Ops - 4.52s, Calculate Pauli Expectation Values - 8.07s, Calculate Covariance - 2.06s\n",
      "f0,f1,f2 = [5.801244282034648e-09, 5.8012442820384805e-09, 5.801244282084316e-09]\n",
      "d01,d02,d12 = [1.212104395913577, 1.212104395914092, 1.2121043959140214]\n"
     ]
    },
    {
     "name": "stderr",
     "output_type": "stream",
     "text": [
      "Progress:   9%|▉         | 27/300 [07:39<1:12:34, 15.95s/it]"
     ]
    },
    {
     "name": "stdout",
     "output_type": "stream",
     "text": [
      "Time to: Calculate Ground State - 0.77s, Get Pauli Ops - 4.33s, Calculate Pauli Expectation Values - 7.98s, Calculate Covariance - 2.17s\n",
      "f0,f1,f2 = [5.963137443481794e-09, 5.963137443479144e-09, 5.963137443476276e-09]\n",
      "d01,d02,d12 = [1.205411501545676, 1.205411501546207, 1.2054115015461206]\n"
     ]
    },
    {
     "name": "stderr",
     "output_type": "stream",
     "text": [
      "Progress:   9%|▉         | 28/300 [07:53<1:10:38, 15.58s/it]"
     ]
    },
    {
     "name": "stdout",
     "output_type": "stream",
     "text": [
      "Time to: Calculate Ground State - 1.14s, Get Pauli Ops - 4.07s, Calculate Pauli Expectation Values - 7.85s, Calculate Covariance - 1.66s\n",
      "f0,f1,f2 = [5.136625225597995e-09, 5.136625225578415e-09, 5.136625225607993e-09]\n",
      "d01,d02,d12 = [1.1966613550719576, 1.196661355072502, 1.1966613550724123]\n"
     ]
    },
    {
     "name": "stderr",
     "output_type": "stream",
     "text": [
      "Progress:  10%|▉         | 29/300 [08:09<1:09:49, 15.46s/it]"
     ]
    },
    {
     "name": "stdout",
     "output_type": "stream",
     "text": [
      "Time to: Calculate Ground State - 0.77s, Get Pauli Ops - 4.42s, Calculate Pauli Expectation Values - 7.83s, Calculate Covariance - 2.14s\n",
      "f0,f1,f2 = [4.392236751954336e-09, 4.3922367519357655e-09, 4.392236751928045e-09]\n",
      "d01,d02,d12 = [1.1861853226549397, 1.1861853226555032, 1.1861853226554042]\n"
     ]
    },
    {
     "name": "stderr",
     "output_type": "stream",
     "text": [
      "Progress:  10%|█         | 30/300 [08:24<1:09:52, 15.53s/it]"
     ]
    },
    {
     "name": "stdout",
     "output_type": "stream",
     "text": [
      "Time to: Calculate Ground State - 1.07s, Get Pauli Ops - 4.67s, Calculate Pauli Expectation Values - 7.67s, Calculate Covariance - 2.27s\n",
      "f0,f1,f2 = [5.703551616881399e-09, 5.7035516168960014e-09, 5.703551616873921e-09]\n",
      "d01,d02,d12 = [1.1734582087079923, 1.1734582087085912, 1.1734582087084695]\n"
     ]
    },
    {
     "name": "stderr",
     "output_type": "stream",
     "text": [
      "Progress:  10%|█         | 31/300 [08:41<1:11:05, 15.86s/it]"
     ]
    },
    {
     "name": "stdout",
     "output_type": "stream",
     "text": [
      "Time to: Calculate Ground State - 1.11s, Get Pauli Ops - 5.18s, Calculate Pauli Expectation Values - 7.96s, Calculate Covariance - 2.38s\n",
      "f0,f1,f2 = [6.197183677578429e-09, 6.197183677576548e-09, 6.197183677555714e-09]\n",
      "d01,d02,d12 = [1.158299701569006, 1.1582997015696528, 1.1582997015695131]\n"
     ]
    },
    {
     "name": "stderr",
     "output_type": "stream",
     "text": [
      "Progress:  11%|█         | 32/300 [08:57<1:11:10, 15.94s/it]"
     ]
    },
    {
     "name": "stdout",
     "output_type": "stream",
     "text": [
      "Time to: Calculate Ground State - 1.32s, Get Pauli Ops - 5.1s, Calculate Pauli Expectation Values - 7.99s, Calculate Covariance - 1.7s\n",
      "f0,f1,f2 = [4.5458641947385435e-09, 4.545864194727482e-09, 4.5458641947486434e-09]\n",
      "d01,d02,d12 = [1.141421175454848, 1.1414211754555346, 1.1414211754553998]\n"
     ]
    },
    {
     "name": "stderr",
     "output_type": "stream",
     "text": [
      "/cluster/home/mskrabulis/miniconda3/envs/quantech/lib/python3.9/site-packages/pyscf/symm/Dmatrix.py:156: RuntimeWarning: invalid value encountered in arccos\n",
      "  gamma = numpy.arccos(yp.dot(c2[1]))\n",
      "Progress:  11%|█         | 33/300 [09:13<1:11:24, 16.05s/it]"
     ]
    },
    {
     "name": "stdout",
     "output_type": "stream",
     "text": [
      "Time to: Calculate Ground State - 1.03s, Get Pauli Ops - 4.66s, Calculate Pauli Expectation Values - 8.27s, Calculate Covariance - 2.34s\n",
      "f0,f1,f2 = [5.27759302483738e-09, 5.277593024828923e-09, 5.277593024877805e-09]\n",
      "d01,d02,d12 = [1.122537444717476, 1.1225374447182002, 1.1225374447180752]\n"
     ]
    },
    {
     "name": "stderr",
     "output_type": "stream",
     "text": [
      "/cluster/home/mskrabulis/miniconda3/envs/quantech/lib/python3.9/site-packages/pyscf/symm/Dmatrix.py:156: RuntimeWarning: invalid value encountered in arccos\n",
      "  gamma = numpy.arccos(yp.dot(c2[1]))\n",
      "Progress:  11%|█▏        | 34/300 [09:29<1:10:57, 16.01s/it]"
     ]
    },
    {
     "name": "stdout",
     "output_type": "stream",
     "text": [
      "Time to: Calculate Ground State - 1.0s, Get Pauli Ops - 5.14s, Calculate Pauli Expectation Values - 8.08s, Calculate Covariance - 1.69s\n",
      "f0,f1,f2 = [5.502724402344274e-09, 5.502724402360033e-09, 5.502724402348096e-09]\n",
      "d01,d02,d12 = [1.1015764712266845, 1.1015764712274734, 1.1015764712273477]\n"
     ]
    },
    {
     "name": "stderr",
     "output_type": "stream",
     "text": [
      "Progress:  12%|█▏        | 35/300 [09:46<1:12:10, 16.34s/it]"
     ]
    },
    {
     "name": "stdout",
     "output_type": "stream",
     "text": [
      "Time to: Calculate Ground State - 1.33s, Get Pauli Ops - 4.93s, Calculate Pauli Expectation Values - 8.7s, Calculate Covariance - 2.16s\n",
      "f0,f1,f2 = [4.613204548280246e-09, 4.61320454829128e-09, 4.613204548341962e-09]\n",
      "d01,d02,d12 = [1.078926087967574, 1.0789260879684306, 1.0789260879683045]\n"
     ]
    },
    {
     "name": "stderr",
     "output_type": "stream",
     "text": [
      "/cluster/home/mskrabulis/miniconda3/envs/quantech/lib/python3.9/site-packages/pyscf/symm/Dmatrix.py:156: RuntimeWarning: invalid value encountered in arccos\n",
      "  gamma = numpy.arccos(yp.dot(c2[1]))\n",
      "Progress:  12%|█▏        | 36/300 [10:03<1:12:51, 16.56s/it]"
     ]
    },
    {
     "name": "stdout",
     "output_type": "stream",
     "text": [
      "Time to: Calculate Ground State - 0.85s, Get Pauli Ops - 4.92s, Calculate Pauli Expectation Values - 9.1s, Calculate Covariance - 2.19s\n",
      "f0,f1,f2 = [3.140024586057493e-09, 3.140024586063268e-09, 3.1400245860243843e-09]\n",
      "d01,d02,d12 = [1.0552146978386037, 1.055214697839563, 1.0552146978394046]\n"
     ]
    },
    {
     "name": "stderr",
     "output_type": "stream",
     "text": [
      "Progress:  12%|█▏        | 37/300 [10:21<1:13:20, 16.73s/it]"
     ]
    },
    {
     "name": "stdout",
     "output_type": "stream",
     "text": [
      "Time to: Calculate Ground State - 1.33s, Get Pauli Ops - 4.72s, Calculate Pauli Expectation Values - 8.87s, Calculate Covariance - 2.21s\n",
      "f0,f1,f2 = [1.4034828932600611e-09, 1.4034828932809776e-09, 1.4034828932679078e-09]\n",
      "d01,d02,d12 = [1.0311732783257592, 1.031173278326804, 1.0311732783266239]\n"
     ]
    },
    {
     "name": "stderr",
     "output_type": "stream",
     "text": [
      "Progress:  13%|█▎        | 38/300 [10:38<1:14:00, 16.95s/it]"
     ]
    },
    {
     "name": "stdout",
     "output_type": "stream",
     "text": [
      "Time to: Calculate Ground State - 1.03s, Get Pauli Ops - 5.19s, Calculate Pauli Expectation Values - 9.05s, Calculate Covariance - 2.17s\n",
      "f0,f1,f2 = [2.6851492714599194e-09, 2.685149271416386e-09, 2.6851492714375123e-09]\n",
      "d01,d02,d12 = [1.0062730571963567, 1.0062730571974619, 1.0062730571972867]\n"
     ]
    },
    {
     "name": "stderr",
     "output_type": "stream",
     "text": [
      "Progress:  13%|█▎        | 39/300 [10:56<1:15:28, 17.35s/it]"
     ]
    },
    {
     "name": "stdout",
     "output_type": "stream",
     "text": [
      "Time to: Calculate Ground State - 1.35s, Get Pauli Ops - 4.43s, Calculate Pauli Expectation Values - 10.05s, Calculate Covariance - 2.46s\n",
      "f0,f1,f2 = [1.3006568874365906e-09, 1.3006568873828466e-09, 1.3006568873907859e-09]\n",
      "d01,d02,d12 = [0.9810972165462699, 0.9810972165474384, 0.9810972165472607]\n"
     ]
    },
    {
     "name": "stderr",
     "output_type": "stream",
     "text": [
      "/cluster/home/mskrabulis/miniconda3/envs/quantech/lib/python3.9/site-packages/pyscf/symm/Dmatrix.py:156: RuntimeWarning: invalid value encountered in arccos\n",
      "  gamma = numpy.arccos(yp.dot(c2[1]))\n",
      "Progress:  13%|█▎        | 40/300 [11:14<1:15:18, 17.38s/it]"
     ]
    },
    {
     "name": "stdout",
     "output_type": "stream",
     "text": [
      "Time to: Calculate Ground State - 1.2s, Get Pauli Ops - 4.77s, Calculate Pauli Expectation Values - 9.53s, Calculate Covariance - 1.94s\n",
      "f0,f1,f2 = [3.584590527519116e-10, 3.5845905272393257e-10, 3.584590527813929e-10]\n",
      "d01,d02,d12 = [0.9560396201891659, 0.956039620190378, 0.9560396201902029]\n"
     ]
    },
    {
     "name": "stderr",
     "output_type": "stream",
     "text": [
      "/cluster/home/mskrabulis/miniconda3/envs/quantech/lib/python3.9/site-packages/pyscf/symm/Dmatrix.py:156: RuntimeWarning: invalid value encountered in arccos\n",
      "  gamma = numpy.arccos(yp.dot(c2[1]))\n",
      "Progress:  14%|█▎        | 41/300 [11:29<1:12:20, 16.76s/it]"
     ]
    },
    {
     "name": "stdout",
     "output_type": "stream",
     "text": [
      "Time to: Calculate Ground State - 0.78s, Get Pauli Ops - 4.43s, Calculate Pauli Expectation Values - 8.17s, Calculate Covariance - 1.93s\n",
      "f0,f1,f2 = [6.346666371175946e-10, 6.346666371525432e-10, 6.346666371357371e-10]\n",
      "d01,d02,d12 = [0.9315115124397441, 0.9315115124409924, 0.9315115124408093]\n"
     ]
    },
    {
     "name": "stderr",
     "output_type": "stream",
     "text": [
      "Progress:  14%|█▍        | 42/300 [11:46<1:12:03, 16.76s/it]"
     ]
    },
    {
     "name": "stdout",
     "output_type": "stream",
     "text": [
      "Time to: Calculate Ground State - 0.79s, Get Pauli Ops - 5.07s, Calculate Pauli Expectation Values - 8.66s, Calculate Covariance - 2.23s\n",
      "f0,f1,f2 = [2.066808839740073e-09, 2.066808839723699e-09, 2.0668088397337786e-09]\n",
      "d01,d02,d12 = [0.9081023292383461, 0.9081023292396345, 0.9081023292394144]\n"
     ]
    },
    {
     "name": "stderr",
     "output_type": "stream",
     "text": [
      "/cluster/home/mskrabulis/miniconda3/envs/quantech/lib/python3.9/site-packages/pyscf/symm/Dmatrix.py:156: RuntimeWarning: invalid value encountered in arccos\n",
      "  gamma = numpy.arccos(yp.dot(c2[1]))\n",
      "Progress:  14%|█▍        | 43/300 [12:03<1:12:30, 16.93s/it]"
     ]
    },
    {
     "name": "stdout",
     "output_type": "stream",
     "text": [
      "Time to: Calculate Ground State - 0.87s, Get Pauli Ops - 5.18s, Calculate Pauli Expectation Values - 9.08s, Calculate Covariance - 2.18s\n",
      "f0,f1,f2 = [5.012468284859975e-09, 5.0124682849194494e-09, 5.012468284877224e-09]\n",
      "d01,d02,d12 = [0.8870234562800904, 0.8870234562814229, 0.8870234562811669]\n"
     ]
    },
    {
     "name": "stderr",
     "output_type": "stream",
     "text": [
      "Progress:  15%|█▍        | 44/300 [12:21<1:13:02, 17.12s/it]"
     ]
    },
    {
     "name": "stdout",
     "output_type": "stream",
     "text": [
      "Time to: Calculate Ground State - 1.28s, Get Pauli Ops - 6.23s, Calculate Pauli Expectation Values - 7.79s, Calculate Covariance - 2.26s\n",
      "f0,f1,f2 = [4.776227411696234e-09, 4.776227411674689e-09, 4.776227411653719e-09]\n",
      "d01,d02,d12 = [0.8681532919283819, 0.8681532919297706, 0.8681532919294599]\n"
     ]
    },
    {
     "name": "stderr",
     "output_type": "stream",
     "text": [
      "/cluster/home/mskrabulis/miniconda3/envs/quantech/lib/python3.9/site-packages/pyscf/symm/Dmatrix.py:156: RuntimeWarning: invalid value encountered in arccos\n",
      "  gamma = numpy.arccos(yp.dot(c2[1]))\n",
      "Progress:  15%|█▌        | 45/300 [12:41<1:16:35, 18.02s/it]"
     ]
    },
    {
     "name": "stdout",
     "output_type": "stream",
     "text": [
      "Time to: Calculate Ground State - 1.37s, Get Pauli Ops - 8.41s, Calculate Pauli Expectation Values - 7.97s, Calculate Covariance - 2.38s\n",
      "f0,f1,f2 = [6.252365028323459e-09, 6.2523650283694305e-09, 6.252365028277733e-09]\n",
      "d01,d02,d12 = [0.8520817781271757, 0.8520817781285948, 0.852081778128233]\n"
     ]
    },
    {
     "name": "stderr",
     "output_type": "stream",
     "text": [
      "/cluster/home/mskrabulis/miniconda3/envs/quantech/lib/python3.9/site-packages/pyscf/symm/Dmatrix.py:156: RuntimeWarning: invalid value encountered in arccos\n",
      "  gamma = numpy.arccos(yp.dot(c2[1]))\n",
      "Progress:  15%|█▌        | 46/300 [12:57<1:13:44, 17.42s/it]"
     ]
    },
    {
     "name": "stdout",
     "output_type": "stream",
     "text": [
      "Time to: Calculate Ground State - 1.17s, Get Pauli Ops - 4.93s, Calculate Pauli Expectation Values - 7.74s, Calculate Covariance - 2.16s\n",
      "f0,f1,f2 = [7.907072869653846e-09, 7.907072869680908e-09, 7.907072869703004e-09]\n",
      "d01,d02,d12 = [0.8394661695294027, 0.8394661695308338, 0.8394661695304345]\n"
     ]
    },
    {
     "name": "stderr",
     "output_type": "stream",
     "text": [
      "/cluster/home/mskrabulis/miniconda3/envs/quantech/lib/python3.9/site-packages/pyscf/symm/Dmatrix.py:156: RuntimeWarning: invalid value encountered in arccos\n",
      "  gamma = numpy.arccos(yp.dot(c2[1]))\n",
      "Progress:  16%|█▌        | 47/300 [13:13<1:12:05, 17.10s/it]"
     ]
    },
    {
     "name": "stdout",
     "output_type": "stream",
     "text": [
      "Time to: Calculate Ground State - 1.19s, Get Pauli Ops - 4.52s, Calculate Pauli Expectation Values - 8.48s, Calculate Covariance - 2.14s\n",
      "f0,f1,f2 = [9.157096166224692e-09, 9.157096166249532e-09, 9.157096166147223e-09]\n",
      "d01,d02,d12 = [0.8307880943595927, 0.8307880943610085, 0.8307880943605839]\n"
     ]
    },
    {
     "name": "stderr",
     "output_type": "stream",
     "text": [
      "/cluster/home/mskrabulis/miniconda3/envs/quantech/lib/python3.9/site-packages/pyscf/symm/Dmatrix.py:156: RuntimeWarning: invalid value encountered in arccos\n",
      "  gamma = numpy.arccos(yp.dot(c2[1]))\n",
      "Progress:  16%|█▌        | 48/300 [13:32<1:14:37, 17.77s/it]"
     ]
    },
    {
     "name": "stdout",
     "output_type": "stream",
     "text": [
      "Time to: Calculate Ground State - 1.07s, Get Pauli Ops - 4.79s, Calculate Pauli Expectation Values - 11.78s, Calculate Covariance - 1.68s\n",
      "f0,f1,f2 = [9.87353020562849e-09, 9.873530205655646e-09, 9.873530205603137e-09]\n",
      "d01,d02,d12 = [0.826301918660048, 0.8263019186614383, 0.826301918660981]\n"
     ]
    },
    {
     "name": "stderr",
     "output_type": "stream",
     "text": [
      "Progress:  16%|█▋        | 49/300 [13:51<1:15:34, 18.06s/it]"
     ]
    },
    {
     "name": "stdout",
     "output_type": "stream",
     "text": [
      "Time to: Calculate Ground State - 1.05s, Get Pauli Ops - 4.05s, Calculate Pauli Expectation Values - 11.32s, Calculate Covariance - 2.34s\n",
      "f0,f1,f2 = [1.0194848268471564e-08, 1.0194848268509275e-08, 1.0194848268439489e-08]\n",
      "d01,d02,d12 = [0.8260948097451013, 0.8260948097464551, 0.8260948097459666]\n"
     ]
    },
    {
     "name": "stderr",
     "output_type": "stream",
     "text": [
      "Progress:  17%|█▋        | 50/300 [14:09<1:15:03, 18.01s/it]"
     ]
    },
    {
     "name": "stdout",
     "output_type": "stream",
     "text": [
      "Time to: Calculate Ground State - 1.02s, Get Pauli Ops - 4.78s, Calculate Pauli Expectation Values - 10.51s, Calculate Covariance - 1.58s\n",
      "f0,f1,f2 = [9.265782757174698e-09, 9.265782757133132e-09, 9.26578275711348e-09]\n",
      "d01,d02,d12 = [0.8297340167344484, 0.8297340167357413, 0.8297340167352258]\n"
     ]
    },
    {
     "name": "stderr",
     "output_type": "stream",
     "text": [
      "/cluster/home/mskrabulis/miniconda3/envs/quantech/lib/python3.9/site-packages/pyscf/symm/Dmatrix.py:156: RuntimeWarning: invalid value encountered in arccos\n",
      "  gamma = numpy.arccos(yp.dot(c2[1]))\n",
      "Progress:  17%|█▋        | 51/300 [14:30<1:18:00, 18.80s/it]"
     ]
    },
    {
     "name": "stdout",
     "output_type": "stream",
     "text": [
      "Time to: Calculate Ground State - 1.16s, Get Pauli Ops - 8.91s, Calculate Pauli Expectation Values - 8.25s, Calculate Covariance - 2.29s\n",
      "f0,f1,f2 = [1.006783802347052e-08, 1.006783802347818e-08, 1.0067838023414134e-08]\n",
      "d01,d02,d12 = [0.8375098205493472, 0.8375098205505561, 0.8375098205500228]\n"
     ]
    },
    {
     "name": "stderr",
     "output_type": "stream",
     "text": [
      "Progress:  17%|█▋        | 52/300 [14:49<1:18:26, 18.98s/it]"
     ]
    },
    {
     "name": "stdout",
     "output_type": "stream",
     "text": [
      "Time to: Calculate Ground State - 1.32s, Get Pauli Ops - 5.03s, Calculate Pauli Expectation Values - 11.02s, Calculate Covariance - 2.03s\n",
      "f0,f1,f2 = [7.521994973298416e-09, 7.521994973333458e-09, 7.52199497329849e-09]\n",
      "d01,d02,d12 = [0.8483207114792037, 0.8483207114803064, 0.8483207114797658]\n"
     ]
    },
    {
     "name": "stderr",
     "output_type": "stream",
     "text": [
      "Progress:  18%|█▊        | 53/300 [15:06<1:15:56, 18.45s/it]"
     ]
    },
    {
     "name": "stdout",
     "output_type": "stream",
     "text": [
      "Time to: Calculate Ground State - 1.25s, Get Pauli Ops - 4.78s, Calculate Pauli Expectation Values - 9.24s, Calculate Covariance - 1.93s\n",
      "f0,f1,f2 = [7.098050274877368e-09, 7.0980502749079025e-09, 7.098050274841175e-09]\n",
      "d01,d02,d12 = [0.8619580284366338, 0.8619580284376102, 0.8619580284370776]\n"
     ]
    },
    {
     "name": "stderr",
     "output_type": "stream",
     "text": [
      "Progress:  18%|█▊        | 54/300 [15:25<1:15:45, 18.48s/it]"
     ]
    },
    {
     "name": "stdout",
     "output_type": "stream",
     "text": [
      "Time to: Calculate Ground State - 1.33s, Get Pauli Ops - 6.8s, Calculate Pauli Expectation Values - 7.98s, Calculate Covariance - 2.42s\n",
      "f0,f1,f2 = [7.622069732157365e-09, 7.622069732134229e-09, 7.622069732150738e-09]\n",
      "d01,d02,d12 = [0.8786091032975155, 0.8786091032983635, 0.8786091032978443]\n"
     ]
    },
    {
     "name": "stderr",
     "output_type": "stream",
     "text": [
      "Progress:  18%|█▊        | 55/300 [15:43<1:14:44, 18.31s/it]"
     ]
    },
    {
     "name": "stdout",
     "output_type": "stream",
     "text": [
      "Time to: Calculate Ground State - 1.11s, Get Pauli Ops - 5.14s, Calculate Pauli Expectation Values - 9.35s, Calculate Covariance - 2.3s\n",
      "f0,f1,f2 = [6.226489278582291e-09, 6.226489278563931e-09, 6.226489278521043e-09]\n",
      "d01,d02,d12 = [0.8976633078362786, 0.8976633078369834, 0.8976633078364784]\n"
     ]
    },
    {
     "name": "stderr",
     "output_type": "stream",
     "text": [
      "/cluster/home/mskrabulis/miniconda3/envs/quantech/lib/python3.9/site-packages/pyscf/symm/Dmatrix.py:156: RuntimeWarning: invalid value encountered in arccos\n",
      "  gamma = numpy.arccos(yp.dot(c2[1]))\n",
      "Progress:  19%|█▊        | 56/300 [16:01<1:14:37, 18.35s/it]"
     ]
    },
    {
     "name": "stdout",
     "output_type": "stream",
     "text": [
      "Time to: Calculate Ground State - 1.05s, Get Pauli Ops - 6.59s, Calculate Pauli Expectation Values - 8.48s, Calculate Covariance - 2.32s\n",
      "f0,f1,f2 = [5.288110605316752e-09, 5.288110605350561e-09, 5.288110605332856e-09]\n",
      "d01,d02,d12 = [0.9187066110219055, 0.918706611022477, 0.9187066110219826]\n"
     ]
    },
    {
     "name": "stderr",
     "output_type": "stream",
     "text": [
      "Progress:  19%|█▉        | 57/300 [16:21<1:15:34, 18.66s/it]"
     ]
    },
    {
     "name": "stdout",
     "output_type": "stream",
     "text": [
      "Time to: Calculate Ground State - 1.03s, Get Pauli Ops - 4.93s, Calculate Pauli Expectation Values - 11.08s, Calculate Covariance - 2.33s\n",
      "f0,f1,f2 = [3.3550794988513995e-09, 3.3550794988820664e-09, 3.355079498817374e-09]\n",
      "d01,d02,d12 = [0.9409169015290879, 0.940916901529514, 0.9409169015290444]\n"
     ]
    },
    {
     "name": "stderr",
     "output_type": "stream",
     "text": [
      "Progress:  19%|█▉        | 58/300 [16:39<1:15:26, 18.71s/it]"
     ]
    },
    {
     "name": "stdout",
     "output_type": "stream",
     "text": [
      "Time to: Calculate Ground State - 1.09s, Get Pauli Ops - 7.11s, Calculate Pauli Expectation Values - 8.43s, Calculate Covariance - 2.18s\n",
      "f0,f1,f2 = [1.963749273405984e-09, 1.9637492734182344e-09, 1.9637492734228897e-09]\n",
      "d01,d02,d12 = [0.9637054734741579, 0.9637054734744243, 0.9637054734739977]\n"
     ]
    },
    {
     "name": "stderr",
     "output_type": "stream",
     "text": [
      "/cluster/home/mskrabulis/miniconda3/envs/quantech/lib/python3.9/site-packages/pyscf/symm/Dmatrix.py:156: RuntimeWarning: invalid value encountered in arccos\n",
      "  gamma = numpy.arccos(yp.dot(c2[1]))\n",
      "Progress:  20%|█▉        | 59/300 [16:58<1:15:10, 18.72s/it]"
     ]
    },
    {
     "name": "stdout",
     "output_type": "stream",
     "text": [
      "Time to: Calculate Ground State - 1.05s, Get Pauli Ops - 6.48s, Calculate Pauli Expectation Values - 9.03s, Calculate Covariance - 2.18s\n",
      "f0,f1,f2 = [1.3402496833240557e-09, 1.340249683366244e-09, 1.34024968334078e-09]\n",
      "d01,d02,d12 = [0.9868081594205115, 0.9868081594206126, 0.9868081594202355]\n"
     ]
    },
    {
     "name": "stderr",
     "output_type": "stream",
     "text": [
      "Progress:  20%|██        | 60/300 [17:16<1:14:01, 18.51s/it]"
     ]
    },
    {
     "name": "stdout",
     "output_type": "stream",
     "text": [
      "Time to: Calculate Ground State - 1.21s, Get Pauli Ops - 6.87s, Calculate Pauli Expectation Values - 8.16s, Calculate Covariance - 1.78s\n",
      "f0,f1,f2 = [3.385677195192261e-10, 3.3856771950630064e-10, 3.3856771954224153e-10]\n",
      "d01,d02,d12 = [1.0098063771357566, 1.0098063771357026, 1.0098063771353711]\n"
     ]
    },
    {
     "name": "stderr",
     "output_type": "stream",
     "text": [
      "Progress:  20%|██        | 61/300 [17:35<1:14:21, 18.67s/it]"
     ]
    },
    {
     "name": "stdout",
     "output_type": "stream",
     "text": [
      "Time to: Calculate Ground State - 1.46s, Get Pauli Ops - 4.88s, Calculate Pauli Expectation Values - 10.31s, Calculate Covariance - 2.38s\n",
      "f0,f1,f2 = [6.178278270446537e-10, 6.178278270217631e-10, 6.17827827038368e-10]\n",
      "d01,d02,d12 = [1.0323044498223364, 1.0323044498220972, 1.0323044498218568]\n"
     ]
    },
    {
     "name": "stderr",
     "output_type": "stream",
     "text": [
      "Progress:  21%|██        | 62/300 [17:53<1:12:26, 18.26s/it]"
     ]
    },
    {
     "name": "stdout",
     "output_type": "stream",
     "text": [
      "Time to: Calculate Ground State - 1.06s, Get Pauli Ops - 6.29s, Calculate Pauli Expectation Values - 7.91s, Calculate Covariance - 2.04s\n",
      "f0,f1,f2 = [9.894978431116196e-10, 9.894978431126124e-10, 9.894978431160682e-10]\n",
      "d01,d02,d12 = [1.054153211909893, 1.054153211909463, 1.0541532119093147]\n"
     ]
    },
    {
     "name": "stderr",
     "output_type": "stream",
     "text": [
      "/cluster/home/mskrabulis/miniconda3/envs/quantech/lib/python3.9/site-packages/pyscf/symm/Dmatrix.py:156: RuntimeWarning: invalid value encountered in arccos\n",
      "  gamma = numpy.arccos(yp.dot(c2[1]))\n",
      "Progress:  21%|██        | 63/300 [18:11<1:12:41, 18.40s/it]"
     ]
    },
    {
     "name": "stdout",
     "output_type": "stream",
     "text": [
      "Time to: Calculate Ground State - 1.08s, Get Pauli Ops - 7.91s, Calculate Pauli Expectation Values - 7.71s, Calculate Covariance - 2.02s\n",
      "f0,f1,f2 = [2.189204668400204e-09, 2.1892046684067755e-09, 2.1892046683462316e-09]\n",
      "d01,d02,d12 = [1.074861373025589, 1.0748613730249839, 1.0748613730249312]\n"
     ]
    },
    {
     "name": "stderr",
     "output_type": "stream",
     "text": [
      "/cluster/home/mskrabulis/miniconda3/envs/quantech/lib/python3.9/site-packages/pyscf/symm/Dmatrix.py:156: RuntimeWarning: invalid value encountered in arccos\n",
      "  gamma = numpy.arccos(yp.dot(c2[1]))\n",
      "/cluster/home/mskrabulis/miniconda3/envs/quantech/lib/python3.9/site-packages/pyscf/symm/Dmatrix.py:156: RuntimeWarning: invalid value encountered in arccos\n",
      "  gamma = numpy.arccos(yp.dot(c2[1]))\n",
      "Progress:  21%|██▏       | 64/300 [18:27<1:08:44, 17.48s/it]"
     ]
    },
    {
     "name": "stdout",
     "output_type": "stream",
     "text": [
      "Time to: Calculate Ground State - 1.33s, Get Pauli Ops - 4.39s, Calculate Pauli Expectation Values - 7.91s, Calculate Covariance - 1.68s\n",
      "f0,f1,f2 = [1.2336965054238728e-09, 1.233696505420983e-09, 1.2336965054581317e-09]\n",
      "d01,d02,d12 = [1.0948368977642675, 1.0948368977634761, 1.0948368977635174]\n"
     ]
    },
    {
     "name": "stderr",
     "output_type": "stream",
     "text": [
      "/cluster/home/mskrabulis/miniconda3/envs/quantech/lib/python3.9/site-packages/pyscf/symm/Dmatrix.py:156: RuntimeWarning: invalid value encountered in arccos\n",
      "  gamma = numpy.arccos(yp.dot(c2[1]))\n",
      "Progress:  22%|██▏       | 65/300 [18:42<1:05:59, 16.85s/it]"
     ]
    },
    {
     "name": "stdout",
     "output_type": "stream",
     "text": [
      "Time to: Calculate Ground State - 0.97s, Get Pauli Ops - 4.26s, Calculate Pauli Expectation Values - 8.19s, Calculate Covariance - 1.97s\n",
      "f0,f1,f2 = [3.851807817193305e-09, 3.851807817192692e-09, 3.85180781724983e-09]\n",
      "d01,d02,d12 = [1.1130008032160545, 1.1130008032150898, 1.1130008032152205]\n"
     ]
    },
    {
     "name": "stderr",
     "output_type": "stream",
     "text": [
      "Progress:  22%|██▏       | 66/300 [18:59<1:06:14, 16.99s/it]"
     ]
    },
    {
     "name": "stdout",
     "output_type": "stream",
     "text": [
      "Time to: Calculate Ground State - 1.11s, Get Pauli Ops - 6.52s, Calculate Pauli Expectation Values - 7.74s, Calculate Covariance - 1.93s\n",
      "f0,f1,f2 = [3.865923745359864e-09, 3.865923745375168e-09, 3.865923745284844e-09]\n",
      "d01,d02,d12 = [1.129366014976978, 1.1293660149758675, 1.129366014976078]\n"
     ]
    },
    {
     "name": "stderr",
     "output_type": "stream",
     "text": [
      "/cluster/home/mskrabulis/miniconda3/envs/quantech/lib/python3.9/site-packages/pyscf/symm/Dmatrix.py:156: RuntimeWarning: invalid value encountered in arccos\n",
      "  gamma = numpy.arccos(yp.dot(c2[1]))\n",
      "/cluster/home/mskrabulis/miniconda3/envs/quantech/lib/python3.9/site-packages/pyscf/symm/Dmatrix.py:156: RuntimeWarning: invalid value encountered in arccos\n",
      "  gamma = numpy.arccos(yp.dot(c2[1]))\n",
      "Progress:  22%|██▏       | 67/300 [19:18<1:07:31, 17.39s/it]"
     ]
    },
    {
     "name": "stdout",
     "output_type": "stream",
     "text": [
      "Time to: Calculate Ground State - 1.07s, Get Pauli Ops - 6.84s, Calculate Pauli Expectation Values - 8.51s, Calculate Covariance - 1.9s\n",
      "f0,f1,f2 = [6.2428504051186535e-09, 6.24285040505957e-09, 6.2428504050772416e-09]\n",
      "d01,d02,d12 = [1.1429629325643251, 1.14296293256306, 1.1429629325633759]\n"
     ]
    },
    {
     "name": "stderr",
     "output_type": "stream",
     "text": [
      "/cluster/home/mskrabulis/miniconda3/envs/quantech/lib/python3.9/site-packages/pyscf/symm/Dmatrix.py:156: RuntimeWarning: invalid value encountered in arccos\n",
      "  gamma = numpy.arccos(yp.dot(c2[1]))\n",
      "Progress:  23%|██▎       | 68/300 [19:35<1:07:13, 17.39s/it]"
     ]
    },
    {
     "name": "stdout",
     "output_type": "stream",
     "text": [
      "Time to: Calculate Ground State - 0.97s, Get Pauli Ops - 4.48s, Calculate Pauli Expectation Values - 10.14s, Calculate Covariance - 1.79s\n",
      "f0,f1,f2 = [4.831025657188285e-09, 4.83102565719359e-09, 4.831025657210286e-09]\n",
      "d01,d02,d12 = [1.154407163158274, 1.154407163156849, 1.1544071631572814]\n"
     ]
    },
    {
     "name": "stderr",
     "output_type": "stream",
     "text": [
      "Progress:  23%|██▎       | 69/300 [19:50<1:04:01, 16.63s/it]"
     ]
    },
    {
     "name": "stdout",
     "output_type": "stream",
     "text": [
      "Time to: Calculate Ground State - 0.94s, Get Pauli Ops - 4.55s, Calculate Pauli Expectation Values - 7.86s, Calculate Covariance - 1.51s\n",
      "f0,f1,f2 = [3.4240907368466323e-09, 3.424090736788756e-09, 3.4240907367897128e-09]\n",
      "d01,d02,d12 = [1.1643056950645974, 1.1643056950630113, 1.1643056950635673]\n"
     ]
    },
    {
     "name": "stderr",
     "output_type": "stream",
     "text": [
      "/cluster/home/mskrabulis/miniconda3/envs/quantech/lib/python3.9/site-packages/pyscf/symm/Dmatrix.py:156: RuntimeWarning: invalid value encountered in arccos\n",
      "  gamma = numpy.arccos(yp.dot(c2[1]))\n",
      "Progress:  23%|██▎       | 70/300 [20:06<1:03:26, 16.55s/it]"
     ]
    },
    {
     "name": "stdout",
     "output_type": "stream",
     "text": [
      "Time to: Calculate Ground State - 1.03s, Get Pauli Ops - 5.34s, Calculate Pauli Expectation Values - 7.97s, Calculate Covariance - 2.02s\n",
      "f0,f1,f2 = [5.135947499004685e-09, 5.135947499018236e-09, 5.135947499004859e-09]\n",
      "d01,d02,d12 = [1.1719650956475038, 1.1719650956457623, 1.1719650956464396]\n"
     ]
    },
    {
     "name": "stderr",
     "output_type": "stream",
     "text": [
      "Progress:  24%|██▎       | 71/300 [20:23<1:03:08, 16.54s/it]"
     ]
    },
    {
     "name": "stdout",
     "output_type": "stream",
     "text": [
      "Time to: Calculate Ground State - 1.03s, Get Pauli Ops - 5.17s, Calculate Pauli Expectation Values - 8.64s, Calculate Covariance - 1.68s\n",
      "f0,f1,f2 = [6.036875910579338e-09, 6.036875910551084e-09, 6.036875910581837e-09]\n",
      "d01,d02,d12 = [1.1770360361679795, 1.1770360361660912, 1.1770360361668937]\n"
     ]
    },
    {
     "name": "stderr",
     "output_type": "stream",
     "text": [
      "Progress:  24%|██▍       | 72/300 [20:42<1:05:32, 17.25s/it]"
     ]
    },
    {
     "name": "stdout",
     "output_type": "stream",
     "text": [
      "Time to: Calculate Ground State - 1.05s, Get Pauli Ops - 7.85s, Calculate Pauli Expectation Values - 7.85s, Calculate Covariance - 2.14s\n",
      "f0,f1,f2 = [4.522579566272667e-09, 4.5225795662656185e-09, 4.522579566215638e-09]\n",
      "d01,d02,d12 = [1.180175083647431, 1.180175083645407, 1.1801750836463423]\n"
     ]
    },
    {
     "name": "stderr",
     "output_type": "stream",
     "text": [
      "Progress:  24%|██▍       | 73/300 [20:59<1:05:22, 17.28s/it]"
     ]
    },
    {
     "name": "stdout",
     "output_type": "stream",
     "text": [
      "Time to: Calculate Ground State - 1.33s, Get Pauli Ops - 5.68s, Calculate Pauli Expectation Values - 8.04s, Calculate Covariance - 2.3s\n",
      "f0,f1,f2 = [6.203826660914338e-09, 6.203826660921503e-09, 6.203826660966676e-09]\n",
      "d01,d02,d12 = [1.1807059351506028, 1.1807059351484386, 1.1807059351494982]\n"
     ]
    },
    {
     "name": "stderr",
     "output_type": "stream",
     "text": [
      "/cluster/home/mskrabulis/miniconda3/envs/quantech/lib/python3.9/site-packages/pyscf/symm/Dmatrix.py:156: RuntimeWarning: invalid value encountered in arccos\n",
      "  gamma = numpy.arccos(yp.dot(c2[1]))\n",
      "Progress:  25%|██▍       | 74/300 [21:16<1:04:44, 17.19s/it]"
     ]
    },
    {
     "name": "stdout",
     "output_type": "stream",
     "text": [
      "Time to: Calculate Ground State - 1.35s, Get Pauli Ops - 4.9s, Calculate Pauli Expectation Values - 8.39s, Calculate Covariance - 2.33s\n",
      "f0,f1,f2 = [5.2356676844024595e-09, 5.235667684392741e-09, 5.235667684421054e-09]\n",
      "d01,d02,d12 = [1.179058876389329, 1.1790588763870136, 1.179058876388201]\n"
     ]
    },
    {
     "name": "stderr",
     "output_type": "stream",
     "text": [
      "/cluster/home/mskrabulis/miniconda3/envs/quantech/lib/python3.9/site-packages/pyscf/symm/Dmatrix.py:156: RuntimeWarning: invalid value encountered in arccos\n",
      "  gamma = numpy.arccos(yp.dot(c2[1]))\n",
      "Progress:  25%|██▌       | 75/300 [21:32<1:03:26, 16.92s/it]"
     ]
    },
    {
     "name": "stdout",
     "output_type": "stream",
     "text": [
      "Time to: Calculate Ground State - 1.06s, Get Pauli Ops - 5.09s, Calculate Pauli Expectation Values - 8.2s, Calculate Covariance - 1.93s\n",
      "f0,f1,f2 = [4.805685288824907e-09, 4.805685288857318e-09, 4.805685288823714e-09]\n",
      "d01,d02,d12 = [1.1754361980219399, 1.175436198019483, 1.1754361980207855]\n"
     ]
    },
    {
     "name": "stderr",
     "output_type": "stream",
     "text": [
      "/cluster/home/mskrabulis/miniconda3/envs/quantech/lib/python3.9/site-packages/pyscf/symm/Dmatrix.py:156: RuntimeWarning: invalid value encountered in arccos\n",
      "  gamma = numpy.arccos(yp.dot(c2[1]))\n",
      "Progress:  25%|██▌       | 76/300 [21:51<1:05:10, 17.46s/it]"
     ]
    },
    {
     "name": "stdout",
     "output_type": "stream",
     "text": [
      "Time to: Calculate Ground State - 1.26s, Get Pauli Ops - 4.75s, Calculate Pauli Expectation Values - 10.61s, Calculate Covariance - 2.09s\n",
      "f0,f1,f2 = [4.380564602555559e-09, 4.380564602510215e-09, 4.3805646025350735e-09]\n",
      "d01,d02,d12 = [1.1700359312166617, 1.170035931214074, 1.170035931215492]\n"
     ]
    },
    {
     "name": "stderr",
     "output_type": "stream",
     "text": [
      "/cluster/home/mskrabulis/miniconda3/envs/quantech/lib/python3.9/site-packages/pyscf/symm/Dmatrix.py:156: RuntimeWarning: invalid value encountered in arccos\n",
      "  gamma = numpy.arccos(yp.dot(c2[1]))\n",
      "Progress:  26%|██▌       | 77/300 [22:11<1:07:20, 18.12s/it]"
     ]
    },
    {
     "name": "stdout",
     "output_type": "stream",
     "text": [
      "Time to: Calculate Ground State - 1.02s, Get Pauli Ops - 5.09s, Calculate Pauli Expectation Values - 11.36s, Calculate Covariance - 2.18s\n",
      "f0,f1,f2 = [4.683893279398343e-09, 4.683893279454017e-09, 4.683893279378873e-09]\n",
      "d01,d02,d12 = [1.1627516916285094, 1.1627516916258032, 1.162751691627331]\n"
     ]
    },
    {
     "name": "stderr",
     "output_type": "stream",
     "text": [
      "Progress:  26%|██▌       | 78/300 [22:29<1:06:51, 18.07s/it]"
     ]
    },
    {
     "name": "stdout",
     "output_type": "stream",
     "text": [
      "Time to: Calculate Ground State - 1.29s, Get Pauli Ops - 6.47s, Calculate Pauli Expectation Values - 7.96s, Calculate Covariance - 2.23s\n",
      "f0,f1,f2 = [5.345518117208908e-09, 5.345518117202332e-09, 5.345518117214257e-09]\n",
      "d01,d02,d12 = [1.1533295644532058, 1.1533295644503718, 1.1533295644520118]\n"
     ]
    },
    {
     "name": "stderr",
     "output_type": "stream",
     "text": [
      "Progress:  26%|██▋       | 79/300 [22:44<1:03:24, 17.22s/it]"
     ]
    },
    {
     "name": "stdout",
     "output_type": "stream",
     "text": [
      "Time to: Calculate Ground State - 1.23s, Get Pauli Ops - 4.82s, Calculate Pauli Expectation Values - 7.78s, Calculate Covariance - 1.38s\n",
      "f0,f1,f2 = [3.3168916078197087e-09, 3.3168916078161096e-09, 3.3168916078106105e-09]\n",
      "d01,d02,d12 = [1.1426344227064975, 1.1426344227035434, 1.1426344227052938]\n"
     ]
    },
    {
     "name": "stderr",
     "output_type": "stream",
     "text": [
      "Progress:  27%|██▋       | 80/300 [22:58<1:00:09, 16.41s/it]"
     ]
    },
    {
     "name": "stdout",
     "output_type": "stream",
     "text": [
      "Time to: Calculate Ground State - 0.99s, Get Pauli Ops - 4.01s, Calculate Pauli Expectation Values - 7.7s, Calculate Covariance - 1.8s\n",
      "f0,f1,f2 = [3.4882456745364564e-09, 3.488245674573495e-09, 3.4882456745535844e-09]\n",
      "d01,d02,d12 = [1.1306089221691928, 1.1306089221661273, 1.130608922167984]\n"
     ]
    },
    {
     "name": "stderr",
     "output_type": "stream",
     "text": [
      "Progress:  27%|██▋       | 81/300 [23:14<58:51, 16.13s/it]  "
     ]
    },
    {
     "name": "stdout",
     "output_type": "stream",
     "text": [
      "Time to: Calculate Ground State - 1.15s, Get Pauli Ops - 4.69s, Calculate Pauli Expectation Values - 7.88s, Calculate Covariance - 1.75s\n",
      "f0,f1,f2 = [2.429160163948749e-09, 2.42916016394324e-09, 2.429160163937417e-09]\n",
      "d01,d02,d12 = [1.1177067460560859, 1.1177067460529337, 1.1177067460548726]\n"
     ]
    },
    {
     "name": "stderr",
     "output_type": "stream",
     "text": [
      "/cluster/home/mskrabulis/miniconda3/envs/quantech/lib/python3.9/site-packages/pyscf/symm/Dmatrix.py:156: RuntimeWarning: invalid value encountered in arccos\n",
      "  gamma = numpy.arccos(yp.dot(c2[1]))\n",
      "Progress:  27%|██▋       | 82/300 [23:31<59:58, 16.51s/it]"
     ]
    },
    {
     "name": "stdout",
     "output_type": "stream",
     "text": [
      "Time to: Calculate Ground State - 1.02s, Get Pauli Ops - 6.28s, Calculate Pauli Expectation Values - 7.73s, Calculate Covariance - 2.36s\n",
      "f0,f1,f2 = [5.5783396096955985e-09, 5.578339609715273e-09, 5.578339609679154e-09]\n",
      "d01,d02,d12 = [1.1026288591020268, 1.1026288590988125, 1.1026288591008095]\n"
     ]
    },
    {
     "name": "stderr",
     "output_type": "stream",
     "text": [
      "Progress:  28%|██▊       | 83/300 [23:50<1:01:39, 17.05s/it]"
     ]
    },
    {
     "name": "stdout",
     "output_type": "stream",
     "text": [
      "Time to: Calculate Ground State - 1.11s, Get Pauli Ops - 6.81s, Calculate Pauli Expectation Values - 7.95s, Calculate Covariance - 2.42s\n",
      "f0,f1,f2 = [3.3005830842257736e-09, 3.300583084248056e-09, 3.3005830842309774e-09]\n",
      "d01,d02,d12 = [1.0863431561984078, 1.086343156195151, 1.0863431561971941]\n"
     ]
    },
    {
     "name": "stderr",
     "output_type": "stream",
     "text": [
      "Progress:  28%|██▊       | 84/300 [24:06<1:00:46, 16.88s/it]"
     ]
    },
    {
     "name": "stdout",
     "output_type": "stream",
     "text": [
      "Time to: Calculate Ground State - 1.03s, Get Pauli Ops - 4.58s, Calculate Pauli Expectation Values - 8.88s, Calculate Covariance - 1.99s\n",
      "f0,f1,f2 = [6.544916035432206e-10, 6.544916035168682e-10, 6.544916034858859e-10]\n",
      "d01,d02,d12 = [1.0699598826738566, 1.0699598826705607, 1.0699598826726597]\n"
     ]
    },
    {
     "name": "stderr",
     "output_type": "stream",
     "text": [
      "Progress:  28%|██▊       | 85/300 [24:22<59:46, 16.68s/it]  "
     ]
    },
    {
     "name": "stdout",
     "output_type": "stream",
     "text": [
      "Time to: Calculate Ground State - 0.78s, Get Pauli Ops - 5.1s, Calculate Pauli Expectation Values - 8.45s, Calculate Covariance - 1.89s\n",
      "f0,f1,f2 = [2.8717219274484313e-09, 2.871721927470426e-09, 2.8717219274224376e-09]\n",
      "d01,d02,d12 = [1.0525598267668645, 1.0525598267635627, 1.052559826765704]\n"
     ]
    },
    {
     "name": "stderr",
     "output_type": "stream",
     "text": [
      "/cluster/home/mskrabulis/miniconda3/envs/quantech/lib/python3.9/site-packages/pyscf/symm/Dmatrix.py:156: RuntimeWarning: invalid value encountered in arccos\n",
      "  gamma = numpy.arccos(yp.dot(c2[1]))\n",
      "Progress:  29%|██▊       | 86/300 [24:44<1:05:11, 18.28s/it]"
     ]
    },
    {
     "name": "stdout",
     "output_type": "stream",
     "text": [
      "Time to: Calculate Ground State - 1.61s, Get Pauli Ops - 8.1s, Calculate Pauli Expectation Values - 10.46s, Calculate Covariance - 1.82s\n",
      "f0,f1,f2 = [3.070135635367529e-09, 3.07013563530886e-09, 3.070135635296421e-09]\n",
      "d01,d02,d12 = [1.0340711204232491, 1.0340711204199728, 1.034071120422159]\n"
     ]
    },
    {
     "name": "stderr",
     "output_type": "stream",
     "text": [
      "Progress:  29%|██▉       | 87/300 [24:59<1:01:25, 17.30s/it]"
     ]
    },
    {
     "name": "stdout",
     "output_type": "stream",
     "text": [
      "Time to: Calculate Ground State - 0.88s, Get Pauli Ops - 4.05s, Calculate Pauli Expectation Values - 8.31s, Calculate Covariance - 1.77s\n",
      "f0,f1,f2 = [2.6451795560999276e-09, 2.6451795561468474e-09, 2.6451795560774064e-09]\n",
      "d01,d02,d12 = [1.0146813026141994, 1.0146813026109747, 1.0146813026131907]\n"
     ]
    },
    {
     "name": "stderr",
     "output_type": "stream",
     "text": [
      "Progress:  29%|██▉       | 88/300 [25:15<59:34, 16.86s/it]  "
     ]
    },
    {
     "name": "stdout",
     "output_type": "stream",
     "text": [
      "Time to: Calculate Ground State - 1.03s, Get Pauli Ops - 4.04s, Calculate Pauli Expectation Values - 8.76s, Calculate Covariance - 1.99s\n",
      "f0,f1,f2 = [2.4532356909217444e-09, 2.4532356909934366e-09, 2.453235690922476e-09]\n",
      "d01,d02,d12 = [0.9944793374174392, 0.9944793374143127, 0.9944793374165457]\n"
     ]
    },
    {
     "name": "stderr",
     "output_type": "stream",
     "text": [
      "Progress:  30%|██▉       | 89/300 [25:32<59:26, 16.90s/it]"
     ]
    },
    {
     "name": "stdout",
     "output_type": "stream",
     "text": [
      "Time to: Calculate Ground State - 1.03s, Get Pauli Ops - 4.42s, Calculate Pauli Expectation Values - 9.42s, Calculate Covariance - 2.13s\n",
      "f0,f1,f2 = [2.0842715405327844e-11, 2.0842715425236618e-11, 2.0842715424347357e-11]\n",
      "d01,d02,d12 = [0.9744828739364966, 0.9744828739334946, 0.9744828739357259]\n"
     ]
    },
    {
     "name": "stderr",
     "output_type": "stream",
     "text": [
      "Progress:  30%|███       | 90/300 [25:50<59:44, 17.07s/it]"
     ]
    },
    {
     "name": "stdout",
     "output_type": "stream",
     "text": [
      "Time to: Calculate Ground State - 1.38s, Get Pauli Ops - 6.25s, Calculate Pauli Expectation Values - 7.91s, Calculate Covariance - 1.92s\n",
      "f0,f1,f2 = [9.76063597341283e-10, 9.760635973910826e-10, 9.760635974007733e-10]\n",
      "d01,d02,d12 = [0.9551034459257004, 0.9551034459228263, 0.9551034459250523]\n"
     ]
    },
    {
     "name": "stderr",
     "output_type": "stream",
     "text": [
      "Progress:  30%|███       | 91/300 [26:05<57:25, 16.48s/it]"
     ]
    },
    {
     "name": "stdout",
     "output_type": "stream",
     "text": [
      "Time to: Calculate Ground State - 0.99s, Get Pauli Ops - 4.2s, Calculate Pauli Expectation Values - 8.12s, Calculate Covariance - 1.8s\n",
      "f0,f1,f2 = [9.721686036322007e-10, 9.721686035878969e-10, 9.721686036376572e-10]\n",
      "d01,d02,d12 = [0.9363332246674458, 0.9363332246647208, 0.936333224666922]\n"
     ]
    },
    {
     "name": "stderr",
     "output_type": "stream",
     "text": [
      "Progress:  31%|███       | 92/300 [26:22<58:24, 16.85s/it]"
     ]
    },
    {
     "name": "stdout",
     "output_type": "stream",
     "text": [
      "Time to: Calculate Ground State - 1.24s, Get Pauli Ops - 6.55s, Calculate Pauli Expectation Values - 8.04s, Calculate Covariance - 1.85s\n",
      "f0,f1,f2 = [6.837984805062581e-10, 6.837984804644217e-10, 6.837984805612332e-10]\n",
      "d01,d02,d12 = [0.9180466198840675, 0.9180466198815371, 0.9180466198837008]\n"
     ]
    },
    {
     "name": "stderr",
     "output_type": "stream",
     "text": [
      "Progress:  31%|███       | 93/300 [26:41<59:33, 17.26s/it]"
     ]
    },
    {
     "name": "stdout",
     "output_type": "stream",
     "text": [
      "Time to: Calculate Ground State - 1.03s, Get Pauli Ops - 5.03s, Calculate Pauli Expectation Values - 10.23s, Calculate Covariance - 1.93s\n",
      "f0,f1,f2 = [2.1264569898349545e-09, 2.126456989766144e-09, 2.1264569898498205e-09]\n",
      "d01,d02,d12 = [0.9008376765747957, 0.9008376765724929, 0.900837676574597]\n"
     ]
    },
    {
     "name": "stderr",
     "output_type": "stream",
     "text": [
      "/cluster/home/mskrabulis/miniconda3/envs/quantech/lib/python3.9/site-packages/pyscf/symm/Dmatrix.py:156: RuntimeWarning: invalid value encountered in arccos\n",
      "  gamma = numpy.arccos(yp.dot(c2[1]))\n",
      "Progress:  31%|███▏      | 94/300 [26:56<57:00, 16.60s/it]"
     ]
    },
    {
     "name": "stdout",
     "output_type": "stream",
     "text": [
      "Time to: Calculate Ground State - 1.11s, Get Pauli Ops - 4.04s, Calculate Pauli Expectation Values - 7.96s, Calculate Covariance - 1.95s\n",
      "f0,f1,f2 = [3.643343874827763e-09, 3.6433438748078083e-09, 3.6433438748551362e-09]\n",
      "d01,d02,d12 = [0.8853249667185041, 0.8853249667164513, 0.8853249667184805]\n"
     ]
    },
    {
     "name": "stderr",
     "output_type": "stream",
     "text": [
      "Progress:  32%|███▏      | 95/300 [27:14<58:52, 17.23s/it]"
     ]
    },
    {
     "name": "stdout",
     "output_type": "stream",
     "text": [
      "Time to: Calculate Ground State - 1.26s, Get Pauli Ops - 4.45s, Calculate Pauli Expectation Values - 11.19s, Calculate Covariance - 1.8s\n",
      "f0,f1,f2 = [5.071310180829033e-09, 5.071310180745742e-09, 5.071310180865102e-09]\n",
      "d01,d02,d12 = [0.8720834732328397, 0.8720834732310615, 0.8720834732329914]\n"
     ]
    },
    {
     "name": "stderr",
     "output_type": "stream",
     "text": [
      "Progress:  32%|███▏      | 96/300 [27:31<58:20, 17.16s/it]"
     ]
    },
    {
     "name": "stdout",
     "output_type": "stream",
     "text": [
      "Time to: Calculate Ground State - 0.91s, Get Pauli Ops - 6.46s, Calculate Pauli Expectation Values - 7.67s, Calculate Covariance - 1.94s\n",
      "f0,f1,f2 = [6.142894271260682e-09, 6.1428942712117616e-09, 6.142894271233975e-09]\n",
      "d01,d02,d12 = [0.8615339200465517, 0.8615339200450596, 0.8615339200468751]\n"
     ]
    },
    {
     "name": "stderr",
     "output_type": "stream",
     "text": [
      "Progress:  32%|███▏      | 97/300 [27:48<57:21, 16.96s/it]"
     ]
    },
    {
     "name": "stdout",
     "output_type": "stream",
     "text": [
      "Time to: Calculate Ground State - 1.02s, Get Pauli Ops - 4.08s, Calculate Pauli Expectation Values - 9.49s, Calculate Covariance - 1.88s\n",
      "f0,f1,f2 = [7.104600204127247e-09, 7.104600204126654e-09, 7.1046002041161795e-09]\n",
      "d01,d02,d12 = [0.8540465813530689, 0.8540465813518803, 0.854046581353558]\n"
     ]
    },
    {
     "name": "stderr",
     "output_type": "stream",
     "text": [
      "Progress:  33%|███▎      | 98/300 [28:05<57:09, 16.98s/it]"
     ]
    },
    {
     "name": "stdout",
     "output_type": "stream",
     "text": [
      "Time to: Calculate Ground State - 1.0s, Get Pauli Ops - 6.16s, Calculate Pauli Expectation Values - 8.06s, Calculate Covariance - 1.81s\n",
      "f0,f1,f2 = [6.995247613306023e-09, 6.995247613255055e-09, 6.995247613313837e-09]\n",
      "d01,d02,d12 = [0.8495430272231901, 0.8495430272223173, 0.8495430272238431]\n"
     ]
    },
    {
     "name": "stderr",
     "output_type": "stream",
     "text": [
      "Progress:  33%|███▎      | 99/300 [28:23<57:43, 17.23s/it]"
     ]
    },
    {
     "name": "stdout",
     "output_type": "stream",
     "text": [
      "Time to: Calculate Ground State - 1.03s, Get Pauli Ops - 5.21s, Calculate Pauli Expectation Values - 9.21s, Calculate Covariance - 2.38s\n",
      "f0,f1,f2 = [7.1535342836730184e-09, 7.1535342836065826e-09, 7.153534283666142e-09]\n",
      "d01,d02,d12 = [0.8480564554106804, 0.8480564554101516, 0.8480564554114971]\n"
     ]
    },
    {
     "name": "stderr",
     "output_type": "stream",
     "text": [
      "/cluster/home/mskrabulis/miniconda3/envs/quantech/lib/python3.9/site-packages/pyscf/symm/Dmatrix.py:156: RuntimeWarning: invalid value encountered in arccos\n",
      "  gamma = numpy.arccos(yp.dot(c2[1]))\n",
      "Progress:  33%|███▎      | 100/300 [28:41<58:44, 17.62s/it]"
     ]
    },
    {
     "name": "stdout",
     "output_type": "stream",
     "text": [
      "Time to: Calculate Ground State - 1.03s, Get Pauli Ops - 4.49s, Calculate Pauli Expectation Values - 10.67s, Calculate Covariance - 2.33s\n",
      "f0,f1,f2 = [7.640065345381794e-09, 7.640065345327154e-09, 7.640065345350735e-09]\n",
      "d01,d02,d12 = [0.8497557273790617, 0.8497557273788789, 0.8497557273800319]\n"
     ]
    },
    {
     "name": "stderr",
     "output_type": "stream",
     "text": [
      "Progress:  34%|███▎      | 101/300 [29:01<1:00:49, 18.34s/it]"
     ]
    },
    {
     "name": "stdout",
     "output_type": "stream",
     "text": [
      "Time to: Calculate Ground State - 1.37s, Get Pauli Ops - 4.6s, Calculate Pauli Expectation Values - 11.65s, Calculate Covariance - 2.38s\n",
      "f0,f1,f2 = [7.301660090462623e-09, 7.301660090467764e-09, 7.3016600904057015e-09]\n",
      "d01,d02,d12 = [0.854465603149102, 0.8544656031492599, 0.8544656031502064]\n"
     ]
    },
    {
     "name": "stderr",
     "output_type": "stream",
     "text": [
      "/cluster/home/mskrabulis/miniconda3/envs/quantech/lib/python3.9/site-packages/pyscf/symm/Dmatrix.py:156: RuntimeWarning: invalid value encountered in arccos\n",
      "  gamma = numpy.arccos(yp.dot(c2[1]))\n",
      "Progress:  34%|███▍      | 102/300 [29:20<1:00:28, 18.32s/it]"
     ]
    },
    {
     "name": "stdout",
     "output_type": "stream",
     "text": [
      "Time to: Calculate Ground State - 1.04s, Get Pauli Ops - 5.1s, Calculate Pauli Expectation Values - 9.95s, Calculate Covariance - 2.2s\n",
      "f0,f1,f2 = [7.201094705377186e-09, 7.2010947053290365e-09, 7.2010947052977e-09]\n",
      "d01,d02,d12 = [0.8621115472462468, 0.8621115472467334, 0.8621115472474565]\n"
     ]
    },
    {
     "name": "stderr",
     "output_type": "stream",
     "text": [
      "/cluster/home/mskrabulis/miniconda3/envs/quantech/lib/python3.9/site-packages/pyscf/symm/Dmatrix.py:156: RuntimeWarning: invalid value encountered in arccos\n",
      "  gamma = numpy.arccos(yp.dot(c2[1]))\n",
      "Progress:  34%|███▍      | 103/300 [29:38<1:00:07, 18.31s/it]"
     ]
    },
    {
     "name": "stdout",
     "output_type": "stream",
     "text": [
      "Time to: Calculate Ground State - 1.14s, Get Pauli Ops - 5.15s, Calculate Pauli Expectation Values - 9.62s, Calculate Covariance - 2.36s\n",
      "f0,f1,f2 = [8.035295909562796e-09, 8.035295909532757e-09, 8.035295909495622e-09]\n",
      "d01,d02,d12 = [0.8730078630124468, 0.8730078630132537, 0.8730078630137392]\n"
     ]
    },
    {
     "name": "stderr",
     "output_type": "stream",
     "text": [
      "Progress:  35%|███▍      | 104/300 [29:55<58:55, 18.04s/it]  "
     ]
    },
    {
     "name": "stdout",
     "output_type": "stream",
     "text": [
      "Time to: Calculate Ground State - 1.31s, Get Pauli Ops - 5.05s, Calculate Pauli Expectation Values - 8.71s, Calculate Covariance - 2.33s\n",
      "f0,f1,f2 = [4.930809923212695e-09, 4.930809923230686e-09, 4.9308099232281814e-09]\n",
      "d01,d02,d12 = [0.8858317551252589, 0.8858317551263782, 0.8858317551266262]\n"
     ]
    },
    {
     "name": "stderr",
     "output_type": "stream",
     "text": [
      "Progress:  35%|███▌      | 105/300 [30:12<57:24, 17.66s/it]"
     ]
    },
    {
     "name": "stdout",
     "output_type": "stream",
     "text": [
      "Time to: Calculate Ground State - 1.02s, Get Pauli Ops - 5.05s, Calculate Pauli Expectation Values - 8.46s, Calculate Covariance - 2.25s\n",
      "f0,f1,f2 = [5.297033834090234e-09, 5.297033834116957e-09, 5.29703383401905e-09]\n",
      "d01,d02,d12 = [0.9007148921574107, 0.9007148921588037, 0.9007148921588238]\n"
     ]
    },
    {
     "name": "stderr",
     "output_type": "stream",
     "text": [
      "Progress:  35%|███▌      | 106/300 [30:31<58:38, 18.13s/it]"
     ]
    },
    {
     "name": "stdout",
     "output_type": "stream",
     "text": [
      "Time to: Calculate Ground State - 1.04s, Get Pauli Ops - 4.9s, Calculate Pauli Expectation Values - 10.82s, Calculate Covariance - 2.47s\n",
      "f0,f1,f2 = [3.694329428546007e-09, 3.6943294285811033e-09, 3.694329428456789e-09]\n",
      "d01,d02,d12 = [0.916970884195609, 0.9169708841972318, 0.9169708841970305]\n"
     ]
    },
    {
     "name": "stderr",
     "output_type": "stream",
     "text": [
      "Progress:  36%|███▌      | 107/300 [30:49<57:56, 18.01s/it]"
     ]
    },
    {
     "name": "stdout",
     "output_type": "stream",
     "text": [
      "Time to: Calculate Ground State - 1.06s, Get Pauli Ops - 5.14s, Calculate Pauli Expectation Values - 9.96s, Calculate Covariance - 1.55s\n",
      "f0,f1,f2 = [4.206632650409686e-09, 4.206632650498806e-09, 4.2066326503977155e-09]\n",
      "d01,d02,d12 = [0.9347982401301287, 0.9347982401319556, 0.934798240131536]\n"
     ]
    },
    {
     "name": "stderr",
     "output_type": "stream",
     "text": [
      "Progress:  36%|███▌      | 108/300 [31:06<56:30, 17.66s/it]"
     ]
    },
    {
     "name": "stdout",
     "output_type": "stream",
     "text": [
      "Time to: Calculate Ground State - 1.24s, Get Pauli Ops - 5.14s, Calculate Pauli Expectation Values - 8.49s, Calculate Covariance - 1.97s\n",
      "f0,f1,f2 = [1.4196413441909656e-09, 1.419641344200248e-09, 1.419641344174504e-09]\n",
      "d01,d02,d12 = [0.9530246118710479, 0.9530246118730811, 0.9530246118724394]\n"
     ]
    },
    {
     "name": "stderr",
     "output_type": "stream",
     "text": [
      "Progress:  36%|███▋      | 109/300 [31:23<56:13, 17.66s/it]"
     ]
    },
    {
     "name": "stdout",
     "output_type": "stream",
     "text": [
      "Time to: Calculate Ground State - 1.19s, Get Pauli Ops - 5.99s, Calculate Pauli Expectation Values - 8.14s, Calculate Covariance - 2.34s\n",
      "f0,f1,f2 = [2.1304607819868596e-09, 2.130460782019728e-09, 2.1304607820303544e-09]\n",
      "d01,d02,d12 = [0.9719411461173499, 0.9719411461195627, 0.9719411461187214]\n"
     ]
    },
    {
     "name": "stderr",
     "output_type": "stream",
     "text": [
      "/cluster/home/mskrabulis/miniconda3/envs/quantech/lib/python3.9/site-packages/pyscf/symm/Dmatrix.py:156: RuntimeWarning: invalid value encountered in arccos\n",
      "  gamma = numpy.arccos(yp.dot(c2[1]))\n",
      "Progress:  37%|███▋      | 110/300 [31:41<55:34, 17.55s/it]"
     ]
    },
    {
     "name": "stdout",
     "output_type": "stream",
     "text": [
      "Time to: Calculate Ground State - 1.22s, Get Pauli Ops - 5.95s, Calculate Pauli Expectation Values - 7.89s, Calculate Covariance - 2.21s\n",
      "f0,f1,f2 = [7.954314645944891e-10, 7.954314645808952e-10, 7.954314645278165e-10]\n",
      "d01,d02,d12 = [0.9909869959907225, 0.9909869959931108, 0.9909869959920682]\n"
     ]
    },
    {
     "name": "stderr",
     "output_type": "stream",
     "text": [
      "/cluster/home/mskrabulis/miniconda3/envs/quantech/lib/python3.9/site-packages/pyscf/symm/Dmatrix.py:156: RuntimeWarning: invalid value encountered in arccos\n",
      "  gamma = numpy.arccos(yp.dot(c2[1]))\n",
      "Progress:  37%|███▋      | 111/300 [31:58<54:47, 17.40s/it]"
     ]
    },
    {
     "name": "stdout",
     "output_type": "stream",
     "text": [
      "Time to: Calculate Ground State - 1.04s, Get Pauli Ops - 5.8s, Calculate Pauli Expectation Values - 7.84s, Calculate Covariance - 2.35s\n",
      "f0,f1,f2 = [2.2497583351967818e-10, 2.2497583349120316e-10, 2.2497583352758781e-10]\n",
      "d01,d02,d12 = [1.0097376109288727, 1.0097376109314262, 1.0097376109302076]\n"
     ]
    },
    {
     "name": "stderr",
     "output_type": "stream",
     "text": [
      "Progress:  37%|███▋      | 112/300 [32:14<53:21, 17.03s/it]"
     ]
    },
    {
     "name": "stdout",
     "output_type": "stream",
     "text": [
      "Time to: Calculate Ground State - 1.33s, Get Pauli Ops - 5.0s, Calculate Pauli Expectation Values - 8.35s, Calculate Covariance - 1.49s\n",
      "f0,f1,f2 = [1.2781084284520525e-09, 1.2781084284601382e-09, 1.2781084284786985e-09]\n",
      "d01,d02,d12 = [1.0277591894967233, 1.027759189499455, 1.0277591894980531]\n"
     ]
    },
    {
     "name": "stderr",
     "output_type": "stream",
     "text": [
      "Progress:  38%|███▊      | 113/300 [32:32<54:03, 17.34s/it]"
     ]
    },
    {
     "name": "stdout",
     "output_type": "stream",
     "text": [
      "Time to: Calculate Ground State - 1.26s, Get Pauli Ops - 6.66s, Calculate Pauli Expectation Values - 7.91s, Calculate Covariance - 2.24s\n",
      "f0,f1,f2 = [1.3594720450846168e-09, 1.3594720450284415e-09, 1.35947204510293e-09]\n",
      "d01,d02,d12 = [1.0450255447806371, 1.04502554478351, 1.0450255447819417]\n"
     ]
    },
    {
     "name": "stderr",
     "output_type": "stream",
     "text": [
      "Progress:  38%|███▊      | 114/300 [32:50<54:28, 17.57s/it]"
     ]
    },
    {
     "name": "stdout",
     "output_type": "stream",
     "text": [
      "Time to: Calculate Ground State - 1.37s, Get Pauli Ops - 6.83s, Calculate Pauli Expectation Values - 7.72s, Calculate Covariance - 2.19s\n",
      "f0,f1,f2 = [3.5042190757778164e-09, 3.504219075843437e-09, 3.5042190758199596e-09]\n",
      "d01,d02,d12 = [1.0606546599541784, 1.0606546599571738, 1.0606546599554523]\n"
     ]
    },
    {
     "name": "stderr",
     "output_type": "stream",
     "text": [
      "Progress:  38%|███▊      | 115/300 [33:08<54:10, 17.57s/it]"
     ]
    },
    {
     "name": "stdout",
     "output_type": "stream",
     "text": [
      "Time to: Calculate Ground State - 1.36s, Get Pauli Ops - 6.44s, Calculate Pauli Expectation Values - 8.04s, Calculate Covariance - 1.71s\n",
      "f0,f1,f2 = [4.0378193380184475e-09, 4.037819337943161e-09, 4.0378193380015225e-09]\n",
      "d01,d02,d12 = [1.0744422805290164, 1.0744422805321032, 1.0744422805302578]\n"
     ]
    },
    {
     "name": "stderr",
     "output_type": "stream",
     "text": [
      "Progress:  39%|███▊      | 116/300 [33:27<55:08, 17.98s/it]"
     ]
    },
    {
     "name": "stdout",
     "output_type": "stream",
     "text": [
      "Time to: Calculate Ground State - 1.2s, Get Pauli Ops - 5.07s, Calculate Pauli Expectation Values - 10.3s, Calculate Covariance - 2.37s\n",
      "f0,f1,f2 = [2.8175240342979117e-09, 2.817524034277695e-09, 2.817524034331596e-09]\n",
      "d01,d02,d12 = [1.086914000161375, 1.0869140001645323, 1.0869140001625777]\n"
     ]
    },
    {
     "name": "stderr",
     "output_type": "stream",
     "text": [
      "Progress:  39%|███▉      | 117/300 [33:43<53:37, 17.58s/it]"
     ]
    },
    {
     "name": "stdout",
     "output_type": "stream",
     "text": [
      "Time to: Calculate Ground State - 1.26s, Get Pauli Ops - 5.05s, Calculate Pauli Expectation Values - 8.09s, Calculate Covariance - 2.23s\n",
      "f0,f1,f2 = [2.5765635451195772e-09, 2.576563545118818e-09, 2.5765635451289992e-09]\n",
      "d01,d02,d12 = [1.0981835737380323, 1.098183573741263, 1.09818357373919]\n"
     ]
    },
    {
     "name": "stderr",
     "output_type": "stream",
     "text": [
      "/cluster/home/mskrabulis/miniconda3/envs/quantech/lib/python3.9/site-packages/pyscf/symm/Dmatrix.py:156: RuntimeWarning: invalid value encountered in arccos\n",
      "  gamma = numpy.arccos(yp.dot(c2[1]))\n",
      "Progress:  39%|███▉      | 118/300 [34:01<53:41, 17.70s/it]"
     ]
    },
    {
     "name": "stdout",
     "output_type": "stream",
     "text": [
      "Time to: Calculate Ground State - 1.06s, Get Pauli Ops - 7.31s, Calculate Pauli Expectation Values - 7.82s, Calculate Covariance - 1.78s\n",
      "f0,f1,f2 = [3.2662030393929798e-09, 3.2662030393882677e-09, 3.2662030393983626e-09]\n",
      "d01,d02,d12 = [1.1079775228365385, 1.1079775228398188, 1.1079775228376398]\n"
     ]
    },
    {
     "name": "stderr",
     "output_type": "stream",
     "text": [
      "/cluster/home/mskrabulis/miniconda3/envs/quantech/lib/python3.9/site-packages/pyscf/symm/Dmatrix.py:156: RuntimeWarning: invalid value encountered in arccos\n",
      "  gamma = numpy.arccos(yp.dot(c2[1]))\n",
      "Progress:  40%|███▉      | 119/300 [34:18<52:57, 17.56s/it]"
     ]
    },
    {
     "name": "stdout",
     "output_type": "stream",
     "text": [
      "Time to: Calculate Ground State - 1.38s, Get Pauli Ops - 5.14s, Calculate Pauli Expectation Values - 8.29s, Calculate Covariance - 2.39s\n",
      "f0,f1,f2 = [3.4525493307260067e-09, 3.4525493307535394e-09, 3.452549330728568e-09]\n",
      "d01,d02,d12 = [1.1162341583239175, 1.1162341583272481, 1.116234158324946]\n"
     ]
    },
    {
     "name": "stderr",
     "output_type": "stream",
     "text": [
      "/cluster/home/mskrabulis/miniconda3/envs/quantech/lib/python3.9/site-packages/pyscf/symm/Dmatrix.py:156: RuntimeWarning: invalid value encountered in arccos\n",
      "  gamma = numpy.arccos(yp.dot(c2[1]))\n",
      "Progress:  40%|████      | 120/300 [34:43<58:48, 19.60s/it]"
     ]
    },
    {
     "name": "stdout",
     "output_type": "stream",
     "text": [
      "Time to: Calculate Ground State - 1.04s, Get Pauli Ops - 12.73s, Calculate Pauli Expectation Values - 8.15s, Calculate Covariance - 2.45s\n",
      "f0,f1,f2 = [4.092543400266543e-09, 4.092543400274298e-09, 4.092543400298177e-09]\n",
      "d01,d02,d12 = [1.1227043214147385, 1.1227043214181138, 1.1227043214157058]\n"
     ]
    },
    {
     "name": "stderr",
     "output_type": "stream",
     "text": [
      "Progress:  40%|████      | 121/300 [35:01<57:02, 19.12s/it]"
     ]
    },
    {
     "name": "stdout",
     "output_type": "stream",
     "text": [
      "Time to: Calculate Ground State - 1.04s, Get Pauli Ops - 7.1s, Calculate Pauli Expectation Values - 8.01s, Calculate Covariance - 1.84s\n",
      "f0,f1,f2 = [4.302275365724558e-09, 4.3022753657417685e-09, 4.302275365770546e-09]\n",
      "d01,d02,d12 = [1.1273191745673852, 1.1273191745707878, 1.1273191745682742]\n"
     ]
    },
    {
     "name": "stderr",
     "output_type": "stream",
     "text": [
      "/cluster/home/mskrabulis/miniconda3/envs/quantech/lib/python3.9/site-packages/pyscf/symm/Dmatrix.py:156: RuntimeWarning: invalid value encountered in arccos\n",
      "  gamma = numpy.arccos(yp.dot(c2[1]))\n",
      "Progress:  41%|████      | 122/300 [35:20<56:23, 19.01s/it]"
     ]
    },
    {
     "name": "stdout",
     "output_type": "stream",
     "text": [
      "Time to: Calculate Ground State - 1.32s, Get Pauli Ops - 7.27s, Calculate Pauli Expectation Values - 7.87s, Calculate Covariance - 2.27s\n",
      "f0,f1,f2 = [5.173022995143789e-09, 5.1730229951687666e-09, 5.173022995164954e-09]\n",
      "d01,d02,d12 = [1.1297376498773282, 1.1297376498807388, 1.1297376498781313]\n"
     ]
    },
    {
     "name": "stderr",
     "output_type": "stream",
     "text": [
      "/cluster/home/mskrabulis/miniconda3/envs/quantech/lib/python3.9/site-packages/pyscf/symm/Dmatrix.py:156: RuntimeWarning: invalid value encountered in arccos\n",
      "  gamma = numpy.arccos(yp.dot(c2[1]))\n",
      "Progress:  41%|████      | 123/300 [35:37<55:00, 18.65s/it]"
     ]
    },
    {
     "name": "stdout",
     "output_type": "stream",
     "text": [
      "Time to: Calculate Ground State - 1.01s, Get Pauli Ops - 5.18s, Calculate Pauli Expectation Values - 9.2s, Calculate Covariance - 2.41s\n",
      "f0,f1,f2 = [4.723998061561271e-09, 4.723998061569973e-09, 4.723998061587361e-09]\n",
      "d01,d02,d12 = [1.1301699545741863, 1.1301699545776054, 1.1301699545749089]\n"
     ]
    },
    {
     "name": "stderr",
     "output_type": "stream",
     "text": [
      "/cluster/home/mskrabulis/miniconda3/envs/quantech/lib/python3.9/site-packages/pyscf/symm/Dmatrix.py:156: RuntimeWarning: invalid value encountered in arccos\n",
      "  gamma = numpy.arccos(yp.dot(c2[1]))\n",
      "Progress:  41%|████▏     | 124/300 [35:55<53:25, 18.21s/it]"
     ]
    },
    {
     "name": "stdout",
     "output_type": "stream",
     "text": [
      "Time to: Calculate Ground State - 1.07s, Get Pauli Ops - 6.77s, Calculate Pauli Expectation Values - 7.57s, Calculate Covariance - 1.78s\n",
      "f0,f1,f2 = [5.238390826188189e-09, 5.238390826145426e-09, 5.238390826161366e-09]\n",
      "d01,d02,d12 = [1.1284243351803807, 1.1284243351837886, 1.1284243351810161]\n"
     ]
    },
    {
     "name": "stderr",
     "output_type": "stream",
     "text": [
      "/cluster/home/mskrabulis/miniconda3/envs/quantech/lib/python3.9/site-packages/pyscf/symm/Dmatrix.py:156: RuntimeWarning: invalid value encountered in arccos\n",
      "  gamma = numpy.arccos(yp.dot(c2[1]))\n",
      "Progress:  42%|████▏     | 125/300 [36:12<52:46, 18.09s/it]"
     ]
    },
    {
     "name": "stdout",
     "output_type": "stream",
     "text": [
      "Time to: Calculate Ground State - 1.24s, Get Pauli Ops - 4.53s, Calculate Pauli Expectation Values - 9.72s, Calculate Covariance - 2.31s\n",
      "f0,f1,f2 = [4.847711737128183e-09, 4.847711737103316e-09, 4.847711737156674e-09]\n",
      "d01,d02,d12 = [1.1246866057643927, 1.1246866057677698, 1.1246866057649372]\n"
     ]
    },
    {
     "name": "stderr",
     "output_type": "stream",
     "text": [
      "Progress:  42%|████▏     | 126/300 [36:28<49:58, 17.23s/it]"
     ]
    },
    {
     "name": "stdout",
     "output_type": "stream",
     "text": [
      "Time to: Calculate Ground State - 1.04s, Get Pauli Ops - 4.5s, Calculate Pauli Expectation Values - 7.73s, Calculate Covariance - 1.94s\n",
      "f0,f1,f2 = [4.859724873269113e-09, 4.859724873270615e-09, 4.859724873309556e-09]\n",
      "d01,d02,d12 = [1.1189734719634354, 1.1189734719667621, 1.1189734719638804]\n"
     ]
    },
    {
     "name": "stderr",
     "output_type": "stream",
     "text": [
      "/cluster/home/mskrabulis/miniconda3/envs/quantech/lib/python3.9/site-packages/pyscf/symm/Dmatrix.py:156: RuntimeWarning: invalid value encountered in arccos\n",
      "  gamma = numpy.arccos(yp.dot(c2[1]))\n",
      "Progress:  42%|████▏     | 127/300 [36:43<47:43, 16.55s/it]"
     ]
    },
    {
     "name": "stdout",
     "output_type": "stream",
     "text": [
      "Time to: Calculate Ground State - 0.79s, Get Pauli Ops - 4.81s, Calculate Pauli Expectation Values - 8.05s, Calculate Covariance - 1.31s\n",
      "f0,f1,f2 = [3.9764093521009495e-09, 3.976409352074229e-09, 3.976409352117876e-09]\n",
      "d01,d02,d12 = [1.1116720320468756, 1.1116720320501343, 1.1116720320472178]\n"
     ]
    },
    {
     "name": "stderr",
     "output_type": "stream",
     "text": [
      "Progress:  43%|████▎     | 128/300 [36:58<46:24, 16.19s/it]"
     ]
    },
    {
     "name": "stdout",
     "output_type": "stream",
     "text": [
      "Time to: Calculate Ground State - 1.11s, Get Pauli Ops - 4.98s, Calculate Pauli Expectation Values - 7.54s, Calculate Covariance - 1.71s\n",
      "f0,f1,f2 = [4.559641432295345e-09, 4.5596414322409085e-09, 4.559641432267887e-09]\n",
      "d01,d02,d12 = [1.1025572814375297, 1.1025572814407045, 1.1025572814377635]\n"
     ]
    },
    {
     "name": "stderr",
     "output_type": "stream",
     "text": [
      "Progress:  43%|████▎     | 129/300 [37:15<46:28, 16.30s/it]"
     ]
    },
    {
     "name": "stdout",
     "output_type": "stream",
     "text": [
      "Time to: Calculate Ground State - 1.29s, Get Pauli Ops - 5.53s, Calculate Pauli Expectation Values - 7.95s, Calculate Covariance - 1.8s\n",
      "f0,f1,f2 = [3.002738442552483e-09, 3.0027384425512355e-09, 3.0027384425639125e-09]\n",
      "d01,d02,d12 = [1.0922944180402627, 1.0922944180433407, 1.0922944180403842]\n"
     ]
    },
    {
     "name": "stderr",
     "output_type": "stream",
     "text": [
      "Progress:  43%|████▎     | 130/300 [37:30<45:13, 15.96s/it]"
     ]
    },
    {
     "name": "stdout",
     "output_type": "stream",
     "text": [
      "Time to: Calculate Ground State - 1.03s, Get Pauli Ops - 4.38s, Calculate Pauli Expectation Values - 8.07s, Calculate Covariance - 1.68s\n",
      "f0,f1,f2 = [4.582606139976389e-09, 4.582606139932326e-09, 4.58260613997077e-09]\n",
      "d01,d02,d12 = [1.0802401256324325, 1.0802401256353997, 1.0802401256324383]\n"
     ]
    },
    {
     "name": "stderr",
     "output_type": "stream",
     "text": [
      "Progress:  44%|████▎     | 131/300 [37:46<45:27, 16.14s/it]"
     ]
    },
    {
     "name": "stdout",
     "output_type": "stream",
     "text": [
      "Time to: Calculate Ground State - 1.16s, Get Pauli Ops - 5.15s, Calculate Pauli Expectation Values - 8.47s, Calculate Covariance - 1.76s\n",
      "f0,f1,f2 = [3.724192739650621e-09, 3.724192739627843e-09, 3.724192739669886e-09]\n",
      "d01,d02,d12 = [1.0667694449809144, 1.0667694449837466, 1.0667694449807983]\n"
     ]
    },
    {
     "name": "stderr",
     "output_type": "stream",
     "text": [
      "Progress:  44%|████▍     | 132/300 [38:05<47:24, 16.93s/it]"
     ]
    },
    {
     "name": "stdout",
     "output_type": "stream",
     "text": [
      "Time to: Calculate Ground State - 1.16s, Get Pauli Ops - 5.12s, Calculate Pauli Expectation Values - 10.36s, Calculate Covariance - 2.13s\n",
      "f0,f1,f2 = [2.894801004157055e-09, 2.8948010040969915e-09, 2.894801004143135e-09]\n",
      "d01,d02,d12 = [1.0522413102038999, 1.0522413102065764, 1.0522413102036632]\n"
     ]
    },
    {
     "name": "stderr",
     "output_type": "stream",
     "text": [
      "/cluster/home/mskrabulis/miniconda3/envs/quantech/lib/python3.9/site-packages/pyscf/symm/Dmatrix.py:156: RuntimeWarning: invalid value encountered in arccos\n",
      "  gamma = numpy.arccos(yp.dot(c2[1]))\n",
      "/cluster/home/mskrabulis/miniconda3/envs/quantech/lib/python3.9/site-packages/pyscf/symm/Dmatrix.py:156: RuntimeWarning: invalid value encountered in arccos\n",
      "  gamma = numpy.arccos(yp.dot(c2[1]))\n",
      "Progress:  44%|████▍     | 133/300 [38:23<47:49, 17.18s/it]"
     ]
    },
    {
     "name": "stdout",
     "output_type": "stream",
     "text": [
      "Time to: Calculate Ground State - 1.38s, Get Pauli Ops - 7.34s, Calculate Pauli Expectation Values - 7.74s, Calculate Covariance - 1.3s\n",
      "f0,f1,f2 = [7.182539858953156e-10, 7.182539859190851e-10, 7.182539859042775e-10]\n",
      "d01,d02,d12 = [1.0375696871654307, 1.0375696871679765, 1.037569687165078]\n"
     ]
    },
    {
     "name": "stderr",
     "output_type": "stream",
     "text": [
      "Progress:  45%|████▍     | 134/300 [38:39<47:03, 17.01s/it]"
     ]
    },
    {
     "name": "stdout",
     "output_type": "stream",
     "text": [
      "Time to: Calculate Ground State - 0.92s, Get Pauli Ops - 5.15s, Calculate Pauli Expectation Values - 8.38s, Calculate Covariance - 2.14s\n",
      "f0,f1,f2 = [1.6928869768055744e-09, 1.6928869767332412e-09, 1.6928869767946618e-09]\n",
      "d01,d02,d12 = [1.0223515446251323, 1.0223515446275304, 1.022351544624675]\n"
     ]
    },
    {
     "name": "stderr",
     "output_type": "stream",
     "text": [
      "Progress:  45%|████▌     | 135/300 [38:56<46:19, 16.85s/it]"
     ]
    },
    {
     "name": "stdout",
     "output_type": "stream",
     "text": [
      "Time to: Calculate Ground State - 1.04s, Get Pauli Ops - 4.33s, Calculate Pauli Expectation Values - 9.16s, Calculate Covariance - 1.94s\n",
      "f0,f1,f2 = [1.3762722662651274e-09, 1.3762722661845118e-09, 1.3762722662206757e-09]\n",
      "d01,d02,d12 = [1.0067238679765542, 1.0067238679788022, 1.0067238679760069]\n"
     ]
    },
    {
     "name": "stderr",
     "output_type": "stream",
     "text": [
      "Progress:  45%|████▌     | 136/300 [39:13<46:02, 16.85s/it]"
     ]
    },
    {
     "name": "stdout",
     "output_type": "stream",
     "text": [
      "Time to: Calculate Ground State - 0.74s, Get Pauli Ops - 4.89s, Calculate Pauli Expectation Values - 9.04s, Calculate Covariance - 2.17s\n",
      "f0,f1,f2 = [1.0088842188990628e-09, 1.0088842188431765e-09, 1.0088842188698973e-09]\n",
      "d01,d02,d12 = [0.9908433181928782, 0.9908433181949692, 0.990843318192254]\n"
     ]
    },
    {
     "name": "stderr",
     "output_type": "stream",
     "text": [
      "Progress:  46%|████▌     | 137/300 [39:29<45:27, 16.73s/it]"
     ]
    },
    {
     "name": "stdout",
     "output_type": "stream",
     "text": [
      "Time to: Calculate Ground State - 1.39s, Get Pauli Ops - 5.33s, Calculate Pauli Expectation Values - 7.98s, Calculate Covariance - 1.75s\n",
      "f0,f1,f2 = [9.866788927136328e-10, 9.866788927098e-10, 9.866788927202736e-10]\n",
      "d01,d02,d12 = [0.9755404511671486, 0.9755404511690515, 0.975540451166457]\n"
     ]
    },
    {
     "name": "stderr",
     "output_type": "stream",
     "text": [
      "/cluster/home/mskrabulis/miniconda3/envs/quantech/lib/python3.9/site-packages/pyscf/symm/Dmatrix.py:156: RuntimeWarning: invalid value encountered in arccos\n",
      "  gamma = numpy.arccos(yp.dot(c2[1]))\n",
      "Progress:  46%|████▌     | 138/300 [39:45<44:35, 16.52s/it]"
     ]
    },
    {
     "name": "stdout",
     "output_type": "stream",
     "text": [
      "Time to: Calculate Ground State - 0.94s, Get Pauli Ops - 5.27s, Calculate Pauli Expectation Values - 7.88s, Calculate Covariance - 1.91s\n",
      "f0,f1,f2 = [3.1579585774509154e-10, 3.1579585772598335e-10, 3.1579585770751763e-10]\n",
      "d01,d02,d12 = [0.9605309044500263, 0.960530904451733, 0.9605309044492639]\n"
     ]
    },
    {
     "name": "stderr",
     "output_type": "stream",
     "text": [
      "Progress:  46%|████▋     | 139/300 [40:01<43:59, 16.39s/it]"
     ]
    },
    {
     "name": "stdout",
     "output_type": "stream",
     "text": [
      "Time to: Calculate Ground State - 1.27s, Get Pauli Ops - 5.1s, Calculate Pauli Expectation Values - 7.78s, Calculate Covariance - 1.94s\n",
      "f0,f1,f2 = [6.110304305441613e-10, 6.110304305951978e-10, 6.110304305244172e-10]\n",
      "d01,d02,d12 = [0.9459342264709213, 0.9459342264723979, 0.9459342264700894]\n"
     ]
    },
    {
     "name": "stderr",
     "output_type": "stream",
     "text": [
      "/cluster/home/mskrabulis/miniconda3/envs/quantech/lib/python3.9/site-packages/pyscf/symm/Dmatrix.py:156: RuntimeWarning: invalid value encountered in arccos\n",
      "  gamma = numpy.arccos(yp.dot(c2[1]))\n",
      "Progress:  47%|████▋     | 140/300 [40:18<43:46, 16.41s/it]"
     ]
    },
    {
     "name": "stdout",
     "output_type": "stream",
     "text": [
      "Time to: Calculate Ground State - 1.29s, Get Pauli Ops - 5.03s, Calculate Pauli Expectation Values - 7.92s, Calculate Covariance - 2.21s\n",
      "f0,f1,f2 = [3.5558535760990036e-10, 3.5558535752670874e-10, 3.5558535760783624e-10]\n",
      "d01,d02,d12 = [0.931345282802828, 0.9313452828040399, 0.9313452828019294]\n"
     ]
    },
    {
     "name": "stderr",
     "output_type": "stream",
     "text": [
      "Progress:  47%|████▋     | 141/300 [40:35<43:45, 16.51s/it]"
     ]
    },
    {
     "name": "stdout",
     "output_type": "stream",
     "text": [
      "Time to: Calculate Ground State - 1.23s, Get Pauli Ops - 5.13s, Calculate Pauli Expectation Values - 8.22s, Calculate Covariance - 2.15s\n",
      "f0,f1,f2 = [2.4568137330497167e-09, 2.4568137330643545e-09, 2.456813733060081e-09]\n",
      "d01,d02,d12 = [0.9179311097592924, 0.9179311097602297, 0.9179311097583249]\n"
     ]
    },
    {
     "name": "stderr",
     "output_type": "stream",
     "text": [
      "/cluster/home/mskrabulis/miniconda3/envs/quantech/lib/python3.9/site-packages/pyscf/symm/Dmatrix.py:156: RuntimeWarning: invalid value encountered in arccos\n",
      "  gamma = numpy.arccos(yp.dot(c2[1]))\n",
      "Progress:  47%|████▋     | 142/300 [40:51<43:16, 16.44s/it]"
     ]
    },
    {
     "name": "stdout",
     "output_type": "stream",
     "text": [
      "Time to: Calculate Ground State - 1.34s, Get Pauli Ops - 5.11s, Calculate Pauli Expectation Values - 7.88s, Calculate Covariance - 1.92s\n",
      "f0,f1,f2 = [2.8643729611720943e-09, 2.8643729612258122e-09, 2.8643729612121166e-09]\n",
      "d01,d02,d12 = [0.9058486517834284, 0.905848651784091, 0.9058486517824083]\n"
     ]
    },
    {
     "name": "stderr",
     "output_type": "stream",
     "text": [
      "/cluster/home/mskrabulis/miniconda3/envs/quantech/lib/python3.9/site-packages/pyscf/symm/Dmatrix.py:156: RuntimeWarning: invalid value encountered in arccos\n",
      "  gamma = numpy.arccos(yp.dot(c2[1]))\n",
      "/cluster/home/mskrabulis/miniconda3/envs/quantech/lib/python3.9/site-packages/pyscf/symm/Dmatrix.py:156: RuntimeWarning: invalid value encountered in arccos\n",
      "  gamma = numpy.arccos(yp.dot(c2[1]))\n",
      "Progress:  48%|████▊     | 143/300 [41:07<42:39, 16.30s/it]"
     ]
    },
    {
     "name": "stdout",
     "output_type": "stream",
     "text": [
      "Time to: Calculate Ground State - 0.92s, Get Pauli Ops - 5.13s, Calculate Pauli Expectation Values - 7.91s, Calculate Covariance - 2.02s\n",
      "f0,f1,f2 = [4.447493429331023e-09, 4.4474934293957864e-09, 4.447493429317915e-09]\n",
      "d01,d02,d12 = [0.8957408284187919, 0.8957408284191575, 0.8957408284177127]\n"
     ]
    },
    {
     "name": "stderr",
     "output_type": "stream",
     "text": [
      "/cluster/home/mskrabulis/miniconda3/envs/quantech/lib/python3.9/site-packages/pyscf/symm/Dmatrix.py:156: RuntimeWarning: invalid value encountered in arccos\n",
      "  gamma = numpy.arccos(yp.dot(c2[1]))\n",
      "Progress:  48%|████▊     | 144/300 [41:24<42:58, 16.53s/it]"
     ]
    },
    {
     "name": "stdout",
     "output_type": "stream",
     "text": [
      "Time to: Calculate Ground State - 1.22s, Get Pauli Ops - 5.26s, Calculate Pauli Expectation Values - 8.42s, Calculate Covariance - 2.15s\n",
      "f0,f1,f2 = [4.208571455777237e-09, 4.208571455805247e-09, 4.208571455774058e-09]\n",
      "d01,d02,d12 = [0.8874876541771357, 0.887487654177208, 0.8874876541760133]\n"
     ]
    },
    {
     "name": "stderr",
     "output_type": "stream",
     "text": [
      "/cluster/home/mskrabulis/miniconda3/envs/quantech/lib/python3.9/site-packages/pyscf/symm/Dmatrix.py:156: RuntimeWarning: invalid value encountered in arccos\n",
      "  gamma = numpy.arccos(yp.dot(c2[1]))\n",
      "Progress:  48%|████▊     | 145/300 [41:43<44:37, 17.27s/it]"
     ]
    },
    {
     "name": "stdout",
     "output_type": "stream",
     "text": [
      "Time to: Calculate Ground State - 1.31s, Get Pauli Ops - 7.84s, Calculate Pauli Expectation Values - 7.65s, Calculate Covariance - 2.21s\n",
      "f0,f1,f2 = [4.87552803086467e-09, 4.875528030878426e-09, 4.875528030891637e-09]\n",
      "d01,d02,d12 = [0.8813461097613196, 0.8813461097611076, 0.8813461097601621]\n"
     ]
    },
    {
     "name": "stderr",
     "output_type": "stream",
     "text": [
      "/cluster/home/mskrabulis/miniconda3/envs/quantech/lib/python3.9/site-packages/pyscf/symm/Dmatrix.py:156: RuntimeWarning: invalid value encountered in arccos\n",
      "  gamma = numpy.arccos(yp.dot(c2[1]))\n",
      "/cluster/home/mskrabulis/miniconda3/envs/quantech/lib/python3.9/site-packages/pyscf/symm/Dmatrix.py:156: RuntimeWarning: invalid value encountered in arccos\n",
      "  gamma = numpy.arccos(yp.dot(c2[1]))\n",
      "Progress:  49%|████▊     | 146/300 [42:00<44:23, 17.29s/it]"
     ]
    },
    {
     "name": "stdout",
     "output_type": "stream",
     "text": [
      "Time to: Calculate Ground State - 1.37s, Get Pauli Ops - 6.24s, Calculate Pauli Expectation Values - 7.59s, Calculate Covariance - 2.12s\n",
      "f0,f1,f2 = [5.73315340103677e-09, 5.733153401069723e-09, 5.733153401053094e-09]\n",
      "d01,d02,d12 = [0.8776493661987533, 0.8776493661982548, 0.8776493661975683]\n"
     ]
    },
    {
     "name": "stderr",
     "output_type": "stream",
     "text": [
      "/cluster/home/mskrabulis/miniconda3/envs/quantech/lib/python3.9/site-packages/pyscf/symm/Dmatrix.py:156: RuntimeWarning: invalid value encountered in arccos\n",
      "  gamma = numpy.arccos(yp.dot(c2[1]))\n",
      "Progress:  49%|████▉     | 147/300 [42:18<44:26, 17.43s/it]"
     ]
    },
    {
     "name": "stdout",
     "output_type": "stream",
     "text": [
      "Time to: Calculate Ground State - 1.38s, Get Pauli Ops - 5.28s, Calculate Pauli Expectation Values - 9.12s, Calculate Covariance - 1.97s\n",
      "f0,f1,f2 = [5.701952848372035e-09, 5.701952848390904e-09, 5.70195284843077e-09]\n",
      "d01,d02,d12 = [0.8763581260326505, 0.8763581260318739, 0.8763581260314594]\n"
     ]
    },
    {
     "name": "stderr",
     "output_type": "stream",
     "text": [
      "Progress:  49%|████▉     | 148/300 [42:34<43:18, 17.10s/it]"
     ]
    },
    {
     "name": "stdout",
     "output_type": "stream",
     "text": [
      "Time to: Calculate Ground State - 1.35s, Get Pauli Ops - 4.61s, Calculate Pauli Expectation Values - 8.24s, Calculate Covariance - 2.11s\n",
      "f0,f1,f2 = [5.213346708257492e-09, 5.213346708263634e-09, 5.213346708292972e-09]\n",
      "d01,d02,d12 = [0.8772436778382957, 0.8772436778372524, 0.8772436778371209]\n"
     ]
    },
    {
     "name": "stderr",
     "output_type": "stream",
     "text": [
      "Progress:  50%|████▉     | 149/300 [42:53<44:35, 17.72s/it]"
     ]
    },
    {
     "name": "stdout",
     "output_type": "stream",
     "text": [
      "Time to: Calculate Ground State - 1.37s, Get Pauli Ops - 7.66s, Calculate Pauli Expectation Values - 7.83s, Calculate Covariance - 2.3s\n",
      "f0,f1,f2 = [6.635892157020529e-09, 6.6358921570253154e-09, 6.635892157061633e-09]\n",
      "d01,d02,d12 = [0.8808726343680056, 0.8808726343666979, 0.880872634366856]\n"
     ]
    },
    {
     "name": "stderr",
     "output_type": "stream",
     "text": [
      "Progress:  50%|█████     | 150/300 [43:10<43:29, 17.39s/it]"
     ]
    },
    {
     "name": "stdout",
     "output_type": "stream",
     "text": [
      "Time to: Calculate Ground State - 1.2s, Get Pauli Ops - 5.04s, Calculate Pauli Expectation Values - 8.04s, Calculate Covariance - 2.35s\n",
      "f0,f1,f2 = [6.332072362903082e-09, 6.332072362888835e-09, 6.332072362942752e-09]\n",
      "d01,d02,d12 = [0.8870893298468618, 0.8870893298453146, 0.8870893298457582]\n"
     ]
    },
    {
     "name": "stderr",
     "output_type": "stream",
     "text": [
      "Progress:  50%|█████     | 151/300 [43:27<43:01, 17.33s/it]"
     ]
    },
    {
     "name": "stdout",
     "output_type": "stream",
     "text": [
      "Time to: Calculate Ground State - 1.02s, Get Pauli Ops - 5.08s, Calculate Pauli Expectation Values - 8.94s, Calculate Covariance - 2.13s\n",
      "f0,f1,f2 = [4.8511390858816585e-09, 4.85113908589037e-09, 4.851139085926732e-09]\n",
      "d01,d02,d12 = [0.8952515660498086, 0.8952515660480402, 0.8952515660487668]\n"
     ]
    },
    {
     "name": "stderr",
     "output_type": "stream",
     "text": [
      "Progress:  51%|█████     | 152/300 [43:47<44:17, 17.95s/it]"
     ]
    },
    {
     "name": "stdout",
     "output_type": "stream",
     "text": [
      "Time to: Calculate Ground State - 1.33s, Get Pauli Ops - 7.68s, Calculate Pauli Expectation Values - 7.98s, Calculate Covariance - 2.41s\n",
      "f0,f1,f2 = [4.140130621642752e-09, 4.140130621623275e-09, 4.1401306216914215e-09]\n",
      "d01,d02,d12 = [0.9050436210562837, 0.9050436210543183, 0.9050436210553118]\n"
     ]
    },
    {
     "name": "stderr",
     "output_type": "stream",
     "text": [
      "Progress:  51%|█████     | 153/300 [44:02<42:17, 17.26s/it]"
     ]
    },
    {
     "name": "stdout",
     "output_type": "stream",
     "text": [
      "Time to: Calculate Ground State - 1.28s, Get Pauli Ops - 4.7s, Calculate Pauli Expectation Values - 7.89s, Calculate Covariance - 1.78s\n",
      "f0,f1,f2 = [5.119691017898722e-09, 5.1196910179133345e-09, 5.1196910179850006e-09]\n",
      "d01,d02,d12 = [0.9168546404879958, 0.9168546404858484, 0.9168546404871204]\n"
     ]
    },
    {
     "name": "stderr",
     "output_type": "stream",
     "text": [
      "Progress:  51%|█████▏    | 154/300 [44:18<40:55, 16.82s/it]"
     ]
    },
    {
     "name": "stdout",
     "output_type": "stream",
     "text": [
      "Time to: Calculate Ground State - 1.01s, Get Pauli Ops - 5.1s, Calculate Pauli Expectation Values - 7.92s, Calculate Covariance - 1.74s\n",
      "f0,f1,f2 = [4.22791671075052e-09, 4.227916710712621e-09, 4.22791671080136e-09]\n",
      "d01,d02,d12 = [0.9302933763107413, 0.9302933763084573, 0.9302933763099877]\n"
     ]
    },
    {
     "name": "stderr",
     "output_type": "stream",
     "text": [
      "Progress:  52%|█████▏    | 155/300 [44:34<40:15, 16.66s/it]"
     ]
    },
    {
     "name": "stdout",
     "output_type": "stream",
     "text": [
      "Time to: Calculate Ground State - 1.26s, Get Pauli Ops - 5.15s, Calculate Pauli Expectation Values - 8.05s, Calculate Covariance - 1.81s\n",
      "f0,f1,f2 = [2.3927417290294415e-09, 2.3927417289761454e-09, 2.3927417290322642e-09]\n",
      "d01,d02,d12 = [0.9445814746030858, 0.944581474600682, 0.9445814746024519]\n"
     ]
    },
    {
     "name": "stderr",
     "output_type": "stream",
     "text": [
      "/cluster/home/mskrabulis/miniconda3/envs/quantech/lib/python3.9/site-packages/pyscf/symm/Dmatrix.py:156: RuntimeWarning: invalid value encountered in arccos\n",
      "  gamma = numpy.arccos(yp.dot(c2[1]))\n",
      "Progress:  52%|█████▏    | 156/300 [44:53<41:41, 17.37s/it]"
     ]
    },
    {
     "name": "stdout",
     "output_type": "stream",
     "text": [
      "Time to: Calculate Ground State - 1.0s, Get Pauli Ops - 4.51s, Calculate Pauli Expectation Values - 11.35s, Calculate Covariance - 2.17s\n",
      "f0,f1,f2 = [1.5500639095593904e-09, 1.5500639095215541e-09, 1.5500639095926332e-09]\n",
      "d01,d02,d12 = [0.9593606362118787, 0.9593606362093625, 0.9593606362113772]\n"
     ]
    },
    {
     "name": "stderr",
     "output_type": "stream",
     "text": [
      "Progress:  52%|█████▏    | 157/300 [45:11<41:37, 17.47s/it]"
     ]
    },
    {
     "name": "stdout",
     "output_type": "stream",
     "text": [
      "Time to: Calculate Ground State - 0.76s, Get Pauli Ops - 5.18s, Calculate Pauli Expectation Values - 10.23s, Calculate Covariance - 1.53s\n",
      "f0,f1,f2 = [1.5780728263101796e-09, 1.5780728262809045e-09, 1.5780728263749665e-09]\n",
      "d01,d02,d12 = [0.9746375343011433, 0.9746375342985588, 0.9746375343008052]\n"
     ]
    },
    {
     "name": "stderr",
     "output_type": "stream",
     "text": [
      "Progress:  53%|█████▎    | 158/300 [45:29<41:41, 17.61s/it]"
     ]
    },
    {
     "name": "stdout",
     "output_type": "stream",
     "text": [
      "Time to: Calculate Ground State - 1.22s, Get Pauli Ops - 4.49s, Calculate Pauli Expectation Values - 9.94s, Calculate Covariance - 2.3s\n",
      "f0,f1,f2 = [5.907420116714631e-10, 5.907420116332186e-10, 5.907420116855554e-10]\n",
      "d01,d02,d12 = [0.9899974678189154, 0.9899974678162776, 0.9899974678187493]\n"
     ]
    },
    {
     "name": "stderr",
     "output_type": "stream",
     "text": [
      "Progress:  53%|█████▎    | 159/300 [45:45<40:27, 17.21s/it]"
     ]
    },
    {
     "name": "stdout",
     "output_type": "stream",
     "text": [
      "Time to: Calculate Ground State - 1.11s, Get Pauli Ops - 4.96s, Calculate Pauli Expectation Values - 7.99s, Calculate Covariance - 2.22s\n",
      "f0,f1,f2 = [3.92866265702904e-10, 3.9286626577549585e-10, 3.928662657556764e-10]\n",
      "d01,d02,d12 = [1.0050315858747079, 1.005031585872024, 1.005031585874727]\n"
     ]
    },
    {
     "name": "stderr",
     "output_type": "stream",
     "text": [
      "Progress:  53%|█████▎    | 160/300 [46:05<41:50, 17.93s/it]"
     ]
    },
    {
     "name": "stdout",
     "output_type": "stream",
     "text": [
      "Time to: Calculate Ground State - 1.51s, Get Pauli Ops - 5.12s, Calculate Pauli Expectation Values - 10.83s, Calculate Covariance - 2.15s\n",
      "f0,f1,f2 = [2.5281511790900162e-09, 2.5281511790479607e-09, 2.5281511790723803e-09]\n",
      "d01,d02,d12 = [1.0188574919272995, 1.0188574919245739, 1.018857491927509]\n"
     ]
    },
    {
     "name": "stderr",
     "output_type": "stream",
     "text": [
      "/cluster/home/mskrabulis/miniconda3/envs/quantech/lib/python3.9/site-packages/pyscf/symm/Dmatrix.py:156: RuntimeWarning: invalid value encountered in arccos\n",
      "  gamma = numpy.arccos(yp.dot(c2[1]))\n",
      "Progress:  54%|█████▎    | 161/300 [46:22<40:39, 17.55s/it]"
     ]
    },
    {
     "name": "stdout",
     "output_type": "stream",
     "text": [
      "Time to: Calculate Ground State - 1.02s, Get Pauli Ops - 4.56s, Calculate Pauli Expectation Values - 8.65s, Calculate Covariance - 2.41s\n",
      "f0,f1,f2 = [1.4562780695836812e-09, 1.456278069595737e-09, 1.4562780695387926e-09]\n",
      "d01,d02,d12 = [1.0319326076716715, 1.0319326076689337, 1.0319326076720903]\n"
     ]
    },
    {
     "name": "stderr",
     "output_type": "stream",
     "text": [
      "Progress:  54%|█████▍    | 162/300 [46:38<39:52, 17.34s/it]"
     ]
    },
    {
     "name": "stdout",
     "output_type": "stream",
     "text": [
      "Time to: Calculate Ground State - 1.04s, Get Pauli Ops - 6.08s, Calculate Pauli Expectation Values - 8.22s, Calculate Covariance - 1.51s\n",
      "f0,f1,f2 = [2.1260254855171136e-09, 2.12602548556246e-09, 2.1260254855210688e-09]\n",
      "d01,d02,d12 = [1.043986933515787, 1.0439869335130438, 1.0439869335164176]\n"
     ]
    },
    {
     "name": "stderr",
     "output_type": "stream",
     "text": [
      "Progress:  54%|█████▍    | 163/300 [46:57<40:31, 17.75s/it]"
     ]
    },
    {
     "name": "stdout",
     "output_type": "stream",
     "text": [
      "Time to: Calculate Ground State - 1.25s, Get Pauli Ops - 7.12s, Calculate Pauli Expectation Values - 8.26s, Calculate Covariance - 2.07s\n",
      "f0,f1,f2 = [9.03705391173606e-10, 9.037053912523661e-10, 9.037053911812492e-10]\n",
      "d01,d02,d12 = [1.055538270099278, 1.055538270096552, 1.055538270100116]\n"
     ]
    },
    {
     "name": "stderr",
     "output_type": "stream",
     "text": [
      "Progress:  55%|█████▍    | 164/300 [47:15<40:29, 17.86s/it]"
     ]
    },
    {
     "name": "stdout",
     "output_type": "stream",
     "text": [
      "Time to: Calculate Ground State - 1.22s, Get Pauli Ops - 7.03s, Calculate Pauli Expectation Values - 7.97s, Calculate Covariance - 1.91s\n",
      "f0,f1,f2 = [4.737362654731354e-10, 4.73736265525074e-10, 4.737362655048929e-10]\n",
      "d01,d02,d12 = [1.0667701928470772, 1.0667701928443636, 1.0667701928481073]\n"
     ]
    },
    {
     "name": "stderr",
     "output_type": "stream",
     "text": [
      "/cluster/home/mskrabulis/miniconda3/envs/quantech/lib/python3.9/site-packages/pyscf/symm/Dmatrix.py:156: RuntimeWarning: invalid value encountered in arccos\n",
      "  gamma = numpy.arccos(yp.dot(c2[1]))\n",
      "Progress:  55%|█████▌    | 165/300 [47:31<38:35, 17.15s/it]"
     ]
    },
    {
     "name": "stdout",
     "output_type": "stream",
     "text": [
      "Time to: Calculate Ground State - 1.02s, Get Pauli Ops - 4.59s, Calculate Pauli Expectation Values - 8.18s, Calculate Covariance - 1.68s\n",
      "f0,f1,f2 = [3.738284146448066e-09, 3.738284146502804e-09, 3.738284146495788e-09]\n",
      "d01,d02,d12 = [1.0763315993339835, 1.0763315993312983, 1.076331599335183]\n"
     ]
    },
    {
     "name": "stderr",
     "output_type": "stream",
     "text": [
      "Progress:  55%|█████▌    | 166/300 [47:47<37:38, 16.85s/it]"
     ]
    },
    {
     "name": "stdout",
     "output_type": "stream",
     "text": [
      "Time to: Calculate Ground State - 0.96s, Get Pauli Ops - 5.19s, Calculate Pauli Expectation Values - 8.07s, Calculate Covariance - 1.93s\n",
      "f0,f1,f2 = [1.7355228991847514e-09, 1.7355228991895374e-09, 1.7355228992053304e-09]\n",
      "d01,d02,d12 = [1.0850710232467327, 1.0850710232440908, 1.0850710232480956]\n"
     ]
    },
    {
     "name": "stderr",
     "output_type": "stream",
     "text": [
      "/cluster/home/mskrabulis/miniconda3/envs/quantech/lib/python3.9/site-packages/pyscf/symm/Dmatrix.py:156: RuntimeWarning: invalid value encountered in arccos\n",
      "  gamma = numpy.arccos(yp.dot(c2[1]))\n",
      "Progress:  56%|█████▌    | 167/300 [48:03<36:32, 16.48s/it]"
     ]
    },
    {
     "name": "stdout",
     "output_type": "stream",
     "text": [
      "Time to: Calculate Ground State - 1.08s, Get Pauli Ops - 4.52s, Calculate Pauli Expectation Values - 8.02s, Calculate Covariance - 2.0s\n",
      "f0,f1,f2 = [4.896762315019349e-09, 4.896762315055843e-09, 4.896762314996489e-09]\n",
      "d01,d02,d12 = [1.0916856333733027, 1.0916856333707075, 1.091685633374817]\n"
     ]
    },
    {
     "name": "stderr",
     "output_type": "stream",
     "text": [
      "/cluster/home/mskrabulis/miniconda3/envs/quantech/lib/python3.9/site-packages/pyscf/symm/Dmatrix.py:156: RuntimeWarning: invalid value encountered in arccos\n",
      "  gamma = numpy.arccos(yp.dot(c2[1]))\n",
      "Progress:  56%|█████▌    | 168/300 [48:19<36:07, 16.42s/it]"
     ]
    },
    {
     "name": "stdout",
     "output_type": "stream",
     "text": [
      "Time to: Calculate Ground State - 0.92s, Get Pauli Ops - 4.65s, Calculate Pauli Expectation Values - 8.36s, Calculate Covariance - 2.33s\n",
      "f0,f1,f2 = [3.665863855031125e-09, 3.6658638550658567e-09, 3.6658638550418954e-09]\n",
      "d01,d02,d12 = [1.0967087029439089, 1.0967087029413696, 1.0967087029455662]\n"
     ]
    },
    {
     "name": "stderr",
     "output_type": "stream",
     "text": [
      "Progress:  56%|█████▋    | 169/300 [48:34<35:21, 16.19s/it]"
     ]
    },
    {
     "name": "stdout",
     "output_type": "stream",
     "text": [
      "Time to: Calculate Ground State - 1.26s, Get Pauli Ops - 4.5s, Calculate Pauli Expectation Values - 7.88s, Calculate Covariance - 2.01s\n",
      "f0,f1,f2 = [4.2637325156785055e-09, 4.263732515694709e-09, 4.2637325156594506e-09]\n",
      "d01,d02,d12 = [1.0999091693479186, 1.0999091693454441, 1.099909169349703]\n"
     ]
    },
    {
     "name": "stderr",
     "output_type": "stream",
     "text": [
      "/cluster/home/mskrabulis/miniconda3/envs/quantech/lib/python3.9/site-packages/pyscf/symm/Dmatrix.py:156: RuntimeWarning: invalid value encountered in arccos\n",
      "  gamma = numpy.arccos(yp.dot(c2[1]))\n",
      "Progress:  57%|█████▋    | 170/300 [48:50<34:41, 16.01s/it]"
     ]
    },
    {
     "name": "stdout",
     "output_type": "stream",
     "text": [
      "Time to: Calculate Ground State - 0.95s, Get Pauli Ops - 5.01s, Calculate Pauli Expectation Values - 7.81s, Calculate Covariance - 1.8s\n",
      "f0,f1,f2 = [4.073844055689676e-09, 4.073844055784134e-09, 4.073844055779127e-09]\n",
      "d01,d02,d12 = [1.1013852917997706, 1.1013852917973703, 1.1013852918016702]\n"
     ]
    },
    {
     "name": "stderr",
     "output_type": "stream",
     "text": [
      "Progress:  57%|█████▋    | 171/300 [49:08<35:29, 16.51s/it]"
     ]
    },
    {
     "name": "stdout",
     "output_type": "stream",
     "text": [
      "Time to: Calculate Ground State - 1.27s, Get Pauli Ops - 6.65s, Calculate Pauli Expectation Values - 7.99s, Calculate Covariance - 1.76s\n",
      "f0,f1,f2 = [4.871802479372086e-09, 4.8718024794193175e-09, 4.871802479423226e-09]\n",
      "d01,d02,d12 = [1.1008244814013128, 1.1008244813989962, 1.1008244814033055]\n"
     ]
    },
    {
     "name": "stderr",
     "output_type": "stream",
     "text": [
      "/cluster/home/mskrabulis/miniconda3/envs/quantech/lib/python3.9/site-packages/pyscf/symm/Dmatrix.py:156: RuntimeWarning: invalid value encountered in arccos\n",
      "  gamma = numpy.arccos(yp.dot(c2[1]))\n",
      "Progress:  57%|█████▋    | 172/300 [49:27<37:08, 17.41s/it]"
     ]
    },
    {
     "name": "stdout",
     "output_type": "stream",
     "text": [
      "Time to: Calculate Ground State - 0.94s, Get Pauli Ops - 4.32s, Calculate Pauli Expectation Values - 12.38s, Calculate Covariance - 1.85s\n",
      "f0,f1,f2 = [2.857490029012498e-09, 2.857490029075599e-09, 2.857490029046471e-09]\n",
      "d01,d02,d12 = [1.0990842096639548, 1.099084209661735, 1.0990842096660285]\n"
     ]
    },
    {
     "name": "stderr",
     "output_type": "stream",
     "text": [
      "/cluster/home/mskrabulis/miniconda3/envs/quantech/lib/python3.9/site-packages/pyscf/symm/Dmatrix.py:156: RuntimeWarning: invalid value encountered in arccos\n",
      "  gamma = numpy.arccos(yp.dot(c2[1]))\n",
      "Progress:  58%|█████▊    | 173/300 [49:44<36:36, 17.29s/it]"
     ]
    },
    {
     "name": "stdout",
     "output_type": "stream",
     "text": [
      "Time to: Calculate Ground State - 1.37s, Get Pauli Ops - 6.12s, Calculate Pauli Expectation Values - 7.86s, Calculate Covariance - 1.67s\n",
      "f0,f1,f2 = [2.7599137651901117e-09, 2.7599137652657954e-09, 2.7599137652069597e-09]\n",
      "d01,d02,d12 = [1.0962175792448086, 1.0962175792427111, 1.0962175792469595]\n"
     ]
    },
    {
     "name": "stderr",
     "output_type": "stream",
     "text": [
      "Progress:  58%|█████▊    | 174/300 [50:01<36:12, 17.24s/it]"
     ]
    },
    {
     "name": "stdout",
     "output_type": "stream",
     "text": [
      "Time to: Calculate Ground State - 0.95s, Get Pauli Ops - 4.98s, Calculate Pauli Expectation Values - 9.42s, Calculate Covariance - 1.76s\n",
      "f0,f1,f2 = [2.2514835131968644e-09, 2.2514835132380563e-09, 2.25148351320184e-09]\n",
      "d01,d02,d12 = [1.0924475598356094, 1.0924475598336418, 1.0924475598378294]\n"
     ]
    },
    {
     "name": "stderr",
     "output_type": "stream",
     "text": [
      "Progress:  58%|█████▊    | 175/300 [50:19<36:20, 17.44s/it]"
     ]
    },
    {
     "name": "stdout",
     "output_type": "stream",
     "text": [
      "Time to: Calculate Ground State - 1.11s, Get Pauli Ops - 4.54s, Calculate Pauli Expectation Values - 10.04s, Calculate Covariance - 2.21s\n",
      "f0,f1,f2 = [3.0501684287145273e-09, 3.0501684287682187e-09, 3.0501684287487796e-09]\n",
      "d01,d02,d12 = [1.0874524470144202, 1.087452447012587, 1.087452447016694]\n"
     ]
    },
    {
     "name": "stderr",
     "output_type": "stream",
     "text": [
      "Progress:  59%|█████▊    | 176/300 [50:36<35:31, 17.19s/it]"
     ]
    },
    {
     "name": "stdout",
     "output_type": "stream",
     "text": [
      "Time to: Calculate Ground State - 0.78s, Get Pauli Ops - 6.62s, Calculate Pauli Expectation Values - 7.58s, Calculate Covariance - 1.61s\n",
      "f0,f1,f2 = [2.717212491354741e-09, 2.7172124913732212e-09, 2.717212491344085e-09]\n",
      "d01,d02,d12 = [1.0813834282845338, 1.0813834282828456, 1.0813834282868666]\n"
     ]
    },
    {
     "name": "stderr",
     "output_type": "stream",
     "text": [
      "/cluster/home/mskrabulis/miniconda3/envs/quantech/lib/python3.9/site-packages/pyscf/symm/Dmatrix.py:156: RuntimeWarning: invalid value encountered in arccos\n",
      "  gamma = numpy.arccos(yp.dot(c2[1]))\n",
      "/cluster/home/mskrabulis/miniconda3/envs/quantech/lib/python3.9/site-packages/pyscf/symm/Dmatrix.py:156: RuntimeWarning: invalid value encountered in arccos\n",
      "  gamma = numpy.arccos(yp.dot(c2[1]))\n",
      "Progress:  59%|█████▉    | 177/300 [50:51<34:08, 16.66s/it]"
     ]
    },
    {
     "name": "stdout",
     "output_type": "stream",
     "text": [
      "Time to: Calculate Ground State - 0.88s, Get Pauli Ops - 4.04s, Calculate Pauli Expectation Values - 8.8s, Calculate Covariance - 1.69s\n",
      "f0,f1,f2 = [4.327169470805795e-09, 4.327169470830549e-09, 4.327169470872365e-09]\n",
      "d01,d02,d12 = [1.0735840066421318, 1.0735840066405904, 1.0735840066445062]\n"
     ]
    },
    {
     "name": "stderr",
     "output_type": "stream",
     "text": [
      "Progress:  59%|█████▉    | 178/300 [51:08<34:08, 16.79s/it]"
     ]
    },
    {
     "name": "stdout",
     "output_type": "stream",
     "text": [
      "Time to: Calculate Ground State - 1.16s, Get Pauli Ops - 6.12s, Calculate Pauli Expectation Values - 8.04s, Calculate Covariance - 1.77s\n",
      "f0,f1,f2 = [2.2095798317490697e-09, 2.2095798317600555e-09, 2.2095798317943967e-09]\n",
      "d01,d02,d12 = [1.0649510678675265, 1.0649510678661356, 1.0649510678699325]\n"
     ]
    },
    {
     "name": "stderr",
     "output_type": "stream",
     "text": [
      "Progress:  60%|█████▉    | 179/300 [51:26<34:32, 17.13s/it]"
     ]
    },
    {
     "name": "stdout",
     "output_type": "stream",
     "text": [
      "Time to: Calculate Ground State - 1.04s, Get Pauli Ops - 7.14s, Calculate Pauli Expectation Values - 7.97s, Calculate Covariance - 1.75s\n",
      "f0,f1,f2 = [3.2231431562040823e-09, 3.223143156235147e-09, 3.2231431562626926e-09]\n",
      "d01,d02,d12 = [1.0550729047762726, 1.055072904775043, 1.0550729047787015]\n"
     ]
    },
    {
     "name": "stderr",
     "output_type": "stream",
     "text": [
      "Progress:  60%|██████    | 180/300 [51:43<34:05, 17.04s/it]"
     ]
    },
    {
     "name": "stdout",
     "output_type": "stream",
     "text": [
      "Time to: Calculate Ground State - 1.15s, Get Pauli Ops - 5.92s, Calculate Pauli Expectation Values - 7.85s, Calculate Covariance - 1.92s\n",
      "f0,f1,f2 = [2.1820500010740174e-09, 2.1820500011304154e-09, 2.182050001116912e-09]\n",
      "d01,d02,d12 = [1.0443945654405051, 1.0443945654394418, 1.0443945654429432]\n"
     ]
    },
    {
     "name": "stderr",
     "output_type": "stream",
     "text": [
      "/cluster/home/mskrabulis/miniconda3/envs/quantech/lib/python3.9/site-packages/pyscf/symm/Dmatrix.py:156: RuntimeWarning: invalid value encountered in arccos\n",
      "  gamma = numpy.arccos(yp.dot(c2[1]))\n",
      "Progress:  60%|██████    | 181/300 [52:03<35:25, 17.86s/it]"
     ]
    },
    {
     "name": "stdout",
     "output_type": "stream",
     "text": [
      "Time to: Calculate Ground State - 1.4s, Get Pauli Ops - 5.97s, Calculate Pauli Expectation Values - 10.23s, Calculate Covariance - 2.14s\n",
      "f0,f1,f2 = [2.9315448863402387e-09, 2.9315448863610617e-09, 2.931544886359268e-09]\n",
      "d01,d02,d12 = [1.0326134987733657, 1.0326134987724787, 1.032613498775799]\n"
     ]
    },
    {
     "name": "stderr",
     "output_type": "stream",
     "text": [
      "/cluster/home/mskrabulis/miniconda3/envs/quantech/lib/python3.9/site-packages/pyscf/symm/Dmatrix.py:156: RuntimeWarning: invalid value encountered in arccos\n",
      "  gamma = numpy.arccos(yp.dot(c2[1]))\n",
      "Progress:  61%|██████    | 182/300 [52:18<33:39, 17.11s/it]"
     ]
    },
    {
     "name": "stdout",
     "output_type": "stream",
     "text": [
      "Time to: Calculate Ground State - 0.9s, Get Pauli Ops - 4.22s, Calculate Pauli Expectation Values - 8.56s, Calculate Covariance - 1.68s\n",
      "f0,f1,f2 = [2.4596302993295852e-09, 2.4596302992876873e-09, 2.4596302993450882e-09]\n",
      "d01,d02,d12 = [1.0199370765574236, 1.0199370765567137, 1.0199370765598432]\n"
     ]
    },
    {
     "name": "stderr",
     "output_type": "stream",
     "text": [
      "/cluster/home/mskrabulis/miniconda3/envs/quantech/lib/python3.9/site-packages/pyscf/symm/Dmatrix.py:156: RuntimeWarning: invalid value encountered in arccos\n",
      "  gamma = numpy.arccos(yp.dot(c2[1]))\n",
      "Progress:  61%|██████    | 183/300 [52:38<35:01, 17.96s/it]"
     ]
    },
    {
     "name": "stdout",
     "output_type": "stream",
     "text": [
      "Time to: Calculate Ground State - 1.41s, Get Pauli Ops - 5.71s, Calculate Pauli Expectation Values - 10.63s, Calculate Covariance - 2.19s\n",
      "f0,f1,f2 = [1.0060056081758945e-09, 1.006005608185493e-09, 1.0060056082537688e-09]\n",
      "d01,d02,d12 = [1.006977751295103, 1.006977751294562, 1.0069777512974831]\n"
     ]
    },
    {
     "name": "stderr",
     "output_type": "stream",
     "text": [
      "Progress:  61%|██████▏   | 184/300 [52:55<34:16, 17.73s/it]"
     ]
    },
    {
     "name": "stdout",
     "output_type": "stream",
     "text": [
      "Time to: Calculate Ground State - 0.85s, Get Pauli Ops - 4.91s, Calculate Pauli Expectation Values - 9.21s, Calculate Covariance - 2.22s\n",
      "f0,f1,f2 = [2.47517102349304e-09, 2.4751710235531103e-09, 2.475171023486023e-09]\n",
      "d01,d02,d12 = [0.9931289579517414, 0.9931289579513876, 0.9931289579540651]\n"
     ]
    },
    {
     "name": "stderr",
     "output_type": "stream",
     "text": [
      "Progress:  62%|██████▏   | 185/300 [53:15<34:55, 18.22s/it]"
     ]
    },
    {
     "name": "stdout",
     "output_type": "stream",
     "text": [
      "Time to: Calculate Ground State - 1.17s, Get Pauli Ops - 5.21s, Calculate Pauli Expectation Values - 11.11s, Calculate Covariance - 1.85s\n",
      "f0,f1,f2 = [2.308257220878393e-10, 2.3082572215154126e-10, 2.3082572211167211e-10]\n",
      "d01,d02,d12 = [0.9793312078914949, 0.9793312078913472, 0.9793312078937764]\n"
     ]
    },
    {
     "name": "stderr",
     "output_type": "stream",
     "text": [
      "/cluster/home/mskrabulis/miniconda3/envs/quantech/lib/python3.9/site-packages/pyscf/symm/Dmatrix.py:156: RuntimeWarning: invalid value encountered in arccos\n",
      "  gamma = numpy.arccos(yp.dot(c2[1]))\n",
      "Progress:  62%|██████▏   | 186/300 [53:31<33:16, 17.52s/it]"
     ]
    },
    {
     "name": "stdout",
     "output_type": "stream",
     "text": [
      "Time to: Calculate Ground State - 1.12s, Get Pauli Ops - 4.0s, Calculate Pauli Expectation Values - 9.35s, Calculate Covariance - 1.4s\n",
      "f0,f1,f2 = [1.277300579370379e-10, 1.277300578793142e-10, 1.2773005786748642e-10]\n",
      "d01,d02,d12 = [0.9657327655654848, 0.9657327655655401, 0.9657327655677098]\n"
     ]
    },
    {
     "name": "stderr",
     "output_type": "stream",
     "text": [
      "Progress:  62%|██████▏   | 187/300 [53:46<31:53, 16.93s/it]"
     ]
    },
    {
     "name": "stdout",
     "output_type": "stream",
     "text": [
      "Time to: Calculate Ground State - 1.21s, Get Pauli Ops - 4.3s, Calculate Pauli Expectation Values - 7.98s, Calculate Covariance - 2.06s\n",
      "f0,f1,f2 = [6.035685110208637e-10, 6.035685109784677e-10, 6.035685110046282e-10]\n",
      "d01,d02,d12 = [0.9525290471049666, 0.9525290471052291, 0.9525290471071167]\n"
     ]
    },
    {
     "name": "stderr",
     "output_type": "stream",
     "text": [
      "Progress:  63%|██████▎   | 188/300 [54:03<31:25, 16.84s/it]"
     ]
    },
    {
     "name": "stdout",
     "output_type": "stream",
     "text": [
      "Time to: Calculate Ground State - 1.31s, Get Pauli Ops - 4.02s, Calculate Pauli Expectation Values - 9.58s, Calculate Covariance - 1.7s\n",
      "f0,f1,f2 = [8.288391619084174e-10, 8.28839161875683e-10, 8.288391618727352e-10]\n",
      "d01,d02,d12 = [0.939809502470625, 0.939809502471091, 0.9398095024726828]\n"
     ]
    },
    {
     "name": "stderr",
     "output_type": "stream",
     "text": [
      "/cluster/home/mskrabulis/miniconda3/envs/quantech/lib/python3.9/site-packages/pyscf/symm/Dmatrix.py:156: RuntimeWarning: invalid value encountered in arccos\n",
      "  gamma = numpy.arccos(yp.dot(c2[1]))\n",
      "Progress:  63%|██████▎   | 189/300 [54:21<32:04, 17.34s/it]"
     ]
    },
    {
     "name": "stdout",
     "output_type": "stream",
     "text": [
      "Time to: Calculate Ground State - 1.27s, Get Pauli Ops - 7.79s, Calculate Pauli Expectation Values - 7.97s, Calculate Covariance - 1.47s\n",
      "f0,f1,f2 = [1.3846596939617496e-09, 1.3846596939083131e-09, 1.3846596939438984e-09]\n",
      "d01,d02,d12 = [0.9277998100202249, 0.9277998100209018, 0.9277998100221918]\n"
     ]
    },
    {
     "name": "stderr",
     "output_type": "stream",
     "text": [
      "/cluster/home/mskrabulis/miniconda3/envs/quantech/lib/python3.9/site-packages/pyscf/symm/Dmatrix.py:156: RuntimeWarning: invalid value encountered in arccos\n",
      "  gamma = numpy.arccos(yp.dot(c2[1]))\n",
      "Progress:  63%|██████▎   | 190/300 [54:39<32:12, 17.57s/it]"
     ]
    },
    {
     "name": "stdout",
     "output_type": "stream",
     "text": [
      "Time to: Calculate Ground State - 0.75s, Get Pauli Ops - 4.44s, Calculate Pauli Expectation Values - 10.61s, Calculate Covariance - 2.3s\n",
      "f0,f1,f2 = [2.0823575512728364e-09, 2.0823575512033434e-09, 2.08235755117204e-09]\n",
      "d01,d02,d12 = [0.9167821281218576, 0.916782128122734, 0.9167821281237049]\n"
     ]
    },
    {
     "name": "stderr",
     "output_type": "stream",
     "text": [
      "/cluster/home/mskrabulis/miniconda3/envs/quantech/lib/python3.9/site-packages/pyscf/symm/Dmatrix.py:156: RuntimeWarning: invalid value encountered in arccos\n",
      "  gamma = numpy.arccos(yp.dot(c2[1]))\n",
      "Progress:  64%|██████▎   | 191/300 [54:57<32:11, 17.72s/it]"
     ]
    },
    {
     "name": "stdout",
     "output_type": "stream",
     "text": [
      "Time to: Calculate Ground State - 1.3s, Get Pauli Ops - 4.46s, Calculate Pauli Expectation Values - 10.17s, Calculate Covariance - 2.13s\n",
      "f0,f1,f2 = [3.0390532926589193e-09, 3.039053292695215e-09, 3.0390532926525653e-09]\n",
      "d01,d02,d12 = [0.9071430421628588, 0.9071430421639269, 0.9071430421645738]\n"
     ]
    },
    {
     "name": "stderr",
     "output_type": "stream",
     "text": [
      "Progress:  64%|██████▍   | 192/300 [55:16<32:06, 17.84s/it]"
     ]
    },
    {
     "name": "stdout",
     "output_type": "stream",
     "text": [
      "Time to: Calculate Ground State - 1.06s, Get Pauli Ops - 4.56s, Calculate Pauli Expectation Values - 10.58s, Calculate Covariance - 1.91s\n",
      "f0,f1,f2 = [5.12354642955741e-09, 5.123546429562105e-09, 5.1235464295340316e-09]\n",
      "d01,d02,d12 = [0.8997328297680711, 0.8997328297693197, 0.8997328297696378]\n"
     ]
    },
    {
     "name": "stderr",
     "output_type": "stream",
     "text": [
      "Progress:  64%|██████▍   | 193/300 [55:33<31:45, 17.81s/it]"
     ]
    },
    {
     "name": "stdout",
     "output_type": "stream",
     "text": [
      "Time to: Calculate Ground State - 1.36s, Get Pauli Ops - 4.02s, Calculate Pauli Expectation Values - 10.69s, Calculate Covariance - 1.67s\n",
      "f0,f1,f2 = [4.755589149975523e-09, 4.755589149978342e-09, 4.755589149962564e-09]\n",
      "d01,d02,d12 = [0.8943751097689545, 0.8943751097703678, 0.8943751097703546]\n"
     ]
    },
    {
     "name": "stderr",
     "output_type": "stream",
     "text": [
      "Progress:  65%|██████▍   | 194/300 [55:51<31:18, 17.72s/it]"
     ]
    },
    {
     "name": "stdout",
     "output_type": "stream",
     "text": [
      "Time to: Calculate Ground State - 1.26s, Get Pauli Ops - 6.17s, Calculate Pauli Expectation Values - 8.07s, Calculate Covariance - 2.0s\n",
      "f0,f1,f2 = [3.79791069918979e-09, 3.7979106992189785e-09, 3.797910699145177e-09]\n",
      "d01,d02,d12 = [0.8906506252662949, 0.8906506252678361, 0.8906506252675034]\n"
     ]
    },
    {
     "name": "stderr",
     "output_type": "stream",
     "text": [
      "/cluster/home/mskrabulis/miniconda3/envs/quantech/lib/python3.9/site-packages/pyscf/symm/Dmatrix.py:156: RuntimeWarning: invalid value encountered in arccos\n",
      "  gamma = numpy.arccos(yp.dot(c2[1]))\n",
      "Progress:  65%|██████▌   | 195/300 [56:07<30:00, 17.15s/it]"
     ]
    },
    {
     "name": "stdout",
     "output_type": "stream",
     "text": [
      "Time to: Calculate Ground State - 1.32s, Get Pauli Ops - 4.17s, Calculate Pauli Expectation Values - 8.39s, Calculate Covariance - 1.93s\n",
      "f0,f1,f2 = [5.2099727959707805e-09, 5.209972796013972e-09, 5.209972795960517e-09]\n",
      "d01,d02,d12 = [0.8891276670348667, 0.8891276670365081, 0.889127667035871]\n"
     ]
    },
    {
     "name": "stderr",
     "output_type": "stream",
     "text": [
      "/cluster/home/mskrabulis/miniconda3/envs/quantech/lib/python3.9/site-packages/pyscf/symm/Dmatrix.py:156: RuntimeWarning: invalid value encountered in arccos\n",
      "  gamma = numpy.arccos(yp.dot(c2[1]))\n",
      "Progress:  65%|██████▌   | 196/300 [56:23<29:09, 16.83s/it]"
     ]
    },
    {
     "name": "stdout",
     "output_type": "stream",
     "text": [
      "Time to: Calculate Ground State - 1.2s, Get Pauli Ops - 4.84s, Calculate Pauli Expectation Values - 8.07s, Calculate Covariance - 1.96s\n",
      "f0,f1,f2 = [4.686409019674572e-09, 4.686409019700875e-09, 4.68640901968487e-09]\n",
      "d01,d02,d12 = [0.8895653305574359, 0.8895653305591608, 0.8895653305582305]\n"
     ]
    },
    {
     "name": "stderr",
     "output_type": "stream",
     "text": [
      "/cluster/home/mskrabulis/miniconda3/envs/quantech/lib/python3.9/site-packages/pyscf/symm/Dmatrix.py:156: RuntimeWarning: invalid value encountered in arccos\n",
      "  gamma = numpy.arccos(yp.dot(c2[1]))\n",
      "Progress:  66%|██████▌   | 197/300 [56:41<29:44, 17.33s/it]"
     ]
    },
    {
     "name": "stdout",
     "output_type": "stream",
     "text": [
      "Time to: Calculate Ground State - 1.03s, Get Pauli Ops - 7.58s, Calculate Pauli Expectation Values - 7.82s, Calculate Covariance - 2.07s\n",
      "f0,f1,f2 = [5.747413955935832e-09, 5.74741395590042e-09, 5.74741395589889e-09]\n",
      "d01,d02,d12 = [0.8923826662046868, 0.8923826662064867, 0.8923826662052553]\n"
     ]
    },
    {
     "name": "stderr",
     "output_type": "stream",
     "text": [
      "/cluster/home/mskrabulis/miniconda3/envs/quantech/lib/python3.9/site-packages/pyscf/symm/Dmatrix.py:156: RuntimeWarning: invalid value encountered in arccos\n",
      "  gamma = numpy.arccos(yp.dot(c2[1]))\n",
      "Progress:  66%|██████▌   | 198/300 [56:56<28:02, 16.50s/it]"
     ]
    },
    {
     "name": "stdout",
     "output_type": "stream",
     "text": [
      "Time to: Calculate Ground State - 1.0s, Get Pauli Ops - 4.3s, Calculate Pauli Expectation Values - 7.85s, Calculate Covariance - 1.41s\n",
      "f0,f1,f2 = [4.340024653164983e-09, 4.340024653215565e-09, 4.340024653128341e-09]\n",
      "d01,d02,d12 = [0.8969701951905433, 0.8969701951924062, 0.8969701951908904]\n"
     ]
    },
    {
     "name": "stderr",
     "output_type": "stream",
     "text": [
      "Progress:  66%|██████▋   | 199/300 [57:14<28:22, 16.85s/it]"
     ]
    },
    {
     "name": "stdout",
     "output_type": "stream",
     "text": [
      "Time to: Calculate Ground State - 1.1s, Get Pauli Ops - 4.58s, Calculate Pauli Expectation Values - 10.34s, Calculate Covariance - 1.66s\n",
      "f0,f1,f2 = [3.5912905036588093e-09, 3.591290503644126e-09, 3.5912905036429428e-09]\n",
      "d01,d02,d12 = [0.9029983123300553, 0.9029983123319802, 0.90299831233018]\n"
     ]
    },
    {
     "name": "stderr",
     "output_type": "stream",
     "text": [
      "Progress:  67%|██████▋   | 200/300 [57:30<27:42, 16.62s/it]"
     ]
    },
    {
     "name": "stdout",
     "output_type": "stream",
     "text": [
      "Time to: Calculate Ground State - 1.33s, Get Pauli Ops - 4.29s, Calculate Pauli Expectation Values - 8.5s, Calculate Covariance - 1.95s\n",
      "f0,f1,f2 = [4.264199378167494e-09, 4.264199378193246e-09, 4.264199378167517e-09]\n",
      "d01,d02,d12 = [0.9107308091184785, 0.9107308091204465, 0.9107308091183748]\n"
     ]
    },
    {
     "name": "stderr",
     "output_type": "stream",
     "text": [
      "/cluster/home/mskrabulis/miniconda3/envs/quantech/lib/python3.9/site-packages/pyscf/symm/Dmatrix.py:156: RuntimeWarning: invalid value encountered in arccos\n",
      "  gamma = numpy.arccos(yp.dot(c2[1]))\n",
      "Progress:  67%|██████▋   | 201/300 [57:48<28:25, 17.23s/it]"
     ]
    },
    {
     "name": "stdout",
     "output_type": "stream",
     "text": [
      "Time to: Calculate Ground State - 1.23s, Get Pauli Ops - 8.08s, Calculate Pauli Expectation Values - 7.91s, Calculate Covariance - 1.43s\n",
      "f0,f1,f2 = [2.8082624026816516e-09, 2.808262402709896e-09, 2.8082624027028696e-09]\n",
      "d01,d02,d12 = [0.9195455506918147, 0.9195455506938133, 0.919545550691486]\n"
     ]
    },
    {
     "name": "stderr",
     "output_type": "stream",
     "text": [
      "Progress:  67%|██████▋   | 202/300 [58:05<27:40, 16.94s/it]"
     ]
    },
    {
     "name": "stdout",
     "output_type": "stream",
     "text": [
      "Time to: Calculate Ground State - 1.12s, Get Pauli Ops - 5.18s, Calculate Pauli Expectation Values - 8.45s, Calculate Covariance - 1.52s\n",
      "f0,f1,f2 = [3.243940950151186e-09, 3.243940950215479e-09, 3.2439409501324822e-09]\n",
      "d01,d02,d12 = [0.9296118875874675, 0.9296118875894764, 0.9296118875869108]\n"
     ]
    },
    {
     "name": "stderr",
     "output_type": "stream",
     "text": [
      "/cluster/home/mskrabulis/miniconda3/envs/quantech/lib/python3.9/site-packages/pyscf/symm/Dmatrix.py:156: RuntimeWarning: invalid value encountered in arccos\n",
      "  gamma = numpy.arccos(yp.dot(c2[1]))\n",
      "/cluster/home/mskrabulis/miniconda3/envs/quantech/lib/python3.9/site-packages/pyscf/symm/Dmatrix.py:156: RuntimeWarning: invalid value encountered in arccos\n",
      "  gamma = numpy.arccos(yp.dot(c2[1]))\n",
      "Progress:  68%|██████▊   | 203/300 [58:21<26:58, 16.69s/it]"
     ]
    },
    {
     "name": "stdout",
     "output_type": "stream",
     "text": [
      "Time to: Calculate Ground State - 1.22s, Get Pauli Ops - 4.33s, Calculate Pauli Expectation Values - 8.72s, Calculate Covariance - 1.82s\n",
      "f0,f1,f2 = [1.544121410850893e-09, 1.5441214109536097e-09, 1.5441214108427683e-09]\n",
      "d01,d02,d12 = [0.9402114723084293, 0.9402114723104207, 0.9402114723076475]\n"
     ]
    },
    {
     "name": "stderr",
     "output_type": "stream",
     "text": [
      "Progress:  68%|██████▊   | 204/300 [58:36<25:59, 16.24s/it]"
     ]
    },
    {
     "name": "stdout",
     "output_type": "stream",
     "text": [
      "Time to: Calculate Ground State - 1.23s, Get Pauli Ops - 4.72s, Calculate Pauli Expectation Values - 7.77s, Calculate Covariance - 1.48s\n",
      "f0,f1,f2 = [1.25118249494233e-09, 1.2511824950066388e-09, 1.2511824949653317e-09]\n",
      "d01,d02,d12 = [0.951217292418012, 0.9512172924199637, 0.9512172924170087]\n"
     ]
    },
    {
     "name": "stderr",
     "output_type": "stream",
     "text": [
      "/cluster/home/mskrabulis/miniconda3/envs/quantech/lib/python3.9/site-packages/pyscf/symm/Dmatrix.py:156: RuntimeWarning: invalid value encountered in arccos\n",
      "  gamma = numpy.arccos(yp.dot(c2[1]))\n",
      "Progress:  68%|██████▊   | 205/300 [58:51<25:02, 15.82s/it]"
     ]
    },
    {
     "name": "stdout",
     "output_type": "stream",
     "text": [
      "Time to: Calculate Ground State - 0.78s, Get Pauli Ops - 4.47s, Calculate Pauli Expectation Values - 7.52s, Calculate Covariance - 2.03s\n",
      "f0,f1,f2 = [1.2238849131558837e-09, 1.2238849131884707e-09, 1.223884913169199e-09]\n",
      "d01,d02,d12 = [0.9626138760300503, 0.9626138760319523, 0.962613876028823]\n"
     ]
    },
    {
     "name": "stderr",
     "output_type": "stream",
     "text": [
      "/cluster/home/mskrabulis/miniconda3/envs/quantech/lib/python3.9/site-packages/pyscf/symm/Dmatrix.py:156: RuntimeWarning: invalid value encountered in arccos\n",
      "  gamma = numpy.arccos(yp.dot(c2[1]))\n",
      "Progress:  69%|██████▊   | 206/300 [59:06<24:44, 15.79s/it]"
     ]
    },
    {
     "name": "stdout",
     "output_type": "stream",
     "text": [
      "Time to: Calculate Ground State - 1.07s, Get Pauli Ops - 4.58s, Calculate Pauli Expectation Values - 7.75s, Calculate Covariance - 2.33s\n",
      "f0,f1,f2 = [5.5037295096053e-10, 5.503729509916203e-10, 5.503729509537478e-10]\n",
      "d01,d02,d12 = [0.9741178000672339, 0.9741178000690738, 0.9741178000657917]\n"
     ]
    },
    {
     "name": "stderr",
     "output_type": "stream",
     "text": [
      "Progress:  69%|██████▉   | 207/300 [59:23<24:41, 15.93s/it]"
     ]
    },
    {
     "name": "stdout",
     "output_type": "stream",
     "text": [
      "Time to: Calculate Ground State - 1.34s, Get Pauli Ops - 5.18s, Calculate Pauli Expectation Values - 8.19s, Calculate Covariance - 1.54s\n",
      "f0,f1,f2 = [2.979450445484696e-11, 2.979450443028776e-11, 2.9794504492827485e-11]\n",
      "d01,d02,d12 = [0.9854873384515572, 0.9854873384533079, 0.9854873384499027]\n"
     ]
    },
    {
     "name": "stderr",
     "output_type": "stream",
     "text": [
      "Progress:  69%|██████▉   | 208/300 [59:38<24:15, 15.82s/it]"
     ]
    },
    {
     "name": "stdout",
     "output_type": "stream",
     "text": [
      "Time to: Calculate Ground State - 1.0s, Get Pauli Ops - 4.74s, Calculate Pauli Expectation Values - 7.76s, Calculate Covariance - 2.06s\n",
      "f0,f1,f2 = [6.111881329281885e-10, 6.111881329017871e-10, 6.111881328784769e-10]\n",
      "d01,d02,d12 = [0.9964827771019018, 0.9964827771035623, 0.9964827771000563]\n"
     ]
    },
    {
     "name": "stderr",
     "output_type": "stream",
     "text": [
      "/cluster/home/mskrabulis/miniconda3/envs/quantech/lib/python3.9/site-packages/pyscf/symm/Dmatrix.py:156: RuntimeWarning: invalid value encountered in arccos\n",
      "  gamma = numpy.arccos(yp.dot(c2[1]))\n",
      "Progress:  70%|██████▉   | 209/300 [59:54<24:12, 15.96s/it]"
     ]
    },
    {
     "name": "stdout",
     "output_type": "stream",
     "text": [
      "Time to: Calculate Ground State - 0.9s, Get Pauli Ops - 5.1s, Calculate Pauli Expectation Values - 8.87s, Calculate Covariance - 1.4s\n",
      "f0,f1,f2 = [5.114323173383084e-10, 5.114323172889129e-10, 5.114323172752997e-10]\n",
      "d01,d02,d12 = [1.007149486713148, 1.007149486714713, 1.0071494867111277]\n"
     ]
    },
    {
     "name": "stderr",
     "output_type": "stream",
     "text": [
      "/cluster/home/mskrabulis/miniconda3/envs/quantech/lib/python3.9/site-packages/pyscf/symm/Dmatrix.py:156: RuntimeWarning: invalid value encountered in arccos\n",
      "  gamma = numpy.arccos(yp.dot(c2[1]))\n",
      "Progress:  70%|███████   | 210/300 [1:00:10<23:40, 15.78s/it]"
     ]
    },
    {
     "name": "stdout",
     "output_type": "stream",
     "text": [
      "Time to: Calculate Ground State - 0.95s, Get Pauli Ops - 4.49s, Calculate Pauli Expectation Values - 7.94s, Calculate Covariance - 1.98s\n",
      "f0,f1,f2 = [4.104434241558435e-11, 4.1044342462327394e-11, 4.1044342414884644e-11]\n",
      "d01,d02,d12 = [1.0177201413452213, 1.0177201413466839, 1.0177201413430286]\n"
     ]
    },
    {
     "name": "stderr",
     "output_type": "stream",
     "text": [
      "Progress:  70%|███████   | 211/300 [1:00:26<23:45, 16.01s/it]"
     ]
    },
    {
     "name": "stdout",
     "output_type": "stream",
     "text": [
      "Time to: Calculate Ground State - 1.28s, Get Pauli Ops - 5.08s, Calculate Pauli Expectation Values - 8.34s, Calculate Covariance - 1.84s\n",
      "f0,f1,f2 = [2.323320252058297e-09, 2.3233202520416983e-09, 2.323320252047792e-09]\n",
      "d01,d02,d12 = [1.027214832880281, 1.0272148328816209, 1.0272148328779087]\n"
     ]
    },
    {
     "name": "stderr",
     "output_type": "stream",
     "text": [
      "Progress:  71%|███████   | 212/300 [1:00:44<24:14, 16.53s/it]"
     ]
    },
    {
     "name": "stdout",
     "output_type": "stream",
     "text": [
      "Time to: Calculate Ground State - 1.05s, Get Pauli Ops - 6.81s, Calculate Pauli Expectation Values - 7.94s, Calculate Covariance - 1.93s\n",
      "f0,f1,f2 = [2.5687615934113218e-09, 2.5687615933307635e-09, 2.5687615933689346e-09]\n",
      "d01,d02,d12 = [1.0355430955538232, 1.0355430955550389, 1.0355430955512892]\n"
     ]
    },
    {
     "name": "stderr",
     "output_type": "stream",
     "text": [
      "Progress:  71%|███████   | 213/300 [1:01:00<23:40, 16.33s/it]"
     ]
    },
    {
     "name": "stdout",
     "output_type": "stream",
     "text": [
      "Time to: Calculate Ground State - 1.16s, Get Pauli Ops - 4.57s, Calculate Pauli Expectation Values - 8.15s, Calculate Covariance - 1.98s\n",
      "f0,f1,f2 = [1.8005973327618447e-09, 1.8005973327194355e-09, 1.8005973327228642e-09]\n",
      "d01,d02,d12 = [1.0430359359024097, 1.0430359359035035, 1.0430359358997296]\n"
     ]
    },
    {
     "name": "stderr",
     "output_type": "stream",
     "text": [
      "/cluster/home/mskrabulis/miniconda3/envs/quantech/lib/python3.9/site-packages/pyscf/symm/Dmatrix.py:156: RuntimeWarning: invalid value encountered in arccos\n",
      "  gamma = numpy.arccos(yp.dot(c2[1]))\n",
      "Progress:  71%|███████▏  | 214/300 [1:01:17<23:51, 16.65s/it]"
     ]
    },
    {
     "name": "stdout",
     "output_type": "stream",
     "text": [
      "Time to: Calculate Ground State - 0.78s, Get Pauli Ops - 4.99s, Calculate Pauli Expectation Values - 9.73s, Calculate Covariance - 1.89s\n",
      "f0,f1,f2 = [2.3733399512260032e-09, 2.3733399512060823e-09, 2.373339951179403e-09]\n",
      "d01,d02,d12 = [1.0494645629755102, 1.0494645629764887, 1.0494645629726986]\n"
     ]
    },
    {
     "name": "stderr",
     "output_type": "stream",
     "text": [
      "Progress:  72%|███████▏  | 215/300 [1:01:35<23:52, 16.86s/it]"
     ]
    },
    {
     "name": "stdout",
     "output_type": "stream",
     "text": [
      "Time to: Calculate Ground State - 0.87s, Get Pauli Ops - 4.22s, Calculate Pauli Expectation Values - 10.13s, Calculate Covariance - 2.12s\n",
      "f0,f1,f2 = [2.5317167912995917e-09, 2.5317167912601977e-09, 2.5317167912866046e-09]\n",
      "d01,d02,d12 = [1.0547745354174174, 1.0547745354182774, 1.0547745354144842]\n"
     ]
    },
    {
     "name": "stderr",
     "output_type": "stream",
     "text": [
      "/cluster/home/mskrabulis/miniconda3/envs/quantech/lib/python3.9/site-packages/pyscf/symm/Dmatrix.py:156: RuntimeWarning: invalid value encountered in arccos\n",
      "  gamma = numpy.arccos(yp.dot(c2[1]))\n",
      "Progress:  72%|███████▏  | 216/300 [1:01:52<23:36, 16.86s/it]"
     ]
    },
    {
     "name": "stdout",
     "output_type": "stream",
     "text": [
      "Time to: Calculate Ground State - 1.09s, Get Pauli Ops - 5.74s, Calculate Pauli Expectation Values - 7.79s, Calculate Covariance - 2.25s\n",
      "f0,f1,f2 = [2.1981348895703465e-09, 2.198134889558057e-09, 2.198134889550378e-09]\n",
      "d01,d02,d12 = [1.059116103757105, 1.0591161037578503, 1.0591161037540602]\n"
     ]
    },
    {
     "name": "stderr",
     "output_type": "stream",
     "text": [
      "Progress:  72%|███████▏  | 217/300 [1:02:08<23:17, 16.84s/it]"
     ]
    },
    {
     "name": "stdout",
     "output_type": "stream",
     "text": [
      "Time to: Calculate Ground State - 1.29s, Get Pauli Ops - 4.69s, Calculate Pauli Expectation Values - 9.12s, Calculate Covariance - 1.67s\n",
      "f0,f1,f2 = [1.6764251202710164e-09, 1.6764251202664437e-09, 1.6764251202778627e-09]\n",
      "d01,d02,d12 = [1.0627159833172648, 1.0627159833178956, 1.0627159833141266]\n"
     ]
    },
    {
     "name": "stderr",
     "output_type": "stream",
     "text": [
      "Progress:  73%|███████▎  | 218/300 [1:02:24<22:24, 16.39s/it]"
     ]
    },
    {
     "name": "stdout",
     "output_type": "stream",
     "text": [
      "Time to: Calculate Ground State - 1.33s, Get Pauli Ops - 4.5s, Calculate Pauli Expectation Values - 7.8s, Calculate Covariance - 1.72s\n",
      "f0,f1,f2 = [2.34946370178832e-09, 2.349463701803104e-09, 2.3494637017578484e-09]\n",
      "d01,d02,d12 = [1.065302832218714, 1.0653028322192433, 1.0653028322154872]\n"
     ]
    },
    {
     "name": "stderr",
     "output_type": "stream",
     "text": [
      "/cluster/home/mskrabulis/miniconda3/envs/quantech/lib/python3.9/site-packages/pyscf/symm/Dmatrix.py:156: RuntimeWarning: invalid value encountered in arccos\n",
      "  gamma = numpy.arccos(yp.dot(c2[1]))\n",
      "Progress:  73%|███████▎  | 219/300 [1:02:39<21:34, 15.98s/it]"
     ]
    },
    {
     "name": "stdout",
     "output_type": "stream",
     "text": [
      "Time to: Calculate Ground State - 0.94s, Get Pauli Ops - 3.97s, Calculate Pauli Expectation Values - 8.14s, Calculate Covariance - 1.98s\n",
      "f0,f1,f2 = [1.7898786653960464e-09, 1.7898786653455237e-09, 1.7898786653534681e-09]\n",
      "d01,d02,d12 = [1.0671195776642746, 1.067119577664702, 1.0671195776609768]\n"
     ]
    },
    {
     "name": "stderr",
     "output_type": "stream",
     "text": [
      "/cluster/home/mskrabulis/miniconda3/envs/quantech/lib/python3.9/site-packages/pyscf/symm/Dmatrix.py:156: RuntimeWarning: invalid value encountered in arccos\n",
      "  gamma = numpy.arccos(yp.dot(c2[1]))\n",
      "Progress:  73%|███████▎  | 220/300 [1:02:57<22:23, 16.80s/it]"
     ]
    },
    {
     "name": "stdout",
     "output_type": "stream",
     "text": [
      "Time to: Calculate Ground State - 0.93s, Get Pauli Ops - 4.62s, Calculate Pauli Expectation Values - 11.37s, Calculate Covariance - 1.77s\n",
      "f0,f1,f2 = [1.3120322516893762e-09, 1.312032251650673e-09, 1.3120322516362974e-09]\n",
      "d01,d02,d12 = [1.0683726573279535, 1.0683726573282808, 1.0683726573245993]\n"
     ]
    },
    {
     "name": "stderr",
     "output_type": "stream",
     "text": [
      "Progress:  74%|███████▎  | 221/300 [1:03:13<21:44, 16.52s/it]"
     ]
    },
    {
     "name": "stdout",
     "output_type": "stream",
     "text": [
      "Time to: Calculate Ground State - 1.0s, Get Pauli Ops - 4.72s, Calculate Pauli Expectation Values - 8.09s, Calculate Covariance - 2.05s\n",
      "f0,f1,f2 = [1.2315245566317443e-09, 1.23152455661196e-09, 1.231524556577405e-09]\n",
      "d01,d02,d12 = [1.0691014730866422, 1.0691014730868778, 1.0691014730832484]\n"
     ]
    },
    {
     "name": "stderr",
     "output_type": "stream",
     "text": [
      "Progress:  74%|███████▍  | 222/300 [1:03:31<22:05, 16.99s/it]"
     ]
    },
    {
     "name": "stdout",
     "output_type": "stream",
     "text": [
      "Time to: Calculate Ground State - 1.21s, Get Pauli Ops - 5.17s, Calculate Pauli Expectation Values - 9.91s, Calculate Covariance - 1.8s\n",
      "f0,f1,f2 = [2.4461425660787835e-09, 2.446142566090939e-09, 2.4461425661005693e-09]\n",
      "d01,d02,d12 = [1.068807710408493, 1.06880771040863, 1.0688077104050477]\n"
     ]
    },
    {
     "name": "stderr",
     "output_type": "stream",
     "text": [
      "/cluster/home/mskrabulis/miniconda3/envs/quantech/lib/python3.9/site-packages/pyscf/symm/Dmatrix.py:156: RuntimeWarning: invalid value encountered in arccos\n",
      "  gamma = numpy.arccos(yp.dot(c2[1]))\n",
      "Progress:  74%|███████▍  | 223/300 [1:03:50<22:20, 17.41s/it]"
     ]
    },
    {
     "name": "stdout",
     "output_type": "stream",
     "text": [
      "Time to: Calculate Ground State - 1.08s, Get Pauli Ops - 7.4s, Calculate Pauli Expectation Values - 8.27s, Calculate Covariance - 1.62s\n",
      "f0,f1,f2 = [4.2373902759345644e-09, 4.237390275949547e-09, 4.237390275950184e-09]\n",
      "d01,d02,d12 = [1.0667591435248824, 1.0667591435249204, 1.066759143521394]\n"
     ]
    },
    {
     "name": "stderr",
     "output_type": "stream",
     "text": [
      "Progress:  75%|███████▍  | 224/300 [1:04:07<21:54, 17.30s/it]"
     ]
    },
    {
     "name": "stdout",
     "output_type": "stream",
     "text": [
      "Time to: Calculate Ground State - 0.77s, Get Pauli Ops - 6.33s, Calculate Pauli Expectation Values - 7.93s, Calculate Covariance - 1.99s\n",
      "f0,f1,f2 = [3.693496300890464e-09, 3.6934963008438543e-09, 3.6934963007495416e-09]\n",
      "d01,d02,d12 = [1.0632001049553197, 1.0632001049552795, 1.0632001049518354]\n"
     ]
    },
    {
     "name": "stderr",
     "output_type": "stream",
     "text": [
      "Progress:  75%|███████▌  | 225/300 [1:04:25<21:50, 17.47s/it]"
     ]
    },
    {
     "name": "stdout",
     "output_type": "stream",
     "text": [
      "Time to: Calculate Ground State - 1.03s, Get Pauli Ops - 6.48s, Calculate Pauli Expectation Values - 8.02s, Calculate Covariance - 2.35s\n",
      "f0,f1,f2 = [2.9603189132804596e-09, 2.9603189132219718e-09, 2.960318913260809e-09]\n",
      "d01,d02,d12 = [1.0584508350007902, 1.0584508350006683, 1.058450834997327]\n"
     ]
    },
    {
     "name": "stderr",
     "output_type": "stream",
     "text": [
      "Progress:  75%|███████▌  | 226/300 [1:04:44<22:10, 17.98s/it]"
     ]
    },
    {
     "name": "stdout",
     "output_type": "stream",
     "text": [
      "Time to: Calculate Ground State - 1.33s, Get Pauli Ops - 5.03s, Calculate Pauli Expectation Values - 10.52s, Calculate Covariance - 2.28s\n",
      "f0,f1,f2 = [2.4855636767578946e-09, 2.485563676740481e-09, 2.4855636767420885e-09]\n",
      "d01,d02,d12 = [1.0527209356137794, 1.052720935613584, 1.0527209356103446]\n"
     ]
    },
    {
     "name": "stderr",
     "output_type": "stream",
     "text": [
      "Progress:  76%|███████▌  | 227/300 [1:05:01<21:31, 17.70s/it]"
     ]
    },
    {
     "name": "stdout",
     "output_type": "stream",
     "text": [
      "Time to: Calculate Ground State - 0.95s, Get Pauli Ops - 4.49s, Calculate Pauli Expectation Values - 9.65s, Calculate Covariance - 1.93s\n",
      "f0,f1,f2 = [2.355599718912056e-09, 2.355599718883447e-09, 2.355599718902051e-09]\n",
      "d01,d02,d12 = [1.0460747196962905, 1.0460747196960138, 1.0460747196928868]\n"
     ]
    },
    {
     "name": "stderr",
     "output_type": "stream",
     "text": [
      "Progress:  76%|███████▌  | 228/300 [1:05:18<21:07, 17.61s/it]"
     ]
    },
    {
     "name": "stdout",
     "output_type": "stream",
     "text": [
      "Time to: Calculate Ground State - 1.35s, Get Pauli Ops - 6.25s, Calculate Pauli Expectation Values - 7.83s, Calculate Covariance - 1.96s\n",
      "f0,f1,f2 = [1.4479034408431656e-09, 1.4479034408442898e-09, 1.4479034408219573e-09]\n",
      "d01,d02,d12 = [1.0388984523313995, 1.038898452331039, 1.038898452328036]\n"
     ]
    },
    {
     "name": "stderr",
     "output_type": "stream",
     "text": [
      "Progress:  76%|███████▋  | 229/300 [1:05:35<20:40, 17.47s/it]"
     ]
    },
    {
     "name": "stdout",
     "output_type": "stream",
     "text": [
      "Time to: Calculate Ground State - 1.22s, Get Pauli Ops - 5.08s, Calculate Pauli Expectation Values - 8.64s, Calculate Covariance - 2.18s\n",
      "f0,f1,f2 = [2.0011548814082556e-09, 2.0011548813598312e-09, 2.0011548813588337e-09]\n",
      "d01,d02,d12 = [1.030968193024134, 1.0309681930236874, 1.0309681930208336]\n"
     ]
    },
    {
     "name": "stderr",
     "output_type": "stream",
     "text": [
      "Progress:  77%|███████▋  | 230/300 [1:05:58<22:19, 19.13s/it]"
     ]
    },
    {
     "name": "stdout",
     "output_type": "stream",
     "text": [
      "Time to: Calculate Ground State - 1.52s, Get Pauli Ops - 8.4s, Calculate Pauli Expectation Values - 10.75s, Calculate Covariance - 2.34s\n",
      "f0,f1,f2 = [2.5939931312611077e-09, 2.593993131186162e-09, 2.593993131156507e-09]\n",
      "d01,d02,d12 = [1.0220459507671658, 1.0220459507666302, 1.0220459507639559]\n"
     ]
    },
    {
     "name": "stderr",
     "output_type": "stream",
     "text": [
      "/cluster/home/mskrabulis/miniconda3/envs/quantech/lib/python3.9/site-packages/pyscf/symm/Dmatrix.py:156: RuntimeWarning: invalid value encountered in arccos\n",
      "  gamma = numpy.arccos(yp.dot(c2[1]))\n",
      "Progress:  77%|███████▋  | 231/300 [1:06:17<21:42, 18.88s/it]"
     ]
    },
    {
     "name": "stdout",
     "output_type": "stream",
     "text": [
      "Time to: Calculate Ground State - 1.25s, Get Pauli Ops - 7.03s, Calculate Pauli Expectation Values - 7.87s, Calculate Covariance - 2.13s\n",
      "f0,f1,f2 = [3.0708667909920757e-10, 3.070866790404469e-10, 3.0708667906789604e-10]\n",
      "d01,d02,d12 = [1.0130909528038532, 1.013090952803206, 1.0130909528007461]\n"
     ]
    },
    {
     "name": "stderr",
     "output_type": "stream",
     "text": [
      "/cluster/home/mskrabulis/miniconda3/envs/quantech/lib/python3.9/site-packages/pyscf/symm/Dmatrix.py:156: RuntimeWarning: invalid value encountered in arccos\n",
      "  gamma = numpy.arccos(yp.dot(c2[1]))\n",
      "Progress:  77%|███████▋  | 232/300 [1:06:37<21:59, 19.40s/it]"
     ]
    },
    {
     "name": "stdout",
     "output_type": "stream",
     "text": [
      "Time to: Calculate Ground State - 1.53s, Get Pauli Ops - 6.6s, Calculate Pauli Expectation Values - 10.55s, Calculate Covariance - 1.94s\n",
      "f0,f1,f2 = [1.0716782627001272e-10, 1.0716782627394887e-10, 1.071678262794017e-10]\n",
      "d01,d02,d12 = [1.0041864475212114, 1.0041864475204458, 1.0041864475182032]\n"
     ]
    },
    {
     "name": "stderr",
     "output_type": "stream",
     "text": [
      "Progress:  78%|███████▊  | 233/300 [1:06:56<21:20, 19.11s/it]"
     ]
    },
    {
     "name": "stdout",
     "output_type": "stream",
     "text": [
      "Time to: Calculate Ground State - 1.12s, Get Pauli Ops - 7.67s, Calculate Pauli Expectation Values - 7.9s, Calculate Covariance - 1.76s\n",
      "f0,f1,f2 = [9.575737892847052e-10, 9.57573789323488e-10, 9.575737892845501e-10]\n",
      "d01,d02,d12 = [0.9957735990367612, 0.9957735990358777, 0.9957735990338591]\n"
     ]
    },
    {
     "name": "stderr",
     "output_type": "stream",
     "text": [
      "/cluster/home/mskrabulis/miniconda3/envs/quantech/lib/python3.9/site-packages/pyscf/symm/Dmatrix.py:156: RuntimeWarning: invalid value encountered in arccos\n",
      "  gamma = numpy.arccos(yp.dot(c2[1]))\n",
      "Progress:  78%|███████▊  | 234/300 [1:07:15<21:08, 19.22s/it]"
     ]
    },
    {
     "name": "stdout",
     "output_type": "stream",
     "text": [
      "Time to: Calculate Ground State - 1.22s, Get Pauli Ops - 6.26s, Calculate Pauli Expectation Values - 10.38s, Calculate Covariance - 1.61s\n",
      "f0,f1,f2 = [4.1828941894837764e-10, 4.182894189175677e-10, 4.18289418912279e-10]\n",
      "d01,d02,d12 = [0.9872763969428394, 0.9872763969418438, 0.9872763969400794]\n"
     ]
    },
    {
     "name": "stderr",
     "output_type": "stream",
     "text": [
      "Progress:  78%|███████▊  | 235/300 [1:07:31<19:41, 18.18s/it]"
     ]
    },
    {
     "name": "stdout",
     "output_type": "stream",
     "text": [
      "Time to: Calculate Ground State - 1.2s, Get Pauli Ops - 4.17s, Calculate Pauli Expectation Values - 8.32s, Calculate Covariance - 2.05s\n",
      "f0,f1,f2 = [1.034442664313947e-09, 1.0344426642615883e-09, 1.034442664211793e-09]\n",
      "d01,d02,d12 = [0.9784401269724583, 0.9784401269713618, 0.9784401269698776]\n"
     ]
    },
    {
     "name": "stderr",
     "output_type": "stream",
     "text": [
      "Progress:  79%|███████▊  | 236/300 [1:07:49<19:16, 18.06s/it]"
     ]
    },
    {
     "name": "stdout",
     "output_type": "stream",
     "text": [
      "Time to: Calculate Ground State - 1.36s, Get Pauli Ops - 6.48s, Calculate Pauli Expectation Values - 7.85s, Calculate Covariance - 2.09s\n",
      "f0,f1,f2 = [9.915656835943714e-10, 9.915656835800583e-10, 9.915656836373358e-10]\n",
      "d01,d02,d12 = [0.9701089278349901, 0.9701089278338142, 0.9701089278326145]\n"
     ]
    },
    {
     "name": "stderr",
     "output_type": "stream",
     "text": [
      "Progress:  79%|███████▉  | 237/300 [1:08:09<19:32, 18.61s/it]"
     ]
    },
    {
     "name": "stdout",
     "output_type": "stream",
     "text": [
      "Time to: Calculate Ground State - 0.85s, Get Pauli Ops - 5.0s, Calculate Pauli Expectation Values - 11.73s, Calculate Covariance - 2.3s\n",
      "f0,f1,f2 = [1.6809197644523262e-10, 1.6809197649189473e-10, 1.6809197648597956e-10]\n",
      "d01,d02,d12 = [0.9619358573042, 0.9619358573029518, 0.9619358573020533]\n"
     ]
    },
    {
     "name": "stderr",
     "output_type": "stream",
     "text": [
      "/cluster/home/mskrabulis/miniconda3/envs/quantech/lib/python3.9/site-packages/pyscf/symm/Dmatrix.py:156: RuntimeWarning: invalid value encountered in arccos\n",
      "  gamma = numpy.arccos(yp.dot(c2[1]))\n",
      "Progress:  79%|███████▉  | 238/300 [1:08:24<18:17, 17.70s/it]"
     ]
    },
    {
     "name": "stdout",
     "output_type": "stream",
     "text": [
      "Time to: Calculate Ground State - 1.33s, Get Pauli Ops - 4.58s, Calculate Pauli Expectation Values - 7.67s, Calculate Covariance - 2.0s\n",
      "f0,f1,f2 = [1.6110905415577023e-09, 1.6110905415164843e-09, 1.6110905415495496e-09]\n",
      "d01,d02,d12 = [0.9545179401170586, 0.954517940115746, 0.9545179401151451]\n"
     ]
    },
    {
     "name": "stderr",
     "output_type": "stream",
     "text": [
      "Progress:  80%|███████▉  | 239/300 [1:08:39<17:12, 16.92s/it]"
     ]
    },
    {
     "name": "stdout",
     "output_type": "stream",
     "text": [
      "Time to: Calculate Ground State - 0.78s, Get Pauli Ops - 4.41s, Calculate Pauli Expectation Values - 7.76s, Calculate Covariance - 2.15s\n",
      "f0,f1,f2 = [1.5893757145511645e-09, 1.5893757145379435e-09, 1.5893757145837974e-09]\n",
      "d01,d02,d12 = [0.947838209682736, 0.9478382096813612, 0.9478382096810651]\n"
     ]
    },
    {
     "name": "stderr",
     "output_type": "stream",
     "text": [
      "/cluster/home/mskrabulis/miniconda3/envs/quantech/lib/python3.9/site-packages/pyscf/symm/Dmatrix.py:156: RuntimeWarning: invalid value encountered in arccos\n",
      "  gamma = numpy.arccos(yp.dot(c2[1]))\n",
      "Progress:  80%|████████  | 240/300 [1:08:54<16:21, 16.36s/it]"
     ]
    },
    {
     "name": "stdout",
     "output_type": "stream",
     "text": [
      "Time to: Calculate Ground State - 0.78s, Get Pauli Ops - 4.71s, Calculate Pauli Expectation Values - 7.72s, Calculate Covariance - 1.83s\n",
      "f0,f1,f2 = [2.4347479809037604e-09, 2.434747980927076e-09, 2.4347479809425915e-09]\n",
      "d01,d02,d12 = [0.9422395937178425, 0.9422395937164165, 0.9422395937164243]\n"
     ]
    },
    {
     "name": "stderr",
     "output_type": "stream",
     "text": [
      "Progress:  80%|████████  | 241/300 [1:09:10<15:50, 16.10s/it]"
     ]
    },
    {
     "name": "stdout",
     "output_type": "stream",
     "text": [
      "Time to: Calculate Ground State - 0.77s, Get Pauli Ops - 4.62s, Calculate Pauli Expectation Values - 7.8s, Calculate Covariance - 2.32s\n",
      "f0,f1,f2 = [1.7182733118849045e-09, 1.7182733118636625e-09, 1.718273311876788e-09]\n",
      "d01,d02,d12 = [0.9374134043306411, 0.9374134043291823, 0.9374134043294907]\n"
     ]
    },
    {
     "name": "stderr",
     "output_type": "stream",
     "text": [
      "/cluster/home/mskrabulis/miniconda3/envs/quantech/lib/python3.9/site-packages/pyscf/symm/Dmatrix.py:156: RuntimeWarning: invalid value encountered in arccos\n",
      "  gamma = numpy.arccos(yp.dot(c2[1]))\n",
      "Progress:  81%|████████  | 242/300 [1:09:27<15:46, 16.33s/it]"
     ]
    },
    {
     "name": "stdout",
     "output_type": "stream",
     "text": [
      "Time to: Calculate Ground State - 1.31s, Get Pauli Ops - 5.16s, Calculate Pauli Expectation Values - 8.08s, Calculate Covariance - 2.28s\n",
      "f0,f1,f2 = [3.994890027581605e-09, 3.994890027572787e-09, 3.994890027606864e-09]\n",
      "d01,d02,d12 = [0.9342959427554075, 0.9342959427539297, 0.9342959427545363]\n"
     ]
    },
    {
     "name": "stderr",
     "output_type": "stream",
     "text": [
      "/cluster/home/mskrabulis/miniconda3/envs/quantech/lib/python3.9/site-packages/pyscf/symm/Dmatrix.py:156: RuntimeWarning: invalid value encountered in arccos\n",
      "  gamma = numpy.arccos(yp.dot(c2[1]))\n",
      "Progress:  81%|████████  | 243/300 [1:09:43<15:36, 16.42s/it]"
     ]
    },
    {
     "name": "stdout",
     "output_type": "stream",
     "text": [
      "Time to: Calculate Ground State - 1.32s, Get Pauli Ops - 5.09s, Calculate Pauli Expectation Values - 8.02s, Calculate Covariance - 2.22s\n",
      "f0,f1,f2 = [1.4631625299439883e-09, 1.4631625299293183e-09, 1.4631625298974172e-09]\n",
      "d01,d02,d12 = [0.931818709975734, 0.9318187099742329, 0.9318187099751306]\n"
     ]
    },
    {
     "name": "stderr",
     "output_type": "stream",
     "text": [
      "/cluster/home/mskrabulis/miniconda3/envs/quantech/lib/python3.9/site-packages/pyscf/symm/Dmatrix.py:156: RuntimeWarning: invalid value encountered in arccos\n",
      "  gamma = numpy.arccos(yp.dot(c2[1]))\n",
      "Progress:  81%|████████▏ | 244/300 [1:10:00<15:19, 16.43s/it]"
     ]
    },
    {
     "name": "stdout",
     "output_type": "stream",
     "text": [
      "Time to: Calculate Ground State - 1.09s, Get Pauli Ops - 6.02s, Calculate Pauli Expectation Values - 7.63s, Calculate Covariance - 1.69s\n",
      "f0,f1,f2 = [2.3080029100911746e-09, 2.308002910063137e-09, 2.3080029101094606e-09]\n",
      "d01,d02,d12 = [0.9303253881796619, 0.9303253881781467, 0.9303253881793274]\n"
     ]
    },
    {
     "name": "stderr",
     "output_type": "stream",
     "text": [
      "/cluster/home/mskrabulis/miniconda3/envs/quantech/lib/python3.9/site-packages/pyscf/symm/Dmatrix.py:156: RuntimeWarning: invalid value encountered in arccos\n",
      "  gamma = numpy.arccos(yp.dot(c2[1]))\n",
      "Progress:  82%|████████▏ | 245/300 [1:10:18<15:25, 16.83s/it]"
     ]
    },
    {
     "name": "stdout",
     "output_type": "stream",
     "text": [
      "Time to: Calculate Ground State - 1.01s, Get Pauli Ops - 6.22s, Calculate Pauli Expectation Values - 8.75s, Calculate Covariance - 1.78s\n",
      "f0,f1,f2 = [3.5222495165422108e-09, 3.522249516499108e-09, 3.5222495165234085e-09]\n",
      "d01,d02,d12 = [0.9303092386090462, 0.9303092386075295, 0.930309238608986]\n"
     ]
    },
    {
     "name": "stderr",
     "output_type": "stream",
     "text": [
      "Progress:  82%|████████▏ | 246/300 [1:10:34<15:04, 16.75s/it]"
     ]
    },
    {
     "name": "stdout",
     "output_type": "stream",
     "text": [
      "Time to: Calculate Ground State - 0.77s, Get Pauli Ops - 5.83s, Calculate Pauli Expectation Values - 7.91s, Calculate Covariance - 2.06s\n",
      "f0,f1,f2 = [1.897744910431797e-09, 1.8977449103606713e-09, 1.8977449104216804e-09]\n",
      "d01,d02,d12 = [0.9310805643785686, 0.9310805643770595, 0.931080564378772]\n"
     ]
    },
    {
     "name": "stderr",
     "output_type": "stream",
     "text": [
      "/cluster/home/mskrabulis/miniconda3/envs/quantech/lib/python3.9/site-packages/pyscf/symm/Dmatrix.py:156: RuntimeWarning: invalid value encountered in arccos\n",
      "  gamma = numpy.arccos(yp.dot(c2[1]))\n",
      "Progress:  82%|████████▏ | 247/300 [1:10:51<14:50, 16.80s/it]"
     ]
    },
    {
     "name": "stdout",
     "output_type": "stream",
     "text": [
      "Time to: Calculate Ground State - 0.77s, Get Pauli Ops - 4.63s, Calculate Pauli Expectation Values - 9.16s, Calculate Covariance - 2.36s\n",
      "f0,f1,f2 = [2.755021893743577e-09, 2.7550218937211074e-09, 2.755021893772959e-09]\n",
      "d01,d02,d12 = [0.9329866219135395, 0.9329866219120453, 0.9329866219140105]\n"
     ]
    },
    {
     "name": "stderr",
     "output_type": "stream",
     "text": [
      "Progress:  83%|████████▎ | 248/300 [1:11:08<14:28, 16.69s/it]"
     ]
    },
    {
     "name": "stdout",
     "output_type": "stream",
     "text": [
      "Time to: Calculate Ground State - 1.32s, Get Pauli Ops - 5.09s, Calculate Pauli Expectation Values - 8.58s, Calculate Covariance - 1.45s\n",
      "f0,f1,f2 = [1.8969805257308467e-09, 1.896980525755782e-09, 1.8969805257100282e-09]\n",
      "d01,d02,d12 = [0.9356593511710782, 0.9356593511696083, 0.9356593511718184]\n"
     ]
    },
    {
     "name": "stderr",
     "output_type": "stream",
     "text": [
      "Progress:  83%|████████▎ | 249/300 [1:11:25<14:15, 16.78s/it]"
     ]
    },
    {
     "name": "stdout",
     "output_type": "stream",
     "text": [
      "Time to: Calculate Ground State - 1.31s, Get Pauli Ops - 5.21s, Calculate Pauli Expectation Values - 8.67s, Calculate Covariance - 1.78s\n",
      "f0,f1,f2 = [2.8876227308095074e-09, 2.887622730722135e-09, 2.8876227307665453e-09]\n",
      "d01,d02,d12 = [0.9395015744750236, 0.939501574473594, 0.9395015744760211]\n"
     ]
    },
    {
     "name": "stderr",
     "output_type": "stream",
     "text": [
      "Progress:  83%|████████▎ | 250/300 [1:11:40<13:36, 16.33s/it]"
     ]
    },
    {
     "name": "stdout",
     "output_type": "stream",
     "text": [
      "Time to: Calculate Ground State - 1.02s, Get Pauli Ops - 4.38s, Calculate Pauli Expectation Values - 8.0s, Calculate Covariance - 1.86s\n",
      "f0,f1,f2 = [2.197854298804599e-09, 2.1978542987539963e-09, 2.19785429874325e-09]\n",
      "d01,d02,d12 = [0.9442146998461721, 0.9442146998447931, 0.9442146998474075]\n"
     ]
    },
    {
     "name": "stderr",
     "output_type": "stream",
     "text": [
      "/cluster/home/mskrabulis/miniconda3/envs/quantech/lib/python3.9/site-packages/pyscf/symm/Dmatrix.py:156: RuntimeWarning: invalid value encountered in arccos\n",
      "  gamma = numpy.arccos(yp.dot(c2[1]))\n",
      "Progress:  84%|████████▎ | 251/300 [1:11:55<13:01, 15.96s/it]"
     ]
    },
    {
     "name": "stdout",
     "output_type": "stream",
     "text": [
      "Time to: Calculate Ground State - 1.15s, Get Pauli Ops - 4.79s, Calculate Pauli Expectation Values - 7.59s, Calculate Covariance - 1.56s\n",
      "f0,f1,f2 = [2.1460289405744196e-09, 2.1460289405156227e-09, 2.146028940559152e-09]\n",
      "d01,d02,d12 = [0.9497679902472989, 0.9497679902459923, 0.9497679902487717]\n"
     ]
    },
    {
     "name": "stderr",
     "output_type": "stream",
     "text": [
      "Progress:  84%|████████▍ | 252/300 [1:12:12<13:05, 16.37s/it]"
     ]
    },
    {
     "name": "stdout",
     "output_type": "stream",
     "text": [
      "Time to: Calculate Ground State - 1.28s, Get Pauli Ops - 4.97s, Calculate Pauli Expectation Values - 8.84s, Calculate Covariance - 2.25s\n",
      "f0,f1,f2 = [9.829538325026392e-10, 9.829538323757377e-10, 9.829538324557972e-10]\n",
      "d01,d02,d12 = [0.9556700350111329, 0.9556700350099178, 0.9556700350128305]\n"
     ]
    },
    {
     "name": "stderr",
     "output_type": "stream",
     "text": [
      "Progress:  84%|████████▍ | 253/300 [1:12:30<13:14, 16.91s/it]"
     ]
    },
    {
     "name": "stdout",
     "output_type": "stream",
     "text": [
      "Time to: Calculate Ground State - 1.38s, Get Pauli Ops - 6.95s, Calculate Pauli Expectation Values - 8.16s, Calculate Covariance - 1.64s\n",
      "f0,f1,f2 = [1.482703191849588e-09, 1.4827031917540164e-09, 1.4827031918037223e-09]\n",
      "d01,d02,d12 = [0.9621244972196578, 0.9621244972185483, 0.9621244972215567]\n"
     ]
    },
    {
     "name": "stderr",
     "output_type": "stream",
     "text": [
      "/cluster/home/mskrabulis/miniconda3/envs/quantech/lib/python3.9/site-packages/pyscf/symm/Dmatrix.py:156: RuntimeWarning: invalid value encountered in arccos\n",
      "  gamma = numpy.arccos(yp.dot(c2[1]))\n",
      "Progress:  85%|████████▍ | 254/300 [1:12:47<12:51, 16.78s/it]"
     ]
    },
    {
     "name": "stdout",
     "output_type": "stream",
     "text": [
      "Time to: Calculate Ground State - 1.34s, Get Pauli Ops - 4.41s, Calculate Pauli Expectation Values - 8.57s, Calculate Covariance - 2.15s\n",
      "f0,f1,f2 = [1.585042221102787e-09, 1.5850422210171556e-09, 1.58504222109889e-09]\n",
      "d01,d02,d12 = [0.969168008921327, 0.9691680089203532, 0.9691680089234155]\n"
     ]
    },
    {
     "name": "stderr",
     "output_type": "stream",
     "text": [
      "Progress:  85%|████████▌ | 255/300 [1:13:03<12:28, 16.63s/it]"
     ]
    },
    {
     "name": "stdout",
     "output_type": "stream",
     "text": [
      "Time to: Calculate Ground State - 1.06s, Get Pauli Ops - 4.96s, Calculate Pauli Expectation Values - 8.42s, Calculate Covariance - 1.84s\n",
      "f0,f1,f2 = [1.8265111504690768e-11, 1.8265111554023596e-11, 1.8265111501788843e-11]\n",
      "d01,d02,d12 = [0.9761292067623131, 0.9761292067614918, 0.9761292067645945]\n"
     ]
    },
    {
     "name": "stderr",
     "output_type": "stream",
     "text": [
      "Progress:  85%|████████▌ | 256/300 [1:13:21<12:22, 16.87s/it]"
     ]
    },
    {
     "name": "stdout",
     "output_type": "stream",
     "text": [
      "Time to: Calculate Ground State - 1.33s, Get Pauli Ops - 6.63s, Calculate Pauli Expectation Values - 7.86s, Calculate Covariance - 1.6s\n",
      "f0,f1,f2 = [9.970757341450629e-10, 9.970757341964885e-10, 9.970757341991797e-10]\n",
      "d01,d02,d12 = [0.9826029243538972, 0.982602924353233, 0.9826029243563561]\n"
     ]
    },
    {
     "name": "stderr",
     "output_type": "stream",
     "text": [
      "/cluster/home/mskrabulis/miniconda3/envs/quantech/lib/python3.9/site-packages/pyscf/symm/Dmatrix.py:156: RuntimeWarning: invalid value encountered in arccos\n",
      "  gamma = numpy.arccos(yp.dot(c2[1]))\n",
      "Progress:  86%|████████▌ | 257/300 [1:13:36<11:50, 16.51s/it]"
     ]
    },
    {
     "name": "stdout",
     "output_type": "stream",
     "text": [
      "Time to: Calculate Ground State - 1.02s, Get Pauli Ops - 4.32s, Calculate Pauli Expectation Values - 8.27s, Calculate Covariance - 2.06s\n",
      "f0,f1,f2 = [2.0334819274753303e-11, 2.033481928151164e-11, 2.0334819285291035e-11]\n",
      "d01,d02,d12 = [0.9890164369588547, 0.9890164369583476, 0.9890164369614864]\n"
     ]
    },
    {
     "name": "stderr",
     "output_type": "stream",
     "text": [
      "/cluster/home/mskrabulis/miniconda3/envs/quantech/lib/python3.9/site-packages/pyscf/symm/Dmatrix.py:156: RuntimeWarning: invalid value encountered in arccos\n",
      "  gamma = numpy.arccos(yp.dot(c2[1]))\n",
      "Progress:  86%|████████▌ | 258/300 [1:13:55<11:55, 17.04s/it]"
     ]
    },
    {
     "name": "stdout",
     "output_type": "stream",
     "text": [
      "Time to: Calculate Ground State - 1.36s, Get Pauli Ops - 6.74s, Calculate Pauli Expectation Values - 7.94s, Calculate Covariance - 2.24s\n",
      "f0,f1,f2 = [7.181449395223052e-10, 7.181449395839635e-10, 7.181449395708726e-10]\n",
      "d01,d02,d12 = [0.9950640274834492, 0.9950640274830995, 0.9950640274862345]\n"
     ]
    },
    {
     "name": "stderr",
     "output_type": "stream",
     "text": [
      "Progress:  86%|████████▋ | 259/300 [1:14:10<11:21, 16.61s/it]"
     ]
    },
    {
     "name": "stdout",
     "output_type": "stream",
     "text": [
      "Time to: Calculate Ground State - 0.91s, Get Pauli Ops - 4.86s, Calculate Pauli Expectation Values - 7.97s, Calculate Covariance - 1.86s\n",
      "f0,f1,f2 = [6.858315498311295e-10, 6.858315499257187e-10, 6.858315498678383e-10]\n",
      "d01,d02,d12 = [1.0007629856856806, 1.0007629856855058, 1.0007629856886053]\n"
     ]
    },
    {
     "name": "stderr",
     "output_type": "stream",
     "text": [
      "/cluster/home/mskrabulis/miniconda3/envs/quantech/lib/python3.9/site-packages/pyscf/symm/Dmatrix.py:156: RuntimeWarning: invalid value encountered in arccos\n",
      "  gamma = numpy.arccos(yp.dot(c2[1]))\n",
      "Progress:  87%|████████▋ | 260/300 [1:14:28<11:15, 16.90s/it]"
     ]
    },
    {
     "name": "stdout",
     "output_type": "stream",
     "text": [
      "Time to: Calculate Ground State - 1.03s, Get Pauli Ops - 7.27s, Calculate Pauli Expectation Values - 7.72s, Calculate Covariance - 1.53s\n",
      "f0,f1,f2 = [4.510707525963119e-10, 4.510707526789069e-10, 4.510707526789255e-10]\n",
      "d01,d02,d12 = [1.0062144000923472, 1.0062144000923525, 1.0062144000953939]\n"
     ]
    },
    {
     "name": "stderr",
     "output_type": "stream",
     "text": [
      "Progress:  87%|████████▋ | 261/300 [1:14:45<10:57, 16.86s/it]"
     ]
    },
    {
     "name": "stdout",
     "output_type": "stream",
     "text": [
      "Time to: Calculate Ground State - 1.03s, Get Pauli Ops - 4.68s, Calculate Pauli Expectation Values - 9.36s, Calculate Covariance - 1.68s\n",
      "f0,f1,f2 = [2.730701639798589e-10, 2.7307016394851714e-10, 2.7307016394773117e-10]\n",
      "d01,d02,d12 = [1.0117213091941257, 1.0117213091943114, 1.01172130919728]\n"
     ]
    },
    {
     "name": "stderr",
     "output_type": "stream",
     "text": [
      "/cluster/home/mskrabulis/miniconda3/envs/quantech/lib/python3.9/site-packages/pyscf/symm/Dmatrix.py:156: RuntimeWarning: invalid value encountered in arccos\n",
      "  gamma = numpy.arccos(yp.dot(c2[1]))\n",
      "Progress:  87%|████████▋ | 262/300 [1:15:03<10:59, 17.35s/it]"
     ]
    },
    {
     "name": "stdout",
     "output_type": "stream",
     "text": [
      "Time to: Calculate Ground State - 1.03s, Get Pauli Ops - 4.18s, Calculate Pauli Expectation Values - 11.17s, Calculate Covariance - 2.1s\n",
      "f0,f1,f2 = [2.1536998743524538e-11, 2.1536998765501047e-11, 2.1536998762807947e-11]\n",
      "d01,d02,d12 = [1.0171608947854303, 1.0171608947857906, 1.0171608947886739]\n"
     ]
    },
    {
     "name": "stderr",
     "output_type": "stream",
     "text": [
      "Progress:  88%|████████▊ | 263/300 [1:15:22<11:03, 17.92s/it]"
     ]
    },
    {
     "name": "stdout",
     "output_type": "stream",
     "text": [
      "Time to: Calculate Ground State - 1.11s, Get Pauli Ops - 4.41s, Calculate Pauli Expectation Values - 11.86s, Calculate Covariance - 1.87s\n",
      "f0,f1,f2 = [8.854964842314517e-11, 8.854964847608853e-11, 8.854964845859522e-11]\n",
      "d01,d02,d12 = [1.0225060575862857, 1.0225060575868223, 1.0225060575896048]\n"
     ]
    },
    {
     "name": "stderr",
     "output_type": "stream",
     "text": [
      "Progress:  88%|████████▊ | 264/300 [1:15:40<10:48, 18.01s/it]"
     ]
    },
    {
     "name": "stdout",
     "output_type": "stream",
     "text": [
      "Time to: Calculate Ground State - 1.38s, Get Pauli Ops - 6.67s, Calculate Pauli Expectation Values - 8.28s, Calculate Covariance - 1.88s\n",
      "f0,f1,f2 = [1.4584631220305776e-09, 1.4584631220495869e-09, 1.4584631220713047e-09]\n",
      "d01,d02,d12 = [1.0271894583687946, 1.0271894583695034, 1.0271894583721708]\n"
     ]
    },
    {
     "name": "stderr",
     "output_type": "stream",
     "text": [
      "Progress:  88%|████████▊ | 265/300 [1:15:56<10:06, 17.33s/it]"
     ]
    },
    {
     "name": "stdout",
     "output_type": "stream",
     "text": [
      "Time to: Calculate Ground State - 1.01s, Get Pauli Ops - 4.36s, Calculate Pauli Expectation Values - 8.79s, Calculate Covariance - 1.58s\n",
      "f0,f1,f2 = [7.963418003048382e-10, 7.963418002796351e-10, 7.963418003143032e-10]\n",
      "d01,d02,d12 = [1.0314927924297073, 1.0314927924305761, 1.0314927924331359]\n"
     ]
    },
    {
     "name": "stderr",
     "output_type": "stream",
     "text": [
      "Progress:  89%|████████▊ | 266/300 [1:16:14<09:58, 17.60s/it]"
     ]
    },
    {
     "name": "stdout",
     "output_type": "stream",
     "text": [
      "Time to: Calculate Ground State - 1.34s, Get Pauli Ops - 6.84s, Calculate Pauli Expectation Values - 8.26s, Calculate Covariance - 1.78s\n",
      "f0,f1,f2 = [1.0979121745701927e-09, 1.097912174560327e-09, 1.0979121746006304e-09]\n",
      "d01,d02,d12 = [1.0352949690815785, 1.035294969082603, 1.0352949690850475]\n"
     ]
    },
    {
     "name": "stderr",
     "output_type": "stream",
     "text": [
      "/cluster/home/mskrabulis/miniconda3/envs/quantech/lib/python3.9/site-packages/pyscf/symm/Dmatrix.py:156: RuntimeWarning: invalid value encountered in arccos\n",
      "  gamma = numpy.arccos(yp.dot(c2[1]))\n",
      "Progress:  89%|████████▉ | 267/300 [1:16:31<09:30, 17.30s/it]"
     ]
    },
    {
     "name": "stdout",
     "output_type": "stream",
     "text": [
      "Time to: Calculate Ground State - 1.11s, Get Pauli Ops - 5.41s, Calculate Pauli Expectation Values - 8.46s, Calculate Covariance - 1.62s\n",
      "f0,f1,f2 = [2.5698099055316907e-09, 2.5698099055863223e-09, 2.569809905570863e-09]\n",
      "d01,d02,d12 = [1.0379906606736258, 1.0379906606748046, 1.037990660677112]\n"
     ]
    },
    {
     "name": "stderr",
     "output_type": "stream",
     "text": [
      "Progress:  89%|████████▉ | 268/300 [1:16:50<09:29, 17.80s/it]"
     ]
    },
    {
     "name": "stdout",
     "output_type": "stream",
     "text": [
      "Time to: Calculate Ground State - 1.01s, Get Pauli Ops - 6.83s, Calculate Pauli Expectation Values - 8.97s, Calculate Covariance - 2.15s\n",
      "f0,f1,f2 = [2.5368290149423725e-09, 2.536829014994181e-09, 2.536829015005468e-09]\n",
      "d01,d02,d12 = [1.039605290993202, 1.0396052909945301, 1.039605290996682]\n"
     ]
    },
    {
     "name": "stderr",
     "output_type": "stream",
     "text": [
      "/cluster/home/mskrabulis/miniconda3/envs/quantech/lib/python3.9/site-packages/pyscf/symm/Dmatrix.py:156: RuntimeWarning: invalid value encountered in arccos\n",
      "  gamma = numpy.arccos(yp.dot(c2[1]))\n",
      "Progress:  90%|████████▉ | 269/300 [1:17:09<09:22, 18.15s/it]"
     ]
    },
    {
     "name": "stdout",
     "output_type": "stream",
     "text": [
      "Time to: Calculate Ground State - 1.37s, Get Pauli Ops - 7.72s, Calculate Pauli Expectation Values - 7.87s, Calculate Covariance - 1.99s\n",
      "f0,f1,f2 = [3.0645242776346366e-09, 3.064524277705019e-09, 3.0645242777255752e-09]\n",
      "d01,d02,d12 = [1.039931416747173, 1.0399314167486506, 1.0399314167506246]\n"
     ]
    },
    {
     "name": "stderr",
     "output_type": "stream",
     "text": [
      "/cluster/home/mskrabulis/miniconda3/envs/quantech/lib/python3.9/site-packages/pyscf/symm/Dmatrix.py:156: RuntimeWarning: invalid value encountered in arccos\n",
      "  gamma = numpy.arccos(yp.dot(c2[1]))\n",
      "Progress:  90%|█████████ | 270/300 [1:17:25<08:46, 17.56s/it]"
     ]
    },
    {
     "name": "stdout",
     "output_type": "stream",
     "text": [
      "Time to: Calculate Ground State - 0.77s, Get Pauli Ops - 4.87s, Calculate Pauli Expectation Values - 8.37s, Calculate Covariance - 2.18s\n",
      "f0,f1,f2 = [7.679767484850312e-10, 7.679767485010582e-10, 7.67976748529746e-10]\n",
      "d01,d02,d12 = [1.0399354739909141, 1.0399354739925215, 1.039935473994312]\n"
     ]
    },
    {
     "name": "stderr",
     "output_type": "stream",
     "text": [
      "Progress:  90%|█████████ | 271/300 [1:17:42<08:19, 17.22s/it]"
     ]
    },
    {
     "name": "stdout",
     "output_type": "stream",
     "text": [
      "Time to: Calculate Ground State - 1.32s, Get Pauli Ops - 5.09s, Calculate Pauli Expectation Values - 8.23s, Calculate Covariance - 1.77s\n",
      "f0,f1,f2 = [2.0487462370059157e-09, 2.0487462369647226e-09, 2.048746237025913e-09]\n",
      "d01,d02,d12 = [1.0390895402207216, 1.0390895402224516, 1.0390895402240548]\n"
     ]
    },
    {
     "name": "stderr",
     "output_type": "stream",
     "text": [
      "Progress:  91%|█████████ | 272/300 [1:17:58<07:52, 16.88s/it]"
     ]
    },
    {
     "name": "stdout",
     "output_type": "stream",
     "text": [
      "Time to: Calculate Ground State - 1.0s, Get Pauli Ops - 4.38s, Calculate Pauli Expectation Values - 8.93s, Calculate Covariance - 1.78s\n",
      "f0,f1,f2 = [4.693951711522293e-10, 4.693951712510828e-10, 4.693951712493546e-10]\n",
      "d01,d02,d12 = [1.038057856005789, 1.0380578560076363, 1.0380578560090257]\n"
     ]
    },
    {
     "name": "stderr",
     "output_type": "stream",
     "text": [
      "/cluster/home/mskrabulis/miniconda3/envs/quantech/lib/python3.9/site-packages/pyscf/symm/Dmatrix.py:156: RuntimeWarning: invalid value encountered in arccos\n",
      "  gamma = numpy.arccos(yp.dot(c2[1]))\n",
      "Progress:  91%|█████████ | 273/300 [1:18:15<07:36, 16.89s/it]"
     ]
    },
    {
     "name": "stdout",
     "output_type": "stream",
     "text": [
      "Time to: Calculate Ground State - 1.24s, Get Pauli Ops - 5.9s, Calculate Pauli Expectation Values - 8.02s, Calculate Covariance - 1.74s\n",
      "f0,f1,f2 = [2.0001038199499616e-09, 2.000103819909841e-09, 2.0001038199413337e-09]\n",
      "d01,d02,d12 = [1.0362073595174826, 1.0362073595194394, 1.03620735952061]\n"
     ]
    },
    {
     "name": "stderr",
     "output_type": "stream",
     "text": [
      "Progress:  91%|█████████▏| 274/300 [1:18:32<07:21, 16.96s/it]"
     ]
    },
    {
     "name": "stdout",
     "output_type": "stream",
     "text": [
      "Time to: Calculate Ground State - 1.03s, Get Pauli Ops - 6.8s, Calculate Pauli Expectation Values - 7.87s, Calculate Covariance - 1.42s\n",
      "f0,f1,f2 = [2.4865551187547742e-09, 2.4865551187954057e-09, 2.486555118809144e-09]\n",
      "d01,d02,d12 = [1.0333449325906428, 1.033344932592705, 1.033344932593651]\n"
     ]
    },
    {
     "name": "stderr",
     "output_type": "stream",
     "text": [
      "/cluster/home/mskrabulis/miniconda3/envs/quantech/lib/python3.9/site-packages/pyscf/symm/Dmatrix.py:156: RuntimeWarning: invalid value encountered in arccos\n",
      "  gamma = numpy.arccos(yp.dot(c2[1]))\n",
      "Progress:  92%|█████████▏| 275/300 [1:18:49<07:09, 17.19s/it]"
     ]
    },
    {
     "name": "stdout",
     "output_type": "stream",
     "text": [
      "Time to: Calculate Ground State - 0.78s, Get Pauli Ops - 6.81s, Calculate Pauli Expectation Values - 8.2s, Calculate Covariance - 1.91s\n",
      "f0,f1,f2 = [1.4921893707926767e-09, 1.492189370796773e-09, 1.4921893708343354e-09]\n",
      "d01,d02,d12 = [1.0298938377815114, 1.0298938377836682, 1.029893837784389]\n"
     ]
    },
    {
     "name": "stderr",
     "output_type": "stream",
     "text": [
      "Progress:  92%|█████████▏| 276/300 [1:19:05<06:41, 16.74s/it]"
     ]
    },
    {
     "name": "stdout",
     "output_type": "stream",
     "text": [
      "Time to: Calculate Ground State - 1.0s, Get Pauli Ops - 4.54s, Calculate Pauli Expectation Values - 8.23s, Calculate Covariance - 1.92s\n",
      "f0,f1,f2 = [6.071508721620574e-11, 6.07150872253757e-11, 6.071508729457189e-11]\n",
      "d01,d02,d12 = [1.0264541798365252, 1.026454179838753, 1.026454179839253]\n"
     ]
    },
    {
     "name": "stderr",
     "output_type": "stream",
     "text": [
      "/cluster/home/mskrabulis/miniconda3/envs/quantech/lib/python3.9/site-packages/pyscf/symm/Dmatrix.py:156: RuntimeWarning: invalid value encountered in arccos\n",
      "  gamma = numpy.arccos(yp.dot(c2[1]))\n",
      "/cluster/home/mskrabulis/miniconda3/envs/quantech/lib/python3.9/site-packages/pyscf/symm/Dmatrix.py:156: RuntimeWarning: invalid value encountered in arccos\n",
      "  gamma = numpy.arccos(yp.dot(c2[1]))\n",
      "Progress:  92%|█████████▏| 277/300 [1:19:23<06:36, 17.22s/it]"
     ]
    },
    {
     "name": "stdout",
     "output_type": "stream",
     "text": [
      "Time to: Calculate Ground State - 1.02s, Get Pauli Ops - 4.35s, Calculate Pauli Expectation Values - 10.86s, Calculate Covariance - 2.11s\n",
      "f0,f1,f2 = [1.0951644105716957e-09, 1.0951644105588043e-09, 1.095164410643356e-09]\n",
      "d01,d02,d12 = [1.022596674940353, 1.02259667494262, 1.0225966749428994]\n"
     ]
    },
    {
     "name": "stderr",
     "output_type": "stream",
     "text": [
      "/cluster/home/mskrabulis/miniconda3/envs/quantech/lib/python3.9/site-packages/pyscf/symm/Dmatrix.py:156: RuntimeWarning: invalid value encountered in arccos\n",
      "  gamma = numpy.arccos(yp.dot(c2[1]))\n",
      "Progress:  93%|█████████▎| 278/300 [1:19:42<06:24, 17.47s/it]"
     ]
    },
    {
     "name": "stdout",
     "output_type": "stream",
     "text": [
      "Time to: Calculate Ground State - 1.13s, Get Pauli Ops - 4.52s, Calculate Pauli Expectation Values - 10.22s, Calculate Covariance - 2.18s\n",
      "f0,f1,f2 = [1.4747497304742275e-09, 1.4747497305256294e-09, 1.4747497305415884e-09]\n",
      "d01,d02,d12 = [1.018168271559127, 1.0181682715614266, 1.0181682715614757]\n"
     ]
    },
    {
     "name": "stderr",
     "output_type": "stream",
     "text": [
      "/cluster/home/mskrabulis/miniconda3/envs/quantech/lib/python3.9/site-packages/pyscf/symm/Dmatrix.py:156: RuntimeWarning: invalid value encountered in arccos\n",
      "  gamma = numpy.arccos(yp.dot(c2[1]))\n",
      "Progress:  93%|█████████▎| 279/300 [1:19:58<06:02, 17.25s/it]"
     ]
    },
    {
     "name": "stdout",
     "output_type": "stream",
     "text": [
      "Time to: Calculate Ground State - 1.02s, Get Pauli Ops - 5.79s, Calculate Pauli Expectation Values - 8.12s, Calculate Covariance - 1.78s\n",
      "f0,f1,f2 = [5.388867870525224e-10, 5.388867870614713e-10, 5.388867870614282e-10]\n",
      "d01,d02,d12 = [1.0135632696299228, 1.0135632696322414, 1.013563269632062]\n"
     ]
    },
    {
     "name": "stderr",
     "output_type": "stream",
     "text": [
      "/cluster/home/mskrabulis/miniconda3/envs/quantech/lib/python3.9/site-packages/pyscf/symm/Dmatrix.py:156: RuntimeWarning: invalid value encountered in arccos\n",
      "  gamma = numpy.arccos(yp.dot(c2[1]))\n",
      "Progress:  93%|█████████▎| 280/300 [1:20:14<05:38, 16.90s/it]"
     ]
    },
    {
     "name": "stdout",
     "output_type": "stream",
     "text": [
      "Time to: Calculate Ground State - 1.13s, Get Pauli Ops - 4.82s, Calculate Pauli Expectation Values - 8.15s, Calculate Covariance - 1.98s\n",
      "f0,f1,f2 = [2.6637124591507265e-09, 2.663712459143945e-09, 2.663712459191938e-09]\n",
      "d01,d02,d12 = [1.0079020223867756, 1.0079020223890918, 1.00790202238869]\n"
     ]
    },
    {
     "name": "stderr",
     "output_type": "stream",
     "text": [
      "/cluster/home/mskrabulis/miniconda3/envs/quantech/lib/python3.9/site-packages/pyscf/symm/Dmatrix.py:156: RuntimeWarning: invalid value encountered in arccos\n",
      "  gamma = numpy.arccos(yp.dot(c2[1]))\n",
      "Progress:  94%|█████████▎| 281/300 [1:20:31<05:21, 16.90s/it]"
     ]
    },
    {
     "name": "stdout",
     "output_type": "stream",
     "text": [
      "Time to: Calculate Ground State - 1.22s, Get Pauli Ops - 4.47s, Calculate Pauli Expectation Values - 9.18s, Calculate Covariance - 2.02s\n",
      "f0,f1,f2 = [3.278123143071748e-10, 3.2781231430007074e-10, 3.278123143522398e-10]\n",
      "d01,d02,d12 = [1.002164796800463, 1.0021647968027532, 1.0021647968021268]\n"
     ]
    },
    {
     "name": "stderr",
     "output_type": "stream",
     "text": [
      "Progress:  94%|█████████▍| 282/300 [1:20:50<05:11, 17.32s/it]"
     ]
    },
    {
     "name": "stdout",
     "output_type": "stream",
     "text": [
      "Time to: Calculate Ground State - 1.02s, Get Pauli Ops - 7.34s, Calculate Pauli Expectation Values - 7.96s, Calculate Covariance - 1.97s\n",
      "f0,f1,f2 = [4.722072094840403e-10, 4.722072094592084e-10, 4.722072094912033e-10]\n",
      "d01,d02,d12 = [0.9962924881247539, 0.9962924881270127, 0.996292488126171]\n"
     ]
    },
    {
     "name": "stderr",
     "output_type": "stream",
     "text": [
      "Progress:  94%|█████████▍| 283/300 [1:21:05<04:47, 16.90s/it]"
     ]
    },
    {
     "name": "stdout",
     "output_type": "stream",
     "text": [
      "Time to: Calculate Ground State - 1.14s, Get Pauli Ops - 5.38s, Calculate Pauli Expectation Values - 7.81s, Calculate Covariance - 1.57s\n",
      "f0,f1,f2 = [1.0696869926949146e-09, 1.0696869927023592e-09, 1.0696869927260236e-09]\n",
      "d01,d02,d12 = [0.9900386546849875, 0.9900386546872103, 0.9900386546861584]\n"
     ]
    },
    {
     "name": "stderr",
     "output_type": "stream",
     "text": [
      "Progress:  95%|█████████▍| 284/300 [1:21:24<04:36, 17.25s/it]"
     ]
    },
    {
     "name": "stdout",
     "output_type": "stream",
     "text": [
      "Time to: Calculate Ground State - 0.99s, Get Pauli Ops - 7.06s, Calculate Pauli Expectation Values - 8.19s, Calculate Covariance - 1.84s\n",
      "f0,f1,f2 = [3.041899002226479e-10, 3.0418990017340506e-10, 3.041899002091813e-10]\n",
      "d01,d02,d12 = [0.9837249209264879, 0.9837249209286619, 0.9837249209274166]\n"
     ]
    },
    {
     "name": "stderr",
     "output_type": "stream",
     "text": [
      "/cluster/home/mskrabulis/miniconda3/envs/quantech/lib/python3.9/site-packages/pyscf/symm/Dmatrix.py:156: RuntimeWarning: invalid value encountered in arccos\n",
      "  gamma = numpy.arccos(yp.dot(c2[1]))\n",
      "Progress:  95%|█████████▌| 285/300 [1:21:41<04:21, 17.44s/it]"
     ]
    },
    {
     "name": "stdout",
     "output_type": "stream",
     "text": [
      "Time to: Calculate Ground State - 1.23s, Get Pauli Ops - 4.09s, Calculate Pauli Expectation Values - 10.61s, Calculate Covariance - 1.95s\n",
      "f0,f1,f2 = [1.3194375282939615e-11, 1.3194375263573677e-11, 1.319437529089839e-11]\n",
      "d01,d02,d12 = [0.977483603230435, 0.9774836032325552, 0.9774836032311192]\n"
     ]
    },
    {
     "name": "stderr",
     "output_type": "stream",
     "text": [
      "Progress:  95%|█████████▌| 286/300 [1:22:01<04:11, 17.98s/it]"
     ]
    },
    {
     "name": "stdout",
     "output_type": "stream",
     "text": [
      "Time to: Calculate Ground State - 1.0s, Get Pauli Ops - 8.02s, Calculate Pauli Expectation Values - 7.99s, Calculate Covariance - 2.23s\n",
      "f0,f1,f2 = [7.569849011822441e-10, 7.569849012189732e-10, 7.569849012302393e-10]\n",
      "d01,d02,d12 = [0.9716225216163221, 0.9716225216183758, 0.9716225216167693]\n"
     ]
    },
    {
     "name": "stderr",
     "output_type": "stream",
     "text": [
      "Progress:  96%|█████████▌| 287/300 [1:22:19<03:54, 18.05s/it]"
     ]
    },
    {
     "name": "stdout",
     "output_type": "stream",
     "text": [
      "Time to: Calculate Ground State - 1.3s, Get Pauli Ops - 6.8s, Calculate Pauli Expectation Values - 8.06s, Calculate Covariance - 2.03s\n",
      "f0,f1,f2 = [2.2002922229204503e-10, 2.2002922231112224e-10, 2.200292223150781e-10]\n",
      "d01,d02,d12 = [0.9659149013664956, 0.9659149013684667, 0.9659149013667129]\n"
     ]
    },
    {
     "name": "stderr",
     "output_type": "stream",
     "text": [
      "Progress:  96%|█████████▌| 288/300 [1:22:35<03:28, 17.35s/it]"
     ]
    },
    {
     "name": "stdout",
     "output_type": "stream",
     "text": [
      "Time to: Calculate Ground State - 0.77s, Get Pauli Ops - 4.89s, Calculate Pauli Expectation Values - 8.1s, Calculate Covariance - 1.96s\n",
      "f0,f1,f2 = [1.254206106579136e-09, 1.2542061066737605e-09, 1.254206106597876e-09]\n",
      "d01,d02,d12 = [0.9607881806248848, 0.9607881806267516, 0.9607881806248783]\n"
     ]
    },
    {
     "name": "stderr",
     "output_type": "stream",
     "text": [
      "Progress:  96%|█████████▋| 289/300 [1:22:51<03:06, 17.00s/it]"
     ]
    },
    {
     "name": "stdout",
     "output_type": "stream",
     "text": [
      "Time to: Calculate Ground State - 1.03s, Get Pauli Ops - 4.56s, Calculate Pauli Expectation Values - 8.47s, Calculate Covariance - 2.11s\n",
      "f0,f1,f2 = [2.1150766983055655e-09, 2.1150766983091587e-09, 2.115076698301195e-09]\n",
      "d01,d02,d12 = [0.956593361349884, 0.9565933613516439, 0.956593361349655]\n"
     ]
    },
    {
     "name": "stderr",
     "output_type": "stream",
     "text": [
      "Progress:  97%|█████████▋| 290/300 [1:23:09<02:52, 17.28s/it]"
     ]
    },
    {
     "name": "stdout",
     "output_type": "stream",
     "text": [
      "Time to: Calculate Ground State - 1.0s, Get Pauli Ops - 4.82s, Calculate Pauli Expectation Values - 10.16s, Calculate Covariance - 1.93s\n",
      "f0,f1,f2 = [1.972423004498172e-10, 1.972423004265188e-10, 1.9724230048140456e-10]\n",
      "d01,d02,d12 = [0.9523612729611659, 0.9523612729627924, 0.9523612729607046]\n"
     ]
    },
    {
     "name": "stderr",
     "output_type": "stream",
     "text": [
      "Progress:  97%|█████████▋| 291/300 [1:23:25<02:33, 17.09s/it]"
     ]
    },
    {
     "name": "stdout",
     "output_type": "stream",
     "text": [
      "Time to: Calculate Ground State - 1.06s, Get Pauli Ops - 5.22s, Calculate Pauli Expectation Values - 8.63s, Calculate Covariance - 1.75s\n",
      "f0,f1,f2 = [7.402316970389234e-10, 7.402316971308816e-10, 7.402316970703361e-10]\n",
      "d01,d02,d12 = [0.948481255457655, 0.9484812554591241, 0.9484812554569713]\n"
     ]
    },
    {
     "name": "stderr",
     "output_type": "stream",
     "text": [
      "/cluster/home/mskrabulis/miniconda3/envs/quantech/lib/python3.9/site-packages/pyscf/symm/Dmatrix.py:156: RuntimeWarning: invalid value encountered in arccos\n",
      "  gamma = numpy.arccos(yp.dot(c2[1]))\n",
      "Progress:  97%|█████████▋| 292/300 [1:23:41<02:14, 16.79s/it]"
     ]
    },
    {
     "name": "stdout",
     "output_type": "stream",
     "text": [
      "Time to: Calculate Ground State - 1.16s, Get Pauli Ops - 4.68s, Calculate Pauli Expectation Values - 8.37s, Calculate Covariance - 1.86s\n",
      "f0,f1,f2 = [1.8604681229370692e-09, 1.8604681229430755e-09, 1.860468122935072e-09]\n",
      "d01,d02,d12 = [0.9454143310653624, 0.9454143310666658, 0.9454143310644592]\n"
     ]
    },
    {
     "name": "stderr",
     "output_type": "stream",
     "text": [
      "Progress:  98%|█████████▊| 293/300 [1:23:57<01:54, 16.37s/it]"
     ]
    },
    {
     "name": "stdout",
     "output_type": "stream",
     "text": [
      "Time to: Calculate Ground State - 1.18s, Get Pauli Ops - 4.51s, Calculate Pauli Expectation Values - 7.93s, Calculate Covariance - 1.79s\n",
      "f0,f1,f2 = [1.919452431536416e-09, 1.9194524315492835e-09, 1.9194524315523197e-09]\n",
      "d01,d02,d12 = [0.9431763382742895, 0.9431763382754148, 0.9431763382731637]\n"
     ]
    },
    {
     "name": "stderr",
     "output_type": "stream",
     "text": [
      "Progress:  98%|█████████▊| 294/300 [1:24:12<01:36, 16.00s/it]"
     ]
    },
    {
     "name": "stdout",
     "output_type": "stream",
     "text": [
      "Time to: Calculate Ground State - 1.03s, Get Pauli Ops - 4.67s, Calculate Pauli Expectation Values - 7.9s, Calculate Covariance - 1.54s\n",
      "f0,f1,f2 = [2.6745290425793565e-09, 2.6745290426062804e-09, 2.6745290425837186e-09]\n",
      "d01,d02,d12 = [0.9420717202268223, 0.942071720227763, 0.9420717202254738]\n"
     ]
    },
    {
     "name": "stderr",
     "output_type": "stream",
     "text": [
      "/cluster/home/mskrabulis/miniconda3/envs/quantech/lib/python3.9/site-packages/pyscf/symm/Dmatrix.py:156: RuntimeWarning: invalid value encountered in arccos\n",
      "  gamma = numpy.arccos(yp.dot(c2[1]))\n",
      "/cluster/home/mskrabulis/miniconda3/envs/quantech/lib/python3.9/site-packages/pyscf/symm/Dmatrix.py:156: RuntimeWarning: invalid value encountered in arccos\n",
      "  gamma = numpy.arccos(yp.dot(c2[1]))\n",
      "Progress:  98%|█████████▊| 295/300 [1:24:27<01:17, 15.57s/it]"
     ]
    },
    {
     "name": "stdout",
     "output_type": "stream",
     "text": [
      "Time to: Calculate Ground State - 0.76s, Get Pauli Ops - 3.8s, Calculate Pauli Expectation Values - 8.37s, Calculate Covariance - 1.62s\n",
      "f0,f1,f2 = [2.5983666592839695e-10, 2.59836666057151e-10, 2.5983666598679766e-10]\n",
      "d01,d02,d12 = [0.9410866540775704, 0.9410866540783079, 0.9410866540760076]\n"
     ]
    },
    {
     "name": "stderr",
     "output_type": "stream",
     "text": [
      "Progress:  99%|█████████▊| 296/300 [1:24:42<01:02, 15.68s/it]"
     ]
    },
    {
     "name": "stdout",
     "output_type": "stream",
     "text": [
      "Time to: Calculate Ground State - 1.1s, Get Pauli Ops - 4.75s, Calculate Pauli Expectation Values - 7.82s, Calculate Covariance - 2.25s\n",
      "f0,f1,f2 = [1.9374384891387035e-09, 1.937438489170269e-09, 1.9374384891774545e-09]\n",
      "d01,d02,d12 = [0.9409158431415765, 0.9409158431421111, 0.9409158431398148]\n"
     ]
    },
    {
     "name": "stderr",
     "output_type": "stream",
     "text": [
      "/cluster/home/mskrabulis/miniconda3/envs/quantech/lib/python3.9/site-packages/pyscf/symm/Dmatrix.py:156: RuntimeWarning: invalid value encountered in arccos\n",
      "  gamma = numpy.arccos(yp.dot(c2[1]))\n",
      "Progress:  99%|█████████▉| 297/300 [1:24:59<00:48, 16.08s/it]"
     ]
    },
    {
     "name": "stdout",
     "output_type": "stream",
     "text": [
      "Time to: Calculate Ground State - 1.35s, Get Pauli Ops - 5.21s, Calculate Pauli Expectation Values - 8.2s, Calculate Covariance - 2.25s\n",
      "f0,f1,f2 = [2.8284829150030626e-09, 2.8284829150478487e-09, 2.8284829150354414e-09]\n",
      "d01,d02,d12 = [0.9419202817095214, 0.9419202817098393, 0.9419202817075667]\n"
     ]
    },
    {
     "name": "stderr",
     "output_type": "stream",
     "text": [
      "Progress:  99%|█████████▉| 298/300 [1:25:15<00:31, 15.85s/it]"
     ]
    },
    {
     "name": "stdout",
     "output_type": "stream",
     "text": [
      "Time to: Calculate Ground State - 1.02s, Get Pauli Ops - 4.51s, Calculate Pauli Expectation Values - 7.91s, Calculate Covariance - 1.88s\n",
      "f0,f1,f2 = [1.174313487256599e-09, 1.1743134873157725e-09, 1.1743134873097864e-09]\n",
      "d01,d02,d12 = [0.9434012093178953, 0.9434012093179891, 0.9434012093157728]\n"
     ]
    },
    {
     "name": "stderr",
     "output_type": "stream",
     "text": [
      "/cluster/home/mskrabulis/miniconda3/envs/quantech/lib/python3.9/site-packages/pyscf/symm/Dmatrix.py:156: RuntimeWarning: invalid value encountered in arccos\n",
      "  gamma = numpy.arccos(yp.dot(c2[1]))\n",
      "Progress: 100%|█████████▉| 299/300 [1:25:31<00:15, 15.89s/it]"
     ]
    },
    {
     "name": "stdout",
     "output_type": "stream",
     "text": [
      "Time to: Calculate Ground State - 0.89s, Get Pauli Ops - 4.75s, Calculate Pauli Expectation Values - 7.91s, Calculate Covariance - 2.43s\n",
      "f0,f1,f2 = [1.1923171647197603e-09, 1.1923171647018928e-09, 1.1923171647194052e-09]\n",
      "d01,d02,d12 = [0.9453610274912533, 0.9453610274911307, 0.9453610274889747]\n"
     ]
    },
    {
     "name": "stderr",
     "output_type": "stream",
     "text": [
      "Progress: 100%|██████████| 300/300 [1:25:47<00:00, 17.16s/it]"
     ]
    },
    {
     "name": "stdout",
     "output_type": "stream",
     "text": [
      "Time to: Calculate Ground State - 0.83s, Get Pauli Ops - 4.88s, Calculate Pauli Expectation Values - 8.09s, Calculate Covariance - 2.3s\n",
      "f0,f1,f2 = [2.887095930603839e-09, 2.8870959306511776e-09, 2.8870959306194966e-09]\n",
      "d01,d02,d12 = [0.9484977467176463, 0.9484977467173062, 0.9484977467152226]\n"
     ]
    },
    {
     "name": "stderr",
     "output_type": "stream",
     "text": [
      "\n"
     ]
    },
    {
     "data": {
      "image/png": "[encoded data removed]",
      "text/plain": [
       "<Figure size 640x480 with 1 Axes>"
      ]
     },
     "metadata": {},
     "output_type": "display_data"
    }
   ],
   "source": [
    "from matplotlib import pyplot as plt\n",
    "(distance01,distance02,distance12,times) = main()\n",
    "\n",
    "np_distance01 = np.array(distance01)\n",
    "np_distance02 = np.array(distance02)\n",
    "np_distance12 = np.array(distance12)\n",
    "\n",
    "plt.plot(times,np_distance01[:-1],label = 'd01')\n",
    "plt.plot(times,np_distance02[:-1],label = 'd02')\n",
    "plt.plot(times,np_distance12[:-1],label = 'd12')\n",
    "\n",
    "plt.title('Distances at time t')\n",
    "plt.xlabel('Time')\n",
    "plt.ylabel('Distance')\n",
    "plt.legend()\n",
    "plt.show()"
   ]
  },
  {
   "cell_type": "code",
   "execution_count": null,
   "id": "885910be",
   "metadata": {},
   "outputs": [],
   "source": []
  },
  {
   "cell_type": "code",
   "execution_count": null,
   "id": "abb94dec",
   "metadata": {},
   "outputs": [],
   "source": []
  }
 ],
 "metadata": {
  "kernelspec": {
   "display_name": "Python 3 (ipykernel)",
   "language": "python",
   "name": "python3"
  },
  "language_info": {
   "codemirror_mode": {
    "name": "ipython",
    "version": 3
   },
   "file_extension": ".py",
   "mimetype": "text/x-python",
   "name": "python",
   "nbconvert_exporter": "python",
   "pygments_lexer": "ipython3",
   "version": "3.9.15"
  }
 },
 "nbformat": 4,
 "nbformat_minor": 5
}
