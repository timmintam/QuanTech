{
 "cells": [
  {
   "cell_type": "code",
   "execution_count": 1,
   "id": "fbc296ce",
   "metadata": {},
   "outputs": [],
   "source": [
    "import numpy as np\n",
    "import matplotlib.pyplot as plt\n",
    "\n",
    "from pyscf import ao2mo,gto, scf\n",
    "\n",
    "from typing import Tuple\n",
    "\n",
    "\n",
    "# qiskit\n",
    "from qiskit.algorithms import VQE\n",
    "from qiskit.algorithms.optimizers import COBYLA, SPSA, SLSQP, NELDER_MEAD\n",
    "from qiskit.algorithms import MinimumEigensolverResult\n",
    "\n",
    "from qiskit import IBMQ, BasicAer, Aer\n",
    "from qiskit.utils import QuantumInstance\n",
    "from qiskit.quantum_info.operators import Operator\n",
    "from qiskit.opflow import PauliExpectation, CircuitSampler, StateFn, CircuitStateFn\n",
    "from qiskit.opflow.primitive_ops import PauliOp, PauliSumOp\n",
    "from qiskit.quantum_info import Pauli, SparsePauliOp\n",
    "\n",
    "# qiskit nature\n",
    "from qiskit_nature.second_q.hamiltonians import ElectronicEnergy\n",
    "from qiskit_nature.second_q.mappers import ParityMapper, QubitConverter\n",
    "from qiskit_nature.second_q.problems import ElectronicStructureProblem\n",
    "from qiskit_nature.second_q.operators import FermionicOp\n",
    "from qiskit_nature.second_q.properties import ParticleNumber\n",
    "from qiskit_nature.second_q.transformers import FreezeCoreTransformer\n",
    "from qiskit_nature.second_q.circuit.library import UCCSD, HartreeFock\n",
    "from qiskit_nature.second_q.problems import ElectronicBasis\n",
    "from qiskit_nature.second_q.formats.molecule_info import MoleculeInfo\n",
    "from qiskit_nature.drivers import Molecule\n",
    "from qiskit_nature.drivers.second_quantization import (\n",
    "    ElectronicStructureMoleculeDriver, ElectronicStructureDriverType)\n",
    "\n",
    "from qiskit_nature.settings import settings\n",
    "settings.dict_aux_operators = True\n",
    "\n",
    "#from qiskit import IBMQ\n",
    "#from qiskit_nature.runtime import VQEClient\n",
    "#from qiskit.providers.ibmq import least_busy\n",
    "#from qiskit_ibm_runtime import QiskitRuntimeService, Estimator, Session\n",
    "\n",
    "# useful??\n",
    "#from qiskit_nature.algorithms import (GroundStateEigensolver,\n",
    "#                                      NumPyMinimumEigensolverFactory)\n",
    "from qiskit.circuit.library import EfficientSU2\n",
    "from qiskit.circuit.library import RealAmplitudes\n",
    "from qiskit.utils.mitigation import CompleteMeasFitter\n",
    "from qiskit.providers.aer.noise import NoiseModel\n",
    "from qiskit.providers.aer import QasmSimulator\n",
    "from qiskit import QuantumCircuit, transpile\n",
    "from qiskit.opflow import TwoQubitReduction\n",
    "\n",
    "def get_molecular_integrals(molecule):\n",
    "    '''\n",
    "    Calculates the 1-electron and 2-electron integrals.\n",
    "    \n",
    "    Args:   \n",
    "        molecule : Mole \n",
    "            Ccorresponds to the molecule.\n",
    "            \n",
    "    Returns:\n",
    "        h1_MO : ndarray\n",
    "                Tensor corresponding to the 1-electron integral in the molecular basis.\n",
    "        \n",
    "        h2_MO : ndarray\n",
    "                Tensor corresponding to the 2-electron integral in the molecular basis.\n",
    "\n",
    "        n_particles: Tuple[int, int]\n",
    "            Number of alpha and beta electrons.\n",
    "        \n",
    "        num_orb : int \n",
    "            Number of orbitals.\n",
    "\n",
    "        nuclear_repulsion_energy : float\n",
    "            Nuclear repulsion energy.\n",
    "    '''\n",
    "    \n",
    "    mf = scf.RHF(molecule).run()\n",
    "\n",
    "    # computing the 1e and 2e AO (atomic orbitals) integrals \n",
    "    h1 = molecule.intor_symmetric(\"int1e_nuc\") + molecule.intor_symmetric(\"int1e_kin\") \n",
    "    h2 = molecule.intor(\"int2e\")\n",
    "    # comment : add aosym (axis of symmetry) ???\n",
    "\n",
    "    # transformations from AO to MO (molecular orbitals)\n",
    "    h1_MO = np.einsum('pi,pq,qj->ij', mf.mo_coeff, h1, mf.mo_coeff)\n",
    "    h2_MO = ao2mo.get_mo_eri(h2, mf.mo_coeff)\n",
    "\n",
    "    #h2_MO = ao2mo.kernel(mol_h2, mf.mo_coeff, aosym=\"1\") #alternative\n",
    "\n",
    "    nuclear_repulsion_energy=molecule.energy_nuc()\n",
    "    num_particles = molecule.nelec\n",
    "    num_orb = h1.shape[0]\n",
    "\n",
    "    return h1_MO, h2_MO, num_particles, num_orb, nuclear_repulsion_energy\n",
    "\n",
    "\n",
    "def get_qubit_op(coordinates):\n",
    "    '''\n",
    "    Calculates the Hamiltonian as the sum of Pauli operators as a function\n",
    "    of the coordinates of the atoms.\n",
    "    \n",
    "    Args:\n",
    "        coordinates : ndarray\n",
    "            Array containing the positions of the atoms constituing the molecule.\n",
    "        \n",
    "    \n",
    "    Returns:\n",
    "        qubit_op : PauliSumOp\n",
    "            Sum of Pauli operators corresponding to the Hamiltonian.\n",
    "        \n",
    "        nelec : Tuple[int, int]\n",
    "            Number of alpha and beta electrons.\n",
    "        \n",
    "        norb : int \n",
    "            Number of orbitals.\n",
    "            \n",
    "        problem : ElectronicStructureProblem\n",
    "        \n",
    "        converter : QubitConverter\n",
    "    '''\n",
    "    \n",
    "    mol = gto.M(\n",
    "                atom = [['H',(coordinates[0], coordinates[1], 0.0)], \n",
    "                        ['H',(coordinates[2], coordinates[3], 0.0)],\n",
    "                        ['H',(coordinates[4], coordinates[5], 0.0)]],\n",
    "                basis = 'sto3g',\n",
    "                charge = 1,\n",
    "                spin = 0,\n",
    "                symmetry = True,\n",
    "                verbose = 2 # control the print level of PySCF globally\n",
    "    )\n",
    "\n",
    "    h1_MO,h2_MO,nelec,norb,ecore = get_molecular_integrals(mol)\n",
    "\n",
    "    # Define an ElectronicEnergy instance containing the 1e and 2e integrals\n",
    "    electronic_energy = ElectronicEnergy.from_raw_integrals(\n",
    "            h1_MO, ao2mo.restore(1, h2_MO, norb)\n",
    "        )\n",
    "    electronic_energy.nuclear_repulsion_energy = ecore\n",
    "\n",
    "    # Define an ElectronicStructureProblem\n",
    "    problem = ElectronicStructureProblem(electronic_energy)\n",
    "\n",
    "    second_q_ops = problem.second_q_ops()     # get second quantized operators\n",
    "    problem.num_spatial_orbitals = norb  # define number of orbitals\n",
    "    problem.num_particles = nelec        # define number of particles \n",
    "    \n",
    "    problem.basis = ElectronicBasis.MO \n",
    "    \n",
    "    problem.molecule=MoleculeInfo(symbols=[mol.atom_symbol(i) for i in range(mol.nbas)], \n",
    "                                  coords=mol.atom_coords())\n",
    "    FC_transformer=FreezeCoreTransformer(freeze_core=True)\n",
    "    problem = FC_transformer.transform(problem)\n",
    "    \n",
    "    # TODO we need to give info about the molecule to use FreezeCoreTransformer \n",
    "    # question : how to do it in a smart way ? at the initialization ??\n",
    "    \n",
    "    hamiltonian = second_q_ops[0]  # Set electronic part of Hamiltonian\n",
    "    hamiltonian = (hamiltonian + FermionicOp({\"\": ecore}, num_spin_orbitals=norb)) # add Nuclear Repulsion Energy\n",
    "    #print(\"Hamiltonian :\\n\", hamiltonian) # print for checking purposes\n",
    "    \n",
    "    mapper = ParityMapper()  # Set Mapper\n",
    "    \n",
    "    # Do two qubit reduction\n",
    "    converter = QubitConverter(mapper,two_qubit_reduction=True)\n",
    "    qubit_op = converter.convert(hamiltonian, nelec)\n",
    "    #print(\"q_op :\\n\", qubit_op) # print for checking purposes\n",
    "    \n",
    "\n",
    "    return qubit_op, nelec, norb, problem, converter\n",
    "\n",
    "def calc_ground_state(qubit_op,nelec,norb,problem,converter) :\n",
    "    '''\n",
    "    Calculates the ground state and the ground energy of the Hamiltonian.\n",
    "    \n",
    "    Args:\n",
    "        qubit_op : PauliSumOp\n",
    "            Sum of Pauli operators corresponding to the Hamiltonian.\n",
    "        \n",
    "        nelec : Tuple[int, int]\n",
    "            Number of alpha and beta electrons.\n",
    "        \n",
    "        norb : int \n",
    "            Number of orbitals.\n",
    "            \n",
    "        problem : ElectronicStructureProblem\n",
    "        \n",
    "        converter : QubitConverter\n",
    "        \n",
    "    \n",
    "    Returns:\n",
    "        ground_state : CircuitStateFn\n",
    "            Ground state of the Hamiltonian.\n",
    "            \n",
    "        min_eng : float\n",
    "            Ground energy of the Hamiltonian.\n",
    "    '''\n",
    "\n",
    "    backend = BasicAer.get_backend(\"statevector_simulator\")\n",
    "    quantum_instance = QuantumInstance(backend)\n",
    "    optimizer = SLSQP(maxiter=400)\n",
    "\n",
    "    init_state = HartreeFock(num_spatial_orbitals=norb, \n",
    "                                num_particles=nelec, \n",
    "                                qubit_converter=converter\n",
    "                            )\n",
    "    \n",
    "    var_form = UCCSD(qubit_converter=converter,\n",
    "                        num_particles=nelec,\n",
    "                        num_spatial_orbitals=norb, \n",
    "                        initial_state=init_state\n",
    "                        )\n",
    "\n",
    "    vqe = VQE(var_form, optimizer, quantum_instance=quantum_instance) \n",
    "    vqe_result = vqe.compute_minimum_eigenvalue(qubit_op)\n",
    "    min_eng = vqe_result.eigenvalue.real\n",
    "    final_params = vqe_result.optimal_parameters \n",
    "\n",
    "    vqe_ground = vqe.ansatz.bind_parameters(final_params) \n",
    "#     vqe_ground_state = CircuitStateFn(vqe_ground)\n",
    "    \n",
    "    return vqe_ground, min_eng"
   ]
  },
  {
   "cell_type": "code",
   "execution_count": 2,
   "id": "3f5daa79",
   "metadata": {},
   "outputs": [],
   "source": [
    "Ha = 4.36e-18\n",
    "angst = 1.0e-10\n",
    "dR = 0.01 #removed the angst, since coordinates are given in angst\n",
    "\n",
    "\n",
    "from qiskit.opflow import I, X, Y, Z\n",
    "from qiskit.opflow.primitive_ops import PauliOp\n",
    "from qiskit.quantum_info import Pauli\n",
    "#from hamiltonian import calc_ground_state, get_qubit_op\n",
    "import numpy as np\n",
    "from qiskit.utils import QuantumInstance\n",
    "from qiskit.opflow import PauliExpectation, CircuitSampler, StateFn, CircuitStateFn\n",
    "from qiskit import IBMQ, BasicAer, Aer\n",
    "\n",
    "import time #to see which part of code takes the longest\n",
    "import multiprocessing\n",
    "\n",
    "\n",
    "#calculate centre of mass (currently for equal particle masses)\n",
    "def calc_COM(coordinates):\n",
    "    #print(coordinates)\n",
    "    r_array = np.array_split(coordinates,3)\n",
    "    COM = (r_array[0] + r_array[1] + r_array[2])/3\n",
    "    \n",
    "    return COM\n",
    "\n",
    "#task to calculate expectation value\n",
    "def task1(string, q_instance, psi_0):\n",
    "\n",
    "    Obs = PauliOp(Pauli(string))\n",
    "    measurable_expression = StateFn(Obs, is_measurement=True).compose(psi_0)\n",
    "    expectation = PauliExpectation().convert(measurable_expression)  \n",
    "    sampler = CircuitSampler(q_instance).convert(expectation) \n",
    "    E = sampler.eval().real\n",
    "        \n",
    "    return E\n",
    "\n",
    "#task to calculate operator from coordinates\n",
    "def task2(coordinates):\n",
    "    \n",
    "    #get qubit operators coresponding to H+ (hamiltonian for atomic distances R + dR)\n",
    "    (qubit_op_plus, num_part_plus, num_orb_plus, problem_plus, converter_plus) = get_qubit_op(coordinates[0])\n",
    "    #get qubit operators coresponding to H- (hamiltonian for atomic distances R - dR)\n",
    "    (qubit_op_minus, num_part_minus, num_orb_minus, problem_minus, converter_minus) = get_qubit_op(coordinates[1])\n",
    "        \n",
    "    qubit_op_plus = qubit_op_plus #TODO:number of I's needs to be changed according to number of qubits\n",
    "    qubit_op_minus = qubit_op_minus\n",
    "       \n",
    "    #op =  (-(qubit_op_plus - qubit_op_minus)).reduce()\n",
    "    op =  -(qubit_op_plus - qubit_op_minus)\n",
    "\n",
    "                    \n",
    "    op_list = op.primitive.to_list() #list containing Pauli operators in support and corresponding coeffs\n",
    "    #print(op_list)    \n",
    "    #construct dict from list\n",
    "    op_dict = {}\n",
    "    for (PauliString,coeff) in op_list:\n",
    "\n",
    "        if PauliString in op_dict:\n",
    "            op_dict[PauliString] += coeff\n",
    "        else:\n",
    "            op_dict[PauliString] = coeff\n",
    "    \n",
    "    return op, op_dict\n",
    " \n",
    "def parallel_operators(coordinates,basis_set):\n",
    "    \n",
    "    \n",
    "    coordinate_list = []\n",
    "    \n",
    "    v0_normed = basis_set[0]\n",
    "    v0_orth = basis_set[1]\n",
    "    \n",
    "    v1_normed = basis_set[2]\n",
    "    v1_orth = basis_set[3]\n",
    "\n",
    "    v2_normed = basis_set[4]\n",
    "    v2_orth = basis_set[5]\n",
    "    \n",
    "    displ_coords_0_a = np.array([v0_normed[0]*dR,v0_normed[1]*dR,0,0,0,0])\n",
    "    displ_coords_0_b = np.array([v0_orth[0]*dR,v0_orth[1]*dR,0,0,0,0])\n",
    "    displ_coords_1_a = np.array([0,0,v1_normed[0]*dR,v1_normed[1]*dR,0,0])\n",
    "    displ_coords_1_b = np.array([0,0,v1_orth[0]*dR,v1_orth[1]*dR,0,0])\n",
    "    displ_coords_2_a = np.array([0,0,0,0,v2_normed[0]*dR,v2_normed[1]*dR])\n",
    "    displ_coords_2_b = np.array([0,0,0,0,v2_orth[0]*dR,v2_orth[1]*dR])\n",
    "    #print(displ_coords_0_a)\n",
    "    #print(displ_coords_0_b)\n",
    "    #print(displ_coords_1_a)\n",
    "    #print(displ_coords_1_b)\n",
    "    #print(displ_coords_2_a)\n",
    "    #print(displ_coords_2_b)\n",
    "\n",
    "    coordinate_list.append([coordinates + displ_coords_0_a,coordinates - displ_coords_0_a])\n",
    "    coordinate_list.append([coordinates + displ_coords_0_b,coordinates - displ_coords_0_b])\n",
    "    coordinate_list.append([coordinates + displ_coords_1_a,coordinates - displ_coords_1_a])\n",
    "    coordinate_list.append([coordinates + displ_coords_1_b,coordinates - displ_coords_1_b])\n",
    "    coordinate_list.append([coordinates + displ_coords_2_a,coordinates - displ_coords_2_a])\n",
    "    coordinate_list.append([coordinates + displ_coords_2_b,coordinates - displ_coords_2_b])\n",
    "    \n",
    "    #dR_list = v0_normed.tolist() + v1_normed.tolist() + v2_normed.tolist()\n",
    "    \n",
    "    dR_list = [dR,dR,dR,dR,dR,dR]\n",
    "    #print(dR_list)\n",
    "    #for i in range(len(coordinates)):\n",
    "        \n",
    "        #coordinate_list.append([coordinates[0:i]+[(coordinates[i]+dR_list[i])]+coordinates[i+1:],coordinates[0:i]+[(coordinates[i]-dR_list[i])]+coordinates[i+1:]])\n",
    "    \n",
    "    #print(coordinate_list)\n",
    "    with multiprocessing.Pool() as pool:\n",
    "         ops,op_coeffs = zip(*pool.map(task2, coordinate_list))\n",
    "    \n",
    "    #print(ops)\n",
    "    return ops, op_coeffs\n",
    "\n",
    "def sequential_operators(coordinates):\n",
    "    ops = []\n",
    "    op_coeffs = []\n",
    "    \n",
    "    for i in range(len(coordinates)):\n",
    "        \n",
    "        #get qubit operators coresponding to H+ (hamiltonian for atomic distances R + dR)\n",
    "        (qubit_op_plus, num_part_plus, num_orb_plus, problem_plus, converter_plus) = get_qubit_op(coordinates[0:i]+[(coordinates[i]+dR)]+coordinates[i+1:])\n",
    "        #get qubit operators coresponding to H- (hamiltonian for atomic distances R - dR)\n",
    "        (qubit_op_minus, num_part_minus, num_orb_minus, problem_minus, converter_minus) = get_qubit_op(coordinates[0:i]+[(coordinates[i]-dR)]+coordinates[i+1:])\n",
    "\n",
    "        rep_eng_plus = problem_plus.grouped_property_transformed.get_property(\"ElectronicEnergy\").nuclear_repulsion_energy\n",
    "        rep_eng_minus  = problem_minus.grouped_property_transformed.get_property(\"ElectronicEnergy\").nuclear_repulsion_energy\n",
    "        \n",
    "        qubit_op_plus = qubit_op_plus + rep_eng_plus*(I^I^I^I) #TODO:number of I's needs to be changed according to number of qubits\n",
    "        qubit_op_minus = qubit_op_minus + rep_eng_minus*(I^I^I^I)\n",
    "        \n",
    "       \n",
    "        op =  -(qubit_op_plus - qubit_op_minus).reduce()\n",
    "                    \n",
    "        op_list = op.primitive.to_list() #list containing Pauli operators in support and corresponding coeffs\n",
    "        \n",
    "        #construct dict from list\n",
    "        op_dict = {}\n",
    "        for (PauliString,coeff) in op_list:\n",
    "\n",
    "            if PauliString in op_dict:\n",
    "                op_dict[PauliString] += coeff\n",
    "            else:\n",
    "                op_dict[PauliString] = coeff\n",
    "                \n",
    "        ops.append(op)\n",
    "        op_coeffs.append(op_dict)\n",
    "    #print(ops)\n",
    "    return ops, op_coeffs\n",
    "\n",
    "def parallel_expectations(exp_dict, op_set, q_instance, psi_0):\n",
    "\n",
    "    triples = []\n",
    "    for op in op_set:\n",
    "        triple = (op,q_instance,psi_0)\n",
    "        triples.append(triple)\n",
    "\n",
    "    Es = 0\n",
    "    with multiprocessing.Pool() as pool:\n",
    "        Es = pool.starmap(task1, triples)\n",
    "\n",
    "    for i in range(len(Es)):\n",
    "        exp_dict[triples[i][0]]=Es[i]\n",
    "\n",
    "    return 0\n",
    "\n",
    "def sequential_expectations(exp_dict, op_set, q_instance, psi_0):\n",
    "\n",
    "    for pauli_string in op_set:\n",
    "        \n",
    "        Obs = PauliOp(Pauli(pauli_string))\n",
    "        measurable_expression = StateFn(Obs, is_measurement=True).compose(psi_0)\n",
    "        expectation = PauliExpectation().convert(measurable_expression)  \n",
    "        sampler = CircuitSampler(q_instance).convert(expectation) \n",
    "        E = sampler.eval().real\n",
    "        exp_dict[pauli_string] = E\n",
    "\n",
    "    return 0\n",
    "\n",
    "def get_psi_0(coordinates, simulator='qasm',shots=1028):\n",
    "\n",
    "    #get qubit operator corresponding to H(R)\n",
    "    (qubit_op, num_part, num_orb, problem, converter) = get_qubit_op(coordinates)\n",
    "    \n",
    "    #get the ground state of H(R)\n",
    "    psi_0,_ = calc_ground_state(qubit_op,num_part, num_orb, problem, converter)\n",
    "    \n",
    "    psi_0 = CircuitStateFn(psi_0)\n",
    "\n",
    "    return psi_0\n",
    "\n",
    "def calc_force_and_cov(coordinates, simulator = 'qasm', PauliSet = None, mode = 'full', shots = 128, basis_set_this=None):\n",
    "  \n",
    "    \n",
    "    if simulator == 'qasm':\n",
    "            backend = Aer.get_backend('qasm_simulator')\n",
    "            #backend.set_options(max_job_size=1, executor = euler_client)\n",
    "            q_instance = QuantumInstance(backend, shots=shots)\n",
    "    elif simulator == \"exact\":\n",
    "            backend = BasicAer.get_backend(\"statevector_simulator\")\n",
    "            q_instance = QuantumInstance(backend)\n",
    "    else:\n",
    "        print('Error: simulator should be qasm or exact!')\n",
    "        \n",
    "    num_coord = len(coordinates)   \n",
    "    \n",
    "    start = time.time()\n",
    "    \n",
    "\n",
    "    psi_0 = get_psi_0(coordinates, simulator = simulator, shots=shots)\n",
    "    \n",
    "    end = time.time()\n",
    "    \n",
    "    \n",
    "    time_psi_0 = end - start\n",
    "    #print(\"Took \" + str(time_psi_0) + \" s to calculate the ground state\")\n",
    "    forces = np.zeros(num_coord)\n",
    "    coordinates = coordinates.tolist()\n",
    "    \n",
    "    \n",
    "    coordinates_this = np.array(coordinates)\n",
    "    COM = calc_COM(coordinates_this)\n",
    "    coords = np.array_split(coordinates_this,3)\n",
    "    #print(coords)\n",
    "    #print(COM)\n",
    "    v0 = coords[0] - COM\n",
    "    v1 = coords[1] - COM\n",
    "    v2 = coords[2] - COM\n",
    "    \n",
    "    v0_normed = np.array(v0/np.sqrt(v0[0]**2+v0[1]**2))\n",
    "    v0_orth = np.array([v0_normed[1],-v0_normed[0]])\n",
    "    \n",
    "    v1_normed = np.array(v1/np.sqrt(v1[0]**2+v1[1]**2))\n",
    "    v1_orth = np.array([v1_normed[1],-v1_normed[0]])\n",
    "\n",
    "    v2_normed = np.array(v2/np.sqrt(v2[0]**2+v2[1]**2))\n",
    "    v2_orth = np.array([v2_normed[1],-v2_normed[0]])\n",
    "    \n",
    "    #rotated basis\n",
    "    if basis_set_this == \"rotated\":\n",
    "        basis_set = [v0_normed,v0_orth,v1_normed,v1_orth,v2_normed,v2_orth]\n",
    "    #cartesian basis\n",
    "    elif basis_set_this == \"cartesian\":\n",
    "        basis_set = [[1,0],[0,1],[1,0],[0,1],[1,0],[0,1]]\n",
    "    \n",
    "    #basis_set = basis_set_this\n",
    "\n",
    "    transform_matrix = np.array([[basis_set[0][0],basis_set[1][0],0,0,0,0],\n",
    "                                 [basis_set[0][1],basis_set[1][1],0,0,0,0],\n",
    "                                 [0,0,basis_set[2][0],basis_set[3][0],0,0],\n",
    "                                 [0,0,basis_set[2][1],basis_set[3][1],0,0],\n",
    "                                 [0,0,0,0,basis_set[4][0],basis_set[5][0]],\n",
    "                                 [0,0,0,0,basis_set[4][1],basis_set[5][1]]])\n",
    "    \n",
    "    transform_matrix_inv = np.linalg.inv(transform_matrix)\n",
    "    \n",
    "    start = time.time()\n",
    "    #get force component operators and decomposition (without the 1/(2*dR) factor, for numerical reasons)\n",
    "    #replace parallel_ with sequential_ to see effect of parallelization\n",
    "    force_ops,force_op_coeffs = parallel_operators(coordinates,basis_set)\n",
    "    \n",
    "    #for ops in force_ops:\n",
    "        #print(len(ops))\n",
    "        \n",
    "    P1 = force_ops[0]\n",
    "    \n",
    "    if PauliSet == None:\n",
    "        \n",
    "        pauli_op_set = {'IIII'} #Could not initialize empty set for some reason\n",
    "        # construct set of PauliOp products that we need to calculate\n",
    "\n",
    "        for PauliString,coeff in force_op_coeffs[0].items():\n",
    "            pauli_op_set.add(PauliString)\n",
    "\n",
    "        #to get set of necessary PauliOp products:\n",
    "        \n",
    "            P_prod = (P1@P1)\n",
    "            P_list = P_prod.primitive.to_list()\n",
    "\n",
    "            for (PauliString,coeff) in P_list:\n",
    "                pauli_op_set.add(PauliString)\n",
    "                \n",
    "    else: pauli_op_set = PauliSet\n",
    "        \n",
    "    end = time.time()\n",
    "    \n",
    "    time_pauli_ops = end - start\n",
    "        \n",
    "\n",
    "        # Now we calculate the expectation values of all the relevant PauliOps\n",
    "    \n",
    "    start = time.time()\n",
    "    exp_dict = {} # dictionary with relevant expectation values\n",
    "        \n",
    "    #switch between parallel_ and sequential_ to see the effect\n",
    "    \n",
    "    parallel_expectations(exp_dict,pauli_op_set,q_instance,psi_0)\n",
    "    \n",
    "\n",
    "    for i in range(len(coordinates)):\n",
    "        for pauli_op,coeff in force_op_coeffs[i].items():\n",
    "            forces[i] += coeff.real*exp_dict[pauli_op]\n",
    "    \n",
    "    #forces[1] = 0\n",
    "    #forces[3] = 0\n",
    "    #forces[5] = 0\n",
    "    \n",
    "    if basis_set_this == \"rotated\":\n",
    "        forces_return = np.matmul(transform_matrix,np.array(forces))\n",
    "    elif basis_set_this == \"cartesian\":\n",
    "        forces_return = forces\n",
    "        \n",
    "    #print(forces)\n",
    "            \n",
    "    end = time.time()   \n",
    "    time_calc_exp = end - start\n",
    "    \n",
    "    \n",
    "    start = time.time()\n",
    "    COV = np.zeros((num_coord,num_coord)) #force covariance matrix, without some multiplicative factors. \n",
    "        \n",
    "    for i in range(num_coord):\n",
    "        for j in range(i,num_coord):\n",
    "\n",
    "            Pij = force_ops[i]@force_ops[j]\n",
    "            Pij_list = Pij.primitive.to_list()\n",
    "\n",
    "            #add product expectation \n",
    "            for (pauli_string,coeff) in Pij_list:\n",
    "                COV[i,j] += coeff.real*exp_dict[pauli_string]\n",
    "                    #subtract \n",
    "            COV[i,j] -= forces[i]*forces[j]\n",
    "\n",
    "            #since COV is symmetric\n",
    "            #if (i,j) != (0,0) and (i,j) != (2,2) and (i,j) != (4,4) and (i,j) != (0,2) and (i,j) != (0,4) and (i,j) != (2,0) and (i,j) != (2,4) and (i,j) != (4,0) and (i,j) != (4,2):\n",
    "                #print(\"here\")\n",
    "                #print((i,j))\n",
    "             #   COV[i,j] = 0\n",
    "            \n",
    "            if i < j:\n",
    "                COV[j,i] = COV[i,j]\n",
    "            \n",
    "            \n",
    "                \n",
    "    #print(COV)            \n",
    "    end = time.time()\n",
    "    \n",
    "    if basis_set_this == \"rotated\":\n",
    "        COV_1 = np.matmul(COV,transform_matrix)\n",
    "        COV_2 = np.matmul(transform_matrix_inv,COV_1)\n",
    "        COV_return = COV_2\n",
    "    elif basis_set_this == \"cartesian\":    \n",
    "        COV_return = COV\n",
    "        \n",
    "    time_cov = end - start\n",
    "\n",
    "    print(f'Time to: Calculate Ground State - {round(time_psi_0,2)}s, Get Pauli Ops - {round(time_pauli_ops,2)}s, Calculate Pauli Expectation Values - {round(time_calc_exp,2)}s, Calculate Covariance - {round(time_cov,2)}s')\n",
    "    #print(COV)\n",
    "    \n",
    "    return forces_return*Ha*(1/(2*dR*angst)),COV_return*(Ha*(1/(2*dR*angst)))**2"
   ]
  },
  {
   "cell_type": "code",
   "execution_count": 3,
   "id": "5ae5fde0",
   "metadata": {},
   "outputs": [],
   "source": [
    "#from Quantech.verlet_integrator import distance\n",
    "#from force import calc_force_and_cov\n",
    "import numpy as np\n",
    "from tqdm import tqdm #to show progress\n",
    "\n",
    "\n",
    "#implementation of the explicit Euler integrator\n",
    "femto = 1.0e-15\n",
    "angst = 1.0e-10\n",
    "\n",
    "def calc_COM(coordinates):\n",
    "    #print(coordinates)\n",
    "    r_array = np.array_split(coordinates,3)\n",
    "    COM = (r_array[0] + r_array[1] + r_array[2])/3\n",
    "    \n",
    "    return COM\n",
    "\n",
    "def distance(coordinates1,coordinates2):\n",
    "    return np.sqrt(np.power((coordinates1[0] - coordinates2[0]),2) + np.power((coordinates1[1] - coordinates2[1]),2))\n",
    "    \n",
    "\n",
    "\n",
    "def main():\n",
    "    \n",
    "    f = open(\"h3_cartesian_basis_n_128000_raw_looong.txt\",\"w\")\n",
    "    \n",
    "    #mass of particle1 (H)\n",
    "    mass_0 = 1.67e-27\n",
    "    #mass of particle2 (H)\n",
    "    mass_1 = 1.67e-27\n",
    "    #mass of particle3 (H)\n",
    "    mass_2 = 1.67e-27\n",
    "    #time step of integrator\n",
    "    dt = 0.2*femto\n",
    "    #initial velocity of atoms\n",
    "    \n",
    "    v_init_0 = np.array([0,0])\n",
    "    v_init_1 = np.array([0,0])\n",
    "    v_init_2 = np.array([0,0])\n",
    "\n",
    "    v_init = np.concatenate((v_init_0,v_init_1,v_init_2),axis=None)\n",
    "\n",
    "    #distances between atoms\n",
    "    d = 0.8\n",
    "    #rotation angle of the initial triangle\n",
    "    b = 0/180*np.pi\n",
    "    \n",
    "    #initial positions of atoms, arrangement = equilateral triangle\n",
    "    x1_init = np.array([-d/2*np.cos(b)+np.sin(b)*np.sqrt(3)/6*d,-d/2*np.sin(b)-np.cos(b)*np.sqrt(3)/6*d])+np.array([0,d*np.sqrt(3)/6])\n",
    "    x2_init = np.array([d/2*np.cos(b)+np.sin(b)*np.sqrt(3)/6*d,d/2*np.sin(b)-np.cos(b)*np.sqrt(3)/6*d])+np.array([0,d*np.sqrt(3)/6])\n",
    "    x3_init = np.array([-np.sin(b)*np.sqrt(3)/3*d,np.cos(b)*np.sqrt(3)/3*d])+np.array([0,d*np.sqrt(3)/6])\n",
    "    \n",
    "    \n",
    "    init_pos0 = x1_init\n",
    "    init_pos1 = x2_init\n",
    "    init_pos2 = x3_init\n",
    "    \n",
    "    #print(distance(init_pos0,init_pos1))\n",
    "    #print(distance(init_pos0,init_pos2))\n",
    "    #print(distance(init_pos1,init_pos2))\n",
    "    \n",
    "    init_pos = np.concatenate((init_pos0,init_pos1,init_pos2),axis=None)\n",
    "\n",
    "    #integrator timesteps\n",
    "    timeB = 0\n",
    "    timeE = 200\n",
    "    times = np.arange(timeB*femto, timeE*femto, dt)\n",
    "    #print(times)\n",
    "    #coordinate array\n",
    "    coords = [init_pos]\n",
    "    force = []\n",
    "    distance01 = [d]\n",
    "    distance02 = [d]\n",
    "    distance12 = [d]\n",
    "    #temperature in ?? \n",
    "    #k_B*T in Joule\n",
    "    k_b = 1.38065e-23\n",
    "    T = 420\n",
    "    k_T = k_b*T\n",
    "        #delta factor\n",
    "    delta = 0.05*dt\n",
    "    #hold v_next\n",
    "    v_next = None\n",
    "    \n",
    "    simulator = 'qasm'\n",
    "    COM = calc_COM(init_pos)\n",
    "    coords_loc = np.array_split(init_pos,3)\n",
    "    forces_array = []\n",
    "    velocities_array = []\n",
    "    velocities_array.append(v_init.tolist())\n",
    "    coords_array = []\n",
    "    coords_array.append(init_pos.tolist())\n",
    "    \n",
    "    #print(coords)\n",
    "    #print(COM)\n",
    "    #v0 = coords_loc[0] - COM\n",
    "    #v1 = coords_loc[1] - COM\n",
    "    #v2 = coords_loc[2] - COM\n",
    "    \n",
    "    #v0_normed = np.array(v0/np.sqrt(v0[0]**2+v0[1]**2))\n",
    "    #v0_orth = np.array([v0_normed[1],-v0_normed[0]])\n",
    "    \n",
    "    #v1_normed = np.array(v1/np.sqrt(v1[0]**2+v1[1]**2))\n",
    "    #v1_orth = np.array([v1_normed[1],-v1_normed[0]])\n",
    "\n",
    "    #v2_normed = np.array(v2/np.sqrt(v2[0]**2+v2[1]**2))\n",
    "    #v2_orth = np.array([v2_normed[1],-v2_normed[0]])\n",
    "    \n",
    "    #basis_set = [v0_normed,v0_orth,v1_normed,v1_orth,v2_normed,v2_orth]\n",
    "    \n",
    "    #\"cartesian\" or \"rotated\"\n",
    "    \n",
    "    basis_set = \"cartesian\"\n",
    "    \n",
    "    for time in tqdm(times, desc='Progress: '):\n",
    "        \n",
    "        r = coords[-1]\n",
    "        #print(r)\n",
    "        \n",
    "        (forces,COV) = calc_force_and_cov(r, simulator = simulator, shots = 128000, basis_set_this=basis_set)\n",
    "        \n",
    "        forces_array.append(forces.tolist())\n",
    "        \n",
    "        #print(COV)\n",
    "        \n",
    "        #COV = np.zeros((6,6))\n",
    "        \n",
    "        #angle1 = np.arctan(forces[1]/forces[0])/np.pi * 180\n",
    "        #print(angle1)\n",
    "        #print(\"f1 = \" + str([forces[2],forces[3]]))\n",
    "        #print(\"f2 = \" + str([forces[4],forces[5]]))\n",
    "        \n",
    "        f1 = distance(np.array([forces[0],forces[1]]),np.array([0,0]))\n",
    "        \n",
    "        f2 = distance(np.array([forces[2],forces[3]]),np.array([0,0]))\n",
    "        \n",
    "        f3 = distance(np.array([forces[4],forces[5]]),np.array([0,0]))    \n",
    "        \n",
    "        print(\"f0,f1,f2 = \" + str([f1,f2,f3]))\n",
    "        \n",
    "        #print(forces)\n",
    "        #print(COV)\n",
    "        \n",
    "        if time == 0:\n",
    "\n",
    "            v_next = v_init - delta/(2*k_T*np.power(mass_0*mass_1*mass_2,1/3))*np.matmul(COV,v_init)*dt + dt*forces/mass_0\n",
    "            \n",
    "            r_next = (r*angst + dt*v_next)/angst\n",
    "\n",
    "            #r_split = np.array_split(r_next,3)\n",
    "\n",
    "            coords.append(r_next)\n",
    "\n",
    "        else:\n",
    "\n",
    "            v_next += - delta/(2*k_T*np.power(mass_0*mass_1*mass_2,1/3))*np.matmul(COV,v_next)*dt + dt*forces/mass_0\n",
    "            \n",
    "            r_next = (r*angst + dt*v_next)/angst\n",
    "\n",
    "            #r_split = np.array_split(r_next,3)\n",
    "            \n",
    "            coords.append(r_next)\n",
    "        velocities_array.append(v_next.tolist())  \n",
    "        coords_array.append(coords[-1].tolist())\n",
    "        \n",
    "        r = np.array_split(coords[-1],3)\n",
    "        d01 = distance(r[0],r[1])\n",
    "        d02 = distance(r[0],r[2])\n",
    "        d12 = distance(r[1],r[2])\n",
    "        print(\"d01,d02,d12 = \" + str([d01,d02,d12]))\n",
    "        \n",
    "        dists = np.split(coords[-1],3)\n",
    "        d01 = distance(dists[0],dists[1])\n",
    "        distance01.append(d01)\n",
    "        d02 = distance(dists[0],dists[2])\n",
    "        distance02.append(d02)\n",
    "        d12 = distance(dists[1],dists[2])\n",
    "        distance12.append(d12)\n",
    "    timess = times.tolist()\n",
    "    timess.append(timeE*femto)\n",
    "    f.write('times \\n')\n",
    "    f.write(str(timess) + \"\\n\")\n",
    "    f.write(\"coordinates \\n\")\n",
    "    f.write(str(coords_array) + \"\\n\")\n",
    "    f.write(\"velocities \\n\")\n",
    "    f.write(str(velocities_array) + \"\\n\")\n",
    "    f.write(\"forces \\n\")\n",
    "    f.write(str(forces_array) + \"\\n\")\n",
    "    return (distance01,distance02,distance12,times) "
   ]
  },
  {
   "cell_type": "code",
   "execution_count": 4,
   "id": "be5bb22e",
   "metadata": {
    "scrolled": false
   },
   "outputs": [
    {
     "name": "stderr",
     "output_type": "stream",
     "text": [
      "Progress:   0%|          | 1/1000 [00:24<6:51:42, 24.73s/it]"
     ]
    },
    {
     "name": "stdout",
     "output_type": "stream",
     "text": [
      "Time to: Calculate Ground State - 2.03s, Get Pauli Ops - 15.17s, Calculate Pauli Expectation Values - 4.9s, Calculate Covariance - 2.38s\n",
      "f0,f1,f2 = [1.2392054543442689e-08, 1.2392054543430359e-08, 1.2369696805664249e-08]\n",
      "d01,d02,d12 = [0.8051378962313207, 0.8051379089020727, 0.8051379089020679]\n"
     ]
    },
    {
     "name": "stderr",
     "output_type": "stream",
     "text": [
      "Progress:   0%|          | 2/1000 [00:52<7:16:44, 26.26s/it]"
     ]
    },
    {
     "name": "stdout",
     "output_type": "stream",
     "text": [
      "Time to: Calculate Ground State - 1.35s, Get Pauli Ops - 18.42s, Calculate Pauli Expectation Values - 4.93s, Calculate Covariance - 2.62s\n",
      "f0,f1,f2 = [1.161899516924847e-08, 1.1618995169251723e-08, 1.2396696213202445e-08]\n",
      "d01,d02,d12 = [0.8151449451789092, 0.8151461084262371, 0.8151461084262331]\n"
     ]
    },
    {
     "name": "stderr",
     "output_type": "stream",
     "text": [
      "Progress:   0%|          | 3/1000 [01:15<6:52:45, 24.84s/it]"
     ]
    },
    {
     "name": "stdout",
     "output_type": "stream",
     "text": [
      "Time to: Calculate Ground State - 1.38s, Get Pauli Ops - 14.01s, Calculate Pauli Expectation Values - 5.0s, Calculate Covariance - 2.76s\n",
      "f0,f1,f2 = [1.0966376270658335e-08, 1.0966376270675345e-08, 1.0817535657620044e-08]\n",
      "d01,d02,d12 = [0.829565883348147, 0.8295674403685078, 0.8295674403685049]\n"
     ]
    },
    {
     "name": "stderr",
     "output_type": "stream",
     "text": [
      "Progress:   0%|          | 4/1000 [01:36<6:29:58, 23.49s/it]"
     ]
    },
    {
     "name": "stdout",
     "output_type": "stream",
     "text": [
      "Time to: Calculate Ground State - 0.81s, Get Pauli Ops - 12.66s, Calculate Pauli Expectation Values - 5.44s, Calculate Covariance - 2.51s\n",
      "f0,f1,f2 = [1.0278549611716429e-08, 1.0278549611736205e-08, 8.237871641489802e-09]\n",
      "d01,d02,d12 = [0.8478011697317556, 0.8478019705887646, 0.8478019705887727]\n"
     ]
    },
    {
     "name": "stderr",
     "output_type": "stream",
     "text": [
      "Progress:   0%|          | 5/1000 [02:00<6:32:51, 23.69s/it]"
     ]
    },
    {
     "name": "stdout",
     "output_type": "stream",
     "text": [
      "Time to: Calculate Ground State - 0.8s, Get Pauli Ops - 13.03s, Calculate Pauli Expectation Values - 7.12s, Calculate Covariance - 3.07s\n",
      "f0,f1,f2 = [8.130682016711659e-09, 8.130682016722121e-09, 7.84674926725573e-09]\n",
      "d01,d02,d12 = [0.8691689065568322, 0.8691686058202982, 0.8691686058203101]\n"
     ]
    },
    {
     "name": "stderr",
     "output_type": "stream",
     "text": [
      "Progress:   1%|          | 6/1000 [02:26<6:43:11, 24.34s/it]"
     ]
    },
    {
     "name": "stdout",
     "output_type": "stream",
     "text": [
      "Time to: Calculate Ground State - 1.37s, Get Pauli Ops - 15.52s, Calculate Pauli Expectation Values - 6.24s, Calculate Covariance - 2.45s\n",
      "f0,f1,f2 = [5.77038342671737e-09, 5.770383426748075e-09, 8.003331740827784e-09]\n",
      "d01,d02,d12 = [0.8929616760034546, 0.892961521380065, 0.8929615213800777]\n"
     ]
    },
    {
     "name": "stderr",
     "output_type": "stream",
     "text": [
      "Progress:   1%|          | 7/1000 [02:51<6:50:04, 24.78s/it]"
     ]
    },
    {
     "name": "stdout",
     "output_type": "stream",
     "text": [
      "Time to: Calculate Ground State - 1.3s, Get Pauli Ops - 17.22s, Calculate Pauli Expectation Values - 5.03s, Calculate Covariance - 2.13s\n",
      "f0,f1,f2 = [4.1436446992676166e-09, 4.143644699257249e-09, 6.741612762910467e-09]\n",
      "d01,d02,d12 = [0.9184795059626076, 0.9184805988861621, 0.9184805988861774]\n"
     ]
    },
    {
     "name": "stderr",
     "output_type": "stream",
     "text": [
      "Progress:   1%|          | 8/1000 [03:16<6:45:59, 24.56s/it]"
     ]
    },
    {
     "name": "stdout",
     "output_type": "stream",
     "text": [
      "Time to: Calculate Ground State - 1.02s, Get Pauli Ops - 14.11s, Calculate Pauli Expectation Values - 6.1s, Calculate Covariance - 2.85s\n",
      "f0,f1,f2 = [3.1731223493521714e-09, 3.1731223493074176e-09, 3.347795077467739e-09]\n",
      "d01,d02,d12 = [0.9450697113310236, 0.9450722383323211, 0.9450722383323213]\n"
     ]
    },
    {
     "name": "stderr",
     "output_type": "stream",
     "text": [
      "Progress:   1%|          | 9/1000 [03:39<6:42:29, 24.37s/it]"
     ]
    },
    {
     "name": "stdout",
     "output_type": "stream",
     "text": [
      "Time to: Calculate Ground State - 1.07s, Get Pauli Ops - 13.71s, Calculate Pauli Expectation Values - 5.97s, Calculate Covariance - 3.2s\n",
      "f0,f1,f2 = [1.7814999870512732e-09, 1.7814999870336725e-09, 1.9257233201280684e-09]\n",
      "d01,d02,d12 = [0.9721369983313087, 0.9721408076018027, 0.9721408076017939]\n"
     ]
    },
    {
     "name": "stderr",
     "output_type": "stream",
     "text": [
      "Progress:   1%|          | 10/1000 [04:04<6:43:13, 24.44s/it]"
     ]
    },
    {
     "name": "stdout",
     "output_type": "stream",
     "text": [
      "Time to: Calculate Ground State - 0.85s, Get Pauli Ops - 17.23s, Calculate Pauli Expectation Values - 4.53s, Calculate Covariance - 1.98s\n",
      "f0,f1,f2 = [5.124980364684221e-10, 5.124980364590094e-10, 7.089835705710618e-10]\n",
      "d01,d02,d12 = [0.9991554830980793, 0.9991607652300506, 0.999160765230017]\n"
     ]
    },
    {
     "name": "stderr",
     "output_type": "stream",
     "text": [
      "Progress:   1%|          | 11/1000 [04:26<6:29:09, 23.61s/it]"
     ]
    },
    {
     "name": "stdout",
     "output_type": "stream",
     "text": [
      "Time to: Calculate Ground State - 1.02s, Get Pauli Ops - 13.64s, Calculate Pauli Expectation Values - 4.59s, Calculate Covariance - 2.47s\n",
      "f0,f1,f2 = [2.1143667072522897e-09, 2.114366707254141e-09, 1.2811109475172972e-09]\n",
      "d01,d02,d12 = [1.025662542081962, 1.025670227214754, 1.025670227214694]\n"
     ]
    },
    {
     "name": "stderr",
     "output_type": "stream",
     "text": [
      "Progress:   1%|          | 12/1000 [04:49<6:26:25, 23.47s/it]"
     ]
    },
    {
     "name": "stdout",
     "output_type": "stream",
     "text": [
      "Time to: Calculate Ground State - 0.77s, Get Pauli Ops - 15.54s, Calculate Pauli Expectation Values - 4.84s, Calculate Covariance - 1.99s\n",
      "f0,f1,f2 = [1.9102090277769817e-09, 1.9102090278091867e-09, 3.6399490046055817e-09]\n",
      "d01,d02,d12 = [1.051289576423133, 1.0512980469333222, 1.0512980469332276]\n"
     ]
    },
    {
     "name": "stderr",
     "output_type": "stream",
     "text": [
      "Progress:   1%|▏         | 13/1000 [05:11<6:18:55, 23.03s/it]"
     ]
    },
    {
     "name": "stdout",
     "output_type": "stream",
     "text": [
      "Time to: Calculate Ground State - 1.04s, Get Pauli Ops - 13.51s, Calculate Pauli Expectation Values - 4.8s, Calculate Covariance - 2.68s\n",
      "f0,f1,f2 = [2.7206913883537805e-09, 2.7206913883429755e-09, 1.5752339191926306e-09]\n",
      "d01,d02,d12 = [1.07569701025088, 1.0757065729707311, 1.075706572970593]\n"
     ]
    },
    {
     "name": "stderr",
     "output_type": "stream",
     "text": [
      "Progress:   1%|▏         | 14/1000 [05:34<6:19:03, 23.07s/it]"
     ]
    },
    {
     "name": "stdout",
     "output_type": "stream",
     "text": [
      "Time to: Calculate Ground State - 1.28s, Get Pauli Ops - 14.32s, Calculate Pauli Expectation Values - 5.06s, Calculate Covariance - 2.46s\n",
      "f0,f1,f2 = [2.6333379595918864e-09, 2.633337959546569e-09, 3.915028937209909e-09]\n",
      "d01,d02,d12 = [1.0986169003031556, 1.0986271504619871, 1.0986271504618113]\n"
     ]
    },
    {
     "name": "stderr",
     "output_type": "stream",
     "text": [
      "Progress:   2%|▏         | 15/1000 [06:01<6:36:17, 24.14s/it]"
     ]
    },
    {
     "name": "stdout",
     "output_type": "stream",
     "text": [
      "Time to: Calculate Ground State - 1.04s, Get Pauli Ops - 15.54s, Calculate Pauli Expectation Values - 7.43s, Calculate Covariance - 2.6s\n",
      "f0,f1,f2 = [4.106736311739684e-09, 4.106736311782104e-09, 2.5534773251491387e-09]\n",
      "d01,d02,d12 = [1.1198265912786096, 1.119838165610526, 1.1198381656103045]\n"
     ]
    },
    {
     "name": "stderr",
     "output_type": "stream",
     "text": [
      "Progress:   2%|▏         | 16/1000 [06:23<6:25:51, 23.53s/it]"
     ]
    },
    {
     "name": "stdout",
     "output_type": "stream",
     "text": [
      "Time to: Calculate Ground State - 1.09s, Get Pauli Ops - 12.9s, Calculate Pauli Expectation Values - 5.57s, Calculate Covariance - 2.53s\n",
      "f0,f1,f2 = [4.069260611957524e-09, 4.069260611938759e-09, 3.904193214374063e-09]\n",
      "d01,d02,d12 = [1.139147378403671, 1.1391602898547604, 1.1391602898544946]\n"
     ]
    },
    {
     "name": "stderr",
     "output_type": "stream",
     "text": [
      "Progress:   2%|▏         | 17/1000 [06:44<6:13:07, 22.78s/it]"
     ]
    },
    {
     "name": "stdout",
     "output_type": "stream",
     "text": [
      "Time to: Calculate Ground State - 1.0s, Get Pauli Ops - 12.6s, Calculate Pauli Expectation Values - 5.3s, Calculate Covariance - 2.13s\n",
      "f0,f1,f2 = [4.283796228416135e-09, 4.283796228393836e-09, 4.642955034325298e-09]\n",
      "d01,d02,d12 = [1.156437697069976, 1.1564515807901645, 1.1564515807898614]\n"
     ]
    },
    {
     "name": "stderr",
     "output_type": "stream",
     "text": [
      "Progress:   2%|▏         | 18/1000 [07:08<6:20:06, 23.22s/it]"
     ]
    },
    {
     "name": "stdout",
     "output_type": "stream",
     "text": [
      "Time to: Calculate Ground State - 0.75s, Get Pauli Ops - 13.99s, Calculate Pauli Expectation Values - 6.43s, Calculate Covariance - 3.09s\n",
      "f0,f1,f2 = [4.741625531489407e-09, 4.741625531549448e-09, 4.653078183457007e-09]\n",
      "d01,d02,d12 = [1.171587990614322, 1.1716027688597688, 1.1716027688594113]\n"
     ]
    },
    {
     "name": "stderr",
     "output_type": "stream",
     "text": [
      "Progress:   2%|▏         | 19/1000 [07:30<6:13:57, 22.87s/it]"
     ]
    },
    {
     "name": "stdout",
     "output_type": "stream",
     "text": [
      "Time to: Calculate Ground State - 1.02s, Get Pauli Ops - 13.46s, Calculate Pauli Expectation Values - 5.06s, Calculate Covariance - 2.5s\n",
      "f0,f1,f2 = [5.5396255139369586e-09, 5.539625513958326e-09, 3.993567826180625e-09]\n",
      "d01,d02,d12 = [1.1845111981647731, 1.1845270566577482, 1.1845270566573372]\n"
     ]
    },
    {
     "name": "stderr",
     "output_type": "stream",
     "text": [
      "Progress:   2%|▏         | 20/1000 [07:53<6:15:09, 22.97s/it]"
     ]
    },
    {
     "name": "stdout",
     "output_type": "stream",
     "text": [
      "Time to: Calculate Ground State - 0.8s, Get Pauli Ops - 14.26s, Calculate Pauli Expectation Values - 5.3s, Calculate Covariance - 2.83s\n",
      "f0,f1,f2 = [5.802115855489108e-09, 5.802115855605376e-09, 4.1016044392228406e-09]\n",
      "d01,d02,d12 = [1.1951434758303994, 1.1951611076486863, 1.1951611076482003]\n"
     ]
    },
    {
     "name": "stderr",
     "output_type": "stream",
     "text": [
      "Progress:   2%|▏         | 21/1000 [08:18<6:22:31, 23.44s/it]"
     ]
    },
    {
     "name": "stdout",
     "output_type": "stream",
     "text": [
      "Time to: Calculate Ground State - 1.21s, Get Pauli Ops - 13.36s, Calculate Pauli Expectation Values - 6.85s, Calculate Covariance - 3.11s\n",
      "f0,f1,f2 = [5.4489742271066695e-09, 5.4489742270937126e-09, 5.0364445324546446e-09]\n",
      "d01,d02,d12 = [1.2034555177610495, 1.2034749032189103, 1.2034749032183534]\n"
     ]
    },
    {
     "name": "stderr",
     "output_type": "stream",
     "text": [
      "Progress:   2%|▏         | 22/1000 [08:43<6:31:05, 23.99s/it]"
     ]
    },
    {
     "name": "stdout",
     "output_type": "stream",
     "text": [
      "Time to: Calculate Ground State - 1.28s, Get Pauli Ops - 14.44s, Calculate Pauli Expectation Values - 7.24s, Calculate Covariance - 2.3s\n",
      "f0,f1,f2 = [5.309961677108167e-09, 5.309961677148205e-09, 5.725438900629774e-09]\n",
      "d01,d02,d12 = [1.209422831642271, 1.2094437567747196, 1.2094437567740683]\n"
     ]
    },
    {
     "name": "stderr",
     "output_type": "stream",
     "text": [
      "Progress:   2%|▏         | 23/1000 [09:06<6:24:33, 23.62s/it]"
     ]
    },
    {
     "name": "stdout",
     "output_type": "stream",
     "text": [
      "Time to: Calculate Ground State - 1.04s, Get Pauli Ops - 14.38s, Calculate Pauli Expectation Values - 5.01s, Calculate Covariance - 2.29s\n",
      "f0,f1,f2 = [4.789392246870156e-09, 4.789392246955438e-09, 8.568102393310502e-09]\n",
      "d01,d02,d12 = [1.213055330342609, 1.2130763659505335, 1.213076365949833]\n"
     ]
    },
    {
     "name": "stderr",
     "output_type": "stream",
     "text": [
      "Progress:   2%|▏         | 24/1000 [09:30<6:26:20, 23.75s/it]"
     ]
    },
    {
     "name": "stdout",
     "output_type": "stream",
     "text": [
      "Time to: Calculate Ground State - 0.99s, Get Pauli Ops - 15.18s, Calculate Pauli Expectation Values - 5.3s, Calculate Covariance - 2.59s\n",
      "f0,f1,f2 = [5.954437047660344e-09, 5.954437047695308e-09, 4.894519634317808e-09]\n",
      "d01,d02,d12 = [1.2143346798307695, 1.2143560901082144, 1.214356090107455]\n"
     ]
    },
    {
     "name": "stderr",
     "output_type": "stream",
     "text": [
      "Progress:   2%|▎         | 25/1000 [09:57<6:41:43, 24.72s/it]"
     ]
    },
    {
     "name": "stdout",
     "output_type": "stream",
     "text": [
      "Time to: Calculate Ground State - 1.35s, Get Pauli Ops - 14.75s, Calculate Pauli Expectation Values - 8.57s, Calculate Covariance - 2.31s\n",
      "f0,f1,f2 = [5.929285254829665e-09, 5.9292852548639134e-09, 4.929345204216216e-09]\n",
      "d01,d02,d12 = [1.213285175505248, 1.2133073007133908, 1.213307300712561]\n"
     ]
    },
    {
     "name": "stderr",
     "output_type": "stream",
     "text": [
      "Progress:   3%|▎         | 26/1000 [10:22<6:41:58, 24.76s/it]"
     ]
    },
    {
     "name": "stdout",
     "output_type": "stream",
     "text": [
      "Time to: Calculate Ground State - 1.03s, Get Pauli Ops - 16.29s, Calculate Pauli Expectation Values - 5.04s, Calculate Covariance - 2.48s\n",
      "f0,f1,f2 = [5.682085323130427e-09, 5.682085323124798e-09, 5.3998444480675584e-09]\n",
      "d01,d02,d12 = [1.209928290714474, 1.2099514384503223, 1.2099514384494179]\n"
     ]
    },
    {
     "name": "stderr",
     "output_type": "stream",
     "text": [
      "Progress:   3%|▎         | 27/1000 [10:47<6:44:21, 24.93s/it]"
     ]
    },
    {
     "name": "stdout",
     "output_type": "stream",
     "text": [
      "Time to: Calculate Ground State - 0.98s, Get Pauli Ops - 15.23s, Calculate Pauli Expectation Values - 6.79s, Calculate Covariance - 2.32s\n",
      "f0,f1,f2 = [6.267573087005318e-09, 6.267573087116251e-09, 4.220412090637699e-09]\n",
      "d01,d02,d12 = [1.2043136755834205, 1.2043387646278376, 1.2043387646268147]\n"
     ]
    },
    {
     "name": "stderr",
     "output_type": "stream",
     "text": [
      "Progress:   3%|▎         | 28/1000 [11:10<6:34:43, 24.37s/it]"
     ]
    },
    {
     "name": "stdout",
     "output_type": "stream",
     "text": [
      "Time to: Calculate Ground State - 0.87s, Get Pauli Ops - 15.01s, Calculate Pauli Expectation Values - 4.75s, Calculate Covariance - 2.39s\n",
      "f0,f1,f2 = [5.5494776730663e-09, 5.54947767309639e-09, 5.260514113395447e-09]\n",
      "d01,d02,d12 = [1.1964965387355386, 1.1965232926333564, 1.1965232926322036]\n"
     ]
    },
    {
     "name": "stderr",
     "output_type": "stream",
     "text": [
      "Progress:   3%|▎         | 29/1000 [11:35<6:37:53, 24.59s/it]"
     ]
    },
    {
     "name": "stdout",
     "output_type": "stream",
     "text": [
      "Time to: Calculate Ground State - 1.06s, Get Pauli Ops - 14.91s, Calculate Pauli Expectation Values - 6.73s, Calculate Covariance - 2.39s\n",
      "f0,f1,f2 = [4.991688270575331e-09, 4.9916882705304135e-09, 6.161167920311249e-09]\n",
      "d01,d02,d12 = [1.1865507000638718, 1.1865788671423605, 1.1865788671411195]\n"
     ]
    },
    {
     "name": "stderr",
     "output_type": "stream",
     "text": [
      "Progress:   3%|▎         | 30/1000 [12:02<6:48:34, 25.27s/it]"
     ]
    },
    {
     "name": "stdout",
     "output_type": "stream",
     "text": [
      "Time to: Calculate Ground State - 1.31s, Get Pauli Ops - 16.41s, Calculate Pauli Expectation Values - 6.94s, Calculate Covariance - 2.2s\n",
      "f0,f1,f2 = [5.569906086034344e-09, 5.569906086114907e-09, 4.532088747733419e-09]\n",
      "d01,d02,d12 = [1.174548386563794, 1.174578318209486, 1.1745783182081266]\n"
     ]
    },
    {
     "name": "stderr",
     "output_type": "stream",
     "text": [
      "Progress:   3%|▎         | 31/1000 [12:28<6:50:47, 25.44s/it]"
     ]
    },
    {
     "name": "stdout",
     "output_type": "stream",
     "text": [
      "Time to: Calculate Ground State - 1.01s, Get Pauli Ops - 17.18s, Calculate Pauli Expectation Values - 5.29s, Calculate Covariance - 2.32s\n",
      "f0,f1,f2 = [5.017102166814866e-09, 5.017102166859822e-09, 5.06830755758117e-09]\n",
      "d01,d02,d12 = [1.160582884057329, 1.1606148232666533, 1.160614823265176]\n"
     ]
    },
    {
     "name": "stderr",
     "output_type": "stream",
     "text": [
      "Progress:   3%|▎         | 32/1000 [12:52<6:41:52, 24.91s/it]"
     ]
    },
    {
     "name": "stdout",
     "output_type": "stream",
     "text": [
      "Time to: Calculate Ground State - 1.04s, Get Pauli Ops - 15.27s, Calculate Pauli Expectation Values - 5.15s, Calculate Covariance - 2.22s\n",
      "f0,f1,f2 = [4.929714727618802e-09, 4.929714727650694e-09, 4.556255003866127e-09]\n",
      "d01,d02,d12 = [1.1447688358786017, 1.1448033108250997, 1.1448033108235072]\n"
     ]
    },
    {
     "name": "stderr",
     "output_type": "stream",
     "text": [
      "Progress:   3%|▎         | 33/1000 [13:16<6:36:44, 24.62s/it]"
     ]
    },
    {
     "name": "stdout",
     "output_type": "stream",
     "text": [
      "Time to: Calculate Ground State - 0.81s, Get Pauli Ops - 15.45s, Calculate Pauli Expectation Values - 5.06s, Calculate Covariance - 2.6s\n",
      "f0,f1,f2 = [5.805485180193692e-09, 5.805485180567744e-09, 2.426487002411767e-09]\n",
      "d01,d02,d12 = [1.1272471885436794, 1.127284373870418, 1.1272843738685732]\n"
     ]
    },
    {
     "name": "stderr",
     "output_type": "stream",
     "text": [
      "Progress:   3%|▎         | 34/1000 [13:40<6:33:44, 24.46s/it]"
     ]
    },
    {
     "name": "stdout",
     "output_type": "stream",
     "text": [
      "Time to: Calculate Ground State - 1.04s, Get Pauli Ops - 15.52s, Calculate Pauli Expectation Values - 5.39s, Calculate Covariance - 2.11s\n",
      "f0,f1,f2 = [4.773110180100887e-09, 4.773110180248976e-09, 3.160734448150678e-09]\n",
      "d01,d02,d12 = [1.1081559142433974, 1.1081963732162143, 1.108196373214003]\n"
     ]
    },
    {
     "name": "stderr",
     "output_type": "stream",
     "text": [
      "Progress:   4%|▎         | 35/1000 [14:05<6:37:53, 24.74s/it]"
     ]
    },
    {
     "name": "stdout",
     "output_type": "stream",
     "text": [
      "Time to: Calculate Ground State - 1.3s, Get Pauli Ops - 15.91s, Calculate Pauli Expectation Values - 5.7s, Calculate Covariance - 2.49s\n",
      "f0,f1,f2 = [3.9176312127183865e-09, 3.917631212662703e-09, 3.4573228065906673e-09]\n",
      "d01,d02,d12 = [1.0876988000698522, 1.087742812976887, 1.0877428129742566]\n"
     ]
    },
    {
     "name": "stderr",
     "output_type": "stream",
     "text": [
      "Progress:   4%|▎         | 36/1000 [14:29<6:33:13, 24.48s/it]"
     ]
    },
    {
     "name": "stdout",
     "output_type": "stream",
     "text": [
      "Time to: Calculate Ground State - 0.95s, Get Pauli Ops - 15.28s, Calculate Pauli Expectation Values - 5.12s, Calculate Covariance - 2.5s\n",
      "f0,f1,f2 = [2.8691013007707735e-09, 2.8691013006907404e-09, 4.595704656917623e-09]\n",
      "d01,d02,d12 = [1.0661266752500766, 1.0661741781157699, 1.0661741781128695]\n"
     ]
    },
    {
     "name": "stderr",
     "output_type": "stream",
     "text": [
      "Progress:   4%|▎         | 37/1000 [14:55<6:40:49, 24.97s/it]"
     ]
    },
    {
     "name": "stdout",
     "output_type": "stream",
     "text": [
      "Time to: Calculate Ground State - 1.23s, Get Pauli Ops - 18.37s, Calculate Pauli Expectation Values - 4.51s, Calculate Covariance - 2.02s\n",
      "f0,f1,f2 = [3.93212085811501e-09, 3.932120857456787e-09, 9.102859457974176e-10]\n",
      "d01,d02,d12 = [1.0436143361090622, 1.043664925989378, 1.0436649259865185]\n"
     ]
    },
    {
     "name": "stderr",
     "output_type": "stream",
     "text": [
      "Progress:   4%|▍         | 38/1000 [15:21<6:44:22, 25.22s/it]"
     ]
    },
    {
     "name": "stdout",
     "output_type": "stream",
     "text": [
      "Time to: Calculate Ground State - 1.12s, Get Pauli Ops - 17.54s, Calculate Pauli Expectation Values - 4.62s, Calculate Covariance - 2.51s\n",
      "f0,f1,f2 = [1.9956936407973883e-09, 1.9956936407566885e-09, 2.18058026629559e-09]\n",
      "d01,d02,d12 = [1.0204903180552511, 1.0205436904939862, 1.0205436904911798]\n"
     ]
    },
    {
     "name": "stderr",
     "output_type": "stream",
     "text": [
      "Progress:   4%|▍         | 39/1000 [15:46<6:42:15, 25.11s/it]"
     ]
    },
    {
     "name": "stdout",
     "output_type": "stream",
     "text": [
      "Time to: Calculate Ground State - 1.36s, Get Pauli Ops - 16.49s, Calculate Pauli Expectation Values - 4.78s, Calculate Covariance - 2.23s\n",
      "f0,f1,f2 = [1.1492631348714034e-09, 1.1492631347786608e-09, 2.1845040438365297e-09]\n",
      "d01,d02,d12 = [0.9971044432232337, 0.997159615623314, 0.9971596156204728]\n"
     ]
    },
    {
     "name": "stderr",
     "output_type": "stream",
     "text": [
      "Progress:   4%|▍         | 40/1000 [16:13<6:50:52, 25.68s/it]"
     ]
    },
    {
     "name": "stdout",
     "output_type": "stream",
     "text": [
      "Time to: Calculate Ground State - 1.08s, Get Pauli Ops - 16.55s, Calculate Pauli Expectation Values - 7.27s, Calculate Covariance - 2.09s\n",
      "f0,f1,f2 = [1.0099965925542253e-09, 1.0099965921806687e-09, 2.7779305661264386e-10]\n",
      "d01,d02,d12 = [0.9737626592098585, 0.9738197058344109, 0.9738197058317912]\n"
     ]
    },
    {
     "name": "stderr",
     "output_type": "stream",
     "text": [
      "Progress:   4%|▍         | 41/1000 [16:36<6:36:51, 24.83s/it]"
     ]
    },
    {
     "name": "stdout",
     "output_type": "stream",
     "text": [
      "Time to: Calculate Ground State - 0.95s, Get Pauli Ops - 14.02s, Calculate Pauli Expectation Values - 5.0s, Calculate Covariance - 2.86s\n",
      "f0,f1,f2 = [1.1836510618931793e-09, 1.1836510613841957e-09, 1.8499918172867994e-09]\n",
      "d01,d02,d12 = [0.950810673932695, 0.9508699116338698, 0.9508699116317773]\n"
     ]
    },
    {
     "name": "stderr",
     "output_type": "stream",
     "text": [
      "Progress:   4%|▍         | 42/1000 [17:00<6:32:30, 24.58s/it]"
     ]
    },
    {
     "name": "stdout",
     "output_type": "stream",
     "text": [
      "Time to: Calculate Ground State - 1.31s, Get Pauli Ops - 15.41s, Calculate Pauli Expectation Values - 5.0s, Calculate Covariance - 2.27s\n",
      "f0,f1,f2 = [1.6399707888801237e-09, 1.639970788560648e-09, 3.268026441295317e-09]\n",
      "d01,d02,d12 = [0.9286453356273707, 0.9287066695306049, 0.9287066695293137]\n"
     ]
    },
    {
     "name": "stderr",
     "output_type": "stream",
     "text": [
      "Progress:   4%|▍         | 43/1000 [17:22<6:19:31, 23.79s/it]"
     ]
    },
    {
     "name": "stdout",
     "output_type": "stream",
     "text": [
      "Time to: Calculate Ground State - 1.03s, Get Pauli Ops - 13.64s, Calculate Pauli Expectation Values - 5.1s, Calculate Covariance - 2.17s\n",
      "f0,f1,f2 = [3.114594726703723e-09, 3.1145947265852457e-09, 1.9102551020464337e-09]\n",
      "d01,d02,d12 = [0.907880262907043, 0.9079429918804558, 0.907942991879839]\n"
     ]
    },
    {
     "name": "stderr",
     "output_type": "stream",
     "text": [
      "Progress:   4%|▍         | 44/1000 [17:45<6:15:20, 23.56s/it]"
     ]
    },
    {
     "name": "stdout",
     "output_type": "stream",
     "text": [
      "Time to: Calculate Ground State - 1.0s, Get Pauli Ops - 14.08s, Calculate Pauli Expectation Values - 5.37s, Calculate Covariance - 2.55s\n",
      "f0,f1,f2 = [4.693347459491287e-09, 4.6933474594298236e-09, 2.4610748769909584e-09]\n",
      "d01,d02,d12 = [0.8890259799441351, 0.889089500233455, 0.8890895002334898]\n"
     ]
    },
    {
     "name": "stderr",
     "output_type": "stream",
     "text": [
      "Progress:   4%|▍         | 45/1000 [18:12<6:31:25, 24.59s/it]"
     ]
    },
    {
     "name": "stdout",
     "output_type": "stream",
     "text": [
      "Time to: Calculate Ground State - 1.04s, Get Pauli Ops - 18.55s, Calculate Pauli Expectation Values - 4.87s, Calculate Covariance - 2.54s\n",
      "f0,f1,f2 = [5.067840412330092e-09, 5.067840412376978e-09, 4.996161891327756e-09]\n",
      "d01,d02,d12 = [0.872476433523633, 0.8725402978154169, 0.8725402978160886]\n"
     ]
    },
    {
     "name": "stderr",
     "output_type": "stream",
     "text": [
      "Progress:   5%|▍         | 46/1000 [18:38<6:37:28, 25.00s/it]"
     ]
    },
    {
     "name": "stdout",
     "output_type": "stream",
     "text": [
      "Time to: Calculate Ground State - 1.04s, Get Pauli Ops - 16.53s, Calculate Pauli Expectation Values - 5.73s, Calculate Covariance - 2.63s\n",
      "f0,f1,f2 = [6.4152475981582396e-09, 6.41524759808663e-09, 5.657474396250495e-09]\n",
      "d01,d02,d12 = [0.8586921783171858, 0.8587558540777726, 0.8587558540790737]\n"
     ]
    },
    {
     "name": "stderr",
     "output_type": "stream",
     "text": [
      "Progress:   5%|▍         | 47/1000 [19:03<6:39:00, 25.12s/it]"
     ]
    },
    {
     "name": "stdout",
     "output_type": "stream",
     "text": [
      "Time to: Calculate Ground State - 1.03s, Get Pauli Ops - 17.0s, Calculate Pauli Expectation Values - 5.07s, Calculate Covariance - 2.3s\n",
      "f0,f1,f2 = [7.061639212822497e-09, 7.0616392127805656e-09, 7.433182237406072e-09]\n",
      "d01,d02,d12 = [0.8480236745040253, 0.8480864388224264, 0.8480864388242298]\n"
     ]
    },
    {
     "name": "stderr",
     "output_type": "stream",
     "text": [
      "Progress:   5%|▍         | 48/1000 [19:29<6:44:13, 25.48s/it]"
     ]
    },
    {
     "name": "stdout",
     "output_type": "stream",
     "text": [
      "Time to: Calculate Ground State - 1.35s, Get Pauli Ops - 17.24s, Calculate Pauli Expectation Values - 5.4s, Calculate Covariance - 2.31s\n",
      "f0,f1,f2 = [8.146672145257612e-09, 8.146672145269287e-09, 7.682727422567703e-09]\n",
      "d01,d02,d12 = [0.840808306073775, 0.8408691047749417, 0.8408691047772833]\n"
     ]
    },
    {
     "name": "stderr",
     "output_type": "stream",
     "text": [
      "Progress:   5%|▍         | 49/1000 [19:56<6:49:22, 25.83s/it]"
     ]
    },
    {
     "name": "stdout",
     "output_type": "stream",
     "text": [
      "Time to: Calculate Ground State - 1.13s, Get Pauli Ops - 17.98s, Calculate Pauli Expectation Values - 5.0s, Calculate Covariance - 2.52s\n",
      "f0,f1,f2 = [8.75778308440264e-09, 8.757783084403829e-09, 8.301509870331612e-09]\n",
      "d01,d02,d12 = [0.8372661069747336, 0.8373244257654574, 0.8373244257681112]\n"
     ]
    },
    {
     "name": "stderr",
     "output_type": "stream",
     "text": [
      "Progress:   5%|▌         | 50/1000 [20:21<6:46:56, 25.70s/it]"
     ]
    },
    {
     "name": "stdout",
     "output_type": "stream",
     "text": [
      "Time to: Calculate Ground State - 1.32s, Get Pauli Ops - 16.22s, Calculate Pauli Expectation Values - 5.3s, Calculate Covariance - 2.56s\n",
      "f0,f1,f2 = [8.778432080819758e-09, 8.7784320807509e-09, 9.13580167007717e-09]\n",
      "d01,d02,d12 = [0.8374304601542871, 0.8374854598489068, 0.8374854598517596]\n"
     ]
    },
    {
     "name": "stderr",
     "output_type": "stream",
     "text": [
      "Progress:   5%|▌         | 51/1000 [20:44<6:32:44, 24.83s/it]"
     ]
    },
    {
     "name": "stdout",
     "output_type": "stream",
     "text": [
      "Time to: Calculate Ground State - 1.08s, Get Pauli Ops - 14.37s, Calculate Pauli Expectation Values - 4.74s, Calculate Covariance - 2.6s\n",
      "f0,f1,f2 = [1.0080981776737206e-08, 1.008098177612121e-08, 6.843096465832166e-09]\n",
      "d01,d02,d12 = [0.8414743580681547, 0.8415246306839281, 0.8415246306866357]\n"
     ]
    },
    {
     "name": "stderr",
     "output_type": "stream",
     "text": [
      "Progress:   5%|▌         | 52/1000 [21:05<6:14:49, 23.72s/it]"
     ]
    },
    {
     "name": "stdout",
     "output_type": "stream",
     "text": [
      "Time to: Calculate Ground State - 0.79s, Get Pauli Ops - 13.1s, Calculate Pauli Expectation Values - 4.65s, Calculate Covariance - 2.58s\n",
      "f0,f1,f2 = [9.121526823059063e-09, 9.121526822737639e-09, 7.488749356296273e-09]\n",
      "d01,d02,d12 = [0.8490992414168383, 0.8491438786137192, 0.8491438786162717]\n"
     ]
    },
    {
     "name": "stderr",
     "output_type": "stream",
     "text": [
      "Progress:   5%|▌         | 53/1000 [21:32<6:29:48, 24.70s/it]"
     ]
    },
    {
     "name": "stdout",
     "output_type": "stream",
     "text": [
      "Time to: Calculate Ground State - 1.02s, Get Pauli Ops - 17.98s, Calculate Pauli Expectation Values - 5.0s, Calculate Covariance - 2.97s\n",
      "f0,f1,f2 = [8.303522130847035e-09, 8.303522130644864e-09, 7.212674993780116e-09]\n",
      "d01,d02,d12 = [0.8599817939113485, 0.8600189094939216, 0.8600189094960105]\n"
     ]
    },
    {
     "name": "stderr",
     "output_type": "stream",
     "text": [
      "Progress:   5%|▌         | 54/1000 [21:56<6:23:38, 24.33s/it]"
     ]
    },
    {
     "name": "stdout",
     "output_type": "stream",
     "text": [
      "Time to: Calculate Ground State - 1.03s, Get Pauli Ops - 15.28s, Calculate Pauli Expectation Values - 4.75s, Calculate Covariance - 2.4s\n",
      "f0,f1,f2 = [7.422023544106657e-09, 7.422023543900096e-09, 6.423670203380672e-09]\n",
      "d01,d02,d12 = [0.8737187583547703, 0.8737472204238309, 0.8737472204253377]\n"
     ]
    },
    {
     "name": "stderr",
     "output_type": "stream",
     "text": [
      "Progress:   6%|▌         | 55/1000 [22:22<6:33:06, 24.96s/it]"
     ]
    },
    {
     "name": "stdout",
     "output_type": "stream",
     "text": [
      "Time to: Calculate Ground State - 1.11s, Get Pauli Ops - 15.35s, Calculate Pauli Expectation Values - 7.3s, Calculate Covariance - 2.66s\n",
      "f0,f1,f2 = [5.7208599108020155e-09, 5.7208599108348075e-09, 6.788221297571184e-09]\n",
      "d01,d02,d12 = [0.8897876075746578, 0.8898071538144567, 0.8898071538153751]\n"
     ]
    },
    {
     "name": "stderr",
     "output_type": "stream",
     "text": [
      "Progress:   6%|▌         | 56/1000 [22:48<6:38:44, 25.34s/it]"
     ]
    },
    {
     "name": "stdout",
     "output_type": "stream",
     "text": [
      "Time to: Calculate Ground State - 1.12s, Get Pauli Ops - 15.75s, Calculate Pauli Expectation Values - 7.13s, Calculate Covariance - 2.23s\n",
      "f0,f1,f2 = [4.768977277384648e-09, 4.768977277382079e-09, 5.471346148045228e-09]\n",
      "d01,d02,d12 = [0.9077271292485357, 0.9077369915552768, 0.9077369915555924]\n"
     ]
    },
    {
     "name": "stderr",
     "output_type": "stream",
     "text": [
      "Progress:   6%|▌         | 57/1000 [23:12<6:31:33, 24.91s/it]"
     ]
    },
    {
     "name": "stdout",
     "output_type": "stream",
     "text": [
      "Time to: Calculate Ground State - 1.0s, Get Pauli Ops - 14.13s, Calculate Pauli Expectation Values - 5.97s, Calculate Covariance - 2.8s\n",
      "f0,f1,f2 = [4.155737056326925e-09, 4.155737056281287e-09, 3.307608964113759e-09]\n",
      "d01,d02,d12 = [0.9271018924448922, 0.9271036322359866, 0.927103632235692]\n"
     ]
    },
    {
     "name": "stderr",
     "output_type": "stream",
     "text": [
      "Progress:   6%|▌         | 58/1000 [23:38<6:34:37, 25.13s/it]"
     ]
    },
    {
     "name": "stdout",
     "output_type": "stream",
     "text": [
      "Time to: Calculate Ground State - 1.45s, Get Pauli Ops - 14.22s, Calculate Pauli Expectation Values - 7.31s, Calculate Covariance - 2.66s\n",
      "f0,f1,f2 = [2.6323491140850197e-09, 2.6323491141153996e-09, 3.052885351306238e-09]\n",
      "d01,d02,d12 = [0.9474011044813109, 0.9473947453751705, 0.9473947453742604]\n"
     ]
    },
    {
     "name": "stderr",
     "output_type": "stream",
     "text": [
      "Progress:   6%|▌         | 59/1000 [24:00<6:19:58, 24.23s/it]"
     ]
    },
    {
     "name": "stdout",
     "output_type": "stream",
     "text": [
      "Time to: Calculate Ground State - 1.07s, Get Pauli Ops - 13.42s, Calculate Pauli Expectation Values - 4.83s, Calculate Covariance - 2.78s\n",
      "f0,f1,f2 = [2.0225578168144695e-09, 2.0225578168869065e-09, 1.16714932534862e-09]\n",
      "d01,d02,d12 = [0.9682240647655223, 0.9682058943272217, 0.9682058943257583]\n"
     ]
    },
    {
     "name": "stderr",
     "output_type": "stream",
     "text": [
      "Progress:   6%|▌         | 60/1000 [24:24<6:19:06, 24.20s/it]"
     ]
    },
    {
     "name": "stdout",
     "output_type": "stream",
     "text": [
      "Time to: Calculate Ground State - 1.05s, Get Pauli Ops - 15.48s, Calculate Pauli Expectation Values - 5.24s, Calculate Covariance - 2.34s\n",
      "f0,f1,f2 = [1.4702993484924546e-09, 1.4702993488045712e-09, 2.649570832095574e-10]\n",
      "d01,d02,d12 = [0.9891757969408699, 0.9891451369347706, 0.9891451369328113]\n"
     ]
    },
    {
     "name": "stderr",
     "output_type": "stream",
     "text": [
      "Progress:   6%|▌         | 61/1000 [24:45<6:03:38, 23.24s/it]"
     ]
    },
    {
     "name": "stdout",
     "output_type": "stream",
     "text": [
      "Time to: Calculate Ground State - 0.88s, Get Pauli Ops - 12.26s, Calculate Pauli Expectation Values - 5.56s, Calculate Covariance - 2.27s\n",
      "f0,f1,f2 = [1.6676354270011214e-10, 1.6676354271784744e-10, 8.442216907671167e-11]\n",
      "d01,d02,d12 = [1.0098484349374581, 1.0098073478994338, 1.009807347896926]\n"
     ]
    },
    {
     "name": "stderr",
     "output_type": "stream",
     "text": [
      "Progress:   6%|▌         | 62/1000 [25:07<5:57:11, 22.85s/it]"
     ]
    },
    {
     "name": "stdout",
     "output_type": "stream",
     "text": [
      "Time to: Calculate Ground State - 1.36s, Get Pauli Ops - 13.05s, Calculate Pauli Expectation Values - 5.62s, Calculate Covariance - 1.91s\n",
      "f0,f1,f2 = [1.480923094536515e-09, 1.4809230947672119e-09, 1.2709025864363353e-10]\n",
      "d01,d02,d12 = [1.029889308230206, 1.0298333686999368, 1.0298333686970396]\n"
     ]
    },
    {
     "name": "stderr",
     "output_type": "stream",
     "text": [
      "Progress:   6%|▋         | 63/1000 [25:32<6:06:56, 23.50s/it]"
     ]
    },
    {
     "name": "stdout",
     "output_type": "stream",
     "text": [
      "Time to: Calculate Ground State - 1.0s, Get Pauli Ops - 16.49s, Calculate Pauli Expectation Values - 4.79s, Calculate Covariance - 2.72s\n",
      "f0,f1,f2 = [1.432206574983205e-09, 1.4322065748857592e-09, 2.1218691838518558e-09]\n",
      "d01,d02,d12 = [1.0490644523564239, 1.048990848773195, 1.0489908487700104]\n"
     ]
    },
    {
     "name": "stderr",
     "output_type": "stream",
     "text": [
      "Progress:   6%|▋         | 64/1000 [25:54<5:59:49, 23.07s/it]"
     ]
    },
    {
     "name": "stdout",
     "output_type": "stream",
     "text": [
      "Time to: Calculate Ground State - 1.01s, Get Pauli Ops - 13.58s, Calculate Pauli Expectation Values - 5.17s, Calculate Covariance - 2.29s\n",
      "f0,f1,f2 = [2.4702940591220413e-09, 2.470294059162243e-09, 1.8181474860318262e-09]\n",
      "d01,d02,d12 = [1.067104583398582, 1.0670116062304766, 1.0670116062270831]\n"
     ]
    },
    {
     "name": "stderr",
     "output_type": "stream",
     "text": [
      "Progress:   6%|▋         | 65/1000 [26:17<5:59:58, 23.10s/it]"
     ]
    },
    {
     "name": "stdout",
     "output_type": "stream",
     "text": [
      "Time to: Calculate Ground State - 0.81s, Get Pauli Ops - 15.09s, Calculate Pauli Expectation Values - 5.13s, Calculate Covariance - 2.14s\n",
      "f0,f1,f2 = [2.884844000327502e-09, 2.8848440004156526e-09, 2.475903016682432e-09]\n",
      "d01,d02,d12 = [1.0838116317300175, 1.0836993399548305, 1.083699339951236]\n"
     ]
    },
    {
     "name": "stderr",
     "output_type": "stream",
     "text": [
      "Progress:   7%|▋         | 66/1000 [26:40<5:57:26, 22.96s/it]"
     ]
    },
    {
     "name": "stdout",
     "output_type": "stream",
     "text": [
      "Time to: Calculate Ground State - 0.99s, Get Pauli Ops - 13.99s, Calculate Pauli Expectation Values - 5.24s, Calculate Covariance - 2.4s\n",
      "f0,f1,f2 = [3.271554528802002e-09, 3.2715545288473996e-09, 3.0116171607097745e-09]\n",
      "d01,d02,d12 = [1.0990181763431206, 1.0988862664087544, 1.098886266404985]\n"
     ]
    },
    {
     "name": "stderr",
     "output_type": "stream",
     "text": [
      "Progress:   7%|▋         | 67/1000 [27:01<5:46:21, 22.27s/it]"
     ]
    },
    {
     "name": "stdout",
     "output_type": "stream",
     "text": [
      "Time to: Calculate Ground State - 0.99s, Get Pauli Ops - 12.18s, Calculate Pauli Expectation Values - 5.15s, Calculate Covariance - 2.34s\n",
      "f0,f1,f2 = [3.24650848293557e-09, 3.246508482718744e-09, 4.362767028902192e-09]\n",
      "d01,d02,d12 = [1.1126072543308516, 1.1124488989011514, 1.1124488988973757]\n"
     ]
    },
    {
     "name": "stderr",
     "output_type": "stream",
     "text": [
      "Progress:   7%|▋         | 68/1000 [27:26<5:57:51, 23.04s/it]"
     ]
    },
    {
     "name": "stdout",
     "output_type": "stream",
     "text": [
      "Time to: Calculate Ground State - 1.01s, Get Pauli Ops - 14.67s, Calculate Pauli Expectation Values - 6.25s, Calculate Covariance - 2.88s\n",
      "f0,f1,f2 = [4.749497921196587e-09, 4.749497921805196e-09, 2.343254037459831e-09]\n",
      "d01,d02,d12 = [1.1244283183308692, 1.1242540639147525, 1.1242540639107825]\n"
     ]
    },
    {
     "name": "stderr",
     "output_type": "stream",
     "text": [
      "Progress:   7%|▋         | 69/1000 [27:51<6:07:25, 23.68s/it]"
     ]
    },
    {
     "name": "stdout",
     "output_type": "stream",
     "text": [
      "Time to: Calculate Ground State - 1.3s, Get Pauli Ops - 16.58s, Calculate Pauli Expectation Values - 4.93s, Calculate Covariance - 2.35s\n",
      "f0,f1,f2 = [4.285293148482764e-09, 4.285293148546856e-09, 3.749829066896982e-09]\n",
      "d01,d02,d12 = [1.1344131999633942, 1.1342245085107225, 1.134224508506529]\n"
     ]
    },
    {
     "name": "stderr",
     "output_type": "stream",
     "text": [
      "Progress:   7%|▋         | 70/1000 [28:15<6:08:14, 23.76s/it]"
     ]
    },
    {
     "name": "stdout",
     "output_type": "stream",
     "text": [
      "Time to: Calculate Ground State - 1.05s, Get Pauli Ops - 13.49s, Calculate Pauli Expectation Values - 6.8s, Calculate Covariance - 2.6s\n",
      "f0,f1,f2 = [4.9013145890779855e-09, 4.901314589538268e-09, 3.2090635753886508e-09]\n",
      "d01,d02,d12 = [1.1424846028040985, 1.1422838873272614, 1.1422838873228034]\n"
     ]
    },
    {
     "name": "stderr",
     "output_type": "stream",
     "text": [
      "Progress:   7%|▋         | 71/1000 [28:38<6:04:32, 23.54s/it]"
     ]
    },
    {
     "name": "stdout",
     "output_type": "stream",
     "text": [
      "Time to: Calculate Ground State - 1.32s, Get Pauli Ops - 13.34s, Calculate Pauli Expectation Values - 6.12s, Calculate Covariance - 2.26s\n",
      "f0,f1,f2 = [4.7260213378096886e-09, 4.726021337991259e-09, 3.983535224337264e-09]\n",
      "d01,d02,d12 = [1.1486041710156, 1.1483855825553624, 1.1483855825507567]\n"
     ]
    },
    {
     "name": "stderr",
     "output_type": "stream",
     "text": [
      "Progress:   7%|▋         | 72/1000 [29:03<6:11:52, 24.04s/it]"
     ]
    },
    {
     "name": "stdout",
     "output_type": "stream",
     "text": [
      "Time to: Calculate Ground State - 1.28s, Get Pauli Ops - 14.8s, Calculate Pauli Expectation Values - 6.26s, Calculate Covariance - 2.86s\n",
      "f0,f1,f2 = [4.427506957284107e-09, 4.427506957206237e-09, 4.897707696714813e-09]\n",
      "d01,d02,d12 = [1.1527666556394855, 1.152523687188571, 1.1525236871839566]\n"
     ]
    },
    {
     "name": "stderr",
     "output_type": "stream",
     "text": [
      "Progress:   7%|▋         | 73/1000 [29:25<6:02:40, 23.47s/it]"
     ]
    },
    {
     "name": "stdout",
     "output_type": "stream",
     "text": [
      "Time to: Calculate Ground State - 1.01s, Get Pauli Ops - 12.72s, Calculate Pauli Expectation Values - 5.64s, Calculate Covariance - 2.76s\n",
      "f0,f1,f2 = [4.71839083208752e-09, 4.718390832107165e-09, 4.522874440526388e-09]\n",
      "d01,d02,d12 = [1.1549514748241032, 1.154685463686903, 1.1546854636822856]\n"
     ]
    },
    {
     "name": "stderr",
     "output_type": "stream",
     "text": [
      "Progress:   7%|▋         | 74/1000 [29:49<6:05:19, 23.67s/it]"
     ]
    },
    {
     "name": "stdout",
     "output_type": "stream",
     "text": [
      "Time to: Calculate Ground State - 0.96s, Get Pauli Ops - 13.87s, Calculate Pauli Expectation Values - 6.32s, Calculate Covariance - 2.97s\n",
      "f0,f1,f2 = [4.759350726954093e-09, 4.759350726987917e-09, 4.5498587055687485e-09]\n",
      "d01,d02,d12 = [1.155164014527609, 1.1548710919916183, 1.1548710919870933]\n"
     ]
    },
    {
     "name": "stderr",
     "output_type": "stream",
     "text": [
      "Progress:   8%|▊         | 75/1000 [30:17<6:24:56, 24.97s/it]"
     ]
    },
    {
     "name": "stdout",
     "output_type": "stream",
     "text": [
      "Time to: Calculate Ground State - 1.1s, Get Pauli Ops - 16.86s, Calculate Pauli Expectation Values - 6.81s, Calculate Covariance - 3.22s\n",
      "f0,f1,f2 = [4.323514952668532e-09, 4.323514952474595e-09, 5.615216904411833e-09]\n",
      "d01,d02,d12 = [1.1534411968527984, 1.1531215544780464, 1.1531215544736313]\n"
     ]
    },
    {
     "name": "stderr",
     "output_type": "stream",
     "text": [
      "Progress:   8%|▊         | 76/1000 [30:44<6:33:59, 25.58s/it]"
     ]
    },
    {
     "name": "stdout",
     "output_type": "stream",
     "text": [
      "Time to: Calculate Ground State - 1.08s, Get Pauli Ops - 17.82s, Calculate Pauli Expectation Values - 4.93s, Calculate Covariance - 3.18s\n",
      "f0,f1,f2 = [4.5689737214001875e-09, 4.5689737212948344e-09, 4.892140985070422e-09]\n",
      "d01,d02,d12 = [1.1498006870543314, 1.149440966003118, 1.1494409659990084]\n"
     ]
    },
    {
     "name": "stderr",
     "output_type": "stream",
     "text": [
      "Progress:   8%|▊         | 77/1000 [31:11<6:40:38, 26.04s/it]"
     ]
    },
    {
     "name": "stdout",
     "output_type": "stream",
     "text": [
      "Time to: Calculate Ground State - 1.05s, Get Pauli Ops - 18.22s, Calculate Pauli Expectation Values - 5.13s, Calculate Covariance - 2.7s\n",
      "f0,f1,f2 = [4.38864497595251e-09, 4.388644975822925e-09, 5.10453826836121e-09]\n",
      "d01,d02,d12 = [1.144292686474171, 1.1438813308454434, 1.1438813308417601]\n"
     ]
    },
    {
     "name": "stderr",
     "output_type": "stream",
     "text": [
      "Progress:   8%|▊         | 78/1000 [31:36<6:35:29, 25.74s/it]"
     ]
    },
    {
     "name": "stdout",
     "output_type": "stream",
     "text": [
      "Time to: Calculate Ground State - 1.02s, Get Pauli Ops - 12.49s, Calculate Pauli Expectation Values - 8.64s, Calculate Covariance - 2.86s\n",
      "f0,f1,f2 = [4.418730590853552e-09, 4.41873059074916e-09, 4.665655745116232e-09]\n",
      "d01,d02,d12 = [1.1369781492011364, 1.1365109289446276, 1.1365109289414352]\n"
     ]
    },
    {
     "name": "stderr",
     "output_type": "stream",
     "text": [
      "Progress:   8%|▊         | 79/1000 [32:00<6:25:39, 25.12s/it]"
     ]
    },
    {
     "name": "stdout",
     "output_type": "stream",
     "text": [
      "Time to: Calculate Ground State - 1.03s, Get Pauli Ops - 14.89s, Calculate Pauli Expectation Values - 5.09s, Calculate Covariance - 2.67s\n",
      "f0,f1,f2 = [3.937826612536854e-09, 3.937826612401767e-09, 5.600954594327906e-09]\n",
      "d01,d02,d12 = [1.1279282380104139, 1.12738522241274, 1.127385222410178]\n"
     ]
    },
    {
     "name": "stderr",
     "output_type": "stream",
     "text": [
      "Progress:   8%|▊         | 80/1000 [32:22<6:12:58, 24.32s/it]"
     ]
    },
    {
     "name": "stdout",
     "output_type": "stream",
     "text": [
      "Time to: Calculate Ground State - 1.35s, Get Pauli Ops - 12.96s, Calculate Pauli Expectation Values - 5.33s, Calculate Covariance - 2.81s\n",
      "f0,f1,f2 = [4.3073131351399235e-09, 4.307313135174884e-09, 3.900237766633957e-09]\n",
      "d01,d02,d12 = [1.1172402660216743, 1.1166285895239652, 1.1166285895220274]\n"
     ]
    },
    {
     "name": "stderr",
     "output_type": "stream",
     "text": [
      "Progress:   8%|▊         | 81/1000 [32:45<6:04:01, 23.77s/it]"
     ]
    },
    {
     "name": "stdout",
     "output_type": "stream",
     "text": [
      "Time to: Calculate Ground State - 0.75s, Get Pauli Ops - 12.75s, Calculate Pauli Expectation Values - 5.99s, Calculate Covariance - 2.96s\n",
      "f0,f1,f2 = [4.932482652253041e-09, 4.932482652656822e-09, 2.2026240675828307e-09]\n",
      "d01,d02,d12 = [1.1050240513597522, 1.1043869929325716, 1.1043869929311443]\n"
     ]
    },
    {
     "name": "stderr",
     "output_type": "stream",
     "text": [
      "Progress:   8%|▊         | 82/1000 [33:10<6:07:50, 24.04s/it]"
     ]
    },
    {
     "name": "stdout",
     "output_type": "stream",
     "text": [
      "Time to: Calculate Ground State - 1.3s, Get Pauli Ops - 15.6s, Calculate Pauli Expectation Values - 5.14s, Calculate Covariance - 2.63s\n",
      "f0,f1,f2 = [3.2331986195662108e-09, 3.2331986195213098e-09, 5.3291963048082105e-09]\n",
      "d01,d02,d12 = [1.0914048622011778, 1.090698623367456, 1.0906986233666278]\n"
     ]
    },
    {
     "name": "stderr",
     "output_type": "stream",
     "text": [
      "Progress:   8%|▊         | 83/1000 [33:35<6:12:32, 24.38s/it]"
     ]
    },
    {
     "name": "stdout",
     "output_type": "stream",
     "text": [
      "Time to: Calculate Ground State - 1.04s, Get Pauli Ops - 16.18s, Calculate Pauli Expectation Values - 5.17s, Calculate Covariance - 2.75s\n",
      "f0,f1,f2 = [3.620554188745192e-09, 3.620554188797502e-09, 2.795574900293942e-09]\n",
      "d01,d02,d12 = [1.0765396489873669, 1.075781743406717, 1.075781743406464]\n"
     ]
    },
    {
     "name": "stderr",
     "output_type": "stream",
     "text": [
      "Progress:   8%|▊         | 84/1000 [33:58<6:08:42, 24.15s/it]"
     ]
    },
    {
     "name": "stdout",
     "output_type": "stream",
     "text": [
      "Time to: Calculate Ground State - 1.38s, Get Pauli Ops - 13.95s, Calculate Pauli Expectation Values - 5.39s, Calculate Covariance - 2.91s\n",
      "f0,f1,f2 = [2.717475682813709e-09, 2.717475682743308e-09, 3.799830410764264e-09]\n",
      "d01,d02,d12 = [1.0605795865809626, 1.0597483891896022, 1.0597483891899553]\n"
     ]
    },
    {
     "name": "stderr",
     "output_type": "stream",
     "text": [
      "Progress:   8%|▊         | 85/1000 [34:23<6:09:19, 24.22s/it]"
     ]
    },
    {
     "name": "stdout",
     "output_type": "stream",
     "text": [
      "Time to: Calculate Ground State - 0.74s, Get Pauli Ops - 15.44s, Calculate Pauli Expectation Values - 4.83s, Calculate Covariance - 3.35s\n",
      "f0,f1,f2 = [3.3957974780357456e-09, 3.3957974779714257e-09, 1.0149007525478961e-09]\n",
      "d01,d02,d12 = [1.0437388576650688, 1.0428935325271935, 1.0428935325281927]\n"
     ]
    },
    {
     "name": "stderr",
     "output_type": "stream",
     "text": [
      "Progress:   9%|▊         | 86/1000 [34:45<6:02:09, 23.77s/it]"
     ]
    },
    {
     "name": "stdout",
     "output_type": "stream",
     "text": [
      "Time to: Calculate Ground State - 1.32s, Get Pauli Ops - 13.66s, Calculate Pauli Expectation Values - 4.9s, Calculate Covariance - 2.85s\n",
      "f0,f1,f2 = [2.0769573025159284e-09, 2.076957302557291e-09, 1.961178625525306e-09]\n",
      "d01,d02,d12 = [1.026225499288135, 1.0253739580410963, 1.0253739580427248]\n"
     ]
    },
    {
     "name": "stderr",
     "output_type": "stream",
     "text": [
      "Progress:   9%|▊         | 87/1000 [35:08<5:57:43, 23.51s/it]"
     ]
    },
    {
     "name": "stdout",
     "output_type": "stream",
     "text": [
      "Time to: Calculate Ground State - 0.76s, Get Pauli Ops - 14.52s, Calculate Pauli Expectation Values - 4.84s, Calculate Covariance - 2.77s\n",
      "f0,f1,f2 = [1.396890572007645e-09, 1.3968905719943912e-09, 1.72210713049362e-09]\n",
      "d01,d02,d12 = [1.008274010525885, 1.0074115780084467, 1.007411578010693]\n"
     ]
    },
    {
     "name": "stderr",
     "output_type": "stream",
     "text": [
      "Progress:   9%|▉         | 88/1000 [35:31<5:51:59, 23.16s/it]"
     ]
    },
    {
     "name": "stdout",
     "output_type": "stream",
     "text": [
      "Time to: Calculate Ground State - 0.76s, Get Pauli Ops - 14.13s, Calculate Pauli Expectation Values - 4.86s, Calculate Covariance - 2.57s\n",
      "f0,f1,f2 = [7.471475979683331e-10, 7.471475979292734e-10, 1.4333225731303271e-09]\n",
      "d01,d02,d12 = [0.990155416445773, 0.9892624394559275, 0.9892624394587345]\n"
     ]
    },
    {
     "name": "stderr",
     "output_type": "stream",
     "text": [
      "Progress:   9%|▉         | 89/1000 [35:55<5:55:53, 23.44s/it]"
     ]
    },
    {
     "name": "stdout",
     "output_type": "stream",
     "text": [
      "Time to: Calculate Ground State - 0.75s, Get Pauli Ops - 15.08s, Calculate Pauli Expectation Values - 5.52s, Calculate Covariance - 2.74s\n",
      "f0,f1,f2 = [5.060559389101408e-10, 5.060559387483485e-10, 3.3732677999162613e-10]\n",
      "d01,d02,d12 = [0.9721653377181076, 0.9712666614727521, 0.9712666614761682]\n"
     ]
    },
    {
     "name": "stderr",
     "output_type": "stream",
     "text": [
      "Progress:   9%|▉         | 90/1000 [36:17<5:49:48, 23.06s/it]"
     ]
    },
    {
     "name": "stdout",
     "output_type": "stream",
     "text": [
      "Time to: Calculate Ground State - 0.76s, Get Pauli Ops - 13.62s, Calculate Pauli Expectation Values - 5.34s, Calculate Covariance - 2.47s\n",
      "f0,f1,f2 = [5.224532479097102e-10, 5.224532478159231e-10, 1.071464168199115e-09]\n",
      "d01,d02,d12 = [0.9546153582648663, 0.9537396620561419, 0.953739662060197]\n"
     ]
    },
    {
     "name": "stderr",
     "output_type": "stream",
     "text": [
      "Progress:   9%|▉         | 91/1000 [36:44<6:08:28, 24.32s/it]"
     ]
    },
    {
     "name": "stdout",
     "output_type": "stream",
     "text": [
      "Time to: Calculate Ground State - 1.32s, Get Pauli Ops - 15.03s, Calculate Pauli Expectation Values - 7.75s, Calculate Covariance - 3.15s\n",
      "f0,f1,f2 = [1.2535523962397412e-09, 1.2535523958621256e-09, 2.60782792682141e-09]\n",
      "d01,d02,d12 = [0.9378355201410968, 0.9370399673990804, 0.9370399674039306]\n"
     ]
    },
    {
     "name": "stderr",
     "output_type": "stream",
     "text": [
      "Progress:   9%|▉         | 92/1000 [37:09<6:10:32, 24.49s/it]"
     ]
    },
    {
     "name": "stdout",
     "output_type": "stream",
     "text": [
      "Time to: Calculate Ground State - 0.76s, Get Pauli Ops - 15.28s, Calculate Pauli Expectation Values - 5.69s, Calculate Covariance - 3.13s\n",
      "f0,f1,f2 = [2.77667709979128e-09, 2.7766770991409716e-09, 1.1729971702464597e-09]\n",
      "d01,d02,d12 = [0.9221459741966952, 0.921398566961068, 0.9213985669664306]\n"
     ]
    },
    {
     "name": "stderr",
     "output_type": "stream",
     "text": [
      "Progress:   9%|▉         | 93/1000 [37:33<6:05:51, 24.20s/it]"
     ]
    },
    {
     "name": "stdout",
     "output_type": "stream",
     "text": [
      "Time to: Calculate Ground State - 1.16s, Get Pauli Ops - 14.51s, Calculate Pauli Expectation Values - 4.73s, Calculate Covariance - 3.14s\n",
      "f0,f1,f2 = [2.838018566185695e-09, 2.838018566162006e-09, 3.628399338266482e-09]\n",
      "d01,d02,d12 = [0.9078824608757883, 0.9072126310404888, 0.907212631046444]\n"
     ]
    },
    {
     "name": "stderr",
     "output_type": "stream",
     "text": [
      "Progress:   9%|▉         | 94/1000 [37:59<6:13:01, 24.70s/it]"
     ]
    },
    {
     "name": "stdout",
     "output_type": "stream",
     "text": [
      "Time to: Calculate Ground State - 1.35s, Get Pauli Ops - 14.56s, Calculate Pauli Expectation Values - 6.7s, Calculate Covariance - 3.25s\n",
      "f0,f1,f2 = [3.767425280272323e-09, 3.767425280226831e-09, 4.152232628657353e-09]\n",
      "d01,d02,d12 = [0.89537345715319, 0.8948017509310502, 0.8948017509376595]\n"
     ]
    },
    {
     "name": "stderr",
     "output_type": "stream",
     "text": [
      "Progress:  10%|▉         | 95/1000 [38:27<6:30:15, 25.87s/it]"
     ]
    },
    {
     "name": "stdout",
     "output_type": "stream",
     "text": [
      "Time to: Calculate Ground State - 1.08s, Get Pauli Ops - 17.3s, Calculate Pauli Expectation Values - 7.22s, Calculate Covariance - 2.99s\n",
      "f0,f1,f2 = [4.7562922436086205e-09, 4.7562922433567746e-09, 4.400044821606705e-09]\n",
      "d01,d02,d12 = [0.8849225302303441, 0.884456937506356, 0.8844569375135585]\n"
     ]
    },
    {
     "name": "stderr",
     "output_type": "stream",
     "text": [
      "Progress:  10%|▉         | 96/1000 [38:52<6:23:21, 25.44s/it]"
     ]
    },
    {
     "name": "stdout",
     "output_type": "stream",
     "text": [
      "Time to: Calculate Ground State - 1.18s, Get Pauli Ops - 15.93s, Calculate Pauli Expectation Values - 4.76s, Calculate Covariance - 2.57s\n",
      "f0,f1,f2 = [5.342927316836677e-09, 5.342927316648807e-09, 5.3069779524529276e-09]\n",
      "d01,d02,d12 = [0.8767948499353861, 0.8764515421545539, 0.8764515421624289]\n"
     ]
    },
    {
     "name": "stderr",
     "output_type": "stream",
     "text": [
      "Progress:  10%|▉         | 97/1000 [39:15<6:14:25, 24.88s/it]"
     ]
    },
    {
     "name": "stdout",
     "output_type": "stream",
     "text": [
      "Time to: Calculate Ground State - 1.0s, Get Pauli Ops - 15.08s, Calculate Pauli Expectation Values - 4.83s, Calculate Covariance - 2.63s\n",
      "f0,f1,f2 = [5.583585089412578e-09, 5.583585089463258e-09, 6.507841966105183e-09]\n",
      "d01,d02,d12 = [0.8711694245760855, 0.8709688763470775, 0.8709688763558648]\n"
     ]
    },
    {
     "name": "stderr",
     "output_type": "stream",
     "text": [
      "Progress:  10%|▉         | 98/1000 [39:38<6:05:59, 24.35s/it]"
     ]
    },
    {
     "name": "stdout",
     "output_type": "stream",
     "text": [
      "Time to: Calculate Ground State - 1.27s, Get Pauli Ops - 14.39s, Calculate Pauli Expectation Values - 4.96s, Calculate Covariance - 2.48s\n",
      "f0,f1,f2 = [5.960619486202808e-09, 5.960619486314598e-09, 6.994361014993637e-09]\n",
      "d01,d02,d12 = [0.868185905911829, 0.8681279773683508, 0.8681279773778825]\n"
     ]
    },
    {
     "name": "stderr",
     "output_type": "stream",
     "text": [
      "Progress:  10%|▉         | 99/1000 [39:59<5:51:20, 23.40s/it]"
     ]
    },
    {
     "name": "stdout",
     "output_type": "stream",
     "text": [
      "Time to: Calculate Ground State - 0.74s, Get Pauli Ops - 12.98s, Calculate Pauli Expectation Values - 5.05s, Calculate Covariance - 2.4s\n",
      "f0,f1,f2 = [6.2307367320115226e-09, 6.230736732068788e-09, 6.989793872307232e-09]\n",
      "d01,d02,d12 = [0.867901803223154, 0.8679881579282146, 0.867988157938494]\n"
     ]
    },
    {
     "name": "stderr",
     "output_type": "stream",
     "text": [
      "Progress:  10%|█         | 100/1000 [40:24<5:54:15, 23.62s/it]"
     ]
    },
    {
     "name": "stdout",
     "output_type": "stream",
     "text": [
      "Time to: Calculate Ground State - 1.03s, Get Pauli Ops - 15.04s, Calculate Pauli Expectation Values - 4.85s, Calculate Covariance - 3.2s\n",
      "f0,f1,f2 = [5.9953806779548e-09, 5.995380676927383e-09, 7.647380434484668e-09]\n",
      "d01,d02,d12 = [0.8702758694173166, 0.8705061374758647, 0.8705061374863048]\n"
     ]
    },
    {
     "name": "stderr",
     "output_type": "stream",
     "text": [
      "Progress:  10%|█         | 101/1000 [40:45<5:45:58, 23.09s/it]"
     ]
    },
    {
     "name": "stdout",
     "output_type": "stream",
     "text": [
      "Time to: Calculate Ground State - 1.31s, Get Pauli Ops - 12.78s, Calculate Pauli Expectation Values - 5.11s, Calculate Covariance - 2.66s\n",
      "f0,f1,f2 = [6.234267359533189e-09, 6.234267359057086e-09, 6.528164069903217e-09]\n",
      "d01,d02,d12 = [0.875242312625747, 0.8756138177823298, 0.8756138177927287]\n"
     ]
    },
    {
     "name": "stderr",
     "output_type": "stream",
     "text": [
      "Progress:  10%|█         | 102/1000 [41:09<5:47:04, 23.19s/it]"
     ]
    },
    {
     "name": "stdout",
     "output_type": "stream",
     "text": [
      "Time to: Calculate Ground State - 1.29s, Get Pauli Ops - 14.6s, Calculate Pauli Expectation Values - 5.5s, Calculate Covariance - 2.02s\n",
      "f0,f1,f2 = [6.212339036705678e-09, 6.212339037050604e-09, 5.436432896086988e-09]\n",
      "d01,d02,d12 = [0.8826435328887057, 0.8831438630209518, 0.8831438630315817]\n"
     ]
    },
    {
     "name": "stderr",
     "output_type": "stream",
     "text": [
      "Progress:  10%|█         | 103/1000 [41:37<6:10:27, 24.78s/it]"
     ]
    },
    {
     "name": "stdout",
     "output_type": "stream",
     "text": [
      "Time to: Calculate Ground State - 1.02s, Get Pauli Ops - 15.02s, Calculate Pauli Expectation Values - 9.53s, Calculate Covariance - 2.91s\n",
      "f0,f1,f2 = [5.8411492703348684e-09, 5.841149270715116e-09, 4.6555235889166764e-09]\n",
      "d01,d02,d12 = [0.8922508919741612, 0.892871000024606, 0.8928710000353882]\n"
     ]
    },
    {
     "name": "stderr",
     "output_type": "stream",
     "text": [
      "Progress:  10%|█         | 104/1000 [42:00<5:58:33, 24.01s/it]"
     ]
    },
    {
     "name": "stdout",
     "output_type": "stream",
     "text": [
      "Time to: Calculate Ground State - 0.8s, Get Pauli Ops - 12.78s, Calculate Pauli Expectation Values - 6.18s, Calculate Covariance - 2.46s\n",
      "f0,f1,f2 = [5.005228646703768e-09, 5.005228646666815e-09, 4.398470124361213e-09]\n",
      "d01,d02,d12 = [0.9037634782301655, 0.9044941301149347, 0.9044941301258267]\n"
     ]
    },
    {
     "name": "stderr",
     "output_type": "stream",
     "text": [
      "Progress:  10%|█         | 105/1000 [42:23<5:53:36, 23.71s/it]"
     ]
    },
    {
     "name": "stdout",
     "output_type": "stream",
     "text": [
      "Time to: Calculate Ground State - 1.22s, Get Pauli Ops - 13.16s, Calculate Pauli Expectation Values - 5.23s, Calculate Covariance - 3.37s\n",
      "f0,f1,f2 = [3.973378567203542e-09, 3.973378566712228e-09, 4.326544151485923e-09]\n",
      "d01,d02,d12 = [0.9168406684373767, 0.9176853652865505, 0.917685365297248]\n"
     ]
    },
    {
     "name": "stderr",
     "output_type": "stream",
     "text": [
      "Progress:  11%|█         | 106/1000 [42:49<6:03:26, 24.39s/it]"
     ]
    },
    {
     "name": "stdout",
     "output_type": "stream",
     "text": [
      "Time to: Calculate Ground State - 0.92s, Get Pauli Ops - 14.54s, Calculate Pauli Expectation Values - 7.39s, Calculate Covariance - 3.14s\n",
      "f0,f1,f2 = [3.0792394567184846e-09, 3.0792394562232268e-09, 3.8303799299342235e-09]\n",
      "d01,d02,d12 = [0.9311279564928717, 0.9320713402451805, 0.9320713402556732]\n"
     ]
    },
    {
     "name": "stderr",
     "output_type": "stream",
     "text": [
      "Progress:  11%|█         | 107/1000 [43:12<5:59:27, 24.15s/it]"
     ]
    },
    {
     "name": "stdout",
     "output_type": "stream",
     "text": [
      "Time to: Calculate Ground State - 1.23s, Get Pauli Ops - 15.47s, Calculate Pauli Expectation Values - 4.65s, Calculate Covariance - 2.23s\n",
      "f0,f1,f2 = [2.3336441526528136e-09, 2.3336441522386612e-09, 2.9928146541269413e-09]\n",
      "d01,d02,d12 = [0.9462867752806289, 0.9472922520185043, 0.9472922520290074]\n"
     ]
    },
    {
     "name": "stderr",
     "output_type": "stream",
     "text": [
      "Progress:  11%|█         | 108/1000 [43:35<5:53:25, 23.77s/it]"
     ]
    },
    {
     "name": "stdout",
     "output_type": "stream",
     "text": [
      "Time to: Calculate Ground State - 1.34s, Get Pauli Ops - 14.89s, Calculate Pauli Expectation Values - 4.57s, Calculate Covariance - 2.09s\n",
      "f0,f1,f2 = [1.7963310172965774e-09, 1.7963310172147259e-09, 1.6112687919160838e-09]\n",
      "d01,d02,d12 = [0.9620214894768487, 0.9631214529449498, 0.9631214529550147]\n"
     ]
    },
    {
     "name": "stderr",
     "output_type": "stream",
     "text": [
      "Progress:  11%|█         | 109/1000 [43:57<5:46:01, 23.30s/it]"
     ]
    },
    {
     "name": "stdout",
     "output_type": "stream",
     "text": [
      "Time to: Calculate Ground State - 0.76s, Get Pauli Ops - 12.96s, Calculate Pauli Expectation Values - 5.17s, Calculate Covariance - 3.3s\n",
      "f0,f1,f2 = [9.482195730921447e-10, 9.482195727062266e-10, 1.0593874624682324e-09]\n",
      "d01,d02,d12 = [0.9779953842619734, 0.9791407698737158, 0.9791407698835302]\n"
     ]
    },
    {
     "name": "stderr",
     "output_type": "stream",
     "text": [
      "Progress:  11%|█         | 110/1000 [44:21<5:46:11, 23.34s/it]"
     ]
    },
    {
     "name": "stdout",
     "output_type": "stream",
     "text": [
      "Time to: Calculate Ground State - 0.77s, Get Pauli Ops - 15.16s, Calculate Pauli Expectation Values - 4.82s, Calculate Covariance - 2.67s\n",
      "f0,f1,f2 = [7.319855934881647e-10, 7.319855939801377e-10, 3.8009837352672744e-10]\n",
      "d01,d02,d12 = [0.9939376938389634, 0.9950765816283317, 0.9950765816381609]\n"
     ]
    },
    {
     "name": "stderr",
     "output_type": "stream",
     "text": [
      "Progress:  11%|█         | 111/1000 [44:45<5:48:27, 23.52s/it]"
     ]
    },
    {
     "name": "stdout",
     "output_type": "stream",
     "text": [
      "Time to: Calculate Ground State - 1.35s, Get Pauli Ops - 15.24s, Calculate Pauli Expectation Values - 4.78s, Calculate Covariance - 2.56s\n",
      "f0,f1,f2 = [1.0807725910344995e-09, 1.0807725929570902e-09, 6.553246879034781e-10]\n",
      "d01,d02,d12 = [1.009540499183005, 1.0106734501558001, 1.010673450165502]\n"
     ]
    },
    {
     "name": "stderr",
     "output_type": "stream",
     "text": [
      "Progress:  11%|█         | 112/1000 [45:08<5:49:33, 23.62s/it]"
     ]
    },
    {
     "name": "stdout",
     "output_type": "stream",
     "text": [
      "Time to: Calculate Ground State - 1.19s, Get Pauli Ops - 15.1s, Calculate Pauli Expectation Values - 4.83s, Calculate Covariance - 2.72s\n",
      "f0,f1,f2 = [8.704599007706063e-10, 8.704599012704311e-10, 1.8452492786358544e-09]\n",
      "d01,d02,d12 = [1.0246091630174907, 1.0257111284914304, 1.0257111285011373]\n"
     ]
    },
    {
     "name": "stderr",
     "output_type": "stream",
     "text": [
      "Progress:  11%|█▏        | 113/1000 [45:31<5:44:09, 23.28s/it]"
     ]
    },
    {
     "name": "stdout",
     "output_type": "stream",
     "text": [
      "Time to: Calculate Ground State - 1.07s, Get Pauli Ops - 14.37s, Calculate Pauli Expectation Values - 4.93s, Calculate Covariance - 2.12s\n",
      "f0,f1,f2 = [2.0617715355041173e-09, 2.061771536966602e-09, 4.280513460137232e-10]\n",
      "d01,d02,d12 = [1.0388956065307045, 1.0399929142201874, 1.039992914229576]\n"
     ]
    },
    {
     "name": "stderr",
     "output_type": "stream",
     "text": [
      "Progress:  11%|█▏        | 114/1000 [45:54<5:44:33, 23.33s/it]"
     ]
    },
    {
     "name": "stdout",
     "output_type": "stream",
     "text": [
      "Time to: Calculate Ground State - 1.3s, Get Pauli Ops - 14.54s, Calculate Pauli Expectation Values - 4.98s, Calculate Covariance - 2.63s\n",
      "f0,f1,f2 = [1.8667760199309785e-09, 1.866776021457236e-09, 4.047218617773056e-09]\n",
      "d01,d02,d12 = [1.0522749922024537, 1.0533024901163135, 1.0533024901258157]\n"
     ]
    },
    {
     "name": "stderr",
     "output_type": "stream",
     "text": [
      "Progress:  12%|█▏        | 115/1000 [46:19<5:48:28, 23.63s/it]"
     ]
    },
    {
     "name": "stdout",
     "output_type": "stream",
     "text": [
      "Time to: Calculate Ground State - 1.28s, Get Pauli Ops - 15.44s, Calculate Pauli Expectation Values - 5.07s, Calculate Covariance - 2.5s\n",
      "f0,f1,f2 = [2.1357517582099007e-09, 2.135751757881435e-09, 2.9664464318341165e-09]\n",
      "d01,d02,d12 = [1.0645546057741577, 1.0654853365062424, 1.0654853365160217]\n"
     ]
    },
    {
     "name": "stderr",
     "output_type": "stream",
     "text": [
      "Progress:  12%|█▏        | 116/1000 [46:42<5:47:47, 23.61s/it]"
     ]
    },
    {
     "name": "stdout",
     "output_type": "stream",
     "text": [
      "Time to: Calculate Ground State - 1.01s, Get Pauli Ops - 15.09s, Calculate Pauli Expectation Values - 4.64s, Calculate Covariance - 2.8s\n",
      "f0,f1,f2 = [3.335456859990609e-09, 3.335456861332348e-09, 1.4950260209313456e-09]\n",
      "d01,d02,d12 = [1.0755753377311028, 1.0764180527345208, 1.0764180527444325]\n"
     ]
    },
    {
     "name": "stderr",
     "output_type": "stream",
     "text": [
      "Progress:  12%|█▏        | 117/1000 [47:05<5:41:54, 23.23s/it]"
     ]
    },
    {
     "name": "stdout",
     "output_type": "stream",
     "text": [
      "Time to: Calculate Ground State - 1.33s, Get Pauli Ops - 13.88s, Calculate Pauli Expectation Values - 4.46s, Calculate Covariance - 2.68s\n",
      "f0,f1,f2 = [3.1816964737943123e-09, 3.1816964743819745e-09, 2.5253295991749435e-09]\n",
      "d01,d02,d12 = [1.0852459982404232, 1.0860180513495061, 1.0860180513592628]\n"
     ]
    },
    {
     "name": "stderr",
     "output_type": "stream",
     "text": [
      "Progress:  12%|█▏        | 118/1000 [47:32<6:00:19, 24.51s/it]"
     ]
    },
    {
     "name": "stdout",
     "output_type": "stream",
     "text": [
      "Time to: Calculate Ground State - 0.75s, Get Pauli Ops - 14.56s, Calculate Pauli Expectation Values - 9.2s, Calculate Covariance - 2.98s\n",
      "f0,f1,f2 = [3.4887299670432796e-09, 3.488729967832728e-09, 2.6666953780522775e-09]\n",
      "d01,d02,d12 = [1.0934718627723174, 1.0941744364061898, 1.0941744364156627]\n"
     ]
    },
    {
     "name": "stderr",
     "output_type": "stream",
     "text": [
      "Progress:  12%|█▏        | 119/1000 [47:55<5:53:33, 24.08s/it]"
     ]
    },
    {
     "name": "stdout",
     "output_type": "stream",
     "text": [
      "Time to: Calculate Ground State - 1.35s, Get Pauli Ops - 14.08s, Calculate Pauli Expectation Values - 4.8s, Calculate Covariance - 2.83s\n",
      "f0,f1,f2 = [3.2888452531962528e-09, 3.288845252985824e-09, 3.751566879973018e-09]\n",
      "d01,d02,d12 = [1.1001950018054827, 1.1008181706770641, 1.1008181706863527]\n"
     ]
    },
    {
     "name": "stderr",
     "output_type": "stream",
     "text": [
      "Progress:  12%|█▏        | 120/1000 [48:16<5:40:12, 23.20s/it]"
     ]
    },
    {
     "name": "stdout",
     "output_type": "stream",
     "text": [
      "Time to: Calculate Ground State - 0.76s, Get Pauli Ops - 13.79s, Calculate Pauli Expectation Values - 4.52s, Calculate Covariance - 2.07s\n",
      "f0,f1,f2 = [3.3702862845509032e-09, 3.370286284309458e-09, 4.100927331726643e-09]\n",
      "d01,d02,d12 = [1.1053703164878157, 1.105905041993765, 1.1059050420029062]\n"
     ]
    },
    {
     "name": "stderr",
     "output_type": "stream",
     "text": [
      "Progress:  12%|█▏        | 121/1000 [48:40<5:42:25, 23.37s/it]"
     ]
    },
    {
     "name": "stdout",
     "output_type": "stream",
     "text": [
      "Time to: Calculate Ground State - 1.29s, Get Pauli Ops - 14.2s, Calculate Pauli Expectation Values - 5.65s, Calculate Covariance - 2.65s\n",
      "f0,f1,f2 = [3.6709607846804374e-09, 3.670960784654464e-09, 3.779380746730572e-09]\n",
      "d01,d02,d12 = [1.1089563043341522, 1.1093953318302179, 1.1093953318392828]\n"
     ]
    },
    {
     "name": "stderr",
     "output_type": "stream",
     "text": [
      "Progress:  12%|█▏        | 122/1000 [49:02<5:33:46, 22.81s/it]"
     ]
    },
    {
     "name": "stdout",
     "output_type": "stream",
     "text": [
      "Time to: Calculate Ground State - 1.33s, Get Pauli Ops - 12.56s, Calculate Pauli Expectation Values - 5.02s, Calculate Covariance - 2.58s\n",
      "f0,f1,f2 = [4.674612387187068e-09, 4.674612389164847e-09, 2.2581136434576376e-09]\n",
      "d01,d02,d12 = [1.1109188379525836, 1.1112738875383998, 1.1112738875470347]\n"
     ]
    },
    {
     "name": "stderr",
     "output_type": "stream",
     "text": [
      "Progress:  12%|█▏        | 123/1000 [49:25<5:36:07, 23.00s/it]"
     ]
    },
    {
     "name": "stdout",
     "output_type": "stream",
     "text": [
      "Time to: Calculate Ground State - 1.34s, Get Pauli Ops - 13.15s, Calculate Pauli Expectation Values - 6.16s, Calculate Covariance - 2.78s\n",
      "f0,f1,f2 = [4.305587629530087e-09, 4.305587630323697e-09, 2.937875885668356e-09]\n",
      "d01,d02,d12 = [1.1112641561942875, 1.1115537497005834, 1.111553749708297]\n"
     ]
    },
    {
     "name": "stderr",
     "output_type": "stream",
     "text": [
      "Progress:  12%|█▏        | 124/1000 [49:46<5:27:16, 22.42s/it]"
     ]
    },
    {
     "name": "stdout",
     "output_type": "stream",
     "text": [
      "Time to: Calculate Ground State - 1.02s, Get Pauli Ops - 12.69s, Calculate Pauli Expectation Values - 4.83s, Calculate Covariance - 2.52s\n",
      "f0,f1,f2 = [4.4182717057071765e-09, 4.418271706855888e-09, 2.812910819783739e-09]\n",
      "d01,d02,d12 = [1.1099924557438539, 1.1102208669381302, 1.1102208669447284]\n"
     ]
    },
    {
     "name": "stderr",
     "output_type": "stream",
     "text": [
      "Progress:  12%|█▎        | 125/1000 [50:08<5:25:19, 22.31s/it]"
     ]
    },
    {
     "name": "stdout",
     "output_type": "stream",
     "text": [
      "Time to: Calculate Ground State - 1.31s, Get Pauli Ops - 13.63s, Calculate Pauli Expectation Values - 4.88s, Calculate Covariance - 2.23s\n",
      "f0,f1,f2 = [3.753093355906905e-09, 3.753093355971546e-09, 3.902379121145743e-09]\n",
      "d01,d02,d12 = [1.1071609727717813, 1.107327978367687, 1.1073279783730703]\n"
     ]
    },
    {
     "name": "stderr",
     "output_type": "stream",
     "text": [
      "Progress:  13%|█▎        | 126/1000 [50:30<5:20:53, 22.03s/it]"
     ]
    },
    {
     "name": "stdout",
     "output_type": "stream",
     "text": [
      "Time to: Calculate Ground State - 1.09s, Get Pauli Ops - 13.72s, Calculate Pauli Expectation Values - 4.7s, Calculate Covariance - 1.87s\n",
      "f0,f1,f2 = [3.6936116402465105e-09, 3.6936116400978434e-09, 3.876093844972646e-09]\n",
      "d01,d02,d12 = [1.1028057956934458, 1.1029097310573908, 1.1029097310616256]\n"
     ]
    },
    {
     "name": "stderr",
     "output_type": "stream",
     "text": [
      "Progress:  13%|█▎        | 127/1000 [50:52<5:24:29, 22.30s/it]"
     ]
    },
    {
     "name": "stdout",
     "output_type": "stream",
     "text": [
      "Time to: Calculate Ground State - 0.8s, Get Pauli Ops - 13.99s, Calculate Pauli Expectation Values - 5.32s, Calculate Covariance - 2.82s\n",
      "f0,f1,f2 = [4.6357128798520645e-09, 4.635712880931367e-09, 2.0588729548594835e-09]\n",
      "d01,d02,d12 = [1.0969478330254336, 1.0969922796959342, 1.096992279698772]\n"
     ]
    },
    {
     "name": "stderr",
     "output_type": "stream",
     "text": [
      "Progress:  13%|█▎        | 128/1000 [51:14<5:22:24, 22.18s/it]"
     ]
    },
    {
     "name": "stdout",
     "output_type": "stream",
     "text": [
      "Time to: Calculate Ground State - 1.33s, Get Pauli Ops - 13.07s, Calculate Pauli Expectation Values - 5.38s, Calculate Covariance - 2.12s\n",
      "f0,f1,f2 = [4.245096797611135e-09, 4.245096797593997e-09, 2.304393054992218e-09]\n",
      "d01,d02,d12 = [1.0896574851052356, 1.0896424910834799, 1.0896424910851121]\n"
     ]
    },
    {
     "name": "stderr",
     "output_type": "stream",
     "text": [
      "Progress:  13%|█▎        | 129/1000 [51:40<5:36:20, 23.17s/it]"
     ]
    },
    {
     "name": "stdout",
     "output_type": "stream",
     "text": [
      "Time to: Calculate Ground State - 1.09s, Get Pauli Ops - 14.94s, Calculate Pauli Expectation Values - 6.89s, Calculate Covariance - 2.54s\n",
      "f0,f1,f2 = [3.873991069350516e-09, 3.873991069453527e-09, 2.3819824918624073e-09]\n",
      "d01,d02,d12 = [1.0810300112263365, 1.0809600257281886, 1.080960025728728]\n"
     ]
    },
    {
     "name": "stderr",
     "output_type": "stream",
     "text": [
      "Progress:  13%|█▎        | 130/1000 [52:04<5:38:50, 23.37s/it]"
     ]
    },
    {
     "name": "stdout",
     "output_type": "stream",
     "text": [
      "Time to: Calculate Ground State - 0.78s, Get Pauli Ops - 15.83s, Calculate Pauli Expectation Values - 4.74s, Calculate Covariance - 2.47s\n",
      "f0,f1,f2 = [3.2389914631674906e-09, 3.2389914631815865e-09, 2.820851574250814e-09]\n",
      "d01,d02,d12 = [1.0711987836190708, 1.071074514062401, 1.0710745140618747]\n"
     ]
    },
    {
     "name": "stderr",
     "output_type": "stream",
     "text": [
      "Progress:  13%|█▎        | 131/1000 [52:27<5:38:30, 23.37s/it]"
     ]
    },
    {
     "name": "stdout",
     "output_type": "stream",
     "text": [
      "Time to: Calculate Ground State - 1.0s, Get Pauli Ops - 14.67s, Calculate Pauli Expectation Values - 5.23s, Calculate Covariance - 2.47s\n",
      "f0,f1,f2 = [2.487506842725016e-09, 2.487506842337974e-09, 3.825479439645695e-09]\n",
      "d01,d02,d12 = [1.0603488510190586, 1.0601559754882173, 1.0601559754867267]\n"
     ]
    },
    {
     "name": "stderr",
     "output_type": "stream",
     "text": [
      "Progress:  13%|█▎        | 132/1000 [52:49<5:32:21, 22.97s/it]"
     ]
    },
    {
     "name": "stdout",
     "output_type": "stream",
     "text": [
      "Time to: Calculate Ground State - 1.29s, Get Pauli Ops - 13.15s, Calculate Pauli Expectation Values - 4.88s, Calculate Covariance - 2.72s\n",
      "f0,f1,f2 = [2.513302187978301e-09, 2.513302187958693e-09, 2.591698441438014e-09]\n",
      "d01,d02,d12 = [1.0485632638137372, 1.0483093268169486, 1.0483093268144585]\n"
     ]
    },
    {
     "name": "stderr",
     "output_type": "stream",
     "text": [
      "Progress:  13%|█▎        | 133/1000 [53:09<5:19:06, 22.08s/it]"
     ]
    },
    {
     "name": "stdout",
     "output_type": "stream",
     "text": [
      "Time to: Calculate Ground State - 1.01s, Get Pauli Ops - 12.67s, Calculate Pauli Expectation Values - 4.44s, Calculate Covariance - 1.88s\n",
      "f0,f1,f2 = [2.588119297727374e-09, 2.5881192980336727e-09, 1.521058196555488e-09]\n",
      "d01,d02,d12 = [1.0359605110092627, 1.0356640610473717, 1.0356640610437544]\n"
     ]
    },
    {
     "name": "stderr",
     "output_type": "stream",
     "text": [
      "Progress:  13%|█▎        | 134/1000 [53:30<5:15:22, 21.85s/it]"
     ]
    },
    {
     "name": "stdout",
     "output_type": "stream",
     "text": [
      "Time to: Calculate Ground State - 0.77s, Get Pauli Ops - 13.07s, Calculate Pauli Expectation Values - 5.11s, Calculate Covariance - 2.34s\n",
      "f0,f1,f2 = [2.424729924153733e-09, 2.42472992477215e-09, 8.234238504110767e-10]\n",
      "d01,d02,d12 = [1.0226885442714582, 1.0223836277913436, 1.022383627786322]\n"
     ]
    },
    {
     "name": "stderr",
     "output_type": "stream",
     "text": [
      "Progress:  14%|█▎        | 135/1000 [53:54<5:21:29, 22.30s/it]"
     ]
    },
    {
     "name": "stdout",
     "output_type": "stream",
     "text": [
      "Time to: Calculate Ground State - 1.38s, Get Pauli Ops - 14.48s, Calculate Pauli Expectation Values - 4.93s, Calculate Covariance - 2.55s\n",
      "f0,f1,f2 = [1.2124205458089893e-09, 1.2124205454886138e-09, 1.948272947531464e-09]\n",
      "d01,d02,d12 = [1.0090088018348182, 1.0086730648354303, 1.0086730648293663]\n"
     ]
    },
    {
     "name": "stderr",
     "output_type": "stream",
     "text": [
      "Progress:  14%|█▎        | 136/1000 [54:18<5:27:42, 22.76s/it]"
     ]
    },
    {
     "name": "stdout",
     "output_type": "stream",
     "text": [
      "Time to: Calculate Ground State - 1.04s, Get Pauli Ops - 15.04s, Calculate Pauli Expectation Values - 5.44s, Calculate Covariance - 2.29s\n",
      "f0,f1,f2 = [1.928507364381725e-09, 1.928507365732778e-09, 5.137603153377955e-10]\n",
      "d01,d02,d12 = [0.9950280428643612, 0.9946666461210456, 0.9946666461138276]\n"
     ]
    },
    {
     "name": "stderr",
     "output_type": "stream",
     "text": [
      "Progress:  14%|█▎        | 137/1000 [54:40<5:25:57, 22.66s/it]"
     ]
    },
    {
     "name": "stdout",
     "output_type": "stream",
     "text": [
      "Time to: Calculate Ground State - 1.31s, Get Pauli Ops - 13.04s, Calculate Pauli Expectation Values - 5.2s, Calculate Covariance - 2.87s\n",
      "f0,f1,f2 = [4.1302705841376093e-10, 4.130270583975748e-10, 2.1230495990221257e-10]\n",
      "d01,d02,d12 = [0.9810510397891913, 0.9806680517919315, 0.980668051783536]\n"
     ]
    },
    {
     "name": "stderr",
     "output_type": "stream",
     "text": [
      "Progress:  14%|█▍        | 138/1000 [55:01<5:18:34, 22.17s/it]"
     ]
    },
    {
     "name": "stdout",
     "output_type": "stream",
     "text": [
      "Time to: Calculate Ground State - 1.36s, Get Pauli Ops - 12.84s, Calculate Pauli Expectation Values - 4.79s, Calculate Covariance - 2.04s\n",
      "f0,f1,f2 = [1.8307974291308797e-09, 1.8307974313672806e-09, 2.281220967262515e-09]\n",
      "d01,d02,d12 = [0.9671947029973089, 0.9668072905346778, 0.9668072905249679]\n"
     ]
    },
    {
     "name": "stderr",
     "output_type": "stream",
     "text": [
      "Progress:  14%|█▍        | 139/1000 [55:23<5:15:40, 22.00s/it]"
     ]
    },
    {
     "name": "stdout",
     "output_type": "stream",
     "text": [
      "Time to: Calculate Ground State - 0.77s, Get Pauli Ops - 13.76s, Calculate Pauli Expectation Values - 4.45s, Calculate Covariance - 2.6s\n",
      "f0,f1,f2 = [1.1695249733356283e-09, 1.169524974808518e-09, 2.232039927179361e-09]\n",
      "d01,d02,d12 = [0.9537158863832105, 0.9533522078408152, 0.9533522078292647]\n"
     ]
    },
    {
     "name": "stderr",
     "output_type": "stream",
     "text": [
      "Progress:  14%|█▍        | 140/1000 [55:44<5:13:58, 21.90s/it]"
     ]
    },
    {
     "name": "stdout",
     "output_type": "stream",
     "text": [
      "Time to: Calculate Ground State - 0.99s, Get Pauli Ops - 13.39s, Calculate Pauli Expectation Values - 4.7s, Calculate Covariance - 2.6s\n",
      "f0,f1,f2 = [1.3508258915750798e-09, 1.3508258919975333e-09, 2.7832078381045614e-09]\n",
      "d01,d02,d12 = [0.9408770644816657, 0.9405360523096674, 0.9405360522965613]\n"
     ]
    },
    {
     "name": "stderr",
     "output_type": "stream",
     "text": [
      "Progress:  14%|█▍        | 141/1000 [56:07<5:16:31, 22.11s/it]"
     ]
    },
    {
     "name": "stdout",
     "output_type": "stream",
     "text": [
      "Time to: Calculate Ground State - 1.35s, Get Pauli Ops - 13.59s, Calculate Pauli Expectation Values - 4.9s, Calculate Covariance - 2.72s\n",
      "f0,f1,f2 = [2.126381717301093e-09, 2.12638171769005e-09, 1.8745968328415998e-09]\n",
      "d01,d02,d12 = [0.9290283205606122, 0.9287039835873693, 0.9287039835731242]\n"
     ]
    },
    {
     "name": "stderr",
     "output_type": "stream",
     "text": [
      "Progress:  14%|█▍        | 142/1000 [56:30<5:20:03, 22.38s/it]"
     ]
    },
    {
     "name": "stdout",
     "output_type": "stream",
     "text": [
      "Time to: Calculate Ground State - 1.32s, Get Pauli Ops - 13.93s, Calculate Pauli Expectation Values - 4.76s, Calculate Covariance - 3.0s\n",
      "f0,f1,f2 = [2.5693203757728763e-09, 2.5693203758057e-09, 2.8660376864939793e-09]\n",
      "d01,d02,d12 = [0.918391133444731, 0.9180887768541999, 0.9180887768388102]\n"
     ]
    },
    {
     "name": "stderr",
     "output_type": "stream",
     "text": [
      "Progress:  14%|█▍        | 143/1000 [56:55<5:29:00, 23.03s/it]"
     ]
    },
    {
     "name": "stdout",
     "output_type": "stream",
     "text": [
      "Time to: Calculate Ground State - 1.06s, Get Pauli Ops - 15.82s, Calculate Pauli Expectation Values - 4.83s, Calculate Covariance - 2.84s\n",
      "f0,f1,f2 = [3.2574095082673655e-09, 3.2574095089072525e-09, 3.2371372941701553e-09]\n",
      "d01,d02,d12 = [0.9092134691511665, 0.908929520667549, 0.9089295206518211]\n"
     ]
    },
    {
     "name": "stderr",
     "output_type": "stream",
     "text": [
      "Progress:  14%|█▍        | 144/1000 [57:21<5:44:38, 24.16s/it]"
     ]
    },
    {
     "name": "stdout",
     "output_type": "stream",
     "text": [
      "Time to: Calculate Ground State - 1.03s, Get Pauli Ops - 17.5s, Calculate Pauli Expectation Values - 5.54s, Calculate Covariance - 2.7s\n",
      "f0,f1,f2 = [3.786513407368043e-09, 3.786513407974286e-09, 3.73902588655994e-09]\n",
      "d01,d02,d12 = [0.9016954451427874, 0.9014135869867564, 0.901413586971673]\n"
     ]
    },
    {
     "name": "stderr",
     "output_type": "stream",
     "text": [
      "Progress:  14%|█▍        | 145/1000 [57:44<5:38:59, 23.79s/it]"
     ]
    },
    {
     "name": "stdout",
     "output_type": "stream",
     "text": [
      "Time to: Calculate Ground State - 1.12s, Get Pauli Ops - 12.77s, Calculate Pauli Expectation Values - 6.94s, Calculate Covariance - 2.09s\n",
      "f0,f1,f2 = [3.903870918982962e-09, 3.903870918387944e-09, 5.0403826933982065e-09]\n",
      "d01,d02,d12 = [0.8959584044969171, 0.8956795855869364, 0.8956795855726609]\n"
     ]
    },
    {
     "name": "stderr",
     "output_type": "stream",
     "text": [
      "Progress:  15%|█▍        | 146/1000 [58:09<5:42:13, 24.04s/it]"
     ]
    },
    {
     "name": "stdout",
     "output_type": "stream",
     "text": [
      "Time to: Calculate Ground State - 1.28s, Get Pauli Ops - 13.53s, Calculate Pauli Expectation Values - 7.41s, Calculate Covariance - 2.41s\n",
      "f0,f1,f2 = [4.144020509308853e-09, 4.144020508497755e-09, 5.778215504493056e-09]\n",
      "d01,d02,d12 = [0.8921091365432878, 0.8918602921863741, 0.8918602921720882]\n"
     ]
    },
    {
     "name": "stderr",
     "output_type": "stream",
     "text": [
      "Progress:  15%|█▍        | 147/1000 [58:30<5:28:41, 23.12s/it]"
     ]
    },
    {
     "name": "stdout",
     "output_type": "stream",
     "text": [
      "Time to: Calculate Ground State - 1.01s, Get Pauli Ops - 12.52s, Calculate Pauli Expectation Values - 4.84s, Calculate Covariance - 2.59s\n",
      "f0,f1,f2 = [4.43417365119908e-09, 4.434173650312324e-09, 5.828436318762921e-09]\n",
      "d01,d02,d12 = [0.8902270197163129, 0.8900137035355628, 0.8900137035214306]\n"
     ]
    },
    {
     "name": "stderr",
     "output_type": "stream",
     "text": [
      "Progress:  15%|█▍        | 148/1000 [58:54<5:31:56, 23.38s/it]"
     ]
    },
    {
     "name": "stdout",
     "output_type": "stream",
     "text": [
      "Time to: Calculate Ground State - 1.0s, Get Pauli Ops - 15.05s, Calculate Pauli Expectation Values - 5.13s, Calculate Covariance - 2.79s\n",
      "f0,f1,f2 = [5.23485315075383e-09, 5.2348531519337685e-09, 4.427109538075878e-09]\n",
      "d01,d02,d12 = [0.8904631246639289, 0.8902855208861995, 0.890285520872361]\n"
     ]
    },
    {
     "name": "stderr",
     "output_type": "stream",
     "text": [
      "Progress:  15%|█▍        | 149/1000 [59:17<5:30:45, 23.32s/it]"
     ]
    },
    {
     "name": "stdout",
     "output_type": "stream",
     "text": [
      "Time to: Calculate Ground State - 1.13s, Get Pauli Ops - 14.67s, Calculate Pauli Expectation Values - 5.15s, Calculate Covariance - 2.24s\n",
      "f0,f1,f2 = [5.186697771800809e-09, 5.186697772781697e-09, 4.436738228424081e-09]\n",
      "d01,d02,d12 = [0.8927796274917335, 0.8926165657399928, 0.892616565727706]\n"
     ]
    },
    {
     "name": "stderr",
     "output_type": "stream",
     "text": [
      "Progress:  15%|█▌        | 150/1000 [59:40<5:30:47, 23.35s/it]"
     ]
    },
    {
     "name": "stdout",
     "output_type": "stream",
     "text": [
      "Time to: Calculate Ground State - 1.11s, Get Pauli Ops - 14.59s, Calculate Pauli Expectation Values - 5.08s, Calculate Covariance - 2.63s\n",
      "f0,f1,f2 = [4.4439545492118155e-09, 4.443954548568175e-09, 5.614997851279498e-09]\n",
      "d01,d02,d12 = [0.897004949261113, 0.8968587701698584, 0.8968587701589703]\n"
     ]
    },
    {
     "name": "stderr",
     "output_type": "stream",
     "text": [
      "Progress:  15%|█▌        | 151/1000 [1:00:07<5:44:28, 24.34s/it]"
     ]
    },
    {
     "name": "stdout",
     "output_type": "stream",
     "text": [
      "Time to: Calculate Ground State - 1.31s, Get Pauli Ops - 17.53s, Calculate Pauli Expectation Values - 4.86s, Calculate Covariance - 2.96s\n",
      "f0,f1,f2 = [4.717321147222032e-09, 4.717321147839825e-09, 4.094168874005077e-09]\n",
      "d01,d02,d12 = [0.9030809034742626, 0.9029557580735472, 0.9029557580641168]\n"
     ]
    },
    {
     "name": "stderr",
     "output_type": "stream",
     "text": [
      "Progress:  15%|█▌        | 152/1000 [1:00:32<5:47:30, 24.59s/it]"
     ]
    },
    {
     "name": "stdout",
     "output_type": "stream",
     "text": [
      "Time to: Calculate Ground State - 1.08s, Get Pauli Ops - 16.51s, Calculate Pauli Expectation Values - 5.05s, Calculate Covariance - 2.51s\n",
      "f0,f1,f2 = [3.776831221097069e-09, 3.776831220506629e-09, 5.093501333784827e-09]\n",
      "d01,d02,d12 = [0.9107509521083952, 0.9106609421935655, 0.9106609421850822]\n"
     ]
    },
    {
     "name": "stderr",
     "output_type": "stream",
     "text": [
      "Progress:  15%|█▌        | 153/1000 [1:00:54<5:34:53, 23.72s/it]"
     ]
    },
    {
     "name": "stdout",
     "output_type": "stream",
     "text": [
      "Time to: Calculate Ground State - 1.29s, Get Pauli Ops - 13.14s, Calculate Pauli Expectation Values - 4.65s, Calculate Covariance - 2.61s\n",
      "f0,f1,f2 = [3.575661587833245e-09, 3.575661587839899e-09, 3.899783564677427e-09]\n",
      "d01,d02,d12 = [0.9198490625064951, 0.9198073611795572, 0.9198073611713613]\n"
     ]
    },
    {
     "name": "stderr",
     "output_type": "stream",
     "text": [
      "Progress:  15%|█▌        | 154/1000 [1:01:16<5:29:00, 23.33s/it]"
     ]
    },
    {
     "name": "stdout",
     "output_type": "stream",
     "text": [
      "Time to: Calculate Ground State - 1.32s, Get Pauli Ops - 13.72s, Calculate Pauli Expectation Values - 4.81s, Calculate Covariance - 2.56s\n",
      "f0,f1,f2 = [3.779192843295175e-09, 3.779192844820191e-09, 2.088543530574967e-09]\n",
      "d01,d02,d12 = [0.93025224298919, 0.9302531703487857, 0.9302531703415473]\n"
     ]
    },
    {
     "name": "stderr",
     "output_type": "stream",
     "text": [
      "Progress:  16%|█▌        | 155/1000 [1:01:42<5:38:24, 24.03s/it]"
     ]
    },
    {
     "name": "stdout",
     "output_type": "stream",
     "text": [
      "Time to: Calculate Ground State - 1.11s, Get Pauli Ops - 13.79s, Calculate Pauli Expectation Values - 8.22s, Calculate Covariance - 2.51s\n",
      "f0,f1,f2 = [2.3909388642540632e-09, 2.390938863944368e-09, 3.092339442236049e-09]\n",
      "d01,d02,d12 = [0.941583867288338, 0.941627706012642, 0.9416277060063695]\n"
     ]
    },
    {
     "name": "stderr",
     "output_type": "stream",
     "text": [
      "Progress:  16%|█▌        | 156/1000 [1:02:07<5:42:24, 24.34s/it]"
     ]
    },
    {
     "name": "stdout",
     "output_type": "stream",
     "text": [
      "Time to: Calculate Ground State - 1.3s, Get Pauli Ops - 15.92s, Calculate Pauli Expectation Values - 5.06s, Calculate Covariance - 2.79s\n",
      "f0,f1,f2 = [1.8159696688652133e-09, 1.815969668519632e-09, 2.5506281250265626e-09]\n",
      "d01,d02,d12 = [0.953588490426268, 0.9536741829726909, 0.9536741829679432]\n"
     ]
    },
    {
     "name": "stderr",
     "output_type": "stream",
     "text": [
      "Progress:  16%|█▌        | 157/1000 [1:02:32<5:42:20, 24.37s/it]"
     ]
    },
    {
     "name": "stdout",
     "output_type": "stream",
     "text": [
      "Time to: Calculate Ground State - 1.05s, Get Pauli Ops - 15.7s, Calculate Pauli Expectation Values - 5.35s, Calculate Covariance - 2.32s\n",
      "f0,f1,f2 = [1.6675440703478617e-09, 1.667544070531361e-09, 1.0002877467386262e-09]\n",
      "d01,d02,d12 = [0.9660803546377521, 0.9662090159044433, 0.9662090159014936]\n"
     ]
    },
    {
     "name": "stderr",
     "output_type": "stream",
     "text": [
      "Progress:  16%|█▌        | 158/1000 [1:02:54<5:34:03, 23.80s/it]"
     ]
    },
    {
     "name": "stdout",
     "output_type": "stream",
     "text": [
      "Time to: Calculate Ground State - 1.31s, Get Pauli Ops - 13.42s, Calculate Pauli Expectation Values - 4.81s, Calculate Covariance - 2.95s\n",
      "f0,f1,f2 = [8.795840362159183e-10, 8.795840361062006e-10, 7.668013681424876e-10]\n",
      "d01,d02,d12 = [0.9787947598660041, 0.9789658792298577, 0.9789658792286868]\n"
     ]
    },
    {
     "name": "stderr",
     "output_type": "stream",
     "text": [
      "Progress:  16%|█▌        | 159/1000 [1:03:17<5:29:39, 23.52s/it]"
     ]
    },
    {
     "name": "stdout",
     "output_type": "stream",
     "text": [
      "Time to: Calculate Ground State - 1.35s, Get Pauli Ops - 14.26s, Calculate Pauli Expectation Values - 4.97s, Calculate Covariance - 2.25s\n",
      "f0,f1,f2 = [2.533439149051064e-10, 2.5334391515041307e-10, 2.598916269397988e-10]\n",
      "d01,d02,d12 = [0.9914856250335082, 0.9917155339211537, 0.9917155339219715]\n"
     ]
    },
    {
     "name": "stderr",
     "output_type": "stream",
     "text": [
      "Progress:  16%|█▌        | 160/1000 [1:03:44<5:45:52, 24.70s/it]"
     ]
    },
    {
     "name": "stdout",
     "output_type": "stream",
     "text": [
      "Time to: Calculate Ground State - 1.02s, Get Pauli Ops - 18.52s, Calculate Pauli Expectation Values - 4.85s, Calculate Covariance - 3.08s\n",
      "f0,f1,f2 = [6.306509508474451e-10, 6.306509509835619e-10, 9.803943426736474e-10]\n",
      "d01,d02,d12 = [1.0040078965111776, 1.0043133614861055, 1.0043133614888273]\n"
     ]
    },
    {
     "name": "stderr",
     "output_type": "stream",
     "text": [
      "Progress:  16%|█▌        | 161/1000 [1:04:06<5:32:38, 23.79s/it]"
     ]
    },
    {
     "name": "stdout",
     "output_type": "stream",
     "text": [
      "Time to: Calculate Ground State - 1.0s, Get Pauli Ops - 13.63s, Calculate Pauli Expectation Values - 4.55s, Calculate Covariance - 2.47s\n",
      "f0,f1,f2 = [8.424023245709981e-10, 8.424023247889107e-10, 5.081286580000761e-10]\n",
      "d01,d02,d12 = [1.016081567501276, 1.0164729537136612, 1.016472953718153]\n"
     ]
    },
    {
     "name": "stderr",
     "output_type": "stream",
     "text": [
      "Progress:  16%|█▌        | 162/1000 [1:04:28<5:26:42, 23.39s/it]"
     ]
    },
    {
     "name": "stdout",
     "output_type": "stream",
     "text": [
      "Time to: Calculate Ground State - 0.99s, Get Pauli Ops - 14.29s, Calculate Pauli Expectation Values - 4.56s, Calculate Covariance - 2.61s\n",
      "f0,f1,f2 = [1.108796932833386e-09, 1.1087969325375338e-09, 2.2787231518166457e-09]\n",
      "d01,d02,d12 = [1.0276618847041203, 1.0281438860481438, 1.0281438860541887]\n"
     ]
    },
    {
     "name": "stderr",
     "output_type": "stream",
     "text": [
      "Progress:  16%|█▋        | 163/1000 [1:04:51<5:24:28, 23.26s/it]"
     ]
    },
    {
     "name": "stdout",
     "output_type": "stream",
     "text": [
      "Time to: Calculate Ground State - 0.78s, Get Pauli Ops - 14.89s, Calculate Pauli Expectation Values - 4.69s, Calculate Covariance - 2.59s\n",
      "f0,f1,f2 = [1.3683115438917456e-09, 1.3683115434897197e-09, 2.613862352441248e-09]\n",
      "d01,d02,d12 = [1.0385813747068802, 1.0391417013049258, 1.039141701312519]\n"
     ]
    },
    {
     "name": "stderr",
     "output_type": "stream",
     "text": [
      "Progress:  16%|█▋        | 164/1000 [1:05:16<5:31:48, 23.81s/it]"
     ]
    },
    {
     "name": "stdout",
     "output_type": "stream",
     "text": [
      "Time to: Calculate Ground State - 0.82s, Get Pauli Ops - 14.2s, Calculate Pauli Expectation Values - 7.2s, Calculate Covariance - 2.87s\n",
      "f0,f1,f2 = [1.6588017467281748e-09, 1.6588017462133266e-09, 2.7866348827501594e-09]\n",
      "d01,d02,d12 = [1.0486754565306606, 1.0492662374777832, 1.0492662374875614]\n"
     ]
    },
    {
     "name": "stderr",
     "output_type": "stream",
     "text": [
      "Progress:  16%|█▋        | 165/1000 [1:05:40<5:29:19, 23.66s/it]"
     ]
    },
    {
     "name": "stdout",
     "output_type": "stream",
     "text": [
      "Time to: Calculate Ground State - 1.03s, Get Pauli Ops - 14.96s, Calculate Pauli Expectation Values - 4.83s, Calculate Covariance - 2.48s\n",
      "f0,f1,f2 = [1.9374102644367376e-09, 1.9374102639156875e-09, 3.271458510016039e-09]\n",
      "d01,d02,d12 = [1.0578241919187223, 1.0584157952777689, 1.058415795290188]\n"
     ]
    },
    {
     "name": "stderr",
     "output_type": "stream",
     "text": [
      "Progress:  17%|█▋        | 166/1000 [1:06:05<5:36:05, 24.18s/it]"
     ]
    },
    {
     "name": "stdout",
     "output_type": "stream",
     "text": [
      "Time to: Calculate Ground State - 0.79s, Get Pauli Ops - 17.65s, Calculate Pauli Expectation Values - 4.88s, Calculate Covariance - 2.06s\n",
      "f0,f1,f2 = [2.1768292673551298e-09, 2.176829266796459e-09, 3.45341008399025e-09]\n",
      "d01,d02,d12 = [1.0659159315206206, 1.0664550624228863, 1.0664550624389757]\n"
     ]
    },
    {
     "name": "stderr",
     "output_type": "stream",
     "text": [
      "Progress:  17%|█▋        | 167/1000 [1:06:29<5:32:04, 23.92s/it]"
     ]
    },
    {
     "name": "stdout",
     "output_type": "stream",
     "text": [
      "Time to: Calculate Ground State - 0.77s, Get Pauli Ops - 15.3s, Calculate Pauli Expectation Values - 4.86s, Calculate Covariance - 2.37s\n",
      "f0,f1,f2 = [2.5080679953423153e-09, 2.508067994847145e-09, 3.237573371874344e-09]\n",
      "d01,d02,d12 = [1.0728252055696443, 1.0732730957022119, 1.0732730957232026]\n"
     ]
    },
    {
     "name": "stderr",
     "output_type": "stream",
     "text": [
      "Progress:  17%|█▋        | 168/1000 [1:06:52<5:27:56, 23.65s/it]"
     ]
    },
    {
     "name": "stdout",
     "output_type": "stream",
     "text": [
      "Time to: Calculate Ground State - 1.28s, Get Pauli Ops - 14.69s, Calculate Pauli Expectation Values - 4.66s, Calculate Covariance - 2.38s\n",
      "f0,f1,f2 = [3.6824526403575356e-09, 3.6824526437224244e-09, 1.5710245546796364e-09]\n",
      "d01,d02,d12 = [1.0783866676718072, 1.0787532739103285, 1.078753273935521]\n"
     ]
    },
    {
     "name": "stderr",
     "output_type": "stream",
     "text": [
      "Progress:  17%|█▋        | 169/1000 [1:07:15<5:26:03, 23.54s/it]"
     ]
    },
    {
     "name": "stdout",
     "output_type": "stream",
     "text": [
      "Time to: Calculate Ground State - 1.33s, Get Pauli Ops - 14.84s, Calculate Pauli Expectation Values - 4.9s, Calculate Covariance - 2.21s\n",
      "f0,f1,f2 = [2.9508958940058123e-09, 2.9508958940275344e-09, 3.289838762774647e-09]\n",
      "d01,d02,d12 = [1.0826389707608315, 1.0829522428168181, 1.0829522428440017]\n"
     ]
    },
    {
     "name": "stderr",
     "output_type": "stream",
     "text": [
      "Progress:  17%|█▋        | 170/1000 [1:07:40<5:30:45, 23.91s/it]"
     ]
    },
    {
     "name": "stdout",
     "output_type": "stream",
     "text": [
      "Time to: Calculate Ground State - 1.0s, Get Pauli Ops - 14.09s, Calculate Pauli Expectation Values - 7.27s, Calculate Covariance - 2.4s\n",
      "f0,f1,f2 = [3.164803761521992e-09, 3.1648037619328182e-09, 3.1421597945430425e-09]\n",
      "d01,d02,d12 = [1.0855362778330921, 1.085782794017486, 1.0857827940477065]\n"
     ]
    },
    {
     "name": "stderr",
     "output_type": "stream",
     "text": [
      "Progress:  17%|█▋        | 171/1000 [1:08:04<5:31:34, 24.00s/it]"
     ]
    },
    {
     "name": "stdout",
     "output_type": "stream",
     "text": [
      "Time to: Calculate Ground State - 1.07s, Get Pauli Ops - 15.52s, Calculate Pauli Expectation Values - 5.32s, Calculate Covariance - 2.29s\n",
      "f0,f1,f2 = [2.843077867423277e-09, 2.843077866086917e-09, 4.3146202736063605e-09]\n",
      "d01,d02,d12 = [1.0871378380030203, 1.0873195861424219, 1.0873195861750644]\n"
     ]
    },
    {
     "name": "stderr",
     "output_type": "stream",
     "text": [
      "Progress:  17%|█▋        | 172/1000 [1:08:28<5:30:11, 23.93s/it]"
     ]
    },
    {
     "name": "stdout",
     "output_type": "stream",
     "text": [
      "Time to: Calculate Ground State - 1.11s, Get Pauli Ops - 15.24s, Calculate Pauli Expectation Values - 5.07s, Calculate Covariance - 2.33s\n",
      "f0,f1,f2 = [3.158011575011509e-09, 3.158011574953045e-09, 3.4153654317088374e-09]\n",
      "d01,d02,d12 = [1.0873899723980018, 1.087502837625849, 1.0875028376614724]\n"
     ]
    },
    {
     "name": "stderr",
     "output_type": "stream",
     "text": [
      "Progress:  17%|█▋        | 173/1000 [1:08:49<5:21:29, 23.32s/it]"
     ]
    },
    {
     "name": "stdout",
     "output_type": "stream",
     "text": [
      "Time to: Calculate Ground State - 1.14s, Get Pauli Ops - 12.82s, Calculate Pauli Expectation Values - 5.15s, Calculate Covariance - 2.79s\n",
      "f0,f1,f2 = [3.8705735019054545e-09, 3.8705735067818935e-09, 2.2201521499219856e-09]\n",
      "d01,d02,d12 = [1.086224282204631, 1.0862746028543873, 1.0862746028890293]\n"
     ]
    },
    {
     "name": "stderr",
     "output_type": "stream",
     "text": [
      "Progress:  17%|█▋        | 174/1000 [1:09:15<5:29:11, 23.91s/it]"
     ]
    },
    {
     "name": "stdout",
     "output_type": "stream",
     "text": [
      "Time to: Calculate Ground State - 1.19s, Get Pauli Ops - 13.74s, Calculate Pauli Expectation Values - 7.97s, Calculate Covariance - 2.36s\n",
      "f0,f1,f2 = [3.4707789649309566e-09, 3.4707789664674136e-09, 2.836525227927605e-09]\n",
      "d01,d02,d12 = [1.083692883825702, 1.083680883136892, 1.08368088316851]\n"
     ]
    },
    {
     "name": "stderr",
     "output_type": "stream",
     "text": [
      "Progress:  18%|█▊        | 175/1000 [1:09:37<5:20:36, 23.32s/it]"
     ]
    },
    {
     "name": "stdout",
     "output_type": "stream",
     "text": [
      "Time to: Calculate Ground State - 0.92s, Get Pauli Ops - 12.54s, Calculate Pauli Expectation Values - 5.81s, Calculate Covariance - 2.65s\n",
      "f0,f1,f2 = [3.5111205176811472e-09, 3.5111205162526042e-09, 2.570865787764896e-09]\n",
      "d01,d02,d12 = [1.0798225469975895, 1.0797458946464933, 1.0797458946737137]\n"
     ]
    },
    {
     "name": "stderr",
     "output_type": "stream",
     "text": [
      "Progress:  18%|█▊        | 176/1000 [1:09:59<5:17:16, 23.10s/it]"
     ]
    },
    {
     "name": "stdout",
     "output_type": "stream",
     "text": [
      "Time to: Calculate Ground State - 1.1s, Get Pauli Ops - 13.48s, Calculate Pauli Expectation Values - 5.67s, Calculate Covariance - 2.35s\n",
      "f0,f1,f2 = [3.757135113159535e-09, 3.757135111255167e-09, 1.9722048906347924e-09]\n",
      "d01,d02,d12 = [1.0746235101142632, 1.0745007108065492, 1.0745007108333913]\n"
     ]
    },
    {
     "name": "stderr",
     "output_type": "stream",
     "text": [
      "Progress:  18%|█▊        | 177/1000 [1:10:21<5:09:35, 22.57s/it]"
     ]
    },
    {
     "name": "stdout",
     "output_type": "stream",
     "text": [
      "Time to: Calculate Ground State - 1.01s, Get Pauli Ops - 13.43s, Calculate Pauli Expectation Values - 4.99s, Calculate Covariance - 1.88s\n",
      "f0,f1,f2 = [2.6920366663792625e-09, 2.692036661467168e-09, 5.3281042676577194e-09]\n",
      "d01,d02,d12 = [1.0684783667681579, 1.0682981021049218, 1.068298102128716]\n"
     ]
    },
    {
     "name": "stderr",
     "output_type": "stream",
     "text": [
      "Progress:  18%|█▊        | 178/1000 [1:10:43<5:08:31, 22.52s/it]"
     ]
    },
    {
     "name": "stdout",
     "output_type": "stream",
     "text": [
      "Time to: Calculate Ground State - 0.8s, Get Pauli Ops - 13.56s, Calculate Pauli Expectation Values - 5.29s, Calculate Covariance - 2.75s\n",
      "f0,f1,f2 = [2.577988735440751e-09, 2.5779887360236087e-09, 3.2241046862436468e-09]\n",
      "d01,d02,d12 = [1.0612878008510318, 1.0610361466424338, 1.06103614666118]\n"
     ]
    },
    {
     "name": "stderr",
     "output_type": "stream",
     "text": [
      "Progress:  18%|█▊        | 179/1000 [1:11:06<5:09:36, 22.63s/it]"
     ]
    },
    {
     "name": "stdout",
     "output_type": "stream",
     "text": [
      "Time to: Calculate Ground State - 1.0s, Get Pauli Ops - 13.96s, Calculate Pauli Expectation Values - 4.95s, Calculate Covariance - 2.96s\n",
      "f0,f1,f2 = [3.243803028290812e-09, 3.2438030270524022e-09, 1.4522477906227575e-09]\n",
      "d01,d02,d12 = [1.053016390795182, 1.052702767601175, 1.0527027676150322]\n"
     ]
    },
    {
     "name": "stderr",
     "output_type": "stream",
     "text": [
      "Progress:  18%|█▊        | 180/1000 [1:11:35<5:36:18, 24.61s/it]"
     ]
    },
    {
     "name": "stdout",
     "output_type": "stream",
     "text": [
      "Time to: Calculate Ground State - 0.99s, Get Pauli Ops - 19.36s, Calculate Pauli Expectation Values - 5.81s, Calculate Covariance - 3.05s\n",
      "f0,f1,f2 = [2.0622247814437872e-09, 2.062224781247243e-09, 3.139616033245019e-09]\n",
      "d01,d02,d12 = [1.043929637054354, 1.0435703422682279, 1.0435703422778067]\n"
     ]
    },
    {
     "name": "stderr",
     "output_type": "stream",
     "text": [
      "Progress:  18%|█▊        | 181/1000 [1:12:03<5:51:11, 25.73s/it]"
     ]
    },
    {
     "name": "stdout",
     "output_type": "stream",
     "text": [
      "Time to: Calculate Ground State - 1.19s, Get Pauli Ops - 19.2s, Calculate Pauli Expectation Values - 5.05s, Calculate Covariance - 2.9s\n",
      "f0,f1,f2 = [1.81657750229549e-09, 1.8165775009219612e-09, 3.4373588838279013e-09]\n",
      "d01,d02,d12 = [1.0341955856506126, 1.03384711449206, 1.0338471144985342]\n"
     ]
    },
    {
     "name": "stderr",
     "output_type": "stream",
     "text": [
      "Progress:  18%|█▊        | 182/1000 [1:12:30<5:52:12, 25.83s/it]"
     ]
    },
    {
     "name": "stdout",
     "output_type": "stream",
     "text": [
      "Time to: Calculate Ground State - 0.76s, Get Pauli Ops - 16.08s, Calculate Pauli Expectation Values - 6.21s, Calculate Covariance - 3.02s\n",
      "f0,f1,f2 = [2.265769581979087e-09, 2.2657695820454104e-09, 8.902345533806365e-10]\n",
      "d01,d02,d12 = [1.0237512078124507, 1.0234552178530647, 1.023455217857022]\n"
     ]
    },
    {
     "name": "stderr",
     "output_type": "stream",
     "text": [
      "Progress:  18%|█▊        | 183/1000 [1:12:53<5:43:15, 25.21s/it]"
     ]
    },
    {
     "name": "stdout",
     "output_type": "stream",
     "text": [
      "Time to: Calculate Ground State - 1.08s, Get Pauli Ops - 14.78s, Calculate Pauli Expectation Values - 4.86s, Calculate Covariance - 3.01s\n",
      "f0,f1,f2 = [1.458108551847596e-09, 1.4581085520903164e-09, 1.297313696331004e-09]\n",
      "d01,d02,d12 = [1.0128205546839038, 1.012593240769561, 1.012593240771061]\n"
     ]
    },
    {
     "name": "stderr",
     "output_type": "stream",
     "text": [
      "Progress:  18%|█▊        | 184/1000 [1:13:18<5:42:40, 25.20s/it]"
     ]
    },
    {
     "name": "stdout",
     "output_type": "stream",
     "text": [
      "Time to: Calculate Ground State - 1.05s, Get Pauli Ops - 16.0s, Calculate Pauli Expectation Values - 5.5s, Calculate Covariance - 2.6s\n",
      "f0,f1,f2 = [1.0832490706522782e-09, 1.083249070769667e-09, 9.213598439201475e-10]\n",
      "d01,d02,d12 = [1.0015634745481612, 1.0013977519011728, 1.0013977519001378]\n"
     ]
    },
    {
     "name": "stderr",
     "output_type": "stream",
     "text": [
      "Progress:  18%|█▊        | 185/1000 [1:13:43<5:40:06, 25.04s/it]"
     ]
    },
    {
     "name": "stdout",
     "output_type": "stream",
     "text": [
      "Time to: Calculate Ground State - 1.29s, Get Pauli Ops - 15.63s, Calculate Pauli Expectation Values - 5.0s, Calculate Covariance - 2.75s\n",
      "f0,f1,f2 = [1.1509358658477884e-09, 1.1509358653913322e-09, 1.9917850428394877e-09]\n",
      "d01,d02,d12 = [0.9903338947048957, 0.9902157268418207, 0.9902157268383043]\n"
     ]
    },
    {
     "name": "stderr",
     "output_type": "stream",
     "text": [
      "Progress:  19%|█▊        | 186/1000 [1:14:06<5:30:34, 24.37s/it]"
     ]
    },
    {
     "name": "stdout",
     "output_type": "stream",
     "text": [
      "Time to: Calculate Ground State - 0.76s, Get Pauli Ops - 13.64s, Calculate Pauli Expectation Values - 5.29s, Calculate Covariance - 3.1s\n",
      "f0,f1,f2 = [3.4777889338917655e-10, 3.477788938180145e-10, 3.355922988788657e-11]\n",
      "d01,d02,d12 = [0.9791174307058632, 0.9790521447299618, 0.9790521447237819]\n"
     ]
    },
    {
     "name": "stderr",
     "output_type": "stream",
     "text": [
      "Progress:  19%|█▊        | 187/1000 [1:14:29<5:26:26, 24.09s/it]"
     ]
    },
    {
     "name": "stdout",
     "output_type": "stream",
     "text": [
      "Time to: Calculate Ground State - 1.26s, Get Pauli Ops - 15.22s, Calculate Pauli Expectation Values - 4.61s, Calculate Covariance - 2.34s\n",
      "f0,f1,f2 = [4.5316158818216577e-10, 4.5316158856524547e-10, 3.3353555188904946e-11]\n",
      "d01,d02,d12 = [0.9681656713708199, 0.9681598477692135, 0.9681598477600931]\n"
     ]
    },
    {
     "name": "stderr",
     "output_type": "stream",
     "text": [
      "Progress:  19%|█▉        | 188/1000 [1:14:53<5:24:28, 23.98s/it]"
     ]
    },
    {
     "name": "stdout",
     "output_type": "stream",
     "text": [
      "Time to: Calculate Ground State - 1.1s, Get Pauli Ops - 14.94s, Calculate Pauli Expectation Values - 4.99s, Calculate Covariance - 2.66s\n",
      "f0,f1,f2 = [6.394359428855577e-10, 6.394359427167023e-10, 1.1028508526873512e-09]\n",
      "d01,d02,d12 = [0.9575843444086869, 0.9576366524077038, 0.9576366523958166]\n"
     ]
    },
    {
     "name": "stderr",
     "output_type": "stream",
     "text": [
      "Progress:  19%|█▉        | 189/1000 [1:15:17<5:24:09, 23.98s/it]"
     ]
    },
    {
     "name": "stdout",
     "output_type": "stream",
     "text": [
      "Time to: Calculate Ground State - 0.99s, Get Pauli Ops - 15.67s, Calculate Pauli Expectation Values - 4.74s, Calculate Covariance - 2.59s\n",
      "f0,f1,f2 = [1.129543925974449e-09, 1.1295439246237573e-09, 2.2193839630322403e-09]\n",
      "d01,d02,d12 = [0.9474927055844307, 0.947602728565293, 0.9476027285520916]\n"
     ]
    },
    {
     "name": "stderr",
     "output_type": "stream",
     "text": [
      "Progress:  19%|█▉        | 190/1000 [1:15:39<5:13:29, 23.22s/it]"
     ]
    },
    {
     "name": "stdout",
     "output_type": "stream",
     "text": [
      "Time to: Calculate Ground State - 1.06s, Get Pauli Ops - 12.67s, Calculate Pauli Expectation Values - 4.57s, Calculate Covariance - 3.14s\n",
      "f0,f1,f2 = [1.5565815900116428e-09, 1.5565815901568966e-09, 2.0930594633679336e-09]\n",
      "d01,d02,d12 = [0.9381605600907328, 0.9383149137614173, 0.9383149137443003]\n"
     ]
    },
    {
     "name": "stderr",
     "output_type": "stream",
     "text": [
      "Progress:  19%|█▉        | 191/1000 [1:16:05<5:24:37, 24.08s/it]"
     ]
    },
    {
     "name": "stdout",
     "output_type": "stream",
     "text": [
      "Time to: Calculate Ground State - 0.93s, Get Pauli Ops - 15.57s, Calculate Pauli Expectation Values - 6.95s, Calculate Covariance - 2.6s\n",
      "f0,f1,f2 = [2.2225001850204037e-09, 2.2225001855736163e-09, 2.103151322078632e-09]\n",
      "d01,d02,d12 = [0.9298440743938755, 0.9300359180366259, 0.9300359180149488]\n"
     ]
    },
    {
     "name": "stderr",
     "output_type": "stream",
     "text": [
      "Progress:  19%|█▉        | 192/1000 [1:16:29<5:27:01, 24.28s/it]"
     ]
    },
    {
     "name": "stdout",
     "output_type": "stream",
     "text": [
      "Time to: Calculate Ground State - 1.5s, Get Pauli Ops - 13.79s, Calculate Pauli Expectation Values - 7.23s, Calculate Covariance - 2.23s\n",
      "f0,f1,f2 = [2.6236624016844672e-09, 2.623662402205139e-09, 2.583079170407613e-09]\n",
      "d01,d02,d12 = [0.922701837843181, 0.922932972826893, 0.9229329728012764]\n"
     ]
    },
    {
     "name": "stderr",
     "output_type": "stream",
     "text": [
      "Progress:  19%|█▉        | 193/1000 [1:16:52<5:19:24, 23.75s/it]"
     ]
    },
    {
     "name": "stdout",
     "output_type": "stream",
     "text": [
      "Time to: Calculate Ground State - 1.36s, Get Pauli Ops - 12.84s, Calculate Pauli Expectation Values - 5.18s, Calculate Covariance - 3.11s\n",
      "f0,f1,f2 = [3.25891856484713e-09, 3.2589185646379028e-09, 2.515129260000137e-09]\n",
      "d01,d02,d12 = [0.9169414594596506, 0.9172302673020194, 0.9172302672759726]\n"
     ]
    },
    {
     "name": "stderr",
     "output_type": "stream",
     "text": [
      "Progress:  19%|█▉        | 194/1000 [1:17:14<5:14:06, 23.38s/it]"
     ]
    },
    {
     "name": "stdout",
     "output_type": "stream",
     "text": [
      "Time to: Calculate Ground State - 1.01s, Get Pauli Ops - 13.4s, Calculate Pauli Expectation Values - 5.19s, Calculate Covariance - 2.93s\n",
      "f0,f1,f2 = [3.334624491806431e-09, 3.334624492345711e-09, 3.242066311401538e-09]\n",
      "d01,d02,d12 = [0.9126220614192015, 0.9129591549548371, 0.9129591549281281]\n"
     ]
    },
    {
     "name": "stderr",
     "output_type": "stream",
     "text": [
      "Progress:  20%|█▉        | 195/1000 [1:17:37<5:09:47, 23.09s/it]"
     ]
    },
    {
     "name": "stdout",
     "output_type": "stream",
     "text": [
      "Time to: Calculate Ground State - 1.26s, Get Pauli Ops - 12.95s, Calculate Pauli Expectation Values - 5.02s, Calculate Covariance - 3.18s\n",
      "f0,f1,f2 = [3.6269944930531005e-09, 3.6269944935462205e-09, 3.385389771210971e-09]\n",
      "d01,d02,d12 = [0.9098413207739813, 0.9102069897091019, 0.9102069896806916]\n"
     ]
    },
    {
     "name": "stderr",
     "output_type": "stream",
     "text": [
      "Progress:  20%|█▉        | 196/1000 [1:18:00<5:11:21, 23.24s/it]"
     ]
    },
    {
     "name": "stdout",
     "output_type": "stream",
     "text": [
      "Time to: Calculate Ground State - 1.0s, Get Pauli Ops - 15.27s, Calculate Pauli Expectation Values - 5.1s, Calculate Covariance - 2.21s\n",
      "f0,f1,f2 = [3.777541327514256e-09, 3.7775413281320124e-09, 3.629706484271092e-09]\n",
      "d01,d02,d12 = [0.9086485931966457, 0.9089783244359771, 0.9089783244010954]\n"
     ]
    },
    {
     "name": "stderr",
     "output_type": "stream",
     "text": [
      "Progress:  20%|█▉        | 197/1000 [1:18:21<5:01:05, 22.50s/it]"
     ]
    },
    {
     "name": "stdout",
     "output_type": "stream",
     "text": [
      "Time to: Calculate Ground State - 0.76s, Get Pauli Ops - 12.7s, Calculate Pauli Expectation Values - 4.57s, Calculate Covariance - 2.73s\n",
      "f0,f1,f2 = [3.471123885265625e-09, 3.471123886448608e-09, 4.633482012769981e-09]\n",
      "d01,d02,d12 = [0.9089612086250509, 0.9092950613777125, 0.9092950613411162]\n"
     ]
    },
    {
     "name": "stderr",
     "output_type": "stream",
     "text": [
      "Progress:  20%|█▉        | 198/1000 [1:18:46<5:09:23, 23.15s/it]"
     ]
    },
    {
     "name": "stdout",
     "output_type": "stream",
     "text": [
      "Time to: Calculate Ground State - 1.36s, Get Pauli Ops - 14.18s, Calculate Pauli Expectation Values - 6.59s, Calculate Covariance - 2.52s\n",
      "f0,f1,f2 = [3.890310367028748e-09, 3.8903103674838925e-09, 3.5307158564043163e-09]\n",
      "d01,d02,d12 = [0.9108647408056727, 0.9111877016333296, 0.9111877015939039]\n"
     ]
    },
    {
     "name": "stderr",
     "output_type": "stream",
     "text": [
      "Progress:  20%|█▉        | 199/1000 [1:19:08<5:05:51, 22.91s/it]"
     ]
    },
    {
     "name": "stdout",
     "output_type": "stream",
     "text": [
      "Time to: Calculate Ground State - 1.2s, Get Pauli Ops - 13.52s, Calculate Pauli Expectation Values - 5.12s, Calculate Covariance - 2.52s\n",
      "f0,f1,f2 = [3.6103374089968686e-09, 3.610337410053071e-09, 3.758948470191415e-09]\n",
      "d01,d02,d12 = [0.9142564508646813, 0.9146055132809316, 0.914605513244292]\n"
     ]
    },
    {
     "name": "stderr",
     "output_type": "stream",
     "text": [
      "Progress:  20%|██        | 200/1000 [1:19:32<5:08:06, 23.11s/it]"
     ]
    },
    {
     "name": "stdout",
     "output_type": "stream",
     "text": [
      "Time to: Calculate Ground State - 1.0s, Get Pauli Ops - 15.06s, Calculate Pauli Expectation Values - 4.96s, Calculate Covariance - 2.54s\n",
      "f0,f1,f2 = [3.995684434911787e-09, 3.995684433079197e-09, 2.473255417353316e-09]\n",
      "d01,d02,d12 = [0.919178882292816, 0.9195641960013266, 0.9195641959692887]\n"
     ]
    },
    {
     "name": "stderr",
     "output_type": "stream",
     "text": [
      "Progress:  20%|██        | 201/1000 [1:20:01<5:32:37, 24.98s/it]"
     ]
    },
    {
     "name": "stdout",
     "output_type": "stream",
     "text": [
      "Time to: Calculate Ground State - 1.37s, Get Pauli Ops - 16.3s, Calculate Pauli Expectation Values - 8.88s, Calculate Covariance - 2.79s\n",
      "f0,f1,f2 = [3.435041548990531e-09, 3.4350415489643995e-09, 2.6990565705083536e-09]\n",
      "d01,d02,d12 = [0.9254409554776977, 0.925860547230976, 0.9258605472042989]\n"
     ]
    },
    {
     "name": "stderr",
     "output_type": "stream",
     "text": [
      "Progress:  20%|██        | 202/1000 [1:20:27<5:34:49, 25.17s/it]"
     ]
    },
    {
     "name": "stdout",
     "output_type": "stream",
     "text": [
      "Time to: Calculate Ground State - 1.06s, Get Pauli Ops - 16.12s, Calculate Pauli Expectation Values - 5.66s, Calculate Covariance - 2.78s\n",
      "f0,f1,f2 = [3.4087554118730427e-09, 3.4087554103899753e-09, 1.817529337683496e-09]\n",
      "d01,d02,d12 = [0.9329543651896051, 0.933418668004595, 0.9334186679840362]\n"
     ]
    },
    {
     "name": "stderr",
     "output_type": "stream",
     "text": [
      "Progress:  20%|██        | 203/1000 [1:20:53<5:39:46, 25.58s/it]"
     ]
    },
    {
     "name": "stdout",
     "output_type": "stream",
     "text": [
      "Time to: Calculate Ground State - 1.05s, Get Pauli Ops - 17.83s, Calculate Pauli Expectation Values - 5.15s, Calculate Covariance - 2.48s\n",
      "f0,f1,f2 = [2.1582544101645073e-09, 2.158254410266261e-09, 3.217835032022333e-09]\n",
      "d01,d02,d12 = [0.9412850566388986, 0.941808923112048, 0.9418089230986348]\n"
     ]
    },
    {
     "name": "stderr",
     "output_type": "stream",
     "text": [
      "Progress:  20%|██        | 204/1000 [1:21:17<5:34:00, 25.18s/it]"
     ]
    },
    {
     "name": "stdout",
     "output_type": "stream",
     "text": [
      "Time to: Calculate Ground State - 1.04s, Get Pauli Ops - 15.51s, Calculate Pauli Expectation Values - 5.26s, Calculate Covariance - 2.42s\n",
      "f0,f1,f2 = [1.945450607953879e-09, 1.9454506082942173e-09, 2.112070746435311e-09]\n",
      "d01,d02,d12 = [0.9503393661589834, 0.9509369419609377, 0.950936941955079]\n"
     ]
    },
    {
     "name": "stderr",
     "output_type": "stream",
     "text": [
      "Progress:  20%|██        | 205/1000 [1:21:41<5:27:49, 24.74s/it]"
     ]
    },
    {
     "name": "stdout",
     "output_type": "stream",
     "text": [
      "Time to: Calculate Ground State - 0.96s, Get Pauli Ops - 15.4s, Calculate Pauli Expectation Values - 4.94s, Calculate Covariance - 2.42s\n",
      "f0,f1,f2 = [2.12974592999112e-09, 2.1297459299703227e-09, 5.640816976281946e-10]\n",
      "d01,d02,d12 = [0.9600856487744873, 0.9607412155377889, 0.9607412155394791]\n"
     ]
    },
    {
     "name": "stderr",
     "output_type": "stream",
     "text": [
      "Progress:  21%|██        | 206/1000 [1:22:07<5:31:45, 25.07s/it]"
     ]
    },
    {
     "name": "stdout",
     "output_type": "stream",
     "text": [
      "Time to: Calculate Ground State - 1.01s, Get Pauli Ops - 17.1s, Calculate Pauli Expectation Values - 5.35s, Calculate Covariance - 2.36s\n",
      "f0,f1,f2 = [9.729030388900877e-10, 9.729030385762165e-10, 1.4385305942284753e-09]\n",
      "d01,d02,d12 = [0.9701248714144665, 0.9708123556533815, 0.9708123556627264]\n"
     ]
    },
    {
     "name": "stderr",
     "output_type": "stream",
     "text": [
      "Progress:  21%|██        | 207/1000 [1:22:31<5:28:05, 24.82s/it]"
     ]
    },
    {
     "name": "stdout",
     "output_type": "stream",
     "text": [
      "Time to: Calculate Ground State - 0.9s, Get Pauli Ops - 15.46s, Calculate Pauli Expectation Values - 4.89s, Calculate Covariance - 2.99s\n",
      "f0,f1,f2 = [6.438434330422042e-10, 6.43843432919089e-10, 1.3342759227253915e-09]\n",
      "d01,d02,d12 = [0.9802484914087745, 0.9810393945158469, 0.9810393945316355]\n"
     ]
    },
    {
     "name": "stderr",
     "output_type": "stream",
     "text": [
      "Progress:  21%|██        | 208/1000 [1:22:58<5:34:28, 25.34s/it]"
     ]
    },
    {
     "name": "stdout",
     "output_type": "stream",
     "text": [
      "Time to: Calculate Ground State - 0.96s, Get Pauli Ops - 18.03s, Calculate Pauli Expectation Values - 4.86s, Calculate Covariance - 2.68s\n",
      "f0,f1,f2 = [5.293787216830334e-10, 5.293787224367221e-10, 2.2539104741083202e-10]\n",
      "d01,d02,d12 = [0.9904088842319325, 0.9912551067298135, 0.9912551067529733]\n"
     ]
    },
    {
     "name": "stderr",
     "output_type": "stream",
     "text": [
      "Progress:  21%|██        | 209/1000 [1:23:23<5:33:28, 25.30s/it]"
     ]
    },
    {
     "name": "stdout",
     "output_type": "stream",
     "text": [
      "Time to: Calculate Ground State - 1.12s, Get Pauli Ops - 15.84s, Calculate Pauli Expectation Values - 5.54s, Calculate Covariance - 2.68s\n",
      "f0,f1,f2 = [3.219119904242964e-10, 3.219119901967108e-10, 4.4156570473672534e-11]\n",
      "d01,d02,d12 = [1.0003732091271063, 1.0013502984734615, 1.001350298501578]\n"
     ]
    },
    {
     "name": "stderr",
     "output_type": "stream",
     "text": [
      "Progress:  21%|██        | 210/1000 [1:23:47<5:27:03, 24.84s/it]"
     ]
    },
    {
     "name": "stdout",
     "output_type": "stream",
     "text": [
      "Time to: Calculate Ground State - 1.02s, Get Pauli Ops - 14.71s, Calculate Pauli Expectation Values - 5.53s, Calculate Covariance - 2.52s\n",
      "f0,f1,f2 = [5.913002617618088e-10, 5.913002620371271e-10, 6.551384537864422e-10]\n",
      "d01,d02,d12 = [1.0100011118742414, 1.0112268165336358, 1.0112268165639706]\n"
     ]
    },
    {
     "name": "stderr",
     "output_type": "stream",
     "text": [
      "Progress:  21%|██        | 211/1000 [1:24:12<5:28:12, 24.96s/it]"
     ]
    },
    {
     "name": "stdout",
     "output_type": "stream",
     "text": [
      "Time to: Calculate Ground State - 0.98s, Get Pauli Ops - 16.05s, Calculate Pauli Expectation Values - 5.27s, Calculate Covariance - 2.93s\n",
      "f0,f1,f2 = [9.919584983942533e-10, 9.919584994015978e-10, 8.655209485760156e-10]\n",
      "d01,d02,d12 = [1.0190479975271751, 1.0202887152519753, 1.0202887152896842]\n"
     ]
    },
    {
     "name": "stderr",
     "output_type": "stream",
     "text": [
      "Progress:  21%|██        | 212/1000 [1:24:37<5:27:56, 24.97s/it]"
     ]
    },
    {
     "name": "stdout",
     "output_type": "stream",
     "text": [
      "Time to: Calculate Ground State - 0.86s, Get Pauli Ops - 16.05s, Calculate Pauli Expectation Values - 5.4s, Calculate Covariance - 2.67s\n",
      "f0,f1,f2 = [1.2057299973670751e-09, 1.2057300005795394e-09, 2.671788056891206e-09]\n",
      "d01,d02,d12 = [1.027644757095966, 1.028876149497127, 1.0288761495425878]\n"
     ]
    },
    {
     "name": "stderr",
     "output_type": "stream",
     "text": [
      "Progress:  21%|██▏       | 213/1000 [1:25:04<5:35:02, 25.54s/it]"
     ]
    },
    {
     "name": "stdout",
     "output_type": "stream",
     "text": [
      "Time to: Calculate Ground State - 1.14s, Get Pauli Ops - 17.51s, Calculate Pauli Expectation Values - 5.25s, Calculate Covariance - 2.96s\n",
      "f0,f1,f2 = [1.5539837177330105e-09, 1.5539837178258104e-09, 1.6003346870714971e-09]\n",
      "d01,d02,d12 = [1.035490768758576, 1.0366388590244173, 1.0366388590796034]\n"
     ]
    },
    {
     "name": "stderr",
     "output_type": "stream",
     "text": [
      "Progress:  21%|██▏       | 214/1000 [1:25:28<5:28:32, 25.08s/it]"
     ]
    },
    {
     "name": "stdout",
     "output_type": "stream",
     "text": [
      "Time to: Calculate Ground State - 1.05s, Get Pauli Ops - 14.49s, Calculate Pauli Expectation Values - 5.52s, Calculate Covariance - 2.93s\n",
      "f0,f1,f2 = [2.05911238231251e-09, 2.059112384561313e-09, 1.3041542169703839e-09]\n",
      "d01,d02,d12 = [1.0423821182839326, 1.0432248169198257, 1.0432248169945633]\n"
     ]
    },
    {
     "name": "stderr",
     "output_type": "stream",
     "text": [
      "Progress:  22%|██▏       | 215/1000 [1:25:53<5:28:46, 25.13s/it]"
     ]
    },
    {
     "name": "stdout",
     "output_type": "stream",
     "text": [
      "Time to: Calculate Ground State - 1.2s, Get Pauli Ops - 16.76s, Calculate Pauli Expectation Values - 4.74s, Calculate Covariance - 2.55s\n",
      "f0,f1,f2 = [2.1658987262722184e-09, 2.165898728932371e-09, 1.7467835290883296e-09]\n",
      "d01,d02,d12 = [1.048329052033243, 1.0488292465657634, 1.04882924666243]\n"
     ]
    },
    {
     "name": "stderr",
     "output_type": "stream",
     "text": [
      "Progress:  22%|██▏       | 216/1000 [1:26:17<5:21:28, 24.60s/it]"
     ]
    },
    {
     "name": "stdout",
     "output_type": "stream",
     "text": [
      "Time to: Calculate Ground State - 1.15s, Get Pauli Ops - 14.19s, Calculate Pauli Expectation Values - 5.16s, Calculate Covariance - 2.86s\n",
      "f0,f1,f2 = [2.7164174563782466e-09, 2.716417469303301e-09, 1.337833354946668e-09]\n",
      "d01,d02,d12 = [1.0532236366062502, 1.0534605916670614, 1.0534605917683897]\n"
     ]
    },
    {
     "name": "stderr",
     "output_type": "stream",
     "text": [
      "Progress:  22%|██▏       | 217/1000 [1:26:39<5:11:16, 23.85s/it]"
     ]
    },
    {
     "name": "stdout",
     "output_type": "stream",
     "text": [
      "Time to: Calculate Ground State - 1.02s, Get Pauli Ops - 13.6s, Calculate Pauli Expectation Values - 4.89s, Calculate Covariance - 2.57s\n",
      "f0,f1,f2 = [2.2331203557931486e-09, 2.2331203555021146e-09, 2.624240094794014e-09]\n",
      "d01,d02,d12 = [1.0571247084363473, 1.0570864872010344, 1.057086487311524]\n"
     ]
    },
    {
     "name": "stderr",
     "output_type": "stream",
     "text": [
      "Progress:  22%|██▏       | 218/1000 [1:27:03<5:12:03, 23.94s/it]"
     ]
    },
    {
     "name": "stdout",
     "output_type": "stream",
     "text": [
      "Time to: Calculate Ground State - 0.85s, Get Pauli Ops - 12.96s, Calculate Pauli Expectation Values - 7.28s, Calculate Covariance - 3.05s\n",
      "f0,f1,f2 = [3.1277382977746274e-09, 3.127738287437868e-09, 1.3888369910237609e-09]\n",
      "d01,d02,d12 = [1.0598461092652853, 1.0595546284993664, 1.0595546286472424]\n"
     ]
    },
    {
     "name": "stderr",
     "output_type": "stream",
     "text": [
      "Progress:  22%|██▏       | 219/1000 [1:27:26<5:08:27, 23.70s/it]"
     ]
    },
    {
     "name": "stdout",
     "output_type": "stream",
     "text": [
      "Time to: Calculate Ground State - 1.14s, Get Pauli Ops - 14.28s, Calculate Pauli Expectation Values - 4.49s, Calculate Covariance - 3.21s\n",
      "f0,f1,f2 = [2.17914908448671e-09, 2.1791490793918815e-09, 3.970874646471938e-09]\n",
      "d01,d02,d12 = [1.061695082860875, 1.0611004665678454, 1.061100466729989]\n"
     ]
    },
    {
     "name": "stderr",
     "output_type": "stream",
     "text": [
      "Progress:  22%|██▏       | 220/1000 [1:27:53<5:20:38, 24.66s/it]"
     ]
    },
    {
     "name": "stdout",
     "output_type": "stream",
     "text": [
      "Time to: Calculate Ground State - 1.03s, Get Pauli Ops - 17.92s, Calculate Pauli Expectation Values - 4.88s, Calculate Covariance - 3.08s\n",
      "f0,f1,f2 = [2.681806309439478e-09, 2.6818063088219577e-09, 2.351601529813606e-09]\n",
      "d01,d02,d12 = [1.0624370437731283, 1.0615574418859843, 1.0615574420686102]\n"
     ]
    },
    {
     "name": "stderr",
     "output_type": "stream",
     "text": [
      "Progress:  22%|██▏       | 221/1000 [1:28:23<5:40:11, 26.20s/it]"
     ]
    },
    {
     "name": "stdout",
     "output_type": "stream",
     "text": [
      "Time to: Calculate Ground State - 1.27s, Get Pauli Ops - 20.76s, Calculate Pauli Expectation Values - 4.74s, Calculate Covariance - 3.01s\n",
      "f0,f1,f2 = [3.140437933016741e-09, 3.1404379158626045e-09, 1.5394917209482646e-09]\n",
      "d01,d02,d12 = [1.0619887070418343, 1.0609667001802374, 1.0609667004050185]\n"
     ]
    },
    {
     "name": "stderr",
     "output_type": "stream",
     "text": [
      "Progress:  22%|██▏       | 222/1000 [1:28:50<5:44:45, 26.59s/it]"
     ]
    },
    {
     "name": "stdout",
     "output_type": "stream",
     "text": [
      "Time to: Calculate Ground State - 1.01s, Get Pauli Ops - 18.51s, Calculate Pauli Expectation Values - 5.18s, Calculate Covariance - 2.78s\n",
      "f0,f1,f2 = [2.5083303860023627e-09, 2.508330388720482e-09, 2.8157476782395354e-09]\n",
      "d01,d02,d12 = [1.0605330407506273, 1.0595473277695862, 1.0595473280694758]\n"
     ]
    },
    {
     "name": "stderr",
     "output_type": "stream",
     "text": [
      "Progress:  22%|██▏       | 223/1000 [1:29:11<5:22:22, 24.89s/it]"
     ]
    },
    {
     "name": "stdout",
     "output_type": "stream",
     "text": [
      "Time to: Calculate Ground State - 0.76s, Get Pauli Ops - 12.72s, Calculate Pauli Expectation Values - 4.73s, Calculate Covariance - 2.73s\n",
      "f0,f1,f2 = [2.2456179986695575e-09, 2.2456179761754697e-09, 4.307628213195657e-09]\n",
      "d01,d02,d12 = [1.0582839804897515, 1.0573511242741802, 1.0573511246515326]\n"
     ]
    },
    {
     "name": "stderr",
     "output_type": "stream",
     "text": [
      "Progress:  22%|██▏       | 224/1000 [1:29:33<5:11:14, 24.06s/it]"
     ]
    },
    {
     "name": "stdout",
     "output_type": "stream",
     "text": [
      "Time to: Calculate Ground State - 0.75s, Get Pauli Ops - 14.13s, Calculate Pauli Expectation Values - 5.04s, Calculate Covariance - 2.21s\n",
      "f0,f1,f2 = [2.435083268392275e-09, 2.4350832756760854e-09, 2.5451896814558244e-09]\n",
      "d01,d02,d12 = [1.0550439377858427, 1.054144710864718, 1.0541447113128624]\n"
     ]
    },
    {
     "name": "stderr",
     "output_type": "stream",
     "text": [
      "Progress:  22%|██▎       | 225/1000 [1:29:56<5:07:26, 23.80s/it]"
     ]
    },
    {
     "name": "stdout",
     "output_type": "stream",
     "text": [
      "Time to: Calculate Ground State - 1.15s, Get Pauli Ops - 14.53s, Calculate Pauli Expectation Values - 4.87s, Calculate Covariance - 2.64s\n",
      "f0,f1,f2 = [2.5423175432011006e-09, 2.5423175319167776e-09, 2.082520629903852e-09]\n",
      "d01,d02,d12 = [1.050790672996722, 1.049961028382892, 1.049961028905223]\n"
     ]
    },
    {
     "name": "stderr",
     "output_type": "stream",
     "text": [
      "Progress:  23%|██▎       | 226/1000 [1:30:19<5:02:03, 23.42s/it]"
     ]
    },
    {
     "name": "stdout",
     "output_type": "stream",
     "text": [
      "Time to: Calculate Ground State - 1.36s, Get Pauli Ops - 13.63s, Calculate Pauli Expectation Values - 4.91s, Calculate Covariance - 2.61s\n",
      "f0,f1,f2 = [2.02435844088023e-09, 2.0243584456874374e-09, 3.0919000760035083e-09]\n",
      "d01,d02,d12 = [1.0457563119679967, 1.044959403934717, 1.0449594045141146]\n"
     ]
    },
    {
     "name": "stderr",
     "output_type": "stream",
     "text": [
      "Progress:  23%|██▎       | 227/1000 [1:30:44<5:06:27, 23.79s/it]"
     ]
    },
    {
     "name": "stdout",
     "output_type": "stream",
     "text": [
      "Time to: Calculate Ground State - 1.3s, Get Pauli Ops - 15.43s, Calculate Pauli Expectation Values - 4.86s, Calculate Covariance - 3.05s\n",
      "f0,f1,f2 = [2.0429385843530655e-09, 2.042938594843254e-09, 2.306511362422385e-09]\n",
      "d01,d02,d12 = [1.0399132822110762, 1.0391116629190755, 1.0391116635255946]\n"
     ]
    },
    {
     "name": "stderr",
     "output_type": "stream",
     "text": [
      "Progress:  23%|██▎       | 228/1000 [1:31:06<5:00:34, 23.36s/it]"
     ]
    },
    {
     "name": "stdout",
     "output_type": "stream",
     "text": [
      "Time to: Calculate Ground State - 1.01s, Get Pauli Ops - 14.22s, Calculate Pauli Expectation Values - 4.96s, Calculate Covariance - 2.18s\n",
      "f0,f1,f2 = [2.453846139686596e-09, 2.453846084235364e-09, 9.464699649473912e-10]\n",
      "d01,d02,d12 = [1.0331858527546922, 1.0323620048399895, 1.0323620054510296]\n"
     ]
    },
    {
     "name": "stderr",
     "output_type": "stream",
     "text": [
      "Progress:  23%|██▎       | 229/1000 [1:31:32<5:09:10, 24.06s/it]"
     ]
    },
    {
     "name": "stdout",
     "output_type": "stream",
     "text": [
      "Time to: Calculate Ground State - 1.09s, Get Pauli Ops - 15.36s, Calculate Pauli Expectation Values - 6.48s, Calculate Covariance - 2.74s\n",
      "f0,f1,f2 = [2.215193092822051e-09, 2.2151930415614068e-09, 7.749870681845339e-10]\n",
      "d01,d02,d12 = [1.025703559605332, 1.0249812178634887, 1.024981218548149]\n"
     ]
    },
    {
     "name": "stderr",
     "output_type": "stream",
     "text": [
      "Progress:  23%|██▎       | 230/1000 [1:31:51<4:52:10, 22.77s/it]"
     ]
    },
    {
     "name": "stdout",
     "output_type": "stream",
     "text": [
      "Time to: Calculate Ground State - 0.77s, Get Pauli Ops - 12.34s, Calculate Pauli Expectation Values - 4.58s, Calculate Covariance - 2.05s\n",
      "f0,f1,f2 = [1.555230478238543e-09, 1.5552304773640987e-09, 1.2325204590778561e-09]\n",
      "d01,d02,d12 = [1.0176913888351837, 1.0172247570197694, 1.017224757918381]\n"
     ]
    },
    {
     "name": "stderr",
     "output_type": "stream",
     "text": [
      "Progress:  23%|██▎       | 231/1000 [1:32:15<4:54:19, 22.96s/it]"
     ]
    },
    {
     "name": "stdout",
     "output_type": "stream",
     "text": [
      "Time to: Calculate Ground State - 0.76s, Get Pauli Ops - 14.76s, Calculate Pauli Expectation Values - 4.84s, Calculate Covariance - 3.05s\n",
      "f0,f1,f2 = [1.0505704828253699e-09, 1.050570490290394e-09, 1.672710766574167e-09]\n",
      "d01,d02,d12 = [1.009359505898983, 1.0091219456317215, 1.0091219467302412]\n"
     ]
    },
    {
     "name": "stderr",
     "output_type": "stream",
     "text": [
      "Progress:  23%|██▎       | 232/1000 [1:32:37<4:52:02, 22.82s/it]"
     ]
    },
    {
     "name": "stdout",
     "output_type": "stream",
     "text": [
      "Time to: Calculate Ground State - 1.35s, Get Pauli Ops - 14.38s, Calculate Pauli Expectation Values - 4.86s, Calculate Covariance - 1.87s\n",
      "f0,f1,f2 = [8.459752276527266e-10, 8.459752454844407e-10, 1.0565619535263962e-09]\n",
      "d01,d02,d12 = [1.0007656995368017, 1.0007933983527098, 1.0007933997984633]\n"
     ]
    },
    {
     "name": "stderr",
     "output_type": "stream",
     "text": [
      "Progress:  23%|██▎       | 233/1000 [1:33:00<4:53:02, 22.92s/it]"
     ]
    },
    {
     "name": "stdout",
     "output_type": "stream",
     "text": [
      "Time to: Calculate Ground State - 1.37s, Get Pauli Ops - 13.26s, Calculate Pauli Expectation Values - 5.76s, Calculate Covariance - 2.78s\n",
      "f0,f1,f2 = [6.561684467317206e-10, 6.561683488915447e-10, 1.3051039127061406e-09]\n",
      "d01,d02,d12 = [0.9921639079515888, 0.9924557617996741, 0.9924557635425463]\n"
     ]
    },
    {
     "name": "stderr",
     "output_type": "stream",
     "text": [
      "Progress:  23%|██▎       | 234/1000 [1:33:25<5:00:05, 23.51s/it]"
     ]
    },
    {
     "name": "stdout",
     "output_type": "stream",
     "text": [
      "Time to: Calculate Ground State - 1.0s, Get Pauli Ops - 15.8s, Calculate Pauli Expectation Values - 5.05s, Calculate Covariance - 3.0s\n",
      "f0,f1,f2 = [7.152831962306149e-10, 7.152833867476629e-10, 1.112318504483861e-09]\n",
      "d01,d02,d12 = [0.9837239968327892, 0.9842712791828464, 0.9842712812401201]\n"
     ]
    },
    {
     "name": "stderr",
     "output_type": "stream",
     "text": [
      "Progress:  24%|██▎       | 235/1000 [1:33:50<5:05:46, 23.98s/it]"
     ]
    },
    {
     "name": "stdout",
     "output_type": "stream",
     "text": [
      "Time to: Calculate Ground State - 0.99s, Get Pauli Ops - 16.41s, Calculate Pauli Expectation Values - 4.95s, Calculate Covariance - 2.73s\n",
      "f0,f1,f2 = [1.0078747858503601e-09, 1.0078751687331737e-09, 1.1677441193617403e-09]\n",
      "d01,d02,d12 = [0.9751754617867212, 0.9760154843368047, 0.976015486475754]\n"
     ]
    },
    {
     "name": "stderr",
     "output_type": "stream",
     "text": [
      "Progress:  24%|██▎       | 236/1000 [1:34:19<5:23:15, 25.39s/it]"
     ]
    },
    {
     "name": "stdout",
     "output_type": "stream",
     "text": [
      "Time to: Calculate Ground State - 1.3s, Get Pauli Ops - 18.66s, Calculate Pauli Expectation Values - 5.5s, Calculate Covariance - 3.18s\n",
      "f0,f1,f2 = [4.100550934629949e-10, 4.1005517162881263e-10, 8.317784090380621e-10]\n",
      "d01,d02,d12 = [0.9667840139530461, 0.9679006868166058, 0.9679006891091432]\n"
     ]
    },
    {
     "name": "stderr",
     "output_type": "stream",
     "text": [
      "Progress:  24%|██▎       | 237/1000 [1:34:46<5:27:51, 25.78s/it]"
     ]
    },
    {
     "name": "stdout",
     "output_type": "stream",
     "text": [
      "Time to: Calculate Ground State - 1.02s, Get Pauli Ops - 17.13s, Calculate Pauli Expectation Values - 5.34s, Calculate Covariance - 3.2s\n",
      "f0,f1,f2 = [8.109477483714757e-10, 8.109477198695698e-10, 6.817749346959446e-10]\n",
      "d01,d02,d12 = [0.9588766595642699, 0.9604844056656273, 0.9604844076642494]\n"
     ]
    },
    {
     "name": "stderr",
     "output_type": "stream",
     "text": [
      "Progress:  24%|██▍       | 238/1000 [1:35:13<5:33:10, 26.23s/it]"
     ]
    },
    {
     "name": "stdout",
     "output_type": "stream",
     "text": [
      "Time to: Calculate Ground State - 1.21s, Get Pauli Ops - 18.06s, Calculate Pauli Expectation Values - 4.9s, Calculate Covariance - 3.11s\n",
      "f0,f1,f2 = [1.0025062252970707e-09, 1.0025061760611618e-09, 1.6488692120826008e-09]\n",
      "d01,d02,d12 = [0.9513428129839241, 0.9533012862979947, 0.9533012881176259]\n"
     ]
    },
    {
     "name": "stderr",
     "output_type": "stream",
     "text": [
      "Progress:  24%|██▍       | 239/1000 [1:35:40<5:34:30, 26.37s/it]"
     ]
    },
    {
     "name": "stdout",
     "output_type": "stream",
     "text": [
      "Time to: Calculate Ground State - 1.33s, Get Pauli Ops - 18.14s, Calculate Pauli Expectation Values - 4.87s, Calculate Covariance - 2.35s\n",
      "f0,f1,f2 = [1.723780488483736e-09, 1.7237805581944773e-09, 7.16550865556036e-10]\n",
      "d01,d02,d12 = [0.9446467366327703, 0.9469719382324445, 0.9469719398346456]\n"
     ]
    },
    {
     "name": "stderr",
     "output_type": "stream",
     "text": [
      "Progress:  24%|██▍       | 240/1000 [1:36:05<5:30:34, 26.10s/it]"
     ]
    },
    {
     "name": "stdout",
     "output_type": "stream",
     "text": [
      "Time to: Calculate Ground State - 1.1s, Get Pauli Ops - 16.24s, Calculate Pauli Expectation Values - 5.31s, Calculate Covariance - 2.8s\n",
      "f0,f1,f2 = [1.693770303645766e-09, 1.6937702501928205e-09, 2.1953389338142175e-09]\n",
      "d01,d02,d12 = [0.9385745403087129, 0.9410795006650327, 0.9410795021201713]\n"
     ]
    },
    {
     "name": "stderr",
     "output_type": "stream",
     "text": [
      "Progress:  24%|██▍       | 241/1000 [1:36:29<5:21:44, 25.43s/it]"
     ]
    },
    {
     "name": "stdout",
     "output_type": "stream",
     "text": [
      "Time to: Calculate Ground State - 1.02s, Get Pauli Ops - 15.49s, Calculate Pauli Expectation Values - 4.89s, Calculate Covariance - 2.48s\n",
      "f0,f1,f2 = [2.084516990744358e-09, 2.0845169922029935e-09, 2.094852350238467e-09]\n",
      "d01,d02,d12 = [0.9335830091737707, 0.9363571479069951, 0.936357149104769]\n"
     ]
    },
    {
     "name": "stderr",
     "output_type": "stream",
     "text": [
      "Progress:  24%|██▍       | 242/1000 [1:36:55<5:23:20, 25.59s/it]"
     ]
    },
    {
     "name": "stdout",
     "output_type": "stream",
     "text": [
      "Time to: Calculate Ground State - 1.33s, Get Pauli Ops - 16.38s, Calculate Pauli Expectation Values - 5.59s, Calculate Covariance - 2.66s\n",
      "f0,f1,f2 = [2.2569231183649765e-09, 2.2569230932699397e-09, 2.8357531541002524e-09]\n",
      "d01,d02,d12 = [0.9299636842769685, 0.9336432945985732, 0.9336432953756612]\n"
     ]
    },
    {
     "name": "stderr",
     "output_type": "stream",
     "text": [
      "Progress:  24%|██▍       | 243/1000 [1:37:22<5:28:35, 26.04s/it]"
     ]
    },
    {
     "name": "stdout",
     "output_type": "stream",
     "text": [
      "Time to: Calculate Ground State - 1.07s, Get Pauli Ops - 15.02s, Calculate Pauli Expectation Values - 8.39s, Calculate Covariance - 2.6s\n",
      "f0,f1,f2 = [2.4627871480109853e-09, 2.462787111091723e-09, 2.4732314821754632e-09]\n",
      "d01,d02,d12 = [0.9272706804484754, 0.9316634863172443, 0.9316634866697824]\n"
     ]
    },
    {
     "name": "stderr",
     "output_type": "stream",
     "text": [
      "Progress:  24%|██▍       | 244/1000 [1:37:47<5:24:27, 25.75s/it]"
     ]
    },
    {
     "name": "stdout",
     "output_type": "stream",
     "text": [
      "Time to: Calculate Ground State - 0.96s, Get Pauli Ops - 16.27s, Calculate Pauli Expectation Values - 4.84s, Calculate Covariance - 2.98s\n",
      "f0,f1,f2 = [2.518873556833046e-09, 2.518873540310429e-09, 2.198519522198727e-09]\n",
      "d01,d02,d12 = [0.9258869507474743, 0.9310128724338596, 0.9310128723513985]\n"
     ]
    },
    {
     "name": "stderr",
     "output_type": "stream",
     "text": [
      "Progress:  24%|██▍       | 245/1000 [1:38:15<5:32:30, 26.42s/it]"
     ]
    },
    {
     "name": "stdout",
     "output_type": "stream",
     "text": [
      "Time to: Calculate Ground State - 1.25s, Get Pauli Ops - 16.88s, Calculate Pauli Expectation Values - 7.13s, Calculate Covariance - 2.72s\n",
      "f0,f1,f2 = [2.2463731393762797e-09, 2.246373095182238e-09, 4.839363086266765e-10]\n",
      "d01,d02,d12 = [0.9260478538541265, 0.9319847746561095, 0.9319847741471801]\n"
     ]
    },
    {
     "name": "stderr",
     "output_type": "stream",
     "text": [
      "Progress:  25%|██▍       | 246/1000 [1:38:38<5:19:04, 25.39s/it]"
     ]
    },
    {
     "name": "stdout",
     "output_type": "stream",
     "text": [
      "Time to: Calculate Ground State - 1.46s, Get Pauli Ops - 12.83s, Calculate Pauli Expectation Values - 6.69s, Calculate Covariance - 1.99s\n",
      "f0,f1,f2 = [2.7198562159469025e-09, 2.7198562663049783e-09, 2.9738122606756947e-09]\n",
      "d01,d02,d12 = [0.9273185468823147, 0.9343191759274875, 0.9343191750306793]\n"
     ]
    },
    {
     "name": "stderr",
     "output_type": "stream",
     "text": [
      "Progress:  25%|██▍       | 247/1000 [1:39:02<5:11:14, 24.80s/it]"
     ]
    },
    {
     "name": "stdout",
     "output_type": "stream",
     "text": [
      "Time to: Calculate Ground State - 0.83s, Get Pauli Ops - 12.55s, Calculate Pauli Expectation Values - 6.99s, Calculate Covariance - 3.04s\n",
      "f0,f1,f2 = [2.6067656975082817e-09, 2.6067656632869045e-09, 2.2697156615035827e-09]\n",
      "d01,d02,d12 = [0.9297056551012545, 0.9376166246915029, 0.9376166234040877]\n"
     ]
    },
    {
     "name": "stderr",
     "output_type": "stream",
     "text": [
      "Progress:  25%|██▍       | 248/1000 [1:39:26<5:10:38, 24.79s/it]"
     ]
    },
    {
     "name": "stdout",
     "output_type": "stream",
     "text": [
      "Time to: Calculate Ground State - 1.24s, Get Pauli Ops - 15.18s, Calculate Pauli Expectation Values - 5.32s, Calculate Covariance - 3.0s\n",
      "f0,f1,f2 = [2.4555215000214007e-09, 2.4555214964406607e-09, 2.926027217999582e-09]\n",
      "d01,d02,d12 = [0.9328497539437546, 0.9421831236453986, 0.9421831220405956]\n"
     ]
    },
    {
     "name": "stderr",
     "output_type": "stream",
     "text": [
      "Progress:  25%|██▍       | 249/1000 [1:39:50<5:07:44, 24.59s/it]"
     ]
    },
    {
     "name": "stdout",
     "output_type": "stream",
     "text": [
      "Time to: Calculate Ground State - 0.92s, Get Pauli Ops - 13.68s, Calculate Pauli Expectation Values - 6.4s, Calculate Covariance - 3.11s\n",
      "f0,f1,f2 = [2.0469122894100022e-09, 2.0469124346782918e-09, 2.0113682497333225e-09]\n",
      "d01,d02,d12 = [0.937138688467304, 0.9475541435826164, 0.9475541415982911]\n"
     ]
    },
    {
     "name": "stderr",
     "output_type": "stream",
     "text": [
      "Progress:  25%|██▌       | 250/1000 [1:40:11<4:52:14, 23.38s/it]"
     ]
    },
    {
     "name": "stdout",
     "output_type": "stream",
     "text": [
      "Time to: Calculate Ground State - 0.85s, Get Pauli Ops - 11.35s, Calculate Pauli Expectation Values - 5.44s, Calculate Covariance - 2.92s\n",
      "f0,f1,f2 = [2.1305702276623586e-09, 2.130570071274496e-09, 1.757756325977779e-09]\n",
      "d01,d02,d12 = [0.9406853989378837, 0.9536241660469086, 0.9536241644798976]\n"
     ]
    },
    {
     "name": "stderr",
     "output_type": "stream",
     "text": [
      "Progress:  25%|██▌       | 251/1000 [1:40:34<4:49:29, 23.19s/it]"
     ]
    },
    {
     "name": "stdout",
     "output_type": "stream",
     "text": [
      "Time to: Calculate Ground State - 0.82s, Get Pauli Ops - 13.84s, Calculate Pauli Expectation Values - 5.35s, Calculate Covariance - 2.73s\n",
      "f0,f1,f2 = [1.7050717328610749e-09, 1.7050718013860912e-09, 1.460611698316819e-09]\n",
      "d01,d02,d12 = [0.9450613190297882, 0.9602826996369501, 0.9602826984201956]\n"
     ]
    },
    {
     "name": "stderr",
     "output_type": "stream",
     "text": [
      "Progress:  25%|██▌       | 252/1000 [1:40:58<4:52:01, 23.42s/it]"
     ]
    },
    {
     "name": "stdout",
     "output_type": "stream",
     "text": [
      "Time to: Calculate Ground State - 1.13s, Get Pauli Ops - 15.06s, Calculate Pauli Expectation Values - 5.24s, Calculate Covariance - 2.54s\n",
      "f0,f1,f2 = [1.484166905222421e-09, 1.4841668535490268e-09, 1.162160801920242e-09]\n",
      "d01,d02,d12 = [0.949872375138543, 0.9674107366573835, 0.9674107358685033]\n"
     ]
    },
    {
     "name": "stderr",
     "output_type": "stream",
     "text": [
      "Progress:  25%|██▌       | 253/1000 [1:41:24<5:00:30, 24.14s/it]"
     ]
    },
    {
     "name": "stdout",
     "output_type": "stream",
     "text": [
      "Time to: Calculate Ground State - 1.2s, Get Pauli Ops - 14.73s, Calculate Pauli Expectation Values - 7.11s, Calculate Covariance - 2.75s\n",
      "f0,f1,f2 = [1.077710515179983e-09, 1.0777106674979582e-09, 8.560515043200846e-10]\n",
      "d01,d02,d12 = [0.9551238073567312, 0.9748848320633005, 0.9748848317362682]\n"
     ]
    },
    {
     "name": "stderr",
     "output_type": "stream",
     "text": [
      "Progress:  25%|██▌       | 254/1000 [1:41:47<4:58:05, 23.98s/it]"
     ]
    },
    {
     "name": "stdout",
     "output_type": "stream",
     "text": [
      "Time to: Calculate Ground State - 1.25s, Get Pauli Ops - 14.14s, Calculate Pauli Expectation Values - 5.3s, Calculate Covariance - 2.9s\n",
      "f0,f1,f2 = [7.731575731941039e-10, 7.731576737489813e-10, 5.138029998411226e-10]\n",
      "d01,d02,d12 = [0.9606350481118859, 0.9825953853779361, 0.9825953855483894]\n"
     ]
    },
    {
     "name": "stderr",
     "output_type": "stream",
     "text": [
      "Progress:  26%|██▌       | 255/1000 [1:42:14<5:09:02, 24.89s/it]"
     ]
    },
    {
     "name": "stdout",
     "output_type": "stream",
     "text": [
      "Time to: Calculate Ground State - 1.1s, Get Pauli Ops - 15.28s, Calculate Pauli Expectation Values - 8.29s, Calculate Covariance - 2.35s\n",
      "f0,f1,f2 = [9.72146762406389e-10, 9.721468203620591e-10, 1.7688895826437866e-10]\n",
      "d01,d02,d12 = [0.9663923599740669, 0.9902959677882868, 0.9902959684626667]\n"
     ]
    },
    {
     "name": "stderr",
     "output_type": "stream",
     "text": [
      "Progress:  26%|██▌       | 256/1000 [1:42:40<5:13:52, 25.31s/it]"
     ]
    },
    {
     "name": "stdout",
     "output_type": "stream",
     "text": [
      "Time to: Calculate Ground State - 0.85s, Get Pauli Ops - 13.48s, Calculate Pauli Expectation Values - 9.04s, Calculate Covariance - 2.92s\n",
      "f0,f1,f2 = [2.945009639672688e-10, 2.945009069289527e-10, 1.376663455618224e-10]\n",
      "d01,d02,d12 = [0.9722705576463782, 0.9979163036708711, 0.9979163048540199]\n"
     ]
    },
    {
     "name": "stderr",
     "output_type": "stream",
     "text": [
      "Progress:  26%|██▌       | 257/1000 [1:43:08<5:21:10, 25.94s/it]"
     ]
    },
    {
     "name": "stdout",
     "output_type": "stream",
     "text": [
      "Time to: Calculate Ground State - 1.44s, Get Pauli Ops - 14.09s, Calculate Pauli Expectation Values - 9.01s, Calculate Covariance - 2.85s\n",
      "f0,f1,f2 = [2.7758891488805687e-10, 2.7758889315146005e-10, 4.0494024020334574e-10]\n",
      "d01,d02,d12 = [0.978112160266998, 1.0053476723898607, 1.0053476740592568]\n"
     ]
    },
    {
     "name": "stderr",
     "output_type": "stream",
     "text": [
      "Progress:  26%|██▌       | 258/1000 [1:43:35<5:25:13, 26.30s/it]"
     ]
    },
    {
     "name": "stdout",
     "output_type": "stream",
     "text": [
      "Time to: Calculate Ground State - 1.28s, Get Pauli Ops - 14.36s, Calculate Pauli Expectation Values - 8.36s, Calculate Covariance - 3.14s\n",
      "f0,f1,f2 = [4.925524239754771e-10, 4.925521825320236e-10, 6.938127090940548e-10]\n",
      "d01,d02,d12 = [0.9838325855036729, 1.0124546857242303, 1.0124546879087593]\n"
     ]
    },
    {
     "name": "stderr",
     "output_type": "stream",
     "text": [
      "Progress:  26%|██▌       | 259/1000 [1:43:58<5:13:08, 25.36s/it]"
     ]
    },
    {
     "name": "stdout",
     "output_type": "stream",
     "text": [
      "Time to: Calculate Ground State - 1.27s, Get Pauli Ops - 13.59s, Calculate Pauli Expectation Values - 5.25s, Calculate Covariance - 3.04s\n",
      "f0,f1,f2 = [5.703835125412079e-10, 5.703836535723637e-10, 9.528544748776135e-10]\n",
      "d01,d02,d12 = [0.9893221024693539, 1.019161601722167, 1.0191616043615408]\n"
     ]
    },
    {
     "name": "stderr",
     "output_type": "stream",
     "text": [
      "Progress:  26%|██▌       | 260/1000 [1:44:25<5:18:35, 25.83s/it]"
     ]
    },
    {
     "name": "stdout",
     "output_type": "stream",
     "text": [
      "Time to: Calculate Ground State - 1.48s, Get Pauli Ops - 17.07s, Calculate Pauli Expectation Values - 5.38s, Calculate Covariance - 3.01s\n",
      "f0,f1,f2 = [8.260937400259854e-10, 8.260930473274918e-10, 1.1821613337004203e-09]\n",
      "d01,d02,d12 = [0.9945468197931661, 1.0253295817805501, 1.0253295851115674]\n"
     ]
    },
    {
     "name": "stderr",
     "output_type": "stream",
     "text": [
      "Progress:  26%|██▌       | 261/1000 [1:44:50<5:12:51, 25.40s/it]"
     ]
    },
    {
     "name": "stdout",
     "output_type": "stream",
     "text": [
      "Time to: Calculate Ground State - 1.16s, Get Pauli Ops - 13.84s, Calculate Pauli Expectation Values - 5.99s, Calculate Covariance - 3.4s\n",
      "f0,f1,f2 = [9.910025213446018e-10, 9.910015802281995e-10, 1.3642638685412145e-09]\n",
      "d01,d02,d12 = [0.9994011710446625, 1.0308908960050578, 1.0308909002361168]\n"
     ]
    },
    {
     "name": "stderr",
     "output_type": "stream",
     "text": [
      "Progress:  26%|██▌       | 262/1000 [1:45:14<5:07:17, 24.98s/it]"
     ]
    },
    {
     "name": "stdout",
     "output_type": "stream",
     "text": [
      "Time to: Calculate Ground State - 1.13s, Get Pauli Ops - 14.54s, Calculate Pauli Expectation Values - 5.96s, Calculate Covariance - 2.36s\n",
      "f0,f1,f2 = [1.174033611069818e-09, 1.1740340178347034e-09, 1.5793991446186199e-09]\n",
      "d01,d02,d12 = [1.0037716818011932, 1.0358082732366498, 1.035808278183585]\n"
     ]
    },
    {
     "name": "stderr",
     "output_type": "stream",
     "text": [
      "Progress:  26%|██▋       | 263/1000 [1:45:40<5:11:36, 25.37s/it]"
     ]
    },
    {
     "name": "stdout",
     "output_type": "stream",
     "text": [
      "Time to: Calculate Ground State - 1.11s, Get Pauli Ops - 16.1s, Calculate Pauli Expectation Values - 5.87s, Calculate Covariance - 3.17s\n",
      "f0,f1,f2 = [1.3173662883126522e-09, 1.3173661875407155e-09, 1.7388487765578012e-09]\n",
      "d01,d02,d12 = [1.0076192863727373, 1.0400127699175745, 1.0400127755782305]\n"
     ]
    },
    {
     "name": "stderr",
     "output_type": "stream",
     "text": [
      "Progress:  26%|██▋       | 264/1000 [1:46:07<5:18:37, 25.98s/it]"
     ]
    },
    {
     "name": "stdout",
     "output_type": "stream",
     "text": [
      "Time to: Calculate Ground State - 1.11s, Get Pauli Ops - 17.94s, Calculate Pauli Expectation Values - 5.64s, Calculate Covariance - 2.69s\n",
      "f0,f1,f2 = [1.4474761817980472e-09, 1.4474765470137328e-09, 1.8688060912050926e-09]\n",
      "d01,d02,d12 = [1.0108790023866026, 1.0434664379235803, 1.043466444111082]\n"
     ]
    },
    {
     "name": "stderr",
     "output_type": "stream",
     "text": [
      "Progress:  26%|██▋       | 265/1000 [1:46:32<5:15:26, 25.75s/it]"
     ]
    },
    {
     "name": "stdout",
     "output_type": "stream",
     "text": [
      "Time to: Calculate Ground State - 1.49s, Get Pauli Ops - 14.1s, Calculate Pauli Expectation Values - 6.62s, Calculate Covariance - 3.02s\n",
      "f0,f1,f2 = [1.5676311131134235e-09, 1.5676315340024311e-09, 1.9495593283118854e-09]\n",
      "d01,d02,d12 = [1.013530691047371, 1.0461321363468143, 1.046132143100978]\n"
     ]
    },
    {
     "name": "stderr",
     "output_type": "stream",
     "text": [
      "Progress:  27%|██▋       | 266/1000 [1:46:57<5:11:18, 25.45s/it]"
     ]
    },
    {
     "name": "stdout",
     "output_type": "stream",
     "text": [
      "Time to: Calculate Ground State - 0.84s, Get Pauli Ops - 15.41s, Calculate Pauli Expectation Values - 5.7s, Calculate Covariance - 2.78s\n",
      "f0,f1,f2 = [1.6685568794297425e-09, 1.6685582276598763e-09, 2.0444938538093783e-09]\n",
      "d01,d02,d12 = [1.0155040940812352, 1.0479984589743714, 1.0479984658062147]\n"
     ]
    },
    {
     "name": "stderr",
     "output_type": "stream",
     "text": [
      "Progress:  27%|██▋       | 267/1000 [1:47:25<5:18:19, 26.06s/it]"
     ]
    },
    {
     "name": "stdout",
     "output_type": "stream",
     "text": [
      "Time to: Calculate Ground State - 0.78s, Get Pauli Ops - 18.41s, Calculate Pauli Expectation Values - 5.25s, Calculate Covariance - 3.03s\n",
      "f0,f1,f2 = [1.7469496639351267e-09, 1.7469507660301013e-09, 2.119597125043778e-09]\n",
      "d01,d02,d12 = [1.0167891773143292, 1.049035292372516, 1.0490352990523628]\n"
     ]
    },
    {
     "name": "stderr",
     "output_type": "stream",
     "text": [
      "Progress:  27%|██▋       | 268/1000 [1:47:47<5:04:19, 24.94s/it]"
     ]
    },
    {
     "name": "stdout",
     "output_type": "stream",
     "text": [
      "Time to: Calculate Ground State - 0.85s, Get Pauli Ops - 13.33s, Calculate Pauli Expectation Values - 5.57s, Calculate Covariance - 2.6s\n",
      "f0,f1,f2 = [1.736217899079978e-09, 1.7362180610954782e-09, 2.142832687019521e-09]\n",
      "d01,d02,d12 = [1.0174115918484894, 1.049230167186664, 1.0492301737664793]\n"
     ]
    },
    {
     "name": "stderr",
     "output_type": "stream",
     "text": [
      "Progress:  27%|██▋       | 269/1000 [1:48:14<5:13:15, 25.71s/it]"
     ]
    },
    {
     "name": "stdout",
     "output_type": "stream",
     "text": [
      "Time to: Calculate Ground State - 0.84s, Get Pauli Ops - 15.91s, Calculate Pauli Expectation Values - 7.34s, Calculate Covariance - 3.41s\n",
      "f0,f1,f2 = [1.7710101489216684e-09, 1.7710108388123946e-09, 2.1547556837358263e-09]\n",
      "d01,d02,d12 = [1.0173657967615224, 1.0485873986235392, 1.0485874050676776]\n"
     ]
    },
    {
     "name": "stderr",
     "output_type": "stream",
     "text": [
      "Progress:  27%|██▋       | 270/1000 [1:48:38<5:05:31, 25.11s/it]"
     ]
    },
    {
     "name": "stdout",
     "output_type": "stream",
     "text": [
      "Time to: Calculate Ground State - 1.4s, Get Pauli Ops - 14.2s, Calculate Pauli Expectation Values - 5.72s, Calculate Covariance - 2.37s\n",
      "f0,f1,f2 = [1.7615701381570525e-09, 1.7615706341136838e-09, 2.1022589158266235e-09]\n",
      "d01,d02,d12 = [1.0166168307877133, 1.0471375153101201, 1.0471375212724052]\n"
     ]
    },
    {
     "name": "stderr",
     "output_type": "stream",
     "text": [
      "Progress:  27%|██▋       | 271/1000 [1:49:02<5:01:27, 24.81s/it]"
     ]
    },
    {
     "name": "stdout",
     "output_type": "stream",
     "text": [
      "Time to: Calculate Ground State - 1.1s, Get Pauli Ops - 13.96s, Calculate Pauli Expectation Values - 6.11s, Calculate Covariance - 2.93s\n",
      "f0,f1,f2 = [1.7491869973703776e-09, 1.7491874394761277e-09, 2.0781345674658557e-09]\n",
      "d01,d02,d12 = [1.015201454833991, 1.0448920498577345, 1.044892055193964]\n"
     ]
    },
    {
     "name": "stderr",
     "output_type": "stream",
     "text": [
      "Progress:  27%|██▋       | 272/1000 [1:49:25<4:51:44, 24.04s/it]"
     ]
    },
    {
     "name": "stdout",
     "output_type": "stream",
     "text": [
      "Time to: Calculate Ground State - 1.48s, Get Pauli Ops - 13.1s, Calculate Pauli Expectation Values - 5.1s, Calculate Covariance - 2.56s\n",
      "f0,f1,f2 = [1.6327883436605583e-09, 1.6327882225334264e-09, 1.9755139799087565e-09]\n",
      "d01,d02,d12 = [1.0131724847719261, 1.0418960565972792, 1.0418960612247001]\n"
     ]
    },
    {
     "name": "stderr",
     "output_type": "stream",
     "text": [
      "Progress:  27%|██▋       | 273/1000 [1:49:50<4:55:03, 24.35s/it]"
     ]
    },
    {
     "name": "stdout",
     "output_type": "stream",
     "text": [
      "Time to: Calculate Ground State - 1.1s, Get Pauli Ops - 15.52s, Calculate Pauli Expectation Values - 5.68s, Calculate Covariance - 2.75s\n",
      "f0,f1,f2 = [1.5591915117583155e-09, 1.5591912106566264e-09, 1.9167599080255374e-09]\n",
      "d01,d02,d12 = [1.0106161076685394, 1.0381699168023013, 1.038169920940409]\n"
     ]
    },
    {
     "name": "stderr",
     "output_type": "stream",
     "text": [
      "Progress:  27%|██▋       | 274/1000 [1:50:16<5:01:32, 24.92s/it]"
     ]
    },
    {
     "name": "stdout",
     "output_type": "stream",
     "text": [
      "Time to: Calculate Ground State - 1.09s, Get Pauli Ops - 16.72s, Calculate Pauli Expectation Values - 5.75s, Calculate Covariance - 2.68s\n",
      "f0,f1,f2 = [1.5146247636306181e-09, 1.5146256497473294e-09, 1.8076858446135518e-09]\n",
      "d01,d02,d12 = [1.0074985618785788, 1.033797643618563, 1.0337976470075256]\n"
     ]
    },
    {
     "name": "stderr",
     "output_type": "stream",
     "text": [
      "Progress:  28%|██▊       | 275/1000 [1:50:43<5:08:34, 25.54s/it]"
     ]
    },
    {
     "name": "stdout",
     "output_type": "stream",
     "text": [
      "Time to: Calculate Ground State - 1.44s, Get Pauli Ops - 16.64s, Calculate Pauli Expectation Values - 6.06s, Calculate Covariance - 2.82s\n",
      "f0,f1,f2 = [1.2983308601041027e-09, 1.2983302894837014e-09, 1.6573453696586504e-09]\n",
      "d01,d02,d12 = [1.0039623504149875, 1.0288170484260863, 1.0288170512366361]\n"
     ]
    },
    {
     "name": "stderr",
     "output_type": "stream",
     "text": [
      "Progress:  28%|██▊       | 276/1000 [1:51:08<5:05:06, 25.29s/it]"
     ]
    },
    {
     "name": "stdout",
     "output_type": "stream",
     "text": [
      "Time to: Calculate Ground State - 1.38s, Get Pauli Ops - 15.0s, Calculate Pauli Expectation Values - 5.5s, Calculate Covariance - 2.82s\n",
      "f0,f1,f2 = [1.1987656582780088e-09, 1.1987645697302194e-09, 1.530868870523603e-09]\n",
      "d01,d02,d12 = [1.0000990617694654, 1.023243633670459, 1.0232436362219919]\n"
     ]
    },
    {
     "name": "stderr",
     "output_type": "stream",
     "text": [
      "Progress:  28%|██▊       | 277/1000 [1:51:34<5:08:03, 25.57s/it]"
     ]
    },
    {
     "name": "stdout",
     "output_type": "stream",
     "text": [
      "Time to: Calculate Ground State - 1.13s, Get Pauli Ops - 17.09s, Calculate Pauli Expectation Values - 5.62s, Calculate Covariance - 2.37s\n",
      "f0,f1,f2 = [1.0587920742220297e-09, 1.058792461008043e-09, 1.318091419443248e-09]\n",
      "d01,d02,d12 = [0.995910534349076, 1.0172320116001698, 1.0172320138825552]\n"
     ]
    },
    {
     "name": "stderr",
     "output_type": "stream",
     "text": [
      "Progress:  28%|██▊       | 278/1000 [1:51:58<5:02:22, 25.13s/it]"
     ]
    },
    {
     "name": "stdout",
     "output_type": "stream",
     "text": [
      "Time to: Calculate Ground State - 1.2s, Get Pauli Ops - 14.82s, Calculate Pauli Expectation Values - 5.58s, Calculate Covariance - 2.5s\n",
      "f0,f1,f2 = [8.863828922370105e-10, 8.863825576086316e-10, 1.1384590456477325e-09]\n",
      "d01,d02,d12 = [0.9915300450195964, 1.0108020885646891, 1.0108020907882407]\n"
     ]
    },
    {
     "name": "stderr",
     "output_type": "stream",
     "text": [
      "Progress:  28%|██▊       | 279/1000 [1:52:22<4:57:04, 24.72s/it]"
     ]
    },
    {
     "name": "stdout",
     "output_type": "stream",
     "text": [
      "Time to: Calculate Ground State - 1.33s, Get Pauli Ops - 14.36s, Calculate Pauli Expectation Values - 5.51s, Calculate Covariance - 2.57s\n",
      "f0,f1,f2 = [6.445475160841089e-10, 6.445480048328082e-10, 9.011548070039472e-10]\n",
      "d01,d02,d12 = [0.987037366379187, 1.0041307801049595, 1.0041307821694168]\n"
     ]
    },
    {
     "name": "stderr",
     "output_type": "stream",
     "text": [
      "Progress:  28%|██▊       | 280/1000 [1:52:49<5:07:36, 25.63s/it]"
     ]
    },
    {
     "name": "stdout",
     "output_type": "stream",
     "text": [
      "Time to: Calculate Ground State - 1.36s, Get Pauli Ops - 15.9s, Calculate Pauli Expectation Values - 8.21s, Calculate Covariance - 2.27s\n",
      "f0,f1,f2 = [5.034048430238221e-10, 5.034051834145367e-10, 7.047551867441713e-10]\n",
      "d01,d02,d12 = [0.9821804891881459, 0.9973150566245645, 0.9973150581196704]\n"
     ]
    },
    {
     "name": "stderr",
     "output_type": "stream",
     "text": [
      "Progress:  28%|██▊       | 281/1000 [1:53:16<5:09:19, 25.81s/it]"
     ]
    },
    {
     "name": "stdout",
     "output_type": "stream",
     "text": [
      "Time to: Calculate Ground State - 1.19s, Get Pauli Ops - 17.0s, Calculate Pauli Expectation Values - 4.98s, Calculate Covariance - 3.05s\n",
      "f0,f1,f2 = [2.437591849242965e-10, 2.437592061755526e-10, 4.3622438319944625e-10]\n",
      "d01,d02,d12 = [0.9772423613015504, 0.9904142372015979, 0.9904142380204689]\n"
     ]
    },
    {
     "name": "stderr",
     "output_type": "stream",
     "text": [
      "Progress:  28%|██▊       | 282/1000 [1:53:38<4:56:15, 24.76s/it]"
     ]
    },
    {
     "name": "stdout",
     "output_type": "stream",
     "text": [
      "Time to: Calculate Ground State - 1.33s, Get Pauli Ops - 12.64s, Calculate Pauli Expectation Values - 5.65s, Calculate Covariance - 2.66s\n",
      "f0,f1,f2 = [3.63120038649804e-10, 3.6312008499591523e-10, 1.6073874666189893e-10]\n",
      "d01,d02,d12 = [0.9725931461615895, 0.9835154394955085, 0.9835154396991155]\n"
     ]
    },
    {
     "name": "stderr",
     "output_type": "stream",
     "text": [
      "Progress:  28%|██▊       | 283/1000 [1:54:04<5:01:19, 25.22s/it]"
     ]
    },
    {
     "name": "stdout",
     "output_type": "stream",
     "text": [
      "Time to: Calculate Ground State - 1.4s, Get Pauli Ops - 16.53s, Calculate Pauli Expectation Values - 5.26s, Calculate Covariance - 3.09s\n",
      "f0,f1,f2 = [4.813757513806537e-10, 4.813757601007322e-10, 1.199988394139213e-10]\n",
      "d01,d02,d12 = [0.967369192908475, 0.9767575933714244, 0.9767575929135153]\n"
     ]
    },
    {
     "name": "stderr",
     "output_type": "stream",
     "text": [
      "Progress:  28%|██▊       | 284/1000 [1:54:31<5:04:57, 25.56s/it]"
     ]
    },
    {
     "name": "stdout",
     "output_type": "stream",
     "text": [
      "Time to: Calculate Ground State - 1.33s, Get Pauli Ops - 16.82s, Calculate Pauli Expectation Values - 5.72s, Calculate Covariance - 2.48s\n",
      "f0,f1,f2 = [7.308334025004449e-10, 7.308335068668962e-10, 3.9347534457066717e-10]\n",
      "d01,d02,d12 = [0.9610978553675801, 0.9704273813075287, 0.9704273803304824]\n"
     ]
    },
    {
     "name": "stderr",
     "output_type": "stream",
     "text": [
      "Progress:  28%|██▊       | 285/1000 [1:54:57<5:07:04, 25.77s/it]"
     ]
    },
    {
     "name": "stdout",
     "output_type": "stream",
     "text": [
      "Time to: Calculate Ground State - 1.03s, Get Pauli Ops - 17.15s, Calculate Pauli Expectation Values - 5.56s, Calculate Covariance - 2.52s\n",
      "f0,f1,f2 = [1.1669521265962605e-09, 1.1669524814593398e-09, 7.00966862041647e-10]\n",
      "d01,d02,d12 = [0.9549949455477663, 0.9646251133489842, 0.9646251119411032]\n"
     ]
    },
    {
     "name": "stderr",
     "output_type": "stream",
     "text": [
      "Progress:  29%|██▊       | 286/1000 [1:55:18<4:51:15, 24.48s/it]"
     ]
    },
    {
     "name": "stdout",
     "output_type": "stream",
     "text": [
      "Time to: Calculate Ground State - 1.03s, Get Pauli Ops - 13.27s, Calculate Pauli Expectation Values - 4.87s, Calculate Covariance - 2.29s\n",
      "f0,f1,f2 = [1.0301004489487857e-09, 1.0301005121508995e-09, 9.245985591926386e-10]\n",
      "d01,d02,d12 = [0.9484702907625326, 0.9594146112819029, 0.9594146097076184]\n"
     ]
    },
    {
     "name": "stderr",
     "output_type": "stream",
     "text": [
      "Progress:  29%|██▊       | 287/1000 [1:55:40<4:40:44, 23.63s/it]"
     ]
    },
    {
     "name": "stdout",
     "output_type": "stream",
     "text": [
      "Time to: Calculate Ground State - 1.0s, Get Pauli Ops - 13.09s, Calculate Pauli Expectation Values - 4.94s, Calculate Covariance - 2.61s\n",
      "f0,f1,f2 = [1.2771045940189162e-09, 1.2771048338919916e-09, 1.176879453115589e-09]\n",
      "d01,d02,d12 = [0.9433955756648431, 0.9547753364116898, 0.9547753343324531]\n"
     ]
    },
    {
     "name": "stderr",
     "output_type": "stream",
     "text": [
      "Progress:  29%|██▉       | 288/1000 [1:56:03<4:38:52, 23.50s/it]"
     ]
    },
    {
     "name": "stdout",
     "output_type": "stream",
     "text": [
      "Time to: Calculate Ground State - 0.77s, Get Pauli Ops - 13.63s, Calculate Pauli Expectation Values - 5.71s, Calculate Covariance - 3.09s\n",
      "f0,f1,f2 = [1.9942449130819125e-09, 1.9942443398555757e-09, 1.39722456159571e-09]\n",
      "d01,d02,d12 = [0.9393808736288454, 0.9507275873486284, 0.9507275844414098]\n"
     ]
    },
    {
     "name": "stderr",
     "output_type": "stream",
     "text": [
      "Progress:  29%|██▉       | 289/1000 [1:56:28<4:41:57, 23.79s/it]"
     ]
    },
    {
     "name": "stdout",
     "output_type": "stream",
     "text": [
      "Time to: Calculate Ground State - 1.36s, Get Pauli Ops - 14.11s, Calculate Pauli Expectation Values - 5.9s, Calculate Covariance - 3.1s\n",
      "f0,f1,f2 = [1.518152831440262e-09, 1.518153716140024e-09, 1.601227517048957e-09]\n",
      "d01,d02,d12 = [0.9353557075997121, 0.9474724881522926, 0.947472485303943]\n"
     ]
    },
    {
     "name": "stderr",
     "output_type": "stream",
     "text": [
      "Progress:  29%|██▉       | 290/1000 [1:56:49<4:32:17, 23.01s/it]"
     ]
    },
    {
     "name": "stdout",
     "output_type": "stream",
     "text": [
      "Time to: Calculate Ground State - 0.89s, Get Pauli Ops - 12.29s, Calculate Pauli Expectation Values - 5.64s, Calculate Covariance - 2.36s\n",
      "f0,f1,f2 = [1.836999214013729e-09, 1.8369999719428786e-09, 1.763506061611473e-09]\n",
      "d01,d02,d12 = [0.9327693966308374, 0.9450453988810034, 0.9450453955693864]\n"
     ]
    },
    {
     "name": "stderr",
     "output_type": "stream",
     "text": [
      "Progress:  29%|██▉       | 291/1000 [1:57:12<4:33:59, 23.19s/it]"
     ]
    },
    {
     "name": "stdout",
     "output_type": "stream",
     "text": [
      "Time to: Calculate Ground State - 0.83s, Get Pauli Ops - 14.43s, Calculate Pauli Expectation Values - 5.96s, Calculate Covariance - 2.38s\n",
      "f0,f1,f2 = [2.3146714759233646e-09, 2.3146707617005525e-09, 1.8702525230189994e-09]\n",
      "d01,d02,d12 = [0.9306993251080882, 0.9434062303177921, 0.9434062270415219]\n"
     ]
    },
    {
     "name": "stderr",
     "output_type": "stream",
     "text": [
      "Progress:  29%|██▉       | 292/1000 [1:57:35<4:31:01, 22.97s/it]"
     ]
    },
    {
     "name": "stdout",
     "output_type": "stream",
     "text": [
      "Time to: Calculate Ground State - 0.82s, Get Pauli Ops - 12.63s, Calculate Pauli Expectation Values - 5.49s, Calculate Covariance - 3.51s\n",
      "f0,f1,f2 = [2.221145483552824e-09, 2.2211458814595682e-09, 1.9600928750041186e-09]\n",
      "d01,d02,d12 = [0.9294188832074167, 0.942670306373, 0.9426703035452517]\n"
     ]
    },
    {
     "name": "stderr",
     "output_type": "stream",
     "text": [
      "Progress:  29%|██▉       | 293/1000 [1:58:00<4:36:37, 23.48s/it]"
     ]
    },
    {
     "name": "stdout",
     "output_type": "stream",
     "text": [
      "Time to: Calculate Ground State - 1.38s, Get Pauli Ops - 15.5s, Calculate Pauli Expectation Values - 5.65s, Calculate Covariance - 2.13s\n",
      "f0,f1,f2 = [2.3145111795717417e-09, 2.3145116789779953e-09, 2.0134254933840837e-09]\n",
      "d01,d02,d12 = [0.9292923438623119, 0.94286964150058, 0.9428696390764989]\n"
     ]
    },
    {
     "name": "stderr",
     "output_type": "stream",
     "text": [
      "Progress:  29%|██▉       | 294/1000 [1:58:22<4:33:21, 23.23s/it]"
     ]
    },
    {
     "name": "stdout",
     "output_type": "stream",
     "text": [
      "Time to: Calculate Ground State - 0.82s, Get Pauli Ops - 13.85s, Calculate Pauli Expectation Values - 5.49s, Calculate Covariance - 2.49s\n",
      "f0,f1,f2 = [2.3607652567487843e-09, 2.3607652536416366e-09, 1.997278500395887e-09]\n",
      "d01,d02,d12 = [0.9300575148501904, 0.943953971830329, 0.9439539699618169]\n"
     ]
    },
    {
     "name": "stderr",
     "output_type": "stream",
     "text": [
      "Progress:  30%|██▉       | 295/1000 [1:58:47<4:39:05, 23.75s/it]"
     ]
    },
    {
     "name": "stdout",
     "output_type": "stream",
     "text": [
      "Time to: Calculate Ground State - 1.03s, Get Pauli Ops - 15.98s, Calculate Pauli Expectation Values - 5.55s, Calculate Covariance - 2.4s\n",
      "f0,f1,f2 = [2.328932783119802e-09, 2.3289325019733507e-09, 1.9368950648808724e-09]\n",
      "d01,d02,d12 = [0.9319511204420157, 0.9458160111672397, 0.9458160096519689]\n"
     ]
    },
    {
     "name": "stderr",
     "output_type": "stream",
     "text": [
      "Progress:  30%|██▉       | 296/1000 [1:59:13<4:45:38, 24.34s/it]"
     ]
    },
    {
     "name": "stdout",
     "output_type": "stream",
     "text": [
      "Time to: Calculate Ground State - 1.12s, Get Pauli Ops - 16.04s, Calculate Pauli Expectation Values - 5.73s, Calculate Covariance - 2.82s\n",
      "f0,f1,f2 = [2.143569764404167e-09, 2.143569850700247e-09, 1.867255889068763e-09]\n",
      "d01,d02,d12 = [0.9346053330065309, 0.9484903842457885, 0.9484903832274392]\n"
     ]
    },
    {
     "name": "stderr",
     "output_type": "stream",
     "text": [
      "Progress:  30%|██▉       | 297/1000 [1:59:37<4:46:04, 24.42s/it]"
     ]
    },
    {
     "name": "stdout",
     "output_type": "stream",
     "text": [
      "Time to: Calculate Ground State - 1.4s, Get Pauli Ops - 14.67s, Calculate Pauli Expectation Values - 5.45s, Calculate Covariance - 3.06s\n",
      "f0,f1,f2 = [1.8893476098082544e-09, 1.889347639128744e-09, 1.7111204059851326e-09]\n",
      "d01,d02,d12 = [0.9380371081823443, 0.9518647949808811, 0.9518647944789329]\n"
     ]
    },
    {
     "name": "stderr",
     "output_type": "stream",
     "text": [
      "Progress:  30%|██▉       | 298/1000 [2:00:00<4:38:24, 23.80s/it]"
     ]
    },
    {
     "name": "stdout",
     "output_type": "stream",
     "text": [
      "Time to: Calculate Ground State - 0.82s, Get Pauli Ops - 12.71s, Calculate Pauli Expectation Values - 5.79s, Calculate Covariance - 3.02s\n",
      "f0,f1,f2 = [1.9732821314360602e-09, 1.9732820619394293e-09, 1.5050099538955845e-09]\n",
      "d01,d02,d12 = [0.9424537941541024, 0.9558063937300247, 0.9558063936939956]\n"
     ]
    },
    {
     "name": "stderr",
     "output_type": "stream",
     "text": [
      "Progress:  30%|██▉       | 299/1000 [2:00:26<4:46:29, 24.52s/it]"
     ]
    },
    {
     "name": "stdout",
     "output_type": "stream",
     "text": [
      "Time to: Calculate Ground State - 1.41s, Get Pauli Ops - 16.09s, Calculate Pauli Expectation Values - 5.93s, Calculate Covariance - 2.77s\n",
      "f0,f1,f2 = [1.5330410570199266e-09, 1.5330410717607705e-09, 1.3549081563516656e-09]\n",
      "d01,d02,d12 = [0.947651425583325, 0.9602919193227983, 0.9602919197499007]\n"
     ]
    },
    {
     "name": "stderr",
     "output_type": "stream",
     "text": [
      "Progress:  30%|███       | 300/1000 [2:00:49<4:39:20, 23.94s/it]"
     ]
    },
    {
     "name": "stdout",
     "output_type": "stream",
     "text": [
      "Time to: Calculate Ground State - 0.82s, Get Pauli Ops - 12.57s, Calculate Pauli Expectation Values - 5.97s, Calculate Covariance - 3.22s\n",
      "f0,f1,f2 = [1.2375968277353686e-09, 1.237596698000091e-09, 1.1635617958191858e-09]\n",
      "d01,d02,d12 = [0.9536806065466775, 0.9652756066808816, 0.9652756076035187]\n"
     ]
    },
    {
     "name": "stderr",
     "output_type": "stream",
     "text": [
      "Progress:  30%|███       | 301/1000 [2:01:12<4:38:25, 23.90s/it]"
     ]
    },
    {
     "name": "stdout",
     "output_type": "stream",
     "text": [
      "Time to: Calculate Ground State - 1.2s, Get Pauli Ops - 14.63s, Calculate Pauli Expectation Values - 5.24s, Calculate Covariance - 2.72s\n",
      "f0,f1,f2 = [2.5874030064437664e-09, 2.5874035577640416e-09, 9.083020559225478e-10]\n",
      "d01,d02,d12 = [0.960737188232878, 0.9704112308134915, 0.9704112324838278]\n"
     ]
    },
    {
     "name": "stderr",
     "output_type": "stream",
     "text": [
      "Progress:  30%|███       | 302/1000 [2:01:36<4:38:19, 23.92s/it]"
     ]
    },
    {
     "name": "stdout",
     "output_type": "stream",
     "text": [
      "Time to: Calculate Ground State - 1.24s, Get Pauli Ops - 13.93s, Calculate Pauli Expectation Values - 5.62s, Calculate Covariance - 3.18s\n",
      "f0,f1,f2 = [1.2882596301408433e-09, 1.2882595860608268e-09, 6.698598887551208e-10]\n",
      "d01,d02,d12 = [0.9676408439708696, 0.9757554845592605, 0.9757554868770143]\n"
     ]
    },
    {
     "name": "stderr",
     "output_type": "stream",
     "text": [
      "Progress:  30%|███       | 303/1000 [2:02:01<4:39:40, 24.07s/it]"
     ]
    },
    {
     "name": "stdout",
     "output_type": "stream",
     "text": [
      "Time to: Calculate Ground State - 1.03s, Get Pauli Ops - 15.73s, Calculate Pauli Expectation Values - 4.87s, Calculate Covariance - 2.79s\n",
      "f0,f1,f2 = [5.908697176511424e-10, 5.90869649014337e-10, 2.113437369045339e-10]\n",
      "d01,d02,d12 = [0.9746086730335419, 0.9812617553563585, 0.981261758255091]\n"
     ]
    },
    {
     "name": "stderr",
     "output_type": "stream",
     "text": [
      "Progress:  30%|███       | 304/1000 [2:02:25<4:40:00, 24.14s/it]"
     ]
    },
    {
     "name": "stdout",
     "output_type": "stream",
     "text": [
      "Time to: Calculate Ground State - 0.98s, Get Pauli Ops - 15.36s, Calculate Pauli Expectation Values - 5.14s, Calculate Covariance - 2.8s\n",
      "f0,f1,f2 = [3.2656149473761433e-10, 3.265610711116231e-10, 5.417174827549282e-10]\n",
      "d01,d02,d12 = [0.9816138774105008, 0.986860365261316, 0.9868603686728181]\n"
     ]
    },
    {
     "name": "stderr",
     "output_type": "stream",
     "text": [
      "Progress:  30%|███       | 305/1000 [2:02:48<4:35:06, 23.75s/it]"
     ]
    },
    {
     "name": "stdout",
     "output_type": "stream",
     "text": [
      "Time to: Calculate Ground State - 1.3s, Get Pauli Ops - 13.27s, Calculate Pauli Expectation Values - 5.17s, Calculate Covariance - 3.1s\n",
      "f0,f1,f2 = [2.1854451403277172e-10, 2.185434787065002e-10, 7.861874189154458e-10]\n",
      "d01,d02,d12 = [0.9877374490388724, 0.9907754787087687, 0.9907754842610011]\n"
     ]
    },
    {
     "name": "stderr",
     "output_type": "stream",
     "text": [
      "Progress:  31%|███       | 306/1000 [2:03:16<4:49:56, 25.07s/it]"
     ]
    },
    {
     "name": "stdout",
     "output_type": "stream",
     "text": [
      "Time to: Calculate Ground State - 1.01s, Get Pauli Ops - 18.58s, Calculate Pauli Expectation Values - 5.24s, Calculate Covariance - 3.31s\n",
      "f0,f1,f2 = [1.550303017271074e-10, 1.5503045643321727e-10, 5.413685851011691e-10]\n",
      "d01,d02,d12 = [0.9939050888808912, 0.9947486515140047, 0.994748659088731]\n"
     ]
    },
    {
     "name": "stderr",
     "output_type": "stream",
     "text": [
      "Progress:  31%|███       | 307/1000 [2:03:43<4:54:31, 25.50s/it]"
     ]
    },
    {
     "name": "stdout",
     "output_type": "stream",
     "text": [
      "Time to: Calculate Ground State - 1.07s, Get Pauli Ops - 17.7s, Calculate Pauli Expectation Values - 5.04s, Calculate Covariance - 2.69s\n",
      "f0,f1,f2 = [4.065770898631198e-10, 4.0657766119534425e-10, 8.766566235109764e-10]\n",
      "d01,d02,d12 = [1.000017386375606, 0.9985885990490588, 0.9985886089676808]\n"
     ]
    },
    {
     "name": "stderr",
     "output_type": "stream",
     "text": [
      "Progress:  31%|███       | 308/1000 [2:04:06<4:45:43, 24.77s/it]"
     ]
    },
    {
     "name": "stdout",
     "output_type": "stream",
     "text": [
      "Time to: Calculate Ground State - 1.0s, Get Pauli Ops - 13.47s, Calculate Pauli Expectation Values - 5.83s, Calculate Covariance - 2.77s\n",
      "f0,f1,f2 = [5.150901749081244e-10, 5.150903430822146e-10, 5.457179361088076e-10]\n",
      "d01,d02,d12 = [1.0057904612834507, 1.001798126154002, 1.0017981368503452]\n"
     ]
    },
    {
     "name": "stderr",
     "output_type": "stream",
     "text": [
      "Progress:  31%|███       | 309/1000 [2:04:30<4:42:37, 24.54s/it]"
     ]
    },
    {
     "name": "stdout",
     "output_type": "stream",
     "text": [
      "Time to: Calculate Ground State - 0.99s, Get Pauli Ops - 14.96s, Calculate Pauli Expectation Values - 5.43s, Calculate Covariance - 2.61s\n",
      "f0,f1,f2 = [6.0871632406651e-10, 6.087171626684558e-10, 3.013718198526631e-10]\n",
      "d01,d02,d12 = [1.011288471496388, 1.0046991754430485, 1.004699186996834]\n"
     ]
    },
    {
     "name": "stderr",
     "output_type": "stream",
     "text": [
      "Progress:  31%|███       | 310/1000 [2:04:58<4:54:36, 25.62s/it]"
     ]
    },
    {
     "name": "stdout",
     "output_type": "stream",
     "text": [
      "Time to: Calculate Ground State - 1.11s, Get Pauli Ops - 15.71s, Calculate Pauli Expectation Values - 8.27s, Calculate Covariance - 3.03s\n",
      "f0,f1,f2 = [1.0081357012967004e-09, 1.0081387705305138e-09, 2.1053482794244702e-09]\n",
      "d01,d02,d12 = [1.0164566082540394, 1.0071408913892381, 1.007140903363275]\n"
     ]
    },
    {
     "name": "stderr",
     "output_type": "stream",
     "text": [
      "Progress:  31%|███       | 311/1000 [2:05:21<4:46:19, 24.93s/it]"
     ]
    },
    {
     "name": "stdout",
     "output_type": "stream",
     "text": [
      "Time to: Calculate Ground State - 0.99s, Get Pauli Ops - 14.4s, Calculate Pauli Expectation Values - 5.29s, Calculate Covariance - 2.65s\n",
      "f0,f1,f2 = [1.5311642939317144e-09, 1.5311635873801643e-09, 8.455336612426917e-10]\n",
      "d01,d02,d12 = [1.0214067208231632, 1.0092073281764635, 1.0092073401091308]\n"
     ]
    },
    {
     "name": "stderr",
     "output_type": "stream",
     "text": [
      "Progress:  31%|███       | 312/1000 [2:05:45<4:43:45, 24.75s/it]"
     ]
    },
    {
     "name": "stdout",
     "output_type": "stream",
     "text": [
      "Time to: Calculate Ground State - 1.44s, Get Pauli Ops - 14.43s, Calculate Pauli Expectation Values - 5.54s, Calculate Covariance - 2.89s\n",
      "f0,f1,f2 = [8.88089938510888e-10, 8.880930340994e-10, 9.3940702163365e-10]\n",
      "d01,d02,d12 = [1.0254395046434166, 1.0107897443251488, 1.010789758243425]\n"
     ]
    },
    {
     "name": "stderr",
     "output_type": "stream",
     "text": [
      "Progress:  31%|███▏      | 313/1000 [2:06:10<4:42:25, 24.67s/it]"
     ]
    },
    {
     "name": "stdout",
     "output_type": "stream",
     "text": [
      "Time to: Calculate Ground State - 0.94s, Get Pauli Ops - 12.52s, Calculate Pauli Expectation Values - 7.87s, Calculate Covariance - 3.14s\n",
      "f0,f1,f2 = [1.0538297110602313e-09, 1.053832164026684e-09, 9.933676901618198e-10]\n",
      "d01,d02,d12 = [1.028643362923419, 1.0119208295901763, 1.011920847552965]\n"
     ]
    },
    {
     "name": "stderr",
     "output_type": "stream",
     "text": [
      "Progress:  31%|███▏      | 314/1000 [2:06:36<4:46:40, 25.07s/it]"
     ]
    },
    {
     "name": "stdout",
     "output_type": "stream",
     "text": [
      "Time to: Calculate Ground State - 1.13s, Get Pauli Ops - 14.4s, Calculate Pauli Expectation Values - 7.35s, Calculate Covariance - 3.14s\n",
      "f0,f1,f2 = [1.129461403474049e-09, 1.1294683762066147e-09, 1.0559033625316637e-09]\n",
      "d01,d02,d12 = [1.0313022713604214, 1.0125212560888475, 1.0125212772015992]\n"
     ]
    },
    {
     "name": "stderr",
     "output_type": "stream",
     "text": [
      "Progress:  32%|███▏      | 315/1000 [2:07:01<4:47:20, 25.17s/it]"
     ]
    },
    {
     "name": "stdout",
     "output_type": "stream",
     "text": [
      "Time to: Calculate Ground State - 1.05s, Get Pauli Ops - 15.92s, Calculate Pauli Expectation Values - 5.61s, Calculate Covariance - 2.79s\n",
      "f0,f1,f2 = [1.3299585716396468e-09, 1.3299591039504657e-09, 1.0844176289779795e-09]\n",
      "d01,d02,d12 = [1.033314560874335, 1.012635571904907, 1.0126355965969942]\n"
     ]
    },
    {
     "name": "stderr",
     "output_type": "stream",
     "text": [
      "Progress:  32%|███▏      | 316/1000 [2:07:28<4:52:49, 25.69s/it]"
     ]
    },
    {
     "name": "stdout",
     "output_type": "stream",
     "text": [
      "Time to: Calculate Ground State - 1.11s, Get Pauli Ops - 15.97s, Calculate Pauli Expectation Values - 6.78s, Calculate Covariance - 3.03s\n",
      "f0,f1,f2 = [1.3029576244708963e-09, 1.3029619871214266e-09, 1.081877734203895e-09]\n",
      "d01,d02,d12 = [1.0347219620229369, 1.0122373262789945, 1.012237353900445]\n"
     ]
    },
    {
     "name": "stderr",
     "output_type": "stream",
     "text": [
      "Progress:  32%|███▏      | 317/1000 [2:07:54<4:52:48, 25.72s/it]"
     ]
    },
    {
     "name": "stdout",
     "output_type": "stream",
     "text": [
      "Time to: Calculate Ground State - 1.08s, Get Pauli Ops - 16.2s, Calculate Pauli Expectation Values - 5.4s, Calculate Covariance - 3.11s\n",
      "f0,f1,f2 = [1.314495483572593e-09, 1.3144997505032297e-09, 1.102652380554944e-09]\n",
      "d01,d02,d12 = [1.0355578920003958, 1.0113333534673024, 1.01133338267673]\n"
     ]
    },
    {
     "name": "stderr",
     "output_type": "stream",
     "text": [
      "Progress:  32%|███▏      | 318/1000 [2:08:20<4:54:32, 25.91s/it]"
     ]
    },
    {
     "name": "stdout",
     "output_type": "stream",
     "text": [
      "Time to: Calculate Ground State - 1.15s, Get Pauli Ops - 15.04s, Calculate Pauli Expectation Values - 6.91s, Calculate Covariance - 3.25s\n",
      "f0,f1,f2 = [1.4117945144173657e-09, 1.4117918454336033e-09, 1.0627166978648624e-09]\n",
      "d01,d02,d12 = [1.0356929562228092, 1.0099768936210902, 1.009976927274381]\n"
     ]
    },
    {
     "name": "stderr",
     "output_type": "stream",
     "text": [
      "Progress:  32%|███▏      | 319/1000 [2:08:47<4:56:25, 26.12s/it]"
     ]
    },
    {
     "name": "stdout",
     "output_type": "stream",
     "text": [
      "Time to: Calculate Ground State - 1.11s, Get Pauli Ops - 14.57s, Calculate Pauli Expectation Values - 8.44s, Calculate Covariance - 2.46s\n",
      "f0,f1,f2 = [1.270100326801794e-09, 1.2701079025879555e-09, 9.847742571780207e-10]\n",
      "d01,d02,d12 = [1.0352833345180281, 1.0081561280145201, 1.008156162972233]\n"
     ]
    },
    {
     "name": "stderr",
     "output_type": "stream",
     "text": [
      "Progress:  32%|███▏      | 320/1000 [2:09:12<4:51:09, 25.69s/it]"
     ]
    },
    {
     "name": "stdout",
     "output_type": "stream",
     "text": [
      "Time to: Calculate Ground State - 1.47s, Get Pauli Ops - 12.56s, Calculate Pauli Expectation Values - 8.51s, Calculate Covariance - 2.16s\n",
      "f0,f1,f2 = [1.2419820944009449e-09, 1.2419893042010987e-09, 9.476720044419294e-10]\n",
      "d01,d02,d12 = [1.034357968832397, 1.005885262500954, 1.0058852958361346]\n"
     ]
    },
    {
     "name": "stderr",
     "output_type": "stream",
     "text": [
      "Progress:  32%|███▏      | 321/1000 [2:09:37<4:50:44, 25.69s/it]"
     ]
    },
    {
     "name": "stdout",
     "output_type": "stream",
     "text": [
      "Time to: Calculate Ground State - 0.84s, Get Pauli Ops - 12.72s, Calculate Pauli Expectation Values - 9.3s, Calculate Covariance - 2.82s\n",
      "f0,f1,f2 = [1.2084145504210107e-09, 1.2084207892828764e-09, 8.970455846987901e-10]\n",
      "d01,d02,d12 = [1.0329203745520361, 1.0031980386883368, 1.0031980680813646]\n"
     ]
    },
    {
     "name": "stderr",
     "output_type": "stream",
     "text": [
      "Progress:  32%|███▏      | 322/1000 [2:10:02<4:45:06, 25.23s/it]"
     ]
    },
    {
     "name": "stdout",
     "output_type": "stream",
     "text": [
      "Time to: Calculate Ground State - 1.38s, Get Pauli Ops - 13.58s, Calculate Pauli Expectation Values - 6.43s, Calculate Covariance - 2.75s\n",
      "f0,f1,f2 = [1.2520264054672905e-09, 1.2520232430359335e-09, 7.636731444418228e-10]\n",
      "d01,d02,d12 = [1.0309391156725445, 1.0001668660268719, 1.0001668920310154]\n"
     ]
    },
    {
     "name": "stderr",
     "output_type": "stream",
     "text": [
      "Progress:  32%|███▏      | 323/1000 [2:10:27<4:45:53, 25.34s/it]"
     ]
    },
    {
     "name": "stdout",
     "output_type": "stream",
     "text": [
      "Time to: Calculate Ground State - 1.19s, Get Pauli Ops - 15.36s, Calculate Pauli Expectation Values - 6.19s, Calculate Covariance - 2.85s\n",
      "f0,f1,f2 = [1.1012033042312721e-09, 1.1012025354660984e-09, 6.930271466292066e-10]\n",
      "d01,d02,d12 = [1.028481924978225, 0.9968267815450277, 0.9968268045320111]\n"
     ]
    },
    {
     "name": "stderr",
     "output_type": "stream",
     "text": [
      "Progress:  32%|███▏      | 324/1000 [2:10:51<4:41:32, 24.99s/it]"
     ]
    },
    {
     "name": "stdout",
     "output_type": "stream",
     "text": [
      "Time to: Calculate Ground State - 0.95s, Get Pauli Ops - 12.78s, Calculate Pauli Expectation Values - 7.38s, Calculate Covariance - 3.06s\n",
      "f0,f1,f2 = [9.352956952717578e-10, 9.352990623649313e-10, 5.524095585817807e-10]\n",
      "d01,d02,d12 = [1.0256138787424176, 0.9932223004383074, 0.9932223196816351]\n"
     ]
    },
    {
     "name": "stderr",
     "output_type": "stream",
     "text": [
      "Progress:  32%|███▎      | 325/1000 [2:11:16<4:39:55, 24.88s/it]"
     ]
    },
    {
     "name": "stdout",
     "output_type": "stream",
     "text": [
      "Time to: Calculate Ground State - 1.47s, Get Pauli Ops - 13.06s, Calculate Pauli Expectation Values - 6.78s, Calculate Covariance - 3.32s\n",
      "f0,f1,f2 = [9.165179369206404e-10, 9.165160731761952e-10, 4.1670575336228756e-10]\n",
      "d01,d02,d12 = [1.0223479668169735, 0.9894347079057924, 0.9894347244457712]\n"
     ]
    },
    {
     "name": "stderr",
     "output_type": "stream",
     "text": [
      "Progress:  33%|███▎      | 326/1000 [2:11:39<4:32:55, 24.30s/it]"
     ]
    },
    {
     "name": "stdout",
     "output_type": "stream",
     "text": [
      "Time to: Calculate Ground State - 1.45s, Get Pauli Ops - 12.75s, Calculate Pauli Expectation Values - 6.63s, Calculate Covariance - 2.09s\n",
      "f0,f1,f2 = [7.781275693258568e-10, 7.781269090486346e-10, 2.7585104719798147e-10]\n",
      "d01,d02,d12 = [1.018746032700477, 0.9855090138524459, 0.9855090281188625]\n"
     ]
    },
    {
     "name": "stderr",
     "output_type": "stream",
     "text": [
      "Progress:  33%|███▎      | 327/1000 [2:12:02<4:27:23, 23.84s/it]"
     ]
    },
    {
     "name": "stdout",
     "output_type": "stream",
     "text": [
      "Time to: Calculate Ground State - 0.85s, Get Pauli Ops - 13.53s, Calculate Pauli Expectation Values - 5.6s, Calculate Covariance - 2.79s\n",
      "f0,f1,f2 = [6.602421254665851e-10, 6.602411515527892e-10, 8.414554903828895e-11]\n",
      "d01,d02,d12 = [1.0148749624656301, 0.9815269878357429, 0.9815270001693351]\n"
     ]
    },
    {
     "name": "stderr",
     "output_type": "stream",
     "text": [
      "Progress:  33%|███▎      | 328/1000 [2:12:26<4:29:28, 24.06s/it]"
     ]
    },
    {
     "name": "stdout",
     "output_type": "stream",
     "text": [
      "Time to: Calculate Ground State - 1.47s, Get Pauli Ops - 14.53s, Calculate Pauli Expectation Values - 6.01s, Calculate Covariance - 2.56s\n",
      "f0,f1,f2 = [4.319080149016988e-10, 4.319100855836805e-10, 4.9977571313051354e-11]\n",
      "d01,d02,d12 = [1.0108315448890566, 0.9775232086433708, 0.9775232181759019]\n"
     ]
    },
    {
     "name": "stderr",
     "output_type": "stream",
     "text": [
      "Progress:  33%|███▎      | 329/1000 [2:12:48<4:22:28, 23.47s/it]"
     ]
    },
    {
     "name": "stdout",
     "output_type": "stream",
     "text": [
      "Time to: Calculate Ground State - 1.41s, Get Pauli Ops - 13.22s, Calculate Pauli Expectation Values - 5.21s, Calculate Covariance - 2.24s\n",
      "f0,f1,f2 = [4.2997274732996574e-10, 4.299722904037246e-10, 2.321801216095946e-10]\n",
      "d01,d02,d12 = [1.0066411087703415, 0.9735945638130007, 0.9735945708500016]\n"
     ]
    },
    {
     "name": "stderr",
     "output_type": "stream",
     "text": [
      "Progress:  33%|███▎      | 330/1000 [2:13:12<4:21:24, 23.41s/it]"
     ]
    },
    {
     "name": "stdout",
     "output_type": "stream",
     "text": [
      "Time to: Calculate Ground State - 0.83s, Get Pauli Ops - 14.45s, Calculate Pauli Expectation Values - 5.67s, Calculate Covariance - 2.31s\n",
      "f0,f1,f2 = [1.8219296857667276e-10, 1.821931481257885e-10, 4.055680086860484e-10]\n",
      "d01,d02,d12 = [1.0024161157006575, 0.9697837985414097, 0.9697838025225387]\n"
     ]
    },
    {
     "name": "stderr",
     "output_type": "stream",
     "text": [
      "Progress:  33%|███▎      | 331/1000 [2:13:35<4:20:16, 23.34s/it]"
     ]
    },
    {
     "name": "stdout",
     "output_type": "stream",
     "text": [
      "Time to: Calculate Ground State - 0.91s, Get Pauli Ops - 13.86s, Calculate Pauli Expectation Values - 5.73s, Calculate Covariance - 2.68s\n",
      "f0,f1,f2 = [2.649487228479438e-10, 2.6494853148414593e-10, 5.681756533747525e-10]\n",
      "d01,d02,d12 = [0.9982065503476939, 0.9661763337045605, 0.9661763345293088]\n"
     ]
    },
    {
     "name": "stderr",
     "output_type": "stream",
     "text": [
      "Progress:  33%|███▎      | 332/1000 [2:13:58<4:19:27, 23.30s/it]"
     ]
    },
    {
     "name": "stdout",
     "output_type": "stream",
     "text": [
      "Time to: Calculate Ground State - 1.13s, Get Pauli Ops - 14.02s, Calculate Pauli Expectation Values - 5.39s, Calculate Covariance - 2.67s\n",
      "f0,f1,f2 = [3.5242288668973244e-10, 3.5242287370015163e-10, 6.848702910467373e-10]\n",
      "d01,d02,d12 = [0.9940560181790316, 0.9628301310585239, 0.9628301287265355]\n"
     ]
    },
    {
     "name": "stderr",
     "output_type": "stream",
     "text": [
      "Progress:  33%|███▎      | 333/1000 [2:14:20<4:16:13, 23.05s/it]"
     ]
    },
    {
     "name": "stdout",
     "output_type": "stream",
     "text": [
      "Time to: Calculate Ground State - 0.83s, Get Pauli Ops - 13.47s, Calculate Pauli Expectation Values - 5.76s, Calculate Covariance - 2.38s\n",
      "f0,f1,f2 = [4.959918169900973e-10, 4.959917604645389e-10, 8.684856087675405e-10]\n",
      "d01,d02,d12 = [0.9900425979375156, 0.9598209225751493, 0.9598209170542003]\n"
     ]
    },
    {
     "name": "stderr",
     "output_type": "stream",
     "text": [
      "Progress:  33%|███▎      | 334/1000 [2:14:45<4:19:32, 23.38s/it]"
     ]
    },
    {
     "name": "stdout",
     "output_type": "stream",
     "text": [
      "Time to: Calculate Ground State - 0.86s, Get Pauli Ops - 14.49s, Calculate Pauli Expectation Values - 5.59s, Calculate Covariance - 3.21s\n",
      "f0,f1,f2 = [5.92210167714808e-10, 5.922104849054366e-10, 1.0210436056591679e-09]\n",
      "d01,d02,d12 = [0.9862153900524971, 0.9571939452539501, 0.9571939365483574]\n"
     ]
    },
    {
     "name": "stderr",
     "output_type": "stream",
     "text": [
      "Progress:  34%|███▎      | 335/1000 [2:15:10<4:25:28, 23.95s/it]"
     ]
    },
    {
     "name": "stdout",
     "output_type": "stream",
     "text": [
      "Time to: Calculate Ground State - 1.39s, Get Pauli Ops - 15.28s, Calculate Pauli Expectation Values - 5.77s, Calculate Covariance - 2.84s\n",
      "f0,f1,f2 = [7.27024747554775e-10, 7.270238162130161e-10, 1.1393387345685266e-09]\n",
      "d01,d02,d12 = [0.9826240388286607, 0.9550104796719354, 0.955010467671033]\n"
     ]
    },
    {
     "name": "stderr",
     "output_type": "stream",
     "text": [
      "Progress:  34%|███▎      | 336/1000 [2:15:32<4:19:55, 23.49s/it]"
     ]
    },
    {
     "name": "stdout",
     "output_type": "stream",
     "text": [
      "Time to: Calculate Ground State - 0.89s, Get Pauli Ops - 13.44s, Calculate Pauli Expectation Values - 5.23s, Calculate Covariance - 2.83s\n",
      "f0,f1,f2 = [8.528795932550872e-10, 8.528812714796594e-10, 1.2408345099578289e-09]\n",
      "d01,d02,d12 = [0.9793761763401735, 0.9532933807963133, 0.9532933661293982]\n"
     ]
    },
    {
     "name": "stderr",
     "output_type": "stream",
     "text": [
      "Progress:  34%|███▎      | 337/1000 [2:15:58<4:26:33, 24.12s/it]"
     ]
    },
    {
     "name": "stdout",
     "output_type": "stream",
     "text": [
      "Time to: Calculate Ground State - 1.59s, Get Pauli Ops - 15.15s, Calculate Pauli Expectation Values - 6.05s, Calculate Covariance - 2.81s\n",
      "f0,f1,f2 = [9.50913632318834e-10, 9.509124045530216e-10, 1.330027571233146e-09]\n",
      "d01,d02,d12 = [0.9764707885749545, 0.9521045727894295, 0.9521045552540507]\n"
     ]
    },
    {
     "name": "stderr",
     "output_type": "stream",
     "text": [
      "Progress:  34%|███▍      | 338/1000 [2:16:23<4:30:25, 24.51s/it]"
     ]
    },
    {
     "name": "stdout",
     "output_type": "stream",
     "text": [
      "Time to: Calculate Ground State - 1.01s, Get Pauli Ops - 15.96s, Calculate Pauli Expectation Values - 5.61s, Calculate Covariance - 2.82s\n",
      "f0,f1,f2 = [9.941860372218099e-10, 9.941854054257657e-10, 1.4198319565802158e-09]\n",
      "d01,d02,d12 = [0.9739281305052595, 0.9514587699355829, 0.9514587496904661]\n"
     ]
    },
    {
     "name": "stderr",
     "output_type": "stream",
     "text": [
      "Progress:  34%|███▍      | 339/1000 [2:16:48<4:29:56, 24.50s/it]"
     ]
    },
    {
     "name": "stdout",
     "output_type": "stream",
     "text": [
      "Time to: Calculate Ground State - 1.12s, Get Pauli Ops - 15.28s, Calculate Pauli Expectation Values - 5.44s, Calculate Covariance - 2.64s\n",
      "f0,f1,f2 = [1.0691639470554178e-09, 1.0691646796508551e-09, 1.4276362602744525e-09]\n",
      "d01,d02,d12 = [0.9717998200354026, 0.9513594465235391, 0.9513594241007965]\n"
     ]
    },
    {
     "name": "stderr",
     "output_type": "stream",
     "text": [
      "Progress:  34%|███▍      | 340/1000 [2:17:15<4:39:09, 25.38s/it]"
     ]
    },
    {
     "name": "stdout",
     "output_type": "stream",
     "text": [
      "Time to: Calculate Ground State - 1.48s, Get Pauli Ops - 17.69s, Calculate Pauli Expectation Values - 5.33s, Calculate Covariance - 2.91s\n",
      "f0,f1,f2 = [1.0957067546461938e-09, 1.0957012541648282e-09, 1.4663948469962086e-09]\n",
      "d01,d02,d12 = [0.9699928017976012, 0.9518479987419457, 0.9518479718669524]\n"
     ]
    },
    {
     "name": "stderr",
     "output_type": "stream",
     "text": [
      "Progress:  34%|███▍      | 341/1000 [2:17:40<4:37:24, 25.26s/it]"
     ]
    },
    {
     "name": "stdout",
     "output_type": "stream",
     "text": [
      "Time to: Calculate Ground State - 1.3s, Get Pauli Ops - 15.17s, Calculate Pauli Expectation Values - 5.55s, Calculate Covariance - 2.93s\n",
      "f0,f1,f2 = [1.1180601068074776e-09, 1.1180590747232604e-09, 1.442645853372995e-09]\n",
      "d01,d02,d12 = [0.9687050193395321, 0.9528842290852969, 0.952884199675402]\n"
     ]
    },
    {
     "name": "stderr",
     "output_type": "stream",
     "text": [
      "Progress:  34%|███▍      | 342/1000 [2:18:03<4:29:41, 24.59s/it]"
     ]
    },
    {
     "name": "stdout",
     "output_type": "stream",
     "text": [
      "Time to: Calculate Ground State - 1.37s, Get Pauli Ops - 13.84s, Calculate Pauli Expectation Values - 5.68s, Calculate Covariance - 2.14s\n",
      "f0,f1,f2 = [1.2457432190275135e-09, 1.2457521070476117e-09, 1.3878933899259844e-09]\n",
      "d01,d02,d12 = [0.9678579473562312, 0.954413812590322, 0.9544137817366183]\n"
     ]
    },
    {
     "name": "stderr",
     "output_type": "stream",
     "text": [
      "Progress:  34%|███▍      | 343/1000 [2:18:30<4:37:05, 25.31s/it]"
     ]
    },
    {
     "name": "stdout",
     "output_type": "stream",
     "text": [
      "Time to: Calculate Ground State - 1.16s, Get Pauli Ops - 17.2s, Calculate Pauli Expectation Values - 5.49s, Calculate Covariance - 3.1s\n",
      "f0,f1,f2 = [1.0319731654572413e-09, 1.0319711615252786e-09, 1.350534224011147e-09]\n",
      "d01,d02,d12 = [0.9674825393908867, 0.9564639291234304, 0.956463898239161]\n"
     ]
    },
    {
     "name": "stderr",
     "output_type": "stream",
     "text": [
      "Progress:  34%|███▍      | 344/1000 [2:18:56<4:38:04, 25.43s/it]"
     ]
    },
    {
     "name": "stdout",
     "output_type": "stream",
     "text": [
      "Time to: Calculate Ground State - 1.03s, Get Pauli Ops - 15.76s, Calculate Pauli Expectation Values - 5.65s, Calculate Covariance - 3.28s\n",
      "f0,f1,f2 = [1.5494010735994604e-09, 1.549410212444591e-09, 1.228078713246577e-09]\n",
      "d01,d02,d12 = [0.9684634744721451, 0.958932889431688, 0.9589328686288756]\n"
     ]
    },
    {
     "name": "stderr",
     "output_type": "stream",
     "text": [
      "Progress:  34%|███▍      | 345/1000 [2:19:18<4:26:43, 24.43s/it]"
     ]
    },
    {
     "name": "stdout",
     "output_type": "stream",
     "text": [
      "Time to: Calculate Ground State - 1.01s, Get Pauli Ops - 12.95s, Calculate Pauli Expectation Values - 5.22s, Calculate Covariance - 2.91s\n",
      "f0,f1,f2 = [9.93669356409629e-10, 9.936706260672157e-10, 1.1317199099741817e-09]\n",
      "d01,d02,d12 = [0.9689154946006632, 0.9619014275709367, 0.9619014139924624]\n"
     ]
    },
    {
     "name": "stderr",
     "output_type": "stream",
     "text": [
      "Progress:  35%|███▍      | 346/1000 [2:19:41<4:20:56, 23.94s/it]"
     ]
    },
    {
     "name": "stdout",
     "output_type": "stream",
     "text": [
      "Time to: Calculate Ground State - 1.01s, Get Pauli Ops - 12.99s, Calculate Pauli Expectation Values - 6.07s, Calculate Covariance - 2.72s\n",
      "f0,f1,f2 = [9.483208357370475e-10, 9.48322502554149e-10, 7.157948362203131e-10]\n",
      "d01,d02,d12 = [0.9697223660838867, 0.9654082990779258, 0.9654082923753572]\n"
     ]
    },
    {
     "name": "stderr",
     "output_type": "stream",
     "text": [
      "Progress:  35%|███▍      | 347/1000 [2:20:04<4:18:23, 23.74s/it]"
     ]
    },
    {
     "name": "stdout",
     "output_type": "stream",
     "text": [
      "Time to: Calculate Ground State - 0.99s, Get Pauli Ops - 14.6s, Calculate Pauli Expectation Values - 4.85s, Calculate Covariance - 2.83s\n",
      "f0,f1,f2 = [1.2075060353532031e-09, 1.2075084667684917e-09, 2.3621683282855384e-09]\n",
      "d01,d02,d12 = [0.9710181443737043, 0.969593156299641, 0.9695931564680506]\n"
     ]
    },
    {
     "name": "stderr",
     "output_type": "stream",
     "text": [
      "Progress:  35%|███▍      | 348/1000 [2:20:30<4:25:00, 24.39s/it]"
     ]
    },
    {
     "name": "stdout",
     "output_type": "stream",
     "text": [
      "Time to: Calculate Ground State - 1.08s, Get Pauli Ops - 17.24s, Calculate Pauli Expectation Values - 4.75s, Calculate Covariance - 2.81s\n",
      "f0,f1,f2 = [8.132636842304693e-10, 8.13264639622922e-10, 1.878226415095145e-09]\n",
      "d01,d02,d12 = [0.9723074744019573, 0.9738223448514173, 0.973822351803568]\n"
     ]
    },
    {
     "name": "stderr",
     "output_type": "stream",
     "text": [
      "Progress:  35%|███▍      | 349/1000 [2:20:54<4:23:57, 24.33s/it]"
     ]
    },
    {
     "name": "stdout",
     "output_type": "stream",
     "text": [
      "Time to: Calculate Ground State - 1.02s, Get Pauli Ops - 15.97s, Calculate Pauli Expectation Values - 4.76s, Calculate Covariance - 2.43s\n",
      "f0,f1,f2 = [7.579886119659448e-10, 7.579909920669429e-10, 1.618764901486153e-09]\n",
      "d01,d02,d12 = [0.9734780210566824, 0.9776114541689425, 0.9776114689512196]\n"
     ]
    },
    {
     "name": "stderr",
     "output_type": "stream",
     "text": [
      "Progress:  35%|███▌      | 350/1000 [2:21:19<4:23:52, 24.36s/it]"
     ]
    },
    {
     "name": "stdout",
     "output_type": "stream",
     "text": [
      "Time to: Calculate Ground State - 1.04s, Get Pauli Ops - 15.19s, Calculate Pauli Expectation Values - 5.17s, Calculate Covariance - 3.02s\n",
      "f0,f1,f2 = [5.098882636065974e-10, 5.09889058617448e-10, 7.349637171027434e-10]\n",
      "d01,d02,d12 = [0.9749729125495495, 0.9818565272254, 0.9818565496133286]\n"
     ]
    },
    {
     "name": "stderr",
     "output_type": "stream",
     "text": [
      "Progress:  35%|███▌      | 351/1000 [2:21:40<4:14:17, 23.51s/it]"
     ]
    },
    {
     "name": "stdout",
     "output_type": "stream",
     "text": [
      "Time to: Calculate Ground State - 1.04s, Get Pauli Ops - 12.77s, Calculate Pauli Expectation Values - 5.32s, Calculate Covariance - 2.39s\n",
      "f0,f1,f2 = [2.8042406868567203e-10, 2.804236084127083e-10, 1.57940025525812e-10]\n",
      "d01,d02,d12 = [0.9765749416637289, 0.9862223599190254, 0.986222389258322]\n"
     ]
    },
    {
     "name": "stderr",
     "output_type": "stream",
     "text": [
      "Progress:  35%|███▌      | 352/1000 [2:22:02<4:08:18, 22.99s/it]"
     ]
    },
    {
     "name": "stdout",
     "output_type": "stream",
     "text": [
      "Time to: Calculate Ground State - 0.78s, Get Pauli Ops - 12.63s, Calculate Pauli Expectation Values - 5.3s, Calculate Covariance - 3.06s\n",
      "f0,f1,f2 = [1.5880830914594596e-10, 1.5880674130436743e-10, 3.396209338335342e-12]\n",
      "d01,d02,d12 = [0.9781707905541803, 0.990570987146626, 0.9905710227642623]\n"
     ]
    },
    {
     "name": "stderr",
     "output_type": "stream",
     "text": [
      "Progress:  35%|███▌      | 353/1000 [2:22:28<4:17:58, 23.92s/it]"
     ]
    },
    {
     "name": "stdout",
     "output_type": "stream",
     "text": [
      "Time to: Calculate Ground State - 1.36s, Get Pauli Ops - 16.81s, Calculate Pauli Expectation Values - 5.56s, Calculate Covariance - 2.35s\n",
      "f0,f1,f2 = [3.96920096931636e-10, 3.9692172849731466e-10, 1.5444473876026433e-10]\n",
      "d01,d02,d12 = [0.9799244435457345, 0.9948096215242787, 0.9948096657903567]\n"
     ]
    },
    {
     "name": "stderr",
     "output_type": "stream",
     "text": [
      "Progress:  35%|███▌      | 354/1000 [2:22:50<4:11:42, 23.38s/it]"
     ]
    },
    {
     "name": "stdout",
     "output_type": "stream",
     "text": [
      "Time to: Calculate Ground State - 1.5s, Get Pauli Ops - 13.38s, Calculate Pauli Expectation Values - 5.13s, Calculate Covariance - 2.09s\n",
      "f0,f1,f2 = [6.889829055265521e-10, 6.889949364840431e-10, 3.151885168766923e-10]\n",
      "d01,d02,d12 = [0.981657463396335, 0.9989711308757058, 0.9989711828175463]\n"
     ]
    },
    {
     "name": "stderr",
     "output_type": "stream",
     "text": [
      "Progress:  36%|███▌      | 355/1000 [2:23:12<4:07:06, 22.99s/it]"
     ]
    },
    {
     "name": "stdout",
     "output_type": "stream",
     "text": [
      "Time to: Calculate Ground State - 0.94s, Get Pauli Ops - 13.66s, Calculate Pauli Expectation Values - 5.31s, Calculate Covariance - 2.16s\n",
      "f0,f1,f2 = [3.024926877574849e-10, 3.0248966460147897e-10, 4.639557715317097e-10]\n",
      "d01,d02,d12 = [0.9832342591328896, 1.0029326362158837, 1.002932693294538]\n"
     ]
    },
    {
     "name": "stderr",
     "output_type": "stream",
     "text": [
      "Progress:  36%|███▌      | 356/1000 [2:23:36<4:08:44, 23.17s/it]"
     ]
    },
    {
     "name": "stdout",
     "output_type": "stream",
     "text": [
      "Time to: Calculate Ground State - 1.14s, Get Pauli Ops - 14.75s, Calculate Pauli Expectation Values - 5.3s, Calculate Covariance - 2.42s\n",
      "f0,f1,f2 = [3.838572699743642e-10, 3.8386355971408145e-10, 5.930348959025463e-10]\n",
      "d01,d02,d12 = [0.984679715383468, 1.0066545962664504, 1.0066546581857563]\n"
     ]
    },
    {
     "name": "stderr",
     "output_type": "stream",
     "text": [
      "Progress:  36%|███▌      | 357/1000 [2:23:59<4:08:34, 23.20s/it]"
     ]
    },
    {
     "name": "stdout",
     "output_type": "stream",
     "text": [
      "Time to: Calculate Ground State - 0.84s, Get Pauli Ops - 13.61s, Calculate Pauli Expectation Values - 5.45s, Calculate Covariance - 3.34s\n",
      "f0,f1,f2 = [4.715969235329893e-10, 4.715957517032385e-10, 7.409180176127426e-10]\n",
      "d01,d02,d12 = [0.9859668504855826, 1.0100780742714244, 1.0100781412840785]\n"
     ]
    },
    {
     "name": "stderr",
     "output_type": "stream",
     "text": [
      "Progress:  36%|███▌      | 358/1000 [2:24:22<4:06:32, 23.04s/it]"
     ]
    },
    {
     "name": "stdout",
     "output_type": "stream",
     "text": [
      "Time to: Calculate Ground State - 1.12s, Get Pauli Ops - 12.74s, Calculate Pauli Expectation Values - 5.82s, Calculate Covariance - 3.0s\n",
      "f0,f1,f2 = [5.544047328800976e-10, 5.543973731637389e-10, 8.442881135455357e-10]\n",
      "d01,d02,d12 = [0.987121817925764, 1.0131508433281406, 1.0131509197110327]\n"
     ]
    },
    {
     "name": "stderr",
     "output_type": "stream",
     "text": [
      "Progress:  36%|███▌      | 359/1000 [2:24:47<4:14:55, 23.86s/it]"
     ]
    },
    {
     "name": "stdout",
     "output_type": "stream",
     "text": [
      "Time to: Calculate Ground State - 1.47s, Get Pauli Ops - 15.96s, Calculate Pauli Expectation Values - 5.37s, Calculate Covariance - 2.97s\n",
      "f0,f1,f2 = [6.096485315104613e-10, 6.096530797010645e-10, 9.666883143268193e-10]\n",
      "d01,d02,d12 = [0.9880660488369757, 1.0158547750664204, 1.0158548590120766]\n"
     ]
    },
    {
     "name": "stderr",
     "output_type": "stream",
     "text": [
      "Progress:  36%|███▌      | 360/1000 [2:25:11<4:14:50, 23.89s/it]"
     ]
    },
    {
     "name": "stdout",
     "output_type": "stream",
     "text": [
      "Time to: Calculate Ground State - 1.11s, Get Pauli Ops - 14.19s, Calculate Pauli Expectation Values - 6.28s, Calculate Covariance - 2.37s\n",
      "f0,f1,f2 = [6.911681389965667e-10, 6.911729077890135e-10, 1.1029299505871248e-09]\n",
      "d01,d02,d12 = [0.9887785953005003, 1.0181457782474228, 1.018145867319931]\n"
     ]
    },
    {
     "name": "stderr",
     "output_type": "stream",
     "text": [
      "Progress:  36%|███▌      | 361/1000 [2:25:33<4:06:37, 23.16s/it]"
     ]
    },
    {
     "name": "stdout",
     "output_type": "stream",
     "text": [
      "Time to: Calculate Ground State - 0.99s, Get Pauli Ops - 12.87s, Calculate Pauli Expectation Values - 4.77s, Calculate Covariance - 2.8s\n",
      "f0,f1,f2 = [8.081336750138368e-10, 8.081184169077395e-10, 1.1759673285161512e-09]\n",
      "d01,d02,d12 = [0.9892812809678584, 1.0199613420330236, 1.0199614432359623]\n"
     ]
    },
    {
     "name": "stderr",
     "output_type": "stream",
     "text": [
      "Progress:  36%|███▌      | 362/1000 [2:25:56<4:06:02, 23.14s/it]"
     ]
    },
    {
     "name": "stdout",
     "output_type": "stream",
     "text": [
      "Time to: Calculate Ground State - 1.5s, Get Pauli Ops - 12.84s, Calculate Pauli Expectation Values - 5.68s, Calculate Covariance - 3.06s\n",
      "f0,f1,f2 = [8.24230198676529e-10, 8.242213424938609e-10, 1.2089879496211343e-09]\n",
      "d01,d02,d12 = [0.9895390844527322, 1.0213057831641514, 1.02130590126837]\n"
     ]
    },
    {
     "name": "stderr",
     "output_type": "stream",
     "text": [
      "Progress:  36%|███▋      | 363/1000 [2:26:21<4:11:54, 23.73s/it]"
     ]
    },
    {
     "name": "stdout",
     "output_type": "stream",
     "text": [
      "Time to: Calculate Ground State - 1.41s, Get Pauli Ops - 15.19s, Calculate Pauli Expectation Values - 5.54s, Calculate Covariance - 2.95s\n",
      "f0,f1,f2 = [8.482473752243071e-10, 8.482241475642141e-10, 1.2342959754534126e-09]\n",
      "d01,d02,d12 = [0.9895679660420139, 1.0221637490261768, 1.0221638933636115]\n"
     ]
    },
    {
     "name": "stderr",
     "output_type": "stream",
     "text": [
      "Progress:  36%|███▋      | 364/1000 [2:26:50<4:27:11, 25.21s/it]"
     ]
    },
    {
     "name": "stdout",
     "output_type": "stream",
     "text": [
      "Time to: Calculate Ground State - 1.26s, Get Pauli Ops - 17.15s, Calculate Pauli Expectation Values - 6.89s, Calculate Covariance - 3.34s\n",
      "f0,f1,f2 = [8.293066814105189e-10, 8.293185847447586e-10, 1.257967923195855e-09]\n",
      "d01,d02,d12 = [0.9893097280661677, 1.0225659627527421, 1.0225661269604438]\n"
     ]
    },
    {
     "name": "stderr",
     "output_type": "stream",
     "text": [
      "Progress:  36%|███▋      | 365/1000 [2:27:14<4:22:09, 24.77s/it]"
     ]
    },
    {
     "name": "stdout",
     "output_type": "stream",
     "text": [
      "Time to: Calculate Ground State - 1.12s, Get Pauli Ops - 13.28s, Calculate Pauli Expectation Values - 6.77s, Calculate Covariance - 2.57s\n",
      "f0,f1,f2 = [8.419744155171745e-10, 8.419942464728528e-10, 1.2578727602677685e-09]\n",
      "d01,d02,d12 = [0.988758122215319, 1.0225190810214928, 1.022519258240088]\n"
     ]
    },
    {
     "name": "stderr",
     "output_type": "stream",
     "text": [
      "Progress:  37%|███▋      | 366/1000 [2:27:36<4:14:41, 24.10s/it]"
     ]
    },
    {
     "name": "stdout",
     "output_type": "stream",
     "text": [
      "Time to: Calculate Ground State - 0.86s, Get Pauli Ops - 14.18s, Calculate Pauli Expectation Values - 5.3s, Calculate Covariance - 2.2s\n",
      "f0,f1,f2 = [8.588295956939139e-10, 8.588490753635192e-10, 1.2704067119134962e-09]\n",
      "d01,d02,d12 = [0.9879144115385305, 1.0220169361478908, 1.0220171190263394]\n"
     ]
    },
    {
     "name": "stderr",
     "output_type": "stream",
     "text": [
      "Progress:  37%|███▋      | 367/1000 [2:28:01<4:17:30, 24.41s/it]"
     ]
    },
    {
     "name": "stdout",
     "output_type": "stream",
     "text": [
      "Time to: Calculate Ground State - 0.86s, Get Pauli Ops - 16.13s, Calculate Pauli Expectation Values - 5.31s, Calculate Covariance - 2.8s\n",
      "f0,f1,f2 = [8.251660462154792e-10, 8.251814155808849e-10, 1.2493313553479926e-09]\n",
      "d01,d02,d12 = [0.986797435893197, 1.0210745628649343, 1.0210747444103274]\n"
     ]
    },
    {
     "name": "stderr",
     "output_type": "stream",
     "text": [
      "Progress:  37%|███▋      | 368/1000 [2:28:23<4:09:36, 23.70s/it]"
     ]
    },
    {
     "name": "stdout",
     "output_type": "stream",
     "text": [
      "Time to: Calculate Ground State - 1.15s, Get Pauli Ops - 12.85s, Calculate Pauli Expectation Values - 5.41s, Calculate Covariance - 2.62s\n",
      "f0,f1,f2 = [7.779816003696433e-10, 7.779632203222572e-10, 1.2054826183737385e-09]\n",
      "d01,d02,d12 = [0.9854842281712333, 1.0196979715673182, 1.0196981590027507]\n"
     ]
    },
    {
     "name": "stderr",
     "output_type": "stream",
     "text": [
      "Progress:  37%|███▋      | 369/1000 [2:28:49<4:15:03, 24.25s/it]"
     ]
    },
    {
     "name": "stdout",
     "output_type": "stream",
     "text": [
      "Time to: Calculate Ground State - 1.18s, Get Pauli Ops - 15.45s, Calculate Pauli Expectation Values - 5.58s, Calculate Covariance - 3.34s\n",
      "f0,f1,f2 = [7.335087994133648e-10, 7.335081642378637e-10, 1.1528966978716893e-09]\n",
      "d01,d02,d12 = [0.9839719884638882, 1.017919019302063, 1.0179192124448473]\n"
     ]
    },
    {
     "name": "stderr",
     "output_type": "stream",
     "text": [
      "Progress:  37%|███▋      | 370/1000 [2:29:15<4:21:35, 24.91s/it]"
     ]
    },
    {
     "name": "stdout",
     "output_type": "stream",
     "text": [
      "Time to: Calculate Ground State - 1.19s, Get Pauli Ops - 16.68s, Calculate Pauli Expectation Values - 5.7s, Calculate Covariance - 2.88s\n",
      "f0,f1,f2 = [6.940169291852851e-10, 6.940098585610615e-10, 1.1096543769440055e-09]\n",
      "d01,d02,d12 = [0.9822908817225003, 1.015754670188271, 1.0157548705807038]\n"
     ]
    },
    {
     "name": "stderr",
     "output_type": "stream",
     "text": [
      "Progress:  37%|███▋      | 371/1000 [2:29:39<4:18:18, 24.64s/it]"
     ]
    },
    {
     "name": "stdout",
     "output_type": "stream",
     "text": [
      "Time to: Calculate Ground State - 1.15s, Get Pauli Ops - 15.3s, Calculate Pauli Expectation Values - 5.01s, Calculate Covariance - 2.53s\n",
      "f0,f1,f2 = [6.501511748645914e-10, 6.501157244873876e-10, 1.0587500303460417e-09]\n",
      "d01,d02,d12 = [0.9805255256176217, 1.0132221006366104, 1.0132223229708206]\n"
     ]
    },
    {
     "name": "stderr",
     "output_type": "stream",
     "text": [
      "Progress:  37%|███▋      | 372/1000 [2:30:05<4:22:20, 25.06s/it]"
     ]
    },
    {
     "name": "stdout",
     "output_type": "stream",
     "text": [
      "Time to: Calculate Ground State - 1.3s, Get Pauli Ops - 16.59s, Calculate Pauli Expectation Values - 5.16s, Calculate Covariance - 3.01s\n",
      "f0,f1,f2 = [5.655732895992287e-10, 5.655753623664595e-10, 9.803339822533788e-10]\n",
      "d01,d02,d12 = [0.9786566186836697, 1.0103707788806717, 1.0103710247092021]\n"
     ]
    },
    {
     "name": "stderr",
     "output_type": "stream",
     "text": [
      "Progress:  37%|███▋      | 373/1000 [2:30:29<4:16:56, 24.59s/it]"
     ]
    },
    {
     "name": "stdout",
     "output_type": "stream",
     "text": [
      "Time to: Calculate Ground State - 1.21s, Get Pauli Ops - 13.96s, Calculate Pauli Expectation Values - 5.59s, Calculate Covariance - 2.7s\n",
      "f0,f1,f2 = [4.892867046406573e-10, 4.892654813285683e-10, 8.538484124516314e-10]\n",
      "d01,d02,d12 = [0.9767548900187752, 1.0072471066605062, 1.0072473853445787]\n"
     ]
    },
    {
     "name": "stderr",
     "output_type": "stream",
     "text": [
      "Progress:  37%|███▋      | 374/1000 [2:30:55<4:21:05, 25.02s/it]"
     ]
    },
    {
     "name": "stdout",
     "output_type": "stream",
     "text": [
      "Time to: Calculate Ground State - 1.13s, Get Pauli Ops - 16.71s, Calculate Pauli Expectation Values - 5.43s, Calculate Covariance - 2.76s\n",
      "f0,f1,f2 = [4.338929253138511e-10, 4.338717875225737e-10, 7.467476482511793e-10]\n",
      "d01,d02,d12 = [0.9748356298281029, 1.0038968019781918, 1.0038971219227375]\n"
     ]
    },
    {
     "name": "stderr",
     "output_type": "stream",
     "text": [
      "Progress:  38%|███▊      | 375/1000 [2:31:18<4:13:40, 24.35s/it]"
     ]
    },
    {
     "name": "stdout",
     "output_type": "stream",
     "text": [
      "Time to: Calculate Ground State - 1.09s, Get Pauli Ops - 13.16s, Calculate Pauli Expectation Values - 5.51s, Calculate Covariance - 3.01s\n",
      "f0,f1,f2 = [2.9617196785797006e-10, 2.96176489497229e-10, 5.911186923904756e-10]\n",
      "d01,d02,d12 = [0.9729145085400039, 1.0003949775191951, 1.0003953317737433]\n"
     ]
    },
    {
     "name": "stderr",
     "output_type": "stream",
     "text": [
      "Progress:  38%|███▊      | 376/1000 [2:31:46<4:25:29, 25.53s/it]"
     ]
    },
    {
     "name": "stdout",
     "output_type": "stream",
     "text": [
      "Time to: Calculate Ground State - 1.17s, Get Pauli Ops - 18.55s, Calculate Pauli Expectation Values - 5.4s, Calculate Covariance - 3.15s\n",
      "f0,f1,f2 = [1.736355663360447e-10, 1.7368815592065117e-10, 4.812927378426298e-10]\n",
      "d01,d02,d12 = [0.9709869183422705, 0.9967982618593559, 0.9967986200330874]\n"
     ]
    },
    {
     "name": "stderr",
     "output_type": "stream",
     "text": [
      "Progress:  38%|███▊      | 377/1000 [2:32:12<4:26:57, 25.71s/it]"
     ]
    },
    {
     "name": "stdout",
     "output_type": "stream",
     "text": [
      "Time to: Calculate Ground State - 1.19s, Get Pauli Ops - 17.2s, Calculate Pauli Expectation Values - 4.93s, Calculate Covariance - 2.81s\n",
      "f0,f1,f2 = [1.9513734676776076e-10, 1.9513651503512588e-10, 3.5069387898133387e-10]\n",
      "d01,d02,d12 = [0.9691403570792066, 0.9931541581673775, 0.9931545008869543]\n"
     ]
    },
    {
     "name": "stderr",
     "output_type": "stream",
     "text": [
      "Progress:  38%|███▊      | 378/1000 [2:32:36<4:22:19, 25.30s/it]"
     ]
    },
    {
     "name": "stdout",
     "output_type": "stream",
     "text": [
      "Time to: Calculate Ground State - 1.27s, Get Pauli Ops - 14.79s, Calculate Pauli Expectation Values - 5.26s, Calculate Covariance - 3.03s\n",
      "f0,f1,f2 = [9.689649269455844e-11, 9.677667681899726e-11, 2.1365010846803745e-10]\n",
      "d01,d02,d12 = [0.9673322419098163, 0.9895543913688863, 0.9895546633855858]\n"
     ]
    },
    {
     "name": "stderr",
     "output_type": "stream",
     "text": [
      "Progress:  38%|███▊      | 379/1000 [2:33:01<4:19:27, 25.07s/it]"
     ]
    },
    {
     "name": "stdout",
     "output_type": "stream",
     "text": [
      "Time to: Calculate Ground State - 1.09s, Get Pauli Ops - 15.42s, Calculate Pauli Expectation Values - 4.99s, Calculate Covariance - 3.01s\n",
      "f0,f1,f2 = [2.1374132224431783e-10, 2.1367250826983495e-10, 1.1530729903324565e-10]\n",
      "d01,d02,d12 = [0.965728060878471, 0.9860105988165341, 0.9860107927184366]\n"
     ]
    },
    {
     "name": "stderr",
     "output_type": "stream",
     "text": [
      "Progress:  38%|███▊      | 380/1000 [2:33:26<4:18:05, 24.98s/it]"
     ]
    },
    {
     "name": "stdout",
     "output_type": "stream",
     "text": [
      "Time to: Calculate Ground State - 1.19s, Get Pauli Ops - 15.58s, Calculate Pauli Expectation Values - 5.15s, Calculate Covariance - 2.84s\n",
      "f0,f1,f2 = [6.752845857989569e-10, 6.753233993024826e-10, 8.41832658928035e-11]\n",
      "d01,d02,d12 = [0.9644194175052198, 0.9825494010055311, 0.9825495283979243]\n"
     ]
    },
    {
     "name": "stderr",
     "output_type": "stream",
     "text": [
      "Progress:  38%|███▊      | 381/1000 [2:33:51<4:18:17, 25.04s/it]"
     ]
    },
    {
     "name": "stdout",
     "output_type": "stream",
     "text": [
      "Time to: Calculate Ground State - 1.62s, Get Pauli Ops - 14.67s, Calculate Pauli Expectation Values - 5.58s, Calculate Covariance - 3.3s\n",
      "f0,f1,f2 = [6.348030097503019e-10, 6.34816281647141e-10, 1.7312361226221686e-10]\n",
      "d01,d02,d12 = [0.9635311301621228, 0.9791956472333383, 0.9791957207413998]\n"
     ]
    },
    {
     "name": "stderr",
     "output_type": "stream",
     "text": [
      "Progress:  38%|███▊      | 382/1000 [2:34:16<4:17:28, 25.00s/it]"
     ]
    },
    {
     "name": "stdout",
     "output_type": "stream",
     "text": [
      "Time to: Calculate Ground State - 1.36s, Get Pauli Ops - 15.27s, Calculate Pauli Expectation Values - 5.11s, Calculate Covariance - 3.16s\n",
      "f0,f1,f2 = [7.730578539568581e-10, 7.73066302184572e-10, 3.024679852795604e-10]\n",
      "d01,d02,d12 = [0.9630583740247464, 0.9760200897468573, 0.9760201124136514]\n"
     ]
    },
    {
     "name": "stderr",
     "output_type": "stream",
     "text": [
      "Progress:  38%|███▊      | 383/1000 [2:34:41<4:18:18, 25.12s/it]"
     ]
    },
    {
     "name": "stdout",
     "output_type": "stream",
     "text": [
      "Time to: Calculate Ground State - 1.38s, Get Pauli Ops - 15.87s, Calculate Pauli Expectation Values - 5.69s, Calculate Covariance - 2.45s\n",
      "f0,f1,f2 = [1.1013500943441476e-09, 1.1013556204455353e-09, 4.348524804864522e-10]\n",
      "d01,d02,d12 = [0.9626262429182508, 0.9730631415567991, 0.9730631110767405]\n"
     ]
    },
    {
     "name": "stderr",
     "output_type": "stream",
     "text": [
      "Progress:  38%|███▊      | 384/1000 [2:35:02<4:06:03, 23.97s/it]"
     ]
    },
    {
     "name": "stdout",
     "output_type": "stream",
     "text": [
      "Time to: Calculate Ground State - 1.2s, Get Pauli Ops - 11.72s, Calculate Pauli Expectation Values - 5.62s, Calculate Covariance - 2.71s\n",
      "f0,f1,f2 = [5.820844126946202e-10, 5.820886365456015e-10, 5.221735043921029e-10]\n",
      "d01,d02,d12 = [0.9622040277952216, 0.9703940433192478, 0.97039396333167]\n"
     ]
    },
    {
     "name": "stderr",
     "output_type": "stream",
     "text": [
      "Progress:  38%|███▊      | 385/1000 [2:35:25<4:01:11, 23.53s/it]"
     ]
    },
    {
     "name": "stdout",
     "output_type": "stream",
     "text": [
      "Time to: Calculate Ground State - 0.78s, Get Pauli Ops - 14.51s, Calculate Pauli Expectation Values - 4.9s, Calculate Covariance - 2.31s\n",
      "f0,f1,f2 = [8.699837901111132e-10, 8.699907710335742e-10, 1.9405234437994265e-09]\n",
      "d01,d02,d12 = [0.9618849709225693, 0.9683680654292146, 0.9683679402183387]\n"
     ]
    },
    {
     "name": "stderr",
     "output_type": "stream",
     "text": [
      "Progress:  39%|███▊      | 386/1000 [2:35:50<4:05:59, 24.04s/it]"
     ]
    },
    {
     "name": "stdout",
     "output_type": "stream",
     "text": [
      "Time to: Calculate Ground State - 1.39s, Get Pauli Ops - 15.24s, Calculate Pauli Expectation Values - 5.47s, Calculate Covariance - 3.12s\n",
      "f0,f1,f2 = [8.459992453993061e-10, 8.459800957170909e-10, 1.2123783965647285e-10]\n",
      "d01,d02,d12 = [0.9620089167120678, 0.9666802368678613, 0.9666800670060762]\n"
     ]
    },
    {
     "name": "stderr",
     "output_type": "stream",
     "text": [
      "Progress:  39%|███▊      | 387/1000 [2:36:12<3:59:32, 23.45s/it]"
     ]
    },
    {
     "name": "stdout",
     "output_type": "stream",
     "text": [
      "Time to: Calculate Ground State - 0.77s, Get Pauli Ops - 12.63s, Calculate Pauli Expectation Values - 5.56s, Calculate Covariance - 3.1s\n",
      "f0,f1,f2 = [9.356587603601256e-10, 9.356283398538925e-10, 2.871745288877718e-10]\n",
      "d01,d02,d12 = [0.9631520521937265, 0.966212034989258, 0.9662118230424527]\n"
     ]
    },
    {
     "name": "stderr",
     "output_type": "stream",
     "text": [
      "Progress:  39%|███▉      | 388/1000 [2:36:37<4:03:35, 23.88s/it]"
     ]
    },
    {
     "name": "stdout",
     "output_type": "stream",
     "text": [
      "Time to: Calculate Ground State - 1.06s, Get Pauli Ops - 13.77s, Calculate Pauli Expectation Values - 6.49s, Calculate Covariance - 3.56s\n",
      "f0,f1,f2 = [1.1400892041423132e-09, 1.1400608651464793e-09, 1.5348528839385838e-10]\n",
      "d01,d02,d12 = [0.9646878214853244, 0.9660150664807152, 0.9660148052801153]\n"
     ]
    },
    {
     "name": "stderr",
     "output_type": "stream",
     "text": [
      "Progress:  39%|███▉      | 389/1000 [2:37:00<3:59:30, 23.52s/it]"
     ]
    },
    {
     "name": "stdout",
     "output_type": "stream",
     "text": [
      "Time to: Calculate Ground State - 1.1s, Get Pauli Ops - 13.4s, Calculate Pauli Expectation Values - 5.27s, Calculate Covariance - 2.91s\n",
      "f0,f1,f2 = [1.122736224135664e-09, 1.1227223197417522e-09, 3.167377586695015e-10]\n",
      "d01,d02,d12 = [0.966651887973646, 0.9661426187951677, 0.9661422932745926]\n"
     ]
    },
    {
     "name": "stderr",
     "output_type": "stream",
     "text": [
      "Progress:  39%|███▉      | 390/1000 [2:37:22<3:55:33, 23.17s/it]"
     ]
    },
    {
     "name": "stdout",
     "output_type": "stream",
     "text": [
      "Time to: Calculate Ground State - 1.35s, Get Pauli Ops - 12.36s, Calculate Pauli Expectation Values - 5.38s, Calculate Covariance - 3.24s\n",
      "f0,f1,f2 = [1.0836576035218871e-09, 1.0836799244867008e-09, 3.9125860888405613e-10]\n",
      "d01,d02,d12 = [0.9690259929744592, 0.9666432097511927, 0.9666428530550744]\n"
     ]
    },
    {
     "name": "stderr",
     "output_type": "stream",
     "text": [
      "Progress:  39%|███▉      | 391/1000 [2:37:50<4:09:23, 24.57s/it]"
     ]
    },
    {
     "name": "stdout",
     "output_type": "stream",
     "text": [
      "Time to: Calculate Ground State - 1.12s, Get Pauli Ops - 17.28s, Calculate Pauli Expectation Values - 6.07s, Calculate Covariance - 3.36s\n",
      "f0,f1,f2 = [8.286136704067018e-10, 8.286128907120039e-10, 4.733315486717868e-10]\n",
      "d01,d02,d12 = [0.9716269386269502, 0.9671522303778691, 0.9671518607194066]\n"
     ]
    },
    {
     "name": "stderr",
     "output_type": "stream",
     "text": [
      "Progress:  39%|███▉      | 392/1000 [2:38:15<4:10:48, 24.75s/it]"
     ]
    },
    {
     "name": "stdout",
     "output_type": "stream",
     "text": [
      "Time to: Calculate Ground State - 1.05s, Get Pauli Ops - 15.14s, Calculate Pauli Expectation Values - 5.7s, Calculate Covariance - 3.27s\n",
      "f0,f1,f2 = [8.97074038804557e-10, 8.97064364783987e-10, 2.2633992749342024e-09]\n",
      "d01,d02,d12 = [0.9745216840209023, 0.968153462604709, 0.9681530790996503]\n"
     ]
    },
    {
     "name": "stderr",
     "output_type": "stream",
     "text": [
      "Progress:  39%|███▉      | 393/1000 [2:38:37<4:02:37, 23.98s/it]"
     ]
    },
    {
     "name": "stdout",
     "output_type": "stream",
     "text": [
      "Time to: Calculate Ground State - 1.05s, Get Pauli Ops - 12.95s, Calculate Pauli Expectation Values - 5.28s, Calculate Covariance - 2.9s\n",
      "f0,f1,f2 = [4.458681582951601e-10, 4.459569264154914e-10, 9.370566601625988e-10]\n",
      "d01,d02,d12 = [0.9776860888350729, 0.9691223121957868, 0.9691219490954093]\n"
     ]
    },
    {
     "name": "stderr",
     "output_type": "stream",
     "text": [
      "Progress:  39%|███▉      | 394/1000 [2:39:03<4:08:12, 24.57s/it]"
     ]
    },
    {
     "name": "stdout",
     "output_type": "stream",
     "text": [
      "Time to: Calculate Ground State - 1.1s, Get Pauli Ops - 17.02s, Calculate Pauli Expectation Values - 5.07s, Calculate Covariance - 2.75s\n",
      "f0,f1,f2 = [9.743254431247443e-10, 9.743506096537034e-10, 4.0176584471998323e-10]\n",
      "d01,d02,d12 = [0.9811711572281728, 0.970308802679194, 0.9703084800628067]\n"
     ]
    },
    {
     "name": "stderr",
     "output_type": "stream",
     "text": [
      "Progress:  40%|███▉      | 395/1000 [2:39:30<4:14:44, 25.26s/it]"
     ]
    },
    {
     "name": "stdout",
     "output_type": "stream",
     "text": [
      "Time to: Calculate Ground State - 1.12s, Get Pauli Ops - 17.0s, Calculate Pauli Expectation Values - 5.38s, Calculate Covariance - 3.36s\n",
      "f0,f1,f2 = [1.1372806303280304e-09, 1.1373691279505486e-09, 6.10132193154586e-10]\n",
      "d01,d02,d12 = [0.9852660978235879, 0.9716231267972335, 0.9716228992417743]\n"
     ]
    },
    {
     "name": "stderr",
     "output_type": "stream",
     "text": [
      "Progress:  40%|███▉      | 396/1000 [2:39:59<4:26:19, 26.46s/it]"
     ]
    },
    {
     "name": "stdout",
     "output_type": "stream",
     "text": [
      "Time to: Calculate Ground State - 1.47s, Get Pauli Ops - 16.96s, Calculate Pauli Expectation Values - 7.72s, Calculate Covariance - 3.08s\n",
      "f0,f1,f2 = [6.062929969669562e-10, 6.06341008543168e-10, 5.29927169944878e-10]\n",
      "d01,d02,d12 = [0.989590739635882, 0.9731031831630089, 0.9731030684237642]\n"
     ]
    },
    {
     "name": "stderr",
     "output_type": "stream",
     "text": [
      "Progress:  40%|███▉      | 397/1000 [2:40:25<4:23:37, 26.23s/it]"
     ]
    },
    {
     "name": "stdout",
     "output_type": "stream",
     "text": [
      "Time to: Calculate Ground State - 1.35s, Get Pauli Ops - 15.76s, Calculate Pauli Expectation Values - 5.61s, Calculate Covariance - 2.97s\n",
      "f0,f1,f2 = [3.1987970431363274e-10, 3.198928950957949e-10, 4.760809900195732e-10]\n",
      "d01,d02,d12 = [0.9938835468809704, 0.9747330248333159, 0.9747330183411478]\n"
     ]
    },
    {
     "name": "stderr",
     "output_type": "stream",
     "text": [
      "Progress:  40%|███▉      | 398/1000 [2:40:54<4:31:36, 27.07s/it]"
     ]
    },
    {
     "name": "stdout",
     "output_type": "stream",
     "text": [
      "Time to: Calculate Ground State - 1.63s, Get Pauli Ops - 18.75s, Calculate Pauli Expectation Values - 5.61s, Calculate Covariance - 3.02s\n",
      "f0,f1,f2 = [2.9007381722028584e-10, 2.900735875828083e-10, 3.9457935620535246e-10]\n",
      "d01,d02,d12 = [0.9981112321569533, 0.9764789890931305, 0.9764790907089839]\n"
     ]
    },
    {
     "name": "stderr",
     "output_type": "stream",
     "text": [
      "Progress:  40%|███▉      | 399/1000 [2:41:18<4:20:14, 25.98s/it]"
     ]
    },
    {
     "name": "stdout",
     "output_type": "stream",
     "text": [
      "Time to: Calculate Ground State - 1.17s, Get Pauli Ops - 13.59s, Calculate Pauli Expectation Values - 5.97s, Calculate Covariance - 2.7s\n",
      "f0,f1,f2 = [6.252397004954724e-11, 6.251443338685692e-11, 3.2347562991833807e-10]\n",
      "d01,d02,d12 = [1.0023022714362637, 0.9782632878543032, 0.9782634905780249]\n"
     ]
    },
    {
     "name": "stderr",
     "output_type": "stream",
     "text": [
      "Progress:  40%|████      | 400/1000 [2:41:42<4:16:42, 25.67s/it]"
     ]
    },
    {
     "name": "stdout",
     "output_type": "stream",
     "text": [
      "Time to: Calculate Ground State - 1.18s, Get Pauli Ops - 15.61s, Calculate Pauli Expectation Values - 5.31s, Calculate Covariance - 2.83s\n",
      "f0,f1,f2 = [2.1543737953242051e-10, 2.154440011006675e-10, 2.3080154279084887e-10]\n",
      "d01,d02,d12 = [1.006387197896744, 0.9800545143123581, 0.9800548045764145]\n"
     ]
    },
    {
     "name": "stderr",
     "output_type": "stream",
     "text": [
      "Progress:  40%|████      | 401/1000 [2:42:09<4:17:34, 25.80s/it]"
     ]
    },
    {
     "name": "stdout",
     "output_type": "stream",
     "text": [
      "Time to: Calculate Ground State - 1.36s, Get Pauli Ops - 14.19s, Calculate Pauli Expectation Values - 7.92s, Calculate Covariance - 2.63s\n",
      "f0,f1,f2 = [3.3297223727647277e-10, 3.3297738241222553e-10, 1.4234288018168935e-10]\n",
      "d01,d02,d12 = [1.0102908011412828, 0.981825523780317, 0.9818258937695289]\n"
     ]
    },
    {
     "name": "stderr",
     "output_type": "stream",
     "text": [
      "Progress:  40%|████      | 402/1000 [2:42:33<4:14:02, 25.49s/it]"
     ]
    },
    {
     "name": "stdout",
     "output_type": "stream",
     "text": [
      "Time to: Calculate Ground State - 1.52s, Get Pauli Ops - 15.22s, Calculate Pauli Expectation Values - 5.15s, Calculate Covariance - 2.86s\n",
      "f0,f1,f2 = [3.01748891986342e-10, 3.0185394946207676e-10, 5.652221264778015e-11]\n",
      "d01,d02,d12 = [1.0140085935960383, 0.9835135796318374, 0.9835139935527217]\n"
     ]
    },
    {
     "name": "stderr",
     "output_type": "stream",
     "text": [
      "Progress:  40%|████      | 403/1000 [2:42:57<4:08:40, 24.99s/it]"
     ]
    },
    {
     "name": "stdout",
     "output_type": "stream",
     "text": [
      "Time to: Calculate Ground State - 0.89s, Get Pauli Ops - 13.9s, Calculate Pauli Expectation Values - 5.31s, Calculate Covariance - 3.72s\n",
      "f0,f1,f2 = [4.843703351577484e-10, 4.843931189127338e-10, 1.007087960536894e-11]\n",
      "d01,d02,d12 = [1.017449967047112, 0.9851095022568434, 0.9851099550770577]\n"
     ]
    },
    {
     "name": "stderr",
     "output_type": "stream",
     "text": [
      "Progress:  40%|████      | 404/1000 [2:43:20<4:00:18, 24.19s/it]"
     ]
    },
    {
     "name": "stdout",
     "output_type": "stream",
     "text": [
      "Time to: Calculate Ground State - 1.21s, Get Pauli Ops - 12.88s, Calculate Pauli Expectation Values - 5.35s, Calculate Covariance - 2.88s\n",
      "f0,f1,f2 = [7.028865972884463e-10, 7.02813030722122e-10, 8.241514702021595e-11]\n",
      "d01,d02,d12 = [1.0205487047234156, 0.9866013463557092, 0.9866018664043597]\n"
     ]
    },
    {
     "name": "stderr",
     "output_type": "stream",
     "text": [
      "Progress:  40%|████      | 405/1000 [2:43:43<3:58:54, 24.09s/it]"
     ]
    },
    {
     "name": "stdout",
     "output_type": "stream",
     "text": [
      "Time to: Calculate Ground State - 1.53s, Get Pauli Ops - 13.48s, Calculate Pauli Expectation Values - 5.4s, Calculate Covariance - 3.44s\n",
      "f0,f1,f2 = [6.840956717557474e-10, 6.840984115469982e-10, 1.430100547683085e-10]\n",
      "d01,d02,d12 = [1.0232987442160424, 0.987947466086457, 0.9879480542103993]\n"
     ]
    },
    {
     "name": "stderr",
     "output_type": "stream",
     "text": [
      "Progress:  41%|████      | 406/1000 [2:44:06<3:55:33, 23.79s/it]"
     ]
    },
    {
     "name": "stdout",
     "output_type": "stream",
     "text": [
      "Time to: Calculate Ground State - 1.4s, Get Pauli Ops - 13.74s, Calculate Pauli Expectation Values - 5.24s, Calculate Covariance - 2.72s\n",
      "f0,f1,f2 = [7.632164188631462e-10, 7.63208208125012e-10, 2.1626651837044582e-10]\n",
      "d01,d02,d12 = [1.0256602563294, 0.9891207582129569, 0.9891214160324632]\n"
     ]
    },
    {
     "name": "stderr",
     "output_type": "stream",
     "text": [
      "Progress:  41%|████      | 407/1000 [2:44:29<3:52:42, 23.55s/it]"
     ]
    },
    {
     "name": "stdout",
     "output_type": "stream",
     "text": [
      "Time to: Calculate Ground State - 0.88s, Get Pauli Ops - 13.81s, Calculate Pauli Expectation Values - 5.15s, Calculate Covariance - 3.12s\n",
      "f0,f1,f2 = [8.571961448859569e-10, 8.571342138814056e-10, 2.425202965316719e-10]\n",
      "d01,d02,d12 = [1.0275942183986702, 0.9901154379656163, 0.990116191679961]\n"
     ]
    },
    {
     "name": "stderr",
     "output_type": "stream",
     "text": [
      "Progress:  41%|████      | 408/1000 [2:44:52<3:49:03, 23.22s/it]"
     ]
    },
    {
     "name": "stdout",
     "output_type": "stream",
     "text": [
      "Time to: Calculate Ground State - 1.17s, Get Pauli Ops - 13.85s, Calculate Pauli Expectation Values - 4.93s, Calculate Covariance - 2.49s\n",
      "f0,f1,f2 = [8.570113769270166e-10, 8.570087474975478e-10, 2.9204214431015794e-10]\n",
      "d01,d02,d12 = [1.0291144941480952, 0.9909043405600197, 0.9909051865370336]\n"
     ]
    },
    {
     "name": "stderr",
     "output_type": "stream",
     "text": [
      "Progress:  41%|████      | 409/1000 [2:45:16<3:51:48, 23.53s/it]"
     ]
    },
    {
     "name": "stdout",
     "output_type": "stream",
     "text": [
      "Time to: Calculate Ground State - 1.22s, Get Pauli Ops - 15.74s, Calculate Pauli Expectation Values - 5.12s, Calculate Covariance - 2.19s\n",
      "f0,f1,f2 = [9.303170759205984e-10, 9.302622181764206e-10, 3.073992363187125e-10]\n",
      "d01,d02,d12 = [1.0301857626178719, 0.9914840124278934, 0.9914849681581451]\n"
     ]
    },
    {
     "name": "stderr",
     "output_type": "stream",
     "text": [
      "Progress:  41%|████      | 410/1000 [2:45:40<3:51:26, 23.54s/it]"
     ]
    },
    {
     "name": "stdout",
     "output_type": "stream",
     "text": [
      "Time to: Calculate Ground State - 1.25s, Get Pauli Ops - 13.87s, Calculate Pauli Expectation Values - 5.89s, Calculate Covariance - 2.53s\n",
      "f0,f1,f2 = [9.376822332390155e-10, 9.376695245775138e-10, 3.361465457997534e-10]\n",
      "d01,d02,d12 = [1.0308061304836575, 0.9918420400170621, 0.991843107774883]\n"
     ]
    },
    {
     "name": "stderr",
     "output_type": "stream",
     "text": [
      "Progress:  41%|████      | 411/1000 [2:46:05<3:55:21, 23.98s/it]"
     ]
    },
    {
     "name": "stdout",
     "output_type": "stream",
     "text": [
      "Time to: Calculate Ground State - 1.31s, Get Pauli Ops - 14.75s, Calculate Pauli Expectation Values - 5.36s, Calculate Covariance - 3.56s\n",
      "f0,f1,f2 = [9.041731332078075e-10, 9.042498527672489e-10, 3.6328166915189674e-10]\n",
      "d01,d02,d12 = [1.0309963299021367, 0.9919652734072328, 0.9919664217634263]\n"
     ]
    },
    {
     "name": "stderr",
     "output_type": "stream",
     "text": [
      "Progress:  41%|████      | 412/1000 [2:46:30<3:59:34, 24.45s/it]"
     ]
    },
    {
     "name": "stdout",
     "output_type": "stream",
     "text": [
      "Time to: Calculate Ground State - 1.62s, Get Pauli Ops - 15.2s, Calculate Pauli Expectation Values - 5.6s, Calculate Covariance - 3.11s\n",
      "f0,f1,f2 = [9.266880155362563e-10, 9.268409419148433e-10, 3.816202541093094e-10]\n",
      "d01,d02,d12 = [1.0307537022288231, 0.9918437572249813, 0.9918449241417494]\n"
     ]
    },
    {
     "name": "stderr",
     "output_type": "stream",
     "text": [
      "Progress:  41%|████▏     | 413/1000 [2:46:59<4:11:28, 25.70s/it]"
     ]
    },
    {
     "name": "stdout",
     "output_type": "stream",
     "text": [
      "Time to: Calculate Ground State - 1.31s, Get Pauli Ops - 19.31s, Calculate Pauli Expectation Values - 5.34s, Calculate Covariance - 2.67s\n",
      "f0,f1,f2 = [9.802438941499197e-10, 9.800892440246895e-10, 3.971985617986434e-10]\n",
      "d01,d02,d12 = [1.0300561603824814, 0.9914983932052857, 0.9914996387450975]\n"
     ]
    },
    {
     "name": "stderr",
     "output_type": "stream",
     "text": [
      "Progress:  41%|████▏     | 414/1000 [2:47:21<4:00:49, 24.66s/it]"
     ]
    },
    {
     "name": "stdout",
     "output_type": "stream",
     "text": [
      "Time to: Calculate Ground State - 1.39s, Get Pauli Ops - 12.96s, Calculate Pauli Expectation Values - 5.31s, Calculate Covariance - 2.55s\n",
      "f0,f1,f2 = [8.913571559775095e-10, 8.914467960800078e-10, 3.6772428380607434e-10]\n",
      "d01,d02,d12 = [1.0289530395181417, 0.9909284289418321, 0.9909297152447355]\n"
     ]
    },
    {
     "name": "stderr",
     "output_type": "stream",
     "text": [
      "Progress:  42%|████▏     | 415/1000 [2:47:47<4:03:27, 24.97s/it]"
     ]
    },
    {
     "name": "stdout",
     "output_type": "stream",
     "text": [
      "Time to: Calculate Ground State - 1.44s, Get Pauli Ops - 15.65s, Calculate Pauli Expectation Values - 4.92s, Calculate Covariance - 3.67s\n",
      "f0,f1,f2 = [9.284537976102195e-10, 9.283347787194068e-10, 3.352729816823422e-10]\n",
      "d01,d02,d12 = [1.0274284866283316, 0.9901593122219845, 0.9901606618968681]\n"
     ]
    },
    {
     "name": "stderr",
     "output_type": "stream",
     "text": [
      "Progress:  42%|████▏     | 416/1000 [2:48:11<4:00:14, 24.68s/it]"
     ]
    },
    {
     "name": "stdout",
     "output_type": "stream",
     "text": [
      "Time to: Calculate Ground State - 1.16s, Get Pauli Ops - 14.97s, Calculate Pauli Expectation Values - 5.11s, Calculate Covariance - 2.77s\n",
      "f0,f1,f2 = [8.423986374728469e-10, 8.424340730309924e-10, 3.1574343790352057e-10]\n",
      "d01,d02,d12 = [1.0255225566415356, 0.9891983377948004, 0.9891997280354415]\n"
     ]
    },
    {
     "name": "stderr",
     "output_type": "stream",
     "text": [
      "Progress:  42%|████▏     | 417/1000 [2:48:35<3:58:21, 24.53s/it]"
     ]
    },
    {
     "name": "stdout",
     "output_type": "stream",
     "text": [
      "Time to: Calculate Ground State - 0.91s, Get Pauli Ops - 13.99s, Calculate Pauli Expectation Values - 5.7s, Calculate Covariance - 3.56s\n",
      "f0,f1,f2 = [8.162701886560195e-10, 8.162506704178455e-10, 2.5097293275138504e-10]\n",
      "d01,d02,d12 = [1.0232451857431097, 0.9880760166679724, 0.988077449981209]\n"
     ]
    },
    {
     "name": "stderr",
     "output_type": "stream",
     "text": [
      "Progress:  42%|████▏     | 418/1000 [2:48:58<3:54:24, 24.17s/it]"
     ]
    },
    {
     "name": "stdout",
     "output_type": "stream",
     "text": [
      "Time to: Calculate Ground State - 1.16s, Get Pauli Ops - 14.32s, Calculate Pauli Expectation Values - 5.09s, Calculate Covariance - 2.74s\n",
      "f0,f1,f2 = [8.004680216729663e-10, 8.00275488971714e-10, 2.308347123223163e-10]\n",
      "d01,d02,d12 = [1.02060837416454, 0.986816257430591, 0.9868178070768838]\n"
     ]
    },
    {
     "name": "stderr",
     "output_type": "stream",
     "text": [
      "Progress:  42%|████▏     | 419/1000 [2:49:21<3:50:44, 23.83s/it]"
     ]
    },
    {
     "name": "stdout",
     "output_type": "stream",
     "text": [
      "Time to: Calculate Ground State - 0.87s, Get Pauli Ops - 12.65s, Calculate Pauli Expectation Values - 6.11s, Calculate Covariance - 3.41s\n",
      "f0,f1,f2 = [7.18152441651692e-10, 7.180355518165789e-10, 1.6511876426123592e-10]\n",
      "d01,d02,d12 = [1.017657126243819, 0.9854466567810232, 0.9854483454276324]\n"
     ]
    },
    {
     "name": "stderr",
     "output_type": "stream",
     "text": [
      "Progress:  42%|████▏     | 420/1000 [2:49:45<3:49:50, 23.78s/it]"
     ]
    },
    {
     "name": "stdout",
     "output_type": "stream",
     "text": [
      "Time to: Calculate Ground State - 0.93s, Get Pauli Ops - 14.93s, Calculate Pauli Expectation Values - 5.12s, Calculate Covariance - 2.67s\n",
      "f0,f1,f2 = [5.291746722998149e-10, 5.295667937662786e-10, 7.079807801629784e-11]\n",
      "d01,d02,d12 = [1.0144802146650465, 0.9839805930687457, 0.9839822604497709]\n"
     ]
    },
    {
     "name": "stderr",
     "output_type": "stream",
     "text": [
      "Progress:  42%|████▏     | 421/1000 [2:50:08<3:47:38, 23.59s/it]"
     ]
    },
    {
     "name": "stdout",
     "output_type": "stream",
     "text": [
      "Time to: Calculate Ground State - 1.12s, Get Pauli Ops - 13.99s, Calculate Pauli Expectation Values - 5.0s, Calculate Covariance - 3.03s\n",
      "f0,f1,f2 = [4.26872657837514e-10, 4.2725770903692014e-10, 4.6241430928287447e-11]\n",
      "d01,d02,d12 = [1.0111326762056667, 0.9824376629484493, 0.9824391501136571]\n"
     ]
    },
    {
     "name": "stderr",
     "output_type": "stream",
     "text": [
      "Progress:  42%|████▏     | 422/1000 [2:50:32<3:48:47, 23.75s/it]"
     ]
    },
    {
     "name": "stdout",
     "output_type": "stream",
     "text": [
      "Time to: Calculate Ground State - 0.9s, Get Pauli Ops - 14.38s, Calculate Pauli Expectation Values - 5.3s, Calculate Covariance - 3.54s\n",
      "f0,f1,f2 = [3.677454406044728e-10, 3.6794219869787653e-10, 5.0172152348391964e-11]\n",
      "d01,d02,d12 = [1.0076458085790814, 0.9808625328399277, 0.9808637234762856]\n"
     ]
    },
    {
     "name": "stderr",
     "output_type": "stream",
     "text": [
      "Progress:  42%|████▏     | 423/1000 [2:50:57<3:51:08, 24.04s/it]"
     ]
    },
    {
     "name": "stdout",
     "output_type": "stream",
     "text": [
      "Time to: Calculate Ground State - 1.09s, Get Pauli Ops - 14.64s, Calculate Pauli Expectation Values - 5.11s, Calculate Covariance - 3.85s\n",
      "f0,f1,f2 = [4.2808211854887237e-10, 4.280189809914361e-10, 9.872975809382122e-11]\n",
      "d01,d02,d12 = [1.0039972601685592, 0.9792993439560408, 0.9793002703667733]\n"
     ]
    },
    {
     "name": "stderr",
     "output_type": "stream",
     "text": [
      "Progress:  42%|████▏     | 424/1000 [2:51:20<3:47:29, 23.70s/it]"
     ]
    },
    {
     "name": "stdout",
     "output_type": "stream",
     "text": [
      "Time to: Calculate Ground State - 1.38s, Get Pauli Ops - 13.27s, Calculate Pauli Expectation Values - 5.29s, Calculate Covariance - 2.96s\n",
      "f0,f1,f2 = [1.812725558259893e-10, 1.8136317916122985e-10, 1.9267274805438043e-10]\n",
      "d01,d02,d12 = [1.0002679119300788, 0.9777745609953018, 0.9777751914151072]\n"
     ]
    },
    {
     "name": "stderr",
     "output_type": "stream",
     "text": [
      "Progress:  42%|████▎     | 425/1000 [2:51:43<3:45:05, 23.49s/it]"
     ]
    },
    {
     "name": "stdout",
     "output_type": "stream",
     "text": [
      "Time to: Calculate Ground State - 0.87s, Get Pauli Ops - 14.05s, Calculate Pauli Expectation Values - 4.98s, Calculate Covariance - 3.09s\n",
      "f0,f1,f2 = [2.4706433889703507e-10, 2.4705013839902133e-10, 2.428758709147924e-10]\n",
      "d01,d02,d12 = [0.9964892613842502, 0.9763358203032281, 0.976336154115459]\n"
     ]
    },
    {
     "name": "stderr",
     "output_type": "stream",
     "text": [
      "Progress:  43%|████▎     | 426/1000 [2:52:13<4:03:33, 25.46s/it]"
     ]
    },
    {
     "name": "stdout",
     "output_type": "stream",
     "text": [
      "Time to: Calculate Ground State - 1.22s, Get Pauli Ops - 21.06s, Calculate Pauli Expectation Values - 4.79s, Calculate Covariance - 2.99s\n",
      "f0,f1,f2 = [1.28570159426316e-10, 1.285601851081736e-10, 3.012270381151474e-10]\n",
      "d01,d02,d12 = [0.9926621600863482, 0.9749950739207159, 0.9749951166236359]\n"
     ]
    },
    {
     "name": "stderr",
     "output_type": "stream",
     "text": [
      "Progress:  43%|████▎     | 427/1000 [2:52:39<4:05:20, 25.69s/it]"
     ]
    },
    {
     "name": "stdout",
     "output_type": "stream",
     "text": [
      "Time to: Calculate Ground State - 1.19s, Get Pauli Ops - 16.32s, Calculate Pauli Expectation Values - 5.69s, Calculate Covariance - 3.02s\n",
      "f0,f1,f2 = [2.0813132112180045e-10, 2.0812148106738068e-10, 4.101370852363372e-10]\n",
      "d01,d02,d12 = [0.9889988874709371, 0.9737725055090765, 0.973772252900741]\n"
     ]
    },
    {
     "name": "stderr",
     "output_type": "stream",
     "text": [
      "Progress:  43%|████▎     | 428/1000 [2:53:02<3:58:04, 24.97s/it]"
     ]
    },
    {
     "name": "stdout",
     "output_type": "stream",
     "text": [
      "Time to: Calculate Ground State - 1.12s, Get Pauli Ops - 13.64s, Calculate Pauli Expectation Values - 5.09s, Calculate Covariance - 3.45s\n",
      "f0,f1,f2 = [3.1316012310387965e-10, 3.1315012323913993e-10, 4.4444365040863073e-10]\n",
      "d01,d02,d12 = [0.9855811456033905, 0.9727344730558432, 0.9727339428361078]\n"
     ]
    },
    {
     "name": "stderr",
     "output_type": "stream",
     "text": [
      "Progress:  43%|████▎     | 429/1000 [2:53:25<3:50:08, 24.18s/it]"
     ]
    },
    {
     "name": "stdout",
     "output_type": "stream",
     "text": [
      "Time to: Calculate Ground State - 0.87s, Get Pauli Ops - 12.32s, Calculate Pauli Expectation Values - 6.38s, Calculate Covariance - 2.77s\n",
      "f0,f1,f2 = [3.6868906874074774e-10, 3.686593299055075e-10, 5.196247660486633e-10]\n",
      "d01,d02,d12 = [0.982107261263129, 0.9719142866241773, 0.9719134417491476]\n"
     ]
    },
    {
     "name": "stderr",
     "output_type": "stream",
     "text": [
      "Progress:  43%|████▎     | 430/1000 [2:53:48<3:46:27, 23.84s/it]"
     ]
    },
    {
     "name": "stdout",
     "output_type": "stream",
     "text": [
      "Time to: Calculate Ground State - 1.41s, Get Pauli Ops - 13.09s, Calculate Pauli Expectation Values - 5.45s, Calculate Covariance - 3.08s\n",
      "f0,f1,f2 = [5.545338739395367e-10, 5.546426350067444e-10, 5.584858364041335e-10]\n",
      "d01,d02,d12 = [0.978976691149263, 0.9712918701757189, 0.9712907626799793]\n"
     ]
    },
    {
     "name": "stderr",
     "output_type": "stream",
     "text": [
      "Progress:  43%|████▎     | 431/1000 [2:54:12<3:46:24, 23.87s/it]"
     ]
    },
    {
     "name": "stdout",
     "output_type": "stream",
     "text": [
      "Time to: Calculate Ground State - 1.02s, Get Pauli Ops - 14.95s, Calculate Pauli Expectation Values - 5.21s, Calculate Covariance - 2.76s\n",
      "f0,f1,f2 = [5.100245755138445e-10, 5.099774223881821e-10, 1.2151572046128946e-09]\n",
      "d01,d02,d12 = [0.9758718692086062, 0.9711016035697524, 0.9711001950918678]\n"
     ]
    },
    {
     "name": "stderr",
     "output_type": "stream",
     "text": [
      "Progress:  43%|████▎     | 432/1000 [2:54:36<3:46:32, 23.93s/it]"
     ]
    },
    {
     "name": "stdout",
     "output_type": "stream",
     "text": [
      "Time to: Calculate Ground State - 1.03s, Get Pauli Ops - 14.28s, Calculate Pauli Expectation Values - 5.94s, Calculate Covariance - 2.8s\n",
      "f0,f1,f2 = [6.252063725298372e-10, 6.253393810307034e-10, 5.697778740691179e-10]\n",
      "d01,d02,d12 = [0.9729770206943336, 0.971054429908221, 0.9710527347206275]\n"
     ]
    },
    {
     "name": "stderr",
     "output_type": "stream",
     "text": [
      "Progress:  43%|████▎     | 433/1000 [2:55:00<3:45:39, 23.88s/it]"
     ]
    },
    {
     "name": "stdout",
     "output_type": "stream",
     "text": [
      "Time to: Calculate Ground State - 1.23s, Get Pauli Ops - 14.48s, Calculate Pauli Expectation Values - 5.29s, Calculate Covariance - 2.75s\n",
      "f0,f1,f2 = [9.113047813953975e-10, 9.114592072025924e-10, 1.1610155057593992e-10]\n",
      "d01,d02,d12 = [0.9703544190338186, 0.9710420130903564, 0.971040164221993]\n"
     ]
    },
    {
     "name": "stderr",
     "output_type": "stream",
     "text": [
      "Progress:  43%|████▎     | 434/1000 [2:55:27<3:56:09, 25.03s/it]"
     ]
    },
    {
     "name": "stdout",
     "output_type": "stream",
     "text": [
      "Time to: Calculate Ground State - 1.08s, Get Pauli Ops - 17.81s, Calculate Pauli Expectation Values - 5.41s, Calculate Covariance - 3.41s\n",
      "f0,f1,f2 = [5.655184164973026e-10, 5.654846668512793e-10, 1.0908902118482261e-09]\n",
      "d01,d02,d12 = [0.9679206235840144, 0.971092102268447, 0.9710898188337796]\n"
     ]
    },
    {
     "name": "stderr",
     "output_type": "stream",
     "text": [
      "Progress:  44%|████▎     | 435/1000 [2:55:54<3:59:02, 25.39s/it]"
     ]
    },
    {
     "name": "stdout",
     "output_type": "stream",
     "text": [
      "Time to: Calculate Ground State - 1.04s, Get Pauli Ops - 16.07s, Calculate Pauli Expectation Values - 6.04s, Calculate Covariance - 3.05s\n",
      "f0,f1,f2 = [6.722482760411741e-10, 6.722893984390634e-10, 5.797997377136612e-10]\n",
      "d01,d02,d12 = [0.9656929893837217, 0.9712477564556716, 0.9712450125627898]\n"
     ]
    },
    {
     "name": "stderr",
     "output_type": "stream",
     "text": [
      "Progress:  44%|████▎     | 436/1000 [2:56:16<3:50:54, 24.56s/it]"
     ]
    },
    {
     "name": "stdout",
     "output_type": "stream",
     "text": [
      "Time to: Calculate Ground State - 1.06s, Get Pauli Ops - 13.53s, Calculate Pauli Expectation Values - 5.39s, Calculate Covariance - 2.65s\n",
      "f0,f1,f2 = [1.1999382391119595e-09, 1.2016779864537883e-09, 2.7149530470271987e-09]\n",
      "d01,d02,d12 = [0.9639991519661336, 0.9722633971760885, 0.9722606996254118]\n"
     ]
    },
    {
     "name": "stderr",
     "output_type": "stream",
     "text": [
      "Progress:  44%|████▎     | 437/1000 [2:56:42<3:52:40, 24.80s/it]"
     ]
    },
    {
     "name": "stdout",
     "output_type": "stream",
     "text": [
      "Time to: Calculate Ground State - 1.44s, Get Pauli Ops - 14.67s, Calculate Pauli Expectation Values - 6.05s, Calculate Covariance - 3.17s\n",
      "f0,f1,f2 = [8.868559658525463e-10, 8.869048837446704e-10, 1.2344300091108316e-10]\n",
      "d01,d02,d12 = [0.9626421874932201, 0.9735065096618093, 0.973503896976639]\n"
     ]
    },
    {
     "name": "stderr",
     "output_type": "stream",
     "text": [
      "Progress:  44%|████▍     | 438/1000 [2:57:08<3:57:23, 25.34s/it]"
     ]
    },
    {
     "name": "stdout",
     "output_type": "stream",
     "text": [
      "Time to: Calculate Ground State - 1.11s, Get Pauli Ops - 16.06s, Calculate Pauli Expectation Values - 6.2s, Calculate Covariance - 3.24s\n",
      "f0,f1,f2 = [6.702955240414351e-10, 6.708963957566435e-10, 5.481030249020178e-10]\n",
      "d01,d02,d12 = [0.9616752937116309, 0.9750366490162934, 0.975034167137271]\n"
     ]
    },
    {
     "name": "stderr",
     "output_type": "stream",
     "text": [
      "Progress:  44%|████▍     | 439/1000 [2:57:35<3:59:58, 25.67s/it]"
     ]
    },
    {
     "name": "stdout",
     "output_type": "stream",
     "text": [
      "Time to: Calculate Ground State - 1.25s, Get Pauli Ops - 15.51s, Calculate Pauli Expectation Values - 5.73s, Calculate Covariance - 3.92s\n",
      "f0,f1,f2 = [1.3066933789156615e-09, 1.3059075840673454e-09, 4.850216337178587e-10]\n",
      "d01,d02,d12 = [0.9611281183653813, 0.9767549377979498, 0.9767525034653926]\n"
     ]
    },
    {
     "name": "stderr",
     "output_type": "stream",
     "text": [
      "Progress:  44%|████▍     | 440/1000 [2:58:01<4:01:48, 25.91s/it]"
     ]
    },
    {
     "name": "stdout",
     "output_type": "stream",
     "text": [
      "Time to: Calculate Ground State - 1.27s, Get Pauli Ops - 16.53s, Calculate Pauli Expectation Values - 4.98s, Calculate Covariance - 3.69s\n",
      "f0,f1,f2 = [7.2998592558457e-10, 7.298881568968649e-10, 4.062466486962796e-10]\n",
      "d01,d02,d12 = [0.9610261984428983, 0.9786475050632116, 0.9786449332806008]\n"
     ]
    },
    {
     "name": "stderr",
     "output_type": "stream",
     "text": [
      "Progress:  44%|████▍     | 441/1000 [2:58:29<4:06:58, 26.51s/it]"
     ]
    },
    {
     "name": "stdout",
     "output_type": "stream",
     "text": [
      "Time to: Calculate Ground State - 1.65s, Get Pauli Ops - 18.19s, Calculate Pauli Expectation Values - 5.03s, Calculate Covariance - 3.03s\n",
      "f0,f1,f2 = [6.582623603626394e-10, 6.582952562176365e-10, 3.7531068818247114e-10]\n",
      "d01,d02,d12 = [0.9612386137115554, 0.9807136711522277, 0.9807109395686451]\n"
     ]
    },
    {
     "name": "stderr",
     "output_type": "stream",
     "text": [
      "Progress:  44%|████▍     | 442/1000 [2:58:53<4:00:26, 25.85s/it]"
     ]
    },
    {
     "name": "stdout",
     "output_type": "stream",
     "text": [
      "Time to: Calculate Ground State - 1.0s, Get Pauli Ops - 14.92s, Calculate Pauli Expectation Values - 5.11s, Calculate Covariance - 3.29s\n",
      "f0,f1,f2 = [6.071071325877301e-10, 6.072658442824517e-10, 2.879424523291233e-10]\n",
      "d01,d02,d12 = [0.9617348079470192, 0.9829335679666463, 0.9829307327242531]\n"
     ]
    },
    {
     "name": "stderr",
     "output_type": "stream",
     "text": [
      "Progress:  44%|████▍     | 443/1000 [2:59:18<3:56:26, 25.47s/it]"
     ]
    },
    {
     "name": "stdout",
     "output_type": "stream",
     "text": [
      "Time to: Calculate Ground State - 1.29s, Get Pauli Ops - 15.16s, Calculate Pauli Expectation Values - 5.17s, Calculate Covariance - 2.94s\n",
      "f0,f1,f2 = [5.83061334787177e-10, 5.830668609114011e-10, 1.9918865778071605e-10]\n",
      "d01,d02,d12 = [0.9625303061781165, 0.9852635359000351, 0.9852605193347446]\n"
     ]
    },
    {
     "name": "stderr",
     "output_type": "stream",
     "text": [
      "Progress:  44%|████▍     | 444/1000 [2:59:43<3:53:39, 25.22s/it]"
     ]
    },
    {
     "name": "stdout",
     "output_type": "stream",
     "text": [
      "Time to: Calculate Ground State - 1.51s, Get Pauli Ops - 15.22s, Calculate Pauli Expectation Values - 5.04s, Calculate Covariance - 2.85s\n",
      "f0,f1,f2 = [4.829997095715816e-10, 4.831131766707854e-10, 1.1344490887350938e-10]\n",
      "d01,d02,d12 = [0.9635764755401489, 0.9876581256408664, 0.9876548774543885]\n"
     ]
    },
    {
     "name": "stderr",
     "output_type": "stream",
     "text": [
      "Progress:  44%|████▍     | 445/1000 [3:00:06<3:49:29, 24.81s/it]"
     ]
    },
    {
     "name": "stdout",
     "output_type": "stream",
     "text": [
      "Time to: Calculate Ground State - 0.86s, Get Pauli Ops - 14.84s, Calculate Pauli Expectation Values - 5.09s, Calculate Covariance - 3.06s\n",
      "f0,f1,f2 = [4.6172648909459627e-10, 4.6176294623924746e-10, 1.952208684569312e-11]\n",
      "d01,d02,d12 = [0.9648414753531627, 0.9900943211377434, 0.9900908732540554]\n"
     ]
    },
    {
     "name": "stderr",
     "output_type": "stream",
     "text": [
      "Progress:  45%|████▍     | 446/1000 [3:00:30<3:45:24, 24.41s/it]"
     ]
    },
    {
     "name": "stdout",
     "output_type": "stream",
     "text": [
      "Time to: Calculate Ground State - 1.5s, Get Pauli Ops - 14.16s, Calculate Pauli Expectation Values - 4.99s, Calculate Covariance - 2.83s\n",
      "f0,f1,f2 = [4.709556845601527e-10, 4.707048160649691e-10, 7.320030097301062e-11]\n",
      "d01,d02,d12 = [0.966287156255441, 0.9925227539117606, 0.9925190953714642]\n"
     ]
    },
    {
     "name": "stderr",
     "output_type": "stream",
     "text": [
      "Progress:  45%|████▍     | 447/1000 [3:00:52<3:39:24, 23.80s/it]"
     ]
    },
    {
     "name": "stdout",
     "output_type": "stream",
     "text": [
      "Time to: Calculate Ground State - 0.82s, Get Pauli Ops - 13.1s, Calculate Pauli Expectation Values - 5.34s, Calculate Covariance - 3.12s\n",
      "f0,f1,f2 = [3.8968057348287876e-10, 3.895457213165738e-10, 1.8344222585767907e-10]\n",
      "d01,d02,d12 = [0.9678440753632928, 0.9949014013829871, 0.9948975613519473]\n"
     ]
    },
    {
     "name": "stderr",
     "output_type": "stream",
     "text": [
      "Progress:  45%|████▍     | 448/1000 [3:01:16<3:40:08, 23.93s/it]"
     ]
    },
    {
     "name": "stdout",
     "output_type": "stream",
     "text": [
      "Time to: Calculate Ground State - 1.26s, Get Pauli Ops - 13.83s, Calculate Pauli Expectation Values - 5.82s, Calculate Covariance - 3.3s\n",
      "f0,f1,f2 = [1.4774722707862997e-10, 1.4808132238707973e-10, 3.089090063336277e-10]\n",
      "d01,d02,d12 = [0.9694544929942858, 0.9972039188154834, 0.9972000947820351]\n"
     ]
    },
    {
     "name": "stderr",
     "output_type": "stream",
     "text": [
      "Progress:  45%|████▍     | 449/1000 [3:01:39<3:35:16, 23.44s/it]"
     ]
    },
    {
     "name": "stdout",
     "output_type": "stream",
     "text": [
      "Time to: Calculate Ground State - 1.5s, Get Pauli Ops - 13.61s, Calculate Pauli Expectation Values - 4.91s, Calculate Covariance - 2.27s\n",
      "f0,f1,f2 = [2.2518101023078584e-10, 2.25182947946336e-10, 3.6704077962926816e-10]\n",
      "d01,d02,d12 = [0.9711410441198108, 0.9993937907932116, 0.9993900473504216]\n"
     ]
    },
    {
     "name": "stderr",
     "output_type": "stream",
     "text": [
      "Progress:  45%|████▌     | 450/1000 [3:02:02<3:33:14, 23.26s/it]"
     ]
    },
    {
     "name": "stdout",
     "output_type": "stream",
     "text": [
      "Time to: Calculate Ground State - 1.51s, Get Pauli Ops - 12.73s, Calculate Pauli Expectation Values - 5.98s, Calculate Covariance - 2.62s\n",
      "f0,f1,f2 = [2.6426449010238895e-10, 2.6425446405066624e-10, 4.2818944691486357e-10]\n",
      "d01,d02,d12 = [0.9728714230937906, 1.001436316730572, 1.001432622076739]\n"
     ]
    },
    {
     "name": "stderr",
     "output_type": "stream",
     "text": [
      "Progress:  45%|████▌     | 451/1000 [3:02:27<3:38:01, 23.83s/it]"
     ]
    },
    {
     "name": "stdout",
     "output_type": "stream",
     "text": [
      "Time to: Calculate Ground State - 1.11s, Get Pauli Ops - 14.22s, Calculate Pauli Expectation Values - 6.55s, Calculate Covariance - 3.25s\n",
      "f0,f1,f2 = [3.1767207341185757e-10, 3.1783099341330645e-10, 5.064818080634746e-10]\n",
      "d01,d02,d12 = [0.9746210320426776, 1.0032935731205377, 1.00328979564735]\n"
     ]
    },
    {
     "name": "stderr",
     "output_type": "stream",
     "text": [
      "Progress:  45%|████▌     | 452/1000 [3:02:51<3:37:32, 23.82s/it]"
     ]
    },
    {
     "name": "stdout",
     "output_type": "stream",
     "text": [
      "Time to: Calculate Ground State - 1.45s, Get Pauli Ops - 14.32s, Calculate Pauli Expectation Values - 5.19s, Calculate Covariance - 2.83s\n",
      "f0,f1,f2 = [3.0000135434775877e-10, 2.9991000117987967e-10, 6.017452982093613e-10]\n",
      "d01,d02,d12 = [0.9763340548949754, 1.0049354191908246, 1.0049315436302768]\n"
     ]
    },
    {
     "name": "stderr",
     "output_type": "stream",
     "text": [
      "Progress:  45%|████▌     | 453/1000 [3:03:15<3:37:41, 23.88s/it]"
     ]
    },
    {
     "name": "stdout",
     "output_type": "stream",
     "text": [
      "Time to: Calculate Ground State - 1.13s, Get Pauli Ops - 15.14s, Calculate Pauli Expectation Values - 5.15s, Calculate Covariance - 2.59s\n",
      "f0,f1,f2 = [3.102328228109527e-10, 3.0984941554414055e-10, 6.372828386398844e-10]\n",
      "d01,d02,d12 = [0.977965394985696, 1.0063578636731199, 1.0063540276116798]\n"
     ]
    },
    {
     "name": "stderr",
     "output_type": "stream",
     "text": [
      "Progress:  45%|████▌     | 454/1000 [3:03:38<3:35:57, 23.73s/it]"
     ]
    },
    {
     "name": "stdout",
     "output_type": "stream",
     "text": [
      "Time to: Calculate Ground State - 0.79s, Get Pauli Ops - 14.69s, Calculate Pauli Expectation Values - 4.88s, Calculate Covariance - 3.03s\n",
      "f0,f1,f2 = [3.3648600813557766e-10, 3.3600166557570525e-10, 7.144534085511271e-10]\n",
      "d01,d02,d12 = [0.9795172369304889, 1.0075417237154147, 1.0075380452764124]\n"
     ]
    },
    {
     "name": "stderr",
     "output_type": "stream",
     "text": [
      "Progress:  46%|████▌     | 455/1000 [3:04:02<3:35:52, 23.77s/it]"
     ]
    },
    {
     "name": "stdout",
     "output_type": "stream",
     "text": [
      "Time to: Calculate Ground State - 1.31s, Get Pauli Ops - 13.25s, Calculate Pauli Expectation Values - 6.51s, Calculate Covariance - 2.78s\n",
      "f0,f1,f2 = [4.99687830906177e-10, 5.003496653533142e-10, 7.493703791021934e-10]\n",
      "d01,d02,d12 = [0.9809933871578941, 1.008439399869263, 1.0084356874828955]\n"
     ]
    },
    {
     "name": "stderr",
     "output_type": "stream",
     "text": [
      "Progress:  46%|████▌     | 456/1000 [3:04:27<3:38:21, 24.08s/it]"
     ]
    },
    {
     "name": "stdout",
     "output_type": "stream",
     "text": [
      "Time to: Calculate Ground State - 0.88s, Get Pauli Ops - 13.1s, Calculate Pauli Expectation Values - 7.46s, Calculate Covariance - 3.37s\n",
      "f0,f1,f2 = [4.316556293317167e-10, 4.3081682390445045e-10, 7.58324217005009e-10]\n",
      "d01,d02,d12 = [0.9823139786216379, 1.009079548858282, 1.0090760339762597]\n"
     ]
    },
    {
     "name": "stderr",
     "output_type": "stream",
     "text": [
      "Progress:  46%|████▌     | 457/1000 [3:04:50<3:36:04, 23.88s/it]"
     ]
    },
    {
     "name": "stdout",
     "output_type": "stream",
     "text": [
      "Time to: Calculate Ground State - 0.87s, Get Pauli Ops - 13.45s, Calculate Pauli Expectation Values - 5.83s, Calculate Covariance - 3.24s\n",
      "f0,f1,f2 = [4.567765572356791e-10, 4.5667586254662036e-10, 7.986215677889389e-10]\n",
      "d01,d02,d12 = [0.9835076999636491, 1.0094343836763797, 1.0094311362443347]\n"
     ]
    },
    {
     "name": "stderr",
     "output_type": "stream",
     "text": [
      "Progress:  46%|████▌     | 458/1000 [3:05:14<3:36:08, 23.93s/it]"
     ]
    },
    {
     "name": "stdout",
     "output_type": "stream",
     "text": [
      "Time to: Calculate Ground State - 0.86s, Get Pauli Ops - 13.87s, Calculate Pauli Expectation Values - 5.41s, Calculate Covariance - 3.9s\n",
      "f0,f1,f2 = [5.127509144188086e-10, 5.130594096803882e-10, 8.193723080976344e-10]\n",
      "d01,d02,d12 = [0.9845754013004918, 1.0094852154729144, 1.009482181830845]\n"
     ]
    },
    {
     "name": "stderr",
     "output_type": "stream",
     "text": [
      "Progress:  46%|████▌     | 459/1000 [3:05:39<3:39:46, 24.37s/it]"
     ]
    },
    {
     "name": "stdout",
     "output_type": "stream",
     "text": [
      "Time to: Calculate Ground State - 0.94s, Get Pauli Ops - 14.3s, Calculate Pauli Expectation Values - 7.06s, Calculate Covariance - 3.1s\n",
      "f0,f1,f2 = [5.880609364395491e-10, 5.88574274236605e-10, 8.886242981050915e-10]\n",
      "d01,d02,d12 = [0.9855082115374476, 1.0092003904447808, 1.0091974803509978]\n"
     ]
    },
    {
     "name": "stderr",
     "output_type": "stream",
     "text": [
      "Progress:  46%|████▌     | 460/1000 [3:06:04<3:40:17, 24.48s/it]"
     ]
    },
    {
     "name": "stdout",
     "output_type": "stream",
     "text": [
      "Time to: Calculate Ground State - 1.53s, Get Pauli Ops - 13.58s, Calculate Pauli Expectation Values - 6.23s, Calculate Covariance - 3.37s\n",
      "f0,f1,f2 = [5.612223600955105e-10, 5.617041196371505e-10, 8.271957031258977e-10]\n",
      "d01,d02,d12 = [0.9863593808628373, 1.0085942285790699, 1.0085911830762528]\n"
     ]
    },
    {
     "name": "stderr",
     "output_type": "stream",
     "text": [
      "Progress:  46%|████▌     | 461/1000 [3:06:27<3:35:15, 23.96s/it]"
     ]
    },
    {
     "name": "stdout",
     "output_type": "stream",
     "text": [
      "Time to: Calculate Ground State - 0.86s, Get Pauli Ops - 12.96s, Calculate Pauli Expectation Values - 5.39s, Calculate Covariance - 3.54s\n",
      "f0,f1,f2 = [5.860672662456229e-10, 5.852225352095923e-10, 8.238392076458363e-10]\n",
      "d01,d02,d12 = [0.9870243493565237, 1.0077072207813984, 1.0077041623315195]\n"
     ]
    },
    {
     "name": "stderr",
     "output_type": "stream",
     "text": [
      "Progress:  46%|████▌     | 462/1000 [3:06:51<3:35:30, 24.04s/it]"
     ]
    },
    {
     "name": "stdout",
     "output_type": "stream",
     "text": [
      "Time to: Calculate Ground State - 1.56s, Get Pauli Ops - 14.38s, Calculate Pauli Expectation Values - 5.14s, Calculate Covariance - 3.11s\n",
      "f0,f1,f2 = [5.250475097906543e-10, 5.254037933451622e-10, 8.120924433398945e-10]\n",
      "d01,d02,d12 = [0.9875823812749507, 1.0065202808373042, 1.00651715103137]\n"
     ]
    },
    {
     "name": "stderr",
     "output_type": "stream",
     "text": [
      "Progress:  46%|████▋     | 463/1000 [3:07:14<3:33:02, 23.80s/it]"
     ]
    },
    {
     "name": "stdout",
     "output_type": "stream",
     "text": [
      "Time to: Calculate Ground State - 0.87s, Get Pauli Ops - 13.32s, Calculate Pauli Expectation Values - 5.37s, Calculate Covariance - 3.69s\n",
      "f0,f1,f2 = [5.452800493328168e-10, 5.452882003895039e-10, 7.4031535909194e-10]\n",
      "d01,d02,d12 = [0.9879620333067661, 1.0050587056608153, 1.0050554830583736]\n"
     ]
    },
    {
     "name": "stderr",
     "output_type": "stream",
     "text": [
      "Progress:  46%|████▋     | 464/1000 [3:07:38<3:31:07, 23.63s/it]"
     ]
    },
    {
     "name": "stdout",
     "output_type": "stream",
     "text": [
      "Time to: Calculate Ground State - 1.26s, Get Pauli Ops - 13.53s, Calculate Pauli Expectation Values - 4.94s, Calculate Covariance - 3.5s\n",
      "f0,f1,f2 = [5.945515349756911e-10, 5.937836047872122e-10, 6.901154400486328e-10]\n",
      "d01,d02,d12 = [0.9881768895494809, 1.0033674568030326, 1.0033641628296366]\n"
     ]
    },
    {
     "name": "stderr",
     "output_type": "stream",
     "text": [
      "Progress:  46%|████▋     | 465/1000 [3:08:00<3:28:03, 23.33s/it]"
     ]
    },
    {
     "name": "stdout",
     "output_type": "stream",
     "text": [
      "Time to: Calculate Ground State - 1.39s, Get Pauli Ops - 13.78s, Calculate Pauli Expectation Values - 4.87s, Calculate Covariance - 2.58s\n",
      "f0,f1,f2 = [6.814832918998364e-10, 6.804349919927699e-10, 6.422997996943797e-10]\n",
      "d01,d02,d12 = [0.9881400368668432, 1.0015088271075727, 1.0015058270816108]\n"
     ]
    },
    {
     "name": "stderr",
     "output_type": "stream",
     "text": [
      "Progress:  47%|████▋     | 466/1000 [3:08:26<3:33:07, 23.95s/it]"
     ]
    },
    {
     "name": "stdout",
     "output_type": "stream",
     "text": [
      "Time to: Calculate Ground State - 1.38s, Get Pauli Ops - 14.8s, Calculate Pauli Expectation Values - 5.79s, Calculate Covariance - 3.4s\n",
      "f0,f1,f2 = [3.2650110910760105e-10, 3.263716819121259e-10, 5.548245874966287e-10]\n",
      "d01,d02,d12 = [0.9877030478252706, 0.9994959771957187, 0.9994937605427059]\n"
     ]
    },
    {
     "name": "stderr",
     "output_type": "stream",
     "text": [
      "Progress:  47%|████▋     | 467/1000 [3:08:51<3:35:24, 24.25s/it]"
     ]
    },
    {
     "name": "stdout",
     "output_type": "stream",
     "text": [
      "Time to: Calculate Ground State - 1.3s, Get Pauli Ops - 12.82s, Calculate Pauli Expectation Values - 7.62s, Calculate Covariance - 3.2s\n",
      "f0,f1,f2 = [3.8020448375562636e-10, 3.799183585912107e-10, 4.995340309799035e-10]\n",
      "d01,d02,d12 = [0.9872164131885688, 0.997333044580788, 0.9973316433547645]\n"
     ]
    },
    {
     "name": "stderr",
     "output_type": "stream",
     "text": [
      "Progress:  47%|████▋     | 468/1000 [3:09:13<3:29:05, 23.58s/it]"
     ]
    },
    {
     "name": "stdout",
     "output_type": "stream",
     "text": [
      "Time to: Calculate Ground State - 1.06s, Get Pauli Ops - 13.73s, Calculate Pauli Expectation Values - 4.77s, Calculate Covariance - 2.46s\n",
      "f0,f1,f2 = [8.305874576327546e-10, 8.303461907225498e-10, 4.2791755413615117e-10]\n",
      "d01,d02,d12 = [0.9870489676977755, 0.9950718329092905, 0.995071124481728]\n"
     ]
    },
    {
     "name": "stderr",
     "output_type": "stream",
     "text": [
      "Progress:  47%|████▋     | 469/1000 [3:09:40<3:38:22, 24.67s/it]"
     ]
    },
    {
     "name": "stdout",
     "output_type": "stream",
     "text": [
      "Time to: Calculate Ground State - 1.03s, Get Pauli Ops - 15.02s, Calculate Pauli Expectation Values - 8.27s, Calculate Covariance - 2.9s\n",
      "f0,f1,f2 = [3.868943053478413e-10, 3.868610293899818e-10, 1.9832539975644655e-10]\n",
      "d01,d02,d12 = [0.9867163413425138, 0.9927930226014555, 0.9927930291092306]\n"
     ]
    },
    {
     "name": "stderr",
     "output_type": "stream",
     "text": [
      "Progress:  47%|████▋     | 470/1000 [3:10:06<3:41:23, 25.06s/it]"
     ]
    },
    {
     "name": "stdout",
     "output_type": "stream",
     "text": [
      "Time to: Calculate Ground State - 0.92s, Get Pauli Ops - 15.87s, Calculate Pauli Expectation Values - 5.8s, Calculate Covariance - 3.36s\n",
      "f0,f1,f2 = [1.5163309024011048e-10, 1.516327527495189e-10, 8.943924928142251e-11]\n",
      "d01,d02,d12 = [0.9863555254668502, 0.9905782851969512, 0.9905790084021274]\n"
     ]
    },
    {
     "name": "stderr",
     "output_type": "stream",
     "text": [
      "Progress:  47%|████▋     | 471/1000 [3:10:31<3:42:23, 25.22s/it]"
     ]
    },
    {
     "name": "stdout",
     "output_type": "stream",
     "text": [
      "Time to: Calculate Ground State - 1.39s, Get Pauli Ops - 16.72s, Calculate Pauli Expectation Values - 5.04s, Calculate Covariance - 2.45s\n",
      "f0,f1,f2 = [3.116492917461727e-10, 3.1176433191533316e-10, 8.154662159325779e-10]\n",
      "d01,d02,d12 = [0.9858823939945976, 0.988198330033088, 0.9881997652975469]\n"
     ]
    },
    {
     "name": "stderr",
     "output_type": "stream",
     "text": [
      "Progress:  47%|████▋     | 472/1000 [3:10:55<3:37:01, 24.66s/it]"
     ]
    },
    {
     "name": "stdout",
     "output_type": "stream",
     "text": [
      "Time to: Calculate Ground State - 0.79s, Get Pauli Ops - 13.84s, Calculate Pauli Expectation Values - 5.97s, Calculate Covariance - 2.73s\n",
      "f0,f1,f2 = [6.743322071380201e-10, 6.746033383075804e-10, 9.183096512903512e-10]\n",
      "d01,d02,d12 = [0.9852999527180708, 0.9856520764311469, 0.9856542167049233]\n"
     ]
    },
    {
     "name": "stderr",
     "output_type": "stream",
     "text": [
      "Progress:  47%|████▋     | 473/1000 [3:11:18<3:34:01, 24.37s/it]"
     ]
    },
    {
     "name": "stdout",
     "output_type": "stream",
     "text": [
      "Time to: Calculate Ground State - 0.85s, Get Pauli Ops - 14.32s, Calculate Pauli Expectation Values - 5.89s, Calculate Covariance - 2.62s\n",
      "f0,f1,f2 = [5.814443267096005e-10, 5.816299043990467e-10, 6.256633976604861e-10]\n",
      "d01,d02,d12 = [0.9848199854516403, 0.9831819861815247, 0.9831849785394458]\n"
     ]
    },
    {
     "name": "stderr",
     "output_type": "stream",
     "text": [
      "Progress:  47%|████▋     | 474/1000 [3:11:42<3:31:53, 24.17s/it]"
     ]
    },
    {
     "name": "stdout",
     "output_type": "stream",
     "text": [
      "Time to: Calculate Ground State - 0.77s, Get Pauli Ops - 14.1s, Calculate Pauli Expectation Values - 5.69s, Calculate Covariance - 3.14s\n",
      "f0,f1,f2 = [1.3710594219587599e-09, 1.3699347952753548e-09, 1.681708420985034e-09]\n",
      "d01,d02,d12 = [0.9845569248408539, 0.980879904462508, 0.9808835981933139]\n"
     ]
    },
    {
     "name": "stderr",
     "output_type": "stream",
     "text": [
      "Progress:  48%|████▊     | 475/1000 [3:12:05<3:27:48, 23.75s/it]"
     ]
    },
    {
     "name": "stdout",
     "output_type": "stream",
     "text": [
      "Time to: Calculate Ground State - 0.8s, Get Pauli Ops - 12.27s, Calculate Pauli Expectation Values - 6.16s, Calculate Covariance - 3.53s\n",
      "f0,f1,f2 = [4.6242519918303615e-10, 4.6183524080448e-10, 1.4342764389879307e-09]\n",
      "d01,d02,d12 = [0.9841851291028154, 0.9783514097547932, 0.9783557194838055]\n"
     ]
    },
    {
     "name": "stderr",
     "output_type": "stream",
     "text": [
      "Progress:  48%|████▊     | 476/1000 [3:12:27<3:22:25, 23.18s/it]"
     ]
    },
    {
     "name": "stdout",
     "output_type": "stream",
     "text": [
      "Time to: Calculate Ground State - 1.37s, Get Pauli Ops - 12.19s, Calculate Pauli Expectation Values - 5.45s, Calculate Covariance - 2.83s\n",
      "f0,f1,f2 = [1.6056235460139977e-10, 1.6042885839837203e-10, 2.894987563740935e-10]\n",
      "d01,d02,d12 = [0.9838495241481611, 0.9756059709253861, 0.9756104696779025]\n"
     ]
    },
    {
     "name": "stderr",
     "output_type": "stream",
     "text": [
      "Progress:  48%|████▊     | 477/1000 [3:12:56<3:37:34, 24.96s/it]"
     ]
    },
    {
     "name": "stdout",
     "output_type": "stream",
     "text": [
      "Time to: Calculate Ground State - 1.39s, Get Pauli Ops - 14.97s, Calculate Pauli Expectation Values - 9.46s, Calculate Covariance - 3.29s\n",
      "f0,f1,f2 = [4.4440015666701e-10, 4.4396953146693755e-10, 1.7274865575328488e-10]\n",
      "d01,d02,d12 = [0.9836911205064914, 0.973012446337431, 0.97301700726675]\n"
     ]
    },
    {
     "name": "stderr",
     "output_type": "stream",
     "text": [
      "Progress:  48%|████▊     | 478/1000 [3:13:21<3:37:56, 25.05s/it]"
     ]
    },
    {
     "name": "stdout",
     "output_type": "stream",
     "text": [
      "Time to: Calculate Ground State - 1.39s, Get Pauli Ops - 15.38s, Calculate Pauli Expectation Values - 4.99s, Calculate Covariance - 3.49s\n",
      "f0,f1,f2 = [1.1764822120749195e-09, 1.1762943275178276e-09, 4.891873702194867e-10]\n",
      "d01,d02,d12 = [0.9841596209841762, 0.9706735237203671, 0.9706775408455939]\n"
     ]
    },
    {
     "name": "stderr",
     "output_type": "stream",
     "text": [
      "Progress:  48%|████▊     | 479/1000 [3:13:47<3:40:33, 25.40s/it]"
     ]
    },
    {
     "name": "stdout",
     "output_type": "stream",
     "text": [
      "Time to: Calculate Ground State - 1.3s, Get Pauli Ops - 15.78s, Calculate Pauli Expectation Values - 5.42s, Calculate Covariance - 3.71s\n",
      "f0,f1,f2 = [4.3603265734342706e-10, 4.3593001984181386e-10, 5.897999820168289e-10]\n",
      "d01,d02,d12 = [0.9846295687356699, 0.9685861475325338, 0.9685898950449519]\n"
     ]
    },
    {
     "name": "stderr",
     "output_type": "stream",
     "text": [
      "Progress:  48%|████▊     | 480/1000 [3:14:12<3:36:48, 25.02s/it]"
     ]
    },
    {
     "name": "stdout",
     "output_type": "stream",
     "text": [
      "Time to: Calculate Ground State - 0.97s, Get Pauli Ops - 14.24s, Calculate Pauli Expectation Values - 5.16s, Calculate Covariance - 3.75s\n",
      "f0,f1,f2 = [5.112823206793237e-10, 5.106500950838643e-10, 6.918327317576202e-10]\n",
      "d01,d02,d12 = [0.9853056394091521, 0.9667576040910362, 0.9667609061673013]\n"
     ]
    },
    {
     "name": "stderr",
     "output_type": "stream",
     "text": [
      "Progress:  48%|████▊     | 481/1000 [3:14:38<3:39:15, 25.35s/it]"
     ]
    },
    {
     "name": "stdout",
     "output_type": "stream",
     "text": [
      "Time to: Calculate Ground State - 1.31s, Get Pauli Ops - 16.37s, Calculate Pauli Expectation Values - 5.1s, Calculate Covariance - 3.33s\n",
      "f0,f1,f2 = [5.990738421394543e-10, 5.997613762431115e-10, 7.509494022863783e-10]\n",
      "d01,d02,d12 = [0.9860224068920048, 0.9652484127406192, 0.9652515652175481]\n"
     ]
    },
    {
     "name": "stderr",
     "output_type": "stream",
     "text": [
      "Progress:  48%|████▊     | 482/1000 [3:15:00<3:30:06, 24.34s/it]"
     ]
    },
    {
     "name": "stdout",
     "output_type": "stream",
     "text": [
      "Time to: Calculate Ground State - 1.27s, Get Pauli Ops - 12.5s, Calculate Pauli Expectation Values - 5.17s, Calculate Covariance - 3.03s\n",
      "f0,f1,f2 = [5.254515377478004e-10, 5.256432746558481e-10, 8.140352443252715e-10]\n",
      "d01,d02,d12 = [0.9868781813006652, 0.9640467802456498, 0.9640498471395211]\n"
     ]
    },
    {
     "name": "stderr",
     "output_type": "stream",
     "text": [
      "Progress:  48%|████▊     | 483/1000 [3:15:26<3:34:00, 24.84s/it]"
     ]
    },
    {
     "name": "stdout",
     "output_type": "stream",
     "text": [
      "Time to: Calculate Ground State - 1.49s, Get Pauli Ops - 16.45s, Calculate Pauli Expectation Values - 5.19s, Calculate Covariance - 2.87s\n",
      "f0,f1,f2 = [5.026652214491365e-10, 5.023754741268021e-10, 8.554221328668027e-10]\n",
      "d01,d02,d12 = [0.987875517224373, 0.9631451473682964, 0.963148079377774]\n"
     ]
    },
    {
     "name": "stderr",
     "output_type": "stream",
     "text": [
      "Progress:  48%|████▊     | 484/1000 [3:15:49<3:29:04, 24.31s/it]"
     ]
    },
    {
     "name": "stdout",
     "output_type": "stream",
     "text": [
      "Time to: Calculate Ground State - 1.56s, Get Pauli Ops - 12.77s, Calculate Pauli Expectation Values - 5.32s, Calculate Covariance - 3.43s\n",
      "f0,f1,f2 = [5.509917146468082e-10, 5.512240033408943e-10, 9.012054742873703e-10]\n",
      "d01,d02,d12 = [0.9889892845141417, 0.9625690195302833, 0.9625719099825187]\n"
     ]
    },
    {
     "name": "stderr",
     "output_type": "stream",
     "text": [
      "Progress:  48%|████▊     | 485/1000 [3:16:11<3:23:51, 23.75s/it]"
     ]
    },
    {
     "name": "stdout",
     "output_type": "stream",
     "text": [
      "Time to: Calculate Ground State - 1.0s, Get Pauli Ops - 12.29s, Calculate Pauli Expectation Values - 5.33s, Calculate Covariance - 3.81s\n",
      "f0,f1,f2 = [5.474851275716618e-10, 5.468850869834052e-10, 8.947349572082782e-10]\n",
      "d01,d02,d12 = [0.9903035306875525, 0.9622979740356226, 0.962300561671621]\n"
     ]
    },
    {
     "name": "stderr",
     "output_type": "stream",
     "text": [
      "Progress:  49%|████▊     | 486/1000 [3:16:40<3:37:19, 25.37s/it]"
     ]
    },
    {
     "name": "stdout",
     "output_type": "stream",
     "text": [
      "Time to: Calculate Ground State - 1.21s, Get Pauli Ops - 17.66s, Calculate Pauli Expectation Values - 6.95s, Calculate Covariance - 3.32s\n",
      "f0,f1,f2 = [5.36706568326182e-10, 5.3693282235096e-10, 8.790935527677794e-10]\n",
      "d01,d02,d12 = [0.9917289067450643, 0.962339751395274, 0.9623420603262186]\n"
     ]
    },
    {
     "name": "stderr",
     "output_type": "stream",
     "text": [
      "Progress:  49%|████▊     | 487/1000 [3:17:07<3:40:10, 25.75s/it]"
     ]
    },
    {
     "name": "stdout",
     "output_type": "stream",
     "text": [
      "Time to: Calculate Ground State - 1.55s, Get Pauli Ops - 16.59s, Calculate Pauli Expectation Values - 5.12s, Calculate Covariance - 3.38s\n",
      "f0,f1,f2 = [5.317876422274895e-10, 5.317536188074777e-10, 8.95866191928657e-10]\n",
      "d01,d02,d12 = [0.9932882318968661, 0.9626868551476928, 0.9626888630925277]\n"
     ]
    },
    {
     "name": "stderr",
     "output_type": "stream",
     "text": [
      "Progress:  49%|████▉     | 488/1000 [3:17:34<3:43:09, 26.15s/it]"
     ]
    },
    {
     "name": "stdout",
     "output_type": "stream",
     "text": [
      "Time to: Calculate Ground State - 1.2s, Get Pauli Ops - 15.95s, Calculate Pauli Expectation Values - 6.22s, Calculate Covariance - 3.71s\n",
      "f0,f1,f2 = [4.769069936312615e-10, 4.765851042540875e-10, 8.907014319122666e-10]\n",
      "d01,d02,d12 = [0.994957418560693, 0.9633199410406303, 0.9633215706187823]\n"
     ]
    },
    {
     "name": "stderr",
     "output_type": "stream",
     "text": [
      "Progress:  49%|████▉     | 489/1000 [3:17:58<3:37:18, 25.52s/it]"
     ]
    },
    {
     "name": "stdout",
     "output_type": "stream",
     "text": [
      "Time to: Calculate Ground State - 0.9s, Get Pauli Ops - 13.91s, Calculate Pauli Expectation Values - 5.44s, Calculate Covariance - 3.77s\n",
      "f0,f1,f2 = [4.337681608733164e-10, 4.334288484788816e-10, 8.459952925014255e-10]\n",
      "d01,d02,d12 = [0.9967400200105593, 0.9642118408924472, 0.9642129722950726]\n"
     ]
    },
    {
     "name": "stderr",
     "output_type": "stream",
     "text": [
      "Progress:  49%|████▉     | 490/1000 [3:18:22<3:32:25, 24.99s/it]"
     ]
    },
    {
     "name": "stdout",
     "output_type": "stream",
     "text": [
      "Time to: Calculate Ground State - 1.49s, Get Pauli Ops - 14.69s, Calculate Pauli Expectation Values - 5.02s, Calculate Covariance - 2.56s\n",
      "f0,f1,f2 = [4.175400984106293e-10, 4.174227285743725e-10, 8.358223953787487e-10]\n",
      "d01,d02,d12 = [0.9985778796143508, 0.9653604078007163, 0.9653610007913899]\n"
     ]
    },
    {
     "name": "stderr",
     "output_type": "stream",
     "text": [
      "Progress:  49%|████▉     | 491/1000 [3:18:47<3:33:22, 25.15s/it]"
     ]
    },
    {
     "name": "stdout",
     "output_type": "stream",
     "text": [
      "Time to: Calculate Ground State - 0.88s, Get Pauli Ops - 15.62s, Calculate Pauli Expectation Values - 5.99s, Calculate Covariance - 3.04s\n",
      "f0,f1,f2 = [4.2097340056434934e-10, 4.210102640786454e-10, 7.514151865345979e-10]\n",
      "d01,d02,d12 = [1.000401431009097, 0.9667404733090389, 0.9667405488511128]\n"
     ]
    },
    {
     "name": "stderr",
     "output_type": "stream",
     "text": [
      "Progress:  49%|████▉     | 492/1000 [3:19:12<3:32:03, 25.05s/it]"
     ]
    },
    {
     "name": "stdout",
     "output_type": "stream",
     "text": [
      "Time to: Calculate Ground State - 0.93s, Get Pauli Ops - 15.3s, Calculate Pauli Expectation Values - 5.63s, Calculate Covariance - 2.93s\n",
      "f0,f1,f2 = [3.1178160349754625e-10, 3.1177402065128584e-10, 7.004574154440495e-10]\n",
      "d01,d02,d12 = [1.0022326307347957, 0.9683135355059272, 0.968313089951821]\n"
     ]
    },
    {
     "name": "stderr",
     "output_type": "stream",
     "text": [
      "Progress:  49%|████▉     | 493/1000 [3:19:34<3:23:41, 24.11s/it]"
     ]
    },
    {
     "name": "stdout",
     "output_type": "stream",
     "text": [
      "Time to: Calculate Ground State - 1.16s, Get Pauli Ops - 12.69s, Calculate Pauli Expectation Values - 5.18s, Calculate Covariance - 2.87s\n",
      "f0,f1,f2 = [2.5128614071947677e-10, 2.513453839684878e-10, 6.303823174545603e-10]\n",
      "d01,d02,d12 = [1.0040483046817343, 0.9700441408576116, 0.970043201644606]\n"
     ]
    },
    {
     "name": "stderr",
     "output_type": "stream",
     "text": [
      "Progress:  49%|████▉     | 494/1000 [3:19:59<3:25:35, 24.38s/it]"
     ]
    },
    {
     "name": "stdout",
     "output_type": "stream",
     "text": [
      "Time to: Calculate Ground State - 1.2s, Get Pauli Ops - 13.84s, Calculate Pauli Expectation Values - 7.12s, Calculate Covariance - 2.84s\n",
      "f0,f1,f2 = [2.2165088545524797e-10, 2.2173392519265169e-10, 5.410385361549381e-10]\n",
      "d01,d02,d12 = [1.0058127969562896, 0.9718990238334619, 0.9718976409390605]\n"
     ]
    },
    {
     "name": "stderr",
     "output_type": "stream",
     "text": [
      "Progress:  50%|████▉     | 495/1000 [3:20:26<3:30:34, 25.02s/it]"
     ]
    },
    {
     "name": "stdout",
     "output_type": "stream",
     "text": [
      "Time to: Calculate Ground State - 1.3s, Get Pauli Ops - 15.74s, Calculate Pauli Expectation Values - 6.58s, Calculate Covariance - 2.88s\n",
      "f0,f1,f2 = [2.9803078456344565e-10, 2.9804429737687877e-10, 4.678350660094665e-10]\n",
      "d01,d02,d12 = [1.0074822916093786, 0.9738562170573776, 0.9738544148251466]\n"
     ]
    },
    {
     "name": "stderr",
     "output_type": "stream",
     "text": [
      "Progress:  50%|████▉     | 496/1000 [3:20:52<3:34:25, 25.53s/it]"
     ]
    },
    {
     "name": "stdout",
     "output_type": "stream",
     "text": [
      "Time to: Calculate Ground State - 1.18s, Get Pauli Ops - 15.47s, Calculate Pauli Expectation Values - 7.19s, Calculate Covariance - 2.87s\n",
      "f0,f1,f2 = [2.3144756650832453e-10, 2.3142782244684058e-10, 4.0104372180923624e-10]\n",
      "d01,d02,d12 = [1.0090377218001418, 0.9758766536440927, 0.975874520143572]\n"
     ]
    },
    {
     "name": "stderr",
     "output_type": "stream",
     "text": [
      "Progress:  50%|████▉     | 497/1000 [3:21:18<3:34:26, 25.58s/it]"
     ]
    },
    {
     "name": "stdout",
     "output_type": "stream",
     "text": [
      "Time to: Calculate Ground State - 1.13s, Get Pauli Ops - 15.68s, Calculate Pauli Expectation Values - 5.19s, Calculate Covariance - 3.69s\n",
      "f0,f1,f2 = [3.5585370004783684e-10, 3.5586565727796216e-10, 3.217498546915559e-10]\n",
      "d01,d02,d12 = [1.0104283358103192, 0.9779320711638555, 0.9779296397515942]\n"
     ]
    },
    {
     "name": "stderr",
     "output_type": "stream",
     "text": [
      "Progress:  50%|████▉     | 498/1000 [3:21:43<3:33:45, 25.55s/it]"
     ]
    },
    {
     "name": "stdout",
     "output_type": "stream",
     "text": [
      "Time to: Calculate Ground State - 1.18s, Get Pauli Ops - 15.9s, Calculate Pauli Expectation Values - 5.17s, Calculate Covariance - 3.22s\n",
      "f0,f1,f2 = [2.5854458921620785e-10, 2.5810839516197823e-10, 2.1264583684227713e-10]\n",
      "d01,d02,d12 = [1.0116637154644503, 0.9799750704134453, 0.9799725085817536]\n"
     ]
    },
    {
     "name": "stderr",
     "output_type": "stream",
     "text": [
      "Progress:  50%|████▉     | 499/1000 [3:22:12<3:40:54, 26.46s/it]"
     ]
    },
    {
     "name": "stdout",
     "output_type": "stream",
     "text": [
      "Time to: Calculate Ground State - 1.18s, Get Pauli Ops - 16.36s, Calculate Pauli Expectation Values - 7.27s, Calculate Covariance - 3.75s\n",
      "f0,f1,f2 = [2.9432362976987397e-10, 2.9367428750894105e-10, 1.439539140402742e-10]\n",
      "d01,d02,d12 = [1.0127400615332809, 0.9819702775777092, 0.9819678444490639]\n"
     ]
    },
    {
     "name": "stderr",
     "output_type": "stream",
     "text": [
      "Progress:  50%|█████     | 500/1000 [3:22:37<3:36:49, 26.02s/it]"
     ]
    },
    {
     "name": "stdout",
     "output_type": "stream",
     "text": [
      "Time to: Calculate Ground State - 1.56s, Get Pauli Ops - 14.68s, Calculate Pauli Expectation Values - 5.08s, Calculate Covariance - 3.67s\n",
      "f0,f1,f2 = [4.3098683191602737e-10, 4.3083814315421185e-10, 3.035235638995965e-11]\n",
      "d01,d02,d12 = [1.0135936420021328, 0.9838962934883299, 0.9838940492650478]\n"
     ]
    },
    {
     "name": "stderr",
     "output_type": "stream",
     "text": [
      "Progress:  50%|█████     | 501/1000 [3:22:59<3:26:57, 24.89s/it]"
     ]
    },
    {
     "name": "stdout",
     "output_type": "stream",
     "text": [
      "Time to: Calculate Ground State - 1.16s, Get Pauli Ops - 12.56s, Calculate Pauli Expectation Values - 5.12s, Calculate Covariance - 3.39s\n",
      "f0,f1,f2 = [5.103199840562927e-10, 5.102711665390421e-10, 8.348383855182398e-12]\n",
      "d01,d02,d12 = [1.0141939947870615, 0.9857372474291991, 0.9857352309576753]\n"
     ]
    },
    {
     "name": "stderr",
     "output_type": "stream",
     "text": [
      "Progress:  50%|█████     | 502/1000 [3:23:25<3:28:16, 25.09s/it]"
     ]
    },
    {
     "name": "stdout",
     "output_type": "stream",
     "text": [
      "Time to: Calculate Ground State - 1.61s, Get Pauli Ops - 12.8s, Calculate Pauli Expectation Values - 7.58s, Calculate Covariance - 3.58s\n",
      "f0,f1,f2 = [7.134289718657429e-10, 7.138360441222318e-10, 9.851170254428009e-11]\n",
      "d01,d02,d12 = [1.0144710595486424, 0.9874852948801751, 0.987483331824373]\n"
     ]
    },
    {
     "name": "stderr",
     "output_type": "stream",
     "text": [
      "Progress:  50%|█████     | 503/1000 [3:23:46<3:19:07, 24.04s/it]"
     ]
    },
    {
     "name": "stdout",
     "output_type": "stream",
     "text": [
      "Time to: Calculate Ground State - 1.31s, Get Pauli Ops - 12.54s, Calculate Pauli Expectation Values - 5.08s, Calculate Covariance - 2.64s\n",
      "f0,f1,f2 = [6.308211182283486e-10, 6.308974704056479e-10, 1.4566609335936224e-10]\n",
      "d01,d02,d12 = [1.014455921959409, 0.9890996885461877, 0.9890978022521801]\n"
     ]
    },
    {
     "name": "stderr",
     "output_type": "stream",
     "text": [
      "Progress:  50%|█████     | 504/1000 [3:24:12<3:22:05, 24.45s/it]"
     ]
    },
    {
     "name": "stdout",
     "output_type": "stream",
     "text": [
      "Time to: Calculate Ground State - 1.16s, Get Pauli Ops - 14.23s, Calculate Pauli Expectation Values - 7.18s, Calculate Covariance - 2.82s\n",
      "f0,f1,f2 = [6.910386119208072e-10, 6.91307258545277e-10, 2.2936374629340988e-10]\n",
      "d01,d02,d12 = [1.0140927402256381, 0.9905769012559931, 0.9905749459214113]\n"
     ]
    },
    {
     "name": "stderr",
     "output_type": "stream",
     "text": [
      "Progress:  50%|█████     | 505/1000 [3:24:38<3:24:49, 24.83s/it]"
     ]
    },
    {
     "name": "stdout",
     "output_type": "stream",
     "text": [
      "Time to: Calculate Ground State - 1.2s, Get Pauli Ops - 15.81s, Calculate Pauli Expectation Values - 5.29s, Calculate Covariance - 3.4s\n",
      "f0,f1,f2 = [6.7632717178923e-10, 6.764016239051091e-10, 2.5682112545964244e-10]\n",
      "d01,d02,d12 = [1.0134108635490024, 0.9918855109989201, 0.9918834840271802]\n"
     ]
    },
    {
     "name": "stderr",
     "output_type": "stream",
     "text": [
      "Progress:  51%|█████     | 506/1000 [3:24:59<3:17:07, 23.94s/it]"
     ]
    },
    {
     "name": "stdout",
     "output_type": "stream",
     "text": [
      "Time to: Calculate Ground State - 1.4s, Get Pauli Ops - 12.81s, Calculate Pauli Expectation Values - 5.07s, Calculate Covariance - 2.59s\n",
      "f0,f1,f2 = [6.018186387433038e-10, 6.016698998148882e-10, 3.273118946693695e-10]\n",
      "d01,d02,d12 = [1.0124473447787532, 0.9930046796817614, 0.9930026318419097]\n"
     ]
    },
    {
     "name": "stderr",
     "output_type": "stream",
     "text": [
      "Progress:  51%|█████     | 507/1000 [3:25:23<3:16:58, 23.97s/it]"
     ]
    },
    {
     "name": "stdout",
     "output_type": "stream",
     "text": [
      "Time to: Calculate Ground State - 1.56s, Get Pauli Ops - 14.25s, Calculate Pauli Expectation Values - 5.07s, Calculate Covariance - 3.16s\n",
      "f0,f1,f2 = [5.723971942065989e-10, 5.718691724632482e-10, 3.2976928661456516e-10]\n",
      "d01,d02,d12 = [1.011236748856239, 0.9939140959329972, 0.9939121723555214]\n"
     ]
    },
    {
     "name": "stderr",
     "output_type": "stream",
     "text": [
      "Progress:  51%|█████     | 508/1000 [3:25:45<3:11:26, 23.35s/it]"
     ]
    },
    {
     "name": "stdout",
     "output_type": "stream",
     "text": [
      "Time to: Calculate Ground State - 0.86s, Get Pauli Ops - 13.14s, Calculate Pauli Expectation Values - 5.08s, Calculate Covariance - 2.8s\n",
      "f0,f1,f2 = [6.26666374581989e-10, 6.267641970533541e-10, 3.8633450783130995e-10]\n",
      "d01,d02,d12 = [1.0097594439564261, 0.9946459639699342, 0.9946441277645481]\n"
     ]
    },
    {
     "name": "stderr",
     "output_type": "stream",
     "text": [
      "Progress:  51%|█████     | 509/1000 [3:26:12<3:18:58, 24.31s/it]"
     ]
    },
    {
     "name": "stdout",
     "output_type": "stream",
     "text": [
      "Time to: Calculate Ground State - 1.39s, Get Pauli Ops - 14.0s, Calculate Pauli Expectation Values - 7.97s, Calculate Covariance - 3.2s\n",
      "f0,f1,f2 = [5.750432222221015e-10, 5.745624268111899e-10, 3.894564722124875e-10]\n",
      "d01,d02,d12 = [1.0081169791347344, 0.9951443836492734, 0.9951428187300079]\n"
     ]
    },
    {
     "name": "stderr",
     "output_type": "stream",
     "text": [
      "Progress:  51%|█████     | 510/1000 [3:26:36<3:19:04, 24.38s/it]"
     ]
    },
    {
     "name": "stdout",
     "output_type": "stream",
     "text": [
      "Time to: Calculate Ground State - 1.4s, Get Pauli Ops - 14.89s, Calculate Pauli Expectation Values - 5.34s, Calculate Covariance - 2.88s\n",
      "f0,f1,f2 = [1.2736391985030086e-09, 1.2741360162342122e-09, 4.0143895324506427e-10]\n",
      "d01,d02,d12 = [1.005974257682211, 0.9954748743479304, 0.9954734408292419]\n"
     ]
    },
    {
     "name": "stderr",
     "output_type": "stream",
     "text": [
      "Progress:  51%|█████     | 511/1000 [3:27:05<3:29:13, 25.67s/it]"
     ]
    },
    {
     "name": "stdout",
     "output_type": "stream",
     "text": [
      "Time to: Calculate Ground State - 1.0s, Get Pauli Ops - 14.26s, Calculate Pauli Expectation Values - 10.17s, Calculate Covariance - 3.26s\n",
      "f0,f1,f2 = [9.088921303731687e-10, 9.090677655777573e-10, 4.5739943191638685e-10]\n",
      "d01,d02,d12 = [1.0034437550991169, 0.9956172560271368, 0.9956159017130806]\n"
     ]
    },
    {
     "name": "stderr",
     "output_type": "stream",
     "text": [
      "Progress:  51%|█████     | 512/1000 [3:27:33<3:33:25, 26.24s/it]"
     ]
    },
    {
     "name": "stdout",
     "output_type": "stream",
     "text": [
      "Time to: Calculate Ground State - 1.17s, Get Pauli Ops - 16.42s, Calculate Pauli Expectation Values - 7.21s, Calculate Covariance - 2.76s\n",
      "f0,f1,f2 = [9.403147864877401e-10, 9.402230048476825e-10, 2.1245199526398237e-09]\n",
      "d01,d02,d12 = [1.0009314415298578, 0.9952343967748486, 0.9952332077206395]\n"
     ]
    },
    {
     "name": "stderr",
     "output_type": "stream",
     "text": [
      "Progress:  51%|█████▏    | 513/1000 [3:27:57<3:29:18, 25.79s/it]"
     ]
    },
    {
     "name": "stdout",
     "output_type": "stream",
     "text": [
      "Time to: Calculate Ground State - 1.29s, Get Pauli Ops - 15.28s, Calculate Pauli Expectation Values - 5.41s, Calculate Covariance - 2.74s\n",
      "f0,f1,f2 = [3.0508370516646395e-10, 3.053488474349372e-10, 5.652425478087037e-10]\n",
      "d01,d02,d12 = [0.9981709775815312, 0.9946186791094348, 0.9946176723627028]\n"
     ]
    },
    {
     "name": "stderr",
     "output_type": "stream",
     "text": [
      "Progress:  51%|█████▏    | 514/1000 [3:28:24<3:30:07, 25.94s/it]"
     ]
    },
    {
     "name": "stdout",
     "output_type": "stream",
     "text": [
      "Time to: Calculate Ground State - 1.17s, Get Pauli Ops - 16.24s, Calculate Pauli Expectation Values - 6.05s, Calculate Covariance - 2.82s\n",
      "f0,f1,f2 = [5.837619775870188e-10, 5.839556439287012e-10, 1.4638313525244379e-09]\n",
      "d01,d02,d12 = [0.9950853247512533, 0.9934713908697396, 0.9934706105255033]\n"
     ]
    },
    {
     "name": "stderr",
     "output_type": "stream",
     "text": [
      "Progress:  52%|█████▏    | 515/1000 [3:28:51<3:32:10, 26.25s/it]"
     ]
    },
    {
     "name": "stdout",
     "output_type": "stream",
     "text": [
      "Time to: Calculate Ground State - 1.02s, Get Pauli Ops - 16.89s, Calculate Pauli Expectation Values - 5.23s, Calculate Covariance - 3.81s\n",
      "f0,f1,f2 = [3.86726260357836e-10, 3.8689294313891174e-10, 8.675841560397832e-10]\n",
      "d01,d02,d12 = [0.9919166769199672, 0.9922544226147888, 0.9922538785602285]\n"
     ]
    },
    {
     "name": "stderr",
     "output_type": "stream",
     "text": [
      "Progress:  52%|█████▏    | 516/1000 [3:29:20<3:40:12, 27.30s/it]"
     ]
    },
    {
     "name": "stdout",
     "output_type": "stream",
     "text": [
      "Time to: Calculate Ground State - 1.34s, Get Pauli Ops - 20.11s, Calculate Pauli Expectation Values - 5.24s, Calculate Covariance - 3.05s\n",
      "f0,f1,f2 = [3.187050659877008e-10, 3.1872307949202837e-10, 1.8378842891137058e-10]\n",
      "d01,d02,d12 = [0.9886475169460196, 0.9909335166555703, 0.9909331956804636]\n"
     ]
    },
    {
     "name": "stderr",
     "output_type": "stream",
     "text": [
      "Progress:  52%|█████▏    | 517/1000 [3:29:43<3:29:04, 25.97s/it]"
     ]
    },
    {
     "name": "stdout",
     "output_type": "stream",
     "text": [
      "Time to: Calculate Ground State - 1.1s, Get Pauli Ops - 13.66s, Calculate Pauli Expectation Values - 5.2s, Calculate Covariance - 2.9s\n",
      "f0,f1,f2 = [3.808967175188386e-10, 3.808836728756703e-10, 8.971376831082325e-10]\n",
      "d01,d02,d12 = [0.9853502489328979, 0.9895293438866457, 0.9895292387445074]\n"
     ]
    },
    {
     "name": "stderr",
     "output_type": "stream",
     "text": [
      "Progress:  52%|█████▏    | 518/1000 [3:30:09<3:27:10, 25.79s/it]"
     ]
    },
    {
     "name": "stdout",
     "output_type": "stream",
     "text": [
      "Time to: Calculate Ground State - 1.07s, Get Pauli Ops - 16.42s, Calculate Pauli Expectation Values - 5.02s, Calculate Covariance - 2.85s\n",
      "f0,f1,f2 = [3.043903551024865e-10, 3.044996536592536e-10, 9.022855081591159e-10]\n",
      "d01,d02,d12 = [0.9820579839664623, 0.9881655914153178, 0.9881656904535951]\n"
     ]
    },
    {
     "name": "stderr",
     "output_type": "stream",
     "text": [
      "Progress:  52%|█████▏    | 519/1000 [3:30:33<3:22:08, 25.22s/it]"
     ]
    },
    {
     "name": "stdout",
     "output_type": "stream",
     "text": [
      "Time to: Calculate Ground State - 1.1s, Get Pauli Ops - 13.68s, Calculate Pauli Expectation Values - 5.88s, Calculate Covariance - 3.21s\n",
      "f0,f1,f2 = [8.835689361028102e-11, 8.831503430402592e-11, 3.840605270567128e-10]\n",
      "d01,d02,d12 = [0.9788307391808514, 0.9869102972079211, 0.9869105902325569]\n"
     ]
    },
    {
     "name": "stderr",
     "output_type": "stream",
     "text": [
      "Progress:  52%|█████▏    | 520/1000 [3:30:56<3:18:04, 24.76s/it]"
     ]
    },
    {
     "name": "stdout",
     "output_type": "stream",
     "text": [
      "Time to: Calculate Ground State - 1.07s, Get Pauli Ops - 14.59s, Calculate Pauli Expectation Values - 5.51s, Calculate Covariance - 2.52s\n",
      "f0,f1,f2 = [1.866837086942319e-10, 1.8667101756604667e-10, 3.316578982406679e-10]\n",
      "d01,d02,d12 = [0.9756687536896319, 0.9857470608352068, 0.9857475407696896]\n"
     ]
    },
    {
     "name": "stderr",
     "output_type": "stream",
     "text": [
      "Progress:  52%|█████▏    | 521/1000 [3:31:18<3:10:25, 23.85s/it]"
     ]
    },
    {
     "name": "stdout",
     "output_type": "stream",
     "text": [
      "Time to: Calculate Ground State - 1.12s, Get Pauli Ops - 12.95s, Calculate Pauli Expectation Values - 4.66s, Calculate Covariance - 3.0s\n",
      "f0,f1,f2 = [1.4898459265631937e-10, 1.4896319366729055e-10, 3.385099269409849e-11]\n",
      "d01,d02,d12 = [0.972768595750146, 0.9846358466208528, 0.9846365238038152]\n"
     ]
    },
    {
     "name": "stderr",
     "output_type": "stream",
     "text": [
      "Progress:  52%|█████▏    | 522/1000 [3:31:41<3:07:21, 23.52s/it]"
     ]
    },
    {
     "name": "stdout",
     "output_type": "stream",
     "text": [
      "Time to: Calculate Ground State - 0.82s, Get Pauli Ops - 13.76s, Calculate Pauli Expectation Values - 5.35s, Calculate Covariance - 2.8s\n",
      "f0,f1,f2 = [1.2137767373829832e-09, 1.2139069881793095e-09, 9.153079320644555e-11]\n",
      "d01,d02,d12 = [0.9692142279890422, 0.9836514823990635, 0.9836521626719146]\n"
     ]
    },
    {
     "name": "stderr",
     "output_type": "stream",
     "text": [
      "Progress:  52%|█████▏    | 523/1000 [3:32:02<3:02:42, 22.98s/it]"
     ]
    },
    {
     "name": "stdout",
     "output_type": "stream",
     "text": [
      "Time to: Calculate Ground State - 1.14s, Get Pauli Ops - 12.58s, Calculate Pauli Expectation Values - 5.23s, Calculate Covariance - 2.78s\n",
      "f0,f1,f2 = [3.1501811694373846e-10, 3.1495260583611086e-10, 1.3767067961220574e-10]\n",
      "d01,d02,d12 = [0.9659177918078637, 0.9827694042607794, 0.982770099703196]\n"
     ]
    },
    {
     "name": "stderr",
     "output_type": "stream",
     "text": [
      "Progress:  52%|█████▏    | 524/1000 [3:32:26<3:02:54, 23.06s/it]"
     ]
    },
    {
     "name": "stdout",
     "output_type": "stream",
     "text": [
      "Time to: Calculate Ground State - 1.24s, Get Pauli Ops - 14.03s, Calculate Pauli Expectation Values - 4.98s, Calculate Covariance - 2.97s\n",
      "f0,f1,f2 = [4.336966458775252e-10, 4.3356120532212795e-10, 1.7507243070293942e-10]\n",
      "d01,d02,d12 = [0.9628405042246623, 0.9820381694209674, 0.9820388407303678]\n"
     ]
    },
    {
     "name": "stderr",
     "output_type": "stream",
     "text": [
      "Progress:  52%|█████▎    | 525/1000 [3:32:52<3:10:08, 24.02s/it]"
     ]
    },
    {
     "name": "stdout",
     "output_type": "stream",
     "text": [
      "Time to: Calculate Ground State - 1.67s, Get Pauli Ops - 15.03s, Calculate Pauli Expectation Values - 5.89s, Calculate Covariance - 3.66s\n",
      "f0,f1,f2 = [6.209651468921896e-10, 6.209799135781902e-10, 2.1816815118886584e-10]\n",
      "d01,d02,d12 = [0.9600905170623762, 0.9814577316976782, 0.9814583816823349]\n"
     ]
    },
    {
     "name": "stderr",
     "output_type": "stream",
     "text": [
      "Progress:  53%|█████▎    | 526/1000 [3:33:18<3:13:35, 24.50s/it]"
     ]
    },
    {
     "name": "stdout",
     "output_type": "stream",
     "text": [
      "Time to: Calculate Ground State - 1.27s, Get Pauli Ops - 15.27s, Calculate Pauli Expectation Values - 5.32s, Calculate Covariance - 3.78s\n",
      "f0,f1,f2 = [5.435295807207659e-10, 5.433801411674722e-10, 2.455079839144712e-10]\n",
      "d01,d02,d12 = [0.9576044875552119, 0.9810549289311553, 0.981055516382583]\n"
     ]
    },
    {
     "name": "stderr",
     "output_type": "stream",
     "text": [
      "Progress:  53%|█████▎    | 527/1000 [3:33:41<3:09:26, 24.03s/it]"
     ]
    },
    {
     "name": "stdout",
     "output_type": "stream",
     "text": [
      "Time to: Calculate Ground State - 1.36s, Get Pauli Ops - 13.3s, Calculate Pauli Expectation Values - 4.98s, Calculate Covariance - 3.29s\n",
      "f0,f1,f2 = [7.708016396189952e-10, 7.708826116032987e-10, 2.7310434807971056e-10]\n",
      "d01,d02,d12 = [0.9555057107665107, 0.9808098391161749, 0.9808103962889672]\n"
     ]
    },
    {
     "name": "stderr",
     "output_type": "stream",
     "text": [
      "Progress:  53%|█████▎    | 528/1000 [3:34:05<3:10:09, 24.17s/it]"
     ]
    },
    {
     "name": "stdout",
     "output_type": "stream",
     "text": [
      "Time to: Calculate Ground State - 1.34s, Get Pauli Ops - 14.73s, Calculate Pauli Expectation Values - 5.34s, Calculate Covariance - 3.08s\n",
      "f0,f1,f2 = [7.680896022287273e-10, 7.680734558002916e-10, 3.365753569067086e-10]\n",
      "d01,d02,d12 = [0.9537743914864599, 0.980771858154278, 0.9807723728288248]\n"
     ]
    },
    {
     "name": "stderr",
     "output_type": "stream",
     "text": [
      "Progress:  53%|█████▎    | 529/1000 [3:34:29<3:09:26, 24.13s/it]"
     ]
    },
    {
     "name": "stdout",
     "output_type": "stream",
     "text": [
      "Time to: Calculate Ground State - 1.27s, Get Pauli Ops - 15.02s, Calculate Pauli Expectation Values - 5.17s, Calculate Covariance - 2.57s\n",
      "f0,f1,f2 = [8.353786041030875e-10, 8.353963055085759e-10, 2.8877897715883717e-10]\n",
      "d01,d02,d12 = [0.9524552003907507, 0.9809257211485807, 0.9809261949816049]\n"
     ]
    },
    {
     "name": "stderr",
     "output_type": "stream",
     "text": [
      "Progress:  53%|█████▎    | 530/1000 [3:34:53<3:08:08, 24.02s/it]"
     ]
    },
    {
     "name": "stdout",
     "output_type": "stream",
     "text": [
      "Time to: Calculate Ground State - 1.41s, Get Pauli Ops - 13.84s, Calculate Pauli Expectation Values - 5.23s, Calculate Covariance - 3.25s\n",
      "f0,f1,f2 = [7.335581913060473e-10, 7.334162230108329e-10, 2.754404916185544e-10]\n",
      "d01,d02,d12 = [0.9514881411778237, 0.98127977237859, 0.9812801645975366]\n"
     ]
    },
    {
     "name": "stderr",
     "output_type": "stream",
     "text": [
      "Progress:  53%|█████▎    | 531/1000 [3:35:18<3:10:31, 24.37s/it]"
     ]
    },
    {
     "name": "stdout",
     "output_type": "stream",
     "text": [
      "Time to: Calculate Ground State - 1.6s, Get Pauli Ops - 15.2s, Calculate Pauli Expectation Values - 5.24s, Calculate Covariance - 3.16s\n",
      "f0,f1,f2 = [8.088412412732782e-10, 8.087876569417275e-10, 2.831979894099569e-10]\n",
      "d01,d02,d12 = [0.9509021244583914, 0.9818320077378007, 0.9818322984330357]\n"
     ]
    },
    {
     "name": "stderr",
     "output_type": "stream",
     "text": [
      "Progress:  53%|█████▎    | 532/1000 [3:35:40<3:03:39, 23.55s/it]"
     ]
    },
    {
     "name": "stdout",
     "output_type": "stream",
     "text": [
      "Time to: Calculate Ground State - 0.95s, Get Pauli Ops - 12.45s, Calculate Pauli Expectation Values - 5.23s, Calculate Covariance - 2.98s\n",
      "f0,f1,f2 = [7.437184752062561e-10, 7.436376856451714e-10, 2.68217243856545e-10]\n",
      "d01,d02,d12 = [0.9506626195176, 0.9825762902598311, 0.982576455360267]\n"
     ]
    },
    {
     "name": "stderr",
     "output_type": "stream",
     "text": [
      "Progress:  53%|█████▎    | 533/1000 [3:36:06<3:09:11, 24.31s/it]"
     ]
    },
    {
     "name": "stdout",
     "output_type": "stream",
     "text": [
      "Time to: Calculate Ground State - 0.92s, Get Pauli Ops - 14.32s, Calculate Pauli Expectation Values - 8.12s, Calculate Covariance - 2.72s\n",
      "f0,f1,f2 = [8.507484555564396e-10, 8.507561890034217e-10, 2.4724096594069474e-10]\n",
      "d01,d02,d12 = [0.950823236342355, 0.9834871188006198, 0.9834871593358333]\n"
     ]
    },
    {
     "name": "stderr",
     "output_type": "stream",
     "text": [
      "Progress:  53%|█████▎    | 534/1000 [3:36:30<3:09:13, 24.36s/it]"
     ]
    },
    {
     "name": "stdout",
     "output_type": "stream",
     "text": [
      "Time to: Calculate Ground State - 1.14s, Get Pauli Ops - 13.86s, Calculate Pauli Expectation Values - 6.83s, Calculate Covariance - 2.62s\n",
      "f0,f1,f2 = [8.537872922406519e-10, 8.537884402690986e-10, 2.0716378976945307e-10]\n",
      "d01,d02,d12 = [0.9513903918183604, 0.9845500384317144, 0.9845499542606942]\n"
     ]
    },
    {
     "name": "stderr",
     "output_type": "stream",
     "text": [
      "Progress:  54%|█████▎    | 535/1000 [3:36:57<3:13:59, 25.03s/it]"
     ]
    },
    {
     "name": "stdout",
     "output_type": "stream",
     "text": [
      "Time to: Calculate Ground State - 1.44s, Get Pauli Ops - 13.26s, Calculate Pauli Expectation Values - 8.92s, Calculate Covariance - 2.95s\n",
      "f0,f1,f2 = [8.344979491618909e-10, 8.344979395836916e-10, 1.6765077650621811e-10]\n",
      "d01,d02,d12 = [0.9523430555683743, 0.9857438962067653, 0.9857436853507918]\n"
     ]
    },
    {
     "name": "stderr",
     "output_type": "stream",
     "text": [
      "Progress:  54%|█████▎    | 536/1000 [3:37:22<3:13:38, 25.04s/it]"
     ]
    },
    {
     "name": "stdout",
     "output_type": "stream",
     "text": [
      "Time to: Calculate Ground State - 1.25s, Get Pauli Ops - 15.37s, Calculate Pauli Expectation Values - 5.63s, Calculate Covariance - 2.8s\n",
      "f0,f1,f2 = [7.502810677406507e-10, 7.502863849786437e-10, 1.295696482803202e-10]\n",
      "d01,d02,d12 = [0.9536495386862552, 0.9870564636317594, 0.9870561294143019]\n"
     ]
    },
    {
     "name": "stderr",
     "output_type": "stream",
     "text": [
      "Progress:  54%|█████▎    | 537/1000 [3:37:47<3:14:13, 25.17s/it]"
     ]
    },
    {
     "name": "stdout",
     "output_type": "stream",
     "text": [
      "Time to: Calculate Ground State - 1.24s, Get Pauli Ops - 16.69s, Calculate Pauli Expectation Values - 5.13s, Calculate Covariance - 2.4s\n",
      "f0,f1,f2 = [8.028292730217542e-10, 8.027899044452266e-10, 8.338183091427468e-11]\n",
      "d01,d02,d12 = [0.9553113122257427, 0.9884546331756361, 0.9884541609069286]\n"
     ]
    },
    {
     "name": "stderr",
     "output_type": "stream",
     "text": [
      "Progress:  54%|█████▍    | 538/1000 [3:38:11<3:11:23, 24.86s/it]"
     ]
    },
    {
     "name": "stdout",
     "output_type": "stream",
     "text": [
      "Time to: Calculate Ground State - 1.36s, Get Pauli Ops - 14.03s, Calculate Pauli Expectation Values - 5.54s, Calculate Covariance - 3.18s\n",
      "f0,f1,f2 = [6.033621318976597e-10, 6.033827545250027e-10, 2.4092026245345183e-11]\n",
      "d01,d02,d12 = [0.9572488584513202, 0.98990278328557, 0.989902179720541]\n"
     ]
    },
    {
     "name": "stderr",
     "output_type": "stream",
     "text": [
      "Progress:  54%|█████▍    | 539/1000 [3:38:34<3:06:00, 24.21s/it]"
     ]
    },
    {
     "name": "stdout",
     "output_type": "stream",
     "text": [
      "Time to: Calculate Ground State - 0.95s, Get Pauli Ops - 12.91s, Calculate Pauli Expectation Values - 5.86s, Calculate Covariance - 2.96s\n",
      "f0,f1,f2 = [6.095746194384493e-10, 6.095658637283768e-10, 6.848468494666491e-11]\n",
      "d01,d02,d12 = [0.9594431682266605, 0.9913764457913186, 0.9913757110329161]\n"
     ]
    },
    {
     "name": "stderr",
     "output_type": "stream",
     "text": [
      "Progress:  54%|█████▍    | 540/1000 [3:38:58<3:03:43, 23.96s/it]"
     ]
    },
    {
     "name": "stdout",
     "output_type": "stream",
     "text": [
      "Time to: Calculate Ground State - 0.95s, Get Pauli Ops - 13.89s, Calculate Pauli Expectation Values - 5.43s, Calculate Covariance - 3.11s\n",
      "f0,f1,f2 = [4.839792363643945e-10, 4.840140988804338e-10, 1.4659356905719129e-10]\n",
      "d01,d02,d12 = [0.9618509373320197, 0.992851734643255, 0.9928508900001884]\n"
     ]
    },
    {
     "name": "stderr",
     "output_type": "stream",
     "text": [
      "Progress:  54%|█████▍    | 541/1000 [3:39:20<2:59:28, 23.46s/it]"
     ]
    },
    {
     "name": "stdout",
     "output_type": "stream",
     "text": [
      "Time to: Calculate Ground State - 1.63s, Get Pauli Ops - 12.62s, Calculate Pauli Expectation Values - 5.3s, Calculate Covariance - 2.73s\n",
      "f0,f1,f2 = [4.052837405304457e-10, 4.0530025672429644e-10, 1.679325432783817e-10]\n",
      "d01,d02,d12 = [0.9644332254095599, 0.99430531430266, 0.9943043683255863]\n"
     ]
    },
    {
     "name": "stderr",
     "output_type": "stream",
     "text": [
      "Progress:  54%|█████▍    | 542/1000 [3:39:43<2:58:35, 23.40s/it]"
     ]
    },
    {
     "name": "stdout",
     "output_type": "stream",
     "text": [
      "Time to: Calculate Ground State - 1.14s, Get Pauli Ops - 13.82s, Calculate Pauli Expectation Values - 5.11s, Calculate Covariance - 3.17s\n",
      "f0,f1,f2 = [3.953875794552508e-10, 3.953531042576109e-10, 2.31193518271836e-10]\n",
      "d01,d02,d12 = [0.9671601993792887, 0.9957061693812698, 0.9957051147424139]\n"
     ]
    },
    {
     "name": "stderr",
     "output_type": "stream",
     "text": [
      "Progress:  54%|█████▍    | 543/1000 [3:40:05<2:55:41, 23.07s/it]"
     ]
    },
    {
     "name": "stdout",
     "output_type": "stream",
     "text": [
      "Time to: Calculate Ground State - 1.18s, Get Pauli Ops - 12.7s, Calculate Pauli Expectation Values - 5.34s, Calculate Covariance - 3.06s\n",
      "f0,f1,f2 = [3.0421692072666223e-10, 3.042124426115075e-10, 2.883030914708354e-10]\n",
      "d01,d02,d12 = [0.9699767332060988, 0.9970338940989406, 0.9970327566393676]\n"
     ]
    },
    {
     "name": "stderr",
     "output_type": "stream",
     "text": [
      "Progress:  54%|█████▍    | 544/1000 [3:40:27<2:51:36, 22.58s/it]"
     ]
    },
    {
     "name": "stdout",
     "output_type": "stream",
     "text": [
      "Time to: Calculate Ground State - 0.79s, Get Pauli Ops - 12.7s, Calculate Pauli Expectation Values - 4.98s, Calculate Covariance - 2.97s\n",
      "f0,f1,f2 = [5.099464304972538e-10, 5.099479408518875e-10, 3.6537240956607205e-10]\n",
      "d01,d02,d12 = [0.9729365947865778, 0.9982160560215187, 0.9982146952869032]\n"
     ]
    },
    {
     "name": "stderr",
     "output_type": "stream",
     "text": [
      "Progress:  55%|█████▍    | 545/1000 [3:40:53<2:59:51, 23.72s/it]"
     ]
    },
    {
     "name": "stdout",
     "output_type": "stream",
     "text": [
      "Time to: Calculate Ground State - 1.48s, Get Pauli Ops - 15.75s, Calculate Pauli Expectation Values - 6.31s, Calculate Covariance - 2.81s\n",
      "f0,f1,f2 = [1.0056994956768491e-10, 1.0042479240385537e-10, 4.1811302983388013e-10]\n",
      "d01,d02,d12 = [0.9759392794673144, 0.9992809131624465, 0.9992793792388203]\n"
     ]
    },
    {
     "name": "stderr",
     "output_type": "stream",
     "text": [
      "Progress:  55%|█████▍    | 546/1000 [3:41:19<3:03:56, 24.31s/it]"
     ]
    },
    {
     "name": "stdout",
     "output_type": "stream",
     "text": [
      "Time to: Calculate Ground State - 1.14s, Get Pauli Ops - 16.12s, Calculate Pauli Expectation Values - 5.19s, Calculate Covariance - 3.22s\n",
      "f0,f1,f2 = [2.691078993876757e-10, 2.69116035144991e-10, 4.56753883343387e-10]\n",
      "d01,d02,d12 = [0.9789595818702967, 1.0001866670717536, 1.0001849396118392]\n"
     ]
    },
    {
     "name": "stderr",
     "output_type": "stream",
     "text": [
      "Progress:  55%|█████▍    | 547/1000 [3:41:46<3:09:04, 25.04s/it]"
     ]
    },
    {
     "name": "stdout",
     "output_type": "stream",
     "text": [
      "Time to: Calculate Ground State - 1.17s, Get Pauli Ops - 16.42s, Calculate Pauli Expectation Values - 5.77s, Calculate Covariance - 3.38s\n",
      "f0,f1,f2 = [4.650159126096703e-10, 4.651900876375109e-10, 4.685807323705957e-10]\n",
      "d01,d02,d12 = [0.9819931112346897, 1.0008999637127727, 1.0008979161568738]\n"
     ]
    },
    {
     "name": "stderr",
     "output_type": "stream",
     "text": [
      "Progress:  55%|█████▍    | 548/1000 [3:42:15<3:18:25, 26.34s/it]"
     ]
    },
    {
     "name": "stdout",
     "output_type": "stream",
     "text": [
      "Time to: Calculate Ground State - 1.6s, Get Pauli Ops - 18.95s, Calculate Pauli Expectation Values - 5.17s, Calculate Covariance - 3.63s\n",
      "f0,f1,f2 = [3.365645480863627e-10, 3.36655952151236e-10, 5.536874554010344e-10]\n",
      "d01,d02,d12 = [0.984977624471741, 1.0014034850986913, 1.0014010518667]\n"
     ]
    },
    {
     "name": "stderr",
     "output_type": "stream",
     "text": [
      "Progress:  55%|█████▍    | 549/1000 [3:42:42<3:19:11, 26.50s/it]"
     ]
    },
    {
     "name": "stdout",
     "output_type": "stream",
     "text": [
      "Time to: Calculate Ground State - 1.18s, Get Pauli Ops - 16.64s, Calculate Pauli Expectation Values - 5.44s, Calculate Covariance - 3.6s\n",
      "f0,f1,f2 = [4.52688493836642e-10, 4.5303232493542584e-10, 5.668435219036898e-10]\n",
      "d01,d02,d12 = [0.9878281408229923, 1.0016738892610366, 1.0016710190671332]\n"
     ]
    },
    {
     "name": "stderr",
     "output_type": "stream",
     "text": [
      "Progress:  55%|█████▌    | 550/1000 [3:43:12<3:25:49, 27.44s/it]"
     ]
    },
    {
     "name": "stdout",
     "output_type": "stream",
     "text": [
      "Time to: Calculate Ground State - 1.54s, Get Pauli Ops - 18.26s, Calculate Pauli Expectation Values - 6.8s, Calculate Covariance - 3.04s\n",
      "f0,f1,f2 = [3.727474311753292e-10, 3.726759252429626e-10, 5.571906820004224e-10]\n",
      "d01,d02,d12 = [0.9907140500788415, 1.001726747351579, 1.0017232101440783]\n"
     ]
    },
    {
     "name": "stderr",
     "output_type": "stream",
     "text": [
      "Progress:  55%|█████▌    | 551/1000 [3:43:42<3:32:21, 28.38s/it]"
     ]
    },
    {
     "name": "stdout",
     "output_type": "stream",
     "text": [
      "Time to: Calculate Ground State - 1.12s, Get Pauli Ops - 21.54s, Calculate Pauli Expectation Values - 4.91s, Calculate Covariance - 2.99s\n",
      "f0,f1,f2 = [1.0582933680004894e-09, 1.057443354944159e-09, 6.191252839527281e-10]\n",
      "d01,d02,d12 = [0.9931429394995671, 1.0015700072571088, 1.0015661523018629]\n"
     ]
    },
    {
     "name": "stderr",
     "output_type": "stream",
     "text": [
      "Progress:  55%|█████▌    | 552/1000 [3:44:08<3:25:39, 27.54s/it]"
     ]
    },
    {
     "name": "stdout",
     "output_type": "stream",
     "text": [
      "Time to: Calculate Ground State - 1.3s, Get Pauli Ops - 16.54s, Calculate Pauli Expectation Values - 5.1s, Calculate Covariance - 2.64s\n",
      "f0,f1,f2 = [9.841840485486521e-10, 9.83764838425559e-10, 5.742206249324701e-10]\n",
      "d01,d02,d12 = [0.9951861252710563, 1.0012654013943807, 1.0012614283183419]\n"
     ]
    },
    {
     "name": "stderr",
     "output_type": "stream",
     "text": [
      "Progress:  55%|█████▌    | 553/1000 [3:44:34<3:22:27, 27.17s/it]"
     ]
    },
    {
     "name": "stdout",
     "output_type": "stream",
     "text": [
      "Time to: Calculate Ground State - 1.38s, Get Pauli Ops - 16.6s, Calculate Pauli Expectation Values - 5.0s, Calculate Covariance - 3.33s\n",
      "f0,f1,f2 = [4.2838855072002734e-10, 4.2805228105329685e-10, 2.0349032116336829e-10]\n",
      "d01,d02,d12 = [0.9970514450149528, 1.0008302653629766, 1.0008263100650747]\n"
     ]
    },
    {
     "name": "stderr",
     "output_type": "stream",
     "text": [
      "Progress:  55%|█████▌    | 554/1000 [3:44:59<3:16:16, 26.41s/it]"
     ]
    },
    {
     "name": "stdout",
     "output_type": "stream",
     "text": [
      "Time to: Calculate Ground State - 1.06s, Get Pauli Ops - 15.34s, Calculate Pauli Expectation Values - 5.13s, Calculate Covariance - 3.08s\n",
      "f0,f1,f2 = [6.118859722375359e-10, 6.114936540260715e-10, 1.2049316988424998e-10]\n",
      "d01,d02,d12 = [0.9987281898986984, 1.0002551271520426, 1.0002512338670273]\n"
     ]
    },
    {
     "name": "stderr",
     "output_type": "stream",
     "text": [
      "Progress:  56%|█████▌    | 555/1000 [3:45:25<3:15:22, 26.34s/it]"
     ]
    },
    {
     "name": "stdout",
     "output_type": "stream",
     "text": [
      "Time to: Calculate Ground State - 0.89s, Get Pauli Ops - 13.58s, Calculate Pauli Expectation Values - 8.91s, Calculate Covariance - 2.81s\n",
      "f0,f1,f2 = [6.733748739548545e-10, 6.731635006166012e-10, 2.928602656140276e-10]\n",
      "d01,d02,d12 = [1.0001261551597422, 0.9992616465432133, 0.9992576373843143]\n"
     ]
    },
    {
     "name": "stderr",
     "output_type": "stream",
     "text": [
      "Progress:  56%|█████▌    | 556/1000 [3:45:48<3:07:49, 25.38s/it]"
     ]
    },
    {
     "name": "stdout",
     "output_type": "stream",
     "text": [
      "Time to: Calculate Ground State - 1.1s, Get Pauli Ops - 13.42s, Calculate Pauli Expectation Values - 5.33s, Calculate Covariance - 3.28s\n",
      "f0,f1,f2 = [1.0624615688550586e-09, 1.0627614531729945e-09, 2.2275826288167936e-10]\n",
      "d01,d02,d12 = [1.0012166413520105, 0.9979458622754219, 0.997941833436037]\n"
     ]
    },
    {
     "name": "stderr",
     "output_type": "stream",
     "text": [
      "Progress:  56%|█████▌    | 557/1000 [3:46:10<2:59:53, 24.36s/it]"
     ]
    },
    {
     "name": "stdout",
     "output_type": "stream",
     "text": [
      "Time to: Calculate Ground State - 1.04s, Get Pauli Ops - 13.01s, Calculate Pauli Expectation Values - 5.32s, Calculate Covariance - 2.61s\n",
      "f0,f1,f2 = [6.015567974962462e-10, 6.018033309180567e-10, 2.5984710687334345e-10]\n",
      "d01,d02,d12 = [1.0019905104902433, 0.9962471755992104, 0.9962431633168976]\n"
     ]
    },
    {
     "name": "stderr",
     "output_type": "stream",
     "text": [
      "Progress:  56%|█████▌    | 558/1000 [3:46:37<3:04:27, 25.04s/it]"
     ]
    },
    {
     "name": "stdout",
     "output_type": "stream",
     "text": [
      "Time to: Calculate Ground State - 0.85s, Get Pauli Ops - 14.67s, Calculate Pauli Expectation Values - 7.41s, Calculate Covariance - 3.68s\n",
      "f0,f1,f2 = [3.0106785433413763e-10, 3.0211517221007303e-10, 1.5050537276738494e-09]\n",
      "d01,d02,d12 = [1.0024805455519405, 0.9944976690259475, 0.994493514652206]\n"
     ]
    },
    {
     "name": "stderr",
     "output_type": "stream",
     "text": [
      "Progress:  56%|█████▌    | 559/1000 [3:46:59<2:59:23, 24.41s/it]"
     ]
    },
    {
     "name": "stdout",
     "output_type": "stream",
     "text": [
      "Time to: Calculate Ground State - 1.19s, Get Pauli Ops - 13.07s, Calculate Pauli Expectation Values - 5.37s, Calculate Covariance - 3.28s\n",
      "f0,f1,f2 = [5.766350024312233e-10, 5.766060780538079e-10, 5.5224288505885915e-11]\n",
      "d01,d02,d12 = [1.0026853720248525, 0.9927454196504577, 0.9927410932532029]\n"
     ]
    },
    {
     "name": "stderr",
     "output_type": "stream",
     "text": [
      "Progress:  56%|█████▌    | 560/1000 [3:47:23<2:56:49, 24.11s/it]"
     ]
    },
    {
     "name": "stdout",
     "output_type": "stream",
     "text": [
      "Time to: Calculate Ground State - 1.09s, Get Pauli Ops - 14.04s, Calculate Pauli Expectation Values - 4.93s, Calculate Covariance - 3.35s\n",
      "f0,f1,f2 = [1.5844474830657921e-09, 1.5830983516483763e-09, 2.892588779110791e-10]\n",
      "d01,d02,d12 = [1.003750739562687, 0.9907956598547579, 0.9907919482622926]\n"
     ]
    },
    {
     "name": "stderr",
     "output_type": "stream",
     "text": [
      "Progress:  56%|█████▌    | 561/1000 [3:47:48<2:58:00, 24.33s/it]"
     ]
    },
    {
     "name": "stdout",
     "output_type": "stream",
     "text": [
      "Time to: Calculate Ground State - 1.43s, Get Pauli Ops - 14.78s, Calculate Pauli Expectation Values - 5.08s, Calculate Covariance - 3.54s\n",
      "f0,f1,f2 = [4.397901565973736e-10, 4.3910775282254084e-10, 2.843078385437791e-10]\n",
      "d01,d02,d12 = [1.0049368319631673, 0.9886871335283509, 0.9886846197762338]\n"
     ]
    },
    {
     "name": "stderr",
     "output_type": "stream",
     "text": [
      "Progress:  56%|█████▌    | 562/1000 [3:48:12<2:57:26, 24.31s/it]"
     ]
    },
    {
     "name": "stdout",
     "output_type": "stream",
     "text": [
      "Time to: Calculate Ground State - 0.99s, Get Pauli Ops - 13.68s, Calculate Pauli Expectation Values - 6.66s, Calculate Covariance - 2.92s\n",
      "f0,f1,f2 = [5.661881483317118e-10, 5.664298223950189e-10, 1.6512625497001056e-10]\n",
      "d01,d02,d12 = [1.005874048141984, 0.9864982655927497, 0.986496876023378]\n"
     ]
    },
    {
     "name": "stderr",
     "output_type": "stream",
     "text": [
      "Progress:  56%|█████▋    | 563/1000 [3:48:35<2:53:29, 23.82s/it]"
     ]
    },
    {
     "name": "stdout",
     "output_type": "stream",
     "text": [
      "Time to: Calculate Ground State - 0.87s, Get Pauli Ops - 13.22s, Calculate Pauli Expectation Values - 5.45s, Calculate Covariance - 3.14s\n",
      "f0,f1,f2 = [3.447987643553587e-10, 3.4423332099811285e-10, 7.481577836627069e-11]\n",
      "d01,d02,d12 = [1.006722273750871, 0.9842140968535211, 0.9842140196833404]\n"
     ]
    },
    {
     "name": "stderr",
     "output_type": "stream",
     "text": [
      "Progress:  56%|█████▋    | 564/1000 [3:48:57<2:50:45, 23.50s/it]"
     ]
    },
    {
     "name": "stdout",
     "output_type": "stream",
     "text": [
      "Time to: Calculate Ground State - 1.35s, Get Pauli Ops - 12.86s, Calculate Pauli Expectation Values - 6.0s, Calculate Covariance - 2.54s\n",
      "f0,f1,f2 = [2.958195971905031e-10, 2.9580673706002256e-10, 4.830305508405014e-11]\n",
      "d01,d02,d12 = [1.0074423193601438, 0.9818865431052858, 0.9818877848260962]\n"
     ]
    },
    {
     "name": "stderr",
     "output_type": "stream",
     "text": [
      "Progress:  56%|█████▋    | 565/1000 [3:49:19<2:45:09, 22.78s/it]"
     ]
    },
    {
     "name": "stdout",
     "output_type": "stream",
     "text": [
      "Time to: Calculate Ground State - 0.86s, Get Pauli Ops - 12.56s, Calculate Pauli Expectation Values - 5.14s, Calculate Covariance - 2.54s\n",
      "f0,f1,f2 = [2.211752598564359e-10, 2.216335736068004e-10, 7.636666620157053e-11]\n",
      "d01,d02,d12 = [1.0080805817238845, 0.9795303165156287, 0.9795327158705556]\n"
     ]
    },
    {
     "name": "stderr",
     "output_type": "stream",
     "text": [
      "Progress:  57%|█████▋    | 566/1000 [3:49:43<2:47:27, 23.15s/it]"
     ]
    },
    {
     "name": "stdout",
     "output_type": "stream",
     "text": [
      "Time to: Calculate Ground State - 1.12s, Get Pauli Ops - 14.53s, Calculate Pauli Expectation Values - 5.24s, Calculate Covariance - 3.11s\n",
      "f0,f1,f2 = [3.3028102325242305e-10, 3.304101117728777e-10, 1.575605112338992e-10]\n",
      "d01,d02,d12 = [1.0085694983157232, 0.9771950535438675, 0.977198533324269]\n"
     ]
    },
    {
     "name": "stderr",
     "output_type": "stream",
     "text": [
      "Progress:  57%|█████▋    | 567/1000 [3:50:06<2:48:40, 23.37s/it]"
     ]
    },
    {
     "name": "stdout",
     "output_type": "stream",
     "text": [
      "Time to: Calculate Ground State - 1.24s, Get Pauli Ops - 14.58s, Calculate Pauli Expectation Values - 5.45s, Calculate Covariance - 2.62s\n",
      "f0,f1,f2 = [3.493182252502767e-10, 3.492871937230347e-10, 2.424704159662055e-10]\n",
      "d01,d02,d12 = [1.0089173461687864, 0.9749199417747171, 0.9749244876594286]\n"
     ]
    },
    {
     "name": "stderr",
     "output_type": "stream",
     "text": [
      "Progress:  57%|█████▋    | 568/1000 [3:50:28<2:44:31, 22.85s/it]"
     ]
    },
    {
     "name": "stdout",
     "output_type": "stream",
     "text": [
      "Time to: Calculate Ground State - 0.86s, Get Pauli Ops - 12.2s, Calculate Pauli Expectation Values - 4.97s, Calculate Covariance - 3.59s\n",
      "f0,f1,f2 = [4.501275599716532e-10, 4.4992907920797343e-10, 3.4456533307563175e-10]\n",
      "d01,d02,d12 = [1.0090923173123658, 0.9727479368665561, 0.9727538582955619]\n"
     ]
    },
    {
     "name": "stderr",
     "output_type": "stream",
     "text": [
      "Progress:  57%|█████▋    | 569/1000 [3:50:51<2:44:39, 22.92s/it]"
     ]
    },
    {
     "name": "stdout",
     "output_type": "stream",
     "text": [
      "Time to: Calculate Ground State - 0.94s, Get Pauli Ops - 13.59s, Calculate Pauli Expectation Values - 5.29s, Calculate Covariance - 3.26s\n",
      "f0,f1,f2 = [4.1558186404770115e-10, 4.1551212318913445e-10, 4.5117971310366716e-10]\n",
      "d01,d02,d12 = [1.0091223393405298, 0.9707075070455669, 0.9707149913997793]\n"
     ]
    },
    {
     "name": "stderr",
     "output_type": "stream",
     "text": [
      "Progress:  57%|█████▋    | 570/1000 [3:51:13<2:42:19, 22.65s/it]"
     ]
    },
    {
     "name": "stdout",
     "output_type": "stream",
     "text": [
      "Time to: Calculate Ground State - 1.27s, Get Pauli Ops - 13.22s, Calculate Pauli Expectation Values - 4.7s, Calculate Covariance - 2.81s\n",
      "f0,f1,f2 = [2.7669722073033194e-10, 2.7659335002112346e-10, 5.038530189635943e-10]\n",
      "d01,d02,d12 = [1.0090732202695814, 0.9688068148675267, 0.9688155018301711]\n"
     ]
    },
    {
     "name": "stderr",
     "output_type": "stream",
     "text": [
      "Progress:  57%|█████▋    | 571/1000 [3:51:36<2:42:30, 22.73s/it]"
     ]
    },
    {
     "name": "stdout",
     "output_type": "stream",
     "text": [
      "Time to: Calculate Ground State - 1.73s, Get Pauli Ops - 13.3s, Calculate Pauli Expectation Values - 4.94s, Calculate Covariance - 2.94s\n",
      "f0,f1,f2 = [4.189327187318631e-10, 4.189482024681808e-10, 5.659946621419477e-10]\n",
      "d01,d02,d12 = [1.0089142844322143, 0.9670802649308158, 0.9670904945513201]\n"
     ]
    },
    {
     "name": "stderr",
     "output_type": "stream",
     "text": [
      "Progress:  57%|█████▋    | 572/1000 [3:51:57<2:38:43, 22.25s/it]"
     ]
    },
    {
     "name": "stdout",
     "output_type": "stream",
     "text": [
      "Time to: Calculate Ground State - 0.94s, Get Pauli Ops - 12.53s, Calculate Pauli Expectation Values - 4.67s, Calculate Covariance - 2.99s\n",
      "f0,f1,f2 = [3.763609683238655e-10, 3.763144996325122e-10, 6.427509827610569e-10]\n",
      "d01,d02,d12 = [1.0086761462873732, 0.9655444666978842, 0.9655562152979346]\n"
     ]
    },
    {
     "name": "stderr",
     "output_type": "stream",
     "text": [
      "Progress:  57%|█████▋    | 573/1000 [3:52:23<2:46:24, 23.38s/it]"
     ]
    },
    {
     "name": "stdout",
     "output_type": "stream",
     "text": [
      "Time to: Calculate Ground State - 1.27s, Get Pauli Ops - 16.98s, Calculate Pauli Expectation Values - 4.53s, Calculate Covariance - 3.24s\n",
      "f0,f1,f2 = [4.106801910014124e-10, 4.109554002101116e-10, 7.101478547559808e-10]\n",
      "d01,d02,d12 = [1.0083728884989862, 0.9642279878234536, 0.9642415450722478]\n"
     ]
    },
    {
     "name": "stderr",
     "output_type": "stream",
     "text": [
      "Progress:  57%|█████▋    | 574/1000 [3:52:46<2:45:06, 23.25s/it]"
     ]
    },
    {
     "name": "stdout",
     "output_type": "stream",
     "text": [
      "Time to: Calculate Ground State - 1.57s, Get Pauli Ops - 13.97s, Calculate Pauli Expectation Values - 4.96s, Calculate Covariance - 2.45s\n",
      "f0,f1,f2 = [4.173574902106013e-10, 4.1721034729634766e-10, 7.909428587105701e-10]\n",
      "d01,d02,d12 = [1.0080074900760372, 0.9631479939132993, 0.963163214511231]\n"
     ]
    },
    {
     "name": "stderr",
     "output_type": "stream",
     "text": [
      "Progress:  57%|█████▊    | 575/1000 [3:53:07<2:39:43, 22.55s/it]"
     ]
    },
    {
     "name": "stdout",
     "output_type": "stream",
     "text": [
      "Time to: Calculate Ground State - 0.95s, Get Pauli Ops - 12.91s, Calculate Pauli Expectation Values - 4.71s, Calculate Covariance - 2.33s\n",
      "f0,f1,f2 = [4.5318460810922765e-10, 4.540733486254604e-10, 8.064361573262262e-10]\n",
      "d01,d02,d12 = [1.0076062166275417, 0.9623252016120754, 0.9623426859306227]\n"
     ]
    },
    {
     "name": "stderr",
     "output_type": "stream",
     "text": [
      "Progress:  58%|█████▊    | 576/1000 [3:53:32<2:44:18, 23.25s/it]"
     ]
    },
    {
     "name": "stdout",
     "output_type": "stream",
     "text": [
      "Time to: Calculate Ground State - 1.28s, Get Pauli Ops - 15.14s, Calculate Pauli Expectation Values - 5.08s, Calculate Covariance - 3.39s\n",
      "f0,f1,f2 = [4.265760325462804e-10, 4.2622286988793235e-10, 8.557769856436117e-10]\n",
      "d01,d02,d12 = [1.0071897952270221, 0.9617655118645413, 0.961785074137905]\n"
     ]
    },
    {
     "name": "stderr",
     "output_type": "stream",
     "text": [
      "Progress:  58%|█████▊    | 577/1000 [3:53:56<2:44:39, 23.36s/it]"
     ]
    },
    {
     "name": "stdout",
     "output_type": "stream",
     "text": [
      "Time to: Calculate Ground State - 1.69s, Get Pauli Ops - 12.65s, Calculate Pauli Expectation Values - 5.48s, Calculate Covariance - 3.77s\n",
      "f0,f1,f2 = [3.861229250216234e-10, 3.8388534586743494e-10, 8.408485680853396e-10]\n",
      "d01,d02,d12 = [1.0067832438057653, 0.9614605507676389, 0.9614811736797492]\n"
     ]
    },
    {
     "name": "stderr",
     "output_type": "stream",
     "text": [
      "Progress:  58%|█████▊    | 578/1000 [3:54:21<2:48:06, 23.90s/it]"
     ]
    },
    {
     "name": "stdout",
     "output_type": "stream",
     "text": [
      "Time to: Calculate Ground State - 1.31s, Get Pauli Ops - 15.34s, Calculate Pauli Expectation Values - 5.4s, Calculate Covariance - 3.11s\n",
      "f0,f1,f2 = [4.5393030865828625e-10, 4.5439429077532125e-10, 8.724581766211793e-10]\n",
      "d01,d02,d12 = [1.0063646409280327, 0.9614265039774762, 0.9614484350622462]\n"
     ]
    },
    {
     "name": "stderr",
     "output_type": "stream",
     "text": [
      "Progress:  58%|█████▊    | 579/1000 [3:54:44<2:46:13, 23.69s/it]"
     ]
    },
    {
     "name": "stdout",
     "output_type": "stream",
     "text": [
      "Time to: Calculate Ground State - 1.22s, Get Pauli Ops - 13.73s, Calculate Pauli Expectation Values - 5.52s, Calculate Covariance - 2.71s\n",
      "f0,f1,f2 = [4.62870863596079e-10, 4.635240027685421e-10, 8.761299304549174e-10]\n",
      "d01,d02,d12 = [1.0059248343684817, 0.9616627180528324, 0.9616863163946543]\n"
     ]
    },
    {
     "name": "stderr",
     "output_type": "stream",
     "text": [
      "Progress:  58%|█████▊    | 580/1000 [3:55:11<2:53:21, 24.77s/it]"
     ]
    },
    {
     "name": "stdout",
     "output_type": "stream",
     "text": [
      "Time to: Calculate Ground State - 1.37s, Get Pauli Ops - 18.31s, Calculate Pauli Expectation Values - 4.8s, Calculate Covariance - 2.79s\n",
      "f0,f1,f2 = [4.0744500668959437e-10, 4.065988142417955e-10, 8.337148757149664e-10]\n",
      "d01,d02,d12 = [1.005492789939176, 0.9621519431686582, 0.9621768719672054]\n"
     ]
    },
    {
     "name": "stderr",
     "output_type": "stream",
     "text": [
      "Progress:  58%|█████▊    | 581/1000 [3:55:35<2:50:36, 24.43s/it]"
     ]
    },
    {
     "name": "stdout",
     "output_type": "stream",
     "text": [
      "Time to: Calculate Ground State - 1.33s, Get Pauli Ops - 15.32s, Calculate Pauli Expectation Values - 4.64s, Calculate Covariance - 2.35s\n",
      "f0,f1,f2 = [3.945238367374745e-10, 3.921647458025699e-10, 8.51159628577296e-10]\n",
      "d01,d02,d12 = [1.005068421657173, 0.9628921739260381, 0.962917402884554]\n"
     ]
    },
    {
     "name": "stderr",
     "output_type": "stream",
     "text": [
      "Progress:  58%|█████▊    | 582/1000 [3:56:01<2:52:59, 24.83s/it]"
     ]
    },
    {
     "name": "stdout",
     "output_type": "stream",
     "text": [
      "Time to: Calculate Ground State - 1.57s, Get Pauli Ops - 16.06s, Calculate Pauli Expectation Values - 4.62s, Calculate Covariance - 3.51s\n",
      "f0,f1,f2 = [3.780899340981298e-10, 3.753594947045556e-10, 8.281201001352748e-10]\n",
      "d01,d02,d12 = [1.0046432875416178, 0.9638714330324502, 0.9638957911650182]\n"
     ]
    },
    {
     "name": "stderr",
     "output_type": "stream",
     "text": [
      "Progress:  58%|█████▊    | 583/1000 [3:56:26<2:53:12, 24.92s/it]"
     ]
    },
    {
     "name": "stdout",
     "output_type": "stream",
     "text": [
      "Time to: Calculate Ground State - 0.98s, Get Pauli Ops - 16.04s, Calculate Pauli Expectation Values - 4.85s, Calculate Covariance - 3.26s\n",
      "f0,f1,f2 = [3.6193084438204873e-10, 3.6071031475908157e-10, 7.596201473178575e-10]\n",
      "d01,d02,d12 = [1.0042065850239479, 0.9650693693872856, 0.9650923272296934]\n"
     ]
    },
    {
     "name": "stderr",
     "output_type": "stream",
     "text": [
      "Progress:  58%|█████▊    | 584/1000 [3:56:50<2:50:20, 24.57s/it]"
     ]
    },
    {
     "name": "stdout",
     "output_type": "stream",
     "text": [
      "Time to: Calculate Ground State - 1.45s, Get Pauli Ops - 14.36s, Calculate Pauli Expectation Values - 4.76s, Calculate Covariance - 3.17s\n",
      "f0,f1,f2 = [3.4487383652545344e-10, 3.4301025443021146e-10, 7.560753973651318e-10]\n",
      "d01,d02,d12 = [1.0037653921957121, 0.9664802907474316, 0.9665009238746013]\n"
     ]
    },
    {
     "name": "stderr",
     "output_type": "stream",
     "text": [
      "Progress:  58%|█████▊    | 585/1000 [3:57:13<2:48:09, 24.31s/it]"
     ]
    },
    {
     "name": "stdout",
     "output_type": "stream",
     "text": [
      "Time to: Calculate Ground State - 1.51s, Get Pauli Ops - 14.22s, Calculate Pauli Expectation Values - 4.8s, Calculate Covariance - 3.18s\n",
      "f0,f1,f2 = [3.2465385448370237e-10, 3.2354739174842695e-10, 6.896364668468717e-10]\n",
      "d01,d02,d12 = [1.003308860931274, 0.9680841907599079, 0.9681019496326226]\n"
     ]
    },
    {
     "name": "stderr",
     "output_type": "stream",
     "text": [
      "Progress:  59%|█████▊    | 586/1000 [3:57:36<2:44:44, 23.87s/it]"
     ]
    },
    {
     "name": "stdout",
     "output_type": "stream",
     "text": [
      "Time to: Calculate Ground State - 0.9s, Get Pauli Ops - 14.99s, Calculate Pauli Expectation Values - 4.62s, Calculate Covariance - 2.35s\n",
      "f0,f1,f2 = [3.814097338111009e-10, 3.8231458674972957e-10, 6.133218341534293e-10]\n",
      "d01,d02,d12 = [1.0027881750129528, 0.9698630952050855, 0.9698787214445057]\n"
     ]
    },
    {
     "name": "stderr",
     "output_type": "stream",
     "text": [
      "Progress:  59%|█████▊    | 587/1000 [3:58:02<2:47:37, 24.35s/it]"
     ]
    },
    {
     "name": "stdout",
     "output_type": "stream",
     "text": [
      "Time to: Calculate Ground State - 1.53s, Get Pauli Ops - 16.8s, Calculate Pauli Expectation Values - 4.51s, Calculate Covariance - 2.62s\n",
      "f0,f1,f2 = [3.187865088647925e-10, 3.1897013229301455e-10, 5.395028040634843e-10]\n",
      "d01,d02,d12 = [1.0022046592528242, 0.9717874888373234, 0.9718012496602854]\n"
     ]
    },
    {
     "name": "stderr",
     "output_type": "stream",
     "text": [
      "Progress:  59%|█████▉    | 588/1000 [3:58:25<2:45:25, 24.09s/it]"
     ]
    },
    {
     "name": "stdout",
     "output_type": "stream",
     "text": [
      "Time to: Calculate Ground State - 1.56s, Get Pauli Ops - 14.28s, Calculate Pauli Expectation Values - 4.84s, Calculate Covariance - 2.8s\n",
      "f0,f1,f2 = [2.7102299501620443e-10, 2.707293172306719e-10, 4.797913543275074e-10]\n",
      "d01,d02,d12 = [1.001546266024003, 0.9738280154803729, 0.9738398993600375]\n"
     ]
    },
    {
     "name": "stderr",
     "output_type": "stream",
     "text": [
      "Progress:  59%|█████▉    | 589/1000 [3:58:49<2:44:18, 23.99s/it]"
     ]
    },
    {
     "name": "stdout",
     "output_type": "stream",
     "text": [
      "Time to: Calculate Ground State - 0.9s, Get Pauli Ops - 14.9s, Calculate Pauli Expectation Values - 4.98s, Calculate Covariance - 2.95s\n",
      "f0,f1,f2 = [1.5494021736270187e-10, 1.5431040591054323e-10, 3.949159986513122e-10]\n",
      "d01,d02,d12 = [1.000846009018822, 0.975955943225329, 0.9759656031315701]\n"
     ]
    },
    {
     "name": "stderr",
     "output_type": "stream",
     "text": [
      "Progress:  59%|█████▉    | 590/1000 [3:59:13<2:44:02, 24.01s/it]"
     ]
    },
    {
     "name": "stdout",
     "output_type": "stream",
     "text": [
      "Time to: Calculate Ground State - 1.55s, Get Pauli Ops - 14.65s, Calculate Pauli Expectation Values - 5.07s, Calculate Covariance - 2.78s\n",
      "f0,f1,f2 = [2.654036825324266e-10, 2.6527569004059944e-10, 3.357531626653685e-10]\n",
      "d01,d02,d12 = [1.000051789068249, 0.9781562154444042, 0.9781637627587372]\n"
     ]
    },
    {
     "name": "stderr",
     "output_type": "stream",
     "text": [
      "Progress:  59%|█████▉    | 591/1000 [3:59:35<2:40:40, 23.57s/it]"
     ]
    },
    {
     "name": "stdout",
     "output_type": "stream",
     "text": [
      "Time to: Calculate Ground State - 0.87s, Get Pauli Ops - 12.87s, Calculate Pauli Expectation Values - 5.88s, Calculate Covariance - 2.93s\n",
      "f0,f1,f2 = [1.689103029499093e-10, 1.6902739710854548e-10, 2.3066846075683108e-10]\n",
      "d01,d02,d12 = [0.9991546045214803, 0.9803830430811641, 0.9803884187622813]\n"
     ]
    },
    {
     "name": "stderr",
     "output_type": "stream",
     "text": [
      "Progress:  59%|█████▉    | 592/1000 [4:00:00<2:41:59, 23.82s/it]"
     ]
    },
    {
     "name": "stdout",
     "output_type": "stream",
     "text": [
      "Time to: Calculate Ground State - 1.26s, Get Pauli Ops - 14.63s, Calculate Pauli Expectation Values - 5.37s, Calculate Covariance - 3.15s\n",
      "f0,f1,f2 = [1.0197419762034194e-10, 1.0235504468331731e-10, 1.4640401794612884e-10]\n",
      "d01,d02,d12 = [0.9982415515269901, 0.9826171866702053, 0.9826201283067688]\n"
     ]
    },
    {
     "name": "stderr",
     "output_type": "stream",
     "text": [
      "Progress:  59%|█████▉    | 593/1000 [4:00:25<2:44:28, 24.25s/it]"
     ]
    },
    {
     "name": "stdout",
     "output_type": "stream",
     "text": [
      "Time to: Calculate Ground State - 1.0s, Get Pauli Ops - 15.16s, Calculate Pauli Expectation Values - 6.1s, Calculate Covariance - 2.97s\n",
      "f0,f1,f2 = [4.4896051795079167e-10, 4.487612273952904e-10, 5.4372992820972975e-11]\n",
      "d01,d02,d12 = [0.9970908462071763, 0.9848531292376974, 0.9848538911192585]\n"
     ]
    },
    {
     "name": "stderr",
     "output_type": "stream",
     "text": [
      "Progress:  59%|█████▉    | 594/1000 [4:00:50<2:45:05, 24.40s/it]"
     ]
    },
    {
     "name": "stdout",
     "output_type": "stream",
     "text": [
      "Time to: Calculate Ground State - 1.0s, Get Pauli Ops - 14.64s, Calculate Pauli Expectation Values - 5.85s, Calculate Covariance - 3.24s\n",
      "f0,f1,f2 = [2.639394272172398e-10, 2.639968297615117e-10, 8.886943974141888e-12]\n",
      "d01,d02,d12 = [0.9960681760337234, 0.9870256277138727, 0.9870241316553786]\n"
     ]
    },
    {
     "name": "stderr",
     "output_type": "stream",
     "text": [
      "Progress:  60%|█████▉    | 595/1000 [4:01:15<2:46:41, 24.69s/it]"
     ]
    },
    {
     "name": "stdout",
     "output_type": "stream",
     "text": [
      "Time to: Calculate Ground State - 1.09s, Get Pauli Ops - 15.79s, Calculate Pauli Expectation Values - 5.6s, Calculate Covariance - 2.89s\n",
      "f0,f1,f2 = [5.399602316252525e-10, 5.397637626554775e-10, 8.03858536884184e-11]\n",
      "d01,d02,d12 = [0.9952950766087363, 0.9890720862956627, 0.9890684417598868]\n"
     ]
    },
    {
     "name": "stderr",
     "output_type": "stream",
     "text": [
      "Progress:  60%|█████▉    | 596/1000 [4:01:40<2:46:02, 24.66s/it]"
     ]
    },
    {
     "name": "stdout",
     "output_type": "stream",
     "text": [
      "Time to: Calculate Ground State - 1.04s, Get Pauli Ops - 14.83s, Calculate Pauli Expectation Values - 5.35s, Calculate Covariance - 3.34s\n",
      "f0,f1,f2 = [4.104965918798888e-10, 4.1014606791351646e-10, 1.108978481932305e-09]\n",
      "d01,d02,d12 = [0.9944375113725098, 0.9908650673484124, 0.990859452681566]\n"
     ]
    },
    {
     "name": "stderr",
     "output_type": "stream",
     "text": [
      "Progress:  60%|█████▉    | 597/1000 [4:02:04<2:45:20, 24.62s/it]"
     ]
    },
    {
     "name": "stdout",
     "output_type": "stream",
     "text": [
      "Time to: Calculate Ground State - 1.03s, Get Pauli Ops - 14.9s, Calculate Pauli Expectation Values - 5.86s, Calculate Covariance - 2.72s\n",
      "f0,f1,f2 = [5.183915798609005e-10, 5.194111651574116e-10, 4.5943418611574827e-10]\n",
      "d01,d02,d12 = [0.993243543147155, 0.9922762626677236, 0.992268694565511]\n"
     ]
    },
    {
     "name": "stderr",
     "output_type": "stream",
     "text": [
      "Progress:  60%|█████▉    | 598/1000 [4:02:31<2:49:16, 25.26s/it]"
     ]
    },
    {
     "name": "stdout",
     "output_type": "stream",
     "text": [
      "Time to: Calculate Ground State - 0.99s, Get Pauli Ops - 17.59s, Calculate Pauli Expectation Values - 5.11s, Calculate Covariance - 3.08s\n",
      "f0,f1,f2 = [3.690025980482635e-10, 3.696106318556519e-10, 7.442788567433487e-10]\n",
      "d01,d02,d12 = [0.9919546211180652, 0.9935136306453136, 0.9935047275170825]\n"
     ]
    },
    {
     "name": "stderr",
     "output_type": "stream",
     "text": [
      "Progress:  60%|█████▉    | 599/1000 [4:02:57<2:50:07, 25.46s/it]"
     ]
    },
    {
     "name": "stdout",
     "output_type": "stream",
     "text": [
      "Time to: Calculate Ground State - 1.0s, Get Pauli Ops - 15.72s, Calculate Pauli Expectation Values - 6.14s, Calculate Covariance - 3.04s\n",
      "f0,f1,f2 = [2.6484088546134887e-10, 2.6461525871325985e-10, 3.895301936407493e-10]\n",
      "d01,d02,d12 = [0.9905483393077498, 0.9946032553116791, 0.9945930565058548]\n"
     ]
    },
    {
     "name": "stderr",
     "output_type": "stream",
     "text": [
      "Progress:  60%|██████    | 600/1000 [4:03:24<2:51:53, 25.78s/it]"
     ]
    },
    {
     "name": "stdout",
     "output_type": "stream",
     "text": [
      "Time to: Calculate Ground State - 1.1s, Get Pauli Ops - 16.71s, Calculate Pauli Expectation Values - 5.55s, Calculate Covariance - 3.17s\n",
      "f0,f1,f2 = [5.794629325704188e-10, 5.77997077471567e-10, 1.413786917118467e-09]\n",
      "d01,d02,d12 = [0.988967736797102, 0.9954920433903404, 0.9954806269864679]\n"
     ]
    },
    {
     "name": "stderr",
     "output_type": "stream",
     "text": [
      "Progress:  60%|██████    | 601/1000 [4:03:48<2:47:57, 25.26s/it]"
     ]
    },
    {
     "name": "stdout",
     "output_type": "stream",
     "text": [
      "Time to: Calculate Ground State - 1.11s, Get Pauli Ops - 14.05s, Calculate Pauli Expectation Values - 5.65s, Calculate Covariance - 3.21s\n",
      "f0,f1,f2 = [3.3332101906294963e-10, 3.3415938185449265e-10, 7.891234118770817e-10]\n",
      "d01,d02,d12 = [0.9872994882118022, 0.995994700446976, 0.9959815291169342]\n"
     ]
    },
    {
     "name": "stderr",
     "output_type": "stream",
     "text": [
      "Progress:  60%|██████    | 602/1000 [4:04:11<2:44:13, 24.76s/it]"
     ]
    },
    {
     "name": "stdout",
     "output_type": "stream",
     "text": [
      "Time to: Calculate Ground State - 1.0s, Get Pauli Ops - 14.72s, Calculate Pauli Expectation Values - 5.11s, Calculate Covariance - 2.74s\n",
      "f0,f1,f2 = [1.7482919151928755e-09, 1.7485447695407762e-09, 1.1928107146461767e-09]\n",
      "d01,d02,d12 = [0.984934533099831, 0.9967204391450218, 0.9967068164701893]\n"
     ]
    },
    {
     "name": "stderr",
     "output_type": "stream",
     "text": [
      "Progress:  60%|██████    | 603/1000 [4:04:36<2:43:07, 24.65s/it]"
     ]
    },
    {
     "name": "stdout",
     "output_type": "stream",
     "text": [
      "Time to: Calculate Ground State - 1.02s, Get Pauli Ops - 14.9s, Calculate Pauli Expectation Values - 5.35s, Calculate Covariance - 3.14s\n",
      "f0,f1,f2 = [2.409577846745345e-10, 2.4107523073627326e-10, 4.203435149272547e-10]\n",
      "d01,d02,d12 = [0.9826051056370941, 0.9973029662264185, 0.9972886950606222]\n"
     ]
    },
    {
     "name": "stderr",
     "output_type": "stream",
     "text": [
      "Progress:  60%|██████    | 604/1000 [4:05:02<2:46:21, 25.21s/it]"
     ]
    },
    {
     "name": "stdout",
     "output_type": "stream",
     "text": [
      "Time to: Calculate Ground State - 1.12s, Get Pauli Ops - 17.37s, Calculate Pauli Expectation Values - 5.0s, Calculate Covariance - 2.99s\n",
      "f0,f1,f2 = [5.218642252109688e-10, 5.228617399710806e-10, 4.180484365374345e-10]\n",
      "d01,d02,d12 = [0.9804064822864025, 0.9977167065005349, 0.9977003313090352]\n"
     ]
    },
    {
     "name": "stderr",
     "output_type": "stream",
     "text": [
      "Progress:  60%|██████    | 605/1000 [4:05:30<2:51:37, 26.07s/it]"
     ]
    },
    {
     "name": "stdout",
     "output_type": "stream",
     "text": [
      "Time to: Calculate Ground State - 1.5s, Get Pauli Ops - 14.85s, Calculate Pauli Expectation Values - 8.89s, Calculate Covariance - 2.84s\n",
      "f0,f1,f2 = [2.5941617354753287e-10, 2.600167957412466e-10, 4.151514525439805e-10]\n",
      "d01,d02,d12 = [0.97819396769915, 0.9979912679178574, 0.9979727550735523]\n"
     ]
    },
    {
     "name": "stderr",
     "output_type": "stream",
     "text": [
      "Progress:  61%|██████    | 606/1000 [4:05:56<2:50:47, 26.01s/it]"
     ]
    },
    {
     "name": "stdout",
     "output_type": "stream",
     "text": [
      "Time to: Calculate Ground State - 1.23s, Get Pauli Ops - 15.83s, Calculate Pauli Expectation Values - 5.65s, Calculate Covariance - 3.14s\n",
      "f0,f1,f2 = [3.5764978821090537e-10, 3.583455689685659e-10, 4.3526577119373465e-10]\n",
      "d01,d02,d12 = [0.9760609171977069, 0.9981222897107471, 0.998100772353997]\n"
     ]
    },
    {
     "name": "stderr",
     "output_type": "stream",
     "text": [
      "Progress:  61%|██████    | 607/1000 [4:06:20<2:47:04, 25.51s/it]"
     ]
    },
    {
     "name": "stdout",
     "output_type": "stream",
     "text": [
      "Time to: Calculate Ground State - 1.22s, Get Pauli Ops - 15.31s, Calculate Pauli Expectation Values - 4.93s, Calculate Covariance - 2.87s\n",
      "f0,f1,f2 = [2.9064476948802586e-10, 2.9151108598750505e-10, 4.046113278725958e-10]\n",
      "d01,d02,d12 = [0.9739771908718137, 0.9981244642045447, 0.9980993660193813]\n"
     ]
    },
    {
     "name": "stderr",
     "output_type": "stream",
     "text": [
      "Progress:  61%|██████    | 608/1000 [4:06:45<2:44:59, 25.25s/it]"
     ]
    },
    {
     "name": "stdout",
     "output_type": "stream",
     "text": [
      "Time to: Calculate Ground State - 1.2s, Get Pauli Ops - 15.29s, Calculate Pauli Expectation Values - 4.89s, Calculate Covariance - 3.27s\n",
      "f0,f1,f2 = [5.811324603094212e-10, 5.797365567479092e-10, 3.899113135553354e-10]\n",
      "d01,d02,d12 = [0.9720946724931349, 0.9979994934068646, 0.9979674276170226]\n"
     ]
    },
    {
     "name": "stderr",
     "output_type": "stream",
     "text": [
      "Progress:  61%|██████    | 609/1000 [4:07:08<2:39:35, 24.49s/it]"
     ]
    },
    {
     "name": "stdout",
     "output_type": "stream",
     "text": [
      "Time to: Calculate Ground State - 1.03s, Get Pauli Ops - 13.6s, Calculate Pauli Expectation Values - 4.69s, Calculate Covariance - 3.37s\n",
      "f0,f1,f2 = [9.725107053041362e-11, 9.158786172690991e-11, 4.0355695479788957e-10]\n",
      "d01,d02,d12 = [0.9702302895384878, 0.9977776645417747, 0.9977407874143037]\n"
     ]
    },
    {
     "name": "stderr",
     "output_type": "stream",
     "text": [
      "Progress:  61%|██████    | 610/1000 [4:07:34<2:42:55, 25.07s/it]"
     ]
    },
    {
     "name": "stdout",
     "output_type": "stream",
     "text": [
      "Time to: Calculate Ground State - 1.11s, Get Pauli Ops - 16.95s, Calculate Pauli Expectation Values - 4.9s, Calculate Covariance - 3.43s\n",
      "f0,f1,f2 = [4.227091459239801e-10, 4.2276530467102536e-10, 3.794420960883243e-10]\n",
      "d01,d02,d12 = [0.968514078406331, 0.9974447823237625, 0.9974000110265524]\n"
     ]
    },
    {
     "name": "stderr",
     "output_type": "stream",
     "text": [
      "Progress:  61%|██████    | 611/1000 [4:08:01<2:46:16, 25.65s/it]"
     ]
    },
    {
     "name": "stdout",
     "output_type": "stream",
     "text": [
      "Time to: Calculate Ground State - 1.57s, Get Pauli Ops - 17.52s, Calculate Pauli Expectation Values - 4.91s, Calculate Covariance - 2.99s\n",
      "f0,f1,f2 = [4.0348399377691317e-10, 4.029502715556221e-10, 3.693452629298346e-10]\n",
      "d01,d02,d12 = [0.9669445672309358, 0.9970168092628313, 0.9969619813564997]\n"
     ]
    },
    {
     "name": "stderr",
     "output_type": "stream",
     "text": [
      "Progress:  61%|██████    | 612/1000 [4:08:27<2:45:33, 25.60s/it]"
     ]
    },
    {
     "name": "stdout",
     "output_type": "stream",
     "text": [
      "Time to: Calculate Ground State - 1.38s, Get Pauli Ops - 16.05s, Calculate Pauli Expectation Values - 4.96s, Calculate Covariance - 3.09s\n",
      "f0,f1,f2 = [3.072945521419118e-10, 3.068450188296364e-10, 3.482373437563396e-10]\n",
      "d01,d02,d12 = [0.9655024694918778, 0.9965108812767771, 0.9964456165533258]\n"
     ]
    },
    {
     "name": "stderr",
     "output_type": "stream",
     "text": [
      "Progress:  61%|██████▏   | 613/1000 [4:08:49<2:38:09, 24.52s/it]"
     ]
    },
    {
     "name": "stdout",
     "output_type": "stream",
     "text": [
      "Time to: Calculate Ground State - 0.92s, Get Pauli Ops - 13.3s, Calculate Pauli Expectation Values - 4.79s, Calculate Covariance - 2.99s\n",
      "f0,f1,f2 = [4.2902519025880625e-10, 4.2534206564472173e-10, 3.39105683696127e-10]\n",
      "d01,d02,d12 = [0.9642373234867648, 0.9959351640631978, 0.9958573706964022]\n"
     ]
    },
    {
     "name": "stderr",
     "output_type": "stream",
     "text": [
      "Progress:  61%|██████▏   | 614/1000 [4:09:15<2:41:36, 25.12s/it]"
     ]
    },
    {
     "name": "stdout",
     "output_type": "stream",
     "text": [
      "Time to: Calculate Ground State - 1.58s, Get Pauli Ops - 16.87s, Calculate Pauli Expectation Values - 4.9s, Calculate Covariance - 3.16s\n",
      "f0,f1,f2 = [4.157045815052325e-10, 4.126252720162761e-10, 2.8311886043467394e-10]\n",
      "d01,d02,d12 = [0.9631511970640594, 0.9953083001193753, 0.9952156917523634]\n"
     ]
    },
    {
     "name": "stderr",
     "output_type": "stream",
     "text": [
      "Progress:  62%|██████▏   | 615/1000 [4:09:39<2:38:43, 24.74s/it]"
     ]
    },
    {
     "name": "stdout",
     "output_type": "stream",
     "text": [
      "Time to: Calculate Ground State - 1.03s, Get Pauli Ops - 15.43s, Calculate Pauli Expectation Values - 4.79s, Calculate Covariance - 2.58s\n",
      "f0,f1,f2 = [3.4672706534637677e-10, 3.4979772470921383e-10, 2.74173731405513e-10]\n",
      "d01,d02,d12 = [0.9622292425215445, 0.9946453176582171, 0.9945408345614553]\n"
     ]
    },
    {
     "name": "stderr",
     "output_type": "stream",
     "text": [
      "Progress:  62%|██████▏   | 616/1000 [4:10:01<2:33:57, 24.06s/it]"
     ]
    },
    {
     "name": "stdout",
     "output_type": "stream",
     "text": [
      "Time to: Calculate Ground State - 1.24s, Get Pauli Ops - 12.79s, Calculate Pauli Expectation Values - 5.04s, Calculate Covariance - 3.39s\n",
      "f0,f1,f2 = [3.8604664071357925e-10, 3.895464942587295e-10, 2.689858854094565e-10]\n",
      "d01,d02,d12 = [0.9615003498776032, 0.9939558149036735, 0.9938423141415704]\n"
     ]
    },
    {
     "name": "stderr",
     "output_type": "stream",
     "text": [
      "Progress:  62%|██████▏   | 617/1000 [4:10:27<2:36:42, 24.55s/it]"
     ]
    },
    {
     "name": "stdout",
     "output_type": "stream",
     "text": [
      "Time to: Calculate Ground State - 1.61s, Get Pauli Ops - 15.46s, Calculate Pauli Expectation Values - 5.28s, Calculate Covariance - 3.34s\n",
      "f0,f1,f2 = [4.432585347036859e-10, 4.469367179036298e-10, 2.1525043325057794e-10]\n",
      "d01,d02,d12 = [0.960996004150489, 0.9932654496945504, 0.9931466179284362]\n"
     ]
    },
    {
     "name": "stderr",
     "output_type": "stream",
     "text": [
      "Progress:  62%|██████▏   | 618/1000 [4:10:51<2:35:43, 24.46s/it]"
     ]
    },
    {
     "name": "stdout",
     "output_type": "stream",
     "text": [
      "Time to: Calculate Ground State - 1.31s, Get Pauli Ops - 15.21s, Calculate Pauli Expectation Values - 4.95s, Calculate Covariance - 2.77s\n",
      "f0,f1,f2 = [5.125398920559939e-10, 5.07296484840072e-10, 1.9276569783460747e-10]\n",
      "d01,d02,d12 = [0.9607354970546919, 0.9925700113309599, 0.9924434454643167]\n"
     ]
    },
    {
     "name": "stderr",
     "output_type": "stream",
     "text": [
      "Progress:  62%|██████▏   | 619/1000 [4:11:14<2:32:05, 23.95s/it]"
     ]
    },
    {
     "name": "stdout",
     "output_type": "stream",
     "text": [
      "Time to: Calculate Ground State - 1.29s, Get Pauli Ops - 13.74s, Calculate Pauli Expectation Values - 4.65s, Calculate Covariance - 3.07s\n",
      "f0,f1,f2 = [4.209007236522623e-10, 4.28664950895252e-10, 1.553521006115246e-10]\n",
      "d01,d02,d12 = [0.9606784819444535, 0.9918865762511241, 0.9917564271836041]\n"
     ]
    },
    {
     "name": "stderr",
     "output_type": "stream",
     "text": [
      "Progress:  62%|██████▏   | 620/1000 [4:11:39<2:33:01, 24.16s/it]"
     ]
    },
    {
     "name": "stdout",
     "output_type": "stream",
     "text": [
      "Time to: Calculate Ground State - 1.6s, Get Pauli Ops - 14.85s, Calculate Pauli Expectation Values - 5.14s, Calculate Covariance - 3.05s\n",
      "f0,f1,f2 = [4.010734017860177e-10, 4.115294126030958e-10, 1.4172071667519406e-10]\n",
      "d01,d02,d12 = [0.9608197698623123, 0.9912216559561194, 0.9910929886412359]\n"
     ]
    },
    {
     "name": "stderr",
     "output_type": "stream",
     "text": [
      "Progress:  62%|██████▏   | 621/1000 [4:12:02<2:29:50, 23.72s/it]"
     ]
    },
    {
     "name": "stdout",
     "output_type": "stream",
     "text": [
      "Time to: Calculate Ground State - 1.43s, Get Pauli Ops - 12.99s, Calculate Pauli Expectation Values - 5.13s, Calculate Covariance - 3.13s\n",
      "f0,f1,f2 = [5.790143819387413e-10, 5.651766532444827e-10, 1.0789539832656667e-10]\n",
      "d01,d02,d12 = [0.9612259071361557, 0.9905719796041721, 0.9904362159524643]\n"
     ]
    },
    {
     "name": "stderr",
     "output_type": "stream",
     "text": [
      "Progress:  62%|██████▏   | 622/1000 [4:12:25<2:28:27, 23.56s/it]"
     ]
    },
    {
     "name": "stdout",
     "output_type": "stream",
     "text": [
      "Time to: Calculate Ground State - 1.53s, Get Pauli Ops - 14.28s, Calculate Pauli Expectation Values - 4.51s, Calculate Covariance - 2.86s\n",
      "f0,f1,f2 = [6.449501060427986e-10, 6.240596771345095e-10, 1.0907859414292497e-10]\n",
      "d01,d02,d12 = [0.9619176935643944, 0.9899374779564961, 0.9897840664553875]\n"
     ]
    },
    {
     "name": "stderr",
     "output_type": "stream",
     "text": [
      "Progress:  62%|██████▏   | 623/1000 [4:12:50<2:31:22, 24.09s/it]"
     ]
    },
    {
     "name": "stdout",
     "output_type": "stream",
     "text": [
      "Time to: Calculate Ground State - 1.26s, Get Pauli Ops - 15.5s, Calculate Pauli Expectation Values - 4.63s, Calculate Covariance - 3.92s\n",
      "f0,f1,f2 = [6.434093538282373e-10, 6.197626242007015e-10, 8.120362935478208e-11]\n",
      "d01,d02,d12 = [0.9628972545978244, 0.9893314558234589, 0.989150610918151]\n"
     ]
    },
    {
     "name": "stderr",
     "output_type": "stream",
     "text": [
      "Progress:  62%|██████▏   | 624/1000 [4:13:13<2:29:27, 23.85s/it]"
     ]
    },
    {
     "name": "stdout",
     "output_type": "stream",
     "text": [
      "Time to: Calculate Ground State - 1.36s, Get Pauli Ops - 14.16s, Calculate Pauli Expectation Values - 5.02s, Calculate Covariance - 2.73s\n",
      "f0,f1,f2 = [5.00366757692673e-10, 4.921100861276266e-10, 4.636250760262849e-11]\n",
      "d01,d02,d12 = [0.964097367891882, 0.9887603598228686, 0.988549793138065]\n"
     ]
    },
    {
     "name": "stderr",
     "output_type": "stream",
     "text": [
      "Progress:  62%|██████▎   | 625/1000 [4:13:37<2:29:23, 23.90s/it]"
     ]
    },
    {
     "name": "stdout",
     "output_type": "stream",
     "text": [
      "Time to: Calculate Ground State - 1.56s, Get Pauli Ops - 13.72s, Calculate Pauli Expectation Values - 5.49s, Calculate Covariance - 3.25s\n",
      "f0,f1,f2 = [3.8061258072870673e-10, 3.978524028800395e-10, 2.3586495373488188e-11]\n",
      "d01,d02,d12 = [0.9654790209881149, 0.9882382305132762, 0.9880050742819658]\n"
     ]
    },
    {
     "name": "stderr",
     "output_type": "stream",
     "text": [
      "Progress:  63%|██████▎   | 626/1000 [4:14:00<2:26:24, 23.49s/it]"
     ]
    },
    {
     "name": "stdout",
     "output_type": "stream",
     "text": [
      "Time to: Calculate Ground State - 0.88s, Get Pauli Ops - 13.19s, Calculate Pauli Expectation Values - 5.12s, Calculate Covariance - 3.33s\n",
      "f0,f1,f2 = [2.0882550510440813e-10, 2.9842683944606497e-10, 3.518073929132813e-11]\n",
      "d01,d02,d12 = [0.9669421649311903, 0.9877747648344993, 0.9875481153005428]\n"
     ]
    },
    {
     "name": "stderr",
     "output_type": "stream",
     "text": [
      "Progress:  63%|██████▎   | 627/1000 [4:14:23<2:25:42, 23.44s/it]"
     ]
    },
    {
     "name": "stdout",
     "output_type": "stream",
     "text": [
      "Time to: Calculate Ground State - 1.28s, Get Pauli Ops - 13.31s, Calculate Pauli Expectation Values - 5.38s, Calculate Covariance - 3.34s\n",
      "f0,f1,f2 = [2.8614661063176714e-10, 3.19280318705749e-10, 1.5275863610233353e-11]\n",
      "d01,d02,d12 = [0.9685299306126911, 0.9873730119813799, 0.9871668513574094]\n"
     ]
    },
    {
     "name": "stderr",
     "output_type": "stream",
     "text": [
      "Progress:  63%|██████▎   | 628/1000 [4:14:47<2:26:18, 23.60s/it]"
     ]
    },
    {
     "name": "stdout",
     "output_type": "stream",
     "text": [
      "Time to: Calculate Ground State - 1.21s, Get Pauli Ops - 14.01s, Calculate Pauli Expectation Values - 5.63s, Calculate Covariance - 3.1s\n",
      "f0,f1,f2 = [3.3269994419642543e-10, 3.4586338334200194e-10, 3.341081237318736e-11]\n",
      "d01,d02,d12 = [0.970270510986869, 0.987035736024881, 0.9868558099610233]\n"
     ]
    },
    {
     "name": "stderr",
     "output_type": "stream",
     "text": [
      "Progress:  63%|██████▎   | 629/1000 [4:15:14<2:32:50, 24.72s/it]"
     ]
    },
    {
     "name": "stdout",
     "output_type": "stream",
     "text": [
      "Time to: Calculate Ground State - 1.3s, Get Pauli Ops - 15.25s, Calculate Pauli Expectation Values - 7.35s, Calculate Covariance - 3.42s\n",
      "f0,f1,f2 = [2.465530194150934e-10, 2.537335826367614e-10, 1.93664483011942e-11]\n",
      "d01,d02,d12 = [0.9720520503725237, 0.9867332665065083, 0.9865884927504611]\n"
     ]
    },
    {
     "name": "stderr",
     "output_type": "stream",
     "text": [
      "Progress:  63%|██████▎   | 630/1000 [4:15:39<2:32:36, 24.75s/it]"
     ]
    },
    {
     "name": "stdout",
     "output_type": "stream",
     "text": [
      "Time to: Calculate Ground State - 1.19s, Get Pauli Ops - 15.29s, Calculate Pauli Expectation Values - 5.33s, Calculate Covariance - 3.0s\n",
      "f0,f1,f2 = [1.9188035504729053e-10, 2.057772581197551e-10, 1.2632813514526488e-11]\n",
      "d01,d02,d12 = [0.9738007591512413, 0.9864745495403849, 0.9863776693350222]\n"
     ]
    },
    {
     "name": "stderr",
     "output_type": "stream",
     "text": [
      "Progress:  63%|██████▎   | 631/1000 [4:16:01<2:27:25, 23.97s/it]"
     ]
    },
    {
     "name": "stdout",
     "output_type": "stream",
     "text": [
      "Time to: Calculate Ground State - 1.06s, Get Pauli Ops - 14.05s, Calculate Pauli Expectation Values - 4.74s, Calculate Covariance - 2.31s\n",
      "f0,f1,f2 = [8.389475720009912e-11, 9.059572331991092e-11, 1.5791460347054238e-11]\n",
      "d01,d02,d12 = [0.9755941657441235, 0.9862399870336027, 0.986192262794908]\n"
     ]
    },
    {
     "name": "stderr",
     "output_type": "stream",
     "text": [
      "Progress:  63%|██████▎   | 632/1000 [4:16:22<2:21:08, 23.01s/it]"
     ]
    },
    {
     "name": "stdout",
     "output_type": "stream",
     "text": [
      "Time to: Calculate Ground State - 0.84s, Get Pauli Ops - 12.31s, Calculate Pauli Expectation Values - 5.08s, Calculate Covariance - 2.54s\n",
      "f0,f1,f2 = [1.5786692796991692e-10, 1.602752324530275e-10, 2.6406784277694058e-11]\n",
      "d01,d02,d12 = [0.9772843988775707, 0.9860482817474435, 0.986052634378409]\n"
     ]
    },
    {
     "name": "stderr",
     "output_type": "stream",
     "text": [
      "Progress:  63%|██████▎   | 633/1000 [4:16:49<2:26:52, 24.01s/it]"
     ]
    },
    {
     "name": "stdout",
     "output_type": "stream",
     "text": [
      "Time to: Calculate Ground State - 1.11s, Get Pauli Ops - 12.69s, Calculate Pauli Expectation Values - 9.32s, Calculate Covariance - 3.22s\n",
      "f0,f1,f2 = [2.407860381009283e-10, 2.4038232452104874e-10, 2.2396196737786308e-11]\n",
      "d01,d02,d12 = [0.9790891502614126, 0.9858859227223383, 0.9859424334371731]\n"
     ]
    },
    {
     "name": "stderr",
     "output_type": "stream",
     "text": [
      "Progress:  63%|██████▎   | 634/1000 [4:17:12<2:25:43, 23.89s/it]"
     ]
    },
    {
     "name": "stdout",
     "output_type": "stream",
     "text": [
      "Time to: Calculate Ground State - 0.79s, Get Pauli Ops - 13.01s, Calculate Pauli Expectation Values - 6.76s, Calculate Covariance - 3.03s\n",
      "f0,f1,f2 = [1.8999494939830705e-10, 1.9135726320168512e-10, 3.035827514431887e-10]\n",
      "d01,d02,d12 = [0.9809692422608423, 0.9856112671177479, 0.9857211349204613]\n"
     ]
    },
    {
     "name": "stderr",
     "output_type": "stream",
     "text": [
      "Progress:  64%|██████▎   | 635/1000 [4:17:36<2:25:48, 23.97s/it]"
     ]
    },
    {
     "name": "stdout",
     "output_type": "stream",
     "text": [
      "Time to: Calculate Ground State - 1.13s, Get Pauli Ops - 15.19s, Calculate Pauli Expectation Values - 5.37s, Calculate Covariance - 2.46s\n",
      "f0,f1,f2 = [2.126448671239237e-10, 2.1313777277455792e-10, 6.506387798604262e-10]\n",
      "d01,d02,d12 = [0.9828255102037284, 0.985284583223195, 0.9854467096817762]\n"
     ]
    },
    {
     "name": "stderr",
     "output_type": "stream",
     "text": [
      "Progress:  64%|██████▎   | 636/1000 [4:18:01<2:27:23, 24.30s/it]"
     ]
    },
    {
     "name": "stdout",
     "output_type": "stream",
     "text": [
      "Time to: Calculate Ground State - 0.8s, Get Pauli Ops - 12.62s, Calculate Pauli Expectation Values - 7.71s, Calculate Covariance - 3.93s\n",
      "f0,f1,f2 = [3.7069950132464405e-10, 3.8744422688275594e-10, 6.975708102649214e-10]\n",
      "d01,d02,d12 = [0.9846929059239413, 0.9850029440668651, 0.9852160163962763]\n"
     ]
    },
    {
     "name": "stderr",
     "output_type": "stream",
     "text": [
      "Progress:  64%|██████▎   | 637/1000 [4:18:24<2:23:49, 23.77s/it]"
     ]
    },
    {
     "name": "stdout",
     "output_type": "stream",
     "text": [
      "Time to: Calculate Ground State - 1.11s, Get Pauli Ops - 13.49s, Calculate Pauli Expectation Values - 5.03s, Calculate Covariance - 2.9s\n",
      "f0,f1,f2 = [2.505580144363269e-11, 2.3213396307257714e-11, 2.7255284333904763e-11]\n",
      "d01,d02,d12 = [0.9865665851009583, 0.9847522943102937, 0.9849960154250149]\n"
     ]
    },
    {
     "name": "stderr",
     "output_type": "stream",
     "text": [
      "Progress:  64%|██████▍   | 638/1000 [4:18:49<2:26:26, 24.27s/it]"
     ]
    },
    {
     "name": "stdout",
     "output_type": "stream",
     "text": [
      "Time to: Calculate Ground State - 1.08s, Get Pauli Ops - 15.71s, Calculate Pauli Expectation Values - 5.34s, Calculate Covariance - 3.3s\n",
      "f0,f1,f2 = [1.9030997206316506e-09, 1.7900240957004707e-09, 2.4389400523748896e-09]\n",
      "d01,d02,d12 = [0.9886614547338687, 0.9847612033702944, 0.985037661201638]\n"
     ]
    },
    {
     "name": "stderr",
     "output_type": "stream",
     "text": [
      "Progress:  64%|██████▍   | 639/1000 [4:19:15<2:28:57, 24.76s/it]"
     ]
    },
    {
     "name": "stdout",
     "output_type": "stream",
     "text": [
      "Time to: Calculate Ground State - 1.38s, Get Pauli Ops - 14.22s, Calculate Pauli Expectation Values - 7.2s, Calculate Covariance - 3.08s\n",
      "f0,f1,f2 = [4.4961656373257923e-10, 4.043889686589487e-10, 1.0209495002614399e-09]\n",
      "d01,d02,d12 = [0.9907903435426755, 0.9849062110189021, 0.985215920145409]\n"
     ]
    },
    {
     "name": "stderr",
     "output_type": "stream",
     "text": [
      "Progress:  64%|██████▍   | 640/1000 [4:19:40<2:28:10, 24.69s/it]"
     ]
    },
    {
     "name": "stdout",
     "output_type": "stream",
     "text": [
      "Time to: Calculate Ground State - 1.25s, Get Pauli Ops - 14.94s, Calculate Pauli Expectation Values - 5.39s, Calculate Covariance - 2.97s\n",
      "f0,f1,f2 = [1.2990298794716767e-10, 1.4679011508662144e-10, 1.375810412778377e-10]\n",
      "d01,d02,d12 = [0.9928799077994834, 0.985097949784987, 0.985444339488427]\n"
     ]
    },
    {
     "name": "stderr",
     "output_type": "stream",
     "text": [
      "Progress:  64%|██████▍   | 641/1000 [4:20:04<2:27:43, 24.69s/it]"
     ]
    },
    {
     "name": "stdout",
     "output_type": "stream",
     "text": [
      "Time to: Calculate Ground State - 1.03s, Get Pauli Ops - 15.36s, Calculate Pauli Expectation Values - 5.3s, Calculate Covariance - 2.97s\n",
      "f0,f1,f2 = [1.4944793899642218e-10, 1.5002845779624776e-10, 2.264546504907451e-11]\n",
      "d01,d02,d12 = [0.994897796570624, 0.9852222778026379, 0.9856012371596878]\n"
     ]
    },
    {
     "name": "stderr",
     "output_type": "stream",
     "text": [
      "Progress:  64%|██████▍   | 642/1000 [4:20:29<2:26:39, 24.58s/it]"
     ]
    },
    {
     "name": "stdout",
     "output_type": "stream",
     "text": [
      "Time to: Calculate Ground State - 1.19s, Get Pauli Ops - 15.25s, Calculate Pauli Expectation Values - 5.17s, Calculate Covariance - 2.7s\n",
      "f0,f1,f2 = [1.763174160337901e-09, 1.8754455653032185e-09, 8.794105721004999e-10]\n",
      "d01,d02,d12 = [0.9977839824413277, 0.9850389861501508, 0.9853790217402606]\n"
     ]
    },
    {
     "name": "stderr",
     "output_type": "stream",
     "text": [
      "Progress:  64%|██████▍   | 643/1000 [4:20:53<2:25:19, 24.43s/it]"
     ]
    },
    {
     "name": "stdout",
     "output_type": "stream",
     "text": [
      "Time to: Calculate Ground State - 1.11s, Get Pauli Ops - 15.31s, Calculate Pauli Expectation Values - 4.78s, Calculate Covariance - 2.84s\n",
      "f0,f1,f2 = [6.806464025712691e-10, 6.687564329869525e-10, 6.586206172746133e-11]\n",
      "d01,d02,d12 = [1.0007399364976632, 0.9847683161486168, 0.9850291008680484]\n"
     ]
    },
    {
     "name": "stderr",
     "output_type": "stream",
     "text": [
      "Progress:  64%|██████▍   | 644/1000 [4:21:15<2:20:35, 23.70s/it]"
     ]
    },
    {
     "name": "stdout",
     "output_type": "stream",
     "text": [
      "Time to: Calculate Ground State - 1.1s, Get Pauli Ops - 12.68s, Calculate Pauli Expectation Values - 5.09s, Calculate Covariance - 3.12s\n",
      "f0,f1,f2 = [6.94076843668112e-10, 6.440503989041153e-10, 1.7665041023208978e-11]\n",
      "d01,d02,d12 = [1.00343775920785, 0.9844733138970277, 0.9846672346687556]\n"
     ]
    },
    {
     "name": "stderr",
     "output_type": "stream",
     "text": [
      "Progress:  64%|██████▍   | 645/1000 [4:21:37<2:18:01, 23.33s/it]"
     ]
    },
    {
     "name": "stdout",
     "output_type": "stream",
     "text": [
      "Time to: Calculate Ground State - 1.43s, Get Pauli Ops - 12.77s, Calculate Pauli Expectation Values - 5.15s, Calculate Covariance - 3.11s\n",
      "f0,f1,f2 = [2.1293819603745007e-10, 2.441106279879309e-10, 1.9019823981644236e-11]\n",
      "d01,d02,d12 = [1.0059864963232839, 0.9841244015751422, 0.9842464004931264]\n"
     ]
    },
    {
     "name": "stderr",
     "output_type": "stream",
     "text": [
      "Progress:  65%|██████▍   | 646/1000 [4:22:06<2:26:33, 24.84s/it]"
     ]
    },
    {
     "name": "stdout",
     "output_type": "stream",
     "text": [
      "Time to: Calculate Ground State - 1.58s, Get Pauli Ops - 18.53s, Calculate Pauli Expectation Values - 4.66s, Calculate Covariance - 3.58s\n",
      "f0,f1,f2 = [3.4818774828697975e-10, 3.4961754553970045e-10, 2.1585103236751024e-11]\n",
      "d01,d02,d12 = [1.0084011964948545, 0.9837209600206185, 0.9837649149446912]\n"
     ]
    },
    {
     "name": "stderr",
     "output_type": "stream",
     "text": [
      "Progress:  65%|██████▍   | 647/1000 [4:22:29<2:23:01, 24.31s/it]"
     ]
    },
    {
     "name": "stdout",
     "output_type": "stream",
     "text": [
      "Time to: Calculate Ground State - 1.22s, Get Pauli Ops - 14.74s, Calculate Pauli Expectation Values - 4.77s, Calculate Covariance - 2.33s\n",
      "f0,f1,f2 = [4.202446056742317e-10, 4.196873331303076e-10, 1.84287091274943e-11]\n",
      "d01,d02,d12 = [1.01059969947123, 0.9832671575005374, 0.9832334413762033]\n"
     ]
    },
    {
     "name": "stderr",
     "output_type": "stream",
     "text": [
      "Progress:  65%|██████▍   | 648/1000 [4:22:51<2:19:24, 23.76s/it]"
     ]
    },
    {
     "name": "stdout",
     "output_type": "stream",
     "text": [
      "Time to: Calculate Ground State - 1.53s, Get Pauli Ops - 13.22s, Calculate Pauli Expectation Values - 4.62s, Calculate Covariance - 3.11s\n",
      "f0,f1,f2 = [4.098997296226332e-10, 4.0706692102506357e-10, 5.988198562724862e-12]\n",
      "d01,d02,d12 = [1.0125937280358135, 0.9827512181175001, 0.9826412554143299]\n"
     ]
    },
    {
     "name": "stderr",
     "output_type": "stream",
     "text": [
      "Progress:  65%|██████▍   | 649/1000 [4:23:13<2:15:35, 23.18s/it]"
     ]
    },
    {
     "name": "stdout",
     "output_type": "stream",
     "text": [
      "Time to: Calculate Ground State - 0.9s, Get Pauli Ops - 12.83s, Calculate Pauli Expectation Values - 4.82s, Calculate Covariance - 3.25s\n",
      "f0,f1,f2 = [6.590508557736044e-10, 6.790092479284369e-10, 5.100047402833188e-11]\n",
      "d01,d02,d12 = [1.0142795728621492, 0.9822254582378047, 0.9820271674008801]\n"
     ]
    },
    {
     "name": "stderr",
     "output_type": "stream",
     "text": [
      "Progress:  65%|██████▌   | 650/1000 [4:23:41<2:23:39, 24.63s/it]"
     ]
    },
    {
     "name": "stdout",
     "output_type": "stream",
     "text": [
      "Time to: Calculate Ground State - 1.63s, Get Pauli Ops - 17.56s, Calculate Pauli Expectation Values - 5.35s, Calculate Covariance - 3.46s\n",
      "f0,f1,f2 = [4.598299170534723e-10, 4.2989683716636395e-10, 3.8160696754957284e-11]\n",
      "d01,d02,d12 = [1.0157347751077683, 0.9816357375126328, 0.9813596646770616]\n"
     ]
    },
    {
     "name": "stderr",
     "output_type": "stream",
     "text": [
      "Progress:  65%|██████▌   | 651/1000 [4:24:05<2:21:38, 24.35s/it]"
     ]
    },
    {
     "name": "stdout",
     "output_type": "stream",
     "text": [
      "Time to: Calculate Ground State - 1.19s, Get Pauli Ops - 12.93s, Calculate Pauli Expectation Values - 5.77s, Calculate Covariance - 3.81s\n",
      "f0,f1,f2 = [5.594236296034677e-10, 5.819136767713299e-10, 6.283039489710296e-11]\n",
      "d01,d02,d12 = [1.0169228649256437, 0.9810210903610859, 0.9806571720811779]\n"
     ]
    },
    {
     "name": "stderr",
     "output_type": "stream",
     "text": [
      "Progress:  65%|██████▌   | 652/1000 [4:24:31<2:25:07, 25.02s/it]"
     ]
    },
    {
     "name": "stdout",
     "output_type": "stream",
     "text": [
      "Time to: Calculate Ground State - 0.9s, Get Pauli Ops - 16.57s, Calculate Pauli Expectation Values - 5.12s, Calculate Covariance - 3.99s\n",
      "f0,f1,f2 = [5.765984255889483e-10, 6.068137619713589e-10, 1.0346780713882948e-10]\n",
      "d01,d02,d12 = [1.017834128298132, 0.9803904580496858, 0.9799255217771252]\n"
     ]
    },
    {
     "name": "stderr",
     "output_type": "stream",
     "text": [
      "Progress:  65%|██████▌   | 653/1000 [4:24:57<2:25:31, 25.16s/it]"
     ]
    },
    {
     "name": "stdout",
     "output_type": "stream",
     "text": [
      "Time to: Calculate Ground State - 1.03s, Get Pauli Ops - 14.91s, Calculate Pauli Expectation Values - 5.58s, Calculate Covariance - 3.96s\n",
      "f0,f1,f2 = [5.122909906554527e-10, 5.267806264374113e-10, 1.0518218018854535e-10]\n",
      "d01,d02,d12 = [1.018501991186227, 0.979731654838358, 0.9791665995808105]\n"
     ]
    },
    {
     "name": "stderr",
     "output_type": "stream",
     "text": [
      "Progress:  65%|██████▌   | 654/1000 [4:25:20<2:21:40, 24.57s/it]"
     ]
    },
    {
     "name": "stdout",
     "output_type": "stream",
     "text": [
      "Time to: Calculate Ground State - 1.27s, Get Pauli Ops - 13.66s, Calculate Pauli Expectation Values - 5.33s, Calculate Covariance - 2.92s\n",
      "f0,f1,f2 = [5.316187764240204e-10, 5.433142008119538e-10, 1.3566119558087562e-10]\n",
      "d01,d02,d12 = [1.018918517745701, 0.9790631086042586, 0.9783907252602325]\n"
     ]
    },
    {
     "name": "stderr",
     "output_type": "stream",
     "text": [
      "Progress:  66%|██████▌   | 655/1000 [4:25:49<2:29:22, 25.98s/it]"
     ]
    },
    {
     "name": "stdout",
     "output_type": "stream",
     "text": [
      "Time to: Calculate Ground State - 1.36s, Get Pauli Ops - 15.79s, Calculate Pauli Expectation Values - 8.95s, Calculate Covariance - 3.16s\n",
      "f0,f1,f2 = [5.307930370014295e-10, 5.070635321258755e-10, 1.432017823636946e-10]\n",
      "d01,d02,d12 = [1.0190870338977613, 0.9783694621972215, 0.977603667874756]\n"
     ]
    },
    {
     "name": "stderr",
     "output_type": "stream",
     "text": [
      "Progress:  66%|██████▌   | 656/1000 [4:26:16<2:30:09, 26.19s/it]"
     ]
    },
    {
     "name": "stdout",
     "output_type": "stream",
     "text": [
      "Time to: Calculate Ground State - 1.35s, Get Pauli Ops - 17.44s, Calculate Pauli Expectation Values - 4.9s, Calculate Covariance - 2.98s\n",
      "f0,f1,f2 = [5.197234537603617e-10, 4.473743712765509e-10, 1.8616582112232786e-10]\n",
      "d01,d02,d12 = [1.0190261963884033, 0.9776519867958852, 0.976827858917199]\n"
     ]
    },
    {
     "name": "stderr",
     "output_type": "stream",
     "text": [
      "Progress:  66%|██████▌   | 657/1000 [4:26:42<2:29:05, 26.08s/it]"
     ]
    },
    {
     "name": "stdout",
     "output_type": "stream",
     "text": [
      "Time to: Calculate Ground State - 1.3s, Get Pauli Ops - 15.95s, Calculate Pauli Expectation Values - 5.31s, Calculate Covariance - 3.25s\n",
      "f0,f1,f2 = [5.299120333614739e-10, 5.12261685263801e-10, 2.0654357421401018e-10]\n",
      "d01,d02,d12 = [1.0187230715452626, 0.9769344429942894, 0.9760612384824118]\n"
     ]
    },
    {
     "name": "stderr",
     "output_type": "stream",
     "text": [
      "Progress:  66%|██████▌   | 658/1000 [4:27:11<2:34:05, 27.03s/it]"
     ]
    },
    {
     "name": "stdout",
     "output_type": "stream",
     "text": [
      "Time to: Calculate Ground State - 1.37s, Get Pauli Ops - 18.9s, Calculate Pauli Expectation Values - 5.45s, Calculate Covariance - 3.53s\n",
      "f0,f1,f2 = [4.807215311088249e-10, 4.535178610801802e-10, 2.3886586383811095e-10]\n",
      "d01,d02,d12 = [1.01820682760034, 0.9762248789376347, 0.9753245157489766]\n"
     ]
    },
    {
     "name": "stderr",
     "output_type": "stream",
     "text": [
      "Progress:  66%|██████▌   | 659/1000 [4:27:38<2:33:35, 27.02s/it]"
     ]
    },
    {
     "name": "stdout",
     "output_type": "stream",
     "text": [
      "Time to: Calculate Ground State - 1.3s, Get Pauli Ops - 16.27s, Calculate Pauli Expectation Values - 5.4s, Calculate Covariance - 4.02s\n",
      "f0,f1,f2 = [5.700757461292793e-10, 6.527279828725514e-10, 3.096758719734705e-10]\n",
      "d01,d02,d12 = [1.0174324452195376, 0.9755944691117137, 0.974602725437605]\n"
     ]
    },
    {
     "name": "stderr",
     "output_type": "stream",
     "text": [
      "Progress:  66%|██████▌   | 660/1000 [4:28:05<2:33:16, 27.05s/it]"
     ]
    },
    {
     "name": "stdout",
     "output_type": "stream",
     "text": [
      "Time to: Calculate Ground State - 1.34s, Get Pauli Ops - 17.18s, Calculate Pauli Expectation Values - 5.38s, Calculate Covariance - 3.2s\n",
      "f0,f1,f2 = [4.814118240223072e-10, 5.323380046488059e-10, 3.16153215360494e-10]\n",
      "d01,d02,d12 = [1.0164408537977687, 0.9750375152498639, 0.9739175812736168]\n"
     ]
    },
    {
     "name": "stderr",
     "output_type": "stream",
     "text": [
      "Progress:  66%|██████▌   | 661/1000 [4:28:35<2:37:01, 27.79s/it]"
     ]
    },
    {
     "name": "stdout",
     "output_type": "stream",
     "text": [
      "Time to: Calculate Ground State - 1.61s, Get Pauli Ops - 18.68s, Calculate Pauli Expectation Values - 5.91s, Calculate Covariance - 3.33s\n",
      "f0,f1,f2 = [4.225532142516566e-10, 3.5912337088745645e-10, 3.168443679342075e-10]\n",
      "d01,d02,d12 = [1.0152826814306073, 0.9745058273684238, 0.9733069021411803]\n"
     ]
    },
    {
     "name": "stderr",
     "output_type": "stream",
     "text": [
      "Progress:  66%|██████▌   | 662/1000 [4:29:04<2:38:23, 28.12s/it]"
     ]
    },
    {
     "name": "stdout",
     "output_type": "stream",
     "text": [
      "Time to: Calculate Ground State - 1.0s, Get Pauli Ops - 19.19s, Calculate Pauli Expectation Values - 5.1s, Calculate Covariance - 3.58s\n",
      "f0,f1,f2 = [4.571386076568799e-10, 5.145800385422901e-10, 3.9282274803212e-10]\n",
      "d01,d02,d12 = [1.013932793331864, 0.9740798109365335, 0.9727580420781817]\n"
     ]
    },
    {
     "name": "stderr",
     "output_type": "stream",
     "text": [
      "Progress:  66%|██████▋   | 663/1000 [4:29:28<2:31:25, 26.96s/it]"
     ]
    },
    {
     "name": "stdout",
     "output_type": "stream",
     "text": [
      "Time to: Calculate Ground State - 1.7s, Get Pauli Ops - 14.22s, Calculate Pauli Expectation Values - 4.99s, Calculate Covariance - 3.33s\n",
      "f0,f1,f2 = [3.79876299832292e-10, 3.264213721818981e-10, 3.5818290649008606e-10]\n",
      "d01,d02,d12 = [1.0124423201523067, 0.9736935562788647, 0.9723060356208133]\n"
     ]
    },
    {
     "name": "stderr",
     "output_type": "stream",
     "text": [
      "Progress:  66%|██████▋   | 664/1000 [4:29:51<2:25:04, 25.91s/it]"
     ]
    },
    {
     "name": "stdout",
     "output_type": "stream",
     "text": [
      "Time to: Calculate Ground State - 1.58s, Get Pauli Ops - 13.96s, Calculate Pauli Expectation Values - 5.07s, Calculate Covariance - 2.83s\n",
      "f0,f1,f2 = [3.6242544408271355e-10, 3.512460483814874e-10, 3.846822264186356e-10]\n",
      "d01,d02,d12 = [1.0108190451719175, 0.9733853074466777, 0.9719497658497762]\n"
     ]
    },
    {
     "name": "stderr",
     "output_type": "stream",
     "text": [
      "Progress:  66%|██████▋   | 665/1000 [4:30:17<2:23:49, 25.76s/it]"
     ]
    },
    {
     "name": "stdout",
     "output_type": "stream",
     "text": [
      "Time to: Calculate Ground State - 1.27s, Get Pauli Ops - 15.16s, Calculate Pauli Expectation Values - 5.79s, Calculate Covariance - 3.18s\n",
      "f0,f1,f2 = [3.470594571569035e-10, 3.3122556628275607e-10, 4.1054270676355844e-10]\n",
      "d01,d02,d12 = [1.0090745033066328, 0.9731564067522299, 0.9717040720505729]\n"
     ]
    },
    {
     "name": "stderr",
     "output_type": "stream",
     "text": [
      "Progress:  67%|██████▋   | 666/1000 [4:30:42<2:22:08, 25.53s/it]"
     ]
    },
    {
     "name": "stdout",
     "output_type": "stream",
     "text": [
      "Time to: Calculate Ground State - 1.27s, Get Pauli Ops - 15.46s, Calculate Pauli Expectation Values - 5.28s, Calculate Covariance - 2.99s\n",
      "f0,f1,f2 = [3.5881790383407133e-10, 3.738186864776214e-10, 4.450280397461125e-10]\n",
      "d01,d02,d12 = [1.0072072298053358, 0.9730444781564419, 0.9715644169179428]\n"
     ]
    },
    {
     "name": "stderr",
     "output_type": "stream",
     "text": [
      "Progress:  67%|██████▋   | 667/1000 [4:31:06<2:19:44, 25.18s/it]"
     ]
    },
    {
     "name": "stdout",
     "output_type": "stream",
     "text": [
      "Time to: Calculate Ground State - 1.34s, Get Pauli Ops - 14.05s, Calculate Pauli Expectation Values - 5.7s, Calculate Covariance - 3.24s\n",
      "f0,f1,f2 = [4.130801750539104e-10, 4.3463773163257063e-10, 4.988099210247589e-10]\n",
      "d01,d02,d12 = [1.005219455679593, 0.9731079395492891, 0.9715203116493463]\n"
     ]
    },
    {
     "name": "stderr",
     "output_type": "stream",
     "text": [
      "Progress:  67%|██████▋   | 668/1000 [4:31:29<2:14:53, 24.38s/it]"
     ]
    },
    {
     "name": "stdout",
     "output_type": "stream",
     "text": [
      "Time to: Calculate Ground State - 1.13s, Get Pauli Ops - 13.02s, Calculate Pauli Expectation Values - 5.36s, Calculate Covariance - 2.99s\n",
      "f0,f1,f2 = [2.0629303431640741e-10, 2.5755412480743693e-10, 4.355676986216157e-10]\n",
      "d01,d02,d12 = [1.0031872836097135, 0.9732506964818982, 0.9716228789621805]\n"
     ]
    },
    {
     "name": "stderr",
     "output_type": "stream",
     "text": [
      "Progress:  67%|██████▋   | 669/1000 [4:32:00<2:25:42, 26.41s/it]"
     ]
    },
    {
     "name": "stdout",
     "output_type": "stream",
     "text": [
      "Time to: Calculate Ground State - 1.51s, Get Pauli Ops - 21.48s, Calculate Pauli Expectation Values - 5.07s, Calculate Covariance - 3.09s\n",
      "f0,f1,f2 = [2.2461918786776597e-10, 2.6794211034016014e-10, 4.5959156710154944e-10]\n",
      "d01,d02,d12 = [1.001109394124081, 0.9735045485841409, 0.9718666620943455]\n"
     ]
    },
    {
     "name": "stderr",
     "output_type": "stream",
     "text": [
      "Progress:  67%|██████▋   | 670/1000 [4:32:24<2:21:05, 25.65s/it]"
     ]
    },
    {
     "name": "stdout",
     "output_type": "stream",
     "text": [
      "Time to: Calculate Ground State - 1.47s, Get Pauli Ops - 13.64s, Calculate Pauli Expectation Values - 5.73s, Calculate Covariance - 3.03s\n",
      "f0,f1,f2 = [1.9752176318861072e-10, 2.559866369252609e-10, 4.4764152483729154e-10]\n",
      "d01,d02,d12 = [0.9989975703687402, 0.9738558817497784, 0.9722578863766737]\n"
     ]
    },
    {
     "name": "stderr",
     "output_type": "stream",
     "text": [
      "Progress:  67%|██████▋   | 671/1000 [4:32:46<2:15:28, 24.71s/it]"
     ]
    },
    {
     "name": "stdout",
     "output_type": "stream",
     "text": [
      "Time to: Calculate Ground State - 1.36s, Get Pauli Ops - 12.84s, Calculate Pauli Expectation Values - 5.48s, Calculate Covariance - 2.81s\n",
      "f0,f1,f2 = [2.2134421746249054e-10, 2.604492055573e-10, 4.6068268038528465e-10]\n",
      "d01,d02,d12 = [0.9968404581741348, 0.9743373437073857, 0.9727767805167706]\n"
     ]
    },
    {
     "name": "stderr",
     "output_type": "stream",
     "text": [
      "Progress:  67%|██████▋   | 672/1000 [4:33:10<2:12:55, 24.31s/it]"
     ]
    },
    {
     "name": "stdout",
     "output_type": "stream",
     "text": [
      "Time to: Calculate Ground State - 0.89s, Get Pauli Ops - 13.83s, Calculate Pauli Expectation Values - 5.34s, Calculate Covariance - 3.33s\n",
      "f0,f1,f2 = [2.3760034497860717e-10, 2.3166154628218828e-10, 4.242308030189029e-10]\n",
      "d01,d02,d12 = [0.994677706640249, 0.9749546177956149, 0.9734296123272685]\n"
     ]
    },
    {
     "name": "stderr",
     "output_type": "stream",
     "text": [
      "Progress:  67%|██████▋   | 673/1000 [4:33:32<2:09:20, 23.73s/it]"
     ]
    },
    {
     "name": "stdout",
     "output_type": "stream",
     "text": [
      "Time to: Calculate Ground State - 1.3s, Get Pauli Ops - 13.36s, Calculate Pauli Expectation Values - 4.96s, Calculate Covariance - 2.75s\n",
      "f0,f1,f2 = [4.3532765136069687e-10, 3.9718168962390563e-10, 4.5701468368903587e-10]\n",
      "d01,d02,d12 = [0.9924513942777442, 0.9757484645658879, 0.9741823865136582]\n"
     ]
    },
    {
     "name": "stderr",
     "output_type": "stream",
     "text": [
      "Progress:  67%|██████▋   | 674/1000 [4:33:56<2:09:56, 23.91s/it]"
     ]
    },
    {
     "name": "stdout",
     "output_type": "stream",
     "text": [
      "Time to: Calculate Ground State - 1.66s, Get Pauli Ops - 14.63s, Calculate Pauli Expectation Values - 4.88s, Calculate Covariance - 3.16s\n",
      "f0,f1,f2 = [3.103981927414802e-10, 2.8864827459045704e-10, 4.591167643453052e-10]\n",
      "d01,d02,d12 = [0.9901690397049094, 0.9767202775954964, 0.975042147513138]\n"
     ]
    },
    {
     "name": "stderr",
     "output_type": "stream",
     "text": [
      "Progress:  68%|██████▊   | 675/1000 [4:34:21<2:10:18, 24.06s/it]"
     ]
    },
    {
     "name": "stdout",
     "output_type": "stream",
     "text": [
      "Time to: Calculate Ground State - 1.48s, Get Pauli Ops - 13.8s, Calculate Pauli Expectation Values - 5.59s, Calculate Covariance - 3.51s\n",
      "f0,f1,f2 = [4.828873965772402e-10, 9.086458136474826e-10, 2.1288033216156528e-10]\n",
      "d01,d02,d12 = [0.9881841076565211, 0.9776096317461694, 0.976050452659991]\n"
     ]
    },
    {
     "name": "stderr",
     "output_type": "stream",
     "text": [
      "Progress:  68%|██████▊   | 676/1000 [4:34:46<2:12:11, 24.48s/it]"
     ]
    },
    {
     "name": "stdout",
     "output_type": "stream",
     "text": [
      "Time to: Calculate Ground State - 1.07s, Get Pauli Ops - 16.55s, Calculate Pauli Expectation Values - 5.24s, Calculate Covariance - 2.6s\n",
      "f0,f1,f2 = [4.944618833686605e-10, 5.173158816354395e-10, 7.065477002769915e-10]\n",
      "d01,d02,d12 = [0.9860410057714382, 0.9787188385265144, 0.9771899819371704]\n"
     ]
    },
    {
     "name": "stderr",
     "output_type": "stream",
     "text": [
      "Progress:  68%|██████▊   | 677/1000 [4:35:10<2:10:28, 24.24s/it]"
     ]
    },
    {
     "name": "stdout",
     "output_type": "stream",
     "text": [
      "Time to: Calculate Ground State - 1.07s, Get Pauli Ops - 14.43s, Calculate Pauli Expectation Values - 5.07s, Calculate Covariance - 3.08s\n",
      "f0,f1,f2 = [1.7966300759464216e-10, 1.3301399235202237e-10, 3.282330994116325e-10]\n",
      "d01,d02,d12 = [0.9837912047510644, 0.9799646609253029, 0.9784256342844087]\n"
     ]
    },
    {
     "name": "stderr",
     "output_type": "stream",
     "text": [
      "Progress:  68%|██████▊   | 678/1000 [4:35:36<2:13:51, 24.94s/it]"
     ]
    },
    {
     "name": "stdout",
     "output_type": "stream",
     "text": [
      "Time to: Calculate Ground State - 1.38s, Get Pauli Ops - 16.09s, Calculate Pauli Expectation Values - 5.72s, Calculate Covariance - 3.39s\n",
      "f0,f1,f2 = [4.094773210870966e-10, 4.480795710104175e-10, 1.096444884281462e-09]\n",
      "d01,d02,d12 = [0.9818277110228202, 0.9816558316620668, 0.9800604740819467]\n"
     ]
    },
    {
     "name": "stderr",
     "output_type": "stream",
     "text": [
      "Progress:  68%|██████▊   | 679/1000 [4:36:04<2:18:17, 25.85s/it]"
     ]
    },
    {
     "name": "stdout",
     "output_type": "stream",
     "text": [
      "Time to: Calculate Ground State - 1.28s, Get Pauli Ops - 18.96s, Calculate Pauli Expectation Values - 5.02s, Calculate Covariance - 2.68s\n",
      "f0,f1,f2 = [9.565546929160705e-10, 1.300598423856521e-09, 6.815364909034979e-10]\n",
      "d01,d02,d12 = [0.9800293421029189, 0.983537077382249, 0.9817498969094856]\n"
     ]
    },
    {
     "name": "stderr",
     "output_type": "stream",
     "text": [
      "Progress:  68%|██████▊   | 680/1000 [4:36:33<2:22:54, 26.79s/it]"
     ]
    },
    {
     "name": "stdout",
     "output_type": "stream",
     "text": [
      "Time to: Calculate Ground State - 1.45s, Get Pauli Ops - 19.41s, Calculate Pauli Expectation Values - 4.92s, Calculate Covariance - 3.2s\n",
      "f0,f1,f2 = [7.113874970958316e-10, 3.698560123787291e-10, 8.181403382210926e-10]\n",
      "d01,d02,d12 = [0.9783267958548868, 0.9854439155826804, 0.9835901143829946]\n"
     ]
    },
    {
     "name": "stderr",
     "output_type": "stream",
     "text": [
      "Progress:  68%|██████▊   | 681/1000 [4:36:59<2:20:44, 26.47s/it]"
     ]
    },
    {
     "name": "stdout",
     "output_type": "stream",
     "text": [
      "Time to: Calculate Ground State - 1.05s, Get Pauli Ops - 16.06s, Calculate Pauli Expectation Values - 5.29s, Calculate Covariance - 3.31s\n",
      "f0,f1,f2 = [1.47369819236566e-10, 2.6583314202046385e-10, 1.8564400017536702e-10]\n",
      "d01,d02,d12 = [0.9767372359511914, 0.9874263498393311, 0.9855345647197972]\n"
     ]
    },
    {
     "name": "stderr",
     "output_type": "stream",
     "text": [
      "Progress:  68%|██████▊   | 682/1000 [4:37:26<2:20:23, 26.49s/it]"
     ]
    },
    {
     "name": "stdout",
     "output_type": "stream",
     "text": [
      "Time to: Calculate Ground State - 1.16s, Get Pauli Ops - 17.41s, Calculate Pauli Expectation Values - 5.0s, Calculate Covariance - 2.96s\n",
      "f0,f1,f2 = [3.312584059696824e-10, 2.7766279526761396e-10, 2.0414068569873526e-10]\n",
      "d01,d02,d12 = [0.9756059077743379, 0.9892768593155531, 0.9871908767090685]\n"
     ]
    },
    {
     "name": "stderr",
     "output_type": "stream",
     "text": [
      "Progress:  68%|██████▊   | 683/1000 [4:37:51<2:18:42, 26.25s/it]"
     ]
    },
    {
     "name": "stdout",
     "output_type": "stream",
     "text": [
      "Time to: Calculate Ground State - 1.2s, Get Pauli Ops - 16.08s, Calculate Pauli Expectation Values - 5.2s, Calculate Covariance - 3.2s\n",
      "f0,f1,f2 = [5.98245305122976e-10, 3.8563767619731804e-10, 3.5024100086844455e-10]\n",
      "d01,d02,d12 = [0.9746659494191682, 0.9911080355553741, 0.9887624371531057]\n"
     ]
    },
    {
     "name": "stderr",
     "output_type": "stream",
     "text": [
      "Progress:  68%|██████▊   | 684/1000 [4:38:18<2:18:44, 26.34s/it]"
     ]
    },
    {
     "name": "stdout",
     "output_type": "stream",
     "text": [
      "Time to: Calculate Ground State - 1.11s, Get Pauli Ops - 16.07s, Calculate Pauli Expectation Values - 5.92s, Calculate Covariance - 3.45s\n",
      "f0,f1,f2 = [3.773516721623729e-10, 2.2156640328261824e-10, 2.6567489455319644e-10]\n",
      "d01,d02,d12 = [0.9738514953067958, 0.992902776474445, 0.9902931263924089]\n"
     ]
    },
    {
     "name": "stderr",
     "output_type": "stream",
     "text": [
      "Progress:  68%|██████▊   | 685/1000 [4:38:43<2:16:28, 26.00s/it]"
     ]
    },
    {
     "name": "stdout",
     "output_type": "stream",
     "text": [
      "Time to: Calculate Ground State - 1.33s, Get Pauli Ops - 15.59s, Calculate Pauli Expectation Values - 5.12s, Calculate Covariance - 3.14s\n",
      "f0,f1,f2 = [5.386845622328131e-10, 4.675980776421337e-10, 3.3148678316348436e-10]\n",
      "d01,d02,d12 = [0.9731742431091791, 0.9946787864854619, 0.991668116333555]\n"
     ]
    },
    {
     "name": "stderr",
     "output_type": "stream",
     "text": [
      "Progress:  69%|██████▊   | 686/1000 [4:39:09<2:16:27, 26.08s/it]"
     ]
    },
    {
     "name": "stdout",
     "output_type": "stream",
     "text": [
      "Time to: Calculate Ground State - 1.24s, Get Pauli Ops - 16.43s, Calculate Pauli Expectation Values - 5.35s, Calculate Covariance - 3.22s\n",
      "f0,f1,f2 = [1.8144826185023908e-10, 2.4066137523443637e-10, 2.217173779979236e-10]\n",
      "d01,d02,d12 = [0.9725609471327104, 0.9963644020249494, 0.9930309484571173]\n"
     ]
    },
    {
     "name": "stderr",
     "output_type": "stream",
     "text": [
      "Progress:  69%|██████▊   | 687/1000 [4:39:33<2:12:36, 25.42s/it]"
     ]
    },
    {
     "name": "stdout",
     "output_type": "stream",
     "text": [
      "Time to: Calculate Ground State - 1.44s, Get Pauli Ops - 14.97s, Calculate Pauli Expectation Values - 5.01s, Calculate Covariance - 2.46s\n",
      "f0,f1,f2 = [3.557604102817304e-10, 3.488332085403682e-10, 3.606659398037555e-10]\n",
      "d01,d02,d12 = [0.9720563443774154, 0.9979989917257165, 0.994229721458399]\n"
     ]
    },
    {
     "name": "stderr",
     "output_type": "stream",
     "text": [
      "Progress:  69%|██████▉   | 688/1000 [4:40:01<2:16:39, 26.28s/it]"
     ]
    },
    {
     "name": "stdout",
     "output_type": "stream",
     "text": [
      "Time to: Calculate Ground State - 1.18s, Get Pauli Ops - 17.91s, Calculate Pauli Expectation Values - 5.47s, Calculate Covariance - 3.71s\n",
      "f0,f1,f2 = [3.0898534137440707e-10, 2.757894102588763e-10, 4.033603189725943e-10]\n",
      "d01,d02,d12 = [0.9716379583070986, 0.9995377275074804, 0.9952933514621755]\n"
     ]
    },
    {
     "name": "stderr",
     "output_type": "stream",
     "text": [
      "Progress:  69%|██████▉   | 689/1000 [4:40:26<2:13:58, 25.85s/it]"
     ]
    },
    {
     "name": "stdout",
     "output_type": "stream",
     "text": [
      "Time to: Calculate Ground State - 1.42s, Get Pauli Ops - 14.45s, Calculate Pauli Expectation Values - 5.39s, Calculate Covariance - 3.58s\n",
      "f0,f1,f2 = [2.506892384184851e-10, 2.2857936874180888e-10, 3.720566959316376e-10]\n",
      "d01,d02,d12 = [0.9712834445275902, 1.0009553853206234, 0.9962612616773935]\n"
     ]
    },
    {
     "name": "stderr",
     "output_type": "stream",
     "text": [
      "Progress:  69%|██████▉   | 690/1000 [4:40:48<2:06:36, 24.50s/it]"
     ]
    },
    {
     "name": "stdout",
     "output_type": "stream",
     "text": [
      "Time to: Calculate Ground State - 0.83s, Get Pauli Ops - 12.53s, Calculate Pauli Expectation Values - 4.96s, Calculate Covariance - 3.05s\n",
      "f0,f1,f2 = [5.805206032572955e-10, 4.3028607945449246e-10, 4.718369459801055e-10]\n",
      "d01,d02,d12 = [0.9709358457682344, 1.0021299263994887, 0.9972856184566796]\n"
     ]
    },
    {
     "name": "stderr",
     "output_type": "stream",
     "text": [
      "Progress:  69%|██████▉   | 691/1000 [4:41:09<2:01:46, 23.64s/it]"
     ]
    },
    {
     "name": "stdout",
     "output_type": "stream",
     "text": [
      "Time to: Calculate Ground State - 0.92s, Get Pauli Ops - 12.55s, Calculate Pauli Expectation Values - 5.49s, Calculate Covariance - 2.67s\n",
      "f0,f1,f2 = [3.363631123825689e-10, 2.1290477138384557e-10, 4.193482515378053e-10]\n",
      "d01,d02,d12 = [0.9706180480238101, 1.0031219336259363, 0.9982486074603685]\n"
     ]
    },
    {
     "name": "stderr",
     "output_type": "stream",
     "text": [
      "Progress:  69%|██████▉   | 692/1000 [4:41:34<2:02:50, 23.93s/it]"
     ]
    },
    {
     "name": "stdout",
     "output_type": "stream",
     "text": [
      "Time to: Calculate Ground State - 1.3s, Get Pauli Ops - 14.54s, Calculate Pauli Expectation Values - 5.47s, Calculate Covariance - 3.28s\n",
      "f0,f1,f2 = [7.638650296598211e-10, 5.633886122089957e-10, 5.686429416567214e-10]\n",
      "d01,d02,d12 = [0.9703007663159707, 1.0038011141735623, 0.9992986302670763]\n"
     ]
    },
    {
     "name": "stderr",
     "output_type": "stream",
     "text": [
      "Progress:  69%|██████▉   | 693/1000 [4:42:00<2:05:00, 24.43s/it]"
     ]
    },
    {
     "name": "stdout",
     "output_type": "stream",
     "text": [
      "Time to: Calculate Ground State - 1.19s, Get Pauli Ops - 15.65s, Calculate Pauli Expectation Values - 5.32s, Calculate Covariance - 3.44s\n",
      "f0,f1,f2 = [3.1345864293559716e-10, 3.4486671683289577e-10, 5.624773257187402e-10]\n",
      "d01,d02,d12 = [0.9700507106006581, 1.0043212178914984, 1.0001678999755312]\n"
     ]
    },
    {
     "name": "stderr",
     "output_type": "stream",
     "text": [
      "Progress:  69%|██████▉   | 694/1000 [4:42:26<2:07:04, 24.92s/it]"
     ]
    },
    {
     "name": "stdout",
     "output_type": "stream",
     "text": [
      "Time to: Calculate Ground State - 1.47s, Get Pauli Ops - 15.5s, Calculate Pauli Expectation Values - 5.96s, Calculate Covariance - 3.12s\n",
      "f0,f1,f2 = [3.6608446710869207e-10, 2.1451600778500456e-10, 5.489338614992931e-10]\n",
      "d01,d02,d12 = [0.9698396027724301, 1.0046336312512756, 1.0009265165758925]\n"
     ]
    },
    {
     "name": "stderr",
     "output_type": "stream",
     "text": [
      "Progress:  70%|██████▉   | 695/1000 [4:42:49<2:05:05, 24.61s/it]"
     ]
    },
    {
     "name": "stdout",
     "output_type": "stream",
     "text": [
      "Time to: Calculate Ground State - 1.1s, Get Pauli Ops - 14.22s, Calculate Pauli Expectation Values - 5.07s, Calculate Covariance - 3.48s\n",
      "f0,f1,f2 = [3.2969032487168436e-10, 3.770459101929059e-10, 5.957588715837224e-10]\n",
      "d01,d02,d12 = [0.9696946790819698, 1.0047962931252743, 1.0014811615740198]\n"
     ]
    },
    {
     "name": "stderr",
     "output_type": "stream",
     "text": [
      "Progress:  70%|██████▉   | 696/1000 [4:43:14<2:04:36, 24.59s/it]"
     ]
    },
    {
     "name": "stdout",
     "output_type": "stream",
     "text": [
      "Time to: Calculate Ground State - 1.41s, Get Pauli Ops - 14.24s, Calculate Pauli Expectation Values - 5.45s, Calculate Covariance - 3.46s\n",
      "f0,f1,f2 = [4.803500992821753e-10, 2.491469970710802e-10, 5.790773448234021e-10]\n",
      "d01,d02,d12 = [0.9695695319554946, 1.0047020631148813, 1.0019881105390827]\n"
     ]
    },
    {
     "name": "stderr",
     "output_type": "stream",
     "text": [
      "Progress:  70%|██████▉   | 697/1000 [4:43:39<2:05:03, 24.77s/it]"
     ]
    },
    {
     "name": "stdout",
     "output_type": "stream",
     "text": [
      "Time to: Calculate Ground State - 0.95s, Get Pauli Ops - 14.7s, Calculate Pauli Expectation Values - 6.12s, Calculate Covariance - 3.4s\n",
      "f0,f1,f2 = [3.6139299698944566e-10, 3.8214835245816583e-10, 6.191875736214164e-10]\n",
      "d01,d02,d12 = [0.9695049474860337, 1.0044545150686561, 1.0022907666125027]\n"
     ]
    },
    {
     "name": "stderr",
     "output_type": "stream",
     "text": [
      "Progress:  70%|██████▉   | 698/1000 [4:44:02<2:02:27, 24.33s/it]"
     ]
    },
    {
     "name": "stdout",
     "output_type": "stream",
     "text": [
      "Time to: Calculate Ground State - 0.96s, Get Pauli Ops - 14.33s, Calculate Pauli Expectation Values - 4.91s, Calculate Covariance - 3.12s\n",
      "f0,f1,f2 = [3.586025920253612e-10, 3.501898693284842e-10, 5.958210034769822e-10]\n",
      "d01,d02,d12 = [0.9695190169595032, 1.0040498248809433, 1.002411756112263]\n"
     ]
    },
    {
     "name": "stderr",
     "output_type": "stream",
     "text": [
      "Progress:  70%|██████▉   | 699/1000 [4:44:27<2:02:32, 24.43s/it]"
     ]
    },
    {
     "name": "stdout",
     "output_type": "stream",
     "text": [
      "Time to: Calculate Ground State - 1.68s, Get Pauli Ops - 13.72s, Calculate Pauli Expectation Values - 5.43s, Calculate Covariance - 3.81s\n",
      "f0,f1,f2 = [3.527528934149652e-10, 4.3613585740096886e-10, 5.83624047246877e-10]\n",
      "d01,d02,d12 = [0.9695974172703199, 1.0035039400075862, 1.0023162880593528]\n"
     ]
    },
    {
     "name": "stderr",
     "output_type": "stream",
     "text": [
      "Progress:  70%|███████   | 700/1000 [4:44:53<2:04:31, 24.90s/it]"
     ]
    },
    {
     "name": "stdout",
     "output_type": "stream",
     "text": [
      "Time to: Calculate Ground State - 1.31s, Get Pauli Ops - 14.64s, Calculate Pauli Expectation Values - 6.66s, Calculate Covariance - 3.4s\n",
      "f0,f1,f2 = [3.8538851277653743e-10, 4.115657991449116e-10, 6.003100273685153e-10]\n",
      "d01,d02,d12 = [0.9697643839760761, 1.0028051136813123, 1.0020172359423072]\n"
     ]
    },
    {
     "name": "stderr",
     "output_type": "stream",
     "text": [
      "Progress:  70%|███████   | 701/1000 [4:45:17<2:03:10, 24.72s/it]"
     ]
    },
    {
     "name": "stdout",
     "output_type": "stream",
     "text": [
      "Time to: Calculate Ground State - 0.95s, Get Pauli Ops - 13.97s, Calculate Pauli Expectation Values - 6.44s, Calculate Covariance - 2.91s\n",
      "f0,f1,f2 = [3.169275295134301e-10, 3.228588525293628e-10, 5.637250477601612e-10]\n",
      "d01,d02,d12 = [0.9699931012765879, 1.001945381971293, 1.0015566555438662]\n"
     ]
    },
    {
     "name": "stderr",
     "output_type": "stream",
     "text": [
      "Progress:  70%|███████   | 702/1000 [4:45:39<1:58:15, 23.81s/it]"
     ]
    },
    {
     "name": "stdout",
     "output_type": "stream",
     "text": [
      "Time to: Calculate Ground State - 0.89s, Get Pauli Ops - 12.43s, Calculate Pauli Expectation Values - 5.22s, Calculate Covariance - 3.15s\n",
      "f0,f1,f2 = [2.2625944379895956e-10, 1.8738652290135264e-10, 5.483234633680932e-10]\n",
      "d01,d02,d12 = [0.9702577349142256, 1.0009327061100188, 1.0009737320830878]\n"
     ]
    },
    {
     "name": "stderr",
     "output_type": "stream",
     "text": [
      "Progress:  70%|███████   | 703/1000 [4:46:03<1:57:18, 23.70s/it]"
     ]
    },
    {
     "name": "stdout",
     "output_type": "stream",
     "text": [
      "Time to: Calculate Ground State - 1.43s, Get Pauli Ops - 13.69s, Calculate Pauli Expectation Values - 4.5s, Calculate Covariance - 3.81s\n",
      "f0,f1,f2 = [4.2714128851343535e-10, 4.258278603081783e-10, 4.882213816904607e-10]\n",
      "d01,d02,d12 = [0.970622786204517, 0.9997641760865844, 1.0002385492457846]\n"
     ]
    },
    {
     "name": "stderr",
     "output_type": "stream",
     "text": [
      "Progress:  70%|███████   | 704/1000 [4:46:25<1:55:39, 23.44s/it]"
     ]
    },
    {
     "name": "stdout",
     "output_type": "stream",
     "text": [
      "Time to: Calculate Ground State - 1.18s, Get Pauli Ops - 13.18s, Calculate Pauli Expectation Values - 5.04s, Calculate Covariance - 3.44s\n",
      "f0,f1,f2 = [1.5297876172309428e-10, 1.9529281775723765e-10, 4.663886493106577e-10]\n",
      "d01,d02,d12 = [0.971017444312174, 0.9984973833680895, 0.9993762108825585]\n"
     ]
    },
    {
     "name": "stderr",
     "output_type": "stream",
     "text": [
      "Progress:  70%|███████   | 705/1000 [4:46:51<1:58:42, 24.15s/it]"
     ]
    },
    {
     "name": "stdout",
     "output_type": "stream",
     "text": [
      "Time to: Calculate Ground State - 0.88s, Get Pauli Ops - 13.99s, Calculate Pauli Expectation Values - 6.79s, Calculate Covariance - 4.11s\n",
      "f0,f1,f2 = [1.9092139495561864e-10, 2.241515748899428e-10, 4.4811954016328795e-10]\n",
      "d01,d02,d12 = [0.9714677403682634, 0.9971472479730765, 0.9983886627106007]\n"
     ]
    },
    {
     "name": "stderr",
     "output_type": "stream",
     "text": [
      "Progress:  71%|███████   | 706/1000 [4:47:14<1:55:48, 23.63s/it]"
     ]
    },
    {
     "name": "stdout",
     "output_type": "stream",
     "text": [
      "Time to: Calculate Ground State - 0.99s, Get Pauli Ops - 13.06s, Calculate Pauli Expectation Values - 4.97s, Calculate Covariance - 3.41s\n",
      "f0,f1,f2 = [3.6670553455096194e-10, 3.9305306117155765e-10, 4.310899944642595e-10]\n",
      "d01,d02,d12 = [0.9720207893478605, 0.9956656615012995, 0.9973103513774831]\n"
     ]
    },
    {
     "name": "stderr",
     "output_type": "stream",
     "text": [
      "Progress:  71%|███████   | 707/1000 [4:47:38<1:57:02, 23.97s/it]"
     ]
    },
    {
     "name": "stdout",
     "output_type": "stream",
     "text": [
      "Time to: Calculate Ground State - 1.55s, Get Pauli Ops - 15.08s, Calculate Pauli Expectation Values - 5.34s, Calculate Covariance - 2.76s\n",
      "f0,f1,f2 = [4.4245677050807033e-10, 4.3741690408449324e-10, 4.0389626981971345e-10]\n",
      "d01,d02,d12 = [0.9726891407559456, 0.994023728932769, 0.9961700661454095]\n"
     ]
    },
    {
     "name": "stderr",
     "output_type": "stream",
     "text": [
      "Progress:  71%|███████   | 708/1000 [4:48:03<1:57:52, 24.22s/it]"
     ]
    },
    {
     "name": "stdout",
     "output_type": "stream",
     "text": [
      "Time to: Calculate Ground State - 0.87s, Get Pauli Ops - 14.75s, Calculate Pauli Expectation Values - 6.31s, Calculate Covariance - 2.88s\n",
      "f0,f1,f2 = [1.840435635985702e-10, 2.0353527211537853e-10, 3.316832184731261e-10]\n",
      "d01,d02,d12 = [0.9734548854513015, 0.9923296135815839, 0.9949514182131758]\n"
     ]
    },
    {
     "name": "stderr",
     "output_type": "stream",
     "text": [
      "Progress:  71%|███████   | 709/1000 [4:48:25<1:54:14, 23.56s/it]"
     ]
    },
    {
     "name": "stdout",
     "output_type": "stream",
     "text": [
      "Time to: Calculate Ground State - 0.93s, Get Pauli Ops - 13.66s, Calculate Pauli Expectation Values - 4.77s, Calculate Covariance - 2.64s\n",
      "f0,f1,f2 = [2.531832382383523e-10, 2.496974011772722e-10, 2.0708330120011025e-10]\n",
      "d01,d02,d12 = [0.9742073950549827, 0.9907379089367447, 0.9936237714253457]\n"
     ]
    },
    {
     "name": "stderr",
     "output_type": "stream",
     "text": [
      "Progress:  71%|███████   | 710/1000 [4:48:51<1:57:41, 24.35s/it]"
     ]
    },
    {
     "name": "stdout",
     "output_type": "stream",
     "text": [
      "Time to: Calculate Ground State - 0.95s, Get Pauli Ops - 13.39s, Calculate Pauli Expectation Values - 7.78s, Calculate Covariance - 4.07s\n",
      "f0,f1,f2 = [6.331948159127312e-10, 7.178036585818738e-10, 3.817915928600678e-10]\n",
      "d01,d02,d12 = [0.974902192464699, 0.9893708850045156, 0.9921724890269124]\n"
     ]
    },
    {
     "name": "stderr",
     "output_type": "stream",
     "text": [
      "Progress:  71%|███████   | 711/1000 [4:49:16<1:57:47, 24.45s/it]"
     ]
    },
    {
     "name": "stdout",
     "output_type": "stream",
     "text": [
      "Time to: Calculate Ground State - 1.24s, Get Pauli Ops - 13.7s, Calculate Pauli Expectation Values - 6.35s, Calculate Covariance - 3.39s\n",
      "f0,f1,f2 = [2.1950307063033214e-10, 1.3837032987419946e-10, 1.6668320120387936e-10]\n",
      "d01,d02,d12 = [0.9756974441459948, 0.9879716681989474, 0.990692587919038]\n"
     ]
    },
    {
     "name": "stderr",
     "output_type": "stream",
     "text": [
      "Progress:  71%|███████   | 712/1000 [4:49:42<1:59:25, 24.88s/it]"
     ]
    },
    {
     "name": "stdout",
     "output_type": "stream",
     "text": [
      "Time to: Calculate Ground State - 1.23s, Get Pauli Ops - 16.44s, Calculate Pauli Expectation Values - 5.24s, Calculate Covariance - 2.95s\n",
      "f0,f1,f2 = [1.8468145304683004e-10, 9.955138170525304e-11, 6.901363022280335e-11]\n",
      "d01,d02,d12 = [0.9766189095731458, 0.9865456500364361, 0.9892176681181031]\n"
     ]
    },
    {
     "name": "stderr",
     "output_type": "stream",
     "text": [
      "Progress:  71%|███████▏  | 713/1000 [4:50:06<1:57:39, 24.60s/it]"
     ]
    },
    {
     "name": "stdout",
     "output_type": "stream",
     "text": [
      "Time to: Calculate Ground State - 0.82s, Get Pauli Ops - 13.97s, Calculate Pauli Expectation Values - 5.59s, Calculate Covariance - 3.56s\n",
      "f0,f1,f2 = [5.151448412919303e-10, 6.184853895685742e-10, 5.570753700192074e-10]\n",
      "d01,d02,d12 = [0.9774463565267263, 0.9853511079023796, 0.9877696343407496]\n"
     ]
    },
    {
     "name": "stderr",
     "output_type": "stream",
     "text": [
      "Progress:  71%|███████▏  | 714/1000 [4:50:30<1:56:32, 24.45s/it]"
     ]
    },
    {
     "name": "stdout",
     "output_type": "stream",
     "text": [
      "Time to: Calculate Ground State - 1.35s, Get Pauli Ops - 11.64s, Calculate Pauli Expectation Values - 7.73s, Calculate Covariance - 3.39s\n",
      "f0,f1,f2 = [8.817716468004809e-10, 7.225153825444514e-10, 5.417864565364983e-10]\n",
      "d01,d02,d12 = [0.9783626877679936, 0.9841578039099599, 0.9863096208583242]\n"
     ]
    },
    {
     "name": "stderr",
     "output_type": "stream",
     "text": [
      "Progress:  72%|███████▏  | 715/1000 [4:50:52<1:52:32, 23.69s/it]"
     ]
    },
    {
     "name": "stdout",
     "output_type": "stream",
     "text": [
      "Time to: Calculate Ground State - 1.4s, Get Pauli Ops - 11.62s, Calculate Pauli Expectation Values - 5.37s, Calculate Covariance - 3.53s\n",
      "f0,f1,f2 = [2.3761293359987104e-10, 2.507455469394627e-10, 1.8124547252374046e-10]\n",
      "d01,d02,d12 = [0.979367680758393, 0.9831323215439137, 0.9849234804003185]\n"
     ]
    },
    {
     "name": "stderr",
     "output_type": "stream",
     "text": [
      "Progress:  72%|███████▏  | 716/1000 [4:51:16<1:52:15, 23.72s/it]"
     ]
    },
    {
     "name": "stdout",
     "output_type": "stream",
     "text": [
      "Time to: Calculate Ground State - 1.16s, Get Pauli Ops - 14.64s, Calculate Pauli Expectation Values - 5.15s, Calculate Covariance - 2.81s\n",
      "f0,f1,f2 = [2.1466840584725685e-10, 1.932243975987757e-10, 2.437578693162676e-10]\n",
      "d01,d02,d12 = [0.9803344318284639, 0.9819619238752206, 0.9834455589583248]\n"
     ]
    },
    {
     "name": "stderr",
     "output_type": "stream",
     "text": [
      "Progress:  72%|███████▏  | 717/1000 [4:51:40<1:52:34, 23.87s/it]"
     ]
    },
    {
     "name": "stdout",
     "output_type": "stream",
     "text": [
      "Time to: Calculate Ground State - 0.79s, Get Pauli Ops - 14.69s, Calculate Pauli Expectation Values - 5.14s, Calculate Covariance - 3.59s\n",
      "f0,f1,f2 = [2.283049611139319e-10, 2.7836766468434403e-10, 6.548158708344684e-11]\n",
      "d01,d02,d12 = [0.9814061367025434, 0.9808872607561474, 0.9820556205298847]\n"
     ]
    },
    {
     "name": "stderr",
     "output_type": "stream",
     "text": [
      "Progress:  72%|███████▏  | 718/1000 [4:52:03<1:50:51, 23.59s/it]"
     ]
    },
    {
     "name": "stdout",
     "output_type": "stream",
     "text": [
      "Time to: Calculate Ground State - 1.35s, Get Pauli Ops - 13.55s, Calculate Pauli Expectation Values - 4.94s, Calculate Covariance - 3.08s\n",
      "f0,f1,f2 = [3.7378651893778317e-10, 3.5617644352751003e-10, 5.227562499247765e-11]\n",
      "d01,d02,d12 = [0.9825666267794533, 0.9798600386433287, 0.9806923375643284]\n"
     ]
    },
    {
     "name": "stderr",
     "output_type": "stream",
     "text": [
      "Progress:  72%|███████▏  | 719/1000 [4:52:26<1:49:42, 23.43s/it]"
     ]
    },
    {
     "name": "stdout",
     "output_type": "stream",
     "text": [
      "Time to: Calculate Ground State - 1.36s, Get Pauli Ops - 13.25s, Calculate Pauli Expectation Values - 5.12s, Calculate Covariance - 3.3s\n",
      "f0,f1,f2 = [5.945208016405209e-10, 4.915203867418868e-10, 4.131497459388962e-10]\n",
      "d01,d02,d12 = [0.9839390200557915, 0.9791822761808862, 0.9797087456068534]\n"
     ]
    },
    {
     "name": "stderr",
     "output_type": "stream",
     "text": [
      "Progress:  72%|███████▏  | 720/1000 [4:52:50<1:50:08, 23.60s/it]"
     ]
    },
    {
     "name": "stdout",
     "output_type": "stream",
     "text": [
      "Time to: Calculate Ground State - 1.31s, Get Pauli Ops - 11.98s, Calculate Pauli Expectation Values - 7.87s, Calculate Covariance - 2.85s\n",
      "f0,f1,f2 = [2.900999533845436e-10, 2.867289277559637e-10, 9.368374450708411e-10]\n",
      "d01,d02,d12 = [0.9852555405338068, 0.9784642666920795, 0.978679948084509]\n"
     ]
    },
    {
     "name": "stderr",
     "output_type": "stream",
     "text": [
      "Progress:  72%|███████▏  | 721/1000 [4:53:17<1:55:14, 24.78s/it]"
     ]
    },
    {
     "name": "stdout",
     "output_type": "stream",
     "text": [
      "Time to: Calculate Ground State - 1.34s, Get Pauli Ops - 15.06s, Calculate Pauli Expectation Values - 7.87s, Calculate Covariance - 3.25s\n",
      "f0,f1,f2 = [2.1211766725364518e-10, 1.689897334828468e-10, 2.889910669499871e-10]\n",
      "d01,d02,d12 = [0.9866709029590783, 0.977728911534227, 0.9776243539281865]\n"
     ]
    },
    {
     "name": "stderr",
     "output_type": "stream",
     "text": [
      "Progress:  72%|███████▏  | 722/1000 [4:53:39<1:50:18, 23.81s/it]"
     ]
    },
    {
     "name": "stdout",
     "output_type": "stream",
     "text": [
      "Time to: Calculate Ground State - 1.1s, Get Pauli Ops - 12.62s, Calculate Pauli Expectation Values - 4.78s, Calculate Covariance - 3.02s\n",
      "f0,f1,f2 = [4.666414650289458e-10, 4.6317194746442224e-10, 1.729012883305848e-10]\n",
      "d01,d02,d12 = [0.9876387573384189, 0.9771871796062845, 0.9767499920195467]\n"
     ]
    },
    {
     "name": "stderr",
     "output_type": "stream",
     "text": [
      "Progress:  72%|███████▏  | 723/1000 [4:54:03<1:49:45, 23.77s/it]"
     ]
    },
    {
     "name": "stdout",
     "output_type": "stream",
     "text": [
      "Time to: Calculate Ground State - 1.44s, Get Pauli Ops - 12.97s, Calculate Pauli Expectation Values - 5.44s, Calculate Covariance - 3.84s\n",
      "f0,f1,f2 = [3.5304065680193125e-10, 3.503198161466681e-10, 5.327043920888875e-10]\n",
      "d01,d02,d12 = [0.9881428986372125, 0.976837088766407, 0.9760025244617332]\n"
     ]
    },
    {
     "name": "stderr",
     "output_type": "stream",
     "text": [
      "Progress:  72%|███████▏  | 724/1000 [4:54:28<1:51:53, 24.33s/it]"
     ]
    },
    {
     "name": "stdout",
     "output_type": "stream",
     "text": [
      "Time to: Calculate Ground State - 1.26s, Get Pauli Ops - 16.13s, Calculate Pauli Expectation Values - 5.43s, Calculate Covariance - 2.79s\n",
      "f0,f1,f2 = [8.231213357438789e-10, 8.828322655263521e-10, 6.417399895418643e-10]\n",
      "d01,d02,d12 = [0.9881469386216604, 0.9767996813081053, 0.975407420865092]\n"
     ]
    },
    {
     "name": "stderr",
     "output_type": "stream",
     "text": [
      "Progress:  72%|███████▎  | 725/1000 [4:54:54<1:53:39, 24.80s/it]"
     ]
    },
    {
     "name": "stdout",
     "output_type": "stream",
     "text": [
      "Time to: Calculate Ground State - 1.45s, Get Pauli Ops - 13.99s, Calculate Pauli Expectation Values - 6.38s, Calculate Covariance - 4.08s\n",
      "f0,f1,f2 = [4.238499639659459e-10, 4.169422928610439e-10, 6.111367406341634e-10]\n",
      "d01,d02,d12 = [0.9880744181334715, 0.9769652397973299, 0.9749739982024328]\n"
     ]
    },
    {
     "name": "stderr",
     "output_type": "stream",
     "text": [
      "Progress:  73%|███████▎  | 726/1000 [4:55:18<1:51:25, 24.40s/it]"
     ]
    },
    {
     "name": "stdout",
     "output_type": "stream",
     "text": [
      "Time to: Calculate Ground State - 1.42s, Get Pauli Ops - 13.41s, Calculate Pauli Expectation Values - 5.58s, Calculate Covariance - 3.04s\n",
      "f0,f1,f2 = [7.58931018349335e-11, 2.1195039863622192e-10, 6.737103749762022e-10]\n",
      "d01,d02,d12 = [0.9879883206847421, 0.977278975443814, 0.9747109475142586]\n"
     ]
    },
    {
     "name": "stderr",
     "output_type": "stream",
     "text": [
      "Progress:  73%|███████▎  | 727/1000 [4:55:42<1:50:34, 24.30s/it]"
     ]
    },
    {
     "name": "stdout",
     "output_type": "stream",
     "text": [
      "Time to: Calculate Ground State - 0.83s, Get Pauli Ops - 14.5s, Calculate Pauli Expectation Values - 5.28s, Calculate Covariance - 3.46s\n",
      "f0,f1,f2 = [1.4041488359594407e-10, 2.3193243939068913e-10, 3.8151393685740156e-10]\n",
      "d01,d02,d12 = [0.987948840575261, 0.9776995730760007, 0.974579501958374]\n"
     ]
    },
    {
     "name": "stderr",
     "output_type": "stream",
     "text": [
      "Progress:  73%|███████▎  | 728/1000 [4:56:07<1:51:23, 24.57s/it]"
     ]
    },
    {
     "name": "stdout",
     "output_type": "stream",
     "text": [
      "Time to: Calculate Ground State - 1.32s, Get Pauli Ops - 14.32s, Calculate Pauli Expectation Values - 6.6s, Calculate Covariance - 2.94s\n",
      "f0,f1,f2 = [3.6371616441195434e-10, 3.475714600532591e-10, 7.019414717175804e-10]\n",
      "d01,d02,d12 = [0.987855168265108, 0.9783353311445312, 0.9745910351434425]\n"
     ]
    },
    {
     "name": "stderr",
     "output_type": "stream",
     "text": [
      "Progress:  73%|███████▎  | 729/1000 [4:56:33<1:53:27, 25.12s/it]"
     ]
    },
    {
     "name": "stdout",
     "output_type": "stream",
     "text": [
      "Time to: Calculate Ground State - 1.09s, Get Pauli Ops - 16.33s, Calculate Pauli Expectation Values - 5.34s, Calculate Covariance - 3.63s\n",
      "f0,f1,f2 = [7.517149266682778e-10, 1.349886899448588e-09, 7.824499120940622e-10]\n",
      "d01,d02,d12 = [0.9880153556867357, 0.9787203625854997, 0.9747611040351859]\n"
     ]
    },
    {
     "name": "stderr",
     "output_type": "stream",
     "text": [
      "Progress:  73%|███████▎  | 730/1000 [4:56:59<1:53:49, 25.29s/it]"
     ]
    },
    {
     "name": "stdout",
     "output_type": "stream",
     "text": [
      "Time to: Calculate Ground State - 1.12s, Get Pauli Ops - 13.6s, Calculate Pauli Expectation Values - 6.88s, Calculate Covariance - 4.08s\n",
      "f0,f1,f2 = [4.643160269389651e-10, 6.925888329278318e-10, 3.8651114919206017e-10]\n",
      "d01,d02,d12 = [0.9882970071962769, 0.9790356946014642, 0.9750658143474176]\n"
     ]
    },
    {
     "name": "stderr",
     "output_type": "stream",
     "text": [
      "Progress:  73%|███████▎  | 731/1000 [4:57:25<1:54:41, 25.58s/it]"
     ]
    },
    {
     "name": "stdout",
     "output_type": "stream",
     "text": [
      "Time to: Calculate Ground State - 1.1s, Get Pauli Ops - 15.34s, Calculate Pauli Expectation Values - 6.24s, Calculate Covariance - 3.56s\n",
      "f0,f1,f2 = [1.1645589784420026e-09, 1.0936548073014833e-09, 1.413343476576945e-09]\n",
      "d01,d02,d12 = [0.9883701131249192, 0.9799577882900681, 0.9754552483594339]\n"
     ]
    },
    {
     "name": "stderr",
     "output_type": "stream",
     "text": [
      "Progress:  73%|███████▎  | 732/1000 [4:57:51<1:54:41, 25.68s/it]"
     ]
    },
    {
     "name": "stdout",
     "output_type": "stream",
     "text": [
      "Time to: Calculate Ground State - 1.1s, Get Pauli Ops - 16.64s, Calculate Pauli Expectation Values - 5.13s, Calculate Covariance - 3.02s\n",
      "f0,f1,f2 = [1.0213530181029376e-10, 2.1360943495777798e-10, 2.7800117041286943e-10]\n",
      "d01,d02,d12 = [0.988463198098221, 0.9810140397597226, 0.9759445693195793]\n"
     ]
    },
    {
     "name": "stderr",
     "output_type": "stream",
     "text": [
      "Progress:  73%|███████▎  | 733/1000 [4:58:13<1:49:12, 24.54s/it]"
     ]
    },
    {
     "name": "stdout",
     "output_type": "stream",
     "text": [
      "Time to: Calculate Ground State - 1.08s, Get Pauli Ops - 12.56s, Calculate Pauli Expectation Values - 4.92s, Calculate Covariance - 3.32s\n",
      "f0,f1,f2 = [7.031606898658933e-10, 7.326236166425746e-10, 7.190098488169555e-10]\n",
      "d01,d02,d12 = [0.9886713005002324, 0.9818133578525482, 0.9765979494553266]\n"
     ]
    },
    {
     "name": "stderr",
     "output_type": "stream",
     "text": [
      "Progress:  73%|███████▎  | 734/1000 [4:58:37<1:47:39, 24.29s/it]"
     ]
    },
    {
     "name": "stdout",
     "output_type": "stream",
     "text": [
      "Time to: Calculate Ground State - 1.09s, Get Pauli Ops - 12.58s, Calculate Pauli Expectation Values - 6.49s, Calculate Covariance - 3.53s\n",
      "f0,f1,f2 = [8.714347655108715e-11, 2.362308368754251e-10, 2.784652872274659e-10]\n",
      "d01,d02,d12 = [0.9889032536778924, 0.9826048960649701, 0.9773602201891651]\n"
     ]
    },
    {
     "name": "stderr",
     "output_type": "stream",
     "text": [
      "Progress:  74%|███████▎  | 735/1000 [4:58:59<1:44:06, 23.57s/it]"
     ]
    },
    {
     "name": "stdout",
     "output_type": "stream",
     "text": [
      "Time to: Calculate Ground State - 0.82s, Get Pauli Ops - 11.92s, Calculate Pauli Expectation Values - 6.34s, Calculate Covariance - 2.82s\n",
      "f0,f1,f2 = [1.6276708430242507e-09, 1.184189113186984e-09, 1.4765051694085837e-09]\n",
      "d01,d02,d12 = [0.989019970962198, 0.9841242629672324, 0.9779714327443457]\n"
     ]
    },
    {
     "name": "stderr",
     "output_type": "stream",
     "text": [
      "Progress:  74%|███████▎  | 736/1000 [4:59:20<1:40:13, 22.78s/it]"
     ]
    },
    {
     "name": "stdout",
     "output_type": "stream",
     "text": [
      "Time to: Calculate Ground State - 0.82s, Get Pauli Ops - 11.38s, Calculate Pauli Expectation Values - 5.44s, Calculate Covariance - 3.3s\n",
      "f0,f1,f2 = [1.3577949358477382e-09, 1.2494115852247626e-09, 1.0696600068131879e-09]\n",
      "d01,d02,d12 = [0.9895043351228029, 0.9853115706342688, 0.9789277825312181]\n"
     ]
    },
    {
     "name": "stderr",
     "output_type": "stream",
     "text": [
      "Progress:  74%|███████▎  | 737/1000 [4:59:41<1:38:13, 22.41s/it]"
     ]
    },
    {
     "name": "stdout",
     "output_type": "stream",
     "text": [
      "Time to: Calculate Ground State - 0.81s, Get Pauli Ops - 12.19s, Calculate Pauli Expectation Values - 5.56s, Calculate Covariance - 2.97s\n",
      "f0,f1,f2 = [4.628878598597098e-10, 2.625296899281022e-10, 4.818895980402099e-10]\n",
      "d01,d02,d12 = [0.9899393007449621, 0.9867009776816777, 0.9797872769446293]\n"
     ]
    },
    {
     "name": "stderr",
     "output_type": "stream",
     "text": [
      "Progress:  74%|███████▍  | 738/1000 [5:00:05<1:40:20, 22.98s/it]"
     ]
    },
    {
     "name": "stdout",
     "output_type": "stream",
     "text": [
      "Time to: Calculate Ground State - 1.45s, Get Pauli Ops - 13.03s, Calculate Pauli Expectation Values - 6.56s, Calculate Covariance - 3.26s\n",
      "f0,f1,f2 = [2.4276229519255967e-10, 2.5164859880169537e-10, 3.8154944306643326e-10]\n",
      "d01,d02,d12 = [0.9902731682174075, 0.9879313708036268, 0.9807358050690885]\n"
     ]
    },
    {
     "name": "stderr",
     "output_type": "stream",
     "text": [
      "Progress:  74%|███████▍  | 739/1000 [5:00:28<1:39:58, 22.98s/it]"
     ]
    },
    {
     "name": "stdout",
     "output_type": "stream",
     "text": [
      "Time to: Calculate Ground State - 0.82s, Get Pauli Ops - 12.3s, Calculate Pauli Expectation Values - 5.98s, Calculate Covariance - 3.87s\n",
      "f0,f1,f2 = [4.685126176698215e-10, 1.606796563550595e-10, 2.66408740974067e-10]\n",
      "d01,d02,d12 = [0.9905467816624132, 0.989148045659945, 0.9816106680513599]\n"
     ]
    },
    {
     "name": "stderr",
     "output_type": "stream",
     "text": [
      "Progress:  74%|███████▍  | 740/1000 [5:00:52<1:39:55, 23.06s/it]"
     ]
    },
    {
     "name": "stdout",
     "output_type": "stream",
     "text": [
      "Time to: Calculate Ground State - 0.93s, Get Pauli Ops - 13.84s, Calculate Pauli Expectation Values - 5.44s, Calculate Covariance - 3.03s\n",
      "f0,f1,f2 = [2.0014695471821925e-10, 4.13540116251259e-11, 1.5349120472510663e-10]\n",
      "d01,d02,d12 = [0.9907592254600628, 0.9903251257455367, 0.9824829524097161]\n"
     ]
    },
    {
     "name": "stderr",
     "output_type": "stream",
     "text": [
      "Progress:  74%|███████▍  | 741/1000 [5:01:17<1:42:15, 23.69s/it]"
     ]
    },
    {
     "name": "stdout",
     "output_type": "stream",
     "text": [
      "Time to: Calculate Ground State - 0.8s, Get Pauli Ops - 13.31s, Calculate Pauli Expectation Values - 8.11s, Calculate Covariance - 2.92s\n",
      "f0,f1,f2 = [3.279990266226592e-10, 3.1515773450146664e-10, 2.404152879060522e-10]\n",
      "d01,d02,d12 = [0.9909636335460508, 0.9915107010828713, 0.9831828341448263]\n"
     ]
    },
    {
     "name": "stderr",
     "output_type": "stream",
     "text": [
      "Progress:  74%|███████▍  | 742/1000 [5:01:43<1:45:38, 24.57s/it]"
     ]
    },
    {
     "name": "stdout",
     "output_type": "stream",
     "text": [
      "Time to: Calculate Ground State - 1.08s, Get Pauli Ops - 15.16s, Calculate Pauli Expectation Values - 7.27s, Calculate Covariance - 3.11s\n",
      "f0,f1,f2 = [1.96489521347894e-10, 1.6606007842231008e-10, 2.1544670490601018e-10]\n",
      "d01,d02,d12 = [0.9911351696765618, 0.9926571076671241, 0.9838678676905994]\n"
     ]
    },
    {
     "name": "stderr",
     "output_type": "stream",
     "text": [
      "Progress:  74%|███████▍  | 743/1000 [5:02:09<1:45:58, 24.74s/it]"
     ]
    },
    {
     "name": "stdout",
     "output_type": "stream",
     "text": [
      "Time to: Calculate Ground State - 1.21s, Get Pauli Ops - 14.1s, Calculate Pauli Expectation Values - 6.77s, Calculate Covariance - 3.05s\n",
      "f0,f1,f2 = [5.394116852424975e-10, 2.4369509480650375e-10, 2.967403001830494e-10]\n",
      "d01,d02,d12 = [0.9911567816592493, 0.9936572252095279, 0.9845515183941543]\n"
     ]
    },
    {
     "name": "stderr",
     "output_type": "stream",
     "text": [
      "Progress:  74%|███████▍  | 744/1000 [5:02:33<1:45:37, 24.76s/it]"
     ]
    },
    {
     "name": "stdout",
     "output_type": "stream",
     "text": [
      "Time to: Calculate Ground State - 1.08s, Get Pauli Ops - 15.09s, Calculate Pauli Expectation Values - 5.54s, Calculate Covariance - 3.08s\n",
      "f0,f1,f2 = [1.7732417615450151e-10, 1.0198230067385611e-10, 4.159048588193282e-10]\n",
      "d01,d02,d12 = [0.9910919437341782, 0.9945800250557927, 0.9852333794139831]\n"
     ]
    },
    {
     "name": "stderr",
     "output_type": "stream",
     "text": [
      "Progress:  74%|███████▍  | 745/1000 [5:02:57<1:44:19, 24.55s/it]"
     ]
    },
    {
     "name": "stdout",
     "output_type": "stream",
     "text": [
      "Time to: Calculate Ground State - 1.41s, Get Pauli Ops - 13.03s, Calculate Pauli Expectation Values - 6.17s, Calculate Covariance - 3.43s\n",
      "f0,f1,f2 = [1.1283108294658378e-09, 6.574945534629106e-10, 7.141589907280885e-10]\n",
      "d01,d02,d12 = [0.9903675705210123, 0.9952879598474368, 0.9860213861310843]\n"
     ]
    },
    {
     "name": "stderr",
     "output_type": "stream",
     "text": [
      "Progress:  75%|███████▍  | 746/1000 [5:03:19<1:40:27, 23.73s/it]"
     ]
    },
    {
     "name": "stdout",
     "output_type": "stream",
     "text": [
      "Time to: Calculate Ground State - 1.35s, Get Pauli Ops - 12.47s, Calculate Pauli Expectation Values - 5.1s, Calculate Covariance - 2.9s\n",
      "f0,f1,f2 = [8.184771683699682e-10, 5.23267441925303e-10, 4.702039420324771e-10]\n",
      "d01,d02,d12 = [0.9890849834290604, 0.9958171930951435, 0.9868268798107742]\n"
     ]
    },
    {
     "name": "stderr",
     "output_type": "stream",
     "text": [
      "Progress:  75%|███████▍  | 747/1000 [5:03:45<1:43:10, 24.47s/it]"
     ]
    },
    {
     "name": "stdout",
     "output_type": "stream",
     "text": [
      "Time to: Calculate Ground State - 1.27s, Get Pauli Ops - 14.84s, Calculate Pauli Expectation Values - 6.79s, Calculate Covariance - 3.28s\n",
      "f0,f1,f2 = [1.8836088450791017e-10, 4.0677670678800913e-10, 7.159606392266397e-10]\n",
      "d01,d02,d12 = [0.9878399190922496, 0.9962350513895496, 0.9876362210310975]\n"
     ]
    },
    {
     "name": "stderr",
     "output_type": "stream",
     "text": [
      "Progress:  75%|███████▍  | 748/1000 [5:04:12<1:45:06, 25.03s/it]"
     ]
    },
    {
     "name": "stdout",
     "output_type": "stream",
     "text": [
      "Time to: Calculate Ground State - 1.02s, Get Pauli Ops - 14.67s, Calculate Pauli Expectation Values - 7.18s, Calculate Covariance - 3.45s\n",
      "f0,f1,f2 = [2.5702841778753684e-10, 7.638981605182078e-10, 4.661346549662884e-10]\n",
      "d01,d02,d12 = [0.98625054913444, 0.9968178250843318, 0.988117217653803]\n"
     ]
    },
    {
     "name": "stderr",
     "output_type": "stream",
     "text": [
      "Progress:  75%|███████▍  | 749/1000 [5:04:37<1:44:42, 25.03s/it]"
     ]
    },
    {
     "name": "stdout",
     "output_type": "stream",
     "text": [
      "Time to: Calculate Ground State - 1.07s, Get Pauli Ops - 15.62s, Calculate Pauli Expectation Values - 5.23s, Calculate Covariance - 3.12s\n",
      "f0,f1,f2 = [5.365419188964847e-10, 7.688785028758652e-10, 5.066411529318317e-10]\n",
      "d01,d02,d12 = [0.9845315906280259, 0.9976051060428561, 0.9883287721617552]\n"
     ]
    },
    {
     "name": "stderr",
     "output_type": "stream",
     "text": [
      "Progress:  75%|███████▌  | 750/1000 [5:05:02<1:44:14, 25.02s/it]"
     ]
    },
    {
     "name": "stdout",
     "output_type": "stream",
     "text": [
      "Time to: Calculate Ground State - 0.82s, Get Pauli Ops - 13.99s, Calculate Pauli Expectation Values - 6.21s, Calculate Covariance - 3.95s\n",
      "f0,f1,f2 = [5.143428052383069e-10, 6.544684865121883e-10, 7.998429642662473e-10]\n",
      "d01,d02,d12 = [0.9828899761978306, 0.9985480777092902, 0.9882769545616511]\n"
     ]
    },
    {
     "name": "stderr",
     "output_type": "stream",
     "text": [
      "Progress:  75%|███████▌  | 751/1000 [5:05:32<1:49:43, 26.44s/it]"
     ]
    },
    {
     "name": "stdout",
     "output_type": "stream",
     "text": [
      "Time to: Calculate Ground State - 1.59s, Get Pauli Ops - 18.49s, Calculate Pauli Expectation Values - 5.88s, Calculate Covariance - 3.79s\n",
      "f0,f1,f2 = [2.0732232173062364e-10, 8.31865939268688e-11, 2.8036373905383454e-10]\n",
      "d01,d02,d12 = [0.9811953176708864, 0.9993446549700743, 0.9882052174508246]\n"
     ]
    },
    {
     "name": "stderr",
     "output_type": "stream",
     "text": [
      "Progress:  75%|███████▌  | 752/1000 [5:06:00<1:51:56, 27.08s/it]"
     ]
    },
    {
     "name": "stdout",
     "output_type": "stream",
     "text": [
      "Time to: Calculate Ground State - 1.45s, Get Pauli Ops - 18.49s, Calculate Pauli Expectation Values - 5.03s, Calculate Covariance - 3.61s\n",
      "f0,f1,f2 = [2.7117203121187797e-10, 5.320320474448665e-10, 6.736029723046046e-10]\n",
      "d01,d02,d12 = [0.9796845332031461, 1.000161256285499, 0.9878057205970573]\n"
     ]
    },
    {
     "name": "stderr",
     "output_type": "stream",
     "text": [
      "Progress:  75%|███████▌  | 753/1000 [5:06:27<1:51:36, 27.11s/it]"
     ]
    },
    {
     "name": "stdout",
     "output_type": "stream",
     "text": [
      "Time to: Calculate Ground State - 1.66s, Get Pauli Ops - 14.93s, Calculate Pauli Expectation Values - 7.64s, Calculate Covariance - 2.93s\n",
      "f0,f1,f2 = [1.0467716973089914e-09, 1.335986240869237e-09, 1.546200552940134e-09]\n",
      "d01,d02,d12 = [0.978425159883937, 1.001015731940327, 0.9869923665380179]\n"
     ]
    },
    {
     "name": "stderr",
     "output_type": "stream",
     "text": [
      "Progress:  75%|███████▌  | 754/1000 [5:06:52<1:48:33, 26.48s/it]"
     ]
    },
    {
     "name": "stdout",
     "output_type": "stream",
     "text": [
      "Time to: Calculate Ground State - 0.88s, Get Pauli Ops - 14.6s, Calculate Pauli Expectation Values - 5.89s, Calculate Covariance - 3.61s\n",
      "f0,f1,f2 = [5.764879310340548e-10, 3.8225782105455973e-10, 5.30903715977329e-10]\n",
      "d01,d02,d12 = [0.9770441320829719, 1.0016338353260181, 0.9864043614978154]\n"
     ]
    },
    {
     "name": "stderr",
     "output_type": "stream",
     "text": [
      "Progress:  76%|███████▌  | 755/1000 [5:07:17<1:46:22, 26.05s/it]"
     ]
    },
    {
     "name": "stdout",
     "output_type": "stream",
     "text": [
      "Time to: Calculate Ground State - 1.45s, Get Pauli Ops - 15.04s, Calculate Pauli Expectation Values - 5.26s, Calculate Covariance - 3.31s\n",
      "f0,f1,f2 = [5.95840520237134e-10, 4.037463963416794e-10, 4.2510194085339466e-10]\n",
      "d01,d02,d12 = [0.975560242153995, 1.0020965198474785, 0.9860020893016943]\n"
     ]
    },
    {
     "name": "stderr",
     "output_type": "stream",
     "text": [
      "Progress:  76%|███████▌  | 756/1000 [5:07:42<1:44:11, 25.62s/it]"
     ]
    },
    {
     "name": "stdout",
     "output_type": "stream",
     "text": [
      "Time to: Calculate Ground State - 1.05s, Get Pauli Ops - 13.94s, Calculate Pauli Expectation Values - 6.32s, Calculate Covariance - 3.29s\n",
      "f0,f1,f2 = [1.657123831419314e-09, 1.437778493078931e-09, 1.5255801244337629e-09]\n",
      "d01,d02,d12 = [0.9736686930957692, 1.0021667034231627, 0.9862608657015507]\n"
     ]
    },
    {
     "name": "stderr",
     "output_type": "stream",
     "text": [
      "Progress:  76%|███████▌  | 757/1000 [5:08:06<1:42:12, 25.24s/it]"
     ]
    },
    {
     "name": "stdout",
     "output_type": "stream",
     "text": [
      "Time to: Calculate Ground State - 1.2s, Get Pauli Ops - 13.51s, Calculate Pauli Expectation Values - 5.75s, Calculate Covariance - 3.87s\n",
      "f0,f1,f2 = [4.168241428916905e-10, 4.31406300444613e-10, 5.298010591847325e-10]\n",
      "d01,d02,d12 = [0.9719439217547257, 1.0021762814337638, 0.9863762886731711]\n"
     ]
    },
    {
     "name": "stderr",
     "output_type": "stream",
     "text": [
      "Progress:  76%|███████▌  | 758/1000 [5:08:31<1:41:29, 25.16s/it]"
     ]
    },
    {
     "name": "stdout",
     "output_type": "stream",
     "text": [
      "Time to: Calculate Ground State - 0.88s, Get Pauli Ops - 13.64s, Calculate Pauli Expectation Values - 6.59s, Calculate Covariance - 3.89s\n",
      "f0,f1,f2 = [4.2574364416887903e-10, 3.4945715204233734e-10, 3.9821120137358193e-10]\n",
      "d01,d02,d12 = [0.9702496361790068, 1.0020262530280009, 0.9865894764161129]\n"
     ]
    },
    {
     "name": "stderr",
     "output_type": "stream",
     "text": [
      "Progress:  76%|███████▌  | 759/1000 [5:08:56<1:40:48, 25.10s/it]"
     ]
    },
    {
     "name": "stdout",
     "output_type": "stream",
     "text": [
      "Time to: Calculate Ground State - 1.2s, Get Pauli Ops - 15.79s, Calculate Pauli Expectation Values - 5.38s, Calculate Covariance - 2.57s\n",
      "f0,f1,f2 = [3.7727301760744475e-10, 3.550768898267899e-10, 3.913446431418301e-10]\n",
      "d01,d02,d12 = [0.9686885686518001, 1.001815054020776, 0.9867401418836632]\n"
     ]
    },
    {
     "name": "stderr",
     "output_type": "stream",
     "text": [
      "Progress:  76%|███████▌  | 760/1000 [5:09:20<1:38:53, 24.72s/it]"
     ]
    },
    {
     "name": "stdout",
     "output_type": "stream",
     "text": [
      "Time to: Calculate Ground State - 0.94s, Get Pauli Ops - 13.87s, Calculate Pauli Expectation Values - 5.22s, Calculate Covariance - 3.8s\n",
      "f0,f1,f2 = [5.910285229274044e-10, 5.954538981173565e-10, 5.6091158005807e-10]\n",
      "d01,d02,d12 = [0.9671452161144399, 1.0014020792835343, 0.9870986023083108]\n"
     ]
    },
    {
     "name": "stderr",
     "output_type": "stream",
     "text": [
      "Progress:  76%|███████▌  | 761/1000 [5:09:46<1:39:13, 24.91s/it]"
     ]
    },
    {
     "name": "stdout",
     "output_type": "stream",
     "text": [
      "Time to: Calculate Ground State - 1.24s, Get Pauli Ops - 15.5s, Calculate Pauli Expectation Values - 5.75s, Calculate Covariance - 2.86s\n",
      "f0,f1,f2 = [3.4964585236716075e-10, 3.3947024138245057e-10, 2.9174906707745136e-10]\n",
      "d01,d02,d12 = [0.9657936261279333, 1.0009762931395316, 0.9873408018342725]\n"
     ]
    },
    {
     "name": "stderr",
     "output_type": "stream",
     "text": [
      "Progress:  76%|███████▌  | 762/1000 [5:10:13<1:41:57, 25.71s/it]"
     ]
    },
    {
     "name": "stdout",
     "output_type": "stream",
     "text": [
      "Time to: Calculate Ground State - 0.93s, Get Pauli Ops - 17.88s, Calculate Pauli Expectation Values - 5.59s, Calculate Covariance - 3.14s\n",
      "f0,f1,f2 = [4.2135807973008105e-10, 4.6298381063892304e-10, 3.985488240407972e-10]\n",
      "d01,d02,d12 = [0.9645471563732677, 1.000385437103068, 0.9877154134033561]\n"
     ]
    },
    {
     "name": "stderr",
     "output_type": "stream",
     "text": [
      "Progress:  76%|███████▋  | 763/1000 [5:10:41<1:44:37, 26.49s/it]"
     ]
    },
    {
     "name": "stdout",
     "output_type": "stream",
     "text": [
      "Time to: Calculate Ground State - 1.54s, Get Pauli Ops - 16.87s, Calculate Pauli Expectation Values - 6.56s, Calculate Covariance - 3.33s\n",
      "f0,f1,f2 = [3.7768670858080306e-10, 4.4354849357121124e-10, 3.114115786202536e-10]\n",
      "d01,d02,d12 = [0.9634487580558332, 0.9996734205838941, 0.9881718494820138]\n"
     ]
    },
    {
     "name": "stderr",
     "output_type": "stream",
     "text": [
      "Progress:  76%|███████▋  | 764/1000 [5:11:07<1:43:12, 26.24s/it]"
     ]
    },
    {
     "name": "stdout",
     "output_type": "stream",
     "text": [
      "Time to: Calculate Ground State - 1.2s, Get Pauli Ops - 15.61s, Calculate Pauli Expectation Values - 6.07s, Calculate Covariance - 2.77s\n",
      "f0,f1,f2 = [1.120069219828589e-09, 9.631197511497153e-10, 9.184144808654038e-10]\n",
      "d01,d02,d12 = [0.962660380089637, 0.9991435582401963, 0.9882973812527459]\n"
     ]
    },
    {
     "name": "stderr",
     "output_type": "stream",
     "text": [
      "Progress:  76%|███████▋  | 765/1000 [5:11:37<1:46:37, 27.22s/it]"
     ]
    },
    {
     "name": "stdout",
     "output_type": "stream",
     "text": [
      "Time to: Calculate Ground State - 0.98s, Get Pauli Ops - 18.61s, Calculate Pauli Expectation Values - 6.18s, Calculate Covariance - 3.75s\n",
      "f0,f1,f2 = [8.076074679097822e-10, 6.709995146216406e-10, 5.630325592162856e-10]\n",
      "d01,d02,d12 = [0.9621488800336429, 0.9986956498889764, 0.9882147151609989]\n"
     ]
    },
    {
     "name": "stderr",
     "output_type": "stream",
     "text": [
      "Progress:  77%|███████▋  | 766/1000 [5:12:02<1:43:47, 26.61s/it]"
     ]
    },
    {
     "name": "stdout",
     "output_type": "stream",
     "text": [
      "Time to: Calculate Ground State - 0.96s, Get Pauli Ops - 14.74s, Calculate Pauli Expectation Values - 6.18s, Calculate Covariance - 3.3s\n",
      "f0,f1,f2 = [6.190291699307383e-10, 7.939937882530641e-10, 6.337999016967849e-10]\n",
      "d01,d02,d12 = [0.961766457757364, 0.9980161699364684, 0.9883989208256554]\n"
     ]
    },
    {
     "name": "stderr",
     "output_type": "stream",
     "text": [
      "Progress:  77%|███████▋  | 767/1000 [5:12:28<1:43:21, 26.61s/it]"
     ]
    },
    {
     "name": "stdout",
     "output_type": "stream",
     "text": [
      "Time to: Calculate Ground State - 1.74s, Get Pauli Ops - 16.41s, Calculate Pauli Expectation Values - 5.16s, Calculate Covariance - 3.3s\n",
      "f0,f1,f2 = [8.047013822732769e-10, 1.008197954721616e-09, 8.304381982092632e-10]\n",
      "d01,d02,d12 = [0.9615055838065292, 0.9970859055393128, 0.9888741565099548]\n"
     ]
    },
    {
     "name": "stderr",
     "output_type": "stream",
     "text": [
      "Progress:  77%|███████▋  | 768/1000 [5:12:55<1:42:42, 26.56s/it]"
     ]
    },
    {
     "name": "stdout",
     "output_type": "stream",
     "text": [
      "Time to: Calculate Ground State - 1.29s, Get Pauli Ops - 16.63s, Calculate Pauli Expectation Values - 5.28s, Calculate Covariance - 3.23s\n",
      "f0,f1,f2 = [4.347931089282231e-10, 6.551345955337984e-10, 3.828178639309947e-10]\n",
      "d01,d02,d12 = [0.9614167990939723, 0.9960219129656236, 0.989496247949256]\n"
     ]
    },
    {
     "name": "stderr",
     "output_type": "stream",
     "text": [
      "Progress:  77%|███████▋  | 769/1000 [5:13:22<1:43:14, 26.82s/it]"
     ]
    },
    {
     "name": "stdout",
     "output_type": "stream",
     "text": [
      "Time to: Calculate Ground State - 0.96s, Get Pauli Ops - 17.42s, Calculate Pauli Expectation Values - 5.65s, Calculate Covariance - 3.38s\n",
      "f0,f1,f2 = [3.4360363512794193e-10, 5.580155690620946e-10, 2.4618343515223336e-10]\n",
      "d01,d02,d12 = [0.9615055260749888, 0.9948882541888395, 0.9902159066618657]\n"
     ]
    },
    {
     "name": "stderr",
     "output_type": "stream",
     "text": [
      "Progress:  77%|███████▋  | 770/1000 [5:13:51<1:44:52, 27.36s/it]"
     ]
    },
    {
     "name": "stdout",
     "output_type": "stream",
     "text": [
      "Time to: Calculate Ground State - 1.58s, Get Pauli Ops - 17.9s, Calculate Pauli Expectation Values - 5.43s, Calculate Covariance - 3.71s\n",
      "f0,f1,f2 = [8.397600313272666e-10, 4.3527511715738053e-10, 3.660027528444848e-10]\n",
      "d01,d02,d12 = [0.961834988479266, 0.993864392195032, 0.9907753780612978]\n"
     ]
    },
    {
     "name": "stderr",
     "output_type": "stream",
     "text": [
      "Progress:  77%|███████▋  | 771/1000 [5:14:17<1:42:34, 26.88s/it]"
     ]
    },
    {
     "name": "stdout",
     "output_type": "stream",
     "text": [
      "Time to: Calculate Ground State - 1.31s, Get Pauli Ops - 15.49s, Calculate Pauli Expectation Values - 5.28s, Calculate Covariance - 3.66s\n",
      "f0,f1,f2 = [5.489685764951569e-10, 3.912712895915142e-10, 1.989373182201594e-10]\n",
      "d01,d02,d12 = [0.9623793591816039, 0.9928620533343855, 0.9912990368371438]\n"
     ]
    },
    {
     "name": "stderr",
     "output_type": "stream",
     "text": [
      "Progress:  77%|███████▋  | 772/1000 [5:14:42<1:40:33, 26.46s/it]"
     ]
    },
    {
     "name": "stdout",
     "output_type": "stream",
     "text": [
      "Time to: Calculate Ground State - 0.89s, Get Pauli Ops - 14.37s, Calculate Pauli Expectation Values - 7.38s, Calculate Covariance - 2.84s\n",
      "f0,f1,f2 = [4.191669339685429e-10, 4.4087412700945386e-10, 1.3960827704384743e-10]\n",
      "d01,d02,d12 = [0.9631255690840567, 0.9918583046409164, 0.9918357724750804]\n"
     ]
    },
    {
     "name": "stderr",
     "output_type": "stream",
     "text": [
      "Progress:  77%|███████▋  | 773/1000 [5:15:06<1:37:00, 25.64s/it]"
     ]
    },
    {
     "name": "stdout",
     "output_type": "stream",
     "text": [
      "Time to: Calculate Ground State - 1.47s, Get Pauli Ops - 14.44s, Calculate Pauli Expectation Values - 4.8s, Calculate Covariance - 3.01s\n",
      "f0,f1,f2 = [3.0870543578876055e-10, 3.1724735287987175e-10, 1.2456302801405847e-10]\n",
      "d01,d02,d12 = [0.9640348379337857, 0.9908746240995426, 0.9923940175235675]\n"
     ]
    },
    {
     "name": "stderr",
     "output_type": "stream",
     "text": [
      "Progress:  77%|███████▋  | 774/1000 [5:15:30<1:35:08, 25.26s/it]"
     ]
    },
    {
     "name": "stdout",
     "output_type": "stream",
     "text": [
      "Time to: Calculate Ground State - 0.98s, Get Pauli Ops - 12.95s, Calculate Pauli Expectation Values - 6.89s, Calculate Covariance - 3.53s\n",
      "f0,f1,f2 = [3.8751197720202386e-10, 3.2426051041182394e-10, 1.493604672934311e-10]\n",
      "d01,d02,d12 = [0.965115956655733, 0.9899225306665381, 0.9929430227460134]\n"
     ]
    },
    {
     "name": "stderr",
     "output_type": "stream",
     "text": [
      "Progress:  78%|███████▊  | 775/1000 [5:15:57<1:36:32, 25.74s/it]"
     ]
    },
    {
     "name": "stdout",
     "output_type": "stream",
     "text": [
      "Time to: Calculate Ground State - 1.47s, Get Pauli Ops - 14.86s, Calculate Pauli Expectation Values - 7.45s, Calculate Covariance - 3.09s\n",
      "f0,f1,f2 = [5.017131661374092e-10, 2.13184999652306e-10, 2.1884171697148522e-10]\n",
      "d01,d02,d12 = [0.9663006507154331, 0.9891470305532484, 0.993381609809717]\n"
     ]
    },
    {
     "name": "stderr",
     "output_type": "stream",
     "text": [
      "Progress:  78%|███████▊  | 776/1000 [5:16:21<1:34:08, 25.21s/it]"
     ]
    },
    {
     "name": "stdout",
     "output_type": "stream",
     "text": [
      "Time to: Calculate Ground State - 1.19s, Get Pauli Ops - 13.95s, Calculate Pauli Expectation Values - 5.54s, Calculate Covariance - 3.3s\n",
      "f0,f1,f2 = [4.1333131407399165e-10, 6.562560388655578e-10, 2.9761320144692915e-10]\n",
      "d01,d02,d12 = [0.9676718474768177, 0.98826448882565, 0.99386039784843]\n"
     ]
    },
    {
     "name": "stderr",
     "output_type": "stream",
     "text": [
      "Progress:  78%|███████▊  | 777/1000 [5:16:46<1:33:40, 25.20s/it]"
     ]
    },
    {
     "name": "stdout",
     "output_type": "stream",
     "text": [
      "Time to: Calculate Ground State - 1.18s, Get Pauli Ops - 13.91s, Calculate Pauli Expectation Values - 6.72s, Calculate Covariance - 3.36s\n",
      "f0,f1,f2 = [7.439527358157756e-10, 4.378308213767504e-10, 3.9184945905031277e-10]\n",
      "d01,d02,d12 = [0.9691593890178013, 0.9875339747000473, 0.9942323679810482]\n"
     ]
    },
    {
     "name": "stderr",
     "output_type": "stream",
     "text": [
      "Progress:  78%|███████▊  | 778/1000 [5:17:12<1:33:21, 25.23s/it]"
     ]
    },
    {
     "name": "stdout",
     "output_type": "stream",
     "text": [
      "Time to: Calculate Ground State - 1.14s, Get Pauli Ops - 15.67s, Calculate Pauli Expectation Values - 5.22s, Calculate Covariance - 3.26s\n",
      "f0,f1,f2 = [4.98054172772801e-10, 3.141925732736684e-10, 3.051299752267145e-10]\n",
      "d01,d02,d12 = [0.9707487818819298, 0.9869145583766784, 0.9944972488589728]\n"
     ]
    },
    {
     "name": "stderr",
     "output_type": "stream",
     "text": [
      "Progress:  78%|███████▊  | 779/1000 [5:17:36<1:32:20, 25.07s/it]"
     ]
    },
    {
     "name": "stdout",
     "output_type": "stream",
     "text": [
      "Time to: Calculate Ground State - 1.17s, Get Pauli Ops - 14.02s, Calculate Pauli Expectation Values - 5.68s, Calculate Covariance - 3.8s\n",
      "f0,f1,f2 = [4.0817863070726587e-10, 5.214547029269813e-10, 3.5636743893961577e-10]\n",
      "d01,d02,d12 = [0.9725105320646561, 0.9861156555673387, 0.994811832381426]\n"
     ]
    },
    {
     "name": "stderr",
     "output_type": "stream",
     "text": [
      "Progress:  78%|███████▊  | 780/1000 [5:18:02<1:32:37, 25.26s/it]"
     ]
    },
    {
     "name": "stdout",
     "output_type": "stream",
     "text": [
      "Time to: Calculate Ground State - 1.29s, Get Pauli Ops - 12.89s, Calculate Pauli Expectation Values - 7.74s, Calculate Covariance - 3.79s\n",
      "f0,f1,f2 = [5.165648713897906e-10, 6.453654525822014e-10, 4.927524887828156e-10]\n",
      "d01,d02,d12 = [0.9744356748924472, 0.9851328725672237, 0.9952432781246333]\n"
     ]
    },
    {
     "name": "stderr",
     "output_type": "stream",
     "text": [
      "Progress:  78%|███████▊  | 781/1000 [5:18:28<1:33:21, 25.58s/it]"
     ]
    },
    {
     "name": "stdout",
     "output_type": "stream",
     "text": [
      "Time to: Calculate Ground State - 1.58s, Get Pauli Ops - 16.36s, Calculate Pauli Expectation Values - 5.3s, Calculate Covariance - 3.07s\n",
      "f0,f1,f2 = [5.996369043440438e-10, 6.316048273655785e-10, 6.770133062410994e-10]\n",
      "d01,d02,d12 = [0.9763499933711766, 0.9843940681952748, 0.9954750792979361]\n"
     ]
    },
    {
     "name": "stderr",
     "output_type": "stream",
     "text": [
      "Progress:  78%|███████▊  | 782/1000 [5:18:56<1:35:30, 26.29s/it]"
     ]
    },
    {
     "name": "stdout",
     "output_type": "stream",
     "text": [
      "Time to: Calculate Ground State - 1.3s, Get Pauli Ops - 14.56s, Calculate Pauli Expectation Values - 8.97s, Calculate Covariance - 3.11s\n",
      "f0,f1,f2 = [3.407205978350146e-10, 3.20595613943612e-10, 3.5505137695058567e-10]\n",
      "d01,d02,d12 = [0.9782725475451679, 0.9837752318380047, 0.9956188753594536]\n"
     ]
    },
    {
     "name": "stderr",
     "output_type": "stream",
     "text": [
      "Progress:  78%|███████▊  | 783/1000 [5:19:18<1:30:38, 25.06s/it]"
     ]
    },
    {
     "name": "stdout",
     "output_type": "stream",
     "text": [
      "Time to: Calculate Ground State - 0.83s, Get Pauli Ops - 12.11s, Calculate Pauli Expectation Values - 5.26s, Calculate Covariance - 3.99s\n",
      "f0,f1,f2 = [1.6292649487609475e-10, 1.5728005945052905e-10, 1.6547037016531747e-10]\n",
      "d01,d02,d12 = [0.9802370019862092, 0.9831552043265814, 0.9956917343793809]\n"
     ]
    },
    {
     "name": "stderr",
     "output_type": "stream",
     "text": [
      "Progress:  78%|███████▊  | 784/1000 [5:19:44<1:31:16, 25.36s/it]"
     ]
    },
    {
     "name": "stdout",
     "output_type": "stream",
     "text": [
      "Time to: Calculate Ground State - 1.6s, Get Pauli Ops - 14.75s, Calculate Pauli Expectation Values - 5.53s, Calculate Covariance - 4.15s\n",
      "f0,f1,f2 = [4.0666390367095246e-10, 5.632834023570954e-10, 7.028304878777705e-10]\n",
      "d01,d02,d12 = [0.9821692357221781, 0.9826905026025526, 0.9955358042113241]\n"
     ]
    },
    {
     "name": "stderr",
     "output_type": "stream",
     "text": [
      "Progress:  78%|███████▊  | 785/1000 [5:20:08<1:29:01, 24.84s/it]"
     ]
    },
    {
     "name": "stdout",
     "output_type": "stream",
     "text": [
      "Time to: Calculate Ground State - 1.13s, Get Pauli Ops - 13.66s, Calculate Pauli Expectation Values - 5.13s, Calculate Covariance - 3.71s\n",
      "f0,f1,f2 = [4.271826559863369e-10, 1.177725392043644e-10, 3.981539960894404e-10]\n",
      "d01,d02,d12 = [0.9839434717520137, 0.9819757157852156, 0.995512900620414]\n"
     ]
    },
    {
     "name": "stderr",
     "output_type": "stream",
     "text": [
      "Progress:  79%|███████▊  | 786/1000 [5:20:34<1:29:56, 25.22s/it]"
     ]
    },
    {
     "name": "stdout",
     "output_type": "stream",
     "text": [
      "Time to: Calculate Ground State - 1.05s, Get Pauli Ops - 16.44s, Calculate Pauli Expectation Values - 5.01s, Calculate Covariance - 3.59s\n",
      "f0,f1,f2 = [6.171109461255956e-10, 2.91247578424565e-10, 3.1001414476062097e-10]\n",
      "d01,d02,d12 = [0.9856393805704229, 0.981226165505719, 0.9954982950392391]\n"
     ]
    },
    {
     "name": "stderr",
     "output_type": "stream",
     "text": [
      "Progress:  79%|███████▊  | 787/1000 [5:20:57<1:26:45, 24.44s/it]"
     ]
    },
    {
     "name": "stdout",
     "output_type": "stream",
     "text": [
      "Time to: Calculate Ground State - 0.82s, Get Pauli Ops - 12.46s, Calculate Pauli Expectation Values - 5.94s, Calculate Covariance - 3.4s\n",
      "f0,f1,f2 = [9.41590576443743e-10, 6.997802615355153e-10, 7.552168405192322e-10]\n",
      "d01,d02,d12 = [0.986905321312837, 0.9806267219873673, 0.9956909584113964]\n"
     ]
    },
    {
     "name": "stderr",
     "output_type": "stream",
     "text": [
      "Progress:  79%|███████▉  | 788/1000 [5:21:25<1:30:28, 25.61s/it]"
     ]
    },
    {
     "name": "stdout",
     "output_type": "stream",
     "text": [
      "Time to: Calculate Ground State - 1.35s, Get Pauli Ops - 16.72s, Calculate Pauli Expectation Values - 6.76s, Calculate Covariance - 3.5s\n",
      "f0,f1,f2 = [7.949754090040272e-10, 6.971023853420074e-10, 6.552018992106364e-10]\n",
      "d01,d02,d12 = [0.987816091199686, 0.980228737092576, 0.9960141711449484]\n"
     ]
    },
    {
     "name": "stderr",
     "output_type": "stream",
     "text": [
      "Progress:  79%|███████▉  | 789/1000 [5:21:52<1:31:36, 26.05s/it]"
     ]
    },
    {
     "name": "stdout",
     "output_type": "stream",
     "text": [
      "Time to: Calculate Ground State - 1.59s, Get Pauli Ops - 16.15s, Calculate Pauli Expectation Values - 5.8s, Calculate Covariance - 3.53s\n",
      "f0,f1,f2 = [8.114452532499626e-10, 9.437319766210629e-10, 7.211448341898222e-10]\n",
      "d01,d02,d12 = [0.9882412269417866, 0.9801435472619936, 0.9965998818098958]\n"
     ]
    },
    {
     "name": "stderr",
     "output_type": "stream",
     "text": [
      "Progress:  79%|███████▉  | 790/1000 [5:22:16<1:29:13, 25.50s/it]"
     ]
    },
    {
     "name": "stdout",
     "output_type": "stream",
     "text": [
      "Time to: Calculate Ground State - 1.19s, Get Pauli Ops - 14.36s, Calculate Pauli Expectation Values - 5.44s, Calculate Covariance - 3.21s\n",
      "f0,f1,f2 = [3.909377777063817e-10, 3.9927188718339563e-10, 5.063248095905101e-10]\n",
      "d01,d02,d12 = [0.9887365731885287, 0.9799750244223832, 0.9970117950008474]\n"
     ]
    },
    {
     "name": "stderr",
     "output_type": "stream",
     "text": [
      "Progress:  79%|███████▉  | 791/1000 [5:22:39<1:25:46, 24.63s/it]"
     ]
    },
    {
     "name": "stdout",
     "output_type": "stream",
     "text": [
      "Time to: Calculate Ground State - 0.91s, Get Pauli Ops - 13.34s, Calculate Pauli Expectation Values - 5.43s, Calculate Covariance - 2.91s\n",
      "f0,f1,f2 = [3.0703777373822694e-10, 4.0530906048644664e-10, 2.1907033240354834e-10]\n",
      "d01,d02,d12 = [0.9892492857263436, 0.9797437676391889, 0.997310358524957]\n"
     ]
    },
    {
     "name": "stderr",
     "output_type": "stream",
     "text": [
      "Progress:  79%|███████▉  | 792/1000 [5:23:03<1:24:15, 24.31s/it]"
     ]
    },
    {
     "name": "stdout",
     "output_type": "stream",
     "text": [
      "Time to: Calculate Ground State - 1.11s, Get Pauli Ops - 14.62s, Calculate Pauli Expectation Values - 4.67s, Calculate Covariance - 3.16s\n",
      "f0,f1,f2 = [1.7962706612150033e-09, 1.8378667891448935e-09, 1.4413627280872102e-09]\n",
      "d01,d02,d12 = [0.9887485516241017, 0.9801792895318469, 0.9981034076435673]\n"
     ]
    },
    {
     "name": "stderr",
     "output_type": "stream",
     "text": [
      "Progress:  79%|███████▉  | 793/1000 [5:23:29<1:26:05, 24.95s/it]"
     ]
    },
    {
     "name": "stdout",
     "output_type": "stream",
     "text": [
      "Time to: Calculate Ground State - 1.04s, Get Pauli Ops - 16.2s, Calculate Pauli Expectation Values - 5.79s, Calculate Covariance - 3.43s\n",
      "f0,f1,f2 = [3.952300022016541e-10, 5.565228712730356e-10, 6.016263883684924e-10]\n",
      "d01,d02,d12 = [0.9881524983286047, 0.9806382889543497, 0.9987722392297013]\n"
     ]
    },
    {
     "name": "stderr",
     "output_type": "stream",
     "text": [
      "Progress:  79%|███████▉  | 794/1000 [5:23:55<1:26:56, 25.33s/it]"
     ]
    },
    {
     "name": "stdout",
     "output_type": "stream",
     "text": [
      "Time to: Calculate Ground State - 1.33s, Get Pauli Ops - 16.29s, Calculate Pauli Expectation Values - 5.06s, Calculate Covariance - 3.5s\n",
      "f0,f1,f2 = [7.061219136951016e-10, 6.939495436857819e-10, 8.119217313511628e-10]\n",
      "d01,d02,d12 = [0.9878015871256074, 0.9809062562096027, 0.9991580072530923]\n"
     ]
    },
    {
     "name": "stderr",
     "output_type": "stream",
     "text": [
      "Progress:  80%|███████▉  | 795/1000 [5:24:22<1:27:47, 25.70s/it]"
     ]
    },
    {
     "name": "stdout",
     "output_type": "stream",
     "text": [
      "Time to: Calculate Ground State - 1.35s, Get Pauli Ops - 16.09s, Calculate Pauli Expectation Values - 5.22s, Calculate Covariance - 3.89s\n",
      "f0,f1,f2 = [1.6216262873227638e-10, 2.764123428456639e-10, 1.0944064723644609e-10]\n",
      "d01,d02,d12 = [0.9873268464926211, 0.9811522610070973, 0.9994651818052269]\n"
     ]
    },
    {
     "name": "stderr",
     "output_type": "stream",
     "text": [
      "Progress:  80%|███████▉  | 796/1000 [5:24:46<1:26:22, 25.40s/it]"
     ]
    },
    {
     "name": "stdout",
     "output_type": "stream",
     "text": [
      "Time to: Calculate Ground State - 1.38s, Get Pauli Ops - 14.98s, Calculate Pauli Expectation Values - 4.93s, Calculate Covariance - 3.43s\n",
      "f0,f1,f2 = [3.969961572689814e-10, 4.5979890151330466e-10, 4.755906779328183e-10]\n",
      "d01,d02,d12 = [0.9869337103632236, 0.9812815302053469, 0.9996021279846881]\n"
     ]
    },
    {
     "name": "stderr",
     "output_type": "stream",
     "text": [
      "Progress:  80%|███████▉  | 797/1000 [5:25:11<1:25:09, 25.17s/it]"
     ]
    },
    {
     "name": "stdout",
     "output_type": "stream",
     "text": [
      "Time to: Calculate Ground State - 1.43s, Get Pauli Ops - 13.74s, Calculate Pauli Expectation Values - 6.02s, Calculate Covariance - 3.42s\n",
      "f0,f1,f2 = [1.9027476346780566e-10, 3.3620294372056167e-10, 3.793667545795804e-10]\n",
      "d01,d02,d12 = [0.986583087566707, 0.9813452214610779, 0.9995723930852083]\n"
     ]
    },
    {
     "name": "stderr",
     "output_type": "stream",
     "text": [
      "Progress:  80%|███████▉  | 798/1000 [5:25:41<1:29:04, 26.46s/it]"
     ]
    },
    {
     "name": "stdout",
     "output_type": "stream",
     "text": [
      "Time to: Calculate Ground State - 1.09s, Get Pauli Ops - 16.45s, Calculate Pauli Expectation Values - 8.2s, Calculate Covariance - 3.72s\n",
      "f0,f1,f2 = [1.5530486291660313e-10, 3.002543718318182e-10, 1.2817258647994892e-10]\n",
      "d01,d02,d12 = [0.9860956644123179, 0.9814361438731382, 0.9994770378730791]\n"
     ]
    },
    {
     "name": "stderr",
     "output_type": "stream",
     "text": [
      "Progress:  80%|███████▉  | 799/1000 [5:26:06<1:27:38, 26.16s/it]"
     ]
    },
    {
     "name": "stdout",
     "output_type": "stream",
     "text": [
      "Time to: Calculate Ground State - 0.87s, Get Pauli Ops - 15.33s, Calculate Pauli Expectation Values - 6.51s, Calculate Covariance - 2.76s\n",
      "f0,f1,f2 = [2.332100585963985e-10, 3.432187559991886e-10, 1.7278724850093137e-10]\n",
      "d01,d02,d12 = [0.985479073649946, 0.981549909315143, 0.999298989996319]\n"
     ]
    },
    {
     "name": "stderr",
     "output_type": "stream",
     "text": [
      "Progress:  80%|████████  | 800/1000 [5:26:30<1:25:19, 25.60s/it]"
     ]
    },
    {
     "name": "stdout",
     "output_type": "stream",
     "text": [
      "Time to: Calculate Ground State - 1.39s, Get Pauli Ops - 13.28s, Calculate Pauli Expectation Values - 6.61s, Calculate Covariance - 2.99s\n",
      "f0,f1,f2 = [2.8929191759097607e-10, 2.97121403140567e-10, 2.60957870749712e-10]\n",
      "d01,d02,d12 = [0.9847271337466129, 0.9816925387894598, 0.9990423404423373]\n"
     ]
    },
    {
     "name": "stderr",
     "output_type": "stream",
     "text": [
      "Progress:  80%|████████  | 801/1000 [5:26:57<1:26:21, 26.04s/it]"
     ]
    },
    {
     "name": "stdout",
     "output_type": "stream",
     "text": [
      "Time to: Calculate Ground State - 1.44s, Get Pauli Ops - 15.39s, Calculate Pauli Expectation Values - 7.0s, Calculate Covariance - 3.23s\n",
      "f0,f1,f2 = [8.047275211662658e-11, 2.6305062221361763e-10, 2.9165668248558934e-10]\n",
      "d01,d02,d12 = [0.9838620407708173, 0.9818536147302576, 0.9987121854640971]\n"
     ]
    },
    {
     "name": "stderr",
     "output_type": "stream",
     "text": [
      "Progress:  80%|████████  | 802/1000 [5:27:23<1:25:09, 25.80s/it]"
     ]
    },
    {
     "name": "stdout",
     "output_type": "stream",
     "text": [
      "Time to: Calculate Ground State - 0.8s, Get Pauli Ops - 15.64s, Calculate Pauli Expectation Values - 4.98s, Calculate Covariance - 3.83s\n",
      "f0,f1,f2 = [4.1271433434238215e-10, 3.168444622825252e-10, 4.24033583933918e-10]\n",
      "d01,d02,d12 = [0.9830598822802933, 0.9820441994108856, 0.9982382660323148]\n"
     ]
    },
    {
     "name": "stderr",
     "output_type": "stream",
     "text": [
      "Progress:  80%|████████  | 803/1000 [5:27:48<1:24:46, 25.82s/it]"
     ]
    },
    {
     "name": "stdout",
     "output_type": "stream",
     "text": [
      "Time to: Calculate Ground State - 0.88s, Get Pauli Ops - 16.45s, Calculate Pauli Expectation Values - 5.05s, Calculate Covariance - 3.46s\n",
      "f0,f1,f2 = [8.119778977702449e-10, 2.99178972736824e-10, 5.688629747092575e-10]\n",
      "d01,d02,d12 = [0.9818996359031075, 0.9821165211017254, 0.9978478968629275]\n"
     ]
    },
    {
     "name": "stderr",
     "output_type": "stream",
     "text": [
      "Progress:  80%|████████  | 804/1000 [5:28:17<1:26:43, 26.55s/it]"
     ]
    },
    {
     "name": "stdout",
     "output_type": "stream",
     "text": [
      "Time to: Calculate Ground State - 1.36s, Get Pauli Ops - 18.52s, Calculate Pauli Expectation Values - 5.27s, Calculate Covariance - 3.09s\n",
      "f0,f1,f2 = [1.0168539752134084e-10, 1.991564562909562e-10, 1.9249698015888746e-10]\n",
      "d01,d02,d12 = [0.9806891813351301, 0.982119309216859, 0.9974764259334009]\n"
     ]
    },
    {
     "name": "stderr",
     "output_type": "stream",
     "text": [
      "Progress:  80%|████████  | 805/1000 [5:28:40<1:22:49, 25.48s/it]"
     ]
    },
    {
     "name": "stdout",
     "output_type": "stream",
     "text": [
      "Time to: Calculate Ground State - 1.11s, Get Pauli Ops - 13.55s, Calculate Pauli Expectation Values - 5.04s, Calculate Covariance - 3.29s\n",
      "f0,f1,f2 = [2.581928881651548e-10, 2.2831279097707156e-10, 3.8145613103923557e-10]\n",
      "d01,d02,d12 = [0.979495747630118, 0.982193417957385, 0.9969990820842284]\n"
     ]
    },
    {
     "name": "stderr",
     "output_type": "stream",
     "text": [
      "Progress:  81%|████████  | 806/1000 [5:29:05<1:22:16, 25.44s/it]"
     ]
    },
    {
     "name": "stdout",
     "output_type": "stream",
     "text": [
      "Time to: Calculate Ground State - 1.25s, Get Pauli Ops - 16.12s, Calculate Pauli Expectation Values - 5.19s, Calculate Covariance - 2.77s\n",
      "f0,f1,f2 = [3.8854027376821363e-10, 2.1669246785150325e-10, 3.4393968675839397e-10]\n",
      "d01,d02,d12 = [0.9783851380786864, 0.9821696170159093, 0.9965228337898956]\n"
     ]
    },
    {
     "name": "stderr",
     "output_type": "stream",
     "text": [
      "Progress:  81%|████████  | 807/1000 [5:29:32<1:23:02, 25.82s/it]"
     ]
    },
    {
     "name": "stdout",
     "output_type": "stream",
     "text": [
      "Time to: Calculate Ground State - 1.0s, Get Pauli Ops - 15.84s, Calculate Pauli Expectation Values - 6.12s, Calculate Covariance - 3.72s\n",
      "f0,f1,f2 = [3.052920951653334e-10, 1.7719906063357058e-10, 2.4757477763051973e-10]\n",
      "d01,d02,d12 = [0.9773842376990834, 0.9820896662561256, 0.9960659774391734]\n"
     ]
    },
    {
     "name": "stderr",
     "output_type": "stream",
     "text": [
      "Progress:  81%|████████  | 808/1000 [5:29:56<1:20:41, 25.22s/it]"
     ]
    },
    {
     "name": "stdout",
     "output_type": "stream",
     "text": [
      "Time to: Calculate Ground State - 1.28s, Get Pauli Ops - 14.15s, Calculate Pauli Expectation Values - 5.38s, Calculate Covariance - 2.99s\n",
      "f0,f1,f2 = [2.7183056876677285e-10, 1.574774966776863e-10, 1.7420150394883776e-10]\n",
      "d01,d02,d12 = [0.976397140784173, 0.9821387064377064, 0.995511985261925]\n"
     ]
    },
    {
     "name": "stderr",
     "output_type": "stream",
     "text": [
      "Progress:  81%|████████  | 809/1000 [5:30:19<1:18:20, 24.61s/it]"
     ]
    },
    {
     "name": "stdout",
     "output_type": "stream",
     "text": [
      "Time to: Calculate Ground State - 1.23s, Get Pauli Ops - 13.76s, Calculate Pauli Expectation Values - 5.13s, Calculate Covariance - 3.07s\n",
      "f0,f1,f2 = [2.811263202009776e-10, 2.1974877391399536e-10, 1.3796917721375327e-10]\n",
      "d01,d02,d12 = [0.9755511805729121, 0.9821576852091722, 0.9949614109937692]\n"
     ]
    },
    {
     "name": "stderr",
     "output_type": "stream",
     "text": [
      "Progress:  81%|████████  | 810/1000 [5:30:43<1:17:05, 24.35s/it]"
     ]
    },
    {
     "name": "stdout",
     "output_type": "stream",
     "text": [
      "Time to: Calculate Ground State - 0.95s, Get Pauli Ops - 14.04s, Calculate Pauli Expectation Values - 5.22s, Calculate Covariance - 3.51s\n",
      "f0,f1,f2 = [2.516655338849877e-10, 2.1141641068752206e-10, 2.3143559563415629e-10]\n",
      "d01,d02,d12 = [0.9749194697544264, 0.9820188809241723, 0.994466102583511]\n"
     ]
    },
    {
     "name": "stderr",
     "output_type": "stream",
     "text": [
      "Progress:  81%|████████  | 811/1000 [5:31:06<1:15:26, 23.95s/it]"
     ]
    },
    {
     "name": "stdout",
     "output_type": "stream",
     "text": [
      "Time to: Calculate Ground State - 1.28s, Get Pauli Ops - 12.65s, Calculate Pauli Expectation Values - 5.83s, Calculate Covariance - 3.24s\n",
      "f0,f1,f2 = [4.949215410613869e-10, 4.264106688364249e-10, 5.677590736246761e-10]\n",
      "d01,d02,d12 = [0.9742931932390949, 0.9820679790977849, 0.9938667379207413]\n"
     ]
    },
    {
     "name": "stderr",
     "output_type": "stream",
     "text": [
      "Progress:  81%|████████  | 812/1000 [5:31:31<1:16:45, 24.50s/it]"
     ]
    },
    {
     "name": "stdout",
     "output_type": "stream",
     "text": [
      "Time to: Calculate Ground State - 1.72s, Get Pauli Ops - 15.09s, Calculate Pauli Expectation Values - 6.07s, Calculate Covariance - 2.89s\n",
      "f0,f1,f2 = [5.541275935274461e-10, 4.686715510660125e-10, 6.054928290676412e-10]\n",
      "d01,d02,d12 = [0.9736044040919533, 0.9824815714704062, 0.9930641339019018]\n"
     ]
    },
    {
     "name": "stderr",
     "output_type": "stream",
     "text": [
      "Progress:  81%|████████▏ | 813/1000 [5:31:53<1:14:01, 23.75s/it]"
     ]
    },
    {
     "name": "stdout",
     "output_type": "stream",
     "text": [
      "Time to: Calculate Ground State - 1.22s, Get Pauli Ops - 12.88s, Calculate Pauli Expectation Values - 4.96s, Calculate Covariance - 2.94s\n",
      "f0,f1,f2 = [1.059180962878729e-09, 1.2365559573915822e-09, 1.1665920978765401e-09]\n",
      "d01,d02,d12 = [0.973226186132088, 0.982628354702257, 0.992467784003468]\n"
     ]
    },
    {
     "name": "stderr",
     "output_type": "stream",
     "text": [
      "Progress:  81%|████████▏ | 814/1000 [5:32:16<1:12:12, 23.29s/it]"
     ]
    },
    {
     "name": "stdout",
     "output_type": "stream",
     "text": [
      "Time to: Calculate Ground State - 0.94s, Get Pauli Ops - 13.52s, Calculate Pauli Expectation Values - 5.24s, Calculate Covariance - 2.52s\n",
      "f0,f1,f2 = [2.702170808210297e-10, 2.177309504964521e-10, 6.104635074813575e-11]\n",
      "d01,d02,d12 = [0.9730953266741177, 0.982518814979566, 0.99202452614773]\n"
     ]
    },
    {
     "name": "stderr",
     "output_type": "stream",
     "text": [
      "Progress:  82%|████████▏ | 815/1000 [5:32:42<1:14:36, 24.20s/it]"
     ]
    },
    {
     "name": "stdout",
     "output_type": "stream",
     "text": [
      "Time to: Calculate Ground State - 1.66s, Get Pauli Ops - 13.81s, Calculate Pauli Expectation Values - 7.18s, Calculate Covariance - 3.64s\n",
      "f0,f1,f2 = [4.3816939436071164e-10, 5.732827384220724e-10, 3.82834420675497e-10]\n",
      "d01,d02,d12 = [0.9729347204055303, 0.9828380959358206, 0.9913854260370271]\n"
     ]
    },
    {
     "name": "stderr",
     "output_type": "stream",
     "text": [
      "Progress:  82%|████████▏ | 816/1000 [5:33:05<1:13:03, 23.82s/it]"
     ]
    },
    {
     "name": "stdout",
     "output_type": "stream",
     "text": [
      "Time to: Calculate Ground State - 1.45s, Get Pauli Ops - 12.77s, Calculate Pauli Expectation Values - 5.13s, Calculate Covariance - 3.58s\n",
      "f0,f1,f2 = [1.1931866711070675e-09, 1.5319616914850562e-09, 1.2066770522817818e-09]\n",
      "d01,d02,d12 = [0.9731412336304993, 0.9827156943202574, 0.9910184529788058]\n"
     ]
    },
    {
     "name": "stderr",
     "output_type": "stream",
     "text": [
      "Progress:  82%|████████▏ | 817/1000 [5:33:28<1:12:04, 23.63s/it]"
     ]
    },
    {
     "name": "stdout",
     "output_type": "stream",
     "text": [
      "Time to: Calculate Ground State - 1.43s, Get Pauli Ops - 12.64s, Calculate Pauli Expectation Values - 5.78s, Calculate Covariance - 3.33s\n",
      "f0,f1,f2 = [8.354959734660678e-10, 1.1083510997335938e-09, 8.386925520127244e-10]\n",
      "d01,d02,d12 = [0.9736751201531583, 0.9822091720385906, 0.9908643590474958]\n"
     ]
    },
    {
     "name": "stderr",
     "output_type": "stream",
     "text": [
      "Progress:  82%|████████▏ | 818/1000 [5:33:51<1:10:56, 23.39s/it]"
     ]
    },
    {
     "name": "stdout",
     "output_type": "stream",
     "text": [
      "Time to: Calculate Ground State - 1.18s, Get Pauli Ops - 12.76s, Calculate Pauli Expectation Values - 6.02s, Calculate Covariance - 2.84s\n",
      "f0,f1,f2 = [9.159179822529265e-10, 7.106243366882363e-10, 1.0116004510648032e-09]\n",
      "d01,d02,d12 = [0.9739898476749412, 0.9824882236649239, 0.9904611995133468]\n"
     ]
    },
    {
     "name": "stderr",
     "output_type": "stream",
     "text": [
      "Progress:  82%|████████▏ | 819/1000 [5:34:13<1:09:35, 23.07s/it]"
     ]
    },
    {
     "name": "stdout",
     "output_type": "stream",
     "text": [
      "Time to: Calculate Ground State - 1.19s, Get Pauli Ops - 12.71s, Calculate Pauli Expectation Values - 5.25s, Calculate Covariance - 3.17s\n",
      "f0,f1,f2 = [8.993572255023948e-10, 8.723709095220915e-10, 7.776344177045864e-10]\n",
      "d01,d02,d12 = [0.9740677223761042, 0.9836095854068749, 0.9896348878532668]\n"
     ]
    },
    {
     "name": "stderr",
     "output_type": "stream",
     "text": [
      "Progress:  82%|████████▏ | 820/1000 [5:34:36<1:08:42, 22.90s/it]"
     ]
    },
    {
     "name": "stdout",
     "output_type": "stream",
     "text": [
      "Time to: Calculate Ground State - 0.88s, Get Pauli Ops - 13.21s, Calculate Pauli Expectation Values - 5.31s, Calculate Covariance - 3.11s\n",
      "f0,f1,f2 = [1.2096814450928554e-09, 1.551457675066526e-09, 1.2471443284861205e-09]\n",
      "d01,d02,d12 = [0.9746144561059983, 0.9839059084690694, 0.9890737638363261]\n"
     ]
    },
    {
     "name": "stderr",
     "output_type": "stream",
     "text": [
      "Progress:  82%|████████▏ | 821/1000 [5:35:00<1:09:14, 23.21s/it]"
     ]
    },
    {
     "name": "stdout",
     "output_type": "stream",
     "text": [
      "Time to: Calculate Ground State - 0.85s, Get Pauli Ops - 13.91s, Calculate Pauli Expectation Values - 5.39s, Calculate Covariance - 3.77s\n",
      "f0,f1,f2 = [2.892489435646989e-10, 5.405206726955034e-10, 2.855953602114826e-10]\n",
      "d01,d02,d12 = [0.9753378297394022, 0.9840348604342357, 0.988566933646916]\n"
     ]
    },
    {
     "name": "stderr",
     "output_type": "stream",
     "text": [
      "Progress:  82%|████████▏ | 822/1000 [5:35:23<1:09:27, 23.41s/it]"
     ]
    },
    {
     "name": "stdout",
     "output_type": "stream",
     "text": [
      "Time to: Calculate Ground State - 0.97s, Get Pauli Ops - 13.65s, Calculate Pauli Expectation Values - 5.81s, Calculate Covariance - 3.43s\n",
      "f0,f1,f2 = [9.622436334523582e-10, 8.338087922069334e-10, 8.991090045861983e-10]\n",
      "d01,d02,d12 = [0.9759943702690719, 0.9845813795984667, 0.9880281324509591]\n"
     ]
    },
    {
     "name": "stderr",
     "output_type": "stream",
     "text": [
      "Progress:  82%|████████▏ | 823/1000 [5:35:45<1:07:48, 22.98s/it]"
     ]
    },
    {
     "name": "stdout",
     "output_type": "stream",
     "text": [
      "Time to: Calculate Ground State - 1.07s, Get Pauli Ops - 12.89s, Calculate Pauli Expectation Values - 5.39s, Calculate Covariance - 2.63s\n",
      "f0,f1,f2 = [2.3222109592081985e-10, 1.0792487844741064e-10, 2.104054802062762e-10]\n",
      "d01,d02,d12 = [0.9766747249092825, 0.9852075439732333, 0.9874940838383012]\n"
     ]
    },
    {
     "name": "stderr",
     "output_type": "stream",
     "text": [
      "Progress:  82%|████████▏ | 824/1000 [5:36:07<1:06:22, 22.63s/it]"
     ]
    },
    {
     "name": "stdout",
     "output_type": "stream",
     "text": [
      "Time to: Calculate Ground State - 0.8s, Get Pauli Ops - 13.0s, Calculate Pauli Expectation Values - 5.27s, Calculate Covariance - 2.72s\n",
      "f0,f1,f2 = [5.900286207561086e-10, 4.825667174279206e-10, 4.678842193039017e-10]\n",
      "d01,d02,d12 = [0.9775659594699918, 0.9856960714539007, 0.9869021468256934]\n"
     ]
    },
    {
     "name": "stderr",
     "output_type": "stream",
     "text": [
      "Progress:  82%|████████▎ | 825/1000 [5:36:29<1:05:14, 22.37s/it]"
     ]
    },
    {
     "name": "stdout",
     "output_type": "stream",
     "text": [
      "Time to: Calculate Ground State - 0.82s, Get Pauli Ops - 12.06s, Calculate Pauli Expectation Values - 5.55s, Calculate Covariance - 3.32s\n",
      "f0,f1,f2 = [2.2108242506491336e-10, 3.299199593407518e-10, 2.428832725529199e-10]\n",
      "d01,d02,d12 = [0.9785111477789618, 0.986269055351429, 0.986374183450418]\n"
     ]
    },
    {
     "name": "stderr",
     "output_type": "stream",
     "text": [
      "Progress:  83%|████████▎ | 826/1000 [5:36:56<1:09:10, 23.85s/it]"
     ]
    },
    {
     "name": "stdout",
     "output_type": "stream",
     "text": [
      "Time to: Calculate Ground State - 0.8s, Get Pauli Ops - 15.26s, Calculate Pauli Expectation Values - 7.93s, Calculate Covariance - 3.31s\n",
      "f0,f1,f2 = [1.1810491557263756e-10, 1.3207616071349596e-10, 8.770367979293751e-11]\n",
      "d01,d02,d12 = [0.9795033100010577, 0.986875701956577, 0.9858777361259481]\n"
     ]
    },
    {
     "name": "stderr",
     "output_type": "stream",
     "text": [
      "Progress:  83%|████████▎ | 827/1000 [5:37:22<1:10:38, 24.50s/it]"
     ]
    },
    {
     "name": "stdout",
     "output_type": "stream",
     "text": [
      "Time to: Calculate Ground State - 1.06s, Get Pauli Ops - 15.76s, Calculate Pauli Expectation Values - 5.58s, Calculate Covariance - 3.6s\n",
      "f0,f1,f2 = [5.092390569399715e-10, 4.086106369957722e-10, 5.583154645545401e-10]\n",
      "d01,d02,d12 = [0.9805959359196668, 0.9873344402092549, 0.9851658666877592]\n"
     ]
    },
    {
     "name": "stderr",
     "output_type": "stream",
     "text": [
      "Progress:  83%|████████▎ | 828/1000 [5:37:49<1:12:29, 25.29s/it]"
     ]
    },
    {
     "name": "stdout",
     "output_type": "stream",
     "text": [
      "Time to: Calculate Ground State - 1.41s, Get Pauli Ops - 16.47s, Calculate Pauli Expectation Values - 5.46s, Calculate Covariance - 3.78s\n",
      "f0,f1,f2 = [5.922413242967325e-11, 5.146569583032303e-10, 5.442792307865505e-10]\n",
      "d01,d02,d12 = [0.9817865979447155, 0.9878440106214742, 0.9846983757352149]\n"
     ]
    },
    {
     "name": "stderr",
     "output_type": "stream",
     "text": [
      "Progress:  83%|████████▎ | 829/1000 [5:38:18<1:14:46, 26.24s/it]"
     ]
    },
    {
     "name": "stdout",
     "output_type": "stream",
     "text": [
      "Time to: Calculate Ground State - 1.3s, Get Pauli Ops - 17.78s, Calculate Pauli Expectation Values - 6.11s, Calculate Covariance - 3.25s\n",
      "f0,f1,f2 = [5.5879092122356224e-11, 6.725127173963141e-11, 5.0351567700162925e-11]\n",
      "d01,d02,d12 = [0.98299309658257, 0.9883553285785318, 0.9842478552481142]\n"
     ]
    },
    {
     "name": "stderr",
     "output_type": "stream",
     "text": [
      "Progress:  83%|████████▎ | 830/1000 [5:38:46<1:15:51, 26.77s/it]"
     ]
    },
    {
     "name": "stdout",
     "output_type": "stream",
     "text": [
      "Time to: Calculate Ground State - 0.8s, Get Pauli Ops - 18.64s, Calculate Pauli Expectation Values - 5.58s, Calculate Covariance - 3.0s\n",
      "f0,f1,f2 = [1.0071169540073558e-10, 9.125995017356174e-11, 6.859370276312562e-11]\n",
      "d01,d02,d12 = [0.9841036797128988, 0.988666621596155, 0.9837476754502505]\n"
     ]
    },
    {
     "name": "stderr",
     "output_type": "stream",
     "text": [
      "Progress:  83%|████████▎ | 831/1000 [5:39:10<1:13:09, 25.97s/it]"
     ]
    },
    {
     "name": "stdout",
     "output_type": "stream",
     "text": [
      "Time to: Calculate Ground State - 1.1s, Get Pauli Ops - 14.24s, Calculate Pauli Expectation Values - 5.23s, Calculate Covariance - 3.52s\n",
      "f0,f1,f2 = [3.0613825296878896e-10, 6.721880108315012e-11, 5.551491311911353e-11]\n",
      "d01,d02,d12 = [0.985213110600236, 0.9889848744639311, 0.9832550559269164]\n"
     ]
    },
    {
     "name": "stderr",
     "output_type": "stream",
     "text": [
      "Progress:  83%|████████▎ | 832/1000 [5:39:38<1:14:17, 26.53s/it]"
     ]
    },
    {
     "name": "stdout",
     "output_type": "stream",
     "text": [
      "Time to: Calculate Ground State - 1.32s, Get Pauli Ops - 15.35s, Calculate Pauli Expectation Values - 7.16s, Calculate Covariance - 3.99s\n",
      "f0,f1,f2 = [4.147847864552052e-10, 2.5462601003756707e-10, 1.2259564534426798e-10]\n",
      "d01,d02,d12 = [0.9863975672447437, 0.9894336648464287, 0.9829145604106392]\n"
     ]
    },
    {
     "name": "stderr",
     "output_type": "stream",
     "text": [
      "Progress:  83%|████████▎ | 833/1000 [5:40:07<1:15:44, 27.21s/it]"
     ]
    },
    {
     "name": "stdout",
     "output_type": "stream",
     "text": [
      "Time to: Calculate Ground State - 1.28s, Get Pauli Ops - 18.68s, Calculate Pauli Expectation Values - 5.56s, Calculate Covariance - 3.27s\n",
      "f0,f1,f2 = [1.19765000208043e-10, 1.3692730812029288e-11, 9.48474470876207e-11]\n",
      "d01,d02,d12 = [0.9875547302341572, 0.9898630868932586, 0.9825918814700441]\n"
     ]
    },
    {
     "name": "stderr",
     "output_type": "stream",
     "text": [
      "Progress:  83%|████████▎ | 834/1000 [5:40:29<1:11:35, 25.88s/it]"
     ]
    },
    {
     "name": "stdout",
     "output_type": "stream",
     "text": [
      "Time to: Calculate Ground State - 1.08s, Get Pauli Ops - 12.82s, Calculate Pauli Expectation Values - 5.7s, Calculate Covariance - 3.16s\n",
      "f0,f1,f2 = [1.697208734906075e-10, 1.9304837379391883e-10, 8.997637378706033e-11]\n",
      "d01,d02,d12 = [0.988662365323413, 0.9902704159888018, 0.9823093096766453]\n"
     ]
    },
    {
     "name": "stderr",
     "output_type": "stream",
     "text": [
      "Progress:  84%|████████▎ | 835/1000 [5:40:57<1:12:12, 26.26s/it]"
     ]
    },
    {
     "name": "stdout",
     "output_type": "stream",
     "text": [
      "Time to: Calculate Ground State - 1.16s, Get Pauli Ops - 14.65s, Calculate Pauli Expectation Values - 8.28s, Calculate Covariance - 3.03s\n",
      "f0,f1,f2 = [3.551844820278565e-10, 4.1200102957929864e-10, 4.530840599710829e-10]\n",
      "d01,d02,d12 = [0.9898247511113473, 0.9906678588880128, 0.9819219593455112]\n"
     ]
    },
    {
     "name": "stderr",
     "output_type": "stream",
     "text": [
      "Progress:  84%|████████▎ | 836/1000 [5:41:24<1:12:36, 26.56s/it]"
     ]
    },
    {
     "name": "stdout",
     "output_type": "stream",
     "text": [
      "Time to: Calculate Ground State - 1.22s, Get Pauli Ops - 16.64s, Calculate Pauli Expectation Values - 5.86s, Calculate Covariance - 3.54s\n",
      "f0,f1,f2 = [8.352045849172364e-10, 1.8353089336859647e-10, 9.106527125616637e-10]\n",
      "d01,d02,d12 = [0.99143202377329, 0.9913798188064151, 0.9810782928672961]\n"
     ]
    },
    {
     "name": "stderr",
     "output_type": "stream",
     "text": [
      "Progress:  84%|████████▎ | 837/1000 [5:41:48<1:10:14, 25.85s/it]"
     ]
    },
    {
     "name": "stdout",
     "output_type": "stream",
     "text": [
      "Time to: Calculate Ground State - 1.11s, Get Pauli Ops - 15.26s, Calculate Pauli Expectation Values - 4.81s, Calculate Covariance - 3.02s\n",
      "f0,f1,f2 = [1.1951664053435529e-09, 2.6972832561469895e-10, 1.0823814235862685e-09]\n",
      "d01,d02,d12 = [0.99272530877421, 0.9917806363847578, 0.9804589500124868]\n"
     ]
    },
    {
     "name": "stderr",
     "output_type": "stream",
     "text": [
      "Progress:  84%|████████▍ | 838/1000 [5:42:15<1:10:27, 26.10s/it]"
     ]
    },
    {
     "name": "stdout",
     "output_type": "stream",
     "text": [
      "Time to: Calculate Ground State - 1.27s, Get Pauli Ops - 16.65s, Calculate Pauli Expectation Values - 5.3s, Calculate Covariance - 3.43s\n",
      "f0,f1,f2 = [1.2881539418823807e-10, 1.793479291539175e-10, 3.38450257277626e-10]\n",
      "d01,d02,d12 = [0.9939688372330403, 0.9921655640666, 0.9797873836695813]\n"
     ]
    },
    {
     "name": "stderr",
     "output_type": "stream",
     "text": [
      "Progress:  84%|████████▍ | 839/1000 [5:42:38<1:08:09, 25.40s/it]"
     ]
    },
    {
     "name": "stdout",
     "output_type": "stream",
     "text": [
      "Time to: Calculate Ground State - 1.19s, Get Pauli Ops - 12.73s, Calculate Pauli Expectation Values - 6.25s, Calculate Covariance - 3.6s\n",
      "f0,f1,f2 = [5.118914145765698e-10, 2.6300203875390355e-10, 5.305166221646225e-10]\n",
      "d01,d02,d12 = [0.9951163356440405, 0.9924558361364835, 0.9791370239175765]\n"
     ]
    },
    {
     "name": "stderr",
     "output_type": "stream",
     "text": [
      "Progress:  84%|████████▍ | 840/1000 [5:43:02<1:06:28, 24.93s/it]"
     ]
    },
    {
     "name": "stdout",
     "output_type": "stream",
     "text": [
      "Time to: Calculate Ground State - 1.08s, Get Pauli Ops - 13.98s, Calculate Pauli Expectation Values - 5.16s, Calculate Covariance - 3.59s\n",
      "f0,f1,f2 = [2.6640579011486905e-10, 1.5974223616475223e-10, 1.1627573624096452e-10]\n",
      "d01,d02,d12 = [0.9961672416346256, 0.9926751139585973, 0.9785007965039094]\n"
     ]
    },
    {
     "name": "stderr",
     "output_type": "stream",
     "text": [
      "Progress:  84%|████████▍ | 841/1000 [5:43:30<1:07:58, 25.65s/it]"
     ]
    },
    {
     "name": "stdout",
     "output_type": "stream",
     "text": [
      "Time to: Calculate Ground State - 1.43s, Get Pauli Ops - 16.07s, Calculate Pauli Expectation Values - 6.44s, Calculate Covariance - 3.41s\n",
      "f0,f1,f2 = [3.883391771373896e-10, 2.5304967989635783e-10, 1.086307625970632e-10]\n",
      "d01,d02,d12 = [0.9970449331927942, 0.9928871533302284, 0.9777983770802124]\n"
     ]
    },
    {
     "name": "stderr",
     "output_type": "stream",
     "text": [
      "Progress:  84%|████████▍ | 842/1000 [5:43:51<1:04:18, 24.42s/it]"
     ]
    },
    {
     "name": "stdout",
     "output_type": "stream",
     "text": [
      "Time to: Calculate Ground State - 0.95s, Get Pauli Ops - 11.9s, Calculate Pauli Expectation Values - 5.37s, Calculate Covariance - 3.32s\n",
      "f0,f1,f2 = [5.786050569101568e-10, 4.230938893484302e-10, 4.233723031986174e-10]\n",
      "d01,d02,d12 = [0.9977113244603077, 0.9931788627151328, 0.9770365868195918]\n"
     ]
    },
    {
     "name": "stderr",
     "output_type": "stream",
     "text": [
      "Progress:  84%|████████▍ | 843/1000 [5:44:15<1:03:42, 24.35s/it]"
     ]
    },
    {
     "name": "stdout",
     "output_type": "stream",
     "text": [
      "Time to: Calculate Ground State - 1.29s, Get Pauli Ops - 14.23s, Calculate Pauli Expectation Values - 5.71s, Calculate Covariance - 2.94s\n",
      "f0,f1,f2 = [7.396377331549133e-10, 5.153195665857089e-10, 9.45377165171479e-10]\n",
      "d01,d02,d12 = [0.9984520359224931, 0.9931608538282678, 0.9764451434546437]\n"
     ]
    },
    {
     "name": "stderr",
     "output_type": "stream",
     "text": [
      "Progress:  84%|████████▍ | 844/1000 [5:44:40<1:03:47, 24.53s/it]"
     ]
    },
    {
     "name": "stdout",
     "output_type": "stream",
     "text": [
      "Time to: Calculate Ground State - 1.26s, Get Pauli Ops - 13.55s, Calculate Pauli Expectation Values - 6.95s, Calculate Covariance - 3.19s\n",
      "f0,f1,f2 = [5.153066268429911e-10, 3.235771911350254e-10, 6.092925547432397e-10]\n",
      "d01,d02,d12 = [0.9991864675861999, 0.9929135250762736, 0.9759554356574396]\n"
     ]
    },
    {
     "name": "stderr",
     "output_type": "stream",
     "text": [
      "Progress:  84%|████████▍ | 845/1000 [5:45:07<1:04:49, 25.09s/it]"
     ]
    },
    {
     "name": "stdout",
     "output_type": "stream",
     "text": [
      "Time to: Calculate Ground State - 1.52s, Get Pauli Ops - 15.39s, Calculate Pauli Expectation Values - 6.11s, Calculate Covariance - 3.37s\n",
      "f0,f1,f2 = [2.992601165229469e-10, 2.0482021079158478e-10, 2.048617221980742e-10]\n",
      "d01,d02,d12 = [0.9998343359813906, 0.9925624092548699, 0.9755059186927806]\n"
     ]
    },
    {
     "name": "stderr",
     "output_type": "stream",
     "text": [
      "Progress:  85%|████████▍ | 846/1000 [5:45:35<1:07:10, 26.17s/it]"
     ]
    },
    {
     "name": "stdout",
     "output_type": "stream",
     "text": [
      "Time to: Calculate Ground State - 1.56s, Get Pauli Ops - 17.23s, Calculate Pauli Expectation Values - 5.84s, Calculate Covariance - 4.05s\n",
      "f0,f1,f2 = [3.5942997383652354e-10, 1.981187062571097e-10, 2.3050198330086898e-10]\n",
      "d01,d02,d12 = [1.0003849784630867, 0.9921041859383973, 0.9751084797019154]\n"
     ]
    },
    {
     "name": "stderr",
     "output_type": "stream",
     "text": [
      "Progress:  85%|████████▍ | 847/1000 [5:46:00<1:05:47, 25.80s/it]"
     ]
    },
    {
     "name": "stdout",
     "output_type": "stream",
     "text": [
      "Time to: Calculate Ground State - 1.21s, Get Pauli Ops - 12.75s, Calculate Pauli Expectation Values - 7.3s, Calculate Covariance - 3.64s\n",
      "f0,f1,f2 = [5.714651129075185e-10, 5.812122850078664e-10, 4.667773176772357e-10]\n",
      "d01,d02,d12 = [1.0007124004248953, 0.9917336365043042, 0.9746919112058422]\n"
     ]
    },
    {
     "name": "stderr",
     "output_type": "stream",
     "text": [
      "Progress:  85%|████████▍ | 848/1000 [5:46:28<1:06:35, 26.29s/it]"
     ]
    },
    {
     "name": "stdout",
     "output_type": "stream",
     "text": [
      "Time to: Calculate Ground State - 1.2s, Get Pauli Ops - 16.44s, Calculate Pauli Expectation Values - 6.65s, Calculate Covariance - 3.14s\n",
      "f0,f1,f2 = [1.0681065706629054e-09, 8.712177366349408e-10, 1.1713464983516183e-09]\n",
      "d01,d02,d12 = [1.001172285148179, 0.9908655991318561, 0.9744525795747673]\n"
     ]
    },
    {
     "name": "stderr",
     "output_type": "stream",
     "text": [
      "Progress:  85%|████████▍ | 849/1000 [5:46:56<1:07:51, 26.96s/it]"
     ]
    },
    {
     "name": "stdout",
     "output_type": "stream",
     "text": [
      "Time to: Calculate Ground State - 1.24s, Get Pauli Ops - 17.71s, Calculate Pauli Expectation Values - 6.15s, Calculate Covariance - 3.42s\n",
      "f0,f1,f2 = [1.0550174076935107e-09, 9.482359800318184e-10, 1.1268780133812672e-09]\n",
      "d01,d02,d12 = [1.0017543413395187, 0.9895281774989161, 0.9744112887444187]\n"
     ]
    },
    {
     "name": "stderr",
     "output_type": "stream",
     "text": [
      "Progress:  85%|████████▌ | 850/1000 [5:47:21<1:05:51, 26.34s/it]"
     ]
    },
    {
     "name": "stdout",
     "output_type": "stream",
     "text": [
      "Time to: Calculate Ground State - 1.54s, Get Pauli Ops - 14.98s, Calculate Pauli Expectation Values - 5.38s, Calculate Covariance - 2.98s\n",
      "f0,f1,f2 = [3.276525686291926e-10, 2.3175218576412811e-10, 1.1962968449986938e-10]\n",
      "d01,d02,d12 = [1.0022186539653082, 0.9881509278367052, 0.9744087008690528]\n"
     ]
    },
    {
     "name": "stderr",
     "output_type": "stream",
     "text": [
      "Progress:  85%|████████▌ | 851/1000 [5:47:46<1:04:28, 25.97s/it]"
     ]
    },
    {
     "name": "stdout",
     "output_type": "stream",
     "text": [
      "Time to: Calculate Ground State - 1.39s, Get Pauli Ops - 14.68s, Calculate Pauli Expectation Values - 5.34s, Calculate Covariance - 3.66s\n",
      "f0,f1,f2 = [3.327869341717784e-10, 3.5592413498133256e-10, 2.4977451883294316e-10]\n",
      "d01,d02,d12 = [1.0025382739006825, 0.9867342212069271, 0.9744745072038558]\n"
     ]
    },
    {
     "name": "stderr",
     "output_type": "stream",
     "text": [
      "Progress:  85%|████████▌ | 852/1000 [5:48:12<1:03:40, 25.82s/it]"
     ]
    },
    {
     "name": "stdout",
     "output_type": "stream",
     "text": [
      "Time to: Calculate Ground State - 1.41s, Get Pauli Ops - 15.2s, Calculate Pauli Expectation Values - 5.85s, Calculate Covariance - 3.0s\n",
      "f0,f1,f2 = [7.356004962210542e-10, 8.908667892380627e-10, 7.891029158817089e-10]\n",
      "d01,d02,d12 = [1.002606155998301, 0.9856329496016167, 0.9744025478281287]\n"
     ]
    },
    {
     "name": "stderr",
     "output_type": "stream",
     "text": [
      "Progress:  85%|████████▌ | 853/1000 [5:48:37<1:03:00, 25.72s/it]"
     ]
    },
    {
     "name": "stdout",
     "output_type": "stream",
     "text": [
      "Time to: Calculate Ground State - 1.13s, Get Pauli Ops - 14.73s, Calculate Pauli Expectation Values - 5.86s, Calculate Covariance - 3.75s\n",
      "f0,f1,f2 = [9.40933846944857e-10, 8.857003843152318e-10, 8.855167726951877e-10]\n",
      "d01,d02,d12 = [1.0027048467661177, 0.9841549419369974, 0.9746042223803504]\n"
     ]
    },
    {
     "name": "stderr",
     "output_type": "stream",
     "text": [
      "Progress:  85%|████████▌ | 854/1000 [5:49:09<1:06:40, 27.40s/it]"
     ]
    },
    {
     "name": "stdout",
     "output_type": "stream",
     "text": [
      "Time to: Calculate Ground State - 1.2s, Get Pauli Ops - 21.96s, Calculate Pauli Expectation Values - 5.36s, Calculate Covariance - 2.81s\n",
      "f0,f1,f2 = [8.783657952588954e-10, 8.09279592556182e-10, 7.767763893794544e-10]\n",
      "d01,d02,d12 = [1.0028025844966815, 0.9823287699533388, 0.9750821164255556]\n"
     ]
    },
    {
     "name": "stderr",
     "output_type": "stream",
     "text": [
      "Progress:  86%|████████▌ | 855/1000 [5:49:38<1:07:43, 28.02s/it]"
     ]
    },
    {
     "name": "stdout",
     "output_type": "stream",
     "text": [
      "Time to: Calculate Ground State - 1.21s, Get Pauli Ops - 19.26s, Calculate Pauli Expectation Values - 5.17s, Calculate Covariance - 3.81s\n",
      "f0,f1,f2 = [2.737073774670238e-10, 2.778464135566173e-10, 2.339910675779446e-10]\n",
      "d01,d02,d12 = [1.0027862982135376, 0.9805186739153304, 0.9756309158722105]\n"
     ]
    },
    {
     "name": "stderr",
     "output_type": "stream",
     "text": [
      "Progress:  86%|████████▌ | 856/1000 [5:50:04<1:05:50, 27.43s/it]"
     ]
    },
    {
     "name": "stdout",
     "output_type": "stream",
     "text": [
      "Time to: Calculate Ground State - 1.23s, Get Pauli Ops - 15.17s, Calculate Pauli Expectation Values - 5.41s, Calculate Covariance - 4.23s\n",
      "f0,f1,f2 = [6.688424932134656e-10, 5.166115024946228e-10, 3.958650624301204e-10]\n",
      "d01,d02,d12 = [1.0027232556655832, 0.9785159053633185, 0.97636808699819]\n"
     ]
    },
    {
     "name": "stderr",
     "output_type": "stream",
     "text": [
      "Progress:  86%|████████▌ | 857/1000 [5:50:30<1:04:00, 26.86s/it]"
     ]
    },
    {
     "name": "stdout",
     "output_type": "stream",
     "text": [
      "Time to: Calculate Ground State - 1.63s, Get Pauli Ops - 14.6s, Calculate Pauli Expectation Values - 5.31s, Calculate Covariance - 3.96s\n",
      "f0,f1,f2 = [3.7233575479028923e-10, 4.509156882061188e-10, 3.0808441997210646e-10]\n",
      "d01,d02,d12 = [1.002516135821345, 0.9766651191199607, 0.977123556808194]\n"
     ]
    },
    {
     "name": "stderr",
     "output_type": "stream",
     "text": [
      "Progress:  86%|████████▌ | 858/1000 [5:50:59<1:05:11, 27.54s/it]"
     ]
    },
    {
     "name": "stdout",
     "output_type": "stream",
     "text": [
      "Time to: Calculate Ground State - 1.19s, Get Pauli Ops - 18.26s, Calculate Pauli Expectation Values - 5.64s, Calculate Covariance - 4.05s\n",
      "f0,f1,f2 = [3.2585077603433384e-10, 3.0840710127471394e-10, 3.2878119802314307e-10]\n",
      "d01,d02,d12 = [1.0022191856211757, 0.9748956503938245, 0.9779656113907754]\n"
     ]
    },
    {
     "name": "stderr",
     "output_type": "stream",
     "text": [
      "Progress:  86%|████████▌ | 859/1000 [5:51:28<1:05:39, 27.94s/it]"
     ]
    },
    {
     "name": "stdout",
     "output_type": "stream",
     "text": [
      "Time to: Calculate Ground State - 1.35s, Get Pauli Ops - 19.25s, Calculate Pauli Expectation Values - 5.15s, Calculate Covariance - 3.11s\n",
      "f0,f1,f2 = [2.456554752086381e-10, 2.9584931050907626e-10, 2.5854866226337505e-10]\n",
      "d01,d02,d12 = [1.0018639212781217, 0.9732475744098731, 0.9788155671756779]\n"
     ]
    },
    {
     "name": "stderr",
     "output_type": "stream",
     "text": [
      "Progress:  86%|████████▌ | 860/1000 [5:51:57<1:06:13, 28.38s/it]"
     ]
    },
    {
     "name": "stdout",
     "output_type": "stream",
     "text": [
      "Time to: Calculate Ground State - 0.86s, Get Pauli Ops - 19.45s, Calculate Pauli Expectation Values - 5.1s, Calculate Covariance - 3.98s\n",
      "f0,f1,f2 = [2.7272431934561295e-10, 2.398275862749835e-10, 3.1524842144333134e-10]\n",
      "d01,d02,d12 = [1.0014683077573925, 0.9717725851901428, 0.9796149065099616]\n"
     ]
    },
    {
     "name": "stderr",
     "output_type": "stream",
     "text": [
      "Progress:  86%|████████▌ | 861/1000 [5:52:24<1:04:58, 28.05s/it]"
     ]
    },
    {
     "name": "stdout",
     "output_type": "stream",
     "text": [
      "Time to: Calculate Ground State - 1.47s, Get Pauli Ops - 17.74s, Calculate Pauli Expectation Values - 5.02s, Calculate Covariance - 3.03s\n",
      "f0,f1,f2 = [4.819872213566311e-10, 3.8370764659283136e-10, 4.2689336079212975e-10]\n",
      "d01,d02,d12 = [1.0010580067702797, 0.9705409219774109, 0.9802952174518553]\n"
     ]
    },
    {
     "name": "stderr",
     "output_type": "stream",
     "text": [
      "Progress:  86%|████████▌ | 862/1000 [5:52:47<1:00:43, 26.40s/it]"
     ]
    },
    {
     "name": "stdout",
     "output_type": "stream",
     "text": [
      "Time to: Calculate Ground State - 1.42s, Get Pauli Ops - 12.48s, Calculate Pauli Expectation Values - 5.86s, Calculate Covariance - 2.78s\n",
      "f0,f1,f2 = [6.868352190799196e-10, 5.268274535659951e-10, 5.892089491257246e-10]\n",
      "d01,d02,d12 = [1.0006501943919073, 0.9695626334649486, 0.9808540455480113]\n"
     ]
    },
    {
     "name": "stderr",
     "output_type": "stream",
     "text": [
      "Progress:  86%|████████▋ | 863/1000 [5:53:11<58:50, 25.77s/it]  "
     ]
    },
    {
     "name": "stdout",
     "output_type": "stream",
     "text": [
      "Time to: Calculate Ground State - 1.39s, Get Pauli Ops - 13.69s, Calculate Pauli Expectation Values - 5.96s, Calculate Covariance - 3.25s\n",
      "f0,f1,f2 = [2.488020449364251e-10, 2.9302223106689295e-10, 4.3736254368724394e-10]\n",
      "d01,d02,d12 = [1.000147709144567, 0.9686452814730309, 0.9815861666152167]\n"
     ]
    },
    {
     "name": "stderr",
     "output_type": "stream",
     "text": [
      "Progress:  86%|████████▋ | 864/1000 [5:53:34<56:37, 24.98s/it]"
     ]
    },
    {
     "name": "stdout",
     "output_type": "stream",
     "text": [
      "Time to: Calculate Ground State - 1.2s, Get Pauli Ops - 13.34s, Calculate Pauli Expectation Values - 5.53s, Calculate Covariance - 3.05s\n",
      "f0,f1,f2 = [1.1173175898077658e-09, 1.1977977534768319e-09, 1.3414886079682913e-09]\n",
      "d01,d02,d12 = [0.9994103514065401, 0.9675886577162133, 0.9827724842410995]\n"
     ]
    },
    {
     "name": "stderr",
     "output_type": "stream",
     "text": [
      "Progress:  86%|████████▋ | 865/1000 [5:53:58<55:03, 24.47s/it]"
     ]
    },
    {
     "name": "stdout",
     "output_type": "stream",
     "text": [
      "Time to: Calculate Ground State - 1.17s, Get Pauli Ops - 13.63s, Calculate Pauli Expectation Values - 5.36s, Calculate Covariance - 3.11s\n",
      "f0,f1,f2 = [4.627309948344024e-10, 6.124052138418556e-10, 7.345149237000447e-10]\n",
      "d01,d02,d12 = [0.9985477735354283, 0.9665566217514786, 0.9841795037873151]\n"
     ]
    },
    {
     "name": "stderr",
     "output_type": "stream",
     "text": [
      "Progress:  87%|████████▋ | 866/1000 [5:54:24<55:50, 25.00s/it]"
     ]
    },
    {
     "name": "stdout",
     "output_type": "stream",
     "text": [
      "Time to: Calculate Ground State - 1.12s, Get Pauli Ops - 13.94s, Calculate Pauli Expectation Values - 7.43s, Calculate Covariance - 3.74s\n",
      "f0,f1,f2 = [3.691052535653316e-10, 1.8288611034516724e-10, 3.74600306750033e-10]\n",
      "d01,d02,d12 = [0.997705658591261, 0.9657371954662988, 0.9855108969706812]\n"
     ]
    },
    {
     "name": "stderr",
     "output_type": "stream",
     "text": [
      "Progress:  87%|████████▋ | 867/1000 [5:54:47<54:14, 24.47s/it]"
     ]
    },
    {
     "name": "stdout",
     "output_type": "stream",
     "text": [
      "Time to: Calculate Ground State - 1.18s, Get Pauli Ops - 13.25s, Calculate Pauli Expectation Values - 5.82s, Calculate Covariance - 2.96s\n",
      "f0,f1,f2 = [4.850265465855327e-10, 5.438209274453316e-10, 7.226608639586484e-10]\n",
      "d01,d02,d12 = [0.9966865658977159, 0.9649982832991922, 0.9870676832539867]\n"
     ]
    },
    {
     "name": "stderr",
     "output_type": "stream",
     "text": [
      "Progress:  87%|████████▋ | 868/1000 [5:55:12<54:07, 24.60s/it]"
     ]
    },
    {
     "name": "stdout",
     "output_type": "stream",
     "text": [
      "Time to: Calculate Ground State - 0.97s, Get Pauli Ops - 14.5s, Calculate Pauli Expectation Values - 6.44s, Calculate Covariance - 3.0s\n",
      "f0,f1,f2 = [5.379662979249521e-10, 2.908873790715667e-10, 4.424608134521638e-10]\n",
      "d01,d02,d12 = [0.9955476401981944, 0.9644029101228296, 0.9887973228826096]\n"
     ]
    },
    {
     "name": "stderr",
     "output_type": "stream",
     "text": [
      "Progress:  87%|████████▋ | 869/1000 [5:55:37<53:59, 24.73s/it]"
     ]
    },
    {
     "name": "stdout",
     "output_type": "stream",
     "text": [
      "Time to: Calculate Ground State - 1.5s, Get Pauli Ops - 15.29s, Calculate Pauli Expectation Values - 5.34s, Calculate Covariance - 2.88s\n",
      "f0,f1,f2 = [5.892062291422283e-10, 4.0550403953795583e-10, 5.825410017912731e-10]\n",
      "d01,d02,d12 = [0.9944634348851027, 0.9640452033027591, 0.9904217662817283]\n"
     ]
    },
    {
     "name": "stderr",
     "output_type": "stream",
     "text": [
      "Progress:  87%|████████▋ | 870/1000 [5:56:00<52:34, 24.26s/it]"
     ]
    },
    {
     "name": "stdout",
     "output_type": "stream",
     "text": [
      "Time to: Calculate Ground State - 1.15s, Get Pauli Ops - 13.68s, Calculate Pauli Expectation Values - 5.09s, Calculate Covariance - 3.26s\n",
      "f0,f1,f2 = [3.510589241944453e-10, 3.7787912849296904e-10, 4.531559214794008e-10]\n",
      "d01,d02,d12 = [0.9932805273873708, 0.9638252749527058, 0.9921614360598685]\n"
     ]
    },
    {
     "name": "stderr",
     "output_type": "stream",
     "text": [
      "Progress:  87%|████████▋ | 871/1000 [5:56:24<51:38, 24.02s/it]"
     ]
    },
    {
     "name": "stdout",
     "output_type": "stream",
     "text": [
      "Time to: Calculate Ground State - 1.58s, Get Pauli Ops - 14.06s, Calculate Pauli Expectation Values - 5.13s, Calculate Covariance - 2.68s\n",
      "f0,f1,f2 = [4.342408491732672e-10, 2.0600273808856574e-10, 3.131664402157984e-10]\n",
      "d01,d02,d12 = [0.9920737044409192, 0.9637809512384534, 0.9939784703505407]\n"
     ]
    },
    {
     "name": "stderr",
     "output_type": "stream",
     "text": [
      "Progress:  87%|████████▋ | 872/1000 [5:56:48<51:31, 24.15s/it]"
     ]
    },
    {
     "name": "stdout",
     "output_type": "stream",
     "text": [
      "Time to: Calculate Ground State - 0.94s, Get Pauli Ops - 14.55s, Calculate Pauli Expectation Values - 5.56s, Calculate Covariance - 3.4s\n",
      "f0,f1,f2 = [4.683103912921338e-10, 4.857112808496626e-10, 5.644995700947041e-10]\n",
      "d01,d02,d12 = [0.9907173805833108, 0.9639543308808823, 0.9957962632889441]\n"
     ]
    },
    {
     "name": "stderr",
     "output_type": "stream",
     "text": [
      "Progress:  87%|████████▋ | 873/1000 [5:57:12<51:05, 24.13s/it]"
     ]
    },
    {
     "name": "stdout",
     "output_type": "stream",
     "text": [
      "Time to: Calculate Ground State - 1.44s, Get Pauli Ops - 13.28s, Calculate Pauli Expectation Values - 5.93s, Calculate Covariance - 3.43s\n",
      "f0,f1,f2 = [4.6200340711131454e-10, 3.4621625472092114e-10, 4.59565595068889e-10]\n",
      "d01,d02,d12 = [0.9894713074666518, 0.9642858344899166, 0.9975109292405563]\n"
     ]
    },
    {
     "name": "stderr",
     "output_type": "stream",
     "text": [
      "Progress:  87%|████████▋ | 874/1000 [5:57:35<49:46, 23.70s/it]"
     ]
    },
    {
     "name": "stdout",
     "output_type": "stream",
     "text": [
      "Time to: Calculate Ground State - 1.14s, Get Pauli Ops - 13.58s, Calculate Pauli Expectation Values - 5.13s, Calculate Covariance - 2.84s\n",
      "f0,f1,f2 = [1.3642180066492428e-09, 1.604797921931359e-09, 1.5931588828230308e-09]\n",
      "d01,d02,d12 = [0.9876102349911091, 0.9649546921454702, 0.9996238168966743]\n"
     ]
    },
    {
     "name": "stderr",
     "output_type": "stream",
     "text": [
      "Progress:  88%|████████▊ | 875/1000 [5:57:59<49:33, 23.79s/it]"
     ]
    },
    {
     "name": "stdout",
     "output_type": "stream",
     "text": [
      "Time to: Calculate Ground State - 0.94s, Get Pauli Ops - 14.28s, Calculate Pauli Expectation Values - 5.19s, Calculate Covariance - 3.57s\n",
      "f0,f1,f2 = [5.980742549658686e-10, 5.020526426425433e-10, 6.283813825363177e-10]\n",
      "d01,d02,d12 = [0.9855706962457053, 0.9658512042547088, 1.0017648125362757]\n"
     ]
    },
    {
     "name": "stderr",
     "output_type": "stream",
     "text": [
      "Progress:  88%|████████▊ | 876/1000 [5:58:23<49:03, 23.74s/it]"
     ]
    },
    {
     "name": "stdout",
     "output_type": "stream",
     "text": [
      "Time to: Calculate Ground State - 1.19s, Get Pauli Ops - 13.08s, Calculate Pauli Expectation Values - 5.35s, Calculate Covariance - 3.98s\n",
      "f0,f1,f2 = [4.075037769711599e-10, 3.026546029768546e-10, 3.437764745684307e-10]\n",
      "d01,d02,d12 = [0.9835532692617016, 0.9668981784214333, 1.0038069885110785]\n"
     ]
    },
    {
     "name": "stderr",
     "output_type": "stream",
     "text": [
      "Progress:  88%|████████▊ | 877/1000 [5:58:48<49:32, 24.17s/it]"
     ]
    },
    {
     "name": "stdout",
     "output_type": "stream",
     "text": [
      "Time to: Calculate Ground State - 1.25s, Get Pauli Ops - 15.75s, Calculate Pauli Expectation Values - 5.11s, Calculate Covariance - 3.04s\n",
      "f0,f1,f2 = [5.9709835670675e-10, 5.34569768014384e-10, 4.883327814042362e-10]\n",
      "d01,d02,d12 = [0.9815897578239777, 0.9680701981263035, 1.0057537877033715]\n"
     ]
    },
    {
     "name": "stderr",
     "output_type": "stream",
     "text": [
      "Progress:  88%|████████▊ | 878/1000 [5:59:10<48:19, 23.76s/it]"
     ]
    },
    {
     "name": "stdout",
     "output_type": "stream",
     "text": [
      "Time to: Calculate Ground State - 1.14s, Get Pauli Ops - 13.4s, Calculate Pauli Expectation Values - 5.22s, Calculate Covariance - 3.05s\n",
      "f0,f1,f2 = [3.909549064130319e-10, 3.183776823846758e-10, 3.667057715567401e-10]\n",
      "d01,d02,d12 = [0.979655618850798, 0.969363977753591, 1.0075853038606497]\n"
     ]
    },
    {
     "name": "stderr",
     "output_type": "stream",
     "text": [
      "Progress:  88%|████████▊ | 879/1000 [5:59:36<48:48, 24.20s/it]"
     ]
    },
    {
     "name": "stdout",
     "output_type": "stream",
     "text": [
      "Time to: Calculate Ground State - 1.44s, Get Pauli Ops - 14.97s, Calculate Pauli Expectation Values - 5.26s, Calculate Covariance - 3.55s\n",
      "f0,f1,f2 = [9.313747678982923e-10, 8.790587011095189e-10, 8.113304697093212e-10]\n",
      "d01,d02,d12 = [0.9780805418015072, 0.9705618756350691, 1.009236362868922]\n"
     ]
    },
    {
     "name": "stderr",
     "output_type": "stream",
     "text": [
      "Progress:  88%|████████▊ | 880/1000 [6:00:00<48:16, 24.14s/it]"
     ]
    },
    {
     "name": "stdout",
     "output_type": "stream",
     "text": [
      "Time to: Calculate Ground State - 0.93s, Get Pauli Ops - 14.42s, Calculate Pauli Expectation Values - 5.53s, Calculate Covariance - 3.1s\n",
      "f0,f1,f2 = [5.533459193174124e-10, 4.699533238007985e-10, 6.161161755870153e-10]\n",
      "d01,d02,d12 = [0.9763551451062764, 0.972006882054914, 1.0107860730503213]\n"
     ]
    },
    {
     "name": "stderr",
     "output_type": "stream",
     "text": [
      "Progress:  88%|████████▊ | 881/1000 [6:00:24<48:14, 24.32s/it]"
     ]
    },
    {
     "name": "stdout",
     "output_type": "stream",
     "text": [
      "Time to: Calculate Ground State - 1.62s, Get Pauli Ops - 14.28s, Calculate Pauli Expectation Values - 5.06s, Calculate Covariance - 3.77s\n",
      "f0,f1,f2 = [3.388202556413916e-10, 3.6758226756097847e-10, 3.5109861624593805e-10]\n",
      "d01,d02,d12 = [0.9746004342783074, 0.9735857988945856, 1.0121968153306486]\n"
     ]
    },
    {
     "name": "stderr",
     "output_type": "stream",
     "text": [
      "Progress:  88%|████████▊ | 882/1000 [6:00:49<47:50, 24.32s/it]"
     ]
    },
    {
     "name": "stdout",
     "output_type": "stream",
     "text": [
      "Time to: Calculate Ground State - 1.69s, Get Pauli Ops - 13.97s, Calculate Pauli Expectation Values - 5.14s, Calculate Covariance - 3.51s\n",
      "f0,f1,f2 = [3.7609459209653017e-10, 3.7564323656362493e-10, 3.89944971485244e-10]\n",
      "d01,d02,d12 = [0.9729233085120459, 0.9752388200296944, 1.013440305442825]\n"
     ]
    },
    {
     "name": "stderr",
     "output_type": "stream",
     "text": [
      "Progress:  88%|████████▊ | 883/1000 [6:01:14<48:14, 24.74s/it]"
     ]
    },
    {
     "name": "stdout",
     "output_type": "stream",
     "text": [
      "Time to: Calculate Ground State - 1.72s, Get Pauli Ops - 15.2s, Calculate Pauli Expectation Values - 5.01s, Calculate Covariance - 3.77s\n",
      "f0,f1,f2 = [3.5238355774743723e-10, 4.358706865560138e-10, 4.487717960273046e-10]\n",
      "d01,d02,d12 = [0.9712999697725413, 0.9769678921269555, 1.0144956031125418]\n"
     ]
    },
    {
     "name": "stderr",
     "output_type": "stream",
     "text": [
      "Progress:  88%|████████▊ | 884/1000 [6:01:40<48:31, 25.10s/it]"
     ]
    },
    {
     "name": "stdout",
     "output_type": "stream",
     "text": [
      "Time to: Calculate Ground State - 1.34s, Get Pauli Ops - 13.19s, Calculate Pauli Expectation Values - 8.22s, Calculate Covariance - 3.19s\n",
      "f0,f1,f2 = [5.57402016217494e-10, 6.149042251538492e-10, 7.238492662148128e-10]\n",
      "d01,d02,d12 = [0.9695650880489267, 0.9789406029538107, 1.0153156410066266]\n"
     ]
    },
    {
     "name": "stderr",
     "output_type": "stream",
     "text": [
      "Progress:  88%|████████▊ | 885/1000 [6:02:06<48:23, 25.24s/it]"
     ]
    },
    {
     "name": "stdout",
     "output_type": "stream",
     "text": [
      "Time to: Calculate Ground State - 1.27s, Get Pauli Ops - 15.93s, Calculate Pauli Expectation Values - 5.16s, Calculate Covariance - 3.22s\n",
      "f0,f1,f2 = [9.681301384112684e-10, 8.390254765157398e-10, 1.0288126174558894e-09]\n",
      "d01,d02,d12 = [0.9681309348435088, 0.9807035562505431, 1.016002324462938]\n"
     ]
    },
    {
     "name": "stderr",
     "output_type": "stream",
     "text": [
      "Progress:  89%|████████▊ | 886/1000 [6:02:32<48:09, 25.35s/it]"
     ]
    },
    {
     "name": "stdout",
     "output_type": "stream",
     "text": [
      "Time to: Calculate Ground State - 1.55s, Get Pauli Ops - 15.79s, Calculate Pauli Expectation Values - 5.24s, Calculate Covariance - 3.0s\n",
      "f0,f1,f2 = [3.6640082076627177e-10, 4.80144415967799e-10, 4.4500969894705606e-10]\n",
      "d01,d02,d12 = [0.9667654664001486, 0.9824988258340853, 1.0164862544048752]\n"
     ]
    },
    {
     "name": "stderr",
     "output_type": "stream",
     "text": [
      "Progress:  89%|████████▊ | 887/1000 [6:02:58<48:35, 25.80s/it]"
     ]
    },
    {
     "name": "stdout",
     "output_type": "stream",
     "text": [
      "Time to: Calculate Ground State - 1.18s, Get Pauli Ops - 15.63s, Calculate Pauli Expectation Values - 5.75s, Calculate Covariance - 4.27s\n",
      "f0,f1,f2 = [5.274585009446656e-10, 5.339823209349443e-10, 6.78798181376105e-10]\n",
      "d01,d02,d12 = [0.965601964619303, 0.9841616252055909, 1.0167962195238445]\n"
     ]
    },
    {
     "name": "stderr",
     "output_type": "stream",
     "text": [
      "Progress:  89%|████████▉ | 888/1000 [6:03:30<51:37, 27.65s/it]"
     ]
    },
    {
     "name": "stdout",
     "output_type": "stream",
     "text": [
      "Time to: Calculate Ground State - 1.45s, Get Pauli Ops - 21.13s, Calculate Pauli Expectation Values - 5.23s, Calculate Covariance - 4.17s\n",
      "f0,f1,f2 = [5.328121804976787e-10, 5.063182690651628e-10, 6.579469278611777e-10]\n",
      "d01,d02,d12 = [0.9646222183835954, 0.985690841120449, 1.0169465060521894]\n"
     ]
    },
    {
     "name": "stderr",
     "output_type": "stream",
     "text": [
      "Progress:  89%|████████▉ | 889/1000 [6:03:56<50:07, 27.10s/it]"
     ]
    },
    {
     "name": "stdout",
     "output_type": "stream",
     "text": [
      "Time to: Calculate Ground State - 1.59s, Get Pauli Ops - 15.47s, Calculate Pauli Expectation Values - 5.7s, Calculate Covariance - 3.03s\n",
      "f0,f1,f2 = [4.5138891674733256e-10, 4.887970250163666e-10, 5.831647202272127e-10]\n",
      "d01,d02,d12 = [0.9638542265865301, 0.9870601025982279, 1.0169445951758926]\n"
     ]
    },
    {
     "name": "stderr",
     "output_type": "stream",
     "text": [
      "Progress:  89%|████████▉ | 890/1000 [6:04:22<49:10, 26.83s/it]"
     ]
    },
    {
     "name": "stdout",
     "output_type": "stream",
     "text": [
      "Time to: Calculate Ground State - 1.3s, Get Pauli Ops - 16.29s, Calculate Pauli Expectation Values - 5.36s, Calculate Covariance - 3.23s\n",
      "f0,f1,f2 = [4.0196399778128514e-10, 5.533467328339118e-10, 5.683527178463571e-10]\n",
      "d01,d02,d12 = [0.9631721273848177, 0.9884509747757423, 1.0166919732280966]\n"
     ]
    },
    {
     "name": "stderr",
     "output_type": "stream",
     "text": [
      "Progress:  89%|████████▉ | 891/1000 [6:04:48<48:16, 26.57s/it]"
     ]
    },
    {
     "name": "stdout",
     "output_type": "stream",
     "text": [
      "Time to: Calculate Ground State - 1.34s, Get Pauli Ops - 15.36s, Calculate Pauli Expectation Values - 5.77s, Calculate Covariance - 3.5s\n",
      "f0,f1,f2 = [5.306639465496968e-10, 7.268185106708283e-10, 6.535004211006166e-10]\n",
      "d01,d02,d12 = [0.9625170280974356, 0.9899425418513259, 1.0161502219646061]\n"
     ]
    },
    {
     "name": "stderr",
     "output_type": "stream",
     "text": [
      "Progress:  89%|████████▉ | 892/1000 [6:05:15<47:47, 26.55s/it]"
     ]
    },
    {
     "name": "stdout",
     "output_type": "stream",
     "text": [
      "Time to: Calculate Ground State - 1.42s, Get Pauli Ops - 16.81s, Calculate Pauli Expectation Values - 5.03s, Calculate Covariance - 3.22s\n",
      "f0,f1,f2 = [3.937195172919552e-10, 4.4945498084543643e-10, 5.798558528719542e-10]\n",
      "d01,d02,d12 = [0.9619918901629452, 0.9913529956885981, 1.0154114531773093]\n"
     ]
    },
    {
     "name": "stderr",
     "output_type": "stream",
     "text": [
      "Progress:  89%|████████▉ | 893/1000 [6:05:42<47:39, 26.72s/it]"
     ]
    },
    {
     "name": "stdout",
     "output_type": "stream",
     "text": [
      "Time to: Calculate Ground State - 1.28s, Get Pauli Ops - 16.91s, Calculate Pauli Expectation Values - 5.12s, Calculate Covariance - 3.81s\n",
      "f0,f1,f2 = [4.0327721124036416e-10, 5.701200396330553e-10, 5.748640537383067e-10]\n",
      "d01,d02,d12 = [0.9615258360650527, 0.9928362866075602, 1.0143910271297087]\n"
     ]
    },
    {
     "name": "stderr",
     "output_type": "stream",
     "text": [
      "Progress:  89%|████████▉ | 894/1000 [6:06:09<47:13, 26.73s/it]"
     ]
    },
    {
     "name": "stdout",
     "output_type": "stream",
     "text": [
      "Time to: Calculate Ground State - 1.37s, Get Pauli Ops - 16.47s, Calculate Pauli Expectation Values - 5.34s, Calculate Covariance - 3.55s\n",
      "f0,f1,f2 = [8.506287413681656e-10, 7.349756617578479e-10, 9.29421479369394e-10]\n",
      "d01,d02,d12 = [0.9613249919492143, 0.9939961422732672, 1.0133224039233126]\n"
     ]
    },
    {
     "name": "stderr",
     "output_type": "stream",
     "text": [
      "Progress:  90%|████████▉ | 895/1000 [6:06:35<46:43, 26.70s/it]"
     ]
    },
    {
     "name": "stdout",
     "output_type": "stream",
     "text": [
      "Time to: Calculate Ground State - 1.35s, Get Pauli Ops - 16.7s, Calculate Pauli Expectation Values - 4.76s, Calculate Covariance - 3.82s\n",
      "f0,f1,f2 = [3.892432465431293e-10, 4.845836083896184e-10, 5.785903223559998e-10]\n",
      "d01,d02,d12 = [0.9612639365763257, 0.9950643016022568, 1.012058644059541]\n"
     ]
    },
    {
     "name": "stderr",
     "output_type": "stream",
     "text": [
      "Progress:  90%|████████▉ | 896/1000 [6:06:59<44:40, 25.77s/it]"
     ]
    },
    {
     "name": "stdout",
     "output_type": "stream",
     "text": [
      "Time to: Calculate Ground State - 1.31s, Get Pauli Ops - 13.63s, Calculate Pauli Expectation Values - 5.01s, Calculate Covariance - 3.64s\n",
      "f0,f1,f2 = [3.465212020626913e-10, 4.81670525265167e-10, 5.364134920513481e-10]\n",
      "d01,d02,d12 = [0.9612903505008742, 0.9961242302092493, 1.0105656695516694]\n"
     ]
    },
    {
     "name": "stderr",
     "output_type": "stream",
     "text": [
      "Progress:  90%|████████▉ | 897/1000 [6:07:25<44:09, 25.73s/it]"
     ]
    },
    {
     "name": "stdout",
     "output_type": "stream",
     "text": [
      "Time to: Calculate Ground State - 1.68s, Get Pauli Ops - 15.08s, Calculate Pauli Expectation Values - 5.15s, Calculate Covariance - 3.7s\n",
      "f0,f1,f2 = [5.243146227949555e-10, 7.073194867455914e-10, 6.653084024305029e-10]\n",
      "d01,d02,d12 = [0.9613920111377685, 0.9972843830177257, 1.0087513318347854]\n"
     ]
    },
    {
     "name": "stderr",
     "output_type": "stream",
     "text": [
      "Progress:  90%|████████▉ | 898/1000 [6:07:47<42:13, 24.84s/it]"
     ]
    },
    {
     "name": "stdout",
     "output_type": "stream",
     "text": [
      "Time to: Calculate Ground State - 1.35s, Get Pauli Ops - 13.0s, Calculate Pauli Expectation Values - 5.15s, Calculate Covariance - 3.25s\n",
      "f0,f1,f2 = [6.052175964670028e-10, 8.190069359922208e-10, 7.561061028814556e-10]\n",
      "d01,d02,d12 = [0.961559527482151, 0.9985709133814158, 1.006568084444406]\n"
     ]
    },
    {
     "name": "stderr",
     "output_type": "stream",
     "text": [
      "Progress:  90%|████████▉ | 899/1000 [6:08:12<41:51, 24.87s/it]"
     ]
    },
    {
     "name": "stdout",
     "output_type": "stream",
     "text": [
      "Time to: Calculate Ground State - 0.98s, Get Pauli Ops - 15.25s, Calculate Pauli Expectation Values - 5.4s, Calculate Covariance - 3.29s\n",
      "f0,f1,f2 = [5.501799036500572e-10, 6.347297782157589e-10, 6.295718547547807e-10]\n",
      "d01,d02,d12 = [0.961830798582729, 0.9999251972108995, 1.004104315397252]\n"
     ]
    },
    {
     "name": "stderr",
     "output_type": "stream",
     "text": [
      "Progress:  90%|█████████ | 900/1000 [6:08:38<41:54, 25.15s/it]"
     ]
    },
    {
     "name": "stdout",
     "output_type": "stream",
     "text": [
      "Time to: Calculate Ground State - 1.15s, Get Pauli Ops - 15.79s, Calculate Pauli Expectation Values - 5.22s, Calculate Covariance - 3.63s\n",
      "f0,f1,f2 = [3.894447093179585e-10, 3.8481383675016726e-10, 5.172098787805741e-10]\n",
      "d01,d02,d12 = [0.9622432285173278, 1.001166607832629, 1.0015041733120165]\n"
     ]
    },
    {
     "name": "stderr",
     "output_type": "stream",
     "text": [
      "Progress:  90%|█████████ | 901/1000 [6:09:03<41:33, 25.19s/it]"
     ]
    },
    {
     "name": "stdout",
     "output_type": "stream",
     "text": [
      "Time to: Calculate Ground State - 1.36s, Get Pauli Ops - 15.54s, Calculate Pauli Expectation Values - 4.91s, Calculate Covariance - 3.48s\n",
      "f0,f1,f2 = [3.230361250742982e-10, 3.250076342455432e-10, 4.880733019131818e-10]\n",
      "d01,d02,d12 = [0.9627921653157181, 1.0023100329220267, 0.9987905614091924]\n"
     ]
    },
    {
     "name": "stderr",
     "output_type": "stream",
     "text": [
      "Progress:  90%|█████████ | 902/1000 [6:09:29<41:31, 25.43s/it]"
     ]
    },
    {
     "name": "stdout",
     "output_type": "stream",
     "text": [
      "Time to: Calculate Ground State - 1.27s, Get Pauli Ops - 16.16s, Calculate Pauli Expectation Values - 5.19s, Calculate Covariance - 3.34s\n",
      "f0,f1,f2 = [3.590355552879349e-10, 4.2057151431895786e-10, 4.334869749196621e-10]\n",
      "d01,d02,d12 = [0.963480186161994, 1.0033170017953668, 0.9960238818502013]\n"
     ]
    },
    {
     "name": "stderr",
     "output_type": "stream",
     "text": [
      "Progress:  90%|█████████ | 903/1000 [6:09:57<41:59, 25.97s/it]"
     ]
    },
    {
     "name": "stdout",
     "output_type": "stream",
     "text": [
      "Time to: Calculate Ground State - 1.3s, Get Pauli Ops - 16.32s, Calculate Pauli Expectation Values - 6.35s, Calculate Covariance - 3.25s\n",
      "f0,f1,f2 = [3.777662517984925e-10, 3.70514672222039e-10, 4.1416770816230785e-10]\n",
      "d01,d02,d12 = [0.9643056370989385, 1.004197151126311, 0.99319377860129]\n"
     ]
    },
    {
     "name": "stderr",
     "output_type": "stream",
     "text": [
      "Progress:  90%|█████████ | 904/1000 [6:10:23<41:38, 26.02s/it]"
     ]
    },
    {
     "name": "stdout",
     "output_type": "stream",
     "text": [
      "Time to: Calculate Ground State - 1.23s, Get Pauli Ops - 15.55s, Calculate Pauli Expectation Values - 5.82s, Calculate Covariance - 3.55s\n",
      "f0,f1,f2 = [5.259143561746228e-10, 4.4224438451852547e-10, 4.984478481393398e-10]\n",
      "d01,d02,d12 = [0.9652123764314424, 1.0048346448886567, 0.9905048934546383]\n"
     ]
    },
    {
     "name": "stderr",
     "output_type": "stream",
     "text": [
      "Progress:  90%|█████████ | 905/1000 [6:10:49<41:06, 25.97s/it]"
     ]
    },
    {
     "name": "stdout",
     "output_type": "stream",
     "text": [
      "Time to: Calculate Ground State - 1.33s, Get Pauli Ops - 16.06s, Calculate Pauli Expectation Values - 5.19s, Calculate Covariance - 3.25s\n",
      "f0,f1,f2 = [8.979193812419974e-10, 8.51520436329154e-10, 8.273586872651898e-10]\n",
      "d01,d02,d12 = [0.9661228675086703, 1.005150540588519, 0.9881812605781313]\n"
     ]
    },
    {
     "name": "stderr",
     "output_type": "stream",
     "text": [
      "Progress:  91%|█████████ | 906/1000 [6:11:16<41:21, 26.40s/it]"
     ]
    },
    {
     "name": "stdout",
     "output_type": "stream",
     "text": [
      "Time to: Calculate Ground State - 1.22s, Get Pauli Ops - 16.8s, Calculate Pauli Expectation Values - 5.92s, Calculate Covariance - 3.45s\n",
      "f0,f1,f2 = [4.232883978109534e-10, 4.255485043348114e-10, 4.626068772590599e-10]\n",
      "d01,d02,d12 = [0.9671897829685754, 1.0053722297793193, 0.9857715331992093]\n"
     ]
    },
    {
     "name": "stderr",
     "output_type": "stream",
     "text": [
      "Progress:  91%|█████████ | 907/1000 [6:11:43<41:14, 26.61s/it]"
     ]
    },
    {
     "name": "stdout",
     "output_type": "stream",
     "text": [
      "Time to: Calculate Ground State - 1.15s, Get Pauli Ops - 17.02s, Calculate Pauli Expectation Values - 5.48s, Calculate Covariance - 3.46s\n",
      "f0,f1,f2 = [4.177520812003079e-10, 3.8191599296480105e-10, 4.2350348996510417e-10]\n",
      "d01,d02,d12 = [0.9683382232565417, 1.0054326606266777, 0.9834522034251153]\n"
     ]
    },
    {
     "name": "stderr",
     "output_type": "stream",
     "text": [
      "Progress:  91%|█████████ | 908/1000 [6:12:06<39:15, 25.61s/it]"
     ]
    },
    {
     "name": "stdout",
     "output_type": "stream",
     "text": [
      "Time to: Calculate Ground State - 1.22s, Get Pauli Ops - 14.3s, Calculate Pauli Expectation Values - 5.02s, Calculate Covariance - 2.72s\n",
      "f0,f1,f2 = [7.599601611105595e-10, 7.77714759778843e-10, 7.532288297344719e-10]\n",
      "d01,d02,d12 = [0.9697384798922937, 1.005470732130123, 0.9809153120792301]\n"
     ]
    },
    {
     "name": "stderr",
     "output_type": "stream",
     "text": [
      "Progress:  91%|█████████ | 909/1000 [6:12:32<38:59, 25.71s/it]"
     ]
    },
    {
     "name": "stdout",
     "output_type": "stream",
     "text": [
      "Time to: Calculate Ground State - 1.21s, Get Pauli Ops - 16.74s, Calculate Pauli Expectation Values - 5.27s, Calculate Covariance - 2.72s\n",
      "f0,f1,f2 = [6.321341630092913e-10, 7.189855908706069e-10, 7.047013848960013e-10]\n",
      "d01,d02,d12 = [0.9711434789673346, 1.005358575613782, 0.9786392225583828]\n"
     ]
    },
    {
     "name": "stderr",
     "output_type": "stream",
     "text": [
      "Progress:  91%|█████████ | 910/1000 [6:12:59<38:55, 25.95s/it]"
     ]
    },
    {
     "name": "stdout",
     "output_type": "stream",
     "text": [
      "Time to: Calculate Ground State - 0.95s, Get Pauli Ops - 17.05s, Calculate Pauli Expectation Values - 5.12s, Calculate Covariance - 3.39s\n",
      "f0,f1,f2 = [4.5197402215927725e-10, 5.178212574835207e-10, 3.8729214264631465e-10]\n",
      "d01,d02,d12 = [0.9727770388138887, 1.0051762783017137, 0.9762528993344782]\n"
     ]
    },
    {
     "name": "stderr",
     "output_type": "stream",
     "text": [
      "Progress:  91%|█████████ | 911/1000 [6:13:22<37:20, 25.17s/it]"
     ]
    },
    {
     "name": "stdout",
     "output_type": "stream",
     "text": [
      "Time to: Calculate Ground State - 1.28s, Get Pauli Ops - 13.61s, Calculate Pauli Expectation Values - 5.08s, Calculate Covariance - 3.36s\n",
      "f0,f1,f2 = [4.1891875280287343e-10, 5.811394808477561e-10, 6.657653416362762e-10]\n",
      "d01,d02,d12 = [0.9744011776583524, 1.0048546314775002, 0.9741063499357413]\n"
     ]
    },
    {
     "name": "stderr",
     "output_type": "stream",
     "text": [
      "Progress:  91%|█████████ | 912/1000 [6:13:48<37:04, 25.28s/it]"
     ]
    },
    {
     "name": "stdout",
     "output_type": "stream",
     "text": [
      "Time to: Calculate Ground State - 1.19s, Get Pauli Ops - 13.72s, Calculate Pauli Expectation Values - 7.21s, Calculate Covariance - 3.4s\n",
      "f0,f1,f2 = [2.2849918323990072e-10, 2.5701688360905e-10, 2.0864024417622522e-10]\n",
      "d01,d02,d12 = [0.9760814520204092, 1.0044724626649595, 0.9720302757432784]\n"
     ]
    },
    {
     "name": "stderr",
     "output_type": "stream",
     "text": [
      "Progress:  91%|█████████▏| 913/1000 [6:14:16<38:03, 26.24s/it]"
     ]
    },
    {
     "name": "stdout",
     "output_type": "stream",
     "text": [
      "Time to: Calculate Ground State - 1.46s, Get Pauli Ops - 18.29s, Calculate Pauli Expectation Values - 5.49s, Calculate Covariance - 3.25s\n",
      "f0,f1,f2 = [4.0685169844093445e-10, 5.88349866389377e-10, 3.0644469163301064e-10]\n",
      "d01,d02,d12 = [0.9779252859419785, 1.0039896147786278, 0.9699943205749115]\n"
     ]
    },
    {
     "name": "stderr",
     "output_type": "stream",
     "text": [
      "Progress:  91%|█████████▏| 914/1000 [6:14:45<38:36, 26.94s/it]"
     ]
    },
    {
     "name": "stdout",
     "output_type": "stream",
     "text": [
      "Time to: Calculate Ground State - 1.22s, Get Pauli Ops - 16.8s, Calculate Pauli Expectation Values - 6.85s, Calculate Covariance - 3.67s\n",
      "f0,f1,f2 = [7.378103003070752e-10, 9.071779538990364e-10, 6.488591292731473e-10]\n",
      "d01,d02,d12 = [0.9800186557122249, 1.0033485987768709, 0.9679366711980989]\n"
     ]
    },
    {
     "name": "stderr",
     "output_type": "stream",
     "text": [
      "Progress:  92%|█████████▏| 915/1000 [6:15:10<37:32, 26.50s/it]"
     ]
    },
    {
     "name": "stdout",
     "output_type": "stream",
     "text": [
      "Time to: Calculate Ground State - 1.57s, Get Pauli Ops - 15.48s, Calculate Pauli Expectation Values - 5.28s, Calculate Covariance - 3.15s\n",
      "f0,f1,f2 = [3.2021187439564763e-10, 4.699821715962477e-10, 3.0340257288183147e-10]\n",
      "d01,d02,d12 = [0.9822860735510982, 1.0026029606690734, 0.9659442222994633]\n"
     ]
    },
    {
     "name": "stderr",
     "output_type": "stream",
     "text": [
      "Progress:  92%|█████████▏| 916/1000 [6:15:37<37:15, 26.61s/it]"
     ]
    },
    {
     "name": "stdout",
     "output_type": "stream",
     "text": [
      "Time to: Calculate Ground State - 1.41s, Get Pauli Ops - 16.48s, Calculate Pauli Expectation Values - 5.51s, Calculate Covariance - 3.46s\n",
      "f0,f1,f2 = [3.1746165160806157e-10, 4.910970355785343e-10, 4.98226716364357e-10]\n",
      "d01,d02,d12 = [0.9846944929484523, 1.0017686750236896, 0.9640619352434628]\n"
     ]
    },
    {
     "name": "stderr",
     "output_type": "stream",
     "text": [
      "Progress:  92%|█████████▏| 917/1000 [6:16:04<37:06, 26.83s/it]"
     ]
    },
    {
     "name": "stdout",
     "output_type": "stream",
     "text": [
      "Time to: Calculate Ground State - 1.23s, Get Pauli Ops - 16.84s, Calculate Pauli Expectation Values - 5.74s, Calculate Covariance - 3.52s\n",
      "f0,f1,f2 = [2.582442357321018e-10, 4.497736507805822e-10, 3.774024570400284e-10]\n",
      "d01,d02,d12 = [0.9872239625047979, 1.0008243077130456, 0.9623144517646259]\n"
     ]
    },
    {
     "name": "stderr",
     "output_type": "stream",
     "text": [
      "Progress:  92%|█████████▏| 918/1000 [6:16:30<36:04, 26.40s/it]"
     ]
    },
    {
     "name": "stdout",
     "output_type": "stream",
     "text": [
      "Time to: Calculate Ground State - 1.63s, Get Pauli Ops - 15.03s, Calculate Pauli Expectation Values - 5.37s, Calculate Covariance - 3.35s\n",
      "f0,f1,f2 = [2.8118022144136036e-10, 4.821292714289164e-10, 4.812513635242589e-10]\n",
      "d01,d02,d12 = [0.989673988687733, 0.999892828888534, 0.9608086441257546]\n"
     ]
    },
    {
     "name": "stderr",
     "output_type": "stream",
     "text": [
      "Progress:  92%|█████████▏| 919/1000 [6:16:57<35:51, 26.56s/it]"
     ]
    },
    {
     "name": "stdout",
     "output_type": "stream",
     "text": [
      "Time to: Calculate Ground State - 1.43s, Get Pauli Ops - 16.38s, Calculate Pauli Expectation Values - 6.12s, Calculate Covariance - 3.0s\n",
      "f0,f1,f2 = [4.3533953824035656e-10, 5.191881082780358e-10, 5.872547630091546e-10]\n",
      "d01,d02,d12 = [0.9920932666413246, 0.9989233052934477, 0.9595147554979033]\n"
     ]
    },
    {
     "name": "stderr",
     "output_type": "stream",
     "text": [
      "Progress:  92%|█████████▏| 920/1000 [6:17:21<34:17, 25.72s/it]"
     ]
    },
    {
     "name": "stdout",
     "output_type": "stream",
     "text": [
      "Time to: Calculate Ground State - 1.29s, Get Pauli Ops - 12.71s, Calculate Pauli Expectation Values - 6.47s, Calculate Covariance - 3.27s\n",
      "f0,f1,f2 = [3.757116997625861e-10, 5.624265183929134e-10, 5.215046716848422e-10]\n",
      "d01,d02,d12 = [0.9945870374203498, 0.9978280586081446, 0.9584205480057896]\n"
     ]
    },
    {
     "name": "stderr",
     "output_type": "stream",
     "text": [
      "Progress:  92%|█████████▏| 921/1000 [6:17:46<33:52, 25.73s/it]"
     ]
    },
    {
     "name": "stdout",
     "output_type": "stream",
     "text": [
      "Time to: Calculate Ground State - 0.97s, Get Pauli Ops - 16.45s, Calculate Pauli Expectation Values - 4.96s, Calculate Covariance - 3.36s\n",
      "f0,f1,f2 = [4.2175884470211786e-10, 4.938870352553286e-10, 5.238226671718539e-10]\n",
      "d01,d02,d12 = [0.9969885861781218, 0.996711171325697, 0.9575665635209272]\n"
     ]
    },
    {
     "name": "stderr",
     "output_type": "stream",
     "text": [
      "Progress:  92%|█████████▏| 922/1000 [6:18:13<33:40, 25.90s/it]"
     ]
    },
    {
     "name": "stdout",
     "output_type": "stream",
     "text": [
      "Time to: Calculate Ground State - 1.27s, Get Pauli Ops - 16.36s, Calculate Pauli Expectation Values - 5.04s, Calculate Covariance - 3.63s\n",
      "f0,f1,f2 = [3.4622760397221825e-10, 5.084227387819378e-10, 5.307025025037582e-10]\n",
      "d01,d02,d12 = [0.9993350564972562, 0.995539006117535, 0.9569537839388332]\n"
     ]
    },
    {
     "name": "stderr",
     "output_type": "stream",
     "text": [
      "Progress:  92%|█████████▏| 923/1000 [6:18:37<32:41, 25.48s/it]"
     ]
    },
    {
     "name": "stdout",
     "output_type": "stream",
     "text": [
      "Time to: Calculate Ground State - 1.33s, Get Pauli Ops - 14.4s, Calculate Pauli Expectation Values - 5.23s, Calculate Covariance - 3.51s\n",
      "f0,f1,f2 = [3.677699071782225e-10, 4.630398146528679e-10, 4.781526480401206e-10]\n",
      "d01,d02,d12 = [1.0015984979214192, 0.9943387595377309, 0.9565604632707497]\n"
     ]
    },
    {
     "name": "stderr",
     "output_type": "stream",
     "text": [
      "Progress:  92%|█████████▏| 924/1000 [6:19:00<31:17, 24.70s/it]"
     ]
    },
    {
     "name": "stdout",
     "output_type": "stream",
     "text": [
      "Time to: Calculate Ground State - 0.97s, Get Pauli Ops - 13.35s, Calculate Pauli Expectation Values - 5.43s, Calculate Covariance - 3.13s\n",
      "f0,f1,f2 = [4.703482410509789e-10, 4.751706275408813e-10, 6.204056977307584e-10]\n",
      "d01,d02,d12 = [1.0037259090829935, 0.9931973248442526, 0.9563801782153081]\n"
     ]
    },
    {
     "name": "stderr",
     "output_type": "stream",
     "text": [
      "Progress:  92%|█████████▎| 925/1000 [6:19:23<30:20, 24.28s/it]"
     ]
    },
    {
     "name": "stdout",
     "output_type": "stream",
     "text": [
      "Time to: Calculate Ground State - 0.97s, Get Pauli Ops - 14.08s, Calculate Pauli Expectation Values - 5.12s, Calculate Covariance - 3.12s\n",
      "f0,f1,f2 = [4.30689289332499e-10, 4.983041582494961e-10, 5.694968294373458e-10]\n",
      "d01,d02,d12 = [1.0056953745701498, 0.9920969294539286, 0.9564096284061502]\n"
     ]
    },
    {
     "name": "stderr",
     "output_type": "stream",
     "text": [
      "Progress:  93%|█████████▎| 926/1000 [6:19:45<29:09, 23.64s/it]"
     ]
    },
    {
     "name": "stdout",
     "output_type": "stream",
     "text": [
      "Time to: Calculate Ground State - 0.96s, Get Pauli Ops - 12.92s, Calculate Pauli Expectation Values - 5.19s, Calculate Covariance - 3.08s\n",
      "f0,f1,f2 = [6.466422710202904e-10, 8.056691899380651e-10, 7.370256677169455e-10]\n",
      "d01,d02,d12 = [1.0076937071471639, 0.9907563094534755, 0.956717239559968]\n"
     ]
    },
    {
     "name": "stderr",
     "output_type": "stream",
     "text": [
      "Progress:  93%|█████████▎| 927/1000 [6:20:10<29:10, 23.97s/it]"
     ]
    },
    {
     "name": "stdout",
     "output_type": "stream",
     "text": [
      "Time to: Calculate Ground State - 1.39s, Get Pauli Ops - 13.66s, Calculate Pauli Expectation Values - 5.83s, Calculate Covariance - 3.86s\n",
      "f0,f1,f2 = [4.408289058302065e-10, 5.265428428036227e-10, 5.612437706009959e-10]\n",
      "d01,d02,d12 = [1.0095436397863857, 0.9894215246933347, 0.9572431668088657]\n"
     ]
    },
    {
     "name": "stderr",
     "output_type": "stream",
     "text": [
      "Progress:  93%|█████████▎| 928/1000 [6:20:33<28:17, 23.58s/it]"
     ]
    },
    {
     "name": "stdout",
     "output_type": "stream",
     "text": [
      "Time to: Calculate Ground State - 1.21s, Get Pauli Ops - 13.52s, Calculate Pauli Expectation Values - 5.09s, Calculate Covariance - 2.84s\n",
      "f0,f1,f2 = [4.321238886010136e-10, 4.719522492411644e-10, 5.390091075347863e-10]\n",
      "d01,d02,d12 = [1.0112558536131717, 0.9881044980328532, 0.9579733133520288]\n"
     ]
    },
    {
     "name": "stderr",
     "output_type": "stream",
     "text": [
      "Progress:  93%|█████████▎| 929/1000 [6:20:56<27:44, 23.44s/it]"
     ]
    },
    {
     "name": "stdout",
     "output_type": "stream",
     "text": [
      "Time to: Calculate Ground State - 0.97s, Get Pauli Ops - 14.16s, Calculate Pauli Expectation Values - 4.91s, Calculate Covariance - 3.07s\n",
      "f0,f1,f2 = [4.944835008462671e-10, 5.581639562811164e-10, 5.630274648803623e-10]\n",
      "d01,d02,d12 = [1.0128678126201582, 0.9866852794156089, 0.9589342684726079]\n"
     ]
    },
    {
     "name": "stderr",
     "output_type": "stream",
     "text": [
      "Progress:  93%|█████████▎| 930/1000 [6:21:19<27:12, 23.31s/it]"
     ]
    },
    {
     "name": "stdout",
     "output_type": "stream",
     "text": [
      "Time to: Calculate Ground State - 0.95s, Get Pauli Ops - 12.21s, Calculate Pauli Expectation Values - 6.52s, Calculate Covariance - 3.34s\n",
      "f0,f1,f2 = [4.747013450750658e-10, 4.879636799211035e-10, 5.200613862564673e-10]\n",
      "d01,d02,d12 = [1.014290292642387, 0.9853294011132658, 0.9600453003305515]\n"
     ]
    },
    {
     "name": "stderr",
     "output_type": "stream",
     "text": [
      "Progress:  93%|█████████▎| 931/1000 [6:21:44<27:23, 23.82s/it]"
     ]
    },
    {
     "name": "stdout",
     "output_type": "stream",
     "text": [
      "Time to: Calculate Ground State - 1.23s, Get Pauli Ops - 14.24s, Calculate Pauli Expectation Values - 5.91s, Calculate Covariance - 3.62s\n",
      "f0,f1,f2 = [4.708525460884226e-10, 4.754089013015952e-10, 4.85382642914464e-10]\n",
      "d01,d02,d12 = [1.0155364789644117, 0.9839851267940836, 0.9613170788330042]\n"
     ]
    },
    {
     "name": "stderr",
     "output_type": "stream",
     "text": [
      "Progress:  93%|█████████▎| 932/1000 [6:22:07<26:44, 23.60s/it]"
     ]
    },
    {
     "name": "stdout",
     "output_type": "stream",
     "text": [
      "Time to: Calculate Ground State - 0.95s, Get Pauli Ops - 13.44s, Calculate Pauli Expectation Values - 5.47s, Calculate Covariance - 3.2s\n",
      "f0,f1,f2 = [7.079611990771266e-10, 7.541401428684249e-10, 7.33224937723608e-10]\n",
      "d01,d02,d12 = [1.016503754189492, 0.9829100406360126, 0.9625869223020298]\n"
     ]
    },
    {
     "name": "stderr",
     "output_type": "stream",
     "text": [
      "Progress:  93%|█████████▎| 933/1000 [6:22:34<27:29, 24.62s/it]"
     ]
    },
    {
     "name": "stdout",
     "output_type": "stream",
     "text": [
      "Time to: Calculate Ground State - 1.44s, Get Pauli Ops - 16.62s, Calculate Pauli Expectation Values - 5.29s, Calculate Covariance - 3.64s\n",
      "f0,f1,f2 = [4.925724101851983e-10, 4.5785704953592614e-10, 4.505390337883213e-10]\n",
      "d01,d02,d12 = [1.0173370815645009, 0.9817008938337686, 0.9640726806307879]\n"
     ]
    },
    {
     "name": "stderr",
     "output_type": "stream",
     "text": [
      "Progress:  93%|█████████▎| 934/1000 [6:23:00<27:39, 25.15s/it]"
     ]
    },
    {
     "name": "stdout",
     "output_type": "stream",
     "text": [
      "Time to: Calculate Ground State - 1.59s, Get Pauli Ops - 16.33s, Calculate Pauli Expectation Values - 5.33s, Calculate Covariance - 3.13s\n",
      "f0,f1,f2 = [1.097520104546065e-09, 1.0415320849158655e-09, 1.0900437413763812e-09]\n",
      "d01,d02,d12 = [1.0180686154058918, 0.9801212992895082, 0.9659318769079542]\n"
     ]
    },
    {
     "name": "stderr",
     "output_type": "stream",
     "text": [
      "Progress:  94%|█████████▎| 935/1000 [6:23:26<27:25, 25.32s/it]"
     ]
    },
    {
     "name": "stdout",
     "output_type": "stream",
     "text": [
      "Time to: Calculate Ground State - 1.34s, Get Pauli Ops - 14.97s, Calculate Pauli Expectation Values - 5.64s, Calculate Covariance - 3.77s\n",
      "f0,f1,f2 = [6.110842038989124e-10, 6.740166834519349e-10, 5.980766267431569e-10]\n",
      "d01,d02,d12 = [1.0185627202141567, 0.9787691407252201, 0.9677659377373267]\n"
     ]
    },
    {
     "name": "stderr",
     "output_type": "stream",
     "text": [
      "Progress:  94%|█████████▎| 936/1000 [6:23:49<26:11, 24.56s/it]"
     ]
    },
    {
     "name": "stdout",
     "output_type": "stream",
     "text": [
      "Time to: Calculate Ground State - 1.67s, Get Pauli Ops - 13.95s, Calculate Pauli Expectation Values - 4.74s, Calculate Covariance - 2.43s\n",
      "f0,f1,f2 = [4.998428200696808e-10, 4.638121464686267e-10, 4.031045822217885e-10]\n",
      "d01,d02,d12 = [1.0188615337532436, 0.9773840001333927, 0.96973947915568]\n"
     ]
    },
    {
     "name": "stderr",
     "output_type": "stream",
     "text": [
      "Progress:  94%|█████████▎| 937/1000 [6:24:10<24:42, 23.53s/it]"
     ]
    },
    {
     "name": "stdout",
     "output_type": "stream",
     "text": [
      "Time to: Calculate Ground State - 0.95s, Get Pauli Ops - 12.42s, Calculate Pauli Expectation Values - 5.05s, Calculate Covariance - 2.68s\n",
      "f0,f1,f2 = [5.965244597241445e-10, 4.75570375211312e-10, 4.4027918731834266e-10]\n",
      "d01,d02,d12 = [1.0189662455279385, 0.9758930284589553, 0.9718857458224334]\n"
     ]
    },
    {
     "name": "stderr",
     "output_type": "stream",
     "text": [
      "Progress:  94%|█████████▍| 938/1000 [6:24:33<24:04, 23.30s/it]"
     ]
    },
    {
     "name": "stdout",
     "output_type": "stream",
     "text": [
      "Time to: Calculate Ground State - 0.97s, Get Pauli Ops - 12.83s, Calculate Pauli Expectation Values - 5.6s, Calculate Covariance - 3.36s\n",
      "f0,f1,f2 = [5.439991473471481e-10, 4.0436060451406245e-10, 3.728605920048389e-10]\n",
      "d01,d02,d12 = [1.0188738112325142, 0.9743666511357317, 0.9741398859481718]\n"
     ]
    },
    {
     "name": "stderr",
     "output_type": "stream",
     "text": [
      "Progress:  94%|█████████▍| 939/1000 [6:24:56<23:35, 23.21s/it]"
     ]
    },
    {
     "name": "stdout",
     "output_type": "stream",
     "text": [
      "Time to: Calculate Ground State - 0.95s, Get Pauli Ops - 13.46s, Calculate Pauli Expectation Values - 5.11s, Calculate Covariance - 3.48s\n",
      "f0,f1,f2 = [4.761785847937905e-10, 4.74839746370672e-10, 3.6983823260359876e-10]\n",
      "d01,d02,d12 = [1.0185755643761998, 0.9728933032217124, 0.9764488879975508]\n"
     ]
    },
    {
     "name": "stderr",
     "output_type": "stream",
     "text": [
      "Progress:  94%|█████████▍| 940/1000 [6:25:23<24:18, 24.31s/it]"
     ]
    },
    {
     "name": "stdout",
     "output_type": "stream",
     "text": [
      "Time to: Calculate Ground State - 1.08s, Get Pauli Ops - 14.97s, Calculate Pauli Expectation Values - 7.44s, Calculate Covariance - 3.38s\n",
      "f0,f1,f2 = [5.754793676673216e-10, 4.5031744904078256e-10, 3.645153828910975e-10]\n",
      "d01,d02,d12 = [1.0180538623147657, 0.9714360473386624, 0.9788293977763575]\n"
     ]
    },
    {
     "name": "stderr",
     "output_type": "stream",
     "text": [
      "Progress:  94%|█████████▍| 941/1000 [6:25:45<23:11, 23.59s/it]"
     ]
    },
    {
     "name": "stdout",
     "output_type": "stream",
     "text": [
      "Time to: Calculate Ground State - 0.96s, Get Pauli Ops - 12.83s, Calculate Pauli Expectation Values - 4.95s, Calculate Covariance - 3.16s\n",
      "f0,f1,f2 = [4.583116491511548e-10, 5.835281766339568e-10, 3.6562313414294414e-10]\n",
      "d01,d02,d12 = [1.0173464450438834, 0.9701232210542418, 0.9811369390587995]\n"
     ]
    },
    {
     "name": "stderr",
     "output_type": "stream",
     "text": [
      "Progress:  94%|█████████▍| 942/1000 [6:26:09<23:03, 23.86s/it]"
     ]
    },
    {
     "name": "stdout",
     "output_type": "stream",
     "text": [
      "Time to: Calculate Ground State - 1.45s, Get Pauli Ops - 12.82s, Calculate Pauli Expectation Values - 6.93s, Calculate Covariance - 3.27s\n",
      "f0,f1,f2 = [6.758363626294368e-10, 5.590739502543572e-10, 4.827483968945238e-10]\n",
      "d01,d02,d12 = [1.0163901325378, 0.9687515414768928, 0.9835768704365853]\n"
     ]
    },
    {
     "name": "stderr",
     "output_type": "stream",
     "text": [
      "Progress:  94%|█████████▍| 943/1000 [6:26:34<22:56, 24.14s/it]"
     ]
    },
    {
     "name": "stdout",
     "output_type": "stream",
     "text": [
      "Time to: Calculate Ground State - 0.95s, Get Pauli Ops - 15.39s, Calculate Pauli Expectation Values - 5.52s, Calculate Covariance - 2.94s\n",
      "f0,f1,f2 = [4.492169896743688e-10, 5.02390012987852e-10, 3.028233421513652e-10]\n",
      "d01,d02,d12 = [1.0152365935402163, 0.9674875568032406, 0.9859612412235698]\n"
     ]
    },
    {
     "name": "stderr",
     "output_type": "stream",
     "text": [
      "Progress:  94%|█████████▍| 944/1000 [6:26:58<22:32, 24.15s/it]"
     ]
    },
    {
     "name": "stdout",
     "output_type": "stream",
     "text": [
      "Time to: Calculate Ground State - 0.95s, Get Pauli Ops - 14.21s, Calculate Pauli Expectation Values - 5.88s, Calculate Covariance - 3.13s\n",
      "f0,f1,f2 = [4.098160637270434e-10, 5.564311884288738e-10, 3.552158405552363e-10]\n",
      "d01,d02,d12 = [1.013925573899365, 0.966373174444158, 0.9881913792777545]\n"
     ]
    },
    {
     "name": "stderr",
     "output_type": "stream",
     "text": [
      "Progress:  94%|█████████▍| 945/1000 [6:27:21<21:53, 23.89s/it]"
     ]
    },
    {
     "name": "stdout",
     "output_type": "stream",
     "text": [
      "Time to: Calculate Ground State - 0.97s, Get Pauli Ops - 13.82s, Calculate Pauli Expectation Values - 5.3s, Calculate Covariance - 3.17s\n",
      "f0,f1,f2 = [4.2626151901140267e-10, 5.189731317746055e-10, 3.1251816231171204e-10]\n",
      "d01,d02,d12 = [1.0124239337077299, 0.9653581888451395, 0.9903650205095428]\n"
     ]
    },
    {
     "name": "stderr",
     "output_type": "stream",
     "text": [
      "Progress:  95%|█████████▍| 946/1000 [6:27:47<21:55, 24.36s/it]"
     ]
    },
    {
     "name": "stdout",
     "output_type": "stream",
     "text": [
      "Time to: Calculate Ground State - 1.65s, Get Pauli Ops - 15.18s, Calculate Pauli Expectation Values - 5.12s, Calculate Covariance - 3.48s\n",
      "f0,f1,f2 = [4.778259104435653e-10, 6.772503610102964e-10, 5.2263228066832e-10]\n",
      "d01,d02,d12 = [1.0108065317864718, 0.9645267145992737, 0.9923378363456979]\n"
     ]
    },
    {
     "name": "stderr",
     "output_type": "stream",
     "text": [
      "Progress:  95%|█████████▍| 947/1000 [6:28:11<21:23, 24.22s/it]"
     ]
    },
    {
     "name": "stdout",
     "output_type": "stream",
     "text": [
      "Time to: Calculate Ground State - 0.96s, Get Pauli Ops - 13.96s, Calculate Pauli Expectation Values - 5.75s, Calculate Covariance - 3.22s\n",
      "f0,f1,f2 = [4.702789767437577e-10, 6.491627956240272e-10, 5.38578412868536e-10]\n",
      "d01,d02,d12 = [1.0090534911983404, 0.9638467242611599, 0.9941821814035284]\n"
     ]
    },
    {
     "name": "stderr",
     "output_type": "stream",
     "text": [
      "Progress:  95%|█████████▍| 948/1000 [6:28:36<21:10, 24.42s/it]"
     ]
    },
    {
     "name": "stdout",
     "output_type": "stream",
     "text": [
      "Time to: Calculate Ground State - 1.34s, Get Pauli Ops - 14.73s, Calculate Pauli Expectation Values - 5.13s, Calculate Covariance - 3.67s\n",
      "f0,f1,f2 = [4.1563583309719754e-10, 5.905614731615577e-10, 4.642483704664876e-10]\n",
      "d01,d02,d12 = [1.007159587272243, 0.9633135179493973, 0.9958920128554195]\n"
     ]
    },
    {
     "name": "stderr",
     "output_type": "stream",
     "text": [
      "Progress:  95%|█████████▍| 949/1000 [6:29:05<21:58, 25.85s/it]"
     ]
    },
    {
     "name": "stdout",
     "output_type": "stream",
     "text": [
      "Time to: Calculate Ground State - 1.29s, Get Pauli Ops - 17.41s, Calculate Pauli Expectation Values - 6.44s, Calculate Covariance - 4.03s\n",
      "f0,f1,f2 = [4.814348213693024e-10, 5.316545716405488e-10, 3.6241008055526126e-10]\n",
      "d01,d02,d12 = [1.0050762127575799, 0.9628917096030721, 0.9975642564110814]\n"
     ]
    },
    {
     "name": "stderr",
     "output_type": "stream",
     "text": [
      "Progress:  95%|█████████▌| 950/1000 [6:29:32<21:50, 26.20s/it]"
     ]
    },
    {
     "name": "stdout",
     "output_type": "stream",
     "text": [
      "Time to: Calculate Ground State - 1.28s, Get Pauli Ops - 16.71s, Calculate Pauli Expectation Values - 5.3s, Calculate Covariance - 3.71s\n",
      "f0,f1,f2 = [3.9140374717479917e-10, 5.333985056526891e-10, 4.02587825835002e-10]\n",
      "d01,d02,d12 = [1.0028559621442652, 0.9626225862945312, 0.9991224308008293]\n"
     ]
    },
    {
     "name": "stderr",
     "output_type": "stream",
     "text": [
      "Progress:  95%|█████████▌| 951/1000 [6:29:59<21:35, 26.44s/it]"
     ]
    },
    {
     "name": "stdout",
     "output_type": "stream",
     "text": [
      "Time to: Calculate Ground State - 1.39s, Get Pauli Ops - 17.29s, Calculate Pauli Expectation Values - 5.2s, Calculate Covariance - 3.1s\n",
      "f0,f1,f2 = [3.862176456321891e-10, 5.140341177154596e-10, 3.2666032528508815e-10]\n",
      "d01,d02,d12 = [1.0004981420460861, 0.9624903542055581, 1.0005826429115514]\n"
     ]
    },
    {
     "name": "stderr",
     "output_type": "stream",
     "text": [
      "Progress:  95%|█████████▌| 952/1000 [6:30:24<20:56, 26.18s/it]"
     ]
    },
    {
     "name": "stdout",
     "output_type": "stream",
     "text": [
      "Time to: Calculate Ground State - 1.3s, Get Pauli Ops - 16.0s, Calculate Pauli Expectation Values - 4.91s, Calculate Covariance - 3.35s\n",
      "f0,f1,f2 = [3.658823471183128e-10, 4.279152971359795e-10, 3.533821697880648e-10]\n",
      "d01,d02,d12 = [0.9980425244096706, 0.9625043715428524, 1.0019455802881527]\n"
     ]
    },
    {
     "name": "stderr",
     "output_type": "stream",
     "text": [
      "Progress:  95%|█████████▌| 953/1000 [6:30:50<20:19, 25.95s/it]"
     ]
    },
    {
     "name": "stdout",
     "output_type": "stream",
     "text": [
      "Time to: Calculate Ground State - 1.21s, Get Pauli Ops - 15.3s, Calculate Pauli Expectation Values - 5.43s, Calculate Covariance - 3.49s\n",
      "f0,f1,f2 = [3.72186202930431e-10, 4.532070972445045e-10, 3.745335145844355e-10]\n",
      "d01,d02,d12 = [0.9954953381431721, 0.9626660637665106, 1.0031983730981855]\n"
     ]
    },
    {
     "name": "stderr",
     "output_type": "stream",
     "text": [
      "Progress:  95%|█████████▌| 954/1000 [6:31:14<19:24, 25.31s/it]"
     ]
    },
    {
     "name": "stdout",
     "output_type": "stream",
     "text": [
      "Time to: Calculate Ground State - 1.31s, Get Pauli Ops - 13.2s, Calculate Pauli Expectation Values - 5.72s, Calculate Covariance - 3.57s\n",
      "f0,f1,f2 = [4.589453170969834e-10, 4.825662187546359e-10, 3.999572511148303e-10]\n",
      "d01,d02,d12 = [0.9928550872239308, 0.9629945243700057, 1.0043721998427475]\n"
     ]
    },
    {
     "name": "stderr",
     "output_type": "stream",
     "text": [
      "Progress:  96%|█████████▌| 955/1000 [6:31:36<18:13, 24.31s/it]"
     ]
    },
    {
     "name": "stdout",
     "output_type": "stream",
     "text": [
      "Time to: Calculate Ground State - 1.11s, Get Pauli Ops - 12.86s, Calculate Pauli Expectation Values - 5.2s, Calculate Covariance - 2.79s\n",
      "f0,f1,f2 = [5.329829017769616e-10, 5.565097024735197e-10, 5.52590925339053e-10]\n",
      "d01,d02,d12 = [0.9903169115059126, 0.9634607053935614, 1.0053273326594554]\n"
     ]
    },
    {
     "name": "stderr",
     "output_type": "stream",
     "text": [
      "Progress:  96%|█████████▌| 956/1000 [6:31:59<17:31, 23.91s/it]"
     ]
    },
    {
     "name": "stdout",
     "output_type": "stream",
     "text": [
      "Time to: Calculate Ground State - 0.96s, Get Pauli Ops - 13.73s, Calculate Pauli Expectation Values - 5.45s, Calculate Covariance - 2.82s\n",
      "f0,f1,f2 = [4.925888491048997e-10, 4.978594564018308e-10, 4.945403916764481e-10]\n",
      "d01,d02,d12 = [0.9879343148161039, 0.9640192237508121, 1.0060628540020922]\n"
     ]
    },
    {
     "name": "stderr",
     "output_type": "stream",
     "text": [
      "Progress:  96%|█████████▌| 957/1000 [6:32:21<16:47, 23.44s/it]"
     ]
    },
    {
     "name": "stdout",
     "output_type": "stream",
     "text": [
      "Time to: Calculate Ground State - 0.95s, Get Pauli Ops - 12.7s, Calculate Pauli Expectation Values - 5.18s, Calculate Covariance - 3.52s\n",
      "f0,f1,f2 = [4.437708108665964e-10, 4.141439596098188e-10, 4.108187495600809e-10]\n",
      "d01,d02,d12 = [0.9856249821900752, 0.9647059439520437, 1.0066377590407345]\n"
     ]
    },
    {
     "name": "stderr",
     "output_type": "stream",
     "text": [
      "Progress:  96%|█████████▌| 958/1000 [6:32:44<16:24, 23.44s/it]"
     ]
    },
    {
     "name": "stdout",
     "output_type": "stream",
     "text": [
      "Time to: Calculate Ground State - 1.56s, Get Pauli Ops - 13.75s, Calculate Pauli Expectation Values - 5.3s, Calculate Covariance - 2.83s\n",
      "f0,f1,f2 = [6.629347068040104e-10, 6.098355917194508e-10, 6.339289509994887e-10]\n",
      "d01,d02,d12 = [0.982989933456408, 0.965708503341092, 1.0072447439303862]\n"
     ]
    },
    {
     "name": "stderr",
     "output_type": "stream",
     "text": [
      "Progress:  96%|█████████▌| 959/1000 [6:33:13<17:03, 24.97s/it]"
     ]
    },
    {
     "name": "stdout",
     "output_type": "stream",
     "text": [
      "Time to: Calculate Ground State - 1.0s, Get Pauli Ops - 18.12s, Calculate Pauli Expectation Values - 5.47s, Calculate Covariance - 3.94s\n",
      "f0,f1,f2 = [4.739176346369332e-10, 3.73185561992748e-10, 3.79329592803759e-10]\n",
      "d01,d02,d12 = [0.9804125410566099, 0.9668659027153914, 1.0077279542613746]\n"
     ]
    },
    {
     "name": "stderr",
     "output_type": "stream",
     "text": [
      "Progress:  96%|█████████▌| 960/1000 [6:33:38<16:45, 25.14s/it]"
     ]
    },
    {
     "name": "stdout",
     "output_type": "stream",
     "text": [
      "Time to: Calculate Ground State - 1.37s, Get Pauli Ops - 15.29s, Calculate Pauli Expectation Values - 5.82s, Calculate Covariance - 3.05s\n",
      "f0,f1,f2 = [4.687042705261893e-10, 3.458012452145919e-10, 3.896515758524446e-10]\n",
      "d01,d02,d12 = [0.9778234296889388, 0.9682065548025863, 1.0081169611457854]\n"
     ]
    },
    {
     "name": "stderr",
     "output_type": "stream",
     "text": [
      "Progress:  96%|█████████▌| 961/1000 [6:34:02<16:04, 24.73s/it]"
     ]
    },
    {
     "name": "stdout",
     "output_type": "stream",
     "text": [
      "Time to: Calculate Ground State - 1.29s, Get Pauli Ops - 13.42s, Calculate Pauli Expectation Values - 5.28s, Calculate Covariance - 3.76s\n",
      "f0,f1,f2 = [6.345948413691061e-10, 5.656246189848898e-10, 5.162266769469192e-10]\n",
      "d01,d02,d12 = [0.9754870109261702, 0.9695358432922941, 1.0083653958626253]\n"
     ]
    },
    {
     "name": "stderr",
     "output_type": "stream",
     "text": [
      "Progress:  96%|█████████▌| 962/1000 [6:34:27<15:37, 24.66s/it]"
     ]
    },
    {
     "name": "stdout",
     "output_type": "stream",
     "text": [
      "Time to: Calculate Ground State - 1.32s, Get Pauli Ops - 13.32s, Calculate Pauli Expectation Values - 6.28s, Calculate Covariance - 3.59s\n",
      "f0,f1,f2 = [8.415200855434752e-10, 5.948648443142733e-10, 6.166940837390167e-10]\n",
      "d01,d02,d12 = [0.9736151593375285, 0.9707364367633698, 1.0084680113995808]\n"
     ]
    },
    {
     "name": "stderr",
     "output_type": "stream",
     "text": [
      "Progress:  96%|█████████▋| 963/1000 [6:34:50<15:01, 24.38s/it]"
     ]
    },
    {
     "name": "stdout",
     "output_type": "stream",
     "text": [
      "Time to: Calculate Ground State - 1.5s, Get Pauli Ops - 14.24s, Calculate Pauli Expectation Values - 5.19s, Calculate Covariance - 2.76s\n",
      "f0,f1,f2 = [4.1226572032007276e-10, 3.50591127683622e-10, 3.643372227848882e-10]\n",
      "d01,d02,d12 = [0.9718075523089013, 0.9720533872332896, 1.0084583955645487]\n"
     ]
    },
    {
     "name": "stderr",
     "output_type": "stream",
     "text": [
      "Progress:  96%|█████████▋| 964/1000 [6:35:16<14:46, 24.63s/it]"
     ]
    },
    {
     "name": "stdout",
     "output_type": "stream",
     "text": [
      "Time to: Calculate Ground State - 1.34s, Get Pauli Ops - 15.7s, Calculate Pauli Expectation Values - 4.9s, Calculate Covariance - 3.29s\n",
      "f0,f1,f2 = [4.2389123187832283e-10, 3.059818940176827e-10, 2.8679387585023294e-10]\n",
      "d01,d02,d12 = [0.9701084138289694, 0.9734734138459721, 1.0083543332237952]\n"
     ]
    },
    {
     "name": "stderr",
     "output_type": "stream",
     "text": [
      "Progress:  96%|█████████▋| 965/1000 [6:35:42<14:43, 25.25s/it]"
     ]
    },
    {
     "name": "stdout",
     "output_type": "stream",
     "text": [
      "Time to: Calculate Ground State - 1.28s, Get Pauli Ops - 16.44s, Calculate Pauli Expectation Values - 5.02s, Calculate Covariance - 3.92s\n",
      "f0,f1,f2 = [4.719333201701773e-10, 3.4498530220160667e-10, 4.0502498607090327e-10]\n",
      "d01,d02,d12 = [0.9684860147037835, 0.9750511142813666, 1.0081234395594794]\n"
     ]
    },
    {
     "name": "stderr",
     "output_type": "stream",
     "text": [
      "Progress:  97%|█████████▋| 966/1000 [6:36:08<14:23, 25.41s/it]"
     ]
    },
    {
     "name": "stdout",
     "output_type": "stream",
     "text": [
      "Time to: Calculate Ground State - 1.27s, Get Pauli Ops - 15.26s, Calculate Pauli Expectation Values - 5.42s, Calculate Covariance - 3.8s\n",
      "f0,f1,f2 = [6.792863738890915e-10, 5.297930626342117e-10, 4.960505278116226e-10]\n",
      "d01,d02,d12 = [0.9671368789032485, 0.9765841333852202, 1.0078248721179457]\n"
     ]
    },
    {
     "name": "stderr",
     "output_type": "stream",
     "text": [
      "Progress:  97%|█████████▋| 967/1000 [6:36:34<14:03, 25.57s/it]"
     ]
    },
    {
     "name": "stdout",
     "output_type": "stream",
     "text": [
      "Time to: Calculate Ground State - 1.46s, Get Pauli Ops - 15.69s, Calculate Pauli Expectation Values - 5.49s, Calculate Covariance - 3.31s\n",
      "f0,f1,f2 = [5.937217256776311e-10, 4.1177509010271763e-10, 5.023211941602039e-10]\n",
      "d01,d02,d12 = [0.9658764639618128, 0.978272893950072, 1.0074071473884725]\n"
     ]
    },
    {
     "name": "stderr",
     "output_type": "stream",
     "text": [
      "Progress:  97%|█████████▋| 968/1000 [6:36:59<13:30, 25.31s/it]"
     ]
    },
    {
     "name": "stdout",
     "output_type": "stream",
     "text": [
      "Time to: Calculate Ground State - 1.33s, Get Pauli Ops - 13.77s, Calculate Pauli Expectation Values - 6.47s, Calculate Covariance - 3.14s\n",
      "f0,f1,f2 = [9.87518682121534e-10, 8.277407284077777e-10, 9.487764527138777e-10]\n",
      "d01,d02,d12 = [0.9644827532270012, 0.9804027578836955, 1.0067674044540107]\n"
     ]
    },
    {
     "name": "stderr",
     "output_type": "stream",
     "text": [
      "Progress:  97%|█████████▋| 969/1000 [6:37:25<13:09, 25.46s/it]"
     ]
    },
    {
     "name": "stdout",
     "output_type": "stream",
     "text": [
      "Time to: Calculate Ground State - 0.97s, Get Pauli Ops - 16.59s, Calculate Pauli Expectation Values - 5.16s, Calculate Covariance - 3.08s\n",
      "f0,f1,f2 = [4.992837827977562e-10, 3.8154008506504367e-10, 3.3490339650603004e-10]\n",
      "d01,d02,d12 = [0.9633015531935598, 0.9825327564338066, 1.0060480060373977]\n"
     ]
    },
    {
     "name": "stderr",
     "output_type": "stream",
     "text": [
      "Progress:  97%|█████████▋| 970/1000 [6:37:50<12:39, 25.32s/it]"
     ]
    },
    {
     "name": "stdout",
     "output_type": "stream",
     "text": [
      "Time to: Calculate Ground State - 1.24s, Get Pauli Ops - 14.72s, Calculate Pauli Expectation Values - 5.54s, Calculate Covariance - 3.46s\n",
      "f0,f1,f2 = [5.751916488225863e-10, 4.466870368617231e-10, 4.521492755275912e-10]\n",
      "d01,d02,d12 = [0.9622560367853319, 0.9847599243724892, 1.0051961519089134]\n"
     ]
    },
    {
     "name": "stderr",
     "output_type": "stream",
     "text": [
      "Progress:  97%|█████████▋| 971/1000 [6:38:17<12:35, 26.07s/it]"
     ]
    },
    {
     "name": "stdout",
     "output_type": "stream",
     "text": [
      "Time to: Calculate Ground State - 1.22s, Get Pauli Ops - 15.13s, Calculate Pauli Expectation Values - 7.76s, Calculate Covariance - 3.7s\n",
      "f0,f1,f2 = [5.390146953541412e-10, 3.918244303051167e-10, 3.557853320873234e-10]\n",
      "d01,d02,d12 = [0.9613551651582832, 0.9870778859482721, 1.0042371347866952]\n"
     ]
    },
    {
     "name": "stderr",
     "output_type": "stream",
     "text": [
      "Progress:  97%|█████████▋| 972/1000 [6:38:41<11:48, 25.29s/it]"
     ]
    },
    {
     "name": "stdout",
     "output_type": "stream",
     "text": [
      "Time to: Calculate Ground State - 1.27s, Get Pauli Ops - 13.68s, Calculate Pauli Expectation Values - 5.42s, Calculate Covariance - 3.11s\n",
      "f0,f1,f2 = [4.875918380257316e-10, 4.793996181722533e-10, 3.455839464613931e-10]\n",
      "d01,d02,d12 = [0.9606436890632715, 0.9894361120459503, 1.0031741899191193]\n"
     ]
    },
    {
     "name": "stderr",
     "output_type": "stream",
     "text": [
      "Progress:  97%|█████████▋| 973/1000 [6:39:05<11:13, 24.95s/it]"
     ]
    },
    {
     "name": "stdout",
     "output_type": "stream",
     "text": [
      "Time to: Calculate Ground State - 1.23s, Get Pauli Ops - 14.13s, Calculate Pauli Expectation Values - 5.88s, Calculate Covariance - 2.89s\n",
      "f0,f1,f2 = [4.663792380634195e-10, 4.812942777585107e-10, 3.648226579717869e-10]\n",
      "d01,d02,d12 = [0.960148632081614, 0.9916966417750186, 1.002105186696936]\n"
     ]
    },
    {
     "name": "stderr",
     "output_type": "stream",
     "text": [
      "Progress:  97%|█████████▋| 974/1000 [6:39:31<10:54, 25.15s/it]"
     ]
    },
    {
     "name": "stdout",
     "output_type": "stream",
     "text": [
      "Time to: Calculate Ground State - 1.34s, Get Pauli Ops - 14.82s, Calculate Pauli Expectation Values - 6.18s, Calculate Covariance - 3.29s\n",
      "f0,f1,f2 = [5.235586496809465e-10, 5.646484219569718e-10, 4.3581927132423665e-10]\n",
      "d01,d02,d12 = [0.9598668092851976, 0.9938827139280281, 1.0009954617662675]\n"
     ]
    },
    {
     "name": "stderr",
     "output_type": "stream",
     "text": [
      "Progress:  98%|█████████▊| 975/1000 [6:39:56<10:30, 25.21s/it]"
     ]
    },
    {
     "name": "stdout",
     "output_type": "stream",
     "text": [
      "Time to: Calculate Ground State - 1.71s, Get Pauli Ops - 13.76s, Calculate Pauli Expectation Values - 6.48s, Calculate Covariance - 3.36s\n",
      "f0,f1,f2 = [7.322049703024407e-10, 8.093031975344042e-10, 6.226496541312924e-10]\n",
      "d01,d02,d12 = [0.9598350462061646, 0.9957688660315688, 0.9999947256665064]\n"
     ]
    },
    {
     "name": "stderr",
     "output_type": "stream",
     "text": [
      "Progress:  98%|█████████▊| 976/1000 [6:40:21<10:01, 25.07s/it]"
     ]
    },
    {
     "name": "stdout",
     "output_type": "stream",
     "text": [
      "Time to: Calculate Ground State - 1.46s, Get Pauli Ops - 14.54s, Calculate Pauli Expectation Values - 6.08s, Calculate Covariance - 2.68s\n",
      "f0,f1,f2 = [5.418017539523286e-10, 7.735414947039485e-10, 4.3455544483702254e-10]\n",
      "d01,d02,d12 = [0.9600431499499025, 0.9974723358852877, 0.9990270038515373]\n"
     ]
    },
    {
     "name": "stderr",
     "output_type": "stream",
     "text": [
      "Progress:  98%|█████████▊| 977/1000 [6:40:48<09:48, 25.59s/it]"
     ]
    },
    {
     "name": "stdout",
     "output_type": "stream",
     "text": [
      "Time to: Calculate Ground State - 1.68s, Get Pauli Ops - 14.78s, Calculate Pauli Expectation Values - 7.02s, Calculate Covariance - 3.31s\n",
      "f0,f1,f2 = [4.167013013185043e-10, 3.3912284914301565e-10, 3.99609571547793e-10]\n",
      "d01,d02,d12 = [0.960413295529777, 0.9991531084659662, 0.9979505379025557]\n"
     ]
    },
    {
     "name": "stderr",
     "output_type": "stream",
     "text": [
      "Progress:  98%|█████████▊| 978/1000 [6:41:13<09:20, 25.50s/it]"
     ]
    },
    {
     "name": "stdout",
     "output_type": "stream",
     "text": [
      "Time to: Calculate Ground State - 1.66s, Get Pauli Ops - 14.06s, Calculate Pauli Expectation Values - 5.7s, Calculate Covariance - 3.84s\n",
      "f0,f1,f2 = [3.4170200458355153e-10, 4.11916923077418e-10, 3.4219454728422707e-10]\n",
      "d01,d02,d12 = [0.960947944984415, 1.00074556473889, 0.9968462316287505]\n"
     ]
    },
    {
     "name": "stderr",
     "output_type": "stream",
     "text": [
      "Progress:  98%|█████████▊| 979/1000 [6:41:36<08:38, 24.69s/it]"
     ]
    },
    {
     "name": "stdout",
     "output_type": "stream",
     "text": [
      "Time to: Calculate Ground State - 0.98s, Get Pauli Ops - 13.79s, Calculate Pauli Expectation Values - 4.93s, Calculate Covariance - 3.11s\n",
      "f0,f1,f2 = [3.853052661146749e-10, 4.448578540988564e-10, 3.8191636343343324e-10]\n",
      "d01,d02,d12 = [0.9616458980168909, 1.0022158261363132, 0.9957175064026785]\n"
     ]
    },
    {
     "name": "stderr",
     "output_type": "stream",
     "text": [
      "Progress:  98%|█████████▊| 980/1000 [6:42:01<08:16, 24.80s/it]"
     ]
    },
    {
     "name": "stdout",
     "output_type": "stream",
     "text": [
      "Time to: Calculate Ground State - 0.96s, Get Pauli Ops - 14.04s, Calculate Pauli Expectation Values - 6.21s, Calculate Covariance - 3.85s\n",
      "f0,f1,f2 = [7.383861119721966e-10, 6.154089281168837e-10, 6.335328380407233e-10]\n",
      "d01,d02,d12 = [0.9625534847249566, 1.0037069819213655, 0.9943353053904052]\n"
     ]
    },
    {
     "name": "stderr",
     "output_type": "stream",
     "text": [
      "Progress:  98%|█████████▊| 981/1000 [6:42:27<07:57, 25.12s/it]"
     ]
    },
    {
     "name": "stdout",
     "output_type": "stream",
     "text": [
      "Time to: Calculate Ground State - 1.1s, Get Pauli Ops - 15.76s, Calculate Pauli Expectation Values - 5.13s, Calculate Covariance - 3.86s\n",
      "f0,f1,f2 = [3.8275248016435834e-10, 3.811580505290536e-10, 4.1115940272789253e-10]\n",
      "d01,d02,d12 = [0.963603230667342, 1.0050911859659455, 0.9928795723437538]\n"
     ]
    },
    {
     "name": "stderr",
     "output_type": "stream",
     "text": [
      "Progress:  98%|█████████▊| 982/1000 [6:42:53<07:37, 25.43s/it]"
     ]
    },
    {
     "name": "stdout",
     "output_type": "stream",
     "text": [
      "Time to: Calculate Ground State - 1.54s, Get Pauli Ops - 15.43s, Calculate Pauli Expectation Values - 5.49s, Calculate Covariance - 3.69s\n",
      "f0,f1,f2 = [3.6617336480118423e-10, 3.444334371219014e-10, 4.1581392097373336e-10]\n",
      "d01,d02,d12 = [0.9647934312027631, 1.0063777944382954, 0.9913167913305693]\n"
     ]
    },
    {
     "name": "stderr",
     "output_type": "stream",
     "text": [
      "Progress:  98%|█████████▊| 983/1000 [6:43:16<07:02, 24.83s/it]"
     ]
    },
    {
     "name": "stdout",
     "output_type": "stream",
     "text": [
      "Time to: Calculate Ground State - 1.0s, Get Pauli Ops - 12.67s, Calculate Pauli Expectation Values - 6.49s, Calculate Covariance - 3.24s\n",
      "f0,f1,f2 = [3.850435705793138e-10, 3.4991824540055017e-10, 4.394214582372547e-10]\n",
      "d01,d02,d12 = [0.966108145292954, 1.0075251025178071, 0.9896954675529849]\n"
     ]
    },
    {
     "name": "stderr",
     "output_type": "stream",
     "text": [
      "Progress:  98%|█████████▊| 984/1000 [6:43:40<06:32, 24.51s/it]"
     ]
    },
    {
     "name": "stdout",
     "output_type": "stream",
     "text": [
      "Time to: Calculate Ground State - 1.25s, Get Pauli Ops - 13.59s, Calculate Pauli Expectation Values - 5.28s, Calculate Covariance - 3.64s\n",
      "f0,f1,f2 = [5.059579542936903e-10, 5.8399918743427e-10, 6.406505099028257e-10]\n",
      "d01,d02,d12 = [0.967593858887001, 1.0085888155368987, 0.9878850230324331]\n"
     ]
    },
    {
     "name": "stderr",
     "output_type": "stream",
     "text": [
      "Progress:  98%|█████████▊| 985/1000 [6:44:06<06:16, 25.12s/it]"
     ]
    },
    {
     "name": "stdout",
     "output_type": "stream",
     "text": [
      "Time to: Calculate Ground State - 1.29s, Get Pauli Ops - 16.05s, Calculate Pauli Expectation Values - 5.84s, Calculate Covariance - 3.35s\n",
      "f0,f1,f2 = [5.146633400513953e-10, 5.366385875062777e-10, 6.232754786408608e-10]\n",
      "d01,d02,d12 = [0.9692979475720112, 1.0096016696970487, 0.9858093884663598]\n"
     ]
    },
    {
     "name": "stderr",
     "output_type": "stream",
     "text": [
      "Progress:  99%|█████████▊| 986/1000 [6:44:31<05:50, 25.01s/it]"
     ]
    },
    {
     "name": "stdout",
     "output_type": "stream",
     "text": [
      "Time to: Calculate Ground State - 1.33s, Get Pauli Ops - 14.97s, Calculate Pauli Expectation Values - 5.09s, Calculate Covariance - 3.35s\n",
      "f0,f1,f2 = [5.116017680624887e-10, 5.940848092815577e-10, 6.738757820080896e-10]\n",
      "d01,d02,d12 = [0.9711647910400288, 1.0105044630747544, 0.9835488016077901]\n"
     ]
    },
    {
     "name": "stderr",
     "output_type": "stream",
     "text": [
      "Progress:  99%|█████████▊| 987/1000 [6:44:54<05:17, 24.42s/it]"
     ]
    },
    {
     "name": "stdout",
     "output_type": "stream",
     "text": [
      "Time to: Calculate Ground State - 1.46s, Get Pauli Ops - 13.16s, Calculate Pauli Expectation Values - 5.59s, Calculate Covariance - 2.84s\n",
      "f0,f1,f2 = [5.761819784588157e-10, 3.96572679623375e-10, 4.865795918344522e-10]\n",
      "d01,d02,d12 = [0.9730543806816128, 1.0112223690192979, 0.9813568860573717]\n"
     ]
    },
    {
     "name": "stderr",
     "output_type": "stream",
     "text": [
      "Progress:  99%|█████████▉| 988/1000 [6:45:17<04:48, 24.02s/it]"
     ]
    },
    {
     "name": "stdout",
     "output_type": "stream",
     "text": [
      "Time to: Calculate Ground State - 0.89s, Get Pauli Ops - 13.63s, Calculate Pauli Expectation Values - 5.74s, Calculate Covariance - 2.82s\n",
      "f0,f1,f2 = [4.4636274449622527e-10, 5.695528533108896e-10, 6.502300470429054e-10]\n",
      "d01,d02,d12 = [0.9750746261285541, 1.0117747916004747, 0.9790357168732299]\n"
     ]
    },
    {
     "name": "stderr",
     "output_type": "stream",
     "text": [
      "Progress:  99%|█████████▉| 989/1000 [6:45:42<04:25, 24.10s/it]"
     ]
    },
    {
     "name": "stdout",
     "output_type": "stream",
     "text": [
      "Time to: Calculate Ground State - 1.18s, Get Pauli Ops - 15.11s, Calculate Pauli Expectation Values - 5.09s, Calculate Covariance - 2.89s\n",
      "f0,f1,f2 = [4.203343607487484e-10, 5.260703009945519e-10, 5.050371276337871e-10]\n",
      "d01,d02,d12 = [0.9772648374705435, 1.0122183079453118, 0.9765183954555094]\n"
     ]
    },
    {
     "name": "stderr",
     "output_type": "stream",
     "text": [
      "Progress:  99%|█████████▉| 990/1000 [6:46:12<04:20, 26.01s/it]"
     ]
    },
    {
     "name": "stdout",
     "output_type": "stream",
     "text": [
      "Time to: Calculate Ground State - 1.18s, Get Pauli Ops - 19.86s, Calculate Pauli Expectation Values - 6.31s, Calculate Covariance - 3.09s\n",
      "f0,f1,f2 = [4.0234982609635987e-10, 2.6059406931886553e-10, 3.928659776838558e-10]\n",
      "d01,d02,d12 = [0.9794899790674381, 1.012487389734026, 0.9740358885261625]\n"
     ]
    },
    {
     "name": "stderr",
     "output_type": "stream",
     "text": [
      "Progress:  99%|█████████▉| 991/1000 [6:46:42<04:04, 27.21s/it]"
     ]
    },
    {
     "name": "stdout",
     "output_type": "stream",
     "text": [
      "Time to: Calculate Ground State - 1.24s, Get Pauli Ops - 15.2s, Calculate Pauli Expectation Values - 10.15s, Calculate Covariance - 3.39s\n",
      "f0,f1,f2 = [4.084669752481166e-10, 2.53262264208218e-10, 4.3109866367048365e-10]\n",
      "d01,d02,d12 = [0.9817434708487314, 1.0125674312481374, 0.9715918930303276]\n"
     ]
    },
    {
     "name": "stderr",
     "output_type": "stream",
     "text": [
      "Progress:  99%|█████████▉| 992/1000 [6:47:06<03:30, 26.32s/it]"
     ]
    },
    {
     "name": "stdout",
     "output_type": "stream",
     "text": [
      "Time to: Calculate Ground State - 1.34s, Get Pauli Ops - 13.93s, Calculate Pauli Expectation Values - 5.14s, Calculate Covariance - 3.84s\n",
      "f0,f1,f2 = [4.328358356523015e-10, 2.844892617671175e-10, 4.0713409975911444e-10]\n",
      "d01,d02,d12 = [0.9840181164868517, 1.0124572908229865, 0.9692109160112532]\n"
     ]
    },
    {
     "name": "stderr",
     "output_type": "stream",
     "text": [
      "Progress:  99%|█████████▉| 993/1000 [6:47:33<03:04, 26.31s/it]"
     ]
    },
    {
     "name": "stdout",
     "output_type": "stream",
     "text": [
      "Time to: Calculate Ground State - 1.31s, Get Pauli Ops - 14.83s, Calculate Pauli Expectation Values - 6.85s, Calculate Covariance - 3.27s\n",
      "f0,f1,f2 = [5.09127208480553e-10, 3.653542268970149e-10, 5.374934935801229e-10]\n",
      "d01,d02,d12 = [0.9862860011692892, 1.0121399262175337, 0.9669018395297821]\n"
     ]
    },
    {
     "name": "stderr",
     "output_type": "stream",
     "text": [
      "Progress:  99%|█████████▉| 994/1000 [6:47:57<02:34, 25.78s/it]"
     ]
    },
    {
     "name": "stdout",
     "output_type": "stream",
     "text": [
      "Time to: Calculate Ground State - 0.96s, Get Pauli Ops - 14.13s, Calculate Pauli Expectation Values - 5.59s, Calculate Covariance - 3.88s\n",
      "f0,f1,f2 = [4.726713708727058e-10, 3.509999559559771e-10, 4.6420927163663743e-10]\n",
      "d01,d02,d12 = [0.9884952757546794, 1.0116545992237316, 0.9647266615917679]\n"
     ]
    },
    {
     "name": "stderr",
     "output_type": "stream",
     "text": [
      "Progress: 100%|█████████▉| 995/1000 [6:48:20<02:05, 25.00s/it]"
     ]
    },
    {
     "name": "stdout",
     "output_type": "stream",
     "text": [
      "Time to: Calculate Ground State - 1.13s, Get Pauli Ops - 13.82s, Calculate Pauli Expectation Values - 5.29s, Calculate Covariance - 2.95s\n",
      "f0,f1,f2 = [5.526564193921225e-10, 4.4084541951500147e-10, 5.834909745203327e-10]\n",
      "d01,d02,d12 = [0.9907706093155851, 1.0109272634881976, 0.9626134234922268]\n"
     ]
    },
    {
     "name": "stderr",
     "output_type": "stream",
     "text": [
      "Progress: 100%|█████████▉| 996/1000 [6:48:46<01:40, 25.16s/it]"
     ]
    },
    {
     "name": "stdout",
     "output_type": "stream",
     "text": [
      "Time to: Calculate Ground State - 1.2s, Get Pauli Ops - 13.38s, Calculate Pauli Expectation Values - 7.53s, Calculate Covariance - 3.42s\n",
      "f0,f1,f2 = [4.585373665331172e-10, 3.705016717917242e-10, 4.1695090770743224e-10]\n",
      "d01,d02,d12 = [0.9930220404390601, 1.0100325478754146, 0.9606322514653548]\n"
     ]
    },
    {
     "name": "stderr",
     "output_type": "stream",
     "text": [
      "Progress: 100%|█████████▉| 997/1000 [6:49:09<01:13, 24.44s/it]"
     ]
    },
    {
     "name": "stdout",
     "output_type": "stream",
     "text": [
      "Time to: Calculate Ground State - 1.27s, Get Pauli Ops - 13.02s, Calculate Pauli Expectation Values - 5.46s, Calculate Covariance - 2.98s\n",
      "f0,f1,f2 = [6.35178440936981e-10, 5.875966077923609e-10, 5.4254244456749e-10]\n",
      "d01,d02,d12 = [0.9950642723228057, 1.0090928029847002, 0.9588791625491935]\n"
     ]
    },
    {
     "name": "stderr",
     "output_type": "stream",
     "text": [
      "Progress: 100%|█████████▉| 998/1000 [6:49:33<00:48, 24.47s/it]"
     ]
    },
    {
     "name": "stdout",
     "output_type": "stream",
     "text": [
      "Time to: Calculate Ground State - 0.96s, Get Pauli Ops - 13.71s, Calculate Pauli Expectation Values - 6.87s, Calculate Covariance - 2.99s\n",
      "f0,f1,f2 = [4.952901670144693e-10, 4.414924412745456e-10, 4.5463486022550163e-10]\n",
      "d01,d02,d12 = [0.9969777394844326, 1.0080433045326282, 0.9573276924269722]\n"
     ]
    },
    {
     "name": "stderr",
     "output_type": "stream",
     "text": [
      "Progress: 100%|█████████▉| 999/1000 [6:49:58<00:24, 24.64s/it]"
     ]
    },
    {
     "name": "stdout",
     "output_type": "stream",
     "text": [
      "Time to: Calculate Ground State - 1.34s, Get Pauli Ops - 13.95s, Calculate Pauli Expectation Values - 6.58s, Calculate Covariance - 3.16s\n",
      "f0,f1,f2 = [6.402403385586132e-10, 6.339671391337984e-10, 6.011582253282726e-10]\n",
      "d01,d02,d12 = [0.9986673418070015, 1.0069713103256843, 0.9560298583466206]\n"
     ]
    },
    {
     "name": "stderr",
     "output_type": "stream",
     "text": [
      "Progress: 100%|██████████| 1000/1000 [6:50:23<00:00, 24.62s/it]"
     ]
    },
    {
     "name": "stdout",
     "output_type": "stream",
     "text": [
      "Time to: Calculate Ground State - 1.65s, Get Pauli Ops - 13.81s, Calculate Pauli Expectation Values - 5.87s, Calculate Covariance - 3.09s\n",
      "f0,f1,f2 = [5.406587792972697e-10, 5.190390027360782e-10, 5.433515325435812e-10]\n",
      "d01,d02,d12 = [1.0003272004839365, 1.0057079265920965, 0.9549277202323305]\n"
     ]
    },
    {
     "name": "stderr",
     "output_type": "stream",
     "text": [
      "\n"
     ]
    },
    {
     "data": {
      "image/png": "[encoded data removed]",
      "text/plain": [
       "<Figure size 640x480 with 1 Axes>"
      ]
     },
     "metadata": {},
     "output_type": "display_data"
    }
   ],
   "source": [
    "from matplotlib import pyplot as plt\n",
    "(distance01,distance02,distance12,times) = main()\n",
    "\n",
    "np_distance01 = np.array(distance01)\n",
    "np_distance02 = np.array(distance02)\n",
    "np_distance12 = np.array(distance12)\n",
    "\n",
    "plt.plot(times,np_distance01[:-1],label = 'd01')\n",
    "plt.plot(times,np_distance02[:-1],label = 'd02')\n",
    "plt.plot(times,np_distance12[:-1],label = 'd12')\n",
    "\n",
    "plt.title('Distances at time t')\n",
    "plt.xlabel('Time')\n",
    "plt.ylabel('Distance')\n",
    "plt.legend()\n",
    "plt.show()"
   ]
  },
  {
   "cell_type": "code",
   "execution_count": null,
   "id": "885910be",
   "metadata": {},
   "outputs": [],
   "source": []
  }
 ],
 "metadata": {
  "kernelspec": {
   "display_name": "Python 3 (ipykernel)",
   "language": "python",
   "name": "python3"
  },
  "language_info": {
   "codemirror_mode": {
    "name": "ipython",
    "version": 3
   },
   "file_extension": ".py",
   "mimetype": "text/x-python",
   "name": "python",
   "nbconvert_exporter": "python",
   "pygments_lexer": "ipython3",
   "version": "3.9.15"
  }
 },
 "nbformat": 4,
 "nbformat_minor": 5
}
