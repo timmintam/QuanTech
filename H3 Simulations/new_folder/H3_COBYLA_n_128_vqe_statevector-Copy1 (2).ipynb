{
 "cells": [
  {
   "cell_type": "code",
   "execution_count": 1,
   "id": "fbc296ce",
   "metadata": {},
   "outputs": [],
   "source": [
    "import numpy as np\n",
    "import matplotlib.pyplot as plt\n",
    "\n",
    "from pyscf import ao2mo,gto, scf\n",
    "\n",
    "from typing import Tuple\n",
    "\n",
    "\n",
    "# qiskit\n",
    "from qiskit.algorithms import VQE\n",
    "from qiskit.algorithms.optimizers import COBYLA, SPSA, SLSQP, NELDER_MEAD\n",
    "from qiskit.algorithms import MinimumEigensolverResult\n",
    "\n",
    "from qiskit import IBMQ, BasicAer, Aer\n",
    "from qiskit.utils import QuantumInstance\n",
    "from qiskit.quantum_info.operators import Operator\n",
    "from qiskit.opflow import PauliExpectation, CircuitSampler, StateFn, CircuitStateFn\n",
    "from qiskit.opflow.primitive_ops import PauliOp, PauliSumOp\n",
    "from qiskit.quantum_info import Pauli, SparsePauliOp\n",
    "\n",
    "# qiskit nature\n",
    "from qiskit_nature.second_q.hamiltonians import ElectronicEnergy\n",
    "from qiskit_nature.second_q.mappers import ParityMapper, QubitConverter\n",
    "from qiskit_nature.second_q.problems import ElectronicStructureProblem\n",
    "from qiskit_nature.second_q.operators import FermionicOp\n",
    "from qiskit_nature.second_q.properties import ParticleNumber\n",
    "from qiskit_nature.second_q.transformers import FreezeCoreTransformer\n",
    "from qiskit_nature.second_q.circuit.library import UCCSD, HartreeFock\n",
    "from qiskit_nature.second_q.problems import ElectronicBasis\n",
    "from qiskit_nature.second_q.formats.molecule_info import MoleculeInfo\n",
    "from qiskit_nature.drivers import Molecule\n",
    "from qiskit_nature.drivers.second_quantization import (\n",
    "    ElectronicStructureMoleculeDriver, ElectronicStructureDriverType)\n",
    "\n",
    "from qiskit_nature.settings import settings\n",
    "settings.dict_aux_operators = True\n",
    "\n",
    "#from qiskit import IBMQ\n",
    "#from qiskit_nature.runtime import VQEClient\n",
    "#from qiskit.providers.ibmq import least_busy\n",
    "#from qiskit_ibm_runtime import QiskitRuntimeService, Estimator, Session\n",
    "\n",
    "# useful??\n",
    "#from qiskit_nature.algorithms import (GroundStateEigensolver,\n",
    "#                                      NumPyMinimumEigensolverFactory)\n",
    "from qiskit.circuit.library import EfficientSU2\n",
    "from qiskit.circuit.library import RealAmplitudes\n",
    "from qiskit.utils.mitigation import CompleteMeasFitter\n",
    "from qiskit.providers.aer.noise import NoiseModel\n",
    "from qiskit.providers.aer import QasmSimulator\n",
    "from qiskit import QuantumCircuit, transpile\n",
    "from qiskit.opflow import TwoQubitReduction\n",
    "\n",
    "def get_molecular_integrals(molecule):\n",
    "    '''\n",
    "    Calculates the 1-electron and 2-electron integrals.\n",
    "    \n",
    "    Args:   \n",
    "        molecule : Mole \n",
    "            Ccorresponds to the molecule.\n",
    "            \n",
    "    Returns:\n",
    "        h1_MO : ndarray\n",
    "                Tensor corresponding to the 1-electron integral in the molecular basis.\n",
    "        \n",
    "        h2_MO : ndarray\n",
    "                Tensor corresponding to the 2-electron integral in the molecular basis.\n",
    "\n",
    "        n_particles: Tuple[int, int]\n",
    "            Number of alpha and beta electrons.\n",
    "        \n",
    "        num_orb : int \n",
    "            Number of orbitals.\n",
    "\n",
    "        nuclear_repulsion_energy : float\n",
    "            Nuclear repulsion energy.\n",
    "    '''\n",
    "    \n",
    "    mf = scf.RHF(molecule).run()\n",
    "\n",
    "    # computing the 1e and 2e AO (atomic orbitals) integrals \n",
    "    h1 = molecule.intor_symmetric(\"int1e_nuc\") + molecule.intor_symmetric(\"int1e_kin\") \n",
    "    h2 = molecule.intor(\"int2e\")\n",
    "    # comment : add aosym (axis of symmetry) ???\n",
    "\n",
    "    # transformations from AO to MO (molecular orbitals)\n",
    "    h1_MO = np.einsum('pi,pq,qj->ij', mf.mo_coeff, h1, mf.mo_coeff)\n",
    "    h2_MO = ao2mo.get_mo_eri(h2, mf.mo_coeff)\n",
    "\n",
    "    #h2_MO = ao2mo.kernel(mol_h2, mf.mo_coeff, aosym=\"1\") #alternative\n",
    "\n",
    "    nuclear_repulsion_energy=molecule.energy_nuc()\n",
    "    num_particles = molecule.nelec\n",
    "    num_orb = h1.shape[0]\n",
    "\n",
    "    return h1_MO, h2_MO, num_particles, num_orb, nuclear_repulsion_energy\n",
    "\n",
    "\n",
    "def get_qubit_op(coordinates):\n",
    "    '''\n",
    "    Calculates the Hamiltonian as the sum of Pauli operators as a function\n",
    "    of the coordinates of the atoms.\n",
    "    \n",
    "    Args:\n",
    "        coordinates : ndarray\n",
    "            Array containing the positions of the atoms constituing the molecule.\n",
    "        \n",
    "    \n",
    "    Returns:\n",
    "        qubit_op : PauliSumOp\n",
    "            Sum of Pauli operators corresponding to the Hamiltonian.\n",
    "        \n",
    "        nelec : Tuple[int, int]\n",
    "            Number of alpha and beta electrons.\n",
    "        \n",
    "        norb : int \n",
    "            Number of orbitals.\n",
    "            \n",
    "        problem : ElectronicStructureProblem\n",
    "        \n",
    "        converter : QubitConverter\n",
    "    '''\n",
    "    \n",
    "    mol = gto.M(\n",
    "                atom = [['H',(coordinates[0], coordinates[1], 0.0)], \n",
    "                        ['H',(coordinates[2], coordinates[3], 0.0)],\n",
    "                        ['H',(coordinates[4], coordinates[5], 0.0)]],\n",
    "                basis = 'sto3g',\n",
    "                charge = 1,\n",
    "                spin = 0,\n",
    "                symmetry = True,\n",
    "                verbose = 2 # control the print level of PySCF globally\n",
    "    )\n",
    "\n",
    "    h1_MO,h2_MO,nelec,norb,ecore = get_molecular_integrals(mol)\n",
    "\n",
    "    # Define an ElectronicEnergy instance containing the 1e and 2e integrals\n",
    "    electronic_energy = ElectronicEnergy.from_raw_integrals(\n",
    "            h1_MO, ao2mo.restore(1, h2_MO, norb)\n",
    "        )\n",
    "    electronic_energy.nuclear_repulsion_energy = ecore\n",
    "\n",
    "    # Define an ElectronicStructureProblem\n",
    "    problem = ElectronicStructureProblem(electronic_energy)\n",
    "\n",
    "    second_q_ops = problem.second_q_ops()     # get second quantized operators\n",
    "    problem.num_spatial_orbitals = norb  # define number of orbitals\n",
    "    problem.num_particles = nelec        # define number of particles \n",
    "    \n",
    "    problem.basis = ElectronicBasis.MO \n",
    "    \n",
    "    problem.molecule=MoleculeInfo(symbols=[mol.atom_symbol(i) for i in range(mol.nbas)], \n",
    "                                  coords=mol.atom_coords())\n",
    "    FC_transformer=FreezeCoreTransformer(freeze_core=True)\n",
    "    problem = FC_transformer.transform(problem)\n",
    "    \n",
    "    # TODO we need to give info about the molecule to use FreezeCoreTransformer \n",
    "    # question : how to do it in a smart way ? at the initialization ??\n",
    "    \n",
    "    hamiltonian = second_q_ops[0]  # Set electronic part of Hamiltonian\n",
    "    hamiltonian = (hamiltonian + FermionicOp({\"\": ecore}, num_spin_orbitals=norb)) # add Nuclear Repulsion Energy\n",
    "    #print(\"Hamiltonian :\\n\", hamiltonian) # print for checking purposes\n",
    "    \n",
    "    mapper = ParityMapper()  # Set Mapper\n",
    "    \n",
    "    # Do two qubit reduction\n",
    "    converter = QubitConverter(mapper,two_qubit_reduction=True)\n",
    "    qubit_op = converter.convert(hamiltonian, nelec)\n",
    "    #print(\"q_op :\\n\", qubit_op) # print for checking purposes\n",
    "    \n",
    "\n",
    "    return qubit_op, nelec, norb, problem, converter\n",
    "\n",
    "def calc_ground_state(qubit_op,nelec,norb,problem,converter) :\n",
    "    '''\n",
    "    Calculates the ground state and the ground energy of the Hamiltonian.\n",
    "    \n",
    "    Args:\n",
    "        qubit_op : PauliSumOp\n",
    "            Sum of Pauli operators corresponding to the Hamiltonian.\n",
    "        \n",
    "        nelec : Tuple[int, int]\n",
    "            Number of alpha and beta electrons.\n",
    "        \n",
    "        norb : int \n",
    "            Number of orbitals.\n",
    "            \n",
    "        problem : ElectronicStructureProblem\n",
    "        \n",
    "        converter : QubitConverter\n",
    "        \n",
    "    \n",
    "    Returns:\n",
    "        ground_state : CircuitStateFn\n",
    "            Ground state of the Hamiltonian.\n",
    "            \n",
    "        min_eng : float\n",
    "            Ground energy of the Hamiltonian.\n",
    "    '''\n",
    "\n",
    "    backend = BasicAer.get_backend(\"statevector_simulator\")\n",
    "    quantum_instance = QuantumInstance(backend)\n",
    "    optimizer = SLSQP(maxiter=400)\n",
    "\n",
    "    init_state = HartreeFock(num_spatial_orbitals=norb, \n",
    "                                num_particles=nelec, \n",
    "                                qubit_converter=converter\n",
    "                            )\n",
    "    \n",
    "    var_form = UCCSD(qubit_converter=converter,\n",
    "                        num_particles=nelec,\n",
    "                        num_spatial_orbitals=norb, \n",
    "                        initial_state=init_state\n",
    "                        )\n",
    "\n",
    "    vqe = VQE(var_form, optimizer, quantum_instance=quantum_instance) \n",
    "    vqe_result = vqe.compute_minimum_eigenvalue(qubit_op)\n",
    "    min_eng = vqe_result.eigenvalue.real\n",
    "    final_params = vqe_result.optimal_parameters \n",
    "\n",
    "    vqe_ground = vqe.ansatz.bind_parameters(final_params) \n",
    "#     vqe_ground_state = CircuitStateFn(vqe_ground)\n",
    "    \n",
    "    return vqe_ground, min_eng"
   ]
  },
  {
   "cell_type": "code",
   "execution_count": 2,
   "id": "3f5daa79",
   "metadata": {},
   "outputs": [],
   "source": [
    "Ha = 4.36e-18\n",
    "angst = 1.0e-10\n",
    "dR = 0.01 #removed the angst, since coordinates are given in angst\n",
    "\n",
    "\n",
    "from qiskit.opflow import I, X, Y, Z\n",
    "from qiskit.opflow.primitive_ops import PauliOp\n",
    "from qiskit.quantum_info import Pauli\n",
    "#from hamiltonian import calc_ground_state, get_qubit_op\n",
    "import numpy as np\n",
    "from qiskit.utils import QuantumInstance\n",
    "from qiskit.opflow import PauliExpectation, CircuitSampler, StateFn, CircuitStateFn\n",
    "from qiskit import IBMQ, BasicAer, Aer\n",
    "\n",
    "import time #to see which part of code takes the longest\n",
    "import multiprocessing\n",
    "\n",
    "\n",
    "#calculate centre of mass (currently for equal particle masses)\n",
    "def calc_COM(coordinates):\n",
    "    #print(coordinates)\n",
    "    r_array = np.array_split(coordinates,3)\n",
    "    COM = (r_array[0] + r_array[1] + r_array[2])/3\n",
    "    \n",
    "    return COM\n",
    "\n",
    "#task to calculate expectation value\n",
    "def task1(string, q_instance, psi_0):\n",
    "\n",
    "    Obs = PauliOp(Pauli(string))\n",
    "    measurable_expression = StateFn(Obs, is_measurement=True).compose(psi_0)\n",
    "    expectation = PauliExpectation().convert(measurable_expression)  \n",
    "    sampler = CircuitSampler(q_instance).convert(expectation) \n",
    "    E = sampler.eval().real\n",
    "        \n",
    "    return E\n",
    "\n",
    "#task to calculate operator from coordinates\n",
    "def task2(coordinates):\n",
    "    \n",
    "    #get qubit operators coresponding to H+ (hamiltonian for atomic distances R + dR)\n",
    "    (qubit_op_plus, num_part_plus, num_orb_plus, problem_plus, converter_plus) = get_qubit_op(coordinates[0])\n",
    "    #get qubit operators coresponding to H- (hamiltonian for atomic distances R - dR)\n",
    "    (qubit_op_minus, num_part_minus, num_orb_minus, problem_minus, converter_minus) = get_qubit_op(coordinates[1])\n",
    "        \n",
    "    qubit_op_plus = qubit_op_plus #TODO:number of I's needs to be changed according to number of qubits\n",
    "    qubit_op_minus = qubit_op_minus\n",
    "       \n",
    "    #op =  (-(qubit_op_plus - qubit_op_minus)).reduce()\n",
    "    op =  -(qubit_op_plus - qubit_op_minus)\n",
    "\n",
    "                    \n",
    "    op_list = op.primitive.to_list() #list containing Pauli operators in support and corresponding coeffs\n",
    "    #print(op_list)    \n",
    "    #construct dict from list\n",
    "    op_dict = {}\n",
    "    for (PauliString,coeff) in op_list:\n",
    "\n",
    "        if PauliString in op_dict:\n",
    "            op_dict[PauliString] += coeff\n",
    "        else:\n",
    "            op_dict[PauliString] = coeff\n",
    "    \n",
    "    return op, op_dict\n",
    " \n",
    "def parallel_operators(coordinates,basis_set):\n",
    "    \n",
    "    \n",
    "    coordinate_list = []\n",
    "    \n",
    "    v0_normed = basis_set[0]\n",
    "    v0_orth = basis_set[1]\n",
    "    \n",
    "    v1_normed = basis_set[2]\n",
    "    v1_orth = basis_set[3]\n",
    "\n",
    "    v2_normed = basis_set[4]\n",
    "    v2_orth = basis_set[5]\n",
    "    \n",
    "    displ_coords_0_a = np.array([v0_normed[0]*dR,v0_normed[1]*dR,0,0,0,0])\n",
    "    displ_coords_0_b = np.array([v0_orth[0]*dR,v0_orth[1]*dR,0,0,0,0])\n",
    "    displ_coords_1_a = np.array([0,0,v1_normed[0]*dR,v1_normed[1]*dR,0,0])\n",
    "    displ_coords_1_b = np.array([0,0,v1_orth[0]*dR,v1_orth[1]*dR,0,0])\n",
    "    displ_coords_2_a = np.array([0,0,0,0,v2_normed[0]*dR,v2_normed[1]*dR])\n",
    "    displ_coords_2_b = np.array([0,0,0,0,v2_orth[0]*dR,v2_orth[1]*dR])\n",
    "    #print(displ_coords_0_a)\n",
    "    #print(displ_coords_0_b)\n",
    "    #print(displ_coords_1_a)\n",
    "    #print(displ_coords_1_b)\n",
    "    #print(displ_coords_2_a)\n",
    "    #print(displ_coords_2_b)\n",
    "\n",
    "    coordinate_list.append([coordinates + displ_coords_0_a,coordinates - displ_coords_0_a])\n",
    "    coordinate_list.append([coordinates + displ_coords_0_b,coordinates - displ_coords_0_b])\n",
    "    coordinate_list.append([coordinates + displ_coords_1_a,coordinates - displ_coords_1_a])\n",
    "    coordinate_list.append([coordinates + displ_coords_1_b,coordinates - displ_coords_1_b])\n",
    "    coordinate_list.append([coordinates + displ_coords_2_a,coordinates - displ_coords_2_a])\n",
    "    coordinate_list.append([coordinates + displ_coords_2_b,coordinates - displ_coords_2_b])\n",
    "    \n",
    "    #dR_list = v0_normed.tolist() + v1_normed.tolist() + v2_normed.tolist()\n",
    "    \n",
    "    dR_list = [dR,dR,dR,dR,dR,dR]\n",
    "    #print(dR_list)\n",
    "    #for i in range(len(coordinates)):\n",
    "        \n",
    "        #coordinate_list.append([coordinates[0:i]+[(coordinates[i]+dR_list[i])]+coordinates[i+1:],coordinates[0:i]+[(coordinates[i]-dR_list[i])]+coordinates[i+1:]])\n",
    "    \n",
    "    #print(coordinate_list)\n",
    "    with multiprocessing.Pool() as pool:\n",
    "         ops,op_coeffs = zip(*pool.map(task2, coordinate_list))\n",
    "    \n",
    "    #print(ops)\n",
    "    return ops, op_coeffs\n",
    "\n",
    "def sequential_operators(coordinates):\n",
    "    ops = []\n",
    "    op_coeffs = []\n",
    "    \n",
    "    for i in range(len(coordinates)):\n",
    "        \n",
    "        #get qubit operators coresponding to H+ (hamiltonian for atomic distances R + dR)\n",
    "        (qubit_op_plus, num_part_plus, num_orb_plus, problem_plus, converter_plus) = get_qubit_op(coordinates[0:i]+[(coordinates[i]+dR)]+coordinates[i+1:])\n",
    "        #get qubit operators coresponding to H- (hamiltonian for atomic distances R - dR)\n",
    "        (qubit_op_minus, num_part_minus, num_orb_minus, problem_minus, converter_minus) = get_qubit_op(coordinates[0:i]+[(coordinates[i]-dR)]+coordinates[i+1:])\n",
    "\n",
    "        rep_eng_plus = problem_plus.grouped_property_transformed.get_property(\"ElectronicEnergy\").nuclear_repulsion_energy\n",
    "        rep_eng_minus  = problem_minus.grouped_property_transformed.get_property(\"ElectronicEnergy\").nuclear_repulsion_energy\n",
    "        \n",
    "        qubit_op_plus = qubit_op_plus + rep_eng_plus*(I^I^I^I) #TODO:number of I's needs to be changed according to number of qubits\n",
    "        qubit_op_minus = qubit_op_minus + rep_eng_minus*(I^I^I^I)\n",
    "        \n",
    "       \n",
    "        op =  -(qubit_op_plus - qubit_op_minus).reduce()\n",
    "                    \n",
    "        op_list = op.primitive.to_list() #list containing Pauli operators in support and corresponding coeffs\n",
    "        \n",
    "        #construct dict from list\n",
    "        op_dict = {}\n",
    "        for (PauliString,coeff) in op_list:\n",
    "\n",
    "            if PauliString in op_dict:\n",
    "                op_dict[PauliString] += coeff\n",
    "            else:\n",
    "                op_dict[PauliString] = coeff\n",
    "                \n",
    "        ops.append(op)\n",
    "        op_coeffs.append(op_dict)\n",
    "    #print(ops)\n",
    "    return ops, op_coeffs\n",
    "\n",
    "def parallel_expectations(exp_dict, op_set, q_instance, psi_0):\n",
    "\n",
    "    triples = []\n",
    "    for op in op_set:\n",
    "        triple = (op,q_instance,psi_0)\n",
    "        triples.append(triple)\n",
    "\n",
    "    Es = 0\n",
    "    with multiprocessing.Pool() as pool:\n",
    "        Es = pool.starmap(task1, triples)\n",
    "\n",
    "    for i in range(len(Es)):\n",
    "        exp_dict[triples[i][0]]=Es[i]\n",
    "\n",
    "    return 0\n",
    "\n",
    "def sequential_expectations(exp_dict, op_set, q_instance, psi_0):\n",
    "\n",
    "    for pauli_string in op_set:\n",
    "        \n",
    "        Obs = PauliOp(Pauli(pauli_string))\n",
    "        measurable_expression = StateFn(Obs, is_measurement=True).compose(psi_0)\n",
    "        expectation = PauliExpectation().convert(measurable_expression)  \n",
    "        sampler = CircuitSampler(q_instance).convert(expectation) \n",
    "        E = sampler.eval().real\n",
    "        exp_dict[pauli_string] = E\n",
    "\n",
    "    return 0\n",
    "\n",
    "def get_psi_0(coordinates, simulator='qasm',shots=1028):\n",
    "\n",
    "    #get qubit operator corresponding to H(R)\n",
    "    (qubit_op, num_part, num_orb, problem, converter) = get_qubit_op(coordinates)\n",
    "    \n",
    "    #get the ground state of H(R)\n",
    "    psi_0,_ = calc_ground_state(qubit_op,num_part, num_orb, problem, converter)\n",
    "    \n",
    "    psi_0 = CircuitStateFn(psi_0)\n",
    "\n",
    "    return psi_0\n",
    "\n",
    "def calc_force_and_cov(coordinates, simulator = 'qasm', PauliSet = None, mode = 'full', shots = 128, basis_set_this=None):\n",
    "  \n",
    "    \n",
    "    if simulator == 'qasm':\n",
    "            backend = Aer.get_backend('qasm_simulator')\n",
    "            #backend.set_options(max_job_size=1, executor = euler_client)\n",
    "            q_instance = QuantumInstance(backend, shots=shots)\n",
    "    elif simulator == \"exact\":\n",
    "            backend = BasicAer.get_backend(\"statevector_simulator\")\n",
    "            q_instance = QuantumInstance(backend)\n",
    "    else:\n",
    "        print('Error: simulator should be qasm or exact!')\n",
    "        \n",
    "    num_coord = len(coordinates)   \n",
    "    \n",
    "    start = time.time()\n",
    "    \n",
    "\n",
    "    psi_0 = get_psi_0(coordinates, simulator = simulator, shots=shots)\n",
    "    \n",
    "    end = time.time()\n",
    "    \n",
    "    \n",
    "    time_psi_0 = end - start\n",
    "    #print(\"Took \" + str(time_psi_0) + \" s to calculate the ground state\")\n",
    "    forces = np.zeros(num_coord)\n",
    "    coordinates = coordinates.tolist()\n",
    "    \n",
    "    \n",
    "    coordinates_this = np.array(coordinates)\n",
    "    COM = calc_COM(coordinates_this)\n",
    "    coords = np.array_split(coordinates_this,3)\n",
    "    #print(coords)\n",
    "    #print(COM)\n",
    "    v0 = coords[0] - COM\n",
    "    v1 = coords[1] - COM\n",
    "    v2 = coords[2] - COM\n",
    "    \n",
    "    v0_normed = np.array(v0/np.sqrt(v0[0]**2+v0[1]**2))\n",
    "    v0_orth = np.array([v0_normed[1],-v0_normed[0]])\n",
    "    \n",
    "    v1_normed = np.array(v1/np.sqrt(v1[0]**2+v1[1]**2))\n",
    "    v1_orth = np.array([v1_normed[1],-v1_normed[0]])\n",
    "\n",
    "    v2_normed = np.array(v2/np.sqrt(v2[0]**2+v2[1]**2))\n",
    "    v2_orth = np.array([v2_normed[1],-v2_normed[0]])\n",
    "    \n",
    "    #rotated basis\n",
    "    if basis_set_this == \"rotated\":\n",
    "        basis_set = [v0_normed,v0_orth,v1_normed,v1_orth,v2_normed,v2_orth]\n",
    "    #cartesian basis\n",
    "    elif basis_set_this == \"cartesian\":\n",
    "        basis_set = [[1,0],[0,1],[1,0],[0,1],[1,0],[0,1]]\n",
    "    \n",
    "    #basis_set = basis_set_this\n",
    "\n",
    "    transform_matrix = np.array([[basis_set[0][0],basis_set[1][0],0,0,0,0],\n",
    "                                 [basis_set[0][1],basis_set[1][1],0,0,0,0],\n",
    "                                 [0,0,basis_set[2][0],basis_set[3][0],0,0],\n",
    "                                 [0,0,basis_set[2][1],basis_set[3][1],0,0],\n",
    "                                 [0,0,0,0,basis_set[4][0],basis_set[5][0]],\n",
    "                                 [0,0,0,0,basis_set[4][1],basis_set[5][1]]])\n",
    "    \n",
    "    transform_matrix_inv = np.linalg.inv(transform_matrix)\n",
    "    \n",
    "    start = time.time()\n",
    "    #get force component operators and decomposition (without the 1/(2*dR) factor, for numerical reasons)\n",
    "    #replace parallel_ with sequential_ to see effect of parallelization\n",
    "    force_ops,force_op_coeffs = parallel_operators(coordinates,basis_set)\n",
    "    \n",
    "    #for ops in force_ops:\n",
    "        #print(len(ops))\n",
    "        \n",
    "    P1 = force_ops[0]\n",
    "    \n",
    "    if PauliSet == None:\n",
    "        \n",
    "        pauli_op_set = {'IIII'} #Could not initialize empty set for some reason\n",
    "        # construct set of PauliOp products that we need to calculate\n",
    "\n",
    "        for PauliString,coeff in force_op_coeffs[0].items():\n",
    "            pauli_op_set.add(PauliString)\n",
    "\n",
    "        #to get set of necessary PauliOp products:\n",
    "        \n",
    "            P_prod = (P1@P1)\n",
    "            P_list = P_prod.primitive.to_list()\n",
    "\n",
    "            for (PauliString,coeff) in P_list:\n",
    "                pauli_op_set.add(PauliString)\n",
    "                \n",
    "    else: pauli_op_set = PauliSet\n",
    "        \n",
    "    end = time.time()\n",
    "    \n",
    "    time_pauli_ops = end - start\n",
    "        \n",
    "\n",
    "        # Now we calculate the expectation values of all the relevant PauliOps\n",
    "    \n",
    "    start = time.time()\n",
    "    exp_dict = {} # dictionary with relevant expectation values\n",
    "        \n",
    "    #switch between parallel_ and sequential_ to see the effect\n",
    "    \n",
    "    parallel_expectations(exp_dict,pauli_op_set,q_instance,psi_0)\n",
    "    \n",
    "\n",
    "    for i in range(len(coordinates)):\n",
    "        for pauli_op,coeff in force_op_coeffs[i].items():\n",
    "            forces[i] += coeff.real*exp_dict[pauli_op]\n",
    "    \n",
    "    #forces[1] = 0\n",
    "    #forces[3] = 0\n",
    "    #forces[5] = 0\n",
    "    \n",
    "    if basis_set_this == \"rotated\":\n",
    "        forces_return = np.matmul(transform_matrix,np.array(forces))\n",
    "    elif basis_set_this == \"cartesian\":\n",
    "        forces_return = forces\n",
    "        \n",
    "    #print(forces)\n",
    "            \n",
    "    end = time.time()   \n",
    "    time_calc_exp = end - start\n",
    "    \n",
    "    \n",
    "    start = time.time()\n",
    "    COV = np.zeros((num_coord,num_coord)) #force covariance matrix, without some multiplicative factors. \n",
    "        \n",
    "    for i in range(num_coord):\n",
    "        for j in range(i,num_coord):\n",
    "\n",
    "            Pij = force_ops[i]@force_ops[j]\n",
    "            Pij_list = Pij.primitive.to_list()\n",
    "\n",
    "            #add product expectation \n",
    "            for (pauli_string,coeff) in Pij_list:\n",
    "                COV[i,j] += coeff.real*exp_dict[pauli_string]\n",
    "                    #subtract \n",
    "            COV[i,j] -= forces[i]*forces[j]\n",
    "\n",
    "            #since COV is symmetric\n",
    "            #if (i,j) != (0,0) and (i,j) != (2,2) and (i,j) != (4,4) and (i,j) != (0,2) and (i,j) != (0,4) and (i,j) != (2,0) and (i,j) != (2,4) and (i,j) != (4,0) and (i,j) != (4,2):\n",
    "                #print(\"here\")\n",
    "                #print((i,j))\n",
    "             #   COV[i,j] = 0\n",
    "            \n",
    "            if i < j:\n",
    "                COV[j,i] = COV[i,j]\n",
    "            \n",
    "            \n",
    "                \n",
    "    #print(COV)            \n",
    "    end = time.time()\n",
    "    \n",
    "    if basis_set_this == \"rotated\":\n",
    "        COV_1 = np.matmul(COV,transform_matrix)\n",
    "        COV_2 = np.matmul(transform_matrix_inv,COV_1)\n",
    "        COV_return = COV_2\n",
    "    elif basis_set_this == \"cartesian\":    \n",
    "        COV_return = COV\n",
    "        \n",
    "    time_cov = end - start\n",
    "\n",
    "    print(f'Time to: Calculate Ground State - {round(time_psi_0,2)}s, Get Pauli Ops - {round(time_pauli_ops,2)}s, Calculate Pauli Expectation Values - {round(time_calc_exp,2)}s, Calculate Covariance - {round(time_cov,2)}s')\n",
    "    #print(COV)\n",
    "    \n",
    "    return forces_return*Ha*(1/(2*dR*angst)),COV_return*(Ha*(1/(2*dR*angst)))**2"
   ]
  },
  {
   "cell_type": "code",
   "execution_count": 3,
   "id": "5ae5fde0",
   "metadata": {},
   "outputs": [],
   "source": [
    "#from Quantech.verlet_integrator import distance\n",
    "#from force import calc_force_and_cov\n",
    "import numpy as np\n",
    "from tqdm import tqdm #to show progress\n",
    "\n",
    "\n",
    "#implementation of the explicit Euler integrator\n",
    "femto = 1.0e-15\n",
    "angst = 1.0e-10\n",
    "\n",
    "def calc_COM(coordinates):\n",
    "    #print(coordinates)\n",
    "    r_array = np.array_split(coordinates,3)\n",
    "    COM = (r_array[0] + r_array[1] + r_array[2])/3\n",
    "    \n",
    "    return COM\n",
    "\n",
    "def distance(coordinates1,coordinates2):\n",
    "    return np.sqrt(np.power((coordinates1[0] - coordinates2[0]),2) + np.power((coordinates1[1] - coordinates2[1]),2))\n",
    "    \n",
    "\n",
    "\n",
    "def main():\n",
    "    \n",
    "    f = open(\"h3_rotated_basis_n_256000_raw_looong.txt\",\"w\")\n",
    "    \n",
    "    #mass of particle1 (H)\n",
    "    mass_0 = 1.67e-27\n",
    "    #mass of particle2 (H)\n",
    "    mass_1 = 1.67e-27\n",
    "    #mass of particle3 (H)\n",
    "    mass_2 = 1.67e-27\n",
    "    #time step of integrator\n",
    "    dt = 0.2*femto\n",
    "    #initial velocity of atoms\n",
    "    \n",
    "    v_init_0 = np.array([0,0])\n",
    "    v_init_1 = np.array([0,0])\n",
    "    v_init_2 = np.array([0,0])\n",
    "\n",
    "    v_init = np.concatenate((v_init_0,v_init_1,v_init_2),axis=None)\n",
    "\n",
    "    #distances between atoms\n",
    "    d = 0.8\n",
    "    #rotation angle of the initial triangle\n",
    "    b = 0/180*np.pi\n",
    "    \n",
    "    #initial positions of atoms, arrangement = equilateral triangle\n",
    "    x1_init = np.array([-d/2*np.cos(b)+np.sin(b)*np.sqrt(3)/6*d,-d/2*np.sin(b)-np.cos(b)*np.sqrt(3)/6*d])+np.array([0,d*np.sqrt(3)/6])\n",
    "    x2_init = np.array([d/2*np.cos(b)+np.sin(b)*np.sqrt(3)/6*d,d/2*np.sin(b)-np.cos(b)*np.sqrt(3)/6*d])+np.array([0,d*np.sqrt(3)/6])\n",
    "    x3_init = np.array([-np.sin(b)*np.sqrt(3)/3*d,np.cos(b)*np.sqrt(3)/3*d])+np.array([0,d*np.sqrt(3)/6])\n",
    "    \n",
    "    \n",
    "    init_pos0 = x1_init\n",
    "    init_pos1 = x2_init\n",
    "    init_pos2 = x3_init\n",
    "    \n",
    "    #print(distance(init_pos0,init_pos1))\n",
    "    #print(distance(init_pos0,init_pos2))\n",
    "    #print(distance(init_pos1,init_pos2))\n",
    "    \n",
    "    init_pos = np.concatenate((init_pos0,init_pos1,init_pos2),axis=None)\n",
    "\n",
    "    #integrator timesteps\n",
    "    timeB = 0\n",
    "    timeE = 200\n",
    "    times = np.arange(timeB*femto, timeE*femto, dt)\n",
    "    #print(times)\n",
    "    #coordinate array\n",
    "    coords = [init_pos]\n",
    "    force = []\n",
    "    distance01 = [d]\n",
    "    distance02 = [d]\n",
    "    distance12 = [d]\n",
    "    #temperature in ?? \n",
    "    #k_B*T in Joule\n",
    "    k_b = 1.38065e-23\n",
    "    T = 420\n",
    "    k_T = k_b*T\n",
    "        #delta factor\n",
    "    delta = 0.05*dt\n",
    "    #hold v_next\n",
    "    v_next = None\n",
    "    \n",
    "    simulator = 'qasm'\n",
    "    COM = calc_COM(init_pos)\n",
    "    coords_loc = np.array_split(init_pos,3)\n",
    "    forces_array = []\n",
    "    velocities_array = []\n",
    "    velocities_array.append(v_init.tolist())\n",
    "    coords_array = []\n",
    "    coords_array.append(init_pos.tolist())\n",
    "    \n",
    "    #print(coords)\n",
    "    #print(COM)\n",
    "    #v0 = coords_loc[0] - COM\n",
    "    #v1 = coords_loc[1] - COM\n",
    "    #v2 = coords_loc[2] - COM\n",
    "    \n",
    "    #v0_normed = np.array(v0/np.sqrt(v0[0]**2+v0[1]**2))\n",
    "    #v0_orth = np.array([v0_normed[1],-v0_normed[0]])\n",
    "    \n",
    "    #v1_normed = np.array(v1/np.sqrt(v1[0]**2+v1[1]**2))\n",
    "    #v1_orth = np.array([v1_normed[1],-v1_normed[0]])\n",
    "\n",
    "    #v2_normed = np.array(v2/np.sqrt(v2[0]**2+v2[1]**2))\n",
    "    #v2_orth = np.array([v2_normed[1],-v2_normed[0]])\n",
    "    \n",
    "    #basis_set = [v0_normed,v0_orth,v1_normed,v1_orth,v2_normed,v2_orth]\n",
    "    \n",
    "    #\"cartesian\" or \"rotated\"\n",
    "    \n",
    "    basis_set = \"rotated\"\n",
    "    \n",
    "    for time in tqdm(times, desc='Progress: '):\n",
    "        \n",
    "        r = coords[-1]\n",
    "        #print(r)\n",
    "        \n",
    "        (forces,COV) = calc_force_and_cov(r, simulator = simulator, shots = 256000, basis_set_this=basis_set)\n",
    "        \n",
    "        forces_array.append(forces.tolist())\n",
    "        \n",
    "        #print(COV)\n",
    "        \n",
    "        #COV = np.zeros((6,6))\n",
    "        \n",
    "        #angle1 = np.arctan(forces[1]/forces[0])/np.pi * 180\n",
    "        #print(angle1)\n",
    "        #print(\"f1 = \" + str([forces[2],forces[3]]))\n",
    "        #print(\"f2 = \" + str([forces[4],forces[5]]))\n",
    "        \n",
    "        f1 = distance(np.array([forces[0],forces[1]]),np.array([0,0]))\n",
    "        \n",
    "        f2 = distance(np.array([forces[2],forces[3]]),np.array([0,0]))\n",
    "        \n",
    "        f3 = distance(np.array([forces[4],forces[5]]),np.array([0,0]))    \n",
    "        \n",
    "        print(\"f0,f1,f2 = \" + str([f1,f2,f3]))\n",
    "        \n",
    "        #print(forces)\n",
    "        #print(COV)\n",
    "        \n",
    "        if time == 0:\n",
    "\n",
    "            v_next = v_init - delta/(2*k_T*np.power(mass_0*mass_1*mass_2,1/3))*np.matmul(COV,v_init)*dt + dt*forces/mass_0\n",
    "            \n",
    "            r_next = (r*angst + dt*v_next)/angst\n",
    "\n",
    "            #r_split = np.array_split(r_next,3)\n",
    "\n",
    "            coords.append(r_next)\n",
    "\n",
    "        else:\n",
    "\n",
    "            v_next += - delta/(2*k_T*np.power(mass_0*mass_1*mass_2,1/3))*np.matmul(COV,v_next)*dt + dt*forces/mass_0\n",
    "            \n",
    "            r_next = (r*angst + dt*v_next)/angst\n",
    "\n",
    "            #r_split = np.array_split(r_next,3)\n",
    "            \n",
    "            coords.append(r_next)\n",
    "        velocities_array.append(v_next.tolist())  \n",
    "        coords_array.append(coords[-1].tolist())\n",
    "        \n",
    "        r = np.array_split(coords[-1],3)\n",
    "        d01 = distance(r[0],r[1])\n",
    "        d02 = distance(r[0],r[2])\n",
    "        d12 = distance(r[1],r[2])\n",
    "        print(\"d01,d02,d12 = \" + str([d01,d02,d12]))\n",
    "        \n",
    "        dists = np.split(coords[-1],3)\n",
    "        d01 = distance(dists[0],dists[1])\n",
    "        distance01.append(d01)\n",
    "        d02 = distance(dists[0],dists[2])\n",
    "        distance02.append(d02)\n",
    "        d12 = distance(dists[1],dists[2])\n",
    "        distance12.append(d12)\n",
    "    timess = times.tolist()\n",
    "    timess.append(timeE*femto)\n",
    "    f.write('times \\n')\n",
    "    f.write(str(timess) + \"\\n\")\n",
    "    f.write(\"coordinates \\n\")\n",
    "    f.write(str(coords_array) + \"\\n\")\n",
    "    f.write(\"velocities \\n\")\n",
    "    f.write(str(velocities_array) + \"\\n\")\n",
    "    f.write(\"forces \\n\")\n",
    "    f.write(str(forces_array) + \"\\n\")\n",
    "    return (distance01,distance02,distance12,times) "
   ]
  },
  {
   "cell_type": "code",
   "execution_count": 4,
   "id": "be5bb22e",
   "metadata": {
    "scrolled": false
   },
   "outputs": [
    {
     "name": "stderr",
     "output_type": "stream",
     "text": [
      "Progress:   0%|          | 1/1000 [00:13<3:53:01, 14.00s/it]"
     ]
    },
    {
     "name": "stdout",
     "output_type": "stream",
     "text": [
      "Time to: Calculate Ground State - 1.65s, Get Pauli Ops - 4.73s, Calculate Pauli Expectation Values - 5.66s, Calculate Covariance - 1.68s\n",
      "f0,f1,f2 = [1.1778662713358629e-08, 1.1778662713362417e-08, 1.1778662713353177e-08]\n",
      "d01,d02,d12 = [0.8048865250933541, 0.8048865250933535, 0.8048865250933548]\n"
     ]
    },
    {
     "name": "stderr",
     "output_type": "stream",
     "text": [
      "Progress:   0%|          | 2/1000 [00:30<4:18:40, 15.55s/it]"
     ]
    },
    {
     "name": "stdout",
     "output_type": "stream",
     "text": [
      "Time to: Calculate Ground State - 1.05s, Get Pauli Ops - 7.3s, Calculate Pauli Expectation Values - 6.35s, Calculate Covariance - 1.94s\n",
      "f0,f1,f2 = [1.1688249681161483e-08, 1.1688249681163809e-08, 1.1688249681164046e-08]\n",
      "d01,d02,d12 = [0.8146711487620937, 0.8146711487620935, 0.8146711487620975]\n"
     ]
    },
    {
     "name": "stderr",
     "output_type": "stream",
     "text": [
      "Progress:   0%|          | 3/1000 [00:44<4:03:33, 14.66s/it]"
     ]
    },
    {
     "name": "stdout",
     "output_type": "stream",
     "text": [
      "Time to: Calculate Ground State - 0.97s, Get Pauli Ops - 4.56s, Calculate Pauli Expectation Values - 6.22s, Calculate Covariance - 1.83s\n",
      "f0,f1,f2 = [1.12926700210783e-08, 1.1292670021080641e-08, 1.1292670021081217e-08]\n",
      "d01,d02,d12 = [0.8289893313622083, 0.8289893313622092, 0.8289893313622134]\n"
     ]
    },
    {
     "name": "stderr",
     "output_type": "stream",
     "text": [
      "Progress:   0%|          | 4/1000 [00:58<3:57:45, 14.32s/it]"
     ]
    },
    {
     "name": "stdout",
     "output_type": "stream",
     "text": [
      "Time to: Calculate Ground State - 1.18s, Get Pauli Ops - 4.86s, Calculate Pauli Expectation Values - 5.83s, Calculate Covariance - 1.93s\n",
      "f0,f1,f2 = [9.506437854774878e-09, 9.506437854774818e-09, 9.506437854773412e-09]\n",
      "d01,d02,d12 = [0.8465610382809887, 0.846561038280991, 0.8465610382809924]\n"
     ]
    },
    {
     "name": "stderr",
     "output_type": "stream",
     "text": [
      "/cluster/home/mskrabulis/miniconda3/envs/quantech/lib/python3.9/site-packages/pyscf/symm/Dmatrix.py:156: RuntimeWarning: invalid value encountered in arccos\n",
      "  gamma = numpy.arccos(yp.dot(c2[1]))\n",
      "Progress:   0%|          | 5/1000 [01:13<4:06:36, 14.87s/it]"
     ]
    },
    {
     "name": "stdout",
     "output_type": "stream",
     "text": [
      "Time to: Calculate Ground State - 0.77s, Get Pauli Ops - 6.99s, Calculate Pauli Expectation Values - 6.03s, Calculate Covariance - 2.05s\n",
      "f0,f1,f2 = [7.937584311302142e-09, 7.93758431131764e-09, 7.937584311309507e-09]\n",
      "d01,d02,d12 = [0.8669581337537936, 0.8669581337538043, 0.8669581337538004]\n"
     ]
    },
    {
     "name": "stderr",
     "output_type": "stream",
     "text": [
      "Progress:   1%|          | 6/1000 [01:27<3:57:38, 14.34s/it]"
     ]
    },
    {
     "name": "stdout",
     "output_type": "stream",
     "text": [
      "Time to: Calculate Ground State - 0.77s, Get Pauli Ops - 4.22s, Calculate Pauli Expectation Values - 6.27s, Calculate Covariance - 2.05s\n",
      "f0,f1,f2 = [5.995500394398373e-09, 5.9955003944065476e-09, 5.995500394400616e-09]\n",
      "d01,d02,d12 = [0.8932940974982986, 0.89329409749832, 0.893294097498306]\n"
     ]
    },
    {
     "name": "stderr",
     "output_type": "stream",
     "text": [
      "Progress:   1%|          | 7/1000 [01:41<3:55:27, 14.23s/it]"
     ]
    },
    {
     "name": "stdout",
     "output_type": "stream",
     "text": [
      "Time to: Calculate Ground State - 1.01s, Get Pauli Ops - 4.69s, Calculate Pauli Expectation Values - 6.0s, Calculate Covariance - 2.28s\n",
      "f0,f1,f2 = [5.430849457998783e-09, 5.430849458001141e-09, 5.430849457984531e-09]\n",
      "d01,d02,d12 = [0.9212897380162632, 0.921289738016275, 0.9212897380162736]\n"
     ]
    },
    {
     "name": "stderr",
     "output_type": "stream",
     "text": [
      "Progress:   1%|          | 8/1000 [01:55<3:54:01, 14.15s/it]"
     ]
    },
    {
     "name": "stdout",
     "output_type": "stream",
     "text": [
      "Time to: Calculate Ground State - 1.4s, Get Pauli Ops - 4.09s, Calculate Pauli Expectation Values - 6.14s, Calculate Covariance - 2.36s\n",
      "f0,f1,f2 = [2.8671327968108207e-09, 2.8671327968140442e-09, 2.8671327967997952e-09]\n",
      "d01,d02,d12 = [0.9497796922359127, 0.949779692235905, 0.9497796922359268]\n"
     ]
    },
    {
     "name": "stderr",
     "output_type": "stream",
     "text": [
      "Progress:   1%|          | 9/1000 [02:08<3:48:32, 13.84s/it]"
     ]
    },
    {
     "name": "stdout",
     "output_type": "stream",
     "text": [
      "Time to: Calculate Ground State - 1.01s, Get Pauli Ops - 4.58s, Calculate Pauli Expectation Values - 5.71s, Calculate Covariance - 1.83s\n",
      "f0,f1,f2 = [2.6677499568837487e-09, 2.6677499568757395e-09, 2.6677499568767085e-09]\n",
      "d01,d02,d12 = [0.9757620521651451, 0.9757620521651208, 0.9757620521651702]\n"
     ]
    },
    {
     "name": "stderr",
     "output_type": "stream",
     "text": [
      "/cluster/home/mskrabulis/miniconda3/envs/quantech/lib/python3.9/site-packages/pyscf/symm/Dmatrix.py:156: RuntimeWarning: invalid value encountered in arccos\n",
      "  gamma = numpy.arccos(yp.dot(c2[1]))\n",
      "Progress:   1%|          | 10/1000 [02:22<3:49:47, 13.93s/it]"
     ]
    },
    {
     "name": "stdout",
     "output_type": "stream",
     "text": [
      "Time to: Calculate Ground State - 1.02s, Get Pauli Ops - 4.7s, Calculate Pauli Expectation Values - 6.19s, Calculate Covariance - 2.21s\n",
      "f0,f1,f2 = [1.4946876642319508e-09, 1.4946876642290674e-09, 1.4946876642286621e-09]\n",
      "d01,d02,d12 = [1.0035950203817192, 1.0035950203816835, 1.0035950203817599]\n"
     ]
    },
    {
     "name": "stderr",
     "output_type": "stream",
     "text": [
      "/cluster/home/mskrabulis/miniconda3/envs/quantech/lib/python3.9/site-packages/pyscf/symm/Dmatrix.py:156: RuntimeWarning: invalid value encountered in arccos\n",
      "  gamma = numpy.arccos(yp.dot(c2[1]))\n",
      "Progress:   1%|          | 11/1000 [02:38<3:59:15, 14.52s/it]"
     ]
    },
    {
     "name": "stdout",
     "output_type": "stream",
     "text": [
      "Time to: Calculate Ground State - 0.78s, Get Pauli Ops - 4.86s, Calculate Pauli Expectation Values - 7.71s, Calculate Covariance - 2.48s\n",
      "f0,f1,f2 = [1.16143689399579e-09, 1.1614368940055407e-09, 1.1614368940080332e-09]\n",
      "d01,d02,d12 = [1.0305370767287112, 1.0305370767286681, 1.0305370767287598]\n"
     ]
    },
    {
     "name": "stderr",
     "output_type": "stream",
     "text": [
      "Progress:   1%|          | 12/1000 [02:51<3:54:20, 14.23s/it]"
     ]
    },
    {
     "name": "stdout",
     "output_type": "stream",
     "text": [
      "Time to: Calculate Ground State - 0.91s, Get Pauli Ops - 4.73s, Calculate Pauli Expectation Values - 5.82s, Calculate Covariance - 2.11s\n",
      "f0,f1,f2 = [1.129712269752389e-09, 1.1297122697496732e-09, 1.129712269749394e-09]\n",
      "d01,d02,d12 = [1.0565528686571177, 1.0565528686570778, 1.0565528686571615]\n"
     ]
    },
    {
     "name": "stderr",
     "output_type": "stream",
     "text": [
      "Progress:   1%|▏         | 13/1000 [03:04<3:46:25, 13.76s/it]"
     ]
    },
    {
     "name": "stdout",
     "output_type": "stream",
     "text": [
      "Time to: Calculate Ground State - 1.02s, Get Pauli Ops - 4.21s, Calculate Pauli Expectation Values - 5.44s, Calculate Covariance - 2.01s\n",
      "f0,f1,f2 = [2.2207589985339226e-09, 2.2207589985530855e-09, 2.2207589985423955e-09]\n",
      "d01,d02,d12 = [1.0833353136367372, 1.083335313636694, 1.0833353136367725]\n"
     ]
    },
    {
     "name": "stderr",
     "output_type": "stream",
     "text": [
      "Progress:   1%|▏         | 14/1000 [03:21<3:59:37, 14.58s/it]"
     ]
    },
    {
     "name": "stdout",
     "output_type": "stream",
     "text": [
      "Time to: Calculate Ground State - 0.75s, Get Pauli Ops - 4.46s, Calculate Pauli Expectation Values - 9.19s, Calculate Covariance - 2.06s\n",
      "f0,f1,f2 = [2.655340809479791e-09, 2.655340809476863e-09, 2.6553408094824403e-09]\n",
      "d01,d02,d12 = [1.1078178907810359, 1.1078178907809795, 1.107817890781053]\n"
     ]
    },
    {
     "name": "stderr",
     "output_type": "stream",
     "text": [
      "Progress:   2%|▏         | 15/1000 [03:34<3:52:22, 14.15s/it]"
     ]
    },
    {
     "name": "stdout",
     "output_type": "stream",
     "text": [
      "Time to: Calculate Ground State - 1.02s, Get Pauli Ops - 4.88s, Calculate Pauli Expectation Values - 5.84s, Calculate Covariance - 1.42s\n",
      "f0,f1,f2 = [3.0706002372856254e-09, 3.0706002372766253e-09, 3.0706002372885776e-09]\n",
      "d01,d02,d12 = [1.1308813814610237, 1.1308813814609415, 1.1308813814610128]\n"
     ]
    },
    {
     "name": "stderr",
     "output_type": "stream",
     "text": [
      "/cluster/home/mskrabulis/miniconda3/envs/quantech/lib/python3.9/site-packages/pyscf/symm/Dmatrix.py:156: RuntimeWarning: invalid value encountered in arccos\n",
      "  gamma = numpy.arccos(yp.dot(c2[1]))\n",
      "Progress:   2%|▏         | 16/1000 [03:50<4:01:31, 14.73s/it]"
     ]
    },
    {
     "name": "stdout",
     "output_type": "stream",
     "text": [
      "Time to: Calculate Ground State - 1.25s, Get Pauli Ops - 4.42s, Calculate Pauli Expectation Values - 8.54s, Calculate Covariance - 1.84s\n",
      "f0,f1,f2 = [4.430100707397823e-09, 4.430100707392861e-09, 4.430100707389826e-09]\n",
      "d01,d02,d12 = [1.15208418902817, 1.1520841890280564, 1.152084189028123]\n"
     ]
    },
    {
     "name": "stderr",
     "output_type": "stream",
     "text": [
      "Progress:   2%|▏         | 17/1000 [04:06<4:06:42, 15.06s/it]"
     ]
    },
    {
     "name": "stdout",
     "output_type": "stream",
     "text": [
      "Time to: Calculate Ground State - 1.34s, Get Pauli Ops - 6.63s, Calculate Pauli Expectation Values - 5.6s, Calculate Covariance - 2.24s\n",
      "f0,f1,f2 = [4.723181354016673e-09, 4.723181354016861e-09, 4.723181353999661e-09]\n",
      "d01,d02,d12 = [1.1706773033958844, 1.170677303395746, 1.1706773033958133]\n"
     ]
    },
    {
     "name": "stderr",
     "output_type": "stream",
     "text": [
      "/cluster/home/mskrabulis/miniconda3/envs/quantech/lib/python3.9/site-packages/pyscf/symm/Dmatrix.py:156: RuntimeWarning: invalid value encountered in arccos\n",
      "  gamma = numpy.arccos(yp.dot(c2[1]))\n",
      "Progress:   2%|▏         | 18/1000 [04:23<4:16:01, 15.64s/it]"
     ]
    },
    {
     "name": "stdout",
     "output_type": "stream",
     "text": [
      "Time to: Calculate Ground State - 1.31s, Get Pauli Ops - 4.18s, Calculate Pauli Expectation Values - 9.49s, Calculate Covariance - 2.01s\n",
      "f0,f1,f2 = [5.909215222247867e-09, 5.909215222239664e-09, 5.909215222248251e-09]\n",
      "d01,d02,d12 = [1.186559782323783, 1.1865597823236087, 1.1865597823236875]\n"
     ]
    },
    {
     "name": "stderr",
     "output_type": "stream",
     "text": [
      "Progress:   2%|▏         | 19/1000 [04:38<4:14:06, 15.54s/it]"
     ]
    },
    {
     "name": "stdout",
     "output_type": "stream",
     "text": [
      "Time to: Calculate Ground State - 0.87s, Get Pauli Ops - 3.92s, Calculate Pauli Expectation Values - 8.23s, Calculate Covariance - 2.28s\n",
      "f0,f1,f2 = [5.070240896135611e-09, 5.070240896146327e-09, 5.070240896140281e-09]\n",
      "d01,d02,d12 = [1.201607270248011, 1.2016072702477985, 1.2016072702478822]\n"
     ]
    },
    {
     "name": "stderr",
     "output_type": "stream",
     "text": [
      "/cluster/home/mskrabulis/miniconda3/envs/quantech/lib/python3.9/site-packages/pyscf/symm/Dmatrix.py:156: RuntimeWarning: invalid value encountered in arccos\n",
      "  gamma = numpy.arccos(yp.dot(c2[1]))\n",
      "Progress:   2%|▏         | 20/1000 [04:52<4:07:43, 15.17s/it]"
     ]
    },
    {
     "name": "stdout",
     "output_type": "stream",
     "text": [
      "Time to: Calculate Ground State - 1.29s, Get Pauli Ops - 4.22s, Calculate Pauli Expectation Values - 6.7s, Calculate Covariance - 2.07s\n",
      "f0,f1,f2 = [5.187565533421326e-09, 5.1875655334255425e-09, 5.187565533418128e-09]\n",
      "d01,d02,d12 = [1.2132099147855642, 1.2132099147853186, 1.213209914785397]\n"
     ]
    },
    {
     "name": "stderr",
     "output_type": "stream",
     "text": [
      "Progress:   2%|▏         | 21/1000 [05:06<4:00:07, 14.72s/it]"
     ]
    },
    {
     "name": "stdout",
     "output_type": "stream",
     "text": [
      "Time to: Calculate Ground State - 1.09s, Get Pauli Ops - 4.33s, Calculate Pauli Expectation Values - 6.22s, Calculate Covariance - 2.02s\n",
      "f0,f1,f2 = [5.975101134786849e-09, 5.975101134773933e-09, 5.97510113476988e-09]\n",
      "d01,d02,d12 = [1.222177000918892, 1.222177000918615, 1.2221770009186939]\n"
     ]
    },
    {
     "name": "stderr",
     "output_type": "stream",
     "text": [
      "Progress:   2%|▏         | 22/1000 [05:19<3:50:38, 14.15s/it]"
     ]
    },
    {
     "name": "stdout",
     "output_type": "stream",
     "text": [
      "Time to: Calculate Ground State - 0.93s, Get Pauli Ops - 4.55s, Calculate Pauli Expectation Values - 5.61s, Calculate Covariance - 1.72s\n",
      "f0,f1,f2 = [6.040436860660902e-09, 6.0404368606786975e-09, 6.040436860663091e-09]\n",
      "d01,d02,d12 = [1.2296475297389455, 1.2296475297386416, 1.229647529738716]\n"
     ]
    },
    {
     "name": "stderr",
     "output_type": "stream",
     "text": [
      "Progress:   2%|▏         | 23/1000 [05:35<3:59:19, 14.70s/it]"
     ]
    },
    {
     "name": "stdout",
     "output_type": "stream",
     "text": [
      "Time to: Calculate Ground State - 1.16s, Get Pauli Ops - 4.0s, Calculate Pauli Expectation Values - 9.05s, Calculate Covariance - 1.76s\n",
      "f0,f1,f2 = [5.414715803724889e-09, 5.414715803733787e-09, 5.414715803737879e-09]\n",
      "d01,d02,d12 = [1.2338311656811027, 1.233831165680774, 1.233831165680842]\n"
     ]
    },
    {
     "name": "stderr",
     "output_type": "stream",
     "text": [
      "/cluster/home/mskrabulis/miniconda3/envs/quantech/lib/python3.9/site-packages/pyscf/symm/Dmatrix.py:156: RuntimeWarning: invalid value encountered in arccos\n",
      "  gamma = numpy.arccos(yp.dot(c2[1]))\n",
      "Progress:   2%|▏         | 24/1000 [05:48<3:53:19, 14.34s/it]"
     ]
    },
    {
     "name": "stdout",
     "output_type": "stream",
     "text": [
      "Time to: Calculate Ground State - 1.21s, Get Pauli Ops - 4.76s, Calculate Pauli Expectation Values - 5.8s, Calculate Covariance - 1.75s\n",
      "f0,f1,f2 = [4.838830944242291e-09, 4.838830944248189e-09, 4.838830944244658e-09]\n",
      "d01,d02,d12 = [1.2354010800280544, 1.2354010800277007, 1.2354010800277662]\n"
     ]
    },
    {
     "name": "stderr",
     "output_type": "stream",
     "text": [
      "Progress:   2%|▎         | 25/1000 [06:01<3:47:41, 14.01s/it]"
     ]
    },
    {
     "name": "stdout",
     "output_type": "stream",
     "text": [
      "Time to: Calculate Ground State - 0.98s, Get Pauli Ops - 4.46s, Calculate Pauli Expectation Values - 5.79s, Calculate Covariance - 1.99s\n",
      "f0,f1,f2 = [6.983290138327805e-09, 6.983290138326181e-09, 6.9832901383357585e-09]\n",
      "d01,d02,d12 = [1.2341002030665829, 1.2341002030662036, 1.2341002030662662]\n"
     ]
    },
    {
     "name": "stderr",
     "output_type": "stream",
     "text": [
      "Progress:   3%|▎         | 26/1000 [06:17<3:56:53, 14.59s/it]"
     ]
    },
    {
     "name": "stdout",
     "output_type": "stream",
     "text": [
      "Time to: Calculate Ground State - 1.01s, Get Pauli Ops - 4.56s, Calculate Pauli Expectation Values - 8.2s, Calculate Covariance - 2.16s\n",
      "f0,f1,f2 = [5.0717797006148135e-09, 5.071779700609672e-09, 5.071779700609977e-09]\n",
      "d01,d02,d12 = [1.2307217858775277, 1.230721785877126, 1.2307217858771844]\n"
     ]
    },
    {
     "name": "stderr",
     "output_type": "stream",
     "text": [
      "/cluster/home/mskrabulis/miniconda3/envs/quantech/lib/python3.9/site-packages/pyscf/symm/Dmatrix.py:156: RuntimeWarning: invalid value encountered in arccos\n",
      "  gamma = numpy.arccos(yp.dot(c2[1]))\n",
      "Progress:   3%|▎         | 27/1000 [06:34<4:04:06, 15.05s/it]"
     ]
    },
    {
     "name": "stdout",
     "output_type": "stream",
     "text": [
      "Time to: Calculate Ground State - 1.3s, Get Pauli Ops - 4.65s, Calculate Pauli Expectation Values - 8.38s, Calculate Covariance - 1.8s\n",
      "f0,f1,f2 = [5.790781697088481e-09, 5.790781697090807e-09, 5.7907816970806714e-09]\n",
      "d01,d02,d12 = [1.2249016163596167, 1.2249016163591986, 1.2249016163592499]\n"
     ]
    },
    {
     "name": "stderr",
     "output_type": "stream",
     "text": [
      "/cluster/home/mskrabulis/miniconda3/envs/quantech/lib/python3.9/site-packages/pyscf/symm/Dmatrix.py:156: RuntimeWarning: invalid value encountered in arccos\n",
      "  gamma = numpy.arccos(yp.dot(c2[1]))\n",
      "Progress:   3%|▎         | 28/1000 [06:48<3:59:18, 14.77s/it]"
     ]
    },
    {
     "name": "stdout",
     "output_type": "stream",
     "text": [
      "Time to: Calculate Ground State - 1.31s, Get Pauli Ops - 4.85s, Calculate Pauli Expectation Values - 6.22s, Calculate Covariance - 1.74s\n",
      "f0,f1,f2 = [6.277387624667419e-09, 6.277387624671488e-09, 6.2773876246818635e-09]\n",
      "d01,d02,d12 = [1.2167162755475274, 1.2167162755470906, 1.216716275547138]\n"
     ]
    },
    {
     "name": "stderr",
     "output_type": "stream",
     "text": [
      "/cluster/home/mskrabulis/miniconda3/envs/quantech/lib/python3.9/site-packages/pyscf/symm/Dmatrix.py:156: RuntimeWarning: invalid value encountered in arccos\n",
      "  gamma = numpy.arccos(yp.dot(c2[1]))\n",
      "Progress:   3%|▎         | 29/1000 [07:01<3:54:28, 14.49s/it]"
     ]
    },
    {
     "name": "stdout",
     "output_type": "stream",
     "text": [
      "Time to: Calculate Ground State - 1.27s, Get Pauli Ops - 4.67s, Calculate Pauli Expectation Values - 5.9s, Calculate Covariance - 1.99s\n",
      "f0,f1,f2 = [5.666505893834122e-09, 5.666505893828882e-09, 5.66650589382723e-09]\n",
      "d01,d02,d12 = [1.206404541683737, 1.2064045416832794, 1.206404541683325]\n"
     ]
    },
    {
     "name": "stderr",
     "output_type": "stream",
     "text": [
      "/cluster/home/mskrabulis/miniconda3/envs/quantech/lib/python3.9/site-packages/pyscf/symm/Dmatrix.py:156: RuntimeWarning: invalid value encountered in arccos\n",
      "  gamma = numpy.arccos(yp.dot(c2[1]))\n",
      "Progress:   3%|▎         | 30/1000 [07:16<3:53:22, 14.44s/it]"
     ]
    },
    {
     "name": "stdout",
     "output_type": "stream",
     "text": [
      "Time to: Calculate Ground State - 1.03s, Get Pauli Ops - 4.33s, Calculate Pauli Expectation Values - 7.12s, Calculate Covariance - 1.83s\n",
      "f0,f1,f2 = [5.2571508638641365e-09, 5.257150863851546e-09, 5.257150863842831e-09]\n",
      "d01,d02,d12 = [1.193709655894955, 1.1937096558944875, 1.1937096558945235]\n"
     ]
    },
    {
     "name": "stderr",
     "output_type": "stream",
     "text": [
      "Progress:   3%|▎         | 31/1000 [07:30<3:53:01, 14.43s/it]"
     ]
    },
    {
     "name": "stdout",
     "output_type": "stream",
     "text": [
      "Time to: Calculate Ground State - 1.01s, Get Pauli Ops - 4.9s, Calculate Pauli Expectation Values - 6.05s, Calculate Covariance - 2.45s\n",
      "f0,f1,f2 = [5.7951271854527286e-09, 5.795127185446099e-09, 5.795127185451021e-09]\n",
      "d01,d02,d12 = [1.1772140239549311, 1.1772140239544435, 1.177214023954485]\n"
     ]
    },
    {
     "name": "stderr",
     "output_type": "stream",
     "text": [
      "Progress:   3%|▎         | 32/1000 [07:45<3:55:22, 14.59s/it]"
     ]
    },
    {
     "name": "stdout",
     "output_type": "stream",
     "text": [
      "Time to: Calculate Ground State - 1.06s, Get Pauli Ops - 6.37s, Calculate Pauli Expectation Values - 5.86s, Calculate Covariance - 1.67s\n",
      "f0,f1,f2 = [5.34213760516957e-09, 5.3421376051806115e-09, 5.342137605174638e-09]\n",
      "d01,d02,d12 = [1.1571240529778763, 1.1571240529773756, 1.1571240529774143]\n"
     ]
    },
    {
     "name": "stderr",
     "output_type": "stream",
     "text": [
      "Progress:   3%|▎         | 33/1000 [07:59<3:52:54, 14.45s/it]"
     ]
    },
    {
     "name": "stdout",
     "output_type": "stream",
     "text": [
      "Time to: Calculate Ground State - 0.99s, Get Pauli Ops - 5.01s, Calculate Pauli Expectation Values - 6.33s, Calculate Covariance - 1.8s\n",
      "f0,f1,f2 = [4.935401095671191e-09, 4.935401095673478e-09, 4.935401095674354e-09]\n",
      "d01,d02,d12 = [1.1361621182737074, 1.1361621182731838, 1.1361621182732133]\n"
     ]
    },
    {
     "name": "stderr",
     "output_type": "stream",
     "text": [
      "/cluster/home/mskrabulis/miniconda3/envs/quantech/lib/python3.9/site-packages/pyscf/symm/Dmatrix.py:156: RuntimeWarning: invalid value encountered in arccos\n",
      "  gamma = numpy.arccos(yp.dot(c2[1]))\n",
      "Progress:   3%|▎         | 34/1000 [08:13<3:48:50, 14.21s/it]"
     ]
    },
    {
     "name": "stdout",
     "output_type": "stream",
     "text": [
      "Time to: Calculate Ground State - 0.77s, Get Pauli Ops - 4.96s, Calculate Pauli Expectation Values - 6.25s, Calculate Covariance - 1.68s\n",
      "f0,f1,f2 = [4.275497843196363e-09, 4.275497843200748e-09, 4.275497843207162e-09]\n",
      "d01,d02,d12 = [1.1131208696877954, 1.1131208696872432, 1.1131208696872472]\n"
     ]
    },
    {
     "name": "stderr",
     "output_type": "stream",
     "text": [
      "Progress:   4%|▎         | 35/1000 [08:27<3:46:34, 14.09s/it]"
     ]
    },
    {
     "name": "stdout",
     "output_type": "stream",
     "text": [
      "Time to: Calculate Ground State - 0.77s, Get Pauli Ops - 4.6s, Calculate Pauli Expectation Values - 6.34s, Calculate Covariance - 2.08s\n",
      "f0,f1,f2 = [3.172942823448421e-09, 3.1729428234480103e-09, 3.1729428234380403e-09]\n",
      "d01,d02,d12 = [1.08965455792864, 1.0896545579280579, 1.089654557928037]\n"
     ]
    },
    {
     "name": "stderr",
     "output_type": "stream",
     "text": [
      "/cluster/home/mskrabulis/miniconda3/envs/quantech/lib/python3.9/site-packages/pyscf/symm/Dmatrix.py:156: RuntimeWarning: invalid value encountered in arccos\n",
      "  gamma = numpy.arccos(yp.dot(c2[1]))\n",
      "Progress:   4%|▎         | 36/1000 [08:39<3:37:04, 13.51s/it]"
     ]
    },
    {
     "name": "stdout",
     "output_type": "stream",
     "text": [
      "Time to: Calculate Ground State - 1.01s, Get Pauli Ops - 4.06s, Calculate Pauli Expectation Values - 5.69s, Calculate Covariance - 1.39s\n",
      "f0,f1,f2 = [3.1322228874730584e-09, 3.132222887468356e-09, 3.1322228874541693e-09]\n",
      "d01,d02,d12 = [1.0649779734563172, 1.064977973455703, 1.064977973455666]\n"
     ]
    },
    {
     "name": "stderr",
     "output_type": "stream",
     "text": [
      "Progress:   4%|▎         | 37/1000 [08:53<3:40:05, 13.71s/it]"
     ]
    },
    {
     "name": "stdout",
     "output_type": "stream",
     "text": [
      "Time to: Calculate Ground State - 0.97s, Get Pauli Ops - 4.56s, Calculate Pauli Expectation Values - 6.87s, Calculate Covariance - 1.78s\n",
      "f0,f1,f2 = [2.118759119253194e-09, 2.1187591192281797e-09, 2.118759119229784e-09]\n",
      "d01,d02,d12 = [1.0402635891431626, 1.0402635891425336, 1.0402635891424712]\n"
     ]
    },
    {
     "name": "stderr",
     "output_type": "stream",
     "text": [
      "Progress:   4%|▍         | 38/1000 [09:05<3:30:18, 13.12s/it]"
     ]
    },
    {
     "name": "stdout",
     "output_type": "stream",
     "text": [
      "Time to: Calculate Ground State - 0.76s, Get Pauli Ops - 3.9s, Calculate Pauli Expectation Values - 5.66s, Calculate Covariance - 1.4s\n",
      "f0,f1,f2 = [2.817826773128245e-09, 2.817826773141468e-09, 2.8178267731331545e-09]\n",
      "d01,d02,d12 = [1.0134727954081328, 1.0134727954075125, 1.0134727954074165]\n"
     ]
    },
    {
     "name": "stderr",
     "output_type": "stream",
     "text": [
      "/cluster/home/mskrabulis/miniconda3/envs/quantech/lib/python3.9/site-packages/pyscf/symm/Dmatrix.py:156: RuntimeWarning: invalid value encountered in arccos\n",
      "  gamma = numpy.arccos(yp.dot(c2[1]))\n",
      "Progress:   4%|▍         | 39/1000 [09:20<3:42:11, 13.87s/it]"
     ]
    },
    {
     "name": "stdout",
     "output_type": "stream",
     "text": [
      "Time to: Calculate Ground State - 1.14s, Get Pauli Ops - 4.64s, Calculate Pauli Expectation Values - 7.67s, Calculate Covariance - 2.17s\n",
      "f0,f1,f2 = [1.2674628713220849e-09, 1.2674628713198389e-09, 1.267462871307095e-09]\n",
      "d01,d02,d12 = [0.9864076170369405, 0.9864076170363154, 0.9864076170362127]\n"
     ]
    },
    {
     "name": "stderr",
     "output_type": "stream",
     "text": [
      "Progress:   4%|▍         | 40/1000 [09:34<3:42:20, 13.90s/it]"
     ]
    },
    {
     "name": "stdout",
     "output_type": "stream",
     "text": [
      "Time to: Calculate Ground State - 1.03s, Get Pauli Ops - 4.49s, Calculate Pauli Expectation Values - 6.52s, Calculate Covariance - 1.9s\n",
      "f0,f1,f2 = [1.1941961912704868e-09, 1.1941961912601824e-09, 1.1941961912599444e-09]\n",
      "d01,d02,d12 = [0.9575676975024039, 0.9575676975017691, 0.9575676975016609]\n"
     ]
    },
    {
     "name": "stderr",
     "output_type": "stream",
     "text": [
      "/cluster/home/mskrabulis/miniconda3/envs/quantech/lib/python3.9/site-packages/pyscf/symm/Dmatrix.py:156: RuntimeWarning: invalid value encountered in arccos\n",
      "  gamma = numpy.arccos(yp.dot(c2[1]))\n",
      "Progress:   4%|▍         | 41/1000 [09:48<3:41:22, 13.85s/it]"
     ]
    },
    {
     "name": "stdout",
     "output_type": "stream",
     "text": [
      "Time to: Calculate Ground State - 1.1s, Get Pauli Ops - 4.52s, Calculate Pauli Expectation Values - 5.8s, Calculate Covariance - 2.31s\n",
      "f0,f1,f2 = [9.244862004590249e-10, 9.244862004621729e-10, 9.244862004806479e-10]\n",
      "d01,d02,d12 = [0.929367280749835, 0.9293672807492133, 0.9293672807490897]\n"
     ]
    },
    {
     "name": "stderr",
     "output_type": "stream",
     "text": [
      "Progress:   4%|▍         | 42/1000 [10:02<3:40:07, 13.79s/it]"
     ]
    },
    {
     "name": "stdout",
     "output_type": "stream",
     "text": [
      "Time to: Calculate Ground State - 1.02s, Get Pauli Ops - 4.55s, Calculate Pauli Expectation Values - 5.94s, Calculate Covariance - 2.12s\n",
      "f0,f1,f2 = [1.6639273919224616e-09, 1.6639273919318621e-09, 1.6639273919456763e-09]\n",
      "d01,d02,d12 = [0.8959151547269267, 0.895915154726334, 0.8959151547261817]\n"
     ]
    },
    {
     "name": "stderr",
     "output_type": "stream",
     "text": [
      "/cluster/home/mskrabulis/miniconda3/envs/quantech/lib/python3.9/site-packages/pyscf/symm/Dmatrix.py:156: RuntimeWarning: invalid value encountered in arccos\n",
      "  gamma = numpy.arccos(yp.dot(c2[1]))\n",
      "Progress:   4%|▍         | 43/1000 [10:16<3:42:49, 13.97s/it]"
     ]
    },
    {
     "name": "stdout",
     "output_type": "stream",
     "text": [
      "Time to: Calculate Ground State - 0.76s, Get Pauli Ops - 5.23s, Calculate Pauli Expectation Values - 6.18s, Calculate Covariance - 2.23s\n",
      "f0,f1,f2 = [4.3173123766691154e-09, 4.317312376661456e-09, 4.317312376681842e-09]\n",
      "d01,d02,d12 = [0.8650096091241454, 0.8650096091235819, 0.8650096091233865]\n"
     ]
    },
    {
     "name": "stderr",
     "output_type": "stream",
     "text": [
      "/cluster/home/mskrabulis/miniconda3/envs/quantech/lib/python3.9/site-packages/pyscf/symm/Dmatrix.py:156: RuntimeWarning: invalid value encountered in arccos\n",
      "  gamma = numpy.arccos(yp.dot(c2[1]))\n",
      "Progress:   4%|▍         | 44/1000 [10:29<3:37:49, 13.67s/it]"
     ]
    },
    {
     "name": "stdout",
     "output_type": "stream",
     "text": [
      "Time to: Calculate Ground State - 0.78s, Get Pauli Ops - 4.41s, Calculate Pauli Expectation Values - 5.8s, Calculate Covariance - 1.98s\n",
      "f0,f1,f2 = [6.207474203459344e-09, 6.207474203455325e-09, 6.207474203472849e-09]\n",
      "d01,d02,d12 = [0.8365779958240638, 0.8365779958235358, 0.8365779958233045]\n"
     ]
    },
    {
     "name": "stderr",
     "output_type": "stream",
     "text": [
      "/cluster/home/mskrabulis/miniconda3/envs/quantech/lib/python3.9/site-packages/pyscf/symm/Dmatrix.py:156: RuntimeWarning: invalid value encountered in arccos\n",
      "  gamma = numpy.arccos(yp.dot(c2[1]))\n",
      "Progress:   4%|▍         | 45/1000 [10:43<3:40:10, 13.83s/it]"
     ]
    },
    {
     "name": "stdout",
     "output_type": "stream",
     "text": [
      "Time to: Calculate Ground State - 0.96s, Get Pauli Ops - 5.02s, Calculate Pauli Expectation Values - 6.21s, Calculate Covariance - 2.01s\n",
      "f0,f1,f2 = [8.86461639120654e-09, 8.864616391215566e-09, 8.864616391235004e-09]\n",
      "d01,d02,d12 = [0.8123009605696629, 0.8123009605691777, 0.8123009605689177]\n"
     ]
    },
    {
     "name": "stderr",
     "output_type": "stream",
     "text": [
      "Progress:   5%|▍         | 46/1000 [10:57<3:38:54, 13.77s/it]"
     ]
    },
    {
     "name": "stdout",
     "output_type": "stream",
     "text": [
      "Time to: Calculate Ground State - 1.26s, Get Pauli Ops - 4.48s, Calculate Pauli Expectation Values - 5.73s, Calculate Covariance - 2.13s\n",
      "f0,f1,f2 = [1.0697588230445413e-08, 1.0697588230455426e-08, 1.0697588230472573e-08]\n",
      "d01,d02,d12 = [0.7911487563081328, 0.7911487563077099, 0.7911487563074158]\n"
     ]
    },
    {
     "name": "stderr",
     "output_type": "stream",
     "text": [
      "Progress:   5%|▍         | 47/1000 [11:12<3:46:42, 14.27s/it]"
     ]
    },
    {
     "name": "stdout",
     "output_type": "stream",
     "text": [
      "Time to: Calculate Ground State - 1.17s, Get Pauli Ops - 6.6s, Calculate Pauli Expectation Values - 5.79s, Calculate Covariance - 1.89s\n",
      "f0,f1,f2 = [1.4583729438683018e-08, 1.4583729438687548e-08, 1.458372943871683e-08]\n",
      "d01,d02,d12 = [0.7767735531404311, 0.7767735531400656, 0.7767735531397384]\n"
     ]
    },
    {
     "name": "stderr",
     "output_type": "stream",
     "text": [
      "/cluster/home/mskrabulis/miniconda3/envs/quantech/lib/python3.9/site-packages/pyscf/symm/Dmatrix.py:156: RuntimeWarning: invalid value encountered in arccos\n",
      "  gamma = numpy.arccos(yp.dot(c2[1]))\n",
      "Progress:   5%|▍         | 48/1000 [11:29<3:57:09, 14.95s/it]"
     ]
    },
    {
     "name": "stdout",
     "output_type": "stream",
     "text": [
      "Time to: Calculate Ground State - 1.06s, Get Pauli Ops - 4.57s, Calculate Pauli Expectation Values - 9.01s, Calculate Covariance - 1.87s\n",
      "f0,f1,f2 = [1.5964548957690363e-08, 1.5964548957689023e-08, 1.5964548957716416e-08]\n",
      "d01,d02,d12 = [0.7693038890879624, 0.7693038890876666, 0.7693038890873164]\n"
     ]
    },
    {
     "name": "stderr",
     "output_type": "stream",
     "text": [
      "Progress:   5%|▍         | 49/1000 [11:44<3:55:33, 14.86s/it]"
     ]
    },
    {
     "name": "stdout",
     "output_type": "stream",
     "text": [
      "Time to: Calculate Ground State - 0.82s, Get Pauli Ops - 6.26s, Calculate Pauli Expectation Values - 6.16s, Calculate Covariance - 1.41s\n",
      "f0,f1,f2 = [1.516324461613797e-08, 1.5163244616139075e-08, 1.5163244616160925e-08]\n",
      "d01,d02,d12 = [0.768330452433005, 0.7683304524327877, 0.7683304524324137]\n"
     ]
    },
    {
     "name": "stderr",
     "output_type": "stream",
     "text": [
      "Progress:   5%|▌         | 50/1000 [11:59<3:55:44, 14.89s/it]"
     ]
    },
    {
     "name": "stdout",
     "output_type": "stream",
     "text": [
      "Time to: Calculate Ground State - 1.39s, Get Pauli Ops - 6.25s, Calculate Pauli Expectation Values - 5.9s, Calculate Covariance - 1.4s\n",
      "f0,f1,f2 = [1.667895798877682e-08, 1.6678957988796566e-08, 1.6678957988816326e-08]\n",
      "d01,d02,d12 = [0.7743393802415484, 0.774339380241417, 0.7743393802410242]\n"
     ]
    },
    {
     "name": "stderr",
     "output_type": "stream",
     "text": [
      "Progress:   5%|▌         | 51/1000 [12:12<3:46:34, 14.33s/it]"
     ]
    },
    {
     "name": "stdout",
     "output_type": "stream",
     "text": [
      "Time to: Calculate Ground State - 1.03s, Get Pauli Ops - 4.75s, Calculate Pauli Expectation Values - 5.84s, Calculate Covariance - 1.38s\n",
      "f0,f1,f2 = [1.4892555405835444e-08, 1.4892555405852614e-08, 1.489255540585995e-08]\n",
      "d01,d02,d12 = [0.7868606814771062, 0.7868606814770671, 0.7868606814766624]\n"
     ]
    },
    {
     "name": "stderr",
     "output_type": "stream",
     "text": [
      "Progress:   5%|▌         | 52/1000 [12:25<3:40:39, 13.97s/it]"
     ]
    },
    {
     "name": "stdout",
     "output_type": "stream",
     "text": [
      "Time to: Calculate Ground State - 0.76s, Get Pauli Ops - 4.34s, Calculate Pauli Expectation Values - 6.17s, Calculate Covariance - 1.85s\n",
      "f0,f1,f2 = [1.3861233965715012e-08, 1.3861233965728004e-08, 1.3861233965739508e-08]\n",
      "d01,d02,d12 = [0.8043994274331361, 0.8043994274331886, 0.804399427432781]\n"
     ]
    },
    {
     "name": "stderr",
     "output_type": "stream",
     "text": [
      "/cluster/home/mskrabulis/miniconda3/envs/quantech/lib/python3.9/site-packages/pyscf/symm/Dmatrix.py:156: RuntimeWarning: invalid value encountered in arccos\n",
      "  gamma = numpy.arccos(yp.dot(c2[1]))\n",
      "Progress:   5%|▌         | 53/1000 [12:38<3:36:22, 13.71s/it]"
     ]
    },
    {
     "name": "stdout",
     "output_type": "stream",
     "text": [
      "Time to: Calculate Ground State - 1.08s, Get Pauli Ops - 4.42s, Calculate Pauli Expectation Values - 5.76s, Calculate Covariance - 1.85s\n",
      "f0,f1,f2 = [1.2537410991800152e-08, 1.2537410991812391e-08, 1.2537410991804973e-08]\n",
      "d01,d02,d12 = [0.8262903103703488, 0.8262903103704935, 0.8262903103700787]\n"
     ]
    },
    {
     "name": "stderr",
     "output_type": "stream",
     "text": [
      "/cluster/home/mskrabulis/miniconda3/envs/quantech/lib/python3.9/site-packages/pyscf/symm/Dmatrix.py:156: RuntimeWarning: invalid value encountered in arccos\n",
      "  gamma = numpy.arccos(yp.dot(c2[1]))\n",
      "Progress:   5%|▌         | 54/1000 [12:53<3:44:51, 14.26s/it]"
     ]
    },
    {
     "name": "stdout",
     "output_type": "stream",
     "text": [
      "Time to: Calculate Ground State - 1.29s, Get Pauli Ops - 5.12s, Calculate Pauli Expectation Values - 7.11s, Calculate Covariance - 2.03s\n",
      "f0,f1,f2 = [1.0444721531891423e-08, 1.0444721531903717e-08, 1.0444721531913211e-08]\n",
      "d01,d02,d12 = [0.853445204801403, 0.853445204801644, 0.8534452048012158]\n"
     ]
    },
    {
     "name": "stderr",
     "output_type": "stream",
     "text": [
      "/cluster/home/mskrabulis/miniconda3/envs/quantech/lib/python3.9/site-packages/pyscf/symm/Dmatrix.py:156: RuntimeWarning: invalid value encountered in arccos\n",
      "  gamma = numpy.arccos(yp.dot(c2[1]))\n",
      "Progress:   6%|▌         | 55/1000 [13:07<3:42:06, 14.10s/it]"
     ]
    },
    {
     "name": "stdout",
     "output_type": "stream",
     "text": [
      "Time to: Calculate Ground State - 1.02s, Get Pauli Ops - 4.86s, Calculate Pauli Expectation Values - 6.1s, Calculate Covariance - 1.74s\n",
      "f0,f1,f2 = [8.044766047162722e-09, 8.044766047180203e-09, 8.044766047162075e-09]\n",
      "d01,d02,d12 = [0.8858849168361353, 0.8858849168364723, 0.8858849168360172]\n"
     ]
    },
    {
     "name": "stderr",
     "output_type": "stream",
     "text": [
      "/cluster/home/mskrabulis/miniconda3/envs/quantech/lib/python3.9/site-packages/pyscf/symm/Dmatrix.py:156: RuntimeWarning: invalid value encountered in arccos\n",
      "  gamma = numpy.arccos(yp.dot(c2[1]))\n",
      "/cluster/home/mskrabulis/miniconda3/envs/quantech/lib/python3.9/site-packages/pyscf/symm/Dmatrix.py:156: RuntimeWarning: invalid value encountered in arccos\n",
      "  gamma = numpy.arccos(yp.dot(c2[1]))\n",
      "Progress:   6%|▌         | 56/1000 [13:21<3:40:26, 14.01s/it]"
     ]
    },
    {
     "name": "stdout",
     "output_type": "stream",
     "text": [
      "Time to: Calculate Ground State - 1.29s, Get Pauli Ops - 4.54s, Calculate Pauli Expectation Values - 6.1s, Calculate Covariance - 1.87s\n",
      "f0,f1,f2 = [4.706794138133905e-09, 4.706794138140875e-09, 4.7067941381407936e-09]\n",
      "d01,d02,d12 = [0.9226413561186949, 0.9226413561191293, 0.9226413561186557]\n"
     ]
    },
    {
     "name": "stderr",
     "output_type": "stream",
     "text": [
      "Progress:   6%|▌         | 57/1000 [13:34<3:38:03, 13.87s/it]"
     ]
    },
    {
     "name": "stdout",
     "output_type": "stream",
     "text": [
      "Time to: Calculate Ground State - 1.22s, Get Pauli Ops - 4.44s, Calculate Pauli Expectation Values - 6.11s, Calculate Covariance - 1.78s\n",
      "f0,f1,f2 = [2.8779399423131513e-09, 2.8779399423129598e-09, 2.8779399423038476e-09]\n",
      "d01,d02,d12 = [0.960740681057752, 0.9607406810582755, 0.9607406810577729]\n"
     ]
    },
    {
     "name": "stderr",
     "output_type": "stream",
     "text": [
      "Progress:   6%|▌         | 58/1000 [13:47<3:33:46, 13.62s/it]"
     ]
    },
    {
     "name": "stdout",
     "output_type": "stream",
     "text": [
      "Time to: Calculate Ground State - 0.94s, Get Pauli Ops - 4.26s, Calculate Pauli Expectation Values - 6.07s, Calculate Covariance - 1.75s\n",
      "f0,f1,f2 = [1.4723111466982275e-09, 1.4723111467094925e-09, 1.4723111466991643e-09]\n",
      "d01,d02,d12 = [0.994916254292833, 0.9949162542934367, 0.9949162542929015]\n"
     ]
    },
    {
     "name": "stderr",
     "output_type": "stream",
     "text": [
      "/cluster/home/mskrabulis/miniconda3/envs/quantech/lib/python3.9/site-packages/pyscf/symm/Dmatrix.py:156: RuntimeWarning: invalid value encountered in arccos\n",
      "  gamma = numpy.arccos(yp.dot(c2[1]))\n",
      "Progress:   6%|▌         | 59/1000 [14:02<3:39:24, 13.99s/it]"
     ]
    },
    {
     "name": "stdout",
     "output_type": "stream",
     "text": [
      "Time to: Calculate Ground State - 1.01s, Get Pauli Ops - 4.53s, Calculate Pauli Expectation Values - 7.56s, Calculate Covariance - 1.75s\n",
      "f0,f1,f2 = [3.066496716896354e-10, 3.0664967169515307e-10, 3.066496716834887e-10]\n",
      "d01,d02,d12 = [1.0260755530985972, 1.0260755530992813, 1.0260755530987162]\n"
     ]
    },
    {
     "name": "stderr",
     "output_type": "stream",
     "text": [
      "/cluster/home/mskrabulis/miniconda3/envs/quantech/lib/python3.9/site-packages/pyscf/symm/Dmatrix.py:156: RuntimeWarning: invalid value encountered in arccos\n",
      "  gamma = numpy.arccos(yp.dot(c2[1]))\n",
      "/cluster/home/mskrabulis/miniconda3/envs/quantech/lib/python3.9/site-packages/pyscf/symm/Dmatrix.py:156: RuntimeWarning: invalid value encountered in arccos\n",
      "  gamma = numpy.arccos(yp.dot(c2[1]))\n",
      "Progress:   6%|▌         | 60/1000 [14:17<3:41:47, 14.16s/it]"
     ]
    },
    {
     "name": "stdout",
     "output_type": "stream",
     "text": [
      "Time to: Calculate Ground State - 1.27s, Get Pauli Ops - 5.6s, Calculate Pauli Expectation Values - 5.96s, Calculate Covariance - 1.71s\n",
      "f0,f1,f2 = [1.6893443128122975e-09, 1.6893443127954373e-09, 1.6893443128185e-09]\n",
      "d01,d02,d12 = [1.0574162702243615, 1.057416270225132, 1.0574162702245375]\n"
     ]
    },
    {
     "name": "stderr",
     "output_type": "stream",
     "text": [
      "/cluster/home/mskrabulis/miniconda3/envs/quantech/lib/python3.9/site-packages/pyscf/symm/Dmatrix.py:156: RuntimeWarning: invalid value encountered in arccos\n",
      "  gamma = numpy.arccos(yp.dot(c2[1]))\n",
      "/cluster/home/mskrabulis/miniconda3/envs/quantech/lib/python3.9/site-packages/pyscf/symm/Dmatrix.py:156: RuntimeWarning: invalid value encountered in arccos\n",
      "  gamma = numpy.arccos(yp.dot(c2[1]))\n",
      "Progress:   6%|▌         | 61/1000 [14:34<3:53:28, 14.92s/it]"
     ]
    },
    {
     "name": "stdout",
     "output_type": "stream",
     "text": [
      "Time to: Calculate Ground State - 1.36s, Get Pauli Ops - 5.43s, Calculate Pauli Expectation Values - 7.97s, Calculate Covariance - 1.93s\n",
      "f0,f1,f2 = [2.706563549270346e-09, 2.7065635492571563e-09, 2.7065635492721937e-09]\n",
      "d01,d02,d12 = [1.0851817813971825, 1.085181781398056, 1.085181781397397]\n"
     ]
    },
    {
     "name": "stderr",
     "output_type": "stream",
     "text": [
      "/cluster/home/mskrabulis/miniconda3/envs/quantech/lib/python3.9/site-packages/pyscf/symm/Dmatrix.py:156: RuntimeWarning: invalid value encountered in arccos\n",
      "  gamma = numpy.arccos(yp.dot(c2[1]))\n",
      "Progress:   6%|▌         | 62/1000 [14:48<3:51:22, 14.80s/it]"
     ]
    },
    {
     "name": "stdout",
     "output_type": "stream",
     "text": [
      "Time to: Calculate Ground State - 1.33s, Get Pauli Ops - 4.83s, Calculate Pauli Expectation Values - 6.62s, Calculate Covariance - 1.73s\n",
      "f0,f1,f2 = [3.559319081014083e-09, 3.559319081009903e-09, 3.559319081030704e-09]\n",
      "d01,d02,d12 = [1.1149549934558234, 1.1149549934568252, 1.114954993456073]\n"
     ]
    },
    {
     "name": "stderr",
     "output_type": "stream",
     "text": [
      "Progress:   6%|▋         | 63/1000 [15:07<4:08:33, 15.92s/it]"
     ]
    },
    {
     "name": "stdout",
     "output_type": "stream",
     "text": [
      "Time to: Calculate Ground State - 1.01s, Get Pauli Ops - 9.55s, Calculate Pauli Expectation Values - 6.13s, Calculate Covariance - 1.82s\n",
      "f0,f1,f2 = [4.818011044458149e-09, 4.818011044459619e-09, 4.818011044463464e-09]\n",
      "d01,d02,d12 = [1.1432288557962171, 1.1432288557973538, 1.1432288557965187]\n"
     ]
    },
    {
     "name": "stderr",
     "output_type": "stream",
     "text": [
      "/cluster/home/mskrabulis/miniconda3/envs/quantech/lib/python3.9/site-packages/pyscf/symm/Dmatrix.py:156: RuntimeWarning: invalid value encountered in arccos\n",
      "  gamma = numpy.arccos(yp.dot(c2[1]))\n",
      "/cluster/home/mskrabulis/miniconda3/envs/quantech/lib/python3.9/site-packages/pyscf/symm/Dmatrix.py:156: RuntimeWarning: invalid value encountered in arccos\n",
      "  gamma = numpy.arccos(yp.dot(c2[1]))\n",
      "Progress:   6%|▋         | 64/1000 [15:22<4:07:10, 15.84s/it]"
     ]
    },
    {
     "name": "stdout",
     "output_type": "stream",
     "text": [
      "Time to: Calculate Ground State - 1.19s, Get Pauli Ops - 6.74s, Calculate Pauli Expectation Values - 5.9s, Calculate Covariance - 1.84s\n",
      "f0,f1,f2 = [4.359492826889419e-09, 4.359492826874618e-09, 4.359492826890405e-09]\n",
      "d01,d02,d12 = [1.171802930740237, 1.1718029307415034, 1.1718029307405975]\n"
     ]
    },
    {
     "name": "stderr",
     "output_type": "stream",
     "text": [
      "Progress:   6%|▋         | 65/1000 [15:38<4:05:33, 15.76s/it]"
     ]
    },
    {
     "name": "stdout",
     "output_type": "stream",
     "text": [
      "Time to: Calculate Ground State - 1.01s, Get Pauli Ops - 6.78s, Calculate Pauli Expectation Values - 5.93s, Calculate Covariance - 1.83s\n",
      "f0,f1,f2 = [3.6538582573715366e-09, 3.653858257363986e-09, 3.653858257371624e-09]\n",
      "d01,d02,d12 = [1.1963776225153966, 1.1963776225168006, 1.1963776225158167]\n"
     ]
    },
    {
     "name": "stderr",
     "output_type": "stream",
     "text": [
      "/cluster/home/mskrabulis/miniconda3/envs/quantech/lib/python3.9/site-packages/pyscf/symm/Dmatrix.py:156: RuntimeWarning: invalid value encountered in arccos\n",
      "  gamma = numpy.arccos(yp.dot(c2[1]))\n",
      "Progress:   7%|▋         | 66/1000 [15:54<4:07:13, 15.88s/it]"
     ]
    },
    {
     "name": "stdout",
     "output_type": "stream",
     "text": [
      "Time to: Calculate Ground State - 1.16s, Get Pauli Ops - 7.32s, Calculate Pauli Expectation Values - 5.76s, Calculate Covariance - 1.92s\n",
      "f0,f1,f2 = [5.206774307497191e-09, 5.206774307493548e-09, 5.206774307500917e-09]\n",
      "d01,d02,d12 = [1.2197827530126988, 1.21978275301426, 1.2197827530131902]\n"
     ]
    },
    {
     "name": "stderr",
     "output_type": "stream",
     "text": [
      "/cluster/home/mskrabulis/miniconda3/envs/quantech/lib/python3.9/site-packages/pyscf/symm/Dmatrix.py:156: RuntimeWarning: invalid value encountered in arccos\n",
      "  gamma = numpy.arccos(yp.dot(c2[1]))\n",
      "Progress:   7%|▋         | 67/1000 [16:08<3:59:53, 15.43s/it]"
     ]
    },
    {
     "name": "stdout",
     "output_type": "stream",
     "text": [
      "Time to: Calculate Ground State - 1.11s, Get Pauli Ops - 5.92s, Calculate Pauli Expectation Values - 5.77s, Calculate Covariance - 1.56s\n",
      "f0,f1,f2 = [6.4502560318125156e-09, 6.450256031808433e-09, 6.450256031817389e-09]\n",
      "d01,d02,d12 = [1.238791776754236, 1.2387917767559355, 1.2387917767547816]\n"
     ]
    },
    {
     "name": "stderr",
     "output_type": "stream",
     "text": [
      "Progress:   7%|▋         | 68/1000 [16:22<3:50:50, 14.86s/it]"
     ]
    },
    {
     "name": "stdout",
     "output_type": "stream",
     "text": [
      "Time to: Calculate Ground State - 1.0s, Get Pauli Ops - 4.43s, Calculate Pauli Expectation Values - 6.43s, Calculate Covariance - 1.67s\n",
      "f0,f1,f2 = [5.872789808981673e-09, 5.872789808964088e-09, 5.8727898089757e-09]\n",
      "d01,d02,d12 = [1.2522676347463984, 1.2522676347482296, 1.2522676347470014]\n"
     ]
    },
    {
     "name": "stderr",
     "output_type": "stream",
     "text": [
      "Progress:   7%|▋         | 69/1000 [16:36<3:48:22, 14.72s/it]"
     ]
    },
    {
     "name": "stdout",
     "output_type": "stream",
     "text": [
      "Time to: Calculate Ground State - 1.33s, Get Pauli Ops - 4.17s, Calculate Pauli Expectation Values - 7.12s, Calculate Covariance - 1.75s\n",
      "f0,f1,f2 = [5.424089298239277e-09, 5.42408929822799e-09, 5.424089298225568e-09]\n",
      "d01,d02,d12 = [1.26238445275894, 1.2623844527609145, 1.2623844527595964]\n"
     ]
    },
    {
     "name": "stderr",
     "output_type": "stream",
     "text": [
      "Progress:   7%|▋         | 70/1000 [16:50<3:45:32, 14.55s/it]"
     ]
    },
    {
     "name": "stdout",
     "output_type": "stream",
     "text": [
      "Time to: Calculate Ground State - 1.26s, Get Pauli Ops - 4.49s, Calculate Pauli Expectation Values - 6.52s, Calculate Covariance - 1.88s\n",
      "f0,f1,f2 = [5.4367749932103125e-09, 5.436774993191051e-09, 5.436774993216328e-09]\n",
      "d01,d02,d12 = [1.2693674148285483, 1.2693674148306655, 1.269367414829253]\n"
     ]
    },
    {
     "name": "stderr",
     "output_type": "stream",
     "text": [
      "Progress:   7%|▋         | 71/1000 [17:05<3:45:32, 14.57s/it]"
     ]
    },
    {
     "name": "stdout",
     "output_type": "stream",
     "text": [
      "Time to: Calculate Ground State - 0.95s, Get Pauli Ops - 4.24s, Calculate Pauli Expectation Values - 7.61s, Calculate Covariance - 1.79s\n",
      "f0,f1,f2 = [4.742438158172745e-09, 4.742438158179482e-09, 4.742438158166604e-09]\n",
      "d01,d02,d12 = [1.2727785178970796, 1.2727785178993414, 1.2727785178978355]\n"
     ]
    },
    {
     "name": "stderr",
     "output_type": "stream",
     "text": [
      "Progress:   7%|▋         | 72/1000 [17:20<3:46:48, 14.66s/it]"
     ]
    },
    {
     "name": "stdout",
     "output_type": "stream",
     "text": [
      "Time to: Calculate Ground State - 1.29s, Get Pauli Ops - 4.54s, Calculate Pauli Expectation Values - 7.01s, Calculate Covariance - 2.05s\n",
      "f0,f1,f2 = [5.250066019323252e-09, 5.250066019326908e-09, 5.250066019339573e-09]\n",
      "d01,d02,d12 = [1.2732669809871813, 1.2732669809895867, 1.2732669809879842]\n"
     ]
    },
    {
     "name": "stderr",
     "output_type": "stream",
     "text": [
      "Progress:   7%|▋         | 73/1000 [17:35<3:47:38, 14.73s/it]"
     ]
    },
    {
     "name": "stdout",
     "output_type": "stream",
     "text": [
      "Time to: Calculate Ground State - 1.0s, Get Pauli Ops - 6.31s, Calculate Pauli Expectation Values - 6.04s, Calculate Covariance - 1.53s\n",
      "f0,f1,f2 = [6.534616144991948e-09, 6.534616144985479e-09, 6.534616144997685e-09]\n",
      "d01,d02,d12 = [1.2710494438670867, 1.27104944386963, 1.2710494438679358]\n"
     ]
    },
    {
     "name": "stderr",
     "output_type": "stream",
     "text": [
      "/cluster/home/mskrabulis/miniconda3/envs/quantech/lib/python3.9/site-packages/pyscf/symm/Dmatrix.py:156: RuntimeWarning: invalid value encountered in arccos\n",
      "  gamma = numpy.arccos(yp.dot(c2[1]))\n",
      "Progress:   7%|▋         | 74/1000 [17:51<3:53:43, 15.14s/it]"
     ]
    },
    {
     "name": "stdout",
     "output_type": "stream",
     "text": [
      "Time to: Calculate Ground State - 0.96s, Get Pauli Ops - 4.42s, Calculate Pauli Expectation Values - 8.94s, Calculate Covariance - 1.77s\n",
      "f0,f1,f2 = [5.80106743010186e-09, 5.801067430100666e-09, 5.801067430109263e-09]\n",
      "d01,d02,d12 = [1.2665133838194862, 1.2665133838221643, 1.2665133838203828]\n"
     ]
    },
    {
     "name": "stderr",
     "output_type": "stream",
     "text": [
      "Progress:   8%|▊         | 75/1000 [18:06<3:52:53, 15.11s/it]"
     ]
    },
    {
     "name": "stdout",
     "output_type": "stream",
     "text": [
      "Time to: Calculate Ground State - 1.0s, Get Pauli Ops - 5.94s, Calculate Pauli Expectation Values - 6.52s, Calculate Covariance - 1.55s\n",
      "f0,f1,f2 = [5.4402607045705565e-09, 5.4402607045552355e-09, 5.440260704559206e-09]\n",
      "d01,d02,d12 = [1.259556310140396, 1.259556310143199, 1.2595563101413405]\n"
     ]
    },
    {
     "name": "stderr",
     "output_type": "stream",
     "text": [
      "Progress:   8%|▊         | 76/1000 [18:23<4:00:07, 15.59s/it]"
     ]
    },
    {
     "name": "stdout",
     "output_type": "stream",
     "text": [
      "Time to: Calculate Ground State - 1.03s, Get Pauli Ops - 7.88s, Calculate Pauli Expectation Values - 5.97s, Calculate Covariance - 1.82s\n",
      "f0,f1,f2 = [5.946162289889667e-09, 5.94616228988702e-09, 5.946162289892947e-09]\n",
      "d01,d02,d12 = [1.2495586991679333, 1.249558699170852, 1.2495586991689211]\n"
     ]
    },
    {
     "name": "stderr",
     "output_type": "stream",
     "text": [
      "/cluster/home/mskrabulis/miniconda3/envs/quantech/lib/python3.9/site-packages/pyscf/symm/Dmatrix.py:156: RuntimeWarning: invalid value encountered in arccos\n",
      "  gamma = numpy.arccos(yp.dot(c2[1]))\n",
      "Progress:   8%|▊         | 77/1000 [18:36<3:51:08, 15.03s/it]"
     ]
    },
    {
     "name": "stdout",
     "output_type": "stream",
     "text": [
      "Time to: Calculate Ground State - 1.06s, Get Pauli Ops - 4.03s, Calculate Pauli Expectation Values - 6.44s, Calculate Covariance - 2.17s\n",
      "f0,f1,f2 = [6.142490023267448e-09, 6.142490023272268e-09, 6.1424900232647496e-09]\n",
      "d01,d02,d12 = [1.236310970961334, 1.2363109709643787, 1.2363109709623714]\n"
     ]
    },
    {
     "name": "stderr",
     "output_type": "stream",
     "text": [
      "Progress:   8%|▊         | 78/1000 [18:51<3:48:32, 14.87s/it]"
     ]
    },
    {
     "name": "stdout",
     "output_type": "stream",
     "text": [
      "Time to: Calculate Ground State - 1.28s, Get Pauli Ops - 4.84s, Calculate Pauli Expectation Values - 6.11s, Calculate Covariance - 2.27s\n",
      "f0,f1,f2 = [3.6460613975391668e-09, 3.6460613975277848e-09, 3.6460613975454906e-09]\n",
      "d01,d02,d12 = [1.2215830121708002, 1.2215830121739821, 1.2215830121718965]\n"
     ]
    },
    {
     "name": "stderr",
     "output_type": "stream",
     "text": [
      "Progress:   8%|▊         | 79/1000 [19:06<3:49:51, 14.97s/it]"
     ]
    },
    {
     "name": "stdout",
     "output_type": "stream",
     "text": [
      "Time to: Calculate Ground State - 1.11s, Get Pauli Ops - 4.65s, Calculate Pauli Expectation Values - 7.32s, Calculate Covariance - 2.13s\n",
      "f0,f1,f2 = [6.133269347390975e-09, 6.133269347385398e-09, 6.133269347400919e-09]\n",
      "d01,d02,d12 = [1.204104357856175, 1.2041043578594983, 1.2041043578573332]\n"
     ]
    },
    {
     "name": "stderr",
     "output_type": "stream",
     "text": [
      "Progress:   8%|▊         | 80/1000 [19:22<3:52:24, 15.16s/it]"
     ]
    },
    {
     "name": "stdout",
     "output_type": "stream",
     "text": [
      "Time to: Calculate Ground State - 1.24s, Get Pauli Ops - 4.64s, Calculate Pauli Expectation Values - 7.71s, Calculate Covariance - 1.99s\n",
      "f0,f1,f2 = [5.886853450220078e-09, 5.886853450212991e-09, 5.88685345022825e-09]\n",
      "d01,d02,d12 = [1.1847790229761805, 1.184779022979621, 1.1847790229773916]\n"
     ]
    },
    {
     "name": "stderr",
     "output_type": "stream",
     "text": [
      "Progress:   8%|▊         | 81/1000 [19:38<3:57:48, 15.53s/it]"
     ]
    },
    {
     "name": "stdout",
     "output_type": "stream",
     "text": [
      "Time to: Calculate Ground State - 1.34s, Get Pauli Ops - 4.87s, Calculate Pauli Expectation Values - 8.54s, Calculate Covariance - 1.63s\n",
      "f0,f1,f2 = [4.515554741077123e-09, 4.515554741075651e-09, 4.51555474108463e-09]\n",
      "d01,d02,d12 = [1.1658615551119316, 1.1658615551154827, 1.165861555113193]\n"
     ]
    },
    {
     "name": "stderr",
     "output_type": "stream",
     "text": [
      "Progress:   8%|▊         | 82/1000 [19:53<3:55:37, 15.40s/it]"
     ]
    },
    {
     "name": "stdout",
     "output_type": "stream",
     "text": [
      "Time to: Calculate Ground State - 1.29s, Get Pauli Ops - 5.32s, Calculate Pauli Expectation Values - 6.15s, Calculate Covariance - 2.34s\n",
      "f0,f1,f2 = [4.543739067760034e-09, 4.543739067748759e-09, 4.5437390677659225e-09]\n",
      "d01,d02,d12 = [1.145674579705693, 1.145674579709389, 1.1456745797070034]\n"
     ]
    },
    {
     "name": "stderr",
     "output_type": "stream",
     "text": [
      "/cluster/home/mskrabulis/miniconda3/envs/quantech/lib/python3.9/site-packages/pyscf/symm/Dmatrix.py:156: RuntimeWarning: invalid value encountered in arccos\n",
      "  gamma = numpy.arccos(yp.dot(c2[1]))\n",
      "Progress:   8%|▊         | 83/1000 [20:09<3:58:05, 15.58s/it]"
     ]
    },
    {
     "name": "stdout",
     "output_type": "stream",
     "text": [
      "Time to: Calculate Ground State - 1.12s, Get Pauli Ops - 7.08s, Calculate Pauli Expectation Values - 6.13s, Calculate Covariance - 1.66s\n",
      "f0,f1,f2 = [4.1988041749002024e-09, 4.1988041748906295e-09, 4.198804174904876e-09]\n",
      "d01,d02,d12 = [1.1249169393097218, 1.1249169393135574, 1.1249169393110694]\n"
     ]
    },
    {
     "name": "stderr",
     "output_type": "stream",
     "text": [
      "/cluster/home/mskrabulis/miniconda3/envs/quantech/lib/python3.9/site-packages/pyscf/symm/Dmatrix.py:156: RuntimeWarning: invalid value encountered in arccos\n",
      "  gamma = numpy.arccos(yp.dot(c2[1]))\n",
      "Progress:   8%|▊         | 84/1000 [20:23<3:49:04, 15.01s/it]"
     ]
    },
    {
     "name": "stdout",
     "output_type": "stream",
     "text": [
      "Time to: Calculate Ground State - 1.35s, Get Pauli Ops - 4.76s, Calculate Pauli Expectation Values - 5.95s, Calculate Covariance - 1.61s\n",
      "f0,f1,f2 = [4.644714070215508e-09, 4.644714070191192e-09, 4.644714070217828e-09]\n",
      "d01,d02,d12 = [1.103266878830886, 1.1032668788348228, 1.103266878832262]\n"
     ]
    },
    {
     "name": "stderr",
     "output_type": "stream",
     "text": [
      "Progress:   8%|▊         | 85/1000 [20:37<3:46:52, 14.88s/it]"
     ]
    },
    {
     "name": "stdout",
     "output_type": "stream",
     "text": [
      "Time to: Calculate Ground State - 1.36s, Get Pauli Ops - 4.45s, Calculate Pauli Expectation Values - 6.9s, Calculate Covariance - 1.86s\n",
      "f0,f1,f2 = [3.69941273895189e-09, 3.6994127389081435e-09, 3.6994127389772048e-09]\n",
      "d01,d02,d12 = [1.0800153613898442, 1.0800153613938013, 1.080015361391218]\n"
     ]
    },
    {
     "name": "stderr",
     "output_type": "stream",
     "text": [
      "Progress:   9%|▊         | 86/1000 [20:52<3:46:27, 14.87s/it]"
     ]
    },
    {
     "name": "stdout",
     "output_type": "stream",
     "text": [
      "Time to: Calculate Ground State - 0.78s, Get Pauli Ops - 6.45s, Calculate Pauli Expectation Values - 5.55s, Calculate Covariance - 2.05s\n",
      "f0,f1,f2 = [2.7075849739806924e-09, 2.707584973952766e-09, 2.7075849739885283e-09]\n",
      "d01,d02,d12 = [1.0537225086745825, 1.0537225086785422, 1.0537225086759272]\n"
     ]
    },
    {
     "name": "stderr",
     "output_type": "stream",
     "text": [
      "Progress:   9%|▊         | 87/1000 [21:08<3:49:51, 15.11s/it]"
     ]
    },
    {
     "name": "stdout",
     "output_type": "stream",
     "text": [
      "Time to: Calculate Ground State - 1.04s, Get Pauli Ops - 4.97s, Calculate Pauli Expectation Values - 7.77s, Calculate Covariance - 1.88s\n",
      "f0,f1,f2 = [1.6750266417783557e-09, 1.675026641744861e-09, 1.6750266418124589e-09]\n",
      "d01,d02,d12 = [1.024521813621332, 1.024521813625238, 1.0245218136226226]\n"
     ]
    },
    {
     "name": "stderr",
     "output_type": "stream",
     "text": [
      "Progress:   9%|▉         | 88/1000 [21:22<3:44:09, 14.75s/it]"
     ]
    },
    {
     "name": "stdout",
     "output_type": "stream",
     "text": [
      "Time to: Calculate Ground State - 1.1s, Get Pauli Ops - 4.78s, Calculate Pauli Expectation Values - 5.99s, Calculate Covariance - 2.03s\n",
      "f0,f1,f2 = [1.3482614228304325e-09, 1.3482614228045651e-09, 1.3482614228531426e-09]\n",
      "d01,d02,d12 = [0.9893755437843998, 0.9893755437882301, 0.9893755437856355]\n"
     ]
    },
    {
     "name": "stderr",
     "output_type": "stream",
     "text": [
      "Progress:   9%|▉         | 89/1000 [21:40<4:01:04, 15.88s/it]"
     ]
    },
    {
     "name": "stdout",
     "output_type": "stream",
     "text": [
      "Time to: Calculate Ground State - 1.1s, Get Pauli Ops - 9.81s, Calculate Pauli Expectation Values - 5.59s, Calculate Covariance - 2.01s\n",
      "f0,f1,f2 = [2.299677968562423e-10, 2.2996779681118385e-10, 2.2996779689377814e-10]\n",
      "d01,d02,d12 = [0.9526807500416777, 0.9526807500453043, 0.9526807500428124]\n"
     ]
    },
    {
     "name": "stderr",
     "output_type": "stream",
     "text": [
      "Progress:   9%|▉         | 90/1000 [21:54<3:52:50, 15.35s/it]"
     ]
    },
    {
     "name": "stdout",
     "output_type": "stream",
     "text": [
      "Time to: Calculate Ground State - 1.31s, Get Pauli Ops - 4.83s, Calculate Pauli Expectation Values - 6.19s, Calculate Covariance - 1.79s\n",
      "f0,f1,f2 = [1.3920861096373972e-09, 1.3920861096868943e-09, 1.3920861096255214e-09]\n",
      "d01,d02,d12 = [0.918234762512856, 0.9182347625162743, 0.9182347625138697]\n"
     ]
    },
    {
     "name": "stderr",
     "output_type": "stream",
     "text": [
      "/cluster/home/mskrabulis/miniconda3/envs/quantech/lib/python3.9/site-packages/pyscf/symm/Dmatrix.py:156: RuntimeWarning: invalid value encountered in arccos\n",
      "  gamma = numpy.arccos(yp.dot(c2[1]))\n",
      "Progress:   9%|▉         | 91/1000 [22:08<3:43:34, 14.76s/it]"
     ]
    },
    {
     "name": "stdout",
     "output_type": "stream",
     "text": [
      "Time to: Calculate Ground State - 1.05s, Get Pauli Ops - 4.54s, Calculate Pauli Expectation Values - 5.95s, Calculate Covariance - 1.83s\n",
      "f0,f1,f2 = [1.8729321813409763e-09, 1.872932181395845e-09, 1.8729321813033437e-09]\n",
      "d01,d02,d12 = [0.8833436577939895, 0.8833436577971632, 0.883343657794872]\n"
     ]
    },
    {
     "name": "stderr",
     "output_type": "stream",
     "text": [
      "Progress:   9%|▉         | 92/1000 [22:23<3:47:06, 15.01s/it]"
     ]
    },
    {
     "name": "stdout",
     "output_type": "stream",
     "text": [
      "Time to: Calculate Ground State - 1.05s, Get Pauli Ops - 6.81s, Calculate Pauli Expectation Values - 5.68s, Calculate Covariance - 2.05s\n",
      "f0,f1,f2 = [5.7378219071673464e-09, 5.73782190721926e-09, 5.737821907145437e-09]\n",
      "d01,d02,d12 = [0.8521932966226309, 0.8521932966254855, 0.8521932966233702]\n"
     ]
    },
    {
     "name": "stderr",
     "output_type": "stream",
     "text": [
      "Progress:   9%|▉         | 93/1000 [22:40<3:51:53, 15.34s/it]"
     ]
    },
    {
     "name": "stdout",
     "output_type": "stream",
     "text": [
      "Time to: Calculate Ground State - 1.02s, Get Pauli Ops - 6.87s, Calculate Pauli Expectation Values - 6.08s, Calculate Covariance - 2.14s\n",
      "f0,f1,f2 = [7.587264176990309e-09, 7.587264177064509e-09, 7.587264176974857e-09]\n",
      "d01,d02,d12 = [0.8265797355018529, 0.8265797355043847, 0.8265797355024612]\n"
     ]
    },
    {
     "name": "stderr",
     "output_type": "stream",
     "text": [
      "/cluster/home/mskrabulis/miniconda3/envs/quantech/lib/python3.9/site-packages/pyscf/symm/Dmatrix.py:156: RuntimeWarning: invalid value encountered in arccos\n",
      "  gamma = numpy.arccos(yp.dot(c2[1]))\n",
      "Progress:   9%|▉         | 94/1000 [22:55<3:53:20, 15.45s/it]"
     ]
    },
    {
     "name": "stdout",
     "output_type": "stream",
     "text": [
      "Time to: Calculate Ground State - 0.76s, Get Pauli Ops - 4.27s, Calculate Pauli Expectation Values - 8.93s, Calculate Covariance - 1.74s\n",
      "f0,f1,f2 = [9.933989661456851e-09, 9.933989661525636e-09, 9.933989661434606e-09]\n",
      "d01,d02,d12 = [0.8063964114948042, 0.8063964114970337, 0.8063964114952851]\n"
     ]
    },
    {
     "name": "stderr",
     "output_type": "stream",
     "text": [
      "/cluster/home/mskrabulis/miniconda3/envs/quantech/lib/python3.9/site-packages/pyscf/symm/Dmatrix.py:156: RuntimeWarning: invalid value encountered in arccos\n",
      "  gamma = numpy.arccos(yp.dot(c2[1]))\n",
      "Progress:  10%|▉         | 95/1000 [23:09<3:44:07, 14.86s/it]"
     ]
    },
    {
     "name": "stdout",
     "output_type": "stream",
     "text": [
      "Time to: Calculate Ground State - 1.06s, Get Pauli Ops - 4.0s, Calculate Pauli Expectation Values - 6.15s, Calculate Covariance - 2.26s\n",
      "f0,f1,f2 = [1.1951293236535155e-08, 1.1951293236592766e-08, 1.1951293236537317e-08]\n",
      "d01,d02,d12 = [0.7914174023194283, 0.7914174023214029, 0.7914174023197865]\n"
     ]
    },
    {
     "name": "stderr",
     "output_type": "stream",
     "text": [
      "Progress:  10%|▉         | 96/1000 [23:23<3:41:52, 14.73s/it]"
     ]
    },
    {
     "name": "stdout",
     "output_type": "stream",
     "text": [
      "Time to: Calculate Ground State - 0.88s, Get Pauli Ops - 4.84s, Calculate Pauli Expectation Values - 6.9s, Calculate Covariance - 1.78s\n",
      "f0,f1,f2 = [1.4234088987418719e-08, 1.4234088987483112e-08, 1.4234088987410141e-08]\n",
      "d01,d02,d12 = [0.781799390805623, 0.7817993908073055, 0.781799390805849]\n"
     ]
    },
    {
     "name": "stderr",
     "output_type": "stream",
     "text": [
      "Progress:  10%|▉         | 97/1000 [23:42<3:59:11, 15.89s/it]"
     ]
    },
    {
     "name": "stdout",
     "output_type": "stream",
     "text": [
      "Time to: Calculate Ground State - 1.22s, Get Pauli Ops - 5.15s, Calculate Pauli Expectation Values - 9.87s, Calculate Covariance - 2.36s\n",
      "f0,f1,f2 = [1.3937539810177158e-08, 1.3937539810241619e-08, 1.39375398101663e-08]\n",
      "d01,d02,d12 = [0.7776797400602067, 0.7776797400615573, 0.777679740060297]\n"
     ]
    },
    {
     "name": "stderr",
     "output_type": "stream",
     "text": [
      "Progress:  10%|▉         | 98/1000 [23:57<3:56:07, 15.71s/it]"
     ]
    },
    {
     "name": "stdout",
     "output_type": "stream",
     "text": [
      "Time to: Calculate Ground State - 1.31s, Get Pauli Ops - 5.34s, Calculate Pauli Expectation Values - 6.19s, Calculate Covariance - 2.43s\n",
      "f0,f1,f2 = [1.4707623713573441e-08, 1.4707623713621452e-08, 1.4707623713554388e-08]\n",
      "d01,d02,d12 = [0.7792552407611539, 0.7792552407621419, 0.7792552407611052]\n"
     ]
    },
    {
     "name": "stderr",
     "output_type": "stream",
     "text": [
      "Progress:  10%|▉         | 99/1000 [24:12<3:53:19, 15.54s/it]"
     ]
    },
    {
     "name": "stdout",
     "output_type": "stream",
     "text": [
      "Time to: Calculate Ground State - 1.34s, Get Pauli Ops - 5.77s, Calculate Pauli Expectation Values - 5.82s, Calculate Covariance - 2.21s\n",
      "f0,f1,f2 = [1.4527311188504221e-08, 1.4527311188562092e-08, 1.452731118852187e-08]\n",
      "d01,d02,d12 = [0.7866941840274702, 0.7866941840280781, 0.7866941840272856]\n"
     ]
    },
    {
     "name": "stderr",
     "output_type": "stream",
     "text": [
      "/cluster/home/mskrabulis/miniconda3/envs/quantech/lib/python3.9/site-packages/pyscf/symm/Dmatrix.py:156: RuntimeWarning: invalid value encountered in arccos\n",
      "  gamma = numpy.arccos(yp.dot(c2[1]))\n",
      "Progress:  10%|█         | 100/1000 [24:29<3:58:58, 15.93s/it]"
     ]
    },
    {
     "name": "stdout",
     "output_type": "stream",
     "text": [
      "Time to: Calculate Ground State - 1.32s, Get Pauli Ops - 6.96s, Calculate Pauli Expectation Values - 6.4s, Calculate Covariance - 2.15s\n",
      "f0,f1,f2 = [1.4223916549326191e-08, 1.4223916549367064e-08, 1.4223916549325022e-08]\n",
      "d01,d02,d12 = [0.799261699794301, 0.799261699794516, 0.799261699793985]\n"
     ]
    },
    {
     "name": "stderr",
     "output_type": "stream",
     "text": [
      "Progress:  10%|█         | 101/1000 [24:45<3:58:00, 15.89s/it]"
     ]
    },
    {
     "name": "stdout",
     "output_type": "stream",
     "text": [
      "Time to: Calculate Ground State - 1.01s, Get Pauli Ops - 5.36s, Calculate Pauli Expectation Values - 7.51s, Calculate Covariance - 1.89s\n",
      "f0,f1,f2 = [1.2740956790244233e-08, 1.2740956790271482e-08, 1.2740956790254333e-08]\n",
      "d01,d02,d12 = [0.8160321562248066, 0.8160321562246234, 0.8160321562243658]\n"
     ]
    },
    {
     "name": "stderr",
     "output_type": "stream",
     "text": [
      "/cluster/home/mskrabulis/miniconda3/envs/quantech/lib/python3.9/site-packages/pyscf/symm/Dmatrix.py:156: RuntimeWarning: invalid value encountered in arccos\n",
      "  gamma = numpy.arccos(yp.dot(c2[1]))\n",
      "Progress:  10%|█         | 102/1000 [24:58<3:44:38, 15.01s/it]"
     ]
    },
    {
     "name": "stdout",
     "output_type": "stream",
     "text": [
      "Time to: Calculate Ground State - 1.0s, Get Pauli Ops - 4.63s, Calculate Pauli Expectation Values - 5.81s, Calculate Covariance - 1.52s\n",
      "f0,f1,f2 = [1.0605172151177244e-08, 1.0605172151197143e-08, 1.0605172151200232e-08]\n",
      "d01,d02,d12 = [0.8392665565846679, 0.8392665565840854, 0.8392665565841004]\n"
     ]
    },
    {
     "name": "stderr",
     "output_type": "stream",
     "text": [
      "/cluster/home/mskrabulis/miniconda3/envs/quantech/lib/python3.9/site-packages/pyscf/symm/Dmatrix.py:156: RuntimeWarning: invalid value encountered in arccos\n",
      "  gamma = numpy.arccos(yp.dot(c2[1]))\n",
      "/cluster/home/mskrabulis/miniconda3/envs/quantech/lib/python3.9/site-packages/pyscf/symm/Dmatrix.py:156: RuntimeWarning: invalid value encountered in arccos\n",
      "  gamma = numpy.arccos(yp.dot(c2[1]))\n",
      "Progress:  10%|█         | 103/1000 [25:11<3:38:01, 14.58s/it]"
     ]
    },
    {
     "name": "stdout",
     "output_type": "stream",
     "text": [
      "Time to: Calculate Ground State - 0.75s, Get Pauli Ops - 4.39s, Calculate Pauli Expectation Values - 6.61s, Calculate Covariance - 1.84s\n",
      "f0,f1,f2 = [8.794422461231653e-09, 8.794422461227447e-09, 8.794422461239962e-09]\n",
      "d01,d02,d12 = [0.8631875701002447, 0.8631875700992747, 0.8631875700995816]\n"
     ]
    },
    {
     "name": "stderr",
     "output_type": "stream",
     "text": [
      "Progress:  10%|█         | 104/1000 [25:24<3:28:23, 13.96s/it]"
     ]
    },
    {
     "name": "stdout",
     "output_type": "stream",
     "text": [
      "Time to: Calculate Ground State - 0.78s, Get Pauli Ops - 4.4s, Calculate Pauli Expectation Values - 5.57s, Calculate Covariance - 1.73s\n",
      "f0,f1,f2 = [6.453357769478401e-09, 6.453357769453863e-09, 6.453357769481988e-09]\n",
      "d01,d02,d12 = [0.8891836588313178, 0.8891836588299699, 0.8891836588305504]\n"
     ]
    },
    {
     "name": "stderr",
     "output_type": "stream",
     "text": [
      "Progress:  10%|█         | 105/1000 [25:40<3:39:18, 14.70s/it]"
     ]
    },
    {
     "name": "stdout",
     "output_type": "stream",
     "text": [
      "Time to: Calculate Ground State - 1.4s, Get Pauli Ops - 4.36s, Calculate Pauli Expectation Values - 8.74s, Calculate Covariance - 1.93s\n",
      "f0,f1,f2 = [4.359111232615532e-09, 4.359111232611727e-09, 4.359111232632015e-09]\n",
      "d01,d02,d12 = [0.9175408422857922, 0.9175408422840663, 0.9175408422849293]\n"
     ]
    },
    {
     "name": "stderr",
     "output_type": "stream",
     "text": [
      "Progress:  11%|█         | 106/1000 [25:58<3:52:42, 15.62s/it]"
     ]
    },
    {
     "name": "stdout",
     "output_type": "stream",
     "text": [
      "Time to: Calculate Ground State - 0.92s, Get Pauli Ops - 7.47s, Calculate Pauli Expectation Values - 7.04s, Calculate Covariance - 2.32s\n",
      "f0,f1,f2 = [2.8722906559137318e-09, 2.8722906558905624e-09, 2.8722906559285834e-09]\n",
      "d01,d02,d12 = [0.9493375039557969, 0.9493375039536857, 0.9493375039548378]\n"
     ]
    },
    {
     "name": "stderr",
     "output_type": "stream",
     "text": [
      "/cluster/home/mskrabulis/miniconda3/envs/quantech/lib/python3.9/site-packages/pyscf/symm/Dmatrix.py:156: RuntimeWarning: invalid value encountered in arccos\n",
      "  gamma = numpy.arccos(yp.dot(c2[1]))\n",
      "Progress:  11%|█         | 107/1000 [26:14<3:54:18, 15.74s/it]"
     ]
    },
    {
     "name": "stdout",
     "output_type": "stream",
     "text": [
      "Time to: Calculate Ground State - 1.07s, Get Pauli Ops - 6.88s, Calculate Pauli Expectation Values - 6.13s, Calculate Covariance - 1.95s\n",
      "f0,f1,f2 = [1.5927446217395426e-09, 1.592744621711669e-09, 1.5927446217565585e-09]\n",
      "d01,d02,d12 = [0.9826967150953443, 0.9826967150928688, 0.982696715094301]\n"
     ]
    },
    {
     "name": "stderr",
     "output_type": "stream",
     "text": [
      "Progress:  11%|█         | 108/1000 [26:29<3:48:30, 15.37s/it]"
     ]
    },
    {
     "name": "stdout",
     "output_type": "stream",
     "text": [
      "Time to: Calculate Ground State - 1.2s, Get Pauli Ops - 5.0s, Calculate Pauli Expectation Values - 6.08s, Calculate Covariance - 2.21s\n",
      "f0,f1,f2 = [2.8859674383262817e-10, 2.8859674382249846e-10, 2.8859674385339697e-10]\n",
      "d01,d02,d12 = [1.0137865882182764, 1.0137865882154848, 1.0137865882171841]\n"
     ]
    },
    {
     "name": "stderr",
     "output_type": "stream",
     "text": [
      "Progress:  11%|█         | 109/1000 [26:43<3:45:48, 15.21s/it]"
     ]
    },
    {
     "name": "stdout",
     "output_type": "stream",
     "text": [
      "Time to: Calculate Ground State - 1.07s, Get Pauli Ops - 5.33s, Calculate Pauli Expectation Values - 6.18s, Calculate Covariance - 2.23s\n",
      "f0,f1,f2 = [4.234522205626326e-10, 4.234522205932242e-10, 4.234522205466788e-10]\n",
      "d01,d02,d12 = [1.043403040116392, 1.0434030401132661, 1.0434030401152616]\n"
     ]
    },
    {
     "name": "stderr",
     "output_type": "stream",
     "text": [
      "/cluster/home/mskrabulis/miniconda3/envs/quantech/lib/python3.9/site-packages/pyscf/symm/Dmatrix.py:156: RuntimeWarning: invalid value encountered in arccos\n",
      "  gamma = numpy.arccos(yp.dot(c2[1]))\n",
      "Progress:  11%|█         | 110/1000 [26:59<3:45:15, 15.19s/it]"
     ]
    },
    {
     "name": "stdout",
     "output_type": "stream",
     "text": [
      "Time to: Calculate Ground State - 1.34s, Get Pauli Ops - 5.34s, Calculate Pauli Expectation Values - 6.25s, Calculate Covariance - 2.19s\n",
      "f0,f1,f2 = [2.119857552582554e-09, 2.119857552613447e-09, 2.1198575525896107e-09]\n",
      "d01,d02,d12 = [1.0740378604683625, 1.0740378604648984, 1.0740378604671759]\n"
     ]
    },
    {
     "name": "stderr",
     "output_type": "stream",
     "text": [
      "/cluster/home/mskrabulis/miniconda3/envs/quantech/lib/python3.9/site-packages/pyscf/symm/Dmatrix.py:156: RuntimeWarning: invalid value encountered in arccos\n",
      "  gamma = numpy.arccos(yp.dot(c2[1]))\n",
      "Progress:  11%|█         | 111/1000 [27:14<3:47:20, 15.34s/it]"
     ]
    },
    {
     "name": "stdout",
     "output_type": "stream",
     "text": [
      "Time to: Calculate Ground State - 1.03s, Get Pauli Ops - 5.16s, Calculate Pauli Expectation Values - 7.25s, Calculate Covariance - 2.26s\n",
      "f0,f1,f2 = [3.948782222503418e-09, 3.948782222522981e-09, 3.948782222496098e-09]\n",
      "d01,d02,d12 = [1.1064099585176588, 1.1064099585138292, 1.1064099585164076]\n"
     ]
    },
    {
     "name": "stderr",
     "output_type": "stream",
     "text": [
      "Progress:  11%|█         | 112/1000 [27:33<4:01:22, 16.31s/it]"
     ]
    },
    {
     "name": "stdout",
     "output_type": "stream",
     "text": [
      "Time to: Calculate Ground State - 1.03s, Get Pauli Ops - 7.72s, Calculate Pauli Expectation Values - 7.78s, Calculate Covariance - 2.03s\n",
      "f0,f1,f2 = [3.3482943575784286e-09, 3.3482943575905116e-09, 3.3482943575571816e-09]\n",
      "d01,d02,d12 = [1.1368814881353102, 1.1368814881311113, 1.1368814881339893]\n"
     ]
    },
    {
     "name": "stderr",
     "output_type": "stream",
     "text": [
      "Progress:  11%|█▏        | 113/1000 [27:51<4:07:08, 16.72s/it]"
     ]
    },
    {
     "name": "stdout",
     "output_type": "stream",
     "text": [
      "Time to: Calculate Ground State - 1.25s, Get Pauli Ops - 8.09s, Calculate Pauli Expectation Values - 6.16s, Calculate Covariance - 2.16s\n",
      "f0,f1,f2 = [3.941996996645792e-09, 3.941996996655434e-09, 3.941996996639965e-09]\n",
      "d01,d02,d12 = [1.1638160961859256, 1.1638160961813395, 1.1638160961845219]\n"
     ]
    },
    {
     "name": "stderr",
     "output_type": "stream",
     "text": [
      "Progress:  11%|█▏        | 114/1000 [28:08<4:09:33, 16.90s/it]"
     ]
    },
    {
     "name": "stdout",
     "output_type": "stream",
     "text": [
      "Time to: Calculate Ground State - 1.38s, Get Pauli Ops - 8.1s, Calculate Pauli Expectation Values - 5.97s, Calculate Covariance - 1.87s\n",
      "f0,f1,f2 = [6.107931850796057e-09, 6.107931850824904e-09, 6.107931850784372e-09]\n",
      "d01,d02,d12 = [1.1905368009875241, 1.1905368009826018, 1.1905368009860609]\n"
     ]
    },
    {
     "name": "stderr",
     "output_type": "stream",
     "text": [
      "/cluster/home/mskrabulis/miniconda3/envs/quantech/lib/python3.9/site-packages/pyscf/symm/Dmatrix.py:156: RuntimeWarning: invalid value encountered in arccos\n",
      "  gamma = numpy.arccos(yp.dot(c2[1]))\n",
      "Progress:  12%|█▏        | 115/1000 [28:25<4:09:03, 16.88s/it]"
     ]
    },
    {
     "name": "stdout",
     "output_type": "stream",
     "text": [
      "Time to: Calculate Ground State - 1.15s, Get Pauli Ops - 7.62s, Calculate Pauli Expectation Values - 6.36s, Calculate Covariance - 1.71s\n",
      "f0,f1,f2 = [6.268800363632358e-09, 6.2688003636439346e-09, 6.2688003636267805e-09]\n",
      "d01,d02,d12 = [1.2185241884338498, 1.2185241884286429, 1.2185241884323301]\n"
     ]
    },
    {
     "name": "stderr",
     "output_type": "stream",
     "text": [
      "Progress:  12%|█▏        | 116/1000 [28:43<4:13:01, 17.17s/it]"
     ]
    },
    {
     "name": "stdout",
     "output_type": "stream",
     "text": [
      "Time to: Calculate Ground State - 1.02s, Get Pauli Ops - 7.98s, Calculate Pauli Expectation Values - 6.33s, Calculate Covariance - 2.51s\n",
      "f0,f1,f2 = [4.666625654002127e-09, 4.66662565403107e-09, 4.666625654008775e-09]\n",
      "d01,d02,d12 = [1.2409918355463336, 1.2409918355407854, 1.2409918355447283]\n"
     ]
    },
    {
     "name": "stderr",
     "output_type": "stream",
     "text": [
      "Progress:  12%|█▏        | 117/1000 [28:57<3:58:56, 16.24s/it]"
     ]
    },
    {
     "name": "stdout",
     "output_type": "stream",
     "text": [
      "Time to: Calculate Ground State - 1.0s, Get Pauli Ops - 4.95s, Calculate Pauli Expectation Values - 6.05s, Calculate Covariance - 2.03s\n",
      "f0,f1,f2 = [6.0359839192457574e-09, 6.035983919264909e-09, 6.035983919240229e-09]\n",
      "d01,d02,d12 = [1.2623034647455054, 1.262303464739663, 1.2623034647438238]\n"
     ]
    },
    {
     "name": "stderr",
     "output_type": "stream",
     "text": [
      "/cluster/home/mskrabulis/miniconda3/envs/quantech/lib/python3.9/site-packages/pyscf/symm/Dmatrix.py:156: RuntimeWarning: invalid value encountered in arccos\n",
      "  gamma = numpy.arccos(yp.dot(c2[1]))\n",
      "Progress:  12%|█▏        | 118/1000 [29:11<3:49:38, 15.62s/it]"
     ]
    },
    {
     "name": "stdout",
     "output_type": "stream",
     "text": [
      "Time to: Calculate Ground State - 0.99s, Get Pauli Ops - 5.27s, Calculate Pauli Expectation Values - 5.76s, Calculate Covariance - 2.16s\n",
      "f0,f1,f2 = [6.216127624651044e-09, 6.216127624663675e-09, 6.216127624643224e-09]\n",
      "d01,d02,d12 = [1.278347883208629, 1.278347883202481, 1.2783478832068844]\n"
     ]
    },
    {
     "name": "stderr",
     "output_type": "stream",
     "text": [
      "/cluster/home/mskrabulis/miniconda3/envs/quantech/lib/python3.9/site-packages/pyscf/symm/Dmatrix.py:156: RuntimeWarning: invalid value encountered in arccos\n",
      "  gamma = numpy.arccos(yp.dot(c2[1]))\n",
      "/cluster/home/mskrabulis/miniconda3/envs/quantech/lib/python3.9/site-packages/pyscf/symm/Dmatrix.py:156: RuntimeWarning: invalid value encountered in arccos\n",
      "  gamma = numpy.arccos(yp.dot(c2[1]))\n",
      "Progress:  12%|█▏        | 119/1000 [29:25<3:45:14, 15.34s/it]"
     ]
    },
    {
     "name": "stdout",
     "output_type": "stream",
     "text": [
      "Time to: Calculate Ground State - 1.33s, Get Pauli Ops - 5.2s, Calculate Pauli Expectation Values - 6.09s, Calculate Covariance - 2.05s\n",
      "f0,f1,f2 = [5.4818181798465946e-09, 5.481818179854889e-09, 5.481818179846494e-09]\n",
      "d01,d02,d12 = [1.291276592254969, 1.2912765922485412, 1.2912765922531693]\n"
     ]
    },
    {
     "name": "stderr",
     "output_type": "stream",
     "text": [
      "Progress:  12%|█▏        | 120/1000 [29:42<3:50:39, 15.73s/it]"
     ]
    },
    {
     "name": "stdout",
     "output_type": "stream",
     "text": [
      "Time to: Calculate Ground State - 1.23s, Get Pauli Ops - 5.77s, Calculate Pauli Expectation Values - 7.13s, Calculate Covariance - 2.48s\n",
      "f0,f1,f2 = [6.754476676846353e-09, 6.7544766768475275e-09, 6.754476676835023e-09]\n",
      "d01,d02,d12 = [1.3005318792489151, 1.3005318792422178, 1.3005318792470613]\n"
     ]
    },
    {
     "name": "stderr",
     "output_type": "stream",
     "text": [
      "Progress:  12%|█▏        | 121/1000 [29:56<3:43:55, 15.29s/it]"
     ]
    },
    {
     "name": "stdout",
     "output_type": "stream",
     "text": [
      "Time to: Calculate Ground State - 1.04s, Get Pauli Ops - 4.64s, Calculate Pauli Expectation Values - 6.25s, Calculate Covariance - 2.32s\n",
      "f0,f1,f2 = [4.653274065163699e-09, 4.653274065180059e-09, 4.6532740651531846e-09]\n",
      "d01,d02,d12 = [1.3071118679756208, 1.3071118679686549, 1.3071118679737082]\n"
     ]
    },
    {
     "name": "stderr",
     "output_type": "stream",
     "text": [
      "Progress:  12%|█▏        | 122/1000 [30:12<3:46:56, 15.51s/it]"
     ]
    },
    {
     "name": "stdout",
     "output_type": "stream",
     "text": [
      "Time to: Calculate Ground State - 1.17s, Get Pauli Ops - 6.59s, Calculate Pauli Expectation Values - 5.97s, Calculate Covariance - 2.29s\n",
      "f0,f1,f2 = [7.519619812015827e-09, 7.519619812010267e-09, 7.519619812020263e-09]\n",
      "d01,d02,d12 = [1.3103413668486752, 1.3103413668414565, 1.310341366846709]\n"
     ]
    },
    {
     "name": "stderr",
     "output_type": "stream",
     "text": [
      "Progress:  12%|█▏        | 123/1000 [30:28<3:47:36, 15.57s/it]"
     ]
    },
    {
     "name": "stdout",
     "output_type": "stream",
     "text": [
      "Time to: Calculate Ground State - 1.04s, Get Pauli Ops - 6.79s, Calculate Pauli Expectation Values - 5.8s, Calculate Covariance - 2.08s\n",
      "f0,f1,f2 = [6.528771968506181e-09, 6.528771968524641e-09, 6.528771968508205e-09]\n",
      "d01,d02,d12 = [1.310724384753962, 1.310724384746505, 1.3107243847519505]\n"
     ]
    },
    {
     "name": "stderr",
     "output_type": "stream",
     "text": [
      "/cluster/home/mskrabulis/miniconda3/envs/quantech/lib/python3.9/site-packages/pyscf/symm/Dmatrix.py:156: RuntimeWarning: invalid value encountered in arccos\n",
      "  gamma = numpy.arccos(yp.dot(c2[1]))\n",
      "Progress:  12%|█▏        | 124/1000 [30:44<3:50:50, 15.81s/it]"
     ]
    },
    {
     "name": "stdout",
     "output_type": "stream",
     "text": [
      "Time to: Calculate Ground State - 1.24s, Get Pauli Ops - 5.89s, Calculate Pauli Expectation Values - 7.35s, Calculate Covariance - 1.89s\n",
      "f0,f1,f2 = [6.3851923141784356e-09, 6.385192314201912e-09, 6.385192314175094e-09]\n",
      "d01,d02,d12 = [1.3084259036634318, 1.3084259036557473, 1.3084259036613766]\n"
     ]
    },
    {
     "name": "stderr",
     "output_type": "stream",
     "text": [
      "/cluster/home/mskrabulis/miniconda3/envs/quantech/lib/python3.9/site-packages/pyscf/symm/Dmatrix.py:156: RuntimeWarning: invalid value encountered in arccos\n",
      "  gamma = numpy.arccos(yp.dot(c2[1]))\n",
      "/cluster/home/mskrabulis/miniconda3/envs/quantech/lib/python3.9/site-packages/pyscf/symm/Dmatrix.py:156: RuntimeWarning: invalid value encountered in arccos\n",
      "  gamma = numpy.arccos(yp.dot(c2[1]))\n",
      "Progress:  12%|█▎        | 125/1000 [31:01<3:55:54, 16.18s/it]"
     ]
    },
    {
     "name": "stdout",
     "output_type": "stream",
     "text": [
      "Time to: Calculate Ground State - 1.33s, Get Pauli Ops - 7.36s, Calculate Pauli Expectation Values - 6.12s, Calculate Covariance - 2.22s\n",
      "f0,f1,f2 = [6.2405616540223886e-09, 6.2405616540234176e-09, 6.240561654016648e-09]\n",
      "d01,d02,d12 = [1.3039048782579388, 1.3039048782500273, 1.3039048782558444]\n"
     ]
    },
    {
     "name": "stderr",
     "output_type": "stream",
     "text": [
      "Progress:  13%|█▎        | 126/1000 [31:19<4:01:45, 16.60s/it]"
     ]
    },
    {
     "name": "stdout",
     "output_type": "stream",
     "text": [
      "Time to: Calculate Ground State - 1.21s, Get Pauli Ops - 7.99s, Calculate Pauli Expectation Values - 5.94s, Calculate Covariance - 2.43s\n",
      "f0,f1,f2 = [6.482599918696679e-09, 6.4825999187095134e-09, 6.482599918700895e-09]\n",
      "d01,d02,d12 = [1.2961451639148764, 1.2961451639067474, 1.2961451639127493]\n"
     ]
    },
    {
     "name": "stderr",
     "output_type": "stream",
     "text": [
      "Progress:  13%|█▎        | 127/1000 [31:36<4:01:46, 16.62s/it]"
     ]
    },
    {
     "name": "stdout",
     "output_type": "stream",
     "text": [
      "Time to: Calculate Ground State - 1.35s, Get Pauli Ops - 7.69s, Calculate Pauli Expectation Values - 5.75s, Calculate Covariance - 1.86s\n",
      "f0,f1,f2 = [5.646223053219093e-09, 5.646223053212821e-09, 5.64622305319794e-09]\n",
      "d01,d02,d12 = [1.286658084645231, 1.2866580846369042, 1.2866580846430793]\n"
     ]
    },
    {
     "name": "stderr",
     "output_type": "stream",
     "text": [
      "/cluster/home/mskrabulis/miniconda3/envs/quantech/lib/python3.9/site-packages/pyscf/symm/Dmatrix.py:156: RuntimeWarning: invalid value encountered in arccos\n",
      "  gamma = numpy.arccos(yp.dot(c2[1]))\n",
      "Progress:  13%|█▎        | 128/1000 [31:51<3:54:53, 16.16s/it]"
     ]
    },
    {
     "name": "stdout",
     "output_type": "stream",
     "text": [
      "Time to: Calculate Ground State - 1.17s, Get Pauli Ops - 5.02s, Calculate Pauli Expectation Values - 6.66s, Calculate Covariance - 2.23s\n",
      "f0,f1,f2 = [6.879682737031577e-09, 6.87968273703436e-09, 6.879682737022081e-09]\n",
      "d01,d02,d12 = [1.2752219723122376, 1.2752219723037137, 1.2752219723100617]\n"
     ]
    },
    {
     "name": "stderr",
     "output_type": "stream",
     "text": [
      "Progress:  13%|█▎        | 129/1000 [32:04<3:43:03, 15.37s/it]"
     ]
    },
    {
     "name": "stdout",
     "output_type": "stream",
     "text": [
      "Time to: Calculate Ground State - 1.33s, Get Pauli Ops - 4.17s, Calculate Pauli Expectation Values - 6.11s, Calculate Covariance - 1.89s\n",
      "f0,f1,f2 = [4.718964881098241e-09, 4.718964881123537e-09, 4.718964881106942e-09]\n",
      "d01,d02,d12 = [1.2624362438312655, 1.262436243822577, 1.262436243829066]\n"
     ]
    },
    {
     "name": "stderr",
     "output_type": "stream",
     "text": [
      "Progress:  13%|█▎        | 130/1000 [32:19<3:41:31, 15.28s/it]"
     ]
    },
    {
     "name": "stdout",
     "output_type": "stream",
     "text": [
      "Time to: Calculate Ground State - 1.03s, Get Pauli Ops - 6.54s, Calculate Pauli Expectation Values - 5.65s, Calculate Covariance - 1.83s\n",
      "f0,f1,f2 = [5.843363421001389e-09, 5.843363421032607e-09, 5.843363420991223e-09]\n",
      "d01,d02,d12 = [1.244058164120241, 1.2440581641113968, 1.2440581641180217]\n"
     ]
    },
    {
     "name": "stderr",
     "output_type": "stream",
     "text": [
      "/cluster/home/mskrabulis/miniconda3/envs/quantech/lib/python3.9/site-packages/pyscf/symm/Dmatrix.py:156: RuntimeWarning: invalid value encountered in arccos\n",
      "  gamma = numpy.arccos(yp.dot(c2[1]))\n",
      "Progress:  13%|█▎        | 131/1000 [32:33<3:34:28, 14.81s/it]"
     ]
    },
    {
     "name": "stdout",
     "output_type": "stream",
     "text": [
      "Time to: Calculate Ground State - 1.01s, Get Pauli Ops - 4.42s, Calculate Pauli Expectation Values - 6.23s, Calculate Covariance - 2.04s\n",
      "f0,f1,f2 = [5.585806085306747e-09, 5.585806085336347e-09, 5.585806085301915e-09]\n",
      "d01,d02,d12 = [1.22337789756138, 1.223377897552417, 1.223377897559143]\n"
     ]
    },
    {
     "name": "stderr",
     "output_type": "stream",
     "text": [
      "/cluster/home/mskrabulis/miniconda3/envs/quantech/lib/python3.9/site-packages/pyscf/symm/Dmatrix.py:156: RuntimeWarning: invalid value encountered in arccos\n",
      "  gamma = numpy.arccos(yp.dot(c2[1]))\n",
      "/cluster/home/mskrabulis/miniconda3/envs/quantech/lib/python3.9/site-packages/pyscf/symm/Dmatrix.py:156: RuntimeWarning: invalid value encountered in arccos\n",
      "  gamma = numpy.arccos(yp.dot(c2[1]))\n",
      "Progress:  13%|█▎        | 132/1000 [32:46<3:26:10, 14.25s/it]"
     ]
    },
    {
     "name": "stdout",
     "output_type": "stream",
     "text": [
      "Time to: Calculate Ground State - 1.12s, Get Pauli Ops - 4.6s, Calculate Pauli Expectation Values - 5.77s, Calculate Covariance - 1.45s\n",
      "f0,f1,f2 = [5.916824888096642e-09, 5.916824888122388e-09, 5.916824888083127e-09]\n",
      "d01,d02,d12 = [1.200328068797032, 1.2003280687879305, 1.200328068794759]\n"
     ]
    },
    {
     "name": "stderr",
     "output_type": "stream",
     "text": [
      "Progress:  13%|█▎        | 133/1000 [33:02<3:34:50, 14.87s/it]"
     ]
    },
    {
     "name": "stdout",
     "output_type": "stream",
     "text": [
      "Time to: Calculate Ground State - 1.43s, Get Pauli Ops - 4.8s, Calculate Pauli Expectation Values - 7.98s, Calculate Covariance - 2.09s\n",
      "f0,f1,f2 = [5.06086930970331e-09, 5.060869309729518e-09, 5.060869309688548e-09]\n",
      "d01,d02,d12 = [1.1789180129318817, 1.1789180129227808, 1.1789180129296113]\n"
     ]
    },
    {
     "name": "stderr",
     "output_type": "stream",
     "text": [
      "Progress:  13%|█▎        | 134/1000 [33:18<3:37:50, 15.09s/it]"
     ]
    },
    {
     "name": "stdout",
     "output_type": "stream",
     "text": [
      "Time to: Calculate Ground State - 0.78s, Get Pauli Ops - 4.27s, Calculate Pauli Expectation Values - 8.53s, Calculate Covariance - 2.03s\n",
      "f0,f1,f2 = [4.939475601967593e-09, 4.9394756019923446e-09, 4.939475601964844e-09]\n",
      "d01,d02,d12 = [1.1553545341007796, 1.1553545340916171, 1.155354534098494]\n"
     ]
    },
    {
     "name": "stderr",
     "output_type": "stream",
     "text": [
      "Progress:  14%|█▎        | 135/1000 [33:32<3:31:50, 14.69s/it]"
     ]
    },
    {
     "name": "stdout",
     "output_type": "stream",
     "text": [
      "Time to: Calculate Ground State - 1.29s, Get Pauli Ops - 4.54s, Calculate Pauli Expectation Values - 6.19s, Calculate Covariance - 1.74s\n",
      "f0,f1,f2 = [4.808451923637108e-09, 4.808451923675301e-09, 4.808451923631093e-09]\n",
      "d01,d02,d12 = [1.127548888406504, 1.1275488883973266, 1.1275488884042022]\n"
     ]
    },
    {
     "name": "stderr",
     "output_type": "stream",
     "text": [
      "Progress:  14%|█▎        | 136/1000 [33:48<3:38:08, 15.15s/it]"
     ]
    },
    {
     "name": "stdout",
     "output_type": "stream",
     "text": [
      "Time to: Calculate Ground State - 1.26s, Get Pauli Ops - 4.52s, Calculate Pauli Expectation Values - 8.56s, Calculate Covariance - 1.86s\n",
      "f0,f1,f2 = [3.6368535137649655e-09, 3.6368535138091167e-09, 3.636853513770312e-09]\n",
      "d01,d02,d12 = [1.0980829997249715, 1.098082999715863, 1.0980829997226762]\n"
     ]
    },
    {
     "name": "stderr",
     "output_type": "stream",
     "text": [
      "Progress:  14%|█▎        | 137/1000 [34:02<3:31:21, 14.70s/it]"
     ]
    },
    {
     "name": "stdout",
     "output_type": "stream",
     "text": [
      "Time to: Calculate Ground State - 1.25s, Get Pauli Ops - 4.54s, Calculate Pauli Expectation Values - 5.76s, Calculate Covariance - 2.07s\n",
      "f0,f1,f2 = [3.269422796030707e-09, 3.2694227960950236e-09, 3.269422795998438e-09]\n",
      "d01,d02,d12 = [1.0617984889895218, 1.0617984889803422, 1.0617984889871874]\n"
     ]
    },
    {
     "name": "stderr",
     "output_type": "stream",
     "text": [
      "Progress:  14%|█▍        | 138/1000 [34:16<3:31:34, 14.73s/it]"
     ]
    },
    {
     "name": "stdout",
     "output_type": "stream",
     "text": [
      "Time to: Calculate Ground State - 1.32s, Get Pauli Ops - 5.26s, Calculate Pauli Expectation Values - 5.96s, Calculate Covariance - 2.25s\n",
      "f0,f1,f2 = [1.784982895248337e-09, 1.7849828953178821e-09, 1.7849828952191017e-09]\n",
      "d01,d02,d12 = [1.0203976730791329, 1.0203976730699487, 1.020397673076776]\n"
     ]
    },
    {
     "name": "stderr",
     "output_type": "stream",
     "text": [
      "/cluster/home/mskrabulis/miniconda3/envs/quantech/lib/python3.9/site-packages/pyscf/symm/Dmatrix.py:156: RuntimeWarning: invalid value encountered in arccos\n",
      "  gamma = numpy.arccos(yp.dot(c2[1]))\n",
      "Progress:  14%|█▍        | 139/1000 [34:30<3:26:11, 14.37s/it]"
     ]
    },
    {
     "name": "stdout",
     "output_type": "stream",
     "text": [
      "Time to: Calculate Ground State - 1.15s, Get Pauli Ops - 4.53s, Calculate Pauli Expectation Values - 5.96s, Calculate Covariance - 1.88s\n",
      "f0,f1,f2 = [1.7388778566598681e-09, 1.738877856770875e-09, 1.7388778566303312e-09]\n",
      "d01,d02,d12 = [0.9795575111508188, 0.9795575111416788, 0.9795575111484512]\n"
     ]
    },
    {
     "name": "stderr",
     "output_type": "stream",
     "text": [
      "/cluster/home/mskrabulis/miniconda3/envs/quantech/lib/python3.9/site-packages/pyscf/symm/Dmatrix.py:156: RuntimeWarning: invalid value encountered in arccos\n",
      "  gamma = numpy.arccos(yp.dot(c2[1]))\n",
      "/cluster/home/mskrabulis/miniconda3/envs/quantech/lib/python3.9/site-packages/pyscf/symm/Dmatrix.py:156: RuntimeWarning: invalid value encountered in arccos\n",
      "  gamma = numpy.arccos(yp.dot(c2[1]))\n",
      "Progress:  14%|█▍        | 140/1000 [34:48<3:42:24, 15.52s/it]"
     ]
    },
    {
     "name": "stdout",
     "output_type": "stream",
     "text": [
      "Time to: Calculate Ground State - 1.37s, Get Pauli Ops - 4.37s, Calculate Pauli Expectation Values - 10.25s, Calculate Covariance - 2.2s\n",
      "f0,f1,f2 = [3.780073703011842e-10, 3.780073703992359e-10, 3.780073702652632e-10]\n",
      "d01,d02,d12 = [0.9441364687281437, 0.9441364687186211, 0.944136468725667]\n"
     ]
    },
    {
     "name": "stderr",
     "output_type": "stream",
     "text": [
      "Progress:  14%|█▍        | 141/1000 [35:03<3:40:57, 15.43s/it]"
     ]
    },
    {
     "name": "stdout",
     "output_type": "stream",
     "text": [
      "Time to: Calculate Ground State - 1.37s, Get Pauli Ops - 5.11s, Calculate Pauli Expectation Values - 6.48s, Calculate Covariance - 2.26s\n",
      "f0,f1,f2 = [1.905306819426959e-09, 1.905306819260728e-09, 1.9053068194841964e-09]\n",
      "d01,d02,d12 = [0.9099286736445626, 0.9099286736343974, 0.9099286736418997]\n"
     ]
    },
    {
     "name": "stderr",
     "output_type": "stream",
     "text": [
      "Progress:  14%|█▍        | 142/1000 [35:20<3:45:14, 15.75s/it]"
     ]
    },
    {
     "name": "stdout",
     "output_type": "stream",
     "text": [
      "Time to: Calculate Ground State - 0.96s, Get Pauli Ops - 4.72s, Calculate Pauli Expectation Values - 8.61s, Calculate Covariance - 2.2s\n",
      "f0,f1,f2 = [3.5836309653924517e-09, 3.583630965216461e-09, 3.5836309654379107e-09]\n",
      "d01,d02,d12 = [0.8768535138144722, 0.8768535138037633, 0.8768535138116784]\n"
     ]
    },
    {
     "name": "stderr",
     "output_type": "stream",
     "text": [
      "Progress:  14%|█▍        | 143/1000 [35:34<3:39:16, 15.35s/it]"
     ]
    },
    {
     "name": "stdout",
     "output_type": "stream",
     "text": [
      "Time to: Calculate Ground State - 1.03s, Get Pauli Ops - 5.49s, Calculate Pauli Expectation Values - 6.16s, Calculate Covariance - 1.73s\n",
      "f0,f1,f2 = [5.10280216717012e-09, 5.1028021669712845e-09, 5.10280216723817e-09]\n",
      "d01,d02,d12 = [0.842690058791151, 0.8426900587802647, 0.8426900587883378]\n"
     ]
    },
    {
     "name": "stderr",
     "output_type": "stream",
     "text": [
      "Progress:  14%|█▍        | 144/1000 [35:50<3:41:10, 15.50s/it]"
     ]
    },
    {
     "name": "stdout",
     "output_type": "stream",
     "text": [
      "Time to: Calculate Ground State - 1.01s, Get Pauli Ops - 4.71s, Calculate Pauli Expectation Values - 7.87s, Calculate Covariance - 2.26s\n",
      "f0,f1,f2 = [9.157534268799366e-09, 9.1575342685469e-09, 9.157534268896755e-09]\n",
      "d01,d02,d12 = [0.8143011164189173, 0.8143011164075981, 0.8143011164159986]\n"
     ]
    },
    {
     "name": "stderr",
     "output_type": "stream",
     "text": [
      "/cluster/home/mskrabulis/miniconda3/envs/quantech/lib/python3.9/site-packages/pyscf/symm/Dmatrix.py:156: RuntimeWarning: invalid value encountered in arccos\n",
      "  gamma = numpy.arccos(yp.dot(c2[1]))\n",
      "Progress:  14%|█▍        | 145/1000 [36:08<3:49:59, 16.14s/it]"
     ]
    },
    {
     "name": "stdout",
     "output_type": "stream",
     "text": [
      "Time to: Calculate Ground State - 1.01s, Get Pauli Ops - 4.09s, Calculate Pauli Expectation Values - 10.08s, Calculate Covariance - 2.43s\n",
      "f0,f1,f2 = [1.0834821019259992e-08, 1.0834821018950248e-08, 1.0834821019356036e-08]\n",
      "d01,d02,d12 = [0.7865887235545483, 0.7865887235431721, 0.7865887235516256]\n"
     ]
    },
    {
     "name": "stderr",
     "output_type": "stream",
     "text": [
      "Progress:  15%|█▍        | 146/1000 [36:24<3:48:11, 16.03s/it]"
     ]
    },
    {
     "name": "stdout",
     "output_type": "stream",
     "text": [
      "Time to: Calculate Ground State - 0.87s, Get Pauli Ops - 4.43s, Calculate Pauli Expectation Values - 8.56s, Calculate Covariance - 1.91s\n",
      "f0,f1,f2 = [1.4598585076893855e-08, 1.459858507652503e-08, 1.4598585077000457e-08]\n",
      "d01,d02,d12 = [0.7668097879599349, 0.7668097879486762, 0.7668097879570509]\n"
     ]
    },
    {
     "name": "stderr",
     "output_type": "stream",
     "text": [
      "Progress:  15%|█▍        | 147/1000 [36:40<3:49:19, 16.13s/it]"
     ]
    },
    {
     "name": "stdout",
     "output_type": "stream",
     "text": [
      "Time to: Calculate Ground State - 1.33s, Get Pauli Ops - 4.69s, Calculate Pauli Expectation Values - 8.48s, Calculate Covariance - 1.86s\n",
      "f0,f1,f2 = [1.5863356903579926e-08, 1.5863356903236282e-08, 1.5863356903716573e-08]\n",
      "d01,d02,d12 = [0.7550858162597884, 0.7550858162490807, 0.7550858162570506]\n"
     ]
    },
    {
     "name": "stderr",
     "output_type": "stream",
     "text": [
      "Progress:  15%|█▍        | 148/1000 [36:56<3:49:52, 16.19s/it]"
     ]
    },
    {
     "name": "stdout",
     "output_type": "stream",
     "text": [
      "Time to: Calculate Ground State - 0.86s, Get Pauli Ops - 4.38s, Calculate Pauli Expectation Values - 8.86s, Calculate Covariance - 2.22s\n",
      "f0,f1,f2 = [1.7507905206660776e-08, 1.7507905206267e-08, 1.750790520680889e-08]\n",
      "d01,d02,d12 = [0.7500721569376504, 0.7500721569276956, 0.7500721569351183]\n"
     ]
    },
    {
     "name": "stderr",
     "output_type": "stream",
     "text": [
      "/cluster/home/mskrabulis/miniconda3/envs/quantech/lib/python3.9/site-packages/pyscf/symm/Dmatrix.py:156: RuntimeWarning: invalid value encountered in arccos\n",
      "  gamma = numpy.arccos(yp.dot(c2[1]))\n",
      "Progress:  15%|█▍        | 149/1000 [37:10<3:40:56, 15.58s/it]"
     ]
    },
    {
     "name": "stdout",
     "output_type": "stream",
     "text": [
      "Time to: Calculate Ground State - 1.26s, Get Pauli Ops - 4.99s, Calculate Pauli Expectation Values - 6.09s, Calculate Covariance - 1.81s\n",
      "f0,f1,f2 = [1.7996970176821128e-08, 1.799697017644585e-08, 1.799697017693486e-08]\n",
      "d01,d02,d12 = [0.7520501135287735, 0.7520501135197394, 0.7520501135264871]\n"
     ]
    },
    {
     "name": "stderr",
     "output_type": "stream",
     "text": [
      "/cluster/home/mskrabulis/miniconda3/envs/quantech/lib/python3.9/site-packages/pyscf/symm/Dmatrix.py:156: RuntimeWarning: invalid value encountered in arccos\n",
      "  gamma = numpy.arccos(yp.dot(c2[1]))\n",
      "/cluster/home/mskrabulis/miniconda3/envs/quantech/lib/python3.9/site-packages/pyscf/symm/Dmatrix.py:156: RuntimeWarning: invalid value encountered in arccos\n",
      "  gamma = numpy.arccos(yp.dot(c2[1]))\n",
      "Progress:  15%|█▌        | 150/1000 [37:24<3:31:03, 14.90s/it]"
     ]
    },
    {
     "name": "stdout",
     "output_type": "stream",
     "text": [
      "Time to: Calculate Ground State - 1.01s, Get Pauli Ops - 3.94s, Calculate Pauli Expectation Values - 6.35s, Calculate Covariance - 2.0s\n",
      "f0,f1,f2 = [1.8017221437296435e-08, 1.8017221436946432e-08, 1.8017221437415364e-08]\n",
      "d01,d02,d12 = [0.7615925842163581, 0.7615925842084457, 0.7615925842143664]\n"
     ]
    },
    {
     "name": "stderr",
     "output_type": "stream",
     "text": [
      "Progress:  15%|█▌        | 151/1000 [37:38<3:29:33, 14.81s/it]"
     ]
    },
    {
     "name": "stdout",
     "output_type": "stream",
     "text": [
      "Time to: Calculate Ground State - 0.99s, Get Pauli Ops - 4.78s, Calculate Pauli Expectation Values - 6.68s, Calculate Covariance - 2.14s\n",
      "f0,f1,f2 = [1.7369785305887536e-08, 1.7369785305617862e-08, 1.7369785305963544e-08]\n",
      "d01,d02,d12 = [0.7785098067955779, 0.778509806788914, 0.7785098067939091]\n"
     ]
    },
    {
     "name": "stderr",
     "output_type": "stream",
     "text": [
      "Progress:  15%|█▌        | 152/1000 [37:55<3:35:57, 15.28s/it]"
     ]
    },
    {
     "name": "stdout",
     "output_type": "stream",
     "text": [
      "Time to: Calculate Ground State - 1.03s, Get Pauli Ops - 4.29s, Calculate Pauli Expectation Values - 9.17s, Calculate Covariance - 1.88s\n",
      "f0,f1,f2 = [1.5277090061759648e-08, 1.5277090061547367e-08, 1.5277090061833968e-08]\n",
      "d01,d02,d12 = [0.802761430635025, 0.8027614306296903, 0.8027614306337022]\n"
     ]
    },
    {
     "name": "stderr",
     "output_type": "stream",
     "text": [
      "Progress:  15%|█▌        | 153/1000 [38:08<3:26:54, 14.66s/it]"
     ]
    },
    {
     "name": "stdout",
     "output_type": "stream",
     "text": [
      "Time to: Calculate Ground State - 1.34s, Get Pauli Ops - 4.41s, Calculate Pauli Expectation Values - 5.63s, Calculate Covariance - 1.8s\n",
      "f0,f1,f2 = [1.2456301477255163e-08, 1.245630147708582e-08, 1.2456301477310043e-08]\n",
      "d01,d02,d12 = [0.832205098305141, 0.8322050983010814, 0.8322050983041517]\n"
     ]
    },
    {
     "name": "stderr",
     "output_type": "stream",
     "text": [
      "Progress:  15%|█▌        | 154/1000 [38:24<3:31:37, 15.01s/it]"
     ]
    },
    {
     "name": "stdout",
     "output_type": "stream",
     "text": [
      "Time to: Calculate Ground State - 0.94s, Get Pauli Ops - 4.74s, Calculate Pauli Expectation Values - 8.11s, Calculate Covariance - 2.04s\n",
      "f0,f1,f2 = [9.39152526832801e-09, 9.39152526823171e-09, 9.391525268372858e-09]\n",
      "d01,d02,d12 = [0.8653480492783796, 0.8653480492757047, 0.865348049277752]\n"
     ]
    },
    {
     "name": "stderr",
     "output_type": "stream",
     "text": [
      "Progress:  16%|█▌        | 155/1000 [38:41<3:41:08, 15.70s/it]"
     ]
    },
    {
     "name": "stdout",
     "output_type": "stream",
     "text": [
      "Time to: Calculate Ground State - 1.46s, Get Pauli Ops - 4.56s, Calculate Pauli Expectation Values - 9.18s, Calculate Covariance - 2.12s\n",
      "f0,f1,f2 = [7.046909646523335e-09, 7.04690964645007e-09, 7.0469096465478845e-09]\n",
      "d01,d02,d12 = [0.8985121084099554, 0.898512108408786, 0.89851210840971]\n"
     ]
    },
    {
     "name": "stderr",
     "output_type": "stream",
     "text": [
      "Progress:  16%|█▌        | 156/1000 [38:57<3:43:17, 15.87s/it]"
     ]
    },
    {
     "name": "stdout",
     "output_type": "stream",
     "text": [
      "Time to: Calculate Ground State - 1.47s, Get Pauli Ops - 4.46s, Calculate Pauli Expectation Values - 8.29s, Calculate Covariance - 2.04s\n",
      "f0,f1,f2 = [4.0981503527332e-09, 4.098150352718057e-09, 4.098150352744742e-09]\n",
      "d01,d02,d12 = [0.9364004507703827, 0.9364004507706797, 0.9364004507705022]\n"
     ]
    },
    {
     "name": "stderr",
     "output_type": "stream",
     "text": [
      "Progress:  16%|█▌        | 157/1000 [39:13<3:40:15, 15.68s/it]"
     ]
    },
    {
     "name": "stdout",
     "output_type": "stream",
     "text": [
      "Time to: Calculate Ground State - 1.05s, Get Pauli Ops - 4.99s, Calculate Pauli Expectation Values - 6.96s, Calculate Covariance - 2.21s\n",
      "f0,f1,f2 = [2.326225111620572e-09, 2.3262251116168917e-09, 2.3262251116197703e-09]\n",
      "d01,d02,d12 = [0.9778976362261398, 0.9778976362278954, 0.9778976362266238]\n"
     ]
    },
    {
     "name": "stderr",
     "output_type": "stream",
     "text": [
      "Progress:  16%|█▌        | 158/1000 [39:26<3:31:55, 15.10s/it]"
     ]
    },
    {
     "name": "stdout",
     "output_type": "stream",
     "text": [
      "Time to: Calculate Ground State - 1.31s, Get Pauli Ops - 4.7s, Calculate Pauli Expectation Values - 6.12s, Calculate Covariance - 1.62s\n",
      "f0,f1,f2 = [8.2699131136453e-10, 8.26991311394121e-10, 8.26991311351848e-10]\n",
      "d01,d02,d12 = [1.0249697425885351, 1.0249697425918083, 1.0249697425893893]\n"
     ]
    },
    {
     "name": "stderr",
     "output_type": "stream",
     "text": [
      "Progress:  16%|█▌        | 159/1000 [39:42<3:36:16, 15.43s/it]"
     ]
    },
    {
     "name": "stdout",
     "output_type": "stream",
     "text": [
      "Time to: Calculate Ground State - 1.01s, Get Pauli Ops - 4.99s, Calculate Pauli Expectation Values - 8.33s, Calculate Covariance - 1.87s\n",
      "f0,f1,f2 = [1.1309538863134085e-09, 1.1309538862633686e-09, 1.130953886319908e-09]\n",
      "d01,d02,d12 = [1.0760973661170832, 1.07609736612182, 1.076097366118302]\n"
     ]
    },
    {
     "name": "stderr",
     "output_type": "stream",
     "text": [
      "Progress:  16%|█▌        | 160/1000 [40:00<3:43:38, 15.97s/it]"
     ]
    },
    {
     "name": "stdout",
     "output_type": "stream",
     "text": [
      "Time to: Calculate Ground State - 1.34s, Get Pauli Ops - 4.97s, Calculate Pauli Expectation Values - 8.66s, Calculate Covariance - 2.27s\n",
      "f0,f1,f2 = [3.507130988068183e-09, 3.5071309880283527e-09, 3.5071309880786097e-09]\n",
      "d01,d02,d12 = [1.1299493623435637, 1.1299493623497932, 1.1299493623451586]\n"
     ]
    },
    {
     "name": "stderr",
     "output_type": "stream",
     "text": [
      "Progress:  16%|█▌        | 161/1000 [40:17<3:50:24, 16.48s/it]"
     ]
    },
    {
     "name": "stdout",
     "output_type": "stream",
     "text": [
      "Time to: Calculate Ground State - 1.02s, Get Pauli Ops - 7.8s, Calculate Pauli Expectation Values - 6.58s, Calculate Covariance - 2.24s\n",
      "f0,f1,f2 = [4.833941233156913e-09, 4.8339412331410375e-09, 4.833941233171587e-09]\n",
      "d01,d02,d12 = [1.1843237729083356, 1.184323772916007, 1.1843237729102964]\n"
     ]
    },
    {
     "name": "stderr",
     "output_type": "stream",
     "text": [
      "Progress:  16%|█▌        | 162/1000 [40:31<3:40:08, 15.76s/it]"
     ]
    },
    {
     "name": "stdout",
     "output_type": "stream",
     "text": [
      "Time to: Calculate Ground State - 0.99s, Get Pauli Ops - 4.22s, Calculate Pauli Expectation Values - 6.86s, Calculate Covariance - 2.01s\n",
      "f0,f1,f2 = [5.312680073087357e-09, 5.312680073051203e-09, 5.312680073113161e-09]\n",
      "d01,d02,d12 = [1.2301917704043368, 1.2301917704133813, 1.2301917704066478]\n"
     ]
    },
    {
     "name": "stderr",
     "output_type": "stream",
     "text": [
      "/cluster/home/mskrabulis/miniconda3/envs/quantech/lib/python3.9/site-packages/pyscf/symm/Dmatrix.py:156: RuntimeWarning: invalid value encountered in arccos\n",
      "  gamma = numpy.arccos(yp.dot(c2[1]))\n",
      "Progress:  16%|█▋        | 163/1000 [40:47<3:40:02, 15.77s/it]"
     ]
    },
    {
     "name": "stdout",
     "output_type": "stream",
     "text": [
      "Time to: Calculate Ground State - 1.16s, Get Pauli Ops - 5.27s, Calculate Pauli Expectation Values - 7.9s, Calculate Covariance - 1.46s\n",
      "f0,f1,f2 = [5.773631175181208e-09, 5.77363117516792e-09, 5.773631175192461e-09]\n",
      "d01,d02,d12 = [1.2826950092046148, 1.2826950092150582, 1.282695009207307]\n"
     ]
    },
    {
     "name": "stderr",
     "output_type": "stream",
     "text": [
      "/cluster/home/mskrabulis/miniconda3/envs/quantech/lib/python3.9/site-packages/pyscf/symm/Dmatrix.py:156: RuntimeWarning: invalid value encountered in arccos\n",
      "  gamma = numpy.arccos(yp.dot(c2[1]))\n",
      "Progress:  16%|█▋        | 164/1000 [41:02<3:37:04, 15.58s/it]"
     ]
    },
    {
     "name": "stdout",
     "output_type": "stream",
     "text": [
      "Time to: Calculate Ground State - 1.16s, Get Pauli Ops - 5.7s, Calculate Pauli Expectation Values - 5.94s, Calculate Covariance - 2.32s\n",
      "f0,f1,f2 = [5.5348772946450025e-09, 5.534877294628442e-09, 5.534877294651207e-09]\n",
      "d01,d02,d12 = [1.3271637309100763, 1.327163730921883, 1.327163730913131]\n"
     ]
    },
    {
     "name": "stderr",
     "output_type": "stream",
     "text": [
      "Progress:  16%|█▋        | 165/1000 [41:17<3:30:49, 15.15s/it]"
     ]
    },
    {
     "name": "stdout",
     "output_type": "stream",
     "text": [
      "Time to: Calculate Ground State - 1.03s, Get Pauli Ops - 5.23s, Calculate Pauli Expectation Values - 5.76s, Calculate Covariance - 2.11s\n",
      "f0,f1,f2 = [5.8948336299113596e-09, 5.894833629891737e-09, 5.894833629916792e-09]\n",
      "d01,d02,d12 = [1.3676389067557808, 1.3676389067690211, 1.3676389067592047]\n"
     ]
    },
    {
     "name": "stderr",
     "output_type": "stream",
     "text": [
      "Progress:  17%|█▋        | 166/1000 [41:31<3:28:26, 15.00s/it]"
     ]
    },
    {
     "name": "stdout",
     "output_type": "stream",
     "text": [
      "Time to: Calculate Ground State - 1.31s, Get Pauli Ops - 4.77s, Calculate Pauli Expectation Values - 6.23s, Calculate Covariance - 2.31s\n",
      "f0,f1,f2 = [6.161487778079073e-09, 6.1614877781006924e-09, 6.161487778084366e-09]\n",
      "d01,d02,d12 = [1.40979252524853, 1.4097925252634003, 1.409792525252384]\n"
     ]
    },
    {
     "name": "stderr",
     "output_type": "stream",
     "text": [
      "Progress:  17%|█▋        | 167/1000 [41:45<3:24:46, 14.75s/it]"
     ]
    },
    {
     "name": "stdout",
     "output_type": "stream",
     "text": [
      "Time to: Calculate Ground State - 1.31s, Get Pauli Ops - 4.88s, Calculate Pauli Expectation Values - 6.16s, Calculate Covariance - 1.83s\n",
      "f0,f1,f2 = [5.4229927308889765e-09, 5.422992730899681e-09, 5.422992730908766e-09]\n",
      "d01,d02,d12 = [1.4430116990278292, 1.4430116990438289, 1.4430116990319761]\n"
     ]
    },
    {
     "name": "stderr",
     "output_type": "stream",
     "text": [
      "/cluster/home/mskrabulis/miniconda3/envs/quantech/lib/python3.9/site-packages/pyscf/symm/Dmatrix.py:156: RuntimeWarning: invalid value encountered in arccos\n",
      "  gamma = numpy.arccos(yp.dot(c2[1]))\n",
      "Progress:  17%|█▋        | 168/1000 [42:00<3:24:34, 14.75s/it]"
     ]
    },
    {
     "name": "stdout",
     "output_type": "stream",
     "text": [
      "Time to: Calculate Ground State - 1.33s, Get Pauli Ops - 4.79s, Calculate Pauli Expectation Values - 6.91s, Calculate Covariance - 1.73s\n",
      "f0,f1,f2 = [7.305387012099247e-09, 7.305387012111746e-09, 7.305387012092838e-09]\n",
      "d01,d02,d12 = [1.4733909072835145, 1.4733909073005866, 1.473390907287961]\n"
     ]
    },
    {
     "name": "stderr",
     "output_type": "stream",
     "text": [
      "Progress:  17%|█▋        | 169/1000 [42:15<3:26:21, 14.90s/it]"
     ]
    },
    {
     "name": "stdout",
     "output_type": "stream",
     "text": [
      "Time to: Calculate Ground State - 0.98s, Get Pauli Ops - 4.54s, Calculate Pauli Expectation Values - 7.57s, Calculate Covariance - 2.15s\n",
      "f0,f1,f2 = [6.1456299812304435e-09, 6.145629981224335e-09, 6.14562998122629e-09]\n",
      "d01,d02,d12 = [1.4995517232107591, 1.4995517232287676, 1.4995517232154876]\n"
     ]
    },
    {
     "name": "stderr",
     "output_type": "stream",
     "text": [
      "Progress:  17%|█▋        | 170/1000 [42:31<3:28:43, 15.09s/it]"
     ]
    },
    {
     "name": "stdout",
     "output_type": "stream",
     "text": [
      "Time to: Calculate Ground State - 1.19s, Get Pauli Ops - 7.12s, Calculate Pauli Expectation Values - 5.58s, Calculate Covariance - 1.64s\n",
      "f0,f1,f2 = [5.789786416448752e-09, 5.789786416450604e-09, 5.789786416446161e-09]\n",
      "d01,d02,d12 = [1.5225709320765817, 1.5225709320957015, 1.5225709320816638]\n"
     ]
    },
    {
     "name": "stderr",
     "output_type": "stream",
     "text": [
      "Progress:  17%|█▋        | 171/1000 [42:45<3:26:09, 14.92s/it]"
     ]
    },
    {
     "name": "stdout",
     "output_type": "stream",
     "text": [
      "Time to: Calculate Ground State - 1.42s, Get Pauli Ops - 4.99s, Calculate Pauli Expectation Values - 6.16s, Calculate Covariance - 1.96s\n",
      "f0,f1,f2 = [7.945015292446017e-09, 7.94501529247025e-09, 7.945015292451045e-09]\n",
      "d01,d02,d12 = [1.5422851801341353, 1.5422851801543978, 1.5422851801395878]\n"
     ]
    },
    {
     "name": "stderr",
     "output_type": "stream",
     "text": [
      "/cluster/home/mskrabulis/miniconda3/envs/quantech/lib/python3.9/site-packages/pyscf/symm/Dmatrix.py:156: RuntimeWarning: invalid value encountered in arccos\n",
      "  gamma = numpy.arccos(yp.dot(c2[1]))\n",
      "Progress:  17%|█▋        | 172/1000 [43:01<3:28:25, 15.10s/it]"
     ]
    },
    {
     "name": "stdout",
     "output_type": "stream",
     "text": [
      "Time to: Calculate Ground State - 1.53s, Get Pauli Ops - 5.15s, Calculate Pauli Expectation Values - 6.5s, Calculate Covariance - 2.34s\n",
      "f0,f1,f2 = [5.6563929864420936e-09, 5.656392986435146e-09, 5.6563929864483735e-09]\n",
      "d01,d02,d12 = [1.5599458875448209, 1.5599458875662124, 1.5599458875506333]\n"
     ]
    },
    {
     "name": "stderr",
     "output_type": "stream",
     "text": [
      "/cluster/home/mskrabulis/miniconda3/envs/quantech/lib/python3.9/site-packages/pyscf/symm/Dmatrix.py:156: RuntimeWarning: invalid value encountered in arccos\n",
      "  gamma = numpy.arccos(yp.dot(c2[1]))\n",
      "Progress:  17%|█▋        | 173/1000 [43:19<3:40:07, 15.97s/it]"
     ]
    },
    {
     "name": "stdout",
     "output_type": "stream",
     "text": [
      "Time to: Calculate Ground State - 1.21s, Get Pauli Ops - 8.52s, Calculate Pauli Expectation Values - 6.22s, Calculate Covariance - 2.03s\n",
      "f0,f1,f2 = [6.191613326999222e-09, 6.191613326990541e-09, 6.191613326982118e-09]\n",
      "d01,d02,d12 = [1.575119342496209, 1.5751193425188588, 1.5751193425024188]\n"
     ]
    },
    {
     "name": "stderr",
     "output_type": "stream",
     "text": [
      "Progress:  17%|█▋        | 174/1000 [43:34<3:37:23, 15.79s/it]"
     ]
    },
    {
     "name": "stdout",
     "output_type": "stream",
     "text": [
      "Time to: Calculate Ground State - 1.47s, Get Pauli Ops - 5.31s, Calculate Pauli Expectation Values - 6.49s, Calculate Covariance - 2.08s\n",
      "f0,f1,f2 = [6.78146427019577e-09, 6.781464270220303e-09, 6.7814642701969435e-09]\n",
      "d01,d02,d12 = [1.5894664594368018, 1.5894664594606804, 1.5894664594433914]\n"
     ]
    },
    {
     "name": "stderr",
     "output_type": "stream",
     "text": [
      "/cluster/home/mskrabulis/miniconda3/envs/quantech/lib/python3.9/site-packages/pyscf/symm/Dmatrix.py:156: RuntimeWarning: invalid value encountered in arccos\n",
      "  gamma = numpy.arccos(yp.dot(c2[1]))\n",
      "/cluster/home/mskrabulis/miniconda3/envs/quantech/lib/python3.9/site-packages/pyscf/symm/Dmatrix.py:156: RuntimeWarning: invalid value encountered in arccos\n",
      "  gamma = numpy.arccos(yp.dot(c2[1]))\n",
      "Progress:  18%|█▊        | 175/1000 [43:54<3:53:22, 16.97s/it]"
     ]
    },
    {
     "name": "stdout",
     "output_type": "stream",
     "text": [
      "Time to: Calculate Ground State - 1.57s, Get Pauli Ops - 9.12s, Calculate Pauli Expectation Values - 7.18s, Calculate Covariance - 1.85s\n",
      "f0,f1,f2 = [6.891717337227899e-09, 6.89171733725668e-09, 6.891717337203714e-09]\n",
      "d01,d02,d12 = [1.6000047469529752, 1.600004746978065, 1.6000047469599448]\n"
     ]
    },
    {
     "name": "stderr",
     "output_type": "stream",
     "text": [
      "Progress:  18%|█▊        | 176/1000 [44:08<3:40:26, 16.05s/it]"
     ]
    },
    {
     "name": "stdout",
     "output_type": "stream",
     "text": [
      "Time to: Calculate Ground State - 1.19s, Get Pauli Ops - 4.38s, Calculate Pauli Expectation Values - 6.44s, Calculate Covariance - 1.89s\n",
      "f0,f1,f2 = [5.970828979167374e-09, 5.970828979199255e-09, 5.970828979160969e-09]\n",
      "d01,d02,d12 = [1.6088951735738586, 1.608895173600153, 1.6088951735812063]\n"
     ]
    },
    {
     "name": "stderr",
     "output_type": "stream",
     "text": [
      "Progress:  18%|█▊        | 177/1000 [44:23<3:37:34, 15.86s/it]"
     ]
    },
    {
     "name": "stdout",
     "output_type": "stream",
     "text": [
      "Time to: Calculate Ground State - 1.49s, Get Pauli Ops - 4.39s, Calculate Pauli Expectation Values - 7.8s, Calculate Covariance - 1.73s\n",
      "f0,f1,f2 = [5.583334670888515e-09, 5.583334670885759e-09, 5.5833346708831045e-09]\n",
      "d01,d02,d12 = [1.614765731089237, 1.6147657311167398, 1.6147657310969707]\n"
     ]
    },
    {
     "name": "stderr",
     "output_type": "stream",
     "text": [
      "Progress:  18%|█▊        | 178/1000 [44:37<3:27:27, 15.14s/it]"
     ]
    },
    {
     "name": "stdout",
     "output_type": "stream",
     "text": [
      "Time to: Calculate Ground State - 1.19s, Get Pauli Ops - 4.31s, Calculate Pauli Expectation Values - 6.15s, Calculate Covariance - 1.8s\n",
      "f0,f1,f2 = [6.8788015876794835e-09, 6.878801587670345e-09, 6.87880158768423e-09]\n",
      "d01,d02,d12 = [1.6192608731080642, 1.6192608731367968, 1.6192608731161893]\n"
     ]
    },
    {
     "name": "stderr",
     "output_type": "stream",
     "text": [
      "/cluster/home/mskrabulis/miniconda3/envs/quantech/lib/python3.9/site-packages/pyscf/symm/Dmatrix.py:156: RuntimeWarning: invalid value encountered in arccos\n",
      "  gamma = numpy.arccos(yp.dot(c2[1]))\n",
      "Progress:  18%|█▊        | 179/1000 [44:53<3:30:03, 15.35s/it]"
     ]
    },
    {
     "name": "stdout",
     "output_type": "stream",
     "text": [
      "Time to: Calculate Ground State - 1.24s, Get Pauli Ops - 7.01s, Calculate Pauli Expectation Values - 6.08s, Calculate Covariance - 1.5s\n",
      "f0,f1,f2 = [8.24066482834873e-09, 8.240664828336716e-09, 8.24066482836054e-09]\n",
      "d01,d02,d12 = [1.6206128762904468, 1.6206128763203729, 1.6206128762989522]\n"
     ]
    },
    {
     "name": "stderr",
     "output_type": "stream",
     "text": [
      "Progress:  18%|█▊        | 180/1000 [45:07<3:24:24, 14.96s/it]"
     ]
    },
    {
     "name": "stdout",
     "output_type": "stream",
     "text": [
      "Time to: Calculate Ground State - 1.27s, Get Pauli Ops - 4.44s, Calculate Pauli Expectation Values - 6.13s, Calculate Covariance - 2.19s\n",
      "f0,f1,f2 = [7.293385587245709e-09, 7.2933855872799e-09, 7.2933855872286846e-09]\n",
      "d01,d02,d12 = [1.6188225013657904, 1.6188225013969224, 1.6188225013746795]\n"
     ]
    },
    {
     "name": "stderr",
     "output_type": "stream",
     "text": [
      "Progress:  18%|█▊        | 181/1000 [45:24<3:31:41, 15.51s/it]"
     ]
    },
    {
     "name": "stdout",
     "output_type": "stream",
     "text": [
      "Time to: Calculate Ground State - 1.48s, Get Pauli Ops - 6.76s, Calculate Pauli Expectation Values - 6.35s, Calculate Covariance - 2.2s\n",
      "f0,f1,f2 = [6.1335571761908485e-09, 6.133557176226252e-09, 6.133557176188264e-09]\n",
      "d01,d02,d12 = [1.6144632979964308, 1.6144632980287745, 1.6144632980057032]\n"
     ]
    },
    {
     "name": "stderr",
     "output_type": "stream",
     "text": [
      "Progress:  18%|█▊        | 182/1000 [45:38<3:27:56, 15.25s/it]"
     ]
    },
    {
     "name": "stdout",
     "output_type": "stream",
     "text": [
      "Time to: Calculate Ground State - 1.6s, Get Pauli Ops - 4.89s, Calculate Pauli Expectation Values - 6.37s, Calculate Covariance - 1.78s\n",
      "f0,f1,f2 = [6.4881897357512176e-09, 6.4881897357931135e-09, 6.4881897357398356e-09]\n",
      "d01,d02,d12 = [1.6071353757877813, 1.6071353758213172, 1.6071353757974294]\n"
     ]
    },
    {
     "name": "stderr",
     "output_type": "stream",
     "text": [
      "Progress:  18%|█▊        | 183/1000 [45:56<3:38:30, 16.05s/it]"
     ]
    },
    {
     "name": "stdout",
     "output_type": "stream",
     "text": [
      "Time to: Calculate Ground State - 1.24s, Get Pauli Ops - 8.82s, Calculate Pauli Expectation Values - 6.06s, Calculate Covariance - 1.77s\n",
      "f0,f1,f2 = [7.646918957916117e-09, 7.646918957879318e-09, 7.646918957931415e-09]\n",
      "d01,d02,d12 = [1.5959864103062091, 1.595986410340783, 1.5959864103161856]\n"
     ]
    },
    {
     "name": "stderr",
     "output_type": "stream",
     "text": [
      "Progress:  18%|█▊        | 184/1000 [46:14<3:46:05, 16.62s/it]"
     ]
    },
    {
     "name": "stdout",
     "output_type": "stream",
     "text": [
      "Time to: Calculate Ground State - 1.26s, Get Pauli Ops - 8.45s, Calculate Pauli Expectation Values - 6.04s, Calculate Covariance - 2.21s\n",
      "f0,f1,f2 = [6.293208369718087e-09, 6.293208369730391e-09, 6.29320836971458e-09]\n",
      "d01,d02,d12 = [1.5841774993197348, 1.5841774993553854, 1.5841774993300493]\n"
     ]
    },
    {
     "name": "stderr",
     "output_type": "stream",
     "text": [
      "Progress:  18%|█▊        | 185/1000 [46:31<3:45:50, 16.63s/it]"
     ]
    },
    {
     "name": "stdout",
     "output_type": "stream",
     "text": [
      "Time to: Calculate Ground State - 1.13s, Get Pauli Ops - 6.96s, Calculate Pauli Expectation Values - 6.11s, Calculate Covariance - 2.41s\n",
      "f0,f1,f2 = [6.308949788391229e-09, 6.30894978841169e-09, 6.308949788380384e-09]\n",
      "d01,d02,d12 = [1.5701618073710504, 1.5701618074077266, 1.5701618073816876]\n"
     ]
    },
    {
     "name": "stderr",
     "output_type": "stream",
     "text": [
      "Progress:  19%|█▊        | 186/1000 [46:46<3:42:16, 16.38s/it]"
     ]
    },
    {
     "name": "stdout",
     "output_type": "stream",
     "text": [
      "Time to: Calculate Ground State - 1.4s, Get Pauli Ops - 5.08s, Calculate Pauli Expectation Values - 7.0s, Calculate Covariance - 2.33s\n",
      "f0,f1,f2 = [7.0077406893211105e-09, 7.007740689347996e-09, 7.007740689310827e-09]\n",
      "d01,d02,d12 = [1.5505593343525006, 1.5505593343898456, 1.5505593343633632]\n"
     ]
    },
    {
     "name": "stderr",
     "output_type": "stream",
     "text": [
      "/cluster/home/mskrabulis/miniconda3/envs/quantech/lib/python3.9/site-packages/pyscf/symm/Dmatrix.py:156: RuntimeWarning: invalid value encountered in arccos\n",
      "  gamma = numpy.arccos(yp.dot(c2[1]))\n",
      "Progress:  19%|█▊        | 187/1000 [47:01<3:34:30, 15.83s/it]"
     ]
    },
    {
     "name": "stdout",
     "output_type": "stream",
     "text": [
      "Time to: Calculate Ground State - 1.46s, Get Pauli Ops - 4.77s, Calculate Pauli Expectation Values - 5.98s, Calculate Covariance - 2.32s\n",
      "f0,f1,f2 = [7.587474446734685e-09, 7.587474446793003e-09, 7.587474446716537e-09]\n",
      "d01,d02,d12 = [1.5283071778105688, 1.5283071778487238, 1.528307177821703]\n"
     ]
    },
    {
     "name": "stderr",
     "output_type": "stream",
     "text": [
      "Progress:  19%|█▉        | 188/1000 [47:17<3:34:12, 15.83s/it]"
     ]
    },
    {
     "name": "stdout",
     "output_type": "stream",
     "text": [
      "Time to: Calculate Ground State - 1.23s, Get Pauli Ops - 6.08s, Calculate Pauli Expectation Values - 6.39s, Calculate Covariance - 2.11s\n",
      "f0,f1,f2 = [7.637402669413745e-09, 7.63740266940906e-09, 7.637402669406062e-09]\n",
      "d01,d02,d12 = [1.5076086919427354, 1.5076086919817078, 1.5076086919541483]\n"
     ]
    },
    {
     "name": "stderr",
     "output_type": "stream",
     "text": [
      "Progress:  19%|█▉        | 189/1000 [47:33<3:35:20, 15.93s/it]"
     ]
    },
    {
     "name": "stdout",
     "output_type": "stream",
     "text": [
      "Time to: Calculate Ground State - 1.52s, Get Pauli Ops - 5.32s, Calculate Pauli Expectation Values - 6.85s, Calculate Covariance - 2.48s\n",
      "f0,f1,f2 = [7.2044739457569705e-09, 7.204473945754269e-09, 7.204473945755086e-09]\n",
      "d01,d02,d12 = [1.4839656039096618, 1.483965603949558, 1.483965603921392]\n"
     ]
    },
    {
     "name": "stderr",
     "output_type": "stream",
     "text": [
      "Progress:  19%|█▉        | 190/1000 [47:46<3:25:09, 15.20s/it]"
     ]
    },
    {
     "name": "stdout",
     "output_type": "stream",
     "text": [
      "Time to: Calculate Ground State - 1.16s, Get Pauli Ops - 4.43s, Calculate Pauli Expectation Values - 5.92s, Calculate Covariance - 1.97s\n",
      "f0,f1,f2 = [7.474232424520743e-09, 7.47423242455331e-09, 7.474232424505792e-09]\n",
      "d01,d02,d12 = [1.4565740030286989, 1.4565740030695145, 1.456574003040762]\n"
     ]
    },
    {
     "name": "stderr",
     "output_type": "stream",
     "text": [
      "/cluster/home/mskrabulis/miniconda3/envs/quantech/lib/python3.9/site-packages/pyscf/symm/Dmatrix.py:156: RuntimeWarning: invalid value encountered in arccos\n",
      "  gamma = numpy.arccos(yp.dot(c2[1]))\n",
      "Progress:  19%|█▉        | 191/1000 [48:03<3:31:57, 15.72s/it]"
     ]
    },
    {
     "name": "stdout",
     "output_type": "stream",
     "text": [
      "Time to: Calculate Ground State - 1.31s, Get Pauli Ops - 4.97s, Calculate Pauli Expectation Values - 8.35s, Calculate Covariance - 2.3s\n",
      "f0,f1,f2 = [8.084917147277597e-09, 8.084917147274452e-09, 8.084917147267869e-09]\n",
      "d01,d02,d12 = [1.4202695854216083, 1.4202695854631062, 1.4202695854339233]\n"
     ]
    },
    {
     "name": "stderr",
     "output_type": "stream",
     "text": [
      "/cluster/home/mskrabulis/miniconda3/envs/quantech/lib/python3.9/site-packages/pyscf/symm/Dmatrix.py:156: RuntimeWarning: invalid value encountered in arccos\n",
      "  gamma = numpy.arccos(yp.dot(c2[1]))\n",
      "Progress:  19%|█▉        | 192/1000 [48:21<3:39:02, 16.27s/it]"
     ]
    },
    {
     "name": "stdout",
     "output_type": "stream",
     "text": [
      "Time to: Calculate Ground State - 1.05s, Get Pauli Ops - 5.61s, Calculate Pauli Expectation Values - 8.62s, Calculate Covariance - 2.25s\n",
      "f0,f1,f2 = [6.152196428947229e-09, 6.152196428944853e-09, 6.1521964289392785e-09]\n",
      "d01,d02,d12 = [1.3823828210221798, 1.3823828210642286, 1.3823828210347229]\n"
     ]
    },
    {
     "name": "stderr",
     "output_type": "stream",
     "text": [
      "/cluster/home/mskrabulis/miniconda3/envs/quantech/lib/python3.9/site-packages/pyscf/symm/Dmatrix.py:156: RuntimeWarning: invalid value encountered in arccos\n",
      "  gamma = numpy.arccos(yp.dot(c2[1]))\n",
      "Progress:  19%|█▉        | 193/1000 [48:34<3:26:18, 15.34s/it]"
     ]
    },
    {
     "name": "stdout",
     "output_type": "stream",
     "text": [
      "Time to: Calculate Ground State - 0.86s, Get Pauli Ops - 4.6s, Calculate Pauli Expectation Values - 5.74s, Calculate Covariance - 1.97s\n",
      "f0,f1,f2 = [7.430852486029696e-09, 7.43085248598361e-09, 7.430852486048228e-09]\n",
      "d01,d02,d12 = [1.3428459662975691, 1.3428459663403096, 1.342845966310393]\n"
     ]
    },
    {
     "name": "stderr",
     "output_type": "stream",
     "text": [
      "Progress:  19%|█▉        | 194/1000 [48:47<3:17:28, 14.70s/it]"
     ]
    },
    {
     "name": "stdout",
     "output_type": "stream",
     "text": [
      "Time to: Calculate Ground State - 0.81s, Get Pauli Ops - 5.18s, Calculate Pauli Expectation Values - 5.68s, Calculate Covariance - 1.55s\n",
      "f0,f1,f2 = [7.623750787210004e-09, 7.623750787160503e-09, 7.623750787233411e-09]\n",
      "d01,d02,d12 = [1.3045187725501237, 1.3045187725934635, 1.3045187725632237]\n"
     ]
    },
    {
     "name": "stderr",
     "output_type": "stream",
     "text": [
      "Progress:  20%|█▉        | 195/1000 [49:02<3:16:55, 14.68s/it]"
     ]
    },
    {
     "name": "stdout",
     "output_type": "stream",
     "text": [
      "Time to: Calculate Ground State - 1.31s, Get Pauli Ops - 4.83s, Calculate Pauli Expectation Values - 6.17s, Calculate Covariance - 2.32s\n",
      "f0,f1,f2 = [5.932920967667138e-09, 5.932920967595193e-09, 5.932920967680613e-09]\n",
      "d01,d02,d12 = [1.264832723147411, 1.2648327231912206, 1.2648327231607541]\n"
     ]
    },
    {
     "name": "stderr",
     "output_type": "stream",
     "text": [
      "/cluster/home/mskrabulis/miniconda3/envs/quantech/lib/python3.9/site-packages/pyscf/symm/Dmatrix.py:156: RuntimeWarning: invalid value encountered in arccos\n",
      "  gamma = numpy.arccos(yp.dot(c2[1]))\n",
      "Progress:  20%|█▉        | 196/1000 [49:20<3:29:02, 15.60s/it]"
     ]
    },
    {
     "name": "stdout",
     "output_type": "stream",
     "text": [
      "Time to: Calculate Ground State - 0.94s, Get Pauli Ops - 8.69s, Calculate Pauli Expectation Values - 5.9s, Calculate Covariance - 2.2s\n",
      "f0,f1,f2 = [5.439294224689972e-09, 5.439294224629905e-09, 5.439294224685438e-09]\n",
      "d01,d02,d12 = [1.225786417826949, 1.2257864178709639, 1.2257864178404798]\n"
     ]
    },
    {
     "name": "stderr",
     "output_type": "stream",
     "text": [
      "/cluster/home/mskrabulis/miniconda3/envs/quantech/lib/python3.9/site-packages/pyscf/symm/Dmatrix.py:156: RuntimeWarning: invalid value encountered in arccos\n",
      "  gamma = numpy.arccos(yp.dot(c2[1]))\n",
      "Progress:  20%|█▉        | 197/1000 [49:33<3:21:01, 15.02s/it]"
     ]
    },
    {
     "name": "stdout",
     "output_type": "stream",
     "text": [
      "Time to: Calculate Ground State - 1.27s, Get Pauli Ops - 4.49s, Calculate Pauli Expectation Values - 5.98s, Calculate Covariance - 1.91s\n",
      "f0,f1,f2 = [5.574237968660354e-09, 5.57423796853924e-09, 5.574237968705503e-09]\n",
      "d01,d02,d12 = [1.1783802626580533, 1.178380262701016, 1.178380262671373]\n"
     ]
    },
    {
     "name": "stderr",
     "output_type": "stream",
     "text": [
      "Progress:  20%|█▉        | 198/1000 [49:48<3:19:17, 14.91s/it]"
     ]
    },
    {
     "name": "stdout",
     "output_type": "stream",
     "text": [
      "Time to: Calculate Ground State - 1.39s, Get Pauli Ops - 4.25s, Calculate Pauli Expectation Values - 6.91s, Calculate Covariance - 2.09s\n",
      "f0,f1,f2 = [6.503728127321557e-09, 6.503728127192263e-09, 6.503728127378844e-09]\n",
      "d01,d02,d12 = [1.1291018250097948, 1.1291018250511164, 1.1291018250227327]\n"
     ]
    },
    {
     "name": "stderr",
     "output_type": "stream",
     "text": [
      "Progress:  20%|█▉        | 199/1000 [50:04<3:25:06, 15.36s/it]"
     ]
    },
    {
     "name": "stdout",
     "output_type": "stream",
     "text": [
      "Time to: Calculate Ground State - 0.88s, Get Pauli Ops - 7.86s, Calculate Pauli Expectation Values - 5.84s, Calculate Covariance - 1.84s\n",
      "f0,f1,f2 = [3.769121399725267e-09, 3.769121399465873e-09, 3.769121399846304e-09]\n",
      "d01,d02,d12 = [1.0744285136466754, 1.074428513685474, 1.074428513658921]\n"
     ]
    },
    {
     "name": "stderr",
     "output_type": "stream",
     "text": [
      "/cluster/home/mskrabulis/miniconda3/envs/quantech/lib/python3.9/site-packages/pyscf/symm/Dmatrix.py:156: RuntimeWarning: invalid value encountered in arccos\n",
      "  gamma = numpy.arccos(yp.dot(c2[1]))\n",
      "/cluster/home/mskrabulis/miniconda3/envs/quantech/lib/python3.9/site-packages/pyscf/symm/Dmatrix.py:156: RuntimeWarning: invalid value encountered in arccos\n",
      "  gamma = numpy.arccos(yp.dot(c2[1]))\n",
      "Progress:  20%|██        | 200/1000 [50:18<3:17:30, 14.81s/it]"
     ]
    },
    {
     "name": "stdout",
     "output_type": "stream",
     "text": [
      "Time to: Calculate Ground State - 1.1s, Get Pauli Ops - 4.31s, Calculate Pauli Expectation Values - 6.07s, Calculate Covariance - 2.03s\n",
      "f0,f1,f2 = [2.538488065553734e-09, 2.5384880652377168e-09, 2.538488065710154e-09]\n",
      "d01,d02,d12 = [1.0255671882007849, 1.0255671882363746, 1.0255671882121289]\n"
     ]
    },
    {
     "name": "stderr",
     "output_type": "stream",
     "text": [
      "/cluster/home/mskrabulis/miniconda3/envs/quantech/lib/python3.9/site-packages/pyscf/symm/Dmatrix.py:156: RuntimeWarning: invalid value encountered in arccos\n",
      "  gamma = numpy.arccos(yp.dot(c2[1]))\n",
      "Progress:  20%|██        | 201/1000 [50:33<3:17:04, 14.80s/it]"
     ]
    },
    {
     "name": "stdout",
     "output_type": "stream",
     "text": [
      "Time to: Calculate Ground State - 1.2s, Get Pauli Ops - 4.72s, Calculate Pauli Expectation Values - 6.97s, Calculate Covariance - 1.87s\n",
      "f0,f1,f2 = [1.1221347504170099e-09, 1.122134750118115e-09, 1.122134750580239e-09]\n",
      "d01,d02,d12 = [0.9797729162640606, 0.9797729162955914, 0.9797729162742229]\n"
     ]
    },
    {
     "name": "stderr",
     "output_type": "stream",
     "text": [
      "Progress:  20%|██        | 202/1000 [50:47<3:14:09, 14.60s/it]"
     ]
    },
    {
     "name": "stdout",
     "output_type": "stream",
     "text": [
      "Time to: Calculate Ground State - 1.35s, Get Pauli Ops - 4.01s, Calculate Pauli Expectation Values - 6.86s, Calculate Covariance - 1.9s\n",
      "f0,f1,f2 = [5.7094094140014605e-11, 5.70940944568089e-11, 5.709409400692791e-11]\n",
      "d01,d02,d12 = [0.9291398126406458, 0.9291398126674648, 0.9291398126494197]\n"
     ]
    },
    {
     "name": "stderr",
     "output_type": "stream",
     "text": [
      "/cluster/home/mskrabulis/miniconda3/envs/quantech/lib/python3.9/site-packages/pyscf/symm/Dmatrix.py:156: RuntimeWarning: invalid value encountered in arccos\n",
      "  gamma = numpy.arccos(yp.dot(c2[1]))\n",
      "Progress:  20%|██        | 203/1000 [51:03<3:20:28, 15.09s/it]"
     ]
    },
    {
     "name": "stdout",
     "output_type": "stream",
     "text": [
      "Time to: Calculate Ground State - 1.01s, Get Pauli Ops - 6.82s, Calculate Pauli Expectation Values - 6.08s, Calculate Covariance - 2.33s\n",
      "f0,f1,f2 = [3.1089015159630997e-09, 3.10890151637325e-09, 3.108901515786562e-09]\n",
      "d01,d02,d12 = [0.8855025717137617, 0.8855025717363166, 0.8855025717213039]\n"
     ]
    },
    {
     "name": "stderr",
     "output_type": "stream",
     "text": [
      "Progress:  20%|██        | 204/1000 [51:20<3:25:33, 15.49s/it]"
     ]
    },
    {
     "name": "stdout",
     "output_type": "stream",
     "text": [
      "Time to: Calculate Ground State - 0.84s, Get Pauli Ops - 4.62s, Calculate Pauli Expectation Values - 8.69s, Calculate Covariance - 2.28s\n",
      "f0,f1,f2 = [5.5427779833230784e-09, 5.5427779837006045e-09, 5.542777983126331e-09]\n",
      "d01,d02,d12 = [0.8450940606635338, 0.8450940606822852, 0.8450940606700014]\n"
     ]
    },
    {
     "name": "stderr",
     "output_type": "stream",
     "text": [
      "Progress:  20%|██        | 205/1000 [51:33<3:17:56, 14.94s/it]"
     ]
    },
    {
     "name": "stdout",
     "output_type": "stream",
     "text": [
      "Time to: Calculate Ground State - 0.89s, Get Pauli Ops - 4.37s, Calculate Pauli Expectation Values - 6.13s, Calculate Covariance - 2.25s\n",
      "f0,f1,f2 = [8.081116059379111e-09, 8.081116059755733e-09, 8.081116059196139e-09]\n",
      "d01,d02,d12 = [0.8035561269718283, 0.8035561269863167, 0.8035561269770559]\n"
     ]
    },
    {
     "name": "stderr",
     "output_type": "stream",
     "text": [
      "Progress:  21%|██        | 206/1000 [51:50<3:23:05, 15.35s/it]"
     ]
    },
    {
     "name": "stdout",
     "output_type": "stream",
     "text": [
      "Time to: Calculate Ground State - 1.28s, Get Pauli Ops - 4.58s, Calculate Pauli Expectation Values - 8.46s, Calculate Covariance - 1.97s\n",
      "f0,f1,f2 = [1.2052529169571161e-08, 1.20525291699206e-08, 1.2052529169349962e-08]\n",
      "d01,d02,d12 = [0.7689157629239795, 0.768915762934092, 0.7689157629279245]\n"
     ]
    },
    {
     "name": "stderr",
     "output_type": "stream",
     "text": [
      "Progress:  21%|██        | 207/1000 [52:06<3:27:18, 15.69s/it]"
     ]
    },
    {
     "name": "stdout",
     "output_type": "stream",
     "text": [
      "Time to: Calculate Ground State - 1.29s, Get Pauli Ops - 7.15s, Calculate Pauli Expectation Values - 5.99s, Calculate Covariance - 2.03s\n",
      "f0,f1,f2 = [1.5865218921302646e-08, 1.5865218921590197e-08, 1.586521892110984e-08]\n",
      "d01,d02,d12 = [0.7447906518159811, 0.7447906518214805, 0.7447906518185492]\n"
     ]
    },
    {
     "name": "stderr",
     "output_type": "stream",
     "text": [
      "Progress:  21%|██        | 208/1000 [52:20<3:21:39, 15.28s/it]"
     ]
    },
    {
     "name": "stdout",
     "output_type": "stream",
     "text": [
      "Time to: Calculate Ground State - 0.77s, Get Pauli Ops - 4.19s, Calculate Pauli Expectation Values - 7.16s, Calculate Covariance - 2.2s\n",
      "f0,f1,f2 = [1.950022287547592e-08, 1.9500222875614903e-08, 1.9500222875343227e-08]\n",
      "d01,d02,d12 = [0.7307290148232943, 0.7307290148241239, 0.730729014824448]\n"
     ]
    },
    {
     "name": "stderr",
     "output_type": "stream",
     "text": [
      "Progress:  21%|██        | 209/1000 [52:35<3:20:46, 15.23s/it]"
     ]
    },
    {
     "name": "stdout",
     "output_type": "stream",
     "text": [
      "Time to: Calculate Ground State - 1.3s, Get Pauli Ops - 5.07s, Calculate Pauli Expectation Values - 6.43s, Calculate Covariance - 2.31s\n",
      "f0,f1,f2 = [2.046485940563902e-08, 2.046485940561743e-08, 2.046485940557844e-08]\n",
      "d01,d02,d12 = [0.7254184552011538, 0.7254184551973073, 0.7254184552008689]\n"
     ]
    },
    {
     "name": "stderr",
     "output_type": "stream",
     "text": [
      "/cluster/home/mskrabulis/miniconda3/envs/quantech/lib/python3.9/site-packages/pyscf/symm/Dmatrix.py:156: RuntimeWarning: invalid value encountered in arccos\n",
      "  gamma = numpy.arccos(yp.dot(c2[1]))\n",
      "Progress:  21%|██        | 210/1000 [52:52<3:26:08, 15.66s/it]"
     ]
    },
    {
     "name": "stdout",
     "output_type": "stream",
     "text": [
      "Time to: Calculate Ground State - 1.02s, Get Pauli Ops - 6.47s, Calculate Pauli Expectation Values - 7.15s, Calculate Covariance - 2.0s\n",
      "f0,f1,f2 = [2.2559649186457805e-08, 2.255964918626106e-08, 2.2559649186474792e-08]\n",
      "d01,d02,d12 = [0.7292111845515917, 0.7292111845431731, 0.7292111845498753]\n"
     ]
    },
    {
     "name": "stderr",
     "output_type": "stream",
     "text": [
      "Progress:  21%|██        | 211/1000 [53:09<3:29:19, 15.92s/it]"
     ]
    },
    {
     "name": "stdout",
     "output_type": "stream",
     "text": [
      "Time to: Calculate Ground State - 1.33s, Get Pauli Ops - 6.94s, Calculate Pauli Expectation Values - 6.25s, Calculate Covariance - 2.0s\n",
      "f0,f1,f2 = [2.1601762515271732e-08, 2.1601762514885865e-08, 2.160176251536063e-08]\n",
      "d01,d02,d12 = [0.7415340506635539, 0.7415340506507373, 0.7415340506604379]\n"
     ]
    },
    {
     "name": "stderr",
     "output_type": "stream",
     "text": [
      "/cluster/home/mskrabulis/miniconda3/envs/quantech/lib/python3.9/site-packages/pyscf/symm/Dmatrix.py:156: RuntimeWarning: invalid value encountered in arccos\n",
      "  gamma = numpy.arccos(yp.dot(c2[1]))\n",
      "Progress:  21%|██        | 212/1000 [53:23<3:21:16, 15.33s/it]"
     ]
    },
    {
     "name": "stdout",
     "output_type": "stream",
     "text": [
      "Time to: Calculate Ground State - 0.95s, Get Pauli Ops - 4.7s, Calculate Pauli Expectation Values - 6.1s, Calculate Covariance - 2.18s\n",
      "f0,f1,f2 = [1.9206610995489973e-08, 1.9206610994974315e-08, 1.9206610995659528e-08]\n",
      "d01,d02,d12 = [0.7612325187349944, 0.7612325187181261, 0.7612325187305635]\n"
     ]
    },
    {
     "name": "stderr",
     "output_type": "stream",
     "text": [
      "Progress:  21%|██▏       | 213/1000 [53:37<3:18:01, 15.10s/it]"
     ]
    },
    {
     "name": "stdout",
     "output_type": "stream",
     "text": [
      "Time to: Calculate Ground State - 1.37s, Get Pauli Ops - 4.74s, Calculate Pauli Expectation Values - 6.23s, Calculate Covariance - 2.21s\n",
      "f0,f1,f2 = [1.7486785710210287e-08, 1.7486785709589795e-08, 1.748678571041477e-08]\n",
      "d01,d02,d12 = [0.7881583391450047, 0.7881583391244905, 0.7881583391393637]\n"
     ]
    },
    {
     "name": "stderr",
     "output_type": "stream",
     "text": [
      "Progress:  21%|██▏       | 214/1000 [53:53<3:21:36, 15.39s/it]"
     ]
    },
    {
     "name": "stdout",
     "output_type": "stream",
     "text": [
      "Time to: Calculate Ground State - 1.42s, Get Pauli Ops - 4.27s, Calculate Pauli Expectation Values - 8.52s, Calculate Covariance - 1.84s\n",
      "f0,f1,f2 = [1.324534410688896e-08, 1.3245344106326204e-08, 1.3245344107121862e-08]\n",
      "d01,d02,d12 = [0.8224691140693801, 0.8224691140451078, 0.8224691140624991]\n"
     ]
    },
    {
     "name": "stderr",
     "output_type": "stream",
     "text": [
      "Progress:  22%|██▏       | 215/1000 [54:07<3:15:20, 14.93s/it]"
     ]
    },
    {
     "name": "stdout",
     "output_type": "stream",
     "text": [
      "Time to: Calculate Ground State - 1.04s, Get Pauli Ops - 4.63s, Calculate Pauli Expectation Values - 6.15s, Calculate Covariance - 2.03s\n",
      "f0,f1,f2 = [1.0535576993757637e-08, 1.0535576993190968e-08, 1.0535576993990582e-08]\n",
      "d01,d02,d12 = [0.8590230338398336, 0.8590230338128435, 0.8590230338320101]\n"
     ]
    },
    {
     "name": "stderr",
     "output_type": "stream",
     "text": [
      "/cluster/home/mskrabulis/miniconda3/envs/quantech/lib/python3.9/site-packages/pyscf/symm/Dmatrix.py:156: RuntimeWarning: invalid value encountered in arccos\n",
      "  gamma = numpy.arccos(yp.dot(c2[1]))\n",
      "Progress:  22%|██▏       | 216/1000 [54:23<3:17:16, 15.10s/it]"
     ]
    },
    {
     "name": "stdout",
     "output_type": "stream",
     "text": [
      "Time to: Calculate Ground State - 1.08s, Get Pauli Ops - 4.56s, Calculate Pauli Expectation Values - 8.05s, Calculate Covariance - 1.79s\n",
      "f0,f1,f2 = [6.452401505871834e-09, 6.452401505342039e-09, 6.4524015061021646e-09]\n",
      "d01,d02,d12 = [0.8970163621031935, 0.8970163620732503, 0.8970163620943585]\n"
     ]
    },
    {
     "name": "stderr",
     "output_type": "stream",
     "text": [
      "Progress:  22%|██▏       | 217/1000 [54:37<3:12:55, 14.78s/it]"
     ]
    },
    {
     "name": "stdout",
     "output_type": "stream",
     "text": [
      "Time to: Calculate Ground State - 1.03s, Get Pauli Ops - 4.06s, Calculate Pauli Expectation Values - 6.95s, Calculate Covariance - 2.0s\n",
      "f0,f1,f2 = [4.662631558786172e-09, 4.662631558220188e-09, 4.662631559016691e-09]\n",
      "d01,d02,d12 = [0.9387313095199188, 0.9387313094866827, 0.9387313095099752]\n"
     ]
    },
    {
     "name": "stderr",
     "output_type": "stream",
     "text": [
      "/cluster/home/mskrabulis/miniconda3/envs/quantech/lib/python3.9/site-packages/pyscf/symm/Dmatrix.py:156: RuntimeWarning: invalid value encountered in arccos\n",
      "  gamma = numpy.arccos(yp.dot(c2[1]))\n",
      "Progress:  22%|██▏       | 218/1000 [54:50<3:06:35, 14.32s/it]"
     ]
    },
    {
     "name": "stdout",
     "output_type": "stream",
     "text": [
      "Time to: Calculate Ground State - 0.99s, Get Pauli Ops - 4.2s, Calculate Pauli Expectation Values - 6.11s, Calculate Covariance - 1.92s\n",
      "f0,f1,f2 = [2.293649291887359e-09, 2.2936492914499113e-09, 2.293649292080144e-09]\n",
      "d01,d02,d12 = [0.9861063471820878, 0.9861063471456232, 0.9861063471710686]\n"
     ]
    },
    {
     "name": "stderr",
     "output_type": "stream",
     "text": [
      "/cluster/home/mskrabulis/miniconda3/envs/quantech/lib/python3.9/site-packages/pyscf/symm/Dmatrix.py:156: RuntimeWarning: invalid value encountered in arccos\n",
      "  gamma = numpy.arccos(yp.dot(c2[1]))\n",
      "Progress:  22%|██▏       | 219/1000 [55:06<3:12:20, 14.78s/it]"
     ]
    },
    {
     "name": "stdout",
     "output_type": "stream",
     "text": [
      "Time to: Calculate Ground State - 1.07s, Get Pauli Ops - 6.64s, Calculate Pauli Expectation Values - 6.33s, Calculate Covariance - 1.79s\n",
      "f0,f1,f2 = [9.141775190867494e-11, 9.141775152789911e-11, 9.141775207398562e-11]\n",
      "d01,d02,d12 = [1.0345387570909268, 1.034538757051019, 1.034538757078749]\n"
     ]
    },
    {
     "name": "stderr",
     "output_type": "stream",
     "text": [
      "/cluster/home/mskrabulis/miniconda3/envs/quantech/lib/python3.9/site-packages/pyscf/symm/Dmatrix.py:156: RuntimeWarning: invalid value encountered in arccos\n",
      "  gamma = numpy.arccos(yp.dot(c2[1]))\n",
      "/cluster/home/mskrabulis/miniconda3/envs/quantech/lib/python3.9/site-packages/pyscf/symm/Dmatrix.py:156: RuntimeWarning: invalid value encountered in arccos\n",
      "  gamma = numpy.arccos(yp.dot(c2[1]))\n",
      "Progress:  22%|██▏       | 220/1000 [55:22<3:16:58, 15.15s/it]"
     ]
    },
    {
     "name": "stdout",
     "output_type": "stream",
     "text": [
      "Time to: Calculate Ground State - 1.04s, Get Pauli Ops - 6.94s, Calculate Pauli Expectation Values - 6.22s, Calculate Covariance - 1.82s\n",
      "f0,f1,f2 = [2.36239326889904e-09, 2.36239326928198e-09, 2.362393268739928e-09]\n",
      "d01,d02,d12 = [1.0872279301006924, 1.0872279300576664, 1.0872279300874585]\n"
     ]
    },
    {
     "name": "stderr",
     "output_type": "stream",
     "text": [
      "Progress:  22%|██▏       | 221/1000 [55:39<3:25:41, 15.84s/it]"
     ]
    },
    {
     "name": "stdout",
     "output_type": "stream",
     "text": [
      "Time to: Calculate Ground State - 1.22s, Get Pauli Ops - 7.86s, Calculate Pauli Expectation Values - 6.14s, Calculate Covariance - 2.23s\n",
      "f0,f1,f2 = [2.741126391048339e-09, 2.7411263913664294e-09, 2.7411263909480444e-09]\n",
      "d01,d02,d12 = [1.1357964430605378, 1.1357964430147862, 1.135796443046347]\n"
     ]
    },
    {
     "name": "stderr",
     "output_type": "stream",
     "text": [
      "Progress:  22%|██▏       | 222/1000 [55:55<3:26:06, 15.90s/it]"
     ]
    },
    {
     "name": "stdout",
     "output_type": "stream",
     "text": [
      "Time to: Calculate Ground State - 1.03s, Get Pauli Ops - 7.78s, Calculate Pauli Expectation Values - 5.79s, Calculate Covariance - 1.41s\n",
      "f0,f1,f2 = [3.736893330243574e-09, 3.736893330443713e-09, 3.736893330142351e-09]\n",
      "d01,d02,d12 = [1.186843364216144, 1.1868433641669704, 1.186843364200789]\n"
     ]
    },
    {
     "name": "stderr",
     "output_type": "stream",
     "text": [
      "/cluster/home/mskrabulis/miniconda3/envs/quantech/lib/python3.9/site-packages/pyscf/symm/Dmatrix.py:156: RuntimeWarning: invalid value encountered in arccos\n",
      "  gamma = numpy.arccos(yp.dot(c2[1]))\n",
      "Progress:  22%|██▏       | 223/1000 [56:10<3:21:13, 15.54s/it]"
     ]
    },
    {
     "name": "stdout",
     "output_type": "stream",
     "text": [
      "Time to: Calculate Ground State - 1.24s, Get Pauli Ops - 5.63s, Calculate Pauli Expectation Values - 5.98s, Calculate Covariance - 1.85s\n",
      "f0,f1,f2 = [5.455084976842335e-09, 5.455084977019658e-09, 5.455084976759898e-09]\n",
      "d01,d02,d12 = [1.2370032886636517, 1.2370032886106113, 1.2370032886469677]\n"
     ]
    },
    {
     "name": "stderr",
     "output_type": "stream",
     "text": [
      "/cluster/home/mskrabulis/miniconda3/envs/quantech/lib/python3.9/site-packages/pyscf/symm/Dmatrix.py:156: RuntimeWarning: invalid value encountered in arccos\n",
      "  gamma = numpy.arccos(yp.dot(c2[1]))\n",
      "Progress:  22%|██▏       | 224/1000 [56:25<3:18:21, 15.34s/it]"
     ]
    },
    {
     "name": "stdout",
     "output_type": "stream",
     "text": [
      "Time to: Calculate Ground State - 0.75s, Get Pauli Ops - 4.83s, Calculate Pauli Expectation Values - 7.17s, Calculate Covariance - 2.11s\n",
      "f0,f1,f2 = [5.092700693213912e-09, 5.0927006933179864e-09, 5.092700693139786e-09]\n",
      "d01,d02,d12 = [1.2790513945885038, 1.2790513945310118, 1.2790513945703308]\n"
     ]
    },
    {
     "name": "stderr",
     "output_type": "stream",
     "text": [
      "Progress:  22%|██▎       | 225/1000 [56:41<3:21:46, 15.62s/it]"
     ]
    },
    {
     "name": "stdout",
     "output_type": "stream",
     "text": [
      "Time to: Calculate Ground State - 1.1s, Get Pauli Ops - 4.94s, Calculate Pauli Expectation Values - 8.0s, Calculate Covariance - 2.24s\n",
      "f0,f1,f2 = [5.756048443228505e-09, 5.756048443479466e-09, 5.756048443100008e-09]\n",
      "d01,d02,d12 = [1.3164477279395197, 1.3164477278770226, 1.31644772791968]\n"
     ]
    },
    {
     "name": "stderr",
     "output_type": "stream",
     "text": [
      "Progress:  23%|██▎       | 226/1000 [56:58<3:25:17, 15.91s/it]"
     ]
    },
    {
     "name": "stdout",
     "output_type": "stream",
     "text": [
      "Time to: Calculate Ground State - 1.33s, Get Pauli Ops - 5.12s, Calculate Pauli Expectation Values - 8.26s, Calculate Covariance - 1.88s\n",
      "f0,f1,f2 = [6.451952904663108e-09, 6.451952904801357e-09, 6.451952904608056e-09]\n",
      "d01,d02,d12 = [1.3461076571799802, 1.3461076571131776, 1.3461076571586919]\n"
     ]
    },
    {
     "name": "stderr",
     "output_type": "stream",
     "text": [
      "/cluster/home/mskrabulis/miniconda3/envs/quantech/lib/python3.9/site-packages/pyscf/symm/Dmatrix.py:156: RuntimeWarning: invalid value encountered in arccos\n",
      "  gamma = numpy.arccos(yp.dot(c2[1]))\n",
      "/cluster/home/mskrabulis/miniconda3/envs/quantech/lib/python3.9/site-packages/pyscf/symm/Dmatrix.py:156: RuntimeWarning: invalid value encountered in arccos\n",
      "  gamma = numpy.arccos(yp.dot(c2[1]))\n",
      "Progress:  23%|██▎       | 227/1000 [57:14<3:25:59, 15.99s/it]"
     ]
    },
    {
     "name": "stdout",
     "output_type": "stream",
     "text": [
      "Time to: Calculate Ground State - 1.32s, Get Pauli Ops - 7.2s, Calculate Pauli Expectation Values - 5.68s, Calculate Covariance - 1.96s\n",
      "f0,f1,f2 = [6.562749727430498e-09, 6.562749727417591e-09, 6.5627497274390155e-09]\n",
      "d01,d02,d12 = [1.3800883999315734, 1.3800883998608402, 1.3800883999089608]\n"
     ]
    },
    {
     "name": "stderr",
     "output_type": "stream",
     "text": [
      "/cluster/home/mskrabulis/miniconda3/envs/quantech/lib/python3.9/site-packages/pyscf/symm/Dmatrix.py:156: RuntimeWarning: invalid value encountered in arccos\n",
      "  gamma = numpy.arccos(yp.dot(c2[1]))\n",
      "Progress:  23%|██▎       | 228/1000 [57:26<3:11:28, 14.88s/it]"
     ]
    },
    {
     "name": "stdout",
     "output_type": "stream",
     "text": [
      "Time to: Calculate Ground State - 0.91s, Get Pauli Ops - 4.08s, Calculate Pauli Expectation Values - 5.6s, Calculate Covariance - 1.7s\n",
      "f0,f1,f2 = [7.2878924564973566e-09, 7.287892456498475e-09, 7.287892456477877e-09]\n",
      "d01,d02,d12 = [1.409330114334788, 1.40933011426035, 1.4093301143109396]\n"
     ]
    },
    {
     "name": "stderr",
     "output_type": "stream",
     "text": [
      "Progress:  23%|██▎       | 229/1000 [57:40<3:06:55, 14.55s/it]"
     ]
    },
    {
     "name": "stdout",
     "output_type": "stream",
     "text": [
      "Time to: Calculate Ground State - 1.27s, Get Pauli Ops - 4.43s, Calculate Pauli Expectation Values - 5.91s, Calculate Covariance - 2.15s\n",
      "f0,f1,f2 = [7.242432679917728e-09, 7.2424326799995845e-09, 7.242432679886222e-09]\n",
      "d01,d02,d12 = [1.43548070858203, 1.435480708503931, 1.435480708556968]\n"
     ]
    },
    {
     "name": "stderr",
     "output_type": "stream",
     "text": [
      "/cluster/home/mskrabulis/miniconda3/envs/quantech/lib/python3.9/site-packages/pyscf/symm/Dmatrix.py:156: RuntimeWarning: invalid value encountered in arccos\n",
      "  gamma = numpy.arccos(yp.dot(c2[1]))\n",
      "Progress:  23%|██▎       | 230/1000 [57:59<3:23:01, 15.82s/it]"
     ]
    },
    {
     "name": "stdout",
     "output_type": "stream",
     "text": [
      "Time to: Calculate Ground State - 1.07s, Get Pauli Ops - 9.34s, Calculate Pauli Expectation Values - 6.08s, Calculate Covariance - 2.28s\n",
      "f0,f1,f2 = [6.464576946979066e-09, 6.464576947006346e-09, 6.464576946981963e-09]\n",
      "d01,d02,d12 = [1.4543240408162637, 1.4543240407354106, 1.454324040790287]\n"
     ]
    },
    {
     "name": "stderr",
     "output_type": "stream",
     "text": [
      "Progress:  23%|██▎       | 231/1000 [58:13<3:16:51, 15.36s/it]"
     ]
    },
    {
     "name": "stdout",
     "output_type": "stream",
     "text": [
      "Time to: Calculate Ground State - 1.17s, Get Pauli Ops - 4.8s, Calculate Pauli Expectation Values - 6.35s, Calculate Covariance - 1.96s\n",
      "f0,f1,f2 = [7.873568079064907e-09, 7.873568079100813e-09, 7.873568079036702e-09]\n",
      "d01,d02,d12 = [1.4679909890554765, 1.467990988971936, 1.467990989028604]\n"
     ]
    },
    {
     "name": "stderr",
     "output_type": "stream",
     "text": [
      "/cluster/home/mskrabulis/miniconda3/envs/quantech/lib/python3.9/site-packages/pyscf/symm/Dmatrix.py:156: RuntimeWarning: invalid value encountered in arccos\n",
      "  gamma = numpy.arccos(yp.dot(c2[1]))\n",
      "Progress:  23%|██▎       | 232/1000 [58:29<3:18:23, 15.50s/it]"
     ]
    },
    {
     "name": "stdout",
     "output_type": "stream",
     "text": [
      "Time to: Calculate Ground State - 1.27s, Get Pauli Ops - 6.95s, Calculate Pauli Expectation Values - 5.7s, Calculate Covariance - 1.9s\n",
      "f0,f1,f2 = [7.158375881038393e-09, 7.15837588101471e-09, 7.158375881029291e-09]\n",
      "d01,d02,d12 = [1.4759093253648485, 1.4759093252788014, 1.4759093253371491]\n"
     ]
    },
    {
     "name": "stderr",
     "output_type": "stream",
     "text": [
      "Progress:  23%|██▎       | 233/1000 [58:44<3:15:47, 15.32s/it]"
     ]
    },
    {
     "name": "stdout",
     "output_type": "stream",
     "text": [
      "Time to: Calculate Ground State - 0.98s, Get Pauli Ops - 6.54s, Calculate Pauli Expectation Values - 5.75s, Calculate Covariance - 1.62s\n",
      "f0,f1,f2 = [6.802998851380594e-09, 6.802998851326897e-09, 6.802998851419591e-09]\n",
      "d01,d02,d12 = [1.4797132128352144, 1.4797132127466635, 1.4797132128066768]\n"
     ]
    },
    {
     "name": "stderr",
     "output_type": "stream",
     "text": [
      "Progress:  23%|██▎       | 234/1000 [58:58<3:11:09, 14.97s/it]"
     ]
    },
    {
     "name": "stdout",
     "output_type": "stream",
     "text": [
      "Time to: Calculate Ground State - 1.03s, Get Pauli Ops - 5.41s, Calculate Pauli Expectation Values - 5.87s, Calculate Covariance - 1.86s\n",
      "f0,f1,f2 = [6.277112780514076e-09, 6.277112780530239e-09, 6.277112780517735e-09]\n",
      "d01,d02,d12 = [1.4798919539714344, 1.4798919538805766, 1.4798919539421225]\n"
     ]
    },
    {
     "name": "stderr",
     "output_type": "stream",
     "text": [
      "Progress:  24%|██▎       | 235/1000 [59:13<3:11:08, 14.99s/it]"
     ]
    },
    {
     "name": "stdout",
     "output_type": "stream",
     "text": [
      "Time to: Calculate Ground State - 1.05s, Get Pauli Ops - 4.1s, Calculate Pauli Expectation Values - 7.83s, Calculate Covariance - 2.06s\n",
      "f0,f1,f2 = [6.949692308299852e-09, 6.949692308229131e-09, 6.9496923083358114e-09]\n",
      "d01,d02,d12 = [1.47720107231582, 1.4772010722226008, 1.4772010722857158]\n"
     ]
    },
    {
     "name": "stderr",
     "output_type": "stream",
     "text": [
      "Progress:  24%|██▎       | 236/1000 [59:26<3:03:30, 14.41s/it]"
     ]
    },
    {
     "name": "stdout",
     "output_type": "stream",
     "text": [
      "Time to: Calculate Ground State - 0.95s, Get Pauli Ops - 4.28s, Calculate Pauli Expectation Values - 5.97s, Calculate Covariance - 1.85s\n",
      "f0,f1,f2 = [6.1192249632911255e-09, 6.119224963382978e-09, 6.119224963245505e-09]\n",
      "d01,d02,d12 = [1.4718761608573714, 1.4718761607618605, 1.4718761608264963]\n"
     ]
    },
    {
     "name": "stderr",
     "output_type": "stream",
     "text": [
      "Progress:  24%|██▎       | 237/1000 [59:40<3:00:13, 14.17s/it]"
     ]
    },
    {
     "name": "stdout",
     "output_type": "stream",
     "text": [
      "Time to: Calculate Ground State - 0.93s, Get Pauli Ops - 4.44s, Calculate Pauli Expectation Values - 6.11s, Calculate Covariance - 2.12s\n",
      "f0,f1,f2 = [5.727550995975556e-09, 5.72755099602592e-09, 5.7275509959549735e-09]\n",
      "d01,d02,d12 = [1.4639331578453492, 1.4639331577476407, 1.4639331578137367]\n"
     ]
    },
    {
     "name": "stderr",
     "output_type": "stream",
     "text": [
      "Progress:  24%|██▍       | 238/1000 [59:53<2:58:45, 14.07s/it]"
     ]
    },
    {
     "name": "stdout",
     "output_type": "stream",
     "text": [
      "Time to: Calculate Ground State - 1.1s, Get Pauli Ops - 4.74s, Calculate Pauli Expectation Values - 5.78s, Calculate Covariance - 2.21s\n",
      "f0,f1,f2 = [6.8634293674080494e-09, 6.8634293674145e-09, 6.8634293674001614e-09]\n",
      "d01,d02,d12 = [1.4532393394637173, 1.453239339363929, 1.4532393394314036]\n"
     ]
    },
    {
     "name": "stderr",
     "output_type": "stream",
     "text": [
      "Progress:  24%|██▍       | 239/1000 [1:00:07<2:57:40, 14.01s/it]"
     ]
    },
    {
     "name": "stdout",
     "output_type": "stream",
     "text": [
      "Time to: Calculate Ground State - 1.04s, Get Pauli Ops - 4.78s, Calculate Pauli Expectation Values - 5.93s, Calculate Covariance - 2.09s\n",
      "f0,f1,f2 = [7.79536695013638e-09, 7.795366950278472e-09, 7.795366950057506e-09]\n",
      "d01,d02,d12 = [1.4397234623339163, 1.4397234622322763, 1.439723462300978]\n"
     ]
    },
    {
     "name": "stderr",
     "output_type": "stream",
     "text": [
      "/cluster/home/mskrabulis/miniconda3/envs/quantech/lib/python3.9/site-packages/pyscf/symm/Dmatrix.py:156: RuntimeWarning: invalid value encountered in arccos\n",
      "  gamma = numpy.arccos(yp.dot(c2[1]))\n",
      "Progress:  24%|██▍       | 240/1000 [1:00:21<2:55:44, 13.87s/it]"
     ]
    },
    {
     "name": "stdout",
     "output_type": "stream",
     "text": [
      "Time to: Calculate Ground State - 0.75s, Get Pauli Ops - 4.31s, Calculate Pauli Expectation Values - 6.43s, Calculate Covariance - 2.07s\n",
      "f0,f1,f2 = [6.552606802428468e-09, 6.552606802532156e-09, 6.552606802375156e-09]\n",
      "d01,d02,d12 = [1.4265628644151094, 1.4265628643105663, 1.4265628643812176]\n"
     ]
    },
    {
     "name": "stderr",
     "output_type": "stream",
     "text": [
      "/cluster/home/mskrabulis/miniconda3/envs/quantech/lib/python3.9/site-packages/pyscf/symm/Dmatrix.py:156: RuntimeWarning: invalid value encountered in arccos\n",
      "  gamma = numpy.arccos(yp.dot(c2[1]))\n",
      "Progress:  24%|██▍       | 241/1000 [1:00:38<3:06:39, 14.76s/it]"
     ]
    },
    {
     "name": "stdout",
     "output_type": "stream",
     "text": [
      "Time to: Calculate Ground State - 1.02s, Get Pauli Ops - 5.14s, Calculate Pauli Expectation Values - 8.3s, Calculate Covariance - 2.34s\n",
      "f0,f1,f2 = [7.495882664060821e-09, 7.495882664095553e-09, 7.495882664037996e-09]\n",
      "d01,d02,d12 = [1.4097274031542801, 1.4097274030474294, 1.409727403119624]\n"
     ]
    },
    {
     "name": "stderr",
     "output_type": "stream",
     "text": [
      "Progress:  24%|██▍       | 242/1000 [1:00:53<3:07:08, 14.81s/it]"
     ]
    },
    {
     "name": "stdout",
     "output_type": "stream",
     "text": [
      "Time to: Calculate Ground State - 1.02s, Get Pauli Ops - 4.8s, Calculate Pauli Expectation Values - 6.84s, Calculate Covariance - 2.28s\n",
      "f0,f1,f2 = [7.842217363804929e-09, 7.842217363852459e-09, 7.842217363783905e-09]\n",
      "d01,d02,d12 = [1.3912039503142568, 1.3912039502047058, 1.3912039502787072]\n"
     ]
    },
    {
     "name": "stderr",
     "output_type": "stream",
     "text": [
      "Progress:  24%|██▍       | 243/1000 [1:01:09<3:14:10, 15.39s/it]"
     ]
    },
    {
     "name": "stdout",
     "output_type": "stream",
     "text": [
      "Time to: Calculate Ground State - 1.05s, Get Pauli Ops - 4.61s, Calculate Pauli Expectation Values - 8.88s, Calculate Covariance - 2.2s\n",
      "f0,f1,f2 = [6.506661369568587e-09, 6.506661369678018e-09, 6.506661369524314e-09]\n",
      "d01,d02,d12 = [1.37141519497687, 1.371415194865068, 1.371415194940573]\n"
     ]
    },
    {
     "name": "stderr",
     "output_type": "stream",
     "text": [
      "Progress:  24%|██▍       | 244/1000 [1:01:25<3:16:41, 15.61s/it]"
     ]
    },
    {
     "name": "stdout",
     "output_type": "stream",
     "text": [
      "Time to: Calculate Ground State - 1.15s, Get Pauli Ops - 6.86s, Calculate Pauli Expectation Values - 6.03s, Calculate Covariance - 2.07s\n",
      "f0,f1,f2 = [6.552182313894206e-09, 6.552182313978302e-09, 6.552182313852212e-09]\n",
      "d01,d02,d12 = [1.3468178511479625, 1.3468178510347282, 1.3468178511111877]\n"
     ]
    },
    {
     "name": "stderr",
     "output_type": "stream",
     "text": [
      "/cluster/home/mskrabulis/miniconda3/envs/quantech/lib/python3.9/site-packages/pyscf/symm/Dmatrix.py:156: RuntimeWarning: invalid value encountered in arccos\n",
      "  gamma = numpy.arccos(yp.dot(c2[1]))\n",
      "Progress:  24%|██▍       | 245/1000 [1:01:41<3:16:49, 15.64s/it]"
     ]
    },
    {
     "name": "stdout",
     "output_type": "stream",
     "text": [
      "Time to: Calculate Ground State - 1.4s, Get Pauli Ops - 6.81s, Calculate Pauli Expectation Values - 5.9s, Calculate Covariance - 1.59s\n",
      "f0,f1,f2 = [7.802087172019893e-09, 7.802087172066618e-09, 7.802087172008493e-09]\n",
      "d01,d02,d12 = [1.3163143875649963, 1.3163143874515408, 1.3163143875281436]\n"
     ]
    },
    {
     "name": "stderr",
     "output_type": "stream",
     "text": [
      "/cluster/home/mskrabulis/miniconda3/envs/quantech/lib/python3.9/site-packages/pyscf/symm/Dmatrix.py:156: RuntimeWarning: invalid value encountered in arccos\n",
      "  gamma = numpy.arccos(yp.dot(c2[1]))\n",
      "Progress:  25%|██▍       | 246/1000 [1:01:59<3:24:16, 16.25s/it]"
     ]
    },
    {
     "name": "stdout",
     "output_type": "stream",
     "text": [
      "Time to: Calculate Ground State - 1.09s, Get Pauli Ops - 7.39s, Calculate Pauli Expectation Values - 6.84s, Calculate Covariance - 2.36s\n",
      "f0,f1,f2 = [7.358856487724773e-09, 7.3588564880026e-09, 7.358856487594433e-09]\n",
      "d01,d02,d12 = [1.2805822379786733, 1.280582237865603, 1.2805822379419554]\n"
     ]
    },
    {
     "name": "stderr",
     "output_type": "stream",
     "text": [
      "Progress:  25%|██▍       | 247/1000 [1:02:13<3:14:50, 15.52s/it]"
     ]
    },
    {
     "name": "stdout",
     "output_type": "stream",
     "text": [
      "Time to: Calculate Ground State - 1.31s, Get Pauli Ops - 4.96s, Calculate Pauli Expectation Values - 5.74s, Calculate Covariance - 1.8s\n",
      "f0,f1,f2 = [6.9019806916797236e-09, 6.901980691794577e-09, 6.901980691641626e-09]\n",
      "d01,d02,d12 = [1.2373442203929859, 1.2373442202817346, 1.237344220356876]\n"
     ]
    },
    {
     "name": "stderr",
     "output_type": "stream",
     "text": [
      "/cluster/home/mskrabulis/miniconda3/envs/quantech/lib/python3.9/site-packages/pyscf/symm/Dmatrix.py:156: RuntimeWarning: invalid value encountered in arccos\n",
      "  gamma = numpy.arccos(yp.dot(c2[1]))\n",
      "Progress:  25%|██▍       | 248/1000 [1:02:26<3:06:56, 14.92s/it]"
     ]
    },
    {
     "name": "stdout",
     "output_type": "stream",
     "text": [
      "Time to: Calculate Ground State - 1.0s, Get Pauli Ops - 4.7s, Calculate Pauli Expectation Values - 5.84s, Calculate Covariance - 1.95s\n",
      "f0,f1,f2 = [6.559113438961036e-09, 6.559113439353615e-09, 6.559113438748264e-09]\n",
      "d01,d02,d12 = [1.192821303392868, 1.1928213032825805, 1.1928213033570785]\n"
     ]
    },
    {
     "name": "stderr",
     "output_type": "stream",
     "text": [
      "/cluster/home/mskrabulis/miniconda3/envs/quantech/lib/python3.9/site-packages/pyscf/symm/Dmatrix.py:156: RuntimeWarning: invalid value encountered in arccos\n",
      "  gamma = numpy.arccos(yp.dot(c2[1]))\n",
      "Progress:  25%|██▍       | 249/1000 [1:02:40<3:03:54, 14.69s/it]"
     ]
    },
    {
     "name": "stdout",
     "output_type": "stream",
     "text": [
      "Time to: Calculate Ground State - 0.97s, Get Pauli Ops - 5.05s, Calculate Pauli Expectation Values - 6.22s, Calculate Covariance - 1.93s\n",
      "f0,f1,f2 = [5.333165680824467e-09, 5.3331656812893735e-09, 5.333165680593145e-09]\n",
      "d01,d02,d12 = [1.140607941970635, 1.140607941863218, 1.1406079419357777]\n"
     ]
    },
    {
     "name": "stderr",
     "output_type": "stream",
     "text": [
      "Progress:  25%|██▌       | 250/1000 [1:02:55<3:03:52, 14.71s/it]"
     ]
    },
    {
     "name": "stdout",
     "output_type": "stream",
     "text": [
      "Time to: Calculate Ground State - 1.33s, Get Pauli Ops - 4.89s, Calculate Pauli Expectation Values - 6.41s, Calculate Covariance - 2.12s\n",
      "f0,f1,f2 = [5.037302912353337e-09, 5.037302912642634e-09, 5.037302912207906e-09]\n",
      "d01,d02,d12 = [1.084895584750436, 1.0848955846480028, 1.0848955847172113]\n"
     ]
    },
    {
     "name": "stderr",
     "output_type": "stream",
     "text": [
      "Progress:  25%|██▌       | 251/1000 [1:03:08<2:58:53, 14.33s/it]"
     ]
    },
    {
     "name": "stdout",
     "output_type": "stream",
     "text": [
      "Time to: Calculate Ground State - 0.97s, Get Pauli Ops - 4.31s, Calculate Pauli Expectation Values - 6.27s, Calculate Covariance - 1.89s\n",
      "f0,f1,f2 = [2.819319670242856e-09, 2.819319670992192e-09, 2.819319669894494e-09]\n",
      "d01,d02,d12 = [1.0291202485757869, 1.0291202484770718, 1.0291202485437545]\n"
     ]
    },
    {
     "name": "stderr",
     "output_type": "stream",
     "text": [
      "/cluster/home/mskrabulis/miniconda3/envs/quantech/lib/python3.9/site-packages/pyscf/symm/Dmatrix.py:156: RuntimeWarning: invalid value encountered in arccos\n",
      "  gamma = numpy.arccos(yp.dot(c2[1]))\n",
      "Progress:  25%|██▌       | 252/1000 [1:03:21<2:53:41, 13.93s/it]"
     ]
    },
    {
     "name": "stdout",
     "output_type": "stream",
     "text": [
      "Time to: Calculate Ground State - 0.99s, Get Pauli Ops - 4.29s, Calculate Pauli Expectation Values - 6.02s, Calculate Covariance - 1.7s\n",
      "f0,f1,f2 = [7.635904724710168e-10, 7.63590473161947e-10, 7.635904721201415e-10]\n",
      "d01,d02,d12 = [0.9774788176947484, 0.9774788176013164, 0.977478817664383]\n"
     ]
    },
    {
     "name": "stderr",
     "output_type": "stream",
     "text": [
      "Progress:  25%|██▌       | 253/1000 [1:03:38<3:02:01, 14.62s/it]"
     ]
    },
    {
     "name": "stdout",
     "output_type": "stream",
     "text": [
      "Time to: Calculate Ground State - 1.35s, Get Pauli Ops - 5.03s, Calculate Pauli Expectation Values - 7.94s, Calculate Covariance - 1.89s\n",
      "f0,f1,f2 = [1.334181908089004e-09, 1.3341819070762028e-09, 1.3341819085660093e-09]\n",
      "d01,d02,d12 = [0.9287813251446555, 0.9287813250596484, 0.9287813251169795]\n"
     ]
    },
    {
     "name": "stderr",
     "output_type": "stream",
     "text": [
      "Progress:  25%|██▌       | 254/1000 [1:03:56<3:15:12, 15.70s/it]"
     ]
    },
    {
     "name": "stdout",
     "output_type": "stream",
     "text": [
      "Time to: Calculate Ground State - 1.15s, Get Pauli Ops - 7.01s, Calculate Pauli Expectation Values - 8.3s, Calculate Covariance - 1.75s\n",
      "f0,f1,f2 = [2.6405885165924467e-09, 2.640588515317088e-09, 2.6405885172280503e-09]\n",
      "d01,d02,d12 = [0.881969559699606, 0.8819695596239014, 0.8819695596749108]\n"
     ]
    },
    {
     "name": "stderr",
     "output_type": "stream",
     "text": [
      "Progress:  26%|██▌       | 255/1000 [1:04:14<3:22:50, 16.34s/it]"
     ]
    },
    {
     "name": "stdout",
     "output_type": "stream",
     "text": [
      "Time to: Calculate Ground State - 1.35s, Get Pauli Ops - 7.51s, Calculate Pauli Expectation Values - 7.1s, Calculate Covariance - 1.86s\n",
      "f0,f1,f2 = [5.34593438720882e-09, 5.345934385802818e-09, 5.345934387866241e-09]\n",
      "d01,d02,d12 = [0.8437025293464737, 0.843702529282176, 0.8437025293254569]\n"
     ]
    },
    {
     "name": "stderr",
     "output_type": "stream",
     "text": [
      "/cluster/home/mskrabulis/miniconda3/envs/quantech/lib/python3.9/site-packages/pyscf/symm/Dmatrix.py:156: RuntimeWarning: invalid value encountered in arccos\n",
      "  gamma = numpy.arccos(yp.dot(c2[1]))\n",
      "Progress:  26%|██▌       | 256/1000 [1:04:27<3:10:12, 15.34s/it]"
     ]
    },
    {
     "name": "stdout",
     "output_type": "stream",
     "text": [
      "Time to: Calculate Ground State - 1.2s, Get Pauli Ops - 4.19s, Calculate Pauli Expectation Values - 5.87s, Calculate Covariance - 1.75s\n",
      "f0,f1,f2 = [7.54668618806641e-09, 7.54668618672714e-09, 7.546686188693327e-09]\n",
      "d01,d02,d12 = [0.8090734073430945, 0.8090734072914282, 0.8090734073261449]\n"
     ]
    },
    {
     "name": "stderr",
     "output_type": "stream",
     "text": [
      "Progress:  26%|██▌       | 257/1000 [1:04:42<3:10:32, 15.39s/it]"
     ]
    },
    {
     "name": "stdout",
     "output_type": "stream",
     "text": [
      "Time to: Calculate Ground State - 1.17s, Get Pauli Ops - 5.18s, Calculate Pauli Expectation Values - 7.21s, Calculate Covariance - 1.92s\n",
      "f0,f1,f2 = [1.1223019064205809e-08, 1.1223019062890388e-08, 1.122301906485352e-08]\n",
      "d01,d02,d12 = [0.7815509968769316, 0.78155099683782, 0.7815509968640354]\n"
     ]
    },
    {
     "name": "stderr",
     "output_type": "stream",
     "text": [
      "Progress:  26%|██▌       | 258/1000 [1:04:57<3:08:20, 15.23s/it]"
     ]
    },
    {
     "name": "stdout",
     "output_type": "stream",
     "text": [
      "Time to: Calculate Ground State - 1.03s, Get Pauli Ops - 5.69s, Calculate Pauli Expectation Values - 6.11s, Calculate Covariance - 2.02s\n",
      "f0,f1,f2 = [1.5232651535104554e-08, 1.523265153401868e-08, 1.523265153563406e-08]\n",
      "d01,d02,d12 = [0.7610158607720756, 0.7610158607460796, 0.7610158607633993]\n"
     ]
    },
    {
     "name": "stderr",
     "output_type": "stream",
     "text": [
      "Progress:  26%|██▌       | 259/1000 [1:05:10<3:00:17, 14.60s/it]"
     ]
    },
    {
     "name": "stdout",
     "output_type": "stream",
     "text": [
      "Time to: Calculate Ground State - 1.11s, Get Pauli Ops - 4.54s, Calculate Pauli Expectation Values - 5.87s, Calculate Covariance - 1.59s\n",
      "f0,f1,f2 = [1.627715810547396e-08, 1.6277158104589466e-08, 1.6277158105891885e-08]\n",
      "d01,d02,d12 = [0.7474775818040276, 0.74747758179239, 0.7474775817999904]\n"
     ]
    },
    {
     "name": "stderr",
     "output_type": "stream",
     "text": [
      "Progress:  26%|██▌       | 260/1000 [1:05:27<3:07:09, 15.18s/it]"
     ]
    },
    {
     "name": "stdout",
     "output_type": "stream",
     "text": [
      "Time to: Calculate Ground State - 1.11s, Get Pauli Ops - 5.54s, Calculate Pauli Expectation Values - 7.93s, Calculate Covariance - 1.93s\n",
      "f0,f1,f2 = [1.9296250069951445e-08, 1.9296250069571746e-08, 1.929625007014231e-08]\n",
      "d01,d02,d12 = [0.7425211210589759, 0.7425211210621004, 0.7425211210597161]\n"
     ]
    },
    {
     "name": "stderr",
     "output_type": "stream",
     "text": [
      "/cluster/home/mskrabulis/miniconda3/envs/quantech/lib/python3.9/site-packages/pyscf/symm/Dmatrix.py:156: RuntimeWarning: invalid value encountered in arccos\n",
      "  gamma = numpy.arccos(yp.dot(c2[1]))\n",
      "/cluster/home/mskrabulis/miniconda3/envs/quantech/lib/python3.9/site-packages/pyscf/symm/Dmatrix.py:156: RuntimeWarning: invalid value encountered in arccos\n",
      "  gamma = numpy.arccos(yp.dot(c2[1]))\n",
      "Progress:  26%|██▌       | 261/1000 [1:05:44<3:13:28, 15.71s/it]"
     ]
    },
    {
     "name": "stdout",
     "output_type": "stream",
     "text": [
      "Time to: Calculate Ground State - 1.06s, Get Pauli Ops - 6.54s, Calculate Pauli Expectation Values - 7.32s, Calculate Covariance - 2.02s\n",
      "f0,f1,f2 = [1.967081158245496e-08, 1.9670811582574994e-08, 1.9670811582421605e-08]\n",
      "d01,d02,d12 = [0.7458264153771728, 0.745826415394999, 0.745826415382678]\n"
     ]
    },
    {
     "name": "stderr",
     "output_type": "stream",
     "text": [
      "Progress:  26%|██▌       | 262/1000 [1:06:00<3:16:53, 16.01s/it]"
     ]
    },
    {
     "name": "stdout",
     "output_type": "stream",
     "text": [
      "Time to: Calculate Ground State - 1.04s, Get Pauli Ops - 6.81s, Calculate Pauli Expectation Values - 6.97s, Calculate Covariance - 1.88s\n",
      "f0,f1,f2 = [1.8370984177542243e-08, 1.837098417819579e-08, 1.8370984177260922e-08]\n",
      "d01,d02,d12 = [0.7566806279704406, 0.7566806280025047, 0.7566806279805671]\n"
     ]
    },
    {
     "name": "stderr",
     "output_type": "stream",
     "text": [
      "Progress:  26%|██▋       | 263/1000 [1:06:17<3:16:53, 16.03s/it]"
     ]
    },
    {
     "name": "stdout",
     "output_type": "stream",
     "text": [
      "Time to: Calculate Ground State - 1.0s, Get Pauli Ops - 6.29s, Calculate Pauli Expectation Values - 6.93s, Calculate Covariance - 1.85s\n",
      "f0,f1,f2 = [1.7050869515685205e-08, 1.7050869516715995e-08, 1.705086951519609e-08]\n",
      "d01,d02,d12 = [0.7735975471192523, 0.7735975471651125, 0.7735975471338526]\n"
     ]
    },
    {
     "name": "stderr",
     "output_type": "stream",
     "text": [
      "Progress:  26%|██▋       | 264/1000 [1:06:32<3:14:35, 15.86s/it]"
     ]
    },
    {
     "name": "stdout",
     "output_type": "stream",
     "text": [
      "Time to: Calculate Ground State - 1.09s, Get Pauli Ops - 4.55s, Calculate Pauli Expectation Values - 7.59s, Calculate Covariance - 2.25s\n",
      "f0,f1,f2 = [1.5040595594704137e-08, 1.5040595596098234e-08, 1.5040595594059145e-08]\n",
      "d01,d02,d12 = [0.7968647073335343, 0.7968647073926788, 0.7968647073524467]\n"
     ]
    },
    {
     "name": "stderr",
     "output_type": "stream",
     "text": [
      "/cluster/home/mskrabulis/miniconda3/envs/quantech/lib/python3.9/site-packages/pyscf/symm/Dmatrix.py:156: RuntimeWarning: invalid value encountered in arccos\n",
      "  gamma = numpy.arccos(yp.dot(c2[1]))\n",
      "Progress:  26%|██▋       | 265/1000 [1:06:48<3:16:27, 16.04s/it]"
     ]
    },
    {
     "name": "stdout",
     "output_type": "stream",
     "text": [
      "Time to: Calculate Ground State - 0.8s, Get Pauli Ops - 6.75s, Calculate Pauli Expectation Values - 6.76s, Calculate Covariance - 2.13s\n",
      "f0,f1,f2 = [1.267146481897062e-08, 1.2671464820581814e-08, 1.2671464818218071e-08]\n",
      "d01,d02,d12 = [0.8273799421778079, 0.827379942249545, 0.8273799422008113]\n"
     ]
    },
    {
     "name": "stderr",
     "output_type": "stream",
     "text": [
      "Progress:  27%|██▋       | 266/1000 [1:07:08<3:28:04, 17.01s/it]"
     ]
    },
    {
     "name": "stdout",
     "output_type": "stream",
     "text": [
      "Time to: Calculate Ground State - 1.18s, Get Pauli Ops - 4.89s, Calculate Pauli Expectation Values - 11.3s, Calculate Covariance - 1.89s\n",
      "f0,f1,f2 = [9.060860161894278e-09, 9.060860163650737e-09, 9.06086016107375e-09]\n",
      "d01,d02,d12 = [0.8589614178669644, 0.8589614179502317, 0.8589614178937212]\n"
     ]
    },
    {
     "name": "stderr",
     "output_type": "stream",
     "text": [
      "/cluster/home/mskrabulis/miniconda3/envs/quantech/lib/python3.9/site-packages/pyscf/symm/Dmatrix.py:156: RuntimeWarning: invalid value encountered in arccos\n",
      "  gamma = numpy.arccos(yp.dot(c2[1]))\n",
      "Progress:  27%|██▋       | 267/1000 [1:07:22<3:17:21, 16.16s/it]"
     ]
    },
    {
     "name": "stdout",
     "output_type": "stream",
     "text": [
      "Time to: Calculate Ground State - 1.22s, Get Pauli Ops - 4.76s, Calculate Pauli Expectation Values - 6.34s, Calculate Covariance - 1.83s\n",
      "f0,f1,f2 = [7.25640090042124e-09, 7.256400902157604e-09, 7.2564008995926675e-09]\n",
      "d01,d02,d12 = [0.8954121796155855, 0.8954121797104153, 0.8954121796461111]\n"
     ]
    },
    {
     "name": "stderr",
     "output_type": "stream",
     "text": [
      "Progress:  27%|██▋       | 268/1000 [1:07:35<3:06:36, 15.30s/it]"
     ]
    },
    {
     "name": "stdout",
     "output_type": "stream",
     "text": [
      "Time to: Calculate Ground State - 0.98s, Get Pauli Ops - 4.45s, Calculate Pauli Expectation Values - 5.86s, Calculate Covariance - 2.0s\n",
      "f0,f1,f2 = [4.158971618366991e-09, 4.158971619918702e-09, 4.158971617609684e-09]\n",
      "d01,d02,d12 = [0.9347465792393693, 0.9347465793486087, 0.9347465792745842]\n"
     ]
    },
    {
     "name": "stderr",
     "output_type": "stream",
     "text": [
      "/cluster/home/mskrabulis/miniconda3/envs/quantech/lib/python3.9/site-packages/pyscf/symm/Dmatrix.py:156: RuntimeWarning: invalid value encountered in arccos\n",
      "  gamma = numpy.arccos(yp.dot(c2[1]))\n",
      "/cluster/home/mskrabulis/miniconda3/envs/quantech/lib/python3.9/site-packages/pyscf/symm/Dmatrix.py:156: RuntimeWarning: invalid value encountered in arccos\n",
      "  gamma = numpy.arccos(yp.dot(c2[1]))\n",
      "Progress:  27%|██▋       | 269/1000 [1:07:48<2:56:51, 14.52s/it]"
     ]
    },
    {
     "name": "stdout",
     "output_type": "stream",
     "text": [
      "Time to: Calculate Ground State - 0.76s, Get Pauli Ops - 4.23s, Calculate Pauli Expectation Values - 5.93s, Calculate Covariance - 1.77s\n",
      "f0,f1,f2 = [2.401018407069582e-09, 2.4010184087364955e-09, 2.401018406284453e-09]\n",
      "d01,d02,d12 = [0.9754139668609891, 0.9754139669810725, 0.9754139668997519]\n"
     ]
    },
    {
     "name": "stderr",
     "output_type": "stream",
     "text": [
      "/cluster/home/mskrabulis/miniconda3/envs/quantech/lib/python3.9/site-packages/pyscf/symm/Dmatrix.py:156: RuntimeWarning: invalid value encountered in arccos\n",
      "  gamma = numpy.arccos(yp.dot(c2[1]))\n",
      "Progress:  27%|██▋       | 270/1000 [1:08:03<2:59:31, 14.76s/it]"
     ]
    },
    {
     "name": "stdout",
     "output_type": "stream",
     "text": [
      "Time to: Calculate Ground State - 1.3s, Get Pauli Ops - 5.15s, Calculate Pauli Expectation Values - 6.67s, Calculate Covariance - 2.19s\n",
      "f0,f1,f2 = [1.313010899347098e-09, 1.3130109008874788e-09, 1.3130108986338368e-09]\n",
      "d01,d02,d12 = [1.0169264145102659, 1.0169264146379102, 1.0169264145514902]\n"
     ]
    },
    {
     "name": "stderr",
     "output_type": "stream",
     "text": [
      "/cluster/home/mskrabulis/miniconda3/envs/quantech/lib/python3.9/site-packages/pyscf/symm/Dmatrix.py:156: RuntimeWarning: invalid value encountered in arccos\n",
      "  gamma = numpy.arccos(yp.dot(c2[1]))\n",
      "Progress:  27%|██▋       | 271/1000 [1:08:18<3:01:15, 14.92s/it]"
     ]
    },
    {
     "name": "stdout",
     "output_type": "stream",
     "text": [
      "Time to: Calculate Ground State - 1.3s, Get Pauli Ops - 4.94s, Calculate Pauli Expectation Values - 6.77s, Calculate Covariance - 2.28s\n",
      "f0,f1,f2 = [8.780019960503321e-10, 8.780019949492252e-10, 8.780019965802146e-10]\n",
      "d01,d02,d12 = [1.0565516792586056, 1.0565516793988607, 1.0565516793039034]\n"
     ]
    },
    {
     "name": "stderr",
     "output_type": "stream",
     "text": [
      "/cluster/home/mskrabulis/miniconda3/envs/quantech/lib/python3.9/site-packages/pyscf/symm/Dmatrix.py:156: RuntimeWarning: invalid value encountered in arccos\n",
      "  gamma = numpy.arccos(yp.dot(c2[1]))\n",
      "Progress:  27%|██▋       | 272/1000 [1:08:34<3:02:41, 15.06s/it]"
     ]
    },
    {
     "name": "stdout",
     "output_type": "stream",
     "text": [
      "Time to: Calculate Ground State - 1.33s, Get Pauli Ops - 5.64s, Calculate Pauli Expectation Values - 6.28s, Calculate Covariance - 2.12s\n",
      "f0,f1,f2 = [2.635554398996917e-09, 2.6355543980135624e-09, 2.6355543994514124e-09]\n",
      "d01,d02,d12 = [1.0962336158346444, 1.0962336159889328, 1.096233615884452]\n"
     ]
    },
    {
     "name": "stderr",
     "output_type": "stream",
     "text": [
      "Progress:  27%|██▋       | 273/1000 [1:08:49<3:03:53, 15.18s/it]"
     ]
    },
    {
     "name": "stdout",
     "output_type": "stream",
     "text": [
      "Time to: Calculate Ground State - 1.1s, Get Pauli Ops - 4.8s, Calculate Pauli Expectation Values - 7.36s, Calculate Covariance - 2.19s\n",
      "f0,f1,f2 = [3.618731224457227e-09, 3.6187312234459584e-09, 3.6187312249340124e-09]\n",
      "d01,d02,d12 = [1.131388566301952, 1.1313885664724845, 1.1313885663569612]\n"
     ]
    },
    {
     "name": "stderr",
     "output_type": "stream",
     "text": [
      "Progress:  27%|██▋       | 274/1000 [1:09:04<3:00:47, 14.94s/it]"
     ]
    },
    {
     "name": "stdout",
     "output_type": "stream",
     "text": [
      "Time to: Calculate Ground State - 1.3s, Get Pauli Ops - 5.34s, Calculate Pauli Expectation Values - 6.14s, Calculate Covariance - 1.6s\n",
      "f0,f1,f2 = [4.624198423481261e-09, 4.624198422569699e-09, 4.6241984239289026e-09]\n",
      "d01,d02,d12 = [1.1682645515497652, 1.168264551737644, 1.1682645516103383]\n"
     ]
    },
    {
     "name": "stderr",
     "output_type": "stream",
     "text": [
      "Progress:  28%|██▊       | 275/1000 [1:09:19<3:01:10, 14.99s/it]"
     ]
    },
    {
     "name": "stdout",
     "output_type": "stream",
     "text": [
      "Time to: Calculate Ground State - 1.33s, Get Pauli Ops - 5.09s, Calculate Pauli Expectation Values - 6.48s, Calculate Covariance - 2.21s\n",
      "f0,f1,f2 = [5.1657212827658485e-09, 5.165721282107435e-09, 5.165721283072456e-09]\n",
      "d01,d02,d12 = [1.2036635895654852, 1.2036635897733527, 1.2036635896324623]\n"
     ]
    },
    {
     "name": "stderr",
     "output_type": "stream",
     "text": [
      "/cluster/home/mskrabulis/miniconda3/envs/quantech/lib/python3.9/site-packages/pyscf/symm/Dmatrix.py:156: RuntimeWarning: invalid value encountered in arccos\n",
      "  gamma = numpy.arccos(yp.dot(c2[1]))\n",
      "Progress:  28%|██▊       | 276/1000 [1:09:35<3:03:37, 15.22s/it]"
     ]
    },
    {
     "name": "stdout",
     "output_type": "stream",
     "text": [
      "Time to: Calculate Ground State - 1.3s, Get Pauli Ops - 5.16s, Calculate Pauli Expectation Values - 6.79s, Calculate Covariance - 2.49s\n",
      "f0,f1,f2 = [5.451249597028414e-09, 5.451249596358778e-09, 5.451249597330507e-09]\n",
      "d01,d02,d12 = [1.2404477257944304, 1.2404477260202578, 1.2404477258671585]\n"
     ]
    },
    {
     "name": "stderr",
     "output_type": "stream",
     "text": [
      "/cluster/home/mskrabulis/miniconda3/envs/quantech/lib/python3.9/site-packages/pyscf/symm/Dmatrix.py:156: RuntimeWarning: invalid value encountered in arccos\n",
      "  gamma = numpy.arccos(yp.dot(c2[1]))\n",
      "Progress:  28%|██▊       | 277/1000 [1:09:49<3:01:29, 15.06s/it]"
     ]
    },
    {
     "name": "stdout",
     "output_type": "stream",
     "text": [
      "Time to: Calculate Ground State - 1.04s, Get Pauli Ops - 4.43s, Calculate Pauli Expectation Values - 6.99s, Calculate Covariance - 2.23s\n",
      "f0,f1,f2 = [5.861975614181322e-09, 5.861975613592338e-09, 5.8619756144633915e-09]\n",
      "d01,d02,d12 = [1.2756590154596172, 1.2756590157084187, 1.275659015539711]\n"
     ]
    },
    {
     "name": "stderr",
     "output_type": "stream",
     "text": [
      "Progress:  28%|██▊       | 278/1000 [1:10:05<3:01:52, 15.11s/it]"
     ]
    },
    {
     "name": "stdout",
     "output_type": "stream",
     "text": [
      "Time to: Calculate Ground State - 0.78s, Get Pauli Ops - 4.56s, Calculate Pauli Expectation Values - 7.63s, Calculate Covariance - 2.25s\n",
      "f0,f1,f2 = [5.975515112402893e-09, 5.975515111875281e-09, 5.975515112639555e-09]\n",
      "d01,d02,d12 = [1.3068992315880288, 1.3068992318580621, 1.3068992316749124]\n"
     ]
    },
    {
     "name": "stderr",
     "output_type": "stream",
     "text": [
      "/cluster/home/mskrabulis/miniconda3/envs/quantech/lib/python3.9/site-packages/pyscf/symm/Dmatrix.py:156: RuntimeWarning: invalid value encountered in arccos\n",
      "  gamma = numpy.arccos(yp.dot(c2[1]))\n",
      "Progress:  28%|██▊       | 279/1000 [1:10:19<2:58:19, 14.84s/it]"
     ]
    },
    {
     "name": "stdout",
     "output_type": "stream",
     "text": [
      "Time to: Calculate Ground State - 0.76s, Get Pauli Ops - 3.99s, Calculate Pauli Expectation Values - 7.53s, Calculate Covariance - 1.91s\n",
      "f0,f1,f2 = [6.68822121436071e-09, 6.6882212138343015e-09, 6.68822121460922e-09]\n",
      "d01,d02,d12 = [1.3368836477852104, 1.3368836480755866, 1.3368836478785986]\n"
     ]
    },
    {
     "name": "stderr",
     "output_type": "stream",
     "text": [
      "/cluster/home/mskrabulis/miniconda3/envs/quantech/lib/python3.9/site-packages/pyscf/symm/Dmatrix.py:156: RuntimeWarning: invalid value encountered in arccos\n",
      "  gamma = numpy.arccos(yp.dot(c2[1]))\n",
      "/cluster/home/mskrabulis/miniconda3/envs/quantech/lib/python3.9/site-packages/pyscf/symm/Dmatrix.py:156: RuntimeWarning: invalid value encountered in arccos\n",
      "  gamma = numpy.arccos(yp.dot(c2[1]))\n",
      "Progress:  28%|██▊       | 280/1000 [1:10:33<2:56:41, 14.72s/it]"
     ]
    },
    {
     "name": "stdout",
     "output_type": "stream",
     "text": [
      "Time to: Calculate Ground State - 1.01s, Get Pauli Ops - 4.41s, Calculate Pauli Expectation Values - 6.71s, Calculate Covariance - 2.32s\n",
      "f0,f1,f2 = [6.357996764136098e-09, 6.357996763719425e-09, 6.3579967643394484e-09]\n",
      "d01,d02,d12 = [1.3644645730195262, 1.3644645733313572, 1.3644645731197724]\n"
     ]
    },
    {
     "name": "stderr",
     "output_type": "stream",
     "text": [
      "/cluster/home/mskrabulis/miniconda3/envs/quantech/lib/python3.9/site-packages/pyscf/symm/Dmatrix.py:156: RuntimeWarning: invalid value encountered in arccos\n",
      "  gamma = numpy.arccos(yp.dot(c2[1]))\n",
      "Progress:  28%|██▊       | 281/1000 [1:10:49<2:58:59, 14.94s/it]"
     ]
    },
    {
     "name": "stdout",
     "output_type": "stream",
     "text": [
      "Time to: Calculate Ground State - 1.0s, Get Pauli Ops - 4.57s, Calculate Pauli Expectation Values - 7.86s, Calculate Covariance - 1.99s\n",
      "f0,f1,f2 = [8.18789319677376e-09, 8.187893196532303e-09, 8.187893196881734e-09]\n",
      "d01,d02,d12 = [1.388256594957359, 1.3882565952901615, 1.3882565950643178]\n"
     ]
    },
    {
     "name": "stderr",
     "output_type": "stream",
     "text": [
      "Progress:  28%|██▊       | 282/1000 [1:11:05<3:03:25, 15.33s/it]"
     ]
    },
    {
     "name": "stdout",
     "output_type": "stream",
     "text": [
      "Time to: Calculate Ground State - 1.22s, Get Pauli Ops - 5.07s, Calculate Pauli Expectation Values - 7.78s, Calculate Covariance - 2.16s\n",
      "f0,f1,f2 = [6.309397033318157e-09, 6.309397032988902e-09, 6.309397033472754e-09]\n",
      "d01,d02,d12 = [1.4100321187571008, 1.4100321191114291, 1.4100321188709528]\n"
     ]
    },
    {
     "name": "stderr",
     "output_type": "stream",
     "text": [
      "/cluster/home/mskrabulis/miniconda3/envs/quantech/lib/python3.9/site-packages/pyscf/symm/Dmatrix.py:156: RuntimeWarning: invalid value encountered in arccos\n",
      "  gamma = numpy.arccos(yp.dot(c2[1]))\n",
      "Progress:  28%|██▊       | 283/1000 [1:11:20<3:01:27, 15.19s/it]"
     ]
    },
    {
     "name": "stdout",
     "output_type": "stream",
     "text": [
      "Time to: Calculate Ground State - 1.04s, Get Pauli Ops - 4.27s, Calculate Pauli Expectation Values - 7.79s, Calculate Covariance - 1.74s\n",
      "f0,f1,f2 = [7.62371057592803e-09, 7.623710576027134e-09, 7.623710575872326e-09]\n",
      "d01,d02,d12 = [1.4281560544046887, 1.4281560547810368, 1.4281560545255907]\n"
     ]
    },
    {
     "name": "stderr",
     "output_type": "stream",
     "text": [
      "Progress:  28%|██▊       | 284/1000 [1:11:34<2:59:13, 15.02s/it]"
     ]
    },
    {
     "name": "stdout",
     "output_type": "stream",
     "text": [
      "Time to: Calculate Ground State - 0.94s, Get Pauli Ops - 4.08s, Calculate Pauli Expectation Values - 7.77s, Calculate Covariance - 1.83s\n",
      "f0,f1,f2 = [7.2014872292222265e-09, 7.2014872289930304e-09, 7.20148722934434e-09]\n",
      "d01,d02,d12 = [1.4444537021647337, 1.4444537025645936, 1.4444537022931594]\n"
     ]
    },
    {
     "name": "stderr",
     "output_type": "stream",
     "text": [
      "/cluster/home/mskrabulis/miniconda3/envs/quantech/lib/python3.9/site-packages/pyscf/symm/Dmatrix.py:156: RuntimeWarning: invalid value encountered in arccos\n",
      "  gamma = numpy.arccos(yp.dot(c2[1]))\n",
      "Progress:  28%|██▊       | 285/1000 [1:11:48<2:53:52, 14.59s/it]"
     ]
    },
    {
     "name": "stdout",
     "output_type": "stream",
     "text": [
      "Time to: Calculate Ground State - 0.94s, Get Pauli Ops - 4.46s, Calculate Pauli Expectation Values - 6.38s, Calculate Covariance - 1.81s\n",
      "f0,f1,f2 = [7.16219555149566e-09, 7.162195551151821e-09, 7.162195551670983e-09]\n",
      "d01,d02,d12 = [1.4568840375012293, 1.456884037924255, 1.4568840376370586]\n"
     ]
    },
    {
     "name": "stderr",
     "output_type": "stream",
     "text": [
      "/cluster/home/mskrabulis/miniconda3/envs/quantech/lib/python3.9/site-packages/pyscf/symm/Dmatrix.py:156: RuntimeWarning: invalid value encountered in arccos\n",
      "  gamma = numpy.arccos(yp.dot(c2[1]))\n",
      "/cluster/home/mskrabulis/miniconda3/envs/quantech/lib/python3.9/site-packages/pyscf/symm/Dmatrix.py:156: RuntimeWarning: invalid value encountered in arccos\n",
      "  gamma = numpy.arccos(yp.dot(c2[1]))\n",
      "Progress:  29%|██▊       | 286/1000 [1:12:02<2:52:46, 14.52s/it]"
     ]
    },
    {
     "name": "stdout",
     "output_type": "stream",
     "text": [
      "Time to: Calculate Ground State - 1.14s, Get Pauli Ops - 5.26s, Calculate Pauli Expectation Values - 5.86s, Calculate Covariance - 2.08s\n",
      "f0,f1,f2 = [6.80577790234709e-09, 6.805777902616873e-09, 6.8057779022274545e-09]\n",
      "d01,d02,d12 = [1.4666618667773288, 1.4666618672272758, 1.4666618669217664]\n"
     ]
    },
    {
     "name": "stderr",
     "output_type": "stream",
     "text": [
      "Progress:  29%|██▊       | 287/1000 [1:12:19<2:59:17, 15.09s/it]"
     ]
    },
    {
     "name": "stdout",
     "output_type": "stream",
     "text": [
      "Time to: Calculate Ground State - 1.0s, Get Pauli Ops - 5.17s, Calculate Pauli Expectation Values - 8.3s, Calculate Covariance - 1.94s\n",
      "f0,f1,f2 = [7.2036916118286965e-09, 7.203691611596992e-09, 7.203691611936936e-09]\n",
      "d01,d02,d12 = [1.4742455335658087, 1.4742455340416194, 1.4742455337185096]\n"
     ]
    },
    {
     "name": "stderr",
     "output_type": "stream",
     "text": [
      "/cluster/home/mskrabulis/miniconda3/envs/quantech/lib/python3.9/site-packages/pyscf/symm/Dmatrix.py:156: RuntimeWarning: invalid value encountered in arccos\n",
      "  gamma = numpy.arccos(yp.dot(c2[1]))\n",
      "Progress:  29%|██▉       | 288/1000 [1:12:33<2:55:59, 14.83s/it]"
     ]
    },
    {
     "name": "stdout",
     "output_type": "stream",
     "text": [
      "Time to: Calculate Ground State - 0.99s, Get Pauli Ops - 5.02s, Calculate Pauli Expectation Values - 6.45s, Calculate Covariance - 1.76s\n",
      "f0,f1,f2 = [7.4382247400349145e-09, 7.438224739692404e-09, 7.4382247401969525e-09]\n",
      "d01,d02,d12 = [1.480023031948873, 1.4800230324519543, 1.4800230321102767]\n"
     ]
    },
    {
     "name": "stderr",
     "output_type": "stream",
     "text": [
      "/cluster/home/mskrabulis/miniconda3/envs/quantech/lib/python3.9/site-packages/pyscf/symm/Dmatrix.py:156: RuntimeWarning: invalid value encountered in arccos\n",
      "  gamma = numpy.arccos(yp.dot(c2[1]))\n",
      "Progress:  29%|██▉       | 289/1000 [1:12:48<2:56:45, 14.92s/it]"
     ]
    },
    {
     "name": "stdout",
     "output_type": "stream",
     "text": [
      "Time to: Calculate Ground State - 1.0s, Get Pauli Ops - 4.51s, Calculate Pauli Expectation Values - 7.6s, Calculate Covariance - 1.99s\n",
      "f0,f1,f2 = [7.89900805559527e-09, 7.89900805491651e-09, 7.899008055903727e-09]\n",
      "d01,d02,d12 = [1.483067468097361, 1.483067468627202, 1.4830674682673048]\n"
     ]
    },
    {
     "name": "stderr",
     "output_type": "stream",
     "text": [
      "Progress:  29%|██▉       | 290/1000 [1:13:02<2:53:37, 14.67s/it]"
     ]
    },
    {
     "name": "stdout",
     "output_type": "stream",
     "text": [
      "Time to: Calculate Ground State - 1.3s, Get Pauli Ops - 4.86s, Calculate Pauli Expectation Values - 5.86s, Calculate Covariance - 2.08s\n",
      "f0,f1,f2 = [6.073513954219621e-09, 6.073513953832694e-09, 6.073513954402117e-09]\n",
      "d01,d02,d12 = [1.4829853422598926, 1.4829853428158442, 1.4829853424381707]\n"
     ]
    },
    {
     "name": "stderr",
     "output_type": "stream",
     "text": [
      "Progress:  29%|██▉       | 291/1000 [1:13:19<3:02:16, 15.43s/it]"
     ]
    },
    {
     "name": "stdout",
     "output_type": "stream",
     "text": [
      "Time to: Calculate Ground State - 1.21s, Get Pauli Ops - 4.88s, Calculate Pauli Expectation Values - 8.9s, Calculate Covariance - 2.19s\n",
      "f0,f1,f2 = [7.36286230183902e-09, 7.362862301996362e-09, 7.362862301766262e-09]\n",
      "d01,d02,d12 = [1.4798500439951412, 1.47985004457713, 1.4798500441817293]\n"
     ]
    },
    {
     "name": "stderr",
     "output_type": "stream",
     "text": [
      "/cluster/home/mskrabulis/miniconda3/envs/quantech/lib/python3.9/site-packages/pyscf/symm/Dmatrix.py:156: RuntimeWarning: invalid value encountered in arccos\n",
      "  gamma = numpy.arccos(yp.dot(c2[1]))\n",
      "Progress:  29%|██▉       | 292/1000 [1:13:34<3:01:03, 15.34s/it]"
     ]
    },
    {
     "name": "stdout",
     "output_type": "stream",
     "text": [
      "Time to: Calculate Ground State - 1.02s, Get Pauli Ops - 4.58s, Calculate Pauli Expectation Values - 7.14s, Calculate Covariance - 2.41s\n",
      "f0,f1,f2 = [8.29047148732647e-09, 8.29047148708019e-09, 8.290471487441367e-09]\n",
      "d01,d02,d12 = [1.4726331178193248, 1.4726331184262447, 1.472633118013866]\n"
     ]
    },
    {
     "name": "stderr",
     "output_type": "stream",
     "text": [
      "/cluster/home/mskrabulis/miniconda3/envs/quantech/lib/python3.9/site-packages/pyscf/symm/Dmatrix.py:156: RuntimeWarning: invalid value encountered in arccos\n",
      "  gamma = numpy.arccos(yp.dot(c2[1]))\n",
      "Progress:  29%|██▉       | 293/1000 [1:13:50<3:00:37, 15.33s/it]"
     ]
    },
    {
     "name": "stdout",
     "output_type": "stream",
     "text": [
      "Time to: Calculate Ground State - 1.33s, Get Pauli Ops - 4.48s, Calculate Pauli Expectation Values - 7.37s, Calculate Covariance - 2.11s\n",
      "f0,f1,f2 = [6.729020519108898e-09, 6.72902051972473e-09, 6.7290205188332e-09]\n",
      "d01,d02,d12 = [1.4627181762274963, 1.4627181768618918, 1.462718176430811]\n"
     ]
    },
    {
     "name": "stderr",
     "output_type": "stream",
     "text": [
      "/cluster/home/mskrabulis/miniconda3/envs/quantech/lib/python3.9/site-packages/pyscf/symm/Dmatrix.py:156: RuntimeWarning: invalid value encountered in arccos\n",
      "  gamma = numpy.arccos(yp.dot(c2[1]))\n",
      "Progress:  29%|██▉       | 294/1000 [1:14:05<2:58:52, 15.20s/it]"
     ]
    },
    {
     "name": "stdout",
     "output_type": "stream",
     "text": [
      "Time to: Calculate Ground State - 1.32s, Get Pauli Ops - 4.86s, Calculate Pauli Expectation Values - 6.39s, Calculate Covariance - 2.32s\n",
      "f0,f1,f2 = [7.716163230664519e-09, 7.716163230033984e-09, 7.716163230949806e-09]\n",
      "d01,d02,d12 = [1.4499526302161927, 1.4499526308786974, 1.4499526304284807]\n"
     ]
    },
    {
     "name": "stderr",
     "output_type": "stream",
     "text": [
      "/cluster/home/mskrabulis/miniconda3/envs/quantech/lib/python3.9/site-packages/pyscf/symm/Dmatrix.py:156: RuntimeWarning: invalid value encountered in arccos\n",
      "  gamma = numpy.arccos(yp.dot(c2[1]))\n",
      "Progress:  30%|██▉       | 295/1000 [1:14:23<3:08:53, 16.08s/it]"
     ]
    },
    {
     "name": "stdout",
     "output_type": "stream",
     "text": [
      "Time to: Calculate Ground State - 1.02s, Get Pauli Ops - 5.2s, Calculate Pauli Expectation Values - 9.59s, Calculate Covariance - 2.3s\n",
      "f0,f1,f2 = [6.5774920772172444e-09, 6.5774920762682036e-09, 6.577492077656691e-09]\n",
      "d01,d02,d12 = [1.4370615382603245, 1.4370615389517276, 1.4370615384818335]\n"
     ]
    },
    {
     "name": "stderr",
     "output_type": "stream",
     "text": [
      "Progress:  30%|██▉       | 296/1000 [1:14:37<3:00:57, 15.42s/it]"
     ]
    },
    {
     "name": "stdout",
     "output_type": "stream",
     "text": [
      "Time to: Calculate Ground State - 1.31s, Get Pauli Ops - 4.75s, Calculate Pauli Expectation Values - 5.96s, Calculate Covariance - 1.87s\n",
      "f0,f1,f2 = [7.224749209402441e-09, 7.224749209796766e-09, 7.224749209203915e-09]\n",
      "d01,d02,d12 = [1.4220175127997337, 1.4220175135203692, 1.422017513030573]\n"
     ]
    },
    {
     "name": "stderr",
     "output_type": "stream",
     "text": [
      "/cluster/home/mskrabulis/miniconda3/envs/quantech/lib/python3.9/site-packages/pyscf/symm/Dmatrix.py:156: RuntimeWarning: invalid value encountered in arccos\n",
      "  gamma = numpy.arccos(yp.dot(c2[1]))\n",
      "Progress:  30%|██▉       | 297/1000 [1:14:49<2:51:26, 14.63s/it]"
     ]
    },
    {
     "name": "stdout",
     "output_type": "stream",
     "text": [
      "Time to: Calculate Ground State - 1.05s, Get Pauli Ops - 4.02s, Calculate Pauli Expectation Values - 5.93s, Calculate Covariance - 1.79s\n",
      "f0,f1,f2 = [8.118653660369537e-09, 8.118653660410493e-09, 8.118653660321567e-09]\n",
      "d01,d02,d12 = [1.4036197208096097, 1.4036197215623432, 1.4036197210507046]\n"
     ]
    },
    {
     "name": "stderr",
     "output_type": "stream",
     "text": [
      "/cluster/home/mskrabulis/miniconda3/envs/quantech/lib/python3.9/site-packages/pyscf/symm/Dmatrix.py:156: RuntimeWarning: invalid value encountered in arccos\n",
      "  gamma = numpy.arccos(yp.dot(c2[1]))\n",
      "Progress:  30%|██▉       | 298/1000 [1:15:05<2:52:44, 14.76s/it]"
     ]
    },
    {
     "name": "stdout",
     "output_type": "stream",
     "text": [
      "Time to: Calculate Ground State - 1.13s, Get Pauli Ops - 4.36s, Calculate Pauli Expectation Values - 7.8s, Calculate Covariance - 1.77s\n",
      "f0,f1,f2 = [7.1522056576146636e-09, 7.152205657508027e-09, 7.152205657668066e-09]\n",
      "d01,d02,d12 = [1.3819402789116362, 1.3819402796986087, 1.3819402791636728]\n"
     ]
    },
    {
     "name": "stderr",
     "output_type": "stream",
     "text": [
      "/cluster/home/mskrabulis/miniconda3/envs/quantech/lib/python3.9/site-packages/pyscf/symm/Dmatrix.py:156: RuntimeWarning: invalid value encountered in arccos\n",
      "  gamma = numpy.arccos(yp.dot(c2[1]))\n",
      "/cluster/home/mskrabulis/miniconda3/envs/quantech/lib/python3.9/site-packages/pyscf/symm/Dmatrix.py:156: RuntimeWarning: invalid value encountered in arccos\n",
      "  gamma = numpy.arccos(yp.dot(c2[1]))\n",
      "Progress:  30%|██▉       | 299/1000 [1:15:21<2:59:39, 15.38s/it]"
     ]
    },
    {
     "name": "stdout",
     "output_type": "stream",
     "text": [
      "Time to: Calculate Ground State - 1.08s, Get Pauli Ops - 7.1s, Calculate Pauli Expectation Values - 6.37s, Calculate Covariance - 2.24s\n",
      "f0,f1,f2 = [7.951613122225186e-09, 7.95161312186194e-09, 7.951613122409783e-09]\n",
      "d01,d02,d12 = [1.354368925553009, 1.3543689263696752, 1.3543689258145164]\n"
     ]
    },
    {
     "name": "stderr",
     "output_type": "stream",
     "text": [
      "/cluster/home/mskrabulis/miniconda3/envs/quantech/lib/python3.9/site-packages/pyscf/symm/Dmatrix.py:156: RuntimeWarning: invalid value encountered in arccos\n",
      "  gamma = numpy.arccos(yp.dot(c2[1]))\n",
      "Progress:  30%|███       | 300/1000 [1:15:35<2:53:43, 14.89s/it]"
     ]
    },
    {
     "name": "stdout",
     "output_type": "stream",
     "text": [
      "Time to: Calculate Ground State - 1.03s, Get Pauli Ops - 4.64s, Calculate Pauli Expectation Values - 6.22s, Calculate Covariance - 1.86s\n",
      "f0,f1,f2 = [6.213819868868679e-09, 6.21381986817309e-09, 6.213819869199935e-09]\n",
      "d01,d02,d12 = [1.321770063047103, 1.3217700638790355, 1.3217700633134526]\n"
     ]
    },
    {
     "name": "stderr",
     "output_type": "stream",
     "text": [
      "Progress:  30%|███       | 301/1000 [1:15:49<2:49:31, 14.55s/it]"
     ]
    },
    {
     "name": "stdout",
     "output_type": "stream",
     "text": [
      "Time to: Calculate Ground State - 1.35s, Get Pauli Ops - 4.18s, Calculate Pauli Expectation Values - 6.39s, Calculate Covariance - 1.84s\n",
      "f0,f1,f2 = [5.7517383857280384e-09, 5.751738384149303e-09, 5.751738386453621e-09]\n",
      "d01,d02,d12 = [1.2868309842934482, 1.2868309851391173, 1.2868309845641674]\n"
     ]
    },
    {
     "name": "stderr",
     "output_type": "stream",
     "text": [
      "/cluster/home/mskrabulis/miniconda3/envs/quantech/lib/python3.9/site-packages/pyscf/symm/Dmatrix.py:156: RuntimeWarning: invalid value encountered in arccos\n",
      "  gamma = numpy.arccos(yp.dot(c2[1]))\n",
      "/cluster/home/mskrabulis/miniconda3/envs/quantech/lib/python3.9/site-packages/pyscf/symm/Dmatrix.py:156: RuntimeWarning: invalid value encountered in arccos\n",
      "  gamma = numpy.arccos(yp.dot(c2[1]))\n",
      "Progress:  30%|███       | 302/1000 [1:16:04<2:52:33, 14.83s/it]"
     ]
    },
    {
     "name": "stdout",
     "output_type": "stream",
     "text": [
      "Time to: Calculate Ground State - 1.01s, Get Pauli Ops - 4.88s, Calculate Pauli Expectation Values - 7.24s, Calculate Covariance - 2.35s\n",
      "f0,f1,f2 = [6.3790973796043714e-09, 6.379097377637729e-09, 6.3790973805229125e-09]\n",
      "d01,d02,d12 = [1.2518674084615944, 1.2518674093278221, 1.251867408738872]\n"
     ]
    },
    {
     "name": "stderr",
     "output_type": "stream",
     "text": [
      "/cluster/home/mskrabulis/miniconda3/envs/quantech/lib/python3.9/site-packages/pyscf/symm/Dmatrix.py:156: RuntimeWarning: invalid value encountered in arccos\n",
      "  gamma = numpy.arccos(yp.dot(c2[1]))\n",
      "Progress:  30%|███       | 303/1000 [1:16:20<2:56:15, 15.17s/it]"
     ]
    },
    {
     "name": "stdout",
     "output_type": "stream",
     "text": [
      "Time to: Calculate Ground State - 1.35s, Get Pauli Ops - 4.94s, Calculate Pauli Expectation Values - 7.46s, Calculate Covariance - 2.21s\n",
      "f0,f1,f2 = [5.596393785078098e-09, 5.596393783441056e-09, 5.596393785828464e-09]\n",
      "d01,d02,d12 = [1.2172926464192928, 1.2172926472908816, 1.217292646698261]\n"
     ]
    },
    {
     "name": "stderr",
     "output_type": "stream",
     "text": [
      "Progress:  30%|███       | 304/1000 [1:16:37<3:01:08, 15.62s/it]"
     ]
    },
    {
     "name": "stdout",
     "output_type": "stream",
     "text": [
      "Time to: Calculate Ground State - 1.32s, Get Pauli Ops - 4.49s, Calculate Pauli Expectation Values - 8.56s, Calculate Covariance - 2.28s\n",
      "f0,f1,f2 = [5.723780417272718e-09, 5.723780414748483e-09, 5.72378041846967e-09]\n",
      "d01,d02,d12 = [1.1754396151487185, 1.1754396160175564, 1.1754396154267859]\n"
     ]
    },
    {
     "name": "stderr",
     "output_type": "stream",
     "text": [
      "Progress:  30%|███       | 305/1000 [1:16:53<3:02:25, 15.75s/it]"
     ]
    },
    {
     "name": "stdout",
     "output_type": "stream",
     "text": [
      "Time to: Calculate Ground State - 0.77s, Get Pauli Ops - 7.34s, Calculate Pauli Expectation Values - 5.71s, Calculate Covariance - 2.23s\n",
      "f0,f1,f2 = [5.6850557702486805e-09, 5.685055767320875e-09, 5.6850557716262125e-09]\n",
      "d01,d02,d12 = [1.1275888812097907, 1.1275888820675999, 1.1275888814843174]\n"
     ]
    },
    {
     "name": "stderr",
     "output_type": "stream",
     "text": [
      "Progress:  31%|███       | 306/1000 [1:17:07<2:57:32, 15.35s/it]"
     ]
    },
    {
     "name": "stdout",
     "output_type": "stream",
     "text": [
      "Time to: Calculate Ground State - 1.04s, Get Pauli Ops - 5.53s, Calculate Pauli Expectation Values - 5.87s, Calculate Covariance - 1.98s\n",
      "f0,f1,f2 = [4.038431341236542e-09, 4.038431336405082e-09, 4.0384313435256595e-09]\n",
      "d01,d02,d12 = [1.072764872177478, 1.0727648730566803, 1.0727648724588745]\n"
     ]
    },
    {
     "name": "stderr",
     "output_type": "stream",
     "text": [
      "/cluster/home/mskrabulis/miniconda3/envs/quantech/lib/python3.9/site-packages/pyscf/symm/Dmatrix.py:156: RuntimeWarning: invalid value encountered in arccos\n",
      "  gamma = numpy.arccos(yp.dot(c2[1]))\n",
      "Progress:  31%|███       | 307/1000 [1:17:24<3:03:03, 15.85s/it]"
     ]
    },
    {
     "name": "stdout",
     "output_type": "stream",
     "text": [
      "Time to: Calculate Ground State - 1.15s, Get Pauli Ops - 8.79s, Calculate Pauli Expectation Values - 5.66s, Calculate Covariance - 1.4s\n",
      "f0,f1,f2 = [2.985041446984341e-09, 2.9850414413269525e-09, 2.9850414496559854e-09]\n",
      "d01,d02,d12 = [1.0155526394948193, 1.0155526404108106, 1.0155526397879788]\n"
     ]
    },
    {
     "name": "stderr",
     "output_type": "stream",
     "text": [
      "Progress:  31%|███       | 308/1000 [1:17:38<2:54:29, 15.13s/it]"
     ]
    },
    {
     "name": "stdout",
     "output_type": "stream",
     "text": [
      "Time to: Calculate Ground State - 0.76s, Get Pauli Ops - 4.61s, Calculate Pauli Expectation Values - 5.85s, Calculate Covariance - 2.22s\n",
      "f0,f1,f2 = [1.1105903012021098e-09, 1.1105902924572277e-09, 1.1105903053205976e-09]\n",
      "d01,d02,d12 = [0.9624491123845582, 0.9624491133201427, 0.9624491126839828]\n"
     ]
    },
    {
     "name": "stderr",
     "output_type": "stream",
     "text": [
      "Progress:  31%|███       | 309/1000 [1:17:52<2:51:28, 14.89s/it]"
     ]
    },
    {
     "name": "stdout",
     "output_type": "stream",
     "text": [
      "Time to: Calculate Ground State - 0.78s, Get Pauli Ops - 4.25s, Calculate Pauli Expectation Values - 7.14s, Calculate Covariance - 2.15s\n",
      "f0,f1,f2 = [3.3876006956980433e-10, 3.387600581608108e-10, 3.387600749375594e-10]\n",
      "d01,d02,d12 = [0.9101055427661804, 0.910105543738801, 0.9101055430774337]\n"
     ]
    },
    {
     "name": "stderr",
     "output_type": "stream",
     "text": [
      "Progress:  31%|███       | 310/1000 [1:18:06<2:47:22, 14.55s/it]"
     ]
    },
    {
     "name": "stdout",
     "output_type": "stream",
     "text": [
      "Time to: Calculate Ground State - 0.77s, Get Pauli Ops - 4.89s, Calculate Pauli Expectation Values - 5.88s, Calculate Covariance - 2.22s\n",
      "f0,f1,f2 = [3.89576889999339e-09, 3.895768915572733e-09, 3.89576889264797e-09]\n",
      "d01,d02,d12 = [0.865979183203522, 0.8659791842031632, 0.8659791835233738]\n"
     ]
    },
    {
     "name": "stderr",
     "output_type": "stream",
     "text": [
      "Progress:  31%|███       | 311/1000 [1:18:22<2:52:37, 15.03s/it]"
     ]
    },
    {
     "name": "stdout",
     "output_type": "stream",
     "text": [
      "Time to: Calculate Ground State - 1.27s, Get Pauli Ops - 4.54s, Calculate Pauli Expectation Values - 8.46s, Calculate Covariance - 1.88s\n",
      "f0,f1,f2 = [6.965626379363506e-09, 6.9656263988920786e-09, 6.9656263701882454e-09]\n",
      "d01,d02,d12 = [0.8254493883042153, 0.8254493893178029, 0.8254493886284667]\n"
     ]
    },
    {
     "name": "stderr",
     "output_type": "stream",
     "text": [
      "Progress:  31%|███       | 312/1000 [1:18:38<2:55:58, 15.35s/it]"
     ]
    },
    {
     "name": "stdout",
     "output_type": "stream",
     "text": [
      "Time to: Calculate Ground State - 1.33s, Get Pauli Ops - 7.21s, Calculate Pauli Expectation Values - 5.85s, Calculate Covariance - 1.68s\n",
      "f0,f1,f2 = [9.209027529229614e-09, 9.209027551859497e-09, 9.209027518585865e-09]\n",
      "d01,d02,d12 = [0.785924120181676, 0.7859241211899173, 0.7859241205041474]\n"
     ]
    },
    {
     "name": "stderr",
     "output_type": "stream",
     "text": [
      "/cluster/home/mskrabulis/miniconda3/envs/quantech/lib/python3.9/site-packages/pyscf/symm/Dmatrix.py:156: RuntimeWarning: invalid value encountered in arccos\n",
      "  gamma = numpy.arccos(yp.dot(c2[1]))\n",
      "Progress:  31%|███▏      | 313/1000 [1:18:54<2:58:26, 15.58s/it]"
     ]
    },
    {
     "name": "stdout",
     "output_type": "stream",
     "text": [
      "Time to: Calculate Ground State - 1.1s, Get Pauli Ops - 4.77s, Calculate Pauli Expectation Values - 8.06s, Calculate Covariance - 2.21s\n",
      "f0,f1,f2 = [1.3756533512209474e-08, 1.3756533540155202e-08, 1.3756533499054219e-08]\n",
      "d01,d02,d12 = [0.754258227134158, 0.7542582281422919, 0.7542582274565441]\n"
     ]
    },
    {
     "name": "stderr",
     "output_type": "stream",
     "text": [
      "/cluster/home/mskrabulis/miniconda3/envs/quantech/lib/python3.9/site-packages/pyscf/symm/Dmatrix.py:156: RuntimeWarning: invalid value encountered in arccos\n",
      "  gamma = numpy.arccos(yp.dot(c2[1]))\n",
      "Progress:  31%|███▏      | 314/1000 [1:19:08<2:51:42, 15.02s/it]"
     ]
    },
    {
     "name": "stdout",
     "output_type": "stream",
     "text": [
      "Time to: Calculate Ground State - 1.21s, Get Pauli Ops - 4.79s, Calculate Pauli Expectation Values - 5.57s, Calculate Covariance - 2.13s\n",
      "f0,f1,f2 = [1.710464790255588e-08, 1.710464793684966e-08, 1.7104647886418166e-08]\n",
      "d01,d02,d12 = [0.7289957589815185, 0.7289957599682055, 0.7289957592970132]\n"
     ]
    },
    {
     "name": "stderr",
     "output_type": "stream",
     "text": [
      "Progress:  32%|███▏      | 315/1000 [1:19:23<2:49:28, 14.85s/it]"
     ]
    },
    {
     "name": "stdout",
     "output_type": "stream",
     "text": [
      "Time to: Calculate Ground State - 1.3s, Get Pauli Ops - 4.59s, Calculate Pauli Expectation Values - 6.35s, Calculate Covariance - 2.2s\n",
      "f0,f1,f2 = [2.1980204512212706e-08, 2.1980204549146525e-08, 2.1980204494839342e-08]\n",
      "d01,d02,d12 = [0.7144743700179317, 0.7144743709502207, 0.7144743703160011]\n"
     ]
    },
    {
     "name": "stderr",
     "output_type": "stream",
     "text": [
      "/cluster/home/mskrabulis/miniconda3/envs/quantech/lib/python3.9/site-packages/pyscf/symm/Dmatrix.py:156: RuntimeWarning: invalid value encountered in arccos\n",
      "  gamma = numpy.arccos(yp.dot(c2[1]))\n",
      "Progress:  32%|███▏      | 316/1000 [1:19:36<2:43:35, 14.35s/it]"
     ]
    },
    {
     "name": "stdout",
     "output_type": "stream",
     "text": [
      "Time to: Calculate Ground State - 1.04s, Get Pauli Ops - 4.25s, Calculate Pauli Expectation Values - 5.89s, Calculate Covariance - 2.01s\n",
      "f0,f1,f2 = [2.2786333766168247e-08, 2.2786333802298824e-08, 2.278633374918124e-08]\n",
      "d01,d02,d12 = [0.7090428177389803, 0.7090428185893506, 0.7090428180108145]\n"
     ]
    },
    {
     "name": "stderr",
     "output_type": "stream",
     "text": [
      "Progress:  32%|███▏      | 317/1000 [1:19:51<2:47:20, 14.70s/it]"
     ]
    },
    {
     "name": "stdout",
     "output_type": "stream",
     "text": [
      "Time to: Calculate Ground State - 0.91s, Get Pauli Ops - 4.16s, Calculate Pauli Expectation Values - 8.21s, Calculate Covariance - 2.23s\n",
      "f0,f1,f2 = [2.4792775865807055e-08, 2.4792775900591013e-08, 2.4792775849456874e-08]\n",
      "d01,d02,d12 = [0.713786177392458, 0.7137861781408752, 0.7137861776316544]\n"
     ]
    },
    {
     "name": "stderr",
     "output_type": "stream",
     "text": [
      "Progress:  32%|███▏      | 318/1000 [1:20:06<2:46:13, 14.62s/it]"
     ]
    },
    {
     "name": "stdout",
     "output_type": "stream",
     "text": [
      "Time to: Calculate Ground State - 1.21s, Get Pauli Ops - 4.67s, Calculate Pauli Expectation Values - 6.44s, Calculate Covariance - 2.12s\n",
      "f0,f1,f2 = [2.3436567056995395e-08, 2.3436567089083846e-08, 2.3436567041940695e-08]\n",
      "d01,d02,d12 = [0.7278590758797171, 0.7278590765054904, 0.7278590760796635]\n"
     ]
    },
    {
     "name": "stderr",
     "output_type": "stream",
     "text": [
      "Progress:  32%|███▏      | 319/1000 [1:20:19<2:43:08, 14.37s/it]"
     ]
    },
    {
     "name": "stdout",
     "output_type": "stream",
     "text": [
      "Time to: Calculate Ground State - 1.35s, Get Pauli Ops - 4.33s, Calculate Pauli Expectation Values - 6.27s, Calculate Covariance - 1.83s\n",
      "f0,f1,f2 = [2.1325723166583997e-08, 2.1325723190127632e-08, 2.132572315551653e-08]\n",
      "d01,d02,d12 = [0.7505022070811198, 0.7505022075717915, 0.7505022072378301]\n"
     ]
    },
    {
     "name": "stderr",
     "output_type": "stream",
     "text": [
      "/cluster/home/mskrabulis/miniconda3/envs/quantech/lib/python3.9/site-packages/pyscf/symm/Dmatrix.py:156: RuntimeWarning: invalid value encountered in arccos\n",
      "  gamma = numpy.arccos(yp.dot(c2[1]))\n",
      "Progress:  32%|███▏      | 320/1000 [1:20:34<2:43:22, 14.42s/it]"
     ]
    },
    {
     "name": "stdout",
     "output_type": "stream",
     "text": [
      "Time to: Calculate Ground State - 1.21s, Get Pauli Ops - 5.01s, Calculate Pauli Expectation Values - 6.04s, Calculate Covariance - 2.24s\n",
      "f0,f1,f2 = [1.7945153905597264e-08, 1.794515392311197e-08, 1.7945153897360653e-08]\n",
      "d01,d02,d12 = [0.779619484563762, 0.7796194849267927, 0.7796194846796196]\n"
     ]
    },
    {
     "name": "stderr",
     "output_type": "stream",
     "text": [
      "Progress:  32%|███▏      | 321/1000 [1:20:48<2:40:09, 14.15s/it]"
     ]
    },
    {
     "name": "stdout",
     "output_type": "stream",
     "text": [
      "Time to: Calculate Ground State - 1.07s, Get Pauli Ops - 4.61s, Calculate Pauli Expectation Values - 5.65s, Calculate Covariance - 2.2s\n",
      "f0,f1,f2 = [1.4343524561395539e-08, 1.4343524571510737e-08, 1.4343524556683195e-08]\n",
      "d01,d02,d12 = [0.8141010794144403, 0.8141010796417791, 0.8141010794868829]\n"
     ]
    },
    {
     "name": "stderr",
     "output_type": "stream",
     "text": [
      "Progress:  32%|███▏      | 322/1000 [1:21:01<2:36:58, 13.89s/it]"
     ]
    },
    {
     "name": "stdout",
     "output_type": "stream",
     "text": [
      "Time to: Calculate Ground State - 0.76s, Get Pauli Ops - 4.45s, Calculate Pauli Expectation Values - 6.27s, Calculate Covariance - 1.79s\n",
      "f0,f1,f2 = [1.0661609765635956e-08, 1.0661609771079082e-08, 1.066160976307519e-08]\n",
      "d01,d02,d12 = [0.849380875202288, 0.8493808752903315, 0.8493808752301821]\n"
     ]
    },
    {
     "name": "stderr",
     "output_type": "stream",
     "text": [
      "Progress:  32%|███▏      | 323/1000 [1:21:14<2:35:09, 13.75s/it]"
     ]
    },
    {
     "name": "stdout",
     "output_type": "stream",
     "text": [
      "Time to: Calculate Ground State - 1.02s, Get Pauli Ops - 4.68s, Calculate Pauli Expectation Values - 6.33s, Calculate Covariance - 1.39s\n",
      "f0,f1,f2 = [7.434131600257302e-09, 7.4341316019135834e-09, 7.4341315995050916e-09]\n",
      "d01,d02,d12 = [0.8868288717695223, 0.8868288717185033, 0.8868288717529461]\n"
     ]
    },
    {
     "name": "stderr",
     "output_type": "stream",
     "text": [
      "Progress:  32%|███▏      | 324/1000 [1:21:29<2:38:20, 14.05s/it]"
     ]
    },
    {
     "name": "stdout",
     "output_type": "stream",
     "text": [
      "Time to: Calculate Ground State - 1.25s, Get Pauli Ops - 4.6s, Calculate Pauli Expectation Values - 7.01s, Calculate Covariance - 1.89s\n",
      "f0,f1,f2 = [4.713750146942495e-09, 4.713750146134417e-09, 4.713750147350278e-09]\n",
      "d01,d02,d12 = [0.9256125696796904, 0.9256125694897925, 0.9256125696187241]\n"
     ]
    },
    {
     "name": "stderr",
     "output_type": "stream",
     "text": [
      "Progress:  32%|███▎      | 325/1000 [1:21:45<2:43:25, 14.53s/it]"
     ]
    },
    {
     "name": "stdout",
     "output_type": "stream",
     "text": [
      "Time to: Calculate Ground State - 1.29s, Get Pauli Ops - 6.42s, Calculate Pauli Expectation Values - 5.77s, Calculate Covariance - 2.15s\n",
      "f0,f1,f2 = [2.180966564413682e-09, 2.180966561626967e-09, 2.1809665657145067e-09]\n",
      "d01,d02,d12 = [0.9667327169605913, 0.966732716629985, 0.9667327168546417]\n"
     ]
    },
    {
     "name": "stderr",
     "output_type": "stream",
     "text": [
      "/cluster/home/mskrabulis/miniconda3/envs/quantech/lib/python3.9/site-packages/pyscf/symm/Dmatrix.py:156: RuntimeWarning: invalid value encountered in arccos\n",
      "  gamma = numpy.arccos(yp.dot(c2[1]))\n",
      "Progress:  33%|███▎      | 326/1000 [1:21:59<2:42:16, 14.45s/it]"
     ]
    },
    {
     "name": "stdout",
     "output_type": "stream",
     "text": [
      "Time to: Calculate Ground State - 1.1s, Get Pauli Ops - 4.44s, Calculate Pauli Expectation Values - 6.29s, Calculate Covariance - 2.43s\n",
      "f0,f1,f2 = [1.5827852802712813e-09, 1.58278527603344e-09, 1.5827852823046579e-09]\n",
      "d01,d02,d12 = [1.0055086793824066, 1.0055086789101664, 1.0055086792311891]\n"
     ]
    },
    {
     "name": "stderr",
     "output_type": "stream",
     "text": [
      "/cluster/home/mskrabulis/miniconda3/envs/quantech/lib/python3.9/site-packages/pyscf/symm/Dmatrix.py:156: RuntimeWarning: invalid value encountered in arccos\n",
      "  gamma = numpy.arccos(yp.dot(c2[1]))\n",
      "Progress:  33%|███▎      | 327/1000 [1:22:15<2:46:55, 14.88s/it]"
     ]
    },
    {
     "name": "stdout",
     "output_type": "stream",
     "text": [
      "Time to: Calculate Ground State - 1.1s, Get Pauli Ops - 4.57s, Calculate Pauli Expectation Values - 8.54s, Calculate Covariance - 1.68s\n",
      "f0,f1,f2 = [2.6679322111096073e-10, 2.667932263293182e-10, 2.667932186507601e-10]\n",
      "d01,d02,d12 = [1.040123730855309, 1.04012373024065, 1.0401237306585762]\n"
     ]
    },
    {
     "name": "stderr",
     "output_type": "stream",
     "text": [
      "Progress:  33%|███▎      | 328/1000 [1:22:34<2:59:42, 16.04s/it]"
     ]
    },
    {
     "name": "stdout",
     "output_type": "stream",
     "text": [
      "Time to: Calculate Ground State - 1.08s, Get Pauli Ops - 4.2s, Calculate Pauli Expectation Values - 11.19s, Calculate Covariance - 2.29s\n",
      "f0,f1,f2 = [1.9198794893795105e-09, 1.9198794944688153e-09, 1.9198794869850104e-09]\n",
      "d01,d02,d12 = [1.073703455636442, 1.0737034548807645, 1.0737034553946458]\n"
     ]
    },
    {
     "name": "stderr",
     "output_type": "stream",
     "text": [
      "Progress:  33%|███▎      | 329/1000 [1:22:46<2:48:09, 15.04s/it]"
     ]
    },
    {
     "name": "stdout",
     "output_type": "stream",
     "text": [
      "Time to: Calculate Ground State - 1.03s, Get Pauli Ops - 4.46s, Calculate Pauli Expectation Values - 5.79s, Calculate Covariance - 1.39s\n",
      "f0,f1,f2 = [2.1893255297460577e-09, 2.189325536628941e-09, 2.1893255265012126e-09]\n",
      "d01,d02,d12 = [1.1034684479040662, 1.1034684470083647, 1.1034684476175305]\n"
     ]
    },
    {
     "name": "stderr",
     "output_type": "stream",
     "text": [
      "/cluster/home/mskrabulis/miniconda3/envs/quantech/lib/python3.9/site-packages/pyscf/symm/Dmatrix.py:156: RuntimeWarning: invalid value encountered in arccos\n",
      "  gamma = numpy.arccos(yp.dot(c2[1]))\n",
      "/cluster/home/mskrabulis/miniconda3/envs/quantech/lib/python3.9/site-packages/pyscf/symm/Dmatrix.py:156: RuntimeWarning: invalid value encountered in arccos\n",
      "  gamma = numpy.arccos(yp.dot(c2[1]))\n",
      "Progress:  33%|███▎      | 330/1000 [1:23:00<2:44:53, 14.77s/it]"
     ]
    },
    {
     "name": "stdout",
     "output_type": "stream",
     "text": [
      "Time to: Calculate Ground State - 0.94s, Get Pauli Ops - 4.21s, Calculate Pauli Expectation Values - 7.13s, Calculate Covariance - 1.84s\n",
      "f0,f1,f2 = [3.0140351048868835e-09, 3.0140351095894566e-09, 3.014035102675114e-09]\n",
      "d01,d02,d12 = [1.1305742427666858, 1.130574241729097, 1.1305742424348086]\n"
     ]
    },
    {
     "name": "stderr",
     "output_type": "stream",
     "text": [
      "Progress:  33%|███▎      | 331/1000 [1:23:13<2:36:28, 14.03s/it]"
     ]
    },
    {
     "name": "stdout",
     "output_type": "stream",
     "text": [
      "Time to: Calculate Ground State - 0.75s, Get Pauli Ops - 4.18s, Calculate Pauli Expectation Values - 5.93s, Calculate Covariance - 1.46s\n",
      "f0,f1,f2 = [4.466431794590465e-09, 4.466431800319572e-09, 4.466431791906636e-09]\n",
      "d01,d02,d12 = [1.152770161747249, 1.152770160587749, 1.1527701613764278]\n"
     ]
    },
    {
     "name": "stderr",
     "output_type": "stream",
     "text": [
      "Progress:  33%|███▎      | 332/1000 [1:23:26<2:34:53, 13.91s/it]"
     ]
    },
    {
     "name": "stdout",
     "output_type": "stream",
     "text": [
      "Time to: Calculate Ground State - 0.98s, Get Pauli Ops - 4.6s, Calculate Pauli Expectation Values - 5.94s, Calculate Covariance - 2.1s\n",
      "f0,f1,f2 = [5.012795197501792e-09, 5.0127952036278496e-09, 5.012795194623254e-09]\n",
      "d01,d02,d12 = [1.1746601510852592, 1.1746601498188358, 1.1746601506802918]\n"
     ]
    },
    {
     "name": "stderr",
     "output_type": "stream",
     "text": [
      "/cluster/home/mskrabulis/miniconda3/envs/quantech/lib/python3.9/site-packages/pyscf/symm/Dmatrix.py:156: RuntimeWarning: invalid value encountered in arccos\n",
      "  gamma = numpy.arccos(yp.dot(c2[1]))\n",
      "/cluster/home/mskrabulis/miniconda3/envs/quantech/lib/python3.9/site-packages/pyscf/symm/Dmatrix.py:156: RuntimeWarning: invalid value encountered in arccos\n",
      "  gamma = numpy.arccos(yp.dot(c2[1]))\n",
      "Progress:  33%|███▎      | 333/1000 [1:23:40<2:32:39, 13.73s/it]"
     ]
    },
    {
     "name": "stdout",
     "output_type": "stream",
     "text": [
      "Time to: Calculate Ground State - 1.04s, Get Pauli Ops - 4.45s, Calculate Pauli Expectation Values - 5.97s, Calculate Covariance - 1.85s\n",
      "f0,f1,f2 = [5.288326955521847e-09, 5.288326959273168e-09, 5.288326953755043e-09]\n",
      "d01,d02,d12 = [1.1952982158510372, 1.1952982144717994, 1.1952982154100482]\n"
     ]
    },
    {
     "name": "stderr",
     "output_type": "stream",
     "text": [
      "Progress:  33%|███▎      | 334/1000 [1:23:52<2:28:49, 13.41s/it]"
     ]
    },
    {
     "name": "stdout",
     "output_type": "stream",
     "text": [
      "Time to: Calculate Ground State - 1.07s, Get Pauli Ops - 4.54s, Calculate Pauli Expectation Values - 5.63s, Calculate Covariance - 1.4s\n",
      "f0,f1,f2 = [5.2729056189289075e-09, 5.272905623558693e-09, 5.272905616734017e-09]\n",
      "d01,d02,d12 = [1.211083112453983, 1.2110831109804117, 1.2110831119828798]\n"
     ]
    },
    {
     "name": "stderr",
     "output_type": "stream",
     "text": [
      "Progress:  34%|███▎      | 335/1000 [1:24:08<2:35:54, 14.07s/it]"
     ]
    },
    {
     "name": "stdout",
     "output_type": "stream",
     "text": [
      "Time to: Calculate Ground State - 0.75s, Get Pauli Ops - 4.29s, Calculate Pauli Expectation Values - 8.33s, Calculate Covariance - 2.23s\n",
      "f0,f1,f2 = [5.290453265779452e-09, 5.2904532689940995e-09, 5.290453264266571e-09]\n",
      "d01,d02,d12 = [1.2231778734745322, 1.2231778719199826, 1.223177872977577]\n"
     ]
    },
    {
     "name": "stderr",
     "output_type": "stream",
     "text": [
      "/cluster/home/mskrabulis/miniconda3/envs/quantech/lib/python3.9/site-packages/pyscf/symm/Dmatrix.py:156: RuntimeWarning: invalid value encountered in arccos\n",
      "  gamma = numpy.arccos(yp.dot(c2[1]))\n",
      "Progress:  34%|███▎      | 336/1000 [1:24:22<2:36:37, 14.15s/it]"
     ]
    },
    {
     "name": "stdout",
     "output_type": "stream",
     "text": [
      "Time to: Calculate Ground State - 0.97s, Get Pauli Ops - 4.93s, Calculate Pauli Expectation Values - 6.21s, Calculate Covariance - 2.25s\n",
      "f0,f1,f2 = [6.314448240681823e-09, 6.314448245468822e-09, 6.3144482384205436e-09]\n",
      "d01,d02,d12 = [1.2327711184955426, 1.2327711168694164, 1.2327711179757417]\n"
     ]
    },
    {
     "name": "stderr",
     "output_type": "stream",
     "text": [
      "Progress:  34%|███▎      | 337/1000 [1:24:37<2:39:49, 14.46s/it]"
     ]
    },
    {
     "name": "stdout",
     "output_type": "stream",
     "text": [
      "Time to: Calculate Ground State - 1.32s, Get Pauli Ops - 4.41s, Calculate Pauli Expectation Values - 7.25s, Calculate Covariance - 2.2s\n",
      "f0,f1,f2 = [5.783046441260794e-09, 5.783046446914441e-09, 5.783046438601051e-09]\n",
      "d01,d02,d12 = [1.2395410142632541, 1.2395410125581543, 1.2395410137182448]\n"
     ]
    },
    {
     "name": "stderr",
     "output_type": "stream",
     "text": [
      "Progress:  34%|███▍      | 338/1000 [1:24:51<2:37:51, 14.31s/it]"
     ]
    },
    {
     "name": "stdout",
     "output_type": "stream",
     "text": [
      "Time to: Calculate Ground State - 1.01s, Get Pauli Ops - 4.7s, Calculate Pauli Expectation Values - 6.13s, Calculate Covariance - 2.1s\n",
      "f0,f1,f2 = [5.494138056568198e-09, 5.494138060816329e-09, 5.4941380545759445e-09]\n",
      "d01,d02,d12 = [1.2440742745269624, 1.2440742727445027, 1.2440742739572588]\n"
     ]
    },
    {
     "name": "stderr",
     "output_type": "stream",
     "text": [
      "Progress:  34%|███▍      | 339/1000 [1:25:07<2:41:43, 14.68s/it]"
     ]
    },
    {
     "name": "stdout",
     "output_type": "stream",
     "text": [
      "Time to: Calculate Ground State - 1.21s, Get Pauli Ops - 4.68s, Calculate Pauli Expectation Values - 7.71s, Calculate Covariance - 1.95s\n",
      "f0,f1,f2 = [5.763871496408105e-09, 5.763871502739766e-09, 5.763871493459137e-09]\n",
      "d01,d02,d12 = [1.2455519397225792, 1.2455519378693598, 1.2455519391302878]\n"
     ]
    },
    {
     "name": "stderr",
     "output_type": "stream",
     "text": [
      "/cluster/home/mskrabulis/miniconda3/envs/quantech/lib/python3.9/site-packages/pyscf/symm/Dmatrix.py:156: RuntimeWarning: invalid value encountered in arccos\n",
      "  gamma = numpy.arccos(yp.dot(c2[1]))\n",
      "Progress:  34%|███▍      | 340/1000 [1:25:22<2:43:02, 14.82s/it]"
     ]
    },
    {
     "name": "stdout",
     "output_type": "stream",
     "text": [
      "Time to: Calculate Ground State - 1.27s, Get Pauli Ops - 4.81s, Calculate Pauli Expectation Values - 7.14s, Calculate Covariance - 1.92s\n",
      "f0,f1,f2 = [5.93695100346617e-09, 5.936951009508236e-09, 5.936951000625049e-09]\n",
      "d01,d02,d12 = [1.2445172062415215, 1.244517204319517, 1.2445172056272755]\n"
     ]
    },
    {
     "name": "stderr",
     "output_type": "stream",
     "text": [
      "/cluster/home/mskrabulis/miniconda3/envs/quantech/lib/python3.9/site-packages/pyscf/symm/Dmatrix.py:156: RuntimeWarning: invalid value encountered in arccos\n",
      "  gamma = numpy.arccos(yp.dot(c2[1]))\n",
      "Progress:  34%|███▍      | 341/1000 [1:25:37<2:41:54, 14.74s/it]"
     ]
    },
    {
     "name": "stdout",
     "output_type": "stream",
     "text": [
      "Time to: Calculate Ground State - 1.25s, Get Pauli Ops - 4.52s, Calculate Pauli Expectation Values - 6.92s, Calculate Covariance - 1.86s\n",
      "f0,f1,f2 = [5.653203194837848e-09, 5.653203198731983e-09, 5.6532031930231555e-09]\n",
      "d01,d02,d12 = [1.2410540457607868, 1.2410540437701283, 1.2410540451246268]\n"
     ]
    },
    {
     "name": "stderr",
     "output_type": "stream",
     "text": [
      "Progress:  34%|███▍      | 342/1000 [1:25:52<2:43:16, 14.89s/it]"
     ]
    },
    {
     "name": "stdout",
     "output_type": "stream",
     "text": [
      "Time to: Calculate Ground State - 1.06s, Get Pauli Ops - 6.55s, Calculate Pauli Expectation Values - 5.89s, Calculate Covariance - 1.71s\n",
      "f0,f1,f2 = [5.8730350626950555e-09, 5.873035064780129e-09, 5.873035061691676e-09]\n",
      "d01,d02,d12 = [1.2354737051721454, 1.2354737031086565, 1.2354737045127415]\n"
     ]
    },
    {
     "name": "stderr",
     "output_type": "stream",
     "text": [
      "Progress:  34%|███▍      | 343/1000 [1:26:08<2:45:50, 15.15s/it]"
     ]
    },
    {
     "name": "stdout",
     "output_type": "stream",
     "text": [
      "Time to: Calculate Ground State - 0.95s, Get Pauli Ops - 7.32s, Calculate Pauli Expectation Values - 5.79s, Calculate Covariance - 1.68s\n",
      "f0,f1,f2 = [5.8773412924648e-09, 5.877341297513877e-09, 5.877341290096534e-09]\n",
      "d01,d02,d12 = [1.227757965551395, 1.2277579634126923, 1.2277579648679893]\n"
     ]
    },
    {
     "name": "stderr",
     "output_type": "stream",
     "text": [
      "Progress:  34%|███▍      | 344/1000 [1:26:24<2:49:24, 15.49s/it]"
     ]
    },
    {
     "name": "stdout",
     "output_type": "stream",
     "text": [
      "Time to: Calculate Ground State - 1.2s, Get Pauli Ops - 7.07s, Calculate Pauli Expectation Values - 5.97s, Calculate Covariance - 2.06s\n",
      "f0,f1,f2 = [5.4435332927092325e-09, 5.443533299626579e-09, 5.443533289463269e-09]\n",
      "d01,d02,d12 = [1.2177739492415474, 1.2177739470292068, 1.2177739485346422]\n"
     ]
    },
    {
     "name": "stderr",
     "output_type": "stream",
     "text": [
      "Progress:  34%|███▍      | 345/1000 [1:26:38<2:44:20, 15.05s/it]"
     ]
    },
    {
     "name": "stdout",
     "output_type": "stream",
     "text": [
      "Time to: Calculate Ground State - 1.05s, Get Pauli Ops - 4.48s, Calculate Pauli Expectation Values - 6.66s, Calculate Covariance - 1.84s\n",
      "f0,f1,f2 = [6.42003603945153e-09, 6.420036049303447e-09, 6.4200360348334496e-09]\n",
      "d01,d02,d12 = [1.2043881631539874, 1.2043881608776057, 1.2043881624266446]\n"
     ]
    },
    {
     "name": "stderr",
     "output_type": "stream",
     "text": [
      "Progress:  35%|███▍      | 346/1000 [1:26:52<2:41:25, 14.81s/it]"
     ]
    },
    {
     "name": "stdout",
     "output_type": "stream",
     "text": [
      "Time to: Calculate Ground State - 0.99s, Get Pauli Ops - 5.27s, Calculate Pauli Expectation Values - 6.22s, Calculate Covariance - 1.75s\n",
      "f0,f1,f2 = [5.49479460546205e-09, 5.494794615187851e-09, 5.494794600882438e-09]\n",
      "d01,d02,d12 = [1.188359010728389, 1.1883590084104412, 1.1883590099877925]\n"
     ]
    },
    {
     "name": "stderr",
     "output_type": "stream",
     "text": [
      "Progress:  35%|███▍      | 347/1000 [1:27:06<2:38:30, 14.56s/it]"
     ]
    },
    {
     "name": "stdout",
     "output_type": "stream",
     "text": [
      "Time to: Calculate Ground State - 0.83s, Get Pauli Ops - 5.01s, Calculate Pauli Expectation Values - 6.21s, Calculate Covariance - 1.93s\n",
      "f0,f1,f2 = [4.647902829243008e-09, 4.647902837189057e-09, 4.6479028255142786e-09]\n",
      "d01,d02,d12 = [1.1710118325220393, 1.1710118301654435, 1.1710118317691216]\n"
     ]
    },
    {
     "name": "stderr",
     "output_type": "stream",
     "text": [
      "/cluster/home/mskrabulis/miniconda3/envs/quantech/lib/python3.9/site-packages/pyscf/symm/Dmatrix.py:156: RuntimeWarning: invalid value encountered in arccos\n",
      "  gamma = numpy.arccos(yp.dot(c2[1]))\n",
      "Progress:  35%|███▍      | 348/1000 [1:27:20<2:36:26, 14.40s/it]"
     ]
    },
    {
     "name": "stdout",
     "output_type": "stream",
     "text": [
      "Time to: Calculate Ground State - 0.93s, Get Pauli Ops - 5.7s, Calculate Pauli Expectation Values - 5.64s, Calculate Covariance - 1.73s\n",
      "f0,f1,f2 = [4.94348637371816e-09, 4.943486383459805e-09, 4.943486369143686e-09]\n",
      "d01,d02,d12 = [1.1514768553208503, 1.1514768529220096, 1.151476854554464]\n"
     ]
    },
    {
     "name": "stderr",
     "output_type": "stream",
     "text": [
      "Progress:  35%|███▍      | 349/1000 [1:27:34<2:34:39, 14.25s/it]"
     ]
    },
    {
     "name": "stdout",
     "output_type": "stream",
     "text": [
      "Time to: Calculate Ground State - 1.36s, Get Pauli Ops - 4.6s, Calculate Pauli Expectation Values - 6.02s, Calculate Covariance - 1.93s\n",
      "f0,f1,f2 = [4.42408376987222e-09, 4.424083777798063e-09, 4.424083766135071e-09]\n",
      "d01,d02,d12 = [1.1322813039142923, 1.1322813014975095, 1.132281303142217]\n"
     ]
    },
    {
     "name": "stderr",
     "output_type": "stream",
     "text": [
      "/cluster/home/mskrabulis/miniconda3/envs/quantech/lib/python3.9/site-packages/pyscf/symm/Dmatrix.py:156: RuntimeWarning: invalid value encountered in arccos\n",
      "  gamma = numpy.arccos(yp.dot(c2[1]))\n",
      "Progress:  35%|███▌      | 350/1000 [1:27:48<2:32:58, 14.12s/it]"
     ]
    },
    {
     "name": "stdout",
     "output_type": "stream",
     "text": [
      "Time to: Calculate Ground State - 1.02s, Get Pauli Ops - 4.72s, Calculate Pauli Expectation Values - 5.91s, Calculate Covariance - 2.15s\n",
      "f0,f1,f2 = [4.777928061680262e-09, 4.777928077549006e-09, 4.77792805424124e-09]\n",
      "d01,d02,d12 = [1.1103151002070941, 1.1103150977830942, 1.1103150994327455]\n"
     ]
    },
    {
     "name": "stderr",
     "output_type": "stream",
     "text": [
      "Progress:  35%|███▌      | 351/1000 [1:28:02<2:31:50, 14.04s/it]"
     ]
    },
    {
     "name": "stdout",
     "output_type": "stream",
     "text": [
      "Time to: Calculate Ground State - 1.16s, Get Pauli Ops - 4.82s, Calculate Pauli Expectation Values - 6.17s, Calculate Covariance - 1.69s\n",
      "f0,f1,f2 = [4.323658130804412e-09, 4.3236581443922975e-09, 4.323658124433907e-09]\n",
      "d01,d02,d12 = [1.0867973566098774, 1.0867973541663223, 1.0867973558293307]\n"
     ]
    },
    {
     "name": "stderr",
     "output_type": "stream",
     "text": [
      "Progress:  35%|███▌      | 352/1000 [1:28:16<2:33:55, 14.25s/it]"
     ]
    },
    {
     "name": "stdout",
     "output_type": "stream",
     "text": [
      "Time to: Calculate Ground State - 1.28s, Get Pauli Ops - 4.94s, Calculate Pauli Expectation Values - 6.43s, Calculate Covariance - 2.1s\n",
      "f0,f1,f2 = [3.169272460847064e-09, 3.169272480182172e-09, 3.1692724517907473e-09]\n",
      "d01,d02,d12 = [1.062826668282689, 1.0628266658360268, 1.062826667501194]\n"
     ]
    },
    {
     "name": "stderr",
     "output_type": "stream",
     "text": [
      "/cluster/home/mskrabulis/miniconda3/envs/quantech/lib/python3.9/site-packages/pyscf/symm/Dmatrix.py:156: RuntimeWarning: invalid value encountered in arccos\n",
      "  gamma = numpy.arccos(yp.dot(c2[1]))\n",
      "/cluster/home/mskrabulis/miniconda3/envs/quantech/lib/python3.9/site-packages/pyscf/symm/Dmatrix.py:156: RuntimeWarning: invalid value encountered in arccos\n",
      "  gamma = numpy.arccos(yp.dot(c2[1]))\n",
      "Progress:  35%|███▌      | 353/1000 [1:28:30<2:31:28, 14.05s/it]"
     ]
    },
    {
     "name": "stdout",
     "output_type": "stream",
     "text": [
      "Time to: Calculate Ground State - 1.27s, Get Pauli Ops - 4.57s, Calculate Pauli Expectation Values - 6.02s, Calculate Covariance - 1.71s\n",
      "f0,f1,f2 = [2.7531767904858484e-09, 2.7531768058163408e-09, 2.7531767832790866e-09]\n",
      "d01,d02,d12 = [1.0358197355875318, 1.0358197331721282, 1.0358197348160703]\n"
     ]
    },
    {
     "name": "stderr",
     "output_type": "stream",
     "text": [
      "/cluster/home/mskrabulis/miniconda3/envs/quantech/lib/python3.9/site-packages/pyscf/symm/Dmatrix.py:156: RuntimeWarning: invalid value encountered in arccos\n",
      "  gamma = numpy.arccos(yp.dot(c2[1]))\n",
      "Progress:  35%|███▌      | 354/1000 [1:28:45<2:32:47, 14.19s/it]"
     ]
    },
    {
     "name": "stdout",
     "output_type": "stream",
     "text": [
      "Time to: Calculate Ground State - 1.3s, Get Pauli Ops - 4.5s, Calculate Pauli Expectation Values - 6.45s, Calculate Covariance - 2.27s\n",
      "f0,f1,f2 = [2.166541758227243e-09, 2.166541778527972e-09, 2.166541748683771e-09]\n",
      "d01,d02,d12 = [1.0122457646212026, 1.0122457622636587, 1.012245763868272]\n"
     ]
    },
    {
     "name": "stderr",
     "output_type": "stream",
     "text": [
      "Progress:  36%|███▌      | 355/1000 [1:28:59<2:32:20, 14.17s/it]"
     ]
    },
    {
     "name": "stdout",
     "output_type": "stream",
     "text": [
      "Time to: Calculate Ground State - 0.79s, Get Pauli Ops - 4.58s, Calculate Pauli Expectation Values - 6.64s, Calculate Covariance - 2.11s\n",
      "f0,f1,f2 = [1.5772729529789623e-09, 1.5772729799508689e-09, 1.5772729403232363e-09]\n",
      "d01,d02,d12 = [0.9901143696776794, 0.9901143673833039, 0.990114368944965]\n"
     ]
    },
    {
     "name": "stderr",
     "output_type": "stream",
     "text": [
      "/cluster/home/mskrabulis/miniconda3/envs/quantech/lib/python3.9/site-packages/pyscf/symm/Dmatrix.py:156: RuntimeWarning: invalid value encountered in arccos\n",
      "  gamma = numpy.arccos(yp.dot(c2[1]))\n",
      "Progress:  36%|███▌      | 356/1000 [1:29:13<2:33:36, 14.31s/it]"
     ]
    },
    {
     "name": "stdout",
     "output_type": "stream",
     "text": [
      "Time to: Calculate Ground State - 0.97s, Get Pauli Ops - 4.71s, Calculate Pauli Expectation Values - 6.84s, Calculate Covariance - 2.12s\n",
      "f0,f1,f2 = [7.344257524675849e-10, 7.344257266071697e-10, 7.344257646104659e-10]\n",
      "d01,d02,d12 = [0.9661264120698962, 0.9661264098728471, 0.9661264113683059]\n"
     ]
    },
    {
     "name": "stderr",
     "output_type": "stream",
     "text": [
      "Progress:  36%|███▌      | 357/1000 [1:29:28<2:32:59, 14.28s/it]"
     ]
    },
    {
     "name": "stdout",
     "output_type": "stream",
     "text": [
      "Time to: Calculate Ground State - 1.29s, Get Pauli Ops - 4.36s, Calculate Pauli Expectation Values - 6.33s, Calculate Covariance - 2.21s\n",
      "f0,f1,f2 = [1.7218469593347267e-10, 1.7218466880680012e-10, 1.7218470864072697e-10]\n",
      "d01,d02,d12 = [0.9440178466710201, 0.944017844590586, 0.9440178460067009]\n"
     ]
    },
    {
     "name": "stderr",
     "output_type": "stream",
     "text": [
      "/cluster/home/mskrabulis/miniconda3/envs/quantech/lib/python3.9/site-packages/pyscf/symm/Dmatrix.py:156: RuntimeWarning: invalid value encountered in arccos\n",
      "  gamma = numpy.arccos(yp.dot(c2[1]))\n",
      "Progress:  36%|███▌      | 358/1000 [1:29:46<2:45:40, 15.48s/it]"
     ]
    },
    {
     "name": "stdout",
     "output_type": "stream",
     "text": [
      "Time to: Calculate Ground State - 1.27s, Get Pauli Ops - 4.9s, Calculate Pauli Expectation Values - 9.87s, Calculate Covariance - 2.26s\n",
      "f0,f1,f2 = [2.173009945846178e-09, 2.1730099162675383e-09, 2.173009959706133e-09]\n",
      "d01,d02,d12 = [0.9251447523836459, 0.9251447504567334, 0.9251447517683813]\n"
     ]
    },
    {
     "name": "stderr",
     "output_type": "stream",
     "text": [
      "Progress:  36%|███▌      | 359/1000 [1:30:02<2:47:09, 15.65s/it]"
     ]
    },
    {
     "name": "stdout",
     "output_type": "stream",
     "text": [
      "Time to: Calculate Ground State - 0.92s, Get Pauli Ops - 4.38s, Calculate Pauli Expectation Values - 8.42s, Calculate Covariance - 2.3s\n",
      "f0,f1,f2 = [2.443188213013174e-09, 2.443188188604659e-09, 2.4431882244615046e-09]\n",
      "d01,d02,d12 = [0.9069516787068892, 0.9069516769655436, 0.9069516781509059]\n"
     ]
    },
    {
     "name": "stderr",
     "output_type": "stream",
     "text": [
      "Progress:  36%|███▌      | 360/1000 [1:30:16<2:40:36, 15.06s/it]"
     ]
    },
    {
     "name": "stdout",
     "output_type": "stream",
     "text": [
      "Time to: Calculate Ground State - 1.14s, Get Pauli Ops - 4.41s, Calculate Pauli Expectation Values - 5.8s, Calculate Covariance - 2.32s\n",
      "f0,f1,f2 = [3.60504824363107e-09, 3.6050482168904176e-09, 3.6050482561723253e-09]\n",
      "d01,d02,d12 = [0.8892736422992709, 0.8892736407777316, 0.8892736418134995]\n"
     ]
    },
    {
     "name": "stderr",
     "output_type": "stream",
     "text": [
      "Progress:  36%|███▌      | 361/1000 [1:30:30<2:39:34, 14.98s/it]"
     ]
    },
    {
     "name": "stdout",
     "output_type": "stream",
     "text": [
      "Time to: Calculate Ground State - 1.01s, Get Pauli Ops - 4.85s, Calculate Pauli Expectation Values - 6.79s, Calculate Covariance - 2.15s\n",
      "f0,f1,f2 = [5.368317116701689e-09, 5.3683170912747374e-09, 5.368317128620532e-09]\n",
      "d01,d02,d12 = [0.8729955818894322, 0.8729955806092528, 0.8729955814807467]\n"
     ]
    },
    {
     "name": "stderr",
     "output_type": "stream",
     "text": [
      "Progress:  36%|███▌      | 362/1000 [1:30:45<2:36:42, 14.74s/it]"
     ]
    },
    {
     "name": "stdout",
     "output_type": "stream",
     "text": [
      "Time to: Calculate Ground State - 0.79s, Get Pauli Ops - 4.89s, Calculate Pauli Expectation Values - 6.21s, Calculate Covariance - 2.27s\n",
      "f0,f1,f2 = [6.305852610487182e-09, 6.305852587668704e-09, 6.3058526211771485e-09]\n",
      "d01,d02,d12 = [0.860379087737047, 0.86037908671102, 0.8603790874095326]\n"
     ]
    },
    {
     "name": "stderr",
     "output_type": "stream",
     "text": [
      "/cluster/home/mskrabulis/miniconda3/envs/quantech/lib/python3.9/site-packages/pyscf/symm/Dmatrix.py:156: RuntimeWarning: invalid value encountered in arccos\n",
      "  gamma = numpy.arccos(yp.dot(c2[1]))\n",
      "Progress:  36%|███▋      | 363/1000 [1:30:58<2:33:38, 14.47s/it]"
     ]
    },
    {
     "name": "stdout",
     "output_type": "stream",
     "text": [
      "Time to: Calculate Ground State - 0.99s, Get Pauli Ops - 4.82s, Calculate Pauli Expectation Values - 5.76s, Calculate Covariance - 2.27s\n",
      "f0,f1,f2 = [7.113648638483088e-09, 7.113648617625721e-09, 7.113648648264532e-09]\n",
      "d01,d02,d12 = [0.8521142414152031, 0.8521142406579064, 0.8521142411735114]\n"
     ]
    },
    {
     "name": "stderr",
     "output_type": "stream",
     "text": [
      "/cluster/home/mskrabulis/miniconda3/envs/quantech/lib/python3.9/site-packages/pyscf/symm/Dmatrix.py:156: RuntimeWarning: invalid value encountered in arccos\n",
      "  gamma = numpy.arccos(yp.dot(c2[1]))\n",
      "Progress:  36%|███▋      | 364/1000 [1:31:14<2:36:36, 14.77s/it]"
     ]
    },
    {
     "name": "stdout",
     "output_type": "stream",
     "text": [
      "Time to: Calculate Ground State - 1.22s, Get Pauli Ops - 5.0s, Calculate Pauli Expectation Values - 7.24s, Calculate Covariance - 2.02s\n",
      "f0,f1,f2 = [7.794360579097016e-09, 7.794360563040079e-09, 7.794360586622148e-09]\n",
      "d01,d02,d12 = [0.8472516849092455, 0.8472516844291521, 0.8472516847560798]\n"
     ]
    },
    {
     "name": "stderr",
     "output_type": "stream",
     "text": [
      "/cluster/home/mskrabulis/miniconda3/envs/quantech/lib/python3.9/site-packages/pyscf/symm/Dmatrix.py:156: RuntimeWarning: invalid value encountered in arccos\n",
      "  gamma = numpy.arccos(yp.dot(c2[1]))\n",
      "Progress:  36%|███▋      | 365/1000 [1:31:27<2:31:44, 14.34s/it]"
     ]
    },
    {
     "name": "stdout",
     "output_type": "stream",
     "text": [
      "Time to: Calculate Ground State - 1.0s, Get Pauli Ops - 4.36s, Calculate Pauli Expectation Values - 6.23s, Calculate Covariance - 1.72s\n",
      "f0,f1,f2 = [8.546864851126421e-09, 8.546864841143226e-09, 8.546864855789503e-09]\n",
      "d01,d02,d12 = [0.8460837768062534, 0.846083776608814, 0.84608377674335]\n"
     ]
    },
    {
     "name": "stderr",
     "output_type": "stream",
     "text": [
      "Progress:  37%|███▋      | 366/1000 [1:31:41<2:29:16, 14.13s/it]"
     ]
    },
    {
     "name": "stdout",
     "output_type": "stream",
     "text": [
      "Time to: Calculate Ground State - 1.07s, Get Pauli Ops - 4.19s, Calculate Pauli Expectation Values - 6.55s, Calculate Covariance - 1.82s\n",
      "f0,f1,f2 = [8.61650125972801e-09, 8.616501255507934e-09, 8.616501261705493e-09]\n",
      "d01,d02,d12 = [0.8484732809545739, 0.8484732810422442, 0.8484732809827135]\n"
     ]
    },
    {
     "name": "stderr",
     "output_type": "stream",
     "text": [
      "Progress:  37%|███▋      | 367/1000 [1:31:55<2:30:46, 14.29s/it]"
     ]
    },
    {
     "name": "stdout",
     "output_type": "stream",
     "text": [
      "Time to: Calculate Ground State - 1.18s, Get Pauli Ops - 4.74s, Calculate Pauli Expectation Values - 6.63s, Calculate Covariance - 2.11s\n",
      "f0,f1,f2 = [9.221711001643841e-09, 9.221711003455968e-09, 9.22171100079232e-09]\n",
      "d01,d02,d12 = [0.854576527237954, 0.8545765276097902, 0.8545765273568321]\n"
     ]
    },
    {
     "name": "stderr",
     "output_type": "stream",
     "text": [
      "Progress:  37%|███▋      | 368/1000 [1:32:13<2:40:30, 15.24s/it]"
     ]
    },
    {
     "name": "stdout",
     "output_type": "stream",
     "text": [
      "Time to: Calculate Ground State - 1.23s, Get Pauli Ops - 4.4s, Calculate Pauli Expectation Values - 9.68s, Calculate Covariance - 2.13s\n",
      "f0,f1,f2 = [7.992652341358646e-09, 7.992652348741676e-09, 7.992652337899196e-09]\n",
      "d01,d02,d12 = [0.864243010469013, 0.8642430111215317, 0.8642430106775147]\n"
     ]
    },
    {
     "name": "stderr",
     "output_type": "stream",
     "text": [
      "Progress:  37%|███▋      | 369/1000 [1:32:29<2:41:26, 15.35s/it]"
     ]
    },
    {
     "name": "stdout",
     "output_type": "stream",
     "text": [
      "Time to: Calculate Ground State - 1.15s, Get Pauli Ops - 4.5s, Calculate Pauli Expectation Values - 8.13s, Calculate Covariance - 1.82s\n",
      "f0,f1,f2 = [6.812923138960594e-09, 6.81292315135848e-09, 6.812923133133941e-09]\n",
      "d01,d02,d12 = [0.876945084939518, 0.8769450858627978, 0.876945085234476]\n"
     ]
    },
    {
     "name": "stderr",
     "output_type": "stream",
     "text": [
      "/cluster/home/mskrabulis/miniconda3/envs/quantech/lib/python3.9/site-packages/pyscf/symm/Dmatrix.py:156: RuntimeWarning: invalid value encountered in arccos\n",
      "  gamma = numpy.arccos(yp.dot(c2[1]))\n",
      "Progress:  37%|███▋      | 370/1000 [1:32:42<2:36:13, 14.88s/it]"
     ]
    },
    {
     "name": "stdout",
     "output_type": "stream",
     "text": [
      "Time to: Calculate Ground State - 1.0s, Get Pauli Ops - 4.72s, Calculate Pauli Expectation Values - 6.3s, Calculate Covariance - 1.75s\n",
      "f0,f1,f2 = [5.420065464117225e-09, 5.420065479783355e-09, 5.4200654567423526e-09]\n",
      "d01,d02,d12 = [0.8922636091892203, 0.8922636103806897, 0.8922636095698099]\n"
     ]
    },
    {
     "name": "stderr",
     "output_type": "stream",
     "text": [
      "Progress:  37%|███▋      | 371/1000 [1:33:00<2:44:04, 15.65s/it]"
     ]
    },
    {
     "name": "stdout",
     "output_type": "stream",
     "text": [
      "Time to: Calculate Ground State - 0.99s, Get Pauli Ops - 4.74s, Calculate Pauli Expectation Values - 9.8s, Calculate Covariance - 1.92s\n",
      "f0,f1,f2 = [4.755030897477068e-09, 4.755030918408301e-09, 4.755030887640304e-09]\n",
      "d01,d02,d12 = [0.9099545996687741, 0.9099546011086793, 0.9099546001286762]\n"
     ]
    },
    {
     "name": "stderr",
     "output_type": "stream",
     "text": [
      "Progress:  37%|███▋      | 372/1000 [1:33:14<2:37:58, 15.09s/it]"
     ]
    },
    {
     "name": "stdout",
     "output_type": "stream",
     "text": [
      "Time to: Calculate Ground State - 1.01s, Get Pauli Ops - 4.73s, Calculate Pauli Expectation Values - 6.23s, Calculate Covariance - 1.81s\n",
      "f0,f1,f2 = [3.646457407789547e-09, 3.646457431745911e-09, 3.646457396542562e-09]\n",
      "d01,d02,d12 = [0.9275631060405913, 0.9275631076929417, 0.9275631065683045]\n"
     ]
    },
    {
     "name": "stderr",
     "output_type": "stream",
     "text": [
      "Progress:  37%|███▋      | 373/1000 [1:33:27<2:33:02, 14.64s/it]"
     ]
    },
    {
     "name": "stdout",
     "output_type": "stream",
     "text": [
      "Time to: Calculate Ground State - 0.99s, Get Pauli Ops - 4.19s, Calculate Pauli Expectation Values - 6.55s, Calculate Covariance - 1.86s\n",
      "f0,f1,f2 = [2.4549651767148264e-09, 2.4549652017127932e-09, 2.454965164999782e-09]\n",
      "d01,d02,d12 = [0.9466209722437018, 0.9466209740812269, 0.946620972830528]\n"
     ]
    },
    {
     "name": "stderr",
     "output_type": "stream",
     "text": [
      "/cluster/home/mskrabulis/miniconda3/envs/quantech/lib/python3.9/site-packages/pyscf/symm/Dmatrix.py:156: RuntimeWarning: invalid value encountered in arccos\n",
      "  gamma = numpy.arccos(yp.dot(c2[1]))\n",
      "Progress:  37%|███▋      | 374/1000 [1:33:44<2:40:06, 15.35s/it]"
     ]
    },
    {
     "name": "stdout",
     "output_type": "stream",
     "text": [
      "Time to: Calculate Ground State - 1.32s, Get Pauli Ops - 4.84s, Calculate Pauli Expectation Values - 8.59s, Calculate Covariance - 2.23s\n",
      "f0,f1,f2 = [2.4602509221243984e-09, 2.4602509469240767e-09, 2.4602509104983124e-09]\n",
      "d01,d02,d12 = [0.9674679317982346, 0.9674679337931943, 0.9674679324353148]\n"
     ]
    },
    {
     "name": "stderr",
     "output_type": "stream",
     "text": [
      "/cluster/home/mskrabulis/miniconda3/envs/quantech/lib/python3.9/site-packages/pyscf/symm/Dmatrix.py:156: RuntimeWarning: invalid value encountered in arccos\n",
      "  gamma = numpy.arccos(yp.dot(c2[1]))\n",
      "Progress:  38%|███▊      | 375/1000 [1:33:57<2:33:03, 14.69s/it]"
     ]
    },
    {
     "name": "stdout",
     "output_type": "stream",
     "text": [
      "Time to: Calculate Ground State - 0.88s, Get Pauli Ops - 4.41s, Calculate Pauli Expectation Values - 6.25s, Calculate Covariance - 1.63s\n",
      "f0,f1,f2 = [1.2813301699194523e-09, 1.2813301945560047e-09, 1.2813301583627766e-09]\n",
      "d01,d02,d12 = [0.9904241698515668, 0.9904241719744021, 0.9904241705294652]\n"
     ]
    },
    {
     "name": "stderr",
     "output_type": "stream",
     "text": [
      "Progress:  38%|███▊      | 376/1000 [1:34:11<2:30:41, 14.49s/it]"
     ]
    },
    {
     "name": "stdout",
     "output_type": "stream",
     "text": [
      "Time to: Calculate Ground State - 0.81s, Get Pauli Ops - 4.62s, Calculate Pauli Expectation Values - 6.4s, Calculate Covariance - 2.17s\n",
      "f0,f1,f2 = [3.7727020943082455e-10, 3.772701882134246e-10, 3.772702193884705e-10]\n",
      "d01,d02,d12 = [1.0125852517727179, 1.0125852540008395, 1.012585252484218]\n"
     ]
    },
    {
     "name": "stderr",
     "output_type": "stream",
     "text": [
      "Progress:  38%|███▊      | 377/1000 [1:34:26<2:30:41, 14.51s/it]"
     ]
    },
    {
     "name": "stdout",
     "output_type": "stream",
     "text": [
      "Time to: Calculate Ground State - 1.0s, Get Pauli Ops - 4.99s, Calculate Pauli Expectation Values - 6.56s, Calculate Covariance - 2.01s\n",
      "f0,f1,f2 = [2.461638732818069e-10, 2.461638954556492e-10, 2.461638628679591e-10]\n",
      "d01,d02,d12 = [1.0351450873378982, 1.0351450896561472, 1.0351450880781647]\n"
     ]
    },
    {
     "name": "stderr",
     "output_type": "stream",
     "text": [
      "/cluster/home/mskrabulis/miniconda3/envs/quantech/lib/python3.9/site-packages/pyscf/symm/Dmatrix.py:156: RuntimeWarning: invalid value encountered in arccos\n",
      "  gamma = numpy.arccos(yp.dot(c2[1]))\n",
      "Progress:  38%|███▊      | 378/1000 [1:34:42<2:34:41, 14.92s/it]"
     ]
    },
    {
     "name": "stdout",
     "output_type": "stream",
     "text": [
      "Time to: Calculate Ground State - 0.97s, Get Pauli Ops - 4.77s, Calculate Pauli Expectation Values - 8.26s, Calculate Covariance - 1.87s\n",
      "f0,f1,f2 = [8.149128832989373e-10, 8.149128612799597e-10, 8.149128936288168e-10]\n",
      "d01,d02,d12 = [1.0569712502128144, 1.0569712526236836, 1.0569712509826443]\n"
     ]
    },
    {
     "name": "stderr",
     "output_type": "stream",
     "text": [
      "Progress:  38%|███▊      | 379/1000 [1:34:57<2:34:07, 14.89s/it]"
     ]
    },
    {
     "name": "stdout",
     "output_type": "stream",
     "text": [
      "Time to: Calculate Ground State - 0.78s, Get Pauli Ops - 4.31s, Calculate Pauli Expectation Values - 7.52s, Calculate Covariance - 2.21s\n",
      "f0,f1,f2 = [1.954945707271572e-09, 1.954945689534925e-09, 1.9549457155905182e-09]\n",
      "d01,d02,d12 = [1.0767144874024912, 1.0767144898955587, 1.0767144881985533]\n"
     ]
    },
    {
     "name": "stderr",
     "output_type": "stream",
     "text": [
      "Progress:  38%|███▊      | 380/1000 [1:35:14<2:40:37, 15.54s/it]"
     ]
    },
    {
     "name": "stdout",
     "output_type": "stream",
     "text": [
      "Time to: Calculate Ground State - 1.07s, Get Pauli Ops - 4.06s, Calculate Pauli Expectation Values - 9.65s, Calculate Covariance - 2.28s\n",
      "f0,f1,f2 = [3.2604358027852258e-09, 3.2604357876728407e-09, 3.2604358098792892e-09]\n",
      "d01,d02,d12 = [1.0951514092919583, 1.095151411866297, 1.0951514101139443]\n"
     ]
    },
    {
     "name": "stderr",
     "output_type": "stream",
     "text": [
      "Progress:  38%|███▊      | 381/1000 [1:35:27<2:34:40, 14.99s/it]"
     ]
    },
    {
     "name": "stdout",
     "output_type": "stream",
     "text": [
      "Time to: Calculate Ground State - 0.77s, Get Pauli Ops - 4.65s, Calculate Pauli Expectation Values - 6.4s, Calculate Covariance - 1.88s\n",
      "f0,f1,f2 = [3.0691135052869996e-09, 3.0691134884343175e-09, 3.0691135131988903e-09]\n",
      "d01,d02,d12 = [1.1122191782553332, 1.1122191808891553, 1.1122191790962916]\n"
     ]
    },
    {
     "name": "stderr",
     "output_type": "stream",
     "text": [
      "Progress:  38%|███▊      | 382/1000 [1:35:45<2:42:56, 15.82s/it]"
     ]
    },
    {
     "name": "stdout",
     "output_type": "stream",
     "text": [
      "Time to: Calculate Ground State - 1.19s, Get Pauli Ops - 9.32s, Calculate Pauli Expectation Values - 5.56s, Calculate Covariance - 1.67s\n",
      "f0,f1,f2 = [4.858980681302646e-09, 4.858980665723934e-09, 4.858980688608295e-09]\n",
      "d01,d02,d12 = [1.1278731840278822, 1.1278731867348812, 1.127873184892186]\n"
     ]
    },
    {
     "name": "stderr",
     "output_type": "stream",
     "text": [
      "Progress:  38%|███▊      | 383/1000 [1:36:02<2:47:28, 16.29s/it]"
     ]
    },
    {
     "name": "stdout",
     "output_type": "stream",
     "text": [
      "Time to: Calculate Ground State - 1.05s, Get Pauli Ops - 4.5s, Calculate Pauli Expectation Values - 9.65s, Calculate Covariance - 2.17s\n",
      "f0,f1,f2 = [5.31163855617825e-09, 5.3116385380869585e-09, 5.311638564663853e-09]\n",
      "d01,d02,d12 = [1.1399896546024593, 1.1399896573511523, 1.1399896554800544]\n"
     ]
    },
    {
     "name": "stderr",
     "output_type": "stream",
     "text": [
      "/cluster/home/mskrabulis/miniconda3/envs/quantech/lib/python3.9/site-packages/pyscf/symm/Dmatrix.py:156: RuntimeWarning: invalid value encountered in arccos\n",
      "  gamma = numpy.arccos(yp.dot(c2[1]))\n",
      "Progress:  38%|███▊      | 384/1000 [1:36:20<2:50:43, 16.63s/it]"
     ]
    },
    {
     "name": "stdout",
     "output_type": "stream",
     "text": [
      "Time to: Calculate Ground State - 1.22s, Get Pauli Ops - 4.4s, Calculate Pauli Expectation Values - 9.84s, Calculate Covariance - 1.97s\n",
      "f0,f1,f2 = [4.904198570325939e-09, 4.904198558316085e-09, 4.904198575953768e-09]\n",
      "d01,d02,d12 = [1.149584563124682, 1.1495845659138504, 1.1495845640151858]\n"
     ]
    },
    {
     "name": "stderr",
     "output_type": "stream",
     "text": [
      "/cluster/home/mskrabulis/miniconda3/envs/quantech/lib/python3.9/site-packages/pyscf/symm/Dmatrix.py:156: RuntimeWarning: invalid value encountered in arccos\n",
      "  gamma = numpy.arccos(yp.dot(c2[1]))\n",
      "Progress:  38%|███▊      | 385/1000 [1:36:36<2:49:39, 16.55s/it]"
     ]
    },
    {
     "name": "stdout",
     "output_type": "stream",
     "text": [
      "Time to: Calculate Ground State - 1.31s, Get Pauli Ops - 4.82s, Calculate Pauli Expectation Values - 8.24s, Calculate Covariance - 1.99s\n",
      "f0,f1,f2 = [4.830140626737298e-09, 4.830140613983153e-09, 4.8301406327079426e-09]\n",
      "d01,d02,d12 = [1.154951296435539, 1.1549512992394366, 1.154951297330732]\n"
     ]
    },
    {
     "name": "stderr",
     "output_type": "stream",
     "text": [
      "Progress:  39%|███▊      | 386/1000 [1:36:50<2:40:33, 15.69s/it]"
     ]
    },
    {
     "name": "stdout",
     "output_type": "stream",
     "text": [
      "Time to: Calculate Ground State - 1.0s, Get Pauli Ops - 4.57s, Calculate Pauli Expectation Values - 6.42s, Calculate Covariance - 1.69s\n",
      "f0,f1,f2 = [3.829251326742862e-09, 3.829251314209479e-09, 3.8292513326427446e-09]\n",
      "d01,d02,d12 = [1.1579115779969724, 1.1579115808095384, 1.1579115788949161]\n"
     ]
    },
    {
     "name": "stderr",
     "output_type": "stream",
     "text": [
      "Progress:  39%|███▊      | 387/1000 [1:37:08<2:47:02, 16.35s/it]"
     ]
    },
    {
     "name": "stdout",
     "output_type": "stream",
     "text": [
      "Time to: Calculate Ground State - 0.87s, Get Pauli Ops - 4.91s, Calculate Pauli Expectation Values - 10.08s, Calculate Covariance - 2.02s\n",
      "f0,f1,f2 = [4.85380031484596e-09, 4.853800305735389e-09, 4.853800319116595e-09]\n",
      "d01,d02,d12 = [1.158825907762704, 1.1588259105745558, 1.1588259086604045]\n"
     ]
    },
    {
     "name": "stderr",
     "output_type": "stream",
     "text": [
      "Progress:  39%|███▉      | 388/1000 [1:37:25<2:48:52, 16.56s/it]"
     ]
    },
    {
     "name": "stdout",
     "output_type": "stream",
     "text": [
      "Time to: Calculate Ground State - 1.09s, Get Pauli Ops - 4.16s, Calculate Pauli Expectation Values - 9.47s, Calculate Covariance - 2.31s\n",
      "f0,f1,f2 = [4.646112584700281e-09, 4.646112573218247e-09, 4.646112590085719e-09]\n",
      "d01,d02,d12 = [1.157709977664565, 1.1577099804688724, 1.1577099785598421]\n"
     ]
    },
    {
     "name": "stderr",
     "output_type": "stream",
     "text": [
      "Progress:  39%|███▉      | 389/1000 [1:37:41<2:45:44, 16.28s/it]"
     ]
    },
    {
     "name": "stdout",
     "output_type": "stream",
     "text": [
      "Time to: Calculate Ground State - 1.01s, Get Pauli Ops - 4.39s, Calculate Pauli Expectation Values - 7.7s, Calculate Covariance - 2.51s\n",
      "f0,f1,f2 = [4.853401615021249e-09, 4.8534016012840245e-09, 4.853401621464741e-09]\n",
      "d01,d02,d12 = [1.1545856075216934, 1.1545856103116692, 1.1545856084123778]\n"
     ]
    },
    {
     "name": "stderr",
     "output_type": "stream",
     "text": [
      "Progress:  39%|███▉      | 390/1000 [1:37:57<2:45:00, 16.23s/it]"
     ]
    },
    {
     "name": "stdout",
     "output_type": "stream",
     "text": [
      "Time to: Calculate Ground State - 1.33s, Get Pauli Ops - 4.8s, Calculate Pauli Expectation Values - 8.07s, Calculate Covariance - 1.92s\n",
      "f0,f1,f2 = [5.160275469191515e-09, 5.160275456681385e-09, 5.160275475033121e-09]\n",
      "d01,d02,d12 = [1.1493831800631966, 1.1493831828288328, 1.149383180946101]\n"
     ]
    },
    {
     "name": "stderr",
     "output_type": "stream",
     "text": [
      "/cluster/home/mskrabulis/miniconda3/envs/quantech/lib/python3.9/site-packages/pyscf/symm/Dmatrix.py:156: RuntimeWarning: invalid value encountered in arccos\n",
      "  gamma = numpy.arccos(yp.dot(c2[1]))\n",
      "Progress:  39%|███▉      | 391/1000 [1:38:10<2:36:47, 15.45s/it]"
     ]
    },
    {
     "name": "stdout",
     "output_type": "stream",
     "text": [
      "Time to: Calculate Ground State - 1.29s, Get Pauli Ops - 4.12s, Calculate Pauli Expectation Values - 6.17s, Calculate Covariance - 2.04s\n",
      "f0,f1,f2 = [5.4968521734921366e-09, 5.49685216294669e-09, 5.496852178445294e-09]\n",
      "d01,d02,d12 = [1.1414396339240418, 1.141439636663459, 1.14143963479856]\n"
     ]
    },
    {
     "name": "stderr",
     "output_type": "stream",
     "text": [
      "Progress:  39%|███▉      | 392/1000 [1:38:24<2:31:27, 14.95s/it]"
     ]
    },
    {
     "name": "stdout",
     "output_type": "stream",
     "text": [
      "Time to: Calculate Ground State - 0.93s, Get Pauli Ops - 4.46s, Calculate Pauli Expectation Values - 6.39s, Calculate Covariance - 1.99s\n",
      "f0,f1,f2 = [4.501887331563701e-09, 4.501887317268005e-09, 4.501887338283883e-09]\n",
      "d01,d02,d12 = [1.1317616296838502, 1.1317616323791209, 1.1317616305442555]\n"
     ]
    },
    {
     "name": "stderr",
     "output_type": "stream",
     "text": [
      "/cluster/home/mskrabulis/miniconda3/envs/quantech/lib/python3.9/site-packages/pyscf/symm/Dmatrix.py:156: RuntimeWarning: invalid value encountered in arccos\n",
      "  gamma = numpy.arccos(yp.dot(c2[1]))\n",
      "Progress:  39%|███▉      | 393/1000 [1:38:39<2:30:53, 14.92s/it]"
     ]
    },
    {
     "name": "stdout",
     "output_type": "stream",
     "text": [
      "Time to: Calculate Ground State - 0.97s, Get Pauli Ops - 4.37s, Calculate Pauli Expectation Values - 7.7s, Calculate Covariance - 1.8s\n",
      "f0,f1,f2 = [4.40585216995146e-09, 4.405852155260167e-09, 4.405852176842465e-09]\n",
      "d01,d02,d12 = [1.1191582950681083, 1.1191582977003622, 1.119158295908376]\n"
     ]
    },
    {
     "name": "stderr",
     "output_type": "stream",
     "text": [
      "Progress:  39%|███▉      | 394/1000 [1:38:53<2:27:55, 14.65s/it]"
     ]
    },
    {
     "name": "stdout",
     "output_type": "stream",
     "text": [
      "Time to: Calculate Ground State - 1.03s, Get Pauli Ops - 4.41s, Calculate Pauli Expectation Values - 6.53s, Calculate Covariance - 2.04s\n",
      "f0,f1,f2 = [3.5863177104955197e-09, 3.58631769463132e-09, 3.5863177179170834e-09]\n",
      "d01,d02,d12 = [1.1043462695594495, 1.1043462721125374, 1.1043462703744367]\n"
     ]
    },
    {
     "name": "stderr",
     "output_type": "stream",
     "text": [
      "Progress:  40%|███▉      | 395/1000 [1:39:08<2:29:29, 14.83s/it]"
     ]
    },
    {
     "name": "stdout",
     "output_type": "stream",
     "text": [
      "Time to: Calculate Ground State - 0.98s, Get Pauli Ops - 4.93s, Calculate Pauli Expectation Values - 7.29s, Calculate Covariance - 2.03s\n",
      "f0,f1,f2 = [2.9488037421887572e-09, 2.948803720748178e-09, 2.948803752242002e-09]\n",
      "d01,d02,d12 = [1.0888083060235414, 1.0888083085112206, 1.0888083068176482]\n"
     ]
    },
    {
     "name": "stderr",
     "output_type": "stream",
     "text": [
      "Progress:  40%|███▉      | 396/1000 [1:39:22<2:25:48, 14.48s/it]"
     ]
    },
    {
     "name": "stdout",
     "output_type": "stream",
     "text": [
      "Time to: Calculate Ground State - 1.04s, Get Pauli Ops - 4.69s, Calculate Pauli Expectation Values - 5.84s, Calculate Covariance - 2.11s\n",
      "f0,f1,f2 = [3.0971441164446723e-09, 3.0971440980293476e-09, 3.0971441250799697e-09]\n",
      "d01,d02,d12 = [1.0725699165249545, 1.0725699189260478, 1.072569917291423]\n"
     ]
    },
    {
     "name": "stderr",
     "output_type": "stream",
     "text": [
      "Progress:  40%|███▉      | 397/1000 [1:39:39<2:32:19, 15.16s/it]"
     ]
    },
    {
     "name": "stdout",
     "output_type": "stream",
     "text": [
      "Time to: Calculate Ground State - 1.17s, Get Pauli Ops - 4.51s, Calculate Pauli Expectation Values - 8.95s, Calculate Covariance - 2.08s\n",
      "f0,f1,f2 = [2.9021615960932247e-09, 2.9021615779008e-09, 2.9021616046022765e-09]\n",
      "d01,d02,d12 = [1.0542160182167692, 1.0542160204937379, 1.0542160189436187]\n"
     ]
    },
    {
     "name": "stderr",
     "output_type": "stream",
     "text": [
      "/cluster/home/mskrabulis/miniconda3/envs/quantech/lib/python3.9/site-packages/pyscf/symm/Dmatrix.py:156: RuntimeWarning: invalid value encountered in arccos\n",
      "  gamma = numpy.arccos(yp.dot(c2[1]))\n",
      "Progress:  40%|███▉      | 398/1000 [1:39:53<2:31:05, 15.06s/it]"
     ]
    },
    {
     "name": "stdout",
     "output_type": "stream",
     "text": [
      "Time to: Calculate Ground State - 1.41s, Get Pauli Ops - 4.68s, Calculate Pauli Expectation Values - 6.77s, Calculate Covariance - 1.95s\n",
      "f0,f1,f2 = [2.035880928211134e-09, 2.0358809108816024e-09, 2.0358809363505427e-09]\n",
      "d01,d02,d12 = [1.0362805567383315, 1.0362805588691943, 1.0362805574185343]\n"
     ]
    },
    {
     "name": "stderr",
     "output_type": "stream",
     "text": [
      "/cluster/home/mskrabulis/miniconda3/envs/quantech/lib/python3.9/site-packages/pyscf/symm/Dmatrix.py:156: RuntimeWarning: invalid value encountered in arccos\n",
      "  gamma = numpy.arccos(yp.dot(c2[1]))\n",
      "Progress:  40%|███▉      | 399/1000 [1:40:08<2:30:36, 15.04s/it]"
     ]
    },
    {
     "name": "stdout",
     "output_type": "stream",
     "text": [
      "Time to: Calculate Ground State - 1.3s, Get Pauli Ops - 4.25s, Calculate Pauli Expectation Values - 7.85s, Calculate Covariance - 1.59s\n",
      "f0,f1,f2 = [8.527918526713937e-10, 8.527918317498652e-10, 8.527918624842667e-10]\n",
      "d01,d02,d12 = [1.0197981715494229, 1.0197981735196262, 1.0197981721783405]\n"
     ]
    },
    {
     "name": "stderr",
     "output_type": "stream",
     "text": [
      "/cluster/home/mskrabulis/miniconda3/envs/quantech/lib/python3.9/site-packages/pyscf/symm/Dmatrix.py:156: RuntimeWarning: invalid value encountered in arccos\n",
      "  gamma = numpy.arccos(yp.dot(c2[1]))\n",
      "Progress:  40%|████      | 400/1000 [1:40:22<2:27:31, 14.75s/it]"
     ]
    },
    {
     "name": "stdout",
     "output_type": "stream",
     "text": [
      "Time to: Calculate Ground State - 1.26s, Get Pauli Ops - 4.7s, Calculate Pauli Expectation Values - 5.92s, Calculate Covariance - 2.21s\n",
      "f0,f1,f2 = [1.499247088408456e-09, 1.4992470709191492e-09, 1.4992470966071228e-09]\n",
      "d01,d02,d12 = [1.0012108774905317, 1.0012108792763166, 1.0012108780605746]\n"
     ]
    },
    {
     "name": "stderr",
     "output_type": "stream",
     "text": [
      "Progress:  40%|████      | 401/1000 [1:40:36<2:23:58, 14.42s/it]"
     ]
    },
    {
     "name": "stdout",
     "output_type": "stream",
     "text": [
      "Time to: Calculate Ground State - 0.84s, Get Pauli Ops - 4.29s, Calculate Pauli Expectation Values - 6.72s, Calculate Covariance - 1.8s\n",
      "f0,f1,f2 = [4.513153701256456e-10, 4.513153883921061e-10, 4.5131536157141063e-10]\n",
      "d01,d02,d12 = [0.9825655271953702, 0.9825655287795365, 0.9825655277010551]\n"
     ]
    },
    {
     "name": "stderr",
     "output_type": "stream",
     "text": [
      "Progress:  40%|████      | 402/1000 [1:40:50<2:21:44, 14.22s/it]"
     ]
    },
    {
     "name": "stdout",
     "output_type": "stream",
     "text": [
      "Time to: Calculate Ground State - 1.24s, Get Pauli Ops - 4.38s, Calculate Pauli Expectation Values - 6.41s, Calculate Covariance - 1.73s\n",
      "f0,f1,f2 = [8.077016287025271e-10, 8.077016471454925e-10, 8.077016200736925e-10]\n",
      "d01,d02,d12 = [0.9629251635172175, 0.9629251648769844, 0.9629251639512815]\n"
     ]
    },
    {
     "name": "stderr",
     "output_type": "stream",
     "text": [
      "/cluster/home/mskrabulis/miniconda3/envs/quantech/lib/python3.9/site-packages/pyscf/symm/Dmatrix.py:156: RuntimeWarning: invalid value encountered in arccos\n",
      "  gamma = numpy.arccos(yp.dot(c2[1]))\n",
      "/cluster/home/mskrabulis/miniconda3/envs/quantech/lib/python3.9/site-packages/pyscf/symm/Dmatrix.py:156: RuntimeWarning: invalid value encountered in arccos\n",
      "  gamma = numpy.arccos(yp.dot(c2[1]))\n",
      "Progress:  40%|████      | 403/1000 [1:41:03<2:17:25, 13.81s/it]"
     ]
    },
    {
     "name": "stdout",
     "output_type": "stream",
     "text": [
      "Time to: Calculate Ground State - 1.02s, Get Pauli Ops - 4.09s, Calculate Pauli Expectation Values - 6.34s, Calculate Covariance - 1.4s\n",
      "f0,f1,f2 = [1.0656365522190218e-09, 1.0656365689688233e-09, 1.0656365443826712e-09]\n",
      "d01,d02,d12 = [0.9414448369764561, 0.9414448380941424, 0.9414448373332489]\n"
     ]
    },
    {
     "name": "stderr",
     "output_type": "stream",
     "text": [
      "Progress:  40%|████      | 404/1000 [1:41:17<2:17:35, 13.85s/it]"
     ]
    },
    {
     "name": "stdout",
     "output_type": "stream",
     "text": [
      "Time to: Calculate Ground State - 1.03s, Get Pauli Ops - 4.41s, Calculate Pauli Expectation Values - 6.6s, Calculate Covariance - 1.9s\n",
      "f0,f1,f2 = [2.646464866794465e-09, 2.6464648831652275e-09, 2.6464648591246946e-09]\n",
      "d01,d02,d12 = [0.9199863843620968, 0.9199863852050238, 0.9199863846311815]\n"
     ]
    },
    {
     "name": "stderr",
     "output_type": "stream",
     "text": [
      "Progress:  40%|████      | 405/1000 [1:41:29<2:13:18, 13.44s/it]"
     ]
    },
    {
     "name": "stdout",
     "output_type": "stream",
     "text": [
      "Time to: Calculate Ground State - 1.06s, Get Pauli Ops - 3.98s, Calculate Pauli Expectation Values - 5.91s, Calculate Covariance - 1.53s\n",
      "f0,f1,f2 = [2.8058605088227082e-09, 2.8058605208170897e-09, 2.8058605032034218e-09]\n",
      "d01,d02,d12 = [0.8983721286869633, 0.8983721292370981, 0.8983721288625865]\n"
     ]
    },
    {
     "name": "stderr",
     "output_type": "stream",
     "text": [
      "/cluster/home/mskrabulis/miniconda3/envs/quantech/lib/python3.9/site-packages/pyscf/symm/Dmatrix.py:156: RuntimeWarning: invalid value encountered in arccos\n",
      "  gamma = numpy.arccos(yp.dot(c2[1]))\n",
      "Progress:  41%|████      | 406/1000 [1:41:47<2:26:04, 14.75s/it]"
     ]
    },
    {
     "name": "stdout",
     "output_type": "stream",
     "text": [
      "Time to: Calculate Ground State - 1.11s, Get Pauli Ops - 6.69s, Calculate Pauli Expectation Values - 8.25s, Calculate Covariance - 1.76s\n",
      "f0,f1,f2 = [4.7485394740191616e-09, 4.748539483965007e-09, 4.748539469364644e-09]\n",
      "d01,d02,d12 = [0.8784899494059903, 0.8784899496620159, 0.8784899494877304]\n"
     ]
    },
    {
     "name": "stderr",
     "output_type": "stream",
     "text": [
      "/cluster/home/mskrabulis/miniconda3/envs/quantech/lib/python3.9/site-packages/pyscf/symm/Dmatrix.py:156: RuntimeWarning: invalid value encountered in arccos\n",
      "  gamma = numpy.arccos(yp.dot(c2[1]))\n",
      "Progress:  41%|████      | 407/1000 [1:42:01<2:23:59, 14.57s/it]"
     ]
    },
    {
     "name": "stdout",
     "output_type": "stream",
     "text": [
      "Time to: Calculate Ground State - 1.34s, Get Pauli Ops - 4.49s, Calculate Pauli Expectation Values - 6.53s, Calculate Covariance - 1.76s\n",
      "f0,f1,f2 = [6.434858070682741e-09, 6.434858075460127e-09, 6.434858068436978e-09]\n",
      "d01,d02,d12 = [0.8591271289887845, 0.8591271289464673, 0.8591271289752898]\n"
     ]
    },
    {
     "name": "stderr",
     "output_type": "stream",
     "text": [
      "Progress:  41%|████      | 408/1000 [1:42:15<2:20:25, 14.23s/it]"
     ]
    },
    {
     "name": "stdout",
     "output_type": "stream",
     "text": [
      "Time to: Calculate Ground State - 0.93s, Get Pauli Ops - 4.07s, Calculate Pauli Expectation Values - 6.72s, Calculate Covariance - 1.73s\n",
      "f0,f1,f2 = [7.498126005099528e-09, 7.498126004198814e-09, 7.498126005507225e-09]\n",
      "d01,d02,d12 = [0.8434781529584869, 0.8434781526190752, 0.8434781528501588]\n"
     ]
    },
    {
     "name": "stderr",
     "output_type": "stream",
     "text": [
      "Progress:  41%|████      | 409/1000 [1:42:33<2:31:33, 15.39s/it]"
     ]
    },
    {
     "name": "stdout",
     "output_type": "stream",
     "text": [
      "Time to: Calculate Ground State - 0.82s, Get Pauli Ops - 4.33s, Calculate Pauli Expectation Values - 10.98s, Calculate Covariance - 1.94s\n",
      "f0,f1,f2 = [8.57779913333662e-09, 8.57779912598525e-09, 8.577799136804322e-09]\n",
      "d01,d02,d12 = [0.8312903126390201, 0.8312903120042828, 0.8312903124364304]\n"
     ]
    },
    {
     "name": "stderr",
     "output_type": "stream",
     "text": [
      "Progress:  41%|████      | 410/1000 [1:42:50<2:38:25, 16.11s/it]"
     ]
    },
    {
     "name": "stdout",
     "output_type": "stream",
     "text": [
      "Time to: Calculate Ground State - 1.22s, Get Pauli Ops - 4.94s, Calculate Pauli Expectation Values - 9.88s, Calculate Covariance - 1.76s\n",
      "f0,f1,f2 = [1.0347891491870773e-08, 1.0347891477574038e-08, 1.0347891498581256e-08]\n",
      "d01,d02,d12 = [0.8231650927781318, 0.8231650918541165, 0.8231650924832109]\n"
     ]
    },
    {
     "name": "stderr",
     "output_type": "stream",
     "text": [
      "Progress:  41%|████      | 411/1000 [1:43:05<2:34:47, 15.77s/it]"
     ]
    },
    {
     "name": "stdout",
     "output_type": "stream",
     "text": [
      "Time to: Calculate Ground State - 1.06s, Get Pauli Ops - 4.2s, Calculate Pauli Expectation Values - 7.81s, Calculate Covariance - 1.89s\n",
      "f0,f1,f2 = [9.091055965856661e-09, 9.091055945215729e-09, 9.091055975527904e-09]\n",
      "d01,d02,d12 = [0.8182512123491674, 0.8182512111511662, 0.8182512119667961]\n"
     ]
    },
    {
     "name": "stderr",
     "output_type": "stream",
     "text": [
      "Progress:  41%|████      | 412/1000 [1:43:19<2:28:15, 15.13s/it]"
     ]
    },
    {
     "name": "stdout",
     "output_type": "stream",
     "text": [
      "Time to: Calculate Ground State - 0.98s, Get Pauli Ops - 4.15s, Calculate Pauli Expectation Values - 6.64s, Calculate Covariance - 1.86s\n",
      "f0,f1,f2 = [9.677665274406243e-09, 9.677665245939131e-09, 9.677665287740487e-09]\n",
      "d01,d02,d12 = [0.8177227728575542, 0.8177227714085752, 0.8177227723950717]\n"
     ]
    },
    {
     "name": "stderr",
     "output_type": "stream",
     "text": [
      "Progress:  41%|████▏     | 413/1000 [1:43:37<2:35:07, 15.86s/it]"
     ]
    },
    {
     "name": "stdout",
     "output_type": "stream",
     "text": [
      "Time to: Calculate Ground State - 1.27s, Get Pauli Ops - 4.41s, Calculate Pauli Expectation Values - 9.72s, Calculate Covariance - 2.15s\n",
      "f0,f1,f2 = [1.0155693001371844e-08, 1.0155692966504694e-08, 1.0155693017702462e-08]\n",
      "d01,d02,d12 = [0.8214135858299818, 0.8214135841520485, 0.8214135852944164]\n"
     ]
    },
    {
     "name": "stderr",
     "output_type": "stream",
     "text": [
      "Progress:  41%|████▏     | 414/1000 [1:43:51<2:31:16, 15.49s/it]"
     ]
    },
    {
     "name": "stdout",
     "output_type": "stream",
     "text": [
      "Time to: Calculate Ground State - 1.0s, Get Pauli Ops - 5.06s, Calculate Pauli Expectation Values - 6.47s, Calculate Covariance - 2.09s\n",
      "f0,f1,f2 = [1.0413581008912711e-08, 1.0413580968869412e-08, 1.0413581027696972e-08]\n",
      "d01,d02,d12 = [0.8296639578366338, 0.8296639559564549, 0.8296639572365104]\n"
     ]
    },
    {
     "name": "stderr",
     "output_type": "stream",
     "text": [
      "/cluster/home/mskrabulis/miniconda3/envs/quantech/lib/python3.9/site-packages/pyscf/symm/Dmatrix.py:156: RuntimeWarning: invalid value encountered in arccos\n",
      "  gamma = numpy.arccos(yp.dot(c2[1]))\n",
      "Progress:  42%|████▏     | 415/1000 [1:44:04<2:22:58, 14.66s/it]"
     ]
    },
    {
     "name": "stdout",
     "output_type": "stream",
     "text": [
      "Time to: Calculate Ground State - 0.77s, Get Pauli Ops - 4.11s, Calculate Pauli Expectation Values - 6.02s, Calculate Covariance - 1.83s\n",
      "f0,f1,f2 = [9.264251884687296e-09, 9.264251839452087e-09, 9.264251905878366e-09]\n",
      "d01,d02,d12 = [0.8417743992085034, 0.8417743971557627, 0.8417743985532996]\n"
     ]
    },
    {
     "name": "stderr",
     "output_type": "stream",
     "text": [
      "/cluster/home/mskrabulis/miniconda3/envs/quantech/lib/python3.9/site-packages/pyscf/symm/Dmatrix.py:156: RuntimeWarning: invalid value encountered in arccos\n",
      "  gamma = numpy.arccos(yp.dot(c2[1]))\n",
      "/cluster/home/mskrabulis/miniconda3/envs/quantech/lib/python3.9/site-packages/pyscf/symm/Dmatrix.py:156: RuntimeWarning: invalid value encountered in arccos\n",
      "  gamma = numpy.arccos(yp.dot(c2[1]))\n",
      "Progress:  42%|████▏     | 416/1000 [1:44:18<2:21:23, 14.53s/it]"
     ]
    },
    {
     "name": "stdout",
     "output_type": "stream",
     "text": [
      "Time to: Calculate Ground State - 1.26s, Get Pauli Ops - 4.75s, Calculate Pauli Expectation Values - 6.04s, Calculate Covariance - 2.14s\n",
      "f0,f1,f2 = [8.523793330986461e-09, 8.523793285723347e-09, 8.52379335220152e-09]\n",
      "d01,d02,d12 = [0.8568921274066099, 0.8568921252142977, 0.8568921267068622]\n"
     ]
    },
    {
     "name": "stderr",
     "output_type": "stream",
     "text": [
      "Progress:  42%|████▏     | 417/1000 [1:44:32<2:17:57, 14.20s/it]"
     ]
    },
    {
     "name": "stdout",
     "output_type": "stream",
     "text": [
      "Time to: Calculate Ground State - 0.74s, Get Pauli Ops - 4.4s, Calculate Pauli Expectation Values - 6.48s, Calculate Covariance - 1.8s\n",
      "f0,f1,f2 = [7.647641031453544e-09, 7.647640988255924e-09, 7.647641051718774e-09]\n",
      "d01,d02,d12 = [0.874925673605077, 0.8749256713082438, 0.8749256728719674]\n"
     ]
    },
    {
     "name": "stderr",
     "output_type": "stream",
     "text": [
      "/cluster/home/mskrabulis/miniconda3/envs/quantech/lib/python3.9/site-packages/pyscf/symm/Dmatrix.py:156: RuntimeWarning: invalid value encountered in arccos\n",
      "  gamma = numpy.arccos(yp.dot(c2[1]))\n",
      "Progress:  42%|████▏     | 418/1000 [1:44:45<2:16:17, 14.05s/it]"
     ]
    },
    {
     "name": "stdout",
     "output_type": "stream",
     "text": [
      "Time to: Calculate Ground State - 1.24s, Get Pauli Ops - 4.54s, Calculate Pauli Expectation Values - 5.81s, Calculate Covariance - 2.11s\n",
      "f0,f1,f2 = [6.009065631638533e-09, 6.009065589300022e-09, 6.009065651482517e-09]\n",
      "d01,d02,d12 = [0.8941224333267328, 0.8941224309488983, 0.894122432567772]\n"
     ]
    },
    {
     "name": "stderr",
     "output_type": "stream",
     "text": [
      "Progress:  42%|████▏     | 419/1000 [1:44:58<2:13:28, 13.78s/it]"
     ]
    },
    {
     "name": "stdout",
     "output_type": "stream",
     "text": [
      "Time to: Calculate Ground State - 0.88s, Get Pauli Ops - 4.43s, Calculate Pauli Expectation Values - 5.94s, Calculate Covariance - 1.91s\n",
      "f0,f1,f2 = [4.356952598505394e-09, 4.356952556350221e-09, 4.35695261825836e-09]\n",
      "d01,d02,d12 = [0.915167631420367, 0.9151676289225493, 0.9151676306231019]\n"
     ]
    },
    {
     "name": "stderr",
     "output_type": "stream",
     "text": [
      "/cluster/home/mskrabulis/miniconda3/envs/quantech/lib/python3.9/site-packages/pyscf/symm/Dmatrix.py:156: RuntimeWarning: invalid value encountered in arccos\n",
      "  gamma = numpy.arccos(yp.dot(c2[1]))\n",
      "Progress:  42%|████▏     | 420/1000 [1:45:12<2:11:08, 13.57s/it]"
     ]
    },
    {
     "name": "stdout",
     "output_type": "stream",
     "text": [
      "Time to: Calculate Ground State - 1.04s, Get Pauli Ops - 4.5s, Calculate Pauli Expectation Values - 5.98s, Calculate Covariance - 1.54s\n",
      "f0,f1,f2 = [3.0775431870495936e-09, 3.0775431447856564e-09, 3.0775432068841597e-09]\n",
      "d01,d02,d12 = [0.9360346853059816, 0.9360346827367115, 0.9360346844859068]\n"
     ]
    },
    {
     "name": "stderr",
     "output_type": "stream",
     "text": [
      "/cluster/home/mskrabulis/miniconda3/envs/quantech/lib/python3.9/site-packages/pyscf/symm/Dmatrix.py:156: RuntimeWarning: invalid value encountered in arccos\n",
      "  gamma = numpy.arccos(yp.dot(c2[1]))\n",
      "Progress:  42%|████▏     | 421/1000 [1:45:25<2:11:28, 13.62s/it]"
     ]
    },
    {
     "name": "stdout",
     "output_type": "stream",
     "text": [
      "Time to: Calculate Ground State - 1.28s, Get Pauli Ops - 4.44s, Calculate Pauli Expectation Values - 5.7s, Calculate Covariance - 2.34s\n",
      "f0,f1,f2 = [2.6310022250553582e-09, 2.6310021893886694e-09, 2.6310022417779207e-09]\n",
      "d01,d02,d12 = [0.9602200127346758, 0.9602200100764756, 0.9602200118862131]\n"
     ]
    },
    {
     "name": "stderr",
     "output_type": "stream",
     "text": [
      "Progress:  42%|████▏     | 422/1000 [1:45:41<2:17:11, 14.24s/it]"
     ]
    },
    {
     "name": "stdout",
     "output_type": "stream",
     "text": [
      "Time to: Calculate Ground State - 1.31s, Get Pauli Ops - 6.65s, Calculate Pauli Expectation Values - 5.74s, Calculate Covariance - 1.96s\n",
      "f0,f1,f2 = [5.89249597188482e-10, 5.892495647913194e-10, 5.892496123671523e-10]\n",
      "d01,d02,d12 = [0.9822600668738064, 0.9822600641350402, 0.9822600659996222]\n"
     ]
    },
    {
     "name": "stderr",
     "output_type": "stream",
     "text": [
      "Progress:  42%|████▏     | 423/1000 [1:45:56<2:18:05, 14.36s/it]"
     ]
    },
    {
     "name": "stdout",
     "output_type": "stream",
     "text": [
      "Time to: Calculate Ground State - 1.06s, Get Pauli Ops - 4.75s, Calculate Pauli Expectation Values - 6.95s, Calculate Covariance - 1.87s\n",
      "f0,f1,f2 = [2.972708883841326e-10, 2.9727085314466003e-10, 2.9727090489678895e-10]\n",
      "d01,d02,d12 = [1.002006124805416, 1.0020061220253713, 1.0020061239180615]\n"
     ]
    },
    {
     "name": "stderr",
     "output_type": "stream",
     "text": [
      "Progress:  42%|████▏     | 424/1000 [1:46:12<2:22:25, 14.84s/it]"
     ]
    },
    {
     "name": "stdout",
     "output_type": "stream",
     "text": [
      "Time to: Calculate Ground State - 0.96s, Get Pauli Ops - 4.97s, Calculate Pauli Expectation Values - 8.22s, Calculate Covariance - 1.79s\n",
      "f0,f1,f2 = [9.502950119512053e-10, 9.502950404052744e-10, 9.502949986114408e-10]\n",
      "d01,d02,d12 = [1.0203916813840284, 1.020391678580222, 1.0203916804891082]\n"
     ]
    },
    {
     "name": "stderr",
     "output_type": "stream",
     "text": [
      "Progress:  42%|████▎     | 425/1000 [1:46:29<2:29:03, 15.55s/it]"
     ]
    },
    {
     "name": "stdout",
     "output_type": "stream",
     "text": [
      "Time to: Calculate Ground State - 0.96s, Get Pauli Ops - 4.11s, Calculate Pauli Expectation Values - 10.09s, Calculate Covariance - 2.07s\n",
      "f0,f1,f2 = [1.5150629622415287e-09, 1.5150629878707881e-09, 1.5150629502107038e-09]\n",
      "d01,d02,d12 = [1.0391151592795915, 1.039115156473793, 1.0391151583840672]\n"
     ]
    },
    {
     "name": "stderr",
     "output_type": "stream",
     "text": [
      "/cluster/home/mskrabulis/miniconda3/envs/quantech/lib/python3.9/site-packages/pyscf/symm/Dmatrix.py:156: RuntimeWarning: invalid value encountered in arccos\n",
      "  gamma = numpy.arccos(yp.dot(c2[1]))\n",
      "/cluster/home/mskrabulis/miniconda3/envs/quantech/lib/python3.9/site-packages/pyscf/symm/Dmatrix.py:156: RuntimeWarning: invalid value encountered in arccos\n",
      "  gamma = numpy.arccos(yp.dot(c2[1]))\n",
      "Progress:  43%|████▎     | 426/1000 [1:46:45<2:30:21, 15.72s/it]"
     ]
    },
    {
     "name": "stdout",
     "output_type": "stream",
     "text": [
      "Time to: Calculate Ground State - 1.34s, Get Pauli Ops - 4.43s, Calculate Pauli Expectation Values - 8.21s, Calculate Covariance - 2.12s\n",
      "f0,f1,f2 = [2.4453662139898987e-09, 2.4453662384809833e-09, 2.4453662024844897e-09]\n",
      "d01,d02,d12 = [1.0571017996084353, 1.0571017968122824, 1.0571017987160296]\n"
     ]
    },
    {
     "name": "stderr",
     "output_type": "stream",
     "text": [
      "Progress:  43%|████▎     | 427/1000 [1:46:59<2:24:33, 15.14s/it]"
     ]
    },
    {
     "name": "stdout",
     "output_type": "stream",
     "text": [
      "Time to: Calculate Ground State - 1.19s, Get Pauli Ops - 4.13s, Calculate Pauli Expectation Values - 6.41s, Calculate Covariance - 2.04s\n",
      "f0,f1,f2 = [2.1420545104472095e-09, 2.1420545330344846e-09, 2.1420544998762218e-09]\n",
      "d01,d02,d12 = [1.0715761334981375, 1.07157613070253, 1.0715761326059465]\n"
     ]
    },
    {
     "name": "stderr",
     "output_type": "stream",
     "text": [
      "Progress:  43%|████▎     | 428/1000 [1:47:13<2:21:35, 14.85s/it]"
     ]
    },
    {
     "name": "stdout",
     "output_type": "stream",
     "text": [
      "Time to: Calculate Ground State - 1.15s, Get Pauli Ops - 4.46s, Calculate Pauli Expectation Values - 6.63s, Calculate Covariance - 1.95s\n",
      "f0,f1,f2 = [2.022154566865621e-09, 2.022154585437705e-09, 2.022154558183997e-09]\n",
      "d01,d02,d12 = [1.0827483371699997, 1.0827483343927107, 1.0827483362836934]\n"
     ]
    },
    {
     "name": "stderr",
     "output_type": "stream",
     "text": [
      "/cluster/home/mskrabulis/miniconda3/envs/quantech/lib/python3.9/site-packages/pyscf/symm/Dmatrix.py:156: RuntimeWarning: invalid value encountered in arccos\n",
      "  gamma = numpy.arccos(yp.dot(c2[1]))\n",
      "Progress:  43%|████▎     | 429/1000 [1:47:27<2:19:03, 14.61s/it]"
     ]
    },
    {
     "name": "stdout",
     "output_type": "stream",
     "text": [
      "Time to: Calculate Ground State - 1.11s, Get Pauli Ops - 4.66s, Calculate Pauli Expectation Values - 6.2s, Calculate Covariance - 2.07s\n",
      "f0,f1,f2 = [3.485855500784416e-09, 3.485855519669324e-09, 3.4858554919238213e-09]\n",
      "d01,d02,d12 = [1.0921404401891746, 1.0921404374630979, 1.092140439319249]\n"
     ]
    },
    {
     "name": "stderr",
     "output_type": "stream",
     "text": [
      "Progress:  43%|████▎     | 430/1000 [1:47:40<2:13:34, 14.06s/it]"
     ]
    },
    {
     "name": "stdout",
     "output_type": "stream",
     "text": [
      "Time to: Calculate Ground State - 1.02s, Get Pauli Ops - 4.02s, Calculate Pauli Expectation Values - 5.72s, Calculate Covariance - 2.02s\n",
      "f0,f1,f2 = [3.3414352994621624e-09, 3.3414353202887773e-09, 3.3414352897072185e-09]\n",
      "d01,d02,d12 = [1.0998395556681586, 1.0998395529989107, 1.099839554816408]\n"
     ]
    },
    {
     "name": "stderr",
     "output_type": "stream",
     "text": [
      "/cluster/home/mskrabulis/miniconda3/envs/quantech/lib/python3.9/site-packages/pyscf/symm/Dmatrix.py:156: RuntimeWarning: invalid value encountered in arccos\n",
      "  gamma = numpy.arccos(yp.dot(c2[1]))\n",
      "Progress:  43%|████▎     | 431/1000 [1:47:56<2:20:25, 14.81s/it]"
     ]
    },
    {
     "name": "stdout",
     "output_type": "stream",
     "text": [
      "Time to: Calculate Ground State - 0.95s, Get Pauli Ops - 4.74s, Calculate Pauli Expectation Values - 8.77s, Calculate Covariance - 2.07s\n",
      "f0,f1,f2 = [4.1774175791056046e-09, 4.177417598731854e-09, 4.177417569905421e-09]\n",
      "d01,d02,d12 = [1.1040094626113923, 1.1040094600197095, 1.104009461784437]\n"
     ]
    },
    {
     "name": "stderr",
     "output_type": "stream",
     "text": [
      "Progress:  43%|████▎     | 432/1000 [1:48:10<2:16:15, 14.39s/it]"
     ]
    },
    {
     "name": "stdout",
     "output_type": "stream",
     "text": [
      "Time to: Calculate Ground State - 1.02s, Get Pauli Ops - 4.95s, Calculate Pauli Expectation Values - 5.97s, Calculate Covariance - 1.48s\n",
      "f0,f1,f2 = [3.842499454167473e-09, 3.842499472275335e-09, 3.842499445699192e-09]\n",
      "d01,d02,d12 = [1.1064321861845254, 1.1064321836833442, 1.1064321853864894]\n"
     ]
    },
    {
     "name": "stderr",
     "output_type": "stream",
     "text": [
      "Progress:  43%|████▎     | 433/1000 [1:48:24<2:15:20, 14.32s/it]"
     ]
    },
    {
     "name": "stdout",
     "output_type": "stream",
     "text": [
      "Time to: Calculate Ground State - 0.92s, Get Pauli Ops - 4.8s, Calculate Pauli Expectation Values - 6.59s, Calculate Covariance - 1.83s\n",
      "f0,f1,f2 = [4.139834073109693e-09, 4.1398340880743496e-09, 4.139834066072413e-09]\n",
      "d01,d02,d12 = [1.1071223172087001, 1.1071223148075253, 1.1071223164426172]\n"
     ]
    },
    {
     "name": "stderr",
     "output_type": "stream",
     "text": [
      "Progress:  43%|████▎     | 434/1000 [1:48:38<2:14:27, 14.25s/it]"
     ]
    },
    {
     "name": "stdout",
     "output_type": "stream",
     "text": [
      "Time to: Calculate Ground State - 0.94s, Get Pauli Ops - 4.37s, Calculate Pauli Expectation Values - 6.77s, Calculate Covariance - 2.0s\n",
      "f0,f1,f2 = [3.2278568004736683e-09, 3.2278568173916534e-09, 3.227856792551524e-09]\n",
      "d01,d02,d12 = [1.1064754949942226, 1.1064754927020957, 1.1064754942629769]\n"
     ]
    },
    {
     "name": "stderr",
     "output_type": "stream",
     "text": [
      "Progress:  44%|████▎     | 435/1000 [1:48:52<2:12:24, 14.06s/it]"
     ]
    },
    {
     "name": "stdout",
     "output_type": "stream",
     "text": [
      "Time to: Calculate Ground State - 1.0s, Get Pauli Ops - 4.56s, Calculate Pauli Expectation Values - 6.04s, Calculate Covariance - 2.0s\n",
      "f0,f1,f2 = [3.7937095403515684e-09, 3.793709554860794e-09, 3.793709533556168e-09]\n",
      "d01,d02,d12 = [1.1042501093010852, 1.1042501071272546, 1.1042501086076286]\n"
     ]
    },
    {
     "name": "stderr",
     "output_type": "stream",
     "text": [
      "/cluster/home/mskrabulis/miniconda3/envs/quantech/lib/python3.9/site-packages/pyscf/symm/Dmatrix.py:156: RuntimeWarning: invalid value encountered in arccos\n",
      "  gamma = numpy.arccos(yp.dot(c2[1]))\n",
      "/cluster/home/mskrabulis/miniconda3/envs/quantech/lib/python3.9/site-packages/pyscf/symm/Dmatrix.py:156: RuntimeWarning: invalid value encountered in arccos\n",
      "  gamma = numpy.arccos(yp.dot(c2[1]))\n",
      "Progress:  44%|████▎     | 436/1000 [1:49:07<2:15:18, 14.40s/it]"
     ]
    },
    {
     "name": "stdout",
     "output_type": "stream",
     "text": [
      "Time to: Calculate Ground State - 1.29s, Get Pauli Ops - 5.02s, Calculate Pauli Expectation Values - 7.02s, Calculate Covariance - 1.85s\n",
      "f0,f1,f2 = [3.3001734663440314e-09, 3.30017348030451e-09, 3.300173459817685e-09]\n",
      "d01,d02,d12 = [1.1008578782283505, 1.1008578761801766, 1.100857877575028]\n"
     ]
    },
    {
     "name": "stderr",
     "output_type": "stream",
     "text": [
      "/cluster/home/mskrabulis/miniconda3/envs/quantech/lib/python3.9/site-packages/pyscf/symm/Dmatrix.py:156: RuntimeWarning: invalid value encountered in arccos\n",
      "  gamma = numpy.arccos(yp.dot(c2[1]))\n",
      "Progress:  44%|████▎     | 437/1000 [1:49:25<2:27:07, 15.68s/it]"
     ]
    },
    {
     "name": "stdout",
     "output_type": "stream",
     "text": [
      "Time to: Calculate Ground State - 1.22s, Get Pauli Ops - 4.73s, Calculate Pauli Expectation Values - 10.46s, Calculate Covariance - 2.27s\n",
      "f0,f1,f2 = [3.989424093045835e-09, 3.989424104973265e-09, 3.9894240874622304e-09]\n",
      "d01,d02,d12 = [1.0958914124017185, 1.0958914104870507, 1.0958914117910366]\n"
     ]
    },
    {
     "name": "stderr",
     "output_type": "stream",
     "text": [
      "/cluster/home/mskrabulis/miniconda3/envs/quantech/lib/python3.9/site-packages/pyscf/symm/Dmatrix.py:156: RuntimeWarning: invalid value encountered in arccos\n",
      "  gamma = numpy.arccos(yp.dot(c2[1]))\n",
      "Progress:  44%|████▍     | 438/1000 [1:49:42<2:30:56, 16.11s/it]"
     ]
    },
    {
     "name": "stdout",
     "output_type": "stream",
     "text": [
      "Time to: Calculate Ground State - 1.08s, Get Pauli Ops - 5.09s, Calculate Pauli Expectation Values - 8.56s, Calculate Covariance - 2.39s\n",
      "f0,f1,f2 = [3.1050481488636304e-09, 3.1050481603889405e-09, 3.1050481434492717e-09]\n",
      "d01,d02,d12 = [1.0889977665356234, 1.0889977647633364, 1.088997765970419]\n"
     ]
    },
    {
     "name": "stderr",
     "output_type": "stream",
     "text": [
      "Progress:  44%|████▍     | 439/1000 [1:49:56<2:24:06, 15.41s/it]"
     ]
    },
    {
     "name": "stdout",
     "output_type": "stream",
     "text": [
      "Time to: Calculate Ground State - 1.34s, Get Pauli Ops - 4.8s, Calculate Pauli Expectation Values - 6.07s, Calculate Covariance - 1.56s\n",
      "f0,f1,f2 = [2.9584648477147428e-09, 2.9584648595984992e-09, 2.9584648421605e-09]\n",
      "d01,d02,d12 = [1.0810616764726597, 1.081061674855311, 1.0810616759569294]\n"
     ]
    },
    {
     "name": "stderr",
     "output_type": "stream",
     "text": [
      "/cluster/home/mskrabulis/miniconda3/envs/quantech/lib/python3.9/site-packages/pyscf/symm/Dmatrix.py:156: RuntimeWarning: invalid value encountered in arccos\n",
      "  gamma = numpy.arccos(yp.dot(c2[1]))\n",
      "Progress:  44%|████▍     | 440/1000 [1:50:14<2:29:44, 16.04s/it]"
     ]
    },
    {
     "name": "stdout",
     "output_type": "stream",
     "text": [
      "Time to: Calculate Ground State - 1.22s, Get Pauli Ops - 4.69s, Calculate Pauli Expectation Values - 9.4s, Calculate Covariance - 2.2s\n",
      "f0,f1,f2 = [2.3117187934391375e-09, 2.311718804729376e-09, 2.311718788161363e-09]\n",
      "d01,d02,d12 = [1.0724216928089705, 1.0724216913525104, 1.0724216923446088]\n"
     ]
    },
    {
     "name": "stderr",
     "output_type": "stream",
     "text": [
      "Progress:  44%|████▍     | 441/1000 [1:50:30<2:28:44, 15.97s/it]"
     ]
    },
    {
     "name": "stdout",
     "output_type": "stream",
     "text": [
      "Time to: Calculate Ground State - 1.31s, Get Pauli Ops - 4.53s, Calculate Pauli Expectation Values - 8.13s, Calculate Covariance - 1.81s\n",
      "f0,f1,f2 = [2.704686493706955e-09, 2.7046865040091056e-09, 2.7046864888778033e-09]\n",
      "d01,d02,d12 = [1.0611919294811298, 1.0611919281912918, 1.0611919290699716]\n"
     ]
    },
    {
     "name": "stderr",
     "output_type": "stream",
     "text": [
      "Progress:  44%|████▍     | 442/1000 [1:50:44<2:23:24, 15.42s/it]"
     ]
    },
    {
     "name": "stdout",
     "output_type": "stream",
     "text": [
      "Time to: Calculate Ground State - 1.0s, Get Pauli Ops - 4.92s, Calculate Pauli Expectation Values - 6.28s, Calculate Covariance - 1.95s\n",
      "f0,f1,f2 = [1.7362767542174117e-09, 1.7362767638630865e-09, 1.736276749687281e-09]\n",
      "d01,d02,d12 = [1.0490003558721444, 1.0490003547633557, 1.0490003555187923]\n"
     ]
    },
    {
     "name": "stderr",
     "output_type": "stream",
     "text": [
      "Progress:  44%|████▍     | 443/1000 [1:50:59<2:22:30, 15.35s/it]"
     ]
    },
    {
     "name": "stdout",
     "output_type": "stream",
     "text": [
      "Time to: Calculate Ground State - 1.14s, Get Pauli Ops - 4.34s, Calculate Pauli Expectation Values - 7.36s, Calculate Covariance - 2.34s\n",
      "f0,f1,f2 = [2.0576063186851927e-09, 2.0576063275679565e-09, 2.057606314513535e-09]\n",
      "d01,d02,d12 = [1.0357341971700993, 1.0357341962479198, 1.0357341968763372]\n"
     ]
    },
    {
     "name": "stderr",
     "output_type": "stream",
     "text": [
      "/cluster/home/mskrabulis/miniconda3/envs/quantech/lib/python3.9/site-packages/pyscf/symm/Dmatrix.py:156: RuntimeWarning: invalid value encountered in arccos\n",
      "  gamma = numpy.arccos(yp.dot(c2[1]))\n",
      "Progress:  44%|████▍     | 444/1000 [1:51:16<2:27:38, 15.93s/it]"
     ]
    },
    {
     "name": "stdout",
     "output_type": "stream",
     "text": [
      "Time to: Calculate Ground State - 1.07s, Get Pauli Ops - 4.98s, Calculate Pauli Expectation Values - 8.98s, Calculate Covariance - 2.26s\n",
      "f0,f1,f2 = [2.1420904133467723e-09, 2.1420904209239113e-09, 2.142090409798441e-09]\n",
      "d01,d02,d12 = [1.0227182343812453, 1.02271823364669, 1.0227182341473924]\n"
     ]
    },
    {
     "name": "stderr",
     "output_type": "stream",
     "text": [
      "Progress:  44%|████▍     | 445/1000 [1:51:31<2:23:36, 15.53s/it]"
     ]
    },
    {
     "name": "stdout",
     "output_type": "stream",
     "text": [
      "Time to: Calculate Ground State - 1.04s, Get Pauli Ops - 5.18s, Calculate Pauli Expectation Values - 6.12s, Calculate Covariance - 2.22s\n",
      "f0,f1,f2 = [1.8213058370910108e-09, 1.821305844130362e-09, 1.8213058338018435e-09]\n",
      "d01,d02,d12 = [1.0100697853943978, 1.010069784845287, 1.0100697852197587]\n"
     ]
    },
    {
     "name": "stderr",
     "output_type": "stream",
     "text": [
      "Progress:  45%|████▍     | 446/1000 [1:51:45<2:19:31, 15.11s/it]"
     ]
    },
    {
     "name": "stdout",
     "output_type": "stream",
     "text": [
      "Time to: Calculate Ground State - 1.29s, Get Pauli Ops - 5.05s, Calculate Pauli Expectation Values - 5.78s, Calculate Covariance - 2.02s\n",
      "f0,f1,f2 = [8.658035962469965e-10, 8.658036018916072e-10, 8.658035936372961e-10]\n",
      "d01,d02,d12 = [0.9959777108688892, 0.9959777105097262, 0.9959777107549003]\n"
     ]
    },
    {
     "name": "stderr",
     "output_type": "stream",
     "text": [
      "Progress:  45%|████▍     | 447/1000 [1:52:00<2:18:55, 15.07s/it]"
     ]
    },
    {
     "name": "stdout",
     "output_type": "stream",
     "text": [
      "Time to: Calculate Ground State - 1.28s, Get Pauli Ops - 4.86s, Calculate Pauli Expectation Values - 7.1s, Calculate Covariance - 1.73s\n",
      "f0,f1,f2 = [1.1136017433344294e-09, 1.1136017470740236e-09, 1.1136017415958895e-09]\n",
      "d01,d02,d12 = [0.9818667410718982, 0.9818667409067178, 0.9818667410198433]\n"
     ]
    },
    {
     "name": "stderr",
     "output_type": "stream",
     "text": [
      "/cluster/home/mskrabulis/miniconda3/envs/quantech/lib/python3.9/site-packages/pyscf/symm/Dmatrix.py:156: RuntimeWarning: invalid value encountered in arccos\n",
      "  gamma = numpy.arccos(yp.dot(c2[1]))\n",
      "Progress:  45%|████▍     | 448/1000 [1:52:13<2:14:36, 14.63s/it]"
     ]
    },
    {
     "name": "stdout",
     "output_type": "stream",
     "text": [
      "Time to: Calculate Ground State - 1.06s, Get Pauli Ops - 5.05s, Calculate Pauli Expectation Values - 5.74s, Calculate Covariance - 1.74s\n",
      "f0,f1,f2 = [4.264518125311423e-11, 4.2645183063265294e-11, 4.264518040833918e-11]\n",
      "d01,d02,d12 = [0.9675760695259199, 0.9675760695568684, 0.9675760695364733]\n"
     ]
    },
    {
     "name": "stderr",
     "output_type": "stream",
     "text": [
      "Progress:  45%|████▍     | 449/1000 [1:52:28<2:14:37, 14.66s/it]"
     ]
    },
    {
     "name": "stdout",
     "output_type": "stream",
     "text": [
      "Time to: Calculate Ground State - 1.3s, Get Pauli Ops - 4.63s, Calculate Pauli Expectation Values - 6.93s, Calculate Covariance - 1.86s\n",
      "f0,f1,f2 = [7.139111744217851e-10, 7.139111747713823e-10, 7.139111742339238e-10]\n",
      "d01,d02,d12 = [0.954734563851253, 0.9547345640784626, 0.9547345639244506]\n"
     ]
    },
    {
     "name": "stderr",
     "output_type": "stream",
     "text": [
      "Progress:  45%|████▌     | 450/1000 [1:52:47<2:25:37, 15.89s/it]"
     ]
    },
    {
     "name": "stdout",
     "output_type": "stream",
     "text": [
      "Time to: Calculate Ground State - 1.2s, Get Pauli Ops - 4.34s, Calculate Pauli Expectation Values - 10.88s, Calculate Covariance - 2.33s\n",
      "f0,f1,f2 = [1.0606217336573897e-09, 1.0606217365073412e-09, 1.0606217323137202e-09]\n",
      "d01,d02,d12 = [0.9411819629241596, 0.941181963344158, 0.941181963058876]\n"
     ]
    },
    {
     "name": "stderr",
     "output_type": "stream",
     "text": [
      "Progress:  45%|████▌     | 451/1000 [1:53:02<2:22:22, 15.56s/it]"
     ]
    },
    {
     "name": "stdout",
     "output_type": "stream",
     "text": [
      "Time to: Calculate Ground State - 1.02s, Get Pauli Ops - 5.1s, Calculate Pauli Expectation Values - 6.47s, Calculate Covariance - 2.19s\n",
      "f0,f1,f2 = [1.89024374311923e-09, 1.8902437490144667e-09, 1.890243740349179e-09]\n",
      "d01,d02,d12 = [0.9291401096774698, 0.9291401102872422, 0.9291401098727448]\n"
     ]
    },
    {
     "name": "stderr",
     "output_type": "stream",
     "text": [
      "/cluster/home/mskrabulis/miniconda3/envs/quantech/lib/python3.9/site-packages/pyscf/symm/Dmatrix.py:156: RuntimeWarning: invalid value encountered in arccos\n",
      "  gamma = numpy.arccos(yp.dot(c2[1]))\n",
      "Progress:  45%|████▌     | 452/1000 [1:53:20<2:28:34, 16.27s/it]"
     ]
    },
    {
     "name": "stdout",
     "output_type": "stream",
     "text": [
      "Time to: Calculate Ground State - 1.16s, Get Pauli Ops - 8.54s, Calculate Pauli Expectation Values - 5.95s, Calculate Covariance - 2.25s\n",
      "f0,f1,f2 = [2.5895514332457425e-09, 2.5895514428260706e-09, 2.5895514287235135e-09]\n",
      "d01,d02,d12 = [0.9190030354845076, 0.9190030362788604, 0.9190030357386746]\n"
     ]
    },
    {
     "name": "stderr",
     "output_type": "stream",
     "text": [
      "Progress:  45%|████▌     | 453/1000 [1:53:34<2:23:18, 15.72s/it]"
     ]
    },
    {
     "name": "stdout",
     "output_type": "stream",
     "text": [
      "Time to: Calculate Ground State - 1.33s, Get Pauli Ops - 4.81s, Calculate Pauli Expectation Values - 6.48s, Calculate Covariance - 1.82s\n",
      "f0,f1,f2 = [2.6177166311802048e-09, 2.617716643159379e-09, 2.6177166255369433e-09]\n",
      "d01,d02,d12 = [0.9099327901528458, 0.9099327911236877, 0.909932790463315]\n"
     ]
    },
    {
     "name": "stderr",
     "output_type": "stream",
     "text": [
      "Progress:  45%|████▌     | 454/1000 [1:53:51<2:27:12, 16.18s/it]"
     ]
    },
    {
     "name": "stdout",
     "output_type": "stream",
     "text": [
      "Time to: Calculate Ground State - 0.99s, Get Pauli Ops - 7.68s, Calculate Pauli Expectation Values - 6.39s, Calculate Covariance - 2.18s\n",
      "f0,f1,f2 = [3.0440259871216815e-09, 3.0440260023825563e-09, 3.044025979945816e-09]\n",
      "d01,d02,d12 = [0.9014185480079745, 0.9014185491438416, 0.9014185483710793]\n"
     ]
    },
    {
     "name": "stderr",
     "output_type": "stream",
     "text": [
      "Progress:  46%|████▌     | 455/1000 [1:54:05<2:20:01, 15.42s/it]"
     ]
    },
    {
     "name": "stdout",
     "output_type": "stream",
     "text": [
      "Time to: Calculate Ground State - 1.04s, Get Pauli Ops - 4.3s, Calculate Pauli Expectation Values - 6.16s, Calculate Covariance - 2.14s\n",
      "f0,f1,f2 = [4.6349355293153925e-09, 4.634935547265128e-09, 4.634935520892792e-09]\n",
      "d01,d02,d12 = [0.8956951341555264, 0.8956951354366448, 0.895695134564946]\n"
     ]
    },
    {
     "name": "stderr",
     "output_type": "stream",
     "text": [
      "/cluster/home/mskrabulis/miniconda3/envs/quantech/lib/python3.9/site-packages/pyscf/symm/Dmatrix.py:156: RuntimeWarning: invalid value encountered in arccos\n",
      "  gamma = numpy.arccos(yp.dot(c2[1]))\n",
      "Progress:  46%|████▌     | 456/1000 [1:54:20<2:18:40, 15.30s/it]"
     ]
    },
    {
     "name": "stdout",
     "output_type": "stream",
     "text": [
      "Time to: Calculate Ground State - 0.96s, Get Pauli Ops - 5.91s, Calculate Pauli Expectation Values - 6.27s, Calculate Covariance - 1.86s\n",
      "f0,f1,f2 = [4.301989495308653e-09, 4.301989518547986e-09, 4.301989484382369e-09]\n",
      "d01,d02,d12 = [0.891865903561107, 0.8918659049775122, 0.8918659040136558]\n"
     ]
    },
    {
     "name": "stderr",
     "output_type": "stream",
     "text": [
      "Progress:  46%|████▌     | 457/1000 [1:54:34<2:13:35, 14.76s/it]"
     ]
    },
    {
     "name": "stdout",
     "output_type": "stream",
     "text": [
      "Time to: Calculate Ground State - 1.35s, Get Pauli Ops - 4.83s, Calculate Pauli Expectation Values - 5.79s, Calculate Covariance - 1.53s\n",
      "f0,f1,f2 = [5.48756265349669e-09, 5.487562678263732e-09, 5.487562641859566e-09]\n",
      "d01,d02,d12 = [0.8904094102403861, 0.8904094117786123, 0.8904094107317593]\n"
     ]
    },
    {
     "name": "stderr",
     "output_type": "stream",
     "text": [
      "Progress:  46%|████▌     | 458/1000 [1:54:47<2:11:07, 14.52s/it]"
     ]
    },
    {
     "name": "stdout",
     "output_type": "stream",
     "text": [
      "Time to: Calculate Ground State - 0.99s, Get Pauli Ops - 4.93s, Calculate Pauli Expectation Values - 5.83s, Calculate Covariance - 2.18s\n",
      "f0,f1,f2 = [6.003717696269279e-09, 6.003717724878903e-09, 6.003717682858883e-09]\n",
      "d01,d02,d12 = [0.8914242165555366, 0.8914242181986627, 0.891424217080329]\n"
     ]
    },
    {
     "name": "stderr",
     "output_type": "stream",
     "text": [
      "/cluster/home/mskrabulis/miniconda3/envs/quantech/lib/python3.9/site-packages/pyscf/symm/Dmatrix.py:156: RuntimeWarning: invalid value encountered in arccos\n",
      "  gamma = numpy.arccos(yp.dot(c2[1]))\n",
      "Progress:  46%|████▌     | 459/1000 [1:55:05<2:17:39, 15.27s/it]"
     ]
    },
    {
     "name": "stdout",
     "output_type": "stream",
     "text": [
      "Time to: Calculate Ground State - 0.97s, Get Pauli Ops - 8.2s, Calculate Pauli Expectation Values - 5.91s, Calculate Covariance - 1.93s\n",
      "f0,f1,f2 = [4.708705776639157e-09, 4.708705806828105e-09, 4.708705762457292e-09]\n",
      "d01,d02,d12 = [0.8943635954013087, 0.8943635971301298, 0.8943635959533839]\n"
     ]
    },
    {
     "name": "stderr",
     "output_type": "stream",
     "text": [
      "Progress:  46%|████▌     | 460/1000 [1:55:20<2:19:14, 15.47s/it]"
     ]
    },
    {
     "name": "stdout",
     "output_type": "stream",
     "text": [
      "Time to: Calculate Ground State - 1.38s, Get Pauli Ops - 6.13s, Calculate Pauli Expectation Values - 6.06s, Calculate Covariance - 2.37s\n",
      "f0,f1,f2 = [5.829497626097708e-09, 5.829497655297087e-09, 5.829497612408457e-09]\n",
      "d01,d02,d12 = [0.8994895666453961, 0.8994895684430705, 0.8994895672193749]\n"
     ]
    },
    {
     "name": "stderr",
     "output_type": "stream",
     "text": [
      "Progress:  46%|████▌     | 461/1000 [1:55:35<2:17:19, 15.29s/it]"
     ]
    },
    {
     "name": "stdout",
     "output_type": "stream",
     "text": [
      "Time to: Calculate Ground State - 1.06s, Get Pauli Ops - 5.3s, Calculate Pauli Expectation Values - 6.56s, Calculate Covariance - 1.93s\n",
      "f0,f1,f2 = [5.227747043821307e-09, 5.227747074102427e-09, 5.227747029613494e-09]\n",
      "d01,d02,d12 = [0.9069459331949294, 0.9069459350423711, 0.9069459337847161]\n"
     ]
    },
    {
     "name": "stderr",
     "output_type": "stream",
     "text": [
      "/cluster/home/mskrabulis/miniconda3/envs/quantech/lib/python3.9/site-packages/pyscf/symm/Dmatrix.py:156: RuntimeWarning: invalid value encountered in arccos\n",
      "  gamma = numpy.arccos(yp.dot(c2[1]))\n",
      "Progress:  46%|████▌     | 462/1000 [1:55:53<2:23:30, 16.00s/it]"
     ]
    },
    {
     "name": "stdout",
     "output_type": "stream",
     "text": [
      "Time to: Calculate Ground State - 1.34s, Get Pauli Ops - 8.06s, Calculate Pauli Expectation Values - 6.03s, Calculate Covariance - 2.23s\n",
      "f0,f1,f2 = [3.688124363268479e-09, 3.688124392829637e-09, 3.6881243493926493e-09]\n",
      "d01,d02,d12 = [0.9156880999049908, 0.9156881017881885, 0.9156881005061054]\n"
     ]
    },
    {
     "name": "stderr",
     "output_type": "stream",
     "text": [
      "/cluster/home/mskrabulis/miniconda3/envs/quantech/lib/python3.9/site-packages/pyscf/symm/Dmatrix.py:156: RuntimeWarning: invalid value encountered in arccos\n",
      "  gamma = numpy.arccos(yp.dot(c2[1]))\n",
      "Progress:  46%|████▋     | 463/1000 [1:56:07<2:17:16, 15.34s/it]"
     ]
    },
    {
     "name": "stdout",
     "output_type": "stream",
     "text": [
      "Time to: Calculate Ground State - 1.35s, Get Pauli Ops - 4.73s, Calculate Pauli Expectation Values - 6.01s, Calculate Covariance - 1.68s\n",
      "f0,f1,f2 = [3.737261848682586e-09, 3.7372618800864e-09, 3.737261833989861e-09]\n",
      "d01,d02,d12 = [0.9260331249658116, 0.9260331268648455, 0.9260331255719083]\n"
     ]
    },
    {
     "name": "stderr",
     "output_type": "stream",
     "text": [
      "/cluster/home/mskrabulis/miniconda3/envs/quantech/lib/python3.9/site-packages/pyscf/symm/Dmatrix.py:156: RuntimeWarning: invalid value encountered in arccos\n",
      "  gamma = numpy.arccos(yp.dot(c2[1]))\n",
      "Progress:  46%|████▋     | 464/1000 [1:56:22<2:17:38, 15.41s/it]"
     ]
    },
    {
     "name": "stdout",
     "output_type": "stream",
     "text": [
      "Time to: Calculate Ground State - 1.23s, Get Pauli Ops - 6.45s, Calculate Pauli Expectation Values - 5.74s, Calculate Covariance - 2.14s\n",
      "f0,f1,f2 = [2.7079777982203657e-09, 2.707977824534514e-09, 2.7079777858967663e-09]\n",
      "d01,d02,d12 = [0.9374432843632745, 0.9374432862535562, 0.9374432849665073]\n"
     ]
    },
    {
     "name": "stderr",
     "output_type": "stream",
     "text": [
      "Progress:  46%|████▋     | 465/1000 [1:56:39<2:19:27, 15.64s/it]"
     ]
    },
    {
     "name": "stdout",
     "output_type": "stream",
     "text": [
      "Time to: Calculate Ground State - 0.81s, Get Pauli Ops - 4.35s, Calculate Pauli Expectation Values - 8.8s, Calculate Covariance - 2.22s\n",
      "f0,f1,f2 = [3.1338709488574956e-09, 3.1338709746976952e-09, 3.133870936740429e-09]\n",
      "d01,d02,d12 = [0.9482100607467734, 0.948210062603565, 0.9482100613392479]\n"
     ]
    },
    {
     "name": "stderr",
     "output_type": "stream",
     "text": [
      "/cluster/home/mskrabulis/miniconda3/envs/quantech/lib/python3.9/site-packages/pyscf/symm/Dmatrix.py:156: RuntimeWarning: invalid value encountered in arccos\n",
      "  gamma = numpy.arccos(yp.dot(c2[1]))\n",
      "Progress:  47%|████▋     | 466/1000 [1:56:52<2:14:09, 15.07s/it]"
     ]
    },
    {
     "name": "stdout",
     "output_type": "stream",
     "text": [
      "Time to: Calculate Ground State - 0.81s, Get Pauli Ops - 4.38s, Calculate Pauli Expectation Values - 6.51s, Calculate Covariance - 2.05s\n",
      "f0,f1,f2 = [1.7139041129670143e-09, 1.7139041361874688e-09, 1.7139041020736307e-09]\n",
      "d01,d02,d12 = [0.9605335584702086, 0.960533560278263, 0.9605335590470595]\n"
     ]
    },
    {
     "name": "stderr",
     "output_type": "stream",
     "text": [
      "Progress:  47%|████▋     | 467/1000 [1:57:06<2:10:43, 14.72s/it]"
     ]
    },
    {
     "name": "stdout",
     "output_type": "stream",
     "text": [
      "Time to: Calculate Ground State - 1.04s, Get Pauli Ops - 4.67s, Calculate Pauli Expectation Values - 6.05s, Calculate Covariance - 2.11s\n",
      "f0,f1,f2 = [1.4859572842710484e-09, 1.4859573079200648e-09, 1.485957273197101e-09]\n",
      "d01,d02,d12 = [0.9726601839298569, 0.9726601856821134, 0.9726601844888312]\n"
     ]
    },
    {
     "name": "stderr",
     "output_type": "stream",
     "text": [
      "/cluster/home/mskrabulis/miniconda3/envs/quantech/lib/python3.9/site-packages/pyscf/symm/Dmatrix.py:156: RuntimeWarning: invalid value encountered in arccos\n",
      "  gamma = numpy.arccos(yp.dot(c2[1]))\n",
      "Progress:  47%|████▋     | 468/1000 [1:57:20<2:08:31, 14.49s/it]"
     ]
    },
    {
     "name": "stdout",
     "output_type": "stream",
     "text": [
      "Time to: Calculate Ground State - 0.96s, Get Pauli Ops - 4.56s, Calculate Pauli Expectation Values - 6.28s, Calculate Covariance - 2.18s\n",
      "f0,f1,f2 = [3.043352024523922e-10, 3.0433522213782633e-10, 3.0433519324149907e-10]\n",
      "d01,d02,d12 = [0.983208696261153, 0.9832086979348547, 0.9832086967949899]\n"
     ]
    },
    {
     "name": "stderr",
     "output_type": "stream",
     "text": [
      "Progress:  47%|████▋     | 469/1000 [1:57:33<2:04:34, 14.08s/it]"
     ]
    },
    {
     "name": "stdout",
     "output_type": "stream",
     "text": [
      "Time to: Calculate Ground State - 0.81s, Get Pauli Ops - 4.74s, Calculate Pauli Expectation Values - 5.55s, Calculate Covariance - 2.0s\n",
      "f0,f1,f2 = [8.597405792127398e-10, 8.597405618681945e-10, 8.597405873432347e-10]\n",
      "d01,d02,d12 = [0.9928699388642479, 0.9928699404314668, 0.9928699393640327]\n"
     ]
    },
    {
     "name": "stderr",
     "output_type": "stream",
     "text": [
      "/cluster/home/mskrabulis/miniconda3/envs/quantech/lib/python3.9/site-packages/pyscf/symm/Dmatrix.py:156: RuntimeWarning: invalid value encountered in arccos\n",
      "  gamma = numpy.arccos(yp.dot(c2[1]))\n",
      "Progress:  47%|████▋     | 470/1000 [1:57:46<2:01:57, 13.81s/it]"
     ]
    },
    {
     "name": "stdout",
     "output_type": "stream",
     "text": [
      "Time to: Calculate Ground State - 1.28s, Get Pauli Ops - 4.12s, Calculate Pauli Expectation Values - 5.82s, Calculate Covariance - 1.94s\n",
      "f0,f1,f2 = [7.957066011297042e-12, 7.95708063195931e-12, 7.957059160681126e-12]\n",
      "d01,d02,d12 = [1.0030114876560225, 1.0030114891146944, 1.0030114881210883]\n"
     ]
    },
    {
     "name": "stderr",
     "output_type": "stream",
     "text": [
      "/cluster/home/mskrabulis/miniconda3/envs/quantech/lib/python3.9/site-packages/pyscf/symm/Dmatrix.py:156: RuntimeWarning: invalid value encountered in arccos\n",
      "  gamma = numpy.arccos(yp.dot(c2[1]))\n",
      "Progress:  47%|████▋     | 471/1000 [1:58:00<2:00:04, 13.62s/it]"
     ]
    },
    {
     "name": "stdout",
     "output_type": "stream",
     "text": [
      "Time to: Calculate Ground State - 0.77s, Get Pauli Ops - 4.05s, Calculate Pauli Expectation Values - 6.18s, Calculate Covariance - 2.16s\n",
      "f0,f1,f2 = [9.751246510974758e-10, 9.751246644020775e-10, 9.75124644880452e-10]\n",
      "d01,d02,d12 = [1.0142771084221889, 1.014277109759297, 1.0142771088483842]\n"
     ]
    },
    {
     "name": "stderr",
     "output_type": "stream",
     "text": [
      "/cluster/home/mskrabulis/miniconda3/envs/quantech/lib/python3.9/site-packages/pyscf/symm/Dmatrix.py:156: RuntimeWarning: invalid value encountered in arccos\n",
      "  gamma = numpy.arccos(yp.dot(c2[1]))\n",
      "Progress:  47%|████▋     | 472/1000 [1:58:16<2:06:07, 14.33s/it]"
     ]
    },
    {
     "name": "stdout",
     "output_type": "stream",
     "text": [
      "Time to: Calculate Ground State - 1.02s, Get Pauli Ops - 4.44s, Calculate Pauli Expectation Values - 8.75s, Calculate Covariance - 1.79s\n",
      "f0,f1,f2 = [7.676467115597336e-10, 7.67646698814303e-10, 7.676467175253745e-10]\n",
      "d01,d02,d12 = [1.0252113602780806, 1.025211361483872, 1.025211360662293]\n"
     ]
    },
    {
     "name": "stderr",
     "output_type": "stream",
     "text": [
      "Progress:  47%|████▋     | 473/1000 [1:58:31<2:08:18, 14.61s/it]"
     ]
    },
    {
     "name": "stdout",
     "output_type": "stream",
     "text": [
      "Time to: Calculate Ground State - 1.36s, Get Pauli Ops - 4.43s, Calculate Pauli Expectation Values - 7.12s, Calculate Covariance - 2.33s\n",
      "f0,f1,f2 = [1.4945029080674415e-09, 1.4945028994780623e-09, 1.494502912070949e-09]\n",
      "d01,d02,d12 = [1.0351117487047663, 1.03511174977724, 1.0351117490463555]\n"
     ]
    },
    {
     "name": "stderr",
     "output_type": "stream",
     "text": [
      "Progress:  47%|████▋     | 474/1000 [1:58:45<2:05:59, 14.37s/it]"
     ]
    },
    {
     "name": "stdout",
     "output_type": "stream",
     "text": [
      "Time to: Calculate Ground State - 1.12s, Get Pauli Ops - 4.82s, Calculate Pauli Expectation Values - 5.96s, Calculate Covariance - 1.92s\n",
      "f0,f1,f2 = [1.4598973078316431e-09, 1.4598972978703921e-09, 1.4598973124962223e-09]\n",
      "d01,d02,d12 = [1.0454189386685415, 1.0454189396033284, 1.0454189389661093]\n"
     ]
    },
    {
     "name": "stderr",
     "output_type": "stream",
     "text": [
      "Progress:  48%|████▊     | 475/1000 [1:59:00<2:08:54, 14.73s/it]"
     ]
    },
    {
     "name": "stdout",
     "output_type": "stream",
     "text": [
      "Time to: Calculate Ground State - 1.01s, Get Pauli Ops - 4.32s, Calculate Pauli Expectation Values - 7.89s, Calculate Covariance - 2.34s\n",
      "f0,f1,f2 = [2.187745552530709e-09, 2.187745544146039e-09, 2.1877455564626966e-09]\n",
      "d01,d02,d12 = [1.0548169871162232, 1.0548169879123608, 1.0548169873694644]\n"
     ]
    },
    {
     "name": "stderr",
     "output_type": "stream",
     "text": [
      "Progress:  48%|████▊     | 476/1000 [1:59:14<2:06:35, 14.49s/it]"
     ]
    },
    {
     "name": "stdout",
     "output_type": "stream",
     "text": [
      "Time to: Calculate Ground State - 1.02s, Get Pauli Ops - 4.62s, Calculate Pauli Expectation Values - 5.99s, Calculate Covariance - 2.31s\n",
      "f0,f1,f2 = [1.5777992802403073e-09, 1.5777992741125386e-09, 1.577799283104477e-09]\n",
      "d01,d02,d12 = [1.0624688739949604, 1.06246887464616, 1.062468874201871]\n"
     ]
    },
    {
     "name": "stderr",
     "output_type": "stream",
     "text": [
      "Progress:  48%|████▊     | 477/1000 [1:59:28<2:04:00, 14.23s/it]"
     ]
    },
    {
     "name": "stdout",
     "output_type": "stream",
     "text": [
      "Time to: Calculate Ground State - 1.31s, Get Pauli Ops - 4.64s, Calculate Pauli Expectation Values - 5.59s, Calculate Covariance - 2.05s\n",
      "f0,f1,f2 = [2.240510919296607e-09, 2.2405109140458536e-09, 2.2405109217270023e-09]\n",
      "d01,d02,d12 = [1.0685571292986835, 1.0685571298025565, 1.068557129458508]\n"
     ]
    },
    {
     "name": "stderr",
     "output_type": "stream",
     "text": [
      "Progress:  48%|████▊     | 478/1000 [1:59:41<2:02:11, 14.04s/it]"
     ]
    },
    {
     "name": "stdout",
     "output_type": "stream",
     "text": [
      "Time to: Calculate Ground State - 1.31s, Get Pauli Ops - 4.5s, Calculate Pauli Expectation Values - 6.07s, Calculate Covariance - 1.73s\n",
      "f0,f1,f2 = [2.4117890656972958e-09, 2.4117890619264325e-09, 2.411789067463409e-09]\n",
      "d01,d02,d12 = [1.0734378127285766, 1.0734378130843054, 1.0734378128410553]\n"
     ]
    },
    {
     "name": "stderr",
     "output_type": "stream",
     "text": [
      "Progress:  48%|████▊     | 479/1000 [2:00:01<2:15:33, 15.61s/it]"
     ]
    },
    {
     "name": "stdout",
     "output_type": "stream",
     "text": [
      "Time to: Calculate Ground State - 1.32s, Get Pauli Ops - 5.73s, Calculate Pauli Expectation Values - 10.28s, Calculate Covariance - 1.93s\n",
      "f0,f1,f2 = [2.8899401042455492e-09, 2.8899401016633006e-09, 2.8899401054606168e-09]\n",
      "d01,d02,d12 = [1.0770453352627465, 1.077045335468861, 1.077045335327411]\n"
     ]
    },
    {
     "name": "stderr",
     "output_type": "stream",
     "text": [
      "/cluster/home/mskrabulis/miniconda3/envs/quantech/lib/python3.9/site-packages/pyscf/symm/Dmatrix.py:156: RuntimeWarning: invalid value encountered in arccos\n",
      "  gamma = numpy.arccos(yp.dot(c2[1]))\n",
      "Progress:  48%|████▊     | 480/1000 [2:00:19<2:22:11, 16.41s/it]"
     ]
    },
    {
     "name": "stdout",
     "output_type": "stream",
     "text": [
      "Time to: Calculate Ground State - 1.04s, Get Pauli Ops - 7.0s, Calculate Pauli Expectation Values - 8.33s, Calculate Covariance - 1.88s\n",
      "f0,f1,f2 = [3.337984676972333e-09, 3.3379846757125e-09, 3.3379846775628896e-09]\n",
      "d01,d02,d12 = [1.0793704363329995, 1.0793704363889045, 1.0793704363496612]\n"
     ]
    },
    {
     "name": "stderr",
     "output_type": "stream",
     "text": [
      "Progress:  48%|████▊     | 481/1000 [2:00:33<2:15:16, 15.64s/it]"
     ]
    },
    {
     "name": "stdout",
     "output_type": "stream",
     "text": [
      "Time to: Calculate Ground State - 1.01s, Get Pauli Ops - 4.59s, Calculate Pauli Expectation Values - 6.41s, Calculate Covariance - 1.83s\n",
      "f0,f1,f2 = [2.811073701864993e-09, 2.811073701522373e-09, 2.811073702019195e-09]\n",
      "d01,d02,d12 = [1.0803777111304282, 1.0803777110359287, 1.0803777110990238]\n"
     ]
    },
    {
     "name": "stderr",
     "output_type": "stream",
     "text": [
      "/cluster/home/mskrabulis/miniconda3/envs/quantech/lib/python3.9/site-packages/pyscf/symm/Dmatrix.py:156: RuntimeWarning: invalid value encountered in arccos\n",
      "  gamma = numpy.arccos(yp.dot(c2[1]))\n",
      "Progress:  48%|████▊     | 482/1000 [2:00:47<2:10:33, 15.12s/it]"
     ]
    },
    {
     "name": "stdout",
     "output_type": "stream",
     "text": [
      "Time to: Calculate Ground State - 1.26s, Get Pauli Ops - 4.87s, Calculate Pauli Expectation Values - 5.82s, Calculate Covariance - 1.96s\n",
      "f0,f1,f2 = [3.313408224479069e-09, 3.3134082249004073e-09, 3.313408224266981e-09]\n",
      "d01,d02,d12 = [1.079929743443288, 1.0799297431986783, 1.079929743363916]\n"
     ]
    },
    {
     "name": "stderr",
     "output_type": "stream",
     "text": [
      "/cluster/home/mskrabulis/miniconda3/envs/quantech/lib/python3.9/site-packages/pyscf/symm/Dmatrix.py:156: RuntimeWarning: invalid value encountered in arccos\n",
      "  gamma = numpy.arccos(yp.dot(c2[1]))\n",
      "/cluster/home/mskrabulis/miniconda3/envs/quantech/lib/python3.9/site-packages/pyscf/symm/Dmatrix.py:156: RuntimeWarning: invalid value encountered in arccos\n",
      "  gamma = numpy.arccos(yp.dot(c2[1]))\n",
      "Progress:  48%|████▊     | 483/1000 [2:01:00<2:05:22, 14.55s/it]"
     ]
    },
    {
     "name": "stdout",
     "output_type": "stream",
     "text": [
      "Time to: Calculate Ground State - 0.94s, Get Pauli Ops - 4.15s, Calculate Pauli Expectation Values - 6.26s, Calculate Covariance - 1.87s\n",
      "f0,f1,f2 = [3.08005032492297e-09, 3.08005032647949e-09, 3.0800503241541988e-09]\n",
      "d01,d02,d12 = [1.078223235816146, 1.078223235422355, 1.0782232356891075]\n"
     ]
    },
    {
     "name": "stderr",
     "output_type": "stream",
     "text": [
      "/cluster/home/mskrabulis/miniconda3/envs/quantech/lib/python3.9/site-packages/pyscf/symm/Dmatrix.py:156: RuntimeWarning: invalid value encountered in arccos\n",
      "  gamma = numpy.arccos(yp.dot(c2[1]))\n",
      "Progress:  48%|████▊     | 484/1000 [2:01:14<2:02:48, 14.28s/it]"
     ]
    },
    {
     "name": "stdout",
     "output_type": "stream",
     "text": [
      "Time to: Calculate Ground State - 1.27s, Get Pauli Ops - 4.63s, Calculate Pauli Expectation Values - 5.96s, Calculate Covariance - 1.78s\n",
      "f0,f1,f2 = [3.917560735199449e-09, 3.9175607379136005e-09, 3.917560733900108e-09]\n",
      "d01,d02,d12 = [1.0750533452727722, 1.0750533447316923, 1.0750533450986774]\n"
     ]
    },
    {
     "name": "stderr",
     "output_type": "stream",
     "text": [
      "/cluster/home/mskrabulis/miniconda3/envs/quantech/lib/python3.9/site-packages/pyscf/symm/Dmatrix.py:156: RuntimeWarning: invalid value encountered in arccos\n",
      "  gamma = numpy.arccos(yp.dot(c2[1]))\n",
      "Progress:  48%|████▊     | 485/1000 [2:01:27<2:00:21, 14.02s/it]"
     ]
    },
    {
     "name": "stdout",
     "output_type": "stream",
     "text": [
      "Time to: Calculate Ground State - 1.25s, Get Pauli Ops - 4.05s, Calculate Pauli Expectation Values - 6.1s, Calculate Covariance - 2.02s\n",
      "f0,f1,f2 = [2.590502819162525e-09, 2.590502822692561e-09, 2.590502817504262e-09]\n",
      "d01,d02,d12 = [1.071009908801043, 1.0710099081145625, 1.0710099085804978]\n"
     ]
    },
    {
     "name": "stderr",
     "output_type": "stream",
     "text": [
      "/cluster/home/mskrabulis/miniconda3/envs/quantech/lib/python3.9/site-packages/pyscf/symm/Dmatrix.py:156: RuntimeWarning: invalid value encountered in arccos\n",
      "  gamma = numpy.arccos(yp.dot(c2[1]))\n",
      "Progress:  49%|████▊     | 486/1000 [2:01:40<1:58:30, 13.83s/it]"
     ]
    },
    {
     "name": "stdout",
     "output_type": "stream",
     "text": [
      "Time to: Calculate Ground State - 0.84s, Get Pauli Ops - 4.27s, Calculate Pauli Expectation Values - 5.95s, Calculate Covariance - 2.32s\n",
      "f0,f1,f2 = [3.254643144324341e-09, 3.2546431489237863e-09, 3.2546431421510883e-09]\n",
      "d01,d02,d12 = [1.065186785307787, 1.0651867844794958, 1.0651867850419454]\n"
     ]
    },
    {
     "name": "stderr",
     "output_type": "stream",
     "text": [
      "Progress:  49%|████▊     | 487/1000 [2:01:56<2:02:25, 14.32s/it]"
     ]
    },
    {
     "name": "stdout",
     "output_type": "stream",
     "text": [
      "Time to: Calculate Ground State - 0.8s, Get Pauli Ops - 4.28s, Calculate Pauli Expectation Values - 7.87s, Calculate Covariance - 2.49s\n",
      "f0,f1,f2 = [2.4429877792991014e-09, 2.442987785120862e-09, 2.442987776544292e-09]\n",
      "d01,d02,d12 = [1.058221383259565, 1.0582213822930593, 1.058221382949586]\n"
     ]
    },
    {
     "name": "stderr",
     "output_type": "stream",
     "text": [
      "Progress:  49%|████▉     | 488/1000 [2:02:11<2:05:29, 14.71s/it]"
     ]
    },
    {
     "name": "stdout",
     "output_type": "stream",
     "text": [
      "Time to: Calculate Ground State - 1.56s, Get Pauli Ops - 4.82s, Calculate Pauli Expectation Values - 7.83s, Calculate Covariance - 1.39s\n",
      "f0,f1,f2 = [2.1199806115179517e-09, 2.1199806206189476e-09, 2.119980607242353e-09]\n",
      "d01,d02,d12 = [1.050951037954338, 1.0509510368563117, 1.0509510376023645]\n"
     ]
    },
    {
     "name": "stderr",
     "output_type": "stream",
     "text": [
      "Progress:  49%|████▉     | 489/1000 [2:02:24<2:01:04, 14.22s/it]"
     ]
    },
    {
     "name": "stdout",
     "output_type": "stream",
     "text": [
      "Time to: Calculate Ground State - 1.23s, Get Pauli Ops - 4.33s, Calculate Pauli Expectation Values - 5.88s, Calculate Covariance - 1.62s\n",
      "f0,f1,f2 = [2.561798061281528e-09, 2.5617980694016567e-09, 2.561798057455067e-09]\n",
      "d01,d02,d12 = [1.0441125784818281, 1.0441125772566984, 1.0441125780892762]\n"
     ]
    },
    {
     "name": "stderr",
     "output_type": "stream",
     "text": [
      "Progress:  49%|████▉     | 490/1000 [2:02:41<2:07:13, 14.97s/it]"
     ]
    },
    {
     "name": "stdout",
     "output_type": "stream",
     "text": [
      "Time to: Calculate Ground State - 1.02s, Get Pauli Ops - 4.44s, Calculate Pauli Expectation Values - 9.01s, Calculate Covariance - 2.25s\n",
      "f0,f1,f2 = [1.5436991577719612e-09, 1.543699168288245e-09, 1.5436991528205998e-09]\n",
      "d01,d02,d12 = [1.036392005079699, 1.036392003743637, 1.0363920046517434]\n"
     ]
    },
    {
     "name": "stderr",
     "output_type": "stream",
     "text": [
      "/cluster/home/mskrabulis/miniconda3/envs/quantech/lib/python3.9/site-packages/pyscf/symm/Dmatrix.py:156: RuntimeWarning: invalid value encountered in arccos\n",
      "  gamma = numpy.arccos(yp.dot(c2[1]))\n",
      "Progress:  49%|████▉     | 491/1000 [2:02:55<2:03:11, 14.52s/it]"
     ]
    },
    {
     "name": "stdout",
     "output_type": "stream",
     "text": [
      "Time to: Calculate Ground State - 1.24s, Get Pauli Ops - 4.56s, Calculate Pauli Expectation Values - 5.73s, Calculate Covariance - 1.94s\n",
      "f0,f1,f2 = [9.264410892430844e-10, 9.264410983102956e-10, 9.26441084963201e-10]\n",
      "d01,d02,d12 = [1.0285383832802972, 1.0285383818369724, 1.0285383828181143]\n"
     ]
    },
    {
     "name": "stderr",
     "output_type": "stream",
     "text": [
      "Progress:  49%|████▉     | 492/1000 [2:03:11<2:06:24, 14.93s/it]"
     ]
    },
    {
     "name": "stdout",
     "output_type": "stream",
     "text": [
      "Time to: Calculate Ground State - 1.02s, Get Pauli Ops - 4.38s, Calculate Pauli Expectation Values - 8.23s, Calculate Covariance - 2.24s\n",
      "f0,f1,f2 = [1.4006622861051782e-09, 1.4006622978708639e-09, 1.4006622805655883e-09]\n",
      "d01,d02,d12 = [1.0197653161083062, 1.0197653145580863, 1.0197653156120097]\n"
     ]
    },
    {
     "name": "stderr",
     "output_type": "stream",
     "text": [
      "/cluster/home/mskrabulis/miniconda3/envs/quantech/lib/python3.9/site-packages/pyscf/symm/Dmatrix.py:156: RuntimeWarning: invalid value encountered in arccos\n",
      "  gamma = numpy.arccos(yp.dot(c2[1]))\n",
      "Progress:  49%|████▉     | 493/1000 [2:03:25<2:04:31, 14.74s/it]"
     ]
    },
    {
     "name": "stdout",
     "output_type": "stream",
     "text": [
      "Time to: Calculate Ground State - 0.78s, Get Pauli Ops - 4.71s, Calculate Pauli Expectation Values - 6.86s, Calculate Covariance - 1.92s\n",
      "f0,f1,f2 = [2.004476870772551e-09, 2.004476884257511e-09, 2.0044768644189516e-09]\n",
      "d01,d02,d12 = [1.0095342962896603, 1.0095342946428516, 1.0095342957625473]\n"
     ]
    },
    {
     "name": "stderr",
     "output_type": "stream",
     "text": [
      "Progress:  49%|████▉     | 494/1000 [2:03:40<2:04:02, 14.71s/it]"
     ]
    },
    {
     "name": "stdout",
     "output_type": "stream",
     "text": [
      "Time to: Calculate Ground State - 1.36s, Get Pauli Ops - 4.98s, Calculate Pauli Expectation Values - 6.41s, Calculate Covariance - 1.89s\n",
      "f0,f1,f2 = [5.492228745716803e-10, 5.492228921463156e-10, 5.492228663276153e-10]\n",
      "d01,d02,d12 = [0.9995717336537848, 0.9995717319207936, 0.9995717330991818]\n"
     ]
    },
    {
     "name": "stderr",
     "output_type": "stream",
     "text": [
      "/cluster/home/mskrabulis/miniconda3/envs/quantech/lib/python3.9/site-packages/pyscf/symm/Dmatrix.py:156: RuntimeWarning: invalid value encountered in arccos\n",
      "  gamma = numpy.arccos(yp.dot(c2[1]))\n",
      "Progress:  50%|████▉     | 495/1000 [2:03:53<2:01:57, 14.49s/it]"
     ]
    },
    {
     "name": "stdout",
     "output_type": "stream",
     "text": [
      "Time to: Calculate Ground State - 1.18s, Get Pauli Ops - 4.57s, Calculate Pauli Expectation Values - 5.92s, Calculate Covariance - 2.3s\n",
      "f0,f1,f2 = [8.248773347853077e-10, 8.248773506239926e-10, 8.248773273452091e-10]\n",
      "d01,d02,d12 = [0.9887277005448717, 0.9887276987369266, 0.9887276999663711]\n"
     ]
    },
    {
     "name": "stderr",
     "output_type": "stream",
     "text": [
      "Progress:  50%|████▉     | 496/1000 [2:04:09<2:03:56, 14.75s/it]"
     ]
    },
    {
     "name": "stdout",
     "output_type": "stream",
     "text": [
      "Time to: Calculate Ground State - 1.28s, Get Pauli Ops - 7.08s, Calculate Pauli Expectation Values - 5.47s, Calculate Covariance - 1.54s\n",
      "f0,f1,f2 = [5.703782037984537e-10, 5.703781818672543e-10, 5.703782141325828e-10]\n",
      "d01,d02,d12 = [0.9788899219832923, 0.9788899201166326, 0.9788899213860891]\n"
     ]
    },
    {
     "name": "stderr",
     "output_type": "stream",
     "text": [
      "Progress:  50%|████▉     | 497/1000 [2:04:22<1:58:43, 14.16s/it]"
     ]
    },
    {
     "name": "stdout",
     "output_type": "stream",
     "text": [
      "Time to: Calculate Ground State - 0.75s, Get Pauli Ops - 4.38s, Calculate Pauli Expectation Values - 5.88s, Calculate Covariance - 1.76s\n",
      "f0,f1,f2 = [7.137397025267179e-10, 7.137396807708269e-10, 7.137397127802478e-10]\n",
      "d01,d02,d12 = [0.9700106819401693, 0.9700106800430196, 0.970010681333299]\n"
     ]
    },
    {
     "name": "stderr",
     "output_type": "stream",
     "text": [
      "Progress:  50%|████▉     | 498/1000 [2:04:36<1:58:23, 14.15s/it]"
     ]
    },
    {
     "name": "stdout",
     "output_type": "stream",
     "text": [
      "Time to: Calculate Ground State - 0.87s, Get Pauli Ops - 5.45s, Calculate Pauli Expectation Values - 5.78s, Calculate Covariance - 2.01s\n",
      "f0,f1,f2 = [9.352153176559946e-10, 9.352152946613225e-10, 9.352153284532704e-10]\n",
      "d01,d02,d12 = [0.9618640511417029, 0.9618640492360113, 0.9618640505321805]\n"
     ]
    },
    {
     "name": "stderr",
     "output_type": "stream",
     "text": [
      "/cluster/home/mskrabulis/miniconda3/envs/quantech/lib/python3.9/site-packages/pyscf/symm/Dmatrix.py:156: RuntimeWarning: invalid value encountered in arccos\n",
      "  gamma = numpy.arccos(yp.dot(c2[1]))\n",
      "Progress:  50%|████▉     | 499/1000 [2:04:51<2:01:56, 14.60s/it]"
     ]
    },
    {
     "name": "stdout",
     "output_type": "stream",
     "text": [
      "Time to: Calculate Ground State - 1.0s, Get Pauli Ops - 4.97s, Calculate Pauli Expectation Values - 7.41s, Calculate Covariance - 2.27s\n",
      "f0,f1,f2 = [1.0006252097734485e-09, 1.0006251860982316e-09, 1.0006252209061043e-09]\n",
      "d01,d02,d12 = [0.9540253623341698, 0.9540253604434779, 0.9540253617295255]\n"
     ]
    },
    {
     "name": "stderr",
     "output_type": "stream",
     "text": [
      "Progress:  50%|█████     | 500/1000 [2:05:06<2:01:27, 14.58s/it]"
     ]
    },
    {
     "name": "stdout",
     "output_type": "stream",
     "text": [
      "Time to: Calculate Ground State - 0.79s, Get Pauli Ops - 5.11s, Calculate Pauli Expectation Values - 6.42s, Calculate Covariance - 2.19s\n",
      "f0,f1,f2 = [2.402271425163512e-09, 2.4022714009202635e-09, 2.402271436575267e-09]\n",
      "d01,d02,d12 = [0.9475918196078288, 0.9475918177440731, 0.9475918190118838]\n"
     ]
    },
    {
     "name": "stderr",
     "output_type": "stream",
     "text": [
      "/cluster/home/mskrabulis/miniconda3/envs/quantech/lib/python3.9/site-packages/pyscf/symm/Dmatrix.py:156: RuntimeWarning: invalid value encountered in arccos\n",
      "  gamma = numpy.arccos(yp.dot(c2[1]))\n",
      "Progress:  50%|█████     | 501/1000 [2:05:20<1:59:13, 14.33s/it]"
     ]
    },
    {
     "name": "stdout",
     "output_type": "stream",
     "text": [
      "Time to: Calculate Ground State - 1.01s, Get Pauli Ops - 5.06s, Calculate Pauli Expectation Values - 5.84s, Calculate Covariance - 1.86s\n",
      "f0,f1,f2 = [1.896796383209866e-09, 1.896796361239743e-09, 1.896796393519921e-09]\n",
      "d01,d02,d12 = [0.9425178591378407, 0.942517857318686, 0.9425178585562426]\n"
     ]
    },
    {
     "name": "stderr",
     "output_type": "stream",
     "text": [
      "Progress:  50%|█████     | 502/1000 [2:05:35<2:00:15, 14.49s/it]"
     ]
    },
    {
     "name": "stdout",
     "output_type": "stream",
     "text": [
      "Time to: Calculate Ground State - 1.06s, Get Pauli Ops - 4.72s, Calculate Pauli Expectation Values - 6.84s, Calculate Covariance - 2.22s\n",
      "f0,f1,f2 = [3.545992151556973e-09, 3.545992127620273e-09, 3.5459921628097102e-09]\n",
      "d01,d02,d12 = [0.9395817557705515, 0.9395817539972632, 0.9395817552037057]\n"
     ]
    },
    {
     "name": "stderr",
     "output_type": "stream",
     "text": [
      "/cluster/home/mskrabulis/miniconda3/envs/quantech/lib/python3.9/site-packages/pyscf/symm/Dmatrix.py:156: RuntimeWarning: invalid value encountered in arccos\n",
      "  gamma = numpy.arccos(yp.dot(c2[1]))\n",
      "Progress:  50%|█████     | 503/1000 [2:05:49<1:58:51, 14.35s/it]"
     ]
    },
    {
     "name": "stdout",
     "output_type": "stream",
     "text": [
      "Time to: Calculate Ground State - 0.99s, Get Pauli Ops - 4.45s, Calculate Pauli Expectation Values - 6.36s, Calculate Covariance - 2.22s\n",
      "f0,f1,f2 = [1.4999029656766683e-09, 1.4999029416650792e-09, 1.4999029769716622e-09]\n",
      "d01,d02,d12 = [0.9371525700017067, 0.9371525682918481, 0.9371525694552293]\n"
     ]
    },
    {
     "name": "stderr",
     "output_type": "stream",
     "text": [
      "Progress:  50%|█████     | 504/1000 [2:06:03<1:59:05, 14.41s/it]"
     ]
    },
    {
     "name": "stdout",
     "output_type": "stream",
     "text": [
      "Time to: Calculate Ground State - 1.23s, Get Pauli Ops - 4.73s, Calculate Pauli Expectation Values - 6.1s, Calculate Covariance - 2.48s\n",
      "f0,f1,f2 = [2.4523790632515292e-09, 2.4523790404447283e-09, 2.452379073986978e-09]\n",
      "d01,d02,d12 = [0.9356998259700826, 0.9356998243374957, 0.9356998254484009]\n"
     ]
    },
    {
     "name": "stderr",
     "output_type": "stream",
     "text": [
      "/cluster/home/mskrabulis/miniconda3/envs/quantech/lib/python3.9/site-packages/pyscf/symm/Dmatrix.py:156: RuntimeWarning: invalid value encountered in arccos\n",
      "  gamma = numpy.arccos(yp.dot(c2[1]))\n",
      "/cluster/home/mskrabulis/miniconda3/envs/quantech/lib/python3.9/site-packages/pyscf/symm/Dmatrix.py:156: RuntimeWarning: invalid value encountered in arccos\n",
      "  gamma = numpy.arccos(yp.dot(c2[1]))\n",
      "Progress:  50%|█████     | 505/1000 [2:06:19<2:02:25, 14.84s/it]"
     ]
    },
    {
     "name": "stdout",
     "output_type": "stream",
     "text": [
      "Time to: Calculate Ground State - 1.49s, Get Pauli Ops - 4.53s, Calculate Pauli Expectation Values - 8.03s, Calculate Covariance - 1.79s\n",
      "f0,f1,f2 = [2.5338653829518918e-09, 2.5338653630653275e-09, 2.533865392298218e-09]\n",
      "d01,d02,d12 = [0.9351980134378812, 0.9351980118944522, 0.9351980129447935]\n"
     ]
    },
    {
     "name": "stderr",
     "output_type": "stream",
     "text": [
      "Progress:  51%|█████     | 506/1000 [2:06:32<1:57:49, 14.31s/it]"
     ]
    },
    {
     "name": "stdout",
     "output_type": "stream",
     "text": [
      "Time to: Calculate Ground State - 0.77s, Get Pauli Ops - 4.3s, Calculate Pauli Expectation Values - 5.96s, Calculate Covariance - 2.05s\n",
      "f0,f1,f2 = [1.5727336316894712e-09, 1.5727336083933145e-09, 1.5727336426371764e-09]\n",
      "d01,d02,d12 = [0.9353460752946455, 0.9353460738550538, 0.9353460748348453]\n"
     ]
    },
    {
     "name": "stderr",
     "output_type": "stream",
     "text": [
      "Progress:  51%|█████     | 507/1000 [2:06:48<2:01:50, 14.83s/it]"
     ]
    },
    {
     "name": "stdout",
     "output_type": "stream",
     "text": [
      "Time to: Calculate Ground State - 1.04s, Get Pauli Ops - 4.77s, Calculate Pauli Expectation Values - 7.76s, Calculate Covariance - 2.46s\n",
      "f0,f1,f2 = [9.72895350571402e-10, 9.728953290763e-10, 9.728953606546099e-10]\n",
      "d01,d02,d12 = [0.9359104731679204, 0.9359104718465519, 0.935910472746005]\n"
     ]
    },
    {
     "name": "stderr",
     "output_type": "stream",
     "text": [
      "Progress:  51%|█████     | 508/1000 [2:07:04<2:03:41, 15.08s/it]"
     ]
    },
    {
     "name": "stdout",
     "output_type": "stream",
     "text": [
      "Time to: Calculate Ground State - 1.28s, Get Pauli Ops - 4.89s, Calculate Pauli Expectation Values - 7.51s, Calculate Covariance - 1.99s\n",
      "f0,f1,f2 = [1.666947804480229e-09, 1.6669477871185666e-09, 1.6669478126211243e-09]\n",
      "d01,d02,d12 = [0.9371176550177815, 0.9371176538265416, 0.9371176546375534]\n"
     ]
    },
    {
     "name": "stderr",
     "output_type": "stream",
     "text": [
      "Progress:  51%|█████     | 509/1000 [2:07:17<1:59:00, 14.54s/it]"
     ]
    },
    {
     "name": "stdout",
     "output_type": "stream",
     "text": [
      "Time to: Calculate Ground State - 1.33s, Get Pauli Ops - 4.0s, Calculate Pauli Expectation Values - 6.16s, Calculate Covariance - 1.77s\n",
      "f0,f1,f2 = [1.8760435071994057e-09, 1.8760434912167675e-09, 1.8760435146682846e-09]\n",
      "d01,d02,d12 = [0.9390513212878235, 0.9390513202369059, 0.9390513209525321]\n"
     ]
    },
    {
     "name": "stderr",
     "output_type": "stream",
     "text": [
      "Progress:  51%|█████     | 510/1000 [2:07:30<1:54:59, 14.08s/it]"
     ]
    },
    {
     "name": "stdout",
     "output_type": "stream",
     "text": [
      "Time to: Calculate Ground State - 0.97s, Get Pauli Ops - 4.35s, Calculate Pauli Expectation Values - 5.88s, Calculate Covariance - 1.8s\n",
      "f0,f1,f2 = [1.7319458046099366e-09, 1.731945789900469e-09, 1.7319458115196606e-09]\n",
      "d01,d02,d12 = [0.9418906952655912, 0.941890694363375, 0.9418906949779127]\n"
     ]
    },
    {
     "name": "stderr",
     "output_type": "stream",
     "text": [
      "/cluster/home/mskrabulis/miniconda3/envs/quantech/lib/python3.9/site-packages/pyscf/symm/Dmatrix.py:156: RuntimeWarning: invalid value encountered in arccos\n",
      "  gamma = numpy.arccos(yp.dot(c2[1]))\n",
      "Progress:  51%|█████     | 511/1000 [2:07:42<1:50:35, 13.57s/it]"
     ]
    },
    {
     "name": "stdout",
     "output_type": "stream",
     "text": [
      "Time to: Calculate Ground State - 1.03s, Get Pauli Ops - 4.08s, Calculate Pauli Expectation Values - 5.87s, Calculate Covariance - 1.39s\n",
      "f0,f1,f2 = [2.1226454184942717e-09, 2.1226454049895507e-09, 2.122645424830173e-09]\n",
      "d01,d02,d12 = [0.9456501496788736, 0.9456501489325277, 0.9456501494410966]\n"
     ]
    },
    {
     "name": "stderr",
     "output_type": "stream",
     "text": [
      "/cluster/home/mskrabulis/miniconda3/envs/quantech/lib/python3.9/site-packages/pyscf/symm/Dmatrix.py:156: RuntimeWarning: invalid value encountered in arccos\n",
      "  gamma = numpy.arccos(yp.dot(c2[1]))\n",
      "Progress:  51%|█████     | 512/1000 [2:07:55<1:47:54, 13.27s/it]"
     ]
    },
    {
     "name": "stdout",
     "output_type": "stream",
     "text": [
      "Time to: Calculate Ground State - 1.05s, Get Pauli Ops - 4.07s, Calculate Pauli Expectation Values - 5.64s, Calculate Covariance - 1.79s\n",
      "f0,f1,f2 = [2.841917667311135e-09, 2.841917657972194e-09, 2.841917671667566e-09]\n",
      "d01,d02,d12 = [0.9505085177178705, 0.950508517131536, 0.9505085175313065]\n"
     ]
    },
    {
     "name": "stderr",
     "output_type": "stream",
     "text": [
      "Progress:  51%|█████▏    | 513/1000 [2:08:09<1:48:22, 13.35s/it]"
     ]
    },
    {
     "name": "stdout",
     "output_type": "stream",
     "text": [
      "Time to: Calculate Ground State - 1.0s, Get Pauli Ops - 4.59s, Calculate Pauli Expectation Values - 6.04s, Calculate Covariance - 1.92s\n",
      "f0,f1,f2 = [2.2251677184452572e-09, 2.2251677111490287e-09, 2.225167721864812e-09]\n",
      "d01,d02,d12 = [0.9562647431340876, 0.9562647427127771, 0.9562647430003366]\n"
     ]
    },
    {
     "name": "stderr",
     "output_type": "stream",
     "text": [
      "Progress:  51%|█████▏    | 514/1000 [2:08:22<1:49:26, 13.51s/it]"
     ]
    },
    {
     "name": "stdout",
     "output_type": "stream",
     "text": [
      "Time to: Calculate Ground State - 1.04s, Get Pauli Ops - 4.28s, Calculate Pauli Expectation Values - 6.63s, Calculate Covariance - 1.92s\n",
      "f0,f1,f2 = [1.1083167841308997e-09, 1.1083167782912598e-09, 1.1083167868339796e-09]\n",
      "d01,d02,d12 = [0.9626067783048491, 0.9626067780520486, 0.9626067782250188]\n"
     ]
    },
    {
     "name": "stderr",
     "output_type": "stream",
     "text": [
      "/cluster/home/mskrabulis/miniconda3/envs/quantech/lib/python3.9/site-packages/pyscf/symm/Dmatrix.py:156: RuntimeWarning: invalid value encountered in arccos\n",
      "  gamma = numpy.arccos(yp.dot(c2[1]))\n",
      "Progress:  52%|█████▏    | 515/1000 [2:08:39<1:55:39, 14.31s/it]"
     ]
    },
    {
     "name": "stdout",
     "output_type": "stream",
     "text": [
      "Time to: Calculate Ground State - 0.97s, Get Pauli Ops - 4.37s, Calculate Pauli Expectation Values - 8.34s, Calculate Covariance - 2.48s\n",
      "f0,f1,f2 = [2.0619576372449062e-09, 2.061957634041568e-09, 2.0619576387412346e-09]\n",
      "d01,d02,d12 = [0.9690980028461258, 0.9690980027639086, 0.9690980028208755]\n"
     ]
    },
    {
     "name": "stderr",
     "output_type": "stream",
     "text": [
      "/cluster/home/mskrabulis/miniconda3/envs/quantech/lib/python3.9/site-packages/pyscf/symm/Dmatrix.py:156: RuntimeWarning: invalid value encountered in arccos\n",
      "  gamma = numpy.arccos(yp.dot(c2[1]))\n",
      "Progress:  52%|█████▏    | 516/1000 [2:08:54<1:58:58, 14.75s/it]"
     ]
    },
    {
     "name": "stdout",
     "output_type": "stream",
     "text": [
      "Time to: Calculate Ground State - 0.96s, Get Pauli Ops - 5.03s, Calculate Pauli Expectation Values - 7.81s, Calculate Covariance - 1.98s\n",
      "f0,f1,f2 = [9.67656348635365e-10, 9.676563476017468e-10, 9.67656349091717e-10]\n",
      "d01,d02,d12 = [0.9760101619584052, 0.9760101620473967, 0.9760101619879289]\n"
     ]
    },
    {
     "name": "stderr",
     "output_type": "stream",
     "text": [
      "/cluster/home/mskrabulis/miniconda3/envs/quantech/lib/python3.9/site-packages/pyscf/symm/Dmatrix.py:156: RuntimeWarning: invalid value encountered in arccos\n",
      "  gamma = numpy.arccos(yp.dot(c2[1]))\n",
      "Progress:  52%|█████▏    | 517/1000 [2:09:09<1:58:44, 14.75s/it]"
     ]
    },
    {
     "name": "stdout",
     "output_type": "stream",
     "text": [
      "Time to: Calculate Ground State - 1.01s, Get Pauli Ops - 4.88s, Calculate Pauli Expectation Values - 6.4s, Calculate Covariance - 2.46s\n",
      "f0,f1,f2 = [4.547377582429037e-10, 4.5473775924058106e-10, 4.5473775775615546e-10]\n",
      "d01,d02,d12 = [0.9831690401423208, 0.9831690404023422, 0.9831690402265639]\n"
     ]
    },
    {
     "name": "stderr",
     "output_type": "stream",
     "text": [
      "/cluster/home/mskrabulis/miniconda3/envs/quantech/lib/python3.9/site-packages/pyscf/symm/Dmatrix.py:156: RuntimeWarning: invalid value encountered in arccos\n",
      "  gamma = numpy.arccos(yp.dot(c2[1]))\n",
      "Progress:  52%|█████▏    | 518/1000 [2:09:23<1:56:18, 14.48s/it]"
     ]
    },
    {
     "name": "stdout",
     "output_type": "stream",
     "text": [
      "Time to: Calculate Ground State - 1.0s, Get Pauli Ops - 5.16s, Calculate Pauli Expectation Values - 5.64s, Calculate Covariance - 2.03s\n",
      "f0,f1,f2 = [6.975756229328089e-10, 6.975756258838573e-10, 6.975756215078866e-10]\n",
      "d01,d02,d12 = [0.9904607046516336, 0.9904607050819052, 0.9904607047903424]\n"
     ]
    },
    {
     "name": "stderr",
     "output_type": "stream",
     "text": [
      "/cluster/home/mskrabulis/miniconda3/envs/quantech/lib/python3.9/site-packages/pyscf/symm/Dmatrix.py:156: RuntimeWarning: invalid value encountered in arccos\n",
      "  gamma = numpy.arccos(yp.dot(c2[1]))\n",
      "Progress:  52%|█████▏    | 519/1000 [2:09:37<1:54:52, 14.33s/it]"
     ]
    },
    {
     "name": "stdout",
     "output_type": "stream",
     "text": [
      "Time to: Calculate Ground State - 1.01s, Get Pauli Ops - 4.97s, Calculate Pauli Expectation Values - 5.73s, Calculate Covariance - 2.27s\n",
      "f0,f1,f2 = [6.629318710072657e-10, 6.629318753094145e-10, 6.629318689790773e-10]\n",
      "d01,d02,d12 = [0.9978773004776067, 0.9978773010757643, 0.997877300670018]\n"
     ]
    },
    {
     "name": "stderr",
     "output_type": "stream",
     "text": [
      "Progress:  52%|█████▏    | 520/1000 [2:09:50<1:52:35, 14.07s/it]"
     ]
    },
    {
     "name": "stdout",
     "output_type": "stream",
     "text": [
      "Time to: Calculate Ground State - 0.84s, Get Pauli Ops - 5.03s, Calculate Pauli Expectation Values - 5.89s, Calculate Covariance - 1.7s\n",
      "f0,f1,f2 = [1.5691032357699936e-10, 1.569103167647646e-10, 1.5691032680895226e-10]\n",
      "d01,d02,d12 = [1.0051574861358363, 1.0051574868990003, 1.0051574863810242]\n"
     ]
    },
    {
     "name": "stderr",
     "output_type": "stream",
     "text": [
      "Progress:  52%|█████▏    | 521/1000 [2:10:07<1:58:21, 14.83s/it]"
     ]
    },
    {
     "name": "stdout",
     "output_type": "stream",
     "text": [
      "Time to: Calculate Ground State - 0.96s, Get Pauli Ops - 6.69s, Calculate Pauli Expectation Values - 6.58s, Calculate Covariance - 2.34s\n",
      "f0,f1,f2 = [4.732407195227555e-10, 4.732407120875153e-10, 4.73240723042267e-10]\n",
      "d01,d02,d12 = [1.0125871160112236, 1.012587116933937, 1.0125871163074365]\n"
     ]
    },
    {
     "name": "stderr",
     "output_type": "stream",
     "text": [
      "Progress:  52%|█████▏    | 522/1000 [2:10:21<1:57:03, 14.69s/it]"
     ]
    },
    {
     "name": "stdout",
     "output_type": "stream",
     "text": [
      "Time to: Calculate Ground State - 1.04s, Get Pauli Ops - 5.12s, Calculate Pauli Expectation Values - 6.07s, Calculate Covariance - 2.14s\n",
      "f0,f1,f2 = [7.356984420854648e-10, 7.356984326940807e-10, 7.356984465187618e-10]\n",
      "d01,d02,d12 = [1.0195064443746527, 1.0195064454467877, 1.0195064447186362]\n"
     ]
    },
    {
     "name": "stderr",
     "output_type": "stream",
     "text": [
      "/cluster/home/mskrabulis/miniconda3/envs/quantech/lib/python3.9/site-packages/pyscf/symm/Dmatrix.py:156: RuntimeWarning: invalid value encountered in arccos\n",
      "  gamma = numpy.arccos(yp.dot(c2[1]))\n",
      "Progress:  52%|█████▏    | 523/1000 [2:10:40<2:06:24, 15.90s/it]"
     ]
    },
    {
     "name": "stdout",
     "output_type": "stream",
     "text": [
      "Time to: Calculate Ground State - 1.01s, Get Pauli Ops - 5.07s, Calculate Pauli Expectation Values - 10.21s, Calculate Covariance - 2.42s\n",
      "f0,f1,f2 = [1.7312408893663657e-09, 1.7312408796029396e-09, 1.7312408939770883e-09]\n",
      "d01,d02,d12 = [1.025333825988762, 1.0253338272065744, 1.025333826379312]\n"
     ]
    },
    {
     "name": "stderr",
     "output_type": "stream",
     "text": [
      "Progress:  52%|█████▏    | 524/1000 [2:10:54<2:00:39, 15.21s/it]"
     ]
    },
    {
     "name": "stdout",
     "output_type": "stream",
     "text": [
      "Time to: Calculate Ground State - 1.23s, Get Pauli Ops - 4.03s, Calculate Pauli Expectation Values - 5.98s, Calculate Covariance - 2.35s\n",
      "f0,f1,f2 = [2.195139465599069e-09, 2.1951394531589736e-09, 2.1951394714658813e-09]\n",
      "d01,d02,d12 = [1.0304109431072859, 1.0304109444630938, 1.0304109435419415]\n"
     ]
    },
    {
     "name": "stderr",
     "output_type": "stream",
     "text": [
      "Progress:  52%|█████▎    | 525/1000 [2:11:07<1:55:12, 14.55s/it]"
     ]
    },
    {
     "name": "stdout",
     "output_type": "stream",
     "text": [
      "Time to: Calculate Ground State - 1.31s, Get Pauli Ops - 4.58s, Calculate Pauli Expectation Values - 5.74s, Calculate Covariance - 1.39s\n",
      "f0,f1,f2 = [1.2601088166282634e-09, 1.260108804170424e-09, 1.2601088225259625e-09]\n",
      "d01,d02,d12 = [1.0347087878126016, 1.0347087893002356, 1.034708788289383]\n"
     ]
    },
    {
     "name": "stderr",
     "output_type": "stream",
     "text": [
      "Progress:  53%|█████▎    | 526/1000 [2:11:23<1:58:29, 15.00s/it]"
     ]
    },
    {
     "name": "stdout",
     "output_type": "stream",
     "text": [
      "Time to: Calculate Ground State - 1.34s, Get Pauli Ops - 4.51s, Calculate Pauli Expectation Values - 7.87s, Calculate Covariance - 2.32s\n",
      "f0,f1,f2 = [1.4679211382306484e-09, 1.467921123608842e-09, 1.4679211451286482e-09]\n",
      "d01,d02,d12 = [1.0383026756044846, 1.0383026772149164, 1.0383026761204932]\n"
     ]
    },
    {
     "name": "stderr",
     "output_type": "stream",
     "text": [
      "/cluster/home/mskrabulis/miniconda3/envs/quantech/lib/python3.9/site-packages/pyscf/symm/Dmatrix.py:156: RuntimeWarning: invalid value encountered in arccos\n",
      "  gamma = numpy.arccos(yp.dot(c2[1]))\n",
      "Progress:  53%|█████▎    | 527/1000 [2:11:36<1:53:44, 14.43s/it]"
     ]
    },
    {
     "name": "stdout",
     "output_type": "stream",
     "text": [
      "Time to: Calculate Ground State - 1.29s, Get Pauli Ops - 4.42s, Calculate Pauli Expectation Values - 5.7s, Calculate Covariance - 1.68s\n",
      "f0,f1,f2 = [2.6012798125209737e-09, 2.6012797981479785e-09, 2.6012798193003028e-09]\n",
      "d01,d02,d12 = [1.040525074999842, 1.040525076726153, 1.0405250755528634]\n"
     ]
    },
    {
     "name": "stderr",
     "output_type": "stream",
     "text": [
      "Progress:  53%|█████▎    | 528/1000 [2:11:49<1:50:31, 14.05s/it]"
     ]
    },
    {
     "name": "stdout",
     "output_type": "stream",
     "text": [
      "Time to: Calculate Ground State - 1.23s, Get Pauli Ops - 4.43s, Calculate Pauli Expectation Values - 5.77s, Calculate Covariance - 1.73s\n",
      "f0,f1,f2 = [2.8194592448007268e-09, 2.819459231332711e-09, 2.819459251142472e-09]\n",
      "d01,d02,d12 = [1.041573696147353, 1.0415736979802814, 1.0415736967344191]\n"
     ]
    },
    {
     "name": "stderr",
     "output_type": "stream",
     "text": [
      "/cluster/home/mskrabulis/miniconda3/envs/quantech/lib/python3.9/site-packages/pyscf/symm/Dmatrix.py:156: RuntimeWarning: invalid value encountered in arccos\n",
      "  gamma = numpy.arccos(yp.dot(c2[1]))\n",
      "Progress:  53%|█████▎    | 529/1000 [2:12:04<1:52:20, 14.31s/it]"
     ]
    },
    {
     "name": "stdout",
     "output_type": "stream",
     "text": [
      "Time to: Calculate Ground State - 0.99s, Get Pauli Ops - 6.65s, Calculate Pauli Expectation Values - 5.53s, Calculate Covariance - 1.75s\n",
      "f0,f1,f2 = [2.379638600902028e-09, 2.3796385873255782e-09, 2.3796386073106825e-09]\n",
      "d01,d02,d12 = [1.0416892852273865, 1.0416892871589105, 1.0416892858459286]\n"
     ]
    },
    {
     "name": "stderr",
     "output_type": "stream",
     "text": [
      "Progress:  53%|█████▎    | 530/1000 [2:12:19<1:53:37, 14.51s/it]"
     ]
    },
    {
     "name": "stdout",
     "output_type": "stream",
     "text": [
      "Time to: Calculate Ground State - 1.12s, Get Pauli Ops - 4.02s, Calculate Pauli Expectation Values - 8.11s, Calculate Covariance - 1.7s\n",
      "f0,f1,f2 = [2.3577881029172255e-09, 2.357788085513908e-09, 2.3577881111181712e-09]\n",
      "d01,d02,d12 = [1.0408171949464229, 1.0408171969653737, 1.0408171955928631]\n"
     ]
    },
    {
     "name": "stderr",
     "output_type": "stream",
     "text": [
      "/cluster/home/mskrabulis/miniconda3/envs/quantech/lib/python3.9/site-packages/pyscf/symm/Dmatrix.py:156: RuntimeWarning: invalid value encountered in arccos\n",
      "  gamma = numpy.arccos(yp.dot(c2[1]))\n",
      "Progress:  53%|█████▎    | 531/1000 [2:12:35<1:56:12, 14.87s/it]"
     ]
    },
    {
     "name": "stdout",
     "output_type": "stream",
     "text": [
      "Time to: Calculate Ground State - 0.9s, Get Pauli Ops - 4.11s, Calculate Pauli Expectation Values - 8.96s, Calculate Covariance - 1.74s\n",
      "f0,f1,f2 = [1.5630090150103623e-09, 1.5630089998632022e-09, 1.5630090221340792e-09]\n",
      "d01,d02,d12 = [1.0393337436635268, 1.0393337457611374, 1.0393337443350608]\n"
     ]
    },
    {
     "name": "stderr",
     "output_type": "stream",
     "text": [
      "Progress:  53%|█████▎    | 532/1000 [2:12:49<1:54:08, 14.63s/it]"
     ]
    },
    {
     "name": "stdout",
     "output_type": "stream",
     "text": [
      "Time to: Calculate Ground State - 1.25s, Get Pauli Ops - 4.5s, Calculate Pauli Expectation Values - 6.44s, Calculate Covariance - 1.89s\n",
      "f0,f1,f2 = [7.215051011896458e-10, 7.215050827625752e-10, 7.215051098675995e-10]\n",
      "d01,d02,d12 = [1.037453610903703, 1.0374536130687855, 1.0374536115967505]\n"
     ]
    },
    {
     "name": "stderr",
     "output_type": "stream",
     "text": [
      "Progress:  53%|█████▎    | 533/1000 [2:13:08<2:05:08, 16.08s/it]"
     ]
    },
    {
     "name": "stdout",
     "output_type": "stream",
     "text": [
      "Time to: Calculate Ground State - 1.35s, Get Pauli Ops - 7.98s, Calculate Pauli Expectation Values - 8.05s, Calculate Covariance - 2.07s\n",
      "f0,f1,f2 = [2.6244998598578614e-09, 2.624499839088563e-09, 2.6244998696183424e-09]\n",
      "d01,d02,d12 = [1.0343178775467128, 1.0343178797637003, 1.0343178782562934]\n"
     ]
    },
    {
     "name": "stderr",
     "output_type": "stream",
     "text": [
      "Progress:  53%|█████▎    | 534/1000 [2:13:24<2:04:24, 16.02s/it]"
     ]
    },
    {
     "name": "stdout",
     "output_type": "stream",
     "text": [
      "Time to: Calculate Ground State - 1.04s, Get Pauli Ops - 7.05s, Calculate Pauli Expectation Values - 5.85s, Calculate Covariance - 1.91s\n",
      "f0,f1,f2 = [1.7026161597962339e-09, 1.7026161422907159e-09, 1.7026161680330232e-09]\n",
      "d01,d02,d12 = [1.0308580682291504, 1.0308580704906067, 1.0308580689528846]\n"
     ]
    },
    {
     "name": "stderr",
     "output_type": "stream",
     "text": [
      "/cluster/home/mskrabulis/miniconda3/envs/quantech/lib/python3.9/site-packages/pyscf/symm/Dmatrix.py:156: RuntimeWarning: invalid value encountered in arccos\n",
      "  gamma = numpy.arccos(yp.dot(c2[1]))\n",
      "Progress:  54%|█████▎    | 535/1000 [2:13:39<2:01:19, 15.65s/it]"
     ]
    },
    {
     "name": "stdout",
     "output_type": "stream",
     "text": [
      "Time to: Calculate Ground State - 1.06s, Get Pauli Ops - 5.84s, Calculate Pauli Expectation Values - 6.04s, Calculate Covariance - 1.86s\n",
      "f0,f1,f2 = [9.456509032918248e-10, 9.456508829721945e-10, 9.45650912861352e-10]\n",
      "d01,d02,d12 = [1.0271246664312648, 1.0271246687303062, 1.0271246671669498]\n"
     ]
    },
    {
     "name": "stderr",
     "output_type": "stream",
     "text": [
      "Progress:  54%|█████▎    | 536/1000 [2:13:52<1:56:22, 15.05s/it]"
     ]
    },
    {
     "name": "stdout",
     "output_type": "stream",
     "text": [
      "Time to: Calculate Ground State - 0.96s, Get Pauli Ops - 4.67s, Calculate Pauli Expectation Values - 6.07s, Calculate Covariance - 1.93s\n",
      "f0,f1,f2 = [6.115350165575924e-10, 6.115349944927406e-10, 6.11535026952523e-10]\n",
      "d01,d02,d12 = [1.0231299935616573, 1.0231299958876716, 1.0231299943059005]\n"
     ]
    },
    {
     "name": "stderr",
     "output_type": "stream",
     "text": [
      "Progress:  54%|█████▎    | 537/1000 [2:14:08<1:56:54, 15.15s/it]"
     ]
    },
    {
     "name": "stdout",
     "output_type": "stream",
     "text": [
      "Time to: Calculate Ground State - 1.1s, Get Pauli Ops - 5.89s, Calculate Pauli Expectation Values - 6.58s, Calculate Covariance - 1.81s\n",
      "f0,f1,f2 = [1.281016458889004e-09, 1.2810164317310045e-09, 1.2810164716599716e-09]\n",
      "d01,d02,d12 = [1.019210355040673, 1.019210357378247, 1.0192103557885386]\n"
     ]
    },
    {
     "name": "stderr",
     "output_type": "stream",
     "text": [
      "/cluster/home/mskrabulis/miniconda3/envs/quantech/lib/python3.9/site-packages/pyscf/symm/Dmatrix.py:156: RuntimeWarning: invalid value encountered in arccos\n",
      "  gamma = numpy.arccos(yp.dot(c2[1]))\n",
      "Progress:  54%|█████▍    | 538/1000 [2:14:22<1:53:23, 14.73s/it]"
     ]
    },
    {
     "name": "stdout",
     "output_type": "stream",
     "text": [
      "Time to: Calculate Ground State - 0.8s, Get Pauli Ops - 4.77s, Calculate Pauli Expectation Values - 6.07s, Calculate Covariance - 2.09s\n",
      "f0,f1,f2 = [1.2196685961707653e-10, 1.2196684063023517e-10, 1.2196686855355976e-10]\n",
      "d01,d02,d12 = [1.0150397739655415, 1.0150397763077732, 1.01503977471482]\n"
     ]
    },
    {
     "name": "stderr",
     "output_type": "stream",
     "text": [
      "Progress:  54%|█████▍    | 539/1000 [2:14:35<1:50:25, 14.37s/it]"
     ]
    },
    {
     "name": "stdout",
     "output_type": "stream",
     "text": [
      "Time to: Calculate Ground State - 0.87s, Get Pauli Ops - 4.54s, Calculate Pauli Expectation Values - 6.21s, Calculate Covariance - 1.91s\n",
      "f0,f1,f2 = [1.2553803738090018e-09, 1.2553803492486968e-09, 1.25538038538563e-09]\n",
      "d01,d02,d12 = [1.009640476902054, 1.00964047923487, 1.00964047764824]\n"
     ]
    },
    {
     "name": "stderr",
     "output_type": "stream",
     "text": [
      "/cluster/home/mskrabulis/miniconda3/envs/quantech/lib/python3.9/site-packages/pyscf/symm/Dmatrix.py:156: RuntimeWarning: invalid value encountered in arccos\n",
      "  gamma = numpy.arccos(yp.dot(c2[1]))\n",
      "/cluster/home/mskrabulis/miniconda3/envs/quantech/lib/python3.9/site-packages/pyscf/symm/Dmatrix.py:156: RuntimeWarning: invalid value encountered in arccos\n",
      "  gamma = numpy.arccos(yp.dot(c2[1]))\n",
      "Progress:  54%|█████▍    | 540/1000 [2:14:48<1:46:48, 13.93s/it]"
     ]
    },
    {
     "name": "stdout",
     "output_type": "stream",
     "text": [
      "Time to: Calculate Ground State - 1.03s, Get Pauli Ops - 4.26s, Calculate Pauli Expectation Values - 5.79s, Calculate Covariance - 1.81s\n",
      "f0,f1,f2 = [2.999747036477041e-10, 2.999746825463518e-10, 2.999747135991463e-10]\n",
      "d01,d02,d12 = [1.0048064559478775, 1.0048064582635294, 1.0048064566884884]\n"
     ]
    },
    {
     "name": "stderr",
     "output_type": "stream",
     "text": [
      "/cluster/home/mskrabulis/miniconda3/envs/quantech/lib/python3.9/site-packages/pyscf/symm/Dmatrix.py:156: RuntimeWarning: invalid value encountered in arccos\n",
      "  gamma = numpy.arccos(yp.dot(c2[1]))\n",
      "Progress:  54%|█████▍    | 541/1000 [2:15:03<1:47:57, 14.11s/it]"
     ]
    },
    {
     "name": "stdout",
     "output_type": "stream",
     "text": [
      "Time to: Calculate Ground State - 1.23s, Get Pauli Ops - 4.2s, Calculate Pauli Expectation Values - 6.9s, Calculate Covariance - 2.2s\n",
      "f0,f1,f2 = [1.0536570814161143e-09, 1.053657057291502e-09, 1.053657092735015e-09]\n",
      "d01,d02,d12 = [0.9993211808856292, 0.9993211831639107, 0.9993211816142046]\n"
     ]
    },
    {
     "name": "stderr",
     "output_type": "stream",
     "text": [
      "Progress:  54%|█████▍    | 542/1000 [2:15:18<1:51:27, 14.60s/it]"
     ]
    },
    {
     "name": "stdout",
     "output_type": "stream",
     "text": [
      "Time to: Calculate Ground State - 1.18s, Get Pauli Ops - 6.91s, Calculate Pauli Expectation Values - 5.73s, Calculate Covariance - 1.92s\n",
      "f0,f1,f2 = [3.3022797873457243e-10, 3.3022800237411914e-10, 3.302279676011384e-10]\n",
      "d01,d02,d12 = [0.9940325523237035, 0.9940325545460819, 0.9940325530343095]\n"
     ]
    },
    {
     "name": "stderr",
     "output_type": "stream",
     "text": [
      "/cluster/home/mskrabulis/miniconda3/envs/quantech/lib/python3.9/site-packages/pyscf/symm/Dmatrix.py:156: RuntimeWarning: invalid value encountered in arccos\n",
      "  gamma = numpy.arccos(yp.dot(c2[1]))\n",
      "Progress:  54%|█████▍    | 543/1000 [2:15:38<2:02:05, 16.03s/it]"
     ]
    },
    {
     "name": "stdout",
     "output_type": "stream",
     "text": [
      "Time to: Calculate Ground State - 1.0s, Get Pauli Ops - 6.53s, Calculate Pauli Expectation Values - 9.89s, Calculate Covariance - 1.94s\n",
      "f0,f1,f2 = [1.466174632414912e-10, 1.4661748832511536e-10, 1.4661745146365266e-10]\n",
      "d01,d02,d12 = [0.9895335146119677, 0.9895335167604687, 0.9895335152988639]\n"
     ]
    },
    {
     "name": "stderr",
     "output_type": "stream",
     "text": [
      "Progress:  54%|█████▍    | 544/1000 [2:15:51<1:55:40, 15.22s/it]"
     ]
    },
    {
     "name": "stdout",
     "output_type": "stream",
     "text": [
      "Time to: Calculate Ground State - 1.02s, Get Pauli Ops - 4.28s, Calculate Pauli Expectation Values - 6.08s, Calculate Covariance - 1.95s\n",
      "f0,f1,f2 = [8.583348861594834e-10, 8.58334860320791e-10, 8.58334898296511e-10]\n",
      "d01,d02,d12 = [0.9844053878376848, 0.984405389894, 0.9844053884950158]\n"
     ]
    },
    {
     "name": "stderr",
     "output_type": "stream",
     "text": [
      "/cluster/home/mskrabulis/miniconda3/envs/quantech/lib/python3.9/site-packages/pyscf/symm/Dmatrix.py:156: RuntimeWarning: invalid value encountered in arccos\n",
      "  gamma = numpy.arccos(yp.dot(c2[1]))\n",
      "Progress:  55%|█████▍    | 545/1000 [2:16:06<1:53:48, 15.01s/it]"
     ]
    },
    {
     "name": "stdout",
     "output_type": "stream",
     "text": [
      "Time to: Calculate Ground State - 1.22s, Get Pauli Ops - 4.89s, Calculate Pauli Expectation Values - 6.38s, Calculate Covariance - 2.01s\n",
      "f0,f1,f2 = [6.379948815905068e-10, 6.379949055965308e-10, 6.379948703117736e-10]\n",
      "d01,d02,d12 = [0.97999848413382, 0.9799984860822692, 0.9799984847565745]\n"
     ]
    },
    {
     "name": "stderr",
     "output_type": "stream",
     "text": [
      "Progress:  55%|█████▍    | 546/1000 [2:16:22<1:56:18, 15.37s/it]"
     ]
    },
    {
     "name": "stdout",
     "output_type": "stream",
     "text": [
      "Time to: Calculate Ground State - 1.08s, Get Pauli Ops - 6.26s, Calculate Pauli Expectation Values - 6.85s, Calculate Covariance - 2.03s\n",
      "f0,f1,f2 = [6.215802684631523e-10, 6.215802909718979e-10, 6.215802579043201e-10]\n",
      "d01,d02,d12 = [0.9759839262303723, 0.9759839280629622, 0.9759839268159913]\n"
     ]
    },
    {
     "name": "stderr",
     "output_type": "stream",
     "text": [
      "Progress:  55%|█████▍    | 547/1000 [2:16:34<1:49:53, 14.56s/it]"
     ]
    },
    {
     "name": "stdout",
     "output_type": "stream",
     "text": [
      "Time to: Calculate Ground State - 0.81s, Get Pauli Ops - 4.19s, Calculate Pauli Expectation Values - 5.79s, Calculate Covariance - 1.85s\n",
      "f0,f1,f2 = [1.746724725714309e-10, 1.7467249400833122e-10, 1.7467246249402655e-10]\n",
      "d01,d02,d12 = [0.9715500828556466, 0.971550084555501, 0.9715500833987334]\n"
     ]
    },
    {
     "name": "stderr",
     "output_type": "stream",
     "text": [
      "Progress:  55%|█████▍    | 548/1000 [2:16:47<1:45:47, 14.04s/it]"
     ]
    },
    {
     "name": "stdout",
     "output_type": "stream",
     "text": [
      "Time to: Calculate Ground State - 0.79s, Get Pauli Ops - 4.42s, Calculate Pauli Expectation Values - 5.82s, Calculate Covariance - 1.8s\n",
      "f0,f1,f2 = [8.899179979784703e-10, 8.899180186798441e-10, 8.899179882603661e-10]\n",
      "d01,d02,d12 = [0.9677698593061275, 0.9677698608547769, 0.9677698598007868]\n"
     ]
    },
    {
     "name": "stderr",
     "output_type": "stream",
     "text": [
      "/cluster/home/mskrabulis/miniconda3/envs/quantech/lib/python3.9/site-packages/pyscf/symm/Dmatrix.py:156: RuntimeWarning: invalid value encountered in arccos\n",
      "  gamma = numpy.arccos(yp.dot(c2[1]))\n",
      "Progress:  55%|█████▍    | 549/1000 [2:17:01<1:44:18, 13.88s/it]"
     ]
    },
    {
     "name": "stdout",
     "output_type": "stream",
     "text": [
      "Time to: Calculate Ground State - 1.03s, Get Pauli Ops - 4.43s, Calculate Pauli Expectation Values - 5.82s, Calculate Covariance - 2.19s\n",
      "f0,f1,f2 = [1.064816756761905e-09, 1.0648167740162927e-09, 1.0648167486625187e-09]\n",
      "d01,d02,d12 = [0.9647073204250689, 0.9647073218134921, 0.9647073208684205]\n"
     ]
    },
    {
     "name": "stderr",
     "output_type": "stream",
     "text": [
      "/cluster/home/mskrabulis/miniconda3/envs/quantech/lib/python3.9/site-packages/pyscf/symm/Dmatrix.py:156: RuntimeWarning: invalid value encountered in arccos\n",
      "  gamma = numpy.arccos(yp.dot(c2[1]))\n",
      "Progress:  55%|█████▌    | 550/1000 [2:17:17<1:50:14, 14.70s/it]"
     ]
    },
    {
     "name": "stdout",
     "output_type": "stream",
     "text": [
      "Time to: Calculate Ground State - 1.31s, Get Pauli Ops - 6.59s, Calculate Pauli Expectation Values - 6.65s, Calculate Covariance - 2.05s\n",
      "f0,f1,f2 = [4.088201228024196e-10, 4.088201433040667e-10, 4.0882011318145184e-10]\n",
      "d01,d02,d12 = [0.961942574395374, 0.9619425756124264, 0.9619425747838585]\n"
     ]
    },
    {
     "name": "stderr",
     "output_type": "stream",
     "text": [
      "Progress:  55%|█████▌    | 551/1000 [2:17:32<1:49:14, 14.60s/it]"
     ]
    },
    {
     "name": "stdout",
     "output_type": "stream",
     "text": [
      "Time to: Calculate Ground State - 1.38s, Get Pauli Ops - 5.39s, Calculate Pauli Expectation Values - 5.93s, Calculate Covariance - 1.65s\n",
      "f0,f1,f2 = [1.4507926817605175e-09, 1.4507926961847028e-09, 1.450792674983546e-09]\n",
      "d01,d02,d12 = [0.959681514543197, 0.9596815155777821, 0.9596815148732696]\n"
     ]
    },
    {
     "name": "stderr",
     "output_type": "stream",
     "text": [
      "/cluster/home/mskrabulis/miniconda3/envs/quantech/lib/python3.9/site-packages/pyscf/symm/Dmatrix.py:156: RuntimeWarning: invalid value encountered in arccos\n",
      "  gamma = numpy.arccos(yp.dot(c2[1]))\n",
      "Progress:  55%|█████▌    | 552/1000 [2:17:46<1:48:51, 14.58s/it]"
     ]
    },
    {
     "name": "stdout",
     "output_type": "stream",
     "text": [
      "Time to: Calculate Ground State - 0.98s, Get Pauli Ops - 5.0s, Calculate Pauli Expectation Values - 6.43s, Calculate Covariance - 2.11s\n",
      "f0,f1,f2 = [1.6161189779985749e-09, 1.6161189897181846e-09, 1.616118972491197e-09]\n",
      "d01,d02,d12 = [0.9579888528471994, 0.9579888536920798, 0.957988853116551]\n"
     ]
    },
    {
     "name": "stderr",
     "output_type": "stream",
     "text": [
      "/cluster/home/mskrabulis/miniconda3/envs/quantech/lib/python3.9/site-packages/pyscf/symm/Dmatrix.py:156: RuntimeWarning: invalid value encountered in arccos\n",
      "  gamma = numpy.arccos(yp.dot(c2[1]))\n",
      "Progress:  55%|█████▌    | 553/1000 [2:18:00<1:47:04, 14.37s/it]"
     ]
    },
    {
     "name": "stdout",
     "output_type": "stream",
     "text": [
      "Time to: Calculate Ground State - 1.3s, Get Pauli Ops - 4.53s, Calculate Pauli Expectation Values - 6.27s, Calculate Covariance - 1.78s\n",
      "f0,f1,f2 = [1.0361083387040986e-09, 1.0361083488391463e-09, 1.036108333955163e-09]\n",
      "d01,d02,d12 = [0.956588869134289, 0.9565888697817969, 0.9565888693404758]\n"
     ]
    },
    {
     "name": "stderr",
     "output_type": "stream",
     "text": [
      "/cluster/home/mskrabulis/miniconda3/envs/quantech/lib/python3.9/site-packages/pyscf/symm/Dmatrix.py:156: RuntimeWarning: invalid value encountered in arccos\n",
      "  gamma = numpy.arccos(yp.dot(c2[1]))\n",
      "Progress:  55%|█████▌    | 554/1000 [2:18:14<1:45:22, 14.18s/it]"
     ]
    },
    {
     "name": "stdout",
     "output_type": "stream",
     "text": [
      "Time to: Calculate Ground State - 1.08s, Get Pauli Ops - 4.62s, Calculate Pauli Expectation Values - 6.38s, Calculate Covariance - 1.62s\n",
      "f0,f1,f2 = [2.059651081930866e-09, 2.0596510902540107e-09, 2.05965107802262e-09]\n",
      "d01,d02,d12 = [0.9561841964888171, 0.9561841969340247, 0.9561841966302689]\n"
     ]
    },
    {
     "name": "stderr",
     "output_type": "stream",
     "text": [
      "/cluster/home/mskrabulis/miniconda3/envs/quantech/lib/python3.9/site-packages/pyscf/symm/Dmatrix.py:156: RuntimeWarning: invalid value encountered in arccos\n",
      "  gamma = numpy.arccos(yp.dot(c2[1]))\n",
      "Progress:  56%|█████▌    | 555/1000 [2:18:27<1:42:47, 13.86s/it]"
     ]
    },
    {
     "name": "stdout",
     "output_type": "stream",
     "text": [
      "Time to: Calculate Ground State - 0.95s, Get Pauli Ops - 4.49s, Calculate Pauli Expectation Values - 5.91s, Calculate Covariance - 1.77s\n",
      "f0,f1,f2 = [1.543230641075278e-09, 1.543230646762049e-09, 1.5432306384173655e-09]\n",
      "d01,d02,d12 = [0.9563938684478825, 0.9563938686874355, 0.9563938685235308]\n"
     ]
    },
    {
     "name": "stderr",
     "output_type": "stream",
     "text": [
      "Progress:  56%|█████▌    | 556/1000 [2:18:42<1:44:35, 14.13s/it]"
     ]
    },
    {
     "name": "stdout",
     "output_type": "stream",
     "text": [
      "Time to: Calculate Ground State - 0.94s, Get Pauli Ops - 6.48s, Calculate Pauli Expectation Values - 5.86s, Calculate Covariance - 1.48s\n",
      "f0,f1,f2 = [1.7475538261510936e-09, 1.7475538293775085e-09, 1.7475538246582117e-09]\n",
      "d01,d02,d12 = [0.9573105422048298, 0.9573105422368537, 0.957310542214081]\n"
     ]
    },
    {
     "name": "stderr",
     "output_type": "stream",
     "text": [
      "Progress:  56%|█████▌    | 557/1000 [2:18:56<1:44:56, 14.21s/it]"
     ]
    },
    {
     "name": "stdout",
     "output_type": "stream",
     "text": [
      "Time to: Calculate Ground State - 0.97s, Get Pauli Ops - 5.04s, Calculate Pauli Expectation Values - 6.15s, Calculate Covariance - 2.23s\n",
      "f0,f1,f2 = [8.510799166168155e-10, 8.5107991704209e-10, 8.510799164777069e-10]\n",
      "d01,d02,d12 = [0.9584942682255495, 0.9584942680497993, 0.9584942681683355]\n"
     ]
    },
    {
     "name": "stderr",
     "output_type": "stream",
     "text": [
      "Progress:  56%|█████▌    | 558/1000 [2:19:11<1:45:10, 14.28s/it]"
     ]
    },
    {
     "name": "stdout",
     "output_type": "stream",
     "text": [
      "Time to: Calculate Ground State - 1.06s, Get Pauli Ops - 5.78s, Calculate Pauli Expectation Values - 5.89s, Calculate Covariance - 1.69s\n",
      "f0,f1,f2 = [4.411396144154266e-10, 4.41139612293629e-10, 4.411396154441624e-10]\n",
      "d01,d02,d12 = [0.959794134397606, 0.9597941340155737, 0.9597941342744116]\n"
     ]
    },
    {
     "name": "stderr",
     "output_type": "stream",
     "text": [
      "Progress:  56%|█████▌    | 559/1000 [2:19:27<1:48:58, 14.83s/it]"
     ]
    },
    {
     "name": "stdout",
     "output_type": "stream",
     "text": [
      "Time to: Calculate Ground State - 1.32s, Get Pauli Ops - 7.17s, Calculate Pauli Expectation Values - 5.61s, Calculate Covariance - 2.01s\n",
      "f0,f1,f2 = [1.77258918065159e-09, 1.7725891760006397e-09, 1.772589182870607e-09]\n",
      "d01,d02,d12 = [0.9618407589241914, 0.9618407583385705, 0.9618407587358823]\n"
     ]
    },
    {
     "name": "stderr",
     "output_type": "stream",
     "text": [
      "Progress:  56%|█████▌    | 560/1000 [2:19:41<1:47:06, 14.61s/it]"
     ]
    },
    {
     "name": "stdout",
     "output_type": "stream",
     "text": [
      "Time to: Calculate Ground State - 1.07s, Get Pauli Ops - 5.1s, Calculate Pauli Expectation Values - 5.96s, Calculate Covariance - 1.95s\n",
      "f0,f1,f2 = [1.5119653327096125e-09, 1.5119653261366966e-09, 1.5119653358266025e-09]\n",
      "d01,d02,d12 = [0.9645207753875544, 0.9645207746021881, 0.9645207751353656]\n"
     ]
    },
    {
     "name": "stderr",
     "output_type": "stream",
     "text": [
      "Progress:  56%|█████▌    | 561/1000 [2:19:55<1:46:38, 14.58s/it]"
     ]
    },
    {
     "name": "stdout",
     "output_type": "stream",
     "text": [
      "Time to: Calculate Ground State - 1.04s, Get Pauli Ops - 4.26s, Calculate Pauli Expectation Values - 6.86s, Calculate Covariance - 2.33s\n",
      "f0,f1,f2 = [6.361912747322679e-10, 6.361912646743456e-10, 6.361912794946957e-10]\n",
      "d01,d02,d12 = [0.9670344295306557, 0.9670344285505116, 0.9670344292161825]\n"
     ]
    },
    {
     "name": "stderr",
     "output_type": "stream",
     "text": [
      "Progress:  56%|█████▌    | 562/1000 [2:20:12<1:50:03, 15.08s/it]"
     ]
    },
    {
     "name": "stdout",
     "output_type": "stream",
     "text": [
      "Time to: Calculate Ground State - 0.99s, Get Pauli Ops - 6.89s, Calculate Pauli Expectation Values - 6.35s, Calculate Covariance - 2.01s\n",
      "f0,f1,f2 = [5.688958158855242e-10, 5.688958266796412e-10, 5.688958107884792e-10]\n",
      "d01,d02,d12 = [0.969422136519061, 0.9694221353502706, 0.9694221361442689]\n"
     ]
    },
    {
     "name": "stderr",
     "output_type": "stream",
     "text": [
      "/cluster/home/mskrabulis/miniconda3/envs/quantech/lib/python3.9/site-packages/pyscf/symm/Dmatrix.py:156: RuntimeWarning: invalid value encountered in arccos\n",
      "  gamma = numpy.arccos(yp.dot(c2[1]))\n",
      "Progress:  56%|█████▋    | 563/1000 [2:20:27<1:50:46, 15.21s/it]"
     ]
    },
    {
     "name": "stdout",
     "output_type": "stream",
     "text": [
      "Time to: Calculate Ground State - 0.82s, Get Pauli Ops - 6.93s, Calculate Pauli Expectation Values - 5.93s, Calculate Covariance - 1.84s\n",
      "f0,f1,f2 = [1.1078040762738864e-09, 1.1078040628860705e-09, 1.1078040826033343e-09]\n",
      "d01,d02,d12 = [0.9723771920566352, 0.972377190704975, 0.9723771916233804]\n"
     ]
    },
    {
     "name": "stderr",
     "output_type": "stream",
     "text": [
      "Progress:  56%|█████▋    | 564/1000 [2:20:44<1:55:14, 15.86s/it]"
     ]
    },
    {
     "name": "stdout",
     "output_type": "stream",
     "text": [
      "Time to: Calculate Ground State - 1.07s, Get Pauli Ops - 4.03s, Calculate Pauli Expectation Values - 10.52s, Calculate Covariance - 1.75s\n",
      "f0,f1,f2 = [7.449421683817771e-10, 7.449421526665956e-10, 7.449421758094714e-10]\n",
      "d01,d02,d12 = [0.9758428188414034, 0.9758428173167414, 0.9758428183528529]\n"
     ]
    },
    {
     "name": "stderr",
     "output_type": "stream",
     "text": [
      "/cluster/home/mskrabulis/miniconda3/envs/quantech/lib/python3.9/site-packages/pyscf/symm/Dmatrix.py:156: RuntimeWarning: invalid value encountered in arccos\n",
      "  gamma = numpy.arccos(yp.dot(c2[1]))\n",
      "Progress:  56%|█████▋    | 565/1000 [2:21:01<1:56:05, 16.01s/it]"
     ]
    },
    {
     "name": "stdout",
     "output_type": "stream",
     "text": [
      "Time to: Calculate Ground State - 1.05s, Get Pauli Ops - 7.17s, Calculate Pauli Expectation Values - 6.27s, Calculate Covariance - 1.87s\n",
      "f0,f1,f2 = [1.9462140466738072e-10, 1.946213873319536e-10, 1.946214128429509e-10]\n",
      "d01,d02,d12 = [0.9793760014006603, 0.9793759997139441, 0.9793760008603265]\n"
     ]
    },
    {
     "name": "stderr",
     "output_type": "stream",
     "text": [
      "Progress:  57%|█████▋    | 566/1000 [2:21:18<1:57:36, 16.26s/it]"
     ]
    },
    {
     "name": "stdout",
     "output_type": "stream",
     "text": [
      "Time to: Calculate Ground State - 1.34s, Get Pauli Ops - 4.95s, Calculate Pauli Expectation Values - 8.15s, Calculate Covariance - 2.39s\n",
      "f0,f1,f2 = [1.075754180509323e-09, 1.0757541602304027e-09, 1.0757541900664249e-09]\n",
      "d01,d02,d12 = [0.9828261507249105, 0.9828261488901119, 0.9828261501372652]\n"
     ]
    },
    {
     "name": "stderr",
     "output_type": "stream",
     "text": [
      "Progress:  57%|█████▋    | 567/1000 [2:21:32<1:53:02, 15.66s/it]"
     ]
    },
    {
     "name": "stdout",
     "output_type": "stream",
     "text": [
      "Time to: Calculate Ground State - 1.25s, Get Pauli Ops - 4.67s, Calculate Pauli Expectation Values - 6.13s, Calculate Covariance - 2.22s\n",
      "f0,f1,f2 = [1.7430068360619654e-10, 1.7430066454439003e-10, 1.7430069256781342e-10]\n",
      "d01,d02,d12 = [0.9863152227910218, 0.986315220818578, 0.9863152221594053]\n"
     ]
    },
    {
     "name": "stderr",
     "output_type": "stream",
     "text": [
      "/cluster/home/mskrabulis/miniconda3/envs/quantech/lib/python3.9/site-packages/pyscf/symm/Dmatrix.py:156: RuntimeWarning: invalid value encountered in arccos\n",
      "  gamma = numpy.arccos(yp.dot(c2[1]))\n",
      "Progress:  57%|█████▋    | 568/1000 [2:21:46<1:50:25, 15.34s/it]"
     ]
    },
    {
     "name": "stdout",
     "output_type": "stream",
     "text": [
      "Time to: Calculate Ground State - 1.32s, Get Pauli Ops - 4.76s, Calculate Pauli Expectation Values - 6.54s, Calculate Covariance - 1.96s\n",
      "f0,f1,f2 = [7.741924703617995e-10, 7.741924944388173e-10, 7.741924590199428e-10]\n",
      "d01,d02,d12 = [0.9895546104835833, 0.9895546083876996, 0.9895546098125404]\n"
     ]
    },
    {
     "name": "stderr",
     "output_type": "stream",
     "text": [
      "Progress:  57%|█████▋    | 569/1000 [2:22:05<1:56:00, 16.15s/it]"
     ]
    },
    {
     "name": "stdout",
     "output_type": "stream",
     "text": [
      "Time to: Calculate Ground State - 1.3s, Get Pauli Ops - 4.51s, Calculate Pauli Expectation Values - 9.93s, Calculate Covariance - 2.31s\n",
      "f0,f1,f2 = [1.0506019978242374e-09, 1.0506020182580244e-09, 1.0506019882188608e-09]\n",
      "d01,d02,d12 = [0.9923002138857666, 0.9923002116859896, 0.992300213181554]\n"
     ]
    },
    {
     "name": "stderr",
     "output_type": "stream",
     "text": [
      "/cluster/home/mskrabulis/miniconda3/envs/quantech/lib/python3.9/site-packages/pyscf/symm/Dmatrix.py:156: RuntimeWarning: invalid value encountered in arccos\n",
      "  gamma = numpy.arccos(yp.dot(c2[1]))\n",
      "Progress:  57%|█████▋    | 570/1000 [2:22:18<1:50:14, 15.38s/it]"
     ]
    },
    {
     "name": "stdout",
     "output_type": "stream",
     "text": [
      "Time to: Calculate Ground State - 1.11s, Get Pauli Ops - 4.58s, Calculate Pauli Expectation Values - 6.0s, Calculate Covariance - 1.89s\n",
      "f0,f1,f2 = [7.231112163154696e-10, 7.231112395424828e-10, 7.231112053881853e-10]\n",
      "d01,d02,d12 = [0.9947000619947076, 0.9947000597052724, 0.994700061261881]\n"
     ]
    },
    {
     "name": "stderr",
     "output_type": "stream",
     "text": [
      "Progress:  57%|█████▋    | 571/1000 [2:22:33<1:48:51, 15.22s/it]"
     ]
    },
    {
     "name": "stdout",
     "output_type": "stream",
     "text": [
      "Time to: Calculate Ground State - 1.26s, Get Pauli Ops - 5.97s, Calculate Pauli Expectation Values - 5.93s, Calculate Covariance - 1.7s\n",
      "f0,f1,f2 = [9.047968470807553e-10, 9.047968724506961e-10, 9.047968351317925e-10]\n",
      "d01,d02,d12 = [0.9966330732908413, 0.9966330709293009, 0.9966330725350201]\n"
     ]
    },
    {
     "name": "stderr",
     "output_type": "stream",
     "text": [
      "Progress:  57%|█████▋    | 572/1000 [2:22:47<1:45:08, 14.74s/it]"
     ]
    },
    {
     "name": "stdout",
     "output_type": "stream",
     "text": [
      "Time to: Calculate Ground State - 0.77s, Get Pauli Ops - 4.89s, Calculate Pauli Expectation Values - 6.13s, Calculate Covariance - 1.81s\n",
      "f0,f1,f2 = [5.410653895143309e-10, 5.4106541384989e-10, 5.410653780690048e-10]\n",
      "d01,d02,d12 = [0.9982288238856093, 0.9982288214685034, 0.9982288231120835]\n"
     ]
    },
    {
     "name": "stderr",
     "output_type": "stream",
     "text": [
      "Progress:  57%|█████▋    | 573/1000 [2:23:01<1:45:04, 14.77s/it]"
     ]
    },
    {
     "name": "stdout",
     "output_type": "stream",
     "text": [
      "Time to: Calculate Ground State - 1.33s, Get Pauli Ops - 4.46s, Calculate Pauli Expectation Values - 6.56s, Calculate Covariance - 2.46s\n",
      "f0,f1,f2 = [3.239704471714113e-10, 3.239704721575098e-10, 3.2397043541408046e-10]\n",
      "d01,d02,d12 = [0.9998202193067175, 0.9998202168496931, 0.9998202185204936]\n"
     ]
    },
    {
     "name": "stderr",
     "output_type": "stream",
     "text": [
      "Progress:  57%|█████▋    | 574/1000 [2:23:17<1:47:11, 15.10s/it]"
     ]
    },
    {
     "name": "stdout",
     "output_type": "stream",
     "text": [
      "Time to: Calculate Ground State - 1.14s, Get Pauli Ops - 4.79s, Calculate Pauli Expectation Values - 7.77s, Calculate Covariance - 2.16s\n",
      "f0,f1,f2 = [1.377773008346351e-09, 1.3777729828529374e-09, 1.3777730203467859e-09]\n",
      "d01,d02,d12 = [1.0020722909874356, 1.0020722885029685, 1.0020722901925034]\n"
     ]
    },
    {
     "name": "stderr",
     "output_type": "stream",
     "text": [
      "/cluster/home/mskrabulis/miniconda3/envs/quantech/lib/python3.9/site-packages/pyscf/symm/Dmatrix.py:156: RuntimeWarning: invalid value encountered in arccos\n",
      "  gamma = numpy.arccos(yp.dot(c2[1]))\n",
      "Progress:  57%|█████▊    | 575/1000 [2:23:31<1:44:25, 14.74s/it]"
     ]
    },
    {
     "name": "stdout",
     "output_type": "stream",
     "text": [
      "Time to: Calculate Ground State - 1.02s, Get Pauli Ops - 4.32s, Calculate Pauli Expectation Values - 6.69s, Calculate Covariance - 1.87s\n",
      "f0,f1,f2 = [4.633508059385336e-10, 4.633508326657018e-10, 4.633507933609684e-10]\n",
      "d01,d02,d12 = [1.0041002375977746, 1.0041002351001183, 1.0041002367986966]\n"
     ]
    },
    {
     "name": "stderr",
     "output_type": "stream",
     "text": [
      "Progress:  58%|█████▊    | 576/1000 [2:23:44<1:41:00, 14.29s/it]"
     ]
    },
    {
     "name": "stdout",
     "output_type": "stream",
     "text": [
      "Time to: Calculate Ground State - 1.0s, Get Pauli Ops - 4.46s, Calculate Pauli Expectation Values - 6.03s, Calculate Covariance - 1.75s\n",
      "f0,f1,f2 = [1.4274555559902153e-09, 1.427455581529884e-09, 1.4274555439617308e-09]\n",
      "d01,d02,d12 = [1.0056116729169773, 1.0056116704212663, 1.0056116721185988]\n"
     ]
    },
    {
     "name": "stderr",
     "output_type": "stream",
     "text": [
      "Progress:  58%|█████▊    | 577/1000 [2:24:02<1:46:43, 15.14s/it]"
     ]
    },
    {
     "name": "stdout",
     "output_type": "stream",
     "text": [
      "Time to: Calculate Ground State - 1.05s, Get Pauli Ops - 6.99s, Calculate Pauli Expectation Values - 6.75s, Calculate Covariance - 2.3s\n",
      "f0,f1,f2 = [8.088895132163113e-10, 8.08889541762988e-10, 8.08889499766389e-10]\n",
      "d01,d02,d12 = [1.006658020249765, 1.0066580177748365, 1.006658019458112]\n"
     ]
    },
    {
     "name": "stderr",
     "output_type": "stream",
     "text": [
      "/cluster/home/mskrabulis/miniconda3/envs/quantech/lib/python3.9/site-packages/pyscf/symm/Dmatrix.py:156: RuntimeWarning: invalid value encountered in arccos\n",
      "  gamma = numpy.arccos(yp.dot(c2[1]))\n",
      "Progress:  58%|█████▊    | 578/1000 [2:24:17<1:47:29, 15.28s/it]"
     ]
    },
    {
     "name": "stdout",
     "output_type": "stream",
     "text": [
      "Time to: Calculate Ground State - 1.04s, Get Pauli Ops - 5.98s, Calculate Pauli Expectation Values - 6.35s, Calculate Covariance - 2.24s\n",
      "f0,f1,f2 = [1.290623565405e-09, 1.2906235890760871e-09, 1.290623554261113e-09]\n",
      "d01,d02,d12 = [1.007322826394991, 1.0073228239565415, 1.0073228256150857]\n"
     ]
    },
    {
     "name": "stderr",
     "output_type": "stream",
     "text": [
      "Progress:  58%|█████▊    | 579/1000 [2:24:31<1:44:25, 14.88s/it]"
     ]
    },
    {
     "name": "stdout",
     "output_type": "stream",
     "text": [
      "Time to: Calculate Ground State - 1.23s, Get Pauli Ops - 4.4s, Calculate Pauli Expectation Values - 6.12s, Calculate Covariance - 2.19s\n",
      "f0,f1,f2 = [8.189454485629417e-10, 8.189454744924303e-10, 8.18945436371289e-10]\n",
      "d01,d02,d12 = [1.0076180883730652, 1.0076180859862693, 1.0076180876097613]\n"
     ]
    },
    {
     "name": "stderr",
     "output_type": "stream",
     "text": [
      "Progress:  58%|█████▊    | 580/1000 [2:24:45<1:42:54, 14.70s/it]"
     ]
    },
    {
     "name": "stdout",
     "output_type": "stream",
     "text": [
      "Time to: Calculate Ground State - 0.79s, Get Pauli Ops - 4.32s, Calculate Pauli Expectation Values - 7.05s, Calculate Covariance - 2.12s\n",
      "f0,f1,f2 = [4.4172931496064724e-11, 4.4172954732005153e-11, 4.417292060248005e-11]\n",
      "d01,d02,d12 = [1.0078800595641848, 1.0078800572417548, 1.0078800588215424]\n"
     ]
    },
    {
     "name": "stderr",
     "output_type": "stream",
     "text": [
      "Progress:  58%|█████▊    | 581/1000 [2:25:01<1:45:31, 15.11s/it]"
     ]
    },
    {
     "name": "stdout",
     "output_type": "stream",
     "text": [
      "Time to: Calculate Ground State - 1.37s, Get Pauli Ops - 4.54s, Calculate Pauli Expectation Values - 8.12s, Calculate Covariance - 2.03s\n",
      "f0,f1,f2 = [5.194835740243242e-10, 5.194835972107727e-10, 5.194835631264924e-10]\n",
      "d01,d02,d12 = [1.00792603861616, 1.007926036370967, 1.007926037898296]\n"
     ]
    },
    {
     "name": "stderr",
     "output_type": "stream",
     "text": [
      "Progress:  58%|█████▊    | 582/1000 [2:25:20<1:51:46, 16.05s/it]"
     ]
    },
    {
     "name": "stdout",
     "output_type": "stream",
     "text": [
      "Time to: Calculate Ground State - 1.32s, Get Pauli Ops - 8.16s, Calculate Pauli Expectation Values - 6.68s, Calculate Covariance - 2.05s\n",
      "f0,f1,f2 = [3.2464546600964096e-10, 3.246454845404842e-10, 3.246454572852347e-10]\n",
      "d01,d02,d12 = [1.007831690624284, 1.0078316884663518, 1.0078316899344064]\n"
     ]
    },
    {
     "name": "stderr",
     "output_type": "stream",
     "text": [
      "Progress:  58%|█████▊    | 583/1000 [2:25:33<1:44:51, 15.09s/it]"
     ]
    },
    {
     "name": "stdout",
     "output_type": "stream",
     "text": [
      "Time to: Calculate Ground State - 1.05s, Get Pauli Ops - 4.2s, Calculate Pauli Expectation Values - 5.64s, Calculate Covariance - 1.96s\n",
      "f0,f1,f2 = [1.0537790027079293e-09, 1.0537790257210978e-09, 1.0537789919140768e-09]\n",
      "d01,d02,d12 = [1.007290160123345, 1.0072901580677294, 1.0072901594662647]\n"
     ]
    },
    {
     "name": "stderr",
     "output_type": "stream",
     "text": [
      "/cluster/home/mskrabulis/miniconda3/envs/quantech/lib/python3.9/site-packages/pyscf/symm/Dmatrix.py:156: RuntimeWarning: invalid value encountered in arccos\n",
      "  gamma = numpy.arccos(yp.dot(c2[1]))\n",
      "Progress:  58%|█████▊    | 584/1000 [2:25:47<1:43:52, 14.98s/it]"
     ]
    },
    {
     "name": "stdout",
     "output_type": "stream",
     "text": [
      "Time to: Calculate Ground State - 1.3s, Get Pauli Ops - 5.66s, Calculate Pauli Expectation Values - 5.42s, Calculate Covariance - 2.36s\n",
      "f0,f1,f2 = [5.905091713231336e-10, 5.905091933768267e-10, 5.905091609768023e-10]\n",
      "d01,d02,d12 = [1.0065734310698384, 1.0065734291298216, 1.0065734304497989]\n"
     ]
    },
    {
     "name": "stderr",
     "output_type": "stream",
     "text": [
      "Progress:  58%|█████▊    | 585/1000 [2:26:01<1:41:38, 14.69s/it]"
     ]
    },
    {
     "name": "stdout",
     "output_type": "stream",
     "text": [
      "Time to: Calculate Ground State - 1.03s, Get Pauli Ops - 4.85s, Calculate Pauli Expectation Values - 6.24s, Calculate Covariance - 1.88s\n",
      "f0,f1,f2 = [9.90616258612744e-11, 9.906160694733192e-11, 9.90616347315763e-11]\n",
      "d01,d02,d12 = [1.0058565825987582, 1.005856580786394, 1.0058565820196081]\n"
     ]
    },
    {
     "name": "stderr",
     "output_type": "stream",
     "text": [
      "/cluster/home/mskrabulis/miniconda3/envs/quantech/lib/python3.9/site-packages/pyscf/symm/Dmatrix.py:156: RuntimeWarning: invalid value encountered in arccos\n",
      "  gamma = numpy.arccos(yp.dot(c2[1]))\n",
      "Progress:  59%|█████▊    | 586/1000 [2:26:16<1:40:46, 14.60s/it]"
     ]
    },
    {
     "name": "stdout",
     "output_type": "stream",
     "text": [
      "Time to: Calculate Ground State - 1.14s, Get Pauli Ops - 4.99s, Calculate Pauli Expectation Values - 6.24s, Calculate Covariance - 2.02s\n",
      "f0,f1,f2 = [1.0071740726285276e-09, 1.0071740921641274e-09, 1.007174063491329e-09]\n",
      "d01,d02,d12 = [1.0047588530278622, 1.004758851354614, 1.0047588524932631]\n"
     ]
    },
    {
     "name": "stderr",
     "output_type": "stream",
     "text": [
      "/cluster/home/mskrabulis/miniconda3/envs/quantech/lib/python3.9/site-packages/pyscf/symm/Dmatrix.py:156: RuntimeWarning: invalid value encountered in arccos\n",
      "  gamma = numpy.arccos(yp.dot(c2[1]))\n",
      "Progress:  59%|█████▊    | 587/1000 [2:26:29<1:38:52, 14.36s/it]"
     ]
    },
    {
     "name": "stdout",
     "output_type": "stream",
     "text": [
      "Time to: Calculate Ground State - 1.08s, Get Pauli Ops - 4.49s, Calculate Pauli Expectation Values - 6.3s, Calculate Covariance - 1.93s\n",
      "f0,f1,f2 = [1.0257591459847955e-09, 1.0257591648881132e-09, 1.025759137115455e-09]\n",
      "d01,d02,d12 = [1.0032431329177807, 1.0032431313953742, 1.0032431324314806]\n"
     ]
    },
    {
     "name": "stderr",
     "output_type": "stream",
     "text": [
      "/cluster/home/mskrabulis/miniconda3/envs/quantech/lib/python3.9/site-packages/pyscf/symm/Dmatrix.py:156: RuntimeWarning: invalid value encountered in arccos\n",
      "  gamma = numpy.arccos(yp.dot(c2[1]))\n",
      "Progress:  59%|█████▉    | 588/1000 [2:26:44<1:38:38, 14.36s/it]"
     ]
    },
    {
     "name": "stdout",
     "output_type": "stream",
     "text": [
      "Time to: Calculate Ground State - 1.0s, Get Pauli Ops - 4.7s, Calculate Pauli Expectation Values - 6.43s, Calculate Covariance - 2.22s\n",
      "f0,f1,f2 = [9.439470654809982e-10, 9.439470802695644e-10, 9.439470585488038e-10]\n",
      "d01,d02,d12 = [1.0015443360756817, 1.0015443347135833, 1.001544335640705]\n"
     ]
    },
    {
     "name": "stderr",
     "output_type": "stream",
     "text": [
      "/cluster/home/mskrabulis/miniconda3/envs/quantech/lib/python3.9/site-packages/pyscf/symm/Dmatrix.py:156: RuntimeWarning: invalid value encountered in arccos\n",
      "  gamma = numpy.arccos(yp.dot(c2[1]))\n",
      "/cluster/home/mskrabulis/miniconda3/envs/quantech/lib/python3.9/site-packages/pyscf/symm/Dmatrix.py:156: RuntimeWarning: invalid value encountered in arccos\n",
      "  gamma = numpy.arccos(yp.dot(c2[1]))\n",
      "Progress:  59%|█████▉    | 589/1000 [2:26:58<1:38:02, 14.31s/it]"
     ]
    },
    {
     "name": "stdout",
     "output_type": "stream",
     "text": [
      "Time to: Calculate Ground State - 1.02s, Get Pauli Ops - 4.61s, Calculate Pauli Expectation Values - 6.36s, Calculate Covariance - 2.21s\n",
      "f0,f1,f2 = [7.906816480998823e-10, 7.90681663573366e-10, 7.906816408533376e-10]\n",
      "d01,d02,d12 = [0.9996903210059485, 0.9996903198144517, 0.9996903206255825]\n"
     ]
    },
    {
     "name": "stderr",
     "output_type": "stream",
     "text": [
      "Progress:  59%|█████▉    | 590/1000 [2:27:13<1:39:44, 14.60s/it]"
     ]
    },
    {
     "name": "stdout",
     "output_type": "stream",
     "text": [
      "Time to: Calculate Ground State - 1.01s, Get Pauli Ops - 4.3s, Calculate Pauli Expectation Values - 7.92s, Calculate Covariance - 2.02s\n",
      "f0,f1,f2 = [2.0560017491658083e-09, 2.0560017610280895e-09, 2.0560017436154772e-09]\n",
      "d01,d02,d12 = [0.9967164015961798, 0.9967164005859754, 0.9967164012738363]\n"
     ]
    },
    {
     "name": "stderr",
     "output_type": "stream",
     "text": [
      "Progress:  59%|█████▉    | 591/1000 [2:27:26<1:35:03, 13.95s/it]"
     ]
    },
    {
     "name": "stdout",
     "output_type": "stream",
     "text": [
      "Time to: Calculate Ground State - 0.84s, Get Pauli Ops - 4.36s, Calculate Pauli Expectation Values - 5.54s, Calculate Covariance - 1.68s\n",
      "f0,f1,f2 = [2.580953068996758e-10, 2.5809529780408e-10, 2.58095311173262e-10]\n",
      "d01,d02,d12 = [0.993668500187586, 0.9936684993638475, 0.993668499924919]\n"
     ]
    },
    {
     "name": "stderr",
     "output_type": "stream",
     "text": [
      "Progress:  59%|█████▉    | 592/1000 [2:27:39<1:34:16, 13.86s/it]"
     ]
    },
    {
     "name": "stdout",
     "output_type": "stream",
     "text": [
      "Time to: Calculate Ground State - 1.13s, Get Pauli Ops - 4.58s, Calculate Pauli Expectation Values - 5.81s, Calculate Covariance - 2.14s\n",
      "f0,f1,f2 = [9.574667435672354e-10, 9.57466753319715e-10, 9.574667389969973e-10]\n",
      "d01,d02,d12 = [0.989998656888713, 0.9899986562573195, 0.9899986566876012]\n"
     ]
    },
    {
     "name": "stderr",
     "output_type": "stream",
     "text": [
      "Progress:  59%|█████▉    | 593/1000 [2:27:54<1:35:40, 14.10s/it]"
     ]
    },
    {
     "name": "stdout",
     "output_type": "stream",
     "text": [
      "Time to: Calculate Ground State - 1.03s, Get Pauli Ops - 5.0s, Calculate Pauli Expectation Values - 6.45s, Calculate Covariance - 2.18s\n",
      "f0,f1,f2 = [3.0312815160238843e-10, 3.0312815910048254e-10, 3.0312814809086213e-10]\n",
      "d01,d02,d12 = [0.9864761375984755, 0.986476137165464, 0.9864761374608427]\n"
     ]
    },
    {
     "name": "stderr",
     "output_type": "stream",
     "text": [
      "Progress:  59%|█████▉    | 594/1000 [2:28:08<1:35:37, 14.13s/it]"
     ]
    },
    {
     "name": "stdout",
     "output_type": "stream",
     "text": [
      "Time to: Calculate Ground State - 1.21s, Get Pauli Ops - 4.53s, Calculate Pauli Expectation Values - 6.41s, Calculate Covariance - 2.05s\n",
      "f0,f1,f2 = [4.5800759380809415e-10, 4.580075982596837e-10, 4.580075917349241e-10]\n",
      "d01,d02,d12 = [0.9823849375977061, 0.9823849373660236, 0.9823849375244876]\n"
     ]
    },
    {
     "name": "stderr",
     "output_type": "stream",
     "text": [
      "/cluster/home/mskrabulis/miniconda3/envs/quantech/lib/python3.9/site-packages/pyscf/symm/Dmatrix.py:156: RuntimeWarning: invalid value encountered in arccos\n",
      "  gamma = numpy.arccos(yp.dot(c2[1]))\n",
      "Progress:  60%|█████▉    | 595/1000 [2:28:25<1:39:52, 14.80s/it]"
     ]
    },
    {
     "name": "stdout",
     "output_type": "stream",
     "text": [
      "Time to: Calculate Ground State - 0.76s, Get Pauli Ops - 4.63s, Calculate Pauli Expectation Values - 8.7s, Calculate Covariance - 2.25s\n",
      "f0,f1,f2 = [6.426666781859781e-11, 6.426666536393574e-11, 6.42666689556715e-11]\n",
      "d01,d02,d12 = [0.9783695482859174, 0.9783695482567666, 0.9783695482774949]\n"
     ]
    },
    {
     "name": "stderr",
     "output_type": "stream",
     "text": [
      "/cluster/home/mskrabulis/miniconda3/envs/quantech/lib/python3.9/site-packages/pyscf/symm/Dmatrix.py:156: RuntimeWarning: invalid value encountered in arccos\n",
      "  gamma = numpy.arccos(yp.dot(c2[1]))\n",
      "Progress:  60%|█████▉    | 596/1000 [2:28:39<1:37:56, 14.55s/it]"
     ]
    },
    {
     "name": "stdout",
     "output_type": "stream",
     "text": [
      "Time to: Calculate Ground State - 0.75s, Get Pauli Ops - 4.57s, Calculate Pauli Expectation Values - 6.49s, Calculate Covariance - 2.14s\n",
      "f0,f1,f2 = [1.1974880217835283e-10, 1.1974880186338408e-10, 1.1974880232096582e-10]\n",
      "d01,d02,d12 = [0.9748265435985328, 0.9748265437720974, 0.9748265436549618]\n"
     ]
    },
    {
     "name": "stderr",
     "output_type": "stream",
     "text": [
      "/cluster/home/mskrabulis/miniconda3/envs/quantech/lib/python3.9/site-packages/pyscf/symm/Dmatrix.py:156: RuntimeWarning: invalid value encountered in arccos\n",
      "  gamma = numpy.arccos(yp.dot(c2[1]))\n",
      "Progress:  60%|█████▉    | 597/1000 [2:28:55<1:42:29, 15.26s/it]"
     ]
    },
    {
     "name": "stdout",
     "output_type": "stream",
     "text": [
      "Time to: Calculate Ground State - 1.09s, Get Pauli Ops - 4.65s, Calculate Pauli Expectation Values - 8.86s, Calculate Covariance - 2.32s\n",
      "f0,f1,f2 = [3.427576167815844e-10, 3.4275761867895375e-10, 3.427576158735569e-10]\n",
      "d01,d02,d12 = [0.9715466904007362, 0.971546690775967, 0.9715466905216815]\n"
     ]
    },
    {
     "name": "stderr",
     "output_type": "stream",
     "text": [
      "Progress:  60%|█████▉    | 598/1000 [2:29:09<1:38:24, 14.69s/it]"
     ]
    },
    {
     "name": "stdout",
     "output_type": "stream",
     "text": [
      "Time to: Calculate Ground State - 0.8s, Get Pauli Ops - 4.17s, Calculate Pauli Expectation Values - 6.6s, Calculate Covariance - 1.78s\n",
      "f0,f1,f2 = [7.00662004584432e-10, 7.006620088174151e-10, 7.006620025580777e-10]\n",
      "d01,d02,d12 = [0.9684740241586081, 0.9684740247334379, 0.9684740243434028]\n"
     ]
    },
    {
     "name": "stderr",
     "output_type": "stream",
     "text": [
      "Progress:  60%|█████▉    | 599/1000 [2:29:22<1:35:19, 14.26s/it]"
     ]
    },
    {
     "name": "stdout",
     "output_type": "stream",
     "text": [
      "Time to: Calculate Ground State - 1.01s, Get Pauli Ops - 4.56s, Calculate Pauli Expectation Values - 5.7s, Calculate Covariance - 2.0s\n",
      "f0,f1,f2 = [1.0366558487456901e-09, 1.036655855887182e-09, 1.0366558453529065e-09]\n",
      "d01,d02,d12 = [0.9660944336719678, 0.9660944344436819, 0.9660944339197404]\n"
     ]
    },
    {
     "name": "stderr",
     "output_type": "stream",
     "text": [
      "Progress:  60%|██████    | 600/1000 [2:29:39<1:39:38, 14.95s/it]"
     ]
    },
    {
     "name": "stdout",
     "output_type": "stream",
     "text": [
      "Time to: Calculate Ground State - 1.21s, Get Pauli Ops - 4.41s, Calculate Pauli Expectation Values - 8.7s, Calculate Covariance - 2.21s\n",
      "f0,f1,f2 = [4.355716356450052e-10, 4.355716455411607e-10, 4.3557163096466077e-10]\n",
      "d01,d02,d12 = [0.9635829459963987, 0.9635829469585027, 0.9635829463050634]\n"
     ]
    },
    {
     "name": "stderr",
     "output_type": "stream",
     "text": [
      "/cluster/home/mskrabulis/miniconda3/envs/quantech/lib/python3.9/site-packages/pyscf/symm/Dmatrix.py:156: RuntimeWarning: invalid value encountered in arccos\n",
      "  gamma = numpy.arccos(yp.dot(c2[1]))\n",
      "Progress:  60%|██████    | 601/1000 [2:29:53<1:37:14, 14.62s/it]"
     ]
    },
    {
     "name": "stdout",
     "output_type": "stream",
     "text": [
      "Time to: Calculate Ground State - 1.21s, Get Pauli Ops - 4.61s, Calculate Pauli Expectation Values - 6.11s, Calculate Covariance - 1.94s\n",
      "f0,f1,f2 = [6.285952564238838e-11, 6.285951383780368e-11, 6.285953122719363e-11]\n",
      "d01,d02,d12 = [0.9610312270235117, 0.9610312281692015, 0.9610312273908835]\n"
     ]
    },
    {
     "name": "stderr",
     "output_type": "stream",
     "text": [
      "Progress:  60%|██████    | 602/1000 [2:30:06<1:35:24, 14.38s/it]"
     ]
    },
    {
     "name": "stdout",
     "output_type": "stream",
     "text": [
      "Time to: Calculate Ground State - 1.29s, Get Pauli Ops - 4.9s, Calculate Pauli Expectation Values - 5.81s, Calculate Covariance - 1.83s\n",
      "f0,f1,f2 = [1.6956142779665195e-09, 1.695614292113477e-09, 1.6956142712996011e-09]\n",
      "d01,d02,d12 = [0.9594159828490647, 0.959415984169909, 0.9594159832724419]\n"
     ]
    },
    {
     "name": "stderr",
     "output_type": "stream",
     "text": [
      "/cluster/home/mskrabulis/miniconda3/envs/quantech/lib/python3.9/site-packages/pyscf/symm/Dmatrix.py:156: RuntimeWarning: invalid value encountered in arccos\n",
      "  gamma = numpy.arccos(yp.dot(c2[1]))\n",
      "Progress:  60%|██████    | 603/1000 [2:30:20<1:33:50, 14.18s/it]"
     ]
    },
    {
     "name": "stdout",
     "output_type": "stream",
     "text": [
      "Time to: Calculate Ground State - 1.11s, Get Pauli Ops - 4.78s, Calculate Pauli Expectation Values - 6.06s, Calculate Covariance - 1.75s\n",
      "f0,f1,f2 = [8.773060954372232e-10, 8.773061128250391e-10, 8.773060872421342e-10]\n",
      "d01,d02,d12 = [0.9580318402125511, 0.9580318416965309, 0.9580318406880817]\n"
     ]
    },
    {
     "name": "stderr",
     "output_type": "stream",
     "text": [
      "Progress:  60%|██████    | 604/1000 [2:30:34<1:32:33, 14.02s/it]"
     ]
    },
    {
     "name": "stdout",
     "output_type": "stream",
     "text": [
      "Time to: Calculate Ground State - 0.76s, Get Pauli Ops - 4.71s, Calculate Pauli Expectation Values - 6.08s, Calculate Covariance - 2.1s\n",
      "f0,f1,f2 = [1.1156124080902327e-09, 1.1156124266266604e-09, 1.11561239935394e-09]\n",
      "d01,d02,d12 = [0.9571192658297545, 0.9571192674654124, 0.9571192663537662]\n"
     ]
    },
    {
     "name": "stderr",
     "output_type": "stream",
     "text": [
      "Progress:  60%|██████    | 605/1000 [2:30:52<1:40:16, 15.23s/it]"
     ]
    },
    {
     "name": "stdout",
     "output_type": "stream",
     "text": [
      "Time to: Calculate Ground State - 0.96s, Get Pauli Ops - 9.22s, Calculate Pauli Expectation Values - 5.83s, Calculate Covariance - 2.03s\n",
      "f0,f1,f2 = [1.3590819665913334e-09, 1.3590819862709358e-09, 1.3590819572964868e-09]\n",
      "d01,d02,d12 = [0.9567227715334429, 0.956722773308061, 0.9567227721018566]\n"
     ]
    },
    {
     "name": "stderr",
     "output_type": "stream",
     "text": [
      "Progress:  61%|██████    | 606/1000 [2:31:06<1:38:45, 15.04s/it]"
     ]
    },
    {
     "name": "stdout",
     "output_type": "stream",
     "text": [
      "Time to: Calculate Ground State - 0.87s, Get Pauli Ops - 4.47s, Calculate Pauli Expectation Values - 6.79s, Calculate Covariance - 2.45s\n",
      "f0,f1,f2 = [1.684922016179907e-09, 1.6849220391077225e-09, 1.6849220053774844e-09]\n",
      "d01,d02,d12 = [0.9570405295902551, 0.9570405314897765, 0.9570405301985686]\n"
     ]
    },
    {
     "name": "stderr",
     "output_type": "stream",
     "text": [
      "/cluster/home/mskrabulis/miniconda3/envs/quantech/lib/python3.9/site-packages/pyscf/symm/Dmatrix.py:156: RuntimeWarning: invalid value encountered in arccos\n",
      "  gamma = numpy.arccos(yp.dot(c2[1]))\n",
      "Progress:  61%|██████    | 607/1000 [2:31:20<1:36:23, 14.72s/it]"
     ]
    },
    {
     "name": "stdout",
     "output_type": "stream",
     "text": [
      "Time to: Calculate Ground State - 1.28s, Get Pauli Ops - 4.57s, Calculate Pauli Expectation Values - 6.14s, Calculate Covariance - 1.97s\n",
      "f0,f1,f2 = [7.797402754376675e-10, 7.797402992789729e-10, 7.797402642266893e-10]\n",
      "d01,d02,d12 = [0.9576476582859458, 0.9576476602954417, 0.957647658929381]\n"
     ]
    },
    {
     "name": "stderr",
     "output_type": "stream",
     "text": [
      "Progress:  61%|██████    | 608/1000 [2:31:35<1:36:45, 14.81s/it]"
     ]
    },
    {
     "name": "stdout",
     "output_type": "stream",
     "text": [
      "Time to: Calculate Ground State - 0.76s, Get Pauli Ops - 6.35s, Calculate Pauli Expectation Values - 5.86s, Calculate Covariance - 2.05s\n",
      "f0,f1,f2 = [5.317995343964631e-10, 5.317995595329335e-10, 5.317995225487984e-10]\n",
      "d01,d02,d12 = [0.9584636952074614, 0.9584636973112005, 0.9584636958809807]\n"
     ]
    },
    {
     "name": "stderr",
     "output_type": "stream",
     "text": [
      "/cluster/home/mskrabulis/miniconda3/envs/quantech/lib/python3.9/site-packages/pyscf/symm/Dmatrix.py:156: RuntimeWarning: invalid value encountered in arccos\n",
      "  gamma = numpy.arccos(yp.dot(c2[1]))\n",
      "Progress:  61%|██████    | 609/1000 [2:31:50<1:35:56, 14.72s/it]"
     ]
    },
    {
     "name": "stdout",
     "output_type": "stream",
     "text": [
      "Time to: Calculate Ground State - 1.07s, Get Pauli Ops - 5.25s, Calculate Pauli Expectation Values - 6.29s, Calculate Covariance - 1.91s\n",
      "f0,f1,f2 = [1.2646322771429118e-09, 1.2646323033788447e-09, 1.2646322648062123e-09]\n",
      "d01,d02,d12 = [0.9597925034766236, 0.9597925056587691, 0.9597925041751577]\n"
     ]
    },
    {
     "name": "stderr",
     "output_type": "stream",
     "text": [
      "Progress:  61%|██████    | 610/1000 [2:32:04<1:33:42, 14.42s/it]"
     ]
    },
    {
     "name": "stdout",
     "output_type": "stream",
     "text": [
      "Time to: Calculate Ground State - 0.76s, Get Pauli Ops - 4.57s, Calculate Pauli Expectation Values - 6.19s, Calculate Covariance - 2.18s\n",
      "f0,f1,f2 = [1.7332758490576258e-09, 1.733275877668707e-09, 1.73327583559043e-09]\n",
      "d01,d02,d12 = [0.9619302247108683, 0.9619302269569817, 0.9619302254297898]\n"
     ]
    },
    {
     "name": "stderr",
     "output_type": "stream",
     "text": [
      "Progress:  61%|██████    | 611/1000 [2:32:19<1:35:13, 14.69s/it]"
     ]
    },
    {
     "name": "stdout",
     "output_type": "stream",
     "text": [
      "Time to: Calculate Ground State - 0.78s, Get Pauli Ops - 4.75s, Calculate Pauli Expectation Values - 7.51s, Calculate Covariance - 2.27s\n",
      "f0,f1,f2 = [1.0046745148171281e-09, 1.0046745448061844e-09, 1.0046745006874003e-09]\n",
      "d01,d02,d12 = [0.9643844578663847, 0.9643844601524926, 0.9643844585980188]\n"
     ]
    },
    {
     "name": "stderr",
     "output_type": "stream",
     "text": [
      "/cluster/home/mskrabulis/miniconda3/envs/quantech/lib/python3.9/site-packages/pyscf/symm/Dmatrix.py:156: RuntimeWarning: invalid value encountered in arccos\n",
      "  gamma = numpy.arccos(yp.dot(c2[1]))\n",
      "Progress:  61%|██████    | 612/1000 [2:32:33<1:34:02, 14.54s/it]"
     ]
    },
    {
     "name": "stdout",
     "output_type": "stream",
     "text": [
      "Time to: Calculate Ground State - 0.77s, Get Pauli Ops - 4.71s, Calculate Pauli Expectation Values - 6.39s, Calculate Covariance - 2.32s\n",
      "f0,f1,f2 = [7.08137939260785e-10, 7.08137967429296e-10, 7.081379259964972e-10]\n",
      "d01,d02,d12 = [0.9672772859690335, 0.9672772882762375, 0.9672772867073337]\n"
     ]
    },
    {
     "name": "stderr",
     "output_type": "stream",
     "text": [
      "/cluster/home/mskrabulis/miniconda3/envs/quantech/lib/python3.9/site-packages/pyscf/symm/Dmatrix.py:156: RuntimeWarning: invalid value encountered in arccos\n",
      "  gamma = numpy.arccos(yp.dot(c2[1]))\n",
      "Progress:  61%|██████▏   | 613/1000 [2:32:47<1:33:02, 14.42s/it]"
     ]
    },
    {
     "name": "stdout",
     "output_type": "stream",
     "text": [
      "Time to: Calculate Ground State - 1.07s, Get Pauli Ops - 4.54s, Calculate Pauli Expectation Values - 6.56s, Calculate Covariance - 1.97s\n",
      "f0,f1,f2 = [1.4541947665092656e-09, 1.4541947904343533e-09, 1.4541947552593913e-09]\n",
      "d01,d02,d12 = [0.9708241363131929, 0.9708241386259554, 0.9708241370531925]\n"
     ]
    },
    {
     "name": "stderr",
     "output_type": "stream",
     "text": [
      "Progress:  61%|██████▏   | 614/1000 [2:33:02<1:33:12, 14.49s/it]"
     ]
    },
    {
     "name": "stdout",
     "output_type": "stream",
     "text": [
      "Time to: Calculate Ground State - 1.03s, Get Pauli Ops - 5.44s, Calculate Pauli Expectation Values - 5.96s, Calculate Covariance - 2.19s\n",
      "f0,f1,f2 = [4.793926933833779e-10, 4.793927222990669e-10, 4.793926798068462e-10]\n",
      "d01,d02,d12 = [0.9748169694102491, 0.9748169717036616, 0.9748169701439824]\n"
     ]
    },
    {
     "name": "stderr",
     "output_type": "stream",
     "text": [
      "Progress:  62%|██████▏   | 615/1000 [2:33:18<1:36:49, 15.09s/it]"
     ]
    },
    {
     "name": "stdout",
     "output_type": "stream",
     "text": [
      "Time to: Calculate Ground State - 1.41s, Get Pauli Ops - 6.54s, Calculate Pauli Expectation Values - 6.22s, Calculate Covariance - 2.32s\n",
      "f0,f1,f2 = [1.423739366319533e-10, 1.4237396289509575e-10, 1.4237392429520844e-10]\n",
      "d01,d02,d12 = [0.9785954950020627, 0.9785954972641975, 0.9785954957257167]\n"
     ]
    },
    {
     "name": "stderr",
     "output_type": "stream",
     "text": [
      "/cluster/home/mskrabulis/miniconda3/envs/quantech/lib/python3.9/site-packages/pyscf/symm/Dmatrix.py:156: RuntimeWarning: invalid value encountered in arccos\n",
      "  gamma = numpy.arccos(yp.dot(c2[1]))\n",
      "Progress:  62%|██████▏   | 616/1000 [2:33:36<1:41:02, 15.79s/it]"
     ]
    },
    {
     "name": "stdout",
     "output_type": "stream",
     "text": [
      "Time to: Calculate Ground State - 1.26s, Get Pauli Ops - 8.27s, Calculate Pauli Expectation Values - 5.72s, Calculate Covariance - 2.15s\n",
      "f0,f1,f2 = [3.204795460633219e-11, 3.2047927445929146e-11, 3.204796737125164e-11]\n",
      "d01,d02,d12 = [0.9825379561424981, 0.9825379583637411, 0.9825379568529988]\n"
     ]
    },
    {
     "name": "stderr",
     "output_type": "stream",
     "text": [
      "Progress:  62%|██████▏   | 617/1000 [2:33:52<1:40:39, 15.77s/it]"
     ]
    },
    {
     "name": "stdout",
     "output_type": "stream",
     "text": [
      "Time to: Calculate Ground State - 1.32s, Get Pauli Ops - 4.07s, Calculate Pauli Expectation Values - 8.57s, Calculate Covariance - 1.74s\n",
      "f0,f1,f2 = [4.607027370616429e-10, 4.607027615665735e-10, 4.6070272553335465e-10]\n",
      "d01,d02,d12 = [0.9866259981086746, 0.9866260002718131, 0.9866259988005168]\n"
     ]
    },
    {
     "name": "stderr",
     "output_type": "stream",
     "text": [
      "Progress:  62%|██████▏   | 618/1000 [2:34:09<1:43:51, 16.31s/it]"
     ]
    },
    {
     "name": "stdout",
     "output_type": "stream",
     "text": [
      "Time to: Calculate Ground State - 1.06s, Get Pauli Ops - 5.99s, Calculate Pauli Expectation Values - 8.36s, Calculate Covariance - 2.17s\n",
      "f0,f1,f2 = [1.484571396235872e-09, 1.4845714195681314e-09, 1.4845713852617465e-09]\n",
      "d01,d02,d12 = [0.9906908734197722, 0.9906908755150685, 0.9906908740898439]\n"
     ]
    },
    {
     "name": "stderr",
     "output_type": "stream",
     "text": [
      "/cluster/home/mskrabulis/miniconda3/envs/quantech/lib/python3.9/site-packages/pyscf/symm/Dmatrix.py:156: RuntimeWarning: invalid value encountered in arccos\n",
      "  gamma = numpy.arccos(yp.dot(c2[1]))\n",
      "Progress:  62%|██████▏   | 619/1000 [2:34:27<1:45:42, 16.65s/it]"
     ]
    },
    {
     "name": "stdout",
     "output_type": "stream",
     "text": [
      "Time to: Calculate Ground State - 1.04s, Get Pauli Ops - 7.98s, Calculate Pauli Expectation Values - 6.1s, Calculate Covariance - 2.3s\n",
      "f0,f1,f2 = [7.14785109637744e-11, 7.147848713499842e-11, 7.147852217749282e-11]\n",
      "d01,d02,d12 = [0.9945389959913717, 0.9945389980048661, 0.9945389966352071]\n"
     ]
    },
    {
     "name": "stderr",
     "output_type": "stream",
     "text": [
      "/cluster/home/mskrabulis/miniconda3/envs/quantech/lib/python3.9/site-packages/pyscf/symm/Dmatrix.py:156: RuntimeWarning: invalid value encountered in arccos\n",
      "  gamma = numpy.arccos(yp.dot(c2[1]))\n",
      "Progress:  62%|██████▏   | 620/1000 [2:34:45<1:48:32, 17.14s/it]"
     ]
    },
    {
     "name": "stdout",
     "output_type": "stream",
     "text": [
      "Time to: Calculate Ground State - 1.36s, Get Pauli Ops - 7.49s, Calculate Pauli Expectation Values - 7.2s, Calculate Covariance - 2.23s\n",
      "f0,f1,f2 = [1.3772342438550309e-09, 1.3772342229179718e-09, 1.3772342537044007e-09]\n",
      "d01,d02,d12 = [0.9978062260650458, 0.9978062279813658, 0.997806226677726]\n"
     ]
    },
    {
     "name": "stderr",
     "output_type": "stream",
     "text": [
      "Progress:  62%|██████▏   | 621/1000 [2:34:59<1:42:06, 16.16s/it]"
     ]
    },
    {
     "name": "stdout",
     "output_type": "stream",
     "text": [
      "Time to: Calculate Ground State - 1.36s, Get Pauli Ops - 5.12s, Calculate Pauli Expectation Values - 5.76s, Calculate Covariance - 1.64s\n",
      "f0,f1,f2 = [3.940452716661818e-10, 3.9404525018318926e-10, 3.9404528177805106e-10]\n",
      "d01,d02,d12 = [1.001116652644423, 1.0011166544550567, 1.0011166532232243]\n"
     ]
    },
    {
     "name": "stderr",
     "output_type": "stream",
     "text": [
      "/cluster/home/mskrabulis/miniconda3/envs/quantech/lib/python3.9/site-packages/pyscf/symm/Dmatrix.py:156: RuntimeWarning: invalid value encountered in arccos\n",
      "  gamma = numpy.arccos(yp.dot(c2[1]))\n",
      "Progress:  62%|██████▏   | 622/1000 [2:35:16<1:43:31, 16.43s/it]"
     ]
    },
    {
     "name": "stdout",
     "output_type": "stream",
     "text": [
      "Time to: Calculate Ground State - 1.29s, Get Pauli Ops - 7.8s, Calculate Pauli Expectation Values - 6.2s, Calculate Covariance - 1.77s\n",
      "f0,f1,f2 = [8.244751951780898e-13, 8.244568791025252e-13, 8.244837878204068e-13]\n",
      "d01,d02,d12 = [1.0047467342355474, 1.0047467359309767, 1.004746734777429]\n"
     ]
    },
    {
     "name": "stderr",
     "output_type": "stream",
     "text": [
      "Progress:  62%|██████▏   | 623/1000 [2:35:34<1:46:38, 16.97s/it]"
     ]
    },
    {
     "name": "stdout",
     "output_type": "stream",
     "text": [
      "Time to: Calculate Ground State - 1.15s, Get Pauli Ops - 6.68s, Calculate Pauli Expectation Values - 7.92s, Calculate Covariance - 2.48s\n",
      "f0,f1,f2 = [5.797552475010147e-11, 5.7975541423564264e-11, 5.79755169274025e-11]\n",
      "d01,d02,d12 = [1.0081519224115505, 1.0081519239809789, 1.0081519229130609]\n"
     ]
    },
    {
     "name": "stderr",
     "output_type": "stream",
     "text": [
      "Progress:  62%|██████▏   | 624/1000 [2:35:47<1:39:23, 15.86s/it]"
     ]
    },
    {
     "name": "stdout",
     "output_type": "stream",
     "text": [
      "Time to: Calculate Ground State - 1.33s, Get Pauli Ops - 4.34s, Calculate Pauli Expectation Values - 5.87s, Calculate Covariance - 1.72s\n",
      "f0,f1,f2 = [6.394048751952386e-10, 6.394048570516514e-10, 6.394048837291588e-10]\n",
      "d01,d02,d12 = [1.0113387673374512, 1.0113387687696334, 1.0113387677949965]\n"
     ]
    },
    {
     "name": "stderr",
     "output_type": "stream",
     "text": [
      "Progress:  62%|██████▎   | 625/1000 [2:36:00<1:33:41, 14.99s/it]"
     ]
    },
    {
     "name": "stdout",
     "output_type": "stream",
     "text": [
      "Time to: Calculate Ground State - 1.07s, Get Pauli Ops - 4.5s, Calculate Pauli Expectation Values - 5.52s, Calculate Covariance - 1.87s\n",
      "f0,f1,f2 = [7.642206100163251e-10, 7.642205942324052e-10, 7.642206174300952e-10]\n",
      "d01,d02,d12 = [1.0144656820778983, 1.014465683363324, 1.0144656824884393]\n"
     ]
    },
    {
     "name": "stderr",
     "output_type": "stream",
     "text": [
      "/cluster/home/mskrabulis/miniconda3/envs/quantech/lib/python3.9/site-packages/pyscf/symm/Dmatrix.py:156: RuntimeWarning: invalid value encountered in arccos\n",
      "  gamma = numpy.arccos(yp.dot(c2[1]))\n",
      "Progress:  63%|██████▎   | 626/1000 [2:36:14<1:30:38, 14.54s/it]"
     ]
    },
    {
     "name": "stdout",
     "output_type": "stream",
     "text": [
      "Time to: Calculate Ground State - 0.94s, Get Pauli Ops - 4.94s, Calculate Pauli Expectation Values - 5.69s, Calculate Covariance - 1.91s\n",
      "f0,f1,f2 = [1.8597055337586964e-09, 1.8597055216513156e-09, 1.8597055394452252e-09]\n",
      "d01,d02,d12 = [1.0170016900424503, 1.0170016911756699, 1.017001690404249]\n"
     ]
    },
    {
     "name": "stderr",
     "output_type": "stream",
     "text": [
      "/cluster/home/mskrabulis/miniconda3/envs/quantech/lib/python3.9/site-packages/pyscf/symm/Dmatrix.py:156: RuntimeWarning: invalid value encountered in arccos\n",
      "  gamma = numpy.arccos(yp.dot(c2[1]))\n",
      "Progress:  63%|██████▎   | 627/1000 [2:36:31<1:35:53, 15.42s/it]"
     ]
    },
    {
     "name": "stdout",
     "output_type": "stream",
     "text": [
      "Time to: Calculate Ground State - 1.01s, Get Pauli Ops - 4.52s, Calculate Pauli Expectation Values - 9.7s, Calculate Covariance - 2.26s\n",
      "f0,f1,f2 = [1.5674228641164243e-09, 1.5674228536020664e-09, 1.5674228690376191e-09]\n",
      "d01,d02,d12 = [1.0187757241521536, 1.0187757251263738, 1.018775724463045]\n"
     ]
    },
    {
     "name": "stderr",
     "output_type": "stream",
     "text": [
      "Progress:  63%|██████▎   | 628/1000 [2:36:49<1:39:14, 16.01s/it]"
     ]
    },
    {
     "name": "stdout",
     "output_type": "stream",
     "text": [
      "Time to: Calculate Ground State - 0.93s, Get Pauli Ops - 4.27s, Calculate Pauli Expectation Values - 10.26s, Calculate Covariance - 1.9s\n",
      "f0,f1,f2 = [1.723332170144655e-09, 1.723332162048667e-09, 1.7233321739458954e-09]\n",
      "d01,d02,d12 = [1.0200751820286933, 1.0200751828391825, 1.0200751822871674]\n"
     ]
    },
    {
     "name": "stderr",
     "output_type": "stream",
     "text": [
      "Progress:  63%|██████▎   | 629/1000 [2:37:02<1:33:21, 15.10s/it]"
     ]
    },
    {
     "name": "stdout",
     "output_type": "stream",
     "text": [
      "Time to: Calculate Ground State - 0.81s, Get Pauli Ops - 3.99s, Calculate Pauli Expectation Values - 6.39s, Calculate Covariance - 1.79s\n",
      "f0,f1,f2 = [5.892302343506089e-10, 5.892302276201203e-10, 5.892302374914337e-10]\n",
      "d01,d02,d12 = [1.0210877430695935, 1.0210877437122672, 1.0210877432743524]\n"
     ]
    },
    {
     "name": "stderr",
     "output_type": "stream",
     "text": [
      "Progress:  63%|██████▎   | 630/1000 [2:37:16<1:31:55, 14.91s/it]"
     ]
    },
    {
     "name": "stdout",
     "output_type": "stream",
     "text": [
      "Time to: Calculate Ground State - 1.22s, Get Pauli Ops - 5.06s, Calculate Pauli Expectation Values - 6.1s, Calculate Covariance - 2.07s\n",
      "f0,f1,f2 = [1.5771089287325688e-09, 1.5771089227728582e-09, 1.5771089315193026e-09]\n",
      "d01,d02,d12 = [1.021375421644107, 1.0213754221151943, 1.0213754217939524]\n"
     ]
    },
    {
     "name": "stderr",
     "output_type": "stream",
     "text": [
      "Progress:  63%|██████▎   | 631/1000 [2:37:31<1:31:07, 14.82s/it]"
     ]
    },
    {
     "name": "stdout",
     "output_type": "stream",
     "text": [
      "Time to: Calculate Ground State - 1.05s, Get Pauli Ops - 4.64s, Calculate Pauli Expectation Values - 7.19s, Calculate Covariance - 1.72s\n",
      "f0,f1,f2 = [1.4442047421239416e-09, 1.444204737286596e-09, 1.444204744379989e-09]\n",
      "d01,d02,d12 = [1.0210797389525723, 1.0210797392491404, 1.0210797390465716]\n"
     ]
    },
    {
     "name": "stderr",
     "output_type": "stream",
     "text": [
      "/cluster/home/mskrabulis/miniconda3/envs/quantech/lib/python3.9/site-packages/pyscf/symm/Dmatrix.py:156: RuntimeWarning: invalid value encountered in arccos\n",
      "  gamma = numpy.arccos(yp.dot(c2[1]))\n",
      "/cluster/home/mskrabulis/miniconda3/envs/quantech/lib/python3.9/site-packages/pyscf/symm/Dmatrix.py:156: RuntimeWarning: invalid value encountered in arccos\n",
      "  gamma = numpy.arccos(yp.dot(c2[1]))\n",
      "Progress:  63%|██████▎   | 632/1000 [2:37:44<1:28:29, 14.43s/it]"
     ]
    },
    {
     "name": "stdout",
     "output_type": "stream",
     "text": [
      "Time to: Calculate Ground State - 1.07s, Get Pauli Ops - 4.34s, Calculate Pauli Expectation Values - 6.24s, Calculate Covariance - 1.86s\n",
      "f0,f1,f2 = [1.7737289699933906e-09, 1.7737289673004957e-09, 1.7737289712468025e-09]\n",
      "d01,d02,d12 = [1.0200436507980681, 1.0200436509183575, 1.0200436508356614]\n"
     ]
    },
    {
     "name": "stderr",
     "output_type": "stream",
     "text": [
      "/cluster/home/mskrabulis/miniconda3/envs/quantech/lib/python3.9/site-packages/pyscf/symm/Dmatrix.py:156: RuntimeWarning: invalid value encountered in arccos\n",
      "  gamma = numpy.arccos(yp.dot(c2[1]))\n",
      "Progress:  63%|██████▎   | 633/1000 [2:37:58<1:26:54, 14.21s/it]"
     ]
    },
    {
     "name": "stdout",
     "output_type": "stream",
     "text": [
      "Time to: Calculate Ground State - 1.04s, Get Pauli Ops - 4.51s, Calculate Pauli Expectation Values - 5.95s, Calculate Covariance - 2.19s\n",
      "f0,f1,f2 = [1.2492600918737947e-09, 1.2492600907186974e-09, 1.249260092384702e-09]\n",
      "d01,d02,d12 = [1.01848631099169, 1.0184863109349453, 1.0184863109726419]\n"
     ]
    },
    {
     "name": "stderr",
     "output_type": "stream",
     "text": [
      "Progress:  63%|██████▎   | 634/1000 [2:38:11<1:24:29, 13.85s/it]"
     ]
    },
    {
     "name": "stdout",
     "output_type": "stream",
     "text": [
      "Time to: Calculate Ground State - 0.78s, Get Pauli Ops - 4.4s, Calculate Pauli Expectation Values - 6.07s, Calculate Covariance - 1.77s\n",
      "f0,f1,f2 = [1.4057769035365737e-10, 1.405776898828931e-10, 1.4057769062334e-10]\n",
      "d01,d02,d12 = [1.0170588076343685, 1.0170588074008349, 1.0170588075587637]\n"
     ]
    },
    {
     "name": "stderr",
     "output_type": "stream",
     "text": [
      "Progress:  64%|██████▎   | 635/1000 [2:38:27<1:28:06, 14.48s/it]"
     ]
    },
    {
     "name": "stdout",
     "output_type": "stream",
     "text": [
      "Time to: Calculate Ground State - 0.93s, Get Pauli Ops - 5.0s, Calculate Pauli Expectation Values - 8.01s, Calculate Covariance - 2.01s\n",
      "f0,f1,f2 = [9.162514293284574e-10, 9.162514317455898e-10, 9.162514281991029e-10]\n",
      "d01,d02,d12 = [1.0151871935288557, 1.015187193120013, 1.0151871933971706]\n"
     ]
    },
    {
     "name": "stderr",
     "output_type": "stream",
     "text": [
      "Progress:  64%|██████▎   | 636/1000 [2:38:44<1:33:08, 15.35s/it]"
     ]
    },
    {
     "name": "stdout",
     "output_type": "stream",
     "text": [
      "Time to: Calculate Ground State - 1.45s, Get Pauli Ops - 6.48s, Calculate Pauli Expectation Values - 7.9s, Calculate Covariance - 1.55s\n",
      "f0,f1,f2 = [3.821142353288064e-10, 3.821142389985957e-10, 3.821142335993305e-10]\n",
      "d01,d02,d12 = [1.0129232728835738, 1.012923272301238, 1.0129232726963924]\n"
     ]
    },
    {
     "name": "stderr",
     "output_type": "stream",
     "text": [
      "/cluster/home/mskrabulis/miniconda3/envs/quantech/lib/python3.9/site-packages/pyscf/symm/Dmatrix.py:156: RuntimeWarning: invalid value encountered in arccos\n",
      "  gamma = numpy.arccos(yp.dot(c2[1]))\n",
      "Progress:  64%|██████▎   | 637/1000 [2:38:58<1:30:13, 14.91s/it]"
     ]
    },
    {
     "name": "stdout",
     "output_type": "stream",
     "text": [
      "Time to: Calculate Ground State - 1.01s, Get Pauli Ops - 4.96s, Calculate Pauli Expectation Values - 5.95s, Calculate Covariance - 1.95s\n",
      "f0,f1,f2 = [1.6915740145637197e-09, 1.6915740203246664e-09, 1.6915740118424599e-09]\n",
      "d01,d02,d12 = [1.0098762793239064, 1.009876278570922, 1.0098762790821385]\n"
     ]
    },
    {
     "name": "stderr",
     "output_type": "stream",
     "text": [
      "Progress:  64%|██████▍   | 638/1000 [2:39:13<1:29:33, 14.84s/it]"
     ]
    },
    {
     "name": "stdout",
     "output_type": "stream",
     "text": [
      "Time to: Calculate Ground State - 1.05s, Get Pauli Ops - 4.75s, Calculate Pauli Expectation Values - 6.76s, Calculate Covariance - 2.11s\n",
      "f0,f1,f2 = [8.796684114181767e-10, 8.796684189424924e-10, 8.796684078722473e-10]\n",
      "d01,d02,d12 = [1.0064389857825, 1.0064389848631392, 1.0064389854875169]\n"
     ]
    },
    {
     "name": "stderr",
     "output_type": "stream",
     "text": [
      "/cluster/home/mskrabulis/miniconda3/envs/quantech/lib/python3.9/site-packages/pyscf/symm/Dmatrix.py:156: RuntimeWarning: invalid value encountered in arccos\n",
      "  gamma = numpy.arccos(yp.dot(c2[1]))\n",
      "Progress:  64%|██████▍   | 639/1000 [2:39:26<1:27:17, 14.51s/it]"
     ]
    },
    {
     "name": "stdout",
     "output_type": "stream",
     "text": [
      "Time to: Calculate Ground State - 1.0s, Get Pauli Ops - 4.56s, Calculate Pauli Expectation Values - 6.26s, Calculate Covariance - 1.9s\n",
      "f0,f1,f2 = [8.351709754078184e-10, 8.35170986102002e-10, 8.351709703503891e-10]\n",
      "d01,d02,d12 = [1.0026603404154852, 1.0026603393373879, 1.0026603400697418]\n"
     ]
    },
    {
     "name": "stderr",
     "output_type": "stream",
     "text": [
      "Progress:  64%|██████▍   | 640/1000 [2:39:40<1:24:53, 14.15s/it]"
     ]
    },
    {
     "name": "stdout",
     "output_type": "stream",
     "text": [
      "Time to: Calculate Ground State - 1.2s, Get Pauli Ops - 4.6s, Calculate Pauli Expectation Values - 5.84s, Calculate Covariance - 1.66s\n",
      "f0,f1,f2 = [1.1899974422122906e-09, 1.1899974522311105e-09, 1.1899974374914958e-09]\n",
      "d01,d02,d12 = [0.997881415963846, 0.9978814147321168, 0.9978814155689745]\n"
     ]
    },
    {
     "name": "stderr",
     "output_type": "stream",
     "text": [
      "/cluster/home/mskrabulis/miniconda3/envs/quantech/lib/python3.9/site-packages/pyscf/symm/Dmatrix.py:156: RuntimeWarning: invalid value encountered in arccos\n",
      "  gamma = numpy.arccos(yp.dot(c2[1]))\n",
      "/cluster/home/mskrabulis/miniconda3/envs/quantech/lib/python3.9/site-packages/pyscf/symm/Dmatrix.py:156: RuntimeWarning: invalid value encountered in arccos\n",
      "  gamma = numpy.arccos(yp.dot(c2[1]))\n",
      "Progress:  64%|██████▍   | 641/1000 [2:39:53<1:23:24, 13.94s/it]"
     ]
    },
    {
     "name": "stdout",
     "output_type": "stream",
     "text": [
      "Time to: Calculate Ground State - 1.0s, Get Pauli Ops - 4.26s, Calculate Pauli Expectation Values - 6.16s, Calculate Covariance - 2.02s\n",
      "f0,f1,f2 = [2.5817632112070175e-10, 2.5817633297658355e-10, 2.5817631552649013e-10]\n",
      "d01,d02,d12 = [0.9934574092460906, 0.9934574078694713, 0.9934574088048963]\n"
     ]
    },
    {
     "name": "stderr",
     "output_type": "stream",
     "text": [
      "Progress:  64%|██████▍   | 642/1000 [2:40:10<1:27:29, 14.66s/it]"
     ]
    },
    {
     "name": "stdout",
     "output_type": "stream",
     "text": [
      "Time to: Calculate Ground State - 1.14s, Get Pauli Ops - 6.34s, Calculate Pauli Expectation Values - 7.02s, Calculate Covariance - 1.84s\n",
      "f0,f1,f2 = [3.2034395397237387e-10, 3.2034394047470807e-10, 3.203439603205016e-10]\n",
      "d01,d02,d12 = [0.9894691925088035, 0.9894691909901998, 0.9894691920222165]\n"
     ]
    },
    {
     "name": "stderr",
     "output_type": "stream",
     "text": [
      "Progress:  64%|██████▍   | 643/1000 [2:40:24<1:27:06, 14.64s/it]"
     ]
    },
    {
     "name": "stdout",
     "output_type": "stream",
     "text": [
      "Time to: Calculate Ground State - 0.98s, Get Pauli Ops - 6.36s, Calculate Pauli Expectation Values - 5.65s, Calculate Covariance - 1.58s\n",
      "f0,f1,f2 = [4.544765949081787e-10, 4.544765799789242e-10, 4.5447660196394744e-10]\n",
      "d01,d02,d12 = [0.985415389598204, 0.9854153879493249, 0.9854153890699778]\n"
     ]
    },
    {
     "name": "stderr",
     "output_type": "stream",
     "text": [
      "/cluster/home/mskrabulis/miniconda3/envs/quantech/lib/python3.9/site-packages/pyscf/symm/Dmatrix.py:156: RuntimeWarning: invalid value encountered in arccos\n",
      "  gamma = numpy.arccos(yp.dot(c2[1]))\n",
      "Progress:  64%|██████▍   | 644/1000 [2:40:40<1:29:16, 15.05s/it]"
     ]
    },
    {
     "name": "stdout",
     "output_type": "stream",
     "text": [
      "Time to: Calculate Ground State - 0.97s, Get Pauli Ops - 7.06s, Calculate Pauli Expectation Values - 6.19s, Calculate Covariance - 1.76s\n",
      "f0,f1,f2 = [2.0158052987389285e-10, 2.0158054765910984e-10, 2.0158052151144327e-10]\n",
      "d01,d02,d12 = [0.9817048067343805, 0.981704804963273, 0.9817048061670886]\n"
     ]
    },
    {
     "name": "stderr",
     "output_type": "stream",
     "text": [
      "Progress:  64%|██████▍   | 645/1000 [2:40:54<1:26:57, 14.70s/it]"
     ]
    },
    {
     "name": "stdout",
     "output_type": "stream",
     "text": [
      "Time to: Calculate Ground State - 1.3s, Get Pauli Ops - 4.56s, Calculate Pauli Expectation Values - 5.96s, Calculate Covariance - 2.04s\n",
      "f0,f1,f2 = [3.068076943557218e-10, 3.068077144508995e-10, 3.068076848958934e-10]\n",
      "d01,d02,d12 = [0.9774519142065065, 0.9774519123276985, 0.9774519136047984]\n"
     ]
    },
    {
     "name": "stderr",
     "output_type": "stream",
     "text": [
      "/cluster/home/mskrabulis/miniconda3/envs/quantech/lib/python3.9/site-packages/pyscf/symm/Dmatrix.py:156: RuntimeWarning: invalid value encountered in arccos\n",
      "  gamma = numpy.arccos(yp.dot(c2[1]))\n",
      "Progress:  65%|██████▍   | 646/1000 [2:41:09<1:27:47, 14.88s/it]"
     ]
    },
    {
     "name": "stdout",
     "output_type": "stream",
     "text": [
      "Time to: Calculate Ground State - 1.22s, Get Pauli Ops - 6.85s, Calculate Pauli Expectation Values - 5.73s, Calculate Covariance - 1.5s\n",
      "f0,f1,f2 = [8.048123522603753e-10, 8.04812333516342e-10, 8.048123610870938e-10]\n",
      "d01,d02,d12 = [0.9733531145281091, 0.9733531125547559, 0.9733531138961998]\n"
     ]
    },
    {
     "name": "stderr",
     "output_type": "stream",
     "text": [
      "Progress:  65%|██████▍   | 647/1000 [2:41:25<1:28:53, 15.11s/it]"
     ]
    },
    {
     "name": "stdout",
     "output_type": "stream",
     "text": [
      "Time to: Calculate Ground State - 1.06s, Get Pauli Ops - 4.47s, Calculate Pauli Expectation Values - 7.85s, Calculate Covariance - 2.24s\n",
      "f0,f1,f2 = [2.2803623329101844e-10, 2.280362571727267e-10, 2.2803622203468407e-10]\n",
      "d01,d02,d12 = [0.9691790728721719, 0.9691790708195662, 0.9691790722149579]\n"
     ]
    },
    {
     "name": "stderr",
     "output_type": "stream",
     "text": [
      "/cluster/home/mskrabulis/miniconda3/envs/quantech/lib/python3.9/site-packages/pyscf/symm/Dmatrix.py:156: RuntimeWarning: invalid value encountered in arccos\n",
      "  gamma = numpy.arccos(yp.dot(c2[1]))\n",
      "Progress:  65%|██████▍   | 648/1000 [2:41:39<1:25:48, 14.63s/it]"
     ]
    },
    {
     "name": "stdout",
     "output_type": "stream",
     "text": [
      "Time to: Calculate Ground State - 0.9s, Get Pauli Ops - 4.55s, Calculate Pauli Expectation Values - 6.19s, Calculate Covariance - 1.86s\n",
      "f0,f1,f2 = [1.4026217795350355e-10, 1.4026215195497288e-10, 1.4026219020186438e-10]\n",
      "d01,d02,d12 = [0.9648124480836839, 0.9648124459663893, 0.9648124474058287]\n"
     ]
    },
    {
     "name": "stderr",
     "output_type": "stream",
     "text": [
      "Progress:  65%|██████▍   | 649/1000 [2:41:53<1:26:09, 14.73s/it]"
     ]
    },
    {
     "name": "stdout",
     "output_type": "stream",
     "text": [
      "Time to: Calculate Ground State - 1.29s, Get Pauli Ops - 4.52s, Calculate Pauli Expectation Values - 7.04s, Calculate Covariance - 2.11s\n",
      "f0,f1,f2 = [1.16231304913596e-09, 1.1623130211505014e-09, 1.1623130623116818e-09]\n",
      "d01,d02,d12 = [0.9613042256367643, 0.9613042234688866, 0.9613042249427847]\n"
     ]
    },
    {
     "name": "stderr",
     "output_type": "stream",
     "text": [
      "Progress:  65%|██████▌   | 650/1000 [2:42:10<1:29:45, 15.39s/it]"
     ]
    },
    {
     "name": "stdout",
     "output_type": "stream",
     "text": [
      "Time to: Calculate Ground State - 1.03s, Get Pauli Ops - 4.24s, Calculate Pauli Expectation Values - 9.9s, Calculate Covariance - 1.74s\n",
      "f0,f1,f2 = [1.0601697475731726e-09, 1.0601697194608305e-09, 1.0601697608206213e-09]\n",
      "d01,d02,d12 = [0.9580576069772253, 0.958057604773919, 0.9580576062719751]\n"
     ]
    },
    {
     "name": "stderr",
     "output_type": "stream",
     "text": [
      "Progress:  65%|██████▌   | 651/1000 [2:42:25<1:27:21, 15.02s/it]"
     ]
    },
    {
     "name": "stdout",
     "output_type": "stream",
     "text": [
      "Time to: Calculate Ground State - 1.29s, Get Pauli Ops - 4.35s, Calculate Pauli Expectation Values - 6.47s, Calculate Covariance - 2.03s\n",
      "f0,f1,f2 = [1.0634531877737377e-09, 1.0634531592505232e-09, 1.0634532011992552e-09]\n",
      "d01,d02,d12 = [0.9554777588796288, 0.9554777566549495, 0.955477758167605]\n"
     ]
    },
    {
     "name": "stderr",
     "output_type": "stream",
     "text": [
      "/cluster/home/mskrabulis/miniconda3/envs/quantech/lib/python3.9/site-packages/pyscf/symm/Dmatrix.py:156: RuntimeWarning: invalid value encountered in arccos\n",
      "  gamma = numpy.arccos(yp.dot(c2[1]))\n",
      "Progress:  65%|██████▌   | 652/1000 [2:42:39<1:25:38, 14.77s/it]"
     ]
    },
    {
     "name": "stdout",
     "output_type": "stream",
     "text": [
      "Time to: Calculate Ground State - 0.96s, Get Pauli Ops - 4.98s, Calculate Pauli Expectation Values - 6.42s, Calculate Covariance - 1.81s\n",
      "f0,f1,f2 = [1.0121707376055218e-09, 1.0121707062287631e-09, 1.0121707523852963e-09]\n",
      "d01,d02,d12 = [0.9533569920931368, 0.9533569898639607, 0.9533569913797468]\n"
     ]
    },
    {
     "name": "stderr",
     "output_type": "stream",
     "text": [
      "/cluster/home/mskrabulis/miniconda3/envs/quantech/lib/python3.9/site-packages/pyscf/symm/Dmatrix.py:156: RuntimeWarning: invalid value encountered in arccos\n",
      "  gamma = numpy.arccos(yp.dot(c2[1]))\n",
      "Progress:  65%|██████▌   | 653/1000 [2:42:51<1:21:50, 14.15s/it]"
     ]
    },
    {
     "name": "stdout",
     "output_type": "stream",
     "text": [
      "Time to: Calculate Ground State - 0.94s, Get Pauli Ops - 4.59s, Calculate Pauli Expectation Values - 5.8s, Calculate Covariance - 1.38s\n",
      "f0,f1,f2 = [1.2267794037734015e-09, 1.2267793768874076e-09, 1.2267794164305896e-09]\n",
      "d01,d02,d12 = [0.9517519033866327, 0.9517519011704054, 0.951751902677461]\n"
     ]
    },
    {
     "name": "stderr",
     "output_type": "stream",
     "text": [
      "Progress:  65%|██████▌   | 654/1000 [2:43:07<1:23:09, 14.42s/it]"
     ]
    },
    {
     "name": "stdout",
     "output_type": "stream",
     "text": [
      "Time to: Calculate Ground State - 1.29s, Get Pauli Ops - 5.25s, Calculate Pauli Expectation Values - 6.27s, Calculate Covariance - 2.23s\n",
      "f0,f1,f2 = [1.528545068155408e-09, 1.5285450395675033e-09, 1.5285450816007782e-09]\n",
      "d01,d02,d12 = [0.9507090127940778, 0.9507090106080276, 0.9507090120946358]\n"
     ]
    },
    {
     "name": "stderr",
     "output_type": "stream",
     "text": [
      "Progress:  66%|██████▌   | 655/1000 [2:43:20<1:20:37, 14.02s/it]"
     ]
    },
    {
     "name": "stdout",
     "output_type": "stream",
     "text": [
      "Time to: Calculate Ground State - 1.32s, Get Pauli Ops - 4.52s, Calculate Pauli Expectation Values - 5.87s, Calculate Covariance - 1.38s\n",
      "f0,f1,f2 = [1.070758224357837e-09, 1.070758197802232e-09, 1.0707582368400437e-09]\n",
      "d01,d02,d12 = [0.9501526919904542, 0.9501526898528515, 0.9501526913065861]\n"
     ]
    },
    {
     "name": "stderr",
     "output_type": "stream",
     "text": [
      "Progress:  66%|██████▌   | 656/1000 [2:43:33<1:18:53, 13.76s/it]"
     ]
    },
    {
     "name": "stdout",
     "output_type": "stream",
     "text": [
      "Time to: Calculate Ground State - 0.93s, Get Pauli Ops - 4.63s, Calculate Pauli Expectation Values - 5.84s, Calculate Covariance - 1.74s\n",
      "f0,f1,f2 = [1.286738387636296e-09, 1.2867383605015289e-09, 1.286738400398087e-09]\n",
      "d01,d02,d12 = [0.9501865339716234, 0.9501865319003602, 0.9501865333090523]\n"
     ]
    },
    {
     "name": "stderr",
     "output_type": "stream",
     "text": [
      "/cluster/home/mskrabulis/miniconda3/envs/quantech/lib/python3.9/site-packages/pyscf/symm/Dmatrix.py:156: RuntimeWarning: invalid value encountered in arccos\n",
      "  gamma = numpy.arccos(yp.dot(c2[1]))\n",
      "Progress:  66%|██████▌   | 657/1000 [2:43:47<1:18:50, 13.79s/it]"
     ]
    },
    {
     "name": "stdout",
     "output_type": "stream",
     "text": [
      "Time to: Calculate Ground State - 1.25s, Get Pauli Ops - 4.78s, Calculate Pauli Expectation Values - 5.97s, Calculate Covariance - 1.86s\n",
      "f0,f1,f2 = [1.1859260399268475e-09, 1.1859260129815794e-09, 1.1859260525923107e-09]\n",
      "d01,d02,d12 = [0.9507073109448618, 0.9507073089577577, 0.9507073103092863]\n"
     ]
    },
    {
     "name": "stderr",
     "output_type": "stream",
     "text": [
      "Progress:  66%|██████▌   | 658/1000 [2:44:01<1:19:08, 13.88s/it]"
     ]
    },
    {
     "name": "stdout",
     "output_type": "stream",
     "text": [
      "Time to: Calculate Ground State - 1.33s, Get Pauli Ops - 4.48s, Calculate Pauli Expectation Values - 6.09s, Calculate Covariance - 2.19s\n",
      "f0,f1,f2 = [2.2316189044037188e-09, 2.23161888042648e-09, 2.2316189156829274e-09]\n",
      "d01,d02,d12 = [0.9520808322254968, 0.9520808303357258, 0.9520808316211316]\n"
     ]
    },
    {
     "name": "stderr",
     "output_type": "stream",
     "text": [
      "Progress:  66%|██████▌   | 659/1000 [2:44:14<1:18:13, 13.76s/it]"
     ]
    },
    {
     "name": "stdout",
     "output_type": "stream",
     "text": [
      "Time to: Calculate Ground State - 1.0s, Get Pauli Ops - 4.29s, Calculate Pauli Expectation Values - 5.99s, Calculate Covariance - 2.19s\n",
      "f0,f1,f2 = [1.2751225845171183e-09, 1.2751225575132356e-09, 1.2751225971999802e-09]\n",
      "d01,d02,d12 = [0.9538241445338904, 0.9538241427585624, 0.9538241439662051]\n"
     ]
    },
    {
     "name": "stderr",
     "output_type": "stream",
     "text": [
      "Progress:  66%|██████▌   | 660/1000 [2:44:30<1:21:18, 14.35s/it]"
     ]
    },
    {
     "name": "stdout",
     "output_type": "stream",
     "text": [
      "Time to: Calculate Ground State - 1.32s, Get Pauli Ops - 7.25s, Calculate Pauli Expectation Values - 5.66s, Calculate Covariance - 1.47s\n",
      "f0,f1,f2 = [2.128795706462247e-09, 2.1287956870307735e-09, 2.12879571558203e-09]\n",
      "d01,d02,d12 = [0.9566379588214042, 0.956637957170543, 0.9566379582936021]\n"
     ]
    },
    {
     "name": "stderr",
     "output_type": "stream",
     "text": [
      "Progress:  66%|██████▌   | 661/1000 [2:44:44<1:19:49, 14.13s/it]"
     ]
    },
    {
     "name": "stdout",
     "output_type": "stream",
     "text": [
      "Time to: Calculate Ground State - 1.18s, Get Pauli Ops - 4.67s, Calculate Pauli Expectation Values - 5.67s, Calculate Covariance - 2.09s\n",
      "f0,f1,f2 = [1.1117791605882528e-09, 1.1117791380515762e-09, 1.1117791711701161e-09]\n",
      "d01,d02,d12 = [0.9594487712330814, 0.9594487697198485, 0.9594487707493703]\n"
     ]
    },
    {
     "name": "stderr",
     "output_type": "stream",
     "text": [
      "/cluster/home/mskrabulis/miniconda3/envs/quantech/lib/python3.9/site-packages/pyscf/symm/Dmatrix.py:156: RuntimeWarning: invalid value encountered in arccos\n",
      "  gamma = numpy.arccos(yp.dot(c2[1]))\n",
      "Progress:  66%|██████▌   | 662/1000 [2:44:58<1:20:24, 14.27s/it]"
     ]
    },
    {
     "name": "stdout",
     "output_type": "stream",
     "text": [
      "Time to: Calculate Ground State - 1.01s, Get Pauli Ops - 5.14s, Calculate Pauli Expectation Values - 6.19s, Calculate Covariance - 2.26s\n",
      "f0,f1,f2 = [1.4810183414938313e-09, 1.4810183217789078e-09, 1.4810183507638726e-09]\n",
      "d01,d02,d12 = [0.9627551287820149, 0.9627551274195509, 0.9627551283465965]\n"
     ]
    },
    {
     "name": "stderr",
     "output_type": "stream",
     "text": [
      "Progress:  66%|██████▋   | 663/1000 [2:45:16<1:26:33, 15.41s/it]"
     ]
    },
    {
     "name": "stdout",
     "output_type": "stream",
     "text": [
      "Time to: Calculate Ground State - 1.35s, Get Pauli Ops - 4.5s, Calculate Pauli Expectation Values - 9.92s, Calculate Covariance - 2.29s\n",
      "f0,f1,f2 = [9.35417321009962e-10, 9.354173022207678e-10, 9.354173298218315e-10]\n",
      "d01,d02,d12 = [0.9665434223318039, 0.9665434211301718, 0.9665434219478943]\n"
     ]
    },
    {
     "name": "stderr",
     "output_type": "stream",
     "text": [
      "Progress:  66%|██████▋   | 664/1000 [2:45:33<1:28:51, 15.87s/it]"
     ]
    },
    {
     "name": "stdout",
     "output_type": "stream",
     "text": [
      "Time to: Calculate Ground State - 1.26s, Get Pauli Ops - 4.69s, Calculate Pauli Expectation Values - 8.71s, Calculate Covariance - 2.27s\n",
      "f0,f1,f2 = [1.0936699485741435e-10, 1.093669805876304e-10, 1.0936700154060342e-10]\n",
      "d01,d02,d12 = [0.9704775500841027, 0.9704775490509028, 0.9704775497541291]\n"
     ]
    },
    {
     "name": "stderr",
     "output_type": "stream",
     "text": [
      "/cluster/home/mskrabulis/miniconda3/envs/quantech/lib/python3.9/site-packages/pyscf/symm/Dmatrix.py:156: RuntimeWarning: invalid value encountered in arccos\n",
      "  gamma = numpy.arccos(yp.dot(c2[1]))\n",
      "Progress:  66%|██████▋   | 665/1000 [2:45:48<1:27:33, 15.68s/it]"
     ]
    },
    {
     "name": "stdout",
     "output_type": "stream",
     "text": [
      "Time to: Calculate Ground State - 1.19s, Get Pauli Ops - 4.55s, Calculate Pauli Expectation Values - 7.2s, Calculate Covariance - 2.31s\n",
      "f0,f1,f2 = [4.711777349079698e-11, 4.7117762966404126e-11, 4.711777843558527e-11]\n",
      "d01,d02,d12 = [0.9738912762195953, 0.9738912753615709, 0.9738912759457133]\n"
     ]
    },
    {
     "name": "stderr",
     "output_type": "stream",
     "text": [
      "Progress:  67%|██████▋   | 666/1000 [2:46:02<1:24:25, 15.17s/it]"
     ]
    },
    {
     "name": "stdout",
     "output_type": "stream",
     "text": [
      "Time to: Calculate Ground State - 1.22s, Get Pauli Ops - 4.57s, Calculate Pauli Expectation Values - 6.12s, Calculate Covariance - 2.04s\n",
      "f0,f1,f2 = [4.657553809480886e-10, 4.657553709919214e-10, 4.657553856412849e-10]\n",
      "d01,d02,d12 = [0.9774894354967674, 0.97748943482253, 0.9774894352817314]\n"
     ]
    },
    {
     "name": "stderr",
     "output_type": "stream",
     "text": [
      "/cluster/home/mskrabulis/miniconda3/envs/quantech/lib/python3.9/site-packages/pyscf/symm/Dmatrix.py:156: RuntimeWarning: invalid value encountered in arccos\n",
      "  gamma = numpy.arccos(yp.dot(c2[1]))\n",
      "Progress:  67%|██████▋   | 667/1000 [2:46:18<1:24:13, 15.18s/it]"
     ]
    },
    {
     "name": "stdout",
     "output_type": "stream",
     "text": [
      "Time to: Calculate Ground State - 1.11s, Get Pauli Ops - 4.3s, Calculate Pauli Expectation Values - 7.51s, Calculate Covariance - 2.27s\n",
      "f0,f1,f2 = [2.1577875834419484e-10, 2.1577876534325802e-10, 2.1577875505401165e-10]\n",
      "d01,d02,d12 = [0.9808797863138043, 0.9808797858280416, 0.9808797861591074]\n"
     ]
    },
    {
     "name": "stderr",
     "output_type": "stream",
     "text": [
      "/cluster/home/mskrabulis/miniconda3/envs/quantech/lib/python3.9/site-packages/pyscf/symm/Dmatrix.py:156: RuntimeWarning: invalid value encountered in arccos\n",
      "  gamma = numpy.arccos(yp.dot(c2[1]))\n",
      "Progress:  67%|██████▋   | 668/1000 [2:46:32<1:22:57, 14.99s/it]"
     ]
    },
    {
     "name": "stdout",
     "output_type": "stream",
     "text": [
      "Time to: Calculate Ground State - 1.28s, Get Pauli Ops - 4.61s, Calculate Pauli Expectation Values - 6.7s, Calculate Covariance - 1.97s\n",
      "f0,f1,f2 = [3.781748495577182e-10, 3.7817485482232906e-10, 3.78174847098628e-10]\n",
      "d01,d02,d12 = [0.9840803190177294, 0.9840803187232227, 0.9840803189242562]\n"
     ]
    },
    {
     "name": "stderr",
     "output_type": "stream",
     "text": [
      "Progress:  67%|██████▋   | 669/1000 [2:46:45<1:19:14, 14.36s/it]"
     ]
    },
    {
     "name": "stdout",
     "output_type": "stream",
     "text": [
      "Time to: Calculate Ground State - 1.02s, Get Pauli Ops - 4.46s, Calculate Pauli Expectation Values - 5.83s, Calculate Covariance - 1.59s\n",
      "f0,f1,f2 = [9.759404398245903e-10, 9.759404364762674e-10, 9.759404413798977e-10]\n",
      "d01,d02,d12 = [0.987676358298178, 0.9876763581961419, 0.9876763582663154]\n"
     ]
    },
    {
     "name": "stderr",
     "output_type": "stream",
     "text": [
      "Progress:  67%|██████▋   | 670/1000 [2:46:59<1:18:07, 14.20s/it]"
     ]
    },
    {
     "name": "stdout",
     "output_type": "stream",
     "text": [
      "Time to: Calculate Ground State - 0.75s, Get Pauli Ops - 4.07s, Calculate Pauli Expectation Values - 7.14s, Calculate Covariance - 1.87s\n",
      "f0,f1,f2 = [6.54361085532419e-10, 6.543610867230838e-10, 6.543610850035242e-10]\n",
      "d01,d02,d12 = [0.9908238626075337, 0.9908238626985963, 0.9908238626374795]\n"
     ]
    },
    {
     "name": "stderr",
     "output_type": "stream",
     "text": [
      "Progress:  67%|██████▋   | 671/1000 [2:47:17<1:24:24, 15.39s/it]"
     ]
    },
    {
     "name": "stdout",
     "output_type": "stream",
     "text": [
      "Time to: Calculate Ground State - 0.97s, Get Pauli Ops - 4.73s, Calculate Pauli Expectation Values - 10.57s, Calculate Covariance - 1.89s\n",
      "f0,f1,f2 = [5.38901559036617e-10, 5.389015601153377e-10, 5.38901558527241e-10]\n",
      "d01,d02,d12 = [0.9941789243070711, 0.9941789245907485, 0.9941789243986693]\n"
     ]
    },
    {
     "name": "stderr",
     "output_type": "stream",
     "text": [
      "/cluster/home/mskrabulis/miniconda3/envs/quantech/lib/python3.9/site-packages/pyscf/symm/Dmatrix.py:156: RuntimeWarning: invalid value encountered in arccos\n",
      "  gamma = numpy.arccos(yp.dot(c2[1]))\n",
      "Progress:  67%|██████▋   | 672/1000 [2:47:29<1:18:30, 14.36s/it]"
     ]
    },
    {
     "name": "stdout",
     "output_type": "stream",
     "text": [
      "Time to: Calculate Ground State - 0.8s, Get Pauli Ops - 4.04s, Calculate Pauli Expectation Values - 5.71s, Calculate Covariance - 1.4s\n",
      "f0,f1,f2 = [4.2678321288117996e-10, 4.267832162243115e-10, 4.2678321127938974e-10]\n",
      "d01,d02,d12 = [0.9980818603800377, 0.998081860855071, 0.9980818605328845]\n"
     ]
    },
    {
     "name": "stderr",
     "output_type": "stream",
     "text": [
      "/cluster/home/mskrabulis/miniconda3/envs/quantech/lib/python3.9/site-packages/pyscf/symm/Dmatrix.py:156: RuntimeWarning: invalid value encountered in arccos\n",
      "  gamma = numpy.arccos(yp.dot(c2[1]))\n",
      "Progress:  67%|██████▋   | 673/1000 [2:47:43<1:17:35, 14.24s/it]"
     ]
    },
    {
     "name": "stdout",
     "output_type": "stream",
     "text": [
      "Time to: Calculate Ground State - 1.2s, Get Pauli Ops - 4.28s, Calculate Pauli Expectation Values - 6.77s, Calculate Covariance - 1.69s\n",
      "f0,f1,f2 = [8.567940514164581e-10, 8.567940460880186e-10, 8.567940539442643e-10]\n",
      "d01,d02,d12 = [1.0009693362066452, 1.0009693368671089, 1.000969336418833]\n"
     ]
    },
    {
     "name": "stderr",
     "output_type": "stream",
     "text": [
      "Progress:  67%|██████▋   | 674/1000 [2:47:58<1:18:41, 14.48s/it]"
     ]
    },
    {
     "name": "stdout",
     "output_type": "stream",
     "text": [
      "Time to: Calculate Ground State - 1.32s, Get Pauli Ops - 5.46s, Calculate Pauli Expectation Values - 6.13s, Calculate Covariance - 2.14s\n",
      "f0,f1,f2 = [3.132095205080478e-11, 3.132095987245559e-11, 3.132094834623536e-11]\n",
      "d01,d02,d12 = [1.0040126311224387, 1.0040126319637377, 1.0040126313924935]\n"
     ]
    },
    {
     "name": "stderr",
     "output_type": "stream",
     "text": [
      "Progress:  68%|██████▊   | 675/1000 [2:48:11<1:16:43, 14.17s/it]"
     ]
    },
    {
     "name": "stdout",
     "output_type": "stream",
     "text": [
      "Time to: Calculate Ground State - 1.02s, Get Pauli Ops - 4.6s, Calculate Pauli Expectation Values - 5.79s, Calculate Covariance - 2.01s\n",
      "f0,f1,f2 = [6.880830121698729e-10, 6.880830205381822e-10, 6.880830082017401e-10]\n",
      "d01,d02,d12 = [1.0074754145861295, 1.0074754156046979, 1.0074754149129057]\n"
     ]
    },
    {
     "name": "stderr",
     "output_type": "stream",
     "text": [
      "Progress:  68%|██████▊   | 676/1000 [2:48:26<1:17:45, 14.40s/it]"
     ]
    },
    {
     "name": "stdout",
     "output_type": "stream",
     "text": [
      "Time to: Calculate Ground State - 1.21s, Get Pauli Ops - 4.55s, Calculate Pauli Expectation Values - 7.14s, Calculate Covariance - 2.04s\n",
      "f0,f1,f2 = [1.166857771654966e-09, 1.1668577616612572e-09, 1.1668577763789338e-09]\n",
      "d01,d02,d12 = [1.010362066625897, 1.010362067814165, 1.0103620670069702]\n"
     ]
    },
    {
     "name": "stderr",
     "output_type": "stream",
     "text": [
      "/cluster/home/mskrabulis/miniconda3/envs/quantech/lib/python3.9/site-packages/pyscf/symm/Dmatrix.py:156: RuntimeWarning: invalid value encountered in arccos\n",
      "  gamma = numpy.arccos(yp.dot(c2[1]))\n",
      "Progress:  68%|██████▊   | 677/1000 [2:48:41<1:18:02, 14.50s/it]"
     ]
    },
    {
     "name": "stdout",
     "output_type": "stream",
     "text": [
      "Time to: Calculate Ground State - 1.3s, Get Pauli Ops - 4.77s, Calculate Pauli Expectation Values - 6.55s, Calculate Covariance - 2.1s\n",
      "f0,f1,f2 = [3.4403559858206584e-10, 3.4403558803791433e-10, 3.4403560355891845e-10]\n",
      "d01,d02,d12 = [1.0132432987436113, 1.013243300096817, 1.013243299177456]\n"
     ]
    },
    {
     "name": "stderr",
     "output_type": "stream",
     "text": [
      "/cluster/home/mskrabulis/miniconda3/envs/quantech/lib/python3.9/site-packages/pyscf/symm/Dmatrix.py:156: RuntimeWarning: invalid value encountered in arccos\n",
      "  gamma = numpy.arccos(yp.dot(c2[1]))\n",
      "Progress:  68%|██████▊   | 678/1000 [2:48:55<1:16:35, 14.27s/it]"
     ]
    },
    {
     "name": "stdout",
     "output_type": "stream",
     "text": [
      "Time to: Calculate Ground State - 1.3s, Get Pauli Ops - 4.63s, Calculate Pauli Expectation Values - 6.03s, Calculate Covariance - 1.79s\n",
      "f0,f1,f2 = [7.775587582128448e-10, 7.77558743368956e-10, 7.775587652118838e-10]\n",
      "d01,d02,d12 = [1.0159040946345734, 1.0159040961437757, 1.0159040951183231]\n"
     ]
    },
    {
     "name": "stderr",
     "output_type": "stream",
     "text": [
      "/cluster/home/mskrabulis/miniconda3/envs/quantech/lib/python3.9/site-packages/pyscf/symm/Dmatrix.py:156: RuntimeWarning: invalid value encountered in arccos\n",
      "  gamma = numpy.arccos(yp.dot(c2[1]))\n",
      "Progress:  68%|██████▊   | 679/1000 [2:49:08<1:15:07, 14.04s/it]"
     ]
    },
    {
     "name": "stdout",
     "output_type": "stream",
     "text": [
      "Time to: Calculate Ground State - 0.99s, Get Pauli Ops - 4.44s, Calculate Pauli Expectation Values - 6.04s, Calculate Covariance - 2.03s\n",
      "f0,f1,f2 = [1.1548008633846457e-09, 1.1548008491211622e-09, 1.1548008701006339e-09]\n",
      "d01,d02,d12 = [1.0179879150626414, 1.017987916718822, 1.0179879155934046]\n"
     ]
    },
    {
     "name": "stderr",
     "output_type": "stream",
     "text": [
      "Progress:  68%|██████▊   | 680/1000 [2:49:23<1:15:20, 14.13s/it]"
     ]
    },
    {
     "name": "stdout",
     "output_type": "stream",
     "text": [
      "Time to: Calculate Ground State - 1.22s, Get Pauli Ops - 4.92s, Calculate Pauli Expectation Values - 6.0s, Calculate Covariance - 2.18s\n",
      "f0,f1,f2 = [1.7143276695530307e-09, 1.7143276550013322e-09, 1.7143276764205422e-09]\n",
      "d01,d02,d12 = [1.0194167451308194, 1.0194167469258417, 1.0194167457059866]\n"
     ]
    },
    {
     "name": "stderr",
     "output_type": "stream",
     "text": [
      "Progress:  68%|██████▊   | 681/1000 [2:49:36<1:13:54, 13.90s/it]"
     ]
    },
    {
     "name": "stdout",
     "output_type": "stream",
     "text": [
      "Time to: Calculate Ground State - 0.97s, Get Pauli Ops - 4.91s, Calculate Pauli Expectation Values - 5.59s, Calculate Covariance - 1.9s\n",
      "f0,f1,f2 = [1.0143867847150995e-09, 1.0143867668191575e-09, 1.0143867931591781e-09]\n",
      "d01,d02,d12 = [1.0202307006729279, 1.0202307025962192, 1.020230701289112]\n"
     ]
    },
    {
     "name": "stderr",
     "output_type": "stream",
     "text": [
      "Progress:  68%|██████▊   | 682/1000 [2:49:52<1:16:55, 14.51s/it]"
     ]
    },
    {
     "name": "stdout",
     "output_type": "stream",
     "text": [
      "Time to: Calculate Ground State - 1.1s, Get Pauli Ops - 4.6s, Calculate Pauli Expectation Values - 8.42s, Calculate Covariance - 1.82s\n",
      "f0,f1,f2 = [3.919822905969824e-10, 3.9198227130177e-10, 3.9198229968106706e-10]\n",
      "d01,d02,d12 = [1.0208736791192399, 1.020873681160045, 1.0208736797729956]\n"
     ]
    },
    {
     "name": "stderr",
     "output_type": "stream",
     "text": [
      "Progress:  68%|██████▊   | 683/1000 [2:50:07<1:17:58, 14.76s/it]"
     ]
    },
    {
     "name": "stdout",
     "output_type": "stream",
     "text": [
      "Time to: Calculate Ground State - 1.21s, Get Pauli Ops - 5.25s, Calculate Pauli Expectation Values - 6.72s, Calculate Covariance - 2.14s\n",
      "f0,f1,f2 = [1.6824676775291477e-09, 1.6824676588055702e-09, 1.682467686342413e-09]\n",
      "d01,d02,d12 = [1.0207993494881495, 1.020799351634587, 1.0207993501756707]\n"
     ]
    },
    {
     "name": "stderr",
     "output_type": "stream",
     "text": [
      "/cluster/home/mskrabulis/miniconda3/envs/quantech/lib/python3.9/site-packages/pyscf/symm/Dmatrix.py:156: RuntimeWarning: invalid value encountered in arccos\n",
      "  gamma = numpy.arccos(yp.dot(c2[1]))\n",
      "Progress:  68%|██████▊   | 684/1000 [2:50:23<1:19:12, 15.04s/it]"
     ]
    },
    {
     "name": "stdout",
     "output_type": "stream",
     "text": [
      "Time to: Calculate Ground State - 1.31s, Get Pauli Ops - 5.24s, Calculate Pauli Expectation Values - 6.96s, Calculate Covariance - 2.19s\n",
      "f0,f1,f2 = [1.7751668081409497e-09, 1.7751667892793184e-09, 1.7751668170326722e-09]\n",
      "d01,d02,d12 = [1.0199886901161273, 1.019988692356257, 1.0199886908335827]\n"
     ]
    },
    {
     "name": "stderr",
     "output_type": "stream",
     "text": [
      "/cluster/home/mskrabulis/miniconda3/envs/quantech/lib/python3.9/site-packages/pyscf/symm/Dmatrix.py:156: RuntimeWarning: invalid value encountered in arccos\n",
      "  gamma = numpy.arccos(yp.dot(c2[1]))\n",
      "Progress:  68%|██████▊   | 685/1000 [2:50:40<1:22:38, 15.74s/it]"
     ]
    },
    {
     "name": "stdout",
     "output_type": "stream",
     "text": [
      "Time to: Calculate Ground State - 1.03s, Get Pauli Ops - 5.05s, Calculate Pauli Expectation Values - 9.03s, Calculate Covariance - 2.26s\n",
      "f0,f1,f2 = [1.409631952455903e-09, 1.4096319336291688e-09, 1.4096319613241723e-09]\n",
      "d01,d02,d12 = [1.0184614586185172, 1.0184614609399334, 1.018461459361935]\n"
     ]
    },
    {
     "name": "stderr",
     "output_type": "stream",
     "text": [
      "/cluster/home/mskrabulis/miniconda3/envs/quantech/lib/python3.9/site-packages/pyscf/symm/Dmatrix.py:156: RuntimeWarning: invalid value encountered in arccos\n",
      "  gamma = numpy.arccos(yp.dot(c2[1]))\n",
      "Progress:  69%|██████▊   | 686/1000 [2:50:55<1:21:24, 15.56s/it]"
     ]
    },
    {
     "name": "stdout",
     "output_type": "stream",
     "text": [
      "Time to: Calculate Ground State - 1.03s, Get Pauli Ops - 5.04s, Calculate Pauli Expectation Values - 6.87s, Calculate Covariance - 2.18s\n",
      "f0,f1,f2 = [1.3876952625065492e-09, 1.3876952407663276e-09, 1.387695272746769e-09]\n",
      "d01,d02,d12 = [1.0165641771056941, 1.016564179496926, 1.016564177871402]\n"
     ]
    },
    {
     "name": "stderr",
     "output_type": "stream",
     "text": [
      "Progress:  69%|██████▊   | 687/1000 [2:51:11<1:21:51, 15.69s/it]"
     ]
    },
    {
     "name": "stdout",
     "output_type": "stream",
     "text": [
      "Time to: Calculate Ground State - 1.02s, Get Pauli Ops - 5.04s, Calculate Pauli Expectation Values - 7.72s, Calculate Covariance - 2.22s\n",
      "f0,f1,f2 = [1.7758149201882416e-09, 1.7758148950501214e-09, 1.7758149320265556e-09]\n",
      "d01,d02,d12 = [1.0139839799816863, 1.0139839824236478, 1.013983980763574]\n"
     ]
    },
    {
     "name": "stderr",
     "output_type": "stream",
     "text": [
      "/cluster/home/mskrabulis/miniconda3/envs/quantech/lib/python3.9/site-packages/pyscf/symm/Dmatrix.py:156: RuntimeWarning: invalid value encountered in arccos\n",
      "  gamma = numpy.arccos(yp.dot(c2[1]))\n",
      "Progress:  69%|██████▉   | 688/1000 [2:51:29<1:24:45, 16.30s/it]"
     ]
    },
    {
     "name": "stdout",
     "output_type": "stream",
     "text": [
      "Time to: Calculate Ground State - 0.76s, Get Pauli Ops - 4.61s, Calculate Pauli Expectation Values - 9.98s, Calculate Covariance - 2.36s\n",
      "f0,f1,f2 = [1.686023127278992e-10, 1.6860228536038187e-10, 1.6860232562396708e-10]\n",
      "d01,d02,d12 = [1.0114264148690897, 1.0114264173474603, 1.0114264156625707]\n"
     ]
    },
    {
     "name": "stderr",
     "output_type": "stream",
     "text": [
      "/cluster/home/mskrabulis/miniconda3/envs/quantech/lib/python3.9/site-packages/pyscf/symm/Dmatrix.py:156: RuntimeWarning: invalid value encountered in arccos\n",
      "  gamma = numpy.arccos(yp.dot(c2[1]))\n",
      "Progress:  69%|██████▉   | 689/1000 [2:51:45<1:24:01, 16.21s/it]"
     ]
    },
    {
     "name": "stdout",
     "output_type": "stream",
     "text": [
      "Time to: Calculate Ground State - 1.49s, Get Pauli Ops - 4.71s, Calculate Pauli Expectation Values - 8.06s, Calculate Covariance - 1.72s\n",
      "f0,f1,f2 = [5.640079691227321e-10, 5.640079448373196e-10, 5.640079805638398e-10]\n",
      "d01,d02,d12 = [1.0088480901627812, 1.0088480926628811, 1.0088480909631559]\n"
     ]
    },
    {
     "name": "stderr",
     "output_type": "stream",
     "text": [
      "Progress:  69%|██████▉   | 690/1000 [2:51:59<1:20:23, 15.56s/it]"
     ]
    },
    {
     "name": "stdout",
     "output_type": "stream",
     "text": [
      "Time to: Calculate Ground State - 0.81s, Get Pauli Ops - 4.69s, Calculate Pauli Expectation Values - 6.04s, Calculate Covariance - 2.48s\n",
      "f0,f1,f2 = [1.931867257857476e-09, 1.9318672311900794e-09, 1.9318672704048142e-09]\n",
      "d01,d02,d12 = [1.0053145137481783, 1.0053145162509431, 1.005314514549346]\n"
     ]
    },
    {
     "name": "stderr",
     "output_type": "stream",
     "text": [
      "/cluster/home/mskrabulis/miniconda3/envs/quantech/lib/python3.9/site-packages/pyscf/symm/Dmatrix.py:156: RuntimeWarning: invalid value encountered in arccos\n",
      "  gamma = numpy.arccos(yp.dot(c2[1]))\n",
      "/cluster/home/mskrabulis/miniconda3/envs/quantech/lib/python3.9/site-packages/pyscf/symm/Dmatrix.py:156: RuntimeWarning: invalid value encountered in arccos\n",
      "  gamma = numpy.arccos(yp.dot(c2[1]))\n",
      "Progress:  69%|██████▉   | 691/1000 [2:52:15<1:20:55, 15.71s/it]"
     ]
    },
    {
     "name": "stdout",
     "output_type": "stream",
     "text": [
      "Time to: Calculate Ground State - 1.36s, Get Pauli Ops - 6.1s, Calculate Pauli Expectation Values - 6.11s, Calculate Covariance - 2.5s\n",
      "f0,f1,f2 = [4.887927129778938e-10, 4.887926886507505e-10, 4.887927244350663e-10]\n",
      "d01,d02,d12 = [1.0018986877759488, 1.0018986902702431, 1.0018986885743455]\n"
     ]
    },
    {
     "name": "stderr",
     "output_type": "stream",
     "text": [
      "Progress:  69%|██████▉   | 692/1000 [2:52:32<1:22:12, 16.02s/it]"
     ]
    },
    {
     "name": "stdout",
     "output_type": "stream",
     "text": [
      "Time to: Calculate Ground State - 1.52s, Get Pauli Ops - 5.18s, Calculate Pauli Expectation Values - 8.57s, Calculate Covariance - 1.44s\n",
      "f0,f1,f2 = [8.849924440464096e-10, 8.84992417711778e-10, 8.849924564436945e-10]\n",
      "d01,d02,d12 = [0.9984637928382756, 0.998463795311412, 0.9984637936298381]\n"
     ]
    },
    {
     "name": "stderr",
     "output_type": "stream",
     "text": [
      "/cluster/home/mskrabulis/miniconda3/envs/quantech/lib/python3.9/site-packages/pyscf/symm/Dmatrix.py:156: RuntimeWarning: invalid value encountered in arccos\n",
      "  gamma = numpy.arccos(yp.dot(c2[1]))\n",
      "Progress:  69%|██████▉   | 693/1000 [2:52:46<1:18:25, 15.33s/it]"
     ]
    },
    {
     "name": "stdout",
     "output_type": "stream",
     "text": [
      "Time to: Calculate Ground State - 1.05s, Get Pauli Ops - 4.65s, Calculate Pauli Expectation Values - 5.85s, Calculate Covariance - 2.16s\n",
      "f0,f1,f2 = [7.002184005986688e-10, 7.002183696221254e-10, 7.002184151677423e-10]\n",
      "d01,d02,d12 = [0.9943974876751305, 0.9943974901112037, 0.994397488454768]\n"
     ]
    },
    {
     "name": "stderr",
     "output_type": "stream",
     "text": [
      "/cluster/home/mskrabulis/miniconda3/envs/quantech/lib/python3.9/site-packages/pyscf/symm/Dmatrix.py:156: RuntimeWarning: invalid value encountered in arccos\n",
      "  gamma = numpy.arccos(yp.dot(c2[1]))\n",
      "Progress:  69%|██████▉   | 694/1000 [2:53:00<1:15:59, 14.90s/it]"
     ]
    },
    {
     "name": "stdout",
     "output_type": "stream",
     "text": [
      "Time to: Calculate Ground State - 1.09s, Get Pauli Ops - 5.0s, Calculate Pauli Expectation Values - 5.97s, Calculate Covariance - 1.83s\n",
      "f0,f1,f2 = [7.19114299502846e-11, 7.191140354352367e-11, 7.191144236368587e-11]\n",
      "d01,d02,d12 = [0.9903963508815732, 0.9903963532615369, 0.990396351643193]\n"
     ]
    },
    {
     "name": "stderr",
     "output_type": "stream",
     "text": [
      "/cluster/home/mskrabulis/miniconda3/envs/quantech/lib/python3.9/site-packages/pyscf/symm/Dmatrix.py:156: RuntimeWarning: invalid value encountered in arccos\n",
      "  gamma = numpy.arccos(yp.dot(c2[1]))\n",
      "Progress:  70%|██████▉   | 695/1000 [2:53:14<1:14:25, 14.64s/it]"
     ]
    },
    {
     "name": "stdout",
     "output_type": "stream",
     "text": [
      "Time to: Calculate Ground State - 1.06s, Get Pauli Ops - 4.39s, Calculate Pauli Expectation Values - 6.39s, Calculate Covariance - 2.2s\n",
      "f0,f1,f2 = [8.573464372040064e-10, 8.573464138025842e-10, 8.573464482155288e-10]\n",
      "d01,d02,d12 = [0.9856916818461117, 0.9856916841536277, 0.985691682584482]\n"
     ]
    },
    {
     "name": "stderr",
     "output_type": "stream",
     "text": [
      "Progress:  70%|██████▉   | 696/1000 [2:53:30<1:16:37, 15.12s/it]"
     ]
    },
    {
     "name": "stdout",
     "output_type": "stream",
     "text": [
      "Time to: Calculate Ground State - 1.38s, Get Pauli Ops - 6.79s, Calculate Pauli Expectation Values - 5.93s, Calculate Covariance - 2.15s\n",
      "f0,f1,f2 = [1.8447693805600713e-10, 1.8447696637221363e-10, 1.8447692472322983e-10]\n",
      "d01,d02,d12 = [0.9810263334898723, 0.9810263357019752, 0.9810263341976434]\n"
     ]
    },
    {
     "name": "stderr",
     "output_type": "stream",
     "text": [
      "Progress:  70%|██████▉   | 697/1000 [2:53:46<1:18:00, 15.45s/it]"
     ]
    },
    {
     "name": "stdout",
     "output_type": "stream",
     "text": [
      "Time to: Calculate Ground State - 1.37s, Get Pauli Ops - 5.82s, Calculate Pauli Expectation Values - 6.74s, Calculate Covariance - 2.26s\n",
      "f0,f1,f2 = [4.367022712387728e-10, 4.367022517355728e-10, 4.367022804188412e-10]\n",
      "d01,d02,d12 = [0.9764297163011072, 0.9764297184080214, 0.9764297169751506]\n"
     ]
    },
    {
     "name": "stderr",
     "output_type": "stream",
     "text": [
      "Progress:  70%|██████▉   | 698/1000 [2:54:01<1:17:29, 15.40s/it]"
     ]
    },
    {
     "name": "stdout",
     "output_type": "stream",
     "text": [
      "Time to: Calculate Ground State - 1.15s, Get Pauli Ops - 4.4s, Calculate Pauli Expectation Values - 7.85s, Calculate Covariance - 1.87s\n",
      "f0,f1,f2 = [4.905840266414303e-10, 4.905840536875312e-10, 4.905840139094464e-10]\n",
      "d01,d02,d12 = [0.9719186126598205, 0.9719186146448775, 0.9719186132948083]\n"
     ]
    },
    {
     "name": "stderr",
     "output_type": "stream",
     "text": [
      "Progress:  70%|██████▉   | 699/1000 [2:54:18<1:18:20, 15.62s/it]"
     ]
    },
    {
     "name": "stdout",
     "output_type": "stream",
     "text": [
      "Time to: Calculate Ground State - 1.01s, Get Pauli Ops - 7.3s, Calculate Pauli Expectation Values - 5.61s, Calculate Covariance - 2.2s\n",
      "f0,f1,f2 = [7.075933124760321e-10, 7.075932878777355e-10, 7.075933240413728e-10]\n",
      "d01,d02,d12 = [0.9673350157984859, 0.967335017644419, 0.9673350163888974]\n"
     ]
    },
    {
     "name": "stderr",
     "output_type": "stream",
     "text": [
      "/cluster/home/mskrabulis/miniconda3/envs/quantech/lib/python3.9/site-packages/pyscf/symm/Dmatrix.py:156: RuntimeWarning: invalid value encountered in arccos\n",
      "  gamma = numpy.arccos(yp.dot(c2[1]))\n",
      "Progress:  70%|███████   | 700/1000 [2:54:31<1:14:44, 14.95s/it]"
     ]
    },
    {
     "name": "stdout",
     "output_type": "stream",
     "text": [
      "Time to: Calculate Ground State - 1.02s, Get Pauli Ops - 4.4s, Calculate Pauli Expectation Values - 5.98s, Calculate Covariance - 1.98s\n",
      "f0,f1,f2 = [9.607591824769501e-10, 9.607592070155999e-10, 9.607591709310008e-10]\n",
      "d01,d02,d12 = [0.9631474203647001, 0.9631474220575588, 0.9631474209060686]\n"
     ]
    },
    {
     "name": "stderr",
     "output_type": "stream",
     "text": [
      "Progress:  70%|███████   | 701/1000 [2:54:46<1:14:04, 14.86s/it]"
     ]
    },
    {
     "name": "stdout",
     "output_type": "stream",
     "text": [
      "Time to: Calculate Ground State - 1.06s, Get Pauli Ops - 4.63s, Calculate Pauli Expectation Values - 7.11s, Calculate Covariance - 1.86s\n",
      "f0,f1,f2 = [8.252504176221544e-10, 8.252504384137366e-10, 8.252504078581034e-10]\n",
      "d01,d02,d12 = [0.9595802680838268, 0.9595802696093687, 0.9595802685716017]\n"
     ]
    },
    {
     "name": "stderr",
     "output_type": "stream",
     "text": [
      "/cluster/home/mskrabulis/miniconda3/envs/quantech/lib/python3.9/site-packages/pyscf/symm/Dmatrix.py:156: RuntimeWarning: invalid value encountered in arccos\n",
      "  gamma = numpy.arccos(yp.dot(c2[1]))\n",
      "Progress:  70%|███████   | 702/1000 [2:55:00<1:12:43, 14.64s/it]"
     ]
    },
    {
     "name": "stdout",
     "output_type": "stream",
     "text": [
      "Time to: Calculate Ground State - 1.24s, Get Pauli Ops - 5.13s, Calculate Pauli Expectation Values - 6.02s, Calculate Covariance - 1.71s\n",
      "f0,f1,f2 = [1.4115940891493272e-09, 1.4115941072152576e-09, 1.4115940806424704e-09]\n",
      "d01,d02,d12 = [0.9566180279996988, 0.9566180293434772, 0.9566180284292597]\n"
     ]
    },
    {
     "name": "stderr",
     "output_type": "stream",
     "text": [
      "Progress:  70%|███████   | 703/1000 [2:55:17<1:15:51, 15.32s/it]"
     ]
    },
    {
     "name": "stdout",
     "output_type": "stream",
     "text": [
      "Time to: Calculate Ground State - 1.1s, Get Pauli Ops - 4.56s, Calculate Pauli Expectation Values - 9.06s, Calculate Covariance - 2.19s\n",
      "f0,f1,f2 = [1.6659850266080193e-09, 1.665985043467241e-09, 1.6659850186940614e-09]\n",
      "d01,d02,d12 = [0.954596942221464, 0.9545969433772568, 0.9545969425908263]\n"
     ]
    },
    {
     "name": "stderr",
     "output_type": "stream",
     "text": [
      "/cluster/home/mskrabulis/miniconda3/envs/quantech/lib/python3.9/site-packages/pyscf/symm/Dmatrix.py:156: RuntimeWarning: invalid value encountered in arccos\n",
      "  gamma = numpy.arccos(yp.dot(c2[1]))\n",
      "Progress:  70%|███████   | 704/1000 [2:55:32<1:16:00, 15.41s/it]"
     ]
    },
    {
     "name": "stdout",
     "output_type": "stream",
     "text": [
      "Time to: Calculate Ground State - 1.26s, Get Pauli Ops - 6.43s, Calculate Pauli Expectation Values - 6.05s, Calculate Covariance - 1.85s\n",
      "f0,f1,f2 = [1.3956742400834717e-09, 1.3956742545736254e-09, 1.3956742332807146e-09]\n",
      "d01,d02,d12 = [0.9532104108970975, 0.9532104118572545, 0.9532104112038177]\n"
     ]
    },
    {
     "name": "stderr",
     "output_type": "stream",
     "text": [
      "/cluster/home/mskrabulis/miniconda3/envs/quantech/lib/python3.9/site-packages/pyscf/symm/Dmatrix.py:156: RuntimeWarning: invalid value encountered in arccos\n",
      "  gamma = numpy.arccos(yp.dot(c2[1]))\n",
      "Progress:  70%|███████   | 705/1000 [2:55:53<1:22:57, 16.87s/it]"
     ]
    },
    {
     "name": "stdout",
     "output_type": "stream",
     "text": [
      "Time to: Calculate Ground State - 1.36s, Get Pauli Ops - 9.76s, Calculate Pauli Expectation Values - 6.98s, Calculate Covariance - 2.19s\n",
      "f0,f1,f2 = [1.5852662712402607e-09, 1.5852662831519114e-09, 1.5852662656583171e-09]\n",
      "d01,d02,d12 = [0.9525456352495563, 0.9525456360080815, 0.9525456354917216]\n"
     ]
    },
    {
     "name": "stderr",
     "output_type": "stream",
     "text": [
      "/cluster/home/mskrabulis/miniconda3/envs/quantech/lib/python3.9/site-packages/pyscf/symm/Dmatrix.py:156: RuntimeWarning: invalid value encountered in arccos\n",
      "  gamma = numpy.arccos(yp.dot(c2[1]))\n",
      "/cluster/home/mskrabulis/miniconda3/envs/quantech/lib/python3.9/site-packages/pyscf/symm/Dmatrix.py:156: RuntimeWarning: invalid value encountered in arccos\n",
      "  gamma = numpy.arccos(yp.dot(c2[1]))\n",
      "Progress:  71%|███████   | 706/1000 [2:56:09<1:21:54, 16.71s/it]"
     ]
    },
    {
     "name": "stdout",
     "output_type": "stream",
     "text": [
      "Time to: Calculate Ground State - 1.3s, Get Pauli Ops - 6.34s, Calculate Pauli Expectation Values - 6.5s, Calculate Covariance - 2.19s\n",
      "f0,f1,f2 = [8.96706669490026e-10, 8.967066792429357e-10, 8.967066649309054e-10]\n",
      "d01,d02,d12 = [0.9522912318277322, 0.9522912323786145, 0.9522912320034272]\n"
     ]
    },
    {
     "name": "stderr",
     "output_type": "stream",
     "text": [
      "Progress:  71%|███████   | 707/1000 [2:56:23<1:17:17, 15.83s/it]"
     ]
    },
    {
     "name": "stdout",
     "output_type": "stream",
     "text": [
      "Time to: Calculate Ground State - 1.01s, Get Pauli Ops - 5.12s, Calculate Pauli Expectation Values - 5.93s, Calculate Covariance - 1.68s\n",
      "f0,f1,f2 = [1.610490735199152e-09, 1.6104907422787005e-09, 1.6104907318715144e-09]\n",
      "d01,d02,d12 = [0.9527221332867659, 0.9527221336258631, 0.9527221333946654]\n"
     ]
    },
    {
     "name": "stderr",
     "output_type": "stream",
     "text": [
      "Progress:  71%|███████   | 708/1000 [2:56:35<1:12:34, 14.91s/it]"
     ]
    },
    {
     "name": "stdout",
     "output_type": "stream",
     "text": [
      "Time to: Calculate Ground State - 1.03s, Get Pauli Ops - 4.38s, Calculate Pauli Expectation Values - 5.96s, Calculate Covariance - 1.39s\n",
      "f0,f1,f2 = [2.2257397526621622e-09, 2.225739756780908e-09, 2.225739750744739e-09]\n",
      "d01,d02,d12 = [0.9540985593311703, 0.95409855945634, 0.9540985593705923]\n"
     ]
    },
    {
     "name": "stderr",
     "output_type": "stream",
     "text": [
      "Progress:  71%|███████   | 709/1000 [2:56:52<1:14:26, 15.35s/it]"
     ]
    },
    {
     "name": "stdout",
     "output_type": "stream",
     "text": [
      "Time to: Calculate Ground State - 0.77s, Get Pauli Ops - 7.04s, Calculate Pauli Expectation Values - 6.82s, Calculate Covariance - 1.73s\n",
      "f0,f1,f2 = [1.9437526527402362e-10, 1.9437526692814222e-10, 1.943752645092325e-10]\n",
      "d01,d02,d12 = [0.9554972322861575, 0.9554972321961309, 0.9554972322567049]\n"
     ]
    },
    {
     "name": "stderr",
     "output_type": "stream",
     "text": [
      "Progress:  71%|███████   | 710/1000 [2:57:06<1:12:34, 15.02s/it]"
     ]
    },
    {
     "name": "stdout",
     "output_type": "stream",
     "text": [
      "Time to: Calculate Ground State - 1.05s, Get Pauli Ops - 4.2s, Calculate Pauli Expectation Values - 6.83s, Calculate Covariance - 2.15s\n",
      "f0,f1,f2 = [1.656120580736775e-09, 1.6561205796316478e-09, 1.6561205812726144e-09]\n",
      "d01,d02,d12 = [0.9576315391652258, 0.9576315388607272, 0.9576315390671346]\n"
     ]
    },
    {
     "name": "stderr",
     "output_type": "stream",
     "text": [
      "Progress:  71%|███████   | 711/1000 [2:57:22<1:13:47, 15.32s/it]"
     ]
    },
    {
     "name": "stdout",
     "output_type": "stream",
     "text": [
      "Time to: Calculate Ground State - 1.05s, Get Pauli Ops - 6.79s, Calculate Pauli Expectation Values - 6.36s, Calculate Covariance - 1.82s\n",
      "f0,f1,f2 = [1.8485701956161322e-09, 1.848570191236088e-09, 1.8485701976852635e-09]\n",
      "d01,d02,d12 = [0.9603915468050537, 0.9603915462887471, 0.9603915466391776]\n"
     ]
    },
    {
     "name": "stderr",
     "output_type": "stream",
     "text": [
      "Progress:  71%|███████   | 712/1000 [2:57:36<1:12:11, 15.04s/it]"
     ]
    },
    {
     "name": "stdout",
     "output_type": "stream",
     "text": [
      "Time to: Calculate Ground State - 0.76s, Get Pauli Ops - 4.6s, Calculate Pauli Expectation Values - 6.58s, Calculate Covariance - 2.44s\n",
      "f0,f1,f2 = [4.635378785794833e-10, 4.635378717203124e-10, 4.63537881830868e-10]\n",
      "d01,d02,d12 = [0.9632004998419621, 0.963200499118142, 0.9632004996096756]\n"
     ]
    },
    {
     "name": "stderr",
     "output_type": "stream",
     "text": [
      "Progress:  71%|███████▏  | 713/1000 [2:57:50<1:09:56, 14.62s/it]"
     ]
    },
    {
     "name": "stdout",
     "output_type": "stream",
     "text": [
      "Time to: Calculate Ground State - 1.05s, Get Pauli Ops - 4.59s, Calculate Pauli Expectation Values - 5.85s, Calculate Covariance - 2.16s\n",
      "f0,f1,f2 = [1.1343575151713986e-09, 1.1343575058097026e-09, 1.1343575196069055e-09]\n",
      "d01,d02,d12 = [0.9663850143472495, 0.9663850134221984, 0.966385014050571]\n"
     ]
    },
    {
     "name": "stderr",
     "output_type": "stream",
     "text": [
      "/cluster/home/mskrabulis/miniconda3/envs/quantech/lib/python3.9/site-packages/pyscf/symm/Dmatrix.py:156: RuntimeWarning: invalid value encountered in arccos\n",
      "  gamma = numpy.arccos(yp.dot(c2[1]))\n",
      "Progress:  71%|███████▏  | 714/1000 [2:58:05<1:09:39, 14.61s/it]"
     ]
    },
    {
     "name": "stdout",
     "output_type": "stream",
     "text": [
      "Time to: Calculate Ground State - 1.04s, Get Pauli Ops - 4.58s, Calculate Pauli Expectation Values - 6.62s, Calculate Covariance - 2.35s\n",
      "f0,f1,f2 = [8.167027443846796e-10, 8.167027335823318e-10, 8.167027494884883e-10]\n",
      "d01,d02,d12 = [0.9697296035717624, 0.9697296024491726, 0.9697296032118751]\n"
     ]
    },
    {
     "name": "stderr",
     "output_type": "stream",
     "text": [
      "Progress:  72%|███████▏  | 715/1000 [2:58:19<1:08:17, 14.38s/it]"
     ]
    },
    {
     "name": "stdout",
     "output_type": "stream",
     "text": [
      "Time to: Calculate Ground State - 1.34s, Get Pauli Ops - 4.52s, Calculate Pauli Expectation Values - 5.83s, Calculate Covariance - 2.13s\n",
      "f0,f1,f2 = [3.096192054973624e-10, 3.096191918306731e-10, 3.096192119290493e-10]\n",
      "d01,d02,d12 = [0.9731749316119962, 0.9731749302998722, 0.9731749311914628]\n"
     ]
    },
    {
     "name": "stderr",
     "output_type": "stream",
     "text": [
      "/cluster/home/mskrabulis/miniconda3/envs/quantech/lib/python3.9/site-packages/pyscf/symm/Dmatrix.py:156: RuntimeWarning: invalid value encountered in arccos\n",
      "  gamma = numpy.arccos(yp.dot(c2[1]))\n",
      "Progress:  72%|███████▏  | 716/1000 [2:58:32<1:07:27, 14.25s/it]"
     ]
    },
    {
     "name": "stdout",
     "output_type": "stream",
     "text": [
      "Time to: Calculate Ground State - 1.05s, Get Pauli Ops - 5.5s, Calculate Pauli Expectation Values - 5.58s, Calculate Covariance - 1.83s\n",
      "f0,f1,f2 = [5.90234044515499e-10, 5.902340265870445e-10, 5.902340529856707e-10]\n",
      "d01,d02,d12 = [0.9772111724586294, 0.977211170965154, 0.9772111719800753]\n"
     ]
    },
    {
     "name": "stderr",
     "output_type": "stream",
     "text": [
      "Progress:  72%|███████▏  | 717/1000 [2:58:46<1:06:46, 14.16s/it]"
     ]
    },
    {
     "name": "stdout",
     "output_type": "stream",
     "text": [
      "Time to: Calculate Ground State - 1.31s, Get Pauli Ops - 4.45s, Calculate Pauli Expectation Values - 6.01s, Calculate Covariance - 2.15s\n",
      "f0,f1,f2 = [6.780277495087467e-10, 6.780277303742999e-10, 6.780277585487874e-10]\n",
      "d01,d02,d12 = [0.9814697559384309, 0.9814697542733803, 0.9814697554049883]\n"
     ]
    },
    {
     "name": "stderr",
     "output_type": "stream",
     "text": [
      "Progress:  72%|███████▏  | 718/1000 [2:59:03<1:09:45, 14.84s/it]"
     ]
    },
    {
     "name": "stdout",
     "output_type": "stream",
     "text": [
      "Time to: Calculate Ground State - 1.21s, Get Pauli Ops - 6.7s, Calculate Pauli Expectation Values - 6.43s, Calculate Covariance - 2.08s\n",
      "f0,f1,f2 = [8.01286755991128e-10, 8.012867387683544e-10, 8.012867641003271e-10]\n",
      "d01,d02,d12 = [0.9853055980324696, 0.9853055962099683, 0.9853055974486588]\n"
     ]
    },
    {
     "name": "stderr",
     "output_type": "stream",
     "text": [
      "/cluster/home/mskrabulis/miniconda3/envs/quantech/lib/python3.9/site-packages/pyscf/symm/Dmatrix.py:156: RuntimeWarning: invalid value encountered in arccos\n",
      "  gamma = numpy.arccos(yp.dot(c2[1]))\n",
      "Progress:  72%|███████▏  | 719/1000 [2:59:17<1:08:19, 14.59s/it]"
     ]
    },
    {
     "name": "stdout",
     "output_type": "stream",
     "text": [
      "Time to: Calculate Ground State - 1.06s, Get Pauli Ops - 4.53s, Calculate Pauli Expectation Values - 6.24s, Calculate Covariance - 2.15s\n",
      "f0,f1,f2 = [9.272454854763297e-10, 9.27245503736209e-10, 9.272454768778871e-10]\n",
      "d01,d02,d12 = [0.9884104262711262, 0.9884104243021814, 0.9884104256404704]\n"
     ]
    },
    {
     "name": "stderr",
     "output_type": "stream",
     "text": [
      "Progress:  72%|███████▏  | 720/1000 [2:59:30<1:05:48, 14.10s/it]"
     ]
    },
    {
     "name": "stdout",
     "output_type": "stream",
     "text": [
      "Time to: Calculate Ground State - 0.98s, Get Pauli Ops - 4.87s, Calculate Pauli Expectation Values - 5.67s, Calculate Covariance - 1.44s\n",
      "f0,f1,f2 = [2.715429211431164e-11, 2.7154268935680132e-11, 2.7154303019725576e-11]\n",
      "d01,d02,d12 = [0.9915060043450383, 0.9915060022387292, 0.9915060036704433]\n"
     ]
    },
    {
     "name": "stderr",
     "output_type": "stream",
     "text": [
      "/cluster/home/mskrabulis/miniconda3/envs/quantech/lib/python3.9/site-packages/pyscf/symm/Dmatrix.py:156: RuntimeWarning: invalid value encountered in arccos\n",
      "  gamma = numpy.arccos(yp.dot(c2[1]))\n",
      "Progress:  72%|███████▏  | 721/1000 [2:59:44<1:05:30, 14.09s/it]"
     ]
    },
    {
     "name": "stdout",
     "output_type": "stream",
     "text": [
      "Time to: Calculate Ground State - 1.23s, Get Pauli Ops - 4.63s, Calculate Pauli Expectation Values - 6.14s, Calculate Covariance - 2.05s\n",
      "f0,f1,f2 = [1.317933991133922e-09, 1.317934012683218e-09, 1.3179339809969844e-09]\n",
      "d01,d02,d12 = [0.9938182900517119, 0.9938182878235947, 0.993818289338158]\n"
     ]
    },
    {
     "name": "stderr",
     "output_type": "stream",
     "text": [
      "Progress:  72%|███████▏  | 722/1000 [2:59:59<1:07:14, 14.51s/it]"
     ]
    },
    {
     "name": "stdout",
     "output_type": "stream",
     "text": [
      "Time to: Calculate Ground State - 1.04s, Get Pauli Ops - 4.9s, Calculate Pauli Expectation Values - 7.34s, Calculate Covariance - 2.22s\n",
      "f0,f1,f2 = [4.413098388839699e-10, 4.413098625530355e-10, 4.4130982773820517e-10]\n",
      "d01,d02,d12 = [0.9961697814846315, 0.9961697791481806, 0.9961697807364323]\n"
     ]
    },
    {
     "name": "stderr",
     "output_type": "stream",
     "text": [
      "/cluster/home/mskrabulis/miniconda3/envs/quantech/lib/python3.9/site-packages/pyscf/symm/Dmatrix.py:156: RuntimeWarning: invalid value encountered in arccos\n",
      "  gamma = numpy.arccos(yp.dot(c2[1]))\n",
      "Progress:  72%|███████▏  | 723/1000 [3:00:11<1:03:39, 13.79s/it]"
     ]
    },
    {
     "name": "stdout",
     "output_type": "stream",
     "text": [
      "Time to: Calculate Ground State - 0.77s, Get Pauli Ops - 4.21s, Calculate Pauli Expectation Values - 5.72s, Calculate Covariance - 1.39s\n",
      "f0,f1,f2 = [1.4178042273611493e-10, 1.417804452469006e-10, 1.417804121354228e-10]\n",
      "d01,d02,d12 = [0.9982404530289438, 0.9982404505997808, 0.9982404522511007]\n"
     ]
    },
    {
     "name": "stderr",
     "output_type": "stream",
     "text": [
      "/cluster/home/mskrabulis/miniconda3/envs/quantech/lib/python3.9/site-packages/pyscf/symm/Dmatrix.py:156: RuntimeWarning: invalid value encountered in arccos\n",
      "  gamma = numpy.arccos(yp.dot(c2[1]))\n",
      "Progress:  72%|███████▏  | 724/1000 [3:00:27<1:05:27, 14.23s/it]"
     ]
    },
    {
     "name": "stdout",
     "output_type": "stream",
     "text": [
      "Time to: Calculate Ground State - 1.32s, Get Pauli Ops - 5.54s, Calculate Pauli Expectation Values - 6.31s, Calculate Covariance - 2.09s\n",
      "f0,f1,f2 = [1.2529724433487447e-09, 1.2529724667406434e-09, 1.2529724323441005e-09]\n",
      "d01,d02,d12 = [0.999781072619705, 0.9997810701145065, 0.9997810718175588]\n"
     ]
    },
    {
     "name": "stderr",
     "output_type": "stream",
     "text": [
      "Progress:  72%|███████▎  | 725/1000 [3:00:43<1:07:23, 14.70s/it]"
     ]
    },
    {
     "name": "stdout",
     "output_type": "stream",
     "text": [
      "Time to: Calculate Ground State - 1.03s, Get Pauli Ops - 4.62s, Calculate Pauli Expectation Values - 7.9s, Calculate Covariance - 2.26s\n",
      "f0,f1,f2 = [5.061145094239232e-10, 5.061145347213107e-10, 5.061144975394303e-10]\n",
      "d01,d02,d12 = [1.0013750074536911, 1.0013750048864125, 1.001375006631705]\n"
     ]
    },
    {
     "name": "stderr",
     "output_type": "stream",
     "text": [
      "Progress:  73%|███████▎  | 726/1000 [3:00:56<1:05:56, 14.44s/it]"
     ]
    },
    {
     "name": "stdout",
     "output_type": "stream",
     "text": [
      "Time to: Calculate Ground State - 0.81s, Get Pauli Ops - 4.85s, Calculate Pauli Expectation Values - 6.39s, Calculate Covariance - 1.77s\n",
      "f0,f1,f2 = [4.1082391338244475e-10, 4.108239386727626e-10, 4.108239014858854e-10]\n",
      "d01,d02,d12 = [1.0029656132229983, 1.0029656106045142, 1.0029656123846498]\n"
     ]
    },
    {
     "name": "stderr",
     "output_type": "stream",
     "text": [
      "/cluster/home/mskrabulis/miniconda3/envs/quantech/lib/python3.9/site-packages/pyscf/symm/Dmatrix.py:156: RuntimeWarning: invalid value encountered in arccos\n",
      "  gamma = numpy.arccos(yp.dot(c2[1]))\n",
      "Progress:  73%|███████▎  | 727/1000 [3:01:11<1:05:19, 14.36s/it]"
     ]
    },
    {
     "name": "stdout",
     "output_type": "stream",
     "text": [
      "Time to: Calculate Ground State - 1.02s, Get Pauli Ops - 4.45s, Calculate Pauli Expectation Values - 6.93s, Calculate Covariance - 1.75s\n",
      "f0,f1,f2 = [1.1261259195343403e-09, 1.1261259453559974e-09, 1.1261259073568427e-09]\n",
      "d01,d02,d12 = [1.004081238709483, 1.0040812360550764, 1.0040812378596673]\n"
     ]
    },
    {
     "name": "stderr",
     "output_type": "stream",
     "text": [
      "Progress:  73%|███████▎  | 728/1000 [3:01:25<1:05:14, 14.39s/it]"
     ]
    },
    {
     "name": "stdout",
     "output_type": "stream",
     "text": [
      "Time to: Calculate Ground State - 1.08s, Get Pauli Ops - 4.05s, Calculate Pauli Expectation Values - 7.53s, Calculate Covariance - 1.8s\n",
      "f0,f1,f2 = [6.28493854613669e-10, 6.284938274795858e-10, 6.284938673964952e-10]\n",
      "d01,d02,d12 = [1.005498962176439, 1.0054989595000523, 1.0054989613196175]\n"
     ]
    },
    {
     "name": "stderr",
     "output_type": "stream",
     "text": [
      "/cluster/home/mskrabulis/miniconda3/envs/quantech/lib/python3.9/site-packages/pyscf/symm/Dmatrix.py:156: RuntimeWarning: invalid value encountered in arccos\n",
      "  gamma = numpy.arccos(yp.dot(c2[1]))\n",
      "/cluster/home/mskrabulis/miniconda3/envs/quantech/lib/python3.9/site-packages/pyscf/symm/Dmatrix.py:156: RuntimeWarning: invalid value encountered in arccos\n",
      "  gamma = numpy.arccos(yp.dot(c2[1]))\n",
      "Progress:  73%|███████▎  | 729/1000 [3:01:40<1:05:12, 14.44s/it]"
     ]
    },
    {
     "name": "stdout",
     "output_type": "stream",
     "text": [
      "Time to: Calculate Ground State - 1.37s, Get Pauli Ops - 4.81s, Calculate Pauli Expectation Values - 6.32s, Calculate Covariance - 2.04s\n",
      "f0,f1,f2 = [1.0133077261374308e-09, 1.0133077002315551e-09, 1.0133077383510106e-09]\n",
      "d01,d02,d12 = [1.0072465606757182, 1.0072465579906924, 1.0072465598161653]\n"
     ]
    },
    {
     "name": "stderr",
     "output_type": "stream",
     "text": [
      "Progress:  73%|███████▎  | 730/1000 [3:01:55<1:06:34, 14.79s/it]"
     ]
    },
    {
     "name": "stdout",
     "output_type": "stream",
     "text": [
      "Time to: Calculate Ground State - 1.3s, Get Pauli Ops - 5.79s, Calculate Pauli Expectation Values - 6.47s, Calculate Covariance - 2.05s\n",
      "f0,f1,f2 = [5.2689177416653793e-11, 5.268915193258705e-11, 5.2689189419926805e-11]\n",
      "d01,d02,d12 = [1.0090107028232724, 1.0090107001424358, 1.0090107019650936]\n"
     ]
    },
    {
     "name": "stderr",
     "output_type": "stream",
     "text": [
      "/cluster/home/mskrabulis/miniconda3/envs/quantech/lib/python3.9/site-packages/pyscf/symm/Dmatrix.py:156: RuntimeWarning: invalid value encountered in arccos\n",
      "  gamma = numpy.arccos(yp.dot(c2[1]))\n",
      "Progress:  73%|███████▎  | 731/1000 [3:02:11<1:08:07, 15.20s/it]"
     ]
    },
    {
     "name": "stdout",
     "output_type": "stream",
     "text": [
      "Time to: Calculate Ground State - 1.08s, Get Pauli Ops - 6.64s, Calculate Pauli Expectation Values - 6.4s, Calculate Covariance - 2.0s\n",
      "f0,f1,f2 = [5.324599993568916e-10, 5.324600261328179e-10, 5.324599867594365e-10]\n",
      "d01,d02,d12 = [1.0104899439954973, 1.010489941333016, 1.0104899431432266]\n"
     ]
    },
    {
     "name": "stderr",
     "output_type": "stream",
     "text": [
      "Progress:  73%|███████▎  | 732/1000 [3:02:26<1:06:38, 14.92s/it]"
     ]
    },
    {
     "name": "stdout",
     "output_type": "stream",
     "text": [
      "Time to: Calculate Ground State - 1.05s, Get Pauli Ops - 4.65s, Calculate Pauli Expectation Values - 6.72s, Calculate Covariance - 1.86s\n",
      "f0,f1,f2 = [3.3502224512123554e-10, 3.350222741718385e-10, 3.350222314448472e-10]\n",
      "d01,d02,d12 = [1.011844296765735, 1.0118442941383532, 1.0118442959247334]\n"
     ]
    },
    {
     "name": "stderr",
     "output_type": "stream",
     "text": [
      "/cluster/home/mskrabulis/miniconda3/envs/quantech/lib/python3.9/site-packages/pyscf/symm/Dmatrix.py:156: RuntimeWarning: invalid value encountered in arccos\n",
      "  gamma = numpy.arccos(yp.dot(c2[1]))\n",
      "/cluster/home/mskrabulis/miniconda3/envs/quantech/lib/python3.9/site-packages/pyscf/symm/Dmatrix.py:156: RuntimeWarning: invalid value encountered in arccos\n",
      "  gamma = numpy.arccos(yp.dot(c2[1]))\n",
      "Progress:  73%|███████▎  | 733/1000 [3:02:41<1:06:44, 15.00s/it]"
     ]
    },
    {
     "name": "stdout",
     "output_type": "stream",
     "text": [
      "Time to: Calculate Ground State - 1.26s, Get Pauli Ops - 4.83s, Calculate Pauli Expectation Values - 7.03s, Calculate Covariance - 2.04s\n",
      "f0,f1,f2 = [3.336601531658914e-10, 3.3366017813420375e-10, 3.336601413920049e-10]\n",
      "d01,d02,d12 = [1.0130896689235518, 1.0130896663425177, 1.013089668097422]\n"
     ]
    },
    {
     "name": "stderr",
     "output_type": "stream",
     "text": [
      "/cluster/home/mskrabulis/miniconda3/envs/quantech/lib/python3.9/site-packages/pyscf/symm/Dmatrix.py:156: RuntimeWarning: invalid value encountered in arccos\n",
      "  gamma = numpy.arccos(yp.dot(c2[1]))\n",
      "Progress:  73%|███████▎  | 734/1000 [3:02:55<1:05:59, 14.89s/it]"
     ]
    },
    {
     "name": "stdout",
     "output_type": "stream",
     "text": [
      "Time to: Calculate Ground State - 1.0s, Get Pauli Ops - 4.42s, Calculate Pauli Expectation Values - 7.33s, Calculate Covariance - 1.86s\n",
      "f0,f1,f2 = [8.079343761513373e-10, 8.079343995050915e-10, 8.079343651605813e-10]\n",
      "d01,d02,d12 = [1.014018948435738, 1.0140189459128879, 1.01401894762827]\n"
     ]
    },
    {
     "name": "stderr",
     "output_type": "stream",
     "text": [
      "/cluster/home/mskrabulis/miniconda3/envs/quantech/lib/python3.9/site-packages/pyscf/symm/Dmatrix.py:156: RuntimeWarning: invalid value encountered in arccos\n",
      "  gamma = numpy.arccos(yp.dot(c2[1]))\n",
      "/cluster/home/mskrabulis/miniconda3/envs/quantech/lib/python3.9/site-packages/pyscf/symm/Dmatrix.py:156: RuntimeWarning: invalid value encountered in arccos\n",
      "  gamma = numpy.arccos(yp.dot(c2[1]))\n",
      "Progress:  74%|███████▎  | 735/1000 [3:03:11<1:06:07, 14.97s/it]"
     ]
    },
    {
     "name": "stdout",
     "output_type": "stream",
     "text": [
      "Time to: Calculate Ground State - 1.32s, Get Pauli Ops - 4.87s, Calculate Pauli Expectation Values - 6.71s, Calculate Covariance - 2.25s\n",
      "f0,f1,f2 = [1.6518080708133501e-09, 1.6518080944493237e-09, 1.6518080596675178e-09]\n",
      "d01,d02,d12 = [1.0143393681243646, 1.0143393656736719, 1.0143393673400345]\n"
     ]
    },
    {
     "name": "stderr",
     "output_type": "stream",
     "text": [
      "/cluster/home/mskrabulis/miniconda3/envs/quantech/lib/python3.9/site-packages/pyscf/symm/Dmatrix.py:156: RuntimeWarning: invalid value encountered in arccos\n",
      "  gamma = numpy.arccos(yp.dot(c2[1]))\n",
      "Progress:  74%|███████▎  | 736/1000 [3:03:27<1:07:34, 15.36s/it]"
     ]
    },
    {
     "name": "stdout",
     "output_type": "stream",
     "text": [
      "Time to: Calculate Ground State - 1.24s, Get Pauli Ops - 7.02s, Calculate Pauli Expectation Values - 6.36s, Calculate Covariance - 1.62s\n",
      "f0,f1,f2 = [1.350656589323344e-09, 1.3506566116587504e-09, 1.350656578828195e-09]\n",
      "d01,d02,d12 = [1.0141325904970042, 1.014132588132565, 1.0141325897403202]\n"
     ]
    },
    {
     "name": "stderr",
     "output_type": "stream",
     "text": [
      "/cluster/home/mskrabulis/miniconda3/envs/quantech/lib/python3.9/site-packages/pyscf/symm/Dmatrix.py:156: RuntimeWarning: invalid value encountered in arccos\n",
      "  gamma = numpy.arccos(yp.dot(c2[1]))\n",
      "Progress:  74%|███████▎  | 737/1000 [3:03:42<1:07:23, 15.38s/it]"
     ]
    },
    {
     "name": "stdout",
     "output_type": "stream",
     "text": [
      "Time to: Calculate Ground State - 1.3s, Get Pauli Ops - 5.3s, Calculate Pauli Expectation Values - 6.73s, Calculate Covariance - 2.07s\n",
      "f0,f1,f2 = [1.0788666827670921e-09, 1.0788667076634752e-09, 1.0788666710158645e-09]\n",
      "d01,d02,d12 = [1.0135233414427276, 1.0135233391798522, 1.013523340718594]\n"
     ]
    },
    {
     "name": "stderr",
     "output_type": "stream",
     "text": [
      "Progress:  74%|███████▍  | 738/1000 [3:03:57<1:06:37, 15.26s/it]"
     ]
    },
    {
     "name": "stdout",
     "output_type": "stream",
     "text": [
      "Time to: Calculate Ground State - 1.16s, Get Pauli Ops - 5.7s, Calculate Pauli Expectation Values - 6.69s, Calculate Covariance - 1.41s\n",
      "f0,f1,f2 = [1.068317056359466e-09, 1.0683170786500796e-09, 1.0683170458733766e-09]\n",
      "d01,d02,d12 = [1.012463785626875, 1.012463783478906, 1.0124637849395568]\n"
     ]
    },
    {
     "name": "stderr",
     "output_type": "stream",
     "text": [
      "Progress:  74%|███████▍  | 739/1000 [3:04:11<1:04:35, 14.85s/it]"
     ]
    },
    {
     "name": "stdout",
     "output_type": "stream",
     "text": [
      "Time to: Calculate Ground State - 0.84s, Get Pauli Ops - 4.57s, Calculate Pauli Expectation Values - 6.58s, Calculate Covariance - 1.88s\n",
      "f0,f1,f2 = [1.5213346843720788e-09, 1.5213347037915573e-09, 1.521334675240796e-09]\n",
      "d01,d02,d12 = [1.0106668573179292, 1.0106668552993359, 1.010666856672056]\n"
     ]
    },
    {
     "name": "stderr",
     "output_type": "stream",
     "text": [
      "/cluster/home/mskrabulis/miniconda3/envs/quantech/lib/python3.9/site-packages/pyscf/symm/Dmatrix.py:156: RuntimeWarning: invalid value encountered in arccos\n",
      "  gamma = numpy.arccos(yp.dot(c2[1]))\n",
      "Progress:  74%|███████▍  | 740/1000 [3:04:25<1:03:41, 14.70s/it]"
     ]
    },
    {
     "name": "stdout",
     "output_type": "stream",
     "text": [
      "Time to: Calculate Ground State - 1.11s, Get Pauli Ops - 4.56s, Calculate Pauli Expectation Values - 6.8s, Calculate Covariance - 1.88s\n",
      "f0,f1,f2 = [1.3603116129326845e-09, 1.360311632391538e-09, 1.3603116037683908e-09]\n",
      "d01,d02,d12 = [1.008149798966202, 1.008149797088895, 1.008149798365589]\n"
     ]
    },
    {
     "name": "stderr",
     "output_type": "stream",
     "text": [
      "/cluster/home/mskrabulis/miniconda3/envs/quantech/lib/python3.9/site-packages/pyscf/symm/Dmatrix.py:156: RuntimeWarning: invalid value encountered in arccos\n",
      "  gamma = numpy.arccos(yp.dot(c2[1]))\n",
      "Progress:  74%|███████▍  | 741/1000 [3:04:39<1:02:06, 14.39s/it]"
     ]
    },
    {
     "name": "stdout",
     "output_type": "stream",
     "text": [
      "Time to: Calculate Ground State - 0.98s, Get Pauli Ops - 4.81s, Calculate Pauli Expectation Values - 6.18s, Calculate Covariance - 1.69s\n",
      "f0,f1,f2 = [8.771416967348323e-10, 8.77141715483997e-10, 8.771416878974431e-10]\n",
      "d01,d02,d12 = [1.0051134219672109, 1.0051134202406344, 1.0051134214148794]\n"
     ]
    },
    {
     "name": "stderr",
     "output_type": "stream",
     "text": [
      "Progress:  74%|███████▍  | 742/1000 [3:04:55<1:03:10, 14.69s/it]"
     ]
    },
    {
     "name": "stdout",
     "output_type": "stream",
     "text": [
      "Time to: Calculate Ground State - 0.78s, Get Pauli Ops - 5.32s, Calculate Pauli Expectation Values - 7.07s, Calculate Covariance - 2.22s\n",
      "f0,f1,f2 = [5.097282049834919e-10, 5.097282243555539e-10, 5.097281958692116e-10]\n",
      "d01,d02,d12 = [1.0019483313541202, 1.0019483297915126, 1.001948330854305]\n"
     ]
    },
    {
     "name": "stderr",
     "output_type": "stream",
     "text": [
      "/cluster/home/mskrabulis/miniconda3/envs/quantech/lib/python3.9/site-packages/pyscf/symm/Dmatrix.py:156: RuntimeWarning: invalid value encountered in arccos\n",
      "  gamma = numpy.arccos(yp.dot(c2[1]))\n",
      "Progress:  74%|███████▍  | 743/1000 [3:05:11<1:05:01, 15.18s/it]"
     ]
    },
    {
     "name": "stdout",
     "output_type": "stream",
     "text": [
      "Time to: Calculate Ground State - 0.89s, Get Pauli Ops - 7.19s, Calculate Pauli Expectation Values - 6.06s, Calculate Covariance - 2.16s\n",
      "f0,f1,f2 = [5.552614840544602e-10, 5.552615000040407e-10, 5.552614765357389e-10]\n",
      "d01,d02,d12 = [0.9980508971297135, 0.9980508957441339, 0.9980508966865967]\n"
     ]
    },
    {
     "name": "stderr",
     "output_type": "stream",
     "text": [
      "Progress:  74%|███████▍  | 744/1000 [3:05:27<1:05:52, 15.44s/it]"
     ]
    },
    {
     "name": "stdout",
     "output_type": "stream",
     "text": [
      "Time to: Calculate Ground State - 1.22s, Get Pauli Ops - 4.61s, Calculate Pauli Expectation Values - 8.23s, Calculate Covariance - 1.99s\n",
      "f0,f1,f2 = [1.8582633672689202e-09, 1.858263382203395e-09, 1.8582633602366903e-09]\n",
      "d01,d02,d12 = [0.9933829422690719, 0.9933829410714886, 0.9933829418861633]\n"
     ]
    },
    {
     "name": "stderr",
     "output_type": "stream",
     "text": [
      "Progress:  74%|███████▍  | 745/1000 [3:05:40<1:03:10, 14.86s/it]"
     ]
    },
    {
     "name": "stdout",
     "output_type": "stream",
     "text": [
      "Time to: Calculate Ground State - 1.23s, Get Pauli Ops - 4.78s, Calculate Pauli Expectation Values - 5.82s, Calculate Covariance - 1.67s\n",
      "f0,f1,f2 = [3.9628615631492296e-11, 3.962862770669009e-11, 3.962860994672843e-11]\n",
      "d01,d02,d12 = [0.9889770318748792, 0.9889770308711945, 0.9889770315540668]\n"
     ]
    },
    {
     "name": "stderr",
     "output_type": "stream",
     "text": [
      "Progress:  75%|███████▍  | 746/1000 [3:05:57<1:05:27, 15.46s/it]"
     ]
    },
    {
     "name": "stdout",
     "output_type": "stream",
     "text": [
      "Time to: Calculate Ground State - 1.25s, Get Pauli Ops - 7.5s, Calculate Pauli Expectation Values - 6.22s, Calculate Covariance - 1.88s\n",
      "f0,f1,f2 = [2.0756493825129165e-10, 2.075649499916567e-10, 2.0756493274289728e-10]\n",
      "d01,d02,d12 = [0.9846094524506657, 0.9846094516471008, 0.9846094521939366]\n"
     ]
    },
    {
     "name": "stderr",
     "output_type": "stream",
     "text": [
      "/cluster/home/mskrabulis/miniconda3/envs/quantech/lib/python3.9/site-packages/pyscf/symm/Dmatrix.py:156: RuntimeWarning: invalid value encountered in arccos\n",
      "  gamma = numpy.arccos(yp.dot(c2[1]))\n",
      "Progress:  75%|███████▍  | 747/1000 [3:06:13<1:05:35, 15.55s/it]"
     ]
    },
    {
     "name": "stdout",
     "output_type": "stream",
     "text": [
      "Time to: Calculate Ground State - 1.23s, Get Pauli Ops - 7.16s, Calculate Pauli Expectation Values - 5.66s, Calculate Covariance - 1.71s\n",
      "f0,f1,f2 = [1.3956459237924641e-09, 1.3956459145933093e-09, 1.3956459280970223e-09]\n",
      "d01,d02,d12 = [0.9802208217086512, 0.9802208211111559, 0.9802208215179045]\n"
     ]
    },
    {
     "name": "stderr",
     "output_type": "stream",
     "text": [
      "/cluster/home/mskrabulis/miniconda3/envs/quantech/lib/python3.9/site-packages/pyscf/symm/Dmatrix.py:156: RuntimeWarning: invalid value encountered in arccos\n",
      "  gamma = numpy.arccos(yp.dot(c2[1]))\n",
      "Progress:  75%|███████▍  | 748/1000 [3:06:27<1:03:51, 15.20s/it]"
     ]
    },
    {
     "name": "stdout",
     "output_type": "stream",
     "text": [
      "Time to: Calculate Ground State - 1.09s, Get Pauli Ops - 5.05s, Calculate Pauli Expectation Values - 6.34s, Calculate Covariance - 1.91s\n",
      "f0,f1,f2 = [8.820935985784661e-10, 8.820935920509098e-10, 8.820936016555066e-10]\n",
      "d01,d02,d12 = [0.9762739182922286, 0.9762739179039673, 0.9762739181684801]\n"
     ]
    },
    {
     "name": "stderr",
     "output_type": "stream",
     "text": [
      "Progress:  75%|███████▍  | 749/1000 [3:06:43<1:04:30, 15.42s/it]"
     ]
    },
    {
     "name": "stdout",
     "output_type": "stream",
     "text": [
      "Time to: Calculate Ground State - 1.16s, Get Pauli Ops - 7.04s, Calculate Pauli Expectation Values - 5.96s, Calculate Covariance - 1.76s\n",
      "f0,f1,f2 = [1.8367690648621342e-10, 1.8367691070981937e-10, 1.8367690451169078e-10]\n",
      "d01,d02,d12 = [0.9716417425255133, 0.9716417423508215, 0.9716417424701457]\n"
     ]
    },
    {
     "name": "stderr",
     "output_type": "stream",
     "text": [
      "Progress:  75%|███████▌  | 750/1000 [3:07:02<1:07:57, 16.31s/it]"
     ]
    },
    {
     "name": "stdout",
     "output_type": "stream",
     "text": [
      "Time to: Calculate Ground State - 0.96s, Get Pauli Ops - 9.41s, Calculate Pauli Expectation Values - 6.27s, Calculate Covariance - 1.73s\n",
      "f0,f1,f2 = [5.835259863999996e-11, 5.835259659805796e-11, 5.835259959350922e-11]\n",
      "d01,d02,d12 = [0.9671911782023254, 0.9671911782418328, 0.9671911782155378]\n"
     ]
    },
    {
     "name": "stderr",
     "output_type": "stream",
     "text": [
      "/cluster/home/mskrabulis/miniconda3/envs/quantech/lib/python3.9/site-packages/pyscf/symm/Dmatrix.py:156: RuntimeWarning: invalid value encountered in arccos\n",
      "  gamma = numpy.arccos(yp.dot(c2[1]))\n",
      "Progress:  75%|███████▌  | 751/1000 [3:07:15<1:03:47, 15.37s/it]"
     ]
    },
    {
     "name": "stdout",
     "output_type": "stream",
     "text": [
      "Time to: Calculate Ground State - 0.85s, Get Pauli Ops - 4.52s, Calculate Pauli Expectation Values - 6.01s, Calculate Covariance - 1.79s\n",
      "f0,f1,f2 = [8.887848859963884e-10, 8.887848865109599e-10, 8.887848857364533e-10]\n",
      "d01,d02,d12 = [0.9624082606211863, 0.9624082608744524, 0.96240826070283]\n"
     ]
    },
    {
     "name": "stderr",
     "output_type": "stream",
     "text": [
      "Progress:  75%|███████▌  | 752/1000 [3:07:29<1:02:20, 15.08s/it]"
     ]
    },
    {
     "name": "stdout",
     "output_type": "stream",
     "text": [
      "Time to: Calculate Ground State - 1.01s, Get Pauli Ops - 4.7s, Calculate Pauli Expectation Values - 6.71s, Calculate Covariance - 1.98s\n",
      "f0,f1,f2 = [6.172642917962191e-10, 6.17264294924602e-10, 6.172642902749347e-10]\n",
      "d01,d02,d12 = [0.957840803810412, 0.9578408042752181, 0.9578408039597623]\n"
     ]
    },
    {
     "name": "stderr",
     "output_type": "stream",
     "text": [
      "Progress:  75%|███████▌  | 753/1000 [3:07:46<1:03:52, 15.51s/it]"
     ]
    },
    {
     "name": "stdout",
     "output_type": "stream",
     "text": [
      "Time to: Calculate Ground State - 1.06s, Get Pauli Ops - 6.38s, Calculate Pauli Expectation Values - 6.91s, Calculate Covariance - 2.16s\n",
      "f0,f1,f2 = [1.393570763853325e-09, 1.3935707691906446e-09, 1.3935707613381649e-09]\n",
      "d01,d02,d12 = [0.953766811303552, 0.9537668119768373, 0.9537668115196273]\n"
     ]
    },
    {
     "name": "stderr",
     "output_type": "stream",
     "text": [
      "Progress:  75%|███████▌  | 754/1000 [3:08:03<1:05:19, 15.93s/it]"
     ]
    },
    {
     "name": "stdout",
     "output_type": "stream",
     "text": [
      "Time to: Calculate Ground State - 1.14s, Get Pauli Ops - 7.62s, Calculate Pauli Expectation Values - 6.45s, Calculate Covariance - 1.69s\n",
      "f0,f1,f2 = [1.6185744963612465e-09, 1.6185745054440697e-09, 1.6185744920746272e-09]\n",
      "d01,d02,d12 = [0.9499427312554364, 0.9499427321318945, 0.9499427315365355]\n"
     ]
    },
    {
     "name": "stderr",
     "output_type": "stream",
     "text": [
      "/cluster/home/mskrabulis/miniconda3/envs/quantech/lib/python3.9/site-packages/pyscf/symm/Dmatrix.py:156: RuntimeWarning: invalid value encountered in arccos\n",
      "  gamma = numpy.arccos(yp.dot(c2[1]))\n",
      "Progress:  76%|███████▌  | 755/1000 [3:08:16<1:02:00, 15.18s/it]"
     ]
    },
    {
     "name": "stdout",
     "output_type": "stream",
     "text": [
      "Time to: Calculate Ground State - 0.86s, Get Pauli Ops - 4.4s, Calculate Pauli Expectation Values - 6.42s, Calculate Covariance - 1.75s\n",
      "f0,f1,f2 = [2.2435104267726195e-09, 2.243510436903056e-09, 2.2435104219856194e-09]\n",
      "d01,d02,d12 = [0.9469264428866853, 0.9469264439632894, 0.9469264432318415]\n"
     ]
    },
    {
     "name": "stderr",
     "output_type": "stream",
     "text": [
      "Progress:  76%|███████▌  | 756/1000 [3:08:30<59:57, 14.75s/it]  "
     ]
    },
    {
     "name": "stdout",
     "output_type": "stream",
     "text": [
      "Time to: Calculate Ground State - 1.08s, Get Pauli Ops - 4.67s, Calculate Pauli Expectation Values - 6.19s, Calculate Covariance - 1.77s\n",
      "f0,f1,f2 = [1.2975285950788764e-09, 1.2975286079038559e-09, 1.2975285890138658e-09]\n",
      "d01,d02,d12 = [0.9443620787386459, 0.944362080007438, 0.9443620791453099]\n"
     ]
    },
    {
     "name": "stderr",
     "output_type": "stream",
     "text": [
      "Progress:  76%|███████▌  | 757/1000 [3:08:43<58:11, 14.37s/it]"
     ]
    },
    {
     "name": "stdout",
     "output_type": "stream",
     "text": [
      "Time to: Calculate Ground State - 1.01s, Get Pauli Ops - 4.7s, Calculate Pauli Expectation Values - 5.91s, Calculate Covariance - 1.86s\n",
      "f0,f1,f2 = [2.3091490602848487e-09, 2.3091490764642335e-09, 2.3091490526625212e-09]\n",
      "d01,d02,d12 = [0.9426557675806732, 0.9426557690334739, 0.9426557680462225]\n"
     ]
    },
    {
     "name": "stderr",
     "output_type": "stream",
     "text": [
      "Progress:  76%|███████▌  | 758/1000 [3:08:57<56:30, 14.01s/it]"
     ]
    },
    {
     "name": "stdout",
     "output_type": "stream",
     "text": [
      "Time to: Calculate Ground State - 0.96s, Get Pauli Ops - 4.28s, Calculate Pauli Expectation Values - 6.11s, Calculate Covariance - 1.82s\n",
      "f0,f1,f2 = [1.4267852220223975e-09, 1.4267852434932008e-09, 1.4267852119000764e-09]\n",
      "d01,d02,d12 = [0.9412603227133234, 0.9412603243347657, 0.9412603232328336]\n"
     ]
    },
    {
     "name": "stderr",
     "output_type": "stream",
     "text": [
      "Progress:  76%|███████▌  | 759/1000 [3:09:11<57:08, 14.23s/it]"
     ]
    },
    {
     "name": "stdout",
     "output_type": "stream",
     "text": [
      "Time to: Calculate Ground State - 1.04s, Get Pauli Ops - 4.87s, Calculate Pauli Expectation Values - 6.83s, Calculate Covariance - 1.99s\n",
      "f0,f1,f2 = [1.9628462746684178e-09, 1.9628462950841903e-09, 1.9628462650374302e-09]\n",
      "d01,d02,d12 = [0.9406379903993126, 0.9406379921776974, 0.9406379909690341]\n"
     ]
    },
    {
     "name": "stderr",
     "output_type": "stream",
     "text": [
      "Progress:  76%|███████▌  | 760/1000 [3:09:24<55:26, 13.86s/it]"
     ]
    },
    {
     "name": "stdout",
     "output_type": "stream",
     "text": [
      "Time to: Calculate Ground State - 0.95s, Get Pauli Ops - 4.0s, Calculate Pauli Expectation Values - 6.27s, Calculate Covariance - 1.77s\n",
      "f0,f1,f2 = [3.0652759011135335e-09, 3.0652759261551403e-09, 3.06527588931566e-09]\n",
      "d01,d02,d12 = [0.9412984504075995, 0.9412984523287085, 0.9412984510229808]\n"
     ]
    },
    {
     "name": "stderr",
     "output_type": "stream",
     "text": [
      "/cluster/home/mskrabulis/miniconda3/envs/quantech/lib/python3.9/site-packages/pyscf/symm/Dmatrix.py:156: RuntimeWarning: invalid value encountered in arccos\n",
      "  gamma = numpy.arccos(yp.dot(c2[1]))\n",
      "Progress:  76%|███████▌  | 761/1000 [3:09:38<55:04, 13.83s/it]"
     ]
    },
    {
     "name": "stdout",
     "output_type": "stream",
     "text": [
      "Time to: Calculate Ground State - 0.98s, Get Pauli Ops - 4.2s, Calculate Pauli Expectation Values - 6.38s, Calculate Covariance - 2.2s\n",
      "f0,f1,f2 = [1.1738158957231347e-09, 1.1738159202273578e-09, 1.17381588416334e-09]\n",
      "d01,d02,d12 = [0.9424864437915159, 0.9424864458404124, 0.9424864444477732]\n"
     ]
    },
    {
     "name": "stderr",
     "output_type": "stream",
     "text": [
      "Progress:  76%|███████▌  | 762/1000 [3:09:52<54:57, 13.85s/it]"
     ]
    },
    {
     "name": "stdout",
     "output_type": "stream",
     "text": [
      "Time to: Calculate Ground State - 0.95s, Get Pauli Ops - 4.9s, Calculate Pauli Expectation Values - 5.79s, Calculate Covariance - 2.27s\n",
      "f0,f1,f2 = [2.579211425852845e-09, 2.579211452543776e-09, 2.579211413276031e-09]\n",
      "d01,d02,d12 = [0.9446993620400042, 0.9446993642022113, 0.944699362732503]\n"
     ]
    },
    {
     "name": "stderr",
     "output_type": "stream",
     "text": [
      "Progress:  76%|███████▋  | 763/1000 [3:10:08<56:45, 14.37s/it]"
     ]
    },
    {
     "name": "stdout",
     "output_type": "stream",
     "text": [
      "Time to: Calculate Ground State - 1.03s, Get Pauli Ops - 4.53s, Calculate Pauli Expectation Values - 7.77s, Calculate Covariance - 2.24s\n",
      "f0,f1,f2 = [1.9462045216211868e-09, 1.9462045523700742e-09, 1.946204507133691e-09]\n",
      "d01,d02,d12 = [0.9477731192874461, 0.9477731215448035, 0.9477731200103764]\n"
     ]
    },
    {
     "name": "stderr",
     "output_type": "stream",
     "text": [
      "Progress:  76%|███████▋  | 764/1000 [3:10:23<57:22, 14.59s/it]"
     ]
    },
    {
     "name": "stdout",
     "output_type": "stream",
     "text": [
      "Time to: Calculate Ground State - 1.15s, Get Pauli Ops - 4.93s, Calculate Pauli Expectation Values - 6.78s, Calculate Covariance - 2.23s\n",
      "f0,f1,f2 = [1.5768101094550875e-09, 1.5768101412305476e-09, 1.5768100944816727e-09]\n",
      "d01,d02,d12 = [0.9517966710834237, 0.9517966734230948, 0.9517966718326731]\n"
     ]
    },
    {
     "name": "stderr",
     "output_type": "stream",
     "text": [
      "/cluster/home/mskrabulis/miniconda3/envs/quantech/lib/python3.9/site-packages/pyscf/symm/Dmatrix.py:156: RuntimeWarning: invalid value encountered in arccos\n",
      "  gamma = numpy.arccos(yp.dot(c2[1]))\n",
      "Progress:  76%|███████▋  | 765/1000 [3:10:38<57:59, 14.80s/it]"
     ]
    },
    {
     "name": "stdout",
     "output_type": "stream",
     "text": [
      "Time to: Calculate Ground State - 1.35s, Get Pauli Ops - 5.16s, Calculate Pauli Expectation Values - 6.38s, Calculate Covariance - 2.42s\n",
      "f0,f1,f2 = [1.7117822153695083e-09, 1.7117822442978478e-09, 1.7117822017429503e-09]\n",
      "d01,d02,d12 = [0.9567024582526366, 0.956702460663301, 0.9567024590245825]\n"
     ]
    },
    {
     "name": "stderr",
     "output_type": "stream",
     "text": [
      "Progress:  77%|███████▋  | 766/1000 [3:10:54<59:14, 15.19s/it]"
     ]
    },
    {
     "name": "stdout",
     "output_type": "stream",
     "text": [
      "Time to: Calculate Ground State - 1.32s, Get Pauli Ops - 4.82s, Calculate Pauli Expectation Values - 7.74s, Calculate Covariance - 2.2s\n",
      "f0,f1,f2 = [1.2658945285085313e-09, 1.2658945577168549e-09, 1.2658945147299152e-09]\n",
      "d01,d02,d12 = [0.9625206757248435, 0.9625206781867551, 0.9625206765131639]\n"
     ]
    },
    {
     "name": "stderr",
     "output_type": "stream",
     "text": [
      "/cluster/home/mskrabulis/miniconda3/envs/quantech/lib/python3.9/site-packages/pyscf/symm/Dmatrix.py:156: RuntimeWarning: invalid value encountered in arccos\n",
      "  gamma = numpy.arccos(yp.dot(c2[1]))\n",
      "Progress:  77%|███████▋  | 767/1000 [3:11:12<1:01:43, 15.89s/it]"
     ]
    },
    {
     "name": "stdout",
     "output_type": "stream",
     "text": [
      "Time to: Calculate Ground State - 1.29s, Get Pauli Ops - 6.48s, Calculate Pauli Expectation Values - 7.54s, Calculate Covariance - 2.22s\n",
      "f0,f1,f2 = [9.903168473170914e-10, 9.903168785531138e-10, 9.903168326058887e-10]\n",
      "d01,d02,d12 = [0.9688560127716568, 0.9688560152602131, 0.9688560135684755]\n"
     ]
    },
    {
     "name": "stderr",
     "output_type": "stream",
     "text": [
      "Progress:  77%|███████▋  | 768/1000 [3:11:25<58:25, 15.11s/it]  "
     ]
    },
    {
     "name": "stdout",
     "output_type": "stream",
     "text": [
      "Time to: Calculate Ground State - 1.01s, Get Pauli Ops - 4.29s, Calculate Pauli Expectation Values - 5.94s, Calculate Covariance - 2.02s\n",
      "f0,f1,f2 = [1.307673575618896e-09, 1.307673607387707e-09, 1.307673560656924e-09]\n",
      "d01,d02,d12 = [0.9758720788071407, 0.9758720812988558, 0.9758720796049374]\n"
     ]
    },
    {
     "name": "stderr",
     "output_type": "stream",
     "text": [
      "Progress:  77%|███████▋  | 769/1000 [3:11:39<56:41, 14.72s/it]"
     ]
    },
    {
     "name": "stdout",
     "output_type": "stream",
     "text": [
      "Time to: Calculate Ground State - 1.34s, Get Pauli Ops - 4.66s, Calculate Pauli Expectation Values - 6.08s, Calculate Covariance - 1.74s\n",
      "f0,f1,f2 = [7.286932065742406e-11, 7.286929156898006e-11, 7.28693343700333e-11]\n",
      "d01,d02,d12 = [0.9829174802796771, 0.9829174827459044, 0.9829174810692783]\n"
     ]
    },
    {
     "name": "stderr",
     "output_type": "stream",
     "text": [
      "/cluster/home/mskrabulis/miniconda3/envs/quantech/lib/python3.9/site-packages/pyscf/symm/Dmatrix.py:156: RuntimeWarning: invalid value encountered in arccos\n",
      "  gamma = numpy.arccos(yp.dot(c2[1]))\n",
      "Progress:  77%|███████▋  | 770/1000 [3:11:53<55:26, 14.46s/it]"
     ]
    },
    {
     "name": "stdout",
     "output_type": "stream",
     "text": [
      "Time to: Calculate Ground State - 1.26s, Get Pauli Ops - 4.52s, Calculate Pauli Expectation Values - 6.23s, Calculate Covariance - 1.84s\n",
      "f0,f1,f2 = [4.696504290913142e-10, 4.696503981394454e-10, 4.696504436650611e-10]\n",
      "d01,d02,d12 = [0.9901366593910783, 0.9901366618099531, 0.9901366601654901]\n"
     ]
    },
    {
     "name": "stderr",
     "output_type": "stream",
     "text": [
      "Progress:  77%|███████▋  | 771/1000 [3:12:07<54:56, 14.39s/it]"
     ]
    },
    {
     "name": "stdout",
     "output_type": "stream",
     "text": [
      "Time to: Calculate Ground State - 1.04s, Get Pauli Ops - 5.12s, Calculate Pauli Expectation Values - 6.27s, Calculate Covariance - 1.8s\n",
      "f0,f1,f2 = [1.4371383925201016e-09, 1.43713836265842e-09, 1.4371384065796183e-09]\n",
      "d01,d02,d12 = [0.9961979041514772, 0.9961979065083967, 0.9961979049060267]\n"
     ]
    },
    {
     "name": "stderr",
     "output_type": "stream",
     "text": [
      "/cluster/home/mskrabulis/miniconda3/envs/quantech/lib/python3.9/site-packages/pyscf/symm/Dmatrix.py:156: RuntimeWarning: invalid value encountered in arccos\n",
      "  gamma = numpy.arccos(yp.dot(c2[1]))\n",
      "Progress:  77%|███████▋  | 772/1000 [3:12:23<56:43, 14.93s/it]"
     ]
    },
    {
     "name": "stdout",
     "output_type": "stream",
     "text": [
      "Time to: Calculate Ground State - 0.75s, Get Pauli Ops - 3.91s, Calculate Pauli Expectation Values - 9.25s, Calculate Covariance - 2.25s\n",
      "f0,f1,f2 = [6.703164311814499e-10, 6.703164050747246e-10, 6.703164434689891e-10]\n",
      "d01,d02,d12 = [1.0015778302807714, 1.0015778325588187, 1.0015778310100454]\n"
     ]
    },
    {
     "name": "stderr",
     "output_type": "stream",
     "text": [
      "Progress:  77%|███████▋  | 773/1000 [3:12:36<53:52, 14.24s/it]"
     ]
    },
    {
     "name": "stdout",
     "output_type": "stream",
     "text": [
      "Time to: Calculate Ground State - 0.94s, Get Pauli Ops - 4.04s, Calculate Pauli Expectation Values - 6.02s, Calculate Covariance - 1.63s\n",
      "f0,f1,f2 = [1.9360104366429347e-09, 1.936010417008559e-09, 1.9360104459007207e-09]\n",
      "d01,d02,d12 = [1.0059636853493101, 1.0059636875342086, 1.0059636860487378]\n"
     ]
    },
    {
     "name": "stderr",
     "output_type": "stream",
     "text": [
      "/cluster/home/mskrabulis/miniconda3/envs/quantech/lib/python3.9/site-packages/pyscf/symm/Dmatrix.py:156: RuntimeWarning: invalid value encountered in arccos\n",
      "  gamma = numpy.arccos(yp.dot(c2[1]))\n",
      "Progress:  77%|███████▋  | 774/1000 [3:12:49<52:46, 14.01s/it]"
     ]
    },
    {
     "name": "stdout",
     "output_type": "stream",
     "text": [
      "Time to: Calculate Ground State - 1.05s, Get Pauli Ops - 4.62s, Calculate Pauli Expectation Values - 5.64s, Calculate Covariance - 2.16s\n",
      "f0,f1,f2 = [1.3642050596455447e-09, 1.3642050384337592e-09, 1.3642050696390756e-09]\n",
      "d01,d02,d12 = [1.0098157485251786, 1.0098157506014123, 1.0098157491897906]\n"
     ]
    },
    {
     "name": "stderr",
     "output_type": "stream",
     "text": [
      "Progress:  78%|███████▊  | 775/1000 [3:13:05<54:34, 14.56s/it]"
     ]
    },
    {
     "name": "stdout",
     "output_type": "stream",
     "text": [
      "Time to: Calculate Ground State - 1.15s, Get Pauli Ops - 4.66s, Calculate Pauli Expectation Values - 8.38s, Calculate Covariance - 1.62s\n",
      "f0,f1,f2 = [1.2784443835666707e-09, 1.2784443638076668e-09, 1.2784443928664045e-09]\n",
      "d01,d02,d12 = [1.0129767747837954, 1.0129767767357716, 1.012976775408602]\n"
     ]
    },
    {
     "name": "stderr",
     "output_type": "stream",
     "text": [
      "/cluster/home/mskrabulis/miniconda3/envs/quantech/lib/python3.9/site-packages/pyscf/symm/Dmatrix.py:156: RuntimeWarning: invalid value encountered in arccos\n",
      "  gamma = numpy.arccos(yp.dot(c2[1]))\n",
      "Progress:  78%|███████▊  | 776/1000 [3:13:22<57:16, 15.34s/it]"
     ]
    },
    {
     "name": "stdout",
     "output_type": "stream",
     "text": [
      "Time to: Calculate Ground State - 1.06s, Get Pauli Ops - 7.7s, Calculate Pauli Expectation Values - 6.42s, Calculate Covariance - 1.99s\n",
      "f0,f1,f2 = [2.17005493890736e-09, 2.1700549196153188e-09, 2.170054947971537e-09]\n",
      "d01,d02,d12 = [1.015336247678281, 1.0153362494949503, 1.015336248259745]\n"
     ]
    },
    {
     "name": "stderr",
     "output_type": "stream",
     "text": [
      "/cluster/home/mskrabulis/miniconda3/envs/quantech/lib/python3.9/site-packages/pyscf/symm/Dmatrix.py:156: RuntimeWarning: invalid value encountered in arccos\n",
      "  gamma = numpy.arccos(yp.dot(c2[1]))\n",
      "Progress:  78%|███████▊  | 777/1000 [3:13:36<55:57, 15.05s/it]"
     ]
    },
    {
     "name": "stdout",
     "output_type": "stream",
     "text": [
      "Time to: Calculate Ground State - 1.04s, Get Pauli Ops - 4.58s, Calculate Pauli Expectation Values - 6.51s, Calculate Covariance - 2.24s\n",
      "f0,f1,f2 = [1.0218393623389914e-09, 1.0218393436306963e-09, 1.0218393711405284e-09]\n",
      "d01,d02,d12 = [1.016972069703454, 1.0169720713728665, 1.0169720702377534]\n"
     ]
    },
    {
     "name": "stderr",
     "output_type": "stream",
     "text": [
      "/cluster/home/mskrabulis/miniconda3/envs/quantech/lib/python3.9/site-packages/pyscf/symm/Dmatrix.py:156: RuntimeWarning: invalid value encountered in arccos\n",
      "  gamma = numpy.arccos(yp.dot(c2[1]))\n",
      "/cluster/home/mskrabulis/miniconda3/envs/quantech/lib/python3.9/site-packages/pyscf/symm/Dmatrix.py:156: RuntimeWarning: invalid value encountered in arccos\n",
      "  gamma = numpy.arccos(yp.dot(c2[1]))\n",
      "Progress:  78%|███████▊  | 778/1000 [3:13:52<56:17, 15.21s/it]"
     ]
    },
    {
     "name": "stdout",
     "output_type": "stream",
     "text": [
      "Time to: Calculate Ground State - 1.4s, Get Pauli Ops - 4.51s, Calculate Pauli Expectation Values - 7.99s, Calculate Covariance - 1.69s\n",
      "f0,f1,f2 = [1.475874378764698e-09, 1.4758743597526386e-09, 1.475874387725142e-09]\n",
      "d01,d02,d12 = [1.0179142912786472, 1.0179142927910518, 1.017914291762661]\n"
     ]
    },
    {
     "name": "stderr",
     "output_type": "stream",
     "text": [
      "Progress:  78%|███████▊  | 779/1000 [3:14:06<54:33, 14.81s/it]"
     ]
    },
    {
     "name": "stdout",
     "output_type": "stream",
     "text": [
      "Time to: Calculate Ground State - 0.77s, Get Pauli Ops - 4.88s, Calculate Pauli Expectation Values - 6.41s, Calculate Covariance - 1.8s\n",
      "f0,f1,f2 = [1.969367084515012e-09, 1.969367069949231e-09, 1.969367091359153e-09]\n",
      "d01,d02,d12 = [1.0179845535608978, 1.0179845549065576, 1.017984553991512]\n"
     ]
    },
    {
     "name": "stderr",
     "output_type": "stream",
     "text": [
      "Progress:  78%|███████▊  | 780/1000 [3:14:23<56:55, 15.53s/it]"
     ]
    },
    {
     "name": "stdout",
     "output_type": "stream",
     "text": [
      "Time to: Calculate Ground State - 1.11s, Get Pauli Ops - 7.19s, Calculate Pauli Expectation Values - 6.69s, Calculate Covariance - 2.19s\n",
      "f0,f1,f2 = [3.8700072801919086e-10, 3.8700071390804005e-10, 3.870007346475594e-10]\n",
      "d01,d02,d12 = [1.01789450302618, 1.0178945041972602, 1.0178945034008886]\n"
     ]
    },
    {
     "name": "stderr",
     "output_type": "stream",
     "text": [
      "/cluster/home/mskrabulis/miniconda3/envs/quantech/lib/python3.9/site-packages/pyscf/symm/Dmatrix.py:156: RuntimeWarning: invalid value encountered in arccos\n",
      "  gamma = numpy.arccos(yp.dot(c2[1]))\n",
      "/cluster/home/mskrabulis/miniconda3/envs/quantech/lib/python3.9/site-packages/pyscf/symm/Dmatrix.py:156: RuntimeWarning: invalid value encountered in arccos\n",
      "  gamma = numpy.arccos(yp.dot(c2[1]))\n",
      "Progress:  78%|███████▊  | 781/1000 [3:14:44<1:02:49, 17.21s/it]"
     ]
    },
    {
     "name": "stdout",
     "output_type": "stream",
     "text": [
      "Time to: Calculate Ground State - 0.83s, Get Pauli Ops - 9.74s, Calculate Pauli Expectation Values - 8.17s, Calculate Covariance - 2.4s\n",
      "f0,f1,f2 = [8.42473017883653e-10, 8.424730078138027e-10, 8.424730226195982e-10]\n",
      "d01,d02,d12 = [1.0174570534926155, 1.0174570544832149, 1.0174570538095307]\n"
     ]
    },
    {
     "name": "stderr",
     "output_type": "stream",
     "text": [
      "Progress:  78%|███████▊  | 782/1000 [3:15:06<1:07:00, 18.44s/it]"
     ]
    },
    {
     "name": "stdout",
     "output_type": "stream",
     "text": [
      "Time to: Calculate Ground State - 1.07s, Get Pauli Ops - 9.15s, Calculate Pauli Expectation Values - 8.8s, Calculate Covariance - 2.29s\n",
      "f0,f1,f2 = [1.929613404836193e-09, 1.9296133974503437e-09, 1.929613408319382e-09]\n",
      "d01,d02,d12 = [1.0161904425033088, 1.0161904433085986, 1.016190442760886]\n"
     ]
    },
    {
     "name": "stderr",
     "output_type": "stream",
     "text": [
      "/cluster/home/mskrabulis/miniconda3/envs/quantech/lib/python3.9/site-packages/pyscf/symm/Dmatrix.py:156: RuntimeWarning: invalid value encountered in arccos\n",
      "  gamma = numpy.arccos(yp.dot(c2[1]))\n",
      "Progress:  78%|███████▊  | 783/1000 [3:15:21<1:03:03, 17.43s/it]"
     ]
    },
    {
     "name": "stdout",
     "output_type": "stream",
     "text": [
      "Time to: Calculate Ground State - 1.33s, Get Pauli Ops - 4.59s, Calculate Pauli Expectation Values - 7.04s, Calculate Covariance - 2.11s\n",
      "f0,f1,f2 = [1.353810429928983e-09, 1.3538104218086795e-09, 1.353810433768756e-09]\n",
      "d01,d02,d12 = [1.014454773817868, 1.014454774432976, 1.0144547740145469]\n"
     ]
    },
    {
     "name": "stderr",
     "output_type": "stream",
     "text": [
      "/cluster/home/mskrabulis/miniconda3/envs/quantech/lib/python3.9/site-packages/pyscf/symm/Dmatrix.py:156: RuntimeWarning: invalid value encountered in arccos\n",
      "  gamma = numpy.arccos(yp.dot(c2[1]))\n",
      "Progress:  78%|███████▊  | 784/1000 [3:15:34<58:03, 16.13s/it]  "
     ]
    },
    {
     "name": "stdout",
     "output_type": "stream",
     "text": [
      "Time to: Calculate Ground State - 1.02s, Get Pauli Ops - 4.4s, Calculate Pauli Expectation Values - 5.93s, Calculate Covariance - 1.72s\n",
      "f0,f1,f2 = [1.458814067813709e-09, 1.4588140616071488e-09, 1.4588140707255528e-09]\n",
      "d01,d02,d12 = [1.012146971742868, 1.0121469721634937, 1.0121469718772735]\n"
     ]
    },
    {
     "name": "stderr",
     "output_type": "stream",
     "text": [
      "Progress:  78%|███████▊  | 785/1000 [3:15:48<55:36, 15.52s/it]"
     ]
    },
    {
     "name": "stdout",
     "output_type": "stream",
     "text": [
      "Time to: Calculate Ground State - 0.78s, Get Pauli Ops - 5.05s, Calculate Pauli Expectation Values - 6.2s, Calculate Covariance - 2.08s\n",
      "f0,f1,f2 = [3.2470013336184754e-10, 3.24700129187231e-10, 3.2470013532177037e-10]\n",
      "d01,d02,d12 = [1.0102074191030161, 1.0102074193263673, 1.0102074191742574]\n"
     ]
    },
    {
     "name": "stderr",
     "output_type": "stream",
     "text": [
      "/cluster/home/mskrabulis/miniconda3/envs/quantech/lib/python3.9/site-packages/pyscf/symm/Dmatrix.py:156: RuntimeWarning: invalid value encountered in arccos\n",
      "  gamma = numpy.arccos(yp.dot(c2[1]))\n",
      "Progress:  79%|███████▊  | 786/1000 [3:16:02<54:11, 15.20s/it]"
     ]
    },
    {
     "name": "stdout",
     "output_type": "stream",
     "text": [
      "Time to: Calculate Ground State - 1.2s, Get Pauli Ops - 5.16s, Calculate Pauli Expectation Values - 6.31s, Calculate Covariance - 1.77s\n",
      "f0,f1,f2 = [2.239603973154291e-09, 2.2396039707816717e-09, 2.2396039742544973e-09]\n",
      "d01,d02,d12 = [1.0074053690661637, 1.0074053690905629, 1.0074053690737057]\n"
     ]
    },
    {
     "name": "stderr",
     "output_type": "stream",
     "text": [
      "Progress:  79%|███████▊  | 787/1000 [3:16:18<54:45, 15.43s/it]"
     ]
    },
    {
     "name": "stdout",
     "output_type": "stream",
     "text": [
      "Time to: Calculate Ground State - 1.07s, Get Pauli Ops - 4.51s, Calculate Pauli Expectation Values - 8.46s, Calculate Covariance - 1.92s\n",
      "f0,f1,f2 = [1.4550733784615344e-09, 1.455073378207745e-09, 1.4550733785771743e-09]\n",
      "d01,d02,d12 = [1.0040645872932377, 1.0040645871185148, 1.0040645872370249]\n"
     ]
    },
    {
     "name": "stderr",
     "output_type": "stream",
     "text": [
      "/cluster/home/mskrabulis/miniconda3/envs/quantech/lib/python3.9/site-packages/pyscf/symm/Dmatrix.py:156: RuntimeWarning: invalid value encountered in arccos\n",
      "  gamma = numpy.arccos(yp.dot(c2[1]))\n",
      "Progress:  79%|███████▉  | 788/1000 [3:16:33<53:48, 15.23s/it]"
     ]
    },
    {
     "name": "stdout",
     "output_type": "stream",
     "text": [
      "Time to: Calculate Ground State - 0.94s, Get Pauli Ops - 4.89s, Calculate Pauli Expectation Values - 6.73s, Calculate Covariance - 2.22s\n",
      "f0,f1,f2 = [5.181151856020992e-10, 5.181151872843153e-10, 5.181151847964912e-10]\n",
      "d01,d02,d12 = [1.0006265441200002, 1.0006265437474897, 1.0006265440004665]\n"
     ]
    },
    {
     "name": "stderr",
     "output_type": "stream",
     "text": [
      "Progress:  79%|███████▉  | 789/1000 [3:16:47<52:15, 14.86s/it]"
     ]
    },
    {
     "name": "stdout",
     "output_type": "stream",
     "text": [
      "Time to: Calculate Ground State - 0.78s, Get Pauli Ops - 5.1s, Calculate Pauli Expectation Values - 6.32s, Calculate Covariance - 1.78s\n",
      "f0,f1,f2 = [3.036634837669646e-10, 3.0366348818382436e-10, 3.036634816874855e-10]\n",
      "d01,d02,d12 = [0.9970555613010624, 0.9970555607340866, 0.9970555611192718]\n"
     ]
    },
    {
     "name": "stderr",
     "output_type": "stream",
     "text": [
      "/cluster/home/mskrabulis/miniconda3/envs/quantech/lib/python3.9/site-packages/pyscf/symm/Dmatrix.py:156: RuntimeWarning: invalid value encountered in arccos\n",
      "  gamma = numpy.arccos(yp.dot(c2[1]))\n",
      "Progress:  79%|███████▉  | 790/1000 [3:17:02<52:08, 14.90s/it]"
     ]
    },
    {
     "name": "stdout",
     "output_type": "stream",
     "text": [
      "Time to: Calculate Ground State - 0.91s, Get Pauli Ops - 5.02s, Calculate Pauli Expectation Values - 6.85s, Calculate Covariance - 2.21s\n",
      "f0,f1,f2 = [9.421626464772847e-11, 9.421627068615913e-11, 9.421626179075489e-11]\n",
      "d01,d02,d12 = [0.993184797801876, 0.9931847970448638, 0.9931847975592508]\n"
     ]
    },
    {
     "name": "stderr",
     "output_type": "stream",
     "text": [
      "/cluster/home/mskrabulis/miniconda3/envs/quantech/lib/python3.9/site-packages/pyscf/symm/Dmatrix.py:156: RuntimeWarning: invalid value encountered in arccos\n",
      "  gamma = numpy.arccos(yp.dot(c2[1]))\n",
      "Progress:  79%|███████▉  | 791/1000 [3:17:15<50:09, 14.40s/it]"
     ]
    },
    {
     "name": "stdout",
     "output_type": "stream",
     "text": [
      "Time to: Calculate Ground State - 0.84s, Get Pauli Ops - 4.36s, Calculate Pauli Expectation Values - 5.92s, Calculate Covariance - 2.1s\n",
      "f0,f1,f2 = [6.451186952235087e-10, 6.45118704024589e-10, 6.451186910756673e-10]\n",
      "d01,d02,d12 = [0.989390916247569, 0.9893909153072137, 0.9893909159462527]\n"
     ]
    },
    {
     "name": "stderr",
     "output_type": "stream",
     "text": [
      "Progress:  79%|███████▉  | 792/1000 [3:17:29<49:42, 14.34s/it]"
     ]
    },
    {
     "name": "stdout",
     "output_type": "stream",
     "text": [
      "Time to: Calculate Ground State - 0.9s, Get Pauli Ops - 4.25s, Calculate Pauli Expectation Values - 6.72s, Calculate Covariance - 2.32s\n",
      "f0,f1,f2 = [3.2998605395219493e-10, 3.2998606563559856e-10, 3.2998604843774135e-10]\n",
      "d01,d02,d12 = [0.9856389988819483, 0.9856389977665109, 0.9856389985245942]\n"
     ]
    },
    {
     "name": "stderr",
     "output_type": "stream",
     "text": [
      "Progress:  79%|███████▉  | 793/1000 [3:17:47<52:39, 15.26s/it]"
     ]
    },
    {
     "name": "stdout",
     "output_type": "stream",
     "text": [
      "Time to: Calculate Ground State - 0.95s, Get Pauli Ops - 8.57s, Calculate Pauli Expectation Values - 5.79s, Calculate Covariance - 2.11s\n",
      "f0,f1,f2 = [2.1505286442795176e-10, 2.1505287769906028e-10, 2.1505285819281958e-10]\n",
      "d01,d02,d12 = [0.981685180068208, 0.9816851787883667, 0.9816851796582334]\n"
     ]
    },
    {
     "name": "stderr",
     "output_type": "stream",
     "text": [
      "Progress:  79%|███████▉  | 794/1000 [3:18:02<52:36, 15.32s/it]"
     ]
    },
    {
     "name": "stdout",
     "output_type": "stream",
     "text": [
      "Time to: Calculate Ground State - 0.95s, Get Pauli Ops - 4.35s, Calculate Pauli Expectation Values - 7.65s, Calculate Covariance - 2.49s\n",
      "f0,f1,f2 = [9.155422704584645e-10, 9.155422550598197e-10, 9.155422777031754e-10]\n",
      "d01,d02,d12 = [0.9786696291891424, 0.9786696277507575, 0.9786696287284247]\n"
     ]
    },
    {
     "name": "stderr",
     "output_type": "stream",
     "text": [
      "Progress:  80%|███████▉  | 795/1000 [3:18:17<51:26, 15.06s/it]"
     ]
    },
    {
     "name": "stdout",
     "output_type": "stream",
     "text": [
      "Time to: Calculate Ground State - 0.9s, Get Pauli Ops - 4.94s, Calculate Pauli Expectation Values - 6.48s, Calculate Covariance - 2.11s\n",
      "f0,f1,f2 = [6.331581397212088e-10, 6.331581245268627e-10, 6.33158146882347e-10]\n",
      "d01,d02,d12 = [0.975808508140866, 0.9758085065521012, 0.9758085076320195]\n"
     ]
    },
    {
     "name": "stderr",
     "output_type": "stream",
     "text": [
      "/cluster/home/mskrabulis/miniconda3/envs/quantech/lib/python3.9/site-packages/pyscf/symm/Dmatrix.py:156: RuntimeWarning: invalid value encountered in arccos\n",
      "  gamma = numpy.arccos(yp.dot(c2[1]))\n",
      "Progress:  80%|███████▉  | 796/1000 [3:18:35<54:21, 15.99s/it]"
     ]
    },
    {
     "name": "stdout",
     "output_type": "stream",
     "text": [
      "Time to: Calculate Ground State - 1.33s, Get Pauli Ops - 4.54s, Calculate Pauli Expectation Values - 10.03s, Calculate Covariance - 2.26s\n",
      "f0,f1,f2 = [1.0134753963060253e-09, 1.0134753767495497e-09, 1.0134754055189487e-09]\n",
      "d01,d02,d12 = [0.9731813566128318, 0.9731813548881806, 0.9731813560604987]\n"
     ]
    },
    {
     "name": "stderr",
     "output_type": "stream",
     "text": [
      "/cluster/home/mskrabulis/miniconda3/envs/quantech/lib/python3.9/site-packages/pyscf/symm/Dmatrix.py:156: RuntimeWarning: invalid value encountered in arccos\n",
      "  gamma = numpy.arccos(yp.dot(c2[1]))\n",
      "Progress:  80%|███████▉  | 797/1000 [3:18:51<53:47, 15.90s/it]"
     ]
    },
    {
     "name": "stdout",
     "output_type": "stream",
     "text": [
      "Time to: Calculate Ground State - 0.8s, Get Pauli Ops - 4.96s, Calculate Pauli Expectation Values - 7.71s, Calculate Covariance - 2.2s\n",
      "f0,f1,f2 = [4.697385354604755e-10, 4.697385548360228e-10, 4.697385263174846e-10]\n",
      "d01,d02,d12 = [0.9703339267262534, 0.9703339248769394, 0.9703339261340331]\n"
     ]
    },
    {
     "name": "stderr",
     "output_type": "stream",
     "text": [
      "/cluster/home/mskrabulis/miniconda3/envs/quantech/lib/python3.9/site-packages/pyscf/symm/Dmatrix.py:156: RuntimeWarning: invalid value encountered in arccos\n",
      "  gamma = numpy.arccos(yp.dot(c2[1]))\n",
      "Progress:  80%|███████▉  | 798/1000 [3:19:05<51:51, 15.40s/it]"
     ]
    },
    {
     "name": "stdout",
     "output_type": "stream",
     "text": [
      "Time to: Calculate Ground State - 1.03s, Get Pauli Ops - 4.46s, Calculate Pauli Expectation Values - 6.61s, Calculate Covariance - 2.13s\n",
      "f0,f1,f2 = [8.651517106712368e-10, 8.651516864390865e-10, 8.65151722078409e-10]\n",
      "d01,d02,d12 = [0.9677993316370956, 0.9677993296776517, 0.9677993310096406]\n"
     ]
    },
    {
     "name": "stderr",
     "output_type": "stream",
     "text": [
      "/cluster/home/mskrabulis/miniconda3/envs/quantech/lib/python3.9/site-packages/pyscf/symm/Dmatrix.py:156: RuntimeWarning: invalid value encountered in arccos\n",
      "  gamma = numpy.arccos(yp.dot(c2[1]))\n",
      "Progress:  80%|███████▉  | 799/1000 [3:19:20<51:17, 15.31s/it]"
     ]
    },
    {
     "name": "stdout",
     "output_type": "stream",
     "text": [
      "Time to: Calculate Ground State - 0.95s, Get Pauli Ops - 5.06s, Calculate Pauli Expectation Values - 7.2s, Calculate Covariance - 1.87s\n",
      "f0,f1,f2 = [3.124962245629674e-10, 3.124962019711249e-10, 3.1249623520144664e-10]\n",
      "d01,d02,d12 = [0.965419335814202, 0.9654193337597553, 0.9654193351563544]\n"
     ]
    },
    {
     "name": "stderr",
     "output_type": "stream",
     "text": [
      "/cluster/home/mskrabulis/miniconda3/envs/quantech/lib/python3.9/site-packages/pyscf/symm/Dmatrix.py:156: RuntimeWarning: invalid value encountered in arccos\n",
      "  gamma = numpy.arccos(yp.dot(c2[1]))\n",
      "Progress:  80%|████████  | 800/1000 [3:19:33<49:08, 14.74s/it]"
     ]
    },
    {
     "name": "stdout",
     "output_type": "stream",
     "text": [
      "Time to: Calculate Ground State - 0.76s, Get Pauli Ops - 4.22s, Calculate Pauli Expectation Values - 6.5s, Calculate Covariance - 1.93s\n",
      "f0,f1,f2 = [1.0888357515776258e-09, 1.0888357278853274e-09, 1.0888357627484758e-09]\n",
      "d01,d02,d12 = [0.9638968501131839, 0.9638968479784483, 0.9638968494296529]\n"
     ]
    },
    {
     "name": "stderr",
     "output_type": "stream",
     "text": [
      "/cluster/home/mskrabulis/miniconda3/envs/quantech/lib/python3.9/site-packages/pyscf/symm/Dmatrix.py:156: RuntimeWarning: invalid value encountered in arccos\n",
      "  gamma = numpy.arccos(yp.dot(c2[1]))\n",
      "/cluster/home/mskrabulis/miniconda3/envs/quantech/lib/python3.9/site-packages/pyscf/symm/Dmatrix.py:156: RuntimeWarning: invalid value encountered in arccos\n",
      "  gamma = numpy.arccos(yp.dot(c2[1]))\n",
      "Progress:  80%|████████  | 801/1000 [3:19:48<48:39, 14.67s/it]"
     ]
    },
    {
     "name": "stdout",
     "output_type": "stream",
     "text": [
      "Time to: Calculate Ground State - 1.24s, Get Pauli Ops - 5.13s, Calculate Pauli Expectation Values - 6.38s, Calculate Covariance - 1.75s\n",
      "f0,f1,f2 = [1.667918687462445e-11, 1.6679213587247614e-11, 1.667917431156542e-11]\n",
      "d01,d02,d12 = [0.9622972150298916, 0.962297212829953, 0.9622972143255065]\n"
     ]
    },
    {
     "name": "stderr",
     "output_type": "stream",
     "text": [
      "Progress:  80%|████████  | 802/1000 [3:20:02<47:45, 14.47s/it]"
     ]
    },
    {
     "name": "stdout",
     "output_type": "stream",
     "text": [
      "Time to: Calculate Ground State - 1.36s, Get Pauli Ops - 5.41s, Calculate Pauli Expectation Values - 5.67s, Calculate Covariance - 1.56s\n",
      "f0,f1,f2 = [1.1156409077446654e-09, 1.1156408806305175e-09, 1.1156409205210192e-09]\n",
      "d01,d02,d12 = [0.9611020353859164, 0.9611020331356509, 0.9611020346654405]\n"
     ]
    },
    {
     "name": "stderr",
     "output_type": "stream",
     "text": [
      "Progress:  80%|████████  | 803/1000 [3:20:16<46:57, 14.30s/it]"
     ]
    },
    {
     "name": "stdout",
     "output_type": "stream",
     "text": [
      "Time to: Calculate Ground State - 1.33s, Get Pauli Ops - 4.79s, Calculate Pauli Expectation Values - 5.95s, Calculate Covariance - 1.83s\n",
      "f0,f1,f2 = [5.665882451299799e-10, 5.66588217360965e-10, 5.66588258198287e-10]\n",
      "d01,d02,d12 = [0.9601740833569158, 0.9601740810731694, 0.9601740826257412]\n"
     ]
    },
    {
     "name": "stderr",
     "output_type": "stream",
     "text": [
      "/cluster/home/mskrabulis/miniconda3/envs/quantech/lib/python3.9/site-packages/pyscf/symm/Dmatrix.py:156: RuntimeWarning: invalid value encountered in arccos\n",
      "  gamma = numpy.arccos(yp.dot(c2[1]))\n",
      "Progress:  80%|████████  | 804/1000 [3:20:32<48:46, 14.93s/it]"
     ]
    },
    {
     "name": "stdout",
     "output_type": "stream",
     "text": [
      "Time to: Calculate Ground State - 1.3s, Get Pauli Ops - 4.7s, Calculate Pauli Expectation Values - 8.02s, Calculate Covariance - 2.38s\n",
      "f0,f1,f2 = [1.918919501824361e-09, 1.918919471266406e-09, 1.9189195162392074e-09]\n",
      "d01,d02,d12 = [0.9601216472412243, 0.9601216449408764, 0.9601216465047582]\n"
     ]
    },
    {
     "name": "stderr",
     "output_type": "stream",
     "text": [
      "Progress:  80%|████████  | 805/1000 [3:20:44<45:36, 14.03s/it]"
     ]
    },
    {
     "name": "stdout",
     "output_type": "stream",
     "text": [
      "Time to: Calculate Ground State - 0.78s, Get Pauli Ops - 4.21s, Calculate Pauli Expectation Values - 5.54s, Calculate Covariance - 1.4s\n",
      "f0,f1,f2 = [1.5403659701391981e-09, 1.5403659436006866e-09, 1.5403659826279177e-09]\n",
      "d01,d02,d12 = [0.9607059180622315, 0.9607059157608869, 0.9607059173254712]\n"
     ]
    },
    {
     "name": "stderr",
     "output_type": "stream",
     "text": [
      "Progress:  81%|████████  | 806/1000 [3:20:59<45:47, 14.16s/it]"
     ]
    },
    {
     "name": "stdout",
     "output_type": "stream",
     "text": [
      "Time to: Calculate Ground State - 1.0s, Get Pauli Ops - 4.78s, Calculate Pauli Expectation Values - 6.52s, Calculate Covariance - 2.15s\n",
      "f0,f1,f2 = [1.4214208794133385e-09, 1.4214208488065284e-09, 1.4214208938323448e-09]\n",
      "d01,d02,d12 = [0.9619110466081142, 0.9619110443229815, 0.9619110458765708]\n"
     ]
    },
    {
     "name": "stderr",
     "output_type": "stream",
     "text": [
      "/cluster/home/mskrabulis/miniconda3/envs/quantech/lib/python3.9/site-packages/pyscf/symm/Dmatrix.py:156: RuntimeWarning: invalid value encountered in arccos\n",
      "  gamma = numpy.arccos(yp.dot(c2[1]))\n",
      "Progress:  81%|████████  | 807/1000 [3:21:13<45:27, 14.13s/it]"
     ]
    },
    {
     "name": "stdout",
     "output_type": "stream",
     "text": [
      "Time to: Calculate Ground State - 1.06s, Get Pauli Ops - 5.51s, Calculate Pauli Expectation Values - 5.52s, Calculate Covariance - 1.96s\n",
      "f0,f1,f2 = [1.2856424164342156e-09, 1.2856423892610957e-09, 1.2856424292295197e-09]\n",
      "d01,d02,d12 = [0.9637031098874409, 0.963703107631992, 0.9637031091654267]\n"
     ]
    },
    {
     "name": "stderr",
     "output_type": "stream",
     "text": [
      "Progress:  81%|████████  | 808/1000 [3:21:29<47:15, 14.77s/it]"
     ]
    },
    {
     "name": "stdout",
     "output_type": "stream",
     "text": [
      "Time to: Calculate Ground State - 1.34s, Get Pauli Ops - 5.07s, Calculate Pauli Expectation Values - 7.47s, Calculate Covariance - 2.38s\n",
      "f0,f1,f2 = [1.7250964008522693e-09, 1.7250963731039846e-09, 1.72509641392649e-09]\n",
      "d01,d02,d12 = [0.9660658865901232, 0.9660658843821048, 0.9660658858833205]\n"
     ]
    },
    {
     "name": "stderr",
     "output_type": "stream",
     "text": [
      "Progress:  81%|████████  | 809/1000 [3:21:45<48:31, 15.24s/it]"
     ]
    },
    {
     "name": "stdout",
     "output_type": "stream",
     "text": [
      "Time to: Calculate Ground State - 1.01s, Get Pauli Ops - 4.54s, Calculate Pauli Expectation Values - 8.65s, Calculate Covariance - 2.14s\n",
      "f0,f1,f2 = [1.2575759258033939e-09, 1.2575758997672759e-09, 1.2575759380614253e-09]\n",
      "d01,d02,d12 = [0.9691632448119006, 0.9691632426666806, 0.9691632441252261]\n"
     ]
    },
    {
     "name": "stderr",
     "output_type": "stream",
     "text": [
      "Progress:  81%|████████  | 810/1000 [3:21:59<47:06, 14.88s/it]"
     ]
    },
    {
     "name": "stdout",
     "output_type": "stream",
     "text": [
      "Time to: Calculate Ground State - 1.13s, Get Pauli Ops - 4.68s, Calculate Pauli Expectation Values - 6.12s, Calculate Covariance - 2.08s\n",
      "f0,f1,f2 = [1.6235224337775956e-09, 1.6235224080760312e-09, 1.62352244589221e-09]\n",
      "d01,d02,d12 = [0.9730328599736497, 0.9730328579061931, 0.9730328593118969]\n"
     ]
    },
    {
     "name": "stderr",
     "output_type": "stream",
     "text": [
      "Progress:  81%|████████  | 811/1000 [3:22:13<45:53, 14.57s/it]"
     ]
    },
    {
     "name": "stdout",
     "output_type": "stream",
     "text": [
      "Time to: Calculate Ground State - 1.02s, Get Pauli Ops - 4.64s, Calculate Pauli Expectation Values - 6.09s, Calculate Covariance - 2.09s\n",
      "f0,f1,f2 = [1.042284789900851e-09, 1.0422847648665752e-09, 1.0422848016756772e-09]\n",
      "d01,d02,d12 = [0.9773207756618942, 0.9773207736819438, 0.9773207750281818]\n"
     ]
    },
    {
     "name": "stderr",
     "output_type": "stream",
     "text": [
      "/cluster/home/mskrabulis/miniconda3/envs/quantech/lib/python3.9/site-packages/pyscf/symm/Dmatrix.py:156: RuntimeWarning: invalid value encountered in arccos\n",
      "  gamma = numpy.arccos(yp.dot(c2[1]))\n",
      "Progress:  81%|████████  | 812/1000 [3:22:27<45:29, 14.52s/it]"
     ]
    },
    {
     "name": "stdout",
     "output_type": "stream",
     "text": [
      "Time to: Calculate Ground State - 0.99s, Get Pauli Ops - 4.79s, Calculate Pauli Expectation Values - 6.64s, Calculate Covariance - 1.98s\n",
      "f0,f1,f2 = [7.766883208392661e-10, 7.766882998017553e-10, 7.766883307154779e-10]\n",
      "d01,d02,d12 = [0.981663063244758, 0.9816630613631991, 0.9816630626425658]\n"
     ]
    },
    {
     "name": "stderr",
     "output_type": "stream",
     "text": [
      "/cluster/home/mskrabulis/miniconda3/envs/quantech/lib/python3.9/site-packages/pyscf/symm/Dmatrix.py:156: RuntimeWarning: invalid value encountered in arccos\n",
      "  gamma = numpy.arccos(yp.dot(c2[1]))\n",
      "Progress:  81%|████████▏ | 813/1000 [3:22:44<47:17, 15.17s/it]"
     ]
    },
    {
     "name": "stdout",
     "output_type": "stream",
     "text": [
      "Time to: Calculate Ground State - 0.99s, Get Pauli Ops - 4.22s, Calculate Pauli Expectation Values - 9.21s, Calculate Covariance - 2.27s\n",
      "f0,f1,f2 = [1.7553413190044338e-10, 1.7553415101875752e-10, 1.7553412292087138e-10]\n",
      "d01,d02,d12 = [0.9858848262874317, 0.9858848245159634, 0.9858848257205044]\n"
     ]
    },
    {
     "name": "stderr",
     "output_type": "stream",
     "text": [
      "/cluster/home/mskrabulis/miniconda3/envs/quantech/lib/python3.9/site-packages/pyscf/symm/Dmatrix.py:156: RuntimeWarning: invalid value encountered in arccos\n",
      "  gamma = numpy.arccos(yp.dot(c2[1]))\n",
      "Progress:  81%|████████▏ | 814/1000 [3:23:02<49:53, 16.10s/it]"
     ]
    },
    {
     "name": "stdout",
     "output_type": "stream",
     "text": [
      "Time to: Calculate Ground State - 0.81s, Get Pauli Ops - 5.15s, Calculate Pauli Expectation Values - 10.14s, Calculate Covariance - 2.14s\n",
      "f0,f1,f2 = [4.1231450470027127e-10, 4.1231452499154584e-10, 4.1231449516410954e-10]\n",
      "d01,d02,d12 = [0.9900315389858392, 0.9900315373352203, 0.9900315384576209]\n"
     ]
    },
    {
     "name": "stderr",
     "output_type": "stream",
     "text": [
      "Progress:  82%|████████▏ | 815/1000 [3:23:16<47:29, 15.40s/it]"
     ]
    },
    {
     "name": "stdout",
     "output_type": "stream",
     "text": [
      "Time to: Calculate Ground State - 1.0s, Get Pauli Ops - 4.56s, Calculate Pauli Expectation Values - 6.52s, Calculate Covariance - 1.69s\n",
      "f0,f1,f2 = [4.1376737497597495e-10, 4.137673922609715e-10, 4.137673668475986e-10]\n",
      "d01,d02,d12 = [0.9941026379124263, 0.9941026363976622, 0.9941026374277173]\n"
     ]
    },
    {
     "name": "stderr",
     "output_type": "stream",
     "text": [
      "Progress:  82%|████████▏ | 816/1000 [3:23:28<44:00, 14.35s/it]"
     ]
    },
    {
     "name": "stdout",
     "output_type": "stream",
     "text": [
      "Time to: Calculate Ground State - 0.79s, Get Pauli Ops - 4.09s, Calculate Pauli Expectation Values - 5.51s, Calculate Covariance - 1.49s\n",
      "f0,f1,f2 = [3.0036446010206716e-10, 3.0036444313302227e-10, 3.0036446810573483e-10]\n",
      "d01,d02,d12 = [0.9983900426446883, 0.9983900412748649, 0.9983900422063993]\n"
     ]
    },
    {
     "name": "stderr",
     "output_type": "stream",
     "text": [
      "/cluster/home/mskrabulis/miniconda3/envs/quantech/lib/python3.9/site-packages/pyscf/symm/Dmatrix.py:156: RuntimeWarning: invalid value encountered in arccos\n",
      "  gamma = numpy.arccos(yp.dot(c2[1]))\n",
      "Progress:  82%|████████▏ | 817/1000 [3:23:42<43:09, 14.15s/it]"
     ]
    },
    {
     "name": "stdout",
     "output_type": "stream",
     "text": [
      "Time to: Calculate Ground State - 1.04s, Get Pauli Ops - 4.24s, Calculate Pauli Expectation Values - 6.42s, Calculate Covariance - 1.98s\n",
      "f0,f1,f2 = [2.014983321568209e-10, 2.014983181204386e-10, 2.0149833874601283e-10]\n",
      "d01,d02,d12 = [1.002859665901302, 1.0028596646815484, 1.0028596655110718]\n"
     ]
    },
    {
     "name": "stderr",
     "output_type": "stream",
     "text": [
      "/cluster/home/mskrabulis/miniconda3/envs/quantech/lib/python3.9/site-packages/pyscf/symm/Dmatrix.py:156: RuntimeWarning: invalid value encountered in arccos\n",
      "  gamma = numpy.arccos(yp.dot(c2[1]))\n",
      "Progress:  82%|████████▏ | 818/1000 [3:23:58<44:25, 14.65s/it]"
     ]
    },
    {
     "name": "stdout",
     "output_type": "stream",
     "text": [
      "Time to: Calculate Ground State - 1.33s, Get Pauli Ops - 5.79s, Calculate Pauli Expectation Values - 6.43s, Calculate Covariance - 2.25s\n",
      "f0,f1,f2 = [1.9152577498411796e-10, 1.9152578655698467e-10, 1.9152576954991168e-10]\n",
      "d01,d02,d12 = [1.0067803216335753, 1.006780320570702, 1.0067803212935786]\n"
     ]
    },
    {
     "name": "stderr",
     "output_type": "stream",
     "text": [
      "Progress:  82%|████████▏ | 819/1000 [3:24:12<44:17, 14.68s/it]"
     ]
    },
    {
     "name": "stdout",
     "output_type": "stream",
     "text": [
      "Time to: Calculate Ground State - 1.37s, Get Pauli Ops - 6.07s, Calculate Pauli Expectation Values - 5.79s, Calculate Covariance - 1.54s\n",
      "f0,f1,f2 = [1.0604517026409872e-09, 1.0604517117588587e-09, 1.0604516983528738e-09]\n",
      "d01,d02,d12 = [1.0107493115264106, 1.0107493106260275, 1.0107493112384422]\n"
     ]
    },
    {
     "name": "stderr",
     "output_type": "stream",
     "text": [
      "Progress:  82%|████████▏ | 820/1000 [3:24:29<45:26, 15.15s/it]"
     ]
    },
    {
     "name": "stdout",
     "output_type": "stream",
     "text": [
      "Time to: Calculate Ground State - 0.76s, Get Pauli Ops - 6.85s, Calculate Pauli Expectation Values - 6.45s, Calculate Covariance - 2.17s\n",
      "f0,f1,f2 = [1.878760016334206e-10, 1.878759928707147e-10, 1.878760057599733e-10]\n",
      "d01,d02,d12 = [1.0153504155893147, 1.0153504148546517, 1.0153504153544115]\n"
     ]
    },
    {
     "name": "stderr",
     "output_type": "stream",
     "text": [
      "Progress:  82%|████████▏ | 821/1000 [3:24:41<42:24, 14.22s/it]"
     ]
    },
    {
     "name": "stdout",
     "output_type": "stream",
     "text": [
      "Time to: Calculate Ground State - 0.81s, Get Pauli Ops - 4.28s, Calculate Pauli Expectation Values - 5.54s, Calculate Covariance - 1.41s\n",
      "f0,f1,f2 = [2.2485891403868247e-10, 2.248589202347804e-10, 2.2485891112142426e-10]\n",
      "d01,d02,d12 = [1.0194738370382432, 1.0194738364713865, 1.019473836857074]\n"
     ]
    },
    {
     "name": "stderr",
     "output_type": "stream",
     "text": [
      "/cluster/home/mskrabulis/miniconda3/envs/quantech/lib/python3.9/site-packages/pyscf/symm/Dmatrix.py:156: RuntimeWarning: invalid value encountered in arccos\n",
      "  gamma = numpy.arccos(yp.dot(c2[1]))\n",
      "Progress:  82%|████████▏ | 822/1000 [3:24:54<41:04, 13.84s/it]"
     ]
    },
    {
     "name": "stdout",
     "output_type": "stream",
     "text": [
      "Time to: Calculate Ground State - 1.19s, Get Pauli Ops - 4.49s, Calculate Pauli Expectation Values - 5.9s, Calculate Covariance - 1.39s\n",
      "f0,f1,f2 = [1.4137635216515098e-09, 1.4137635270781798e-09, 1.4137635190952487e-09]\n",
      "d01,d02,d12 = [1.022665747561185, 1.0226657471664815, 1.0226657474351404]\n"
     ]
    },
    {
     "name": "stderr",
     "output_type": "stream",
     "text": [
      "/cluster/home/mskrabulis/miniconda3/envs/quantech/lib/python3.9/site-packages/pyscf/symm/Dmatrix.py:156: RuntimeWarning: invalid value encountered in arccos\n",
      "  gamma = numpy.arccos(yp.dot(c2[1]))\n",
      "Progress:  82%|████████▏ | 823/1000 [3:25:06<39:51, 13.51s/it]"
     ]
    },
    {
     "name": "stdout",
     "output_type": "stream",
     "text": [
      "Time to: Calculate Ground State - 0.75s, Get Pauli Ops - 4.2s, Calculate Pauli Expectation Values - 6.03s, Calculate Covariance - 1.77s\n",
      "f0,f1,f2 = [1.7836388931691343e-09, 1.7836388967149292e-09, 1.7836388915132133e-09]\n",
      "d01,d02,d12 = [1.0254006788065277, 1.0254006785860839, 1.0254006787362804]\n"
     ]
    },
    {
     "name": "stderr",
     "output_type": "stream",
     "text": [
      "Progress:  82%|████████▏ | 824/1000 [3:25:21<40:33, 13.83s/it]"
     ]
    },
    {
     "name": "stdout",
     "output_type": "stream",
     "text": [
      "Time to: Calculate Ground State - 1.18s, Get Pauli Ops - 5.15s, Calculate Pauli Expectation Values - 6.13s, Calculate Covariance - 2.09s\n",
      "f0,f1,f2 = [8.023878518341188e-10, 8.023878538726425e-10, 8.023878509032974e-10]\n",
      "d01,d02,d12 = [1.0282074610455707, 1.0282074610002279, 1.0282074610313832]\n"
     ]
    },
    {
     "name": "stderr",
     "output_type": "stream",
     "text": [
      "/cluster/home/mskrabulis/miniconda3/envs/quantech/lib/python3.9/site-packages/pyscf/symm/Dmatrix.py:156: RuntimeWarning: invalid value encountered in arccos\n",
      "  gamma = numpy.arccos(yp.dot(c2[1]))\n",
      "Progress:  82%|████████▎ | 825/1000 [3:25:40<45:05, 15.46s/it]"
     ]
    },
    {
     "name": "stdout",
     "output_type": "stream",
     "text": [
      "Time to: Calculate Ground State - 1.08s, Get Pauli Ops - 4.71s, Calculate Pauli Expectation Values - 10.99s, Calculate Covariance - 2.48s\n",
      "f0,f1,f2 = [1.2745210961442347e-09, 1.2745210964917347e-09, 1.2745210959916895e-09]\n",
      "d01,d02,d12 = [1.0303947125170982, 1.0303947126469384, 1.0303947125589963]\n"
     ]
    },
    {
     "name": "stderr",
     "output_type": "stream",
     "text": [
      "/cluster/home/mskrabulis/miniconda3/envs/quantech/lib/python3.9/site-packages/pyscf/symm/Dmatrix.py:156: RuntimeWarning: invalid value encountered in arccos\n",
      "  gamma = numpy.arccos(yp.dot(c2[1]))\n",
      "Progress:  83%|████████▎ | 826/1000 [3:25:55<44:36, 15.38s/it]"
     ]
    },
    {
     "name": "stdout",
     "output_type": "stream",
     "text": [
      "Time to: Calculate Ground State - 0.97s, Get Pauli Ops - 4.16s, Calculate Pauli Expectation Values - 8.31s, Calculate Covariance - 1.74s\n",
      "f0,f1,f2 = [1.9868866422238377e-09, 1.98688664113124e-09, 1.986886642740412e-09]\n",
      "d01,d02,d12 = [1.0319585478352704, 1.0319585481398976, 1.0319585479331292]\n"
     ]
    },
    {
     "name": "stderr",
     "output_type": "stream",
     "text": [
      "Progress:  83%|████████▎ | 827/1000 [3:26:09<42:45, 14.83s/it]"
     ]
    },
    {
     "name": "stdout",
     "output_type": "stream",
     "text": [
      "Time to: Calculate Ground State - 0.8s, Get Pauli Ops - 4.68s, Calculate Pauli Expectation Values - 6.1s, Calculate Covariance - 1.95s\n",
      "f0,f1,f2 = [1.6653509863530547e-09, 1.6653509833683997e-09, 1.6653509877748011e-09]\n",
      "d01,d02,d12 = [1.0328771071909815, 1.0328771076687913, 1.0328771073442853]\n"
     ]
    },
    {
     "name": "stderr",
     "output_type": "stream",
     "text": [
      "Progress:  83%|████████▎ | 828/1000 [3:26:23<41:52, 14.61s/it]"
     ]
    },
    {
     "name": "stdout",
     "output_type": "stream",
     "text": [
      "Time to: Calculate Ground State - 1.06s, Get Pauli Ops - 5.06s, Calculate Pauli Expectation Values - 6.18s, Calculate Covariance - 1.79s\n",
      "f0,f1,f2 = [2.2156234977181476e-09, 2.2156234932416483e-09, 2.2156234998249447e-09]\n",
      "d01,d02,d12 = [1.032889570908507, 1.032889571556737, 1.0328895711163724]\n"
     ]
    },
    {
     "name": "stderr",
     "output_type": "stream",
     "text": [
      "/cluster/home/mskrabulis/miniconda3/envs/quantech/lib/python3.9/site-packages/pyscf/symm/Dmatrix.py:156: RuntimeWarning: invalid value encountered in arccos\n",
      "  gamma = numpy.arccos(yp.dot(c2[1]))\n",
      "Progress:  83%|████████▎ | 829/1000 [3:26:43<46:00, 16.14s/it]"
     ]
    },
    {
     "name": "stdout",
     "output_type": "stream",
     "text": [
      "Time to: Calculate Ground State - 1.38s, Get Pauli Ops - 9.5s, Calculate Pauli Expectation Values - 6.78s, Calculate Covariance - 2.05s\n",
      "f0,f1,f2 = [3.0098998578683757e-09, 3.0098998520209438e-09, 3.0098998606154744e-09]\n",
      "d01,d02,d12 = [1.031653706431405, 1.0316537072458298, 1.0316537066924798]\n"
     ]
    },
    {
     "name": "stderr",
     "output_type": "stream",
     "text": [
      "/cluster/home/mskrabulis/miniconda3/envs/quantech/lib/python3.9/site-packages/pyscf/symm/Dmatrix.py:156: RuntimeWarning: invalid value encountered in arccos\n",
      "  gamma = numpy.arccos(yp.dot(c2[1]))\n",
      "Progress:  83%|████████▎ | 830/1000 [3:26:56<43:23, 15.31s/it]"
     ]
    },
    {
     "name": "stdout",
     "output_type": "stream",
     "text": [
      "Time to: Calculate Ground State - 1.01s, Get Pauli Ops - 4.4s, Calculate Pauli Expectation Values - 5.98s, Calculate Covariance - 1.98s\n",
      "f0,f1,f2 = [1.0273630814951754e-09, 1.027363074077372e-09, 1.02736308499581e-09]\n",
      "d01,d02,d12 = [1.030032643094836, 1.0300326440707956, 1.0300326434076266]\n"
     ]
    },
    {
     "name": "stderr",
     "output_type": "stream",
     "text": [
      "Progress:  83%|████████▎ | 831/1000 [3:27:10<41:49, 14.85s/it]"
     ]
    },
    {
     "name": "stdout",
     "output_type": "stream",
     "text": [
      "Time to: Calculate Ground State - 0.75s, Get Pauli Ops - 4.71s, Calculate Pauli Expectation Values - 6.18s, Calculate Covariance - 2.13s\n",
      "f0,f1,f2 = [8.388257734733095e-10, 8.388257663703891e-10, 8.38825776831425e-10]\n",
      "d01,d02,d12 = [1.0278872431588177, 1.0278872442927434, 1.0278872435221789]\n"
     ]
    },
    {
     "name": "stderr",
     "output_type": "stream",
     "text": [
      "Progress:  83%|████████▎ | 832/1000 [3:27:27<43:05, 15.39s/it]"
     ]
    },
    {
     "name": "stdout",
     "output_type": "stream",
     "text": [
      "Time to: Calculate Ground State - 1.16s, Get Pauli Ops - 5.07s, Calculate Pauli Expectation Values - 8.33s, Calculate Covariance - 2.08s\n",
      "f0,f1,f2 = [2.043812488989112e-09, 2.043812478716072e-09, 2.0438124938235236e-09]\n",
      "d01,d02,d12 = [1.0248791490208204, 1.0248791503065753, 1.024879149432788]\n"
     ]
    },
    {
     "name": "stderr",
     "output_type": "stream",
     "text": [
      "/cluster/home/mskrabulis/miniconda3/envs/quantech/lib/python3.9/site-packages/pyscf/symm/Dmatrix.py:156: RuntimeWarning: invalid value encountered in arccos\n",
      "  gamma = numpy.arccos(yp.dot(c2[1]))\n",
      "Progress:  83%|████████▎ | 833/1000 [3:27:40<41:06, 14.77s/it]"
     ]
    },
    {
     "name": "stdout",
     "output_type": "stream",
     "text": [
      "Time to: Calculate Ground State - 1.05s, Get Pauli Ops - 4.38s, Calculate Pauli Expectation Values - 6.22s, Calculate Covariance - 1.65s\n",
      "f0,f1,f2 = [1.6653073067864853e-09, 1.6653072968758824e-09, 1.6653073114543638e-09]\n",
      "d01,d02,d12 = [1.0212214959629125, 1.021221497391863, 1.0212214964207222]\n"
     ]
    },
    {
     "name": "stderr",
     "output_type": "stream",
     "text": [
      "/cluster/home/mskrabulis/miniconda3/envs/quantech/lib/python3.9/site-packages/pyscf/symm/Dmatrix.py:156: RuntimeWarning: invalid value encountered in arccos\n",
      "  gamma = numpy.arccos(yp.dot(c2[1]))\n",
      "Progress:  83%|████████▎ | 834/1000 [3:27:59<44:51, 16.21s/it]"
     ]
    },
    {
     "name": "stdout",
     "output_type": "stream",
     "text": [
      "Time to: Calculate Ground State - 0.98s, Get Pauli Ops - 11.11s, Calculate Pauli Expectation Values - 5.88s, Calculate Covariance - 1.6s\n",
      "f0,f1,f2 = [1.3048692730886752e-09, 1.3048692568385598e-09, 1.3048692807400892e-09]\n",
      "d01,d02,d12 = [1.01725574927293, 1.0172557508326758, 1.0172557497726078]\n"
     ]
    },
    {
     "name": "stderr",
     "output_type": "stream",
     "text": [
      "/cluster/home/mskrabulis/miniconda3/envs/quantech/lib/python3.9/site-packages/pyscf/symm/Dmatrix.py:156: RuntimeWarning: invalid value encountered in arccos\n",
      "  gamma = numpy.arccos(yp.dot(c2[1]))\n",
      "Progress:  84%|████████▎ | 835/1000 [3:28:14<43:04, 15.66s/it]"
     ]
    },
    {
     "name": "stdout",
     "output_type": "stream",
     "text": [
      "Time to: Calculate Ground State - 1.28s, Get Pauli Ops - 4.51s, Calculate Pauli Expectation Values - 6.35s, Calculate Covariance - 2.23s\n",
      "f0,f1,f2 = [2.007498271320518e-09, 2.007498253621916e-09, 2.00749827965571e-09]\n",
      "d01,d02,d12 = [1.0123838253341564, 1.0123838270117693, 1.0123838258715592]\n"
     ]
    },
    {
     "name": "stderr",
     "output_type": "stream",
     "text": [
      "/cluster/home/mskrabulis/miniconda3/envs/quantech/lib/python3.9/site-packages/pyscf/symm/Dmatrix.py:156: RuntimeWarning: invalid value encountered in arccos\n",
      "  gamma = numpy.arccos(yp.dot(c2[1]))\n",
      "Progress:  84%|████████▎ | 836/1000 [3:28:28<41:47, 15.29s/it]"
     ]
    },
    {
     "name": "stdout",
     "output_type": "stream",
     "text": [
      "Time to: Calculate Ground State - 1.04s, Get Pauli Ops - 4.75s, Calculate Pauli Expectation Values - 6.1s, Calculate Covariance - 2.51s\n",
      "f0,f1,f2 = [1.709066837608285e-09, 1.7090668225339209e-09, 1.7090668446974792e-09]\n",
      "d01,d02,d12 = [1.0071152336743423, 1.0071152354605573, 1.0071152342465057]\n"
     ]
    },
    {
     "name": "stderr",
     "output_type": "stream",
     "text": [
      "Progress:  84%|████████▎ | 837/1000 [3:28:42<40:33, 14.93s/it]"
     ]
    },
    {
     "name": "stdout",
     "output_type": "stream",
     "text": [
      "Time to: Calculate Ground State - 1.33s, Get Pauli Ops - 4.55s, Calculate Pauli Expectation Values - 6.12s, Calculate Covariance - 2.08s\n",
      "f0,f1,f2 = [6.661645729569562e-10, 6.661645556400629e-10, 6.661645811194866e-10]\n",
      "d01,d02,d12 = [1.0014231712143506, 1.0014231731029917, 1.001423171819296]\n"
     ]
    },
    {
     "name": "stderr",
     "output_type": "stream",
     "text": [
      "/cluster/home/mskrabulis/miniconda3/envs/quantech/lib/python3.9/site-packages/pyscf/symm/Dmatrix.py:156: RuntimeWarning: invalid value encountered in arccos\n",
      "  gamma = numpy.arccos(yp.dot(c2[1]))\n",
      "Progress:  84%|████████▍ | 838/1000 [3:28:56<39:35, 14.66s/it]"
     ]
    },
    {
     "name": "stdout",
     "output_type": "stream",
     "text": [
      "Time to: Calculate Ground State - 1.08s, Get Pauli Ops - 4.67s, Calculate Pauli Expectation Values - 6.07s, Calculate Covariance - 2.21s\n",
      "f0,f1,f2 = [3.320200467255551e-10, 3.320200634101707e-10, 3.320200388626351e-10]\n",
      "d01,d02,d12 = [0.9960567951613264, 0.9960567971407078, 0.996056795795309]\n"
     ]
    },
    {
     "name": "stderr",
     "output_type": "stream",
     "text": [
      "Progress:  84%|████████▍ | 839/1000 [3:29:15<42:44, 15.93s/it]"
     ]
    },
    {
     "name": "stdout",
     "output_type": "stream",
     "text": [
      "Time to: Calculate Ground State - 1.11s, Get Pauli Ops - 8.05s, Calculate Pauli Expectation Values - 7.58s, Calculate Covariance - 2.14s\n",
      "f0,f1,f2 = [2.867613920410604e-10, 2.867614135113725e-10, 2.867613819508388e-10]\n",
      "d01,d02,d12 = [0.9898745760232184, 0.9898745780778997, 0.9898745766812952]\n"
     ]
    },
    {
     "name": "stderr",
     "output_type": "stream",
     "text": [
      "/cluster/home/mskrabulis/miniconda3/envs/quantech/lib/python3.9/site-packages/pyscf/symm/Dmatrix.py:156: RuntimeWarning: invalid value encountered in arccos\n",
      "  gamma = numpy.arccos(yp.dot(c2[1]))\n",
      "Progress:  84%|████████▍ | 840/1000 [3:29:31<42:37, 15.98s/it]"
     ]
    },
    {
     "name": "stdout",
     "output_type": "stream",
     "text": [
      "Time to: Calculate Ground State - 1.07s, Get Pauli Ops - 4.57s, Calculate Pauli Expectation Values - 8.06s, Calculate Covariance - 2.4s\n",
      "f0,f1,f2 = [2.582954209772269e-10, 2.5829539921569894e-10, 2.5829543122819776e-10]\n",
      "d01,d02,d12 = [0.9835177333764129, 0.9835177354847784, 0.9835177340516608]\n"
     ]
    },
    {
     "name": "stderr",
     "output_type": "stream",
     "text": [
      "/cluster/home/mskrabulis/miniconda3/envs/quantech/lib/python3.9/site-packages/pyscf/symm/Dmatrix.py:156: RuntimeWarning: invalid value encountered in arccos\n",
      "  gamma = numpy.arccos(yp.dot(c2[1]))\n",
      "/cluster/home/mskrabulis/miniconda3/envs/quantech/lib/python3.9/site-packages/pyscf/symm/Dmatrix.py:156: RuntimeWarning: invalid value encountered in arccos\n",
      "  gamma = numpy.arccos(yp.dot(c2[1]))\n",
      "Progress:  84%|████████▍ | 841/1000 [3:29:46<41:05, 15.51s/it]"
     ]
    },
    {
     "name": "stdout",
     "output_type": "stream",
     "text": [
      "Time to: Calculate Ground State - 1.33s, Get Pauli Ops - 4.61s, Calculate Pauli Expectation Values - 6.55s, Calculate Covariance - 1.89s\n",
      "f0,f1,f2 = [8.607842612507595e-10, 8.607842387754538e-10, 8.607842718495468e-10]\n",
      "d01,d02,d12 = [0.9769991128792668, 0.9769991150318712, 0.9769991135686548]\n"
     ]
    },
    {
     "name": "stderr",
     "output_type": "stream",
     "text": [
      "Progress:  84%|████████▍ | 842/1000 [3:30:00<39:36, 15.04s/it]"
     ]
    },
    {
     "name": "stdout",
     "output_type": "stream",
     "text": [
      "Time to: Calculate Ground State - 1.33s, Get Pauli Ops - 4.5s, Calculate Pauli Expectation Values - 6.15s, Calculate Covariance - 1.98s\n",
      "f0,f1,f2 = [1.8013264096322256e-10, 1.8013266662385042e-10, 1.8013262886261485e-10]\n",
      "d01,d02,d12 = [0.9710580716448537, 0.9710580738440804, 0.9710580723491433]\n"
     ]
    },
    {
     "name": "stderr",
     "output_type": "stream",
     "text": [
      "/cluster/home/mskrabulis/miniconda3/envs/quantech/lib/python3.9/site-packages/pyscf/symm/Dmatrix.py:156: RuntimeWarning: invalid value encountered in arccos\n",
      "  gamma = numpy.arccos(yp.dot(c2[1]))\n",
      "Progress:  84%|████████▍ | 843/1000 [3:30:15<39:34, 15.13s/it]"
     ]
    },
    {
     "name": "stdout",
     "output_type": "stream",
     "text": [
      "Time to: Calculate Ground State - 0.77s, Get Pauli Ops - 4.65s, Calculate Pauli Expectation Values - 7.73s, Calculate Covariance - 2.16s\n",
      "f0,f1,f2 = [5.853777677792853e-10, 5.853777951482451e-10, 5.853777548713986e-10]\n",
      "d01,d02,d12 = [0.964362048787444, 0.9643620510077172, 0.9643620494984423]\n"
     ]
    },
    {
     "name": "stderr",
     "output_type": "stream",
     "text": [
      "/cluster/home/mskrabulis/miniconda3/envs/quantech/lib/python3.9/site-packages/pyscf/symm/Dmatrix.py:156: RuntimeWarning: invalid value encountered in arccos\n",
      "  gamma = numpy.arccos(yp.dot(c2[1]))\n",
      "Progress:  84%|████████▍ | 844/1000 [3:30:32<40:36, 15.62s/it]"
     ]
    },
    {
     "name": "stdout",
     "output_type": "stream",
     "text": [
      "Time to: Calculate Ground State - 1.41s, Get Pauli Ops - 4.94s, Calculate Pauli Expectation Values - 8.2s, Calculate Covariance - 2.21s\n",
      "f0,f1,f2 = [5.37783588206673e-10, 5.377835605981198e-10, 5.377836012368858e-10]\n",
      "d01,d02,d12 = [0.9571188686574733, 0.9571188708802338, 0.9571188693692324]\n"
     ]
    },
    {
     "name": "stderr",
     "output_type": "stream",
     "text": [
      "Progress:  84%|████████▍ | 845/1000 [3:30:45<38:12, 14.79s/it]"
     ]
    },
    {
     "name": "stdout",
     "output_type": "stream",
     "text": [
      "Time to: Calculate Ground State - 0.91s, Get Pauli Ops - 4.5s, Calculate Pauli Expectation Values - 5.77s, Calculate Covariance - 1.66s\n",
      "f0,f1,f2 = [2.7465645620792894e-10, 2.746564809156563e-10, 2.7465644457836127e-10]\n",
      "d01,d02,d12 = [0.9500660458712931, 0.9500660480797248, 0.9500660465784221]\n"
     ]
    },
    {
     "name": "stderr",
     "output_type": "stream",
     "text": [
      "Progress:  85%|████████▍ | 846/1000 [3:31:00<38:41, 15.07s/it]"
     ]
    },
    {
     "name": "stdout",
     "output_type": "stream",
     "text": [
      "Time to: Calculate Ground State - 1.28s, Get Pauli Ops - 5.04s, Calculate Pauli Expectation Values - 7.31s, Calculate Covariance - 2.09s\n",
      "f0,f1,f2 = [1.4776538476994212e-09, 1.477653874160156e-09, 1.4776538352320086e-09]\n",
      "d01,d02,d12 = [0.9432027030294299, 0.9432027052114896, 0.943202703728077]\n"
     ]
    },
    {
     "name": "stderr",
     "output_type": "stream",
     "text": [
      "/cluster/home/mskrabulis/miniconda3/envs/quantech/lib/python3.9/site-packages/pyscf/symm/Dmatrix.py:156: RuntimeWarning: invalid value encountered in arccos\n",
      "  gamma = numpy.arccos(yp.dot(c2[1]))\n",
      "Progress:  85%|████████▍ | 847/1000 [3:31:15<38:12, 14.98s/it]"
     ]
    },
    {
     "name": "stdout",
     "output_type": "stream",
     "text": [
      "Time to: Calculate Ground State - 1.11s, Get Pauli Ops - 4.76s, Calculate Pauli Expectation Values - 6.55s, Calculate Covariance - 2.34s\n",
      "f0,f1,f2 = [1.9500377512035363e-09, 1.950037780979947e-09, 1.950037737187038e-09]\n",
      "d01,d02,d12 = [0.9372246137989442, 0.9372246159407833, 0.9372246144846773]\n"
     ]
    },
    {
     "name": "stderr",
     "output_type": "stream",
     "text": [
      "Progress:  85%|████████▍ | 848/1000 [3:31:32<39:15, 15.49s/it]"
     ]
    },
    {
     "name": "stdout",
     "output_type": "stream",
     "text": [
      "Time to: Calculate Ground State - 1.35s, Get Pauli Ops - 4.14s, Calculate Pauli Expectation Values - 8.72s, Calculate Covariance - 2.47s\n",
      "f0,f1,f2 = [2.0429352740090415e-09, 2.0429353026625444e-09, 2.042935260507563e-09]\n",
      "d01,d02,d12 = [0.9327758133355643, 0.9327758154183726, 0.9327758140023609]\n"
     ]
    },
    {
     "name": "stderr",
     "output_type": "stream",
     "text": [
      "Progress:  85%|████████▍ | 849/1000 [3:31:49<40:01, 15.90s/it]"
     ]
    },
    {
     "name": "stdout",
     "output_type": "stream",
     "text": [
      "Time to: Calculate Ground State - 1.47s, Get Pauli Ops - 5.07s, Calculate Pauli Expectation Values - 7.99s, Calculate Covariance - 2.32s\n",
      "f0,f1,f2 = [1.7626782909331373e-09, 1.7626783206760062e-09, 1.7626782769297166e-09]\n",
      "d01,d02,d12 = [0.9291324972986519, 0.9291324993037023, 0.9291324979405157]\n"
     ]
    },
    {
     "name": "stderr",
     "output_type": "stream",
     "text": [
      "Progress:  85%|████████▌ | 850/1000 [3:32:07<41:29, 16.59s/it]"
     ]
    },
    {
     "name": "stdout",
     "output_type": "stream",
     "text": [
      "Time to: Calculate Ground State - 1.05s, Get Pauli Ops - 5.16s, Calculate Pauli Expectation Values - 9.62s, Calculate Covariance - 2.36s\n",
      "f0,f1,f2 = [2.8915991715576506e-09, 2.891599202029736e-09, 2.8915991571996133e-09]\n",
      "d01,d02,d12 = [0.9270760930421073, 0.9270760949490627, 0.9270760936525275]\n"
     ]
    },
    {
     "name": "stderr",
     "output_type": "stream",
     "text": [
      "/cluster/home/mskrabulis/miniconda3/envs/quantech/lib/python3.9/site-packages/pyscf/symm/Dmatrix.py:156: RuntimeWarning: invalid value encountered in arccos\n",
      "  gamma = numpy.arccos(yp.dot(c2[1]))\n",
      "Progress:  85%|████████▌ | 851/1000 [3:32:23<40:40, 16.38s/it]"
     ]
    },
    {
     "name": "stdout",
     "output_type": "stream",
     "text": [
      "Time to: Calculate Ground State - 1.05s, Get Pauli Ops - 6.67s, Calculate Pauli Expectation Values - 6.14s, Calculate Covariance - 2.01s\n",
      "f0,f1,f2 = [2.729004331121593e-09, 2.72900435907609e-09, 2.729004317971706e-09]\n",
      "d01,d02,d12 = [0.9261223510307566, 0.9261223528224961, 0.9261223516042522]\n"
     ]
    },
    {
     "name": "stderr",
     "output_type": "stream",
     "text": [
      "/cluster/home/mskrabulis/miniconda3/envs/quantech/lib/python3.9/site-packages/pyscf/symm/Dmatrix.py:156: RuntimeWarning: invalid value encountered in arccos\n",
      "  gamma = numpy.arccos(yp.dot(c2[1]))\n",
      "Progress:  85%|████████▌ | 852/1000 [3:32:39<40:00, 16.22s/it]"
     ]
    },
    {
     "name": "stdout",
     "output_type": "stream",
     "text": [
      "Time to: Calculate Ground State - 1.28s, Get Pauli Ops - 6.9s, Calculate Pauli Expectation Values - 5.93s, Calculate Covariance - 1.73s\n",
      "f0,f1,f2 = [2.243965249876411e-09, 2.2439652748830294e-09, 2.2439652380962988e-09]\n",
      "d01,d02,d12 = [0.9261835695538934, 0.9261835712150723, 0.926183570085553]\n"
     ]
    },
    {
     "name": "stderr",
     "output_type": "stream",
     "text": [
      "Progress:  85%|████████▌ | 853/1000 [3:32:52<37:52, 15.46s/it]"
     ]
    },
    {
     "name": "stdout",
     "output_type": "stream",
     "text": [
      "Time to: Calculate Ground State - 0.82s, Get Pauli Ops - 4.98s, Calculate Pauli Expectation Values - 6.02s, Calculate Covariance - 1.86s\n",
      "f0,f1,f2 = [3.966092620918616e-09, 3.966092645159086e-09, 3.966092609527957e-09]\n",
      "d01,d02,d12 = [0.9278935216013277, 0.9278935231187374, 0.9278935220869251]\n"
     ]
    },
    {
     "name": "stderr",
     "output_type": "stream",
     "text": [
      "/cluster/home/mskrabulis/miniconda3/envs/quantech/lib/python3.9/site-packages/pyscf/symm/Dmatrix.py:156: RuntimeWarning: invalid value encountered in arccos\n",
      "  gamma = numpy.arccos(yp.dot(c2[1]))\n",
      "Progress:  85%|████████▌ | 854/1000 [3:33:06<36:27, 14.98s/it]"
     ]
    },
    {
     "name": "stdout",
     "output_type": "stream",
     "text": [
      "Time to: Calculate Ground State - 1.04s, Get Pauli Ops - 5.49s, Calculate Pauli Expectation Values - 5.69s, Calculate Covariance - 1.64s\n",
      "f0,f1,f2 = [2.651387488798689e-09, 2.651387510566007e-09, 2.6513874785291515e-09]\n",
      "d01,d02,d12 = [0.9305462800782548, 0.9305462814399322, 0.930546280513959]\n"
     ]
    },
    {
     "name": "stderr",
     "output_type": "stream",
     "text": [
      "Progress:  86%|████████▌ | 855/1000 [3:33:20<35:24, 14.65s/it]"
     ]
    },
    {
     "name": "stdout",
     "output_type": "stream",
     "text": [
      "Time to: Calculate Ground State - 1.02s, Get Pauli Ops - 4.65s, Calculate Pauli Expectation Values - 5.94s, Calculate Covariance - 2.26s\n",
      "f0,f1,f2 = [2.822555266738484e-09, 2.8225552886572126e-09, 2.822555256423352e-09]\n",
      "d01,d02,d12 = [0.9344134751028443, 0.9344134762983544, 0.9344134754853168]\n"
     ]
    },
    {
     "name": "stderr",
     "output_type": "stream",
     "text": [
      "Progress:  86%|████████▌ | 856/1000 [3:33:35<35:22, 14.74s/it]"
     ]
    },
    {
     "name": "stdout",
     "output_type": "stream",
     "text": [
      "Time to: Calculate Ground State - 0.82s, Get Pauli Ops - 6.52s, Calculate Pauli Expectation Values - 5.59s, Calculate Covariance - 1.98s\n",
      "f0,f1,f2 = [3.2458968351922874e-09, 3.245896851748589e-09, 3.245896827405787e-09]\n",
      "d01,d02,d12 = [0.9392167277119876, 0.9392167287326753, 0.9392167280384626]\n"
     ]
    },
    {
     "name": "stderr",
     "output_type": "stream",
     "text": [
      "Progress:  86%|████████▌ | 857/1000 [3:33:49<34:13, 14.36s/it]"
     ]
    },
    {
     "name": "stdout",
     "output_type": "stream",
     "text": [
      "Time to: Calculate Ground State - 1.34s, Get Pauli Ops - 4.2s, Calculate Pauli Expectation Values - 5.81s, Calculate Covariance - 2.13s\n",
      "f0,f1,f2 = [1.932307644489783e-09, 1.932307657732416e-09, 1.932307638266502e-09]\n",
      "d01,d02,d12 = [0.9447331560366232, 0.9447331568721502, 0.9447331563037931]\n"
     ]
    },
    {
     "name": "stderr",
     "output_type": "stream",
     "text": [
      "Progress:  86%|████████▌ | 858/1000 [3:34:01<32:50, 13.88s/it]"
     ]
    },
    {
     "name": "stdout",
     "output_type": "stream",
     "text": [
      "Time to: Calculate Ground State - 0.82s, Get Pauli Ops - 3.9s, Calculate Pauli Expectation Values - 6.2s, Calculate Covariance - 1.83s\n",
      "f0,f1,f2 = [1.664369394552915e-09, 1.6643694054004357e-09, 1.6643693894257856e-09]\n",
      "d01,d02,d12 = [0.9506131734291259, 0.9506131740726687, 0.9506131736348037]\n"
     ]
    },
    {
     "name": "stderr",
     "output_type": "stream",
     "text": [
      "/cluster/home/mskrabulis/miniconda3/envs/quantech/lib/python3.9/site-packages/pyscf/symm/Dmatrix.py:156: RuntimeWarning: invalid value encountered in arccos\n",
      "  gamma = numpy.arccos(yp.dot(c2[1]))\n",
      "Progress:  86%|████████▌ | 859/1000 [3:34:14<31:51, 13.56s/it]"
     ]
    },
    {
     "name": "stdout",
     "output_type": "stream",
     "text": [
      "Time to: Calculate Ground State - 1.27s, Get Pauli Ops - 4.17s, Calculate Pauli Expectation Values - 5.87s, Calculate Covariance - 1.51s\n",
      "f0,f1,f2 = [2.1146946310066875e-09, 2.114694638407664e-09, 2.1146946275191013e-09]\n",
      "d01,d02,d12 = [0.9575462433754167, 0.9575462438253495, 0.9575462435190819]\n"
     ]
    },
    {
     "name": "stderr",
     "output_type": "stream",
     "text": [
      "Progress:  86%|████████▌ | 860/1000 [3:34:29<32:49, 14.07s/it]"
     ]
    },
    {
     "name": "stdout",
     "output_type": "stream",
     "text": [
      "Time to: Calculate Ground State - 0.97s, Get Pauli Ops - 4.14s, Calculate Pauli Expectation Values - 8.15s, Calculate Covariance - 1.99s\n",
      "f0,f1,f2 = [1.3835262900488466e-09, 1.3835262956808023e-09, 1.383526287405407e-09]\n",
      "d01,d02,d12 = [0.9657009343322609, 0.9657009345853697, 0.9657009344128902]\n"
     ]
    },
    {
     "name": "stderr",
     "output_type": "stream",
     "text": [
      "/cluster/home/mskrabulis/miniconda3/envs/quantech/lib/python3.9/site-packages/pyscf/symm/Dmatrix.py:156: RuntimeWarning: invalid value encountered in arccos\n",
      "  gamma = numpy.arccos(yp.dot(c2[1]))\n",
      "Progress:  86%|████████▌ | 861/1000 [3:34:44<32:52, 14.19s/it]"
     ]
    },
    {
     "name": "stdout",
     "output_type": "stream",
     "text": [
      "Time to: Calculate Ground State - 1.04s, Get Pauli Ops - 4.47s, Calculate Pauli Expectation Values - 6.52s, Calculate Covariance - 2.43s\n",
      "f0,f1,f2 = [2.2029692218467582e-10, 2.2029691885954072e-10, 2.202969237309931e-10]\n",
      "d01,d02,d12 = [0.9726643003149624, 0.9726643003703006, 0.9726643003322586]\n"
     ]
    },
    {
     "name": "stderr",
     "output_type": "stream",
     "text": [
      "Progress:  86%|████████▌ | 862/1000 [3:35:02<35:33, 15.46s/it]"
     ]
    },
    {
     "name": "stdout",
     "output_type": "stream",
     "text": [
      "Time to: Calculate Ground State - 1.37s, Get Pauli Ops - 8.73s, Calculate Pauli Expectation Values - 6.49s, Calculate Covariance - 1.83s\n",
      "f0,f1,f2 = [5.050824119346983e-10, 5.050824125862722e-10, 5.050824116277129e-10]\n",
      "d01,d02,d12 = [0.9799913016956625, 0.9799913015529889, 0.979991301649548]\n"
     ]
    },
    {
     "name": "stderr",
     "output_type": "stream",
     "text": [
      "Progress:  86%|████████▋ | 863/1000 [3:35:16<33:59, 14.89s/it]"
     ]
    },
    {
     "name": "stdout",
     "output_type": "stream",
     "text": [
      "Time to: Calculate Ground State - 1.22s, Get Pauli Ops - 4.27s, Calculate Pauli Expectation Values - 6.29s, Calculate Covariance - 1.75s\n",
      "f0,f1,f2 = [7.510484417576571e-10, 7.51048440037021e-10, 7.5104844257929e-10]\n",
      "d01,d02,d12 = [0.9872806653046172, 0.9872806649645606, 0.9872806651952923]\n"
     ]
    },
    {
     "name": "stderr",
     "output_type": "stream",
     "text": [
      "Progress:  86%|████████▋ | 864/1000 [3:35:31<34:01, 15.01s/it]"
     ]
    },
    {
     "name": "stdout",
     "output_type": "stream",
     "text": [
      "Time to: Calculate Ground State - 1.02s, Get Pauli Ops - 4.73s, Calculate Pauli Expectation Values - 7.12s, Calculate Covariance - 2.42s\n",
      "f0,f1,f2 = [3.3943246153419363e-10, 3.394324652624623e-10, 3.394324597736293e-10]\n",
      "d01,d02,d12 = [0.9943604202056491, 0.9943604196702595, 0.9943604200337722]\n"
     ]
    },
    {
     "name": "stderr",
     "output_type": "stream",
     "text": [
      "Progress:  86%|████████▋ | 865/1000 [3:35:45<32:43, 14.54s/it]"
     ]
    },
    {
     "name": "stdout",
     "output_type": "stream",
     "text": [
      "Time to: Calculate Ground State - 1.06s, Get Pauli Ops - 4.43s, Calculate Pauli Expectation Values - 5.69s, Calculate Covariance - 2.26s\n",
      "f0,f1,f2 = [1.532338028473145e-11, 1.5323387005166866e-11, 1.532337710664985e-11]\n",
      "d01,d02,d12 = [1.001145474878622, 1.0011454741534072, 1.0011454746459612]\n"
     ]
    },
    {
     "name": "stderr",
     "output_type": "stream",
     "text": [
      "Progress:  87%|████████▋ | 866/1000 [3:35:59<32:21, 14.49s/it]"
     ]
    },
    {
     "name": "stdout",
     "output_type": "stream",
     "text": [
      "Time to: Calculate Ground State - 0.84s, Get Pauli Ops - 6.08s, Calculate Pauli Expectation Values - 5.72s, Calculate Covariance - 1.72s\n",
      "f0,f1,f2 = [1.8924377646487696e-09, 1.89243777220495e-09, 1.8924377610812244e-09]\n",
      "d01,d02,d12 = [1.007698171990342, 1.0076981710800728, 1.007698171698429]\n"
     ]
    },
    {
     "name": "stderr",
     "output_type": "stream",
     "text": [
      "/cluster/home/mskrabulis/miniconda3/envs/quantech/lib/python3.9/site-packages/pyscf/symm/Dmatrix.py:156: RuntimeWarning: invalid value encountered in arccos\n",
      "  gamma = numpy.arccos(yp.dot(c2[1]))\n",
      "Progress:  87%|████████▋ | 867/1000 [3:36:12<31:13, 14.09s/it]"
     ]
    },
    {
     "name": "stdout",
     "output_type": "stream",
     "text": [
      "Time to: Calculate Ground State - 1.0s, Get Pauli Ops - 4.41s, Calculate Pauli Expectation Values - 5.93s, Calculate Covariance - 1.81s\n",
      "f0,f1,f2 = [8.296011095326061e-10, 8.296011181872118e-10, 8.296011054445503e-10]\n",
      "d01,d02,d12 = [1.0140047842845736, 1.0140047831944252, 1.0140047839350743]\n"
     ]
    },
    {
     "name": "stderr",
     "output_type": "stream",
     "text": [
      "Progress:  87%|████████▋ | 868/1000 [3:36:28<32:23, 14.72s/it]"
     ]
    },
    {
     "name": "stdout",
     "output_type": "stream",
     "text": [
      "Time to: Calculate Ground State - 1.04s, Get Pauli Ops - 7.03s, Calculate Pauli Expectation Values - 5.88s, Calculate Covariance - 2.24s\n",
      "f0,f1,f2 = [1.275739389540478e-09, 1.2757393997706902e-09, 1.2757393847417143e-09]\n",
      "d01,d02,d12 = [1.0197556019844152, 1.0197556007202322, 1.0197556015792035]\n"
     ]
    },
    {
     "name": "stderr",
     "output_type": "stream",
     "text": [
      "Progress:  87%|████████▋ | 869/1000 [3:36:42<31:35, 14.47s/it]"
     ]
    },
    {
     "name": "stdout",
     "output_type": "stream",
     "text": [
      "Time to: Calculate Ground State - 1.36s, Get Pauli Ops - 4.76s, Calculate Pauli Expectation Values - 5.76s, Calculate Covariance - 2.0s\n",
      "f0,f1,f2 = [2.168769357530313e-09, 2.168769369115132e-09, 2.168769352059516e-09]\n",
      "d01,d02,d12 = [1.0249310948825612, 1.024931093454895, 1.0249310944250243]\n"
     ]
    },
    {
     "name": "stderr",
     "output_type": "stream",
     "text": [
      "Progress:  87%|████████▋ | 870/1000 [3:36:56<31:05, 14.35s/it]"
     ]
    },
    {
     "name": "stdout",
     "output_type": "stream",
     "text": [
      "Time to: Calculate Ground State - 1.07s, Get Pauli Ops - 4.56s, Calculate Pauli Expectation Values - 6.63s, Calculate Covariance - 1.8s\n",
      "f0,f1,f2 = [1.6073101483042886e-09, 1.6073101588061776e-09, 1.6073101433474998e-09]\n",
      "d01,d02,d12 = [1.0294514994152673, 1.029451497827859, 1.0294514989066061]\n"
     ]
    },
    {
     "name": "stderr",
     "output_type": "stream",
     "text": [
      "Progress:  87%|████████▋ | 871/1000 [3:37:13<32:15, 15.00s/it]"
     ]
    },
    {
     "name": "stdout",
     "output_type": "stream",
     "text": [
      "Time to: Calculate Ground State - 0.79s, Get Pauli Ops - 6.06s, Calculate Pauli Expectation Values - 7.46s, Calculate Covariance - 2.21s\n",
      "f0,f1,f2 = [2.7424299522714177e-09, 2.742429964066898e-09, 2.742429946693227e-09]\n",
      "d01,d02,d12 = [1.033225701411094, 1.0332256996688354, 1.033225700852878]\n"
     ]
    },
    {
     "name": "stderr",
     "output_type": "stream",
     "text": [
      "/cluster/home/mskrabulis/miniconda3/envs/quantech/lib/python3.9/site-packages/pyscf/symm/Dmatrix.py:156: RuntimeWarning: invalid value encountered in arccos\n",
      "  gamma = numpy.arccos(yp.dot(c2[1]))\n",
      "Progress:  87%|████████▋ | 872/1000 [3:37:26<31:09, 14.60s/it]"
     ]
    },
    {
     "name": "stdout",
     "output_type": "stream",
     "text": [
      "Time to: Calculate Ground State - 1.12s, Get Pauli Ops - 4.51s, Calculate Pauli Expectation Values - 6.26s, Calculate Covariance - 1.78s\n",
      "f0,f1,f2 = [1.437522136940076e-09, 1.4375221538698155e-09, 1.4375221289519493e-09]\n",
      "d01,d02,d12 = [1.0360489480295985, 1.0360489461378566, 1.0360489474235512]\n"
     ]
    },
    {
     "name": "stderr",
     "output_type": "stream",
     "text": [
      "/cluster/home/mskrabulis/miniconda3/envs/quantech/lib/python3.9/site-packages/pyscf/symm/Dmatrix.py:156: RuntimeWarning: invalid value encountered in arccos\n",
      "  gamma = numpy.arccos(yp.dot(c2[1]))\n",
      "Progress:  87%|████████▋ | 873/1000 [3:37:43<31:55, 15.08s/it]"
     ]
    },
    {
     "name": "stdout",
     "output_type": "stream",
     "text": [
      "Time to: Calculate Ground State - 0.84s, Get Pauli Ops - 4.85s, Calculate Pauli Expectation Values - 8.29s, Calculate Covariance - 2.21s\n",
      "f0,f1,f2 = [1.7924209707673743e-09, 1.792420987515766e-09, 1.7924209628759205e-09]\n",
      "d01,d02,d12 = [1.0381695511976097, 1.0381695491679606, 1.0381695505474433]\n"
     ]
    },
    {
     "name": "stderr",
     "output_type": "stream",
     "text": [
      "/cluster/home/mskrabulis/miniconda3/envs/quantech/lib/python3.9/site-packages/pyscf/symm/Dmatrix.py:156: RuntimeWarning: invalid value encountered in arccos\n",
      "  gamma = numpy.arccos(yp.dot(c2[1]))\n",
      "Progress:  87%|████████▋ | 874/1000 [3:37:56<30:19, 14.44s/it]"
     ]
    },
    {
     "name": "stdout",
     "output_type": "stream",
     "text": [
      "Time to: Calculate Ground State - 1.03s, Get Pauli Ops - 4.56s, Calculate Pauli Expectation Values - 5.95s, Calculate Covariance - 1.4s\n",
      "f0,f1,f2 = [1.5753894669858502e-09, 1.575389483981327e-09, 1.5753894589705747e-09]\n",
      "d01,d02,d12 = [1.0395950156687395, 1.0395950135106864, 1.039595014977498]\n"
     ]
    },
    {
     "name": "stderr",
     "output_type": "stream",
     "text": [
      "Progress:  88%|████████▊ | 875/1000 [3:38:10<30:11, 14.49s/it]"
     ]
    },
    {
     "name": "stdout",
     "output_type": "stream",
     "text": [
      "Time to: Calculate Ground State - 1.23s, Get Pauli Ops - 4.91s, Calculate Pauli Expectation Values - 6.1s, Calculate Covariance - 2.36s\n",
      "f0,f1,f2 = [2.691206058676785e-09, 2.691206077006669e-09, 2.6912060500280462e-09]\n",
      "d01,d02,d12 = [1.0398711396696605, 1.0398711373967924, 1.0398711389416961]\n"
     ]
    },
    {
     "name": "stderr",
     "output_type": "stream",
     "text": [
      "Progress:  88%|████████▊ | 876/1000 [3:38:23<29:07, 14.10s/it]"
     ]
    },
    {
     "name": "stdout",
     "output_type": "stream",
     "text": [
      "Time to: Calculate Ground State - 1.09s, Get Pauli Ops - 4.35s, Calculate Pauli Expectation Values - 5.93s, Calculate Covariance - 1.8s\n",
      "f0,f1,f2 = [1.897421281925179e-09, 1.8974213018195945e-09, 1.8974212725581288e-09]\n",
      "d01,d02,d12 = [1.0393600409667734, 1.0393600385910966, 1.0393600402059286]\n"
     ]
    },
    {
     "name": "stderr",
     "output_type": "stream",
     "text": [
      "/cluster/home/mskrabulis/miniconda3/envs/quantech/lib/python3.9/site-packages/pyscf/symm/Dmatrix.py:156: RuntimeWarning: invalid value encountered in arccos\n",
      "  gamma = numpy.arccos(yp.dot(c2[1]))\n",
      "Progress:  88%|████████▊ | 877/1000 [3:38:41<30:59, 15.11s/it]"
     ]
    },
    {
     "name": "stdout",
     "output_type": "stream",
     "text": [
      "Time to: Calculate Ground State - 1.34s, Get Pauli Ops - 4.34s, Calculate Pauli Expectation Values - 9.46s, Calculate Covariance - 2.34s\n",
      "f0,f1,f2 = [2.522593441211646e-09, 2.5225934601745196e-09, 2.522593432271902e-09]\n",
      "d01,d02,d12 = [1.0378000336333875, 1.0378000311662676, 1.0378000328433037]\n"
     ]
    },
    {
     "name": "stderr",
     "output_type": "stream",
     "text": [
      "Progress:  88%|████████▊ | 878/1000 [3:38:58<31:44, 15.61s/it]"
     ]
    },
    {
     "name": "stdout",
     "output_type": "stream",
     "text": [
      "Time to: Calculate Ground State - 1.33s, Get Pauli Ops - 5.27s, Calculate Pauli Expectation Values - 7.71s, Calculate Covariance - 2.46s\n",
      "f0,f1,f2 = [2.407954410062121e-09, 2.4079544280549847e-09, 2.4079544015924988e-09]\n",
      "d01,d02,d12 = [1.0352225596211257, 1.0352225570785278, 1.0352225588069146]\n"
     ]
    },
    {
     "name": "stderr",
     "output_type": "stream",
     "text": [
      "Progress:  88%|████████▊ | 879/1000 [3:39:13<31:10, 15.46s/it]"
     ]
    },
    {
     "name": "stdout",
     "output_type": "stream",
     "text": [
      "Time to: Calculate Ground State - 1.3s, Get Pauli Ops - 6.47s, Calculate Pauli Expectation Values - 5.6s, Calculate Covariance - 1.7s\n",
      "f0,f1,f2 = [1.4950586961755592e-09, 1.495058718126534e-09, 1.4950586858257122e-09]\n",
      "d01,d02,d12 = [1.0317536357127495, 1.0317536331092996, 1.0317536348790945]\n"
     ]
    },
    {
     "name": "stderr",
     "output_type": "stream",
     "text": [
      "Progress:  88%|████████▊ | 880/1000 [3:39:26<29:42, 14.85s/it]"
     ]
    },
    {
     "name": "stdout",
     "output_type": "stream",
     "text": [
      "Time to: Calculate Ground State - 1.35s, Get Pauli Ops - 4.62s, Calculate Pauli Expectation Values - 5.53s, Calculate Covariance - 1.94s\n",
      "f0,f1,f2 = [2.1900659256852976e-09, 2.1900659512837488e-09, 2.1900659136434376e-09]\n",
      "d01,d02,d12 = [1.0275652995715918, 1.0275652969274622, 1.0275652987249497]\n"
     ]
    },
    {
     "name": "stderr",
     "output_type": "stream",
     "text": [
      "Progress:  88%|████████▊ | 881/1000 [3:39:40<28:56, 14.59s/it]"
     ]
    },
    {
     "name": "stdout",
     "output_type": "stream",
     "text": [
      "Time to: Calculate Ground State - 1.05s, Get Pauli Ops - 4.9s, Calculate Pauli Expectation Values - 5.69s, Calculate Covariance - 2.32s\n",
      "f0,f1,f2 = [1.4194711300402143e-09, 1.419471154757583e-09, 1.4194711184043348e-09]\n",
      "d01,d02,d12 = [1.023046027018815, 1.0230460243445905, 1.0230460261625716]\n"
     ]
    },
    {
     "name": "stderr",
     "output_type": "stream",
     "text": [
      "/cluster/home/mskrabulis/miniconda3/envs/quantech/lib/python3.9/site-packages/pyscf/symm/Dmatrix.py:156: RuntimeWarning: invalid value encountered in arccos\n",
      "  gamma = numpy.arccos(yp.dot(c2[1]))\n",
      "Progress:  88%|████████▊ | 882/1000 [3:39:54<28:12, 14.34s/it]"
     ]
    },
    {
     "name": "stdout",
     "output_type": "stream",
     "text": [
      "Time to: Calculate Ground State - 1.13s, Get Pauli Ops - 4.5s, Calculate Pauli Expectation Values - 6.12s, Calculate Covariance - 2.0s\n",
      "f0,f1,f2 = [9.179342277818463e-10, 9.179342531895878e-10, 9.179342158148307e-10]\n",
      "d01,d02,d12 = [1.0180064403434024, 1.018006437659001, 1.0180064394839368]\n"
     ]
    },
    {
     "name": "stderr",
     "output_type": "stream",
     "text": [
      "Progress:  88%|████████▊ | 883/1000 [3:40:08<27:38, 14.18s/it]"
     ]
    },
    {
     "name": "stdout",
     "output_type": "stream",
     "text": [
      "Time to: Calculate Ground State - 1.2s, Get Pauli Ops - 4.61s, Calculate Pauli Expectation Values - 6.11s, Calculate Covariance - 1.87s\n",
      "f0,f1,f2 = [9.22479537234708e-10, 9.224795599536818e-10, 9.224795265294604e-10]\n",
      "d01,d02,d12 = [1.0124656530424914, 1.0124656503613647, 1.0124656521841127]\n"
     ]
    },
    {
     "name": "stderr",
     "output_type": "stream",
     "text": [
      "Progress:  88%|████████▊ | 884/1000 [3:40:22<27:37, 14.29s/it]"
     ]
    },
    {
     "name": "stdout",
     "output_type": "stream",
     "text": [
      "Time to: Calculate Ground State - 1.06s, Get Pauli Ops - 5.09s, Calculate Pauli Expectation Values - 6.4s, Calculate Covariance - 2.0s\n",
      "f0,f1,f2 = [1.3927269148439197e-09, 1.3927269426449564e-09, 1.3927269017350521e-09]\n",
      "d01,d02,d12 = [1.0064864012269772, 1.0064863985696453, 1.0064864003762604]\n"
     ]
    },
    {
     "name": "stderr",
     "output_type": "stream",
     "text": [
      "Progress:  88%|████████▊ | 885/1000 [3:40:35<26:45, 13.96s/it]"
     ]
    },
    {
     "name": "stdout",
     "output_type": "stream",
     "text": [
      "Time to: Calculate Ground State - 0.99s, Get Pauli Ops - 4.27s, Calculate Pauli Expectation Values - 5.9s, Calculate Covariance - 2.02s\n",
      "f0,f1,f2 = [6.037621008041953e-10, 6.037621261972372e-10, 6.037620888608755e-10]\n",
      "d01,d02,d12 = [1.0005836260715752, 1.0005836234471177, 1.0005836252314206]\n"
     ]
    },
    {
     "name": "stderr",
     "output_type": "stream",
     "text": [
      "/cluster/home/mskrabulis/miniconda3/envs/quantech/lib/python3.9/site-packages/pyscf/symm/Dmatrix.py:156: RuntimeWarning: invalid value encountered in arccos\n",
      "  gamma = numpy.arccos(yp.dot(c2[1]))\n",
      "/cluster/home/mskrabulis/miniconda3/envs/quantech/lib/python3.9/site-packages/pyscf/symm/Dmatrix.py:156: RuntimeWarning: invalid value encountered in arccos\n",
      "  gamma = numpy.arccos(yp.dot(c2[1]))\n",
      "Progress:  89%|████████▊ | 886/1000 [3:40:49<26:29, 13.94s/it]"
     ]
    },
    {
     "name": "stdout",
     "output_type": "stream",
     "text": [
      "Time to: Calculate Ground State - 1.04s, Get Pauli Ops - 5.02s, Calculate Pauli Expectation Values - 6.12s, Calculate Covariance - 1.71s\n",
      "f0,f1,f2 = [1.0095565844882615e-10, 1.0095568201822613e-10, 1.0095564733348944e-10]\n",
      "d01,d02,d12 = [0.9951652093294904, 0.9951652067468195, 0.995165208502758]\n"
     ]
    },
    {
     "name": "stderr",
     "output_type": "stream",
     "text": [
      "/cluster/home/mskrabulis/miniconda3/envs/quantech/lib/python3.9/site-packages/pyscf/symm/Dmatrix.py:156: RuntimeWarning: invalid value encountered in arccos\n",
      "  gamma = numpy.arccos(yp.dot(c2[1]))\n",
      "Progress:  89%|████████▊ | 887/1000 [3:41:06<27:54, 14.82s/it]"
     ]
    },
    {
     "name": "stdout",
     "output_type": "stream",
     "text": [
      "Time to: Calculate Ground State - 1.06s, Get Pauli Ops - 4.24s, Calculate Pauli Expectation Values - 9.81s, Calculate Covariance - 1.74s\n",
      "f0,f1,f2 = [1.818262643621134e-10, 1.8182623586311234e-10, 1.8182627778793686e-10]\n",
      "d01,d02,d12 = [0.9900608111699256, 0.9900608086363698, 0.990060810358966]\n"
     ]
    },
    {
     "name": "stderr",
     "output_type": "stream",
     "text": [
      "Progress:  89%|████████▉ | 888/1000 [3:41:21<27:47, 14.89s/it]"
     ]
    },
    {
     "name": "stdout",
     "output_type": "stream",
     "text": [
      "Time to: Calculate Ground State - 1.08s, Get Pauli Ops - 4.54s, Calculate Pauli Expectation Values - 7.54s, Calculate Covariance - 1.9s\n",
      "f0,f1,f2 = [4.973938929354021e-10, 4.973938663442459e-10, 4.973939054618436e-10]\n",
      "d01,d02,d12 = [0.9846858848387658, 0.9846858823737763, 0.9846858840498036]\n"
     ]
    },
    {
     "name": "stderr",
     "output_type": "stream",
     "text": [
      "Progress:  89%|████████▉ | 889/1000 [3:41:38<28:31, 15.42s/it]"
     ]
    },
    {
     "name": "stdout",
     "output_type": "stream",
     "text": [
      "Time to: Calculate Ground State - 1.08s, Get Pauli Ops - 7.36s, Calculate Pauli Expectation Values - 6.43s, Calculate Covariance - 1.77s\n",
      "f0,f1,f2 = [2.5114872701290154e-10, 2.511487583977014e-10, 2.5114871225641884e-10]\n",
      "d01,d02,d12 = [0.9788259225950278, 0.9788259202330664, 0.9788259218390901]\n"
     ]
    },
    {
     "name": "stderr",
     "output_type": "stream",
     "text": [
      "Progress:  89%|████████▉ | 890/1000 [3:41:53<28:01, 15.28s/it]"
     ]
    },
    {
     "name": "stdout",
     "output_type": "stream",
     "text": [
      "Time to: Calculate Ground State - 1.09s, Get Pauli Ops - 4.85s, Calculate Pauli Expectation Values - 6.77s, Calculate Covariance - 2.24s\n",
      "f0,f1,f2 = [9.67962649577083e-11, 9.679623368052037e-11, 9.67962796775133e-11]\n",
      "d01,d02,d12 = [0.9725154570910766, 0.9725154548537992, 0.9725154563750963]\n"
     ]
    },
    {
     "name": "stderr",
     "output_type": "stream",
     "text": [
      "Progress:  89%|████████▉ | 891/1000 [3:42:10<28:47, 15.85s/it]"
     ]
    },
    {
     "name": "stdout",
     "output_type": "stream",
     "text": [
      "Time to: Calculate Ground State - 0.84s, Get Pauli Ops - 8.25s, Calculate Pauli Expectation Values - 6.07s, Calculate Covariance - 2.01s\n",
      "f0,f1,f2 = [8.020461543066704e-10, 8.020461281428048e-10, 8.020461666211234e-10]\n",
      "d01,d02,d12 = [0.9667644685119843, 0.9667644664162818, 0.9667644678413687]\n"
     ]
    },
    {
     "name": "stderr",
     "output_type": "stream",
     "text": [
      "Progress:  89%|████████▉ | 892/1000 [3:42:26<28:22, 15.76s/it]"
     ]
    },
    {
     "name": "stdout",
     "output_type": "stream",
     "text": [
      "Time to: Calculate Ground State - 0.77s, Get Pauli Ops - 6.59s, Calculate Pauli Expectation Values - 6.05s, Calculate Covariance - 2.13s\n",
      "f0,f1,f2 = [3.7505388964714163e-10, 3.7505391671076753e-10, 3.750538769086722e-10]\n",
      "d01,d02,d12 = [0.9606335362499486, 0.9606335343114629, 0.9606335356297029]\n"
     ]
    },
    {
     "name": "stderr",
     "output_type": "stream",
     "text": [
      "Progress:  89%|████████▉ | 893/1000 [3:42:40<27:21, 15.34s/it]"
     ]
    },
    {
     "name": "stdout",
     "output_type": "stream",
     "text": [
      "Time to: Calculate Ground State - 1.32s, Get Pauli Ops - 4.45s, Calculate Pauli Expectation Values - 6.18s, Calculate Covariance - 2.39s\n",
      "f0,f1,f2 = [7.258909752038735e-10, 7.258909538889215e-10, 7.25890985223054e-10]\n",
      "d01,d02,d12 = [0.9555380829787861, 0.9555380812098332, 0.9555380824128533]\n"
     ]
    },
    {
     "name": "stderr",
     "output_type": "stream",
     "text": [
      "Progress:  89%|████████▉ | 894/1000 [3:42:54<26:39, 15.09s/it]"
     ]
    },
    {
     "name": "stdout",
     "output_type": "stream",
     "text": [
      "Time to: Calculate Ground State - 0.86s, Get Pauli Ops - 4.23s, Calculate Pauli Expectation Values - 7.18s, Calculate Covariance - 2.23s\n",
      "f0,f1,f2 = [1.0599617072818989e-09, 1.0599616819831218e-09, 1.059961719181629e-09]\n",
      "d01,d02,d12 = [0.9504223938441794, 0.9504223922645886, 0.9504223933389013]\n"
     ]
    },
    {
     "name": "stderr",
     "output_type": "stream",
     "text": [
      "Progress:  90%|████████▉ | 895/1000 [3:43:07<25:18, 14.46s/it]"
     ]
    },
    {
     "name": "stdout",
     "output_type": "stream",
     "text": [
      "Time to: Calculate Ground State - 0.76s, Get Pauli Ops - 4.2s, Calculate Pauli Expectation Values - 6.24s, Calculate Covariance - 1.81s\n",
      "f0,f1,f2 = [1.626674844046264e-09, 1.6266748226168393e-09, 1.6266748541273784e-09]\n",
      "d01,d02,d12 = [0.945618667888164, 0.9456186665200991, 0.9456186674506304]\n"
     ]
    },
    {
     "name": "stderr",
     "output_type": "stream",
     "text": [
      "/cluster/home/mskrabulis/miniconda3/envs/quantech/lib/python3.9/site-packages/pyscf/symm/Dmatrix.py:156: RuntimeWarning: invalid value encountered in arccos\n",
      "  gamma = numpy.arccos(yp.dot(c2[1]))\n",
      "Progress:  90%|████████▉ | 896/1000 [3:43:22<25:17, 14.60s/it]"
     ]
    },
    {
     "name": "stdout",
     "output_type": "stream",
     "text": [
      "Time to: Calculate Ground State - 0.79s, Get Pauli Ops - 6.68s, Calculate Pauli Expectation Values - 5.7s, Calculate Covariance - 1.72s\n",
      "f0,f1,f2 = [6.713167235682782e-10, 6.713167062786451e-10, 6.713167317030066e-10]\n",
      "d01,d02,d12 = [0.9414638582120578, 0.9414638570693429, 0.9414638578466924]\n"
     ]
    },
    {
     "name": "stderr",
     "output_type": "stream",
     "text": [
      "/cluster/home/mskrabulis/miniconda3/envs/quantech/lib/python3.9/site-packages/pyscf/symm/Dmatrix.py:156: RuntimeWarning: invalid value encountered in arccos\n",
      "  gamma = numpy.arccos(yp.dot(c2[1]))\n",
      "Progress:  90%|████████▉ | 897/1000 [3:43:36<24:24, 14.22s/it]"
     ]
    },
    {
     "name": "stdout",
     "output_type": "stream",
     "text": [
      "Time to: Calculate Ground State - 1.0s, Get Pauli Ops - 4.44s, Calculate Pauli Expectation Values - 5.7s, Calculate Covariance - 2.18s\n",
      "f0,f1,f2 = [2.2090814568800917e-09, 2.2090814413108304e-09, 2.2090814642070314e-09]\n",
      "d01,d02,d12 = [0.9385816372976741, 0.9385816363879516, 0.9385816370069243]\n"
     ]
    },
    {
     "name": "stderr",
     "output_type": "stream",
     "text": [
      "/cluster/home/mskrabulis/miniconda3/envs/quantech/lib/python3.9/site-packages/pyscf/symm/Dmatrix.py:156: RuntimeWarning: invalid value encountered in arccos\n",
      "  gamma = numpy.arccos(yp.dot(c2[1]))\n",
      "Progress:  90%|████████▉ | 898/1000 [3:43:50<24:11, 14.23s/it]"
     ]
    },
    {
     "name": "stdout",
     "output_type": "stream",
     "text": [
      "Time to: Calculate Ground State - 1.32s, Get Pauli Ops - 4.63s, Calculate Pauli Expectation Values - 6.27s, Calculate Covariance - 2.01s\n",
      "f0,f1,f2 = [1.3411896464809134e-09, 1.341189633796533e-09, 1.3411896524388036e-09]\n",
      "d01,d02,d12 = [0.9361947745315641, 0.9361947738620795, 0.9361947743177498]\n"
     ]
    },
    {
     "name": "stderr",
     "output_type": "stream",
     "text": [
      "/cluster/home/mskrabulis/miniconda3/envs/quantech/lib/python3.9/site-packages/pyscf/symm/Dmatrix.py:156: RuntimeWarning: invalid value encountered in arccos\n",
      "  gamma = numpy.arccos(yp.dot(c2[1]))\n",
      "Progress:  90%|████████▉ | 899/1000 [3:44:04<23:50, 14.17s/it]"
     ]
    },
    {
     "name": "stdout",
     "output_type": "stream",
     "text": [
      "Time to: Calculate Ground State - 1.16s, Get Pauli Ops - 4.58s, Calculate Pauli Expectation Values - 6.01s, Calculate Covariance - 2.28s\n",
      "f0,f1,f2 = [3.127612356367868e-09, 3.127612345474721e-09, 3.1276123614867114e-09]\n",
      "d01,d02,d12 = [0.9353539616388029, 0.9353539612153301, 0.9353539615037672]\n"
     ]
    },
    {
     "name": "stderr",
     "output_type": "stream",
     "text": [
      "Progress:  90%|█████████ | 900/1000 [3:44:21<25:13, 15.14s/it]"
     ]
    },
    {
     "name": "stdout",
     "output_type": "stream",
     "text": [
      "Time to: Calculate Ground State - 0.85s, Get Pauli Ops - 7.03s, Calculate Pauli Expectation Values - 7.79s, Calculate Covariance - 1.72s\n",
      "f0,f1,f2 = [2.738393482177577e-09, 2.738393475868142e-09, 2.738393485134365e-09]\n",
      "d01,d02,d12 = [0.9356558825406902, 0.935655882366957, 0.9356558824856243]\n"
     ]
    },
    {
     "name": "stderr",
     "output_type": "stream",
     "text": [
      "/cluster/home/mskrabulis/miniconda3/envs/quantech/lib/python3.9/site-packages/pyscf/symm/Dmatrix.py:156: RuntimeWarning: invalid value encountered in arccos\n",
      "  gamma = numpy.arccos(yp.dot(c2[1]))\n",
      "Progress:  90%|█████████ | 901/1000 [3:44:35<24:05, 14.60s/it]"
     ]
    },
    {
     "name": "stdout",
     "output_type": "stream",
     "text": [
      "Time to: Calculate Ground State - 1.09s, Get Pauli Ops - 4.38s, Calculate Pauli Expectation Values - 6.04s, Calculate Covariance - 1.82s\n",
      "f0,f1,f2 = [2.353565555112413e-09, 2.3535655524342958e-09, 2.3535655563590266e-09]\n",
      "d01,d02,d12 = [0.9369518396218118, 0.9369518396994082, 0.9369518396472192]\n"
     ]
    },
    {
     "name": "stderr",
     "output_type": "stream",
     "text": [
      "/cluster/home/mskrabulis/miniconda3/envs/quantech/lib/python3.9/site-packages/pyscf/symm/Dmatrix.py:156: RuntimeWarning: invalid value encountered in arccos\n",
      "  gamma = numpy.arccos(yp.dot(c2[1]))\n",
      "Progress:  90%|█████████ | 902/1000 [3:44:49<23:28, 14.37s/it]"
     ]
    },
    {
     "name": "stdout",
     "output_type": "stream",
     "text": [
      "Time to: Calculate Ground State - 1.06s, Get Pauli Ops - 4.94s, Calculate Pauli Expectation Values - 6.1s, Calculate Covariance - 1.75s\n",
      "f0,f1,f2 = [2.146027995473994e-09, 2.146027996507171e-09, 2.146027994974256e-09]\n",
      "d01,d02,d12 = [0.9390116060060689, 0.9390116063342263, 0.9390116061116942]\n"
     ]
    },
    {
     "name": "stderr",
     "output_type": "stream",
     "text": [
      "/cluster/home/mskrabulis/miniconda3/envs/quantech/lib/python3.9/site-packages/pyscf/symm/Dmatrix.py:156: RuntimeWarning: invalid value encountered in arccos\n",
      "  gamma = numpy.arccos(yp.dot(c2[1]))\n",
      "/cluster/home/mskrabulis/miniconda3/envs/quantech/lib/python3.9/site-packages/pyscf/symm/Dmatrix.py:156: RuntimeWarning: invalid value encountered in arccos\n",
      "  gamma = numpy.arccos(yp.dot(c2[1]))\n",
      "Progress:  90%|█████████ | 903/1000 [3:45:05<24:04, 14.89s/it]"
     ]
    },
    {
     "name": "stdout",
     "output_type": "stream",
     "text": [
      "Time to: Calculate Ground State - 1.07s, Get Pauli Ops - 6.8s, Calculate Pauli Expectation Values - 6.39s, Calculate Covariance - 1.82s\n",
      "f0,f1,f2 = [2.644188829460845e-09, 2.6441888335765632e-09, 2.6441888275248793e-09]\n",
      "d01,d02,d12 = [0.9421869690363291, 0.9421869696129286, 0.942186969221494]\n"
     ]
    },
    {
     "name": "stderr",
     "output_type": "stream",
     "text": [
      "Progress:  90%|█████████ | 904/1000 [3:45:20<24:01, 15.01s/it]"
     ]
    },
    {
     "name": "stdout",
     "output_type": "stream",
     "text": [
      "Time to: Calculate Ground State - 1.32s, Get Pauli Ops - 5.37s, Calculate Pauli Expectation Values - 6.61s, Calculate Covariance - 1.99s\n",
      "f0,f1,f2 = [2.532428870411158e-09, 2.5324288784848223e-09, 2.5324288666012396e-09]\n",
      "d01,d02,d12 = [0.9461621075366741, 0.9461621083570082, 0.9461621077998676]\n"
     ]
    },
    {
     "name": "stderr",
     "output_type": "stream",
     "text": [
      "Progress:  90%|█████████ | 905/1000 [3:45:35<23:36, 14.91s/it]"
     ]
    },
    {
     "name": "stdout",
     "output_type": "stream",
     "text": [
      "Time to: Calculate Ground State - 1.35s, Get Pauli Ops - 4.87s, Calculate Pauli Expectation Values - 6.31s, Calculate Covariance - 2.13s\n",
      "f0,f1,f2 = [2.360108965607863e-09, 2.360108976001915e-09, 2.3601089606861392e-09]\n",
      "d01,d02,d12 = [0.9508272858277462, 0.9508272868875962, 0.9508272861676103]\n"
     ]
    },
    {
     "name": "stderr",
     "output_type": "stream",
     "text": [
      "/cluster/home/mskrabulis/miniconda3/envs/quantech/lib/python3.9/site-packages/pyscf/symm/Dmatrix.py:156: RuntimeWarning: invalid value encountered in arccos\n",
      "  gamma = numpy.arccos(yp.dot(c2[1]))\n",
      "Progress:  91%|█████████ | 906/1000 [3:45:50<23:21, 14.91s/it]"
     ]
    },
    {
     "name": "stdout",
     "output_type": "stream",
     "text": [
      "Time to: Calculate Ground State - 1.3s, Get Pauli Ops - 4.4s, Calculate Pauli Expectation Values - 6.93s, Calculate Covariance - 2.28s\n",
      "f0,f1,f2 = [2.0131845772498734e-09, 2.013184592015765e-09, 2.0131845702728866e-09]\n",
      "d01,d02,d12 = [0.9562299042825837, 0.9562299055750514, 0.9562299046969105]\n"
     ]
    },
    {
     "name": "stderr",
     "output_type": "stream",
     "text": [
      "Progress:  91%|█████████ | 907/1000 [3:46:03<22:21, 14.43s/it]"
     ]
    },
    {
     "name": "stdout",
     "output_type": "stream",
     "text": [
      "Time to: Calculate Ground State - 1.32s, Get Pauli Ops - 4.25s, Calculate Pauli Expectation Values - 5.71s, Calculate Covariance - 2.03s\n",
      "f0,f1,f2 = [5.122458650657303e-10, 5.122458824432582e-10, 5.122458568482813e-10]\n",
      "d01,d02,d12 = [0.9619775350750466, 0.9619775365910952, 0.9619775355609365]\n"
     ]
    },
    {
     "name": "stderr",
     "output_type": "stream",
     "text": [
      "Progress:  91%|█████████ | 908/1000 [3:46:20<23:24, 15.27s/it]"
     ]
    },
    {
     "name": "stdout",
     "output_type": "stream",
     "text": [
      "Time to: Calculate Ground State - 1.28s, Get Pauli Ops - 4.7s, Calculate Pauli Expectation Values - 8.79s, Calculate Covariance - 2.45s\n",
      "f0,f1,f2 = [1.6709902800472015e-09, 1.6709902994263733e-09, 1.670990270902417e-09]\n",
      "d01,d02,d12 = [0.9677528039318933, 0.9677528056583291, 0.9677528044851168]\n"
     ]
    },
    {
     "name": "stderr",
     "output_type": "stream",
     "text": [
      "/cluster/home/mskrabulis/miniconda3/envs/quantech/lib/python3.9/site-packages/pyscf/symm/Dmatrix.py:156: RuntimeWarning: invalid value encountered in arccos\n",
      "  gamma = numpy.arccos(yp.dot(c2[1]))\n",
      "Progress:  91%|█████████ | 909/1000 [3:46:34<22:28, 14.82s/it]"
     ]
    },
    {
     "name": "stdout",
     "output_type": "stream",
     "text": [
      "Time to: Calculate Ground State - 0.91s, Get Pauli Ops - 4.27s, Calculate Pauli Expectation Values - 6.75s, Calculate Covariance - 1.84s\n",
      "f0,f1,f2 = [1.3892484548571295e-09, 1.3892484766615518e-09, 1.3892484445766683e-09]\n",
      "d01,d02,d12 = [0.9737549530928102, 0.9737549550148008, 0.9737549537086108]\n"
     ]
    },
    {
     "name": "stderr",
     "output_type": "stream",
     "text": [
      "Progress:  91%|█████████ | 910/1000 [3:46:47<21:41, 14.46s/it]"
     ]
    },
    {
     "name": "stdout",
     "output_type": "stream",
     "text": [
      "Time to: Calculate Ground State - 1.2s, Get Pauli Ops - 4.52s, Calculate Pauli Expectation Values - 6.1s, Calculate Covariance - 1.8s\n",
      "f0,f1,f2 = [9.0146763475728e-11, 9.014673783071043e-11, 9.014677554335668e-11]\n",
      "d01,d02,d12 = [0.9796410605161057, 0.9796410626175828, 0.9796410611893377]\n"
     ]
    },
    {
     "name": "stderr",
     "output_type": "stream",
     "text": [
      "Progress:  91%|█████████ | 911/1000 [3:47:01<21:10, 14.27s/it]"
     ]
    },
    {
     "name": "stdout",
     "output_type": "stream",
     "text": [
      "Time to: Calculate Ground State - 0.97s, Get Pauli Ops - 4.61s, Calculate Pauli Expectation Values - 5.96s, Calculate Covariance - 2.28s\n",
      "f0,f1,f2 = [2.192726906821117e-10, 2.1927266723932582e-10, 2.1927270174920564e-10]\n",
      "d01,d02,d12 = [0.9853886519315974, 0.9853886541896618, 0.9853886526549223]\n"
     ]
    },
    {
     "name": "stderr",
     "output_type": "stream",
     "text": [
      "Progress:  91%|█████████ | 912/1000 [3:47:15<20:51, 14.22s/it]"
     ]
    },
    {
     "name": "stdout",
     "output_type": "stream",
     "text": [
      "Time to: Calculate Ground State - 1.12s, Get Pauli Ops - 3.83s, Calculate Pauli Expectation Values - 6.96s, Calculate Covariance - 2.19s\n",
      "f0,f1,f2 = [5.936955141001192e-10, 5.936954921058454e-10, 5.936955244588417e-10]\n",
      "d01,d02,d12 = [0.9906862948756924, 0.9906862972723958, 0.9906862956433591]\n"
     ]
    },
    {
     "name": "stderr",
     "output_type": "stream",
     "text": [
      "/cluster/home/mskrabulis/miniconda3/envs/quantech/lib/python3.9/site-packages/pyscf/symm/Dmatrix.py:156: RuntimeWarning: invalid value encountered in arccos\n",
      "  gamma = numpy.arccos(yp.dot(c2[1]))\n",
      "/cluster/home/mskrabulis/miniconda3/envs/quantech/lib/python3.9/site-packages/pyscf/symm/Dmatrix.py:156: RuntimeWarning: invalid value encountered in arccos\n",
      "  gamma = numpy.arccos(yp.dot(c2[1]))\n",
      "Progress:  91%|█████████▏| 913/1000 [3:47:29<20:26, 14.10s/it]"
     ]
    },
    {
     "name": "stdout",
     "output_type": "stream",
     "text": [
      "Time to: Calculate Ground State - 1.35s, Get Pauli Ops - 4.41s, Calculate Pauli Expectation Values - 6.19s, Calculate Covariance - 1.87s\n",
      "f0,f1,f2 = [5.554841497507925e-10, 5.554841793922529e-10, 5.554841357727798e-10]\n",
      "d01,d02,d12 = [0.9958276524822105, 0.9958276550033616, 0.9958276532896715]\n"
     ]
    },
    {
     "name": "stderr",
     "output_type": "stream",
     "text": [
      "/cluster/home/mskrabulis/miniconda3/envs/quantech/lib/python3.9/site-packages/pyscf/symm/Dmatrix.py:156: RuntimeWarning: invalid value encountered in arccos\n",
      "  gamma = numpy.arccos(yp.dot(c2[1]))\n",
      "Progress:  91%|█████████▏| 914/1000 [3:47:47<21:35, 15.07s/it]"
     ]
    },
    {
     "name": "stdout",
     "output_type": "stream",
     "text": [
      "Time to: Calculate Ground State - 0.99s, Get Pauli Ops - 4.92s, Calculate Pauli Expectation Values - 9.3s, Calculate Covariance - 2.1s\n",
      "f0,f1,f2 = [8.957765317020919e-10, 8.957765049629629e-10, 8.957765442996091e-10]\n",
      "d01,d02,d12 = [0.9999635850615192, 0.9999635876904083, 0.9999635859034229]\n"
     ]
    },
    {
     "name": "stderr",
     "output_type": "stream",
     "text": [
      "Progress:  92%|█████████▏| 915/1000 [3:48:00<20:31, 14.48s/it]"
     ]
    },
    {
     "name": "stdout",
     "output_type": "stream",
     "text": [
      "Time to: Calculate Ground State - 1.02s, Get Pauli Ops - 4.46s, Calculate Pauli Expectation Values - 5.81s, Calculate Covariance - 1.83s\n",
      "f0,f1,f2 = [5.03117864871351e-10, 5.031178357241283e-10, 5.03117878614612e-10]\n",
      "d01,d02,d12 = [1.0042291595777857, 1.0042291623013253, 1.0042291604499372]\n"
     ]
    },
    {
     "name": "stderr",
     "output_type": "stream",
     "text": [
      "Progress:  92%|█████████▏| 916/1000 [3:48:13<19:47, 14.14s/it]"
     ]
    },
    {
     "name": "stdout",
     "output_type": "stream",
     "text": [
      "Time to: Calculate Ground State - 1.03s, Get Pauli Ops - 4.22s, Calculate Pauli Expectation Values - 6.28s, Calculate Covariance - 1.8s\n",
      "f0,f1,f2 = [9.943213885351662e-10, 9.943213610026467e-10, 9.943214014900614e-10]\n",
      "d01,d02,d12 = [1.0076681052390393, 1.0076681080417538, 1.007668106136486]\n"
     ]
    },
    {
     "name": "stderr",
     "output_type": "stream",
     "text": [
      "/cluster/home/mskrabulis/miniconda3/envs/quantech/lib/python3.9/site-packages/pyscf/symm/Dmatrix.py:156: RuntimeWarning: invalid value encountered in arccos\n",
      "  gamma = numpy.arccos(yp.dot(c2[1]))\n",
      "Progress:  92%|█████████▏| 917/1000 [3:48:26<18:54, 13.67s/it]"
     ]
    },
    {
     "name": "stdout",
     "output_type": "stream",
     "text": [
      "Time to: Calculate Ground State - 0.99s, Get Pauli Ops - 4.18s, Calculate Pauli Expectation Values - 5.79s, Calculate Covariance - 1.59s\n",
      "f0,f1,f2 = [6.014258006346936e-10, 6.014257739402011e-10, 6.014258132310286e-10]\n",
      "d01,d02,d12 = [1.0108945337729927, 1.0108945366394786, 1.0108945346907987]\n"
     ]
    },
    {
     "name": "stderr",
     "output_type": "stream",
     "text": [
      "/cluster/home/mskrabulis/miniconda3/envs/quantech/lib/python3.9/site-packages/pyscf/symm/Dmatrix.py:156: RuntimeWarning: invalid value encountered in arccos\n",
      "  gamma = numpy.arccos(yp.dot(c2[1]))\n",
      "Progress:  92%|█████████▏| 918/1000 [3:48:40<18:48, 13.77s/it]"
     ]
    },
    {
     "name": "stdout",
     "output_type": "stream",
     "text": [
      "Time to: Calculate Ground State - 1.03s, Get Pauli Ops - 4.48s, Calculate Pauli Expectation Values - 6.68s, Calculate Covariance - 1.8s\n",
      "f0,f1,f2 = [1.3855729521184614e-09, 1.3855729205269546e-09, 1.385572967010686e-09]\n",
      "d01,d02,d12 = [1.0132515090059138, 1.0132515119097987, 1.0132515099356343]\n"
     ]
    },
    {
     "name": "stderr",
     "output_type": "stream",
     "text": [
      "Progress:  92%|█████████▏| 919/1000 [3:49:00<21:11, 15.69s/it]"
     ]
    },
    {
     "name": "stdout",
     "output_type": "stream",
     "text": [
      "Time to: Calculate Ground State - 1.3s, Get Pauli Ops - 4.54s, Calculate Pauli Expectation Values - 12.52s, Calculate Covariance - 1.82s\n",
      "f0,f1,f2 = [1.9498384124183644e-09, 1.949838383993576e-09, 1.949838425803925e-09]\n",
      "d01,d02,d12 = [1.0149050672467446, 1.0149050701669715, 1.0149050681816383]\n"
     ]
    },
    {
     "name": "stderr",
     "output_type": "stream",
     "text": [
      "Progress:  92%|█████████▏| 920/1000 [3:49:19<22:28, 16.86s/it]"
     ]
    },
    {
     "name": "stdout",
     "output_type": "stream",
     "text": [
      "Time to: Calculate Ground State - 1.23s, Get Pauli Ops - 5.48s, Calculate Pauli Expectation Values - 10.86s, Calculate Covariance - 2.0s\n",
      "f0,f1,f2 = [1.2614267798043763e-09, 1.2614267501480184e-09, 1.2614267937629284e-09]\n",
      "d01,d02,d12 = [1.0160074490255353, 1.0160074519430797, 1.0160074499595098]\n"
     ]
    },
    {
     "name": "stderr",
     "output_type": "stream",
     "text": [
      "Progress:  92%|█████████▏| 921/1000 [3:49:34<21:12, 16.11s/it]"
     ]
    },
    {
     "name": "stdout",
     "output_type": "stream",
     "text": [
      "Time to: Calculate Ground State - 1.31s, Get Pauli Ops - 4.85s, Calculate Pauli Expectation Values - 6.12s, Calculate Covariance - 2.09s\n",
      "f0,f1,f2 = [9.456179762120569e-10, 9.456179471381491e-10, 9.456179899207803e-10]\n",
      "d01,d02,d12 = [1.0166152425894848, 1.0166152454871626, 1.016615243517036]\n"
     ]
    },
    {
     "name": "stderr",
     "output_type": "stream",
     "text": [
      "/cluster/home/mskrabulis/miniconda3/envs/quantech/lib/python3.9/site-packages/pyscf/symm/Dmatrix.py:156: RuntimeWarning: invalid value encountered in arccos\n",
      "  gamma = numpy.arccos(yp.dot(c2[1]))\n",
      "Progress:  92%|█████████▏| 922/1000 [3:49:47<19:54, 15.32s/it]"
     ]
    },
    {
     "name": "stdout",
     "output_type": "stream",
     "text": [
      "Time to: Calculate Ground State - 1.02s, Get Pauli Ops - 4.02s, Calculate Pauli Expectation Values - 6.25s, Calculate Covariance - 2.16s\n",
      "f0,f1,f2 = [1.5743800338401213e-09, 1.574380004817682e-09, 1.5743800474996052e-09]\n",
      "d01,d02,d12 = [1.0165248112895573, 1.0165248141478254, 1.0165248122044306]\n"
     ]
    },
    {
     "name": "stderr",
     "output_type": "stream",
     "text": [
      "Progress:  92%|█████████▏| 923/1000 [3:50:00<18:42, 14.58s/it]"
     ]
    },
    {
     "name": "stdout",
     "output_type": "stream",
     "text": [
      "Time to: Calculate Ground State - 0.87s, Get Pauli Ops - 4.22s, Calculate Pauli Expectation Values - 5.65s, Calculate Covariance - 2.12s\n",
      "f0,f1,f2 = [7.868158185174187e-10, 7.868157933662657e-10, 7.868158303702759e-10]\n",
      "d01,d02,d12 = [1.0160892864368796, 1.016089289241596, 1.016089287334549]\n"
     ]
    },
    {
     "name": "stderr",
     "output_type": "stream",
     "text": [
      "Progress:  92%|█████████▏| 924/1000 [3:50:14<18:22, 14.50s/it]"
     ]
    },
    {
     "name": "stdout",
     "output_type": "stream",
     "text": [
      "Time to: Calculate Ground State - 1.32s, Get Pauli Ops - 4.93s, Calculate Pauli Expectation Values - 5.9s, Calculate Covariance - 2.15s\n",
      "f0,f1,f2 = [1.0490758239288701e-09, 1.0490757955965788e-09, 1.049075837268374e-09]\n",
      "d01,d02,d12 = [1.0151800221319225, 1.015180024866371, 1.015180023007039]\n"
     ]
    },
    {
     "name": "stderr",
     "output_type": "stream",
     "text": [
      "Progress:  92%|█████████▎| 925/1000 [3:50:30<18:28, 14.78s/it]"
     ]
    },
    {
     "name": "stdout",
     "output_type": "stream",
     "text": [
      "Time to: Calculate Ground State - 1.09s, Get Pauli Ops - 5.33s, Calculate Pauli Expectation Values - 6.95s, Calculate Covariance - 2.02s\n",
      "f0,f1,f2 = [1.2530561230872592e-09, 1.2530560953659727e-09, 1.2530561361217891e-09]\n",
      "d01,d02,d12 = [1.013806421609707, 1.0138064242575375, 1.0138064224570407]\n"
     ]
    },
    {
     "name": "stderr",
     "output_type": "stream",
     "text": [
      "Progress:  93%|█████████▎| 926/1000 [3:50:47<19:01, 15.43s/it]"
     ]
    },
    {
     "name": "stdout",
     "output_type": "stream",
     "text": [
      "Time to: Calculate Ground State - 1.38s, Get Pauli Ops - 6.92s, Calculate Pauli Expectation Values - 6.33s, Calculate Covariance - 2.32s\n",
      "f0,f1,f2 = [9.057584395653103e-10, 9.057584112132655e-10, 9.057584529192204e-10]\n",
      "d01,d02,d12 = [1.012057712844714, 1.0120577153908266, 1.012057713659432]\n"
     ]
    },
    {
     "name": "stderr",
     "output_type": "stream",
     "text": [
      "Progress:  93%|█████████▎| 927/1000 [3:51:02<18:54, 15.54s/it]"
     ]
    },
    {
     "name": "stdout",
     "output_type": "stream",
     "text": [
      "Time to: Calculate Ground State - 1.37s, Get Pauli Ops - 6.26s, Calculate Pauli Expectation Values - 5.8s, Calculate Covariance - 2.35s\n",
      "f0,f1,f2 = [2.8855479007282387e-11, 2.8855502732137378e-11, 2.8855467836836413e-11]\n",
      "d01,d02,d12 = [1.0103429289789596, 1.0103429314113181, 1.0103429297572133]\n"
     ]
    },
    {
     "name": "stderr",
     "output_type": "stream",
     "text": [
      "Progress:  93%|█████████▎| 928/1000 [3:51:19<18:49, 15.69s/it]"
     ]
    },
    {
     "name": "stdout",
     "output_type": "stream",
     "text": [
      "Time to: Calculate Ground State - 0.91s, Get Pauli Ops - 4.89s, Calculate Pauli Expectation Values - 8.25s, Calculate Covariance - 2.01s\n",
      "f0,f1,f2 = [1.065044700804093e-09, 1.0650446762166358e-09, 1.0650447123835962e-09]\n",
      "d01,d02,d12 = [1.008287936555896, 1.0082879388550308, 1.008287937291453]\n"
     ]
    },
    {
     "name": "stderr",
     "output_type": "stream",
     "text": [
      "/cluster/home/mskrabulis/miniconda3/envs/quantech/lib/python3.9/site-packages/pyscf/symm/Dmatrix.py:156: RuntimeWarning: invalid value encountered in arccos\n",
      "  gamma = numpy.arccos(yp.dot(c2[1]))\n",
      "Progress:  93%|█████████▎| 929/1000 [3:51:32<17:38, 14.91s/it]"
     ]
    },
    {
     "name": "stdout",
     "output_type": "stream",
     "text": [
      "Time to: Calculate Ground State - 1.02s, Get Pauli Ops - 4.42s, Calculate Pauli Expectation Values - 5.94s, Calculate Covariance - 1.7s\n",
      "f0,f1,f2 = [4.867654578608173e-10, 4.867654335517606e-10, 4.867654693110298e-10]\n",
      "d01,d02,d12 = [1.0061064119108598, 1.0061064140633806, 1.0061064125994348]\n"
     ]
    },
    {
     "name": "stderr",
     "output_type": "stream",
     "text": [
      "Progress:  93%|█████████▎| 930/1000 [3:51:45<16:52, 14.46s/it]"
     ]
    },
    {
     "name": "stdout",
     "output_type": "stream",
     "text": [
      "Time to: Calculate Ground State - 1.06s, Get Pauli Ops - 4.06s, Calculate Pauli Expectation Values - 6.53s, Calculate Covariance - 1.75s\n",
      "f0,f1,f2 = [6.424153736901885e-10, 6.424153484414129e-10, 6.424153855795816e-10]\n",
      "d01,d02,d12 = [1.0036495152537221, 1.0036495172441726, 1.0036495158903698]\n"
     ]
    },
    {
     "name": "stderr",
     "output_type": "stream",
     "text": [
      "/cluster/home/mskrabulis/miniconda3/envs/quantech/lib/python3.9/site-packages/pyscf/symm/Dmatrix.py:156: RuntimeWarning: invalid value encountered in arccos\n",
      "  gamma = numpy.arccos(yp.dot(c2[1]))\n",
      "Progress:  93%|█████████▎| 931/1000 [3:52:01<17:05, 14.86s/it]"
     ]
    },
    {
     "name": "stdout",
     "output_type": "stream",
     "text": [
      "Time to: Calculate Ground State - 1.38s, Get Pauli Ops - 4.45s, Calculate Pauli Expectation Values - 8.01s, Calculate Covariance - 1.94s\n",
      "f0,f1,f2 = [1.5563812304005656e-09, 1.5563812086625825e-09, 1.5563812406213641e-09]\n",
      "d01,d02,d12 = [1.0005566169395022, 1.0005566187505421, 1.0005566175186742]\n"
     ]
    },
    {
     "name": "stderr",
     "output_type": "stream",
     "text": [
      "/cluster/home/mskrabulis/miniconda3/envs/quantech/lib/python3.9/site-packages/pyscf/symm/Dmatrix.py:156: RuntimeWarning: invalid value encountered in arccos\n",
      "  gamma = numpy.arccos(yp.dot(c2[1]))\n",
      "Progress:  93%|█████████▎| 932/1000 [3:52:18<17:32, 15.48s/it]"
     ]
    },
    {
     "name": "stdout",
     "output_type": "stream",
     "text": [
      "Time to: Calculate Ground State - 1.32s, Get Pauli Ops - 7.8s, Calculate Pauli Expectation Values - 5.68s, Calculate Covariance - 2.12s\n",
      "f0,f1,f2 = [3.966606022868893e-10, 3.966606175476118e-10, 3.966605951183281e-10]\n",
      "d01,d02,d12 = [0.9980411642918379, 0.9980411659204403, 0.998041164812568]\n"
     ]
    },
    {
     "name": "stderr",
     "output_type": "stream",
     "text": [
      "/cluster/home/mskrabulis/miniconda3/envs/quantech/lib/python3.9/site-packages/pyscf/symm/Dmatrix.py:156: RuntimeWarning: invalid value encountered in arccos\n",
      "  gamma = numpy.arccos(yp.dot(c2[1]))\n",
      "Progress:  93%|█████████▎| 933/1000 [3:52:30<16:19, 14.62s/it]"
     ]
    },
    {
     "name": "stdout",
     "output_type": "stream",
     "text": [
      "Time to: Calculate Ground State - 0.87s, Get Pauli Ops - 4.32s, Calculate Pauli Expectation Values - 5.81s, Calculate Covariance - 1.62s\n",
      "f0,f1,f2 = [5.768598227641162e-10, 5.768598057984788e-10, 5.768598307296522e-10]\n",
      "d01,d02,d12 = [0.9950764072025897, 0.9950764086393324, 0.9950764076618658]\n"
     ]
    },
    {
     "name": "stderr",
     "output_type": "stream",
     "text": [
      "Progress:  93%|█████████▎| 934/1000 [3:52:44<15:41, 14.27s/it]"
     ]
    },
    {
     "name": "stdout",
     "output_type": "stream",
     "text": [
      "Time to: Calculate Ground State - 1.31s, Get Pauli Ops - 4.71s, Calculate Pauli Expectation Values - 6.04s, Calculate Covariance - 1.39s\n",
      "f0,f1,f2 = [1.6084343144711101e-09, 1.6084342983106113e-09, 1.6084343220695763e-09]\n",
      "d01,d02,d12 = [0.9911796211355497, 0.9911796223685835, 0.9911796215295823]\n"
     ]
    },
    {
     "name": "stderr",
     "output_type": "stream",
     "text": [
      "/cluster/home/mskrabulis/miniconda3/envs/quantech/lib/python3.9/site-packages/pyscf/symm/Dmatrix.py:156: RuntimeWarning: invalid value encountered in arccos\n",
      "  gamma = numpy.arccos(yp.dot(c2[1]))\n",
      "Progress:  94%|█████████▎| 935/1000 [3:52:59<15:40, 14.47s/it]"
     ]
    },
    {
     "name": "stdout",
     "output_type": "stream",
     "text": [
      "Time to: Calculate Ground State - 0.96s, Get Pauli Ops - 4.62s, Calculate Pauli Expectation Values - 7.07s, Calculate Covariance - 2.29s\n",
      "f0,f1,f2 = [4.0392286606168583e-10, 4.0392287956380693e-10, 4.039228597235446e-10]\n",
      "d01,d02,d12 = [0.9880055589951705, 0.9880055600160578, 0.9880055593212632]\n"
     ]
    },
    {
     "name": "stderr",
     "output_type": "stream",
     "text": [
      "/cluster/home/mskrabulis/miniconda3/envs/quantech/lib/python3.9/site-packages/pyscf/symm/Dmatrix.py:156: RuntimeWarning: invalid value encountered in arccos\n",
      "  gamma = numpy.arccos(yp.dot(c2[1]))\n",
      "Progress:  94%|█████████▎| 936/1000 [3:53:12<15:10, 14.23s/it]"
     ]
    },
    {
     "name": "stdout",
     "output_type": "stream",
     "text": [
      "Time to: Calculate Ground State - 0.98s, Get Pauli Ops - 4.5s, Calculate Pauli Expectation Values - 6.26s, Calculate Covariance - 1.91s\n",
      "f0,f1,f2 = [2.8399290670815172e-11, 2.839927809204343e-11, 2.8399296552662242e-11]\n",
      "d01,d02,d12 = [0.9846787236702172, 0.9846787244697656, 0.9846787239254352]\n"
     ]
    },
    {
     "name": "stderr",
     "output_type": "stream",
     "text": [
      "Progress:  94%|█████████▎| 937/1000 [3:53:27<14:56, 14.23s/it]"
     ]
    },
    {
     "name": "stdout",
     "output_type": "stream",
     "text": [
      "Time to: Calculate Ground State - 1.17s, Get Pauli Ops - 4.42s, Calculate Pauli Expectation Values - 6.57s, Calculate Covariance - 2.05s\n",
      "f0,f1,f2 = [1.241766400523431e-10, 1.2417663180276687e-10, 1.2417664390725388e-10]\n",
      "d01,d02,d12 = [0.9818020800099692, 0.981802080582253, 0.9818020801924243]\n"
     ]
    },
    {
     "name": "stderr",
     "output_type": "stream",
     "text": [
      "Progress:  94%|█████████▍| 938/1000 [3:53:40<14:21, 13.90s/it]"
     ]
    },
    {
     "name": "stdout",
     "output_type": "stream",
     "text": [
      "Time to: Calculate Ground State - 0.99s, Get Pauli Ops - 4.92s, Calculate Pauli Expectation Values - 5.84s, Calculate Covariance - 1.38s\n",
      "f0,f1,f2 = [3.942055169361155e-10, 3.9420550958681587e-10, 3.942055203981112e-10]\n",
      "d01,d02,d12 = [0.9784688317087304, 0.9784688320487246, 0.978468831816817]\n"
     ]
    },
    {
     "name": "stderr",
     "output_type": "stream",
     "text": [
      "/cluster/home/mskrabulis/miniconda3/envs/quantech/lib/python3.9/site-packages/pyscf/symm/Dmatrix.py:156: RuntimeWarning: invalid value encountered in arccos\n",
      "  gamma = numpy.arccos(yp.dot(c2[1]))\n",
      "Progress:  94%|█████████▍| 939/1000 [3:53:54<14:18, 14.08s/it]"
     ]
    },
    {
     "name": "stdout",
     "output_type": "stream",
     "text": [
      "Time to: Calculate Ground State - 0.85s, Get Pauli Ops - 5.07s, Calculate Pauli Expectation Values - 6.26s, Calculate Covariance - 2.32s\n",
      "f0,f1,f2 = [9.058397526045163e-10, 9.058397560059572e-10, 9.058397510285815e-10]\n",
      "d01,d02,d12 = [0.975715960744937, 0.9757159608505452, 0.9757159607779906]\n"
     ]
    },
    {
     "name": "stderr",
     "output_type": "stream",
     "text": [
      "/cluster/home/mskrabulis/miniconda3/envs/quantech/lib/python3.9/site-packages/pyscf/symm/Dmatrix.py:156: RuntimeWarning: invalid value encountered in arccos\n",
      "  gamma = numpy.arccos(yp.dot(c2[1]))\n",
      "Progress:  94%|█████████▍| 940/1000 [3:54:09<14:07, 14.13s/it]"
     ]
    },
    {
     "name": "stdout",
     "output_type": "stream",
     "text": [
      "Time to: Calculate Ground State - 1.1s, Get Pauli Ops - 4.47s, Calculate Pauli Expectation Values - 6.55s, Calculate Covariance - 2.09s\n",
      "f0,f1,f2 = [3.4408733772649045e-10, 3.440873389538498e-10, 3.440873371713896e-10]\n",
      "d01,d02,d12 = [0.9728313742311234, 0.9728313741015021, 0.972831374188877]\n"
     ]
    },
    {
     "name": "stderr",
     "output_type": "stream",
     "text": [
      "Progress:  94%|█████████▍| 941/1000 [3:54:24<14:20, 14.59s/it]"
     ]
    },
    {
     "name": "stdout",
     "output_type": "stream",
     "text": [
      "Time to: Calculate Ground State - 1.29s, Get Pauli Ops - 4.64s, Calculate Pauli Expectation Values - 7.86s, Calculate Covariance - 1.88s\n",
      "f0,f1,f2 = [1.1611552557334555e-09, 1.1611552541815155e-09, 1.161155256484033e-09]\n",
      "d01,d02,d12 = [0.9707791163767054, 0.970779116012619, 0.9707791162594083]\n"
     ]
    },
    {
     "name": "stderr",
     "output_type": "stream",
     "text": [
      "/cluster/home/mskrabulis/miniconda3/envs/quantech/lib/python3.9/site-packages/pyscf/symm/Dmatrix.py:156: RuntimeWarning: invalid value encountered in arccos\n",
      "  gamma = numpy.arccos(yp.dot(c2[1]))\n",
      "Progress:  94%|█████████▍| 942/1000 [3:54:40<14:20, 14.84s/it]"
     ]
    },
    {
     "name": "stdout",
     "output_type": "stream",
     "text": [
      "Time to: Calculate Ground State - 0.79s, Get Pauli Ops - 7.26s, Calculate Pauli Expectation Values - 5.56s, Calculate Covariance - 1.81s\n",
      "f0,f1,f2 = [5.558070461343178e-10, 5.558070418018901e-10, 5.558070482040531e-10]\n",
      "d01,d02,d12 = [0.969007034499672, 0.9690070339039478, 0.969007034308235]\n"
     ]
    },
    {
     "name": "stderr",
     "output_type": "stream",
     "text": [
      "Progress:  94%|█████████▍| 943/1000 [3:54:53<13:40, 14.39s/it]"
     ]
    },
    {
     "name": "stdout",
     "output_type": "stream",
     "text": [
      "Time to: Calculate Ground State - 1.01s, Get Pauli Ops - 4.55s, Calculate Pauli Expectation Values - 5.88s, Calculate Covariance - 1.9s\n",
      "f0,f1,f2 = [1.4225157299615561e-09, 1.4225157232462928e-09, 1.4225157331469534e-09]\n",
      "d01,d02,d12 = [0.9677693727485563, 0.9677693719250338, 0.9677693724842141]\n"
     ]
    },
    {
     "name": "stderr",
     "output_type": "stream",
     "text": [
      "Progress:  94%|█████████▍| 944/1000 [3:55:08<13:41, 14.66s/it]"
     ]
    },
    {
     "name": "stdout",
     "output_type": "stream",
     "text": [
      "Time to: Calculate Ground State - 1.29s, Get Pauli Ops - 5.08s, Calculate Pauli Expectation Values - 6.54s, Calculate Covariance - 2.38s\n",
      "f0,f1,f2 = [1.184611365988677e-09, 1.1846113542823098e-09, 1.1846113715200041e-09]\n",
      "d01,d02,d12 = [0.9671611340229624, 0.967161132978793, 0.9671611336880098]\n"
     ]
    },
    {
     "name": "stderr",
     "output_type": "stream",
     "text": [
      "/cluster/home/mskrabulis/miniconda3/envs/quantech/lib/python3.9/site-packages/pyscf/symm/Dmatrix.py:156: RuntimeWarning: invalid value encountered in arccos\n",
      "  gamma = numpy.arccos(yp.dot(c2[1]))\n",
      "/cluster/home/mskrabulis/miniconda3/envs/quantech/lib/python3.9/site-packages/pyscf/symm/Dmatrix.py:156: RuntimeWarning: invalid value encountered in arccos\n",
      "  gamma = numpy.arccos(yp.dot(c2[1]))\n",
      "Progress:  94%|█████████▍| 945/1000 [3:55:22<13:06, 14.31s/it]"
     ]
    },
    {
     "name": "stdout",
     "output_type": "stream",
     "text": [
      "Time to: Calculate Ground State - 1.33s, Get Pauli Ops - 4.4s, Calculate Pauli Expectation Values - 5.7s, Calculate Covariance - 2.03s\n",
      "f0,f1,f2 = [1.7393308532728106e-11, 1.73932972264533e-11, 1.7393313897203413e-11]\n",
      "d01,d02,d12 = [0.9665080526753551, 0.9665080514181537, 0.9665080522722374]\n"
     ]
    },
    {
     "name": "stderr",
     "output_type": "stream",
     "text": [
      "Progress:  95%|█████████▍| 946/1000 [3:55:38<13:23, 14.87s/it]"
     ]
    },
    {
     "name": "stdout",
     "output_type": "stream",
     "text": [
      "Time to: Calculate Ground State - 1.3s, Get Pauli Ops - 5.11s, Calculate Pauli Expectation Values - 7.96s, Calculate Covariance - 1.82s\n",
      "f0,f1,f2 = [1.0095538386291928e-09, 1.009553823971028e-09, 1.0095538455633705e-09]\n",
      "d01,d02,d12 = [0.9662496706511612, 0.9662496691897589, 0.9662496701827131]\n"
     ]
    },
    {
     "name": "stderr",
     "output_type": "stream",
     "text": [
      "Progress:  95%|█████████▍| 947/1000 [3:55:52<12:55, 14.63s/it]"
     ]
    },
    {
     "name": "stdout",
     "output_type": "stream",
     "text": [
      "Time to: Calculate Ground State - 1.3s, Get Pauli Ops - 3.9s, Calculate Pauli Expectation Values - 6.48s, Calculate Covariance - 2.38s\n",
      "f0,f1,f2 = [2.6170290076007986e-09, 2.617028989564813e-09, 2.6170290161101966e-09]\n",
      "d01,d02,d12 = [0.9671000633373537, 0.9671000616807377, 0.9671000628064536]\n"
     ]
    },
    {
     "name": "stderr",
     "output_type": "stream",
     "text": [
      "Progress:  95%|█████████▍| 948/1000 [3:56:06<12:29, 14.42s/it]"
     ]
    },
    {
     "name": "stdout",
     "output_type": "stream",
     "text": [
      "Time to: Calculate Ground State - 1.2s, Get Pauli Ops - 4.32s, Calculate Pauli Expectation Values - 6.56s, Calculate Covariance - 1.84s\n",
      "f0,f1,f2 = [6.152474942139728e-10, 6.15247476107027e-10, 6.152475027679412e-10]\n",
      "d01,d02,d12 = [0.9682589782328017, 0.9682589763918958, 0.9682589776429525]\n"
     ]
    },
    {
     "name": "stderr",
     "output_type": "stream",
     "text": [
      "/cluster/home/mskrabulis/miniconda3/envs/quantech/lib/python3.9/site-packages/pyscf/symm/Dmatrix.py:156: RuntimeWarning: invalid value encountered in arccos\n",
      "  gamma = numpy.arccos(yp.dot(c2[1]))\n",
      "Progress:  95%|█████████▍| 949/1000 [3:56:19<12:00, 14.13s/it]"
     ]
    },
    {
     "name": "stdout",
     "output_type": "stream",
     "text": [
      "Time to: Calculate Ground State - 1.01s, Get Pauli Ops - 4.67s, Calculate Pauli Expectation Values - 5.71s, Calculate Covariance - 2.07s\n",
      "f0,f1,f2 = [1.4625946733830363e-09, 1.4625946478456942e-09, 1.462594685434075e-09]\n",
      "d01,d02,d12 = [0.9699609622887344, 0.9699609602782833, 0.969960961644661]\n"
     ]
    },
    {
     "name": "stderr",
     "output_type": "stream",
     "text": [
      "Progress:  95%|█████████▌| 950/1000 [3:56:34<12:01, 14.43s/it]"
     ]
    },
    {
     "name": "stdout",
     "output_type": "stream",
     "text": [
      "Time to: Calculate Ground State - 1.34s, Get Pauli Ops - 4.33s, Calculate Pauli Expectation Values - 7.16s, Calculate Covariance - 2.27s\n",
      "f0,f1,f2 = [8.980273086342463e-10, 8.980272847894233e-10, 8.980273198745036e-10]\n",
      "d01,d02,d12 = [0.9720798697512089, 0.9720798675823747, 0.9720798690564894]\n"
     ]
    },
    {
     "name": "stderr",
     "output_type": "stream",
     "text": [
      "Progress:  95%|█████████▌| 951/1000 [3:56:48<11:39, 14.28s/it]"
     ]
    },
    {
     "name": "stdout",
     "output_type": "stream",
     "text": [
      "Time to: Calculate Ground State - 0.8s, Get Pauli Ops - 4.97s, Calculate Pauli Expectation Values - 6.32s, Calculate Covariance - 1.84s\n",
      "f0,f1,f2 = [1.8356906599296215e-09, 1.835690632455239e-09, 1.8356906728828212e-09]\n",
      "d01,d02,d12 = [0.9748874857563207, 0.9748874834413952, 0.9748874850148915]\n"
     ]
    },
    {
     "name": "stderr",
     "output_type": "stream",
     "text": [
      "Progress:  95%|█████████▌| 952/1000 [3:57:03<11:33, 14.44s/it]"
     ]
    },
    {
     "name": "stdout",
     "output_type": "stream",
     "text": [
      "Time to: Calculate Ground State - 1.19s, Get Pauli Ops - 4.8s, Calculate Pauli Expectation Values - 6.96s, Calculate Covariance - 1.86s\n",
      "f0,f1,f2 = [9.779554323728988e-10, 9.779554039450628e-10, 9.779554458001112e-10]\n",
      "d01,d02,d12 = [0.9779453173456489, 0.9779453149031109, 0.9779453165634351]\n"
     ]
    },
    {
     "name": "stderr",
     "output_type": "stream",
     "text": [
      "Progress:  95%|█████████▌| 953/1000 [3:57:18<11:17, 14.42s/it]"
     ]
    },
    {
     "name": "stdout",
     "output_type": "stream",
     "text": [
      "Time to: Calculate Ground State - 0.74s, Get Pauli Ops - 4.79s, Calculate Pauli Expectation Values - 6.67s, Calculate Covariance - 2.18s\n",
      "f0,f1,f2 = [1.7601526005596472e-10, 1.7601529009775162e-10, 1.760152459088039e-10]\n",
      "d01,d02,d12 = [0.9809869243232283, 0.9809869217661301, 0.9809869235044075]\n"
     ]
    },
    {
     "name": "stderr",
     "output_type": "stream",
     "text": [
      "/cluster/home/mskrabulis/miniconda3/envs/quantech/lib/python3.9/site-packages/pyscf/symm/Dmatrix.py:156: RuntimeWarning: invalid value encountered in arccos\n",
      "  gamma = numpy.arccos(yp.dot(c2[1]))\n",
      "Progress:  95%|█████████▌| 954/1000 [3:57:33<11:11, 14.61s/it]"
     ]
    },
    {
     "name": "stdout",
     "output_type": "stream",
     "text": [
      "Time to: Calculate Ground State - 0.75s, Get Pauli Ops - 4.38s, Calculate Pauli Expectation Values - 7.66s, Calculate Covariance - 2.23s\n",
      "f0,f1,f2 = [3.654827094695106e-10, 3.654826792305703e-10, 3.6548272371035067e-10]\n",
      "d01,d02,d12 = [0.9842115050565003, 0.984211502400922, 0.984211504206219]\n"
     ]
    },
    {
     "name": "stderr",
     "output_type": "stream",
     "text": [
      "Progress:  96%|█████████▌| 955/1000 [3:57:48<11:00, 14.68s/it]"
     ]
    },
    {
     "name": "stdout",
     "output_type": "stream",
     "text": [
      "Time to: Calculate Ground State - 1.33s, Get Pauli Ops - 4.84s, Calculate Pauli Expectation Values - 6.51s, Calculate Covariance - 2.19s\n",
      "f0,f1,f2 = [4.1339585732399834e-10, 4.1339582815535345e-10, 4.133958710442784e-10]\n",
      "d01,d02,d12 = [0.9875595214436548, 0.9875595187087238, 0.9875595205680329]\n"
     ]
    },
    {
     "name": "stderr",
     "output_type": "stream",
     "text": [
      "Progress:  96%|█████████▌| 956/1000 [3:58:01<10:24, 14.18s/it]"
     ]
    },
    {
     "name": "stdout",
     "output_type": "stream",
     "text": [
      "Time to: Calculate Ground State - 0.91s, Get Pauli Ops - 4.46s, Calculate Pauli Expectation Values - 5.67s, Calculate Covariance - 1.97s\n",
      "f0,f1,f2 = [1.0135020929592586e-09, 1.013502066971539e-09, 1.0135021052015928e-09]\n",
      "d01,d02,d12 = [0.9910347059084543, 0.9910347030985853, 0.9910347050089027]\n"
     ]
    },
    {
     "name": "stderr",
     "output_type": "stream",
     "text": [
      "/cluster/home/mskrabulis/miniconda3/envs/quantech/lib/python3.9/site-packages/pyscf/symm/Dmatrix.py:156: RuntimeWarning: invalid value encountered in arccos\n",
      "  gamma = numpy.arccos(yp.dot(c2[1]))\n",
      "/cluster/home/mskrabulis/miniconda3/envs/quantech/lib/python3.9/site-packages/pyscf/symm/Dmatrix.py:156: RuntimeWarning: invalid value encountered in arccos\n",
      "  gamma = numpy.arccos(yp.dot(c2[1]))\n",
      "Progress:  96%|█████████▌| 957/1000 [3:58:14<10:05, 14.08s/it]"
     ]
    },
    {
     "name": "stdout",
     "output_type": "stream",
     "text": [
      "Time to: Calculate Ground State - 1.38s, Get Pauli Ops - 4.24s, Calculate Pauli Expectation Values - 6.39s, Calculate Covariance - 1.81s\n",
      "f0,f1,f2 = [3.2762897833188585e-10, 3.2762900769866744e-10, 3.2762896451057856e-10]\n",
      "d01,d02,d12 = [0.9943554324273234, 0.9943554295565289, 0.9943554315083237]\n"
     ]
    },
    {
     "name": "stderr",
     "output_type": "stream",
     "text": [
      "/cluster/home/mskrabulis/miniconda3/envs/quantech/lib/python3.9/site-packages/pyscf/symm/Dmatrix.py:156: RuntimeWarning: invalid value encountered in arccos\n",
      "  gamma = numpy.arccos(yp.dot(c2[1]))\n",
      "Progress:  96%|█████████▌| 958/1000 [3:58:34<10:58, 15.69s/it]"
     ]
    },
    {
     "name": "stdout",
     "output_type": "stream",
     "text": [
      "Time to: Calculate Ground State - 1.0s, Get Pauli Ops - 4.56s, Calculate Pauli Expectation Values - 11.79s, Calculate Covariance - 2.1s\n",
      "f0,f1,f2 = [7.297395956815725e-10, 7.297396259499028e-10, 7.297395814344638e-10]\n",
      "d01,d02,d12 = [0.997591611013831, 0.9975916081009285, 0.9975916100814057]\n"
     ]
    },
    {
     "name": "stderr",
     "output_type": "stream",
     "text": [
      "/cluster/home/mskrabulis/miniconda3/envs/quantech/lib/python3.9/site-packages/pyscf/symm/Dmatrix.py:156: RuntimeWarning: invalid value encountered in arccos\n",
      "  gamma = numpy.arccos(yp.dot(c2[1]))\n",
      "Progress:  96%|█████████▌| 959/1000 [3:58:56<11:57, 17.50s/it]"
     ]
    },
    {
     "name": "stdout",
     "output_type": "stream",
     "text": [
      "Time to: Calculate Ground State - 1.47s, Get Pauli Ops - 6.19s, Calculate Pauli Expectation Values - 11.99s, Calculate Covariance - 2.06s\n",
      "f0,f1,f2 = [1.0763460769175077e-10, 1.0763464178269858e-10, 1.0763459164832886e-10]\n",
      "d01,d02,d12 = [1.0007256260361, 1.000725623101399, 1.0007256250967516]\n"
     ]
    },
    {
     "name": "stderr",
     "output_type": "stream",
     "text": [
      "/cluster/home/mskrabulis/miniconda3/envs/quantech/lib/python3.9/site-packages/pyscf/symm/Dmatrix.py:156: RuntimeWarning: invalid value encountered in arccos\n",
      "  gamma = numpy.arccos(yp.dot(c2[1]))\n",
      "Progress:  96%|█████████▌| 960/1000 [3:59:12<11:32, 17.31s/it]"
     ]
    },
    {
     "name": "stdout",
     "output_type": "stream",
     "text": [
      "Time to: Calculate Ground State - 1.37s, Get Pauli Ops - 6.35s, Calculate Pauli Expectation Values - 7.38s, Calculate Covariance - 1.78s\n",
      "f0,f1,f2 = [8.627192740484296e-10, 8.627193025907559e-10, 8.627192606073317e-10]\n",
      "d01,d02,d12 = [1.0032072396959908, 1.003207236755563, 1.0032072387548645]\n"
     ]
    },
    {
     "name": "stderr",
     "output_type": "stream",
     "text": [
      "Progress:  96%|█████████▌| 961/1000 [3:59:33<11:49, 18.18s/it]"
     ]
    },
    {
     "name": "stdout",
     "output_type": "stream",
     "text": [
      "Time to: Calculate Ground State - 1.48s, Get Pauli Ops - 5.38s, Calculate Pauli Expectation Values - 11.14s, Calculate Covariance - 2.2s\n",
      "f0,f1,f2 = [1.3037558040063312e-09, 1.3037558274774185e-09, 1.3037557929623545e-09]\n",
      "d01,d02,d12 = [1.0050347861275668, 1.0050347831977737, 1.0050347851899009]\n"
     ]
    },
    {
     "name": "stderr",
     "output_type": "stream",
     "text": [
      "/cluster/home/mskrabulis/miniconda3/envs/quantech/lib/python3.9/site-packages/pyscf/symm/Dmatrix.py:156: RuntimeWarning: invalid value encountered in arccos\n",
      "  gamma = numpy.arccos(yp.dot(c2[1]))\n",
      "Progress:  96%|█████████▌| 962/1000 [3:59:50<11:16, 17.80s/it]"
     ]
    },
    {
     "name": "stdout",
     "output_type": "stream",
     "text": [
      "Time to: Calculate Ground State - 1.21s, Get Pauli Ops - 5.82s, Calculate Pauli Expectation Values - 7.97s, Calculate Covariance - 1.89s\n",
      "f0,f1,f2 = [1.1981724928285807e-10, 1.198172158031416e-10, 1.1981726504135233e-10]\n",
      "d01,d02,d12 = [1.0068938799298557, 1.00689387703287, 1.0068938790027493]\n"
     ]
    },
    {
     "name": "stderr",
     "output_type": "stream",
     "text": [
      "Progress:  96%|█████████▋| 963/1000 [4:00:05<10:36, 17.21s/it]"
     ]
    },
    {
     "name": "stdout",
     "output_type": "stream",
     "text": [
      "Time to: Calculate Ground State - 1.24s, Get Pauli Ops - 4.57s, Calculate Pauli Expectation Values - 7.91s, Calculate Covariance - 2.11s\n",
      "f0,f1,f2 = [1.4731225169326894e-09, 1.4731225472845476e-09, 1.4731225026548562e-09]\n",
      "d01,d02,d12 = [1.008215716780716, 1.0082157139345558, 1.0082157158699327]\n"
     ]
    },
    {
     "name": "stderr",
     "output_type": "stream",
     "text": [
      "Progress:  96%|█████████▋| 964/1000 [4:00:21<10:03, 16.76s/it]"
     ]
    },
    {
     "name": "stdout",
     "output_type": "stream",
     "text": [
      "Time to: Calculate Ground State - 1.17s, Get Pauli Ops - 4.74s, Calculate Pauli Expectation Values - 7.93s, Calculate Covariance - 1.85s\n",
      "f0,f1,f2 = [9.59728069871305e-10, 9.597281001276794e-10, 9.597280556250273e-10]\n",
      "d01,d02,d12 = [1.009004350923445, 1.0090043481491997, 1.0090043500357377]\n"
     ]
    },
    {
     "name": "stderr",
     "output_type": "stream",
     "text": [
      "Progress:  96%|█████████▋| 965/1000 [4:00:35<09:16, 15.90s/it]"
     ]
    },
    {
     "name": "stdout",
     "output_type": "stream",
     "text": [
      "Time to: Calculate Ground State - 1.04s, Get Pauli Ops - 5.1s, Calculate Pauli Expectation Values - 5.76s, Calculate Covariance - 1.99s\n",
      "f0,f1,f2 = [1.7155268566801175e-09, 1.7155268837467842e-09, 1.7155268439546336e-09]\n",
      "d01,d02,d12 = [1.0090391918667079, 1.0090391891825692, 1.009039191007896]\n"
     ]
    },
    {
     "name": "stderr",
     "output_type": "stream",
     "text": [
      "Progress:  97%|█████████▋| 966/1000 [4:00:51<09:02, 15.97s/it]"
     ]
    },
    {
     "name": "stdout",
     "output_type": "stream",
     "text": [
      "Time to: Calculate Ground State - 0.89s, Get Pauli Ops - 6.66s, Calculate Pauli Expectation Values - 6.35s, Calculate Covariance - 2.22s\n",
      "f0,f1,f2 = [1.47993035557641e-09, 1.4799303785913612e-09, 1.4799303447382983e-09]\n",
      "d01,d02,d12 = [1.008460297572908, 1.008460294994051, 1.0084602967478515]\n"
     ]
    },
    {
     "name": "stderr",
     "output_type": "stream",
     "text": [
      "/cluster/home/mskrabulis/miniconda3/envs/quantech/lib/python3.9/site-packages/pyscf/symm/Dmatrix.py:156: RuntimeWarning: invalid value encountered in arccos\n",
      "  gamma = numpy.arccos(yp.dot(c2[1]))\n",
      "Progress:  97%|█████████▋| 967/1000 [4:01:05<08:30, 15.47s/it]"
     ]
    },
    {
     "name": "stdout",
     "output_type": "stream",
     "text": [
      "Time to: Calculate Ground State - 1.14s, Get Pauli Ops - 4.67s, Calculate Pauli Expectation Values - 6.34s, Calculate Covariance - 2.15s\n",
      "f0,f1,f2 = [1.2030417005636846e-09, 1.2030417284156092e-09, 1.2030416874531155e-09]\n",
      "d01,d02,d12 = [1.007342826594639, 1.0073428241397766, 1.0073428258093242]\n"
     ]
    },
    {
     "name": "stderr",
     "output_type": "stream",
     "text": [
      "Progress:  97%|█████████▋| 968/1000 [4:01:19<07:57, 14.93s/it]"
     ]
    },
    {
     "name": "stdout",
     "output_type": "stream",
     "text": [
      "Time to: Calculate Ground State - 1.21s, Get Pauli Ops - 4.86s, Calculate Pauli Expectation Values - 5.8s, Calculate Covariance - 1.81s\n",
      "f0,f1,f2 = [1.1999335345776864e-09, 1.1999335582545089e-09, 1.1999335234398417e-09]\n",
      "d01,d02,d12 = [1.0055190410475232, 1.0055190387320876, 1.0055190403068879]\n"
     ]
    },
    {
     "name": "stderr",
     "output_type": "stream",
     "text": [
      "/cluster/home/mskrabulis/miniconda3/envs/quantech/lib/python3.9/site-packages/pyscf/symm/Dmatrix.py:156: RuntimeWarning: invalid value encountered in arccos\n",
      "  gamma = numpy.arccos(yp.dot(c2[1]))\n",
      "/cluster/home/mskrabulis/miniconda3/envs/quantech/lib/python3.9/site-packages/pyscf/symm/Dmatrix.py:156: RuntimeWarning: invalid value encountered in arccos\n",
      "  gamma = numpy.arccos(yp.dot(c2[1]))\n",
      "Progress:  97%|█████████▋| 969/1000 [4:01:33<07:29, 14.49s/it]"
     ]
    },
    {
     "name": "stdout",
     "output_type": "stream",
     "text": [
      "Time to: Calculate Ground State - 1.02s, Get Pauli Ops - 4.11s, Calculate Pauli Expectation Values - 6.3s, Calculate Covariance - 2.02s\n",
      "f0,f1,f2 = [1.1526093235239117e-09, 1.1526093472792667e-09, 1.152609312343759e-09]\n",
      "d01,d02,d12 = [1.0031368245649492, 1.003136822406606, 1.0031368238746456]\n"
     ]
    },
    {
     "name": "stderr",
     "output_type": "stream",
     "text": [
      "Progress:  97%|█████████▋| 970/1000 [4:01:46<07:08, 14.29s/it]"
     ]
    },
    {
     "name": "stdout",
     "output_type": "stream",
     "text": [
      "Time to: Calculate Ground State - 1.35s, Get Pauli Ops - 4.46s, Calculate Pauli Expectation Values - 6.08s, Calculate Covariance - 1.92s\n",
      "f0,f1,f2 = [1.8890803859313902e-10, 1.8890801660511787e-10, 1.8890804893263568e-10]\n",
      "d01,d02,d12 = [1.0007403953913008, 1.0007403934037233, 1.0007403947557014]\n"
     ]
    },
    {
     "name": "stderr",
     "output_type": "stream",
     "text": [
      "Progress:  97%|█████████▋| 971/1000 [4:02:02<07:06, 14.71s/it]"
     ]
    },
    {
     "name": "stdout",
     "output_type": "stream",
     "text": [
      "Time to: Calculate Ground State - 1.17s, Get Pauli Ops - 6.26s, Calculate Pauli Expectation Values - 6.28s, Calculate Covariance - 1.96s\n",
      "f0,f1,f2 = [1.3909617001375773e-09, 1.3909617188697654e-09, 1.3909616913353038e-09]\n",
      "d01,d02,d12 = [0.9977445625246534, 0.9977445607162665, 0.9977445619464536]\n"
     ]
    },
    {
     "name": "stderr",
     "output_type": "stream",
     "text": [
      "Progress:  97%|█████████▋| 972/1000 [4:02:17<06:52, 14.73s/it]"
     ]
    },
    {
     "name": "stdout",
     "output_type": "stream",
     "text": [
      "Time to: Calculate Ground State - 1.11s, Get Pauli Ops - 6.2s, Calculate Pauli Expectation Values - 5.58s, Calculate Covariance - 1.9s\n",
      "f0,f1,f2 = [1.0907983979687762e-09, 1.0907984161336474e-09, 1.0907983894204248e-09]\n",
      "d01,d02,d12 = [0.9941218336192033, 0.9941218320014312, 0.9941218331020566]\n"
     ]
    },
    {
     "name": "stderr",
     "output_type": "stream",
     "text": [
      "/cluster/home/mskrabulis/miniconda3/envs/quantech/lib/python3.9/site-packages/pyscf/symm/Dmatrix.py:156: RuntimeWarning: invalid value encountered in arccos\n",
      "  gamma = numpy.arccos(yp.dot(c2[1]))\n",
      "Progress:  97%|█████████▋| 973/1000 [4:02:33<06:47, 15.08s/it]"
     ]
    },
    {
     "name": "stdout",
     "output_type": "stream",
     "text": [
      "Time to: Calculate Ground State - 0.99s, Get Pauli Ops - 4.58s, Calculate Pauli Expectation Values - 8.41s, Calculate Covariance - 1.88s\n",
      "f0,f1,f2 = [5.265868887700481e-10, 5.265868710723363e-10, 5.265868970965262e-10]\n",
      "d01,d02,d12 = [0.9909387687533249, 0.9909387673387768, 0.9909387683012638]\n"
     ]
    },
    {
     "name": "stderr",
     "output_type": "stream",
     "text": [
      "Progress:  97%|█████████▋| 974/1000 [4:02:46<06:19, 14.59s/it]"
     ]
    },
    {
     "name": "stdout",
     "output_type": "stream",
     "text": [
      "Time to: Calculate Ground State - 0.99s, Get Pauli Ops - 4.68s, Calculate Pauli Expectation Values - 6.1s, Calculate Covariance - 1.69s\n",
      "f0,f1,f2 = [2.8382625939394956e-10, 2.8382627551300397e-10, 2.838262518146774e-10]\n",
      "d01,d02,d12 = [0.9877243799946693, 0.98772437879026, 0.9877243796099036]\n"
     ]
    },
    {
     "name": "stderr",
     "output_type": "stream",
     "text": [
      "Progress:  98%|█████████▊| 975/1000 [4:03:01<06:04, 14.57s/it]"
     ]
    },
    {
     "name": "stdout",
     "output_type": "stream",
     "text": [
      "Time to: Calculate Ground State - 0.79s, Get Pauli Ops - 6.16s, Calculate Pauli Expectation Values - 6.18s, Calculate Covariance - 1.39s\n",
      "f0,f1,f2 = [9.405498911550338e-11, 9.405497580375336e-11, 9.405499535607205e-11]\n",
      "d01,d02,d12 = [0.9848594194066731, 0.9848594184177797, 0.9848594190909195]\n"
     ]
    },
    {
     "name": "stderr",
     "output_type": "stream",
     "text": [
      "Progress:  98%|█████████▊| 976/1000 [4:03:18<06:07, 15.32s/it]"
     ]
    },
    {
     "name": "stdout",
     "output_type": "stream",
     "text": [
      "Time to: Calculate Ground State - 1.35s, Get Pauli Ops - 4.71s, Calculate Pauli Expectation Values - 8.84s, Calculate Covariance - 2.14s\n",
      "f0,f1,f2 = [9.669861297320796e-11, 9.669862534324819e-11, 9.669860717003043e-11]\n",
      "d01,d02,d12 = [0.9816356862022662, 0.9816356854362687, 0.9816356859578811]\n"
     ]
    },
    {
     "name": "stderr",
     "output_type": "stream",
     "text": [
      "/cluster/home/mskrabulis/miniconda3/envs/quantech/lib/python3.9/site-packages/pyscf/symm/Dmatrix.py:156: RuntimeWarning: invalid value encountered in arccos\n",
      "  gamma = numpy.arccos(yp.dot(c2[1]))\n",
      "Progress:  98%|█████████▊| 977/1000 [4:03:33<05:51, 15.30s/it]"
     ]
    },
    {
     "name": "stdout",
     "output_type": "stream",
     "text": [
      "Time to: Calculate Ground State - 1.07s, Get Pauli Ops - 4.38s, Calculate Pauli Expectation Values - 7.94s, Calculate Covariance - 1.87s\n",
      "f0,f1,f2 = [2.948003648605423e-10, 2.948003566653277e-10, 2.9480036870245435e-10]\n",
      "d01,d02,d12 = [0.9786902261621132, 0.9786902256233164, 0.9786902259904692]\n"
     ]
    },
    {
     "name": "stderr",
     "output_type": "stream",
     "text": [
      "Progress:  98%|█████████▊| 978/1000 [4:03:46<05:24, 14.75s/it]"
     ]
    },
    {
     "name": "stdout",
     "output_type": "stream",
     "text": [
      "Time to: Calculate Ground State - 0.97s, Get Pauli Ops - 4.29s, Calculate Pauli Expectation Values - 6.39s, Calculate Covariance - 1.81s\n",
      "f0,f1,f2 = [5.582622031538583e-10, 5.582621971319527e-10, 5.582622059763132e-10]\n",
      "d01,d02,d12 = [0.9762593221407215, 0.9762593218324965, 0.9762593220428919]\n"
     ]
    },
    {
     "name": "stderr",
     "output_type": "stream",
     "text": [
      "Progress:  98%|█████████▊| 979/1000 [4:04:01<05:10, 14.79s/it]"
     ]
    },
    {
     "name": "stdout",
     "output_type": "stream",
     "text": [
      "Time to: Calculate Ground State - 0.92s, Get Pauli Ops - 4.61s, Calculate Pauli Expectation Values - 7.0s, Calculate Covariance - 2.34s\n",
      "f0,f1,f2 = [3.850582115573151e-10, 3.850582083881937e-10, 3.850582130155936e-10]\n",
      "d01,d02,d12 = [0.9738483807311532, 0.9738483806560713, 0.9738483807079487]\n"
     ]
    },
    {
     "name": "stderr",
     "output_type": "stream",
     "text": [
      "/cluster/home/mskrabulis/miniconda3/envs/quantech/lib/python3.9/site-packages/pyscf/symm/Dmatrix.py:156: RuntimeWarning: invalid value encountered in arccos\n",
      "  gamma = numpy.arccos(yp.dot(c2[1]))\n",
      "Progress:  98%|█████████▊| 980/1000 [4:04:17<04:59, 14.97s/it]"
     ]
    },
    {
     "name": "stdout",
     "output_type": "stream",
     "text": [
      "Time to: Calculate Ground State - 1.04s, Get Pauli Ops - 4.84s, Calculate Pauli Expectation Values - 7.52s, Calculate Covariance - 1.99s\n",
      "f0,f1,f2 = [4.065909231033762e-10, 4.0659092213811847e-10, 4.065909235216176e-10]\n",
      "d01,d02,d12 = [0.971641261362808, 0.9716412615214509, 0.9716412614144103]\n"
     ]
    },
    {
     "name": "stderr",
     "output_type": "stream",
     "text": [
      "/cluster/home/mskrabulis/miniconda3/envs/quantech/lib/python3.9/site-packages/pyscf/symm/Dmatrix.py:156: RuntimeWarning: invalid value encountered in arccos\n",
      "  gamma = numpy.arccos(yp.dot(c2[1]))\n",
      "Progress:  98%|█████████▊| 981/1000 [4:04:30<04:33, 14.42s/it]"
     ]
    },
    {
     "name": "stdout",
     "output_type": "stream",
     "text": [
      "Time to: Calculate Ground State - 1.05s, Get Pauli Ops - 4.44s, Calculate Pauli Expectation Values - 5.71s, Calculate Covariance - 1.93s\n",
      "f0,f1,f2 = [9.842193172736673e-10, 9.842193191795018e-10, 9.842193163608017e-10]\n",
      "d01,d02,d12 = [0.9699022895825853, 0.9699022899739678, 0.9699022897086752]\n"
     ]
    },
    {
     "name": "stderr",
     "output_type": "stream",
     "text": [
      "/cluster/home/mskrabulis/miniconda3/envs/quantech/lib/python3.9/site-packages/pyscf/symm/Dmatrix.py:156: RuntimeWarning: invalid value encountered in arccos\n",
      "  gamma = numpy.arccos(yp.dot(c2[1]))\n",
      "Progress:  98%|█████████▊| 982/1000 [4:04:44<04:15, 14.18s/it]"
     ]
    },
    {
     "name": "stdout",
     "output_type": "stream",
     "text": [
      "Time to: Calculate Ground State - 0.99s, Get Pauli Ops - 4.02s, Calculate Pauli Expectation Values - 6.44s, Calculate Covariance - 2.17s\n",
      "f0,f1,f2 = [3.763142258563492e-10, 3.7631423058774387e-10, 3.763142235918826e-10]\n",
      "d01,d02,d12 = [0.9684169580633579, 0.9684169586843175, 0.968416958262916]\n"
     ]
    },
    {
     "name": "stderr",
     "output_type": "stream",
     "text": [
      "Progress:  98%|█████████▊| 983/1000 [4:04:56<03:53, 13.72s/it]"
     ]
    },
    {
     "name": "stdout",
     "output_type": "stream",
     "text": [
      "Time to: Calculate Ground State - 0.95s, Get Pauli Ops - 3.69s, Calculate Pauli Expectation Values - 5.87s, Calculate Covariance - 2.13s\n",
      "f0,f1,f2 = [1.7724305324833957e-10, 1.7724305996972243e-10, 1.7724305004920822e-10]\n",
      "d01,d02,d12 = [0.9669466703600896, 0.9669466712063997, 0.9669466706317535]\n"
     ]
    },
    {
     "name": "stderr",
     "output_type": "stream",
     "text": [
      "Progress:  98%|█████████▊| 984/1000 [4:05:10<03:39, 13.70s/it]"
     ]
    },
    {
     "name": "stdout",
     "output_type": "stream",
     "text": [
      "Time to: Calculate Ground State - 1.15s, Get Pauli Ops - 5.14s, Calculate Pauli Expectation Values - 5.94s, Calculate Covariance - 1.4s\n",
      "f0,f1,f2 = [6.038505016168645e-10, 6.03850511813247e-10, 6.03850496810264e-10]\n",
      "d01,d02,d12 = [0.9656182837542828, 0.9656182848183985, 0.9656182840956312]\n"
     ]
    },
    {
     "name": "stderr",
     "output_type": "stream",
     "text": [
      "/cluster/home/mskrabulis/miniconda3/envs/quantech/lib/python3.9/site-packages/pyscf/symm/Dmatrix.py:156: RuntimeWarning: invalid value encountered in arccos\n",
      "  gamma = numpy.arccos(yp.dot(c2[1]))\n",
      "Progress:  98%|█████████▊| 985/1000 [4:05:22<03:20, 13.38s/it]"
     ]
    },
    {
     "name": "stdout",
     "output_type": "stream",
     "text": [
      "Time to: Calculate Ground State - 1.0s, Get Pauli Ops - 4.55s, Calculate Pauli Expectation Values - 5.66s, Calculate Covariance - 1.42s\n",
      "f0,f1,f2 = [4.721141205204048e-10, 4.721141339555713e-10, 4.721141141508233e-10]\n",
      "d01,d02,d12 = [0.9644824204447007, 0.9644824217186009, 0.9644824208531579]\n"
     ]
    },
    {
     "name": "stderr",
     "output_type": "stream",
     "text": [
      "Progress:  99%|█████████▊| 986/1000 [4:05:36<03:08, 13.48s/it]"
     ]
    },
    {
     "name": "stdout",
     "output_type": "stream",
     "text": [
      "Time to: Calculate Ground State - 1.2s, Get Pauli Ops - 4.66s, Calculate Pauli Expectation Values - 6.18s, Calculate Covariance - 1.66s\n",
      "f0,f1,f2 = [1.4729093525275577e-09, 1.472909369915196e-09, 1.4729093443120574e-09]\n",
      "d01,d02,d12 = [0.9639727895511367, 0.963972791025041, 0.9639727900235604]\n"
     ]
    },
    {
     "name": "stderr",
     "output_type": "stream",
     "text": [
      "Progress:  99%|█████████▊| 987/1000 [4:05:51<02:59, 13.83s/it]"
     ]
    },
    {
     "name": "stdout",
     "output_type": "stream",
     "text": [
      "Time to: Calculate Ground State - 1.14s, Get Pauli Ops - 4.67s, Calculate Pauli Expectation Values - 6.65s, Calculate Covariance - 2.17s\n",
      "f0,f1,f2 = [1.1413066150563887e-09, 1.1413066346001294e-09, 1.1413066058354002e-09]\n",
      "d01,d02,d12 = [0.9639516875971677, 0.9639516892586177, 0.9639516881295612]\n"
     ]
    },
    {
     "name": "stderr",
     "output_type": "stream",
     "text": [
      "Progress:  99%|█████████▉| 988/1000 [4:06:05<02:46, 13.84s/it]"
     ]
    },
    {
     "name": "stdout",
     "output_type": "stream",
     "text": [
      "Time to: Calculate Ground State - 1.2s, Get Pauli Ops - 4.66s, Calculate Pauli Expectation Values - 5.85s, Calculate Covariance - 2.15s\n",
      "f0,f1,f2 = [1.0263152803155883e-09, 1.0263152991946445e-09, 1.0263152714078505e-09]\n",
      "d01,d02,d12 = [0.9643549116746455, 0.9643549135125916, 0.9643549122634668]\n"
     ]
    },
    {
     "name": "stderr",
     "output_type": "stream",
     "text": [
      "Progress:  99%|█████████▉| 989/1000 [4:06:21<02:41, 14.70s/it]"
     ]
    },
    {
     "name": "stdout",
     "output_type": "stream",
     "text": [
      "Time to: Calculate Ground State - 1.29s, Get Pauli Ops - 4.74s, Calculate Pauli Expectation Values - 8.35s, Calculate Covariance - 2.33s\n",
      "f0,f1,f2 = [1.3179495319412646e-09, 1.3179495539554328e-09, 1.317949521584413e-09]\n",
      "d01,d02,d12 = [0.9652694374981335, 0.9652694395001393, 0.9652694381394014]\n"
     ]
    },
    {
     "name": "stderr",
     "output_type": "stream",
     "text": [
      "Progress:  99%|█████████▉| 990/1000 [4:06:35<02:24, 14.43s/it]"
     ]
    },
    {
     "name": "stdout",
     "output_type": "stream",
     "text": [
      "Time to: Calculate Ground State - 0.75s, Get Pauli Ops - 4.68s, Calculate Pauli Expectation Values - 6.14s, Calculate Covariance - 2.21s\n",
      "f0,f1,f2 = [8.179617014105868e-10, 8.179617241824655e-10, 8.179616906811555e-10]\n",
      "d01,d02,d12 = [0.9665900699445372, 0.9665900720970868, 0.9665900706339247]\n"
     ]
    },
    {
     "name": "stderr",
     "output_type": "stream",
     "text": [
      "Progress:  99%|█████████▉| 991/1000 [4:06:51<02:12, 14.75s/it]"
     ]
    },
    {
     "name": "stdout",
     "output_type": "stream",
     "text": [
      "Time to: Calculate Ground State - 1.3s, Get Pauli Ops - 5.2s, Calculate Pauli Expectation Values - 6.9s, Calculate Covariance - 2.1s\n",
      "f0,f1,f2 = [1.091201290663793e-09, 1.0912013159242303e-09, 1.0912012787774207e-09]\n",
      "d01,d02,d12 = [0.968251729311296, 0.9682517316006568, 0.9682517300444069]\n"
     ]
    },
    {
     "name": "stderr",
     "output_type": "stream",
     "text": [
      "Progress:  99%|█████████▉| 992/1000 [4:07:04<01:55, 14.43s/it]"
     ]
    },
    {
     "name": "stdout",
     "output_type": "stream",
     "text": [
      "Time to: Calculate Ground State - 1.28s, Get Pauli Ops - 4.08s, Calculate Pauli Expectation Values - 6.53s, Calculate Covariance - 1.8s\n",
      "f0,f1,f2 = [7.69432832074264e-10, 7.694328611546752e-10, 7.694328183792607e-10]\n",
      "d01,d02,d12 = [0.9700828932234205, 0.9700828956319678, 0.9700828939946086]\n"
     ]
    },
    {
     "name": "stderr",
     "output_type": "stream",
     "text": [
      "/cluster/home/mskrabulis/miniconda3/envs/quantech/lib/python3.9/site-packages/pyscf/symm/Dmatrix.py:156: RuntimeWarning: invalid value encountered in arccos\n",
      "  gamma = numpy.arccos(yp.dot(c2[1]))\n",
      "Progress:  99%|█████████▉| 993/1000 [4:07:19<01:41, 14.45s/it]"
     ]
    },
    {
     "name": "stdout",
     "output_type": "stream",
     "text": [
      "Time to: Calculate Ground State - 1.27s, Get Pauli Ops - 4.7s, Calculate Pauli Expectation Values - 6.45s, Calculate Covariance - 2.06s\n",
      "f0,f1,f2 = [1.3790531614728428e-09, 1.3790531904721971e-09, 1.3790531478232133e-09]\n",
      "d01,d02,d12 = [0.972448095174004, 0.9724480976905008, 0.9724480959796714]\n"
     ]
    },
    {
     "name": "stderr",
     "output_type": "stream",
     "text": [
      "Progress:  99%|█████████▉| 994/1000 [4:07:32<01:24, 14.08s/it]"
     ]
    },
    {
     "name": "stdout",
     "output_type": "stream",
     "text": [
      "Time to: Calculate Ground State - 0.99s, Get Pauli Ops - 4.1s, Calculate Pauli Expectation Values - 6.2s, Calculate Covariance - 1.94s\n",
      "f0,f1,f2 = [2.610484455708046e-10, 2.61048473502777e-10, 2.6104843241405975e-10]\n",
      "d01,d02,d12 = [0.9748750365446751, 0.9748750391507188, 0.9748750373789261]\n"
     ]
    },
    {
     "name": "stderr",
     "output_type": "stream",
     "text": [
      "Progress: 100%|█████████▉| 995/1000 [4:07:48<01:13, 14.62s/it]"
     ]
    },
    {
     "name": "stdout",
     "output_type": "stream",
     "text": [
      "Time to: Calculate Ground State - 1.31s, Get Pauli Ops - 4.08s, Calculate Pauli Expectation Values - 8.41s, Calculate Covariance - 2.07s\n",
      "f0,f1,f2 = [7.122905556747269e-10, 7.122905838093207e-10, 7.122905424116567e-10]\n",
      "d01,d02,d12 = [0.9774618222099194, 0.9774618248861556, 0.9774618230665569]\n"
     ]
    },
    {
     "name": "stderr",
     "output_type": "stream",
     "text": [
      "Progress: 100%|█████████▉| 996/1000 [4:08:02<00:57, 14.41s/it]"
     ]
    },
    {
     "name": "stdout",
     "output_type": "stream",
     "text": [
      "Time to: Calculate Ground State - 1.01s, Get Pauli Ops - 4.83s, Calculate Pauli Expectation Values - 6.1s, Calculate Covariance - 1.97s\n",
      "f0,f1,f2 = [3.122138031591009e-10, 3.122138332572811e-10, 3.1221378897675895e-10]\n",
      "d01,d02,d12 = [0.9802360015487634, 0.9802360042760346, 0.9802360024216514]\n"
     ]
    },
    {
     "name": "stderr",
     "output_type": "stream",
     "text": [
      "Progress: 100%|█████████▉| 997/1000 [4:08:16<00:43, 14.39s/it]"
     ]
    },
    {
     "name": "stdout",
     "output_type": "stream",
     "text": [
      "Time to: Calculate Ground State - 1.3s, Get Pauli Ops - 4.9s, Calculate Pauli Expectation Values - 6.03s, Calculate Covariance - 2.11s\n",
      "f0,f1,f2 = [2.1633198544596336e-10, 2.163319538954389e-10, 2.1633200028147223e-10]\n",
      "d01,d02,d12 = [0.9829191098641383, 0.9829191126262161, 0.982919110748085]\n"
     ]
    },
    {
     "name": "stderr",
     "output_type": "stream",
     "text": [
      "/cluster/home/mskrabulis/miniconda3/envs/quantech/lib/python3.9/site-packages/pyscf/symm/Dmatrix.py:156: RuntimeWarning: invalid value encountered in arccos\n",
      "  gamma = numpy.arccos(yp.dot(c2[1]))\n",
      "Progress: 100%|█████████▉| 998/1000 [4:08:30<00:28, 14.24s/it]"
     ]
    },
    {
     "name": "stdout",
     "output_type": "stream",
     "text": [
      "Time to: Calculate Ground State - 1.0s, Get Pauli Ops - 4.74s, Calculate Pauli Expectation Values - 5.81s, Calculate Covariance - 2.32s\n",
      "f0,f1,f2 = [9.460291207578156e-10, 9.460291540889736e-10, 9.460291050765348e-10]\n",
      "d01,d02,d12 = [0.9859664145959918, 0.985966417369372, 0.9859664154834746]\n"
     ]
    },
    {
     "name": "stderr",
     "output_type": "stream",
     "text": [
      "Progress: 100%|█████████▉| 999/1000 [4:08:50<00:15, 15.87s/it]"
     ]
    },
    {
     "name": "stdout",
     "output_type": "stream",
     "text": [
      "Time to: Calculate Ground State - 1.3s, Get Pauli Ops - 4.87s, Calculate Pauli Expectation Values - 11.2s, Calculate Covariance - 2.29s\n",
      "f0,f1,f2 = [2.2067588786494024e-10, 2.2067585699321364e-10, 2.2067590238993897e-10]\n",
      "d01,d02,d12 = [0.9888493874407359, 0.9888493902058476, 0.9888493883254915]\n"
     ]
    },
    {
     "name": "stderr",
     "output_type": "stream",
     "text": [
      "Progress: 100%|██████████| 1000/1000 [4:09:05<00:00, 14.95s/it]"
     ]
    },
    {
     "name": "stdout",
     "output_type": "stream",
     "text": [
      "Time to: Calculate Ground State - 1.08s, Get Pauli Ops - 5.19s, Calculate Pauli Expectation Values - 6.51s, Calculate Covariance - 2.07s\n",
      "f0,f1,f2 = [2.6707734394176777e-10, 2.6707731572741126e-10, 2.6707735721642076e-10]\n",
      "d01,d02,d12 = [0.9912974828673401, 0.991297485606709, 0.9912974837437764]\n"
     ]
    },
    {
     "name": "stderr",
     "output_type": "stream",
     "text": [
      "\n"
     ]
    },
    {
     "data": {
      "image/png": "[encoded data removed]",
      "text/plain": [
       "<Figure size 640x480 with 1 Axes>"
      ]
     },
     "metadata": {},
     "output_type": "display_data"
    }
   ],
   "source": [
    "from matplotlib import pyplot as plt\n",
    "(distance01,distance02,distance12,times) = main()\n",
    "\n",
    "np_distance01 = np.array(distance01)\n",
    "np_distance02 = np.array(distance02)\n",
    "np_distance12 = np.array(distance12)\n",
    "\n",
    "plt.plot(times,np_distance01[:-1],label = 'd01')\n",
    "plt.plot(times,np_distance02[:-1],label = 'd02')\n",
    "plt.plot(times,np_distance12[:-1],label = 'd12')\n",
    "\n",
    "plt.title('Distances at time t')\n",
    "plt.xlabel('Time')\n",
    "plt.ylabel('Distance')\n",
    "plt.legend()\n",
    "plt.show()"
   ]
  },
  {
   "cell_type": "code",
   "execution_count": null,
   "id": "885910be",
   "metadata": {},
   "outputs": [],
   "source": []
  }
 ],
 "metadata": {
  "kernelspec": {
   "display_name": "Python 3 (ipykernel)",
   "language": "python",
   "name": "python3"
  },
  "language_info": {
   "codemirror_mode": {
    "name": "ipython",
    "version": 3
   },
   "file_extension": ".py",
   "mimetype": "text/x-python",
   "name": "python",
   "nbconvert_exporter": "python",
   "pygments_lexer": "ipython3",
   "version": "3.9.15"
  }
 },
 "nbformat": 4,
 "nbformat_minor": 5
}
