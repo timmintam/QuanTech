{
 "cells": [
  {
   "cell_type": "code",
   "execution_count": 1,
   "id": "fbc296ce",
   "metadata": {},
   "outputs": [],
   "source": [
    "import numpy as np\n",
    "import matplotlib.pyplot as plt\n",
    "\n",
    "from pyscf import ao2mo,gto, scf\n",
    "\n",
    "from typing import Tuple\n",
    "\n",
    "\n",
    "# qiskit\n",
    "from qiskit.algorithms import VQE\n",
    "from qiskit.algorithms.optimizers import COBYLA, SPSA, SLSQP, NELDER_MEAD\n",
    "from qiskit.algorithms import MinimumEigensolverResult\n",
    "\n",
    "from qiskit import IBMQ, BasicAer, Aer\n",
    "from qiskit.utils import QuantumInstance\n",
    "from qiskit.quantum_info.operators import Operator\n",
    "from qiskit.opflow import PauliExpectation, CircuitSampler, StateFn, CircuitStateFn\n",
    "from qiskit.opflow.primitive_ops import PauliOp, PauliSumOp\n",
    "from qiskit.quantum_info import Pauli, SparsePauliOp\n",
    "\n",
    "# qiskit nature\n",
    "from qiskit_nature.second_q.hamiltonians import ElectronicEnergy\n",
    "from qiskit_nature.second_q.mappers import ParityMapper, QubitConverter\n",
    "from qiskit_nature.second_q.problems import ElectronicStructureProblem\n",
    "from qiskit_nature.second_q.operators import FermionicOp\n",
    "from qiskit_nature.second_q.properties import ParticleNumber\n",
    "from qiskit_nature.second_q.transformers import FreezeCoreTransformer\n",
    "from qiskit_nature.second_q.circuit.library import UCCSD, HartreeFock\n",
    "from qiskit_nature.second_q.problems import ElectronicBasis\n",
    "from qiskit_nature.second_q.formats.molecule_info import MoleculeInfo\n",
    "from qiskit_nature.drivers import Molecule\n",
    "from qiskit_nature.drivers.second_quantization import (\n",
    "    ElectronicStructureMoleculeDriver, ElectronicStructureDriverType)\n",
    "\n",
    "from qiskit_nature.settings import settings\n",
    "settings.dict_aux_operators = True\n",
    "\n",
    "#from qiskit import IBMQ\n",
    "#from qiskit_nature.runtime import VQEClient\n",
    "#from qiskit.providers.ibmq import least_busy\n",
    "#from qiskit_ibm_runtime import QiskitRuntimeService, Estimator, Session\n",
    "\n",
    "# useful??\n",
    "#from qiskit_nature.algorithms import (GroundStateEigensolver,\n",
    "#                                      NumPyMinimumEigensolverFactory)\n",
    "from qiskit.circuit.library import EfficientSU2\n",
    "from qiskit.circuit.library import RealAmplitudes\n",
    "from qiskit.utils.mitigation import CompleteMeasFitter\n",
    "from qiskit.providers.aer.noise import NoiseModel\n",
    "from qiskit.providers.aer import QasmSimulator\n",
    "from qiskit import QuantumCircuit, transpile\n",
    "from qiskit.opflow import TwoQubitReduction\n",
    "\n",
    "def get_molecular_integrals(molecule):\n",
    "    '''\n",
    "    Calculates the 1-electron and 2-electron integrals.\n",
    "    \n",
    "    Args:   \n",
    "        molecule : Mole \n",
    "            Ccorresponds to the molecule.\n",
    "            \n",
    "    Returns:\n",
    "        h1_MO : ndarray\n",
    "                Tensor corresponding to the 1-electron integral in the molecular basis.\n",
    "        \n",
    "        h2_MO : ndarray\n",
    "                Tensor corresponding to the 2-electron integral in the molecular basis.\n",
    "\n",
    "        n_particles: Tuple[int, int]\n",
    "            Number of alpha and beta electrons.\n",
    "        \n",
    "        num_orb : int \n",
    "            Number of orbitals.\n",
    "\n",
    "        nuclear_repulsion_energy : float\n",
    "            Nuclear repulsion energy.\n",
    "    '''\n",
    "    \n",
    "    mf = scf.RHF(molecule).run()\n",
    "\n",
    "    # computing the 1e and 2e AO (atomic orbitals) integrals \n",
    "    h1 = molecule.intor_symmetric(\"int1e_nuc\") + molecule.intor_symmetric(\"int1e_kin\") \n",
    "    h2 = molecule.intor(\"int2e\")\n",
    "    # comment : add aosym (axis of symmetry) ???\n",
    "\n",
    "    # transformations from AO to MO (molecular orbitals)\n",
    "    h1_MO = np.einsum('pi,pq,qj->ij', mf.mo_coeff, h1, mf.mo_coeff)\n",
    "    h2_MO = ao2mo.get_mo_eri(h2, mf.mo_coeff)\n",
    "\n",
    "    #h2_MO = ao2mo.kernel(mol_h2, mf.mo_coeff, aosym=\"1\") #alternative\n",
    "\n",
    "    nuclear_repulsion_energy=molecule.energy_nuc()\n",
    "    num_particles = molecule.nelec\n",
    "    num_orb = h1.shape[0]\n",
    "\n",
    "    return h1_MO, h2_MO, num_particles, num_orb, nuclear_repulsion_energy\n",
    "\n",
    "\n",
    "def get_qubit_op(coordinates):\n",
    "    '''\n",
    "    Calculates the Hamiltonian as the sum of Pauli operators as a function\n",
    "    of the coordinates of the atoms.\n",
    "    \n",
    "    Args:\n",
    "        coordinates : ndarray\n",
    "            Array containing the positions of the atoms constituing the molecule.\n",
    "        \n",
    "    \n",
    "    Returns:\n",
    "        qubit_op : PauliSumOp\n",
    "            Sum of Pauli operators corresponding to the Hamiltonian.\n",
    "        \n",
    "        nelec : Tuple[int, int]\n",
    "            Number of alpha and beta electrons.\n",
    "        \n",
    "        norb : int \n",
    "            Number of orbitals.\n",
    "            \n",
    "        problem : ElectronicStructureProblem\n",
    "        \n",
    "        converter : QubitConverter\n",
    "    '''\n",
    "    \n",
    "    mol = gto.M(\n",
    "                atom = [['H',(coordinates[0], coordinates[1], 0.0)], \n",
    "                        ['H',(coordinates[2], coordinates[3], 0.0)],\n",
    "                        ['H',(coordinates[4], coordinates[5], 0.0)]],\n",
    "                basis = 'sto3g',\n",
    "                charge = 1,\n",
    "                spin = 0,\n",
    "                symmetry = True,\n",
    "                verbose = 2 # control the print level of PySCF globally\n",
    "    )\n",
    "\n",
    "    h1_MO,h2_MO,nelec,norb,ecore = get_molecular_integrals(mol)\n",
    "\n",
    "    # Define an ElectronicEnergy instance containing the 1e and 2e integrals\n",
    "    electronic_energy = ElectronicEnergy.from_raw_integrals(\n",
    "            h1_MO, ao2mo.restore(1, h2_MO, norb)\n",
    "        )\n",
    "    electronic_energy.nuclear_repulsion_energy = ecore\n",
    "\n",
    "    # Define an ElectronicStructureProblem\n",
    "    problem = ElectronicStructureProblem(electronic_energy)\n",
    "\n",
    "    second_q_ops = problem.second_q_ops()     # get second quantized operators\n",
    "    problem.num_spatial_orbitals = norb  # define number of orbitals\n",
    "    problem.num_particles = nelec        # define number of particles \n",
    "    \n",
    "    problem.basis = ElectronicBasis.MO \n",
    "    \n",
    "    problem.molecule=MoleculeInfo(symbols=[mol.atom_symbol(i) for i in range(mol.nbas)], \n",
    "                                  coords=mol.atom_coords())\n",
    "    FC_transformer=FreezeCoreTransformer(freeze_core=True)\n",
    "    problem = FC_transformer.transform(problem)\n",
    "    \n",
    "    # TODO we need to give info about the molecule to use FreezeCoreTransformer \n",
    "    # question : how to do it in a smart way ? at the initialization ??\n",
    "    \n",
    "    hamiltonian = second_q_ops[0]  # Set electronic part of Hamiltonian\n",
    "    hamiltonian = (hamiltonian + FermionicOp({\"\": ecore}, num_spin_orbitals=norb)) # add Nuclear Repulsion Energy\n",
    "    #print(\"Hamiltonian :\\n\", hamiltonian) # print for checking purposes\n",
    "    \n",
    "    mapper = ParityMapper()  # Set Mapper\n",
    "    \n",
    "    # Do two qubit reduction\n",
    "    converter = QubitConverter(mapper,two_qubit_reduction=True)\n",
    "    qubit_op = converter.convert(hamiltonian, nelec)\n",
    "    #print(\"q_op :\\n\", qubit_op) # print for checking purposes\n",
    "    \n",
    "\n",
    "    return qubit_op, nelec, norb, problem, converter\n",
    "\n",
    "def calc_ground_state(qubit_op,nelec,norb,problem,converter) :\n",
    "    '''\n",
    "    Calculates the ground state and the ground energy of the Hamiltonian.\n",
    "    \n",
    "    Args:\n",
    "        qubit_op : PauliSumOp\n",
    "            Sum of Pauli operators corresponding to the Hamiltonian.\n",
    "        \n",
    "        nelec : Tuple[int, int]\n",
    "            Number of alpha and beta electrons.\n",
    "        \n",
    "        norb : int \n",
    "            Number of orbitals.\n",
    "            \n",
    "        problem : ElectronicStructureProblem\n",
    "        \n",
    "        converter : QubitConverter\n",
    "        \n",
    "    \n",
    "    Returns:\n",
    "        ground_state : CircuitStateFn\n",
    "            Ground state of the Hamiltonian.\n",
    "            \n",
    "        min_eng : float\n",
    "            Ground energy of the Hamiltonian.\n",
    "    '''\n",
    "\n",
    "    backend = BasicAer.get_backend(\"statevector_simulator\")\n",
    "    quantum_instance = QuantumInstance(backend)\n",
    "    optimizer = SLSQP(maxiter=400)\n",
    "\n",
    "    init_state = HartreeFock(num_spatial_orbitals=norb, \n",
    "                                num_particles=nelec, \n",
    "                                qubit_converter=converter\n",
    "                            )\n",
    "    \n",
    "    var_form = UCCSD(qubit_converter=converter,\n",
    "                        num_particles=nelec,\n",
    "                        num_spatial_orbitals=norb, \n",
    "                        initial_state=init_state\n",
    "                        )\n",
    "\n",
    "    vqe = VQE(var_form, optimizer, quantum_instance=quantum_instance) \n",
    "    vqe_result = vqe.compute_minimum_eigenvalue(qubit_op)\n",
    "    min_eng = vqe_result.eigenvalue.real\n",
    "    final_params = vqe_result.optimal_parameters \n",
    "\n",
    "    vqe_ground = vqe.ansatz.bind_parameters(final_params) \n",
    "#     vqe_ground_state = CircuitStateFn(vqe_ground)\n",
    "    \n",
    "    return vqe_ground, min_eng"
   ]
  },
  {
   "cell_type": "code",
   "execution_count": 2,
   "id": "3f5daa79",
   "metadata": {},
   "outputs": [],
   "source": [
    "Ha = 4.36e-18\n",
    "angst = 1.0e-10\n",
    "dR = 0.01 #removed the angst, since coordinates are given in angst\n",
    "\n",
    "\n",
    "from qiskit.opflow import I, X, Y, Z\n",
    "from qiskit.opflow.primitive_ops import PauliOp\n",
    "from qiskit.quantum_info import Pauli\n",
    "#from hamiltonian import calc_ground_state, get_qubit_op\n",
    "import numpy as np\n",
    "from qiskit.utils import QuantumInstance\n",
    "from qiskit.opflow import PauliExpectation, CircuitSampler, StateFn, CircuitStateFn\n",
    "from qiskit import IBMQ, BasicAer, Aer\n",
    "\n",
    "import time #to see which part of code takes the longest\n",
    "import multiprocessing\n",
    "\n",
    "\n",
    "#calculate centre of mass (currently for equal particle masses)\n",
    "def calc_COM(coordinates):\n",
    "    #print(coordinates)\n",
    "    r_array = np.array_split(coordinates,3)\n",
    "    COM = (r_array[0] + r_array[1] + r_array[2])/3\n",
    "    \n",
    "    return COM\n",
    "\n",
    "#task to calculate expectation value\n",
    "def task1(string, q_instance, psi_0):\n",
    "\n",
    "    Obs = PauliOp(Pauli(string))\n",
    "    measurable_expression = StateFn(Obs, is_measurement=True).compose(psi_0)\n",
    "    expectation = PauliExpectation().convert(measurable_expression)  \n",
    "    sampler = CircuitSampler(q_instance).convert(expectation) \n",
    "    E = sampler.eval().real\n",
    "        \n",
    "    return E\n",
    "\n",
    "#task to calculate operator from coordinates\n",
    "def task2(coordinates):\n",
    "    \n",
    "    #get qubit operators coresponding to H+ (hamiltonian for atomic distances R + dR)\n",
    "    (qubit_op_plus, num_part_plus, num_orb_plus, problem_plus, converter_plus) = get_qubit_op(coordinates[0])\n",
    "    #get qubit operators coresponding to H- (hamiltonian for atomic distances R - dR)\n",
    "    (qubit_op_minus, num_part_minus, num_orb_minus, problem_minus, converter_minus) = get_qubit_op(coordinates[1])\n",
    "        \n",
    "    qubit_op_plus = qubit_op_plus #TODO:number of I's needs to be changed according to number of qubits\n",
    "    qubit_op_minus = qubit_op_minus\n",
    "       \n",
    "    #op =  (-(qubit_op_plus - qubit_op_minus)).reduce()\n",
    "    op =  -(qubit_op_plus - qubit_op_minus)\n",
    "\n",
    "                    \n",
    "    op_list = op.primitive.to_list() #list containing Pauli operators in support and corresponding coeffs\n",
    "    #print(op_list)    \n",
    "    #construct dict from list\n",
    "    op_dict = {}\n",
    "    for (PauliString,coeff) in op_list:\n",
    "\n",
    "        if PauliString in op_dict:\n",
    "            op_dict[PauliString] += coeff\n",
    "        else:\n",
    "            op_dict[PauliString] = coeff\n",
    "    \n",
    "    return op, op_dict\n",
    " \n",
    "def parallel_operators(coordinates,basis_set):\n",
    "    \n",
    "    \n",
    "    coordinate_list = []\n",
    "    \n",
    "    v0_normed = basis_set[0]\n",
    "    v0_orth = basis_set[1]\n",
    "    \n",
    "    v1_normed = basis_set[2]\n",
    "    v1_orth = basis_set[3]\n",
    "\n",
    "    v2_normed = basis_set[4]\n",
    "    v2_orth = basis_set[5]\n",
    "    \n",
    "    displ_coords_0_a = np.array([v0_normed[0]*dR,v0_normed[1]*dR,0,0,0,0])\n",
    "    displ_coords_0_b = np.array([v0_orth[0]*dR,v0_orth[1]*dR,0,0,0,0])\n",
    "    displ_coords_1_a = np.array([0,0,v1_normed[0]*dR,v1_normed[1]*dR,0,0])\n",
    "    displ_coords_1_b = np.array([0,0,v1_orth[0]*dR,v1_orth[1]*dR,0,0])\n",
    "    displ_coords_2_a = np.array([0,0,0,0,v2_normed[0]*dR,v2_normed[1]*dR])\n",
    "    displ_coords_2_b = np.array([0,0,0,0,v2_orth[0]*dR,v2_orth[1]*dR])\n",
    "    #print(displ_coords_0_a)\n",
    "    #print(displ_coords_0_b)\n",
    "    #print(displ_coords_1_a)\n",
    "    #print(displ_coords_1_b)\n",
    "    #print(displ_coords_2_a)\n",
    "    #print(displ_coords_2_b)\n",
    "\n",
    "    coordinate_list.append([coordinates + displ_coords_0_a,coordinates - displ_coords_0_a])\n",
    "    coordinate_list.append([coordinates + displ_coords_0_b,coordinates - displ_coords_0_b])\n",
    "    coordinate_list.append([coordinates + displ_coords_1_a,coordinates - displ_coords_1_a])\n",
    "    coordinate_list.append([coordinates + displ_coords_1_b,coordinates - displ_coords_1_b])\n",
    "    coordinate_list.append([coordinates + displ_coords_2_a,coordinates - displ_coords_2_a])\n",
    "    coordinate_list.append([coordinates + displ_coords_2_b,coordinates - displ_coords_2_b])\n",
    "    \n",
    "    #dR_list = v0_normed.tolist() + v1_normed.tolist() + v2_normed.tolist()\n",
    "    \n",
    "    dR_list = [dR,dR,dR,dR,dR,dR]\n",
    "    #print(dR_list)\n",
    "    #for i in range(len(coordinates)):\n",
    "        \n",
    "        #coordinate_list.append([coordinates[0:i]+[(coordinates[i]+dR_list[i])]+coordinates[i+1:],coordinates[0:i]+[(coordinates[i]-dR_list[i])]+coordinates[i+1:]])\n",
    "    \n",
    "    #print(coordinate_list)\n",
    "    with multiprocessing.Pool() as pool:\n",
    "         ops,op_coeffs = zip(*pool.map(task2, coordinate_list))\n",
    "    \n",
    "    #print(ops)\n",
    "    return ops, op_coeffs\n",
    "\n",
    "def sequential_operators(coordinates):\n",
    "    ops = []\n",
    "    op_coeffs = []\n",
    "    \n",
    "    for i in range(len(coordinates)):\n",
    "        \n",
    "        #get qubit operators coresponding to H+ (hamiltonian for atomic distances R + dR)\n",
    "        (qubit_op_plus, num_part_plus, num_orb_plus, problem_plus, converter_plus) = get_qubit_op(coordinates[0:i]+[(coordinates[i]+dR)]+coordinates[i+1:])\n",
    "        #get qubit operators coresponding to H- (hamiltonian for atomic distances R - dR)\n",
    "        (qubit_op_minus, num_part_minus, num_orb_minus, problem_minus, converter_minus) = get_qubit_op(coordinates[0:i]+[(coordinates[i]-dR)]+coordinates[i+1:])\n",
    "\n",
    "        rep_eng_plus = problem_plus.grouped_property_transformed.get_property(\"ElectronicEnergy\").nuclear_repulsion_energy\n",
    "        rep_eng_minus  = problem_minus.grouped_property_transformed.get_property(\"ElectronicEnergy\").nuclear_repulsion_energy\n",
    "        \n",
    "        qubit_op_plus = qubit_op_plus + rep_eng_plus*(I^I^I^I) #TODO:number of I's needs to be changed according to number of qubits\n",
    "        qubit_op_minus = qubit_op_minus + rep_eng_minus*(I^I^I^I)\n",
    "        \n",
    "       \n",
    "        op =  -(qubit_op_plus - qubit_op_minus).reduce()\n",
    "                    \n",
    "        op_list = op.primitive.to_list() #list containing Pauli operators in support and corresponding coeffs\n",
    "        \n",
    "        #construct dict from list\n",
    "        op_dict = {}\n",
    "        for (PauliString,coeff) in op_list:\n",
    "\n",
    "            if PauliString in op_dict:\n",
    "                op_dict[PauliString] += coeff\n",
    "            else:\n",
    "                op_dict[PauliString] = coeff\n",
    "                \n",
    "        ops.append(op)\n",
    "        op_coeffs.append(op_dict)\n",
    "    #print(ops)\n",
    "    return ops, op_coeffs\n",
    "\n",
    "def parallel_expectations(exp_dict, op_set, q_instance, psi_0):\n",
    "\n",
    "    triples = []\n",
    "    for op in op_set:\n",
    "        triple = (op,q_instance,psi_0)\n",
    "        triples.append(triple)\n",
    "\n",
    "    Es = 0\n",
    "    with multiprocessing.Pool() as pool:\n",
    "        Es = pool.starmap(task1, triples)\n",
    "\n",
    "    for i in range(len(Es)):\n",
    "        exp_dict[triples[i][0]]=Es[i]\n",
    "\n",
    "    return 0\n",
    "\n",
    "def sequential_expectations(exp_dict, op_set, q_instance, psi_0):\n",
    "\n",
    "    for pauli_string in op_set:\n",
    "        \n",
    "        Obs = PauliOp(Pauli(pauli_string))\n",
    "        measurable_expression = StateFn(Obs, is_measurement=True).compose(psi_0)\n",
    "        expectation = PauliExpectation().convert(measurable_expression)  \n",
    "        sampler = CircuitSampler(q_instance).convert(expectation) \n",
    "        E = sampler.eval().real\n",
    "        exp_dict[pauli_string] = E\n",
    "\n",
    "    return 0\n",
    "\n",
    "def get_psi_0(coordinates, simulator='qasm',shots=1028):\n",
    "\n",
    "    #get qubit operator corresponding to H(R)\n",
    "    (qubit_op, num_part, num_orb, problem, converter) = get_qubit_op(coordinates)\n",
    "    \n",
    "    #get the ground state of H(R)\n",
    "    psi_0,_ = calc_ground_state(qubit_op,num_part, num_orb, problem, converter)\n",
    "    \n",
    "    psi_0 = CircuitStateFn(psi_0)\n",
    "\n",
    "    return psi_0\n",
    "\n",
    "def calc_force_and_cov(coordinates, simulator = 'qasm', PauliSet = None, mode = 'full', shots = 128, basis_set_this=None):\n",
    "  \n",
    "    \n",
    "    if simulator == 'qasm':\n",
    "            backend = Aer.get_backend('qasm_simulator')\n",
    "            #backend.set_options(max_job_size=1, executor = euler_client)\n",
    "            q_instance = QuantumInstance(backend, shots=shots)\n",
    "    elif simulator == \"exact\":\n",
    "            backend = BasicAer.get_backend(\"statevector_simulator\")\n",
    "            q_instance = QuantumInstance(backend)\n",
    "    else:\n",
    "        print('Error: simulator should be qasm or exact!')\n",
    "        \n",
    "    num_coord = len(coordinates)   \n",
    "    \n",
    "    start = time.time()\n",
    "    \n",
    "\n",
    "    psi_0 = get_psi_0(coordinates, simulator = simulator, shots=shots)\n",
    "    \n",
    "    end = time.time()\n",
    "    \n",
    "    \n",
    "    time_psi_0 = end - start\n",
    "    #print(\"Took \" + str(time_psi_0) + \" s to calculate the ground state\")\n",
    "    forces = np.zeros(num_coord)\n",
    "    coordinates = coordinates.tolist()\n",
    "    \n",
    "    \n",
    "    coordinates_this = np.array(coordinates)\n",
    "    COM = calc_COM(coordinates_this)\n",
    "    coords = np.array_split(coordinates_this,3)\n",
    "    #print(coords)\n",
    "    #print(COM)\n",
    "    v0 = coords[0] - COM\n",
    "    v1 = coords[1] - COM\n",
    "    v2 = coords[2] - COM\n",
    "    \n",
    "    v0_normed = np.array(v0/np.sqrt(v0[0]**2+v0[1]**2))\n",
    "    v0_orth = np.array([v0_normed[1],-v0_normed[0]])\n",
    "    \n",
    "    v1_normed = np.array(v1/np.sqrt(v1[0]**2+v1[1]**2))\n",
    "    v1_orth = np.array([v1_normed[1],-v1_normed[0]])\n",
    "\n",
    "    v2_normed = np.array(v2/np.sqrt(v2[0]**2+v2[1]**2))\n",
    "    v2_orth = np.array([v2_normed[1],-v2_normed[0]])\n",
    "    \n",
    "    #rotated basis\n",
    "    basis_set = [v0_normed,v0_orth,v1_normed,v1_orth,v2_normed,v2_orth]\n",
    "    \n",
    "    #cartesian basis\n",
    "    #basis_set = [[1,0],[0,1],[1,0],[0,1],[1,0],[0,1]]\n",
    "    \n",
    "    #basis_set = basis_set_this\n",
    "\n",
    "    transform_matrix = np.array([[basis_set[0][0],basis_set[1][0],0,0,0,0],\n",
    "                                 [basis_set[0][1],basis_set[1][1],0,0,0,0],\n",
    "                                 [0,0,basis_set[2][0],basis_set[3][0],0,0],\n",
    "                                 [0,0,basis_set[2][1],basis_set[3][1],0,0],\n",
    "                                 [0,0,0,0,basis_set[4][0],basis_set[5][0]],\n",
    "                                 [0,0,0,0,basis_set[4][1],basis_set[5][1]]])\n",
    "    \n",
    "    transform_matrix_inv = np.linalg.inv(transform_matrix)\n",
    "    \n",
    "    start = time.time()\n",
    "    #get force component operators and decomposition (without the 1/(2*dR) factor, for numerical reasons)\n",
    "    #replace parallel_ with sequential_ to see effect of parallelization\n",
    "    force_ops,force_op_coeffs = parallel_operators(coordinates,basis_set)\n",
    "    \n",
    "    #for ops in force_ops:\n",
    "        #print(len(ops))\n",
    "        \n",
    "    P1 = force_ops[0]\n",
    "    \n",
    "    if PauliSet == None:\n",
    "        \n",
    "        pauli_op_set = {'IIII'} #Could not initialize empty set for some reason\n",
    "        # construct set of PauliOp products that we need to calculate\n",
    "\n",
    "        for PauliString,coeff in force_op_coeffs[0].items():\n",
    "            pauli_op_set.add(PauliString)\n",
    "\n",
    "        #to get set of necessary PauliOp products:\n",
    "        \n",
    "            P_prod = (P1@P1)\n",
    "            P_list = P_prod.primitive.to_list()\n",
    "\n",
    "            for (PauliString,coeff) in P_list:\n",
    "                pauli_op_set.add(PauliString)\n",
    "                \n",
    "    else: pauli_op_set = PauliSet\n",
    "        \n",
    "    end = time.time()\n",
    "    \n",
    "    time_pauli_ops = end - start\n",
    "        \n",
    "\n",
    "        # Now we calculate the expectation values of all the relevant PauliOps\n",
    "    \n",
    "    start = time.time()\n",
    "    exp_dict = {} # dictionary with relevant expectation values\n",
    "        \n",
    "    #switch between parallel_ and sequential_ to see the effect\n",
    "    \n",
    "    parallel_expectations(exp_dict,pauli_op_set,q_instance,psi_0)\n",
    "    \n",
    "\n",
    "    for i in range(len(coordinates)):\n",
    "        for pauli_op,coeff in force_op_coeffs[i].items():\n",
    "            forces[i] += coeff.real*exp_dict[pauli_op]\n",
    "    \n",
    "    #forces[1] = 0\n",
    "    #forces[3] = 0\n",
    "    #forces[5] = 0\n",
    "    forces_return = np.matmul(transform_matrix,np.array(forces))\n",
    "    #forces_return = forces\n",
    "    #print(forces)\n",
    "            \n",
    "    end = time.time()   \n",
    "    time_calc_exp = end - start\n",
    "    \n",
    "    \n",
    "    start = time.time()\n",
    "    COV = np.zeros((num_coord,num_coord)) #force covariance matrix, without some multiplicative factors. \n",
    "        \n",
    "    for i in range(num_coord):\n",
    "        for j in range(i,num_coord):\n",
    "\n",
    "            Pij = force_ops[i]@force_ops[j]\n",
    "            Pij_list = Pij.primitive.to_list()\n",
    "\n",
    "            #add product expectation \n",
    "            for (pauli_string,coeff) in Pij_list:\n",
    "                COV[i,j] += coeff.real*exp_dict[pauli_string]\n",
    "                    #subtract \n",
    "            COV[i,j] -= forces[i]*forces[j]\n",
    "\n",
    "            #since COV is symmetric\n",
    "            #if (i,j) != (0,0) and (i,j) != (2,2) and (i,j) != (4,4) and (i,j) != (0,2) and (i,j) != (0,4) and (i,j) != (2,0) and (i,j) != (2,4) and (i,j) != (4,0) and (i,j) != (4,2):\n",
    "                #print(\"here\")\n",
    "                #print((i,j))\n",
    "             #   COV[i,j] = 0\n",
    "            \n",
    "            if i < j:\n",
    "                COV[j,i] = COV[i,j]\n",
    "            \n",
    "            \n",
    "                \n",
    "    #print(COV)            \n",
    "    end = time.time()\n",
    "    COV_1 = np.matmul(COV,transform_matrix)\n",
    "    COV_2 = np.matmul(transform_matrix_inv,COV_1)\n",
    "    COV_return = COV_2\n",
    "    #COV_return = COV\n",
    "    time_cov = end - start\n",
    "\n",
    "    print(f'Time to: Calculate Ground State - {round(time_psi_0,2)}s, Get Pauli Ops - {round(time_pauli_ops,2)}s, Calculate Pauli Expectation Values - {round(time_calc_exp,2)}s, Calculate Covariance - {round(time_cov,2)}s')\n",
    "    #print(COV)\n",
    "    \n",
    "    return forces_return*Ha*(1/(2*dR*angst)),COV_return*(Ha*(1/(2*dR*angst)))**2"
   ]
  },
  {
   "cell_type": "code",
   "execution_count": 3,
   "id": "5ae5fde0",
   "metadata": {},
   "outputs": [],
   "source": [
    "#from Quantech.verlet_integrator import distance\n",
    "#from force import calc_force_and_cov\n",
    "import numpy as np\n",
    "from tqdm import tqdm #to show progress\n",
    "\n",
    "\n",
    "#implementation of the explicit Euler integrator\n",
    "femto = 1.0e-15\n",
    "angst = 1.0e-10\n",
    "\n",
    "def calc_COM(coordinates):\n",
    "    #print(coordinates)\n",
    "    r_array = np.array_split(coordinates,3)\n",
    "    COM = (r_array[0] + r_array[1] + r_array[2])/3\n",
    "    \n",
    "    return COM\n",
    "\n",
    "def distance(coordinates1,coordinates2):\n",
    "    return np.sqrt(np.power((coordinates1[0] - coordinates2[0]),2) + np.power((coordinates1[1] - coordinates2[1]),2))\n",
    "    \n",
    "\n",
    "\n",
    "def main():\n",
    "    \n",
    "    f = open(\"h3_cartesian_basis_n_128000_raw_long.txt\",\"w\")\n",
    "    \n",
    "    #mass of particle1 (H)\n",
    "    mass_0 = 1.67e-27\n",
    "    #mass of particle2 (H)\n",
    "    mass_1 = 1.67e-27\n",
    "    #mass of particle3 (H)\n",
    "    mass_2 = 1.67e-27\n",
    "    #time step of integrator\n",
    "    dt = 0.2*femto\n",
    "    #initial velocity of atoms\n",
    "    \n",
    "    v_init_0 = np.array([0,0])\n",
    "    v_init_1 = np.array([0,0])\n",
    "    v_init_2 = np.array([0,0])\n",
    "\n",
    "    v_init = np.concatenate((v_init_0,v_init_1,v_init_2),axis=None)\n",
    "\n",
    "    #distances between atoms\n",
    "    d = 0.8\n",
    "    #rotation angle of the initial triangle\n",
    "    b = 0/180*np.pi\n",
    "    \n",
    "    #initial positions of atoms, arrangement = equilateral triangle\n",
    "    x1_init = np.array([-d/2*np.cos(b)+np.sin(b)*np.sqrt(3)/6*d,-d/2*np.sin(b)-np.cos(b)*np.sqrt(3)/6*d])+np.array([0,d*np.sqrt(3)/6])\n",
    "    x2_init = np.array([d/2*np.cos(b)+np.sin(b)*np.sqrt(3)/6*d,d/2*np.sin(b)-np.cos(b)*np.sqrt(3)/6*d])+np.array([0,d*np.sqrt(3)/6])\n",
    "    x3_init = np.array([-np.sin(b)*np.sqrt(3)/3*d,np.cos(b)*np.sqrt(3)/3*d])+np.array([0,d*np.sqrt(3)/6])\n",
    "    \n",
    "    \n",
    "    init_pos0 = x1_init\n",
    "    init_pos1 = x2_init\n",
    "    init_pos2 = x3_init\n",
    "    \n",
    "    #print(distance(init_pos0,init_pos1))\n",
    "    #print(distance(init_pos0,init_pos2))\n",
    "    #print(distance(init_pos1,init_pos2))\n",
    "    \n",
    "    init_pos = np.concatenate((init_pos0,init_pos1,init_pos2),axis=None)\n",
    "\n",
    "    #integrator timesteps\n",
    "    timeB = 0\n",
    "    timeE = 100\n",
    "    times = np.arange(timeB*femto, timeE*femto, dt)\n",
    "    #print(times)\n",
    "    #coordinate array\n",
    "    coords = [init_pos]\n",
    "    force = []\n",
    "    distance01 = [d]\n",
    "    distance02 = [d]\n",
    "    distance12 = [d]\n",
    "    #temperature in ?? \n",
    "    #k_B*T in Joule\n",
    "    k_b = 1.38065e-23\n",
    "    T = 420\n",
    "    k_T = k_b*T\n",
    "        #delta factor\n",
    "    delta = 0.05*dt\n",
    "    #hold v_next\n",
    "    v_next = None\n",
    "    \n",
    "    simulator = 'qasm'\n",
    "    COM = calc_COM(init_pos)\n",
    "    coords_loc = np.array_split(init_pos,3)\n",
    "    forces_array = []\n",
    "    velocities_array = []\n",
    "    velocities_array.append(v_init.tolist())\n",
    "    coords_array = []\n",
    "    coords_array.append(init_pos.tolist())\n",
    "    \n",
    "    #print(coords)\n",
    "    #print(COM)\n",
    "    #v0 = coords_loc[0] - COM\n",
    "    #v1 = coords_loc[1] - COM\n",
    "    #v2 = coords_loc[2] - COM\n",
    "    \n",
    "    #v0_normed = np.array(v0/np.sqrt(v0[0]**2+v0[1]**2))\n",
    "    #v0_orth = np.array([v0_normed[1],-v0_normed[0]])\n",
    "    \n",
    "    #v1_normed = np.array(v1/np.sqrt(v1[0]**2+v1[1]**2))\n",
    "    #v1_orth = np.array([v1_normed[1],-v1_normed[0]])\n",
    "\n",
    "    #v2_normed = np.array(v2/np.sqrt(v2[0]**2+v2[1]**2))\n",
    "    #v2_orth = np.array([v2_normed[1],-v2_normed[0]])\n",
    "    \n",
    "    #basis_set = [v0_normed,v0_orth,v1_normed,v1_orth,v2_normed,v2_orth]\n",
    "    basis_set = [0,0,0,0,0,0]\n",
    "    \n",
    "    for time in tqdm(times, desc='Progress: '):\n",
    "        \n",
    "        r = coords[-1]\n",
    "        #print(r)\n",
    "        \n",
    "        (forces,COV) = calc_force_and_cov(r, simulator = simulator, shots = 128000, basis_set_this=basis_set)\n",
    "        \n",
    "        forces_array.append(forces.tolist())\n",
    "        \n",
    "        #print(COV)\n",
    "        \n",
    "        #COV = np.zeros((6,6))\n",
    "        \n",
    "        #angle1 = np.arctan(forces[1]/forces[0])/np.pi * 180\n",
    "        #print(angle1)\n",
    "        #print(\"f1 = \" + str([forces[2],forces[3]]))\n",
    "        #print(\"f2 = \" + str([forces[4],forces[5]]))\n",
    "        \n",
    "        f1 = distance(np.array([forces[0],forces[1]]),np.array([0,0]))\n",
    "        \n",
    "        f2 = distance(np.array([forces[2],forces[3]]),np.array([0,0]))\n",
    "        \n",
    "        f3 = distance(np.array([forces[4],forces[5]]),np.array([0,0]))    \n",
    "        \n",
    "        print(\"f0,f1,f2 = \" + str([f1,f2,f3]))\n",
    "        \n",
    "        #print(forces)\n",
    "        #print(COV)\n",
    "        \n",
    "        if time == 0:\n",
    "\n",
    "            v_next = v_init - delta/(2*k_T*np.power(mass_0*mass_1*mass_2,1/3))*np.matmul(COV,v_init)*dt + dt*forces/mass_0\n",
    "            \n",
    "            r_next = (r*angst + dt*v_next)/angst\n",
    "\n",
    "            #r_split = np.array_split(r_next,3)\n",
    "\n",
    "            coords.append(r_next)\n",
    "\n",
    "        else:\n",
    "\n",
    "            v_next += - delta/(2*k_T*np.power(mass_0*mass_1*mass_2,1/3))*np.matmul(COV,v_next)*dt + dt*forces/mass_0\n",
    "            \n",
    "            r_next = (r*angst + dt*v_next)/angst\n",
    "\n",
    "            #r_split = np.array_split(r_next,3)\n",
    "            \n",
    "            coords.append(r_next)\n",
    "        velocities_array.append(v_next.tolist())  \n",
    "        coords_array.append(coords[-1].tolist())\n",
    "        \n",
    "        r = np.array_split(coords[-1],3)\n",
    "        d01 = distance(r[0],r[1])\n",
    "        d02 = distance(r[0],r[2])\n",
    "        d12 = distance(r[1],r[2])\n",
    "        print(\"d01,d02,d12 = \" + str([d01,d02,d12]))\n",
    "        \n",
    "        dists = np.split(coords[-1],3)\n",
    "        d01 = distance(dists[0],dists[1])\n",
    "        distance01.append(d01)\n",
    "        d02 = distance(dists[0],dists[2])\n",
    "        distance02.append(d02)\n",
    "        d12 = distance(dists[1],dists[2])\n",
    "        distance12.append(d12)\n",
    "    timess = times.tolist()\n",
    "    timess.append(timeE*femto)\n",
    "    f.write('times \\n')\n",
    "    f.write(str(timess) + \"\\n\")\n",
    "    f.write(\"coordinates \\n\")\n",
    "    f.write(str(coords_array) + \"\\n\")\n",
    "    f.write(\"velocities \\n\")\n",
    "    f.write(str(velocities_array) + \"\\n\")\n",
    "    f.write(\"forces \\n\")\n",
    "    f.write(str(forces_array) + \"\\n\")\n",
    "    return (distance01,distance02,distance12,times) "
   ]
  },
  {
   "cell_type": "code",
   "execution_count": 4,
   "id": "be5bb22e",
   "metadata": {
    "scrolled": false
   },
   "outputs": [
    {
     "name": "stderr",
     "output_type": "stream",
     "text": [
      "Progress:   0%|          | 1/500 [00:14<2:02:50, 14.77s/it]"
     ]
    },
    {
     "name": "stdout",
     "output_type": "stream",
     "text": [
      "Time to: Calculate Ground State - 2.38s, Get Pauli Ops - 5.15s, Calculate Pauli Expectation Values - 4.59s, Calculate Covariance - 2.35s\n",
      "f0,f1,f2 = [1.3139076652674844e-08, 1.3139076652683112e-08, 1.3139076652672147e-08]\n",
      "d01,d02,d12 = [0.8054509097789173, 0.8054509097789158, 0.8054509097789176]\n"
     ]
    },
    {
     "name": "stderr",
     "output_type": "stream",
     "text": [
      "/cluster/home/mskrabulis/miniconda3/envs/quantech/lib/python3.9/site-packages/pyscf/symm/Dmatrix.py:156: RuntimeWarning: invalid value encountered in arccos\n",
      "  gamma = numpy.arccos(yp.dot(c2[1]))\n",
      "Progress:   0%|          | 2/500 [00:31<2:13:09, 16.04s/it]"
     ]
    },
    {
     "name": "stdout",
     "output_type": "stream",
     "text": [
      "Time to: Calculate Ground State - 1.37s, Get Pauli Ops - 6.5s, Calculate Pauli Expectation Values - 6.98s, Calculate Covariance - 2.07s\n",
      "f0,f1,f2 = [1.3023949201935489e-08, 1.3023949201940554e-08, 1.3023949201949243e-08]\n",
      "d01,d02,d12 = [0.8157015771293121, 0.8157015771293149, 0.8157015771293163]\n"
     ]
    },
    {
     "name": "stderr",
     "output_type": "stream",
     "text": [
      "/cluster/home/mskrabulis/miniconda3/envs/quantech/lib/python3.9/site-packages/pyscf/symm/Dmatrix.py:156: RuntimeWarning: invalid value encountered in arccos\n",
      "  gamma = numpy.arccos(yp.dot(c2[1]))\n",
      "Progress:   1%|          | 3/500 [00:47<2:12:40, 16.02s/it]"
     ]
    },
    {
     "name": "stdout",
     "output_type": "stream",
     "text": [
      "Time to: Calculate Ground State - 1.53s, Get Pauli Ops - 6.68s, Calculate Pauli Expectation Values - 6.07s, Calculate Covariance - 1.7s\n",
      "f0,f1,f2 = [1.0710212422890684e-08, 1.0710212422880965e-08, 1.0710212422869595e-08]\n",
      "d01,d02,d12 = [0.829418344392957, 0.8294183443929583, 0.8294183443929588]\n"
     ]
    },
    {
     "name": "stderr",
     "output_type": "stream",
     "text": [
      "Progress:   1%|          | 4/500 [01:05<2:19:05, 16.83s/it]"
     ]
    },
    {
     "name": "stdout",
     "output_type": "stream",
     "text": [
      "Time to: Calculate Ground State - 1.3s, Get Pauli Ops - 6.86s, Calculate Pauli Expectation Values - 7.62s, Calculate Covariance - 2.28s\n",
      "f0,f1,f2 = [8.437387718670288e-09, 8.437387718676273e-09, 8.437387718671357e-09]\n",
      "d01,d02,d12 = [0.8488839376984899, 0.8488839376984865, 0.8488839376984831]\n"
     ]
    },
    {
     "name": "stderr",
     "output_type": "stream",
     "text": [
      "/cluster/home/mskrabulis/miniconda3/envs/quantech/lib/python3.9/site-packages/pyscf/symm/Dmatrix.py:156: RuntimeWarning: invalid value encountered in arccos\n",
      "  gamma = numpy.arccos(yp.dot(c2[1]))\n",
      "Progress:   1%|          | 5/500 [01:19<2:08:28, 15.57s/it]"
     ]
    },
    {
     "name": "stdout",
     "output_type": "stream",
     "text": [
      "Time to: Calculate Ground State - 0.95s, Get Pauli Ops - 4.49s, Calculate Pauli Expectation Values - 5.66s, Calculate Covariance - 2.24s\n",
      "f0,f1,f2 = [8.300859883602492e-09, 8.300859883604365e-09, 8.300859883617447e-09]\n",
      "d01,d02,d12 = [0.8701102488085087, 0.87011024880851, 0.8701102488084986]\n"
     ]
    },
    {
     "name": "stderr",
     "output_type": "stream",
     "text": [
      "/cluster/home/mskrabulis/miniconda3/envs/quantech/lib/python3.9/site-packages/pyscf/symm/Dmatrix.py:156: RuntimeWarning: invalid value encountered in arccos\n",
      "  gamma = numpy.arccos(yp.dot(c2[1]))\n",
      "Progress:   1%|          | 6/500 [01:34<2:09:03, 15.67s/it]"
     ]
    },
    {
     "name": "stdout",
     "output_type": "stream",
     "text": [
      "Time to: Calculate Ground State - 1.15s, Get Pauli Ops - 6.66s, Calculate Pauli Expectation Values - 5.76s, Calculate Covariance - 2.29s\n",
      "f0,f1,f2 = [7.3517602377489215e-09, 7.351760237740278e-09, 7.351760237750433e-09]\n",
      "d01,d02,d12 = [0.8935440388658888, 0.8935440388659021, 0.8935440388658895]\n"
     ]
    },
    {
     "name": "stderr",
     "output_type": "stream",
     "text": [
      "Progress:   1%|▏         | 7/500 [01:55<2:21:46, 17.26s/it]"
     ]
    },
    {
     "name": "stdout",
     "output_type": "stream",
     "text": [
      "Time to: Calculate Ground State - 1.16s, Get Pauli Ops - 5.03s, Calculate Pauli Expectation Values - 11.92s, Calculate Covariance - 2.4s\n",
      "f0,f1,f2 = [3.8924456894295045e-09, 3.892445689421758e-09, 3.892445689423199e-09]\n",
      "d01,d02,d12 = [0.9176032217685284, 0.9176032217685564, 0.9176032217685418]\n"
     ]
    },
    {
     "name": "stderr",
     "output_type": "stream",
     "text": [
      "Progress:   2%|▏         | 8/500 [02:09<2:13:11, 16.24s/it]"
     ]
    },
    {
     "name": "stdout",
     "output_type": "stream",
     "text": [
      "Time to: Calculate Ground State - 1.11s, Get Pauli Ops - 5.22s, Calculate Pauli Expectation Values - 5.72s, Calculate Covariance - 2.01s\n",
      "f0,f1,f2 = [3.879201893070211e-09, 3.87920189301382e-09, 3.8792018929963984e-09]\n",
      "d01,d02,d12 = [0.9418326729391933, 0.9418326729392101, 0.9418326729391958]\n"
     ]
    },
    {
     "name": "stderr",
     "output_type": "stream",
     "text": [
      "Progress:   2%|▏         | 9/500 [02:23<2:07:32, 15.59s/it]"
     ]
    },
    {
     "name": "stdout",
     "output_type": "stream",
     "text": [
      "Time to: Calculate Ground State - 1.37s, Get Pauli Ops - 5.3s, Calculate Pauli Expectation Values - 5.49s, Calculate Covariance - 1.98s\n",
      "f0,f1,f2 = [8.488079560413567e-10, 8.488079560698077e-10, 8.488079560474275e-10]\n",
      "d01,d02,d12 = [0.9649590572181906, 0.9649590572181793, 0.9649590572181771]\n"
     ]
    },
    {
     "name": "stderr",
     "output_type": "stream",
     "text": [
      "/cluster/home/mskrabulis/miniconda3/envs/quantech/lib/python3.9/site-packages/pyscf/symm/Dmatrix.py:156: RuntimeWarning: invalid value encountered in arccos\n",
      "  gamma = numpy.arccos(yp.dot(c2[1]))\n",
      "Progress:   2%|▏         | 10/500 [02:37<2:02:28, 15.00s/it]"
     ]
    },
    {
     "name": "stdout",
     "output_type": "stream",
     "text": [
      "Time to: Calculate Ground State - 1.36s, Get Pauli Ops - 4.96s, Calculate Pauli Expectation Values - 5.22s, Calculate Covariance - 2.12s\n",
      "f0,f1,f2 = [1.6254206543065547e-09, 1.6254206543112558e-09, 1.6254206543361184e-09]\n",
      "d01,d02,d12 = [0.9883586378239633, 0.9883586378239323, 0.9883586378239392]\n"
     ]
    },
    {
     "name": "stderr",
     "output_type": "stream",
     "text": [
      "/cluster/home/mskrabulis/miniconda3/envs/quantech/lib/python3.9/site-packages/pyscf/symm/Dmatrix.py:156: RuntimeWarning: invalid value encountered in arccos\n",
      "  gamma = numpy.arccos(yp.dot(c2[1]))\n",
      "Progress:   2%|▏         | 11/500 [02:51<1:59:42, 14.69s/it]"
     ]
    },
    {
     "name": "stdout",
     "output_type": "stream",
     "text": [
      "Time to: Calculate Ground State - 1.31s, Get Pauli Ops - 4.61s, Calculate Pauli Expectation Values - 5.79s, Calculate Covariance - 2.27s\n",
      "f0,f1,f2 = [1.3928536809314693e-09, 1.39285368092776e-09, 1.3928536809265424e-09]\n",
      "d01,d02,d12 = [1.0118108828497507, 1.011810882849688, 1.0118108828497117]\n"
     ]
    },
    {
     "name": "stderr",
     "output_type": "stream",
     "text": [
      "Progress:   2%|▏         | 12/500 [03:04<1:54:53, 14.13s/it]"
     ]
    },
    {
     "name": "stdout",
     "output_type": "stream",
     "text": [
      "Time to: Calculate Ground State - 1.36s, Get Pauli Ops - 5.07s, Calculate Pauli Expectation Values - 5.02s, Calculate Covariance - 1.39s\n",
      "f0,f1,f2 = [1.5729807177548054e-09, 1.572980717710296e-09, 1.5729807177833394e-09]\n",
      "d01,d02,d12 = [1.0382292618519746, 1.038229261851865, 1.038229261851922]\n"
     ]
    },
    {
     "name": "stderr",
     "output_type": "stream",
     "text": [
      "/cluster/home/mskrabulis/miniconda3/envs/quantech/lib/python3.9/site-packages/pyscf/symm/Dmatrix.py:156: RuntimeWarning: invalid value encountered in arccos\n",
      "  gamma = numpy.arccos(yp.dot(c2[1]))\n",
      "Progress:   3%|▎         | 13/500 [03:18<1:55:25, 14.22s/it]"
     ]
    },
    {
     "name": "stdout",
     "output_type": "stream",
     "text": [
      "Time to: Calculate Ground State - 0.81s, Get Pauli Ops - 4.45s, Calculate Pauli Expectation Values - 7.29s, Calculate Covariance - 1.87s\n",
      "f0,f1,f2 = [2.757290816342832e-09, 2.7572908163706917e-09, 2.7572908163693273e-09]\n",
      "d01,d02,d12 = [1.0594403703735376, 1.0594403703734294, 1.0594403703734923]\n"
     ]
    },
    {
     "name": "stderr",
     "output_type": "stream",
     "text": [
      "Progress:   3%|▎         | 14/500 [03:33<1:56:12, 14.35s/it]"
     ]
    },
    {
     "name": "stdout",
     "output_type": "stream",
     "text": [
      "Time to: Calculate Ground State - 0.85s, Get Pauli Ops - 4.99s, Calculate Pauli Expectation Values - 6.6s, Calculate Covariance - 2.19s\n",
      "f0,f1,f2 = [2.3906892944556407e-09, 2.3906892944701805e-09, 2.3906892944642488e-09]\n",
      "d01,d02,d12 = [1.0782926411928555, 1.0782926411927587, 1.0782926411928275]\n"
     ]
    },
    {
     "name": "stderr",
     "output_type": "stream",
     "text": [
      "Progress:   3%|▎         | 15/500 [03:46<1:53:47, 14.08s/it]"
     ]
    },
    {
     "name": "stdout",
     "output_type": "stream",
     "text": [
      "Time to: Calculate Ground State - 1.36s, Get Pauli Ops - 4.36s, Calculate Pauli Expectation Values - 5.46s, Calculate Covariance - 2.27s\n",
      "f0,f1,f2 = [4.1552591423341365e-09, 4.155259142319846e-09, 4.155259142350292e-09]\n",
      "d01,d02,d12 = [1.09882532069531, 1.0988253206952134, 1.0988253206952927]\n"
     ]
    },
    {
     "name": "stderr",
     "output_type": "stream",
     "text": [
      "Progress:   3%|▎         | 16/500 [04:01<1:55:57, 14.37s/it]"
     ]
    },
    {
     "name": "stdout",
     "output_type": "stream",
     "text": [
      "Time to: Calculate Ground State - 1.43s, Get Pauli Ops - 6.44s, Calculate Pauli Expectation Values - 5.13s, Calculate Covariance - 2.06s\n",
      "f0,f1,f2 = [3.312467840963645e-09, 3.3124678409659655e-09, 3.3124678409424934e-09]\n",
      "d01,d02,d12 = [1.1200432165832435, 1.1200432165831655, 1.120043216583239]\n"
     ]
    },
    {
     "name": "stderr",
     "output_type": "stream",
     "text": [
      "Progress:   3%|▎         | 17/500 [04:19<2:03:18, 15.32s/it]"
     ]
    },
    {
     "name": "stdout",
     "output_type": "stream",
     "text": [
      "Time to: Calculate Ground State - 1.31s, Get Pauli Ops - 8.58s, Calculate Pauli Expectation Values - 5.83s, Calculate Covariance - 1.78s\n",
      "f0,f1,f2 = [4.536433361333146e-09, 4.536433361345953e-09, 4.536433361331445e-09]\n",
      "d01,d02,d12 = [1.1429835745613834, 1.1429835745613175, 1.1429835745613974]\n"
     ]
    },
    {
     "name": "stderr",
     "output_type": "stream",
     "text": [
      "Progress:   4%|▎         | 18/500 [04:32<1:57:12, 14.59s/it]"
     ]
    },
    {
     "name": "stdout",
     "output_type": "stream",
     "text": [
      "Time to: Calculate Ground State - 0.8s, Get Pauli Ops - 5.18s, Calculate Pauli Expectation Values - 5.12s, Calculate Covariance - 1.79s\n",
      "f0,f1,f2 = [3.199492980299063e-09, 3.199492980320024e-09, 3.1994929803284396e-09]\n",
      "d01,d02,d12 = [1.1610917065915831, 1.1610917065915154, 1.1610917065916082]\n"
     ]
    },
    {
     "name": "stderr",
     "output_type": "stream",
     "text": [
      "Progress:   4%|▍         | 19/500 [04:47<1:59:11, 14.87s/it]"
     ]
    },
    {
     "name": "stdout",
     "output_type": "stream",
     "text": [
      "Time to: Calculate Ground State - 1.07s, Get Pauli Ops - 7.3s, Calculate Pauli Expectation Values - 4.95s, Calculate Covariance - 2.19s\n",
      "f0,f1,f2 = [4.259893485893731e-09, 4.259893485894343e-09, 4.259893485911171e-09]\n",
      "d01,d02,d12 = [1.1775324855723146, 1.1775324855722336, 1.177532485572338]\n"
     ]
    },
    {
     "name": "stderr",
     "output_type": "stream",
     "text": [
      "/cluster/home/mskrabulis/miniconda3/envs/quantech/lib/python3.9/site-packages/pyscf/symm/Dmatrix.py:156: RuntimeWarning: invalid value encountered in arccos\n",
      "  gamma = numpy.arccos(yp.dot(c2[1]))\n",
      "Progress:   4%|▍         | 20/500 [05:04<2:04:36, 15.58s/it]"
     ]
    },
    {
     "name": "stdout",
     "output_type": "stream",
     "text": [
      "Time to: Calculate Ground State - 1.21s, Get Pauli Ops - 5.93s, Calculate Pauli Expectation Values - 7.61s, Calculate Covariance - 2.46s\n",
      "f0,f1,f2 = [4.959919417938635e-09, 4.959919417936153e-09, 4.959919417934822e-09]\n",
      "d01,d02,d12 = [1.186863945300265, 1.1868639453001506, 1.1868639453002736]\n"
     ]
    },
    {
     "name": "stderr",
     "output_type": "stream",
     "text": [
      "Progress:   4%|▍         | 21/500 [05:18<1:58:38, 14.86s/it]"
     ]
    },
    {
     "name": "stdout",
     "output_type": "stream",
     "text": [
      "Time to: Calculate Ground State - 1.37s, Get Pauli Ops - 4.97s, Calculate Pauli Expectation Values - 4.97s, Calculate Covariance - 1.88s\n",
      "f0,f1,f2 = [4.577969079399114e-09, 4.5779690794195245e-09, 4.577969079393204e-09]\n",
      "d01,d02,d12 = [1.1935099762368384, 1.1935099762366885, 1.1935099762368349]\n"
     ]
    },
    {
     "name": "stderr",
     "output_type": "stream",
     "text": [
      "Progress:   4%|▍         | 22/500 [05:33<1:59:13, 14.97s/it]"
     ]
    },
    {
     "name": "stdout",
     "output_type": "stream",
     "text": [
      "Time to: Calculate Ground State - 0.83s, Get Pauli Ops - 7.38s, Calculate Pauli Expectation Values - 5.23s, Calculate Covariance - 1.77s\n",
      "f0,f1,f2 = [5.622952780949353e-09, 5.622952780928351e-09, 5.622952780942199e-09]\n",
      "d01,d02,d12 = [1.1984936098983343, 1.1984936098981525, 1.1984936098983165]\n"
     ]
    },
    {
     "name": "stderr",
     "output_type": "stream",
     "text": [
      "Progress:   5%|▍         | 23/500 [05:49<2:01:40, 15.30s/it]"
     ]
    },
    {
     "name": "stdout",
     "output_type": "stream",
     "text": [
      "Time to: Calculate Ground State - 0.93s, Get Pauli Ops - 4.4s, Calculate Pauli Expectation Values - 8.82s, Calculate Covariance - 1.93s\n",
      "f0,f1,f2 = [6.644137323817726e-09, 6.64413732382761e-09, 6.644137323780464e-09]\n",
      "d01,d02,d12 = [1.2005491909077088, 1.2005491909074986, 1.2005491909076802]\n"
     ]
    },
    {
     "name": "stderr",
     "output_type": "stream",
     "text": [
      "/cluster/home/mskrabulis/miniconda3/envs/quantech/lib/python3.9/site-packages/pyscf/symm/Dmatrix.py:156: RuntimeWarning: invalid value encountered in arccos\n",
      "  gamma = numpy.arccos(yp.dot(c2[1]))\n",
      "Progress:   5%|▍         | 24/500 [06:07<2:06:54, 16.00s/it]"
     ]
    },
    {
     "name": "stdout",
     "output_type": "stream",
     "text": [
      "Time to: Calculate Ground State - 1.39s, Get Pauli Ops - 4.99s, Calculate Pauli Expectation Values - 9.07s, Calculate Covariance - 2.15s\n",
      "f0,f1,f2 = [6.327479787401698e-09, 6.3274797874092375e-09, 6.327479787459571e-09]\n",
      "d01,d02,d12 = [1.2001477210602807, 1.2001477210600322, 1.2001477210602407]\n"
     ]
    },
    {
     "name": "stderr",
     "output_type": "stream",
     "text": [
      "/cluster/home/mskrabulis/miniconda3/envs/quantech/lib/python3.9/site-packages/pyscf/symm/Dmatrix.py:156: RuntimeWarning: invalid value encountered in arccos\n",
      "  gamma = numpy.arccos(yp.dot(c2[1]))\n",
      "Progress:   5%|▌         | 25/500 [06:23<2:06:41, 16.00s/it]"
     ]
    },
    {
     "name": "stdout",
     "output_type": "stream",
     "text": [
      "Time to: Calculate Ground State - 1.4s, Get Pauli Ops - 7.53s, Calculate Pauli Expectation Values - 4.97s, Calculate Covariance - 2.1s\n",
      "f0,f1,f2 = [5.826879514935987e-09, 5.826879514949254e-09, 5.826879514949022e-09]\n",
      "d01,d02,d12 = [1.1973289148735755, 1.1973289148732882, 1.1973289148735207]\n"
     ]
    },
    {
     "name": "stderr",
     "output_type": "stream",
     "text": [
      "Progress:   5%|▌         | 26/500 [06:36<2:00:06, 15.20s/it]"
     ]
    },
    {
     "name": "stdout",
     "output_type": "stream",
     "text": [
      "Time to: Calculate Ground State - 1.1s, Get Pauli Ops - 4.86s, Calculate Pauli Expectation Values - 5.07s, Calculate Covariance - 2.3s\n",
      "f0,f1,f2 = [5.078792891521649e-09, 5.078792891580578e-09, 5.078792891543242e-09]\n",
      "d01,d02,d12 = [1.1927161591523476, 1.192716159152046, 1.1927161591522837]\n"
     ]
    },
    {
     "name": "stderr",
     "output_type": "stream",
     "text": [
      "Progress:   5%|▌         | 27/500 [06:51<2:00:32, 15.29s/it]"
     ]
    },
    {
     "name": "stdout",
     "output_type": "stream",
     "text": [
      "Time to: Calculate Ground State - 1.14s, Get Pauli Ops - 7.1s, Calculate Pauli Expectation Values - 4.94s, Calculate Covariance - 2.3s\n",
      "f0,f1,f2 = [7.399361423391584e-09, 7.399361423403369e-09, 7.399361423383322e-09]\n",
      "d01,d02,d12 = [1.185326365856948, 1.1853263658566333, 1.185326365856874]\n"
     ]
    },
    {
     "name": "stderr",
     "output_type": "stream",
     "text": [
      "Progress:   6%|▌         | 28/500 [07:05<1:55:37, 14.70s/it]"
     ]
    },
    {
     "name": "stdout",
     "output_type": "stream",
     "text": [
      "Time to: Calculate Ground State - 1.22s, Get Pauli Ops - 4.92s, Calculate Pauli Expectation Values - 5.02s, Calculate Covariance - 2.15s\n",
      "f0,f1,f2 = [6.423059519133445e-09, 6.423059519124e-09, 6.42305951912491e-09]\n",
      "d01,d02,d12 = [1.17504508701855, 1.1750450870182307, 1.1750450870184714]\n"
     ]
    },
    {
     "name": "stderr",
     "output_type": "stream",
     "text": [
      "Progress:   6%|▌         | 29/500 [07:18<1:50:50, 14.12s/it]"
     ]
    },
    {
     "name": "stdout",
     "output_type": "stream",
     "text": [
      "Time to: Calculate Ground State - 1.05s, Get Pauli Ops - 4.23s, Calculate Pauli Expectation Values - 5.42s, Calculate Covariance - 2.07s\n",
      "f0,f1,f2 = [5.047075248340502e-09, 5.047075248334208e-09, 5.047075248318423e-09]\n",
      "d01,d02,d12 = [1.1613867444294266, 1.1613867444291077, 1.161386744429347]\n"
     ]
    },
    {
     "name": "stderr",
     "output_type": "stream",
     "text": [
      "Progress:   6%|▌         | 30/500 [07:31<1:49:46, 14.01s/it]"
     ]
    },
    {
     "name": "stdout",
     "output_type": "stream",
     "text": [
      "Time to: Calculate Ground State - 1.29s, Get Pauli Ops - 5.02s, Calculate Pauli Expectation Values - 5.18s, Calculate Covariance - 2.27s\n",
      "f0,f1,f2 = [5.251062430412915e-09, 5.2510624303963805e-09, 5.251062430453522e-09]\n",
      "d01,d02,d12 = [1.1441787056992592, 1.144178705698945, 1.1441787056991843]\n"
     ]
    },
    {
     "name": "stderr",
     "output_type": "stream",
     "text": [
      "Progress:   6%|▌         | 31/500 [07:44<1:47:36, 13.77s/it]"
     ]
    },
    {
     "name": "stdout",
     "output_type": "stream",
     "text": [
      "Time to: Calculate Ground State - 1.39s, Get Pauli Ops - 4.74s, Calculate Pauli Expectation Values - 5.32s, Calculate Covariance - 1.72s\n",
      "f0,f1,f2 = [4.801288182379034e-09, 4.801288182391419e-09, 4.801288182357118e-09]\n",
      "d01,d02,d12 = [1.1272049553887475, 1.1272049553884518, 1.1272049553886805]\n"
     ]
    },
    {
     "name": "stderr",
     "output_type": "stream",
     "text": [
      "/cluster/home/mskrabulis/miniconda3/envs/quantech/lib/python3.9/site-packages/pyscf/symm/Dmatrix.py:156: RuntimeWarning: invalid value encountered in arccos\n",
      "  gamma = numpy.arccos(yp.dot(c2[1]))\n",
      "Progress:   6%|▋         | 32/500 [07:59<1:49:08, 13.99s/it]"
     ]
    },
    {
     "name": "stdout",
     "output_type": "stream",
     "text": [
      "Time to: Calculate Ground State - 1.08s, Get Pauli Ops - 6.57s, Calculate Pauli Expectation Values - 4.86s, Calculate Covariance - 1.99s\n",
      "f0,f1,f2 = [4.160549783253806e-09, 4.160549783302308e-09, 4.160549783264482e-09]\n",
      "d01,d02,d12 = [1.1069641369273835, 1.1069641369271324, 1.1069641369273442]\n"
     ]
    },
    {
     "name": "stderr",
     "output_type": "stream",
     "text": [
      "Progress:   7%|▋         | 33/500 [08:16<1:56:11, 14.93s/it]"
     ]
    },
    {
     "name": "stdout",
     "output_type": "stream",
     "text": [
      "Time to: Calculate Ground State - 1.32s, Get Pauli Ops - 8.47s, Calculate Pauli Expectation Values - 5.11s, Calculate Covariance - 2.21s\n",
      "f0,f1,f2 = [4.992888528061912e-09, 4.992888528038265e-09, 4.992888528048271e-09]\n",
      "d01,d02,d12 = [1.0793361955035552, 1.07933619550336, 1.0793361955035528]\n"
     ]
    },
    {
     "name": "stderr",
     "output_type": "stream",
     "text": [
      "Progress:   7%|▋         | 34/500 [08:33<2:00:13, 15.48s/it]"
     ]
    },
    {
     "name": "stdout",
     "output_type": "stream",
     "text": [
      "Time to: Calculate Ground State - 1.46s, Get Pauli Ops - 7.57s, Calculate Pauli Expectation Values - 6.34s, Calculate Covariance - 1.39s\n",
      "f0,f1,f2 = [2.8265720559659884e-09, 2.8265720559711756e-09, 2.826572055973815e-09]\n",
      "d01,d02,d12 = [1.0538767212371971, 1.0538767212370628, 1.0538767212372278]\n"
     ]
    },
    {
     "name": "stderr",
     "output_type": "stream",
     "text": [
      "Progress:   7%|▋         | 35/500 [08:46<1:54:51, 14.82s/it]"
     ]
    },
    {
     "name": "stdout",
     "output_type": "stream",
     "text": [
      "Time to: Calculate Ground State - 0.81s, Get Pauli Ops - 5.29s, Calculate Pauli Expectation Values - 5.15s, Calculate Covariance - 2.02s\n",
      "f0,f1,f2 = [1.3836024579569704e-09, 1.3836024579757687e-09, 1.3836024579580348e-09]\n",
      "d01,d02,d12 = [1.0278263394152582, 1.0278263394151776, 1.027826339415297]\n"
     ]
    },
    {
     "name": "stderr",
     "output_type": "stream",
     "text": [
      "/cluster/home/mskrabulis/miniconda3/envs/quantech/lib/python3.9/site-packages/pyscf/symm/Dmatrix.py:156: RuntimeWarning: invalid value encountered in arccos\n",
      "  gamma = numpy.arccos(yp.dot(c2[1]))\n",
      "Progress:   7%|▋         | 36/500 [09:03<1:59:43, 15.48s/it]"
     ]
    },
    {
     "name": "stdout",
     "output_type": "stream",
     "text": [
      "Time to: Calculate Ground State - 1.56s, Get Pauli Ops - 5.2s, Calculate Pauli Expectation Values - 8.07s, Calculate Covariance - 2.19s\n",
      "f0,f1,f2 = [1.917337136998169e-09, 1.9173371369991517e-09, 1.9173371369709345e-09]\n",
      "d01,d02,d12 = [1.0019532300255507, 1.0019532300255225, 1.0019532300256155]\n"
     ]
    },
    {
     "name": "stderr",
     "output_type": "stream",
     "text": [
      "/cluster/home/mskrabulis/miniconda3/envs/quantech/lib/python3.9/site-packages/pyscf/symm/Dmatrix.py:156: RuntimeWarning: invalid value encountered in arccos\n",
      "  gamma = numpy.arccos(yp.dot(c2[1]))\n",
      "Progress:   7%|▋         | 37/500 [09:19<2:01:16, 15.72s/it]"
     ]
    },
    {
     "name": "stdout",
     "output_type": "stream",
     "text": [
      "Time to: Calculate Ground State - 1.11s, Get Pauli Ops - 4.98s, Calculate Pauli Expectation Values - 7.9s, Calculate Covariance - 2.26s\n",
      "f0,f1,f2 = [2.0936772719950114e-09, 2.0936772720824907e-09, 2.0936772720666584e-09]\n",
      "d01,d02,d12 = [0.9673825076760405, 0.9673825076760653, 0.9673825076761262]\n"
     ]
    },
    {
     "name": "stderr",
     "output_type": "stream",
     "text": [
      "/cluster/home/mskrabulis/miniconda3/envs/quantech/lib/python3.9/site-packages/pyscf/symm/Dmatrix.py:156: RuntimeWarning: invalid value encountered in arccos\n",
      "  gamma = numpy.arccos(yp.dot(c2[1]))\n",
      "/cluster/home/mskrabulis/miniconda3/envs/quantech/lib/python3.9/site-packages/pyscf/symm/Dmatrix.py:156: RuntimeWarning: invalid value encountered in arccos\n",
      "  gamma = numpy.arccos(yp.dot(c2[1]))\n",
      "Progress:   8%|▊         | 38/500 [09:34<1:57:20, 15.24s/it]"
     ]
    },
    {
     "name": "stdout",
     "output_type": "stream",
     "text": [
      "Time to: Calculate Ground State - 0.91s, Get Pauli Ops - 5.15s, Calculate Pauli Expectation Values - 5.74s, Calculate Covariance - 2.3s\n",
      "f0,f1,f2 = [1.6981462536554396e-09, 1.6981462536082433e-09, 1.6981462536237503e-09]\n",
      "d01,d02,d12 = [0.9323486371588214, 0.9323486371589076, 0.93234863715892]\n"
     ]
    },
    {
     "name": "stderr",
     "output_type": "stream",
     "text": [
      "Progress:   8%|▊         | 39/500 [09:46<1:51:35, 14.52s/it]"
     ]
    },
    {
     "name": "stdout",
     "output_type": "stream",
     "text": [
      "Time to: Calculate Ground State - 1.33s, Get Pauli Ops - 4.69s, Calculate Pauli Expectation Values - 5.07s, Calculate Covariance - 1.76s\n",
      "f0,f1,f2 = [2.603750339051787e-09, 2.603750339053667e-09, 2.603750339048024e-09]\n",
      "d01,d02,d12 = [0.8990941203961289, 0.899094120396277, 0.8990941203962314]\n"
     ]
    },
    {
     "name": "stderr",
     "output_type": "stream",
     "text": [
      "/cluster/home/mskrabulis/miniconda3/envs/quantech/lib/python3.9/site-packages/pyscf/symm/Dmatrix.py:156: RuntimeWarning: invalid value encountered in arccos\n",
      "  gamma = numpy.arccos(yp.dot(c2[1]))\n",
      "/cluster/home/mskrabulis/miniconda3/envs/quantech/lib/python3.9/site-packages/pyscf/symm/Dmatrix.py:156: RuntimeWarning: invalid value encountered in arccos\n",
      "  gamma = numpy.arccos(yp.dot(c2[1]))\n",
      "Progress:   8%|▊         | 40/500 [10:00<1:48:16, 14.12s/it]"
     ]
    },
    {
     "name": "stdout",
     "output_type": "stream",
     "text": [
      "Time to: Calculate Ground State - 1.28s, Get Pauli Ops - 4.89s, Calculate Pauli Expectation Values - 5.4s, Calculate Covariance - 1.61s\n",
      "f0,f1,f2 = [5.540527082661081e-09, 5.5405270826285284e-09, 5.540527082627057e-09]\n",
      "d01,d02,d12 = [0.8684687812442893, 0.8684687812445137, 0.8684687812443924]\n"
     ]
    },
    {
     "name": "stderr",
     "output_type": "stream",
     "text": [
      "/cluster/home/mskrabulis/miniconda3/envs/quantech/lib/python3.9/site-packages/pyscf/symm/Dmatrix.py:156: RuntimeWarning: invalid value encountered in arccos\n",
      "  gamma = numpy.arccos(yp.dot(c2[1]))\n",
      "Progress:   8%|▊         | 41/500 [10:15<1:51:37, 14.59s/it]"
     ]
    },
    {
     "name": "stdout",
     "output_type": "stream",
     "text": [
      "Time to: Calculate Ground State - 1.03s, Get Pauli Ops - 5.02s, Calculate Pauli Expectation Values - 7.26s, Calculate Covariance - 2.37s\n",
      "f0,f1,f2 = [6.963180697938483e-09, 6.963180697959203e-09, 6.963180697959613e-09]\n",
      "d01,d02,d12 = [0.8395249741469925, 0.8395249741472944, 0.8395249741470922]\n"
     ]
    },
    {
     "name": "stderr",
     "output_type": "stream",
     "text": [
      "/cluster/home/mskrabulis/miniconda3/envs/quantech/lib/python3.9/site-packages/pyscf/symm/Dmatrix.py:156: RuntimeWarning: invalid value encountered in arccos\n",
      "  gamma = numpy.arccos(yp.dot(c2[1]))\n",
      "Progress:   8%|▊         | 42/500 [10:30<1:52:35, 14.75s/it]"
     ]
    },
    {
     "name": "stdout",
     "output_type": "stream",
     "text": [
      "Time to: Calculate Ground State - 1.36s, Get Pauli Ops - 5.35s, Calculate Pauli Expectation Values - 6.42s, Calculate Covariance - 1.97s\n",
      "f0,f1,f2 = [8.777411053451652e-09, 8.777411053476087e-09, 8.777411053465014e-09]\n",
      "d01,d02,d12 = [0.8170386669608779, 0.8170386669612368, 0.8170386669609665]\n"
     ]
    },
    {
     "name": "stderr",
     "output_type": "stream",
     "text": [
      "/cluster/home/mskrabulis/miniconda3/envs/quantech/lib/python3.9/site-packages/pyscf/symm/Dmatrix.py:156: RuntimeWarning: invalid value encountered in arccos\n",
      "  gamma = numpy.arccos(yp.dot(c2[1]))\n",
      "Progress:   9%|▊         | 43/500 [10:48<1:59:07, 15.64s/it]"
     ]
    },
    {
     "name": "stdout",
     "output_type": "stream",
     "text": [
      "Time to: Calculate Ground State - 1.33s, Get Pauli Ops - 4.46s, Calculate Pauli Expectation Values - 10.07s, Calculate Covariance - 1.84s\n",
      "f0,f1,f2 = [1.0449659472476965e-08, 1.0449659472422081e-08, 1.0449659472415922e-08]\n",
      "d01,d02,d12 = [0.7979600191291819, 0.7979600191295849, 0.7979600191292296]\n"
     ]
    },
    {
     "name": "stderr",
     "output_type": "stream",
     "text": [
      "/cluster/home/mskrabulis/miniconda3/envs/quantech/lib/python3.9/site-packages/pyscf/symm/Dmatrix.py:156: RuntimeWarning: invalid value encountered in arccos\n",
      "  gamma = numpy.arccos(yp.dot(c2[1]))\n",
      "Progress:   9%|▉         | 44/500 [11:05<2:01:26, 15.98s/it]"
     ]
    },
    {
     "name": "stdout",
     "output_type": "stream",
     "text": [
      "Time to: Calculate Ground State - 1.08s, Get Pauli Ops - 7.67s, Calculate Pauli Expectation Values - 5.7s, Calculate Covariance - 2.31s\n",
      "f0,f1,f2 = [1.2179974050361903e-08, 1.2179974050393973e-08, 1.2179974050350488e-08]\n",
      "d01,d02,d12 = [0.78438766169268, 0.784387661693126, 0.7843876616926981]\n"
     ]
    },
    {
     "name": "stderr",
     "output_type": "stream",
     "text": [
      "Progress:   9%|▉         | 45/500 [11:17<1:53:04, 14.91s/it]"
     ]
    },
    {
     "name": "stdout",
     "output_type": "stream",
     "text": [
      "Time to: Calculate Ground State - 1.06s, Get Pauli Ops - 4.01s, Calculate Pauli Expectation Values - 5.13s, Calculate Covariance - 2.21s\n",
      "f0,f1,f2 = [1.3816018042842918e-08, 1.3816018042916609e-08, 1.3816018042869698e-08]\n",
      "d01,d02,d12 = [0.7764342269823327, 0.7764342269828135, 0.7764342269823357]\n"
     ]
    },
    {
     "name": "stderr",
     "output_type": "stream",
     "text": [
      "Progress:   9%|▉         | 46/500 [11:30<1:46:41, 14.10s/it]"
     ]
    },
    {
     "name": "stdout",
     "output_type": "stream",
     "text": [
      "Time to: Calculate Ground State - 0.83s, Get Pauli Ops - 4.62s, Calculate Pauli Expectation Values - 5.04s, Calculate Covariance - 1.71s\n",
      "f0,f1,f2 = [1.655334885650952e-08, 1.655334885647971e-08, 1.6553348856510383e-08]\n",
      "d01,d02,d12 = [0.7757929396206888, 0.7757929396212104, 0.775792939620677]\n"
     ]
    },
    {
     "name": "stderr",
     "output_type": "stream",
     "text": [
      "/cluster/home/mskrabulis/miniconda3/envs/quantech/lib/python3.9/site-packages/pyscf/symm/Dmatrix.py:156: RuntimeWarning: invalid value encountered in arccos\n",
      "  gamma = numpy.arccos(yp.dot(c2[1]))\n",
      "Progress:   9%|▉         | 47/500 [11:42<1:43:12, 13.67s/it]"
     ]
    },
    {
     "name": "stdout",
     "output_type": "stream",
     "text": [
      "Time to: Calculate Ground State - 0.81s, Get Pauli Ops - 5.05s, Calculate Pauli Expectation Values - 5.34s, Calculate Covariance - 1.46s\n",
      "f0,f1,f2 = [1.5876421680625147e-08, 1.5876421680593555e-08, 1.587642168061314e-08]\n",
      "d01,d02,d12 = [0.7817696797720659, 0.7817696797726265, 0.7817696797720364]\n"
     ]
    },
    {
     "name": "stderr",
     "output_type": "stream",
     "text": [
      "/cluster/home/mskrabulis/miniconda3/envs/quantech/lib/python3.9/site-packages/pyscf/symm/Dmatrix.py:156: RuntimeWarning: invalid value encountered in arccos\n",
      "  gamma = numpy.arccos(yp.dot(c2[1]))\n",
      "Progress:  10%|▉         | 48/500 [11:56<1:42:18, 13.58s/it]"
     ]
    },
    {
     "name": "stdout",
     "output_type": "stream",
     "text": [
      "Time to: Calculate Ground State - 0.8s, Get Pauli Ops - 5.03s, Calculate Pauli Expectation Values - 5.27s, Calculate Covariance - 2.26s\n",
      "f0,f1,f2 = [1.4086431409370049e-08, 1.408643140938955e-08, 1.4086431409367567e-08]\n",
      "d01,d02,d12 = [0.7943429574350949, 0.794342957435678, 0.7943429574350485]\n"
     ]
    },
    {
     "name": "stderr",
     "output_type": "stream",
     "text": [
      "Progress:  10%|▉         | 49/500 [12:09<1:42:25, 13.63s/it]"
     ]
    },
    {
     "name": "stdout",
     "output_type": "stream",
     "text": [
      "Time to: Calculate Ground State - 1.37s, Get Pauli Ops - 5.17s, Calculate Pauli Expectation Values - 5.02s, Calculate Covariance - 2.15s\n",
      "f0,f1,f2 = [1.3122049119546477e-08, 1.3122049119575385e-08, 1.3122049119545628e-08]\n",
      "d01,d02,d12 = [0.8119136152674336, 0.8119136152680364, 0.8119136152673776]\n"
     ]
    },
    {
     "name": "stderr",
     "output_type": "stream",
     "text": [
      "Progress:  10%|█         | 50/500 [12:25<1:47:14, 14.30s/it]"
     ]
    },
    {
     "name": "stdout",
     "output_type": "stream",
     "text": [
      "Time to: Calculate Ground State - 1.06s, Get Pauli Ops - 7.55s, Calculate Pauli Expectation Values - 5.49s, Calculate Covariance - 1.76s\n",
      "f0,f1,f2 = [1.0984562224270103e-08, 1.0984562224309119e-08, 1.0984562224273842e-08]\n",
      "d01,d02,d12 = [0.8347701099457673, 0.8347701099463768, 0.8347701099456899]\n"
     ]
    },
    {
     "name": "stderr",
     "output_type": "stream",
     "text": [
      "Progress:  10%|█         | 51/500 [12:39<1:45:41, 14.12s/it]"
     ]
    },
    {
     "name": "stdout",
     "output_type": "stream",
     "text": [
      "Time to: Calculate Ground State - 1.37s, Get Pauli Ops - 5.22s, Calculate Pauli Expectation Values - 5.24s, Calculate Covariance - 1.88s\n",
      "f0,f1,f2 = [1.0150824165148111e-08, 1.0150824165208045e-08, 1.0150824165212712e-08]\n",
      "d01,d02,d12 = [0.858245934453696, 0.858245934454288, 0.8582459344535991]\n"
     ]
    },
    {
     "name": "stderr",
     "output_type": "stream",
     "text": [
      "/cluster/home/mskrabulis/miniconda3/envs/quantech/lib/python3.9/site-packages/pyscf/symm/Dmatrix.py:156: RuntimeWarning: invalid value encountered in arccos\n",
      "  gamma = numpy.arccos(yp.dot(c2[1]))\n",
      "Progress:  10%|█         | 52/500 [12:52<1:42:51, 13.78s/it]"
     ]
    },
    {
     "name": "stdout",
     "output_type": "stream",
     "text": [
      "Time to: Calculate Ground State - 0.83s, Get Pauli Ops - 5.25s, Calculate Pauli Expectation Values - 5.05s, Calculate Covariance - 1.84s\n",
      "f0,f1,f2 = [7.497060856083547e-09, 7.497060856106942e-09, 7.497060856115827e-09]\n",
      "d01,d02,d12 = [0.886801346439809, 0.8868013464403569, 0.8868013464397009]\n"
     ]
    },
    {
     "name": "stderr",
     "output_type": "stream",
     "text": [
      "/cluster/home/mskrabulis/miniconda3/envs/quantech/lib/python3.9/site-packages/pyscf/symm/Dmatrix.py:156: RuntimeWarning: invalid value encountered in arccos\n",
      "  gamma = numpy.arccos(yp.dot(c2[1]))\n",
      "Progress:  11%|█         | 53/500 [13:09<1:50:45, 14.87s/it]"
     ]
    },
    {
     "name": "stdout",
     "output_type": "stream",
     "text": [
      "Time to: Calculate Ground State - 1.29s, Get Pauli Ops - 8.72s, Calculate Pauli Expectation Values - 5.14s, Calculate Covariance - 2.26s\n",
      "f0,f1,f2 = [4.403432647629133e-09, 4.403432647698068e-09, 4.403432647676138e-09]\n",
      "d01,d02,d12 = [0.9226201394966792, 0.9226201394971862, 0.9226201394965811]\n"
     ]
    },
    {
     "name": "stderr",
     "output_type": "stream",
     "text": [
      "Progress:  11%|█         | 54/500 [13:24<1:50:16, 14.84s/it]"
     ]
    },
    {
     "name": "stdout",
     "output_type": "stream",
     "text": [
      "Time to: Calculate Ground State - 1.36s, Get Pauli Ops - 6.54s, Calculate Pauli Expectation Values - 4.68s, Calculate Covariance - 2.17s\n",
      "f0,f1,f2 = [3.2521103225349773e-09, 3.2521103226061124e-09, 3.252110322518986e-09]\n",
      "d01,d02,d12 = [0.9580319043388346, 0.9580319043392794, 0.9580319043387366]\n"
     ]
    },
    {
     "name": "stderr",
     "output_type": "stream",
     "text": [
      "/cluster/home/mskrabulis/miniconda3/envs/quantech/lib/python3.9/site-packages/pyscf/symm/Dmatrix.py:156: RuntimeWarning: invalid value encountered in arccos\n",
      "  gamma = numpy.arccos(yp.dot(c2[1]))\n",
      "Progress:  11%|█         | 55/500 [13:38<1:48:38, 14.65s/it]"
     ]
    },
    {
     "name": "stdout",
     "output_type": "stream",
     "text": [
      "Time to: Calculate Ground State - 1.36s, Get Pauli Ops - 4.82s, Calculate Pauli Expectation Values - 5.62s, Calculate Covariance - 2.4s\n",
      "f0,f1,f2 = [2.968806257106668e-10, 2.9688062570660245e-10, 2.9688062568629563e-10]\n",
      "d01,d02,d12 = [0.9972334882065657, 0.997233488206973, 0.997233488206491]\n"
     ]
    },
    {
     "name": "stderr",
     "output_type": "stream",
     "text": [
      "Progress:  11%|█         | 56/500 [13:53<1:49:44, 14.83s/it]"
     ]
    },
    {
     "name": "stdout",
     "output_type": "stream",
     "text": [
      "Time to: Calculate Ground State - 1.53s, Get Pauli Ops - 4.95s, Calculate Pauli Expectation Values - 7.03s, Calculate Covariance - 1.73s\n",
      "f0,f1,f2 = [1.4305270777103407e-09, 1.4305270777009185e-09, 1.4305270777441637e-09]\n",
      "d01,d02,d12 = [1.0328228689687007, 1.0328228689690513, 1.0328228689686203]\n"
     ]
    },
    {
     "name": "stderr",
     "output_type": "stream",
     "text": [
      "Progress:  11%|█▏        | 57/500 [14:07<1:46:55, 14.48s/it]"
     ]
    },
    {
     "name": "stdout",
     "output_type": "stream",
     "text": [
      "Time to: Calculate Ground State - 0.88s, Get Pauli Ops - 4.77s, Calculate Pauli Expectation Values - 5.83s, Calculate Covariance - 2.18s\n",
      "f0,f1,f2 = [4.750212385108995e-10, 4.750212385530322e-10, 4.750212384983683e-10]\n",
      "d01,d02,d12 = [1.060092584080126, 1.0600925840804212, 1.0600925840800703]\n"
     ]
    },
    {
     "name": "stderr",
     "output_type": "stream",
     "text": [
      "Progress:  12%|█▏        | 58/500 [14:26<1:56:46, 15.85s/it]"
     ]
    },
    {
     "name": "stdout",
     "output_type": "stream",
     "text": [
      "Time to: Calculate Ground State - 1.35s, Get Pauli Ops - 8.51s, Calculate Pauli Expectation Values - 6.85s, Calculate Covariance - 2.32s\n",
      "f0,f1,f2 = [1.873079529944823e-09, 1.87307952995014e-09, 1.873079529956607e-09]\n",
      "d01,d02,d12 = [1.0829438464909154, 1.0829438464911618, 1.0829438464908918]\n"
     ]
    },
    {
     "name": "stderr",
     "output_type": "stream",
     "text": [
      "Progress:  12%|█▏        | 59/500 [14:40<1:52:00, 15.24s/it]"
     ]
    },
    {
     "name": "stdout",
     "output_type": "stream",
     "text": [
      "Time to: Calculate Ground State - 1.35s, Get Pauli Ops - 5.3s, Calculate Pauli Expectation Values - 5.11s, Calculate Covariance - 2.05s\n",
      "f0,f1,f2 = [2.3312074319023915e-09, 2.3312074319178093e-09, 2.331207431904904e-09]\n",
      "d01,d02,d12 = [1.104510003994327, 1.1045100039945288, 1.1045100039943372]\n"
     ]
    },
    {
     "name": "stderr",
     "output_type": "stream",
     "text": [
      "Progress:  12%|█▏        | 60/500 [14:54<1:48:01, 14.73s/it]"
     ]
    },
    {
     "name": "stdout",
     "output_type": "stream",
     "text": [
      "Time to: Calculate Ground State - 1.42s, Get Pauli Ops - 5.11s, Calculate Pauli Expectation Values - 5.03s, Calculate Covariance - 1.97s\n",
      "f0,f1,f2 = [3.806381107165525e-09, 3.806381107187381e-09, 3.806381107151642e-09]\n",
      "d01,d02,d12 = [1.124089813246918, 1.1240898132470871, 1.1240898132469697]\n"
     ]
    },
    {
     "name": "stderr",
     "output_type": "stream",
     "text": [
      "Progress:  12%|█▏        | 61/500 [15:12<1:56:04, 15.86s/it]"
     ]
    },
    {
     "name": "stdout",
     "output_type": "stream",
     "text": [
      "Time to: Calculate Ground State - 1.33s, Get Pauli Ops - 10.18s, Calculate Pauli Expectation Values - 4.77s, Calculate Covariance - 2.22s\n",
      "f0,f1,f2 = [4.284675891086463e-09, 4.2846758910983745e-09, 4.284675891082191e-09]\n",
      "d01,d02,d12 = [1.1419924391533203, 1.141992439153445, 1.1419924391533969]\n"
     ]
    },
    {
     "name": "stderr",
     "output_type": "stream",
     "text": [
      "Progress:  12%|█▏        | 62/500 [15:25<1:49:02, 14.94s/it]"
     ]
    },
    {
     "name": "stdout",
     "output_type": "stream",
     "text": [
      "Time to: Calculate Ground State - 1.24s, Get Pauli Ops - 4.67s, Calculate Pauli Expectation Values - 4.91s, Calculate Covariance - 1.94s\n",
      "f0,f1,f2 = [4.171603691221521e-09, 4.171603691315386e-09, 4.171603691315962e-09]\n",
      "d01,d02,d12 = [1.158885869767457, 1.158885869767537, 1.1588858697675313]\n"
     ]
    },
    {
     "name": "stderr",
     "output_type": "stream",
     "text": [
      "/cluster/home/mskrabulis/miniconda3/envs/quantech/lib/python3.9/site-packages/pyscf/symm/Dmatrix.py:156: RuntimeWarning: invalid value encountered in arccos\n",
      "  gamma = numpy.arccos(yp.dot(c2[1]))\n",
      "Progress:  13%|█▎        | 63/500 [15:42<1:54:22, 15.70s/it]"
     ]
    },
    {
     "name": "stdout",
     "output_type": "stream",
     "text": [
      "Time to: Calculate Ground State - 1.34s, Get Pauli Ops - 6.83s, Calculate Pauli Expectation Values - 6.96s, Calculate Covariance - 2.36s\n",
      "f0,f1,f2 = [5.345960498078345e-09, 5.345960498080435e-09, 5.3459604980919675e-09]\n",
      "d01,d02,d12 = [1.1757743546969908, 1.175774354697017, 1.1757743546970494]\n"
     ]
    },
    {
     "name": "stderr",
     "output_type": "stream",
     "text": [
      "/cluster/home/mskrabulis/miniconda3/envs/quantech/lib/python3.9/site-packages/pyscf/symm/Dmatrix.py:156: RuntimeWarning: invalid value encountered in arccos\n",
      "  gamma = numpy.arccos(yp.dot(c2[1]))\n",
      "Progress:  13%|█▎        | 64/500 [15:57<1:52:54, 15.54s/it]"
     ]
    },
    {
     "name": "stdout",
     "output_type": "stream",
     "text": [
      "Time to: Calculate Ground State - 1.34s, Get Pauli Ops - 6.69s, Calculate Pauli Expectation Values - 4.85s, Calculate Covariance - 2.26s\n",
      "f0,f1,f2 = [5.94538161388214e-09, 5.945381613938274e-09, 5.94538161390548e-09]\n",
      "d01,d02,d12 = [1.1927891555838666, 1.1927891555838412, 1.192789155583903]\n"
     ]
    },
    {
     "name": "stderr",
     "output_type": "stream",
     "text": [
      "/cluster/home/mskrabulis/miniconda3/envs/quantech/lib/python3.9/site-packages/pyscf/symm/Dmatrix.py:156: RuntimeWarning: invalid value encountered in arccos\n",
      "  gamma = numpy.arccos(yp.dot(c2[1]))\n",
      "Progress:  13%|█▎        | 65/500 [16:13<1:53:16, 15.62s/it]"
     ]
    },
    {
     "name": "stdout",
     "output_type": "stream",
     "text": [
      "Time to: Calculate Ground State - 1.27s, Get Pauli Ops - 7.45s, Calculate Pauli Expectation Values - 4.91s, Calculate Covariance - 2.19s\n",
      "f0,f1,f2 = [8.171117702575114e-09, 8.171117702525039e-09, 8.171117702531004e-09]\n",
      "d01,d02,d12 = [1.2091204773160795, 1.2091204773160071, 1.2091204773161122]\n"
     ]
    },
    {
     "name": "stderr",
     "output_type": "stream",
     "text": [
      "/cluster/home/mskrabulis/miniconda3/envs/quantech/lib/python3.9/site-packages/pyscf/symm/Dmatrix.py:156: RuntimeWarning: invalid value encountered in arccos\n",
      "  gamma = numpy.arccos(yp.dot(c2[1]))\n",
      "Progress:  13%|█▎        | 66/500 [16:30<1:55:09, 15.92s/it]"
     ]
    },
    {
     "name": "stdout",
     "output_type": "stream",
     "text": [
      "Time to: Calculate Ground State - 1.16s, Get Pauli Ops - 7.49s, Calculate Pauli Expectation Values - 5.6s, Calculate Covariance - 2.35s\n",
      "f0,f1,f2 = [4.721692945797945e-09, 4.721692945818546e-09, 4.721692945812934e-09]\n",
      "d01,d02,d12 = [1.223053584402991, 1.223053584402876, 1.2230535844030168]\n"
     ]
    },
    {
     "name": "stderr",
     "output_type": "stream",
     "text": [
      "/cluster/home/mskrabulis/miniconda3/envs/quantech/lib/python3.9/site-packages/pyscf/symm/Dmatrix.py:156: RuntimeWarning: invalid value encountered in arccos\n",
      "  gamma = numpy.arccos(yp.dot(c2[1]))\n",
      "Progress:  13%|█▎        | 67/500 [16:53<2:10:16, 18.05s/it]"
     ]
    },
    {
     "name": "stdout",
     "output_type": "stream",
     "text": [
      "Time to: Calculate Ground State - 1.28s, Get Pauli Ops - 13.71s, Calculate Pauli Expectation Values - 5.68s, Calculate Covariance - 2.35s\n",
      "f0,f1,f2 = [4.502273808697941e-09, 4.5022738086966006e-09, 4.50227380865841e-09]\n",
      "d01,d02,d12 = [1.232506648826909, 1.232506648826754, 1.2325066488269356]\n"
     ]
    },
    {
     "name": "stderr",
     "output_type": "stream",
     "text": [
      "/cluster/home/mskrabulis/miniconda3/envs/quantech/lib/python3.9/site-packages/pyscf/symm/Dmatrix.py:156: RuntimeWarning: invalid value encountered in arccos\n",
      "  gamma = numpy.arccos(yp.dot(c2[1]))\n",
      "Progress:  14%|█▎        | 68/500 [17:07<2:01:59, 16.94s/it]"
     ]
    },
    {
     "name": "stdout",
     "output_type": "stream",
     "text": [
      "Time to: Calculate Ground State - 1.31s, Get Pauli Ops - 5.31s, Calculate Pauli Expectation Values - 5.48s, Calculate Covariance - 2.25s\n",
      "f0,f1,f2 = [6.131736086397014e-09, 6.131736086409116e-09, 6.1317360864292916e-09]\n",
      "d01,d02,d12 = [1.241572817105482, 1.2415728171052811, 1.2415728171054994]\n"
     ]
    },
    {
     "name": "stderr",
     "output_type": "stream",
     "text": [
      "/cluster/home/mskrabulis/miniconda3/envs/quantech/lib/python3.9/site-packages/pyscf/symm/Dmatrix.py:156: RuntimeWarning: invalid value encountered in arccos\n",
      "  gamma = numpy.arccos(yp.dot(c2[1]))\n",
      "Progress:  14%|█▍        | 69/500 [17:21<1:55:08, 16.03s/it]"
     ]
    },
    {
     "name": "stdout",
     "output_type": "stream",
     "text": [
      "Time to: Calculate Ground State - 1.37s, Get Pauli Ops - 5.05s, Calculate Pauli Expectation Values - 5.2s, Calculate Covariance - 2.27s\n",
      "f0,f1,f2 = [4.662029415471536e-09, 4.6620294154654395e-09, 4.662029415490329e-09]\n",
      "d01,d02,d12 = [1.2478137092556603, 1.2478137092554162, 1.2478137092556665]\n"
     ]
    },
    {
     "name": "stderr",
     "output_type": "stream",
     "text": [
      "Progress:  14%|█▍        | 70/500 [17:40<2:00:08, 16.76s/it]"
     ]
    },
    {
     "name": "stdout",
     "output_type": "stream",
     "text": [
      "Time to: Calculate Ground State - 1.34s, Get Pauli Ops - 5.18s, Calculate Pauli Expectation Values - 9.77s, Calculate Covariance - 2.18s\n",
      "f0,f1,f2 = [6.301897299142207e-09, 6.3018972991699155e-09, 6.301897299117529e-09]\n",
      "d01,d02,d12 = [1.2519833763748403, 1.2519833763745605, 1.2519833763748411]\n"
     ]
    },
    {
     "name": "stderr",
     "output_type": "stream",
     "text": [
      "Progress:  14%|█▍        | 71/500 [17:56<1:59:48, 16.76s/it]"
     ]
    },
    {
     "name": "stdout",
     "output_type": "stream",
     "text": [
      "Time to: Calculate Ground State - 1.37s, Get Pauli Ops - 6.33s, Calculate Pauli Expectation Values - 6.73s, Calculate Covariance - 2.3s\n",
      "f0,f1,f2 = [5.365264072829581e-09, 5.365264072835285e-09, 5.3652640728299634e-09]\n",
      "d01,d02,d12 = [1.2535893614318383, 1.253589361431532, 1.253589361431838]\n"
     ]
    },
    {
     "name": "stderr",
     "output_type": "stream",
     "text": [
      "Progress:  14%|█▍        | 72/500 [18:11<1:55:24, 16.18s/it]"
     ]
    },
    {
     "name": "stdout",
     "output_type": "stream",
     "text": [
      "Time to: Calculate Ground State - 1.26s, Get Pauli Ops - 5.34s, Calculate Pauli Expectation Values - 5.99s, Calculate Covariance - 2.23s\n",
      "f0,f1,f2 = [5.0337431210725764e-09, 5.033743121057409e-09, 5.033743121079659e-09]\n",
      "d01,d02,d12 = [1.253062490363376, 1.253062490363038, 1.2530624903633707]\n"
     ]
    },
    {
     "name": "stderr",
     "output_type": "stream",
     "text": [
      "Progress:  15%|█▍        | 73/500 [18:25<1:49:38, 15.41s/it]"
     ]
    },
    {
     "name": "stdout",
     "output_type": "stream",
     "text": [
      "Time to: Calculate Ground State - 1.18s, Get Pauli Ops - 5.24s, Calculate Pauli Expectation Values - 5.21s, Calculate Covariance - 1.96s\n",
      "f0,f1,f2 = [7.3961201512978596e-09, 7.3961201513088685e-09, 7.3961201512880864e-09]\n",
      "d01,d02,d12 = [1.249467454487031, 1.2494674544866584, 1.249467454487016]\n"
     ]
    },
    {
     "name": "stderr",
     "output_type": "stream",
     "text": [
      "Progress:  15%|█▍        | 74/500 [18:39<1:46:11, 14.96s/it]"
     ]
    },
    {
     "name": "stdout",
     "output_type": "stream",
     "text": [
      "Time to: Calculate Ground State - 1.14s, Get Pauli Ops - 5.32s, Calculate Pauli Expectation Values - 5.34s, Calculate Covariance - 2.1s\n",
      "f0,f1,f2 = [7.124344493870132e-09, 7.124344493849282e-09, 7.124344493841515e-09]\n",
      "d01,d02,d12 = [1.2431119643253319, 1.2431119643249344, 1.2431119643253108]\n"
     ]
    },
    {
     "name": "stderr",
     "output_type": "stream",
     "text": [
      "/cluster/home/mskrabulis/miniconda3/envs/quantech/lib/python3.9/site-packages/pyscf/symm/Dmatrix.py:156: RuntimeWarning: invalid value encountered in arccos\n",
      "  gamma = numpy.arccos(yp.dot(c2[1]))\n",
      "Progress:  15%|█▌        | 75/500 [18:53<1:43:52, 14.66s/it]"
     ]
    },
    {
     "name": "stdout",
     "output_type": "stream",
     "text": [
      "Time to: Calculate Ground State - 1.34s, Get Pauli Ops - 5.09s, Calculate Pauli Expectation Values - 5.59s, Calculate Covariance - 1.95s\n",
      "f0,f1,f2 = [5.67129631665631e-09, 5.671296316685452e-09, 5.6712963166743805e-09]\n",
      "d01,d02,d12 = [1.2362064908936061, 1.2362064908931985, 1.23620649089357]\n"
     ]
    },
    {
     "name": "stderr",
     "output_type": "stream",
     "text": [
      "/cluster/home/mskrabulis/miniconda3/envs/quantech/lib/python3.9/site-packages/pyscf/symm/Dmatrix.py:156: RuntimeWarning: invalid value encountered in arccos\n",
      "  gamma = numpy.arccos(yp.dot(c2[1]))\n",
      "Progress:  15%|█▌        | 76/500 [19:06<1:39:47, 14.12s/it]"
     ]
    },
    {
     "name": "stdout",
     "output_type": "stream",
     "text": [
      "Time to: Calculate Ground State - 1.32s, Get Pauli Ops - 4.64s, Calculate Pauli Expectation Values - 4.9s, Calculate Covariance - 1.98s\n",
      "f0,f1,f2 = [5.4532950123749585e-09, 5.453295012406146e-09, 5.453295012349568e-09]\n",
      "d01,d02,d12 = [1.2275351228062192, 1.2275351228058196, 1.2275351228061606]\n"
     ]
    },
    {
     "name": "stderr",
     "output_type": "stream",
     "text": [
      "/cluster/home/mskrabulis/miniconda3/envs/quantech/lib/python3.9/site-packages/pyscf/symm/Dmatrix.py:156: RuntimeWarning: invalid value encountered in arccos\n",
      "  gamma = numpy.arccos(yp.dot(c2[1]))\n",
      "Progress:  15%|█▌        | 77/500 [19:19<1:38:10, 13.93s/it]"
     ]
    },
    {
     "name": "stdout",
     "output_type": "stream",
     "text": [
      "Time to: Calculate Ground State - 1.06s, Get Pauli Ops - 4.85s, Calculate Pauli Expectation Values - 5.57s, Calculate Covariance - 1.97s\n",
      "f0,f1,f2 = [6.29312040299838e-09, 6.293120402955422e-09, 6.293120402927559e-09]\n",
      "d01,d02,d12 = [1.2142805762064173, 1.2142805762060358, 1.214280576206341]\n"
     ]
    },
    {
     "name": "stderr",
     "output_type": "stream",
     "text": [
      "/cluster/home/mskrabulis/miniconda3/envs/quantech/lib/python3.9/site-packages/pyscf/symm/Dmatrix.py:156: RuntimeWarning: invalid value encountered in arccos\n",
      "  gamma = numpy.arccos(yp.dot(c2[1]))\n",
      "Progress:  16%|█▌        | 78/500 [19:37<1:46:22, 15.12s/it]"
     ]
    },
    {
     "name": "stdout",
     "output_type": "stream",
     "text": [
      "Time to: Calculate Ground State - 1.03s, Get Pauli Ops - 5.28s, Calculate Pauli Expectation Values - 9.37s, Calculate Covariance - 2.23s\n",
      "f0,f1,f2 = [5.620549439831957e-09, 5.62054943980907e-09, 5.620549439817572e-09]\n",
      "d01,d02,d12 = [1.1978100079975094, 1.197810007997141, 1.1978100079974148]\n"
     ]
    },
    {
     "name": "stderr",
     "output_type": "stream",
     "text": [
      "/cluster/home/mskrabulis/miniconda3/envs/quantech/lib/python3.9/site-packages/pyscf/symm/Dmatrix.py:156: RuntimeWarning: invalid value encountered in arccos\n",
      "  gamma = numpy.arccos(yp.dot(c2[1]))\n",
      "Progress:  16%|█▌        | 79/500 [19:50<1:42:01, 14.54s/it]"
     ]
    },
    {
     "name": "stdout",
     "output_type": "stream",
     "text": [
      "Time to: Calculate Ground State - 1.29s, Get Pauli Ops - 4.85s, Calculate Pauli Expectation Values - 5.29s, Calculate Covariance - 1.74s\n",
      "f0,f1,f2 = [6.018263688551221e-09, 6.018263688529673e-09, 6.018263688601089e-09]\n",
      "d01,d02,d12 = [1.1801705061255534, 1.180170506125198, 1.1801705061254457]\n"
     ]
    },
    {
     "name": "stderr",
     "output_type": "stream",
     "text": [
      "Progress:  16%|█▌        | 80/500 [20:05<1:41:34, 14.51s/it]"
     ]
    },
    {
     "name": "stdout",
     "output_type": "stream",
     "text": [
      "Time to: Calculate Ground State - 1.15s, Get Pauli Ops - 5.23s, Calculate Pauli Expectation Values - 5.7s, Calculate Covariance - 2.35s\n",
      "f0,f1,f2 = [5.5682433532645994e-09, 5.568243353241639e-09, 5.56824335328847e-09]\n",
      "d01,d02,d12 = [1.160777366192917, 1.1607773661925562, 1.1607773661927885]\n"
     ]
    },
    {
     "name": "stderr",
     "output_type": "stream",
     "text": [
      "Progress:  16%|█▌        | 81/500 [20:18<1:38:12, 14.06s/it]"
     ]
    },
    {
     "name": "stdout",
     "output_type": "stream",
     "text": [
      "Time to: Calculate Ground State - 1.28s, Get Pauli Ops - 4.32s, Calculate Pauli Expectation Values - 5.32s, Calculate Covariance - 2.09s\n",
      "f0,f1,f2 = [4.871788441297859e-09, 4.871788441305122e-09, 4.871788441333293e-09]\n",
      "d01,d02,d12 = [1.1392383485254614, 1.139238348525083, 1.139238348525294]\n"
     ]
    },
    {
     "name": "stderr",
     "output_type": "stream",
     "text": [
      "/cluster/home/mskrabulis/miniconda3/envs/quantech/lib/python3.9/site-packages/pyscf/symm/Dmatrix.py:156: RuntimeWarning: invalid value encountered in arccos\n",
      "  gamma = numpy.arccos(yp.dot(c2[1]))\n",
      "Progress:  16%|█▋        | 82/500 [20:32<1:37:36, 14.01s/it]"
     ]
    },
    {
     "name": "stdout",
     "output_type": "stream",
     "text": [
      "Time to: Calculate Ground State - 1.2s, Get Pauli Ops - 5.06s, Calculate Pauli Expectation Values - 5.34s, Calculate Covariance - 2.29s\n",
      "f0,f1,f2 = [4.245561957752794e-09, 4.245561957743514e-09, 4.245561957723792e-09]\n",
      "d01,d02,d12 = [1.111070974205511, 1.1110709742051297, 1.111070974205301]\n"
     ]
    },
    {
     "name": "stderr",
     "output_type": "stream",
     "text": [
      "Progress:  17%|█▋        | 83/500 [20:46<1:38:17, 14.14s/it]"
     ]
    },
    {
     "name": "stdout",
     "output_type": "stream",
     "text": [
      "Time to: Calculate Ground State - 1.3s, Get Pauli Ops - 5.0s, Calculate Pauli Expectation Values - 5.69s, Calculate Covariance - 2.45s\n",
      "f0,f1,f2 = [2.7156394924712434e-09, 2.7156394925068105e-09, 2.7156394925124254e-09]\n",
      "d01,d02,d12 = [1.083685077007674, 1.0836850770073048, 1.083685077007432]\n"
     ]
    },
    {
     "name": "stderr",
     "output_type": "stream",
     "text": [
      "Progress:  17%|█▋        | 84/500 [21:01<1:39:29, 14.35s/it]"
     ]
    },
    {
     "name": "stdout",
     "output_type": "stream",
     "text": [
      "Time to: Calculate Ground State - 1.38s, Get Pauli Ops - 5.36s, Calculate Pauli Expectation Values - 5.69s, Calculate Covariance - 2.38s\n",
      "f0,f1,f2 = [3.3674255695109168e-09, 3.3674255695093187e-09, 3.3674255695177125e-09]\n",
      "d01,d02,d12 = [1.0497058490606328, 1.049705849060269, 1.0497058490603504]\n"
     ]
    },
    {
     "name": "stderr",
     "output_type": "stream",
     "text": [
      "Progress:  17%|█▋        | 85/500 [21:15<1:39:31, 14.39s/it]"
     ]
    },
    {
     "name": "stdout",
     "output_type": "stream",
     "text": [
      "Time to: Calculate Ground State - 1.4s, Get Pauli Ops - 5.34s, Calculate Pauli Expectation Values - 5.31s, Calculate Covariance - 2.44s\n",
      "f0,f1,f2 = [2.042613275246352e-09, 2.0426132752888242e-09, 2.042613275254749e-09]\n",
      "d01,d02,d12 = [1.0164485611829432, 1.0164485611825895, 1.0164485611826117]\n"
     ]
    },
    {
     "name": "stderr",
     "output_type": "stream",
     "text": [
      "Progress:  17%|█▋        | 86/500 [21:31<1:41:34, 14.72s/it]"
     ]
    },
    {
     "name": "stdout",
     "output_type": "stream",
     "text": [
      "Time to: Calculate Ground State - 1.47s, Get Pauli Ops - 5.31s, Calculate Pauli Expectation Values - 6.29s, Calculate Covariance - 2.41s\n",
      "f0,f1,f2 = [1.0573561859280518e-09, 1.0573561859726767e-09, 1.0573561859639088e-09]\n",
      "d01,d02,d12 = [0.9843024187706786, 0.9843024187703165, 0.9843024187702756]\n"
     ]
    },
    {
     "name": "stderr",
     "output_type": "stream",
     "text": [
      "/cluster/home/mskrabulis/miniconda3/envs/quantech/lib/python3.9/site-packages/pyscf/symm/Dmatrix.py:156: RuntimeWarning: invalid value encountered in arccos\n",
      "  gamma = numpy.arccos(yp.dot(c2[1]))\n",
      "Progress:  17%|█▋        | 87/500 [21:46<1:42:34, 14.90s/it]"
     ]
    },
    {
     "name": "stdout",
     "output_type": "stream",
     "text": [
      "Time to: Calculate Ground State - 1.52s, Get Pauli Ops - 5.53s, Calculate Pauli Expectation Values - 5.95s, Calculate Covariance - 2.33s\n",
      "f0,f1,f2 = [1.296731988338717e-09, 1.2967319883386672e-09, 1.2967319882801413e-09]\n",
      "d01,d02,d12 = [0.9565660465168457, 0.9565660465165062, 0.9565660465163723]\n"
     ]
    },
    {
     "name": "stderr",
     "output_type": "stream",
     "text": [
      "Progress:  18%|█▊        | 88/500 [22:01<1:41:36, 14.80s/it]"
     ]
    },
    {
     "name": "stdout",
     "output_type": "stream",
     "text": [
      "Time to: Calculate Ground State - 1.41s, Get Pauli Ops - 5.51s, Calculate Pauli Expectation Values - 5.66s, Calculate Covariance - 1.96s\n",
      "f0,f1,f2 = [1.747806824736098e-09, 1.7478068247501557e-09, 1.7478068247694788e-09]\n",
      "d01,d02,d12 = [0.929852297892375, 0.9298522978920543, 0.9298522978918539]\n"
     ]
    },
    {
     "name": "stderr",
     "output_type": "stream",
     "text": [
      "Progress:  18%|█▊        | 89/500 [22:22<1:54:11, 16.67s/it]"
     ]
    },
    {
     "name": "stdout",
     "output_type": "stream",
     "text": [
      "Time to: Calculate Ground State - 1.53s, Get Pauli Ops - 5.27s, Calculate Pauli Expectation Values - 11.8s, Calculate Covariance - 2.44s\n",
      "f0,f1,f2 = [2.671398990766786e-09, 2.6713989907434802e-09, 2.671398990783129e-09]\n",
      "d01,d02,d12 = [0.9068574005851084, 0.9068574005848277, 0.9068574005845625]\n"
     ]
    },
    {
     "name": "stderr",
     "output_type": "stream",
     "text": [
      "/cluster/home/mskrabulis/miniconda3/envs/quantech/lib/python3.9/site-packages/pyscf/symm/Dmatrix.py:156: RuntimeWarning: invalid value encountered in arccos\n",
      "  gamma = numpy.arccos(yp.dot(c2[1]))\n",
      "/cluster/home/mskrabulis/miniconda3/envs/quantech/lib/python3.9/site-packages/pyscf/symm/Dmatrix.py:156: RuntimeWarning: invalid value encountered in arccos\n",
      "  gamma = numpy.arccos(yp.dot(c2[1]))\n",
      "Progress:  18%|█▊        | 90/500 [22:39<1:55:55, 16.96s/it]"
     ]
    },
    {
     "name": "stdout",
     "output_type": "stream",
     "text": [
      "Time to: Calculate Ground State - 1.49s, Get Pauli Ops - 8.72s, Calculate Pauli Expectation Values - 4.95s, Calculate Covariance - 2.47s\n",
      "f0,f1,f2 = [4.4103435423359795e-09, 4.4103435423155655e-09, 4.410343542359211e-09]\n",
      "d01,d02,d12 = [0.8834648948478018, 0.8834648948475669, 0.883464894847254]\n"
     ]
    },
    {
     "name": "stderr",
     "output_type": "stream",
     "text": [
      "/cluster/home/mskrabulis/miniconda3/envs/quantech/lib/python3.9/site-packages/pyscf/symm/Dmatrix.py:156: RuntimeWarning: invalid value encountered in arccos\n",
      "  gamma = numpy.arccos(yp.dot(c2[1]))\n",
      "Progress:  18%|█▊        | 91/500 [22:58<1:58:18, 17.36s/it]"
     ]
    },
    {
     "name": "stdout",
     "output_type": "stream",
     "text": [
      "Time to: Calculate Ground State - 1.48s, Get Pauli Ops - 9.1s, Calculate Pauli Expectation Values - 5.3s, Calculate Covariance - 2.37s\n",
      "f0,f1,f2 = [6.2997857097766574e-09, 6.299785709830738e-09, 6.299785709828688e-09]\n",
      "d01,d02,d12 = [0.8670418937892135, 0.8670418937890274, 0.8670418937886675]\n"
     ]
    },
    {
     "name": "stderr",
     "output_type": "stream",
     "text": [
      "/cluster/home/mskrabulis/miniconda3/envs/quantech/lib/python3.9/site-packages/pyscf/symm/Dmatrix.py:156: RuntimeWarning: invalid value encountered in arccos\n",
      "  gamma = numpy.arccos(yp.dot(c2[1]))\n",
      "/cluster/home/mskrabulis/miniconda3/envs/quantech/lib/python3.9/site-packages/pyscf/symm/Dmatrix.py:156: RuntimeWarning: invalid value encountered in arccos\n",
      "  gamma = numpy.arccos(yp.dot(c2[1]))\n",
      "Progress:  18%|█▊        | 92/500 [23:15<1:58:20, 17.40s/it]"
     ]
    },
    {
     "name": "stdout",
     "output_type": "stream",
     "text": [
      "Time to: Calculate Ground State - 1.51s, Get Pauli Ops - 8.04s, Calculate Pauli Expectation Values - 5.67s, Calculate Covariance - 2.28s\n",
      "f0,f1,f2 = [6.082966264417456e-09, 6.082966264410967e-09, 6.082966264444206e-09]\n",
      "d01,d02,d12 = [0.852713179202253, 0.8527131792021222, 0.8527131792017251]\n"
     ]
    },
    {
     "name": "stderr",
     "output_type": "stream",
     "text": [
      "Progress:  19%|█▊        | 93/500 [23:33<1:59:57, 17.69s/it]"
     ]
    },
    {
     "name": "stdout",
     "output_type": "stream",
     "text": [
      "Time to: Calculate Ground State - 1.42s, Get Pauli Ops - 9.09s, Calculate Pauli Expectation Values - 5.57s, Calculate Covariance - 2.24s\n",
      "f0,f1,f2 = [8.29856358394641e-09, 8.29856358398456e-09, 8.29856358398774e-09]\n",
      "d01,d02,d12 = [0.8410215357053876, 0.8410215357053137, 0.8410215357048962]\n"
     ]
    },
    {
     "name": "stderr",
     "output_type": "stream",
     "text": [
      "/cluster/home/mskrabulis/miniconda3/envs/quantech/lib/python3.9/site-packages/pyscf/symm/Dmatrix.py:156: RuntimeWarning: invalid value encountered in arccos\n",
      "  gamma = numpy.arccos(yp.dot(c2[1]))\n",
      "Progress:  19%|█▉        | 94/500 [23:48<1:53:38, 16.80s/it]"
     ]
    },
    {
     "name": "stdout",
     "output_type": "stream",
     "text": [
      "Time to: Calculate Ground State - 1.17s, Get Pauli Ops - 4.59s, Calculate Pauli Expectation Values - 6.5s, Calculate Covariance - 2.45s\n",
      "f0,f1,f2 = [7.946339195767731e-09, 7.946339195767361e-09, 7.946339195777184e-09]\n",
      "d01,d02,d12 = [0.8331064327620379, 0.8331064327620229, 0.8331064327615821]\n"
     ]
    },
    {
     "name": "stderr",
     "output_type": "stream",
     "text": [
      "Progress:  19%|█▉        | 95/500 [24:07<1:56:56, 17.32s/it]"
     ]
    },
    {
     "name": "stdout",
     "output_type": "stream",
     "text": [
      "Time to: Calculate Ground State - 1.33s, Get Pauli Ops - 9.71s, Calculate Pauli Expectation Values - 5.11s, Calculate Covariance - 2.4s\n",
      "f0,f1,f2 = [9.5547458549926e-09, 9.554745854998847e-09, 9.554745855051171e-09]\n",
      "d01,d02,d12 = [0.8295613612681442, 0.829561361268201, 0.8295613612677316]\n"
     ]
    },
    {
     "name": "stderr",
     "output_type": "stream",
     "text": [
      "Progress:  19%|█▉        | 96/500 [24:21<1:51:11, 16.51s/it]"
     ]
    },
    {
     "name": "stdout",
     "output_type": "stream",
     "text": [
      "Time to: Calculate Ground State - 1.16s, Get Pauli Ops - 5.34s, Calculate Pauli Expectation Values - 5.67s, Calculate Covariance - 2.44s\n",
      "f0,f1,f2 = [9.399109107727273e-09, 9.399109107766088e-09, 9.399109107746115e-09]\n",
      "d01,d02,d12 = [0.830549881553944, 0.8305498815540605, 0.8305498815535773]\n"
     ]
    },
    {
     "name": "stderr",
     "output_type": "stream",
     "text": [
      "Progress:  19%|█▉        | 97/500 [24:38<1:50:18, 16.42s/it]"
     ]
    },
    {
     "name": "stdout",
     "output_type": "stream",
     "text": [
      "Time to: Calculate Ground State - 1.42s, Get Pauli Ops - 7.19s, Calculate Pauli Expectation Values - 5.27s, Calculate Covariance - 2.32s\n",
      "f0,f1,f2 = [1.00751123209433e-08, 1.0075112320950014e-08, 1.0075112320955776e-08]\n",
      "d01,d02,d12 = [0.8355523584446489, 0.8355523584448263, 0.8355523584443305]\n"
     ]
    },
    {
     "name": "stderr",
     "output_type": "stream",
     "text": [
      "/cluster/home/mskrabulis/miniconda3/envs/quantech/lib/python3.9/site-packages/pyscf/symm/Dmatrix.py:156: RuntimeWarning: invalid value encountered in arccos\n",
      "  gamma = numpy.arccos(yp.dot(c2[1]))\n",
      "Progress:  20%|█▉        | 98/500 [24:55<1:51:36, 16.66s/it]"
     ]
    },
    {
     "name": "stdout",
     "output_type": "stream",
     "text": [
      "Time to: Calculate Ground State - 1.42s, Get Pauli Ops - 7.83s, Calculate Pauli Expectation Values - 5.46s, Calculate Covariance - 2.47s\n",
      "f0,f1,f2 = [7.626365929601964e-09, 7.626365929654138e-09, 7.626365929611917e-09]\n",
      "d01,d02,d12 = [0.8437159172038233, 0.8437159172040533, 0.8437159172035578]\n"
     ]
    },
    {
     "name": "stderr",
     "output_type": "stream",
     "text": [
      "Progress:  20%|█▉        | 99/500 [25:09<1:45:37, 15.80s/it]"
     ]
    },
    {
     "name": "stdout",
     "output_type": "stream",
     "text": [
      "Time to: Calculate Ground State - 1.14s, Get Pauli Ops - 5.51s, Calculate Pauli Expectation Values - 5.17s, Calculate Covariance - 1.98s\n",
      "f0,f1,f2 = [7.540520114870683e-09, 7.54052011489397e-09, 7.540520114883253e-09]\n",
      "d01,d02,d12 = [0.855001821924682, 0.8550018219249651, 0.855001821924477]\n"
     ]
    },
    {
     "name": "stderr",
     "output_type": "stream",
     "text": [
      "Progress:  20%|██        | 100/500 [25:27<1:50:13, 16.53s/it]"
     ]
    },
    {
     "name": "stdout",
     "output_type": "stream",
     "text": [
      "Time to: Calculate Ground State - 1.1s, Get Pauli Ops - 5.39s, Calculate Pauli Expectation Values - 9.21s, Calculate Covariance - 2.51s\n",
      "f0,f1,f2 = [7.81955944660162e-09, 7.81955944659695e-09, 7.819559446559628e-09]\n",
      "d01,d02,d12 = [0.8672594678777978, 0.8672594678781174, 0.8672594678776552]\n"
     ]
    },
    {
     "name": "stderr",
     "output_type": "stream",
     "text": [
      "Progress:  20%|██        | 101/500 [25:42<1:47:08, 16.11s/it]"
     ]
    },
    {
     "name": "stdout",
     "output_type": "stream",
     "text": [
      "Time to: Calculate Ground State - 1.46s, Get Pauli Ops - 5.44s, Calculate Pauli Expectation Values - 6.02s, Calculate Covariance - 2.19s\n",
      "f0,f1,f2 = [6.823254216611956e-09, 6.823254216622825e-09, 6.823254216663261e-09]\n",
      "d01,d02,d12 = [0.8808076215833252, 0.8808076215836907, 0.8808076215832509]\n"
     ]
    },
    {
     "name": "stderr",
     "output_type": "stream",
     "text": [
      "/cluster/home/mskrabulis/miniconda3/envs/quantech/lib/python3.9/site-packages/pyscf/symm/Dmatrix.py:156: RuntimeWarning: invalid value encountered in arccos\n",
      "  gamma = numpy.arccos(yp.dot(c2[1]))\n",
      "Progress:  20%|██        | 102/500 [25:57<1:45:28, 15.90s/it]"
     ]
    },
    {
     "name": "stdout",
     "output_type": "stream",
     "text": [
      "Time to: Calculate Ground State - 1.11s, Get Pauli Ops - 5.4s, Calculate Pauli Expectation Values - 6.68s, Calculate Covariance - 2.21s\n",
      "f0,f1,f2 = [5.954616385423883e-09, 5.954616385513e-09, 5.954616385497422e-09]\n",
      "d01,d02,d12 = [0.8945286460746531, 0.8945286460750594, 0.8945286460746568]\n"
     ]
    },
    {
     "name": "stderr",
     "output_type": "stream",
     "text": [
      "Progress:  21%|██        | 103/500 [26:12<1:42:11, 15.44s/it]"
     ]
    },
    {
     "name": "stdout",
     "output_type": "stream",
     "text": [
      "Time to: Calculate Ground State - 1.34s, Get Pauli Ops - 5.43s, Calculate Pauli Expectation Values - 5.61s, Calculate Covariance - 2.0s\n",
      "f0,f1,f2 = [4.123272967071181e-09, 4.1232729670601635e-09, 4.123272967074397e-09]\n",
      "d01,d02,d12 = [0.9102886165725501, 0.9102886165729942, 0.9102886165726284]\n"
     ]
    },
    {
     "name": "stderr",
     "output_type": "stream",
     "text": [
      "Progress:  21%|██        | 104/500 [26:27<1:41:31, 15.38s/it]"
     ]
    },
    {
     "name": "stdout",
     "output_type": "stream",
     "text": [
      "Time to: Calculate Ground State - 0.81s, Get Pauli Ops - 4.84s, Calculate Pauli Expectation Values - 7.15s, Calculate Covariance - 2.42s\n",
      "f0,f1,f2 = [4.217371861545228e-09, 4.217371861584817e-09, 4.217371861558781e-09]\n",
      "d01,d02,d12 = [0.9245952994371871, 0.924595299437659, 0.9245952994373439]\n"
     ]
    },
    {
     "name": "stderr",
     "output_type": "stream",
     "text": [
      "/cluster/home/mskrabulis/miniconda3/envs/quantech/lib/python3.9/site-packages/pyscf/symm/Dmatrix.py:156: RuntimeWarning: invalid value encountered in arccos\n",
      "  gamma = numpy.arccos(yp.dot(c2[1]))\n",
      "Progress:  21%|██        | 105/500 [26:40<1:36:06, 14.60s/it]"
     ]
    },
    {
     "name": "stdout",
     "output_type": "stream",
     "text": [
      "Time to: Calculate Ground State - 1.06s, Get Pauli Ops - 5.12s, Calculate Pauli Expectation Values - 5.12s, Calculate Covariance - 1.46s\n",
      "f0,f1,f2 = [3.4543370823040972e-09, 3.45433708226128e-09, 3.454337082251924e-09]\n",
      "d01,d02,d12 = [0.9416130899102664, 0.9416130899107654, 0.9416130899104965]\n"
     ]
    },
    {
     "name": "stderr",
     "output_type": "stream",
     "text": [
      "Progress:  21%|██        | 106/500 [26:54<1:35:38, 14.57s/it]"
     ]
    },
    {
     "name": "stdout",
     "output_type": "stream",
     "text": [
      "Time to: Calculate Ground State - 1.35s, Get Pauli Ops - 6.19s, Calculate Pauli Expectation Values - 5.11s, Calculate Covariance - 1.83s\n",
      "f0,f1,f2 = [3.389900032473078e-09, 3.3899000324823363e-09, 3.3899000324813214e-09]\n",
      "d01,d02,d12 = [0.9623024378969847, 0.9623024378975146, 0.9623024378972956]\n"
     ]
    },
    {
     "name": "stderr",
     "output_type": "stream",
     "text": [
      "Progress:  21%|██▏       | 107/500 [27:08<1:33:59, 14.35s/it]"
     ]
    },
    {
     "name": "stdout",
     "output_type": "stream",
     "text": [
      "Time to: Calculate Ground State - 1.35s, Get Pauli Ops - 5.32s, Calculate Pauli Expectation Values - 5.16s, Calculate Covariance - 2.01s\n",
      "f0,f1,f2 = [1.1167708514037256e-09, 1.1167708513767351e-09, 1.1167708514014602e-09]\n",
      "d01,d02,d12 = [0.9853197707426193, 0.9853197707431978, 0.9853197707430146]\n"
     ]
    },
    {
     "name": "stderr",
     "output_type": "stream",
     "text": [
      "Progress:  22%|██▏       | 108/500 [27:22<1:33:32, 14.32s/it]"
     ]
    },
    {
     "name": "stdout",
     "output_type": "stream",
     "text": [
      "Time to: Calculate Ground State - 1.23s, Get Pauli Ops - 5.33s, Calculate Pauli Expectation Values - 5.38s, Calculate Covariance - 2.31s\n",
      "f0,f1,f2 = [1.3290777658883293e-09, 1.3290777658966313e-09, 1.32907776590158e-09]\n",
      "d01,d02,d12 = [1.0088890601291332, 1.0088890601297662, 1.0088890601296245]\n"
     ]
    },
    {
     "name": "stderr",
     "output_type": "stream",
     "text": [
      "Progress:  22%|██▏       | 109/500 [27:36<1:31:18, 14.01s/it]"
     ]
    },
    {
     "name": "stdout",
     "output_type": "stream",
     "text": [
      "Time to: Calculate Ground State - 1.28s, Get Pauli Ops - 4.61s, Calculate Pauli Expectation Values - 5.28s, Calculate Covariance - 2.12s\n",
      "f0,f1,f2 = [1.3681519757441959e-09, 1.3681519757673323e-09, 1.36815197571243e-09]\n",
      "d01,d02,d12 = [1.030363146660703, 1.0303631466613987, 1.0303631466612797]\n"
     ]
    },
    {
     "name": "stderr",
     "output_type": "stream",
     "text": [
      "/cluster/home/mskrabulis/miniconda3/envs/quantech/lib/python3.9/site-packages/pyscf/symm/Dmatrix.py:156: RuntimeWarning: invalid value encountered in arccos\n",
      "  gamma = numpy.arccos(yp.dot(c2[1]))\n",
      "Progress:  22%|██▏       | 110/500 [27:50<1:31:14, 14.04s/it]"
     ]
    },
    {
     "name": "stdout",
     "output_type": "stream",
     "text": [
      "Time to: Calculate Ground State - 1.37s, Get Pauli Ops - 5.28s, Calculate Pauli Expectation Values - 5.09s, Calculate Covariance - 2.35s\n",
      "f0,f1,f2 = [3.7338181460787175e-10, 3.73381814616581e-10, 3.7338181467008085e-10]\n",
      "d01,d02,d12 = [1.0513043921481109, 1.0513043921488647, 1.051304392148756]\n"
     ]
    },
    {
     "name": "stderr",
     "output_type": "stream",
     "text": [
      "Progress:  22%|██▏       | 111/500 [28:04<1:30:58, 14.03s/it]"
     ]
    },
    {
     "name": "stdout",
     "output_type": "stream",
     "text": [
      "Time to: Calculate Ground State - 1.04s, Get Pauli Ops - 5.24s, Calculate Pauli Expectation Values - 5.94s, Calculate Covariance - 1.8s\n",
      "f0,f1,f2 = [1.9755408898270746e-09, 1.9755408898175273e-09, 1.9755408898141437e-09]\n",
      "d01,d02,d12 = [1.0705868309794613, 1.070586830980259, 1.0705868309801652]\n"
     ]
    },
    {
     "name": "stderr",
     "output_type": "stream",
     "text": [
      "/cluster/home/mskrabulis/miniconda3/envs/quantech/lib/python3.9/site-packages/pyscf/symm/Dmatrix.py:156: RuntimeWarning: invalid value encountered in arccos\n",
      "  gamma = numpy.arccos(yp.dot(c2[1]))\n",
      "/cluster/home/mskrabulis/miniconda3/envs/quantech/lib/python3.9/site-packages/pyscf/symm/Dmatrix.py:156: RuntimeWarning: invalid value encountered in arccos\n",
      "  gamma = numpy.arccos(yp.dot(c2[1]))\n",
      "Progress:  22%|██▏       | 112/500 [28:17<1:29:41, 13.87s/it]"
     ]
    },
    {
     "name": "stdout",
     "output_type": "stream",
     "text": [
      "Time to: Calculate Ground State - 1.34s, Get Pauli Ops - 4.63s, Calculate Pauli Expectation Values - 5.24s, Calculate Covariance - 2.28s\n",
      "f0,f1,f2 = [2.790335680442839e-09, 2.7903356804522568e-09, 2.7903356804462928e-09]\n",
      "d01,d02,d12 = [1.086575618624326, 1.086575618625151, 1.08657561862508]\n"
     ]
    },
    {
     "name": "stderr",
     "output_type": "stream",
     "text": [
      "Progress:  23%|██▎       | 113/500 [28:31<1:28:43, 13.76s/it]"
     ]
    },
    {
     "name": "stdout",
     "output_type": "stream",
     "text": [
      "Time to: Calculate Ground State - 0.82s, Get Pauli Ops - 5.2s, Calculate Pauli Expectation Values - 5.27s, Calculate Covariance - 2.2s\n",
      "f0,f1,f2 = [4.221857239385871e-09, 4.221857239384666e-09, 4.221857239370146e-09]\n",
      "d01,d02,d12 = [1.0999613992185138, 1.0999613992193753, 1.0999613992193273]\n"
     ]
    },
    {
     "name": "stderr",
     "output_type": "stream",
     "text": [
      "Progress:  23%|██▎       | 114/500 [28:45<1:29:51, 13.97s/it]"
     ]
    },
    {
     "name": "stdout",
     "output_type": "stream",
     "text": [
      "Time to: Calculate Ground State - 1.3s, Get Pauli Ops - 5.32s, Calculate Pauli Expectation Values - 5.47s, Calculate Covariance - 2.36s\n",
      "f0,f1,f2 = [2.950892205945771e-09, 2.9508922059877448e-09, 2.9508922059751146e-09]\n",
      "d01,d02,d12 = [1.1108764245636906, 1.1108764245645817, 1.1108764245645522]\n"
     ]
    },
    {
     "name": "stderr",
     "output_type": "stream",
     "text": [
      "Progress:  23%|██▎       | 115/500 [29:00<1:30:21, 14.08s/it]"
     ]
    },
    {
     "name": "stdout",
     "output_type": "stream",
     "text": [
      "Time to: Calculate Ground State - 1.03s, Get Pauli Ops - 5.24s, Calculate Pauli Expectation Values - 5.94s, Calculate Covariance - 2.14s\n",
      "f0,f1,f2 = [2.4255807009665817e-09, 2.4255807009498114e-09, 2.4255807009604142e-09]\n",
      "d01,d02,d12 = [1.1195083549580522, 1.1195083549589508, 1.119508354958951]\n"
     ]
    },
    {
     "name": "stderr",
     "output_type": "stream",
     "text": [
      "Progress:  23%|██▎       | 116/500 [29:13<1:28:58, 13.90s/it]"
     ]
    },
    {
     "name": "stdout",
     "output_type": "stream",
     "text": [
      "Time to: Calculate Ground State - 1.31s, Get Pauli Ops - 4.5s, Calculate Pauli Expectation Values - 5.36s, Calculate Covariance - 2.3s\n",
      "f0,f1,f2 = [4.662043250253156e-09, 4.662043250259904e-09, 4.662043250251803e-09]\n",
      "d01,d02,d12 = [1.125075190118901, 1.125075190119803, 1.1250751901198262]\n"
     ]
    },
    {
     "name": "stderr",
     "output_type": "stream",
     "text": [
      "Progress:  23%|██▎       | 117/500 [29:27<1:29:29, 14.02s/it]"
     ]
    },
    {
     "name": "stdout",
     "output_type": "stream",
     "text": [
      "Time to: Calculate Ground State - 1.05s, Get Pauli Ops - 5.03s, Calculate Pauli Expectation Values - 6.09s, Calculate Covariance - 2.11s\n",
      "f0,f1,f2 = [3.7130842255636746e-09, 3.7130842255667236e-09, 3.713084225556378e-09]\n",
      "d01,d02,d12 = [1.1284398466185903, 1.1284398466195147, 1.128439846619553]\n"
     ]
    },
    {
     "name": "stderr",
     "output_type": "stream",
     "text": [
      "Progress:  24%|██▎       | 118/500 [29:42<1:31:29, 14.37s/it]"
     ]
    },
    {
     "name": "stdout",
     "output_type": "stream",
     "text": [
      "Time to: Calculate Ground State - 1.04s, Get Pauli Ops - 6.96s, Calculate Pauli Expectation Values - 4.92s, Calculate Covariance - 2.25s\n",
      "f0,f1,f2 = [2.9677937055954046e-09, 2.9677937055806407e-09, 2.9677937055799574e-09]\n",
      "d01,d02,d12 = [1.1298058237437691, 1.1298058237447095, 1.1298058237447723]\n"
     ]
    },
    {
     "name": "stderr",
     "output_type": "stream",
     "text": [
      "Progress:  24%|██▍       | 119/500 [30:02<1:40:28, 15.82s/it]"
     ]
    },
    {
     "name": "stdout",
     "output_type": "stream",
     "text": [
      "Time to: Calculate Ground State - 1.23s, Get Pauli Ops - 11.4s, Calculate Pauli Expectation Values - 4.72s, Calculate Covariance - 1.85s\n",
      "f0,f1,f2 = [4.4761183120832976e-09, 4.47611831213349e-09, 4.4761183121135575e-09]\n",
      "d01,d02,d12 = [1.1294901372420996, 1.1294901372430608, 1.1294901372431407]\n"
     ]
    },
    {
     "name": "stderr",
     "output_type": "stream",
     "text": [
      "/cluster/home/mskrabulis/miniconda3/envs/quantech/lib/python3.9/site-packages/pyscf/symm/Dmatrix.py:156: RuntimeWarning: invalid value encountered in arccos\n",
      "  gamma = numpy.arccos(yp.dot(c2[1]))\n",
      "Progress:  24%|██▍       | 120/500 [30:14<1:34:19, 14.89s/it]"
     ]
    },
    {
     "name": "stdout",
     "output_type": "stream",
     "text": [
      "Time to: Calculate Ground State - 1.17s, Get Pauli Ops - 5.22s, Calculate Pauli Expectation Values - 4.89s, Calculate Covariance - 1.43s\n",
      "f0,f1,f2 = [4.717915224715959e-09, 4.717915224670808e-09, 4.717915224724096e-09]\n",
      "d01,d02,d12 = [1.1272602334465363, 1.1272602334475077, 1.1272602334476183]\n"
     ]
    },
    {
     "name": "stderr",
     "output_type": "stream",
     "text": [
      "Progress:  24%|██▍       | 121/500 [30:36<1:46:45, 16.90s/it]"
     ]
    },
    {
     "name": "stdout",
     "output_type": "stream",
     "text": [
      "Time to: Calculate Ground State - 0.92s, Get Pauli Ops - 13.35s, Calculate Pauli Expectation Values - 5.02s, Calculate Covariance - 2.29s\n",
      "f0,f1,f2 = [5.19511530715871e-09, 5.195115307136278e-09, 5.195115307197907e-09]\n",
      "d01,d02,d12 = [1.122879694002642, 1.122879694003606, 1.1228796940037542]\n"
     ]
    },
    {
     "name": "stderr",
     "output_type": "stream",
     "text": [
      "Progress:  24%|██▍       | 122/500 [30:53<1:47:26, 17.05s/it]"
     ]
    },
    {
     "name": "stdout",
     "output_type": "stream",
     "text": [
      "Time to: Calculate Ground State - 0.92s, Get Pauli Ops - 5.14s, Calculate Pauli Expectation Values - 8.89s, Calculate Covariance - 2.45s\n",
      "f0,f1,f2 = [3.46243925043009e-09, 3.462439250414415e-09, 3.4624392504486587e-09]\n",
      "d01,d02,d12 = [1.1172711132838307, 1.117271113284786, 1.1172711132849709]\n"
     ]
    },
    {
     "name": "stderr",
     "output_type": "stream",
     "text": [
      "Progress:  25%|██▍       | 123/500 [31:10<1:45:55, 16.86s/it]"
     ]
    },
    {
     "name": "stdout",
     "output_type": "stream",
     "text": [
      "Time to: Calculate Ground State - 1.4s, Get Pauli Ops - 7.77s, Calculate Pauli Expectation Values - 4.83s, Calculate Covariance - 2.4s\n",
      "f0,f1,f2 = [4.328429126318057e-09, 4.328429126279684e-09, 4.328429126327355e-09]\n",
      "d01,d02,d12 = [1.110094041616901, 1.1100940416178369, 1.1100940416180665]\n"
     ]
    },
    {
     "name": "stderr",
     "output_type": "stream",
     "text": [
      "Progress:  25%|██▍       | 124/500 [31:23<1:37:52, 15.62s/it]"
     ]
    },
    {
     "name": "stdout",
     "output_type": "stream",
     "text": [
      "Time to: Calculate Ground State - 1.11s, Get Pauli Ops - 4.59s, Calculate Pauli Expectation Values - 5.07s, Calculate Covariance - 1.94s\n",
      "f0,f1,f2 = [3.2910740806513397e-09, 3.2910740806381672e-09, 3.291074080677198e-09]\n",
      "d01,d02,d12 = [1.1016920439744728, 1.1016920439753959, 1.101692043975668]\n"
     ]
    },
    {
     "name": "stderr",
     "output_type": "stream",
     "text": [
      "Progress:  25%|██▌       | 125/500 [31:36<1:32:47, 14.85s/it]"
     ]
    },
    {
     "name": "stdout",
     "output_type": "stream",
     "text": [
      "Time to: Calculate Ground State - 1.08s, Get Pauli Ops - 4.87s, Calculate Pauli Expectation Values - 5.0s, Calculate Covariance - 2.1s\n",
      "f0,f1,f2 = [4.202469905373301e-09, 4.2024699053515974e-09, 4.202469905387462e-09]\n",
      "d01,d02,d12 = [1.0915146680200243, 1.0915146680209282, 1.0915146680212537]\n"
     ]
    },
    {
     "name": "stderr",
     "output_type": "stream",
     "text": [
      "Progress:  25%|██▌       | 126/500 [31:54<1:39:30, 15.96s/it]"
     ]
    },
    {
     "name": "stdout",
     "output_type": "stream",
     "text": [
      "Time to: Calculate Ground State - 1.39s, Get Pauli Ops - 8.81s, Calculate Pauli Expectation Values - 6.2s, Calculate Covariance - 2.18s\n",
      "f0,f1,f2 = [4.154945392926733e-09, 4.1549453928377506e-09, 4.1549453929051385e-09]\n",
      "d01,d02,d12 = [1.077752911721133, 1.0777529117220013, 1.0777529117223874]\n"
     ]
    },
    {
     "name": "stderr",
     "output_type": "stream",
     "text": [
      "Progress:  25%|██▌       | 127/500 [32:09<1:36:48, 15.57s/it]"
     ]
    },
    {
     "name": "stdout",
     "output_type": "stream",
     "text": [
      "Time to: Calculate Ground State - 1.03s, Get Pauli Ops - 5.11s, Calculate Pauli Expectation Values - 6.64s, Calculate Covariance - 1.87s\n",
      "f0,f1,f2 = [4.266209049182668e-09, 4.266209049204454e-09, 4.266209049233006e-09]\n",
      "d01,d02,d12 = [1.0646156016603179, 1.064615601661148, 1.0646156016615733]\n"
     ]
    },
    {
     "name": "stderr",
     "output_type": "stream",
     "text": [
      "/cluster/home/mskrabulis/miniconda3/envs/quantech/lib/python3.9/site-packages/pyscf/symm/Dmatrix.py:156: RuntimeWarning: invalid value encountered in arccos\n",
      "  gamma = numpy.arccos(yp.dot(c2[1]))\n",
      "Progress:  26%|██▌       | 128/500 [32:24<1:35:22, 15.38s/it]"
     ]
    },
    {
     "name": "stdout",
     "output_type": "stream",
     "text": [
      "Time to: Calculate Ground State - 0.88s, Get Pauli Ops - 5.06s, Calculate Pauli Expectation Values - 7.0s, Calculate Covariance - 1.99s\n",
      "f0,f1,f2 = [1.9148760207868353e-09, 1.9148760207989923e-09, 1.9148760208244645e-09]\n",
      "d01,d02,d12 = [1.051122678021503, 1.0511226780222804, 1.0511226780227514]\n"
     ]
    },
    {
     "name": "stderr",
     "output_type": "stream",
     "text": [
      "Progress:  26%|██▌       | 129/500 [32:42<1:39:44, 16.13s/it]"
     ]
    },
    {
     "name": "stdout",
     "output_type": "stream",
     "text": [
      "Time to: Calculate Ground State - 1.22s, Get Pauli Ops - 7.84s, Calculate Pauli Expectation Values - 6.32s, Calculate Covariance - 2.49s\n",
      "f0,f1,f2 = [2.275820490890643e-09, 2.2758204908993236e-09, 2.2758204908955037e-09]\n",
      "d01,d02,d12 = [1.0374266004260897, 1.0374266004268144, 1.037426600427334]\n"
     ]
    },
    {
     "name": "stderr",
     "output_type": "stream",
     "text": [
      "/cluster/home/mskrabulis/miniconda3/envs/quantech/lib/python3.9/site-packages/pyscf/symm/Dmatrix.py:156: RuntimeWarning: invalid value encountered in arccos\n",
      "  gamma = numpy.arccos(yp.dot(c2[1]))\n",
      "Progress:  26%|██▌       | 130/500 [32:56<1:36:13, 15.60s/it]"
     ]
    },
    {
     "name": "stdout",
     "output_type": "stream",
     "text": [
      "Time to: Calculate Ground State - 1.22s, Get Pauli Ops - 5.24s, Calculate Pauli Expectation Values - 5.63s, Calculate Covariance - 2.27s\n",
      "f0,f1,f2 = [2.62291027227908e-09, 2.622910272300955e-09, 2.6229102722620004e-09]\n",
      "d01,d02,d12 = [1.0235777889357909, 1.0235777889364779, 1.0235777889370283]\n"
     ]
    },
    {
     "name": "stderr",
     "output_type": "stream",
     "text": [
      "/cluster/home/mskrabulis/miniconda3/envs/quantech/lib/python3.9/site-packages/pyscf/symm/Dmatrix.py:156: RuntimeWarning: invalid value encountered in arccos\n",
      "  gamma = numpy.arccos(yp.dot(c2[1]))\n",
      "Progress:  26%|██▌       | 131/500 [33:10<1:32:19, 15.01s/it]"
     ]
    },
    {
     "name": "stdout",
     "output_type": "stream",
     "text": [
      "Time to: Calculate Ground State - 0.78s, Get Pauli Ops - 5.01s, Calculate Pauli Expectation Values - 5.65s, Calculate Covariance - 2.19s\n",
      "f0,f1,f2 = [2.8060675820038094e-09, 2.806067581957028e-09, 2.806067582035788e-09]\n",
      "d01,d02,d12 = [1.0071805855563971, 1.0071805855570228, 1.0071805855576113]\n"
     ]
    },
    {
     "name": "stderr",
     "output_type": "stream",
     "text": [
      "Progress:  26%|██▋       | 132/500 [33:24<1:30:26, 14.75s/it]"
     ]
    },
    {
     "name": "stdout",
     "output_type": "stream",
     "text": [
      "Time to: Calculate Ground State - 1.06s, Get Pauli Ops - 5.21s, Calculate Pauli Expectation Values - 5.52s, Calculate Covariance - 2.34s\n",
      "f0,f1,f2 = [9.044734077032364e-10, 9.044734077784816e-10, 9.044734077608945e-10]\n",
      "d01,d02,d12 = [0.988211685705498, 0.9882116857060426, 0.9882116857066319]\n"
     ]
    },
    {
     "name": "stderr",
     "output_type": "stream",
     "text": [
      "Progress:  27%|██▋       | 133/500 [33:37<1:27:58, 14.38s/it]"
     ]
    },
    {
     "name": "stdout",
     "output_type": "stream",
     "text": [
      "Time to: Calculate Ground State - 1.3s, Get Pauli Ops - 5.21s, Calculate Pauli Expectation Values - 4.93s, Calculate Covariance - 2.09s\n",
      "f0,f1,f2 = [5.942418664153161e-10, 5.942418664079851e-10, 5.94241866458479e-10]\n",
      "d01,d02,d12 = [0.9699039547022361, 0.9699039547027121, 0.9699039547033079]\n"
     ]
    },
    {
     "name": "stderr",
     "output_type": "stream",
     "text": [
      "Progress:  27%|██▋       | 134/500 [33:52<1:28:13, 14.46s/it]"
     ]
    },
    {
     "name": "stdout",
     "output_type": "stream",
     "text": [
      "Time to: Calculate Ground State - 1.29s, Get Pauli Ops - 5.19s, Calculate Pauli Expectation Values - 5.71s, Calculate Covariance - 2.46s\n",
      "f0,f1,f2 = [1.5155389843537025e-09, 1.5155389843381216e-09, 1.5155389843111278e-09]\n",
      "d01,d02,d12 = [0.954230995209084, 0.9542309952095028, 0.9542309952101061]\n"
     ]
    },
    {
     "name": "stderr",
     "output_type": "stream",
     "text": [
      "/cluster/home/mskrabulis/miniconda3/envs/quantech/lib/python3.9/site-packages/pyscf/symm/Dmatrix.py:156: RuntimeWarning: invalid value encountered in arccos\n",
      "  gamma = numpy.arccos(yp.dot(c2[1]))\n",
      "Progress:  27%|██▋       | 135/500 [34:08<1:30:17, 14.84s/it]"
     ]
    },
    {
     "name": "stdout",
     "output_type": "stream",
     "text": [
      "Time to: Calculate Ground State - 1.17s, Get Pauli Ops - 5.23s, Calculate Pauli Expectation Values - 7.05s, Calculate Covariance - 2.27s\n",
      "f0,f1,f2 = [8.514430016057016e-10, 8.514430016023214e-10, 8.514430016233312e-10]\n",
      "d01,d02,d12 = [0.9410041910706584, 0.9410041910710282, 0.9410041910716495]\n"
     ]
    },
    {
     "name": "stderr",
     "output_type": "stream",
     "text": [
      "Progress:  27%|██▋       | 136/500 [34:23<1:30:32, 14.92s/it]"
     ]
    },
    {
     "name": "stdout",
     "output_type": "stream",
     "text": [
      "Time to: Calculate Ground State - 1.09s, Get Pauli Ops - 5.64s, Calculate Pauli Expectation Values - 5.95s, Calculate Covariance - 2.42s\n",
      "f0,f1,f2 = [2.4273459927464642e-09, 2.4273459927172366e-09, 2.4273459927312623e-09]\n",
      "d01,d02,d12 = [0.928798773544177, 0.9287987735445056, 0.9287987735451351]\n"
     ]
    },
    {
     "name": "stderr",
     "output_type": "stream",
     "text": [
      "/cluster/home/mskrabulis/miniconda3/envs/quantech/lib/python3.9/site-packages/pyscf/symm/Dmatrix.py:156: RuntimeWarning: invalid value encountered in arccos\n",
      "  gamma = numpy.arccos(yp.dot(c2[1]))\n",
      "Progress:  27%|██▋       | 137/500 [34:42<1:38:39, 16.31s/it]"
     ]
    },
    {
     "name": "stdout",
     "output_type": "stream",
     "text": [
      "Time to: Calculate Ground State - 1.61s, Get Pauli Ops - 8.51s, Calculate Pauli Expectation Values - 7.16s, Calculate Covariance - 2.24s\n",
      "f0,f1,f2 = [2.072074115016883e-09, 2.0720741150026173e-09, 2.0720741150355333e-09]\n",
      "d01,d02,d12 = [0.9175718234941439, 0.9175718234944297, 0.9175718234950694]\n"
     ]
    },
    {
     "name": "stderr",
     "output_type": "stream",
     "text": [
      "Progress:  28%|██▊       | 138/500 [34:57<1:35:44, 15.87s/it]"
     ]
    },
    {
     "name": "stdout",
     "output_type": "stream",
     "text": [
      "Time to: Calculate Ground State - 1.31s, Get Pauli Ops - 6.27s, Calculate Pauli Expectation Values - 5.48s, Calculate Covariance - 1.77s\n",
      "f0,f1,f2 = [3.30490658100768e-09, 3.304906580980352e-09, 3.3049065809438424e-09]\n",
      "d01,d02,d12 = [0.9080833554059907, 0.9080833554062245, 0.9080833554068608]\n"
     ]
    },
    {
     "name": "stderr",
     "output_type": "stream",
     "text": [
      "Progress:  28%|██▊       | 139/500 [35:13<1:35:47, 15.92s/it]"
     ]
    },
    {
     "name": "stdout",
     "output_type": "stream",
     "text": [
      "Time to: Calculate Ground State - 1.1s, Get Pauli Ops - 4.97s, Calculate Pauli Expectation Values - 7.58s, Calculate Covariance - 2.39s\n",
      "f0,f1,f2 = [5.345984020256792e-09, 5.345984020304791e-09, 5.345984020299121e-09]\n",
      "d01,d02,d12 = [0.9002201536071908, 0.900220153607368, 0.9002201536080101]\n"
     ]
    },
    {
     "name": "stderr",
     "output_type": "stream",
     "text": [
      "Progress:  28%|██▊       | 140/500 [35:27<1:30:55, 15.16s/it]"
     ]
    },
    {
     "name": "stdout",
     "output_type": "stream",
     "text": [
      "Time to: Calculate Ground State - 1.24s, Get Pauli Ops - 5.3s, Calculate Pauli Expectation Values - 4.9s, Calculate Covariance - 1.92s\n",
      "f0,f1,f2 = [4.496480766644401e-09, 4.496480766585935e-09, 4.49648076661211e-09]\n",
      "d01,d02,d12 = [0.8965553098089578, 0.8965553098090828, 0.8965553098097272]\n"
     ]
    },
    {
     "name": "stderr",
     "output_type": "stream",
     "text": [
      "Progress:  28%|██▊       | 141/500 [35:42<1:31:43, 15.33s/it]"
     ]
    },
    {
     "name": "stdout",
     "output_type": "stream",
     "text": [
      "Time to: Calculate Ground State - 1.05s, Get Pauli Ops - 5.27s, Calculate Pauli Expectation Values - 7.29s, Calculate Covariance - 2.12s\n",
      "f0,f1,f2 = [5.667194382161888e-09, 5.667194382119586e-09, 5.667194382117582e-09]\n",
      "d01,d02,d12 = [0.895074465474839, 0.8950744654749202, 0.8950744654755579]\n"
     ]
    },
    {
     "name": "stderr",
     "output_type": "stream",
     "text": [
      "/cluster/home/mskrabulis/miniconda3/envs/quantech/lib/python3.9/site-packages/pyscf/symm/Dmatrix.py:156: RuntimeWarning: invalid value encountered in arccos\n",
      "  gamma = numpy.arccos(yp.dot(c2[1]))\n",
      "Progress:  28%|██▊       | 142/500 [35:58<1:31:14, 15.29s/it]"
     ]
    },
    {
     "name": "stdout",
     "output_type": "stream",
     "text": [
      "Time to: Calculate Ground State - 1.46s, Get Pauli Ops - 4.88s, Calculate Pauli Expectation Values - 7.43s, Calculate Covariance - 1.42s\n",
      "f0,f1,f2 = [6.204983040472041e-09, 6.204983040439024e-09, 6.204983040435794e-09]\n",
      "d01,d02,d12 = [0.8964643908348214, 0.8964643908348587, 0.8964643908354804]\n"
     ]
    },
    {
     "name": "stderr",
     "output_type": "stream",
     "text": [
      "Progress:  29%|██▊       | 143/500 [36:11<1:27:47, 14.76s/it]"
     ]
    },
    {
     "name": "stdout",
     "output_type": "stream",
     "text": [
      "Time to: Calculate Ground State - 0.81s, Get Pauli Ops - 5.29s, Calculate Pauli Expectation Values - 5.13s, Calculate Covariance - 2.27s\n",
      "f0,f1,f2 = [4.4384270049265606e-09, 4.438427004867315e-09, 4.438427004856862e-09]\n",
      "d01,d02,d12 = [0.8998206956233044, 0.8998206956232849, 0.8998206956238755]\n"
     ]
    },
    {
     "name": "stderr",
     "output_type": "stream",
     "text": [
      "Progress:  29%|██▉       | 144/500 [36:25<1:26:33, 14.59s/it]"
     ]
    },
    {
     "name": "stdout",
     "output_type": "stream",
     "text": [
      "Time to: Calculate Ground State - 1.35s, Get Pauli Ops - 5.33s, Calculate Pauli Expectation Values - 5.26s, Calculate Covariance - 2.25s\n",
      "f0,f1,f2 = [3.9035024353297425e-09, 3.903502435334386e-09, 3.903502435314278e-09]\n",
      "d01,d02,d12 = [0.9047742628030002, 0.9047742628029186, 0.9047742628034763]\n"
     ]
    },
    {
     "name": "stderr",
     "output_type": "stream",
     "text": [
      "Progress:  29%|██▉       | 145/500 [36:39<1:25:13, 14.40s/it]"
     ]
    },
    {
     "name": "stdout",
     "output_type": "stream",
     "text": [
      "Time to: Calculate Ground State - 1.35s, Get Pauli Ops - 5.31s, Calculate Pauli Expectation Values - 5.15s, Calculate Covariance - 2.15s\n",
      "f0,f1,f2 = [3.212069907351137e-09, 3.21206990733637e-09, 3.2120699073408623e-09]\n",
      "d01,d02,d12 = [0.9118211675829734, 0.9118211675828349, 0.9118211675833544]\n"
     ]
    },
    {
     "name": "stderr",
     "output_type": "stream",
     "text": [
      "Progress:  29%|██▉       | 146/500 [36:55<1:26:41, 14.69s/it]"
     ]
    },
    {
     "name": "stdout",
     "output_type": "stream",
     "text": [
      "Time to: Calculate Ground State - 1.29s, Get Pauli Ops - 4.64s, Calculate Pauli Expectation Values - 7.64s, Calculate Covariance - 1.79s\n",
      "f0,f1,f2 = [3.070478839265707e-09, 3.070478839246933e-09, 3.0704788392289115e-09]\n",
      "d01,d02,d12 = [0.9206300430785206, 0.9206300430783279, 0.9206300430787898]\n"
     ]
    },
    {
     "name": "stderr",
     "output_type": "stream",
     "text": [
      "/cluster/home/mskrabulis/miniconda3/envs/quantech/lib/python3.9/site-packages/pyscf/symm/Dmatrix.py:156: RuntimeWarning: invalid value encountered in arccos\n",
      "  gamma = numpy.arccos(yp.dot(c2[1]))\n",
      "Progress:  29%|██▉       | 147/500 [37:09<1:26:14, 14.66s/it]"
     ]
    },
    {
     "name": "stdout",
     "output_type": "stream",
     "text": [
      "Time to: Calculate Ground State - 1.35s, Get Pauli Ops - 5.38s, Calculate Pauli Expectation Values - 5.56s, Calculate Covariance - 2.28s\n",
      "f0,f1,f2 = [3.622171323386114e-09, 3.6221713234406017e-09, 3.6221713233634456e-09]\n",
      "d01,d02,d12 = [0.9312280321375233, 0.9312280321372768, 0.931228032137668]\n"
     ]
    },
    {
     "name": "stderr",
     "output_type": "stream",
     "text": [
      "/cluster/home/mskrabulis/miniconda3/envs/quantech/lib/python3.9/site-packages/pyscf/symm/Dmatrix.py:156: RuntimeWarning: invalid value encountered in arccos\n",
      "  gamma = numpy.arccos(yp.dot(c2[1]))\n",
      "Progress:  30%|██▉       | 148/500 [37:26<1:30:05, 15.36s/it]"
     ]
    },
    {
     "name": "stdout",
     "output_type": "stream",
     "text": [
      "Time to: Calculate Ground State - 1.34s, Get Pauli Ops - 8.61s, Calculate Pauli Expectation Values - 4.82s, Calculate Covariance - 2.21s\n",
      "f0,f1,f2 = [2.6414522628725823e-09, 2.6414522628303035e-09, 2.6414522628680084e-09]\n",
      "d01,d02,d12 = [0.9425825685627127, 0.9425825685624125, 0.9425825685627239]\n"
     ]
    },
    {
     "name": "stderr",
     "output_type": "stream",
     "text": [
      "/cluster/home/mskrabulis/miniconda3/envs/quantech/lib/python3.9/site-packages/pyscf/symm/Dmatrix.py:156: RuntimeWarning: invalid value encountered in arccos\n",
      "  gamma = numpy.arccos(yp.dot(c2[1]))\n",
      "Progress:  30%|██▉       | 149/500 [37:42<1:30:21, 15.45s/it]"
     ]
    },
    {
     "name": "stdout",
     "output_type": "stream",
     "text": [
      "Time to: Calculate Ground State - 1.37s, Get Pauli Ops - 4.84s, Calculate Pauli Expectation Values - 7.25s, Calculate Covariance - 2.2s\n",
      "f0,f1,f2 = [9.64311792773112e-10, 9.643117927828867e-10, 9.64311792802287e-10]\n",
      "d01,d02,d12 = [0.9553028816701258, 0.9553028816697792, 0.95530288167002]\n"
     ]
    },
    {
     "name": "stderr",
     "output_type": "stream",
     "text": [
      "Progress:  30%|███       | 150/500 [37:56<1:27:50, 15.06s/it]"
     ]
    },
    {
     "name": "stdout",
     "output_type": "stream",
     "text": [
      "Time to: Calculate Ground State - 1.02s, Get Pauli Ops - 4.99s, Calculate Pauli Expectation Values - 5.93s, Calculate Covariance - 2.21s\n",
      "f0,f1,f2 = [1.366103416987233e-09, 1.366103416992356e-09, 1.3661034169855874e-09]\n",
      "d01,d02,d12 = [0.969035691343084, 0.9690356913426819, 0.9690356913428492]\n"
     ]
    },
    {
     "name": "stderr",
     "output_type": "stream",
     "text": [
      "/cluster/home/mskrabulis/miniconda3/envs/quantech/lib/python3.9/site-packages/pyscf/symm/Dmatrix.py:156: RuntimeWarning: invalid value encountered in arccos\n",
      "  gamma = numpy.arccos(yp.dot(c2[1]))\n",
      "Progress:  30%|███       | 151/500 [38:11<1:26:47, 14.92s/it]"
     ]
    },
    {
     "name": "stdout",
     "output_type": "stream",
     "text": [
      "Time to: Calculate Ground State - 1.28s, Get Pauli Ops - 5.31s, Calculate Pauli Expectation Values - 5.65s, Calculate Covariance - 2.34s\n",
      "f0,f1,f2 = [1.6170624169522981e-09, 1.617062416882216e-09, 1.617062416947128e-09]\n",
      "d01,d02,d12 = [0.9828919625949939, 0.9828919625945585, 0.9828919625946317]\n"
     ]
    },
    {
     "name": "stderr",
     "output_type": "stream",
     "text": [
      "/cluster/home/mskrabulis/miniconda3/envs/quantech/lib/python3.9/site-packages/pyscf/symm/Dmatrix.py:156: RuntimeWarning: invalid value encountered in arccos\n",
      "  gamma = numpy.arccos(yp.dot(c2[1]))\n",
      "Progress:  30%|███       | 152/500 [38:25<1:26:01, 14.83s/it]"
     ]
    },
    {
     "name": "stdout",
     "output_type": "stream",
     "text": [
      "Time to: Calculate Ground State - 1.33s, Get Pauli Ops - 5.08s, Calculate Pauli Expectation Values - 5.94s, Calculate Covariance - 2.26s\n",
      "f0,f1,f2 = [6.207354521159447e-10, 6.207354521622527e-10, 6.207354521286551e-10]\n",
      "d01,d02,d12 = [0.9950383818830244, 0.9950383818825679, 0.9950383818825245]\n"
     ]
    },
    {
     "name": "stderr",
     "output_type": "stream",
     "text": [
      "Progress:  31%|███       | 153/500 [38:38<1:22:50, 14.32s/it]"
     ]
    },
    {
     "name": "stdout",
     "output_type": "stream",
     "text": [
      "Time to: Calculate Ground State - 1.38s, Get Pauli Ops - 4.74s, Calculate Pauli Expectation Values - 4.98s, Calculate Covariance - 2.03s\n",
      "f0,f1,f2 = [1.302536157820776e-09, 1.3025361577418294e-09, 1.3025361577893615e-09]\n",
      "d01,d02,d12 = [1.0087287107498104, 1.0087287107493363, 1.0087287107491771]\n"
     ]
    },
    {
     "name": "stderr",
     "output_type": "stream",
     "text": [
      "Progress:  31%|███       | 154/500 [38:57<1:29:26, 15.51s/it]"
     ]
    },
    {
     "name": "stdout",
     "output_type": "stream",
     "text": [
      "Time to: Calculate Ground State - 1.34s, Get Pauli Ops - 5.09s, Calculate Pauli Expectation Values - 9.41s, Calculate Covariance - 2.44s\n",
      "f0,f1,f2 = [1.331931214763164e-09, 1.3319312147509234e-09, 1.331931214740861e-09]\n",
      "d01,d02,d12 = [1.0209330423907552, 1.0209330423902645, 1.0209330423899945]\n"
     ]
    },
    {
     "name": "stderr",
     "output_type": "stream",
     "text": [
      "Progress:  31%|███       | 155/500 [39:10<1:25:23, 14.85s/it]"
     ]
    },
    {
     "name": "stdout",
     "output_type": "stream",
     "text": [
      "Time to: Calculate Ground State - 0.86s, Get Pauli Ops - 4.86s, Calculate Pauli Expectation Values - 5.34s, Calculate Covariance - 2.24s\n",
      "f0,f1,f2 = [1.2901386765040392e-09, 1.290138676458472e-09, 1.290138676407403e-09]\n",
      "d01,d02,d12 = [1.0348207127156632, 1.0348207127151752, 1.0348207127148037]\n"
     ]
    },
    {
     "name": "stderr",
     "output_type": "stream",
     "text": [
      "Progress:  31%|███       | 156/500 [39:31<1:35:13, 16.61s/it]"
     ]
    },
    {
     "name": "stdout",
     "output_type": "stream",
     "text": [
      "Time to: Calculate Ground State - 1.31s, Get Pauli Ops - 5.69s, Calculate Pauli Expectation Values - 11.47s, Calculate Covariance - 2.24s\n",
      "f0,f1,f2 = [3.164047923053452e-09, 3.164047923054276e-09, 3.1640479230577715e-09]\n",
      "d01,d02,d12 = [1.049226303712512, 1.0492263037120284, 1.049226303711555]\n"
     ]
    },
    {
     "name": "stderr",
     "output_type": "stream",
     "text": [
      "/cluster/home/mskrabulis/miniconda3/envs/quantech/lib/python3.9/site-packages/pyscf/symm/Dmatrix.py:156: RuntimeWarning: invalid value encountered in arccos\n",
      "  gamma = numpy.arccos(yp.dot(c2[1]))\n",
      "Progress:  31%|███▏      | 157/500 [39:43<1:27:36, 15.33s/it]"
     ]
    },
    {
     "name": "stdout",
     "output_type": "stream",
     "text": [
      "Time to: Calculate Ground State - 0.98s, Get Pauli Ops - 4.45s, Calculate Pauli Expectation Values - 5.45s, Calculate Covariance - 1.44s\n",
      "f0,f1,f2 = [3.006250925255251e-09, 3.006250925232528e-09, 3.0062509252349457e-09]\n",
      "d01,d02,d12 = [1.0643831420296639, 1.064383142029189, 1.0643831420286316]\n"
     ]
    },
    {
     "name": "stderr",
     "output_type": "stream",
     "text": [
      "Progress:  32%|███▏      | 158/500 [39:56<1:23:42, 14.69s/it]"
     ]
    },
    {
     "name": "stdout",
     "output_type": "stream",
     "text": [
      "Time to: Calculate Ground State - 0.8s, Get Pauli Ops - 4.42s, Calculate Pauli Expectation Values - 5.74s, Calculate Covariance - 2.23s\n",
      "f0,f1,f2 = [2.0035199572528715e-09, 2.003519957294325e-09, 2.0035199572807996e-09]\n",
      "d01,d02,d12 = [1.0781865426146209, 1.078186542614164, 1.0781865426135075]\n"
     ]
    },
    {
     "name": "stderr",
     "output_type": "stream",
     "text": [
      "Progress:  32%|███▏      | 159/500 [40:10<1:21:43, 14.38s/it]"
     ]
    },
    {
     "name": "stdout",
     "output_type": "stream",
     "text": [
      "Time to: Calculate Ground State - 1.04s, Get Pauli Ops - 5.06s, Calculate Pauli Expectation Values - 5.31s, Calculate Covariance - 2.23s\n",
      "f0,f1,f2 = [2.3428030704537653e-09, 2.342803070435895e-09, 2.3428030704449153e-09]\n",
      "d01,d02,d12 = [1.0910382248923687, 1.0910382248919361, 1.0910382248911787]\n"
     ]
    },
    {
     "name": "stderr",
     "output_type": "stream",
     "text": [
      "Progress:  32%|███▏      | 160/500 [40:23<1:19:06, 13.96s/it]"
     ]
    },
    {
     "name": "stdout",
     "output_type": "stream",
     "text": [
      "Time to: Calculate Ground State - 1.37s, Get Pauli Ops - 4.8s, Calculate Pauli Expectation Values - 5.31s, Calculate Covariance - 1.5s\n",
      "f0,f1,f2 = [2.287744292318549e-09, 2.2877442923216955e-09, 2.2877442923165525e-09]\n",
      "d01,d02,d12 = [1.1013150844818136, 1.1013150844814077, 1.101315084480555]\n"
     ]
    },
    {
     "name": "stderr",
     "output_type": "stream",
     "text": [
      "Progress:  32%|███▏      | 161/500 [40:38<1:20:50, 14.31s/it]"
     ]
    },
    {
     "name": "stdout",
     "output_type": "stream",
     "text": [
      "Time to: Calculate Ground State - 1.21s, Get Pauli Ops - 7.02s, Calculate Pauli Expectation Values - 4.82s, Calculate Covariance - 2.06s\n",
      "f0,f1,f2 = [4.5659504503734035e-09, 4.565950450343627e-09, 4.565950450351196e-09]\n",
      "d01,d02,d12 = [1.108891630208379, 1.1088916302079932, 1.1088916302070522]\n"
     ]
    },
    {
     "name": "stderr",
     "output_type": "stream",
     "text": [
      "Progress:  32%|███▏      | 162/500 [40:52<1:20:05, 14.22s/it]"
     ]
    },
    {
     "name": "stdout",
     "output_type": "stream",
     "text": [
      "Time to: Calculate Ground State - 1.07s, Get Pauli Ops - 5.19s, Calculate Pauli Expectation Values - 5.5s, Calculate Covariance - 2.23s\n",
      "f0,f1,f2 = [4.2784239512154276e-09, 4.278423951269613e-09, 4.278423951248058e-09]\n",
      "d01,d02,d12 = [1.1136686609651267, 1.1136686609647692, 1.1136686609637167]\n"
     ]
    },
    {
     "name": "stderr",
     "output_type": "stream",
     "text": [
      "Progress:  33%|███▎      | 163/500 [41:05<1:18:16, 13.94s/it]"
     ]
    },
    {
     "name": "stdout",
     "output_type": "stream",
     "text": [
      "Time to: Calculate Ground State - 1.37s, Get Pauli Ops - 4.5s, Calculate Pauli Expectation Values - 5.09s, Calculate Covariance - 2.31s\n",
      "f0,f1,f2 = [3.654579153503819e-09, 3.6545791535472075e-09, 3.6545791535096617e-09]\n",
      "d01,d02,d12 = [1.117393681776539, 1.1173936817762238, 1.1173936817750605]\n"
     ]
    },
    {
     "name": "stderr",
     "output_type": "stream",
     "text": [
      "Progress:  33%|███▎      | 164/500 [41:22<1:23:38, 14.94s/it]"
     ]
    },
    {
     "name": "stdout",
     "output_type": "stream",
     "text": [
      "Time to: Calculate Ground State - 0.85s, Get Pauli Ops - 5.69s, Calculate Pauli Expectation Values - 8.82s, Calculate Covariance - 1.89s\n",
      "f0,f1,f2 = [3.529053327113848e-09, 3.529053327142364e-09, 3.5290533271385747e-09]\n",
      "d01,d02,d12 = [1.1193155407690267, 1.1193155407687512, 1.1193155407674789]\n"
     ]
    },
    {
     "name": "stderr",
     "output_type": "stream",
     "text": [
      "Progress:  33%|███▎      | 165/500 [41:36<1:20:49, 14.48s/it]"
     ]
    },
    {
     "name": "stdout",
     "output_type": "stream",
     "text": [
      "Time to: Calculate Ground State - 1.24s, Get Pauli Ops - 4.57s, Calculate Pauli Expectation Values - 5.22s, Calculate Covariance - 2.37s\n",
      "f0,f1,f2 = [3.3433668962736846e-09, 3.3433668962908084e-09, 3.343366896287604e-09]\n",
      "d01,d02,d12 = [1.1195918139981362, 1.1195918139978962, 1.1195918139965269]\n"
     ]
    },
    {
     "name": "stderr",
     "output_type": "stream",
     "text": [
      "/cluster/home/mskrabulis/miniconda3/envs/quantech/lib/python3.9/site-packages/pyscf/symm/Dmatrix.py:156: RuntimeWarning: invalid value encountered in arccos\n",
      "  gamma = numpy.arccos(yp.dot(c2[1]))\n",
      "Progress:  33%|███▎      | 166/500 [41:52<1:22:50, 14.88s/it]"
     ]
    },
    {
     "name": "stdout",
     "output_type": "stream",
     "text": [
      "Time to: Calculate Ground State - 1.03s, Get Pauli Ops - 4.39s, Calculate Pauli Expectation Values - 8.08s, Calculate Covariance - 2.33s\n",
      "f0,f1,f2 = [4.023559782450239e-09, 4.023559782415032e-09, 4.023559782397639e-09]\n",
      "d01,d02,d12 = [1.1182007488529297, 1.1182007488527366, 1.118200748851273]\n"
     ]
    },
    {
     "name": "stderr",
     "output_type": "stream",
     "text": [
      "Progress:  33%|███▎      | 167/500 [42:08<1:25:04, 15.33s/it]"
     ]
    },
    {
     "name": "stdout",
     "output_type": "stream",
     "text": [
      "Time to: Calculate Ground State - 1.32s, Get Pauli Ops - 6.55s, Calculate Pauli Expectation Values - 6.22s, Calculate Covariance - 2.26s\n",
      "f0,f1,f2 = [4.091286842061728e-09, 4.091286842026187e-09, 4.091286842008194e-09]\n",
      "d01,d02,d12 = [1.11500595225762, 1.115005952257475, 1.1150059522559208]\n"
     ]
    },
    {
     "name": "stderr",
     "output_type": "stream",
     "text": [
      "Progress:  34%|███▎      | 168/500 [42:22<1:22:14, 14.86s/it]"
     ]
    },
    {
     "name": "stdout",
     "output_type": "stream",
     "text": [
      "Time to: Calculate Ground State - 1.1s, Get Pauli Ops - 5.28s, Calculate Pauli Expectation Values - 5.14s, Calculate Covariance - 2.24s\n",
      "f0,f1,f2 = [4.011652510569996e-09, 4.011652510589259e-09, 4.011652510582812e-09]\n",
      "d01,d02,d12 = [1.1101063600822418, 1.1101063600821461, 1.110106360080495]\n"
     ]
    },
    {
     "name": "stderr",
     "output_type": "stream",
     "text": [
      "Progress:  34%|███▍      | 169/500 [42:35<1:19:57, 14.49s/it]"
     ]
    },
    {
     "name": "stdout",
     "output_type": "stream",
     "text": [
      "Time to: Calculate Ground State - 1.31s, Get Pauli Ops - 4.65s, Calculate Pauli Expectation Values - 5.33s, Calculate Covariance - 2.33s\n",
      "f0,f1,f2 = [2.2433325905640025e-09, 2.2433325905578007e-09, 2.243332590542891e-09]\n",
      "d01,d02,d12 = [1.1033712300079221, 1.1033712300078733, 1.1033712300061316]\n"
     ]
    },
    {
     "name": "stderr",
     "output_type": "stream",
     "text": [
      "Progress:  34%|███▍      | 170/500 [42:52<1:23:22, 15.16s/it]"
     ]
    },
    {
     "name": "stdout",
     "output_type": "stream",
     "text": [
      "Time to: Calculate Ground State - 1.39s, Get Pauli Ops - 5.08s, Calculate Pauli Expectation Values - 7.91s, Calculate Covariance - 2.31s\n",
      "f0,f1,f2 = [4.460332326082092e-09, 4.460332326087718e-09, 4.460332326063993e-09]\n",
      "d01,d02,d12 = [1.0945884053606756, 1.0945884053606765, 1.0945884053588517]\n"
     ]
    },
    {
     "name": "stderr",
     "output_type": "stream",
     "text": [
      "/cluster/home/mskrabulis/miniconda3/envs/quantech/lib/python3.9/site-packages/pyscf/symm/Dmatrix.py:156: RuntimeWarning: invalid value encountered in arccos\n",
      "  gamma = numpy.arccos(yp.dot(c2[1]))\n",
      "Progress:  34%|███▍      | 171/500 [43:06<1:21:37, 14.88s/it]"
     ]
    },
    {
     "name": "stdout",
     "output_type": "stream",
     "text": [
      "Time to: Calculate Ground State - 1.07s, Get Pauli Ops - 5.08s, Calculate Pauli Expectation Values - 5.56s, Calculate Covariance - 2.52s\n",
      "f0,f1,f2 = [3.701453931512171e-09, 3.7014539315011486e-09, 3.7014539315066654e-09]\n",
      "d01,d02,d12 = [1.0844617562106156, 1.0844617562106669, 1.084461756208748]\n"
     ]
    },
    {
     "name": "stderr",
     "output_type": "stream",
     "text": [
      "Progress:  34%|███▍      | 172/500 [43:23<1:23:41, 15.31s/it]"
     ]
    },
    {
     "name": "stdout",
     "output_type": "stream",
     "text": [
      "Time to: Calculate Ground State - 1.49s, Get Pauli Ops - 5.26s, Calculate Pauli Expectation Values - 7.17s, Calculate Covariance - 2.37s\n",
      "f0,f1,f2 = [3.793474159977848e-09, 3.793474159916112e-09, 3.793474159952529e-09]\n",
      "d01,d02,d12 = [1.0720177644646403, 1.0720177644647404, 1.0720177644627553]\n"
     ]
    },
    {
     "name": "stderr",
     "output_type": "stream",
     "text": [
      "/cluster/home/mskrabulis/miniconda3/envs/quantech/lib/python3.9/site-packages/pyscf/symm/Dmatrix.py:156: RuntimeWarning: invalid value encountered in arccos\n",
      "  gamma = numpy.arccos(yp.dot(c2[1]))\n",
      "Progress:  35%|███▍      | 173/500 [43:36<1:20:20, 14.74s/it]"
     ]
    },
    {
     "name": "stdout",
     "output_type": "stream",
     "text": [
      "Time to: Calculate Ground State - 1.11s, Get Pauli Ops - 4.89s, Calculate Pauli Expectation Values - 5.18s, Calculate Covariance - 2.22s\n",
      "f0,f1,f2 = [2.0923861283869506e-09, 2.092386128347799e-09, 2.0923861283597525e-09]\n",
      "d01,d02,d12 = [1.0552422389915126, 1.0552422389916656, 1.0552422389896419]\n"
     ]
    },
    {
     "name": "stderr",
     "output_type": "stream",
     "text": [
      "Progress:  35%|███▍      | 174/500 [43:51<1:20:44, 14.86s/it]"
     ]
    },
    {
     "name": "stdout",
     "output_type": "stream",
     "text": [
      "Time to: Calculate Ground State - 1.3s, Get Pauli Ops - 5.28s, Calculate Pauli Expectation Values - 6.34s, Calculate Covariance - 2.22s\n",
      "f0,f1,f2 = [1.5664693775636599e-09, 1.5664693775261183e-09, 1.5664693775244534e-09]\n",
      "d01,d02,d12 = [1.034828541733602, 1.0348285417338037, 1.0348285417317509]\n"
     ]
    },
    {
     "name": "stderr",
     "output_type": "stream",
     "text": [
      "Progress:  35%|███▌      | 175/500 [44:05<1:19:00, 14.59s/it]"
     ]
    },
    {
     "name": "stdout",
     "output_type": "stream",
     "text": [
      "Time to: Calculate Ground State - 1.34s, Get Pauli Ops - 5.23s, Calculate Pauli Expectation Values - 5.28s, Calculate Covariance - 2.1s\n",
      "f0,f1,f2 = [1.815451785933012e-09, 1.8154517858992086e-09, 1.815451785946192e-09]\n",
      "d01,d02,d12 = [1.0160611044484669, 1.016061104448702, 1.0160611044466679]\n"
     ]
    },
    {
     "name": "stderr",
     "output_type": "stream",
     "text": [
      "Progress:  35%|███▌      | 176/500 [44:19<1:17:18, 14.32s/it]"
     ]
    },
    {
     "name": "stdout",
     "output_type": "stream",
     "text": [
      "Time to: Calculate Ground State - 1.33s, Get Pauli Ops - 5.3s, Calculate Pauli Expectation Values - 4.87s, Calculate Covariance - 2.18s\n",
      "f0,f1,f2 = [2.686084484898645e-10, 2.6860844854686135e-10, 2.6860844852027985e-10]\n",
      "d01,d02,d12 = [0.9990831766459127, 0.9990831766461707, 0.999083176644201]\n"
     ]
    },
    {
     "name": "stderr",
     "output_type": "stream",
     "text": [
      "/cluster/home/mskrabulis/miniconda3/envs/quantech/lib/python3.9/site-packages/pyscf/symm/Dmatrix.py:156: RuntimeWarning: invalid value encountered in arccos\n",
      "  gamma = numpy.arccos(yp.dot(c2[1]))\n",
      "Progress:  35%|███▌      | 177/500 [44:34<1:17:38, 14.42s/it]"
     ]
    },
    {
     "name": "stdout",
     "output_type": "stream",
     "text": [
      "Time to: Calculate Ground State - 1.36s, Get Pauli Ops - 5.32s, Calculate Pauli Expectation Values - 5.66s, Calculate Covariance - 2.33s\n",
      "f0,f1,f2 = [1.0013283304085537e-09, 1.0013283303696725e-09, 1.00132833043746e-09]\n",
      "d01,d02,d12 = [0.9828387986468755, 0.9828387986471286, 0.9828387986452609]\n"
     ]
    },
    {
     "name": "stderr",
     "output_type": "stream",
     "text": [
      "/cluster/home/mskrabulis/miniconda3/envs/quantech/lib/python3.9/site-packages/pyscf/symm/Dmatrix.py:156: RuntimeWarning: invalid value encountered in arccos\n",
      "  gamma = numpy.arccos(yp.dot(c2[1]))\n",
      "Progress:  36%|███▌      | 178/500 [44:49<1:18:37, 14.65s/it]"
     ]
    },
    {
     "name": "stdout",
     "output_type": "stream",
     "text": [
      "Time to: Calculate Ground State - 1.37s, Get Pauli Ops - 6.67s, Calculate Pauli Expectation Values - 4.81s, Calculate Covariance - 2.32s\n",
      "f0,f1,f2 = [6.608971710737979e-10, 6.608971710230323e-10, 6.608971710312822e-10]\n",
      "d01,d02,d12 = [0.9675854148349616, 0.9675854148352034, 0.9675854148334634]\n"
     ]
    },
    {
     "name": "stderr",
     "output_type": "stream",
     "text": [
      "Progress:  36%|███▌      | 179/500 [45:03<1:17:24, 14.47s/it]"
     ]
    },
    {
     "name": "stdout",
     "output_type": "stream",
     "text": [
      "Time to: Calculate Ground State - 1.35s, Get Pauli Ops - 5.12s, Calculate Pauli Expectation Values - 5.35s, Calculate Covariance - 2.22s\n",
      "f0,f1,f2 = [3.168415188665851e-11, 3.1684151909101646e-11, 3.1684151891604857e-11]\n",
      "d01,d02,d12 = [0.9565810849290176, 0.9565810849292512, 0.9565810849276538]\n"
     ]
    },
    {
     "name": "stderr",
     "output_type": "stream",
     "text": [
      "Progress:  36%|███▌      | 180/500 [45:17<1:16:38, 14.37s/it]"
     ]
    },
    {
     "name": "stdout",
     "output_type": "stream",
     "text": [
      "Time to: Calculate Ground State - 1.33s, Get Pauli Ops - 5.24s, Calculate Pauli Expectation Values - 5.46s, Calculate Covariance - 2.12s\n",
      "f0,f1,f2 = [1.3231076009214935e-09, 1.3231076009188331e-09, 1.323107600928126e-09]\n",
      "d01,d02,d12 = [0.9467451024656436, 0.9467451024658695, 0.9467451024644159]\n"
     ]
    },
    {
     "name": "stderr",
     "output_type": "stream",
     "text": [
      "/cluster/home/mskrabulis/miniconda3/envs/quantech/lib/python3.9/site-packages/pyscf/symm/Dmatrix.py:156: RuntimeWarning: invalid value encountered in arccos\n",
      "  gamma = numpy.arccos(yp.dot(c2[1]))\n",
      "Progress:  36%|███▌      | 181/500 [45:31<1:15:16, 14.16s/it]"
     ]
    },
    {
     "name": "stdout",
     "output_type": "stream",
     "text": [
      "Time to: Calculate Ground State - 0.78s, Get Pauli Ops - 5.1s, Calculate Pauli Expectation Values - 5.61s, Calculate Covariance - 2.16s\n",
      "f0,f1,f2 = [8.08305417437336e-10, 8.083054174005842e-10, 8.083054174063705e-10]\n",
      "d01,d02,d12 = [0.9369771399969717, 0.9369771399971951, 0.9369771399958887]\n"
     ]
    },
    {
     "name": "stderr",
     "output_type": "stream",
     "text": [
      "Progress:  36%|███▋      | 182/500 [45:47<1:17:57, 14.71s/it]"
     ]
    },
    {
     "name": "stdout",
     "output_type": "stream",
     "text": [
      "Time to: Calculate Ground State - 1.33s, Get Pauli Ops - 4.75s, Calculate Pauli Expectation Values - 7.67s, Calculate Covariance - 2.24s\n",
      "f0,f1,f2 = [1.6161834354315705e-09, 1.6161834354872468e-09, 1.616183435460289e-09]\n",
      "d01,d02,d12 = [0.9280177899465964, 0.9280177899468073, 0.9280177899456616]\n"
     ]
    },
    {
     "name": "stderr",
     "output_type": "stream",
     "text": [
      "/cluster/home/mskrabulis/miniconda3/envs/quantech/lib/python3.9/site-packages/pyscf/symm/Dmatrix.py:156: RuntimeWarning: invalid value encountered in arccos\n",
      "  gamma = numpy.arccos(yp.dot(c2[1]))\n",
      "Progress:  37%|███▋      | 183/500 [46:06<1:25:34, 16.20s/it]"
     ]
    },
    {
     "name": "stdout",
     "output_type": "stream",
     "text": [
      "Time to: Calculate Ground State - 1.22s, Get Pauli Ops - 9.19s, Calculate Pauli Expectation Values - 6.8s, Calculate Covariance - 2.44s\n",
      "f0,f1,f2 = [3.4449776730008926e-09, 3.444977673037104e-09, 3.4449776730010125e-09]\n",
      "d01,d02,d12 = [0.9190411575048156, 0.919041157505011, 0.9190411575040405]\n"
     ]
    },
    {
     "name": "stderr",
     "output_type": "stream",
     "text": [
      "Progress:  37%|███▋      | 184/500 [46:20<1:21:27, 15.47s/it]"
     ]
    },
    {
     "name": "stdout",
     "output_type": "stream",
     "text": [
      "Time to: Calculate Ground State - 1.37s, Get Pauli Ops - 5.04s, Calculate Pauli Expectation Values - 5.25s, Calculate Covariance - 2.1s\n",
      "f0,f1,f2 = [3.961282530984264e-09, 3.961282530959602e-09, 3.961282530912408e-09]\n",
      "d01,d02,d12 = [0.9106666607416618, 0.9106666607418282, 0.9106666607410373]\n"
     ]
    },
    {
     "name": "stderr",
     "output_type": "stream",
     "text": [
      "Progress:  37%|███▋      | 185/500 [46:35<1:20:06, 15.26s/it]"
     ]
    },
    {
     "name": "stdout",
     "output_type": "stream",
     "text": [
      "Time to: Calculate Ground State - 1.37s, Get Pauli Ops - 5.33s, Calculate Pauli Expectation Values - 5.75s, Calculate Covariance - 2.31s\n",
      "f0,f1,f2 = [4.288243297697957e-09, 4.288243297769502e-09, 4.288243297721198e-09]\n",
      "d01,d02,d12 = [0.9046894884384233, 0.9046894884385681, 0.9046894884379642]\n"
     ]
    },
    {
     "name": "stderr",
     "output_type": "stream",
     "text": [
      "Progress:  37%|███▋      | 186/500 [46:52<1:23:19, 15.92s/it]"
     ]
    },
    {
     "name": "stdout",
     "output_type": "stream",
     "text": [
      "Time to: Calculate Ground State - 1.37s, Get Pauli Ops - 6.25s, Calculate Pauli Expectation Values - 7.48s, Calculate Covariance - 2.36s\n",
      "f0,f1,f2 = [3.743168896988695e-09, 3.74316889701979e-09, 3.7431688970092574e-09]\n",
      "d01,d02,d12 = [0.9004486358186102, 0.9004486358187386, 0.9004486358183237]\n"
     ]
    },
    {
     "name": "stderr",
     "output_type": "stream",
     "text": [
      "Progress:  37%|███▋      | 187/500 [47:08<1:22:28, 15.81s/it]"
     ]
    },
    {
     "name": "stdout",
     "output_type": "stream",
     "text": [
      "Time to: Calculate Ground State - 1.06s, Get Pauli Ops - 6.84s, Calculate Pauli Expectation Values - 5.33s, Calculate Covariance - 2.31s\n",
      "f0,f1,f2 = [4.898128708057692e-09, 4.898128708111207e-09, 4.8981287081056974e-09]\n",
      "d01,d02,d12 = [0.8982306437592812, 0.8982306437593848, 0.8982306437591782]\n"
     ]
    },
    {
     "name": "stderr",
     "output_type": "stream",
     "text": [
      "/cluster/home/mskrabulis/miniconda3/envs/quantech/lib/python3.9/site-packages/pyscf/symm/Dmatrix.py:156: RuntimeWarning: invalid value encountered in arccos\n",
      "  gamma = numpy.arccos(yp.dot(c2[1]))\n",
      "Progress:  38%|███▊      | 188/500 [47:25<1:24:00, 16.16s/it]"
     ]
    },
    {
     "name": "stdout",
     "output_type": "stream",
     "text": [
      "Time to: Calculate Ground State - 1.37s, Get Pauli Ops - 7.95s, Calculate Pauli Expectation Values - 5.45s, Calculate Covariance - 2.19s\n",
      "f0,f1,f2 = [5.403064586457638e-09, 5.403064586438857e-09, 5.40306458645196e-09]\n",
      "d01,d02,d12 = [0.8984007937049191, 0.898400793705002, 0.8984007937050015]\n"
     ]
    },
    {
     "name": "stderr",
     "output_type": "stream",
     "text": [
      "Progress:  38%|███▊      | 189/500 [47:40<1:21:31, 15.73s/it]"
     ]
    },
    {
     "name": "stdout",
     "output_type": "stream",
     "text": [
      "Time to: Calculate Ground State - 1.37s, Get Pauli Ops - 5.2s, Calculate Pauli Expectation Values - 5.78s, Calculate Covariance - 2.37s\n",
      "f0,f1,f2 = [4.0928538014930126e-09, 4.092853801495811e-09, 4.0928538015352865e-09]\n",
      "d01,d02,d12 = [0.9002739152269961, 0.9002739152270645, 0.9002739152272691]\n"
     ]
    },
    {
     "name": "stderr",
     "output_type": "stream",
     "text": [
      "Progress:  38%|███▊      | 190/500 [47:58<1:25:17, 16.51s/it]"
     ]
    },
    {
     "name": "stdout",
     "output_type": "stream",
     "text": [
      "Time to: Calculate Ground State - 1.06s, Get Pauli Ops - 8.51s, Calculate Pauli Expectation Values - 6.88s, Calculate Covariance - 1.86s\n",
      "f0,f1,f2 = [3.816159418455983e-09, 3.81615941845137e-09, 3.816159418469933e-09]\n",
      "d01,d02,d12 = [0.9037600047022054, 0.9037600047022601, 0.9037600047026673]\n"
     ]
    },
    {
     "name": "stderr",
     "output_type": "stream",
     "text": [
      "/cluster/home/mskrabulis/miniconda3/envs/quantech/lib/python3.9/site-packages/pyscf/symm/Dmatrix.py:156: RuntimeWarning: invalid value encountered in arccos\n",
      "  gamma = numpy.arccos(yp.dot(c2[1]))\n",
      "Progress:  38%|███▊      | 191/500 [48:13<1:23:02, 16.12s/it]"
     ]
    },
    {
     "name": "stdout",
     "output_type": "stream",
     "text": [
      "Time to: Calculate Ground State - 1.0s, Get Pauli Ops - 7.25s, Calculate Pauli Expectation Values - 4.97s, Calculate Covariance - 2.0s\n",
      "f0,f1,f2 = [4.090756114937428e-09, 4.090756114930659e-09, 4.0907561149353805e-09]\n",
      "d01,d02,d12 = [0.908825383836518, 0.9088253838365699, 0.908825383837181]\n"
     ]
    },
    {
     "name": "stderr",
     "output_type": "stream",
     "text": [
      "Progress:  38%|███▊      | 192/500 [48:27<1:18:49, 15.36s/it]"
     ]
    },
    {
     "name": "stdout",
     "output_type": "stream",
     "text": [
      "Time to: Calculate Ground State - 0.9s, Get Pauli Ops - 4.97s, Calculate Pauli Expectation Values - 5.66s, Calculate Covariance - 2.02s\n",
      "f0,f1,f2 = [4.168966354710887e-09, 4.168966354679575e-09, 4.1689663546735274e-09]\n",
      "d01,d02,d12 = [0.916060286898303, 0.9160602868983564, 0.9160602868991533]\n"
     ]
    },
    {
     "name": "stderr",
     "output_type": "stream",
     "text": [
      "Progress:  39%|███▊      | 193/500 [48:39<1:14:24, 14.54s/it]"
     ]
    },
    {
     "name": "stdout",
     "output_type": "stream",
     "text": [
      "Time to: Calculate Ground State - 1.31s, Get Pauli Ops - 4.75s, Calculate Pauli Expectation Values - 5.16s, Calculate Covariance - 1.42s\n",
      "f0,f1,f2 = [4.0004110243488725e-09, 4.000411024288411e-09, 4.000411024321403e-09]\n",
      "d01,d02,d12 = [0.9247636498049311, 0.924763649804997, 0.9247636498059548]\n"
     ]
    },
    {
     "name": "stderr",
     "output_type": "stream",
     "text": [
      "/cluster/home/mskrabulis/miniconda3/envs/quantech/lib/python3.9/site-packages/pyscf/symm/Dmatrix.py:156: RuntimeWarning: invalid value encountered in arccos\n",
      "  gamma = numpy.arccos(yp.dot(c2[1]))\n",
      "Progress:  39%|███▉      | 194/500 [48:53<1:12:47, 14.27s/it]"
     ]
    },
    {
     "name": "stdout",
     "output_type": "stream",
     "text": [
      "Time to: Calculate Ground State - 1.07s, Get Pauli Ops - 4.52s, Calculate Pauli Expectation Values - 5.75s, Calculate Covariance - 2.29s\n",
      "f0,f1,f2 = [2.1040168218391197e-09, 2.1040168218711775e-09, 2.1040168218604395e-09]\n",
      "d01,d02,d12 = [0.9337024275718316, 0.9337024275719097, 0.9337024275730419]\n"
     ]
    },
    {
     "name": "stderr",
     "output_type": "stream",
     "text": [
      "Progress:  39%|███▉      | 195/500 [49:08<1:14:15, 14.61s/it]"
     ]
    },
    {
     "name": "stdout",
     "output_type": "stream",
     "text": [
      "Time to: Calculate Ground State - 1.08s, Get Pauli Ops - 6.73s, Calculate Pauli Expectation Values - 5.43s, Calculate Covariance - 2.15s\n",
      "f0,f1,f2 = [3.941586959724938e-09, 3.941586959695761e-09, 3.9415869597268355e-09]\n",
      "d01,d02,d12 = [0.9448556410277571, 0.9448556410278434, 0.9448556410291483]\n"
     ]
    },
    {
     "name": "stderr",
     "output_type": "stream",
     "text": [
      "/cluster/home/mskrabulis/miniconda3/envs/quantech/lib/python3.9/site-packages/pyscf/symm/Dmatrix.py:156: RuntimeWarning: invalid value encountered in arccos\n",
      "  gamma = numpy.arccos(yp.dot(c2[1]))\n",
      "Progress:  39%|███▉      | 196/500 [49:22<1:12:30, 14.31s/it]"
     ]
    },
    {
     "name": "stdout",
     "output_type": "stream",
     "text": [
      "Time to: Calculate Ground State - 1.06s, Get Pauli Ops - 4.85s, Calculate Pauli Expectation Values - 5.23s, Calculate Covariance - 2.47s\n",
      "f0,f1,f2 = [1.9853877666340512e-09, 1.9853877665926484e-09, 1.985387766590967e-09]\n",
      "d01,d02,d12 = [0.9560159398022847, 0.9560159398023894, 0.9560159398038467]\n"
     ]
    },
    {
     "name": "stderr",
     "output_type": "stream",
     "text": [
      "Progress:  39%|███▉      | 197/500 [49:35<1:11:01, 14.07s/it]"
     ]
    },
    {
     "name": "stdout",
     "output_type": "stream",
     "text": [
      "Time to: Calculate Ground State - 1.36s, Get Pauli Ops - 4.7s, Calculate Pauli Expectation Values - 5.1s, Calculate Covariance - 2.32s\n",
      "f0,f1,f2 = [8.881606687188088e-10, 8.881606687274358e-10, 8.881606686907881e-10]\n",
      "d01,d02,d12 = [0.9660636551696482, 0.9660636551697648, 0.9660636551713473]\n"
     ]
    },
    {
     "name": "stderr",
     "output_type": "stream",
     "text": [
      "Progress:  40%|███▉      | 198/500 [49:51<1:13:24, 14.58s/it]"
     ]
    },
    {
     "name": "stdout",
     "output_type": "stream",
     "text": [
      "Time to: Calculate Ground State - 1.38s, Get Pauli Ops - 6.76s, Calculate Pauli Expectation Values - 5.44s, Calculate Covariance - 2.22s\n",
      "f0,f1,f2 = [2.444653815509867e-10, 2.444653816128881e-10, 2.4446538162364215e-10]\n",
      "d01,d02,d12 = [0.9760104423316063, 0.9760104423317265, 0.9760104423334147]\n"
     ]
    },
    {
     "name": "stderr",
     "output_type": "stream",
     "text": [
      "Progress:  40%|███▉      | 199/500 [50:05<1:11:32, 14.26s/it]"
     ]
    },
    {
     "name": "stdout",
     "output_type": "stream",
     "text": [
      "Time to: Calculate Ground State - 0.91s, Get Pauli Ops - 5.25s, Calculate Pauli Expectation Values - 5.18s, Calculate Covariance - 2.16s\n",
      "f0,f1,f2 = [1.3048039172477986e-09, 1.3048039172170112e-09, 1.3048039172338962e-09]\n",
      "d01,d02,d12 = [0.987340118095287, 0.9873401180954081, 0.987340118097234]\n"
     ]
    },
    {
     "name": "stderr",
     "output_type": "stream",
     "text": [
      "/cluster/home/mskrabulis/miniconda3/envs/quantech/lib/python3.9/site-packages/pyscf/symm/Dmatrix.py:156: RuntimeWarning: invalid value encountered in arccos\n",
      "  gamma = numpy.arccos(yp.dot(c2[1]))\n",
      "Progress:  40%|████      | 200/500 [50:21<1:14:26, 14.89s/it]"
     ]
    },
    {
     "name": "stdout",
     "output_type": "stream",
     "text": [
      "Time to: Calculate Ground State - 1.1s, Get Pauli Ops - 7.45s, Calculate Pauli Expectation Values - 5.86s, Calculate Covariance - 1.94s\n",
      "f0,f1,f2 = [4.786669474353697e-10, 4.786669474343112e-10, 4.786669474781968e-10]\n",
      "d01,d02,d12 = [0.9987699382529749, 0.998769938253092, 0.9987699382550213]\n"
     ]
    },
    {
     "name": "stderr",
     "output_type": "stream",
     "text": [
      "Progress:  40%|████      | 201/500 [50:38<1:17:07, 15.48s/it]"
     ]
    },
    {
     "name": "stdout",
     "output_type": "stream",
     "text": [
      "Time to: Calculate Ground State - 1.38s, Get Pauli Ops - 7.05s, Calculate Pauli Expectation Values - 6.11s, Calculate Covariance - 2.3s\n",
      "f0,f1,f2 = [1.6006588838960125e-09, 1.600658883960974e-09, 1.6006588839687825e-09]\n",
      "d01,d02,d12 = [1.0127142063439756, 1.0127142063440793, 1.0127142063460899]\n"
     ]
    },
    {
     "name": "stderr",
     "output_type": "stream",
     "text": [
      "Progress:  40%|████      | 202/500 [50:51<1:12:59, 14.70s/it]"
     ]
    },
    {
     "name": "stdout",
     "output_type": "stream",
     "text": [
      "Time to: Calculate Ground State - 1.4s, Get Pauli Ops - 4.83s, Calculate Pauli Expectation Values - 4.95s, Calculate Covariance - 1.69s\n",
      "f0,f1,f2 = [2.277629207935229e-09, 2.277629207983308e-09, 2.2776292079869142e-09]\n",
      "d01,d02,d12 = [1.0247913271877702, 1.0247913271878595, 1.0247913271899223]\n"
     ]
    },
    {
     "name": "stderr",
     "output_type": "stream",
     "text": [
      "Progress:  41%|████      | 203/500 [51:07<1:14:47, 15.11s/it]"
     ]
    },
    {
     "name": "stdout",
     "output_type": "stream",
     "text": [
      "Time to: Calculate Ground State - 1.05s, Get Pauli Ops - 7.84s, Calculate Pauli Expectation Values - 5.09s, Calculate Covariance - 2.09s\n",
      "f0,f1,f2 = [2.833580443707695e-10, 2.8335804438444405e-10, 2.833580443485044e-10]\n",
      "d01,d02,d12 = [1.0380641694334338, 1.0380641694335024, 1.0380641694356298]\n"
     ]
    },
    {
     "name": "stderr",
     "output_type": "stream",
     "text": [
      "/cluster/home/mskrabulis/miniconda3/envs/quantech/lib/python3.9/site-packages/pyscf/symm/Dmatrix.py:156: RuntimeWarning: invalid value encountered in arccos\n",
      "  gamma = numpy.arccos(yp.dot(c2[1]))\n",
      "Progress:  41%|████      | 204/500 [51:21<1:13:42, 14.94s/it]"
     ]
    },
    {
     "name": "stdout",
     "output_type": "stream",
     "text": [
      "Time to: Calculate Ground State - 1.36s, Get Pauli Ops - 5.2s, Calculate Pauli Expectation Values - 5.61s, Calculate Covariance - 2.37s\n",
      "f0,f1,f2 = [1.921017383519025e-09, 1.9210173835492992e-09, 1.921017383592179e-09]\n",
      "d01,d02,d12 = [1.050698876593854, 1.050698876593896, 1.050698876596109]\n"
     ]
    },
    {
     "name": "stderr",
     "output_type": "stream",
     "text": [
      "Progress:  41%|████      | 205/500 [51:35<1:11:08, 14.47s/it]"
     ]
    },
    {
     "name": "stdout",
     "output_type": "stream",
     "text": [
      "Time to: Calculate Ground State - 1.34s, Get Pauli Ops - 4.52s, Calculate Pauli Expectation Values - 5.45s, Calculate Covariance - 2.05s\n",
      "f0,f1,f2 = [1.2753550740579034e-09, 1.2753550740988884e-09, 1.2753550740696291e-09]\n",
      "d01,d02,d12 = [1.0618174501191147, 1.0618174501191247, 1.061817450121419]\n"
     ]
    },
    {
     "name": "stderr",
     "output_type": "stream",
     "text": [
      "Progress:  41%|████      | 206/500 [51:48<1:09:37, 14.21s/it]"
     ]
    },
    {
     "name": "stdout",
     "output_type": "stream",
     "text": [
      "Time to: Calculate Ground State - 1.29s, Get Pauli Ops - 5.33s, Calculate Pauli Expectation Values - 5.36s, Calculate Covariance - 1.62s\n",
      "f0,f1,f2 = [3.4495908609984115e-09, 3.449590860978228e-09, 3.449590861012349e-09]\n",
      "d01,d02,d12 = [1.0722877103048845, 1.0722877103048518, 1.0722877103072346]\n"
     ]
    },
    {
     "name": "stderr",
     "output_type": "stream",
     "text": [
      "Progress:  41%|████▏     | 207/500 [52:02<1:08:31, 14.03s/it]"
     ]
    },
    {
     "name": "stdout",
     "output_type": "stream",
     "text": [
      "Time to: Calculate Ground State - 1.32s, Get Pauli Ops - 4.86s, Calculate Pauli Expectation Values - 5.32s, Calculate Covariance - 2.12s\n",
      "f0,f1,f2 = [1.6514804264332067e-09, 1.6514804265194763e-09, 1.651480426473416e-09]\n",
      "d01,d02,d12 = [1.080875846829319, 1.0808758468292545, 1.0808758468316815]\n"
     ]
    },
    {
     "name": "stderr",
     "output_type": "stream",
     "text": [
      "Progress:  42%|████▏     | 208/500 [52:18<1:10:43, 14.53s/it]"
     ]
    },
    {
     "name": "stdout",
     "output_type": "stream",
     "text": [
      "Time to: Calculate Ground State - 1.37s, Get Pauli Ops - 5.27s, Calculate Pauli Expectation Values - 6.6s, Calculate Covariance - 2.45s\n",
      "f0,f1,f2 = [2.4759473136694155e-09, 2.4759473136528045e-09, 2.4759473137019018e-09]\n",
      "d01,d02,d12 = [1.0900842861651596, 1.0900842861650621, 1.09008428616753]\n"
     ]
    },
    {
     "name": "stderr",
     "output_type": "stream",
     "text": [
      "Progress:  42%|████▏     | 209/500 [52:31<1:09:03, 14.24s/it]"
     ]
    },
    {
     "name": "stdout",
     "output_type": "stream",
     "text": [
      "Time to: Calculate Ground State - 1.29s, Get Pauli Ops - 5.11s, Calculate Pauli Expectation Values - 5.22s, Calculate Covariance - 1.92s\n",
      "f0,f1,f2 = [4.177723638449595e-09, 4.177723638457125e-09, 4.177723638457866e-09]\n",
      "d01,d02,d12 = [1.097230224318647, 1.0972302243185155, 1.0972302243210272]\n"
     ]
    },
    {
     "name": "stderr",
     "output_type": "stream",
     "text": [
      "Progress:  42%|████▏     | 210/500 [52:45<1:07:41, 14.01s/it]"
     ]
    },
    {
     "name": "stdout",
     "output_type": "stream",
     "text": [
      "Time to: Calculate Ground State - 1.35s, Get Pauli Ops - 4.49s, Calculate Pauli Expectation Values - 5.37s, Calculate Covariance - 2.25s\n",
      "f0,f1,f2 = [3.0818450748365836e-09, 3.0818450748695844e-09, 3.0818450748744304e-09]\n",
      "d01,d02,d12 = [1.1028299344531511, 1.1028299344529886, 1.1028299344555093]\n"
     ]
    },
    {
     "name": "stderr",
     "output_type": "stream",
     "text": [
      "/cluster/home/mskrabulis/miniconda3/envs/quantech/lib/python3.9/site-packages/pyscf/symm/Dmatrix.py:156: RuntimeWarning: invalid value encountered in arccos\n",
      "  gamma = numpy.arccos(yp.dot(c2[1]))\n",
      "Progress:  42%|████▏     | 211/500 [52:59<1:07:16, 13.97s/it]"
     ]
    },
    {
     "name": "stdout",
     "output_type": "stream",
     "text": [
      "Time to: Calculate Ground State - 1.41s, Get Pauli Ops - 4.73s, Calculate Pauli Expectation Values - 5.61s, Calculate Covariance - 2.12s\n",
      "f0,f1,f2 = [3.346092872090645e-09, 3.346092872139463e-09, 3.346092872138147e-09]\n",
      "d01,d02,d12 = [1.106107416294806, 1.1061074162946163, 1.1061074162971107]\n"
     ]
    },
    {
     "name": "stderr",
     "output_type": "stream",
     "text": [
      "/cluster/home/mskrabulis/miniconda3/envs/quantech/lib/python3.9/site-packages/pyscf/symm/Dmatrix.py:156: RuntimeWarning: invalid value encountered in arccos\n",
      "  gamma = numpy.arccos(yp.dot(c2[1]))\n",
      "Progress:  42%|████▏     | 212/500 [53:13<1:07:39, 14.09s/it]"
     ]
    },
    {
     "name": "stdout",
     "output_type": "stream",
     "text": [
      "Time to: Calculate Ground State - 1.31s, Get Pauli Ops - 5.34s, Calculate Pauli Expectation Values - 5.37s, Calculate Covariance - 2.36s\n",
      "f0,f1,f2 = [3.334912370867513e-09, 3.334912370916036e-09, 3.3349123708941227e-09]\n",
      "d01,d02,d12 = [1.107985316454104, 1.1079853164538827, 1.1079853164563325]\n"
     ]
    },
    {
     "name": "stderr",
     "output_type": "stream",
     "text": [
      "Progress:  43%|████▎     | 213/500 [53:31<1:13:35, 15.38s/it]"
     ]
    },
    {
     "name": "stdout",
     "output_type": "stream",
     "text": [
      "Time to: Calculate Ground State - 1.42s, Get Pauli Ops - 8.69s, Calculate Pauli Expectation Values - 5.87s, Calculate Covariance - 2.4s\n",
      "f0,f1,f2 = [5.656261979594174e-09, 5.656261979638556e-09, 5.656261979624279e-09]\n",
      "d01,d02,d12 = [1.107871804961154, 1.107871804960908, 1.1078718049632899]\n"
     ]
    },
    {
     "name": "stderr",
     "output_type": "stream",
     "text": [
      "Progress:  43%|████▎     | 214/500 [53:46<1:12:30, 15.21s/it]"
     ]
    },
    {
     "name": "stdout",
     "output_type": "stream",
     "text": [
      "Time to: Calculate Ground State - 1.19s, Get Pauli Ops - 4.9s, Calculate Pauli Expectation Values - 6.39s, Calculate Covariance - 2.33s\n",
      "f0,f1,f2 = [3.369846396342395e-09, 3.3698463963491507e-09, 3.3698463963539392e-09]\n",
      "d01,d02,d12 = [1.1063609188762533, 1.106360918875976, 1.1063609188782897]\n"
     ]
    },
    {
     "name": "stderr",
     "output_type": "stream",
     "text": [
      "/cluster/home/mskrabulis/miniconda3/envs/quantech/lib/python3.9/site-packages/pyscf/symm/Dmatrix.py:156: RuntimeWarning: invalid value encountered in arccos\n",
      "  gamma = numpy.arccos(yp.dot(c2[1]))\n",
      "Progress:  43%|████▎     | 215/500 [54:00<1:10:43, 14.89s/it]"
     ]
    },
    {
     "name": "stdout",
     "output_type": "stream",
     "text": [
      "Time to: Calculate Ground State - 1.17s, Get Pauli Ops - 5.26s, Calculate Pauli Expectation Values - 5.26s, Calculate Covariance - 2.44s\n",
      "f0,f1,f2 = [4.001948360034741e-09, 4.0019483600499625e-09, 4.001948360079272e-09]\n",
      "d01,d02,d12 = [1.103421663546102, 1.1034216635457739, 1.103421663548021]\n"
     ]
    },
    {
     "name": "stderr",
     "output_type": "stream",
     "text": [
      "Progress:  43%|████▎     | 216/500 [54:14<1:08:27, 14.46s/it]"
     ]
    },
    {
     "name": "stdout",
     "output_type": "stream",
     "text": [
      "Time to: Calculate Ground State - 1.27s, Get Pauli Ops - 4.88s, Calculate Pauli Expectation Values - 4.86s, Calculate Covariance - 2.45s\n",
      "f0,f1,f2 = [4.964376373337614e-09, 4.964376373366322e-09, 4.964376373419564e-09]\n",
      "d01,d02,d12 = [1.0981221177406761, 1.0981221177402933, 1.0981221177424572]\n"
     ]
    },
    {
     "name": "stderr",
     "output_type": "stream",
     "text": [
      "/cluster/home/mskrabulis/miniconda3/envs/quantech/lib/python3.9/site-packages/pyscf/symm/Dmatrix.py:156: RuntimeWarning: invalid value encountered in arccos\n",
      "  gamma = numpy.arccos(yp.dot(c2[1]))\n",
      "/cluster/home/mskrabulis/miniconda3/envs/quantech/lib/python3.9/site-packages/pyscf/symm/Dmatrix.py:156: RuntimeWarning: invalid value encountered in arccos\n",
      "  gamma = numpy.arccos(yp.dot(c2[1]))\n",
      "Progress:  43%|████▎     | 217/500 [54:28<1:08:05, 14.44s/it]"
     ]
    },
    {
     "name": "stdout",
     "output_type": "stream",
     "text": [
      "Time to: Calculate Ground State - 1.1s, Get Pauli Ops - 5.11s, Calculate Pauli Expectation Values - 6.3s, Calculate Covariance - 1.87s\n",
      "f0,f1,f2 = [3.20097237907617e-09, 3.2009723790969403e-09, 3.2009723790903427e-09]\n",
      "d01,d02,d12 = [1.0927979990488774, 1.092797999048445, 1.0927979990505154]\n"
     ]
    },
    {
     "name": "stderr",
     "output_type": "stream",
     "text": [
      "/cluster/home/mskrabulis/miniconda3/envs/quantech/lib/python3.9/site-packages/pyscf/symm/Dmatrix.py:156: RuntimeWarning: invalid value encountered in arccos\n",
      "  gamma = numpy.arccos(yp.dot(c2[1]))\n",
      "Progress:  44%|████▎     | 218/500 [54:42<1:06:49, 14.22s/it]"
     ]
    },
    {
     "name": "stdout",
     "output_type": "stream",
     "text": [
      "Time to: Calculate Ground State - 1.35s, Get Pauli Ops - 5.29s, Calculate Pauli Expectation Values - 4.84s, Calculate Covariance - 2.21s\n",
      "f0,f1,f2 = [3.461079423049986e-09, 3.461079423085962e-09, 3.4610794231016937e-09]\n",
      "d01,d02,d12 = [1.0854246227226145, 1.0854246227221294, 1.0854246227240991]\n"
     ]
    },
    {
     "name": "stderr",
     "output_type": "stream",
     "text": [
      "Progress:  44%|████▍     | 219/500 [54:54<1:04:00, 13.67s/it]"
     ]
    },
    {
     "name": "stdout",
     "output_type": "stream",
     "text": [
      "Time to: Calculate Ground State - 1.38s, Get Pauli Ops - 4.28s, Calculate Pauli Expectation Values - 5.17s, Calculate Covariance - 1.55s\n",
      "f0,f1,f2 = [3.0001308345333164e-09, 3.0001308345758468e-09, 3.000130834560732e-09]\n",
      "d01,d02,d12 = [1.0764164076583784, 1.0764164076578395, 1.0764164076596947]\n"
     ]
    },
    {
     "name": "stderr",
     "output_type": "stream",
     "text": [
      "Progress:  44%|████▍     | 220/500 [55:07<1:03:02, 13.51s/it]"
     ]
    },
    {
     "name": "stdout",
     "output_type": "stream",
     "text": [
      "Time to: Calculate Ground State - 1.05s, Get Pauli Ops - 4.58s, Calculate Pauli Expectation Values - 5.64s, Calculate Covariance - 1.86s\n",
      "f0,f1,f2 = [2.3222218930915162e-09, 2.322221893070814e-09, 2.3222218930597107e-09]\n",
      "d01,d02,d12 = [1.0657877705658376, 1.065787770565241, 1.0657877705670042]\n"
     ]
    },
    {
     "name": "stderr",
     "output_type": "stream",
     "text": [
      "Progress:  44%|████▍     | 221/500 [55:21<1:03:34, 13.67s/it]"
     ]
    },
    {
     "name": "stdout",
     "output_type": "stream",
     "text": [
      "Time to: Calculate Ground State - 1.1s, Get Pauli Ops - 4.93s, Calculate Pauli Expectation Values - 5.82s, Calculate Covariance - 2.2s\n",
      "f0,f1,f2 = [2.5389345446743505e-09, 2.5389345447237195e-09, 2.5389345446665485e-09]\n",
      "d01,d02,d12 = [1.054037354902948, 1.0540373549022937, 1.0540373549039697]\n"
     ]
    },
    {
     "name": "stderr",
     "output_type": "stream",
     "text": [
      "Progress:  44%|████▍     | 222/500 [55:36<1:04:35, 13.94s/it]"
     ]
    },
    {
     "name": "stdout",
     "output_type": "stream",
     "text": [
      "Time to: Calculate Ground State - 1.08s, Get Pauli Ops - 5.28s, Calculate Pauli Expectation Values - 5.97s, Calculate Covariance - 2.23s\n",
      "f0,f1,f2 = [7.251232414953249e-10, 7.251232416226778e-10, 7.25123241597565e-10]\n",
      "d01,d02,d12 = [1.0451007114188173, 1.0451007114180972, 1.0451007114196855]\n"
     ]
    },
    {
     "name": "stderr",
     "output_type": "stream",
     "text": [
      "/cluster/home/mskrabulis/miniconda3/envs/quantech/lib/python3.9/site-packages/pyscf/symm/Dmatrix.py:156: RuntimeWarning: invalid value encountered in arccos\n",
      "  gamma = numpy.arccos(yp.dot(c2[1]))\n",
      "Progress:  45%|████▍     | 223/500 [55:53<1:08:34, 14.85s/it]"
     ]
    },
    {
     "name": "stdout",
     "output_type": "stream",
     "text": [
      "Time to: Calculate Ground State - 1.25s, Get Pauli Ops - 8.55s, Calculate Pauli Expectation Values - 5.03s, Calculate Covariance - 2.16s\n",
      "f0,f1,f2 = [3.557985445590896e-09, 3.5579854455740715e-09, 3.5579854455911913e-09]\n",
      "d01,d02,d12 = [1.034485083865599, 1.0344850838648232, 1.034485083866302]\n"
     ]
    },
    {
     "name": "stderr",
     "output_type": "stream",
     "text": [
      "Progress:  45%|████▍     | 224/500 [56:06<1:05:49, 14.31s/it]"
     ]
    },
    {
     "name": "stdout",
     "output_type": "stream",
     "text": [
      "Time to: Calculate Ground State - 1.06s, Get Pauli Ops - 4.89s, Calculate Pauli Expectation Values - 5.14s, Calculate Covariance - 1.94s\n",
      "f0,f1,f2 = [2.875395005877296e-09, 2.875395005857314e-09, 2.875395005874499e-09]\n",
      "d01,d02,d12 = [1.0236690172148821, 1.0236690172140486, 1.0236690172154252]\n"
     ]
    },
    {
     "name": "stderr",
     "output_type": "stream",
     "text": [
      "Progress:  45%|████▌     | 225/500 [56:21<1:06:25, 14.49s/it]"
     ]
    },
    {
     "name": "stdout",
     "output_type": "stream",
     "text": [
      "Time to: Calculate Ground State - 1.55s, Get Pauli Ops - 4.61s, Calculate Pauli Expectation Values - 6.82s, Calculate Covariance - 1.93s\n",
      "f0,f1,f2 = [1.365698331336666e-09, 1.3656983314007155e-09, 1.3656983314150957e-09]\n",
      "d01,d02,d12 = [1.0135376908140978, 1.0135376908132072, 1.013537690814463]\n"
     ]
    },
    {
     "name": "stderr",
     "output_type": "stream",
     "text": [
      "/cluster/home/mskrabulis/miniconda3/envs/quantech/lib/python3.9/site-packages/pyscf/symm/Dmatrix.py:156: RuntimeWarning: invalid value encountered in arccos\n",
      "  gamma = numpy.arccos(yp.dot(c2[1]))\n",
      "/cluster/home/mskrabulis/miniconda3/envs/quantech/lib/python3.9/site-packages/pyscf/symm/Dmatrix.py:156: RuntimeWarning: invalid value encountered in arccos\n",
      "  gamma = numpy.arccos(yp.dot(c2[1]))\n",
      "Progress:  45%|████▌     | 226/500 [56:35<1:04:51, 14.20s/it]"
     ]
    },
    {
     "name": "stdout",
     "output_type": "stream",
     "text": [
      "Time to: Calculate Ground State - 0.84s, Get Pauli Ops - 5.14s, Calculate Pauli Expectation Values - 5.39s, Calculate Covariance - 2.16s\n",
      "f0,f1,f2 = [1.6568369586009091e-09, 1.6568369585995414e-09, 1.6568369586027616e-09]\n",
      "d01,d02,d12 = [1.0028807012952214, 1.002880701294283, 1.002880701295414]\n"
     ]
    },
    {
     "name": "stderr",
     "output_type": "stream",
     "text": [
      "/cluster/home/mskrabulis/miniconda3/envs/quantech/lib/python3.9/site-packages/pyscf/symm/Dmatrix.py:156: RuntimeWarning: invalid value encountered in arccos\n",
      "  gamma = numpy.arccos(yp.dot(c2[1]))\n",
      "Progress:  45%|████▌     | 227/500 [56:51<1:07:18, 14.79s/it]"
     ]
    },
    {
     "name": "stdout",
     "output_type": "stream",
     "text": [
      "Time to: Calculate Ground State - 1.37s, Get Pauli Ops - 6.5s, Calculate Pauli Expectation Values - 5.97s, Calculate Covariance - 2.32s\n",
      "f0,f1,f2 = [4.786398881045654e-10, 4.786398881391591e-10, 4.786398881187383e-10]\n",
      "d01,d02,d12 = [0.9916626033743337, 0.9916626033733521, 0.9916626033743443]\n"
     ]
    },
    {
     "name": "stderr",
     "output_type": "stream",
     "text": [
      "Progress:  46%|████▌     | 228/500 [57:04<1:05:07, 14.37s/it]"
     ]
    },
    {
     "name": "stdout",
     "output_type": "stream",
     "text": [
      "Time to: Calculate Ground State - 1.07s, Get Pauli Ops - 5.25s, Calculate Pauli Expectation Values - 5.16s, Calculate Covariance - 1.87s\n",
      "f0,f1,f2 = [9.86167440761533e-10, 9.861674408123934e-10, 9.861674407846014e-10]\n",
      "d01,d02,d12 = [0.9822270649609252, 0.9822270649599161, 0.9822270649607484]\n"
     ]
    },
    {
     "name": "stderr",
     "output_type": "stream",
     "text": [
      "/cluster/home/mskrabulis/miniconda3/envs/quantech/lib/python3.9/site-packages/pyscf/symm/Dmatrix.py:156: RuntimeWarning: invalid value encountered in arccos\n",
      "  gamma = numpy.arccos(yp.dot(c2[1]))\n",
      "/cluster/home/mskrabulis/miniconda3/envs/quantech/lib/python3.9/site-packages/pyscf/symm/Dmatrix.py:156: RuntimeWarning: invalid value encountered in arccos\n",
      "  gamma = numpy.arccos(yp.dot(c2[1]))\n",
      "Progress:  46%|████▌     | 229/500 [57:19<1:05:36, 14.53s/it]"
     ]
    },
    {
     "name": "stdout",
     "output_type": "stream",
     "text": [
      "Time to: Calculate Ground State - 1.37s, Get Pauli Ops - 5.29s, Calculate Pauli Expectation Values - 6.12s, Calculate Covariance - 2.11s\n",
      "f0,f1,f2 = [1.8493395051697095e-09, 1.8493395051396574e-09, 1.8493395051526493e-09]\n",
      "d01,d02,d12 = [0.9740128379834447, 0.9740128379824158, 0.9740128379830877]\n"
     ]
    },
    {
     "name": "stderr",
     "output_type": "stream",
     "text": [
      "/cluster/home/mskrabulis/miniconda3/envs/quantech/lib/python3.9/site-packages/pyscf/symm/Dmatrix.py:156: RuntimeWarning: invalid value encountered in arccos\n",
      "  gamma = numpy.arccos(yp.dot(c2[1]))\n",
      "Progress:  46%|████▌     | 230/500 [57:32<1:03:06, 14.02s/it]"
     ]
    },
    {
     "name": "stdout",
     "output_type": "stream",
     "text": [
      "Time to: Calculate Ground State - 0.76s, Get Pauli Ops - 5.22s, Calculate Pauli Expectation Values - 4.92s, Calculate Covariance - 1.94s\n",
      "f0,f1,f2 = [6.366027810008212e-10, 6.366027808989547e-10, 6.366027809961501e-10]\n",
      "d01,d02,d12 = [0.9663757936920737, 0.96637579369107, 0.9663757936915507]\n"
     ]
    },
    {
     "name": "stderr",
     "output_type": "stream",
     "text": [
      "Progress:  46%|████▌     | 231/500 [57:48<1:06:07, 14.75s/it]"
     ]
    },
    {
     "name": "stdout",
     "output_type": "stream",
     "text": [
      "Time to: Calculate Ground State - 0.95s, Get Pauli Ops - 4.93s, Calculate Pauli Expectation Values - 8.2s, Calculate Covariance - 2.36s\n",
      "f0,f1,f2 = [4.376974842866694e-11, 4.3769748385669003e-11, 4.376974837855425e-11]\n",
      "d01,d02,d12 = [0.9597043001426491, 0.9597043001416612, 0.9597043001419452]\n"
     ]
    },
    {
     "name": "stderr",
     "output_type": "stream",
     "text": [
      "Progress:  46%|████▋     | 232/500 [58:02<1:04:53, 14.53s/it]"
     ]
    },
    {
     "name": "stdout",
     "output_type": "stream",
     "text": [
      "Time to: Calculate Ground State - 1.09s, Get Pauli Ops - 5.24s, Calculate Pauli Expectation Values - 5.28s, Calculate Covariance - 2.39s\n",
      "f0,f1,f2 = [1.6987482419783523e-09, 1.6987482419932335e-09, 1.6987482419787142e-09]\n",
      "d01,d02,d12 = [0.9530788553960498, 0.9530788553950946, 0.9530788553951827]\n"
     ]
    },
    {
     "name": "stderr",
     "output_type": "stream",
     "text": [
      "/cluster/home/mskrabulis/miniconda3/envs/quantech/lib/python3.9/site-packages/pyscf/symm/Dmatrix.py:156: RuntimeWarning: invalid value encountered in arccos\n",
      "  gamma = numpy.arccos(yp.dot(c2[1]))\n",
      "Progress:  47%|████▋     | 233/500 [58:18<1:05:40, 14.76s/it]"
     ]
    },
    {
     "name": "stdout",
     "output_type": "stream",
     "text": [
      "Time to: Calculate Ground State - 1.44s, Get Pauli Ops - 5.53s, Calculate Pauli Expectation Values - 5.89s, Calculate Covariance - 2.42s\n",
      "f0,f1,f2 = [4.208311930284504e-10, 4.2083119305644375e-10, 4.208311930936948e-10]\n",
      "d01,d02,d12 = [0.9472952467600687, 0.9472952467591529, 0.9472952467590512]\n"
     ]
    },
    {
     "name": "stderr",
     "output_type": "stream",
     "text": [
      "Progress:  47%|████▋     | 234/500 [58:35<1:09:18, 15.63s/it]"
     ]
    },
    {
     "name": "stdout",
     "output_type": "stream",
     "text": [
      "Time to: Calculate Ground State - 1.49s, Get Pauli Ops - 8.06s, Calculate Pauli Expectation Values - 5.89s, Calculate Covariance - 2.22s\n",
      "f0,f1,f2 = [1.4371978371388977e-09, 1.4371978371376977e-09, 1.437197837146019e-09]\n",
      "d01,d02,d12 = [0.941815830698845, 0.9418158306979854, 0.9418158306976883]\n"
     ]
    },
    {
     "name": "stderr",
     "output_type": "stream",
     "text": [
      "Progress:  47%|████▋     | 235/500 [58:50<1:07:50, 15.36s/it]"
     ]
    },
    {
     "name": "stdout",
     "output_type": "stream",
     "text": [
      "Time to: Calculate Ground State - 1.37s, Get Pauli Ops - 5.2s, Calculate Pauli Expectation Values - 5.77s, Calculate Covariance - 2.38s\n",
      "f0,f1,f2 = [2.039800033594691e-09, 2.039800033568278e-09, 2.0398000336168194e-09]\n",
      "d01,d02,d12 = [0.9371657798439603, 0.9371657798431677, 0.9371657798426695]\n"
     ]
    },
    {
     "name": "stderr",
     "output_type": "stream",
     "text": [
      "/cluster/home/mskrabulis/miniconda3/envs/quantech/lib/python3.9/site-packages/pyscf/symm/Dmatrix.py:156: RuntimeWarning: invalid value encountered in arccos\n",
      "  gamma = numpy.arccos(yp.dot(c2[1]))\n",
      "Progress:  47%|████▋     | 236/500 [59:04<1:06:20, 15.08s/it]"
     ]
    },
    {
     "name": "stdout",
     "output_type": "stream",
     "text": [
      "Time to: Calculate Ground State - 1.43s, Get Pauli Ops - 5.57s, Calculate Pauli Expectation Values - 5.06s, Calculate Covariance - 2.34s\n",
      "f0,f1,f2 = [1.2475256491065399e-09, 1.2475256490953694e-09, 1.247525649141109e-09]\n",
      "d01,d02,d12 = [0.9330144833808467, 0.9330144833801505, 0.9330144833794516]\n"
     ]
    },
    {
     "name": "stderr",
     "output_type": "stream",
     "text": [
      "Progress:  47%|████▋     | 237/500 [59:23<1:10:10, 16.01s/it]"
     ]
    },
    {
     "name": "stdout",
     "output_type": "stream",
     "text": [
      "Time to: Calculate Ground State - 1.61s, Get Pauli Ops - 5.57s, Calculate Pauli Expectation Values - 8.52s, Calculate Covariance - 2.45s\n",
      "f0,f1,f2 = [3.5709285725314695e-09, 3.5709285725480143e-09, 3.570928572602097e-09]\n",
      "d01,d02,d12 = [0.9303048733618531, 0.9303048733612698, 0.9303048733603727]\n"
     ]
    },
    {
     "name": "stderr",
     "output_type": "stream",
     "text": [
      "Progress:  48%|████▊     | 238/500 [59:42<1:14:42, 17.11s/it]"
     ]
    },
    {
     "name": "stdout",
     "output_type": "stream",
     "text": [
      "Time to: Calculate Ground State - 1.4s, Get Pauli Ops - 8.03s, Calculate Pauli Expectation Values - 7.74s, Calculate Covariance - 2.5s\n",
      "f0,f1,f2 = [3.803753085054358e-09, 3.803753085104294e-09, 3.8037530850833416e-09]\n",
      "d01,d02,d12 = [0.9292105792422307, 0.9292105792417672, 0.9292105792406841]\n"
     ]
    },
    {
     "name": "stderr",
     "output_type": "stream",
     "text": [
      "Progress:  48%|████▊     | 239/500 [1:00:01<1:16:31, 17.59s/it]"
     ]
    },
    {
     "name": "stdout",
     "output_type": "stream",
     "text": [
      "Time to: Calculate Ground State - 1.4s, Get Pauli Ops - 8.83s, Calculate Pauli Expectation Values - 6.22s, Calculate Covariance - 2.27s\n",
      "f0,f1,f2 = [2.587131609291244e-09, 2.587131609324612e-09, 2.5871316092916624e-09]\n",
      "d01,d02,d12 = [0.9292224051236844, 0.9292224051233359, 0.9292224051220725]\n"
     ]
    },
    {
     "name": "stderr",
     "output_type": "stream",
     "text": [
      "Progress:  48%|████▊     | 240/500 [1:00:17<1:14:36, 17.22s/it]"
     ]
    },
    {
     "name": "stdout",
     "output_type": "stream",
     "text": [
      "Time to: Calculate Ground State - 1.53s, Get Pauli Ops - 6.93s, Calculate Pauli Expectation Values - 5.45s, Calculate Covariance - 2.41s\n",
      "f0,f1,f2 = [1.8110874974641633e-09, 1.8110874975147075e-09, 1.8110874974886243e-09]\n",
      "d01,d02,d12 = [0.9299865685840636, 0.9299865685838283, 0.9299865685824101]\n"
     ]
    },
    {
     "name": "stderr",
     "output_type": "stream",
     "text": [
      "/cluster/home/mskrabulis/miniconda3/envs/quantech/lib/python3.9/site-packages/pyscf/symm/Dmatrix.py:156: RuntimeWarning: invalid value encountered in arccos\n",
      "  gamma = numpy.arccos(yp.dot(c2[1]))\n",
      "Progress:  48%|████▊     | 241/500 [1:00:34<1:13:59, 17.14s/it]"
     ]
    },
    {
     "name": "stdout",
     "output_type": "stream",
     "text": [
      "Time to: Calculate Ground State - 1.58s, Get Pauli Ops - 5.5s, Calculate Pauli Expectation Values - 7.38s, Calculate Covariance - 2.49s\n",
      "f0,f1,f2 = [1.5694222688343172e-09, 1.5694222688637836e-09, 1.5694222688501368e-09]\n",
      "d01,d02,d12 = [0.9314474694396062, 0.9314474694394892, 0.9314474694379244]\n"
     ]
    },
    {
     "name": "stderr",
     "output_type": "stream",
     "text": [
      "Progress:  48%|████▊     | 242/500 [1:00:49<1:11:14, 16.57s/it]"
     ]
    },
    {
     "name": "stdout",
     "output_type": "stream",
     "text": [
      "Time to: Calculate Ground State - 1.47s, Get Pauli Ops - 5.63s, Calculate Pauli Expectation Values - 5.63s, Calculate Covariance - 2.48s\n",
      "f0,f1,f2 = [1.3181999368389196e-09, 1.3181999368964944e-09, 1.3181999369185322e-09]\n",
      "d01,d02,d12 = [0.9339193568146574, 0.9339193568146537, 0.933919356812968]\n"
     ]
    },
    {
     "name": "stderr",
     "output_type": "stream",
     "text": [
      "Progress:  49%|████▊     | 243/500 [1:01:10<1:16:13, 17.80s/it]"
     ]
    },
    {
     "name": "stdout",
     "output_type": "stream",
     "text": [
      "Time to: Calculate Ground State - 1.56s, Get Pauli Ops - 8.3s, Calculate Pauli Expectation Values - 8.32s, Calculate Covariance - 2.47s\n",
      "f0,f1,f2 = [3.790574660699665e-09, 3.790574660754011e-09, 3.790574660758673e-09]\n",
      "d01,d02,d12 = [0.9376428195078506, 0.9376428195079586, 0.93764281950618]\n"
     ]
    },
    {
     "name": "stderr",
     "output_type": "stream",
     "text": [
      "/cluster/home/mskrabulis/miniconda3/envs/quantech/lib/python3.9/site-packages/pyscf/symm/Dmatrix.py:156: RuntimeWarning: invalid value encountered in arccos\n",
      "  gamma = numpy.arccos(yp.dot(c2[1]))\n",
      "Progress:  49%|████▉     | 244/500 [1:01:32<1:21:02, 18.99s/it]"
     ]
    },
    {
     "name": "stdout",
     "output_type": "stream",
     "text": [
      "Time to: Calculate Ground State - 1.56s, Get Pauli Ops - 9.76s, Calculate Pauli Expectation Values - 7.97s, Calculate Covariance - 2.5s\n",
      "f0,f1,f2 = [4.096923953177207e-09, 4.096923953200057e-09, 4.09692395318541e-09]\n",
      "d01,d02,d12 = [0.942393601009894, 0.9423936010101123, 0.9423936010082374]\n"
     ]
    },
    {
     "name": "stderr",
     "output_type": "stream",
     "text": [
      "Progress:  49%|████▉     | 245/500 [1:01:50<1:19:37, 18.74s/it]"
     ]
    },
    {
     "name": "stdout",
     "output_type": "stream",
     "text": [
      "Time to: Calculate Ground State - 1.48s, Get Pauli Ops - 8.69s, Calculate Pauli Expectation Values - 5.58s, Calculate Covariance - 2.36s\n",
      "f0,f1,f2 = [1.322158273833786e-09, 1.3221582738981284e-09, 1.3221582738874642e-09]\n",
      "d01,d02,d12 = [0.946840829457503, 0.9468408294578295, 0.9468408294558712]\n"
     ]
    },
    {
     "name": "stderr",
     "output_type": "stream",
     "text": [
      "Progress:  49%|████▉     | 246/500 [1:02:05<1:14:30, 17.60s/it]"
     ]
    },
    {
     "name": "stdout",
     "output_type": "stream",
     "text": [
      "Time to: Calculate Ground State - 1.45s, Get Pauli Ops - 5.45s, Calculate Pauli Expectation Values - 5.59s, Calculate Covariance - 2.45s\n",
      "f0,f1,f2 = [1.3833734307414344e-09, 1.3833734307743142e-09, 1.3833734308063474e-09]\n",
      "d01,d02,d12 = [0.951850965830972, 0.9518509658314107, 0.9518509658293819]\n"
     ]
    },
    {
     "name": "stderr",
     "output_type": "stream",
     "text": [
      "Progress:  49%|████▉     | 247/500 [1:02:21<1:12:08, 17.11s/it]"
     ]
    },
    {
     "name": "stdout",
     "output_type": "stream",
     "text": [
      "Time to: Calculate Ground State - 1.56s, Get Pauli Ops - 5.56s, Calculate Pauli Expectation Values - 6.35s, Calculate Covariance - 2.47s\n",
      "f0,f1,f2 = [2.1563267136768457e-09, 2.1563267137007434e-09, 2.1563267136715174e-09]\n",
      "d01,d02,d12 = [0.9575829412214176, 0.9575829412219611, 0.9575829412198688]\n"
     ]
    },
    {
     "name": "stderr",
     "output_type": "stream",
     "text": [
      "/cluster/home/mskrabulis/miniconda3/envs/quantech/lib/python3.9/site-packages/pyscf/symm/Dmatrix.py:156: RuntimeWarning: invalid value encountered in arccos\n",
      "  gamma = numpy.arccos(yp.dot(c2[1]))\n",
      "Progress:  50%|████▉     | 248/500 [1:02:40<1:14:04, 17.64s/it]"
     ]
    },
    {
     "name": "stdout",
     "output_type": "stream",
     "text": [
      "Time to: Calculate Ground State - 1.4s, Get Pauli Ops - 8.65s, Calculate Pauli Expectation Values - 6.36s, Calculate Covariance - 2.45s\n",
      "f0,f1,f2 = [1.197327729337374e-09, 1.1973277293898433e-09, 1.1973277294204676e-09]\n",
      "d01,d02,d12 = [0.963077987558824, 0.963077987559472, 0.9630779875573439]\n"
     ]
    },
    {
     "name": "stderr",
     "output_type": "stream",
     "text": [
      "Progress:  50%|████▉     | 249/500 [1:02:55<1:10:36, 16.88s/it]"
     ]
    },
    {
     "name": "stdout",
     "output_type": "stream",
     "text": [
      "Time to: Calculate Ground State - 1.4s, Get Pauli Ops - 5.49s, Calculate Pauli Expectation Values - 5.77s, Calculate Covariance - 2.45s\n",
      "f0,f1,f2 = [8.35600747885778e-10, 8.356007479749644e-10, 8.356007479553868e-10]\n",
      "d01,d02,d12 = [0.9681998024465337, 0.9681998024472742, 0.9681998024451628]\n"
     ]
    },
    {
     "name": "stderr",
     "output_type": "stream",
     "text": [
      "Progress:  50%|█████     | 250/500 [1:03:09<1:07:06, 16.11s/it]"
     ]
    },
    {
     "name": "stdout",
     "output_type": "stream",
     "text": [
      "Time to: Calculate Ground State - 1.43s, Get Pauli Ops - 5.34s, Calculate Pauli Expectation Values - 5.2s, Calculate Covariance - 2.32s\n",
      "f0,f1,f2 = [9.103639675444325e-10, 9.103639675601167e-10, 9.103639676030389e-10]\n",
      "d01,d02,d12 = [0.9739708385243899, 0.9739708385252364, 0.9739708385231366]\n"
     ]
    },
    {
     "name": "stderr",
     "output_type": "stream",
     "text": [
      "Progress:  50%|█████     | 251/500 [1:03:26<1:07:00, 16.15s/it]"
     ]
    },
    {
     "name": "stdout",
     "output_type": "stream",
     "text": [
      "Time to: Calculate Ground State - 1.36s, Get Pauli Ops - 5.61s, Calculate Pauli Expectation Values - 6.87s, Calculate Covariance - 2.4s\n",
      "f0,f1,f2 = [6.425567188101861e-10, 6.425567187451397e-10, 6.425567187789004e-10]\n",
      "d01,d02,d12 = [0.9789774304754051, 0.9789774304763448, 0.9789774304742778]\n"
     ]
    },
    {
     "name": "stderr",
     "output_type": "stream",
     "text": [
      "Progress:  50%|█████     | 252/500 [1:03:43<1:08:03, 16.47s/it]"
     ]
    },
    {
     "name": "stdout",
     "output_type": "stream",
     "text": [
      "Time to: Calculate Ground State - 1.4s, Get Pauli Ops - 5.51s, Calculate Pauli Expectation Values - 7.86s, Calculate Covariance - 2.43s\n",
      "f0,f1,f2 = [4.876419971554508e-10, 4.87641997242051e-10, 4.876419971932548e-10]\n",
      "d01,d02,d12 = [0.9840025003241832, 0.9840025003252023, 0.9840025003231867]\n"
     ]
    },
    {
     "name": "stderr",
     "output_type": "stream",
     "text": [
      "Progress:  51%|█████     | 253/500 [1:03:58<1:05:55, 16.01s/it]"
     ]
    },
    {
     "name": "stdout",
     "output_type": "stream",
     "text": [
      "Time to: Calculate Ground State - 1.38s, Get Pauli Ops - 5.47s, Calculate Pauli Expectation Values - 5.75s, Calculate Covariance - 2.34s\n",
      "f0,f1,f2 = [2.133358485200305e-09, 2.1333584852315646e-09, 2.133358485182418e-09]\n",
      "d01,d02,d12 = [0.9906574631965579, 0.9906574631976482, 0.9906574631956894]\n"
     ]
    },
    {
     "name": "stderr",
     "output_type": "stream",
     "text": [
      "/cluster/home/mskrabulis/miniconda3/envs/quantech/lib/python3.9/site-packages/pyscf/symm/Dmatrix.py:156: RuntimeWarning: invalid value encountered in arccos\n",
      "  gamma = numpy.arccos(yp.dot(c2[1]))\n",
      "Progress:  51%|█████     | 254/500 [1:04:15<1:07:43, 16.52s/it]"
     ]
    },
    {
     "name": "stdout",
     "output_type": "stream",
     "text": [
      "Time to: Calculate Ground State - 1.4s, Get Pauli Ops - 9.1s, Calculate Pauli Expectation Values - 5.07s, Calculate Covariance - 2.11s\n",
      "f0,f1,f2 = [1.182402084233774e-10, 1.1824020839769628e-10, 1.1824020843034267e-10]\n",
      "d01,d02,d12 = [0.997071292662667, 0.997071292663815, 0.9970712926619241]\n"
     ]
    },
    {
     "name": "stderr",
     "output_type": "stream",
     "text": [
      "Progress:  51%|█████     | 255/500 [1:04:30<1:05:25, 16.02s/it]"
     ]
    },
    {
     "name": "stdout",
     "output_type": "stream",
     "text": [
      "Time to: Calculate Ground State - 1.41s, Get Pauli Ops - 5.4s, Calculate Pauli Expectation Values - 5.77s, Calculate Covariance - 2.29s\n",
      "f0,f1,f2 = [3.251987667253685e-10, 3.251987667258261e-10, 3.2519876677573535e-10]\n",
      "d01,d02,d12 = [1.0033299793250696, 1.003329979326248, 1.003329979324447]\n"
     ]
    },
    {
     "name": "stderr",
     "output_type": "stream",
     "text": [
      "Progress:  51%|█████     | 256/500 [1:04:47<1:06:38, 16.39s/it]"
     ]
    },
    {
     "name": "stdout",
     "output_type": "stream",
     "text": [
      "Time to: Calculate Ground State - 1.54s, Get Pauli Ops - 5.57s, Calculate Pauli Expectation Values - 7.87s, Calculate Covariance - 2.25s\n",
      "f0,f1,f2 = [3.070344481233139e-10, 3.070344480721943e-10, 3.070344481079467e-10]\n",
      "d01,d02,d12 = [1.0085113728273325, 1.0085113728285386, 1.0085113728268313]\n"
     ]
    },
    {
     "name": "stderr",
     "output_type": "stream",
     "text": [
      "Progress:  51%|█████▏    | 257/500 [1:05:03<1:04:59, 16.05s/it]"
     ]
    },
    {
     "name": "stdout",
     "output_type": "stream",
     "text": [
      "Time to: Calculate Ground State - 1.46s, Get Pauli Ops - 5.56s, Calculate Pauli Expectation Values - 5.73s, Calculate Covariance - 2.49s\n",
      "f0,f1,f2 = [3.865950348745545e-10, 3.8659503490579695e-10, 3.8659503491004974e-10]\n",
      "d01,d02,d12 = [1.0139077087624258, 1.0139077087636539, 1.0139077087620603]\n"
     ]
    },
    {
     "name": "stderr",
     "output_type": "stream",
     "text": [
      "Progress:  52%|█████▏    | 258/500 [1:05:19<1:04:32, 16.00s/it]"
     ]
    },
    {
     "name": "stdout",
     "output_type": "stream",
     "text": [
      "Time to: Calculate Ground State - 1.36s, Get Pauli Ops - 5.52s, Calculate Pauli Expectation Values - 6.52s, Calculate Covariance - 2.48s\n",
      "f0,f1,f2 = [1.1583529277745802e-09, 1.1583529277295626e-09, 1.1583529277776944e-09]\n",
      "d01,d02,d12 = [1.0182780739729447, 1.0182780739741768, 1.0182780739727115]\n"
     ]
    },
    {
     "name": "stderr",
     "output_type": "stream",
     "text": [
      "/cluster/home/mskrabulis/miniconda3/envs/quantech/lib/python3.9/site-packages/pyscf/symm/Dmatrix.py:156: RuntimeWarning: invalid value encountered in arccos\n",
      "  gamma = numpy.arccos(yp.dot(c2[1]))\n",
      "/cluster/home/mskrabulis/miniconda3/envs/quantech/lib/python3.9/site-packages/pyscf/symm/Dmatrix.py:156: RuntimeWarning: invalid value encountered in arccos\n",
      "  gamma = numpy.arccos(yp.dot(c2[1]))\n",
      "Progress:  52%|█████▏    | 259/500 [1:05:35<1:04:32, 16.07s/it]"
     ]
    },
    {
     "name": "stdout",
     "output_type": "stream",
     "text": [
      "Time to: Calculate Ground State - 1.45s, Get Pauli Ops - 5.47s, Calculate Pauli Expectation Values - 6.89s, Calculate Covariance - 2.39s\n",
      "f0,f1,f2 = [2.196421667086061e-12, 2.1964216907892443e-12, 2.1964216553333817e-12]\n",
      "d01,d02,d12 = [1.022516149925535, 1.0225161499267508, 1.0225161499254343]\n"
     ]
    },
    {
     "name": "stderr",
     "output_type": "stream",
     "text": [
      "/cluster/home/mskrabulis/miniconda3/envs/quantech/lib/python3.9/site-packages/pyscf/symm/Dmatrix.py:156: RuntimeWarning: invalid value encountered in arccos\n",
      "  gamma = numpy.arccos(yp.dot(c2[1]))\n",
      "Progress:  52%|█████▏    | 260/500 [1:05:51<1:04:29, 16.12s/it]"
     ]
    },
    {
     "name": "stdout",
     "output_type": "stream",
     "text": [
      "Time to: Calculate Ground State - 1.45s, Get Pauli Ops - 5.46s, Calculate Pauli Expectation Values - 6.87s, Calculate Covariance - 2.46s\n",
      "f0,f1,f2 = [9.092947328476479e-10, 9.092947328088322e-10, 9.092947328494681e-10]\n",
      "d01,d02,d12 = [1.0257747426410262, 1.0257747426422201, 1.025774742641054]\n"
     ]
    },
    {
     "name": "stderr",
     "output_type": "stream",
     "text": [
      "Progress:  52%|█████▏    | 261/500 [1:06:11<1:08:23, 17.17s/it]"
     ]
    },
    {
     "name": "stdout",
     "output_type": "stream",
     "text": [
      "Time to: Calculate Ground State - 1.54s, Get Pauli Ops - 5.54s, Calculate Pauli Expectation Values - 10.04s, Calculate Covariance - 2.47s\n",
      "f0,f1,f2 = [7.45257875271549e-10, 7.452578752653934e-10, 7.452578752609749e-10]\n",
      "d01,d02,d12 = [1.0290319795261562, 1.02903197952732, 1.0290319795263052]\n"
     ]
    },
    {
     "name": "stderr",
     "output_type": "stream",
     "text": [
      "Progress:  52%|█████▏    | 262/500 [1:06:28<1:08:03, 17.16s/it]"
     ]
    },
    {
     "name": "stdout",
     "output_type": "stream",
     "text": [
      "Time to: Calculate Ground State - 1.46s, Get Pauli Ops - 5.53s, Calculate Pauli Expectation Values - 7.7s, Calculate Covariance - 2.42s\n",
      "f0,f1,f2 = [1.2762474224787587e-09, 1.2762474224295478e-09, 1.2762474224804951e-09]\n",
      "d01,d02,d12 = [1.0316111372697767, 1.0316111372708956, 1.0316111372700456]\n"
     ]
    },
    {
     "name": "stderr",
     "output_type": "stream",
     "text": [
      "/cluster/home/mskrabulis/miniconda3/envs/quantech/lib/python3.9/site-packages/pyscf/symm/Dmatrix.py:156: RuntimeWarning: invalid value encountered in arccos\n",
      "  gamma = numpy.arccos(yp.dot(c2[1]))\n",
      "Progress:  53%|█████▎    | 263/500 [1:06:43<1:05:21, 16.55s/it]"
     ]
    },
    {
     "name": "stdout",
     "output_type": "stream",
     "text": [
      "Time to: Calculate Ground State - 1.43s, Get Pauli Ops - 5.47s, Calculate Pauli Expectation Values - 5.87s, Calculate Covariance - 2.35s\n",
      "f0,f1,f2 = [7.940989277620175e-10, 7.940989278255784e-10, 7.940989277949165e-10]\n",
      "d01,d02,d12 = [1.034235599826923, 1.0342355998279966, 1.0342355998273194]\n"
     ]
    },
    {
     "name": "stderr",
     "output_type": "stream",
     "text": [
      "Progress:  53%|█████▎    | 264/500 [1:06:58<1:03:48, 16.22s/it]"
     ]
    },
    {
     "name": "stdout",
     "output_type": "stream",
     "text": [
      "Time to: Calculate Ground State - 1.42s, Get Pauli Ops - 5.4s, Calculate Pauli Expectation Values - 6.16s, Calculate Covariance - 2.47s\n",
      "f0,f1,f2 = [2.809311477436214e-09, 2.809311477390917e-09, 2.8093114774811263e-09]\n",
      "d01,d02,d12 = [1.0357596804380704, 1.035759680439083, 1.0357596804385856]\n"
     ]
    },
    {
     "name": "stderr",
     "output_type": "stream",
     "text": [
      "/cluster/home/mskrabulis/miniconda3/envs/quantech/lib/python3.9/site-packages/pyscf/symm/Dmatrix.py:156: RuntimeWarning: invalid value encountered in arccos\n",
      "  gamma = numpy.arccos(yp.dot(c2[1]))\n",
      "Progress:  53%|█████▎    | 265/500 [1:07:17<1:06:32, 16.99s/it]"
     ]
    },
    {
     "name": "stdout",
     "output_type": "stream",
     "text": [
      "Time to: Calculate Ground State - 1.42s, Get Pauli Ops - 8.43s, Calculate Pauli Expectation Values - 6.6s, Calculate Covariance - 2.32s\n",
      "f0,f1,f2 = [2.732557710825286e-09, 2.732557710813889e-09, 2.732557710849974e-09]\n",
      "d01,d02,d12 = [1.036149913038457, 1.0361499130394012, 1.0361499130390812]\n"
     ]
    },
    {
     "name": "stderr",
     "output_type": "stream",
     "text": [
      "/cluster/home/mskrabulis/miniconda3/envs/quantech/lib/python3.9/site-packages/pyscf/symm/Dmatrix.py:156: RuntimeWarning: invalid value encountered in arccos\n",
      "  gamma = numpy.arccos(yp.dot(c2[1]))\n",
      "Progress:  53%|█████▎    | 266/500 [1:07:36<1:08:09, 17.47s/it]"
     ]
    },
    {
     "name": "stdout",
     "output_type": "stream",
     "text": [
      "Time to: Calculate Ground State - 1.46s, Get Pauli Ops - 9.14s, Calculate Pauli Expectation Values - 5.58s, Calculate Covariance - 2.41s\n",
      "f0,f1,f2 = [1.3727842629191827e-09, 1.3727842629763216e-09, 1.3727842629207036e-09]\n",
      "d01,d02,d12 = [1.0359289256292425, 1.0359289256301225, 1.0359289256299729]\n"
     ]
    },
    {
     "name": "stderr",
     "output_type": "stream",
     "text": [
      "/cluster/home/mskrabulis/miniconda3/envs/quantech/lib/python3.9/site-packages/pyscf/symm/Dmatrix.py:156: RuntimeWarning: invalid value encountered in arccos\n",
      "  gamma = numpy.arccos(yp.dot(c2[1]))\n",
      "Progress:  53%|█████▎    | 267/500 [1:07:51<1:05:20, 16.83s/it]"
     ]
    },
    {
     "name": "stdout",
     "output_type": "stream",
     "text": [
      "Time to: Calculate Ground State - 1.52s, Get Pauli Ops - 5.92s, Calculate Pauli Expectation Values - 5.47s, Calculate Covariance - 2.4s\n",
      "f0,f1,f2 = [1.6829256503217294e-09, 1.6829256503253373e-09, 1.6829256503032615e-09]\n",
      "d01,d02,d12 = [1.034999120567535, 1.0349991205683429, 1.0349991205683673]\n"
     ]
    },
    {
     "name": "stderr",
     "output_type": "stream",
     "text": [
      "Progress:  54%|█████▎    | 268/500 [1:08:11<1:08:53, 17.81s/it]"
     ]
    },
    {
     "name": "stdout",
     "output_type": "stream",
     "text": [
      "Time to: Calculate Ground State - 1.45s, Get Pauli Ops - 11.12s, Calculate Pauli Expectation Values - 5.03s, Calculate Covariance - 2.5s\n",
      "f0,f1,f2 = [1.7806447222638533e-11, 1.780644723263622e-11, 1.780644717589578e-11]\n",
      "d01,d02,d12 = [1.0341440295831719, 1.0341440295839135, 1.0341440295841065]\n"
     ]
    },
    {
     "name": "stderr",
     "output_type": "stream",
     "text": [
      "Progress:  54%|█████▍    | 269/500 [1:08:33<1:13:11, 19.01s/it]"
     ]
    },
    {
     "name": "stdout",
     "output_type": "stream",
     "text": [
      "Time to: Calculate Ground State - 1.35s, Get Pauli Ops - 10.58s, Calculate Pauli Expectation Values - 7.34s, Calculate Covariance - 2.52s\n",
      "f0,f1,f2 = [2.350979081909816e-09, 2.3509790818583615e-09, 2.350979081862406e-09]\n",
      "d01,d02,d12 = [1.0324266164565532, 1.0324266164572313, 1.032426616457596]\n"
     ]
    },
    {
     "name": "stderr",
     "output_type": "stream",
     "text": [
      "Progress:  54%|█████▍    | 270/500 [1:08:50<1:10:26, 18.38s/it]"
     ]
    },
    {
     "name": "stdout",
     "output_type": "stream",
     "text": [
      "Time to: Calculate Ground State - 1.45s, Get Pauli Ops - 7.71s, Calculate Pauli Expectation Values - 5.25s, Calculate Covariance - 2.48s\n",
      "f0,f1,f2 = [9.75147502710285e-10, 9.751475027298971e-10, 9.751475027450296e-10]\n",
      "d01,d02,d12 = [1.030077549132943, 1.0300775491335494, 1.0300775491340735]\n"
     ]
    },
    {
     "name": "stderr",
     "output_type": "stream",
     "text": [
      "Progress:  54%|█████▍    | 271/500 [1:09:08<1:09:28, 18.20s/it]"
     ]
    },
    {
     "name": "stdout",
     "output_type": "stream",
     "text": [
      "Time to: Calculate Ground State - 1.48s, Get Pauli Ops - 7.08s, Calculate Pauli Expectation Values - 6.78s, Calculate Covariance - 2.45s\n",
      "f0,f1,f2 = [2.230976825427929e-09, 2.2309768254564138e-09, 2.2309768254639804e-09]\n",
      "d01,d02,d12 = [1.027240404993337, 1.0272404049938642, 1.0272404049945385]\n"
     ]
    },
    {
     "name": "stderr",
     "output_type": "stream",
     "text": [
      "Progress:  54%|█████▍    | 272/500 [1:09:23<1:05:24, 17.21s/it]"
     ]
    },
    {
     "name": "stdout",
     "output_type": "stream",
     "text": [
      "Time to: Calculate Ground State - 1.4s, Get Pauli Ops - 5.5s, Calculate Pauli Expectation Values - 5.54s, Calculate Covariance - 2.46s\n",
      "f0,f1,f2 = [2.490583335653219e-09, 2.490583335612329e-09, 2.4905833356650143e-09]\n",
      "d01,d02,d12 = [1.023402039165435, 1.023402039165859, 1.0234020391666914]\n"
     ]
    },
    {
     "name": "stderr",
     "output_type": "stream",
     "text": [
      "/cluster/home/mskrabulis/miniconda3/envs/quantech/lib/python3.9/site-packages/pyscf/symm/Dmatrix.py:156: RuntimeWarning: invalid value encountered in arccos\n",
      "  gamma = numpy.arccos(yp.dot(c2[1]))\n",
      "Progress:  55%|█████▍    | 273/500 [1:09:40<1:05:07, 17.21s/it]"
     ]
    },
    {
     "name": "stdout",
     "output_type": "stream",
     "text": [
      "Time to: Calculate Ground State - 1.6s, Get Pauli Ops - 5.57s, Calculate Pauli Expectation Values - 7.62s, Calculate Covariance - 2.41s\n",
      "f0,f1,f2 = [1.946398850179038e-09, 1.946398850242506e-09, 1.9463988502175843e-09]\n",
      "d01,d02,d12 = [1.0181442153637477, 1.0181442153640643, 1.0181442153650309]\n"
     ]
    },
    {
     "name": "stderr",
     "output_type": "stream",
     "text": [
      "Progress:  55%|█████▍    | 274/500 [1:09:59<1:07:02, 17.80s/it]"
     ]
    },
    {
     "name": "stdout",
     "output_type": "stream",
     "text": [
      "Time to: Calculate Ground State - 1.48s, Get Pauli Ops - 10.26s, Calculate Pauli Expectation Values - 4.98s, Calculate Covariance - 2.42s\n",
      "f0,f1,f2 = [9.272291184637595e-10, 9.272291184843281e-10, 9.272291184842916e-10]\n",
      "d01,d02,d12 = [1.0124831692360352, 1.0124831692362437, 1.012483169237335]\n"
     ]
    },
    {
     "name": "stderr",
     "output_type": "stream",
     "text": [
      "Progress:  55%|█████▌    | 275/500 [1:10:17<1:06:39, 17.78s/it]"
     ]
    },
    {
     "name": "stdout",
     "output_type": "stream",
     "text": [
      "Time to: Calculate Ground State - 1.39s, Get Pauli Ops - 8.73s, Calculate Pauli Expectation Values - 5.14s, Calculate Covariance - 2.45s\n",
      "f0,f1,f2 = [1.1315019378092908e-09, 1.1315019378382797e-09, 1.1315019378512977e-09]\n",
      "d01,d02,d12 = [1.0062746698615799, 1.0062746698616776, 1.0062746698628815]\n"
     ]
    },
    {
     "name": "stderr",
     "output_type": "stream",
     "text": [
      "Progress:  55%|█████▌    | 276/500 [1:10:34<1:05:37, 17.58s/it]"
     ]
    },
    {
     "name": "stdout",
     "output_type": "stream",
     "text": [
      "Time to: Calculate Ground State - 1.5s, Get Pauli Ops - 5.6s, Calculate Pauli Expectation Values - 7.54s, Calculate Covariance - 2.47s\n",
      "f0,f1,f2 = [1.7319849409919324e-09, 1.7319849410223948e-09, 1.7319849410653591e-09]\n",
      "d01,d02,d12 = [0.9991664757804314, 0.9991664757804043, 0.9991664757817053]\n"
     ]
    },
    {
     "name": "stderr",
     "output_type": "stream",
     "text": [
      "/cluster/home/mskrabulis/miniconda3/envs/quantech/lib/python3.9/site-packages/pyscf/symm/Dmatrix.py:156: RuntimeWarning: invalid value encountered in arccos\n",
      "  gamma = numpy.arccos(yp.dot(c2[1]))\n",
      "Progress:  55%|█████▌    | 277/500 [1:10:53<1:06:34, 17.91s/it]"
     ]
    },
    {
     "name": "stdout",
     "output_type": "stream",
     "text": [
      "Time to: Calculate Ground State - 1.47s, Get Pauli Ops - 8.26s, Calculate Pauli Expectation Values - 6.53s, Calculate Covariance - 2.43s\n",
      "f0,f1,f2 = [4.795854158449607e-10, 4.795854158780031e-10, 4.795854158604335e-10]\n",
      "d01,d02,d12 = [0.9912318884638407, 0.9912318884636943, 0.991231888465087]\n"
     ]
    },
    {
     "name": "stderr",
     "output_type": "stream",
     "text": [
      "Progress:  56%|█████▌    | 278/500 [1:11:11<1:06:57, 18.09s/it]"
     ]
    },
    {
     "name": "stdout",
     "output_type": "stream",
     "text": [
      "Time to: Calculate Ground State - 1.5s, Get Pauli Ops - 8.09s, Calculate Pauli Expectation Values - 6.42s, Calculate Covariance - 2.49s\n",
      "f0,f1,f2 = [1.9505661191635796e-10, 1.9505661188104864e-10, 1.9505661187032375e-10]\n",
      "d01,d02,d12 = [0.9839761581314672, 0.9839761581311963, 0.9839761581326566]\n"
     ]
    },
    {
     "name": "stderr",
     "output_type": "stream",
     "text": [
      "Progress:  56%|█████▌    | 279/500 [1:11:29<1:06:08, 17.96s/it]"
     ]
    },
    {
     "name": "stdout",
     "output_type": "stream",
     "text": [
      "Time to: Calculate Ground State - 1.44s, Get Pauli Ops - 5.54s, Calculate Pauli Expectation Values - 8.14s, Calculate Covariance - 2.5s\n",
      "f0,f1,f2 = [1.7540390567595671e-09, 1.754039056739113e-09, 1.7540390567231834e-09]\n",
      "d01,d02,d12 = [0.9782658879575755, 0.9782658879571773, 0.9782658879587082]\n"
     ]
    },
    {
     "name": "stderr",
     "output_type": "stream",
     "text": [
      "Progress:  56%|█████▌    | 280/500 [1:11:48<1:06:49, 18.23s/it]"
     ]
    },
    {
     "name": "stdout",
     "output_type": "stream",
     "text": [
      "Time to: Calculate Ground State - 1.43s, Get Pauli Ops - 9.55s, Calculate Pauli Expectation Values - 5.41s, Calculate Covariance - 2.45s\n",
      "f0,f1,f2 = [8.351807607657423e-12, 8.351807540135763e-12, 8.351807573615031e-12]\n",
      "d01,d02,d12 = [0.9735531088496097, 0.9735531088490968, 0.9735531088506906]\n"
     ]
    },
    {
     "name": "stderr",
     "output_type": "stream",
     "text": [
      "/cluster/home/mskrabulis/miniconda3/envs/quantech/lib/python3.9/site-packages/pyscf/symm/Dmatrix.py:156: RuntimeWarning: invalid value encountered in arccos\n",
      "  gamma = numpy.arccos(yp.dot(c2[1]))\n",
      "Progress:  56%|█████▌    | 281/500 [1:12:07<1:07:38, 18.53s/it]"
     ]
    },
    {
     "name": "stdout",
     "output_type": "stream",
     "text": [
      "Time to: Calculate Ground State - 1.51s, Get Pauli Ops - 9.77s, Calculate Pauli Expectation Values - 5.49s, Calculate Covariance - 2.46s\n",
      "f0,f1,f2 = [1.7603522270084492e-09, 1.7603522269702916e-09, 1.7603522269324245e-09]\n",
      "d01,d02,d12 = [0.9695907519678182, 0.9695907519671826, 0.9695907519688143]\n"
     ]
    },
    {
     "name": "stderr",
     "output_type": "stream",
     "text": [
      "Progress:  56%|█████▋    | 282/500 [1:12:27<1:08:35, 18.88s/it]"
     ]
    },
    {
     "name": "stdout",
     "output_type": "stream",
     "text": [
      "Time to: Calculate Ground State - 1.48s, Get Pauli Ops - 9.62s, Calculate Pauli Expectation Values - 6.28s, Calculate Covariance - 2.29s\n",
      "f0,f1,f2 = [8.564913181259026e-10, 8.564913180754779e-10, 8.564913181154862e-10]\n",
      "d01,d02,d12 = [0.9660077705875378, 0.9660077705867961, 0.9660077705884321]\n"
     ]
    },
    {
     "name": "stderr",
     "output_type": "stream",
     "text": [
      "Progress:  57%|█████▋    | 283/500 [1:12:42<1:05:04, 17.99s/it]"
     ]
    },
    {
     "name": "stdout",
     "output_type": "stream",
     "text": [
      "Time to: Calculate Ground State - 1.6s, Get Pauli Ops - 6.23s, Calculate Pauli Expectation Values - 5.65s, Calculate Covariance - 2.45s\n",
      "f0,f1,f2 = [1.2494090471682088e-09, 1.2494090471950997e-09, 1.2494090472016582e-09]\n",
      "d01,d02,d12 = [0.9621410288925791, 0.9621410288917385, 0.9621410288933779]\n"
     ]
    },
    {
     "name": "stderr",
     "output_type": "stream",
     "text": [
      "/cluster/home/mskrabulis/miniconda3/envs/quantech/lib/python3.9/site-packages/pyscf/symm/Dmatrix.py:156: RuntimeWarning: invalid value encountered in arccos\n",
      "  gamma = numpy.arccos(yp.dot(c2[1]))\n",
      "Progress:  57%|█████▋    | 284/500 [1:12:57<1:01:12, 17.00s/it]"
     ]
    },
    {
     "name": "stdout",
     "output_type": "stream",
     "text": [
      "Time to: Calculate Ground State - 1.65s, Get Pauli Ops - 5.69s, Calculate Pauli Expectation Values - 5.13s, Calculate Covariance - 2.22s\n",
      "f0,f1,f2 = [1.665632870680705e-09, 1.6656328706411007e-09, 1.6656328706303014e-09]\n",
      "d01,d02,d12 = [0.9589454840782619, 0.9589454840773306, 0.9589454840789595]\n"
     ]
    },
    {
     "name": "stderr",
     "output_type": "stream",
     "text": [
      "/cluster/home/mskrabulis/miniconda3/envs/quantech/lib/python3.9/site-packages/pyscf/symm/Dmatrix.py:156: RuntimeWarning: invalid value encountered in arccos\n",
      "  gamma = numpy.arccos(yp.dot(c2[1]))\n",
      "Progress:  57%|█████▋    | 285/500 [1:13:16<1:03:16, 17.66s/it]"
     ]
    },
    {
     "name": "stdout",
     "output_type": "stream",
     "text": [
      "Time to: Calculate Ground State - 1.53s, Get Pauli Ops - 9.56s, Calculate Pauli Expectation Values - 5.65s, Calculate Covariance - 2.44s\n",
      "f0,f1,f2 = [2.0541405260729013e-10, 2.0541405262329386e-10, 2.0541405267652644e-10]\n",
      "d01,d02,d12 = [0.9556789617129673, 0.9556789617119607, 0.9556789617135931]\n"
     ]
    },
    {
     "name": "stderr",
     "output_type": "stream",
     "text": [
      "Progress:  57%|█████▋    | 286/500 [1:13:31<1:00:02, 16.84s/it]"
     ]
    },
    {
     "name": "stdout",
     "output_type": "stream",
     "text": [
      "Time to: Calculate Ground State - 1.52s, Get Pauli Ops - 5.6s, Calculate Pauli Expectation Values - 5.39s, Calculate Covariance - 2.4s\n",
      "f0,f1,f2 = [1.210175091420262e-09, 1.2101750913539587e-09, 1.2101750914119898e-09]\n",
      "d01,d02,d12 = [0.9533016652600959, 0.953301665259024, 0.9533016652606369]\n"
     ]
    },
    {
     "name": "stderr",
     "output_type": "stream",
     "text": [
      "/cluster/home/mskrabulis/miniconda3/envs/quantech/lib/python3.9/site-packages/pyscf/symm/Dmatrix.py:156: RuntimeWarning: invalid value encountered in arccos\n",
      "  gamma = numpy.arccos(yp.dot(c2[1]))\n",
      "Progress:  57%|█████▋    | 287/500 [1:13:46<57:05, 16.08s/it]  "
     ]
    },
    {
     "name": "stdout",
     "output_type": "stream",
     "text": [
      "Time to: Calculate Ground State - 1.44s, Get Pauli Ops - 5.42s, Calculate Pauli Expectation Values - 5.02s, Calculate Covariance - 2.43s\n",
      "f0,f1,f2 = [1.359545734769596e-09, 1.3595457347293472e-09, 1.3595457347714128e-09]\n",
      "d01,d02,d12 = [0.9513110968043264, 0.9513110968032165, 0.9513110968047973]\n"
     ]
    },
    {
     "name": "stderr",
     "output_type": "stream",
     "text": [
      "Progress:  58%|█████▊    | 288/500 [1:14:01<55:39, 15.75s/it]"
     ]
    },
    {
     "name": "stdout",
     "output_type": "stream",
     "text": [
      "Time to: Calculate Ground State - 1.45s, Get Pauli Ops - 5.5s, Calculate Pauli Expectation Values - 5.59s, Calculate Covariance - 2.44s\n",
      "f0,f1,f2 = [1.8430616457368718e-09, 1.8430616456810803e-09, 1.843061645737582e-09]\n",
      "d01,d02,d12 = [0.950032194372906, 0.9500321943717733, 0.9500321943733039]\n"
     ]
    },
    {
     "name": "stderr",
     "output_type": "stream",
     "text": [
      "Progress:  58%|█████▊    | 289/500 [1:14:16<55:14, 15.71s/it]"
     ]
    },
    {
     "name": "stdout",
     "output_type": "stream",
     "text": [
      "Time to: Calculate Ground State - 1.37s, Get Pauli Ops - 5.53s, Calculate Pauli Expectation Values - 6.25s, Calculate Covariance - 2.44s\n",
      "f0,f1,f2 = [8.743542945153797e-10, 8.743542944640717e-10, 8.743542945311773e-10]\n",
      "d01,d02,d12 = [0.9491518058041191, 0.9491518058029813, 0.949151805804447]\n"
     ]
    },
    {
     "name": "stderr",
     "output_type": "stream",
     "text": [
      "Progress:  58%|█████▊    | 290/500 [1:14:32<55:10, 15.77s/it]"
     ]
    },
    {
     "name": "stdout",
     "output_type": "stream",
     "text": [
      "Time to: Calculate Ground State - 1.54s, Get Pauli Ops - 5.96s, Calculate Pauli Expectation Values - 5.92s, Calculate Covariance - 2.46s\n",
      "f0,f1,f2 = [1.744231235830214e-09, 1.744231235787111e-09, 1.7442312358359743e-09]\n",
      "d01,d02,d12 = [0.9489088267010326, 0.9489088266999027, 0.9489088267012871]\n"
     ]
    },
    {
     "name": "stderr",
     "output_type": "stream",
     "text": [
      "Progress:  58%|█████▊    | 291/500 [1:14:48<55:26, 15.92s/it]"
     ]
    },
    {
     "name": "stdout",
     "output_type": "stream",
     "text": [
      "Time to: Calculate Ground State - 1.48s, Get Pauli Ops - 7.09s, Calculate Pauli Expectation Values - 5.28s, Calculate Covariance - 2.41s\n",
      "f0,f1,f2 = [1.0358698084955105e-09, 1.035869808474719e-09, 1.0358698084790233e-09]\n",
      "d01,d02,d12 = [0.9490651523701743, 0.9490651523690578, 0.949065152370359]\n"
     ]
    },
    {
     "name": "stderr",
     "output_type": "stream",
     "text": [
      "/cluster/home/mskrabulis/miniconda3/envs/quantech/lib/python3.9/site-packages/pyscf/symm/Dmatrix.py:156: RuntimeWarning: invalid value encountered in arccos\n",
      "  gamma = numpy.arccos(yp.dot(c2[1]))\n",
      "Progress:  58%|█████▊    | 292/500 [1:15:07<57:35, 16.61s/it]"
     ]
    },
    {
     "name": "stdout",
     "output_type": "stream",
     "text": [
      "Time to: Calculate Ground State - 1.52s, Get Pauli Ops - 8.66s, Calculate Pauli Expectation Values - 5.62s, Calculate Covariance - 2.42s\n",
      "f0,f1,f2 = [2.560031556562416e-09, 2.560031556525993e-09, 2.560031556547734e-09]\n",
      "d01,d02,d12 = [0.9502872476272028, 0.950287247626118, 0.9502872476273169]\n"
     ]
    },
    {
     "name": "stderr",
     "output_type": "stream",
     "text": [
      "/cluster/home/mskrabulis/miniconda3/envs/quantech/lib/python3.9/site-packages/pyscf/symm/Dmatrix.py:156: RuntimeWarning: invalid value encountered in arccos\n",
      "  gamma = numpy.arccos(yp.dot(c2[1]))\n",
      "Progress:  59%|█████▊    | 293/500 [1:15:21<55:23, 16.06s/it]"
     ]
    },
    {
     "name": "stdout",
     "output_type": "stream",
     "text": [
      "Time to: Calculate Ground State - 1.46s, Get Pauli Ops - 5.42s, Calculate Pauli Expectation Values - 5.46s, Calculate Covariance - 2.41s\n",
      "f0,f1,f2 = [1.7170359261176941e-09, 1.7170359261100648e-09, 1.7170359261446906e-09]\n",
      "d01,d02,d12 = [0.9521220288852892, 0.9521220288842492, 0.9521220288853354]\n"
     ]
    },
    {
     "name": "stderr",
     "output_type": "stream",
     "text": [
      "/cluster/home/mskrabulis/miniconda3/envs/quantech/lib/python3.9/site-packages/pyscf/symm/Dmatrix.py:156: RuntimeWarning: invalid value encountered in arccos\n",
      "  gamma = numpy.arccos(yp.dot(c2[1]))\n",
      "Progress:  59%|█████▉    | 294/500 [1:15:37<54:30, 15.88s/it]"
     ]
    },
    {
     "name": "stdout",
     "output_type": "stream",
     "text": [
      "Time to: Calculate Ground State - 1.48s, Get Pauli Ops - 5.58s, Calculate Pauli Expectation Values - 5.97s, Calculate Covariance - 2.42s\n",
      "f0,f1,f2 = [1.8136938628800684e-09, 1.8136938628234127e-09, 1.8136938628321614e-09]\n",
      "d01,d02,d12 = [0.9546637208183575, 0.9546637208173625, 0.9546637208183194]\n"
     ]
    },
    {
     "name": "stderr",
     "output_type": "stream",
     "text": [
      "Progress:  59%|█████▉    | 295/500 [1:15:53<54:11, 15.86s/it]"
     ]
    },
    {
     "name": "stdout",
     "output_type": "stream",
     "text": [
      "Time to: Calculate Ground State - 1.54s, Get Pauli Ops - 6.98s, Calculate Pauli Expectation Values - 4.88s, Calculate Covariance - 2.43s\n",
      "f0,f1,f2 = [1.6893470003233968e-09, 1.6893470003673944e-09, 1.689347000336304e-09]\n",
      "d01,d02,d12 = [0.9579522613348962, 0.957952261333934, 0.9579522613347637]\n"
     ]
    },
    {
     "name": "stderr",
     "output_type": "stream",
     "text": [
      "Progress:  59%|█████▉    | 296/500 [1:16:11<56:09, 16.52s/it]"
     ]
    },
    {
     "name": "stdout",
     "output_type": "stream",
     "text": [
      "Time to: Calculate Ground State - 1.5s, Get Pauli Ops - 8.36s, Calculate Pauli Expectation Values - 5.68s, Calculate Covariance - 2.5s\n",
      "f0,f1,f2 = [6.988526400915915e-11, 6.988526397037202e-11, 6.988526400337884e-11]\n",
      "d01,d02,d12 = [0.9616708047357767, 0.9616708047348511, 0.961670804735552]\n"
     ]
    },
    {
     "name": "stderr",
     "output_type": "stream",
     "text": [
      "Progress:  59%|█████▉    | 297/500 [1:16:26<54:58, 16.25s/it]"
     ]
    },
    {
     "name": "stdout",
     "output_type": "stream",
     "text": [
      "Time to: Calculate Ground State - 1.41s, Get Pauli Ops - 5.62s, Calculate Pauli Expectation Values - 6.09s, Calculate Covariance - 2.48s\n",
      "f0,f1,f2 = [3.5454825226228484e-10, 3.5454825220105434e-10, 3.545482522711407e-10]\n",
      "d01,d02,d12 = [0.9658121456288908, 0.9658121456280192, 0.9658121456285793]\n"
     ]
    },
    {
     "name": "stderr",
     "output_type": "stream",
     "text": [
      "/cluster/home/mskrabulis/miniconda3/envs/quantech/lib/python3.9/site-packages/pyscf/symm/Dmatrix.py:156: RuntimeWarning: invalid value encountered in arccos\n",
      "  gamma = numpy.arccos(yp.dot(c2[1]))\n",
      "Progress:  60%|█████▉    | 298/500 [1:16:46<58:28, 17.37s/it]"
     ]
    },
    {
     "name": "stdout",
     "output_type": "stream",
     "text": [
      "Time to: Calculate Ground State - 1.53s, Get Pauli Ops - 9.72s, Calculate Pauli Expectation Values - 6.34s, Calculate Covariance - 2.38s\n",
      "f0,f1,f2 = [1.2045161435701281e-09, 1.2045161435595477e-09, 1.2045161435608259e-09]\n",
      "d01,d02,d12 = [0.9698167191742738, 0.9698167191734495, 0.9698167191738674]\n"
     ]
    },
    {
     "name": "stderr",
     "output_type": "stream",
     "text": [
      "/cluster/home/mskrabulis/miniconda3/envs/quantech/lib/python3.9/site-packages/pyscf/symm/Dmatrix.py:156: RuntimeWarning: invalid value encountered in arccos\n",
      "  gamma = numpy.arccos(yp.dot(c2[1]))\n",
      "Progress:  60%|█████▉    | 299/500 [1:17:01<55:28, 16.56s/it]"
     ]
    },
    {
     "name": "stdout",
     "output_type": "stream",
     "text": [
      "Time to: Calculate Ground State - 1.38s, Get Pauli Ops - 5.62s, Calculate Pauli Expectation Values - 5.2s, Calculate Covariance - 2.47s\n",
      "f0,f1,f2 = [1.2323801456604448e-10, 1.23238014583568e-10, 1.232380146138517e-10]\n",
      "d01,d02,d12 = [0.9741258458907915, 0.9741258458900333, 0.9741258458903094]\n"
     ]
    },
    {
     "name": "stderr",
     "output_type": "stream",
     "text": [
      "Progress:  60%|██████    | 300/500 [1:17:20<57:16, 17.18s/it]"
     ]
    },
    {
     "name": "stdout",
     "output_type": "stream",
     "text": [
      "Time to: Calculate Ground State - 1.56s, Get Pauli Ops - 8.43s, Calculate Pauli Expectation Values - 6.12s, Calculate Covariance - 2.52s\n",
      "f0,f1,f2 = [6.367058173408912e-10, 6.367058173369496e-10, 6.367058173532779e-10]\n",
      "d01,d02,d12 = [0.9785738209835274, 0.9785738209828412, 0.9785738209829732]\n"
     ]
    },
    {
     "name": "stderr",
     "output_type": "stream",
     "text": [
      "Progress:  60%|██████    | 301/500 [1:17:39<58:52, 17.75s/it]"
     ]
    },
    {
     "name": "stdout",
     "output_type": "stream",
     "text": [
      "Time to: Calculate Ground State - 1.48s, Get Pauli Ops - 9.62s, Calculate Pauli Expectation Values - 5.53s, Calculate Covariance - 2.43s\n",
      "f0,f1,f2 = [3.7553066850061464e-11, 3.7553066854724565e-11, 3.755306695912647e-11]\n",
      "d01,d02,d12 = [0.9839028192913072, 0.9839028192907122, 0.9839028192907064]\n"
     ]
    },
    {
     "name": "stderr",
     "output_type": "stream",
     "text": [
      "Progress:  60%|██████    | 302/500 [1:17:54<55:51, 16.92s/it]"
     ]
    },
    {
     "name": "stdout",
     "output_type": "stream",
     "text": [
      "Time to: Calculate Ground State - 1.58s, Get Pauli Ops - 5.65s, Calculate Pauli Expectation Values - 5.93s, Calculate Covariance - 1.82s\n",
      "f0,f1,f2 = [9.866824585963545e-10, 9.866824585819107e-10, 9.866824586226245e-10]\n",
      "d01,d02,d12 = [0.9894525984226765, 0.9894525984221915, 0.9894525984220442]\n"
     ]
    },
    {
     "name": "stderr",
     "output_type": "stream",
     "text": [
      "Progress:  61%|██████    | 303/500 [1:18:08<53:00, 16.14s/it]"
     ]
    },
    {
     "name": "stdout",
     "output_type": "stream",
     "text": [
      "Time to: Calculate Ground State - 1.26s, Get Pauli Ops - 5.34s, Calculate Pauli Expectation Values - 5.26s, Calculate Covariance - 2.46s\n",
      "f0,f1,f2 = [1.0490276066423934e-09, 1.049027606614901e-09, 1.0490276065926987e-09]\n",
      "d01,d02,d12 = [0.9942053397962924, 0.994205339795921, 0.994205339795636]\n"
     ]
    },
    {
     "name": "stderr",
     "output_type": "stream",
     "text": [
      "Progress:  61%|██████    | 304/500 [1:18:27<55:09, 16.89s/it]"
     ]
    },
    {
     "name": "stdout",
     "output_type": "stream",
     "text": [
      "Time to: Calculate Ground State - 1.35s, Get Pauli Ops - 9.25s, Calculate Pauli Expectation Values - 5.55s, Calculate Covariance - 2.45s\n",
      "f0,f1,f2 = [1.975909124491512e-10, 1.9759091242812257e-10, 1.9759091246690189e-10]\n",
      "d01,d02,d12 = [0.9990872536077843, 0.9990872536075356, 0.9990872536071135]\n"
     ]
    },
    {
     "name": "stderr",
     "output_type": "stream",
     "text": [
      "Progress:  61%|██████    | 305/500 [1:18:45<55:53, 17.20s/it]"
     ]
    },
    {
     "name": "stdout",
     "output_type": "stream",
     "text": [
      "Time to: Calculate Ground State - 1.49s, Get Pauli Ops - 7.44s, Calculate Pauli Expectation Values - 6.52s, Calculate Covariance - 2.46s\n",
      "f0,f1,f2 = [1.5832191346106702e-10, 1.5832191342560323e-10, 1.5832191340674995e-10]\n",
      "d01,d02,d12 = [1.0032795739689302, 1.003279573968804, 1.0032795739682632]\n"
     ]
    },
    {
     "name": "stderr",
     "output_type": "stream",
     "text": [
      "Progress:  61%|██████    | 306/500 [1:18:59<53:13, 16.46s/it]"
     ]
    },
    {
     "name": "stdout",
     "output_type": "stream",
     "text": [
      "Time to: Calculate Ground State - 1.42s, Get Pauli Ops - 5.45s, Calculate Pauli Expectation Values - 5.53s, Calculate Covariance - 2.33s\n",
      "f0,f1,f2 = [1.8682362663257054e-09, 1.8682362663232052e-09, 1.868236266344494e-09]\n",
      "d01,d02,d12 = [1.0062855082281912, 1.0062855082281905, 1.0062855082275333]\n"
     ]
    },
    {
     "name": "stderr",
     "output_type": "stream",
     "text": [
      "Progress:  61%|██████▏   | 307/500 [1:19:17<54:17, 16.88s/it]"
     ]
    },
    {
     "name": "stdout",
     "output_type": "stream",
     "text": [
      "Time to: Calculate Ground State - 1.49s, Get Pauli Ops - 8.43s, Calculate Pauli Expectation Values - 5.53s, Calculate Covariance - 2.38s\n",
      "f0,f1,f2 = [3.8143277048939265e-10, 3.814327704514683e-10, 3.814327704546089e-10]\n",
      "d01,d02,d12 = [1.0089564450142294, 1.0089564450143527, 1.0089564450135866]\n"
     ]
    },
    {
     "name": "stderr",
     "output_type": "stream",
     "text": [
      "Progress:  62%|██████▏   | 308/500 [1:19:30<49:54, 15.60s/it]"
     ]
    },
    {
     "name": "stdout",
     "output_type": "stream",
     "text": [
      "Time to: Calculate Ground State - 1.39s, Get Pauli Ops - 4.91s, Calculate Pauli Expectation Values - 4.93s, Calculate Covariance - 1.37s\n",
      "f0,f1,f2 = [1.931883888787818e-09, 1.931883888808187e-09, 1.9318838888290418e-09]\n",
      "d01,d02,d12 = [1.0107560544477465, 1.0107560544479868, 1.0107560544471108]\n"
     ]
    },
    {
     "name": "stderr",
     "output_type": "stream",
     "text": [
      "Progress:  62%|██████▏   | 309/500 [1:19:44<48:25, 15.21s/it]"
     ]
    },
    {
     "name": "stdout",
     "output_type": "stream",
     "text": [
      "Time to: Calculate Ground State - 1.33s, Get Pauli Ops - 5.35s, Calculate Pauli Expectation Values - 5.42s, Calculate Covariance - 2.19s\n",
      "f0,f1,f2 = [5.723804590383007e-10, 5.723804590176765e-10, 5.723804590501166e-10]\n",
      "d01,d02,d12 = [1.0120751828562526, 1.0120751828566021, 1.0120751828556185]\n"
     ]
    },
    {
     "name": "stderr",
     "output_type": "stream",
     "text": [
      "Progress:  62%|██████▏   | 310/500 [1:19:57<46:22, 14.65s/it]"
     ]
    },
    {
     "name": "stdout",
     "output_type": "stream",
     "text": [
      "Time to: Calculate Ground State - 1.05s, Get Pauli Ops - 5.35s, Calculate Pauli Expectation Values - 5.32s, Calculate Covariance - 1.61s\n",
      "f0,f1,f2 = [4.1026296468953953e-10, 4.1026296467516717e-10, 4.1026296466426043e-10]\n",
      "d01,d02,d12 = [1.0131474226493138, 1.0131474226497783, 1.0131474226486856]\n"
     ]
    },
    {
     "name": "stderr",
     "output_type": "stream",
     "text": [
      "Progress:  62%|██████▏   | 311/500 [1:20:11<44:59, 14.29s/it]"
     ]
    },
    {
     "name": "stdout",
     "output_type": "stream",
     "text": [
      "Time to: Calculate Ground State - 1.14s, Get Pauli Ops - 4.56s, Calculate Pauli Expectation Values - 5.77s, Calculate Covariance - 1.96s\n",
      "f0,f1,f2 = [3.4923402149335663e-10, 3.4923402146758706e-10, 3.492340214514336e-10]\n",
      "d01,d02,d12 = [1.0140856910619842, 1.0140856910625728, 1.0140856910613751]\n"
     ]
    },
    {
     "name": "stderr",
     "output_type": "stream",
     "text": [
      "Progress:  62%|██████▏   | 312/500 [1:20:31<50:32, 16.13s/it]"
     ]
    },
    {
     "name": "stdout",
     "output_type": "stream",
     "text": [
      "Time to: Calculate Ground State - 1.44s, Get Pauli Ops - 9.53s, Calculate Pauli Expectation Values - 7.06s, Calculate Covariance - 2.4s\n",
      "f0,f1,f2 = [1.975489793365829e-09, 1.9754897932939104e-09, 1.9754897933429076e-09]\n",
      "d01,d02,d12 = [1.0142772644967861, 1.0142772644974853, 1.0142772644961964]\n"
     ]
    },
    {
     "name": "stderr",
     "output_type": "stream",
     "text": [
      "Progress:  63%|██████▎   | 313/500 [1:20:51<53:36, 17.20s/it]"
     ]
    },
    {
     "name": "stdout",
     "output_type": "stream",
     "text": [
      "Time to: Calculate Ground State - 1.42s, Get Pauli Ops - 9.5s, Calculate Pauli Expectation Values - 6.35s, Calculate Covariance - 2.43s\n",
      "f0,f1,f2 = [1.1133217577255348e-09, 1.1133217577808781e-09, 1.1133217577227379e-09]\n",
      "d01,d02,d12 = [1.0140042449641185, 1.0140042449649496, 1.0140042449635573]\n"
     ]
    },
    {
     "name": "stderr",
     "output_type": "stream",
     "text": [
      "/cluster/home/mskrabulis/miniconda3/envs/quantech/lib/python3.9/site-packages/pyscf/symm/Dmatrix.py:156: RuntimeWarning: invalid value encountered in arccos\n",
      "  gamma = numpy.arccos(yp.dot(c2[1]))\n",
      "Progress:  63%|██████▎   | 314/500 [1:21:06<51:09, 16.50s/it]"
     ]
    },
    {
     "name": "stdout",
     "output_type": "stream",
     "text": [
      "Time to: Calculate Ground State - 1.53s, Get Pauli Ops - 5.54s, Calculate Pauli Expectation Values - 5.31s, Calculate Covariance - 2.46s\n",
      "f0,f1,f2 = [5.372102639553182e-10, 5.372102639544716e-10, 5.372102640132164e-10]\n",
      "d01,d02,d12 = [1.0135219544671514, 1.0135219544681051, 1.0135219544666054]\n"
     ]
    },
    {
     "name": "stderr",
     "output_type": "stream",
     "text": [
      "/cluster/home/mskrabulis/miniconda3/envs/quantech/lib/python3.9/site-packages/pyscf/symm/Dmatrix.py:156: RuntimeWarning: invalid value encountered in arccos\n",
      "  gamma = numpy.arccos(yp.dot(c2[1]))\n",
      "Progress:  63%|██████▎   | 315/500 [1:21:21<49:24, 16.03s/it]"
     ]
    },
    {
     "name": "stdout",
     "output_type": "stream",
     "text": [
      "Time to: Calculate Ground State - 1.4s, Get Pauli Ops - 5.48s, Calculate Pauli Expectation Values - 5.61s, Calculate Covariance - 2.4s\n",
      "f0,f1,f2 = [7.062952137807158e-10, 7.062952137911721e-10, 7.062952137553121e-10]\n",
      "d01,d02,d12 = [1.012830847908144, 1.0128308479092198, 1.0128308479076191]\n"
     ]
    },
    {
     "name": "stderr",
     "output_type": "stream",
     "text": [
      "Progress:  63%|██████▎   | 316/500 [1:21:37<49:48, 16.24s/it]"
     ]
    },
    {
     "name": "stdout",
     "output_type": "stream",
     "text": [
      "Time to: Calculate Ground State - 1.57s, Get Pauli Ops - 5.52s, Calculate Pauli Expectation Values - 7.23s, Calculate Covariance - 2.4s\n",
      "f0,f1,f2 = [1.2425549503886588e-09, 1.2425549503576331e-09, 1.2425549503888381e-09]\n",
      "d01,d02,d12 = [1.0115958161697396, 1.0115958161709226, 1.0115958161692358]\n"
     ]
    },
    {
     "name": "stderr",
     "output_type": "stream",
     "text": [
      "/cluster/home/mskrabulis/miniconda3/envs/quantech/lib/python3.9/site-packages/pyscf/symm/Dmatrix.py:156: RuntimeWarning: invalid value encountered in arccos\n",
      "  gamma = numpy.arccos(yp.dot(c2[1]))\n",
      "/cluster/home/mskrabulis/miniconda3/envs/quantech/lib/python3.9/site-packages/pyscf/symm/Dmatrix.py:156: RuntimeWarning: invalid value encountered in arccos\n",
      "  gamma = numpy.arccos(yp.dot(c2[1]))\n",
      "Progress:  63%|██████▎   | 317/500 [1:21:53<48:57, 16.05s/it]"
     ]
    },
    {
     "name": "stdout",
     "output_type": "stream",
     "text": [
      "Time to: Calculate Ground State - 1.48s, Get Pauli Ops - 5.95s, Calculate Pauli Expectation Values - 5.79s, Calculate Covariance - 2.38s\n",
      "f0,f1,f2 = [1.6716542827223808e-09, 1.671654282707526e-09, 1.6716542827373755e-09]\n",
      "d01,d02,d12 = [1.0095450926611949, 1.0095450926624654, 1.00954509266071]\n"
     ]
    },
    {
     "name": "stderr",
     "output_type": "stream",
     "text": [
      "/cluster/home/mskrabulis/miniconda3/envs/quantech/lib/python3.9/site-packages/pyscf/symm/Dmatrix.py:156: RuntimeWarning: invalid value encountered in arccos\n",
      "  gamma = numpy.arccos(yp.dot(c2[1]))\n",
      "Progress:  64%|██████▎   | 318/500 [1:22:11<49:57, 16.47s/it]"
     ]
    },
    {
     "name": "stdout",
     "output_type": "stream",
     "text": [
      "Time to: Calculate Ground State - 1.42s, Get Pauli Ops - 5.51s, Calculate Pauli Expectation Values - 8.06s, Calculate Covariance - 2.44s\n",
      "f0,f1,f2 = [1.6599209448302261e-09, 1.659920944786078e-09, 1.6599209447989196e-09]\n",
      "d01,d02,d12 = [1.0070952692420112, 1.0070952692433648, 1.0070952692415513]\n"
     ]
    },
    {
     "name": "stderr",
     "output_type": "stream",
     "text": [
      "Progress:  64%|██████▍   | 319/500 [1:22:25<48:13, 15.99s/it]"
     ]
    },
    {
     "name": "stdout",
     "output_type": "stream",
     "text": [
      "Time to: Calculate Ground State - 1.43s, Get Pauli Ops - 5.4s, Calculate Pauli Expectation Values - 5.59s, Calculate Covariance - 2.43s\n",
      "f0,f1,f2 = [2.336963368410756e-09, 2.3369633684239654e-09, 2.3369633684100977e-09]\n",
      "d01,d02,d12 = [1.003535189168329, 1.0035351891697526, 1.0035351891678854]\n"
     ]
    },
    {
     "name": "stderr",
     "output_type": "stream",
     "text": [
      "/cluster/home/mskrabulis/miniconda3/envs/quantech/lib/python3.9/site-packages/pyscf/symm/Dmatrix.py:156: RuntimeWarning: invalid value encountered in arccos\n",
      "  gamma = numpy.arccos(yp.dot(c2[1]))\n",
      "Progress:  64%|██████▍   | 320/500 [1:22:46<52:24, 17.47s/it]"
     ]
    },
    {
     "name": "stdout",
     "output_type": "stream",
     "text": [
      "Time to: Calculate Ground State - 1.43s, Get Pauli Ops - 8.68s, Calculate Pauli Expectation Values - 8.4s, Calculate Covariance - 2.42s\n",
      "f0,f1,f2 = [2.545983487825173e-10, 2.545983487040142e-10, 2.545983487529719e-10]\n",
      "d01,d02,d12 = [0.9997505603330419, 0.9997505603345247, 0.999750560332624]\n"
     ]
    },
    {
     "name": "stderr",
     "output_type": "stream",
     "text": [
      "/cluster/home/mskrabulis/miniconda3/envs/quantech/lib/python3.9/site-packages/pyscf/symm/Dmatrix.py:156: RuntimeWarning: invalid value encountered in arccos\n",
      "  gamma = numpy.arccos(yp.dot(c2[1]))\n",
      "Progress:  64%|██████▍   | 321/500 [1:23:04<52:17, 17.53s/it]"
     ]
    },
    {
     "name": "stdout",
     "output_type": "stream",
     "text": [
      "Time to: Calculate Ground State - 1.51s, Get Pauli Ops - 6.65s, Calculate Pauli Expectation Values - 7.0s, Calculate Covariance - 2.49s\n",
      "f0,f1,f2 = [2.2538698514576362e-10, 2.2538698511965617e-10, 2.2538698513774808e-10]\n",
      "d01,d02,d12 = [0.9947683863163695, 0.9947683863178903, 0.9947683863159846]\n"
     ]
    },
    {
     "name": "stderr",
     "output_type": "stream",
     "text": [
      "Progress:  64%|██████▍   | 322/500 [1:23:20<50:23, 16.99s/it]"
     ]
    },
    {
     "name": "stdout",
     "output_type": "stream",
     "text": [
      "Time to: Calculate Ground State - 1.44s, Get Pauli Ops - 5.62s, Calculate Pauli Expectation Values - 6.23s, Calculate Covariance - 2.41s\n",
      "f0,f1,f2 = [1.2852335297501945e-09, 1.285233529750166e-09, 1.2852335297393555e-09]\n",
      "d01,d02,d12 = [0.9900500451230291, 0.9900500451245886, 0.9900500451226861]\n"
     ]
    },
    {
     "name": "stderr",
     "output_type": "stream",
     "text": [
      "/cluster/home/mskrabulis/miniconda3/envs/quantech/lib/python3.9/site-packages/pyscf/symm/Dmatrix.py:156: RuntimeWarning: invalid value encountered in arccos\n",
      "  gamma = numpy.arccos(yp.dot(c2[1]))\n",
      "Progress:  65%|██████▍   | 323/500 [1:23:39<52:10, 17.68s/it]"
     ]
    },
    {
     "name": "stdout",
     "output_type": "stream",
     "text": [
      "Time to: Calculate Ground State - 1.48s, Get Pauli Ops - 5.54s, Calculate Pauli Expectation Values - 9.85s, Calculate Covariance - 2.44s\n",
      "f0,f1,f2 = [1.1306872193610952e-09, 1.1306872193590818e-09, 1.1306872193393112e-09]\n",
      "d01,d02,d12 = [0.9853098397012829, 0.9853098397028613, 0.9853098397009763]\n"
     ]
    },
    {
     "name": "stderr",
     "output_type": "stream",
     "text": [
      "Progress:  65%|██████▍   | 324/500 [1:23:54<49:46, 16.97s/it]"
     ]
    },
    {
     "name": "stdout",
     "output_type": "stream",
     "text": [
      "Time to: Calculate Ground State - 1.46s, Get Pauli Ops - 5.58s, Calculate Pauli Expectation Values - 5.83s, Calculate Covariance - 2.4s\n",
      "f0,f1,f2 = [2.3583562256147174e-09, 2.3583562256628047e-09, 2.3583562256009005e-09]\n",
      "d01,d02,d12 = [0.9817172372911387, 0.981717237292717, 0.9817172372908618]\n"
     ]
    },
    {
     "name": "stderr",
     "output_type": "stream",
     "text": [
      "Progress:  65%|██████▌   | 325/500 [1:24:09<47:41, 16.35s/it]"
     ]
    },
    {
     "name": "stdout",
     "output_type": "stream",
     "text": [
      "Time to: Calculate Ground State - 1.56s, Get Pauli Ops - 5.5s, Calculate Pauli Expectation Values - 5.41s, Calculate Covariance - 2.43s\n",
      "f0,f1,f2 = [4.041184929820804e-10, 4.041184929797378e-10, 4.041184929892165e-10]\n",
      "d01,d02,d12 = [0.9780915578858218, 0.9780915578873899, 0.9780915578855658]\n"
     ]
    },
    {
     "name": "stderr",
     "output_type": "stream",
     "text": [
      "Progress:  65%|██████▌   | 326/500 [1:24:23<45:13, 15.60s/it]"
     ]
    },
    {
     "name": "stdout",
     "output_type": "stream",
     "text": [
      "Time to: Calculate Ground State - 1.31s, Get Pauli Ops - 5.53s, Calculate Pauli Expectation Values - 5.08s, Calculate Covariance - 1.91s\n",
      "f0,f1,f2 = [2.0284592853480854e-10, 2.0284592855246086e-10, 2.0284592852403084e-10]\n",
      "d01,d02,d12 = [0.9745893711976084, 0.9745893711991508, 0.9745893711973724]\n"
     ]
    },
    {
     "name": "stderr",
     "output_type": "stream",
     "text": [
      "/cluster/home/mskrabulis/miniconda3/envs/quantech/lib/python3.9/site-packages/pyscf/symm/Dmatrix.py:156: RuntimeWarning: invalid value encountered in arccos\n",
      "  gamma = numpy.arccos(yp.dot(c2[1]))\n",
      "Progress:  65%|██████▌   | 327/500 [1:24:39<45:19, 15.72s/it]"
     ]
    },
    {
     "name": "stdout",
     "output_type": "stream",
     "text": [
      "Time to: Calculate Ground State - 1.36s, Get Pauli Ops - 5.13s, Calculate Pauli Expectation Values - 7.31s, Calculate Covariance - 2.2s\n",
      "f0,f1,f2 = [7.743224448614447e-10, 7.743224449405043e-10, 7.743224448963909e-10]\n",
      "d01,d02,d12 = [0.971239406381895, 0.9712394063833976, 0.971239406381692]\n"
     ]
    },
    {
     "name": "stderr",
     "output_type": "stream",
     "text": [
      "Progress:  66%|██████▌   | 328/500 [1:24:53<43:23, 15.14s/it]"
     ]
    },
    {
     "name": "stdout",
     "output_type": "stream",
     "text": [
      "Time to: Calculate Ground State - 1.17s, Get Pauli Ops - 5.27s, Calculate Pauli Expectation Values - 5.35s, Calculate Covariance - 1.98s\n",
      "f0,f1,f2 = [1.701375789967302e-10, 1.7013757901933304e-10, 1.7013757898121075e-10]\n",
      "d01,d02,d12 = [0.9673814848165235, 0.9673814848179786, 0.9673814848163595]\n"
     ]
    },
    {
     "name": "stderr",
     "output_type": "stream",
     "text": [
      "/cluster/home/mskrabulis/miniconda3/envs/quantech/lib/python3.9/site-packages/pyscf/symm/Dmatrix.py:156: RuntimeWarning: invalid value encountered in arccos\n",
      "  gamma = numpy.arccos(yp.dot(c2[1]))\n",
      "Progress:  66%|██████▌   | 329/500 [1:25:06<41:28, 14.55s/it]"
     ]
    },
    {
     "name": "stdout",
     "output_type": "stream",
     "text": [
      "Time to: Calculate Ground State - 1.35s, Get Pauli Ops - 4.71s, Calculate Pauli Expectation Values - 5.05s, Calculate Covariance - 2.06s\n",
      "f0,f1,f2 = [3.971357237075491e-10, 3.971357236779164e-10, 3.9713572371386445e-10]\n",
      "d01,d02,d12 = [0.9643841894182651, 0.964384189419667, 0.9643841894181483]\n"
     ]
    },
    {
     "name": "stderr",
     "output_type": "stream",
     "text": [
      "Progress:  66%|██████▌   | 330/500 [1:25:23<43:23, 15.31s/it]"
     ]
    },
    {
     "name": "stdout",
     "output_type": "stream",
     "text": [
      "Time to: Calculate Ground State - 1.25s, Get Pauli Ops - 5.83s, Calculate Pauli Expectation Values - 7.71s, Calculate Covariance - 2.29s\n",
      "f0,f1,f2 = [1.0395538252380708e-09, 1.0395538252615514e-09, 1.0395538252319414e-09]\n",
      "d01,d02,d12 = [0.9613102078992549, 0.9613102079005771, 0.9613102078991888]\n"
     ]
    },
    {
     "name": "stderr",
     "output_type": "stream",
     "text": [
      "Progress:  66%|██████▌   | 331/500 [1:25:38<42:37, 15.13s/it]"
     ]
    },
    {
     "name": "stdout",
     "output_type": "stream",
     "text": [
      "Time to: Calculate Ground State - 1.31s, Get Pauli Ops - 5.18s, Calculate Pauli Expectation Values - 5.82s, Calculate Covariance - 2.39s\n",
      "f0,f1,f2 = [1.7553789094573039e-09, 1.7553789094581056e-09, 1.7553789094843953e-09]\n",
      "d01,d02,d12 = [0.9583685797444036, 0.9583685797456497, 0.9583685797443934]\n"
     ]
    },
    {
     "name": "stderr",
     "output_type": "stream",
     "text": [
      "Progress:  66%|██████▋   | 332/500 [1:25:52<41:10, 14.70s/it]"
     ]
    },
    {
     "name": "stdout",
     "output_type": "stream",
     "text": [
      "Time to: Calculate Ground State - 0.88s, Get Pauli Ops - 5.15s, Calculate Pauli Expectation Values - 5.42s, Calculate Covariance - 2.25s\n",
      "f0,f1,f2 = [1.7903055426987553e-09, 1.7903055426878146e-09, 1.7903055426925986e-09]\n",
      "d01,d02,d12 = [0.956612506244667, 0.9566125062458456, 0.9566125062447227]\n"
     ]
    },
    {
     "name": "stderr",
     "output_type": "stream",
     "text": [
      "Progress:  67%|██████▋   | 333/500 [1:26:06<40:39, 14.61s/it]"
     ]
    },
    {
     "name": "stdout",
     "output_type": "stream",
     "text": [
      "Time to: Calculate Ground State - 1.39s, Get Pauli Ops - 4.84s, Calculate Pauli Expectation Values - 5.74s, Calculate Covariance - 2.42s\n",
      "f0,f1,f2 = [1.8530335882377476e-09, 1.8530335882248659e-09, 1.8530335882037573e-09]\n",
      "d01,d02,d12 = [0.9557134686880172, 0.9557134686891229, 0.9557134686881306]\n"
     ]
    },
    {
     "name": "stderr",
     "output_type": "stream",
     "text": [
      "Progress:  67%|██████▋   | 334/500 [1:26:24<43:31, 15.73s/it]"
     ]
    },
    {
     "name": "stdout",
     "output_type": "stream",
     "text": [
      "Time to: Calculate Ground State - 1.28s, Get Pauli Ops - 4.77s, Calculate Pauli Expectation Values - 9.8s, Calculate Covariance - 2.5s\n",
      "f0,f1,f2 = [2.69004284026704e-09, 2.690042840269896e-09, 2.6900428402639593e-09]\n",
      "d01,d02,d12 = [0.9561913408427216, 0.9561913408437533, 0.9561913408428891]\n"
     ]
    },
    {
     "name": "stderr",
     "output_type": "stream",
     "text": [
      "Progress:  67%|██████▋   | 335/500 [1:26:38<41:21, 15.04s/it]"
     ]
    },
    {
     "name": "stdout",
     "output_type": "stream",
     "text": [
      "Time to: Calculate Ground State - 1.19s, Get Pauli Ops - 5.3s, Calculate Pauli Expectation Values - 5.22s, Calculate Covariance - 1.71s\n",
      "f0,f1,f2 = [8.372863100941696e-11, 8.372863104600491e-11, 8.37286310213738e-11]\n",
      "d01,d02,d12 = [0.9566973816897486, 0.9566973816906928, 0.9566973816899619]\n"
     ]
    },
    {
     "name": "stderr",
     "output_type": "stream",
     "text": [
      "/cluster/home/mskrabulis/miniconda3/envs/quantech/lib/python3.9/site-packages/pyscf/symm/Dmatrix.py:156: RuntimeWarning: invalid value encountered in arccos\n",
      "  gamma = numpy.arccos(yp.dot(c2[1]))\n",
      "Progress:  67%|██████▋   | 336/500 [1:26:51<39:49, 14.57s/it]"
     ]
    },
    {
     "name": "stdout",
     "output_type": "stream",
     "text": [
      "Time to: Calculate Ground State - 1.23s, Get Pauli Ops - 4.79s, Calculate Pauli Expectation Values - 5.06s, Calculate Covariance - 2.39s\n",
      "f0,f1,f2 = [9.96198651994218e-10, 9.961986519767728e-10, 9.961986519579507e-10]\n",
      "d01,d02,d12 = [0.9576377376440379, 0.9576377376448927, 0.9576377376442886]\n"
     ]
    },
    {
     "name": "stderr",
     "output_type": "stream",
     "text": [
      "Progress:  67%|██████▋   | 337/500 [1:27:05<39:15, 14.45s/it]"
     ]
    },
    {
     "name": "stdout",
     "output_type": "stream",
     "text": [
      "Time to: Calculate Ground State - 1.31s, Get Pauli Ops - 4.62s, Calculate Pauli Expectation Values - 5.91s, Calculate Covariance - 2.34s\n",
      "f0,f1,f2 = [6.025631619831383e-10, 6.025631619998982e-10, 6.025631619631122e-10]\n",
      "d01,d02,d12 = [0.958803241016497, 0.9588032410172511, 0.9588032410167825]\n"
     ]
    },
    {
     "name": "stderr",
     "output_type": "stream",
     "text": [
      "Progress:  68%|██████▊   | 338/500 [1:27:19<38:42, 14.33s/it]"
     ]
    },
    {
     "name": "stdout",
     "output_type": "stream",
     "text": [
      "Time to: Calculate Ground State - 1.27s, Get Pauli Ops - 4.56s, Calculate Pauli Expectation Values - 5.83s, Calculate Covariance - 2.39s\n",
      "f0,f1,f2 = [1.7430524425393012e-09, 1.7430524425340043e-09, 1.7430524425450774e-09]\n",
      "d01,d02,d12 = [0.9606500512001792, 0.9606500512008328, 0.9606500512005065]\n"
     ]
    },
    {
     "name": "stderr",
     "output_type": "stream",
     "text": [
      "Progress:  68%|██████▊   | 339/500 [1:27:34<38:30, 14.35s/it]"
     ]
    },
    {
     "name": "stdout",
     "output_type": "stream",
     "text": [
      "Time to: Calculate Ground State - 1.38s, Get Pauli Ops - 5.16s, Calculate Pauli Expectation Values - 5.66s, Calculate Covariance - 2.2s\n",
      "f0,f1,f2 = [8.597320710223222e-10, 8.597320710026311e-10, 8.597320709777613e-10]\n",
      "d01,d02,d12 = [0.9625268751280622, 0.9625268751286098, 0.962526875128424]\n"
     ]
    },
    {
     "name": "stderr",
     "output_type": "stream",
     "text": [
      "Progress:  68%|██████▊   | 340/500 [1:27:47<37:40, 14.13s/it]"
     ]
    },
    {
     "name": "stdout",
     "output_type": "stream",
     "text": [
      "Time to: Calculate Ground State - 1.36s, Get Pauli Ops - 5.04s, Calculate Pauli Expectation Values - 5.45s, Calculate Covariance - 1.75s\n",
      "f0,f1,f2 = [1.1924655106150638e-09, 1.1924655106361641e-09, 1.1924655106274036e-09]\n",
      "d01,d02,d12 = [0.9648132843326155, 0.9648132843330502, 0.9648132843330056]\n"
     ]
    },
    {
     "name": "stderr",
     "output_type": "stream",
     "text": [
      "/cluster/home/mskrabulis/miniconda3/envs/quantech/lib/python3.9/site-packages/pyscf/symm/Dmatrix.py:156: RuntimeWarning: invalid value encountered in arccos\n",
      "  gamma = numpy.arccos(yp.dot(c2[1]))\n",
      "Progress:  68%|██████▊   | 341/500 [1:28:03<38:30, 14.53s/it]"
     ]
    },
    {
     "name": "stdout",
     "output_type": "stream",
     "text": [
      "Time to: Calculate Ground State - 1.33s, Get Pauli Ops - 7.54s, Calculate Pauli Expectation Values - 4.72s, Calculate Covariance - 1.88s\n",
      "f0,f1,f2 = [6.563719977278152e-10, 6.563719976886078e-10, 6.563719977294199e-10]\n",
      "d01,d02,d12 = [0.9674479844490139, 0.9674479844493417, 0.9674479844494324]\n"
     ]
    },
    {
     "name": "stderr",
     "output_type": "stream",
     "text": [
      "/cluster/home/mskrabulis/miniconda3/envs/quantech/lib/python3.9/site-packages/pyscf/symm/Dmatrix.py:156: RuntimeWarning: invalid value encountered in arccos\n",
      "  gamma = numpy.arccos(yp.dot(c2[1]))\n",
      "Progress:  68%|██████▊   | 342/500 [1:28:17<37:53, 14.39s/it]"
     ]
    },
    {
     "name": "stdout",
     "output_type": "stream",
     "text": [
      "Time to: Calculate Ground State - 1.37s, Get Pauli Ops - 4.59s, Calculate Pauli Expectation Values - 5.91s, Calculate Covariance - 2.19s\n",
      "f0,f1,f2 = [2.132554128423096e-09, 2.1325541284107255e-09, 2.132554128378044e-09]\n",
      "d01,d02,d12 = [0.9704233550378664, 0.9704233550380875, 0.9704233550383029]\n"
     ]
    },
    {
     "name": "stderr",
     "output_type": "stream",
     "text": [
      "/cluster/home/mskrabulis/miniconda3/envs/quantech/lib/python3.9/site-packages/pyscf/symm/Dmatrix.py:156: RuntimeWarning: invalid value encountered in arccos\n",
      "  gamma = numpy.arccos(yp.dot(c2[1]))\n",
      "Progress:  69%|██████▊   | 343/500 [1:28:31<37:22, 14.29s/it]"
     ]
    },
    {
     "name": "stdout",
     "output_type": "stream",
     "text": [
      "Time to: Calculate Ground State - 1.33s, Get Pauli Ops - 5.24s, Calculate Pauli Expectation Values - 5.14s, Calculate Covariance - 2.32s\n",
      "f0,f1,f2 = [4.86535508257357e-10, 4.865355082826248e-10, 4.865355083106036e-10]\n",
      "d01,d02,d12 = [0.9737712662667428, 0.9737712662668628, 0.9737712662671988]\n"
     ]
    },
    {
     "name": "stderr",
     "output_type": "stream",
     "text": [
      "/cluster/home/mskrabulis/miniconda3/envs/quantech/lib/python3.9/site-packages/pyscf/symm/Dmatrix.py:156: RuntimeWarning: invalid value encountered in arccos\n",
      "  gamma = numpy.arccos(yp.dot(c2[1]))\n",
      "Progress:  69%|██████▉   | 344/500 [1:28:45<36:45, 14.14s/it]"
     ]
    },
    {
     "name": "stdout",
     "output_type": "stream",
     "text": [
      "Time to: Calculate Ground State - 1.31s, Get Pauli Ops - 4.99s, Calculate Pauli Expectation Values - 5.26s, Calculate Covariance - 2.22s\n",
      "f0,f1,f2 = [1.1880425894721032e-09, 1.1880425893903711e-09, 1.1880425894155468e-09]\n",
      "d01,d02,d12 = [0.9773780199672173, 0.977378019967243, 0.977378019967686]\n"
     ]
    },
    {
     "name": "stderr",
     "output_type": "stream",
     "text": [
      "Progress:  69%|██████▉   | 345/500 [1:28:59<36:34, 14.16s/it]"
     ]
    },
    {
     "name": "stdout",
     "output_type": "stream",
     "text": [
      "Time to: Calculate Ground State - 1.3s, Get Pauli Ops - 4.8s, Calculate Pauli Expectation Values - 5.81s, Calculate Covariance - 2.3s\n",
      "f0,f1,f2 = [7.939038194222291e-10, 7.939038194890901e-10, 7.939038194465352e-10]\n",
      "d01,d02,d12 = [0.9818751623585014, 0.9818751623584261, 0.9818751623589889]\n"
     ]
    },
    {
     "name": "stderr",
     "output_type": "stream",
     "text": [
      "Progress:  69%|██████▉   | 346/500 [1:29:13<36:23, 14.18s/it]"
     ]
    },
    {
     "name": "stdout",
     "output_type": "stream",
     "text": [
      "Time to: Calculate Ground State - 1.35s, Get Pauli Ops - 5.16s, Calculate Pauli Expectation Values - 5.36s, Calculate Covariance - 2.34s\n",
      "f0,f1,f2 = [1.9598588963086688e-10, 1.9598588965622245e-10, 1.9598588964720352e-10]\n",
      "d01,d02,d12 = [0.9859420603131643, 0.9859420603129819, 0.9859420603136478]\n"
     ]
    },
    {
     "name": "stderr",
     "output_type": "stream",
     "text": [
      "/cluster/home/mskrabulis/miniconda3/envs/quantech/lib/python3.9/site-packages/pyscf/symm/Dmatrix.py:156: RuntimeWarning: invalid value encountered in arccos\n",
      "  gamma = numpy.arccos(yp.dot(c2[1]))\n",
      "Progress:  69%|██████▉   | 347/500 [1:29:27<36:07, 14.17s/it]"
     ]
    },
    {
     "name": "stdout",
     "output_type": "stream",
     "text": [
      "Time to: Calculate Ground State - 1.34s, Get Pauli Ops - 5.16s, Calculate Pauli Expectation Values - 5.46s, Calculate Covariance - 2.19s\n",
      "f0,f1,f2 = [1.3085002059127437e-10, 1.3085002056591278e-10, 1.3085002061038074e-10]\n",
      "d01,d02,d12 = [0.9898654414381935, 0.9898654414379011, 0.9898654414386713]\n"
     ]
    },
    {
     "name": "stderr",
     "output_type": "stream",
     "text": [
      "Progress:  70%|██████▉   | 348/500 [1:29:42<35:57, 14.20s/it]"
     ]
    },
    {
     "name": "stdout",
     "output_type": "stream",
     "text": [
      "Time to: Calculate Ground State - 1.02s, Get Pauli Ops - 4.85s, Calculate Pauli Expectation Values - 6.0s, Calculate Covariance - 2.39s\n",
      "f0,f1,f2 = [6.18604353996747e-10, 6.186043539583804e-10, 6.186043539552821e-10]\n",
      "d01,d02,d12 = [0.9938326080824608, 0.9938326080820614, 0.9938326080829294]\n"
     ]
    },
    {
     "name": "stderr",
     "output_type": "stream",
     "text": [
      "Progress:  70%|██████▉   | 349/500 [1:29:55<35:06, 13.95s/it]"
     ]
    },
    {
     "name": "stdout",
     "output_type": "stream",
     "text": [
      "Time to: Calculate Ground State - 1.33s, Get Pauli Ops - 4.05s, Calculate Pauli Expectation Values - 5.77s, Calculate Covariance - 2.23s\n",
      "f0,f1,f2 = [2.768344998020839e-10, 2.768344997969435e-10, 2.7683449979348087e-10]\n",
      "d01,d02,d12 = [0.9973610112276128, 0.9973610112270977, 0.9973610112280608]\n"
     ]
    },
    {
     "name": "stderr",
     "output_type": "stream",
     "text": [
      "Progress:  70%|███████   | 350/500 [1:30:09<35:04, 14.03s/it]"
     ]
    },
    {
     "name": "stdout",
     "output_type": "stream",
     "text": [
      "Time to: Calculate Ground State - 1.35s, Get Pauli Ops - 5.27s, Calculate Pauli Expectation Values - 5.76s, Calculate Covariance - 1.82s\n",
      "f0,f1,f2 = [6.011561214949182e-10, 6.011561215316138e-10, 6.011561215169608e-10]\n",
      "d01,d02,d12 = [1.0005488937647133, 1.000548893764089, 1.0005488937651421]\n"
     ]
    },
    {
     "name": "stderr",
     "output_type": "stream",
     "text": [
      "Progress:  70%|███████   | 351/500 [1:30:23<34:51, 14.04s/it]"
     ]
    },
    {
     "name": "stdout",
     "output_type": "stream",
     "text": [
      "Time to: Calculate Ground State - 1.32s, Get Pauli Ops - 5.39s, Calculate Pauli Expectation Values - 5.37s, Calculate Covariance - 1.98s\n",
      "f0,f1,f2 = [3.578166493469233e-10, 3.578166493642356e-10, 3.57816649335661e-10]\n",
      "d01,d02,d12 = [1.0032024959854358, 1.0032024959847197, 1.0032024959858505]\n"
     ]
    },
    {
     "name": "stderr",
     "output_type": "stream",
     "text": [
      "Progress:  70%|███████   | 352/500 [1:30:37<34:05, 13.82s/it]"
     ]
    },
    {
     "name": "stdout",
     "output_type": "stream",
     "text": [
      "Time to: Calculate Ground State - 0.76s, Get Pauli Ops - 5.13s, Calculate Pauli Expectation Values - 5.28s, Calculate Covariance - 2.13s\n",
      "f0,f1,f2 = [5.39051041790387e-11, 5.390510413972463e-11, 5.390510411544743e-11]\n",
      "d01,d02,d12 = [1.0062972689098557, 1.0062972689090401, 1.0062972689102432]\n"
     ]
    },
    {
     "name": "stderr",
     "output_type": "stream",
     "text": [
      "Progress:  71%|███████   | 353/500 [1:30:53<35:50, 14.63s/it]"
     ]
    },
    {
     "name": "stdout",
     "output_type": "stream",
     "text": [
      "Time to: Calculate Ground State - 1.36s, Get Pauli Ops - 8.37s, Calculate Pauli Expectation Values - 4.82s, Calculate Covariance - 1.97s\n",
      "f0,f1,f2 = [1.7026619431166318e-09, 1.7026619431179212e-09, 1.702661943094949e-09]\n",
      "d01,d02,d12 = [1.0091501468371462, 1.0091501468362452, 1.0091501468375155]\n"
     ]
    },
    {
     "name": "stderr",
     "output_type": "stream",
     "text": [
      "Progress:  71%|███████   | 354/500 [1:31:07<35:08, 14.44s/it]"
     ]
    },
    {
     "name": "stdout",
     "output_type": "stream",
     "text": [
      "Time to: Calculate Ground State - 1.28s, Get Pauli Ops - 5.22s, Calculate Pauli Expectation Values - 5.21s, Calculate Covariance - 2.28s\n",
      "f0,f1,f2 = [1.0210031055094671e-09, 1.0210031055052934e-09, 1.0210031055442102e-09]\n",
      "d01,d02,d12 = [1.0115032041188117, 1.0115032041178098, 1.0115032041191374]\n"
     ]
    },
    {
     "name": "stderr",
     "output_type": "stream",
     "text": [
      "/cluster/home/mskrabulis/miniconda3/envs/quantech/lib/python3.9/site-packages/pyscf/symm/Dmatrix.py:156: RuntimeWarning: invalid value encountered in arccos\n",
      "  gamma = numpy.arccos(yp.dot(c2[1]))\n",
      "Progress:  71%|███████   | 355/500 [1:31:23<36:14, 14.99s/it]"
     ]
    },
    {
     "name": "stdout",
     "output_type": "stream",
     "text": [
      "Time to: Calculate Ground State - 1.52s, Get Pauli Ops - 5.19s, Calculate Pauli Expectation Values - 7.67s, Calculate Covariance - 1.9s\n",
      "f0,f1,f2 = [1.5367988067533226e-10, 1.53679880710002e-10, 1.5367988067410315e-10]\n",
      "d01,d02,d12 = [1.0133753272303772, 1.0133753272292645, 1.0133753272306596]\n"
     ]
    },
    {
     "name": "stderr",
     "output_type": "stream",
     "text": [
      "/cluster/home/mskrabulis/miniconda3/envs/quantech/lib/python3.9/site-packages/pyscf/symm/Dmatrix.py:156: RuntimeWarning: invalid value encountered in arccos\n",
      "  gamma = numpy.arccos(yp.dot(c2[1]))\n",
      "Progress:  71%|███████   | 356/500 [1:31:38<35:36, 14.84s/it]"
     ]
    },
    {
     "name": "stdout",
     "output_type": "stream",
     "text": [
      "Time to: Calculate Ground State - 1.36s, Get Pauli Ops - 5.21s, Calculate Pauli Expectation Values - 5.67s, Calculate Covariance - 2.22s\n",
      "f0,f1,f2 = [2.5309880674886117e-10, 2.530988067973234e-10, 2.530988067198318e-10]\n",
      "d01,d02,d12 = [1.0149223027369532, 1.0149223027357506, 1.0149223027371967]\n"
     ]
    },
    {
     "name": "stderr",
     "output_type": "stream",
     "text": [
      "Progress:  71%|███████▏  | 357/500 [1:31:51<34:23, 14.43s/it]"
     ]
    },
    {
     "name": "stdout",
     "output_type": "stream",
     "text": [
      "Time to: Calculate Ground State - 1.08s, Get Pauli Ops - 4.53s, Calculate Pauli Expectation Values - 5.76s, Calculate Covariance - 2.11s\n",
      "f0,f1,f2 = [7.52882021881328e-11, 7.528820224459025e-11, 7.528820215188051e-11]\n",
      "d01,d02,d12 = [1.0164432695803138, 1.0164432695790504, 1.0164432695805292]\n"
     ]
    },
    {
     "name": "stderr",
     "output_type": "stream",
     "text": [
      "/cluster/home/mskrabulis/miniconda3/envs/quantech/lib/python3.9/site-packages/pyscf/symm/Dmatrix.py:156: RuntimeWarning: invalid value encountered in arccos\n",
      "  gamma = numpy.arccos(yp.dot(c2[1]))\n",
      "Progress:  72%|███████▏  | 358/500 [1:32:06<34:23, 14.53s/it]"
     ]
    },
    {
     "name": "stdout",
     "output_type": "stream",
     "text": [
      "Time to: Calculate Ground State - 1.11s, Get Pauli Ops - 4.82s, Calculate Pauli Expectation Values - 6.34s, Calculate Covariance - 2.49s\n",
      "f0,f1,f2 = [7.98952705127573e-11, 7.989527046695084e-11, 7.989527046131992e-11]\n",
      "d01,d02,d12 = [1.0177922615246306, 1.0177922615233055, 1.0177922615248056]\n"
     ]
    },
    {
     "name": "stderr",
     "output_type": "stream",
     "text": [
      "/cluster/home/mskrabulis/miniconda3/envs/quantech/lib/python3.9/site-packages/pyscf/symm/Dmatrix.py:156: RuntimeWarning: invalid value encountered in arccos\n",
      "  gamma = numpy.arccos(yp.dot(c2[1]))\n",
      "Progress:  72%|███████▏  | 359/500 [1:32:19<33:12, 14.13s/it]"
     ]
    },
    {
     "name": "stdout",
     "output_type": "stream",
     "text": [
      "Time to: Calculate Ground State - 1.36s, Get Pauli Ops - 4.75s, Calculate Pauli Expectation Values - 5.33s, Calculate Covariance - 1.73s\n",
      "f0,f1,f2 = [2.6533449621351746e-10, 2.653344962491352e-10, 2.6533449625238704e-10]\n",
      "d01,d02,d12 = [1.019149310032811, 1.0191493100314235, 1.0191493100329496]\n"
     ]
    },
    {
     "name": "stderr",
     "output_type": "stream",
     "text": [
      "Progress:  72%|███████▏  | 360/500 [1:32:35<34:05, 14.61s/it]"
     ]
    },
    {
     "name": "stdout",
     "output_type": "stream",
     "text": [
      "Time to: Calculate Ground State - 1.16s, Get Pauli Ops - 5.35s, Calculate Pauli Expectation Values - 7.08s, Calculate Covariance - 2.14s\n",
      "f0,f1,f2 = [1.2611941793551063e-09, 1.2611941793780895e-09, 1.261194179348881e-09]\n",
      "d01,d02,d12 = [1.0200409138940214, 1.0200409138925899, 1.0200409138941289]\n"
     ]
    },
    {
     "name": "stderr",
     "output_type": "stream",
     "text": [
      "/cluster/home/mskrabulis/miniconda3/envs/quantech/lib/python3.9/site-packages/pyscf/symm/Dmatrix.py:156: RuntimeWarning: invalid value encountered in arccos\n",
      "  gamma = numpy.arccos(yp.dot(c2[1]))\n",
      "/cluster/home/mskrabulis/miniconda3/envs/quantech/lib/python3.9/site-packages/pyscf/symm/Dmatrix.py:156: RuntimeWarning: invalid value encountered in arccos\n",
      "  gamma = numpy.arccos(yp.dot(c2[1]))\n",
      "Progress:  72%|███████▏  | 361/500 [1:32:52<35:51, 15.48s/it]"
     ]
    },
    {
     "name": "stdout",
     "output_type": "stream",
     "text": [
      "Time to: Calculate Ground State - 1.39s, Get Pauli Ops - 8.6s, Calculate Pauli Expectation Values - 5.22s, Calculate Covariance - 2.26s\n",
      "f0,f1,f2 = [1.7761791390019876e-09, 1.7761791390631762e-09, 1.7761791390580856e-09]\n",
      "d01,d02,d12 = [1.0200330966901143, 1.0200330966886293, 1.0200330966901703]\n"
     ]
    },
    {
     "name": "stderr",
     "output_type": "stream",
     "text": [
      "/cluster/home/mskrabulis/miniconda3/envs/quantech/lib/python3.9/site-packages/pyscf/symm/Dmatrix.py:156: RuntimeWarning: invalid value encountered in arccos\n",
      "  gamma = numpy.arccos(yp.dot(c2[1]))\n",
      "Progress:  72%|███████▏  | 362/500 [1:33:09<36:06, 15.70s/it]"
     ]
    },
    {
     "name": "stdout",
     "output_type": "stream",
     "text": [
      "Time to: Calculate Ground State - 1.36s, Get Pauli Ops - 5.26s, Calculate Pauli Expectation Values - 7.46s, Calculate Covariance - 2.12s\n",
      "f0,f1,f2 = [1.1762575136009384e-09, 1.1762575136022956e-09, 1.1762575135219277e-09]\n",
      "d01,d02,d12 = [1.0195370043044465, 1.0195370043029355, 1.019537004304465]\n"
     ]
    },
    {
     "name": "stderr",
     "output_type": "stream",
     "text": [
      "Progress:  73%|███████▎  | 363/500 [1:33:24<35:52, 15.71s/it]"
     ]
    },
    {
     "name": "stdout",
     "output_type": "stream",
     "text": [
      "Time to: Calculate Ground State - 1.1s, Get Pauli Ops - 8.31s, Calculate Pauli Expectation Values - 4.9s, Calculate Covariance - 1.42s\n",
      "f0,f1,f2 = [1.8139684529706285e-09, 1.8139684529910911e-09, 1.8139684529580585e-09]\n",
      "d01,d02,d12 = [1.0183195164111971, 1.018319516409669, 1.0183195164111831]\n"
     ]
    },
    {
     "name": "stderr",
     "output_type": "stream",
     "text": [
      "Progress:  73%|███████▎  | 364/500 [1:33:39<34:57, 15.43s/it]"
     ]
    },
    {
     "name": "stdout",
     "output_type": "stream",
     "text": [
      "Time to: Calculate Ground State - 0.95s, Get Pauli Ops - 4.57s, Calculate Pauli Expectation Values - 7.26s, Calculate Covariance - 1.98s\n",
      "f0,f1,f2 = [1.1839846818064515e-09, 1.1839846818999032e-09, 1.1839846818362037e-09]\n",
      "d01,d02,d12 = [1.0167042326701692, 1.0167042326686457, 1.016704232670112]\n"
     ]
    },
    {
     "name": "stderr",
     "output_type": "stream",
     "text": [
      "/cluster/home/mskrabulis/miniconda3/envs/quantech/lib/python3.9/site-packages/pyscf/symm/Dmatrix.py:156: RuntimeWarning: invalid value encountered in arccos\n",
      "  gamma = numpy.arccos(yp.dot(c2[1]))\n",
      "/cluster/home/mskrabulis/miniconda3/envs/quantech/lib/python3.9/site-packages/pyscf/symm/Dmatrix.py:156: RuntimeWarning: invalid value encountered in arccos\n",
      "  gamma = numpy.arccos(yp.dot(c2[1]))\n",
      "Progress:  73%|███████▎  | 365/500 [1:33:56<35:47, 15.91s/it]"
     ]
    },
    {
     "name": "stdout",
     "output_type": "stream",
     "text": [
      "Time to: Calculate Ground State - 1.32s, Get Pauli Ops - 8.23s, Calculate Pauli Expectation Values - 5.41s, Calculate Covariance - 2.06s\n",
      "f0,f1,f2 = [2.412235112396703e-10, 2.412235112499814e-10, 2.4122351122543457e-10]\n",
      "d01,d02,d12 = [1.0152051703150857, 1.0152051703135683, 1.0152051703149854]\n"
     ]
    },
    {
     "name": "stderr",
     "output_type": "stream",
     "text": [
      "Progress:  73%|███████▎  | 366/500 [1:34:08<33:00, 14.78s/it]"
     ]
    },
    {
     "name": "stdout",
     "output_type": "stream",
     "text": [
      "Time to: Calculate Ground State - 0.85s, Get Pauli Ops - 4.38s, Calculate Pauli Expectation Values - 5.09s, Calculate Covariance - 1.82s\n",
      "f0,f1,f2 = [1.1866091438930763e-09, 1.1866091439280313e-09, 1.1866091439425715e-09]\n",
      "d01,d02,d12 = [1.0132380604646238, 1.0132380604631124, 1.0132380604644706]\n"
     ]
    },
    {
     "name": "stderr",
     "output_type": "stream",
     "text": [
      "Progress:  73%|███████▎  | 367/500 [1:34:22<32:08, 14.50s/it]"
     ]
    },
    {
     "name": "stdout",
     "output_type": "stream",
     "text": [
      "Time to: Calculate Ground State - 1.08s, Get Pauli Ops - 4.65s, Calculate Pauli Expectation Values - 6.15s, Calculate Covariance - 1.97s\n",
      "f0,f1,f2 = [5.344732007134377e-10, 5.34473200713557e-10, 5.344732007578701e-10]\n",
      "d01,d02,d12 = [1.010884688186775, 1.010884688185265, 1.0108846881865639]\n"
     ]
    },
    {
     "name": "stderr",
     "output_type": "stream",
     "text": [
      "/cluster/home/mskrabulis/miniconda3/envs/quantech/lib/python3.9/site-packages/pyscf/symm/Dmatrix.py:156: RuntimeWarning: invalid value encountered in arccos\n",
      "  gamma = numpy.arccos(yp.dot(c2[1]))\n",
      "Progress:  74%|███████▎  | 368/500 [1:34:36<31:34, 14.35s/it]"
     ]
    },
    {
     "name": "stdout",
     "output_type": "stream",
     "text": [
      "Time to: Calculate Ground State - 1.23s, Get Pauli Ops - 4.86s, Calculate Pauli Expectation Values - 5.55s, Calculate Covariance - 2.34s\n",
      "f0,f1,f2 = [1.3063878257450842e-09, 1.3063878257112792e-09, 1.3063878257591541e-09]\n",
      "d01,d02,d12 = [1.0076321763113787, 1.0076321763098748, 1.0076321763111233]\n"
     ]
    },
    {
     "name": "stderr",
     "output_type": "stream",
     "text": [
      "Progress:  74%|███████▍  | 369/500 [1:34:49<30:27, 13.95s/it]"
     ]
    },
    {
     "name": "stdout",
     "output_type": "stream",
     "text": [
      "Time to: Calculate Ground State - 1.3s, Get Pauli Ops - 4.66s, Calculate Pauli Expectation Values - 5.57s, Calculate Covariance - 1.48s\n",
      "f0,f1,f2 = [1.349056334365674e-09, 1.3490563343335592e-09, 1.349056334319178e-09]\n",
      "d01,d02,d12 = [1.0037405494741156, 1.003740549472619, 1.0037405494738167]\n"
     ]
    },
    {
     "name": "stderr",
     "output_type": "stream",
     "text": [
      "Progress:  74%|███████▍  | 370/500 [1:35:03<30:16, 13.98s/it]"
     ]
    },
    {
     "name": "stdout",
     "output_type": "stream",
     "text": [
      "Time to: Calculate Ground State - 1.16s, Get Pauli Ops - 4.99s, Calculate Pauli Expectation Values - 5.63s, Calculate Covariance - 2.25s\n",
      "f0,f1,f2 = [3.8973601658742166e-10, 3.8973601661454325e-10, 3.897360166656016e-10]\n",
      "d01,d02,d12 = [1.0007174869030733, 1.000717486901596, 1.0007174869027522]\n"
     ]
    },
    {
     "name": "stderr",
     "output_type": "stream",
     "text": [
      "/cluster/home/mskrabulis/miniconda3/envs/quantech/lib/python3.9/site-packages/pyscf/symm/Dmatrix.py:156: RuntimeWarning: invalid value encountered in arccos\n",
      "  gamma = numpy.arccos(yp.dot(c2[1]))\n",
      "Progress:  74%|███████▍  | 371/500 [1:35:20<31:44, 14.76s/it]"
     ]
    },
    {
     "name": "stdout",
     "output_type": "stream",
     "text": [
      "Time to: Calculate Ground State - 1.49s, Get Pauli Ops - 5.25s, Calculate Pauli Expectation Values - 7.73s, Calculate Covariance - 2.12s\n",
      "f0,f1,f2 = [1.1512120684967764e-09, 1.1512120685063065e-09, 1.1512120684995979e-09]\n",
      "d01,d02,d12 = [0.9968935370348797, 0.9968935370334386, 0.9968935370345405]\n"
     ]
    },
    {
     "name": "stderr",
     "output_type": "stream",
     "text": [
      "Progress:  74%|███████▍  | 372/500 [1:35:34<31:00, 14.53s/it]"
     ]
    },
    {
     "name": "stdout",
     "output_type": "stream",
     "text": [
      "Time to: Calculate Ground State - 1.4s, Get Pauli Ops - 5.31s, Calculate Pauli Expectation Values - 5.15s, Calculate Covariance - 2.13s\n",
      "f0,f1,f2 = [5.3355084449713514e-12, 5.335508434325998e-12, 5.3355084600107244e-12]\n",
      "d01,d02,d12 = [0.9923719302379768, 0.9923719302365847, 0.9923719302376298]\n"
     ]
    },
    {
     "name": "stderr",
     "output_type": "stream",
     "text": [
      "/cluster/home/mskrabulis/miniconda3/envs/quantech/lib/python3.9/site-packages/pyscf/symm/Dmatrix.py:156: RuntimeWarning: invalid value encountered in arccos\n",
      "  gamma = numpy.arccos(yp.dot(c2[1]))\n",
      "Progress:  75%|███████▍  | 373/500 [1:35:51<32:40, 15.44s/it]"
     ]
    },
    {
     "name": "stdout",
     "output_type": "stream",
     "text": [
      "Time to: Calculate Ground State - 1.23s, Get Pauli Ops - 5.23s, Calculate Pauli Expectation Values - 9.22s, Calculate Covariance - 1.86s\n",
      "f0,f1,f2 = [1.2624921088971614e-09, 1.262492108883946e-09, 1.2624921089182876e-09]\n",
      "d01,d02,d12 = [0.9877139269392834, 0.9877139269379396, 0.9877139269389325]\n"
     ]
    },
    {
     "name": "stderr",
     "output_type": "stream",
     "text": [
      "Progress:  75%|███████▍  | 374/500 [1:36:10<34:19, 16.35s/it]"
     ]
    },
    {
     "name": "stdout",
     "output_type": "stream",
     "text": [
      "Time to: Calculate Ground State - 1.34s, Get Pauli Ops - 5.33s, Calculate Pauli Expectation Values - 9.28s, Calculate Covariance - 2.5s\n",
      "f0,f1,f2 = [4.5432059227264924e-10, 4.5432059227513177e-10, 4.543205922756784e-10]\n",
      "d01,d02,d12 = [0.9826247058506088, 0.9826247058493119, 0.9826247058502522]\n"
     ]
    },
    {
     "name": "stderr",
     "output_type": "stream",
     "text": [
      "Progress:  75%|███████▌  | 375/500 [1:36:23<32:07, 15.42s/it]"
     ]
    },
    {
     "name": "stdout",
     "output_type": "stream",
     "text": [
      "Time to: Calculate Ground State - 1.23s, Get Pauli Ops - 4.6s, Calculate Pauli Expectation Values - 5.24s, Calculate Covariance - 2.18s\n",
      "f0,f1,f2 = [1.6565960864623276e-09, 1.65659608644226e-09, 1.6565960864769817e-09]\n",
      "d01,d02,d12 = [0.9770150661065264, 0.9770150661052681, 0.9770150661061655]\n"
     ]
    },
    {
     "name": "stderr",
     "output_type": "stream",
     "text": [
      "Progress:  75%|███████▌  | 376/500 [1:36:37<30:47, 14.90s/it]"
     ]
    },
    {
     "name": "stdout",
     "output_type": "stream",
     "text": [
      "Time to: Calculate Ground State - 0.79s, Get Pauli Ops - 5.06s, Calculate Pauli Expectation Values - 5.39s, Calculate Covariance - 2.44s\n",
      "f0,f1,f2 = [7.324226181773048e-10, 7.324226181182262e-10, 7.324226181760399e-10]\n",
      "d01,d02,d12 = [0.9715308379821379, 0.9715308379809359, 0.9715308379817734]\n"
     ]
    },
    {
     "name": "stderr",
     "output_type": "stream",
     "text": [
      "Progress:  75%|███████▌  | 377/500 [1:36:51<30:02, 14.65s/it]"
     ]
    },
    {
     "name": "stdout",
     "output_type": "stream",
     "text": [
      "Time to: Calculate Ground State - 1.33s, Get Pauli Ops - 5.27s, Calculate Pauli Expectation Values - 5.28s, Calculate Covariance - 2.19s\n",
      "f0,f1,f2 = [6.865763773107325e-10, 6.865763772878076e-10, 6.865763773029508e-10]\n",
      "d01,d02,d12 = [0.9671983099282303, 0.9671983099270923, 0.9671983099278729]\n"
     ]
    },
    {
     "name": "stderr",
     "output_type": "stream",
     "text": [
      "Progress:  76%|███████▌  | 378/500 [1:37:04<29:05, 14.31s/it]"
     ]
    },
    {
     "name": "stdout",
     "output_type": "stream",
     "text": [
      "Time to: Calculate Ground State - 1.09s, Get Pauli Ops - 4.59s, Calculate Pauli Expectation Values - 5.5s, Calculate Covariance - 2.31s\n",
      "f0,f1,f2 = [1.0224113932605327e-09, 1.022411393245949e-09, 1.0224113932551604e-09]\n",
      "d01,d02,d12 = [0.9633257531908115, 0.9633257531897393, 0.9633257531904617]\n"
     ]
    },
    {
     "name": "stderr",
     "output_type": "stream",
     "text": [
      "Progress:  76%|███████▌  | 379/500 [1:37:19<28:46, 14.27s/it]"
     ]
    },
    {
     "name": "stdout",
     "output_type": "stream",
     "text": [
      "Time to: Calculate Ground State - 1.41s, Get Pauli Ops - 4.74s, Calculate Pauli Expectation Values - 5.71s, Calculate Covariance - 2.29s\n",
      "f0,f1,f2 = [1.6535575599519668e-09, 1.6535575599544072e-09, 1.6535575599931978e-09]\n",
      "d01,d02,d12 = [0.9597953720261966, 0.9597953720251977, 0.9597953720258676]\n"
     ]
    },
    {
     "name": "stderr",
     "output_type": "stream",
     "text": [
      "/cluster/home/mskrabulis/miniconda3/envs/quantech/lib/python3.9/site-packages/pyscf/symm/Dmatrix.py:156: RuntimeWarning: invalid value encountered in arccos\n",
      "  gamma = numpy.arccos(yp.dot(c2[1]))\n",
      "Progress:  76%|███████▌  | 380/500 [1:37:33<28:22, 14.19s/it]"
     ]
    },
    {
     "name": "stdout",
     "output_type": "stream",
     "text": [
      "Time to: Calculate Ground State - 1.38s, Get Pauli Ops - 5.18s, Calculate Pauli Expectation Values - 5.51s, Calculate Covariance - 1.92s\n",
      "f0,f1,f2 = [1.1456932627283145e-09, 1.145693262749487e-09, 1.1456932627805925e-09]\n",
      "d01,d02,d12 = [0.9564588528552056, 0.9564588528542848, 0.9564588528549112]\n"
     ]
    },
    {
     "name": "stderr",
     "output_type": "stream",
     "text": [
      "/cluster/home/mskrabulis/miniconda3/envs/quantech/lib/python3.9/site-packages/pyscf/symm/Dmatrix.py:156: RuntimeWarning: invalid value encountered in arccos\n",
      "  gamma = numpy.arccos(yp.dot(c2[1]))\n",
      "Progress:  76%|███████▌  | 381/500 [1:37:47<28:11, 14.21s/it]"
     ]
    },
    {
     "name": "stdout",
     "output_type": "stream",
     "text": [
      "Time to: Calculate Ground State - 1.05s, Get Pauli Ops - 5.3s, Calculate Pauli Expectation Values - 5.69s, Calculate Covariance - 2.22s\n",
      "f0,f1,f2 = [2.266145398708424e-09, 2.266145398707291e-09, 2.2661453986848886e-09]\n",
      "d01,d02,d12 = [0.9536592694863678, 0.9536592694855095, 0.9536592694861001]\n"
     ]
    },
    {
     "name": "stderr",
     "output_type": "stream",
     "text": [
      "Progress:  76%|███████▋  | 382/500 [1:38:01<28:05, 14.29s/it]"
     ]
    },
    {
     "name": "stdout",
     "output_type": "stream",
     "text": [
      "Time to: Calculate Ground State - 1.45s, Get Pauli Ops - 5.09s, Calculate Pauli Expectation Values - 5.53s, Calculate Covariance - 2.37s\n",
      "f0,f1,f2 = [1.333530723468708e-09, 1.3335307234846832e-09, 1.3335307234737383e-09]\n",
      "d01,d02,d12 = [0.9515072853158698, 0.9515072853150754, 0.9515072853156302]\n"
     ]
    },
    {
     "name": "stderr",
     "output_type": "stream",
     "text": [
      "/cluster/home/mskrabulis/miniconda3/envs/quantech/lib/python3.9/site-packages/pyscf/symm/Dmatrix.py:156: RuntimeWarning: invalid value encountered in arccos\n",
      "  gamma = numpy.arccos(yp.dot(c2[1]))\n",
      "/cluster/home/mskrabulis/miniconda3/envs/quantech/lib/python3.9/site-packages/pyscf/symm/Dmatrix.py:156: RuntimeWarning: invalid value encountered in arccos\n",
      "  gamma = numpy.arccos(yp.dot(c2[1]))\n",
      "Progress:  77%|███████▋  | 383/500 [1:38:15<27:36, 14.16s/it]"
     ]
    },
    {
     "name": "stdout",
     "output_type": "stream",
     "text": [
      "Time to: Calculate Ground State - 1.42s, Get Pauli Ops - 5.36s, Calculate Pauli Expectation Values - 5.4s, Calculate Covariance - 1.67s\n",
      "f0,f1,f2 = [2.4091848381582416e-09, 2.4091848381119853e-09, 2.4091848381736284e-09]\n",
      "d01,d02,d12 = [0.9504627678441544, 0.9504627678434363, 0.9504627678439445]\n"
     ]
    },
    {
     "name": "stderr",
     "output_type": "stream",
     "text": [
      "Progress:  77%|███████▋  | 384/500 [1:38:34<30:14, 15.64s/it]"
     ]
    },
    {
     "name": "stdout",
     "output_type": "stream",
     "text": [
      "Time to: Calculate Ground State - 1.3s, Get Pauli Ops - 9.9s, Calculate Pauli Expectation Values - 5.52s, Calculate Covariance - 2.38s\n",
      "f0,f1,f2 = [2.0389679425270462e-09, 2.0389679424497206e-09, 2.0389679425052484e-09]\n",
      "d01,d02,d12 = [0.9503547148009398, 0.9503547148003052, 0.9503547148007547]\n"
     ]
    },
    {
     "name": "stderr",
     "output_type": "stream",
     "text": [
      "/cluster/home/mskrabulis/miniconda3/envs/quantech/lib/python3.9/site-packages/pyscf/symm/Dmatrix.py:156: RuntimeWarning: invalid value encountered in arccos\n",
      "  gamma = numpy.arccos(yp.dot(c2[1]))\n",
      "Progress:  77%|███████▋  | 385/500 [1:38:49<29:13, 15.25s/it]"
     ]
    },
    {
     "name": "stdout",
     "output_type": "stream",
     "text": [
      "Time to: Calculate Ground State - 1.37s, Get Pauli Ops - 5.3s, Calculate Pauli Expectation Values - 5.42s, Calculate Covariance - 2.22s\n",
      "f0,f1,f2 = [1.9709268536315443e-09, 1.9709268536319496e-09, 1.9709268536602396e-09]\n",
      "d01,d02,d12 = [0.9510731174356296, 0.9510731174350822, 0.9510731174354687]\n"
     ]
    },
    {
     "name": "stderr",
     "output_type": "stream",
     "text": [
      "Progress:  77%|███████▋  | 386/500 [1:39:04<29:13, 15.38s/it]"
     ]
    },
    {
     "name": "stdout",
     "output_type": "stream",
     "text": [
      "Time to: Calculate Ground State - 1.11s, Get Pauli Ops - 5.32s, Calculate Pauli Expectation Values - 7.03s, Calculate Covariance - 2.22s\n",
      "f0,f1,f2 = [2.3614275340379295e-09, 2.3614275339849477e-09, 2.3614275340030464e-09]\n",
      "d01,d02,d12 = [0.952753698775936, 0.9527536987754907, 0.9527536987757959]\n"
     ]
    },
    {
     "name": "stderr",
     "output_type": "stream",
     "text": [
      "Progress:  77%|███████▋  | 387/500 [1:39:21<29:58, 15.92s/it]"
     ]
    },
    {
     "name": "stdout",
     "output_type": "stream",
     "text": [
      "Time to: Calculate Ground State - 1.37s, Get Pauli Ops - 7.81s, Calculate Pauli Expectation Values - 5.86s, Calculate Covariance - 2.13s\n",
      "f0,f1,f2 = [1.493115096497018e-09, 1.4931150964436904e-09, 1.4931150964562894e-09]\n",
      "d01,d02,d12 = [0.9547880108971981, 0.9547880108968549, 0.9547880108970739]\n"
     ]
    },
    {
     "name": "stderr",
     "output_type": "stream",
     "text": [
      "/cluster/home/mskrabulis/miniconda3/envs/quantech/lib/python3.9/site-packages/pyscf/symm/Dmatrix.py:156: RuntimeWarning: invalid value encountered in arccos\n",
      "  gamma = numpy.arccos(yp.dot(c2[1]))\n",
      "Progress:  78%|███████▊  | 388/500 [1:39:36<29:09, 15.62s/it]"
     ]
    },
    {
     "name": "stdout",
     "output_type": "stream",
     "text": [
      "Time to: Calculate Ground State - 1.32s, Get Pauli Ops - 5.47s, Calculate Pauli Expectation Values - 5.81s, Calculate Covariance - 2.32s\n",
      "f0,f1,f2 = [1.987880347888135e-10, 1.9878803479873864e-10, 1.9878803478283813e-10]\n",
      "d01,d02,d12 = [0.9567952836802729, 0.9567952836800242, 0.956795283680154]\n"
     ]
    },
    {
     "name": "stderr",
     "output_type": "stream",
     "text": [
      "Progress:  78%|███████▊  | 389/500 [1:39:53<29:35, 16.00s/it]"
     ]
    },
    {
     "name": "stdout",
     "output_type": "stream",
     "text": [
      "Time to: Calculate Ground State - 1.39s, Get Pauli Ops - 8.14s, Calculate Pauli Expectation Values - 5.06s, Calculate Covariance - 2.27s\n",
      "f0,f1,f2 = [1.5393649899671562e-09, 1.5393649899375086e-09, 1.5393649899555412e-09]\n",
      "d01,d02,d12 = [0.9597230242134507, 0.9597230242132937, 0.9597230242133322]\n"
     ]
    },
    {
     "name": "stderr",
     "output_type": "stream",
     "text": [
      "Progress:  78%|███████▊  | 390/500 [1:40:06<27:37, 15.07s/it]"
     ]
    },
    {
     "name": "stdout",
     "output_type": "stream",
     "text": [
      "Time to: Calculate Ground State - 1.06s, Get Pauli Ops - 4.77s, Calculate Pauli Expectation Values - 4.98s, Calculate Covariance - 2.09s\n",
      "f0,f1,f2 = [1.0586355133998564e-10, 1.0586355133152498e-10, 1.0586355136398276e-10]\n",
      "d01,d02,d12 = [0.962444165282003, 0.9624441652819424, 0.9624441652818931]\n"
     ]
    },
    {
     "name": "stderr",
     "output_type": "stream",
     "text": [
      "/cluster/home/mskrabulis/miniconda3/envs/quantech/lib/python3.9/site-packages/pyscf/symm/Dmatrix.py:156: RuntimeWarning: invalid value encountered in arccos\n",
      "  gamma = numpy.arccos(yp.dot(c2[1]))\n",
      "Progress:  78%|███████▊  | 391/500 [1:40:19<25:58, 14.30s/it]"
     ]
    },
    {
     "name": "stdout",
     "output_type": "stream",
     "text": [
      "Time to: Calculate Ground State - 1.39s, Get Pauli Ops - 4.67s, Calculate Pauli Expectation Values - 4.96s, Calculate Covariance - 1.45s\n",
      "f0,f1,f2 = [1.0314154059011875e-09, 1.0314154059029798e-09, 1.0314154059210479e-09]\n",
      "d01,d02,d12 = [0.9652784383371666, 0.9652784383371958, 0.9652784383370694]\n"
     ]
    },
    {
     "name": "stderr",
     "output_type": "stream",
     "text": [
      "Progress:  78%|███████▊  | 392/500 [1:40:34<26:09, 14.53s/it]"
     ]
    },
    {
     "name": "stdout",
     "output_type": "stream",
     "text": [
      "Time to: Calculate Ground State - 1.13s, Get Pauli Ops - 7.0s, Calculate Pauli Expectation Values - 5.34s, Calculate Covariance - 1.62s\n",
      "f0,f1,f2 = [4.40243216035259e-10, 4.402432160241983e-10, 4.402432160111585e-10]\n",
      "d01,d02,d12 = [0.9686169021945936, 0.9686169021947053, 0.9686169021945036]\n"
     ]
    },
    {
     "name": "stderr",
     "output_type": "stream",
     "text": [
      "/cluster/home/mskrabulis/miniconda3/envs/quantech/lib/python3.9/site-packages/pyscf/symm/Dmatrix.py:156: RuntimeWarning: invalid value encountered in arccos\n",
      "  gamma = numpy.arccos(yp.dot(c2[1]))\n",
      "Progress:  79%|███████▊  | 393/500 [1:40:49<26:19, 14.76s/it]"
     ]
    },
    {
     "name": "stdout",
     "output_type": "stream",
     "text": [
      "Time to: Calculate Ground State - 1.26s, Get Pauli Ops - 5.32s, Calculate Pauli Expectation Values - 6.15s, Calculate Covariance - 2.54s\n",
      "f0,f1,f2 = [4.937486300317552e-10, 4.937486300352376e-10, 4.937486300114622e-10]\n",
      "d01,d02,d12 = [0.9719416487133019, 0.9719416487134788, 0.9719416487132162]\n"
     ]
    },
    {
     "name": "stderr",
     "output_type": "stream",
     "text": [
      "Progress:  79%|███████▉  | 394/500 [1:41:04<26:07, 14.79s/it]"
     ]
    },
    {
     "name": "stdout",
     "output_type": "stream",
     "text": [
      "Time to: Calculate Ground State - 1.21s, Get Pauli Ops - 5.3s, Calculate Pauli Expectation Values - 6.0s, Calculate Covariance - 2.35s\n",
      "f0,f1,f2 = [3.919328257898255e-10, 3.919328258019425e-10, 3.919328258257761e-10]\n",
      "d01,d02,d12 = [0.9750473235771016, 0.9750473235773288, 0.9750473235770022]\n"
     ]
    },
    {
     "name": "stderr",
     "output_type": "stream",
     "text": [
      "Progress:  79%|███████▉  | 395/500 [1:41:19<25:54, 14.81s/it]"
     ]
    },
    {
     "name": "stdout",
     "output_type": "stream",
     "text": [
      "Time to: Calculate Ground State - 1.41s, Get Pauli Ops - 5.18s, Calculate Pauli Expectation Values - 5.95s, Calculate Covariance - 2.29s\n",
      "f0,f1,f2 = [1.166025895839463e-09, 1.1660258958806324e-09, 1.1660258958852178e-09]\n",
      "d01,d02,d12 = [0.978593438339859, 0.9785934383401459, 0.9785934383397538]\n"
     ]
    },
    {
     "name": "stderr",
     "output_type": "stream",
     "text": [
      "Progress:  79%|███████▉  | 396/500 [1:41:36<26:46, 15.45s/it]"
     ]
    },
    {
     "name": "stdout",
     "output_type": "stream",
     "text": [
      "Time to: Calculate Ground State - 1.31s, Get Pauli Ops - 7.43s, Calculate Pauli Expectation Values - 5.9s, Calculate Covariance - 2.31s\n",
      "f0,f1,f2 = [7.15689384383788e-10, 7.156893844382296e-10, 7.156893843644255e-10]\n",
      "d01,d02,d12 = [0.9821567282527716, 0.9821567282531027, 0.9821567282526602]\n"
     ]
    },
    {
     "name": "stderr",
     "output_type": "stream",
     "text": [
      "Progress:  79%|███████▉  | 397/500 [1:41:50<25:50, 15.06s/it]"
     ]
    },
    {
     "name": "stdout",
     "output_type": "stream",
     "text": [
      "Time to: Calculate Ground State - 1.36s, Get Pauli Ops - 5.28s, Calculate Pauli Expectation Values - 5.17s, Calculate Covariance - 2.33s\n",
      "f0,f1,f2 = [4.027521135642578e-10, 4.0275211359368986e-10, 4.027521135367163e-10]\n",
      "d01,d02,d12 = [0.9863078026199337, 0.986307802620289, 0.9863078026198021]\n"
     ]
    },
    {
     "name": "stderr",
     "output_type": "stream",
     "text": [
      "/cluster/home/mskrabulis/miniconda3/envs/quantech/lib/python3.9/site-packages/pyscf/symm/Dmatrix.py:156: RuntimeWarning: invalid value encountered in arccos\n",
      "  gamma = numpy.arccos(yp.dot(c2[1]))\n",
      "Progress:  80%|███████▉  | 398/500 [1:42:04<24:58, 14.69s/it]"
     ]
    },
    {
     "name": "stdout",
     "output_type": "stream",
     "text": [
      "Time to: Calculate Ground State - 1.32s, Get Pauli Ops - 5.31s, Calculate Pauli Expectation Values - 5.02s, Calculate Covariance - 2.18s\n",
      "f0,f1,f2 = [1.009174972757751e-09, 1.0091749727689802e-09, 1.0091749727238747e-09]\n",
      "d01,d02,d12 = [0.9900438314721842, 0.9900438314725769, 0.9900438314720424]\n"
     ]
    },
    {
     "name": "stderr",
     "output_type": "stream",
     "text": [
      "/cluster/home/mskrabulis/miniconda3/envs/quantech/lib/python3.9/site-packages/pyscf/symm/Dmatrix.py:156: RuntimeWarning: invalid value encountered in arccos\n",
      "  gamma = numpy.arccos(yp.dot(c2[1]))\n",
      "Progress:  80%|███████▉  | 399/500 [1:42:17<24:10, 14.37s/it]"
     ]
    },
    {
     "name": "stdout",
     "output_type": "stream",
     "text": [
      "Time to: Calculate Ground State - 1.36s, Get Pauli Ops - 4.94s, Calculate Pauli Expectation Values - 5.31s, Calculate Covariance - 1.99s\n",
      "f0,f1,f2 = [3.7432542055535925e-10, 3.743254205205201e-10, 3.7432542052232393e-10]\n",
      "d01,d02,d12 = [0.9932389022634787, 0.9932389022639022, 0.9932389022633228]\n"
     ]
    },
    {
     "name": "stderr",
     "output_type": "stream",
     "text": [
      "/cluster/home/mskrabulis/miniconda3/envs/quantech/lib/python3.9/site-packages/pyscf/symm/Dmatrix.py:156: RuntimeWarning: invalid value encountered in arccos\n",
      "  gamma = numpy.arccos(yp.dot(c2[1]))\n",
      "Progress:  80%|████████  | 400/500 [1:42:31<23:30, 14.11s/it]"
     ]
    },
    {
     "name": "stdout",
     "output_type": "stream",
     "text": [
      "Time to: Calculate Ground State - 1.34s, Get Pauli Ops - 4.63s, Calculate Pauli Expectation Values - 5.06s, Calculate Covariance - 2.46s\n",
      "f0,f1,f2 = [1.0127742640912378e-09, 1.0127742640800795e-09, 1.0127742641139488e-09]\n",
      "d01,d02,d12 = [0.9958009537115767, 0.99580095371202, 0.9958009537113929]\n"
     ]
    },
    {
     "name": "stderr",
     "output_type": "stream",
     "text": [
      "Progress:  80%|████████  | 401/500 [1:42:49<25:27, 15.43s/it]"
     ]
    },
    {
     "name": "stdout",
     "output_type": "stream",
     "text": [
      "Time to: Calculate Ground State - 1.39s, Get Pauli Ops - 8.96s, Calculate Pauli Expectation Values - 5.92s, Calculate Covariance - 2.23s\n",
      "f0,f1,f2 = [6.97590445404316e-10, 6.975904453846264e-10, 6.975904454430594e-10]\n",
      "d01,d02,d12 = [0.9981210757486441, 0.9981210757491017, 0.9981210757484259]\n"
     ]
    },
    {
     "name": "stderr",
     "output_type": "stream",
     "text": [
      "/cluster/home/mskrabulis/miniconda3/envs/quantech/lib/python3.9/site-packages/pyscf/symm/Dmatrix.py:156: RuntimeWarning: invalid value encountered in arccos\n",
      "  gamma = numpy.arccos(yp.dot(c2[1]))\n",
      "Progress:  80%|████████  | 402/500 [1:43:04<24:53, 15.24s/it]"
     ]
    },
    {
     "name": "stdout",
     "output_type": "stream",
     "text": [
      "Time to: Calculate Ground State - 1.3s, Get Pauli Ops - 5.39s, Calculate Pauli Expectation Values - 5.76s, Calculate Covariance - 2.35s\n",
      "f0,f1,f2 = [2.712974175042278e-10, 2.712974175270842e-10, 2.7129741753910244e-10]\n",
      "d01,d02,d12 = [0.9999289720021645, 0.9999289720026376, 0.9999289720019036]\n"
     ]
    },
    {
     "name": "stderr",
     "output_type": "stream",
     "text": [
      "Progress:  81%|████████  | 403/500 [1:43:24<26:39, 16.49s/it]"
     ]
    },
    {
     "name": "stdout",
     "output_type": "stream",
     "text": [
      "Time to: Calculate Ground State - 1.28s, Get Pauli Ops - 8.45s, Calculate Pauli Expectation Values - 7.38s, Calculate Covariance - 2.26s\n",
      "f0,f1,f2 = [3.4304283047561756e-10, 3.430428304575297e-10, 3.4304283052679104e-10]\n",
      "d01,d02,d12 = [1.0016570375419542, 1.0016570375424305, 1.0016570375416396]\n"
     ]
    },
    {
     "name": "stderr",
     "output_type": "stream",
     "text": [
      "/cluster/home/mskrabulis/miniconda3/envs/quantech/lib/python3.9/site-packages/pyscf/symm/Dmatrix.py:156: RuntimeWarning: invalid value encountered in arccos\n",
      "  gamma = numpy.arccos(yp.dot(c2[1]))\n",
      "Progress:  81%|████████  | 404/500 [1:43:38<25:29, 15.93s/it]"
     ]
    },
    {
     "name": "stdout",
     "output_type": "stream",
     "text": [
      "Time to: Calculate Ground State - 1.27s, Get Pauli Ops - 5.26s, Calculate Pauli Expectation Values - 5.69s, Calculate Covariance - 2.38s\n",
      "f0,f1,f2 = [1.6601444491310933e-09, 1.660144449167672e-09, 1.6601444491524269e-09]\n",
      "d01,d02,d12 = [1.0023007049946053, 1.0023007049950847, 1.0023007049942283]\n"
     ]
    },
    {
     "name": "stderr",
     "output_type": "stream",
     "text": [
      "/cluster/home/mskrabulis/miniconda3/envs/quantech/lib/python3.9/site-packages/pyscf/symm/Dmatrix.py:156: RuntimeWarning: invalid value encountered in arccos\n",
      "  gamma = numpy.arccos(yp.dot(c2[1]))\n",
      "Progress:  81%|████████  | 405/500 [1:43:53<24:36, 15.54s/it]"
     ]
    },
    {
     "name": "stdout",
     "output_type": "stream",
     "text": [
      "Time to: Calculate Ground State - 1.35s, Get Pauli Ops - 5.33s, Calculate Pauli Expectation Values - 5.61s, Calculate Covariance - 2.33s\n",
      "f0,f1,f2 = [1.0403766114035893e-09, 1.0403766114066983e-09, 1.0403766114177084e-09]\n",
      "d01,d02,d12 = [1.0024281260449444, 1.0024281260454113, 1.0024281260444998]\n"
     ]
    },
    {
     "name": "stderr",
     "output_type": "stream",
     "text": [
      "/cluster/home/mskrabulis/miniconda3/envs/quantech/lib/python3.9/site-packages/pyscf/symm/Dmatrix.py:156: RuntimeWarning: invalid value encountered in arccos\n",
      "  gamma = numpy.arccos(yp.dot(c2[1]))\n",
      "Progress:  81%|████████  | 406/500 [1:44:09<24:45, 15.80s/it]"
     ]
    },
    {
     "name": "stdout",
     "output_type": "stream",
     "text": [
      "Time to: Calculate Ground State - 1.36s, Get Pauli Ops - 4.76s, Calculate Pauli Expectation Values - 7.79s, Calculate Covariance - 2.48s\n",
      "f0,f1,f2 = [4.076333881635444e-10, 4.076333881270888e-10, 4.076333882016852e-10]\n",
      "d01,d02,d12 = [1.0023892628034123, 1.0023892628038424, 1.002389262802894]\n"
     ]
    },
    {
     "name": "stderr",
     "output_type": "stream",
     "text": [
      "Progress:  81%|████████▏ | 407/500 [1:44:24<23:48, 15.36s/it]"
     ]
    },
    {
     "name": "stdout",
     "output_type": "stream",
     "text": [
      "Time to: Calculate Ground State - 1.37s, Get Pauli Ops - 5.27s, Calculate Pauli Expectation Values - 5.49s, Calculate Covariance - 2.21s\n",
      "f0,f1,f2 = [1.402608330734596e-10, 1.4026083305855472e-10, 1.4026083306532946e-10]\n",
      "d01,d02,d12 = [1.0022938898838616, 1.0022938898842448, 1.0022938898832685]\n"
     ]
    },
    {
     "name": "stderr",
     "output_type": "stream",
     "text": [
      "Progress:  82%|████████▏ | 408/500 [1:44:39<23:40, 15.45s/it]"
     ]
    },
    {
     "name": "stdout",
     "output_type": "stream",
     "text": [
      "Time to: Calculate Ground State - 1.31s, Get Pauli Ops - 4.99s, Calculate Pauli Expectation Values - 7.14s, Calculate Covariance - 2.18s\n",
      "f0,f1,f2 = [4.4708782534256437e-10, 4.4708782534667215e-10, 4.4708782535753267e-10]\n",
      "d01,d02,d12 = [1.0023774295163816, 1.0023774295167163, 1.002377429515716]\n"
     ]
    },
    {
     "name": "stderr",
     "output_type": "stream",
     "text": [
      "Progress:  82%|████████▏ | 409/500 [1:44:52<22:19, 14.71s/it]"
     ]
    },
    {
     "name": "stdout",
     "output_type": "stream",
     "text": [
      "Time to: Calculate Ground State - 1.35s, Get Pauli Ops - 4.54s, Calculate Pauli Expectation Values - 5.4s, Calculate Covariance - 1.71s\n",
      "f0,f1,f2 = [1.4484512858212594e-09, 1.4484512858149716e-09, 1.4484512858089362e-09]\n",
      "d01,d02,d12 = [1.001857777924767, 1.001857777925059, 1.0018577779240294]\n"
     ]
    },
    {
     "name": "stderr",
     "output_type": "stream",
     "text": [
      "Progress:  82%|████████▏ | 410/500 [1:45:06<21:42, 14.47s/it]"
     ]
    },
    {
     "name": "stdout",
     "output_type": "stream",
     "text": [
      "Time to: Calculate Ground State - 1.38s, Get Pauli Ops - 4.55s, Calculate Pauli Expectation Values - 5.62s, Calculate Covariance - 2.34s\n",
      "f0,f1,f2 = [1.0594687545457017e-09, 1.059468754482398e-09, 1.0594687545463783e-09]\n",
      "d01,d02,d12 = [1.0008631476535867, 1.00086314765383, 1.0008631476527814]\n"
     ]
    },
    {
     "name": "stderr",
     "output_type": "stream",
     "text": [
      "Progress:  82%|████████▏ | 411/500 [1:45:24<23:13, 15.65s/it]"
     ]
    },
    {
     "name": "stdout",
     "output_type": "stream",
     "text": [
      "Time to: Calculate Ground State - 1.49s, Get Pauli Ops - 7.67s, Calculate Pauli Expectation Values - 7.07s, Calculate Covariance - 2.17s\n",
      "f0,f1,f2 = [1.9393202655896703e-09, 1.9393202655438296e-09, 1.939320265576564e-09]\n",
      "d01,d02,d12 = [0.999190338508676, 0.9991903385088576, 0.999190338507804]\n"
     ]
    },
    {
     "name": "stderr",
     "output_type": "stream",
     "text": [
      "Progress:  82%|████████▏ | 412/500 [1:45:43<24:24, 16.64s/it]"
     ]
    },
    {
     "name": "stdout",
     "output_type": "stream",
     "text": [
      "Time to: Calculate Ground State - 1.43s, Get Pauli Ops - 7.15s, Calculate Pauli Expectation Values - 8.02s, Calculate Covariance - 2.31s\n",
      "f0,f1,f2 = [2.1909125525791754e-09, 2.190912552496867e-09, 2.1909125525581253e-09]\n",
      "d01,d02,d12 = [0.9966479584336687, 0.9966479584337815, 0.9966479584327442]\n"
     ]
    },
    {
     "name": "stderr",
     "output_type": "stream",
     "text": [
      "Progress:  83%|████████▎ | 413/500 [1:46:01<24:19, 16.78s/it]"
     ]
    },
    {
     "name": "stdout",
     "output_type": "stream",
     "text": [
      "Time to: Calculate Ground State - 1.42s, Get Pauli Ops - 5.15s, Calculate Pauli Expectation Values - 8.22s, Calculate Covariance - 2.33s\n",
      "f0,f1,f2 = [4.7905983236407463e-11, 4.790598318539576e-11, 4.7905983185620034e-11]\n",
      "d01,d02,d12 = [0.9942549411526707, 0.9942549411527197, 0.9942549411517082]\n"
     ]
    },
    {
     "name": "stderr",
     "output_type": "stream",
     "text": [
      "Progress:  83%|████████▎ | 414/500 [1:46:18<24:13, 16.90s/it]"
     ]
    },
    {
     "name": "stdout",
     "output_type": "stream",
     "text": [
      "Time to: Calculate Ground State - 1.41s, Get Pauli Ops - 8.4s, Calculate Pauli Expectation Values - 5.14s, Calculate Covariance - 2.22s\n",
      "f0,f1,f2 = [3.0998864630600594e-10, 3.0998864629141587e-10, 3.0998864632019907e-10]\n",
      "d01,d02,d12 = [0.9914259911333533, 0.991425991133344, 0.9914259911323602]\n"
     ]
    },
    {
     "name": "stderr",
     "output_type": "stream",
     "text": [
      "Progress:  83%|████████▎ | 415/500 [1:46:34<23:29, 16.58s/it]"
     ]
    },
    {
     "name": "stdout",
     "output_type": "stream",
     "text": [
      "Time to: Calculate Ground State - 1.35s, Get Pauli Ops - 4.8s, Calculate Pauli Expectation Values - 7.19s, Calculate Covariance - 2.48s\n",
      "f0,f1,f2 = [5.83787093952917e-10, 5.837870939588321e-10, 5.837870939626904e-10]\n",
      "d01,d02,d12 = [0.9882230530289476, 0.9882230530288824, 0.9882230530279394]\n"
     ]
    },
    {
     "name": "stderr",
     "output_type": "stream",
     "text": [
      "/cluster/home/mskrabulis/miniconda3/envs/quantech/lib/python3.9/site-packages/pyscf/symm/Dmatrix.py:156: RuntimeWarning: invalid value encountered in arccos\n",
      "  gamma = numpy.arccos(yp.dot(c2[1]))\n",
      "Progress:  83%|████████▎ | 416/500 [1:46:49<22:52, 16.34s/it]"
     ]
    },
    {
     "name": "stdout",
     "output_type": "stream",
     "text": [
      "Time to: Calculate Ground State - 1.26s, Get Pauli Ops - 7.16s, Calculate Pauli Expectation Values - 5.2s, Calculate Covariance - 2.16s\n",
      "f0,f1,f2 = [6.101643230839671e-10, 6.101643230157784e-10, 6.101643230776198e-10]\n",
      "d01,d02,d12 = [0.9850551449384384, 0.985055144938295, 0.9850551449374108]\n"
     ]
    },
    {
     "name": "stderr",
     "output_type": "stream",
     "text": [
      "Progress:  83%|████████▎ | 417/500 [1:47:04<21:59, 15.90s/it]"
     ]
    },
    {
     "name": "stdout",
     "output_type": "stream",
     "text": [
      "Time to: Calculate Ground State - 1.12s, Get Pauli Ops - 5.42s, Calculate Pauli Expectation Values - 5.96s, Calculate Covariance - 2.36s\n",
      "f0,f1,f2 = [2.3442228773698005e-11, 2.3442228846010535e-11, 2.3442228841369402e-11]\n",
      "d01,d02,d12 = [0.9815890117588009, 0.9815890117585788, 0.9815890117577457]\n"
     ]
    },
    {
     "name": "stderr",
     "output_type": "stream",
     "text": [
      "/cluster/home/mskrabulis/miniconda3/envs/quantech/lib/python3.9/site-packages/pyscf/symm/Dmatrix.py:156: RuntimeWarning: invalid value encountered in arccos\n",
      "  gamma = numpy.arccos(yp.dot(c2[1]))\n",
      "Progress:  84%|████████▎ | 418/500 [1:47:20<21:35, 15.79s/it]"
     ]
    },
    {
     "name": "stdout",
     "output_type": "stream",
     "text": [
      "Time to: Calculate Ground State - 1.39s, Get Pauli Ops - 6.14s, Calculate Pauli Expectation Values - 5.58s, Calculate Covariance - 2.42s\n",
      "f0,f1,f2 = [1.0508705474970026e-09, 1.0508705475270615e-09, 1.0508705474810732e-09]\n",
      "d01,d02,d12 = [0.9782471036421421, 0.9782471036418254, 0.9782471036410599]\n"
     ]
    },
    {
     "name": "stderr",
     "output_type": "stream",
     "text": [
      "Progress:  84%|████████▍ | 419/500 [1:47:37<21:45, 16.12s/it]"
     ]
    },
    {
     "name": "stdout",
     "output_type": "stream",
     "text": [
      "Time to: Calculate Ground State - 1.23s, Get Pauli Ops - 7.61s, Calculate Pauli Expectation Values - 5.63s, Calculate Covariance - 2.41s\n",
      "f0,f1,f2 = [9.636385662770834e-10, 9.636385663097306e-10, 9.636385663108506e-10]\n",
      "d01,d02,d12 = [0.9753255783697197, 0.9753255783693112, 0.9753255783686159]\n"
     ]
    },
    {
     "name": "stderr",
     "output_type": "stream",
     "text": [
      "/cluster/home/mskrabulis/miniconda3/envs/quantech/lib/python3.9/site-packages/pyscf/symm/Dmatrix.py:156: RuntimeWarning: invalid value encountered in arccos\n",
      "  gamma = numpy.arccos(yp.dot(c2[1]))\n",
      "Progress:  84%|████████▍ | 420/500 [1:47:50<20:30, 15.38s/it]"
     ]
    },
    {
     "name": "stdout",
     "output_type": "stream",
     "text": [
      "Time to: Calculate Ground State - 1.39s, Get Pauli Ops - 5.16s, Calculate Pauli Expectation Values - 5.44s, Calculate Covariance - 1.66s\n",
      "f0,f1,f2 = [4.003016711016999e-10, 4.0030167104240163e-10, 4.003016710497569e-10]\n",
      "d01,d02,d12 = [0.9718366508463504, 0.9718366508458501, 0.9718366508452269]\n"
     ]
    },
    {
     "name": "stderr",
     "output_type": "stream",
     "text": [
      "/cluster/home/mskrabulis/miniconda3/envs/quantech/lib/python3.9/site-packages/pyscf/symm/Dmatrix.py:156: RuntimeWarning: invalid value encountered in arccos\n",
      "  gamma = numpy.arccos(yp.dot(c2[1]))\n",
      "Progress:  84%|████████▍ | 421/500 [1:48:04<19:34, 14.87s/it]"
     ]
    },
    {
     "name": "stdout",
     "output_type": "stream",
     "text": [
      "Time to: Calculate Ground State - 1.36s, Get Pauli Ops - 5.04s, Calculate Pauli Expectation Values - 5.31s, Calculate Covariance - 1.95s\n",
      "f0,f1,f2 = [4.1486266289441844e-11, 4.1486266335325003e-11, 4.14862663324946e-11]\n",
      "d01,d02,d12 = [0.9683773882176712, 0.9683773882170692, 0.9683773882165355]\n"
     ]
    },
    {
     "name": "stderr",
     "output_type": "stream",
     "text": [
      "Progress:  84%|████████▍ | 422/500 [1:48:21<20:01, 15.40s/it]"
     ]
    },
    {
     "name": "stdout",
     "output_type": "stream",
     "text": [
      "Time to: Calculate Ground State - 1.03s, Get Pauli Ops - 5.13s, Calculate Pauli Expectation Values - 7.96s, Calculate Covariance - 2.5s\n",
      "f0,f1,f2 = [1.5562413616643536e-09, 1.556241361676748e-09, 1.5562413616720489e-09]\n",
      "d01,d02,d12 = [0.966104661928573, 0.9661046619278723, 0.9661046619274287]\n"
     ]
    },
    {
     "name": "stderr",
     "output_type": "stream",
     "text": [
      "/cluster/home/mskrabulis/miniconda3/envs/quantech/lib/python3.9/site-packages/pyscf/symm/Dmatrix.py:156: RuntimeWarning: invalid value encountered in arccos\n",
      "  gamma = numpy.arccos(yp.dot(c2[1]))\n",
      "Progress:  85%|████████▍ | 423/500 [1:48:35<19:17, 15.03s/it]"
     ]
    },
    {
     "name": "stdout",
     "output_type": "stream",
     "text": [
      "Time to: Calculate Ground State - 1.33s, Get Pauli Ops - 5.16s, Calculate Pauli Expectation Values - 5.68s, Calculate Covariance - 1.99s\n",
      "f0,f1,f2 = [1.2917180239941529e-09, 1.2917180240229857e-09, 1.2917180240114771e-09]\n",
      "d01,d02,d12 = [0.9646964710798097, 0.9646964710790137, 0.9646964710786635]\n"
     ]
    },
    {
     "name": "stderr",
     "output_type": "stream",
     "text": [
      "/cluster/home/mskrabulis/miniconda3/envs/quantech/lib/python3.9/site-packages/pyscf/symm/Dmatrix.py:156: RuntimeWarning: invalid value encountered in arccos\n",
      "  gamma = numpy.arccos(yp.dot(c2[1]))\n",
      "Progress:  85%|████████▍ | 424/500 [1:48:49<18:47, 14.83s/it]"
     ]
    },
    {
     "name": "stdout",
     "output_type": "stream",
     "text": [
      "Time to: Calculate Ground State - 1.26s, Get Pauli Ops - 4.98s, Calculate Pauli Expectation Values - 5.74s, Calculate Covariance - 2.4s\n",
      "f0,f1,f2 = [5.190607730784338e-10, 5.190607730310751e-10, 5.190607730651608e-10]\n",
      "d01,d02,d12 = [0.9634860118114879, 0.9634860118106064, 0.963486011810354]\n"
     ]
    },
    {
     "name": "stderr",
     "output_type": "stream",
     "text": [
      "/cluster/home/mskrabulis/miniconda3/envs/quantech/lib/python3.9/site-packages/pyscf/symm/Dmatrix.py:156: RuntimeWarning: invalid value encountered in arccos\n",
      "  gamma = numpy.arccos(yp.dot(c2[1]))\n",
      "Progress:  85%|████████▌ | 425/500 [1:49:03<18:16, 14.62s/it]"
     ]
    },
    {
     "name": "stdout",
     "output_type": "stream",
     "text": [
      "Time to: Calculate Ground State - 1.04s, Get Pauli Ops - 5.33s, Calculate Pauli Expectation Values - 5.35s, Calculate Covariance - 2.41s\n",
      "f0,f1,f2 = [6.480068949393089e-10, 6.480068949163172e-10, 6.480068949182898e-10]\n",
      "d01,d02,d12 = [0.9625965750316817, 0.9625965750307275, 0.9625965750305622]\n"
     ]
    },
    {
     "name": "stderr",
     "output_type": "stream",
     "text": [
      "/cluster/home/mskrabulis/miniconda3/envs/quantech/lib/python3.9/site-packages/pyscf/symm/Dmatrix.py:156: RuntimeWarning: invalid value encountered in arccos\n",
      "  gamma = numpy.arccos(yp.dot(c2[1]))\n",
      "Progress:  85%|████████▌ | 426/500 [1:49:18<17:54, 14.52s/it]"
     ]
    },
    {
     "name": "stdout",
     "output_type": "stream",
     "text": [
      "Time to: Calculate Ground State - 1.28s, Get Pauli Ops - 5.33s, Calculate Pauli Expectation Values - 5.18s, Calculate Covariance - 2.48s\n",
      "f0,f1,f2 = [4.59733174151492e-10, 4.5973317411328446e-10, 4.5973317418539915e-10]\n",
      "d01,d02,d12 = [0.9618475556732571, 0.9618475556722454, 0.9618475556721585]\n"
     ]
    },
    {
     "name": "stderr",
     "output_type": "stream",
     "text": [
      "Progress:  85%|████████▌ | 427/500 [1:49:31<17:18, 14.22s/it]"
     ]
    },
    {
     "name": "stdout",
     "output_type": "stream",
     "text": [
      "Time to: Calculate Ground State - 1.09s, Get Pauli Ops - 5.12s, Calculate Pauli Expectation Values - 5.18s, Calculate Covariance - 2.11s\n",
      "f0,f1,f2 = [1.5301281162519829e-09, 1.530128116242696e-09, 1.5301281162958743e-09]\n",
      "d01,d02,d12 = [0.9617031211968512, 0.9617031211957906, 0.9617031211957867]\n"
     ]
    },
    {
     "name": "stderr",
     "output_type": "stream",
     "text": [
      "/cluster/home/mskrabulis/miniconda3/envs/quantech/lib/python3.9/site-packages/pyscf/symm/Dmatrix.py:156: RuntimeWarning: invalid value encountered in arccos\n",
      "  gamma = numpy.arccos(yp.dot(c2[1]))\n",
      "Progress:  86%|████████▌ | 428/500 [1:49:45<16:50, 14.03s/it]"
     ]
    },
    {
     "name": "stdout",
     "output_type": "stream",
     "text": [
      "Time to: Calculate Ground State - 1.03s, Get Pauli Ops - 5.19s, Calculate Pauli Expectation Values - 5.22s, Calculate Covariance - 2.14s\n",
      "f0,f1,f2 = [2.6316857397877604e-10, 2.6316857397914435e-10, 2.631685740173796e-10]\n",
      "d01,d02,d12 = [0.9616557798831629, 0.9616557798820741, 0.9616557798821525]\n"
     ]
    },
    {
     "name": "stderr",
     "output_type": "stream",
     "text": [
      "Progress:  86%|████████▌ | 429/500 [1:50:02<17:36, 14.88s/it]"
     ]
    },
    {
     "name": "stdout",
     "output_type": "stream",
     "text": [
      "Time to: Calculate Ground State - 1.47s, Get Pauli Ops - 7.25s, Calculate Pauli Expectation Values - 5.67s, Calculate Covariance - 2.45s\n",
      "f0,f1,f2 = [1.6454662751792674e-09, 1.6454662752046932e-09, 1.6454662751991902e-09]\n",
      "d01,d02,d12 = [0.9622958910200851, 0.9622958910189647, 0.9622958910191358]\n"
     ]
    },
    {
     "name": "stderr",
     "output_type": "stream",
     "text": [
      "/cluster/home/mskrabulis/miniconda3/envs/quantech/lib/python3.9/site-packages/pyscf/symm/Dmatrix.py:156: RuntimeWarning: invalid value encountered in arccos\n",
      "  gamma = numpy.arccos(yp.dot(c2[1]))\n",
      "Progress:  86%|████████▌ | 430/500 [1:50:18<17:45, 15.23s/it]"
     ]
    },
    {
     "name": "stdout",
     "output_type": "stream",
     "text": [
      "Time to: Calculate Ground State - 1.2s, Get Pauli Ops - 7.38s, Calculate Pauli Expectation Values - 5.23s, Calculate Covariance - 2.21s\n",
      "f0,f1,f2 = [8.908168034282388e-10, 8.908168034610576e-10, 8.908168034299394e-10]\n",
      "d01,d02,d12 = [0.9631682446131924, 0.9631682446120442, 0.9631682446123139]\n"
     ]
    },
    {
     "name": "stderr",
     "output_type": "stream",
     "text": [
      "Progress:  86%|████████▌ | 431/500 [1:50:35<18:17, 15.91s/it]"
     ]
    },
    {
     "name": "stdout",
     "output_type": "stream",
     "text": [
      "Time to: Calculate Ground State - 1.42s, Get Pauli Ops - 7.1s, Calculate Pauli Expectation Values - 6.63s, Calculate Covariance - 2.35s\n",
      "f0,f1,f2 = [1.4141303287577548e-09, 1.4141303287468094e-09, 1.4141303287816736e-09]\n",
      "d01,d02,d12 = [0.9646153030030626, 0.9646153030018886, 0.964615303002264]\n"
     ]
    },
    {
     "name": "stderr",
     "output_type": "stream",
     "text": [
      "Progress:  86%|████████▋ | 432/500 [1:50:49<17:22, 15.32s/it]"
     ]
    },
    {
     "name": "stdout",
     "output_type": "stream",
     "text": [
      "Time to: Calculate Ground State - 1.4s, Get Pauli Ops - 4.9s, Calculate Pauli Expectation Values - 5.27s, Calculate Covariance - 2.38s\n",
      "f0,f1,f2 = [9.633832536664636e-10, 9.633832536469951e-10, 9.633832536648976e-10]\n",
      "d01,d02,d12 = [0.9662900985122335, 0.9662900985110482, 0.9662900985115153]\n"
     ]
    },
    {
     "name": "stderr",
     "output_type": "stream",
     "text": [
      "Progress:  87%|████████▋ | 433/500 [1:51:03<16:45, 15.01s/it]"
     ]
    },
    {
     "name": "stdout",
     "output_type": "stream",
     "text": [
      "Time to: Calculate Ground State - 1.39s, Get Pauli Ops - 5.02s, Calculate Pauli Expectation Values - 5.6s, Calculate Covariance - 2.28s\n",
      "f0,f1,f2 = [5.710102294599383e-10, 5.710102294144285e-10, 5.710102294457607e-10]\n",
      "d01,d02,d12 = [0.9683533889638527, 0.9683533889626587, 0.9683533889632117]\n"
     ]
    },
    {
     "name": "stderr",
     "output_type": "stream",
     "text": [
      "/cluster/home/mskrabulis/miniconda3/envs/quantech/lib/python3.9/site-packages/pyscf/symm/Dmatrix.py:156: RuntimeWarning: invalid value encountered in arccos\n",
      "  gamma = numpy.arccos(yp.dot(c2[1]))\n",
      "Progress:  87%|████████▋ | 434/500 [1:51:20<17:05, 15.54s/it]"
     ]
    },
    {
     "name": "stdout",
     "output_type": "stream",
     "text": [
      "Time to: Calculate Ground State - 1.4s, Get Pauli Ops - 8.58s, Calculate Pauli Expectation Values - 5.02s, Calculate Covariance - 1.77s\n",
      "f0,f1,f2 = [2.003121027121136e-09, 2.003121027169693e-09, 2.0031210271647212e-09]\n",
      "d01,d02,d12 = [0.9710358093659133, 0.9710358093647128, 0.9710358093653527]\n"
     ]
    },
    {
     "name": "stderr",
     "output_type": "stream",
     "text": [
      "Progress:  87%|████████▋ | 435/500 [1:51:35<16:41, 15.40s/it]"
     ]
    },
    {
     "name": "stdout",
     "output_type": "stream",
     "text": [
      "Time to: Calculate Ground State - 1.32s, Get Pauli Ops - 4.93s, Calculate Pauli Expectation Values - 6.71s, Calculate Covariance - 2.11s\n",
      "f0,f1,f2 = [8.614046443133263e-11, 8.614046437892064e-11, 8.614046440415428e-11]\n",
      "d01,d02,d12 = [0.9738862267998019, 0.973886226798605, 0.97388622679932]\n"
     ]
    },
    {
     "name": "stderr",
     "output_type": "stream",
     "text": [
      "/cluster/home/mskrabulis/miniconda3/envs/quantech/lib/python3.9/site-packages/pyscf/symm/Dmatrix.py:156: RuntimeWarning: invalid value encountered in arccos\n",
      "  gamma = numpy.arccos(yp.dot(c2[1]))\n",
      "Progress:  87%|████████▋ | 436/500 [1:51:48<15:41, 14.71s/it]"
     ]
    },
    {
     "name": "stdout",
     "output_type": "stream",
     "text": [
      "Time to: Calculate Ground State - 1.11s, Get Pauli Ops - 5.02s, Calculate Pauli Expectation Values - 4.82s, Calculate Covariance - 2.14s\n",
      "f0,f1,f2 = [2.856667693079497e-10, 2.856667692690464e-10, 2.856667692740409e-10]\n",
      "d01,d02,d12 = [0.9764793971868617, 0.9764793971856705, 0.9764793971864739]\n"
     ]
    },
    {
     "name": "stderr",
     "output_type": "stream",
     "text": [
      "Progress:  87%|████████▋ | 437/500 [1:52:02<15:00, 14.29s/it]"
     ]
    },
    {
     "name": "stdout",
     "output_type": "stream",
     "text": [
      "Time to: Calculate Ground State - 1.06s, Get Pauli Ops - 4.82s, Calculate Pauli Expectation Values - 5.26s, Calculate Covariance - 2.13s\n",
      "f0,f1,f2 = [7.178147369182924e-10, 7.178147369637591e-10, 7.178147369487349e-10]\n",
      "d01,d02,d12 = [0.9794483362090987, 0.9794483362079125, 0.9794483362087967]\n"
     ]
    },
    {
     "name": "stderr",
     "output_type": "stream",
     "text": [
      "Progress:  88%|████████▊ | 438/500 [1:52:21<16:25, 15.90s/it]"
     ]
    },
    {
     "name": "stdout",
     "output_type": "stream",
     "text": [
      "Time to: Calculate Ground State - 1.15s, Get Pauli Ops - 10.0s, Calculate Pauli Expectation Values - 6.59s, Calculate Covariance - 1.93s\n",
      "f0,f1,f2 = [2.4127926013794687e-09, 2.4127926013783123e-09, 2.4127926013447735e-09]\n",
      "d01,d02,d12 = [0.9832683877667747, 0.9832683877656007, 0.9832683877665577]\n"
     ]
    },
    {
     "name": "stderr",
     "output_type": "stream",
     "text": [
      "Progress:  88%|████████▊ | 439/500 [1:52:35<15:25, 15.17s/it]"
     ]
    },
    {
     "name": "stdout",
     "output_type": "stream",
     "text": [
      "Time to: Calculate Ground State - 1.05s, Get Pauli Ops - 4.83s, Calculate Pauli Expectation Values - 5.46s, Calculate Covariance - 2.12s\n",
      "f0,f1,f2 = [1.536129302222411e-09, 1.5361293022518935e-09, 1.536129302280874e-09]\n",
      "d01,d02,d12 = [0.9884638960694194, 0.9884638960682665, 0.9884638960692987]\n"
     ]
    },
    {
     "name": "stderr",
     "output_type": "stream",
     "text": [
      "/cluster/home/mskrabulis/miniconda3/envs/quantech/lib/python3.9/site-packages/pyscf/symm/Dmatrix.py:156: RuntimeWarning: invalid value encountered in arccos\n",
      "  gamma = numpy.arccos(yp.dot(c2[1]))\n",
      "Progress:  88%|████████▊ | 440/500 [1:52:48<14:40, 14.68s/it]"
     ]
    },
    {
     "name": "stdout",
     "output_type": "stream",
     "text": [
      "Time to: Calculate Ground State - 1.31s, Get Pauli Ops - 4.84s, Calculate Pauli Expectation Values - 4.96s, Calculate Covariance - 2.42s\n",
      "f0,f1,f2 = [1.3270169783633707e-09, 1.3270169783568763e-09, 1.3270169783704364e-09]\n",
      "d01,d02,d12 = [0.993842714903399, 0.9938427149022782, 0.9938427149033778]\n"
     ]
    },
    {
     "name": "stderr",
     "output_type": "stream",
     "text": [
      "/cluster/home/mskrabulis/miniconda3/envs/quantech/lib/python3.9/site-packages/pyscf/symm/Dmatrix.py:156: RuntimeWarning: invalid value encountered in arccos\n",
      "  gamma = numpy.arccos(yp.dot(c2[1]))\n",
      "Progress:  88%|████████▊ | 441/500 [1:53:02<14:06, 14.35s/it]"
     ]
    },
    {
     "name": "stdout",
     "output_type": "stream",
     "text": [
      "Time to: Calculate Ground State - 0.99s, Get Pauli Ops - 5.22s, Calculate Pauli Expectation Values - 5.6s, Calculate Covariance - 1.77s\n",
      "f0,f1,f2 = [7.17635354318077e-10, 7.176353543705178e-10, 7.176353543696526e-10]\n",
      "d01,d02,d12 = [0.9984487830412241, 0.9984487830401363, 0.9984487830412958]\n"
     ]
    },
    {
     "name": "stderr",
     "output_type": "stream",
     "text": [
      "Progress:  88%|████████▊ | 442/500 [1:53:15<13:39, 14.13s/it]"
     ]
    },
    {
     "name": "stdout",
     "output_type": "stream",
     "text": [
      "Time to: Calculate Ground State - 0.87s, Get Pauli Ops - 5.84s, Calculate Pauli Expectation Values - 5.47s, Calculate Covariance - 1.41s\n",
      "f0,f1,f2 = [7.020816868681118e-10, 7.020816868905031e-10, 7.02081686855674e-10]\n",
      "d01,d02,d12 = [1.0018143105333697, 1.0018143105323298, 1.0018143105335329]\n"
     ]
    },
    {
     "name": "stderr",
     "output_type": "stream",
     "text": [
      "Progress:  89%|████████▊ | 443/500 [1:53:29<13:08, 13.83s/it]"
     ]
    },
    {
     "name": "stdout",
     "output_type": "stream",
     "text": [
      "Time to: Calculate Ground State - 0.84s, Get Pauli Ops - 5.57s, Calculate Pauli Expectation Values - 5.25s, Calculate Covariance - 1.45s\n",
      "f0,f1,f2 = [5.374065998530088e-11, 5.3740660054116055e-11, 5.374066005069278e-11]\n",
      "d01,d02,d12 = [1.0049898251672005, 1.0049898251662102, 1.0049898251674374]\n"
     ]
    },
    {
     "name": "stderr",
     "output_type": "stream",
     "text": [
      "Progress:  89%|████████▉ | 444/500 [1:53:44<13:14, 14.18s/it]"
     ]
    },
    {
     "name": "stdout",
     "output_type": "stream",
     "text": [
      "Time to: Calculate Ground State - 1.42s, Get Pauli Ops - 5.83s, Calculate Pauli Expectation Values - 5.4s, Calculate Covariance - 2.35s\n",
      "f0,f1,f2 = [5.27286049164207e-10, 5.272860491378523e-10, 5.272860491606433e-10]\n",
      "d01,d02,d12 = [1.0084569337311564, 1.0084569337302176, 1.0084569337314564]\n"
     ]
    },
    {
     "name": "stderr",
     "output_type": "stream",
     "text": [
      "Progress:  89%|████████▉ | 445/500 [1:54:01<13:51, 15.12s/it]"
     ]
    },
    {
     "name": "stdout",
     "output_type": "stream",
     "text": [
      "Time to: Calculate Ground State - 1.35s, Get Pauli Ops - 6.51s, Calculate Pauli Expectation Values - 7.24s, Calculate Covariance - 2.18s\n",
      "f0,f1,f2 = [3.092813094864462e-09, 3.0928130948544514e-09, 3.0928130948177895e-09]\n",
      "d01,d02,d12 = [1.0109217508802129, 1.0109217508793416, 1.0109217508805866]\n"
     ]
    },
    {
     "name": "stderr",
     "output_type": "stream",
     "text": [
      "Progress:  89%|████████▉ | 446/500 [1:54:14<13:11, 14.67s/it]"
     ]
    },
    {
     "name": "stdout",
     "output_type": "stream",
     "text": [
      "Time to: Calculate Ground State - 1.2s, Get Pauli Ops - 4.99s, Calculate Pauli Expectation Values - 5.15s, Calculate Covariance - 2.26s\n",
      "f0,f1,f2 = [1.2784888686201872e-09, 1.278488868608261e-09, 1.2784888686374368e-09]\n",
      "d01,d02,d12 = [1.0125122103527573, 1.0125122103519604, 1.0125122103532151]\n"
     ]
    },
    {
     "name": "stderr",
     "output_type": "stream",
     "text": [
      "/cluster/home/mskrabulis/miniconda3/envs/quantech/lib/python3.9/site-packages/pyscf/symm/Dmatrix.py:156: RuntimeWarning: invalid value encountered in arccos\n",
      "  gamma = numpy.arccos(yp.dot(c2[1]))\n",
      "Progress:  89%|████████▉ | 447/500 [1:54:32<13:48, 15.62s/it]"
     ]
    },
    {
     "name": "stdout",
     "output_type": "stream",
     "text": [
      "Time to: Calculate Ground State - 1.33s, Get Pauli Ops - 8.18s, Calculate Pauli Expectation Values - 6.03s, Calculate Covariance - 2.3s\n",
      "f0,f1,f2 = [5.976861745300763e-10, 5.976861745469205e-10, 5.97686174521626e-10]\n",
      "d01,d02,d12 = [1.01423951177811, 1.0142395117773912, 1.0142395117786573]\n"
     ]
    },
    {
     "name": "stderr",
     "output_type": "stream",
     "text": [
      "/cluster/home/mskrabulis/miniconda3/envs/quantech/lib/python3.9/site-packages/pyscf/symm/Dmatrix.py:156: RuntimeWarning: invalid value encountered in arccos\n",
      "  gamma = numpy.arccos(yp.dot(c2[1]))\n",
      "Progress:  90%|████████▉ | 448/500 [1:54:47<13:14, 15.27s/it]"
     ]
    },
    {
     "name": "stdout",
     "output_type": "stream",
     "text": [
      "Time to: Calculate Ground State - 1.36s, Get Pauli Ops - 5.26s, Calculate Pauli Expectation Values - 5.61s, Calculate Covariance - 2.19s\n",
      "f0,f1,f2 = [2.619702758608771e-09, 2.6197027585974523e-09, 2.6197027585868387e-09]\n",
      "d01,d02,d12 = [1.015253608131727, 1.0152536081310939, 1.0152536081323633]\n"
     ]
    },
    {
     "name": "stderr",
     "output_type": "stream",
     "text": [
      "/cluster/home/mskrabulis/miniconda3/envs/quantech/lib/python3.9/site-packages/pyscf/symm/Dmatrix.py:156: RuntimeWarning: invalid value encountered in arccos\n",
      "  gamma = numpy.arccos(yp.dot(c2[1]))\n",
      "Progress:  90%|████████▉ | 449/500 [1:55:05<13:42, 16.14s/it]"
     ]
    },
    {
     "name": "stdout",
     "output_type": "stream",
     "text": [
      "Time to: Calculate Ground State - 1.4s, Get Pauli Ops - 8.13s, Calculate Pauli Expectation Values - 6.4s, Calculate Covariance - 2.22s\n",
      "f0,f1,f2 = [5.241763242100115e-10, 5.241763241992116e-10, 5.241763241890397e-10]\n",
      "d01,d02,d12 = [1.0158775091543466, 1.0158775091537933, 1.015877509155077]\n"
     ]
    },
    {
     "name": "stderr",
     "output_type": "stream",
     "text": [
      "Progress:  90%|█████████ | 450/500 [1:55:19<13:02, 15.65s/it]"
     ]
    },
    {
     "name": "stdout",
     "output_type": "stream",
     "text": [
      "Time to: Calculate Ground State - 1.36s, Get Pauli Ops - 5.46s, Calculate Pauli Expectation Values - 5.42s, Calculate Covariance - 2.28s\n",
      "f0,f1,f2 = [2.194602846355106e-09, 2.19460284642886e-09, 2.1946028463808895e-09]\n",
      "d01,d02,d12 = [1.0156561011798624, 1.015656101179409, 1.0156561011806757]\n"
     ]
    },
    {
     "name": "stderr",
     "output_type": "stream",
     "text": [
      "Progress:  90%|█████████ | 451/500 [1:55:39<13:40, 16.75s/it]"
     ]
    },
    {
     "name": "stdout",
     "output_type": "stream",
     "text": [
      "Time to: Calculate Ground State - 1.22s, Get Pauli Ops - 8.71s, Calculate Pauli Expectation Values - 7.1s, Calculate Covariance - 2.27s\n",
      "f0,f1,f2 = [2.4954588587329e-10, 2.4954588593888303e-10, 2.4954588587463793e-10]\n",
      "d01,d02,d12 = [1.0153532651659571, 1.015353265165614, 1.0153532651668524]\n"
     ]
    },
    {
     "name": "stderr",
     "output_type": "stream",
     "text": [
      "/cluster/home/mskrabulis/miniconda3/envs/quantech/lib/python3.9/site-packages/pyscf/symm/Dmatrix.py:156: RuntimeWarning: invalid value encountered in arccos\n",
      "  gamma = numpy.arccos(yp.dot(c2[1]))\n",
      "/cluster/home/mskrabulis/miniconda3/envs/quantech/lib/python3.9/site-packages/pyscf/symm/Dmatrix.py:156: RuntimeWarning: invalid value encountered in arccos\n",
      "  gamma = numpy.arccos(yp.dot(c2[1]))\n",
      "Progress:  90%|█████████ | 452/500 [1:56:03<15:06, 18.88s/it]"
     ]
    },
    {
     "name": "stdout",
     "output_type": "stream",
     "text": [
      "Time to: Calculate Ground State - 1.12s, Get Pauli Ops - 12.69s, Calculate Pauli Expectation Values - 7.54s, Calculate Covariance - 2.49s\n",
      "f0,f1,f2 = [1.095833907575448e-09, 1.095833907585744e-09, 1.095833907577036e-09]\n",
      "d01,d02,d12 = [1.0146149775653894, 1.0146149775651652, 1.0146149775663666]\n"
     ]
    },
    {
     "name": "stderr",
     "output_type": "stream",
     "text": [
      "Progress:  91%|█████████ | 453/500 [1:56:17<13:44, 17.55s/it]"
     ]
    },
    {
     "name": "stdout",
     "output_type": "stream",
     "text": [
      "Time to: Calculate Ground State - 1.17s, Get Pauli Ops - 5.23s, Calculate Pauli Expectation Values - 5.57s, Calculate Covariance - 2.47s\n",
      "f0,f1,f2 = [6.907166797139449e-10, 6.90716679737002e-10, 6.907166797446413e-10]\n",
      "d01,d02,d12 = [1.0135366046240355, 1.0135366046239211, 1.0135366046250778]\n"
     ]
    },
    {
     "name": "stderr",
     "output_type": "stream",
     "text": [
      "/cluster/home/mskrabulis/miniconda3/envs/quantech/lib/python3.9/site-packages/pyscf/symm/Dmatrix.py:156: RuntimeWarning: invalid value encountered in arccos\n",
      "  gamma = numpy.arccos(yp.dot(c2[1]))\n",
      "Progress:  91%|█████████ | 454/500 [1:56:37<13:53, 18.13s/it]"
     ]
    },
    {
     "name": "stdout",
     "output_type": "stream",
     "text": [
      "Time to: Calculate Ground State - 1.36s, Get Pauli Ops - 7.72s, Calculate Pauli Expectation Values - 8.27s, Calculate Covariance - 2.12s\n",
      "f0,f1,f2 = [1.7584428379912775e-10, 1.7584428379051434e-10, 1.7584428378634664e-10]\n",
      "d01,d02,d12 = [1.012593819393409, 1.0125938193934048, 1.0125938193945185]\n"
     ]
    },
    {
     "name": "stderr",
     "output_type": "stream",
     "text": [
      "Progress:  91%|█████████ | 455/500 [1:56:52<12:57, 17.28s/it]"
     ]
    },
    {
     "name": "stdout",
     "output_type": "stream",
     "text": [
      "Time to: Calculate Ground State - 1.48s, Get Pauli Ops - 5.26s, Calculate Pauli Expectation Values - 6.28s, Calculate Covariance - 2.29s\n",
      "f0,f1,f2 = [7.33554161702599e-10, 7.335541617260578e-10, 7.335541617268803e-10]\n",
      "d01,d02,d12 = [1.0113992614148728, 1.0113992614149787, 1.0113992614160356]\n"
     ]
    },
    {
     "name": "stderr",
     "output_type": "stream",
     "text": [
      "/cluster/home/mskrabulis/miniconda3/envs/quantech/lib/python3.9/site-packages/pyscf/symm/Dmatrix.py:156: RuntimeWarning: invalid value encountered in arccos\n",
      "  gamma = numpy.arccos(yp.dot(c2[1]))\n",
      "Progress:  91%|█████████ | 456/500 [1:57:07<12:10, 16.61s/it]"
     ]
    },
    {
     "name": "stdout",
     "output_type": "stream",
     "text": [
      "Time to: Calculate Ground State - 1.37s, Get Pauli Ops - 5.34s, Calculate Pauli Expectation Values - 6.03s, Calculate Covariance - 2.27s\n",
      "f0,f1,f2 = [5.20033124394118e-10, 5.200331243687533e-10, 5.200331243735807e-10]\n",
      "d01,d02,d12 = [1.0099747538046642, 1.0099747538048782, 1.0099747538058876]\n"
     ]
    },
    {
     "name": "stderr",
     "output_type": "stream",
     "text": [
      "/cluster/home/mskrabulis/miniconda3/envs/quantech/lib/python3.9/site-packages/pyscf/symm/Dmatrix.py:156: RuntimeWarning: invalid value encountered in arccos\n",
      "  gamma = numpy.arccos(yp.dot(c2[1]))\n",
      "Progress:  91%|█████████▏| 457/500 [1:57:21<11:21, 15.85s/it]"
     ]
    },
    {
     "name": "stdout",
     "output_type": "stream",
     "text": [
      "Time to: Calculate Ground State - 1.34s, Get Pauli Ops - 5.26s, Calculate Pauli Expectation Values - 5.19s, Calculate Covariance - 2.28s\n",
      "f0,f1,f2 = [2.651531466365317e-10, 2.6515314666513857e-10, 2.6515314667806e-10]\n",
      "d01,d02,d12 = [1.0084281208418298, 1.00842812084215, 1.0084281208431087]\n"
     ]
    },
    {
     "name": "stderr",
     "output_type": "stream",
     "text": [
      "Progress:  92%|█████████▏| 458/500 [1:57:35<10:41, 15.27s/it]"
     ]
    },
    {
     "name": "stdout",
     "output_type": "stream",
     "text": [
      "Time to: Calculate Ground State - 1.35s, Get Pauli Ops - 5.22s, Calculate Pauli Expectation Values - 5.0s, Calculate Covariance - 2.34s\n",
      "f0,f1,f2 = [1.3278420820281985e-09, 1.3278420820351373e-09, 1.327842082022228e-09]\n",
      "d01,d02,d12 = [1.006381671154419, 1.0063816711548472, 1.0063816711557512]\n"
     ]
    },
    {
     "name": "stderr",
     "output_type": "stream",
     "text": [
      "Progress:  92%|█████████▏| 459/500 [1:57:50<10:25, 15.25s/it]"
     ]
    },
    {
     "name": "stdout",
     "output_type": "stream",
     "text": [
      "Time to: Calculate Ground State - 1.33s, Get Pauli Ops - 4.87s, Calculate Pauli Expectation Values - 6.58s, Calculate Covariance - 2.41s\n",
      "f0,f1,f2 = [9.536445494032715e-10, 9.53644549435331e-10, 9.53644549416863e-10]\n",
      "d01,d02,d12 = [1.0037619166035017, 1.003761916604043, 1.003761916604879]\n"
     ]
    },
    {
     "name": "stderr",
     "output_type": "stream",
     "text": [
      "/cluster/home/mskrabulis/miniconda3/envs/quantech/lib/python3.9/site-packages/pyscf/symm/Dmatrix.py:156: RuntimeWarning: invalid value encountered in arccos\n",
      "  gamma = numpy.arccos(yp.dot(c2[1]))\n",
      "/cluster/home/mskrabulis/miniconda3/envs/quantech/lib/python3.9/site-packages/pyscf/symm/Dmatrix.py:156: RuntimeWarning: invalid value encountered in arccos\n",
      "  gamma = numpy.arccos(yp.dot(c2[1]))\n",
      "Progress:  92%|█████████▏| 460/500 [1:58:06<10:12, 15.30s/it]"
     ]
    },
    {
     "name": "stdout",
     "output_type": "stream",
     "text": [
      "Time to: Calculate Ground State - 1.06s, Get Pauli Ops - 5.2s, Calculate Pauli Expectation Values - 6.86s, Calculate Covariance - 2.3s\n",
      "f0,f1,f2 = [2.0024512387607312e-09, 2.0024512387446053e-09, 2.002451238787585e-09]\n",
      "d01,d02,d12 = [1.000818623057351, 1.0008186230580047, 1.000818623058768]\n"
     ]
    },
    {
     "name": "stderr",
     "output_type": "stream",
     "text": [
      "Progress:  92%|█████████▏| 461/500 [1:58:22<10:11, 15.67s/it]"
     ]
    },
    {
     "name": "stdout",
     "output_type": "stream",
     "text": [
      "Time to: Calculate Ground State - 1.08s, Get Pauli Ops - 8.92s, Calculate Pauli Expectation Values - 5.07s, Calculate Covariance - 1.44s\n",
      "f0,f1,f2 = [7.460306153888527e-10, 7.460306153755586e-10, 7.460306153808502e-10]\n",
      "d01,d02,d12 = [0.9984368158675758, 0.9984368158683478, 0.9984368158690281]\n"
     ]
    },
    {
     "name": "stderr",
     "output_type": "stream",
     "text": [
      "Progress:  92%|█████████▏| 462/500 [1:58:37<09:46, 15.44s/it]"
     ]
    },
    {
     "name": "stdout",
     "output_type": "stream",
     "text": [
      "Time to: Calculate Ground State - 1.4s, Get Pauli Ops - 5.17s, Calculate Pauli Expectation Values - 6.08s, Calculate Covariance - 2.25s\n",
      "f0,f1,f2 = [8.872440246034012e-10, 8.872440246042504e-10, 8.872440245973478e-10]\n",
      "d01,d02,d12 = [0.9956570725405763, 0.9956570725414575, 0.9956570725420527]\n"
     ]
    },
    {
     "name": "stderr",
     "output_type": "stream",
     "text": [
      "/cluster/home/mskrabulis/miniconda3/envs/quantech/lib/python3.9/site-packages/pyscf/symm/Dmatrix.py:156: RuntimeWarning: invalid value encountered in arccos\n",
      "  gamma = numpy.arccos(yp.dot(c2[1]))\n",
      "Progress:  93%|█████████▎| 463/500 [1:58:52<09:25, 15.27s/it]"
     ]
    },
    {
     "name": "stdout",
     "output_type": "stream",
     "text": [
      "Time to: Calculate Ground State - 1.35s, Get Pauli Ops - 5.64s, Calculate Pauli Expectation Values - 5.79s, Calculate Covariance - 2.08s\n",
      "f0,f1,f2 = [1.5778600358916383e-09, 1.5778600359495076e-09, 1.57786003592558e-09]\n",
      "d01,d02,d12 = [0.9917858776805506, 0.9917858776815385, 0.991785877682029]\n"
     ]
    },
    {
     "name": "stderr",
     "output_type": "stream",
     "text": [
      "Progress:  93%|█████████▎| 464/500 [1:59:07<09:04, 15.13s/it]"
     ]
    },
    {
     "name": "stdout",
     "output_type": "stream",
     "text": [
      "Time to: Calculate Ground State - 1.05s, Get Pauli Ops - 6.23s, Calculate Pauli Expectation Values - 5.31s, Calculate Covariance - 2.2s\n",
      "f0,f1,f2 = [5.452323705830945e-10, 5.452323705969402e-10, 5.452323705810464e-10]\n",
      "d01,d02,d12 = [0.9871401966801758, 0.987140196681266, 0.9871401966816409]\n"
     ]
    },
    {
     "name": "stderr",
     "output_type": "stream",
     "text": [
      "Progress:  93%|█████████▎| 465/500 [1:59:26<09:32, 16.36s/it]"
     ]
    },
    {
     "name": "stdout",
     "output_type": "stream",
     "text": [
      "Time to: Calculate Ground State - 1.4s, Get Pauli Ops - 9.81s, Calculate Pauli Expectation Values - 5.66s, Calculate Covariance - 2.36s\n",
      "f0,f1,f2 = [7.349655106380735e-10, 7.349655106476252e-10, 7.349655106854547e-10]\n",
      "d01,d02,d12 = [0.9826070085137353, 0.9826070085149173, 0.9826070085151778]\n"
     ]
    },
    {
     "name": "stderr",
     "output_type": "stream",
     "text": [
      "/cluster/home/mskrabulis/miniconda3/envs/quantech/lib/python3.9/site-packages/pyscf/symm/Dmatrix.py:156: RuntimeWarning: invalid value encountered in arccos\n",
      "  gamma = numpy.arccos(yp.dot(c2[1]))\n",
      "Progress:  93%|█████████▎| 466/500 [1:59:41<09:06, 16.06s/it]"
     ]
    },
    {
     "name": "stdout",
     "output_type": "stream",
     "text": [
      "Time to: Calculate Ground State - 1.34s, Get Pauli Ops - 5.11s, Calculate Pauli Expectation Values - 6.48s, Calculate Covariance - 2.41s\n",
      "f0,f1,f2 = [9.094634200257815e-10, 9.094634200405309e-10, 9.09463420080827e-10]\n",
      "d01,d02,d12 = [0.9778313427238613, 0.9778313427251224, 0.9778313427252533]\n"
     ]
    },
    {
     "name": "stderr",
     "output_type": "stream",
     "text": [
      "Progress:  93%|█████████▎| 467/500 [1:59:57<08:50, 16.06s/it]"
     ]
    },
    {
     "name": "stdout",
     "output_type": "stream",
     "text": [
      "Time to: Calculate Ground State - 1.26s, Get Pauli Ops - 7.58s, Calculate Pauli Expectation Values - 4.91s, Calculate Covariance - 2.31s\n",
      "f0,f1,f2 = [1.831915435422388e-09, 1.831915435420097e-09, 1.8319154353278355e-09]\n",
      "d01,d02,d12 = [0.9736457135161931, 0.9736457135175118, 0.9736457135175073]\n"
     ]
    },
    {
     "name": "stderr",
     "output_type": "stream",
     "text": [
      "Progress:  94%|█████████▎| 468/500 [2:00:11<08:06, 15.22s/it]"
     ]
    },
    {
     "name": "stdout",
     "output_type": "stream",
     "text": [
      "Time to: Calculate Ground State - 1.37s, Get Pauli Ops - 4.48s, Calculate Pauli Expectation Values - 5.45s, Calculate Covariance - 1.93s\n",
      "f0,f1,f2 = [9.772296444129974e-10, 9.772296444158479e-10, 9.772296444929556e-10]\n",
      "d01,d02,d12 = [0.9689523111093559, 0.9689523111107095, 0.9689523111105727]\n"
     ]
    },
    {
     "name": "stderr",
     "output_type": "stream",
     "text": [
      "Progress:  94%|█████████▍| 469/500 [2:00:25<07:45, 15.00s/it]"
     ]
    },
    {
     "name": "stdout",
     "output_type": "stream",
     "text": [
      "Time to: Calculate Ground State - 1.31s, Get Pauli Ops - 5.1s, Calculate Pauli Expectation Values - 5.79s, Calculate Covariance - 2.29s\n",
      "f0,f1,f2 = [1.0492691556348434e-09, 1.0492691556515674e-09, 1.049269155639527e-09]\n",
      "d01,d02,d12 = [0.9650035702320552, 0.9650035702334193, 0.9650035702331613]\n"
     ]
    },
    {
     "name": "stderr",
     "output_type": "stream",
     "text": [
      "Progress:  94%|█████████▍| 470/500 [2:00:39<07:16, 14.56s/it]"
     ]
    },
    {
     "name": "stdout",
     "output_type": "stream",
     "text": [
      "Time to: Calculate Ground State - 1.33s, Get Pauli Ops - 4.84s, Calculate Pauli Expectation Values - 5.27s, Calculate Covariance - 2.08s\n",
      "f0,f1,f2 = [1.3466576114258564e-09, 1.3466576114548944e-09, 1.3466576113782313e-09]\n",
      "d01,d02,d12 = [0.9615736045745951, 0.9615736045759595, 0.9615736045755804]\n"
     ]
    },
    {
     "name": "stderr",
     "output_type": "stream",
     "text": [
      "/cluster/home/mskrabulis/miniconda3/envs/quantech/lib/python3.9/site-packages/pyscf/symm/Dmatrix.py:156: RuntimeWarning: invalid value encountered in arccos\n",
      "  gamma = numpy.arccos(yp.dot(c2[1]))\n",
      "Progress:  94%|█████████▍| 471/500 [2:00:52<06:50, 14.17s/it]"
     ]
    },
    {
     "name": "stdout",
     "output_type": "stream",
     "text": [
      "Time to: Calculate Ground State - 1.25s, Get Pauli Ops - 5.27s, Calculate Pauli Expectation Values - 5.09s, Calculate Covariance - 1.63s\n",
      "f0,f1,f2 = [5.427977411352768e-10, 5.427977410883338e-10, 5.42797741170142e-10]\n",
      "d01,d02,d12 = [0.9579412023035598, 0.9579412023049108, 0.9579412023044251]\n"
     ]
    },
    {
     "name": "stderr",
     "output_type": "stream",
     "text": [
      "Progress:  94%|█████████▍| 472/500 [2:01:08<06:53, 14.77s/it]"
     ]
    },
    {
     "name": "stdout",
     "output_type": "stream",
     "text": [
      "Time to: Calculate Ground State - 1.28s, Get Pauli Ops - 5.32s, Calculate Pauli Expectation Values - 7.12s, Calculate Covariance - 2.47s\n",
      "f0,f1,f2 = [1.1605842129910635e-09, 1.1605842129581985e-09, 1.1605842129645716e-09]\n",
      "d01,d02,d12 = [0.955457136819265, 0.9554571368205903, 0.9554571368200021]\n"
     ]
    },
    {
     "name": "stderr",
     "output_type": "stream",
     "text": [
      "/cluster/home/mskrabulis/miniconda3/envs/quantech/lib/python3.9/site-packages/pyscf/symm/Dmatrix.py:156: RuntimeWarning: invalid value encountered in arccos\n",
      "  gamma = numpy.arccos(yp.dot(c2[1]))\n",
      "Progress:  95%|█████████▍| 473/500 [2:01:22<06:30, 14.45s/it]"
     ]
    },
    {
     "name": "stdout",
     "output_type": "stream",
     "text": [
      "Time to: Calculate Ground State - 1.44s, Get Pauli Ops - 5.01s, Calculate Pauli Expectation Values - 5.47s, Calculate Covariance - 1.75s\n",
      "f0,f1,f2 = [1.325493053270416e-09, 1.3254930532751247e-09, 1.3254930532352643e-09]\n",
      "d01,d02,d12 = [0.9534749476515356, 0.9534749476528221, 0.9534749476521307]\n"
     ]
    },
    {
     "name": "stderr",
     "output_type": "stream",
     "text": [
      "/cluster/home/mskrabulis/miniconda3/envs/quantech/lib/python3.9/site-packages/pyscf/symm/Dmatrix.py:156: RuntimeWarning: invalid value encountered in arccos\n",
      "  gamma = numpy.arccos(yp.dot(c2[1]))\n",
      "Progress:  95%|█████████▍| 474/500 [2:01:36<06:11, 14.29s/it]"
     ]
    },
    {
     "name": "stdout",
     "output_type": "stream",
     "text": [
      "Time to: Calculate Ground State - 1.41s, Get Pauli Ops - 5.43s, Calculate Pauli Expectation Values - 5.36s, Calculate Covariance - 1.71s\n",
      "f0,f1,f2 = [8.14451101748651e-10, 8.144511017336905e-10, 8.144511017287756e-10]\n",
      "d01,d02,d12 = [0.9516762142175593, 0.9516762142188016, 0.9516762142179986]\n"
     ]
    },
    {
     "name": "stderr",
     "output_type": "stream",
     "text": [
      "/cluster/home/mskrabulis/miniconda3/envs/quantech/lib/python3.9/site-packages/pyscf/symm/Dmatrix.py:156: RuntimeWarning: invalid value encountered in arccos\n",
      "  gamma = numpy.arccos(yp.dot(c2[1]))\n",
      "Progress:  95%|█████████▌| 475/500 [2:01:51<06:07, 14.71s/it]"
     ]
    },
    {
     "name": "stdout",
     "output_type": "stream",
     "text": [
      "Time to: Calculate Ground State - 1.14s, Get Pauli Ops - 5.01s, Calculate Pauli Expectation Values - 7.35s, Calculate Covariance - 2.18s\n",
      "f0,f1,f2 = [2.2000035401341907e-10, 2.200003540470866e-10, 2.2000035403667463e-10]\n",
      "d01,d02,d12 = [0.949854794242591, 0.9498547942437839, 0.9498547942428742]\n"
     ]
    },
    {
     "name": "stderr",
     "output_type": "stream",
     "text": [
      "Progress:  95%|█████████▌| 476/500 [2:02:09<06:11, 15.49s/it]"
     ]
    },
    {
     "name": "stdout",
     "output_type": "stream",
     "text": [
      "Time to: Calculate Ground State - 1.52s, Get Pauli Ops - 6.33s, Calculate Pauli Expectation Values - 6.96s, Calculate Covariance - 2.5s\n",
      "f0,f1,f2 = [8.496290115608783e-10, 8.496290115584792e-10, 8.496290115570763e-10]\n",
      "d01,d02,d12 = [0.9481655586212827, 0.9481655586224121, 0.9481655586214103]\n"
     ]
    },
    {
     "name": "stderr",
     "output_type": "stream",
     "text": [
      "Progress:  95%|█████████▌| 477/500 [2:02:23<05:51, 15.30s/it]"
     ]
    },
    {
     "name": "stdout",
     "output_type": "stream",
     "text": [
      "Time to: Calculate Ground State - 1.41s, Get Pauli Ops - 5.94s, Calculate Pauli Expectation Values - 5.44s, Calculate Covariance - 2.05s\n",
      "f0,f1,f2 = [2.1372325428482114e-09, 2.137232542882862e-09, 2.13723254284061e-09]\n",
      "d01,d02,d12 = [0.9474761568900767, 0.9474761568911312, 0.9474761568900434]\n"
     ]
    },
    {
     "name": "stderr",
     "output_type": "stream",
     "text": [
      "Progress:  96%|█████████▌| 478/500 [2:02:38<05:30, 15.04s/it]"
     ]
    },
    {
     "name": "stdout",
     "output_type": "stream",
     "text": [
      "Time to: Calculate Ground State - 1.44s, Get Pauli Ops - 5.13s, Calculate Pauli Expectation Values - 5.64s, Calculate Covariance - 2.21s\n",
      "f0,f1,f2 = [2.474437548336844e-09, 2.474437548356415e-09, 2.4744375483453754e-09]\n",
      "d01,d02,d12 = [0.947789273343058, 0.9477892733440333, 0.947789273342865]\n"
     ]
    },
    {
     "name": "stderr",
     "output_type": "stream",
     "text": [
      "/cluster/home/mskrabulis/miniconda3/envs/quantech/lib/python3.9/site-packages/pyscf/symm/Dmatrix.py:156: RuntimeWarning: invalid value encountered in arccos\n",
      "  gamma = numpy.arccos(yp.dot(c2[1]))\n",
      "Progress:  96%|█████████▌| 479/500 [2:02:55<05:30, 15.74s/it]"
     ]
    },
    {
     "name": "stdout",
     "output_type": "stream",
     "text": [
      "Time to: Calculate Ground State - 1.46s, Get Pauli Ops - 6.13s, Calculate Pauli Expectation Values - 7.63s, Calculate Covariance - 2.13s\n",
      "f0,f1,f2 = [2.8509055815845226e-09, 2.8509055816656495e-09, 2.850905581658028e-09]\n",
      "d01,d02,d12 = [0.9493381845156976, 0.9493381845165942, 0.9493381845153622]\n"
     ]
    },
    {
     "name": "stderr",
     "output_type": "stream",
     "text": [
      "Progress:  96%|█████████▌| 480/500 [2:03:11<05:16, 15.84s/it]"
     ]
    },
    {
     "name": "stdout",
     "output_type": "stream",
     "text": [
      "Time to: Calculate Ground State - 1.44s, Get Pauli Ops - 6.83s, Calculate Pauli Expectation Values - 5.39s, Calculate Covariance - 2.4s\n",
      "f0,f1,f2 = [2.176815487263931e-09, 2.176815487342915e-09, 2.176815487362932e-09]\n",
      "d01,d02,d12 = [0.9517043525013074, 0.9517043525021208, 0.9517043525008461]\n"
     ]
    },
    {
     "name": "stderr",
     "output_type": "stream",
     "text": [
      "Progress:  96%|█████████▌| 481/500 [2:03:25<04:49, 15.25s/it]"
     ]
    },
    {
     "name": "stdout",
     "output_type": "stream",
     "text": [
      "Time to: Calculate Ground State - 1.29s, Get Pauli Ops - 4.82s, Calculate Pauli Expectation Values - 5.6s, Calculate Covariance - 2.16s\n",
      "f0,f1,f2 = [5.125480201124124e-10, 5.125480200571561e-10, 5.125480200513666e-10]\n",
      "d01,d02,d12 = [0.9540691187097975, 0.9540691187105238, 0.9540691187092155]\n"
     ]
    },
    {
     "name": "stderr",
     "output_type": "stream",
     "text": [
      "/cluster/home/mskrabulis/miniconda3/envs/quantech/lib/python3.9/site-packages/pyscf/symm/Dmatrix.py:156: RuntimeWarning: invalid value encountered in arccos\n",
      "  gamma = numpy.arccos(yp.dot(c2[1]))\n",
      "Progress:  96%|█████████▋| 482/500 [2:03:43<04:48, 16.02s/it]"
     ]
    },
    {
     "name": "stdout",
     "output_type": "stream",
     "text": [
      "Time to: Calculate Ground State - 1.13s, Get Pauli Ops - 8.37s, Calculate Pauli Expectation Values - 6.11s, Calculate Covariance - 2.18s\n",
      "f0,f1,f2 = [2.463864853756885e-09, 2.4638648538301607e-09, 2.4638648538064342e-09]\n",
      "d01,d02,d12 = [0.9573720669200563, 0.9573720669206763, 0.9573720669193627]\n"
     ]
    },
    {
     "name": "stderr",
     "output_type": "stream",
     "text": [
      "Progress:  97%|█████████▋| 483/500 [2:04:00<04:34, 16.16s/it]"
     ]
    },
    {
     "name": "stdout",
     "output_type": "stream",
     "text": [
      "Time to: Calculate Ground State - 1.19s, Get Pauli Ops - 7.65s, Calculate Pauli Expectation Values - 5.64s, Calculate Covariance - 1.98s\n",
      "f0,f1,f2 = [2.747122565158249e-09, 2.7471225651590243e-09, 2.747122565153013e-09]\n",
      "d01,d02,d12 = [0.9620518009320954, 0.9620518009326052, 0.9620518009312791]\n"
     ]
    },
    {
     "name": "stderr",
     "output_type": "stream",
     "text": [
      "Progress:  97%|█████████▋| 484/500 [2:04:16<04:17, 16.12s/it]"
     ]
    },
    {
     "name": "stdout",
     "output_type": "stream",
     "text": [
      "Time to: Calculate Ground State - 1.1s, Get Pauli Ops - 5.4s, Calculate Pauli Expectation Values - 7.26s, Calculate Covariance - 2.29s\n",
      "f0,f1,f2 = [2.229790614614413e-09, 2.229790614599325e-09, 2.2297906145763003e-09]\n",
      "d01,d02,d12 = [0.9676711535215808, 0.9676711535219774, 0.9676711535206219]\n"
     ]
    },
    {
     "name": "stderr",
     "output_type": "stream",
     "text": [
      "/cluster/home/mskrabulis/miniconda3/envs/quantech/lib/python3.9/site-packages/pyscf/symm/Dmatrix.py:156: RuntimeWarning: invalid value encountered in arccos\n",
      "  gamma = numpy.arccos(yp.dot(c2[1]))\n",
      "Progress:  97%|█████████▋| 485/500 [2:04:31<03:59, 15.97s/it]"
     ]
    },
    {
     "name": "stdout",
     "output_type": "stream",
     "text": [
      "Time to: Calculate Ground State - 1.14s, Get Pauli Ops - 8.13s, Calculate Pauli Expectation Values - 4.91s, Calculate Covariance - 1.44s\n",
      "f0,f1,f2 = [1.2978230983289977e-09, 1.2978230983354695e-09, 1.2978230982998265e-09]\n",
      "d01,d02,d12 = [0.9737080648404495, 0.9737080648407137, 0.9737080648393489]\n"
     ]
    },
    {
     "name": "stderr",
     "output_type": "stream",
     "text": [
      "Progress:  97%|█████████▋| 486/500 [2:04:48<03:46, 16.16s/it]"
     ]
    },
    {
     "name": "stdout",
     "output_type": "stream",
     "text": [
      "Time to: Calculate Ground State - 1.11s, Get Pauli Ops - 8.27s, Calculate Pauli Expectation Values - 5.03s, Calculate Covariance - 2.18s\n",
      "f0,f1,f2 = [6.126554077718182e-10, 6.126554077572622e-10, 6.12655407760882e-10]\n",
      "d01,d02,d12 = [0.9805372690859748, 0.9805372690860977, 0.9805372690847417]\n"
     ]
    },
    {
     "name": "stderr",
     "output_type": "stream",
     "text": [
      "Progress:  97%|█████████▋| 487/500 [2:05:05<03:35, 16.61s/it]"
     ]
    },
    {
     "name": "stdout",
     "output_type": "stream",
     "text": [
      "Time to: Calculate Ground State - 1.37s, Get Pauli Ops - 9.4s, Calculate Pauli Expectation Values - 5.16s, Calculate Covariance - 1.7s\n",
      "f0,f1,f2 = [1.3634907934694358e-09, 1.3634907935025299e-09, 1.363490793492921e-09]\n",
      "d01,d02,d12 = [0.9875526797423766, 0.9875526797423614, 0.9875526797410271]\n"
     ]
    },
    {
     "name": "stderr",
     "output_type": "stream",
     "text": [
      "/cluster/home/mskrabulis/miniconda3/envs/quantech/lib/python3.9/site-packages/pyscf/symm/Dmatrix.py:156: RuntimeWarning: invalid value encountered in arccos\n",
      "  gamma = numpy.arccos(yp.dot(c2[1]))\n",
      "Progress:  98%|█████████▊| 488/500 [2:05:24<03:24, 17.07s/it]"
     ]
    },
    {
     "name": "stdout",
     "output_type": "stream",
     "text": [
      "Time to: Calculate Ground State - 1.55s, Get Pauli Ops - 7.97s, Calculate Pauli Expectation Values - 6.4s, Calculate Covariance - 2.22s\n",
      "f0,f1,f2 = [2.1182293818656163e-09, 2.1182293819154465e-09, 2.118229381924932e-09]\n",
      "d01,d02,d12 = [0.994470087713293, 0.9944700877131322, 0.9944700877118309]\n"
     ]
    },
    {
     "name": "stderr",
     "output_type": "stream",
     "text": [
      "/cluster/home/mskrabulis/miniconda3/envs/quantech/lib/python3.9/site-packages/pyscf/symm/Dmatrix.py:156: RuntimeWarning: invalid value encountered in arccos\n",
      "  gamma = numpy.arccos(yp.dot(c2[1]))\n",
      "Progress:  98%|█████████▊| 489/500 [2:05:38<02:58, 16.22s/it]"
     ]
    },
    {
     "name": "stdout",
     "output_type": "stream",
     "text": [
      "Time to: Calculate Ground State - 1.08s, Get Pauli Ops - 4.94s, Calculate Pauli Expectation Values - 5.7s, Calculate Covariance - 2.51s\n",
      "f0,f1,f2 = [6.24022093836871e-11, 6.240220940180143e-11, 6.240220943329472e-11]\n",
      "d01,d02,d12 = [1.0024361543637172, 1.0024361543634157, 1.0024361543621443]\n"
     ]
    },
    {
     "name": "stderr",
     "output_type": "stream",
     "text": [
      "Progress:  98%|█████████▊| 490/500 [2:05:53<02:40, 16.03s/it]"
     ]
    },
    {
     "name": "stdout",
     "output_type": "stream",
     "text": [
      "Time to: Calculate Ground State - 0.97s, Get Pauli Ops - 4.93s, Calculate Pauli Expectation Values - 7.2s, Calculate Covariance - 2.48s\n",
      "f0,f1,f2 = [4.154391537163385e-10, 4.154391536778954e-10, 4.154391536958534e-10]\n",
      "d01,d02,d12 = [1.010008158354026, 1.0100081583535814, 1.0100081583523384]\n"
     ]
    },
    {
     "name": "stderr",
     "output_type": "stream",
     "text": [
      "Progress:  98%|█████████▊| 491/500 [2:06:09<02:22, 15.80s/it]"
     ]
    },
    {
     "name": "stdout",
     "output_type": "stream",
     "text": [
      "Time to: Calculate Ground State - 1.09s, Get Pauli Ops - 5.47s, Calculate Pauli Expectation Values - 6.34s, Calculate Covariance - 2.34s\n",
      "f0,f1,f2 = [7.034698699665947e-10, 7.034698699245731e-10, 7.034698699259684e-10]\n",
      "d01,d02,d12 = [1.0162958931524333, 1.016295893151847, 1.0162958931506572]\n"
     ]
    },
    {
     "name": "stderr",
     "output_type": "stream",
     "text": [
      "/cluster/home/mskrabulis/miniconda3/envs/quantech/lib/python3.9/site-packages/pyscf/symm/Dmatrix.py:156: RuntimeWarning: invalid value encountered in arccos\n",
      "  gamma = numpy.arccos(yp.dot(c2[1]))\n",
      "Progress:  98%|█████████▊| 492/500 [2:06:23<02:02, 15.33s/it]"
     ]
    },
    {
     "name": "stdout",
     "output_type": "stream",
     "text": [
      "Time to: Calculate Ground State - 1.11s, Get Pauli Ops - 5.46s, Calculate Pauli Expectation Values - 5.42s, Calculate Covariance - 2.23s\n",
      "f0,f1,f2 = [1.1209348436307859e-09, 1.1209348436381476e-09, 1.1209348436140487e-09]\n",
      "d01,d02,d12 = [1.022036221121824, 1.0220362211211063, 1.0220362211199707]\n"
     ]
    },
    {
     "name": "stderr",
     "output_type": "stream",
     "text": [
      "Progress:  99%|█████████▊| 493/500 [2:06:39<01:48, 15.52s/it]"
     ]
    },
    {
     "name": "stdout",
     "output_type": "stream",
     "text": [
      "Time to: Calculate Ground State - 1.27s, Get Pauli Ops - 5.22s, Calculate Pauli Expectation Values - 7.28s, Calculate Covariance - 2.19s\n",
      "f0,f1,f2 = [1.374066982020653e-09, 1.3740669819779286e-09, 1.3740669819566225e-09]\n",
      "d01,d02,d12 = [1.027627447859277, 1.0276274478584353, 1.0276274478573686]\n"
     ]
    },
    {
     "name": "stderr",
     "output_type": "stream",
     "text": [
      "Progress:  99%|█████████▉| 494/500 [2:06:54<01:32, 15.46s/it]"
     ]
    },
    {
     "name": "stdout",
     "output_type": "stream",
     "text": [
      "Time to: Calculate Ground State - 1.52s, Get Pauli Ops - 5.33s, Calculate Pauli Expectation Values - 6.09s, Calculate Covariance - 2.38s\n",
      "f0,f1,f2 = [1.4666125975512052e-09, 1.466612597550062e-09, 1.466612597519037e-09]\n",
      "d01,d02,d12 = [1.0319474058348632, 1.031947405833896, 1.0319474058329159]\n"
     ]
    },
    {
     "name": "stderr",
     "output_type": "stream",
     "text": [
      "Progress:  99%|█████████▉| 495/500 [2:07:08<01:15, 15.04s/it]"
     ]
    },
    {
     "name": "stdout",
     "output_type": "stream",
     "text": [
      "Time to: Calculate Ground State - 1.12s, Get Pauli Ops - 5.21s, Calculate Pauli Expectation Values - 5.52s, Calculate Covariance - 2.19s\n",
      "f0,f1,f2 = [1.6062163229378066e-09, 1.6062163228768564e-09, 1.606216322899952e-09]\n",
      "d01,d02,d12 = [1.0354657345079015, 1.0354657345068186, 1.035465734505922]\n"
     ]
    },
    {
     "name": "stderr",
     "output_type": "stream",
     "text": [
      "Progress:  99%|█████████▉| 496/500 [2:07:23<00:59, 14.99s/it]"
     ]
    },
    {
     "name": "stdout",
     "output_type": "stream",
     "text": [
      "Time to: Calculate Ground State - 1.35s, Get Pauli Ops - 5.26s, Calculate Pauli Expectation Values - 5.92s, Calculate Covariance - 2.33s\n",
      "f0,f1,f2 = [3.732719857000245e-09, 3.732719856995134e-09, 3.7327198569391465e-09]\n",
      "d01,d02,d12 = [1.0380670207676426, 1.0380670207664509, 1.0380670207656373]\n"
     ]
    },
    {
     "name": "stderr",
     "output_type": "stream",
     "text": [
      "Progress:  99%|█████████▉| 497/500 [2:07:38<00:44, 14.83s/it]"
     ]
    },
    {
     "name": "stdout",
     "output_type": "stream",
     "text": [
      "Time to: Calculate Ground State - 1.29s, Get Pauli Ops - 5.27s, Calculate Pauli Expectation Values - 5.84s, Calculate Covariance - 2.06s\n",
      "f0,f1,f2 = [1.8976850268241144e-09, 1.8976850268346005e-09, 1.897685026821079e-09]\n",
      "d01,d02,d12 = [1.040519009589945, 1.0405190095886483, 1.0405190095879084]\n"
     ]
    },
    {
     "name": "stderr",
     "output_type": "stream",
     "text": [
      "Progress: 100%|█████████▉| 498/500 [2:07:51<00:28, 14.45s/it]"
     ]
    },
    {
     "name": "stdout",
     "output_type": "stream",
     "text": [
      "Time to: Calculate Ground State - 1.11s, Get Pauli Ops - 4.93s, Calculate Pauli Expectation Values - 5.34s, Calculate Covariance - 2.16s\n",
      "f0,f1,f2 = [1.1834329261031264e-09, 1.1834329261003707e-09, 1.1834329260748005e-09]\n",
      "d01,d02,d12 = [1.0426701629389403, 1.042670162937535, 1.0426701629368733]\n"
     ]
    },
    {
     "name": "stderr",
     "output_type": "stream",
     "text": [
      "/cluster/home/mskrabulis/miniconda3/envs/quantech/lib/python3.9/site-packages/pyscf/symm/Dmatrix.py:156: RuntimeWarning: invalid value encountered in arccos\n",
      "  gamma = numpy.arccos(yp.dot(c2[1]))\n",
      "Progress: 100%|█████████▉| 499/500 [2:08:09<00:15, 15.32s/it]"
     ]
    },
    {
     "name": "stdout",
     "output_type": "stream",
     "text": [
      "Time to: Calculate Ground State - 1.47s, Get Pauli Ops - 8.33s, Calculate Pauli Expectation Values - 5.22s, Calculate Covariance - 2.32s\n",
      "f0,f1,f2 = [1.3446382171016275e-09, 1.344638217151431e-09, 1.3446382170747706e-09]\n",
      "d01,d02,d12 = [1.0436089676943858, 1.043608967692901, 1.0436089676923082]\n"
     ]
    },
    {
     "name": "stderr",
     "output_type": "stream",
     "text": [
      "Progress: 100%|██████████| 500/500 [2:08:22<00:00, 15.41s/it]"
     ]
    },
    {
     "name": "stdout",
     "output_type": "stream",
     "text": [
      "Time to: Calculate Ground State - 1.37s, Get Pauli Ops - 5.03s, Calculate Pauli Expectation Values - 5.29s, Calculate Covariance - 2.05s\n",
      "f0,f1,f2 = [2.592898537145985e-09, 2.592898537139756e-09, 2.5928985371248824e-09]\n",
      "d01,d02,d12 = [1.0435102295233323, 1.043510229521769, 1.0435102295212506]\n"
     ]
    },
    {
     "name": "stderr",
     "output_type": "stream",
     "text": [
      "\n"
     ]
    },
    {
     "data": {
      "image/png": "[encoded data removed]",
      "text/plain": [
       "<Figure size 640x480 with 1 Axes>"
      ]
     },
     "metadata": {},
     "output_type": "display_data"
    }
   ],
   "source": [
    "from matplotlib import pyplot as plt\n",
    "(distance01,distance02,distance12,times) = main()\n",
    "\n",
    "np_distance01 = np.array(distance01)\n",
    "np_distance02 = np.array(distance02)\n",
    "np_distance12 = np.array(distance12)\n",
    "\n",
    "plt.plot(times,np_distance01[:-1],label = 'd01')\n",
    "plt.plot(times,np_distance02[:-1],label = 'd02')\n",
    "plt.plot(times,np_distance12[:-1],label = 'd12')\n",
    "\n",
    "plt.title('Distances at time t')\n",
    "plt.xlabel('Time')\n",
    "plt.ylabel('Distance')\n",
    "plt.legend()\n",
    "plt.show()"
   ]
  },
  {
   "cell_type": "code",
   "execution_count": null,
   "id": "885910be",
   "metadata": {},
   "outputs": [],
   "source": []
  }
 ],
 "metadata": {
  "kernelspec": {
   "display_name": "Python 3 (ipykernel)",
   "language": "python",
   "name": "python3"
  },
  "language_info": {
   "codemirror_mode": {
    "name": "ipython",
    "version": 3
   },
   "file_extension": ".py",
   "mimetype": "text/x-python",
   "name": "python",
   "nbconvert_exporter": "python",
   "pygments_lexer": "ipython3",
   "version": "3.9.15"
  }
 },
 "nbformat": 4,
 "nbformat_minor": 5
}
