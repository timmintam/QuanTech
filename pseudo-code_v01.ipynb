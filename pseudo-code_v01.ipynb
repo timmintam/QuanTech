{
 "cells": [
  {
   "cell_type": "markdown",
   "id": "185f89ef",
   "metadata": {},
   "source": [
    "    find the equilibrium position\n",
    "        compute energies for different positions\n",
    "        fit the results \n",
    "        extract the minimum"
   ]
  },
  {
   "cell_type": "markdown",
   "id": "9387ffa0",
   "metadata": {},
   "source": [
    "### Numerical parameters :\n",
    "\n",
    "$N$: number of time steps \n",
    "\n",
    "$\\Delta t$: time step\n",
    "\n",
    "$\\Delta R$: step size (for the force)\n",
    "\n",
    "### Physical parameters :\n",
    "\n",
    "$T$ : temperature\n",
    "\n",
    "$r_0$: initial position\n",
    "\n",
    "$v_0$: initial velocity\n",
    "\n",
    "N_atoms: number of atoms\n",
    "\n",
    "dim: dimension"
   ]
  },
  {
   "cell_type": "code",
   "execution_count": null,
   "id": "0742aac5",
   "metadata": {},
   "outputs": [],
   "source": [
    "for n in range(N):\n",
    "    H  = get_qubit_op(r)\n",
    "    norm_Lanczos=<psi_0|(H-d*Id)^2|psi_0>\n",
    "    for i range(N_atoms):\n",
    "        for k in range(dim):\n",
    "            H_plus  = get_qubit_op(r + delta_R*e_ik)\n",
    "            H_minus = get_qubit_op(r - delta_R*e_ik)\n",
    "            # multiciplity ?\n",
    "            O=(H_plus-H_minus)/(2*delta_R)\n",
    "            F[i,k]=<psi_0|O|psi_0>\n",
    "            \n",
    "            O_Lanczos=(H-d*Id)*O*(H-d*Id)/norm_Lanczos\n",
    "            F_L[i,k]=<psi_0|O_Lanczos|psi_0>\n",
    "            \n",
    "            F_singleshot[i,k] = result from one run\n",
    "            \n",
    "            alpha[i,k]=average((F_singleshot[i,k]-F_L[i,k])^2)\n",
    "            \n",
    "            v_new = v_old + delta_t*Eq.(15)\n",
    "            r_new = r_old + delta_t*v_old"
   ]
  },
  {
   "cell_type": "code",
   "execution_count": null,
   "id": "f3a4ffee",
   "metadata": {},
   "outputs": [],
   "source": []
  }
 ],
 "metadata": {
  "kernelspec": {
   "display_name": "Python 3 (ipykernel)",
   "language": "python",
   "name": "python3"
  },
  "language_info": {
   "codemirror_mode": {
    "name": "ipython",
    "version": 3
   },
   "file_extension": ".py",
   "mimetype": "text/x-python",
   "name": "python",
   "nbconvert_exporter": "python",
   "pygments_lexer": "ipython3",
   "version": "3.9.7"
  }
 },
 "nbformat": 4,
 "nbformat_minor": 5
}
